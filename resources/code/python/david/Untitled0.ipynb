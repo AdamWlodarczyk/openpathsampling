{
 "metadata": {
  "name": ""
 },
 "nbformat": 3,
 "nbformat_minor": 0,
 "worksheets": [
  {
   "cells": [
    {
     "cell_type": "markdown",
     "metadata": {},
     "source": [
      "#### This is a test for using MBAR for the MSM-TIS\n",
      "\n",
      "The way we should use it it need way too much memory"
     ]
    },
    {
     "cell_type": "code",
     "collapsed": false,
     "input": [
      "import pymbar\n",
      "import numpy as np"
     ],
     "language": "python",
     "metadata": {},
     "outputs": [],
     "prompt_number": 4
    },
    {
     "cell_type": "code",
     "collapsed": false,
     "input": [
      "dataset = []\n",
      "total = 5000000\n",
      "no_ensembles = 8\n",
      "no_states = 93\n",
      "infenergy=-10\n",
      "set_states = [0,5,10,15,20,25,30,35]\n",
      "for i in range(0,no_ensembles):\n",
      "    data = []\n",
      "    with open('data/lambdas_00' + str(i) + '.data') as f:\n",
      "        for line in f:\n",
      "            numbers_float = map(lambda n : int(float(n)*total), line.split())\n",
      "            data.append(numbers_float)\n",
      "    dataset.append(data[1:])"
     ],
     "language": "python",
     "metadata": {},
     "outputs": [],
     "prompt_number": 11
    },
    {
     "cell_type": "code",
     "collapsed": false,
     "input": [
      "len(dataset[4])"
     ],
     "language": "python",
     "metadata": {},
     "outputs": [
      {
       "metadata": {},
       "output_type": "pyout",
       "prompt_number": 12,
       "text": [
        "93"
       ]
      }
     ],
     "prompt_number": 12
    },
    {
     "cell_type": "code",
     "collapsed": false,
     "input": [
      "u_kln = np.zeros([no_ensembles,no_ensembles,total])"
     ],
     "language": "python",
     "metadata": {},
     "outputs": [],
     "prompt_number": 25
    },
    {
     "cell_type": "code",
     "collapsed": false,
     "input": [
      "for e in range(0,no_ensembles):\n",
      "    for s,p in enumerate(set_states):\n",
      "        l = dataset[e][p][1]\n",
      "        u_kln[e,s,l:] = infenergy "
     ],
     "language": "python",
     "metadata": {},
     "outputs": [],
     "prompt_number": 26
    },
    {
     "cell_type": "code",
     "collapsed": false,
     "input": [
      "u_kln.shape"
     ],
     "language": "python",
     "metadata": {},
     "outputs": [
      {
       "metadata": {},
       "output_type": "pyout",
       "prompt_number": 28,
       "text": [
        "(8, 8, 5000000)"
       ]
      }
     ],
     "prompt_number": 28
    },
    {
     "cell_type": "code",
     "collapsed": false,
     "input": [
      "pymbar.MBAR(u_kln,[5000000] * 8)"
     ],
     "language": "python",
     "metadata": {},
     "outputs": [
      {
       "ename": "ParameterError",
       "evalue": "All N_k must be <= N_max, the third dimension of u_kln[0:K, 0:L, 0:N_max].",
       "output_type": "pyerr",
       "traceback": [
        "\u001b[0;31m---------------------------------------------------------------------------\u001b[0m\n\u001b[0;31mParameterError\u001b[0m                            Traceback (most recent call last)",
        "\u001b[0;32m<ipython-input-29-c64356d76179>\u001b[0m in \u001b[0;36m<module>\u001b[0;34m()\u001b[0m\n\u001b[0;32m----> 1\u001b[0;31m \u001b[0mpymbar\u001b[0m\u001b[0;34m.\u001b[0m\u001b[0mMBAR\u001b[0m\u001b[0;34m(\u001b[0m\u001b[0mu_kln\u001b[0m\u001b[0;34m,\u001b[0m\u001b[0;34m[\u001b[0m\u001b[0;36m5000000\u001b[0m\u001b[0;34m]\u001b[0m \u001b[0;34m*\u001b[0m \u001b[0;36m8\u001b[0m\u001b[0;34m)\u001b[0m\u001b[0;34m\u001b[0m\u001b[0m\n\u001b[0m",
        "\u001b[0;32m/Users/jan-hendrikprinz/anaconda/lib/python2.7/site-packages/pymbar-2.1.0_beta-py2.7-macosx-10.5-x86_64.egg/pymbar/mbar.pyc\u001b[0m in \u001b[0;36m__init__\u001b[0;34m(self, u_kln, N_k, maximum_iterations, relative_tolerance, verbose, initial_f_k, method, use_optimized, newton_first_gamma, newton_self_consistent, maxrange, initialize)\u001b[0m\n\u001b[1;32m    204\u001b[0m         \u001b[0;32mif\u001b[0m \u001b[0mnumpy\u001b[0m\u001b[0;34m.\u001b[0m\u001b[0many\u001b[0m\u001b[0;34m(\u001b[0m\u001b[0mN_k\u001b[0m \u001b[0;34m>\u001b[0m \u001b[0mN_max\u001b[0m\u001b[0;34m)\u001b[0m\u001b[0;34m:\u001b[0m\u001b[0;34m\u001b[0m\u001b[0m\n\u001b[1;32m    205\u001b[0m             raise ParameterError(\n\u001b[0;32m--> 206\u001b[0;31m                 'All N_k must be <= N_max, the third dimension of u_kln[0:K, 0:L, 0:N_max].')\n\u001b[0m\u001b[1;32m    207\u001b[0m \u001b[0;34m\u001b[0m\u001b[0m\n\u001b[1;32m    208\u001b[0m         \u001b[0;31m# Store local copies of other data\u001b[0m\u001b[0;34m\u001b[0m\u001b[0;34m\u001b[0m\u001b[0m\n",
        "\u001b[0;31mParameterError\u001b[0m: All N_k must be <= N_max, the third dimension of u_kln[0:K, 0:L, 0:N_max]."
       ]
      }
     ],
     "prompt_number": 29
    },
    {
     "cell_type": "code",
     "collapsed": false,
     "input": [],
     "language": "python",
     "metadata": {},
     "outputs": []
    },
    {
     "cell_type": "code",
     "collapsed": false,
     "input": [],
     "language": "python",
     "metadata": {},
     "outputs": []
    },
    {
     "cell_type": "code",
     "collapsed": false,
     "input": [
      "u_kln = np.zeros([no_ensembles,no_states,total])"
     ],
     "language": "python",
     "metadata": {},
     "outputs": [],
     "prompt_number": 20
    },
    {
     "cell_type": "code",
     "collapsed": false,
     "input": [
      "for e in range(0,no_ensembles):\n",
      "    for s in range(0,no_states):\n",
      "        l = dataset[e][s][1]\n",
      "        u_kln[e,s,l:] = infenergy"
     ],
     "language": "python",
     "metadata": {},
     "outputs": [],
     "prompt_number": 21
    },
    {
     "cell_type": "code",
     "collapsed": false,
     "input": [
      "pymbar.MBAR(u_kln,[5000000] * 8)"
     ],
     "language": "python",
     "metadata": {},
     "outputs": [
      {
       "metadata": {},
       "output_type": "pyout",
       "prompt_number": 22,
       "text": [
        "0.0"
       ]
      }
     ],
     "prompt_number": 22
    },
    {
     "cell_type": "code",
     "collapsed": false,
     "input": [],
     "language": "python",
     "metadata": {},
     "outputs": []
    }
   ],
   "metadata": {}
  }
 ]
}
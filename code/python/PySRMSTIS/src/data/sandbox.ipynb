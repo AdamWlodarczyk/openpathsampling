{
 "metadata": {
  "name": ""
 },
 "nbformat": 3,
 "nbformat_minor": 0,
 "worksheets": [
  {
   "cells": [
    {
     "cell_type": "code",
     "collapsed": false,
     "input": [
      "from simtk.openmm.app import *\n",
      "from simtk.openmm import *\n",
      "from simtk.unit import *\n",
      "\n",
      "import mdtraj as md\n",
      "import numpy as np"
     ],
     "language": "python",
     "metadata": {},
     "outputs": [],
     "prompt_number": 9
    },
    {
     "cell_type": "code",
     "collapsed": false,
     "input": [
      "ommPDB = PDBFile('input.pdb')"
     ],
     "language": "python",
     "metadata": {},
     "outputs": [],
     "prompt_number": 6
    },
    {
     "cell_type": "code",
     "collapsed": false,
     "input": [
      "mdPDB = md.load('input.pdb')"
     ],
     "language": "python",
     "metadata": {},
     "outputs": [],
     "prompt_number": 7
    },
    {
     "cell_type": "code",
     "collapsed": false,
     "input": [
      "mdPDB"
     ],
     "language": "python",
     "metadata": {},
     "outputs": [
      {
       "metadata": {},
       "output_type": "pyout",
       "prompt_number": 8,
       "text": [
        "<mdtraj.Trajectory with 1 frames, 22 atoms, 3 residues, without unitcells at 0x10b1d2e50>"
       ]
      }
     ],
     "prompt_number": 8
    },
    {
     "cell_type": "code",
     "collapsed": false,
     "input": [
      "mdPDB.topology"
     ],
     "language": "python",
     "metadata": {},
     "outputs": [
      {
       "metadata": {},
       "output_type": "pyout",
       "prompt_number": 9,
       "text": [
        "<mdtraj.Topology with 1 chains, 3 residues, 22 atoms, 21 bonds at 0x10b1dced0>"
       ]
      }
     ],
     "prompt_number": 9
    },
    {
     "cell_type": "code",
     "collapsed": false,
     "input": [
      "ommPDB.topology"
     ],
     "language": "python",
     "metadata": {},
     "outputs": [
      {
       "metadata": {},
       "output_type": "pyout",
       "prompt_number": 10,
       "text": [
        "<simtk.openmm.app.topology.Topology at 0x10b18cf90>"
       ]
      }
     ],
     "prompt_number": 10
    },
    {
     "cell_type": "code",
     "collapsed": false,
     "input": [
      "mdFromOmmPDB = md.Topology.from_openmm(ommPDB.topology)"
     ],
     "language": "python",
     "metadata": {},
     "outputs": [],
     "prompt_number": 12
    },
    {
     "cell_type": "code",
     "collapsed": false,
     "input": [
      "mdPDB"
     ],
     "language": "python",
     "metadata": {},
     "outputs": [
      {
       "metadata": {},
       "output_type": "pyout",
       "prompt_number": 27,
       "text": [
        "<mdtraj.Trajectory with 1 frames, 22 atoms, 3 residues, without unitcells at 0x10b1d2e50>"
       ]
      }
     ],
     "prompt_number": 27
    },
    {
     "cell_type": "code",
     "collapsed": false,
     "input": [
      "import pickle"
     ],
     "language": "python",
     "metadata": {},
     "outputs": [],
     "prompt_number": 3
    },
    {
     "cell_type": "code",
     "collapsed": false,
     "input": [
      "pickle.dumps(mdPDB)"
     ],
     "language": "python",
     "metadata": {},
     "outputs": [
      {
       "metadata": {},
       "output_type": "pyout",
       "prompt_number": 30,
       "text": [
        "'ccopy_reg\\n_reconstructor\\np0\\n(cmdtraj.core.trajectory\\nTrajectory\\np1\\nc__builtin__\\nobject\\np2\\nNtp3\\nRp4\\n(dp5\\nS\\'_unitcell_lengths\\'\\np6\\nNsS\\'_unitcell_angles\\'\\np7\\nNsS\\'_topology\\'\\np8\\ng0\\n(cmdtraj.core.topology\\nTopology\\np9\\ng2\\nNtp10\\nRp11\\n(dp12\\nS\\'_residues\\'\\np13\\n(lp14\\ng0\\n(cmdtraj.core.topology\\nResidue\\np15\\ng2\\nNtp16\\nRp17\\n(dp18\\nS\\'index\\'\\np19\\nI0\\nsS\\'_atoms\\'\\np20\\n(lp21\\ng0\\n(cmdtraj.core.topology\\nAtom\\np22\\ng2\\nNtp23\\nRp24\\n(dp25\\nS\\'residue\\'\\np26\\ng17\\nsg19\\nI0\\nsS\\'name\\'\\np27\\nS\\'H1\\'\\np28\\nsS\\'element\\'\\np29\\ncmdtraj.core.element\\nhydrogen\\np30\\nsbag0\\n(g22\\ng2\\nNtp31\\nRp32\\n(dp33\\ng26\\ng17\\nsg19\\nI1\\nsg27\\nS\\'CH3\\'\\np34\\nsg29\\ncmdtraj.core.element\\ncarbon\\np35\\nsbag0\\n(g22\\ng2\\nNtp36\\nRp37\\n(dp38\\ng26\\ng17\\nsg19\\nI2\\nsg27\\nS\\'H2\\'\\np39\\nsg29\\ng30\\nsbag0\\n(g22\\ng2\\nNtp40\\nRp41\\n(dp42\\ng26\\ng17\\nsg19\\nI3\\nsg27\\nS\\'H3\\'\\np43\\nsg29\\ng30\\nsbag0\\n(g22\\ng2\\nNtp44\\nRp45\\n(dp46\\ng26\\ng17\\nsg19\\nI4\\nsg27\\nS\\'C\\'\\np47\\nsg29\\ng35\\nsbag0\\n(g22\\ng2\\nNtp48\\nRp49\\n(dp50\\ng26\\ng17\\nsg19\\nI5\\nsg27\\nS\\'O\\'\\np51\\nsg29\\ncmdtraj.core.element\\noxygen\\np52\\nsbasg27\\nS\\'ACE\\'\\np53\\nsS\\'chain\\'\\np54\\ng0\\n(cmdtraj.core.topology\\nChain\\np55\\ng2\\nNtp56\\nRp57\\n(dp58\\ng13\\n(lp59\\ng17\\nag0\\n(g15\\ng2\\nNtp60\\nRp61\\n(dp62\\ng19\\nI1\\nsg20\\n(lp63\\ng0\\n(g22\\ng2\\nNtp64\\nRp65\\n(dp66\\ng26\\ng61\\nsg19\\nI6\\nsg27\\nS\\'N\\'\\np67\\nsg29\\ncmdtraj.core.element\\nnitrogen\\np68\\nsbag0\\n(g22\\ng2\\nNtp69\\nRp70\\n(dp71\\ng26\\ng61\\nsg19\\nI7\\nsg27\\nS\\'H\\'\\np72\\nsg29\\ng30\\nsbag0\\n(g22\\ng2\\nNtp73\\nRp74\\n(dp75\\ng26\\ng61\\nsg19\\nI8\\nsg27\\nS\\'CA\\'\\np76\\nsg29\\ng35\\nsbag0\\n(g22\\ng2\\nNtp77\\nRp78\\n(dp79\\ng26\\ng61\\nsg19\\nI9\\nsg27\\nS\\'HA\\'\\np80\\nsg29\\ng30\\nsbag0\\n(g22\\ng2\\nNtp81\\nRp82\\n(dp83\\ng26\\ng61\\nsg19\\nI10\\nsg27\\nS\\'CB\\'\\np84\\nsg29\\ng35\\nsbag0\\n(g22\\ng2\\nNtp85\\nRp86\\n(dp87\\ng26\\ng61\\nsg19\\nI11\\nsg27\\nS\\'HB1\\'\\np88\\nsg29\\ng30\\nsbag0\\n(g22\\ng2\\nNtp89\\nRp90\\n(dp91\\ng26\\ng61\\nsg19\\nI12\\nsg27\\nS\\'HB2\\'\\np92\\nsg29\\ng30\\nsbag0\\n(g22\\ng2\\nNtp93\\nRp94\\n(dp95\\ng26\\ng61\\nsg19\\nI13\\nsg27\\nS\\'HB3\\'\\np96\\nsg29\\ng30\\nsbag0\\n(g22\\ng2\\nNtp97\\nRp98\\n(dp99\\ng26\\ng61\\nsg19\\nI14\\nsg27\\nS\\'C\\'\\np100\\nsg29\\ng35\\nsbag0\\n(g22\\ng2\\nNtp101\\nRp102\\n(dp103\\ng26\\ng61\\nsg19\\nI15\\nsg27\\nS\\'O\\'\\np104\\nsg29\\ng52\\nsbasg27\\nS\\'ALA\\'\\np105\\nsg54\\ng57\\nsS\\'resSeq\\'\\np106\\nI2\\nsbag0\\n(g15\\ng2\\nNtp107\\nRp108\\n(dp109\\ng19\\nI2\\nsg20\\n(lp110\\ng0\\n(g22\\ng2\\nNtp111\\nRp112\\n(dp113\\ng26\\ng108\\nsg19\\nI16\\nsg27\\nS\\'N\\'\\np114\\nsg29\\ng68\\nsbag0\\n(g22\\ng2\\nNtp115\\nRp116\\n(dp117\\ng26\\ng108\\nsg19\\nI17\\nsg27\\nS\\'H\\'\\np118\\nsg29\\ng30\\nsbag0\\n(g22\\ng2\\nNtp119\\nRp120\\n(dp121\\ng26\\ng108\\nsg19\\nI18\\nsg27\\nS\\'C\\'\\np122\\nsg29\\ng35\\nsbag0\\n(g22\\ng2\\nNtp123\\nRp124\\n(dp125\\ng26\\ng108\\nsg19\\nI19\\nsg27\\nS\\'H1\\'\\np126\\nsg29\\ng30\\nsbag0\\n(g22\\ng2\\nNtp127\\nRp128\\n(dp129\\ng26\\ng108\\nsg19\\nI20\\nsg27\\nS\\'H2\\'\\np130\\nsg29\\ng30\\nsbag0\\n(g22\\ng2\\nNtp131\\nRp132\\n(dp133\\ng26\\ng108\\nsg19\\nI21\\nsg27\\nS\\'H3\\'\\np134\\nsg29\\ng30\\nsbasg27\\nS\\'NME\\'\\np135\\nsg54\\ng57\\nsg106\\nI3\\nsbasg19\\nI0\\nsS\\'topology\\'\\np136\\ng11\\nsbsg106\\nI1\\nsbag61\\nag108\\nasS\\'_chains\\'\\np137\\n(lp138\\ng57\\nasS\\'_numAtoms\\'\\np139\\nI22\\nsS\\'_bonds\\'\\np140\\n(lp141\\n(g32\\ng45\\ntp142\\na(g45\\ng49\\ntp143\\na(g24\\ng32\\ntp144\\na(g32\\ng37\\ntp145\\na(g32\\ng41\\ntp146\\na(g45\\ng65\\ntp147\\na(g74\\ng98\\ntp148\\na(g98\\ng102\\ntp149\\na(g74\\ng82\\ntp150\\na(g74\\ng78\\ntp151\\na(g65\\ng74\\ntp152\\na(g82\\ng86\\ntp153\\na(g82\\ng90\\ntp154\\na(g82\\ng94\\ntp155\\na(g65\\ng70\\ntp156\\na(g98\\ng112\\ntp157\\na(g120\\ng124\\ntp158\\na(g120\\ng128\\ntp159\\na(g120\\ng132\\ntp160\\na(g112\\ng120\\ntp161\\na(g112\\ng116\\ntp162\\nasg20\\n(lp163\\ng24\\nag32\\nag37\\nag41\\nag45\\nag49\\nag65\\nag70\\nag74\\nag78\\nag82\\nag86\\nag90\\nag94\\nag98\\nag102\\nag112\\nag116\\nag120\\nag124\\nag128\\nag132\\nasS\\'_numResidues\\'\\np164\\nI3\\nsbsS\\'_rmsd_traces\\'\\np165\\ncnumpy.core.multiarray\\n_reconstruct\\np166\\n(cnumpy\\nndarray\\np167\\n(I0\\ntp168\\nS\\'b\\'\\np169\\ntp170\\nRp171\\n(I1\\n(I1\\ntp172\\ncnumpy\\ndtype\\np173\\n(S\\'f4\\'\\np174\\nI0\\nI1\\ntp175\\nRp176\\n(I3\\nS\\'<\\'\\np177\\nNNNI-1\\nI-1\\nI0\\ntp178\\nbI00\\nS\\'w~\\\\xd7?\\'\\np179\\ntp180\\nbsS\\'_time\\'\\np181\\ng166\\n(g167\\n(I0\\ntp182\\ng169\\ntp183\\nRp184\\n(I1\\n(I1\\ntp185\\ng173\\n(S\\'i8\\'\\np186\\nI0\\nI1\\ntp187\\nRp188\\n(I3\\nS\\'<\\'\\np189\\nNNNI-1\\nI-1\\nI0\\ntp190\\nbI00\\nS\\'\\\\x00\\\\x00\\\\x00\\\\x00\\\\x00\\\\x00\\\\x00\\\\x00\\'\\np191\\ntp192\\nbsS\\'_xyz\\'\\np193\\ng166\\n(g167\\n(I0\\ntp194\\ng169\\ntp195\\nRp196\\n(I1\\n(I1\\nI22\\nI3\\ntp197\\ng176\\nI00\\nS\\'\\\\xc2,\\\\xaa\\\\xbe\\\\xe0W8>c\\\\x17\\\\xe4=\\\\xcdP\\\\x92\\\\xbe\\\\xd1)\\\\xa7=\\\\xcd\\\\xd3\\\\xd8=\\\\xf7\\\\x8a\\\\xa4\\\\xbe\\\\\\\\\\\\xab\\\\xf2<d\\\\n\\\\x8b<m\\\\xfc\\\\x9f\\\\xbe\\\\x98\\\\xf9\\\\xc3<n\\\\xefF>\\\\xa6\\\\xe7\\\\t\\\\xbe\\\\xdaD\\\\xc5=\\\\xc9}\\\\xca=\\\\xbf\\\\x84\\\\xa9\\\\xbd\\\\xe9\\\\x03U>\\\\xa5U\\\\xcc=\\\\xb4\\\\xcf\\\\x82\\\\xbd\\\\x0f\\\\xcd\\\\x87\\\\xbcW\\\\x84\\\\xba=\\\\xaep\\\\xea\\\\xbd\\\\xe5Z\\\\xd5\\\\xbd\\\\xc5\\\\\\'\\\\xbc=4\\\\n\\\\xaa=\\\\x1fi\\\\xbb\\\\xbcz\\\\xce\\\\xb5=o\\\\xe9\\\\xf9=:1b=\\\\xe2\\\\x13\\\\x1e>q\\\\xa5\\\\xff=L|\"\\\\xbes\\\\xb4\\\\x16>\\\\xfd;o>;\\\\xb5\\\\\\'\\\\xbe\\\\x19.\\\\x1e>\\\\xca+\\\\xb8=\\\\xf5mu\\\\xbe\\\\x9b\\\\xed\\\\xa9=\\\\xebl\\\\xa9=\\\\xab\\\\x14/\\\\xbe\\\\xa2\\\\x00}>c\\\\xa2\\\\x15>\\\\x90\\\\xe8\\\\xee:\\\\xaf\\\\xf5N\\\\xbd\\\\xba\\\\xa3\\\\x89>\\\\xee\\\\x92\"<\\\\x98>}\\\\xbdN[\\\\x84=\\\\x03cg<\\\\x9d\\\\xc5\\\\x1f\\\\xbe\"\\\\x9c\\\\r\\\\xbd0\\\\x91\\\\xdf;\\\\x86\\\\x0e\\\\x0e\\\\xbe\\\\xb1\\\\xda\\\\xdd=\\\\x01\\\\xec\\\\x1a=\\\\xe2!\\\\x96\\\\xbe\\\\xe8\\\\x8d\\\\\\'>R\\\\xe2\\\\x06>\\\\x1a\\\\x1a\\\\x99\\\\xbe\\\\xd9\\\\x131>\\\\xccO3\\\\xbd^\\\\x14\\\\xa7\\\\xbed\\\\xfd\\\\xb1<\\\\xe3D2=\\\\xa3\\\\xec\\\\xb7\\\\xbe\\'\\np198\\ntp199\\nbsb.'"
       ]
      }
     ],
     "prompt_number": 30
    },
    {
     "cell_type": "code",
     "collapsed": false,
     "input": [
      "s = 'ccopy_reg\\n_reconstructor\\np0\\n(cmdtraj.core.trajectory\\nTrajectory\\np1\\nc__builtin__\\nobject\\np2\\nNtp3\\nRp4\\n(dp5\\nS\\'_unitcell_lengths\\'\\np6\\nNsS\\'_unitcell_angles\\'\\np7\\nNsS\\'_topology\\'\\np8\\ng0\\n(cmdtraj.core.topology\\nTopology\\np9\\ng2\\nNtp10\\nRp11\\n(dp12\\nS\\'_residues\\'\\np13\\n(lp14\\ng0\\n(cmdtraj.core.topology\\nResidue\\np15\\ng2\\nNtp16\\nRp17\\n(dp18\\nS\\'index\\'\\np19\\nI0\\nsS\\'_atoms\\'\\np20\\n(lp21\\ng0\\n(cmdtraj.core.topology\\nAtom\\np22\\ng2\\nNtp23\\nRp24\\n(dp25\\nS\\'residue\\'\\np26\\ng17\\nsg19\\nI0\\nsS\\'name\\'\\np27\\nS\\'H1\\'\\np28\\nsS\\'element\\'\\np29\\ncmdtraj.core.element\\nhydrogen\\np30\\nsbag0\\n(g22\\ng2\\nNtp31\\nRp32\\n(dp33\\ng26\\ng17\\nsg19\\nI1\\nsg27\\nS\\'CH3\\'\\np34\\nsg29\\ncmdtraj.core.element\\ncarbon\\np35\\nsbag0\\n(g22\\ng2\\nNtp36\\nRp37\\n(dp38\\ng26\\ng17\\nsg19\\nI2\\nsg27\\nS\\'H2\\'\\np39\\nsg29\\ng30\\nsbag0\\n(g22\\ng2\\nNtp40\\nRp41\\n(dp42\\ng26\\ng17\\nsg19\\nI3\\nsg27\\nS\\'H3\\'\\np43\\nsg29\\ng30\\nsbag0\\n(g22\\ng2\\nNtp44\\nRp45\\n(dp46\\ng26\\ng17\\nsg19\\nI4\\nsg27\\nS\\'C\\'\\np47\\nsg29\\ng35\\nsbag0\\n(g22\\ng2\\nNtp48\\nRp49\\n(dp50\\ng26\\ng17\\nsg19\\nI5\\nsg27\\nS\\'O\\'\\np51\\nsg29\\ncmdtraj.core.element\\noxygen\\np52\\nsbasg27\\nS\\'ACE\\'\\np53\\nsS\\'chain\\'\\np54\\ng0\\n(cmdtraj.core.topology\\nChain\\np55\\ng2\\nNtp56\\nRp57\\n(dp58\\ng13\\n(lp59\\ng17\\nag0\\n(g15\\ng2\\nNtp60\\nRp61\\n(dp62\\ng19\\nI1\\nsg20\\n(lp63\\ng0\\n(g22\\ng2\\nNtp64\\nRp65\\n(dp66\\ng26\\ng61\\nsg19\\nI6\\nsg27\\nS\\'N\\'\\np67\\nsg29\\ncmdtraj.core.element\\nnitrogen\\np68\\nsbag0\\n(g22\\ng2\\nNtp69\\nRp70\\n(dp71\\ng26\\ng61\\nsg19\\nI7\\nsg27\\nS\\'H\\'\\np72\\nsg29\\ng30\\nsbag0\\n(g22\\ng2\\nNtp73\\nRp74\\n(dp75\\ng26\\ng61\\nsg19\\nI8\\nsg27\\nS\\'CA\\'\\np76\\nsg29\\ng35\\nsbag0\\n(g22\\ng2\\nNtp77\\nRp78\\n(dp79\\ng26\\ng61\\nsg19\\nI9\\nsg27\\nS\\'HA\\'\\np80\\nsg29\\ng30\\nsbag0\\n(g22\\ng2\\nNtp81\\nRp82\\n(dp83\\ng26\\ng61\\nsg19\\nI10\\nsg27\\nS\\'CB\\'\\np84\\nsg29\\ng35\\nsbag0\\n(g22\\ng2\\nNtp85\\nRp86\\n(dp87\\ng26\\ng61\\nsg19\\nI11\\nsg27\\nS\\'HB1\\'\\np88\\nsg29\\ng30\\nsbag0\\n(g22\\ng2\\nNtp89\\nRp90\\n(dp91\\ng26\\ng61\\nsg19\\nI12\\nsg27\\nS\\'HB2\\'\\np92\\nsg29\\ng30\\nsbag0\\n(g22\\ng2\\nNtp93\\nRp94\\n(dp95\\ng26\\ng61\\nsg19\\nI13\\nsg27\\nS\\'HB3\\'\\np96\\nsg29\\ng30\\nsbag0\\n(g22\\ng2\\nNtp97\\nRp98\\n(dp99\\ng26\\ng61\\nsg19\\nI14\\nsg27\\nS\\'C\\'\\np100\\nsg29\\ng35\\nsbag0\\n(g22\\ng2\\nNtp101\\nRp102\\n(dp103\\ng26\\ng61\\nsg19\\nI15\\nsg27\\nS\\'O\\'\\np104\\nsg29\\ng52\\nsbasg27\\nS\\'ALA\\'\\np105\\nsg54\\ng57\\nsS\\'resSeq\\'\\np106\\nI2\\nsbag0\\n(g15\\ng2\\nNtp107\\nRp108\\n(dp109\\ng19\\nI2\\nsg20\\n(lp110\\ng0\\n(g22\\ng2\\nNtp111\\nRp112\\n(dp113\\ng26\\ng108\\nsg19\\nI16\\nsg27\\nS\\'N\\'\\np114\\nsg29\\ng68\\nsbag0\\n(g22\\ng2\\nNtp115\\nRp116\\n(dp117\\ng26\\ng108\\nsg19\\nI17\\nsg27\\nS\\'H\\'\\np118\\nsg29\\ng30\\nsbag0\\n(g22\\ng2\\nNtp119\\nRp120\\n(dp121\\ng26\\ng108\\nsg19\\nI18\\nsg27\\nS\\'C\\'\\np122\\nsg29\\ng35\\nsbag0\\n(g22\\ng2\\nNtp123\\nRp124\\n(dp125\\ng26\\ng108\\nsg19\\nI19\\nsg27\\nS\\'H1\\'\\np126\\nsg29\\ng30\\nsbag0\\n(g22\\ng2\\nNtp127\\nRp128\\n(dp129\\ng26\\ng108\\nsg19\\nI20\\nsg27\\nS\\'H2\\'\\np130\\nsg29\\ng30\\nsbag0\\n(g22\\ng2\\nNtp131\\nRp132\\n(dp133\\ng26\\ng108\\nsg19\\nI21\\nsg27\\nS\\'H3\\'\\np134\\nsg29\\ng30\\nsbasg27\\nS\\'NME\\'\\np135\\nsg54\\ng57\\nsg106\\nI3\\nsbasg19\\nI0\\nsS\\'topology\\'\\np136\\ng11\\nsbsg106\\nI1\\nsbag61\\nag108\\nasS\\'_chains\\'\\np137\\n(lp138\\ng57\\nasS\\'_numAtoms\\'\\np139\\nI22\\nsS\\'_bonds\\'\\np140\\n(lp141\\n(g32\\ng45\\ntp142\\na(g45\\ng49\\ntp143\\na(g24\\ng32\\ntp144\\na(g32\\ng37\\ntp145\\na(g32\\ng41\\ntp146\\na(g45\\ng65\\ntp147\\na(g74\\ng98\\ntp148\\na(g98\\ng102\\ntp149\\na(g74\\ng82\\ntp150\\na(g74\\ng78\\ntp151\\na(g65\\ng74\\ntp152\\na(g82\\ng86\\ntp153\\na(g82\\ng90\\ntp154\\na(g82\\ng94\\ntp155\\na(g65\\ng70\\ntp156\\na(g98\\ng112\\ntp157\\na(g120\\ng124\\ntp158\\na(g120\\ng128\\ntp159\\na(g120\\ng132\\ntp160\\na(g112\\ng120\\ntp161\\na(g112\\ng116\\ntp162\\nasg20\\n(lp163\\ng24\\nag32\\nag37\\nag41\\nag45\\nag49\\nag65\\nag70\\nag74\\nag78\\nag82\\nag86\\nag90\\nag94\\nag98\\nag102\\nag112\\nag116\\nag120\\nag124\\nag128\\nag132\\nasS\\'_numResidues\\'\\np164\\nI3\\nsbsS\\'_rmsd_traces\\'\\np165\\ncnumpy.core.multiarray\\n_reconstruct\\np166\\n(cnumpy\\nndarray\\np167\\n(I0\\ntp168\\nS\\'b\\'\\np169\\ntp170\\nRp171\\n(I1\\n(I1\\ntp172\\ncnumpy\\ndtype\\np173\\n(S\\'f4\\'\\np174\\nI0\\nI1\\ntp175\\nRp176\\n(I3\\nS\\'<\\'\\np177\\nNNNI-1\\nI-1\\nI0\\ntp178\\nbI00\\nS\\'w~\\\\xd7?\\'\\np179\\ntp180\\nbsS\\'_time\\'\\np181\\ng166\\n(g167\\n(I0\\ntp182\\ng169\\ntp183\\nRp184\\n(I1\\n(I1\\ntp185\\ng173\\n(S\\'i8\\'\\np186\\nI0\\nI1\\ntp187\\nRp188\\n(I3\\nS\\'<\\'\\np189\\nNNNI-1\\nI-1\\nI0\\ntp190\\nbI00\\nS\\'\\\\x00\\\\x00\\\\x00\\\\x00\\\\x00\\\\x00\\\\x00\\\\x00\\'\\np191\\ntp192\\nbsS\\'_xyz\\'\\np193\\ng166\\n(g167\\n(I0\\ntp194\\ng169\\ntp195\\nRp196\\n(I1\\n(I1\\nI22\\nI3\\ntp197\\ng176\\nI00\\nS\\'\\\\xc2,\\\\xaa\\\\xbe\\\\xe0W8>c\\\\x17\\\\xe4=\\\\xcdP\\\\x92\\\\xbe\\\\xd1)\\\\xa7=\\\\xcd\\\\xd3\\\\xd8=\\\\xf7\\\\x8a\\\\xa4\\\\xbe\\\\\\\\\\\\xab\\\\xf2<d\\\\n\\\\x8b<m\\\\xfc\\\\x9f\\\\xbe\\\\x98\\\\xf9\\\\xc3<n\\\\xefF>\\\\xa6\\\\xe7\\\\t\\\\xbe\\\\xdaD\\\\xc5=\\\\xc9}\\\\xca=\\\\xbf\\\\x84\\\\xa9\\\\xbd\\\\xe9\\\\x03U>\\\\xa5U\\\\xcc=\\\\xb4\\\\xcf\\\\x82\\\\xbd\\\\x0f\\\\xcd\\\\x87\\\\xbcW\\\\x84\\\\xba=\\\\xaep\\\\xea\\\\xbd\\\\xe5Z\\\\xd5\\\\xbd\\\\xc5\\\\\\'\\\\xbc=4\\\\n\\\\xaa=\\\\x1fi\\\\xbb\\\\xbcz\\\\xce\\\\xb5=o\\\\xe9\\\\xf9=:1b=\\\\xe2\\\\x13\\\\x1e>q\\\\xa5\\\\xff=L|\"\\\\xbes\\\\xb4\\\\x16>\\\\xfd;o>;\\\\xb5\\\\\\'\\\\xbe\\\\x19.\\\\x1e>\\\\xca+\\\\xb8=\\\\xf5mu\\\\xbe\\\\x9b\\\\xed\\\\xa9=\\\\xebl\\\\xa9=\\\\xab\\\\x14/\\\\xbe\\\\xa2\\\\x00}>c\\\\xa2\\\\x15>\\\\x90\\\\xe8\\\\xee:\\\\xaf\\\\xf5N\\\\xbd\\\\xba\\\\xa3\\\\x89>\\\\xee\\\\x92\"<\\\\x98>}\\\\xbdN[\\\\x84=\\\\x03cg<\\\\x9d\\\\xc5\\\\x1f\\\\xbe\"\\\\x9c\\\\r\\\\xbd0\\\\x91\\\\xdf;\\\\x86\\\\x0e\\\\x0e\\\\xbe\\\\xb1\\\\xda\\\\xdd=\\\\x01\\\\xec\\\\x1a=\\\\xe2!\\\\x96\\\\xbe\\\\xe8\\\\x8d\\\\\\'>R\\\\xe2\\\\x06>\\\\x1a\\\\x1a\\\\x99\\\\xbe\\\\xd9\\\\x131>\\\\xccO3\\\\xbd^\\\\x14\\\\xa7\\\\xbed\\\\xfd\\\\xb1<\\\\xe3D2=\\\\xa3\\\\xec\\\\xb7\\\\xbe\\'\\np198\\ntp199\\nbsb.'"
     ],
     "language": "python",
     "metadata": {},
     "outputs": [],
     "prompt_number": 1
    },
    {
     "cell_type": "code",
     "collapsed": false,
     "input": [
      "s = pickle.dumps(mdPDB)"
     ],
     "language": "python",
     "metadata": {},
     "outputs": [],
     "prompt_number": 31
    },
    {
     "cell_type": "code",
     "collapsed": false,
     "input": [
      "testPDB = pickle.loads(s)"
     ],
     "language": "python",
     "metadata": {},
     "outputs": [],
     "prompt_number": 4
    },
    {
     "cell_type": "code",
     "collapsed": false,
     "input": [
      "v = np.array([1,3,2,4,2,1,23,22,3,2,1,2])"
     ],
     "language": "python",
     "metadata": {},
     "outputs": [],
     "prompt_number": 11
    },
    {
     "cell_type": "code",
     "collapsed": false,
     "input": [
      "v[1:10:3]"
     ],
     "language": "python",
     "metadata": {},
     "outputs": [
      {
       "metadata": {},
       "output_type": "pyout",
       "prompt_number": 13,
       "text": [
        "array([ 3,  2, 22])"
       ]
      }
     ],
     "prompt_number": 13
    },
    {
     "cell_type": "code",
     "collapsed": false,
     "input": [
      "v[slice(1,10,3)]"
     ],
     "language": "python",
     "metadata": {},
     "outputs": [
      {
       "metadata": {},
       "output_type": "pyout",
       "prompt_number": 14,
       "text": [
        "array([ 3,  2, 22])"
       ]
      }
     ],
     "prompt_number": 14
    },
    {
     "cell_type": "code",
     "collapsed": false,
     "input": [
      "slice(1,3,10)"
     ],
     "language": "python",
     "metadata": {},
     "outputs": [
      {
       "metadata": {},
       "output_type": "pyout",
       "prompt_number": 19,
       "text": [
        "slice(1, 3, 10)"
       ]
      }
     ],
     "prompt_number": 19
    },
    {
     "cell_type": "code",
     "collapsed": false,
     "input": [
      "def fnc(a,b):\n",
      "    print a\n",
      "    print b\n",
      "    print v[a]"
     ],
     "language": "python",
     "metadata": {},
     "outputs": [],
     "prompt_number": 20
    },
    {
     "cell_type": "code",
     "collapsed": false,
     "input": [
      "fnc(None,2)"
     ],
     "language": "python",
     "metadata": {},
     "outputs": [
      {
       "output_type": "stream",
       "stream": "stdout",
       "text": [
        "None\n",
        "2\n",
        "[[ 1  3  2  4  2  1 23 22  3  2  1  2]]\n"
       ]
      }
     ],
     "prompt_number": 31
    },
    {
     "cell_type": "code",
     "collapsed": false,
     "input": [
      "v[[0,-1]]"
     ],
     "language": "python",
     "metadata": {},
     "outputs": [
      {
       "metadata": {},
       "output_type": "pyout",
       "prompt_number": 41,
       "text": [
        "array([1, 2])"
       ]
      }
     ],
     "prompt_number": 41
    },
    {
     "cell_type": "code",
     "collapsed": false,
     "input": [
      "v"
     ],
     "language": "python",
     "metadata": {},
     "outputs": [
      {
       "metadata": {},
       "output_type": "pyout",
       "prompt_number": 42,
       "text": [
        "array([ 1,  3,  2,  4,  2,  1, 23, 22,  3,  2,  1,  2])"
       ]
      }
     ],
     "prompt_number": 42
    },
    {
     "cell_type": "code",
     "collapsed": false,
     "input": [
      "w = [ 1,  3,  2,  4,  2,  1, 23, 22,  3,  2,  1,  2]"
     ],
     "language": "python",
     "metadata": {},
     "outputs": [],
     "prompt_number": 43
    },
    {
     "cell_type": "code",
     "collapsed": false,
     "input": [
      "v[[0,1]]"
     ],
     "language": "python",
     "metadata": {},
     "outputs": [
      {
       "metadata": {},
       "output_type": "pyout",
       "prompt_number": 45,
       "text": [
        "array([1, 3])"
       ]
      }
     ],
     "prompt_number": 45
    },
    {
     "cell_type": "code",
     "collapsed": false,
     "input": [],
     "language": "python",
     "metadata": {},
     "outputs": []
    }
   ],
   "metadata": {}
  }
 ]
}
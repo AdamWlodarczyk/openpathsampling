{
 "metadata": {
  "name": "",
  "signature": "sha256:705becdbbf1c3e60fbdbcb060754cf8ef278659b70a1b800780483230d98c318"
 },
 "nbformat": 3,
 "nbformat_minor": 0,
 "worksheets": [
  {
   "cells": [
    {
     "cell_type": "code",
     "collapsed": false,
     "input": [
      "# Imports for plotting\n",
      "%matplotlib inline\n",
      "import matplotlib\n",
      "import matplotlib.pyplot as plt\n",
      "import matplotlib.pylab as pylab\n",
      "from matplotlib.legend_handler import HandlerLine2D\n",
      "import numpy as np\n",
      "\n",
      "# A little class we use for visualizing these 2D PESs\n",
      "class CallablePES(object):\n",
      "    def __init__(self, pes):\n",
      "        self.pes = pes\n",
      "    \n",
      "    def __call__(self, x, y):\n",
      "        self.positions = [x, y]\n",
      "        return pes.V(self)\n",
      "    "
     ],
     "language": "python",
     "metadata": {},
     "outputs": [],
     "prompt_number": 20
    },
    {
     "cell_type": "markdown",
     "metadata": {},
     "source": [
      "# Setting up RETIS on a Toy Model\n",
      "\n",
      "This example shows how to set up a RETIS calculation. We do this on a simple 2D model so it can be fast enough for an interactive example, but the basic approach applies to larger systems as well. Although I'll describe everything here in terms of 2-state systems, all the ideas generalize when setting up multiple-state systems (you just need to find more initial paths)."
     ]
    },
    {
     "cell_type": "markdown",
     "metadata": {},
     "source": [
      "## Getting an initial path\n",
      "\n",
      "RETIS is a path sampling method: it requires that the user supply an input path for each path ensemble. This means that you must somehow generate a first input path. In general, getting the first input paths for RETIS boils down to solving two problems:\n",
      "\n",
      "1. Getting a trajectory that samples the rare event.\n",
      "2. Filling all the path ensembles with acceptable trajectories.\n",
      "\n",
      "Since transition paths satisfy all the path ensembles between two states, a common approach is to use the same initial path for all path ensembles (reversing it where necessary). This way, once you've solved problem 1, problem 2 is trivial.\n",
      "\n",
      "The first rare path can come from any number of sources. The obvious approach might be to find a transition path from a committor analysis, because this would give you a path that satisfies the true dynamics. However, the initial path doesn't need to satisfy the true dynamics of the system (later we will equilibrate the path ensemble anyway). This means that other approaches, such as high-temperature trajectories, can be used for the first path. One of the most widely-used methods to get an initial trajectory is to generate a transition trajectory using metadynamics. However, the downside of using paths that don't satisfy the true dynamics is that it might be harder to get them to equilibrate to the correct path ensemble. It seems that this has been more of a problem with paths from high temperature runs than with paths from metadynamics. ???TODO: double check this with Peter, but I thought that was why we use metaD???\n",
      "\n",
      "In this example, we use a bootstrapping approach, which does create paths satisfying the true dynamics of the system. This bootstrapping is nice because it is quick and convenient, although it works best on smaller systems with less complicated transitions. It works by running normal MD to generate a path that satisfies the innermost interface, and then performing shooting moves on that path in that interface's path ensemble until we have a path that crosses the next interface. Then we switch to the path ensemble for the next interface, and shoot until the path crossing the interface after that. The process continues until we have paths for all interfaces."
     ]
    },
    {
     "cell_type": "markdown",
     "metadata": {},
     "source": [
      "### Basic system setup\n",
      "\n",
      "First we set up our system: for the toy dynamics, this involves defining a potential energy surface (PES), setting up an integrator, and giving the simulation an initial configuration. In real MD systems, the PES is handled by the combination of a topology file and a force field definition, and the initial configuration would come from a file instead of being described by hand."
     ]
    },
    {
     "cell_type": "code",
     "collapsed": false,
     "input": [
      "from opentis.toy_dynamics.toy_simulation import ToySimulation\n",
      "from opentis.toy_dynamics.toy_integrators import LangevinBAOABIntegrator\n",
      "from opentis.toy_dynamics.toy_pes import Gaussian, OuterWalls\n",
      "from opentis.snapshot import Snapshot"
     ],
     "language": "python",
     "metadata": {},
     "outputs": [],
     "prompt_number": 8
    },
    {
     "cell_type": "code",
     "collapsed": false,
     "input": [
      "# Toy_PES supports adding/subtracting various PESs. The OuterWalls PES type gives an x^6+y^6 boundary to the system\n",
      "pes = OuterWalls([1.0, 1.0], [0.0, 0.0])\n",
      "integ = LangevinBAOABIntegrator(dt=0.02, temperature=0.1, gamma=1.0)\n",
      "sim = ToySimulation(pes, integ)\n",
      "sim.init_simulation_with_snapshot(Snapshot(coordinates=[-0.5, 0.0], velocities=[0.0,0.0]))"
     ],
     "language": "python",
     "metadata": {},
     "outputs": [],
     "prompt_number": 10
    },
    {
     "cell_type": "markdown",
     "metadata": {},
     "source": [
      "Now let's take a look at our PES and our initial configuration:"
     ]
    },
    {
     "cell_type": "code",
     "collapsed": false,
     "input": [
      "pes_V = np.vectorize(vis_pes(pes))\n",
      "range_x = np.arange(-1.2, 1.2, 0.025)\n",
      "range_y = np.arange(-1.2, 1.2, 0.025)\n",
      "X, Y = np.meshgrid(range_x, range_y)\n",
      "CS = plt.contour(X, Y, pes_V(X,Y), colors='k')"
     ],
     "language": "python",
     "metadata": {},
     "outputs": [
      {
       "metadata": {},
       "output_type": "display_data",
       "png": "[encoded data removed]",
       "text": [
        "<matplotlib.figure.Figure at 0x1085ae590>"
       ]
      }
     ],
     "prompt_number": 27
    },
    {
     "cell_type": "markdown",
     "metadata": {},
     "source": [
      "### Interface setup\n",
      "\n",
      "One downside of the bootstrapping approach is that we need to have defined our interfaces before we start. However, we can always easily change our initial interface guesses."
     ]
    },
    {
     "cell_type": "markdown",
     "metadata": {},
     "source": [
      "### Innermost interface path"
     ]
    },
    {
     "cell_type": "markdown",
     "metadata": {},
     "source": [
      "### Bootstrapping"
     ]
    },
    {
     "cell_type": "markdown",
     "metadata": {},
     "source": [
      "## Equilibration in the Path Ensemble"
     ]
    },
    {
     "cell_type": "code",
     "collapsed": false,
     "input": [],
     "language": "python",
     "metadata": {},
     "outputs": []
    }
   ],
   "metadata": {}
  }
 ]
}
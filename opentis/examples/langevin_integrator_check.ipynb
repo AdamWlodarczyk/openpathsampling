{
 "metadata": {
  "name": "",
  "signature": "sha256:d892f352ed1bd0bf4d947fac7730a36ec17884a4dd95f0303e28c1f40b85b154"
 },
 "nbformat": 3,
 "nbformat_minor": 0,
 "worksheets": [
  {
   "cells": [
    {
     "cell_type": "markdown",
     "metadata": {},
     "source": [
      "# Langevin Integrator Check\n",
      "\n",
      "The `toy_dynamics` subpackage provides an integrator called `LangevinBAOABIntegrator`, which is based on [a paper by Leimkuhler and Matthews](http://dx.doi.org/10.1093/amrx/abs010). This notebook uses the `toy_dynamics` package to check that the integrator gives the correct position and velocity distribution for a harmonic oscillator.\n",
      "\n",
      "Note that this particular test does not make use of the trajectory storage tools. The trajectory generated here is extremely long, so in this case we choose not to store it. For an example using `toy_dynamics` with the storage tools, see ???(to be added later)???."
     ]
    },
    {
     "cell_type": "markdown",
     "metadata": {},
     "source": [
      "### Imports"
     ]
    },
    {
     "cell_type": "code",
     "collapsed": false,
     "input": [
      "from opentis.snapshot import Snapshot\n",
      "from opentis.toy_dynamics.toy_simulation import ToySimulation\n",
      "from opentis.toy_dynamics.toy_integrators import LangevinBAOABIntegrator\n",
      "from opentis.toy_dynamics.toy_pes import HarmonicOscillator\n",
      "import numpy as np"
     ],
     "language": "python",
     "metadata": {},
     "outputs": [],
     "prompt_number": 3
    },
    {
     "cell_type": "markdown",
     "metadata": {},
     "source": [
      "### Set up the simulation\n",
      "\n",
      "This the potential energy surface is $V(x,y) = \\frac{A[0]}{2}m[0] \\omega[0] (x-x_0[0])^2 + \\frac{A[1]}{2}m[1] \\omega[1] (y-x_0[1])^2$"
     ]
    },
    {
     "cell_type": "code",
     "collapsed": false,
     "input": [
      "my_pes = HarmonicOscillator(A=[1.0, 1.0], omega=[1.0, 1.0], x0=[0.0, 0.0])\n",
      "my_integ = LangevinBAOABIntegrator(dt=0.002, temperature=0.5, gamma=1.0)\n",
      "sim = ToySimulation(my_pes, my_integ)\n",
      "sim.mass = np.array([1.0, 1.0])"
     ],
     "language": "python",
     "metadata": {},
     "outputs": [],
     "prompt_number": 4
    },
    {
     "cell_type": "code",
     "collapsed": false,
     "input": [
      "nsteps = 1000000\n",
      "sim.nsteps_per_iteration = 50"
     ],
     "language": "python",
     "metadata": {},
     "outputs": [],
     "prompt_number": 5
    },
    {
     "cell_type": "code",
     "collapsed": false,
     "input": [
      "snap = Snapshot(coordinates=np.array([0.0, 0.0]), velocities=np.array([0.1, 0.0]))\n",
      "sim.init_simulation_with_snapshot(snap)"
     ],
     "language": "python",
     "metadata": {},
     "outputs": [],
     "prompt_number": 6
    },
    {
     "cell_type": "code",
     "collapsed": false,
     "input": [
      "x1 = []\n",
      "x2 = []\n",
      "v1 = []\n",
      "v2 = []"
     ],
     "language": "python",
     "metadata": {},
     "outputs": [],
     "prompt_number": 7
    },
    {
     "cell_type": "markdown",
     "metadata": {},
     "source": [
      "### Run the simulation\n",
      "\n",
      "This might take a while..."
     ]
    },
    {
     "cell_type": "code",
     "collapsed": false,
     "input": [
      "for i in range(nsteps):\n",
      "    # generate the next frame (which is sim.nsteps_per_iteration timesteps)\n",
      "    snap = sim.generate_next_frame()\n",
      "    # sample the information desired to check distributions\n",
      "    pos = snap.coordinates\n",
      "    vel = snap.velocities\n",
      "    x1.append(pos[0])\n",
      "    x2.append(pos[1])\n",
      "    v1.append(vel[0])\n",
      "    v2.append(vel[1])"
     ],
     "language": "python",
     "metadata": {},
     "outputs": [],
     "prompt_number": 8
    },
    {
     "cell_type": "code",
     "collapsed": false,
     "input": [
      "nbins = 50\n",
      "rrange = (-2.5, 2.5)\n",
      "dens = True\n",
      "(x1hist, bins) = np.histogram(x1, bins=nbins, range=rrange, density=dens)\n",
      "x2hist = np.histogram(x2, bins=nbins, range=rrange, density=dens)[0]\n",
      "v1hist = np.histogram(v1, bins=nbins, range=rrange, density=dens)[0]\n",
      "v2hist = np.histogram(v2, bins=nbins, range=rrange, density=dens)[0]"
     ],
     "language": "python",
     "metadata": {},
     "outputs": [],
     "prompt_number": 9
    },
    {
     "cell_type": "code",
     "collapsed": false,
     "input": [
      "%matplotlib inline\n",
      "import matplotlib.pyplot as plt\n",
      "import numpy as np"
     ],
     "language": "python",
     "metadata": {},
     "outputs": [],
     "prompt_number": 10
    },
    {
     "cell_type": "code",
     "collapsed": false,
     "input": [
      "# Boltzmann info as a in exp(-ax^2)\n",
      "boltzmann_vel1 = 0.5*sim.integ.beta*sim.mass[0]\n",
      "boltzmann_pos1 = 0.5*sim.integ.beta*sim.mass[0]*sim.pes.omega[0]**2\n",
      "plotbins = [0.5*(bins[i]+bins[i+1]) for i in range(len(bins)-1)]\n",
      "x = np.linspace(min(plotbins), max(plotbins), 5*len(plotbins))\n",
      "gaussians = plt.plot(plotbins, x1hist, plotbins, x2hist, plotbins, v1hist, plotbins, v2hist,\n",
      "                     x, np.sqrt(boltzmann_vel1/np.pi)*np.exp(-boltzmann_vel1*x**2),\n",
      "                     x, np.sqrt(boltzmann_pos1/np.pi)*np.exp(-boltzmann_pos1*x**2)\n",
      "                    )"
     ],
     "language": "python",
     "metadata": {},
     "outputs": [
      {
       "metadata": {},
       "output_type": "display_data",
       "png": "[encoded data removed]",
       "text": [
        "<matplotlib.figure.Figure at 0x10dd8e810>"
       ]
      }
     ],
     "prompt_number": 11
    },
    {
     "cell_type": "code",
     "collapsed": false,
     "input": [],
     "language": "python",
     "metadata": {},
     "outputs": [],
     "prompt_number": 11
    }
   ],
   "metadata": {}
  }
 ]
}
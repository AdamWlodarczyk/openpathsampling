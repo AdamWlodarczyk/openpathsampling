{
 "cells": [
  {
   "cell_type": "markdown",
   "metadata": {},
   "source": [
    "# Running an MSTIS simulation\n",
    "\n",
    "Now we will use the initial trajectories we obtained from bootstrapping to run an MSTIS simulation. This will show both how objects can be regenerated from storage and how regenerated equivalent objects can be used in place of objects that weren't stored.\n",
    "\n",
    "Tasks covered in this notebook:\n",
    "* Loading OPS objects from storage\n",
    "* Ways of assigning initial trajectories to initial samples\n",
    "* Setting up a path sampling simulation with various move schemes\n",
    "* Visualizing trajectories while the path sampling is running"
   ]
  },
  {
   "cell_type": "code",
   "execution_count": 1,
   "metadata": {},
   "outputs": [],
   "source": [
    "%matplotlib inline\n",
    "import openpathsampling as paths\n",
    "import numpy as np"
   ]
  },
  {
   "cell_type": "markdown",
   "metadata": {},
   "source": [
    "### Loading things from storage\n",
    "\n",
    "First we'll reload some of the stuff we stored before. Of course, this starts with opening the file."
   ]
  },
  {
   "cell_type": "code",
   "execution_count": 2,
   "metadata": {},
   "outputs": [],
   "source": [
    "old_store = paths.AnalysisStorage(\"mstis_bootstrap.nc\")"
   ]
  },
  {
   "cell_type": "markdown",
   "metadata": {},
   "source": [
    "A lot of information can be recovered from the old storage, and so we don't have the recreate it. However, we did not save our network, so we'll have to create a new one. Since the network creates the ensembles, that means we will have to translate the trajectories from the old ensembles to new ensembles."
   ]
  },
  {
   "cell_type": "code",
   "execution_count": 3,
   "metadata": {},
   "outputs": [
    {
     "name": "stdout",
     "output_type": "stream",
     "text": [
      "PathMovers: 0\n",
      "Samples: 10\n",
      "Ensembles: 100\n",
      "SampleSets: 1\n",
      "Snapshots: 1210\n",
      "Networks: 0\n"
     ]
    }
   ],
   "source": [
    "print \"PathMovers:\", len(old_store.pathmovers)\n",
    "print \"Samples:\", len(old_store.samples)\n",
    "print \"Ensembles:\", len(old_store.ensembles)\n",
    "print \"SampleSets:\", len(old_store.samplesets)\n",
    "print \"Snapshots:\", len(old_store.snapshots)\n",
    "print \"Networks:\", len(old_store.networks)"
   ]
  },
  {
   "cell_type": "markdown",
   "metadata": {},
   "source": [
    "Loading from storage is very easy. Each store is a list. We take the 0th snapshot as a template (it doesn't actually matter which one) for the next storage we'll create. There's only one engine stored, so we take the only one."
   ]
  },
  {
   "cell_type": "code",
   "execution_count": 4,
   "metadata": {},
   "outputs": [],
   "source": [
    "template = old_store.snapshots[0]"
   ]
  },
  {
   "cell_type": "code",
   "execution_count": 5,
   "metadata": {},
   "outputs": [],
   "source": [
    "engine = old_store.engines[0]"
   ]
  },
  {
   "cell_type": "markdown",
   "metadata": {},
   "source": [
    "Named objects can be found in storage by using their name as a dictionary key. This allows us to load our old collective variables and states."
   ]
  },
  {
   "cell_type": "code",
   "execution_count": 6,
   "metadata": {},
   "outputs": [],
   "source": [
    "opA = old_store.cvs['opA']\n",
    "opB = old_store.cvs['opB']\n",
    "opC = old_store.cvs['opC']"
   ]
  },
  {
   "cell_type": "code",
   "execution_count": 7,
   "metadata": {},
   "outputs": [],
   "source": [
    "stateA = old_store.volumes['A']\n",
    "stateB = old_store.volumes['B']\n",
    "stateC = old_store.volumes['C']"
   ]
  },
  {
   "cell_type": "code",
   "execution_count": 8,
   "metadata": {
    "collapsed": true
   },
   "outputs": [],
   "source": [
    "# we could also load the interfaces, but it takes less code to build new ones:\n",
    "interfacesA = paths.VolumeInterfaceSet(opA, 0.0,[0.2, 0.3, 0.4])\n",
    "interfacesB = paths.VolumeInterfaceSet(opB, 0.0,[0.2, 0.3, 0.4])\n",
    "interfacesC = paths.VolumeInterfaceSet(opC, 0.0,[0.2, 0.3, 0.4])"
   ]
  },
  {
   "cell_type": "markdown",
   "metadata": {},
   "source": [
    "Once again, we have everything we need to build the MSTIS network. Recall that this will create all the ensembles we need for the simulation. However, even though the ensembles are semantically the same, these are not the same objects. We'll need to deal with that later."
   ]
  },
  {
   "cell_type": "code",
   "execution_count": 9,
   "metadata": {},
   "outputs": [],
   "source": [
    "ms_outers = paths.MSOuterTISInterface.from_lambdas(\n",
    "    {ifaces: 0.5 \n",
    "     for ifaces in [interfacesA, interfacesB, interfacesC]}\n",
    ")\n",
    "mstis = paths.MSTISNetwork(\n",
    "    [(stateA, interfacesA),\n",
    "     (stateB, interfacesB),\n",
    "     (stateC, interfacesC)],\n",
    "    ms_outers=ms_outers\n",
    ")"
   ]
  },
  {
   "cell_type": "markdown",
   "metadata": {
    "collapsed": true
   },
   "source": [
    "Now we need to set up real trajectories that we can use for each of these. We can start by loading the stored sampleset."
   ]
  },
  {
   "cell_type": "code",
   "execution_count": 10,
   "metadata": {},
   "outputs": [],
   "source": [
    "# load the sampleset we have saved before\n",
    "old_sampleset = old_store.samplesets[0]"
   ]
  },
  {
   "cell_type": "markdown",
   "metadata": {},
   "source": [
    "#### About `Sample`s\n",
    "\n",
    "The OPS object called `Sample` is used to associate a trajectory with a replica ID and an ensemble. The trajectory needs to be associated with an ensemble so we know how to get correct statistics from the many ensembles that we might be sampling simultaneously. The trajectory needs to be associated with a replica ID so that replica exchange approaches can be analyzed.\n",
    "\n"
   ]
  },
  {
   "cell_type": "markdown",
   "metadata": {},
   "source": [
    "Since the ensembles in our MSTIS network are not the exact ensemble objects that we saved our samples with (they were rebuilt), we still need a way to identify which of the new ensembles to associate them with.\n",
    "\n",
    "There are two main ways to do this. The first is to take one trajectory, and associate it with as many ensembles as possible. If your first path comes from a TPS simulation, that is the approach you'll want to take.\n",
    "\n",
    "The second approach is better suited to our conditions here: we already have a good trajectory for each ensemble. So we just want to remap our old ensembles to new ones."
   ]
  },
  {
   "cell_type": "markdown",
   "metadata": {},
   "source": [
    "### Loading one trajectory into lots of ensembles"
   ]
  },
  {
   "cell_type": "code",
   "execution_count": 11,
   "metadata": {},
   "outputs": [
    {
     "name": "stdout",
     "output_type": "stream",
     "text": [
      "(<openpathsampling.engines.toy.snapshot.ToySnapshot object at 0x10869aa90>, 119821506910823800303319164102417322217L, store.snapshots[BaseSnapshot] : 1210 object(s))\n",
      "(<openpathsampling.engines.toy.snapshot.ToySnapshot object at 0x10869ae10>, 119821506910823800303319164102417322201L, store.snapshots[BaseSnapshot] : 1210 object(s))\n",
      "(<openpathsampling.engines.toy.snapshot.ToySnapshot object at 0x1179687d0>, 119821506910823800303319164102417326516L, store.snapshots[BaseSnapshot] : 1210 object(s))\n",
      "(<openpathsampling.engines.toy.snapshot.ToySnapshot object at 0x117968590>, 119821506910823800303319164102417326534L, store.snapshots[BaseSnapshot] : 1210 object(s))\n",
      "(<openpathsampling.engines.toy.snapshot.ToySnapshot object at 0x1179685d0>, 119821506910823800303319164102417326552L, store.snapshots[BaseSnapshot] : 1210 object(s))\n",
      "(<openpathsampling.engines.toy.snapshot.ToySnapshot object at 0x117968f50>, 119821506910823800303319164102417326570L, store.snapshots[BaseSnapshot] : 1210 object(s))\n",
      "(<openpathsampling.engines.toy.snapshot.ToySnapshot object at 0x117968890>, 119821506910823800303319164102417326588L, store.snapshots[BaseSnapshot] : 1210 object(s))\n",
      "(<openpathsampling.engines.toy.snapshot.ToySnapshot object at 0x1178a7810>, 119821506910823800303319164102417326606L, store.snapshots[BaseSnapshot] : 1210 object(s))\n",
      "(<openpathsampling.engines.toy.snapshot.ToySnapshot object at 0x117968910>, 119821506910823800303319164102417326624L, store.snapshots[BaseSnapshot] : 1210 object(s))\n",
      "(<openpathsampling.engines.toy.snapshot.ToySnapshot object at 0x1178a7090>, 119821506910823800303319164102417326642L, store.snapshots[BaseSnapshot] : 1210 object(s))\n",
      "(<openpathsampling.engines.toy.snapshot.ToySnapshot object at 0x117968750>, 119821506910823800303319164102417326660L, store.snapshots[BaseSnapshot] : 1210 object(s))\n",
      "(<openpathsampling.engines.toy.snapshot.ToySnapshot object at 0x1178a7250>, 119821506910823800303319164102417326678L, store.snapshots[BaseSnapshot] : 1210 object(s))\n",
      "(<openpathsampling.engines.toy.snapshot.ToySnapshot object at 0x1178a7050>, 119821506910823800303319164102417326696L, store.snapshots[BaseSnapshot] : 1210 object(s))\n",
      "(<openpathsampling.engines.toy.snapshot.ToySnapshot object at 0x1178a7310>, 119821506910823800303319164102417326714L, store.snapshots[BaseSnapshot] : 1210 object(s))\n",
      "(<openpathsampling.engines.toy.snapshot.ToySnapshot object at 0x1178a73d0>, 119821506910823800303319164102417326732L, store.snapshots[BaseSnapshot] : 1210 object(s))\n",
      "(<openpathsampling.engines.toy.snapshot.ToySnapshot object at 0x1178a7490>, 119821506910823800303319164102417326750L, store.snapshots[BaseSnapshot] : 1210 object(s))\n",
      "(<openpathsampling.engines.toy.snapshot.ToySnapshot object at 0x1178a7350>, 119821506910823800303319164102417326768L, store.snapshots[BaseSnapshot] : 1210 object(s))\n",
      "(<openpathsampling.engines.toy.snapshot.ToySnapshot object at 0x117968b90>, 119821506910823800303319164102417326786L, store.snapshots[BaseSnapshot] : 1210 object(s))\n",
      "(<openpathsampling.engines.toy.snapshot.ToySnapshot object at 0x117968650>, 119821506910823800303319164102417326804L, store.snapshots[BaseSnapshot] : 1210 object(s))\n",
      "(<openpathsampling.engines.toy.snapshot.ToySnapshot object at 0x117968810>, 119821506910823800303319164102417326822L, store.snapshots[BaseSnapshot] : 1210 object(s))\n",
      "(<openpathsampling.engines.toy.snapshot.ToySnapshot object at 0x1179688d0>, 119821506910823800303319164102417326840L, store.snapshots[BaseSnapshot] : 1210 object(s))\n",
      "(<openpathsampling.engines.toy.snapshot.ToySnapshot object at 0x117968b50>, 119821506910823800303319164102417326858L, store.snapshots[BaseSnapshot] : 1210 object(s))\n",
      "(<openpathsampling.engines.toy.snapshot.ToySnapshot object at 0x117968bd0>, 119821506910823800303319164102417326876L, store.snapshots[BaseSnapshot] : 1210 object(s))\n",
      "(<openpathsampling.engines.toy.snapshot.ToySnapshot object at 0x1178a7110>, 119821506910823800303319164102417326894L, store.snapshots[BaseSnapshot] : 1210 object(s))\n",
      "(<openpathsampling.engines.toy.snapshot.ToySnapshot object at 0x1178a7290>, 119821506910823800303319164102417326912L, store.snapshots[BaseSnapshot] : 1210 object(s))\n",
      "(<openpathsampling.engines.toy.snapshot.ToySnapshot object at 0x117968610>, 119821506910823800303319164102417326930L, store.snapshots[BaseSnapshot] : 1210 object(s))\n",
      "(<openpathsampling.engines.toy.snapshot.ToySnapshot object at 0x117968a50>, 119821506910823800303319164102417326948L, store.snapshots[BaseSnapshot] : 1210 object(s))\n",
      "(<openpathsampling.engines.toy.snapshot.ToySnapshot object at 0x117968cd0>, 119821506910823800303319164102417326966L, store.snapshots[BaseSnapshot] : 1210 object(s))\n",
      "(<openpathsampling.engines.toy.snapshot.ToySnapshot object at 0x117971b10>, 119821506910823800303319164102417326984L, store.snapshots[BaseSnapshot] : 1210 object(s))\n",
      "(<openpathsampling.engines.toy.snapshot.ToySnapshot object at 0x117971690>, 119821506910823800303319164102417327002L, store.snapshots[BaseSnapshot] : 1210 object(s))\n",
      "(<openpathsampling.engines.toy.snapshot.ToySnapshot object at 0x117971d90>, 119821506910823800303319164102417327020L, store.snapshots[BaseSnapshot] : 1210 object(s))\n",
      "(<openpathsampling.engines.toy.snapshot.ToySnapshot object at 0x117971b90>, 119821506910823800303319164102417327038L, store.snapshots[BaseSnapshot] : 1210 object(s))\n",
      "(<openpathsampling.engines.toy.snapshot.ToySnapshot object at 0x117971710>, 119821506910823800303319164102417327056L, store.snapshots[BaseSnapshot] : 1210 object(s))\n",
      "(<openpathsampling.engines.toy.snapshot.ToySnapshot object at 0x117971ad0>, 119821506910823800303319164102417327074L, store.snapshots[BaseSnapshot] : 1210 object(s))\n",
      "(<openpathsampling.engines.toy.snapshot.ToySnapshot object at 0x117971d10>, 119821506910823800303319164102417327092L, store.snapshots[BaseSnapshot] : 1210 object(s))\n",
      "(<openpathsampling.engines.toy.snapshot.ToySnapshot object at 0x117971650>, 119821506910823800303319164102417327110L, store.snapshots[BaseSnapshot] : 1210 object(s))\n",
      "(<openpathsampling.engines.toy.snapshot.ToySnapshot object at 0x117971890>, 119821506910823800303319164102417327128L, store.snapshots[BaseSnapshot] : 1210 object(s))\n",
      "(<openpathsampling.engines.toy.snapshot.ToySnapshot object at 0x117971e50>, 119821506910823800303319164102417327146L, store.snapshots[BaseSnapshot] : 1210 object(s))\n",
      "(<openpathsampling.engines.toy.snapshot.ToySnapshot object at 0x1178a7c10>, 119821506910823800303319164102417327164L, store.snapshots[BaseSnapshot] : 1210 object(s))\n",
      "(<openpathsampling.engines.toy.snapshot.ToySnapshot object at 0x117971c90>, 119821506910823800303319164102417327182L, store.snapshots[BaseSnapshot] : 1210 object(s))\n",
      "(<openpathsampling.engines.toy.snapshot.ToySnapshot object at 0x1179717d0>, 119821506910823800303319164102417327200L, store.snapshots[BaseSnapshot] : 1210 object(s))\n",
      "(<openpathsampling.engines.toy.snapshot.ToySnapshot object at 0x117971790>, 119821506910823800303319164102417327218L, store.snapshots[BaseSnapshot] : 1210 object(s))\n",
      "(<openpathsampling.engines.toy.snapshot.ToySnapshot object at 0x10869ab10>, 119821506910823800303319164102417365677L, store.snapshots[BaseSnapshot] : 1210 object(s))\n",
      "(<openpathsampling.engines.toy.snapshot.ToySnapshot object at 0x1178a7950>, 119821506910823800303319164102417365661L, store.snapshots[BaseSnapshot] : 1210 object(s))\n",
      "(<openpathsampling.engines.toy.snapshot.ToySnapshot object at 0x1178a7190>, 119821506910823800303319164102417365645L, store.snapshots[BaseSnapshot] : 1210 object(s))\n",
      "(<openpathsampling.engines.toy.snapshot.ToySnapshot object at 0x117971e10>, 119821506910823800303319164102417365629L, store.snapshots[BaseSnapshot] : 1210 object(s))\n",
      "(<openpathsampling.engines.toy.snapshot.ToySnapshot object at 0x117971390>, 119821506910823800303319164102417365613L, store.snapshots[BaseSnapshot] : 1210 object(s))\n",
      "(<openpathsampling.engines.toy.snapshot.ToySnapshot object at 0x117971490>, 119821506910823800303319164102417365597L, store.snapshots[BaseSnapshot] : 1210 object(s))\n",
      "(<openpathsampling.engines.toy.snapshot.ToySnapshot object at 0x1178a7210>, 119821506910823800303319164102417365581L, store.snapshots[BaseSnapshot] : 1210 object(s))\n",
      "(<openpathsampling.engines.toy.snapshot.ToySnapshot object at 0x117971a10>, 119821506910823800303319164102417365565L, store.snapshots[BaseSnapshot] : 1210 object(s))\n",
      "(<openpathsampling.engines.toy.snapshot.ToySnapshot object at 0x1179715d0>, 119821506910823800303319164102417350872L, store.snapshots[BaseSnapshot] : 1210 object(s))\n",
      "(<openpathsampling.engines.toy.snapshot.ToySnapshot object at 0x1179719d0>, 119821506910823800303319164102417362052L, store.snapshots[BaseSnapshot] : 1210 object(s))\n",
      "(<openpathsampling.engines.toy.snapshot.ToySnapshot object at 0x1179718d0>, 119821506910823800303319164102417362070L, store.snapshots[BaseSnapshot] : 1210 object(s))\n",
      "(<openpathsampling.engines.toy.snapshot.ToySnapshot object at 0x117971dd0>, 119821506910823800303319164102417362088L, store.snapshots[BaseSnapshot] : 1210 object(s))\n",
      "(<openpathsampling.engines.toy.snapshot.ToySnapshot object at 0x117971990>, 119821506910823800303319164102417362106L, store.snapshots[BaseSnapshot] : 1210 object(s))\n",
      "(<openpathsampling.engines.toy.snapshot.ToySnapshot object at 0x117971610>, 119821506910823800303319164102417371894L, store.snapshots[BaseSnapshot] : 1210 object(s))\n",
      "(<openpathsampling.engines.toy.snapshot.ToySnapshot object at 0x1179716d0>, 119821506910823800303319164102417371912L, store.snapshots[BaseSnapshot] : 1210 object(s))\n",
      "(<openpathsampling.engines.toy.snapshot.ToySnapshot object at 0x117971910>, 119821506910823800303319164102417371930L, store.snapshots[BaseSnapshot] : 1210 object(s))\n",
      "(<openpathsampling.engines.toy.snapshot.ToySnapshot object at 0x117971a90>, 119821506910823800303319164102417371948L, store.snapshots[BaseSnapshot] : 1210 object(s))\n"
     ]
    },
    {
     "name": "stdout",
     "output_type": "stream",
     "text": [
      "(<openpathsampling.engines.toy.snapshot.ToySnapshot object at 0x117971b50>, 119821506910823800303319164102417371966L, store.snapshots[BaseSnapshot] : 1210 object(s))\n",
      "(<openpathsampling.engines.toy.snapshot.ToySnapshot object at 0x117971c50>, 119821506910823800303319164102417371984L, store.snapshots[BaseSnapshot] : 1210 object(s))\n",
      "(<openpathsampling.engines.toy.snapshot.ToySnapshot object at 0x117971750>, 119821506910823800303319164102417372002L, store.snapshots[BaseSnapshot] : 1210 object(s))\n",
      "(<openpathsampling.engines.toy.snapshot.ToySnapshot object at 0x117971190>, 119821506910823800303319164102417372020L, store.snapshots[BaseSnapshot] : 1210 object(s))\n",
      "(<openpathsampling.engines.toy.snapshot.ToySnapshot object at 0x117971c10>, 119821506910823800303319164102417372038L, store.snapshots[BaseSnapshot] : 1210 object(s))\n",
      "(<openpathsampling.engines.toy.snapshot.ToySnapshot object at 0x117971310>, 119821506910823800303319164102417372056L, store.snapshots[BaseSnapshot] : 1210 object(s))\n",
      "(<openpathsampling.engines.toy.snapshot.ToySnapshot object at 0x117971fd0>, 119821506910823800303319164102417372074L, store.snapshots[BaseSnapshot] : 1210 object(s))\n",
      "(<openpathsampling.engines.toy.snapshot.ToySnapshot object at 0x117971350>, 119821506910823800303319164102417372092L, store.snapshots[BaseSnapshot] : 1210 object(s))\n",
      "(<openpathsampling.engines.toy.snapshot.ToySnapshot object at 0x117971850>, 119821506910823800303319164102417372110L, store.snapshots[BaseSnapshot] : 1210 object(s))\n",
      "(<openpathsampling.engines.toy.snapshot.ToySnapshot object at 0x117971cd0>, 119821506910823800303319164102417372128L, store.snapshots[BaseSnapshot] : 1210 object(s))\n",
      "(<openpathsampling.engines.toy.snapshot.ToySnapshot object at 0x117971810>, 119821506910823800303319164102417372146L, store.snapshots[BaseSnapshot] : 1210 object(s))\n",
      "(<openpathsampling.engines.toy.snapshot.ToySnapshot object at 0x117971950>, 119821506910823800303319164102417372164L, store.snapshots[BaseSnapshot] : 1210 object(s))\n",
      "(<openpathsampling.engines.toy.snapshot.ToySnapshot object at 0x117971150>, 119821506910823800303319164102417372182L, store.snapshots[BaseSnapshot] : 1210 object(s))\n",
      "(<openpathsampling.engines.toy.snapshot.ToySnapshot object at 0x117971a50>, 119821506910823800303319164102417372200L, store.snapshots[BaseSnapshot] : 1210 object(s))\n",
      "(<openpathsampling.engines.toy.snapshot.ToySnapshot object at 0x117971f90>, 119821506910823800303319164102417372218L, store.snapshots[BaseSnapshot] : 1210 object(s))\n",
      "(<openpathsampling.engines.toy.snapshot.ToySnapshot object at 0x1179713d0>, 119821506910823800303319164102417372236L, store.snapshots[BaseSnapshot] : 1210 object(s))\n",
      "(<openpathsampling.engines.toy.snapshot.ToySnapshot object at 0x117971090>, 119821506910823800303319164102417372254L, store.snapshots[BaseSnapshot] : 1210 object(s))\n",
      "(<openpathsampling.engines.toy.snapshot.ToySnapshot object at 0x117971bd0>, 119821506910823800303319164102417372272L, store.snapshots[BaseSnapshot] : 1210 object(s))\n",
      "(<openpathsampling.engines.toy.snapshot.ToySnapshot object at 0x1179712d0>, 119821506910823800303319164102417372290L, store.snapshots[BaseSnapshot] : 1210 object(s))\n",
      "(<openpathsampling.engines.toy.snapshot.ToySnapshot object at 0x117971410>, 119821506910823800303319164102417372308L, store.snapshots[BaseSnapshot] : 1210 object(s))\n",
      "(<openpathsampling.engines.toy.snapshot.ToySnapshot object at 0x117971510>, 119821506910823800303319164102417372326L, store.snapshots[BaseSnapshot] : 1210 object(s))\n",
      "(<openpathsampling.engines.toy.snapshot.ToySnapshot object at 0x117971590>, 119821506910823800303319164102417372344L, store.snapshots[BaseSnapshot] : 1210 object(s))\n",
      "(<openpathsampling.engines.toy.snapshot.ToySnapshot object at 0x117971450>, 119821506910823800303319164102417372362L, store.snapshots[BaseSnapshot] : 1210 object(s))\n",
      "(<openpathsampling.engines.toy.snapshot.ToySnapshot object at 0x117971110>, 119821506910823800303319164102417372380L, store.snapshots[BaseSnapshot] : 1210 object(s))\n",
      "(<openpathsampling.engines.toy.snapshot.ToySnapshot object at 0x117971550>, 119821506910823800303319164102417372398L, store.snapshots[BaseSnapshot] : 1210 object(s))\n",
      "(<openpathsampling.engines.toy.snapshot.ToySnapshot object at 0x1178a7450>, 119821506910823800303319164102417372416L, store.snapshots[BaseSnapshot] : 1210 object(s))\n",
      "(<openpathsampling.engines.toy.snapshot.ToySnapshot object at 0x117971290>, 119821506910823800303319164102417372434L, store.snapshots[BaseSnapshot] : 1210 object(s))\n",
      "(<openpathsampling.engines.toy.snapshot.ToySnapshot object at 0x1179714d0>, 119821506910823800303319164102417372452L, store.snapshots[BaseSnapshot] : 1210 object(s))\n",
      "(<openpathsampling.engines.toy.snapshot.ToySnapshot object at 0x117971050>, 119821506910823800303319164102417372470L, store.snapshots[BaseSnapshot] : 1210 object(s))\n",
      "(<openpathsampling.engines.toy.snapshot.ToySnapshot object at 0x117971210>, 119821506910823800303319164102417372488L, store.snapshots[BaseSnapshot] : 1210 object(s))\n",
      "(<openpathsampling.engines.toy.snapshot.ToySnapshot object at 0x1179710d0>, 119821506910823800303319164102417372506L, store.snapshots[BaseSnapshot] : 1210 object(s))\n",
      "(<openpathsampling.engines.toy.snapshot.ToySnapshot object at 0x1179711d0>, 119821506910823800303319164102417372524L, store.snapshots[BaseSnapshot] : 1210 object(s))\n",
      "(<openpathsampling.engines.toy.snapshot.ToySnapshot object at 0x117985910>, 119821506910823800303319164102417372542L, store.snapshots[BaseSnapshot] : 1210 object(s))\n",
      "(<openpathsampling.engines.toy.snapshot.ToySnapshot object at 0x117985750>, 119821506910823800303319164102417372560L, store.snapshots[BaseSnapshot] : 1210 object(s))\n",
      "(<openpathsampling.engines.toy.snapshot.ToySnapshot object at 0x117985dd0>, 119821506910823800303319164102417372578L, store.snapshots[BaseSnapshot] : 1210 object(s))\n",
      "(<openpathsampling.engines.toy.snapshot.ToySnapshot object at 0x117985cd0>, 119821506910823800303319164102417372596L, store.snapshots[BaseSnapshot] : 1210 object(s))\n",
      "(<openpathsampling.engines.toy.snapshot.ToySnapshot object at 0x117985d10>, 119821506910823800303319164102417372614L, store.snapshots[BaseSnapshot] : 1210 object(s))\n",
      "(<openpathsampling.engines.toy.snapshot.ToySnapshot object at 0x117985e90>, 119821506910823800303319164102417372632L, store.snapshots[BaseSnapshot] : 1210 object(s))\n",
      "(<openpathsampling.engines.toy.snapshot.ToySnapshot object at 0x117985e10>, 119821506910823800303319164102417372650L, store.snapshots[BaseSnapshot] : 1210 object(s))\n",
      "(<openpathsampling.engines.toy.snapshot.ToySnapshot object at 0x117985bd0>, 119821506910823800303319164102417372668L, store.snapshots[BaseSnapshot] : 1210 object(s))\n",
      "(<openpathsampling.engines.toy.snapshot.ToySnapshot object at 0x117985d50>, 119821506910823800303319164102417372686L, store.snapshots[BaseSnapshot] : 1210 object(s))\n",
      "(<openpathsampling.engines.toy.snapshot.ToySnapshot object at 0x117985250>, 119821506910823800303319164102417372704L, store.snapshots[BaseSnapshot] : 1210 object(s))\n",
      "(<openpathsampling.engines.toy.snapshot.ToySnapshot object at 0x117985d90>, 119821506910823800303319164102417372722L, store.snapshots[BaseSnapshot] : 1210 object(s))\n",
      "(<openpathsampling.engines.toy.snapshot.ToySnapshot object at 0x117985610>, 119821506910823800303319164102417372740L, store.snapshots[BaseSnapshot] : 1210 object(s))\n",
      "(<openpathsampling.engines.toy.snapshot.ToySnapshot object at 0x117985390>, 119821506910823800303319164102417372758L, store.snapshots[BaseSnapshot] : 1210 object(s))\n",
      "(<openpathsampling.engines.toy.snapshot.ToySnapshot object at 0x117985110>, 119821506910823800303319164102417372776L, store.snapshots[BaseSnapshot] : 1210 object(s))\n",
      "(<openpathsampling.engines.toy.snapshot.ToySnapshot object at 0x117985f90>, 119821506910823800303319164102417372794L, store.snapshots[BaseSnapshot] : 1210 object(s))\n",
      "(<openpathsampling.engines.toy.snapshot.ToySnapshot object at 0x117985e50>, 119821506910823800303319164102417372812L, store.snapshots[BaseSnapshot] : 1210 object(s))\n",
      "(<openpathsampling.engines.toy.snapshot.ToySnapshot object at 0x117985ed0>, 119821506910823800303319164102417372830L, store.snapshots[BaseSnapshot] : 1210 object(s))\n",
      "(<openpathsampling.engines.toy.snapshot.ToySnapshot object at 0x117985450>, 119821506910823800303319164102417372848L, store.snapshots[BaseSnapshot] : 1210 object(s))\n",
      "(<openpathsampling.engines.toy.snapshot.ToySnapshot object at 0x117985f50>, 119821506910823800303319164102417372866L, store.snapshots[BaseSnapshot] : 1210 object(s))\n",
      "(<openpathsampling.engines.toy.snapshot.ToySnapshot object at 0x1179852d0>, 119821506910823800303319164102417372884L, store.snapshots[BaseSnapshot] : 1210 object(s))\n",
      "(<openpathsampling.engines.toy.snapshot.ToySnapshot object at 0x117985490>, 119821506910823800303319164102417372902L, store.snapshots[BaseSnapshot] : 1210 object(s))\n",
      "(<openpathsampling.engines.toy.snapshot.ToySnapshot object at 0x117985710>, 119821506910823800303319164102417372920L, store.snapshots[BaseSnapshot] : 1210 object(s))\n",
      "(<openpathsampling.engines.toy.snapshot.ToySnapshot object at 0x117985b50>, 119821506910823800303319164102417372938L, store.snapshots[BaseSnapshot] : 1210 object(s))\n",
      "(<openpathsampling.engines.toy.snapshot.ToySnapshot object at 0x117985ad0>, 119821506910823800303319164102417372956L, store.snapshots[BaseSnapshot] : 1210 object(s))\n",
      "(<openpathsampling.engines.toy.snapshot.ToySnapshot object at 0x117985c90>, 119821506910823800303319164102417372974L, store.snapshots[BaseSnapshot] : 1210 object(s))\n",
      "(<openpathsampling.engines.toy.snapshot.ToySnapshot object at 0x117985890>, 119821506910823800303319164102417372992L, store.snapshots[BaseSnapshot] : 1210 object(s))\n",
      "(<openpathsampling.engines.toy.snapshot.ToySnapshot object at 0x117985950>, 119821506910823800303319164102417373010L, store.snapshots[BaseSnapshot] : 1210 object(s))\n"
     ]
    },
    {
     "name": "stdout",
     "output_type": "stream",
     "text": [
      "(<openpathsampling.engines.toy.snapshot.ToySnapshot object at 0x1179854d0>, 119821506910823800303319164102417373028L, store.snapshots[BaseSnapshot] : 1210 object(s))\n",
      "(<openpathsampling.engines.toy.snapshot.ToySnapshot object at 0x1179859d0>, 119821506910823800303319164102417373046L, store.snapshots[BaseSnapshot] : 1210 object(s))\n",
      "(<openpathsampling.engines.toy.snapshot.ToySnapshot object at 0x117985a90>, 119821506910823800303319164102417373064L, store.snapshots[BaseSnapshot] : 1210 object(s))\n",
      "(<openpathsampling.engines.toy.snapshot.ToySnapshot object at 0x117985210>, 119821506910823800303319164102417373082L, store.snapshots[BaseSnapshot] : 1210 object(s))\n",
      "(<openpathsampling.engines.toy.snapshot.ToySnapshot object at 0x117985fd0>, 119821506910823800303319164102417373100L, store.snapshots[BaseSnapshot] : 1210 object(s))\n",
      "(<openpathsampling.engines.toy.snapshot.ToySnapshot object at 0x117985b90>, 119821506910823800303319164102417373118L, store.snapshots[BaseSnapshot] : 1210 object(s))\n",
      "(<openpathsampling.engines.toy.snapshot.ToySnapshot object at 0x117985c50>, 119821506910823800303319164102417373136L, store.snapshots[BaseSnapshot] : 1210 object(s))\n",
      "(<openpathsampling.engines.toy.snapshot.ToySnapshot object at 0x1179851d0>, 119821506910823800303319164102417373154L, store.snapshots[BaseSnapshot] : 1210 object(s))\n",
      "(<openpathsampling.engines.toy.snapshot.ToySnapshot object at 0x1178a7590>, 119821506910823800303319164102417373172L, store.snapshots[BaseSnapshot] : 1210 object(s))\n",
      "(<openpathsampling.engines.toy.snapshot.ToySnapshot object at 0x117985150>, 119821506910823800303319164102417373190L, store.snapshots[BaseSnapshot] : 1210 object(s))\n",
      "(<openpathsampling.engines.toy.snapshot.ToySnapshot object at 0x117985b10>, 119821506910823800303319164102417373208L, store.snapshots[BaseSnapshot] : 1210 object(s))\n",
      "(<openpathsampling.engines.toy.snapshot.ToySnapshot object at 0x117985f10>, 119821506910823800303319164102417373226L, store.snapshots[BaseSnapshot] : 1210 object(s))\n",
      "(<openpathsampling.engines.toy.snapshot.ToySnapshot object at 0x1179850d0>, 119821506910823800303319164102417373244L, store.snapshots[BaseSnapshot] : 1210 object(s))\n",
      "(<openpathsampling.engines.toy.snapshot.ToySnapshot object at 0x117985550>, 119821506910823800303319164102417373262L, store.snapshots[BaseSnapshot] : 1210 object(s))\n",
      "(<openpathsampling.engines.toy.snapshot.ToySnapshot object at 0x117985810>, 119821506910823800303319164102417373280L, store.snapshots[BaseSnapshot] : 1210 object(s))\n",
      "(<openpathsampling.engines.toy.snapshot.ToySnapshot object at 0x117985990>, 119821506910823800303319164102417373298L, store.snapshots[BaseSnapshot] : 1210 object(s))\n",
      "(<openpathsampling.engines.toy.snapshot.ToySnapshot object at 0x117985a50>, 119821506910823800303319164102417373316L, store.snapshots[BaseSnapshot] : 1210 object(s))\n",
      "(<openpathsampling.engines.toy.snapshot.ToySnapshot object at 0x117985690>, 119821506910823800303319164102417373334L, store.snapshots[BaseSnapshot] : 1210 object(s))\n",
      "(<openpathsampling.engines.toy.snapshot.ToySnapshot object at 0x117985510>, 119821506910823800303319164102417373352L, store.snapshots[BaseSnapshot] : 1210 object(s))\n",
      "(<openpathsampling.engines.toy.snapshot.ToySnapshot object at 0x10869aed0>, 119821506910823800303319164102417500435L, store.snapshots[BaseSnapshot] : 1210 object(s))\n",
      "(<openpathsampling.engines.toy.snapshot.ToySnapshot object at 0x1179857d0>, 119821506910823800303319164102417500419L, store.snapshots[BaseSnapshot] : 1210 object(s))\n",
      "(<openpathsampling.engines.toy.snapshot.ToySnapshot object at 0x117985850>, 119821506910823800303319164102417500403L, store.snapshots[BaseSnapshot] : 1210 object(s))\n",
      "(<openpathsampling.engines.toy.snapshot.ToySnapshot object at 0x117985410>, 119821506910823800303319164102417500387L, store.snapshots[BaseSnapshot] : 1210 object(s))\n",
      "(<openpathsampling.engines.toy.snapshot.ToySnapshot object at 0x117985a10>, 119821506910823800303319164102417500371L, store.snapshots[BaseSnapshot] : 1210 object(s))\n",
      "(<openpathsampling.engines.toy.snapshot.ToySnapshot object at 0x117985190>, 119821506910823800303319164102417500355L, store.snapshots[BaseSnapshot] : 1210 object(s))\n",
      "(<openpathsampling.engines.toy.snapshot.ToySnapshot object at 0x1179a3110>, 119821506910823800303319164102417500339L, store.snapshots[BaseSnapshot] : 1210 object(s))\n",
      "(<openpathsampling.engines.toy.snapshot.ToySnapshot object at 0x1179a3050>, 119821506910823800303319164102417500323L, store.snapshots[BaseSnapshot] : 1210 object(s))\n",
      "(<openpathsampling.engines.toy.snapshot.ToySnapshot object at 0x1179a3090>, 119821506910823800303319164102417500307L, store.snapshots[BaseSnapshot] : 1210 object(s))\n",
      "(<openpathsampling.engines.toy.snapshot.ToySnapshot object at 0x1179a30d0>, 119821506910823800303319164102417500291L, store.snapshots[BaseSnapshot] : 1210 object(s))\n",
      "(<openpathsampling.engines.toy.snapshot.ToySnapshot object at 0x1179a3150>, 119821506910823800303319164102417500275L, store.snapshots[BaseSnapshot] : 1210 object(s))\n",
      "(<openpathsampling.engines.toy.snapshot.ToySnapshot object at 0x1179a3190>, 119821506910823800303319164102417500259L, store.snapshots[BaseSnapshot] : 1210 object(s))\n",
      "(<openpathsampling.engines.toy.snapshot.ToySnapshot object at 0x1179a31d0>, 119821506910823800303319164102417500243L, store.snapshots[BaseSnapshot] : 1210 object(s))\n",
      "(<openpathsampling.engines.toy.snapshot.ToySnapshot object at 0x1179a3210>, 119821506910823800303319164102417500227L, store.snapshots[BaseSnapshot] : 1210 object(s))\n",
      "(<openpathsampling.engines.toy.snapshot.ToySnapshot object at 0x1179a3250>, 119821506910823800303319164102417500211L, store.snapshots[BaseSnapshot] : 1210 object(s))\n",
      "(<openpathsampling.engines.toy.snapshot.ToySnapshot object at 0x1179a3290>, 119821506910823800303319164102417500195L, store.snapshots[BaseSnapshot] : 1210 object(s))\n",
      "(<openpathsampling.engines.toy.snapshot.ToySnapshot object at 0x1179a32d0>, 119821506910823800303319164102417500179L, store.snapshots[BaseSnapshot] : 1210 object(s))\n",
      "(<openpathsampling.engines.toy.snapshot.ToySnapshot object at 0x1179a3310>, 119821506910823800303319164102417500163L, store.snapshots[BaseSnapshot] : 1210 object(s))\n",
      "(<openpathsampling.engines.toy.snapshot.ToySnapshot object at 0x1179a3350>, 119821506910823800303319164102417500147L, store.snapshots[BaseSnapshot] : 1210 object(s))\n",
      "(<openpathsampling.engines.toy.snapshot.ToySnapshot object at 0x1179a3390>, 119821506910823800303319164102417500131L, store.snapshots[BaseSnapshot] : 1210 object(s))\n",
      "(<openpathsampling.engines.toy.snapshot.ToySnapshot object at 0x1179a34d0>, 119821506910823800303319164102417500115L, store.snapshots[BaseSnapshot] : 1210 object(s))\n",
      "(<openpathsampling.engines.toy.snapshot.ToySnapshot object at 0x1179a33d0>, 119821506910823800303319164102417500099L, store.snapshots[BaseSnapshot] : 1210 object(s))\n",
      "(<openpathsampling.engines.toy.snapshot.ToySnapshot object at 0x1179a3410>, 119821506910823800303319164102417500083L, store.snapshots[BaseSnapshot] : 1210 object(s))\n",
      "(<openpathsampling.engines.toy.snapshot.ToySnapshot object at 0x1179a3450>, 119821506910823800303319164102417500067L, store.snapshots[BaseSnapshot] : 1210 object(s))\n",
      "(<openpathsampling.engines.toy.snapshot.ToySnapshot object at 0x1179a3490>, 119821506910823800303319164102417500051L, store.snapshots[BaseSnapshot] : 1210 object(s))\n",
      "(<openpathsampling.engines.toy.snapshot.ToySnapshot object at 0x1179a3510>, 119821506910823800303319164102417500035L, store.snapshots[BaseSnapshot] : 1210 object(s))\n",
      "(<openpathsampling.engines.toy.snapshot.ToySnapshot object at 0x1179a3550>, 119821506910823800303319164102417500019L, store.snapshots[BaseSnapshot] : 1210 object(s))\n",
      "(<openpathsampling.engines.toy.snapshot.ToySnapshot object at 0x1179a3590>, 119821506910823800303319164102417500003L, store.snapshots[BaseSnapshot] : 1210 object(s))\n",
      "(<openpathsampling.engines.toy.snapshot.ToySnapshot object at 0x1179a35d0>, 119821506910823800303319164102417499987L, store.snapshots[BaseSnapshot] : 1210 object(s))\n",
      "(<openpathsampling.engines.toy.snapshot.ToySnapshot object at 0x1179a3610>, 119821506910823800303319164102417499971L, store.snapshots[BaseSnapshot] : 1210 object(s))\n",
      "(<openpathsampling.engines.toy.snapshot.ToySnapshot object at 0x1179a3650>, 119821506910823800303319164102417499955L, store.snapshots[BaseSnapshot] : 1210 object(s))\n",
      "(<openpathsampling.engines.toy.snapshot.ToySnapshot object at 0x1179a3690>, 119821506910823800303319164102417499939L, store.snapshots[BaseSnapshot] : 1210 object(s))\n",
      "(<openpathsampling.engines.toy.snapshot.ToySnapshot object at 0x1179a36d0>, 119821506910823800303319164102417499923L, store.snapshots[BaseSnapshot] : 1210 object(s))\n",
      "(<openpathsampling.engines.toy.snapshot.ToySnapshot object at 0x1179a3710>, 119821506910823800303319164102417499907L, store.snapshots[BaseSnapshot] : 1210 object(s))\n",
      "(<openpathsampling.engines.toy.snapshot.ToySnapshot object at 0x1179a3750>, 119821506910823800303319164102417499891L, store.snapshots[BaseSnapshot] : 1210 object(s))\n",
      "(<openpathsampling.engines.toy.snapshot.ToySnapshot object at 0x1179a3790>, 119821506910823800303319164102417499875L, store.snapshots[BaseSnapshot] : 1210 object(s))\n",
      "(<openpathsampling.engines.toy.snapshot.ToySnapshot object at 0x1179a37d0>, 119821506910823800303319164102417499859L, store.snapshots[BaseSnapshot] : 1210 object(s))\n",
      "(<openpathsampling.engines.toy.snapshot.ToySnapshot object at 0x1179a3810>, 119821506910823800303319164102417499843L, store.snapshots[BaseSnapshot] : 1210 object(s))\n",
      "(<openpathsampling.engines.toy.snapshot.ToySnapshot object at 0x1179a3850>, 119821506910823800303319164102417499827L, store.snapshots[BaseSnapshot] : 1210 object(s))\n",
      "(<openpathsampling.engines.toy.snapshot.ToySnapshot object at 0x1179a3890>, 119821506910823800303319164102417499811L, store.snapshots[BaseSnapshot] : 1210 object(s))\n",
      "(<openpathsampling.engines.toy.snapshot.ToySnapshot object at 0x1179a38d0>, 119821506910823800303319164102417499795L, store.snapshots[BaseSnapshot] : 1210 object(s))\n"
     ]
    },
    {
     "name": "stdout",
     "output_type": "stream",
     "text": [
      "(<openpathsampling.engines.toy.snapshot.ToySnapshot object at 0x1179a3910>, 119821506910823800303319164102417499779L, store.snapshots[BaseSnapshot] : 1210 object(s))\n",
      "(<openpathsampling.engines.toy.snapshot.ToySnapshot object at 0x1179a3950>, 119821506910823800303319164102417499763L, store.snapshots[BaseSnapshot] : 1210 object(s))\n",
      "(<openpathsampling.engines.toy.snapshot.ToySnapshot object at 0x1179a3a90>, 119821506910823800303319164102417499747L, store.snapshots[BaseSnapshot] : 1210 object(s))\n",
      "(<openpathsampling.engines.toy.snapshot.ToySnapshot object at 0x1179a3990>, 119821506910823800303319164102417499731L, store.snapshots[BaseSnapshot] : 1210 object(s))\n",
      "(<openpathsampling.engines.toy.snapshot.ToySnapshot object at 0x1179a39d0>, 119821506910823800303319164102417499715L, store.snapshots[BaseSnapshot] : 1210 object(s))\n",
      "(<openpathsampling.engines.toy.snapshot.ToySnapshot object at 0x1179a3a10>, 119821506910823800303319164102417499699L, store.snapshots[BaseSnapshot] : 1210 object(s))\n",
      "(<openpathsampling.engines.toy.snapshot.ToySnapshot object at 0x1179a3a50>, 119821506910823800303319164102417499683L, store.snapshots[BaseSnapshot] : 1210 object(s))\n",
      "(<openpathsampling.engines.toy.snapshot.ToySnapshot object at 0x1179a3ad0>, 119821506910823800303319164102417499667L, store.snapshots[BaseSnapshot] : 1210 object(s))\n",
      "(<openpathsampling.engines.toy.snapshot.ToySnapshot object at 0x1179a3b10>, 119821506910823800303319164102417499651L, store.snapshots[BaseSnapshot] : 1210 object(s))\n",
      "(<openpathsampling.engines.toy.snapshot.ToySnapshot object at 0x1179a3b50>, 119821506910823800303319164102417499635L, store.snapshots[BaseSnapshot] : 1210 object(s))\n",
      "(<openpathsampling.engines.toy.snapshot.ToySnapshot object at 0x1179a3cd0>, 119821506910823800303319164102417499619L, store.snapshots[BaseSnapshot] : 1210 object(s))\n",
      "(<openpathsampling.engines.toy.snapshot.ToySnapshot object at 0x1179a3b90>, 119821506910823800303319164102417499603L, store.snapshots[BaseSnapshot] : 1210 object(s))\n",
      "(<openpathsampling.engines.toy.snapshot.ToySnapshot object at 0x1179a3bd0>, 119821506910823800303319164102417499587L, store.snapshots[BaseSnapshot] : 1210 object(s))\n",
      "(<openpathsampling.engines.toy.snapshot.ToySnapshot object at 0x1179a3c10>, 119821506910823800303319164102417499571L, store.snapshots[BaseSnapshot] : 1210 object(s))\n",
      "(<openpathsampling.engines.toy.snapshot.ToySnapshot object at 0x1179a3c50>, 119821506910823800303319164102417499555L, store.snapshots[BaseSnapshot] : 1210 object(s))\n",
      "(<openpathsampling.engines.toy.snapshot.ToySnapshot object at 0x1179a3c90>, 119821506910823800303319164102417499539L, store.snapshots[BaseSnapshot] : 1210 object(s))\n",
      "(<openpathsampling.engines.toy.snapshot.ToySnapshot object at 0x1179a3d10>, 119821506910823800303319164102417499523L, store.snapshots[BaseSnapshot] : 1210 object(s))\n",
      "(<openpathsampling.engines.toy.snapshot.ToySnapshot object at 0x1179a3d50>, 119821506910823800303319164102417499507L, store.snapshots[BaseSnapshot] : 1210 object(s))\n",
      "(<openpathsampling.engines.toy.snapshot.ToySnapshot object at 0x1179a3d90>, 119821506910823800303319164102417499491L, store.snapshots[BaseSnapshot] : 1210 object(s))\n",
      "(<openpathsampling.engines.toy.snapshot.ToySnapshot object at 0x1179a3dd0>, 119821506910823800303319164102417499475L, store.snapshots[BaseSnapshot] : 1210 object(s))\n",
      "(<openpathsampling.engines.toy.snapshot.ToySnapshot object at 0x1179a3e10>, 119821506910823800303319164102417499459L, store.snapshots[BaseSnapshot] : 1210 object(s))\n",
      "(<openpathsampling.engines.toy.snapshot.ToySnapshot object at 0x1179a3e90>, 119821506910823800303319164102417499443L, store.snapshots[BaseSnapshot] : 1210 object(s))\n",
      "(<openpathsampling.engines.toy.snapshot.ToySnapshot object at 0x1179a3ed0>, 119821506910823800303319164102417499427L, store.snapshots[BaseSnapshot] : 1210 object(s))\n",
      "(<openpathsampling.engines.toy.snapshot.ToySnapshot object at 0x1179a3f10>, 119821506910823800303319164102417499411L, store.snapshots[BaseSnapshot] : 1210 object(s))\n",
      "(<openpathsampling.engines.toy.snapshot.ToySnapshot object at 0x1179a3f50>, 119821506910823800303319164102417499395L, store.snapshots[BaseSnapshot] : 1210 object(s))\n",
      "(<openpathsampling.engines.toy.snapshot.ToySnapshot object at 0x1179a3e50>, 119821506910823800303319164102417499379L, store.snapshots[BaseSnapshot] : 1210 object(s))\n",
      "(<openpathsampling.engines.toy.snapshot.ToySnapshot object at 0x1179a3f90>, 119821506910823800303319164102417499363L, store.snapshots[BaseSnapshot] : 1210 object(s))\n",
      "(<openpathsampling.engines.toy.snapshot.ToySnapshot object at 0x1179a3fd0>, 119821506910823800303319164102417499347L, store.snapshots[BaseSnapshot] : 1210 object(s))\n",
      "(<openpathsampling.engines.toy.snapshot.ToySnapshot object at 0x1179b5050>, 119821506910823800303319164102417499331L, store.snapshots[BaseSnapshot] : 1210 object(s))\n",
      "(<openpathsampling.engines.toy.snapshot.ToySnapshot object at 0x1179b5090>, 119821506910823800303319164102417499315L, store.snapshots[BaseSnapshot] : 1210 object(s))\n",
      "(<openpathsampling.engines.toy.snapshot.ToySnapshot object at 0x1179b50d0>, 119821506910823800303319164102417499299L, store.snapshots[BaseSnapshot] : 1210 object(s))\n",
      "(<openpathsampling.engines.toy.snapshot.ToySnapshot object at 0x1179b5110>, 119821506910823800303319164102417499283L, store.snapshots[BaseSnapshot] : 1210 object(s))\n",
      "(<openpathsampling.engines.toy.snapshot.ToySnapshot object at 0x1179b5150>, 119821506910823800303319164102417499267L, store.snapshots[BaseSnapshot] : 1210 object(s))\n",
      "(<openpathsampling.engines.toy.snapshot.ToySnapshot object at 0x1179b5190>, 119821506910823800303319164102417499251L, store.snapshots[BaseSnapshot] : 1210 object(s))\n",
      "(<openpathsampling.engines.toy.snapshot.ToySnapshot object at 0x1179b51d0>, 119821506910823800303319164102417499235L, store.snapshots[BaseSnapshot] : 1210 object(s))\n",
      "(<openpathsampling.engines.toy.snapshot.ToySnapshot object at 0x1179b5210>, 119821506910823800303319164102417499219L, store.snapshots[BaseSnapshot] : 1210 object(s))\n",
      "(<openpathsampling.engines.toy.snapshot.ToySnapshot object at 0x1179b5250>, 119821506910823800303319164102417499203L, store.snapshots[BaseSnapshot] : 1210 object(s))\n",
      "(<openpathsampling.engines.toy.snapshot.ToySnapshot object at 0x1179b5290>, 119821506910823800303319164102417499187L, store.snapshots[BaseSnapshot] : 1210 object(s))\n",
      "(<openpathsampling.engines.toy.snapshot.ToySnapshot object at 0x1179b53d0>, 119821506910823800303319164102417499171L, store.snapshots[BaseSnapshot] : 1210 object(s))\n",
      "(<openpathsampling.engines.toy.snapshot.ToySnapshot object at 0x1179b52d0>, 119821506910823800303319164102417499155L, store.snapshots[BaseSnapshot] : 1210 object(s))\n",
      "(<openpathsampling.engines.toy.snapshot.ToySnapshot object at 0x1179b5310>, 119821506910823800303319164102417499139L, store.snapshots[BaseSnapshot] : 1210 object(s))\n",
      "(<openpathsampling.engines.toy.snapshot.ToySnapshot object at 0x1179b5350>, 119821506910823800303319164102417499123L, store.snapshots[BaseSnapshot] : 1210 object(s))\n",
      "(<openpathsampling.engines.toy.snapshot.ToySnapshot object at 0x1179b5390>, 119821506910823800303319164102417499107L, store.snapshots[BaseSnapshot] : 1210 object(s))\n",
      "(<openpathsampling.engines.toy.snapshot.ToySnapshot object at 0x1179b5410>, 119821506910823800303319164102417499091L, store.snapshots[BaseSnapshot] : 1210 object(s))\n",
      "(<openpathsampling.engines.toy.snapshot.ToySnapshot object at 0x1179b5450>, 119821506910823800303319164102417499075L, store.snapshots[BaseSnapshot] : 1210 object(s))\n",
      "(<openpathsampling.engines.toy.snapshot.ToySnapshot object at 0x1179b5490>, 119821506910823800303319164102417499059L, store.snapshots[BaseSnapshot] : 1210 object(s))\n",
      "(<openpathsampling.engines.toy.snapshot.ToySnapshot object at 0x1179b5510>, 119821506910823800303319164102417499043L, store.snapshots[BaseSnapshot] : 1210 object(s))\n",
      "(<openpathsampling.engines.toy.snapshot.ToySnapshot object at 0x1179b5550>, 119821506910823800303319164102417499027L, store.snapshots[BaseSnapshot] : 1210 object(s))\n",
      "(<openpathsampling.engines.toy.snapshot.ToySnapshot object at 0x1179b5590>, 119821506910823800303319164102417499011L, store.snapshots[BaseSnapshot] : 1210 object(s))\n",
      "(<openpathsampling.engines.toy.snapshot.ToySnapshot object at 0x1179b55d0>, 119821506910823800303319164102417498995L, store.snapshots[BaseSnapshot] : 1210 object(s))\n",
      "(<openpathsampling.engines.toy.snapshot.ToySnapshot object at 0x1179b54d0>, 119821506910823800303319164102417498979L, store.snapshots[BaseSnapshot] : 1210 object(s))\n",
      "(<openpathsampling.engines.toy.snapshot.ToySnapshot object at 0x1179b5610>, 119821506910823800303319164102417498963L, store.snapshots[BaseSnapshot] : 1210 object(s))\n",
      "(<openpathsampling.engines.toy.snapshot.ToySnapshot object at 0x1179b5650>, 119821506910823800303319164102417498947L, store.snapshots[BaseSnapshot] : 1210 object(s))\n"
     ]
    },
    {
     "name": "stdout",
     "output_type": "stream",
     "text": [
      "(<openpathsampling.engines.toy.snapshot.ToySnapshot object at 0x1179b5690>, 119821506910823800303319164102417498931L, store.snapshots[BaseSnapshot] : 1210 object(s))\n",
      "(<openpathsampling.engines.toy.snapshot.ToySnapshot object at 0x1179b56d0>, 119821506910823800303319164102417498915L, store.snapshots[BaseSnapshot] : 1210 object(s))\n",
      "(<openpathsampling.engines.toy.snapshot.ToySnapshot object at 0x1179b5710>, 119821506910823800303319164102417498899L, store.snapshots[BaseSnapshot] : 1210 object(s))\n",
      "(<openpathsampling.engines.toy.snapshot.ToySnapshot object at 0x1179b5750>, 119821506910823800303319164102417498883L, store.snapshots[BaseSnapshot] : 1210 object(s))\n",
      "(<openpathsampling.engines.toy.snapshot.ToySnapshot object at 0x1179b5790>, 119821506910823800303319164102417498867L, store.snapshots[BaseSnapshot] : 1210 object(s))\n",
      "(<openpathsampling.engines.toy.snapshot.ToySnapshot object at 0x1179b57d0>, 119821506910823800303319164102417498851L, store.snapshots[BaseSnapshot] : 1210 object(s))\n",
      "(<openpathsampling.engines.toy.snapshot.ToySnapshot object at 0x1179b5810>, 119821506910823800303319164102417498835L, store.snapshots[BaseSnapshot] : 1210 object(s))\n",
      "(<openpathsampling.engines.toy.snapshot.ToySnapshot object at 0x1179b5850>, 119821506910823800303319164102417498819L, store.snapshots[BaseSnapshot] : 1210 object(s))\n",
      "(<openpathsampling.engines.toy.snapshot.ToySnapshot object at 0x1179b5890>, 119821506910823800303319164102417498803L, store.snapshots[BaseSnapshot] : 1210 object(s))\n",
      "(<openpathsampling.engines.toy.snapshot.ToySnapshot object at 0x1179b58d0>, 119821506910823800303319164102417498787L, store.snapshots[BaseSnapshot] : 1210 object(s))\n",
      "(<openpathsampling.engines.toy.snapshot.ToySnapshot object at 0x1179b5a10>, 119821506910823800303319164102417498771L, store.snapshots[BaseSnapshot] : 1210 object(s))\n",
      "(<openpathsampling.engines.toy.snapshot.ToySnapshot object at 0x1179b5910>, 119821506910823800303319164102417498755L, store.snapshots[BaseSnapshot] : 1210 object(s))\n",
      "(<openpathsampling.engines.toy.snapshot.ToySnapshot object at 0x1179b5950>, 119821506910823800303319164102417498739L, store.snapshots[BaseSnapshot] : 1210 object(s))\n",
      "(<openpathsampling.engines.toy.snapshot.ToySnapshot object at 0x1179b5990>, 119821506910823800303319164102417498723L, store.snapshots[BaseSnapshot] : 1210 object(s))\n",
      "(<openpathsampling.engines.toy.snapshot.ToySnapshot object at 0x1179b59d0>, 119821506910823800303319164102417498707L, store.snapshots[BaseSnapshot] : 1210 object(s))\n",
      "(<openpathsampling.engines.toy.snapshot.ToySnapshot object at 0x1179b5a50>, 119821506910823800303319164102417498691L, store.snapshots[BaseSnapshot] : 1210 object(s))\n",
      "(<openpathsampling.engines.toy.snapshot.ToySnapshot object at 0x1179b5a90>, 119821506910823800303319164102417498675L, store.snapshots[BaseSnapshot] : 1210 object(s))\n",
      "(<openpathsampling.engines.toy.snapshot.ToySnapshot object at 0x1179b5bd0>, 119821506910823800303319164102417498659L, store.snapshots[BaseSnapshot] : 1210 object(s))\n",
      "(<openpathsampling.engines.toy.snapshot.ToySnapshot object at 0x1179b5ad0>, 119821506910823800303319164102417498643L, store.snapshots[BaseSnapshot] : 1210 object(s))\n",
      "(<openpathsampling.engines.toy.snapshot.ToySnapshot object at 0x1179b5b10>, 119821506910823800303319164102417498627L, store.snapshots[BaseSnapshot] : 1210 object(s))\n",
      "(<openpathsampling.engines.toy.snapshot.ToySnapshot object at 0x1179b5b50>, 119821506910823800303319164102417498611L, store.snapshots[BaseSnapshot] : 1210 object(s))\n",
      "(<openpathsampling.engines.toy.snapshot.ToySnapshot object at 0x1179b5b90>, 119821506910823800303319164102417498595L, store.snapshots[BaseSnapshot] : 1210 object(s))\n",
      "(<openpathsampling.engines.toy.snapshot.ToySnapshot object at 0x1179b5c10>, 119821506910823800303319164102417498579L, store.snapshots[BaseSnapshot] : 1210 object(s))\n",
      "(<openpathsampling.engines.toy.snapshot.ToySnapshot object at 0x1179b5c50>, 119821506910823800303319164102417498563L, store.snapshots[BaseSnapshot] : 1210 object(s))\n",
      "(<openpathsampling.engines.toy.snapshot.ToySnapshot object at 0x1179b5c90>, 119821506910823800303319164102417498547L, store.snapshots[BaseSnapshot] : 1210 object(s))\n",
      "(<openpathsampling.engines.toy.snapshot.ToySnapshot object at 0x1179b5cd0>, 119821506910823800303319164102417498531L, store.snapshots[BaseSnapshot] : 1210 object(s))\n",
      "(<openpathsampling.engines.toy.snapshot.ToySnapshot object at 0x1179b5d10>, 119821506910823800303319164102417498515L, store.snapshots[BaseSnapshot] : 1210 object(s))\n",
      "(<openpathsampling.engines.toy.snapshot.ToySnapshot object at 0x1179b5d50>, 119821506910823800303319164102417498499L, store.snapshots[BaseSnapshot] : 1210 object(s))\n",
      "(<openpathsampling.engines.toy.snapshot.ToySnapshot object at 0x1179b5d90>, 119821506910823800303319164102417498483L, store.snapshots[BaseSnapshot] : 1210 object(s))\n",
      "(<openpathsampling.engines.toy.snapshot.ToySnapshot object at 0x1179b5dd0>, 119821506910823800303319164102417498467L, store.snapshots[BaseSnapshot] : 1210 object(s))\n",
      "(<openpathsampling.engines.toy.snapshot.ToySnapshot object at 0x1179b5e10>, 119821506910823800303319164102417498451L, store.snapshots[BaseSnapshot] : 1210 object(s))\n",
      "(<openpathsampling.engines.toy.snapshot.ToySnapshot object at 0x1179b5e90>, 119821506910823800303319164102417498435L, store.snapshots[BaseSnapshot] : 1210 object(s))\n",
      "(<openpathsampling.engines.toy.snapshot.ToySnapshot object at 0x1179b5ed0>, 119821506910823800303319164102417498419L, store.snapshots[BaseSnapshot] : 1210 object(s))\n",
      "(<openpathsampling.engines.toy.snapshot.ToySnapshot object at 0x1179b5f10>, 119821506910823800303319164102417498403L, store.snapshots[BaseSnapshot] : 1210 object(s))\n",
      "(<openpathsampling.engines.toy.snapshot.ToySnapshot object at 0x1179b5f50>, 119821506910823800303319164102417498387L, store.snapshots[BaseSnapshot] : 1210 object(s))\n",
      "(<openpathsampling.engines.toy.snapshot.ToySnapshot object at 0x1179b5e50>, 119821506910823800303319164102417498371L, store.snapshots[BaseSnapshot] : 1210 object(s))\n",
      "(<openpathsampling.engines.toy.snapshot.ToySnapshot object at 0x1179b5f90>, 119821506910823800303319164102417498355L, store.snapshots[BaseSnapshot] : 1210 object(s))\n",
      "(<openpathsampling.engines.toy.snapshot.ToySnapshot object at 0x1179b5fd0>, 119821506910823800303319164102417498339L, store.snapshots[BaseSnapshot] : 1210 object(s))\n",
      "(<openpathsampling.engines.toy.snapshot.ToySnapshot object at 0x1179ca050>, 119821506910823800303319164102417498323L, store.snapshots[BaseSnapshot] : 1210 object(s))\n",
      "(<openpathsampling.engines.toy.snapshot.ToySnapshot object at 0x1179ca090>, 119821506910823800303319164102417498307L, store.snapshots[BaseSnapshot] : 1210 object(s))\n",
      "(<openpathsampling.engines.toy.snapshot.ToySnapshot object at 0x1179ca0d0>, 119821506910823800303319164102417498291L, store.snapshots[BaseSnapshot] : 1210 object(s))\n",
      "(<openpathsampling.engines.toy.snapshot.ToySnapshot object at 0x1179ca110>, 119821506910823800303319164102417498275L, store.snapshots[BaseSnapshot] : 1210 object(s))\n",
      "(<openpathsampling.engines.toy.snapshot.ToySnapshot object at 0x1179ca150>, 119821506910823800303319164102417498259L, store.snapshots[BaseSnapshot] : 1210 object(s))\n",
      "(<openpathsampling.engines.toy.snapshot.ToySnapshot object at 0x1179ca190>, 119821506910823800303319164102417498243L, store.snapshots[BaseSnapshot] : 1210 object(s))\n",
      "(<openpathsampling.engines.toy.snapshot.ToySnapshot object at 0x1179ca1d0>, 119821506910823800303319164102417498227L, store.snapshots[BaseSnapshot] : 1210 object(s))\n",
      "(<openpathsampling.engines.toy.snapshot.ToySnapshot object at 0x1179ca210>, 119821506910823800303319164102417498211L, store.snapshots[BaseSnapshot] : 1210 object(s))\n",
      "(<openpathsampling.engines.toy.snapshot.ToySnapshot object at 0x1179ca250>, 119821506910823800303319164102417498195L, store.snapshots[BaseSnapshot] : 1210 object(s))\n",
      "(<openpathsampling.engines.toy.snapshot.ToySnapshot object at 0x1179ca290>, 119821506910823800303319164102417498179L, store.snapshots[BaseSnapshot] : 1210 object(s))\n",
      "(<openpathsampling.engines.toy.snapshot.ToySnapshot object at 0x1179ca2d0>, 119821506910823800303319164102417498163L, store.snapshots[BaseSnapshot] : 1210 object(s))\n",
      "(<openpathsampling.engines.toy.snapshot.ToySnapshot object at 0x1179ca310>, 119821506910823800303319164102417498147L, store.snapshots[BaseSnapshot] : 1210 object(s))\n",
      "(<openpathsampling.engines.toy.snapshot.ToySnapshot object at 0x1179ca350>, 119821506910823800303319164102417498131L, store.snapshots[BaseSnapshot] : 1210 object(s))\n",
      "(<openpathsampling.engines.toy.snapshot.ToySnapshot object at 0x1179ca490>, 119821506910823800303319164102417498115L, store.snapshots[BaseSnapshot] : 1210 object(s))\n",
      "(<openpathsampling.engines.toy.snapshot.ToySnapshot object at 0x1179ca390>, 119821506910823800303319164102417498099L, store.snapshots[BaseSnapshot] : 1210 object(s))\n",
      "(<openpathsampling.engines.toy.snapshot.ToySnapshot object at 0x1179ca3d0>, 119821506910823800303319164102417498083L, store.snapshots[BaseSnapshot] : 1210 object(s))\n",
      "(<openpathsampling.engines.toy.snapshot.ToySnapshot object at 0x1179ca410>, 119821506910823800303319164102417498067L, store.snapshots[BaseSnapshot] : 1210 object(s))\n"
     ]
    },
    {
     "name": "stdout",
     "output_type": "stream",
     "text": [
      "(<openpathsampling.engines.toy.snapshot.ToySnapshot object at 0x1179ca450>, 119821506910823800303319164102417498051L, store.snapshots[BaseSnapshot] : 1210 object(s))\n",
      "(<openpathsampling.engines.toy.snapshot.ToySnapshot object at 0x1179ca4d0>, 119821506910823800303319164102417498035L, store.snapshots[BaseSnapshot] : 1210 object(s))\n",
      "(<openpathsampling.engines.toy.snapshot.ToySnapshot object at 0x1179ca550>, 119821506910823800303319164102417498019L, store.snapshots[BaseSnapshot] : 1210 object(s))\n",
      "(<openpathsampling.engines.toy.snapshot.ToySnapshot object at 0x1179ca590>, 119821506910823800303319164102417498003L, store.snapshots[BaseSnapshot] : 1210 object(s))\n",
      "(<openpathsampling.engines.toy.snapshot.ToySnapshot object at 0x1179ca5d0>, 119821506910823800303319164102417497987L, store.snapshots[BaseSnapshot] : 1210 object(s))\n",
      "(<openpathsampling.engines.toy.snapshot.ToySnapshot object at 0x1179ca610>, 119821506910823800303319164102417497971L, store.snapshots[BaseSnapshot] : 1210 object(s))\n",
      "(<openpathsampling.engines.toy.snapshot.ToySnapshot object at 0x1179ca510>, 119821506910823800303319164102417497955L, store.snapshots[BaseSnapshot] : 1210 object(s))\n",
      "(<openpathsampling.engines.toy.snapshot.ToySnapshot object at 0x1179ca650>, 119821506910823800303319164102417497939L, store.snapshots[BaseSnapshot] : 1210 object(s))\n",
      "(<openpathsampling.engines.toy.snapshot.ToySnapshot object at 0x1179ca690>, 119821506910823800303319164102417497923L, store.snapshots[BaseSnapshot] : 1210 object(s))\n",
      "(<openpathsampling.engines.toy.snapshot.ToySnapshot object at 0x1179ca6d0>, 119821506910823800303319164102417497907L, store.snapshots[BaseSnapshot] : 1210 object(s))\n",
      "(<openpathsampling.engines.toy.snapshot.ToySnapshot object at 0x1179ca710>, 119821506910823800303319164102417497891L, store.snapshots[BaseSnapshot] : 1210 object(s))\n",
      "(<openpathsampling.engines.toy.snapshot.ToySnapshot object at 0x1179ca750>, 119821506910823800303319164102417497875L, store.snapshots[BaseSnapshot] : 1210 object(s))\n",
      "(<openpathsampling.engines.toy.snapshot.ToySnapshot object at 0x1179ca790>, 119821506910823800303319164102417497859L, store.snapshots[BaseSnapshot] : 1210 object(s))\n",
      "(<openpathsampling.engines.toy.snapshot.ToySnapshot object at 0x1179ca8d0>, 119821506910823800303319164102417497843L, store.snapshots[BaseSnapshot] : 1210 object(s))\n",
      "(<openpathsampling.engines.toy.snapshot.ToySnapshot object at 0x1179ca7d0>, 119821506910823800303319164102417497827L, store.snapshots[BaseSnapshot] : 1210 object(s))\n",
      "(<openpathsampling.engines.toy.snapshot.ToySnapshot object at 0x1179ca810>, 119821506910823800303319164102417497811L, store.snapshots[BaseSnapshot] : 1210 object(s))\n",
      "(<openpathsampling.engines.toy.snapshot.ToySnapshot object at 0x1179ca850>, 119821506910823800303319164102417497795L, store.snapshots[BaseSnapshot] : 1210 object(s))\n",
      "(<openpathsampling.engines.toy.snapshot.ToySnapshot object at 0x1179ca890>, 119821506910823800303319164102417497779L, store.snapshots[BaseSnapshot] : 1210 object(s))\n",
      "(<openpathsampling.engines.toy.snapshot.ToySnapshot object at 0x1179ca910>, 119821506910823800303319164102417497763L, store.snapshots[BaseSnapshot] : 1210 object(s))\n",
      "(<openpathsampling.engines.toy.snapshot.ToySnapshot object at 0x1179ca950>, 119821506910823800303319164102417497747L, store.snapshots[BaseSnapshot] : 1210 object(s))\n",
      "(<openpathsampling.engines.toy.snapshot.ToySnapshot object at 0x1179ca990>, 119821506910823800303319164102417497731L, store.snapshots[BaseSnapshot] : 1210 object(s))\n",
      "(<openpathsampling.engines.toy.snapshot.ToySnapshot object at 0x1179ca9d0>, 119821506910823800303319164102417497715L, store.snapshots[BaseSnapshot] : 1210 object(s))\n",
      "(<openpathsampling.engines.toy.snapshot.ToySnapshot object at 0x1179caa10>, 119821506910823800303319164102417483607L, store.snapshots[BaseSnapshot] : 1210 object(s))\n",
      "(<openpathsampling.engines.toy.snapshot.ToySnapshot object at 0x1179caa50>, 119821506910823800303319164102417483591L, store.snapshots[BaseSnapshot] : 1210 object(s))\n",
      "(<openpathsampling.engines.toy.snapshot.ToySnapshot object at 0x1179caa90>, 119821506910823800303319164102417483575L, store.snapshots[BaseSnapshot] : 1210 object(s))\n",
      "(<openpathsampling.engines.toy.snapshot.ToySnapshot object at 0x1179caad0>, 119821506910823800303319164102417483559L, store.snapshots[BaseSnapshot] : 1210 object(s))\n",
      "(<openpathsampling.engines.toy.snapshot.ToySnapshot object at 0x1179cab10>, 119821506910823800303319164102417483543L, store.snapshots[BaseSnapshot] : 1210 object(s))\n",
      "(<openpathsampling.engines.toy.snapshot.ToySnapshot object at 0x1179cab50>, 119821506910823800303319164102417483527L, store.snapshots[BaseSnapshot] : 1210 object(s))\n",
      "(<openpathsampling.engines.toy.snapshot.ToySnapshot object at 0x1179cab90>, 119821506910823800303319164102417483511L, store.snapshots[BaseSnapshot] : 1210 object(s))\n",
      "(<openpathsampling.engines.toy.snapshot.ToySnapshot object at 0x1179cabd0>, 119821506910823800303319164102417483495L, store.snapshots[BaseSnapshot] : 1210 object(s))\n",
      "(<openpathsampling.engines.toy.snapshot.ToySnapshot object at 0x1179cac10>, 119821506910823800303319164102417483479L, store.snapshots[BaseSnapshot] : 1210 object(s))\n",
      "(<openpathsampling.engines.toy.snapshot.ToySnapshot object at 0x1179cac50>, 119821506910823800303319164102417483463L, store.snapshots[BaseSnapshot] : 1210 object(s))\n",
      "(<openpathsampling.engines.toy.snapshot.ToySnapshot object at 0x1179cac90>, 119821506910823800303319164102417483447L, store.snapshots[BaseSnapshot] : 1210 object(s))\n",
      "(<openpathsampling.engines.toy.snapshot.ToySnapshot object at 0x1179cacd0>, 119821506910823800303319164102417483431L, store.snapshots[BaseSnapshot] : 1210 object(s))\n",
      "(<openpathsampling.engines.toy.snapshot.ToySnapshot object at 0x1179cad10>, 119821506910823800303319164102417483415L, store.snapshots[BaseSnapshot] : 1210 object(s))\n",
      "(<openpathsampling.engines.toy.snapshot.ToySnapshot object at 0x1179cad50>, 119821506910823800303319164102417483399L, store.snapshots[BaseSnapshot] : 1210 object(s))\n",
      "(<openpathsampling.engines.toy.snapshot.ToySnapshot object at 0x1179cae90>, 119821506910823800303319164102417483383L, store.snapshots[BaseSnapshot] : 1210 object(s))\n",
      "(<openpathsampling.engines.toy.snapshot.ToySnapshot object at 0x1179cad90>, 119821506910823800303319164102417483367L, store.snapshots[BaseSnapshot] : 1210 object(s))\n",
      "(<openpathsampling.engines.toy.snapshot.ToySnapshot object at 0x1179cadd0>, 119821506910823800303319164102417483351L, store.snapshots[BaseSnapshot] : 1210 object(s))\n",
      "(<openpathsampling.engines.toy.snapshot.ToySnapshot object at 0x1179cae10>, 119821506910823800303319164102417483335L, store.snapshots[BaseSnapshot] : 1210 object(s))\n",
      "(<openpathsampling.engines.toy.snapshot.ToySnapshot object at 0x1179cae50>, 119821506910823800303319164102417449737L, store.snapshots[BaseSnapshot] : 1210 object(s))\n",
      "(<openpathsampling.engines.toy.snapshot.ToySnapshot object at 0x1179caed0>, 119821506910823800303319164102417449721L, store.snapshots[BaseSnapshot] : 1210 object(s))\n",
      "(<openpathsampling.engines.toy.snapshot.ToySnapshot object at 0x1179caf10>, 119821506910823800303319164102417449705L, store.snapshots[BaseSnapshot] : 1210 object(s))\n",
      "(<openpathsampling.engines.toy.snapshot.ToySnapshot object at 0x1179caf50>, 119821506910823800303319164102417492052L, store.snapshots[BaseSnapshot] : 1210 object(s))\n",
      "(<openpathsampling.engines.toy.snapshot.ToySnapshot object at 0x1179caf90>, 119821506910823800303319164102417492070L, store.snapshots[BaseSnapshot] : 1210 object(s))\n",
      "(<openpathsampling.engines.toy.snapshot.ToySnapshot object at 0x1179cafd0>, 119821506910823800303319164102417492088L, store.snapshots[BaseSnapshot] : 1210 object(s))\n",
      "(<openpathsampling.engines.toy.snapshot.ToySnapshot object at 0x1179da050>, 119821506910823800303319164102417492106L, store.snapshots[BaseSnapshot] : 1210 object(s))\n",
      "(<openpathsampling.engines.toy.snapshot.ToySnapshot object at 0x1179da090>, 119821506910823800303319164102417492124L, store.snapshots[BaseSnapshot] : 1210 object(s))\n",
      "(<openpathsampling.engines.toy.snapshot.ToySnapshot object at 0x1179da1d0>, 119821506910823800303319164102417492142L, store.snapshots[BaseSnapshot] : 1210 object(s))\n",
      "(<openpathsampling.engines.toy.snapshot.ToySnapshot object at 0x1179da0d0>, 119821506910823800303319164102417492160L, store.snapshots[BaseSnapshot] : 1210 object(s))\n",
      "(<openpathsampling.engines.toy.snapshot.ToySnapshot object at 0x1179da110>, 119821506910823800303319164102417492178L, store.snapshots[BaseSnapshot] : 1210 object(s))\n",
      "(<openpathsampling.engines.toy.snapshot.ToySnapshot object at 0x1179da150>, 119821506910823800303319164102417492196L, store.snapshots[BaseSnapshot] : 1210 object(s))\n",
      "(<openpathsampling.engines.toy.snapshot.ToySnapshot object at 0x1179da190>, 119821506910823800303319164102417492214L, store.snapshots[BaseSnapshot] : 1210 object(s))\n",
      "(<openpathsampling.engines.toy.snapshot.ToySnapshot object at 0x1179da210>, 119821506910823800303319164102417492232L, store.snapshots[BaseSnapshot] : 1210 object(s))\n",
      "(<openpathsampling.engines.toy.snapshot.ToySnapshot object at 0x1179da250>, 119821506910823800303319164102417492250L, store.snapshots[BaseSnapshot] : 1210 object(s))\n",
      "(<openpathsampling.engines.toy.snapshot.ToySnapshot object at 0x1179da290>, 119821506910823800303319164102417492268L, store.snapshots[BaseSnapshot] : 1210 object(s))\n",
      "(<openpathsampling.engines.toy.snapshot.ToySnapshot object at 0x1179da2d0>, 119821506910823800303319164102417492286L, store.snapshots[BaseSnapshot] : 1210 object(s))\n"
     ]
    },
    {
     "name": "stdout",
     "output_type": "stream",
     "text": [
      "(<openpathsampling.engines.toy.snapshot.ToySnapshot object at 0x1179da410>, 119821506910823800303319164102417492304L, store.snapshots[BaseSnapshot] : 1210 object(s))\n",
      "(<openpathsampling.engines.toy.snapshot.ToySnapshot object at 0x1179da310>, 119821506910823800303319164102417492322L, store.snapshots[BaseSnapshot] : 1210 object(s))\n",
      "(<openpathsampling.engines.toy.snapshot.ToySnapshot object at 0x1179da350>, 119821506910823800303319164102417492340L, store.snapshots[BaseSnapshot] : 1210 object(s))\n",
      "(<openpathsampling.engines.toy.snapshot.ToySnapshot object at 0x1179da390>, 119821506910823800303319164102417492358L, store.snapshots[BaseSnapshot] : 1210 object(s))\n",
      "(<openpathsampling.engines.toy.snapshot.ToySnapshot object at 0x1179da3d0>, 119821506910823800303319164102417492376L, store.snapshots[BaseSnapshot] : 1210 object(s))\n",
      "(<openpathsampling.engines.toy.snapshot.ToySnapshot object at 0x1179da450>, 119821506910823800303319164102417492394L, store.snapshots[BaseSnapshot] : 1210 object(s))\n",
      "(<openpathsampling.engines.toy.snapshot.ToySnapshot object at 0x1179da490>, 119821506910823800303319164102417492412L, store.snapshots[BaseSnapshot] : 1210 object(s))\n",
      "(<openpathsampling.engines.toy.snapshot.ToySnapshot object at 0x1179da4d0>, 119821506910823800303319164102417492430L, store.snapshots[BaseSnapshot] : 1210 object(s))\n",
      "(<openpathsampling.engines.toy.snapshot.ToySnapshot object at 0x1179da510>, 119821506910823800303319164102417492448L, store.snapshots[BaseSnapshot] : 1210 object(s))\n",
      "(<openpathsampling.engines.toy.snapshot.ToySnapshot object at 0x1179da550>, 119821506910823800303319164102417492466L, store.snapshots[BaseSnapshot] : 1210 object(s))\n",
      "(<openpathsampling.engines.toy.snapshot.ToySnapshot object at 0x1179da590>, 119821506910823800303319164102417492484L, store.snapshots[BaseSnapshot] : 1210 object(s))\n",
      "(<openpathsampling.engines.toy.snapshot.ToySnapshot object at 0x1179da5d0>, 119821506910823800303319164102417492502L, store.snapshots[BaseSnapshot] : 1210 object(s))\n",
      "(<openpathsampling.engines.toy.snapshot.ToySnapshot object at 0x1179da610>, 119821506910823800303319164102417492520L, store.snapshots[BaseSnapshot] : 1210 object(s))\n",
      "(<openpathsampling.engines.toy.snapshot.ToySnapshot object at 0x1179da650>, 119821506910823800303319164102417492538L, store.snapshots[BaseSnapshot] : 1210 object(s))\n",
      "(<openpathsampling.engines.toy.snapshot.ToySnapshot object at 0x117968990>, 119821506910823800303319164102417521591L, store.snapshots[BaseSnapshot] : 1210 object(s))\n",
      "(<openpathsampling.engines.toy.snapshot.ToySnapshot object at 0x1179da790>, 119821506910823800303319164102417643467L, store.snapshots[BaseSnapshot] : 1210 object(s))\n",
      "(<openpathsampling.engines.toy.snapshot.ToySnapshot object at 0x1179da690>, 119821506910823800303319164102417771837L, store.snapshots[BaseSnapshot] : 1210 object(s))\n",
      "(<openpathsampling.engines.toy.snapshot.ToySnapshot object at 0x1179da810>, 119821506910823800303319164102417792829L, store.snapshots[BaseSnapshot] : 1210 object(s))\n",
      "(<openpathsampling.engines.toy.snapshot.ToySnapshot object at 0x1179da6d0>, 119821506910823800303319164102417521575L, store.snapshots[BaseSnapshot] : 1210 object(s))\n",
      "(<openpathsampling.engines.toy.snapshot.ToySnapshot object at 0x1179da750>, 119821506910823800303319164102417521559L, store.snapshots[BaseSnapshot] : 1210 object(s))\n",
      "(<openpathsampling.engines.toy.snapshot.ToySnapshot object at 0x1179da7d0>, 119821506910823800303319164102417521543L, store.snapshots[BaseSnapshot] : 1210 object(s))\n",
      "(<openpathsampling.engines.toy.snapshot.ToySnapshot object at 0x1179da850>, 119821506910823800303319164102417521527L, store.snapshots[BaseSnapshot] : 1210 object(s))\n",
      "(<openpathsampling.engines.toy.snapshot.ToySnapshot object at 0x1179da890>, 119821506910823800303319164102417521511L, store.snapshots[BaseSnapshot] : 1210 object(s))\n",
      "(<openpathsampling.engines.toy.snapshot.ToySnapshot object at 0x1179da8d0>, 119821506910823800303319164102417521495L, store.snapshots[BaseSnapshot] : 1210 object(s))\n",
      "(<openpathsampling.engines.toy.snapshot.ToySnapshot object at 0x1179da910>, 119821506910823800303319164102417521479L, store.snapshots[BaseSnapshot] : 1210 object(s))\n",
      "(<openpathsampling.engines.toy.snapshot.ToySnapshot object at 0x1179da950>, 119821506910823800303319164102417521463L, store.snapshots[BaseSnapshot] : 1210 object(s))\n",
      "(<openpathsampling.engines.toy.snapshot.ToySnapshot object at 0x1179da990>, 119821506910823800303319164102417521447L, store.snapshots[BaseSnapshot] : 1210 object(s))\n",
      "(<openpathsampling.engines.toy.snapshot.ToySnapshot object at 0x1179da9d0>, 119821506910823800303319164102417521431L, store.snapshots[BaseSnapshot] : 1210 object(s))\n",
      "(<openpathsampling.engines.toy.snapshot.ToySnapshot object at 0x1179daa10>, 119821506910823800303319164102417521415L, store.snapshots[BaseSnapshot] : 1210 object(s))\n",
      "(<openpathsampling.engines.toy.snapshot.ToySnapshot object at 0x1179daa50>, 119821506910823800303319164102417521399L, store.snapshots[BaseSnapshot] : 1210 object(s))\n",
      "(<openpathsampling.engines.toy.snapshot.ToySnapshot object at 0x1179daa90>, 119821506910823800303319164102417521383L, store.snapshots[BaseSnapshot] : 1210 object(s))\n",
      "(<openpathsampling.engines.toy.snapshot.ToySnapshot object at 0x1179dabd0>, 119821506910823800303319164102417521367L, store.snapshots[BaseSnapshot] : 1210 object(s))\n",
      "(<openpathsampling.engines.toy.snapshot.ToySnapshot object at 0x1179dac10>, 119821506910823800303319164102417521351L, store.snapshots[BaseSnapshot] : 1210 object(s))\n",
      "(<openpathsampling.engines.toy.snapshot.ToySnapshot object at 0x1179daad0>, 119821506910823800303319164102417511596L, store.snapshots[BaseSnapshot] : 1210 object(s))\n",
      "(<openpathsampling.engines.toy.snapshot.ToySnapshot object at 0x1179dab10>, 119821506910823800303319164102417511616L, store.snapshots[BaseSnapshot] : 1210 object(s))\n",
      "(<openpathsampling.engines.toy.snapshot.ToySnapshot object at 0x1179dab50>, 119821506910823800303319164102417511636L, store.snapshots[BaseSnapshot] : 1210 object(s))\n",
      "(<openpathsampling.engines.toy.snapshot.ToySnapshot object at 0x1179dab90>, 119821506910823800303319164102417511656L, store.snapshots[BaseSnapshot] : 1210 object(s))\n",
      "(<openpathsampling.engines.toy.snapshot.ToySnapshot object at 0x1179dac50>, 119821506910823800303319164102417511676L, store.snapshots[BaseSnapshot] : 1210 object(s))\n",
      "(<openpathsampling.engines.toy.snapshot.ToySnapshot object at 0x1179dac90>, 119821506910823800303319164102417511696L, store.snapshots[BaseSnapshot] : 1210 object(s))\n",
      "(<openpathsampling.engines.toy.snapshot.ToySnapshot object at 0x1179dacd0>, 119821506910823800303319164102417511716L, store.snapshots[BaseSnapshot] : 1210 object(s))\n",
      "(<openpathsampling.engines.toy.snapshot.ToySnapshot object at 0x1179dad50>, 119821506910823800303319164102417511736L, store.snapshots[BaseSnapshot] : 1210 object(s))\n",
      "(<openpathsampling.engines.toy.snapshot.ToySnapshot object at 0x1179dad90>, 119821506910823800303319164102417511756L, store.snapshots[BaseSnapshot] : 1210 object(s))\n",
      "(<openpathsampling.engines.toy.snapshot.ToySnapshot object at 0x1179dadd0>, 119821506910823800303319164102417511776L, store.snapshots[BaseSnapshot] : 1210 object(s))\n",
      "(<openpathsampling.engines.toy.snapshot.ToySnapshot object at 0x1179dae10>, 119821506910823800303319164102417511796L, store.snapshots[BaseSnapshot] : 1210 object(s))\n",
      "(<openpathsampling.engines.toy.snapshot.ToySnapshot object at 0x1179dad10>, 119821506910823800303319164102417511816L, store.snapshots[BaseSnapshot] : 1210 object(s))\n",
      "(<openpathsampling.engines.toy.snapshot.ToySnapshot object at 0x1179dae50>, 119821506910823800303319164102417511836L, store.snapshots[BaseSnapshot] : 1210 object(s))\n",
      "(<openpathsampling.engines.toy.snapshot.ToySnapshot object at 0x1179dae90>, 119821506910823800303319164102417511856L, store.snapshots[BaseSnapshot] : 1210 object(s))\n",
      "(<openpathsampling.engines.toy.snapshot.ToySnapshot object at 0x1179daed0>, 119821506910823800303319164102417511876L, store.snapshots[BaseSnapshot] : 1210 object(s))\n",
      "(<openpathsampling.engines.toy.snapshot.ToySnapshot object at 0x1179daf10>, 119821506910823800303319164102417511896L, store.snapshots[BaseSnapshot] : 1210 object(s))\n",
      "(<openpathsampling.engines.toy.snapshot.ToySnapshot object at 0x1179daf50>, 119821506910823800303319164102417511916L, store.snapshots[BaseSnapshot] : 1210 object(s))\n",
      "(<openpathsampling.engines.toy.snapshot.ToySnapshot object at 0x1179daf90>, 119821506910823800303319164102417511936L, store.snapshots[BaseSnapshot] : 1210 object(s))\n",
      "(<openpathsampling.engines.toy.snapshot.ToySnapshot object at 0x1179dafd0>, 119821506910823800303319164102417511956L, store.snapshots[BaseSnapshot] : 1210 object(s))\n",
      "(<openpathsampling.engines.toy.snapshot.ToySnapshot object at 0x1179ed050>, 119821506910823800303319164102417511976L, store.snapshots[BaseSnapshot] : 1210 object(s))\n",
      "(<openpathsampling.engines.toy.snapshot.ToySnapshot object at 0x1179da710>, 119821506910823800303319164102417643451L, store.snapshots[BaseSnapshot] : 1210 object(s))\n"
     ]
    },
    {
     "name": "stdout",
     "output_type": "stream",
     "text": [
      "(<openpathsampling.engines.toy.snapshot.ToySnapshot object at 0x1179ed0d0>, 119821506910823800303319164102417643435L, store.snapshots[BaseSnapshot] : 1210 object(s))\n",
      "(<openpathsampling.engines.toy.snapshot.ToySnapshot object at 0x1179ed110>, 119821506910823800303319164102417643419L, store.snapshots[BaseSnapshot] : 1210 object(s))\n",
      "(<openpathsampling.engines.toy.snapshot.ToySnapshot object at 0x1179ed150>, 119821506910823800303319164102417643403L, store.snapshots[BaseSnapshot] : 1210 object(s))\n",
      "(<openpathsampling.engines.toy.snapshot.ToySnapshot object at 0x1179ed190>, 119821506910823800303319164102417643387L, store.snapshots[BaseSnapshot] : 1210 object(s))\n",
      "(<openpathsampling.engines.toy.snapshot.ToySnapshot object at 0x1179ed1d0>, 119821506910823800303319164102417637357L, store.snapshots[BaseSnapshot] : 1210 object(s))\n",
      "(<openpathsampling.engines.toy.snapshot.ToySnapshot object at 0x1179ed210>, 119821506910823800303319164102417637341L, store.snapshots[BaseSnapshot] : 1210 object(s))\n",
      "(<openpathsampling.engines.toy.snapshot.ToySnapshot object at 0x1179ed250>, 119821506910823800303319164102417637325L, store.snapshots[BaseSnapshot] : 1210 object(s))\n",
      "(<openpathsampling.engines.toy.snapshot.ToySnapshot object at 0x1179ed290>, 119821506910823800303319164102417637309L, store.snapshots[BaseSnapshot] : 1210 object(s))\n",
      "(<openpathsampling.engines.toy.snapshot.ToySnapshot object at 0x1179ed2d0>, 119821506910823800303319164102417637293L, store.snapshots[BaseSnapshot] : 1210 object(s))\n",
      "(<openpathsampling.engines.toy.snapshot.ToySnapshot object at 0x1179ed350>, 119821506910823800303319164102417637277L, store.snapshots[BaseSnapshot] : 1210 object(s))\n",
      "(<openpathsampling.engines.toy.snapshot.ToySnapshot object at 0x1179ed390>, 119821506910823800303319164102417637261L, store.snapshots[BaseSnapshot] : 1210 object(s))\n",
      "(<openpathsampling.engines.toy.snapshot.ToySnapshot object at 0x1179ed3d0>, 119821506910823800303319164102417637245L, store.snapshots[BaseSnapshot] : 1210 object(s))\n",
      "(<openpathsampling.engines.toy.snapshot.ToySnapshot object at 0x1179ed410>, 119821506910823800303319164102417637229L, store.snapshots[BaseSnapshot] : 1210 object(s))\n",
      "(<openpathsampling.engines.toy.snapshot.ToySnapshot object at 0x1179ed310>, 119821506910823800303319164102417637213L, store.snapshots[BaseSnapshot] : 1210 object(s))\n",
      "(<openpathsampling.engines.toy.snapshot.ToySnapshot object at 0x1179ed450>, 119821506910823800303319164102417637197L, store.snapshots[BaseSnapshot] : 1210 object(s))\n",
      "(<openpathsampling.engines.toy.snapshot.ToySnapshot object at 0x1179ed490>, 119821506910823800303319164102417637181L, store.snapshots[BaseSnapshot] : 1210 object(s))\n",
      "(<openpathsampling.engines.toy.snapshot.ToySnapshot object at 0x1179ed4d0>, 119821506910823800303319164102417646424L, store.snapshots[BaseSnapshot] : 1210 object(s))\n",
      "(<openpathsampling.engines.toy.snapshot.ToySnapshot object at 0x1179ed510>, 119821506910823800303319164102417646442L, store.snapshots[BaseSnapshot] : 1210 object(s))\n",
      "(<openpathsampling.engines.toy.snapshot.ToySnapshot object at 0x1179ed550>, 119821506910823800303319164102417646460L, store.snapshots[BaseSnapshot] : 1210 object(s))\n",
      "(<openpathsampling.engines.toy.snapshot.ToySnapshot object at 0x1179ed590>, 119821506910823800303319164102417646478L, store.snapshots[BaseSnapshot] : 1210 object(s))\n",
      "(<openpathsampling.engines.toy.snapshot.ToySnapshot object at 0x1179ed5d0>, 119821506910823800303319164102417646496L, store.snapshots[BaseSnapshot] : 1210 object(s))\n",
      "(<openpathsampling.engines.toy.snapshot.ToySnapshot object at 0x1179ed610>, 119821506910823800303319164102417646514L, store.snapshots[BaseSnapshot] : 1210 object(s))\n",
      "(<openpathsampling.engines.toy.snapshot.ToySnapshot object at 0x1179ed650>, 119821506910823800303319164102417646532L, store.snapshots[BaseSnapshot] : 1210 object(s))\n",
      "(<openpathsampling.engines.toy.snapshot.ToySnapshot object at 0x1179ed690>, 119821506910823800303319164102417646550L, store.snapshots[BaseSnapshot] : 1210 object(s))\n",
      "(<openpathsampling.engines.toy.snapshot.ToySnapshot object at 0x1179ed6d0>, 119821506910823800303319164102417646568L, store.snapshots[BaseSnapshot] : 1210 object(s))\n",
      "(<openpathsampling.engines.toy.snapshot.ToySnapshot object at 0x1179ed710>, 119821506910823800303319164102417646586L, store.snapshots[BaseSnapshot] : 1210 object(s))\n",
      "(<openpathsampling.engines.toy.snapshot.ToySnapshot object at 0x1179ed750>, 119821506910823800303319164102417646604L, store.snapshots[BaseSnapshot] : 1210 object(s))\n",
      "(<openpathsampling.engines.toy.snapshot.ToySnapshot object at 0x1179ed790>, 119821506910823800303319164102417646622L, store.snapshots[BaseSnapshot] : 1210 object(s))\n",
      "(<openpathsampling.engines.toy.snapshot.ToySnapshot object at 0x1179ed8d0>, 119821506910823800303319164102417646640L, store.snapshots[BaseSnapshot] : 1210 object(s))\n",
      "(<openpathsampling.engines.toy.snapshot.ToySnapshot object at 0x1179ed7d0>, 119821506910823800303319164102417646658L, store.snapshots[BaseSnapshot] : 1210 object(s))\n",
      "(<openpathsampling.engines.toy.snapshot.ToySnapshot object at 0x1179ed810>, 119821506910823800303319164102417646676L, store.snapshots[BaseSnapshot] : 1210 object(s))\n",
      "(<openpathsampling.engines.toy.snapshot.ToySnapshot object at 0x1179ed850>, 119821506910823800303319164102417646694L, store.snapshots[BaseSnapshot] : 1210 object(s))\n",
      "(<openpathsampling.engines.toy.snapshot.ToySnapshot object at 0x1179ed890>, 119821506910823800303319164102417646712L, store.snapshots[BaseSnapshot] : 1210 object(s))\n",
      "(<openpathsampling.engines.toy.snapshot.ToySnapshot object at 0x1179ed910>, 119821506910823800303319164102417646730L, store.snapshots[BaseSnapshot] : 1210 object(s))\n",
      "(<openpathsampling.engines.toy.snapshot.ToySnapshot object at 0x1179ed950>, 119821506910823800303319164102417646748L, store.snapshots[BaseSnapshot] : 1210 object(s))\n",
      "(<openpathsampling.engines.toy.snapshot.ToySnapshot object at 0x1179ed990>, 119821506910823800303319164102417646766L, store.snapshots[BaseSnapshot] : 1210 object(s))\n",
      "(<openpathsampling.engines.toy.snapshot.ToySnapshot object at 0x1179edad0>, 119821506910823800303319164102417646784L, store.snapshots[BaseSnapshot] : 1210 object(s))\n",
      "(<openpathsampling.engines.toy.snapshot.ToySnapshot object at 0x1179ed9d0>, 119821506910823800303319164102417646802L, store.snapshots[BaseSnapshot] : 1210 object(s))\n",
      "(<openpathsampling.engines.toy.snapshot.ToySnapshot object at 0x1179eda10>, 119821506910823800303319164102417646820L, store.snapshots[BaseSnapshot] : 1210 object(s))\n",
      "(<openpathsampling.engines.toy.snapshot.ToySnapshot object at 0x1179eda50>, 119821506910823800303319164102417646838L, store.snapshots[BaseSnapshot] : 1210 object(s))\n",
      "(<openpathsampling.engines.toy.snapshot.ToySnapshot object at 0x1179eda90>, 119821506910823800303319164102417646856L, store.snapshots[BaseSnapshot] : 1210 object(s))\n",
      "(<openpathsampling.engines.toy.snapshot.ToySnapshot object at 0x1179edb10>, 119821506910823800303319164102417646874L, store.snapshots[BaseSnapshot] : 1210 object(s))\n",
      "(<openpathsampling.engines.toy.snapshot.ToySnapshot object at 0x1179edb50>, 119821506910823800303319164102417646892L, store.snapshots[BaseSnapshot] : 1210 object(s))\n",
      "(<openpathsampling.engines.toy.snapshot.ToySnapshot object at 0x1179edb90>, 119821506910823800303319164102417646910L, store.snapshots[BaseSnapshot] : 1210 object(s))\n",
      "(<openpathsampling.engines.toy.snapshot.ToySnapshot object at 0x1179edbd0>, 119821506910823800303319164102417646928L, store.snapshots[BaseSnapshot] : 1210 object(s))\n",
      "(<openpathsampling.engines.toy.snapshot.ToySnapshot object at 0x1179edc10>, 119821506910823800303319164102417646946L, store.snapshots[BaseSnapshot] : 1210 object(s))\n",
      "(<openpathsampling.engines.toy.snapshot.ToySnapshot object at 0x1179edc50>, 119821506910823800303319164102417646964L, store.snapshots[BaseSnapshot] : 1210 object(s))\n",
      "(<openpathsampling.engines.toy.snapshot.ToySnapshot object at 0x1179edc90>, 119821506910823800303319164102417646982L, store.snapshots[BaseSnapshot] : 1210 object(s))\n",
      "(<openpathsampling.engines.toy.snapshot.ToySnapshot object at 0x1179edcd0>, 119821506910823800303319164102417647000L, store.snapshots[BaseSnapshot] : 1210 object(s))\n",
      "(<openpathsampling.engines.toy.snapshot.ToySnapshot object at 0x1179edd10>, 119821506910823800303319164102417647018L, store.snapshots[BaseSnapshot] : 1210 object(s))\n",
      "(<openpathsampling.engines.toy.snapshot.ToySnapshot object at 0x1179edd50>, 119821506910823800303319164102417647036L, store.snapshots[BaseSnapshot] : 1210 object(s))\n"
     ]
    },
    {
     "name": "stdout",
     "output_type": "stream",
     "text": [
      "(<openpathsampling.engines.toy.snapshot.ToySnapshot object at 0x1179edd90>, 119821506910823800303319164102417647054L, store.snapshots[BaseSnapshot] : 1210 object(s))\n",
      "(<openpathsampling.engines.toy.snapshot.ToySnapshot object at 0x1179eddd0>, 119821506910823800303319164102417647072L, store.snapshots[BaseSnapshot] : 1210 object(s))\n",
      "(<openpathsampling.engines.toy.snapshot.ToySnapshot object at 0x1179ede10>, 119821506910823800303319164102417647090L, store.snapshots[BaseSnapshot] : 1210 object(s))\n",
      "(<openpathsampling.engines.toy.snapshot.ToySnapshot object at 0x1179ede50>, 119821506910823800303319164102417647108L, store.snapshots[BaseSnapshot] : 1210 object(s))\n",
      "(<openpathsampling.engines.toy.snapshot.ToySnapshot object at 0x1179ede90>, 119821506910823800303319164102417647126L, store.snapshots[BaseSnapshot] : 1210 object(s))\n",
      "(<openpathsampling.engines.toy.snapshot.ToySnapshot object at 0x1179eded0>, 119821506910823800303319164102417647144L, store.snapshots[BaseSnapshot] : 1210 object(s))\n",
      "(<openpathsampling.engines.toy.snapshot.ToySnapshot object at 0x1179edf10>, 119821506910823800303319164102417647162L, store.snapshots[BaseSnapshot] : 1210 object(s))\n",
      "(<openpathsampling.engines.toy.snapshot.ToySnapshot object at 0x1179edf50>, 119821506910823800303319164102417647180L, store.snapshots[BaseSnapshot] : 1210 object(s))\n",
      "(<openpathsampling.engines.toy.snapshot.ToySnapshot object at 0x1179edf90>, 119821506910823800303319164102417647198L, store.snapshots[BaseSnapshot] : 1210 object(s))\n",
      "(<openpathsampling.engines.toy.snapshot.ToySnapshot object at 0x1179edfd0>, 119821506910823800303319164102417647216L, store.snapshots[BaseSnapshot] : 1210 object(s))\n",
      "(<openpathsampling.engines.toy.snapshot.ToySnapshot object at 0x1179ff050>, 119821506910823800303319164102417647234L, store.snapshots[BaseSnapshot] : 1210 object(s))\n",
      "(<openpathsampling.engines.toy.snapshot.ToySnapshot object at 0x1179ff090>, 119821506910823800303319164102417647252L, store.snapshots[BaseSnapshot] : 1210 object(s))\n",
      "(<openpathsampling.engines.toy.snapshot.ToySnapshot object at 0x1179ff0d0>, 119821506910823800303319164102417647270L, store.snapshots[BaseSnapshot] : 1210 object(s))\n",
      "(<openpathsampling.engines.toy.snapshot.ToySnapshot object at 0x1179ff110>, 119821506910823800303319164102417647288L, store.snapshots[BaseSnapshot] : 1210 object(s))\n",
      "(<openpathsampling.engines.toy.snapshot.ToySnapshot object at 0x1179ff150>, 119821506910823800303319164102417647306L, store.snapshots[BaseSnapshot] : 1210 object(s))\n",
      "(<openpathsampling.engines.toy.snapshot.ToySnapshot object at 0x1179ff190>, 119821506910823800303319164102417647324L, store.snapshots[BaseSnapshot] : 1210 object(s))\n",
      "(<openpathsampling.engines.toy.snapshot.ToySnapshot object at 0x1179ff1d0>, 119821506910823800303319164102417647342L, store.snapshots[BaseSnapshot] : 1210 object(s))\n",
      "(<openpathsampling.engines.toy.snapshot.ToySnapshot object at 0x1179ff210>, 119821506910823800303319164102417647360L, store.snapshots[BaseSnapshot] : 1210 object(s))\n",
      "(<openpathsampling.engines.toy.snapshot.ToySnapshot object at 0x1179ff350>, 119821506910823800303319164102417647378L, store.snapshots[BaseSnapshot] : 1210 object(s))\n",
      "(<openpathsampling.engines.toy.snapshot.ToySnapshot object at 0x1179ff250>, 119821506910823800303319164102417647396L, store.snapshots[BaseSnapshot] : 1210 object(s))\n",
      "(<openpathsampling.engines.toy.snapshot.ToySnapshot object at 0x1179ff290>, 119821506910823800303319164102417647414L, store.snapshots[BaseSnapshot] : 1210 object(s))\n",
      "(<openpathsampling.engines.toy.snapshot.ToySnapshot object at 0x1179856d0>, 119821506910823800303319164102417771821L, store.snapshots[BaseSnapshot] : 1210 object(s))\n",
      "(<openpathsampling.engines.toy.snapshot.ToySnapshot object at 0x1179ff2d0>, 119821506910823800303319164102417771805L, store.snapshots[BaseSnapshot] : 1210 object(s))\n",
      "(<openpathsampling.engines.toy.snapshot.ToySnapshot object at 0x1179ff390>, 119821506910823800303319164102417771789L, store.snapshots[BaseSnapshot] : 1210 object(s))\n",
      "(<openpathsampling.engines.toy.snapshot.ToySnapshot object at 0x1179ff3d0>, 119821506910823800303319164102417774960L, store.snapshots[BaseSnapshot] : 1210 object(s))\n",
      "(<openpathsampling.engines.toy.snapshot.ToySnapshot object at 0x1179ff410>, 119821506910823800303319164102417774978L, store.snapshots[BaseSnapshot] : 1210 object(s))\n",
      "(<openpathsampling.engines.toy.snapshot.ToySnapshot object at 0x1179ff450>, 119821506910823800303319164102417774996L, store.snapshots[BaseSnapshot] : 1210 object(s))\n",
      "(<openpathsampling.engines.toy.snapshot.ToySnapshot object at 0x1179ff490>, 119821506910823800303319164102417775014L, store.snapshots[BaseSnapshot] : 1210 object(s))\n",
      "(<openpathsampling.engines.toy.snapshot.ToySnapshot object at 0x1179ff4d0>, 119821506910823800303319164102417775032L, store.snapshots[BaseSnapshot] : 1210 object(s))\n",
      "(<openpathsampling.engines.toy.snapshot.ToySnapshot object at 0x1179ff510>, 119821506910823800303319164102417775050L, store.snapshots[BaseSnapshot] : 1210 object(s))\n",
      "(<openpathsampling.engines.toy.snapshot.ToySnapshot object at 0x1179ff550>, 119821506910823800303319164102417775068L, store.snapshots[BaseSnapshot] : 1210 object(s))\n",
      "(<openpathsampling.engines.toy.snapshot.ToySnapshot object at 0x1179ff590>, 119821506910823800303319164102417775086L, store.snapshots[BaseSnapshot] : 1210 object(s))\n",
      "(<openpathsampling.engines.toy.snapshot.ToySnapshot object at 0x1179ff5d0>, 119821506910823800303319164102417775104L, store.snapshots[BaseSnapshot] : 1210 object(s))\n",
      "(<openpathsampling.engines.toy.snapshot.ToySnapshot object at 0x1179ff610>, 119821506910823800303319164102417775122L, store.snapshots[BaseSnapshot] : 1210 object(s))\n",
      "(<openpathsampling.engines.toy.snapshot.ToySnapshot object at 0x1179ff650>, 119821506910823800303319164102417775140L, store.snapshots[BaseSnapshot] : 1210 object(s))\n",
      "(<openpathsampling.engines.toy.snapshot.ToySnapshot object at 0x1179ff690>, 119821506910823800303319164102417775158L, store.snapshots[BaseSnapshot] : 1210 object(s))\n",
      "(<openpathsampling.engines.toy.snapshot.ToySnapshot object at 0x1179ff6d0>, 119821506910823800303319164102417775176L, store.snapshots[BaseSnapshot] : 1210 object(s))\n",
      "(<openpathsampling.engines.toy.snapshot.ToySnapshot object at 0x1179ff710>, 119821506910823800303319164102417775194L, store.snapshots[BaseSnapshot] : 1210 object(s))\n",
      "(<openpathsampling.engines.toy.snapshot.ToySnapshot object at 0x1179ff750>, 119821506910823800303319164102417775212L, store.snapshots[BaseSnapshot] : 1210 object(s))\n",
      "(<openpathsampling.engines.toy.snapshot.ToySnapshot object at 0x1179ff790>, 119821506910823800303319164102417775230L, store.snapshots[BaseSnapshot] : 1210 object(s))\n",
      "(<openpathsampling.engines.toy.snapshot.ToySnapshot object at 0x1179ff7d0>, 119821506910823800303319164102417775248L, store.snapshots[BaseSnapshot] : 1210 object(s))\n",
      "(<openpathsampling.engines.toy.snapshot.ToySnapshot object at 0x1179ff810>, 119821506910823800303319164102417775266L, store.snapshots[BaseSnapshot] : 1210 object(s))\n",
      "(<openpathsampling.engines.toy.snapshot.ToySnapshot object at 0x1179ff850>, 119821506910823800303319164102417775284L, store.snapshots[BaseSnapshot] : 1210 object(s))\n",
      "(<openpathsampling.engines.toy.snapshot.ToySnapshot object at 0x1179ff890>, 119821506910823800303319164102417775302L, store.snapshots[BaseSnapshot] : 1210 object(s))\n",
      "(<openpathsampling.engines.toy.snapshot.ToySnapshot object at 0x1179ff8d0>, 119821506910823800303319164102417775320L, store.snapshots[BaseSnapshot] : 1210 object(s))\n",
      "(<openpathsampling.engines.toy.snapshot.ToySnapshot object at 0x1179ffa10>, 119821506910823800303319164102417775338L, store.snapshots[BaseSnapshot] : 1210 object(s))\n",
      "(<openpathsampling.engines.toy.snapshot.ToySnapshot object at 0x1179ff910>, 119821506910823800303319164102417775356L, store.snapshots[BaseSnapshot] : 1210 object(s))\n",
      "(<openpathsampling.engines.toy.snapshot.ToySnapshot object at 0x1179ff950>, 119821506910823800303319164102417775374L, store.snapshots[BaseSnapshot] : 1210 object(s))\n",
      "(<openpathsampling.engines.toy.snapshot.ToySnapshot object at 0x1179ff990>, 119821506910823800303319164102417775392L, store.snapshots[BaseSnapshot] : 1210 object(s))\n",
      "(<openpathsampling.engines.toy.snapshot.ToySnapshot object at 0x1179ff9d0>, 119821506910823800303319164102417775410L, store.snapshots[BaseSnapshot] : 1210 object(s))\n",
      "(<openpathsampling.engines.toy.snapshot.ToySnapshot object at 0x1179ffb50>, 119821506910823800303319164102417775428L, store.snapshots[BaseSnapshot] : 1210 object(s))\n",
      "(<openpathsampling.engines.toy.snapshot.ToySnapshot object at 0x1179ffa50>, 119821506910823800303319164102417775446L, store.snapshots[BaseSnapshot] : 1210 object(s))\n",
      "(<openpathsampling.engines.toy.snapshot.ToySnapshot object at 0x1179ffa90>, 119821506910823800303319164102417775464L, store.snapshots[BaseSnapshot] : 1210 object(s))\n",
      "(<openpathsampling.engines.toy.snapshot.ToySnapshot object at 0x1179ffad0>, 119821506910823800303319164102417775482L, store.snapshots[BaseSnapshot] : 1210 object(s))\n",
      "(<openpathsampling.engines.toy.snapshot.ToySnapshot object at 0x1179ffb10>, 119821506910823800303319164102417775500L, store.snapshots[BaseSnapshot] : 1210 object(s))\n",
      "(<openpathsampling.engines.toy.snapshot.ToySnapshot object at 0x1179ffb90>, 119821506910823800303319164102417775518L, store.snapshots[BaseSnapshot] : 1210 object(s))\n",
      "(<openpathsampling.engines.toy.snapshot.ToySnapshot object at 0x1179ffbd0>, 119821506910823800303319164102417775536L, store.snapshots[BaseSnapshot] : 1210 object(s))\n",
      "(<openpathsampling.engines.toy.snapshot.ToySnapshot object at 0x1179ffc10>, 119821506910823800303319164102417775554L, store.snapshots[BaseSnapshot] : 1210 object(s))\n",
      "(<openpathsampling.engines.toy.snapshot.ToySnapshot object at 0x1179ffc50>, 119821506910823800303319164102417775572L, store.snapshots[BaseSnapshot] : 1210 object(s))\n",
      "(<openpathsampling.engines.toy.snapshot.ToySnapshot object at 0x1179ffc90>, 119821506910823800303319164102417775590L, store.snapshots[BaseSnapshot] : 1210 object(s))\n"
     ]
    },
    {
     "name": "stdout",
     "output_type": "stream",
     "text": [
      "(<openpathsampling.engines.toy.snapshot.ToySnapshot object at 0x1179ffcd0>, 119821506910823800303319164102417775608L, store.snapshots[BaseSnapshot] : 1210 object(s))\n",
      "(<openpathsampling.engines.toy.snapshot.ToySnapshot object at 0x1179ffd10>, 119821506910823800303319164102417775626L, store.snapshots[BaseSnapshot] : 1210 object(s))\n",
      "(<openpathsampling.engines.toy.snapshot.ToySnapshot object at 0x1179ffd50>, 119821506910823800303319164102417775644L, store.snapshots[BaseSnapshot] : 1210 object(s))\n",
      "(<openpathsampling.engines.toy.snapshot.ToySnapshot object at 0x1179ffd90>, 119821506910823800303319164102417775662L, store.snapshots[BaseSnapshot] : 1210 object(s))\n",
      "(<openpathsampling.engines.toy.snapshot.ToySnapshot object at 0x1179ffdd0>, 119821506910823800303319164102417775680L, store.snapshots[BaseSnapshot] : 1210 object(s))\n",
      "(<openpathsampling.engines.toy.snapshot.ToySnapshot object at 0x1179ffe10>, 119821506910823800303319164102417775698L, store.snapshots[BaseSnapshot] : 1210 object(s))\n",
      "(<openpathsampling.engines.toy.snapshot.ToySnapshot object at 0x1179ffe50>, 119821506910823800303319164102417775716L, store.snapshots[BaseSnapshot] : 1210 object(s))\n",
      "(<openpathsampling.engines.toy.snapshot.ToySnapshot object at 0x1179ffe90>, 119821506910823800303319164102417775734L, store.snapshots[BaseSnapshot] : 1210 object(s))\n",
      "(<openpathsampling.engines.toy.snapshot.ToySnapshot object at 0x1179fff10>, 119821506910823800303319164102417775752L, store.snapshots[BaseSnapshot] : 1210 object(s))\n",
      "(<openpathsampling.engines.toy.snapshot.ToySnapshot object at 0x1179ff310>, 119821506910823800303319164102417792813L, store.snapshots[BaseSnapshot] : 1210 object(s))\n",
      "(<openpathsampling.engines.toy.snapshot.ToySnapshot object at 0x1179fff90>, 119821506910823800303319164102417792797L, store.snapshots[BaseSnapshot] : 1210 object(s))\n",
      "(<openpathsampling.engines.toy.snapshot.ToySnapshot object at 0x1179fffd0>, 119821506910823800303319164102417792781L, store.snapshots[BaseSnapshot] : 1210 object(s))\n",
      "(<openpathsampling.engines.toy.snapshot.ToySnapshot object at 0x1179ffed0>, 119821506910823800303319164102417792765L, store.snapshots[BaseSnapshot] : 1210 object(s))\n",
      "(<openpathsampling.engines.toy.snapshot.ToySnapshot object at 0x117a12050>, 119821506910823800303319164102417792749L, store.snapshots[BaseSnapshot] : 1210 object(s))\n",
      "(<openpathsampling.engines.toy.snapshot.ToySnapshot object at 0x117a12090>, 119821506910823800303319164102417784103L, store.snapshots[BaseSnapshot] : 1210 object(s))\n",
      "(<openpathsampling.engines.toy.snapshot.ToySnapshot object at 0x117a120d0>, 119821506910823800303319164102417784087L, store.snapshots[BaseSnapshot] : 1210 object(s))\n",
      "(<openpathsampling.engines.toy.snapshot.ToySnapshot object at 0x117a12110>, 119821506910823800303319164102417784071L, store.snapshots[BaseSnapshot] : 1210 object(s))\n",
      "(<openpathsampling.engines.toy.snapshot.ToySnapshot object at 0x117a12150>, 119821506910823800303319164102417800982L, store.snapshots[BaseSnapshot] : 1210 object(s))\n",
      "(<openpathsampling.engines.toy.snapshot.ToySnapshot object at 0x117a121d0>, 119821506910823800303319164102417801000L, store.snapshots[BaseSnapshot] : 1210 object(s))\n",
      "(<openpathsampling.engines.toy.snapshot.ToySnapshot object at 0x117a12210>, 119821506910823800303319164102417801018L, store.snapshots[BaseSnapshot] : 1210 object(s))\n",
      "(<openpathsampling.engines.toy.snapshot.ToySnapshot object at 0x117a12250>, 119821506910823800303319164102417801036L, store.snapshots[BaseSnapshot] : 1210 object(s))\n",
      "(<openpathsampling.engines.toy.snapshot.ToySnapshot object at 0x117a12290>, 119821506910823800303319164102417801054L, store.snapshots[BaseSnapshot] : 1210 object(s))\n",
      "(<openpathsampling.engines.toy.snapshot.ToySnapshot object at 0x117a12190>, 119821506910823800303319164102417801072L, store.snapshots[BaseSnapshot] : 1210 object(s))\n",
      "(<openpathsampling.engines.toy.snapshot.ToySnapshot object at 0x117a122d0>, 119821506910823800303319164102417801090L, store.snapshots[BaseSnapshot] : 1210 object(s))\n",
      "(<openpathsampling.engines.toy.snapshot.ToySnapshot object at 0x117a12410>, 119821506910823800303319164102417801108L, store.snapshots[BaseSnapshot] : 1210 object(s))\n",
      "(<openpathsampling.engines.toy.snapshot.ToySnapshot object at 0x117a12310>, 119821506910823800303319164102417801126L, store.snapshots[BaseSnapshot] : 1210 object(s))\n",
      "(<openpathsampling.engines.toy.snapshot.ToySnapshot object at 0x117a12350>, 119821506910823800303319164102417801144L, store.snapshots[BaseSnapshot] : 1210 object(s))\n",
      "(<openpathsampling.engines.toy.snapshot.ToySnapshot object at 0x117a12390>, 119821506910823800303319164102417801162L, store.snapshots[BaseSnapshot] : 1210 object(s))\n",
      "(<openpathsampling.engines.toy.snapshot.ToySnapshot object at 0x117a123d0>, 119821506910823800303319164102417801180L, store.snapshots[BaseSnapshot] : 1210 object(s))\n",
      "(<openpathsampling.engines.toy.snapshot.ToySnapshot object at 0x117a12450>, 119821506910823800303319164102417801198L, store.snapshots[BaseSnapshot] : 1210 object(s))\n",
      "(<openpathsampling.engines.toy.snapshot.ToySnapshot object at 0x117a12490>, 119821506910823800303319164102417801216L, store.snapshots[BaseSnapshot] : 1210 object(s))\n",
      "(<openpathsampling.engines.toy.snapshot.ToySnapshot object at 0x117a124d0>, 119821506910823800303319164102417801234L, store.snapshots[BaseSnapshot] : 1210 object(s))\n",
      "(<openpathsampling.engines.toy.snapshot.ToySnapshot object at 0x117a12510>, 119821506910823800303319164102417801252L, store.snapshots[BaseSnapshot] : 1210 object(s))\n",
      "(<openpathsampling.engines.toy.snapshot.ToySnapshot object at 0x117a12550>, 119821506910823800303319164102417801270L, store.snapshots[BaseSnapshot] : 1210 object(s))\n",
      "(<openpathsampling.engines.toy.snapshot.ToySnapshot object at 0x117a12590>, 119821506910823800303319164102417801288L, store.snapshots[BaseSnapshot] : 1210 object(s))\n",
      "(<openpathsampling.engines.toy.snapshot.ToySnapshot object at 0x117a12610>, 119821506910823800303319164102417801306L, store.snapshots[BaseSnapshot] : 1210 object(s))\n",
      "(<openpathsampling.engines.toy.snapshot.ToySnapshot object at 0x117a12650>, 119821506910823800303319164102417801324L, store.snapshots[BaseSnapshot] : 1210 object(s))\n",
      "(<openpathsampling.engines.toy.snapshot.ToySnapshot object at 0x117a12690>, 119821506910823800303319164102417801342L, store.snapshots[BaseSnapshot] : 1210 object(s))\n",
      "(<openpathsampling.engines.toy.snapshot.ToySnapshot object at 0x117a126d0>, 119821506910823800303319164102417801360L, store.snapshots[BaseSnapshot] : 1210 object(s))\n",
      "(<openpathsampling.engines.toy.snapshot.ToySnapshot object at 0x117a125d0>, 119821506910823800303319164102417801378L, store.snapshots[BaseSnapshot] : 1210 object(s))\n",
      "(<openpathsampling.engines.toy.snapshot.ToySnapshot object at 0x117a12710>, 119821506910823800303319164102417801396L, store.snapshots[BaseSnapshot] : 1210 object(s))\n",
      "(<openpathsampling.engines.toy.snapshot.ToySnapshot object at 0x117a12750>, 119821506910823800303319164102417801414L, store.snapshots[BaseSnapshot] : 1210 object(s))\n",
      "(<openpathsampling.engines.toy.snapshot.ToySnapshot object at 0x117a12790>, 119821506910823800303319164102417801432L, store.snapshots[BaseSnapshot] : 1210 object(s))\n",
      "(<openpathsampling.engines.toy.snapshot.ToySnapshot object at 0x117a127d0>, 119821506910823800303319164102417801450L, store.snapshots[BaseSnapshot] : 1210 object(s))\n",
      "(<openpathsampling.engines.toy.snapshot.ToySnapshot object at 0x117a12810>, 119821506910823800303319164102417801468L, store.snapshots[BaseSnapshot] : 1210 object(s))\n",
      "(<openpathsampling.engines.toy.snapshot.ToySnapshot object at 0x117a12850>, 119821506910823800303319164102417801486L, store.snapshots[BaseSnapshot] : 1210 object(s))\n",
      "(<openpathsampling.engines.toy.snapshot.ToySnapshot object at 0x117a12890>, 119821506910823800303319164102417801504L, store.snapshots[BaseSnapshot] : 1210 object(s))\n",
      "(<openpathsampling.engines.toy.snapshot.ToySnapshot object at 0x117a128d0>, 119821506910823800303319164102417801522L, store.snapshots[BaseSnapshot] : 1210 object(s))\n",
      "(<openpathsampling.engines.toy.snapshot.ToySnapshot object at 0x117a12910>, 119821506910823800303319164102417801540L, store.snapshots[BaseSnapshot] : 1210 object(s))\n",
      "(<openpathsampling.engines.toy.snapshot.ToySnapshot object at 0x117a12950>, 119821506910823800303319164102417801558L, store.snapshots[BaseSnapshot] : 1210 object(s))\n",
      "(<openpathsampling.engines.toy.snapshot.ToySnapshot object at 0x117a12990>, 119821506910823800303319164102417801576L, store.snapshots[BaseSnapshot] : 1210 object(s))\n"
     ]
    },
    {
     "name": "stdout",
     "output_type": "stream",
     "text": [
      "(<openpathsampling.engines.toy.snapshot.ToySnapshot object at 0x117a12a10>, 119821506910823800303319164102417801594L, store.snapshots[BaseSnapshot] : 1210 object(s))\n",
      "(<openpathsampling.engines.toy.snapshot.ToySnapshot object at 0x117a12a50>, 119821506910823800303319164102417801612L, store.snapshots[BaseSnapshot] : 1210 object(s))\n",
      "(<openpathsampling.engines.toy.snapshot.ToySnapshot object at 0x117a12a90>, 119821506910823800303319164102417801630L, store.snapshots[BaseSnapshot] : 1210 object(s))\n",
      "(<openpathsampling.engines.toy.snapshot.ToySnapshot object at 0x117a12ad0>, 119821506910823800303319164102417801648L, store.snapshots[BaseSnapshot] : 1210 object(s))\n",
      "(<openpathsampling.engines.toy.snapshot.ToySnapshot object at 0x117a129d0>, 119821506910823800303319164102417801666L, store.snapshots[BaseSnapshot] : 1210 object(s))\n",
      "(<openpathsampling.engines.toy.snapshot.ToySnapshot object at 0x117a12b10>, 119821506910823800303319164102417801684L, store.snapshots[BaseSnapshot] : 1210 object(s))\n",
      "(<openpathsampling.engines.toy.snapshot.ToySnapshot object at 0x117a12b50>, 119821506910823800303319164102417801702L, store.snapshots[BaseSnapshot] : 1210 object(s))\n",
      "(<openpathsampling.engines.toy.snapshot.ToySnapshot object at 0x117a12c90>, 119821506910823800303319164102417801720L, store.snapshots[BaseSnapshot] : 1210 object(s))\n",
      "(<openpathsampling.engines.toy.snapshot.ToySnapshot object at 0x117a12b90>, 119821506910823800303319164102417801738L, store.snapshots[BaseSnapshot] : 1210 object(s))\n",
      "(<openpathsampling.engines.toy.snapshot.ToySnapshot object at 0x117a12bd0>, 119821506910823800303319164102417801756L, store.snapshots[BaseSnapshot] : 1210 object(s))\n",
      "(<openpathsampling.engines.toy.snapshot.ToySnapshot object at 0x117a12c10>, 119821506910823800303319164102417801774L, store.snapshots[BaseSnapshot] : 1210 object(s))\n",
      "(<openpathsampling.engines.toy.snapshot.ToySnapshot object at 0x117a12c50>, 119821506910823800303319164102417801792L, store.snapshots[BaseSnapshot] : 1210 object(s))\n",
      "(<openpathsampling.engines.toy.snapshot.ToySnapshot object at 0x117a12cd0>, 119821506910823800303319164102417801810L, store.snapshots[BaseSnapshot] : 1210 object(s))\n",
      "(<openpathsampling.engines.toy.snapshot.ToySnapshot object at 0x117a12d10>, 119821506910823800303319164102417801828L, store.snapshots[BaseSnapshot] : 1210 object(s))\n",
      "(<openpathsampling.engines.toy.snapshot.ToySnapshot object at 0x117a12d50>, 119821506910823800303319164102417801846L, store.snapshots[BaseSnapshot] : 1210 object(s))\n",
      "(<openpathsampling.engines.toy.snapshot.ToySnapshot object at 0x117a12d90>, 119821506910823800303319164102417801864L, store.snapshots[BaseSnapshot] : 1210 object(s))\n",
      "(<openpathsampling.engines.toy.snapshot.ToySnapshot object at 0x117a12dd0>, 119821506910823800303319164102417801882L, store.snapshots[BaseSnapshot] : 1210 object(s))\n",
      "(<openpathsampling.engines.toy.snapshot.ToySnapshot object at 0x117a12e10>, 119821506910823800303319164102417801900L, store.snapshots[BaseSnapshot] : 1210 object(s))\n",
      "(<openpathsampling.engines.toy.snapshot.ToySnapshot object at 0x117a12e50>, 119821506910823800303319164102417801918L, store.snapshots[BaseSnapshot] : 1210 object(s))\n",
      "(<openpathsampling.engines.toy.snapshot.ToySnapshot object at 0x117a12e90>, 119821506910823800303319164102417801936L, store.snapshots[BaseSnapshot] : 1210 object(s))\n",
      "(<openpathsampling.engines.toy.snapshot.ToySnapshot object at 0x117a12ed0>, 119821506910823800303319164102417801954L, store.snapshots[BaseSnapshot] : 1210 object(s))\n",
      "(<openpathsampling.engines.toy.snapshot.ToySnapshot object at 0x117a12f10>, 119821506910823800303319164102417801972L, store.snapshots[BaseSnapshot] : 1210 object(s))\n",
      "(<openpathsampling.engines.toy.snapshot.ToySnapshot object at 0x117a12f50>, 119821506910823800303319164102417801990L, store.snapshots[BaseSnapshot] : 1210 object(s))\n",
      "(<openpathsampling.engines.toy.snapshot.ToySnapshot object at 0x117a12f90>, 119821506910823800303319164102417802008L, store.snapshots[BaseSnapshot] : 1210 object(s))\n",
      "(<openpathsampling.engines.toy.snapshot.ToySnapshot object at 0x117a12fd0>, 119821506910823800303319164102417802026L, store.snapshots[BaseSnapshot] : 1210 object(s))\n",
      "(<openpathsampling.engines.toy.snapshot.ToySnapshot object at 0x117a23090>, 119821506910823800303319164102417802044L, store.snapshots[BaseSnapshot] : 1210 object(s))\n",
      "(<openpathsampling.engines.toy.snapshot.ToySnapshot object at 0x117a23050>, 119821506910823800303319164102417802062L, store.snapshots[BaseSnapshot] : 1210 object(s))\n",
      "(<openpathsampling.engines.toy.snapshot.ToySnapshot object at 0x117a230d0>, 119821506910823800303319164102417802080L, store.snapshots[BaseSnapshot] : 1210 object(s))\n",
      "(<openpathsampling.engines.toy.snapshot.ToySnapshot object at 0x117a23110>, 119821506910823800303319164102417802098L, store.snapshots[BaseSnapshot] : 1210 object(s))\n",
      "(<openpathsampling.engines.toy.snapshot.ToySnapshot object at 0x117a23150>, 119821506910823800303319164102417802116L, store.snapshots[BaseSnapshot] : 1210 object(s))\n",
      "(<openpathsampling.engines.toy.snapshot.ToySnapshot object at 0x117a23190>, 119821506910823800303319164102417802134L, store.snapshots[BaseSnapshot] : 1210 object(s))\n",
      "(<openpathsampling.engines.toy.snapshot.ToySnapshot object at 0x117a231d0>, 119821506910823800303319164102417802152L, store.snapshots[BaseSnapshot] : 1210 object(s))\n",
      "(<openpathsampling.engines.toy.snapshot.ToySnapshot object at 0x117a23210>, 119821506910823800303319164102417802170L, store.snapshots[BaseSnapshot] : 1210 object(s))\n",
      "(<openpathsampling.engines.toy.snapshot.ToySnapshot object at 0x117a23250>, 119821506910823800303319164102417802188L, store.snapshots[BaseSnapshot] : 1210 object(s))\n",
      "(<openpathsampling.engines.toy.snapshot.ToySnapshot object at 0x117a23290>, 119821506910823800303319164102417802206L, store.snapshots[BaseSnapshot] : 1210 object(s))\n",
      "(<openpathsampling.engines.toy.snapshot.ToySnapshot object at 0x117a232d0>, 119821506910823800303319164102417802224L, store.snapshots[BaseSnapshot] : 1210 object(s))\n",
      "(<openpathsampling.engines.toy.snapshot.ToySnapshot object at 0x117a23310>, 119821506910823800303319164102417802242L, store.snapshots[BaseSnapshot] : 1210 object(s))\n",
      "(<openpathsampling.engines.toy.snapshot.ToySnapshot object at 0x117a23350>, 119821506910823800303319164102417802260L, store.snapshots[BaseSnapshot] : 1210 object(s))\n",
      "(<openpathsampling.engines.toy.snapshot.ToySnapshot object at 0x117a23390>, 119821506910823800303319164102417802278L, store.snapshots[BaseSnapshot] : 1210 object(s))\n",
      "(<openpathsampling.engines.toy.snapshot.ToySnapshot object at 0x117a233d0>, 119821506910823800303319164102417802296L, store.snapshots[BaseSnapshot] : 1210 object(s))\n",
      "(<openpathsampling.engines.toy.snapshot.ToySnapshot object at 0x117a23410>, 119821506910823800303319164102417802314L, store.snapshots[BaseSnapshot] : 1210 object(s))\n",
      "(<openpathsampling.engines.toy.snapshot.ToySnapshot object at 0x117a23450>, 119821506910823800303319164102417802332L, store.snapshots[BaseSnapshot] : 1210 object(s))\n",
      "(<openpathsampling.engines.toy.snapshot.ToySnapshot object at 0x117a23490>, 119821506910823800303319164102417802350L, store.snapshots[BaseSnapshot] : 1210 object(s))\n",
      "(<openpathsampling.engines.toy.snapshot.ToySnapshot object at 0x117a234d0>, 119821506910823800303319164102417802368L, store.snapshots[BaseSnapshot] : 1210 object(s))\n",
      "(<openpathsampling.engines.toy.snapshot.ToySnapshot object at 0x117a23510>, 119821506910823800303319164102417802386L, store.snapshots[BaseSnapshot] : 1210 object(s))\n",
      "(<openpathsampling.engines.toy.snapshot.ToySnapshot object at 0x117a23550>, 119821506910823800303319164102417802404L, store.snapshots[BaseSnapshot] : 1210 object(s))\n"
     ]
    }
   ],
   "source": [
    "# this makes a dictionary mapping the outermost ensemble of each sampling transition \n",
    "# to a trajectory from the old_sampleset that satisfies that ensemble\n",
    "trajs = {}\n",
    "for ens in [t.ensembles[-1] for t in mstis.sampling_transitions]:\n",
    "    trajs[ens] = [s.trajectory for s in old_sampleset if ens(s.trajectory)][0]\n",
    "    \n",
    "assert(len(trajs)==3) # otherwise, we have a problem"
   ]
  },
  {
   "cell_type": "code",
   "execution_count": 12,
   "metadata": {},
   "outputs": [],
   "source": [
    "initial_samples = {}\n",
    "for t in mstis.sampling_transitions:\n",
    "    initial_samples[t] = paths.SampleSet.map_trajectory_to_ensembles(trajs[t.ensembles[-1]], t.ensembles)"
   ]
  },
  {
   "cell_type": "code",
   "execution_count": 13,
   "metadata": {},
   "outputs": [],
   "source": [
    "single_trajectory_sset = paths.SampleSet.relabel_replicas_per_ensemble(initial_samples.values())"
   ]
  },
  {
   "cell_type": "markdown",
   "metadata": {},
   "source": [
    "The `sanity_check` function ensures that all trajectories in the sampleset are actually in the ensemble they claim to be associated with. At this point, we should have 9 samples."
   ]
  },
  {
   "cell_type": "code",
   "execution_count": 14,
   "metadata": {},
   "outputs": [],
   "source": [
    "single_trajectory_sset.sanity_check()\n",
    "assert(len(single_trajectory_sset)==9)"
   ]
  },
  {
   "cell_type": "markdown",
   "metadata": {},
   "source": [
    "### Remapping old ensembles to new ensembles\n",
    "\n",
    "If your old and new ensembles have the same string representations, then OPS has a function to help you automatically map them. As long as you create the ensembles in the same way, they'll have the same string representation. Note that if you *don't* have the same string representation, you would have to assign trajectories to ensembles by hand (which isn't that hard, but is a bit tedious)."
   ]
  },
  {
   "cell_type": "code",
   "execution_count": 15,
   "metadata": {},
   "outputs": [],
   "source": [
    "sset = paths.SampleSet.translate_ensembles(old_sampleset, mstis.sampling_ensembles)"
   ]
  },
  {
   "cell_type": "code",
   "execution_count": 16,
   "metadata": {},
   "outputs": [],
   "source": [
    "sset.sanity_check()\n",
    "assert(len(sset)==9)"
   ]
  },
  {
   "cell_type": "code",
   "execution_count": 17,
   "metadata": {
    "collapsed": true
   },
   "outputs": [],
   "source": [
    "# tests only: this cell sets something for the online testing\n",
    "# the next cell unsets it when running the notebook live\n",
    "bootstrap_sset = sset\n",
    "sset = single_trajectory_sset"
   ]
  },
  {
   "cell_type": "code",
   "execution_count": 18,
   "metadata": {
    "collapsed": true
   },
   "outputs": [],
   "source": [
    "#! skip\n",
    "# tests don't run this, but users should!\n",
    "sset = bootstrap_sset"
   ]
  },
  {
   "cell_type": "markdown",
   "metadata": {},
   "source": [
    "### Setting up special ensembles\n",
    "\n",
    "Whichever way we initially set up the `SampleSet`, at this point it only contains samples for the main sampling trajectories of each transition. Now we need to put trajectories into various auxiliary ensembles."
   ]
  },
  {
   "cell_type": "markdown",
   "metadata": {},
   "source": [
    "#### Multiple state outer ensemble\n",
    "\n",
    "The multiple state outer ensemble is, in fact, sampled during the bootstrapping. However, it is actually sampled once for every state that shares it. It is very easy to find a trajectory that satisfies the ensemble and to load add that sample to our sampleset."
   ]
  },
  {
   "cell_type": "code",
   "execution_count": 19,
   "metadata": {},
   "outputs": [],
   "source": [
    "for outer_ens in mstis.special_ensembles['ms_outer']:\n",
    "    # doesn't matter which we take, so we take the first\n",
    "    traj = next(s.trajectory for s in old_sampleset if outer_ens(s.trajectory)==True)\n",
    "    samp = paths.Sample(\n",
    "            replica=None,\n",
    "            ensemble=outer_ens,\n",
    "            trajectory=traj\n",
    "    )\n",
    "    # now we apply it and correct for the replica ID\n",
    "    sset.append_as_new_replica(samp)"
   ]
  },
  {
   "cell_type": "code",
   "execution_count": 20,
   "metadata": {},
   "outputs": [],
   "source": [
    "sset.sanity_check()\n",
    "assert(len(sset)==10)"
   ]
  },
  {
   "cell_type": "markdown",
   "metadata": {},
   "source": [
    "#### Minus interface ensemble\n",
    "\n",
    "The minus interface ensembles do not yet have a trajectory. We will generate them by starting with same-state trajectories (A-to-A, B-to-B, C-to-C) in each interface, and extending into the minus ensemble.\n",
    "\n",
    "* check whether the traj is A-to-A\n",
    "* extend"
   ]
  },
  {
   "cell_type": "markdown",
   "metadata": {},
   "source": [
    "First we need to make sure that the trajectory in the innermost ensemble of each state also ends in that state. This is necessary so that when we extend the trajectory, it can extends into the minus ensemble.\n",
    "\n",
    "If the trajectory isn't right, we run a shooting move on it until it is."
   ]
  },
  {
   "cell_type": "code",
   "execution_count": 21,
   "metadata": {},
   "outputs": [],
   "source": [
    "for transition in mstis.sampling_transitions:\n",
    "    innermost_ensemble = transition.ensembles[0]\n",
    "    shooter = None\n",
    "    if not transition.stateA(sset[innermost_ensemble].trajectory[-1]):\n",
    "        shooter = paths.OneWayShootingMover(ensemble=innermost_ensemble,\n",
    "                                            selector=paths.UniformSelector(),\n",
    "                                            engine=engine)\n",
    "        pseudoscheme = paths.LockedMoveScheme(root_mover=shooter)\n",
    "        pseudosim = paths.PathSampling(storage=None, \n",
    "                                       move_scheme=pseudoscheme, \n",
    "                                       sample_set=sset,\n",
    "                                      )\n",
    "    while not transition.stateA(sset[innermost_ensemble].trajectory[-1]):\n",
    "        pseudosim.run(1)\n",
    "        sset = pseudosim.sample_set\n",
    "\n",
    "    "
   ]
  },
  {
   "cell_type": "markdown",
   "metadata": {},
   "source": [
    "Now that all the innermost ensembles are safe to use for extending into a minus interface, we extend them into a minus interface:"
   ]
  },
  {
   "cell_type": "code",
   "execution_count": 22,
   "metadata": {},
   "outputs": [],
   "source": [
    "minus_samples = []\n",
    "for transition in mstis.sampling_transitions:\n",
    "    minus_samples.append(transition.minus_ensemble.extend_sample_from_trajectories(\n",
    "        sset[transition.ensembles[0]].trajectory,\n",
    "        replica=-len(minus_samples)-1,\n",
    "        engine=engine\n",
    "    ))\n",
    "sset = sset.apply_samples(minus_samples)"
   ]
  },
  {
   "cell_type": "code",
   "execution_count": 23,
   "metadata": {},
   "outputs": [],
   "source": [
    "sset.sanity_check()\n",
    "assert(len(sset)==13)"
   ]
  },
  {
   "cell_type": "markdown",
   "metadata": {},
   "source": [
    "## Equilibration\n",
    "\n",
    "In molecular dynamics, you need to equilibrate if you don't start with an equilibrium frame (e.g., if you start with solvent molecules on a grid, your system should equilibrate before you start taking statistics). Similarly, if you start with a set of paths which are far from the path ensemble equilibrium, you need to equilibrate. This could either be because your trajectories are not from the real dynamics (generated with metadynamics, high temperature, etc.) or because your trajectories are not representative of the path ensemble (e.g., if you put transition trajectories into all interfaces).\n",
    "\n",
    "As with MD, running equilibration can be the same process as running the total simulation. However, in path sampling, it doesn't have to be: we can equilibrate without replica exchange moves or path reversal moves, for example. In the example below, we create a `MoveScheme` that only includes shooting movers."
   ]
  },
  {
   "cell_type": "code",
   "execution_count": 24,
   "metadata": {},
   "outputs": [],
   "source": [
    "equil_scheme = paths.OneWayShootingMoveScheme(mstis, engine=engine)"
   ]
  },
  {
   "cell_type": "code",
   "execution_count": 25,
   "metadata": {},
   "outputs": [],
   "source": [
    "equilibration = paths.PathSampling(\n",
    "    storage=None,\n",
    "    sample_set=sset,\n",
    "    move_scheme=equil_scheme\n",
    ")"
   ]
  },
  {
   "cell_type": "code",
   "execution_count": 26,
   "metadata": {},
   "outputs": [
    {
     "name": "stdout",
     "output_type": "stream",
     "text": [
      "Working on Monte Carlo cycle number 5\n",
      "Running for 0 seconds -  0.21 seconds per step\n",
      "Estimated time remaining: 0 seconds\n",
      "DONE! Completed 5 Monte Carlo cycles.\n"
     ]
    }
   ],
   "source": [
    "#! skip\n",
    "# tests need the unequilibrated samples to ensure passing\n",
    "equilibration.run(5)"
   ]
  },
  {
   "cell_type": "code",
   "execution_count": 27,
   "metadata": {
    "collapsed": true
   },
   "outputs": [],
   "source": [
    "sset = equilibration.sample_set"
   ]
  },
  {
   "cell_type": "markdown",
   "metadata": {},
   "source": [
    "## Running RETIS\n",
    "\n",
    "Now we run the full calculation. Up to here, we haven't been storing any of our results. This time, we'll start a storage object, and we'll save the network we've created. Then we'll run a new `PathSampling` calculation object."
   ]
  },
  {
   "cell_type": "code",
   "execution_count": 28,
   "metadata": {
    "collapsed": true
   },
   "outputs": [],
   "source": [
    "# logging creates ops_output.log file with details of what the calculation is doing\n",
    "#import logging.config\n",
    "#logging.config.fileConfig(\"../resources/logging.conf\", disable_existing_loggers=False)"
   ]
  },
  {
   "cell_type": "code",
   "execution_count": 29,
   "metadata": {},
   "outputs": [],
   "source": [
    "storage = paths.storage.Storage(\"mstis.nc\", \"w\")"
   ]
  },
  {
   "cell_type": "code",
   "execution_count": 30,
   "metadata": {},
   "outputs": [
    {
     "data": {
      "text/plain": [
       "(store.snapshots[BaseSnapshot] : 2 object(s),\n",
       " 2,\n",
       " 119821506910823800303319164102417322217L)"
      ]
     },
     "execution_count": 30,
     "metadata": {},
     "output_type": "execute_result"
    }
   ],
   "source": [
    "storage.save(template)"
   ]
  },
  {
   "cell_type": "code",
   "execution_count": 31,
   "metadata": {},
   "outputs": [
    {
     "data": {
      "text/plain": [
       "[<openpathsampling.collectivevariable.CoordinateFunctionCV at 0x117366bd0>,\n",
       " <openpathsampling.collectivevariable.CoordinateFunctionCV at 0x10869a090>,\n",
       " <openpathsampling.collectivevariable.CoordinateFunctionCV at 0x1174f82d0>]"
      ]
     },
     "execution_count": 31,
     "metadata": {},
     "output_type": "execute_result"
    }
   ],
   "source": [
    "[cv.with_diskcache() for cv in old_store.cvs]"
   ]
  },
  {
   "cell_type": "code",
   "execution_count": 32,
   "metadata": {},
   "outputs": [
    {
     "name": "stdout",
     "output_type": "stream",
     "text": [
      "[False, False, False]\n"
     ]
    }
   ],
   "source": [
    "print [cv.diskcache_allow_incomplete for cv in old_store.cvs]"
   ]
  },
  {
   "cell_type": "code",
   "execution_count": 33,
   "metadata": {},
   "outputs": [],
   "source": [
    "mstis_calc = paths.PathSampling(\n",
    "    storage=storage,\n",
    "    sample_set=sset,\n",
    "    move_scheme=paths.DefaultScheme(mstis, engine=engine)\n",
    ")\n",
    "mstis_calc.save_frequency = 50"
   ]
  },
  {
   "cell_type": "markdown",
   "metadata": {},
   "source": [
    "The next block sets up a live visualization. This is optional, and only recommended if you're using OPS interactively (which would only be for very small systems). Some of the same tools can be used to play back the behavior after the fact if you want to see the behavior for more complicated systems. You can create a background (here we use the PES contours), and the visualization will plot the trajectories."
   ]
  },
  {
   "cell_type": "code",
   "execution_count": 34,
   "metadata": {},
   "outputs": [],
   "source": [
    "#! skip\n",
    "# skip this during testing, but leave it for demo purposes\n",
    "# we use the %run magic because this isn't in a package\n",
    "%run ../resources/toy_plot_helpers.py\n",
    "# xval = paths.FunctionCV(\"xval\", lambda snap : snap.xyz[0][0])\n",
    "# yval = paths.FunctionCV(\"yval\", lambda snap : snap.xyz[0][1])\n",
    "# mstis_calc.live_visualizer = paths.StepVisualizer2D(mstis, xval, yval, [-1.0, 1.0], [-1.0, 1.0])\n",
    "# background = ToyPlot()\n",
    "# background.contour_range = np.arange(-1.5, 1.0, 0.1)\n",
    "# background.add_pes(engine.pes)\n",
    "# mstis_calc.live_visualizer.background = background.plot()\n",
    "# mstis_calc.status_update_frequency = 1 # increasing this number speeds things up, but isn't as pretty"
   ]
  },
  {
   "cell_type": "markdown",
   "metadata": {},
   "source": [
    "Now everything is ready: let's run the simulation!"
   ]
  },
  {
   "cell_type": "code",
   "execution_count": 35,
   "metadata": {},
   "outputs": [],
   "source": [
    "x = old_store.snapshots.all()"
   ]
  },
  {
   "cell_type": "code",
   "execution_count": 36,
   "metadata": {},
   "outputs": [
    {
     "name": "stdout",
     "output_type": "stream",
     "text": [
      "(<openpathsampling.engines.toy.snapshot.ToySnapshot object at 0x11b7d5390>, 119821506910823800303319164102417327219L, store.snapshots[BaseSnapshot] : 1210 object(s))\n"
     ]
    },
    {
     "data": {
      "text/plain": [
       "array([[-0.3193973 , -0.42548737]], dtype=float32)"
      ]
     },
     "execution_count": 36,
     "metadata": {},
     "output_type": "execute_result"
    }
   ],
   "source": [
    "x.get_as_proxy(41).reversed.xyz"
   ]
  },
  {
   "cell_type": "code",
   "execution_count": 37,
   "metadata": {},
   "outputs": [
    {
     "data": {
      "text/plain": [
       "[0.1998972293604138,\n",
       " 0.21167370601882735,\n",
       " 0.22430171842937255,\n",
       " 0.2365640225945321,\n",
       " 0.24715774816629593,\n",
       " 0.25560813963286333,\n",
       " 0.2619254810284517,\n",
       " 0.26863500085887454,\n",
       " 0.2763174807593124,\n",
       " 0.28469171950686106,\n",
       " 0.29423036385120627,\n",
       " 0.3040824692492493,\n",
       " 0.3109433017404256,\n",
       " 0.3137348232433313,\n",
       " 0.31548533198744966,\n",
       " 0.3164080809051003,\n",
       " 0.315897548644387,\n",
       " 0.3155541840210225,\n",
       " 0.3152547825327274,\n",
       " 0.31349837847310585,\n",
       " 0.30956551578696645,\n",
       " 0.3058719027814479,\n",
       " 0.30239440142890156,\n",
       " 0.2979464985803577,\n",
       " 0.2938279554268275,\n",
       " 0.2898083723704084,\n",
       " 0.2835398876191715,\n",
       " 0.2746147169887294,\n",
       " 0.26625953159106347,\n",
       " 0.2584733895525938,\n",
       " 0.25141328634586074,\n",
       " 0.2466191909317429,\n",
       " 0.24465414465847565,\n",
       " 0.2427576449077572,\n",
       " 0.23981106226200627,\n",
       " 0.2359836382692271,\n",
       " 0.230626741113844,\n",
       " 0.2247244672139137,\n",
       " 0.21895270419533136,\n",
       " 0.21354640054483634,\n",
       " 0.20560041378426022,\n",
       " 0.19537007756372493,\n",
       " 0.1904598625716127,\n",
       " 0.20544585849787517,\n",
       " 0.21926492080550258,\n",
       " 0.23115909560847114,\n",
       " 0.241895264680536,\n",
       " 0.2517610858760621,\n",
       " 0.26126743523846074,\n",
       " 0.27050695955724685,\n",
       " 0.28002017034877347,\n",
       " 0.2905915767973242,\n",
       " 0.30021556396485793,\n",
       " 0.30856542598858144,\n",
       " 0.3165886749260451,\n",
       " 0.32443761339747607,\n",
       " 0.33248392725168013,\n",
       " 0.3402722048907787,\n",
       " 0.3475536539922391,\n",
       " 0.35511023227262095,\n",
       " 0.36289099742215275,\n",
       " 0.37018468354825307,\n",
       " 0.3775788556160326,\n",
       " 0.3863218732667023,\n",
       " 0.39387182513575236,\n",
       " 0.3987517104783009,\n",
       " 0.4033346325225628,\n",
       " 0.4074315582174157,\n",
       " 0.4101762038856109,\n",
       " 0.41319634137430655,\n",
       " 0.4166109674628971,\n",
       " 0.4197333636541576,\n",
       " 0.42496660890672766,\n",
       " 0.43201029418650655,\n",
       " 0.43792110107065957,\n",
       " 0.4421390696147129,\n",
       " 0.4448577662950016,\n",
       " 0.4478118665628663,\n",
       " 0.45283237557709954,\n",
       " 0.4579061226653247,\n",
       " 0.46114778786532296,\n",
       " 0.464101873208676,\n",
       " 0.46749092608247705,\n",
       " 0.46958325385754557,\n",
       " 0.47150621768471107,\n",
       " 0.47401501311632177,\n",
       " 0.4758223127878415,\n",
       " 0.4784396193805332,\n",
       " 0.4830224307789881,\n",
       " 0.4877703080187336,\n",
       " 0.49128164126740104,\n",
       " 0.49403756219991524,\n",
       " 0.4947626929960713,\n",
       " 0.4915123640845469,\n",
       " 0.4867118973666335,\n",
       " 0.48238030609651467,\n",
       " 0.47872397528952415,\n",
       " 0.47490927559370166,\n",
       " 0.4704747943980753,\n",
       " 0.46666486680449115,\n",
       " 0.4644482704321588,\n",
       " 0.4633247506403672,\n",
       " 0.4628807093794785,\n",
       " 0.4622986768781222,\n",
       " 0.45993061738027297,\n",
       " 0.4575293391618616,\n",
       " 0.4555241116833981,\n",
       " 0.4537276738667733,\n",
       " 0.4527080454136818,\n",
       " 0.44874298879745367,\n",
       " 0.4431609389806689,\n",
       " 0.43861269141969467,\n",
       " 0.43285496987132815,\n",
       " 0.4260956597657398,\n",
       " 0.4187008845305878,\n",
       " 0.4104287029039374,\n",
       " 0.40107694397873583,\n",
       " 0.39275850920493915,\n",
       " 0.38768612170442773,\n",
       " 0.38463829711055403,\n",
       " 0.38212014539206735,\n",
       " 0.379724654676395,\n",
       " 0.3742825928826861,\n",
       " 0.3671495717010364,\n",
       " 0.3599049632095707,\n",
       " 0.3510657268960553,\n",
       " 0.3422223745968218,\n",
       " 0.3331983038883173,\n",
       " 0.3224146256584242,\n",
       " 0.3100102694612894,\n",
       " 0.2961505348769515,\n",
       " 0.2816395650047995,\n",
       " 0.2668988963043713,\n",
       " 0.24873064773597517,\n",
       " 0.22905883628505844,\n",
       " 0.2121452179479804,\n",
       " 0.19598425070344186,\n",
       " 0.19622110853863056,\n",
       " 0.2098465312145814,\n",
       " 0.22321014741506984,\n",
       " 0.23621918659646166,\n",
       " 0.24905748966576657,\n",
       " 0.26236199766985846,\n",
       " 0.27645524005704125,\n",
       " 0.2908374584408225,\n",
       " 0.3033594320852651,\n",
       " 0.3155093230125249,\n",
       " 0.32760758632515324,\n",
       " 0.338494916946767,\n",
       " 0.34814069198224423,\n",
       " 0.3559637719170783,\n",
       " 0.3633946842428113,\n",
       " 0.37019520492243996,\n",
       " 0.37610087956724125,\n",
       " 0.38135114106560536,\n",
       " 0.3849957237230955,\n",
       " 0.38699450882239184,\n",
       " 0.38900893746074283,\n",
       " 0.3910807638726384,\n",
       " 0.3933412363349676,\n",
       " 0.3955018030219783,\n",
       " 0.39734223297457855,\n",
       " 0.40020413013341505,\n",
       " 0.40478527603554265,\n",
       " 0.41078865076454435,\n",
       " 0.4175173538756441,\n",
       " 0.4240351337397304,\n",
       " 0.430065921134571,\n",
       " 0.43647344848730063,\n",
       " 0.4425035522719534,\n",
       " 0.4498060455142484,\n",
       " 0.45986933732789653,\n",
       " 0.47026510127241355,\n",
       " 0.4798223360532962,\n",
       " 0.4894254207093505,\n",
       " 0.49921691256920414,\n",
       " 0.5094309788633631,\n",
       " 0.5204044274602097,\n",
       " 0.5320434104945017,\n",
       " 0.5414482550975451,\n",
       " 0.5499507938631921,\n",
       " 0.5598949568611578,\n",
       " 0.5690452123412635,\n",
       " 0.5774363200798218,\n",
       " 0.5858357626224436,\n",
       " 0.5947167987533645,\n",
       " 0.6028208369203127,\n",
       " 0.6099617678557266,\n",
       " 0.616494620898059,\n",
       " 0.6224933818708093,\n",
       " 0.6307965379996839,\n",
       " 0.6415666418095838,\n",
       " 0.6529575789181575,\n",
       " 0.6640990027985707,\n",
       " 0.6731757224544562,\n",
       " 0.6795237086698136,\n",
       " 0.6841907996733024,\n",
       " 0.6851107827791956,\n",
       " 0.6820145620544608,\n",
       " 0.6775320062083727,\n",
       " 0.6732907933548107,\n",
       " 0.6686496531322018,\n",
       " 0.6626935672682257,\n",
       " 0.6573888894062702,\n",
       " 0.6544607981054559,\n",
       " 0.6529791585854815,\n",
       " 0.6501802703922627,\n",
       " 0.6455841863327392,\n",
       " 0.6417997498880973,\n",
       " 0.6393994358271985,\n",
       " 0.635747937953812,\n",
       " 0.6309081681492797,\n",
       " 0.6274258706841708,\n",
       " 0.625690110988307,\n",
       " 0.6248060287404819,\n",
       " 0.6235560193485948,\n",
       " 0.6214119400781603,\n",
       " 0.618635366225311,\n",
       " 0.6151761009464912,\n",
       " 0.6123634091291188,\n",
       " 0.6096614702640727,\n",
       " 0.6049093283592812,\n",
       " 0.5991184785647534,\n",
       " 0.5934457444224582,\n",
       " 0.5874772211559027,\n",
       " 0.5819389505579706,\n",
       " 0.5764857708951399,\n",
       " 0.5689417983674233,\n",
       " 0.5578952354418806,\n",
       " 0.5467225312523564,\n",
       " 0.5382868690566034,\n",
       " 0.530396838961439,\n",
       " 0.524120419733046,\n",
       " 0.5198355726049133,\n",
       " 0.5149819381443155,\n",
       " 0.5118069664424656,\n",
       " 0.5096510641875707,\n",
       " 0.5077328859593211,\n",
       " 0.5079069983055228,\n",
       " 0.5087540818663372,\n",
       " 0.5094006072853287,\n",
       " 0.5088073863683321,\n",
       " 0.5053885100337537,\n",
       " 0.49982891666190027,\n",
       " 0.4927659042664757,\n",
       " 0.4848459196185511,\n",
       " 0.4775837638845818,\n",
       " 0.47072399274926935,\n",
       " 0.4641418931143398,\n",
       " 0.4588238984951047,\n",
       " 0.4540743017596968,\n",
       " 0.4499784684402139,\n",
       " 0.4454146235986515,\n",
       " 0.43978373556725947,\n",
       " 0.4339333280662255,\n",
       " 0.4272515603462432,\n",
       " 0.4201624927296939,\n",
       " 0.4125097188631733,\n",
       " 0.40462973505771377,\n",
       " 0.3958644808389134,\n",
       " 0.3870496658251331,\n",
       " 0.37988982202850796,\n",
       " 0.37415085036739026,\n",
       " 0.36805921401744063,\n",
       " 0.3600820073764154,\n",
       " 0.35197322801709585,\n",
       " 0.3446466539970644,\n",
       " 0.3384207859293074,\n",
       " 0.3331490837405293,\n",
       " 0.3291994231396653,\n",
       " 0.32685913452516124,\n",
       " 0.3263260103992595,\n",
       " 0.3270619064119056,\n",
       " 0.32821500917645513,\n",
       " 0.33050921782170883,\n",
       " 0.33359150040079427,\n",
       " 0.3369645786234682,\n",
       " 0.3414577768848839,\n",
       " 0.347583518287028,\n",
       " 0.3536507864714005,\n",
       " 0.35896818841574163,\n",
       " 0.36489584815376164,\n",
       " 0.3721882026881869,\n",
       " 0.37958381495308086,\n",
       " 0.3862387294318131,\n",
       " 0.39093702858987106,\n",
       " 0.396014755458421,\n",
       " 0.40473361250636686,\n",
       " 0.4145847726660021,\n",
       " 0.42287969525838964,\n",
       " 0.4302431075336762,\n",
       " 0.4382817935360871,\n",
       " 0.44589659487518446,\n",
       " 0.4512456087019032,\n",
       " 0.455462371519123,\n",
       " 0.45767901804486083,\n",
       " 0.460102653435279,\n",
       " 0.464416594956284,\n",
       " 0.4683761483494183,\n",
       " 0.47247700293626865,\n",
       " 0.4754353859354211,\n",
       " 0.47840511481376585,\n",
       " 0.48218201444188946,\n",
       " 0.48571529149281467,\n",
       " 0.48904445372054794,\n",
       " 0.4908197843219806,\n",
       " 0.4909245967765171,\n",
       " 0.4896940397518611,\n",
       " 0.487763219686113,\n",
       " 0.48610024410697655,\n",
       " 0.4842824082764121,\n",
       " 0.482177410589233,\n",
       " 0.48117570161856155,\n",
       " 0.4814356184989237,\n",
       " 0.4806343940162894,\n",
       " 0.47994999271189814,\n",
       " 0.4811202044813203,\n",
       " 0.4822342953930553,\n",
       " 0.48159158102069244,\n",
       " 0.48006890913843514,\n",
       " 0.47652593891359807,\n",
       " 0.46995531102346416,\n",
       " 0.46548053964301184,\n",
       " 0.4660456316654071,\n",
       " 0.4667872366157282,\n",
       " 0.46627155310133156,\n",
       " 0.46630626667616765,\n",
       " 0.46589145238117596,\n",
       " 0.46447823039160935,\n",
       " 0.4609213002190416,\n",
       " 0.4560854313853154,\n",
       " 0.44974492733328075,\n",
       " 0.4424844708529118,\n",
       " 0.43593415454380685,\n",
       " 0.42875929563410714,\n",
       " 0.42134520169120504,\n",
       " 0.41221153539127997,\n",
       " 0.4015093915213954,\n",
       " 0.3913982132104941,\n",
       " 0.38237680485389275,\n",
       " 0.37443464298838447,\n",
       " 0.365529877808646,\n",
       " 0.35674281385714823,\n",
       " 0.34897729818514867,\n",
       " 0.3386368133794562,\n",
       " 0.32698173875916814,\n",
       " 0.3148761787888796,\n",
       " 0.300890699929227,\n",
       " 0.28793395965431673,\n",
       " 0.2757696708352722,\n",
       " 0.2629372446704054,\n",
       " 0.2499093720314701,\n",
       " 0.23827181458236102,\n",
       " 0.22799491515327922,\n",
       " 0.21668947190433524,\n",
       " 0.20369998423306715,\n",
       " 0.18870592728290306,\n",
       " 0.8093458031517751,\n",
       " 0.7942351739697194,\n",
       " 0.7807739145377293,\n",
       " 0.7676779652064586,\n",
       " 0.755137714976873,\n",
       " 0.7431249208715666,\n",
       " 0.732548186785565,\n",
       " 0.7232536552577181,\n",
       " 0.7146595532548256,\n",
       " 0.7081838576946983,\n",
       " 0.704637111892354,\n",
       " 0.702203952940556,\n",
       " 0.6998150711505298,\n",
       " 0.700567586141899,\n",
       " 0.7037490317590152,\n",
       " 0.7063030786895856,\n",
       " 0.7067579161668279,\n",
       " 0.7058977662906283,\n",
       " 0.7045374071752796,\n",
       " 0.7041960308158298,\n",
       " 0.7061289899388499,\n",
       " 0.7095585087943737,\n",
       " 0.7155059808412059,\n",
       " 0.7234053794008533,\n",
       " 0.7304482591086306,\n",
       " 0.7359381376295704,\n",
       " 0.7417802035129507,\n",
       " 0.7484060840512177,\n",
       " 0.7554120460287528,\n",
       " 0.7632381277691727,\n",
       " 0.772194920574608,\n",
       " 0.7796763738520635,\n",
       " 0.7851919332504308,\n",
       " 0.7908612658271004,\n",
       " 0.797191390106507,\n",
       " 0.8036401594137002,\n",
       " 0.86054584220143,\n",
       " 0.8466919604651683,\n",
       " 0.8330062278728387,\n",
       " 0.8195432113934714,\n",
       " 0.8053602405586864,\n",
       " 0.7912805004901842,\n",
       " 0.7782020012814286,\n",
       " 0.7666195384999871,\n",
       " 0.7570993879432347,\n",
       " 0.7470711007587159,\n",
       " 0.7357924748726125,\n",
       " 0.7240838126528368,\n",
       " 0.713653507389273,\n",
       " 0.7054844991074833,\n",
       " 0.6980260036757265,\n",
       " 0.6919847170605948,\n",
       " 0.6865138761980223,\n",
       " 0.6803103031990839,\n",
       " 0.6741003056193071,\n",
       " 0.6681488774022732,\n",
       " 0.663098145556277,\n",
       " 0.6595920887753159,\n",
       " 0.6577177184652296,\n",
       " 0.6563192747768737,\n",
       " 0.6545728635855443,\n",
       " 0.6523747512023075,\n",
       " 0.6498370034867436,\n",
       " 0.6479435273548626,\n",
       " 0.6468184530239862,\n",
       " 0.6449128735672456,\n",
       " 0.6419262957816172,\n",
       " 0.6383200059833657,\n",
       " 0.634064124078216,\n",
       " 0.6291164699448302,\n",
       " 0.6241851247888978,\n",
       " 0.6193655509927196,\n",
       " 0.615137186474607,\n",
       " 0.6123530785187141,\n",
       " 0.6101881810805528,\n",
       " 0.6076311795675958,\n",
       " 0.6030478440518764,\n",
       " 0.5961435625779463,\n",
       " 0.5886250829741687,\n",
       " 0.5825002593199928,\n",
       " 0.5759197956698252,\n",
       " 0.5684120904710916,\n",
       " 0.560690067759169,\n",
       " 0.5526037807950245,\n",
       " 0.5445848357378688,\n",
       " 0.5371220494667581,\n",
       " 0.5304079407088478,\n",
       " 0.5237687916921034,\n",
       " 0.5165806846533659,\n",
       " 0.5085686198231231,\n",
       " 0.49935928281108827,\n",
       " 0.48882918707914763,\n",
       " 0.47630758664534556,\n",
       " 0.4628352748291781,\n",
       " 0.4484239934544914,\n",
       " 0.4331193093529059,\n",
       " 0.41758965392912506,\n",
       " 0.4007086917709266,\n",
       " 0.3828749634546366,\n",
       " 0.3661324335778275,\n",
       " 0.350646466976544,\n",
       " 0.3346157071937217,\n",
       " 0.31758484055651887,\n",
       " 0.30029571301720587,\n",
       " 0.2838308847172283,\n",
       " 0.26536407764040054,\n",
       " 0.2452411455218074,\n",
       " 0.225155491053326,\n",
       " 0.20356365100497534,\n",
       " 0.1805297075094257,\n",
       " 0.852189186334767,\n",
       " 0.843561242792476,\n",
       " 0.8354283978367212,\n",
       " 0.8272246527312339,\n",
       " 0.8168272835103827,\n",
       " 0.8046120350870767,\n",
       " 0.792908653726814,\n",
       " 0.7820156041817118,\n",
       " 0.7715735847266934,\n",
       " 0.7610588816358228,\n",
       " 0.7504945554323496,\n",
       " 0.7426664597309824,\n",
       " 0.7365787862126735,\n",
       " 0.731613414374136,\n",
       " 0.7285869094222976,\n",
       " 0.7273794804353032,\n",
       " 0.7283121492483292,\n",
       " 0.7300370104323374,\n",
       " 0.7323404719720465,\n",
       " 0.7367078756172022,\n",
       " 0.7417737250940786,\n",
       " 0.746447135303727,\n",
       " 0.7512553593809735,\n",
       " 0.7563186135451372,\n",
       " 0.76048588684332,\n",
       " 0.7625648166136385,\n",
       " 0.7651213270065578,\n",
       " 0.7693879478512071,\n",
       " 0.7742727029758856,\n",
       " 0.7796253035788104,\n",
       " 0.7852965363492385,\n",
       " 0.7904329910686442,\n",
       " 0.7963994583895145,\n",
       " 0.8029976289658741,\n",
       " 0.8086840309295951,\n",
       " 0.8135750367780481,\n",
       " 0.8185910381794773,\n",
       " 0.8212809847660696,\n",
       " 0.8213829460418295,\n",
       " 0.8198210746997133,\n",
       " 0.8171771718311287,\n",
       " 0.8164162395094531,\n",
       " 0.8177924080204492,\n",
       " 0.8210499352352544,\n",
       " 0.8251213937173151,\n",
       " 0.8287363144841959,\n",
       " 0.8346339737660428,\n",
       " 0.8435279397200199,\n",
       " 0.852078385447981,\n",
       " 0.8355307944397754,\n",
       " 0.8244685637209219,\n",
       " 0.8163382647374334,\n",
       " 0.8104810507204437,\n",
       " 0.8039438244414848,\n",
       " 0.7963214802318245,\n",
       " 0.7901072726277607,\n",
       " 0.786919701893333,\n",
       " 0.785887935182144,\n",
       " 0.7834730722894488,\n",
       " 0.77955065490158,\n",
       " 0.7760577733102457,\n",
       " 0.7729891706965053,\n",
       " 0.7699473083938279,\n",
       " 0.7660134753927578,\n",
       " 0.7614822817746335,\n",
       " 0.7558293468762026,\n",
       " 0.7490001866012849,\n",
       " 0.743211262721864,\n",
       " 0.7384345526383618,\n",
       " 0.7326791994943461,\n",
       " 0.7267750733036894,\n",
       " 0.7226335294373262,\n",
       " 0.7176626462159422,\n",
       " 0.7118512088842862,\n",
       " 0.7065327318869725,\n",
       " 0.699678572950873,\n",
       " 0.6916961142051145,\n",
       " 0.683693368917413,\n",
       " 0.6762677171309431,\n",
       " 0.6684654540058097,\n",
       " 0.6613304191262687,\n",
       " 0.6558174670811968,\n",
       " 0.6514031634042906,\n",
       " 0.6491618873319964,\n",
       " 0.6474836091534185,\n",
       " 0.6459704064053196,\n",
       " 0.6454734917716718,\n",
       " 0.6453880093202894,\n",
       " 0.6449744681207417,\n",
       " 0.6462294727851038,\n",
       " 0.6475323268080019,\n",
       " 0.6469603782245504,\n",
       " 0.647975941776783,\n",
       " 0.6494877145852329,\n",
       " 0.649466986650479,\n",
       " 0.6473022922681106,\n",
       " 0.6430795859048932,\n",
       " 0.6364691532705948,\n",
       " 0.6283018794468611,\n",
       " 0.6202524434487133,\n",
       " 0.6126817881189138,\n",
       " 0.6086965628633102,\n",
       " 0.6069055269324432,\n",
       " 0.6038667445126211,\n",
       " 0.6005079077588208,\n",
       " 0.5985115948887237,\n",
       " 0.599427205183601,\n",
       " 0.60143493301739,\n",
       " 0.6027751713500357,\n",
       " 0.6048301782838457,\n",
       " 0.6089640077342822,\n",
       " 0.6148479370271416,\n",
       " 0.6207833234638329,\n",
       " 0.6271561275050825,\n",
       " 0.634170937870278,\n",
       " 0.6421662336848882,\n",
       " 0.6505534040875117,\n",
       " 0.6584487149050305,\n",
       " 0.665752100581439,\n",
       " 0.6714306526878966,\n",
       " 0.6756528446077021,\n",
       " 0.6799687702329987,\n",
       " 0.6852820502872654,\n",
       " 0.6927382331488772,\n",
       " 0.7035503655421981,\n",
       " 0.7139858114309693,\n",
       " 0.722357852113487,\n",
       " 0.7306933727511825,\n",
       " 0.7394214667756254,\n",
       " 0.748091294609903,\n",
       " 0.7561552971577864,\n",
       " 0.7663008836925079,\n",
       " 0.7776247967246898,\n",
       " 0.7883355507287007,\n",
       " 0.8011853552313429,\n",
       " 0.8147123208386498,\n",
       " 0.8281137273908562,\n",
       " 0.8426462363038976]"
      ]
     },
     "execution_count": 37,
     "metadata": {},
     "output_type": "execute_result"
    }
   ],
   "source": [
    "opA(x)"
   ]
  },
  {
   "cell_type": "code",
   "execution_count": 38,
   "metadata": {},
   "outputs": [
    {
     "data": {
      "text/plain": [
       "<openpathsampling.engines.toy.snapshot.ToySnapshot at 0x11a638c10>"
      ]
     },
     "execution_count": 38,
     "metadata": {},
     "output_type": "execute_result"
    }
   ],
   "source": [
    "old_store.snapshots.load(119821506910823800303319164102417483462L)"
   ]
  },
  {
   "cell_type": "code",
   "execution_count": 39,
   "metadata": {
    "collapsed": true
   },
   "outputs": [],
   "source": [
    "traj = storage.trajectories[4]"
   ]
  },
  {
   "cell_type": "code",
   "execution_count": 40,
   "metadata": {},
   "outputs": [
    {
     "data": {
      "text/plain": [
       "Trajectory[49]"
      ]
     },
     "execution_count": 40,
     "metadata": {},
     "output_type": "execute_result"
    }
   ],
   "source": [
    "traj"
   ]
  },
  {
   "cell_type": "code",
   "execution_count": 42,
   "metadata": {},
   "outputs": [],
   "source": [
    "trajR = traj.reversed"
   ]
  },
  {
   "cell_type": "code",
   "execution_count": 43,
   "metadata": {},
   "outputs": [
    {
     "name": "stdout",
     "output_type": "stream",
     "text": [
      "0 662\n"
     ]
    }
   ],
   "source": [
    "c = 0\n",
    "for v in storage.snapshots.cache.values():\n",
    "    if type(v) is paths.netcdfplus.LoaderProxy:\n",
    "        c += 1\n",
    "        print v.__uuid__\n",
    "        \n",
    "print c, len( paths.netcdfplus.LoaderProxy._stash)"
   ]
  },
  {
   "cell_type": "code",
   "execution_count": 44,
   "metadata": {},
   "outputs": [
    {
     "data": {
      "text/plain": [
       "(store.trajectories[Trajectory] : 13 object(s),\n",
       " 0,\n",
       " 226358160673031759422136302928679496106L)"
      ]
     },
     "execution_count": 44,
     "metadata": {},
     "output_type": "execute_result"
    }
   ],
   "source": [
    "storage.save(trajR)"
   ]
  },
  {
   "cell_type": "code",
   "execution_count": null,
   "metadata": {
    "collapsed": true
   },
   "outputs": [],
   "source": []
  },
  {
   "cell_type": "code",
   "execution_count": 45,
   "metadata": {},
   "outputs": [
    {
     "data": {
      "text/plain": [
       "481L"
      ]
     },
     "execution_count": 45,
     "metadata": {},
     "output_type": "execute_result"
    }
   ],
   "source": [
    "storage.snapshots.index[119821506910823800303319164102417802405L]"
   ]
  },
  {
   "cell_type": "code",
   "execution_count": 46,
   "metadata": {},
   "outputs": [
    {
     "data": {
      "text/plain": [
       "<openpathsampling.engines.toy.snapshot.ToySnapshot at 0x1179fff10>"
      ]
     },
     "execution_count": 46,
     "metadata": {},
     "output_type": "execute_result"
    }
   ],
   "source": [
    "storage.snapshots.cache[int(storage.snapshots.index[119821506910823800303319164102417775753L]) ^ 1]"
   ]
  },
  {
   "cell_type": "code",
   "execution_count": 49,
   "metadata": {},
   "outputs": [
    {
     "name": "stdout",
     "output_type": "stream",
     "text": [
      "(<openpathsampling.engines.toy.snapshot.ToySnapshot object at 0x11b7d5650>, 119821506910823800303319164102417775753L, store.snapshots[BaseSnapshot] : 1168 object(s))\n",
      "(<openpathsampling.engines.toy.snapshot.ToySnapshot object at 0x11b7d5550>, 119821506910823800303319164102417775735L, store.snapshots[BaseSnapshot] : 1168 object(s))\n",
      "(<openpathsampling.engines.toy.snapshot.ToySnapshot object at 0x11b7d56d0>, 119821506910823800303319164102417775717L, store.snapshots[BaseSnapshot] : 1168 object(s))\n",
      "(<openpathsampling.engines.toy.snapshot.ToySnapshot object at 0x11b7d5710>, 119821506910823800303319164102417775699L, store.snapshots[BaseSnapshot] : 1168 object(s))\n",
      "(<openpathsampling.engines.toy.snapshot.ToySnapshot object at 0x11b7d5610>, 119821506910823800303319164102417775681L, store.snapshots[BaseSnapshot] : 1168 object(s))\n",
      "(<openpathsampling.engines.toy.snapshot.ToySnapshot object at 0x11b7d5690>, 119821506910823800303319164102417775663L, store.snapshots[BaseSnapshot] : 1168 object(s))\n",
      "(<openpathsampling.engines.toy.snapshot.ToySnapshot object at 0x11b7d54d0>, 119821506910823800303319164102417775645L, store.snapshots[BaseSnapshot] : 1168 object(s))\n",
      "(<openpathsampling.engines.toy.snapshot.ToySnapshot object at 0x11b7d55d0>, 119821506910823800303319164102417775627L, store.snapshots[BaseSnapshot] : 1168 object(s))\n",
      "(<openpathsampling.engines.toy.snapshot.ToySnapshot object at 0x11b7d5590>, 119821506910823800303319164102417775609L, store.snapshots[BaseSnapshot] : 1168 object(s))\n",
      "(<openpathsampling.engines.toy.snapshot.ToySnapshot object at 0x11b7d5510>, 119821506910823800303319164102417775591L, store.snapshots[BaseSnapshot] : 1168 object(s))\n",
      "(<openpathsampling.engines.toy.snapshot.ToySnapshot object at 0x11b7d5750>, 119821506910823800303319164102417775573L, store.snapshots[BaseSnapshot] : 1168 object(s))\n",
      "(<openpathsampling.engines.toy.snapshot.ToySnapshot object at 0x11b7d5790>, 119821506910823800303319164102417775555L, store.snapshots[BaseSnapshot] : 1168 object(s))\n",
      "(<openpathsampling.engines.toy.snapshot.ToySnapshot object at 0x11b7d57d0>, 119821506910823800303319164102417775537L, store.snapshots[BaseSnapshot] : 1168 object(s))\n",
      "(<openpathsampling.engines.toy.snapshot.ToySnapshot object at 0x11b7d5810>, 119821506910823800303319164102417775519L, store.snapshots[BaseSnapshot] : 1168 object(s))\n",
      "(<openpathsampling.engines.toy.snapshot.ToySnapshot object at 0x11b7d5850>, 119821506910823800303319164102417775501L, store.snapshots[BaseSnapshot] : 1168 object(s))\n",
      "(<openpathsampling.engines.toy.snapshot.ToySnapshot object at 0x11b7d5890>, 119821506910823800303319164102417775483L, store.snapshots[BaseSnapshot] : 1168 object(s))\n",
      "(<openpathsampling.engines.toy.snapshot.ToySnapshot object at 0x11b7d58d0>, 119821506910823800303319164102417775465L, store.snapshots[BaseSnapshot] : 1168 object(s))\n",
      "(<openpathsampling.engines.toy.snapshot.ToySnapshot object at 0x11b7d5910>, 119821506910823800303319164102417775447L, store.snapshots[BaseSnapshot] : 1168 object(s))\n",
      "(<openpathsampling.engines.toy.snapshot.ToySnapshot object at 0x11b7d5950>, 119821506910823800303319164102417775429L, store.snapshots[BaseSnapshot] : 1168 object(s))\n",
      "(<openpathsampling.engines.toy.snapshot.ToySnapshot object at 0x11b7d5990>, 119821506910823800303319164102417775411L, store.snapshots[BaseSnapshot] : 1168 object(s))\n",
      "(<openpathsampling.engines.toy.snapshot.ToySnapshot object at 0x11b7d59d0>, 119821506910823800303319164102417775393L, store.snapshots[BaseSnapshot] : 1168 object(s))\n",
      "(<openpathsampling.engines.toy.snapshot.ToySnapshot object at 0x11b7d5a10>, 119821506910823800303319164102417775375L, store.snapshots[BaseSnapshot] : 1168 object(s))\n",
      "(<openpathsampling.engines.toy.snapshot.ToySnapshot object at 0x11b7d5a50>, 119821506910823800303319164102417775357L, store.snapshots[BaseSnapshot] : 1168 object(s))\n",
      "(<openpathsampling.engines.toy.snapshot.ToySnapshot object at 0x11b7d5a90>, 119821506910823800303319164102417775339L, store.snapshots[BaseSnapshot] : 1168 object(s))\n",
      "(<openpathsampling.engines.toy.snapshot.ToySnapshot object at 0x11b7d5ad0>, 119821506910823800303319164102417775321L, store.snapshots[BaseSnapshot] : 1168 object(s))\n",
      "(<openpathsampling.engines.toy.snapshot.ToySnapshot object at 0x11b7d5b10>, 119821506910823800303319164102417775303L, store.snapshots[BaseSnapshot] : 1168 object(s))\n",
      "(<openpathsampling.engines.toy.snapshot.ToySnapshot object at 0x11b7d5b50>, 119821506910823800303319164102417775285L, store.snapshots[BaseSnapshot] : 1168 object(s))\n",
      "(<openpathsampling.engines.toy.snapshot.ToySnapshot object at 0x11b7d5b90>, 119821506910823800303319164102417775267L, store.snapshots[BaseSnapshot] : 1168 object(s))\n",
      "(<openpathsampling.engines.toy.snapshot.ToySnapshot object at 0x11b7d5bd0>, 119821506910823800303319164102417775249L, store.snapshots[BaseSnapshot] : 1168 object(s))\n",
      "(<openpathsampling.engines.toy.snapshot.ToySnapshot object at 0x11b7d5c10>, 119821506910823800303319164102417775231L, store.snapshots[BaseSnapshot] : 1168 object(s))\n",
      "(<openpathsampling.engines.toy.snapshot.ToySnapshot object at 0x11b7d5c50>, 119821506910823800303319164102417775213L, store.snapshots[BaseSnapshot] : 1168 object(s))\n",
      "(<openpathsampling.engines.toy.snapshot.ToySnapshot object at 0x11b7d5c90>, 119821506910823800303319164102417775195L, store.snapshots[BaseSnapshot] : 1168 object(s))\n",
      "(<openpathsampling.engines.toy.snapshot.ToySnapshot object at 0x11b7d5cd0>, 119821506910823800303319164102417775177L, store.snapshots[BaseSnapshot] : 1168 object(s))\n",
      "(<openpathsampling.engines.toy.snapshot.ToySnapshot object at 0x11b7d5d10>, 119821506910823800303319164102417775159L, store.snapshots[BaseSnapshot] : 1168 object(s))\n",
      "(<openpathsampling.engines.toy.snapshot.ToySnapshot object at 0x11b7d5d50>, 119821506910823800303319164102417775141L, store.snapshots[BaseSnapshot] : 1168 object(s))\n",
      "(<openpathsampling.engines.toy.snapshot.ToySnapshot object at 0x11b7d5d90>, 119821506910823800303319164102417775123L, store.snapshots[BaseSnapshot] : 1168 object(s))\n",
      "(<openpathsampling.engines.toy.snapshot.ToySnapshot object at 0x11b7d5dd0>, 119821506910823800303319164102417775105L, store.snapshots[BaseSnapshot] : 1168 object(s))\n",
      "(<openpathsampling.engines.toy.snapshot.ToySnapshot object at 0x11b7d5e10>, 119821506910823800303319164102417775087L, store.snapshots[BaseSnapshot] : 1168 object(s))\n",
      "(<openpathsampling.engines.toy.snapshot.ToySnapshot object at 0x11b7d5e50>, 119821506910823800303319164102417775069L, store.snapshots[BaseSnapshot] : 1168 object(s))\n",
      "(<openpathsampling.engines.toy.snapshot.ToySnapshot object at 0x11b7d5e90>, 119821506910823800303319164102417775051L, store.snapshots[BaseSnapshot] : 1168 object(s))\n",
      "(<openpathsampling.engines.toy.snapshot.ToySnapshot object at 0x11b7d5ed0>, 119821506910823800303319164102417775033L, store.snapshots[BaseSnapshot] : 1168 object(s))\n",
      "(<openpathsampling.engines.toy.snapshot.ToySnapshot object at 0x11b7d5f10>, 119821506910823800303319164102417775015L, store.snapshots[BaseSnapshot] : 1168 object(s))\n",
      "(<openpathsampling.engines.toy.snapshot.ToySnapshot object at 0x11b7d5f50>, 119821506910823800303319164102417774997L, store.snapshots[BaseSnapshot] : 1168 object(s))\n",
      "(<openpathsampling.engines.toy.snapshot.ToySnapshot object at 0x11b7d5f90>, 119821506910823800303319164102417774979L, store.snapshots[BaseSnapshot] : 1168 object(s))\n",
      "(<openpathsampling.engines.toy.snapshot.ToySnapshot object at 0x11b7d5fd0>, 119821506910823800303319164102417774961L, store.snapshots[BaseSnapshot] : 1168 object(s))\n",
      "(<openpathsampling.engines.toy.snapshot.ToySnapshot object at 0x11b7f5050>, 119821506910823800303319164102417771788L, store.snapshots[BaseSnapshot] : 1168 object(s))\n",
      "(<openpathsampling.engines.toy.snapshot.ToySnapshot object at 0x11b7f5090>, 119821506910823800303319164102417771804L, store.snapshots[BaseSnapshot] : 1168 object(s))\n",
      "(<openpathsampling.engines.toy.snapshot.ToySnapshot object at 0x11b7f50d0>, 119821506910823800303319164102417771820L, store.snapshots[BaseSnapshot] : 1168 object(s))\n",
      "(<openpathsampling.engines.toy.snapshot.ToySnapshot object at 0x11b7f5110>, 119821506910823800303319164102417771836L, store.snapshots[BaseSnapshot] : 1168 object(s))\n"
     ]
    },
    {
     "data": {
      "text/plain": [
       "[0.852078385447981,\n",
       " 0.8435279397200199,\n",
       " 0.8346339737660428,\n",
       " 0.8287363144841959,\n",
       " 0.8251213937173151,\n",
       " 0.8210499352352544,\n",
       " 0.8177924080204492,\n",
       " 0.8164162395094531,\n",
       " 0.8171771718311287,\n",
       " 0.8198210746997133,\n",
       " 0.8213829460418295,\n",
       " 0.8212809847660696,\n",
       " 0.8185910381794773,\n",
       " 0.8135750367780481,\n",
       " 0.8086840309295951,\n",
       " 0.8029976289658741,\n",
       " 0.7963994583895145,\n",
       " 0.7904329910686442,\n",
       " 0.7852965363492385,\n",
       " 0.7796253035788104,\n",
       " 0.7742727029758856,\n",
       " 0.7693879478512071,\n",
       " 0.7651213270065578,\n",
       " 0.7625648166136385,\n",
       " 0.76048588684332,\n",
       " 0.7563186135451372,\n",
       " 0.7512553593809735,\n",
       " 0.746447135303727,\n",
       " 0.7417737250940786,\n",
       " 0.7367078756172022,\n",
       " 0.7323404719720465,\n",
       " 0.7300370104323374,\n",
       " 0.7283121492483292,\n",
       " 0.7273794804353032,\n",
       " 0.7285869094222976,\n",
       " 0.731613414374136,\n",
       " 0.7365787862126735,\n",
       " 0.7426664597309824,\n",
       " 0.7504945554323496,\n",
       " 0.7610588816358228,\n",
       " 0.7715735847266934,\n",
       " 0.7820156041817118,\n",
       " 0.792908653726814,\n",
       " 0.8046120350870767,\n",
       " 0.8168272835103827,\n",
       " 0.8272246527312339,\n",
       " 0.8354283978367212,\n",
       " 0.843561242792476,\n",
       " 0.852189186334767]"
      ]
     },
     "execution_count": 49,
     "metadata": {},
     "output_type": "execute_result"
    }
   ],
   "source": [
    "opA(trajR)"
   ]
  },
  {
   "cell_type": "code",
   "execution_count": 42,
   "metadata": {},
   "outputs": [
    {
     "name": "stdout",
     "output_type": "stream",
     "text": [
      "(<openpathsampling.engines.toy.snapshot.ToySnapshot object at 0x113e09450>, 89991893057877984407881401272971075634L, store.snapshots[BaseSnapshot] : 1514 object(s))\n",
      "(<openpathsampling.engines.toy.snapshot.ToySnapshot object at 0x113e09350>, 89991893057877984407881401272971075586L, store.snapshots[BaseSnapshot] : 1514 object(s))\n",
      "(<openpathsampling.engines.toy.snapshot.ToySnapshot object at 0x113e00e50>, 89991893057877984407881401272971072752L, store.snapshots[BaseSnapshot] : 1514 object(s))\n",
      "(<openpathsampling.engines.toy.snapshot.ToySnapshot object at 0x113e09290>, 89991893057877984407881401272971075538L, store.snapshots[BaseSnapshot] : 1514 object(s))\n",
      "(<openpathsampling.engines.toy.snapshot.ToySnapshot object at 0x113e09210>, 89991893057877984407881401272971075550L, store.snapshots[BaseSnapshot] : 1514 object(s))\n",
      "(<openpathsampling.engines.toy.snapshot.ToySnapshot object at 0x113e092d0>, 89991893057877984407881401272971075562L, store.snapshots[BaseSnapshot] : 1514 object(s))\n",
      "(<openpathsampling.engines.toy.snapshot.ToySnapshot object at 0x113e09150>, 89991893057877984407881401272971075574L, store.snapshots[BaseSnapshot] : 1514 object(s))\n",
      "(<openpathsampling.engines.toy.snapshot.ToySnapshot object at 0x113e09390>, 89991893057877984407881401272971075598L, store.snapshots[BaseSnapshot] : 1514 object(s))\n",
      "(<openpathsampling.engines.toy.snapshot.ToySnapshot object at 0x113e093d0>, 89991893057877984407881401272971075610L, store.snapshots[BaseSnapshot] : 1514 object(s))\n",
      "(<openpathsampling.engines.toy.snapshot.ToySnapshot object at 0x113e09410>, 89991893057877984407881401272971075622L, store.snapshots[BaseSnapshot] : 1514 object(s))\n",
      "(<openpathsampling.engines.toy.snapshot.ToySnapshot object at 0x113e09490>, 89991893057877984407881401272971075646L, store.snapshots[BaseSnapshot] : 1514 object(s))\n",
      "(<openpathsampling.engines.toy.snapshot.ToySnapshot object at 0x113e09550>, 89991893057877984407881401272971075682L, store.snapshots[BaseSnapshot] : 1514 object(s))\n",
      "(<openpathsampling.engines.toy.snapshot.ToySnapshot object at 0x113e094d0>, 89991893057877984407881401272971075658L, store.snapshots[BaseSnapshot] : 1514 object(s))\n",
      "(<openpathsampling.engines.toy.snapshot.ToySnapshot object at 0x113e09950>, 89991893057877984407881401272971075874L, store.snapshots[BaseSnapshot] : 1514 object(s))\n",
      "(<openpathsampling.engines.toy.snapshot.ToySnapshot object at 0x113e09590>, 89991893057877984407881401272971075694L, store.snapshots[BaseSnapshot] : 1514 object(s))\n",
      "(<openpathsampling.engines.toy.snapshot.ToySnapshot object at 0x113e095d0>, 89991893057877984407881401272971075706L, store.snapshots[BaseSnapshot] : 1514 object(s))\n",
      "(<openpathsampling.engines.toy.snapshot.ToySnapshot object at 0x113e09610>, 89991893057877984407881401272971075718L, store.snapshots[BaseSnapshot] : 1514 object(s))\n",
      "(<openpathsampling.engines.toy.snapshot.ToySnapshot object at 0x113e00fd0>, 89991893057877984407881401272971072812L, store.snapshots[BaseSnapshot] : 1514 object(s))\n",
      "(<openpathsampling.engines.toy.snapshot.ToySnapshot object at 0x113e09690>, 89991893057877984407881401272971075742L, store.snapshots[BaseSnapshot] : 1514 object(s))\n",
      "(<openpathsampling.engines.toy.snapshot.ToySnapshot object at 0x113e096d0>, 89991893057877984407881401272971075754L, store.snapshots[BaseSnapshot] : 1514 object(s))\n",
      "(<openpathsampling.engines.toy.snapshot.ToySnapshot object at 0x113e09710>, 89991893057877984407881401272971075766L, store.snapshots[BaseSnapshot] : 1514 object(s))\n",
      "(<openpathsampling.engines.toy.snapshot.ToySnapshot object at 0x113e09790>, 89991893057877984407881401272971075790L, store.snapshots[BaseSnapshot] : 1514 object(s))\n",
      "(<openpathsampling.engines.toy.snapshot.ToySnapshot object at 0x113e00f50>, 89991893057877984407881401272971072824L, store.snapshots[BaseSnapshot] : 1514 object(s))\n",
      "(<openpathsampling.engines.toy.snapshot.ToySnapshot object at 0x113e097d0>, 89991893057877984407881401272971075802L, store.snapshots[BaseSnapshot] : 1514 object(s))\n",
      "(<openpathsampling.engines.toy.snapshot.ToySnapshot object at 0x113e09810>, 89991893057877984407881401272971075814L, store.snapshots[BaseSnapshot] : 1514 object(s))\n",
      "(<openpathsampling.engines.toy.snapshot.ToySnapshot object at 0x113e09890>, 89991893057877984407881401272971075838L, store.snapshots[BaseSnapshot] : 1514 object(s))\n",
      "(<openpathsampling.engines.toy.snapshot.ToySnapshot object at 0x113e098d0>, 89991893057877984407881401272971075850L, store.snapshots[BaseSnapshot] : 1514 object(s))\n",
      "(<openpathsampling.engines.toy.snapshot.ToySnapshot object at 0x113e09910>, 89991893057877984407881401272971075862L, store.snapshots[BaseSnapshot] : 1514 object(s))\n",
      "(<openpathsampling.engines.toy.snapshot.ToySnapshot object at 0x113e09850>, 89991893057877984407881401272971075826L, store.snapshots[BaseSnapshot] : 1514 object(s))\n",
      "(<openpathsampling.engines.toy.snapshot.ToySnapshot object at 0x113e09990>, 89991893057877984407881401272971075886L, store.snapshots[BaseSnapshot] : 1514 object(s))\n",
      "(<openpathsampling.engines.toy.snapshot.ToySnapshot object at 0x113e099d0>, 89991893057877984407881401272971075898L, store.snapshots[BaseSnapshot] : 1514 object(s))\n",
      "(<openpathsampling.engines.toy.snapshot.ToySnapshot object at 0x113e09a10>, 89991893057877984407881401272971075910L, store.snapshots[BaseSnapshot] : 1514 object(s))\n",
      "(<openpathsampling.engines.toy.snapshot.ToySnapshot object at 0x113e09a90>, 89991893057877984407881401272971075934L, store.snapshots[BaseSnapshot] : 1514 object(s))\n",
      "(<openpathsampling.engines.toy.snapshot.ToySnapshot object at 0x113e09090>, 89991893057877984407881401272971072848L, store.snapshots[BaseSnapshot] : 1514 object(s))\n",
      "(<openpathsampling.engines.toy.snapshot.ToySnapshot object at 0x113e09ad0>, 89991893057877984407881401272971075946L, store.snapshots[BaseSnapshot] : 1514 object(s))\n",
      "(<openpathsampling.engines.toy.snapshot.ToySnapshot object at 0x113e09a50>, 89991893057877984407881401272971075922L, store.snapshots[BaseSnapshot] : 1514 object(s))\n",
      "(<openpathsampling.engines.toy.snapshot.ToySnapshot object at 0x113e09b10>, 89991893057877984407881401272971075958L, store.snapshots[BaseSnapshot] : 1514 object(s))\n",
      "(<openpathsampling.engines.toy.snapshot.ToySnapshot object at 0x113e09750>, 89991893057877984407881401272971075778L, store.snapshots[BaseSnapshot] : 1514 object(s))\n",
      "(<openpathsampling.engines.toy.snapshot.ToySnapshot object at 0x113e09b90>, 89991893057877984407881401272971075982L, store.snapshots[BaseSnapshot] : 1514 object(s))\n",
      "(<openpathsampling.engines.toy.snapshot.ToySnapshot object at 0x113e09bd0>, 89991893057877984407881401272971075994L, store.snapshots[BaseSnapshot] : 1514 object(s))\n",
      "(<openpathsampling.engines.toy.snapshot.ToySnapshot object at 0x113e09c10>, 89991893057877984407881401272971076006L, store.snapshots[BaseSnapshot] : 1514 object(s))\n",
      "(<openpathsampling.engines.toy.snapshot.ToySnapshot object at 0x113e09d50>, 89991893057877984407881401272971076032L, store.snapshots[BaseSnapshot] : 1514 object(s))\n",
      "(<openpathsampling.engines.toy.snapshot.ToySnapshot object at 0x113e09cd0>, 89991893057877984407881401272971076068L, store.snapshots[BaseSnapshot] : 1514 object(s))\n",
      "(<openpathsampling.engines.toy.snapshot.ToySnapshot object at 0x113e09d10>, 89991893057877984407881401272971076086L, store.snapshots[BaseSnapshot] : 1514 object(s))\n",
      "(<openpathsampling.engines.toy.snapshot.ToySnapshot object at 0x113e09b50>, 89991893057877984407881401272971075970L, store.snapshots[BaseSnapshot] : 1514 object(s))\n",
      "(<openpathsampling.engines.toy.snapshot.ToySnapshot object at 0x113e09250>, 89991893057877984407881401272971072898L, store.snapshots[BaseSnapshot] : 1514 object(s))\n",
      "(<openpathsampling.engines.toy.snapshot.ToySnapshot object at 0x113e09510>, 89991893057877984407881401272971075670L, store.snapshots[BaseSnapshot] : 1514 object(s))\n",
      "(<openpathsampling.engines.toy.snapshot.ToySnapshot object at 0x116404590>, 89991893057877984407881401272971109714L, store.snapshots[BaseSnapshot] : 1514 object(s))\n",
      "(<openpathsampling.engines.toy.snapshot.ToySnapshot object at 0x113e09c90>, 89991893057877984407881401272971076050L, store.snapshots[BaseSnapshot] : 1514 object(s))\n",
      "(<openpathsampling.engines.toy.snapshot.ToySnapshot object at 0x113e00c10>, 89991893057877984407881401272971072692L, store.snapshots[BaseSnapshot] : 1514 object(s))\n",
      "(<openpathsampling.engines.toy.snapshot.ToySnapshot object at 0x113e00d90>, 89991893057877984407881401272971072704L, store.snapshots[BaseSnapshot] : 1514 object(s))\n",
      "(<openpathsampling.engines.toy.snapshot.ToySnapshot object at 0x113e00c90>, 89991893057877984407881401272971072716L, store.snapshots[BaseSnapshot] : 1514 object(s))\n",
      "(<openpathsampling.engines.toy.snapshot.ToySnapshot object at 0x113e00c50>, 89991893057877984407881401272971072728L, store.snapshots[BaseSnapshot] : 1514 object(s))\n",
      "(<openpathsampling.engines.toy.snapshot.ToySnapshot object at 0x113e00e10>, 89991893057877984407881401272971072740L, store.snapshots[BaseSnapshot] : 1514 object(s))\n",
      "(<openpathsampling.engines.toy.snapshot.ToySnapshot object at 0x113e00e90>, 89991893057877984407881401272971072764L, store.snapshots[BaseSnapshot] : 1514 object(s))\n",
      "(<openpathsampling.engines.toy.snapshot.ToySnapshot object at 0x113e00ed0>, 89991893057877984407881401272971072776L, store.snapshots[BaseSnapshot] : 1514 object(s))\n",
      "(<openpathsampling.engines.toy.snapshot.ToySnapshot object at 0x113e00f10>, 89991893057877984407881401272971072788L, store.snapshots[BaseSnapshot] : 1514 object(s))\n",
      "(<openpathsampling.engines.toy.snapshot.ToySnapshot object at 0x113e00f90>, 89991893057877984407881401272971072800L, store.snapshots[BaseSnapshot] : 1514 object(s))\n",
      "(<openpathsampling.engines.toy.snapshot.ToySnapshot object at 0x113e09050>, 89991893057877984407881401272971072836L, store.snapshots[BaseSnapshot] : 1514 object(s))\n",
      "(<openpathsampling.engines.toy.snapshot.ToySnapshot object at 0x113e090d0>, 89991893057877984407881401272971072860L, store.snapshots[BaseSnapshot] : 1514 object(s))\n",
      "(<openpathsampling.engines.toy.snapshot.ToySnapshot object at 0x116404550>, 89991893057877984407881401272971109732L, store.snapshots[BaseSnapshot] : 1514 object(s))\n",
      "(<openpathsampling.engines.toy.snapshot.ToySnapshot object at 0x113e09110>, 89991893057877984407881401272971072872L, store.snapshots[BaseSnapshot] : 1514 object(s))\n",
      "(<openpathsampling.engines.toy.snapshot.ToySnapshot object at 0x116404250>, 89991893057877984407881401272971109750L, store.snapshots[BaseSnapshot] : 1514 object(s))\n",
      "(<openpathsampling.engines.toy.snapshot.ToySnapshot object at 0x116404050>, 89991893057877984407881401272971109768L, store.snapshots[BaseSnapshot] : 1514 object(s))\n",
      "(<openpathsampling.engines.toy.snapshot.ToySnapshot object at 0x113e09190>, 89991893057877984407881401272971072916L, store.snapshots[BaseSnapshot] : 1514 object(s))\n",
      "(<openpathsampling.engines.toy.snapshot.ToySnapshot object at 0x113dfa1d0>, 89991893057877984407881401272971085208L, store.snapshots[BaseSnapshot] : 1514 object(s))\n",
      "(<openpathsampling.engines.toy.snapshot.ToySnapshot object at 0x1164045d0>, 89991893057877984407881401272971109786L, store.snapshots[BaseSnapshot] : 1514 object(s))\n",
      "(<openpathsampling.engines.toy.snapshot.ToySnapshot object at 0x113e091d0>, 89991893057877984407881401272971072934L, store.snapshots[BaseSnapshot] : 1514 object(s))\n",
      "(<openpathsampling.engines.toy.snapshot.ToySnapshot object at 0x113c54dd0>, 89991893057877984407881401272971085226L, store.snapshots[BaseSnapshot] : 1514 object(s))\n",
      "(<openpathsampling.engines.toy.snapshot.ToySnapshot object at 0x116404450>, 89991893057877984407881401272971109804L, store.snapshots[BaseSnapshot] : 1514 object(s))\n",
      "(<openpathsampling.engines.toy.snapshot.ToySnapshot object at 0x113e09c50>, 89991893057877984407881401272971076104L, store.snapshots[BaseSnapshot] : 1514 object(s))\n",
      "(<openpathsampling.engines.toy.snapshot.ToySnapshot object at 0x1164042d0>, 89991893057877984407881401272971118010L, store.snapshots[BaseSnapshot] : 1514 object(s))\n",
      "(<openpathsampling.engines.toy.snapshot.ToySnapshot object at 0x113d1f950>, 89991893057877984407881401272971085244L, store.snapshots[BaseSnapshot] : 1514 object(s))\n",
      "(<openpathsampling.engines.toy.snapshot.ToySnapshot object at 0x116404390>, 89991893057877984407881401272971101654L, store.snapshots[BaseSnapshot] : 1514 object(s))\n",
      "(<openpathsampling.engines.toy.snapshot.ToySnapshot object at 0x113e09650>, 89991893057877984407881401272971075730L, store.snapshots[BaseSnapshot] : 1514 object(s))\n",
      "(<openpathsampling.engines.toy.snapshot.ToySnapshot object at 0x1164044d0>, 89991893057877984407881401272971101672L, store.snapshots[BaseSnapshot] : 1514 object(s))\n",
      "(<openpathsampling.engines.toy.snapshot.ToySnapshot object at 0x1164043d0>, 89991893057877984407881401272971101690L, store.snapshots[BaseSnapshot] : 1514 object(s))\n",
      "0 757\n"
     ]
    }
   ],
   "source": [
    "c = 0\n",
    "for q, v in paths.netcdfplus.LoaderProxy._stash.iteritems():\n",
    "    if type(v.__subject__) is paths.netcdfplus.LoaderProxy:\n",
    "        c += 1\n",
    "        print v.__uuid__ - q, q, q ^ 1\n",
    "        print paths.netcdfplus.LoaderProxy._stash[q ^ 1].__subject__\n",
    "        print storage.snapshots.load(q)\n",
    "        print storage.snapshots.cache\n",
    "        print storage.snapshots.cache[int(storage.snapshots.index[q ^ 1])]\n",
    "        \n",
    "print c, len( paths.netcdfplus.LoaderProxy._stash)"
   ]
  },
  {
   "cell_type": "code",
   "execution_count": 58,
   "metadata": {},
   "outputs": [
    {
     "data": {
      "text/plain": [
       "340001910279573385413515983607451183702L"
      ]
     },
     "execution_count": 58,
     "metadata": {},
     "output_type": "execute_result"
    }
   ],
   "source": [
    "storage.steps.last.change.canonical.trials[0].trajectory.__uuid__"
   ]
  },
  {
   "cell_type": "code",
   "execution_count": 45,
   "metadata": {},
   "outputs": [
    {
     "name": "stdout",
     "output_type": "stream",
     "text": [
      "Working on Monte Carlo cycle number 2\n",
      "Starting simulation...\n",
      "Working on first step\n",
      "DONE! Completed 2 Monte Carlo cycles.\n"
     ]
    }
   ],
   "source": [
    "mstis_calc.run_until(2)"
   ]
  },
  {
   "cell_type": "code",
   "execution_count": 36,
   "metadata": {},
   "outputs": [
    {
     "name": "stdout",
     "output_type": "stream",
     "text": [
      "20100\n"
     ]
    }
   ],
   "source": [
    "n_steps = int(mstis_calc.move_scheme.n_steps_for_trials(mstis_calc.move_scheme.movers['shooting'][0], 1000))\n",
    "print n_steps"
   ]
  },
  {
   "cell_type": "code",
   "execution_count": null,
   "metadata": {},
   "outputs": [
    {
     "data": {
      "image/png": "[encoded data removed]",
      "text/plain": [
       "<matplotlib.figure.Figure at 0x116f6cb10>"
      ]
     },
     "metadata": {},
     "output_type": "display_data"
    },
    {
     "name": "stdout",
     "output_type": "stream",
     "text": [
      "Working on Monte Carlo cycle number 146\n",
      "Running for 25 seconds -  1.73 steps per second\n",
      "Expected time to finish: 11511 seconds\n"
     ]
    }
   ],
   "source": [
    "#! skip\n",
    "# don't run all those steps in testing!\n",
    "mstis_calc.run_until(n_steps)"
   ]
  },
  {
   "cell_type": "code",
   "execution_count": 37,
   "metadata": {
    "collapsed": true
   },
   "outputs": [],
   "source": [
    "storage.close()"
   ]
  },
  {
   "cell_type": "code",
   "execution_count": null,
   "metadata": {
    "collapsed": true
   },
   "outputs": [],
   "source": []
  }
 ],
 "metadata": {
  "anaconda-cloud": {},
  "kernelspec": {
   "display_name": "Python 2",
   "language": "python",
   "name": "python2"
  },
  "language_info": {
   "codemirror_mode": {
    "name": "ipython",
    "version": 2
   },
   "file_extension": ".py",
   "mimetype": "text/x-python",
   "name": "python",
   "nbconvert_exporter": "python",
   "pygments_lexer": "ipython2",
   "version": "2.7.13"
  }
 },
 "nbformat": 4,
 "nbformat_minor": 1
}

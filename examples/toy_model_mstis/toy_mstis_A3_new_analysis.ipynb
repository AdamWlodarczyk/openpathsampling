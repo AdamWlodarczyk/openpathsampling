{
 "cells": [
  {
   "cell_type": "code",
   "execution_count": null,
   "metadata": {},
   "outputs": [],
   "source": [
    "# if our large test file is available, use it. Otherwise, use file generated from toy_mstis_2_run.ipynb\n",
    "from __future__ import print_function\n",
    "import os\n",
    "test_file = \"../toy_mstis_1k_OPS1.nc\"\n",
    "filename = test_file if os.path.isfile(test_file) else \"mstis.nc\"\n",
    "print('Using file ' + filename + ' for analysis')"
   ]
  },
  {
   "cell_type": "code",
   "execution_count": null,
   "metadata": {
    "collapsed": true
   },
   "outputs": [],
   "source": [
    "%matplotlib inline\n",
    "import matplotlib.pyplot as plt\n",
    "import numpy as np\n",
    "import openpathsampling as paths\n",
    "import pandas as pd"
   ]
  },
  {
   "cell_type": "markdown",
   "metadata": {},
   "source": [
    "# TIS Analysis Framework Examples\n",
    "\n",
    "This notebook provides an overview of the TIS analysis framework in OpenPathSampling. We start with the `StandardTISAnalysis` object, which will probably meet the needs of most users. Then we go into details of how to set up custom objects for analysis, and how to assemble them into a generic `TISAnalysis` object.\n",
    "\n",
    "For an overview of TIS and this analysis framework, see http://openpathsampling.org/latest/topics/tis_analysis.html"
   ]
  },
  {
   "cell_type": "code",
   "execution_count": null,
   "metadata": {},
   "outputs": [],
   "source": [
    "%%time\n",
    "storage = paths.AnalysisStorage(filename)"
   ]
  },
  {
   "cell_type": "code",
   "execution_count": null,
   "metadata": {
    "collapsed": true
   },
   "outputs": [],
   "source": [
    "network = storage.networks[0]\n",
    "scheme = storage.schemes[0]"
   ]
  },
  {
   "cell_type": "code",
   "execution_count": null,
   "metadata": {
    "collapsed": true
   },
   "outputs": [],
   "source": [
    "stateA = storage.volumes['A']\n",
    "stateB = storage.volumes['B']\n",
    "stateC = storage.volumes['C']\n",
    "all_states = [stateA, stateB, stateC]  # all_states gives the ordering"
   ]
  },
  {
   "cell_type": "markdown",
   "metadata": {},
   "source": [
    "# Simplified Combined Analysis\n",
    "\n",
    "The `StandardTISAnalysis` object makes it very easy to perform the main TIS rate analysis. Furthermore, it caches all the intemediate results, so they can also be analyzed."
   ]
  },
  {
   "cell_type": "code",
   "execution_count": null,
   "metadata": {
    "collapsed": true
   },
   "outputs": [],
   "source": [
    "from openpathsampling.analysis.tis import StandardTISAnalysis"
   ]
  },
  {
   "cell_type": "code",
   "execution_count": null,
   "metadata": {
    "collapsed": true
   },
   "outputs": [],
   "source": [
    "# the scheme is only required if using the minus move for the flux\n",
    "tis_analysis = StandardTISAnalysis(\n",
    "    network=network,\n",
    "    scheme=scheme,\n",
    "    max_lambda_calcs={t: {'bin_width': 0.05, 'bin_range': (0.0, 0.5)}\n",
    "                      for t in network.sampling_transitions}\n",
    ")"
   ]
  },
  {
   "cell_type": "code",
   "execution_count": null,
   "metadata": {
    "scrolled": true
   },
   "outputs": [],
   "source": [
    "%%time\n",
    "rate_matrix = tis_analysis.rate_matrix(steps=storage.steps).to_pandas(order=all_states)"
   ]
  },
  {
   "cell_type": "code",
   "execution_count": null,
   "metadata": {},
   "outputs": [],
   "source": [
    "rate_matrix"
   ]
  },
  {
   "cell_type": "markdown",
   "metadata": {},
   "source": [
    "The rate matrix is a `pandas.DataFrame`. `pandas` has conveniences to easily convert that into a LaTeX table:"
   ]
  },
  {
   "cell_type": "code",
   "execution_count": null,
   "metadata": {},
   "outputs": [],
   "source": [
    "print(rate_matrix.to_latex(float_format=\"{:.2e}\".format))"
   ]
  },
  {
   "cell_type": "markdown",
   "metadata": {},
   "source": [
    "Note that there are many options for setting up the `StandardTISAnalysis` object. Most customizations to the analysis can be performed by changing the initialization parameters of that object; see its documentation for details."
   ]
  },
  {
   "cell_type": "markdown",
   "metadata": {},
   "source": [
    "## Looking at the parts of the calculation\n",
    "\n",
    "Once you run the rate calculation (or if you run `tis_analysis.calculate(steps)`, you have already cached a large number of subcalculations. All of those are available in the `results` dictionary, although the analysis object has a number of conveniences to access some of them.\n",
    "\n",
    "Looking at the keys of the results dictionary, we can see what has been cached:"
   ]
  },
  {
   "cell_type": "code",
   "execution_count": null,
   "metadata": {},
   "outputs": [],
   "source": [
    "tis_analysis.results.keys()"
   ]
  },
  {
   "cell_type": "markdown",
   "metadata": {},
   "source": [
    "In practice, however, we won't go directly to the results dictionary. We'd rather use the convenience methods that make it easier to get to the interesting results.\n",
    "\n",
    "We'll start by looking at the flux:"
   ]
  },
  {
   "cell_type": "code",
   "execution_count": null,
   "metadata": {},
   "outputs": [],
   "source": [
    "tis_analysis.flux_matrix"
   ]
  },
  {
   "cell_type": "code",
   "execution_count": null,
   "metadata": {},
   "outputs": [],
   "source": [
    "s = paths.analysis.tis.flux_matrix_pd(tis_analysis.flux_matrix)\n",
    "pd.DataFrame(s)"
   ]
  },
  {
   "cell_type": "markdown",
   "metadata": {},
   "source": [
    "Again, we can convert `pandas` objects to LaTeX tables:"
   ]
  },
  {
   "cell_type": "code",
   "execution_count": null,
   "metadata": {
    "collapsed": true
   },
   "outputs": [],
   "source": [
    "# if you don't like the \"Flux\" label in a separate line, fix it by hand\n",
    "print(s.to_latex(float_format='{:.4f}'.format))"
   ]
  },
  {
   "cell_type": "markdown",
   "metadata": {},
   "source": [
    "Next we look at the total crossing probability (i.e., the crossing probability, joined by WHAM) for each sampled transition. We could also look at this per physical transition, but of course $A\\to B$ and $A\\to C$ are identical in MSTIS -- only the initial state matters."
   ]
  },
  {
   "cell_type": "code",
   "execution_count": null,
   "metadata": {
    "collapsed": true
   },
   "outputs": [],
   "source": [
    "for transition in network.sampling_transitions:\n",
    "    label = transition.name\n",
    "    tcp = tis_analysis.total_crossing_probability[transition]\n",
    "    plt.plot(tcp.x, np.log(tcp), label=label)\n",
    "plt.title(\"Total Crossing Probability\")\n",
    "plt.xlabel(\"$\\lambda$\")\n",
    "plt.ylabel(\"$\\ln(P(\\lambda | X_0))$\")\n",
    "plt.legend();"
   ]
  },
  {
   "cell_type": "markdown",
   "metadata": {},
   "source": [
    "We may want to look in more detail at one of these, by checking the per-ensemble crossing probability (as well at the total crossing probability). Here we select based on the $A\\to B$ transition, we would get the same results if we selected the transition using either `trans = network.from_state[stateA]` or `trans = network.transitions[(stateA, stateC)]`."
   ]
  },
  {
   "cell_type": "code",
   "execution_count": null,
   "metadata": {
    "collapsed": true
   },
   "outputs": [],
   "source": [
    "state_pair = (stateA, stateB)\n",
    "trans = network.transitions[state_pair]\n",
    "for ens in trans.ensembles:\n",
    "    crossing = tis_analysis.crossing_probability(ens)\n",
    "    label = ens.name\n",
    "    plt.plot(crossing.x, np.log(crossing), label=label)\n",
    "tcp = tis_analysis.total_crossing_probability[state_pair]\n",
    "plt.plot(tcp.x, np.log(tcp), '-k', label=\"total crossing probability\")\n",
    "plt.title(\"Crossing Probabilities, \" + stateA.name + \" -> \" + stateB.name)\n",
    "plt.xlabel(\"$\\lambda$\")\n",
    "plt.ylabel(\"$\\ln(P_A(\\lambda | \\lambda_i))$\")\n",
    "plt.legend();"
   ]
  },
  {
   "cell_type": "markdown",
   "metadata": {},
   "source": [
    "Finally, we look at the last part of the rate calculation: the conditional transition probability. This is calculated for the outermost interface in each interface set."
   ]
  },
  {
   "cell_type": "code",
   "execution_count": null,
   "metadata": {
    "collapsed": true
   },
   "outputs": [],
   "source": [
    "tis_analysis.conditional_transition_probability"
   ]
  },
  {
   "cell_type": "markdown",
   "metadata": {},
   "source": [
    "# Individual components of the analysis\n",
    "\n",
    "The combined analysis is the easiest way to perform analysis, but if you need to customize things (or if you want to compare different calculation methods) you might want to create objects for components of the analysis individually. Note that unlike the `StandardTISAnalysis` object, these do not cache their intermediate results."
   ]
  },
  {
   "cell_type": "markdown",
   "metadata": {},
   "source": [
    "## Flux from the minus move"
   ]
  },
  {
   "cell_type": "code",
   "execution_count": null,
   "metadata": {
    "collapsed": true
   },
   "outputs": [],
   "source": [
    "from openpathsampling.analysis.tis import MinusMoveFlux"
   ]
  },
  {
   "cell_type": "code",
   "execution_count": null,
   "metadata": {
    "collapsed": true
   },
   "outputs": [],
   "source": [
    "flux_calc = MinusMoveFlux(scheme)"
   ]
  },
  {
   "cell_type": "markdown",
   "metadata": {},
   "source": [
    "To calculate the fluxes, we use the `.calculate` method of the `MinusMoveFlux` object:"
   ]
  },
  {
   "cell_type": "code",
   "execution_count": null,
   "metadata": {},
   "outputs": [],
   "source": [
    "%%prun -D minus_flux.pstat\n",
    "#%%time\n",
    "fluxes = flux_calc.calculate(storage.steps)"
   ]
  },
  {
   "cell_type": "code",
   "execution_count": null,
   "metadata": {
    "scrolled": true
   },
   "outputs": [],
   "source": [
    "fluxes"
   ]
  },
  {
   "cell_type": "markdown",
   "metadata": {},
   "source": [
    "This is in the same format as the `flux_matrix` given above, and we can convert it to a `pandas.DataFrame` in the same way. This can then be converted to a LaTeX table to copy-paste into an article in the same way as was done earlier."
   ]
  },
  {
   "cell_type": "code",
   "execution_count": null,
   "metadata": {
    "scrolled": true
   },
   "outputs": [],
   "source": [
    "pd.DataFrame(paths.analysis.tis.flux_matrix_pd(fluxes))"
   ]
  },
  {
   "cell_type": "markdown",
   "metadata": {},
   "source": [
    "The minus move flux calculates some intermediate information along the way, which can be of use for further analysis. This is cached when using the `StandardTISAnalysis`, but can always be recalculated. The intermediate maps each `(state, interface)` pair to a dictionary. For details on the structure of that dictionary, see the documentation of `TrajectoryTransitionAnalysis.analyze_flux`."
   ]
  },
  {
   "cell_type": "code",
   "execution_count": null,
   "metadata": {},
   "outputs": [],
   "source": [
    "%%time\n",
    "flux_dicts = flux_calc.intermediates(storage.steps)[0]"
   ]
  },
  {
   "cell_type": "code",
   "execution_count": null,
   "metadata": {},
   "outputs": [],
   "source": [
    "flux_dicts"
   ]
  },
  {
   "cell_type": "markdown",
   "metadata": {},
   "source": [
    "## Flux from existing dictionary\n",
    "\n",
    "The `DictFlux` class (which is required for MISTIS, and often provides better statistics than the minus move flux in other cases) takes a pre-calculated flux dictionary for initialization, and always returns that dictionary. The dictionary is in the same format as the `fluxes` returned by the `MinusMoveFlux.calculate` method; here, we'll just use the results we calculated above:"
   ]
  },
  {
   "cell_type": "code",
   "execution_count": null,
   "metadata": {
    "collapsed": true
   },
   "outputs": [],
   "source": [
    "from openpathsampling.analysis.tis import DictFlux"
   ]
  },
  {
   "cell_type": "code",
   "execution_count": null,
   "metadata": {
    "collapsed": true
   },
   "outputs": [],
   "source": [
    "dict_flux = DictFlux(fluxes)"
   ]
  },
  {
   "cell_type": "code",
   "execution_count": null,
   "metadata": {},
   "outputs": [],
   "source": [
    "dict_flux.calculate(storage.steps)"
   ]
  },
  {
   "cell_type": "markdown",
   "metadata": {},
   "source": [
    "Note that `DictFlux.calculate` just echoes back the dictionary we gave it, so it doesn't actually care if we give it the steps argument or not:"
   ]
  },
  {
   "cell_type": "code",
   "execution_count": null,
   "metadata": {},
   "outputs": [],
   "source": [
    "dict_flux.calculate(None)"
   ]
  },
  {
   "cell_type": "markdown",
   "metadata": {},
   "source": [
    "This object can be used to provide the flux part of the TIS calculation, in exactly the same way a `MinusMoveFlux` object does."
   ]
  },
  {
   "cell_type": "markdown",
   "metadata": {},
   "source": [
    "## Total crossing probability function\n",
    "\n",
    "To calculate the total crossing probability, we must first calculate the individual ensemble crossing probabilities. This is done by creating a histogram of the maximum values of the order parameter. The class to do that is  `FullHistogramMaxLambdas`. Then we'll create the `TotalCrossingProbability`."
   ]
  },
  {
   "cell_type": "code",
   "execution_count": null,
   "metadata": {
    "collapsed": true
   },
   "outputs": [],
   "source": [
    "transition = network.sampling_transitions[0]"
   ]
  },
  {
   "cell_type": "code",
   "execution_count": null,
   "metadata": {},
   "outputs": [],
   "source": [
    "print(transition)"
   ]
  },
  {
   "cell_type": "code",
   "execution_count": null,
   "metadata": {
    "collapsed": true
   },
   "outputs": [],
   "source": [
    "from openpathsampling.analysis.tis import FullHistogramMaxLambdas, TotalCrossingProbability\n",
    "from openpathsampling.numerics import WHAM"
   ]
  },
  {
   "cell_type": "code",
   "execution_count": null,
   "metadata": {
    "collapsed": true
   },
   "outputs": [],
   "source": [
    "max_lambda_calc = FullHistogramMaxLambdas(\n",
    "    transition=transition,\n",
    "    hist_parameters={'bin_width': 0.05, 'bin_range': (0.0, 0.5)}\n",
    ")"
   ]
  },
  {
   "cell_type": "markdown",
   "metadata": {},
   "source": [
    "We can also change the function used to calculate the maximum value of the order parameter with the `max_lambda_func` parameter. This can be useful to calculate the crossing probabilities along some other order parameter.\n",
    "\n",
    "To calculate the total crossing probability function, we also need a method for combining the ensemble crossing probability functions. We'll use the default WHAM here; see its documentation for details on how it can be customized."
   ]
  },
  {
   "cell_type": "code",
   "execution_count": null,
   "metadata": {
    "collapsed": true
   },
   "outputs": [],
   "source": [
    "combiner = WHAM(interfaces=transition.interfaces.lambdas)"
   ]
  },
  {
   "cell_type": "markdown",
   "metadata": {},
   "source": [
    "Now we can put these together into the total crossing probability function:"
   ]
  },
  {
   "cell_type": "code",
   "execution_count": null,
   "metadata": {
    "collapsed": true
   },
   "outputs": [],
   "source": [
    "total_crossing = TotalCrossingProbability(\n",
    "    max_lambda_calc=max_lambda_calc,\n",
    "    combiner=combiner\n",
    ")"
   ]
  },
  {
   "cell_type": "code",
   "execution_count": null,
   "metadata": {
    "collapsed": true
   },
   "outputs": [],
   "source": [
    "tcp = total_crossing.calculate(storage.steps)"
   ]
  },
  {
   "cell_type": "code",
   "execution_count": null,
   "metadata": {},
   "outputs": [],
   "source": [
    "plt.plot(tcp.x, np.log(tcp))\n",
    "\n",
    "plt.title(\"Total Crossing Probability, exiting \" + transition.stateA.name)\n",
    "plt.xlabel(\"$\\lambda$\")\n",
    "plt.ylabel(\"$\\ln(P_A(\\lambda | \\lambda_i))$\");"
   ]
  },
  {
   "cell_type": "markdown",
   "metadata": {},
   "source": [
    "## Conditional transition probability\n",
    "\n",
    "The last part of the standard calculation is the conditional transition probability. We'll make a version of this that works for all ensembles:"
   ]
  },
  {
   "cell_type": "code",
   "execution_count": null,
   "metadata": {
    "collapsed": true
   },
   "outputs": [],
   "source": [
    "from openpathsampling.analysis.tis import ConditionalTransitionProbability"
   ]
  },
  {
   "cell_type": "code",
   "execution_count": null,
   "metadata": {
    "collapsed": true
   },
   "outputs": [],
   "source": [
    "outermost_ensembles = [trans.ensembles[-1] for trans in network.sampling_transitions]"
   ]
  },
  {
   "cell_type": "code",
   "execution_count": null,
   "metadata": {
    "collapsed": true
   },
   "outputs": [],
   "source": [
    "cond_transition = ConditionalTransitionProbability(\n",
    "    ensembles=outermost_ensembles,\n",
    "    states=network.states\n",
    ")"
   ]
  },
  {
   "cell_type": "code",
   "execution_count": null,
   "metadata": {
    "collapsed": true
   },
   "outputs": [],
   "source": [
    "ctp = cond_transition.calculate(storage.steps)"
   ]
  },
  {
   "cell_type": "code",
   "execution_count": null,
   "metadata": {},
   "outputs": [],
   "source": [
    "ctp"
   ]
  },
  {
   "cell_type": "markdown",
   "metadata": {},
   "source": [
    "`StandardTISAnalysis.conditional_transition_probability` converts this into a `pandas.DataFrame`, which gives prettier printing. However, the same data in included in this dict-of-dict structure."
   ]
  },
  {
   "cell_type": "markdown",
   "metadata": {},
   "source": [
    "# Assembling a TIS analysis from scratch\n",
    "\n",
    "If you're using the \"standard\" TIS approach, then the `StandardTISAnalysis` object is the most efficient way to do it. However, if you want to use another analysis approach, it can be useful to see how the \"standard\" approach can be assembled.\n",
    "\n",
    "This won't have all the shortcuts or saved intermediates that the specialized object does, but it will use the same algorithms to get the same results."
   ]
  },
  {
   "cell_type": "code",
   "execution_count": null,
   "metadata": {
    "collapsed": true
   },
   "outputs": [],
   "source": [
    "from openpathsampling.analysis.tis import StandardTransitionProbability, TISAnalysis"
   ]
  },
  {
   "cell_type": "markdown",
   "metadata": {},
   "source": [
    "Some of the objects that we created in previous sections can be reused here. In particular, there is only only one flux calculation and only one conditional transitional transition probability per reaction network. However, the total crossing probability method is dependent on the transition (different order parameters might have different histrogram parameters). So we need to associate each transition with a different `TotalCrossingProbability` object. In this example, we take the default behavior of WHAM (instead of specifying in explicitly, as above)."
   ]
  },
  {
   "cell_type": "code",
   "execution_count": null,
   "metadata": {
    "collapsed": true
   },
   "outputs": [],
   "source": [
    "tcp_methods = {\n",
    "    trans: TotalCrossingProbability(\n",
    "        max_lambda_calc=FullHistogramMaxLambdas(\n",
    "            transition=trans,\n",
    "            hist_parameters={'bin_width': 0.05, 'bin_range': (0.0, 0.5)}\n",
    "        )\n",
    "    )\n",
    "    for trans in network.transitions.values()\n",
    "}"
   ]
  },
  {
   "cell_type": "markdown",
   "metadata": {},
   "source": [
    "The general `TISAnalysis` object makes the most simple splitting: flux and transition probability. A single flux calculation is used for all transitions, but each transition has a different transition probability (since each transition can have a different total crossing probability). We make those objects here."
   ]
  },
  {
   "cell_type": "code",
   "execution_count": null,
   "metadata": {
    "collapsed": true
   },
   "outputs": [],
   "source": [
    "transition_probability_methods = {\n",
    "    trans: StandardTransitionProbability(\n",
    "        transition=trans,\n",
    "        tcp_method=tcp_methods[trans],\n",
    "        ctp_method=cond_transition\n",
    "    )\n",
    "    for trans in network.transitions.values()\n",
    "}"
   ]
  },
  {
   "cell_type": "markdown",
   "metadata": {},
   "source": [
    "Finally we put this all together into a `TISAnalysis` object, and calculate the rate matrix."
   ]
  },
  {
   "cell_type": "code",
   "execution_count": null,
   "metadata": {
    "collapsed": true
   },
   "outputs": [],
   "source": [
    "analysis = TISAnalysis(\n",
    "    network=network,\n",
    "    flux_method=dict_flux,\n",
    "    transition_probability_methods=transition_probability_methods\n",
    ")"
   ]
  },
  {
   "cell_type": "code",
   "execution_count": null,
   "metadata": {
    "scrolled": true
   },
   "outputs": [],
   "source": [
    "analysis.rate_matrix(storage.steps)"
   ]
  },
  {
   "cell_type": "markdown",
   "metadata": {},
   "source": [
    "This is the same rate matrix as we obtained with the `StandardTISAnalysis`. It is a little faster because we used the precalculated `DictFlux` object in this instead of the `MinusMoveFlux`, otherwise this would be slower."
   ]
  },
  {
   "cell_type": "code",
   "execution_count": null,
   "metadata": {
    "collapsed": true
   },
   "outputs": [],
   "source": []
  }
 ],
 "metadata": {
  "celltoolbar": "Raw Cell Format",
  "kernelspec": {
   "display_name": "Python 3",
   "language": "python",
   "name": "python3"
  },
  "language_info": {
   "codemirror_mode": {
    "name": "ipython",
    "version": 3
   },
   "file_extension": ".py",
   "mimetype": "text/x-python",
   "name": "python",
   "nbconvert_exporter": "python",
   "pygments_lexer": "ipython3",
   "version": "3.6.1"
  }
 },
 "nbformat": 4,
 "nbformat_minor": 2
}

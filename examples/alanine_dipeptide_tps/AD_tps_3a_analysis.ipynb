{
 "cells": [
  {
   "cell_type": "code",
   "execution_count": 1,
   "metadata": {
    "collapsed": false
   },
   "outputs": [],
   "source": [
    "%matplotlib inline\n",
    "import openpathsampling as paths\n",
    "import numpy as np\n",
    "import matplotlib.pyplot as plt\n",
    "import os\n",
    "import openpathsampling.visualize as ops_vis\n",
    "from IPython.display import SVG"
   ]
  },
  {
   "cell_type": "markdown",
   "metadata": {},
   "source": [
    "# Analyzing the flexible path length simulation"
   ]
  },
  {
   "cell_type": "markdown",
   "metadata": {},
   "source": [
    "Load the file, and from the file pull our the engine (which tells us what the timestep was) and the move scheme (which gives us a starting point for much of the analysis)."
   ]
  },
  {
   "cell_type": "code",
   "execution_count": 2,
   "metadata": {
    "collapsed": false
   },
   "outputs": [],
   "source": [
    "filename = \"tps_nc_files/alanine_dipeptide_tps.nc\""
   ]
  },
  {
   "cell_type": "code",
   "execution_count": 3,
   "metadata": {
    "collapsed": true
   },
   "outputs": [],
   "source": [
    "# logging creates ops_output.log file with details of what the calculation is doing\n",
    "import logging.config\n",
    "logging.config.fileConfig(\"logging.conf\", disable_existing_loggers=False)"
   ]
  },
  {
   "cell_type": "code",
   "execution_count": 4,
   "metadata": {
    "collapsed": false
   },
   "outputs": [
    {
     "name": "stdout",
     "output_type": "stream",
     "text": [
      "CPU times: user 1min 42s, sys: 9.63 s, total: 1min 52s\n",
      "Wall time: 8min 36s\n"
     ]
    }
   ],
   "source": [
    "%%time\n",
    "flexible = paths.AnalysisStorage(filename)"
   ]
  },
  {
   "cell_type": "code",
   "execution_count": 5,
   "metadata": {
    "collapsed": true
   },
   "outputs": [],
   "source": [
    "engine = flexible.engines[0]\n",
    "flex_scheme = flexible.schemes[0]"
   ]
  },
  {
   "cell_type": "code",
   "execution_count": 6,
   "metadata": {
    "collapsed": false
   },
   "outputs": [
    {
     "name": "stdout",
     "output_type": "stream",
     "text": [
      "File size: 17.95GB for 10001 steps, 946650 snapshots\n"
     ]
    }
   ],
   "source": [
    "print \"File size: {0} for {1} steps, {2} snapshots\".format(\n",
    "    flexible.file_size_str,\n",
    "    len(flexible.steps),\n",
    "    len(flexible.snapshots)\n",
    ")"
   ]
  },
  {
   "cell_type": "code",
   "execution_count": 7,
   "metadata": {
    "collapsed": false
   },
   "outputs": [
    {
     "data": {
      "text/plain": [
       "0"
      ]
     },
     "execution_count": 7,
     "metadata": {},
     "output_type": "execute_result"
    }
   ],
   "source": [
    "# rough estimate of total time\n",
    "sum(step.change.details.timing for step in flexible.steps if step.change.details is not None)"
   ]
  },
  {
   "cell_type": "code",
   "execution_count": 8,
   "metadata": {
    "collapsed": true
   },
   "outputs": [],
   "source": [
    "step = flexible.steps[1]\n",
    "step.change.details"
   ]
  },
  {
   "cell_type": "markdown",
   "metadata": {},
   "source": [
    "That tell us a little about the file we're dealing with. Now we'll start analyzing the contents of that file. We used a very simple move scheme (only shooting), so the main information that the `move_summary` gives us is the acceptance of the only kind of move in that scheme. See the MSTIS examples for more complicated move schemes, where you want to make sure that frequency at which the move runs is close to what was expected."
   ]
  },
  {
   "cell_type": "code",
   "execution_count": 9,
   "metadata": {
    "collapsed": false,
    "scrolled": true
   },
   "outputs": [
    {
     "name": "stdout",
     "output_type": "stream",
     "text": [
      "shooting ran 100.000% (expected 100.00%) of the cycles with acceptance 5616/10000 (56.16%)\n"
     ]
    }
   ],
   "source": [
    "flex_scheme.move_summary(flexible.steps)"
   ]
  },
  {
   "cell_type": "markdown",
   "metadata": {},
   "source": [
    "#### Replica history tree and decorrelated trajectories\n",
    "\n",
    "The `ReplicaHistoryTree` object gives us both the history tree (often called the \"move tree\") and the number of decorrelated trajectories.\n",
    "\n",
    "A `ReplicaHistoryTree` is made for a certain set of Monte Carlo steps. First, we make a tree of only the first 50 steps in order to visualize it. (All 10000 steps would be unwieldy.) \n",
    "\n",
    "After the visualization, we make a second `ReplicaHistoryTree` of all the steps, in order to count the number of decorrelated trajectories."
   ]
  },
  {
   "cell_type": "code",
   "execution_count": 16,
   "metadata": {
    "collapsed": false
   },
   "outputs": [
    {
     "data": {
      "image/svg+xml": [
       "<svg baseProfile=\"full\" class=\"opstree\" height=\"100%\" version=\"1.1\" viewBox=\"-80.00 -22.50 399.00 315.00\" width=\"100%\" xmlns=\"http://www.w3.org/2000/svg\" xmlns:ev=\"http://www.w3.org/2001/xml-events\" xmlns:xlink=\"http://www.w3.org/1999/xlink\"><defs><style type=\"text/css\"><![CDATA[\n",
       ".opstree text, .movetree text {\n",
       "    alignment-baseline: central;\n",
       "    font-size: 10px;\n",
       "    text-anchor: middle;\n",
       "    font-family: Futura-CondensedMedium;\n",
       "    font-weight: lighter;\n",
       "    stroke: none !important;\n",
       "}\n",
       ".opstree .block text, .movetree .block text {\n",
       "    alignment-baseline: central;\n",
       "    font-size: 8px;\n",
       "    text-anchor: middle;\n",
       "    font-family: Futura-CondensedMedium;\n",
       "    font-weight: lighter;\n",
       "    stroke: none !important;\n",
       "}\n",
       ".opstree text.shadow {\n",
       "    stroke-width: 3;\n",
       "    stroke: white !important;\n",
       "}\n",
       ".opstree .left.label .shift text {\n",
       "    text-anchor: end;\n",
       "}\n",
       ".opstree .right.label .shift text {\n",
       "    text-anchor: start;\n",
       "}\n",
       ".opstree .block text, .movetree .block text {\n",
       "    fill: white !important;\n",
       "    stroke: none !important;\n",
       "}\n",
       ".opstree .block {\n",
       "    stroke: none !important;\n",
       "}\n",
       ".opstree g.block:hover rect {\n",
       "    opacity: 0.5;\n",
       "}\n",
       ".opstree .repex {\n",
       "    fill: blue;\n",
       "    stroke: blue;\n",
       "}\n",
       ".opstree .extend {\n",
       "    fill: blue;\n",
       "    stroke: blue;\n",
       "}\n",
       ".opstree .truncate {\n",
       "    fill: blue;\n",
       "    stroke: blue;\n",
       "}\n",
       ".opstree .new {\n",
       "    fill: black;\n",
       "    stroke: black;\n",
       "}\n",
       ".opstree .unknown {\n",
       "    fill: gray;\n",
       "    stroke: gray;\n",
       "}\n",
       ".opstree .hop {\n",
       "    fill: blue;\n",
       "    stroke: blue;\n",
       "}\n",
       ".opstree .correlation {\n",
       "    fill: black;\n",
       "    stroke: black;\n",
       "}\n",
       ".opstree .shooting.bw {\n",
       "    fill: green;\n",
       "    stroke: green;\n",
       "}\n",
       ".opstree .shooting.fw {\n",
       "    fill: red;\n",
       "    stroke: red;\n",
       "}\n",
       ".opstree .shooting.overlap {\n",
       "    fill: #666;\n",
       "    stroke: #666;\n",
       "}\n",
       ".opstree .reversal {\n",
       "    fill: gold;\n",
       "    stroke: gold;\n",
       "}\n",
       ".opstree .virtual {\n",
       "    opacity: 0.1;\n",
       "    fill:gray;\n",
       "    stroke: none;\n",
       "}\n",
       ".opstree line {\n",
       "    stroke-width: 2px;\n",
       "}\n",
       ".opstree .label {\n",
       "    fill: black !important;\n",
       "}\n",
       ".opstree .h-connector {\n",
       "    stroke-width: 0.1px;\n",
       "    stroke-dasharray: 3 3;\n",
       "}\n",
       ".opstree .rejected {\n",
       "    opacity: 0.25;\n",
       "}\n",
       ".opstree .level {\n",
       "    opacity: 0.25;\n",
       "}\n",
       ".opstree .orange {\n",
       "    fill: orange;\n",
       "}\n",
       ".tableline {\n",
       "    fill: gray;\n",
       "    opacity: 0.0;\n",
       "}\n",
       ".tableline:hover {\n",
       "    opacity: 0.2;\n",
       "}\n",
       ".opstree .left.label g.shift {\n",
       "    transform: translateX(-6px);\n",
       "}\n",
       ".opstree .right.label g.shift {\n",
       "    transform: translateX(+6px);\n",
       "}\n",
       ".opstree .infobox text {\n",
       "    text-anchor: start;\n",
       "}\n",
       ".opstree .shade {\n",
       "    stroke: none;\n",
       "}\n",
       "\n",
       ".movetree .label .shift {\n",
       "    transform: translateX(-18px);\n",
       "}\n",
       "\n",
       ".movetree .label text {\n",
       "    text-anchor: end;\n",
       "}\n",
       ".movetree .v-connector {\n",
       "    stroke: black;\n",
       "}\n",
       ".movetree .v-hook {\n",
       "    stroke: black;\n",
       "}\n",
       ".movetree .h-connector {\n",
       "    stroke: black;\n",
       "}\n",
       ".movetree .ensembles .head .shift {\n",
       "    transform: translateY(0px) rotate(270deg) ;\n",
       "}\n",
       ".movetree .ensembles .head text {\n",
       "    text-anchor: start;\n",
       "}\n",
       ".movetree .connector.input {\n",
       "    fill: green;\n",
       "}\n",
       ".movetree .connector.output {\n",
       "    fill: red;\n",
       "}\n",
       ".movetree .unknown {\n",
       "    fill: gray;\n",
       "}\n",
       "]]></style></defs><g transform=\"scale(1.0)\"><g class=\"tree\" transform=\"translate(107,15)\"><g><g class=\"unknown left label\" transform=\"translate(0,0)\"><g class=\"shift\"><text x=\"0\" y=\"0\">+</text></g></g><g class=\"shooting left label\" transform=\"translate(-10,15)\"><g class=\"shift\"><text x=\"0\" y=\"0\">B</text></g></g><g class=\"shooting left label\" transform=\"translate(0,30)\"><g class=\"shift\"><text x=\"0\" y=\"0\">B</text></g></g><g class=\"shooting left label\" transform=\"translate(-70,45)\"><g class=\"shift\"><text x=\"0\" y=\"0\">B</text></g></g><g class=\"shooting left label\" transform=\"translate(-70,60)\"><g class=\"shift\"><text x=\"0\" y=\"0\">B</text></g></g><g class=\"shooting right label\" transform=\"translate(105,75)\"><g class=\"shift\"><text x=\"0\" y=\"0\">F</text></g></g><g class=\"shooting left label\" transform=\"translate(-40,90)\"><g class=\"shift\"><text x=\"0\" y=\"0\">B</text></g></g><g class=\"shooting left label\" transform=\"translate(-40,105)\"><g class=\"shift\"><text x=\"0\" y=\"0\">B</text></g></g><g class=\"shooting left label\" transform=\"translate(-30,120)\"><g class=\"shift\"><text x=\"0\" y=\"0\">B</text></g></g><g class=\"shooting left label\" transform=\"translate(-30,135)\"><g class=\"shift\"><text x=\"0\" y=\"0\">B</text></g></g><g class=\"shooting left label\" transform=\"translate(-40,150)\"><g class=\"shift\"><text x=\"0\" y=\"0\">B</text></g></g><g class=\"shooting left label\" transform=\"translate(-40,165)\"><g class=\"shift\"><text x=\"0\" y=\"0\">B</text></g></g><g class=\"shooting right label\" transform=\"translate(170,180)\"><g class=\"shift\"><text x=\"0\" y=\"0\">F</text></g></g><g class=\"shooting right label\" transform=\"translate(175,195)\"><g class=\"shift\"><text x=\"0\" y=\"0\">F</text></g></g><g class=\"shooting left label\" transform=\"translate(-60,210)\"><g class=\"shift\"><text x=\"0\" y=\"0\">B</text></g></g><g class=\"shooting left label\" transform=\"translate(-70,225)\"><g class=\"shift\"><text x=\"0\" y=\"0\">B</text></g></g><g class=\"shooting left label\" transform=\"translate(-10,240)\"><g class=\"shift\"><text x=\"0\" y=\"0\">B</text></g></g><g class=\"shooting left label\" transform=\"translate(-10,255)\"><g class=\"shift\"><text x=\"0\" y=\"0\">B</text></g></g><g class=\"shooting right label\" transform=\"translate(80,270)\"><g class=\"shift\"><text x=\"0\" y=\"0\">F</text></g></g></g><g><line class=\"shooting bw connection v-connector\" x1=\"7.5\" x2=\"7.5\" y1=\"0.0\" y2=\"15.0\"/><line class=\"shooting bw connection v-connector\" x1=\"7.5\" x2=\"7.5\" y1=\"0.0\" y2=\"30.0\"/><line class=\"shooting bw connection v-connector\" x1=\"32.5\" x2=\"32.5\" y1=\"0.0\" y2=\"45.0\"/><line class=\"shooting bw connection v-connector\" x1=\"-52.5\" x2=\"-52.5\" y1=\"45.0\" y2=\"60.0\"/><line class=\"shooting fw connection v-connector\" x1=\"102.5\" x2=\"102.5\" y1=\"0.0\" y2=\"75.0\"/><line class=\"shooting bw connection v-connector\" x1=\"47.5\" x2=\"47.5\" y1=\"0.0\" y2=\"90.0\"/><line class=\"shooting bw connection v-connector\" x1=\"-2.5\" x2=\"-2.5\" y1=\"90.0\" y2=\"105.0\"/><line class=\"shooting bw connection v-connector\" x1=\"7.5\" x2=\"7.5\" y1=\"90.0\" y2=\"120.0\"/><line class=\"shooting bw connection v-connector\" x1=\"-7.5\" x2=\"-7.5\" y1=\"120.0\" y2=\"135.0\"/><line class=\"shooting bw connection v-connector\" x1=\"37.5\" x2=\"37.5\" y1=\"90.0\" y2=\"150.0\"/><line class=\"shooting bw connection v-connector\" x1=\"-2.5\" x2=\"-2.5\" y1=\"150.0\" y2=\"165.0\"/><line class=\"shooting fw connection v-connector\" x1=\"17.5\" x2=\"17.5\" y1=\"150.0\" y2=\"180.0\"/><line class=\"shooting fw connection v-connector\" x1=\"77.5\" x2=\"77.5\" y1=\"180.0\" y2=\"195.0\"/><line class=\"shooting bw connection v-connector\" x1=\"112.5\" x2=\"112.5\" y1=\"195.0\" y2=\"210.0\"/><line class=\"shooting bw connection v-connector\" x1=\"-2.5\" x2=\"-2.5\" y1=\"210.0\" y2=\"225.0\"/><line class=\"shooting bw connection v-connector\" x1=\"162.5\" x2=\"162.5\" y1=\"195.0\" y2=\"240.0\"/><line class=\"shooting bw connection v-connector\" x1=\"7.5\" x2=\"7.5\" y1=\"240.0\" y2=\"255.0\"/><line class=\"shooting fw connection v-connector\" x1=\"42.5\" x2=\"42.5\" y1=\"240.0\" y2=\"270.0\"/></g><g><g class=\"unknown new block\"><rect height=\"9.0\" width=\"110.0\" x=\"-2.5\" y=\"-4.5\"/><circle cx=\"107.5\" cy=\"0\" r=\"0.0\"/><text x=\"52.5\" y=\"0\"/></g><g class=\"shooting bw block\"><rect height=\"9.0\" width=\"20.0\" x=\"-12.5\" y=\"10.5\"/><circle cx=\"7.5\" cy=\"15\" r=\"0.0\"/><text x=\"-2.5\" y=\"15\"/></g><g class=\"shooting bw block\"><rect height=\"9.0\" width=\"10.0\" x=\"-2.5\" y=\"25.5\"/><circle cx=\"7.5\" cy=\"30\" r=\"0.0\"/><text x=\"2.5\" y=\"30\"/></g><g class=\"shooting bw block\"><rect height=\"9.0\" width=\"105.0\" x=\"-72.5\" y=\"40.5\"/><circle cx=\"32.5\" cy=\"45\" r=\"0.0\"/><text x=\"-20.0\" y=\"45\"/></g><g class=\"shooting bw block\"><rect height=\"9.0\" width=\"20.0\" x=\"-72.5\" y=\"55.5\"/><circle cx=\"-52.5\" cy=\"60\" r=\"0.0\"/><text x=\"-62.5\" y=\"60\"/></g><g class=\"shooting fw block\"><rect height=\"9.0\" width=\"5.0\" x=\"102.5\" y=\"70.5\"/><circle cx=\"107.5\" cy=\"75\" r=\"0.0\"/><text x=\"105.0\" y=\"75\"/></g><g class=\"shooting bw block\"><rect height=\"9.0\" width=\"90.0\" x=\"-42.5\" y=\"85.5\"/><circle cx=\"47.5\" cy=\"90\" r=\"0.0\"/><text x=\"2.5\" y=\"90\"/></g><g class=\"shooting bw block\"><rect height=\"9.0\" width=\"40.0\" x=\"-42.5\" y=\"100.5\"/><circle cx=\"-2.5\" cy=\"105\" r=\"0.0\"/><text x=\"-22.5\" y=\"105\"/></g><g class=\"shooting bw block\"><rect height=\"9.0\" width=\"40.0\" x=\"-32.5\" y=\"115.5\"/><circle cx=\"7.5\" cy=\"120\" r=\"0.0\"/><text x=\"-12.5\" y=\"120\"/></g><g class=\"shooting bw block\"><rect height=\"9.0\" width=\"25.0\" x=\"-32.5\" y=\"130.5\"/><circle cx=\"-7.5\" cy=\"135\" r=\"0.0\"/><text x=\"-20.0\" y=\"135\"/></g><g class=\"shooting bw block\"><rect height=\"9.0\" width=\"80.0\" x=\"-42.5\" y=\"145.5\"/><circle cx=\"37.5\" cy=\"150\" r=\"0.0\"/><text x=\"-2.5\" y=\"150\"/></g><g class=\"shooting bw block\"><rect height=\"9.0\" width=\"40.0\" x=\"-42.5\" y=\"160.5\"/><circle cx=\"-2.5\" cy=\"165\" r=\"0.0\"/><text x=\"-22.5\" y=\"165\"/></g><g class=\"shooting fw block\"><rect height=\"9.0\" width=\"155.0\" x=\"17.5\" y=\"175.5\"/><circle cx=\"172.5\" cy=\"180\" r=\"0.0\"/><text x=\"95.0\" y=\"180\"/></g><g class=\"shooting fw block\"><rect height=\"9.0\" width=\"100.0\" x=\"77.5\" y=\"190.5\"/><circle cx=\"177.5\" cy=\"195\" r=\"0.0\"/><text x=\"127.5\" y=\"195\"/></g><g class=\"shooting bw block\"><rect height=\"9.0\" width=\"175.0\" x=\"-62.5\" y=\"205.5\"/><circle cx=\"112.5\" cy=\"210\" r=\"0.0\"/><text x=\"25.0\" y=\"210\"/></g><g class=\"shooting bw block\"><rect height=\"9.0\" width=\"70.0\" x=\"-72.5\" y=\"220.5\"/><circle cx=\"-2.5\" cy=\"225\" r=\"0.0\"/><text x=\"-37.5\" y=\"225\"/></g><g class=\"shooting bw block\"><rect height=\"9.0\" width=\"175.0\" x=\"-12.5\" y=\"235.5\"/><circle cx=\"162.5\" cy=\"240\" r=\"0.0\"/><text x=\"75.0\" y=\"240\"/></g><g class=\"shooting bw block\"><rect height=\"9.0\" width=\"20.0\" x=\"-12.5\" y=\"250.5\"/><circle cx=\"7.5\" cy=\"255\" r=\"0.0\"/><text x=\"-2.5\" y=\"255\"/></g><g class=\"shooting fw block\"><rect height=\"9.0\" width=\"40.0\" x=\"42.5\" y=\"265.5\"/><circle cx=\"82.5\" cy=\"270\" r=\"0.0\"/><text x=\"62.5\" y=\"270\"/></g></g></g><g class=\"legend\"><g class=\"legend\" transform=\"translate(0)\"><g class=\"label\" transform=\"translate(0,0)\"><g class=\"shift\"><text x=\"0\" y=\"0\">cor</text></g></g><g class=\"correlation v-region\"><line x1=\"0\" x2=\"0\" y1=\"7.5\" y2=\"187.5\"/><circle cx=\"0\" cy=\"7.5\" r=\"0.0\"/><line x1=\"-6.4\" x2=\"6.4\" y1=\"7.5\" y2=\"7.5\"/><circle cx=\"0\" cy=\"187.5\" r=\"0.0\"/><line x1=\"-6.4\" x2=\"6.4\" y1=\"187.5\" y2=\"187.5\"/><text x=\"-6.4\" y=\"97.5\"/></g><g class=\"correlation v-region\"><line x1=\"0\" x2=\"0\" y1=\"187.5\" y2=\"217.5\"/><circle cx=\"0\" cy=\"187.5\" r=\"0.0\"/><line x1=\"-6.4\" x2=\"6.4\" y1=\"187.5\" y2=\"187.5\"/><circle cx=\"0\" cy=\"217.5\" r=\"0.0\"/><line x1=\"-6.4\" x2=\"6.4\" y1=\"217.5\" y2=\"217.5\"/><text x=\"-6.4\" y=\"202.5\"/></g><g class=\"correlation v-region\"><line x1=\"0\" x2=\"0\" y1=\"217.5\" y2=\"277.5\"/><circle cx=\"0\" cy=\"217.5\" r=\"0.0\"/><line x1=\"-6.4\" x2=\"6.4\" y1=\"217.5\" y2=\"217.5\"/><circle cx=\"0\" cy=\"277.5\" r=\"0.0\"/><line x1=\"-6.4\" x2=\"6.4\" y1=\"277.5\" y2=\"277.5\"/><text x=\"-6.4\" y=\"247.5\"/></g><g class=\"correlation v-region\"><line x1=\"0\" x2=\"0\" y1=\"277.5\" y2=\"292.5\"/><circle cx=\"0\" cy=\"277.5\" r=\"0.0\"/><line x1=\"-6.4\" x2=\"6.4\" y1=\"277.5\" y2=\"277.5\"/><text x=\"-6.4\" y=\"285.0\"/></g></g><g class=\"legend\" transform=\"translate(-32)\"><g class=\"label\" transform=\"translate(0,0)\"><g class=\"shift\"><text x=\"0\" y=\"0\">step</text></g></g><g class=\"label\" transform=\"translate(0,15)\"><g class=\"shift\"><text x=\"0\" y=\"0\">*</text></g></g><g class=\"label\" transform=\"translate(0,30)\"><g class=\"shift\"><text x=\"0\" y=\"0\">1</text></g></g><g class=\"label\" transform=\"translate(0,45)\"><g class=\"shift\"><text x=\"0\" y=\"0\">2</text></g></g><g class=\"label\" transform=\"translate(0,60)\"><g class=\"shift\"><text x=\"0\" y=\"0\">4</text></g></g><g class=\"label\" transform=\"translate(0,75)\"><g class=\"shift\"><text x=\"0\" y=\"0\">5</text></g></g><g class=\"label\" transform=\"translate(0,90)\"><g class=\"shift\"><text x=\"0\" y=\"0\">6</text></g></g><g class=\"label\" transform=\"translate(0,105)\"><g class=\"shift\"><text x=\"0\" y=\"0\">7</text></g></g><g class=\"label\" transform=\"translate(0,120)\"><g class=\"shift\"><text x=\"0\" y=\"0\">9</text></g></g><g class=\"label\" transform=\"translate(0,135)\"><g class=\"shift\"><text x=\"0\" y=\"0\">12</text></g></g><g class=\"label\" transform=\"translate(0,150)\"><g class=\"shift\"><text x=\"0\" y=\"0\">14</text></g></g><g class=\"label\" transform=\"translate(0,165)\"><g class=\"shift\"><text x=\"0\" y=\"0\">15</text></g></g><g class=\"label\" transform=\"translate(0,180)\"><g class=\"shift\"><text x=\"0\" y=\"0\">16</text></g></g><g class=\"label\" transform=\"translate(0,195)\"><g class=\"shift\"><text x=\"0\" y=\"0\">17</text></g></g><g class=\"label\" transform=\"translate(0,210)\"><g class=\"shift\"><text x=\"0\" y=\"0\">18</text></g></g><g class=\"label\" transform=\"translate(0,225)\"><g class=\"shift\"><text x=\"0\" y=\"0\">19</text></g></g><g class=\"label\" transform=\"translate(0,240)\"><g class=\"shift\"><text x=\"0\" y=\"0\">20</text></g></g><g class=\"label\" transform=\"translate(0,255)\"><g class=\"shift\"><text x=\"0\" y=\"0\">22</text></g></g><g class=\"label\" transform=\"translate(0,270)\"><g class=\"shift\"><text x=\"0\" y=\"0\">23</text></g></g><g class=\"label\" transform=\"translate(0,285)\"><g class=\"shift\"><text x=\"0\" y=\"0\">24</text></g></g></g></g><g><rect class=\"tableline\" height=\"13.5\" width=\"399.0\" x=\"-80.0\" y=\"8.25\"/><rect class=\"tableline\" height=\"13.5\" width=\"399.0\" x=\"-80.0\" y=\"23.25\"/><rect class=\"tableline\" height=\"13.5\" width=\"399.0\" x=\"-80.0\" y=\"38.25\"/><rect class=\"tableline\" height=\"13.5\" width=\"399.0\" x=\"-80.0\" y=\"53.25\"/><rect class=\"tableline\" height=\"13.5\" width=\"399.0\" x=\"-80.0\" y=\"68.25\"/><rect class=\"tableline\" height=\"13.5\" width=\"399.0\" x=\"-80.0\" y=\"83.25\"/><rect class=\"tableline\" height=\"13.5\" width=\"399.0\" x=\"-80.0\" y=\"98.25\"/><rect class=\"tableline\" height=\"13.5\" width=\"399.0\" x=\"-80.0\" y=\"113.25\"/><rect class=\"tableline\" height=\"13.5\" width=\"399.0\" x=\"-80.0\" y=\"128.25\"/><rect class=\"tableline\" height=\"13.5\" width=\"399.0\" x=\"-80.0\" y=\"143.25\"/><rect class=\"tableline\" height=\"13.5\" width=\"399.0\" x=\"-80.0\" y=\"158.25\"/><rect class=\"tableline\" height=\"13.5\" width=\"399.0\" x=\"-80.0\" y=\"173.25\"/><rect class=\"tableline\" height=\"13.5\" width=\"399.0\" x=\"-80.0\" y=\"188.25\"/><rect class=\"tableline\" height=\"13.5\" width=\"399.0\" x=\"-80.0\" y=\"203.25\"/><rect class=\"tableline\" height=\"13.5\" width=\"399.0\" x=\"-80.0\" y=\"218.25\"/><rect class=\"tableline\" height=\"13.5\" width=\"399.0\" x=\"-80.0\" y=\"233.25\"/><rect class=\"tableline\" height=\"13.5\" width=\"399.0\" x=\"-80.0\" y=\"248.25\"/><rect class=\"tableline\" height=\"13.5\" width=\"399.0\" x=\"-80.0\" y=\"263.25\"/><rect class=\"tableline\" height=\"13.5\" width=\"399.0\" x=\"-80.0\" y=\"278.25\"/></g></g></svg>"
      ],
      "text/plain": [
       "<IPython.core.display.SVG object>"
      ]
     },
     "execution_count": 16,
     "metadata": {},
     "output_type": "execute_result"
    }
   ],
   "source": [
    "tree = ops_vis.PathTree(\n",
    "    flexible.steps[0:25],\n",
    "    ops_vis.ReplicaEvolution(\n",
    "        replica=0\n",
    "    )\n",
    ")\n",
    "\n",
    "SVG(tree.svg())"
   ]
  },
  {
   "cell_type": "code",
   "execution_count": 17,
   "metadata": {
    "collapsed": false
   },
   "outputs": [
    {
     "name": "stdout",
     "output_type": "stream",
     "text": [
      "Decorrelated trajectories: 4\n"
     ]
    }
   ],
   "source": [
    "print \"Decorrelated trajectories:\", len(tree.generator.decorrelated_trajectories)"
   ]
  },
  {
   "cell_type": "markdown",
   "metadata": {},
   "source": [
    "#### Path length distribution\n",
    "\n",
    "Flexible length TPS gives a distribution of path lengths. Here we calculate the length of every accepted trajectory, then histogram those lengths, and calculate the maximum and average path lengths.\n",
    "\n",
    "We also use `engine.snapshot_timestep` to convert the count of frames to time, including correct units."
   ]
  },
  {
   "cell_type": "code",
   "execution_count": 18,
   "metadata": {
    "collapsed": false,
    "scrolled": false
   },
   "outputs": [
    {
     "name": "stdout",
     "output_type": "stream",
     "text": [
      "Maximum: 528 (10.56 ps)\n",
      "Average: 84.14 (1.683 ps)\n"
     ]
    },
    {
     "data": {
      "image/png": "[encoded data removed]",
      "text/plain": [
       "<matplotlib.figure.Figure at 0x17cf7eb90>"
      ]
     },
     "metadata": {},
     "output_type": "display_data"
    }
   ],
   "source": [
    "path_lengths = [len(step.active[0].trajectory) for step in flexible.steps]\n",
    "plt.hist(path_lengths, bins=40, alpha=0.5);\n",
    "print \"Maximum:\", max(path_lengths), \"(\"+str(max(path_lengths)*engine.snapshot_timestep)+\")\"\n",
    "print \"Average:\", \"{0:.2f}\".format(np.mean(path_lengths)), \"(\"+(np.mean(path_lengths)*engine.snapshot_timestep).format(\"%.3f\")+\")\""
   ]
  },
  {
   "cell_type": "markdown",
   "metadata": {},
   "source": [
    "#### Path density histogram\n",
    "\n",
    "Next we will create a path density histogram. Calculating the histogram itself is quite easy: first we reload the collective variables we want to plot it in (we choose the phi and psi angles). Then we create the empty path density histogram, by telling it which CVs to use and how to make the histogram (bin sizes, etc). Finally, we build the histogram by giving it the list of active trajectories to histogram."
   ]
  },
  {
   "cell_type": "code",
   "execution_count": 19,
   "metadata": {
    "collapsed": false
   },
   "outputs": [],
   "source": [
    "from openpathsampling.analysis import HistogramPlotter2D"
   ]
  },
  {
   "cell_type": "code",
   "execution_count": 20,
   "metadata": {
    "collapsed": true
   },
   "outputs": [],
   "source": [
    "psi = flexible.cvs['psi']\n",
    "phi = flexible.cvs['phi']\n",
    "deg = 180.0 / np.pi"
   ]
  },
  {
   "cell_type": "code",
   "execution_count": 21,
   "metadata": {
    "collapsed": true
   },
   "outputs": [],
   "source": [
    "path_density = paths.PathDensityHistogram(cvs=[phi, psi],\n",
    "                                          left_bin_edges=(-180/deg,-180/deg),\n",
    "                                          bin_widths=(2.0/deg,2.0/deg))"
   ]
  },
  {
   "cell_type": "code",
   "execution_count": 23,
   "metadata": {
    "collapsed": true
   },
   "outputs": [],
   "source": [
    "# TODO: can we pre-cache all the trajectories, too? That might make this faster....\n",
    "flexible.trajectories.cache_all()"
   ]
  },
  {
   "cell_type": "code",
   "execution_count": null,
   "metadata": {
    "collapsed": false
   },
   "outputs": [],
   "source": [
    "%%time\n",
    "path_dens_counter = path_density.histogram([s.active[0].trajectory for s in flexible.steps[::10]])\n",
    "# TODO: for the real then, run over *all* steps -- just takes 10 times longer"
   ]
  },
  {
   "cell_type": "markdown",
   "metadata": {},
   "source": [
    "Now we've built the path density histogram, and we want to visualize it. We have a convenient `plot_2d_histogram` function that works in this case, and takes the histogram, desired plot tick labels and limits, and additional `matplotlib` named arguments to `plt.pcolormesh`."
   ]
  },
  {
   "cell_type": "code",
   "execution_count": 16,
   "metadata": {
    "collapsed": false
   },
   "outputs": [
    {
     "data": {
      "image/png": "[encoded data removed]",
      "text/plain": [
       "<matplotlib.figure.Figure at 0x168c55f10>"
      ]
     },
     "metadata": {},
     "output_type": "display_data"
    }
   ],
   "source": [
    "tick_labels = np.arange(-np.pi, np.pi+0.01, np.pi/4)\n",
    "plotter = HistogramPlotter2D(path_density, \n",
    "                             xticklabels=tick_labels,\n",
    "                             yticklabels=tick_labels, \n",
    "                             label_format=\"{:4.2f}\")\n",
    "ax = plotter.plot(cmap=\"Blues\")"
   ]
  },
  {
   "cell_type": "code",
   "execution_count": 36,
   "metadata": {
    "collapsed": false
   },
   "outputs": [
    {
     "ename": "AttributeError",
     "evalue": "'QuadMesh' object has no attribute 'fill_between'",
     "output_type": "error",
     "traceback": [
      "\u001b[0;31m---------------------------------------------------------------------------\u001b[0m",
      "\u001b[0;31mAttributeError\u001b[0m                            Traceback (most recent call last)",
      "\u001b[0;32m<ipython-input-36-426be96572cb>\u001b[0m in \u001b[0;36m<module>\u001b[0;34m()\u001b[0m\n\u001b[1;32m      1\u001b[0m \u001b[0max\u001b[0m \u001b[0;34m=\u001b[0m \u001b[0mplotter\u001b[0m\u001b[0;34m.\u001b[0m\u001b[0mplot\u001b[0m\u001b[0;34m(\u001b[0m\u001b[0mxlim\u001b[0m\u001b[0;34m=\u001b[0m\u001b[0;34m(\u001b[0m\u001b[0;34m-\u001b[0m\u001b[0mnp\u001b[0m\u001b[0;34m.\u001b[0m\u001b[0mpi\u001b[0m\u001b[0;34m,\u001b[0m \u001b[0;36m0\u001b[0m\u001b[0;34m)\u001b[0m\u001b[0;34m,\u001b[0m \u001b[0mylim\u001b[0m\u001b[0;34m=\u001b[0m\u001b[0;34m(\u001b[0m\u001b[0;34m-\u001b[0m\u001b[0mnp\u001b[0m\u001b[0;34m.\u001b[0m\u001b[0mpi\u001b[0m\u001b[0;34m/\u001b[0m\u001b[0;36m2\u001b[0m\u001b[0;34m,\u001b[0m \u001b[0mnp\u001b[0m\u001b[0;34m.\u001b[0m\u001b[0mpi\u001b[0m\u001b[0;34m)\u001b[0m\u001b[0;34m,\u001b[0m \u001b[0mcmap\u001b[0m\u001b[0;34m=\u001b[0m\u001b[0;34m\"Blues\"\u001b[0m\u001b[0;34m)\u001b[0m\u001b[0;34m\u001b[0m\u001b[0m\n\u001b[0;32m----> 2\u001b[0;31m \u001b[0max\u001b[0m\u001b[0;34m.\u001b[0m\u001b[0mfill_between\u001b[0m\u001b[0;34m(\u001b[0m\u001b[0;34m[\u001b[0m\u001b[0;34m-\u001b[0m\u001b[0mnp\u001b[0m\u001b[0;34m.\u001b[0m\u001b[0mpi\u001b[0m\u001b[0;34m,\u001b[0m \u001b[0;36m0\u001b[0m\u001b[0;34m]\u001b[0m\u001b[0;34m,\u001b[0m \u001b[0;34m[\u001b[0m\u001b[0;36m100.0\u001b[0m\u001b[0;34m/\u001b[0m\u001b[0mdeg\u001b[0m\u001b[0;34m]\u001b[0m\u001b[0;34m*\u001b[0m\u001b[0;36m2\u001b[0m\u001b[0;34m,\u001b[0m \u001b[0;34m[\u001b[0m\u001b[0mnp\u001b[0m\u001b[0;34m.\u001b[0m\u001b[0mpi\u001b[0m\u001b[0;34m]\u001b[0m\u001b[0;34m*\u001b[0m\u001b[0;36m2\u001b[0m\u001b[0;34m,\u001b[0m \u001b[0mcolor\u001b[0m\u001b[0;34m=\u001b[0m\u001b[0;34m'r'\u001b[0m\u001b[0;34m,\u001b[0m \u001b[0malpha\u001b[0m\u001b[0;34m=\u001b[0m\u001b[0;36m0.2\u001b[0m\u001b[0;34m)\u001b[0m\u001b[0;34m\u001b[0m\u001b[0m\n\u001b[0m\u001b[1;32m      3\u001b[0m \u001b[0mtrajA\u001b[0m \u001b[0;34m=\u001b[0m \u001b[0mflexible\u001b[0m\u001b[0;34m.\u001b[0m\u001b[0msteps\u001b[0m\u001b[0;34m[\u001b[0m\u001b[0;36m1000\u001b[0m\u001b[0;34m]\u001b[0m\u001b[0;34m.\u001b[0m\u001b[0mactive\u001b[0m\u001b[0;34m[\u001b[0m\u001b[0;36m0\u001b[0m\u001b[0;34m]\u001b[0m\u001b[0;34m.\u001b[0m\u001b[0mtrajectory\u001b[0m\u001b[0;34m\u001b[0m\u001b[0m\n\u001b[1;32m      4\u001b[0m \u001b[0mtrajB\u001b[0m \u001b[0;34m=\u001b[0m \u001b[0mflexible\u001b[0m\u001b[0;34m.\u001b[0m\u001b[0msteps\u001b[0m\u001b[0;34m[\u001b[0m\u001b[0;36m2000\u001b[0m\u001b[0;34m]\u001b[0m\u001b[0;34m.\u001b[0m\u001b[0mactive\u001b[0m\u001b[0;34m[\u001b[0m\u001b[0;36m0\u001b[0m\u001b[0;34m]\u001b[0m\u001b[0;34m.\u001b[0m\u001b[0mtrajectory\u001b[0m\u001b[0;34m\u001b[0m\u001b[0m\n\u001b[1;32m      5\u001b[0m \u001b[0mplotter\u001b[0m\u001b[0;34m.\u001b[0m\u001b[0mplot_trajectory\u001b[0m\u001b[0;34m(\u001b[0m\u001b[0mtrajA\u001b[0m\u001b[0;34m,\u001b[0m \u001b[0;34m'-r'\u001b[0m\u001b[0;34m,\u001b[0m \u001b[0mlw\u001b[0m\u001b[0;34m=\u001b[0m\u001b[0;36m0.5\u001b[0m\u001b[0;34m)\u001b[0m\u001b[0;34m\u001b[0m\u001b[0m\n",
      "\u001b[0;31mAttributeError\u001b[0m: 'QuadMesh' object has no attribute 'fill_between'"
     ]
    },
    {
     "data": {
      "image/png": "[encoded data removed]",
      "text/plain": [
       "<matplotlib.figure.Figure at 0x34810ddd0>"
      ]
     },
     "metadata": {},
     "output_type": "display_data"
    }
   ],
   "source": [
    "ax = plotter.plot(xlim=(-np.pi, 0), ylim=(-np.pi/2, np.pi), cmap=\"Blues\")\n",
    "trajA = flexible.steps[1000].active[0].trajectory\n",
    "trajB = flexible.steps[2000].active[0].trajectory\n",
    "plotter.plot_trajectory(trajA, '-r', lw=0.5)\n",
    "plotter.plot_trajectory(trajB, '-k', lw=0.5)\n",
    "plt.savefig(\"AD_tps_pathdensity.pdf\")"
   ]
  },
  {
   "cell_type": "code",
   "execution_count": 18,
   "metadata": {
    "collapsed": true
   },
   "outputs": [],
   "source": [
    "#import nglview as nv\n",
    "#nv.show_mdtraj(traj.to_mdtraj())"
   ]
  },
  {
   "cell_type": "markdown",
   "metadata": {},
   "source": [
    "# Analyzing the fixed path length simulation\n",
    "\n",
    "We start with the same sorts of analysis as we did in the flexible path length example: we get an overview of the file, then we look at the acceptance ratio, and then we look at the move history tree and the decorrelated trajectories."
   ]
  },
  {
   "cell_type": "code",
   "execution_count": 19,
   "metadata": {
    "collapsed": false
   },
   "outputs": [
    {
     "name": "stdout",
     "output_type": "stream",
     "text": [
      "CPU times: user 3min 35s, sys: 2min 15s, total: 5min 51s\n",
      "Wall time: 2h 6min 37s\n"
     ]
    }
   ],
   "source": [
    "%%time\n",
    "fixed = paths.AnalysisStorage(\"tps_nc_files/alanine_dipeptide_fixed_tps.nc\")"
   ]
  },
  {
   "cell_type": "code",
   "execution_count": 20,
   "metadata": {
    "collapsed": false
   },
   "outputs": [
    {
     "name": "stdout",
     "output_type": "stream",
     "text": [
      "File size: 75.41GB for 10001 steps, 3987840 snapshots\n"
     ]
    }
   ],
   "source": [
    "engine = fixed.engines[0]\n",
    "fixed_scheme = fixed.schemes[0]\n",
    "\n",
    "print \"File size: {0} for {1} steps, {2} snapshots\".format(\n",
    "    fixed.file_size_str,\n",
    "    len(fixed.steps),\n",
    "    len(fixed.snapshots)\n",
    ")"
   ]
  },
  {
   "cell_type": "code",
   "execution_count": 21,
   "metadata": {
    "collapsed": false
   },
   "outputs": [
    {
     "ename": "AttributeError",
     "evalue": "'NoneType' object has no attribute 'timing'",
     "output_type": "error",
     "traceback": [
      "\u001b[0;31m---------------------------------------------------------------------------\u001b[0m",
      "\u001b[0;31mAttributeError\u001b[0m                            Traceback (most recent call last)",
      "\u001b[0;32m<ipython-input-21-9326248d5aff>\u001b[0m in \u001b[0;36m<module>\u001b[0;34m()\u001b[0m\n\u001b[1;32m      1\u001b[0m \u001b[0;31m# rough estimate of total time\u001b[0m\u001b[0;34m\u001b[0m\u001b[0;34m\u001b[0m\u001b[0m\n\u001b[0;32m----> 2\u001b[0;31m \u001b[0msum\u001b[0m\u001b[0;34m(\u001b[0m\u001b[0mstep\u001b[0m\u001b[0;34m.\u001b[0m\u001b[0mchange\u001b[0m\u001b[0;34m.\u001b[0m\u001b[0mdetails\u001b[0m\u001b[0;34m.\u001b[0m\u001b[0mtiming\u001b[0m \u001b[0;32mfor\u001b[0m \u001b[0mstep\u001b[0m \u001b[0;32min\u001b[0m \u001b[0mfixed\u001b[0m\u001b[0;34m.\u001b[0m\u001b[0msteps\u001b[0m\u001b[0;34m[\u001b[0m\u001b[0;36m1\u001b[0m\u001b[0;34m:\u001b[0m\u001b[0;34m]\u001b[0m\u001b[0;34m)\u001b[0m\u001b[0;34m\u001b[0m\u001b[0m\n\u001b[0m",
      "\u001b[0;32m<ipython-input-21-9326248d5aff>\u001b[0m in \u001b[0;36m<genexpr>\u001b[0;34m((step,))\u001b[0m\n\u001b[1;32m      1\u001b[0m \u001b[0;31m# rough estimate of total time\u001b[0m\u001b[0;34m\u001b[0m\u001b[0;34m\u001b[0m\u001b[0m\n\u001b[0;32m----> 2\u001b[0;31m \u001b[0msum\u001b[0m\u001b[0;34m(\u001b[0m\u001b[0mstep\u001b[0m\u001b[0;34m.\u001b[0m\u001b[0mchange\u001b[0m\u001b[0;34m.\u001b[0m\u001b[0mdetails\u001b[0m\u001b[0;34m.\u001b[0m\u001b[0mtiming\u001b[0m \u001b[0;32mfor\u001b[0m \u001b[0mstep\u001b[0m \u001b[0;32min\u001b[0m \u001b[0mfixed\u001b[0m\u001b[0;34m.\u001b[0m\u001b[0msteps\u001b[0m\u001b[0;34m[\u001b[0m\u001b[0;36m1\u001b[0m\u001b[0;34m:\u001b[0m\u001b[0;34m]\u001b[0m\u001b[0;34m)\u001b[0m\u001b[0;34m\u001b[0m\u001b[0m\n\u001b[0m",
      "\u001b[0;31mAttributeError\u001b[0m: 'NoneType' object has no attribute 'timing'"
     ]
    }
   ],
   "source": [
    "# rough estimate of total time\n",
    "#sum(step.change.details.timing for step in fixed.steps[1:])"
   ]
  },
  {
   "cell_type": "code",
   "execution_count": 22,
   "metadata": {
    "collapsed": false
   },
   "outputs": [
    {
     "name": "stdout",
     "output_type": "stream",
     "text": [
      "shooting ran 100.000% (expected 100.00%) of the cycles with acceptance 4861/10000 (48.61%)\n"
     ]
    }
   ],
   "source": [
    "fixed_scheme.move_summary(fixed.steps)"
   ]
  },
  {
   "cell_type": "code",
   "execution_count": 23,
   "metadata": {
    "collapsed": false
   },
   "outputs": [
    {
     "name": "stdout",
     "output_type": "stream",
     "text": [
      "20\n"
     ]
    },
    {
     "data": {
      "image/svg+xml": [
       "<svg baseProfile=\"full\" class=\"opstree\" height=\"100%\" version=\"1.1\" viewBox=\"-80.00 -22.50 2149.00 330.00\" width=\"100%\" xmlns=\"http://www.w3.org/2000/svg\" xmlns:ev=\"http://www.w3.org/2001/xml-events\" xmlns:xlink=\"http://www.w3.org/1999/xlink\"><defs><style type=\"text/css\"><![CDATA[\n",
       ".opstree text, .movetree text {\n",
       "    alignment-baseline: central;\n",
       "    font-size: 10px;\n",
       "    text-anchor: middle;\n",
       "    font-family: Futura-CondensedMedium;\n",
       "    font-weight: lighter;\n",
       "    stroke: none !important;\n",
       "}\n",
       ".opstree .block text, .movetree .block text {\n",
       "    alignment-baseline: central;\n",
       "    font-size: 8px;\n",
       "    text-anchor: middle;\n",
       "    font-family: Futura-CondensedMedium;\n",
       "    font-weight: lighter;\n",
       "    stroke: none !important;\n",
       "}\n",
       ".opstree text.shadow {\n",
       "    stroke-width: 3;\n",
       "    stroke: white !important;\n",
       "}\n",
       ".opstree .left.label .shift text {\n",
       "    text-anchor: end;\n",
       "}\n",
       ".opstree .right.label .shift text {\n",
       "    text-anchor: start;\n",
       "}\n",
       ".opstree .block text, .movetree .block text {\n",
       "    fill: white !important;\n",
       "    stroke: none !important;\n",
       "}\n",
       ".opstree .block {\n",
       "    stroke: none !important;\n",
       "}\n",
       ".opstree g.block:hover rect {\n",
       "    opacity: 0.5;\n",
       "}\n",
       ".opstree .repex {\n",
       "    fill: blue;\n",
       "    stroke: blue;\n",
       "}\n",
       ".opstree .extend {\n",
       "    fill: blue;\n",
       "    stroke: blue;\n",
       "}\n",
       ".opstree .truncate {\n",
       "    fill: blue;\n",
       "    stroke: blue;\n",
       "}\n",
       ".opstree .new {\n",
       "    fill: black;\n",
       "    stroke: black;\n",
       "}\n",
       ".opstree .unknown {\n",
       "    fill: gray;\n",
       "    stroke: gray;\n",
       "}\n",
       ".opstree .hop {\n",
       "    fill: blue;\n",
       "    stroke: blue;\n",
       "}\n",
       ".opstree .correlation {\n",
       "    fill: black;\n",
       "    stroke: black;\n",
       "}\n",
       ".opstree .shooting.bw {\n",
       "    fill: green;\n",
       "    stroke: green;\n",
       "}\n",
       ".opstree .shooting.fw {\n",
       "    fill: red;\n",
       "    stroke: red;\n",
       "}\n",
       ".opstree .shooting.overlap {\n",
       "    fill: #666;\n",
       "    stroke: #666;\n",
       "}\n",
       ".opstree .reversal {\n",
       "    fill: gold;\n",
       "    stroke: gold;\n",
       "}\n",
       ".opstree .virtual {\n",
       "    opacity: 0.1;\n",
       "    fill:gray;\n",
       "    stroke: none;\n",
       "}\n",
       ".opstree line {\n",
       "    stroke-width: 2px;\n",
       "}\n",
       ".opstree .label {\n",
       "    fill: black !important;\n",
       "}\n",
       ".opstree .h-connector {\n",
       "    stroke-width: 0.1px;\n",
       "    stroke-dasharray: 3 3;\n",
       "}\n",
       ".opstree .rejected {\n",
       "    opacity: 0.25;\n",
       "}\n",
       ".opstree .level {\n",
       "    opacity: 0.25;\n",
       "}\n",
       ".opstree .orange {\n",
       "    fill: orange;\n",
       "}\n",
       ".tableline {\n",
       "    fill: gray;\n",
       "    opacity: 0.0;\n",
       "}\n",
       ".tableline:hover {\n",
       "    opacity: 0.2;\n",
       "}\n",
       ".opstree .left.label g.shift {\n",
       "    transform: translateX(-6px);\n",
       "}\n",
       ".opstree .right.label g.shift {\n",
       "    transform: translateX(+6px);\n",
       "}\n",
       ".opstree .infobox text {\n",
       "    text-anchor: start;\n",
       "}\n",
       ".opstree .shade {\n",
       "    stroke: none;\n",
       "}\n",
       "\n",
       ".movetree .label .shift {\n",
       "    transform: translateX(-18px);\n",
       "}\n",
       "\n",
       ".movetree .label text {\n",
       "    text-anchor: end;\n",
       "}\n",
       ".movetree .v-connector {\n",
       "    stroke: black;\n",
       "}\n",
       ".movetree .v-hook {\n",
       "    stroke: black;\n",
       "}\n",
       ".movetree .h-connector {\n",
       "    stroke: black;\n",
       "}\n",
       ".movetree .ensembles .head .shift {\n",
       "    transform: translateY(0px) rotate(270deg) ;\n",
       "}\n",
       ".movetree .ensembles .head text {\n",
       "    text-anchor: start;\n",
       "}\n",
       ".movetree .connector.input {\n",
       "    fill: green;\n",
       "}\n",
       ".movetree .connector.output {\n",
       "    fill: red;\n",
       "}\n",
       ".movetree .unknown {\n",
       "    fill: gray;\n",
       "}\n",
       "]]></style></defs><g transform=\"scale(1.0)\"><g class=\"tree\" transform=\"translate(37,15)\"><g><g class=\"unknown left label\" transform=\"translate(0,0)\"><g class=\"shift\"><text x=\"0\" y=\"0\">+</text></g></g><g class=\"shooting left label\" transform=\"translate(0,15)\"><g class=\"shift\"><text x=\"0\" y=\"0\">B</text></g></g><g class=\"shooting left label\" transform=\"translate(0,30)\"><g class=\"shift\"><text x=\"0\" y=\"0\">B</text></g></g><g class=\"shooting left label\" transform=\"translate(0,45)\"><g class=\"shift\"><text x=\"0\" y=\"0\">B</text></g></g><g class=\"shooting left label\" transform=\"translate(0,60)\"><g class=\"shift\"><text x=\"0\" y=\"0\">B</text></g></g><g class=\"shooting right label\" transform=\"translate(1995,75)\"><g class=\"shift\"><text x=\"0\" y=\"0\">F</text></g></g><g class=\"shooting left label\" transform=\"translate(0,90)\"><g class=\"shift\"><text x=\"0\" y=\"0\">B</text></g></g><g class=\"shooting left label\" transform=\"translate(0,105)\"><g class=\"shift\"><text x=\"0\" y=\"0\">B</text></g></g><g class=\"shooting left label\" transform=\"translate(0,120)\"><g class=\"shift\"><text x=\"0\" y=\"0\">B</text></g></g><g class=\"shooting right label\" transform=\"translate(1995,135)\"><g class=\"shift\"><text x=\"0\" y=\"0\">F</text></g></g><g class=\"shooting right label\" transform=\"translate(1995,150)\"><g class=\"shift\"><text x=\"0\" y=\"0\">F</text></g></g><g class=\"shooting right label\" transform=\"translate(1995,165)\"><g class=\"shift\"><text x=\"0\" y=\"0\">F</text></g></g><g class=\"shooting left label\" transform=\"translate(0,180)\"><g class=\"shift\"><text x=\"0\" y=\"0\">B</text></g></g><g class=\"shooting left label\" transform=\"translate(0,195)\"><g class=\"shift\"><text x=\"0\" y=\"0\">B</text></g></g><g class=\"shooting right label\" transform=\"translate(1995,210)\"><g class=\"shift\"><text x=\"0\" y=\"0\">F</text></g></g><g class=\"shooting left label\" transform=\"translate(0,225)\"><g class=\"shift\"><text x=\"0\" y=\"0\">B</text></g></g><g class=\"shooting right label\" transform=\"translate(1995,240)\"><g class=\"shift\"><text x=\"0\" y=\"0\">F</text></g></g><g class=\"shooting left label\" transform=\"translate(0,255)\"><g class=\"shift\"><text x=\"0\" y=\"0\">B</text></g></g><g class=\"shooting left label\" transform=\"translate(0,270)\"><g class=\"shift\"><text x=\"0\" y=\"0\">B</text></g></g><g class=\"shooting left label\" transform=\"translate(0,285)\"><g class=\"shift\"><text x=\"0\" y=\"0\">B</text></g></g></g><g><line class=\"shooting bw connection v-connector\" x1=\"467.5\" x2=\"467.5\" y1=\"0.0\" y2=\"15.0\"/><line class=\"shooting bw connection v-connector\" x1=\"397.5\" x2=\"397.5\" y1=\"15.0\" y2=\"30.0\"/><line class=\"shooting bw connection v-connector\" x1=\"502.5\" x2=\"502.5\" y1=\"0.0\" y2=\"45.0\"/><line class=\"shooting bw connection v-connector\" x1=\"202.5\" x2=\"202.5\" y1=\"45.0\" y2=\"60.0\"/><line class=\"shooting fw connection v-connector\" x1=\"1982.5\" x2=\"1982.5\" y1=\"0.0\" y2=\"75.0\"/><line class=\"shooting bw connection v-connector\" x1=\"602.5\" x2=\"602.5\" y1=\"0.0\" y2=\"90.0\"/><line class=\"shooting bw connection v-connector\" x1=\"52.5\" x2=\"52.5\" y1=\"90.0\" y2=\"105.0\"/><line class=\"shooting bw connection v-connector\" x1=\"1982.5\" x2=\"1982.5\" y1=\"75.0\" y2=\"120.0\"/><line class=\"shooting fw connection v-connector\" x1=\"1272.5\" x2=\"1272.5\" y1=\"120.0\" y2=\"135.0\"/><line class=\"shooting fw connection v-connector\" x1=\"522.5\" x2=\"522.5\" y1=\"120.0\" y2=\"150.0\"/><line class=\"shooting fw connection v-connector\" x1=\"1652.5\" x2=\"1652.5\" y1=\"150.0\" y2=\"165.0\"/><line class=\"shooting bw connection v-connector\" x1=\"1342.5\" x2=\"1342.5\" y1=\"150.0\" y2=\"180.0\"/><line class=\"shooting bw connection v-connector\" x1=\"822.5\" x2=\"822.5\" y1=\"180.0\" y2=\"195.0\"/><line class=\"shooting fw connection v-connector\" x1=\"1537.5\" x2=\"1537.5\" y1=\"150.0\" y2=\"210.0\"/><line class=\"shooting bw connection v-connector\" x1=\"1447.5\" x2=\"1447.5\" y1=\"150.0\" y2=\"225.0\"/><line class=\"shooting fw connection v-connector\" x1=\"1727.5\" x2=\"1727.5\" y1=\"210.0\" y2=\"240.0\"/><line class=\"shooting bw connection v-connector\" x1=\"107.5\" x2=\"107.5\" y1=\"225.0\" y2=\"255.0\"/><line class=\"shooting bw connection v-connector\" x1=\"77.5\" x2=\"77.5\" y1=\"255.0\" y2=\"270.0\"/><line class=\"shooting bw connection v-connector\" x1=\"1772.5\" x2=\"1772.5\" y1=\"240.0\" y2=\"285.0\"/></g><g><g class=\"unknown new block\"><rect height=\"9.0\" width=\"2000.0\" x=\"-2.5\" y=\"-4.5\"/><circle cx=\"1997.5\" cy=\"0\" r=\"0.0\"/><text x=\"997.5\" y=\"0\"/></g><g class=\"shooting bw block\"><rect height=\"9.0\" width=\"470.0\" x=\"-2.5\" y=\"10.5\"/><circle cx=\"467.5\" cy=\"15\" r=\"0.0\"/><text x=\"232.5\" y=\"15\"/></g><g class=\"shooting bw block\"><rect height=\"9.0\" width=\"400.0\" x=\"-2.5\" y=\"25.5\"/><circle cx=\"397.5\" cy=\"30\" r=\"0.0\"/><text x=\"197.5\" y=\"30\"/></g><g class=\"shooting bw block\"><rect height=\"9.0\" width=\"505.0\" x=\"-2.5\" y=\"40.5\"/><circle cx=\"502.5\" cy=\"45\" r=\"0.0\"/><text x=\"250.0\" y=\"45\"/></g><g class=\"shooting bw block\"><rect height=\"9.0\" width=\"205.0\" x=\"-2.5\" y=\"55.5\"/><circle cx=\"202.5\" cy=\"60\" r=\"0.0\"/><text x=\"100.0\" y=\"60\"/></g><g class=\"shooting fw block\"><rect height=\"9.0\" width=\"15.0\" x=\"1982.5\" y=\"70.5\"/><circle cx=\"1997.5\" cy=\"75\" r=\"0.0\"/><text x=\"1990.0\" y=\"75\"/></g><g class=\"shooting bw block\"><rect height=\"9.0\" width=\"605.0\" x=\"-2.5\" y=\"85.5\"/><circle cx=\"602.5\" cy=\"90\" r=\"0.0\"/><text x=\"300.0\" y=\"90\"/></g><g class=\"shooting bw block\"><rect height=\"9.0\" width=\"55.0\" x=\"-2.5\" y=\"100.5\"/><circle cx=\"52.5\" cy=\"105\" r=\"0.0\"/><text x=\"25.0\" y=\"105\"/></g><g class=\"shooting bw block\"><rect height=\"9.0\" width=\"1985.0\" x=\"-2.5\" y=\"115.5\"/><circle cx=\"1982.5\" cy=\"120\" r=\"0.0\"/><text x=\"990.0\" y=\"120\"/></g><g class=\"shooting fw block\"><rect height=\"9.0\" width=\"725.0\" x=\"1272.5\" y=\"130.5\"/><circle cx=\"1997.5\" cy=\"135\" r=\"0.0\"/><text x=\"1635.0\" y=\"135\"/></g><g class=\"shooting fw block\"><rect height=\"9.0\" width=\"1475.0\" x=\"522.5\" y=\"145.5\"/><circle cx=\"1997.5\" cy=\"150\" r=\"0.0\"/><text x=\"1260.0\" y=\"150\"/></g><g class=\"shooting fw block\"><rect height=\"9.0\" width=\"345.0\" x=\"1652.5\" y=\"160.5\"/><circle cx=\"1997.5\" cy=\"165\" r=\"0.0\"/><text x=\"1825.0\" y=\"165\"/></g><g class=\"shooting bw block\"><rect height=\"9.0\" width=\"1345.0\" x=\"-2.5\" y=\"175.5\"/><circle cx=\"1342.5\" cy=\"180\" r=\"0.0\"/><text x=\"670.0\" y=\"180\"/></g><g class=\"shooting bw block\"><rect height=\"9.0\" width=\"825.0\" x=\"-2.5\" y=\"190.5\"/><circle cx=\"822.5\" cy=\"195\" r=\"0.0\"/><text x=\"410.0\" y=\"195\"/></g><g class=\"shooting fw block\"><rect height=\"9.0\" width=\"460.0\" x=\"1537.5\" y=\"205.5\"/><circle cx=\"1997.5\" cy=\"210\" r=\"0.0\"/><text x=\"1767.5\" y=\"210\"/></g><g class=\"shooting bw block\"><rect height=\"9.0\" width=\"1450.0\" x=\"-2.5\" y=\"220.5\"/><circle cx=\"1447.5\" cy=\"225\" r=\"0.0\"/><text x=\"722.5\" y=\"225\"/></g><g class=\"shooting fw block\"><rect height=\"9.0\" width=\"270.0\" x=\"1727.5\" y=\"235.5\"/><circle cx=\"1997.5\" cy=\"240\" r=\"0.0\"/><text x=\"1862.5\" y=\"240\"/></g><g class=\"shooting bw block\"><rect height=\"9.0\" width=\"110.0\" x=\"-2.5\" y=\"250.5\"/><circle cx=\"107.5\" cy=\"255\" r=\"0.0\"/><text x=\"52.5\" y=\"255\"/></g><g class=\"shooting bw block\"><rect height=\"9.0\" width=\"80.0\" x=\"-2.5\" y=\"265.5\"/><circle cx=\"77.5\" cy=\"270\" r=\"0.0\"/><text x=\"37.5\" y=\"270\"/></g><g class=\"shooting bw block\"><rect height=\"9.0\" width=\"1775.0\" x=\"-2.5\" y=\"280.5\"/><circle cx=\"1772.5\" cy=\"285\" r=\"0.0\"/><text x=\"885.0\" y=\"285\"/></g></g></g><g class=\"legend\"><g class=\"legend\" transform=\"translate(0)\"><g class=\"label\" transform=\"translate(0,0)\"><g class=\"shift\"><text x=\"0\" y=\"0\">cor</text></g></g><g class=\"correlation v-region\"><line x1=\"0\" x2=\"0\" y1=\"7.5\" y2=\"127.5\"/><circle cx=\"0\" cy=\"7.5\" r=\"0.0\"/><line x1=\"-6.4\" x2=\"6.4\" y1=\"7.5\" y2=\"7.5\"/><circle cx=\"0\" cy=\"127.5\" r=\"0.0\"/><line x1=\"-6.4\" x2=\"6.4\" y1=\"127.5\" y2=\"127.5\"/><text x=\"-6.4\" y=\"67.5\"/></g><g class=\"correlation v-region\"><line x1=\"0\" x2=\"0\" y1=\"127.5\" y2=\"187.5\"/><circle cx=\"0\" cy=\"127.5\" r=\"0.0\"/><line x1=\"-6.4\" x2=\"6.4\" y1=\"127.5\" y2=\"127.5\"/><circle cx=\"0\" cy=\"187.5\" r=\"0.0\"/><line x1=\"-6.4\" x2=\"6.4\" y1=\"187.5\" y2=\"187.5\"/><text x=\"-6.4\" y=\"157.5\"/></g><g class=\"correlation v-region\"><line x1=\"0\" x2=\"0\" y1=\"187.5\" y2=\"292.5\"/><circle cx=\"0\" cy=\"187.5\" r=\"0.0\"/><line x1=\"-6.4\" x2=\"6.4\" y1=\"187.5\" y2=\"187.5\"/><circle cx=\"0\" cy=\"292.5\" r=\"0.0\"/><line x1=\"-6.4\" x2=\"6.4\" y1=\"292.5\" y2=\"292.5\"/><text x=\"-6.4\" y=\"240.0\"/></g><g class=\"correlation v-region\"><line x1=\"0\" x2=\"0\" y1=\"292.5\" y2=\"307.5\"/><circle cx=\"0\" cy=\"292.5\" r=\"0.0\"/><line x1=\"-6.4\" x2=\"6.4\" y1=\"292.5\" y2=\"292.5\"/><text x=\"-6.4\" y=\"300.0\"/></g></g><g class=\"legend\" transform=\"translate(-32)\"><g class=\"label\" transform=\"translate(0,0)\"><g class=\"shift\"><text x=\"0\" y=\"0\">step</text></g></g><g class=\"label\" transform=\"translate(0,15)\"><g class=\"shift\"><text x=\"0\" y=\"0\">*</text></g></g><g class=\"label\" transform=\"translate(0,30)\"><g class=\"shift\"><text x=\"0\" y=\"0\">2</text></g></g><g class=\"label\" transform=\"translate(0,45)\"><g class=\"shift\"><text x=\"0\" y=\"0\">5</text></g></g><g class=\"label\" transform=\"translate(0,60)\"><g class=\"shift\"><text x=\"0\" y=\"0\">6</text></g></g><g class=\"label\" transform=\"translate(0,75)\"><g class=\"shift\"><text x=\"0\" y=\"0\">9</text></g></g><g class=\"label\" transform=\"translate(0,90)\"><g class=\"shift\"><text x=\"0\" y=\"0\">10</text></g></g><g class=\"label\" transform=\"translate(0,105)\"><g class=\"shift\"><text x=\"0\" y=\"0\">17</text></g></g><g class=\"label\" transform=\"translate(0,120)\"><g class=\"shift\"><text x=\"0\" y=\"0\">19</text></g></g><g class=\"label\" transform=\"translate(0,135)\"><g class=\"shift\"><text x=\"0\" y=\"0\">21</text></g></g><g class=\"label\" transform=\"translate(0,150)\"><g class=\"shift\"><text x=\"0\" y=\"0\">22</text></g></g><g class=\"label\" transform=\"translate(0,165)\"><g class=\"shift\"><text x=\"0\" y=\"0\">26</text></g></g><g class=\"label\" transform=\"translate(0,180)\"><g class=\"shift\"><text x=\"0\" y=\"0\">27</text></g></g><g class=\"label\" transform=\"translate(0,195)\"><g class=\"shift\"><text x=\"0\" y=\"0\">33</text></g></g><g class=\"label\" transform=\"translate(0,210)\"><g class=\"shift\"><text x=\"0\" y=\"0\">39</text></g></g><g class=\"label\" transform=\"translate(0,225)\"><g class=\"shift\"><text x=\"0\" y=\"0\">40</text></g></g><g class=\"label\" transform=\"translate(0,240)\"><g class=\"shift\"><text x=\"0\" y=\"0\">41</text></g></g><g class=\"label\" transform=\"translate(0,255)\"><g class=\"shift\"><text x=\"0\" y=\"0\">42</text></g></g><g class=\"label\" transform=\"translate(0,270)\"><g class=\"shift\"><text x=\"0\" y=\"0\">44</text></g></g><g class=\"label\" transform=\"translate(0,285)\"><g class=\"shift\"><text x=\"0\" y=\"0\">46</text></g></g><g class=\"label\" transform=\"translate(0,300)\"><g class=\"shift\"><text x=\"0\" y=\"0\">49</text></g></g></g></g><g><rect class=\"tableline\" height=\"13.5\" width=\"2149.0\" x=\"-80.0\" y=\"8.25\"/><rect class=\"tableline\" height=\"13.5\" width=\"2149.0\" x=\"-80.0\" y=\"23.25\"/><rect class=\"tableline\" height=\"13.5\" width=\"2149.0\" x=\"-80.0\" y=\"38.25\"/><rect class=\"tableline\" height=\"13.5\" width=\"2149.0\" x=\"-80.0\" y=\"53.25\"/><rect class=\"tableline\" height=\"13.5\" width=\"2149.0\" x=\"-80.0\" y=\"68.25\"/><rect class=\"tableline\" height=\"13.5\" width=\"2149.0\" x=\"-80.0\" y=\"83.25\"/><rect class=\"tableline\" height=\"13.5\" width=\"2149.0\" x=\"-80.0\" y=\"98.25\"/><rect class=\"tableline\" height=\"13.5\" width=\"2149.0\" x=\"-80.0\" y=\"113.25\"/><rect class=\"tableline\" height=\"13.5\" width=\"2149.0\" x=\"-80.0\" y=\"128.25\"/><rect class=\"tableline\" height=\"13.5\" width=\"2149.0\" x=\"-80.0\" y=\"143.25\"/><rect class=\"tableline\" height=\"13.5\" width=\"2149.0\" x=\"-80.0\" y=\"158.25\"/><rect class=\"tableline\" height=\"13.5\" width=\"2149.0\" x=\"-80.0\" y=\"173.25\"/><rect class=\"tableline\" height=\"13.5\" width=\"2149.0\" x=\"-80.0\" y=\"188.25\"/><rect class=\"tableline\" height=\"13.5\" width=\"2149.0\" x=\"-80.0\" y=\"203.25\"/><rect class=\"tableline\" height=\"13.5\" width=\"2149.0\" x=\"-80.0\" y=\"218.25\"/><rect class=\"tableline\" height=\"13.5\" width=\"2149.0\" x=\"-80.0\" y=\"233.25\"/><rect class=\"tableline\" height=\"13.5\" width=\"2149.0\" x=\"-80.0\" y=\"248.25\"/><rect class=\"tableline\" height=\"13.5\" width=\"2149.0\" x=\"-80.0\" y=\"263.25\"/><rect class=\"tableline\" height=\"13.5\" width=\"2149.0\" x=\"-80.0\" y=\"278.25\"/><rect class=\"tableline\" height=\"13.5\" width=\"2149.0\" x=\"-80.0\" y=\"293.25\"/></g></g></svg>"
      ],
      "text/plain": [
       "<IPython.core.display.SVG object>"
      ]
     },
     "execution_count": 23,
     "metadata": {},
     "output_type": "execute_result"
    }
   ],
   "source": [
    "history = ops_vis.PathTree(\n",
    "    fixed.steps[0:50],\n",
    "    ops_vis.ReplicaEvolution(\n",
    "        replica=0\n",
    "    )\n",
    ")\n",
    "print len(list(history.samples))\n",
    "\n",
    "SVG(history.svg())"
   ]
  },
  {
   "cell_type": "code",
   "execution_count": 24,
   "metadata": {
    "collapsed": false
   },
   "outputs": [
    {
     "name": "stdout",
     "output_type": "stream",
     "text": [
      "Decorrelated trajectories: 4\n"
     ]
    }
   ],
   "source": [
    "print \"Decorrelated trajectories:\", len(history.generator.decorrelated_trajectories)"
   ]
  },
  {
   "cell_type": "markdown",
   "metadata": {},
   "source": [
    "Note that the number of MC steps (and even more so, time steps) per decorrelated trajectory is much higher than in the case of flexible path length TPS. This is the heart of the argument that flexible path length approaches are more efficient than fixed path length approaches: with a fixed path length, it takes much more effort to get a decorrelated trajectory."
   ]
  },
  {
   "cell_type": "markdown",
   "metadata": {},
   "source": [
    "### Advanced analysis techniques\n",
    "\n",
    "Now we'll move on to a few more advanced analysis techniques. (These are discussed in Paper II.)\n",
    "\n",
    "With the fixed path length ensemble, we should check for recrossings. To do this, we create an ensemble which represents the recrossing paths: a frame in $\\beta$, possible frames in neither $\\alpha$ nor $\\beta$, and then a frame in $\\alpha$.\n",
    "\n",
    "Then we check whether any subtrajectory of a trial trajectory matches that ensemble, by using the `Ensemble.split()` function. We can then further refine to see which steps that included trials with recrossings were actually accepted."
   ]
  },
  {
   "cell_type": "code",
   "execution_count": 25,
   "metadata": {
    "collapsed": false
   },
   "outputs": [],
   "source": [
    "# create the ensemble that identifies recrossings\n",
    "alpha = fixed.volumes.find('C_7eq')\n",
    "beta = fixed.volumes.find('alpha_R')\n",
    "recrossing_ensemble = paths.SequentialEnsemble([\n",
    "    paths.LengthEnsemble(1) & paths.AllInXEnsemble(beta),\n",
    "    paths.OptionalEnsemble(paths.AllOutXEnsemble(alpha | beta)),\n",
    "    paths.LengthEnsemble(1) & paths.AllInXEnsemble(alpha) \n",
    "])"
   ]
  },
  {
   "cell_type": "code",
   "execution_count": 26,
   "metadata": {
    "collapsed": false,
    "scrolled": true
   },
   "outputs": [
    {
     "ename": "KeyboardInterrupt",
     "evalue": "",
     "output_type": "error",
     "traceback": [
      "\u001b[0;31m---------------------------------------------------------------------------\u001b[0m",
      "\u001b[0;31mKeyboardInterrupt\u001b[0m                         Traceback (most recent call last)",
      "\u001b[0;32m<ipython-input-26-2ecb12b8dc5b>\u001b[0m in \u001b[0;36m<module>\u001b[0;34m()\u001b[0m\n\u001b[1;32m      5\u001b[0m     \u001b[0mrecrossings\u001b[0m \u001b[0;34m=\u001b[0m \u001b[0;34m[\u001b[0m\u001b[0;34m]\u001b[0m \u001b[0;31m# default for initial empty move (no trials in step[0].change)\u001b[0m\u001b[0;34m\u001b[0m\u001b[0m\n\u001b[1;32m      6\u001b[0m     \u001b[0;32mfor\u001b[0m \u001b[0mtrial\u001b[0m \u001b[0;32min\u001b[0m \u001b[0mstep\u001b[0m\u001b[0;34m.\u001b[0m\u001b[0mchange\u001b[0m\u001b[0;34m.\u001b[0m\u001b[0mtrials\u001b[0m\u001b[0;34m:\u001b[0m\u001b[0;34m\u001b[0m\u001b[0m\n\u001b[0;32m----> 7\u001b[0;31m         \u001b[0mrecrossings\u001b[0m \u001b[0;34m=\u001b[0m \u001b[0mrecrossing_ensemble\u001b[0m\u001b[0;34m.\u001b[0m\u001b[0msplit\u001b[0m\u001b[0;34m(\u001b[0m\u001b[0mtrial\u001b[0m\u001b[0;34m.\u001b[0m\u001b[0mtrajectory\u001b[0m\u001b[0;34m)\u001b[0m\u001b[0;34m\u001b[0m\u001b[0m\n\u001b[0m\u001b[1;32m      8\u001b[0m         \u001b[0;31m# recrossing contains a list with the recrossing trajectories\u001b[0m\u001b[0;34m\u001b[0m\u001b[0;34m\u001b[0m\u001b[0m\n\u001b[1;32m      9\u001b[0m         \u001b[0;31m# (len(recrossing) == 0 if no recrossings)\u001b[0m\u001b[0;34m\u001b[0m\u001b[0;34m\u001b[0m\u001b[0m\n",
      "\u001b[0;32m/Users/dwhs/Dropbox/msm-tis/openpathsampling/ensemble.pyc\u001b[0m in \u001b[0;36msplit\u001b[0;34m(self, trajectory, max_length, min_length, overlap, reverse, n_results)\u001b[0m\n\u001b[1;32m    727\u001b[0m                 for part in itertools.islice(indices, n_results)]\n\u001b[1;32m    728\u001b[0m         \u001b[0;32melse\u001b[0m\u001b[0;34m:\u001b[0m\u001b[0;34m\u001b[0m\u001b[0m\n\u001b[0;32m--> 729\u001b[0;31m             \u001b[0;32mreturn\u001b[0m \u001b[0;34m[\u001b[0m\u001b[0mtrajectory\u001b[0m\u001b[0;34m[\u001b[0m\u001b[0mpart\u001b[0m\u001b[0;34m]\u001b[0m \u001b[0;32mfor\u001b[0m \u001b[0mpart\u001b[0m \u001b[0;32min\u001b[0m \u001b[0mindices\u001b[0m\u001b[0;34m]\u001b[0m\u001b[0;34m\u001b[0m\u001b[0m\n\u001b[0m\u001b[1;32m    730\u001b[0m \u001b[0;34m\u001b[0m\u001b[0m\n\u001b[1;32m    731\u001b[0m     \u001b[0;34m@\u001b[0m\u001b[0mproperty\u001b[0m\u001b[0;34m\u001b[0m\u001b[0m\n",
      "\u001b[0;32m/Users/dwhs/Dropbox/msm-tis/openpathsampling/ensemble.pyc\u001b[0m in \u001b[0;36miter_valid_slices\u001b[0;34m(self, trajectory, max_length, min_length, overlap, reverse)\u001b[0m\n\u001b[1;32m    401\u001b[0m \u001b[0;34m\u001b[0m\u001b[0m\n\u001b[1;32m    402\u001b[0m                 \u001b[0;32mif\u001b[0m \u001b[0mlen\u001b[0m\u001b[0;34m(\u001b[0m\u001b[0mtt\u001b[0m\u001b[0;34m)\u001b[0m \u001b[0;34m!=\u001b[0m \u001b[0mold_tt_len\u001b[0m \u001b[0;34m+\u001b[0m \u001b[0;36m1\u001b[0m\u001b[0;34m:\u001b[0m\u001b[0;34m\u001b[0m\u001b[0m\n\u001b[0;32m--> 403\u001b[0;31m                     \u001b[0mcan_append_tt\u001b[0m \u001b[0;34m=\u001b[0m \u001b[0mself\u001b[0m\u001b[0;34m.\u001b[0m\u001b[0mstrict_can_append\u001b[0m\u001b[0;34m(\u001b[0m\u001b[0mtt\u001b[0m\u001b[0;34m)\u001b[0m\u001b[0;34m\u001b[0m\u001b[0m\n\u001b[0m\u001b[1;32m    404\u001b[0m                 \u001b[0;32melse\u001b[0m\u001b[0;34m:\u001b[0m\u001b[0;34m\u001b[0m\u001b[0m\n\u001b[1;32m    405\u001b[0m                     \u001b[0mcan_append_tt\u001b[0m \u001b[0;34m=\u001b[0m \u001b[0mself\u001b[0m\u001b[0;34m.\u001b[0m\u001b[0mstrict_can_append\u001b[0m\u001b[0;34m(\u001b[0m\u001b[0mtt\u001b[0m\u001b[0;34m,\u001b[0m \u001b[0mtrusted\u001b[0m\u001b[0;34m=\u001b[0m\u001b[0mTrue\u001b[0m\u001b[0;34m)\u001b[0m\u001b[0;34m\u001b[0m\u001b[0m\n",
      "\u001b[0;32m/Users/dwhs/Dropbox/msm-tis/openpathsampling/ensemble.pyc\u001b[0m in \u001b[0;36mstrict_can_append\u001b[0;34m(self, trajectory, trusted)\u001b[0m\n\u001b[1;32m   1775\u001b[0m \u001b[0;34m\u001b[0m\u001b[0m\n\u001b[1;32m   1776\u001b[0m     \u001b[0;32mdef\u001b[0m \u001b[0mstrict_can_append\u001b[0m\u001b[0;34m(\u001b[0m\u001b[0mself\u001b[0m\u001b[0;34m,\u001b[0m \u001b[0mtrajectory\u001b[0m\u001b[0;34m,\u001b[0m \u001b[0mtrusted\u001b[0m\u001b[0;34m=\u001b[0m\u001b[0mFalse\u001b[0m\u001b[0;34m)\u001b[0m\u001b[0;34m:\u001b[0m\u001b[0;34m\u001b[0m\u001b[0m\n\u001b[0;32m-> 1777\u001b[0;31m         \u001b[0;32mreturn\u001b[0m \u001b[0mself\u001b[0m\u001b[0;34m.\u001b[0m\u001b[0m_generic_can_append\u001b[0m\u001b[0;34m(\u001b[0m\u001b[0mtrajectory\u001b[0m\u001b[0;34m,\u001b[0m \u001b[0mtrusted\u001b[0m\u001b[0;34m,\u001b[0m \u001b[0mstrict\u001b[0m\u001b[0;34m=\u001b[0m\u001b[0mTrue\u001b[0m\u001b[0;34m)\u001b[0m\u001b[0;34m\u001b[0m\u001b[0m\n\u001b[0m\u001b[1;32m   1778\u001b[0m \u001b[0;34m\u001b[0m\u001b[0m\n\u001b[1;32m   1779\u001b[0m     \u001b[0;32mdef\u001b[0m \u001b[0m_generic_can_prepend\u001b[0m\u001b[0;34m(\u001b[0m\u001b[0mself\u001b[0m\u001b[0;34m,\u001b[0m \u001b[0mtrajectory\u001b[0m\u001b[0;34m,\u001b[0m \u001b[0mtrusted\u001b[0m\u001b[0;34m,\u001b[0m \u001b[0mstrict\u001b[0m\u001b[0;34m)\u001b[0m\u001b[0;34m:\u001b[0m\u001b[0;34m\u001b[0m\u001b[0m\n",
      "\u001b[0;32m/Users/dwhs/Dropbox/msm-tis/openpathsampling/ensemble.pyc\u001b[0m in \u001b[0;36m_generic_can_append\u001b[0;34m(self, trajectory, trusted, strict)\u001b[0m\n\u001b[1;32m   1668\u001b[0m             \u001b[0mlogger\u001b[0m\u001b[0;34m.\u001b[0m\u001b[0mdebug\u001b[0m\u001b[0;34m(\u001b[0m\u001b[0;34m\"last_checked = \"\u001b[0m \u001b[0;34m+\u001b[0m \u001b[0mstr\u001b[0m\u001b[0;34m(\u001b[0m\u001b[0mlast_checked\u001b[0m\u001b[0;34m)\u001b[0m\u001b[0;34m)\u001b[0m\u001b[0;34m\u001b[0m\u001b[0m\n\u001b[1;32m   1669\u001b[0m             subtraj_final = self._find_subtraj_final(\n\u001b[0;32m-> 1670\u001b[0;31m                 \u001b[0mtrajectory\u001b[0m\u001b[0;34m,\u001b[0m \u001b[0msubtraj_first\u001b[0m\u001b[0;34m,\u001b[0m \u001b[0mens_num\u001b[0m\u001b[0;34m,\u001b[0m \u001b[0mlast_checked\u001b[0m\u001b[0;34m\u001b[0m\u001b[0m\n\u001b[0m\u001b[1;32m   1671\u001b[0m             )\n\u001b[1;32m   1672\u001b[0m             \u001b[0mcache\u001b[0m\u001b[0;34m.\u001b[0m\u001b[0mlast_length\u001b[0m \u001b[0;34m=\u001b[0m \u001b[0msubtraj_final\u001b[0m\u001b[0;34m\u001b[0m\u001b[0m\n",
      "\u001b[0;32m/Users/dwhs/Dropbox/msm-tis/openpathsampling/ensemble.pyc\u001b[0m in \u001b[0;36m_find_subtraj_final\u001b[0;34m(self, traj, subtraj_first, ens_num, last_checked)\u001b[0m\n\u001b[1;32m   1571\u001b[0m         \u001b[0;31m# logger.debug(\"Call    \" + str(ens(subtraj, trusted=True)))\u001b[0m\u001b[0;34m\u001b[0m\u001b[0;34m\u001b[0m\u001b[0m\n\u001b[1;32m   1572\u001b[0m         while ((ens.can_append(subtraj, trusted=True) or\n\u001b[0;32m-> 1573\u001b[0;31m                 \u001b[0mens\u001b[0m\u001b[0;34m(\u001b[0m\u001b[0msubtraj\u001b[0m\u001b[0;34m,\u001b[0m \u001b[0mtrusted\u001b[0m\u001b[0;34m=\u001b[0m\u001b[0mTrue\u001b[0m\u001b[0;34m)\u001b[0m\u001b[0;34m\u001b[0m\u001b[0m\n\u001b[0m\u001b[1;32m   1574\u001b[0m                 ) and subtraj_final < traj_final):\n\u001b[1;32m   1575\u001b[0m             \u001b[0msubtraj_final\u001b[0m \u001b[0;34m+=\u001b[0m \u001b[0;36m1\u001b[0m\u001b[0;34m\u001b[0m\u001b[0m\n",
      "\u001b[0;32m/Users/dwhs/Dropbox/msm-tis/openpathsampling/ensemble.pyc\u001b[0m in \u001b[0;36m__call__\u001b[0;34m(self, trajectory, trusted)\u001b[0m\n\u001b[1;32m   1271\u001b[0m             \u001b[0mtrajectory\u001b[0m\u001b[0;34m=\u001b[0m\u001b[0mtrajectory\u001b[0m\u001b[0;34m,\u001b[0m\u001b[0;34m\u001b[0m\u001b[0m\n\u001b[1;32m   1272\u001b[0m             \u001b[0mtrusted\u001b[0m\u001b[0;34m=\u001b[0m\u001b[0mtrusted\u001b[0m\u001b[0;34m,\u001b[0m\u001b[0;34m\u001b[0m\u001b[0m\n\u001b[0;32m-> 1273\u001b[0;31m             \u001b[0mfname\u001b[0m\u001b[0;34m=\u001b[0m\u001b[0;34m\"__call__\"\u001b[0m\u001b[0;34m\u001b[0m\u001b[0m\n\u001b[0m\u001b[1;32m   1274\u001b[0m         )\n\u001b[1;32m   1275\u001b[0m \u001b[0;34m\u001b[0m\u001b[0m\n",
      "\u001b[0;32m/Users/dwhs/Dropbox/msm-tis/openpathsampling/ensemble.pyc\u001b[0m in \u001b[0;36m_generalized_short_circuit\u001b[0;34m(self, combo, f1, f2, trajectory, trusted, fname)\u001b[0m\n\u001b[1;32m   1259\u001b[0m             \u001b[0;32mreturn\u001b[0m \u001b[0mres_true\u001b[0m\u001b[0;34m\u001b[0m\u001b[0m\n\u001b[1;32m   1260\u001b[0m         \u001b[0;32melse\u001b[0m\u001b[0;34m:\u001b[0m\u001b[0;34m\u001b[0m\u001b[0m\n\u001b[0;32m-> 1261\u001b[0;31m             \u001b[0mb\u001b[0m \u001b[0;34m=\u001b[0m \u001b[0mf2\u001b[0m\u001b[0;34m(\u001b[0m\u001b[0mtrajectory\u001b[0m\u001b[0;34m,\u001b[0m \u001b[0mtrusted\u001b[0m\u001b[0;34m)\u001b[0m\u001b[0;34m\u001b[0m\u001b[0m\n\u001b[0m\u001b[1;32m   1262\u001b[0m             \u001b[0;31m# logger.debug(\"Needs test:\" + str(a) + \" \" + str(self.fnc) +\u001b[0m\u001b[0;34m\u001b[0m\u001b[0;34m\u001b[0m\u001b[0m\n\u001b[1;32m   1263\u001b[0m             \u001b[0;31m#              str(b) + str(self.fnc(a,b)))\u001b[0m\u001b[0;34m\u001b[0m\u001b[0;34m\u001b[0m\u001b[0m\n",
      "\u001b[0;32m/Users/dwhs/Dropbox/msm-tis/openpathsampling/ensemble.pyc\u001b[0m in \u001b[0;36m__call__\u001b[0;34m(self, trajectory, trusted)\u001b[0m\n\u001b[1;32m   2113\u001b[0m         \u001b[0;31m# speed-up in sequential ensemble's checking phase. ~~~DWHS\u001b[0m\u001b[0;34m\u001b[0m\u001b[0;34m\u001b[0m\u001b[0m\n\u001b[1;32m   2114\u001b[0m         \u001b[0;32mif\u001b[0m \u001b[0mtrusted\u001b[0m \u001b[0;32mand\u001b[0m \u001b[0mself\u001b[0m\u001b[0;34m.\u001b[0m\u001b[0m_use_cache\u001b[0m\u001b[0;34m:\u001b[0m\u001b[0;34m\u001b[0m\u001b[0m\n\u001b[0;32m-> 2115\u001b[0;31m             \u001b[0;32mreturn\u001b[0m \u001b[0mself\u001b[0m\u001b[0;34m.\u001b[0m\u001b[0m_trusted_call\u001b[0m\u001b[0;34m(\u001b[0m\u001b[0mtrajectory\u001b[0m\u001b[0;34m,\u001b[0m \u001b[0mself\u001b[0m\u001b[0;34m.\u001b[0m\u001b[0m_cache_call\u001b[0m\u001b[0;34m)\u001b[0m\u001b[0;34m\u001b[0m\u001b[0m\n\u001b[0m\u001b[1;32m   2116\u001b[0m         \u001b[0;32melse\u001b[0m\u001b[0;34m:\u001b[0m\u001b[0;34m\u001b[0m\u001b[0m\n\u001b[1;32m   2117\u001b[0m             \u001b[0mlogger\u001b[0m\u001b[0;34m.\u001b[0m\u001b[0mdebug\u001b[0m\u001b[0;34m(\u001b[0m\u001b[0;34m\"Untrusted VolumeEnsemble \"\u001b[0m \u001b[0;34m+\u001b[0m \u001b[0mrepr\u001b[0m\u001b[0;34m(\u001b[0m\u001b[0mself\u001b[0m\u001b[0;34m)\u001b[0m\u001b[0;34m)\u001b[0m\u001b[0;34m\u001b[0m\u001b[0m\n",
      "\u001b[0;32m/Users/dwhs/Dropbox/msm-tis/openpathsampling/ensemble.pyc\u001b[0m in \u001b[0;36m_trusted_call\u001b[0;34m(self, trajectory, cache)\u001b[0m\n\u001b[1;32m   2082\u001b[0m             \u001b[0;31m# need to check this frame (no prev traj, or prev traj is True)\u001b[0m\u001b[0;34m\u001b[0m\u001b[0;34m\u001b[0m\u001b[0m\n\u001b[1;32m   2083\u001b[0m             \u001b[0mframe\u001b[0m \u001b[0;34m=\u001b[0m \u001b[0mtrajectory\u001b[0m\u001b[0;34m.\u001b[0m\u001b[0mget_as_proxy\u001b[0m\u001b[0;34m(\u001b[0m\u001b[0mframe_num\u001b[0m\u001b[0;34m)\u001b[0m\u001b[0;34m\u001b[0m\u001b[0m\n\u001b[0;32m-> 2084\u001b[0;31m             \u001b[0mcache\u001b[0m\u001b[0;34m.\u001b[0m\u001b[0mcontents\u001b[0m\u001b[0;34m[\u001b[0m\u001b[0;34m'previous'\u001b[0m\u001b[0;34m]\u001b[0m \u001b[0;34m=\u001b[0m \u001b[0mself\u001b[0m\u001b[0;34m.\u001b[0m\u001b[0m_volume\u001b[0m\u001b[0;34m(\u001b[0m\u001b[0mframe\u001b[0m\u001b[0;34m)\u001b[0m\u001b[0;34m\u001b[0m\u001b[0m\n\u001b[0m\u001b[1;32m   2085\u001b[0m             \u001b[0;32mreturn\u001b[0m \u001b[0mcache\u001b[0m\u001b[0;34m.\u001b[0m\u001b[0mcontents\u001b[0m\u001b[0;34m[\u001b[0m\u001b[0;34m'previous'\u001b[0m\u001b[0;34m]\u001b[0m\u001b[0;34m\u001b[0m\u001b[0m\n\u001b[1;32m   2086\u001b[0m         \u001b[0;32melse\u001b[0m\u001b[0;34m:\u001b[0m\u001b[0;34m\u001b[0m\u001b[0m\n",
      "\u001b[0;32m/Users/dwhs/Dropbox/msm-tis/openpathsampling/volume.pyc\u001b[0m in \u001b[0;36m__call__\u001b[0;34m(self, snapshot)\u001b[0m\n\u001b[1;32m    126\u001b[0m             \u001b[0;32mreturn\u001b[0m \u001b[0mres_true\u001b[0m\u001b[0;34m\u001b[0m\u001b[0m\n\u001b[1;32m    127\u001b[0m         \u001b[0;32melse\u001b[0m\u001b[0;34m:\u001b[0m\u001b[0;34m\u001b[0m\u001b[0m\n\u001b[0;32m--> 128\u001b[0;31m             \u001b[0mb\u001b[0m \u001b[0;34m=\u001b[0m \u001b[0mself\u001b[0m\u001b[0;34m.\u001b[0m\u001b[0mvolume2\u001b[0m\u001b[0;34m(\u001b[0m\u001b[0msnapshot\u001b[0m\u001b[0;34m)\u001b[0m\u001b[0;34m\u001b[0m\u001b[0m\n\u001b[0m\u001b[1;32m    129\u001b[0m             \u001b[0;32mreturn\u001b[0m \u001b[0mself\u001b[0m\u001b[0;34m.\u001b[0m\u001b[0mfnc\u001b[0m\u001b[0;34m(\u001b[0m\u001b[0ma\u001b[0m\u001b[0;34m,\u001b[0m \u001b[0mb\u001b[0m\u001b[0;34m)\u001b[0m\u001b[0;34m\u001b[0m\u001b[0m\n\u001b[1;32m    130\u001b[0m         \u001b[0;31m#return self.fnc(self.volume1.__call__(snapshot),\u001b[0m\u001b[0;34m\u001b[0m\u001b[0;34m\u001b[0m\u001b[0m\n",
      "\u001b[0;32m/Users/dwhs/Dropbox/msm-tis/openpathsampling/volume.pyc\u001b[0m in \u001b[0;36m__call__\u001b[0;34m(self, snapshot)\u001b[0m\n\u001b[1;32m    471\u001b[0m \u001b[0;34m\u001b[0m\u001b[0m\n\u001b[1;32m    472\u001b[0m     \u001b[0;32mdef\u001b[0m \u001b[0m__call__\u001b[0m\u001b[0;34m(\u001b[0m\u001b[0mself\u001b[0m\u001b[0;34m,\u001b[0m \u001b[0msnapshot\u001b[0m\u001b[0;34m)\u001b[0m\u001b[0;34m:\u001b[0m\u001b[0;34m\u001b[0m\u001b[0m\n\u001b[0;32m--> 473\u001b[0;31m         \u001b[0ml\u001b[0m \u001b[0;34m=\u001b[0m \u001b[0mself\u001b[0m\u001b[0;34m.\u001b[0m\u001b[0mcollectivevariable\u001b[0m\u001b[0;34m(\u001b[0m\u001b[0msnapshot\u001b[0m\u001b[0;34m)\u001b[0m\u001b[0;34m.\u001b[0m\u001b[0m__float__\u001b[0m\u001b[0;34m(\u001b[0m\u001b[0;34m)\u001b[0m\u001b[0;34m\u001b[0m\u001b[0m\n\u001b[0m\u001b[1;32m    474\u001b[0m         \u001b[0;32mif\u001b[0m \u001b[0mself\u001b[0m\u001b[0;34m.\u001b[0m\u001b[0mwrap\u001b[0m\u001b[0;34m:\u001b[0m\u001b[0;34m\u001b[0m\u001b[0m\n\u001b[1;32m    475\u001b[0m             \u001b[0ml\u001b[0m \u001b[0;34m=\u001b[0m \u001b[0mself\u001b[0m\u001b[0;34m.\u001b[0m\u001b[0mdo_wrap\u001b[0m\u001b[0;34m(\u001b[0m\u001b[0ml\u001b[0m\u001b[0;34m)\u001b[0m\u001b[0;34m\u001b[0m\u001b[0m\n",
      "\u001b[0;32m/Users/dwhs/Dropbox/msm-tis/openpathsampling/chaindict.pyc\u001b[0m in \u001b[0;36m__getitem__\u001b[0;34m(self, items)\u001b[0m\n\u001b[1;32m    229\u001b[0m \u001b[0;34m\u001b[0m\u001b[0m\n\u001b[1;32m    230\u001b[0m     \u001b[0;32mdef\u001b[0m \u001b[0m__getitem__\u001b[0m\u001b[0;34m(\u001b[0m\u001b[0mself\u001b[0m\u001b[0;34m,\u001b[0m \u001b[0mitems\u001b[0m\u001b[0;34m)\u001b[0m\u001b[0;34m:\u001b[0m\u001b[0;34m\u001b[0m\u001b[0m\n\u001b[0;32m--> 231\u001b[0;31m         \u001b[0;32mreturn\u001b[0m \u001b[0mself\u001b[0m\u001b[0;34m.\u001b[0m\u001b[0m_post\u001b[0m\u001b[0;34m[\u001b[0m\u001b[0mitems\u001b[0m\u001b[0;34m]\u001b[0m\u001b[0;34m\u001b[0m\u001b[0m\n\u001b[0m\u001b[1;32m    232\u001b[0m \u001b[0;34m\u001b[0m\u001b[0m\n\u001b[1;32m    233\u001b[0m     \u001b[0m__call__\u001b[0m \u001b[0;34m=\u001b[0m \u001b[0m__getitem__\u001b[0m\u001b[0;34m\u001b[0m\u001b[0m\n",
      "\u001b[0;32m/Users/dwhs/Dropbox/msm-tis/openpathsampling/chaindict.pyc\u001b[0m in \u001b[0;36m__getitem__\u001b[0;34m(self, items)\u001b[0m\n\u001b[1;32m    242\u001b[0m \u001b[0;34m\u001b[0m\u001b[0m\n\u001b[1;32m    243\u001b[0m     \u001b[0;32mdef\u001b[0m \u001b[0m__getitem__\u001b[0m\u001b[0;34m(\u001b[0m\u001b[0mself\u001b[0m\u001b[0;34m,\u001b[0m \u001b[0mitems\u001b[0m\u001b[0;34m)\u001b[0m\u001b[0;34m:\u001b[0m\u001b[0;34m\u001b[0m\u001b[0m\n\u001b[0;32m--> 244\u001b[0;31m         \u001b[0;32mreturn\u001b[0m \u001b[0mnp\u001b[0m\u001b[0;34m.\u001b[0m\u001b[0marray\u001b[0m\u001b[0;34m(\u001b[0m\u001b[0mself\u001b[0m\u001b[0;34m.\u001b[0m\u001b[0m_post\u001b[0m\u001b[0;34m[\u001b[0m\u001b[0mitems\u001b[0m\u001b[0;34m]\u001b[0m\u001b[0;34m)\u001b[0m\u001b[0;34m\u001b[0m\u001b[0m\n\u001b[0m\u001b[1;32m    245\u001b[0m \u001b[0;34m\u001b[0m\u001b[0m\n\u001b[1;32m    246\u001b[0m     \u001b[0m__call__\u001b[0m \u001b[0;34m=\u001b[0m \u001b[0m__getitem__\u001b[0m\u001b[0;34m\u001b[0m\u001b[0m\n",
      "\u001b[0;32m/Users/dwhs/Dropbox/msm-tis/openpathsampling/chaindict.pyc\u001b[0m in \u001b[0;36m__getitem__\u001b[0;34m(self, items)\u001b[0m\n\u001b[1;32m    257\u001b[0m     \u001b[0;32mdef\u001b[0m \u001b[0m__getitem__\u001b[0m\u001b[0;34m(\u001b[0m\u001b[0mself\u001b[0m\u001b[0;34m,\u001b[0m \u001b[0mitems\u001b[0m\u001b[0;34m)\u001b[0m\u001b[0;34m:\u001b[0m\u001b[0;34m\u001b[0m\u001b[0m\n\u001b[1;32m    258\u001b[0m         \u001b[0;32mif\u001b[0m \u001b[0mtype\u001b[0m\u001b[0;34m(\u001b[0m\u001b[0mitems\u001b[0m\u001b[0;34m)\u001b[0m \u001b[0;32mis\u001b[0m \u001b[0mLoaderProxy\u001b[0m\u001b[0;34m:\u001b[0m\u001b[0;34m\u001b[0m\u001b[0m\n\u001b[0;32m--> 259\u001b[0;31m             \u001b[0;32mreturn\u001b[0m \u001b[0mself\u001b[0m\u001b[0;34m.\u001b[0m\u001b[0m_post\u001b[0m\u001b[0;34m[\u001b[0m\u001b[0;34m[\u001b[0m\u001b[0mitems\u001b[0m\u001b[0;34m]\u001b[0m\u001b[0;34m]\u001b[0m\u001b[0;34m[\u001b[0m\u001b[0;36m0\u001b[0m\u001b[0;34m]\u001b[0m\u001b[0;34m\u001b[0m\u001b[0m\n\u001b[0m\u001b[1;32m    260\u001b[0m         \u001b[0;32mif\u001b[0m \u001b[0mhasattr\u001b[0m\u001b[0;34m(\u001b[0m\u001b[0mitems\u001b[0m\u001b[0;34m,\u001b[0m \u001b[0;34m'__iter__'\u001b[0m\u001b[0;34m)\u001b[0m\u001b[0;34m:\u001b[0m\u001b[0;34m\u001b[0m\u001b[0m\n\u001b[1;32m    261\u001b[0m             \u001b[0;32mtry\u001b[0m\u001b[0;34m:\u001b[0m\u001b[0;34m\u001b[0m\u001b[0m\n",
      "\u001b[0;32m/Users/dwhs/Dropbox/msm-tis/openpathsampling/chaindict.pyc\u001b[0m in \u001b[0;36m__getitem__\u001b[0;34m(self, items)\u001b[0m\n\u001b[1;32m     70\u001b[0m                 \u001b[0;32mreturn\u001b[0m \u001b[0mresults\u001b[0m\u001b[0;34m\u001b[0m\u001b[0m\n\u001b[1;32m     71\u001b[0m             \u001b[0;32melse\u001b[0m\u001b[0;34m:\u001b[0m\u001b[0;34m\u001b[0m\u001b[0m\n\u001b[0;32m---> 72\u001b[0;31m                 \u001b[0mrep\u001b[0m \u001b[0;34m=\u001b[0m \u001b[0mself\u001b[0m\u001b[0;34m.\u001b[0m\u001b[0m_post\u001b[0m\u001b[0;34m[\u001b[0m\u001b[0mnones\u001b[0m\u001b[0;34m]\u001b[0m\u001b[0;34m\u001b[0m\u001b[0m\n\u001b[0m\u001b[1;32m     73\u001b[0m                 \u001b[0mself\u001b[0m\u001b[0;34m.\u001b[0m\u001b[0m_set_list\u001b[0m\u001b[0;34m(\u001b[0m\u001b[0mnones\u001b[0m\u001b[0;34m,\u001b[0m \u001b[0mrep\u001b[0m\u001b[0;34m)\u001b[0m\u001b[0;34m\u001b[0m\u001b[0m\n\u001b[1;32m     74\u001b[0m \u001b[0;34m\u001b[0m\u001b[0m\n",
      "\u001b[0;32m/Users/dwhs/Dropbox/msm-tis/openpathsampling/chaindict.pyc\u001b[0m in \u001b[0;36m__getitem__\u001b[0;34m(self, items)\u001b[0m\n\u001b[1;32m     63\u001b[0m         \u001b[0;31m# print 'get %d items using %s' % (len(items), self.__class__.__name__)\u001b[0m\u001b[0;34m\u001b[0m\u001b[0;34m\u001b[0m\u001b[0m\n\u001b[1;32m     64\u001b[0m \u001b[0;34m\u001b[0m\u001b[0m\n\u001b[0;32m---> 65\u001b[0;31m         \u001b[0mresults\u001b[0m \u001b[0;34m=\u001b[0m \u001b[0mself\u001b[0m\u001b[0;34m.\u001b[0m\u001b[0m_get_list\u001b[0m\u001b[0;34m(\u001b[0m\u001b[0mitems\u001b[0m\u001b[0;34m)\u001b[0m\u001b[0;34m\u001b[0m\u001b[0m\n\u001b[0m\u001b[1;32m     66\u001b[0m \u001b[0;34m\u001b[0m\u001b[0m\n\u001b[1;32m     67\u001b[0m         \u001b[0;32mif\u001b[0m \u001b[0mself\u001b[0m\u001b[0;34m.\u001b[0m\u001b[0m_post\u001b[0m \u001b[0;32mis\u001b[0m \u001b[0;32mnot\u001b[0m \u001b[0mNone\u001b[0m\u001b[0;34m:\u001b[0m\u001b[0;34m\u001b[0m\u001b[0m\n",
      "\u001b[0;32m/Users/dwhs/Dropbox/msm-tis/openpathsampling/chaindict.pyc\u001b[0m in \u001b[0;36m_get_list\u001b[0;34m(self, items)\u001b[0m\n\u001b[1;32m    335\u001b[0m \u001b[0;34m\u001b[0m\u001b[0m\n\u001b[1;32m    336\u001b[0m         \u001b[0;32mif\u001b[0m \u001b[0mself\u001b[0m\u001b[0;34m.\u001b[0m\u001b[0mrequires_lists\u001b[0m\u001b[0;34m:\u001b[0m\u001b[0;34m\u001b[0m\u001b[0m\n\u001b[0;32m--> 337\u001b[0;31m             \u001b[0mresults\u001b[0m \u001b[0;34m=\u001b[0m \u001b[0mself\u001b[0m\u001b[0;34m.\u001b[0m\u001b[0m_eval\u001b[0m\u001b[0;34m(\u001b[0m\u001b[0mitems\u001b[0m\u001b[0;34m)\u001b[0m\u001b[0;34m\u001b[0m\u001b[0m\n\u001b[0m\u001b[1;32m    338\u001b[0m \u001b[0;34m\u001b[0m\u001b[0m\n\u001b[1;32m    339\u001b[0m             \u001b[0;32mif\u001b[0m \u001b[0mself\u001b[0m\u001b[0;34m.\u001b[0m\u001b[0mscalarize_numpy_singletons\u001b[0m \u001b[0;32mand\u001b[0m \u001b[0mresults\u001b[0m\u001b[0;34m.\u001b[0m\u001b[0mshape\u001b[0m\u001b[0;34m[\u001b[0m\u001b[0;34m-\u001b[0m\u001b[0;36m1\u001b[0m\u001b[0;34m]\u001b[0m \u001b[0;34m==\u001b[0m \u001b[0;36m1\u001b[0m\u001b[0;34m:\u001b[0m\u001b[0;34m\u001b[0m\u001b[0m\n",
      "\u001b[0;32m/Users/dwhs/Dropbox/msm-tis/openpathsampling/collectivevariable.pyc\u001b[0m in \u001b[0;36m_eval\u001b[0;34m(self, items)\u001b[0m\n\u001b[1;32m    647\u001b[0m         \u001b[0mtrajectory\u001b[0m \u001b[0;34m=\u001b[0m \u001b[0mpeng\u001b[0m\u001b[0;34m.\u001b[0m\u001b[0mTrajectory\u001b[0m\u001b[0;34m(\u001b[0m\u001b[0mitems\u001b[0m\u001b[0;34m)\u001b[0m\u001b[0;34m\u001b[0m\u001b[0m\n\u001b[1;32m    648\u001b[0m \u001b[0;34m\u001b[0m\u001b[0m\n\u001b[0;32m--> 649\u001b[0;31m         \u001b[0mt\u001b[0m \u001b[0;34m=\u001b[0m \u001b[0mtrajectory_to_mdtraj\u001b[0m\u001b[0;34m(\u001b[0m\u001b[0mtrajectory\u001b[0m\u001b[0;34m,\u001b[0m \u001b[0mself\u001b[0m\u001b[0;34m.\u001b[0m\u001b[0mtopology\u001b[0m\u001b[0;34m.\u001b[0m\u001b[0mmdtraj\u001b[0m\u001b[0;34m)\u001b[0m\u001b[0;34m\u001b[0m\u001b[0m\n\u001b[0m\u001b[1;32m    650\u001b[0m         \u001b[0;32mreturn\u001b[0m \u001b[0mself\u001b[0m\u001b[0;34m.\u001b[0m\u001b[0mcv_callable\u001b[0m\u001b[0;34m(\u001b[0m\u001b[0mt\u001b[0m\u001b[0;34m,\u001b[0m \u001b[0;34m**\u001b[0m\u001b[0mself\u001b[0m\u001b[0;34m.\u001b[0m\u001b[0mkwargs\u001b[0m\u001b[0;34m)\u001b[0m\u001b[0;34m\u001b[0m\u001b[0m\n\u001b[1;32m    651\u001b[0m \u001b[0;34m\u001b[0m\u001b[0m\n",
      "\u001b[0;32m/Users/dwhs/Dropbox/msm-tis/openpathsampling/engines/openmm/tools.pyc\u001b[0m in \u001b[0;36mtrajectory_to_mdtraj\u001b[0;34m(trajectory, md_topology)\u001b[0m\n\u001b[1;32m    314\u001b[0m \u001b[0;34m\u001b[0m\u001b[0m\n\u001b[1;32m    315\u001b[0m     \u001b[0;31m# TODO: Use units to make sure we did not rescale accidentally!\u001b[0m\u001b[0;34m\u001b[0m\u001b[0;34m\u001b[0m\u001b[0m\n\u001b[0;32m--> 316\u001b[0;31m     \u001b[0moutput\u001b[0m \u001b[0;34m=\u001b[0m \u001b[0mtrajectory\u001b[0m\u001b[0;34m.\u001b[0m\u001b[0mxyz\u001b[0m\u001b[0;34m\u001b[0m\u001b[0m\n\u001b[0m\u001b[1;32m    317\u001b[0m \u001b[0;34m\u001b[0m\u001b[0m\n\u001b[1;32m    318\u001b[0m     \u001b[0;32mreturn\u001b[0m \u001b[0mmd\u001b[0m\u001b[0;34m.\u001b[0m\u001b[0mTrajectory\u001b[0m\u001b[0;34m(\u001b[0m\u001b[0moutput\u001b[0m\u001b[0;34m,\u001b[0m \u001b[0mmd_topology\u001b[0m\u001b[0;34m)\u001b[0m\u001b[0;34m\u001b[0m\u001b[0m\n",
      "\u001b[0;32m/Users/dwhs/Dropbox/msm-tis/openpathsampling/engines/trajectory.pyc\u001b[0m in \u001b[0;36m__getattr__\u001b[0;34m(self, item)\u001b[0m\n\u001b[1;32m    131\u001b[0m                     \u001b[0mhasattr\u001b[0m\u001b[0;34m(\u001b[0m\u001b[0msnapshot_class\u001b[0m\u001b[0;34m,\u001b[0m \u001b[0;34m'__features__'\u001b[0m\u001b[0;34m)\u001b[0m\u001b[0;31m \u001b[0m\u001b[0;31m\\\u001b[0m\u001b[0;34m\u001b[0m\u001b[0m\n\u001b[1;32m    132\u001b[0m                     \u001b[0;32mand\u001b[0m \u001b[0mitem\u001b[0m \u001b[0;32min\u001b[0m \u001b[0msnapshot_class\u001b[0m\u001b[0;34m.\u001b[0m\u001b[0m__features__\u001b[0m\u001b[0;34m.\u001b[0m\u001b[0mvariables\u001b[0m\u001b[0;34m:\u001b[0m\u001b[0;34m\u001b[0m\u001b[0m\n\u001b[0;32m--> 133\u001b[0;31m                 \u001b[0mfirst\u001b[0m \u001b[0;34m=\u001b[0m \u001b[0mgetattr\u001b[0m\u001b[0;34m(\u001b[0m\u001b[0mself\u001b[0m\u001b[0;34m[\u001b[0m\u001b[0;36m0\u001b[0m\u001b[0;34m]\u001b[0m\u001b[0;34m,\u001b[0m \u001b[0mitem\u001b[0m\u001b[0;34m)\u001b[0m\u001b[0;34m\u001b[0m\u001b[0m\n\u001b[0m\u001b[1;32m    134\u001b[0m                 \u001b[0;32mif\u001b[0m \u001b[0mtype\u001b[0m\u001b[0;34m(\u001b[0m\u001b[0mfirst\u001b[0m\u001b[0;34m)\u001b[0m \u001b[0;32mis\u001b[0m \u001b[0mu\u001b[0m\u001b[0;34m.\u001b[0m\u001b[0mQuantity\u001b[0m\u001b[0;34m:\u001b[0m\u001b[0;34m\u001b[0m\u001b[0m\n\u001b[1;32m    135\u001b[0m                     \u001b[0minner\u001b[0m \u001b[0;34m=\u001b[0m \u001b[0mfirst\u001b[0m\u001b[0;34m.\u001b[0m\u001b[0m_value\u001b[0m\u001b[0;34m\u001b[0m\u001b[0m\n",
      "\u001b[0;32m/Users/dwhs/Dropbox/msm-tis/openpathsampling/engines/features/statics.pyc\u001b[0m in \u001b[0;36mxyz\u001b[0;34m(snapshot)\u001b[0m\n\u001b[1;32m     94\u001b[0m     \u001b[0;32mimport\u001b[0m \u001b[0msimtk\u001b[0m\u001b[0;34m.\u001b[0m\u001b[0munit\u001b[0m \u001b[0;32mas\u001b[0m \u001b[0mu\u001b[0m\u001b[0;34m\u001b[0m\u001b[0m\n\u001b[1;32m     95\u001b[0m \u001b[0;34m\u001b[0m\u001b[0m\n\u001b[0;32m---> 96\u001b[0;31m     \u001b[0mcoord\u001b[0m \u001b[0;34m=\u001b[0m \u001b[0msnapshot\u001b[0m\u001b[0;34m.\u001b[0m\u001b[0mcoordinates\u001b[0m\u001b[0;34m\u001b[0m\u001b[0m\n\u001b[0m\u001b[1;32m     97\u001b[0m     \u001b[0;32mif\u001b[0m \u001b[0mtype\u001b[0m\u001b[0;34m(\u001b[0m\u001b[0mcoord\u001b[0m\u001b[0;34m)\u001b[0m \u001b[0;32mis\u001b[0m \u001b[0mu\u001b[0m\u001b[0;34m.\u001b[0m\u001b[0mQuantity\u001b[0m\u001b[0;34m:\u001b[0m\u001b[0;34m\u001b[0m\u001b[0m\n\u001b[1;32m     98\u001b[0m         \u001b[0;32mreturn\u001b[0m \u001b[0mcoord\u001b[0m\u001b[0;34m.\u001b[0m\u001b[0m_value\u001b[0m\u001b[0;34m\u001b[0m\u001b[0m\n",
      "\u001b[0;32m/Users/dwhs/Dropbox/msm-tis/openpathsampling/engines/features/statics.pyc\u001b[0m in \u001b[0;36mcoordinates\u001b[0;34m(snapshot)\u001b[0m\n\u001b[1;32m     40\u001b[0m     \"\"\"\n\u001b[1;32m     41\u001b[0m \u001b[0;34m\u001b[0m\u001b[0m\n\u001b[0;32m---> 42\u001b[0;31m     \u001b[0;32mif\u001b[0m \u001b[0msnapshot\u001b[0m\u001b[0;34m.\u001b[0m\u001b[0mstatics\u001b[0m \u001b[0;32mis\u001b[0m \u001b[0;32mnot\u001b[0m \u001b[0mNone\u001b[0m\u001b[0;34m:\u001b[0m\u001b[0;34m\u001b[0m\u001b[0m\n\u001b[0m\u001b[1;32m     43\u001b[0m         \u001b[0;32mreturn\u001b[0m \u001b[0msnapshot\u001b[0m\u001b[0;34m.\u001b[0m\u001b[0mstatics\u001b[0m\u001b[0;34m.\u001b[0m\u001b[0mcoordinates\u001b[0m\u001b[0;34m\u001b[0m\u001b[0m\n\u001b[1;32m     44\u001b[0m \u001b[0;34m\u001b[0m\u001b[0m\n",
      "\u001b[0;32m/Users/dwhs/Dropbox/msm-tis/openpathsampling/netcdfplus/proxy.pyc\u001b[0m in \u001b[0;36m__get__\u001b[0;34m(self, instance, owner)\u001b[0m\n\u001b[1;32m    102\u001b[0m             \u001b[0mobj\u001b[0m \u001b[0;34m=\u001b[0m \u001b[0minstance\u001b[0m\u001b[0;34m.\u001b[0m\u001b[0m_lazy\u001b[0m\u001b[0;34m[\u001b[0m\u001b[0mself\u001b[0m\u001b[0;34m]\u001b[0m\u001b[0;34m\u001b[0m\u001b[0m\n\u001b[1;32m    103\u001b[0m             \u001b[0;32mif\u001b[0m \u001b[0mhasattr\u001b[0m\u001b[0;34m(\u001b[0m\u001b[0mobj\u001b[0m\u001b[0;34m,\u001b[0m \u001b[0;34m'_idx'\u001b[0m\u001b[0;34m)\u001b[0m\u001b[0;34m:\u001b[0m\u001b[0;34m\u001b[0m\u001b[0m\n\u001b[0;32m--> 104\u001b[0;31m                 \u001b[0;32mreturn\u001b[0m \u001b[0mobj\u001b[0m\u001b[0;34m.\u001b[0m\u001b[0m__subject__\u001b[0m\u001b[0;34m\u001b[0m\u001b[0m\n\u001b[0m\u001b[1;32m    105\u001b[0m             \u001b[0;32melse\u001b[0m\u001b[0;34m:\u001b[0m\u001b[0;34m\u001b[0m\u001b[0m\n\u001b[1;32m    106\u001b[0m                 \u001b[0;32mreturn\u001b[0m \u001b[0mobj\u001b[0m\u001b[0;34m\u001b[0m\u001b[0m\n",
      "\u001b[0;32m/Users/dwhs/Dropbox/msm-tis/openpathsampling/netcdfplus/proxy.pyc\u001b[0m in \u001b[0;36m__subject__\u001b[0;34m(self)\u001b[0m\n\u001b[1;32m     32\u001b[0m                 \u001b[0;32mreturn\u001b[0m \u001b[0mobj\u001b[0m\u001b[0;34m\u001b[0m\u001b[0m\n\u001b[1;32m     33\u001b[0m \u001b[0;34m\u001b[0m\u001b[0m\n\u001b[0;32m---> 34\u001b[0;31m         \u001b[0mref\u001b[0m \u001b[0;34m=\u001b[0m \u001b[0mself\u001b[0m\u001b[0;34m.\u001b[0m\u001b[0m_load_\u001b[0m\u001b[0;34m(\u001b[0m\u001b[0;34m)\u001b[0m\u001b[0;34m\u001b[0m\u001b[0m\n\u001b[0m\u001b[1;32m     35\u001b[0m \u001b[0;34m\u001b[0m\u001b[0m\n\u001b[1;32m     36\u001b[0m         \u001b[0;32mif\u001b[0m \u001b[0mref\u001b[0m \u001b[0;32mis\u001b[0m \u001b[0mNone\u001b[0m\u001b[0;34m:\u001b[0m\u001b[0;34m\u001b[0m\u001b[0m\n",
      "\u001b[0;32m/Users/dwhs/Dropbox/msm-tis/openpathsampling/netcdfplus/proxy.pyc\u001b[0m in \u001b[0;36m_load_\u001b[0;34m(self)\u001b[0m\n\u001b[1;32m     80\u001b[0m         \"\"\"\n\u001b[1;32m     81\u001b[0m         \u001b[0;32mtry\u001b[0m\u001b[0;34m:\u001b[0m\u001b[0;34m\u001b[0m\u001b[0m\n\u001b[0;32m---> 82\u001b[0;31m             \u001b[0;32mreturn\u001b[0m \u001b[0mself\u001b[0m\u001b[0;34m.\u001b[0m\u001b[0m_store\u001b[0m\u001b[0;34m[\u001b[0m\u001b[0mself\u001b[0m\u001b[0;34m.\u001b[0m\u001b[0m_idx\u001b[0m\u001b[0;34m]\u001b[0m\u001b[0;34m\u001b[0m\u001b[0m\n\u001b[0m\u001b[1;32m     83\u001b[0m         \u001b[0;32mexcept\u001b[0m \u001b[0mKeyError\u001b[0m\u001b[0;34m:\u001b[0m\u001b[0;34m\u001b[0m\u001b[0m\n\u001b[1;32m     84\u001b[0m             \u001b[0;32mif\u001b[0m \u001b[0mtype\u001b[0m\u001b[0;34m(\u001b[0m\u001b[0mself\u001b[0m\u001b[0;34m.\u001b[0m\u001b[0m_idx\u001b[0m\u001b[0;34m)\u001b[0m \u001b[0;32mis\u001b[0m \u001b[0mint\u001b[0m\u001b[0;34m:\u001b[0m\u001b[0;34m\u001b[0m\u001b[0m\n",
      "\u001b[0;32m/Users/dwhs/Dropbox/msm-tis/openpathsampling/netcdfplus/objects.pyc\u001b[0m in \u001b[0;36m__getitem__\u001b[0;34m(self, item)\u001b[0m\n\u001b[1;32m    444\u001b[0m         \u001b[0;32mtry\u001b[0m\u001b[0;34m:\u001b[0m\u001b[0;34m\u001b[0m\u001b[0m\n\u001b[1;32m    445\u001b[0m             \u001b[0;32mif\u001b[0m \u001b[0mtype\u001b[0m\u001b[0;34m(\u001b[0m\u001b[0mitem\u001b[0m\u001b[0;34m)\u001b[0m \u001b[0;32mis\u001b[0m \u001b[0mint\u001b[0m \u001b[0;32mor\u001b[0m \u001b[0mtype\u001b[0m\u001b[0;34m(\u001b[0m\u001b[0mitem\u001b[0m\u001b[0;34m)\u001b[0m \u001b[0;32mis\u001b[0m \u001b[0mstr\u001b[0m \u001b[0;32mor\u001b[0m \u001b[0mtype\u001b[0m\u001b[0;34m(\u001b[0m\u001b[0mitem\u001b[0m\u001b[0;34m)\u001b[0m \u001b[0;32mis\u001b[0m \u001b[0mUUID\u001b[0m\u001b[0;34m:\u001b[0m\u001b[0;34m\u001b[0m\u001b[0m\n\u001b[0;32m--> 446\u001b[0;31m                 \u001b[0;32mreturn\u001b[0m \u001b[0mself\u001b[0m\u001b[0;34m.\u001b[0m\u001b[0mload\u001b[0m\u001b[0;34m(\u001b[0m\u001b[0mitem\u001b[0m\u001b[0;34m)\u001b[0m\u001b[0;34m\u001b[0m\u001b[0m\n\u001b[0m\u001b[1;32m    447\u001b[0m             \u001b[0;32melif\u001b[0m \u001b[0mtype\u001b[0m\u001b[0;34m(\u001b[0m\u001b[0mitem\u001b[0m\u001b[0;34m)\u001b[0m \u001b[0;32mis\u001b[0m \u001b[0mslice\u001b[0m\u001b[0;34m:\u001b[0m\u001b[0;34m\u001b[0m\u001b[0m\n\u001b[1;32m    448\u001b[0m                 return [self.load(idx)\n",
      "\u001b[0;32m/Users/dwhs/Dropbox/msm-tis/openpathsampling/netcdfplus/objects.pyc\u001b[0m in \u001b[0;36mload\u001b[0;34m(self, idx)\u001b[0m\n\u001b[1;32m    766\u001b[0m             (self.content_class.__name__, n_idx))\n\u001b[1;32m    767\u001b[0m \u001b[0;34m\u001b[0m\u001b[0m\n\u001b[0;32m--> 768\u001b[0;31m         \u001b[0;32mif\u001b[0m \u001b[0mn_idx\u001b[0m \u001b[0;34m>=\u001b[0m \u001b[0mlen\u001b[0m\u001b[0;34m(\u001b[0m\u001b[0mself\u001b[0m\u001b[0;34m)\u001b[0m\u001b[0;34m:\u001b[0m\u001b[0;34m\u001b[0m\u001b[0m\n\u001b[0m\u001b[1;32m    769\u001b[0m             logger.warning(\n\u001b[1;32m    770\u001b[0m                 \u001b[0;34m'Trying to load from IDX #%d > number of object %d'\u001b[0m \u001b[0;34m%\u001b[0m\u001b[0;34m\u001b[0m\u001b[0m\n",
      "\u001b[0;32m/Users/dwhs/Dropbox/msm-tis/openpathsampling/netcdfplus/objects.pyc\u001b[0m in \u001b[0;36m__len__\u001b[0;34m(self)\u001b[0m\n\u001b[1;32m    365\u001b[0m \u001b[0;34m\u001b[0m\u001b[0m\n\u001b[1;32m    366\u001b[0m         \"\"\"\n\u001b[0;32m--> 367\u001b[0;31m         \u001b[0;32mreturn\u001b[0m \u001b[0mlen\u001b[0m\u001b[0;34m(\u001b[0m\u001b[0mself\u001b[0m\u001b[0;34m.\u001b[0m\u001b[0mstorage\u001b[0m\u001b[0;34m.\u001b[0m\u001b[0mdimensions\u001b[0m\u001b[0;34m[\u001b[0m\u001b[0mself\u001b[0m\u001b[0;34m.\u001b[0m\u001b[0mprefix\u001b[0m\u001b[0;34m]\u001b[0m\u001b[0;34m)\u001b[0m\u001b[0;34m\u001b[0m\u001b[0m\n\u001b[0m\u001b[1;32m    368\u001b[0m \u001b[0;34m\u001b[0m\u001b[0m\n\u001b[1;32m    369\u001b[0m     \u001b[0;32mdef\u001b[0m \u001b[0mwrite\u001b[0m\u001b[0;34m(\u001b[0m\u001b[0mself\u001b[0m\u001b[0;34m,\u001b[0m \u001b[0mvariable\u001b[0m\u001b[0;34m,\u001b[0m \u001b[0midx\u001b[0m\u001b[0;34m,\u001b[0m \u001b[0mobj\u001b[0m\u001b[0;34m,\u001b[0m \u001b[0mattribute\u001b[0m\u001b[0;34m=\u001b[0m\u001b[0mNone\u001b[0m\u001b[0;34m)\u001b[0m\u001b[0;34m:\u001b[0m\u001b[0;34m\u001b[0m\u001b[0m\n",
      "\u001b[0;31mKeyboardInterrupt\u001b[0m: "
     ]
    }
   ],
   "source": [
    "# now we check each step to see if its trial has a recrossing\n",
    "steps_with_recrossing = []\n",
    "for step in fixed.steps:\n",
    "    # trials is a list of samples: with shooting, only one in the list\n",
    "    recrossings = [] # default for initial empty move (no trials in step[0].change)\n",
    "    for trial in step.change.trials:\n",
    "        recrossings = recrossing_ensemble.split(trial.trajectory)\n",
    "        # recrossing contains a list with the recrossing trajectories\n",
    "        # (len(recrossing) == 0 if no recrossings)\n",
    "    if len(recrossings) > 0:\n",
    "        steps_with_recrossing += [step]  # save for later analysis"
   ]
  },
  {
   "cell_type": "code",
   "execution_count": 27,
   "metadata": {
    "collapsed": true
   },
   "outputs": [],
   "source": [
    "accepted_recrossings = [step for step in steps_with_recrossing if step.change.accepted is True]"
   ]
  },
  {
   "cell_type": "code",
   "execution_count": 28,
   "metadata": {
    "collapsed": false
   },
   "outputs": [
    {
     "name": "stdout",
     "output_type": "stream",
     "text": [
      "Trials with recrossings: 57\n",
      "Accepted trials with recrossings: 12\n"
     ]
    }
   ],
   "source": [
    "print \"Trials with recrossings:\", len(steps_with_recrossing)\n",
    "print \"Accepted trials with recrossings:\", len(accepted_recrossings)"
   ]
  },
  {
   "cell_type": "markdown",
   "metadata": {},
   "source": [
    "Note that the accepted trials with recrossing does not account for how long the trial remained active. It also doesn't tell us whether the trial represented a new recrossing event, or was correlated with the previous recrossing event."
   ]
  },
  {
   "cell_type": "markdown",
   "metadata": {},
   "source": [
    "Let's take a look at one of the accepted trajectories with a recrossing event. We'll plot the value of $\\psi$, since this is what distinguishes the two states. We'll also select the frames that are actually inside each state and color them (red for $\\alpha$, blue for $\\beta$)."
   ]
  },
  {
   "cell_type": "code",
   "execution_count": 29,
   "metadata": {
    "collapsed": false
   },
   "outputs": [
    {
     "data": {
      "text/plain": [
       "[<matplotlib.lines.Line2D at 0x347d059d0>]"
      ]
     },
     "execution_count": 29,
     "metadata": {},
     "output_type": "execute_result"
    },
    {
     "data": {
      "image/png": "[encoded data removed]",
      "text/plain": [
       "<matplotlib.figure.Figure at 0x343b195d0>"
      ]
     },
     "metadata": {},
     "output_type": "display_data"
    }
   ],
   "source": [
    "psi = fixed.cvs.find('psi')\n",
    "trajectory = accepted_recrossings[0].active[0].trajectory\n",
    "in_alpha_indices = [trajectory.index(s) for s in trajectory if alpha(s)]\n",
    "in_alpha_psi = [psi(trajectory)[i] for i in in_alpha_indices]\n",
    "in_beta_indices = [trajectory.index(s) for s in trajectory if beta(s)]\n",
    "in_beta_psi = [psi(trajectory)[i] for i in in_beta_indices]\n",
    "\n",
    "plt.plot(psi(trajectory), 'k-')\n",
    "plt.plot(in_alpha_indices, in_alpha_psi, 'ro')  # alpha in red\n",
    "plt.plot(in_beta_indices, in_beta_psi, 'bo')  # beta in blue"
   ]
  },
  {
   "cell_type": "markdown",
   "metadata": {},
   "source": [
    "Now let's see how many recrossing events there are in each accepted trial. If there's one recrossing, then the trajectory much go $\\alpha\\to\\beta\\to\\alpha\\to\\beta$ to be accepted. Two recrossings would mean $\\alpha\\to\\beta\\to\\alpha\\to\\beta\\to\\alpha\\to\\beta$."
   ]
  },
  {
   "cell_type": "code",
   "execution_count": 30,
   "metadata": {
    "collapsed": true
   },
   "outputs": [],
   "source": [
    "recrossings_per = []\n",
    "for step in accepted_recrossings:\n",
    "    for test in step.change.trials:\n",
    "        recrossings_per.append(len(recrossing_ensemble.split(test.trajectory)))"
   ]
  },
  {
   "cell_type": "code",
   "execution_count": 31,
   "metadata": {
    "collapsed": false
   },
   "outputs": [
    {
     "name": "stdout",
     "output_type": "stream",
     "text": [
      "[1, 1, 1, 1, 1, 1, 1, 1, 1, 1, 1, 1]\n"
     ]
    }
   ],
   "source": [
    "print recrossings_per"
   ]
  },
  {
   "cell_type": "markdown",
   "metadata": {},
   "source": [
    "# Comparing the fixed and flexible simulations"
   ]
  },
  {
   "cell_type": "code",
   "execution_count": 32,
   "metadata": {
    "collapsed": false
   },
   "outputs": [
    {
     "ename": "KeyboardInterrupt",
     "evalue": "",
     "output_type": "error",
     "traceback": [
      "\u001b[0;31m---------------------------------------------------------------------------\u001b[0m",
      "\u001b[0;31mKeyboardInterrupt\u001b[0m                         Traceback (most recent call last)",
      "\u001b[0;32m<ipython-input-32-f70aa9493ba2>\u001b[0m in \u001b[0;36m<module>\u001b[0;34m()\u001b[0m\n\u001b[0;32m----> 1\u001b[0;31m \u001b[0mget_ipython\u001b[0m\u001b[0;34m(\u001b[0m\u001b[0;34m)\u001b[0m\u001b[0;34m.\u001b[0m\u001b[0mrun_cell_magic\u001b[0m\u001b[0;34m(\u001b[0m\u001b[0;34mu'time'\u001b[0m\u001b[0;34m,\u001b[0m \u001b[0;34mu''\u001b[0m\u001b[0;34m,\u001b[0m \u001b[0;34mu'# transition path length distribution\\nflex_ens = flex_scheme.network.sampling_ensembles[0]\\nfixed_transition_segments = sum([flex_ens.split(step.active[0].trajectory) for step in fixed.steps],[])\\nfixed_transition_length = [len(traj) for traj in fixed_transition_segments]'\u001b[0m\u001b[0;34m)\u001b[0m\u001b[0;34m\u001b[0m\u001b[0m\n\u001b[0m",
      "\u001b[0;32m/opt/local/Library/Frameworks/Python.framework/Versions/2.7/lib/python2.7/site-packages/IPython/core/interactiveshell.pyc\u001b[0m in \u001b[0;36mrun_cell_magic\u001b[0;34m(self, magic_name, line, cell)\u001b[0m\n\u001b[1;32m   2113\u001b[0m             \u001b[0mmagic_arg_s\u001b[0m \u001b[0;34m=\u001b[0m \u001b[0mself\u001b[0m\u001b[0;34m.\u001b[0m\u001b[0mvar_expand\u001b[0m\u001b[0;34m(\u001b[0m\u001b[0mline\u001b[0m\u001b[0;34m,\u001b[0m \u001b[0mstack_depth\u001b[0m\u001b[0;34m)\u001b[0m\u001b[0;34m\u001b[0m\u001b[0m\n\u001b[1;32m   2114\u001b[0m             \u001b[0;32mwith\u001b[0m \u001b[0mself\u001b[0m\u001b[0;34m.\u001b[0m\u001b[0mbuiltin_trap\u001b[0m\u001b[0;34m:\u001b[0m\u001b[0;34m\u001b[0m\u001b[0m\n\u001b[0;32m-> 2115\u001b[0;31m                 \u001b[0mresult\u001b[0m \u001b[0;34m=\u001b[0m \u001b[0mfn\u001b[0m\u001b[0;34m(\u001b[0m\u001b[0mmagic_arg_s\u001b[0m\u001b[0;34m,\u001b[0m \u001b[0mcell\u001b[0m\u001b[0;34m)\u001b[0m\u001b[0;34m\u001b[0m\u001b[0m\n\u001b[0m\u001b[1;32m   2116\u001b[0m             \u001b[0;32mreturn\u001b[0m \u001b[0mresult\u001b[0m\u001b[0;34m\u001b[0m\u001b[0m\n\u001b[1;32m   2117\u001b[0m \u001b[0;34m\u001b[0m\u001b[0m\n",
      "\u001b[0;32m<decorator-gen-59>\u001b[0m in \u001b[0;36mtime\u001b[0;34m(self, line, cell, local_ns)\u001b[0m\n",
      "\u001b[0;32m/opt/local/Library/Frameworks/Python.framework/Versions/2.7/lib/python2.7/site-packages/IPython/core/magic.pyc\u001b[0m in \u001b[0;36m<lambda>\u001b[0;34m(f, *a, **k)\u001b[0m\n\u001b[1;32m    186\u001b[0m     \u001b[0;31m# but it's overkill for just that one bit of state.\u001b[0m\u001b[0;34m\u001b[0m\u001b[0;34m\u001b[0m\u001b[0m\n\u001b[1;32m    187\u001b[0m     \u001b[0;32mdef\u001b[0m \u001b[0mmagic_deco\u001b[0m\u001b[0;34m(\u001b[0m\u001b[0marg\u001b[0m\u001b[0;34m)\u001b[0m\u001b[0;34m:\u001b[0m\u001b[0;34m\u001b[0m\u001b[0m\n\u001b[0;32m--> 188\u001b[0;31m         \u001b[0mcall\u001b[0m \u001b[0;34m=\u001b[0m \u001b[0;32mlambda\u001b[0m \u001b[0mf\u001b[0m\u001b[0;34m,\u001b[0m \u001b[0;34m*\u001b[0m\u001b[0ma\u001b[0m\u001b[0;34m,\u001b[0m \u001b[0;34m**\u001b[0m\u001b[0mk\u001b[0m\u001b[0;34m:\u001b[0m \u001b[0mf\u001b[0m\u001b[0;34m(\u001b[0m\u001b[0;34m*\u001b[0m\u001b[0ma\u001b[0m\u001b[0;34m,\u001b[0m \u001b[0;34m**\u001b[0m\u001b[0mk\u001b[0m\u001b[0;34m)\u001b[0m\u001b[0;34m\u001b[0m\u001b[0m\n\u001b[0m\u001b[1;32m    189\u001b[0m \u001b[0;34m\u001b[0m\u001b[0m\n\u001b[1;32m    190\u001b[0m         \u001b[0;32mif\u001b[0m \u001b[0mcallable\u001b[0m\u001b[0;34m(\u001b[0m\u001b[0marg\u001b[0m\u001b[0;34m)\u001b[0m\u001b[0;34m:\u001b[0m\u001b[0;34m\u001b[0m\u001b[0m\n",
      "\u001b[0;32m/opt/local/Library/Frameworks/Python.framework/Versions/2.7/lib/python2.7/site-packages/IPython/core/magics/execution.pyc\u001b[0m in \u001b[0;36mtime\u001b[0;34m(self, line, cell, local_ns)\u001b[0m\n\u001b[1;32m   1178\u001b[0m         \u001b[0;32melse\u001b[0m\u001b[0;34m:\u001b[0m\u001b[0;34m\u001b[0m\u001b[0m\n\u001b[1;32m   1179\u001b[0m             \u001b[0mst\u001b[0m \u001b[0;34m=\u001b[0m \u001b[0mclock2\u001b[0m\u001b[0;34m(\u001b[0m\u001b[0;34m)\u001b[0m\u001b[0;34m\u001b[0m\u001b[0m\n\u001b[0;32m-> 1180\u001b[0;31m             \u001b[0;32mexec\u001b[0m\u001b[0;34m(\u001b[0m\u001b[0mcode\u001b[0m\u001b[0;34m,\u001b[0m \u001b[0mglob\u001b[0m\u001b[0;34m,\u001b[0m \u001b[0mlocal_ns\u001b[0m\u001b[0;34m)\u001b[0m\u001b[0;34m\u001b[0m\u001b[0m\n\u001b[0m\u001b[1;32m   1181\u001b[0m             \u001b[0mend\u001b[0m \u001b[0;34m=\u001b[0m \u001b[0mclock2\u001b[0m\u001b[0;34m(\u001b[0m\u001b[0;34m)\u001b[0m\u001b[0;34m\u001b[0m\u001b[0m\n\u001b[1;32m   1182\u001b[0m             \u001b[0mout\u001b[0m \u001b[0;34m=\u001b[0m \u001b[0mNone\u001b[0m\u001b[0;34m\u001b[0m\u001b[0m\n",
      "\u001b[0;32m<timed exec>\u001b[0m in \u001b[0;36m<module>\u001b[0;34m()\u001b[0m\n",
      "\u001b[0;32m/Users/dwhs/Dropbox/msm-tis/openpathsampling/ensemble.pyc\u001b[0m in \u001b[0;36msplit\u001b[0;34m(self, trajectory, max_length, min_length, overlap, reverse, n_results)\u001b[0m\n\u001b[1;32m    727\u001b[0m                 for part in itertools.islice(indices, n_results)]\n\u001b[1;32m    728\u001b[0m         \u001b[0;32melse\u001b[0m\u001b[0;34m:\u001b[0m\u001b[0;34m\u001b[0m\u001b[0m\n\u001b[0;32m--> 729\u001b[0;31m             \u001b[0;32mreturn\u001b[0m \u001b[0;34m[\u001b[0m\u001b[0mtrajectory\u001b[0m\u001b[0;34m[\u001b[0m\u001b[0mpart\u001b[0m\u001b[0;34m]\u001b[0m \u001b[0;32mfor\u001b[0m \u001b[0mpart\u001b[0m \u001b[0;32min\u001b[0m \u001b[0mindices\u001b[0m\u001b[0;34m]\u001b[0m\u001b[0;34m\u001b[0m\u001b[0m\n\u001b[0m\u001b[1;32m    730\u001b[0m \u001b[0;34m\u001b[0m\u001b[0m\n\u001b[1;32m    731\u001b[0m     \u001b[0;34m@\u001b[0m\u001b[0mproperty\u001b[0m\u001b[0;34m\u001b[0m\u001b[0m\n",
      "\u001b[0;32m/Users/dwhs/Dropbox/msm-tis/openpathsampling/ensemble.pyc\u001b[0m in \u001b[0;36miter_valid_slices\u001b[0;34m(self, trajectory, max_length, min_length, overlap, reverse)\u001b[0m\n\u001b[1;32m    403\u001b[0m                     \u001b[0mcan_append_tt\u001b[0m \u001b[0;34m=\u001b[0m \u001b[0mself\u001b[0m\u001b[0;34m.\u001b[0m\u001b[0mstrict_can_append\u001b[0m\u001b[0;34m(\u001b[0m\u001b[0mtt\u001b[0m\u001b[0;34m)\u001b[0m\u001b[0;34m\u001b[0m\u001b[0m\n\u001b[1;32m    404\u001b[0m                 \u001b[0;32melse\u001b[0m\u001b[0;34m:\u001b[0m\u001b[0;34m\u001b[0m\u001b[0m\n\u001b[0;32m--> 405\u001b[0;31m                     \u001b[0mcan_append_tt\u001b[0m \u001b[0;34m=\u001b[0m \u001b[0mself\u001b[0m\u001b[0;34m.\u001b[0m\u001b[0mstrict_can_append\u001b[0m\u001b[0;34m(\u001b[0m\u001b[0mtt\u001b[0m\u001b[0;34m,\u001b[0m \u001b[0mtrusted\u001b[0m\u001b[0;34m=\u001b[0m\u001b[0mTrue\u001b[0m\u001b[0;34m)\u001b[0m\u001b[0;34m\u001b[0m\u001b[0m\n\u001b[0m\u001b[1;32m    406\u001b[0m                 \u001b[0mold_tt_len\u001b[0m \u001b[0;34m=\u001b[0m \u001b[0mlen\u001b[0m\u001b[0;34m(\u001b[0m\u001b[0mtt\u001b[0m\u001b[0;34m)\u001b[0m\u001b[0;34m\u001b[0m\u001b[0m\n\u001b[1;32m    407\u001b[0m \u001b[0;34m\u001b[0m\u001b[0m\n",
      "\u001b[0;32m/Users/dwhs/Dropbox/msm-tis/openpathsampling/ensemble.pyc\u001b[0m in \u001b[0;36mstrict_can_append\u001b[0;34m(self, trajectory, trusted)\u001b[0m\n\u001b[1;32m   1775\u001b[0m \u001b[0;34m\u001b[0m\u001b[0m\n\u001b[1;32m   1776\u001b[0m     \u001b[0;32mdef\u001b[0m \u001b[0mstrict_can_append\u001b[0m\u001b[0;34m(\u001b[0m\u001b[0mself\u001b[0m\u001b[0;34m,\u001b[0m \u001b[0mtrajectory\u001b[0m\u001b[0;34m,\u001b[0m \u001b[0mtrusted\u001b[0m\u001b[0;34m=\u001b[0m\u001b[0mFalse\u001b[0m\u001b[0;34m)\u001b[0m\u001b[0;34m:\u001b[0m\u001b[0;34m\u001b[0m\u001b[0m\n\u001b[0;32m-> 1777\u001b[0;31m         \u001b[0;32mreturn\u001b[0m \u001b[0mself\u001b[0m\u001b[0;34m.\u001b[0m\u001b[0m_generic_can_append\u001b[0m\u001b[0;34m(\u001b[0m\u001b[0mtrajectory\u001b[0m\u001b[0;34m,\u001b[0m \u001b[0mtrusted\u001b[0m\u001b[0;34m,\u001b[0m \u001b[0mstrict\u001b[0m\u001b[0;34m=\u001b[0m\u001b[0mTrue\u001b[0m\u001b[0;34m)\u001b[0m\u001b[0;34m\u001b[0m\u001b[0m\n\u001b[0m\u001b[1;32m   1778\u001b[0m \u001b[0;34m\u001b[0m\u001b[0m\n\u001b[1;32m   1779\u001b[0m     \u001b[0;32mdef\u001b[0m \u001b[0m_generic_can_prepend\u001b[0m\u001b[0;34m(\u001b[0m\u001b[0mself\u001b[0m\u001b[0;34m,\u001b[0m \u001b[0mtrajectory\u001b[0m\u001b[0;34m,\u001b[0m \u001b[0mtrusted\u001b[0m\u001b[0;34m,\u001b[0m \u001b[0mstrict\u001b[0m\u001b[0;34m)\u001b[0m\u001b[0;34m:\u001b[0m\u001b[0;34m\u001b[0m\u001b[0m\n",
      "\u001b[0;32m/Users/dwhs/Dropbox/msm-tis/openpathsampling/ensemble.pyc\u001b[0m in \u001b[0;36m_generic_can_append\u001b[0;34m(self, trajectory, trusted, strict)\u001b[0m\n\u001b[1;32m   1668\u001b[0m             \u001b[0mlogger\u001b[0m\u001b[0;34m.\u001b[0m\u001b[0mdebug\u001b[0m\u001b[0;34m(\u001b[0m\u001b[0;34m\"last_checked = \"\u001b[0m \u001b[0;34m+\u001b[0m \u001b[0mstr\u001b[0m\u001b[0;34m(\u001b[0m\u001b[0mlast_checked\u001b[0m\u001b[0;34m)\u001b[0m\u001b[0;34m)\u001b[0m\u001b[0;34m\u001b[0m\u001b[0m\n\u001b[1;32m   1669\u001b[0m             subtraj_final = self._find_subtraj_final(\n\u001b[0;32m-> 1670\u001b[0;31m                 \u001b[0mtrajectory\u001b[0m\u001b[0;34m,\u001b[0m \u001b[0msubtraj_first\u001b[0m\u001b[0;34m,\u001b[0m \u001b[0mens_num\u001b[0m\u001b[0;34m,\u001b[0m \u001b[0mlast_checked\u001b[0m\u001b[0;34m\u001b[0m\u001b[0m\n\u001b[0m\u001b[1;32m   1671\u001b[0m             )\n\u001b[1;32m   1672\u001b[0m             \u001b[0mcache\u001b[0m\u001b[0;34m.\u001b[0m\u001b[0mlast_length\u001b[0m \u001b[0;34m=\u001b[0m \u001b[0msubtraj_final\u001b[0m\u001b[0;34m\u001b[0m\u001b[0m\n",
      "\u001b[0;32m/Users/dwhs/Dropbox/msm-tis/openpathsampling/ensemble.pyc\u001b[0m in \u001b[0;36m_find_subtraj_final\u001b[0;34m(self, traj, subtraj_first, ens_num, last_checked)\u001b[0m\n\u001b[1;32m   1570\u001b[0m         \u001b[0;31m# logger.debug(\"Can-app \" + str(ens.can_append(subtraj, trusted=True)))\u001b[0m\u001b[0;34m\u001b[0m\u001b[0;34m\u001b[0m\u001b[0m\n\u001b[1;32m   1571\u001b[0m         \u001b[0;31m# logger.debug(\"Call    \" + str(ens(subtraj, trusted=True)))\u001b[0m\u001b[0;34m\u001b[0m\u001b[0;34m\u001b[0m\u001b[0m\n\u001b[0;32m-> 1572\u001b[0;31m         while ((ens.can_append(subtraj, trusted=True) or\n\u001b[0m\u001b[1;32m   1573\u001b[0m                 \u001b[0mens\u001b[0m\u001b[0;34m(\u001b[0m\u001b[0msubtraj\u001b[0m\u001b[0;34m,\u001b[0m \u001b[0mtrusted\u001b[0m\u001b[0;34m=\u001b[0m\u001b[0mTrue\u001b[0m\u001b[0;34m)\u001b[0m\u001b[0;34m\u001b[0m\u001b[0m\n\u001b[1;32m   1574\u001b[0m                 ) and subtraj_final < traj_final):\n",
      "\u001b[0;32m/Users/dwhs/Dropbox/msm-tis/openpathsampling/ensemble.pyc\u001b[0m in \u001b[0;36mcan_append\u001b[0;34m(self, trajectory, trusted)\u001b[0m\n\u001b[1;32m   2092\u001b[0m             \u001b[0;32mreturn\u001b[0m \u001b[0mTrue\u001b[0m\u001b[0;34m\u001b[0m\u001b[0m\n\u001b[1;32m   2093\u001b[0m         \u001b[0;32melif\u001b[0m \u001b[0mtrusted\u001b[0m \u001b[0;32mand\u001b[0m \u001b[0mself\u001b[0m\u001b[0;34m.\u001b[0m\u001b[0m_use_cache\u001b[0m\u001b[0;34m:\u001b[0m\u001b[0;34m\u001b[0m\u001b[0m\n\u001b[0;32m-> 2094\u001b[0;31m             \u001b[0;32mreturn\u001b[0m \u001b[0mself\u001b[0m\u001b[0;34m.\u001b[0m\u001b[0m_trusted_call\u001b[0m\u001b[0;34m(\u001b[0m\u001b[0mtrajectory\u001b[0m\u001b[0;34m,\u001b[0m \u001b[0mself\u001b[0m\u001b[0;34m.\u001b[0m\u001b[0m_cache_can_append\u001b[0m\u001b[0;34m)\u001b[0m\u001b[0;34m\u001b[0m\u001b[0m\n\u001b[0m\u001b[1;32m   2095\u001b[0m         \u001b[0;32melse\u001b[0m\u001b[0;34m:\u001b[0m\u001b[0;34m\u001b[0m\u001b[0m\n\u001b[1;32m   2096\u001b[0m             \u001b[0;32mreturn\u001b[0m \u001b[0mself\u001b[0m\u001b[0;34m(\u001b[0m\u001b[0mtrajectory\u001b[0m\u001b[0;34m)\u001b[0m\u001b[0;34m\u001b[0m\u001b[0m\n",
      "\u001b[0;32m/Users/dwhs/Dropbox/msm-tis/openpathsampling/ensemble.pyc\u001b[0m in \u001b[0;36m_trusted_call\u001b[0;34m(self, trajectory, cache)\u001b[0m\n\u001b[1;32m   2082\u001b[0m             \u001b[0;31m# need to check this frame (no prev traj, or prev traj is True)\u001b[0m\u001b[0;34m\u001b[0m\u001b[0;34m\u001b[0m\u001b[0m\n\u001b[1;32m   2083\u001b[0m             \u001b[0mframe\u001b[0m \u001b[0;34m=\u001b[0m \u001b[0mtrajectory\u001b[0m\u001b[0;34m.\u001b[0m\u001b[0mget_as_proxy\u001b[0m\u001b[0;34m(\u001b[0m\u001b[0mframe_num\u001b[0m\u001b[0;34m)\u001b[0m\u001b[0;34m\u001b[0m\u001b[0m\n\u001b[0;32m-> 2084\u001b[0;31m             \u001b[0mcache\u001b[0m\u001b[0;34m.\u001b[0m\u001b[0mcontents\u001b[0m\u001b[0;34m[\u001b[0m\u001b[0;34m'previous'\u001b[0m\u001b[0;34m]\u001b[0m \u001b[0;34m=\u001b[0m \u001b[0mself\u001b[0m\u001b[0;34m.\u001b[0m\u001b[0m_volume\u001b[0m\u001b[0;34m(\u001b[0m\u001b[0mframe\u001b[0m\u001b[0;34m)\u001b[0m\u001b[0;34m\u001b[0m\u001b[0m\n\u001b[0m\u001b[1;32m   2085\u001b[0m             \u001b[0;32mreturn\u001b[0m \u001b[0mcache\u001b[0m\u001b[0;34m.\u001b[0m\u001b[0mcontents\u001b[0m\u001b[0;34m[\u001b[0m\u001b[0;34m'previous'\u001b[0m\u001b[0;34m]\u001b[0m\u001b[0;34m\u001b[0m\u001b[0m\n\u001b[1;32m   2086\u001b[0m         \u001b[0;32melse\u001b[0m\u001b[0;34m:\u001b[0m\u001b[0;34m\u001b[0m\u001b[0m\n",
      "\u001b[0;32m/Users/dwhs/Dropbox/msm-tis/openpathsampling/volume.pyc\u001b[0m in \u001b[0;36m__call__\u001b[0;34m(self, snapshot)\u001b[0m\n\u001b[1;32m    169\u001b[0m \u001b[0;34m\u001b[0m\u001b[0m\n\u001b[1;32m    170\u001b[0m     \u001b[0;32mdef\u001b[0m \u001b[0m__call__\u001b[0m\u001b[0;34m(\u001b[0m\u001b[0mself\u001b[0m\u001b[0;34m,\u001b[0m \u001b[0msnapshot\u001b[0m\u001b[0;34m)\u001b[0m\u001b[0;34m:\u001b[0m\u001b[0;34m\u001b[0m\u001b[0m\n\u001b[0;32m--> 171\u001b[0;31m         \u001b[0;32mreturn\u001b[0m \u001b[0;32mnot\u001b[0m \u001b[0mself\u001b[0m\u001b[0;34m.\u001b[0m\u001b[0mvolume\u001b[0m\u001b[0;34m(\u001b[0m\u001b[0msnapshot\u001b[0m\u001b[0;34m)\u001b[0m\u001b[0;34m\u001b[0m\u001b[0m\n\u001b[0m\u001b[1;32m    172\u001b[0m \u001b[0;34m\u001b[0m\u001b[0m\n\u001b[1;32m    173\u001b[0m     \u001b[0;32mdef\u001b[0m \u001b[0m__str__\u001b[0m\u001b[0;34m(\u001b[0m\u001b[0mself\u001b[0m\u001b[0;34m)\u001b[0m\u001b[0;34m:\u001b[0m\u001b[0;34m\u001b[0m\u001b[0m\n",
      "\u001b[0;32m/Users/dwhs/Dropbox/msm-tis/openpathsampling/volume.pyc\u001b[0m in \u001b[0;36m__call__\u001b[0;34m(self, snapshot)\u001b[0m\n\u001b[1;32m    120\u001b[0m     \u001b[0;32mdef\u001b[0m \u001b[0m__call__\u001b[0m\u001b[0;34m(\u001b[0m\u001b[0mself\u001b[0m\u001b[0;34m,\u001b[0m \u001b[0msnapshot\u001b[0m\u001b[0;34m)\u001b[0m\u001b[0;34m:\u001b[0m\u001b[0;34m\u001b[0m\u001b[0m\n\u001b[1;32m    121\u001b[0m         \u001b[0;31m# short circuit following JHP's implementation in ensemble.py\u001b[0m\u001b[0;34m\u001b[0m\u001b[0;34m\u001b[0m\u001b[0m\n\u001b[0;32m--> 122\u001b[0;31m         \u001b[0ma\u001b[0m \u001b[0;34m=\u001b[0m \u001b[0mself\u001b[0m\u001b[0;34m.\u001b[0m\u001b[0mvolume1\u001b[0m\u001b[0;34m(\u001b[0m\u001b[0msnapshot\u001b[0m\u001b[0;34m)\u001b[0m\u001b[0;34m\u001b[0m\u001b[0m\n\u001b[0m\u001b[1;32m    123\u001b[0m         \u001b[0mres_true\u001b[0m \u001b[0;34m=\u001b[0m \u001b[0mself\u001b[0m\u001b[0;34m.\u001b[0m\u001b[0mfnc\u001b[0m\u001b[0;34m(\u001b[0m\u001b[0ma\u001b[0m\u001b[0;34m,\u001b[0m \u001b[0mTrue\u001b[0m\u001b[0;34m)\u001b[0m\u001b[0;34m\u001b[0m\u001b[0m\n\u001b[1;32m    124\u001b[0m         \u001b[0mres_false\u001b[0m \u001b[0;34m=\u001b[0m \u001b[0mself\u001b[0m\u001b[0;34m.\u001b[0m\u001b[0mfnc\u001b[0m\u001b[0;34m(\u001b[0m\u001b[0ma\u001b[0m\u001b[0;34m,\u001b[0m \u001b[0mFalse\u001b[0m\u001b[0;34m)\u001b[0m\u001b[0;34m\u001b[0m\u001b[0m\n",
      "\u001b[0;32m/Users/dwhs/Dropbox/msm-tis/openpathsampling/volume.pyc\u001b[0m in \u001b[0;36m__call__\u001b[0;34m(self, snapshot)\u001b[0m\n\u001b[1;32m    126\u001b[0m             \u001b[0;32mreturn\u001b[0m \u001b[0mres_true\u001b[0m\u001b[0;34m\u001b[0m\u001b[0m\n\u001b[1;32m    127\u001b[0m         \u001b[0;32melse\u001b[0m\u001b[0;34m:\u001b[0m\u001b[0;34m\u001b[0m\u001b[0m\n\u001b[0;32m--> 128\u001b[0;31m             \u001b[0mb\u001b[0m \u001b[0;34m=\u001b[0m \u001b[0mself\u001b[0m\u001b[0;34m.\u001b[0m\u001b[0mvolume2\u001b[0m\u001b[0;34m(\u001b[0m\u001b[0msnapshot\u001b[0m\u001b[0;34m)\u001b[0m\u001b[0;34m\u001b[0m\u001b[0m\n\u001b[0m\u001b[1;32m    129\u001b[0m             \u001b[0;32mreturn\u001b[0m \u001b[0mself\u001b[0m\u001b[0;34m.\u001b[0m\u001b[0mfnc\u001b[0m\u001b[0;34m(\u001b[0m\u001b[0ma\u001b[0m\u001b[0;34m,\u001b[0m \u001b[0mb\u001b[0m\u001b[0;34m)\u001b[0m\u001b[0;34m\u001b[0m\u001b[0m\n\u001b[1;32m    130\u001b[0m         \u001b[0;31m#return self.fnc(self.volume1.__call__(snapshot),\u001b[0m\u001b[0;34m\u001b[0m\u001b[0;34m\u001b[0m\u001b[0m\n",
      "\u001b[0;32m/Users/dwhs/Dropbox/msm-tis/openpathsampling/volume.pyc\u001b[0m in \u001b[0;36m__call__\u001b[0;34m(self, snapshot)\u001b[0m\n\u001b[1;32m    471\u001b[0m \u001b[0;34m\u001b[0m\u001b[0m\n\u001b[1;32m    472\u001b[0m     \u001b[0;32mdef\u001b[0m \u001b[0m__call__\u001b[0m\u001b[0;34m(\u001b[0m\u001b[0mself\u001b[0m\u001b[0;34m,\u001b[0m \u001b[0msnapshot\u001b[0m\u001b[0;34m)\u001b[0m\u001b[0;34m:\u001b[0m\u001b[0;34m\u001b[0m\u001b[0m\n\u001b[0;32m--> 473\u001b[0;31m         \u001b[0ml\u001b[0m \u001b[0;34m=\u001b[0m \u001b[0mself\u001b[0m\u001b[0;34m.\u001b[0m\u001b[0mcollectivevariable\u001b[0m\u001b[0;34m(\u001b[0m\u001b[0msnapshot\u001b[0m\u001b[0;34m)\u001b[0m\u001b[0;34m.\u001b[0m\u001b[0m__float__\u001b[0m\u001b[0;34m(\u001b[0m\u001b[0;34m)\u001b[0m\u001b[0;34m\u001b[0m\u001b[0m\n\u001b[0m\u001b[1;32m    474\u001b[0m         \u001b[0;32mif\u001b[0m \u001b[0mself\u001b[0m\u001b[0;34m.\u001b[0m\u001b[0mwrap\u001b[0m\u001b[0;34m:\u001b[0m\u001b[0;34m\u001b[0m\u001b[0m\n\u001b[1;32m    475\u001b[0m             \u001b[0ml\u001b[0m \u001b[0;34m=\u001b[0m \u001b[0mself\u001b[0m\u001b[0;34m.\u001b[0m\u001b[0mdo_wrap\u001b[0m\u001b[0;34m(\u001b[0m\u001b[0ml\u001b[0m\u001b[0;34m)\u001b[0m\u001b[0;34m\u001b[0m\u001b[0m\n",
      "\u001b[0;32m/Users/dwhs/Dropbox/msm-tis/openpathsampling/chaindict.pyc\u001b[0m in \u001b[0;36m__getitem__\u001b[0;34m(self, items)\u001b[0m\n\u001b[1;32m    229\u001b[0m \u001b[0;34m\u001b[0m\u001b[0m\n\u001b[1;32m    230\u001b[0m     \u001b[0;32mdef\u001b[0m \u001b[0m__getitem__\u001b[0m\u001b[0;34m(\u001b[0m\u001b[0mself\u001b[0m\u001b[0;34m,\u001b[0m \u001b[0mitems\u001b[0m\u001b[0;34m)\u001b[0m\u001b[0;34m:\u001b[0m\u001b[0;34m\u001b[0m\u001b[0m\n\u001b[0;32m--> 231\u001b[0;31m         \u001b[0;32mreturn\u001b[0m \u001b[0mself\u001b[0m\u001b[0;34m.\u001b[0m\u001b[0m_post\u001b[0m\u001b[0;34m[\u001b[0m\u001b[0mitems\u001b[0m\u001b[0;34m]\u001b[0m\u001b[0;34m\u001b[0m\u001b[0m\n\u001b[0m\u001b[1;32m    232\u001b[0m \u001b[0;34m\u001b[0m\u001b[0m\n\u001b[1;32m    233\u001b[0m     \u001b[0m__call__\u001b[0m \u001b[0;34m=\u001b[0m \u001b[0m__getitem__\u001b[0m\u001b[0;34m\u001b[0m\u001b[0m\n",
      "\u001b[0;32m/Users/dwhs/Dropbox/msm-tis/openpathsampling/chaindict.pyc\u001b[0m in \u001b[0;36m__getitem__\u001b[0;34m(self, items)\u001b[0m\n\u001b[1;32m    242\u001b[0m \u001b[0;34m\u001b[0m\u001b[0m\n\u001b[1;32m    243\u001b[0m     \u001b[0;32mdef\u001b[0m \u001b[0m__getitem__\u001b[0m\u001b[0;34m(\u001b[0m\u001b[0mself\u001b[0m\u001b[0;34m,\u001b[0m \u001b[0mitems\u001b[0m\u001b[0;34m)\u001b[0m\u001b[0;34m:\u001b[0m\u001b[0;34m\u001b[0m\u001b[0m\n\u001b[0;32m--> 244\u001b[0;31m         \u001b[0;32mreturn\u001b[0m \u001b[0mnp\u001b[0m\u001b[0;34m.\u001b[0m\u001b[0marray\u001b[0m\u001b[0;34m(\u001b[0m\u001b[0mself\u001b[0m\u001b[0;34m.\u001b[0m\u001b[0m_post\u001b[0m\u001b[0;34m[\u001b[0m\u001b[0mitems\u001b[0m\u001b[0;34m]\u001b[0m\u001b[0;34m)\u001b[0m\u001b[0;34m\u001b[0m\u001b[0m\n\u001b[0m\u001b[1;32m    245\u001b[0m \u001b[0;34m\u001b[0m\u001b[0m\n\u001b[1;32m    246\u001b[0m     \u001b[0m__call__\u001b[0m \u001b[0;34m=\u001b[0m \u001b[0m__getitem__\u001b[0m\u001b[0;34m\u001b[0m\u001b[0m\n",
      "\u001b[0;32m/Users/dwhs/Dropbox/msm-tis/openpathsampling/chaindict.pyc\u001b[0m in \u001b[0;36m__getitem__\u001b[0;34m(self, items)\u001b[0m\n\u001b[1;32m    257\u001b[0m     \u001b[0;32mdef\u001b[0m \u001b[0m__getitem__\u001b[0m\u001b[0;34m(\u001b[0m\u001b[0mself\u001b[0m\u001b[0;34m,\u001b[0m \u001b[0mitems\u001b[0m\u001b[0;34m)\u001b[0m\u001b[0;34m:\u001b[0m\u001b[0;34m\u001b[0m\u001b[0m\n\u001b[1;32m    258\u001b[0m         \u001b[0;32mif\u001b[0m \u001b[0mtype\u001b[0m\u001b[0;34m(\u001b[0m\u001b[0mitems\u001b[0m\u001b[0;34m)\u001b[0m \u001b[0;32mis\u001b[0m \u001b[0mLoaderProxy\u001b[0m\u001b[0;34m:\u001b[0m\u001b[0;34m\u001b[0m\u001b[0m\n\u001b[0;32m--> 259\u001b[0;31m             \u001b[0;32mreturn\u001b[0m \u001b[0mself\u001b[0m\u001b[0;34m.\u001b[0m\u001b[0m_post\u001b[0m\u001b[0;34m[\u001b[0m\u001b[0;34m[\u001b[0m\u001b[0mitems\u001b[0m\u001b[0;34m]\u001b[0m\u001b[0;34m]\u001b[0m\u001b[0;34m[\u001b[0m\u001b[0;36m0\u001b[0m\u001b[0;34m]\u001b[0m\u001b[0;34m\u001b[0m\u001b[0m\n\u001b[0m\u001b[1;32m    260\u001b[0m         \u001b[0;32mif\u001b[0m \u001b[0mhasattr\u001b[0m\u001b[0;34m(\u001b[0m\u001b[0mitems\u001b[0m\u001b[0;34m,\u001b[0m \u001b[0;34m'__iter__'\u001b[0m\u001b[0;34m)\u001b[0m\u001b[0;34m:\u001b[0m\u001b[0;34m\u001b[0m\u001b[0m\n\u001b[1;32m    261\u001b[0m             \u001b[0;32mtry\u001b[0m\u001b[0;34m:\u001b[0m\u001b[0;34m\u001b[0m\u001b[0m\n",
      "\u001b[0;32m/Users/dwhs/Dropbox/msm-tis/openpathsampling/chaindict.pyc\u001b[0m in \u001b[0;36m__getitem__\u001b[0;34m(self, items)\u001b[0m\n\u001b[1;32m     70\u001b[0m                 \u001b[0;32mreturn\u001b[0m \u001b[0mresults\u001b[0m\u001b[0;34m\u001b[0m\u001b[0m\n\u001b[1;32m     71\u001b[0m             \u001b[0;32melse\u001b[0m\u001b[0;34m:\u001b[0m\u001b[0;34m\u001b[0m\u001b[0m\n\u001b[0;32m---> 72\u001b[0;31m                 \u001b[0mrep\u001b[0m \u001b[0;34m=\u001b[0m \u001b[0mself\u001b[0m\u001b[0;34m.\u001b[0m\u001b[0m_post\u001b[0m\u001b[0;34m[\u001b[0m\u001b[0mnones\u001b[0m\u001b[0;34m]\u001b[0m\u001b[0;34m\u001b[0m\u001b[0m\n\u001b[0m\u001b[1;32m     73\u001b[0m                 \u001b[0mself\u001b[0m\u001b[0;34m.\u001b[0m\u001b[0m_set_list\u001b[0m\u001b[0;34m(\u001b[0m\u001b[0mnones\u001b[0m\u001b[0;34m,\u001b[0m \u001b[0mrep\u001b[0m\u001b[0;34m)\u001b[0m\u001b[0;34m\u001b[0m\u001b[0m\n\u001b[1;32m     74\u001b[0m \u001b[0;34m\u001b[0m\u001b[0m\n",
      "\u001b[0;32m/Users/dwhs/Dropbox/msm-tis/openpathsampling/chaindict.pyc\u001b[0m in \u001b[0;36m__getitem__\u001b[0;34m(self, items)\u001b[0m\n\u001b[1;32m     63\u001b[0m         \u001b[0;31m# print 'get %d items using %s' % (len(items), self.__class__.__name__)\u001b[0m\u001b[0;34m\u001b[0m\u001b[0;34m\u001b[0m\u001b[0m\n\u001b[1;32m     64\u001b[0m \u001b[0;34m\u001b[0m\u001b[0m\n\u001b[0;32m---> 65\u001b[0;31m         \u001b[0mresults\u001b[0m \u001b[0;34m=\u001b[0m \u001b[0mself\u001b[0m\u001b[0;34m.\u001b[0m\u001b[0m_get_list\u001b[0m\u001b[0;34m(\u001b[0m\u001b[0mitems\u001b[0m\u001b[0;34m)\u001b[0m\u001b[0;34m\u001b[0m\u001b[0m\n\u001b[0m\u001b[1;32m     66\u001b[0m \u001b[0;34m\u001b[0m\u001b[0m\n\u001b[1;32m     67\u001b[0m         \u001b[0;32mif\u001b[0m \u001b[0mself\u001b[0m\u001b[0;34m.\u001b[0m\u001b[0m_post\u001b[0m \u001b[0;32mis\u001b[0m \u001b[0;32mnot\u001b[0m \u001b[0mNone\u001b[0m\u001b[0;34m:\u001b[0m\u001b[0;34m\u001b[0m\u001b[0m\n",
      "\u001b[0;32m/Users/dwhs/Dropbox/msm-tis/openpathsampling/chaindict.pyc\u001b[0m in \u001b[0;36m_get_list\u001b[0;34m(self, items)\u001b[0m\n\u001b[1;32m    335\u001b[0m \u001b[0;34m\u001b[0m\u001b[0m\n\u001b[1;32m    336\u001b[0m         \u001b[0;32mif\u001b[0m \u001b[0mself\u001b[0m\u001b[0;34m.\u001b[0m\u001b[0mrequires_lists\u001b[0m\u001b[0;34m:\u001b[0m\u001b[0;34m\u001b[0m\u001b[0m\n\u001b[0;32m--> 337\u001b[0;31m             \u001b[0mresults\u001b[0m \u001b[0;34m=\u001b[0m \u001b[0mself\u001b[0m\u001b[0;34m.\u001b[0m\u001b[0m_eval\u001b[0m\u001b[0;34m(\u001b[0m\u001b[0mitems\u001b[0m\u001b[0;34m)\u001b[0m\u001b[0;34m\u001b[0m\u001b[0m\n\u001b[0m\u001b[1;32m    338\u001b[0m \u001b[0;34m\u001b[0m\u001b[0m\n\u001b[1;32m    339\u001b[0m             \u001b[0;32mif\u001b[0m \u001b[0mself\u001b[0m\u001b[0;34m.\u001b[0m\u001b[0mscalarize_numpy_singletons\u001b[0m \u001b[0;32mand\u001b[0m \u001b[0mresults\u001b[0m\u001b[0;34m.\u001b[0m\u001b[0mshape\u001b[0m\u001b[0;34m[\u001b[0m\u001b[0;34m-\u001b[0m\u001b[0;36m1\u001b[0m\u001b[0;34m]\u001b[0m \u001b[0;34m==\u001b[0m \u001b[0;36m1\u001b[0m\u001b[0;34m:\u001b[0m\u001b[0;34m\u001b[0m\u001b[0m\n",
      "\u001b[0;32m/Users/dwhs/Dropbox/msm-tis/openpathsampling/collectivevariable.pyc\u001b[0m in \u001b[0;36m_eval\u001b[0;34m(self, items)\u001b[0m\n\u001b[1;32m    647\u001b[0m         \u001b[0mtrajectory\u001b[0m \u001b[0;34m=\u001b[0m \u001b[0mpeng\u001b[0m\u001b[0;34m.\u001b[0m\u001b[0mTrajectory\u001b[0m\u001b[0;34m(\u001b[0m\u001b[0mitems\u001b[0m\u001b[0;34m)\u001b[0m\u001b[0;34m\u001b[0m\u001b[0m\n\u001b[1;32m    648\u001b[0m \u001b[0;34m\u001b[0m\u001b[0m\n\u001b[0;32m--> 649\u001b[0;31m         \u001b[0mt\u001b[0m \u001b[0;34m=\u001b[0m \u001b[0mtrajectory_to_mdtraj\u001b[0m\u001b[0;34m(\u001b[0m\u001b[0mtrajectory\u001b[0m\u001b[0;34m,\u001b[0m \u001b[0mself\u001b[0m\u001b[0;34m.\u001b[0m\u001b[0mtopology\u001b[0m\u001b[0;34m.\u001b[0m\u001b[0mmdtraj\u001b[0m\u001b[0;34m)\u001b[0m\u001b[0;34m\u001b[0m\u001b[0m\n\u001b[0m\u001b[1;32m    650\u001b[0m         \u001b[0;32mreturn\u001b[0m \u001b[0mself\u001b[0m\u001b[0;34m.\u001b[0m\u001b[0mcv_callable\u001b[0m\u001b[0;34m(\u001b[0m\u001b[0mt\u001b[0m\u001b[0;34m,\u001b[0m \u001b[0;34m**\u001b[0m\u001b[0mself\u001b[0m\u001b[0;34m.\u001b[0m\u001b[0mkwargs\u001b[0m\u001b[0;34m)\u001b[0m\u001b[0;34m\u001b[0m\u001b[0m\n\u001b[1;32m    651\u001b[0m \u001b[0;34m\u001b[0m\u001b[0m\n",
      "\u001b[0;32m/Users/dwhs/Dropbox/msm-tis/openpathsampling/engines/openmm/tools.pyc\u001b[0m in \u001b[0;36mtrajectory_to_mdtraj\u001b[0;34m(trajectory, md_topology)\u001b[0m\n\u001b[1;32m    314\u001b[0m \u001b[0;34m\u001b[0m\u001b[0m\n\u001b[1;32m    315\u001b[0m     \u001b[0;31m# TODO: Use units to make sure we did not rescale accidentally!\u001b[0m\u001b[0;34m\u001b[0m\u001b[0;34m\u001b[0m\u001b[0m\n\u001b[0;32m--> 316\u001b[0;31m     \u001b[0moutput\u001b[0m \u001b[0;34m=\u001b[0m \u001b[0mtrajectory\u001b[0m\u001b[0;34m.\u001b[0m\u001b[0mxyz\u001b[0m\u001b[0;34m\u001b[0m\u001b[0m\n\u001b[0m\u001b[1;32m    317\u001b[0m \u001b[0;34m\u001b[0m\u001b[0m\n\u001b[1;32m    318\u001b[0m     \u001b[0;32mreturn\u001b[0m \u001b[0mmd\u001b[0m\u001b[0;34m.\u001b[0m\u001b[0mTrajectory\u001b[0m\u001b[0;34m(\u001b[0m\u001b[0moutput\u001b[0m\u001b[0;34m,\u001b[0m \u001b[0mmd_topology\u001b[0m\u001b[0;34m)\u001b[0m\u001b[0;34m\u001b[0m\u001b[0m\n",
      "\u001b[0;32m/Users/dwhs/Dropbox/msm-tis/openpathsampling/engines/trajectory.pyc\u001b[0m in \u001b[0;36m__getattr__\u001b[0;34m(self, item)\u001b[0m\n\u001b[1;32m    131\u001b[0m                     \u001b[0mhasattr\u001b[0m\u001b[0;34m(\u001b[0m\u001b[0msnapshot_class\u001b[0m\u001b[0;34m,\u001b[0m \u001b[0;34m'__features__'\u001b[0m\u001b[0;34m)\u001b[0m\u001b[0;31m \u001b[0m\u001b[0;31m\\\u001b[0m\u001b[0;34m\u001b[0m\u001b[0m\n\u001b[1;32m    132\u001b[0m                     \u001b[0;32mand\u001b[0m \u001b[0mitem\u001b[0m \u001b[0;32min\u001b[0m \u001b[0msnapshot_class\u001b[0m\u001b[0;34m.\u001b[0m\u001b[0m__features__\u001b[0m\u001b[0;34m.\u001b[0m\u001b[0mvariables\u001b[0m\u001b[0;34m:\u001b[0m\u001b[0;34m\u001b[0m\u001b[0m\n\u001b[0;32m--> 133\u001b[0;31m                 \u001b[0mfirst\u001b[0m \u001b[0;34m=\u001b[0m \u001b[0mgetattr\u001b[0m\u001b[0;34m(\u001b[0m\u001b[0mself\u001b[0m\u001b[0;34m[\u001b[0m\u001b[0;36m0\u001b[0m\u001b[0;34m]\u001b[0m\u001b[0;34m,\u001b[0m \u001b[0mitem\u001b[0m\u001b[0;34m)\u001b[0m\u001b[0;34m\u001b[0m\u001b[0m\n\u001b[0m\u001b[1;32m    134\u001b[0m                 \u001b[0;32mif\u001b[0m \u001b[0mtype\u001b[0m\u001b[0;34m(\u001b[0m\u001b[0mfirst\u001b[0m\u001b[0;34m)\u001b[0m \u001b[0;32mis\u001b[0m \u001b[0mu\u001b[0m\u001b[0;34m.\u001b[0m\u001b[0mQuantity\u001b[0m\u001b[0;34m:\u001b[0m\u001b[0;34m\u001b[0m\u001b[0m\n\u001b[1;32m    135\u001b[0m                     \u001b[0minner\u001b[0m \u001b[0;34m=\u001b[0m \u001b[0mfirst\u001b[0m\u001b[0;34m.\u001b[0m\u001b[0m_value\u001b[0m\u001b[0;34m\u001b[0m\u001b[0m\n",
      "\u001b[0;32m/Users/dwhs/Dropbox/msm-tis/openpathsampling/engines/features/statics.pyc\u001b[0m in \u001b[0;36mxyz\u001b[0;34m(snapshot)\u001b[0m\n\u001b[1;32m     94\u001b[0m     \u001b[0;32mimport\u001b[0m \u001b[0msimtk\u001b[0m\u001b[0;34m.\u001b[0m\u001b[0munit\u001b[0m \u001b[0;32mas\u001b[0m \u001b[0mu\u001b[0m\u001b[0;34m\u001b[0m\u001b[0m\n\u001b[1;32m     95\u001b[0m \u001b[0;34m\u001b[0m\u001b[0m\n\u001b[0;32m---> 96\u001b[0;31m     \u001b[0mcoord\u001b[0m \u001b[0;34m=\u001b[0m \u001b[0msnapshot\u001b[0m\u001b[0;34m.\u001b[0m\u001b[0mcoordinates\u001b[0m\u001b[0;34m\u001b[0m\u001b[0m\n\u001b[0m\u001b[1;32m     97\u001b[0m     \u001b[0;32mif\u001b[0m \u001b[0mtype\u001b[0m\u001b[0;34m(\u001b[0m\u001b[0mcoord\u001b[0m\u001b[0;34m)\u001b[0m \u001b[0;32mis\u001b[0m \u001b[0mu\u001b[0m\u001b[0;34m.\u001b[0m\u001b[0mQuantity\u001b[0m\u001b[0;34m:\u001b[0m\u001b[0;34m\u001b[0m\u001b[0m\n\u001b[1;32m     98\u001b[0m         \u001b[0;32mreturn\u001b[0m \u001b[0mcoord\u001b[0m\u001b[0;34m.\u001b[0m\u001b[0m_value\u001b[0m\u001b[0;34m\u001b[0m\u001b[0m\n",
      "\u001b[0;32m/Users/dwhs/Dropbox/msm-tis/openpathsampling/engines/features/statics.pyc\u001b[0m in \u001b[0;36mcoordinates\u001b[0;34m(snapshot)\u001b[0m\n\u001b[1;32m     41\u001b[0m \u001b[0;34m\u001b[0m\u001b[0m\n\u001b[1;32m     42\u001b[0m     \u001b[0;32mif\u001b[0m \u001b[0msnapshot\u001b[0m\u001b[0;34m.\u001b[0m\u001b[0mstatics\u001b[0m \u001b[0;32mis\u001b[0m \u001b[0;32mnot\u001b[0m \u001b[0mNone\u001b[0m\u001b[0;34m:\u001b[0m\u001b[0;34m\u001b[0m\u001b[0m\n\u001b[0;32m---> 43\u001b[0;31m         \u001b[0;32mreturn\u001b[0m \u001b[0msnapshot\u001b[0m\u001b[0;34m.\u001b[0m\u001b[0mstatics\u001b[0m\u001b[0;34m.\u001b[0m\u001b[0mcoordinates\u001b[0m\u001b[0;34m\u001b[0m\u001b[0m\n\u001b[0m\u001b[1;32m     44\u001b[0m \u001b[0;34m\u001b[0m\u001b[0m\n\u001b[1;32m     45\u001b[0m     \u001b[0;32mreturn\u001b[0m \u001b[0mNone\u001b[0m\u001b[0;34m\u001b[0m\u001b[0m\n",
      "\u001b[0;32m/Users/dwhs/Dropbox/msm-tis/openpathsampling/netcdfplus/proxy.pyc\u001b[0m in \u001b[0;36m__get__\u001b[0;34m(self, instance, owner)\u001b[0m\n\u001b[1;32m    102\u001b[0m             \u001b[0mobj\u001b[0m \u001b[0;34m=\u001b[0m \u001b[0minstance\u001b[0m\u001b[0;34m.\u001b[0m\u001b[0m_lazy\u001b[0m\u001b[0;34m[\u001b[0m\u001b[0mself\u001b[0m\u001b[0;34m]\u001b[0m\u001b[0;34m\u001b[0m\u001b[0m\n\u001b[1;32m    103\u001b[0m             \u001b[0;32mif\u001b[0m \u001b[0mhasattr\u001b[0m\u001b[0;34m(\u001b[0m\u001b[0mobj\u001b[0m\u001b[0;34m,\u001b[0m \u001b[0;34m'_idx'\u001b[0m\u001b[0;34m)\u001b[0m\u001b[0;34m:\u001b[0m\u001b[0;34m\u001b[0m\u001b[0m\n\u001b[0;32m--> 104\u001b[0;31m                 \u001b[0;32mreturn\u001b[0m \u001b[0mobj\u001b[0m\u001b[0;34m.\u001b[0m\u001b[0m__subject__\u001b[0m\u001b[0;34m\u001b[0m\u001b[0m\n\u001b[0m\u001b[1;32m    105\u001b[0m             \u001b[0;32melse\u001b[0m\u001b[0;34m:\u001b[0m\u001b[0;34m\u001b[0m\u001b[0m\n\u001b[1;32m    106\u001b[0m                 \u001b[0;32mreturn\u001b[0m \u001b[0mobj\u001b[0m\u001b[0;34m\u001b[0m\u001b[0m\n",
      "\u001b[0;32m/Users/dwhs/Dropbox/msm-tis/openpathsampling/netcdfplus/proxy.pyc\u001b[0m in \u001b[0;36m__subject__\u001b[0;34m(self)\u001b[0m\n\u001b[1;32m     32\u001b[0m                 \u001b[0;32mreturn\u001b[0m \u001b[0mobj\u001b[0m\u001b[0;34m\u001b[0m\u001b[0m\n\u001b[1;32m     33\u001b[0m \u001b[0;34m\u001b[0m\u001b[0m\n\u001b[0;32m---> 34\u001b[0;31m         \u001b[0mref\u001b[0m \u001b[0;34m=\u001b[0m \u001b[0mself\u001b[0m\u001b[0;34m.\u001b[0m\u001b[0m_load_\u001b[0m\u001b[0;34m(\u001b[0m\u001b[0;34m)\u001b[0m\u001b[0;34m\u001b[0m\u001b[0m\n\u001b[0m\u001b[1;32m     35\u001b[0m \u001b[0;34m\u001b[0m\u001b[0m\n\u001b[1;32m     36\u001b[0m         \u001b[0;32mif\u001b[0m \u001b[0mref\u001b[0m \u001b[0;32mis\u001b[0m \u001b[0mNone\u001b[0m\u001b[0;34m:\u001b[0m\u001b[0;34m\u001b[0m\u001b[0m\n",
      "\u001b[0;32m/Users/dwhs/Dropbox/msm-tis/openpathsampling/netcdfplus/proxy.pyc\u001b[0m in \u001b[0;36m_load_\u001b[0;34m(self)\u001b[0m\n\u001b[1;32m     80\u001b[0m         \"\"\"\n\u001b[1;32m     81\u001b[0m         \u001b[0;32mtry\u001b[0m\u001b[0;34m:\u001b[0m\u001b[0;34m\u001b[0m\u001b[0m\n\u001b[0;32m---> 82\u001b[0;31m             \u001b[0;32mreturn\u001b[0m \u001b[0mself\u001b[0m\u001b[0;34m.\u001b[0m\u001b[0m_store\u001b[0m\u001b[0;34m[\u001b[0m\u001b[0mself\u001b[0m\u001b[0;34m.\u001b[0m\u001b[0m_idx\u001b[0m\u001b[0;34m]\u001b[0m\u001b[0;34m\u001b[0m\u001b[0m\n\u001b[0m\u001b[1;32m     83\u001b[0m         \u001b[0;32mexcept\u001b[0m \u001b[0mKeyError\u001b[0m\u001b[0;34m:\u001b[0m\u001b[0;34m\u001b[0m\u001b[0m\n\u001b[1;32m     84\u001b[0m             \u001b[0;32mif\u001b[0m \u001b[0mtype\u001b[0m\u001b[0;34m(\u001b[0m\u001b[0mself\u001b[0m\u001b[0;34m.\u001b[0m\u001b[0m_idx\u001b[0m\u001b[0;34m)\u001b[0m \u001b[0;32mis\u001b[0m \u001b[0mint\u001b[0m\u001b[0;34m:\u001b[0m\u001b[0;34m\u001b[0m\u001b[0m\n",
      "\u001b[0;32m/Users/dwhs/Dropbox/msm-tis/openpathsampling/netcdfplus/objects.pyc\u001b[0m in \u001b[0;36m__getitem__\u001b[0;34m(self, item)\u001b[0m\n\u001b[1;32m    444\u001b[0m         \u001b[0;32mtry\u001b[0m\u001b[0;34m:\u001b[0m\u001b[0;34m\u001b[0m\u001b[0m\n\u001b[1;32m    445\u001b[0m             \u001b[0;32mif\u001b[0m \u001b[0mtype\u001b[0m\u001b[0;34m(\u001b[0m\u001b[0mitem\u001b[0m\u001b[0;34m)\u001b[0m \u001b[0;32mis\u001b[0m \u001b[0mint\u001b[0m \u001b[0;32mor\u001b[0m \u001b[0mtype\u001b[0m\u001b[0;34m(\u001b[0m\u001b[0mitem\u001b[0m\u001b[0;34m)\u001b[0m \u001b[0;32mis\u001b[0m \u001b[0mstr\u001b[0m \u001b[0;32mor\u001b[0m \u001b[0mtype\u001b[0m\u001b[0;34m(\u001b[0m\u001b[0mitem\u001b[0m\u001b[0;34m)\u001b[0m \u001b[0;32mis\u001b[0m \u001b[0mUUID\u001b[0m\u001b[0;34m:\u001b[0m\u001b[0;34m\u001b[0m\u001b[0m\n\u001b[0;32m--> 446\u001b[0;31m                 \u001b[0;32mreturn\u001b[0m \u001b[0mself\u001b[0m\u001b[0;34m.\u001b[0m\u001b[0mload\u001b[0m\u001b[0;34m(\u001b[0m\u001b[0mitem\u001b[0m\u001b[0;34m)\u001b[0m\u001b[0;34m\u001b[0m\u001b[0m\n\u001b[0m\u001b[1;32m    447\u001b[0m             \u001b[0;32melif\u001b[0m \u001b[0mtype\u001b[0m\u001b[0;34m(\u001b[0m\u001b[0mitem\u001b[0m\u001b[0;34m)\u001b[0m \u001b[0;32mis\u001b[0m \u001b[0mslice\u001b[0m\u001b[0;34m:\u001b[0m\u001b[0;34m\u001b[0m\u001b[0m\n\u001b[1;32m    448\u001b[0m                 return [self.load(idx)\n",
      "\u001b[0;32m/Users/dwhs/Dropbox/msm-tis/openpathsampling/netcdfplus/objects.pyc\u001b[0m in \u001b[0;36mload\u001b[0;34m(self, idx)\u001b[0m\n\u001b[1;32m    789\u001b[0m \u001b[0;34m\u001b[0m\u001b[0m\n\u001b[1;32m    790\u001b[0m             \u001b[0;31m# update cache there might have been a change due to naming\u001b[0m\u001b[0;34m\u001b[0m\u001b[0;34m\u001b[0m\u001b[0m\n\u001b[0;32m--> 791\u001b[0;31m             \u001b[0mself\u001b[0m\u001b[0;34m.\u001b[0m\u001b[0mindex\u001b[0m\u001b[0;34m[\u001b[0m\u001b[0mobj\u001b[0m\u001b[0;34m]\u001b[0m \u001b[0;34m=\u001b[0m \u001b[0mn_idx\u001b[0m\u001b[0;34m\u001b[0m\u001b[0m\n\u001b[0m\u001b[1;32m    792\u001b[0m             \u001b[0mself\u001b[0m\u001b[0;34m.\u001b[0m\u001b[0mcache\u001b[0m\u001b[0;34m[\u001b[0m\u001b[0mn_idx\u001b[0m\u001b[0;34m]\u001b[0m \u001b[0;34m=\u001b[0m \u001b[0mobj\u001b[0m\u001b[0;34m\u001b[0m\u001b[0m\n\u001b[1;32m    793\u001b[0m \u001b[0;34m\u001b[0m\u001b[0m\n",
      "\u001b[0;32m/Users/dwhs/Dropbox/msm-tis/openpathsampling/netcdfplus/objects.pyc\u001b[0m in \u001b[0;36m__setitem__\u001b[0;34m(self, key, value, **kwargs)\u001b[0m\n\u001b[1;32m     34\u001b[0m \u001b[0;34m\u001b[0m\u001b[0m\n\u001b[1;32m     35\u001b[0m     \u001b[0;32mdef\u001b[0m \u001b[0m__setitem__\u001b[0m\u001b[0;34m(\u001b[0m\u001b[0mself\u001b[0m\u001b[0;34m,\u001b[0m \u001b[0mkey\u001b[0m\u001b[0;34m,\u001b[0m \u001b[0mvalue\u001b[0m\u001b[0;34m,\u001b[0m \u001b[0;34m**\u001b[0m\u001b[0mkwargs\u001b[0m\u001b[0;34m)\u001b[0m\u001b[0;34m:\u001b[0m\u001b[0;34m\u001b[0m\u001b[0m\n\u001b[0;32m---> 36\u001b[0;31m         \u001b[0mOrderedDict\u001b[0m\u001b[0;34m.\u001b[0m\u001b[0m__setitem__\u001b[0m\u001b[0;34m(\u001b[0m\u001b[0mself\u001b[0m\u001b[0;34m,\u001b[0m \u001b[0mself\u001b[0m\u001b[0;34m.\u001b[0m\u001b[0mid\u001b[0m\u001b[0;34m(\u001b[0m\u001b[0mkey\u001b[0m\u001b[0;34m)\u001b[0m\u001b[0;34m,\u001b[0m \u001b[0mvalue\u001b[0m\u001b[0;34m)\u001b[0m\u001b[0;34m\u001b[0m\u001b[0m\n\u001b[0m\u001b[1;32m     37\u001b[0m \u001b[0;34m\u001b[0m\u001b[0m\n\u001b[1;32m     38\u001b[0m     \u001b[0;32mdef\u001b[0m \u001b[0m__delitem__\u001b[0m\u001b[0;34m(\u001b[0m\u001b[0mself\u001b[0m\u001b[0;34m,\u001b[0m \u001b[0mkey\u001b[0m\u001b[0;34m,\u001b[0m \u001b[0;34m**\u001b[0m\u001b[0mkwargs\u001b[0m\u001b[0;34m)\u001b[0m\u001b[0;34m:\u001b[0m\u001b[0;34m\u001b[0m\u001b[0m\n",
      "\u001b[0;32m/opt/local/Library/Frameworks/Python.framework/Versions/2.7/lib/python2.7/collections.pyc\u001b[0m in \u001b[0;36m__setitem__\u001b[0;34m(self, key, value, dict_setitem)\u001b[0m\n\u001b[1;32m     73\u001b[0m         \u001b[0;31m# Setting a new item creates a new link at the end of the linked list,\u001b[0m\u001b[0;34m\u001b[0m\u001b[0;34m\u001b[0m\u001b[0m\n\u001b[1;32m     74\u001b[0m         \u001b[0;31m# and the inherited dictionary is updated with the new key/value pair.\u001b[0m\u001b[0;34m\u001b[0m\u001b[0;34m\u001b[0m\u001b[0m\n\u001b[0;32m---> 75\u001b[0;31m         \u001b[0;32mif\u001b[0m \u001b[0mkey\u001b[0m \u001b[0;32mnot\u001b[0m \u001b[0;32min\u001b[0m \u001b[0mself\u001b[0m\u001b[0;34m:\u001b[0m\u001b[0;34m\u001b[0m\u001b[0m\n\u001b[0m\u001b[1;32m     76\u001b[0m             \u001b[0mroot\u001b[0m \u001b[0;34m=\u001b[0m \u001b[0mself\u001b[0m\u001b[0;34m.\u001b[0m\u001b[0m__root\u001b[0m\u001b[0;34m\u001b[0m\u001b[0m\n\u001b[1;32m     77\u001b[0m             \u001b[0mlast\u001b[0m \u001b[0;34m=\u001b[0m \u001b[0mroot\u001b[0m\u001b[0;34m[\u001b[0m\u001b[0;36m0\u001b[0m\u001b[0;34m]\u001b[0m\u001b[0;34m\u001b[0m\u001b[0m\n",
      "\u001b[0;32m/Users/dwhs/Dropbox/msm-tis/openpathsampling/netcdfplus/objects.pyc\u001b[0m in \u001b[0;36m__contains__\u001b[0;34m(self, item)\u001b[0m\n\u001b[1;32m     40\u001b[0m \u001b[0;34m\u001b[0m\u001b[0m\n\u001b[1;32m     41\u001b[0m     \u001b[0;32mdef\u001b[0m \u001b[0m__contains__\u001b[0m\u001b[0;34m(\u001b[0m\u001b[0mself\u001b[0m\u001b[0;34m,\u001b[0m \u001b[0mitem\u001b[0m\u001b[0;34m)\u001b[0m\u001b[0;34m:\u001b[0m\u001b[0;34m\u001b[0m\u001b[0m\n\u001b[0;32m---> 42\u001b[0;31m         \u001b[0;32mreturn\u001b[0m \u001b[0mOrderedDict\u001b[0m\u001b[0;34m.\u001b[0m\u001b[0m__contains__\u001b[0m\u001b[0;34m(\u001b[0m\u001b[0mself\u001b[0m\u001b[0;34m,\u001b[0m \u001b[0mself\u001b[0m\u001b[0;34m.\u001b[0m\u001b[0mid\u001b[0m\u001b[0;34m(\u001b[0m\u001b[0mitem\u001b[0m\u001b[0;34m)\u001b[0m\u001b[0;34m)\u001b[0m\u001b[0;34m\u001b[0m\u001b[0m\n\u001b[0m\u001b[1;32m     43\u001b[0m \u001b[0;34m\u001b[0m\u001b[0m\n\u001b[1;32m     44\u001b[0m     \u001b[0;32mdef\u001b[0m \u001b[0mget\u001b[0m\u001b[0;34m(\u001b[0m\u001b[0mself\u001b[0m\u001b[0;34m,\u001b[0m \u001b[0mitem\u001b[0m\u001b[0;34m,\u001b[0m \u001b[0mdefault\u001b[0m\u001b[0;34m=\u001b[0m\u001b[0mNone\u001b[0m\u001b[0;34m)\u001b[0m\u001b[0;34m:\u001b[0m\u001b[0;34m\u001b[0m\u001b[0m\n",
      "\u001b[0;31mKeyboardInterrupt\u001b[0m: "
     ]
    }
   ],
   "source": [
    "%%time\n",
    "# transition path length distribution\n",
    "flex_ens = flex_scheme.network.sampling_ensembles[0]\n",
    "fixed_transition_segments = sum([flex_ens.split(step.active[0].trajectory) for step in fixed.steps],[])\n",
    "fixed_transition_length = [len(traj) for traj in fixed_transition_segments]"
   ]
  },
  {
   "cell_type": "code",
   "execution_count": 33,
   "metadata": {
    "collapsed": false
   },
   "outputs": [
    {
     "ename": "NameError",
     "evalue": "name 'fixed_transition_length' is not defined",
     "output_type": "error",
     "traceback": [
      "\u001b[0;31m---------------------------------------------------------------------------\u001b[0m",
      "\u001b[0;31mNameError\u001b[0m                                 Traceback (most recent call last)",
      "\u001b[0;32m<ipython-input-33-654012a027fc>\u001b[0m in \u001b[0;36m<module>\u001b[0;34m()\u001b[0m\n\u001b[0;32m----> 1\u001b[0;31m \u001b[0;32mprint\u001b[0m \u001b[0mlen\u001b[0m\u001b[0;34m(\u001b[0m\u001b[0mfixed_transition_length\u001b[0m\u001b[0;34m)\u001b[0m\u001b[0;34m\u001b[0m\u001b[0m\n\u001b[0m",
      "\u001b[0;31mNameError\u001b[0m: name 'fixed_transition_length' is not defined"
     ]
    }
   ],
   "source": [
    "print len(fixed_transition_length)"
   ]
  },
  {
   "cell_type": "code",
   "execution_count": null,
   "metadata": {
    "collapsed": false
   },
   "outputs": [],
   "source": [
    "bins = np.linspace(0, 400, 80);\n",
    "plt.hist(path_lengths, bins, alpha=0.5, normed=True, label=\"flexible\");\n",
    "plt.hist(fixed_transition_length, bins, alpha=0.5, normed=True, label=\"fixed\");\n",
    "plt.legend(loc='upper right');"
   ]
  },
  {
   "cell_type": "markdown",
   "metadata": {},
   "source": [
    "#### Identifying different mechanisms using custom ensembles\n",
    "\n",
    "We expected the plot above to be very similar for both cases. However, we know that the $\\alpha\\to\\beta$ transition in alanine dipeptide can occur via two mechanisms: since $\\psi$ is periodic, the transition can occur due to an overall increase in $\\psi$, or due to an overall decrease in $\\psi$. We also know that the alanine dipeptide transitions aren't actually all that rare, so they will occur spontaneously in long simulations.\n",
    "\n",
    "\n",
    "This section shows how to create custom ensembles to identify whether the transition occurred with an increasing $\\psi$ or a decreasing $\\psi$. We also need to account for (unlikely) edge cases where the path starts in one direction but completes the transition from the other."
   ]
  },
  {
   "cell_type": "markdown",
   "metadata": {},
   "source": [
    "First, we'll create a few more `Volume` objects. In this case, we will completely tile the Ramachandran space; while a complete tiling isn't necessary, it is often useful."
   ]
  },
  {
   "cell_type": "code",
   "execution_count": null,
   "metadata": {
    "collapsed": false
   },
   "outputs": [],
   "source": [
    "# first, we fully subdivide the Ramachandran space\n",
    "phi = fixed.cvs.find('phi')\n",
    "deg = 180.0/np.pi\n",
    "nml_plus = paths.PeriodicCVDefinedVolume(psi, -160/deg, -100/deg, -np.pi, np.pi)\n",
    "nml_minus = paths.PeriodicCVDefinedVolume(psi, 0/deg, 100/deg, -np.pi, np.pi)\n",
    "nml_alpha = (paths.PeriodicCVDefinedVolume(phi, 0/deg, 180/deg, -np.pi, np.pi) &\n",
    "             paths.PeriodicCVDefinedVolume(psi, 100/deg, 200/deg, -np.pi, np.pi))\n",
    "nml_beta = (paths.PeriodicCVDefinedVolume(phi, 0/deg, 180/deg, -np.pi, np.pi) &\n",
    "            paths.PeriodicCVDefinedVolume(psi, -100/deg, 0/deg, -np.pi, np.pi))"
   ]
  },
  {
   "cell_type": "code",
   "execution_count": null,
   "metadata": {
    "collapsed": false
   },
   "outputs": [],
   "source": [
    "#TODO: plot to display where these volumes are"
   ]
  },
  {
   "cell_type": "markdown",
   "metadata": {},
   "source": [
    "Next, we'll create ensembles for the \"increasing\" and \"decreasing\" transitions. These transitions mark a crossing of either the `nml_plus` or the `nml_minus`. These aren't necessarily $\\alpha\\to\\beta$ transitions. However, any $\\alpha\\to\\beta$ transition must contain at least one subtrajectory which satsifies one of these ensembles."
   ]
  },
  {
   "cell_type": "code",
   "execution_count": null,
   "metadata": {
    "collapsed": true
   },
   "outputs": [],
   "source": [
    "increasing = paths.SequentialEnsemble([\n",
    "    paths.AllInXEnsemble(alpha | nml_alpha),\n",
    "    paths.AllInXEnsemble(nml_plus),\n",
    "    paths.AllInXEnsemble(beta | nml_beta)\n",
    "])\n",
    "decreasing = paths.SequentialEnsemble([\n",
    "    paths.AllInXEnsemble(alpha | nml_alpha),\n",
    "    paths.AllInXEnsemble(nml_minus),\n",
    "    paths.AllInXEnsemble(beta | nml_beta)\n",
    "])"
   ]
  },
  {
   "cell_type": "markdown",
   "metadata": {},
   "source": [
    "Finally, we'll write a little function that characterizes a set of trajectories according to these ensembles. It returns a dictionary mapping the ensemble (`increasing` or `decreasing`) to a list of trajectories that have a subtrajectory that satisfies it (at least one entry in `ensemble.split(trajectory)`). That dictionary also contains keys for `'multiple'` matched ensembles and `None` if no ensemble was matched. Trajectories for either of these keys would need to be investigated further."
   ]
  },
  {
   "cell_type": "code",
   "execution_count": null,
   "metadata": {
    "collapsed": true
   },
   "outputs": [],
   "source": [
    "def categorize_transitions(ensembles, trajectories):\n",
    "    results = {ens : [] for ens in ensembles + ['multiple', None]}\n",
    "    for traj in trajectories:\n",
    "        matched_ens = None\n",
    "        for ens in ensembles:\n",
    "            if len(ens.split(traj)) > 0:\n",
    "                if matched_ens is not None:\n",
    "                    matched_ens = 'multiple'\n",
    "                else:\n",
    "                    matched_ens = ens\n",
    "        results[matched_ens].append(traj)\n",
    "    return results"
   ]
  },
  {
   "cell_type": "markdown",
   "metadata": {},
   "source": [
    "With that function defined, let's use it!"
   ]
  },
  {
   "cell_type": "code",
   "execution_count": null,
   "metadata": {
    "collapsed": false
   },
   "outputs": [],
   "source": [
    "categorized = categorize_transitions(ensembles=[increasing, decreasing],\n",
    "                                     trajectories=fixed_transition_segments)"
   ]
  },
  {
   "cell_type": "code",
   "execution_count": null,
   "metadata": {
    "collapsed": false
   },
   "outputs": [],
   "source": [
    "print \"increasing:\", len(categorized[increasing])\n",
    "print \"decreasing:\", len(categorized[decreasing])\n",
    "print \"  multiple:\", len(categorized['multiple'])\n",
    "print \"      None:\", len(categorized[None])"
   ]
  },
  {
   "cell_type": "markdown",
   "metadata": {},
   "source": [
    "Comparing to the flexible length simulation:"
   ]
  },
  {
   "cell_type": "code",
   "execution_count": null,
   "metadata": {
    "collapsed": false
   },
   "outputs": [],
   "source": [
    "flex_trajs = [step.active[0].trajectory for step in flexible.steps]\n",
    "flex_categorized = categorize_transitions(ensembles=[increasing, decreasing],\n",
    "                                          trajectories=flex_trajs[::10])"
   ]
  },
  {
   "cell_type": "code",
   "execution_count": null,
   "metadata": {
    "collapsed": false
   },
   "outputs": [],
   "source": [
    "print \"increasing:\", len(flex_categorized[increasing])\n",
    "print \"decreasing:\", len(flex_categorized[decreasing])\n",
    "print \"  multiple:\", len(flex_categorized['multiple'])\n",
    "print \"      None:\", len(flex_categorized[None])"
   ]
  },
  {
   "cell_type": "markdown",
   "metadata": {
    "collapsed": true
   },
   "source": [
    "So the fixed length sampling is somehow capturing both kinds of transitions (probably because they are not really that rare). Let's see what the path length distribution from only the decreasing transitions looks"
   ]
  },
  {
   "cell_type": "code",
   "execution_count": null,
   "metadata": {
    "collapsed": false
   },
   "outputs": [],
   "source": [
    "plt.hist([len(traj) for traj in flex_categorized[decreasing]], bins, alpha=0.5, normed=True);\n",
    "plt.hist([len(traj) for traj in categorized[decreasing]], bins, alpha=0.5, normed=True);"
   ]
  },
  {
   "cell_type": "markdown",
   "metadata": {},
   "source": [
    "Still a little off, although this might be due to bad sampling. Let's see how many of the decorrelated trajectories have this kind of transition."
   ]
  },
  {
   "cell_type": "code",
   "execution_count": null,
   "metadata": {
    "collapsed": false
   },
   "outputs": [],
   "source": [
    "# start with the decorrelated tragectories\n",
    "fixed_decorrelated = full_history.decorrelated_trajectories\n",
    "# find the A->B transitions from the decorrelated trajectories\n",
    "decorrelated_transitions = sum([flex_ens.split(traj) for traj in fixed_decorrelated], [])\n",
    "# find the A->B transition from these which are decreasing\n",
    "decorrelated_decreasing = sum([decreasing.split(traj) for traj in decorrelated_transitions], [])\n",
    "print len(decorrelated_decreasing)"
   ]
  },
  {
   "cell_type": "markdown",
   "metadata": {},
   "source": [
    "So this is based off of 11 decorrelated trajectory transitions. That's not a lot of statistics.\n",
    "\n",
    "However, we expect to see a *very* different distribution for the \"increasing\" paths:"
   ]
  },
  {
   "cell_type": "code",
   "execution_count": null,
   "metadata": {
    "collapsed": false
   },
   "outputs": [],
   "source": [
    "plt.hist([len(traj) for traj in categorized[increasing]], bins, normed=True, alpha=0.5, color='g');"
   ]
  },
  {
   "cell_type": "markdown",
   "metadata": {},
   "source": [
    "Let's also check whether we go back and forth between the increasing transition and the decreasing transition, or whether there's just a single change from one type to the other."
   ]
  },
  {
   "cell_type": "code",
   "execution_count": null,
   "metadata": {
    "collapsed": true
   },
   "outputs": [],
   "source": [
    "def find_switches(ensembles, trajectories):\n",
    "    switches = []\n",
    "    last_category = None\n",
    "    traj_num = 0\n",
    "    for traj in trajectories:\n",
    "        category = None\n",
    "        for ens in ensembles:\n",
    "            if len(ens.split(traj)) > 0:\n",
    "                if category is not None:\n",
    "                    category = 'multiple'\n",
    "                else:\n",
    "                    category = ens\n",
    "        if last_category != category:\n",
    "            switches.append((category, traj_num))\n",
    "        traj_num += 1\n",
    "        last_category = category\n",
    "    return switches"
   ]
  },
  {
   "cell_type": "code",
   "execution_count": null,
   "metadata": {
    "collapsed": false
   },
   "outputs": [],
   "source": [
    "switches = find_switches([increasing, decreasing], fixed_transition_segments)"
   ]
  },
  {
   "cell_type": "code",
   "execution_count": null,
   "metadata": {
    "collapsed": false
   },
   "outputs": [],
   "source": [
    "print [switch[1] for switch in switches], len(fixed_transition_segments)"
   ]
  },
  {
   "cell_type": "markdown",
   "metadata": {},
   "source": [
    "So there are a lot of switches early in the simulation, and then it gets stuck in one state for much longer."
   ]
  },
  {
   "cell_type": "markdown",
   "metadata": {},
   "source": [
    "Even though we know the alanine dipeptide transitions are not particularly rare, this does give us reason to re-check the temperature. First we'll check what the intergrator says its temperature is, then we'll calculate the temperature based on the kinetic energy of every 50th trajectory.\n",
    "\n",
    "Note that the code below is specific to using the OpenMM engine."
   ]
  },
  {
   "cell_type": "code",
   "execution_count": null,
   "metadata": {
    "collapsed": false
   },
   "outputs": [],
   "source": [
    "print engine.integrator.getTemperature()"
   ]
  },
  {
   "cell_type": "code",
   "execution_count": null,
   "metadata": {
    "collapsed": true
   },
   "outputs": [],
   "source": [
    "every_50th_trajectory = [step.active[0].trajectory for step in fixed.steps[::50]]"
   ]
  },
  {
   "cell_type": "code",
   "execution_count": null,
   "metadata": {
    "collapsed": false
   },
   "outputs": [],
   "source": [
    "# make a set to remove duplicates, if trajs aren't decorrelated\n",
    "every_50th_traj_snapshots = list(set(sum(every_50th_trajectory, [])))\n",
    "# sadly, it looks like that trick with set doesn't do any good here"
   ]
  },
  {
   "cell_type": "code",
   "execution_count": null,
   "metadata": {
    "collapsed": false
   },
   "outputs": [],
   "source": [
    "# this is ugly as sin: we need a better way of doing it (ideally as a snapshot feature)\n",
    "\n",
    "# dof calculation taken from OpenMM's StateDataReporter\n",
    "import simtk.openmm as mm\n",
    "import simtk.unit\n",
    "dof = 0\n",
    "system = engine.simulation.system\n",
    "dofs_from_particles = 0\n",
    "for i in range(system.getNumParticles()):\n",
    "    if system.getParticleMass(i) > 0*simtk.unit.dalton:\n",
    "        dofs_from_particles += 3\n",
    "dofs_from_constraints = system.getNumConstraints()\n",
    "dofs_from_motion_removers = 0\n",
    "if any(type(system.getForce(i)) == mm.CMMotionRemover for i in range(system.getNumForces())):\n",
    "    dofs_from_motion_removers += 3\n",
    "dof = dofs_from_particles - dofs_from_constraints - dofs_from_motion_removers\n",
    "#print dof, \"=\", dofs_from_particles, \"-\", dofs_from_constraints, \"-\", dofs_from_motion_removers\n",
    "\n",
    "kinetic_energies = []\n",
    "potential_energies = []\n",
    "temperatures = []\n",
    "R = simtk.unit.BOLTZMANN_CONSTANT_kB * simtk.unit.AVOGADRO_CONSTANT_NA\n",
    "for snap in every_50th_traj_snapshots:\n",
    "    engine.current_snapshot = snap\n",
    "    state = engine.simulation.context.getState(getEnergy=True)\n",
    "    ke = state.getKineticEnergy()\n",
    "    temperatures.append(2 * ke / dof / R)"
   ]
  },
  {
   "cell_type": "code",
   "execution_count": null,
   "metadata": {
    "collapsed": false,
    "scrolled": true
   },
   "outputs": [],
   "source": [
    "plt.plot([T / T.unit for T in temperatures])\n",
    "mean_T = np.mean(temperatures)\n",
    "plt.plot([mean_T / mean_T.unit]*len(temperatures), 'r')\n",
    "print \"Mean temperature:\", np.mean(temperatures).format(\"%.2f\")"
   ]
  },
  {
   "cell_type": "markdown",
   "metadata": {},
   "source": [
    "While this is running a little hot, it is reasonable, and definitely not hot enough to blame for unexpected rare events."
   ]
  },
  {
   "cell_type": "code",
   "execution_count": null,
   "metadata": {
    "collapsed": true
   },
   "outputs": [],
   "source": []
  }
 ],
 "metadata": {
  "kernelspec": {
   "display_name": "Python 2",
   "language": "python",
   "name": "python2"
  },
  "language_info": {
   "codemirror_mode": {
    "name": "ipython",
    "version": 2
   },
   "file_extension": ".py",
   "mimetype": "text/x-python",
   "name": "python",
   "nbconvert_exporter": "python",
   "pygments_lexer": "ipython2",
   "version": "2.7.12"
  }
 },
 "nbformat": 4,
 "nbformat_minor": 0
}

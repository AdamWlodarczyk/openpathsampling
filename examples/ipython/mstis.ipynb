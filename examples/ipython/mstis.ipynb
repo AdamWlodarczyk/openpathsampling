{
 "cells": [
  {
   "cell_type": "code",
   "execution_count": 1,
   "metadata": {
    "collapsed": true
   },
   "outputs": [],
   "source": [
    "%matplotlib inline\n",
    "import openpathsampling as paths\n",
    "import numpy as np\n",
    "from toy_plot_helpers import ToyPlot\n",
    "plot = ToyPlot()"
   ]
  },
  {
   "cell_type": "code",
   "execution_count": 2,
   "metadata": {
    "collapsed": false
   },
   "outputs": [],
   "source": [
    "old_store = paths.storage.Storage(\"mstis_bootstrap.nc\", \"r\")"
   ]
  },
  {
   "cell_type": "markdown",
   "metadata": {},
   "source": [
    "A lot of information can be recovered from the old storage, and so we don't have the recreate it. However, we did not save our network, so we'll have to create a new one. Since the network creates the ensembles, that means we will have to translate the trajectories from the old ensembles to new ensembles."
   ]
  },
  {
   "cell_type": "code",
   "execution_count": 3,
   "metadata": {
    "collapsed": false
   },
   "outputs": [
    {
     "name": "stdout",
     "output_type": "stream",
     "text": [
      "PathMovers: 0\n",
      "Samples: 12\n",
      "Ensembles: 120\n",
      "SampleSets: 1\n",
      "Snapshots: 1246\n",
      "Networks: 0\n"
     ]
    }
   ],
   "source": [
    "print \"PathMovers:\", len(old_store.pathmovers)\n",
    "print \"Samples:\", len(old_store.samples)\n",
    "print \"Ensembles:\", len(old_store.ensembles)\n",
    "print \"SampleSets:\", len(old_store.samplesets)\n",
    "print \"Snapshots:\", len(old_store.snapshots)\n",
    "print \"Networks:\", len(old_store.networks)"
   ]
  },
  {
   "cell_type": "code",
   "execution_count": 4,
   "metadata": {
    "collapsed": true
   },
   "outputs": [],
   "source": [
    "topol = old_store.topology"
   ]
  },
  {
   "cell_type": "code",
   "execution_count": 5,
   "metadata": {
    "collapsed": false
   },
   "outputs": [
    {
     "name": "stdout",
     "output_type": "stream",
     "text": [
      "[u'opA', u'opB', u'opC']\n",
      "[u'A', '0.0<opA<0.04', '[UnionVolume]', u'all states except A', u'B', u'C', '[UnionVolume]', '0.0<opA<0.09', '[UnionVolume]', '[UnionVolume]', '0.0<opA<0.16', '[UnionVolume]', '[UnionVolume]', '0.0<opA<0.25', '[UnionVolume]', '[UnionVolume]', '0.0<opB<0.04', '[UnionVolume]', u'all states except B', '[UnionVolume]', '0.0<opB<0.09', '[UnionVolume]', '[UnionVolume]', '0.0<opB<0.16', '[UnionVolume]', '[UnionVolume]', '0.0<opB<0.25', '[UnionVolume]', '[UnionVolume]', '0.0<opC<0.04', '[UnionVolume]', u'all states except C', '[UnionVolume]', '0.0<opC<0.09', '[UnionVolume]', '[UnionVolume]', '0.0<opC<0.16', '[UnionVolume]', '[UnionVolume]', '0.0<opC<0.25', '[UnionVolume]', '[UnionVolume]']\n"
     ]
    }
   ],
   "source": [
    "# TODO: current loading won't work unless I populate cache first (these lines do it)\n",
    "# Does the new storage fix that?\n",
    "print [cv.name for cv in old_store.collectivevariables]\n",
    "print [vol.name for vol in old_store.volumes]"
   ]
  },
  {
   "cell_type": "code",
   "execution_count": 6,
   "metadata": {
    "collapsed": false
   },
   "outputs": [],
   "source": [
    "opA = old_store.collectivevariables.find('opA')[0]\n",
    "opB = old_store.collectivevariables.find('opB')[0]\n",
    "opC = old_store.collectivevariables.find('opC')[0]"
   ]
  },
  {
   "cell_type": "code",
   "execution_count": 7,
   "metadata": {
    "collapsed": false
   },
   "outputs": [],
   "source": [
    "stateA = old_store.volumes.find('A')[0]\n",
    "stateB = old_store.volumes.find('B')[0]\n",
    "stateC = old_store.volumes.find('C')[0]"
   ]
  },
  {
   "cell_type": "code",
   "execution_count": 8,
   "metadata": {
    "collapsed": true
   },
   "outputs": [],
   "source": [
    "# we could also load the interfaces, but it takes less code to build new ones:\n",
    "interfacesA = paths.VolumeFactory.CVRangeVolumeSet(opA, 0.0,[0.2**2, 0.3**2, 0.4**2, 0.5**2])\n",
    "interfacesB = paths.VolumeFactory.CVRangeVolumeSet(opB, 0.0,[0.2**2, 0.3**2, 0.4**2, 0.5**2])\n",
    "interfacesC = paths.VolumeFactory.CVRangeVolumeSet(opC, 0.0,[0.2**2, 0.3**2, 0.4**2, 0.5**2])"
   ]
  },
  {
   "cell_type": "code",
   "execution_count": 9,
   "metadata": {
    "collapsed": false
   },
   "outputs": [],
   "source": [
    "mstis = paths.MSTISNetwork([\n",
    "    (stateA, interfacesA, \"A\", opA),\n",
    "    (stateB, interfacesB, \"B\", opB),\n",
    "    (stateC, interfacesC, \"C\", opC)\n",
    "])"
   ]
  },
  {
   "cell_type": "markdown",
   "metadata": {
    "collapsed": true
   },
   "source": [
    "Now we need to set up real trajectories that we can use for each of these.\n",
    "\n",
    "**explain a sample**\n",
    "\n",
    "First, even though the ensembles are semantically identical to what we have before, they aren't actually the same  objects, because they were created by building a new `MSTISNetwork`. That means that, even though our saved trajectories satisfy the correct ensembles, we still need a way to identify which of the new ensembles to associate them with.\n",
    "\n",
    "There are two main ways to do this. The first is to take one trajectory, and associate it with as many ensembles as possible. If your first path comes from a TPS simulation, that is the approach you'll want to take.\n",
    "\n",
    "The second approach is better suited to our conditions here: we already have a good trajectory for each ensemble. So we just want to remap our old ensembles to new ones."
   ]
  },
  {
   "cell_type": "code",
   "execution_count": 10,
   "metadata": {
    "collapsed": false
   },
   "outputs": [],
   "source": [
    "# load the sample set we have saved before\n",
    "old_sampleset = old_store.samplesets[0]"
   ]
  },
  {
   "cell_type": "markdown",
   "metadata": {},
   "source": [
    "### Loading one trajectory into lots of ensembles"
   ]
  },
  {
   "cell_type": "code",
   "execution_count": 12,
   "metadata": {
    "collapsed": true
   },
   "outputs": [],
   "source": [
    "# this makes a dictionary mapping the outermost ensemble of each sampling transition \n",
    "# to a trajectory from the old_sampleset that satisfies that ensemble\n",
    "trajs = {}\n",
    "for ens in [t.ensembles[-1] for t in mstis.sampling_transitions]:\n",
    "    trajs[ens] = [s.trajectory for s in old_sampleset if ens(s.trajectory)==True][0]\n",
    "    \n",
    "assert(len(trajs)==3) # otherwise, we have a problem"
   ]
  },
  {
   "cell_type": "code",
   "execution_count": 19,
   "metadata": {
    "collapsed": false
   },
   "outputs": [],
   "source": [
    "initial_samples = {}\n",
    "for t in mstis.sampling_transitions:\n",
    "    initial_samples[t] = paths.SampleSet.map_trajectory_to_ensembles(trajs[t.ensembles[-1]], t.ensembles)"
   ]
  },
  {
   "cell_type": "code",
   "execution_count": 23,
   "metadata": {
    "collapsed": false
   },
   "outputs": [
    {
     "name": "stdout",
     "output_type": "stream",
     "text": [
      "Replica: 0\n",
      "Trajectory: Trajectory[47]\n",
      "Ensemble: <openpathsampling.ensemble.TISEnsemble object at 0x11a7aa690>\n",
      "\n",
      "Replica: 1\n",
      "Trajectory: Trajectory[47]\n",
      "Ensemble: <openpathsampling.ensemble.TISEnsemble object at 0x11a7aaa90>\n",
      "\n",
      "Replica: 2\n",
      "Trajectory: Trajectory[47]\n",
      "Ensemble: <openpathsampling.ensemble.TISEnsemble object at 0x11a7aae90>\n",
      "\n"
     ]
    }
   ],
   "source": [
    "for s in initial_samples.values()[0]:\n",
    "    print s"
   ]
  },
  {
   "cell_type": "code",
   "execution_count": 25,
   "metadata": {
    "collapsed": false
   },
   "outputs": [],
   "source": [
    "sset = paths.SampleSet.relabel_replicas_per_ensemble(initial_samples.values())"
   ]
  },
  {
   "cell_type": "code",
   "execution_count": 26,
   "metadata": {
    "collapsed": false
   },
   "outputs": [
    {
     "data": {
      "text/plain": [
       "9"
      ]
     },
     "execution_count": 26,
     "metadata": {},
     "output_type": "execute_result"
    }
   ],
   "source": [
    "len(sset)"
   ]
  },
  {
   "cell_type": "markdown",
   "metadata": {},
   "source": [
    "### Remapping old ensembles to new ensembles\n",
    "\n",
    "If your old and new ensembles have the same string representations, then OPS has a function to help you automatically map them. As long as you create the ensembles in the same way, they'll have the same string representation. Note that if you *don't* have the same string representation, you would have to assign trajectories to ensembles by hand (which isn't that hard, but is a bit tedious)."
   ]
  },
  {
   "cell_type": "code",
   "execution_count": null,
   "metadata": {
    "collapsed": true
   },
   "outputs": [],
   "source": []
  },
  {
   "cell_type": "markdown",
   "metadata": {},
   "source": [
    "### Setting up special ensembles"
   ]
  },
  {
   "cell_type": "markdown",
   "metadata": {},
   "source": [
    "#### Multiple state ensemble"
   ]
  },
  {
   "cell_type": "markdown",
   "metadata": {},
   "source": [
    "#### Minus interface ensemble"
   ]
  },
  {
   "cell_type": "markdown",
   "metadata": {},
   "source": [
    "## Equilibrating within the path ensemble"
   ]
  },
  {
   "cell_type": "markdown",
   "metadata": {},
   "source": [
    "## Running RETIS"
   ]
  },
  {
   "cell_type": "code",
   "execution_count": null,
   "metadata": {
    "collapsed": true
   },
   "outputs": [],
   "source": []
  }
 ],
 "metadata": {
  "kernelspec": {
   "display_name": "Python 2",
   "language": "python",
   "name": "python2"
  },
  "language_info": {
   "codemirror_mode": {
    "name": "ipython",
    "version": 2
   },
   "file_extension": ".py",
   "mimetype": "text/x-python",
   "name": "python",
   "nbconvert_exporter": "python",
   "pygments_lexer": "ipython2",
   "version": "2.7.10"
  }
 },
 "nbformat": 4,
 "nbformat_minor": 0
}

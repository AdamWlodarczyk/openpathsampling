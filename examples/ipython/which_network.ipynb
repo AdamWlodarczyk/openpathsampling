{
 "cells": [
  {
   "cell_type": "markdown",
   "metadata": {
    "collapsed": false
   },
   "source": [
    "# Which network should I use?\n",
    "\n",
    "As of the release of OpenPathSampling 1.0, even people who are familiar with path sampling in general are pretty new to the various multiple state approaches --- so don't feel bad if that seems a bit overwhelming.\n",
    "\n",
    "Here's a list of likely situations you might find yourself in, with advice on which method to use. In 2-state situations, both the `MSTISNetwork` and `MISTISNetwork` will give the same behavior, so it doesn't matter which you use. We recommend using the `MSTISNetwork`, because its syntax is a bit easier. However, below we'll show you how to do both.\n",
    "\n",
    "In addition to the choice of network, which defines the interfaces in your system, we also discuss the single replica approach, which is an alternative method"
   ]
  },
  {
   "cell_type": "markdown",
   "metadata": {},
   "source": [
    "## Two states, only one direction (A->B without B->A)"
   ]
  },
  {
   "cell_type": "markdown",
   "metadata": {},
   "source": [
    "## Two states, both directions (A->B and B->A)"
   ]
  },
  {
   "cell_type": "markdown",
   "metadata": {},
   "source": [
    "## Multiple States\n",
    "\n",
    "Once we get into the world of multiple states, it gets more complicated. This is partly inevitable, but partly also because multiple state transition sampling methods are relatively recent, dating back to the work of Rogal and Bolhuis in 2008.\n",
    "\n",
    "There are two things to consider. First, "
   ]
  },
  {
   "cell_type": "markdown",
   "metadata": {},
   "source": [
    "## Customizing behavior within a network\n",
    "\n",
    "The default network behavior should work for most situations. However, if you have particular needs, it is easy to tweak your simulation to meet those needs before you run it.\n",
    "\n",
    "However, to do this you need to learn a little more about the underlying nature of how networks are implemented. This is a brief introduction to that.\n",
    "\n",
    "First a network can be described as consisting of several transitions. Each transition is a one-directional link between two \"states\" (although sometimes several stable states are lumped into one).\n",
    "\n",
    "There are two sides to each network: there's the sampling network, which describes how you sample the transitions, and the analysis network, which describes "
   ]
  },
  {
   "cell_type": "markdown",
   "metadata": {},
   "source": [
    "## Single Replica Transition Interface Sampling\n",
    "\n",
    "One of the challenges of TIS is that it doesn't naturally parallelize well. "
   ]
  },
  {
   "cell_type": "code",
   "execution_count": null,
   "metadata": {
    "collapsed": true
   },
   "outputs": [],
   "source": []
  }
 ],
 "metadata": {
  "kernelspec": {
   "display_name": "Python 2",
   "language": "python",
   "name": "python2"
  },
  "language_info": {
   "codemirror_mode": {
    "name": "ipython",
    "version": 2
   },
   "file_extension": ".py",
   "mimetype": "text/x-python",
   "name": "python",
   "nbconvert_exporter": "python",
   "pygments_lexer": "ipython2",
   "version": "2.7.9"
  }
 },
 "nbformat": 4,
 "nbformat_minor": 0
}

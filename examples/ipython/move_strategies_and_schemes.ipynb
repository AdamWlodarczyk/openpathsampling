{
 "cells": [
  {
   "cell_type": "markdown",
   "metadata": {},
   "source": [
    "# `MoveStrategy` and `MoveScheme`\n",
    "\n",
    "After you've set up your ensembles, you need to create a scheme to sample those ensembles. This is done by the `MoveStrategy` and `MoveScheme` objects.\n",
    "\n",
    "OpenPathSampling uses a simple default scheme for any network, in which first you choose a type of move to do (shooting, replica exchange, etc), and then you choose a specific instance of that move type (i.e., which ensembles to use). This default scheme works for most cases, but you might find yourself in a situation where the default scheme isn't very efficient, or where you think you have an idea for a more efficient scheme. OpenPathSampling makes it easy to modify the underlying move scheme.\n",
    "\n",
    "#### Definitions of terms\n",
    "\n",
    "* **move scheme**: for a given simulation, the move scheme is the \"move decision tree\". Every step of the MC is done by starting with some root move, and tracing a series of decision points to generate (and the accept) a trial.\n",
    "* **move strategy**: a general approach to building a move scheme (or a subset thereof). SRTIS is a move strategy. Nearest-neighbor replica exchange is a move strategy. All-replica exchange is a move strategy.\n",
    "\n",
    "So we use \"strategy\" to talk about the general idea, and \"scheme\" to talk about a specific implementation of that idea. This document will describe both how to modify the default scheme for one-time modifications and how to develop new move strategies to be re-used on many problems."
   ]
  },
  {
   "cell_type": "markdown",
   "metadata": {},
   "source": [
    "## `MoveScheme`s are built from `MoveStrategy` objects\n",
    "\n",
    "In the end, you must give your `PathSimulator` object a single `MoveScheme`. However, this scheme might involve several different strategies (for example, whether you want to do one-way shooting or two-way shooting is one strategy decision, and it each can be combined with either nearest-neightbor replica exchange strategy or all-replica exchange strategy: these strategy decisions are orthogonal.)\n",
    "\n",
    "\n",
    "### Creating a strategy\n",
    "\n",
    "A strategy should be thought of as a way to either add new `PathMover`s to a `MoveScheme` or to change those `PathMover`s which already exist in some way.\n",
    "\n",
    "Every `MoveStrategy` therefore allows, as a parameter to its initialization, a list of ensembles.\n",
    "\n",
    "### Applying the strategy to a move scheme\n",
    "\n",
    "### Strategy groups\n",
    "\n",
    "\n",
    "### Strategy levels\n",
    "\n"
   ]
  },
  {
   "cell_type": "markdown",
   "metadata": {},
   "source": [
    "## Combination strategies\n",
    "\n",
    "OpenPathSampling provides a few shortcuts to strategies which combine several substrategies into a whole.\n",
    "\n",
    "### `DefaultMoveStrategy`\n",
    "\n",
    "The `DefaultMoveStrategy` completely replaces any move scheme with the default OpenPathSampling scheme.\n",
    "\n",
    "### `SingleReplicaStrategy`\n",
    "\n",
    "The `SingleReplicaStrategy` converts all replica exchanges to ensemble hops (`bias` parameter required). It then reshapes the move decision tree so that is organized by ensemble, TODO"
   ]
  },
  {
   "cell_type": "code",
   "execution_count": null,
   "metadata": {
    "collapsed": true
   },
   "outputs": [],
   "source": []
  }
 ],
 "metadata": {
  "kernelspec": {
   "display_name": "Python 2",
   "language": "python",
   "name": "python2"
  },
  "language_info": {
   "codemirror_mode": {
    "name": "ipython",
    "version": 2
   },
   "file_extension": ".py",
   "mimetype": "text/x-python",
   "name": "python",
   "nbconvert_exporter": "python",
   "pygments_lexer": "ipython2",
   "version": "2.7.10"
  }
 },
 "nbformat": 4,
 "nbformat_minor": 0
}

{
 "cells": [
  {
   "cell_type": "markdown",
   "metadata": {},
   "source": [
    "This document is intended for intermediate to advanced users. It deals with the internals of the `MoveStrategy` and `MoveScheme` objects, as well has to create custom versions of them. For most users, the default behaviors are sufficient."
   ]
  },
  {
   "cell_type": "markdown",
   "metadata": {},
   "source": [
    "# `MoveStrategy` and `MoveScheme`\n",
    "\n",
    "After you've set up your ensembles, you need to create a scheme to sample those ensembles. This is done by the `MoveStrategy` and `MoveScheme` objects.\n",
    "\n",
    "OpenPathSampling uses a simple default scheme for any network, in which first you choose a type of move to do (shooting, replica exchange, etc), and then you choose a specific instance of that move type (i.e., which ensembles to use). This default scheme works for most cases, but you might find yourself in a situation where the default scheme isn't very efficient, or where you think you have an idea for a more efficient scheme. OpenPathSampling makes it easy to modify the underlying move scheme.\n",
    "\n",
    "#### Definitions of terms\n",
    "\n",
    "* **move scheme**: for a given simulation, the move scheme is the \"move decision tree\". Every step of the MC is done by starting with some root move, and tracing a series of decision points to generate (and then accept) a trial.\n",
    "* **move strategy**: a general approach to building a move scheme (or a subset thereof). SRTIS is a move strategy. Nearest-neighbor replica exchange is a move strategy. All-replica exchange is a move strategy.\n",
    "\n",
    "So we use \"strategy\" to talk about the general idea, and \"scheme\" to talk about a specific implementation of that idea. This document will describe both how to modify the default scheme for one-time modifications and how to develop new move strategies to be re-used on many problems."
   ]
  },
  {
   "cell_type": "markdown",
   "metadata": {},
   "source": [
    "## `MoveScheme`s are built from `MoveStrategy` objects\n",
    "\n",
    "In the end, you must give your `PathSimulator` object a single `MoveScheme`. However, this scheme might involve several different strategies (for example, whether you want to do one-way shooting or two-way shooting is one strategy decision, and it each can be combined with either nearest-neightbor replica exchange strategy or all-replica exchange strategy: these strategy decisions are completely independent.)\n",
    "\n",
    "\n",
    "### Creating a strategy\n",
    "\n",
    "A strategy should be thought of as a way to either add new `PathMover`s to a `MoveScheme` or to change those `PathMover`s which already exist in some way.\n",
    "\n",
    "Every `MoveStrategy` therefore has an `ensembles` parameter. If the `ensembles` parameter is not given, it is assumed that the user intended all normal ensembles in the scheme's transitions. Every strategy also has an initialization parameter called `group`. This defines the \"category\" of the move. There are several standard categories (described below), but you can also create custom categories (some examples are given later).\n",
    "\n",
    "Finally, there is another parameter which can be given in the initialization of any strategy, but which *must* be given as a named parameter. This is `replace`, which is a boolean stating whether the movers created using this should replace those in the scheme at this point.\n",
    "\n",
    "\n",
    "### Strategy groups\n",
    "\n",
    "Intuitively, we often think of moves in groups: the shooting moves, the replica exchange moves, etc. For organizational and analysis purposes, we include that structure in the `MoveScheme`, and each `MoveStrategy` must declare what groups it applies to. OpenPathSampling allows users to define arbitrary groups (using strings as labels). The standard schemes use the following groups:\n",
    "\n",
    "* `'shooting'`\n",
    "* `'repex'`\n",
    "* `'pathreversal'`\n",
    "* `'minus'`\n",
    "\n",
    "\n",
    "### Strategy levels\n",
    "\n",
    "In order to apply the strategies in a reasonable order, OpenPathSampling distinguishes several levels at which move strategies work. For example, one level determines which \n",
    "\n",
    "### Applying the strategy to a move scheme\n",
    "\n",
    "To add a strategy to the move scheme, you use `MoveScheme`'s `.append()` function. This function can take two arguments: the list of items to append (which is required) and the `levels` associated with each item."
   ]
  },
  {
   "cell_type": "markdown",
   "metadata": {},
   "source": [
    "## Combination strategies\n",
    "\n",
    "OpenPathSampling provides a few shortcuts to strategies which combine several substrategies into a whole.\n",
    "\n",
    "### `DefaultMoveStrategy`\n",
    "\n",
    "The `DefaultMoveStrategy` converts the move scheme to one which follows the default OpenPathSampling behavior.\n",
    "\n",
    "TODO: note that this isn't always the same as the default scheme you get from an empty move scheme. If other movers exist, they are converted to the default strategy. So if you added movers which are not part of the default for your network, they will still get included in the scheme.\n",
    "\n",
    "### `SingleReplicaStrategy`\n",
    "\n",
    "The `SingleReplicaStrategy` converts all replica exchanges to ensemble hops (`bias` parameter required). It then reshapes the move decision tree so that is organized by ensemble, TODO"
   ]
  },
  {
   "cell_type": "markdown",
   "metadata": {},
   "source": [
    "## Examples of practical uses\n",
    "\n",
    "In the examples above, we saw how to change from nearest neighbor replica exchange to all (in-set) replica exchange, and we saw how to switch to a single replica move strategy. In the next examples, we'll look at several other uses for move strategies."
   ]
  },
  {
   "cell_type": "markdown",
   "metadata": {},
   "source": [
    "### Adding a specific extra replica exchange move\n",
    "\n",
    "In the examples above, we showed how to get either a nearest neighbor replica exchange attempt graph, or an all in-set replica exchange attempt graph. If you want something in-between, there's also the `NthNearestNeighborRepExStrategy`, which works like those above. But what if (probably in addition to one of these schemes) you want to allow a certain few replica exchange? For example, in a multiple interface set approach you might want to include a few exchanges between interfaces in different sets which share the same initial state.\n",
    "\n",
    "To do this, we start with an acceptable strategy (we'll assume the default `NearestNeighborRepExStrategy` is our starting point) and we add more moves using `SelectedPairsRepExStrategy`, with `replace=False`."
   ]
  },
  {
   "cell_type": "markdown",
   "metadata": {},
   "source": [
    "### First crossing shooting point selection for some ensembles\n",
    "\n",
    "For ensembles which are far from the state, sometimes uniform shooting point selection doesn't work. If the number of frames inside the interface is much larger than the number outside the interface, then you are very likely to select a shooting point inside the interface. If that point is far enough from the interface, it may be very unlikely for the trial path to cross the interface.\n",
    "\n",
    "One remedy for this is to use the first frame after the first crossing of the interface as the shooting point. This leads to 100% acceptance of the shooting move (every trial satisfies the ensemble, and since there is only one such point -- which is conserved in the trial -- the selection probability is equal in each direction.)\n",
    "\n",
    "The downside of this approach is that the paths decorrelate much more slowly, since only that one point is allowed for shooting (path reversal moves change which is the \"first\" crossing, otherwise there would be never be complete decorrelation). So while it may be necessary to do it for outer interfaces, doing the same for inner interfaces may slow convergence. \n",
    "\n",
    "The trick we'll show here is to apply the first crossing shooting point selection only to the outer interfaces. This can increase the acceptance probability of the outer interfaces without affecting the decorrelation of the inner interfaces."
   ]
  },
  {
   "cell_type": "markdown",
   "metadata": {},
   "source": [
    "### Two different kinds of shooting for one ensemble\n",
    "\n",
    "In importance sampling approaches like TIS, you're seeking a balance between two sampling goals. On the one hand, most of space has a negligible (or zero) contribution to the property being measured, so you don't want your steps to be so large that your trials are never accepted. On the other hand, if you make very small steps, it takes a long time to diffuse through the important region (i.e., to decorrelate).\n",
    "\n",
    "One approach which could be used to fix this would be to allow two different kinds of moves: one which makes small changes with a relatively high acceptance probability to get accepted samples, and one which makes larger changes in an attempt to decorrelate.\n",
    "\n",
    "This section will show you how to do that by adding a `small_step_shooting` group which does uses the first crossing shooting point selection. (In reality, a better way to get this effect would be to use the standard one-way shooting to do the small steps, and use two-way shooting -- not yet implemented -- to get the larger steps.)"
   ]
  },
  {
   "cell_type": "markdown",
   "metadata": {},
   "source": [
    "### RepEx-Shoot-RepEx\n",
    "\n",
    "You might also be interested in trying TODO\n",
    "\n",
    "This particular example also shows you how to implement such features. It includes both implementation of a custom `PathMover` and a custom `MoveStrategy`."
   ]
  },
  {
   "cell_type": "markdown",
   "metadata": {},
   "source": [
    "## List of built-in `MoveStrategy` classes\n",
    "\n",
    "#### Replica exchange strategies (`level=GROUP`)\n",
    "\n",
    "* `NearestNeighborRepExStrategy`\n",
    "* `NthNeighborRepExStrategy`\n",
    "* `AllSetRepExStrategy`\n",
    "* `SelectedPairsRepExStrategy`\n",
    "\n",
    "\n",
    "#### Ensemble change strategies (`level=SUPERGROUP`)\n",
    "* `StateSwapStrategy`\n",
    "* `ReplicaExchangeStrategy`\n",
    "* `EnsembleHopStrategy`\n",
    "\n",
    "#### Shooting strategies (`level=MOVER`)\n",
    "\n",
    "* `OneWayShootingStrategy`\n",
    "* (`TwoWayShootingStrategy`) : not yet implemented\n",
    "\n",
    "#### Path reversal strategies (`level=GROUP`)\n",
    "\n",
    "* `PathReversalStrategy`\n",
    "\n",
    "#### Minus move strategies (`level=GROUP`)\n",
    "\n",
    "* `MinusMoveStrategy`\n",
    "* `SingleReplicaMinusStrategy`\n",
    "\n",
    "#### Overall move decision tree strategies (combinations: `level=GLOBAL`)\n",
    "\n",
    "* `DefaultMoveStrategy`\n",
    "* `SingleReplicaStrategy`"
   ]
  },
  {
   "cell_type": "code",
   "execution_count": null,
   "metadata": {
    "collapsed": true
   },
   "outputs": [],
   "source": []
  }
 ],
 "metadata": {
  "kernelspec": {
   "display_name": "Python 2",
   "language": "python",
   "name": "python2"
  },
  "language_info": {
   "codemirror_mode": {
    "name": "ipython",
    "version": 2
   },
   "file_extension": ".py",
   "mimetype": "text/x-python",
   "name": "python",
   "nbconvert_exporter": "python",
   "pygments_lexer": "ipython2",
   "version": "2.7.10"
  }
 },
 "nbformat": 4,
 "nbformat_minor": 0
}

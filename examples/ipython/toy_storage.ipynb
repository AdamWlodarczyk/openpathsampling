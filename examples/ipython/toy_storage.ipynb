{
 "metadata": {
  "name": "",
  "signature": "sha256:9420d5610b36cb811fd2811a268dd62902569d9335ec8948651db83c9056f1b0"
 },
 "nbformat": 3,
 "nbformat_minor": 0,
 "worksheets": [
  {
   "cells": [
    {
     "cell_type": "code",
     "collapsed": false,
     "input": [
      "# Note: in practice, one should put all the imports at the top of a Python script. \n",
      "# But for educational purposes here, I put the import immediately before usage. \n",
      "# This Python block is just to set up some plotting stuff.\n",
      "\n",
      "# Imports for plotting\n",
      "import openpathsampling as paths\n",
      "import numpy as np"
     ],
     "language": "python",
     "metadata": {},
     "outputs": [],
     "prompt_number": 1
    },
    {
     "cell_type": "code",
     "collapsed": false,
     "input": [
      "from openpathsampling.toy_dynamics.toy_engine import ToyEngine\n",
      "from openpathsampling.toy_dynamics.toy_integrators import LangevinBAOABIntegrator\n",
      "from openpathsampling.toy_dynamics.toy_pes import Gaussian, OuterWalls\n",
      "\n",
      "import logging.config\n",
      "logging.config.fileConfig(\"logging.conf\", disable_existing_loggers=False)"
     ],
     "language": "python",
     "metadata": {},
     "outputs": [],
     "prompt_number": 2
    },
    {
     "cell_type": "markdown",
     "metadata": {},
     "source": [
      "### Set up the toy system\n",
      "This includes the potential energy surface (PES), and an initial configuration"
     ]
    },
    {
     "cell_type": "code",
     "collapsed": false,
     "input": [
      "# Toy_PES supports adding/subtracting various PESs. The OuterWalls PES type gives an x^6+y^6 boundary to the system\n",
      "pes = (OuterWalls([1.0, 1.0], [0.0, 0.0]) + \n",
      "       Gaussian(2.0, [1.0, 4.0], [0.0,1.0]) + \n",
      "       Gaussian(2.0, [25.0, 1.0], [0.0, -1.0])\n",
      "      )\n",
      "topology=paths.ToyTopology(\n",
      "    n_spatial = 2,\n",
      "    masses =[1.0, 1.0],\n",
      "    pes = pes\n",
      ")\n",
      "template = paths.Snapshot(\n",
      "    coordinates=np.array([[-0.5, 0.0]]), \n",
      "    velocities=np.array([[0.0,0.0]]),\n",
      "    potential_energy = 0.0, # Important to set energies dimensionless otherwise kcal/mol is default\n",
      "    kinetic_energy = 0.0,\n",
      "    topology=topology\n",
      ")"
     ],
     "language": "python",
     "metadata": {},
     "outputs": [],
     "prompt_number": 3
    },
    {
     "cell_type": "markdown",
     "metadata": {},
     "source": [
      "### Setup engine"
     ]
    },
    {
     "cell_type": "code",
     "collapsed": false,
     "input": [
      "integ = LangevinBAOABIntegrator(dt=0.02, temperature=0.1, gamma=1.0)\n",
      "options={\n",
      "         'integ' : integ,\n",
      "         'n_frames_max' : 5000,\n",
      "         'nsteps_per_frame' : 10}\n",
      "sim = ToyEngine(\n",
      "        options=options,\n",
      "        template=template\n",
      ")\n",
      "\n",
      "sim.current_snapshot = template"
     ],
     "language": "python",
     "metadata": {},
     "outputs": [],
     "prompt_number": 4
    },
    {
     "cell_type": "markdown",
     "metadata": {},
     "source": [
      "### Storage setup"
     ]
    },
    {
     "cell_type": "code",
     "collapsed": false,
     "input": [
      "storage = paths.storage.Storage('toy_dynamics_storage.nc', mode='w', template=template)"
     ],
     "language": "python",
     "metadata": {},
     "outputs": [
      {
       "output_type": "stream",
       "stream": "stdout",
       "text": [
        "Setup netCDF file and create variables\n"
       ]
      },
      {
       "output_type": "stream",
       "stream": "stdout",
       "text": [
        "Saving topology\n"
       ]
      },
      {
       "output_type": "stream",
       "stream": "stdout",
       "text": [
        "Create initial template snapshot\n"
       ]
      },
      {
       "output_type": "stream",
       "stream": "stdout",
       "text": [
        "Finished setting up netCDF file\n"
       ]
      }
     ],
     "prompt_number": 5
    },
    {
     "cell_type": "code",
     "collapsed": false,
     "input": [
      "from openpathsampling.orderparameter import OP_Function\n",
      "from openpathsampling.volume import VolumeFactory as vf\n",
      "from openpathsampling.volume import LambdaVolume\n",
      "from openpathsampling.trajectory import Trajectory\n",
      "\n",
      "# Note that we select from the first atom coordinate one, although\n",
      "# there is only one atom. This is to make it consistant with\n",
      "# multiple atom simulations!\n",
      "try:\n",
      "    op_line = OP_Function(name=\"xval\", \n",
      "                          fcn=lambda snap : snap.coordinates[0,0])\n",
      "except ValueError:\n",
      "    print \"xval already made\"\n",
      "# this defines a set of LambdaVolumes for which the minimum is -1.0 and the maximum is given in the array\n",
      "line_volume_set = vf.LambdaVolumeSet(op_line, minvals=-1.0, maxvals=[-0.30, -0.25, -0.20, -0.13, -0.05, 0.0])\n",
      "stateA = LambdaVolume(op_line, -1.0, -0.3)\n",
      "stateB = LambdaVolume(op_line, 0.3, 1.0)"
     ],
     "language": "python",
     "metadata": {},
     "outputs": [],
     "prompt_number": 6
    },
    {
     "cell_type": "code",
     "collapsed": false,
     "input": [
      "from openpathsampling.ensemble import EnsembleFactory as ef\n",
      "from openpathsampling.ensemble import LengthEnsemble, InXEnsemble, OutXEnsemble, SequentialEnsemble, OptionalEnsemble, SingleFrameEnsemble\n",
      "\n",
      "interface0 = line_volume_set[0]\n",
      "interface_ensemble_set = ef.TISEnsembleSet(stateA, stateB, line_volume_set)\n",
      "first_traj_ensemble = SequentialEnsemble([\n",
      "    OptionalEnsemble(OutXEnsemble(stateA)),\n",
      "    InXEnsemble(stateA),\n",
      "    OptionalEnsemble(OutXEnsemble(stateA) & InXEnsemble(interface0)),\n",
      "    OptionalEnsemble(InXEnsemble(interface0)),\n",
      "    OutXEnsemble(interface0),\n",
      "    OptionalEnsemble(OutXEnsemble(stateA)),\n",
      "    SingleFrameEnsemble(InXEnsemble(stateA))\n",
      "])\n",
      "first_traj_ensemble.name = 'first trajectory ensemble'"
     ],
     "language": "python",
     "metadata": {},
     "outputs": [],
     "prompt_number": 7
    },
    {
     "cell_type": "code",
     "collapsed": false,
     "input": [
      "sim.initialized = True\n",
      "first_traj = sim.generate(sim.current_snapshot, [first_traj_ensemble.can_append])"
     ],
     "language": "python",
     "metadata": {},
     "outputs": [
      {
       "output_type": "stream",
       "stream": "stdout",
       "text": [
        "Starting trajectory\n"
       ]
      },
      {
       "output_type": "stream",
       "stream": "stdout",
       "text": [
        "Through frame: 10\n"
       ]
      },
      {
       "output_type": "stream",
       "stream": "stdout",
       "text": [
        "Through frame: 20\n"
       ]
      },
      {
       "output_type": "stream",
       "stream": "stdout",
       "text": [
        "Through frame: 30\n"
       ]
      },
      {
       "output_type": "stream",
       "stream": "stdout",
       "text": [
        "Through frame: 40\n"
       ]
      },
      {
       "output_type": "stream",
       "stream": "stdout",
       "text": [
        "Through frame: 50\n"
       ]
      },
      {
       "output_type": "stream",
       "stream": "stdout",
       "text": [
        "Through frame: 60\n"
       ]
      },
      {
       "output_type": "stream",
       "stream": "stdout",
       "text": [
        "Through frame: 70\n"
       ]
      },
      {
       "output_type": "stream",
       "stream": "stdout",
       "text": [
        "Through frame: 80\n"
       ]
      },
      {
       "output_type": "stream",
       "stream": "stdout",
       "text": [
        "Through frame: 90\n"
       ]
      },
      {
       "output_type": "stream",
       "stream": "stdout",
       "text": [
        "Through frame: 100\n"
       ]
      },
      {
       "output_type": "stream",
       "stream": "stdout",
       "text": [
        "Through frame: 110\n"
       ]
      },
      {
       "output_type": "stream",
       "stream": "stdout",
       "text": [
        "Through frame: 120\n"
       ]
      },
      {
       "output_type": "stream",
       "stream": "stdout",
       "text": [
        "Through frame: 130\n"
       ]
      },
      {
       "output_type": "stream",
       "stream": "stdout",
       "text": [
        "Finished trajectory, length: 133\n"
       ]
      }
     ],
     "prompt_number": 8
    },
    {
     "cell_type": "code",
     "collapsed": false,
     "input": [
      "subtraj = interface_ensemble_set[0].split(first_traj)[0]"
     ],
     "language": "python",
     "metadata": {},
     "outputs": [],
     "prompt_number": 9
    },
    {
     "cell_type": "markdown",
     "metadata": {},
     "source": [
      "### Saving some stuff"
     ]
    },
    {
     "cell_type": "code",
     "collapsed": false,
     "input": [
      "storage.save(first_traj);\n",
      "storage.save(subtraj);\n",
      "storage.save(first_traj_ensemble);"
     ],
     "language": "python",
     "metadata": {},
     "outputs": [],
     "prompt_number": 10
    },
    {
     "cell_type": "markdown",
     "metadata": {},
     "source": [
      "Don't forget to sync once in a while!"
     ]
    },
    {
     "cell_type": "code",
     "collapsed": false,
     "input": [
      "storage.sync() # necessary to make sure all changes are stored to disk!"
     ],
     "language": "python",
     "metadata": {},
     "outputs": [],
     "prompt_number": 11
    },
    {
     "cell_type": "code",
     "collapsed": false,
     "input": [
      "from openpathsampling.pathmover import PathMoverFactory as mf\n",
      "from openpathsampling.shooting import UniformSelector\n",
      "\n",
      "# might be nice to get rid of these two lines somehow\n",
      "from openpathsampling.pathmover import PathMover\n",
      "PathMover.engine = sim\n",
      "\n",
      "shooting_movers = mf.OneWayShootingSet(UniformSelector(), interface_ensemble_set)"
     ],
     "language": "python",
     "metadata": {},
     "outputs": []
    },
    {
     "cell_type": "code",
     "collapsed": false,
     "input": [
      "from openpathsampling.calculation import Bootstrapping\n",
      "\n",
      "# TODO: add storage\n",
      "bootstrap = Bootstrapping(storage=None,\n",
      "                          engine=sim,\n",
      "                          ensembles=interface_ensemble_set,\n",
      "                          movers=shooting_movers,\n",
      "                          trajectory=subtraj)"
     ],
     "language": "python",
     "metadata": {},
     "outputs": [
      {
       "output_type": "stream",
       "stream": "stdout",
       "text": [
        "Initializing <0x10ffaab90> (Bootstrapping)\n"
       ]
      },
      {
       "output_type": "stream",
       "stream": "stdout",
       "text": [
        "Parameter: engine : <openpathsampling.toy_dynamics.toy_engine.ToyEngine object at 0x10febee10>\n"
       ]
      },
      {
       "output_type": "stream",
       "stream": "stdout",
       "text": [
        "Parameter: storage : None\n"
       ]
      },
      {
       "output_type": "stream",
       "stream": "stdout",
       "text": [
        "Initializing <0x10ffaaa90> (PathMover)\n"
       ]
      },
      {
       "output_type": "stream",
       "stream": "stdout",
       "text": [
        "Parameter: ensembles : None\n"
       ]
      },
      {
       "output_type": "stream",
       "stream": "stdout",
       "text": [
        "Parameter: replicas : all\n"
       ]
      },
      {
       "output_type": "stream",
       "stream": "stdout",
       "text": [
        "Initializing <0x10ffaab90> (Bootstrapping)\n"
       ]
      },
      {
       "output_type": "stream",
       "stream": "stdout",
       "text": [
        "Parameter: movers : [<openpathsampling.pathmover.OneWayShootingMover object at 0x10ffaac90>, <openpathsampling.pathmover.OneWayShootingMover object at 0x10d078f50>, <openpathsampling.pathmover.OneWayShootingMover object at 0x10ffaad90>, <openpathsampling.pathmover.OneWayShootingMover object at 0x10ffaaed0>, <openpathsampling.pathmover.OneWayShootingMover object at 0x10ffaaf90>, <openpathsampling.pathmover.OneWayShootingMover object at 0x10ffd7090>]\n"
       ]
      },
      {
       "output_type": "stream",
       "stream": "stdout",
       "text": [
        "Parameter: ensembles : [<openpathsampling.ensemble.SequentialEnsemble object at 0x10ff75490>, <openpathsampling.ensemble.SequentialEnsemble object at 0x10ff75910>, <openpathsampling.ensemble.SequentialEnsemble object at 0x10ff75d90>, <openpathsampling.ensemble.SequentialEnsemble object at 0x10ff78250>, <openpathsampling.ensemble.SequentialEnsemble object at 0x10ff786d0>, <openpathsampling.ensemble.SequentialEnsemble object at 0x10ff78b50>]\n"
       ]
      },
      {
       "output_type": "stream",
       "stream": "stdout",
       "text": [
        "Parameter: trajectory : Trajectory[23]\n"
       ]
      }
     ],
     "prompt_number": 13
    },
    {
     "cell_type": "code",
     "collapsed": false,
     "input": [
      "bootstrap.run(300)"
     ],
     "language": "python",
     "metadata": {},
     "outputs": []
    },
    {
     "cell_type": "code",
     "collapsed": false,
     "input": [
      "from openpathsampling.pathmover import PathReversalSet\n",
      "reversal_movers = PathReversalSet(interface_ensemble_set)"
     ],
     "language": "python",
     "metadata": {},
     "outputs": [
      {
       "output_type": "stream",
       "stream": "stdout",
       "text": [
        "Initializing <0x110c5c690> (PathReversalMover)\n"
       ]
      },
      {
       "output_type": "stream",
       "stream": "stdout",
       "text": [
        "Parameter: ensembles : [<openpathsampling.ensemble.SequentialEnsemble object at 0x10ff75490>]\n"
       ]
      },
      {
       "output_type": "stream",
       "stream": "stdout",
       "text": [
        "Parameter: replicas : all\n"
       ]
      },
      {
       "output_type": "stream",
       "stream": "stdout",
       "text": [
        "Initializing <0x110c5c750> (PathReversalMover)\n"
       ]
      },
      {
       "output_type": "stream",
       "stream": "stdout",
       "text": [
        "Parameter: ensembles : [<openpathsampling.ensemble.SequentialEnsemble object at 0x10ff75910>]\n"
       ]
      },
      {
       "output_type": "stream",
       "stream": "stdout",
       "text": [
        "Parameter: replicas : all\n"
       ]
      },
      {
       "output_type": "stream",
       "stream": "stdout",
       "text": [
        "Initializing <0x110c5c7d0> (PathReversalMover)\n"
       ]
      },
      {
       "output_type": "stream",
       "stream": "stdout",
       "text": [
        "Parameter: ensembles : [<openpathsampling.ensemble.SequentialEnsemble object at 0x10ff75d90>]\n"
       ]
      },
      {
       "output_type": "stream",
       "stream": "stdout",
       "text": [
        "Parameter: replicas : all\n"
       ]
      },
      {
       "output_type": "stream",
       "stream": "stdout",
       "text": [
        "Initializing <0x110c5c8d0> (PathReversalMover)\n"
       ]
      },
      {
       "output_type": "stream",
       "stream": "stdout",
       "text": [
        "Parameter: ensembles : [<openpathsampling.ensemble.SequentialEnsemble object at 0x10ff78250>]\n"
       ]
      },
      {
       "output_type": "stream",
       "stream": "stdout",
       "text": [
        "Parameter: replicas : all\n"
       ]
      },
      {
       "output_type": "stream",
       "stream": "stdout",
       "text": [
        "Initializing <0x110c5c810> (PathReversalMover)\n"
       ]
      },
      {
       "output_type": "stream",
       "stream": "stdout",
       "text": [
        "Parameter: ensembles : [<openpathsampling.ensemble.SequentialEnsemble object at 0x10ff786d0>]\n"
       ]
      },
      {
       "output_type": "stream",
       "stream": "stdout",
       "text": [
        "Parameter: replicas : all\n"
       ]
      },
      {
       "output_type": "stream",
       "stream": "stdout",
       "text": [
        "Initializing <0x110c5c910> (PathReversalMover)\n"
       ]
      },
      {
       "output_type": "stream",
       "stream": "stdout",
       "text": [
        "Parameter: ensembles : [<openpathsampling.ensemble.SequentialEnsemble object at 0x10ff78b50>]\n"
       ]
      },
      {
       "output_type": "stream",
       "stream": "stdout",
       "text": [
        "Parameter: replicas : all\n"
       ]
      }
     ],
     "prompt_number": 15
    },
    {
     "cell_type": "code",
     "collapsed": false,
     "input": [
      "from openpathsampling.pathmover import RandomChoiceMover\n",
      "shooting_chooser = RandomChoiceMover(shooting_movers)\n",
      "reversal_chooser = RandomChoiceMover(reversal_movers)\n",
      "equilibration_movers = RandomChoiceMover([shooting_chooser, reversal_chooser])"
     ],
     "language": "python",
     "metadata": {},
     "outputs": [
      {
       "output_type": "stream",
       "stream": "stdout",
       "text": [
        "Initializing <0x110c5cc50> (RandomChoiceMover)\n"
       ]
      },
      {
       "output_type": "stream",
       "stream": "stdout",
       "text": [
        "Parameter: ensembles : None\n"
       ]
      },
      {
       "output_type": "stream",
       "stream": "stdout",
       "text": [
        "Parameter: replicas : all\n"
       ]
      },
      {
       "output_type": "stream",
       "stream": "stdout",
       "text": [
        "Initializing <0x110c5cc50> (RandomChoiceMover)\n"
       ]
      },
      {
       "output_type": "stream",
       "stream": "stdout",
       "text": [
        "Parameter: movers : [<openpathsampling.pathmover.OneWayShootingMover object at 0x10ffaac90>, <openpathsampling.pathmover.OneWayShootingMover object at 0x10d078f50>, <openpathsampling.pathmover.OneWayShootingMover object at 0x10ffaad90>, <openpathsampling.pathmover.OneWayShootingMover object at 0x10ffaaed0>, <openpathsampling.pathmover.OneWayShootingMover object at 0x10ffaaf90>, <openpathsampling.pathmover.OneWayShootingMover object at 0x10ffd7090>]\n"
       ]
      },
      {
       "output_type": "stream",
       "stream": "stdout",
       "text": [
        "Parameter: weights : [1.0, 1.0, 1.0, 1.0, 1.0, 1.0]\n"
       ]
      },
      {
       "output_type": "stream",
       "stream": "stdout",
       "text": [
        "Initializing <0x110c5cc10> (RandomChoiceMover)\n"
       ]
      },
      {
       "output_type": "stream",
       "stream": "stdout",
       "text": [
        "Parameter: ensembles : None\n"
       ]
      },
      {
       "output_type": "stream",
       "stream": "stdout",
       "text": [
        "Parameter: replicas : all\n"
       ]
      },
      {
       "output_type": "stream",
       "stream": "stdout",
       "text": [
        "Initializing <0x110c5cc10> (RandomChoiceMover)\n"
       ]
      },
      {
       "output_type": "stream",
       "stream": "stdout",
       "text": [
        "Parameter: movers : [<openpathsampling.pathmover.PathReversalMover object at 0x110c5c690>, <openpathsampling.pathmover.PathReversalMover object at 0x110c5c750>, <openpathsampling.pathmover.PathReversalMover object at 0x110c5c7d0>, <openpathsampling.pathmover.PathReversalMover object at 0x110c5c8d0>, <openpathsampling.pathmover.PathReversalMover object at 0x110c5c810>, <openpathsampling.pathmover.PathReversalMover object at 0x110c5c910>]\n"
       ]
      },
      {
       "output_type": "stream",
       "stream": "stdout",
       "text": [
        "Parameter: weights : [1.0, 1.0, 1.0, 1.0, 1.0, 1.0]\n"
       ]
      },
      {
       "output_type": "stream",
       "stream": "stdout",
       "text": [
        "Initializing <0x110c5cbd0> (RandomChoiceMover)\n"
       ]
      },
      {
       "output_type": "stream",
       "stream": "stdout",
       "text": [
        "Parameter: ensembles : None\n"
       ]
      },
      {
       "output_type": "stream",
       "stream": "stdout",
       "text": [
        "Parameter: replicas : all\n"
       ]
      },
      {
       "output_type": "stream",
       "stream": "stdout",
       "text": [
        "Initializing <0x110c5cbd0> (RandomChoiceMover)\n"
       ]
      },
      {
       "output_type": "stream",
       "stream": "stdout",
       "text": [
        "Parameter: movers : [<openpathsampling.pathmover.RandomChoiceMover object at 0x110c5cc50>, <openpathsampling.pathmover.RandomChoiceMover object at 0x110c5cc10>]\n"
       ]
      },
      {
       "output_type": "stream",
       "stream": "stdout",
       "text": [
        "Parameter: weights : [1.0, 1.0]\n"
       ]
      }
     ],
     "prompt_number": 16
    },
    {
     "cell_type": "code",
     "collapsed": false,
     "input": [
      "from openpathsampling.calculation import PathSampling\n",
      "equilibration = PathSampling(storage=None, engine=sim, root_mover=equilibration_movers, globalstate=bootstrap.globalstate)"
     ],
     "language": "python",
     "metadata": {},
     "outputs": [
      {
       "output_type": "stream",
       "stream": "stdout",
       "text": [
        "Initializing <0x110c5cb50> (PathSampling)\n"
       ]
      },
      {
       "output_type": "stream",
       "stream": "stdout",
       "text": [
        "Parameter: engine : <openpathsampling.toy_dynamics.toy_engine.ToyEngine object at 0x10febee10>\n"
       ]
      },
      {
       "output_type": "stream",
       "stream": "stdout",
       "text": [
        "Parameter: storage : None\n"
       ]
      },
      {
       "output_type": "stream",
       "stream": "stdout",
       "text": [
        "Initializing <0x110c5cb50> (PathSampling)\n"
       ]
      },
      {
       "output_type": "stream",
       "stream": "stdout",
       "text": [
        "Parameter: globalstate : <openpathsampling.sample.SampleSet object at 0x110c35050>\n"
       ]
      },
      {
       "output_type": "stream",
       "stream": "stdout",
       "text": [
        "Parameter: root_mover : <openpathsampling.pathmover.RandomChoiceMover object at 0x110c5cbd0>\n"
       ]
      }
     ],
     "prompt_number": 17
    },
    {
     "cell_type": "code",
     "collapsed": false,
     "input": [
      "equilibration.run(200)"
     ],
     "language": "python",
     "metadata": {},
     "outputs": []
    },
    {
     "cell_type": "code",
     "collapsed": false,
     "input": [
      "from openpathsampling.pathmover import NeighborEnsembleReplicaExchange\n",
      "repex_movers = NeighborEnsembleReplicaExchange(interface_ensemble_set)\n",
      "repex_chooser = RandomChoiceMover(repex_movers)"
     ],
     "language": "python",
     "metadata": {},
     "outputs": [
      {
       "output_type": "stream",
       "stream": "stdout",
       "text": [
        "Initializing <0x110e48890> (ReplicaExchangeMover)\n"
       ]
      },
      {
       "output_type": "stream",
       "stream": "stdout",
       "text": [
        "Parameter: ensembles : [[<openpathsampling.ensemble.SequentialEnsemble object at 0x10ff75490>, <openpathsampling.ensemble.SequentialEnsemble object at 0x10ff75910>]]\n"
       ]
      },
      {
       "output_type": "stream",
       "stream": "stdout",
       "text": [
        "Parameter: replicas : all\n"
       ]
      },
      {
       "output_type": "stream",
       "stream": "stdout",
       "text": [
        "Initializing <0x110e48890> (ReplicaExchangeMover)\n"
       ]
      },
      {
       "output_type": "stream",
       "stream": "stdout",
       "text": [
        "Parameter: bias : None\n"
       ]
      },
      {
       "output_type": "stream",
       "stream": "stdout",
       "text": [
        "Initializing <0x110e48e10> (ReplicaExchangeMover)\n"
       ]
      },
      {
       "output_type": "stream",
       "stream": "stdout",
       "text": [
        "Parameter: ensembles : [[<openpathsampling.ensemble.SequentialEnsemble object at 0x10ff75910>, <openpathsampling.ensemble.SequentialEnsemble object at 0x10ff75d90>]]\n"
       ]
      },
      {
       "output_type": "stream",
       "stream": "stdout",
       "text": [
        "Parameter: replicas : all\n"
       ]
      },
      {
       "output_type": "stream",
       "stream": "stdout",
       "text": [
        "Initializing <0x110e48e10> (ReplicaExchangeMover)\n"
       ]
      },
      {
       "output_type": "stream",
       "stream": "stdout",
       "text": [
        "Parameter: bias : None\n"
       ]
      },
      {
       "output_type": "stream",
       "stream": "stdout",
       "text": [
        "Initializing <0x110c5c9d0> (ReplicaExchangeMover)\n"
       ]
      },
      {
       "output_type": "stream",
       "stream": "stdout",
       "text": [
        "Parameter: ensembles : [[<openpathsampling.ensemble.SequentialEnsemble object at 0x10ff75d90>, <openpathsampling.ensemble.SequentialEnsemble object at 0x10ff78250>]]\n"
       ]
      },
      {
       "output_type": "stream",
       "stream": "stdout",
       "text": [
        "Parameter: replicas : all\n"
       ]
      },
      {
       "output_type": "stream",
       "stream": "stdout",
       "text": [
        "Initializing <0x110c5c9d0> (ReplicaExchangeMover)\n"
       ]
      },
      {
       "output_type": "stream",
       "stream": "stdout",
       "text": [
        "Parameter: bias : None\n"
       ]
      },
      {
       "output_type": "stream",
       "stream": "stdout",
       "text": [
        "Initializing <0x110e48e90> (ReplicaExchangeMover)\n"
       ]
      },
      {
       "output_type": "stream",
       "stream": "stdout",
       "text": [
        "Parameter: ensembles : [[<openpathsampling.ensemble.SequentialEnsemble object at 0x10ff78250>, <openpathsampling.ensemble.SequentialEnsemble object at 0x10ff786d0>]]\n"
       ]
      },
      {
       "output_type": "stream",
       "stream": "stdout",
       "text": [
        "Parameter: replicas : all\n"
       ]
      },
      {
       "output_type": "stream",
       "stream": "stdout",
       "text": [
        "Initializing <0x110e48e90> (ReplicaExchangeMover)\n"
       ]
      },
      {
       "output_type": "stream",
       "stream": "stdout",
       "text": [
        "Parameter: bias : None\n"
       ]
      },
      {
       "output_type": "stream",
       "stream": "stdout",
       "text": [
        "Initializing <0x110e48f90> (ReplicaExchangeMover)\n"
       ]
      },
      {
       "output_type": "stream",
       "stream": "stdout",
       "text": [
        "Parameter: ensembles : [[<openpathsampling.ensemble.SequentialEnsemble object at 0x10ff786d0>, <openpathsampling.ensemble.SequentialEnsemble object at 0x10ff78b50>]]\n"
       ]
      },
      {
       "output_type": "stream",
       "stream": "stdout",
       "text": [
        "Parameter: replicas : all\n"
       ]
      },
      {
       "output_type": "stream",
       "stream": "stdout",
       "text": [
        "Initializing <0x110e48f90> (ReplicaExchangeMover)\n"
       ]
      },
      {
       "output_type": "stream",
       "stream": "stdout",
       "text": [
        "Parameter: bias : None\n"
       ]
      },
      {
       "output_type": "stream",
       "stream": "stdout",
       "text": [
        "Initializing <0x110e48c90> (RandomChoiceMover)\n"
       ]
      },
      {
       "output_type": "stream",
       "stream": "stdout",
       "text": [
        "Parameter: ensembles : None\n"
       ]
      },
      {
       "output_type": "stream",
       "stream": "stdout",
       "text": [
        "Parameter: replicas : all\n"
       ]
      },
      {
       "output_type": "stream",
       "stream": "stdout",
       "text": [
        "Initializing <0x110e48c90> (RandomChoiceMover)\n"
       ]
      },
      {
       "output_type": "stream",
       "stream": "stdout",
       "text": [
        "Parameter: movers : [<openpathsampling.pathmover.ReplicaExchangeMover object at 0x110e48890>, <openpathsampling.pathmover.ReplicaExchangeMover object at 0x110e48e10>, <openpathsampling.pathmover.ReplicaExchangeMover object at 0x110c5c9d0>, <openpathsampling.pathmover.ReplicaExchangeMover object at 0x110e48e90>, <openpathsampling.pathmover.ReplicaExchangeMover object at 0x110e48f90>]\n"
       ]
      },
      {
       "output_type": "stream",
       "stream": "stdout",
       "text": [
        "Parameter: weights : [1.0, 1.0, 1.0, 1.0, 1.0]\n"
       ]
      }
     ],
     "prompt_number": 19
    },
    {
     "cell_type": "code",
     "collapsed": false,
     "input": [
      "retis_root_mover = RandomChoiceMover([shooting_chooser, reversal_chooser, repex_chooser])\n",
      "production = PathSampling(storage=storage, engine=sim, root_mover=retis_root_mover, globalstate=equilibration.globalstate)"
     ],
     "language": "python",
     "metadata": {},
     "outputs": [
      {
       "output_type": "stream",
       "stream": "stdout",
       "text": [
        "Initializing <0x110e88790> (RandomChoiceMover)\n"
       ]
      },
      {
       "output_type": "stream",
       "stream": "stdout",
       "text": [
        "Parameter: ensembles : None\n"
       ]
      },
      {
       "output_type": "stream",
       "stream": "stdout",
       "text": [
        "Parameter: replicas : all\n"
       ]
      },
      {
       "output_type": "stream",
       "stream": "stdout",
       "text": [
        "Initializing <0x110e88790> (RandomChoiceMover)\n"
       ]
      },
      {
       "output_type": "stream",
       "stream": "stdout",
       "text": [
        "Parameter: movers : [<openpathsampling.pathmover.RandomChoiceMover object at 0x110c5cc50>, <openpathsampling.pathmover.RandomChoiceMover object at 0x110c5cc10>, <openpathsampling.pathmover.RandomChoiceMover object at 0x110e48c90>]\n"
       ]
      },
      {
       "output_type": "stream",
       "stream": "stdout",
       "text": [
        "Parameter: weights : [1.0, 1.0, 1.0]\n"
       ]
      },
      {
       "output_type": "stream",
       "stream": "stdout",
       "text": [
        "Initializing <0x110e88810> (PathSampling)\n"
       ]
      },
      {
       "output_type": "stream",
       "stream": "stdout",
       "text": [
        "Parameter: engine : <openpathsampling.toy_dynamics.toy_engine.ToyEngine object at 0x10febee10>\n"
       ]
      },
      {
       "output_type": "stream",
       "stream": "stdout",
       "text": [
        "Parameter: storage : <class 'openpathsampling.storage.storage.Storage'>\n",
        "root group (NETCDF4 data model, file format UNDEFINED):\n",
        "    dimensions(sizes): scalar(1), atom(1), spatial(2), trajectory(2), snapshot(135), configuration(135), momentum(135), sample(0), sampleset(0), orderparameter(1), pathmover(0), movedetails(0), shootingpoint(0), shootingpointselector(0), dynamicsengine(0), volume(2), ensemble(1)\n",
        "    variables(dimensions): <type 'str'> \u001b[4mtopology\u001b[0m(scalar), <type 'str'> \u001b[4mtrajectory_json\u001b[0m(trajectory), int32 \u001b[4mtrajectory_snapshot_idx\u001b[0m(trajectory), int32 \u001b[4msnapshot_configuration_idx\u001b[0m(snapshot), int32 \u001b[4msnapshot_momentum_idx\u001b[0m(snapshot), uint8 \u001b[4msnapshot_momentum_reversed\u001b[0m(snapshot), float32 \u001b[4mconfiguration_coordinates\u001b[0m(configuration,atom,spatial), float32 \u001b[4mconfiguration_box_vectors\u001b[0m(configuration,spatial,spatial), float32 \u001b[4mconfiguration_potential\u001b[0m(configuration), float32 \u001b[4mmomentum_velocities\u001b[0m(momentum,atom,spatial), float32 \u001b[4mmomentum_kinetic\u001b[0m(momentum), int32 \u001b[4msample_trajectory_idx\u001b[0m(sample), int32 \u001b[4msample_ensemble_idx\u001b[0m(sample), int32 \u001b[4msample_replica\u001b[0m(sample), int32 \u001b[4msample_details_idx\u001b[0m(sample), int32 \u001b[4msample_step\u001b[0m(sample), int32 \u001b[4msampleset_sample_idx\u001b[0m(sampleset), <type 'str'> \u001b[4morderparameter_name\u001b[0m(orderparameter), int32 \u001b[4morderparameter_length\u001b[0m(orderparameter), <type 'str'> \u001b[4mpathmover_name\u001b[0m(pathmover), <type 'str'> \u001b[4mpathmover_json\u001b[0m(pathmover), <type 'str'> \u001b[4mmovedetails_json\u001b[0m(movedetails), <type 'str'> \u001b[4mshootingpoint_json\u001b[0m(shootingpoint), <type 'str'> \u001b[4mshootingpointselector_json\u001b[0m(shootingpointselector), <type 'str'> \u001b[4mdynamicsengine_name\u001b[0m(dynamicsengine), <type 'str'> \u001b[4mdynamicsengine_json\u001b[0m(dynamicsengine), <type 'str'> \u001b[4mvolume_name\u001b[0m(volume), <type 'str'> \u001b[4mvolume_json\u001b[0m(volume), <type 'str'> \u001b[4mensemble_name\u001b[0m(ensemble), <type 'str'> \u001b[4mensemble_json\u001b[0m(ensemble), int32 \u001b[4mtemplate_idx\u001b[0m(scalar), float32 \u001b[4morderparameter_0_xval_value\u001b[0m(configuration), int32 \u001b[4morderparameter_0_xval_set\u001b[0m(configuration)\n",
        "    groups: \n",
        "\n"
       ]
      },
      {
       "output_type": "stream",
       "stream": "stdout",
       "text": [
        "Initializing <0x110e88810> (PathSampling)\n"
       ]
      },
      {
       "output_type": "stream",
       "stream": "stdout",
       "text": [
        "Parameter: globalstate : <openpathsampling.sample.SampleSet object at 0x110e489d0>\n"
       ]
      },
      {
       "output_type": "stream",
       "stream": "stdout",
       "text": [
        "Parameter: root_mover : <openpathsampling.pathmover.RandomChoiceMover object at 0x110e88790>\n"
       ]
      }
     ],
     "prompt_number": 20
    },
    {
     "cell_type": "code",
     "collapsed": false,
     "input": [
      "production.run(500)"
     ],
     "language": "python",
     "metadata": {},
     "outputs": []
    },
    {
     "cell_type": "code",
     "collapsed": false,
     "input": [
      "storage.sync()"
     ],
     "language": "python",
     "metadata": {},
     "outputs": [],
     "prompt_number": 22
    },
    {
     "cell_type": "code",
     "collapsed": false,
     "input": [],
     "language": "python",
     "metadata": {},
     "outputs": []
    }
   ],
   "metadata": {}
  }
 ]
}
{
 "cells": [
  {
   "cell_type": "code",
   "execution_count": 1,
   "metadata": {
    "collapsed": true
   },
   "outputs": [],
   "source": [
    "import openpathsampling as paths\n",
    "import numpy as np"
   ]
  },
  {
   "cell_type": "markdown",
   "metadata": {},
   "source": [
    "Load first frame from test pdb."
   ]
  },
  {
   "cell_type": "code",
   "execution_count": 2,
   "metadata": {
    "collapsed": true
   },
   "outputs": [],
   "source": [
    "template = paths.tools.snapshot_from_pdb('../data/Alanine_solvated.pdb')"
   ]
  },
  {
   "cell_type": "markdown",
   "metadata": {},
   "source": [
    "Create a simple CV without an underlying function."
   ]
  },
  {
   "cell_type": "code",
   "execution_count": 4,
   "metadata": {
    "collapsed": true
   },
   "outputs": [],
   "source": [
    "cv0 = paths.CollectiveVariable('func0')"
   ]
  },
  {
   "cell_type": "markdown",
   "metadata": {},
   "source": [
    "Create a complicated function."
   ]
  },
  {
   "cell_type": "code",
   "execution_count": 5,
   "metadata": {
    "collapsed": true
   },
   "outputs": [],
   "source": [
    "center = 1\n",
    "def dist(snapshot, center, np):\n",
    "    return np.sum(snapshot.coordinates._value[0]) - center"
   ]
  },
  {
   "cell_type": "markdown",
   "metadata": {},
   "source": [
    "Create collective variable from this function. Note that you have to specify `center` and `np` to make this work"
   ]
  },
  {
   "cell_type": "code",
   "execution_count": 6,
   "metadata": {
    "collapsed": false
   },
   "outputs": [],
   "source": [
    "cv1 = paths.CV_Function('func1', dist, center=center, np=np)\n",
    "cv2 = paths.CV_Function('func2', dist, center=center, np=np, cv_wrap_numpy_array=True)\n",
    "cv3 = paths.CV_Function('func3', dist, center=center, np=np, cv_wrap_numpy_array=True, cv_time_reversible=True)"
   ]
  },
  {
   "cell_type": "markdown",
   "metadata": {},
   "source": [
    "Create storage to test save and load."
   ]
  },
  {
   "cell_type": "code",
   "execution_count": 7,
   "metadata": {
    "collapsed": false
   },
   "outputs": [],
   "source": [
    "storage = paths.Storage('can_be_deleted.nc', mode='w', template=template)"
   ]
  },
  {
   "cell_type": "markdown",
   "metadata": {},
   "source": [
    "Save CV"
   ]
  },
  {
   "cell_type": "code",
   "execution_count": 8,
   "metadata": {
    "collapsed": false
   },
   "outputs": [
    {
     "data": {
      "text/plain": [
       "[(store.cvs[CollectiveVariable], 6, 0),\n",
       " (store.cvs[CollectiveVariable], 6, 1),\n",
       " (store.cvs[CollectiveVariable], 6, 2),\n",
       " (store.cvs[CollectiveVariable], 6, 3)]"
      ]
     },
     "execution_count": 8,
     "metadata": {},
     "output_type": "execute_result"
    }
   ],
   "source": [
    "storage.save([cv0, cv1, cv2, cv3])"
   ]
  },
  {
   "cell_type": "markdown",
   "metadata": {},
   "source": [
    "Test function for reversed template."
   ]
  },
  {
   "cell_type": "code",
   "execution_count": 9,
   "metadata": {
    "collapsed": false
   },
   "outputs": [
    {
     "name": "stdout",
     "output_type": "stream",
     "text": [
      "-1.08320000023\n"
     ]
    }
   ],
   "source": [
    "print dist(template.reversed, center, np)"
   ]
  },
  {
   "cell_type": "markdown",
   "metadata": {},
   "source": [
    "Create another CV. This time using the `from_template` function."
   ]
  },
  {
   "cell_type": "code",
   "execution_count": 9,
   "metadata": {
    "collapsed": false
   },
   "outputs": [
    {
     "name": "stdout",
     "output_type": "stream",
     "text": [
      "[-1.0832000002264977, -1.0832000002264977]\n",
      "[-1.0832 -1.0832]\n"
     ]
    }
   ],
   "source": [
    "print cv0([template, template])\n",
    "print cv1([template, template])"
   ]
  },
  {
   "cell_type": "code",
   "execution_count": 10,
   "metadata": {
    "collapsed": false
   },
   "outputs": [
    {
     "name": "stdout",
     "output_type": "stream",
     "text": [
      "<type 'list'>\n",
      "<type 'numpy.float64'>\n",
      "<type 'numpy.ndarray'>\n",
      "<type 'numpy.float64'>\n"
     ]
    }
   ],
   "source": [
    "print type(cv0([template, template]))\n",
    "print type(cv0([template, template])[0])\n",
    "print type(cv1([template, template]))\n",
    "print type(cv1([template, template])[0])"
   ]
  },
  {
   "cell_type": "code",
   "execution_count": 11,
   "metadata": {
    "collapsed": false
   },
   "outputs": [
    {
     "name": "stdout",
     "output_type": "stream",
     "text": [
      "{\"_cls\": \"CV_Function\", \"_dict\": {\"name\": \"func1\", \"f\": {\"_marshal\": \"YwMAAAADAAAAAwAAAEMAAABzGwAAAHwCAGoAAHwAAGoBAGoCAGQBABmDAQB8AQAYUygCAAAATmkAAAAAKAMAAAB0AwAAAHN1bXQLAAAAY29vcmRpbmF0ZXN0BgAAAF92YWx1ZSgDAAAAdAgAAABzbmFwc2hvdHQGAAAAY2VudGVydAIAAABucCgAAAAAKAAAAABzHgAAADxpcHl0aG9uLWlucHV0LTMtNzMyMzhiNjY5OTg3PnQEAAAAZGlzdAIAAABzAgAAAAAB\", \"_module_vars\": [], \"_global_vars\": []}, \"cv_store_cache\": true, \"cv_time_reversible\": false, \"cv_wrap_numpy_array\": false, \"cv_requires_lists\": false, \"cv_scalarize_numpy_singletons\": false, \"**kwargs\": {\"np\": {\"_import\": \"numpy\"}, \"center\": 1}}}\n",
      "{\"_cls\": \"CV_Function\", \"_dict\": {\"name\": \"func2\", \"f\": {\"_marshal\": \"YwMAAAADAAAAAwAAAEMAAABzGwAAAHwCAGoAAHwAAGoBAGoCAGQBABmDAQB8AQAYUygCAAAATmkAAAAAKAMAAAB0AwAAAHN1bXQLAAAAY29vcmRpbmF0ZXN0BgAAAF92YWx1ZSgDAAAAdAgAAABzbmFwc2hvdHQGAAAAY2VudGVydAIAAABucCgAAAAAKAAAAABzHgAAADxpcHl0aG9uLWlucHV0LTMtNzMyMzhiNjY5OTg3PnQEAAAAZGlzdAIAAABzAgAAAAAB\", \"_module_vars\": [], \"_global_vars\": []}, \"cv_store_cache\": true, \"cv_time_reversible\": false, \"cv_wrap_numpy_array\": true, \"cv_requires_lists\": false, \"cv_scalarize_numpy_singletons\": false, \"**kwargs\": {\"np\": {\"_import\": \"numpy\"}, \"center\": 1}}}\n",
      "{\"_cls\": \"CV_Function\", \"_dict\": {\"name\": \"func3\", \"f\": {\"_marshal\": \"YwMAAAADAAAAAwAAAEMAAABzGwAAAHwCAGoAAHwAAGoBAGoCAGQBABmDAQB8AQAYUygCAAAATmkAAAAAKAMAAAB0AwAAAHN1bXQLAAAAY29vcmRpbmF0ZXN0BgAAAF92YWx1ZSgDAAAAdAgAAABzbmFwc2hvdHQGAAAAY2VudGVydAIAAABucCgAAAAAKAAAAABzHgAAADxpcHl0aG9uLWlucHV0LTMtNzMyMzhiNjY5OTg3PnQEAAAAZGlzdAIAAABzAgAAAAAB\", \"_module_vars\": [], \"_global_vars\": []}, \"cv_store_cache\": true, \"cv_time_reversible\": true, \"cv_wrap_numpy_array\": true, \"cv_requires_lists\": false, \"cv_scalarize_numpy_singletons\": false, \"**kwargs\": {\"np\": {\"_import\": \"numpy\"}, \"center\": 1}}}\n"
     ]
    }
   ],
   "source": [
    "#! skip\n",
    "print storage.cvs.variables['json'][0]\n",
    "print storage.cvs.variables['json'][1]\n",
    "print storage.cvs.variables['json'][2]"
   ]
  },
  {
   "cell_type": "code",
   "execution_count": 12,
   "metadata": {
    "collapsed": false
   },
   "outputs": [],
   "source": [
    "cv0j = storage.cvs.vars['json'][0]\n",
    "cv1j = storage.cvs.vars['json'][1]\n",
    "cv2j = storage.cvs.vars['json'][2]"
   ]
  },
  {
   "cell_type": "code",
   "execution_count": 13,
   "metadata": {
    "collapsed": false
   },
   "outputs": [],
   "source": [
    "res = cv0j([template, template, template])\n",
    "assert(res[0] == res[1] == res[2])\n",
    "res = cv1j([template, template, template])\n",
    "assert(res[0] == res[1] == res[2])\n",
    "res = cv2j([template, template, template])\n",
    "assert(res[0] == res[1] == res[2])"
   ]
  },
  {
   "cell_type": "code",
   "execution_count": 14,
   "metadata": {
    "collapsed": false
   },
   "outputs": [
    {
     "name": "stdout",
     "output_type": "stream",
     "text": [
      "<type 'netCDF4._netCDF4.Variable'>\n",
      "float64 snapshots_cv_0_values_fw(snapshots)\n",
      "    var_type: numpy.float64\n",
      "    maskable: True\n",
      "unlimited dimensions: snapshots\n",
      "current shape = (1,)\n",
      "filling on, default _FillValue of 9.96920996839e+36 used\n",
      "\n",
      "<type 'netCDF4._netCDF4.Variable'>\n",
      "float64 snapshots_cv_1_values_fw(snapshots)\n",
      "    var_type: numpy.float64\n",
      "    maskable: True\n",
      "unlimited dimensions: snapshots\n",
      "current shape = (1,)\n",
      "filling on, default _FillValue of 9.96920996839e+36 used\n",
      "\n",
      "<type 'netCDF4._netCDF4.Variable'>\n",
      "float64 snapshots_cv_2_values_fw(snapshots)\n",
      "    var_type: numpy.float64\n",
      "    maskable: True\n",
      "unlimited dimensions: snapshots\n",
      "current shape = (1,)\n",
      "filling on, default _FillValue of 9.96920996839e+36 used\n",
      "\n"
     ]
    }
   ],
   "source": [
    "print storage.variables['snapshots_cv_0_values_fw']\n",
    "print storage.variables['snapshots_cv_1_values_fw']\n",
    "print storage.variables['snapshots_cv_2_values_fw']"
   ]
  },
  {
   "cell_type": "code",
   "execution_count": 15,
   "metadata": {
    "collapsed": false
   },
   "outputs": [
    {
     "name": "stdout",
     "output_type": "stream",
     "text": [
      "[None]\n",
      "[None]\n",
      "[None]\n"
     ]
    }
   ],
   "source": [
    "print storage.cvs.cache_var(0)[:]\n",
    "print storage.cvs.cache_var(1)[:]\n",
    "print storage.cvs.cache_var(2)[:]"
   ]
  },
  {
   "cell_type": "markdown",
   "metadata": {},
   "source": [
    "Sync again."
   ]
  },
  {
   "cell_type": "code",
   "execution_count": 16,
   "metadata": {
    "collapsed": false
   },
   "outputs": [],
   "source": [
    "cv0.sync()\n",
    "cv1.sync()\n",
    "cv2.sync()"
   ]
  },
  {
   "cell_type": "markdown",
   "metadata": {},
   "source": [
    "Note that the third CV, which had `time_reversible=True` will automatically compute the values for the reversed snapshot, too. So after syncing we see two equal values."
   ]
  },
  {
   "cell_type": "code",
   "execution_count": 22,
   "metadata": {
    "collapsed": false
   },
   "outputs": [
    {
     "name": "stdout",
     "output_type": "stream",
     "text": [
      "[-1.0832000002264977]\n",
      "[None]\n",
      "[-1.0832000002264977]\n",
      "[None]\n",
      "[-1.0832000002264977]\n"
     ]
    },
    {
     "ename": "KeyError",
     "evalue": "'snapshots_cv_2_values_bw'",
     "output_type": "error",
     "traceback": [
      "\u001b[0;31m---------------------------------------------------------------------------\u001b[0m",
      "\u001b[0;31mKeyError\u001b[0m                                  Traceback (most recent call last)",
      "\u001b[0;32m<ipython-input-22-05e16641bf25>\u001b[0m in \u001b[0;36m<module>\u001b[0;34m()\u001b[0m\n\u001b[1;32m      4\u001b[0m \u001b[0;32mprint\u001b[0m \u001b[0mstorage\u001b[0m\u001b[0;34m.\u001b[0m\u001b[0mcvs\u001b[0m\u001b[0;34m.\u001b[0m\u001b[0mcache_bw\u001b[0m\u001b[0;34m(\u001b[0m\u001b[0;36m1\u001b[0m\u001b[0;34m)\u001b[0m\u001b[0;34m[\u001b[0m\u001b[0;34m:\u001b[0m\u001b[0;34m]\u001b[0m\u001b[0;34m\u001b[0m\u001b[0m\n\u001b[1;32m      5\u001b[0m \u001b[0;32mprint\u001b[0m \u001b[0mstorage\u001b[0m\u001b[0;34m.\u001b[0m\u001b[0mcvs\u001b[0m\u001b[0;34m.\u001b[0m\u001b[0mcache_var\u001b[0m\u001b[0;34m(\u001b[0m\u001b[0;36m2\u001b[0m\u001b[0;34m)\u001b[0m\u001b[0;34m[\u001b[0m\u001b[0;34m:\u001b[0m\u001b[0;34m]\u001b[0m\u001b[0;34m\u001b[0m\u001b[0m\n\u001b[0;32m----> 6\u001b[0;31m \u001b[0;32mprint\u001b[0m \u001b[0mstorage\u001b[0m\u001b[0;34m.\u001b[0m\u001b[0mcvs\u001b[0m\u001b[0;34m.\u001b[0m\u001b[0mcache_bw\u001b[0m\u001b[0;34m(\u001b[0m\u001b[0;36m2\u001b[0m\u001b[0;34m)\u001b[0m\u001b[0;34m[\u001b[0m\u001b[0;34m:\u001b[0m\u001b[0;34m]\u001b[0m\u001b[0;34m\u001b[0m\u001b[0m\n\u001b[0m",
      "\u001b[0;32m/Users/jan-hendrikprinz/Studium/git/openpathsampling/openpathsampling/storage/cv_store.pyc\u001b[0m in \u001b[0;36mcache_bw\u001b[0;34m(self, obj)\u001b[0m\n\u001b[1;32m    270\u001b[0m             \u001b[0;32mreturn\u001b[0m \u001b[0mNone\u001b[0m\u001b[0;34m\u001b[0m\u001b[0m\n\u001b[1;32m    271\u001b[0m \u001b[0;34m\u001b[0m\u001b[0m\n\u001b[0;32m--> 272\u001b[0;31m         \u001b[0;32mreturn\u001b[0m \u001b[0mself\u001b[0m\u001b[0;34m.\u001b[0m\u001b[0mkey_store\u001b[0m\u001b[0;34m.\u001b[0m\u001b[0mvars\u001b[0m\u001b[0;34m[\u001b[0m\u001b[0mvar_name\u001b[0m \u001b[0;34m+\u001b[0m \u001b[0;34m'_bw'\u001b[0m\u001b[0;34m]\u001b[0m\u001b[0;34m\u001b[0m\u001b[0m\n\u001b[0m\u001b[1;32m    273\u001b[0m \u001b[0;34m\u001b[0m\u001b[0m\n\u001b[1;32m    274\u001b[0m     \u001b[0;32mdef\u001b[0m \u001b[0mset_cache_store\u001b[0m\u001b[0;34m(\u001b[0m\u001b[0mself\u001b[0m\u001b[0;34m,\u001b[0m \u001b[0mobjectdict\u001b[0m\u001b[0;34m)\u001b[0m\u001b[0;34m:\u001b[0m\u001b[0;34m\u001b[0m\u001b[0m\n",
      "\u001b[0;32m/Users/jan-hendrikprinz/Studium/git/openpathsampling/openpathsampling/netcdfplus/objects.pyc\u001b[0m in \u001b[0;36m__getitem__\u001b[0;34m(self, item)\u001b[0m\n\u001b[1;32m     48\u001b[0m \u001b[0;34m\u001b[0m\u001b[0m\n\u001b[1;32m     49\u001b[0m         \u001b[0;32mdef\u001b[0m \u001b[0m__getitem__\u001b[0m\u001b[0;34m(\u001b[0m\u001b[0mself\u001b[0m\u001b[0;34m,\u001b[0m \u001b[0mitem\u001b[0m\u001b[0;34m)\u001b[0m\u001b[0;34m:\u001b[0m\u001b[0;34m\u001b[0m\u001b[0m\n\u001b[0;32m---> 50\u001b[0;31m             \u001b[0;32mreturn\u001b[0m \u001b[0mself\u001b[0m\u001b[0;34m.\u001b[0m\u001b[0mdct\u001b[0m\u001b[0;34m[\u001b[0m\u001b[0mself\u001b[0m\u001b[0;34m.\u001b[0m\u001b[0mprefix\u001b[0m \u001b[0;34m+\u001b[0m \u001b[0mitem\u001b[0m\u001b[0;34m]\u001b[0m\u001b[0;34m\u001b[0m\u001b[0m\n\u001b[0m\u001b[1;32m     51\u001b[0m \u001b[0;34m\u001b[0m\u001b[0m\n\u001b[1;32m     52\u001b[0m     \u001b[0;32mdef\u001b[0m \u001b[0mprefix_delegate\u001b[0m\u001b[0;34m(\u001b[0m\u001b[0mself\u001b[0m\u001b[0;34m,\u001b[0m \u001b[0mdct\u001b[0m\u001b[0;34m)\u001b[0m\u001b[0;34m:\u001b[0m\u001b[0;34m\u001b[0m\u001b[0m\n",
      "\u001b[0;31mKeyError\u001b[0m: 'snapshots_cv_2_values_bw'"
     ]
    }
   ],
   "source": [
    "print storage.cvs.cache_var(0)[:]\n",
    "print storage.cvs.cache_bw(0)[:]\n",
    "print storage.cvs.cache_var(1)[:]\n",
    "print storage.cvs.cache_bw(1)[:]\n",
    "print storage.cvs.cache_var(2)[:]\n",
    "print storage.cvs.cache_bw(2)[:]"
   ]
  },
  {
   "cell_type": "markdown",
   "metadata": {},
   "source": [
    "Since our function returns a numpy.float64 scalar we get these back (hopefully)"
   ]
  },
  {
   "cell_type": "code",
   "execution_count": 18,
   "metadata": {
    "collapsed": false
   },
   "outputs": [
    {
     "name": "stdout",
     "output_type": "stream",
     "text": [
      "<type 'numpy.float64'>\n",
      "<type 'numpy.float64'>\n",
      "<type 'numpy.float64'>\n"
     ]
    }
   ],
   "source": [
    "print type(storage.vars['snapshots_cv_0_values_fw'][0])\n",
    "print type(storage.vars['snapshots_cv_1_values_fw'][0])\n",
    "print type(storage.vars['snapshots_cv_2_values_fw'][0])"
   ]
  },
  {
   "cell_type": "code",
   "execution_count": 19,
   "metadata": {
    "collapsed": false
   },
   "outputs": [
    {
     "name": "stdout",
     "output_type": "stream",
     "text": [
      "LRUCache(1/0 of 1000000/0)\n",
      "LRUCache(1/0 of 1000000/0)\n",
      "LRUCache(2/0 of 1000000/0)\n"
     ]
    }
   ],
   "source": [
    "print cv0._store_dict.cache\n",
    "print cv1._store_dict.cache\n",
    "print cv2._store_dict.cache"
   ]
  },
  {
   "cell_type": "code",
   "execution_count": null,
   "metadata": {
    "collapsed": true
   },
   "outputs": [],
   "source": []
  }
 ],
 "metadata": {
  "kernelspec": {
   "display_name": "Python 2",
   "language": "python",
   "name": "python2"
  },
  "language_info": {
   "codemirror_mode": {
    "name": "ipython",
    "version": 2
   },
   "file_extension": ".py",
   "mimetype": "text/x-python",
   "name": "python",
   "nbconvert_exporter": "python",
   "pygments_lexer": "ipython2",
   "version": "2.7.11"
  }
 },
 "nbformat": 4,
 "nbformat_minor": 0
}

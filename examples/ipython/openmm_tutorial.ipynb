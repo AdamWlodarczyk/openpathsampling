{
 "cells": [
  {
   "cell_type": "markdown",
   "metadata": {},
   "source": [
    "## Simple OpenMM Example\n",
    "\n",
    "Loading PDB, Solvating, Minimizing and short production run\n",
    "\n",
    "#### authors\n",
    "- Antonia Mey\n",
    "- Jan-Hendrik Prinz"
   ]
  },
  {
   "cell_type": "markdown",
   "metadata": {},
   "source": [
    "This is a simple introduction and example on how to use openmm. More examples can be found on the openmm website under\n",
    "http://openmm.org"
   ]
  },
  {
   "cell_type": "markdown",
   "metadata": {},
   "source": [
    "Misc Imports"
   ]
  },
  {
   "cell_type": "code",
   "execution_count": 14,
   "metadata": {
    "collapsed": true
   },
   "outputs": [],
   "source": [
    "import time\n",
    "from sys import stdout"
   ]
  },
  {
   "cell_type": "markdown",
   "metadata": {},
   "source": [
    "Import OpenMM"
   ]
  },
  {
   "cell_type": "code",
   "execution_count": 15,
   "metadata": {
    "collapsed": false
   },
   "outputs": [],
   "source": [
    "from simtk.openmm.app import *\n",
    "from simtk.openmm import *\n",
    "from simtk.unit import *"
   ]
  },
  {
   "cell_type": "code",
   "execution_count": 16,
   "metadata": {
    "collapsed": false
   },
   "outputs": [
    {
     "name": "stdout",
     "output_type": "stream",
     "text": [
      "OpenMM version is : 6.3.0.dev-Unknown\n"
     ]
    }
   ],
   "source": [
    "print ('OpenMM version is : ' + version.full_version)\n",
    "start_time = time.time()"
   ]
  },
  {
   "cell_type": "markdown",
   "metadata": {},
   "source": [
    "Check available OpenMM platforms"
   ]
  },
  {
   "cell_type": "code",
   "execution_count": 17,
   "metadata": {
    "collapsed": false
   },
   "outputs": [
    {
     "name": "stdout",
     "output_type": "stream",
     "text": [
      "Platform used is : CUDA\n",
      "<simtk.openmm.openmm.Platform; proxy of <Swig Object of type 'OpenMM::Platform *' at 0x10fe1cc90> >\n"
     ]
    }
   ],
   "source": [
    "platform = openmm.Platform.getPlatformByName('CUDA')\n",
    "print ('Platform used is : ' + platform.getName())\n",
    "print platform"
   ]
  },
  {
   "cell_type": "markdown",
   "metadata": {},
   "source": [
    "Loading the unsolvated pdb file"
   ]
  },
  {
   "cell_type": "code",
   "execution_count": 18,
   "metadata": {
    "collapsed": false
   },
   "outputs": [],
   "source": [
    "pdb = PDBFile('../data/input.pdb')\n",
    "forcefield = ForceField('amber99sb.xml', 'tip3p.xml')"
   ]
  },
  {
   "cell_type": "markdown",
   "metadata": {},
   "source": [
    "Adding solvent"
   ]
  },
  {
   "cell_type": "code",
   "execution_count": 19,
   "metadata": {
    "collapsed": false
   },
   "outputs": [],
   "source": [
    "modeller = Modeller(pdb.topology, pdb.positions)\n",
    "modeller.addSolvent(forcefield, model='tip3p', padding=1*nanometer)"
   ]
  },
  {
   "cell_type": "markdown",
   "metadata": {},
   "source": [
    "Create System"
   ]
  },
  {
   "cell_type": "code",
   "execution_count": 20,
   "metadata": {
    "collapsed": true
   },
   "outputs": [],
   "source": [
    "system1 = forcefield.createSystem(modeller.topology, nonbondedMethod=PME)"
   ]
  },
  {
   "cell_type": "code",
   "execution_count": 23,
   "metadata": {
    "collapsed": true
   },
   "outputs": [],
   "source": [
    "?openmm.Platform.getSpeed()"
   ]
  },
  {
   "cell_type": "code",
   "execution_count": 25,
   "metadata": {
    "collapsed": false
   },
   "outputs": [
    {
     "name": "stdout",
     "output_type": "stream",
     "text": [
      "Reference 1.0\n",
      "CUDA 100.0\n"
     ]
    }
   ],
   "source": [
    "for n in range(openmm.Platform.getNumPlatforms()):\n",
    "    pf = openmm.Platform.getPlatform(n)\n",
    "    print pf.getName(), pf.getSpeed()"
   ]
  },
  {
   "cell_type": "markdown",
   "metadata": {},
   "source": [
    "Minimizing"
   ]
  },
  {
   "cell_type": "code",
   "execution_count": 8,
   "metadata": {
    "collapsed": false
   },
   "outputs": [
    {
     "ename": "KeyboardInterrupt",
     "evalue": "",
     "output_type": "error",
     "traceback": [
      "\u001b[0;31m---------------------------------------------------------------------------\u001b[0m",
      "\u001b[0;31mKeyboardInterrupt\u001b[0m                         Traceback (most recent call last)",
      "\u001b[0;32m<ipython-input-8-6d2bb52e4a1e>\u001b[0m in \u001b[0;36m<module>\u001b[0;34m()\u001b[0m\n\u001b[1;32m      2\u001b[0m \u001b[0msimulation1\u001b[0m \u001b[0;34m=\u001b[0m \u001b[0mSimulation\u001b[0m\u001b[0;34m(\u001b[0m\u001b[0mmodeller\u001b[0m\u001b[0;34m.\u001b[0m\u001b[0mtopology\u001b[0m\u001b[0;34m,\u001b[0m \u001b[0msystem1\u001b[0m\u001b[0;34m,\u001b[0m \u001b[0mintegrator1\u001b[0m\u001b[0;34m,\u001b[0m \u001b[0mplatform\u001b[0m\u001b[0;34m)\u001b[0m\u001b[0;34m\u001b[0m\u001b[0m\n\u001b[1;32m      3\u001b[0m \u001b[0msimulation1\u001b[0m\u001b[0;34m.\u001b[0m\u001b[0mcontext\u001b[0m\u001b[0;34m.\u001b[0m\u001b[0msetPositions\u001b[0m\u001b[0;34m(\u001b[0m\u001b[0mmodeller\u001b[0m\u001b[0;34m.\u001b[0m\u001b[0mpositions\u001b[0m\u001b[0;34m)\u001b[0m\u001b[0;34m\u001b[0m\u001b[0m\n\u001b[0;32m----> 4\u001b[0;31m \u001b[0msimulation1\u001b[0m\u001b[0;34m.\u001b[0m\u001b[0mminimizeEnergy\u001b[0m\u001b[0;34m(\u001b[0m\u001b[0mmaxIterations\u001b[0m\u001b[0;34m=\u001b[0m\u001b[0;36m200\u001b[0m\u001b[0;34m)\u001b[0m\u001b[0;34m\u001b[0m\u001b[0m\n\u001b[0m",
      "\u001b[0;32m/Users/jan-hendrikprinz/anaconda/lib/python2.7/site-packages/simtk/openmm/app/simulation.py\u001b[0m in \u001b[0;36mminimizeEnergy\u001b[0;34m(self, tolerance, maxIterations)\u001b[0m\n\u001b[1;32m     89\u001b[0m            \u001b[0muntil\u001b[0m \u001b[0mthe\u001b[0m \u001b[0mresults\u001b[0m \u001b[0mconverge\u001b[0m \u001b[0mwithout\u001b[0m \u001b[0mregard\u001b[0m \u001b[0mto\u001b[0m \u001b[0mhow\u001b[0m \u001b[0mmany\u001b[0m \u001b[0miterations\u001b[0m \u001b[0mit\u001b[0m \u001b[0mtakes\u001b[0m\u001b[0;34m.\u001b[0m\u001b[0;34m\u001b[0m\u001b[0m\n\u001b[1;32m     90\u001b[0m         \"\"\"\n\u001b[0;32m---> 91\u001b[0;31m         \u001b[0mmm\u001b[0m\u001b[0;34m.\u001b[0m\u001b[0mLocalEnergyMinimizer\u001b[0m\u001b[0;34m.\u001b[0m\u001b[0mminimize\u001b[0m\u001b[0;34m(\u001b[0m\u001b[0mself\u001b[0m\u001b[0;34m.\u001b[0m\u001b[0mcontext\u001b[0m\u001b[0;34m,\u001b[0m \u001b[0mtolerance\u001b[0m\u001b[0;34m,\u001b[0m \u001b[0mmaxIterations\u001b[0m\u001b[0;34m)\u001b[0m\u001b[0;34m\u001b[0m\u001b[0m\n\u001b[0m\u001b[1;32m     92\u001b[0m \u001b[0;34m\u001b[0m\u001b[0m\n\u001b[1;32m     93\u001b[0m     \u001b[0;32mdef\u001b[0m \u001b[0mstep\u001b[0m\u001b[0;34m(\u001b[0m\u001b[0mself\u001b[0m\u001b[0;34m,\u001b[0m \u001b[0msteps\u001b[0m\u001b[0;34m)\u001b[0m\u001b[0;34m:\u001b[0m\u001b[0;34m\u001b[0m\u001b[0m\n",
      "\u001b[0;32m/Users/jan-hendrikprinz/anaconda/lib/python2.7/site-packages/simtk/openmm/openmm.py\u001b[0m in \u001b[0;36mminimize\u001b[0;34m(*args)\u001b[0m\n\u001b[1;32m  12113\u001b[0m \u001b[0;34m\u001b[0m\u001b[0m\n\u001b[1;32m  12114\u001b[0m \u001b[0;34m\u001b[0m\u001b[0m\n\u001b[0;32m> 12115\u001b[0;31m         \u001b[0;32mreturn\u001b[0m \u001b[0m_openmm\u001b[0m\u001b[0;34m.\u001b[0m\u001b[0mLocalEnergyMinimizer_minimize\u001b[0m\u001b[0;34m(\u001b[0m\u001b[0;34m*\u001b[0m\u001b[0margs\u001b[0m\u001b[0;34m)\u001b[0m\u001b[0;34m\u001b[0m\u001b[0m\n\u001b[0m\u001b[1;32m  12116\u001b[0m \u001b[0;34m\u001b[0m\u001b[0m\n\u001b[1;32m  12117\u001b[0m     \u001b[0;32mif\u001b[0m \u001b[0m_newclass\u001b[0m\u001b[0;34m:\u001b[0m\u001b[0mminimize\u001b[0m \u001b[0;34m=\u001b[0m \u001b[0mstaticmethod\u001b[0m\u001b[0;34m(\u001b[0m\u001b[0mminimize\u001b[0m\u001b[0;34m)\u001b[0m\u001b[0;34m\u001b[0m\u001b[0m\n",
      "\u001b[0;31mKeyboardInterrupt\u001b[0m: "
     ]
    }
   ],
   "source": [
    "integrator1 = VerletIntegrator(0.001*picoseconds)\n",
    "simulation1 = Simulation(modeller.topology, system1, integrator1, platform)\n",
    "simulation1.context.setPositions(modeller.positions)\n",
    "simulation1.minimizeEnergy(maxIterations=200)"
   ]
  },
  {
   "cell_type": "markdown",
   "metadata": {},
   "source": [
    "Simulate"
   ]
  },
  {
   "cell_type": "code",
   "execution_count": 9,
   "metadata": {
    "collapsed": true
   },
   "outputs": [],
   "source": [
    "system2 = forcefield.createSystem(modeller.topology, nonbondedMethod=PME, nonbondedCutoff=1.0*nanometer, constraints=HBonds)\n",
    "integrator2 = LangevinIntegrator(300*kelvin, 1/picosecond, 0.002*picoseconds)"
   ]
  },
  {
   "cell_type": "markdown",
   "metadata": {},
   "source": [
    "Creating simulation context"
   ]
  },
  {
   "cell_type": "code",
   "execution_count": 10,
   "metadata": {
    "collapsed": true
   },
   "outputs": [],
   "source": [
    "simulation2 = Simulation(modeller.topology, system2, integrator2) \n",
    "simulation2.context.setPositions(simulation1.context.getState(getPositions=True).getPositions())"
   ]
  },
  {
   "cell_type": "markdown",
   "metadata": {},
   "source": [
    "Minimizing System "
   ]
  },
  {
   "cell_type": "code",
   "execution_count": 11,
   "metadata": {
    "collapsed": true
   },
   "outputs": [],
   "source": [
    "simulation2.minimizeEnergy(maxIterations=25)"
   ]
  },
  {
   "cell_type": "markdown",
   "metadata": {},
   "source": [
    "Adding Reporters "
   ]
  },
  {
   "cell_type": "code",
   "execution_count": 12,
   "metadata": {
    "collapsed": false
   },
   "outputs": [],
   "source": [
    "simulation2.reporters.append(PDBReporter('output_exercise1.pdb', 5)) \n",
    "simulation2.reporters.append(StateDataReporter(stdout, 100, step=True, potentialEnergy=True, temperature=True))"
   ]
  },
  {
   "cell_type": "markdown",
   "metadata": {},
   "source": [
    "Running simulation"
   ]
  },
  {
   "cell_type": "code",
   "execution_count": 13,
   "metadata": {
    "collapsed": false
   },
   "outputs": [
    {
     "name": "stdout",
     "output_type": "stream",
     "text": [
      "#\"Step\",\"Potential Energy (kJ/mole)\",\"Temperature (K)\"\n",
      "100,-24905.441484,104.002083718\n",
      "200,-24491.3622441,144.448023954\n",
      "300,-24254.8811314,178.261835181\n",
      "400,-23887.5246872,199.763655856\n",
      "500,-23524.1666682,222.002724012\n",
      "600,-23242.3643317,231.738077702\n",
      "700,-23000.5672438,241.867759347\n",
      "800,-22911.9797696,252.738879434\n",
      "900,-22681.1618459,245.539832028\n",
      "1000,-22621.5378603,264.964602195\n",
      "CPU times: user 7.94 s, sys: 422 ms, total: 8.36 s\n",
      "Wall time: 12.1 s\n"
     ]
    }
   ],
   "source": [
    "%%time\n",
    "simulation2.step(1000)"
   ]
  },
  {
   "cell_type": "code",
   "execution_count": 1,
   "metadata": {
    "collapsed": false
   },
   "outputs": [
    {
     "name": "stderr",
     "output_type": "stream",
     "text": [
      ":0: FutureWarning: IPython widgets are experimental and may change in the future.\n"
     ]
    },
    {
     "data": {
      "application/javascript": [
       "$(\"head\").append($(\"<link/>\").attr({\n",
       "  rel:  \"stylesheet\",\n",
       "  type: \"text/css\",\n",
       "  href: \"//lab.jakiestfu.com/contextjs/context.standalone.css\"\n",
       "}));\n",
       "\n",
       "require.config({\n",
       "    paths: {\n",
       "        'three': '//cdnjs.cloudflare.com/ajax/libs/three.js/r68/three.min',\n",
       "        'iview' : '/nbextensions/iview',\n",
       "        'surface' : '/nbextensions/surface.min',\n",
       "        'exporter' : '/nbextensions/objexporter',\n",
       "        'filesaver' : '/nbextensions/filesaver',\n",
       "        'jqueryui': '//ajax.googleapis.com/ajax/libs/jqueryui/1.11.1/jquery-ui.min',\n",
       "        'contextmenu': '/nbextensions/context',\n",
       "    },\n",
       "    shim: {\n",
       "        three: {\n",
       "            exports: 'THREE'\n",
       "        },\n",
       "        iview: {\n",
       "            deps: ['three', 'surface'],\n",
       "            exports: 'iview'\n",
       "        },\n",
       "        surface: {\n",
       "            exports: 'ProteinSurface'\n",
       "        },\n",
       "        exporter: {\n",
       "            deps: ['three'],\n",
       "            exports: 'THREE.OBJExporter'\n",
       "        },\n",
       "        jqueryui: {\n",
       "            exports: \"$\"\n",
       "        },\n",
       "    },\n",
       "});\n"
      ],
      "text/plain": [
       "<IPython.core.display.Javascript object>"
      ]
     },
     "metadata": {},
     "output_type": "display_data"
    },
    {
     "data": {
      "application/javascript": [
       "/*\n",
       "This script creates and registers the TrajectoryView widget on the\n",
       "browser side. Basically, it's a small div, with the iview molecule viewer (WebGL-based\n",
       "protein visualization) hooked in. Changes to the class on the python side\n",
       "propagate here and modify `this.model.attributes`, and re-call `update`.\n",
       "*/\n",
       "\n",
       "require([\n",
       "    \"jquery\",\n",
       "    \"widgets/js/widget\",\n",
       "    \"widgets/js/manager\",\n",
       "    \"iview\",\n",
       "    \"exporter\",\n",
       "    \"filesaver\",\n",
       "    \"contextmenu\",\n",
       "    // only loaded, not used\n",
       "    'jqueryui',\n",
       "    ],\n",
       "\n",
       "function($, widget, manager, iview) {\n",
       "    var HEIGHT = 300,\n",
       "        WIDTH = 300,\n",
       "        HEIGHT_PX = '300px',\n",
       "        WIDTH_PX = '300px';\n",
       "\n",
       "    var TrajectoryView = widget.DOMWidgetView.extend({\n",
       "        render : function() {\n",
       "            var canvas = $(\"<canvas/>\").height(HEIGHT).width(WIDTH);\n",
       "            var iv = new iview(canvas);\n",
       "            var container = $('<div/>').css({width: HEIGHT_PX, height: WIDTH_PX})\n",
       "                .resizable({\n",
       "                    aspectRatio: 1,\n",
       "                    resize: function(event, ui) {\n",
       "                        iv.renderer.setSize(ui.size.width, ui.size.height);\n",
       "                    },\n",
       "\t\t    stop : function(event, ui) {\n",
       "\t\t\tiv.render()\n",
       "\t\t    },\n",
       "                });\n",
       "            container.append(canvas);\n",
       "            this.setElement(container);\n",
       "            this.iv = iv;\n",
       "            this.setupContextMenu(iv);\n",
       "            this.setupFullScreen(canvas, container);\n",
       "            this.update();\n",
       "            var options = this.getOptions() \n",
       "            this.iv.zoomInto(options);\n",
       "\n",
       "\n",
       "            // debugging\n",
       "            window.iv = this.iv;\n",
       "            window.model = this.model;\n",
       "        },\n",
       "\n",
       "        update : function () {\n",
       "            /* This could definitely be done more efficiently. Right now we're\n",
       "            just recreating and redrawing everything. For the (presumably)\n",
       "            common use case where you just want to update the positions to the\n",
       "            next frame in a trajectory, there's no real need to redefine the\n",
       "            topology and representation.\n",
       "            */\n",
       "\n",
       "            console.log('TrajectoryView.update');\n",
       "\n",
       "            this.iv.loadTopology(this.model.attributes._topology);\n",
       "            this.iv.loadCoordinates(this.model.attributes._frameData.coordinates);\n",
       "            this.iv.loadAtomAttributes(this.model.attributes._frameData.secondaryStructure);\n",
       "           \n",
       "            var options = this.getOptions() \n",
       "            this.iv.rebuildScene(options)\n",
       "            this.iv.render()\n",
       "\n",
       "            return TrajectoryView.__super__.update.apply(this);\n",
       "        },\n",
       "        \n",
       "        setupContextMenu : function(iv) {\n",
       "            context.init({preventDoubleContext: true});\n",
       "            var menu = [{header: 'Export as...'},\n",
       "                    {text: 'PNG',\n",
       "                    action: function () {\n",
       "                        var dataURL = iv.renderer.domElement.toDataURL('image/png');\n",
       "                        var data = atob( dataURL.substring( \"data:image/png;base64,\".length ) ),\n",
       "                                asArray = new Uint8Array(data.length);\n",
       "                        for( var i = 0, len = data.length; i < len; ++i ) {\n",
       "                                asArray[i] = data.charCodeAt(i);    \n",
       "                        }\n",
       "                        var blob = new Blob( [ asArray.buffer ], {type: \"image/png\"} );\n",
       "                        saveAs(blob,\"mol.png\")\n",
       "                    }\n",
       "                }, { \n",
       "                    text: 'OBJ',\n",
       "                    action: function () {\n",
       "                       var obj = '';\n",
       "                       var exporter = new THREE.OBJExporter();\n",
       "                       iv.mdl.children.forEach( function (object) {\n",
       "                           obj = obj + String(exporter.parse(object.geometry));\n",
       "                       });\n",
       "                       var blob = new Blob([obj], { type : \"text/obj;charset=utf-8\"});\n",
       "                       saveAs(blob, \"mol.obj\");\n",
       "                    }\n",
       "                }];\n",
       "            context.attach('canvas',menu)\n",
       "            \n",
       "        },\n",
       "\n",
       "        getOptions : function() {\n",
       "\n",
       "             var options = {\n",
       "                'camera': this.model.attributes.camera,\n",
       "                'background': this.model.attributes.background,\n",
       "                'colorBy': this.model.attributes.colorBy,\n",
       "                'primaryStructure': this.model.attributes.primaryStructure,\n",
       "                'secondaryStructure': this.model.attributes.secondaryStructure,\n",
       "                'surface': this.model.attributes.surfaceRepresentation\n",
       "             };\n",
       "        \n",
       "             return options\n",
       "        },\n",
       "\n",
       "        setupFullScreen : function(canvas, container) {\n",
       "            // currently only works in chrome. need other prefixes for firefox\n",
       "            var iv = this.iv;\n",
       "            canvas.dblclick(function () {\n",
       "            \tif ('webkitCancelFullScreen' in document) {\n",
       "                    if (!document.webkitIsFullScreen) {\n",
       "\t\t\tvar minHW = Math.min(screen.width, screen.height);\n",
       "                \tcanvas[0].webkitRequestFullScreen();\n",
       "                        iv.renderer.setSize(minHW, minHW);\n",
       "                        iv.render();\n",
       "                    }\n",
       "                } else if ('mozCancelFullScreen' in document) {\n",
       "                    if (!document.mozIsFullScreen) {\n",
       "                        var minHW = Math.min(screen.width, screen.height);\n",
       "                \tcanvas[0].mozRequestFullScreen();\n",
       "                        iv.renderer.setSize(minHW, minHW);\n",
       "                        iv.render();\n",
       "                    }\n",
       "\t\t}\n",
       "            });\n",
       "\n",
       "            if ('webkitCancelFullScreen' in document) {\n",
       "\t\tdocument.addEventListener(\"webkitfullscreenchange\", function() {\n",
       "                    if (!document.webkitIsFullScreen) {\n",
       "\t\t\tcontainer.css({width: HEIGHT_PX, height: WIDTH_PX});\n",
       "\t\t\tiv.renderer.setSize(WIDTH, HEIGHT);\n",
       "\t\t\tiv.render();\n",
       "                    }\n",
       "\t\t});\n",
       "\t    } else if ('mozCancelFullScreen' in document) {\n",
       "\t\tdocument.addEventListener(\"mozfullscreenchange\", function() {\n",
       "                    if (!document.mozIsFullScreen) {\n",
       "\t\t\tiv.renderer.setSize(WIDTH, HEIGHT);\n",
       "\t\t\tcontainer.css({width: HEIGHT_PX, height: WIDTH_PX});\n",
       "\t\t\tiv.render();\n",
       "\n",
       "                    }\n",
       "\t\t});\n",
       "\t    }\n",
       "        },\n",
       "    });\n",
       "\n",
       "\n",
       "    manager.WidgetManager.register_widget_view('TrajectoryView', TrajectoryView);\n",
       "});\n"
      ],
      "text/plain": [
       "<IPython.core.display.Javascript object>"
      ]
     },
     "metadata": {},
     "output_type": "display_data"
    },
    {
     "data": {
      "application/javascript": [
       "require([\"widgets/js/widget\", \"widgets/js/manager\"], function(widget, manager){\n",
       "    var ImageButtonView = widget.DOMWidgetView.extend({\n",
       "        render : function(){\n",
       "            // Called when view is rendered.\n",
       "            this.setElement($(\"<img />\"));\n",
       "            this.update(); // Set defaults.\n",
       "        },\n",
       "\n",
       "        update : function(){\n",
       "            // Update the contents of this view\n",
       "            //\n",
       "            // Called when the model is changed.  The model may have been \n",
       "            // changed by another view or by a state update from the back-end.\n",
       "            var image_src = 'data:image/' + this.model.get('format') + ';base64,' + this.model.get('_b64value');\n",
       "            console.log(this.model);\n",
       "            this.$el.attr('src', image_src);\n",
       "\n",
       "            var width = this.model.get('width');\n",
       "            if (width !== undefined && width.length > 0) {\n",
       "                this.$el.attr('width', width);\n",
       "            } else {\n",
       "                this.$el.removeAttr('width');\n",
       "            }\n",
       "            \n",
       "            var height = this.model.get('height');\n",
       "            if (height !== undefined && height.length > 0) {\n",
       "                this.$el.attr('height', height);\n",
       "            } else {\n",
       "                this.$el.removeAttr('height');\n",
       "            }\n",
       "            return ImageButtonView.__super__.update.apply(this);\n",
       "        },\n",
       "\n",
       "        events: {\n",
       "            // Dictionary of events and their handlers.\n",
       "            'click': '_handle_click',\n",
       "        },\n",
       "        \n",
       "        _handle_click: function(ev) {\n",
       "            // Handles when the button is clicked.\n",
       "            console.log(this.$el.offset());\n",
       "            var top = this.$el.offset().top;\n",
       "            var left = this.$el.offset().left;\n",
       "            var xAspect = this.$el.width() / this.$el[0].naturalWidth;\n",
       "            var yAspect = this.$el.height() / this.$el[0].naturalHeight;\n",
       "\n",
       "            \n",
       "            var x = (ev.pageX - left) / xAspect;\n",
       "            var y = (this.$el.height() - (ev.pageY - top)) / yAspect;\n",
       "            this.send({event: 'click', 'mouseX': x, 'mouseY': y});\n",
       "        },\n",
       "    });\n",
       "\n",
       "    // Register the DatePickerView with the widget manager.\n",
       "    manager.WidgetManager.register_widget_view('ImageButtonView', ImageButtonView);\n",
       "});\n"
      ],
      "text/plain": [
       "<IPython.core.display.Javascript object>"
      ]
     },
     "metadata": {},
     "output_type": "display_data"
    }
   ],
   "source": [
    "import openmmtools\n",
    "import openpathsampling as paths\n",
    "import openpathsampling.storage\n",
    "import simtk.openmm as omm\n",
    "import simtk.unit as u\n",
    "import numpy as np\n",
    "import mdtraj as md\n",
    "from mdtraj.html import TrajectoryView, enable_notebook\n",
    "enable_notebook()"
   ]
  },
  {
   "cell_type": "code",
   "execution_count": 2,
   "metadata": {
    "collapsed": false
   },
   "outputs": [],
   "source": [
    "ala = openmmtools.testsystems.AlanineDipeptideExplicit()"
   ]
  },
  {
   "cell_type": "code",
   "execution_count": 3,
   "metadata": {
    "collapsed": false
   },
   "outputs": [],
   "source": [
    "engine = paths.OpenMMToolsEngine(\n",
    "    testsystem = ala,\n",
    "    integrator = omm.VerletIntegrator(1.0*u.femtoseconds),\n",
    "    options = {\n",
    "        'platform' : 'CUDA'\n",
    "    })"
   ]
  },
  {
   "cell_type": "code",
   "execution_count": 4,
   "metadata": {
    "collapsed": false
   },
   "outputs": [],
   "source": [
    "st = paths.storage.Storage('omm.nc', mode='w', template = engine.template)"
   ]
  },
  {
   "cell_type": "code",
   "execution_count": 4,
   "metadata": {
    "collapsed": false
   },
   "outputs": [],
   "source": [
    "ind = engine.template.md().topology.select(\"protein\")"
   ]
  },
  {
   "cell_type": "code",
   "execution_count": 10,
   "metadata": {
    "collapsed": true
   },
   "outputs": [],
   "source": [
    "engine.create()"
   ]
  },
  {
   "cell_type": "code",
   "execution_count": 8,
   "metadata": {
    "collapsed": true
   },
   "outputs": [],
   "source": [
    "curr = engine.template"
   ]
  },
  {
   "cell_type": "code",
   "execution_count": null,
   "metadata": {
    "collapsed": true
   },
   "outputs": [],
   "source": []
  },
  {
   "cell_type": "code",
   "execution_count": 5,
   "metadata": {
    "collapsed": false
   },
   "outputs": [],
   "source": [
    "tview = TrajectoryView(paths.Trajectory([engine.template]).subset(ind).md(), primaryStructure='ball & stick')"
   ]
  },
  {
   "cell_type": "code",
   "execution_count": 13,
   "metadata": {
    "collapsed": false
   },
   "outputs": [],
   "source": [
    "for f in xrange(10):\n",
    "    traj = engine.generate(curr, [paths.LengthEnsemble(5).can_append])\n",
    "    tview.trajectory = traj.subset(ind).md()\n",
    "    curr = traj[-1]"
   ]
  },
  {
   "cell_type": "code",
   "execution_count": 66,
   "metadata": {
    "collapsed": true
   },
   "outputs": [],
   "source": [
    "tview.frame = 1"
   ]
  },
  {
   "cell_type": "code",
   "execution_count": 6,
   "metadata": {
    "collapsed": true
   },
   "outputs": [],
   "source": [
    "tview"
   ]
  },
  {
   "cell_type": "code",
   "execution_count": null,
   "metadata": {
    "collapsed": true
   },
   "outputs": [],
   "source": []
  }
 ],
 "metadata": {
  "kernelspec": {
   "display_name": "Python 2",
   "language": "python",
   "name": "python2"
  },
  "language_info": {
   "codemirror_mode": {
    "name": "ipython",
    "version": 2
   },
   "file_extension": ".py",
   "mimetype": "text/x-python",
   "name": "python",
   "nbconvert_exporter": "python",
   "pygments_lexer": "ipython2",
   "version": "2.7.10"
  }
 },
 "nbformat": 4,
 "nbformat_minor": 0
}

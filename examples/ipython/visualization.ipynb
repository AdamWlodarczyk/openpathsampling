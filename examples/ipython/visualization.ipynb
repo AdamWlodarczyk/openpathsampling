{
 "metadata": {
  "name": "",
  "signature": "sha256:00a44a0426fc8a14c339cd33f84624a3ff0a701d3eff6f0e5b0a2a176761e441"
 },
 "nbformat": 3,
 "nbformat_minor": 0,
 "worksheets": [
  {
   "cells": [
    {
     "cell_type": "markdown",
     "metadata": {},
     "source": [
      "## PathTree Visualization Example"
     ]
    },
    {
     "cell_type": "code",
     "collapsed": false,
     "input": [
      "from openpathsampling.storage import Storage\n",
      "from openpathsampling.visualize import PathTreeBuilder\n",
      "from IPython.display import SVG"
     ],
     "language": "python",
     "metadata": {},
     "outputs": [],
     "prompt_number": 1
    },
    {
     "cell_type": "markdown",
     "metadata": {},
     "source": [
      "First load a previously generated trajectory storage object"
     ]
    },
    {
     "cell_type": "markdown",
     "metadata": {},
     "source": [
      "TODO: Change example directory at some point"
     ]
    },
    {
     "cell_type": "code",
     "collapsed": false,
     "input": [
      "storage = Storage('../alanine/trajectory.nc')"
     ],
     "language": "python",
     "metadata": {},
     "outputs": [],
     "prompt_number": 2
    },
    {
     "cell_type": "markdown",
     "metadata": {},
     "source": [
      "Then create a simple tree builder object. The TreeBuilder knows about the way things should be arranged and what to display. It contains a TreeRenderer() object that is in charge of generating the actual SVG output. The renderer knows about zoom levels and scaling, etc."
     ]
    },
    {
     "cell_type": "code",
     "collapsed": false,
     "input": [
      "tree = PathTreeBuilder(storage)"
     ],
     "language": "python",
     "metadata": {},
     "outputs": [],
     "prompt_number": 3
    },
    {
     "cell_type": "markdown",
     "metadata": {},
     "source": [
      "Load a set of samples that belong to a specific ensemble (in this case ensemble with ID 4)"
     ]
    },
    {
     "cell_type": "code",
     "collapsed": false,
     "input": [
      "samples = storage.sample.by_ensemble(storage.ensemble.load(1))"
     ],
     "language": "python",
     "metadata": {},
     "outputs": [],
     "prompt_number": 4
    },
    {
     "cell_type": "markdown",
     "metadata": {},
     "source": [
      "Finally set some options\n",
      "- show rejected paths\n",
      "- show state bars below the snapshot boxes, here for StateA in black\n",
      "- use a transformed orderparameter, here use psi angles and convert to degrees\n",
      "\n",
      "and then create the set of drawing commands for this setting from the list of samples"
     ]
    },
    {
     "cell_type": "code",
     "collapsed": false,
     "input": [
      "tree.rejected = True\n",
      "tree.states = [('StateA','black')]\n",
      "tree.op = storage.cv.load('psi').get_transformed_view(lambda x : int(x / 3.141592653 * 180))\n",
      "tree.from_samples(samples)"
     ],
     "language": "python",
     "metadata": {},
     "outputs": [],
     "prompt_number": 5
    },
    {
     "cell_type": "markdown",
     "metadata": {},
     "source": [
      "Last, tweak the output to be a little bigger, increase a fontsize and output the SVG to the ipython notebook"
     ]
    },
    {
     "cell_type": "code",
     "collapsed": false,
     "input": [
      "view = tree.renderer\n",
      "view.zoom = 1.1\n",
      "view.font_size = 0.35\n",
      "SVG(view.to_svg())"
     ],
     "language": "python",
     "metadata": {},
     "outputs": [
      {
       "metadata": {},
       "output_type": "pyout",
       "prompt_number": 6,
       "svg": [
        "<svg baseProfile=\"full\" height=\"79.2px\" version=\"1.1\" width=\"475.2px\" xmlns=\"http://www.w3.org/2000/svg\" xmlns:ev=\"http://www.w3.org/2001/xml-events\" xmlns:xlink=\"http://www.w3.org/1999/xlink\"><defs/><rect fill=\"black\" height=\"2.64\" stroke=\"black\" stroke-width=\"1.32\" width=\"26.4\" x=\"26.4\" y=\"62.04\"/><rect fill=\"black\" height=\"2.64\" stroke=\"black\" stroke-width=\"1.32\" width=\"26.4\" x=\"422.4\" y=\"35.64\"/><rect fill=\"black\" height=\"2.64\" stroke=\"black\" stroke-width=\"1.32\" width=\"26.4\" x=\"79.2\" y=\"35.64\"/><rect fill=\"black\" height=\"15.84\" width=\"23.76\" x=\"80.52\" y=\"18.48\"/><circle cx=\"79.2\" cy=\"26.4\" fill=\"black\" r=\"1.32\" stroke=\"black\" stroke-width=\"0\"/><circle cx=\"105.6\" cy=\"26.4\" fill=\"black\" r=\"1.32\" stroke=\"black\" stroke-width=\"0\"/><text alignment-baseline=\"middle\" fill=\"white\" font-family=\"Futura\" font-size=\"9.24\" text-anchor=\"middle\" x=\"92.4\" y=\"27.72\">-35</text><rect fill=\"black\" height=\"15.84\" width=\"23.76\" x=\"106.92\" y=\"18.48\"/><circle cx=\"105.6\" cy=\"26.4\" fill=\"black\" r=\"1.32\" stroke=\"black\" stroke-width=\"0\"/><circle cx=\"132.0\" cy=\"26.4\" fill=\"black\" r=\"1.32\" stroke=\"black\" stroke-width=\"0\"/><text alignment-baseline=\"middle\" fill=\"white\" font-family=\"Futura\" font-size=\"9.24\" text-anchor=\"middle\" x=\"118.8\" y=\"27.72\">-24</text><rect fill=\"black\" height=\"15.84\" width=\"23.76\" x=\"133.32\" y=\"18.48\"/><circle cx=\"132.0\" cy=\"26.4\" fill=\"black\" r=\"1.32\" stroke=\"black\" stroke-width=\"0\"/><circle cx=\"158.4\" cy=\"26.4\" fill=\"black\" r=\"1.32\" stroke=\"black\" stroke-width=\"0\"/><text alignment-baseline=\"middle\" fill=\"white\" font-family=\"Futura\" font-size=\"9.24\" text-anchor=\"middle\" x=\"145.2\" y=\"27.72\">-29</text><rect fill=\"black\" height=\"15.84\" width=\"23.76\" x=\"159.72\" y=\"18.48\"/><circle cx=\"158.4\" cy=\"26.4\" fill=\"black\" r=\"1.32\" stroke=\"black\" stroke-width=\"0\"/><circle cx=\"184.8\" cy=\"26.4\" fill=\"black\" r=\"1.32\" stroke=\"black\" stroke-width=\"0\"/><text alignment-baseline=\"middle\" fill=\"white\" font-family=\"Futura\" font-size=\"9.24\" text-anchor=\"middle\" x=\"171.6\" y=\"27.72\">-17</text><rect fill=\"black\" height=\"15.84\" width=\"23.76\" x=\"186.12\" y=\"18.48\"/><circle cx=\"184.8\" cy=\"26.4\" fill=\"black\" r=\"1.32\" stroke=\"black\" stroke-width=\"0\"/><circle cx=\"211.2\" cy=\"26.4\" fill=\"black\" r=\"1.32\" stroke=\"black\" stroke-width=\"0\"/><text alignment-baseline=\"middle\" fill=\"white\" font-family=\"Futura\" font-size=\"9.24\" text-anchor=\"middle\" x=\"198.0\" y=\"27.72\">-26</text><rect fill=\"black\" height=\"15.84\" width=\"23.76\" x=\"212.52\" y=\"18.48\"/><circle cx=\"211.2\" cy=\"26.4\" fill=\"black\" r=\"1.32\" stroke=\"black\" stroke-width=\"0\"/><circle cx=\"237.6\" cy=\"26.4\" fill=\"black\" r=\"1.32\" stroke=\"black\" stroke-width=\"0\"/><text alignment-baseline=\"middle\" fill=\"white\" font-family=\"Futura\" font-size=\"9.24\" text-anchor=\"middle\" x=\"224.4\" y=\"27.72\">-17</text><rect fill=\"black\" height=\"15.84\" width=\"23.76\" x=\"238.92\" y=\"18.48\"/><circle cx=\"237.6\" cy=\"26.4\" fill=\"black\" r=\"1.32\" stroke=\"black\" stroke-width=\"0\"/><circle cx=\"264.0\" cy=\"26.4\" fill=\"black\" r=\"1.32\" stroke=\"black\" stroke-width=\"0\"/><text alignment-baseline=\"middle\" fill=\"white\" font-family=\"Futura\" font-size=\"9.24\" text-anchor=\"middle\" x=\"250.8\" y=\"27.72\">-17</text><rect fill=\"black\" height=\"15.84\" width=\"23.76\" x=\"265.32\" y=\"18.48\"/><circle cx=\"264.0\" cy=\"26.4\" fill=\"black\" r=\"1.32\" stroke=\"black\" stroke-width=\"0\"/><circle cx=\"290.4\" cy=\"26.4\" fill=\"black\" r=\"1.32\" stroke=\"black\" stroke-width=\"0\"/><text alignment-baseline=\"middle\" fill=\"white\" font-family=\"Futura\" font-size=\"9.24\" text-anchor=\"middle\" x=\"277.2\" y=\"27.72\">-25</text><rect fill=\"black\" height=\"15.84\" width=\"23.76\" x=\"291.72\" y=\"18.48\"/><circle cx=\"290.4\" cy=\"26.4\" fill=\"black\" r=\"1.32\" stroke=\"black\" stroke-width=\"0\"/><circle cx=\"316.8\" cy=\"26.4\" fill=\"black\" r=\"1.32\" stroke=\"black\" stroke-width=\"0\"/><text alignment-baseline=\"middle\" fill=\"white\" font-family=\"Futura\" font-size=\"9.24\" text-anchor=\"middle\" x=\"303.6\" y=\"27.72\">-23</text><rect fill=\"black\" height=\"15.84\" width=\"23.76\" x=\"318.12\" y=\"18.48\"/><circle cx=\"316.8\" cy=\"26.4\" fill=\"black\" r=\"1.32\" stroke=\"black\" stroke-width=\"0\"/><circle cx=\"343.2\" cy=\"26.4\" fill=\"black\" r=\"1.32\" stroke=\"black\" stroke-width=\"0\"/><text alignment-baseline=\"middle\" fill=\"white\" font-family=\"Futura\" font-size=\"9.24\" text-anchor=\"middle\" x=\"330.0\" y=\"27.72\">-25</text><rect fill=\"black\" height=\"15.84\" width=\"23.76\" x=\"344.52\" y=\"18.48\"/><circle cx=\"343.2\" cy=\"26.4\" fill=\"black\" r=\"1.32\" stroke=\"black\" stroke-width=\"0\"/><circle cx=\"369.6\" cy=\"26.4\" fill=\"black\" r=\"1.32\" stroke=\"black\" stroke-width=\"0\"/><text alignment-baseline=\"middle\" fill=\"white\" font-family=\"Futura\" font-size=\"9.24\" text-anchor=\"middle\" x=\"356.4\" y=\"27.72\">-19</text><rect fill=\"black\" height=\"15.84\" width=\"23.76\" x=\"370.92\" y=\"18.48\"/><circle cx=\"369.6\" cy=\"26.4\" fill=\"black\" r=\"1.32\" stroke=\"black\" stroke-width=\"0\"/><circle cx=\"396.0\" cy=\"26.4\" fill=\"black\" r=\"1.32\" stroke=\"black\" stroke-width=\"0\"/><text alignment-baseline=\"middle\" fill=\"white\" font-family=\"Futura\" font-size=\"9.24\" text-anchor=\"middle\" x=\"382.8\" y=\"27.72\">-28</text><rect fill=\"black\" height=\"15.84\" width=\"23.76\" x=\"397.32\" y=\"18.48\"/><circle cx=\"396.0\" cy=\"26.4\" fill=\"black\" r=\"1.32\" stroke=\"black\" stroke-width=\"0\"/><circle cx=\"422.4\" cy=\"26.4\" fill=\"black\" r=\"1.32\" stroke=\"black\" stroke-width=\"0\"/><text alignment-baseline=\"middle\" fill=\"white\" font-family=\"Futura\" font-size=\"9.24\" text-anchor=\"middle\" x=\"409.2\" y=\"27.72\">-25</text><rect fill=\"black\" height=\"15.84\" width=\"23.76\" x=\"423.72\" y=\"18.48\"/><circle cx=\"422.4\" cy=\"26.4\" fill=\"black\" r=\"1.32\" stroke=\"black\" stroke-width=\"0\"/><circle cx=\"448.8\" cy=\"26.4\" fill=\"black\" r=\"1.32\" stroke=\"black\" stroke-width=\"0\"/><text alignment-baseline=\"middle\" fill=\"white\" font-family=\"Futura\" font-size=\"9.24\" text-anchor=\"middle\" x=\"435.6\" y=\"27.72\">-38</text><text alignment-baseline=\"middle\" fill=\"black\" font-family=\"Futura\" font-size=\"9.24\" text-anchor=\"end\" x=\"73.92\" y=\"27.72\">1b</text><line stroke=\"red\" stroke-width=\"1.32\" x1=\"237.6\" x2=\"237.6\" y1=\"27.72\" y2=\"51.48\"/><text alignment-baseline=\"middle\" fill=\"black\" font-family=\"Futura\" font-size=\"9.24\" text-anchor=\"start\" x=\"454.08\" y=\"54.12\">1f</text><rect fill=\"red\" height=\"15.84\" width=\"23.76\" x=\"27.72\" y=\"44.88\"/><circle cx=\"26.4\" cy=\"52.8\" fill=\"red\" r=\"1.32\" stroke=\"red\" stroke-width=\"0\"/><circle cx=\"52.8\" cy=\"52.8\" fill=\"red\" r=\"1.32\" stroke=\"red\" stroke-width=\"0\"/><text alignment-baseline=\"middle\" fill=\"white\" font-family=\"Futura\" font-size=\"9.24\" text-anchor=\"middle\" x=\"39.6\" y=\"54.12\">-34</text><rect fill=\"red\" height=\"15.84\" width=\"23.76\" x=\"54.12\" y=\"44.88\"/><circle cx=\"52.8\" cy=\"52.8\" fill=\"red\" r=\"1.32\" stroke=\"red\" stroke-width=\"0\"/><circle cx=\"79.2\" cy=\"52.8\" fill=\"red\" r=\"1.32\" stroke=\"red\" stroke-width=\"0\"/><text alignment-baseline=\"middle\" fill=\"white\" font-family=\"Futura\" font-size=\"9.24\" text-anchor=\"middle\" x=\"66.0\" y=\"54.12\">-28</text><rect fill=\"red\" height=\"15.84\" width=\"23.76\" x=\"80.52\" y=\"44.88\"/><circle cx=\"79.2\" cy=\"52.8\" fill=\"red\" r=\"1.32\" stroke=\"red\" stroke-width=\"0\"/><circle cx=\"105.6\" cy=\"52.8\" fill=\"red\" r=\"1.32\" stroke=\"red\" stroke-width=\"0\"/><text alignment-baseline=\"middle\" fill=\"white\" font-family=\"Futura\" font-size=\"9.24\" text-anchor=\"middle\" x=\"92.4\" y=\"54.12\">-28</text><rect fill=\"red\" height=\"15.84\" width=\"23.76\" x=\"106.92\" y=\"44.88\"/><circle cx=\"105.6\" cy=\"52.8\" fill=\"red\" r=\"1.32\" stroke=\"red\" stroke-width=\"0\"/><circle cx=\"132.0\" cy=\"52.8\" fill=\"red\" r=\"1.32\" stroke=\"red\" stroke-width=\"0\"/><text alignment-baseline=\"middle\" fill=\"white\" font-family=\"Futura\" font-size=\"9.24\" text-anchor=\"middle\" x=\"118.8\" y=\"54.12\">-18</text><rect fill=\"red\" height=\"15.84\" width=\"23.76\" x=\"133.32\" y=\"44.88\"/><circle cx=\"132.0\" cy=\"52.8\" fill=\"red\" r=\"1.32\" stroke=\"red\" stroke-width=\"0\"/><circle cx=\"158.4\" cy=\"52.8\" fill=\"red\" r=\"1.32\" stroke=\"red\" stroke-width=\"0\"/><text alignment-baseline=\"middle\" fill=\"white\" font-family=\"Futura\" font-size=\"9.24\" text-anchor=\"middle\" x=\"145.2\" y=\"54.12\">-25</text><rect fill=\"red\" height=\"15.84\" width=\"23.76\" x=\"159.72\" y=\"44.88\"/><circle cx=\"158.4\" cy=\"52.8\" fill=\"red\" r=\"1.32\" stroke=\"red\" stroke-width=\"0\"/><circle cx=\"184.8\" cy=\"52.8\" fill=\"red\" r=\"1.32\" stroke=\"red\" stroke-width=\"0\"/><text alignment-baseline=\"middle\" fill=\"white\" font-family=\"Futura\" font-size=\"9.24\" text-anchor=\"middle\" x=\"171.6\" y=\"54.12\">-18</text><rect fill=\"red\" height=\"15.84\" width=\"23.76\" x=\"186.12\" y=\"44.88\"/><circle cx=\"184.8\" cy=\"52.8\" fill=\"red\" r=\"1.32\" stroke=\"red\" stroke-width=\"0\"/><circle cx=\"211.2\" cy=\"52.8\" fill=\"red\" r=\"1.32\" stroke=\"red\" stroke-width=\"0\"/><text alignment-baseline=\"middle\" fill=\"white\" font-family=\"Futura\" font-size=\"9.24\" text-anchor=\"middle\" x=\"198.0\" y=\"54.12\">-25</text></svg>"
       ],
       "text": [
        "<IPython.core.display.SVG at 0x111e29050>"
       ]
      }
     ],
     "prompt_number": 6
    },
    {
     "cell_type": "markdown",
     "metadata": {},
     "source": [
      "Or more similar to the old style"
     ]
    },
    {
     "cell_type": "code",
     "collapsed": false,
     "input": [
      "tree.rejected = True\n",
      "tree.states = []\n",
      "tree.op = None\n",
      "tree.from_samples(samples)\n",
      "view = tree.renderer\n",
      "view.zoom = 1.1\n",
      "view.horizontal_gap = -0.01\n",
      "view.scale_y = 15\n",
      "view.font_size = 0.8\n",
      "view.font_family = 'Times'\n",
      "SVG(view.to_svg())"
     ],
     "language": "python",
     "metadata": {},
     "outputs": [
      {
       "metadata": {},
       "output_type": "pyout",
       "prompt_number": 7,
       "svg": [
        "<svg baseProfile=\"full\" height=\"49.5px\" version=\"1.1\" width=\"475.2px\" xmlns=\"http://www.w3.org/2000/svg\" xmlns:ev=\"http://www.w3.org/2001/xml-events\" xmlns:xlink=\"http://www.w3.org/1999/xlink\"><defs/><rect fill=\"black\" height=\"9.9\" width=\"26.928\" x=\"78.936\" y=\"11.55\"/><circle cx=\"79.2\" cy=\"16.5\" fill=\"black\" r=\"-0.264\" stroke=\"black\" stroke-width=\"0\"/><circle cx=\"105.6\" cy=\"16.5\" fill=\"black\" r=\"-0.264\" stroke=\"black\" stroke-width=\"0\"/><text alignment-baseline=\"middle\" fill=\"white\" font-family=\"Times\" font-size=\"13.2\" text-anchor=\"middle\" x=\"92.4\" y=\"17.325\"/><rect fill=\"black\" height=\"9.9\" width=\"26.928\" x=\"105.336\" y=\"11.55\"/><circle cx=\"105.6\" cy=\"16.5\" fill=\"black\" r=\"-0.264\" stroke=\"black\" stroke-width=\"0\"/><circle cx=\"132.0\" cy=\"16.5\" fill=\"black\" r=\"-0.264\" stroke=\"black\" stroke-width=\"0\"/><text alignment-baseline=\"middle\" fill=\"white\" font-family=\"Times\" font-size=\"13.2\" text-anchor=\"middle\" x=\"118.8\" y=\"17.325\"/><rect fill=\"black\" height=\"9.9\" width=\"26.928\" x=\"131.736\" y=\"11.55\"/><circle cx=\"132.0\" cy=\"16.5\" fill=\"black\" r=\"-0.264\" stroke=\"black\" stroke-width=\"0\"/><circle cx=\"158.4\" cy=\"16.5\" fill=\"black\" r=\"-0.264\" stroke=\"black\" stroke-width=\"0\"/><text alignment-baseline=\"middle\" fill=\"white\" font-family=\"Times\" font-size=\"13.2\" text-anchor=\"middle\" x=\"145.2\" y=\"17.325\"/><rect fill=\"black\" height=\"9.9\" width=\"26.928\" x=\"158.136\" y=\"11.55\"/><circle cx=\"158.4\" cy=\"16.5\" fill=\"black\" r=\"-0.264\" stroke=\"black\" stroke-width=\"0\"/><circle cx=\"184.8\" cy=\"16.5\" fill=\"black\" r=\"-0.264\" stroke=\"black\" stroke-width=\"0\"/><text alignment-baseline=\"middle\" fill=\"white\" font-family=\"Times\" font-size=\"13.2\" text-anchor=\"middle\" x=\"171.6\" y=\"17.325\"/><rect fill=\"black\" height=\"9.9\" width=\"26.928\" x=\"184.536\" y=\"11.55\"/><circle cx=\"184.8\" cy=\"16.5\" fill=\"black\" r=\"-0.264\" stroke=\"black\" stroke-width=\"0\"/><circle cx=\"211.2\" cy=\"16.5\" fill=\"black\" r=\"-0.264\" stroke=\"black\" stroke-width=\"0\"/><text alignment-baseline=\"middle\" fill=\"white\" font-family=\"Times\" font-size=\"13.2\" text-anchor=\"middle\" x=\"198.0\" y=\"17.325\"/><rect fill=\"black\" height=\"9.9\" width=\"26.928\" x=\"210.936\" y=\"11.55\"/><circle cx=\"211.2\" cy=\"16.5\" fill=\"black\" r=\"-0.264\" stroke=\"black\" stroke-width=\"0\"/><circle cx=\"237.6\" cy=\"16.5\" fill=\"black\" r=\"-0.264\" stroke=\"black\" stroke-width=\"0\"/><text alignment-baseline=\"middle\" fill=\"white\" font-family=\"Times\" font-size=\"13.2\" text-anchor=\"middle\" x=\"224.4\" y=\"17.325\"/><rect fill=\"black\" height=\"9.9\" width=\"26.928\" x=\"237.336\" y=\"11.55\"/><circle cx=\"237.6\" cy=\"16.5\" fill=\"black\" r=\"-0.264\" stroke=\"black\" stroke-width=\"0\"/><circle cx=\"264.0\" cy=\"16.5\" fill=\"black\" r=\"-0.264\" stroke=\"black\" stroke-width=\"0\"/><text alignment-baseline=\"middle\" fill=\"white\" font-family=\"Times\" font-size=\"13.2\" text-anchor=\"middle\" x=\"250.8\" y=\"17.325\"/><rect fill=\"black\" height=\"9.9\" width=\"26.928\" x=\"263.736\" y=\"11.55\"/><circle cx=\"264.0\" cy=\"16.5\" fill=\"black\" r=\"-0.264\" stroke=\"black\" stroke-width=\"0\"/><circle cx=\"290.4\" cy=\"16.5\" fill=\"black\" r=\"-0.264\" stroke=\"black\" stroke-width=\"0\"/><text alignment-baseline=\"middle\" fill=\"white\" font-family=\"Times\" font-size=\"13.2\" text-anchor=\"middle\" x=\"277.2\" y=\"17.325\"/><rect fill=\"black\" height=\"9.9\" width=\"26.928\" x=\"290.136\" y=\"11.55\"/><circle cx=\"290.4\" cy=\"16.5\" fill=\"black\" r=\"-0.264\" stroke=\"black\" stroke-width=\"0\"/><circle cx=\"316.8\" cy=\"16.5\" fill=\"black\" r=\"-0.264\" stroke=\"black\" stroke-width=\"0\"/><text alignment-baseline=\"middle\" fill=\"white\" font-family=\"Times\" font-size=\"13.2\" text-anchor=\"middle\" x=\"303.6\" y=\"17.325\"/><rect fill=\"black\" height=\"9.9\" width=\"26.928\" x=\"316.536\" y=\"11.55\"/><circle cx=\"316.8\" cy=\"16.5\" fill=\"black\" r=\"-0.264\" stroke=\"black\" stroke-width=\"0\"/><circle cx=\"343.2\" cy=\"16.5\" fill=\"black\" r=\"-0.264\" stroke=\"black\" stroke-width=\"0\"/><text alignment-baseline=\"middle\" fill=\"white\" font-family=\"Times\" font-size=\"13.2\" text-anchor=\"middle\" x=\"330.0\" y=\"17.325\"/><rect fill=\"black\" height=\"9.9\" width=\"26.928\" x=\"342.936\" y=\"11.55\"/><circle cx=\"343.2\" cy=\"16.5\" fill=\"black\" r=\"-0.264\" stroke=\"black\" stroke-width=\"0\"/><circle cx=\"369.6\" cy=\"16.5\" fill=\"black\" r=\"-0.264\" stroke=\"black\" stroke-width=\"0\"/><text alignment-baseline=\"middle\" fill=\"white\" font-family=\"Times\" font-size=\"13.2\" text-anchor=\"middle\" x=\"356.4\" y=\"17.325\"/><rect fill=\"black\" height=\"9.9\" width=\"26.928\" x=\"369.336\" y=\"11.55\"/><circle cx=\"369.6\" cy=\"16.5\" fill=\"black\" r=\"-0.264\" stroke=\"black\" stroke-width=\"0\"/><circle cx=\"396.0\" cy=\"16.5\" fill=\"black\" r=\"-0.264\" stroke=\"black\" stroke-width=\"0\"/><text alignment-baseline=\"middle\" fill=\"white\" font-family=\"Times\" font-size=\"13.2\" text-anchor=\"middle\" x=\"382.8\" y=\"17.325\"/><rect fill=\"black\" height=\"9.9\" width=\"26.928\" x=\"395.736\" y=\"11.55\"/><circle cx=\"396.0\" cy=\"16.5\" fill=\"black\" r=\"-0.264\" stroke=\"black\" stroke-width=\"0\"/><circle cx=\"422.4\" cy=\"16.5\" fill=\"black\" r=\"-0.264\" stroke=\"black\" stroke-width=\"0\"/><text alignment-baseline=\"middle\" fill=\"white\" font-family=\"Times\" font-size=\"13.2\" text-anchor=\"middle\" x=\"409.2\" y=\"17.325\"/><rect fill=\"black\" height=\"9.9\" width=\"26.928\" x=\"422.136\" y=\"11.55\"/><circle cx=\"422.4\" cy=\"16.5\" fill=\"black\" r=\"-0.264\" stroke=\"black\" stroke-width=\"0\"/><circle cx=\"448.8\" cy=\"16.5\" fill=\"black\" r=\"-0.264\" stroke=\"black\" stroke-width=\"0\"/><text alignment-baseline=\"middle\" fill=\"white\" font-family=\"Times\" font-size=\"13.2\" text-anchor=\"middle\" x=\"435.6\" y=\"17.325\"/><text alignment-baseline=\"middle\" fill=\"black\" font-family=\"Times\" font-size=\"13.2\" text-anchor=\"end\" x=\"73.92\" y=\"17.325\">1b</text><line stroke=\"red\" stroke-width=\"1.32\" x1=\"237.6\" x2=\"237.6\" y1=\"16.335\" y2=\"33.165\"/><text alignment-baseline=\"middle\" fill=\"black\" font-family=\"Times\" font-size=\"13.2\" text-anchor=\"start\" x=\"454.08\" y=\"33.825\">1f</text><rect fill=\"red\" height=\"9.9\" width=\"26.928\" x=\"26.136\" y=\"28.05\"/><circle cx=\"26.4\" cy=\"33.0\" fill=\"red\" r=\"-0.264\" stroke=\"red\" stroke-width=\"0\"/><circle cx=\"52.8\" cy=\"33.0\" fill=\"red\" r=\"-0.264\" stroke=\"red\" stroke-width=\"0\"/><text alignment-baseline=\"middle\" fill=\"white\" font-family=\"Times\" font-size=\"13.2\" text-anchor=\"middle\" x=\"39.6\" y=\"33.825\"/><rect fill=\"red\" height=\"9.9\" width=\"26.928\" x=\"52.536\" y=\"28.05\"/><circle cx=\"52.8\" cy=\"33.0\" fill=\"red\" r=\"-0.264\" stroke=\"red\" stroke-width=\"0\"/><circle cx=\"79.2\" cy=\"33.0\" fill=\"red\" r=\"-0.264\" stroke=\"red\" stroke-width=\"0\"/><text alignment-baseline=\"middle\" fill=\"white\" font-family=\"Times\" font-size=\"13.2\" text-anchor=\"middle\" x=\"66.0\" y=\"33.825\"/><rect fill=\"red\" height=\"9.9\" width=\"26.928\" x=\"78.936\" y=\"28.05\"/><circle cx=\"79.2\" cy=\"33.0\" fill=\"red\" r=\"-0.264\" stroke=\"red\" stroke-width=\"0\"/><circle cx=\"105.6\" cy=\"33.0\" fill=\"red\" r=\"-0.264\" stroke=\"red\" stroke-width=\"0\"/><text alignment-baseline=\"middle\" fill=\"white\" font-family=\"Times\" font-size=\"13.2\" text-anchor=\"middle\" x=\"92.4\" y=\"33.825\"/><rect fill=\"red\" height=\"9.9\" width=\"26.928\" x=\"105.336\" y=\"28.05\"/><circle cx=\"105.6\" cy=\"33.0\" fill=\"red\" r=\"-0.264\" stroke=\"red\" stroke-width=\"0\"/><circle cx=\"132.0\" cy=\"33.0\" fill=\"red\" r=\"-0.264\" stroke=\"red\" stroke-width=\"0\"/><text alignment-baseline=\"middle\" fill=\"white\" font-family=\"Times\" font-size=\"13.2\" text-anchor=\"middle\" x=\"118.8\" y=\"33.825\"/><rect fill=\"red\" height=\"9.9\" width=\"26.928\" x=\"131.736\" y=\"28.05\"/><circle cx=\"132.0\" cy=\"33.0\" fill=\"red\" r=\"-0.264\" stroke=\"red\" stroke-width=\"0\"/><circle cx=\"158.4\" cy=\"33.0\" fill=\"red\" r=\"-0.264\" stroke=\"red\" stroke-width=\"0\"/><text alignment-baseline=\"middle\" fill=\"white\" font-family=\"Times\" font-size=\"13.2\" text-anchor=\"middle\" x=\"145.2\" y=\"33.825\"/><rect fill=\"red\" height=\"9.9\" width=\"26.928\" x=\"158.136\" y=\"28.05\"/><circle cx=\"158.4\" cy=\"33.0\" fill=\"red\" r=\"-0.264\" stroke=\"red\" stroke-width=\"0\"/><circle cx=\"184.8\" cy=\"33.0\" fill=\"red\" r=\"-0.264\" stroke=\"red\" stroke-width=\"0\"/><text alignment-baseline=\"middle\" fill=\"white\" font-family=\"Times\" font-size=\"13.2\" text-anchor=\"middle\" x=\"171.6\" y=\"33.825\"/><rect fill=\"red\" height=\"9.9\" width=\"26.928\" x=\"184.536\" y=\"28.05\"/><circle cx=\"184.8\" cy=\"33.0\" fill=\"red\" r=\"-0.264\" stroke=\"red\" stroke-width=\"0\"/><circle cx=\"211.2\" cy=\"33.0\" fill=\"red\" r=\"-0.264\" stroke=\"red\" stroke-width=\"0\"/><text alignment-baseline=\"middle\" fill=\"white\" font-family=\"Times\" font-size=\"13.2\" text-anchor=\"middle\" x=\"198.0\" y=\"33.825\"/></svg>"
       ],
       "text": [
        "<IPython.core.display.SVG at 0x1121c2210>"
       ]
      }
     ],
     "prompt_number": 7
    },
    {
     "cell_type": "markdown",
     "metadata": {},
     "source": [
      "Let's save the last tree as a pdf (using wkhtmltopdf, which can be downloaded from [wkhtmltopdf.org]())"
     ]
    },
    {
     "cell_type": "code",
     "collapsed": false,
     "input": [
      "#! skip\n",
      "view.save_pdf('mypathtree.pdf')\n",
      "!open mypathtree.pdf"
     ],
     "language": "python",
     "metadata": {},
     "outputs": [],
     "prompt_number": 10
    }
   ],
   "metadata": {}
  }
 ]
}
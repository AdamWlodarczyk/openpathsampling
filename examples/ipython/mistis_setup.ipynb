{
 "cells": [
  {
   "cell_type": "code",
   "execution_count": null,
   "metadata": {
    "collapsed": true
   },
   "outputs": [],
   "source": [
    "%matplotlib inline\n",
    "import matplotlib.pyplot as plt\n",
    "import openpathsampling as paths\n",
    "import numpy as np\n",
    "\n",
    "from toy_plot_helpers import ToyPlot"
   ]
  },
  {
   "cell_type": "code",
   "execution_count": null,
   "metadata": {
    "collapsed": true
   },
   "outputs": [],
   "source": [
    "import openpathsampling.engines.toy as toys\n",
    "\n",
    "plot = ToyPlot()\n",
    "pes = (\n",
    "    toys.OuterWalls([1.0, 1.0], [0.0, 0.0]) +\n",
    "    toys.Gaussian(-0.7, [12.0, 12.0], [-0.5, 0.5]) +\n",
    "    toys.Gaussian(-0.7, [12.0, 12.0], [-0.5, -0.5]) +\n",
    "    toys.Gaussian(-0.7, [12.0, 12.0], [0.5, -0.5])\n",
    ")\n",
    "\n",
    "plot.contour_range = np.arange(-1.5, 1.0, 0.1)\n",
    "\n",
    "topology=toys.Topology(\n",
    "    n_spatial = 2,\n",
    "    masses =[1.0, 1.0],\n",
    "    pes = pes\n",
    ")\n",
    "\n",
    "template = toys.Snapshot(\n",
    "    coordinates=np.array([[-0.5, -0.5]]), \n",
    "    velocities=np.array([[0.0,0.0]]),\n",
    "    topology=topology\n",
    ")\n",
    "\n",
    "integ = toys.LangevinBAOABIntegrator(dt=0.02, temperature=0.1, gamma=2.5)\n",
    "\n",
    "options={\n",
    "    'integ' : integ,\n",
    "    'n_frames_max' : 5000,\n",
    "    'nsteps_per_frame' : 10\n",
    "}\n",
    "\n",
    "toy_eng = toys.Engine(\n",
    "    options=options,\n",
    "    template=template\n",
    ")\n",
    "toy_eng.initialized = True\n",
    "\n",
    "toy_eng.current_snapshot = template\n",
    "paths.PathMover.engine = toy_eng"
   ]
  },
  {
   "cell_type": "code",
   "execution_count": null,
   "metadata": {
    "collapsed": false
   },
   "outputs": [],
   "source": [
    "plot.add_pes(pes)\n",
    "plot.plot()"
   ]
  },
  {
   "cell_type": "code",
   "execution_count": null,
   "metadata": {
    "collapsed": true
   },
   "outputs": [],
   "source": [
    "def xval(snapshot):\n",
    "    return snapshot.xyz[0][0]\n",
    "\n",
    "def xprime(snapshot):\n",
    "    # this only exists until we set up the ability for the order parameter to decrease\n",
    "    return -snapshot.xyz[0][0]\n",
    "\n",
    "def yval(snapshot):\n",
    "    return snapshot.xyz[0][1]\n",
    "    \n",
    "opX = paths.CV_Function(name=\"opX\", f=xval)\n",
    "opY = paths.CV_Function(name=\"opY\", f=yval)\n",
    "opXprime = paths.CV_Function(name=\"opXprime\", f=xprime)"
   ]
  },
  {
   "cell_type": "code",
   "execution_count": null,
   "metadata": {
    "collapsed": true
   },
   "outputs": [],
   "source": [
    "x_under_min = paths.CVRangeVolume(opX, float(\"-inf\"), -0.3)\n",
    "x_over_max = paths.CVRangeVolume(opX, 0.3, float(\"inf\")) \n",
    "y_under_min = paths.CVRangeVolume(opY, float(\"-inf\"), -0.3)\n",
    "y_over_max = paths.CVRangeVolume(opY, 0.3, float(\"inf\")) \n",
    "\n",
    "stateA = (x_under_min & y_under_min).named(\"A\")\n",
    "stateB = (x_over_max & y_under_min).named(\"B\")\n",
    "stateC = (x_under_min & y_over_max).named(\"C\")"
   ]
  },
  {
   "cell_type": "code",
   "execution_count": null,
   "metadata": {
    "collapsed": true
   },
   "outputs": [],
   "source": [
    "#plot.add_states([stateA, stateB, stateC])\n",
    "#plot.plot()"
   ]
  },
  {
   "cell_type": "code",
   "execution_count": null,
   "metadata": {
    "collapsed": true
   },
   "outputs": [],
   "source": [
    "interfacesAB = paths.VolumeInterfaceSet(opX, float(\"-inf\"), [-0.3, -0.2, -0.1, 0.0])\n",
    "interfacesAC = paths.VolumeInterfaceSet(opY, float(\"-inf\"), [-0.3, -0.2, -0.1, 0.0])\n",
    "interfacesBA = paths.VolumeInterfaceSet(opXprime, float(\"-inf\"), [-0.3, -0.2, -0.1, 0.0])"
   ]
  },
  {
   "cell_type": "code",
   "execution_count": null,
   "metadata": {
    "collapsed": true
   },
   "outputs": [],
   "source": [
    "mistis = paths.MISTISNetwork([\n",
    "    (stateA, interfacesAB, stateB),\n",
    "    (stateA, interfacesAC, stateC),\n",
    "    (stateB, interfacesBA, stateA)\n",
    "])"
   ]
  },
  {
   "cell_type": "code",
   "execution_count": null,
   "metadata": {
    "collapsed": true
   },
   "outputs": [],
   "source": [
    "scheme = paths.DefaultScheme(mistis, engine=toy_eng)"
   ]
  },
  {
   "cell_type": "code",
   "execution_count": null,
   "metadata": {
    "collapsed": false
   },
   "outputs": [],
   "source": [
    "tisAB = mistis.transitions[(stateA, stateB)]\n",
    "tisAC = mistis.transitions[(stateA, stateC)]\n",
    "tisBA = mistis.transitions[(stateB, stateA)]"
   ]
  },
  {
   "cell_type": "code",
   "execution_count": null,
   "metadata": {
    "collapsed": true
   },
   "outputs": [],
   "source": [
    "import logging.config\n",
    "logging.config.fileConfig(\"debug_logging.conf\", disable_existing_loggers=False)"
   ]
  },
  {
   "cell_type": "code",
   "execution_count": null,
   "metadata": {
    "collapsed": false
   },
   "outputs": [],
   "source": [
    "snapA = toys.Snapshot(\n",
    "    coordinates=np.array([[-0.5, -0.5]]),\n",
    "    velocities=np.array([[0.5, 0.0]])\n",
    ")\n",
    "init_AB = paths.FullBootstrapping(\n",
    "    transition=tisAB, \n",
    "    snapshot=snapA, \n",
    "    engine=toy_eng, \n",
    "    forbidden_states=[stateC],\n",
    "    extra_ensembles=mistis.ms_outers\n",
    ").run()"
   ]
  },
  {
   "cell_type": "code",
   "execution_count": null,
   "metadata": {
    "collapsed": false
   },
   "outputs": [],
   "source": [
    "snapA = toys.Snapshot(\n",
    "    coordinates=np.array([[-0.5, -0.5]]),\n",
    "    velocities=np.array([[0.0, 0.5]])\n",
    ")\n",
    "init_AC = paths.FullBootstrapping(\n",
    "    transition=tisAC, \n",
    "    snapshot=snapA, \n",
    "    engine=toy_eng, \n",
    "    forbidden_states=[stateB]\n",
    ").run()"
   ]
  },
  {
   "cell_type": "code",
   "execution_count": null,
   "metadata": {
    "collapsed": false
   },
   "outputs": [],
   "source": [
    "snapB = toys.Snapshot(\n",
    "    coordinates=np.array([[0.5, -0.5]]),\n",
    "    velocities=np.array([[-0.5, 0.0]])\n",
    ")\n",
    "init_BA = paths.FullBootstrapping(\n",
    "    transition=tisBA, \n",
    "    snapshot=snapB, \n",
    "    engine=toy_eng, \n",
    "    forbidden_states=[stateC]\n",
    ").run()"
   ]
  },
  {
   "cell_type": "code",
   "execution_count": null,
   "metadata": {
    "collapsed": true
   },
   "outputs": [],
   "source": [
    "initial_trajectories = [s.trajectory for s in list(init_AB)+list(init_AC)+list(init_BA)]"
   ]
  },
  {
   "cell_type": "code",
   "execution_count": null,
   "metadata": {
    "collapsed": false
   },
   "outputs": [],
   "source": [
    "plot.plot(initial_trajectories)"
   ]
  },
  {
   "cell_type": "code",
   "execution_count": null,
   "metadata": {
    "collapsed": false
   },
   "outputs": [],
   "source": [
    "sset = scheme.initial_conditions_from_trajectories(initial_trajectories)\n",
    "print scheme.initial_conditions_report(sset)"
   ]
  },
  {
   "cell_type": "code",
   "execution_count": null,
   "metadata": {
    "collapsed": false
   },
   "outputs": [],
   "source": [
    "plot.plot([s.trajectory for s in sset])"
   ]
  },
  {
   "cell_type": "code",
   "execution_count": null,
   "metadata": {
    "collapsed": false
   },
   "outputs": [],
   "source": [
    "minus_samples = []\n",
    "for minus in mistis.minus_ensembles:\n",
    "    samp = minus.populate_minus_ensemble_from_set(\n",
    "        samples=sset,\n",
    "        minus_replica_id=-mistis.minus_ensembles.index(minus)-1,\n",
    "        engine=toy_eng\n",
    "    )\n",
    "    minus_samples.append(samp)\n",
    "\n",
    "sset = sset.apply_samples(minus_samples)\n",
    "print scheme.initial_conditions_report(sset)"
   ]
  },
  {
   "cell_type": "code",
   "execution_count": null,
   "metadata": {
    "collapsed": false
   },
   "outputs": [],
   "source": [
    "plot.plot([s.trajectory for s in sset])"
   ]
  },
  {
   "cell_type": "code",
   "execution_count": null,
   "metadata": {
    "collapsed": false
   },
   "outputs": [],
   "source": [
    "#logging.config.fileConfig(\"debug_logging.conf\", disable_existing_loggers=False)\n",
    "storage = paths.Storage(\"mistis.nc\", \"w\", template=template)"
   ]
  },
  {
   "cell_type": "code",
   "execution_count": null,
   "metadata": {
    "collapsed": true
   },
   "outputs": [],
   "source": [
    "mistis_calc = paths.PathSampling(\n",
    "    storage=storage,\n",
    "    move_scheme=scheme,\n",
    "    globalstate=sset\n",
    ")\n",
    "mistis_calc.save_frequency = 100"
   ]
  },
  {
   "cell_type": "code",
   "execution_count": null,
   "metadata": {
    "collapsed": false
   },
   "outputs": [],
   "source": [
    "import logging.config\n",
    "logging.config.fileConfig(\"logging.conf\", disable_existing_loggers=False)\n",
    "mistis_calc.run(400)\n"
   ]
  },
  {
   "cell_type": "code",
   "execution_count": null,
   "metadata": {
    "collapsed": true
   },
   "outputs": [],
   "source": [
    "#! skip\n",
    "# skip this during testing; leave for full calculation\n",
    "mistis_calc.run_until(10000)"
   ]
  }
 ],
 "metadata": {
  "kernelspec": {
   "display_name": "Python 2",
   "language": "python",
   "name": "python2"
  },
  "language_info": {
   "codemirror_mode": {
    "name": "ipython",
    "version": 2
   },
   "file_extension": ".py",
   "mimetype": "text/x-python",
   "name": "python",
   "nbconvert_exporter": "python",
   "pygments_lexer": "ipython2",
   "version": "2.7.12"
  }
 },
 "nbformat": 4,
 "nbformat_minor": 0
}

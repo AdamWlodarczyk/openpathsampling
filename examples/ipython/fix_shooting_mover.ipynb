{
 "metadata": {
  "name": "",
  "signature": "sha256:3dd9be5d380b11b12c3f6ddeb79a997b721a4c8fbb17704af5ed7f253b5323bf"
 },
 "nbformat": 3,
 "nbformat_minor": 0,
 "worksheets": [
  {
   "cells": [
    {
     "cell_type": "code",
     "collapsed": false,
     "input": [
      "# stolen from toy_dynamics_tis.ipynb\n",
      "\n",
      "from opentis.toy_dynamics.toy_engine import ToyEngine\n",
      "from opentis.toy_dynamics.toy_integrators import LangevinBAOABIntegrator\n",
      "from opentis.toy_dynamics.toy_pes import Gaussian, OuterWalls\n",
      "from opentis.snapshot import Snapshot\n",
      "\n",
      "pes = (OuterWalls([1.0, 1.0], [0.0, 0.0]) + \n",
      "       Gaussian(2.0, [1.0, 4.0], [0.0,1.0]) + \n",
      "       Gaussian(2.0, [25.0, 1.0], [0.0, -1.0])\n",
      "      )\n",
      "integ = LangevinBAOABIntegrator(dt=0.02, temperature=0.1, gamma=1.0)\n",
      "sim = ToyEngine(filename=None,\n",
      "                options={'pes' : pes, \n",
      "                         'integ' : integ,\n",
      "                         'n_frames_max' : 50000,\n",
      "                         'nsteps_per_frame' : 1}\n",
      "               )\n",
      "\n",
      "sim.mass = [1.0, 1.0]\n",
      "sim.current_snapshot = Snapshot(coordinates=[-0.5, 0.0], velocities=[0.0,0.0])\n",
      "snap = sim.current_snapshot\n",
      "from opentis.orderparameter import OP_Function\n",
      "from opentis.volume import VolumeFactory as vf\n",
      "from opentis.volume import LambdaVolume\n",
      "from opentis.trajectory import Trajectory\n",
      "\n",
      "# WTF? This is an extremely overcomplicated OP; shouldn't be so hard!\n",
      "\n",
      "try:\n",
      "    op_line = OP_Function(name=\"xval\", \n",
      "                          fcn=lambda snap : Trajectory([snap])[0].coordinates()[0,0])\n",
      "except ValueError:\n",
      "    print \"xval already loaded\"\n",
      "    \n",
      "# this defines a set of LambdaVolumes for which the minimum is -1.0 and the maximum is given in the array\n",
      "line_volume_set = vf.LambdaVolumeSet(op_line, -1.0, [-0.30, -0.23, -0.17, -0.10])\n",
      "stateA = LambdaVolume(op_line, -1.0, -0.3)\n",
      "stateB = LambdaVolume(op_line, 0.3, 1.0)\n",
      "from opentis.ensemble import EnsembleFactory as ef\n",
      "from opentis.ensemble import LengthEnsemble, InXEnsemble, OutXEnsemble, SequentialEnsemble, OptionalEnsemble\n",
      "\n",
      "interface0 = line_volume_set[0]\n",
      "interface_ensemble_set = ef.TISEnsembleSet(stateA, stateB, line_volume_set)\n",
      "first_traj_ensemble = SequentialEnsemble([\n",
      "    OptionalEnsemble(OutXEnsemble(stateA)),\n",
      "    InXEnsemble(stateA),\n",
      "    OptionalEnsemble(OutXEnsemble(stateA) & InXEnsemble(interface0)),\n",
      "    OptionalEnsemble(InXEnsemble(interface0)),\n",
      "    OutXEnsemble(interface0),\n",
      "    OptionalEnsemble(OutXEnsemble(stateA)),\n",
      "    InXEnsemble(stateA) & LengthEnsemble(1)\n",
      "])\n"
     ],
     "language": "python",
     "metadata": {},
     "outputs": [
      {
       "output_type": "stream",
       "stream": "stdout",
       "text": [
        "xval already loaded\n"
       ]
      }
     ],
     "prompt_number": 2
    },
    {
     "cell_type": "code",
     "collapsed": false,
     "input": [
      "print \"about to run\"\n",
      "sim.initialized = True\n",
      "first_traj = sim.generate(snap, [first_traj_ensemble.can_append])\n",
      "subtraj = interface_ensemble_set[0].split(first_traj)[0]\n",
      "\n",
      "from opentis.pathmover import PathMoverFactory as mf\n",
      "from opentis.shooting import UniformSelector\n",
      "\n",
      "# might be nice to get rid of these two lines somehow\n",
      "from opentis.pathmover import PathMover\n",
      "PathMover.engine = sim\n",
      "\n",
      "shooting_movers = mf.OneWayShootingSet(UniformSelector(), interface_ensemble_set)"
     ],
     "language": "python",
     "metadata": {},
     "outputs": [
      {
       "output_type": "stream",
       "stream": "stdout",
       "text": [
        "about to run\n"
       ]
      }
     ],
     "prompt_number": 3
    },
    {
     "cell_type": "code",
     "collapsed": false,
     "input": [
      "def trajinfo(traj):\n",
      "    if traj is not None:\n",
      "        return (max(op_line(traj)), op_line(traj))\n",
      "    \n",
      "def fulltraj(traj):\n",
      "    if traj is not None:\n",
      "        return [snap.coordinates[0][0:2] for snap in traj]\n",
      "    \n",
      "def globalstate_print(gs):\n",
      "    for rep in gs:\n",
      "        traj = gs[rep]\n",
      "        print traj, trajinfo(traj)"
     ],
     "language": "python",
     "metadata": {},
     "outputs": [],
     "prompt_number": 4
    },
    {
     "cell_type": "code",
     "collapsed": false,
     "input": [
      "amover = shooting_movers[0]\n",
      "print amover"
     ],
     "language": "python",
     "metadata": {},
     "outputs": [
      {
       "output_type": "stream",
       "stream": "stdout",
       "text": [
        "<opentis.pathmover.MixedMover object at 0x1104a5ed0>\n"
       ]
      }
     ],
     "prompt_number": 5
    },
    {
     "cell_type": "code",
     "collapsed": false,
     "input": [
      "from opentis.globalstate import GlobalState\n",
      "globalstate = GlobalState([amover.ensemble])\n",
      "globalstate[amover.ensemble] = subtraj"
     ],
     "language": "python",
     "metadata": {},
     "outputs": [],
     "prompt_number": 6
    },
    {
     "cell_type": "code",
     "collapsed": false,
     "input": [
      "print globalstate[amover.ensemble]"
     ],
     "language": "python",
     "metadata": {},
     "outputs": [
      {
       "output_type": "stream",
       "stream": "stdout",
       "text": [
        "Trajectory[55]\n"
       ]
      }
     ],
     "prompt_number": 7
    },
    {
     "cell_type": "code",
     "collapsed": false,
     "input": [
      "for i in range(100):\n",
      "    sample = amover.move(globalstate[amover.ensemble])\n",
      "    print sample.details.mover\n",
      "    print \"success =\", sample.details.success\n",
      "    #print fulltraj(sample.details.start)\n",
      "    print \"starting snap\", sample.details.start_point.index, fulltraj(Trajectory([sample.details.start_point.snapshot]))\n",
      "    #print fulltraj(sample.details.final)\n",
      "    #print fulltraj(sample.trajectory)\n",
      "    print sample.details.start_point.snapshot\n",
      "    print sample.tra\n",
      "    print"
     ],
     "language": "python",
     "metadata": {},
     "outputs": [
      {
       "output_type": "stream",
       "stream": "stdout",
       "text": [
        "Shooting backward from frame 46\n",
        "Proposal probability 6.625 / random : 0.394518507385\n",
        "<opentis.pathmover.BackwardShootMover object at 0x1104a5e50>\n",
        "success = True\n",
        "starting snap 46 [array([-0.30204089,  0.11682588])]\n",
        "<opentis.snapshot.Snapshot object at 0x1104a5710>\n",
        "\n",
        "Shooting forward from frame 15\n",
        "Proposal probability"
       ]
      },
      {
       "output_type": "stream",
       "stream": "stdout",
       "text": [
        " 1.65625 / random : 0.858072715864\n",
        "<opentis.pathmover.ForwardShootMover object at 0x1104a5e90>\n",
        "success = True\n",
        "starting snap 15 [array([-0.30216987,  0.1361447 ])]\n",
        "<opentis.snapshot.Snapshot object at 0x11048ff50>\n",
        "\n",
        "Shooting forward from frame 31\n",
        "Proposal probability"
       ]
      },
      {
       "output_type": "stream",
       "stream": "stdout",
       "text": [
        " 0.913793103448 / random : 0.168641908993\n",
        "<opentis.pathmover.ForwardShootMover object at 0x1104a5e90>\n",
        "success = True\n",
        "starting snap 31 [array([-0.30204137,  0.09428032])]\n",
        "<opentis.snapshot.Snapshot object at 0x11049bb90>\n",
        "\n",
        "Shooting forward from frame 16\n",
        "Proposal probability"
       ]
      },
      {
       "output_type": "stream",
       "stream": "stdout",
       "text": [
        " 1.2619047619 / random : 0.0757512907647\n",
        "<opentis.pathmover.ForwardShootMover object at 0x1104a5e90>\n",
        "success = True\n",
        "starting snap 16 [array([-0.30010846,  0.28071844])]\n",
        "<opentis.snapshot.Snapshot object at 0x11048ffd0>\n",
        "\n",
        "Shooting backward from frame 4\n",
        "Proposal probability 1.0 / random : 0.0833090108104\n",
        "<opentis.pathmover.BackwardShootMover object at 0x1104a5e50>\n",
        "success = True\n",
        "starting snap 4 [array([-0.30038872,  0.0545316 ])]\n",
        "<opentis.snapshot.Snapshot object at 0x11048f710>\n",
        "\n",
        "Shooting forward from frame 16\n",
        "Proposal probability"
       ]
      },
      {
       "output_type": "stream",
       "stream": "stdout",
       "text": [
        " 2.20833333333 / random : 0.364455855983\n",
        "<opentis.pathmover.ForwardShootMover object at 0x1104a5e90>\n",
        "success = True\n",
        "starting snap 16 [array([-0.30081992,  0.34878076])]\n",
        "<opentis.snapshot.Snapshot object at 0x11048ffd0>\n",
        "\n",
        "Shooting backward from frame 26\n",
        "Proposal probability"
       ]
      },
      {
       "output_type": "stream",
       "stream": "stdout",
       "text": [
        " 0.963636363636 / random : 0.0522401899401\n",
        "<opentis.pathmover.BackwardShootMover object at 0x1104a5e50>\n",
        "success = True\n",
        "starting snap 26 [array([-0.30069114,  0.25874475])]\n",
        "<opentis.snapshot.Snapshot object at 0x11049b7d0>\n",
        "\n",
        "Shooting backward from frame 53\n",
        "Proposal probability 53.0 / random : 0.114892052515\n",
        "<opentis.pathmover.BackwardShootMover object at 0x1104a5e50>\n",
        "success = True\n",
        "starting snap 53 [array([-0.30049813,  0.07590051])]\n",
        "<opentis.snapshot.Snapshot object at 0x1104a5c50>\n",
        "\n",
        "Shooting backward from frame 17\n",
        "Proposal probability"
       ]
      },
      {
       "output_type": "stream",
       "stream": "stdout",
       "text": [
        " 0.946428571429 / random : 0.840408501496\n",
        "<opentis.pathmover.BackwardShootMover object at 0x1104a5e50>\n",
        "success = True\n",
        "starting snap 17 [array([-0.30444094,  0.26254235])]\n",
        "<opentis.snapshot.Snapshot object at 0x11049b110>\n",
        "\n",
        "Shooting forward from frame 37\n",
        "Proposal probability 1.2619047619 / random : 0.548384565951\n",
        "<opentis.pathmover.ForwardShootMover object at 0x1104a5e90>\n",
        "success = True\n",
        "starting snap 37 [array([-0.30449827,  0.14925402])]\n",
        "<opentis.snapshot.Snapshot object at 0x11049bfd0>\n",
        "\n",
        "Shooting backward from frame 46\n",
        "Proposal probability 6.625 / random : 0.734392957713\n",
        "<opentis.pathmover.BackwardShootMover object at 0x1104a5e50>\n",
        "success = True\n",
        "starting snap 46 [array([-0.30243125,  0.11055051])]\n",
        "<opentis.snapshot.Snapshot object at 0x1104a5710>\n",
        "\n",
        "Shooting forward from frame 34\n",
        "Proposal probability 1.55882352941 / random : 0.971767120349\n",
        "<opentis.pathmover.ForwardShootMover object at 0x1104a5e90>\n",
        "success = True\n",
        "starting snap 34 [array([-0.30832088,  0.15669586])]\n",
        "<opentis.snapshot.Snapshot object at 0x11049bdd0>\n",
        "\n",
        "Shooting backward from frame 16\n",
        "Proposal probability"
       ]
      },
      {
       "output_type": "stream",
       "stream": "stdout",
       "text": [
        " 0.697368421053 / random : 0.795052103694\n",
        "<opentis.pathmover.BackwardShootMover object at 0x1104a5e50>\n",
        "success = False\n",
        "starting snap 16 [array([-0.30665284,  0.22186653])]\n",
        "<opentis.snapshot.Snapshot object at 0x11048ffd0>\n",
        "\n",
        "Shooting backward from frame 6\n",
        "Proposal probability 1.06 / random : 0.636550241466\n",
        "<opentis.pathmover.BackwardShootMover object at 0x1104a5e50>\n",
        "success = True\n",
        "starting snap 6 [array([-0.3045407 ,  0.06453075])]\n",
        "<opentis.snapshot.Snapshot object at 0x11048f890>\n",
        "\n",
        "Shooting backward from frame 11\n",
        "Proposal probability"
       ]
      },
      {
       "output_type": "stream",
       "stream": "stdout",
       "text": [
        " 0.963636363636 / random : 0.914234789922\n",
        "<opentis.pathmover.BackwardShootMover object at 0x1104a5e50>\n",
        "success = True\n",
        "starting snap 11 [array([-0.30040471,  0.19008063])]\n",
        "<opentis.snapshot.Snapshot object at 0x11048fc50>\n",
        "\n",
        "Shooting forward from frame 30\n",
        "Proposal probability 1.76666666667 / random : 0.226215822412\n",
        "<opentis.pathmover.ForwardShootMover object at 0x1104a5e90>\n",
        "success = True\n",
        "starting snap 30 [array([-0.30360831,  0.25692976])]\n",
        "<opentis.snapshot.Snapshot object at 0x11049bad0>\n",
        "\n",
        "Shooting backward from frame 17\n",
        "Proposal probability 1.43243243243 / random : 0.453695814651\n",
        "<opentis.pathmover.BackwardShootMover object at 0x1104a5e50>\n",
        "success = True\n",
        "starting snap 17 [array([-0.30338558,  0.26822727])]\n",
        "<opentis.snapshot.Snapshot object at 0x11049b110>\n",
        "\n",
        "Shooting backward from frame 6\n",
        "Proposal probability 1.10416666667 / random : 0.961902942466\n",
        "<opentis.pathmover.BackwardShootMover object at 0x1104a5e50>\n",
        "success = True\n",
        "starting snap 6 [array([-0.30711808,  0.07312489])]\n",
        "<opentis.snapshot.Snapshot object at 0x11048f890>\n",
        "\n",
        "Shooting backward from frame 22\n",
        "Proposal probability"
       ]
      },
      {
       "output_type": "stream",
       "stream": "stdout",
       "text": [
        " 1.23255813953 / random : 0.652708554678\n",
        "<opentis.pathmover.BackwardShootMover object at 0x1104a5e50>\n",
        "success = True\n",
        "starting snap 22 [array([-0.30015932,  0.17580257])]\n",
        "<opentis.snapshot.Snapshot object at 0x11049b4d0>\n",
        "\n",
        "Shooting forward from frame 47\n",
        "Proposal probability"
       ]
      },
      {
       "output_type": "stream",
       "stream": "stdout",
       "text": [
        " 0.946428571429 / random : 0.834909424967\n",
        "<opentis.pathmover.ForwardShootMover object at 0x1104a5e90>\n",
        "success = True\n",
        "starting snap 47 [array([-0.30078973,  0.08437337])]\n",
        "<opentis.snapshot.Snapshot object at 0x1104a57d0>\n",
        "\n",
        "Shooting forward from frame 42\n",
        "Proposal probability 1.2619047619 / random : 0.235194692547\n",
        "<opentis.pathmover.ForwardShootMover object at 0x1104a5e90>\n",
        "success = True\n",
        "starting snap 42 [array([-0.30522921,  0.14301286])]\n",
        "<opentis.snapshot.Snapshot object at 0x1104a5410>\n",
        "\n",
        "Shooting backward from frame 46\n",
        "Proposal probability 6.625 / random : 0.164349905718\n",
        "<opentis.pathmover.BackwardShootMover object at 0x1104a5e50>\n",
        "success = True\n",
        "starting snap 46 [array([-0.30298943,  0.10377294])]\n",
        "<opentis.snapshot.Snapshot object at 0x1104a5710>\n",
        "\n",
        "Shooting backward from frame 34\n",
        "Proposal probability 2.65 / random : 0.672889978692\n",
        "<opentis.pathmover.BackwardShootMover object at 0x1104a5e50>\n",
        "success = True\n",
        "starting snap 34 [array([-0.31029225,  0.1561693 ])]\n",
        "<opentis.snapshot.Snapshot object at 0x11049bdd0>\n",
        "\n",
        "Shooting forward from frame 4\n",
        "Proposal probability 13.25 / random : 0.644845988318\n",
        "<opentis.pathmover.ForwardShootMover object at 0x1104a5e90>\n",
        "success = True\n",
        "starting snap 4 [array([-0.30260656,  0.06367276])]\n",
        "<opentis.snapshot.Snapshot object at 0x11048f710>\n",
        "\n",
        "Shooting backward from frame 39\n",
        "Proposal probability"
       ]
      },
      {
       "output_type": "stream",
       "stream": "stdout",
       "text": [
        " 2.65 / random : 0.723371258172\n",
        "<opentis.pathmover.BackwardShootMover object at 0x1104a5e50>\n",
        "success = True\n",
        "starting snap 39 [array([-0.30315455,  0.14947654])]\n",
        "<opentis.snapshot.Snapshot object at 0x1104a51d0>\n",
        "\n",
        "Shooting forward from frame 1\n",
        "Proposal probability 3.78571428571 / random : 0.167301285253\n",
        "<opentis.pathmover.ForwardShootMover object at 0x1104a5e90>\n",
        "success = True\n",
        "starting snap 1 [array([-0.30328262,  0.13741378])]\n",
        "<opentis.snapshot.Snapshot object at 0x11048f450>\n",
        "\n",
        "Shooting backward from frame 14\n",
        "Proposal probability"
       ]
      },
      {
       "output_type": "stream",
       "stream": "stdout",
       "text": [
        " 0.716216216216 / random : 0.468343981134\n",
        "<opentis.pathmover.BackwardShootMover object at 0x1104a5e50>\n",
        "success = True\n",
        "starting snap 14 [array([-0.305769  ,  0.29979303])]\n",
        "<opentis.snapshot.Snapshot object at 0x11048fe90>\n",
        "\n",
        "Shooting forward from frame 1\n",
        "Proposal probability 53.0 / random : 0.563870449027\n",
        "<opentis.pathmover.ForwardShootMover object at 0x1104a5e90>\n",
        "success = True\n",
        "starting snap 1 [array([-0.30044302,  0.15065987])]\n",
        "<opentis.snapshot.Snapshot object at 0x11048f450>\n",
        "\n",
        "Shooting forward from frame 4\n",
        "Proposal probability 13.25 / random : 0.394669447337\n",
        "<opentis.pathmover.ForwardShootMover object at 0x1104a5e90>\n",
        "success = True\n",
        "starting snap 4 [array([-0.30425387,  0.07250002])]\n",
        "<opentis.snapshot.Snapshot object at 0x11048f710>\n",
        "\n",
        "Shooting forward from frame 14\n",
        "Proposal probability 3.78571428571 / random : 0.32485119358\n",
        "<opentis.pathmover.ForwardShootMover object at 0x1104a5e90>\n",
        "success = True\n",
        "starting snap 14 [array([-0.30315552,  0.30525363])]\n",
        "<opentis.snapshot.Snapshot object at 0x11048fe90>\n",
        "\n",
        "Shooting forward from frame 4\n",
        "Proposal probability 13.25 / random : 0.0235019718955\n",
        "<opentis.pathmover.ForwardShootMover object at 0x1104a5e90>\n",
        "success = True\n",
        "starting snap 4 [array([-0.30617929,  0.08244724])]\n",
        "<opentis.snapshot.Snapshot object at 0x11048f710>\n",
        "\n",
        "Shooting forward from frame 21\n",
        "Proposal probability"
       ]
      },
      {
       "output_type": "stream",
       "stream": "stdout",
       "text": [
        " 1.08163265306 / random : 0.79405106949\n",
        "<opentis.pathmover.ForwardShootMover object at 0x1104a5e90>\n",
        "success = True\n",
        "starting snap 21 [array([-0.30285621,  0.11399815])]\n",
        "<opentis.snapshot.Snapshot object at 0x11049b410>\n",
        "\n",
        "Shooting backward from frame 42\n",
        "Proposal probability 4.41666666667 / random : 0.712145904477\n",
        "<opentis.pathmover.BackwardShootMover object at 0x1104a5e50>\n",
        "success = True\n",
        "starting snap 42 [array([-0.30834505,  0.13795763])]\n",
        "<opentis.snapshot.Snapshot object at 0x1104a5410>\n",
        "\n",
        "Shooting forward from frame 33\n",
        "Proposal probability"
       ]
      },
      {
       "output_type": "stream",
       "stream": "stdout",
       "text": [
        " 1.29268292683 / random : 0.108964784072\n",
        "<opentis.pathmover.ForwardShootMover object at 0x1104a5e90>\n",
        "success = True\n",
        "starting snap 33 [array([-0.303303  ,  0.16920888])]\n",
        "<opentis.snapshot.Snapshot object at 0x11049bd10>\n",
        "\n",
        "Shooting backward from frame 3\n",
        "Proposal probability 0.913793103448 / random : 0.873785638438\n",
        "<opentis.pathmover.BackwardShootMover object at 0x1104a5e50>\n",
        "success = True\n",
        "starting snap 3 [array([-0.30162711,  0.0708204 ])]\n",
        "<opentis.snapshot.Snapshot object at 0x11048f5d0>\n",
        "\n",
        "Shooting backward from frame 12\n",
        "Proposal probability"
       ]
      },
      {
       "output_type": "stream",
       "stream": "stdout",
       "text": [
        " 0.757142857143 / random : 0.595236328227\n",
        "<opentis.pathmover.BackwardShootMover object at 0x1104a5e50>\n",
        "success = True\n",
        "starting snap 12 [array([-0.30561297,  0.17689377])]\n",
        "<opentis.snapshot.Snapshot object at 0x11048fd10>\n",
        "\n",
        "Shooting forward from frame 11\n",
        "Proposal probability"
       ]
      },
      {
       "output_type": "stream",
       "stream": "stdout",
       "text": [
        " 1.2619047619 / random : 0.31081972798\n",
        "<opentis.pathmover.ForwardShootMover object at 0x1104a5e90>\n",
        "success = True\n",
        "starting snap 11 [array([-0.30608029,  0.27595301])]\n",
        "<opentis.snapshot.Snapshot object at 0x11048fc50>\n",
        "\n",
        "Shooting forward from frame 1\n",
        "Proposal probability 3.53333333333 / random : 0.417360703378\n",
        "<opentis.pathmover.ForwardShootMover object at 0x1104a5e90>\n",
        "success = True\n",
        "starting snap 1 [array([-0.30386872,  0.27991235])]\n",
        "<opentis.snapshot.Snapshot object at 0x11048f450>\n",
        "\n",
        "Shooting backward from frame 37\n",
        "Proposal probability 3.11764705882 / random : 0.834063035121\n",
        "<opentis.pathmover.BackwardShootMover object at 0x1104a5e50>\n",
        "success = True\n",
        "starting snap 37 [array([-0.30870505,  0.14587457])]\n",
        "<opentis.snapshot.Snapshot object at 0x11049bfd0>\n",
        "\n",
        "Shooting forward from frame 44\n",
        "Proposal probability"
       ]
      },
      {
       "output_type": "stream",
       "stream": "stdout",
       "text": [
        " 1.17777777778 / random : 0.239870697537\n",
        "<opentis.pathmover.ForwardShootMover object at 0x1104a5e90>\n",
        "success = True\n",
        "starting snap 44 [array([-0.30097333,  0.13391133])]\n",
        "<opentis.snapshot.Snapshot object at 0x1104a5590>\n",
        "\n",
        "Shooting backward from frame 44\n",
        "Proposal probability 5.3 / random : 0.370130932067\n",
        "<opentis.pathmover.BackwardShootMover object at 0x1104a5e50>\n",
        "success = True\n",
        "starting snap 44 [array([-0.30197401,  0.12895787])]\n",
        "<opentis.snapshot.Snapshot object at 0x1104a5590>\n",
        "\n",
        "Shooting forward from frame 21\n",
        "Proposal probability 2.52380952381 / random : 0.68880034189\n",
        "<opentis.pathmover.ForwardShootMover object at 0x1104a5e90>\n",
        "success = True\n",
        "starting snap 21 [array([-0.30131101,  0.11679082])]\n",
        "<opentis.snapshot.Snapshot object at 0x11049b410>\n",
        "\n",
        "Shooting backward from frame 27\n",
        "Proposal probability 1.55882352941 / random : 0.149164066544\n",
        "<opentis.pathmover.BackwardShootMover object at 0x1104a5e50>\n",
        "success = True\n",
        "starting snap 27 [array([-0.30135872,  0.19486245])]\n",
        "<opentis.snapshot.Snapshot object at 0x11049b890>\n",
        "\n",
        "Shooting backward from frame 36\n",
        "Proposal probability"
       ]
      },
      {
       "output_type": "stream",
       "stream": "stdout",
       "text": [
        " 1.89285714286 / random : 0.332966499168\n",
        "<opentis.pathmover.BackwardShootMover object at 0x1104a5e50>\n",
        "success = True\n",
        "starting snap 36 [array([-0.30231671,  0.17190204])]\n",
        "<opentis.snapshot.Snapshot object at 0x11049bf50>\n",
        "\n",
        "Shooting forward from frame 20\n",
        "Proposal probability"
       ]
      },
      {
       "output_type": "stream",
       "stream": "stdout",
       "text": [
        " 1.47222222222 / random : 0.004017929874\n",
        "<opentis.pathmover.ForwardShootMover object at 0x1104a5e90>\n",
        "success = True\n",
        "starting snap 20 [array([-0.30404741,  0.17557777])]\n",
        "<opentis.snapshot.Snapshot object at 0x11049b350>\n",
        "\n",
        "Shooting forward from frame 50\n",
        "Proposal probability"
       ]
      },
      {
       "output_type": "stream",
       "stream": "stdout",
       "text": [
        " 0.883333333333 / random : 0.48194030668\n",
        "<opentis.pathmover.ForwardShootMover object at 0x1104a5e90>\n",
        "success = True\n",
        "starting snap 50 [array([-0.30104419,  0.05541204])]\n",
        "<opentis.snapshot.Snapshot object at 0x1104a5a10>\n",
        "\n",
        "Shooting backward from frame 2\n",
        "Proposal probability 0.883333333333 / random : 0.773690708828\n",
        "<opentis.pathmover.BackwardShootMover object at 0x1104a5e50>\n",
        "success = True\n",
        "starting snap 2 [array([-0.30210438,  0.07945122])]\n",
        "<opentis.snapshot.Snapshot object at 0x11048f510>\n",
        "\n",
        "Shooting backward from frame 11\n",
        "Proposal probability"
       ]
      },
      {
       "output_type": "stream",
       "stream": "stdout",
       "text": [
        " 1.23255813953 / random : 0.391834913882\n",
        "<opentis.pathmover.BackwardShootMover object at 0x1104a5e50>\n",
        "success = True\n",
        "starting snap 11 [array([-0.30168648,  0.28233398])]\n",
        "<opentis.snapshot.Snapshot object at 0x11048fc50>\n",
        "\n",
        "Shooting backward from frame 39\n",
        "Proposal probability 3.53333333333 / random : 0.692539129188\n",
        "<opentis.pathmover.BackwardShootMover object at 0x1104a5e50>\n",
        "success = True\n",
        "starting snap 39 [array([-0.30837551,  0.14586263])]\n",
        "<opentis.snapshot.Snapshot object at 0x1104a51d0>\n",
        "\n",
        "Shooting forward from frame 50\n",
        "Proposal probability 1.06 / random : 0.185174400507\n",
        "<opentis.pathmover.ForwardShootMover object at 0x1104a5e90>\n",
        "success = True\n",
        "starting snap 50 [array([-0.3006866 ,  0.04798776])]\n",
        "<opentis.snapshot.Snapshot object at 0x1104a5a10>\n",
        "\n",
        "Shooting backward from frame 28\n",
        "Proposal probability"
       ]
      },
      {
       "output_type": "stream",
       "stream": "stdout",
       "text": [
        " 1.55882352941 / random : 0.729663919999\n",
        "<opentis.pathmover.BackwardShootMover object at 0x1104a5e50>\n",
        "success = True\n",
        "starting snap 28 [array([-0.30470188,  0.19480646])]\n",
        "<opentis.snapshot.Snapshot object at 0x11049b950>\n",
        "\n",
        "Shooting backward from frame 1\n",
        "Proposal probability"
       ]
      },
      {
       "output_type": "stream",
       "stream": "stdout",
       "text": [
        " 0.779411764706 / random : 0.697114349013\n",
        "<opentis.pathmover.BackwardShootMover object at 0x1104a5e50>\n",
        "success = True\n",
        "starting snap 1 [array([-0.30115309,  0.37769043])]\n",
        "<opentis.snapshot.Snapshot object at 0x11048f450>\n",
        "\n",
        "Shooting forward from frame 23\n",
        "Proposal probability 2.30434782609 / random : 0.747252589758\n",
        "<opentis.pathmover.ForwardShootMover object at 0x1104a5e90>\n",
        "success = True\n",
        "starting snap 23 [array([-0.30151564,  0.1457443 ])]\n",
        "<opentis.snapshot.Snapshot object at 0x11049b590>\n",
        "\n",
        "Shooting forward from frame 32\n",
        "Proposal probability"
       ]
      },
      {
       "output_type": "stream",
       "stream": "stdout",
       "text": [
        " 1.39473684211 / random : 0.284551286305\n",
        "<opentis.pathmover.ForwardShootMover object at 0x1104a5e90>\n",
        "success = True\n",
        "starting snap 32 [array([-0.3067609 ,  0.19561807])]\n",
        "<opentis.snapshot.Snapshot object at 0x11049bc50>\n",
        "\n",
        "Shooting backward from frame 8\n",
        "Proposal probability"
       ]
      },
      {
       "output_type": "stream",
       "stream": "stdout",
       "text": [
        " 0.791044776119 / random : 0.444997553946\n",
        "<opentis.pathmover.BackwardShootMover object at 0x1104a5e50>\n",
        "success = True\n",
        "starting snap 8 [array([-0.30015399,  0.19890266])]\n",
        "<opentis.snapshot.Snapshot object at 0x11048fa10>\n",
        "\n",
        "Shooting forward from frame 47\n",
        "Proposal probability"
       ]
      },
      {
       "output_type": "stream",
       "stream": "stdout",
       "text": [
        " 0.80303030303 / random : 0.68744906826\n",
        "<opentis.pathmover.ForwardShootMover object at 0x1104a5e90>\n",
        "success = True\n",
        "starting snap 47 [array([-0.30241993,  0.03707293])]\n",
        "<opentis.snapshot.Snapshot object at 0x1104a57d0>\n",
        "\n",
        "Shooting backward from frame 29\n",
        "Proposal probability 1.70967741935 / random : 0.914831449374\n",
        "<opentis.pathmover.BackwardShootMover object at 0x1104a5e50>\n",
        "success = True\n",
        "starting snap 29 [array([-0.30064088,  0.192658  ])]\n",
        "<opentis.snapshot.Snapshot object at 0x11049ba10>\n",
        "\n",
        "Shooting backward from frame 21\n",
        "Proposal probability 1.60606060606 / random : 0.0330654319655\n",
        "<opentis.pathmover.BackwardShootMover object at 0x1104a5e50>\n",
        "success = True\n",
        "starting snap 21 [array([-0.30085436,  0.11905545])]\n",
        "<opentis.snapshot.Snapshot object at 0x11049b410>\n",
        "\n",
        "Shooting forward from frame 40\n",
        "Proposal probability"
       ]
      },
      {
       "output_type": "stream",
       "stream": "stdout",
       "text": [
        " 1.29268292683 / random : 0.653170985415\n",
        "<opentis.pathmover.ForwardShootMover object at 0x1104a5e90>\n",
        "success = True\n",
        "starting snap 40 [array([-0.3000242 ,  0.15991342])]\n",
        "<opentis.snapshot.Snapshot object at 0x1104a5290>\n",
        "\n",
        "Shooting backward from frame 11\n",
        "Proposal probability"
       ]
      },
      {
       "output_type": "stream",
       "stream": "stdout",
       "text": [
        " 0.898305084746 / random : 0.474651405721\n",
        "<opentis.pathmover.BackwardShootMover object at 0x1104a5e50>\n",
        "success = True\n",
        "starting snap 11 [array([-0.30248185,  0.29428314])]\n",
        "<opentis.snapshot.Snapshot object at 0x11048fc50>\n",
        "\n",
        "Shooting backward from frame 7\n",
        "Proposal probability"
       ]
      },
      {
       "output_type": "stream",
       "stream": "stdout",
       "text": [
        " 0.697368421053 / random : 0.50251986782\n",
        "<opentis.pathmover.BackwardShootMover object at 0x1104a5e50>\n",
        "success = True\n",
        "starting snap 7 [array([-0.30238803,  0.27783388])]\n",
        "<opentis.snapshot.Snapshot object at 0x11048f950>\n",
        "\n",
        "Shooting forward from frame 3\n",
        "Proposal probability 17.6666666667 / random : 0.25775624748\n",
        "<opentis.pathmover.ForwardShootMover object at 0x1104a5e90>\n",
        "success = True\n",
        "starting snap 3 [array([-0.3031673 ,  0.08088638])]\n",
        "<opentis.snapshot.Snapshot object at 0x11048f5d0>\n",
        "\n",
        "Shooting forward from frame 17\n",
        "Proposal probability 3.11764705882 / random : 0.713115478539\n",
        "<opentis.pathmover.ForwardShootMover object at 0x1104a5e90>\n",
        "success = True\n",
        "starting snap 17 [array([-0.30166223,  0.27445931])]\n",
        "<opentis.snapshot.Snapshot object at 0x11049b110>\n",
        "\n",
        "Shooting backward from frame 9\n",
        "Proposal probability"
       ]
      },
      {
       "output_type": "stream",
       "stream": "stdout",
       "text": [
        " 0.868852459016 / random : 0.649366178259\n",
        "<opentis.pathmover.BackwardShootMover object at 0x1104a5e50>\n",
        "success = True\n",
        "starting snap 9 [array([-0.30051184,  0.13030697])]\n",
        "<opentis.snapshot.Snapshot object at 0x11048fad0>\n",
        "\n",
        "Shooting backward from frame 36\n",
        "Proposal probability 2.94444444444 / random : 0.952928769028\n",
        "<opentis.pathmover.BackwardShootMover object at 0x1104a5e50>\n",
        "success = True\n",
        "starting snap 36 [array([-0.30363626,  0.17099474])]\n",
        "<opentis.snapshot.Snapshot object at 0x11049bf50>\n",
        "\n",
        "Shooting forward from frame 50\n",
        "Proposal probability 1.06 / random : 0.336438448148\n",
        "<opentis.pathmover.ForwardShootMover object at 0x1104a5e90>\n",
        "success = True\n",
        "starting snap 50 [array([-0.30020385,  0.04072485])]\n",
        "<opentis.snapshot.Snapshot object at 0x1104a5a10>\n",
        "\n",
        "Shooting forward from frame 25\n",
        "Proposal probability"
       ]
      },
      {
       "output_type": "stream",
       "stream": "stdout",
       "text": [
        " 1.51428571429 / random : 0.60071361136\n",
        "<opentis.pathmover.ForwardShootMover object at 0x1104a5e90>\n",
        "success = True\n",
        "starting snap 25 [array([-0.30522445,  0.16008421])]\n",
        "<opentis.snapshot.Snapshot object at 0x11049b710>\n",
        "\n",
        "Shooting forward from frame 47\n",
        "Proposal probability 1.12765957447 / random : 0.355916103233\n",
        "<opentis.pathmover.ForwardShootMover object at 0x1104a5e90>\n",
        "success = True\n",
        "starting snap 47 [array([-0.3008071 ,  0.03084488])]\n",
        "<opentis.snapshot.Snapshot object at 0x1104a57d0>\n",
        "\n",
        "Shooting backward from frame 26\n",
        "Proposal probability 1.89285714286 / random : 0.958704629954\n",
        "<opentis.pathmover.BackwardShootMover object at 0x1104a5e50>\n",
        "success = True\n",
        "starting snap 26 [array([-0.30205233,  0.26440095])]\n",
        "<opentis.snapshot.Snapshot object at 0x11049b7d0>\n",
        "\n",
        "Shooting backward from frame 53\n",
        "Proposal probability 53.0 / random : 0.288720241705\n",
        "<opentis.pathmover.BackwardShootMover object at 0x1104a5e50>\n",
        "success = True\n",
        "starting snap 53 [array([-0.30457475,  0.06588027])]\n",
        "<opentis.snapshot.Snapshot object at 0x1104a5c50>\n",
        "\n",
        "Shooting backward from frame 49\n",
        "Proposal probability 2.94444444444 / random : 0.587322216323\n",
        "<opentis.pathmover.BackwardShootMover object at 0x1104a5e50>\n",
        "success = True\n",
        "starting snap 49 [array([-0.30070825,  0.04450868])]\n",
        "<opentis.snapshot.Snapshot object at 0x1104a5950>\n",
        "\n",
        "Shooting backward from frame 17\n",
        "Proposal probability"
       ]
      },
      {
       "output_type": "stream",
       "stream": "stdout",
       "text": [
        " 1.23255813953 / random : 0.174222864623\n",
        "<opentis.pathmover.BackwardShootMover object at 0x1104a5e50>\n",
        "success = True\n",
        "starting snap 17 [array([-0.30198374,  0.29349009])]\n",
        "<opentis.snapshot.Snapshot object at 0x11049b110>\n",
        "\n",
        "Shooting backward from frame 39\n",
        "Proposal probability 3.53333333333 / random : 0.8721601387\n",
        "<opentis.pathmover.BackwardShootMover object at 0x1104a5e50>\n",
        "success = True\n",
        "starting snap 39 [array([-0.31333893,  0.14181831])]\n",
        "<opentis.snapshot.Snapshot object at 0x1104a51d0>\n",
        "\n",
        "Shooting forward from frame 50\n",
        "Proposal probability 1.06 / random : 0.546486891646\n",
        "<opentis.pathmover.ForwardShootMover object at 0x1104a5e90>\n",
        "success = True\n",
        "starting snap 50 [array([-0.30143227,  0.03408637])]\n",
        "<opentis.snapshot.Snapshot object at 0x1104a5a10>\n",
        "\n",
        "Shooting backward from frame 19\n",
        "Proposal probability"
       ]
      },
      {
       "output_type": "stream",
       "stream": "stdout",
       "text": [
        " 1.01923076923 / random : 0.834913026228\n",
        "<opentis.pathmover.BackwardShootMover object at 0x1104a5e50>\n",
        "success = True\n",
        "starting snap 19 [array([-0.3010533 ,  0.18461521])]\n",
        "<opentis.snapshot.Snapshot object at 0x11049b290>\n",
        "\n",
        "Shooting forward from frame 40\n",
        "Proposal probability 1.325 / random : 0.125886353421\n",
        "<opentis.pathmover.ForwardShootMover object at 0x1104a5e90>\n",
        "success = True\n",
        "starting snap 40 [array([-0.30368948,  0.15662216])]\n",
        "<opentis.snapshot.Snapshot object at 0x1104a5290>\n",
        "\n",
        "Shooting forward from frame 8\n",
        "Proposal probability 5.88888888889 / random : 0.66045868934\n",
        "<opentis.pathmover.ForwardShootMover object at 0x1104a5e90>\n",
        "success = True\n",
        "starting snap 8 [array([-0.30050872,  0.20910953])]\n",
        "<opentis.snapshot.Snapshot object at 0x11048fa10>\n",
        "\n",
        "Shooting forward from frame 37\n",
        "Proposal probability 1.43243243243 / random : 0.0506592249233\n",
        "<opentis.pathmover.ForwardShootMover object at 0x1104a5e90>\n",
        "success = True\n",
        "starting snap 37 [array([-0.31328613,  0.14272476])]\n",
        "<opentis.snapshot.Snapshot object at 0x11049bfd0>\n",
        "\n",
        "Shooting forward from frame 48\n",
        "Proposal probability"
       ]
      },
      {
       "output_type": "stream",
       "stream": "stdout",
       "text": [
        " 0.80303030303 / random : 0.917426819005\n",
        "<opentis.pathmover.ForwardShootMover object at 0x1104a5e90>\n",
        "success = False\n",
        "starting snap 48 [array([-0.30403313,  0.03002414])]\n",
        "<opentis.snapshot.Snapshot object at 0x1104a5890>\n",
        "\n",
        "Shooting forward from frame 13\n",
        "Proposal probability 2.30434782609 / random : 0.59294504756\n",
        "<opentis.pathmover.ForwardShootMover object at 0x1104a5e90>\n",
        "success = True\n",
        "starting snap 13 [array([-0.30043206,  0.09541961])]\n",
        "<opentis.snapshot.Snapshot object at 0x11048fdd0>\n",
        "\n",
        "Shooting backward from frame 39\n",
        "Proposal probability 3.53333333333 / random : 0.246280594809\n",
        "<opentis.pathmover.BackwardShootMover object at 0x1104a5e50>\n",
        "success = True\n",
        "starting snap 39 [array([-0.31937743,  0.13819886])]\n",
        "<opentis.snapshot.Snapshot object at 0x1104a51d0>\n",
        "\n",
        "Shooting backward from frame 49\n",
        "Proposal probability 10.6 / random : 0.571850853294\n",
        "<opentis.pathmover.BackwardShootMover object at 0x1104a5e50>\n",
        "success = True\n",
        "starting snap 49 [array([-0.30117553,  0.03676479])]\n",
        "<opentis.snapshot.Snapshot object at 0x1104a5950>\n",
        "\n",
        "Shooting forward from frame 41\n",
        "Proposal probability 1.23255813953 / random : 0.227181765848\n",
        "<opentis.pathmover.ForwardShootMover object at 0x1104a5e90>\n",
        "success = True\n",
        "starting snap 41 [array([-0.30288937,  0.14916628])]\n",
        "<opentis.snapshot.Snapshot object at 0x1104a5350>\n",
        "\n",
        "Shooting backward from frame 28\n",
        "Proposal probability"
       ]
      },
      {
       "output_type": "stream",
       "stream": "stdout",
       "text": [
        " 2.03846153846 / random : 0.638860471107\n",
        "<opentis.pathmover.BackwardShootMover object at 0x1104a5e50>\n",
        "success = True\n",
        "starting snap 28 [array([-0.30616696,  0.19757656])]\n",
        "<opentis.snapshot.Snapshot object at 0x11049b950>\n",
        "\n",
        "Shooting forward from frame 47\n",
        "Proposal probability 1.0 / random : 0.030856178424\n",
        "<opentis.pathmover.ForwardShootMover object at 0x1104a5e90>\n",
        "success = True\n",
        "starting snap 47 [array([-0.3035421 ,  0.01475526])]\n",
        "<opentis.snapshot.Snapshot object at 0x1104a57d0>\n",
        "\n",
        "Shooting backward from frame 26\n",
        "Proposal probability 1.89285714286 / random : 0.191473712493\n",
        "<opentis.pathmover.BackwardShootMover object at 0x1104a5e50>\n",
        "success = True\n",
        "starting snap 26 [array([-0.30294003,  0.27038131])]\n",
        "<opentis.snapshot.Snapshot object at 0x11049b7d0>\n",
        "\n",
        "Shooting backward from frame 6\n",
        "Proposal probability"
       ]
      },
      {
       "output_type": "stream",
       "stream": "stdout",
       "text": [
        " 1.10416666667 / random : 0.114269875263\n",
        "<opentis.pathmover.BackwardShootMover object at 0x1104a5e50>\n",
        "success = True\n",
        "starting snap 6 [array([-0.30882868,  0.08189511])]\n",
        "<opentis.snapshot.Snapshot object at 0x11048f890>\n",
        "\n",
        "Shooting backward from frame 37\n",
        "Proposal probability 3.11764705882 / random : 0.455708885007\n",
        "<opentis.pathmover.BackwardShootMover object at 0x1104a5e50>\n",
        "success = True\n",
        "starting snap 37 [array([-0.31772026,  0.13902357])]\n",
        "<opentis.snapshot.Snapshot object at 0x11049bfd0>\n",
        "\n",
        "Shooting backward from frame 43\n",
        "Proposal probability 4.41666666667 / random : 0.384169873185\n",
        "<opentis.pathmover.BackwardShootMover object at 0x1104a5e50>\n",
        "success = True\n",
        "starting snap 43 [array([-0.30103261,  0.1460587 ])]\n",
        "<opentis.snapshot.Snapshot object at 0x1104a54d0>\n",
        "\n",
        "Shooting forward from frame 23\n",
        "Proposal probability 2.30434782609 / random : 0.522830819026\n",
        "<opentis.pathmover.ForwardShootMover object at 0x1104a5e90>\n",
        "success = True\n",
        "starting snap 23 [array([-0.30275595,  0.14822165])]\n",
        "<opentis.snapshot.Snapshot object at 0x11049b590>\n",
        "\n",
        "Shooting backward from frame 45\n",
        "Proposal probability"
       ]
      },
      {
       "output_type": "stream",
       "stream": "stdout",
       "text": [
        " 1.29268292683 / random : 0.217833225948\n",
        "<opentis.pathmover.BackwardShootMover object at 0x1104a5e50>\n",
        "success = True\n",
        "starting snap 45 [array([-0.3051598 , -0.09040171])]\n",
        "<opentis.snapshot.Snapshot object at 0x1104a5650>\n",
        "\n",
        "Shooting forward from frame 3\n",
        "Proposal probability 17.6666666667 / random : 0.430121047144\n",
        "<opentis.pathmover.ForwardShootMover object at 0x1104a5e90>\n",
        "success = True\n",
        "starting snap 3 [array([-0.30277186,  0.09106943])]\n",
        "<opentis.snapshot.Snapshot object at 0x11048f5d0>\n",
        "\n",
        "Shooting backward from frame 35\n",
        "Proposal probability 1.76666666667 / random : 0.205312138793\n",
        "<opentis.pathmover.BackwardShootMover object at 0x1104a5e50>\n",
        "success = True\n",
        "starting snap 35 [array([-0.30444858,  0.16629735])]\n",
        "<opentis.snapshot.Snapshot object at 0x11049be90>\n",
        "\n",
        "Shooting forward from frame 25\n",
        "Proposal probability 2.12 / random : 0.659460010241\n",
        "<opentis.pathmover.ForwardShootMover object at 0x1104a5e90>\n",
        "success = True\n",
        "starting snap 25 [array([-0.30705069,  0.16454441])]\n",
        "<opentis.snapshot.Snapshot object at 0x11049b710>\n",
        "\n",
        "Shooting forward from frame 4\n",
        "Proposal probability 13.25 / random : 0.136970884073\n",
        "<opentis.pathmover.ForwardShootMover object at 0x1104a5e90>\n",
        "success = True\n",
        "starting snap 4 [array([-0.30873655,  0.09059939])]\n",
        "<opentis.snapshot.Snapshot object at 0x11048f710>\n",
        "\n",
        "Shooting forward from frame 22\n",
        "Proposal probability"
       ]
      },
      {
       "output_type": "stream",
       "stream": "stdout",
       "text": [
        " 2.40909090909 / random : 0.0258752981231\n",
        "<opentis.pathmover.ForwardShootMover object at 0x1104a5e90>\n",
        "success = True\n",
        "starting snap 22 [array([-0.30056484,  0.18050788])]\n",
        "<opentis.snapshot.Snapshot object at 0x11049b4d0>\n",
        "\n",
        "Shooting backward from frame 28\n",
        "Proposal probability 2.03846153846 / random : 0.960966376026\n",
        "<opentis.pathmover.BackwardShootMover object at 0x1104a5e50>\n",
        "success = True\n",
        "starting snap 28 [array([-0.30894405,  0.20158693])]\n",
        "<opentis.snapshot.Snapshot object at 0x11049b950>\n",
        "\n",
        "Shooting forward from frame 37\n",
        "Proposal probability 1.43243243243 / random : 0.491628313336\n",
        "<opentis.pathmover.ForwardShootMover object at 0x1104a5e90>\n",
        "success = True\n",
        "starting snap 37 [array([-0.32353767,  0.13657729])]\n",
        "<opentis.snapshot.Snapshot object at 0x11049bfd0>\n",
        "\n",
        "Shooting backward from frame 30\n",
        "Proposal probability 2.20833333333 / random : 0.101743696105\n",
        "<opentis.pathmover.BackwardShootMover object at 0x1104a5e50>\n",
        "success = True\n",
        "starting snap 30 [array([-0.30314264,  0.25911552])]\n",
        "<opentis.snapshot.Snapshot object at 0x11049bad0>\n",
        "\n",
        "Shooting backward from frame 14\n",
        "Proposal probability 1.325 / random : 0.96819346002\n",
        "<opentis.pathmover.BackwardShootMover object at 0x1104a5e50>\n",
        "success = True\n",
        "starting snap 14 [array([-0.30042948,  0.30981107])]\n",
        "<opentis.snapshot.Snapshot object at 0x11048fe90>\n",
        "\n"
       ]
      }
     ],
     "prompt_number": 9
    },
    {
     "cell_type": "code",
     "collapsed": false,
     "input": [
      "print trajinfo(sample.details.start_point.trajectory)\n",
      "print trajinfo(sample.details.final_point.trajectory)"
     ],
     "language": "python",
     "metadata": {},
     "outputs": [
      {
       "output_type": "stream",
       "stream": "stdout",
       "text": [
        "(-0.29854259, [-0.68692964, -0.29854259, -0.677284])\n",
        "(-0.29854259, [-0.68692964, -0.29854259, -0.67131722])\n"
       ]
      }
     ],
     "prompt_number": 43
    },
    {
     "cell_type": "code",
     "collapsed": false,
     "input": [
      "print trajinfo(globalstate[amover.ensemble])"
     ],
     "language": "python",
     "metadata": {},
     "outputs": [
      {
       "output_type": "stream",
       "stream": "stdout",
       "text": [
        "(-0.29854259, [-0.68692964, -0.29854259, -0.67131722])\n"
       ]
      }
     ],
     "prompt_number": 44
    },
    {
     "cell_type": "code",
     "collapsed": false,
     "input": [
      "print fulltraj(sample.details.start)\n",
      "print fulltraj(sample.details.final)\n",
      "print trajinfo(sample.details.start)\n",
      "print trajinfo(sample.details.final)"
     ],
     "language": "python",
     "metadata": {},
     "outputs": [
      {
       "output_type": "stream",
       "stream": "stdout",
       "text": [
        "[array([-0.68692964,  0.12288454]), array([-0.67131721,  0.10222011]), array([-0.67728402,  0.1094052 ])]\n",
        "[array([-0.68692964,  0.12288454]), array([-0.67131721,  0.10222011]), array([-0.67131721,  0.10222011])]\n",
        "(-0.29854259, [-0.68692964, -0.29854259, -0.677284])\n",
        "(-0.29854259, [-0.68692964, -0.29854259, -0.67131722])\n"
       ]
      }
     ],
     "prompt_number": 45
    },
    {
     "cell_type": "code",
     "collapsed": false,
     "input": [],
     "language": "python",
     "metadata": {},
     "outputs": [
      {
       "output_type": "stream",
       "stream": "stdout",
       "text": [
        "<opentis.pathmover.ForwardShootMover object at 0x101afd950>\n",
        "success = True\n",
        "[array([-0.68692964,  0.12288454]), array([-0.67131721,  0.10222011]), array([-0.67728402,  0.1094052 ])]\n",
        "starting snap 1 [array([-0.67131721,  0.10222011])]\n",
        "[array([-0.68692964,  0.12288454]), array([-0.67131721,  0.10222011]), array([-0.67131721,  0.10222011])]\n",
        "[array([-0.68692964,  0.12288454]), array([-0.67131721,  0.10222011]), array([-0.67131721,  0.10222011])]\n",
        "<opentis.shooting.ShootingPoint object at 0x108723290>\n"
       ]
      }
     ],
     "prompt_number": 61
    },
    {
     "cell_type": "code",
     "collapsed": false,
     "input": [],
     "language": "python",
     "metadata": {},
     "outputs": []
    }
   ],
   "metadata": {}
  }
 ]
}
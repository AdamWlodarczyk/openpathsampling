{
 "metadata": {
  "name": "",
  "signature": "sha256:148e6657a532fd504747ac43cdaed091e96507cf4d15c2e4b4830e0a2270f20c"
 },
 "nbformat": 3,
 "nbformat_minor": 0,
 "worksheets": [
  {
   "cells": [
    {
     "cell_type": "code",
     "collapsed": false,
     "input": [
      "# stolen from toy_dynamics_tis.ipynb\n",
      "\n",
      "from opentis.toy_dynamics.toy_engine import ToyEngine\n",
      "from opentis.toy_dynamics.toy_integrators import LangevinBAOABIntegrator\n",
      "from opentis.toy_dynamics.toy_pes import Gaussian, OuterWalls\n",
      "from opentis.snapshot import Snapshot\n",
      "\n",
      "pes = (OuterWalls([1.0, 1.0], [0.0, 0.0]) + \n",
      "       Gaussian(2.0, [1.0, 4.0], [0.0,1.0]) + \n",
      "       Gaussian(2.0, [25.0, 1.0], [0.0, -1.0])\n",
      "      )\n",
      "integ = LangevinBAOABIntegrator(dt=0.02, temperature=0.1, gamma=1.0)\n",
      "sim = ToyEngine(filename=None,\n",
      "                options={'pes' : pes, \n",
      "                         'integ' : integ,\n",
      "                         'n_frames_max' : 50000,\n",
      "                         'nsteps_per_frame' : 5}\n",
      "               )\n",
      "\n",
      "sim.mass = [1.0, 1.0]\n",
      "sim.current_snapshot = Snapshot(coordinates=[-0.5, 0.0], velocities=[0.0,0.0])\n",
      "snap = sim.current_snapshot\n",
      "from opentis.orderparameter import OP_Function\n",
      "from opentis.volume import VolumeFactory as vf\n",
      "from opentis.volume import LambdaVolume\n",
      "from opentis.trajectory import Trajectory\n",
      "\n",
      "# WTF? This is an extremely overcomplicated OP; shouldn't be so hard!\n",
      "\n",
      "try:\n",
      "    op_line = OP_Function(name=\"xval\", \n",
      "                          fcn=lambda snap : Trajectory([snap])[0].coordinates()[0,0])\n",
      "except ValueError:\n",
      "    print \"xval already loaded\"\n",
      "    \n",
      "# this defines a set of LambdaVolumes for which the minimum is -1.0 and the maximum is given in the array\n",
      "line_volume_set = vf.LambdaVolumeSet(op_line, -1.0, [-0.30, -0.23, -0.17, -0.10])\n",
      "stateA = LambdaVolume(op_line, -1.0, -0.3)\n",
      "stateB = LambdaVolume(op_line, 0.3, 1.0)\n",
      "from opentis.ensemble import EnsembleFactory as ef\n",
      "from opentis.ensemble import LengthEnsemble, InXEnsemble, OutXEnsemble, SequentialEnsemble, OptionalEnsemble\n",
      "\n",
      "interface0 = line_volume_set[0]\n",
      "interface_ensemble_set = ef.TISEnsembleSet(stateA, stateB, line_volume_set)\n",
      "first_traj_ensemble = SequentialEnsemble([\n",
      "    OptionalEnsemble(OutXEnsemble(stateA)),\n",
      "    InXEnsemble(stateA),\n",
      "    OptionalEnsemble(OutXEnsemble(stateA) & InXEnsemble(interface0)),\n",
      "    OptionalEnsemble(InXEnsemble(interface0)),\n",
      "    OutXEnsemble(interface0),\n",
      "    OptionalEnsemble(OutXEnsemble(stateA)),\n",
      "    InXEnsemble(stateA) & LengthEnsemble(1)\n",
      "])\n"
     ],
     "language": "python",
     "metadata": {},
     "outputs": [
      {
       "output_type": "stream",
       "stream": "stdout",
       "text": [
        "xval already loaded\n"
       ]
      }
     ],
     "prompt_number": 3
    },
    {
     "cell_type": "code",
     "collapsed": false,
     "input": [
      "def trajinfo(traj):\n",
      "    if traj is not None:\n",
      "        return (max(op_line(traj)), op_line(traj))\n",
      "    \n",
      "def fulltraj(traj):\n",
      "    if traj is not None:\n",
      "        return [snap.coordinates[0][0:2] for snap in traj]\n",
      "    \n",
      "def snapids(traj):\n",
      "    return [\"<\"+str(hex(id(snap)))+\">\" for snap in traj]\n",
      "    \n",
      "def globalstate_print(gs):\n",
      "    for rep in gs:\n",
      "        traj = gs[rep]\n",
      "        print traj, trajinfo(traj)"
     ],
     "language": "python",
     "metadata": {},
     "outputs": [],
     "prompt_number": 4
    },
    {
     "cell_type": "code",
     "collapsed": false,
     "input": [
      "print \"about to run\"\n",
      "sim.initialized = True\n",
      "#first_traj = sim.generate(snap, [first_traj_ensemble.can_append])\n",
      "#subtraj = interface_ensemble_set[0].split(first_traj)[0]\n",
      "import numpy as np\n",
      "coord0 = np.array([[-0.305, 0.10, 0.0]])\n",
      "coord1 = np.array([[-0.299, 0.12, 0.0]])\n",
      "coord2 = np.array([[-0.302, 0.14, 0.0]])\n",
      "nulvel = np.array([[0.0,0.0,0.0]])\n",
      "subtraj = Trajectory([Snapshot(coordinates=coord0, velocities=nulvel),\n",
      "                      Snapshot(coordinates=coord1, velocities=nulvel),\n",
      "                      Snapshot(coordinates=coord2, velocities=nulvel)])\n",
      "\n",
      "from opentis.pathmover import PathMoverFactory as mf\n",
      "from opentis.shooting import UniformSelector\n",
      "\n",
      "# might be nice to get rid of these two lines somehow\n",
      "from opentis.pathmover import PathMover\n",
      "PathMover.engine = sim\n",
      "\n",
      "shooting_movers = mf.OneWayShootingSet(UniformSelector(), interface_ensemble_set)"
     ],
     "language": "python",
     "metadata": {},
     "outputs": [
      {
       "output_type": "stream",
       "stream": "stdout",
       "text": [
        "about to run\n"
       ]
      }
     ],
     "prompt_number": 22
    },
    {
     "cell_type": "code",
     "collapsed": false,
     "input": [
      "amover = shooting_movers[0].movers[0]\n",
      "print amover"
     ],
     "language": "python",
     "metadata": {},
     "outputs": [
      {
       "output_type": "stream",
       "stream": "stdout",
       "text": [
        "<opentis.pathmover.ForwardShootMover object at 0x10b62ca10>\n"
       ]
      }
     ],
     "prompt_number": 23
    },
    {
     "cell_type": "code",
     "collapsed": false,
     "input": [
      "from opentis.globalstate import GlobalState\n",
      "globalstate = GlobalState([amover.ensemble])\n",
      "globalstate[amover.ensemble] = subtraj"
     ],
     "language": "python",
     "metadata": {},
     "outputs": [],
     "prompt_number": 24
    },
    {
     "cell_type": "code",
     "collapsed": false,
     "input": [
      "# I think something may be wrong with the way we do generate: I we're changing the snapshot somewhere\n",
      "\n",
      "for i in range(10):\n",
      "    print fulltraj(globalstate[amover.ensemble])\n",
      "#    print snapids(globalstate[amover.ensemble])\n",
      "    sample = amover.move(globalstate[amover.ensemble])\n",
      "    print \"success =\", sample.details.success\n",
      "    sp_snap = sample.details.start_point.snapshot\n",
      "#    print \"partials\", fulltraj(sample.details.repeated_partial), fulltraj(sample.details.new_partial)\n",
      "#    print \"partials\", snapids(sample.details.repeated_partial), snapids(sample.details.new_partial)\n",
      "#    print fulltraj(globalstate[amover.ensemble])\n",
      "#    print snapids(globalstate[amover.ensemble])\n",
      "#    print sample.details.mover\n",
      "    print sample.details.final\n",
      "#    print fulltraj(sample.details.start)\n",
      "#    print snapids(sample.details.start)\n",
      "#    print \"starting snap\", sample.details.start_point.index, fulltraj(Trajectory([sp_snap])), \"<\"+str(hex(id(sp_snap)))+\">\"\n",
      "#    print fulltraj(sample.details.final)\n",
      "#    print fulltraj(sample.details.repeated_partial), fulltraj(sample.details.new_partial)\n",
      "#    print snapids(sample.details.final)\n",
      "    print trajinfo(sample.details.final)\n",
      "#    print sample.details.result\n",
      "    globalstate = globalstate.move([sample])\n",
      "#    print"
     ],
     "language": "python",
     "metadata": {},
     "outputs": [
      {
       "output_type": "stream",
       "stream": "stdout",
       "text": [
        "[array([-0.305,  0.1  ]), array([-0.299,  0.12 ]), array([-0.302,  0.14 ])]\n",
        "Shooting forward from frame 1\n",
        "Proposal probability"
       ]
      },
      {
       "output_type": "stream",
       "stream": "stdout",
       "text": [
        " 0.0434782608696 / random : 0.830625614225\n",
        "success = False\n",
        "Trajectory[25]\n",
        "(-0.27292296, [-0.30500001, -0.29899999, -0.29809228, -0.2960794, -0.29470408, -0.29370594, -0.29199973, -0.29005808, -0.28836089, -0.28639695, -0.28401959, -0.28172433, -0.27917221, -0.2766563, -0.27461883, -0.27307653, -0.27292296, -0.27383423, -0.27509776, -0.27684394, -0.27977914, -0.28451884, -0.29008067, -0.29606962, -0.30322054])\n",
        "[array([-0.305,  0.1  ]), array([-0.299,  0.12 ]), array([-0.302,  0.14 ])]\n",
        "Shooting forward from frame 1\n",
        "Proposal probability 0.333333333333 / random : 0.367504201019\n",
        "success = False\n",
        "Trajectory[5]\n",
        "(-0.29857665, [-0.30500001, -0.29899999, -0.29873738, -0.29857665, -0.30071786])\n",
        "[array([-0.305,  0.1  ]), array([-0.299,  0.12 ]), array([-0.302,  0.14 ])]\n",
        "Shooting forward from frame 1\n",
        "Proposal probability 0.5 / random : 0.129672482779\n",
        "success = True\n",
        "Trajectory[4]\n",
        "(-0.29899999, [-0.30500001, -0.29899999, -0.29969761, -0.30158854])\n",
        "[array([-0.305,  0.1  ]), array([-0.299,  0.12 ]), array([-0.29969761,  0.12000607]), array([-0.30158854,  0.11945153])]\n",
        "Shooting forward from frame 2\n",
        "Proposal probability 1.0 / random : 0.101262059803\n",
        "success = True\n",
        "Trajectory[4]\n",
        "(-0.29899999, [-0.30500001, -0.29899999, -0.29969761, -0.30242449])\n",
        "[array([-0.305,  0.1  ]), array([-0.299,  0.12 ]), array([-0.29969761,  0.12000607]), array([-0.3024245 ,  0.11928893])]\n",
        "Shooting forward from frame 1\n",
        "Proposal probability 0.5 / random : 0.0127396521122\n",
        "success = True\n",
        "Trajectory[6]\n",
        "(-0.29899999, [-0.30500001, -0.29899999, -0.29930657, -0.29922557, -0.29913798, -0.30034867])\n",
        "[array([-0.305,  0.1  ]), array([-0.299,  0.12 ]), array([-0.29930657,  0.12010387]), array([-0.29922556,  0.1199765 ]), array([-0.29913798,  0.11961755]), array([-0.30034868,  0.11922858])]\n",
        "Shooting forward from frame 2\n",
        "Proposal probability 2.0 / random : 0.780582460315\n",
        "success = True\n",
        "Trajectory[4]\n",
        "(-0.29899999, [-0.30500001, -0.29899999, -0.29930657, -0.30006284])\n",
        "[array([-0.305,  0.1  ]), array([-0.299,  0.12 ]), array([-0.29930657,  0.12010387]), array([-0.30006283,  0.1200905 ])]\n",
        "Shooting forward from frame 2\n",
        "Proposal probability 0.2 / random : 0.893969186156\n",
        "success = False\n",
        "Trajectory[12]\n",
        "(-0.29750857, [-0.30500001, -0.29899999, -0.29930657, -0.29950443, -0.29908678, -0.29807419, -0.29750857, -0.29813716, -0.29853046, -0.29874599, -0.29984128, -0.30116791])\n",
        "[array([-0.305,  0.1  ]), array([-0.299,  0.12 ]), array([-0.29930657,  0.12010387]), array([-0.30006283,  0.1200905 ])]\n",
        "Shooting forward from frame 1\n",
        "Proposal probability"
       ]
      },
      {
       "output_type": "stream",
       "stream": "stdout",
       "text": [
        " 1.0 / random : 0.472617306584\n",
        "success = True\n",
        "Trajectory[4]\n",
        "(-0.29899999, [-0.30500001, -0.29899999, -0.29985556, -0.30158648])\n",
        "[array([-0.305,  0.1  ]), array([-0.299,  0.12 ]), array([-0.29985557,  0.12076319]), array([-0.30158649,  0.12319549])]\n",
        "Shooting forward from frame 1\n",
        "Proposal probability 0.2 / random : 0.646078413892\n",
        "success = False\n",
        "Trajectory[12]\n",
        "(-0.29568425, [-0.30500001, -0.29899999, -0.2993356, -0.29980317, -0.29960626, -0.29827383, -0.29664454, -0.29571122, -0.29568425, -0.29710078, -0.29915097, -0.30118212])\n",
        "[array([-0.305,  0.1  ]), array([-0.299,  0.12 ]), array([-0.29985557,  0.12076319]), array([-0.30158649,  0.12319549])]\n",
        "Shooting forward from frame 2\n",
        "Proposal probability 1.0 / random : 0.655544675628\n",
        "success = True\n",
        "Trajectory[4]\n",
        "(-0.29899999, [-0.30500001, -0.29899999, -0.29985556, -0.30078915])\n"
       ]
      }
     ],
     "prompt_number": 25
    },
    {
     "cell_type": "code",
     "collapsed": false,
     "input": [],
     "language": "python",
     "metadata": {},
     "outputs": [],
     "prompt_number": 6
    },
    {
     "cell_type": "code",
     "collapsed": false,
     "input": [],
     "language": "python",
     "metadata": {},
     "outputs": [],
     "prompt_number": 6
    }
   ],
   "metadata": {}
  }
 ]
}
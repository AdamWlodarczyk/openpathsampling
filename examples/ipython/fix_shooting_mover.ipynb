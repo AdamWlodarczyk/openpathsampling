{
 "metadata": {
  "name": "",
  "signature": "sha256:241f558d2c8d2a5a4409954570ab99bbefc5fdb1b6686f80865e86315bb73659"
 },
 "nbformat": 3,
 "nbformat_minor": 0,
 "worksheets": [
  {
   "cells": [
    {
     "cell_type": "code",
     "collapsed": false,
     "input": [
      "# stolen from toy_dynamics_tis.ipynb\n",
      "\n",
      "from opentis.toy_dynamics.toy_engine import ToyEngine\n",
      "from opentis.toy_dynamics.toy_integrators import LangevinBAOABIntegrator\n",
      "from opentis.toy_dynamics.toy_pes import Gaussian, OuterWalls\n",
      "from opentis.snapshot import Snapshot\n",
      "\n",
      "pes = (OuterWalls([1.0, 1.0], [0.0, 0.0]) + \n",
      "       Gaussian(2.0, [1.0, 4.0], [0.0,1.0]) + \n",
      "       Gaussian(2.0, [25.0, 1.0], [0.0, -1.0])\n",
      "      )\n",
      "integ = LangevinBAOABIntegrator(dt=0.02, temperature=0.1, gamma=1.0)\n",
      "sim = ToyEngine(filename=None,\n",
      "                options={'pes' : pes, \n",
      "                         'integ' : integ,\n",
      "                         'n_frames_max' : 50000,\n",
      "                         'nsteps_per_frame' : 5}\n",
      "               )\n",
      "\n",
      "sim.mass = [1.0, 1.0]\n",
      "sim.current_snapshot = Snapshot(coordinates=[-0.5, 0.0], velocities=[0.0,0.0])\n",
      "snap = sim.current_snapshot\n",
      "from opentis.orderparameter import OP_Function\n",
      "from opentis.volume import VolumeFactory as vf\n",
      "from opentis.volume import LambdaVolume\n",
      "from opentis.trajectory import Trajectory\n",
      "\n",
      "# WTF? This is an extremely overcomplicated OP; shouldn't be so hard!\n",
      "\n",
      "try:\n",
      "    op_line = OP_Function(name=\"xval\", \n",
      "                          fcn=lambda snap : Trajectory([snap])[0].coordinates()[0,0])\n",
      "except ValueError:\n",
      "    print \"xval already loaded\"\n",
      "    \n",
      "# this defines a set of LambdaVolumes for which the minimum is -1.0 and the maximum is given in the array\n",
      "line_volume_set = vf.LambdaVolumeSet(op_line, -1.0, [-0.30, -0.23, -0.17, -0.10])\n",
      "stateA = LambdaVolume(op_line, -1.0, -0.3)\n",
      "stateB = LambdaVolume(op_line, 0.3, 1.0)\n",
      "from opentis.ensemble import EnsembleFactory as ef\n",
      "from opentis.ensemble import LengthEnsemble, InXEnsemble, OutXEnsemble, SequentialEnsemble, OptionalEnsemble\n",
      "\n",
      "interface0 = line_volume_set[0]\n",
      "interface_ensemble_set = ef.TISEnsembleSet(stateA, stateB, line_volume_set)\n",
      "first_traj_ensemble = SequentialEnsemble([\n",
      "    OptionalEnsemble(OutXEnsemble(stateA)),\n",
      "    InXEnsemble(stateA),\n",
      "    OptionalEnsemble(OutXEnsemble(stateA) & InXEnsemble(interface0)),\n",
      "    OptionalEnsemble(InXEnsemble(interface0)),\n",
      "    OutXEnsemble(interface0),\n",
      "    OptionalEnsemble(OutXEnsemble(stateA)),\n",
      "    InXEnsemble(stateA) & LengthEnsemble(1)\n",
      "])\n"
     ],
     "language": "python",
     "metadata": {},
     "outputs": [
      {
       "output_type": "stream",
       "stream": "stdout",
       "text": [
        "xval already loaded\n"
       ]
      }
     ],
     "prompt_number": 2
    },
    {
     "cell_type": "code",
     "collapsed": false,
     "input": [
      "def trajinfo(traj):\n",
      "    if traj is not None:\n",
      "        return (max(op_line(traj)), op_line(traj))\n",
      "    \n",
      "def fulltraj(traj):\n",
      "    if traj is not None:\n",
      "        return [snap.coordinates[0][0:2] for snap in traj]\n",
      "    \n",
      "def snapids(traj):\n",
      "    return [\"<\"+str(hex(id(snap)))+\">\" for snap in traj]\n",
      "    \n",
      "def globalstate_print(gs):\n",
      "    for rep in gs:\n",
      "        traj = gs[rep]\n",
      "        print traj, trajinfo(traj)"
     ],
     "language": "python",
     "metadata": {},
     "outputs": [],
     "prompt_number": 3
    },
    {
     "cell_type": "code",
     "collapsed": false,
     "input": [
      "print \"about to run\"\n",
      "sim.initialized = True\n",
      "#first_traj = sim.generate(snap, [first_traj_ensemble.can_append])\n",
      "#subtraj = interface_ensemble_set[0].split(first_traj)[0]\n",
      "import numpy as np\n",
      "coord0 = np.array([[-0.305, 0.10, 0.0]])\n",
      "coord1 = np.array([[-0.299, 0.12, 0.0]])\n",
      "coord2 = np.array([[-0.302, 0.14, 0.0]])\n",
      "nulvel = np.array([[0.0,0.0,0.0]])\n",
      "subtraj = Trajectory([Snapshot(coordinates=coord0, velocities=nulvel),\n",
      "                      Snapshot(coordinates=coord1, velocities=nulvel),\n",
      "                      Snapshot(coordinates=coord2, velocities=nulvel)])\n",
      "\n",
      "from opentis.pathmover import PathMoverFactory as mf\n",
      "from opentis.shooting import UniformSelector\n",
      "\n",
      "# might be nice to get rid of these two lines somehow\n",
      "from opentis.pathmover import PathMover\n",
      "PathMover.engine = sim\n",
      "\n",
      "shooting_movers = mf.OneWayShootingSet(UniformSelector(), interface_ensemble_set)"
     ],
     "language": "python",
     "metadata": {},
     "outputs": [
      {
       "output_type": "stream",
       "stream": "stdout",
       "text": [
        "about to run\n"
       ]
      }
     ],
     "prompt_number": 4
    },
    {
     "cell_type": "code",
     "collapsed": false,
     "input": [
      "amover = shooting_movers[0].movers[0]\n",
      "print amover"
     ],
     "language": "python",
     "metadata": {},
     "outputs": [
      {
       "output_type": "stream",
       "stream": "stdout",
       "text": [
        "<opentis.pathmover.ForwardShootMover object at 0x10ac99cd0>\n"
       ]
      }
     ],
     "prompt_number": 5
    },
    {
     "cell_type": "code",
     "collapsed": false,
     "input": [
      "from opentis.globalstate import GlobalState\n",
      "globalstate = GlobalState([amover.ensemble])\n",
      "globalstate[amover.ensemble] = subtraj"
     ],
     "language": "python",
     "metadata": {},
     "outputs": [],
     "prompt_number": 6
    },
    {
     "cell_type": "code",
     "collapsed": false,
     "input": [
      "# I think something may be wrong with the way we do generate: I we're changing the snapshot somewhere\n",
      "\n",
      "for i in range(10):\n",
      "    print fulltraj(globalstate[amover.ensemble])\n",
      "#    print snapids(globalstate[amover.ensemble])\n",
      "    sample = amover.move(globalstate[amover.ensemble])\n",
      "    print \"success =\", sample.details.success\n",
      "    sp_snap = sample.details.start_point.snapshot\n",
      "#    print \"partials\", fulltraj(sample.details.repeated_partial), fulltraj(sample.details.new_partial)\n",
      "#    print \"partials\", snapids(sample.details.repeated_partial), snapids(sample.details.new_partial)\n",
      "#    print fulltraj(globalstate[amover.ensemble])\n",
      "#    print snapids(globalstate[amover.ensemble])\n",
      "#    print sample.details.mover\n",
      "    print sample.details.final\n",
      "#    print fulltraj(sample.details.start)\n",
      "#    print snapids(sample.details.start)\n",
      "#    print \"starting snap\", sample.details.start_point.index, fulltraj(Trajectory([sp_snap])), \"<\"+str(hex(id(sp_snap)))+\">\"\n",
      "#    print fulltraj(sample.details.final)\n",
      "#    print fulltraj(sample.details.repeated_partial), fulltraj(sample.details.new_partial)\n",
      "#    print snapids(sample.details.final)\n",
      "    print trajinfo(sample.details.final)\n",
      "    print\n",
      "#    print sample.details.result\n",
      "    globalstate = globalstate.move([sample])\n",
      "#    print"
     ],
     "language": "python",
     "metadata": {},
     "outputs": [
      {
       "output_type": "stream",
       "stream": "stdout",
       "text": [
        "[array([-0.305,  0.1  ]), array([-0.299,  0.12 ]), array([-0.302,  0.14 ])]\n",
        "Shooting forward from frame 1\n",
        "Proposal probability 0.5 / random : 0.232222900715\n",
        "success = True\n",
        "Trajectory[4]\n",
        "(-0.29899999, [-0.30500001, -0.29899999, -0.29964721, -0.30171436])\n",
        "\n",
        "[array([-0.305,  0.1  ]), array([-0.299,  0.12 ]), array([-0.29964722,  0.12020236]), array([-0.30171436,  0.12050214])]\n",
        "Shooting forward from frame 2\n",
        "Proposal probability 1.0 / random : 0.404480881321\n",
        "success = True\n",
        "Trajectory[4]\n",
        "(-0.29899999, [-0.30500001, -0.29899999, -0.29964721, -0.30237293])\n",
        "\n",
        "[array([-0.305,  0.1  ]), array([-0.299,  0.12 ]), array([-0.29964722,  0.12020236]), array([-0.30237293,  0.1206277 ])]\n",
        "Shooting forward from frame 1\n",
        "Proposal probability 1.0 / random : 0.468496496874\n",
        "success = True\n",
        "Trajectory[4]\n",
        "(-0.29899999, [-0.30500001, -0.29899999, -0.29938596, -0.30009493])\n",
        "\n",
        "[array([-0.305,  0.1  ]), array([-0.299,  0.12 ]), array([-0.29938597,  0.12018977]), array([-0.30009493,  0.11951232])]\n",
        "Shooting forward from frame 2\n",
        "Proposal probability"
       ]
      },
      {
       "output_type": "stream",
       "stream": "stdout",
       "text": [
        " 0.111111111111 / random : 0.73377841364\n",
        "success = False\n",
        "Trajectory[20]\n",
        "(-0.2897816, [-0.30500001, -0.29899999, -0.29938596, -0.29943904, -0.2984367, -0.29705793, -0.29695997, -0.29738927, -0.2966724, -0.29542977, -0.29491583, -0.29456174, -0.29317427, -0.29152012, -0.29048273, -0.2897816, -0.29029709, -0.29342267, -0.29767281, -0.30179057])\n",
        "\n",
        "[array([-0.305,  0.1  ]), array([-0.299,  0.12 ]), array([-0.29938597,  0.12018977]), array([-0.30009493,  0.11951232])]\n",
        "Shooting forward from frame 1\n",
        "Proposal probability 0.666666666667 / random : 0.307278260288\n",
        "success = True\n",
        "Trajectory[5]\n",
        "(-0.29899999, [-0.30500001, -0.29899999, -0.29932091, -0.29983401, -0.30062249])\n",
        "\n",
        "[array([-0.305,  0.1  ]), array([-0.299,  0.12 ]), array([-0.2993209 ,  0.11987381]), array([-0.299834  ,  0.11992031]), array([-0.30062248,  0.12099272])]\n",
        "Shooting forward from frame 2\n",
        "Proposal probability 0.375 / random : 0.00495490563626\n",
        "success = True\n",
        "Trajectory[10]\n",
        "(-0.29899999, [-0.30500001, -0.29899999, -0.29932091, -0.29947966, -0.29950383, -0.29966787, -0.29947233, -0.2994037, -0.29982874, -0.30099681])\n",
        "\n",
        "[array([-0.305,  0.1  ]), array([-0.299,  0.12 ]), array([-0.2993209 ,  0.11987381]), array([-0.29947967,  0.11922209]), array([-0.29950384,  0.11686173]), array([-0.29966787,  0.11345758]), array([-0.29947233,  0.10935809]), array([-0.29940369,  0.10406525]), array([-0.29982874,  0.09896701]), array([-0.3009968 ,  0.09379314])]\n",
        "Shooting forward from frame 3\n",
        "Proposal probability 2.66666666667 / random : 0.968530187457\n",
        "success = True\n",
        "Trajectory[5]\n",
        "(-0.29899999, [-0.30500001, -0.29899999, -0.29932091, -0.29947966, -0.3002485])\n",
        "\n",
        "[array([-0.305,  0.1  ]), array([-0.299,  0.12 ]), array([-0.2993209 ,  0.11987381]), array([-0.29947967,  0.11922209]), array([-0.3002485 ,  0.11852362])]\n",
        "Shooting forward from frame 1\n",
        "Proposal probability"
       ]
      },
      {
       "output_type": "stream",
       "stream": "stdout",
       "text": [
        " 0.130434782609 / random : 0.999858358492\n",
        "success = False\n",
        "Trajectory[25]\n",
        "(-0.28842285, [-0.30500001, -0.29899999, -0.29862988, -0.29806191, -0.29746863, -0.29693225, -0.29599565, -0.29464209, -0.29338738, -0.2919386, -0.29080957, -0.28974435, -0.28892955, -0.28842285, -0.28866214, -0.28931749, -0.28925109, -0.28889701, -0.28852814, -0.28889781, -0.29026192, -0.29239085, -0.29526529, -0.29894367, -0.30431598])\n",
        "\n",
        "[array([-0.305,  0.1  ]), array([-0.299,  0.12 ]), array([-0.2993209 ,  0.11987381]), array([-0.29947967,  0.11922209]), array([-0.3002485 ,  0.11852362])]\n",
        "Shooting forward from frame 1\n",
        "Proposal probability"
       ]
      },
      {
       "output_type": "stream",
       "stream": "stdout",
       "text": [
        " 0.12 / random : 0.763856218683\n",
        "success = False\n",
        "Trajectory[27]\n",
        "(-0.27053523, [-0.30500001, -0.29899999, -0.29880106, -0.29789162, -0.29688114, -0.29754516, -0.29823318, -0.29713085, -0.29509598, -0.29201722, -0.28748688, -0.28295708, -0.27893153, -0.27526614, -0.272291, -0.27053523, -0.27059337, -0.27093422, -0.27143544, -0.27222919, -0.27281457, -0.27419281, -0.27773145, -0.28299639, -0.28929907, -0.29587755, -0.30179936])\n",
        "\n",
        "[array([-0.305,  0.1  ]), array([-0.299,  0.12 ]), array([-0.2993209 ,  0.11987381]), array([-0.29947967,  0.11922209]), array([-0.3002485 ,  0.11852362])]\n",
        "Shooting forward from frame 1\n",
        "Proposal probability 1.5 / random : 0.564348622259\n",
        "success = True\n",
        "Trajectory[4]\n",
        "(-0.29899999, [-0.30500001, -0.29899999, -0.29980448, -0.30085164])\n",
        "\n"
       ]
      }
     ],
     "prompt_number": 7
    },
    {
     "cell_type": "code",
     "collapsed": false,
     "input": [],
     "language": "python",
     "metadata": {},
     "outputs": [],
     "prompt_number": 6
    },
    {
     "cell_type": "code",
     "collapsed": false,
     "input": [],
     "language": "python",
     "metadata": {},
     "outputs": [],
     "prompt_number": 6
    }
   ],
   "metadata": {}
  }
 ]
}
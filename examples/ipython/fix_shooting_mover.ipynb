{
 "metadata": {
  "name": "",
  "signature": "sha256:15268fd7fdffd9dfa697d99b1864ade1813095ea7d2976f3ca57250f5cdca5fb"
 },
 "nbformat": 3,
 "nbformat_minor": 0,
 "worksheets": [
  {
   "cells": [
    {
     "cell_type": "code",
     "collapsed": false,
     "input": [
      "# stolen from toy_dynamics_tis.ipynb\n",
      "\n",
      "from opentis.toy_dynamics.toy_engine import ToyEngine\n",
      "from opentis.toy_dynamics.toy_integrators import LangevinBAOABIntegrator\n",
      "from opentis.toy_dynamics.toy_pes import Gaussian, OuterWalls\n",
      "from opentis.snapshot import Snapshot\n",
      "\n",
      "pes = (OuterWalls([1.0, 1.0], [0.0, 0.0]) + \n",
      "       Gaussian(2.0, [1.0, 4.0], [0.0,1.0]) + \n",
      "       Gaussian(2.0, [25.0, 1.0], [0.0, -1.0])\n",
      "      )\n",
      "integ = LangevinBAOABIntegrator(dt=0.002, temperature=0.1, gamma=1.0)\n",
      "sim = ToyEngine(filename=None,\n",
      "                options={'pes' : pes, \n",
      "                         'integ' : integ,\n",
      "                         'n_frames_max' : 50000,\n",
      "                         'nsteps_per_frame' : 10}\n",
      "               )\n",
      "\n",
      "sim.mass = [1.0, 1.0]\n",
      "sim.current_snapshot = Snapshot(coordinates=[-0.5, 0.0], velocities=[0.0,0.0])\n",
      "snap = sim.current_snapshot\n",
      "from opentis.orderparameter import OP_Function\n",
      "from opentis.volume import VolumeFactory as vf\n",
      "from opentis.volume import LambdaVolume\n",
      "from opentis.trajectory import Trajectory\n",
      "\n",
      "# WTF? This is an extremely overcomplicated OP; shouldn't be so hard!\n",
      "\n",
      "try:\n",
      "    op_line = OP_Function(name=\"xval\", \n",
      "                          fcn=lambda snap : Trajectory([snap])[0].coordinates()[0,0])\n",
      "except ValueError:\n",
      "    print \"xval already loaded\"\n",
      "    \n",
      "# this defines a set of LambdaVolumes for which the minimum is -1.0 and the maximum is given in the array\n",
      "line_volume_set = vf.LambdaVolumeSet(op_line, -1.0, [-0.30, -0.23, -0.17, -0.10])\n",
      "stateA = LambdaVolume(op_line, -1.0, -0.3)\n",
      "stateB = LambdaVolume(op_line, 0.3, 1.0)\n",
      "from opentis.ensemble import EnsembleFactory as ef\n",
      "from opentis.ensemble import LengthEnsemble, InXEnsemble, OutXEnsemble, SequentialEnsemble, OptionalEnsemble\n",
      "\n",
      "interface0 = line_volume_set[0]\n",
      "interface_ensemble_set = ef.TISEnsembleSet(stateA, stateB, line_volume_set)\n",
      "first_traj_ensemble = SequentialEnsemble([\n",
      "    OptionalEnsemble(OutXEnsemble(stateA)),\n",
      "    InXEnsemble(stateA),\n",
      "    OptionalEnsemble(OutXEnsemble(stateA) & InXEnsemble(interface0)),\n",
      "    OptionalEnsemble(InXEnsemble(interface0)),\n",
      "    OutXEnsemble(interface0),\n",
      "    OptionalEnsemble(OutXEnsemble(stateA)),\n",
      "    InXEnsemble(stateA) & LengthEnsemble(1)\n",
      "])\n"
     ],
     "language": "python",
     "metadata": {},
     "outputs": [
      {
       "output_type": "stream",
       "stream": "stdout",
       "text": [
        "xval already loaded\n"
       ]
      }
     ],
     "prompt_number": 4
    },
    {
     "cell_type": "code",
     "collapsed": false,
     "input": [
      "print \"about to run\"\n",
      "sim.initialized = True\n",
      "first_traj = sim.generate(snap, [first_traj_ensemble.can_append])\n",
      "subtraj = interface_ensemble_set[0].split(first_traj)[0]\n",
      "\n",
      "from opentis.pathmover import PathMoverFactory as mf\n",
      "from opentis.shooting import UniformSelector\n",
      "\n",
      "# might be nice to get rid of these two lines somehow\n",
      "from opentis.pathmover import PathMover\n",
      "PathMover.engine = sim\n",
      "\n",
      "shooting_movers = mf.OneWayShootingSet(UniformSelector(), interface_ensemble_set)"
     ],
     "language": "python",
     "metadata": {},
     "outputs": [
      {
       "output_type": "stream",
       "stream": "stdout",
       "text": [
        "about to run\n"
       ]
      }
     ],
     "prompt_number": 5
    },
    {
     "cell_type": "code",
     "collapsed": false,
     "input": [
      "def trajinfo(traj):\n",
      "    if traj is not None:\n",
      "        return (max(op_line(traj)), op_line(traj))\n",
      "    \n",
      "def globalstate_print(gs):\n",
      "    for rep in gs:\n",
      "        traj = gs[rep]\n",
      "        print traj, trajinfo(traj)"
     ],
     "language": "python",
     "metadata": {},
     "outputs": [],
     "prompt_number": 6
    },
    {
     "cell_type": "code",
     "collapsed": false,
     "input": [
      "amover = shooting_movers[0]\n",
      "print amover"
     ],
     "language": "python",
     "metadata": {},
     "outputs": [
      {
       "output_type": "stream",
       "stream": "stdout",
       "text": [
        "<opentis.pathmover.MixedMover object at 0x110a71250>\n"
       ]
      }
     ],
     "prompt_number": 7
    },
    {
     "cell_type": "code",
     "collapsed": false,
     "input": [
      "from opentis.globalstate import GlobalState\n",
      "globalstate = GlobalState([amover.ensemble])\n",
      "globalstate[amover.ensemble] = subtraj"
     ],
     "language": "python",
     "metadata": {},
     "outputs": [],
     "prompt_number": 8
    },
    {
     "cell_type": "code",
     "collapsed": false,
     "input": [
      "print globalstate[amover.ensemble]"
     ],
     "language": "python",
     "metadata": {},
     "outputs": [
      {
       "output_type": "stream",
       "stream": "stdout",
       "text": [
        "Trajectory[135]\n"
       ]
      }
     ],
     "prompt_number": 9
    },
    {
     "cell_type": "code",
     "collapsed": false,
     "input": [
      "for i in range(10):\n",
      "    sample = amover.move(globalstate[amover.ensemble])\n",
      "    print sample.trajectory\n",
      "#    print sample.details   \n",
      "    print sample.details.start_point.sum_bias, sample.details.final_point.sum_bias\n",
      "    globalstate = globalstate.move([sample])\n",
      "    print \"new global\", globalstate[amover.ensemble], \"\\n\""
     ],
     "language": "python",
     "metadata": {},
     "outputs": [
      {
       "output_type": "stream",
       "stream": "stdout",
       "text": [
        "Shooting backward from frame 1\n",
        "Proposal probability"
       ]
      },
      {
       "output_type": "stream",
       "stream": "stdout",
       "text": [
        " 1.0 / random : 0.502232919937\n",
        "Trajectory[3]\n",
        "1.0 1.0\n",
        "new global Trajectory[3] \n",
        "\n",
        "Shooting backward from frame 1\n",
        "Proposal probability 1.0 / random : 0.62251903133\n",
        "Trajectory[3]\n",
        "1.0 1.0\n",
        "new global Trajectory[3] \n",
        "\n",
        "Shooting forward from frame 1\n",
        "Proposal probability 1.0 / random : 0.13190830999\n",
        "Trajectory[3]\n",
        "1.0 1.0\n",
        "new global Trajectory[3] \n",
        "\n",
        "Shooting backward from frame 1\n",
        "Proposal probability 1.0 / random : 0.302060929787\n",
        "Trajectory[3]\n",
        "1.0 1.0\n",
        "new global Trajectory[3] \n",
        "\n",
        "Shooting forward from frame 1\n",
        "Proposal probability 1.0 / random : 0.365559232126\n",
        "Trajectory[3]\n",
        "1.0 1.0\n",
        "new global Trajectory[3] \n",
        "\n",
        "Shooting backward from frame 1\n",
        "Proposal probability 1.0 / random : 0.850226409007\n",
        "Trajectory[3]\n",
        "1.0 1.0\n",
        "new global Trajectory[3] \n",
        "\n",
        "Shooting forward from frame 1\n",
        "Proposal probability 1.0 / random : 0.342752158414\n",
        "Trajectory[3]\n",
        "1.0 1.0\n",
        "new global Trajectory[3] \n",
        "\n",
        "Shooting forward from frame 1\n",
        "Proposal probability 1.0 / random : 0.193138725042\n",
        "Trajectory[3]\n",
        "1.0 1.0\n",
        "new global Trajectory[3] \n",
        "\n",
        "Shooting forward from frame 1\n",
        "Proposal probability 1.0 / random : 0.634922260877\n",
        "Trajectory[3]\n",
        "1.0 1.0\n",
        "new global Trajectory[3] \n",
        "\n",
        "Shooting backward from frame 1\n",
        "Proposal probability 1.0 / random : 0.159823692455\n",
        "Trajectory[3]\n",
        "1.0 1.0\n",
        "new global Trajectory[3] \n",
        "\n"
       ]
      }
     ],
     "prompt_number": 14
    },
    {
     "cell_type": "code",
     "collapsed": false,
     "input": [
      "print trajinfo(sample.details.start_point.trajectory)\n",
      "print trajinfo(sample.details.final_point.trajectory)"
     ],
     "language": "python",
     "metadata": {},
     "outputs": [
      {
       "output_type": "stream",
       "stream": "stdout",
       "text": [
        "(-0.29964247, [-0.31150144, -0.29964247, -0.31426671])\n",
        "(-0.29964247, [-0.31520134, -0.29964247, -0.31426671])\n"
       ]
      }
     ],
     "prompt_number": 19
    },
    {
     "cell_type": "code",
     "collapsed": false,
     "input": [
      "print trajinfo(globalstate[amover.ensemble])"
     ],
     "language": "python",
     "metadata": {},
     "outputs": [
      {
       "output_type": "stream",
       "stream": "stdout",
       "text": [
        "(-0.29964247, [-0.31520134, -0.29964247, -0.31426671])\n"
       ]
      }
     ],
     "prompt_number": 16
    },
    {
     "cell_type": "code",
     "collapsed": false,
     "input": [
      "print trajinfo(sample.details.final)"
     ],
     "language": "python",
     "metadata": {},
     "outputs": [
      {
       "output_type": "stream",
       "stream": "stdout",
       "text": [
        "(-0.29964247, [-0.31520134, -0.29964247, -0.31426671])\n"
       ]
      }
     ],
     "prompt_number": 20
    },
    {
     "cell_type": "code",
     "collapsed": false,
     "input": [
      "print trajinfo(sample.details.final[0:sample.details.start_point.index])"
     ],
     "language": "python",
     "metadata": {},
     "outputs": [
      {
       "output_type": "stream",
       "stream": "stdout",
       "text": [
        "(-0.31520134, [-0.31520134])\n"
       ]
      }
     ],
     "prompt_number": 22
    },
    {
     "cell_type": "code",
     "collapsed": false,
     "input": [
      "sample.details.mover"
     ],
     "language": "python",
     "metadata": {},
     "outputs": [
      {
       "metadata": {},
       "output_type": "pyout",
       "prompt_number": 23,
       "text": [
        "<opentis.pathmover.BackwardShootMover at 0x115a3f310>"
       ]
      }
     ],
     "prompt_number": 23
    },
    {
     "cell_type": "code",
     "collapsed": false,
     "input": [],
     "language": "python",
     "metadata": {},
     "outputs": []
    }
   ],
   "metadata": {}
  }
 ]
}
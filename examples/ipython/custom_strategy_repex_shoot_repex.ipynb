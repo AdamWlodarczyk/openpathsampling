{
 "cells": [
  {
   "cell_type": "markdown",
   "metadata": {},
   "source": [
    "# Example: Custom `MoveStrategy`: RepEx-Shoot-Repex\n",
    "\n",
    "One of the powerful features in OpenPathSampling is that it is very easy to develop new Monte Carlo movers for path space. This example shows how easy it is to try out a new type of move. The particular move we use here can be easily described as a simple combination of existing moves, so we don't even need to define a new `PathMover` subclass. We just define a custom `MoveStrategy` that creates the desired `PathMover`, and use that directly.\n",
    "\n",
    "The idea implemented here is pretty simple. Our standard path movers treat shooting and replica exchange separately, and each move is a single shooting (one ensemble) or a single replica exchange (swap one pair). But maybe you could get better replica exchange behavior by trying all the replica exchange moves, and then trying all the shooting moves. Note that, to satisfy detailed balance, you really have to do all the replica exchange moves, then all the shooting moves, then all the replica exchange moves in the reverse order from before. To measure how this affects travel in replica space, we'll use the replica round trip time (normalized to the total number of shooting moves per ensemble)."
   ]
  },
  {
   "cell_type": "code",
   "execution_count": 1,
   "metadata": {
    "collapsed": true
   },
   "outputs": [],
   "source": [
    "import openpathsampling as paths\n",
    "import numpy as np"
   ]
  },
  {
   "cell_type": "markdown",
   "metadata": {},
   "source": [
    "# Set up the simulation"
   ]
  },
  {
   "cell_type": "markdown",
   "metadata": {},
   "source": [
    "## Set up the engine"
   ]
  },
  {
   "cell_type": "code",
   "execution_count": 2,
   "metadata": {
    "collapsed": false
   },
   "outputs": [],
   "source": [
    "import openpathsampling.engines.toy as toys\n",
    "pes = (toys.OuterWalls([1.0,1.0], [0.0,0.0]) + \n",
    "       toys.Gaussian(-0.7, [12.0, 0.5], [-0.5, 0.0]) +\n",
    "       toys.Gaussian(-0.7, [12.0, 0.5], [0.5, 0.0]))\n",
    "\n",
    "topology = toys.Topology(n_spatial=2, masses=[1.0, 1.0], pes=pes)\n",
    "\n",
    "engine = toys.Engine(options={'integ': toys.LangevinBAOABIntegrator(dt=0.02, temperature=0.1, gamma=2.5),\n",
    "                              'n_frames_max': 5000,\n",
    "                              'n_steps_per_frame': 10},\n",
    "                     topology=topology)\n",
    "\n",
    "template = toys.Snapshot(coordinates=np.array([[0.0, 0.0]]),\n",
    "                         velocities=np.array([[0.0, 0.0]]),\n",
    "                         engine=engine)"
   ]
  },
  {
   "cell_type": "markdown",
   "metadata": {},
   "source": [
    "## Set up CV and volumes (states, interfaces)"
   ]
  },
  {
   "cell_type": "code",
   "execution_count": 3,
   "metadata": {
    "collapsed": true
   },
   "outputs": [],
   "source": [
    "# states are volumes in a CV space: define the CV\n",
    "def xval(snapshot):\n",
    "    return snapshot.xyz[0][0]\n",
    "\n",
    "cv = paths.FunctionCV(\"xval\", xval)\n",
    "\n",
    "stateA = paths.CVDefinedVolume(cv, float(\"-inf\"), -0.5).named(\"A\")\n",
    "stateB = paths.CVDefinedVolume(cv, 0.5, float(\"inf\")).named(\"B\")\n",
    "interfaces_AB = paths.VolumeInterfaceSet(cv, float(\"-inf\"), [-0.5, -0.4, -0.3, -0.2, -0.1, 0.0])"
   ]
  },
  {
   "cell_type": "markdown",
   "metadata": {},
   "source": [
    "## Set up network"
   ]
  },
  {
   "cell_type": "code",
   "execution_count": 4,
   "metadata": {
    "collapsed": true
   },
   "outputs": [],
   "source": [
    "network = paths.MISTISNetwork([(stateA, interfaces_AB, stateB)])"
   ]
  },
  {
   "cell_type": "markdown",
   "metadata": {},
   "source": [
    "## Define a custom strategy"
   ]
  },
  {
   "cell_type": "code",
   "execution_count": 5,
   "metadata": {
    "collapsed": false
   },
   "outputs": [],
   "source": [
    "import openpathsampling.analysis.move_strategy as strategies # TODO: handle this better\n",
    "# example: custom subclass of `MoveStrategy`\n",
    "class RepExShootRepExStrategy(strategies.MoveStrategy):\n",
    "    _level = strategies.levels.GROUP\n",
    "    # we define an init function mainly to set defaults for `replace` and `group`\n",
    "    def __init__(self, ensembles=None, group=\"repex_shoot_repex\", replace=True, network=None):\n",
    "        super(RepExShootRepExStrategy, self).__init__(\n",
    "            ensembles=ensembles, group=group, replace=replace\n",
    "        )\n",
    "            \n",
    "    def make_movers(self, scheme):\n",
    "        # if we replace, we remove these groups from the scheme.movers dictionary\n",
    "        if self.replace:\n",
    "            repex_movers = scheme.movers.pop('repex')\n",
    "            shoot_movers = scheme.movers.pop('shooting')\n",
    "        else:\n",
    "            repex_movers = scheme.movers['repex']\n",
    "            shoot_movers = scheme.movers['shooting']\n",
    "        # combine into a list for the SequentialMover\n",
    "        mover_list = repex_movers + shoot_movers + list(reversed(repex_movers))\n",
    "        combo_mover = paths.SequentialMover(mover_list)\n",
    "        return [combo_mover]"
   ]
  },
  {
   "cell_type": "markdown",
   "metadata": {},
   "source": [
    "## Create two move schemes: Default and Custom"
   ]
  },
  {
   "cell_type": "code",
   "execution_count": 6,
   "metadata": {
    "collapsed": false
   },
   "outputs": [],
   "source": [
    "default_scheme = paths.DefaultScheme(network, engine)"
   ]
  },
  {
   "cell_type": "code",
   "execution_count": 7,
   "metadata": {
    "collapsed": true
   },
   "outputs": [],
   "source": [
    "custom_scheme = paths.DefaultScheme(network, engine)\n",
    "custom_scheme.append(RepExShootRepExStrategy())"
   ]
  },
  {
   "cell_type": "markdown",
   "metadata": {},
   "source": [
    "# Get initial conditions"
   ]
  },
  {
   "cell_type": "code",
   "execution_count": 8,
   "metadata": {
    "collapsed": false
   },
   "outputs": [
    {
     "name": "stdout",
     "output_type": "stream",
     "text": [
      "DONE! Completed Bootstrapping cycle step 446 in ensemble 6/6.\n"
     ]
    }
   ],
   "source": [
    "initial_samples = paths.FullBootstrapping(transition=network.sampling_transitions[0],\n",
    "                                          snapshot=template,\n",
    "                                          engine=engine).run()"
   ]
  },
  {
   "cell_type": "code",
   "execution_count": 9,
   "metadata": {
    "collapsed": false
   },
   "outputs": [],
   "source": [
    "transition = network.sampling_transitions[0]\n",
    "minus_sample = network.minus_ensembles[0].populate_minus_ensemble(\n",
    "    partial_traj=initial_samples[transition.ensembles[0]].trajectory,\n",
    "    minus_replica_id=-1,\n",
    "    engine=engine\n",
    ")\n",
    "initial_samples = initial_samples.apply_samples(minus_sample)"
   ]
  },
  {
   "cell_type": "code",
   "execution_count": 10,
   "metadata": {
    "collapsed": true
   },
   "outputs": [],
   "source": [
    "initial_samples.sanity_check()"
   ]
  },
  {
   "cell_type": "code",
   "execution_count": 11,
   "metadata": {
    "collapsed": false
   },
   "outputs": [
    {
     "name": "stdout",
     "output_type": "stream",
     "text": [
      "Default Scheme: No missing ensembles.\n",
      "No extra ensembles.\n",
      "\n",
      "Custom Scheme: No missing ensembles.\n",
      "No extra ensembles.\n",
      "\n"
     ]
    }
   ],
   "source": [
    "print \"Default Scheme:\", default_scheme.initial_conditions_report(initial_samples)\n",
    "print \"Custom Scheme:\", custom_scheme.initial_conditions_report(initial_samples)"
   ]
  },
  {
   "cell_type": "markdown",
   "metadata": {},
   "source": [
    "# Run each of the simulations"
   ]
  },
  {
   "cell_type": "code",
   "execution_count": 12,
   "metadata": {
    "collapsed": false
   },
   "outputs": [
    {
     "name": "stdout",
     "output_type": "stream",
     "text": [
      "1170\n"
     ]
    }
   ],
   "source": [
    "n_steps = default_scheme.n_steps_for_trials(\n",
    "    mover=default_scheme.movers['shooting'],\n",
    "    n_attempts=600\n",
    ")\n",
    "n_steps = int(n_steps)+1\n",
    "print n_steps"
   ]
  },
  {
   "cell_type": "code",
   "execution_count": 13,
   "metadata": {
    "collapsed": true
   },
   "outputs": [],
   "source": [
    "default_storage = paths.Storage(\"default_scheme.nc\", \"w\")"
   ]
  },
  {
   "cell_type": "code",
   "execution_count": 14,
   "metadata": {
    "collapsed": false
   },
   "outputs": [],
   "source": [
    "default_calc = paths.PathSampling(\n",
    "    storage=default_storage,\n",
    "    sample_set=initial_samples,\n",
    "    move_scheme=default_scheme\n",
    ")"
   ]
  },
  {
   "cell_type": "code",
   "execution_count": 15,
   "metadata": {
    "collapsed": false
   },
   "outputs": [
    {
     "name": "stdout",
     "output_type": "stream",
     "text": [
      "Working on Monte Carlo cycle number 1170.\n",
      "DONE! Completed 1170 Monte Carlo cycles.\n"
     ]
    }
   ],
   "source": [
    "default_calc.run(n_steps)"
   ]
  },
  {
   "cell_type": "code",
   "execution_count": 16,
   "metadata": {
    "collapsed": false
   },
   "outputs": [
    {
     "name": "stdout",
     "output_type": "stream",
     "text": [
      "421\n"
     ]
    }
   ],
   "source": [
    "n_steps = custom_scheme.n_steps_for_trials(\n",
    "    mover=custom_scheme.movers['repex_shoot_repex'],\n",
    "    n_attempts=100\n",
    ")\n",
    "n_steps = int(n_steps)+1\n",
    "print n_steps"
   ]
  },
  {
   "cell_type": "code",
   "execution_count": 17,
   "metadata": {
    "collapsed": true
   },
   "outputs": [],
   "source": [
    "custom_storage = paths.Storage(\"custom_scheme.nc\", \"w\")"
   ]
  },
  {
   "cell_type": "code",
   "execution_count": 18,
   "metadata": {
    "collapsed": true
   },
   "outputs": [],
   "source": [
    "custom_calc = paths.PathSampling(\n",
    "    storage=custom_storage,\n",
    "    sample_set=initial_samples,\n",
    "    move_scheme=custom_scheme\n",
    ")"
   ]
  },
  {
   "cell_type": "code",
   "execution_count": 19,
   "metadata": {
    "collapsed": false
   },
   "outputs": [
    {
     "name": "stdout",
     "output_type": "stream",
     "text": [
      "Working on Monte Carlo cycle number 421.\n",
      "DONE! Completed 421 Monte Carlo cycles.\n"
     ]
    }
   ],
   "source": [
    "custom_calc.run(n_steps)"
   ]
  },
  {
   "cell_type": "markdown",
   "metadata": {},
   "source": [
    "# Analyze the results"
   ]
  },
  {
   "cell_type": "code",
   "execution_count": null,
   "metadata": {
    "collapsed": true
   },
   "outputs": [],
   "source": []
  }
 ],
 "metadata": {
  "kernelspec": {
   "display_name": "Python 2",
   "language": "python",
   "name": "python2"
  },
  "language_info": {
   "codemirror_mode": {
    "name": "ipython",
    "version": 2
   },
   "file_extension": ".py",
   "mimetype": "text/x-python",
   "name": "python",
   "nbconvert_exporter": "python",
   "pygments_lexer": "ipython2",
   "version": "2.7.12"
  }
 },
 "nbformat": 4,
 "nbformat_minor": 0
}

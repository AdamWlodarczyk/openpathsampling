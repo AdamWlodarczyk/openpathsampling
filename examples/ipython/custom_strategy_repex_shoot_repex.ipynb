{
 "cells": [
  {
   "cell_type": "markdown",
   "metadata": {},
   "source": [
    "# Example: Custom `MoveStrategy`: RepEx-Shoot-RepEex\n",
    "\n",
    "One of the powerful features in OpenPathSampling is that it is very easy to develop new Monte Carlo movers for path space. This example shows how easy it is to try out a new type of move. The particular move we use here can be easily described as a simple combination of existing moves, so we don't even need to define a new `PathMover` subclass. We just define a custom `MoveStrategy` that creates the desired `PathMover`, and use that directly.\n",
    "\n",
    "The idea implemented here is pretty simple. Our standard path movers treat shooting and replica exchange separately, and each move is a single shooting (one ensemble) or a single replica exchange (swap one pair). But maybe you could get better replica exchange behavior by trying all the replica exchange moves, and then trying all the shooting moves. Note that, to satisfy detailed balance, you really have to do all the replica exchange moves, then all the shooting moves, then all the replica exchange moves in the reverse order from before. To measure how this affects travel in replica space, we'll use the replica round trip time (normalized to the total number of shooting moves per ensemble)."
   ]
  },
  {
   "cell_type": "code",
   "execution_count": 1,
   "metadata": {
    "collapsed": false
   },
   "outputs": [],
   "source": [
    "%matplotlib inline\n",
    "import matplotlib.pyplot as plt\n",
    "import openpathsampling as paths\n",
    "import numpy as np\n",
    "import openpathsampling.visualize as ops_vis\n",
    "from IPython.display import SVG"
   ]
  },
  {
   "cell_type": "markdown",
   "metadata": {},
   "source": [
    "# Set up the simulation"
   ]
  },
  {
   "cell_type": "markdown",
   "metadata": {},
   "source": [
    "## Set up the engine"
   ]
  },
  {
   "cell_type": "code",
   "execution_count": 2,
   "metadata": {
    "collapsed": false
   },
   "outputs": [],
   "source": [
    "import openpathsampling.engines.toy as toys\n",
    "pes = (toys.OuterWalls([1.0,1.0], [0.0,0.0]) + \n",
    "       toys.Gaussian(-0.7, [12.0, 0.5], [-0.5, 0.0]) +\n",
    "       toys.Gaussian(-0.7, [12.0, 0.5], [0.5, 0.0]))\n",
    "\n",
    "topology = toys.Topology(n_spatial=2, masses=[1.0, 1.0], pes=pes)\n",
    "\n",
    "engine = toys.Engine(options={'integ': toys.LangevinBAOABIntegrator(dt=0.02, temperature=0.1, gamma=2.5),\n",
    "                              'n_frames_max': 5000,\n",
    "                              'n_steps_per_frame': 10},\n",
    "                     topology=topology)\n",
    "\n",
    "template = toys.Snapshot(coordinates=np.array([[0.0, 0.0]]),\n",
    "                         velocities=np.array([[0.0, 0.0]]),\n",
    "                         engine=engine)"
   ]
  },
  {
   "cell_type": "markdown",
   "metadata": {},
   "source": [
    "## Set up CV and volumes (states, interfaces)"
   ]
  },
  {
   "cell_type": "code",
   "execution_count": 3,
   "metadata": {
    "collapsed": false
   },
   "outputs": [],
   "source": [
    "# states are volumes in a CV space: define the CV\n",
    "def xval(snapshot):\n",
    "    return snapshot.xyz[0][0]\n",
    "\n",
    "cv = paths.FunctionCV(\"xval\", xval)\n",
    "\n",
    "stateA = paths.CVDefinedVolume(cv, float(\"-inf\"), -0.5).named(\"A\")\n",
    "stateB = paths.CVDefinedVolume(cv, 0.5, float(\"inf\")).named(\"B\")\n",
    "interfaces_AB = paths.VolumeInterfaceSet(cv, float(\"-inf\"), [-0.4, -0.3, -0.2, -0.1])#, 0.0])"
   ]
  },
  {
   "cell_type": "markdown",
   "metadata": {},
   "source": [
    "## Set up network"
   ]
  },
  {
   "cell_type": "code",
   "execution_count": 4,
   "metadata": {
    "collapsed": false
   },
   "outputs": [],
   "source": [
    "network = paths.MISTISNetwork([(stateA, interfaces_AB, stateB)])"
   ]
  },
  {
   "cell_type": "markdown",
   "metadata": {},
   "source": [
    "## Define a custom strategy\n",
    "\n",
    "This is the main point of this example: Here we create a custom `MoveStrategy`, which includes the creation of the custom mover. Note that the custom mover itself is quite simple. It takes a bunch of moves that have already been defined, and combines them into a different move.\n",
    "\n",
    "This is a `GROUP`-level mover, meaning that it only acts after you've already movers in the `SIGNATURE` level. Because of this, all it has to do is to reorganize the movers that already exist."
   ]
  },
  {
   "cell_type": "code",
   "execution_count": 5,
   "metadata": {
    "collapsed": false
   },
   "outputs": [],
   "source": [
    "import openpathsampling.analysis.move_strategy as strategies # TODO: handle this better\n",
    "# example: custom subclass of `MoveStrategy`\n",
    "class RepExShootRepExStrategy(strategies.MoveStrategy):\n",
    "    _level = strategies.levels.GROUP\n",
    "    # we define an init function mainly to set defaults for `replace` and `group`\n",
    "    def __init__(self, ensembles=None, group=\"repex_shoot_repex\", replace=True, network=None):\n",
    "        super(RepExShootRepExStrategy, self).__init__(\n",
    "            ensembles=ensembles, group=group, replace=replace\n",
    "        )\n",
    "            \n",
    "    def make_movers(self, scheme):\n",
    "        # if we replace, we remove these groups from the scheme.movers dictionary\n",
    "        if self.replace:\n",
    "            repex_movers = scheme.movers.pop('repex')\n",
    "            shoot_movers = scheme.movers.pop('shooting')\n",
    "        else:\n",
    "            repex_movers = scheme.movers['repex']\n",
    "            shoot_movers = scheme.movers['shooting']\n",
    "        # combine into a list for the SequentialMover\n",
    "        mover_list = repex_movers + shoot_movers + list(reversed(repex_movers))\n",
    "        combo_mover = paths.SequentialMover(mover_list)\n",
    "        return [combo_mover]"
   ]
  },
  {
   "cell_type": "markdown",
   "metadata": {},
   "source": [
    "## Create two move schemes: Default and Custom"
   ]
  },
  {
   "cell_type": "code",
   "execution_count": 6,
   "metadata": {
    "collapsed": false
   },
   "outputs": [],
   "source": [
    "default_scheme = paths.DefaultScheme(network, engine)"
   ]
  },
  {
   "cell_type": "code",
   "execution_count": 7,
   "metadata": {
    "collapsed": false
   },
   "outputs": [],
   "source": [
    "custom_scheme = paths.DefaultScheme(network, engine)\n",
    "custom_scheme.append(RepExShootRepExStrategy())"
   ]
  },
  {
   "cell_type": "code",
   "execution_count": 8,
   "metadata": {
    "collapsed": false
   },
   "outputs": [
    {
     "data": {
      "image/svg+xml": [
       "<svg baseProfile=\"full\" class=\"movetree\" height=\"100%\" version=\"1.1\" viewBox=\"-200.00 -120.00 370.00 700.00\" width=\"370.0\" xmlns=\"http://www.w3.org/2000/svg\" xmlns:ev=\"http://www.w3.org/2001/xml-events\" xmlns:xlink=\"http://www.w3.org/1999/xlink\"><defs><style type=\"text/css\"><![CDATA[\n",
       ".opstree text, .movetree text {\n",
       "    alignment-baseline: central;\n",
       "    font-size: 10px;\n",
       "    text-anchor: middle;\n",
       "    font-family: Futura-CondensedMedium;\n",
       "    font-weight: lighter;\n",
       "    stroke: none !important;\n",
       "}\n",
       ".opstree .block text, .movetree .block text {\n",
       "    alignment-baseline: central;\n",
       "    font-size: 8px;\n",
       "    text-anchor: middle;\n",
       "    font-family: Futura-CondensedMedium;\n",
       "    font-weight: lighter;\n",
       "    stroke: none !important;\n",
       "}\n",
       ".opstree text.shadow {\n",
       "    stroke-width: 3;\n",
       "    stroke: white !important;\n",
       "}\n",
       ".opstree .left.label .shift text {\n",
       "    text-anchor: end;\n",
       "}\n",
       ".opstree .right.label .shift text {\n",
       "    text-anchor: start;\n",
       "}\n",
       ".opstree .block text, .movetree .block text {\n",
       "    fill: white !important;\n",
       "    stroke: none !important;\n",
       "}\n",
       ".opstree .block {\n",
       "    stroke: none !important;\n",
       "}\n",
       ".opstree g.block:hover rect {\n",
       "    opacity: 0.5;\n",
       "}\n",
       ".opstree .repex {\n",
       "    fill: blue;\n",
       "    stroke: blue;\n",
       "}\n",
       ".opstree .extend {\n",
       "    fill: blue;\n",
       "    stroke: blue;\n",
       "}\n",
       ".opstree .truncate {\n",
       "    fill: blue;\n",
       "    stroke: blue;\n",
       "}\n",
       ".opstree .new {\n",
       "    fill: black;\n",
       "    stroke: black;\n",
       "}\n",
       ".opstree .unknown {\n",
       "    fill: gray;\n",
       "    stroke: gray;\n",
       "}\n",
       ".opstree .hop {\n",
       "    fill: blue;\n",
       "    stroke: blue;\n",
       "}\n",
       ".opstree .correlation {\n",
       "    fill: black;\n",
       "    stroke: black;\n",
       "}\n",
       ".opstree .shooting.bw {\n",
       "    fill: green;\n",
       "    stroke: green;\n",
       "}\n",
       ".opstree .shooting.fw {\n",
       "    fill: red;\n",
       "    stroke: red;\n",
       "}\n",
       ".opstree .shooting.overlap {\n",
       "    fill: #666;\n",
       "    stroke: #666;\n",
       "}\n",
       ".opstree .reversal {\n",
       "    fill: gold;\n",
       "    stroke: gold;\n",
       "}\n",
       ".opstree .virtual {\n",
       "    opacity: 0.1;\n",
       "    fill:gray;\n",
       "    stroke: none;\n",
       "}\n",
       ".opstree line {\n",
       "    stroke-width: 2px;\n",
       "}\n",
       ".opstree .label {\n",
       "    fill: black !important;\n",
       "}\n",
       ".opstree .h-connector {\n",
       "    stroke-width: 0.1px;\n",
       "    stroke-dasharray: 3 3;\n",
       "}\n",
       ".opstree .rejected {\n",
       "    opacity: 0.25;\n",
       "}\n",
       ".opstree .level {\n",
       "    opacity: 0.25;\n",
       "}\n",
       ".opstree .orange {\n",
       "    fill: orange;\n",
       "}\n",
       ".tableline {\n",
       "    fill: gray;\n",
       "    opacity: 0.0;\n",
       "}\n",
       ".tableline:hover {\n",
       "    opacity: 0.2;\n",
       "}\n",
       ".opstree .left.label g.shift {\n",
       "    transform: translateX(-6px);\n",
       "}\n",
       ".opstree .right.label g.shift {\n",
       "    transform: translateX(+6px);\n",
       "}\n",
       ".opstree .infobox text {\n",
       "    text-anchor: start;\n",
       "}\n",
       ".opstree .shade {\n",
       "    stroke: none;\n",
       "}\n",
       "\n",
       ".movetree .label .shift {\n",
       "    transform: translateX(-18px);\n",
       "}\n",
       "\n",
       ".movetree .label text {\n",
       "    text-anchor: end;\n",
       "}\n",
       ".movetree .v-connector {\n",
       "    stroke: black;\n",
       "}\n",
       ".movetree .v-hook {\n",
       "    stroke: black;\n",
       "}\n",
       ".movetree .h-connector {\n",
       "    stroke: black;\n",
       "}\n",
       ".movetree .ensembles .head .shift {\n",
       "    transform: translateY(0px) rotate(270deg) ;\n",
       "}\n",
       ".movetree .ensembles .head text {\n",
       "    text-anchor: start;\n",
       "}\n",
       ".movetree .connector.input {\n",
       "    fill: green;\n",
       "}\n",
       ".movetree .connector.output {\n",
       "    fill: red;\n",
       "}\n",
       ".movetree .unknown {\n",
       "    fill: gray;\n",
       "}\n",
       "]]></style></defs><g class=\"tree\"><g class=\"block\"><rect height=\"12.0\" width=\"18.0\" x=\"-9.0\" y=\"-6.0\"/><circle cx=\"-10.0\" cy=\"0.0\" r=\"1.0\"/><circle cx=\"10.0\" cy=\"0.0\" r=\"1.0\"/><text x=\"0.0\" y=\"0.0\"/></g><g class=\"label\" transform=\"translate(0.0,0.0)\"><g class=\"shift\"><text x=\"0\" y=\"0\">RandomChoice</text></g></g><g class=\"block\"><rect height=\"12.0\" width=\"18.0\" x=\"-29.0\" y=\"14.0\"/><circle cx=\"-30.0\" cy=\"20.0\" r=\"1.0\"/><circle cx=\"-10.0\" cy=\"20.0\" r=\"1.0\"/><text x=\"-20.0\" y=\"20.0\"/></g><g class=\"label\" transform=\"translate(-20.0,20.0)\"><g class=\"shift\"><text x=\"0\" y=\"0\">RandomChoice</text></g></g><line class=\"v-connector\" x1=\"-10.0\" x2=\"-10.0\" y1=\"21.0\" y2=\"-1.0\"/><g class=\"block\"><rect height=\"12.0\" width=\"18.0\" x=\"-49.0\" y=\"34.0\"/><circle cx=\"-50.0\" cy=\"40.0\" r=\"1.0\"/><circle cx=\"-30.0\" cy=\"40.0\" r=\"1.0\"/><text x=\"-40.0\" y=\"40.0\"/></g><g class=\"label\" transform=\"translate(-40.0,40.0)\"><g class=\"shift\"><text x=\"0\" y=\"0\">Sequential</text></g></g><line class=\"v-connector\" x1=\"-30.0\" x2=\"-30.0\" y1=\"41.0\" y2=\"19.0\"/><g class=\"block\"><rect height=\"12.0\" width=\"18.0\" x=\"-69.0\" y=\"54.0\"/><circle cx=\"-70.0\" cy=\"60.0\" r=\"1.0\"/><circle cx=\"-50.0\" cy=\"60.0\" r=\"1.0\"/><text x=\"-60.0\" y=\"60.0\"/></g><g class=\"label\" transform=\"translate(-60.0,60.0)\"><g class=\"shift\"><text x=\"0\" y=\"0\">ReplicaExchange</text></g></g><line class=\"v-connector\" x1=\"-50.0\" x2=\"-50.0\" y1=\"61.0\" y2=\"39.0\"/><g class=\"block\"><rect height=\"12.0\" width=\"18.0\" x=\"-69.0\" y=\"74.0\"/><circle cx=\"-70.0\" cy=\"80.0\" r=\"1.0\"/><circle cx=\"-50.0\" cy=\"80.0\" r=\"1.0\"/><text x=\"-60.0\" y=\"80.0\"/></g><g class=\"label\" transform=\"translate(-60.0,80.0)\"><g class=\"shift\"><text x=\"0\" y=\"0\">ReplicaExchange</text></g></g><line class=\"v-connector\" x1=\"-50.0\" x2=\"-50.0\" y1=\"81.0\" y2=\"59.0\"/><g class=\"block\"><rect height=\"12.0\" width=\"18.0\" x=\"-69.0\" y=\"94.0\"/><circle cx=\"-70.0\" cy=\"100.0\" r=\"1.0\"/><circle cx=\"-50.0\" cy=\"100.0\" r=\"1.0\"/><text x=\"-60.0\" y=\"100.0\"/></g><g class=\"label\" transform=\"translate(-60.0,100.0)\"><g class=\"shift\"><text x=\"0\" y=\"0\">ReplicaExchange</text></g></g><line class=\"v-connector\" x1=\"-50.0\" x2=\"-50.0\" y1=\"101.0\" y2=\"79.0\"/><g class=\"block\"><rect height=\"12.0\" width=\"18.0\" x=\"-69.0\" y=\"114.0\"/><circle cx=\"-70.0\" cy=\"120.0\" r=\"1.0\"/><circle cx=\"-50.0\" cy=\"120.0\" r=\"1.0\"/><text x=\"-60.0\" y=\"120.0\"/></g><g class=\"label\" transform=\"translate(-60.0,120.0)\"><g class=\"shift\"><text x=\"0\" y=\"0\">OneWayShooting</text></g></g><line class=\"v-connector\" x1=\"-50.0\" x2=\"-50.0\" y1=\"121.0\" y2=\"99.0\"/><g class=\"block\"><rect height=\"12.0\" width=\"18.0\" x=\"-89.0\" y=\"134.0\"/><circle cx=\"-90.0\" cy=\"140.0\" r=\"1.0\"/><circle cx=\"-70.0\" cy=\"140.0\" r=\"1.0\"/><text x=\"-80.0\" y=\"140.0\"/></g><g class=\"label\" transform=\"translate(-80.0,140.0)\"><g class=\"shift\"><text x=\"0\" y=\"0\">ForwardShoot</text></g></g><line class=\"v-connector\" x1=\"-70.0\" x2=\"-70.0\" y1=\"141.0\" y2=\"119.0\"/><g class=\"block\"><rect height=\"12.0\" width=\"18.0\" x=\"-89.0\" y=\"154.0\"/><circle cx=\"-90.0\" cy=\"160.0\" r=\"1.0\"/><circle cx=\"-70.0\" cy=\"160.0\" r=\"1.0\"/><text x=\"-80.0\" y=\"160.0\"/></g><g class=\"label\" transform=\"translate(-80.0,160.0)\"><g class=\"shift\"><text x=\"0\" y=\"0\">BackwardShoot</text></g></g><line class=\"v-connector\" x1=\"-70.0\" x2=\"-70.0\" y1=\"161.0\" y2=\"139.0\"/><g class=\"block\"><rect height=\"12.0\" width=\"18.0\" x=\"-69.0\" y=\"174.0\"/><circle cx=\"-70.0\" cy=\"180.0\" r=\"1.0\"/><circle cx=\"-50.0\" cy=\"180.0\" r=\"1.0\"/><text x=\"-60.0\" y=\"180.0\"/></g><g class=\"label\" transform=\"translate(-60.0,180.0)\"><g class=\"shift\"><text x=\"0\" y=\"0\">OneWayShooting</text></g></g><line class=\"v-connector\" x1=\"-50.0\" x2=\"-50.0\" y1=\"181.0\" y2=\"119.0\"/><g class=\"block\"><rect height=\"12.0\" width=\"18.0\" x=\"-89.0\" y=\"194.0\"/><circle cx=\"-90.0\" cy=\"200.0\" r=\"1.0\"/><circle cx=\"-70.0\" cy=\"200.0\" r=\"1.0\"/><text x=\"-80.0\" y=\"200.0\"/></g><g class=\"label\" transform=\"translate(-80.0,200.0)\"><g class=\"shift\"><text x=\"0\" y=\"0\">ForwardShoot</text></g></g><line class=\"v-connector\" x1=\"-70.0\" x2=\"-70.0\" y1=\"201.0\" y2=\"179.0\"/><g class=\"block\"><rect height=\"12.0\" width=\"18.0\" x=\"-89.0\" y=\"214.0\"/><circle cx=\"-90.0\" cy=\"220.0\" r=\"1.0\"/><circle cx=\"-70.0\" cy=\"220.0\" r=\"1.0\"/><text x=\"-80.0\" y=\"220.0\"/></g><g class=\"label\" transform=\"translate(-80.0,220.0)\"><g class=\"shift\"><text x=\"0\" y=\"0\">BackwardShoot</text></g></g><line class=\"v-connector\" x1=\"-70.0\" x2=\"-70.0\" y1=\"221.0\" y2=\"199.0\"/><g class=\"block\"><rect height=\"12.0\" width=\"18.0\" x=\"-69.0\" y=\"234.0\"/><circle cx=\"-70.0\" cy=\"240.0\" r=\"1.0\"/><circle cx=\"-50.0\" cy=\"240.0\" r=\"1.0\"/><text x=\"-60.0\" y=\"240.0\"/></g><g class=\"label\" transform=\"translate(-60.0,240.0)\"><g class=\"shift\"><text x=\"0\" y=\"0\">OneWayShooting</text></g></g><line class=\"v-connector\" x1=\"-50.0\" x2=\"-50.0\" y1=\"241.0\" y2=\"179.0\"/><g class=\"block\"><rect height=\"12.0\" width=\"18.0\" x=\"-89.0\" y=\"254.0\"/><circle cx=\"-90.0\" cy=\"260.0\" r=\"1.0\"/><circle cx=\"-70.0\" cy=\"260.0\" r=\"1.0\"/><text x=\"-80.0\" y=\"260.0\"/></g><g class=\"label\" transform=\"translate(-80.0,260.0)\"><g class=\"shift\"><text x=\"0\" y=\"0\">ForwardShoot</text></g></g><line class=\"v-connector\" x1=\"-70.0\" x2=\"-70.0\" y1=\"261.0\" y2=\"239.0\"/><g class=\"block\"><rect height=\"12.0\" width=\"18.0\" x=\"-89.0\" y=\"274.0\"/><circle cx=\"-90.0\" cy=\"280.0\" r=\"1.0\"/><circle cx=\"-70.0\" cy=\"280.0\" r=\"1.0\"/><text x=\"-80.0\" y=\"280.0\"/></g><g class=\"label\" transform=\"translate(-80.0,280.0)\"><g class=\"shift\"><text x=\"0\" y=\"0\">BackwardShoot</text></g></g><line class=\"v-connector\" x1=\"-70.0\" x2=\"-70.0\" y1=\"281.0\" y2=\"259.0\"/><g class=\"block\"><rect height=\"12.0\" width=\"18.0\" x=\"-69.0\" y=\"294.0\"/><circle cx=\"-70.0\" cy=\"300.0\" r=\"1.0\"/><circle cx=\"-50.0\" cy=\"300.0\" r=\"1.0\"/><text x=\"-60.0\" y=\"300.0\"/></g><g class=\"label\" transform=\"translate(-60.0,300.0)\"><g class=\"shift\"><text x=\"0\" y=\"0\">OneWayShooting</text></g></g><line class=\"v-connector\" x1=\"-50.0\" x2=\"-50.0\" y1=\"301.0\" y2=\"239.0\"/><g class=\"block\"><rect height=\"12.0\" width=\"18.0\" x=\"-89.0\" y=\"314.0\"/><circle cx=\"-90.0\" cy=\"320.0\" r=\"1.0\"/><circle cx=\"-70.0\" cy=\"320.0\" r=\"1.0\"/><text x=\"-80.0\" y=\"320.0\"/></g><g class=\"label\" transform=\"translate(-80.0,320.0)\"><g class=\"shift\"><text x=\"0\" y=\"0\">ForwardShoot</text></g></g><line class=\"v-connector\" x1=\"-70.0\" x2=\"-70.0\" y1=\"321.0\" y2=\"299.0\"/><g class=\"block\"><rect height=\"12.0\" width=\"18.0\" x=\"-89.0\" y=\"334.0\"/><circle cx=\"-90.0\" cy=\"340.0\" r=\"1.0\"/><circle cx=\"-70.0\" cy=\"340.0\" r=\"1.0\"/><text x=\"-80.0\" y=\"340.0\"/></g><g class=\"label\" transform=\"translate(-80.0,340.0)\"><g class=\"shift\"><text x=\"0\" y=\"0\">BackwardShoot</text></g></g><line class=\"v-connector\" x1=\"-70.0\" x2=\"-70.0\" y1=\"341.0\" y2=\"319.0\"/><g class=\"block\"><rect height=\"12.0\" width=\"18.0\" x=\"-69.0\" y=\"354.0\"/><circle cx=\"-70.0\" cy=\"360.0\" r=\"1.0\"/><circle cx=\"-50.0\" cy=\"360.0\" r=\"1.0\"/><text x=\"-60.0\" y=\"360.0\"/></g><g class=\"label\" transform=\"translate(-60.0,360.0)\"><g class=\"shift\"><text x=\"0\" y=\"0\">ReplicaExchange</text></g></g><line class=\"v-connector\" x1=\"-50.0\" x2=\"-50.0\" y1=\"361.0\" y2=\"299.0\"/><g class=\"block\"><rect height=\"12.0\" width=\"18.0\" x=\"-69.0\" y=\"374.0\"/><circle cx=\"-70.0\" cy=\"380.0\" r=\"1.0\"/><circle cx=\"-50.0\" cy=\"380.0\" r=\"1.0\"/><text x=\"-60.0\" y=\"380.0\"/></g><g class=\"label\" transform=\"translate(-60.0,380.0)\"><g class=\"shift\"><text x=\"0\" y=\"0\">ReplicaExchange</text></g></g><line class=\"v-connector\" x1=\"-50.0\" x2=\"-50.0\" y1=\"381.0\" y2=\"359.0\"/><g class=\"block\"><rect height=\"12.0\" width=\"18.0\" x=\"-69.0\" y=\"394.0\"/><circle cx=\"-70.0\" cy=\"400.0\" r=\"1.0\"/><circle cx=\"-50.0\" cy=\"400.0\" r=\"1.0\"/><text x=\"-60.0\" y=\"400.0\"/></g><g class=\"label\" transform=\"translate(-60.0,400.0)\"><g class=\"shift\"><text x=\"0\" y=\"0\">ReplicaExchange</text></g></g><line class=\"v-connector\" x1=\"-50.0\" x2=\"-50.0\" y1=\"401.0\" y2=\"379.0\"/><g class=\"block\"><rect height=\"12.0\" width=\"18.0\" x=\"-29.0\" y=\"414.0\"/><circle cx=\"-30.0\" cy=\"420.0\" r=\"1.0\"/><circle cx=\"-10.0\" cy=\"420.0\" r=\"1.0\"/><text x=\"-20.0\" y=\"420.0\"/></g><g class=\"label\" transform=\"translate(-20.0,420.0)\"><g class=\"shift\"><text x=\"0\" y=\"0\">RandomChoice</text></g></g><line class=\"v-connector\" x1=\"-10.0\" x2=\"-10.0\" y1=\"421.0\" y2=\"19.0\"/><g class=\"block\"><rect height=\"12.0\" width=\"18.0\" x=\"-49.0\" y=\"434.0\"/><circle cx=\"-50.0\" cy=\"440.0\" r=\"1.0\"/><circle cx=\"-30.0\" cy=\"440.0\" r=\"1.0\"/><text x=\"-40.0\" y=\"440.0\"/></g><g class=\"label\" transform=\"translate(-40.0,440.0)\"><g class=\"shift\"><text x=\"0\" y=\"0\">Minus</text></g></g><line class=\"v-connector\" x1=\"-30.0\" x2=\"-30.0\" y1=\"441.0\" y2=\"419.0\"/><g class=\"block\"><rect height=\"12.0\" width=\"18.0\" x=\"-29.0\" y=\"454.0\"/><circle cx=\"-30.0\" cy=\"460.0\" r=\"1.0\"/><circle cx=\"-10.0\" cy=\"460.0\" r=\"1.0\"/><text x=\"-20.0\" y=\"460.0\"/></g><g class=\"label\" transform=\"translate(-20.0,460.0)\"><g class=\"shift\"><text x=\"0\" y=\"0\">RandomChoice</text></g></g><line class=\"v-connector\" x1=\"-10.0\" x2=\"-10.0\" y1=\"461.0\" y2=\"419.0\"/><g class=\"block\"><rect height=\"12.0\" width=\"18.0\" x=\"-49.0\" y=\"474.0\"/><circle cx=\"-50.0\" cy=\"480.0\" r=\"1.0\"/><circle cx=\"-30.0\" cy=\"480.0\" r=\"1.0\"/><text x=\"-40.0\" y=\"480.0\"/></g><g class=\"label\" transform=\"translate(-40.0,480.0)\"><g class=\"shift\"><text x=\"0\" y=\"0\">PathReversal</text></g></g><line class=\"v-connector\" x1=\"-30.0\" x2=\"-30.0\" y1=\"481.0\" y2=\"459.0\"/><g class=\"block\"><rect height=\"12.0\" width=\"18.0\" x=\"-49.0\" y=\"494.0\"/><circle cx=\"-50.0\" cy=\"500.0\" r=\"1.0\"/><circle cx=\"-30.0\" cy=\"500.0\" r=\"1.0\"/><text x=\"-40.0\" y=\"500.0\"/></g><g class=\"label\" transform=\"translate(-40.0,500.0)\"><g class=\"shift\"><text x=\"0\" y=\"0\">PathReversal</text></g></g><line class=\"v-connector\" x1=\"-30.0\" x2=\"-30.0\" y1=\"501.0\" y2=\"479.0\"/><g class=\"block\"><rect height=\"12.0\" width=\"18.0\" x=\"-49.0\" y=\"514.0\"/><circle cx=\"-50.0\" cy=\"520.0\" r=\"1.0\"/><circle cx=\"-30.0\" cy=\"520.0\" r=\"1.0\"/><text x=\"-40.0\" y=\"520.0\"/></g><g class=\"label\" transform=\"translate(-40.0,520.0)\"><g class=\"shift\"><text x=\"0\" y=\"0\">PathReversal</text></g></g><line class=\"v-connector\" x1=\"-30.0\" x2=\"-30.0\" y1=\"521.0\" y2=\"499.0\"/><g class=\"block\"><rect height=\"12.0\" width=\"18.0\" x=\"-49.0\" y=\"534.0\"/><circle cx=\"-50.0\" cy=\"540.0\" r=\"1.0\"/><circle cx=\"-30.0\" cy=\"540.0\" r=\"1.0\"/><text x=\"-40.0\" y=\"540.0\"/></g><g class=\"label\" transform=\"translate(-40.0,540.0)\"><g class=\"shift\"><text x=\"0\" y=\"0\">PathReversal</text></g></g><line class=\"v-connector\" x1=\"-30.0\" x2=\"-30.0\" y1=\"541.0\" y2=\"519.0\"/></g><g class=\"ensembles\" transform=\"translate(50,0)\"><g class=\"head label\" transform=\"translate(0.0,-20.0)\"><g class=\"shift\"><text x=\"0\" y=\"0\">[A] [TISTransition] 0</text></g></g><line class=\"v-hook\" x1=\"0.0\" x2=\"0.0\" y1=\"-13.0\" y2=\"553.0\"/><g class=\"head label\" transform=\"translate(20.0,-20.0)\"><g class=\"shift\"><text x=\"0\" y=\"0\">[B] [TISTransition] 1</text></g></g><line class=\"v-hook\" x1=\"20.0\" x2=\"20.0\" y1=\"-13.0\" y2=\"553.0\"/><g class=\"head label\" transform=\"translate(40.0,-20.0)\"><g class=\"shift\"><text x=\"0\" y=\"0\">[C] [TISTransition] 2</text></g></g><line class=\"v-hook\" x1=\"40.0\" x2=\"40.0\" y1=\"-13.0\" y2=\"553.0\"/><g class=\"head label\" transform=\"translate(60.0,-20.0)\"><g class=\"shift\"><text x=\"0\" y=\"0\">[D] [TISTransition] 3</text></g></g><line class=\"v-hook\" x1=\"60.0\" x2=\"60.0\" y1=\"-13.0\" y2=\"553.0\"/><g class=\"head label\" transform=\"translate(80.0,-20.0)\"><g class=\"shift\"><text x=\"0\" y=\"0\">[E] [MinusInterfaceEnsemble]</text></g></g><line class=\"v-hook\" x1=\"80.0\" x2=\"80.0\" y1=\"-13.0\" y2=\"553.0\"/><g class=\"head label\" transform=\"translate(100.0,-20.0)\"><g class=\"shift\"><text x=\"0\" y=\"0\">[F] [TISEnsemble]</text></g></g><line class=\"v-hook\" x1=\"100.0\" x2=\"100.0\" y1=\"-13.0\" y2=\"553.0\"/><g class=\"input connector block\"><rect height=\"12.0\" width=\"18.0\" x=\"-9.0\" y=\"-9.0\"/><text x=\"0.0\" y=\"-3.0\"/></g><g class=\"output connector block\"><rect height=\"12.0\" width=\"18.0\" x=\"-9.0\" y=\"-3.0\"/><text x=\"0.0\" y=\"3.0\"/></g><g class=\"unknown connector block\"><rect height=\"12.0\" width=\"18.0\" x=\"-9.0\" y=\"-6.0\"/><text x=\"0.0\" y=\"0.0\">A</text></g><g class=\"input connector block\"><rect height=\"12.0\" width=\"18.0\" x=\"11.0\" y=\"-9.0\"/><text x=\"20.0\" y=\"-3.0\"/></g><g class=\"output connector block\"><rect height=\"12.0\" width=\"18.0\" x=\"11.0\" y=\"-3.0\"/><text x=\"20.0\" y=\"3.0\"/></g><g class=\"unknown connector block\"><rect height=\"12.0\" width=\"18.0\" x=\"11.0\" y=\"-6.0\"/><text x=\"20.0\" y=\"0.0\">B</text></g><g class=\"input connector block\"><rect height=\"12.0\" width=\"18.0\" x=\"31.0\" y=\"-9.0\"/><text x=\"40.0\" y=\"-3.0\"/></g><g class=\"output connector block\"><rect height=\"12.0\" width=\"18.0\" x=\"31.0\" y=\"-3.0\"/><text x=\"40.0\" y=\"3.0\"/></g><g class=\"unknown connector block\"><rect height=\"12.0\" width=\"18.0\" x=\"31.0\" y=\"-6.0\"/><text x=\"40.0\" y=\"0.0\">C</text></g><g class=\"input connector block\"><rect height=\"12.0\" width=\"18.0\" x=\"51.0\" y=\"-9.0\"/><text x=\"60.0\" y=\"-3.0\"/></g><g class=\"output connector block\"><rect height=\"12.0\" width=\"18.0\" x=\"51.0\" y=\"-3.0\"/><text x=\"60.0\" y=\"3.0\"/></g><g class=\"unknown connector block\"><rect height=\"12.0\" width=\"18.0\" x=\"51.0\" y=\"-6.0\"/><text x=\"60.0\" y=\"0.0\">D</text></g><g class=\"input connector block\"><rect height=\"12.0\" width=\"18.0\" x=\"71.0\" y=\"-9.0\"/><text x=\"80.0\" y=\"-3.0\"/></g><g class=\"output connector block\"><rect height=\"12.0\" width=\"18.0\" x=\"71.0\" y=\"-3.0\"/><text x=\"80.0\" y=\"3.0\"/></g><g class=\"unknown connector block\"><rect height=\"12.0\" width=\"18.0\" x=\"71.0\" y=\"-6.0\"/><text x=\"80.0\" y=\"0.0\">E</text></g><g class=\"input connector block\"><rect height=\"12.0\" width=\"18.0\" x=\"-9.0\" y=\"11.0\"/><text x=\"0.0\" y=\"17.0\"/></g><g class=\"output connector block\"><rect height=\"12.0\" width=\"18.0\" x=\"-9.0\" y=\"17.0\"/><text x=\"0.0\" y=\"23.0\"/></g><g class=\"unknown connector block\"><rect height=\"12.0\" width=\"18.0\" x=\"-9.0\" y=\"14.0\"/><text x=\"0.0\" y=\"20.0\">A</text></g><g class=\"input connector block\"><rect height=\"12.0\" width=\"18.0\" x=\"11.0\" y=\"11.0\"/><text x=\"20.0\" y=\"17.0\"/></g><g class=\"output connector block\"><rect height=\"12.0\" width=\"18.0\" x=\"11.0\" y=\"17.0\"/><text x=\"20.0\" y=\"23.0\"/></g><g class=\"unknown connector block\"><rect height=\"12.0\" width=\"18.0\" x=\"11.0\" y=\"14.0\"/><text x=\"20.0\" y=\"20.0\">B</text></g><g class=\"input connector block\"><rect height=\"12.0\" width=\"18.0\" x=\"31.0\" y=\"11.0\"/><text x=\"40.0\" y=\"17.0\"/></g><g class=\"output connector block\"><rect height=\"12.0\" width=\"18.0\" x=\"31.0\" y=\"17.0\"/><text x=\"40.0\" y=\"23.0\"/></g><g class=\"unknown connector block\"><rect height=\"12.0\" width=\"18.0\" x=\"31.0\" y=\"14.0\"/><text x=\"40.0\" y=\"20.0\">C</text></g><g class=\"input connector block\"><rect height=\"12.0\" width=\"18.0\" x=\"51.0\" y=\"11.0\"/><text x=\"60.0\" y=\"17.0\"/></g><g class=\"output connector block\"><rect height=\"12.0\" width=\"18.0\" x=\"51.0\" y=\"17.0\"/><text x=\"60.0\" y=\"23.0\"/></g><g class=\"unknown connector block\"><rect height=\"12.0\" width=\"18.0\" x=\"51.0\" y=\"14.0\"/><text x=\"60.0\" y=\"20.0\">D</text></g><g class=\"input connector block\"><rect height=\"12.0\" width=\"18.0\" x=\"-9.0\" y=\"31.0\"/><text x=\"0.0\" y=\"37.0\"/></g><g class=\"output connector block\"><rect height=\"12.0\" width=\"18.0\" x=\"-9.0\" y=\"37.0\"/><text x=\"0.0\" y=\"43.0\"/></g><g class=\"unknown connector block\"><rect height=\"12.0\" width=\"18.0\" x=\"-9.0\" y=\"34.0\"/><text x=\"0.0\" y=\"40.0\">A</text></g><g class=\"input connector block\"><rect height=\"12.0\" width=\"18.0\" x=\"11.0\" y=\"31.0\"/><text x=\"20.0\" y=\"37.0\"/></g><g class=\"output connector block\"><rect height=\"12.0\" width=\"18.0\" x=\"11.0\" y=\"37.0\"/><text x=\"20.0\" y=\"43.0\"/></g><g class=\"unknown connector block\"><rect height=\"12.0\" width=\"18.0\" x=\"11.0\" y=\"34.0\"/><text x=\"20.0\" y=\"40.0\">B</text></g><g class=\"input connector block\"><rect height=\"12.0\" width=\"18.0\" x=\"31.0\" y=\"31.0\"/><text x=\"40.0\" y=\"37.0\"/></g><g class=\"output connector block\"><rect height=\"12.0\" width=\"18.0\" x=\"31.0\" y=\"37.0\"/><text x=\"40.0\" y=\"43.0\"/></g><g class=\"unknown connector block\"><rect height=\"12.0\" width=\"18.0\" x=\"31.0\" y=\"34.0\"/><text x=\"40.0\" y=\"40.0\">C</text></g><g class=\"input connector block\"><rect height=\"12.0\" width=\"18.0\" x=\"51.0\" y=\"31.0\"/><text x=\"60.0\" y=\"37.0\"/></g><g class=\"output connector block\"><rect height=\"12.0\" width=\"18.0\" x=\"51.0\" y=\"37.0\"/><text x=\"60.0\" y=\"43.0\"/></g><g class=\"unknown connector block\"><rect height=\"12.0\" width=\"18.0\" x=\"51.0\" y=\"34.0\"/><text x=\"60.0\" y=\"40.0\">D</text></g><g class=\"input connector block\"><rect height=\"12.0\" width=\"18.0\" x=\"-9.0\" y=\"51.0\"/><text x=\"0.0\" y=\"57.0\"/></g><g class=\"output connector block\"><rect height=\"12.0\" width=\"18.0\" x=\"-9.0\" y=\"57.0\"/><text x=\"0.0\" y=\"63.0\"/></g><g class=\"unknown connector block\"><rect height=\"12.0\" width=\"18.0\" x=\"-9.0\" y=\"54.0\"/><text x=\"0.0\" y=\"60.0\">A</text></g><g class=\"input connector block\"><rect height=\"12.0\" width=\"18.0\" x=\"11.0\" y=\"51.0\"/><text x=\"20.0\" y=\"57.0\"/></g><g class=\"output connector block\"><rect height=\"12.0\" width=\"18.0\" x=\"11.0\" y=\"57.0\"/><text x=\"20.0\" y=\"63.0\"/></g><g class=\"unknown connector block\"><rect height=\"12.0\" width=\"18.0\" x=\"11.0\" y=\"54.0\"/><text x=\"20.0\" y=\"60.0\">B</text></g><g class=\"input connector block\"><rect height=\"12.0\" width=\"18.0\" x=\"11.0\" y=\"71.0\"/><text x=\"20.0\" y=\"77.0\"/></g><g class=\"output connector block\"><rect height=\"12.0\" width=\"18.0\" x=\"11.0\" y=\"77.0\"/><text x=\"20.0\" y=\"83.0\"/></g><g class=\"unknown connector block\"><rect height=\"12.0\" width=\"18.0\" x=\"11.0\" y=\"74.0\"/><text x=\"20.0\" y=\"80.0\">B</text></g><g class=\"input connector block\"><rect height=\"12.0\" width=\"18.0\" x=\"31.0\" y=\"71.0\"/><text x=\"40.0\" y=\"77.0\"/></g><g class=\"output connector block\"><rect height=\"12.0\" width=\"18.0\" x=\"31.0\" y=\"77.0\"/><text x=\"40.0\" y=\"83.0\"/></g><g class=\"unknown connector block\"><rect height=\"12.0\" width=\"18.0\" x=\"31.0\" y=\"74.0\"/><text x=\"40.0\" y=\"80.0\">C</text></g><g class=\"input connector block\"><rect height=\"12.0\" width=\"18.0\" x=\"31.0\" y=\"91.0\"/><text x=\"40.0\" y=\"97.0\"/></g><g class=\"output connector block\"><rect height=\"12.0\" width=\"18.0\" x=\"31.0\" y=\"97.0\"/><text x=\"40.0\" y=\"103.0\"/></g><g class=\"unknown connector block\"><rect height=\"12.0\" width=\"18.0\" x=\"31.0\" y=\"94.0\"/><text x=\"40.0\" y=\"100.0\">C</text></g><g class=\"input connector block\"><rect height=\"12.0\" width=\"18.0\" x=\"51.0\" y=\"91.0\"/><text x=\"60.0\" y=\"97.0\"/></g><g class=\"output connector block\"><rect height=\"12.0\" width=\"18.0\" x=\"51.0\" y=\"97.0\"/><text x=\"60.0\" y=\"103.0\"/></g><g class=\"unknown connector block\"><rect height=\"12.0\" width=\"18.0\" x=\"51.0\" y=\"94.0\"/><text x=\"60.0\" y=\"100.0\">D</text></g><g class=\"input connector block\"><rect height=\"12.0\" width=\"18.0\" x=\"-9.0\" y=\"111.0\"/><text x=\"0.0\" y=\"117.0\"/></g><g class=\"output connector block\"><rect height=\"12.0\" width=\"18.0\" x=\"-9.0\" y=\"117.0\"/><text x=\"0.0\" y=\"123.0\"/></g><g class=\"unknown connector block\"><rect height=\"12.0\" width=\"18.0\" x=\"-9.0\" y=\"114.0\"/><text x=\"0.0\" y=\"120.0\">A</text></g><g class=\"input connector block\"><rect height=\"12.0\" width=\"18.0\" x=\"-9.0\" y=\"131.0\"/><text x=\"0.0\" y=\"137.0\"/></g><g class=\"output connector block\"><rect height=\"12.0\" width=\"18.0\" x=\"-9.0\" y=\"137.0\"/><text x=\"0.0\" y=\"143.0\"/></g><g class=\"unknown connector block\"><rect height=\"12.0\" width=\"18.0\" x=\"-9.0\" y=\"134.0\"/><text x=\"0.0\" y=\"140.0\">A</text></g><g class=\"input connector block\"><rect height=\"12.0\" width=\"18.0\" x=\"-9.0\" y=\"151.0\"/><text x=\"0.0\" y=\"157.0\"/></g><g class=\"output connector block\"><rect height=\"12.0\" width=\"18.0\" x=\"-9.0\" y=\"157.0\"/><text x=\"0.0\" y=\"163.0\"/></g><g class=\"unknown connector block\"><rect height=\"12.0\" width=\"18.0\" x=\"-9.0\" y=\"154.0\"/><text x=\"0.0\" y=\"160.0\">A</text></g><g class=\"input connector block\"><rect height=\"12.0\" width=\"18.0\" x=\"11.0\" y=\"171.0\"/><text x=\"20.0\" y=\"177.0\"/></g><g class=\"output connector block\"><rect height=\"12.0\" width=\"18.0\" x=\"11.0\" y=\"177.0\"/><text x=\"20.0\" y=\"183.0\"/></g><g class=\"unknown connector block\"><rect height=\"12.0\" width=\"18.0\" x=\"11.0\" y=\"174.0\"/><text x=\"20.0\" y=\"180.0\">B</text></g><g class=\"input connector block\"><rect height=\"12.0\" width=\"18.0\" x=\"11.0\" y=\"191.0\"/><text x=\"20.0\" y=\"197.0\"/></g><g class=\"output connector block\"><rect height=\"12.0\" width=\"18.0\" x=\"11.0\" y=\"197.0\"/><text x=\"20.0\" y=\"203.0\"/></g><g class=\"unknown connector block\"><rect height=\"12.0\" width=\"18.0\" x=\"11.0\" y=\"194.0\"/><text x=\"20.0\" y=\"200.0\">B</text></g><g class=\"input connector block\"><rect height=\"12.0\" width=\"18.0\" x=\"11.0\" y=\"211.0\"/><text x=\"20.0\" y=\"217.0\"/></g><g class=\"output connector block\"><rect height=\"12.0\" width=\"18.0\" x=\"11.0\" y=\"217.0\"/><text x=\"20.0\" y=\"223.0\"/></g><g class=\"unknown connector block\"><rect height=\"12.0\" width=\"18.0\" x=\"11.0\" y=\"214.0\"/><text x=\"20.0\" y=\"220.0\">B</text></g><g class=\"input connector block\"><rect height=\"12.0\" width=\"18.0\" x=\"31.0\" y=\"231.0\"/><text x=\"40.0\" y=\"237.0\"/></g><g class=\"output connector block\"><rect height=\"12.0\" width=\"18.0\" x=\"31.0\" y=\"237.0\"/><text x=\"40.0\" y=\"243.0\"/></g><g class=\"unknown connector block\"><rect height=\"12.0\" width=\"18.0\" x=\"31.0\" y=\"234.0\"/><text x=\"40.0\" y=\"240.0\">C</text></g><g class=\"input connector block\"><rect height=\"12.0\" width=\"18.0\" x=\"31.0\" y=\"251.0\"/><text x=\"40.0\" y=\"257.0\"/></g><g class=\"output connector block\"><rect height=\"12.0\" width=\"18.0\" x=\"31.0\" y=\"257.0\"/><text x=\"40.0\" y=\"263.0\"/></g><g class=\"unknown connector block\"><rect height=\"12.0\" width=\"18.0\" x=\"31.0\" y=\"254.0\"/><text x=\"40.0\" y=\"260.0\">C</text></g><g class=\"input connector block\"><rect height=\"12.0\" width=\"18.0\" x=\"31.0\" y=\"271.0\"/><text x=\"40.0\" y=\"277.0\"/></g><g class=\"output connector block\"><rect height=\"12.0\" width=\"18.0\" x=\"31.0\" y=\"277.0\"/><text x=\"40.0\" y=\"283.0\"/></g><g class=\"unknown connector block\"><rect height=\"12.0\" width=\"18.0\" x=\"31.0\" y=\"274.0\"/><text x=\"40.0\" y=\"280.0\">C</text></g><g class=\"input connector block\"><rect height=\"12.0\" width=\"18.0\" x=\"51.0\" y=\"291.0\"/><text x=\"60.0\" y=\"297.0\"/></g><g class=\"output connector block\"><rect height=\"12.0\" width=\"18.0\" x=\"51.0\" y=\"297.0\"/><text x=\"60.0\" y=\"303.0\"/></g><g class=\"unknown connector block\"><rect height=\"12.0\" width=\"18.0\" x=\"51.0\" y=\"294.0\"/><text x=\"60.0\" y=\"300.0\">D</text></g><g class=\"input connector block\"><rect height=\"12.0\" width=\"18.0\" x=\"51.0\" y=\"311.0\"/><text x=\"60.0\" y=\"317.0\"/></g><g class=\"output connector block\"><rect height=\"12.0\" width=\"18.0\" x=\"51.0\" y=\"317.0\"/><text x=\"60.0\" y=\"323.0\"/></g><g class=\"unknown connector block\"><rect height=\"12.0\" width=\"18.0\" x=\"51.0\" y=\"314.0\"/><text x=\"60.0\" y=\"320.0\">D</text></g><g class=\"input connector block\"><rect height=\"12.0\" width=\"18.0\" x=\"51.0\" y=\"331.0\"/><text x=\"60.0\" y=\"337.0\"/></g><g class=\"output connector block\"><rect height=\"12.0\" width=\"18.0\" x=\"51.0\" y=\"337.0\"/><text x=\"60.0\" y=\"343.0\"/></g><g class=\"unknown connector block\"><rect height=\"12.0\" width=\"18.0\" x=\"51.0\" y=\"334.0\"/><text x=\"60.0\" y=\"340.0\">D</text></g><g class=\"input connector block\"><rect height=\"12.0\" width=\"18.0\" x=\"31.0\" y=\"351.0\"/><text x=\"40.0\" y=\"357.0\"/></g><g class=\"output connector block\"><rect height=\"12.0\" width=\"18.0\" x=\"31.0\" y=\"357.0\"/><text x=\"40.0\" y=\"363.0\"/></g><g class=\"unknown connector block\"><rect height=\"12.0\" width=\"18.0\" x=\"31.0\" y=\"354.0\"/><text x=\"40.0\" y=\"360.0\">C</text></g><g class=\"input connector block\"><rect height=\"12.0\" width=\"18.0\" x=\"51.0\" y=\"351.0\"/><text x=\"60.0\" y=\"357.0\"/></g><g class=\"output connector block\"><rect height=\"12.0\" width=\"18.0\" x=\"51.0\" y=\"357.0\"/><text x=\"60.0\" y=\"363.0\"/></g><g class=\"unknown connector block\"><rect height=\"12.0\" width=\"18.0\" x=\"51.0\" y=\"354.0\"/><text x=\"60.0\" y=\"360.0\">D</text></g><g class=\"input connector block\"><rect height=\"12.0\" width=\"18.0\" x=\"11.0\" y=\"371.0\"/><text x=\"20.0\" y=\"377.0\"/></g><g class=\"output connector block\"><rect height=\"12.0\" width=\"18.0\" x=\"11.0\" y=\"377.0\"/><text x=\"20.0\" y=\"383.0\"/></g><g class=\"unknown connector block\"><rect height=\"12.0\" width=\"18.0\" x=\"11.0\" y=\"374.0\"/><text x=\"20.0\" y=\"380.0\">B</text></g><g class=\"input connector block\"><rect height=\"12.0\" width=\"18.0\" x=\"31.0\" y=\"371.0\"/><text x=\"40.0\" y=\"377.0\"/></g><g class=\"output connector block\"><rect height=\"12.0\" width=\"18.0\" x=\"31.0\" y=\"377.0\"/><text x=\"40.0\" y=\"383.0\"/></g><g class=\"unknown connector block\"><rect height=\"12.0\" width=\"18.0\" x=\"31.0\" y=\"374.0\"/><text x=\"40.0\" y=\"380.0\">C</text></g><g class=\"input connector block\"><rect height=\"12.0\" width=\"18.0\" x=\"-9.0\" y=\"391.0\"/><text x=\"0.0\" y=\"397.0\"/></g><g class=\"output connector block\"><rect height=\"12.0\" width=\"18.0\" x=\"-9.0\" y=\"397.0\"/><text x=\"0.0\" y=\"403.0\"/></g><g class=\"unknown connector block\"><rect height=\"12.0\" width=\"18.0\" x=\"-9.0\" y=\"394.0\"/><text x=\"0.0\" y=\"400.0\">A</text></g><g class=\"input connector block\"><rect height=\"12.0\" width=\"18.0\" x=\"11.0\" y=\"391.0\"/><text x=\"20.0\" y=\"397.0\"/></g><g class=\"output connector block\"><rect height=\"12.0\" width=\"18.0\" x=\"11.0\" y=\"397.0\"/><text x=\"20.0\" y=\"403.0\"/></g><g class=\"unknown connector block\"><rect height=\"12.0\" width=\"18.0\" x=\"11.0\" y=\"394.0\"/><text x=\"20.0\" y=\"400.0\">B</text></g><g class=\"input connector block\"><rect height=\"12.0\" width=\"18.0\" x=\"-9.0\" y=\"411.0\"/><text x=\"0.0\" y=\"417.0\"/></g><g class=\"output connector block\"><rect height=\"12.0\" width=\"18.0\" x=\"-9.0\" y=\"417.0\"/><text x=\"0.0\" y=\"423.0\"/></g><g class=\"unknown connector block\"><rect height=\"12.0\" width=\"18.0\" x=\"-9.0\" y=\"414.0\"/><text x=\"0.0\" y=\"420.0\">A</text></g><g class=\"input connector block\"><rect height=\"12.0\" width=\"18.0\" x=\"71.0\" y=\"411.0\"/><text x=\"80.0\" y=\"417.0\"/></g><g class=\"output connector block\"><rect height=\"12.0\" width=\"18.0\" x=\"71.0\" y=\"417.0\"/><text x=\"80.0\" y=\"423.0\"/></g><g class=\"unknown connector block\"><rect height=\"12.0\" width=\"18.0\" x=\"71.0\" y=\"414.0\"/><text x=\"80.0\" y=\"420.0\">E</text></g><g class=\"input connector block\"><rect height=\"12.0\" width=\"18.0\" x=\"-9.0\" y=\"431.0\"/><text x=\"0.0\" y=\"437.0\"/></g><g class=\"output connector block\"><rect height=\"12.0\" width=\"18.0\" x=\"-9.0\" y=\"437.0\"/><text x=\"0.0\" y=\"443.0\"/></g><g class=\"unknown connector block\"><rect height=\"12.0\" width=\"18.0\" x=\"-9.0\" y=\"434.0\"/><text x=\"0.0\" y=\"440.0\">A</text></g><g class=\"input connector block\"><rect height=\"12.0\" width=\"18.0\" x=\"71.0\" y=\"431.0\"/><text x=\"80.0\" y=\"437.0\"/></g><g class=\"output connector block\"><rect height=\"12.0\" width=\"18.0\" x=\"71.0\" y=\"437.0\"/><text x=\"80.0\" y=\"443.0\"/></g><g class=\"unknown connector block\"><rect height=\"12.0\" width=\"18.0\" x=\"71.0\" y=\"434.0\"/><text x=\"80.0\" y=\"440.0\">E</text></g><g class=\"input connector block\"><rect height=\"12.0\" width=\"18.0\" x=\"-9.0\" y=\"451.0\"/><text x=\"0.0\" y=\"457.0\"/></g><g class=\"output connector block\"><rect height=\"12.0\" width=\"18.0\" x=\"-9.0\" y=\"457.0\"/><text x=\"0.0\" y=\"463.0\"/></g><g class=\"unknown connector block\"><rect height=\"12.0\" width=\"18.0\" x=\"-9.0\" y=\"454.0\"/><text x=\"0.0\" y=\"460.0\">A</text></g><g class=\"input connector block\"><rect height=\"12.0\" width=\"18.0\" x=\"11.0\" y=\"451.0\"/><text x=\"20.0\" y=\"457.0\"/></g><g class=\"output connector block\"><rect height=\"12.0\" width=\"18.0\" x=\"11.0\" y=\"457.0\"/><text x=\"20.0\" y=\"463.0\"/></g><g class=\"unknown connector block\"><rect height=\"12.0\" width=\"18.0\" x=\"11.0\" y=\"454.0\"/><text x=\"20.0\" y=\"460.0\">B</text></g><g class=\"input connector block\"><rect height=\"12.0\" width=\"18.0\" x=\"31.0\" y=\"451.0\"/><text x=\"40.0\" y=\"457.0\"/></g><g class=\"output connector block\"><rect height=\"12.0\" width=\"18.0\" x=\"31.0\" y=\"457.0\"/><text x=\"40.0\" y=\"463.0\"/></g><g class=\"unknown connector block\"><rect height=\"12.0\" width=\"18.0\" x=\"31.0\" y=\"454.0\"/><text x=\"40.0\" y=\"460.0\">C</text></g><g class=\"input connector block\"><rect height=\"12.0\" width=\"18.0\" x=\"51.0\" y=\"451.0\"/><text x=\"60.0\" y=\"457.0\"/></g><g class=\"output connector block\"><rect height=\"12.0\" width=\"18.0\" x=\"51.0\" y=\"457.0\"/><text x=\"60.0\" y=\"463.0\"/></g><g class=\"unknown connector block\"><rect height=\"12.0\" width=\"18.0\" x=\"51.0\" y=\"454.0\"/><text x=\"60.0\" y=\"460.0\">D</text></g><g class=\"input connector block\"><rect height=\"12.0\" width=\"18.0\" x=\"11.0\" y=\"471.0\"/><text x=\"20.0\" y=\"477.0\"/></g><g class=\"output connector block\"><rect height=\"12.0\" width=\"18.0\" x=\"11.0\" y=\"477.0\"/><text x=\"20.0\" y=\"483.0\"/></g><g class=\"unknown connector block\"><rect height=\"12.0\" width=\"18.0\" x=\"11.0\" y=\"474.0\"/><text x=\"20.0\" y=\"480.0\">B</text></g><g class=\"input connector block\"><rect height=\"12.0\" width=\"18.0\" x=\"51.0\" y=\"491.0\"/><text x=\"60.0\" y=\"497.0\"/></g><g class=\"output connector block\"><rect height=\"12.0\" width=\"18.0\" x=\"51.0\" y=\"497.0\"/><text x=\"60.0\" y=\"503.0\"/></g><g class=\"unknown connector block\"><rect height=\"12.0\" width=\"18.0\" x=\"51.0\" y=\"494.0\"/><text x=\"60.0\" y=\"500.0\">D</text></g><g class=\"input connector block\"><rect height=\"12.0\" width=\"18.0\" x=\"-9.0\" y=\"511.0\"/><text x=\"0.0\" y=\"517.0\"/></g><g class=\"output connector block\"><rect height=\"12.0\" width=\"18.0\" x=\"-9.0\" y=\"517.0\"/><text x=\"0.0\" y=\"523.0\"/></g><g class=\"unknown connector block\"><rect height=\"12.0\" width=\"18.0\" x=\"-9.0\" y=\"514.0\"/><text x=\"0.0\" y=\"520.0\">A</text></g><g class=\"input connector block\"><rect height=\"12.0\" width=\"18.0\" x=\"31.0\" y=\"531.0\"/><text x=\"40.0\" y=\"537.0\"/></g><g class=\"output connector block\"><rect height=\"12.0\" width=\"18.0\" x=\"31.0\" y=\"537.0\"/><text x=\"40.0\" y=\"543.0\"/></g><g class=\"unknown connector block\"><rect height=\"12.0\" width=\"18.0\" x=\"31.0\" y=\"534.0\"/><text x=\"40.0\" y=\"540.0\">C</text></g></g></svg>"
      ],
      "text/plain": [
       "<IPython.core.display.SVG object>"
      ]
     },
     "execution_count": 8,
     "metadata": {},
     "output_type": "execute_result"
    }
   ],
   "source": [
    "move_vis = ops_vis.MoveTreeBuilder.from_scheme(custom_scheme)\n",
    "SVG(move_vis.svg())"
   ]
  },
  {
   "cell_type": "markdown",
   "metadata": {},
   "source": [
    "# Get initial conditions"
   ]
  },
  {
   "cell_type": "code",
   "execution_count": 9,
   "metadata": {
    "collapsed": false
   },
   "outputs": [
    {
     "name": "stdout",
     "output_type": "stream",
     "text": [
      "DONE! Completed Bootstrapping cycle step 40 in ensemble 4/4.\n"
     ]
    }
   ],
   "source": [
    "initial_samples = paths.FullBootstrapping(transition=network.sampling_transitions[0],\n",
    "                                          snapshot=template,\n",
    "                                          engine=engine).run()"
   ]
  },
  {
   "cell_type": "code",
   "execution_count": 10,
   "metadata": {
    "collapsed": false
   },
   "outputs": [],
   "source": [
    "transition = network.sampling_transitions[0]\n",
    "minus_sample = network.minus_ensembles[0].extend_sample_from_trajectories(\n",
    "    trajectories=[initial_samples[transition.ensembles[0]].trajectory],\n",
    "    engine=engine,\n",
    "    replica=-1\n",
    ")\n",
    "initial_samples = initial_samples.apply_samples(minus_sample)"
   ]
  },
  {
   "cell_type": "code",
   "execution_count": 11,
   "metadata": {
    "collapsed": true
   },
   "outputs": [],
   "source": [
    "initial_samples.sanity_check()"
   ]
  },
  {
   "cell_type": "code",
   "execution_count": 12,
   "metadata": {
    "collapsed": false
   },
   "outputs": [
    {
     "name": "stdout",
     "output_type": "stream",
     "text": [
      "Default Scheme: No missing ensembles.\n",
      "No extra ensembles.\n",
      "\n",
      "Custom Scheme: No missing ensembles.\n",
      "No extra ensembles.\n",
      "\n"
     ]
    }
   ],
   "source": [
    "print \"Default Scheme:\", default_scheme.initial_conditions_report(initial_samples)\n",
    "print \"Custom Scheme:\", custom_scheme.initial_conditions_report(initial_samples)"
   ]
  },
  {
   "cell_type": "markdown",
   "metadata": {},
   "source": [
    "# Run each of the simulations"
   ]
  },
  {
   "cell_type": "code",
   "execution_count": 13,
   "metadata": {
    "collapsed": true
   },
   "outputs": [],
   "source": [
    "n_tries_per_shooting = 10000"
   ]
  },
  {
   "cell_type": "code",
   "execution_count": 14,
   "metadata": {
    "collapsed": false
   },
   "outputs": [
    {
     "name": "stdout",
     "output_type": "stream",
     "text": [
      "77001\n"
     ]
    }
   ],
   "source": [
    "# take the number of steps from a single ensemble shooting\n",
    "n_steps = default_scheme.n_steps_for_trials(\n",
    "    mover=default_scheme.movers['shooting'][0],\n",
    "    n_attempts=n_tries_per_shooting\n",
    ")\n",
    "n_steps = int(n_steps)+1\n",
    "print n_steps"
   ]
  },
  {
   "cell_type": "code",
   "execution_count": 15,
   "metadata": {
    "collapsed": true
   },
   "outputs": [],
   "source": [
    "default_storage = paths.Storage(\"default_scheme.nc\", \"w\")"
   ]
  },
  {
   "cell_type": "code",
   "execution_count": 16,
   "metadata": {
    "collapsed": false
   },
   "outputs": [],
   "source": [
    "default_calc = paths.PathSampling(\n",
    "    storage=default_storage,\n",
    "    sample_set=initial_samples,\n",
    "    move_scheme=default_scheme\n",
    ")\n",
    "default_calc.save_frequency = 100"
   ]
  },
  {
   "cell_type": "code",
   "execution_count": 17,
   "metadata": {
    "collapsed": false
   },
   "outputs": [
    {
     "name": "stdout",
     "output_type": "stream",
     "text": [
      "Working on Monte Carlo cycle number 77001\n",
      "Running for 10519 seconds -  7.32 steps per second\n",
      "Expected time to finish: 0 seconds\n",
      "DONE! Completed 77001 Monte Carlo cycles.\n"
     ]
    }
   ],
   "source": [
    "default_calc.run(n_steps)"
   ]
  },
  {
   "cell_type": "code",
   "execution_count": 18,
   "metadata": {
    "collapsed": false
   },
   "outputs": [
    {
     "name": "stdout",
     "output_type": "stream",
     "text": [
      "32001\n"
     ]
    }
   ],
   "source": [
    "# in repex_shoot_repex, one move shoots all the ensembles\n",
    "n_steps = custom_scheme.n_steps_for_trials(\n",
    "    mover=custom_scheme.movers['repex_shoot_repex'],\n",
    "    n_attempts=n_tries_per_shooting\n",
    ")\n",
    "n_steps = int(n_steps)+1\n",
    "print n_steps"
   ]
  },
  {
   "cell_type": "code",
   "execution_count": 19,
   "metadata": {
    "collapsed": true
   },
   "outputs": [],
   "source": [
    "custom_storage = paths.Storage(\"custom_scheme.nc\", \"w\")"
   ]
  },
  {
   "cell_type": "code",
   "execution_count": null,
   "metadata": {
    "collapsed": true
   },
   "outputs": [],
   "source": [
    "custom_calc = paths.PathSampling(\n",
    "    storage=custom_storage,\n",
    "    sample_set=initial_samples,\n",
    "    move_scheme=custom_scheme\n",
    ")\n",
    "custom_calc.save_frequency = 100"
   ]
  },
  {
   "cell_type": "code",
   "execution_count": null,
   "metadata": {
    "collapsed": false
   },
   "outputs": [
    {
     "name": "stdout",
     "output_type": "stream",
     "text": [
      "Working on Monte Carlo cycle number 87\n",
      "Running for 45 seconds -  1.88 steps per second\n",
      "Expected time to finish: 16989 seconds\n"
     ]
    }
   ],
   "source": [
    "custom_calc.run(n_steps)"
   ]
  },
  {
   "cell_type": "markdown",
   "metadata": {},
   "source": [
    "# Analyze the results"
   ]
  },
  {
   "cell_type": "code",
   "execution_count": null,
   "metadata": {
    "collapsed": true
   },
   "outputs": [],
   "source": [
    "# if loading from stored files (not running the stuff above)\n",
    "#default_storage = paths.AnalysisStorage(\"default_scheme.nc\")\n",
    "#custom_storage = paths.AnalysisStorage(\"custom_scheme.nc\")\n",
    "#default_scheme = default_storage.schemes[0]\n",
    "#custom_scheme = custom_storage.schemes[0]"
   ]
  },
  {
   "cell_type": "markdown",
   "metadata": {},
   "source": [
    "## A few checks that we are making a fair comparison"
   ]
  },
  {
   "cell_type": "markdown",
   "metadata": {},
   "source": [
    "### The scheme should be as expected\n",
    "\n",
    "Also, the number of path reversal moves and the number of minus moves should be similar in both schemes."
   ]
  },
  {
   "cell_type": "code",
   "execution_count": null,
   "metadata": {
    "collapsed": false
   },
   "outputs": [],
   "source": [
    "default_scheme.move_summary(default_storage.steps)"
   ]
  },
  {
   "cell_type": "code",
   "execution_count": null,
   "metadata": {
    "collapsed": false
   },
   "outputs": [],
   "source": [
    "custom_scheme.move_summary(custom_storage.steps)"
   ]
  },
  {
   "cell_type": "markdown",
   "metadata": {},
   "source": [
    "### The number of snapshots generated by each should be similar"
   ]
  },
  {
   "cell_type": "code",
   "execution_count": null,
   "metadata": {
    "collapsed": false
   },
   "outputs": [],
   "source": [
    "print len(default_storage.snapshots), len(custom_storage.snapshots)"
   ]
  },
  {
   "cell_type": "markdown",
   "metadata": {},
   "source": [
    "### Check that we have about the same number of shooting moves per ensemble for each scheme"
   ]
  },
  {
   "cell_type": "code",
   "execution_count": null,
   "metadata": {
    "collapsed": false
   },
   "outputs": [],
   "source": [
    "default_scheme.move_summary(default_storage.steps, \"shooting\")"
   ]
  },
  {
   "cell_type": "code",
   "execution_count": null,
   "metadata": {
    "collapsed": false
   },
   "outputs": [],
   "source": [
    "custom_scheme.move_summary(custom_storage.steps, \"repex_shoot_repex\")"
   ]
  },
  {
   "cell_type": "markdown",
   "metadata": {},
   "source": [
    "## Analyze the output to compare the efficiency"
   ]
  },
  {
   "cell_type": "markdown",
   "metadata": {},
   "source": [
    "### Count the number of round trips done"
   ]
  },
  {
   "cell_type": "code",
   "execution_count": null,
   "metadata": {
    "collapsed": false
   },
   "outputs": [],
   "source": [
    "default_repx_net = paths.ReplicaNetwork(default_scheme, default_storage.steps)"
   ]
  },
  {
   "cell_type": "code",
   "execution_count": null,
   "metadata": {
    "collapsed": false
   },
   "outputs": [],
   "source": [
    "default_trips = default_repx_net.trips(bottom=network.minus_ensembles[0], top=network.sampling_ensembles[-1])"
   ]
  },
  {
   "cell_type": "code",
   "execution_count": null,
   "metadata": {
    "collapsed": false
   },
   "outputs": [],
   "source": [
    "n_default_round_trips = len(default_trips['round'])\n",
    "print n_default_round_trips"
   ]
  },
  {
   "cell_type": "code",
   "execution_count": null,
   "metadata": {
    "collapsed": true
   },
   "outputs": [],
   "source": [
    "custom_repx_net = paths.ReplicaNetwork(custom_scheme, custom_storage.steps)"
   ]
  },
  {
   "cell_type": "code",
   "execution_count": null,
   "metadata": {
    "collapsed": false
   },
   "outputs": [],
   "source": [
    "custom_trips = custom_repx_net.trips(bottom=network.minus_ensembles[0], top=network.sampling_ensembles[-1])"
   ]
  },
  {
   "cell_type": "code",
   "execution_count": null,
   "metadata": {
    "collapsed": false
   },
   "outputs": [],
   "source": [
    "n_custom_round_trips = len(custom_trips['round'])\n",
    "print n_custom_round_trips"
   ]
  },
  {
   "cell_type": "markdown",
   "metadata": {},
   "source": [
    "Since the \"time\" for each round trip is reported as a number of steps, we scale them so that they represent a fraction of the total simulation (making this into a even comparison, since the two simulations require about the same amount of MD.)"
   ]
  },
  {
   "cell_type": "code",
   "execution_count": null,
   "metadata": {
    "collapsed": false
   },
   "outputs": [],
   "source": [
    "plt.hist(np.array(default_trips['round']) / 77001.0, color='b', alpha=0.5, label='Default')\n",
    "plt.hist(np.array(custom_trips['round']) / 32001.0, color='g', alpha=0.5, label=\"Custom\")\n",
    "plt.legend()"
   ]
  },
  {
   "cell_type": "markdown",
   "metadata": {},
   "source": [
    "### Check the replica flow for each scheme"
   ]
  },
  {
   "cell_type": "code",
   "execution_count": null,
   "metadata": {
    "collapsed": true
   },
   "outputs": [],
   "source": [
    "default_flow = default_repx_net.flow_pd(bottom=network.minus_ensembles[0], top=network.sampling_ensembles[-1])"
   ]
  },
  {
   "cell_type": "code",
   "execution_count": null,
   "metadata": {
    "collapsed": false
   },
   "outputs": [],
   "source": [
    "custom_flow = custom_repx_net.flow_pd(bottom=network.minus_ensembles[0], top=network.sampling_ensembles[-1])"
   ]
  },
  {
   "cell_type": "code",
   "execution_count": null,
   "metadata": {
    "collapsed": false
   },
   "outputs": [],
   "source": [
    "plt.plot(default_flow, 'b')\n",
    "plt.plot(custom_flow, 'g')\n",
    "perfect_flow = [1.0 - float(i)/(len(default_flow)-1) for i in range(len(default_flow))]\n",
    "plt.plot(perfect_flow, 'k')"
   ]
  },
  {
   "cell_type": "code",
   "execution_count": null,
   "metadata": {
    "collapsed": true
   },
   "outputs": [],
   "source": []
  }
 ],
 "metadata": {
  "kernelspec": {
   "display_name": "Python 2",
   "language": "python",
   "name": "python2"
  },
  "language_info": {
   "codemirror_mode": {
    "name": "ipython",
    "version": 2
   },
   "file_extension": ".py",
   "mimetype": "text/x-python",
   "name": "python",
   "nbconvert_exporter": "python",
   "pygments_lexer": "ipython2",
   "version": "2.7.12"
  }
 },
 "nbformat": 4,
 "nbformat_minor": 0
}

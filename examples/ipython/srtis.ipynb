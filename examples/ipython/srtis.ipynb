{
 "cells": [
  {
   "cell_type": "markdown",
   "metadata": {},
   "source": [
    "# Single Replica TIS\n",
    "\n",
    "This notebook shows how to run single replica TIS move scheme. This assumes you can load engine, network, and initial sample from a previous calculation."
   ]
  },
  {
   "cell_type": "code",
   "execution_count": 1,
   "metadata": {
    "collapsed": false
   },
   "outputs": [],
   "source": [
    "%matplotlib inline\n",
    "import openpathsampling as paths\n",
    "import numpy as np\n",
    "import matplotlib.pyplot as plt"
   ]
  },
  {
   "cell_type": "code",
   "execution_count": 2,
   "metadata": {
    "collapsed": true
   },
   "outputs": [],
   "source": [
    "from openpathsampling.visualize import PathTreeBuilder, PathTreeBuilder\n",
    "from IPython.display import SVG, HTML\n",
    "\n",
    "def ipynb_visualize(movevis):\n",
    "    \"\"\"Default settings to show a movevis in an ipynb.\"\"\"\n",
    "    view = movevis.renderer\n",
    "    view.zoom = 1.5\n",
    "    view.scale_y = 18\n",
    "    view.scale_th = 20\n",
    "    view.font_size = 0.4\n",
    "    return view"
   ]
  },
  {
   "cell_type": "markdown",
   "metadata": {},
   "source": [
    "Open the storage and load things from it."
   ]
  },
  {
   "cell_type": "code",
   "execution_count": 3,
   "metadata": {
    "collapsed": false
   },
   "outputs": [],
   "source": [
    "#old_store = paths.AnalysisStorage(\"mstis.nc\")\n",
    "old_store = paths.Storage(\"mstis.nc\")  # if not actually doing analysis, but loading network, etc"
   ]
  },
  {
   "cell_type": "code",
   "execution_count": 4,
   "metadata": {
    "collapsed": false
   },
   "outputs": [],
   "source": [
    "network = old_store.networks[0]\n",
    "engine = old_store.engines[0]\n",
    "template = old_store.snapshots[0]"
   ]
  },
  {
   "cell_type": "code",
   "execution_count": 5,
   "metadata": {
    "collapsed": false
   },
   "outputs": [],
   "source": [
    "network.hist_args['max_lambda'] = { 'bin_width' : 0.02, 'bin_range' : (0.0, 0.5) }\n",
    "network.hist_args['pathlength'] = { 'bin_width' : 5, 'bin_range' : (0, 150) }\n",
    "#rate = network.rate_matrix(old_store.steps)"
   ]
  },
  {
   "cell_type": "markdown",
   "metadata": {},
   "source": [
    "One of the points of SRTIS is that we use a bias (which comes from an estimate of the crossing probability) in order to improve our sampling."
   ]
  },
  {
   "cell_type": "code",
   "execution_count": 6,
   "metadata": {
    "collapsed": false
   },
   "outputs": [],
   "source": [
    "# this is the normal way you'd get this table\n",
    "#table = {}\n",
    "#for t in network.sampling_transitions:\n",
    "#    for ens, lambda_ens in zip(t.ensembles, [0.04, 0.09, 0.15]):\n",
    "#        table[ens] = t.tcp(lambda_ens)\n",
    "#for ens in network.special_ensembles['ms_outer'].keys():\n",
    "#    table[ens] = 0.0\n",
    "#    for t in network.sampling_transitions:\n",
    "#        table[ens] += t.tcp(0.25)\n",
    "#    table[ens] *= len(network.special_ensembles['ms_outer'].keys())\n",
    "#    # TODO: Justify the math behind that. Also, run it a bunch more times.\n",
    "    \n",
    "# However, we usually have a short (bad statistics) run in \"mstis.nc\"\n",
    "# Here are results that I got from a 10k MC step run\n",
    "#desired_table = {\n",
    "#    \"Out A 0\" : 1.0,\n",
    "#    \"Out A 1\" : 0.13631671445062318,\n",
    "#    \"Out A 2\" : 0.024940771341558789,\n",
    "#    \"Out B 0\" : 1.0,\n",
    "#    \"Out B 1\" : 0.17104343305339545,\n",
    "#    \"Out B 2\" : 0.03927673242602249,\n",
    "#    \"Out C 0\" : 1.0,\n",
    "#    \"Out C 1\" : 0.19353622940592666,\n",
    "#    \"Out C 2\" : 0.066440692846493191,\n",
    "#    \"[UnionEnsemble]\" : (0.0030508557603910859+0.0087422825961122538+0.017858280680711457)*3\n",
    "#} # Union is sum of outermost vals for all 3 versions, times the number of versions\n",
    "\n",
    "# Here are results that I got from a 20k MC step run\n",
    "desired_table = {\n",
    "    \"Out A 0\" : 1.0,\n",
    "    \"Out A 1\" : 0.13293104100673198,\n",
    "    \"Out A 2\" : 0.044370838092911397,\n",
    "    \"Out B 0\" : 1.0,\n",
    "    \"Out B 1\" : 0.13846029208307947,\n",
    "    \"Out B 2\" : 0.042622152070289694,\n",
    "    \"Out C 0\" : 1.0,\n",
    "    \"Out C 1\" : 0.19485705066078274,\n",
    "    \"Out C 2\" : 0.053373003923696649,\n",
    "    \"[UnionEnsemble]\" : (0.021975696374764188 + 0.021955804935886884 + 0.029175949467020165) / 3\n",
    "} # Union is average of all 3 version, divided by the number of possible initial states (assuming equal prob)\n",
    "\n",
    "\n",
    "# now we'll set `table` based on `desired_table`\n",
    "table = {}\n",
    "my_ensembles = network.sampling_ensembles + network.special_ensembles['ms_outer'].keys()\n",
    "for ens in my_ensembles:\n",
    "    table[ens] = desired_table[ens.name]"
   ]
  },
  {
   "cell_type": "code",
   "execution_count": 7,
   "metadata": {
    "collapsed": false
   },
   "outputs": [],
   "source": [
    "bias = paths.BiasEnsembleTable.ratios_from_dictionary(table)"
   ]
  },
  {
   "cell_type": "code",
   "execution_count": 8,
   "metadata": {
    "collapsed": false
   },
   "outputs": [
    {
     "data": {
      "text/html": [
       "<div>\n",
       "<table border=\"1\" class=\"dataframe\">\n",
       "  <thead>\n",
       "    <tr style=\"text-align: right;\">\n",
       "      <th></th>\n",
       "      <th>Out A 0</th>\n",
       "      <th>Out A 1</th>\n",
       "      <th>Out A 2</th>\n",
       "      <th>Out B 0</th>\n",
       "      <th>Out B 1</th>\n",
       "      <th>Out B 2</th>\n",
       "      <th>Out C 0</th>\n",
       "      <th>Out C 1</th>\n",
       "      <th>Out C 2</th>\n",
       "      <th>[UnionEnsemble]</th>\n",
       "    </tr>\n",
       "  </thead>\n",
       "  <tbody>\n",
       "    <tr>\n",
       "      <th>Out A 0</th>\n",
       "      <td>1</td>\n",
       "      <td>7.5227</td>\n",
       "      <td>22.5373</td>\n",
       "      <td>1</td>\n",
       "      <td>7.22229</td>\n",
       "      <td>23.462</td>\n",
       "      <td>1</td>\n",
       "      <td>5.13197</td>\n",
       "      <td>18.7361</td>\n",
       "      <td>41.0355</td>\n",
       "    </tr>\n",
       "    <tr>\n",
       "      <th>Out A 1</th>\n",
       "      <td>0.132931</td>\n",
       "      <td>1</td>\n",
       "      <td>2.99591</td>\n",
       "      <td>0.132931</td>\n",
       "      <td>0.960066</td>\n",
       "      <td>3.11883</td>\n",
       "      <td>0.132931</td>\n",
       "      <td>0.682198</td>\n",
       "      <td>2.4906</td>\n",
       "      <td>5.45489</td>\n",
       "    </tr>\n",
       "    <tr>\n",
       "      <th>Out A 2</th>\n",
       "      <td>0.0443708</td>\n",
       "      <td>0.333788</td>\n",
       "      <td>1</td>\n",
       "      <td>0.0443708</td>\n",
       "      <td>0.320459</td>\n",
       "      <td>1.04103</td>\n",
       "      <td>0.0443708</td>\n",
       "      <td>0.22771</td>\n",
       "      <td>0.831335</td>\n",
       "      <td>1.82078</td>\n",
       "    </tr>\n",
       "    <tr>\n",
       "      <th>Out B 0</th>\n",
       "      <td>1</td>\n",
       "      <td>7.5227</td>\n",
       "      <td>22.5373</td>\n",
       "      <td>1</td>\n",
       "      <td>7.22229</td>\n",
       "      <td>23.462</td>\n",
       "      <td>1</td>\n",
       "      <td>5.13197</td>\n",
       "      <td>18.7361</td>\n",
       "      <td>41.0355</td>\n",
       "    </tr>\n",
       "    <tr>\n",
       "      <th>Out B 1</th>\n",
       "      <td>0.13846</td>\n",
       "      <td>1.04159</td>\n",
       "      <td>3.12052</td>\n",
       "      <td>0.13846</td>\n",
       "      <td>1</td>\n",
       "      <td>3.24855</td>\n",
       "      <td>0.13846</td>\n",
       "      <td>0.710574</td>\n",
       "      <td>2.5942</td>\n",
       "      <td>5.68179</td>\n",
       "    </tr>\n",
       "    <tr>\n",
       "      <th>Out B 2</th>\n",
       "      <td>0.0426222</td>\n",
       "      <td>0.320634</td>\n",
       "      <td>0.960589</td>\n",
       "      <td>0.0426222</td>\n",
       "      <td>0.307829</td>\n",
       "      <td>1</td>\n",
       "      <td>0.0426222</td>\n",
       "      <td>0.218735</td>\n",
       "      <td>0.798571</td>\n",
       "      <td>1.74902</td>\n",
       "    </tr>\n",
       "    <tr>\n",
       "      <th>Out C 0</th>\n",
       "      <td>1</td>\n",
       "      <td>7.5227</td>\n",
       "      <td>22.5373</td>\n",
       "      <td>1</td>\n",
       "      <td>7.22229</td>\n",
       "      <td>23.462</td>\n",
       "      <td>1</td>\n",
       "      <td>5.13197</td>\n",
       "      <td>18.7361</td>\n",
       "      <td>41.0355</td>\n",
       "    </tr>\n",
       "    <tr>\n",
       "      <th>Out C 1</th>\n",
       "      <td>0.194857</td>\n",
       "      <td>1.46585</td>\n",
       "      <td>4.39156</td>\n",
       "      <td>0.194857</td>\n",
       "      <td>1.40731</td>\n",
       "      <td>4.57173</td>\n",
       "      <td>0.194857</td>\n",
       "      <td>1</td>\n",
       "      <td>3.65085</td>\n",
       "      <td>7.99605</td>\n",
       "    </tr>\n",
       "    <tr>\n",
       "      <th>Out C 2</th>\n",
       "      <td>0.053373</td>\n",
       "      <td>0.401509</td>\n",
       "      <td>1.20288</td>\n",
       "      <td>0.053373</td>\n",
       "      <td>0.385475</td>\n",
       "      <td>1.25224</td>\n",
       "      <td>0.053373</td>\n",
       "      <td>0.273909</td>\n",
       "      <td>1</td>\n",
       "      <td>2.19019</td>\n",
       "    </tr>\n",
       "    <tr>\n",
       "      <th>[UnionEnsemble]</th>\n",
       "      <td>0.0243692</td>\n",
       "      <td>0.183322</td>\n",
       "      <td>0.549215</td>\n",
       "      <td>0.0243692</td>\n",
       "      <td>0.176001</td>\n",
       "      <td>0.571748</td>\n",
       "      <td>0.0243692</td>\n",
       "      <td>0.125062</td>\n",
       "      <td>0.456582</td>\n",
       "      <td>1</td>\n",
       "    </tr>\n",
       "  </tbody>\n",
       "</table>\n",
       "</div>"
      ],
      "text/plain": [
       "                   Out A 0   Out A 1   Out A 2    Out B 0   Out B 1   Out B 2  \\\n",
       "Out A 0                  1    7.5227   22.5373          1   7.22229    23.462   \n",
       "Out A 1           0.132931         1   2.99591   0.132931  0.960066   3.11883   \n",
       "Out A 2          0.0443708  0.333788         1  0.0443708  0.320459   1.04103   \n",
       "Out B 0                  1    7.5227   22.5373          1   7.22229    23.462   \n",
       "Out B 1            0.13846   1.04159   3.12052    0.13846         1   3.24855   \n",
       "Out B 2          0.0426222  0.320634  0.960589  0.0426222  0.307829         1   \n",
       "Out C 0                  1    7.5227   22.5373          1   7.22229    23.462   \n",
       "Out C 1           0.194857   1.46585   4.39156   0.194857   1.40731   4.57173   \n",
       "Out C 2           0.053373  0.401509   1.20288   0.053373  0.385475   1.25224   \n",
       "[UnionEnsemble]  0.0243692  0.183322  0.549215  0.0243692  0.176001  0.571748   \n",
       "\n",
       "                   Out C 0   Out C 1   Out C 2 [UnionEnsemble]  \n",
       "Out A 0                  1   5.13197   18.7361         41.0355  \n",
       "Out A 1           0.132931  0.682198    2.4906         5.45489  \n",
       "Out A 2          0.0443708   0.22771  0.831335         1.82078  \n",
       "Out B 0                  1   5.13197   18.7361         41.0355  \n",
       "Out B 1            0.13846  0.710574    2.5942         5.68179  \n",
       "Out B 2          0.0426222  0.218735  0.798571         1.74902  \n",
       "Out C 0                  1   5.13197   18.7361         41.0355  \n",
       "Out C 1           0.194857         1   3.65085         7.99605  \n",
       "Out C 2           0.053373  0.273909         1         2.19019  \n",
       "[UnionEnsemble]  0.0243692  0.125062  0.456582               1  "
      ]
     },
     "execution_count": 8,
     "metadata": {},
     "output_type": "execute_result"
    }
   ],
   "source": [
    "bias.df"
   ]
  },
  {
   "cell_type": "code",
   "execution_count": 9,
   "metadata": {
    "collapsed": false
   },
   "outputs": [
    {
     "name": "stdout",
     "output_type": "stream",
     "text": [
      "0.194857050661\n"
     ]
    }
   ],
   "source": [
    "transAB = network.transitions.values()[4]\n",
    "ensA0 = transAB.ensembles[0]\n",
    "ensA1 = transAB.ensembles[1]\n",
    "print bias.bias_probability(ensA1, ensA0)"
   ]
  },
  {
   "cell_type": "code",
   "execution_count": 10,
   "metadata": {
    "collapsed": false
   },
   "outputs": [
    {
     "data": {
      "text/plain": [
       "0.13846029208307947"
      ]
     },
     "execution_count": 10,
     "metadata": {},
     "output_type": "execute_result"
    }
   ],
   "source": [
    "bias.dataframe.loc[2, 7]"
   ]
  },
  {
   "cell_type": "code",
   "execution_count": 11,
   "metadata": {
    "collapsed": false
   },
   "outputs": [
    {
     "name": "stdout",
     "output_type": "stream",
     "text": [
      "<openpathsampling.volume.CVRangeVolume object at 0x116f190d0> u'A'\n",
      "<openpathsampling.volume.CVRangeVolume object at 0x116f19d50> u'B'\n",
      "<openpathsampling.volume.CVRangeVolume object at 0x116e74d50> u'C'\n"
     ]
    }
   ],
   "source": [
    "for state in network.states:\n",
    "    print repr(state), repr(state.name)"
   ]
  },
  {
   "cell_type": "code",
   "execution_count": null,
   "metadata": {
    "collapsed": true
   },
   "outputs": [],
   "source": []
  },
  {
   "cell_type": "markdown",
   "metadata": {},
   "source": [
    "Here we actually set up the SRTIS move scheme for the given network. It only requires one line:"
   ]
  },
  {
   "cell_type": "code",
   "execution_count": 12,
   "metadata": {
    "collapsed": false
   },
   "outputs": [],
   "source": [
    "scheme = paths.SRTISScheme(network, bias=bias, engine=engine)"
   ]
  },
  {
   "cell_type": "markdown",
   "metadata": {},
   "source": [
    "Now we'll visualize the SRTIS move scheme."
   ]
  },
  {
   "cell_type": "code",
   "execution_count": 13,
   "metadata": {
    "collapsed": false,
    "scrolled": false
   },
   "outputs": [],
   "source": [
    "movevis = paths.visualize.MoveTreeBuilder()\n",
    "#movevis.mover(scheme.move_decision_tree(), network.all_ensembles)\n",
    "#SVG(ipynb_visualize(movevis).to_svg())"
   ]
  },
  {
   "cell_type": "markdown",
   "metadata": {},
   "source": [
    "Next we need to set up an appropriate single-replica initial sample set. We'll take the last version of from one of the outer TIS ensembles."
   ]
  },
  {
   "cell_type": "code",
   "execution_count": 14,
   "metadata": {
    "collapsed": false
   },
   "outputs": [],
   "source": [
    "final_samp0 = old_store.steps[len(old_store.steps)-1].active[network.sampling_ensembles[-1]]"
   ]
  },
  {
   "cell_type": "code",
   "execution_count": 15,
   "metadata": {
    "collapsed": false
   },
   "outputs": [],
   "source": [
    "sset = paths.SampleSet([final_samp0])"
   ]
  },
  {
   "cell_type": "markdown",
   "metadata": {},
   "source": [
    "Finally, we set up the new storage file and the new simulation. "
   ]
  },
  {
   "cell_type": "code",
   "execution_count": 16,
   "metadata": {
    "collapsed": false
   },
   "outputs": [],
   "source": [
    "storage = paths.Storage(\"srtis.nc\", \"w\", template)"
   ]
  },
  {
   "cell_type": "code",
   "execution_count": 17,
   "metadata": {
    "collapsed": false
   },
   "outputs": [],
   "source": [
    "srtis = paths.PathSampling(\n",
    "    storage=storage,\n",
    "    globalstate=sset,\n",
    "    move_scheme=scheme\n",
    ")"
   ]
  },
  {
   "cell_type": "code",
   "execution_count": 18,
   "metadata": {
    "collapsed": false
   },
   "outputs": [
    {
     "name": "stdout",
     "output_type": "stream",
     "text": [
      "1230\n"
     ]
    }
   ],
   "source": [
    "n_steps_to_run = int(scheme.n_steps_for_trials(\n",
    "        mover=scheme.movers['minus'][0], \n",
    "        n_attempts=1\n",
    "    ))\n",
    "print n_steps_to_run"
   ]
  },
  {
   "cell_type": "code",
   "execution_count": 19,
   "metadata": {
    "collapsed": true
   },
   "outputs": [],
   "source": [
    "# logging creates ops_output.log file with details of what the calculation is doing\n",
    "import logging.config\n",
    "logging.config.fileConfig(\"logging.conf\", disable_existing_loggers=False)"
   ]
  },
  {
   "cell_type": "code",
   "execution_count": 20,
   "metadata": {
    "collapsed": false
   },
   "outputs": [
    {
     "name": "stdout",
     "output_type": "stream",
     "text": [
      "Working on Monte Carlo cycle number 12300.\n",
      "DONE! Completed 12300 Monte Carlo cycles.\n",
      "CPU times: user 5min 39s, sys: 28.4 s, total: 6min 7s\n",
      "Wall time: 6min 4s\n"
     ]
    }
   ],
   "source": [
    "%%time\n",
    "multiplier = 10\n",
    "srtis.run_until(multiplier*n_steps_to_run)"
   ]
  },
  {
   "cell_type": "code",
   "execution_count": 21,
   "metadata": {
    "collapsed": false
   },
   "outputs": [],
   "source": [
    "storage.close()"
   ]
  },
  {
   "cell_type": "markdown",
   "metadata": {},
   "source": [
    "From here, we'll be doing the analysis of the SRTIS run."
   ]
  },
  {
   "cell_type": "code",
   "execution_count": 22,
   "metadata": {
    "collapsed": false
   },
   "outputs": [
    {
     "name": "stdout",
     "output_type": "stream",
     "text": [
      "CPU times: user 16.4 s, sys: 850 ms, total: 17.3 s\n",
      "Wall time: 17.3 s\n"
     ]
    }
   ],
   "source": [
    "%%time\n",
    "storage = paths.AnalysisStorage(\"srtis.nc\")\n",
    "scheme = storage.schemes[0]"
   ]
  },
  {
   "cell_type": "code",
   "execution_count": 23,
   "metadata": {
    "collapsed": false
   },
   "outputs": [
    {
     "name": "stdout",
     "output_type": "stream",
     "text": [
      "ms_outer_shooting ran 14.232% (expected 0.41%) of the cycles with acceptance 139/188 (73.94%)\n",
      "repex ran 38.986% (expected 3.66%) of the cycles with acceptance 155/515 (30.10%)\n",
      "shooting ran 23.467% (expected 3.66%) of the cycles with acceptance 227/310 (73.23%)\n",
      "minus ran 1.741% (expected 0.24%) of the cycles with acceptance 23/23 (100.00%)\n",
      "pathreversal ran 21.575% (expected 2.03%) of the cycles with acceptance 233/285 (81.75%)\n"
     ]
    }
   ],
   "source": [
    "scheme.move_summary(storage.steps)"
   ]
  },
  {
   "cell_type": "code",
   "execution_count": 24,
   "metadata": {
    "collapsed": false
   },
   "outputs": [
    {
     "name": "stdout",
     "output_type": "stream",
     "text": [
      "OneWayShootingMover Out C 0 ran 8.100% (expected 0.41%) of the cycles with acceptance 88/107 (82.24%)\n",
      "OneWayShootingMover Out C 2 ran 2.801% (expected 0.41%) of the cycles with acceptance 26/37 (70.27%)\n",
      "OneWayShootingMover Out B 0 ran 0.000% (expected 0.41%) of the cycles with acceptance 0/0 (nan%)\n",
      "OneWayShootingMover Out A 1 ran 1.968% (expected 0.41%) of the cycles with acceptance 21/26 (80.77%)\n",
      "OneWayShootingMover Out C 1 ran 2.498% (expected 0.41%) of the cycles with acceptance 23/33 (69.70%)\n",
      "OneWayShootingMover Out A 2 ran 3.785% (expected 0.41%) of the cycles with acceptance 34/50 (68.00%)\n",
      "OneWayShootingMover Out B 2 ran 2.422% (expected 0.41%) of the cycles with acceptance 18/32 (56.25%)\n",
      "OneWayShootingMover Out B 1 ran 0.757% (expected 0.41%) of the cycles with acceptance 6/10 (60.00%)\n",
      "OneWayShootingMover Out A 0 ran 1.136% (expected 0.41%) of the cycles with acceptance 11/15 (73.33%)\n"
     ]
    }
   ],
   "source": [
    "scheme.move_summary(storage.steps, 'shooting')"
   ]
  },
  {
   "cell_type": "code",
   "execution_count": 25,
   "metadata": {
    "collapsed": false
   },
   "outputs": [
    {
     "name": "stdout",
     "output_type": "stream",
     "text": [
      "SingleReplicaMinus ran 1.514% (expected 0.08%) of the cycles with acceptance 20/20 (100.00%)\n",
      "SingleReplicaMinus ran 0.000% (expected 0.08%) of the cycles with acceptance 0/0 (nan%)\n",
      "SingleReplicaMinus ran 0.227% (expected 0.08%) of the cycles with acceptance 3/3 (100.00%)\n"
     ]
    }
   ],
   "source": [
    "scheme.move_summary(storage.steps, 'minus')"
   ]
  },
  {
   "cell_type": "code",
   "execution_count": 26,
   "metadata": {
    "collapsed": false
   },
   "outputs": [
    {
     "name": "stdout",
     "output_type": "stream",
     "text": [
      "EnsembleHop Out A 2->[UnionEnsemble] ran 1.968% (expected 0.20%) of the cycles with acceptance 21/26 (80.77%)\n",
      "EnsembleHop Out B 2->Out B 1 ran 1.363% (expected 0.20%) of the cycles with acceptance 5/18 (27.78%)\n",
      "EnsembleHop Out A 1->Out A 0 ran 0.757% (expected 0.20%) of the cycles with acceptance 1/10 (10.00%)\n",
      "EnsembleHop Out B 0->Out B 1 ran 0.000% (expected 0.20%) of the cycles with acceptance 0/0 (nan%)\n",
      "EnsembleHop [UnionEnsemble]->Out C 2 ran 7.040% (expected 0.20%) of the cycles with acceptance 15/93 (16.13%)\n",
      "EnsembleHop [UnionEnsemble]->Out A 2 ran 5.602% (expected 0.20%) of the cycles with acceptance 20/74 (27.03%)\n",
      "EnsembleHop Out A 2->Out A 1 ran 1.968% (expected 0.20%) of the cycles with acceptance 8/26 (30.77%)\n",
      "EnsembleHop Out C 1->Out C 2 ran 1.060% (expected 0.20%) of the cycles with acceptance 4/14 (28.57%)\n",
      "EnsembleHop Out A 1->Out A 2 ran 0.757% (expected 0.20%) of the cycles with acceptance 8/10 (80.00%)\n",
      "EnsembleHop Out B 1->Out B 0 ran 0.379% (expected 0.20%) of the cycles with acceptance 0/5 (0.00%)\n",
      "EnsembleHop Out A 0->Out A 1 ran 0.379% (expected 0.20%) of the cycles with acceptance 1/5 (20.00%)\n",
      "EnsembleHop Out B 2->[UnionEnsemble] ran 1.363% (expected 0.20%) of the cycles with acceptance 18/18 (100.00%)\n",
      "EnsembleHop Out C 0->Out C 1 ran 4.012% (expected 0.20%) of the cycles with acceptance 6/53 (11.32%)\n",
      "EnsembleHop [UnionEnsemble]->Out B 2 ran 8.251% (expected 0.20%) of the cycles with acceptance 18/109 (16.51%)\n",
      "EnsembleHop Out C 2->[UnionEnsemble] ran 1.287% (expected 0.20%) of the cycles with acceptance 15/17 (88.24%)\n",
      "EnsembleHop Out C 2->Out C 1 ran 0.757% (expected 0.20%) of the cycles with acceptance 4/10 (40.00%)\n",
      "EnsembleHop Out C 1->Out C 0 ran 1.665% (expected 0.20%) of the cycles with acceptance 6/22 (27.27%)\n",
      "EnsembleHop Out B 1->Out B 2 ran 0.379% (expected 0.20%) of the cycles with acceptance 5/5 (100.00%)\n"
     ]
    }
   ],
   "source": [
    "scheme.move_summary(storage.steps, 'repex')"
   ]
  },
  {
   "cell_type": "code",
   "execution_count": 27,
   "metadata": {
    "collapsed": false
   },
   "outputs": [
    {
     "name": "stdout",
     "output_type": "stream",
     "text": [
      "PathReversal ran 5.678% (expected 0.20%) of the cycles with acceptance 75/75 (100.00%)\n",
      "PathReversal ran 7.343% (expected 0.20%) of the cycles with acceptance 97/97 (100.00%)\n",
      "PathReversal ran 1.363% (expected 0.20%) of the cycles with acceptance 11/18 (61.11%)\n",
      "PathReversal ran 0.606% (expected 0.20%) of the cycles with acceptance 8/8 (100.00%)\n",
      "PathReversal ran 0.000% (expected 0.20%) of the cycles with acceptance 0/0 (nan%)\n",
      "PathReversal ran 1.968% (expected 0.20%) of the cycles with acceptance 25/26 (96.15%)\n",
      "PathReversal ran 1.438% (expected 0.20%) of the cycles with acceptance 1/19 (5.26%)\n",
      "PathReversal ran 0.606% (expected 0.20%) of the cycles with acceptance 3/8 (37.50%)\n",
      "PathReversal ran 2.422% (expected 0.20%) of the cycles with acceptance 12/32 (37.50%)\n",
      "PathReversal ran 0.151% (expected 0.20%) of the cycles with acceptance 1/2 (50.00%)\n"
     ]
    }
   ],
   "source": [
    "scheme.move_summary(storage.steps, 'pathreversal')"
   ]
  },
  {
   "cell_type": "code",
   "execution_count": 28,
   "metadata": {
    "collapsed": false
   },
   "outputs": [
    {
     "name": "stdout",
     "output_type": "stream",
     "text": [
      "12301\n"
     ]
    }
   ],
   "source": [
    "replica = storage.samplesets[0].samples[0].replica\n",
    "ensemble_trace = paths.trace_ensembles_for_replica(replica, storage.steps)\n",
    "print len(ensemble_trace)"
   ]
  },
  {
   "cell_type": "code",
   "execution_count": 29,
   "metadata": {
    "collapsed": false
   },
   "outputs": [],
   "source": [
    "#repex_acceptance = {}\n",
    "#for mover in scheme.movers['repex']:\n",
    "#    acceptance = [scheme._mover_acceptance[key] for key in scheme._mover_acceptance if key[0] == mover]\n",
    "#    repex_acceptance[mover] = acceptance[0]\n",
    "#\n",
    "#scheme.build_balance_partners()\n",
    "#tagged_movers = []\n",
    "#for mover in repex_acceptance:\n",
    "#    if mover in tagged_movers:\n",
    "#        break\n",
    "#    name = mover.name\n",
    "#    acceptance = repex_acceptance[mover]\n",
    "#    acc = float(acceptance[0])/acceptance[1]\n",
    "#    bp_acceptance = repex_acceptance[scheme.balance_partners[mover][0]]\n",
    "#    bp_acc = float(bp_acceptance[0])/bp_acceptance[1]\n",
    "#    in_name = mover.input_ensembles[0].name\n",
    "#    out_name = mover.output_ensembles[0].name\n",
    "#    if (desired_table[out_name] > desired_table[in_name]):\n",
    "#        foo = in_name\n",
    "#        in_name = out_name\n",
    "#        out_name = foo\n",
    "#        foo = acc\n",
    "#        acc = bp_acc\n",
    "#        bp_acc = foo\n",
    "#        \n",
    "#    out_over_in = desired_table[out_name] / desired_table[in_name]\n",
    "#    in_over_out = desired_table[in_name] / desired_table[out_name]\n",
    "#\n",
    "#    if (in_name, out_name) not in tagged_movers:\n",
    "#        print \"{:.1%} {:.1%} {:.1%} {:s}\".format(acc, bp_acc, out_over_in, in_name + \"->\" + out_name)\n",
    "#    tagged_movers += [(in_name, out_name)]\n",
    "    "
   ]
  },
  {
   "cell_type": "code",
   "execution_count": 30,
   "metadata": {
    "collapsed": false
   },
   "outputs": [
    {
     "name": "stdout",
     "output_type": "stream",
     "text": [
      "0 : Out A 0\n",
      "1 : Out A 1\n",
      "2 : Out A 2\n",
      "3 : Out B 0\n",
      "4 : Out B 1\n",
      "5 : Out B 2\n",
      "6 : Out C 0\n",
      "7 : Out C 1\n",
      "8 : Out C 2\n",
      "9 : [UnionEnsemble]\n"
     ]
    }
   ],
   "source": [
    "srtis_ensembles = scheme.network.sampling_ensembles+scheme.network.special_ensembles['ms_outer'].keys()\n",
    "srtis_ensemble_numbers = {e : srtis_ensembles.index(e) for e in srtis_ensembles}\n",
    "# this next is just for pretty printing\n",
    "srtis_numbers_ensemble = {srtis_ensemble_numbers[e] : e for e in srtis_ensemble_numbers}\n",
    "for k in sorted(srtis_numbers_ensemble.keys()):\n",
    "    print k, \":\", srtis_numbers_ensemble[k].name"
   ]
  },
  {
   "cell_type": "code",
   "execution_count": 31,
   "metadata": {
    "collapsed": false
   },
   "outputs": [
    {
     "data": {
      "text/plain": [
       "[<matplotlib.lines.Line2D at 0x121302610>]"
      ]
     },
     "execution_count": 31,
     "metadata": {},
     "output_type": "execute_result"
    },
    {
     "data": {
      "image/png": "[encoded data removed]",
      "text/plain": [
       "<matplotlib.figure.Figure at 0x120dff6d0>"
      ]
     },
     "metadata": {},
     "output_type": "display_data"
    }
   ],
   "source": [
    "plt.plot([srtis_ensemble_numbers[e] for e in ensemble_trace])"
   ]
  },
  {
   "cell_type": "code",
   "execution_count": 32,
   "metadata": {
    "collapsed": false
   },
   "outputs": [
    {
     "data": {
      "text/plain": [
       "1"
      ]
     },
     "execution_count": 32,
     "metadata": {},
     "output_type": "execute_result"
    }
   ],
   "source": [
    "count = 0\n",
    "for i in range(len(ensemble_trace)-1):\n",
    "    [this_val, next_val] = [srtis_ensemble_numbers[ensemble_trace[k]] for k in [i,i+1]]\n",
    "    if this_val == 1 and next_val == 0:\n",
    "        count += 1\n",
    "count"
   ]
  },
  {
   "cell_type": "code",
   "execution_count": 33,
   "metadata": {
    "collapsed": false
   },
   "outputs": [],
   "source": [
    "hist_numbers = [srtis_ensemble_numbers[e] for e in ensemble_trace]\n",
    "bins = [i-0.5 for i in range(len(srtis_ensembles)+1)]"
   ]
  },
  {
   "cell_type": "code",
   "execution_count": 34,
   "metadata": {
    "collapsed": false
   },
   "outputs": [
    {
     "data": {
      "image/png": "[encoded data removed]",
      "text/plain": [
       "<matplotlib.figure.Figure at 0x120246b10>"
      ]
     },
     "metadata": {},
     "output_type": "display_data"
    }
   ],
   "source": [
    "plt.hist(hist_numbers, bins=bins);"
   ]
  },
  {
   "cell_type": "code",
   "execution_count": 35,
   "metadata": {
    "collapsed": false
   },
   "outputs": [],
   "source": [
    "import pandas as pd\n",
    "hist = paths.analysis.Histogram(bin_width=1.0, bin_range=[-0.5,9.5])\n",
    "colnames = {i : srtis_numbers_ensemble[i].name for i in range(len(srtis_ensembles))}\n",
    "df = pd.DataFrame(columns=[colnames[i] for i in colnames])"
   ]
  },
  {
   "cell_type": "code",
   "execution_count": 36,
   "metadata": {
    "collapsed": false,
    "scrolled": true
   },
   "outputs": [],
   "source": [
    "for i in range(len(hist_numbers)):\n",
    "    hist.add_data_to_histogram([hist_numbers[i]])\n",
    "    if i % 100 == 0:\n",
    "        normalized = hist.normalized()\n",
    "        local_df = pd.DataFrame([normalized.values()], index=[i], columns=[colnames[k] for k in normalized.keys()])\n",
    "        df = df.append(local_df)"
   ]
  },
  {
   "cell_type": "code",
   "execution_count": 37,
   "metadata": {
    "collapsed": false
   },
   "outputs": [
    {
     "data": {
      "image/png": "[encoded data removed]",
      "text/plain": [
       "<matplotlib.figure.Figure at 0x120dff990>"
      ]
     },
     "metadata": {},
     "output_type": "display_data"
    }
   ],
   "source": [
    "plt.pcolormesh(df.fillna(0.0));"
   ]
  },
  {
   "cell_type": "code",
   "execution_count": null,
   "metadata": {
    "collapsed": true
   },
   "outputs": [],
   "source": []
  },
  {
   "cell_type": "code",
   "execution_count": null,
   "metadata": {
    "collapsed": true
   },
   "outputs": [],
   "source": []
  }
 ],
 "metadata": {
  "kernelspec": {
   "display_name": "Python 2",
   "language": "python",
   "name": "python2"
  },
  "language_info": {
   "codemirror_mode": {
    "name": "ipython",
    "version": 2
   },
   "file_extension": ".py",
   "mimetype": "text/x-python",
   "name": "python",
   "nbconvert_exporter": "python",
   "pygments_lexer": "ipython2",
   "version": "2.7.11"
  }
 },
 "nbformat": 4,
 "nbformat_minor": 0
}

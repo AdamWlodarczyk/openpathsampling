{
 "cells": [
  {
   "cell_type": "markdown",
   "metadata": {},
   "source": [
    "# Single Replica TIS\n",
    "\n",
    "This notebook shows how to run single replica TIS move scheme. This assumes you can load engine, network, and initial sample from a previous calculation."
   ]
  },
  {
   "cell_type": "code",
   "execution_count": 1,
   "metadata": {
    "collapsed": false
   },
   "outputs": [],
   "source": [
    "%matplotlib inline\n",
    "import openpathsampling as paths\n",
    "import numpy as np\n",
    "import matplotlib.pyplot as plt"
   ]
  },
  {
   "cell_type": "code",
   "execution_count": 2,
   "metadata": {
    "collapsed": true
   },
   "outputs": [],
   "source": [
    "from openpathsampling.visualize import PathTreeBuilder, PathTreeBuilder\n",
    "from IPython.display import SVG, HTML\n",
    "\n",
    "def ipynb_visualize(movevis):\n",
    "    \"\"\"Default settings to show a movevis in an ipynb.\"\"\"\n",
    "    view = movevis.renderer\n",
    "    view.zoom = 1.5\n",
    "    view.scale_y = 18\n",
    "    view.scale_th = 20\n",
    "    view.font_size = 0.4\n",
    "    return view"
   ]
  },
  {
   "cell_type": "markdown",
   "metadata": {},
   "source": [
    "Open the storage and load things from it."
   ]
  },
  {
   "cell_type": "code",
   "execution_count": 3,
   "metadata": {
    "collapsed": false
   },
   "outputs": [],
   "source": [
    "#old_store = paths.AnalysisStorage(\"mstis.nc\")\n",
    "old_store = paths.Storage(\"mstis.nc\")  # if not actually doing analysis, but loading network, etc"
   ]
  },
  {
   "cell_type": "code",
   "execution_count": 4,
   "metadata": {
    "collapsed": false
   },
   "outputs": [],
   "source": [
    "network = old_store.networks[0]\n",
    "engine = old_store.engines[0]\n",
    "template = old_store.snapshots[0]"
   ]
  },
  {
   "cell_type": "code",
   "execution_count": 5,
   "metadata": {
    "collapsed": false
   },
   "outputs": [],
   "source": [
    "network.hist_args['max_lambda'] = { 'bin_width' : 0.02, 'bin_range' : (0.0, 0.5) }\n",
    "network.hist_args['pathlength'] = { 'bin_width' : 5, 'bin_range' : (0, 150) }\n",
    "#rate = network.rate_matrix(old_store.steps)"
   ]
  },
  {
   "cell_type": "markdown",
   "metadata": {},
   "source": [
    "One of the points of SRTIS is that we use a bias (which comes from an estimate of the crossing probability) in order to improve our sampling."
   ]
  },
  {
   "cell_type": "code",
   "execution_count": 6,
   "metadata": {
    "collapsed": false
   },
   "outputs": [],
   "source": [
    "# this is the normal way you'd get this table\n",
    "#table = {}\n",
    "#for t in network.sampling_transitions:\n",
    "#    for ens, lambda_ens in zip(t.ensembles, [0.04, 0.09, 0.15]):\n",
    "#        table[ens] = t.tcp(lambda_ens)\n",
    "#for ens in network.special_ensembles['ms_outer'].keys():\n",
    "#    table[ens] = 0.0\n",
    "#    for t in network.sampling_transitions:\n",
    "#        table[ens] += t.tcp(0.25)\n",
    "#    table[ens] *= len(network.special_ensembles['ms_outer'].keys())\n",
    "#    # TODO: Justify the math behind that. Also, run it a bunch more times.\n",
    "    \n",
    "# However, we usually have a short (bad statistics) run in \"mstis.nc\"\n",
    "# Here are results that I got from a 10k MC step run\n",
    "#desired_table = {\n",
    "#    \"Out A 0\" : 1.0,\n",
    "#    \"Out A 1\" : 0.13631671445062318,\n",
    "#    \"Out A 2\" : 0.024940771341558789,\n",
    "#    \"Out B 0\" : 1.0,\n",
    "#    \"Out B 1\" : 0.17104343305339545,\n",
    "#    \"Out B 2\" : 0.03927673242602249,\n",
    "#    \"Out C 0\" : 1.0,\n",
    "#    \"Out C 1\" : 0.19353622940592666,\n",
    "#    \"Out C 2\" : 0.066440692846493191,\n",
    "#    \"[UnionEnsemble]\" : (0.0030508557603910859+0.0087422825961122538+0.017858280680711457)*3\n",
    "#} # Union is sum of outermost vals for all 3 versions, times the number of versions\n",
    "\n",
    "# Here are results that I got from a 20k MC step run\n",
    "desired_table = {\n",
    "    \"Out A 0\" : 1.0,\n",
    "    \"Out A 1\" : 0.13293104100673198,\n",
    "    \"Out A 2\" : 0.044370838092911397,\n",
    "    \"Out B 0\" : 1.0,\n",
    "    \"Out B 1\" : 0.13846029208307947,\n",
    "    \"Out B 2\" : 0.042622152070289694,\n",
    "    \"Out C 0\" : 1.0,\n",
    "    \"Out C 1\" : 0.19485705066078274,\n",
    "    \"Out C 2\" : 0.053373003923696649,\n",
    "    \"[UnionEnsemble]\" : (0.021975696374764188 + 0.021955804935886884 + 0.029175949467020165) / 3\n",
    "} # Union is average of all 3 version, divided by the number of possible initial states (assuming equal prob)\n",
    "\n",
    "\n",
    "# now we'll set `table` based on `desired_table`\n",
    "table = {}\n",
    "my_ensembles = network.sampling_ensembles + network.special_ensembles['ms_outer'].keys()\n",
    "for ens in my_ensembles:\n",
    "    table[ens] = desired_table[ens.name]"
   ]
  },
  {
   "cell_type": "code",
   "execution_count": 7,
   "metadata": {
    "collapsed": false
   },
   "outputs": [],
   "source": [
    "bias = paths.BiasEnsembleTable(table)"
   ]
  },
  {
   "cell_type": "markdown",
   "metadata": {},
   "source": [
    "Here we actually set up the SRTIS move scheme for the given network. It only requires one line:"
   ]
  },
  {
   "cell_type": "code",
   "execution_count": 8,
   "metadata": {
    "collapsed": false
   },
   "outputs": [],
   "source": [
    "scheme = paths.SRTISScheme(network, bias=bias, engine=engine)"
   ]
  },
  {
   "cell_type": "markdown",
   "metadata": {},
   "source": [
    "Now we'll visualize the SRTIS move scheme."
   ]
  },
  {
   "cell_type": "code",
   "execution_count": 9,
   "metadata": {
    "collapsed": false,
    "scrolled": false
   },
   "outputs": [],
   "source": [
    "movevis = paths.visualize.MoveTreeBuilder()\n",
    "#movevis.mover(scheme.move_decision_tree(), network.all_ensembles)\n",
    "#SVG(ipynb_visualize(movevis).to_svg())"
   ]
  },
  {
   "cell_type": "markdown",
   "metadata": {},
   "source": [
    "Next we need to set up an appropriate single-replica initial sample set. We'll take the last version of from one of the outer TIS ensembles."
   ]
  },
  {
   "cell_type": "code",
   "execution_count": 10,
   "metadata": {
    "collapsed": false
   },
   "outputs": [],
   "source": [
    "final_samp0 = old_store.steps[len(old_store.steps)-1].active[network.sampling_ensembles[-1]]"
   ]
  },
  {
   "cell_type": "code",
   "execution_count": 11,
   "metadata": {
    "collapsed": false
   },
   "outputs": [],
   "source": [
    "sset = paths.SampleSet([final_samp0])"
   ]
  },
  {
   "cell_type": "markdown",
   "metadata": {},
   "source": [
    "Finally, we set up the new storage file and the new simulation. "
   ]
  },
  {
   "cell_type": "code",
   "execution_count": 12,
   "metadata": {
    "collapsed": false
   },
   "outputs": [],
   "source": [
    "storage = paths.Storage(\"srtis.nc\", \"w\", template)"
   ]
  },
  {
   "cell_type": "code",
   "execution_count": 13,
   "metadata": {
    "collapsed": false
   },
   "outputs": [],
   "source": [
    "srtis = paths.PathSampling(\n",
    "    storage=storage,\n",
    "    globalstate=sset,\n",
    "    move_scheme=scheme\n",
    ")"
   ]
  },
  {
   "cell_type": "code",
   "execution_count": 14,
   "metadata": {
    "collapsed": false
   },
   "outputs": [
    {
     "name": "stdout",
     "output_type": "stream",
     "text": [
      "1230\n"
     ]
    }
   ],
   "source": [
    "n_steps_to_run = int(scheme.n_steps_for_trials(\n",
    "        mover=scheme.movers['minus'][0], \n",
    "        n_attempts=1\n",
    "    ))\n",
    "print n_steps_to_run"
   ]
  },
  {
   "cell_type": "code",
   "execution_count": 15,
   "metadata": {
    "collapsed": true
   },
   "outputs": [],
   "source": [
    "# logging creates ops_output.log file with details of what the calculation is doing\n",
    "import logging.config\n",
    "logging.config.fileConfig(\"logging.conf\", disable_existing_loggers=False)"
   ]
  },
  {
   "cell_type": "code",
   "execution_count": 16,
   "metadata": {
    "collapsed": false
   },
   "outputs": [
    {
     "name": "stdout",
     "output_type": "stream",
     "text": [
      "Working on Monte Carlo cycle number 123000.\n",
      "DONE! Completed 123000 Monte Carlo cycles.\n",
      "CPU times: user 1h 6min 3s, sys: 4min 10s, total: 1h 10min 13s\n",
      "Wall time: 1h 8min 42s\n"
     ]
    }
   ],
   "source": [
    "%%time\n",
    "multiplier = 100\n",
    "srtis.run_until(multiplier*n_steps_to_run)"
   ]
  },
  {
   "cell_type": "code",
   "execution_count": 17,
   "metadata": {
    "collapsed": false
   },
   "outputs": [],
   "source": [
    "storage.close()"
   ]
  },
  {
   "cell_type": "markdown",
   "metadata": {},
   "source": [
    "From here, we'll be doing the analysis of the SRTIS run."
   ]
  },
  {
   "cell_type": "code",
   "execution_count": 19,
   "metadata": {
    "collapsed": false
   },
   "outputs": [
    {
     "name": "stdout",
     "output_type": "stream",
     "text": [
      "CPU times: user 23min 10s, sys: 36.9 s, total: 23min 47s\n",
      "Wall time: 29min 44s\n"
     ]
    }
   ],
   "source": [
    "%%time\n",
    "storage = paths.AnalysisStorage(\"srtis.nc\")\n",
    "scheme = storage.schemes[0]"
   ]
  },
  {
   "cell_type": "code",
   "execution_count": 20,
   "metadata": {
    "collapsed": false
   },
   "outputs": [
    {
     "name": "stdout",
     "output_type": "stream",
     "text": [
      "ms_outer_shooting ran 20.818% (expected 0.41%) of the cycles with acceptance 2026/2840 (71.34%)\n",
      "repex ran 43.850% (expected 3.66%) of the cycles with acceptance 770/5982 (12.87%)\n",
      "shooting ran 16.112% (expected 3.66%) of the cycles with acceptance 1638/2198 (74.52%)\n",
      "minus ran 1.129% (expected 0.24%) of the cycles with acceptance 147/154 (95.45%)\n",
      "pathreversal ran 18.091% (expected 2.03%) of the cycles with acceptance 2275/2468 (92.18%)\n"
     ]
    }
   ],
   "source": [
    "scheme.move_summary(storage.steps)"
   ]
  },
  {
   "cell_type": "code",
   "execution_count": 21,
   "metadata": {
    "collapsed": false
   },
   "outputs": [
    {
     "name": "stdout",
     "output_type": "stream",
     "text": [
      "OneWayShootingMover Out A 0 ran 4.369% (expected 0.41%) of the cycles with acceptance 496/596 (83.22%)\n",
      "OneWayShootingMover Out B 0 ran 0.029% (expected 0.41%) of the cycles with acceptance 3/4 (75.00%)\n",
      "OneWayShootingMover Out B 1 ran 0.389% (expected 0.41%) of the cycles with acceptance 42/53 (79.25%)\n",
      "OneWayShootingMover Out A 1 ran 2.258% (expected 0.41%) of the cycles with acceptance 241/308 (78.25%)\n",
      "OneWayShootingMover Out B 2 ran 1.305% (expected 0.41%) of the cycles with acceptance 111/178 (62.36%)\n",
      "OneWayShootingMover Out C 1 ran 1.481% (expected 0.41%) of the cycles with acceptance 153/202 (75.74%)\n",
      "OneWayShootingMover Out C 2 ran 3.519% (expected 0.41%) of the cycles with acceptance 331/480 (68.96%)\n",
      "OneWayShootingMover Out C 0 ran 0.579% (expected 0.41%) of the cycles with acceptance 71/79 (89.87%)\n",
      "OneWayShootingMover Out A 2 ran 2.184% (expected 0.41%) of the cycles with acceptance 190/298 (63.76%)\n"
     ]
    }
   ],
   "source": [
    "scheme.move_summary(storage.steps, 'shooting')"
   ]
  },
  {
   "cell_type": "code",
   "execution_count": 22,
   "metadata": {
    "collapsed": false
   },
   "outputs": [
    {
     "name": "stdout",
     "output_type": "stream",
     "text": [
      "SingleReplicaMinus ran 1.048% (expected 0.08%) of the cycles with acceptance 137/143 (95.80%)\n",
      "SingleReplicaMinus ran 0.073% (expected 0.08%) of the cycles with acceptance 10/10 (100.00%)\n",
      "SingleReplicaMinus ran 0.007% (expected 0.08%) of the cycles with acceptance 0/1 (0.00%)\n"
     ]
    }
   ],
   "source": [
    "scheme.move_summary(storage.steps, 'minus')"
   ]
  },
  {
   "cell_type": "code",
   "execution_count": 23,
   "metadata": {
    "collapsed": false
   },
   "outputs": [
    {
     "name": "stdout",
     "output_type": "stream",
     "text": [
      "EnsembleHop Out C 2->Out C 1 ran 1.613% (expected 0.20%) of the cycles with acceptance 43/220 (19.55%)\n",
      "EnsembleHop Out A 2->[UnionEnsemble] ran 1.012% (expected 0.20%) of the cycles with acceptance 72/138 (52.17%)\n",
      "EnsembleHop Out B 2->[UnionEnsemble] ran 0.667% (expected 0.20%) of the cycles with acceptance 65/91 (71.43%)\n",
      "EnsembleHop Out B 0->Out B 1 ran 0.066% (expected 0.20%) of the cycles with acceptance 9/9 (100.00%)\n",
      "EnsembleHop Out B 1->Out B 2 ran 0.198% (expected 0.20%) of the cycles with acceptance 26/27 (96.30%)\n",
      "EnsembleHop [UnionEnsemble]->Out C 2 ran 9.940% (expected 0.20%) of the cycles with acceptance 87/1356 (6.42%)\n",
      "EnsembleHop [UnionEnsemble]->Out B 2 ran 9.940% (expected 0.20%) of the cycles with acceptance 66/1356 (4.87%)\n",
      "EnsembleHop [UnionEnsemble]->Out A 2 ran 10.607% (expected 0.20%) of the cycles with acceptance 71/1447 (4.91%)\n",
      "EnsembleHop Out C 1->Out C 0 ran 0.748% (expected 0.20%) of the cycles with acceptance 20/102 (19.61%)\n",
      "EnsembleHop Out A 1->Out A 2 ran 1.129% (expected 0.20%) of the cycles with acceptance 35/154 (22.73%)\n",
      "EnsembleHop Out C 1->Out C 2 ran 0.733% (expected 0.20%) of the cycles with acceptance 43/100 (43.00%)\n",
      "EnsembleHop Out C 2->[UnionEnsemble] ran 1.437% (expected 0.20%) of the cycles with acceptance 87/196 (44.39%)\n",
      "EnsembleHop Out B 1->Out B 0 ran 0.257% (expected 0.20%) of the cycles with acceptance 9/35 (25.71%)\n",
      "EnsembleHop Out A 0->Out A 1 ran 2.184% (expected 0.20%) of the cycles with acceptance 28/298 (9.40%)\n",
      "EnsembleHop Out A 1->Out A 0 ran 1.210% (expected 0.20%) of the cycles with acceptance 28/165 (16.97%)\n",
      "EnsembleHop Out A 2->Out A 1 ran 1.078% (expected 0.20%) of the cycles with acceptance 35/147 (23.81%)\n",
      "EnsembleHop Out B 2->Out B 1 ran 0.718% (expected 0.20%) of the cycles with acceptance 26/98 (26.53%)\n",
      "EnsembleHop Out C 0->Out C 1 ran 0.315% (expected 0.20%) of the cycles with acceptance 20/43 (46.51%)\n"
     ]
    }
   ],
   "source": [
    "scheme.move_summary(storage.steps, 'repex')"
   ]
  },
  {
   "cell_type": "code",
   "execution_count": 24,
   "metadata": {
    "collapsed": false
   },
   "outputs": [
    {
     "name": "stdout",
     "output_type": "stream",
     "text": [
      "PathReversal ran 0.667% (expected 0.20%) of the cycles with acceptance 84/91 (92.31%)\n",
      "PathReversal ran 1.657% (expected 0.20%) of the cycles with acceptance 168/226 (74.34%)\n",
      "PathReversal ran 1.144% (expected 0.20%) of the cycles with acceptance 144/156 (92.31%)\n",
      "PathReversal ran 2.104% (expected 0.20%) of the cycles with acceptance 286/287 (99.65%)\n",
      "PathReversal ran 0.029% (expected 0.20%) of the cycles with acceptance 1/4 (25.00%)\n",
      "PathReversal ran 0.242% (expected 0.20%) of the cycles with acceptance 17/33 (51.52%)\n",
      "PathReversal ran 0.982% (expected 0.20%) of the cycles with acceptance 86/134 (64.18%)\n",
      "PathReversal ran 0.740% (expected 0.20%) of the cycles with acceptance 59/101 (58.42%)\n",
      "PathReversal ran 0.279% (expected 0.20%) of the cycles with acceptance 32/38 (84.21%)\n",
      "PathReversal ran 10.248% (expected 0.20%) of the cycles with acceptance 1398/1398 (100.00%)\n"
     ]
    }
   ],
   "source": [
    "scheme.move_summary(storage.steps, 'pathreversal')"
   ]
  },
  {
   "cell_type": "code",
   "execution_count": 25,
   "metadata": {
    "collapsed": false
   },
   "outputs": [
    {
     "name": "stdout",
     "output_type": "stream",
     "text": [
      "123001\n"
     ]
    }
   ],
   "source": [
    "replica = storage.samplesets[0].samples[0].replica\n",
    "ensemble_trace = paths.trace_ensembles_for_replica(replica, storage.steps)\n",
    "print len(ensemble_trace)"
   ]
  },
  {
   "cell_type": "code",
   "execution_count": 26,
   "metadata": {
    "collapsed": false
   },
   "outputs": [
    {
     "name": "stdout",
     "output_type": "stream",
     "text": [
      "43.0% 19.5% 27.4% Out C 1->Out C 2\n",
      "52.2% 4.9% 18.3% Out A 2->[UnionEnsemble]\n",
      "71.4% 4.9% 19.1% Out B 2->[UnionEnsemble]\n",
      "100.0% 25.7% 13.8% Out B 0->Out B 1\n",
      "96.3% 26.5% 30.8% Out B 1->Out B 2\n",
      "44.4% 6.4% 15.2% Out C 2->[UnionEnsemble]\n",
      "46.5% 19.6% 19.5% Out C 0->Out C 1\n",
      "22.7% 23.8% 33.4% Out A 1->Out A 2\n",
      "9.4% 17.0% 13.3% Out A 0->Out A 1\n"
     ]
    }
   ],
   "source": [
    "repex_acceptance = {}\n",
    "for mover in scheme.movers['repex']:\n",
    "    acceptance = [scheme._mover_acceptance[key] for key in scheme._mover_acceptance if key[0] == mover]\n",
    "    repex_acceptance[mover] = acceptance[0]\n",
    "\n",
    "scheme.build_balance_partners()\n",
    "tagged_movers = []\n",
    "for mover in repex_acceptance:\n",
    "    if mover in tagged_movers:\n",
    "        break\n",
    "    name = mover.name\n",
    "    acceptance = repex_acceptance[mover]\n",
    "    acc = float(acceptance[0])/acceptance[1]\n",
    "    bp_acceptance = repex_acceptance[scheme.balance_partners[mover][0]]\n",
    "    bp_acc = float(bp_acceptance[0])/bp_acceptance[1]\n",
    "    in_name = mover.input_ensembles[0].name\n",
    "    out_name = mover.output_ensembles[0].name\n",
    "    if (desired_table[out_name] > desired_table[in_name]):\n",
    "        foo = in_name\n",
    "        in_name = out_name\n",
    "        out_name = foo\n",
    "        foo = acc\n",
    "        acc = bp_acc\n",
    "        bp_acc = foo\n",
    "        \n",
    "    out_over_in = desired_table[out_name] / desired_table[in_name]\n",
    "    in_over_out = desired_table[in_name] / desired_table[out_name]\n",
    "\n",
    "    if (in_name, out_name) not in tagged_movers:\n",
    "        print \"{:.1%} {:.1%} {:.1%} {:s}\".format(acc, bp_acc, out_over_in, in_name + \"->\" + out_name)\n",
    "    tagged_movers += [(in_name, out_name)]\n",
    "    "
   ]
  },
  {
   "cell_type": "code",
   "execution_count": 27,
   "metadata": {
    "collapsed": false
   },
   "outputs": [
    {
     "name": "stdout",
     "output_type": "stream",
     "text": [
      "0 : Out B 0\n",
      "1 : Out B 1\n",
      "2 : Out B 2\n",
      "3 : Out C 0\n",
      "4 : Out C 1\n",
      "5 : Out C 2\n",
      "6 : Out A 0\n",
      "7 : Out A 1\n",
      "8 : Out A 2\n",
      "9 : [UnionEnsemble]\n"
     ]
    }
   ],
   "source": [
    "srtis_ensembles = scheme.network.sampling_ensembles+scheme.network.special_ensembles['ms_outer'].keys()\n",
    "srtis_ensemble_numbers = {e : srtis_ensembles.index(e) for e in srtis_ensembles}\n",
    "# this next is just for pretty printing\n",
    "srtis_numbers_ensemble = {srtis_ensemble_numbers[e] : e for e in srtis_ensemble_numbers}\n",
    "for k in sorted(srtis_numbers_ensemble.keys()):\n",
    "    print k, \":\", srtis_numbers_ensemble[k].name"
   ]
  },
  {
   "cell_type": "code",
   "execution_count": 28,
   "metadata": {
    "collapsed": false
   },
   "outputs": [
    {
     "data": {
      "text/plain": [
       "[<matplotlib.lines.Line2D at 0x16fcbea10>]"
      ]
     },
     "execution_count": 28,
     "metadata": {},
     "output_type": "execute_result"
    },
    {
     "data": {
      "image/png": "[encoded data removed]",
      "text/plain": [
       "<matplotlib.figure.Figure at 0x17e59c1d0>"
      ]
     },
     "metadata": {},
     "output_type": "display_data"
    }
   ],
   "source": [
    "plt.plot([srtis_ensemble_numbers[e] for e in ensemble_trace])"
   ]
  },
  {
   "cell_type": "code",
   "execution_count": 29,
   "metadata": {
    "collapsed": false
   },
   "outputs": [
    {
     "data": {
      "text/plain": [
       "9"
      ]
     },
     "execution_count": 29,
     "metadata": {},
     "output_type": "execute_result"
    }
   ],
   "source": [
    "count = 0\n",
    "for i in range(len(ensemble_trace)-1):\n",
    "    [this_val, next_val] = [srtis_ensemble_numbers[ensemble_trace[k]] for k in [i,i+1]]\n",
    "    if this_val == 1 and next_val == 0:\n",
    "        count += 1\n",
    "count"
   ]
  },
  {
   "cell_type": "code",
   "execution_count": 30,
   "metadata": {
    "collapsed": false
   },
   "outputs": [],
   "source": [
    "hist_numbers = [srtis_ensemble_numbers[e] for e in ensemble_trace]\n",
    "bins = [i-0.5 for i in range(len(srtis_ensembles)+1)]"
   ]
  },
  {
   "cell_type": "code",
   "execution_count": 31,
   "metadata": {
    "collapsed": false
   },
   "outputs": [
    {
     "data": {
      "image/png": "[encoded data removed]",
      "text/plain": [
       "<matplotlib.figure.Figure at 0x175e4eb50>"
      ]
     },
     "metadata": {},
     "output_type": "display_data"
    }
   ],
   "source": [
    "plt.hist(hist_numbers, bins=bins);"
   ]
  },
  {
   "cell_type": "code",
   "execution_count": 32,
   "metadata": {
    "collapsed": false
   },
   "outputs": [],
   "source": [
    "import pandas as pd\n",
    "hist = paths.analysis.Histogram(bin_width=1.0, bin_range=[-0.5,9.5])\n",
    "colnames = {i : srtis_numbers_ensemble[i].name for i in range(len(srtis_ensembles))}\n",
    "df = pd.DataFrame(columns=[colnames[i] for i in colnames])"
   ]
  },
  {
   "cell_type": "code",
   "execution_count": 33,
   "metadata": {
    "collapsed": false,
    "scrolled": true
   },
   "outputs": [],
   "source": [
    "for i in range(len(hist_numbers)):\n",
    "    hist.add_data_to_histogram([hist_numbers[i]])\n",
    "    if i % 100 == 0:\n",
    "        normalized = hist.normalized()\n",
    "        local_df = pd.DataFrame([normalized.values()], index=[i], columns=[colnames[k] for k in normalized.keys()])\n",
    "        df = df.append(local_df)"
   ]
  },
  {
   "cell_type": "code",
   "execution_count": 34,
   "metadata": {
    "collapsed": false
   },
   "outputs": [
    {
     "data": {
      "image/png": "[encoded data removed]",
      "text/plain": [
       "<matplotlib.figure.Figure at 0x13fde2d10>"
      ]
     },
     "metadata": {},
     "output_type": "display_data"
    }
   ],
   "source": [
    "plt.pcolormesh(df.fillna(0.0));"
   ]
  },
  {
   "cell_type": "code",
   "execution_count": null,
   "metadata": {
    "collapsed": true
   },
   "outputs": [],
   "source": []
  }
 ],
 "metadata": {
  "kernelspec": {
   "display_name": "Python 2",
   "language": "python",
   "name": "python2"
  },
  "language_info": {
   "codemirror_mode": {
    "name": "ipython",
    "version": 2
   },
   "file_extension": ".py",
   "mimetype": "text/x-python",
   "name": "python",
   "nbconvert_exporter": "python",
   "pygments_lexer": "ipython2",
   "version": "2.7.11"
  }
 },
 "nbformat": 4,
 "nbformat_minor": 0
}

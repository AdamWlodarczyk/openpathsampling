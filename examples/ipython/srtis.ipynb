{
 "cells": [
  {
   "cell_type": "markdown",
   "metadata": {},
   "source": [
    "# Single Replica TIS\n",
    "\n",
    "This notebook shows how to run single replica TIS move scheme. This assumes you can load engine, network, and initial sample from a previous calculation."
   ]
  },
  {
   "cell_type": "code",
   "execution_count": 29,
   "metadata": {
    "collapsed": false
   },
   "outputs": [],
   "source": [
    "%matplotlib inline\n",
    "import openpathsampling as paths\n",
    "import numpy as np\n",
    "import matplotlib.pyplot as plt"
   ]
  },
  {
   "cell_type": "code",
   "execution_count": 2,
   "metadata": {
    "collapsed": true
   },
   "outputs": [],
   "source": [
    "from openpathsampling.visualize import PathTreeBuilder, PathTreeBuilder\n",
    "from IPython.display import SVG, HTML\n",
    "\n",
    "def ipynb_visualize(movevis):\n",
    "    \"\"\"Default settings to show a movevis in an ipynb.\"\"\"\n",
    "    view = movevis.renderer\n",
    "    view.zoom = 1.5\n",
    "    view.scale_y = 18\n",
    "    view.scale_th = 20\n",
    "    view.font_size = 0.4\n",
    "    return view"
   ]
  },
  {
   "cell_type": "markdown",
   "metadata": {},
   "source": [
    "Open the storage and load things from it."
   ]
  },
  {
   "cell_type": "code",
   "execution_count": 3,
   "metadata": {
    "collapsed": false
   },
   "outputs": [],
   "source": [
    "old_store = paths.AnalysisStorage(\"mstis.nc\")"
   ]
  },
  {
   "cell_type": "code",
   "execution_count": 4,
   "metadata": {
    "collapsed": false
   },
   "outputs": [],
   "source": [
    "network = old_store.networks[0]\n",
    "engine = old_store.engines[0]\n",
    "template = old_store.snapshots[0]"
   ]
  },
  {
   "cell_type": "code",
   "execution_count": 5,
   "metadata": {
    "collapsed": false
   },
   "outputs": [],
   "source": [
    "network.hist_args['max_lambda'] = { 'bin_width' : 0.02, 'bin_range' : (0.0, 0.5) }\n",
    "network.hist_args['pathlength'] = { 'bin_width' : 5, 'bin_range' : (0, 150) }\n",
    "rate = network.rate_matrix(old_store)"
   ]
  },
  {
   "cell_type": "code",
   "execution_count": 6,
   "metadata": {
    "collapsed": false
   },
   "outputs": [],
   "source": [
    "# this is the normal way you'd get this table\n",
    "table = {}\n",
    "for t in network.sampling_transitions:\n",
    "    for ens, lambda_ens in zip(t.ensembles, [0.04, 0.09, 0.15]):\n",
    "        table[ens] = t.tcp(lambda_ens)\n",
    "for ens in network.special_ensembles['ms_outer'].keys():\n",
    "    table[ens] = t.tcp(0.25)\n",
    "    \n",
    "# However, we usually have a short run in \"mstis.nc\"\n",
    "# Here are results that I got from a 10k MC step run\n",
    "desired_table = {\n",
    "    \"Out A 0\" : 1.0,\n",
    "    \"Out A 1\" : 0.173309694861,\n",
    "    \"Out A 2\" : 0.0313583663237,\n",
    "    \"Out B 0\" : 1.0,\n",
    "    \"Out B 1\" : 0.160890328216,\n",
    "    \"Out B 2\" : 0.051973864353,\n",
    "    \"Out C 0\" : 1.0,\n",
    "    \"Out C 1\" : 0.199477413032,\n",
    "    \"Out C 2\" : 0.0510981189435,\n",
    "    \"[UnionEnsemble]\" : 0.00340679708336\n",
    "}\n",
    "# now we'll fix `table` to `desired_table`\n",
    "table = {}\n",
    "my_ensembles = network.sampling_ensembles + network.special_ensembles['ms_outer'].keys()\n",
    "for ens in my_ensembles:\n",
    "    table[ens] = desired_table[ens.name]"
   ]
  },
  {
   "cell_type": "code",
   "execution_count": 7,
   "metadata": {
    "collapsed": false
   },
   "outputs": [],
   "source": [
    "bias = paths.BiasEnsembleTable(table)"
   ]
  },
  {
   "cell_type": "code",
   "execution_count": 8,
   "metadata": {
    "collapsed": false
   },
   "outputs": [
    {
     "name": "stdout",
     "output_type": "stream",
     "text": [
      "{<openpathsampling.ensemble.TISEnsemble object at 0x111490e10>: 1.0, <openpathsampling.ensemble.TISEnsemble object at 0x1114b0890>: 0.051973864353, <openpathsampling.ensemble.TISEnsemble object at 0x110fac6d0>: 1.0, <openpathsampling.ensemble.TISEnsemble object at 0x110ee87d0>: 0.0313583663237, <openpathsampling.ensemble.TISEnsemble object at 0x1114a8550>: 0.173309694861, <openpathsampling.ensemble.TISEnsemble object at 0x1114b0990>: 0.160890328216, <openpathsampling.ensemble.TISEnsemble object at 0x1114b0390>: 0.199477413032, <openpathsampling.ensemble.UnionEnsemble object at 0x1114b0d90>: 0.00340679708336, <openpathsampling.ensemble.TISEnsemble object at 0x110c481d0>: 0.0510981189435, <openpathsampling.ensemble.TISEnsemble object at 0x1114c1d50>: 1.0}\n"
     ]
    }
   ],
   "source": [
    "print table"
   ]
  },
  {
   "cell_type": "code",
   "execution_count": 9,
   "metadata": {
    "collapsed": false
   },
   "outputs": [
    {
     "name": "stdout",
     "output_type": "stream",
     "text": [
      "<openpathsampling.bias_function.BiasEnsembleTable object at 0x119d06890>\n"
     ]
    }
   ],
   "source": [
    "print bias"
   ]
  },
  {
   "cell_type": "markdown",
   "metadata": {},
   "source": [
    "Here we actually set up the SRTIS move scheme for the given network. It only requires one line:"
   ]
  },
  {
   "cell_type": "code",
   "execution_count": 10,
   "metadata": {
    "collapsed": false
   },
   "outputs": [],
   "source": [
    "scheme = paths.SRTISScheme(network, bias)"
   ]
  },
  {
   "cell_type": "markdown",
   "metadata": {},
   "source": [
    "Now we'll visualize the SRTIS move scheme."
   ]
  },
  {
   "cell_type": "code",
   "execution_count": 11,
   "metadata": {
    "collapsed": false,
    "scrolled": false
   },
   "outputs": [
    {
     "data": {
      "image/svg+xml": [
       "<svg baseProfile=\"full\" height=\"3726.0px\" version=\"1.1\" width=\"1206.0px\" xmlns=\"http://www.w3.org/2000/svg\" xmlns:ev=\"http://www.w3.org/2001/xml-events\" xmlns:xlink=\"http://www.w3.org/1999/xlink\"><defs/><text alignment-baseline=\"middle\" fill=\"black\" font-family=\"Futura\" font-size=\"10.8\" text-anchor=\"start\" transform=\"translate(324.0 122.85)rotate(270)\" x=\"0\" y=\"0\">[A] Out A 0</text><text alignment-baseline=\"middle\" fill=\"black\" font-family=\"Futura\" font-size=\"10.8\" text-anchor=\"start\" transform=\"translate(360.0 122.85)rotate(270)\" x=\"0\" y=\"0\">[B] Out A 1</text><text alignment-baseline=\"middle\" fill=\"black\" font-family=\"Futura\" font-size=\"10.8\" text-anchor=\"start\" transform=\"translate(396.0 122.85)rotate(270)\" x=\"0\" y=\"0\">[C] Out A 2</text><text alignment-baseline=\"middle\" fill=\"black\" font-family=\"Futura\" font-size=\"10.8\" text-anchor=\"start\" transform=\"translate(432.0 122.85)rotate(270)\" x=\"0\" y=\"0\">[D] Out C 0</text><text alignment-baseline=\"middle\" fill=\"black\" font-family=\"Futura\" font-size=\"10.8\" text-anchor=\"start\" transform=\"translate(468.0 122.85)rotate(270)\" x=\"0\" y=\"0\">[E] Out C 1</text><text alignment-baseline=\"middle\" fill=\"black\" font-family=\"Futura\" font-size=\"10.8\" text-anchor=\"start\" transform=\"translate(504.0 122.85)rotate(270)\" x=\"0\" y=\"0\">[F] Out C 2</text><text alignment-baseline=\"middle\" fill=\"black\" font-family=\"Futura\" font-size=\"10.8\" text-anchor=\"start\" transform=\"translate(540.0 122.85)rotate(270)\" x=\"0\" y=\"0\">[G] Out B 0</text><text alignment-baseline=\"middle\" fill=\"black\" font-family=\"Futura\" font-size=\"10.8\" text-anchor=\"start\" transform=\"translate(576.0 122.85)rotate(270)\" x=\"0\" y=\"0\">[H] Out B 1</text><text alignment-baseline=\"middle\" fill=\"black\" font-family=\"Futura\" font-size=\"10.8\" text-anchor=\"start\" transform=\"translate(612.0 122.85)rotate(270)\" x=\"0\" y=\"0\">[I] Out B 2</text><text alignment-baseline=\"middle\" fill=\"black\" font-family=\"Futura\" font-size=\"10.8\" text-anchor=\"start\" transform=\"translate(648.0 122.85)rotate(270)\" x=\"0\" y=\"0\">[J] [UnionEnsemble]</text><text alignment-baseline=\"middle\" fill=\"black\" font-family=\"Futura\" font-size=\"10.8\" text-anchor=\"start\" transform=\"translate(684.0 122.85)rotate(270)\" x=\"0\" y=\"0\">[K] [MinusInterfaceEnsemble]</text><text alignment-baseline=\"middle\" fill=\"black\" font-family=\"Futura\" font-size=\"10.8\" text-anchor=\"start\" transform=\"translate(720.0 122.85)rotate(270)\" x=\"0\" y=\"0\">[L] [MinusInterfaceEnsemble]</text><text alignment-baseline=\"middle\" fill=\"black\" font-family=\"Futura\" font-size=\"10.8\" text-anchor=\"start\" transform=\"translate(756.0 122.85)rotate(270)\" x=\"0\" y=\"0\">[M] [MinusInterfaceEnsemble]</text><line stroke=\"gray\" stroke-width=\"1.5\" x1=\"324.0\" x2=\"324.0\" y1=\"130.95\" y2=\"3649.05\"/><line stroke=\"gray\" stroke-width=\"1.5\" x1=\"360.0\" x2=\"360.0\" y1=\"130.95\" y2=\"3649.05\"/><line stroke=\"gray\" stroke-width=\"1.5\" x1=\"396.0\" x2=\"396.0\" y1=\"130.95\" y2=\"3649.05\"/><line stroke=\"gray\" stroke-width=\"1.5\" x1=\"432.0\" x2=\"432.0\" y1=\"130.95\" y2=\"3649.05\"/><line stroke=\"gray\" stroke-width=\"1.5\" x1=\"468.0\" x2=\"468.0\" y1=\"130.95\" y2=\"3649.05\"/><line stroke=\"gray\" stroke-width=\"1.5\" x1=\"504.0\" x2=\"504.0\" y1=\"130.95\" y2=\"3649.05\"/><line stroke=\"gray\" stroke-width=\"1.5\" x1=\"540.0\" x2=\"540.0\" y1=\"130.95\" y2=\"3649.05\"/><line stroke=\"gray\" stroke-width=\"1.5\" x1=\"576.0\" x2=\"576.0\" y1=\"130.95\" y2=\"3649.05\"/><line stroke=\"gray\" stroke-width=\"1.5\" x1=\"612.0\" x2=\"612.0\" y1=\"130.95\" y2=\"3649.05\"/><line stroke=\"gray\" stroke-width=\"1.5\" x1=\"648.0\" x2=\"648.0\" y1=\"130.95\" y2=\"3649.05\"/><line stroke=\"gray\" stroke-width=\"1.5\" x1=\"684.0\" x2=\"684.0\" y1=\"130.95\" y2=\"3649.05\"/><line stroke=\"gray\" stroke-width=\"1.5\" x1=\"720.0\" x2=\"720.0\" y1=\"130.95\" y2=\"3649.05\"/><line stroke=\"gray\" stroke-width=\"1.5\" x1=\"756.0\" x2=\"756.0\" y1=\"130.95\" y2=\"3649.05\"/><rect fill=\"green\" height=\"16.2\" width=\"32.4\" x=\"19.8\" y=\"140.4\"/><circle cx=\"18.0\" cy=\"148.5\" fill=\"green\" r=\"1.8\" stroke=\"green\" stroke-width=\"0\"/><circle cx=\"54.0\" cy=\"148.5\" fill=\"green\" r=\"1.8\" stroke=\"green\" stroke-width=\"0\"/><text alignment-baseline=\"middle\" fill=\"white\" font-family=\"Futura\" font-size=\"10.8\" text-anchor=\"middle\" x=\"36.0\" y=\"149.85\"/><text alignment-baseline=\"middle\" fill=\"black\" font-family=\"Futura\" font-size=\"10.8\" text-anchor=\"start\" x=\"61.2\" y=\"149.85\">RandomAllowedChoice</text><rect fill=\"green\" height=\"16.2\" width=\"32.4\" x=\"307.8\" y=\"137.16\"/><text alignment-baseline=\"middle\" fill=\"white\" font-family=\"Futura\" font-size=\"10.8\" text-anchor=\"middle\" x=\"324.0\" y=\"146.61\"/><rect fill=\"red\" height=\"16.2\" width=\"32.4\" x=\"307.8\" y=\"143.64\"/><text alignment-baseline=\"middle\" fill=\"white\" font-family=\"Futura\" font-size=\"10.8\" text-anchor=\"middle\" x=\"324.0\" y=\"153.09\"/><rect fill=\"rgb(200,200,200)\" height=\"16.2\" width=\"32.4\" x=\"307.8\" y=\"140.4\"/><circle cx=\"306.0\" cy=\"148.5\" fill=\"rgb(200,200,200)\" r=\"1.8\" stroke=\"rgb(200,200,200)\" stroke-width=\"0\"/><circle cx=\"342.0\" cy=\"148.5\" fill=\"rgb(200,200,200)\" r=\"1.8\" stroke=\"rgb(200,200,200)\" stroke-width=\"0\"/><text alignment-baseline=\"middle\" fill=\"white\" font-family=\"Futura\" font-size=\"10.8\" text-anchor=\"middle\" x=\"324.0\" y=\"149.85\">A</text><rect fill=\"green\" height=\"16.2\" width=\"32.4\" x=\"343.8\" y=\"137.16\"/><text alignment-baseline=\"middle\" fill=\"white\" font-family=\"Futura\" font-size=\"10.8\" text-anchor=\"middle\" x=\"360.0\" y=\"146.61\"/><rect fill=\"red\" height=\"16.2\" width=\"32.4\" x=\"343.8\" y=\"143.64\"/><text alignment-baseline=\"middle\" fill=\"white\" font-family=\"Futura\" font-size=\"10.8\" text-anchor=\"middle\" x=\"360.0\" y=\"153.09\"/><rect fill=\"rgb(200,200,200)\" height=\"16.2\" width=\"32.4\" x=\"343.8\" y=\"140.4\"/><circle cx=\"342.0\" cy=\"148.5\" fill=\"rgb(200,200,200)\" r=\"1.8\" stroke=\"rgb(200,200,200)\" stroke-width=\"0\"/><circle cx=\"378.0\" cy=\"148.5\" fill=\"rgb(200,200,200)\" r=\"1.8\" stroke=\"rgb(200,200,200)\" stroke-width=\"0\"/><text alignment-baseline=\"middle\" fill=\"white\" font-family=\"Futura\" font-size=\"10.8\" text-anchor=\"middle\" x=\"360.0\" y=\"149.85\">B</text><rect fill=\"green\" height=\"16.2\" width=\"32.4\" x=\"379.8\" y=\"137.16\"/><text alignment-baseline=\"middle\" fill=\"white\" font-family=\"Futura\" font-size=\"10.8\" text-anchor=\"middle\" x=\"396.0\" y=\"146.61\"/><rect fill=\"red\" height=\"16.2\" width=\"32.4\" x=\"379.8\" y=\"143.64\"/><text alignment-baseline=\"middle\" fill=\"white\" font-family=\"Futura\" font-size=\"10.8\" text-anchor=\"middle\" x=\"396.0\" y=\"153.09\"/><rect fill=\"rgb(200,200,200)\" height=\"16.2\" width=\"32.4\" x=\"379.8\" y=\"140.4\"/><circle cx=\"378.0\" cy=\"148.5\" fill=\"rgb(200,200,200)\" r=\"1.8\" stroke=\"rgb(200,200,200)\" stroke-width=\"0\"/><circle cx=\"414.0\" cy=\"148.5\" fill=\"rgb(200,200,200)\" r=\"1.8\" stroke=\"rgb(200,200,200)\" stroke-width=\"0\"/><text alignment-baseline=\"middle\" fill=\"white\" font-family=\"Futura\" font-size=\"10.8\" text-anchor=\"middle\" x=\"396.0\" y=\"149.85\">C</text><rect fill=\"green\" height=\"16.2\" width=\"32.4\" x=\"415.8\" y=\"137.16\"/><text alignment-baseline=\"middle\" fill=\"white\" font-family=\"Futura\" font-size=\"10.8\" text-anchor=\"middle\" x=\"432.0\" y=\"146.61\"/><rect fill=\"red\" height=\"16.2\" width=\"32.4\" x=\"415.8\" y=\"143.64\"/><text alignment-baseline=\"middle\" fill=\"white\" font-family=\"Futura\" font-size=\"10.8\" text-anchor=\"middle\" x=\"432.0\" y=\"153.09\"/><rect fill=\"rgb(200,200,200)\" height=\"16.2\" width=\"32.4\" x=\"415.8\" y=\"140.4\"/><circle cx=\"414.0\" cy=\"148.5\" fill=\"rgb(200,200,200)\" r=\"1.8\" stroke=\"rgb(200,200,200)\" stroke-width=\"0\"/><circle cx=\"450.0\" cy=\"148.5\" fill=\"rgb(200,200,200)\" r=\"1.8\" stroke=\"rgb(200,200,200)\" stroke-width=\"0\"/><text alignment-baseline=\"middle\" fill=\"white\" font-family=\"Futura\" font-size=\"10.8\" text-anchor=\"middle\" x=\"432.0\" y=\"149.85\">D</text><rect fill=\"green\" height=\"16.2\" width=\"32.4\" x=\"451.8\" y=\"137.16\"/><text alignment-baseline=\"middle\" fill=\"white\" font-family=\"Futura\" font-size=\"10.8\" text-anchor=\"middle\" x=\"468.0\" y=\"146.61\"/><rect fill=\"red\" height=\"16.2\" width=\"32.4\" x=\"451.8\" y=\"143.64\"/><text alignment-baseline=\"middle\" fill=\"white\" font-family=\"Futura\" font-size=\"10.8\" text-anchor=\"middle\" x=\"468.0\" y=\"153.09\"/><rect fill=\"rgb(200,200,200)\" height=\"16.2\" width=\"32.4\" x=\"451.8\" y=\"140.4\"/><circle cx=\"450.0\" cy=\"148.5\" fill=\"rgb(200,200,200)\" r=\"1.8\" stroke=\"rgb(200,200,200)\" stroke-width=\"0\"/><circle cx=\"486.0\" cy=\"148.5\" fill=\"rgb(200,200,200)\" r=\"1.8\" stroke=\"rgb(200,200,200)\" stroke-width=\"0\"/><text alignment-baseline=\"middle\" fill=\"white\" font-family=\"Futura\" font-size=\"10.8\" text-anchor=\"middle\" x=\"468.0\" y=\"149.85\">E</text><rect fill=\"green\" height=\"16.2\" width=\"32.4\" x=\"487.8\" y=\"137.16\"/><text alignment-baseline=\"middle\" fill=\"white\" font-family=\"Futura\" font-size=\"10.8\" text-anchor=\"middle\" x=\"504.0\" y=\"146.61\"/><rect fill=\"red\" height=\"16.2\" width=\"32.4\" x=\"487.8\" y=\"143.64\"/><text alignment-baseline=\"middle\" fill=\"white\" font-family=\"Futura\" font-size=\"10.8\" text-anchor=\"middle\" x=\"504.0\" y=\"153.09\"/><rect fill=\"rgb(200,200,200)\" height=\"16.2\" width=\"32.4\" x=\"487.8\" y=\"140.4\"/><circle cx=\"486.0\" cy=\"148.5\" fill=\"rgb(200,200,200)\" r=\"1.8\" stroke=\"rgb(200,200,200)\" stroke-width=\"0\"/><circle cx=\"522.0\" cy=\"148.5\" fill=\"rgb(200,200,200)\" r=\"1.8\" stroke=\"rgb(200,200,200)\" stroke-width=\"0\"/><text alignment-baseline=\"middle\" fill=\"white\" font-family=\"Futura\" font-size=\"10.8\" text-anchor=\"middle\" x=\"504.0\" y=\"149.85\">F</text><rect fill=\"green\" height=\"16.2\" width=\"32.4\" x=\"523.8\" y=\"137.16\"/><text alignment-baseline=\"middle\" fill=\"white\" font-family=\"Futura\" font-size=\"10.8\" text-anchor=\"middle\" x=\"540.0\" y=\"146.61\"/><rect fill=\"red\" height=\"16.2\" width=\"32.4\" x=\"523.8\" y=\"143.64\"/><text alignment-baseline=\"middle\" fill=\"white\" font-family=\"Futura\" font-size=\"10.8\" text-anchor=\"middle\" x=\"540.0\" y=\"153.09\"/><rect fill=\"rgb(200,200,200)\" height=\"16.2\" width=\"32.4\" x=\"523.8\" y=\"140.4\"/><circle cx=\"522.0\" cy=\"148.5\" fill=\"rgb(200,200,200)\" r=\"1.8\" stroke=\"rgb(200,200,200)\" stroke-width=\"0\"/><circle cx=\"558.0\" cy=\"148.5\" fill=\"rgb(200,200,200)\" r=\"1.8\" stroke=\"rgb(200,200,200)\" stroke-width=\"0\"/><text alignment-baseline=\"middle\" fill=\"white\" font-family=\"Futura\" font-size=\"10.8\" text-anchor=\"middle\" x=\"540.0\" y=\"149.85\">G</text><rect fill=\"green\" height=\"16.2\" width=\"32.4\" x=\"559.8\" y=\"137.16\"/><text alignment-baseline=\"middle\" fill=\"white\" font-family=\"Futura\" font-size=\"10.8\" text-anchor=\"middle\" x=\"576.0\" y=\"146.61\"/><rect fill=\"red\" height=\"16.2\" width=\"32.4\" x=\"559.8\" y=\"143.64\"/><text alignment-baseline=\"middle\" fill=\"white\" font-family=\"Futura\" font-size=\"10.8\" text-anchor=\"middle\" x=\"576.0\" y=\"153.09\"/><rect fill=\"rgb(200,200,200)\" height=\"16.2\" width=\"32.4\" x=\"559.8\" y=\"140.4\"/><circle cx=\"558.0\" cy=\"148.5\" fill=\"rgb(200,200,200)\" r=\"1.8\" stroke=\"rgb(200,200,200)\" stroke-width=\"0\"/><circle cx=\"594.0\" cy=\"148.5\" fill=\"rgb(200,200,200)\" r=\"1.8\" stroke=\"rgb(200,200,200)\" stroke-width=\"0\"/><text alignment-baseline=\"middle\" fill=\"white\" font-family=\"Futura\" font-size=\"10.8\" text-anchor=\"middle\" x=\"576.0\" y=\"149.85\">H</text><rect fill=\"green\" height=\"16.2\" width=\"32.4\" x=\"595.8\" y=\"137.16\"/><text alignment-baseline=\"middle\" fill=\"white\" font-family=\"Futura\" font-size=\"10.8\" text-anchor=\"middle\" x=\"612.0\" y=\"146.61\"/><rect fill=\"red\" height=\"16.2\" width=\"32.4\" x=\"595.8\" y=\"143.64\"/><text alignment-baseline=\"middle\" fill=\"white\" font-family=\"Futura\" font-size=\"10.8\" text-anchor=\"middle\" x=\"612.0\" y=\"153.09\"/><rect fill=\"rgb(200,200,200)\" height=\"16.2\" width=\"32.4\" x=\"595.8\" y=\"140.4\"/><circle cx=\"594.0\" cy=\"148.5\" fill=\"rgb(200,200,200)\" r=\"1.8\" stroke=\"rgb(200,200,200)\" stroke-width=\"0\"/><circle cx=\"630.0\" cy=\"148.5\" fill=\"rgb(200,200,200)\" r=\"1.8\" stroke=\"rgb(200,200,200)\" stroke-width=\"0\"/><text alignment-baseline=\"middle\" fill=\"white\" font-family=\"Futura\" font-size=\"10.8\" text-anchor=\"middle\" x=\"612.0\" y=\"149.85\">I</text><rect fill=\"green\" height=\"16.2\" width=\"32.4\" x=\"631.8\" y=\"137.16\"/><text alignment-baseline=\"middle\" fill=\"white\" font-family=\"Futura\" font-size=\"10.8\" text-anchor=\"middle\" x=\"648.0\" y=\"146.61\"/><rect fill=\"red\" height=\"16.2\" width=\"32.4\" x=\"631.8\" y=\"143.64\"/><text alignment-baseline=\"middle\" fill=\"white\" font-family=\"Futura\" font-size=\"10.8\" text-anchor=\"middle\" x=\"648.0\" y=\"153.09\"/><rect fill=\"rgb(200,200,200)\" height=\"16.2\" width=\"32.4\" x=\"631.8\" y=\"140.4\"/><circle cx=\"630.0\" cy=\"148.5\" fill=\"rgb(200,200,200)\" r=\"1.8\" stroke=\"rgb(200,200,200)\" stroke-width=\"0\"/><circle cx=\"666.0\" cy=\"148.5\" fill=\"rgb(200,200,200)\" r=\"1.8\" stroke=\"rgb(200,200,200)\" stroke-width=\"0\"/><text alignment-baseline=\"middle\" fill=\"white\" font-family=\"Futura\" font-size=\"10.8\" text-anchor=\"middle\" x=\"648.0\" y=\"149.85\">J</text><rect fill=\"green\" height=\"16.2\" width=\"32.4\" x=\"55.8\" y=\"167.4\"/><circle cx=\"54.0\" cy=\"175.5\" fill=\"green\" r=\"1.8\" stroke=\"green\" stroke-width=\"0\"/><circle cx=\"90.0\" cy=\"175.5\" fill=\"green\" r=\"1.8\" stroke=\"green\" stroke-width=\"0\"/><text alignment-baseline=\"middle\" fill=\"white\" font-family=\"Futura\" font-size=\"10.8\" text-anchor=\"middle\" x=\"72.0\" y=\"176.85\"/><text alignment-baseline=\"middle\" fill=\"black\" font-family=\"Futura\" font-size=\"10.8\" text-anchor=\"start\" x=\"97.2\" y=\"176.85\">RandomChoice</text><line stroke=\"black\" stroke-width=\"1.5\" x1=\"54.0\" x2=\"54.0\" y1=\"176.85\" y2=\"147.15\"/><rect fill=\"green\" height=\"16.2\" width=\"32.4\" x=\"415.8\" y=\"164.16\"/><text alignment-baseline=\"middle\" fill=\"white\" font-family=\"Futura\" font-size=\"10.8\" text-anchor=\"middle\" x=\"432.0\" y=\"173.61\"/><rect fill=\"red\" height=\"16.2\" width=\"32.4\" x=\"415.8\" y=\"170.64\"/><text alignment-baseline=\"middle\" fill=\"white\" font-family=\"Futura\" font-size=\"10.8\" text-anchor=\"middle\" x=\"432.0\" y=\"180.09\"/><rect fill=\"rgb(200,200,200)\" height=\"16.2\" width=\"32.4\" x=\"415.8\" y=\"167.4\"/><circle cx=\"414.0\" cy=\"175.5\" fill=\"rgb(200,200,200)\" r=\"1.8\" stroke=\"rgb(200,200,200)\" stroke-width=\"0\"/><circle cx=\"450.0\" cy=\"175.5\" fill=\"rgb(200,200,200)\" r=\"1.8\" stroke=\"rgb(200,200,200)\" stroke-width=\"0\"/><text alignment-baseline=\"middle\" fill=\"white\" font-family=\"Futura\" font-size=\"10.8\" text-anchor=\"middle\" x=\"432.0\" y=\"176.85\">D</text><rect fill=\"red\" height=\"16.2\" width=\"32.4\" x=\"451.8\" y=\"170.64\"/><text alignment-baseline=\"middle\" fill=\"white\" font-family=\"Futura\" font-size=\"10.8\" text-anchor=\"middle\" x=\"468.0\" y=\"180.09\"/><rect fill=\"rgb(200,200,200)\" height=\"16.2\" width=\"32.4\" x=\"451.8\" y=\"167.4\"/><circle cx=\"450.0\" cy=\"175.5\" fill=\"rgb(200,200,200)\" r=\"1.8\" stroke=\"rgb(200,200,200)\" stroke-width=\"0\"/><circle cx=\"486.0\" cy=\"175.5\" fill=\"rgb(200,200,200)\" r=\"1.8\" stroke=\"rgb(200,200,200)\" stroke-width=\"0\"/><text alignment-baseline=\"middle\" fill=\"white\" font-family=\"Futura\" font-size=\"10.8\" text-anchor=\"middle\" x=\"468.0\" y=\"176.85\">E</text><rect fill=\"green\" height=\"16.2\" width=\"32.4\" x=\"91.8\" y=\"194.4\"/><circle cx=\"90.0\" cy=\"202.5\" fill=\"green\" r=\"1.8\" stroke=\"green\" stroke-width=\"0\"/><circle cx=\"126.0\" cy=\"202.5\" fill=\"green\" r=\"1.8\" stroke=\"green\" stroke-width=\"0\"/><text alignment-baseline=\"middle\" fill=\"white\" font-family=\"Futura\" font-size=\"10.8\" text-anchor=\"middle\" x=\"108.0\" y=\"203.85\"/><text alignment-baseline=\"middle\" fill=\"black\" font-family=\"Futura\" font-size=\"10.8\" text-anchor=\"start\" x=\"133.2\" y=\"203.85\">EnsembleHop</text><line stroke=\"black\" stroke-width=\"1.5\" x1=\"90.0\" x2=\"90.0\" y1=\"203.85\" y2=\"174.15\"/><rect fill=\"green\" height=\"16.2\" width=\"32.4\" x=\"415.8\" y=\"191.16\"/><text alignment-baseline=\"middle\" fill=\"white\" font-family=\"Futura\" font-size=\"10.8\" text-anchor=\"middle\" x=\"432.0\" y=\"200.61\"/><rect fill=\"rgb(200,200,200)\" height=\"16.2\" width=\"32.4\" x=\"415.8\" y=\"194.4\"/><circle cx=\"414.0\" cy=\"202.5\" fill=\"rgb(200,200,200)\" r=\"1.8\" stroke=\"rgb(200,200,200)\" stroke-width=\"0\"/><circle cx=\"450.0\" cy=\"202.5\" fill=\"rgb(200,200,200)\" r=\"1.8\" stroke=\"rgb(200,200,200)\" stroke-width=\"0\"/><text alignment-baseline=\"middle\" fill=\"white\" font-family=\"Futura\" font-size=\"10.8\" text-anchor=\"middle\" x=\"432.0\" y=\"203.85\">D</text><rect fill=\"red\" height=\"16.2\" width=\"32.4\" x=\"451.8\" y=\"197.64\"/><text alignment-baseline=\"middle\" fill=\"white\" font-family=\"Futura\" font-size=\"10.8\" text-anchor=\"middle\" x=\"468.0\" y=\"207.09\"/><rect fill=\"rgb(200,200,200)\" height=\"16.2\" width=\"32.4\" x=\"451.8\" y=\"194.4\"/><circle cx=\"450.0\" cy=\"202.5\" fill=\"rgb(200,200,200)\" r=\"1.8\" stroke=\"rgb(200,200,200)\" stroke-width=\"0\"/><circle cx=\"486.0\" cy=\"202.5\" fill=\"rgb(200,200,200)\" r=\"1.8\" stroke=\"rgb(200,200,200)\" stroke-width=\"0\"/><text alignment-baseline=\"middle\" fill=\"white\" font-family=\"Futura\" font-size=\"10.8\" text-anchor=\"middle\" x=\"468.0\" y=\"203.85\">E</text><rect fill=\"green\" height=\"16.2\" width=\"32.4\" x=\"91.8\" y=\"221.4\"/><circle cx=\"90.0\" cy=\"229.5\" fill=\"green\" r=\"1.8\" stroke=\"green\" stroke-width=\"0\"/><circle cx=\"126.0\" cy=\"229.5\" fill=\"green\" r=\"1.8\" stroke=\"green\" stroke-width=\"0\"/><text alignment-baseline=\"middle\" fill=\"white\" font-family=\"Futura\" font-size=\"10.8\" text-anchor=\"middle\" x=\"108.0\" y=\"230.85\"/><text alignment-baseline=\"middle\" fill=\"black\" font-family=\"Futura\" font-size=\"10.8\" text-anchor=\"start\" x=\"133.2\" y=\"230.85\">PathReversal</text><line stroke=\"black\" stroke-width=\"1.5\" x1=\"90.0\" x2=\"90.0\" y1=\"230.85\" y2=\"201.15\"/><rect fill=\"green\" height=\"16.2\" width=\"32.4\" x=\"415.8\" y=\"218.16\"/><text alignment-baseline=\"middle\" fill=\"white\" font-family=\"Futura\" font-size=\"10.8\" text-anchor=\"middle\" x=\"432.0\" y=\"227.61\"/><rect fill=\"red\" height=\"16.2\" width=\"32.4\" x=\"415.8\" y=\"224.64\"/><text alignment-baseline=\"middle\" fill=\"white\" font-family=\"Futura\" font-size=\"10.8\" text-anchor=\"middle\" x=\"432.0\" y=\"234.09\"/><rect fill=\"rgb(200,200,200)\" height=\"16.2\" width=\"32.4\" x=\"415.8\" y=\"221.4\"/><circle cx=\"414.0\" cy=\"229.5\" fill=\"rgb(200,200,200)\" r=\"1.8\" stroke=\"rgb(200,200,200)\" stroke-width=\"0\"/><circle cx=\"450.0\" cy=\"229.5\" fill=\"rgb(200,200,200)\" r=\"1.8\" stroke=\"rgb(200,200,200)\" stroke-width=\"0\"/><text alignment-baseline=\"middle\" fill=\"white\" font-family=\"Futura\" font-size=\"10.8\" text-anchor=\"middle\" x=\"432.0\" y=\"230.85\">D</text><rect fill=\"green\" height=\"16.2\" width=\"32.4\" x=\"91.8\" y=\"248.4\"/><circle cx=\"90.0\" cy=\"256.5\" fill=\"green\" r=\"1.8\" stroke=\"green\" stroke-width=\"0\"/><circle cx=\"126.0\" cy=\"256.5\" fill=\"green\" r=\"1.8\" stroke=\"green\" stroke-width=\"0\"/><text alignment-baseline=\"middle\" fill=\"white\" font-family=\"Futura\" font-size=\"10.8\" text-anchor=\"middle\" x=\"108.0\" y=\"257.85\"/><text alignment-baseline=\"middle\" fill=\"black\" font-family=\"Futura\" font-size=\"10.8\" text-anchor=\"start\" x=\"133.2\" y=\"257.85\">SingleReplicaMinus</text><line stroke=\"black\" stroke-width=\"1.5\" x1=\"90.0\" x2=\"90.0\" y1=\"257.85\" y2=\"228.15\"/><rect fill=\"green\" height=\"16.2\" width=\"32.4\" x=\"415.8\" y=\"245.16\"/><text alignment-baseline=\"middle\" fill=\"white\" font-family=\"Futura\" font-size=\"10.8\" text-anchor=\"middle\" x=\"432.0\" y=\"254.61\"/><rect fill=\"red\" height=\"16.2\" width=\"32.4\" x=\"415.8\" y=\"251.64\"/><text alignment-baseline=\"middle\" fill=\"white\" font-family=\"Futura\" font-size=\"10.8\" text-anchor=\"middle\" x=\"432.0\" y=\"261.09\"/><rect fill=\"rgb(200,200,200)\" height=\"16.2\" width=\"32.4\" x=\"415.8\" y=\"248.4\"/><circle cx=\"414.0\" cy=\"256.5\" fill=\"rgb(200,200,200)\" r=\"1.8\" stroke=\"rgb(200,200,200)\" stroke-width=\"0\"/><circle cx=\"450.0\" cy=\"256.5\" fill=\"rgb(200,200,200)\" r=\"1.8\" stroke=\"rgb(200,200,200)\" stroke-width=\"0\"/><text alignment-baseline=\"middle\" fill=\"white\" font-family=\"Futura\" font-size=\"10.8\" text-anchor=\"middle\" x=\"432.0\" y=\"257.85\">D</text><rect fill=\"green\" height=\"16.2\" width=\"32.4\" x=\"127.8\" y=\"275.4\"/><circle cx=\"126.0\" cy=\"283.5\" fill=\"green\" r=\"1.8\" stroke=\"green\" stroke-width=\"0\"/><circle cx=\"162.0\" cy=\"283.5\" fill=\"green\" r=\"1.8\" stroke=\"green\" stroke-width=\"0\"/><text alignment-baseline=\"middle\" fill=\"white\" font-family=\"Futura\" font-size=\"10.8\" text-anchor=\"middle\" x=\"144.0\" y=\"284.85\"/><text alignment-baseline=\"middle\" fill=\"black\" font-family=\"Futura\" font-size=\"10.8\" text-anchor=\"start\" x=\"169.2\" y=\"284.85\">EnsembleFilter</text><line stroke=\"black\" stroke-width=\"1.5\" x1=\"126.0\" x2=\"126.0\" y1=\"284.85\" y2=\"255.15\"/><rect fill=\"green\" height=\"16.2\" width=\"32.4\" x=\"415.8\" y=\"272.16\"/><text alignment-baseline=\"middle\" fill=\"white\" font-family=\"Futura\" font-size=\"10.8\" text-anchor=\"middle\" x=\"432.0\" y=\"281.61\"/><rect fill=\"red\" height=\"16.2\" width=\"32.4\" x=\"415.8\" y=\"278.64\"/><text alignment-baseline=\"middle\" fill=\"white\" font-family=\"Futura\" font-size=\"10.8\" text-anchor=\"middle\" x=\"432.0\" y=\"288.09\"/><rect fill=\"rgb(200,200,200)\" height=\"16.2\" width=\"32.4\" x=\"415.8\" y=\"275.4\"/><circle cx=\"414.0\" cy=\"283.5\" fill=\"rgb(200,200,200)\" r=\"1.8\" stroke=\"rgb(200,200,200)\" stroke-width=\"0\"/><circle cx=\"450.0\" cy=\"283.5\" fill=\"rgb(200,200,200)\" r=\"1.8\" stroke=\"rgb(200,200,200)\" stroke-width=\"0\"/><text alignment-baseline=\"middle\" fill=\"white\" font-family=\"Futura\" font-size=\"10.8\" text-anchor=\"middle\" x=\"432.0\" y=\"284.85\">D</text><rect fill=\"green\" height=\"16.2\" width=\"32.4\" x=\"163.8\" y=\"302.4\"/><circle cx=\"162.0\" cy=\"310.5\" fill=\"green\" r=\"1.8\" stroke=\"green\" stroke-width=\"0\"/><circle cx=\"198.0\" cy=\"310.5\" fill=\"green\" r=\"1.8\" stroke=\"green\" stroke-width=\"0\"/><text alignment-baseline=\"middle\" fill=\"white\" font-family=\"Futura\" font-size=\"10.8\" text-anchor=\"middle\" x=\"180.0\" y=\"311.85\"/><text alignment-baseline=\"middle\" fill=\"black\" font-family=\"Futura\" font-size=\"10.8\" text-anchor=\"start\" x=\"205.2\" y=\"311.85\">RandomChoice</text><line stroke=\"black\" stroke-width=\"1.5\" x1=\"162.0\" x2=\"162.0\" y1=\"311.85\" y2=\"282.15\"/><rect fill=\"green\" height=\"16.2\" width=\"32.4\" x=\"415.8\" y=\"299.16\"/><text alignment-baseline=\"middle\" fill=\"white\" font-family=\"Futura\" font-size=\"10.8\" text-anchor=\"middle\" x=\"432.0\" y=\"308.61\"/><rect fill=\"red\" height=\"16.2\" width=\"32.4\" x=\"415.8\" y=\"305.64\"/><text alignment-baseline=\"middle\" fill=\"white\" font-family=\"Futura\" font-size=\"10.8\" text-anchor=\"middle\" x=\"432.0\" y=\"315.09\"/><rect fill=\"rgb(200,200,200)\" height=\"16.2\" width=\"32.4\" x=\"415.8\" y=\"302.4\"/><circle cx=\"414.0\" cy=\"310.5\" fill=\"rgb(200,200,200)\" r=\"1.8\" stroke=\"rgb(200,200,200)\" stroke-width=\"0\"/><circle cx=\"450.0\" cy=\"310.5\" fill=\"rgb(200,200,200)\" r=\"1.8\" stroke=\"rgb(200,200,200)\" stroke-width=\"0\"/><text alignment-baseline=\"middle\" fill=\"white\" font-family=\"Futura\" font-size=\"10.8\" text-anchor=\"middle\" x=\"432.0\" y=\"311.85\">D</text><rect fill=\"green\" height=\"16.2\" width=\"32.4\" x=\"667.8\" y=\"299.16\"/><text alignment-baseline=\"middle\" fill=\"white\" font-family=\"Futura\" font-size=\"10.8\" text-anchor=\"middle\" x=\"684.0\" y=\"308.61\"/><rect fill=\"red\" height=\"16.2\" width=\"32.4\" x=\"667.8\" y=\"305.64\"/><text alignment-baseline=\"middle\" fill=\"white\" font-family=\"Futura\" font-size=\"10.8\" text-anchor=\"middle\" x=\"684.0\" y=\"315.09\"/><rect fill=\"rgb(200,200,200)\" height=\"16.2\" width=\"32.4\" x=\"667.8\" y=\"302.4\"/><circle cx=\"666.0\" cy=\"310.5\" fill=\"rgb(200,200,200)\" r=\"1.8\" stroke=\"rgb(200,200,200)\" stroke-width=\"0\"/><circle cx=\"702.0\" cy=\"310.5\" fill=\"rgb(200,200,200)\" r=\"1.8\" stroke=\"rgb(200,200,200)\" stroke-width=\"0\"/><text alignment-baseline=\"middle\" fill=\"white\" font-family=\"Futura\" font-size=\"10.8\" text-anchor=\"middle\" x=\"684.0\" y=\"311.85\">K</text><rect fill=\"green\" height=\"16.2\" width=\"32.4\" x=\"199.8\" y=\"329.4\"/><circle cx=\"198.0\" cy=\"337.5\" fill=\"green\" r=\"1.8\" stroke=\"green\" stroke-width=\"0\"/><circle cx=\"234.0\" cy=\"337.5\" fill=\"green\" r=\"1.8\" stroke=\"green\" stroke-width=\"0\"/><text alignment-baseline=\"middle\" fill=\"white\" font-family=\"Futura\" font-size=\"10.8\" text-anchor=\"middle\" x=\"216.0\" y=\"338.85\"/><text alignment-baseline=\"middle\" fill=\"black\" font-family=\"Futura\" font-size=\"10.8\" text-anchor=\"start\" x=\"241.2\" y=\"338.85\">ConditionalSequential</text><line stroke=\"black\" stroke-width=\"1.5\" x1=\"198.0\" x2=\"198.0\" y1=\"338.85\" y2=\"309.15\"/><rect fill=\"green\" height=\"16.2\" width=\"32.4\" x=\"415.8\" y=\"326.16\"/><text alignment-baseline=\"middle\" fill=\"white\" font-family=\"Futura\" font-size=\"10.8\" text-anchor=\"middle\" x=\"432.0\" y=\"335.61\"/><rect fill=\"red\" height=\"16.2\" width=\"32.4\" x=\"415.8\" y=\"332.64\"/><text alignment-baseline=\"middle\" fill=\"white\" font-family=\"Futura\" font-size=\"10.8\" text-anchor=\"middle\" x=\"432.0\" y=\"342.09\"/><rect fill=\"rgb(200,200,200)\" height=\"16.2\" width=\"32.4\" x=\"415.8\" y=\"329.4\"/><circle cx=\"414.0\" cy=\"337.5\" fill=\"rgb(200,200,200)\" r=\"1.8\" stroke=\"rgb(200,200,200)\" stroke-width=\"0\"/><circle cx=\"450.0\" cy=\"337.5\" fill=\"rgb(200,200,200)\" r=\"1.8\" stroke=\"rgb(200,200,200)\" stroke-width=\"0\"/><text alignment-baseline=\"middle\" fill=\"white\" font-family=\"Futura\" font-size=\"10.8\" text-anchor=\"middle\" x=\"432.0\" y=\"338.85\">D</text><rect fill=\"green\" height=\"16.2\" width=\"32.4\" x=\"667.8\" y=\"326.16\"/><text alignment-baseline=\"middle\" fill=\"white\" font-family=\"Futura\" font-size=\"10.8\" text-anchor=\"middle\" x=\"684.0\" y=\"335.61\"/><rect fill=\"red\" height=\"16.2\" width=\"32.4\" x=\"667.8\" y=\"332.64\"/><text alignment-baseline=\"middle\" fill=\"white\" font-family=\"Futura\" font-size=\"10.8\" text-anchor=\"middle\" x=\"684.0\" y=\"342.09\"/><rect fill=\"rgb(200,200,200)\" height=\"16.2\" width=\"32.4\" x=\"667.8\" y=\"329.4\"/><circle cx=\"666.0\" cy=\"337.5\" fill=\"rgb(200,200,200)\" r=\"1.8\" stroke=\"rgb(200,200,200)\" stroke-width=\"0\"/><circle cx=\"702.0\" cy=\"337.5\" fill=\"rgb(200,200,200)\" r=\"1.8\" stroke=\"rgb(200,200,200)\" stroke-width=\"0\"/><text alignment-baseline=\"middle\" fill=\"white\" font-family=\"Futura\" font-size=\"10.8\" text-anchor=\"middle\" x=\"684.0\" y=\"338.85\">K</text><rect fill=\"green\" height=\"16.2\" width=\"32.4\" x=\"235.8\" y=\"356.4\"/><circle cx=\"234.0\" cy=\"364.5\" fill=\"green\" r=\"1.8\" stroke=\"green\" stroke-width=\"0\"/><circle cx=\"270.0\" cy=\"364.5\" fill=\"green\" r=\"1.8\" stroke=\"green\" stroke-width=\"0\"/><text alignment-baseline=\"middle\" fill=\"white\" font-family=\"Futura\" font-size=\"10.8\" text-anchor=\"middle\" x=\"252.0\" y=\"365.85\"/><text alignment-baseline=\"middle\" fill=\"black\" font-family=\"Futura\" font-size=\"10.8\" text-anchor=\"start\" x=\"277.2\" y=\"365.85\">RandomAllowedChoice</text><line stroke=\"black\" stroke-width=\"1.5\" x1=\"234.0\" x2=\"234.0\" y1=\"365.85\" y2=\"336.15\"/><rect fill=\"green\" height=\"16.2\" width=\"32.4\" x=\"415.8\" y=\"353.16\"/><text alignment-baseline=\"middle\" fill=\"white\" font-family=\"Futura\" font-size=\"10.8\" text-anchor=\"middle\" x=\"432.0\" y=\"362.61\"/><rect fill=\"rgb(200,200,200)\" height=\"16.2\" width=\"32.4\" x=\"415.8\" y=\"356.4\"/><circle cx=\"414.0\" cy=\"364.5\" fill=\"rgb(200,200,200)\" r=\"1.8\" stroke=\"rgb(200,200,200)\" stroke-width=\"0\"/><circle cx=\"450.0\" cy=\"364.5\" fill=\"rgb(200,200,200)\" r=\"1.8\" stroke=\"rgb(200,200,200)\" stroke-width=\"0\"/><text alignment-baseline=\"middle\" fill=\"white\" font-family=\"Futura\" font-size=\"10.8\" text-anchor=\"middle\" x=\"432.0\" y=\"365.85\">D</text><rect fill=\"green\" height=\"16.2\" width=\"32.4\" x=\"271.8\" y=\"383.4\"/><circle cx=\"270.0\" cy=\"391.5\" fill=\"green\" r=\"1.8\" stroke=\"green\" stroke-width=\"0\"/><circle cx=\"306.0\" cy=\"391.5\" fill=\"green\" r=\"1.8\" stroke=\"green\" stroke-width=\"0\"/><text alignment-baseline=\"middle\" fill=\"white\" font-family=\"Futura\" font-size=\"10.8\" text-anchor=\"middle\" x=\"288.0\" y=\"392.85\"/><text alignment-baseline=\"middle\" fill=\"black\" font-family=\"Futura\" font-size=\"10.8\" text-anchor=\"start\" x=\"313.2\" y=\"392.85\">EnsembleHop</text><line stroke=\"black\" stroke-width=\"1.5\" x1=\"270.0\" x2=\"270.0\" y1=\"392.85\" y2=\"363.15\"/><rect fill=\"green\" height=\"16.2\" width=\"32.4\" x=\"415.8\" y=\"380.16\"/><text alignment-baseline=\"middle\" fill=\"white\" font-family=\"Futura\" font-size=\"10.8\" text-anchor=\"middle\" x=\"432.0\" y=\"389.61\"/><rect fill=\"rgb(200,200,200)\" height=\"16.2\" width=\"32.4\" x=\"415.8\" y=\"383.4\"/><circle cx=\"414.0\" cy=\"391.5\" fill=\"rgb(200,200,200)\" r=\"1.8\" stroke=\"rgb(200,200,200)\" stroke-width=\"0\"/><circle cx=\"450.0\" cy=\"391.5\" fill=\"rgb(200,200,200)\" r=\"1.8\" stroke=\"rgb(200,200,200)\" stroke-width=\"0\"/><text alignment-baseline=\"middle\" fill=\"white\" font-family=\"Futura\" font-size=\"10.8\" text-anchor=\"middle\" x=\"432.0\" y=\"392.85\">D</text><rect fill=\"green\" height=\"16.2\" width=\"32.4\" x=\"235.8\" y=\"410.4\"/><circle cx=\"234.0\" cy=\"418.5\" fill=\"green\" r=\"1.8\" stroke=\"green\" stroke-width=\"0\"/><circle cx=\"270.0\" cy=\"418.5\" fill=\"green\" r=\"1.8\" stroke=\"green\" stroke-width=\"0\"/><text alignment-baseline=\"middle\" fill=\"white\" font-family=\"Futura\" font-size=\"10.8\" text-anchor=\"middle\" x=\"252.0\" y=\"419.85\"/><text alignment-baseline=\"middle\" fill=\"black\" font-family=\"Futura\" font-size=\"10.8\" text-anchor=\"start\" x=\"277.2\" y=\"419.85\">BackwardExtend</text><line stroke=\"black\" stroke-width=\"1.5\" x1=\"234.0\" x2=\"234.0\" y1=\"419.85\" y2=\"363.15\"/><rect fill=\"red\" height=\"16.2\" width=\"32.4\" x=\"667.8\" y=\"413.64\"/><text alignment-baseline=\"middle\" fill=\"white\" font-family=\"Futura\" font-size=\"10.8\" text-anchor=\"middle\" x=\"684.0\" y=\"423.09\"/><rect fill=\"rgb(200,200,200)\" height=\"16.2\" width=\"32.4\" x=\"667.8\" y=\"410.4\"/><circle cx=\"666.0\" cy=\"418.5\" fill=\"rgb(200,200,200)\" r=\"1.8\" stroke=\"rgb(200,200,200)\" stroke-width=\"0\"/><circle cx=\"702.0\" cy=\"418.5\" fill=\"rgb(200,200,200)\" r=\"1.8\" stroke=\"rgb(200,200,200)\" stroke-width=\"0\"/><text alignment-baseline=\"middle\" fill=\"white\" font-family=\"Futura\" font-size=\"10.8\" text-anchor=\"middle\" x=\"684.0\" y=\"419.85\">K</text><rect fill=\"green\" height=\"16.2\" width=\"32.4\" x=\"235.8\" y=\"437.4\"/><circle cx=\"234.0\" cy=\"445.5\" fill=\"green\" r=\"1.8\" stroke=\"green\" stroke-width=\"0\"/><circle cx=\"270.0\" cy=\"445.5\" fill=\"green\" r=\"1.8\" stroke=\"green\" stroke-width=\"0\"/><text alignment-baseline=\"middle\" fill=\"white\" font-family=\"Futura\" font-size=\"10.8\" text-anchor=\"middle\" x=\"252.0\" y=\"446.85\"/><text alignment-baseline=\"middle\" fill=\"black\" font-family=\"Futura\" font-size=\"10.8\" text-anchor=\"start\" x=\"277.2\" y=\"446.85\">FirstSubtrajectorySelect</text><line stroke=\"black\" stroke-width=\"1.5\" x1=\"234.0\" x2=\"234.0\" y1=\"446.85\" y2=\"417.15\"/><rect fill=\"green\" height=\"16.2\" width=\"32.4\" x=\"667.8\" y=\"434.16\"/><text alignment-baseline=\"middle\" fill=\"white\" font-family=\"Futura\" font-size=\"10.8\" text-anchor=\"middle\" x=\"684.0\" y=\"443.61\"/><rect fill=\"rgb(200,200,200)\" height=\"16.2\" width=\"32.4\" x=\"667.8\" y=\"437.4\"/><circle cx=\"666.0\" cy=\"445.5\" fill=\"rgb(200,200,200)\" r=\"1.8\" stroke=\"rgb(200,200,200)\" stroke-width=\"0\"/><circle cx=\"702.0\" cy=\"445.5\" fill=\"rgb(200,200,200)\" r=\"1.8\" stroke=\"rgb(200,200,200)\" stroke-width=\"0\"/><text alignment-baseline=\"middle\" fill=\"white\" font-family=\"Futura\" font-size=\"10.8\" text-anchor=\"middle\" x=\"684.0\" y=\"446.85\">K</text><rect fill=\"green\" height=\"16.2\" width=\"32.4\" x=\"235.8\" y=\"464.4\"/><circle cx=\"234.0\" cy=\"472.5\" fill=\"green\" r=\"1.8\" stroke=\"green\" stroke-width=\"0\"/><circle cx=\"270.0\" cy=\"472.5\" fill=\"green\" r=\"1.8\" stroke=\"green\" stroke-width=\"0\"/><text alignment-baseline=\"middle\" fill=\"white\" font-family=\"Futura\" font-size=\"10.8\" text-anchor=\"middle\" x=\"252.0\" y=\"473.85\"/><text alignment-baseline=\"middle\" fill=\"black\" font-family=\"Futura\" font-size=\"10.8\" text-anchor=\"start\" x=\"277.2\" y=\"473.85\">RandomChoice</text><line stroke=\"black\" stroke-width=\"1.5\" x1=\"234.0\" x2=\"234.0\" y1=\"473.85\" y2=\"444.15\"/><rect fill=\"red\" height=\"16.2\" width=\"32.4\" x=\"415.8\" y=\"467.64\"/><text alignment-baseline=\"middle\" fill=\"white\" font-family=\"Futura\" font-size=\"10.8\" text-anchor=\"middle\" x=\"432.0\" y=\"477.09\"/><rect fill=\"rgb(200,200,200)\" height=\"16.2\" width=\"32.4\" x=\"415.8\" y=\"464.4\"/><circle cx=\"414.0\" cy=\"472.5\" fill=\"rgb(200,200,200)\" r=\"1.8\" stroke=\"rgb(200,200,200)\" stroke-width=\"0\"/><circle cx=\"450.0\" cy=\"472.5\" fill=\"rgb(200,200,200)\" r=\"1.8\" stroke=\"rgb(200,200,200)\" stroke-width=\"0\"/><text alignment-baseline=\"middle\" fill=\"white\" font-family=\"Futura\" font-size=\"10.8\" text-anchor=\"middle\" x=\"432.0\" y=\"473.85\">D</text><rect fill=\"green\" height=\"16.2\" width=\"32.4\" x=\"271.8\" y=\"491.4\"/><circle cx=\"270.0\" cy=\"499.5\" fill=\"green\" r=\"1.8\" stroke=\"green\" stroke-width=\"0\"/><circle cx=\"306.0\" cy=\"499.5\" fill=\"green\" r=\"1.8\" stroke=\"green\" stroke-width=\"0\"/><text alignment-baseline=\"middle\" fill=\"white\" font-family=\"Futura\" font-size=\"10.8\" text-anchor=\"middle\" x=\"288.0\" y=\"500.85\"/><text alignment-baseline=\"middle\" fill=\"black\" font-family=\"Futura\" font-size=\"10.8\" text-anchor=\"start\" x=\"313.2\" y=\"500.85\">EnsembleHop</text><line stroke=\"black\" stroke-width=\"1.5\" x1=\"270.0\" x2=\"270.0\" y1=\"500.85\" y2=\"471.15\"/><rect fill=\"red\" height=\"16.2\" width=\"32.4\" x=\"415.8\" y=\"494.64\"/><text alignment-baseline=\"middle\" fill=\"white\" font-family=\"Futura\" font-size=\"10.8\" text-anchor=\"middle\" x=\"432.0\" y=\"504.09\"/><rect fill=\"rgb(200,200,200)\" height=\"16.2\" width=\"32.4\" x=\"415.8\" y=\"491.4\"/><circle cx=\"414.0\" cy=\"499.5\" fill=\"rgb(200,200,200)\" r=\"1.8\" stroke=\"rgb(200,200,200)\" stroke-width=\"0\"/><circle cx=\"450.0\" cy=\"499.5\" fill=\"rgb(200,200,200)\" r=\"1.8\" stroke=\"rgb(200,200,200)\" stroke-width=\"0\"/><text alignment-baseline=\"middle\" fill=\"white\" font-family=\"Futura\" font-size=\"10.8\" text-anchor=\"middle\" x=\"432.0\" y=\"500.85\">D</text><rect fill=\"green\" height=\"16.2\" width=\"32.4\" x=\"199.8\" y=\"518.4\"/><circle cx=\"198.0\" cy=\"526.5\" fill=\"green\" r=\"1.8\" stroke=\"green\" stroke-width=\"0\"/><circle cx=\"234.0\" cy=\"526.5\" fill=\"green\" r=\"1.8\" stroke=\"green\" stroke-width=\"0\"/><text alignment-baseline=\"middle\" fill=\"white\" font-family=\"Futura\" font-size=\"10.8\" text-anchor=\"middle\" x=\"216.0\" y=\"527.85\"/><text alignment-baseline=\"middle\" fill=\"black\" font-family=\"Futura\" font-size=\"10.8\" text-anchor=\"start\" x=\"241.2\" y=\"527.85\">ConditionalSequential</text><line stroke=\"black\" stroke-width=\"1.5\" x1=\"198.0\" x2=\"198.0\" y1=\"527.85\" y2=\"336.15\"/><rect fill=\"green\" height=\"16.2\" width=\"32.4\" x=\"415.8\" y=\"515.16\"/><text alignment-baseline=\"middle\" fill=\"white\" font-family=\"Futura\" font-size=\"10.8\" text-anchor=\"middle\" x=\"432.0\" y=\"524.61\"/><rect fill=\"red\" height=\"16.2\" width=\"32.4\" x=\"415.8\" y=\"521.64\"/><text alignment-baseline=\"middle\" fill=\"white\" font-family=\"Futura\" font-size=\"10.8\" text-anchor=\"middle\" x=\"432.0\" y=\"531.09\"/><rect fill=\"rgb(200,200,200)\" height=\"16.2\" width=\"32.4\" x=\"415.8\" y=\"518.4\"/><circle cx=\"414.0\" cy=\"526.5\" fill=\"rgb(200,200,200)\" r=\"1.8\" stroke=\"rgb(200,200,200)\" stroke-width=\"0\"/><circle cx=\"450.0\" cy=\"526.5\" fill=\"rgb(200,200,200)\" r=\"1.8\" stroke=\"rgb(200,200,200)\" stroke-width=\"0\"/><text alignment-baseline=\"middle\" fill=\"white\" font-family=\"Futura\" font-size=\"10.8\" text-anchor=\"middle\" x=\"432.0\" y=\"527.85\">D</text><rect fill=\"green\" height=\"16.2\" width=\"32.4\" x=\"667.8\" y=\"515.16\"/><text alignment-baseline=\"middle\" fill=\"white\" font-family=\"Futura\" font-size=\"10.8\" text-anchor=\"middle\" x=\"684.0\" y=\"524.61\"/><rect fill=\"red\" height=\"16.2\" width=\"32.4\" x=\"667.8\" y=\"521.64\"/><text alignment-baseline=\"middle\" fill=\"white\" font-family=\"Futura\" font-size=\"10.8\" text-anchor=\"middle\" x=\"684.0\" y=\"531.09\"/><rect fill=\"rgb(200,200,200)\" height=\"16.2\" width=\"32.4\" x=\"667.8\" y=\"518.4\"/><circle cx=\"666.0\" cy=\"526.5\" fill=\"rgb(200,200,200)\" r=\"1.8\" stroke=\"rgb(200,200,200)\" stroke-width=\"0\"/><circle cx=\"702.0\" cy=\"526.5\" fill=\"rgb(200,200,200)\" r=\"1.8\" stroke=\"rgb(200,200,200)\" stroke-width=\"0\"/><text alignment-baseline=\"middle\" fill=\"white\" font-family=\"Futura\" font-size=\"10.8\" text-anchor=\"middle\" x=\"684.0\" y=\"527.85\">K</text><rect fill=\"green\" height=\"16.2\" width=\"32.4\" x=\"235.8\" y=\"545.4\"/><circle cx=\"234.0\" cy=\"553.5\" fill=\"green\" r=\"1.8\" stroke=\"green\" stroke-width=\"0\"/><circle cx=\"270.0\" cy=\"553.5\" fill=\"green\" r=\"1.8\" stroke=\"green\" stroke-width=\"0\"/><text alignment-baseline=\"middle\" fill=\"white\" font-family=\"Futura\" font-size=\"10.8\" text-anchor=\"middle\" x=\"252.0\" y=\"554.85\"/><text alignment-baseline=\"middle\" fill=\"black\" font-family=\"Futura\" font-size=\"10.8\" text-anchor=\"start\" x=\"277.2\" y=\"554.85\">RandomAllowedChoice</text><line stroke=\"black\" stroke-width=\"1.5\" x1=\"234.0\" x2=\"234.0\" y1=\"554.85\" y2=\"525.15\"/><rect fill=\"green\" height=\"16.2\" width=\"32.4\" x=\"415.8\" y=\"542.16\"/><text alignment-baseline=\"middle\" fill=\"white\" font-family=\"Futura\" font-size=\"10.8\" text-anchor=\"middle\" x=\"432.0\" y=\"551.61\"/><rect fill=\"rgb(200,200,200)\" height=\"16.2\" width=\"32.4\" x=\"415.8\" y=\"545.4\"/><circle cx=\"414.0\" cy=\"553.5\" fill=\"rgb(200,200,200)\" r=\"1.8\" stroke=\"rgb(200,200,200)\" stroke-width=\"0\"/><circle cx=\"450.0\" cy=\"553.5\" fill=\"rgb(200,200,200)\" r=\"1.8\" stroke=\"rgb(200,200,200)\" stroke-width=\"0\"/><text alignment-baseline=\"middle\" fill=\"white\" font-family=\"Futura\" font-size=\"10.8\" text-anchor=\"middle\" x=\"432.0\" y=\"554.85\">D</text><rect fill=\"green\" height=\"16.2\" width=\"32.4\" x=\"271.8\" y=\"572.4\"/><circle cx=\"270.0\" cy=\"580.5\" fill=\"green\" r=\"1.8\" stroke=\"green\" stroke-width=\"0\"/><circle cx=\"306.0\" cy=\"580.5\" fill=\"green\" r=\"1.8\" stroke=\"green\" stroke-width=\"0\"/><text alignment-baseline=\"middle\" fill=\"white\" font-family=\"Futura\" font-size=\"10.8\" text-anchor=\"middle\" x=\"288.0\" y=\"581.85\"/><text alignment-baseline=\"middle\" fill=\"black\" font-family=\"Futura\" font-size=\"10.8\" text-anchor=\"start\" x=\"313.2\" y=\"581.85\">EnsembleHop</text><line stroke=\"black\" stroke-width=\"1.5\" x1=\"270.0\" x2=\"270.0\" y1=\"581.85\" y2=\"552.15\"/><rect fill=\"green\" height=\"16.2\" width=\"32.4\" x=\"415.8\" y=\"569.16\"/><text alignment-baseline=\"middle\" fill=\"white\" font-family=\"Futura\" font-size=\"10.8\" text-anchor=\"middle\" x=\"432.0\" y=\"578.61\"/><rect fill=\"rgb(200,200,200)\" height=\"16.2\" width=\"32.4\" x=\"415.8\" y=\"572.4\"/><circle cx=\"414.0\" cy=\"580.5\" fill=\"rgb(200,200,200)\" r=\"1.8\" stroke=\"rgb(200,200,200)\" stroke-width=\"0\"/><circle cx=\"450.0\" cy=\"580.5\" fill=\"rgb(200,200,200)\" r=\"1.8\" stroke=\"rgb(200,200,200)\" stroke-width=\"0\"/><text alignment-baseline=\"middle\" fill=\"white\" font-family=\"Futura\" font-size=\"10.8\" text-anchor=\"middle\" x=\"432.0\" y=\"581.85\">D</text><rect fill=\"green\" height=\"16.2\" width=\"32.4\" x=\"235.8\" y=\"599.4\"/><circle cx=\"234.0\" cy=\"607.5\" fill=\"green\" r=\"1.8\" stroke=\"green\" stroke-width=\"0\"/><circle cx=\"270.0\" cy=\"607.5\" fill=\"green\" r=\"1.8\" stroke=\"green\" stroke-width=\"0\"/><text alignment-baseline=\"middle\" fill=\"white\" font-family=\"Futura\" font-size=\"10.8\" text-anchor=\"middle\" x=\"252.0\" y=\"608.85\"/><text alignment-baseline=\"middle\" fill=\"black\" font-family=\"Futura\" font-size=\"10.8\" text-anchor=\"start\" x=\"277.2\" y=\"608.85\">ForwardExtend</text><line stroke=\"black\" stroke-width=\"1.5\" x1=\"234.0\" x2=\"234.0\" y1=\"608.85\" y2=\"552.15\"/><rect fill=\"red\" height=\"16.2\" width=\"32.4\" x=\"667.8\" y=\"602.64\"/><text alignment-baseline=\"middle\" fill=\"white\" font-family=\"Futura\" font-size=\"10.8\" text-anchor=\"middle\" x=\"684.0\" y=\"612.09\"/><rect fill=\"rgb(200,200,200)\" height=\"16.2\" width=\"32.4\" x=\"667.8\" y=\"599.4\"/><circle cx=\"666.0\" cy=\"607.5\" fill=\"rgb(200,200,200)\" r=\"1.8\" stroke=\"rgb(200,200,200)\" stroke-width=\"0\"/><circle cx=\"702.0\" cy=\"607.5\" fill=\"rgb(200,200,200)\" r=\"1.8\" stroke=\"rgb(200,200,200)\" stroke-width=\"0\"/><text alignment-baseline=\"middle\" fill=\"white\" font-family=\"Futura\" font-size=\"10.8\" text-anchor=\"middle\" x=\"684.0\" y=\"608.85\">K</text><rect fill=\"green\" height=\"16.2\" width=\"32.4\" x=\"235.8\" y=\"626.4\"/><circle cx=\"234.0\" cy=\"634.5\" fill=\"green\" r=\"1.8\" stroke=\"green\" stroke-width=\"0\"/><circle cx=\"270.0\" cy=\"634.5\" fill=\"green\" r=\"1.8\" stroke=\"green\" stroke-width=\"0\"/><text alignment-baseline=\"middle\" fill=\"white\" font-family=\"Futura\" font-size=\"10.8\" text-anchor=\"middle\" x=\"252.0\" y=\"635.85\"/><text alignment-baseline=\"middle\" fill=\"black\" font-family=\"Futura\" font-size=\"10.8\" text-anchor=\"start\" x=\"277.2\" y=\"635.85\">FinalSubtrajectorySelect</text><line stroke=\"black\" stroke-width=\"1.5\" x1=\"234.0\" x2=\"234.0\" y1=\"635.85\" y2=\"606.15\"/><rect fill=\"green\" height=\"16.2\" width=\"32.4\" x=\"667.8\" y=\"623.16\"/><text alignment-baseline=\"middle\" fill=\"white\" font-family=\"Futura\" font-size=\"10.8\" text-anchor=\"middle\" x=\"684.0\" y=\"632.61\"/><rect fill=\"rgb(200,200,200)\" height=\"16.2\" width=\"32.4\" x=\"667.8\" y=\"626.4\"/><circle cx=\"666.0\" cy=\"634.5\" fill=\"rgb(200,200,200)\" r=\"1.8\" stroke=\"rgb(200,200,200)\" stroke-width=\"0\"/><circle cx=\"702.0\" cy=\"634.5\" fill=\"rgb(200,200,200)\" r=\"1.8\" stroke=\"rgb(200,200,200)\" stroke-width=\"0\"/><text alignment-baseline=\"middle\" fill=\"white\" font-family=\"Futura\" font-size=\"10.8\" text-anchor=\"middle\" x=\"684.0\" y=\"635.85\">K</text><rect fill=\"green\" height=\"16.2\" width=\"32.4\" x=\"235.8\" y=\"653.4\"/><circle cx=\"234.0\" cy=\"661.5\" fill=\"green\" r=\"1.8\" stroke=\"green\" stroke-width=\"0\"/><circle cx=\"270.0\" cy=\"661.5\" fill=\"green\" r=\"1.8\" stroke=\"green\" stroke-width=\"0\"/><text alignment-baseline=\"middle\" fill=\"white\" font-family=\"Futura\" font-size=\"10.8\" text-anchor=\"middle\" x=\"252.0\" y=\"662.85\"/><text alignment-baseline=\"middle\" fill=\"black\" font-family=\"Futura\" font-size=\"10.8\" text-anchor=\"start\" x=\"277.2\" y=\"662.85\">RandomChoice</text><line stroke=\"black\" stroke-width=\"1.5\" x1=\"234.0\" x2=\"234.0\" y1=\"662.85\" y2=\"633.15\"/><rect fill=\"red\" height=\"16.2\" width=\"32.4\" x=\"415.8\" y=\"656.64\"/><text alignment-baseline=\"middle\" fill=\"white\" font-family=\"Futura\" font-size=\"10.8\" text-anchor=\"middle\" x=\"432.0\" y=\"666.09\"/><rect fill=\"rgb(200,200,200)\" height=\"16.2\" width=\"32.4\" x=\"415.8\" y=\"653.4\"/><circle cx=\"414.0\" cy=\"661.5\" fill=\"rgb(200,200,200)\" r=\"1.8\" stroke=\"rgb(200,200,200)\" stroke-width=\"0\"/><circle cx=\"450.0\" cy=\"661.5\" fill=\"rgb(200,200,200)\" r=\"1.8\" stroke=\"rgb(200,200,200)\" stroke-width=\"0\"/><text alignment-baseline=\"middle\" fill=\"white\" font-family=\"Futura\" font-size=\"10.8\" text-anchor=\"middle\" x=\"432.0\" y=\"662.85\">D</text><rect fill=\"green\" height=\"16.2\" width=\"32.4\" x=\"271.8\" y=\"680.4\"/><circle cx=\"270.0\" cy=\"688.5\" fill=\"green\" r=\"1.8\" stroke=\"green\" stroke-width=\"0\"/><circle cx=\"306.0\" cy=\"688.5\" fill=\"green\" r=\"1.8\" stroke=\"green\" stroke-width=\"0\"/><text alignment-baseline=\"middle\" fill=\"white\" font-family=\"Futura\" font-size=\"10.8\" text-anchor=\"middle\" x=\"288.0\" y=\"689.85\"/><text alignment-baseline=\"middle\" fill=\"black\" font-family=\"Futura\" font-size=\"10.8\" text-anchor=\"start\" x=\"313.2\" y=\"689.85\">EnsembleHop</text><line stroke=\"black\" stroke-width=\"1.5\" x1=\"270.0\" x2=\"270.0\" y1=\"689.85\" y2=\"660.15\"/><rect fill=\"red\" height=\"16.2\" width=\"32.4\" x=\"415.8\" y=\"683.64\"/><text alignment-baseline=\"middle\" fill=\"white\" font-family=\"Futura\" font-size=\"10.8\" text-anchor=\"middle\" x=\"432.0\" y=\"693.09\"/><rect fill=\"rgb(200,200,200)\" height=\"16.2\" width=\"32.4\" x=\"415.8\" y=\"680.4\"/><circle cx=\"414.0\" cy=\"688.5\" fill=\"rgb(200,200,200)\" r=\"1.8\" stroke=\"rgb(200,200,200)\" stroke-width=\"0\"/><circle cx=\"450.0\" cy=\"688.5\" fill=\"rgb(200,200,200)\" r=\"1.8\" stroke=\"rgb(200,200,200)\" stroke-width=\"0\"/><text alignment-baseline=\"middle\" fill=\"white\" font-family=\"Futura\" font-size=\"10.8\" text-anchor=\"middle\" x=\"432.0\" y=\"689.85\">D</text><rect fill=\"green\" height=\"16.2\" width=\"32.4\" x=\"91.8\" y=\"707.4\"/><circle cx=\"90.0\" cy=\"715.5\" fill=\"green\" r=\"1.8\" stroke=\"green\" stroke-width=\"0\"/><circle cx=\"126.0\" cy=\"715.5\" fill=\"green\" r=\"1.8\" stroke=\"green\" stroke-width=\"0\"/><text alignment-baseline=\"middle\" fill=\"white\" font-family=\"Futura\" font-size=\"10.8\" text-anchor=\"middle\" x=\"108.0\" y=\"716.85\"/><text alignment-baseline=\"middle\" fill=\"black\" font-family=\"Futura\" font-size=\"10.8\" text-anchor=\"start\" x=\"133.2\" y=\"716.85\">IdentityPath</text><line stroke=\"black\" stroke-width=\"1.5\" x1=\"90.0\" x2=\"90.0\" y1=\"716.85\" y2=\"255.15\"/><rect fill=\"green\" height=\"16.2\" width=\"32.4\" x=\"91.8\" y=\"734.4\"/><circle cx=\"90.0\" cy=\"742.5\" fill=\"green\" r=\"1.8\" stroke=\"green\" stroke-width=\"0\"/><circle cx=\"126.0\" cy=\"742.5\" fill=\"green\" r=\"1.8\" stroke=\"green\" stroke-width=\"0\"/><text alignment-baseline=\"middle\" fill=\"white\" font-family=\"Futura\" font-size=\"10.8\" text-anchor=\"middle\" x=\"108.0\" y=\"743.85\"/><text alignment-baseline=\"middle\" fill=\"black\" font-family=\"Futura\" font-size=\"10.8\" text-anchor=\"start\" x=\"133.2\" y=\"743.85\">OneWayShooting</text><line stroke=\"black\" stroke-width=\"1.5\" x1=\"90.0\" x2=\"90.0\" y1=\"743.85\" y2=\"714.15\"/><rect fill=\"green\" height=\"16.2\" width=\"32.4\" x=\"415.8\" y=\"731.16\"/><text alignment-baseline=\"middle\" fill=\"white\" font-family=\"Futura\" font-size=\"10.8\" text-anchor=\"middle\" x=\"432.0\" y=\"740.61\"/><rect fill=\"red\" height=\"16.2\" width=\"32.4\" x=\"415.8\" y=\"737.64\"/><text alignment-baseline=\"middle\" fill=\"white\" font-family=\"Futura\" font-size=\"10.8\" text-anchor=\"middle\" x=\"432.0\" y=\"747.09\"/><rect fill=\"rgb(200,200,200)\" height=\"16.2\" width=\"32.4\" x=\"415.8\" y=\"734.4\"/><circle cx=\"414.0\" cy=\"742.5\" fill=\"rgb(200,200,200)\" r=\"1.8\" stroke=\"rgb(200,200,200)\" stroke-width=\"0\"/><circle cx=\"450.0\" cy=\"742.5\" fill=\"rgb(200,200,200)\" r=\"1.8\" stroke=\"rgb(200,200,200)\" stroke-width=\"0\"/><text alignment-baseline=\"middle\" fill=\"white\" font-family=\"Futura\" font-size=\"10.8\" text-anchor=\"middle\" x=\"432.0\" y=\"743.85\">D</text><rect fill=\"green\" height=\"16.2\" width=\"32.4\" x=\"127.8\" y=\"761.4\"/><circle cx=\"126.0\" cy=\"769.5\" fill=\"green\" r=\"1.8\" stroke=\"green\" stroke-width=\"0\"/><circle cx=\"162.0\" cy=\"769.5\" fill=\"green\" r=\"1.8\" stroke=\"green\" stroke-width=\"0\"/><text alignment-baseline=\"middle\" fill=\"white\" font-family=\"Futura\" font-size=\"10.8\" text-anchor=\"middle\" x=\"144.0\" y=\"770.85\"/><text alignment-baseline=\"middle\" fill=\"black\" font-family=\"Futura\" font-size=\"10.8\" text-anchor=\"start\" x=\"169.2\" y=\"770.85\">ForwardShoot</text><line stroke=\"black\" stroke-width=\"1.5\" x1=\"126.0\" x2=\"126.0\" y1=\"770.85\" y2=\"741.15\"/><rect fill=\"green\" height=\"16.2\" width=\"32.4\" x=\"415.8\" y=\"758.16\"/><text alignment-baseline=\"middle\" fill=\"white\" font-family=\"Futura\" font-size=\"10.8\" text-anchor=\"middle\" x=\"432.0\" y=\"767.61\"/><rect fill=\"red\" height=\"16.2\" width=\"32.4\" x=\"415.8\" y=\"764.64\"/><text alignment-baseline=\"middle\" fill=\"white\" font-family=\"Futura\" font-size=\"10.8\" text-anchor=\"middle\" x=\"432.0\" y=\"774.09\"/><rect fill=\"rgb(200,200,200)\" height=\"16.2\" width=\"32.4\" x=\"415.8\" y=\"761.4\"/><circle cx=\"414.0\" cy=\"769.5\" fill=\"rgb(200,200,200)\" r=\"1.8\" stroke=\"rgb(200,200,200)\" stroke-width=\"0\"/><circle cx=\"450.0\" cy=\"769.5\" fill=\"rgb(200,200,200)\" r=\"1.8\" stroke=\"rgb(200,200,200)\" stroke-width=\"0\"/><text alignment-baseline=\"middle\" fill=\"white\" font-family=\"Futura\" font-size=\"10.8\" text-anchor=\"middle\" x=\"432.0\" y=\"770.85\">D</text><rect fill=\"green\" height=\"16.2\" width=\"32.4\" x=\"127.8\" y=\"788.4\"/><circle cx=\"126.0\" cy=\"796.5\" fill=\"green\" r=\"1.8\" stroke=\"green\" stroke-width=\"0\"/><circle cx=\"162.0\" cy=\"796.5\" fill=\"green\" r=\"1.8\" stroke=\"green\" stroke-width=\"0\"/><text alignment-baseline=\"middle\" fill=\"white\" font-family=\"Futura\" font-size=\"10.8\" text-anchor=\"middle\" x=\"144.0\" y=\"797.85\"/><text alignment-baseline=\"middle\" fill=\"black\" font-family=\"Futura\" font-size=\"10.8\" text-anchor=\"start\" x=\"169.2\" y=\"797.85\">BackwardShoot</text><line stroke=\"black\" stroke-width=\"1.5\" x1=\"126.0\" x2=\"126.0\" y1=\"797.85\" y2=\"768.15\"/><rect fill=\"green\" height=\"16.2\" width=\"32.4\" x=\"415.8\" y=\"785.16\"/><text alignment-baseline=\"middle\" fill=\"white\" font-family=\"Futura\" font-size=\"10.8\" text-anchor=\"middle\" x=\"432.0\" y=\"794.61\"/><rect fill=\"red\" height=\"16.2\" width=\"32.4\" x=\"415.8\" y=\"791.64\"/><text alignment-baseline=\"middle\" fill=\"white\" font-family=\"Futura\" font-size=\"10.8\" text-anchor=\"middle\" x=\"432.0\" y=\"801.09\"/><rect fill=\"rgb(200,200,200)\" height=\"16.2\" width=\"32.4\" x=\"415.8\" y=\"788.4\"/><circle cx=\"414.0\" cy=\"796.5\" fill=\"rgb(200,200,200)\" r=\"1.8\" stroke=\"rgb(200,200,200)\" stroke-width=\"0\"/><circle cx=\"450.0\" cy=\"796.5\" fill=\"rgb(200,200,200)\" r=\"1.8\" stroke=\"rgb(200,200,200)\" stroke-width=\"0\"/><text alignment-baseline=\"middle\" fill=\"white\" font-family=\"Futura\" font-size=\"10.8\" text-anchor=\"middle\" x=\"432.0\" y=\"797.85\">D</text><rect fill=\"green\" height=\"16.2\" width=\"32.4\" x=\"55.8\" y=\"815.4\"/><circle cx=\"54.0\" cy=\"823.5\" fill=\"green\" r=\"1.8\" stroke=\"green\" stroke-width=\"0\"/><circle cx=\"90.0\" cy=\"823.5\" fill=\"green\" r=\"1.8\" stroke=\"green\" stroke-width=\"0\"/><text alignment-baseline=\"middle\" fill=\"white\" font-family=\"Futura\" font-size=\"10.8\" text-anchor=\"middle\" x=\"72.0\" y=\"824.85\"/><text alignment-baseline=\"middle\" fill=\"black\" font-family=\"Futura\" font-size=\"10.8\" text-anchor=\"start\" x=\"97.2\" y=\"824.85\">RandomChoice</text><line stroke=\"black\" stroke-width=\"1.5\" x1=\"54.0\" x2=\"54.0\" y1=\"824.85\" y2=\"174.15\"/><rect fill=\"red\" height=\"16.2\" width=\"32.4\" x=\"559.8\" y=\"818.64\"/><text alignment-baseline=\"middle\" fill=\"white\" font-family=\"Futura\" font-size=\"10.8\" text-anchor=\"middle\" x=\"576.0\" y=\"828.09\"/><rect fill=\"rgb(200,200,200)\" height=\"16.2\" width=\"32.4\" x=\"559.8\" y=\"815.4\"/><circle cx=\"558.0\" cy=\"823.5\" fill=\"rgb(200,200,200)\" r=\"1.8\" stroke=\"rgb(200,200,200)\" stroke-width=\"0\"/><circle cx=\"594.0\" cy=\"823.5\" fill=\"rgb(200,200,200)\" r=\"1.8\" stroke=\"rgb(200,200,200)\" stroke-width=\"0\"/><text alignment-baseline=\"middle\" fill=\"white\" font-family=\"Futura\" font-size=\"10.8\" text-anchor=\"middle\" x=\"576.0\" y=\"824.85\">H</text><rect fill=\"green\" height=\"16.2\" width=\"32.4\" x=\"595.8\" y=\"812.16\"/><text alignment-baseline=\"middle\" fill=\"white\" font-family=\"Futura\" font-size=\"10.8\" text-anchor=\"middle\" x=\"612.0\" y=\"821.61\"/><rect fill=\"red\" height=\"16.2\" width=\"32.4\" x=\"595.8\" y=\"818.64\"/><text alignment-baseline=\"middle\" fill=\"white\" font-family=\"Futura\" font-size=\"10.8\" text-anchor=\"middle\" x=\"612.0\" y=\"828.09\"/><rect fill=\"rgb(200,200,200)\" height=\"16.2\" width=\"32.4\" x=\"595.8\" y=\"815.4\"/><circle cx=\"594.0\" cy=\"823.5\" fill=\"rgb(200,200,200)\" r=\"1.8\" stroke=\"rgb(200,200,200)\" stroke-width=\"0\"/><circle cx=\"630.0\" cy=\"823.5\" fill=\"rgb(200,200,200)\" r=\"1.8\" stroke=\"rgb(200,200,200)\" stroke-width=\"0\"/><text alignment-baseline=\"middle\" fill=\"white\" font-family=\"Futura\" font-size=\"10.8\" text-anchor=\"middle\" x=\"612.0\" y=\"824.85\">I</text><rect fill=\"red\" height=\"16.2\" width=\"32.4\" x=\"631.8\" y=\"818.64\"/><text alignment-baseline=\"middle\" fill=\"white\" font-family=\"Futura\" font-size=\"10.8\" text-anchor=\"middle\" x=\"648.0\" y=\"828.09\"/><rect fill=\"rgb(200,200,200)\" height=\"16.2\" width=\"32.4\" x=\"631.8\" y=\"815.4\"/><circle cx=\"630.0\" cy=\"823.5\" fill=\"rgb(200,200,200)\" r=\"1.8\" stroke=\"rgb(200,200,200)\" stroke-width=\"0\"/><circle cx=\"666.0\" cy=\"823.5\" fill=\"rgb(200,200,200)\" r=\"1.8\" stroke=\"rgb(200,200,200)\" stroke-width=\"0\"/><text alignment-baseline=\"middle\" fill=\"white\" font-family=\"Futura\" font-size=\"10.8\" text-anchor=\"middle\" x=\"648.0\" y=\"824.85\">J</text><rect fill=\"green\" height=\"16.2\" width=\"32.4\" x=\"91.8\" y=\"842.4\"/><circle cx=\"90.0\" cy=\"850.5\" fill=\"green\" r=\"1.8\" stroke=\"green\" stroke-width=\"0\"/><circle cx=\"126.0\" cy=\"850.5\" fill=\"green\" r=\"1.8\" stroke=\"green\" stroke-width=\"0\"/><text alignment-baseline=\"middle\" fill=\"white\" font-family=\"Futura\" font-size=\"10.8\" text-anchor=\"middle\" x=\"108.0\" y=\"851.85\"/><text alignment-baseline=\"middle\" fill=\"black\" font-family=\"Futura\" font-size=\"10.8\" text-anchor=\"start\" x=\"133.2\" y=\"851.85\">IdentityPath</text><line stroke=\"black\" stroke-width=\"1.5\" x1=\"90.0\" x2=\"90.0\" y1=\"851.85\" y2=\"822.15\"/><rect fill=\"green\" height=\"16.2\" width=\"32.4\" x=\"91.8\" y=\"869.4\"/><circle cx=\"90.0\" cy=\"877.5\" fill=\"green\" r=\"1.8\" stroke=\"green\" stroke-width=\"0\"/><circle cx=\"126.0\" cy=\"877.5\" fill=\"green\" r=\"1.8\" stroke=\"green\" stroke-width=\"0\"/><text alignment-baseline=\"middle\" fill=\"white\" font-family=\"Futura\" font-size=\"10.8\" text-anchor=\"middle\" x=\"108.0\" y=\"878.85\"/><text alignment-baseline=\"middle\" fill=\"black\" font-family=\"Futura\" font-size=\"10.8\" text-anchor=\"start\" x=\"133.2\" y=\"878.85\">EnsembleHop</text><line stroke=\"black\" stroke-width=\"1.5\" x1=\"90.0\" x2=\"90.0\" y1=\"878.85\" y2=\"849.15\"/><rect fill=\"red\" height=\"16.2\" width=\"32.4\" x=\"559.8\" y=\"872.64\"/><text alignment-baseline=\"middle\" fill=\"white\" font-family=\"Futura\" font-size=\"10.8\" text-anchor=\"middle\" x=\"576.0\" y=\"882.09\"/><rect fill=\"rgb(200,200,200)\" height=\"16.2\" width=\"32.4\" x=\"559.8\" y=\"869.4\"/><circle cx=\"558.0\" cy=\"877.5\" fill=\"rgb(200,200,200)\" r=\"1.8\" stroke=\"rgb(200,200,200)\" stroke-width=\"0\"/><circle cx=\"594.0\" cy=\"877.5\" fill=\"rgb(200,200,200)\" r=\"1.8\" stroke=\"rgb(200,200,200)\" stroke-width=\"0\"/><text alignment-baseline=\"middle\" fill=\"white\" font-family=\"Futura\" font-size=\"10.8\" text-anchor=\"middle\" x=\"576.0\" y=\"878.85\">H</text><rect fill=\"green\" height=\"16.2\" width=\"32.4\" x=\"595.8\" y=\"866.16\"/><text alignment-baseline=\"middle\" fill=\"white\" font-family=\"Futura\" font-size=\"10.8\" text-anchor=\"middle\" x=\"612.0\" y=\"875.61\"/><rect fill=\"rgb(200,200,200)\" height=\"16.2\" width=\"32.4\" x=\"595.8\" y=\"869.4\"/><circle cx=\"594.0\" cy=\"877.5\" fill=\"rgb(200,200,200)\" r=\"1.8\" stroke=\"rgb(200,200,200)\" stroke-width=\"0\"/><circle cx=\"630.0\" cy=\"877.5\" fill=\"rgb(200,200,200)\" r=\"1.8\" stroke=\"rgb(200,200,200)\" stroke-width=\"0\"/><text alignment-baseline=\"middle\" fill=\"white\" font-family=\"Futura\" font-size=\"10.8\" text-anchor=\"middle\" x=\"612.0\" y=\"878.85\">I</text><rect fill=\"green\" height=\"16.2\" width=\"32.4\" x=\"91.8\" y=\"896.4\"/><circle cx=\"90.0\" cy=\"904.5\" fill=\"green\" r=\"1.8\" stroke=\"green\" stroke-width=\"0\"/><circle cx=\"126.0\" cy=\"904.5\" fill=\"green\" r=\"1.8\" stroke=\"green\" stroke-width=\"0\"/><text alignment-baseline=\"middle\" fill=\"white\" font-family=\"Futura\" font-size=\"10.8\" text-anchor=\"middle\" x=\"108.0\" y=\"905.85\"/><text alignment-baseline=\"middle\" fill=\"black\" font-family=\"Futura\" font-size=\"10.8\" text-anchor=\"start\" x=\"133.2\" y=\"905.85\">PathReversal</text><line stroke=\"black\" stroke-width=\"1.5\" x1=\"90.0\" x2=\"90.0\" y1=\"905.85\" y2=\"876.15\"/><rect fill=\"green\" height=\"16.2\" width=\"32.4\" x=\"595.8\" y=\"893.16\"/><text alignment-baseline=\"middle\" fill=\"white\" font-family=\"Futura\" font-size=\"10.8\" text-anchor=\"middle\" x=\"612.0\" y=\"902.61\"/><rect fill=\"red\" height=\"16.2\" width=\"32.4\" x=\"595.8\" y=\"899.64\"/><text alignment-baseline=\"middle\" fill=\"white\" font-family=\"Futura\" font-size=\"10.8\" text-anchor=\"middle\" x=\"612.0\" y=\"909.09\"/><rect fill=\"rgb(200,200,200)\" height=\"16.2\" width=\"32.4\" x=\"595.8\" y=\"896.4\"/><circle cx=\"594.0\" cy=\"904.5\" fill=\"rgb(200,200,200)\" r=\"1.8\" stroke=\"rgb(200,200,200)\" stroke-width=\"0\"/><circle cx=\"630.0\" cy=\"904.5\" fill=\"rgb(200,200,200)\" r=\"1.8\" stroke=\"rgb(200,200,200)\" stroke-width=\"0\"/><text alignment-baseline=\"middle\" fill=\"white\" font-family=\"Futura\" font-size=\"10.8\" text-anchor=\"middle\" x=\"612.0\" y=\"905.85\">I</text><rect fill=\"green\" height=\"16.2\" width=\"32.4\" x=\"91.8\" y=\"923.4\"/><circle cx=\"90.0\" cy=\"931.5\" fill=\"green\" r=\"1.8\" stroke=\"green\" stroke-width=\"0\"/><circle cx=\"126.0\" cy=\"931.5\" fill=\"green\" r=\"1.8\" stroke=\"green\" stroke-width=\"0\"/><text alignment-baseline=\"middle\" fill=\"white\" font-family=\"Futura\" font-size=\"10.8\" text-anchor=\"middle\" x=\"108.0\" y=\"932.85\"/><text alignment-baseline=\"middle\" fill=\"black\" font-family=\"Futura\" font-size=\"10.8\" text-anchor=\"start\" x=\"133.2\" y=\"932.85\">OneWayShooting</text><line stroke=\"black\" stroke-width=\"1.5\" x1=\"90.0\" x2=\"90.0\" y1=\"932.85\" y2=\"903.15\"/><rect fill=\"green\" height=\"16.2\" width=\"32.4\" x=\"595.8\" y=\"920.16\"/><text alignment-baseline=\"middle\" fill=\"white\" font-family=\"Futura\" font-size=\"10.8\" text-anchor=\"middle\" x=\"612.0\" y=\"929.61\"/><rect fill=\"red\" height=\"16.2\" width=\"32.4\" x=\"595.8\" y=\"926.64\"/><text alignment-baseline=\"middle\" fill=\"white\" font-family=\"Futura\" font-size=\"10.8\" text-anchor=\"middle\" x=\"612.0\" y=\"936.09\"/><rect fill=\"rgb(200,200,200)\" height=\"16.2\" width=\"32.4\" x=\"595.8\" y=\"923.4\"/><circle cx=\"594.0\" cy=\"931.5\" fill=\"rgb(200,200,200)\" r=\"1.8\" stroke=\"rgb(200,200,200)\" stroke-width=\"0\"/><circle cx=\"630.0\" cy=\"931.5\" fill=\"rgb(200,200,200)\" r=\"1.8\" stroke=\"rgb(200,200,200)\" stroke-width=\"0\"/><text alignment-baseline=\"middle\" fill=\"white\" font-family=\"Futura\" font-size=\"10.8\" text-anchor=\"middle\" x=\"612.0\" y=\"932.85\">I</text><rect fill=\"green\" height=\"16.2\" width=\"32.4\" x=\"127.8\" y=\"950.4\"/><circle cx=\"126.0\" cy=\"958.5\" fill=\"green\" r=\"1.8\" stroke=\"green\" stroke-width=\"0\"/><circle cx=\"162.0\" cy=\"958.5\" fill=\"green\" r=\"1.8\" stroke=\"green\" stroke-width=\"0\"/><text alignment-baseline=\"middle\" fill=\"white\" font-family=\"Futura\" font-size=\"10.8\" text-anchor=\"middle\" x=\"144.0\" y=\"959.85\"/><text alignment-baseline=\"middle\" fill=\"black\" font-family=\"Futura\" font-size=\"10.8\" text-anchor=\"start\" x=\"169.2\" y=\"959.85\">ForwardShoot</text><line stroke=\"black\" stroke-width=\"1.5\" x1=\"126.0\" x2=\"126.0\" y1=\"959.85\" y2=\"930.15\"/><rect fill=\"green\" height=\"16.2\" width=\"32.4\" x=\"595.8\" y=\"947.16\"/><text alignment-baseline=\"middle\" fill=\"white\" font-family=\"Futura\" font-size=\"10.8\" text-anchor=\"middle\" x=\"612.0\" y=\"956.61\"/><rect fill=\"red\" height=\"16.2\" width=\"32.4\" x=\"595.8\" y=\"953.64\"/><text alignment-baseline=\"middle\" fill=\"white\" font-family=\"Futura\" font-size=\"10.8\" text-anchor=\"middle\" x=\"612.0\" y=\"963.09\"/><rect fill=\"rgb(200,200,200)\" height=\"16.2\" width=\"32.4\" x=\"595.8\" y=\"950.4\"/><circle cx=\"594.0\" cy=\"958.5\" fill=\"rgb(200,200,200)\" r=\"1.8\" stroke=\"rgb(200,200,200)\" stroke-width=\"0\"/><circle cx=\"630.0\" cy=\"958.5\" fill=\"rgb(200,200,200)\" r=\"1.8\" stroke=\"rgb(200,200,200)\" stroke-width=\"0\"/><text alignment-baseline=\"middle\" fill=\"white\" font-family=\"Futura\" font-size=\"10.8\" text-anchor=\"middle\" x=\"612.0\" y=\"959.85\">I</text><rect fill=\"green\" height=\"16.2\" width=\"32.4\" x=\"127.8\" y=\"977.4\"/><circle cx=\"126.0\" cy=\"985.5\" fill=\"green\" r=\"1.8\" stroke=\"green\" stroke-width=\"0\"/><circle cx=\"162.0\" cy=\"985.5\" fill=\"green\" r=\"1.8\" stroke=\"green\" stroke-width=\"0\"/><text alignment-baseline=\"middle\" fill=\"white\" font-family=\"Futura\" font-size=\"10.8\" text-anchor=\"middle\" x=\"144.0\" y=\"986.85\"/><text alignment-baseline=\"middle\" fill=\"black\" font-family=\"Futura\" font-size=\"10.8\" text-anchor=\"start\" x=\"169.2\" y=\"986.85\">BackwardShoot</text><line stroke=\"black\" stroke-width=\"1.5\" x1=\"126.0\" x2=\"126.0\" y1=\"986.85\" y2=\"957.15\"/><rect fill=\"green\" height=\"16.2\" width=\"32.4\" x=\"595.8\" y=\"974.16\"/><text alignment-baseline=\"middle\" fill=\"white\" font-family=\"Futura\" font-size=\"10.8\" text-anchor=\"middle\" x=\"612.0\" y=\"983.61\"/><rect fill=\"red\" height=\"16.2\" width=\"32.4\" x=\"595.8\" y=\"980.64\"/><text alignment-baseline=\"middle\" fill=\"white\" font-family=\"Futura\" font-size=\"10.8\" text-anchor=\"middle\" x=\"612.0\" y=\"990.09\"/><rect fill=\"rgb(200,200,200)\" height=\"16.2\" width=\"32.4\" x=\"595.8\" y=\"977.4\"/><circle cx=\"594.0\" cy=\"985.5\" fill=\"rgb(200,200,200)\" r=\"1.8\" stroke=\"rgb(200,200,200)\" stroke-width=\"0\"/><circle cx=\"630.0\" cy=\"985.5\" fill=\"rgb(200,200,200)\" r=\"1.8\" stroke=\"rgb(200,200,200)\" stroke-width=\"0\"/><text alignment-baseline=\"middle\" fill=\"white\" font-family=\"Futura\" font-size=\"10.8\" text-anchor=\"middle\" x=\"612.0\" y=\"986.85\">I</text><rect fill=\"green\" height=\"16.2\" width=\"32.4\" x=\"91.8\" y=\"1004.4\"/><circle cx=\"90.0\" cy=\"1012.5\" fill=\"green\" r=\"1.8\" stroke=\"green\" stroke-width=\"0\"/><circle cx=\"126.0\" cy=\"1012.5\" fill=\"green\" r=\"1.8\" stroke=\"green\" stroke-width=\"0\"/><text alignment-baseline=\"middle\" fill=\"white\" font-family=\"Futura\" font-size=\"10.8\" text-anchor=\"middle\" x=\"108.0\" y=\"1013.85\"/><text alignment-baseline=\"middle\" fill=\"black\" font-family=\"Futura\" font-size=\"10.8\" text-anchor=\"start\" x=\"133.2\" y=\"1013.85\">EnsembleHop</text><line stroke=\"black\" stroke-width=\"1.5\" x1=\"90.0\" x2=\"90.0\" y1=\"1013.85\" y2=\"930.15\"/><rect fill=\"green\" height=\"16.2\" width=\"32.4\" x=\"595.8\" y=\"1001.16\"/><text alignment-baseline=\"middle\" fill=\"white\" font-family=\"Futura\" font-size=\"10.8\" text-anchor=\"middle\" x=\"612.0\" y=\"1010.61\"/><rect fill=\"rgb(200,200,200)\" height=\"16.2\" width=\"32.4\" x=\"595.8\" y=\"1004.4\"/><circle cx=\"594.0\" cy=\"1012.5\" fill=\"rgb(200,200,200)\" r=\"1.8\" stroke=\"rgb(200,200,200)\" stroke-width=\"0\"/><circle cx=\"630.0\" cy=\"1012.5\" fill=\"rgb(200,200,200)\" r=\"1.8\" stroke=\"rgb(200,200,200)\" stroke-width=\"0\"/><text alignment-baseline=\"middle\" fill=\"white\" font-family=\"Futura\" font-size=\"10.8\" text-anchor=\"middle\" x=\"612.0\" y=\"1013.85\">I</text><rect fill=\"red\" height=\"16.2\" width=\"32.4\" x=\"631.8\" y=\"1007.64\"/><text alignment-baseline=\"middle\" fill=\"white\" font-family=\"Futura\" font-size=\"10.8\" text-anchor=\"middle\" x=\"648.0\" y=\"1017.09\"/><rect fill=\"rgb(200,200,200)\" height=\"16.2\" width=\"32.4\" x=\"631.8\" y=\"1004.4\"/><circle cx=\"630.0\" cy=\"1012.5\" fill=\"rgb(200,200,200)\" r=\"1.8\" stroke=\"rgb(200,200,200)\" stroke-width=\"0\"/><circle cx=\"666.0\" cy=\"1012.5\" fill=\"rgb(200,200,200)\" r=\"1.8\" stroke=\"rgb(200,200,200)\" stroke-width=\"0\"/><text alignment-baseline=\"middle\" fill=\"white\" font-family=\"Futura\" font-size=\"10.8\" text-anchor=\"middle\" x=\"648.0\" y=\"1013.85\">J</text><rect fill=\"green\" height=\"16.2\" width=\"32.4\" x=\"55.8\" y=\"1031.4\"/><circle cx=\"54.0\" cy=\"1039.5\" fill=\"green\" r=\"1.8\" stroke=\"green\" stroke-width=\"0\"/><circle cx=\"90.0\" cy=\"1039.5\" fill=\"green\" r=\"1.8\" stroke=\"green\" stroke-width=\"0\"/><text alignment-baseline=\"middle\" fill=\"white\" font-family=\"Futura\" font-size=\"10.8\" text-anchor=\"middle\" x=\"72.0\" y=\"1040.85\"/><text alignment-baseline=\"middle\" fill=\"black\" font-family=\"Futura\" font-size=\"10.8\" text-anchor=\"start\" x=\"97.2\" y=\"1040.85\">RandomChoice</text><line stroke=\"black\" stroke-width=\"1.5\" x1=\"54.0\" x2=\"54.0\" y1=\"1040.85\" y2=\"822.15\"/><rect fill=\"green\" height=\"16.2\" width=\"32.4\" x=\"307.8\" y=\"1028.16\"/><text alignment-baseline=\"middle\" fill=\"white\" font-family=\"Futura\" font-size=\"10.8\" text-anchor=\"middle\" x=\"324.0\" y=\"1037.61\"/><rect fill=\"red\" height=\"16.2\" width=\"32.4\" x=\"307.8\" y=\"1034.64\"/><text alignment-baseline=\"middle\" fill=\"white\" font-family=\"Futura\" font-size=\"10.8\" text-anchor=\"middle\" x=\"324.0\" y=\"1044.09\"/><rect fill=\"rgb(200,200,200)\" height=\"16.2\" width=\"32.4\" x=\"307.8\" y=\"1031.4\"/><circle cx=\"306.0\" cy=\"1039.5\" fill=\"rgb(200,200,200)\" r=\"1.8\" stroke=\"rgb(200,200,200)\" stroke-width=\"0\"/><circle cx=\"342.0\" cy=\"1039.5\" fill=\"rgb(200,200,200)\" r=\"1.8\" stroke=\"rgb(200,200,200)\" stroke-width=\"0\"/><text alignment-baseline=\"middle\" fill=\"white\" font-family=\"Futura\" font-size=\"10.8\" text-anchor=\"middle\" x=\"324.0\" y=\"1040.85\">A</text><rect fill=\"red\" height=\"16.2\" width=\"32.4\" x=\"343.8\" y=\"1034.64\"/><text alignment-baseline=\"middle\" fill=\"white\" font-family=\"Futura\" font-size=\"10.8\" text-anchor=\"middle\" x=\"360.0\" y=\"1044.09\"/><rect fill=\"rgb(200,200,200)\" height=\"16.2\" width=\"32.4\" x=\"343.8\" y=\"1031.4\"/><circle cx=\"342.0\" cy=\"1039.5\" fill=\"rgb(200,200,200)\" r=\"1.8\" stroke=\"rgb(200,200,200)\" stroke-width=\"0\"/><circle cx=\"378.0\" cy=\"1039.5\" fill=\"rgb(200,200,200)\" r=\"1.8\" stroke=\"rgb(200,200,200)\" stroke-width=\"0\"/><text alignment-baseline=\"middle\" fill=\"white\" font-family=\"Futura\" font-size=\"10.8\" text-anchor=\"middle\" x=\"360.0\" y=\"1040.85\">B</text><rect fill=\"green\" height=\"16.2\" width=\"32.4\" x=\"91.8\" y=\"1058.4\"/><circle cx=\"90.0\" cy=\"1066.5\" fill=\"green\" r=\"1.8\" stroke=\"green\" stroke-width=\"0\"/><circle cx=\"126.0\" cy=\"1066.5\" fill=\"green\" r=\"1.8\" stroke=\"green\" stroke-width=\"0\"/><text alignment-baseline=\"middle\" fill=\"white\" font-family=\"Futura\" font-size=\"10.8\" text-anchor=\"middle\" x=\"108.0\" y=\"1067.85\"/><text alignment-baseline=\"middle\" fill=\"black\" font-family=\"Futura\" font-size=\"10.8\" text-anchor=\"start\" x=\"133.2\" y=\"1067.85\">EnsembleHop</text><line stroke=\"black\" stroke-width=\"1.5\" x1=\"90.0\" x2=\"90.0\" y1=\"1067.85\" y2=\"1038.15\"/><rect fill=\"green\" height=\"16.2\" width=\"32.4\" x=\"307.8\" y=\"1055.16\"/><text alignment-baseline=\"middle\" fill=\"white\" font-family=\"Futura\" font-size=\"10.8\" text-anchor=\"middle\" x=\"324.0\" y=\"1064.61\"/><rect fill=\"rgb(200,200,200)\" height=\"16.2\" width=\"32.4\" x=\"307.8\" y=\"1058.4\"/><circle cx=\"306.0\" cy=\"1066.5\" fill=\"rgb(200,200,200)\" r=\"1.8\" stroke=\"rgb(200,200,200)\" stroke-width=\"0\"/><circle cx=\"342.0\" cy=\"1066.5\" fill=\"rgb(200,200,200)\" r=\"1.8\" stroke=\"rgb(200,200,200)\" stroke-width=\"0\"/><text alignment-baseline=\"middle\" fill=\"white\" font-family=\"Futura\" font-size=\"10.8\" text-anchor=\"middle\" x=\"324.0\" y=\"1067.85\">A</text><rect fill=\"red\" height=\"16.2\" width=\"32.4\" x=\"343.8\" y=\"1061.64\"/><text alignment-baseline=\"middle\" fill=\"white\" font-family=\"Futura\" font-size=\"10.8\" text-anchor=\"middle\" x=\"360.0\" y=\"1071.09\"/><rect fill=\"rgb(200,200,200)\" height=\"16.2\" width=\"32.4\" x=\"343.8\" y=\"1058.4\"/><circle cx=\"342.0\" cy=\"1066.5\" fill=\"rgb(200,200,200)\" r=\"1.8\" stroke=\"rgb(200,200,200)\" stroke-width=\"0\"/><circle cx=\"378.0\" cy=\"1066.5\" fill=\"rgb(200,200,200)\" r=\"1.8\" stroke=\"rgb(200,200,200)\" stroke-width=\"0\"/><text alignment-baseline=\"middle\" fill=\"white\" font-family=\"Futura\" font-size=\"10.8\" text-anchor=\"middle\" x=\"360.0\" y=\"1067.85\">B</text><rect fill=\"green\" height=\"16.2\" width=\"32.4\" x=\"91.8\" y=\"1085.4\"/><circle cx=\"90.0\" cy=\"1093.5\" fill=\"green\" r=\"1.8\" stroke=\"green\" stroke-width=\"0\"/><circle cx=\"126.0\" cy=\"1093.5\" fill=\"green\" r=\"1.8\" stroke=\"green\" stroke-width=\"0\"/><text alignment-baseline=\"middle\" fill=\"white\" font-family=\"Futura\" font-size=\"10.8\" text-anchor=\"middle\" x=\"108.0\" y=\"1094.85\"/><text alignment-baseline=\"middle\" fill=\"black\" font-family=\"Futura\" font-size=\"10.8\" text-anchor=\"start\" x=\"133.2\" y=\"1094.85\">SingleReplicaMinus</text><line stroke=\"black\" stroke-width=\"1.5\" x1=\"90.0\" x2=\"90.0\" y1=\"1094.85\" y2=\"1065.15\"/><rect fill=\"green\" height=\"16.2\" width=\"32.4\" x=\"307.8\" y=\"1082.16\"/><text alignment-baseline=\"middle\" fill=\"white\" font-family=\"Futura\" font-size=\"10.8\" text-anchor=\"middle\" x=\"324.0\" y=\"1091.61\"/><rect fill=\"red\" height=\"16.2\" width=\"32.4\" x=\"307.8\" y=\"1088.64\"/><text alignment-baseline=\"middle\" fill=\"white\" font-family=\"Futura\" font-size=\"10.8\" text-anchor=\"middle\" x=\"324.0\" y=\"1098.09\"/><rect fill=\"rgb(200,200,200)\" height=\"16.2\" width=\"32.4\" x=\"307.8\" y=\"1085.4\"/><circle cx=\"306.0\" cy=\"1093.5\" fill=\"rgb(200,200,200)\" r=\"1.8\" stroke=\"rgb(200,200,200)\" stroke-width=\"0\"/><circle cx=\"342.0\" cy=\"1093.5\" fill=\"rgb(200,200,200)\" r=\"1.8\" stroke=\"rgb(200,200,200)\" stroke-width=\"0\"/><text alignment-baseline=\"middle\" fill=\"white\" font-family=\"Futura\" font-size=\"10.8\" text-anchor=\"middle\" x=\"324.0\" y=\"1094.85\">A</text><rect fill=\"green\" height=\"16.2\" width=\"32.4\" x=\"127.8\" y=\"1112.4\"/><circle cx=\"126.0\" cy=\"1120.5\" fill=\"green\" r=\"1.8\" stroke=\"green\" stroke-width=\"0\"/><circle cx=\"162.0\" cy=\"1120.5\" fill=\"green\" r=\"1.8\" stroke=\"green\" stroke-width=\"0\"/><text alignment-baseline=\"middle\" fill=\"white\" font-family=\"Futura\" font-size=\"10.8\" text-anchor=\"middle\" x=\"144.0\" y=\"1121.85\"/><text alignment-baseline=\"middle\" fill=\"black\" font-family=\"Futura\" font-size=\"10.8\" text-anchor=\"start\" x=\"169.2\" y=\"1121.85\">EnsembleFilter</text><line stroke=\"black\" stroke-width=\"1.5\" x1=\"126.0\" x2=\"126.0\" y1=\"1121.85\" y2=\"1092.15\"/><rect fill=\"green\" height=\"16.2\" width=\"32.4\" x=\"307.8\" y=\"1109.16\"/><text alignment-baseline=\"middle\" fill=\"white\" font-family=\"Futura\" font-size=\"10.8\" text-anchor=\"middle\" x=\"324.0\" y=\"1118.61\"/><rect fill=\"red\" height=\"16.2\" width=\"32.4\" x=\"307.8\" y=\"1115.64\"/><text alignment-baseline=\"middle\" fill=\"white\" font-family=\"Futura\" font-size=\"10.8\" text-anchor=\"middle\" x=\"324.0\" y=\"1125.09\"/><rect fill=\"rgb(200,200,200)\" height=\"16.2\" width=\"32.4\" x=\"307.8\" y=\"1112.4\"/><circle cx=\"306.0\" cy=\"1120.5\" fill=\"rgb(200,200,200)\" r=\"1.8\" stroke=\"rgb(200,200,200)\" stroke-width=\"0\"/><circle cx=\"342.0\" cy=\"1120.5\" fill=\"rgb(200,200,200)\" r=\"1.8\" stroke=\"rgb(200,200,200)\" stroke-width=\"0\"/><text alignment-baseline=\"middle\" fill=\"white\" font-family=\"Futura\" font-size=\"10.8\" text-anchor=\"middle\" x=\"324.0\" y=\"1121.85\">A</text><rect fill=\"green\" height=\"16.2\" width=\"32.4\" x=\"163.8\" y=\"1139.4\"/><circle cx=\"162.0\" cy=\"1147.5\" fill=\"green\" r=\"1.8\" stroke=\"green\" stroke-width=\"0\"/><circle cx=\"198.0\" cy=\"1147.5\" fill=\"green\" r=\"1.8\" stroke=\"green\" stroke-width=\"0\"/><text alignment-baseline=\"middle\" fill=\"white\" font-family=\"Futura\" font-size=\"10.8\" text-anchor=\"middle\" x=\"180.0\" y=\"1148.85\"/><text alignment-baseline=\"middle\" fill=\"black\" font-family=\"Futura\" font-size=\"10.8\" text-anchor=\"start\" x=\"205.2\" y=\"1148.85\">RandomChoice</text><line stroke=\"black\" stroke-width=\"1.5\" x1=\"162.0\" x2=\"162.0\" y1=\"1148.85\" y2=\"1119.15\"/><rect fill=\"green\" height=\"16.2\" width=\"32.4\" x=\"307.8\" y=\"1136.16\"/><text alignment-baseline=\"middle\" fill=\"white\" font-family=\"Futura\" font-size=\"10.8\" text-anchor=\"middle\" x=\"324.0\" y=\"1145.61\"/><rect fill=\"red\" height=\"16.2\" width=\"32.4\" x=\"307.8\" y=\"1142.64\"/><text alignment-baseline=\"middle\" fill=\"white\" font-family=\"Futura\" font-size=\"10.8\" text-anchor=\"middle\" x=\"324.0\" y=\"1152.09\"/><rect fill=\"rgb(200,200,200)\" height=\"16.2\" width=\"32.4\" x=\"307.8\" y=\"1139.4\"/><circle cx=\"306.0\" cy=\"1147.5\" fill=\"rgb(200,200,200)\" r=\"1.8\" stroke=\"rgb(200,200,200)\" stroke-width=\"0\"/><circle cx=\"342.0\" cy=\"1147.5\" fill=\"rgb(200,200,200)\" r=\"1.8\" stroke=\"rgb(200,200,200)\" stroke-width=\"0\"/><text alignment-baseline=\"middle\" fill=\"white\" font-family=\"Futura\" font-size=\"10.8\" text-anchor=\"middle\" x=\"324.0\" y=\"1148.85\">A</text><rect fill=\"green\" height=\"16.2\" width=\"32.4\" x=\"739.8\" y=\"1136.16\"/><text alignment-baseline=\"middle\" fill=\"white\" font-family=\"Futura\" font-size=\"10.8\" text-anchor=\"middle\" x=\"756.0\" y=\"1145.61\"/><rect fill=\"red\" height=\"16.2\" width=\"32.4\" x=\"739.8\" y=\"1142.64\"/><text alignment-baseline=\"middle\" fill=\"white\" font-family=\"Futura\" font-size=\"10.8\" text-anchor=\"middle\" x=\"756.0\" y=\"1152.09\"/><rect fill=\"rgb(200,200,200)\" height=\"16.2\" width=\"32.4\" x=\"739.8\" y=\"1139.4\"/><circle cx=\"738.0\" cy=\"1147.5\" fill=\"rgb(200,200,200)\" r=\"1.8\" stroke=\"rgb(200,200,200)\" stroke-width=\"0\"/><circle cx=\"774.0\" cy=\"1147.5\" fill=\"rgb(200,200,200)\" r=\"1.8\" stroke=\"rgb(200,200,200)\" stroke-width=\"0\"/><text alignment-baseline=\"middle\" fill=\"white\" font-family=\"Futura\" font-size=\"10.8\" text-anchor=\"middle\" x=\"756.0\" y=\"1148.85\">M</text><rect fill=\"green\" height=\"16.2\" width=\"32.4\" x=\"199.8\" y=\"1166.4\"/><circle cx=\"198.0\" cy=\"1174.5\" fill=\"green\" r=\"1.8\" stroke=\"green\" stroke-width=\"0\"/><circle cx=\"234.0\" cy=\"1174.5\" fill=\"green\" r=\"1.8\" stroke=\"green\" stroke-width=\"0\"/><text alignment-baseline=\"middle\" fill=\"white\" font-family=\"Futura\" font-size=\"10.8\" text-anchor=\"middle\" x=\"216.0\" y=\"1175.85\"/><text alignment-baseline=\"middle\" fill=\"black\" font-family=\"Futura\" font-size=\"10.8\" text-anchor=\"start\" x=\"241.2\" y=\"1175.85\">ConditionalSequential</text><line stroke=\"black\" stroke-width=\"1.5\" x1=\"198.0\" x2=\"198.0\" y1=\"1175.85\" y2=\"1146.15\"/><rect fill=\"green\" height=\"16.2\" width=\"32.4\" x=\"307.8\" y=\"1163.16\"/><text alignment-baseline=\"middle\" fill=\"white\" font-family=\"Futura\" font-size=\"10.8\" text-anchor=\"middle\" x=\"324.0\" y=\"1172.61\"/><rect fill=\"red\" height=\"16.2\" width=\"32.4\" x=\"307.8\" y=\"1169.64\"/><text alignment-baseline=\"middle\" fill=\"white\" font-family=\"Futura\" font-size=\"10.8\" text-anchor=\"middle\" x=\"324.0\" y=\"1179.09\"/><rect fill=\"rgb(200,200,200)\" height=\"16.2\" width=\"32.4\" x=\"307.8\" y=\"1166.4\"/><circle cx=\"306.0\" cy=\"1174.5\" fill=\"rgb(200,200,200)\" r=\"1.8\" stroke=\"rgb(200,200,200)\" stroke-width=\"0\"/><circle cx=\"342.0\" cy=\"1174.5\" fill=\"rgb(200,200,200)\" r=\"1.8\" stroke=\"rgb(200,200,200)\" stroke-width=\"0\"/><text alignment-baseline=\"middle\" fill=\"white\" font-family=\"Futura\" font-size=\"10.8\" text-anchor=\"middle\" x=\"324.0\" y=\"1175.85\">A</text><rect fill=\"green\" height=\"16.2\" width=\"32.4\" x=\"739.8\" y=\"1163.16\"/><text alignment-baseline=\"middle\" fill=\"white\" font-family=\"Futura\" font-size=\"10.8\" text-anchor=\"middle\" x=\"756.0\" y=\"1172.61\"/><rect fill=\"red\" height=\"16.2\" width=\"32.4\" x=\"739.8\" y=\"1169.64\"/><text alignment-baseline=\"middle\" fill=\"white\" font-family=\"Futura\" font-size=\"10.8\" text-anchor=\"middle\" x=\"756.0\" y=\"1179.09\"/><rect fill=\"rgb(200,200,200)\" height=\"16.2\" width=\"32.4\" x=\"739.8\" y=\"1166.4\"/><circle cx=\"738.0\" cy=\"1174.5\" fill=\"rgb(200,200,200)\" r=\"1.8\" stroke=\"rgb(200,200,200)\" stroke-width=\"0\"/><circle cx=\"774.0\" cy=\"1174.5\" fill=\"rgb(200,200,200)\" r=\"1.8\" stroke=\"rgb(200,200,200)\" stroke-width=\"0\"/><text alignment-baseline=\"middle\" fill=\"white\" font-family=\"Futura\" font-size=\"10.8\" text-anchor=\"middle\" x=\"756.0\" y=\"1175.85\">M</text><rect fill=\"green\" height=\"16.2\" width=\"32.4\" x=\"235.8\" y=\"1193.4\"/><circle cx=\"234.0\" cy=\"1201.5\" fill=\"green\" r=\"1.8\" stroke=\"green\" stroke-width=\"0\"/><circle cx=\"270.0\" cy=\"1201.5\" fill=\"green\" r=\"1.8\" stroke=\"green\" stroke-width=\"0\"/><text alignment-baseline=\"middle\" fill=\"white\" font-family=\"Futura\" font-size=\"10.8\" text-anchor=\"middle\" x=\"252.0\" y=\"1202.85\"/><text alignment-baseline=\"middle\" fill=\"black\" font-family=\"Futura\" font-size=\"10.8\" text-anchor=\"start\" x=\"277.2\" y=\"1202.85\">RandomAllowedChoice</text><line stroke=\"black\" stroke-width=\"1.5\" x1=\"234.0\" x2=\"234.0\" y1=\"1202.85\" y2=\"1173.15\"/><rect fill=\"green\" height=\"16.2\" width=\"32.4\" x=\"307.8\" y=\"1190.16\"/><text alignment-baseline=\"middle\" fill=\"white\" font-family=\"Futura\" font-size=\"10.8\" text-anchor=\"middle\" x=\"324.0\" y=\"1199.61\"/><rect fill=\"rgb(200,200,200)\" height=\"16.2\" width=\"32.4\" x=\"307.8\" y=\"1193.4\"/><circle cx=\"306.0\" cy=\"1201.5\" fill=\"rgb(200,200,200)\" r=\"1.8\" stroke=\"rgb(200,200,200)\" stroke-width=\"0\"/><circle cx=\"342.0\" cy=\"1201.5\" fill=\"rgb(200,200,200)\" r=\"1.8\" stroke=\"rgb(200,200,200)\" stroke-width=\"0\"/><text alignment-baseline=\"middle\" fill=\"white\" font-family=\"Futura\" font-size=\"10.8\" text-anchor=\"middle\" x=\"324.0\" y=\"1202.85\">A</text><rect fill=\"green\" height=\"16.2\" width=\"32.4\" x=\"271.8\" y=\"1220.4\"/><circle cx=\"270.0\" cy=\"1228.5\" fill=\"green\" r=\"1.8\" stroke=\"green\" stroke-width=\"0\"/><circle cx=\"306.0\" cy=\"1228.5\" fill=\"green\" r=\"1.8\" stroke=\"green\" stroke-width=\"0\"/><text alignment-baseline=\"middle\" fill=\"white\" font-family=\"Futura\" font-size=\"10.8\" text-anchor=\"middle\" x=\"288.0\" y=\"1229.85\"/><text alignment-baseline=\"middle\" fill=\"black\" font-family=\"Futura\" font-size=\"10.8\" text-anchor=\"start\" x=\"313.2\" y=\"1229.85\">EnsembleHop</text><line stroke=\"black\" stroke-width=\"1.5\" x1=\"270.0\" x2=\"270.0\" y1=\"1229.85\" y2=\"1200.15\"/><rect fill=\"green\" height=\"16.2\" width=\"32.4\" x=\"307.8\" y=\"1217.16\"/><text alignment-baseline=\"middle\" fill=\"white\" font-family=\"Futura\" font-size=\"10.8\" text-anchor=\"middle\" x=\"324.0\" y=\"1226.61\"/><rect fill=\"rgb(200,200,200)\" height=\"16.2\" width=\"32.4\" x=\"307.8\" y=\"1220.4\"/><circle cx=\"306.0\" cy=\"1228.5\" fill=\"rgb(200,200,200)\" r=\"1.8\" stroke=\"rgb(200,200,200)\" stroke-width=\"0\"/><circle cx=\"342.0\" cy=\"1228.5\" fill=\"rgb(200,200,200)\" r=\"1.8\" stroke=\"rgb(200,200,200)\" stroke-width=\"0\"/><text alignment-baseline=\"middle\" fill=\"white\" font-family=\"Futura\" font-size=\"10.8\" text-anchor=\"middle\" x=\"324.0\" y=\"1229.85\">A</text><rect fill=\"green\" height=\"16.2\" width=\"32.4\" x=\"235.8\" y=\"1247.4\"/><circle cx=\"234.0\" cy=\"1255.5\" fill=\"green\" r=\"1.8\" stroke=\"green\" stroke-width=\"0\"/><circle cx=\"270.0\" cy=\"1255.5\" fill=\"green\" r=\"1.8\" stroke=\"green\" stroke-width=\"0\"/><text alignment-baseline=\"middle\" fill=\"white\" font-family=\"Futura\" font-size=\"10.8\" text-anchor=\"middle\" x=\"252.0\" y=\"1256.85\"/><text alignment-baseline=\"middle\" fill=\"black\" font-family=\"Futura\" font-size=\"10.8\" text-anchor=\"start\" x=\"277.2\" y=\"1256.85\">BackwardExtend</text><line stroke=\"black\" stroke-width=\"1.5\" x1=\"234.0\" x2=\"234.0\" y1=\"1256.85\" y2=\"1200.15\"/><rect fill=\"red\" height=\"16.2\" width=\"32.4\" x=\"739.8\" y=\"1250.64\"/><text alignment-baseline=\"middle\" fill=\"white\" font-family=\"Futura\" font-size=\"10.8\" text-anchor=\"middle\" x=\"756.0\" y=\"1260.09\"/><rect fill=\"rgb(200,200,200)\" height=\"16.2\" width=\"32.4\" x=\"739.8\" y=\"1247.4\"/><circle cx=\"738.0\" cy=\"1255.5\" fill=\"rgb(200,200,200)\" r=\"1.8\" stroke=\"rgb(200,200,200)\" stroke-width=\"0\"/><circle cx=\"774.0\" cy=\"1255.5\" fill=\"rgb(200,200,200)\" r=\"1.8\" stroke=\"rgb(200,200,200)\" stroke-width=\"0\"/><text alignment-baseline=\"middle\" fill=\"white\" font-family=\"Futura\" font-size=\"10.8\" text-anchor=\"middle\" x=\"756.0\" y=\"1256.85\">M</text><rect fill=\"green\" height=\"16.2\" width=\"32.4\" x=\"235.8\" y=\"1274.4\"/><circle cx=\"234.0\" cy=\"1282.5\" fill=\"green\" r=\"1.8\" stroke=\"green\" stroke-width=\"0\"/><circle cx=\"270.0\" cy=\"1282.5\" fill=\"green\" r=\"1.8\" stroke=\"green\" stroke-width=\"0\"/><text alignment-baseline=\"middle\" fill=\"white\" font-family=\"Futura\" font-size=\"10.8\" text-anchor=\"middle\" x=\"252.0\" y=\"1283.85\"/><text alignment-baseline=\"middle\" fill=\"black\" font-family=\"Futura\" font-size=\"10.8\" text-anchor=\"start\" x=\"277.2\" y=\"1283.85\">FirstSubtrajectorySelect</text><line stroke=\"black\" stroke-width=\"1.5\" x1=\"234.0\" x2=\"234.0\" y1=\"1283.85\" y2=\"1254.15\"/><rect fill=\"green\" height=\"16.2\" width=\"32.4\" x=\"739.8\" y=\"1271.16\"/><text alignment-baseline=\"middle\" fill=\"white\" font-family=\"Futura\" font-size=\"10.8\" text-anchor=\"middle\" x=\"756.0\" y=\"1280.61\"/><rect fill=\"rgb(200,200,200)\" height=\"16.2\" width=\"32.4\" x=\"739.8\" y=\"1274.4\"/><circle cx=\"738.0\" cy=\"1282.5\" fill=\"rgb(200,200,200)\" r=\"1.8\" stroke=\"rgb(200,200,200)\" stroke-width=\"0\"/><circle cx=\"774.0\" cy=\"1282.5\" fill=\"rgb(200,200,200)\" r=\"1.8\" stroke=\"rgb(200,200,200)\" stroke-width=\"0\"/><text alignment-baseline=\"middle\" fill=\"white\" font-family=\"Futura\" font-size=\"10.8\" text-anchor=\"middle\" x=\"756.0\" y=\"1283.85\">M</text><rect fill=\"green\" height=\"16.2\" width=\"32.4\" x=\"235.8\" y=\"1301.4\"/><circle cx=\"234.0\" cy=\"1309.5\" fill=\"green\" r=\"1.8\" stroke=\"green\" stroke-width=\"0\"/><circle cx=\"270.0\" cy=\"1309.5\" fill=\"green\" r=\"1.8\" stroke=\"green\" stroke-width=\"0\"/><text alignment-baseline=\"middle\" fill=\"white\" font-family=\"Futura\" font-size=\"10.8\" text-anchor=\"middle\" x=\"252.0\" y=\"1310.85\"/><text alignment-baseline=\"middle\" fill=\"black\" font-family=\"Futura\" font-size=\"10.8\" text-anchor=\"start\" x=\"277.2\" y=\"1310.85\">RandomChoice</text><line stroke=\"black\" stroke-width=\"1.5\" x1=\"234.0\" x2=\"234.0\" y1=\"1310.85\" y2=\"1281.15\"/><rect fill=\"red\" height=\"16.2\" width=\"32.4\" x=\"307.8\" y=\"1304.64\"/><text alignment-baseline=\"middle\" fill=\"white\" font-family=\"Futura\" font-size=\"10.8\" text-anchor=\"middle\" x=\"324.0\" y=\"1314.09\"/><rect fill=\"rgb(200,200,200)\" height=\"16.2\" width=\"32.4\" x=\"307.8\" y=\"1301.4\"/><circle cx=\"306.0\" cy=\"1309.5\" fill=\"rgb(200,200,200)\" r=\"1.8\" stroke=\"rgb(200,200,200)\" stroke-width=\"0\"/><circle cx=\"342.0\" cy=\"1309.5\" fill=\"rgb(200,200,200)\" r=\"1.8\" stroke=\"rgb(200,200,200)\" stroke-width=\"0\"/><text alignment-baseline=\"middle\" fill=\"white\" font-family=\"Futura\" font-size=\"10.8\" text-anchor=\"middle\" x=\"324.0\" y=\"1310.85\">A</text><rect fill=\"green\" height=\"16.2\" width=\"32.4\" x=\"271.8\" y=\"1328.4\"/><circle cx=\"270.0\" cy=\"1336.5\" fill=\"green\" r=\"1.8\" stroke=\"green\" stroke-width=\"0\"/><circle cx=\"306.0\" cy=\"1336.5\" fill=\"green\" r=\"1.8\" stroke=\"green\" stroke-width=\"0\"/><text alignment-baseline=\"middle\" fill=\"white\" font-family=\"Futura\" font-size=\"10.8\" text-anchor=\"middle\" x=\"288.0\" y=\"1337.85\"/><text alignment-baseline=\"middle\" fill=\"black\" font-family=\"Futura\" font-size=\"10.8\" text-anchor=\"start\" x=\"313.2\" y=\"1337.85\">EnsembleHop</text><line stroke=\"black\" stroke-width=\"1.5\" x1=\"270.0\" x2=\"270.0\" y1=\"1337.85\" y2=\"1308.15\"/><rect fill=\"red\" height=\"16.2\" width=\"32.4\" x=\"307.8\" y=\"1331.64\"/><text alignment-baseline=\"middle\" fill=\"white\" font-family=\"Futura\" font-size=\"10.8\" text-anchor=\"middle\" x=\"324.0\" y=\"1341.09\"/><rect fill=\"rgb(200,200,200)\" height=\"16.2\" width=\"32.4\" x=\"307.8\" y=\"1328.4\"/><circle cx=\"306.0\" cy=\"1336.5\" fill=\"rgb(200,200,200)\" r=\"1.8\" stroke=\"rgb(200,200,200)\" stroke-width=\"0\"/><circle cx=\"342.0\" cy=\"1336.5\" fill=\"rgb(200,200,200)\" r=\"1.8\" stroke=\"rgb(200,200,200)\" stroke-width=\"0\"/><text alignment-baseline=\"middle\" fill=\"white\" font-family=\"Futura\" font-size=\"10.8\" text-anchor=\"middle\" x=\"324.0\" y=\"1337.85\">A</text><rect fill=\"green\" height=\"16.2\" width=\"32.4\" x=\"199.8\" y=\"1355.4\"/><circle cx=\"198.0\" cy=\"1363.5\" fill=\"green\" r=\"1.8\" stroke=\"green\" stroke-width=\"0\"/><circle cx=\"234.0\" cy=\"1363.5\" fill=\"green\" r=\"1.8\" stroke=\"green\" stroke-width=\"0\"/><text alignment-baseline=\"middle\" fill=\"white\" font-family=\"Futura\" font-size=\"10.8\" text-anchor=\"middle\" x=\"216.0\" y=\"1364.85\"/><text alignment-baseline=\"middle\" fill=\"black\" font-family=\"Futura\" font-size=\"10.8\" text-anchor=\"start\" x=\"241.2\" y=\"1364.85\">ConditionalSequential</text><line stroke=\"black\" stroke-width=\"1.5\" x1=\"198.0\" x2=\"198.0\" y1=\"1364.85\" y2=\"1173.15\"/><rect fill=\"green\" height=\"16.2\" width=\"32.4\" x=\"307.8\" y=\"1352.16\"/><text alignment-baseline=\"middle\" fill=\"white\" font-family=\"Futura\" font-size=\"10.8\" text-anchor=\"middle\" x=\"324.0\" y=\"1361.61\"/><rect fill=\"red\" height=\"16.2\" width=\"32.4\" x=\"307.8\" y=\"1358.64\"/><text alignment-baseline=\"middle\" fill=\"white\" font-family=\"Futura\" font-size=\"10.8\" text-anchor=\"middle\" x=\"324.0\" y=\"1368.09\"/><rect fill=\"rgb(200,200,200)\" height=\"16.2\" width=\"32.4\" x=\"307.8\" y=\"1355.4\"/><circle cx=\"306.0\" cy=\"1363.5\" fill=\"rgb(200,200,200)\" r=\"1.8\" stroke=\"rgb(200,200,200)\" stroke-width=\"0\"/><circle cx=\"342.0\" cy=\"1363.5\" fill=\"rgb(200,200,200)\" r=\"1.8\" stroke=\"rgb(200,200,200)\" stroke-width=\"0\"/><text alignment-baseline=\"middle\" fill=\"white\" font-family=\"Futura\" font-size=\"10.8\" text-anchor=\"middle\" x=\"324.0\" y=\"1364.85\">A</text><rect fill=\"green\" height=\"16.2\" width=\"32.4\" x=\"739.8\" y=\"1352.16\"/><text alignment-baseline=\"middle\" fill=\"white\" font-family=\"Futura\" font-size=\"10.8\" text-anchor=\"middle\" x=\"756.0\" y=\"1361.61\"/><rect fill=\"red\" height=\"16.2\" width=\"32.4\" x=\"739.8\" y=\"1358.64\"/><text alignment-baseline=\"middle\" fill=\"white\" font-family=\"Futura\" font-size=\"10.8\" text-anchor=\"middle\" x=\"756.0\" y=\"1368.09\"/><rect fill=\"rgb(200,200,200)\" height=\"16.2\" width=\"32.4\" x=\"739.8\" y=\"1355.4\"/><circle cx=\"738.0\" cy=\"1363.5\" fill=\"rgb(200,200,200)\" r=\"1.8\" stroke=\"rgb(200,200,200)\" stroke-width=\"0\"/><circle cx=\"774.0\" cy=\"1363.5\" fill=\"rgb(200,200,200)\" r=\"1.8\" stroke=\"rgb(200,200,200)\" stroke-width=\"0\"/><text alignment-baseline=\"middle\" fill=\"white\" font-family=\"Futura\" font-size=\"10.8\" text-anchor=\"middle\" x=\"756.0\" y=\"1364.85\">M</text><rect fill=\"green\" height=\"16.2\" width=\"32.4\" x=\"235.8\" y=\"1382.4\"/><circle cx=\"234.0\" cy=\"1390.5\" fill=\"green\" r=\"1.8\" stroke=\"green\" stroke-width=\"0\"/><circle cx=\"270.0\" cy=\"1390.5\" fill=\"green\" r=\"1.8\" stroke=\"green\" stroke-width=\"0\"/><text alignment-baseline=\"middle\" fill=\"white\" font-family=\"Futura\" font-size=\"10.8\" text-anchor=\"middle\" x=\"252.0\" y=\"1391.85\"/><text alignment-baseline=\"middle\" fill=\"black\" font-family=\"Futura\" font-size=\"10.8\" text-anchor=\"start\" x=\"277.2\" y=\"1391.85\">RandomAllowedChoice</text><line stroke=\"black\" stroke-width=\"1.5\" x1=\"234.0\" x2=\"234.0\" y1=\"1391.85\" y2=\"1362.15\"/><rect fill=\"green\" height=\"16.2\" width=\"32.4\" x=\"307.8\" y=\"1379.16\"/><text alignment-baseline=\"middle\" fill=\"white\" font-family=\"Futura\" font-size=\"10.8\" text-anchor=\"middle\" x=\"324.0\" y=\"1388.61\"/><rect fill=\"rgb(200,200,200)\" height=\"16.2\" width=\"32.4\" x=\"307.8\" y=\"1382.4\"/><circle cx=\"306.0\" cy=\"1390.5\" fill=\"rgb(200,200,200)\" r=\"1.8\" stroke=\"rgb(200,200,200)\" stroke-width=\"0\"/><circle cx=\"342.0\" cy=\"1390.5\" fill=\"rgb(200,200,200)\" r=\"1.8\" stroke=\"rgb(200,200,200)\" stroke-width=\"0\"/><text alignment-baseline=\"middle\" fill=\"white\" font-family=\"Futura\" font-size=\"10.8\" text-anchor=\"middle\" x=\"324.0\" y=\"1391.85\">A</text><rect fill=\"green\" height=\"16.2\" width=\"32.4\" x=\"271.8\" y=\"1409.4\"/><circle cx=\"270.0\" cy=\"1417.5\" fill=\"green\" r=\"1.8\" stroke=\"green\" stroke-width=\"0\"/><circle cx=\"306.0\" cy=\"1417.5\" fill=\"green\" r=\"1.8\" stroke=\"green\" stroke-width=\"0\"/><text alignment-baseline=\"middle\" fill=\"white\" font-family=\"Futura\" font-size=\"10.8\" text-anchor=\"middle\" x=\"288.0\" y=\"1418.85\"/><text alignment-baseline=\"middle\" fill=\"black\" font-family=\"Futura\" font-size=\"10.8\" text-anchor=\"start\" x=\"313.2\" y=\"1418.85\">EnsembleHop</text><line stroke=\"black\" stroke-width=\"1.5\" x1=\"270.0\" x2=\"270.0\" y1=\"1418.85\" y2=\"1389.15\"/><rect fill=\"green\" height=\"16.2\" width=\"32.4\" x=\"307.8\" y=\"1406.16\"/><text alignment-baseline=\"middle\" fill=\"white\" font-family=\"Futura\" font-size=\"10.8\" text-anchor=\"middle\" x=\"324.0\" y=\"1415.61\"/><rect fill=\"rgb(200,200,200)\" height=\"16.2\" width=\"32.4\" x=\"307.8\" y=\"1409.4\"/><circle cx=\"306.0\" cy=\"1417.5\" fill=\"rgb(200,200,200)\" r=\"1.8\" stroke=\"rgb(200,200,200)\" stroke-width=\"0\"/><circle cx=\"342.0\" cy=\"1417.5\" fill=\"rgb(200,200,200)\" r=\"1.8\" stroke=\"rgb(200,200,200)\" stroke-width=\"0\"/><text alignment-baseline=\"middle\" fill=\"white\" font-family=\"Futura\" font-size=\"10.8\" text-anchor=\"middle\" x=\"324.0\" y=\"1418.85\">A</text><rect fill=\"green\" height=\"16.2\" width=\"32.4\" x=\"235.8\" y=\"1436.4\"/><circle cx=\"234.0\" cy=\"1444.5\" fill=\"green\" r=\"1.8\" stroke=\"green\" stroke-width=\"0\"/><circle cx=\"270.0\" cy=\"1444.5\" fill=\"green\" r=\"1.8\" stroke=\"green\" stroke-width=\"0\"/><text alignment-baseline=\"middle\" fill=\"white\" font-family=\"Futura\" font-size=\"10.8\" text-anchor=\"middle\" x=\"252.0\" y=\"1445.85\"/><text alignment-baseline=\"middle\" fill=\"black\" font-family=\"Futura\" font-size=\"10.8\" text-anchor=\"start\" x=\"277.2\" y=\"1445.85\">ForwardExtend</text><line stroke=\"black\" stroke-width=\"1.5\" x1=\"234.0\" x2=\"234.0\" y1=\"1445.85\" y2=\"1389.15\"/><rect fill=\"red\" height=\"16.2\" width=\"32.4\" x=\"739.8\" y=\"1439.64\"/><text alignment-baseline=\"middle\" fill=\"white\" font-family=\"Futura\" font-size=\"10.8\" text-anchor=\"middle\" x=\"756.0\" y=\"1449.09\"/><rect fill=\"rgb(200,200,200)\" height=\"16.2\" width=\"32.4\" x=\"739.8\" y=\"1436.4\"/><circle cx=\"738.0\" cy=\"1444.5\" fill=\"rgb(200,200,200)\" r=\"1.8\" stroke=\"rgb(200,200,200)\" stroke-width=\"0\"/><circle cx=\"774.0\" cy=\"1444.5\" fill=\"rgb(200,200,200)\" r=\"1.8\" stroke=\"rgb(200,200,200)\" stroke-width=\"0\"/><text alignment-baseline=\"middle\" fill=\"white\" font-family=\"Futura\" font-size=\"10.8\" text-anchor=\"middle\" x=\"756.0\" y=\"1445.85\">M</text><rect fill=\"green\" height=\"16.2\" width=\"32.4\" x=\"235.8\" y=\"1463.4\"/><circle cx=\"234.0\" cy=\"1471.5\" fill=\"green\" r=\"1.8\" stroke=\"green\" stroke-width=\"0\"/><circle cx=\"270.0\" cy=\"1471.5\" fill=\"green\" r=\"1.8\" stroke=\"green\" stroke-width=\"0\"/><text alignment-baseline=\"middle\" fill=\"white\" font-family=\"Futura\" font-size=\"10.8\" text-anchor=\"middle\" x=\"252.0\" y=\"1472.85\"/><text alignment-baseline=\"middle\" fill=\"black\" font-family=\"Futura\" font-size=\"10.8\" text-anchor=\"start\" x=\"277.2\" y=\"1472.85\">FinalSubtrajectorySelect</text><line stroke=\"black\" stroke-width=\"1.5\" x1=\"234.0\" x2=\"234.0\" y1=\"1472.85\" y2=\"1443.15\"/><rect fill=\"green\" height=\"16.2\" width=\"32.4\" x=\"739.8\" y=\"1460.16\"/><text alignment-baseline=\"middle\" fill=\"white\" font-family=\"Futura\" font-size=\"10.8\" text-anchor=\"middle\" x=\"756.0\" y=\"1469.61\"/><rect fill=\"rgb(200,200,200)\" height=\"16.2\" width=\"32.4\" x=\"739.8\" y=\"1463.4\"/><circle cx=\"738.0\" cy=\"1471.5\" fill=\"rgb(200,200,200)\" r=\"1.8\" stroke=\"rgb(200,200,200)\" stroke-width=\"0\"/><circle cx=\"774.0\" cy=\"1471.5\" fill=\"rgb(200,200,200)\" r=\"1.8\" stroke=\"rgb(200,200,200)\" stroke-width=\"0\"/><text alignment-baseline=\"middle\" fill=\"white\" font-family=\"Futura\" font-size=\"10.8\" text-anchor=\"middle\" x=\"756.0\" y=\"1472.85\">M</text><rect fill=\"green\" height=\"16.2\" width=\"32.4\" x=\"235.8\" y=\"1490.4\"/><circle cx=\"234.0\" cy=\"1498.5\" fill=\"green\" r=\"1.8\" stroke=\"green\" stroke-width=\"0\"/><circle cx=\"270.0\" cy=\"1498.5\" fill=\"green\" r=\"1.8\" stroke=\"green\" stroke-width=\"0\"/><text alignment-baseline=\"middle\" fill=\"white\" font-family=\"Futura\" font-size=\"10.8\" text-anchor=\"middle\" x=\"252.0\" y=\"1499.85\"/><text alignment-baseline=\"middle\" fill=\"black\" font-family=\"Futura\" font-size=\"10.8\" text-anchor=\"start\" x=\"277.2\" y=\"1499.85\">RandomChoice</text><line stroke=\"black\" stroke-width=\"1.5\" x1=\"234.0\" x2=\"234.0\" y1=\"1499.85\" y2=\"1470.15\"/><rect fill=\"red\" height=\"16.2\" width=\"32.4\" x=\"307.8\" y=\"1493.64\"/><text alignment-baseline=\"middle\" fill=\"white\" font-family=\"Futura\" font-size=\"10.8\" text-anchor=\"middle\" x=\"324.0\" y=\"1503.09\"/><rect fill=\"rgb(200,200,200)\" height=\"16.2\" width=\"32.4\" x=\"307.8\" y=\"1490.4\"/><circle cx=\"306.0\" cy=\"1498.5\" fill=\"rgb(200,200,200)\" r=\"1.8\" stroke=\"rgb(200,200,200)\" stroke-width=\"0\"/><circle cx=\"342.0\" cy=\"1498.5\" fill=\"rgb(200,200,200)\" r=\"1.8\" stroke=\"rgb(200,200,200)\" stroke-width=\"0\"/><text alignment-baseline=\"middle\" fill=\"white\" font-family=\"Futura\" font-size=\"10.8\" text-anchor=\"middle\" x=\"324.0\" y=\"1499.85\">A</text><rect fill=\"green\" height=\"16.2\" width=\"32.4\" x=\"271.8\" y=\"1517.4\"/><circle cx=\"270.0\" cy=\"1525.5\" fill=\"green\" r=\"1.8\" stroke=\"green\" stroke-width=\"0\"/><circle cx=\"306.0\" cy=\"1525.5\" fill=\"green\" r=\"1.8\" stroke=\"green\" stroke-width=\"0\"/><text alignment-baseline=\"middle\" fill=\"white\" font-family=\"Futura\" font-size=\"10.8\" text-anchor=\"middle\" x=\"288.0\" y=\"1526.85\"/><text alignment-baseline=\"middle\" fill=\"black\" font-family=\"Futura\" font-size=\"10.8\" text-anchor=\"start\" x=\"313.2\" y=\"1526.85\">EnsembleHop</text><line stroke=\"black\" stroke-width=\"1.5\" x1=\"270.0\" x2=\"270.0\" y1=\"1526.85\" y2=\"1497.15\"/><rect fill=\"red\" height=\"16.2\" width=\"32.4\" x=\"307.8\" y=\"1520.64\"/><text alignment-baseline=\"middle\" fill=\"white\" font-family=\"Futura\" font-size=\"10.8\" text-anchor=\"middle\" x=\"324.0\" y=\"1530.09\"/><rect fill=\"rgb(200,200,200)\" height=\"16.2\" width=\"32.4\" x=\"307.8\" y=\"1517.4\"/><circle cx=\"306.0\" cy=\"1525.5\" fill=\"rgb(200,200,200)\" r=\"1.8\" stroke=\"rgb(200,200,200)\" stroke-width=\"0\"/><circle cx=\"342.0\" cy=\"1525.5\" fill=\"rgb(200,200,200)\" r=\"1.8\" stroke=\"rgb(200,200,200)\" stroke-width=\"0\"/><text alignment-baseline=\"middle\" fill=\"white\" font-family=\"Futura\" font-size=\"10.8\" text-anchor=\"middle\" x=\"324.0\" y=\"1526.85\">A</text><rect fill=\"green\" height=\"16.2\" width=\"32.4\" x=\"91.8\" y=\"1544.4\"/><circle cx=\"90.0\" cy=\"1552.5\" fill=\"green\" r=\"1.8\" stroke=\"green\" stroke-width=\"0\"/><circle cx=\"126.0\" cy=\"1552.5\" fill=\"green\" r=\"1.8\" stroke=\"green\" stroke-width=\"0\"/><text alignment-baseline=\"middle\" fill=\"white\" font-family=\"Futura\" font-size=\"10.8\" text-anchor=\"middle\" x=\"108.0\" y=\"1553.85\"/><text alignment-baseline=\"middle\" fill=\"black\" font-family=\"Futura\" font-size=\"10.8\" text-anchor=\"start\" x=\"133.2\" y=\"1553.85\">PathReversal</text><line stroke=\"black\" stroke-width=\"1.5\" x1=\"90.0\" x2=\"90.0\" y1=\"1553.85\" y2=\"1092.15\"/><rect fill=\"green\" height=\"16.2\" width=\"32.4\" x=\"307.8\" y=\"1541.16\"/><text alignment-baseline=\"middle\" fill=\"white\" font-family=\"Futura\" font-size=\"10.8\" text-anchor=\"middle\" x=\"324.0\" y=\"1550.61\"/><rect fill=\"red\" height=\"16.2\" width=\"32.4\" x=\"307.8\" y=\"1547.64\"/><text alignment-baseline=\"middle\" fill=\"white\" font-family=\"Futura\" font-size=\"10.8\" text-anchor=\"middle\" x=\"324.0\" y=\"1557.09\"/><rect fill=\"rgb(200,200,200)\" height=\"16.2\" width=\"32.4\" x=\"307.8\" y=\"1544.4\"/><circle cx=\"306.0\" cy=\"1552.5\" fill=\"rgb(200,200,200)\" r=\"1.8\" stroke=\"rgb(200,200,200)\" stroke-width=\"0\"/><circle cx=\"342.0\" cy=\"1552.5\" fill=\"rgb(200,200,200)\" r=\"1.8\" stroke=\"rgb(200,200,200)\" stroke-width=\"0\"/><text alignment-baseline=\"middle\" fill=\"white\" font-family=\"Futura\" font-size=\"10.8\" text-anchor=\"middle\" x=\"324.0\" y=\"1553.85\">A</text><rect fill=\"green\" height=\"16.2\" width=\"32.4\" x=\"91.8\" y=\"1571.4\"/><circle cx=\"90.0\" cy=\"1579.5\" fill=\"green\" r=\"1.8\" stroke=\"green\" stroke-width=\"0\"/><circle cx=\"126.0\" cy=\"1579.5\" fill=\"green\" r=\"1.8\" stroke=\"green\" stroke-width=\"0\"/><text alignment-baseline=\"middle\" fill=\"white\" font-family=\"Futura\" font-size=\"10.8\" text-anchor=\"middle\" x=\"108.0\" y=\"1580.85\"/><text alignment-baseline=\"middle\" fill=\"black\" font-family=\"Futura\" font-size=\"10.8\" text-anchor=\"start\" x=\"133.2\" y=\"1580.85\">IdentityPath</text><line stroke=\"black\" stroke-width=\"1.5\" x1=\"90.0\" x2=\"90.0\" y1=\"1580.85\" y2=\"1551.15\"/><rect fill=\"green\" height=\"16.2\" width=\"32.4\" x=\"91.8\" y=\"1598.4\"/><circle cx=\"90.0\" cy=\"1606.5\" fill=\"green\" r=\"1.8\" stroke=\"green\" stroke-width=\"0\"/><circle cx=\"126.0\" cy=\"1606.5\" fill=\"green\" r=\"1.8\" stroke=\"green\" stroke-width=\"0\"/><text alignment-baseline=\"middle\" fill=\"white\" font-family=\"Futura\" font-size=\"10.8\" text-anchor=\"middle\" x=\"108.0\" y=\"1607.85\"/><text alignment-baseline=\"middle\" fill=\"black\" font-family=\"Futura\" font-size=\"10.8\" text-anchor=\"start\" x=\"133.2\" y=\"1607.85\">OneWayShooting</text><line stroke=\"black\" stroke-width=\"1.5\" x1=\"90.0\" x2=\"90.0\" y1=\"1607.85\" y2=\"1578.15\"/><rect fill=\"green\" height=\"16.2\" width=\"32.4\" x=\"307.8\" y=\"1595.16\"/><text alignment-baseline=\"middle\" fill=\"white\" font-family=\"Futura\" font-size=\"10.8\" text-anchor=\"middle\" x=\"324.0\" y=\"1604.61\"/><rect fill=\"red\" height=\"16.2\" width=\"32.4\" x=\"307.8\" y=\"1601.64\"/><text alignment-baseline=\"middle\" fill=\"white\" font-family=\"Futura\" font-size=\"10.8\" text-anchor=\"middle\" x=\"324.0\" y=\"1611.09\"/><rect fill=\"rgb(200,200,200)\" height=\"16.2\" width=\"32.4\" x=\"307.8\" y=\"1598.4\"/><circle cx=\"306.0\" cy=\"1606.5\" fill=\"rgb(200,200,200)\" r=\"1.8\" stroke=\"rgb(200,200,200)\" stroke-width=\"0\"/><circle cx=\"342.0\" cy=\"1606.5\" fill=\"rgb(200,200,200)\" r=\"1.8\" stroke=\"rgb(200,200,200)\" stroke-width=\"0\"/><text alignment-baseline=\"middle\" fill=\"white\" font-family=\"Futura\" font-size=\"10.8\" text-anchor=\"middle\" x=\"324.0\" y=\"1607.85\">A</text><rect fill=\"green\" height=\"16.2\" width=\"32.4\" x=\"127.8\" y=\"1625.4\"/><circle cx=\"126.0\" cy=\"1633.5\" fill=\"green\" r=\"1.8\" stroke=\"green\" stroke-width=\"0\"/><circle cx=\"162.0\" cy=\"1633.5\" fill=\"green\" r=\"1.8\" stroke=\"green\" stroke-width=\"0\"/><text alignment-baseline=\"middle\" fill=\"white\" font-family=\"Futura\" font-size=\"10.8\" text-anchor=\"middle\" x=\"144.0\" y=\"1634.85\"/><text alignment-baseline=\"middle\" fill=\"black\" font-family=\"Futura\" font-size=\"10.8\" text-anchor=\"start\" x=\"169.2\" y=\"1634.85\">ForwardShoot</text><line stroke=\"black\" stroke-width=\"1.5\" x1=\"126.0\" x2=\"126.0\" y1=\"1634.85\" y2=\"1605.15\"/><rect fill=\"green\" height=\"16.2\" width=\"32.4\" x=\"307.8\" y=\"1622.16\"/><text alignment-baseline=\"middle\" fill=\"white\" font-family=\"Futura\" font-size=\"10.8\" text-anchor=\"middle\" x=\"324.0\" y=\"1631.61\"/><rect fill=\"red\" height=\"16.2\" width=\"32.4\" x=\"307.8\" y=\"1628.64\"/><text alignment-baseline=\"middle\" fill=\"white\" font-family=\"Futura\" font-size=\"10.8\" text-anchor=\"middle\" x=\"324.0\" y=\"1638.09\"/><rect fill=\"rgb(200,200,200)\" height=\"16.2\" width=\"32.4\" x=\"307.8\" y=\"1625.4\"/><circle cx=\"306.0\" cy=\"1633.5\" fill=\"rgb(200,200,200)\" r=\"1.8\" stroke=\"rgb(200,200,200)\" stroke-width=\"0\"/><circle cx=\"342.0\" cy=\"1633.5\" fill=\"rgb(200,200,200)\" r=\"1.8\" stroke=\"rgb(200,200,200)\" stroke-width=\"0\"/><text alignment-baseline=\"middle\" fill=\"white\" font-family=\"Futura\" font-size=\"10.8\" text-anchor=\"middle\" x=\"324.0\" y=\"1634.85\">A</text><rect fill=\"green\" height=\"16.2\" width=\"32.4\" x=\"127.8\" y=\"1652.4\"/><circle cx=\"126.0\" cy=\"1660.5\" fill=\"green\" r=\"1.8\" stroke=\"green\" stroke-width=\"0\"/><circle cx=\"162.0\" cy=\"1660.5\" fill=\"green\" r=\"1.8\" stroke=\"green\" stroke-width=\"0\"/><text alignment-baseline=\"middle\" fill=\"white\" font-family=\"Futura\" font-size=\"10.8\" text-anchor=\"middle\" x=\"144.0\" y=\"1661.85\"/><text alignment-baseline=\"middle\" fill=\"black\" font-family=\"Futura\" font-size=\"10.8\" text-anchor=\"start\" x=\"169.2\" y=\"1661.85\">BackwardShoot</text><line stroke=\"black\" stroke-width=\"1.5\" x1=\"126.0\" x2=\"126.0\" y1=\"1661.85\" y2=\"1632.15\"/><rect fill=\"green\" height=\"16.2\" width=\"32.4\" x=\"307.8\" y=\"1649.16\"/><text alignment-baseline=\"middle\" fill=\"white\" font-family=\"Futura\" font-size=\"10.8\" text-anchor=\"middle\" x=\"324.0\" y=\"1658.61\"/><rect fill=\"red\" height=\"16.2\" width=\"32.4\" x=\"307.8\" y=\"1655.64\"/><text alignment-baseline=\"middle\" fill=\"white\" font-family=\"Futura\" font-size=\"10.8\" text-anchor=\"middle\" x=\"324.0\" y=\"1665.09\"/><rect fill=\"rgb(200,200,200)\" height=\"16.2\" width=\"32.4\" x=\"307.8\" y=\"1652.4\"/><circle cx=\"306.0\" cy=\"1660.5\" fill=\"rgb(200,200,200)\" r=\"1.8\" stroke=\"rgb(200,200,200)\" stroke-width=\"0\"/><circle cx=\"342.0\" cy=\"1660.5\" fill=\"rgb(200,200,200)\" r=\"1.8\" stroke=\"rgb(200,200,200)\" stroke-width=\"0\"/><text alignment-baseline=\"middle\" fill=\"white\" font-family=\"Futura\" font-size=\"10.8\" text-anchor=\"middle\" x=\"324.0\" y=\"1661.85\">A</text><rect fill=\"green\" height=\"16.2\" width=\"32.4\" x=\"55.8\" y=\"1679.4\"/><circle cx=\"54.0\" cy=\"1687.5\" fill=\"green\" r=\"1.8\" stroke=\"green\" stroke-width=\"0\"/><circle cx=\"90.0\" cy=\"1687.5\" fill=\"green\" r=\"1.8\" stroke=\"green\" stroke-width=\"0\"/><text alignment-baseline=\"middle\" fill=\"white\" font-family=\"Futura\" font-size=\"10.8\" text-anchor=\"middle\" x=\"72.0\" y=\"1688.85\"/><text alignment-baseline=\"middle\" fill=\"black\" font-family=\"Futura\" font-size=\"10.8\" text-anchor=\"start\" x=\"97.2\" y=\"1688.85\">RandomChoice</text><line stroke=\"black\" stroke-width=\"1.5\" x1=\"54.0\" x2=\"54.0\" y1=\"1688.85\" y2=\"1038.15\"/><rect fill=\"red\" height=\"16.2\" width=\"32.4\" x=\"451.8\" y=\"1682.64\"/><text alignment-baseline=\"middle\" fill=\"white\" font-family=\"Futura\" font-size=\"10.8\" text-anchor=\"middle\" x=\"468.0\" y=\"1692.09\"/><rect fill=\"rgb(200,200,200)\" height=\"16.2\" width=\"32.4\" x=\"451.8\" y=\"1679.4\"/><circle cx=\"450.0\" cy=\"1687.5\" fill=\"rgb(200,200,200)\" r=\"1.8\" stroke=\"rgb(200,200,200)\" stroke-width=\"0\"/><circle cx=\"486.0\" cy=\"1687.5\" fill=\"rgb(200,200,200)\" r=\"1.8\" stroke=\"rgb(200,200,200)\" stroke-width=\"0\"/><text alignment-baseline=\"middle\" fill=\"white\" font-family=\"Futura\" font-size=\"10.8\" text-anchor=\"middle\" x=\"468.0\" y=\"1688.85\">E</text><rect fill=\"green\" height=\"16.2\" width=\"32.4\" x=\"487.8\" y=\"1676.16\"/><text alignment-baseline=\"middle\" fill=\"white\" font-family=\"Futura\" font-size=\"10.8\" text-anchor=\"middle\" x=\"504.0\" y=\"1685.61\"/><rect fill=\"red\" height=\"16.2\" width=\"32.4\" x=\"487.8\" y=\"1682.64\"/><text alignment-baseline=\"middle\" fill=\"white\" font-family=\"Futura\" font-size=\"10.8\" text-anchor=\"middle\" x=\"504.0\" y=\"1692.09\"/><rect fill=\"rgb(200,200,200)\" height=\"16.2\" width=\"32.4\" x=\"487.8\" y=\"1679.4\"/><circle cx=\"486.0\" cy=\"1687.5\" fill=\"rgb(200,200,200)\" r=\"1.8\" stroke=\"rgb(200,200,200)\" stroke-width=\"0\"/><circle cx=\"522.0\" cy=\"1687.5\" fill=\"rgb(200,200,200)\" r=\"1.8\" stroke=\"rgb(200,200,200)\" stroke-width=\"0\"/><text alignment-baseline=\"middle\" fill=\"white\" font-family=\"Futura\" font-size=\"10.8\" text-anchor=\"middle\" x=\"504.0\" y=\"1688.85\">F</text><rect fill=\"red\" height=\"16.2\" width=\"32.4\" x=\"631.8\" y=\"1682.64\"/><text alignment-baseline=\"middle\" fill=\"white\" font-family=\"Futura\" font-size=\"10.8\" text-anchor=\"middle\" x=\"648.0\" y=\"1692.09\"/><rect fill=\"rgb(200,200,200)\" height=\"16.2\" width=\"32.4\" x=\"631.8\" y=\"1679.4\"/><circle cx=\"630.0\" cy=\"1687.5\" fill=\"rgb(200,200,200)\" r=\"1.8\" stroke=\"rgb(200,200,200)\" stroke-width=\"0\"/><circle cx=\"666.0\" cy=\"1687.5\" fill=\"rgb(200,200,200)\" r=\"1.8\" stroke=\"rgb(200,200,200)\" stroke-width=\"0\"/><text alignment-baseline=\"middle\" fill=\"white\" font-family=\"Futura\" font-size=\"10.8\" text-anchor=\"middle\" x=\"648.0\" y=\"1688.85\">J</text><rect fill=\"green\" height=\"16.2\" width=\"32.4\" x=\"91.8\" y=\"1706.4\"/><circle cx=\"90.0\" cy=\"1714.5\" fill=\"green\" r=\"1.8\" stroke=\"green\" stroke-width=\"0\"/><circle cx=\"126.0\" cy=\"1714.5\" fill=\"green\" r=\"1.8\" stroke=\"green\" stroke-width=\"0\"/><text alignment-baseline=\"middle\" fill=\"white\" font-family=\"Futura\" font-size=\"10.8\" text-anchor=\"middle\" x=\"108.0\" y=\"1715.85\"/><text alignment-baseline=\"middle\" fill=\"black\" font-family=\"Futura\" font-size=\"10.8\" text-anchor=\"start\" x=\"133.2\" y=\"1715.85\">OneWayShooting</text><line stroke=\"black\" stroke-width=\"1.5\" x1=\"90.0\" x2=\"90.0\" y1=\"1715.85\" y2=\"1686.15\"/><rect fill=\"green\" height=\"16.2\" width=\"32.4\" x=\"487.8\" y=\"1703.16\"/><text alignment-baseline=\"middle\" fill=\"white\" font-family=\"Futura\" font-size=\"10.8\" text-anchor=\"middle\" x=\"504.0\" y=\"1712.61\"/><rect fill=\"red\" height=\"16.2\" width=\"32.4\" x=\"487.8\" y=\"1709.64\"/><text alignment-baseline=\"middle\" fill=\"white\" font-family=\"Futura\" font-size=\"10.8\" text-anchor=\"middle\" x=\"504.0\" y=\"1719.09\"/><rect fill=\"rgb(200,200,200)\" height=\"16.2\" width=\"32.4\" x=\"487.8\" y=\"1706.4\"/><circle cx=\"486.0\" cy=\"1714.5\" fill=\"rgb(200,200,200)\" r=\"1.8\" stroke=\"rgb(200,200,200)\" stroke-width=\"0\"/><circle cx=\"522.0\" cy=\"1714.5\" fill=\"rgb(200,200,200)\" r=\"1.8\" stroke=\"rgb(200,200,200)\" stroke-width=\"0\"/><text alignment-baseline=\"middle\" fill=\"white\" font-family=\"Futura\" font-size=\"10.8\" text-anchor=\"middle\" x=\"504.0\" y=\"1715.85\">F</text><rect fill=\"green\" height=\"16.2\" width=\"32.4\" x=\"127.8\" y=\"1733.4\"/><circle cx=\"126.0\" cy=\"1741.5\" fill=\"green\" r=\"1.8\" stroke=\"green\" stroke-width=\"0\"/><circle cx=\"162.0\" cy=\"1741.5\" fill=\"green\" r=\"1.8\" stroke=\"green\" stroke-width=\"0\"/><text alignment-baseline=\"middle\" fill=\"white\" font-family=\"Futura\" font-size=\"10.8\" text-anchor=\"middle\" x=\"144.0\" y=\"1742.85\"/><text alignment-baseline=\"middle\" fill=\"black\" font-family=\"Futura\" font-size=\"10.8\" text-anchor=\"start\" x=\"169.2\" y=\"1742.85\">ForwardShoot</text><line stroke=\"black\" stroke-width=\"1.5\" x1=\"126.0\" x2=\"126.0\" y1=\"1742.85\" y2=\"1713.15\"/><rect fill=\"green\" height=\"16.2\" width=\"32.4\" x=\"487.8\" y=\"1730.16\"/><text alignment-baseline=\"middle\" fill=\"white\" font-family=\"Futura\" font-size=\"10.8\" text-anchor=\"middle\" x=\"504.0\" y=\"1739.61\"/><rect fill=\"red\" height=\"16.2\" width=\"32.4\" x=\"487.8\" y=\"1736.64\"/><text alignment-baseline=\"middle\" fill=\"white\" font-family=\"Futura\" font-size=\"10.8\" text-anchor=\"middle\" x=\"504.0\" y=\"1746.09\"/><rect fill=\"rgb(200,200,200)\" height=\"16.2\" width=\"32.4\" x=\"487.8\" y=\"1733.4\"/><circle cx=\"486.0\" cy=\"1741.5\" fill=\"rgb(200,200,200)\" r=\"1.8\" stroke=\"rgb(200,200,200)\" stroke-width=\"0\"/><circle cx=\"522.0\" cy=\"1741.5\" fill=\"rgb(200,200,200)\" r=\"1.8\" stroke=\"rgb(200,200,200)\" stroke-width=\"0\"/><text alignment-baseline=\"middle\" fill=\"white\" font-family=\"Futura\" font-size=\"10.8\" text-anchor=\"middle\" x=\"504.0\" y=\"1742.85\">F</text><rect fill=\"green\" height=\"16.2\" width=\"32.4\" x=\"127.8\" y=\"1760.4\"/><circle cx=\"126.0\" cy=\"1768.5\" fill=\"green\" r=\"1.8\" stroke=\"green\" stroke-width=\"0\"/><circle cx=\"162.0\" cy=\"1768.5\" fill=\"green\" r=\"1.8\" stroke=\"green\" stroke-width=\"0\"/><text alignment-baseline=\"middle\" fill=\"white\" font-family=\"Futura\" font-size=\"10.8\" text-anchor=\"middle\" x=\"144.0\" y=\"1769.85\"/><text alignment-baseline=\"middle\" fill=\"black\" font-family=\"Futura\" font-size=\"10.8\" text-anchor=\"start\" x=\"169.2\" y=\"1769.85\">BackwardShoot</text><line stroke=\"black\" stroke-width=\"1.5\" x1=\"126.0\" x2=\"126.0\" y1=\"1769.85\" y2=\"1740.15\"/><rect fill=\"green\" height=\"16.2\" width=\"32.4\" x=\"487.8\" y=\"1757.16\"/><text alignment-baseline=\"middle\" fill=\"white\" font-family=\"Futura\" font-size=\"10.8\" text-anchor=\"middle\" x=\"504.0\" y=\"1766.61\"/><rect fill=\"red\" height=\"16.2\" width=\"32.4\" x=\"487.8\" y=\"1763.64\"/><text alignment-baseline=\"middle\" fill=\"white\" font-family=\"Futura\" font-size=\"10.8\" text-anchor=\"middle\" x=\"504.0\" y=\"1773.09\"/><rect fill=\"rgb(200,200,200)\" height=\"16.2\" width=\"32.4\" x=\"487.8\" y=\"1760.4\"/><circle cx=\"486.0\" cy=\"1768.5\" fill=\"rgb(200,200,200)\" r=\"1.8\" stroke=\"rgb(200,200,200)\" stroke-width=\"0\"/><circle cx=\"522.0\" cy=\"1768.5\" fill=\"rgb(200,200,200)\" r=\"1.8\" stroke=\"rgb(200,200,200)\" stroke-width=\"0\"/><text alignment-baseline=\"middle\" fill=\"white\" font-family=\"Futura\" font-size=\"10.8\" text-anchor=\"middle\" x=\"504.0\" y=\"1769.85\">F</text><rect fill=\"green\" height=\"16.2\" width=\"32.4\" x=\"91.8\" y=\"1787.4\"/><circle cx=\"90.0\" cy=\"1795.5\" fill=\"green\" r=\"1.8\" stroke=\"green\" stroke-width=\"0\"/><circle cx=\"126.0\" cy=\"1795.5\" fill=\"green\" r=\"1.8\" stroke=\"green\" stroke-width=\"0\"/><text alignment-baseline=\"middle\" fill=\"white\" font-family=\"Futura\" font-size=\"10.8\" text-anchor=\"middle\" x=\"108.0\" y=\"1796.85\"/><text alignment-baseline=\"middle\" fill=\"black\" font-family=\"Futura\" font-size=\"10.8\" text-anchor=\"start\" x=\"133.2\" y=\"1796.85\">PathReversal</text><line stroke=\"black\" stroke-width=\"1.5\" x1=\"90.0\" x2=\"90.0\" y1=\"1796.85\" y2=\"1713.15\"/><rect fill=\"green\" height=\"16.2\" width=\"32.4\" x=\"487.8\" y=\"1784.16\"/><text alignment-baseline=\"middle\" fill=\"white\" font-family=\"Futura\" font-size=\"10.8\" text-anchor=\"middle\" x=\"504.0\" y=\"1793.61\"/><rect fill=\"red\" height=\"16.2\" width=\"32.4\" x=\"487.8\" y=\"1790.64\"/><text alignment-baseline=\"middle\" fill=\"white\" font-family=\"Futura\" font-size=\"10.8\" text-anchor=\"middle\" x=\"504.0\" y=\"1800.09\"/><rect fill=\"rgb(200,200,200)\" height=\"16.2\" width=\"32.4\" x=\"487.8\" y=\"1787.4\"/><circle cx=\"486.0\" cy=\"1795.5\" fill=\"rgb(200,200,200)\" r=\"1.8\" stroke=\"rgb(200,200,200)\" stroke-width=\"0\"/><circle cx=\"522.0\" cy=\"1795.5\" fill=\"rgb(200,200,200)\" r=\"1.8\" stroke=\"rgb(200,200,200)\" stroke-width=\"0\"/><text alignment-baseline=\"middle\" fill=\"white\" font-family=\"Futura\" font-size=\"10.8\" text-anchor=\"middle\" x=\"504.0\" y=\"1796.85\">F</text><rect fill=\"green\" height=\"16.2\" width=\"32.4\" x=\"91.8\" y=\"1814.4\"/><circle cx=\"90.0\" cy=\"1822.5\" fill=\"green\" r=\"1.8\" stroke=\"green\" stroke-width=\"0\"/><circle cx=\"126.0\" cy=\"1822.5\" fill=\"green\" r=\"1.8\" stroke=\"green\" stroke-width=\"0\"/><text alignment-baseline=\"middle\" fill=\"white\" font-family=\"Futura\" font-size=\"10.8\" text-anchor=\"middle\" x=\"108.0\" y=\"1823.85\"/><text alignment-baseline=\"middle\" fill=\"black\" font-family=\"Futura\" font-size=\"10.8\" text-anchor=\"start\" x=\"133.2\" y=\"1823.85\">EnsembleHop</text><line stroke=\"black\" stroke-width=\"1.5\" x1=\"90.0\" x2=\"90.0\" y1=\"1823.85\" y2=\"1794.15\"/><rect fill=\"green\" height=\"16.2\" width=\"32.4\" x=\"487.8\" y=\"1811.16\"/><text alignment-baseline=\"middle\" fill=\"white\" font-family=\"Futura\" font-size=\"10.8\" text-anchor=\"middle\" x=\"504.0\" y=\"1820.61\"/><rect fill=\"rgb(200,200,200)\" height=\"16.2\" width=\"32.4\" x=\"487.8\" y=\"1814.4\"/><circle cx=\"486.0\" cy=\"1822.5\" fill=\"rgb(200,200,200)\" r=\"1.8\" stroke=\"rgb(200,200,200)\" stroke-width=\"0\"/><circle cx=\"522.0\" cy=\"1822.5\" fill=\"rgb(200,200,200)\" r=\"1.8\" stroke=\"rgb(200,200,200)\" stroke-width=\"0\"/><text alignment-baseline=\"middle\" fill=\"white\" font-family=\"Futura\" font-size=\"10.8\" text-anchor=\"middle\" x=\"504.0\" y=\"1823.85\">F</text><rect fill=\"red\" height=\"16.2\" width=\"32.4\" x=\"631.8\" y=\"1817.64\"/><text alignment-baseline=\"middle\" fill=\"white\" font-family=\"Futura\" font-size=\"10.8\" text-anchor=\"middle\" x=\"648.0\" y=\"1827.09\"/><rect fill=\"rgb(200,200,200)\" height=\"16.2\" width=\"32.4\" x=\"631.8\" y=\"1814.4\"/><circle cx=\"630.0\" cy=\"1822.5\" fill=\"rgb(200,200,200)\" r=\"1.8\" stroke=\"rgb(200,200,200)\" stroke-width=\"0\"/><circle cx=\"666.0\" cy=\"1822.5\" fill=\"rgb(200,200,200)\" r=\"1.8\" stroke=\"rgb(200,200,200)\" stroke-width=\"0\"/><text alignment-baseline=\"middle\" fill=\"white\" font-family=\"Futura\" font-size=\"10.8\" text-anchor=\"middle\" x=\"648.0\" y=\"1823.85\">J</text><rect fill=\"green\" height=\"16.2\" width=\"32.4\" x=\"91.8\" y=\"1841.4\"/><circle cx=\"90.0\" cy=\"1849.5\" fill=\"green\" r=\"1.8\" stroke=\"green\" stroke-width=\"0\"/><circle cx=\"126.0\" cy=\"1849.5\" fill=\"green\" r=\"1.8\" stroke=\"green\" stroke-width=\"0\"/><text alignment-baseline=\"middle\" fill=\"white\" font-family=\"Futura\" font-size=\"10.8\" text-anchor=\"middle\" x=\"108.0\" y=\"1850.85\"/><text alignment-baseline=\"middle\" fill=\"black\" font-family=\"Futura\" font-size=\"10.8\" text-anchor=\"start\" x=\"133.2\" y=\"1850.85\">IdentityPath</text><line stroke=\"black\" stroke-width=\"1.5\" x1=\"90.0\" x2=\"90.0\" y1=\"1850.85\" y2=\"1821.15\"/><rect fill=\"green\" height=\"16.2\" width=\"32.4\" x=\"91.8\" y=\"1868.4\"/><circle cx=\"90.0\" cy=\"1876.5\" fill=\"green\" r=\"1.8\" stroke=\"green\" stroke-width=\"0\"/><circle cx=\"126.0\" cy=\"1876.5\" fill=\"green\" r=\"1.8\" stroke=\"green\" stroke-width=\"0\"/><text alignment-baseline=\"middle\" fill=\"white\" font-family=\"Futura\" font-size=\"10.8\" text-anchor=\"middle\" x=\"108.0\" y=\"1877.85\"/><text alignment-baseline=\"middle\" fill=\"black\" font-family=\"Futura\" font-size=\"10.8\" text-anchor=\"start\" x=\"133.2\" y=\"1877.85\">EnsembleHop</text><line stroke=\"black\" stroke-width=\"1.5\" x1=\"90.0\" x2=\"90.0\" y1=\"1877.85\" y2=\"1848.15\"/><rect fill=\"red\" height=\"16.2\" width=\"32.4\" x=\"451.8\" y=\"1871.64\"/><text alignment-baseline=\"middle\" fill=\"white\" font-family=\"Futura\" font-size=\"10.8\" text-anchor=\"middle\" x=\"468.0\" y=\"1881.09\"/><rect fill=\"rgb(200,200,200)\" height=\"16.2\" width=\"32.4\" x=\"451.8\" y=\"1868.4\"/><circle cx=\"450.0\" cy=\"1876.5\" fill=\"rgb(200,200,200)\" r=\"1.8\" stroke=\"rgb(200,200,200)\" stroke-width=\"0\"/><circle cx=\"486.0\" cy=\"1876.5\" fill=\"rgb(200,200,200)\" r=\"1.8\" stroke=\"rgb(200,200,200)\" stroke-width=\"0\"/><text alignment-baseline=\"middle\" fill=\"white\" font-family=\"Futura\" font-size=\"10.8\" text-anchor=\"middle\" x=\"468.0\" y=\"1877.85\">E</text><rect fill=\"green\" height=\"16.2\" width=\"32.4\" x=\"487.8\" y=\"1865.16\"/><text alignment-baseline=\"middle\" fill=\"white\" font-family=\"Futura\" font-size=\"10.8\" text-anchor=\"middle\" x=\"504.0\" y=\"1874.61\"/><rect fill=\"rgb(200,200,200)\" height=\"16.2\" width=\"32.4\" x=\"487.8\" y=\"1868.4\"/><circle cx=\"486.0\" cy=\"1876.5\" fill=\"rgb(200,200,200)\" r=\"1.8\" stroke=\"rgb(200,200,200)\" stroke-width=\"0\"/><circle cx=\"522.0\" cy=\"1876.5\" fill=\"rgb(200,200,200)\" r=\"1.8\" stroke=\"rgb(200,200,200)\" stroke-width=\"0\"/><text alignment-baseline=\"middle\" fill=\"white\" font-family=\"Futura\" font-size=\"10.8\" text-anchor=\"middle\" x=\"504.0\" y=\"1877.85\">F</text><rect fill=\"green\" height=\"16.2\" width=\"32.4\" x=\"55.8\" y=\"1895.4\"/><circle cx=\"54.0\" cy=\"1903.5\" fill=\"green\" r=\"1.8\" stroke=\"green\" stroke-width=\"0\"/><circle cx=\"90.0\" cy=\"1903.5\" fill=\"green\" r=\"1.8\" stroke=\"green\" stroke-width=\"0\"/><text alignment-baseline=\"middle\" fill=\"white\" font-family=\"Futura\" font-size=\"10.8\" text-anchor=\"middle\" x=\"72.0\" y=\"1904.85\"/><text alignment-baseline=\"middle\" fill=\"black\" font-family=\"Futura\" font-size=\"10.8\" text-anchor=\"start\" x=\"97.2\" y=\"1904.85\">RandomChoice</text><line stroke=\"black\" stroke-width=\"1.5\" x1=\"54.0\" x2=\"54.0\" y1=\"1904.85\" y2=\"1686.15\"/><rect fill=\"green\" height=\"16.2\" width=\"32.4\" x=\"523.8\" y=\"1892.16\"/><text alignment-baseline=\"middle\" fill=\"white\" font-family=\"Futura\" font-size=\"10.8\" text-anchor=\"middle\" x=\"540.0\" y=\"1901.61\"/><rect fill=\"red\" height=\"16.2\" width=\"32.4\" x=\"523.8\" y=\"1898.64\"/><text alignment-baseline=\"middle\" fill=\"white\" font-family=\"Futura\" font-size=\"10.8\" text-anchor=\"middle\" x=\"540.0\" y=\"1908.09\"/><rect fill=\"rgb(200,200,200)\" height=\"16.2\" width=\"32.4\" x=\"523.8\" y=\"1895.4\"/><circle cx=\"522.0\" cy=\"1903.5\" fill=\"rgb(200,200,200)\" r=\"1.8\" stroke=\"rgb(200,200,200)\" stroke-width=\"0\"/><circle cx=\"558.0\" cy=\"1903.5\" fill=\"rgb(200,200,200)\" r=\"1.8\" stroke=\"rgb(200,200,200)\" stroke-width=\"0\"/><text alignment-baseline=\"middle\" fill=\"white\" font-family=\"Futura\" font-size=\"10.8\" text-anchor=\"middle\" x=\"540.0\" y=\"1904.85\">G</text><rect fill=\"red\" height=\"16.2\" width=\"32.4\" x=\"559.8\" y=\"1898.64\"/><text alignment-baseline=\"middle\" fill=\"white\" font-family=\"Futura\" font-size=\"10.8\" text-anchor=\"middle\" x=\"576.0\" y=\"1908.09\"/><rect fill=\"rgb(200,200,200)\" height=\"16.2\" width=\"32.4\" x=\"559.8\" y=\"1895.4\"/><circle cx=\"558.0\" cy=\"1903.5\" fill=\"rgb(200,200,200)\" r=\"1.8\" stroke=\"rgb(200,200,200)\" stroke-width=\"0\"/><circle cx=\"594.0\" cy=\"1903.5\" fill=\"rgb(200,200,200)\" r=\"1.8\" stroke=\"rgb(200,200,200)\" stroke-width=\"0\"/><text alignment-baseline=\"middle\" fill=\"white\" font-family=\"Futura\" font-size=\"10.8\" text-anchor=\"middle\" x=\"576.0\" y=\"1904.85\">H</text><rect fill=\"green\" height=\"16.2\" width=\"32.4\" x=\"91.8\" y=\"1922.4\"/><circle cx=\"90.0\" cy=\"1930.5\" fill=\"green\" r=\"1.8\" stroke=\"green\" stroke-width=\"0\"/><circle cx=\"126.0\" cy=\"1930.5\" fill=\"green\" r=\"1.8\" stroke=\"green\" stroke-width=\"0\"/><text alignment-baseline=\"middle\" fill=\"white\" font-family=\"Futura\" font-size=\"10.8\" text-anchor=\"middle\" x=\"108.0\" y=\"1931.85\"/><text alignment-baseline=\"middle\" fill=\"black\" font-family=\"Futura\" font-size=\"10.8\" text-anchor=\"start\" x=\"133.2\" y=\"1931.85\">OneWayShooting</text><line stroke=\"black\" stroke-width=\"1.5\" x1=\"90.0\" x2=\"90.0\" y1=\"1931.85\" y2=\"1902.15\"/><rect fill=\"green\" height=\"16.2\" width=\"32.4\" x=\"523.8\" y=\"1919.16\"/><text alignment-baseline=\"middle\" fill=\"white\" font-family=\"Futura\" font-size=\"10.8\" text-anchor=\"middle\" x=\"540.0\" y=\"1928.61\"/><rect fill=\"red\" height=\"16.2\" width=\"32.4\" x=\"523.8\" y=\"1925.64\"/><text alignment-baseline=\"middle\" fill=\"white\" font-family=\"Futura\" font-size=\"10.8\" text-anchor=\"middle\" x=\"540.0\" y=\"1935.09\"/><rect fill=\"rgb(200,200,200)\" height=\"16.2\" width=\"32.4\" x=\"523.8\" y=\"1922.4\"/><circle cx=\"522.0\" cy=\"1930.5\" fill=\"rgb(200,200,200)\" r=\"1.8\" stroke=\"rgb(200,200,200)\" stroke-width=\"0\"/><circle cx=\"558.0\" cy=\"1930.5\" fill=\"rgb(200,200,200)\" r=\"1.8\" stroke=\"rgb(200,200,200)\" stroke-width=\"0\"/><text alignment-baseline=\"middle\" fill=\"white\" font-family=\"Futura\" font-size=\"10.8\" text-anchor=\"middle\" x=\"540.0\" y=\"1931.85\">G</text><rect fill=\"green\" height=\"16.2\" width=\"32.4\" x=\"127.8\" y=\"1949.4\"/><circle cx=\"126.0\" cy=\"1957.5\" fill=\"green\" r=\"1.8\" stroke=\"green\" stroke-width=\"0\"/><circle cx=\"162.0\" cy=\"1957.5\" fill=\"green\" r=\"1.8\" stroke=\"green\" stroke-width=\"0\"/><text alignment-baseline=\"middle\" fill=\"white\" font-family=\"Futura\" font-size=\"10.8\" text-anchor=\"middle\" x=\"144.0\" y=\"1958.85\"/><text alignment-baseline=\"middle\" fill=\"black\" font-family=\"Futura\" font-size=\"10.8\" text-anchor=\"start\" x=\"169.2\" y=\"1958.85\">ForwardShoot</text><line stroke=\"black\" stroke-width=\"1.5\" x1=\"126.0\" x2=\"126.0\" y1=\"1958.85\" y2=\"1929.15\"/><rect fill=\"green\" height=\"16.2\" width=\"32.4\" x=\"523.8\" y=\"1946.16\"/><text alignment-baseline=\"middle\" fill=\"white\" font-family=\"Futura\" font-size=\"10.8\" text-anchor=\"middle\" x=\"540.0\" y=\"1955.61\"/><rect fill=\"red\" height=\"16.2\" width=\"32.4\" x=\"523.8\" y=\"1952.64\"/><text alignment-baseline=\"middle\" fill=\"white\" font-family=\"Futura\" font-size=\"10.8\" text-anchor=\"middle\" x=\"540.0\" y=\"1962.09\"/><rect fill=\"rgb(200,200,200)\" height=\"16.2\" width=\"32.4\" x=\"523.8\" y=\"1949.4\"/><circle cx=\"522.0\" cy=\"1957.5\" fill=\"rgb(200,200,200)\" r=\"1.8\" stroke=\"rgb(200,200,200)\" stroke-width=\"0\"/><circle cx=\"558.0\" cy=\"1957.5\" fill=\"rgb(200,200,200)\" r=\"1.8\" stroke=\"rgb(200,200,200)\" stroke-width=\"0\"/><text alignment-baseline=\"middle\" fill=\"white\" font-family=\"Futura\" font-size=\"10.8\" text-anchor=\"middle\" x=\"540.0\" y=\"1958.85\">G</text><rect fill=\"green\" height=\"16.2\" width=\"32.4\" x=\"127.8\" y=\"1976.4\"/><circle cx=\"126.0\" cy=\"1984.5\" fill=\"green\" r=\"1.8\" stroke=\"green\" stroke-width=\"0\"/><circle cx=\"162.0\" cy=\"1984.5\" fill=\"green\" r=\"1.8\" stroke=\"green\" stroke-width=\"0\"/><text alignment-baseline=\"middle\" fill=\"white\" font-family=\"Futura\" font-size=\"10.8\" text-anchor=\"middle\" x=\"144.0\" y=\"1985.85\"/><text alignment-baseline=\"middle\" fill=\"black\" font-family=\"Futura\" font-size=\"10.8\" text-anchor=\"start\" x=\"169.2\" y=\"1985.85\">BackwardShoot</text><line stroke=\"black\" stroke-width=\"1.5\" x1=\"126.0\" x2=\"126.0\" y1=\"1985.85\" y2=\"1956.15\"/><rect fill=\"green\" height=\"16.2\" width=\"32.4\" x=\"523.8\" y=\"1973.16\"/><text alignment-baseline=\"middle\" fill=\"white\" font-family=\"Futura\" font-size=\"10.8\" text-anchor=\"middle\" x=\"540.0\" y=\"1982.61\"/><rect fill=\"red\" height=\"16.2\" width=\"32.4\" x=\"523.8\" y=\"1979.64\"/><text alignment-baseline=\"middle\" fill=\"white\" font-family=\"Futura\" font-size=\"10.8\" text-anchor=\"middle\" x=\"540.0\" y=\"1989.09\"/><rect fill=\"rgb(200,200,200)\" height=\"16.2\" width=\"32.4\" x=\"523.8\" y=\"1976.4\"/><circle cx=\"522.0\" cy=\"1984.5\" fill=\"rgb(200,200,200)\" r=\"1.8\" stroke=\"rgb(200,200,200)\" stroke-width=\"0\"/><circle cx=\"558.0\" cy=\"1984.5\" fill=\"rgb(200,200,200)\" r=\"1.8\" stroke=\"rgb(200,200,200)\" stroke-width=\"0\"/><text alignment-baseline=\"middle\" fill=\"white\" font-family=\"Futura\" font-size=\"10.8\" text-anchor=\"middle\" x=\"540.0\" y=\"1985.85\">G</text><rect fill=\"green\" height=\"16.2\" width=\"32.4\" x=\"91.8\" y=\"2003.4\"/><circle cx=\"90.0\" cy=\"2011.5\" fill=\"green\" r=\"1.8\" stroke=\"green\" stroke-width=\"0\"/><circle cx=\"126.0\" cy=\"2011.5\" fill=\"green\" r=\"1.8\" stroke=\"green\" stroke-width=\"0\"/><text alignment-baseline=\"middle\" fill=\"white\" font-family=\"Futura\" font-size=\"10.8\" text-anchor=\"middle\" x=\"108.0\" y=\"2012.85\"/><text alignment-baseline=\"middle\" fill=\"black\" font-family=\"Futura\" font-size=\"10.8\" text-anchor=\"start\" x=\"133.2\" y=\"2012.85\">SingleReplicaMinus</text><line stroke=\"black\" stroke-width=\"1.5\" x1=\"90.0\" x2=\"90.0\" y1=\"2012.85\" y2=\"1929.15\"/><rect fill=\"green\" height=\"16.2\" width=\"32.4\" x=\"523.8\" y=\"2000.16\"/><text alignment-baseline=\"middle\" fill=\"white\" font-family=\"Futura\" font-size=\"10.8\" text-anchor=\"middle\" x=\"540.0\" y=\"2009.61\"/><rect fill=\"red\" height=\"16.2\" width=\"32.4\" x=\"523.8\" y=\"2006.64\"/><text alignment-baseline=\"middle\" fill=\"white\" font-family=\"Futura\" font-size=\"10.8\" text-anchor=\"middle\" x=\"540.0\" y=\"2016.09\"/><rect fill=\"rgb(200,200,200)\" height=\"16.2\" width=\"32.4\" x=\"523.8\" y=\"2003.4\"/><circle cx=\"522.0\" cy=\"2011.5\" fill=\"rgb(200,200,200)\" r=\"1.8\" stroke=\"rgb(200,200,200)\" stroke-width=\"0\"/><circle cx=\"558.0\" cy=\"2011.5\" fill=\"rgb(200,200,200)\" r=\"1.8\" stroke=\"rgb(200,200,200)\" stroke-width=\"0\"/><text alignment-baseline=\"middle\" fill=\"white\" font-family=\"Futura\" font-size=\"10.8\" text-anchor=\"middle\" x=\"540.0\" y=\"2012.85\">G</text><rect fill=\"green\" height=\"16.2\" width=\"32.4\" x=\"127.8\" y=\"2030.4\"/><circle cx=\"126.0\" cy=\"2038.5\" fill=\"green\" r=\"1.8\" stroke=\"green\" stroke-width=\"0\"/><circle cx=\"162.0\" cy=\"2038.5\" fill=\"green\" r=\"1.8\" stroke=\"green\" stroke-width=\"0\"/><text alignment-baseline=\"middle\" fill=\"white\" font-family=\"Futura\" font-size=\"10.8\" text-anchor=\"middle\" x=\"144.0\" y=\"2039.85\"/><text alignment-baseline=\"middle\" fill=\"black\" font-family=\"Futura\" font-size=\"10.8\" text-anchor=\"start\" x=\"169.2\" y=\"2039.85\">EnsembleFilter</text><line stroke=\"black\" stroke-width=\"1.5\" x1=\"126.0\" x2=\"126.0\" y1=\"2039.85\" y2=\"2010.15\"/><rect fill=\"green\" height=\"16.2\" width=\"32.4\" x=\"523.8\" y=\"2027.16\"/><text alignment-baseline=\"middle\" fill=\"white\" font-family=\"Futura\" font-size=\"10.8\" text-anchor=\"middle\" x=\"540.0\" y=\"2036.61\"/><rect fill=\"red\" height=\"16.2\" width=\"32.4\" x=\"523.8\" y=\"2033.64\"/><text alignment-baseline=\"middle\" fill=\"white\" font-family=\"Futura\" font-size=\"10.8\" text-anchor=\"middle\" x=\"540.0\" y=\"2043.09\"/><rect fill=\"rgb(200,200,200)\" height=\"16.2\" width=\"32.4\" x=\"523.8\" y=\"2030.4\"/><circle cx=\"522.0\" cy=\"2038.5\" fill=\"rgb(200,200,200)\" r=\"1.8\" stroke=\"rgb(200,200,200)\" stroke-width=\"0\"/><circle cx=\"558.0\" cy=\"2038.5\" fill=\"rgb(200,200,200)\" r=\"1.8\" stroke=\"rgb(200,200,200)\" stroke-width=\"0\"/><text alignment-baseline=\"middle\" fill=\"white\" font-family=\"Futura\" font-size=\"10.8\" text-anchor=\"middle\" x=\"540.0\" y=\"2039.85\">G</text><rect fill=\"green\" height=\"16.2\" width=\"32.4\" x=\"163.8\" y=\"2057.4\"/><circle cx=\"162.0\" cy=\"2065.5\" fill=\"green\" r=\"1.8\" stroke=\"green\" stroke-width=\"0\"/><circle cx=\"198.0\" cy=\"2065.5\" fill=\"green\" r=\"1.8\" stroke=\"green\" stroke-width=\"0\"/><text alignment-baseline=\"middle\" fill=\"white\" font-family=\"Futura\" font-size=\"10.8\" text-anchor=\"middle\" x=\"180.0\" y=\"2066.85\"/><text alignment-baseline=\"middle\" fill=\"black\" font-family=\"Futura\" font-size=\"10.8\" text-anchor=\"start\" x=\"205.2\" y=\"2066.85\">RandomChoice</text><line stroke=\"black\" stroke-width=\"1.5\" x1=\"162.0\" x2=\"162.0\" y1=\"2066.85\" y2=\"2037.15\"/><rect fill=\"green\" height=\"16.2\" width=\"32.4\" x=\"523.8\" y=\"2054.16\"/><text alignment-baseline=\"middle\" fill=\"white\" font-family=\"Futura\" font-size=\"10.8\" text-anchor=\"middle\" x=\"540.0\" y=\"2063.61\"/><rect fill=\"red\" height=\"16.2\" width=\"32.4\" x=\"523.8\" y=\"2060.64\"/><text alignment-baseline=\"middle\" fill=\"white\" font-family=\"Futura\" font-size=\"10.8\" text-anchor=\"middle\" x=\"540.0\" y=\"2070.09\"/><rect fill=\"rgb(200,200,200)\" height=\"16.2\" width=\"32.4\" x=\"523.8\" y=\"2057.4\"/><circle cx=\"522.0\" cy=\"2065.5\" fill=\"rgb(200,200,200)\" r=\"1.8\" stroke=\"rgb(200,200,200)\" stroke-width=\"0\"/><circle cx=\"558.0\" cy=\"2065.5\" fill=\"rgb(200,200,200)\" r=\"1.8\" stroke=\"rgb(200,200,200)\" stroke-width=\"0\"/><text alignment-baseline=\"middle\" fill=\"white\" font-family=\"Futura\" font-size=\"10.8\" text-anchor=\"middle\" x=\"540.0\" y=\"2066.85\">G</text><rect fill=\"green\" height=\"16.2\" width=\"32.4\" x=\"703.8\" y=\"2054.16\"/><text alignment-baseline=\"middle\" fill=\"white\" font-family=\"Futura\" font-size=\"10.8\" text-anchor=\"middle\" x=\"720.0\" y=\"2063.61\"/><rect fill=\"red\" height=\"16.2\" width=\"32.4\" x=\"703.8\" y=\"2060.64\"/><text alignment-baseline=\"middle\" fill=\"white\" font-family=\"Futura\" font-size=\"10.8\" text-anchor=\"middle\" x=\"720.0\" y=\"2070.09\"/><rect fill=\"rgb(200,200,200)\" height=\"16.2\" width=\"32.4\" x=\"703.8\" y=\"2057.4\"/><circle cx=\"702.0\" cy=\"2065.5\" fill=\"rgb(200,200,200)\" r=\"1.8\" stroke=\"rgb(200,200,200)\" stroke-width=\"0\"/><circle cx=\"738.0\" cy=\"2065.5\" fill=\"rgb(200,200,200)\" r=\"1.8\" stroke=\"rgb(200,200,200)\" stroke-width=\"0\"/><text alignment-baseline=\"middle\" fill=\"white\" font-family=\"Futura\" font-size=\"10.8\" text-anchor=\"middle\" x=\"720.0\" y=\"2066.85\">L</text><rect fill=\"green\" height=\"16.2\" width=\"32.4\" x=\"199.8\" y=\"2084.4\"/><circle cx=\"198.0\" cy=\"2092.5\" fill=\"green\" r=\"1.8\" stroke=\"green\" stroke-width=\"0\"/><circle cx=\"234.0\" cy=\"2092.5\" fill=\"green\" r=\"1.8\" stroke=\"green\" stroke-width=\"0\"/><text alignment-baseline=\"middle\" fill=\"white\" font-family=\"Futura\" font-size=\"10.8\" text-anchor=\"middle\" x=\"216.0\" y=\"2093.85\"/><text alignment-baseline=\"middle\" fill=\"black\" font-family=\"Futura\" font-size=\"10.8\" text-anchor=\"start\" x=\"241.2\" y=\"2093.85\">ConditionalSequential</text><line stroke=\"black\" stroke-width=\"1.5\" x1=\"198.0\" x2=\"198.0\" y1=\"2093.85\" y2=\"2064.15\"/><rect fill=\"green\" height=\"16.2\" width=\"32.4\" x=\"523.8\" y=\"2081.16\"/><text alignment-baseline=\"middle\" fill=\"white\" font-family=\"Futura\" font-size=\"10.8\" text-anchor=\"middle\" x=\"540.0\" y=\"2090.61\"/><rect fill=\"red\" height=\"16.2\" width=\"32.4\" x=\"523.8\" y=\"2087.64\"/><text alignment-baseline=\"middle\" fill=\"white\" font-family=\"Futura\" font-size=\"10.8\" text-anchor=\"middle\" x=\"540.0\" y=\"2097.09\"/><rect fill=\"rgb(200,200,200)\" height=\"16.2\" width=\"32.4\" x=\"523.8\" y=\"2084.4\"/><circle cx=\"522.0\" cy=\"2092.5\" fill=\"rgb(200,200,200)\" r=\"1.8\" stroke=\"rgb(200,200,200)\" stroke-width=\"0\"/><circle cx=\"558.0\" cy=\"2092.5\" fill=\"rgb(200,200,200)\" r=\"1.8\" stroke=\"rgb(200,200,200)\" stroke-width=\"0\"/><text alignment-baseline=\"middle\" fill=\"white\" font-family=\"Futura\" font-size=\"10.8\" text-anchor=\"middle\" x=\"540.0\" y=\"2093.85\">G</text><rect fill=\"green\" height=\"16.2\" width=\"32.4\" x=\"703.8\" y=\"2081.16\"/><text alignment-baseline=\"middle\" fill=\"white\" font-family=\"Futura\" font-size=\"10.8\" text-anchor=\"middle\" x=\"720.0\" y=\"2090.61\"/><rect fill=\"red\" height=\"16.2\" width=\"32.4\" x=\"703.8\" y=\"2087.64\"/><text alignment-baseline=\"middle\" fill=\"white\" font-family=\"Futura\" font-size=\"10.8\" text-anchor=\"middle\" x=\"720.0\" y=\"2097.09\"/><rect fill=\"rgb(200,200,200)\" height=\"16.2\" width=\"32.4\" x=\"703.8\" y=\"2084.4\"/><circle cx=\"702.0\" cy=\"2092.5\" fill=\"rgb(200,200,200)\" r=\"1.8\" stroke=\"rgb(200,200,200)\" stroke-width=\"0\"/><circle cx=\"738.0\" cy=\"2092.5\" fill=\"rgb(200,200,200)\" r=\"1.8\" stroke=\"rgb(200,200,200)\" stroke-width=\"0\"/><text alignment-baseline=\"middle\" fill=\"white\" font-family=\"Futura\" font-size=\"10.8\" text-anchor=\"middle\" x=\"720.0\" y=\"2093.85\">L</text><rect fill=\"green\" height=\"16.2\" width=\"32.4\" x=\"235.8\" y=\"2111.4\"/><circle cx=\"234.0\" cy=\"2119.5\" fill=\"green\" r=\"1.8\" stroke=\"green\" stroke-width=\"0\"/><circle cx=\"270.0\" cy=\"2119.5\" fill=\"green\" r=\"1.8\" stroke=\"green\" stroke-width=\"0\"/><text alignment-baseline=\"middle\" fill=\"white\" font-family=\"Futura\" font-size=\"10.8\" text-anchor=\"middle\" x=\"252.0\" y=\"2120.85\"/><text alignment-baseline=\"middle\" fill=\"black\" font-family=\"Futura\" font-size=\"10.8\" text-anchor=\"start\" x=\"277.2\" y=\"2120.85\">RandomAllowedChoice</text><line stroke=\"black\" stroke-width=\"1.5\" x1=\"234.0\" x2=\"234.0\" y1=\"2120.85\" y2=\"2091.15\"/><rect fill=\"green\" height=\"16.2\" width=\"32.4\" x=\"523.8\" y=\"2108.16\"/><text alignment-baseline=\"middle\" fill=\"white\" font-family=\"Futura\" font-size=\"10.8\" text-anchor=\"middle\" x=\"540.0\" y=\"2117.61\"/><rect fill=\"rgb(200,200,200)\" height=\"16.2\" width=\"32.4\" x=\"523.8\" y=\"2111.4\"/><circle cx=\"522.0\" cy=\"2119.5\" fill=\"rgb(200,200,200)\" r=\"1.8\" stroke=\"rgb(200,200,200)\" stroke-width=\"0\"/><circle cx=\"558.0\" cy=\"2119.5\" fill=\"rgb(200,200,200)\" r=\"1.8\" stroke=\"rgb(200,200,200)\" stroke-width=\"0\"/><text alignment-baseline=\"middle\" fill=\"white\" font-family=\"Futura\" font-size=\"10.8\" text-anchor=\"middle\" x=\"540.0\" y=\"2120.85\">G</text><rect fill=\"green\" height=\"16.2\" width=\"32.4\" x=\"271.8\" y=\"2138.4\"/><circle cx=\"270.0\" cy=\"2146.5\" fill=\"green\" r=\"1.8\" stroke=\"green\" stroke-width=\"0\"/><circle cx=\"306.0\" cy=\"2146.5\" fill=\"green\" r=\"1.8\" stroke=\"green\" stroke-width=\"0\"/><text alignment-baseline=\"middle\" fill=\"white\" font-family=\"Futura\" font-size=\"10.8\" text-anchor=\"middle\" x=\"288.0\" y=\"2147.85\"/><text alignment-baseline=\"middle\" fill=\"black\" font-family=\"Futura\" font-size=\"10.8\" text-anchor=\"start\" x=\"313.2\" y=\"2147.85\">EnsembleHop</text><line stroke=\"black\" stroke-width=\"1.5\" x1=\"270.0\" x2=\"270.0\" y1=\"2147.85\" y2=\"2118.15\"/><rect fill=\"green\" height=\"16.2\" width=\"32.4\" x=\"523.8\" y=\"2135.16\"/><text alignment-baseline=\"middle\" fill=\"white\" font-family=\"Futura\" font-size=\"10.8\" text-anchor=\"middle\" x=\"540.0\" y=\"2144.61\"/><rect fill=\"rgb(200,200,200)\" height=\"16.2\" width=\"32.4\" x=\"523.8\" y=\"2138.4\"/><circle cx=\"522.0\" cy=\"2146.5\" fill=\"rgb(200,200,200)\" r=\"1.8\" stroke=\"rgb(200,200,200)\" stroke-width=\"0\"/><circle cx=\"558.0\" cy=\"2146.5\" fill=\"rgb(200,200,200)\" r=\"1.8\" stroke=\"rgb(200,200,200)\" stroke-width=\"0\"/><text alignment-baseline=\"middle\" fill=\"white\" font-family=\"Futura\" font-size=\"10.8\" text-anchor=\"middle\" x=\"540.0\" y=\"2147.85\">G</text><rect fill=\"green\" height=\"16.2\" width=\"32.4\" x=\"235.8\" y=\"2165.4\"/><circle cx=\"234.0\" cy=\"2173.5\" fill=\"green\" r=\"1.8\" stroke=\"green\" stroke-width=\"0\"/><circle cx=\"270.0\" cy=\"2173.5\" fill=\"green\" r=\"1.8\" stroke=\"green\" stroke-width=\"0\"/><text alignment-baseline=\"middle\" fill=\"white\" font-family=\"Futura\" font-size=\"10.8\" text-anchor=\"middle\" x=\"252.0\" y=\"2174.85\"/><text alignment-baseline=\"middle\" fill=\"black\" font-family=\"Futura\" font-size=\"10.8\" text-anchor=\"start\" x=\"277.2\" y=\"2174.85\">BackwardExtend</text><line stroke=\"black\" stroke-width=\"1.5\" x1=\"234.0\" x2=\"234.0\" y1=\"2174.85\" y2=\"2118.15\"/><rect fill=\"red\" height=\"16.2\" width=\"32.4\" x=\"703.8\" y=\"2168.64\"/><text alignment-baseline=\"middle\" fill=\"white\" font-family=\"Futura\" font-size=\"10.8\" text-anchor=\"middle\" x=\"720.0\" y=\"2178.09\"/><rect fill=\"rgb(200,200,200)\" height=\"16.2\" width=\"32.4\" x=\"703.8\" y=\"2165.4\"/><circle cx=\"702.0\" cy=\"2173.5\" fill=\"rgb(200,200,200)\" r=\"1.8\" stroke=\"rgb(200,200,200)\" stroke-width=\"0\"/><circle cx=\"738.0\" cy=\"2173.5\" fill=\"rgb(200,200,200)\" r=\"1.8\" stroke=\"rgb(200,200,200)\" stroke-width=\"0\"/><text alignment-baseline=\"middle\" fill=\"white\" font-family=\"Futura\" font-size=\"10.8\" text-anchor=\"middle\" x=\"720.0\" y=\"2174.85\">L</text><rect fill=\"green\" height=\"16.2\" width=\"32.4\" x=\"235.8\" y=\"2192.4\"/><circle cx=\"234.0\" cy=\"2200.5\" fill=\"green\" r=\"1.8\" stroke=\"green\" stroke-width=\"0\"/><circle cx=\"270.0\" cy=\"2200.5\" fill=\"green\" r=\"1.8\" stroke=\"green\" stroke-width=\"0\"/><text alignment-baseline=\"middle\" fill=\"white\" font-family=\"Futura\" font-size=\"10.8\" text-anchor=\"middle\" x=\"252.0\" y=\"2201.85\"/><text alignment-baseline=\"middle\" fill=\"black\" font-family=\"Futura\" font-size=\"10.8\" text-anchor=\"start\" x=\"277.2\" y=\"2201.85\">FirstSubtrajectorySelect</text><line stroke=\"black\" stroke-width=\"1.5\" x1=\"234.0\" x2=\"234.0\" y1=\"2201.85\" y2=\"2172.15\"/><rect fill=\"green\" height=\"16.2\" width=\"32.4\" x=\"703.8\" y=\"2189.16\"/><text alignment-baseline=\"middle\" fill=\"white\" font-family=\"Futura\" font-size=\"10.8\" text-anchor=\"middle\" x=\"720.0\" y=\"2198.61\"/><rect fill=\"rgb(200,200,200)\" height=\"16.2\" width=\"32.4\" x=\"703.8\" y=\"2192.4\"/><circle cx=\"702.0\" cy=\"2200.5\" fill=\"rgb(200,200,200)\" r=\"1.8\" stroke=\"rgb(200,200,200)\" stroke-width=\"0\"/><circle cx=\"738.0\" cy=\"2200.5\" fill=\"rgb(200,200,200)\" r=\"1.8\" stroke=\"rgb(200,200,200)\" stroke-width=\"0\"/><text alignment-baseline=\"middle\" fill=\"white\" font-family=\"Futura\" font-size=\"10.8\" text-anchor=\"middle\" x=\"720.0\" y=\"2201.85\">L</text><rect fill=\"green\" height=\"16.2\" width=\"32.4\" x=\"235.8\" y=\"2219.4\"/><circle cx=\"234.0\" cy=\"2227.5\" fill=\"green\" r=\"1.8\" stroke=\"green\" stroke-width=\"0\"/><circle cx=\"270.0\" cy=\"2227.5\" fill=\"green\" r=\"1.8\" stroke=\"green\" stroke-width=\"0\"/><text alignment-baseline=\"middle\" fill=\"white\" font-family=\"Futura\" font-size=\"10.8\" text-anchor=\"middle\" x=\"252.0\" y=\"2228.85\"/><text alignment-baseline=\"middle\" fill=\"black\" font-family=\"Futura\" font-size=\"10.8\" text-anchor=\"start\" x=\"277.2\" y=\"2228.85\">RandomChoice</text><line stroke=\"black\" stroke-width=\"1.5\" x1=\"234.0\" x2=\"234.0\" y1=\"2228.85\" y2=\"2199.15\"/><rect fill=\"red\" height=\"16.2\" width=\"32.4\" x=\"523.8\" y=\"2222.64\"/><text alignment-baseline=\"middle\" fill=\"white\" font-family=\"Futura\" font-size=\"10.8\" text-anchor=\"middle\" x=\"540.0\" y=\"2232.09\"/><rect fill=\"rgb(200,200,200)\" height=\"16.2\" width=\"32.4\" x=\"523.8\" y=\"2219.4\"/><circle cx=\"522.0\" cy=\"2227.5\" fill=\"rgb(200,200,200)\" r=\"1.8\" stroke=\"rgb(200,200,200)\" stroke-width=\"0\"/><circle cx=\"558.0\" cy=\"2227.5\" fill=\"rgb(200,200,200)\" r=\"1.8\" stroke=\"rgb(200,200,200)\" stroke-width=\"0\"/><text alignment-baseline=\"middle\" fill=\"white\" font-family=\"Futura\" font-size=\"10.8\" text-anchor=\"middle\" x=\"540.0\" y=\"2228.85\">G</text><rect fill=\"green\" height=\"16.2\" width=\"32.4\" x=\"271.8\" y=\"2246.4\"/><circle cx=\"270.0\" cy=\"2254.5\" fill=\"green\" r=\"1.8\" stroke=\"green\" stroke-width=\"0\"/><circle cx=\"306.0\" cy=\"2254.5\" fill=\"green\" r=\"1.8\" stroke=\"green\" stroke-width=\"0\"/><text alignment-baseline=\"middle\" fill=\"white\" font-family=\"Futura\" font-size=\"10.8\" text-anchor=\"middle\" x=\"288.0\" y=\"2255.85\"/><text alignment-baseline=\"middle\" fill=\"black\" font-family=\"Futura\" font-size=\"10.8\" text-anchor=\"start\" x=\"313.2\" y=\"2255.85\">EnsembleHop</text><line stroke=\"black\" stroke-width=\"1.5\" x1=\"270.0\" x2=\"270.0\" y1=\"2255.85\" y2=\"2226.15\"/><rect fill=\"red\" height=\"16.2\" width=\"32.4\" x=\"523.8\" y=\"2249.64\"/><text alignment-baseline=\"middle\" fill=\"white\" font-family=\"Futura\" font-size=\"10.8\" text-anchor=\"middle\" x=\"540.0\" y=\"2259.09\"/><rect fill=\"rgb(200,200,200)\" height=\"16.2\" width=\"32.4\" x=\"523.8\" y=\"2246.4\"/><circle cx=\"522.0\" cy=\"2254.5\" fill=\"rgb(200,200,200)\" r=\"1.8\" stroke=\"rgb(200,200,200)\" stroke-width=\"0\"/><circle cx=\"558.0\" cy=\"2254.5\" fill=\"rgb(200,200,200)\" r=\"1.8\" stroke=\"rgb(200,200,200)\" stroke-width=\"0\"/><text alignment-baseline=\"middle\" fill=\"white\" font-family=\"Futura\" font-size=\"10.8\" text-anchor=\"middle\" x=\"540.0\" y=\"2255.85\">G</text><rect fill=\"green\" height=\"16.2\" width=\"32.4\" x=\"199.8\" y=\"2273.4\"/><circle cx=\"198.0\" cy=\"2281.5\" fill=\"green\" r=\"1.8\" stroke=\"green\" stroke-width=\"0\"/><circle cx=\"234.0\" cy=\"2281.5\" fill=\"green\" r=\"1.8\" stroke=\"green\" stroke-width=\"0\"/><text alignment-baseline=\"middle\" fill=\"white\" font-family=\"Futura\" font-size=\"10.8\" text-anchor=\"middle\" x=\"216.0\" y=\"2282.85\"/><text alignment-baseline=\"middle\" fill=\"black\" font-family=\"Futura\" font-size=\"10.8\" text-anchor=\"start\" x=\"241.2\" y=\"2282.85\">ConditionalSequential</text><line stroke=\"black\" stroke-width=\"1.5\" x1=\"198.0\" x2=\"198.0\" y1=\"2282.85\" y2=\"2091.15\"/><rect fill=\"green\" height=\"16.2\" width=\"32.4\" x=\"523.8\" y=\"2270.16\"/><text alignment-baseline=\"middle\" fill=\"white\" font-family=\"Futura\" font-size=\"10.8\" text-anchor=\"middle\" x=\"540.0\" y=\"2279.61\"/><rect fill=\"red\" height=\"16.2\" width=\"32.4\" x=\"523.8\" y=\"2276.64\"/><text alignment-baseline=\"middle\" fill=\"white\" font-family=\"Futura\" font-size=\"10.8\" text-anchor=\"middle\" x=\"540.0\" y=\"2286.09\"/><rect fill=\"rgb(200,200,200)\" height=\"16.2\" width=\"32.4\" x=\"523.8\" y=\"2273.4\"/><circle cx=\"522.0\" cy=\"2281.5\" fill=\"rgb(200,200,200)\" r=\"1.8\" stroke=\"rgb(200,200,200)\" stroke-width=\"0\"/><circle cx=\"558.0\" cy=\"2281.5\" fill=\"rgb(200,200,200)\" r=\"1.8\" stroke=\"rgb(200,200,200)\" stroke-width=\"0\"/><text alignment-baseline=\"middle\" fill=\"white\" font-family=\"Futura\" font-size=\"10.8\" text-anchor=\"middle\" x=\"540.0\" y=\"2282.85\">G</text><rect fill=\"green\" height=\"16.2\" width=\"32.4\" x=\"703.8\" y=\"2270.16\"/><text alignment-baseline=\"middle\" fill=\"white\" font-family=\"Futura\" font-size=\"10.8\" text-anchor=\"middle\" x=\"720.0\" y=\"2279.61\"/><rect fill=\"red\" height=\"16.2\" width=\"32.4\" x=\"703.8\" y=\"2276.64\"/><text alignment-baseline=\"middle\" fill=\"white\" font-family=\"Futura\" font-size=\"10.8\" text-anchor=\"middle\" x=\"720.0\" y=\"2286.09\"/><rect fill=\"rgb(200,200,200)\" height=\"16.2\" width=\"32.4\" x=\"703.8\" y=\"2273.4\"/><circle cx=\"702.0\" cy=\"2281.5\" fill=\"rgb(200,200,200)\" r=\"1.8\" stroke=\"rgb(200,200,200)\" stroke-width=\"0\"/><circle cx=\"738.0\" cy=\"2281.5\" fill=\"rgb(200,200,200)\" r=\"1.8\" stroke=\"rgb(200,200,200)\" stroke-width=\"0\"/><text alignment-baseline=\"middle\" fill=\"white\" font-family=\"Futura\" font-size=\"10.8\" text-anchor=\"middle\" x=\"720.0\" y=\"2282.85\">L</text><rect fill=\"green\" height=\"16.2\" width=\"32.4\" x=\"235.8\" y=\"2300.4\"/><circle cx=\"234.0\" cy=\"2308.5\" fill=\"green\" r=\"1.8\" stroke=\"green\" stroke-width=\"0\"/><circle cx=\"270.0\" cy=\"2308.5\" fill=\"green\" r=\"1.8\" stroke=\"green\" stroke-width=\"0\"/><text alignment-baseline=\"middle\" fill=\"white\" font-family=\"Futura\" font-size=\"10.8\" text-anchor=\"middle\" x=\"252.0\" y=\"2309.85\"/><text alignment-baseline=\"middle\" fill=\"black\" font-family=\"Futura\" font-size=\"10.8\" text-anchor=\"start\" x=\"277.2\" y=\"2309.85\">RandomAllowedChoice</text><line stroke=\"black\" stroke-width=\"1.5\" x1=\"234.0\" x2=\"234.0\" y1=\"2309.85\" y2=\"2280.15\"/><rect fill=\"green\" height=\"16.2\" width=\"32.4\" x=\"523.8\" y=\"2297.16\"/><text alignment-baseline=\"middle\" fill=\"white\" font-family=\"Futura\" font-size=\"10.8\" text-anchor=\"middle\" x=\"540.0\" y=\"2306.61\"/><rect fill=\"rgb(200,200,200)\" height=\"16.2\" width=\"32.4\" x=\"523.8\" y=\"2300.4\"/><circle cx=\"522.0\" cy=\"2308.5\" fill=\"rgb(200,200,200)\" r=\"1.8\" stroke=\"rgb(200,200,200)\" stroke-width=\"0\"/><circle cx=\"558.0\" cy=\"2308.5\" fill=\"rgb(200,200,200)\" r=\"1.8\" stroke=\"rgb(200,200,200)\" stroke-width=\"0\"/><text alignment-baseline=\"middle\" fill=\"white\" font-family=\"Futura\" font-size=\"10.8\" text-anchor=\"middle\" x=\"540.0\" y=\"2309.85\">G</text><rect fill=\"green\" height=\"16.2\" width=\"32.4\" x=\"271.8\" y=\"2327.4\"/><circle cx=\"270.0\" cy=\"2335.5\" fill=\"green\" r=\"1.8\" stroke=\"green\" stroke-width=\"0\"/><circle cx=\"306.0\" cy=\"2335.5\" fill=\"green\" r=\"1.8\" stroke=\"green\" stroke-width=\"0\"/><text alignment-baseline=\"middle\" fill=\"white\" font-family=\"Futura\" font-size=\"10.8\" text-anchor=\"middle\" x=\"288.0\" y=\"2336.85\"/><text alignment-baseline=\"middle\" fill=\"black\" font-family=\"Futura\" font-size=\"10.8\" text-anchor=\"start\" x=\"313.2\" y=\"2336.85\">EnsembleHop</text><line stroke=\"black\" stroke-width=\"1.5\" x1=\"270.0\" x2=\"270.0\" y1=\"2336.85\" y2=\"2307.15\"/><rect fill=\"green\" height=\"16.2\" width=\"32.4\" x=\"523.8\" y=\"2324.16\"/><text alignment-baseline=\"middle\" fill=\"white\" font-family=\"Futura\" font-size=\"10.8\" text-anchor=\"middle\" x=\"540.0\" y=\"2333.61\"/><rect fill=\"rgb(200,200,200)\" height=\"16.2\" width=\"32.4\" x=\"523.8\" y=\"2327.4\"/><circle cx=\"522.0\" cy=\"2335.5\" fill=\"rgb(200,200,200)\" r=\"1.8\" stroke=\"rgb(200,200,200)\" stroke-width=\"0\"/><circle cx=\"558.0\" cy=\"2335.5\" fill=\"rgb(200,200,200)\" r=\"1.8\" stroke=\"rgb(200,200,200)\" stroke-width=\"0\"/><text alignment-baseline=\"middle\" fill=\"white\" font-family=\"Futura\" font-size=\"10.8\" text-anchor=\"middle\" x=\"540.0\" y=\"2336.85\">G</text><rect fill=\"green\" height=\"16.2\" width=\"32.4\" x=\"235.8\" y=\"2354.4\"/><circle cx=\"234.0\" cy=\"2362.5\" fill=\"green\" r=\"1.8\" stroke=\"green\" stroke-width=\"0\"/><circle cx=\"270.0\" cy=\"2362.5\" fill=\"green\" r=\"1.8\" stroke=\"green\" stroke-width=\"0\"/><text alignment-baseline=\"middle\" fill=\"white\" font-family=\"Futura\" font-size=\"10.8\" text-anchor=\"middle\" x=\"252.0\" y=\"2363.85\"/><text alignment-baseline=\"middle\" fill=\"black\" font-family=\"Futura\" font-size=\"10.8\" text-anchor=\"start\" x=\"277.2\" y=\"2363.85\">ForwardExtend</text><line stroke=\"black\" stroke-width=\"1.5\" x1=\"234.0\" x2=\"234.0\" y1=\"2363.85\" y2=\"2307.15\"/><rect fill=\"red\" height=\"16.2\" width=\"32.4\" x=\"703.8\" y=\"2357.64\"/><text alignment-baseline=\"middle\" fill=\"white\" font-family=\"Futura\" font-size=\"10.8\" text-anchor=\"middle\" x=\"720.0\" y=\"2367.09\"/><rect fill=\"rgb(200,200,200)\" height=\"16.2\" width=\"32.4\" x=\"703.8\" y=\"2354.4\"/><circle cx=\"702.0\" cy=\"2362.5\" fill=\"rgb(200,200,200)\" r=\"1.8\" stroke=\"rgb(200,200,200)\" stroke-width=\"0\"/><circle cx=\"738.0\" cy=\"2362.5\" fill=\"rgb(200,200,200)\" r=\"1.8\" stroke=\"rgb(200,200,200)\" stroke-width=\"0\"/><text alignment-baseline=\"middle\" fill=\"white\" font-family=\"Futura\" font-size=\"10.8\" text-anchor=\"middle\" x=\"720.0\" y=\"2363.85\">L</text><rect fill=\"green\" height=\"16.2\" width=\"32.4\" x=\"235.8\" y=\"2381.4\"/><circle cx=\"234.0\" cy=\"2389.5\" fill=\"green\" r=\"1.8\" stroke=\"green\" stroke-width=\"0\"/><circle cx=\"270.0\" cy=\"2389.5\" fill=\"green\" r=\"1.8\" stroke=\"green\" stroke-width=\"0\"/><text alignment-baseline=\"middle\" fill=\"white\" font-family=\"Futura\" font-size=\"10.8\" text-anchor=\"middle\" x=\"252.0\" y=\"2390.85\"/><text alignment-baseline=\"middle\" fill=\"black\" font-family=\"Futura\" font-size=\"10.8\" text-anchor=\"start\" x=\"277.2\" y=\"2390.85\">FinalSubtrajectorySelect</text><line stroke=\"black\" stroke-width=\"1.5\" x1=\"234.0\" x2=\"234.0\" y1=\"2390.85\" y2=\"2361.15\"/><rect fill=\"green\" height=\"16.2\" width=\"32.4\" x=\"703.8\" y=\"2378.16\"/><text alignment-baseline=\"middle\" fill=\"white\" font-family=\"Futura\" font-size=\"10.8\" text-anchor=\"middle\" x=\"720.0\" y=\"2387.61\"/><rect fill=\"rgb(200,200,200)\" height=\"16.2\" width=\"32.4\" x=\"703.8\" y=\"2381.4\"/><circle cx=\"702.0\" cy=\"2389.5\" fill=\"rgb(200,200,200)\" r=\"1.8\" stroke=\"rgb(200,200,200)\" stroke-width=\"0\"/><circle cx=\"738.0\" cy=\"2389.5\" fill=\"rgb(200,200,200)\" r=\"1.8\" stroke=\"rgb(200,200,200)\" stroke-width=\"0\"/><text alignment-baseline=\"middle\" fill=\"white\" font-family=\"Futura\" font-size=\"10.8\" text-anchor=\"middle\" x=\"720.0\" y=\"2390.85\">L</text><rect fill=\"green\" height=\"16.2\" width=\"32.4\" x=\"235.8\" y=\"2408.4\"/><circle cx=\"234.0\" cy=\"2416.5\" fill=\"green\" r=\"1.8\" stroke=\"green\" stroke-width=\"0\"/><circle cx=\"270.0\" cy=\"2416.5\" fill=\"green\" r=\"1.8\" stroke=\"green\" stroke-width=\"0\"/><text alignment-baseline=\"middle\" fill=\"white\" font-family=\"Futura\" font-size=\"10.8\" text-anchor=\"middle\" x=\"252.0\" y=\"2417.85\"/><text alignment-baseline=\"middle\" fill=\"black\" font-family=\"Futura\" font-size=\"10.8\" text-anchor=\"start\" x=\"277.2\" y=\"2417.85\">RandomChoice</text><line stroke=\"black\" stroke-width=\"1.5\" x1=\"234.0\" x2=\"234.0\" y1=\"2417.85\" y2=\"2388.15\"/><rect fill=\"red\" height=\"16.2\" width=\"32.4\" x=\"523.8\" y=\"2411.64\"/><text alignment-baseline=\"middle\" fill=\"white\" font-family=\"Futura\" font-size=\"10.8\" text-anchor=\"middle\" x=\"540.0\" y=\"2421.09\"/><rect fill=\"rgb(200,200,200)\" height=\"16.2\" width=\"32.4\" x=\"523.8\" y=\"2408.4\"/><circle cx=\"522.0\" cy=\"2416.5\" fill=\"rgb(200,200,200)\" r=\"1.8\" stroke=\"rgb(200,200,200)\" stroke-width=\"0\"/><circle cx=\"558.0\" cy=\"2416.5\" fill=\"rgb(200,200,200)\" r=\"1.8\" stroke=\"rgb(200,200,200)\" stroke-width=\"0\"/><text alignment-baseline=\"middle\" fill=\"white\" font-family=\"Futura\" font-size=\"10.8\" text-anchor=\"middle\" x=\"540.0\" y=\"2417.85\">G</text><rect fill=\"green\" height=\"16.2\" width=\"32.4\" x=\"271.8\" y=\"2435.4\"/><circle cx=\"270.0\" cy=\"2443.5\" fill=\"green\" r=\"1.8\" stroke=\"green\" stroke-width=\"0\"/><circle cx=\"306.0\" cy=\"2443.5\" fill=\"green\" r=\"1.8\" stroke=\"green\" stroke-width=\"0\"/><text alignment-baseline=\"middle\" fill=\"white\" font-family=\"Futura\" font-size=\"10.8\" text-anchor=\"middle\" x=\"288.0\" y=\"2444.85\"/><text alignment-baseline=\"middle\" fill=\"black\" font-family=\"Futura\" font-size=\"10.8\" text-anchor=\"start\" x=\"313.2\" y=\"2444.85\">EnsembleHop</text><line stroke=\"black\" stroke-width=\"1.5\" x1=\"270.0\" x2=\"270.0\" y1=\"2444.85\" y2=\"2415.15\"/><rect fill=\"red\" height=\"16.2\" width=\"32.4\" x=\"523.8\" y=\"2438.64\"/><text alignment-baseline=\"middle\" fill=\"white\" font-family=\"Futura\" font-size=\"10.8\" text-anchor=\"middle\" x=\"540.0\" y=\"2448.09\"/><rect fill=\"rgb(200,200,200)\" height=\"16.2\" width=\"32.4\" x=\"523.8\" y=\"2435.4\"/><circle cx=\"522.0\" cy=\"2443.5\" fill=\"rgb(200,200,200)\" r=\"1.8\" stroke=\"rgb(200,200,200)\" stroke-width=\"0\"/><circle cx=\"558.0\" cy=\"2443.5\" fill=\"rgb(200,200,200)\" r=\"1.8\" stroke=\"rgb(200,200,200)\" stroke-width=\"0\"/><text alignment-baseline=\"middle\" fill=\"white\" font-family=\"Futura\" font-size=\"10.8\" text-anchor=\"middle\" x=\"540.0\" y=\"2444.85\">G</text><rect fill=\"green\" height=\"16.2\" width=\"32.4\" x=\"91.8\" y=\"2462.4\"/><circle cx=\"90.0\" cy=\"2470.5\" fill=\"green\" r=\"1.8\" stroke=\"green\" stroke-width=\"0\"/><circle cx=\"126.0\" cy=\"2470.5\" fill=\"green\" r=\"1.8\" stroke=\"green\" stroke-width=\"0\"/><text alignment-baseline=\"middle\" fill=\"white\" font-family=\"Futura\" font-size=\"10.8\" text-anchor=\"middle\" x=\"108.0\" y=\"2471.85\"/><text alignment-baseline=\"middle\" fill=\"black\" font-family=\"Futura\" font-size=\"10.8\" text-anchor=\"start\" x=\"133.2\" y=\"2471.85\">EnsembleHop</text><line stroke=\"black\" stroke-width=\"1.5\" x1=\"90.0\" x2=\"90.0\" y1=\"2471.85\" y2=\"2010.15\"/><rect fill=\"green\" height=\"16.2\" width=\"32.4\" x=\"523.8\" y=\"2459.16\"/><text alignment-baseline=\"middle\" fill=\"white\" font-family=\"Futura\" font-size=\"10.8\" text-anchor=\"middle\" x=\"540.0\" y=\"2468.61\"/><rect fill=\"rgb(200,200,200)\" height=\"16.2\" width=\"32.4\" x=\"523.8\" y=\"2462.4\"/><circle cx=\"522.0\" cy=\"2470.5\" fill=\"rgb(200,200,200)\" r=\"1.8\" stroke=\"rgb(200,200,200)\" stroke-width=\"0\"/><circle cx=\"558.0\" cy=\"2470.5\" fill=\"rgb(200,200,200)\" r=\"1.8\" stroke=\"rgb(200,200,200)\" stroke-width=\"0\"/><text alignment-baseline=\"middle\" fill=\"white\" font-family=\"Futura\" font-size=\"10.8\" text-anchor=\"middle\" x=\"540.0\" y=\"2471.85\">G</text><rect fill=\"red\" height=\"16.2\" width=\"32.4\" x=\"559.8\" y=\"2465.64\"/><text alignment-baseline=\"middle\" fill=\"white\" font-family=\"Futura\" font-size=\"10.8\" text-anchor=\"middle\" x=\"576.0\" y=\"2475.09\"/><rect fill=\"rgb(200,200,200)\" height=\"16.2\" width=\"32.4\" x=\"559.8\" y=\"2462.4\"/><circle cx=\"558.0\" cy=\"2470.5\" fill=\"rgb(200,200,200)\" r=\"1.8\" stroke=\"rgb(200,200,200)\" stroke-width=\"0\"/><circle cx=\"594.0\" cy=\"2470.5\" fill=\"rgb(200,200,200)\" r=\"1.8\" stroke=\"rgb(200,200,200)\" stroke-width=\"0\"/><text alignment-baseline=\"middle\" fill=\"white\" font-family=\"Futura\" font-size=\"10.8\" text-anchor=\"middle\" x=\"576.0\" y=\"2471.85\">H</text><rect fill=\"green\" height=\"16.2\" width=\"32.4\" x=\"91.8\" y=\"2489.4\"/><circle cx=\"90.0\" cy=\"2497.5\" fill=\"green\" r=\"1.8\" stroke=\"green\" stroke-width=\"0\"/><circle cx=\"126.0\" cy=\"2497.5\" fill=\"green\" r=\"1.8\" stroke=\"green\" stroke-width=\"0\"/><text alignment-baseline=\"middle\" fill=\"white\" font-family=\"Futura\" font-size=\"10.8\" text-anchor=\"middle\" x=\"108.0\" y=\"2498.85\"/><text alignment-baseline=\"middle\" fill=\"black\" font-family=\"Futura\" font-size=\"10.8\" text-anchor=\"start\" x=\"133.2\" y=\"2498.85\">IdentityPath</text><line stroke=\"black\" stroke-width=\"1.5\" x1=\"90.0\" x2=\"90.0\" y1=\"2498.85\" y2=\"2469.15\"/><rect fill=\"green\" height=\"16.2\" width=\"32.4\" x=\"91.8\" y=\"2516.4\"/><circle cx=\"90.0\" cy=\"2524.5\" fill=\"green\" r=\"1.8\" stroke=\"green\" stroke-width=\"0\"/><circle cx=\"126.0\" cy=\"2524.5\" fill=\"green\" r=\"1.8\" stroke=\"green\" stroke-width=\"0\"/><text alignment-baseline=\"middle\" fill=\"white\" font-family=\"Futura\" font-size=\"10.8\" text-anchor=\"middle\" x=\"108.0\" y=\"2525.85\"/><text alignment-baseline=\"middle\" fill=\"black\" font-family=\"Futura\" font-size=\"10.8\" text-anchor=\"start\" x=\"133.2\" y=\"2525.85\">PathReversal</text><line stroke=\"black\" stroke-width=\"1.5\" x1=\"90.0\" x2=\"90.0\" y1=\"2525.85\" y2=\"2496.15\"/><rect fill=\"green\" height=\"16.2\" width=\"32.4\" x=\"523.8\" y=\"2513.16\"/><text alignment-baseline=\"middle\" fill=\"white\" font-family=\"Futura\" font-size=\"10.8\" text-anchor=\"middle\" x=\"540.0\" y=\"2522.61\"/><rect fill=\"red\" height=\"16.2\" width=\"32.4\" x=\"523.8\" y=\"2519.64\"/><text alignment-baseline=\"middle\" fill=\"white\" font-family=\"Futura\" font-size=\"10.8\" text-anchor=\"middle\" x=\"540.0\" y=\"2529.09\"/><rect fill=\"rgb(200,200,200)\" height=\"16.2\" width=\"32.4\" x=\"523.8\" y=\"2516.4\"/><circle cx=\"522.0\" cy=\"2524.5\" fill=\"rgb(200,200,200)\" r=\"1.8\" stroke=\"rgb(200,200,200)\" stroke-width=\"0\"/><circle cx=\"558.0\" cy=\"2524.5\" fill=\"rgb(200,200,200)\" r=\"1.8\" stroke=\"rgb(200,200,200)\" stroke-width=\"0\"/><text alignment-baseline=\"middle\" fill=\"white\" font-family=\"Futura\" font-size=\"10.8\" text-anchor=\"middle\" x=\"540.0\" y=\"2525.85\">G</text><rect fill=\"green\" height=\"16.2\" width=\"32.4\" x=\"55.8\" y=\"2543.4\"/><circle cx=\"54.0\" cy=\"2551.5\" fill=\"green\" r=\"1.8\" stroke=\"green\" stroke-width=\"0\"/><circle cx=\"90.0\" cy=\"2551.5\" fill=\"green\" r=\"1.8\" stroke=\"green\" stroke-width=\"0\"/><text alignment-baseline=\"middle\" fill=\"white\" font-family=\"Futura\" font-size=\"10.8\" text-anchor=\"middle\" x=\"72.0\" y=\"2552.85\"/><text alignment-baseline=\"middle\" fill=\"black\" font-family=\"Futura\" font-size=\"10.8\" text-anchor=\"start\" x=\"97.2\" y=\"2552.85\">RandomChoice</text><line stroke=\"black\" stroke-width=\"1.5\" x1=\"54.0\" x2=\"54.0\" y1=\"2552.85\" y2=\"1902.15\"/><rect fill=\"red\" height=\"16.2\" width=\"32.4\" x=\"523.8\" y=\"2546.64\"/><text alignment-baseline=\"middle\" fill=\"white\" font-family=\"Futura\" font-size=\"10.8\" text-anchor=\"middle\" x=\"540.0\" y=\"2556.09\"/><rect fill=\"rgb(200,200,200)\" height=\"16.2\" width=\"32.4\" x=\"523.8\" y=\"2543.4\"/><circle cx=\"522.0\" cy=\"2551.5\" fill=\"rgb(200,200,200)\" r=\"1.8\" stroke=\"rgb(200,200,200)\" stroke-width=\"0\"/><circle cx=\"558.0\" cy=\"2551.5\" fill=\"rgb(200,200,200)\" r=\"1.8\" stroke=\"rgb(200,200,200)\" stroke-width=\"0\"/><text alignment-baseline=\"middle\" fill=\"white\" font-family=\"Futura\" font-size=\"10.8\" text-anchor=\"middle\" x=\"540.0\" y=\"2552.85\">G</text><rect fill=\"green\" height=\"16.2\" width=\"32.4\" x=\"559.8\" y=\"2540.16\"/><text alignment-baseline=\"middle\" fill=\"white\" font-family=\"Futura\" font-size=\"10.8\" text-anchor=\"middle\" x=\"576.0\" y=\"2549.61\"/><rect fill=\"red\" height=\"16.2\" width=\"32.4\" x=\"559.8\" y=\"2546.64\"/><text alignment-baseline=\"middle\" fill=\"white\" font-family=\"Futura\" font-size=\"10.8\" text-anchor=\"middle\" x=\"576.0\" y=\"2556.09\"/><rect fill=\"rgb(200,200,200)\" height=\"16.2\" width=\"32.4\" x=\"559.8\" y=\"2543.4\"/><circle cx=\"558.0\" cy=\"2551.5\" fill=\"rgb(200,200,200)\" r=\"1.8\" stroke=\"rgb(200,200,200)\" stroke-width=\"0\"/><circle cx=\"594.0\" cy=\"2551.5\" fill=\"rgb(200,200,200)\" r=\"1.8\" stroke=\"rgb(200,200,200)\" stroke-width=\"0\"/><text alignment-baseline=\"middle\" fill=\"white\" font-family=\"Futura\" font-size=\"10.8\" text-anchor=\"middle\" x=\"576.0\" y=\"2552.85\">H</text><rect fill=\"red\" height=\"16.2\" width=\"32.4\" x=\"595.8\" y=\"2546.64\"/><text alignment-baseline=\"middle\" fill=\"white\" font-family=\"Futura\" font-size=\"10.8\" text-anchor=\"middle\" x=\"612.0\" y=\"2556.09\"/><rect fill=\"rgb(200,200,200)\" height=\"16.2\" width=\"32.4\" x=\"595.8\" y=\"2543.4\"/><circle cx=\"594.0\" cy=\"2551.5\" fill=\"rgb(200,200,200)\" r=\"1.8\" stroke=\"rgb(200,200,200)\" stroke-width=\"0\"/><circle cx=\"630.0\" cy=\"2551.5\" fill=\"rgb(200,200,200)\" r=\"1.8\" stroke=\"rgb(200,200,200)\" stroke-width=\"0\"/><text alignment-baseline=\"middle\" fill=\"white\" font-family=\"Futura\" font-size=\"10.8\" text-anchor=\"middle\" x=\"612.0\" y=\"2552.85\">I</text><rect fill=\"green\" height=\"16.2\" width=\"32.4\" x=\"91.8\" y=\"2570.4\"/><circle cx=\"90.0\" cy=\"2578.5\" fill=\"green\" r=\"1.8\" stroke=\"green\" stroke-width=\"0\"/><circle cx=\"126.0\" cy=\"2578.5\" fill=\"green\" r=\"1.8\" stroke=\"green\" stroke-width=\"0\"/><text alignment-baseline=\"middle\" fill=\"white\" font-family=\"Futura\" font-size=\"10.8\" text-anchor=\"middle\" x=\"108.0\" y=\"2579.85\"/><text alignment-baseline=\"middle\" fill=\"black\" font-family=\"Futura\" font-size=\"10.8\" text-anchor=\"start\" x=\"133.2\" y=\"2579.85\">PathReversal</text><line stroke=\"black\" stroke-width=\"1.5\" x1=\"90.0\" x2=\"90.0\" y1=\"2579.85\" y2=\"2550.15\"/><rect fill=\"green\" height=\"16.2\" width=\"32.4\" x=\"559.8\" y=\"2567.16\"/><text alignment-baseline=\"middle\" fill=\"white\" font-family=\"Futura\" font-size=\"10.8\" text-anchor=\"middle\" x=\"576.0\" y=\"2576.61\"/><rect fill=\"red\" height=\"16.2\" width=\"32.4\" x=\"559.8\" y=\"2573.64\"/><text alignment-baseline=\"middle\" fill=\"white\" font-family=\"Futura\" font-size=\"10.8\" text-anchor=\"middle\" x=\"576.0\" y=\"2583.09\"/><rect fill=\"rgb(200,200,200)\" height=\"16.2\" width=\"32.4\" x=\"559.8\" y=\"2570.4\"/><circle cx=\"558.0\" cy=\"2578.5\" fill=\"rgb(200,200,200)\" r=\"1.8\" stroke=\"rgb(200,200,200)\" stroke-width=\"0\"/><circle cx=\"594.0\" cy=\"2578.5\" fill=\"rgb(200,200,200)\" r=\"1.8\" stroke=\"rgb(200,200,200)\" stroke-width=\"0\"/><text alignment-baseline=\"middle\" fill=\"white\" font-family=\"Futura\" font-size=\"10.8\" text-anchor=\"middle\" x=\"576.0\" y=\"2579.85\">H</text><rect fill=\"green\" height=\"16.2\" width=\"32.4\" x=\"91.8\" y=\"2597.4\"/><circle cx=\"90.0\" cy=\"2605.5\" fill=\"green\" r=\"1.8\" stroke=\"green\" stroke-width=\"0\"/><circle cx=\"126.0\" cy=\"2605.5\" fill=\"green\" r=\"1.8\" stroke=\"green\" stroke-width=\"0\"/><text alignment-baseline=\"middle\" fill=\"white\" font-family=\"Futura\" font-size=\"10.8\" text-anchor=\"middle\" x=\"108.0\" y=\"2606.85\"/><text alignment-baseline=\"middle\" fill=\"black\" font-family=\"Futura\" font-size=\"10.8\" text-anchor=\"start\" x=\"133.2\" y=\"2606.85\">EnsembleHop</text><line stroke=\"black\" stroke-width=\"1.5\" x1=\"90.0\" x2=\"90.0\" y1=\"2606.85\" y2=\"2577.15\"/><rect fill=\"green\" height=\"16.2\" width=\"32.4\" x=\"559.8\" y=\"2594.16\"/><text alignment-baseline=\"middle\" fill=\"white\" font-family=\"Futura\" font-size=\"10.8\" text-anchor=\"middle\" x=\"576.0\" y=\"2603.61\"/><rect fill=\"rgb(200,200,200)\" height=\"16.2\" width=\"32.4\" x=\"559.8\" y=\"2597.4\"/><circle cx=\"558.0\" cy=\"2605.5\" fill=\"rgb(200,200,200)\" r=\"1.8\" stroke=\"rgb(200,200,200)\" stroke-width=\"0\"/><circle cx=\"594.0\" cy=\"2605.5\" fill=\"rgb(200,200,200)\" r=\"1.8\" stroke=\"rgb(200,200,200)\" stroke-width=\"0\"/><text alignment-baseline=\"middle\" fill=\"white\" font-family=\"Futura\" font-size=\"10.8\" text-anchor=\"middle\" x=\"576.0\" y=\"2606.85\">H</text><rect fill=\"red\" height=\"16.2\" width=\"32.4\" x=\"595.8\" y=\"2600.64\"/><text alignment-baseline=\"middle\" fill=\"white\" font-family=\"Futura\" font-size=\"10.8\" text-anchor=\"middle\" x=\"612.0\" y=\"2610.09\"/><rect fill=\"rgb(200,200,200)\" height=\"16.2\" width=\"32.4\" x=\"595.8\" y=\"2597.4\"/><circle cx=\"594.0\" cy=\"2605.5\" fill=\"rgb(200,200,200)\" r=\"1.8\" stroke=\"rgb(200,200,200)\" stroke-width=\"0\"/><circle cx=\"630.0\" cy=\"2605.5\" fill=\"rgb(200,200,200)\" r=\"1.8\" stroke=\"rgb(200,200,200)\" stroke-width=\"0\"/><text alignment-baseline=\"middle\" fill=\"white\" font-family=\"Futura\" font-size=\"10.8\" text-anchor=\"middle\" x=\"612.0\" y=\"2606.85\">I</text><rect fill=\"green\" height=\"16.2\" width=\"32.4\" x=\"91.8\" y=\"2624.4\"/><circle cx=\"90.0\" cy=\"2632.5\" fill=\"green\" r=\"1.8\" stroke=\"green\" stroke-width=\"0\"/><circle cx=\"126.0\" cy=\"2632.5\" fill=\"green\" r=\"1.8\" stroke=\"green\" stroke-width=\"0\"/><text alignment-baseline=\"middle\" fill=\"white\" font-family=\"Futura\" font-size=\"10.8\" text-anchor=\"middle\" x=\"108.0\" y=\"2633.85\"/><text alignment-baseline=\"middle\" fill=\"black\" font-family=\"Futura\" font-size=\"10.8\" text-anchor=\"start\" x=\"133.2\" y=\"2633.85\">OneWayShooting</text><line stroke=\"black\" stroke-width=\"1.5\" x1=\"90.0\" x2=\"90.0\" y1=\"2633.85\" y2=\"2604.15\"/><rect fill=\"green\" height=\"16.2\" width=\"32.4\" x=\"559.8\" y=\"2621.16\"/><text alignment-baseline=\"middle\" fill=\"white\" font-family=\"Futura\" font-size=\"10.8\" text-anchor=\"middle\" x=\"576.0\" y=\"2630.61\"/><rect fill=\"red\" height=\"16.2\" width=\"32.4\" x=\"559.8\" y=\"2627.64\"/><text alignment-baseline=\"middle\" fill=\"white\" font-family=\"Futura\" font-size=\"10.8\" text-anchor=\"middle\" x=\"576.0\" y=\"2637.09\"/><rect fill=\"rgb(200,200,200)\" height=\"16.2\" width=\"32.4\" x=\"559.8\" y=\"2624.4\"/><circle cx=\"558.0\" cy=\"2632.5\" fill=\"rgb(200,200,200)\" r=\"1.8\" stroke=\"rgb(200,200,200)\" stroke-width=\"0\"/><circle cx=\"594.0\" cy=\"2632.5\" fill=\"rgb(200,200,200)\" r=\"1.8\" stroke=\"rgb(200,200,200)\" stroke-width=\"0\"/><text alignment-baseline=\"middle\" fill=\"white\" font-family=\"Futura\" font-size=\"10.8\" text-anchor=\"middle\" x=\"576.0\" y=\"2633.85\">H</text><rect fill=\"green\" height=\"16.2\" width=\"32.4\" x=\"127.8\" y=\"2651.4\"/><circle cx=\"126.0\" cy=\"2659.5\" fill=\"green\" r=\"1.8\" stroke=\"green\" stroke-width=\"0\"/><circle cx=\"162.0\" cy=\"2659.5\" fill=\"green\" r=\"1.8\" stroke=\"green\" stroke-width=\"0\"/><text alignment-baseline=\"middle\" fill=\"white\" font-family=\"Futura\" font-size=\"10.8\" text-anchor=\"middle\" x=\"144.0\" y=\"2660.85\"/><text alignment-baseline=\"middle\" fill=\"black\" font-family=\"Futura\" font-size=\"10.8\" text-anchor=\"start\" x=\"169.2\" y=\"2660.85\">ForwardShoot</text><line stroke=\"black\" stroke-width=\"1.5\" x1=\"126.0\" x2=\"126.0\" y1=\"2660.85\" y2=\"2631.15\"/><rect fill=\"green\" height=\"16.2\" width=\"32.4\" x=\"559.8\" y=\"2648.16\"/><text alignment-baseline=\"middle\" fill=\"white\" font-family=\"Futura\" font-size=\"10.8\" text-anchor=\"middle\" x=\"576.0\" y=\"2657.61\"/><rect fill=\"red\" height=\"16.2\" width=\"32.4\" x=\"559.8\" y=\"2654.64\"/><text alignment-baseline=\"middle\" fill=\"white\" font-family=\"Futura\" font-size=\"10.8\" text-anchor=\"middle\" x=\"576.0\" y=\"2664.09\"/><rect fill=\"rgb(200,200,200)\" height=\"16.2\" width=\"32.4\" x=\"559.8\" y=\"2651.4\"/><circle cx=\"558.0\" cy=\"2659.5\" fill=\"rgb(200,200,200)\" r=\"1.8\" stroke=\"rgb(200,200,200)\" stroke-width=\"0\"/><circle cx=\"594.0\" cy=\"2659.5\" fill=\"rgb(200,200,200)\" r=\"1.8\" stroke=\"rgb(200,200,200)\" stroke-width=\"0\"/><text alignment-baseline=\"middle\" fill=\"white\" font-family=\"Futura\" font-size=\"10.8\" text-anchor=\"middle\" x=\"576.0\" y=\"2660.85\">H</text><rect fill=\"green\" height=\"16.2\" width=\"32.4\" x=\"127.8\" y=\"2678.4\"/><circle cx=\"126.0\" cy=\"2686.5\" fill=\"green\" r=\"1.8\" stroke=\"green\" stroke-width=\"0\"/><circle cx=\"162.0\" cy=\"2686.5\" fill=\"green\" r=\"1.8\" stroke=\"green\" stroke-width=\"0\"/><text alignment-baseline=\"middle\" fill=\"white\" font-family=\"Futura\" font-size=\"10.8\" text-anchor=\"middle\" x=\"144.0\" y=\"2687.85\"/><text alignment-baseline=\"middle\" fill=\"black\" font-family=\"Futura\" font-size=\"10.8\" text-anchor=\"start\" x=\"169.2\" y=\"2687.85\">BackwardShoot</text><line stroke=\"black\" stroke-width=\"1.5\" x1=\"126.0\" x2=\"126.0\" y1=\"2687.85\" y2=\"2658.15\"/><rect fill=\"green\" height=\"16.2\" width=\"32.4\" x=\"559.8\" y=\"2675.16\"/><text alignment-baseline=\"middle\" fill=\"white\" font-family=\"Futura\" font-size=\"10.8\" text-anchor=\"middle\" x=\"576.0\" y=\"2684.61\"/><rect fill=\"red\" height=\"16.2\" width=\"32.4\" x=\"559.8\" y=\"2681.64\"/><text alignment-baseline=\"middle\" fill=\"white\" font-family=\"Futura\" font-size=\"10.8\" text-anchor=\"middle\" x=\"576.0\" y=\"2691.09\"/><rect fill=\"rgb(200,200,200)\" height=\"16.2\" width=\"32.4\" x=\"559.8\" y=\"2678.4\"/><circle cx=\"558.0\" cy=\"2686.5\" fill=\"rgb(200,200,200)\" r=\"1.8\" stroke=\"rgb(200,200,200)\" stroke-width=\"0\"/><circle cx=\"594.0\" cy=\"2686.5\" fill=\"rgb(200,200,200)\" r=\"1.8\" stroke=\"rgb(200,200,200)\" stroke-width=\"0\"/><text alignment-baseline=\"middle\" fill=\"white\" font-family=\"Futura\" font-size=\"10.8\" text-anchor=\"middle\" x=\"576.0\" y=\"2687.85\">H</text><rect fill=\"green\" height=\"16.2\" width=\"32.4\" x=\"91.8\" y=\"2705.4\"/><circle cx=\"90.0\" cy=\"2713.5\" fill=\"green\" r=\"1.8\" stroke=\"green\" stroke-width=\"0\"/><circle cx=\"126.0\" cy=\"2713.5\" fill=\"green\" r=\"1.8\" stroke=\"green\" stroke-width=\"0\"/><text alignment-baseline=\"middle\" fill=\"white\" font-family=\"Futura\" font-size=\"10.8\" text-anchor=\"middle\" x=\"108.0\" y=\"2714.85\"/><text alignment-baseline=\"middle\" fill=\"black\" font-family=\"Futura\" font-size=\"10.8\" text-anchor=\"start\" x=\"133.2\" y=\"2714.85\">IdentityPath</text><line stroke=\"black\" stroke-width=\"1.5\" x1=\"90.0\" x2=\"90.0\" y1=\"2714.85\" y2=\"2631.15\"/><rect fill=\"green\" height=\"16.2\" width=\"32.4\" x=\"91.8\" y=\"2732.4\"/><circle cx=\"90.0\" cy=\"2740.5\" fill=\"green\" r=\"1.8\" stroke=\"green\" stroke-width=\"0\"/><circle cx=\"126.0\" cy=\"2740.5\" fill=\"green\" r=\"1.8\" stroke=\"green\" stroke-width=\"0\"/><text alignment-baseline=\"middle\" fill=\"white\" font-family=\"Futura\" font-size=\"10.8\" text-anchor=\"middle\" x=\"108.0\" y=\"2741.85\"/><text alignment-baseline=\"middle\" fill=\"black\" font-family=\"Futura\" font-size=\"10.8\" text-anchor=\"start\" x=\"133.2\" y=\"2741.85\">EnsembleHop</text><line stroke=\"black\" stroke-width=\"1.5\" x1=\"90.0\" x2=\"90.0\" y1=\"2741.85\" y2=\"2712.15\"/><rect fill=\"red\" height=\"16.2\" width=\"32.4\" x=\"523.8\" y=\"2735.64\"/><text alignment-baseline=\"middle\" fill=\"white\" font-family=\"Futura\" font-size=\"10.8\" text-anchor=\"middle\" x=\"540.0\" y=\"2745.09\"/><rect fill=\"rgb(200,200,200)\" height=\"16.2\" width=\"32.4\" x=\"523.8\" y=\"2732.4\"/><circle cx=\"522.0\" cy=\"2740.5\" fill=\"rgb(200,200,200)\" r=\"1.8\" stroke=\"rgb(200,200,200)\" stroke-width=\"0\"/><circle cx=\"558.0\" cy=\"2740.5\" fill=\"rgb(200,200,200)\" r=\"1.8\" stroke=\"rgb(200,200,200)\" stroke-width=\"0\"/><text alignment-baseline=\"middle\" fill=\"white\" font-family=\"Futura\" font-size=\"10.8\" text-anchor=\"middle\" x=\"540.0\" y=\"2741.85\">G</text><rect fill=\"green\" height=\"16.2\" width=\"32.4\" x=\"559.8\" y=\"2729.16\"/><text alignment-baseline=\"middle\" fill=\"white\" font-family=\"Futura\" font-size=\"10.8\" text-anchor=\"middle\" x=\"576.0\" y=\"2738.61\"/><rect fill=\"rgb(200,200,200)\" height=\"16.2\" width=\"32.4\" x=\"559.8\" y=\"2732.4\"/><circle cx=\"558.0\" cy=\"2740.5\" fill=\"rgb(200,200,200)\" r=\"1.8\" stroke=\"rgb(200,200,200)\" stroke-width=\"0\"/><circle cx=\"594.0\" cy=\"2740.5\" fill=\"rgb(200,200,200)\" r=\"1.8\" stroke=\"rgb(200,200,200)\" stroke-width=\"0\"/><text alignment-baseline=\"middle\" fill=\"white\" font-family=\"Futura\" font-size=\"10.8\" text-anchor=\"middle\" x=\"576.0\" y=\"2741.85\">H</text><rect fill=\"green\" height=\"16.2\" width=\"32.4\" x=\"55.8\" y=\"2759.4\"/><circle cx=\"54.0\" cy=\"2767.5\" fill=\"green\" r=\"1.8\" stroke=\"green\" stroke-width=\"0\"/><circle cx=\"90.0\" cy=\"2767.5\" fill=\"green\" r=\"1.8\" stroke=\"green\" stroke-width=\"0\"/><text alignment-baseline=\"middle\" fill=\"white\" font-family=\"Futura\" font-size=\"10.8\" text-anchor=\"middle\" x=\"72.0\" y=\"2768.85\"/><text alignment-baseline=\"middle\" fill=\"black\" font-family=\"Futura\" font-size=\"10.8\" text-anchor=\"start\" x=\"97.2\" y=\"2768.85\">RandomChoice</text><line stroke=\"black\" stroke-width=\"1.5\" x1=\"54.0\" x2=\"54.0\" y1=\"2768.85\" y2=\"2550.15\"/><rect fill=\"red\" height=\"16.2\" width=\"32.4\" x=\"415.8\" y=\"2762.64\"/><text alignment-baseline=\"middle\" fill=\"white\" font-family=\"Futura\" font-size=\"10.8\" text-anchor=\"middle\" x=\"432.0\" y=\"2772.09\"/><rect fill=\"rgb(200,200,200)\" height=\"16.2\" width=\"32.4\" x=\"415.8\" y=\"2759.4\"/><circle cx=\"414.0\" cy=\"2767.5\" fill=\"rgb(200,200,200)\" r=\"1.8\" stroke=\"rgb(200,200,200)\" stroke-width=\"0\"/><circle cx=\"450.0\" cy=\"2767.5\" fill=\"rgb(200,200,200)\" r=\"1.8\" stroke=\"rgb(200,200,200)\" stroke-width=\"0\"/><text alignment-baseline=\"middle\" fill=\"white\" font-family=\"Futura\" font-size=\"10.8\" text-anchor=\"middle\" x=\"432.0\" y=\"2768.85\">D</text><rect fill=\"green\" height=\"16.2\" width=\"32.4\" x=\"451.8\" y=\"2756.16\"/><text alignment-baseline=\"middle\" fill=\"white\" font-family=\"Futura\" font-size=\"10.8\" text-anchor=\"middle\" x=\"468.0\" y=\"2765.61\"/><rect fill=\"red\" height=\"16.2\" width=\"32.4\" x=\"451.8\" y=\"2762.64\"/><text alignment-baseline=\"middle\" fill=\"white\" font-family=\"Futura\" font-size=\"10.8\" text-anchor=\"middle\" x=\"468.0\" y=\"2772.09\"/><rect fill=\"rgb(200,200,200)\" height=\"16.2\" width=\"32.4\" x=\"451.8\" y=\"2759.4\"/><circle cx=\"450.0\" cy=\"2767.5\" fill=\"rgb(200,200,200)\" r=\"1.8\" stroke=\"rgb(200,200,200)\" stroke-width=\"0\"/><circle cx=\"486.0\" cy=\"2767.5\" fill=\"rgb(200,200,200)\" r=\"1.8\" stroke=\"rgb(200,200,200)\" stroke-width=\"0\"/><text alignment-baseline=\"middle\" fill=\"white\" font-family=\"Futura\" font-size=\"10.8\" text-anchor=\"middle\" x=\"468.0\" y=\"2768.85\">E</text><rect fill=\"red\" height=\"16.2\" width=\"32.4\" x=\"487.8\" y=\"2762.64\"/><text alignment-baseline=\"middle\" fill=\"white\" font-family=\"Futura\" font-size=\"10.8\" text-anchor=\"middle\" x=\"504.0\" y=\"2772.09\"/><rect fill=\"rgb(200,200,200)\" height=\"16.2\" width=\"32.4\" x=\"487.8\" y=\"2759.4\"/><circle cx=\"486.0\" cy=\"2767.5\" fill=\"rgb(200,200,200)\" r=\"1.8\" stroke=\"rgb(200,200,200)\" stroke-width=\"0\"/><circle cx=\"522.0\" cy=\"2767.5\" fill=\"rgb(200,200,200)\" r=\"1.8\" stroke=\"rgb(200,200,200)\" stroke-width=\"0\"/><text alignment-baseline=\"middle\" fill=\"white\" font-family=\"Futura\" font-size=\"10.8\" text-anchor=\"middle\" x=\"504.0\" y=\"2768.85\">F</text><rect fill=\"green\" height=\"16.2\" width=\"32.4\" x=\"91.8\" y=\"2786.4\"/><circle cx=\"90.0\" cy=\"2794.5\" fill=\"green\" r=\"1.8\" stroke=\"green\" stroke-width=\"0\"/><circle cx=\"126.0\" cy=\"2794.5\" fill=\"green\" r=\"1.8\" stroke=\"green\" stroke-width=\"0\"/><text alignment-baseline=\"middle\" fill=\"white\" font-family=\"Futura\" font-size=\"10.8\" text-anchor=\"middle\" x=\"108.0\" y=\"2795.85\"/><text alignment-baseline=\"middle\" fill=\"black\" font-family=\"Futura\" font-size=\"10.8\" text-anchor=\"start\" x=\"133.2\" y=\"2795.85\">OneWayShooting</text><line stroke=\"black\" stroke-width=\"1.5\" x1=\"90.0\" x2=\"90.0\" y1=\"2795.85\" y2=\"2766.15\"/><rect fill=\"green\" height=\"16.2\" width=\"32.4\" x=\"451.8\" y=\"2783.16\"/><text alignment-baseline=\"middle\" fill=\"white\" font-family=\"Futura\" font-size=\"10.8\" text-anchor=\"middle\" x=\"468.0\" y=\"2792.61\"/><rect fill=\"red\" height=\"16.2\" width=\"32.4\" x=\"451.8\" y=\"2789.64\"/><text alignment-baseline=\"middle\" fill=\"white\" font-family=\"Futura\" font-size=\"10.8\" text-anchor=\"middle\" x=\"468.0\" y=\"2799.09\"/><rect fill=\"rgb(200,200,200)\" height=\"16.2\" width=\"32.4\" x=\"451.8\" y=\"2786.4\"/><circle cx=\"450.0\" cy=\"2794.5\" fill=\"rgb(200,200,200)\" r=\"1.8\" stroke=\"rgb(200,200,200)\" stroke-width=\"0\"/><circle cx=\"486.0\" cy=\"2794.5\" fill=\"rgb(200,200,200)\" r=\"1.8\" stroke=\"rgb(200,200,200)\" stroke-width=\"0\"/><text alignment-baseline=\"middle\" fill=\"white\" font-family=\"Futura\" font-size=\"10.8\" text-anchor=\"middle\" x=\"468.0\" y=\"2795.85\">E</text><rect fill=\"green\" height=\"16.2\" width=\"32.4\" x=\"127.8\" y=\"2813.4\"/><circle cx=\"126.0\" cy=\"2821.5\" fill=\"green\" r=\"1.8\" stroke=\"green\" stroke-width=\"0\"/><circle cx=\"162.0\" cy=\"2821.5\" fill=\"green\" r=\"1.8\" stroke=\"green\" stroke-width=\"0\"/><text alignment-baseline=\"middle\" fill=\"white\" font-family=\"Futura\" font-size=\"10.8\" text-anchor=\"middle\" x=\"144.0\" y=\"2822.85\"/><text alignment-baseline=\"middle\" fill=\"black\" font-family=\"Futura\" font-size=\"10.8\" text-anchor=\"start\" x=\"169.2\" y=\"2822.85\">ForwardShoot</text><line stroke=\"black\" stroke-width=\"1.5\" x1=\"126.0\" x2=\"126.0\" y1=\"2822.85\" y2=\"2793.15\"/><rect fill=\"green\" height=\"16.2\" width=\"32.4\" x=\"451.8\" y=\"2810.16\"/><text alignment-baseline=\"middle\" fill=\"white\" font-family=\"Futura\" font-size=\"10.8\" text-anchor=\"middle\" x=\"468.0\" y=\"2819.61\"/><rect fill=\"red\" height=\"16.2\" width=\"32.4\" x=\"451.8\" y=\"2816.64\"/><text alignment-baseline=\"middle\" fill=\"white\" font-family=\"Futura\" font-size=\"10.8\" text-anchor=\"middle\" x=\"468.0\" y=\"2826.09\"/><rect fill=\"rgb(200,200,200)\" height=\"16.2\" width=\"32.4\" x=\"451.8\" y=\"2813.4\"/><circle cx=\"450.0\" cy=\"2821.5\" fill=\"rgb(200,200,200)\" r=\"1.8\" stroke=\"rgb(200,200,200)\" stroke-width=\"0\"/><circle cx=\"486.0\" cy=\"2821.5\" fill=\"rgb(200,200,200)\" r=\"1.8\" stroke=\"rgb(200,200,200)\" stroke-width=\"0\"/><text alignment-baseline=\"middle\" fill=\"white\" font-family=\"Futura\" font-size=\"10.8\" text-anchor=\"middle\" x=\"468.0\" y=\"2822.85\">E</text><rect fill=\"green\" height=\"16.2\" width=\"32.4\" x=\"127.8\" y=\"2840.4\"/><circle cx=\"126.0\" cy=\"2848.5\" fill=\"green\" r=\"1.8\" stroke=\"green\" stroke-width=\"0\"/><circle cx=\"162.0\" cy=\"2848.5\" fill=\"green\" r=\"1.8\" stroke=\"green\" stroke-width=\"0\"/><text alignment-baseline=\"middle\" fill=\"white\" font-family=\"Futura\" font-size=\"10.8\" text-anchor=\"middle\" x=\"144.0\" y=\"2849.85\"/><text alignment-baseline=\"middle\" fill=\"black\" font-family=\"Futura\" font-size=\"10.8\" text-anchor=\"start\" x=\"169.2\" y=\"2849.85\">BackwardShoot</text><line stroke=\"black\" stroke-width=\"1.5\" x1=\"126.0\" x2=\"126.0\" y1=\"2849.85\" y2=\"2820.15\"/><rect fill=\"green\" height=\"16.2\" width=\"32.4\" x=\"451.8\" y=\"2837.16\"/><text alignment-baseline=\"middle\" fill=\"white\" font-family=\"Futura\" font-size=\"10.8\" text-anchor=\"middle\" x=\"468.0\" y=\"2846.61\"/><rect fill=\"red\" height=\"16.2\" width=\"32.4\" x=\"451.8\" y=\"2843.64\"/><text alignment-baseline=\"middle\" fill=\"white\" font-family=\"Futura\" font-size=\"10.8\" text-anchor=\"middle\" x=\"468.0\" y=\"2853.09\"/><rect fill=\"rgb(200,200,200)\" height=\"16.2\" width=\"32.4\" x=\"451.8\" y=\"2840.4\"/><circle cx=\"450.0\" cy=\"2848.5\" fill=\"rgb(200,200,200)\" r=\"1.8\" stroke=\"rgb(200,200,200)\" stroke-width=\"0\"/><circle cx=\"486.0\" cy=\"2848.5\" fill=\"rgb(200,200,200)\" r=\"1.8\" stroke=\"rgb(200,200,200)\" stroke-width=\"0\"/><text alignment-baseline=\"middle\" fill=\"white\" font-family=\"Futura\" font-size=\"10.8\" text-anchor=\"middle\" x=\"468.0\" y=\"2849.85\">E</text><rect fill=\"green\" height=\"16.2\" width=\"32.4\" x=\"91.8\" y=\"2867.4\"/><circle cx=\"90.0\" cy=\"2875.5\" fill=\"green\" r=\"1.8\" stroke=\"green\" stroke-width=\"0\"/><circle cx=\"126.0\" cy=\"2875.5\" fill=\"green\" r=\"1.8\" stroke=\"green\" stroke-width=\"0\"/><text alignment-baseline=\"middle\" fill=\"white\" font-family=\"Futura\" font-size=\"10.8\" text-anchor=\"middle\" x=\"108.0\" y=\"2876.85\"/><text alignment-baseline=\"middle\" fill=\"black\" font-family=\"Futura\" font-size=\"10.8\" text-anchor=\"start\" x=\"133.2\" y=\"2876.85\">EnsembleHop</text><line stroke=\"black\" stroke-width=\"1.5\" x1=\"90.0\" x2=\"90.0\" y1=\"2876.85\" y2=\"2793.15\"/><rect fill=\"green\" height=\"16.2\" width=\"32.4\" x=\"451.8\" y=\"2864.16\"/><text alignment-baseline=\"middle\" fill=\"white\" font-family=\"Futura\" font-size=\"10.8\" text-anchor=\"middle\" x=\"468.0\" y=\"2873.61\"/><rect fill=\"rgb(200,200,200)\" height=\"16.2\" width=\"32.4\" x=\"451.8\" y=\"2867.4\"/><circle cx=\"450.0\" cy=\"2875.5\" fill=\"rgb(200,200,200)\" r=\"1.8\" stroke=\"rgb(200,200,200)\" stroke-width=\"0\"/><circle cx=\"486.0\" cy=\"2875.5\" fill=\"rgb(200,200,200)\" r=\"1.8\" stroke=\"rgb(200,200,200)\" stroke-width=\"0\"/><text alignment-baseline=\"middle\" fill=\"white\" font-family=\"Futura\" font-size=\"10.8\" text-anchor=\"middle\" x=\"468.0\" y=\"2876.85\">E</text><rect fill=\"red\" height=\"16.2\" width=\"32.4\" x=\"487.8\" y=\"2870.64\"/><text alignment-baseline=\"middle\" fill=\"white\" font-family=\"Futura\" font-size=\"10.8\" text-anchor=\"middle\" x=\"504.0\" y=\"2880.09\"/><rect fill=\"rgb(200,200,200)\" height=\"16.2\" width=\"32.4\" x=\"487.8\" y=\"2867.4\"/><circle cx=\"486.0\" cy=\"2875.5\" fill=\"rgb(200,200,200)\" r=\"1.8\" stroke=\"rgb(200,200,200)\" stroke-width=\"0\"/><circle cx=\"522.0\" cy=\"2875.5\" fill=\"rgb(200,200,200)\" r=\"1.8\" stroke=\"rgb(200,200,200)\" stroke-width=\"0\"/><text alignment-baseline=\"middle\" fill=\"white\" font-family=\"Futura\" font-size=\"10.8\" text-anchor=\"middle\" x=\"504.0\" y=\"2876.85\">F</text><rect fill=\"green\" height=\"16.2\" width=\"32.4\" x=\"91.8\" y=\"2894.4\"/><circle cx=\"90.0\" cy=\"2902.5\" fill=\"green\" r=\"1.8\" stroke=\"green\" stroke-width=\"0\"/><circle cx=\"126.0\" cy=\"2902.5\" fill=\"green\" r=\"1.8\" stroke=\"green\" stroke-width=\"0\"/><text alignment-baseline=\"middle\" fill=\"white\" font-family=\"Futura\" font-size=\"10.8\" text-anchor=\"middle\" x=\"108.0\" y=\"2903.85\"/><text alignment-baseline=\"middle\" fill=\"black\" font-family=\"Futura\" font-size=\"10.8\" text-anchor=\"start\" x=\"133.2\" y=\"2903.85\">PathReversal</text><line stroke=\"black\" stroke-width=\"1.5\" x1=\"90.0\" x2=\"90.0\" y1=\"2903.85\" y2=\"2874.15\"/><rect fill=\"green\" height=\"16.2\" width=\"32.4\" x=\"451.8\" y=\"2891.16\"/><text alignment-baseline=\"middle\" fill=\"white\" font-family=\"Futura\" font-size=\"10.8\" text-anchor=\"middle\" x=\"468.0\" y=\"2900.61\"/><rect fill=\"red\" height=\"16.2\" width=\"32.4\" x=\"451.8\" y=\"2897.64\"/><text alignment-baseline=\"middle\" fill=\"white\" font-family=\"Futura\" font-size=\"10.8\" text-anchor=\"middle\" x=\"468.0\" y=\"2907.09\"/><rect fill=\"rgb(200,200,200)\" height=\"16.2\" width=\"32.4\" x=\"451.8\" y=\"2894.4\"/><circle cx=\"450.0\" cy=\"2902.5\" fill=\"rgb(200,200,200)\" r=\"1.8\" stroke=\"rgb(200,200,200)\" stroke-width=\"0\"/><circle cx=\"486.0\" cy=\"2902.5\" fill=\"rgb(200,200,200)\" r=\"1.8\" stroke=\"rgb(200,200,200)\" stroke-width=\"0\"/><text alignment-baseline=\"middle\" fill=\"white\" font-family=\"Futura\" font-size=\"10.8\" text-anchor=\"middle\" x=\"468.0\" y=\"2903.85\">E</text><rect fill=\"green\" height=\"16.2\" width=\"32.4\" x=\"91.8\" y=\"2921.4\"/><circle cx=\"90.0\" cy=\"2929.5\" fill=\"green\" r=\"1.8\" stroke=\"green\" stroke-width=\"0\"/><circle cx=\"126.0\" cy=\"2929.5\" fill=\"green\" r=\"1.8\" stroke=\"green\" stroke-width=\"0\"/><text alignment-baseline=\"middle\" fill=\"white\" font-family=\"Futura\" font-size=\"10.8\" text-anchor=\"middle\" x=\"108.0\" y=\"2930.85\"/><text alignment-baseline=\"middle\" fill=\"black\" font-family=\"Futura\" font-size=\"10.8\" text-anchor=\"start\" x=\"133.2\" y=\"2930.85\">IdentityPath</text><line stroke=\"black\" stroke-width=\"1.5\" x1=\"90.0\" x2=\"90.0\" y1=\"2930.85\" y2=\"2901.15\"/><rect fill=\"green\" height=\"16.2\" width=\"32.4\" x=\"91.8\" y=\"2948.4\"/><circle cx=\"90.0\" cy=\"2956.5\" fill=\"green\" r=\"1.8\" stroke=\"green\" stroke-width=\"0\"/><circle cx=\"126.0\" cy=\"2956.5\" fill=\"green\" r=\"1.8\" stroke=\"green\" stroke-width=\"0\"/><text alignment-baseline=\"middle\" fill=\"white\" font-family=\"Futura\" font-size=\"10.8\" text-anchor=\"middle\" x=\"108.0\" y=\"2957.85\"/><text alignment-baseline=\"middle\" fill=\"black\" font-family=\"Futura\" font-size=\"10.8\" text-anchor=\"start\" x=\"133.2\" y=\"2957.85\">EnsembleHop</text><line stroke=\"black\" stroke-width=\"1.5\" x1=\"90.0\" x2=\"90.0\" y1=\"2957.85\" y2=\"2928.15\"/><rect fill=\"red\" height=\"16.2\" width=\"32.4\" x=\"415.8\" y=\"2951.64\"/><text alignment-baseline=\"middle\" fill=\"white\" font-family=\"Futura\" font-size=\"10.8\" text-anchor=\"middle\" x=\"432.0\" y=\"2961.09\"/><rect fill=\"rgb(200,200,200)\" height=\"16.2\" width=\"32.4\" x=\"415.8\" y=\"2948.4\"/><circle cx=\"414.0\" cy=\"2956.5\" fill=\"rgb(200,200,200)\" r=\"1.8\" stroke=\"rgb(200,200,200)\" stroke-width=\"0\"/><circle cx=\"450.0\" cy=\"2956.5\" fill=\"rgb(200,200,200)\" r=\"1.8\" stroke=\"rgb(200,200,200)\" stroke-width=\"0\"/><text alignment-baseline=\"middle\" fill=\"white\" font-family=\"Futura\" font-size=\"10.8\" text-anchor=\"middle\" x=\"432.0\" y=\"2957.85\">D</text><rect fill=\"green\" height=\"16.2\" width=\"32.4\" x=\"451.8\" y=\"2945.16\"/><text alignment-baseline=\"middle\" fill=\"white\" font-family=\"Futura\" font-size=\"10.8\" text-anchor=\"middle\" x=\"468.0\" y=\"2954.61\"/><rect fill=\"rgb(200,200,200)\" height=\"16.2\" width=\"32.4\" x=\"451.8\" y=\"2948.4\"/><circle cx=\"450.0\" cy=\"2956.5\" fill=\"rgb(200,200,200)\" r=\"1.8\" stroke=\"rgb(200,200,200)\" stroke-width=\"0\"/><circle cx=\"486.0\" cy=\"2956.5\" fill=\"rgb(200,200,200)\" r=\"1.8\" stroke=\"rgb(200,200,200)\" stroke-width=\"0\"/><text alignment-baseline=\"middle\" fill=\"white\" font-family=\"Futura\" font-size=\"10.8\" text-anchor=\"middle\" x=\"468.0\" y=\"2957.85\">E</text><rect fill=\"green\" height=\"16.2\" width=\"32.4\" x=\"55.8\" y=\"2975.4\"/><circle cx=\"54.0\" cy=\"2983.5\" fill=\"green\" r=\"1.8\" stroke=\"green\" stroke-width=\"0\"/><circle cx=\"90.0\" cy=\"2983.5\" fill=\"green\" r=\"1.8\" stroke=\"green\" stroke-width=\"0\"/><text alignment-baseline=\"middle\" fill=\"white\" font-family=\"Futura\" font-size=\"10.8\" text-anchor=\"middle\" x=\"72.0\" y=\"2984.85\"/><text alignment-baseline=\"middle\" fill=\"black\" font-family=\"Futura\" font-size=\"10.8\" text-anchor=\"start\" x=\"97.2\" y=\"2984.85\">RandomChoice</text><line stroke=\"black\" stroke-width=\"1.5\" x1=\"54.0\" x2=\"54.0\" y1=\"2984.85\" y2=\"2766.15\"/><rect fill=\"red\" height=\"16.2\" width=\"32.4\" x=\"379.8\" y=\"2978.64\"/><text alignment-baseline=\"middle\" fill=\"white\" font-family=\"Futura\" font-size=\"10.8\" text-anchor=\"middle\" x=\"396.0\" y=\"2988.09\"/><rect fill=\"rgb(200,200,200)\" height=\"16.2\" width=\"32.4\" x=\"379.8\" y=\"2975.4\"/><circle cx=\"378.0\" cy=\"2983.5\" fill=\"rgb(200,200,200)\" r=\"1.8\" stroke=\"rgb(200,200,200)\" stroke-width=\"0\"/><circle cx=\"414.0\" cy=\"2983.5\" fill=\"rgb(200,200,200)\" r=\"1.8\" stroke=\"rgb(200,200,200)\" stroke-width=\"0\"/><text alignment-baseline=\"middle\" fill=\"white\" font-family=\"Futura\" font-size=\"10.8\" text-anchor=\"middle\" x=\"396.0\" y=\"2984.85\">C</text><rect fill=\"red\" height=\"16.2\" width=\"32.4\" x=\"487.8\" y=\"2978.64\"/><text alignment-baseline=\"middle\" fill=\"white\" font-family=\"Futura\" font-size=\"10.8\" text-anchor=\"middle\" x=\"504.0\" y=\"2988.09\"/><rect fill=\"rgb(200,200,200)\" height=\"16.2\" width=\"32.4\" x=\"487.8\" y=\"2975.4\"/><circle cx=\"486.0\" cy=\"2983.5\" fill=\"rgb(200,200,200)\" r=\"1.8\" stroke=\"rgb(200,200,200)\" stroke-width=\"0\"/><circle cx=\"522.0\" cy=\"2983.5\" fill=\"rgb(200,200,200)\" r=\"1.8\" stroke=\"rgb(200,200,200)\" stroke-width=\"0\"/><text alignment-baseline=\"middle\" fill=\"white\" font-family=\"Futura\" font-size=\"10.8\" text-anchor=\"middle\" x=\"504.0\" y=\"2984.85\">F</text><rect fill=\"red\" height=\"16.2\" width=\"32.4\" x=\"595.8\" y=\"2978.64\"/><text alignment-baseline=\"middle\" fill=\"white\" font-family=\"Futura\" font-size=\"10.8\" text-anchor=\"middle\" x=\"612.0\" y=\"2988.09\"/><rect fill=\"rgb(200,200,200)\" height=\"16.2\" width=\"32.4\" x=\"595.8\" y=\"2975.4\"/><circle cx=\"594.0\" cy=\"2983.5\" fill=\"rgb(200,200,200)\" r=\"1.8\" stroke=\"rgb(200,200,200)\" stroke-width=\"0\"/><circle cx=\"630.0\" cy=\"2983.5\" fill=\"rgb(200,200,200)\" r=\"1.8\" stroke=\"rgb(200,200,200)\" stroke-width=\"0\"/><text alignment-baseline=\"middle\" fill=\"white\" font-family=\"Futura\" font-size=\"10.8\" text-anchor=\"middle\" x=\"612.0\" y=\"2984.85\">I</text><rect fill=\"green\" height=\"16.2\" width=\"32.4\" x=\"631.8\" y=\"2972.16\"/><text alignment-baseline=\"middle\" fill=\"white\" font-family=\"Futura\" font-size=\"10.8\" text-anchor=\"middle\" x=\"648.0\" y=\"2981.61\"/><rect fill=\"red\" height=\"16.2\" width=\"32.4\" x=\"631.8\" y=\"2978.64\"/><text alignment-baseline=\"middle\" fill=\"white\" font-family=\"Futura\" font-size=\"10.8\" text-anchor=\"middle\" x=\"648.0\" y=\"2988.09\"/><rect fill=\"rgb(200,200,200)\" height=\"16.2\" width=\"32.4\" x=\"631.8\" y=\"2975.4\"/><circle cx=\"630.0\" cy=\"2983.5\" fill=\"rgb(200,200,200)\" r=\"1.8\" stroke=\"rgb(200,200,200)\" stroke-width=\"0\"/><circle cx=\"666.0\" cy=\"2983.5\" fill=\"rgb(200,200,200)\" r=\"1.8\" stroke=\"rgb(200,200,200)\" stroke-width=\"0\"/><text alignment-baseline=\"middle\" fill=\"white\" font-family=\"Futura\" font-size=\"10.8\" text-anchor=\"middle\" x=\"648.0\" y=\"2984.85\">J</text><rect fill=\"green\" height=\"16.2\" width=\"32.4\" x=\"91.8\" y=\"3002.4\"/><circle cx=\"90.0\" cy=\"3010.5\" fill=\"green\" r=\"1.8\" stroke=\"green\" stroke-width=\"0\"/><circle cx=\"126.0\" cy=\"3010.5\" fill=\"green\" r=\"1.8\" stroke=\"green\" stroke-width=\"0\"/><text alignment-baseline=\"middle\" fill=\"white\" font-family=\"Futura\" font-size=\"10.8\" text-anchor=\"middle\" x=\"108.0\" y=\"3011.85\"/><text alignment-baseline=\"middle\" fill=\"black\" font-family=\"Futura\" font-size=\"10.8\" text-anchor=\"start\" x=\"133.2\" y=\"3011.85\">EnsembleHop</text><line stroke=\"black\" stroke-width=\"1.5\" x1=\"90.0\" x2=\"90.0\" y1=\"3011.85\" y2=\"2982.15\"/><rect fill=\"red\" height=\"16.2\" width=\"32.4\" x=\"595.8\" y=\"3005.64\"/><text alignment-baseline=\"middle\" fill=\"white\" font-family=\"Futura\" font-size=\"10.8\" text-anchor=\"middle\" x=\"612.0\" y=\"3015.09\"/><rect fill=\"rgb(200,200,200)\" height=\"16.2\" width=\"32.4\" x=\"595.8\" y=\"3002.4\"/><circle cx=\"594.0\" cy=\"3010.5\" fill=\"rgb(200,200,200)\" r=\"1.8\" stroke=\"rgb(200,200,200)\" stroke-width=\"0\"/><circle cx=\"630.0\" cy=\"3010.5\" fill=\"rgb(200,200,200)\" r=\"1.8\" stroke=\"rgb(200,200,200)\" stroke-width=\"0\"/><text alignment-baseline=\"middle\" fill=\"white\" font-family=\"Futura\" font-size=\"10.8\" text-anchor=\"middle\" x=\"612.0\" y=\"3011.85\">I</text><rect fill=\"green\" height=\"16.2\" width=\"32.4\" x=\"631.8\" y=\"2999.16\"/><text alignment-baseline=\"middle\" fill=\"white\" font-family=\"Futura\" font-size=\"10.8\" text-anchor=\"middle\" x=\"648.0\" y=\"3008.61\"/><rect fill=\"rgb(200,200,200)\" height=\"16.2\" width=\"32.4\" x=\"631.8\" y=\"3002.4\"/><circle cx=\"630.0\" cy=\"3010.5\" fill=\"rgb(200,200,200)\" r=\"1.8\" stroke=\"rgb(200,200,200)\" stroke-width=\"0\"/><circle cx=\"666.0\" cy=\"3010.5\" fill=\"rgb(200,200,200)\" r=\"1.8\" stroke=\"rgb(200,200,200)\" stroke-width=\"0\"/><text alignment-baseline=\"middle\" fill=\"white\" font-family=\"Futura\" font-size=\"10.8\" text-anchor=\"middle\" x=\"648.0\" y=\"3011.85\">J</text><rect fill=\"green\" height=\"16.2\" width=\"32.4\" x=\"91.8\" y=\"3029.4\"/><circle cx=\"90.0\" cy=\"3037.5\" fill=\"green\" r=\"1.8\" stroke=\"green\" stroke-width=\"0\"/><circle cx=\"126.0\" cy=\"3037.5\" fill=\"green\" r=\"1.8\" stroke=\"green\" stroke-width=\"0\"/><text alignment-baseline=\"middle\" fill=\"white\" font-family=\"Futura\" font-size=\"10.8\" text-anchor=\"middle\" x=\"108.0\" y=\"3038.85\"/><text alignment-baseline=\"middle\" fill=\"black\" font-family=\"Futura\" font-size=\"10.8\" text-anchor=\"start\" x=\"133.2\" y=\"3038.85\">EnsembleHop</text><line stroke=\"black\" stroke-width=\"1.5\" x1=\"90.0\" x2=\"90.0\" y1=\"3038.85\" y2=\"3009.15\"/><rect fill=\"red\" height=\"16.2\" width=\"32.4\" x=\"487.8\" y=\"3032.64\"/><text alignment-baseline=\"middle\" fill=\"white\" font-family=\"Futura\" font-size=\"10.8\" text-anchor=\"middle\" x=\"504.0\" y=\"3042.09\"/><rect fill=\"rgb(200,200,200)\" height=\"16.2\" width=\"32.4\" x=\"487.8\" y=\"3029.4\"/><circle cx=\"486.0\" cy=\"3037.5\" fill=\"rgb(200,200,200)\" r=\"1.8\" stroke=\"rgb(200,200,200)\" stroke-width=\"0\"/><circle cx=\"522.0\" cy=\"3037.5\" fill=\"rgb(200,200,200)\" r=\"1.8\" stroke=\"rgb(200,200,200)\" stroke-width=\"0\"/><text alignment-baseline=\"middle\" fill=\"white\" font-family=\"Futura\" font-size=\"10.8\" text-anchor=\"middle\" x=\"504.0\" y=\"3038.85\">F</text><rect fill=\"green\" height=\"16.2\" width=\"32.4\" x=\"631.8\" y=\"3026.16\"/><text alignment-baseline=\"middle\" fill=\"white\" font-family=\"Futura\" font-size=\"10.8\" text-anchor=\"middle\" x=\"648.0\" y=\"3035.61\"/><rect fill=\"rgb(200,200,200)\" height=\"16.2\" width=\"32.4\" x=\"631.8\" y=\"3029.4\"/><circle cx=\"630.0\" cy=\"3037.5\" fill=\"rgb(200,200,200)\" r=\"1.8\" stroke=\"rgb(200,200,200)\" stroke-width=\"0\"/><circle cx=\"666.0\" cy=\"3037.5\" fill=\"rgb(200,200,200)\" r=\"1.8\" stroke=\"rgb(200,200,200)\" stroke-width=\"0\"/><text alignment-baseline=\"middle\" fill=\"white\" font-family=\"Futura\" font-size=\"10.8\" text-anchor=\"middle\" x=\"648.0\" y=\"3038.85\">J</text><rect fill=\"green\" height=\"16.2\" width=\"32.4\" x=\"91.8\" y=\"3056.4\"/><circle cx=\"90.0\" cy=\"3064.5\" fill=\"green\" r=\"1.8\" stroke=\"green\" stroke-width=\"0\"/><circle cx=\"126.0\" cy=\"3064.5\" fill=\"green\" r=\"1.8\" stroke=\"green\" stroke-width=\"0\"/><text alignment-baseline=\"middle\" fill=\"white\" font-family=\"Futura\" font-size=\"10.8\" text-anchor=\"middle\" x=\"108.0\" y=\"3065.85\"/><text alignment-baseline=\"middle\" fill=\"black\" font-family=\"Futura\" font-size=\"10.8\" text-anchor=\"start\" x=\"133.2\" y=\"3065.85\">OneWayShooting</text><line stroke=\"black\" stroke-width=\"1.5\" x1=\"90.0\" x2=\"90.0\" y1=\"3065.85\" y2=\"3036.15\"/><rect fill=\"green\" height=\"16.2\" width=\"32.4\" x=\"631.8\" y=\"3053.16\"/><text alignment-baseline=\"middle\" fill=\"white\" font-family=\"Futura\" font-size=\"10.8\" text-anchor=\"middle\" x=\"648.0\" y=\"3062.61\"/><rect fill=\"red\" height=\"16.2\" width=\"32.4\" x=\"631.8\" y=\"3059.64\"/><text alignment-baseline=\"middle\" fill=\"white\" font-family=\"Futura\" font-size=\"10.8\" text-anchor=\"middle\" x=\"648.0\" y=\"3069.09\"/><rect fill=\"rgb(200,200,200)\" height=\"16.2\" width=\"32.4\" x=\"631.8\" y=\"3056.4\"/><circle cx=\"630.0\" cy=\"3064.5\" fill=\"rgb(200,200,200)\" r=\"1.8\" stroke=\"rgb(200,200,200)\" stroke-width=\"0\"/><circle cx=\"666.0\" cy=\"3064.5\" fill=\"rgb(200,200,200)\" r=\"1.8\" stroke=\"rgb(200,200,200)\" stroke-width=\"0\"/><text alignment-baseline=\"middle\" fill=\"white\" font-family=\"Futura\" font-size=\"10.8\" text-anchor=\"middle\" x=\"648.0\" y=\"3065.85\">J</text><rect fill=\"green\" height=\"16.2\" width=\"32.4\" x=\"127.8\" y=\"3083.4\"/><circle cx=\"126.0\" cy=\"3091.5\" fill=\"green\" r=\"1.8\" stroke=\"green\" stroke-width=\"0\"/><circle cx=\"162.0\" cy=\"3091.5\" fill=\"green\" r=\"1.8\" stroke=\"green\" stroke-width=\"0\"/><text alignment-baseline=\"middle\" fill=\"white\" font-family=\"Futura\" font-size=\"10.8\" text-anchor=\"middle\" x=\"144.0\" y=\"3092.85\"/><text alignment-baseline=\"middle\" fill=\"black\" font-family=\"Futura\" font-size=\"10.8\" text-anchor=\"start\" x=\"169.2\" y=\"3092.85\">ForwardShoot</text><line stroke=\"black\" stroke-width=\"1.5\" x1=\"126.0\" x2=\"126.0\" y1=\"3092.85\" y2=\"3063.15\"/><rect fill=\"green\" height=\"16.2\" width=\"32.4\" x=\"631.8\" y=\"3080.16\"/><text alignment-baseline=\"middle\" fill=\"white\" font-family=\"Futura\" font-size=\"10.8\" text-anchor=\"middle\" x=\"648.0\" y=\"3089.61\"/><rect fill=\"red\" height=\"16.2\" width=\"32.4\" x=\"631.8\" y=\"3086.64\"/><text alignment-baseline=\"middle\" fill=\"white\" font-family=\"Futura\" font-size=\"10.8\" text-anchor=\"middle\" x=\"648.0\" y=\"3096.09\"/><rect fill=\"rgb(200,200,200)\" height=\"16.2\" width=\"32.4\" x=\"631.8\" y=\"3083.4\"/><circle cx=\"630.0\" cy=\"3091.5\" fill=\"rgb(200,200,200)\" r=\"1.8\" stroke=\"rgb(200,200,200)\" stroke-width=\"0\"/><circle cx=\"666.0\" cy=\"3091.5\" fill=\"rgb(200,200,200)\" r=\"1.8\" stroke=\"rgb(200,200,200)\" stroke-width=\"0\"/><text alignment-baseline=\"middle\" fill=\"white\" font-family=\"Futura\" font-size=\"10.8\" text-anchor=\"middle\" x=\"648.0\" y=\"3092.85\">J</text><rect fill=\"green\" height=\"16.2\" width=\"32.4\" x=\"127.8\" y=\"3110.4\"/><circle cx=\"126.0\" cy=\"3118.5\" fill=\"green\" r=\"1.8\" stroke=\"green\" stroke-width=\"0\"/><circle cx=\"162.0\" cy=\"3118.5\" fill=\"green\" r=\"1.8\" stroke=\"green\" stroke-width=\"0\"/><text alignment-baseline=\"middle\" fill=\"white\" font-family=\"Futura\" font-size=\"10.8\" text-anchor=\"middle\" x=\"144.0\" y=\"3119.85\"/><text alignment-baseline=\"middle\" fill=\"black\" font-family=\"Futura\" font-size=\"10.8\" text-anchor=\"start\" x=\"169.2\" y=\"3119.85\">BackwardShoot</text><line stroke=\"black\" stroke-width=\"1.5\" x1=\"126.0\" x2=\"126.0\" y1=\"3119.85\" y2=\"3090.15\"/><rect fill=\"green\" height=\"16.2\" width=\"32.4\" x=\"631.8\" y=\"3107.16\"/><text alignment-baseline=\"middle\" fill=\"white\" font-family=\"Futura\" font-size=\"10.8\" text-anchor=\"middle\" x=\"648.0\" y=\"3116.61\"/><rect fill=\"red\" height=\"16.2\" width=\"32.4\" x=\"631.8\" y=\"3113.64\"/><text alignment-baseline=\"middle\" fill=\"white\" font-family=\"Futura\" font-size=\"10.8\" text-anchor=\"middle\" x=\"648.0\" y=\"3123.09\"/><rect fill=\"rgb(200,200,200)\" height=\"16.2\" width=\"32.4\" x=\"631.8\" y=\"3110.4\"/><circle cx=\"630.0\" cy=\"3118.5\" fill=\"rgb(200,200,200)\" r=\"1.8\" stroke=\"rgb(200,200,200)\" stroke-width=\"0\"/><circle cx=\"666.0\" cy=\"3118.5\" fill=\"rgb(200,200,200)\" r=\"1.8\" stroke=\"rgb(200,200,200)\" stroke-width=\"0\"/><text alignment-baseline=\"middle\" fill=\"white\" font-family=\"Futura\" font-size=\"10.8\" text-anchor=\"middle\" x=\"648.0\" y=\"3119.85\">J</text><rect fill=\"green\" height=\"16.2\" width=\"32.4\" x=\"91.8\" y=\"3137.4\"/><circle cx=\"90.0\" cy=\"3145.5\" fill=\"green\" r=\"1.8\" stroke=\"green\" stroke-width=\"0\"/><circle cx=\"126.0\" cy=\"3145.5\" fill=\"green\" r=\"1.8\" stroke=\"green\" stroke-width=\"0\"/><text alignment-baseline=\"middle\" fill=\"white\" font-family=\"Futura\" font-size=\"10.8\" text-anchor=\"middle\" x=\"108.0\" y=\"3146.85\"/><text alignment-baseline=\"middle\" fill=\"black\" font-family=\"Futura\" font-size=\"10.8\" text-anchor=\"start\" x=\"133.2\" y=\"3146.85\">IdentityPath</text><line stroke=\"black\" stroke-width=\"1.5\" x1=\"90.0\" x2=\"90.0\" y1=\"3146.85\" y2=\"3063.15\"/><rect fill=\"green\" height=\"16.2\" width=\"32.4\" x=\"91.8\" y=\"3164.4\"/><circle cx=\"90.0\" cy=\"3172.5\" fill=\"green\" r=\"1.8\" stroke=\"green\" stroke-width=\"0\"/><circle cx=\"126.0\" cy=\"3172.5\" fill=\"green\" r=\"1.8\" stroke=\"green\" stroke-width=\"0\"/><text alignment-baseline=\"middle\" fill=\"white\" font-family=\"Futura\" font-size=\"10.8\" text-anchor=\"middle\" x=\"108.0\" y=\"3173.85\"/><text alignment-baseline=\"middle\" fill=\"black\" font-family=\"Futura\" font-size=\"10.8\" text-anchor=\"start\" x=\"133.2\" y=\"3173.85\">EnsembleHop</text><line stroke=\"black\" stroke-width=\"1.5\" x1=\"90.0\" x2=\"90.0\" y1=\"3173.85\" y2=\"3144.15\"/><rect fill=\"red\" height=\"16.2\" width=\"32.4\" x=\"379.8\" y=\"3167.64\"/><text alignment-baseline=\"middle\" fill=\"white\" font-family=\"Futura\" font-size=\"10.8\" text-anchor=\"middle\" x=\"396.0\" y=\"3177.09\"/><rect fill=\"rgb(200,200,200)\" height=\"16.2\" width=\"32.4\" x=\"379.8\" y=\"3164.4\"/><circle cx=\"378.0\" cy=\"3172.5\" fill=\"rgb(200,200,200)\" r=\"1.8\" stroke=\"rgb(200,200,200)\" stroke-width=\"0\"/><circle cx=\"414.0\" cy=\"3172.5\" fill=\"rgb(200,200,200)\" r=\"1.8\" stroke=\"rgb(200,200,200)\" stroke-width=\"0\"/><text alignment-baseline=\"middle\" fill=\"white\" font-family=\"Futura\" font-size=\"10.8\" text-anchor=\"middle\" x=\"396.0\" y=\"3173.85\">C</text><rect fill=\"green\" height=\"16.2\" width=\"32.4\" x=\"631.8\" y=\"3161.16\"/><text alignment-baseline=\"middle\" fill=\"white\" font-family=\"Futura\" font-size=\"10.8\" text-anchor=\"middle\" x=\"648.0\" y=\"3170.61\"/><rect fill=\"rgb(200,200,200)\" height=\"16.2\" width=\"32.4\" x=\"631.8\" y=\"3164.4\"/><circle cx=\"630.0\" cy=\"3172.5\" fill=\"rgb(200,200,200)\" r=\"1.8\" stroke=\"rgb(200,200,200)\" stroke-width=\"0\"/><circle cx=\"666.0\" cy=\"3172.5\" fill=\"rgb(200,200,200)\" r=\"1.8\" stroke=\"rgb(200,200,200)\" stroke-width=\"0\"/><text alignment-baseline=\"middle\" fill=\"white\" font-family=\"Futura\" font-size=\"10.8\" text-anchor=\"middle\" x=\"648.0\" y=\"3173.85\">J</text><rect fill=\"green\" height=\"16.2\" width=\"32.4\" x=\"91.8\" y=\"3191.4\"/><circle cx=\"90.0\" cy=\"3199.5\" fill=\"green\" r=\"1.8\" stroke=\"green\" stroke-width=\"0\"/><circle cx=\"126.0\" cy=\"3199.5\" fill=\"green\" r=\"1.8\" stroke=\"green\" stroke-width=\"0\"/><text alignment-baseline=\"middle\" fill=\"white\" font-family=\"Futura\" font-size=\"10.8\" text-anchor=\"middle\" x=\"108.0\" y=\"3200.85\"/><text alignment-baseline=\"middle\" fill=\"black\" font-family=\"Futura\" font-size=\"10.8\" text-anchor=\"start\" x=\"133.2\" y=\"3200.85\">PathReversal</text><line stroke=\"black\" stroke-width=\"1.5\" x1=\"90.0\" x2=\"90.0\" y1=\"3200.85\" y2=\"3171.15\"/><rect fill=\"green\" height=\"16.2\" width=\"32.4\" x=\"631.8\" y=\"3188.16\"/><text alignment-baseline=\"middle\" fill=\"white\" font-family=\"Futura\" font-size=\"10.8\" text-anchor=\"middle\" x=\"648.0\" y=\"3197.61\"/><rect fill=\"red\" height=\"16.2\" width=\"32.4\" x=\"631.8\" y=\"3194.64\"/><text alignment-baseline=\"middle\" fill=\"white\" font-family=\"Futura\" font-size=\"10.8\" text-anchor=\"middle\" x=\"648.0\" y=\"3204.09\"/><rect fill=\"rgb(200,200,200)\" height=\"16.2\" width=\"32.4\" x=\"631.8\" y=\"3191.4\"/><circle cx=\"630.0\" cy=\"3199.5\" fill=\"rgb(200,200,200)\" r=\"1.8\" stroke=\"rgb(200,200,200)\" stroke-width=\"0\"/><circle cx=\"666.0\" cy=\"3199.5\" fill=\"rgb(200,200,200)\" r=\"1.8\" stroke=\"rgb(200,200,200)\" stroke-width=\"0\"/><text alignment-baseline=\"middle\" fill=\"white\" font-family=\"Futura\" font-size=\"10.8\" text-anchor=\"middle\" x=\"648.0\" y=\"3200.85\">J</text><rect fill=\"green\" height=\"16.2\" width=\"32.4\" x=\"55.8\" y=\"3218.4\"/><circle cx=\"54.0\" cy=\"3226.5\" fill=\"green\" r=\"1.8\" stroke=\"green\" stroke-width=\"0\"/><circle cx=\"90.0\" cy=\"3226.5\" fill=\"green\" r=\"1.8\" stroke=\"green\" stroke-width=\"0\"/><text alignment-baseline=\"middle\" fill=\"white\" font-family=\"Futura\" font-size=\"10.8\" text-anchor=\"middle\" x=\"72.0\" y=\"3227.85\"/><text alignment-baseline=\"middle\" fill=\"black\" font-family=\"Futura\" font-size=\"10.8\" text-anchor=\"start\" x=\"97.2\" y=\"3227.85\">RandomChoice</text><line stroke=\"black\" stroke-width=\"1.5\" x1=\"54.0\" x2=\"54.0\" y1=\"3227.85\" y2=\"2982.15\"/><rect fill=\"red\" height=\"16.2\" width=\"32.4\" x=\"343.8\" y=\"3221.64\"/><text alignment-baseline=\"middle\" fill=\"white\" font-family=\"Futura\" font-size=\"10.8\" text-anchor=\"middle\" x=\"360.0\" y=\"3231.09\"/><rect fill=\"rgb(200,200,200)\" height=\"16.2\" width=\"32.4\" x=\"343.8\" y=\"3218.4\"/><circle cx=\"342.0\" cy=\"3226.5\" fill=\"rgb(200,200,200)\" r=\"1.8\" stroke=\"rgb(200,200,200)\" stroke-width=\"0\"/><circle cx=\"378.0\" cy=\"3226.5\" fill=\"rgb(200,200,200)\" r=\"1.8\" stroke=\"rgb(200,200,200)\" stroke-width=\"0\"/><text alignment-baseline=\"middle\" fill=\"white\" font-family=\"Futura\" font-size=\"10.8\" text-anchor=\"middle\" x=\"360.0\" y=\"3227.85\">B</text><rect fill=\"green\" height=\"16.2\" width=\"32.4\" x=\"379.8\" y=\"3215.16\"/><text alignment-baseline=\"middle\" fill=\"white\" font-family=\"Futura\" font-size=\"10.8\" text-anchor=\"middle\" x=\"396.0\" y=\"3224.61\"/><rect fill=\"red\" height=\"16.2\" width=\"32.4\" x=\"379.8\" y=\"3221.64\"/><text alignment-baseline=\"middle\" fill=\"white\" font-family=\"Futura\" font-size=\"10.8\" text-anchor=\"middle\" x=\"396.0\" y=\"3231.09\"/><rect fill=\"rgb(200,200,200)\" height=\"16.2\" width=\"32.4\" x=\"379.8\" y=\"3218.4\"/><circle cx=\"378.0\" cy=\"3226.5\" fill=\"rgb(200,200,200)\" r=\"1.8\" stroke=\"rgb(200,200,200)\" stroke-width=\"0\"/><circle cx=\"414.0\" cy=\"3226.5\" fill=\"rgb(200,200,200)\" r=\"1.8\" stroke=\"rgb(200,200,200)\" stroke-width=\"0\"/><text alignment-baseline=\"middle\" fill=\"white\" font-family=\"Futura\" font-size=\"10.8\" text-anchor=\"middle\" x=\"396.0\" y=\"3227.85\">C</text><rect fill=\"red\" height=\"16.2\" width=\"32.4\" x=\"631.8\" y=\"3221.64\"/><text alignment-baseline=\"middle\" fill=\"white\" font-family=\"Futura\" font-size=\"10.8\" text-anchor=\"middle\" x=\"648.0\" y=\"3231.09\"/><rect fill=\"rgb(200,200,200)\" height=\"16.2\" width=\"32.4\" x=\"631.8\" y=\"3218.4\"/><circle cx=\"630.0\" cy=\"3226.5\" fill=\"rgb(200,200,200)\" r=\"1.8\" stroke=\"rgb(200,200,200)\" stroke-width=\"0\"/><circle cx=\"666.0\" cy=\"3226.5\" fill=\"rgb(200,200,200)\" r=\"1.8\" stroke=\"rgb(200,200,200)\" stroke-width=\"0\"/><text alignment-baseline=\"middle\" fill=\"white\" font-family=\"Futura\" font-size=\"10.8\" text-anchor=\"middle\" x=\"648.0\" y=\"3227.85\">J</text><rect fill=\"green\" height=\"16.2\" width=\"32.4\" x=\"91.8\" y=\"3245.4\"/><circle cx=\"90.0\" cy=\"3253.5\" fill=\"green\" r=\"1.8\" stroke=\"green\" stroke-width=\"0\"/><circle cx=\"126.0\" cy=\"3253.5\" fill=\"green\" r=\"1.8\" stroke=\"green\" stroke-width=\"0\"/><text alignment-baseline=\"middle\" fill=\"white\" font-family=\"Futura\" font-size=\"10.8\" text-anchor=\"middle\" x=\"108.0\" y=\"3254.85\"/><text alignment-baseline=\"middle\" fill=\"black\" font-family=\"Futura\" font-size=\"10.8\" text-anchor=\"start\" x=\"133.2\" y=\"3254.85\">IdentityPath</text><line stroke=\"black\" stroke-width=\"1.5\" x1=\"90.0\" x2=\"90.0\" y1=\"3254.85\" y2=\"3225.15\"/><rect fill=\"green\" height=\"16.2\" width=\"32.4\" x=\"91.8\" y=\"3272.4\"/><circle cx=\"90.0\" cy=\"3280.5\" fill=\"green\" r=\"1.8\" stroke=\"green\" stroke-width=\"0\"/><circle cx=\"126.0\" cy=\"3280.5\" fill=\"green\" r=\"1.8\" stroke=\"green\" stroke-width=\"0\"/><text alignment-baseline=\"middle\" fill=\"white\" font-family=\"Futura\" font-size=\"10.8\" text-anchor=\"middle\" x=\"108.0\" y=\"3281.85\"/><text alignment-baseline=\"middle\" fill=\"black\" font-family=\"Futura\" font-size=\"10.8\" text-anchor=\"start\" x=\"133.2\" y=\"3281.85\">EnsembleHop</text><line stroke=\"black\" stroke-width=\"1.5\" x1=\"90.0\" x2=\"90.0\" y1=\"3281.85\" y2=\"3252.15\"/><rect fill=\"green\" height=\"16.2\" width=\"32.4\" x=\"379.8\" y=\"3269.16\"/><text alignment-baseline=\"middle\" fill=\"white\" font-family=\"Futura\" font-size=\"10.8\" text-anchor=\"middle\" x=\"396.0\" y=\"3278.61\"/><rect fill=\"rgb(200,200,200)\" height=\"16.2\" width=\"32.4\" x=\"379.8\" y=\"3272.4\"/><circle cx=\"378.0\" cy=\"3280.5\" fill=\"rgb(200,200,200)\" r=\"1.8\" stroke=\"rgb(200,200,200)\" stroke-width=\"0\"/><circle cx=\"414.0\" cy=\"3280.5\" fill=\"rgb(200,200,200)\" r=\"1.8\" stroke=\"rgb(200,200,200)\" stroke-width=\"0\"/><text alignment-baseline=\"middle\" fill=\"white\" font-family=\"Futura\" font-size=\"10.8\" text-anchor=\"middle\" x=\"396.0\" y=\"3281.85\">C</text><rect fill=\"red\" height=\"16.2\" width=\"32.4\" x=\"631.8\" y=\"3275.64\"/><text alignment-baseline=\"middle\" fill=\"white\" font-family=\"Futura\" font-size=\"10.8\" text-anchor=\"middle\" x=\"648.0\" y=\"3285.09\"/><rect fill=\"rgb(200,200,200)\" height=\"16.2\" width=\"32.4\" x=\"631.8\" y=\"3272.4\"/><circle cx=\"630.0\" cy=\"3280.5\" fill=\"rgb(200,200,200)\" r=\"1.8\" stroke=\"rgb(200,200,200)\" stroke-width=\"0\"/><circle cx=\"666.0\" cy=\"3280.5\" fill=\"rgb(200,200,200)\" r=\"1.8\" stroke=\"rgb(200,200,200)\" stroke-width=\"0\"/><text alignment-baseline=\"middle\" fill=\"white\" font-family=\"Futura\" font-size=\"10.8\" text-anchor=\"middle\" x=\"648.0\" y=\"3281.85\">J</text><rect fill=\"green\" height=\"16.2\" width=\"32.4\" x=\"91.8\" y=\"3299.4\"/><circle cx=\"90.0\" cy=\"3307.5\" fill=\"green\" r=\"1.8\" stroke=\"green\" stroke-width=\"0\"/><circle cx=\"126.0\" cy=\"3307.5\" fill=\"green\" r=\"1.8\" stroke=\"green\" stroke-width=\"0\"/><text alignment-baseline=\"middle\" fill=\"white\" font-family=\"Futura\" font-size=\"10.8\" text-anchor=\"middle\" x=\"108.0\" y=\"3308.85\"/><text alignment-baseline=\"middle\" fill=\"black\" font-family=\"Futura\" font-size=\"10.8\" text-anchor=\"start\" x=\"133.2\" y=\"3308.85\">PathReversal</text><line stroke=\"black\" stroke-width=\"1.5\" x1=\"90.0\" x2=\"90.0\" y1=\"3308.85\" y2=\"3279.15\"/><rect fill=\"green\" height=\"16.2\" width=\"32.4\" x=\"379.8\" y=\"3296.16\"/><text alignment-baseline=\"middle\" fill=\"white\" font-family=\"Futura\" font-size=\"10.8\" text-anchor=\"middle\" x=\"396.0\" y=\"3305.61\"/><rect fill=\"red\" height=\"16.2\" width=\"32.4\" x=\"379.8\" y=\"3302.64\"/><text alignment-baseline=\"middle\" fill=\"white\" font-family=\"Futura\" font-size=\"10.8\" text-anchor=\"middle\" x=\"396.0\" y=\"3312.09\"/><rect fill=\"rgb(200,200,200)\" height=\"16.2\" width=\"32.4\" x=\"379.8\" y=\"3299.4\"/><circle cx=\"378.0\" cy=\"3307.5\" fill=\"rgb(200,200,200)\" r=\"1.8\" stroke=\"rgb(200,200,200)\" stroke-width=\"0\"/><circle cx=\"414.0\" cy=\"3307.5\" fill=\"rgb(200,200,200)\" r=\"1.8\" stroke=\"rgb(200,200,200)\" stroke-width=\"0\"/><text alignment-baseline=\"middle\" fill=\"white\" font-family=\"Futura\" font-size=\"10.8\" text-anchor=\"middle\" x=\"396.0\" y=\"3308.85\">C</text><rect fill=\"green\" height=\"16.2\" width=\"32.4\" x=\"91.8\" y=\"3326.4\"/><circle cx=\"90.0\" cy=\"3334.5\" fill=\"green\" r=\"1.8\" stroke=\"green\" stroke-width=\"0\"/><circle cx=\"126.0\" cy=\"3334.5\" fill=\"green\" r=\"1.8\" stroke=\"green\" stroke-width=\"0\"/><text alignment-baseline=\"middle\" fill=\"white\" font-family=\"Futura\" font-size=\"10.8\" text-anchor=\"middle\" x=\"108.0\" y=\"3335.85\"/><text alignment-baseline=\"middle\" fill=\"black\" font-family=\"Futura\" font-size=\"10.8\" text-anchor=\"start\" x=\"133.2\" y=\"3335.85\">OneWayShooting</text><line stroke=\"black\" stroke-width=\"1.5\" x1=\"90.0\" x2=\"90.0\" y1=\"3335.85\" y2=\"3306.15\"/><rect fill=\"green\" height=\"16.2\" width=\"32.4\" x=\"379.8\" y=\"3323.16\"/><text alignment-baseline=\"middle\" fill=\"white\" font-family=\"Futura\" font-size=\"10.8\" text-anchor=\"middle\" x=\"396.0\" y=\"3332.61\"/><rect fill=\"red\" height=\"16.2\" width=\"32.4\" x=\"379.8\" y=\"3329.64\"/><text alignment-baseline=\"middle\" fill=\"white\" font-family=\"Futura\" font-size=\"10.8\" text-anchor=\"middle\" x=\"396.0\" y=\"3339.09\"/><rect fill=\"rgb(200,200,200)\" height=\"16.2\" width=\"32.4\" x=\"379.8\" y=\"3326.4\"/><circle cx=\"378.0\" cy=\"3334.5\" fill=\"rgb(200,200,200)\" r=\"1.8\" stroke=\"rgb(200,200,200)\" stroke-width=\"0\"/><circle cx=\"414.0\" cy=\"3334.5\" fill=\"rgb(200,200,200)\" r=\"1.8\" stroke=\"rgb(200,200,200)\" stroke-width=\"0\"/><text alignment-baseline=\"middle\" fill=\"white\" font-family=\"Futura\" font-size=\"10.8\" text-anchor=\"middle\" x=\"396.0\" y=\"3335.85\">C</text><rect fill=\"green\" height=\"16.2\" width=\"32.4\" x=\"127.8\" y=\"3353.4\"/><circle cx=\"126.0\" cy=\"3361.5\" fill=\"green\" r=\"1.8\" stroke=\"green\" stroke-width=\"0\"/><circle cx=\"162.0\" cy=\"3361.5\" fill=\"green\" r=\"1.8\" stroke=\"green\" stroke-width=\"0\"/><text alignment-baseline=\"middle\" fill=\"white\" font-family=\"Futura\" font-size=\"10.8\" text-anchor=\"middle\" x=\"144.0\" y=\"3362.85\"/><text alignment-baseline=\"middle\" fill=\"black\" font-family=\"Futura\" font-size=\"10.8\" text-anchor=\"start\" x=\"169.2\" y=\"3362.85\">ForwardShoot</text><line stroke=\"black\" stroke-width=\"1.5\" x1=\"126.0\" x2=\"126.0\" y1=\"3362.85\" y2=\"3333.15\"/><rect fill=\"green\" height=\"16.2\" width=\"32.4\" x=\"379.8\" y=\"3350.16\"/><text alignment-baseline=\"middle\" fill=\"white\" font-family=\"Futura\" font-size=\"10.8\" text-anchor=\"middle\" x=\"396.0\" y=\"3359.61\"/><rect fill=\"red\" height=\"16.2\" width=\"32.4\" x=\"379.8\" y=\"3356.64\"/><text alignment-baseline=\"middle\" fill=\"white\" font-family=\"Futura\" font-size=\"10.8\" text-anchor=\"middle\" x=\"396.0\" y=\"3366.09\"/><rect fill=\"rgb(200,200,200)\" height=\"16.2\" width=\"32.4\" x=\"379.8\" y=\"3353.4\"/><circle cx=\"378.0\" cy=\"3361.5\" fill=\"rgb(200,200,200)\" r=\"1.8\" stroke=\"rgb(200,200,200)\" stroke-width=\"0\"/><circle cx=\"414.0\" cy=\"3361.5\" fill=\"rgb(200,200,200)\" r=\"1.8\" stroke=\"rgb(200,200,200)\" stroke-width=\"0\"/><text alignment-baseline=\"middle\" fill=\"white\" font-family=\"Futura\" font-size=\"10.8\" text-anchor=\"middle\" x=\"396.0\" y=\"3362.85\">C</text><rect fill=\"green\" height=\"16.2\" width=\"32.4\" x=\"127.8\" y=\"3380.4\"/><circle cx=\"126.0\" cy=\"3388.5\" fill=\"green\" r=\"1.8\" stroke=\"green\" stroke-width=\"0\"/><circle cx=\"162.0\" cy=\"3388.5\" fill=\"green\" r=\"1.8\" stroke=\"green\" stroke-width=\"0\"/><text alignment-baseline=\"middle\" fill=\"white\" font-family=\"Futura\" font-size=\"10.8\" text-anchor=\"middle\" x=\"144.0\" y=\"3389.85\"/><text alignment-baseline=\"middle\" fill=\"black\" font-family=\"Futura\" font-size=\"10.8\" text-anchor=\"start\" x=\"169.2\" y=\"3389.85\">BackwardShoot</text><line stroke=\"black\" stroke-width=\"1.5\" x1=\"126.0\" x2=\"126.0\" y1=\"3389.85\" y2=\"3360.15\"/><rect fill=\"green\" height=\"16.2\" width=\"32.4\" x=\"379.8\" y=\"3377.16\"/><text alignment-baseline=\"middle\" fill=\"white\" font-family=\"Futura\" font-size=\"10.8\" text-anchor=\"middle\" x=\"396.0\" y=\"3386.61\"/><rect fill=\"red\" height=\"16.2\" width=\"32.4\" x=\"379.8\" y=\"3383.64\"/><text alignment-baseline=\"middle\" fill=\"white\" font-family=\"Futura\" font-size=\"10.8\" text-anchor=\"middle\" x=\"396.0\" y=\"3393.09\"/><rect fill=\"rgb(200,200,200)\" height=\"16.2\" width=\"32.4\" x=\"379.8\" y=\"3380.4\"/><circle cx=\"378.0\" cy=\"3388.5\" fill=\"rgb(200,200,200)\" r=\"1.8\" stroke=\"rgb(200,200,200)\" stroke-width=\"0\"/><circle cx=\"414.0\" cy=\"3388.5\" fill=\"rgb(200,200,200)\" r=\"1.8\" stroke=\"rgb(200,200,200)\" stroke-width=\"0\"/><text alignment-baseline=\"middle\" fill=\"white\" font-family=\"Futura\" font-size=\"10.8\" text-anchor=\"middle\" x=\"396.0\" y=\"3389.85\">C</text><rect fill=\"green\" height=\"16.2\" width=\"32.4\" x=\"91.8\" y=\"3407.4\"/><circle cx=\"90.0\" cy=\"3415.5\" fill=\"green\" r=\"1.8\" stroke=\"green\" stroke-width=\"0\"/><circle cx=\"126.0\" cy=\"3415.5\" fill=\"green\" r=\"1.8\" stroke=\"green\" stroke-width=\"0\"/><text alignment-baseline=\"middle\" fill=\"white\" font-family=\"Futura\" font-size=\"10.8\" text-anchor=\"middle\" x=\"108.0\" y=\"3416.85\"/><text alignment-baseline=\"middle\" fill=\"black\" font-family=\"Futura\" font-size=\"10.8\" text-anchor=\"start\" x=\"133.2\" y=\"3416.85\">EnsembleHop</text><line stroke=\"black\" stroke-width=\"1.5\" x1=\"90.0\" x2=\"90.0\" y1=\"3416.85\" y2=\"3333.15\"/><rect fill=\"red\" height=\"16.2\" width=\"32.4\" x=\"343.8\" y=\"3410.64\"/><text alignment-baseline=\"middle\" fill=\"white\" font-family=\"Futura\" font-size=\"10.8\" text-anchor=\"middle\" x=\"360.0\" y=\"3420.09\"/><rect fill=\"rgb(200,200,200)\" height=\"16.2\" width=\"32.4\" x=\"343.8\" y=\"3407.4\"/><circle cx=\"342.0\" cy=\"3415.5\" fill=\"rgb(200,200,200)\" r=\"1.8\" stroke=\"rgb(200,200,200)\" stroke-width=\"0\"/><circle cx=\"378.0\" cy=\"3415.5\" fill=\"rgb(200,200,200)\" r=\"1.8\" stroke=\"rgb(200,200,200)\" stroke-width=\"0\"/><text alignment-baseline=\"middle\" fill=\"white\" font-family=\"Futura\" font-size=\"10.8\" text-anchor=\"middle\" x=\"360.0\" y=\"3416.85\">B</text><rect fill=\"green\" height=\"16.2\" width=\"32.4\" x=\"379.8\" y=\"3404.16\"/><text alignment-baseline=\"middle\" fill=\"white\" font-family=\"Futura\" font-size=\"10.8\" text-anchor=\"middle\" x=\"396.0\" y=\"3413.61\"/><rect fill=\"rgb(200,200,200)\" height=\"16.2\" width=\"32.4\" x=\"379.8\" y=\"3407.4\"/><circle cx=\"378.0\" cy=\"3415.5\" fill=\"rgb(200,200,200)\" r=\"1.8\" stroke=\"rgb(200,200,200)\" stroke-width=\"0\"/><circle cx=\"414.0\" cy=\"3415.5\" fill=\"rgb(200,200,200)\" r=\"1.8\" stroke=\"rgb(200,200,200)\" stroke-width=\"0\"/><text alignment-baseline=\"middle\" fill=\"white\" font-family=\"Futura\" font-size=\"10.8\" text-anchor=\"middle\" x=\"396.0\" y=\"3416.85\">C</text><rect fill=\"green\" height=\"16.2\" width=\"32.4\" x=\"55.8\" y=\"3434.4\"/><circle cx=\"54.0\" cy=\"3442.5\" fill=\"green\" r=\"1.8\" stroke=\"green\" stroke-width=\"0\"/><circle cx=\"90.0\" cy=\"3442.5\" fill=\"green\" r=\"1.8\" stroke=\"green\" stroke-width=\"0\"/><text alignment-baseline=\"middle\" fill=\"white\" font-family=\"Futura\" font-size=\"10.8\" text-anchor=\"middle\" x=\"72.0\" y=\"3443.85\"/><text alignment-baseline=\"middle\" fill=\"black\" font-family=\"Futura\" font-size=\"10.8\" text-anchor=\"start\" x=\"97.2\" y=\"3443.85\">RandomChoice</text><line stroke=\"black\" stroke-width=\"1.5\" x1=\"54.0\" x2=\"54.0\" y1=\"3443.85\" y2=\"3225.15\"/><rect fill=\"red\" height=\"16.2\" width=\"32.4\" x=\"307.8\" y=\"3437.64\"/><text alignment-baseline=\"middle\" fill=\"white\" font-family=\"Futura\" font-size=\"10.8\" text-anchor=\"middle\" x=\"324.0\" y=\"3447.09\"/><rect fill=\"rgb(200,200,200)\" height=\"16.2\" width=\"32.4\" x=\"307.8\" y=\"3434.4\"/><circle cx=\"306.0\" cy=\"3442.5\" fill=\"rgb(200,200,200)\" r=\"1.8\" stroke=\"rgb(200,200,200)\" stroke-width=\"0\"/><circle cx=\"342.0\" cy=\"3442.5\" fill=\"rgb(200,200,200)\" r=\"1.8\" stroke=\"rgb(200,200,200)\" stroke-width=\"0\"/><text alignment-baseline=\"middle\" fill=\"white\" font-family=\"Futura\" font-size=\"10.8\" text-anchor=\"middle\" x=\"324.0\" y=\"3443.85\">A</text><rect fill=\"green\" height=\"16.2\" width=\"32.4\" x=\"343.8\" y=\"3431.16\"/><text alignment-baseline=\"middle\" fill=\"white\" font-family=\"Futura\" font-size=\"10.8\" text-anchor=\"middle\" x=\"360.0\" y=\"3440.61\"/><rect fill=\"red\" height=\"16.2\" width=\"32.4\" x=\"343.8\" y=\"3437.64\"/><text alignment-baseline=\"middle\" fill=\"white\" font-family=\"Futura\" font-size=\"10.8\" text-anchor=\"middle\" x=\"360.0\" y=\"3447.09\"/><rect fill=\"rgb(200,200,200)\" height=\"16.2\" width=\"32.4\" x=\"343.8\" y=\"3434.4\"/><circle cx=\"342.0\" cy=\"3442.5\" fill=\"rgb(200,200,200)\" r=\"1.8\" stroke=\"rgb(200,200,200)\" stroke-width=\"0\"/><circle cx=\"378.0\" cy=\"3442.5\" fill=\"rgb(200,200,200)\" r=\"1.8\" stroke=\"rgb(200,200,200)\" stroke-width=\"0\"/><text alignment-baseline=\"middle\" fill=\"white\" font-family=\"Futura\" font-size=\"10.8\" text-anchor=\"middle\" x=\"360.0\" y=\"3443.85\">B</text><rect fill=\"red\" height=\"16.2\" width=\"32.4\" x=\"379.8\" y=\"3437.64\"/><text alignment-baseline=\"middle\" fill=\"white\" font-family=\"Futura\" font-size=\"10.8\" text-anchor=\"middle\" x=\"396.0\" y=\"3447.09\"/><rect fill=\"rgb(200,200,200)\" height=\"16.2\" width=\"32.4\" x=\"379.8\" y=\"3434.4\"/><circle cx=\"378.0\" cy=\"3442.5\" fill=\"rgb(200,200,200)\" r=\"1.8\" stroke=\"rgb(200,200,200)\" stroke-width=\"0\"/><circle cx=\"414.0\" cy=\"3442.5\" fill=\"rgb(200,200,200)\" r=\"1.8\" stroke=\"rgb(200,200,200)\" stroke-width=\"0\"/><text alignment-baseline=\"middle\" fill=\"white\" font-family=\"Futura\" font-size=\"10.8\" text-anchor=\"middle\" x=\"396.0\" y=\"3443.85\">C</text><rect fill=\"green\" height=\"16.2\" width=\"32.4\" x=\"91.8\" y=\"3461.4\"/><circle cx=\"90.0\" cy=\"3469.5\" fill=\"green\" r=\"1.8\" stroke=\"green\" stroke-width=\"0\"/><circle cx=\"126.0\" cy=\"3469.5\" fill=\"green\" r=\"1.8\" stroke=\"green\" stroke-width=\"0\"/><text alignment-baseline=\"middle\" fill=\"white\" font-family=\"Futura\" font-size=\"10.8\" text-anchor=\"middle\" x=\"108.0\" y=\"3470.85\"/><text alignment-baseline=\"middle\" fill=\"black\" font-family=\"Futura\" font-size=\"10.8\" text-anchor=\"start\" x=\"133.2\" y=\"3470.85\">IdentityPath</text><line stroke=\"black\" stroke-width=\"1.5\" x1=\"90.0\" x2=\"90.0\" y1=\"3470.85\" y2=\"3441.15\"/><rect fill=\"green\" height=\"16.2\" width=\"32.4\" x=\"91.8\" y=\"3488.4\"/><circle cx=\"90.0\" cy=\"3496.5\" fill=\"green\" r=\"1.8\" stroke=\"green\" stroke-width=\"0\"/><circle cx=\"126.0\" cy=\"3496.5\" fill=\"green\" r=\"1.8\" stroke=\"green\" stroke-width=\"0\"/><text alignment-baseline=\"middle\" fill=\"white\" font-family=\"Futura\" font-size=\"10.8\" text-anchor=\"middle\" x=\"108.0\" y=\"3497.85\"/><text alignment-baseline=\"middle\" fill=\"black\" font-family=\"Futura\" font-size=\"10.8\" text-anchor=\"start\" x=\"133.2\" y=\"3497.85\">EnsembleHop</text><line stroke=\"black\" stroke-width=\"1.5\" x1=\"90.0\" x2=\"90.0\" y1=\"3497.85\" y2=\"3468.15\"/><rect fill=\"green\" height=\"16.2\" width=\"32.4\" x=\"343.8\" y=\"3485.16\"/><text alignment-baseline=\"middle\" fill=\"white\" font-family=\"Futura\" font-size=\"10.8\" text-anchor=\"middle\" x=\"360.0\" y=\"3494.61\"/><rect fill=\"rgb(200,200,200)\" height=\"16.2\" width=\"32.4\" x=\"343.8\" y=\"3488.4\"/><circle cx=\"342.0\" cy=\"3496.5\" fill=\"rgb(200,200,200)\" r=\"1.8\" stroke=\"rgb(200,200,200)\" stroke-width=\"0\"/><circle cx=\"378.0\" cy=\"3496.5\" fill=\"rgb(200,200,200)\" r=\"1.8\" stroke=\"rgb(200,200,200)\" stroke-width=\"0\"/><text alignment-baseline=\"middle\" fill=\"white\" font-family=\"Futura\" font-size=\"10.8\" text-anchor=\"middle\" x=\"360.0\" y=\"3497.85\">B</text><rect fill=\"red\" height=\"16.2\" width=\"32.4\" x=\"379.8\" y=\"3491.64\"/><text alignment-baseline=\"middle\" fill=\"white\" font-family=\"Futura\" font-size=\"10.8\" text-anchor=\"middle\" x=\"396.0\" y=\"3501.09\"/><rect fill=\"rgb(200,200,200)\" height=\"16.2\" width=\"32.4\" x=\"379.8\" y=\"3488.4\"/><circle cx=\"378.0\" cy=\"3496.5\" fill=\"rgb(200,200,200)\" r=\"1.8\" stroke=\"rgb(200,200,200)\" stroke-width=\"0\"/><circle cx=\"414.0\" cy=\"3496.5\" fill=\"rgb(200,200,200)\" r=\"1.8\" stroke=\"rgb(200,200,200)\" stroke-width=\"0\"/><text alignment-baseline=\"middle\" fill=\"white\" font-family=\"Futura\" font-size=\"10.8\" text-anchor=\"middle\" x=\"396.0\" y=\"3497.85\">C</text><rect fill=\"green\" height=\"16.2\" width=\"32.4\" x=\"91.8\" y=\"3515.4\"/><circle cx=\"90.0\" cy=\"3523.5\" fill=\"green\" r=\"1.8\" stroke=\"green\" stroke-width=\"0\"/><circle cx=\"126.0\" cy=\"3523.5\" fill=\"green\" r=\"1.8\" stroke=\"green\" stroke-width=\"0\"/><text alignment-baseline=\"middle\" fill=\"white\" font-family=\"Futura\" font-size=\"10.8\" text-anchor=\"middle\" x=\"108.0\" y=\"3524.85\"/><text alignment-baseline=\"middle\" fill=\"black\" font-family=\"Futura\" font-size=\"10.8\" text-anchor=\"start\" x=\"133.2\" y=\"3524.85\">EnsembleHop</text><line stroke=\"black\" stroke-width=\"1.5\" x1=\"90.0\" x2=\"90.0\" y1=\"3524.85\" y2=\"3495.15\"/><rect fill=\"red\" height=\"16.2\" width=\"32.4\" x=\"307.8\" y=\"3518.64\"/><text alignment-baseline=\"middle\" fill=\"white\" font-family=\"Futura\" font-size=\"10.8\" text-anchor=\"middle\" x=\"324.0\" y=\"3528.09\"/><rect fill=\"rgb(200,200,200)\" height=\"16.2\" width=\"32.4\" x=\"307.8\" y=\"3515.4\"/><circle cx=\"306.0\" cy=\"3523.5\" fill=\"rgb(200,200,200)\" r=\"1.8\" stroke=\"rgb(200,200,200)\" stroke-width=\"0\"/><circle cx=\"342.0\" cy=\"3523.5\" fill=\"rgb(200,200,200)\" r=\"1.8\" stroke=\"rgb(200,200,200)\" stroke-width=\"0\"/><text alignment-baseline=\"middle\" fill=\"white\" font-family=\"Futura\" font-size=\"10.8\" text-anchor=\"middle\" x=\"324.0\" y=\"3524.85\">A</text><rect fill=\"green\" height=\"16.2\" width=\"32.4\" x=\"343.8\" y=\"3512.16\"/><text alignment-baseline=\"middle\" fill=\"white\" font-family=\"Futura\" font-size=\"10.8\" text-anchor=\"middle\" x=\"360.0\" y=\"3521.61\"/><rect fill=\"rgb(200,200,200)\" height=\"16.2\" width=\"32.4\" x=\"343.8\" y=\"3515.4\"/><circle cx=\"342.0\" cy=\"3523.5\" fill=\"rgb(200,200,200)\" r=\"1.8\" stroke=\"rgb(200,200,200)\" stroke-width=\"0\"/><circle cx=\"378.0\" cy=\"3523.5\" fill=\"rgb(200,200,200)\" r=\"1.8\" stroke=\"rgb(200,200,200)\" stroke-width=\"0\"/><text alignment-baseline=\"middle\" fill=\"white\" font-family=\"Futura\" font-size=\"10.8\" text-anchor=\"middle\" x=\"360.0\" y=\"3524.85\">B</text><rect fill=\"green\" height=\"16.2\" width=\"32.4\" x=\"91.8\" y=\"3542.4\"/><circle cx=\"90.0\" cy=\"3550.5\" fill=\"green\" r=\"1.8\" stroke=\"green\" stroke-width=\"0\"/><circle cx=\"126.0\" cy=\"3550.5\" fill=\"green\" r=\"1.8\" stroke=\"green\" stroke-width=\"0\"/><text alignment-baseline=\"middle\" fill=\"white\" font-family=\"Futura\" font-size=\"10.8\" text-anchor=\"middle\" x=\"108.0\" y=\"3551.85\"/><text alignment-baseline=\"middle\" fill=\"black\" font-family=\"Futura\" font-size=\"10.8\" text-anchor=\"start\" x=\"133.2\" y=\"3551.85\">OneWayShooting</text><line stroke=\"black\" stroke-width=\"1.5\" x1=\"90.0\" x2=\"90.0\" y1=\"3551.85\" y2=\"3522.15\"/><rect fill=\"green\" height=\"16.2\" width=\"32.4\" x=\"343.8\" y=\"3539.16\"/><text alignment-baseline=\"middle\" fill=\"white\" font-family=\"Futura\" font-size=\"10.8\" text-anchor=\"middle\" x=\"360.0\" y=\"3548.61\"/><rect fill=\"red\" height=\"16.2\" width=\"32.4\" x=\"343.8\" y=\"3545.64\"/><text alignment-baseline=\"middle\" fill=\"white\" font-family=\"Futura\" font-size=\"10.8\" text-anchor=\"middle\" x=\"360.0\" y=\"3555.09\"/><rect fill=\"rgb(200,200,200)\" height=\"16.2\" width=\"32.4\" x=\"343.8\" y=\"3542.4\"/><circle cx=\"342.0\" cy=\"3550.5\" fill=\"rgb(200,200,200)\" r=\"1.8\" stroke=\"rgb(200,200,200)\" stroke-width=\"0\"/><circle cx=\"378.0\" cy=\"3550.5\" fill=\"rgb(200,200,200)\" r=\"1.8\" stroke=\"rgb(200,200,200)\" stroke-width=\"0\"/><text alignment-baseline=\"middle\" fill=\"white\" font-family=\"Futura\" font-size=\"10.8\" text-anchor=\"middle\" x=\"360.0\" y=\"3551.85\">B</text><rect fill=\"green\" height=\"16.2\" width=\"32.4\" x=\"127.8\" y=\"3569.4\"/><circle cx=\"126.0\" cy=\"3577.5\" fill=\"green\" r=\"1.8\" stroke=\"green\" stroke-width=\"0\"/><circle cx=\"162.0\" cy=\"3577.5\" fill=\"green\" r=\"1.8\" stroke=\"green\" stroke-width=\"0\"/><text alignment-baseline=\"middle\" fill=\"white\" font-family=\"Futura\" font-size=\"10.8\" text-anchor=\"middle\" x=\"144.0\" y=\"3578.85\"/><text alignment-baseline=\"middle\" fill=\"black\" font-family=\"Futura\" font-size=\"10.8\" text-anchor=\"start\" x=\"169.2\" y=\"3578.85\">ForwardShoot</text><line stroke=\"black\" stroke-width=\"1.5\" x1=\"126.0\" x2=\"126.0\" y1=\"3578.85\" y2=\"3549.15\"/><rect fill=\"green\" height=\"16.2\" width=\"32.4\" x=\"343.8\" y=\"3566.16\"/><text alignment-baseline=\"middle\" fill=\"white\" font-family=\"Futura\" font-size=\"10.8\" text-anchor=\"middle\" x=\"360.0\" y=\"3575.61\"/><rect fill=\"red\" height=\"16.2\" width=\"32.4\" x=\"343.8\" y=\"3572.64\"/><text alignment-baseline=\"middle\" fill=\"white\" font-family=\"Futura\" font-size=\"10.8\" text-anchor=\"middle\" x=\"360.0\" y=\"3582.09\"/><rect fill=\"rgb(200,200,200)\" height=\"16.2\" width=\"32.4\" x=\"343.8\" y=\"3569.4\"/><circle cx=\"342.0\" cy=\"3577.5\" fill=\"rgb(200,200,200)\" r=\"1.8\" stroke=\"rgb(200,200,200)\" stroke-width=\"0\"/><circle cx=\"378.0\" cy=\"3577.5\" fill=\"rgb(200,200,200)\" r=\"1.8\" stroke=\"rgb(200,200,200)\" stroke-width=\"0\"/><text alignment-baseline=\"middle\" fill=\"white\" font-family=\"Futura\" font-size=\"10.8\" text-anchor=\"middle\" x=\"360.0\" y=\"3578.85\">B</text><rect fill=\"green\" height=\"16.2\" width=\"32.4\" x=\"127.8\" y=\"3596.4\"/><circle cx=\"126.0\" cy=\"3604.5\" fill=\"green\" r=\"1.8\" stroke=\"green\" stroke-width=\"0\"/><circle cx=\"162.0\" cy=\"3604.5\" fill=\"green\" r=\"1.8\" stroke=\"green\" stroke-width=\"0\"/><text alignment-baseline=\"middle\" fill=\"white\" font-family=\"Futura\" font-size=\"10.8\" text-anchor=\"middle\" x=\"144.0\" y=\"3605.85\"/><text alignment-baseline=\"middle\" fill=\"black\" font-family=\"Futura\" font-size=\"10.8\" text-anchor=\"start\" x=\"169.2\" y=\"3605.85\">BackwardShoot</text><line stroke=\"black\" stroke-width=\"1.5\" x1=\"126.0\" x2=\"126.0\" y1=\"3605.85\" y2=\"3576.15\"/><rect fill=\"green\" height=\"16.2\" width=\"32.4\" x=\"343.8\" y=\"3593.16\"/><text alignment-baseline=\"middle\" fill=\"white\" font-family=\"Futura\" font-size=\"10.8\" text-anchor=\"middle\" x=\"360.0\" y=\"3602.61\"/><rect fill=\"red\" height=\"16.2\" width=\"32.4\" x=\"343.8\" y=\"3599.64\"/><text alignment-baseline=\"middle\" fill=\"white\" font-family=\"Futura\" font-size=\"10.8\" text-anchor=\"middle\" x=\"360.0\" y=\"3609.09\"/><rect fill=\"rgb(200,200,200)\" height=\"16.2\" width=\"32.4\" x=\"343.8\" y=\"3596.4\"/><circle cx=\"342.0\" cy=\"3604.5\" fill=\"rgb(200,200,200)\" r=\"1.8\" stroke=\"rgb(200,200,200)\" stroke-width=\"0\"/><circle cx=\"378.0\" cy=\"3604.5\" fill=\"rgb(200,200,200)\" r=\"1.8\" stroke=\"rgb(200,200,200)\" stroke-width=\"0\"/><text alignment-baseline=\"middle\" fill=\"white\" font-family=\"Futura\" font-size=\"10.8\" text-anchor=\"middle\" x=\"360.0\" y=\"3605.85\">B</text><rect fill=\"green\" height=\"16.2\" width=\"32.4\" x=\"91.8\" y=\"3623.4\"/><circle cx=\"90.0\" cy=\"3631.5\" fill=\"green\" r=\"1.8\" stroke=\"green\" stroke-width=\"0\"/><circle cx=\"126.0\" cy=\"3631.5\" fill=\"green\" r=\"1.8\" stroke=\"green\" stroke-width=\"0\"/><text alignment-baseline=\"middle\" fill=\"white\" font-family=\"Futura\" font-size=\"10.8\" text-anchor=\"middle\" x=\"108.0\" y=\"3632.85\"/><text alignment-baseline=\"middle\" fill=\"black\" font-family=\"Futura\" font-size=\"10.8\" text-anchor=\"start\" x=\"133.2\" y=\"3632.85\">PathReversal</text><line stroke=\"black\" stroke-width=\"1.5\" x1=\"90.0\" x2=\"90.0\" y1=\"3632.85\" y2=\"3549.15\"/><rect fill=\"green\" height=\"16.2\" width=\"32.4\" x=\"343.8\" y=\"3620.16\"/><text alignment-baseline=\"middle\" fill=\"white\" font-family=\"Futura\" font-size=\"10.8\" text-anchor=\"middle\" x=\"360.0\" y=\"3629.61\"/><rect fill=\"red\" height=\"16.2\" width=\"32.4\" x=\"343.8\" y=\"3626.64\"/><text alignment-baseline=\"middle\" fill=\"white\" font-family=\"Futura\" font-size=\"10.8\" text-anchor=\"middle\" x=\"360.0\" y=\"3636.09\"/><rect fill=\"rgb(200,200,200)\" height=\"16.2\" width=\"32.4\" x=\"343.8\" y=\"3623.4\"/><circle cx=\"342.0\" cy=\"3631.5\" fill=\"rgb(200,200,200)\" r=\"1.8\" stroke=\"rgb(200,200,200)\" stroke-width=\"0\"/><circle cx=\"378.0\" cy=\"3631.5\" fill=\"rgb(200,200,200)\" r=\"1.8\" stroke=\"rgb(200,200,200)\" stroke-width=\"0\"/><text alignment-baseline=\"middle\" fill=\"white\" font-family=\"Futura\" font-size=\"10.8\" text-anchor=\"middle\" x=\"360.0\" y=\"3632.85\">B</text></svg>"
      ],
      "text/plain": [
       "<IPython.core.display.SVG object>"
      ]
     },
     "execution_count": 11,
     "metadata": {},
     "output_type": "execute_result"
    }
   ],
   "source": [
    "movevis = paths.visualize.MoveTreeBuilder()\n",
    "movevis.mover(scheme.move_decision_tree(), network.all_ensembles)\n",
    "SVG(ipynb_visualize(movevis).to_svg())"
   ]
  },
  {
   "cell_type": "markdown",
   "metadata": {},
   "source": [
    "Next we need to set up an appropriate single-replica initial sample set. We'll take the last version of from one of the outer TIS ensembles."
   ]
  },
  {
   "cell_type": "code",
   "execution_count": 12,
   "metadata": {
    "collapsed": false
   },
   "outputs": [],
   "source": [
    "final_samp0 = old_store.steps[len(old_store.steps)-1].active[network.sampling_ensembles[-1]]"
   ]
  },
  {
   "cell_type": "code",
   "execution_count": 13,
   "metadata": {
    "collapsed": false
   },
   "outputs": [],
   "source": [
    "sset = paths.SampleSet([final_samp0])"
   ]
  },
  {
   "cell_type": "markdown",
   "metadata": {},
   "source": [
    "Finally, we set up the new storage file and the new simulation. "
   ]
  },
  {
   "cell_type": "code",
   "execution_count": 14,
   "metadata": {
    "collapsed": false
   },
   "outputs": [],
   "source": [
    "storage = paths.Storage(\"srtis.nc\", \"w\", template)"
   ]
  },
  {
   "cell_type": "code",
   "execution_count": 15,
   "metadata": {
    "collapsed": false
   },
   "outputs": [],
   "source": [
    "srtis = paths.PathSampling(\n",
    "    storage=storage,\n",
    "    globalstate=sset,\n",
    "    engine=engine,\n",
    "    move_scheme=scheme\n",
    ")"
   ]
  },
  {
   "cell_type": "code",
   "execution_count": 16,
   "metadata": {
    "collapsed": false
   },
   "outputs": [
    {
     "name": "stdout",
     "output_type": "stream",
     "text": [
      "2460\n"
     ]
    }
   ],
   "source": [
    "n_steps_to_run = int(scheme.n_steps_for_trials(\n",
    "        mover=scheme.movers['minus'][0], \n",
    "        n_attempts=2\n",
    "    ))\n",
    "print n_steps_to_run"
   ]
  },
  {
   "cell_type": "code",
   "execution_count": 17,
   "metadata": {
    "collapsed": true
   },
   "outputs": [],
   "source": [
    "# logging creates ops_output.log file with details of what the calculation is doing\n",
    "import logging.config\n",
    "logging.config.fileConfig(\"logging.conf\", disable_existing_loggers=False)"
   ]
  },
  {
   "cell_type": "code",
   "execution_count": 18,
   "metadata": {
    "collapsed": false
   },
   "outputs": [
    {
     "name": "stdout",
     "output_type": "stream",
     "text": [
      "Working on Monte Carlo cycle number 2460.\n",
      "\n",
      "DONE! Completed 2460 Monte Carlo cycles.\n",
      "\n"
     ]
    }
   ],
   "source": [
    "srtis.run_until(1*n_steps_to_run)"
   ]
  },
  {
   "cell_type": "code",
   "execution_count": 19,
   "metadata": {
    "collapsed": false
   },
   "outputs": [],
   "source": [
    "storage.close()"
   ]
  },
  {
   "cell_type": "markdown",
   "metadata": {},
   "source": [
    "From here, we'll be doing the analysis of the SRTIS run."
   ]
  },
  {
   "cell_type": "code",
   "execution_count": 3,
   "metadata": {
    "collapsed": false
   },
   "outputs": [],
   "source": [
    "storage = paths.AnalysisStorage(\"srtis.nc\")\n",
    "scheme = storage.schemes[0]"
   ]
  },
  {
   "cell_type": "code",
   "execution_count": 4,
   "metadata": {
    "collapsed": false
   },
   "outputs": [
    {
     "name": "stdout",
     "output_type": "stream",
     "text": [
      "ms_outer_shooting ran 2.864% (expected 4.07%) of the cycles with acceptance 1013/1409 (71.89%)\n",
      "repex ran 5.486% (expected 36.59%) of the cycles with acceptance 213/2699 (7.89%)\n",
      "shooting ran 1.226% (expected 36.59%) of the cycles with acceptance 444/603 (73.63%)\n",
      "minus ran 0.057% (expected 2.44%) of the cycles with acceptance 27/28 (96.43%)\n",
      "pathreversal ran 1.955% (expected 20.33%) of the cycles with acceptance 919/962 (95.53%)\n"
     ]
    }
   ],
   "source": [
    "scheme.move_summary(storage)"
   ]
  },
  {
   "cell_type": "code",
   "execution_count": 5,
   "metadata": {
    "collapsed": false
   },
   "outputs": [
    {
     "name": "stdout",
     "output_type": "stream",
     "text": [
      "OneWayShootingMover Out B 0 ran 0.065% (expected 4.07%) of the cycles with acceptance 24/32 (75.00%)\n",
      "OneWayShootingMover Out B 2 ran 0.146% (expected 4.07%) of the cycles with acceptance 45/72 (62.50%)\n",
      "OneWayShootingMover Out A 0 ran 0.154% (expected 4.07%) of the cycles with acceptance 64/76 (84.21%)\n",
      "OneWayShootingMover Out C 2 ran 0.321% (expected 4.07%) of the cycles with acceptance 109/158 (68.99%)\n",
      "OneWayShootingMover Out C 0 ran 0.071% (expected 4.07%) of the cycles with acceptance 30/35 (85.71%)\n",
      "OneWayShootingMover Out B 1 ran 0.075% (expected 4.07%) of the cycles with acceptance 26/37 (70.27%)\n",
      "OneWayShootingMover Out A 2 ran 0.154% (expected 4.07%) of the cycles with acceptance 56/76 (73.68%)\n",
      "OneWayShootingMover Out A 1 ran 0.140% (expected 4.07%) of the cycles with acceptance 51/69 (73.91%)\n",
      "OneWayShootingMover Out C 1 ran 0.098% (expected 4.07%) of the cycles with acceptance 39/48 (81.25%)\n"
     ]
    }
   ],
   "source": [
    "scheme.move_summary(storage, 'shooting')"
   ]
  },
  {
   "cell_type": "code",
   "execution_count": 6,
   "metadata": {
    "collapsed": false
   },
   "outputs": [
    {
     "name": "stdout",
     "output_type": "stream",
     "text": [
      "SingleReplicaMinus ran 0.014% (expected 0.81%) of the cycles with acceptance 7/7 (100.00%)\n",
      "SingleReplicaMinus ran 0.026% (expected 0.81%) of the cycles with acceptance 13/13 (100.00%)\n",
      "SingleReplicaMinus ran 0.016% (expected 0.81%) of the cycles with acceptance 7/8 (87.50%)\n"
     ]
    }
   ],
   "source": [
    "scheme.move_summary(storage, 'minus')"
   ]
  },
  {
   "cell_type": "code",
   "execution_count": 7,
   "metadata": {
    "collapsed": false
   },
   "outputs": [
    {
     "name": "stdout",
     "output_type": "stream",
     "text": [
      "EnsembleHop [UnionEnsemble]->Out B 2 ran 1.433% (expected 2.03%) of the cycles with acceptance 21/705 (2.98%)\n",
      "EnsembleHop Out C 2->[UnionEnsemble] ran 0.157% (expected 2.03%) of the cycles with acceptance 28/77 (36.36%)\n",
      "EnsembleHop Out A 2->[UnionEnsemble] ran 0.071% (expected 2.03%) of the cycles with acceptance 16/35 (45.71%)\n",
      "EnsembleHop Out A 0->Out A 1 ran 0.069% (expected 2.03%) of the cycles with acceptance 2/34 (5.88%)\n",
      "EnsembleHop Out B 1->Out B 2 ran 0.045% (expected 2.03%) of the cycles with acceptance 9/22 (40.91%)\n",
      "EnsembleHop Out B 2->Out B 1 ran 0.065% (expected 2.03%) of the cycles with acceptance 9/32 (28.12%)\n",
      "EnsembleHop Out B 1->Out B 0 ran 0.041% (expected 2.03%) of the cycles with acceptance 3/20 (15.00%)\n",
      "EnsembleHop Out A 2->Out A 1 ran 0.087% (expected 2.03%) of the cycles with acceptance 3/43 (6.98%)\n",
      "EnsembleHop Out C 2->Out C 1 ran 0.152% (expected 2.03%) of the cycles with acceptance 18/75 (24.00%)\n",
      "EnsembleHop Out C 0->Out C 1 ran 0.039% (expected 2.03%) of the cycles with acceptance 7/19 (36.84%)\n",
      "EnsembleHop Out A 1->Out A 2 ran 0.045% (expected 2.03%) of the cycles with acceptance 3/22 (13.64%)\n",
      "EnsembleHop Out B 0->Out B 1 ran 0.024% (expected 2.03%) of the cycles with acceptance 3/12 (25.00%)\n",
      "EnsembleHop Out B 2->[UnionEnsemble] ran 0.069% (expected 2.03%) of the cycles with acceptance 21/34 (61.76%)\n",
      "EnsembleHop Out C 1->Out C 0 ran 0.057% (expected 2.03%) of the cycles with acceptance 7/28 (25.00%)\n",
      "EnsembleHop [UnionEnsemble]->Out A 2 ran 1.608% (expected 2.03%) of the cycles with acceptance 15/791 (1.90%)\n",
      "EnsembleHop [UnionEnsemble]->Out C 2 ran 1.431% (expected 2.03%) of the cycles with acceptance 28/704 (3.98%)\n",
      "EnsembleHop Out C 1->Out C 2 ran 0.043% (expected 2.03%) of the cycles with acceptance 18/21 (85.71%)\n",
      "EnsembleHop Out A 1->Out A 0 ran 0.051% (expected 2.03%) of the cycles with acceptance 2/25 (8.00%)\n"
     ]
    }
   ],
   "source": [
    "scheme.move_summary(storage, 'repex')"
   ]
  },
  {
   "cell_type": "code",
   "execution_count": 10,
   "metadata": {
    "collapsed": false
   },
   "outputs": [
    {
     "name": "stdout",
     "output_type": "stream",
     "text": [
      "49201\n"
     ]
    }
   ],
   "source": [
    "replica = storage.samplesets[0].samples[0].replica\n",
    "print len(paths.trace_ensembles_for_replica(replica, storage))"
   ]
  },
  {
   "cell_type": "code",
   "execution_count": 50,
   "metadata": {
    "collapsed": false
   },
   "outputs": [
    {
     "name": "stdout",
     "output_type": "stream",
     "text": [
      "0 : Out C 0\n",
      "1 : Out C 1\n",
      "2 : Out C 2\n",
      "3 : Out A 0\n",
      "4 : Out A 1\n",
      "5 : Out A 2\n",
      "6 : Out B 0\n",
      "7 : Out B 1\n",
      "8 : Out B 2\n",
      "9 : [UnionEnsemble]\n"
     ]
    }
   ],
   "source": [
    "srtis_ensembles = scheme.network.sampling_ensembles+scheme.network.special_ensembles['ms_outer'].keys()\n",
    "srtis_ensemble_numbers = {e : srtis_ensembles.index(e) for e in srtis_ensembles}\n",
    "# this next is just for pretty printing\n",
    "srtis_numbers_ensemble = {srtis_ensemble_numbers[e] : e for e in srtis_ensemble_numbers}\n",
    "for k in sorted(srtis_numbers_ensemble.keys()):\n",
    "    print k, \":\", srtis_numbers_ensemble[k].name"
   ]
  },
  {
   "cell_type": "code",
   "execution_count": 35,
   "metadata": {
    "collapsed": true
   },
   "outputs": [],
   "source": [
    "ensemble_trace = paths.trace_ensembles_for_replica(replica, storage)"
   ]
  },
  {
   "cell_type": "code",
   "execution_count": 54,
   "metadata": {
    "collapsed": false
   },
   "outputs": [],
   "source": [
    "hist_numbers = [srtis_ensembles.index(e) for e in ensemble_trace]\n",
    "bins = [i-0.5 for i in range(len(srtis_ensembles)+1)]"
   ]
  },
  {
   "cell_type": "code",
   "execution_count": 55,
   "metadata": {
    "collapsed": false
   },
   "outputs": [
    {
     "data": {
      "image/png": "[encoded data removed]",
      "text/plain": [
       "<matplotlib.figure.Figure at 0x121d091d0>"
      ]
     },
     "metadata": {},
     "output_type": "display_data"
    }
   ],
   "source": [
    "plt.hist(hist_numbers, bins=bins);"
   ]
  },
  {
   "cell_type": "code",
   "execution_count": 96,
   "metadata": {
    "collapsed": false
   },
   "outputs": [],
   "source": [
    "import pandas as pd\n",
    "hist = paths.analysis.Histogram(bin_width=1.0, bin_range=[-0.5,9.5])\n",
    "colnames = [srtis_numbers_ensemble[i].name for i in range(len(srtis_ensembles))]\n",
    "df = pd.DataFrame(columns=colnames)"
   ]
  },
  {
   "cell_type": "code",
   "execution_count": 97,
   "metadata": {
    "collapsed": false
   },
   "outputs": [],
   "source": [
    "for i in range(len(hist_numbers)):\n",
    "    hist.add_data_to_histogram([hist_numbers[i]])\n",
    "    if i % 100 == 0:\n",
    "        local_df = pd.DataFrame([hist.normalized().values()], columns=colnames)\n",
    "        df = df.append(local_df)"
   ]
  },
  {
   "cell_type": "code",
   "execution_count": 98,
   "metadata": {
    "collapsed": false
   },
   "outputs": [
    {
     "data": {
      "text/html": [
       "<div>\n",
       "<table border=\"1\" class=\"dataframe\">\n",
       "  <thead>\n",
       "    <tr style=\"text-align: right;\">\n",
       "      <th></th>\n",
       "      <th>Out C 0</th>\n",
       "      <th>Out C 1</th>\n",
       "      <th>Out C 2</th>\n",
       "      <th>Out A 0</th>\n",
       "      <th>Out A 1</th>\n",
       "      <th>Out A 2</th>\n",
       "      <th>Out B 0</th>\n",
       "      <th>Out B 1</th>\n",
       "      <th>Out B 2</th>\n",
       "      <th>[UnionEnsemble]</th>\n",
       "    </tr>\n",
       "  </thead>\n",
       "  <tbody>\n",
       "    <tr>\n",
       "      <th>0</th>\n",
       "      <td>0.000000</td>\n",
       "      <td>0.000000</td>\n",
       "      <td>0.000000</td>\n",
       "      <td>0.000000</td>\n",
       "      <td>0.000000</td>\n",
       "      <td>1.000000</td>\n",
       "      <td>0.000000</td>\n",
       "      <td>0.000000</td>\n",
       "      <td>0.000000</td>\n",
       "      <td>0.000000</td>\n",
       "    </tr>\n",
       "    <tr>\n",
       "      <th>0</th>\n",
       "      <td>0.000000</td>\n",
       "      <td>0.000000</td>\n",
       "      <td>0.000000</td>\n",
       "      <td>0.000000</td>\n",
       "      <td>0.000000</td>\n",
       "      <td>1.000000</td>\n",
       "      <td>0.000000</td>\n",
       "      <td>0.000000</td>\n",
       "      <td>0.000000</td>\n",
       "      <td>0.000000</td>\n",
       "    </tr>\n",
       "    <tr>\n",
       "      <th>0</th>\n",
       "      <td>0.000000</td>\n",
       "      <td>0.000000</td>\n",
       "      <td>0.000000</td>\n",
       "      <td>0.000000</td>\n",
       "      <td>0.000000</td>\n",
       "      <td>1.000000</td>\n",
       "      <td>0.000000</td>\n",
       "      <td>0.000000</td>\n",
       "      <td>0.000000</td>\n",
       "      <td>0.000000</td>\n",
       "    </tr>\n",
       "    <tr>\n",
       "      <th>0</th>\n",
       "      <td>0.000000</td>\n",
       "      <td>0.000000</td>\n",
       "      <td>0.000000</td>\n",
       "      <td>0.000000</td>\n",
       "      <td>0.000000</td>\n",
       "      <td>1.000000</td>\n",
       "      <td>0.000000</td>\n",
       "      <td>0.000000</td>\n",
       "      <td>0.000000</td>\n",
       "      <td>0.000000</td>\n",
       "    </tr>\n",
       "    <tr>\n",
       "      <th>0</th>\n",
       "      <td>0.000000</td>\n",
       "      <td>0.000000</td>\n",
       "      <td>0.000000</td>\n",
       "      <td>0.000000</td>\n",
       "      <td>0.000000</td>\n",
       "      <td>1.000000</td>\n",
       "      <td>0.000000</td>\n",
       "      <td>0.000000</td>\n",
       "      <td>0.000000</td>\n",
       "      <td>0.000000</td>\n",
       "    </tr>\n",
       "    <tr>\n",
       "      <th>0</th>\n",
       "      <td>0.000000</td>\n",
       "      <td>0.000000</td>\n",
       "      <td>0.000000</td>\n",
       "      <td>0.000000</td>\n",
       "      <td>0.000000</td>\n",
       "      <td>1.000000</td>\n",
       "      <td>0.000000</td>\n",
       "      <td>0.000000</td>\n",
       "      <td>0.000000</td>\n",
       "      <td>0.000000</td>\n",
       "    </tr>\n",
       "    <tr>\n",
       "      <th>0</th>\n",
       "      <td>0.000000</td>\n",
       "      <td>0.000000</td>\n",
       "      <td>0.000000</td>\n",
       "      <td>0.000000</td>\n",
       "      <td>0.000000</td>\n",
       "      <td>1.000000</td>\n",
       "      <td>0.000000</td>\n",
       "      <td>0.000000</td>\n",
       "      <td>0.000000</td>\n",
       "      <td>0.000000</td>\n",
       "    </tr>\n",
       "    <tr>\n",
       "      <th>0</th>\n",
       "      <td>0.000000</td>\n",
       "      <td>0.000000</td>\n",
       "      <td>0.000000</td>\n",
       "      <td>0.000000</td>\n",
       "      <td>0.000000</td>\n",
       "      <td>1.000000</td>\n",
       "      <td>0.000000</td>\n",
       "      <td>0.000000</td>\n",
       "      <td>0.000000</td>\n",
       "      <td>0.000000</td>\n",
       "    </tr>\n",
       "    <tr>\n",
       "      <th>0</th>\n",
       "      <td>0.000000</td>\n",
       "      <td>0.000000</td>\n",
       "      <td>0.000000</td>\n",
       "      <td>0.000000</td>\n",
       "      <td>0.000000</td>\n",
       "      <td>0.875156</td>\n",
       "      <td>0.000000</td>\n",
       "      <td>0.000000</td>\n",
       "      <td>0.000000</td>\n",
       "      <td>0.124844</td>\n",
       "    </tr>\n",
       "    <tr>\n",
       "      <th>0</th>\n",
       "      <td>0.000000</td>\n",
       "      <td>0.000000</td>\n",
       "      <td>0.000000</td>\n",
       "      <td>0.000000</td>\n",
       "      <td>0.000000</td>\n",
       "      <td>0.778024</td>\n",
       "      <td>0.000000</td>\n",
       "      <td>0.000000</td>\n",
       "      <td>0.000000</td>\n",
       "      <td>0.221976</td>\n",
       "    </tr>\n",
       "    <tr>\n",
       "      <th>0</th>\n",
       "      <td>0.000000</td>\n",
       "      <td>0.000000</td>\n",
       "      <td>0.000000</td>\n",
       "      <td>0.000000</td>\n",
       "      <td>0.000000</td>\n",
       "      <td>0.725275</td>\n",
       "      <td>0.000000</td>\n",
       "      <td>0.000000</td>\n",
       "      <td>0.000000</td>\n",
       "      <td>0.274725</td>\n",
       "    </tr>\n",
       "    <tr>\n",
       "      <th>0</th>\n",
       "      <td>0.000000</td>\n",
       "      <td>0.000000</td>\n",
       "      <td>0.000000</td>\n",
       "      <td>0.000000</td>\n",
       "      <td>0.000000</td>\n",
       "      <td>0.659401</td>\n",
       "      <td>0.000000</td>\n",
       "      <td>0.000000</td>\n",
       "      <td>0.000000</td>\n",
       "      <td>0.340599</td>\n",
       "    </tr>\n",
       "    <tr>\n",
       "      <th>0</th>\n",
       "      <td>0.000000</td>\n",
       "      <td>0.000000</td>\n",
       "      <td>0.000000</td>\n",
       "      <td>0.000000</td>\n",
       "      <td>0.000000</td>\n",
       "      <td>0.604496</td>\n",
       "      <td>0.000000</td>\n",
       "      <td>0.000000</td>\n",
       "      <td>0.000000</td>\n",
       "      <td>0.395504</td>\n",
       "    </tr>\n",
       "    <tr>\n",
       "      <th>0</th>\n",
       "      <td>0.000000</td>\n",
       "      <td>0.000000</td>\n",
       "      <td>0.000000</td>\n",
       "      <td>0.000000</td>\n",
       "      <td>0.000000</td>\n",
       "      <td>0.558032</td>\n",
       "      <td>0.000000</td>\n",
       "      <td>0.000000</td>\n",
       "      <td>0.000000</td>\n",
       "      <td>0.441968</td>\n",
       "    </tr>\n",
       "    <tr>\n",
       "      <th>0</th>\n",
       "      <td>0.000000</td>\n",
       "      <td>0.000000</td>\n",
       "      <td>0.000000</td>\n",
       "      <td>0.000000</td>\n",
       "      <td>0.000000</td>\n",
       "      <td>0.518201</td>\n",
       "      <td>0.000000</td>\n",
       "      <td>0.000000</td>\n",
       "      <td>0.000000</td>\n",
       "      <td>0.481799</td>\n",
       "    </tr>\n",
       "    <tr>\n",
       "      <th>0</th>\n",
       "      <td>0.000000</td>\n",
       "      <td>0.000000</td>\n",
       "      <td>0.000000</td>\n",
       "      <td>0.000000</td>\n",
       "      <td>0.000000</td>\n",
       "      <td>0.483678</td>\n",
       "      <td>0.000000</td>\n",
       "      <td>0.000000</td>\n",
       "      <td>0.000000</td>\n",
       "      <td>0.516322</td>\n",
       "    </tr>\n",
       "    <tr>\n",
       "      <th>0</th>\n",
       "      <td>0.000000</td>\n",
       "      <td>0.000000</td>\n",
       "      <td>0.000000</td>\n",
       "      <td>0.000000</td>\n",
       "      <td>0.000000</td>\n",
       "      <td>0.453467</td>\n",
       "      <td>0.000000</td>\n",
       "      <td>0.000000</td>\n",
       "      <td>0.000000</td>\n",
       "      <td>0.546533</td>\n",
       "    </tr>\n",
       "    <tr>\n",
       "      <th>0</th>\n",
       "      <td>0.000000</td>\n",
       "      <td>0.000000</td>\n",
       "      <td>0.000000</td>\n",
       "      <td>0.000000</td>\n",
       "      <td>0.000000</td>\n",
       "      <td>0.426808</td>\n",
       "      <td>0.000000</td>\n",
       "      <td>0.000000</td>\n",
       "      <td>0.000000</td>\n",
       "      <td>0.573192</td>\n",
       "    </tr>\n",
       "    <tr>\n",
       "      <th>0</th>\n",
       "      <td>0.000000</td>\n",
       "      <td>0.000000</td>\n",
       "      <td>0.000000</td>\n",
       "      <td>0.000000</td>\n",
       "      <td>0.000000</td>\n",
       "      <td>0.409772</td>\n",
       "      <td>0.000000</td>\n",
       "      <td>0.000000</td>\n",
       "      <td>0.000000</td>\n",
       "      <td>0.590228</td>\n",
       "    </tr>\n",
       "    <tr>\n",
       "      <th>0</th>\n",
       "      <td>0.000000</td>\n",
       "      <td>0.000000</td>\n",
       "      <td>0.006312</td>\n",
       "      <td>0.000000</td>\n",
       "      <td>0.000000</td>\n",
       "      <td>0.388217</td>\n",
       "      <td>0.000000</td>\n",
       "      <td>0.000000</td>\n",
       "      <td>0.000000</td>\n",
       "      <td>0.605471</td>\n",
       "    </tr>\n",
       "    <tr>\n",
       "      <th>0</th>\n",
       "      <td>0.000000</td>\n",
       "      <td>0.000000</td>\n",
       "      <td>0.055972</td>\n",
       "      <td>0.000000</td>\n",
       "      <td>0.000000</td>\n",
       "      <td>0.368816</td>\n",
       "      <td>0.000000</td>\n",
       "      <td>0.000000</td>\n",
       "      <td>0.000000</td>\n",
       "      <td>0.575212</td>\n",
       "    </tr>\n",
       "    <tr>\n",
       "      <th>0</th>\n",
       "      <td>0.000000</td>\n",
       "      <td>0.000000</td>\n",
       "      <td>0.059495</td>\n",
       "      <td>0.000000</td>\n",
       "      <td>0.000000</td>\n",
       "      <td>0.351261</td>\n",
       "      <td>0.000000</td>\n",
       "      <td>0.000000</td>\n",
       "      <td>0.000000</td>\n",
       "      <td>0.589243</td>\n",
       "    </tr>\n",
       "    <tr>\n",
       "      <th>0</th>\n",
       "      <td>0.000000</td>\n",
       "      <td>0.000000</td>\n",
       "      <td>0.056792</td>\n",
       "      <td>0.000000</td>\n",
       "      <td>0.000000</td>\n",
       "      <td>0.335302</td>\n",
       "      <td>0.000000</td>\n",
       "      <td>0.000000</td>\n",
       "      <td>0.000000</td>\n",
       "      <td>0.607905</td>\n",
       "    </tr>\n",
       "    <tr>\n",
       "      <th>0</th>\n",
       "      <td>0.000000</td>\n",
       "      <td>0.000000</td>\n",
       "      <td>0.054324</td>\n",
       "      <td>0.000000</td>\n",
       "      <td>0.000000</td>\n",
       "      <td>0.320730</td>\n",
       "      <td>0.000000</td>\n",
       "      <td>0.000000</td>\n",
       "      <td>0.000000</td>\n",
       "      <td>0.624946</td>\n",
       "    </tr>\n",
       "    <tr>\n",
       "      <th>0</th>\n",
       "      <td>0.000000</td>\n",
       "      <td>0.000000</td>\n",
       "      <td>0.052062</td>\n",
       "      <td>0.000000</td>\n",
       "      <td>0.000000</td>\n",
       "      <td>0.307372</td>\n",
       "      <td>0.000000</td>\n",
       "      <td>0.000000</td>\n",
       "      <td>0.000000</td>\n",
       "      <td>0.640566</td>\n",
       "    </tr>\n",
       "    <tr>\n",
       "      <th>0</th>\n",
       "      <td>0.000000</td>\n",
       "      <td>0.000000</td>\n",
       "      <td>0.049980</td>\n",
       "      <td>0.000000</td>\n",
       "      <td>0.000000</td>\n",
       "      <td>0.295082</td>\n",
       "      <td>0.000000</td>\n",
       "      <td>0.000000</td>\n",
       "      <td>0.000000</td>\n",
       "      <td>0.654938</td>\n",
       "    </tr>\n",
       "    <tr>\n",
       "      <th>0</th>\n",
       "      <td>0.000000</td>\n",
       "      <td>0.000000</td>\n",
       "      <td>0.048058</td>\n",
       "      <td>0.000000</td>\n",
       "      <td>0.000000</td>\n",
       "      <td>0.283737</td>\n",
       "      <td>0.000000</td>\n",
       "      <td>0.000000</td>\n",
       "      <td>0.000000</td>\n",
       "      <td>0.668205</td>\n",
       "    </tr>\n",
       "    <tr>\n",
       "      <th>0</th>\n",
       "      <td>0.000000</td>\n",
       "      <td>0.000000</td>\n",
       "      <td>0.046279</td>\n",
       "      <td>0.000000</td>\n",
       "      <td>0.000000</td>\n",
       "      <td>0.273232</td>\n",
       "      <td>0.000000</td>\n",
       "      <td>0.000000</td>\n",
       "      <td>0.000000</td>\n",
       "      <td>0.680489</td>\n",
       "    </tr>\n",
       "    <tr>\n",
       "      <th>0</th>\n",
       "      <td>0.000000</td>\n",
       "      <td>0.000000</td>\n",
       "      <td>0.044627</td>\n",
       "      <td>0.000000</td>\n",
       "      <td>0.000000</td>\n",
       "      <td>0.263477</td>\n",
       "      <td>0.000000</td>\n",
       "      <td>0.000000</td>\n",
       "      <td>0.000000</td>\n",
       "      <td>0.691896</td>\n",
       "    </tr>\n",
       "    <tr>\n",
       "      <th>0</th>\n",
       "      <td>0.000000</td>\n",
       "      <td>0.000000</td>\n",
       "      <td>0.043089</td>\n",
       "      <td>0.000000</td>\n",
       "      <td>0.000000</td>\n",
       "      <td>0.254395</td>\n",
       "      <td>0.000000</td>\n",
       "      <td>0.000000</td>\n",
       "      <td>0.000000</td>\n",
       "      <td>0.702516</td>\n",
       "    </tr>\n",
       "    <tr>\n",
       "      <th>...</th>\n",
       "      <td>...</td>\n",
       "      <td>...</td>\n",
       "      <td>...</td>\n",
       "      <td>...</td>\n",
       "      <td>...</td>\n",
       "      <td>...</td>\n",
       "      <td>...</td>\n",
       "      <td>...</td>\n",
       "      <td>...</td>\n",
       "      <td>...</td>\n",
       "    </tr>\n",
       "    <tr>\n",
       "      <th>0</th>\n",
       "      <td>0.016997</td>\n",
       "      <td>0.022051</td>\n",
       "      <td>0.071618</td>\n",
       "      <td>0.035636</td>\n",
       "      <td>0.032634</td>\n",
       "      <td>0.036716</td>\n",
       "      <td>0.015939</td>\n",
       "      <td>0.022203</td>\n",
       "      <td>0.035680</td>\n",
       "      <td>0.710525</td>\n",
       "    </tr>\n",
       "    <tr>\n",
       "      <th>0</th>\n",
       "      <td>0.016961</td>\n",
       "      <td>0.022004</td>\n",
       "      <td>0.071464</td>\n",
       "      <td>0.035560</td>\n",
       "      <td>0.032564</td>\n",
       "      <td>0.036637</td>\n",
       "      <td>0.015905</td>\n",
       "      <td>0.022155</td>\n",
       "      <td>0.035603</td>\n",
       "      <td>0.711148</td>\n",
       "    </tr>\n",
       "    <tr>\n",
       "      <th>0</th>\n",
       "      <td>0.016924</td>\n",
       "      <td>0.021957</td>\n",
       "      <td>0.071310</td>\n",
       "      <td>0.035483</td>\n",
       "      <td>0.032494</td>\n",
       "      <td>0.036558</td>\n",
       "      <td>0.015871</td>\n",
       "      <td>0.022107</td>\n",
       "      <td>0.035526</td>\n",
       "      <td>0.711770</td>\n",
       "    </tr>\n",
       "    <tr>\n",
       "      <th>0</th>\n",
       "      <td>0.016888</td>\n",
       "      <td>0.021909</td>\n",
       "      <td>0.071157</td>\n",
       "      <td>0.035407</td>\n",
       "      <td>0.032424</td>\n",
       "      <td>0.036480</td>\n",
       "      <td>0.015837</td>\n",
       "      <td>0.022060</td>\n",
       "      <td>0.035450</td>\n",
       "      <td>0.712388</td>\n",
       "    </tr>\n",
       "    <tr>\n",
       "      <th>0</th>\n",
       "      <td>0.016852</td>\n",
       "      <td>0.021862</td>\n",
       "      <td>0.071005</td>\n",
       "      <td>0.035331</td>\n",
       "      <td>0.032355</td>\n",
       "      <td>0.036402</td>\n",
       "      <td>0.015803</td>\n",
       "      <td>0.022012</td>\n",
       "      <td>0.035374</td>\n",
       "      <td>0.713004</td>\n",
       "    </tr>\n",
       "    <tr>\n",
       "      <th>0</th>\n",
       "      <td>0.016816</td>\n",
       "      <td>0.021816</td>\n",
       "      <td>0.070853</td>\n",
       "      <td>0.035256</td>\n",
       "      <td>0.032286</td>\n",
       "      <td>0.036324</td>\n",
       "      <td>0.015769</td>\n",
       "      <td>0.021965</td>\n",
       "      <td>0.035298</td>\n",
       "      <td>0.713617</td>\n",
       "    </tr>\n",
       "    <tr>\n",
       "      <th>0</th>\n",
       "      <td>0.016780</td>\n",
       "      <td>0.021769</td>\n",
       "      <td>0.070702</td>\n",
       "      <td>0.035180</td>\n",
       "      <td>0.032217</td>\n",
       "      <td>0.036247</td>\n",
       "      <td>0.015735</td>\n",
       "      <td>0.021919</td>\n",
       "      <td>0.035223</td>\n",
       "      <td>0.714228</td>\n",
       "    </tr>\n",
       "    <tr>\n",
       "      <th>0</th>\n",
       "      <td>0.016744</td>\n",
       "      <td>0.021723</td>\n",
       "      <td>0.070552</td>\n",
       "      <td>0.035106</td>\n",
       "      <td>0.032148</td>\n",
       "      <td>0.036169</td>\n",
       "      <td>0.015702</td>\n",
       "      <td>0.021872</td>\n",
       "      <td>0.035148</td>\n",
       "      <td>0.714836</td>\n",
       "    </tr>\n",
       "    <tr>\n",
       "      <th>0</th>\n",
       "      <td>0.016709</td>\n",
       "      <td>0.021677</td>\n",
       "      <td>0.070402</td>\n",
       "      <td>0.035031</td>\n",
       "      <td>0.032080</td>\n",
       "      <td>0.036093</td>\n",
       "      <td>0.015668</td>\n",
       "      <td>0.021825</td>\n",
       "      <td>0.035074</td>\n",
       "      <td>0.715441</td>\n",
       "    </tr>\n",
       "    <tr>\n",
       "      <th>0</th>\n",
       "      <td>0.016673</td>\n",
       "      <td>0.021631</td>\n",
       "      <td>0.070253</td>\n",
       "      <td>0.034957</td>\n",
       "      <td>0.032012</td>\n",
       "      <td>0.036016</td>\n",
       "      <td>0.015635</td>\n",
       "      <td>0.021779</td>\n",
       "      <td>0.034999</td>\n",
       "      <td>0.716044</td>\n",
       "    </tr>\n",
       "    <tr>\n",
       "      <th>0</th>\n",
       "      <td>0.016638</td>\n",
       "      <td>0.021585</td>\n",
       "      <td>0.070104</td>\n",
       "      <td>0.034883</td>\n",
       "      <td>0.031944</td>\n",
       "      <td>0.035940</td>\n",
       "      <td>0.015602</td>\n",
       "      <td>0.021733</td>\n",
       "      <td>0.034925</td>\n",
       "      <td>0.716644</td>\n",
       "    </tr>\n",
       "    <tr>\n",
       "      <th>0</th>\n",
       "      <td>0.016603</td>\n",
       "      <td>0.021540</td>\n",
       "      <td>0.069956</td>\n",
       "      <td>0.034809</td>\n",
       "      <td>0.031877</td>\n",
       "      <td>0.035864</td>\n",
       "      <td>0.015569</td>\n",
       "      <td>0.021687</td>\n",
       "      <td>0.034852</td>\n",
       "      <td>0.717242</td>\n",
       "    </tr>\n",
       "    <tr>\n",
       "      <th>0</th>\n",
       "      <td>0.016568</td>\n",
       "      <td>0.021494</td>\n",
       "      <td>0.069809</td>\n",
       "      <td>0.034736</td>\n",
       "      <td>0.031810</td>\n",
       "      <td>0.035789</td>\n",
       "      <td>0.015537</td>\n",
       "      <td>0.021642</td>\n",
       "      <td>0.034778</td>\n",
       "      <td>0.717838</td>\n",
       "    </tr>\n",
       "    <tr>\n",
       "      <th>0</th>\n",
       "      <td>0.016533</td>\n",
       "      <td>0.021449</td>\n",
       "      <td>0.070041</td>\n",
       "      <td>0.034663</td>\n",
       "      <td>0.031743</td>\n",
       "      <td>0.035714</td>\n",
       "      <td>0.015504</td>\n",
       "      <td>0.021596</td>\n",
       "      <td>0.034705</td>\n",
       "      <td>0.718052</td>\n",
       "    </tr>\n",
       "    <tr>\n",
       "      <th>0</th>\n",
       "      <td>0.016499</td>\n",
       "      <td>0.021404</td>\n",
       "      <td>0.069894</td>\n",
       "      <td>0.034590</td>\n",
       "      <td>0.031676</td>\n",
       "      <td>0.035639</td>\n",
       "      <td>0.015471</td>\n",
       "      <td>0.021551</td>\n",
       "      <td>0.034632</td>\n",
       "      <td>0.718643</td>\n",
       "    </tr>\n",
       "    <tr>\n",
       "      <th>0</th>\n",
       "      <td>0.016464</td>\n",
       "      <td>0.021359</td>\n",
       "      <td>0.069747</td>\n",
       "      <td>0.034518</td>\n",
       "      <td>0.031610</td>\n",
       "      <td>0.035564</td>\n",
       "      <td>0.015439</td>\n",
       "      <td>0.021506</td>\n",
       "      <td>0.035501</td>\n",
       "      <td>0.718290</td>\n",
       "    </tr>\n",
       "    <tr>\n",
       "      <th>0</th>\n",
       "      <td>0.016430</td>\n",
       "      <td>0.021315</td>\n",
       "      <td>0.069602</td>\n",
       "      <td>0.034446</td>\n",
       "      <td>0.031544</td>\n",
       "      <td>0.035490</td>\n",
       "      <td>0.015407</td>\n",
       "      <td>0.021461</td>\n",
       "      <td>0.035427</td>\n",
       "      <td>0.718879</td>\n",
       "    </tr>\n",
       "    <tr>\n",
       "      <th>0</th>\n",
       "      <td>0.016395</td>\n",
       "      <td>0.021270</td>\n",
       "      <td>0.069457</td>\n",
       "      <td>0.034374</td>\n",
       "      <td>0.031479</td>\n",
       "      <td>0.035416</td>\n",
       "      <td>0.015375</td>\n",
       "      <td>0.021416</td>\n",
       "      <td>0.035791</td>\n",
       "      <td>0.719027</td>\n",
       "    </tr>\n",
       "    <tr>\n",
       "      <th>0</th>\n",
       "      <td>0.016361</td>\n",
       "      <td>0.021268</td>\n",
       "      <td>0.071121</td>\n",
       "      <td>0.034303</td>\n",
       "      <td>0.031413</td>\n",
       "      <td>0.035342</td>\n",
       "      <td>0.015343</td>\n",
       "      <td>0.021372</td>\n",
       "      <td>0.035717</td>\n",
       "      <td>0.717761</td>\n",
       "    </tr>\n",
       "    <tr>\n",
       "      <th>0</th>\n",
       "      <td>0.016327</td>\n",
       "      <td>0.021286</td>\n",
       "      <td>0.072986</td>\n",
       "      <td>0.034232</td>\n",
       "      <td>0.031348</td>\n",
       "      <td>0.035269</td>\n",
       "      <td>0.015311</td>\n",
       "      <td>0.021327</td>\n",
       "      <td>0.035642</td>\n",
       "      <td>0.716271</td>\n",
       "    </tr>\n",
       "    <tr>\n",
       "      <th>0</th>\n",
       "      <td>0.016294</td>\n",
       "      <td>0.021242</td>\n",
       "      <td>0.073415</td>\n",
       "      <td>0.034161</td>\n",
       "      <td>0.031283</td>\n",
       "      <td>0.035196</td>\n",
       "      <td>0.015279</td>\n",
       "      <td>0.021283</td>\n",
       "      <td>0.035569</td>\n",
       "      <td>0.716279</td>\n",
       "    </tr>\n",
       "    <tr>\n",
       "      <th>0</th>\n",
       "      <td>0.016260</td>\n",
       "      <td>0.021198</td>\n",
       "      <td>0.073263</td>\n",
       "      <td>0.034090</td>\n",
       "      <td>0.031218</td>\n",
       "      <td>0.035123</td>\n",
       "      <td>0.015248</td>\n",
       "      <td>0.021239</td>\n",
       "      <td>0.035495</td>\n",
       "      <td>0.716865</td>\n",
       "    </tr>\n",
       "    <tr>\n",
       "      <th>0</th>\n",
       "      <td>0.016226</td>\n",
       "      <td>0.021154</td>\n",
       "      <td>0.073112</td>\n",
       "      <td>0.034020</td>\n",
       "      <td>0.031154</td>\n",
       "      <td>0.035051</td>\n",
       "      <td>0.015216</td>\n",
       "      <td>0.021195</td>\n",
       "      <td>0.035422</td>\n",
       "      <td>0.717449</td>\n",
       "    </tr>\n",
       "    <tr>\n",
       "      <th>0</th>\n",
       "      <td>0.016193</td>\n",
       "      <td>0.021111</td>\n",
       "      <td>0.073023</td>\n",
       "      <td>0.033950</td>\n",
       "      <td>0.031090</td>\n",
       "      <td>0.034979</td>\n",
       "      <td>0.015185</td>\n",
       "      <td>0.021152</td>\n",
       "      <td>0.035349</td>\n",
       "      <td>0.717969</td>\n",
       "    </tr>\n",
       "    <tr>\n",
       "      <th>0</th>\n",
       "      <td>0.016160</td>\n",
       "      <td>0.021067</td>\n",
       "      <td>0.074927</td>\n",
       "      <td>0.033880</td>\n",
       "      <td>0.031026</td>\n",
       "      <td>0.034907</td>\n",
       "      <td>0.015154</td>\n",
       "      <td>0.021108</td>\n",
       "      <td>0.035276</td>\n",
       "      <td>0.716495</td>\n",
       "    </tr>\n",
       "    <tr>\n",
       "      <th>0</th>\n",
       "      <td>0.016127</td>\n",
       "      <td>0.021024</td>\n",
       "      <td>0.076822</td>\n",
       "      <td>0.033811</td>\n",
       "      <td>0.030962</td>\n",
       "      <td>0.034835</td>\n",
       "      <td>0.015123</td>\n",
       "      <td>0.021065</td>\n",
       "      <td>0.035204</td>\n",
       "      <td>0.715026</td>\n",
       "    </tr>\n",
       "    <tr>\n",
       "      <th>0</th>\n",
       "      <td>0.016094</td>\n",
       "      <td>0.021554</td>\n",
       "      <td>0.078137</td>\n",
       "      <td>0.033742</td>\n",
       "      <td>0.030899</td>\n",
       "      <td>0.034764</td>\n",
       "      <td>0.015092</td>\n",
       "      <td>0.021022</td>\n",
       "      <td>0.035132</td>\n",
       "      <td>0.713564</td>\n",
       "    </tr>\n",
       "    <tr>\n",
       "      <th>0</th>\n",
       "      <td>0.016061</td>\n",
       "      <td>0.021775</td>\n",
       "      <td>0.079141</td>\n",
       "      <td>0.033673</td>\n",
       "      <td>0.030836</td>\n",
       "      <td>0.034693</td>\n",
       "      <td>0.015061</td>\n",
       "      <td>0.020979</td>\n",
       "      <td>0.035061</td>\n",
       "      <td>0.712720</td>\n",
       "    </tr>\n",
       "    <tr>\n",
       "      <th>0</th>\n",
       "      <td>0.016028</td>\n",
       "      <td>0.021731</td>\n",
       "      <td>0.078980</td>\n",
       "      <td>0.033604</td>\n",
       "      <td>0.030773</td>\n",
       "      <td>0.034623</td>\n",
       "      <td>0.015030</td>\n",
       "      <td>0.020936</td>\n",
       "      <td>0.034989</td>\n",
       "      <td>0.713305</td>\n",
       "    </tr>\n",
       "    <tr>\n",
       "      <th>0</th>\n",
       "      <td>0.015996</td>\n",
       "      <td>0.021687</td>\n",
       "      <td>0.078820</td>\n",
       "      <td>0.033536</td>\n",
       "      <td>0.030711</td>\n",
       "      <td>0.034552</td>\n",
       "      <td>0.015000</td>\n",
       "      <td>0.020894</td>\n",
       "      <td>0.034918</td>\n",
       "      <td>0.713888</td>\n",
       "    </tr>\n",
       "  </tbody>\n",
       "</table>\n",
       "<p>493 rows × 10 columns</p>\n",
       "</div>"
      ],
      "text/plain": [
       "     Out C 0   Out C 1   Out C 2   Out A 0   Out A 1   Out A 2   Out B 0  \\\n",
       "0   0.000000  0.000000  0.000000  0.000000  0.000000  1.000000  0.000000   \n",
       "0   0.000000  0.000000  0.000000  0.000000  0.000000  1.000000  0.000000   \n",
       "0   0.000000  0.000000  0.000000  0.000000  0.000000  1.000000  0.000000   \n",
       "0   0.000000  0.000000  0.000000  0.000000  0.000000  1.000000  0.000000   \n",
       "0   0.000000  0.000000  0.000000  0.000000  0.000000  1.000000  0.000000   \n",
       "0   0.000000  0.000000  0.000000  0.000000  0.000000  1.000000  0.000000   \n",
       "0   0.000000  0.000000  0.000000  0.000000  0.000000  1.000000  0.000000   \n",
       "0   0.000000  0.000000  0.000000  0.000000  0.000000  1.000000  0.000000   \n",
       "0   0.000000  0.000000  0.000000  0.000000  0.000000  0.875156  0.000000   \n",
       "0   0.000000  0.000000  0.000000  0.000000  0.000000  0.778024  0.000000   \n",
       "0   0.000000  0.000000  0.000000  0.000000  0.000000  0.725275  0.000000   \n",
       "0   0.000000  0.000000  0.000000  0.000000  0.000000  0.659401  0.000000   \n",
       "0   0.000000  0.000000  0.000000  0.000000  0.000000  0.604496  0.000000   \n",
       "0   0.000000  0.000000  0.000000  0.000000  0.000000  0.558032  0.000000   \n",
       "0   0.000000  0.000000  0.000000  0.000000  0.000000  0.518201  0.000000   \n",
       "0   0.000000  0.000000  0.000000  0.000000  0.000000  0.483678  0.000000   \n",
       "0   0.000000  0.000000  0.000000  0.000000  0.000000  0.453467  0.000000   \n",
       "0   0.000000  0.000000  0.000000  0.000000  0.000000  0.426808  0.000000   \n",
       "0   0.000000  0.000000  0.000000  0.000000  0.000000  0.409772  0.000000   \n",
       "0   0.000000  0.000000  0.006312  0.000000  0.000000  0.388217  0.000000   \n",
       "0   0.000000  0.000000  0.055972  0.000000  0.000000  0.368816  0.000000   \n",
       "0   0.000000  0.000000  0.059495  0.000000  0.000000  0.351261  0.000000   \n",
       "0   0.000000  0.000000  0.056792  0.000000  0.000000  0.335302  0.000000   \n",
       "0   0.000000  0.000000  0.054324  0.000000  0.000000  0.320730  0.000000   \n",
       "0   0.000000  0.000000  0.052062  0.000000  0.000000  0.307372  0.000000   \n",
       "0   0.000000  0.000000  0.049980  0.000000  0.000000  0.295082  0.000000   \n",
       "0   0.000000  0.000000  0.048058  0.000000  0.000000  0.283737  0.000000   \n",
       "0   0.000000  0.000000  0.046279  0.000000  0.000000  0.273232  0.000000   \n",
       "0   0.000000  0.000000  0.044627  0.000000  0.000000  0.263477  0.000000   \n",
       "0   0.000000  0.000000  0.043089  0.000000  0.000000  0.254395  0.000000   \n",
       "..       ...       ...       ...       ...       ...       ...       ...   \n",
       "0   0.016997  0.022051  0.071618  0.035636  0.032634  0.036716  0.015939   \n",
       "0   0.016961  0.022004  0.071464  0.035560  0.032564  0.036637  0.015905   \n",
       "0   0.016924  0.021957  0.071310  0.035483  0.032494  0.036558  0.015871   \n",
       "0   0.016888  0.021909  0.071157  0.035407  0.032424  0.036480  0.015837   \n",
       "0   0.016852  0.021862  0.071005  0.035331  0.032355  0.036402  0.015803   \n",
       "0   0.016816  0.021816  0.070853  0.035256  0.032286  0.036324  0.015769   \n",
       "0   0.016780  0.021769  0.070702  0.035180  0.032217  0.036247  0.015735   \n",
       "0   0.016744  0.021723  0.070552  0.035106  0.032148  0.036169  0.015702   \n",
       "0   0.016709  0.021677  0.070402  0.035031  0.032080  0.036093  0.015668   \n",
       "0   0.016673  0.021631  0.070253  0.034957  0.032012  0.036016  0.015635   \n",
       "0   0.016638  0.021585  0.070104  0.034883  0.031944  0.035940  0.015602   \n",
       "0   0.016603  0.021540  0.069956  0.034809  0.031877  0.035864  0.015569   \n",
       "0   0.016568  0.021494  0.069809  0.034736  0.031810  0.035789  0.015537   \n",
       "0   0.016533  0.021449  0.070041  0.034663  0.031743  0.035714  0.015504   \n",
       "0   0.016499  0.021404  0.069894  0.034590  0.031676  0.035639  0.015471   \n",
       "0   0.016464  0.021359  0.069747  0.034518  0.031610  0.035564  0.015439   \n",
       "0   0.016430  0.021315  0.069602  0.034446  0.031544  0.035490  0.015407   \n",
       "0   0.016395  0.021270  0.069457  0.034374  0.031479  0.035416  0.015375   \n",
       "0   0.016361  0.021268  0.071121  0.034303  0.031413  0.035342  0.015343   \n",
       "0   0.016327  0.021286  0.072986  0.034232  0.031348  0.035269  0.015311   \n",
       "0   0.016294  0.021242  0.073415  0.034161  0.031283  0.035196  0.015279   \n",
       "0   0.016260  0.021198  0.073263  0.034090  0.031218  0.035123  0.015248   \n",
       "0   0.016226  0.021154  0.073112  0.034020  0.031154  0.035051  0.015216   \n",
       "0   0.016193  0.021111  0.073023  0.033950  0.031090  0.034979  0.015185   \n",
       "0   0.016160  0.021067  0.074927  0.033880  0.031026  0.034907  0.015154   \n",
       "0   0.016127  0.021024  0.076822  0.033811  0.030962  0.034835  0.015123   \n",
       "0   0.016094  0.021554  0.078137  0.033742  0.030899  0.034764  0.015092   \n",
       "0   0.016061  0.021775  0.079141  0.033673  0.030836  0.034693  0.015061   \n",
       "0   0.016028  0.021731  0.078980  0.033604  0.030773  0.034623  0.015030   \n",
       "0   0.015996  0.021687  0.078820  0.033536  0.030711  0.034552  0.015000   \n",
       "\n",
       "     Out B 1   Out B 2  [UnionEnsemble]  \n",
       "0   0.000000  0.000000         0.000000  \n",
       "0   0.000000  0.000000         0.000000  \n",
       "0   0.000000  0.000000         0.000000  \n",
       "0   0.000000  0.000000         0.000000  \n",
       "0   0.000000  0.000000         0.000000  \n",
       "0   0.000000  0.000000         0.000000  \n",
       "0   0.000000  0.000000         0.000000  \n",
       "0   0.000000  0.000000         0.000000  \n",
       "0   0.000000  0.000000         0.124844  \n",
       "0   0.000000  0.000000         0.221976  \n",
       "0   0.000000  0.000000         0.274725  \n",
       "0   0.000000  0.000000         0.340599  \n",
       "0   0.000000  0.000000         0.395504  \n",
       "0   0.000000  0.000000         0.441968  \n",
       "0   0.000000  0.000000         0.481799  \n",
       "0   0.000000  0.000000         0.516322  \n",
       "0   0.000000  0.000000         0.546533  \n",
       "0   0.000000  0.000000         0.573192  \n",
       "0   0.000000  0.000000         0.590228  \n",
       "0   0.000000  0.000000         0.605471  \n",
       "0   0.000000  0.000000         0.575212  \n",
       "0   0.000000  0.000000         0.589243  \n",
       "0   0.000000  0.000000         0.607905  \n",
       "0   0.000000  0.000000         0.624946  \n",
       "0   0.000000  0.000000         0.640566  \n",
       "0   0.000000  0.000000         0.654938  \n",
       "0   0.000000  0.000000         0.668205  \n",
       "0   0.000000  0.000000         0.680489  \n",
       "0   0.000000  0.000000         0.691896  \n",
       "0   0.000000  0.000000         0.702516  \n",
       "..       ...       ...              ...  \n",
       "0   0.022203  0.035680         0.710525  \n",
       "0   0.022155  0.035603         0.711148  \n",
       "0   0.022107  0.035526         0.711770  \n",
       "0   0.022060  0.035450         0.712388  \n",
       "0   0.022012  0.035374         0.713004  \n",
       "0   0.021965  0.035298         0.713617  \n",
       "0   0.021919  0.035223         0.714228  \n",
       "0   0.021872  0.035148         0.714836  \n",
       "0   0.021825  0.035074         0.715441  \n",
       "0   0.021779  0.034999         0.716044  \n",
       "0   0.021733  0.034925         0.716644  \n",
       "0   0.021687  0.034852         0.717242  \n",
       "0   0.021642  0.034778         0.717838  \n",
       "0   0.021596  0.034705         0.718052  \n",
       "0   0.021551  0.034632         0.718643  \n",
       "0   0.021506  0.035501         0.718290  \n",
       "0   0.021461  0.035427         0.718879  \n",
       "0   0.021416  0.035791         0.719027  \n",
       "0   0.021372  0.035717         0.717761  \n",
       "0   0.021327  0.035642         0.716271  \n",
       "0   0.021283  0.035569         0.716279  \n",
       "0   0.021239  0.035495         0.716865  \n",
       "0   0.021195  0.035422         0.717449  \n",
       "0   0.021152  0.035349         0.717969  \n",
       "0   0.021108  0.035276         0.716495  \n",
       "0   0.021065  0.035204         0.715026  \n",
       "0   0.021022  0.035132         0.713564  \n",
       "0   0.020979  0.035061         0.712720  \n",
       "0   0.020936  0.034989         0.713305  \n",
       "0   0.020894  0.034918         0.713888  \n",
       "\n",
       "[493 rows x 10 columns]"
      ]
     },
     "execution_count": 98,
     "metadata": {},
     "output_type": "execute_result"
    }
   ],
   "source": [
    "df"
   ]
  },
  {
   "cell_type": "code",
   "execution_count": null,
   "metadata": {
    "collapsed": true
   },
   "outputs": [],
   "source": []
  }
 ],
 "metadata": {
  "kernelspec": {
   "display_name": "Python 2",
   "language": "python",
   "name": "python2"
  },
  "language_info": {
   "codemirror_mode": {
    "name": "ipython",
    "version": 2
   },
   "file_extension": ".py",
   "mimetype": "text/x-python",
   "name": "python",
   "nbconvert_exporter": "python",
   "pygments_lexer": "ipython2",
   "version": "2.7.11"
  }
 },
 "nbformat": 4,
 "nbformat_minor": 0
}

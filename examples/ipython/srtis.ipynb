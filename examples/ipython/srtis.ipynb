{
 "cells": [
  {
   "cell_type": "markdown",
   "metadata": {},
   "source": [
    "# Single Replica TIS\n",
    "\n",
    "This notebook shows how to run single replica TIS move scheme. This assumes you can load engine, network, and initial sample from a previous calculation."
   ]
  },
  {
   "cell_type": "code",
   "execution_count": 1,
   "metadata": {
    "collapsed": false
   },
   "outputs": [],
   "source": [
    "%matplotlib inline\n",
    "import openpathsampling as paths\n",
    "import numpy as np\n",
    "import matplotlib.pyplot as plt"
   ]
  },
  {
   "cell_type": "code",
   "execution_count": 2,
   "metadata": {
    "collapsed": false
   },
   "outputs": [],
   "source": [
    "from openpathsampling.visualize import PathTreeBuilder, PathTreeBuilder\n",
    "from IPython.display import SVG, HTML\n",
    "\n",
    "def ipynb_visualize(movevis):\n",
    "    \"\"\"Default settings to show a movevis in an ipynb.\"\"\"\n",
    "    view = movevis.renderer\n",
    "    view.zoom = 1.5\n",
    "    view.scale_y = 18\n",
    "    view.scale_th = 20\n",
    "    view.font_size = 0.4\n",
    "    return view"
   ]
  },
  {
   "cell_type": "markdown",
   "metadata": {},
   "source": [
    "Open the storage and load things from it."
   ]
  },
  {
   "cell_type": "code",
   "execution_count": 3,
   "metadata": {
    "collapsed": false
   },
   "outputs": [],
   "source": [
    "#old_store = paths.AnalysisStorage(\"mstis.nc\")\n",
    "old_store = paths.Storage(\"mstis.nc\")  # if not actually doing analysis, but loading network, etc"
   ]
  },
  {
   "cell_type": "code",
   "execution_count": 4,
   "metadata": {
    "collapsed": false
   },
   "outputs": [],
   "source": [
    "network = old_store.networks[0]\n",
    "engine = old_store.engines[0]\n",
    "template = old_store.snapshots[0]"
   ]
  },
  {
   "cell_type": "code",
   "execution_count": 5,
   "metadata": {
    "collapsed": false
   },
   "outputs": [],
   "source": [
    "network.hist_args['max_lambda'] = { 'bin_width' : 0.02, 'bin_range' : (0.0, 0.5) }\n",
    "network.hist_args['pathlength'] = { 'bin_width' : 5, 'bin_range' : (0, 150) }\n",
    "#rate = network.rate_matrix(old_store.steps)"
   ]
  },
  {
   "cell_type": "markdown",
   "metadata": {},
   "source": [
    "One of the points of SRTIS is that we use a bias (which comes from an estimate of the crossing probability) in order to improve our sampling."
   ]
  },
  {
   "cell_type": "code",
   "execution_count": 6,
   "metadata": {
    "collapsed": false
   },
   "outputs": [],
   "source": [
    "# this is the normal way you'd get this table\n",
    "#table = {}\n",
    "#for t in network.sampling_transitions:\n",
    "#    for ens, lambda_ens in zip(t.ensembles, [0.04, 0.09, 0.15]):\n",
    "#        table[ens] = t.tcp(lambda_ens)\n",
    "#for ens in network.special_ensembles['ms_outer'].keys():\n",
    "#    table[ens] = 0.0\n",
    "#    for t in network.sampling_transitions:\n",
    "#        table[ens] += t.tcp(0.25)\n",
    "#    table[ens] *= len(network.special_ensembles['ms_outer'].keys())\n",
    "#    # TODO: Justify the math behind that. Also, run it a bunch more times.\n",
    "    \n",
    "# Here are results that I got from a 20k MC step run\n",
    "dict_A = {\n",
    "    \"Out A 0\" : 1.0,\n",
    "    \"Out A 1\" : 0.13293104100673198,\n",
    "    \"Out A 2\" : 0.044370838092911397,\n",
    "    \"[UnionEnsemble]\" : 0.021975696374764188\n",
    "}\n",
    "\n",
    "dict_B = {\n",
    "    \"Out B 0\" : 1.0,\n",
    "    \"Out B 1\" : 0.13846029208307947,\n",
    "    \"Out B 2\" : 0.042622152070289694,\n",
    "    \"[UnionEnsemble]\" : 0.021955804935886884    \n",
    "}\n",
    "\n",
    "dict_C = {\n",
    "    \"Out C 0\" : 1.0,\n",
    "    \"Out C 1\" : 0.19485705066078274,\n",
    "    \"Out C 2\" : 0.053373003923696649,\n",
    "    \"[UnionEnsemble]\" : 0.029175949467020165    \n",
    "}"
   ]
  },
  {
   "cell_type": "code",
   "execution_count": 7,
   "metadata": {
    "collapsed": false
   },
   "outputs": [],
   "source": [
    "stateA = old_store.volumes['A']\n",
    "stateB = old_store.volumes['B']\n",
    "stateC = old_store.volumes['C']\n",
    "enslist_A = network.transitions[(stateA, stateB)].ensembles + network.special_ensembles['ms_outer'].keys()\n",
    "enslist_B = network.transitions[(stateB, stateA)].ensembles + network.special_ensembles['ms_outer'].keys()\n",
    "enslist_C = network.transitions[(stateC, stateA)].ensembles + network.special_ensembles['ms_outer'].keys()\n",
    "bias_A = paths.BiasEnsembleTable.ratios_from_dictionary({ens : dict_A[ens.name] for ens in enslist_A})\n",
    "bias_B = paths.BiasEnsembleTable.ratios_from_dictionary({ens : dict_B[ens.name] for ens in enslist_B})\n",
    "bias_C = paths.BiasEnsembleTable.ratios_from_dictionary({ens : dict_C[ens.name] for ens in enslist_C})"
   ]
  },
  {
   "cell_type": "code",
   "execution_count": 8,
   "metadata": {
    "collapsed": false
   },
   "outputs": [
    {
     "data": {
      "text/html": [
       "<div>\n",
       "<table border=\"1\" class=\"dataframe\">\n",
       "  <thead>\n",
       "    <tr style=\"text-align: right;\">\n",
       "      <th></th>\n",
       "      <th>Out A 0</th>\n",
       "      <th>Out A 1</th>\n",
       "      <th>Out A 2</th>\n",
       "      <th>[UnionEnsemble]</th>\n",
       "    </tr>\n",
       "  </thead>\n",
       "  <tbody>\n",
       "    <tr>\n",
       "      <th>Out A 0</th>\n",
       "      <td>1</td>\n",
       "      <td>7.5227</td>\n",
       "      <td>22.5373</td>\n",
       "      <td>45.5048</td>\n",
       "    </tr>\n",
       "    <tr>\n",
       "      <th>Out A 1</th>\n",
       "      <td>0.132931</td>\n",
       "      <td>1</td>\n",
       "      <td>2.99591</td>\n",
       "      <td>6.049</td>\n",
       "    </tr>\n",
       "    <tr>\n",
       "      <th>Out A 2</th>\n",
       "      <td>0.0443708</td>\n",
       "      <td>0.333788</td>\n",
       "      <td>1</td>\n",
       "      <td>2.01909</td>\n",
       "    </tr>\n",
       "    <tr>\n",
       "      <th>[UnionEnsemble]</th>\n",
       "      <td>0.0219757</td>\n",
       "      <td>0.165317</td>\n",
       "      <td>0.495273</td>\n",
       "      <td>1</td>\n",
       "    </tr>\n",
       "  </tbody>\n",
       "</table>\n",
       "</div>"
      ],
      "text/plain": [
       "                   Out A 0   Out A 1   Out A 2 [UnionEnsemble]\n",
       "Out A 0                  1    7.5227   22.5373         45.5048\n",
       "Out A 1           0.132931         1   2.99591           6.049\n",
       "Out A 2          0.0443708  0.333788         1         2.01909\n",
       "[UnionEnsemble]  0.0219757  0.165317  0.495273               1"
      ]
     },
     "execution_count": 8,
     "metadata": {},
     "output_type": "execute_result"
    }
   ],
   "source": [
    "bias_A.df"
   ]
  },
  {
   "cell_type": "code",
   "execution_count": 9,
   "metadata": {
    "collapsed": false
   },
   "outputs": [
    {
     "data": {
      "text/html": [
       "<div>\n",
       "<table border=\"1\" class=\"dataframe\">\n",
       "  <thead>\n",
       "    <tr style=\"text-align: right;\">\n",
       "      <th></th>\n",
       "      <th>Out B 0</th>\n",
       "      <th>Out B 1</th>\n",
       "      <th>Out B 2</th>\n",
       "      <th>[UnionEnsemble]</th>\n",
       "    </tr>\n",
       "  </thead>\n",
       "  <tbody>\n",
       "    <tr>\n",
       "      <th>Out B 0</th>\n",
       "      <td>1</td>\n",
       "      <td>7.22229</td>\n",
       "      <td>23.462</td>\n",
       "      <td>45.546</td>\n",
       "    </tr>\n",
       "    <tr>\n",
       "      <th>Out B 1</th>\n",
       "      <td>0.13846</td>\n",
       "      <td>1</td>\n",
       "      <td>3.24855</td>\n",
       "      <td>6.30632</td>\n",
       "    </tr>\n",
       "    <tr>\n",
       "      <th>Out B 2</th>\n",
       "      <td>0.0426222</td>\n",
       "      <td>0.307829</td>\n",
       "      <td>1</td>\n",
       "      <td>1.94127</td>\n",
       "    </tr>\n",
       "    <tr>\n",
       "      <th>[UnionEnsemble]</th>\n",
       "      <td>0.0219558</td>\n",
       "      <td>0.158571</td>\n",
       "      <td>0.515127</td>\n",
       "      <td>1</td>\n",
       "    </tr>\n",
       "  </tbody>\n",
       "</table>\n",
       "</div>"
      ],
      "text/plain": [
       "                   Out B 0   Out B 1   Out B 2 [UnionEnsemble]\n",
       "Out B 0                  1   7.22229    23.462          45.546\n",
       "Out B 1            0.13846         1   3.24855         6.30632\n",
       "Out B 2          0.0426222  0.307829         1         1.94127\n",
       "[UnionEnsemble]  0.0219558  0.158571  0.515127               1"
      ]
     },
     "execution_count": 9,
     "metadata": {},
     "output_type": "execute_result"
    }
   ],
   "source": [
    "bias_B.df"
   ]
  },
  {
   "cell_type": "code",
   "execution_count": 10,
   "metadata": {
    "collapsed": false
   },
   "outputs": [
    {
     "data": {
      "text/html": [
       "<div>\n",
       "<table border=\"1\" class=\"dataframe\">\n",
       "  <thead>\n",
       "    <tr style=\"text-align: right;\">\n",
       "      <th></th>\n",
       "      <th>Out C 0</th>\n",
       "      <th>Out C 1</th>\n",
       "      <th>Out C 2</th>\n",
       "      <th>[UnionEnsemble]</th>\n",
       "    </tr>\n",
       "  </thead>\n",
       "  <tbody>\n",
       "    <tr>\n",
       "      <th>Out C 0</th>\n",
       "      <td>1</td>\n",
       "      <td>5.13197</td>\n",
       "      <td>18.7361</td>\n",
       "      <td>34.2748</td>\n",
       "    </tr>\n",
       "    <tr>\n",
       "      <th>Out C 1</th>\n",
       "      <td>0.194857</td>\n",
       "      <td>1</td>\n",
       "      <td>3.65085</td>\n",
       "      <td>6.67869</td>\n",
       "    </tr>\n",
       "    <tr>\n",
       "      <th>Out C 2</th>\n",
       "      <td>0.053373</td>\n",
       "      <td>0.273909</td>\n",
       "      <td>1</td>\n",
       "      <td>1.82935</td>\n",
       "    </tr>\n",
       "    <tr>\n",
       "      <th>[UnionEnsemble]</th>\n",
       "      <td>0.0291759</td>\n",
       "      <td>0.14973</td>\n",
       "      <td>0.546642</td>\n",
       "      <td>1</td>\n",
       "    </tr>\n",
       "  </tbody>\n",
       "</table>\n",
       "</div>"
      ],
      "text/plain": [
       "                   Out C 0   Out C 1   Out C 2 [UnionEnsemble]\n",
       "Out C 0                  1   5.13197   18.7361         34.2748\n",
       "Out C 1           0.194857         1   3.65085         6.67869\n",
       "Out C 2           0.053373  0.273909         1         1.82935\n",
       "[UnionEnsemble]  0.0291759   0.14973  0.546642               1"
      ]
     },
     "execution_count": 10,
     "metadata": {},
     "output_type": "execute_result"
    }
   ],
   "source": [
    "bias_C.df"
   ]
  },
  {
   "cell_type": "code",
   "execution_count": 11,
   "metadata": {
    "collapsed": false
   },
   "outputs": [],
   "source": [
    "bias = bias_A + bias_B + bias_C"
   ]
  },
  {
   "cell_type": "code",
   "execution_count": null,
   "metadata": {
    "collapsed": false
   },
   "outputs": [],
   "source": []
  },
  {
   "cell_type": "code",
   "execution_count": 12,
   "metadata": {
    "collapsed": false
   },
   "outputs": [
    {
     "data": {
      "text/html": [
       "<div>\n",
       "<table border=\"1\" class=\"dataframe\">\n",
       "  <thead>\n",
       "    <tr style=\"text-align: right;\">\n",
       "      <th></th>\n",
       "      <th>Out A 0</th>\n",
       "      <th>Out A 1</th>\n",
       "      <th>Out A 2</th>\n",
       "      <th>Out B 0</th>\n",
       "      <th>Out B 1</th>\n",
       "      <th>Out B 2</th>\n",
       "      <th>Out C 0</th>\n",
       "      <th>Out C 1</th>\n",
       "      <th>Out C 2</th>\n",
       "      <th>[UnionEnsemble]</th>\n",
       "    </tr>\n",
       "  </thead>\n",
       "  <tbody>\n",
       "    <tr>\n",
       "      <th>Out A 0</th>\n",
       "      <td>1</td>\n",
       "      <td>7.5227</td>\n",
       "      <td>22.5373</td>\n",
       "      <td>NaN</td>\n",
       "      <td>NaN</td>\n",
       "      <td>NaN</td>\n",
       "      <td>NaN</td>\n",
       "      <td>NaN</td>\n",
       "      <td>NaN</td>\n",
       "      <td>45.5048</td>\n",
       "    </tr>\n",
       "    <tr>\n",
       "      <th>Out A 1</th>\n",
       "      <td>0.132931</td>\n",
       "      <td>1</td>\n",
       "      <td>2.99591</td>\n",
       "      <td>NaN</td>\n",
       "      <td>NaN</td>\n",
       "      <td>NaN</td>\n",
       "      <td>NaN</td>\n",
       "      <td>NaN</td>\n",
       "      <td>NaN</td>\n",
       "      <td>6.049</td>\n",
       "    </tr>\n",
       "    <tr>\n",
       "      <th>Out A 2</th>\n",
       "      <td>0.0443708</td>\n",
       "      <td>0.333788</td>\n",
       "      <td>1</td>\n",
       "      <td>NaN</td>\n",
       "      <td>NaN</td>\n",
       "      <td>NaN</td>\n",
       "      <td>NaN</td>\n",
       "      <td>NaN</td>\n",
       "      <td>NaN</td>\n",
       "      <td>2.01909</td>\n",
       "    </tr>\n",
       "    <tr>\n",
       "      <th>Out B 0</th>\n",
       "      <td>NaN</td>\n",
       "      <td>NaN</td>\n",
       "      <td>NaN</td>\n",
       "      <td>1</td>\n",
       "      <td>7.22229</td>\n",
       "      <td>23.462</td>\n",
       "      <td>NaN</td>\n",
       "      <td>NaN</td>\n",
       "      <td>NaN</td>\n",
       "      <td>45.546</td>\n",
       "    </tr>\n",
       "    <tr>\n",
       "      <th>Out B 1</th>\n",
       "      <td>NaN</td>\n",
       "      <td>NaN</td>\n",
       "      <td>NaN</td>\n",
       "      <td>0.13846</td>\n",
       "      <td>1</td>\n",
       "      <td>3.24855</td>\n",
       "      <td>NaN</td>\n",
       "      <td>NaN</td>\n",
       "      <td>NaN</td>\n",
       "      <td>6.30632</td>\n",
       "    </tr>\n",
       "    <tr>\n",
       "      <th>Out B 2</th>\n",
       "      <td>NaN</td>\n",
       "      <td>NaN</td>\n",
       "      <td>NaN</td>\n",
       "      <td>0.0426222</td>\n",
       "      <td>0.307829</td>\n",
       "      <td>1</td>\n",
       "      <td>NaN</td>\n",
       "      <td>NaN</td>\n",
       "      <td>NaN</td>\n",
       "      <td>1.94127</td>\n",
       "    </tr>\n",
       "    <tr>\n",
       "      <th>Out C 0</th>\n",
       "      <td>NaN</td>\n",
       "      <td>NaN</td>\n",
       "      <td>NaN</td>\n",
       "      <td>NaN</td>\n",
       "      <td>NaN</td>\n",
       "      <td>NaN</td>\n",
       "      <td>1</td>\n",
       "      <td>5.13197</td>\n",
       "      <td>18.7361</td>\n",
       "      <td>34.2748</td>\n",
       "    </tr>\n",
       "    <tr>\n",
       "      <th>Out C 1</th>\n",
       "      <td>NaN</td>\n",
       "      <td>NaN</td>\n",
       "      <td>NaN</td>\n",
       "      <td>NaN</td>\n",
       "      <td>NaN</td>\n",
       "      <td>NaN</td>\n",
       "      <td>0.194857</td>\n",
       "      <td>1</td>\n",
       "      <td>3.65085</td>\n",
       "      <td>6.67869</td>\n",
       "    </tr>\n",
       "    <tr>\n",
       "      <th>Out C 2</th>\n",
       "      <td>NaN</td>\n",
       "      <td>NaN</td>\n",
       "      <td>NaN</td>\n",
       "      <td>NaN</td>\n",
       "      <td>NaN</td>\n",
       "      <td>NaN</td>\n",
       "      <td>0.053373</td>\n",
       "      <td>0.273909</td>\n",
       "      <td>1</td>\n",
       "      <td>1.82935</td>\n",
       "    </tr>\n",
       "    <tr>\n",
       "      <th>[UnionEnsemble]</th>\n",
       "      <td>0.0219757</td>\n",
       "      <td>0.165317</td>\n",
       "      <td>0.495273</td>\n",
       "      <td>0.0219558</td>\n",
       "      <td>0.158571</td>\n",
       "      <td>0.515127</td>\n",
       "      <td>0.0291759</td>\n",
       "      <td>0.14973</td>\n",
       "      <td>0.546642</td>\n",
       "      <td>1</td>\n",
       "    </tr>\n",
       "  </tbody>\n",
       "</table>\n",
       "</div>"
      ],
      "text/plain": [
       "                   Out A 0   Out A 1   Out A 2    Out B 0   Out B 1   Out B 2  \\\n",
       "Out A 0                  1    7.5227   22.5373        NaN       NaN       NaN   \n",
       "Out A 1           0.132931         1   2.99591        NaN       NaN       NaN   \n",
       "Out A 2          0.0443708  0.333788         1        NaN       NaN       NaN   \n",
       "Out B 0                NaN       NaN       NaN          1   7.22229    23.462   \n",
       "Out B 1                NaN       NaN       NaN    0.13846         1   3.24855   \n",
       "Out B 2                NaN       NaN       NaN  0.0426222  0.307829         1   \n",
       "Out C 0                NaN       NaN       NaN        NaN       NaN       NaN   \n",
       "Out C 1                NaN       NaN       NaN        NaN       NaN       NaN   \n",
       "Out C 2                NaN       NaN       NaN        NaN       NaN       NaN   \n",
       "[UnionEnsemble]  0.0219757  0.165317  0.495273  0.0219558  0.158571  0.515127   \n",
       "\n",
       "                   Out C 0   Out C 1   Out C 2 [UnionEnsemble]  \n",
       "Out A 0                NaN       NaN       NaN         45.5048  \n",
       "Out A 1                NaN       NaN       NaN           6.049  \n",
       "Out A 2                NaN       NaN       NaN         2.01909  \n",
       "Out B 0                NaN       NaN       NaN          45.546  \n",
       "Out B 1                NaN       NaN       NaN         6.30632  \n",
       "Out B 2                NaN       NaN       NaN         1.94127  \n",
       "Out C 0                  1   5.13197   18.7361         34.2748  \n",
       "Out C 1           0.194857         1   3.65085         6.67869  \n",
       "Out C 2           0.053373  0.273909         1         1.82935  \n",
       "[UnionEnsemble]  0.0291759   0.14973  0.546642               1  "
      ]
     },
     "execution_count": 12,
     "metadata": {},
     "output_type": "execute_result"
    }
   ],
   "source": [
    "bias.df"
   ]
  },
  {
   "cell_type": "code",
   "execution_count": 13,
   "metadata": {
    "collapsed": false
   },
   "outputs": [
    {
     "data": {
      "text/html": [
       "<div>\n",
       "<table border=\"1\" class=\"dataframe\">\n",
       "  <thead>\n",
       "    <tr style=\"text-align: right;\">\n",
       "      <th></th>\n",
       "      <th>Out A 0</th>\n",
       "      <th>Out A 1</th>\n",
       "      <th>Out A 2</th>\n",
       "      <th>Out B 0</th>\n",
       "      <th>Out B 1</th>\n",
       "      <th>Out B 2</th>\n",
       "      <th>Out C 0</th>\n",
       "      <th>Out C 1</th>\n",
       "      <th>Out C 2</th>\n",
       "      <th>[UnionEnsemble]</th>\n",
       "    </tr>\n",
       "  </thead>\n",
       "  <tbody>\n",
       "    <tr>\n",
       "      <th>Out A 0</th>\n",
       "      <td>1</td>\n",
       "      <td>7.5227</td>\n",
       "      <td>22.5373</td>\n",
       "      <td>NaN</td>\n",
       "      <td>NaN</td>\n",
       "      <td>NaN</td>\n",
       "      <td>NaN</td>\n",
       "      <td>NaN</td>\n",
       "      <td>NaN</td>\n",
       "      <td>15.1683</td>\n",
       "    </tr>\n",
       "    <tr>\n",
       "      <th>Out A 1</th>\n",
       "      <td>0.132931</td>\n",
       "      <td>1</td>\n",
       "      <td>2.99591</td>\n",
       "      <td>NaN</td>\n",
       "      <td>NaN</td>\n",
       "      <td>NaN</td>\n",
       "      <td>NaN</td>\n",
       "      <td>NaN</td>\n",
       "      <td>NaN</td>\n",
       "      <td>2.01633</td>\n",
       "    </tr>\n",
       "    <tr>\n",
       "      <th>Out A 2</th>\n",
       "      <td>0.0443708</td>\n",
       "      <td>0.333788</td>\n",
       "      <td>1</td>\n",
       "      <td>NaN</td>\n",
       "      <td>NaN</td>\n",
       "      <td>NaN</td>\n",
       "      <td>NaN</td>\n",
       "      <td>NaN</td>\n",
       "      <td>NaN</td>\n",
       "      <td>0.673029</td>\n",
       "    </tr>\n",
       "    <tr>\n",
       "      <th>Out B 0</th>\n",
       "      <td>NaN</td>\n",
       "      <td>NaN</td>\n",
       "      <td>NaN</td>\n",
       "      <td>1</td>\n",
       "      <td>7.22229</td>\n",
       "      <td>23.462</td>\n",
       "      <td>NaN</td>\n",
       "      <td>NaN</td>\n",
       "      <td>NaN</td>\n",
       "      <td>15.182</td>\n",
       "    </tr>\n",
       "    <tr>\n",
       "      <th>Out B 1</th>\n",
       "      <td>NaN</td>\n",
       "      <td>NaN</td>\n",
       "      <td>NaN</td>\n",
       "      <td>0.13846</td>\n",
       "      <td>1</td>\n",
       "      <td>3.24855</td>\n",
       "      <td>NaN</td>\n",
       "      <td>NaN</td>\n",
       "      <td>NaN</td>\n",
       "      <td>2.10211</td>\n",
       "    </tr>\n",
       "    <tr>\n",
       "      <th>Out B 2</th>\n",
       "      <td>NaN</td>\n",
       "      <td>NaN</td>\n",
       "      <td>NaN</td>\n",
       "      <td>0.0426222</td>\n",
       "      <td>0.307829</td>\n",
       "      <td>1</td>\n",
       "      <td>NaN</td>\n",
       "      <td>NaN</td>\n",
       "      <td>NaN</td>\n",
       "      <td>0.64709</td>\n",
       "    </tr>\n",
       "    <tr>\n",
       "      <th>Out C 0</th>\n",
       "      <td>NaN</td>\n",
       "      <td>NaN</td>\n",
       "      <td>NaN</td>\n",
       "      <td>NaN</td>\n",
       "      <td>NaN</td>\n",
       "      <td>NaN</td>\n",
       "      <td>1</td>\n",
       "      <td>5.13197</td>\n",
       "      <td>18.7361</td>\n",
       "      <td>11.4249</td>\n",
       "    </tr>\n",
       "    <tr>\n",
       "      <th>Out C 1</th>\n",
       "      <td>NaN</td>\n",
       "      <td>NaN</td>\n",
       "      <td>NaN</td>\n",
       "      <td>NaN</td>\n",
       "      <td>NaN</td>\n",
       "      <td>NaN</td>\n",
       "      <td>0.194857</td>\n",
       "      <td>1</td>\n",
       "      <td>3.65085</td>\n",
       "      <td>2.22623</td>\n",
       "    </tr>\n",
       "    <tr>\n",
       "      <th>Out C 2</th>\n",
       "      <td>NaN</td>\n",
       "      <td>NaN</td>\n",
       "      <td>NaN</td>\n",
       "      <td>NaN</td>\n",
       "      <td>NaN</td>\n",
       "      <td>NaN</td>\n",
       "      <td>0.053373</td>\n",
       "      <td>0.273909</td>\n",
       "      <td>1</td>\n",
       "      <td>0.609783</td>\n",
       "    </tr>\n",
       "    <tr>\n",
       "      <th>[UnionEnsemble]</th>\n",
       "      <td>0.0659271</td>\n",
       "      <td>0.49595</td>\n",
       "      <td>1.48582</td>\n",
       "      <td>0.0658674</td>\n",
       "      <td>0.475713</td>\n",
       "      <td>1.54538</td>\n",
       "      <td>0.0875278</td>\n",
       "      <td>0.44919</td>\n",
       "      <td>1.63993</td>\n",
       "      <td>1</td>\n",
       "    </tr>\n",
       "  </tbody>\n",
       "</table>\n",
       "</div>"
      ],
      "text/plain": [
       "                   Out A 0   Out A 1  Out A 2    Out B 0   Out B 1  Out B 2  \\\n",
       "Out A 0                  1    7.5227  22.5373        NaN       NaN      NaN   \n",
       "Out A 1           0.132931         1  2.99591        NaN       NaN      NaN   \n",
       "Out A 2          0.0443708  0.333788        1        NaN       NaN      NaN   \n",
       "Out B 0                NaN       NaN      NaN          1   7.22229   23.462   \n",
       "Out B 1                NaN       NaN      NaN    0.13846         1  3.24855   \n",
       "Out B 2                NaN       NaN      NaN  0.0426222  0.307829        1   \n",
       "Out C 0                NaN       NaN      NaN        NaN       NaN      NaN   \n",
       "Out C 1                NaN       NaN      NaN        NaN       NaN      NaN   \n",
       "Out C 2                NaN       NaN      NaN        NaN       NaN      NaN   \n",
       "[UnionEnsemble]  0.0659271   0.49595  1.48582  0.0658674  0.475713  1.54538   \n",
       "\n",
       "                   Out C 0   Out C 1  Out C 2 [UnionEnsemble]  \n",
       "Out A 0                NaN       NaN      NaN         15.1683  \n",
       "Out A 1                NaN       NaN      NaN         2.01633  \n",
       "Out A 2                NaN       NaN      NaN        0.673029  \n",
       "Out B 0                NaN       NaN      NaN          15.182  \n",
       "Out B 1                NaN       NaN      NaN         2.10211  \n",
       "Out B 2                NaN       NaN      NaN         0.64709  \n",
       "Out C 0                  1   5.13197  18.7361         11.4249  \n",
       "Out C 1           0.194857         1  3.65085         2.22623  \n",
       "Out C 2           0.053373  0.273909        1        0.609783  \n",
       "[UnionEnsemble]  0.0875278   0.44919  1.63993               1  "
      ]
     },
     "execution_count": 13,
     "metadata": {},
     "output_type": "execute_result"
    }
   ],
   "source": [
    "ms_outer_id = bias.ensembles_to_ids[network.special_ensembles['ms_outer'].keys()[0]]\n",
    "for col in bias.dataframe.columns:\n",
    "    val_from_ms_outer = bias.dataframe.loc[ms_outer_id, col]\n",
    "    bias.dataframe.set_value(index=ms_outer_id, col=col, value=val_from_ms_outer * 3.0)\n",
    "    val_to_ms_outer = bias.dataframe.loc[col, ms_outer_id]\n",
    "    bias.dataframe.set_value(index=col, col=ms_outer_id, value=val_to_ms_outer / 3.0)\n",
    "bias.df"
   ]
  },
  {
   "cell_type": "markdown",
   "metadata": {},
   "source": [
    "Here we actually set up the SRTIS move scheme for the given network. It only requires one line:"
   ]
  },
  {
   "cell_type": "code",
   "execution_count": 14,
   "metadata": {
    "collapsed": false
   },
   "outputs": [],
   "source": [
    "scheme = paths.SRTISScheme(network, bias=bias, engine=engine)"
   ]
  },
  {
   "cell_type": "markdown",
   "metadata": {},
   "source": [
    "Now we'll visualize the SRTIS move scheme."
   ]
  },
  {
   "cell_type": "code",
   "execution_count": 15,
   "metadata": {
    "collapsed": false,
    "scrolled": false
   },
   "outputs": [],
   "source": [
    "movevis = paths.visualize.MoveTreeBuilder()\n",
    "#movevis.mover(scheme.move_decision_tree(), network.all_ensembles)\n",
    "#SVG(ipynb_visualize(movevis).to_svg())"
   ]
  },
  {
   "cell_type": "markdown",
   "metadata": {},
   "source": [
    "Next we need to set up an appropriate single-replica initial sample set. We'll take the last version of from one of the outer TIS ensembles."
   ]
  },
  {
   "cell_type": "code",
   "execution_count": 16,
   "metadata": {
    "collapsed": false
   },
   "outputs": [],
   "source": [
    "final_samp0 = old_store.steps[len(old_store.steps)-1].active[network.sampling_ensembles[-1]]"
   ]
  },
  {
   "cell_type": "code",
   "execution_count": 17,
   "metadata": {
    "collapsed": false
   },
   "outputs": [],
   "source": [
    "sset = paths.SampleSet([final_samp0])"
   ]
  },
  {
   "cell_type": "markdown",
   "metadata": {},
   "source": [
    "Finally, we set up the new storage file and the new simulation. "
   ]
  },
  {
   "cell_type": "code",
   "execution_count": 18,
   "metadata": {
    "collapsed": false
   },
   "outputs": [],
   "source": [
    "storage = paths.Storage(\"srtis.nc\", \"w\", template)"
   ]
  },
  {
   "cell_type": "code",
   "execution_count": 19,
   "metadata": {
    "collapsed": false
   },
   "outputs": [],
   "source": [
    "srtis = paths.PathSampling(\n",
    "    storage=storage,\n",
    "    globalstate=sset,\n",
    "    move_scheme=scheme\n",
    ")"
   ]
  },
  {
   "cell_type": "code",
   "execution_count": 20,
   "metadata": {
    "collapsed": false
   },
   "outputs": [
    {
     "name": "stdout",
     "output_type": "stream",
     "text": [
      "1230\n"
     ]
    }
   ],
   "source": [
    "n_steps_to_run = int(scheme.n_steps_for_trials(\n",
    "        mover=scheme.movers['minus'][0], \n",
    "        n_attempts=1\n",
    "    ))\n",
    "print n_steps_to_run"
   ]
  },
  {
   "cell_type": "code",
   "execution_count": 21,
   "metadata": {
    "collapsed": true
   },
   "outputs": [],
   "source": [
    "# logging creates ops_output.log file with details of what the calculation is doing\n",
    "import logging.config\n",
    "logging.config.fileConfig(\"logging.conf\", disable_existing_loggers=False)"
   ]
  },
  {
   "cell_type": "code",
   "execution_count": 22,
   "metadata": {
    "collapsed": false
   },
   "outputs": [
    {
     "name": "stdout",
     "output_type": "stream",
     "text": [
      "Working on Monte Carlo cycle number 123000.\n",
      "DONE! Completed 123000 Monte Carlo cycles.\n",
      "CPU times: user 51min 13s, sys: 3min 33s, total: 54min 47s\n",
      "Wall time: 53min 18s\n"
     ]
    }
   ],
   "source": [
    "%%time\n",
    "multiplier = 100\n",
    "srtis.run_until(multiplier*n_steps_to_run)"
   ]
  },
  {
   "cell_type": "code",
   "execution_count": 23,
   "metadata": {
    "collapsed": false
   },
   "outputs": [],
   "source": [
    "#storage.close()"
   ]
  },
  {
   "cell_type": "markdown",
   "metadata": {},
   "source": [
    "From here, we'll be doing the analysis of the SRTIS run."
   ]
  },
  {
   "cell_type": "code",
   "execution_count": 24,
   "metadata": {
    "collapsed": false
   },
   "outputs": [
    {
     "name": "stdout",
     "output_type": "stream",
     "text": [
      "CPU times: user 2 µs, sys: 0 ns, total: 2 µs\n",
      "Wall time: 5.01 µs\n"
     ]
    }
   ],
   "source": [
    "%%time\n",
    "#storage = paths.AnalysisStorage(\"srtis.nc\")\n",
    "#scheme = storage.schemes[0]"
   ]
  },
  {
   "cell_type": "code",
   "execution_count": 25,
   "metadata": {
    "collapsed": false
   },
   "outputs": [
    {
     "name": "stdout",
     "output_type": "stream",
     "text": [
      "ms_outer_shooting ran 3.859% (expected 0.41%) of the cycles with acceptance 339/480 (70.62%)\n",
      "repex ran 36.504% (expected 3.66%) of the cycles with acceptance 1138/4540 (25.07%)\n",
      "shooting ran 37.758% (expected 3.66%) of the cycles with acceptance 3533/4696 (75.23%)\n",
      "minus ran 2.219% (expected 0.24%) of the cycles with acceptance 269/276 (97.46%)\n",
      "pathreversal ran 19.659% (expected 2.03%) of the cycles with acceptance 2190/2445 (89.57%)\n"
     ]
    }
   ],
   "source": [
    "scheme.move_summary(storage.steps)"
   ]
  },
  {
   "cell_type": "code",
   "execution_count": 26,
   "metadata": {
    "collapsed": false
   },
   "outputs": [
    {
     "name": "stdout",
     "output_type": "stream",
     "text": [
      "OneWayShootingMover Out A 1 ran 5.074% (expected 0.41%) of the cycles with acceptance 481/631 (76.23%)\n",
      "OneWayShootingMover Out A 2 ran 3.039% (expected 0.41%) of the cycles with acceptance 258/378 (68.25%)\n",
      "OneWayShootingMover Out C 0 ran 8.354% (expected 0.41%) of the cycles with acceptance 853/1039 (82.10%)\n",
      "OneWayShootingMover Out B 2 ran 2.275% (expected 0.41%) of the cycles with acceptance 167/283 (59.01%)\n",
      "OneWayShootingMover Out C 2 ran 5.725% (expected 0.41%) of the cycles with acceptance 483/712 (67.84%)\n",
      "OneWayShootingMover Out B 1 ran 2.131% (expected 0.41%) of the cycles with acceptance 184/265 (69.43%)\n",
      "OneWayShootingMover Out A 0 ran 3.144% (expected 0.41%) of the cycles with acceptance 335/391 (85.68%)\n",
      "OneWayShootingMover Out C 1 ran 7.180% (expected 0.41%) of the cycles with acceptance 687/893 (76.93%)\n",
      "OneWayShootingMover Out B 0 ran 0.836% (expected 0.41%) of the cycles with acceptance 85/104 (81.73%)\n"
     ]
    }
   ],
   "source": [
    "scheme.move_summary(storage.steps, 'shooting')"
   ]
  },
  {
   "cell_type": "code",
   "execution_count": 27,
   "metadata": {
    "collapsed": false
   },
   "outputs": [
    {
     "name": "stdout",
     "output_type": "stream",
     "text": [
      "SingleReplicaMinus ran 0.177% (expected 0.08%) of the cycles with acceptance 22/22 (100.00%)\n",
      "SingleReplicaMinus ran 1.423% (expected 0.08%) of the cycles with acceptance 173/177 (97.74%)\n",
      "SingleReplicaMinus ran 0.619% (expected 0.08%) of the cycles with acceptance 74/77 (96.10%)\n"
     ]
    }
   ],
   "source": [
    "scheme.move_summary(storage.steps, 'minus')"
   ]
  },
  {
   "cell_type": "code",
   "execution_count": 28,
   "metadata": {
    "collapsed": false
   },
   "outputs": [
    {
     "name": "stdout",
     "output_type": "stream",
     "text": [
      "EnsembleHop Out B 1->Out B 2 ran 0.941% (expected 0.20%) of the cycles with acceptance 42/117 (35.90%)\n",
      "EnsembleHop Out B 2->[UnionEnsemble] ran 1.150% (expected 0.20%) of the cycles with acceptance 52/143 (36.36%)\n",
      "EnsembleHop Out C 1->Out C 2 ran 3.522% (expected 0.20%) of the cycles with acceptance 97/438 (22.15%)\n",
      "EnsembleHop Out C 2->Out C 1 ran 2.758% (expected 0.20%) of the cycles with acceptance 97/343 (28.28%)\n",
      "EnsembleHop Out B 1->Out B 0 ran 0.981% (expected 0.20%) of the cycles with acceptance 15/122 (12.30%)\n",
      "EnsembleHop Out A 0->Out A 1 ran 1.672% (expected 0.20%) of the cycles with acceptance 43/208 (20.67%)\n",
      "EnsembleHop [UnionEnsemble]->Out C 2 ran 1.930% (expected 0.20%) of the cycles with acceptance 114/240 (47.50%)\n",
      "EnsembleHop Out A 1->Out A 2 ran 2.324% (expected 0.20%) of the cycles with acceptance 83/289 (28.72%)\n",
      "EnsembleHop Out C 0->Out C 1 ran 3.731% (expected 0.20%) of the cycles with acceptance 62/464 (13.36%)\n",
      "EnsembleHop Out A 2->[UnionEnsemble] ran 1.648% (expected 0.20%) of the cycles with acceptance 62/205 (30.24%)\n",
      "EnsembleHop Out C 2->[UnionEnsemble] ran 2.718% (expected 0.20%) of the cycles with acceptance 113/338 (33.43%)\n",
      "EnsembleHop Out B 2->Out B 1 ran 1.053% (expected 0.20%) of the cycles with acceptance 42/131 (32.06%)\n",
      "EnsembleHop Out A 1->Out A 0 ran 2.565% (expected 0.20%) of the cycles with acceptance 43/319 (13.48%)\n",
      "EnsembleHop Out C 1->Out C 0 ran 3.409% (expected 0.20%) of the cycles with acceptance 62/424 (14.62%)\n",
      "EnsembleHop [UnionEnsemble]->Out B 2 ran 1.857% (expected 0.20%) of the cycles with acceptance 52/231 (22.51%)\n",
      "EnsembleHop [UnionEnsemble]->Out A 2 ran 1.849% (expected 0.20%) of the cycles with acceptance 61/230 (26.52%)\n",
      "EnsembleHop Out B 0->Out B 1 ran 0.450% (expected 0.20%) of the cycles with acceptance 15/56 (26.79%)\n",
      "EnsembleHop Out A 2->Out A 1 ran 1.946% (expected 0.20%) of the cycles with acceptance 83/242 (34.30%)\n"
     ]
    }
   ],
   "source": [
    "scheme.move_summary(storage.steps, 'repex')"
   ]
  },
  {
   "cell_type": "code",
   "execution_count": 29,
   "metadata": {
    "collapsed": false
   },
   "outputs": [
    {
     "name": "stdout",
     "output_type": "stream",
     "text": [
      "PathReversal ran 3.980% (expected 0.20%) of the cycles with acceptance 494/495 (99.80%)\n",
      "PathReversal ran 3.224% (expected 0.20%) of the cycles with acceptance 378/401 (94.26%)\n",
      "PathReversal ran 1.769% (expected 0.20%) of the cycles with acceptance 158/220 (71.82%)\n",
      "PathReversal ran 2.557% (expected 0.20%) of the cycles with acceptance 248/318 (77.99%)\n",
      "PathReversal ran 0.378% (expected 0.20%) of the cycles with acceptance 45/47 (95.74%)\n",
      "PathReversal ran 1.849% (expected 0.20%) of the cycles with acceptance 230/230 (100.00%)\n",
      "PathReversal ran 0.965% (expected 0.20%) of the cycles with acceptance 102/120 (85.00%)\n",
      "PathReversal ran 1.029% (expected 0.20%) of the cycles with acceptance 72/128 (56.25%)\n",
      "PathReversal ran 1.584% (expected 0.20%) of the cycles with acceptance 197/197 (100.00%)\n",
      "PathReversal ran 2.324% (expected 0.20%) of the cycles with acceptance 266/289 (92.04%)\n"
     ]
    }
   ],
   "source": [
    "scheme.move_summary(storage.steps, 'pathreversal')"
   ]
  },
  {
   "cell_type": "code",
   "execution_count": 30,
   "metadata": {
    "collapsed": false
   },
   "outputs": [
    {
     "name": "stdout",
     "output_type": "stream",
     "text": [
      "123001\n"
     ]
    }
   ],
   "source": [
    "replica = storage.samplesets[0].samples[0].replica\n",
    "ensemble_trace = paths.trace_ensembles_for_replica(replica, storage.steps)\n",
    "print len(ensemble_trace)"
   ]
  },
  {
   "cell_type": "code",
   "execution_count": 31,
   "metadata": {
    "collapsed": false
   },
   "outputs": [],
   "source": [
    "#repex_acceptance = {}\n",
    "#for mover in scheme.movers['repex']:\n",
    "#    acceptance = [scheme._mover_acceptance[key] for key in scheme._mover_acceptance if key[0] == mover]\n",
    "#    repex_acceptance[mover] = acceptance[0]\n",
    "#\n",
    "#scheme.build_balance_partners()\n",
    "#tagged_movers = []\n",
    "#for mover in repex_acceptance:\n",
    "#    if mover in tagged_movers:\n",
    "#        break\n",
    "#    name = mover.name\n",
    "#    acceptance = repex_acceptance[mover]\n",
    "#    acc = float(acceptance[0])/acceptance[1]\n",
    "#    bp_acceptance = repex_acceptance[scheme.balance_partners[mover][0]]\n",
    "#    bp_acc = float(bp_acceptance[0])/bp_acceptance[1]\n",
    "#    in_name = mover.input_ensembles[0].name\n",
    "#    out_name = mover.output_ensembles[0].name\n",
    "#    if (desired_table[out_name] > desired_table[in_name]):\n",
    "#        foo = in_name\n",
    "#        in_name = out_name\n",
    "#        out_name = foo\n",
    "#        foo = acc\n",
    "#        acc = bp_acc\n",
    "#        bp_acc = foo\n",
    "#        \n",
    "#    out_over_in = desired_table[out_name] / desired_table[in_name]\n",
    "#    in_over_out = desired_table[in_name] / desired_table[out_name]\n",
    "#\n",
    "#    if (in_name, out_name) not in tagged_movers:\n",
    "#        print \"{:.1%} {:.1%} {:.1%} {:s}\".format(acc, bp_acc, out_over_in, in_name + \"->\" + out_name)\n",
    "#    tagged_movers += [(in_name, out_name)]\n",
    "    "
   ]
  },
  {
   "cell_type": "code",
   "execution_count": 32,
   "metadata": {
    "collapsed": false
   },
   "outputs": [
    {
     "name": "stdout",
     "output_type": "stream",
     "text": [
      "0 : Out C 0\n",
      "1 : Out C 1\n",
      "2 : Out C 2\n",
      "3 : Out B 0\n",
      "4 : Out B 1\n",
      "5 : Out B 2\n",
      "6 : Out A 0\n",
      "7 : Out A 1\n",
      "8 : Out A 2\n",
      "9 : [UnionEnsemble]\n"
     ]
    }
   ],
   "source": [
    "srtis_ensembles = scheme.network.sampling_ensembles+scheme.network.special_ensembles['ms_outer'].keys()\n",
    "srtis_ensemble_numbers = {e : srtis_ensembles.index(e) for e in srtis_ensembles}\n",
    "# this next is just for pretty printing\n",
    "srtis_numbers_ensemble = {srtis_ensemble_numbers[e] : e for e in srtis_ensemble_numbers}\n",
    "for k in sorted(srtis_numbers_ensemble.keys()):\n",
    "    print k, \":\", srtis_numbers_ensemble[k].name"
   ]
  },
  {
   "cell_type": "code",
   "execution_count": 33,
   "metadata": {
    "collapsed": false
   },
   "outputs": [
    {
     "data": {
      "text/plain": [
       "[<matplotlib.lines.Line2D at 0x11fd6add0>]"
      ]
     },
     "execution_count": 33,
     "metadata": {},
     "output_type": "execute_result"
    },
    {
     "data": {
      "image/png": "[encoded data removed]",
      "text/plain": [
       "<matplotlib.figure.Figure at 0x11ab4f350>"
      ]
     },
     "metadata": {},
     "output_type": "display_data"
    }
   ],
   "source": [
    "plt.plot([srtis_ensemble_numbers[e] for e in ensemble_trace])"
   ]
  },
  {
   "cell_type": "code",
   "execution_count": 34,
   "metadata": {
    "collapsed": false
   },
   "outputs": [
    {
     "data": {
      "text/plain": [
       "62"
      ]
     },
     "execution_count": 34,
     "metadata": {},
     "output_type": "execute_result"
    }
   ],
   "source": [
    "count = 0\n",
    "for i in range(len(ensemble_trace)-1):\n",
    "    [this_val, next_val] = [srtis_ensemble_numbers[ensemble_trace[k]] for k in [i,i+1]]\n",
    "    if this_val == 1 and next_val == 0:\n",
    "        count += 1\n",
    "count"
   ]
  },
  {
   "cell_type": "code",
   "execution_count": 35,
   "metadata": {
    "collapsed": false
   },
   "outputs": [],
   "source": [
    "hist_numbers = [srtis_ensemble_numbers[e] for e in ensemble_trace]\n",
    "bins = [i-0.5 for i in range(len(srtis_ensembles)+1)]"
   ]
  },
  {
   "cell_type": "code",
   "execution_count": 36,
   "metadata": {
    "collapsed": false
   },
   "outputs": [
    {
     "data": {
      "image/png": "[encoded data removed]",
      "text/plain": [
       "<matplotlib.figure.Figure at 0x11ca2b950>"
      ]
     },
     "metadata": {},
     "output_type": "display_data"
    }
   ],
   "source": [
    "plt.hist(hist_numbers, bins=bins);"
   ]
  },
  {
   "cell_type": "code",
   "execution_count": 37,
   "metadata": {
    "collapsed": false
   },
   "outputs": [],
   "source": [
    "import pandas as pd\n",
    "hist = paths.analysis.Histogram(bin_width=1.0, bin_range=[-0.5,9.5])\n",
    "colnames = {i : srtis_numbers_ensemble[i].name for i in range(len(srtis_ensembles))}\n",
    "df = pd.DataFrame(columns=[colnames[i] for i in colnames])"
   ]
  },
  {
   "cell_type": "code",
   "execution_count": 38,
   "metadata": {
    "collapsed": false,
    "scrolled": true
   },
   "outputs": [],
   "source": [
    "for i in range(len(hist_numbers)):\n",
    "    hist.add_data_to_histogram([hist_numbers[i]])\n",
    "    if i % 100 == 0:\n",
    "        normalized = hist.normalized()\n",
    "        local_df = pd.DataFrame([normalized.values()], index=[i], columns=[colnames[k] for k in normalized.keys()])\n",
    "        df = df.append(local_df)"
   ]
  },
  {
   "cell_type": "code",
   "execution_count": 39,
   "metadata": {
    "collapsed": false
   },
   "outputs": [
    {
     "data": {
      "image/png": "[encoded data removed]",
      "text/plain": [
       "<matplotlib.figure.Figure at 0x11c8c3590>"
      ]
     },
     "metadata": {},
     "output_type": "display_data"
    }
   ],
   "source": [
    "plt.pcolormesh(df.fillna(0.0), cmap=\"viridis\");\n",
    "plt.gca().invert_yaxis()"
   ]
  },
  {
   "cell_type": "code",
   "execution_count": null,
   "metadata": {
    "collapsed": true
   },
   "outputs": [],
   "source": []
  },
  {
   "cell_type": "code",
   "execution_count": null,
   "metadata": {
    "collapsed": true
   },
   "outputs": [],
   "source": []
  }
 ],
 "metadata": {
  "kernelspec": {
   "display_name": "Python 2",
   "language": "python",
   "name": "python2"
  },
  "language_info": {
   "codemirror_mode": {
    "name": "ipython",
    "version": 2
   },
   "file_extension": ".py",
   "mimetype": "text/x-python",
   "name": "python",
   "nbconvert_exporter": "python",
   "pygments_lexer": "ipython2",
   "version": "2.7.11"
  }
 },
 "nbformat": 4,
 "nbformat_minor": 0
}

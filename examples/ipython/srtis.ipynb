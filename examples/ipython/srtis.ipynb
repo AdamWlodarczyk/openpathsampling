{
 "cells": [
  {
   "cell_type": "markdown",
   "metadata": {},
   "source": [
    "# Single Replica TIS\n",
    "\n",
    "This notebook shows how to run single replica TIS move scheme. This assumes you can load engine, network, and initial sample from a previous calculation."
   ]
  },
  {
   "cell_type": "code",
   "execution_count": 1,
   "metadata": {
    "collapsed": false
   },
   "outputs": [],
   "source": [
    "%matplotlib inline\n",
    "import openpathsampling as paths\n",
    "import numpy as np\n",
    "import matplotlib.pyplot as plt\n",
    "import pandas as pd"
   ]
  },
  {
   "cell_type": "code",
   "execution_count": 2,
   "metadata": {
    "collapsed": false
   },
   "outputs": [],
   "source": [
    "from openpathsampling.visualize import PathTreeBuilder, PathTreeBuilder\n",
    "from IPython.display import SVG, HTML\n",
    "\n",
    "def ipynb_visualize(movevis):\n",
    "    \"\"\"Default settings to show a movevis in an ipynb.\"\"\"\n",
    "    view = movevis.renderer\n",
    "    view.zoom = 1.5\n",
    "    view.scale_y = 18\n",
    "    view.scale_th = 20\n",
    "    view.font_size = 0.4\n",
    "    return view"
   ]
  },
  {
   "cell_type": "markdown",
   "metadata": {},
   "source": [
    "Open the storage and load things from it."
   ]
  },
  {
   "cell_type": "code",
   "execution_count": 3,
   "metadata": {
    "collapsed": false
   },
   "outputs": [],
   "source": [
    "old_store = paths.AnalysisStorage(\"mstis.nc\")\n",
    "#old_store = paths.Storage(\"mstis.nc\")  # if not actually doing analysis, but loading network, etc"
   ]
  },
  {
   "cell_type": "code",
   "execution_count": 4,
   "metadata": {
    "collapsed": false
   },
   "outputs": [],
   "source": [
    "network = old_store.networks[0]\n",
    "engine = old_store.engines[0]\n",
    "template = old_store.snapshots[0]"
   ]
  },
  {
   "cell_type": "markdown",
   "metadata": {},
   "source": [
    "One of the points of SRTIS is that we use a bias (which comes from an estimate of the crossing probability) in order to improve our sampling."
   ]
  },
  {
   "cell_type": "code",
   "execution_count": 5,
   "metadata": {
    "collapsed": false
   },
   "outputs": [],
   "source": [
    "# this is how we would get it out of a simulation (although the actual simulation here has bad stats)\n",
    "# first, we need the crossing probabilities, which we get when we calculate the rate\n",
    "network.hist_args['max_lambda'] = { 'bin_width' : 0.02, 'bin_range' : (0.0, 0.5) }\n",
    "network.hist_args['pathlength'] = { 'bin_width' : 5, 'bin_range' : (0, 150) }\n",
    "rates = network.rate_matrix(old_store.steps)"
   ]
  },
  {
   "cell_type": "code",
   "execution_count": 6,
   "metadata": {
    "collapsed": false
   },
   "outputs": [
    {
     "data": {
      "text/html": [
       "<div>\n",
       "<table border=\"1\" class=\"dataframe\">\n",
       "  <thead>\n",
       "    <tr style=\"text-align: right;\">\n",
       "      <th></th>\n",
       "      <th>Out A 0</th>\n",
       "      <th>Out A 1</th>\n",
       "      <th>Out A 2</th>\n",
       "      <th>Out B 0</th>\n",
       "      <th>Out B 1</th>\n",
       "      <th>Out B 2</th>\n",
       "      <th>Out C 0</th>\n",
       "      <th>Out C 1</th>\n",
       "      <th>Out C 2</th>\n",
       "      <th>[UnionEnsemble]</th>\n",
       "    </tr>\n",
       "  </thead>\n",
       "  <tbody>\n",
       "    <tr>\n",
       "      <th>Out A 0</th>\n",
       "      <td>1</td>\n",
       "      <td>5.55807</td>\n",
       "      <td>12.6306</td>\n",
       "      <td>NaN</td>\n",
       "      <td>NaN</td>\n",
       "      <td>NaN</td>\n",
       "      <td>NaN</td>\n",
       "      <td>NaN</td>\n",
       "      <td>NaN</td>\n",
       "      <td>8.36144</td>\n",
       "    </tr>\n",
       "    <tr>\n",
       "      <th>Out A 1</th>\n",
       "      <td>0.179919</td>\n",
       "      <td>1</td>\n",
       "      <td>2.27247</td>\n",
       "      <td>NaN</td>\n",
       "      <td>NaN</td>\n",
       "      <td>NaN</td>\n",
       "      <td>NaN</td>\n",
       "      <td>NaN</td>\n",
       "      <td>NaN</td>\n",
       "      <td>1.50438</td>\n",
       "    </tr>\n",
       "    <tr>\n",
       "      <th>Out A 2</th>\n",
       "      <td>0.0791731</td>\n",
       "      <td>0.44005</td>\n",
       "      <td>1</td>\n",
       "      <td>NaN</td>\n",
       "      <td>NaN</td>\n",
       "      <td>NaN</td>\n",
       "      <td>NaN</td>\n",
       "      <td>NaN</td>\n",
       "      <td>NaN</td>\n",
       "      <td>0.662001</td>\n",
       "    </tr>\n",
       "    <tr>\n",
       "      <th>Out B 0</th>\n",
       "      <td>NaN</td>\n",
       "      <td>NaN</td>\n",
       "      <td>NaN</td>\n",
       "      <td>1</td>\n",
       "      <td>4.72747</td>\n",
       "      <td>20.705</td>\n",
       "      <td>NaN</td>\n",
       "      <td>NaN</td>\n",
       "      <td>NaN</td>\n",
       "      <td>20.7706</td>\n",
       "    </tr>\n",
       "    <tr>\n",
       "      <th>Out B 1</th>\n",
       "      <td>NaN</td>\n",
       "      <td>NaN</td>\n",
       "      <td>NaN</td>\n",
       "      <td>0.21153</td>\n",
       "      <td>1</td>\n",
       "      <td>4.37972</td>\n",
       "      <td>NaN</td>\n",
       "      <td>NaN</td>\n",
       "      <td>NaN</td>\n",
       "      <td>4.3936</td>\n",
       "    </tr>\n",
       "    <tr>\n",
       "      <th>Out B 2</th>\n",
       "      <td>NaN</td>\n",
       "      <td>NaN</td>\n",
       "      <td>NaN</td>\n",
       "      <td>0.0482976</td>\n",
       "      <td>0.228325</td>\n",
       "      <td>1</td>\n",
       "      <td>NaN</td>\n",
       "      <td>NaN</td>\n",
       "      <td>NaN</td>\n",
       "      <td>1.00317</td>\n",
       "    </tr>\n",
       "    <tr>\n",
       "      <th>Out C 0</th>\n",
       "      <td>NaN</td>\n",
       "      <td>NaN</td>\n",
       "      <td>NaN</td>\n",
       "      <td>NaN</td>\n",
       "      <td>NaN</td>\n",
       "      <td>NaN</td>\n",
       "      <td>1</td>\n",
       "      <td>1.35946</td>\n",
       "      <td>3.5222</td>\n",
       "      <td>1.50439</td>\n",
       "    </tr>\n",
       "    <tr>\n",
       "      <th>Out C 1</th>\n",
       "      <td>NaN</td>\n",
       "      <td>NaN</td>\n",
       "      <td>NaN</td>\n",
       "      <td>NaN</td>\n",
       "      <td>NaN</td>\n",
       "      <td>NaN</td>\n",
       "      <td>0.735587</td>\n",
       "      <td>1</td>\n",
       "      <td>2.59089</td>\n",
       "      <td>1.10661</td>\n",
       "    </tr>\n",
       "    <tr>\n",
       "      <th>Out C 2</th>\n",
       "      <td>NaN</td>\n",
       "      <td>NaN</td>\n",
       "      <td>NaN</td>\n",
       "      <td>NaN</td>\n",
       "      <td>NaN</td>\n",
       "      <td>NaN</td>\n",
       "      <td>0.283913</td>\n",
       "      <td>0.385968</td>\n",
       "      <td>1</td>\n",
       "      <td>0.427116</td>\n",
       "    </tr>\n",
       "    <tr>\n",
       "      <th>[UnionEnsemble]</th>\n",
       "      <td>0.119597</td>\n",
       "      <td>0.664726</td>\n",
       "      <td>1.51057</td>\n",
       "      <td>0.0481449</td>\n",
       "      <td>0.227604</td>\n",
       "      <td>0.99684</td>\n",
       "      <td>0.664722</td>\n",
       "      <td>0.903661</td>\n",
       "      <td>2.34128</td>\n",
       "      <td>1</td>\n",
       "    </tr>\n",
       "  </tbody>\n",
       "</table>\n",
       "</div>"
      ],
      "text/plain": [
       "                   Out A 0   Out A 1  Out A 2    Out B 0   Out B 1  Out B 2  \\\n",
       "Out A 0                  1   5.55807  12.6306        NaN       NaN      NaN   \n",
       "Out A 1           0.179919         1  2.27247        NaN       NaN      NaN   \n",
       "Out A 2          0.0791731   0.44005        1        NaN       NaN      NaN   \n",
       "Out B 0                NaN       NaN      NaN          1   4.72747   20.705   \n",
       "Out B 1                NaN       NaN      NaN    0.21153         1  4.37972   \n",
       "Out B 2                NaN       NaN      NaN  0.0482976  0.228325        1   \n",
       "Out C 0                NaN       NaN      NaN        NaN       NaN      NaN   \n",
       "Out C 1                NaN       NaN      NaN        NaN       NaN      NaN   \n",
       "Out C 2                NaN       NaN      NaN        NaN       NaN      NaN   \n",
       "[UnionEnsemble]   0.119597  0.664726  1.51057  0.0481449  0.227604  0.99684   \n",
       "\n",
       "                  Out C 0   Out C 1  Out C 2 [UnionEnsemble]  \n",
       "Out A 0               NaN       NaN      NaN         8.36144  \n",
       "Out A 1               NaN       NaN      NaN         1.50438  \n",
       "Out A 2               NaN       NaN      NaN        0.662001  \n",
       "Out B 0               NaN       NaN      NaN         20.7706  \n",
       "Out B 1               NaN       NaN      NaN          4.3936  \n",
       "Out B 2               NaN       NaN      NaN         1.00317  \n",
       "Out C 0                 1   1.35946   3.5222         1.50439  \n",
       "Out C 1          0.735587         1  2.59089         1.10661  \n",
       "Out C 2          0.283913  0.385968        1        0.427116  \n",
       "[UnionEnsemble]  0.664722  0.903661  2.34128               1  "
      ]
     },
     "execution_count": 6,
     "metadata": {},
     "output_type": "execute_result"
    }
   ],
   "source": [
    "# just use the analyzed network to make the bias\n",
    "bias = paths.SRTISBiasFromNetwork(network)\n",
    "bias.df"
   ]
  },
  {
   "cell_type": "code",
   "execution_count": 7,
   "metadata": {
    "collapsed": false
   },
   "outputs": [],
   "source": [
    "# For better stats, use the results that I got from a 20k MC step run\n",
    "# We can create fake TCPs and force them on the network.\n",
    "\n",
    "tcp_A = paths.analysis.LookupFunction.from_dict(\n",
    "    {0.2: 1.0,\n",
    "     0.3: 0.13293104100673198,\n",
    "     0.4: 0.044370838092911397,\n",
    "     0.5: 0.021975696374764188}\n",
    ")\n",
    "tcp_B = paths.analysis.LookupFunction.from_dict(\n",
    "    {0.2: 1.0,\n",
    "     0.3: 0.13293104100673198,\n",
    "     0.4: 0.044370838092911397,\n",
    "     0.5: 0.021975696374764188}\n",
    ")\n",
    "tcp_C = paths.analysis.LookupFunction.from_dict(\n",
    "    {0.2: 1.0,\n",
    "     0.3: 0.19485705066078274,\n",
    "     0.4: 0.053373003923696649,\n",
    "     0.5: 0.029175949467020165}\n",
    ")\n",
    "\n",
    "# load states for identification purposes\n",
    "stateA = old_store.volumes['A']\n",
    "stateB = old_store.volumes['B']\n",
    "stateC = old_store.volumes['C']\n",
    "\n",
    "# use the sampling transitions; in MSTIS, these are also stored in from_state\n",
    "network.from_state[stateA].tcp = tcp_A\n",
    "network.from_state[stateB].tcp = tcp_B\n",
    "network.from_state[stateC].tcp = tcp_C"
   ]
  },
  {
   "cell_type": "code",
   "execution_count": 8,
   "metadata": {
    "collapsed": false
   },
   "outputs": [
    {
     "data": {
      "text/html": [
       "<div>\n",
       "<table border=\"1\" class=\"dataframe\">\n",
       "  <thead>\n",
       "    <tr style=\"text-align: right;\">\n",
       "      <th></th>\n",
       "      <th>Out A 0</th>\n",
       "      <th>Out A 1</th>\n",
       "      <th>Out A 2</th>\n",
       "      <th>Out B 0</th>\n",
       "      <th>Out B 1</th>\n",
       "      <th>Out B 2</th>\n",
       "      <th>Out C 0</th>\n",
       "      <th>Out C 1</th>\n",
       "      <th>Out C 2</th>\n",
       "      <th>[UnionEnsemble]</th>\n",
       "    </tr>\n",
       "  </thead>\n",
       "  <tbody>\n",
       "    <tr>\n",
       "      <th>Out A 0</th>\n",
       "      <td>1</td>\n",
       "      <td>7.5227</td>\n",
       "      <td>22.5373</td>\n",
       "      <td>NaN</td>\n",
       "      <td>NaN</td>\n",
       "      <td>NaN</td>\n",
       "      <td>NaN</td>\n",
       "      <td>NaN</td>\n",
       "      <td>NaN</td>\n",
       "      <td>15.1683</td>\n",
       "    </tr>\n",
       "    <tr>\n",
       "      <th>Out A 1</th>\n",
       "      <td>0.132931</td>\n",
       "      <td>1</td>\n",
       "      <td>2.99591</td>\n",
       "      <td>NaN</td>\n",
       "      <td>NaN</td>\n",
       "      <td>NaN</td>\n",
       "      <td>NaN</td>\n",
       "      <td>NaN</td>\n",
       "      <td>NaN</td>\n",
       "      <td>2.01633</td>\n",
       "    </tr>\n",
       "    <tr>\n",
       "      <th>Out A 2</th>\n",
       "      <td>0.0443708</td>\n",
       "      <td>0.333788</td>\n",
       "      <td>1</td>\n",
       "      <td>NaN</td>\n",
       "      <td>NaN</td>\n",
       "      <td>NaN</td>\n",
       "      <td>NaN</td>\n",
       "      <td>NaN</td>\n",
       "      <td>NaN</td>\n",
       "      <td>0.673029</td>\n",
       "    </tr>\n",
       "    <tr>\n",
       "      <th>Out B 0</th>\n",
       "      <td>NaN</td>\n",
       "      <td>NaN</td>\n",
       "      <td>NaN</td>\n",
       "      <td>1</td>\n",
       "      <td>7.5227</td>\n",
       "      <td>22.5373</td>\n",
       "      <td>NaN</td>\n",
       "      <td>NaN</td>\n",
       "      <td>NaN</td>\n",
       "      <td>15.1683</td>\n",
       "    </tr>\n",
       "    <tr>\n",
       "      <th>Out B 1</th>\n",
       "      <td>NaN</td>\n",
       "      <td>NaN</td>\n",
       "      <td>NaN</td>\n",
       "      <td>0.132931</td>\n",
       "      <td>1</td>\n",
       "      <td>2.99591</td>\n",
       "      <td>NaN</td>\n",
       "      <td>NaN</td>\n",
       "      <td>NaN</td>\n",
       "      <td>2.01633</td>\n",
       "    </tr>\n",
       "    <tr>\n",
       "      <th>Out B 2</th>\n",
       "      <td>NaN</td>\n",
       "      <td>NaN</td>\n",
       "      <td>NaN</td>\n",
       "      <td>0.0443708</td>\n",
       "      <td>0.333788</td>\n",
       "      <td>1</td>\n",
       "      <td>NaN</td>\n",
       "      <td>NaN</td>\n",
       "      <td>NaN</td>\n",
       "      <td>0.673029</td>\n",
       "    </tr>\n",
       "    <tr>\n",
       "      <th>Out C 0</th>\n",
       "      <td>NaN</td>\n",
       "      <td>NaN</td>\n",
       "      <td>NaN</td>\n",
       "      <td>NaN</td>\n",
       "      <td>NaN</td>\n",
       "      <td>NaN</td>\n",
       "      <td>1</td>\n",
       "      <td>5.13197</td>\n",
       "      <td>18.7361</td>\n",
       "      <td>11.4249</td>\n",
       "    </tr>\n",
       "    <tr>\n",
       "      <th>Out C 1</th>\n",
       "      <td>NaN</td>\n",
       "      <td>NaN</td>\n",
       "      <td>NaN</td>\n",
       "      <td>NaN</td>\n",
       "      <td>NaN</td>\n",
       "      <td>NaN</td>\n",
       "      <td>0.194857</td>\n",
       "      <td>1</td>\n",
       "      <td>3.65085</td>\n",
       "      <td>2.22623</td>\n",
       "    </tr>\n",
       "    <tr>\n",
       "      <th>Out C 2</th>\n",
       "      <td>NaN</td>\n",
       "      <td>NaN</td>\n",
       "      <td>NaN</td>\n",
       "      <td>NaN</td>\n",
       "      <td>NaN</td>\n",
       "      <td>NaN</td>\n",
       "      <td>0.053373</td>\n",
       "      <td>0.273909</td>\n",
       "      <td>1</td>\n",
       "      <td>0.609783</td>\n",
       "    </tr>\n",
       "    <tr>\n",
       "      <th>[UnionEnsemble]</th>\n",
       "      <td>0.0659271</td>\n",
       "      <td>0.49595</td>\n",
       "      <td>1.48582</td>\n",
       "      <td>0.0659271</td>\n",
       "      <td>0.49595</td>\n",
       "      <td>1.48582</td>\n",
       "      <td>0.0875278</td>\n",
       "      <td>0.44919</td>\n",
       "      <td>1.63993</td>\n",
       "      <td>1</td>\n",
       "    </tr>\n",
       "  </tbody>\n",
       "</table>\n",
       "</div>"
      ],
      "text/plain": [
       "                   Out A 0   Out A 1  Out A 2    Out B 0   Out B 1  Out B 2  \\\n",
       "Out A 0                  1    7.5227  22.5373        NaN       NaN      NaN   \n",
       "Out A 1           0.132931         1  2.99591        NaN       NaN      NaN   \n",
       "Out A 2          0.0443708  0.333788        1        NaN       NaN      NaN   \n",
       "Out B 0                NaN       NaN      NaN          1    7.5227  22.5373   \n",
       "Out B 1                NaN       NaN      NaN   0.132931         1  2.99591   \n",
       "Out B 2                NaN       NaN      NaN  0.0443708  0.333788        1   \n",
       "Out C 0                NaN       NaN      NaN        NaN       NaN      NaN   \n",
       "Out C 1                NaN       NaN      NaN        NaN       NaN      NaN   \n",
       "Out C 2                NaN       NaN      NaN        NaN       NaN      NaN   \n",
       "[UnionEnsemble]  0.0659271   0.49595  1.48582  0.0659271   0.49595  1.48582   \n",
       "\n",
       "                   Out C 0   Out C 1  Out C 2 [UnionEnsemble]  \n",
       "Out A 0                NaN       NaN      NaN         15.1683  \n",
       "Out A 1                NaN       NaN      NaN         2.01633  \n",
       "Out A 2                NaN       NaN      NaN        0.673029  \n",
       "Out B 0                NaN       NaN      NaN         15.1683  \n",
       "Out B 1                NaN       NaN      NaN         2.01633  \n",
       "Out B 2                NaN       NaN      NaN        0.673029  \n",
       "Out C 0                  1   5.13197  18.7361         11.4249  \n",
       "Out C 1           0.194857         1  3.65085         2.22623  \n",
       "Out C 2           0.053373  0.273909        1        0.609783  \n",
       "[UnionEnsemble]  0.0875278   0.44919  1.63993               1  "
      ]
     },
     "execution_count": 8,
     "metadata": {},
     "output_type": "execute_result"
    }
   ],
   "source": [
    "bias = paths.SRTISBiasFromNetwork(network)\n",
    "bias.df"
   ]
  },
  {
   "cell_type": "markdown",
   "metadata": {},
   "source": [
    "Here we actually set up the SRTIS move scheme for the given network. It only requires one line:"
   ]
  },
  {
   "cell_type": "code",
   "execution_count": 9,
   "metadata": {
    "collapsed": false
   },
   "outputs": [],
   "source": [
    "scheme = paths.SRTISScheme(network, bias=bias, engine=engine)"
   ]
  },
  {
   "cell_type": "markdown",
   "metadata": {},
   "source": [
    "Now we'll visualize the SRTIS move scheme."
   ]
  },
  {
   "cell_type": "code",
   "execution_count": 10,
   "metadata": {
    "collapsed": false,
    "scrolled": false
   },
   "outputs": [],
   "source": [
    "movevis = paths.visualize.MoveTreeBuilder()\n",
    "#movevis.mover(scheme.move_decision_tree(), network.all_ensembles)\n",
    "#SVG(ipynb_visualize(movevis).to_svg())"
   ]
  },
  {
   "cell_type": "markdown",
   "metadata": {},
   "source": [
    "Next we need to set up an appropriate single-replica initial sampleset. We'll take the last version of from one of the outer TIS ensembles."
   ]
  },
  {
   "cell_type": "code",
   "execution_count": 11,
   "metadata": {
    "collapsed": false
   },
   "outputs": [],
   "source": [
    "final_samp0 = old_store.steps[len(old_store.steps)-1].active[network.sampling_ensembles[-1]]"
   ]
  },
  {
   "cell_type": "code",
   "execution_count": 12,
   "metadata": {
    "collapsed": false
   },
   "outputs": [],
   "source": [
    "sset = paths.SampleSet([final_samp0])"
   ]
  },
  {
   "cell_type": "markdown",
   "metadata": {},
   "source": [
    "Finally, we set up the new storage file and the new simulation. "
   ]
  },
  {
   "cell_type": "code",
   "execution_count": 13,
   "metadata": {
    "collapsed": false
   },
   "outputs": [
    {
     "data": {
      "text/plain": [
       "(store.snapshots[BaseSnapshot],\n",
       " 3,\n",
       " UUID('0f121d7a-5fb4-11e6-b807-000000003405'))"
      ]
     },
     "execution_count": 13,
     "metadata": {},
     "output_type": "execute_result"
    }
   ],
   "source": [
    "storage = paths.Storage(\"srtis.nc\", \"w\", use_uuid=old_store.reference_by_uuid)\n",
    "storage.save(template)"
   ]
  },
  {
   "cell_type": "code",
   "execution_count": 14,
   "metadata": {
    "collapsed": false
   },
   "outputs": [],
   "source": [
    "srtis = paths.PathSampling(\n",
    "    storage=storage,\n",
    "    sample_set=sset,\n",
    "    move_scheme=scheme\n",
    ")"
   ]
  },
  {
   "cell_type": "code",
   "execution_count": 15,
   "metadata": {
    "collapsed": false
   },
   "outputs": [
    {
     "name": "stdout",
     "output_type": "stream",
     "text": [
      "1230\n"
     ]
    }
   ],
   "source": [
    "n_steps_to_run = int(scheme.n_steps_for_trials(\n",
    "        mover=scheme.movers['minus'][0], \n",
    "        n_attempts=1\n",
    "    ))\n",
    "print n_steps_to_run"
   ]
  },
  {
   "cell_type": "code",
   "execution_count": 16,
   "metadata": {
    "collapsed": true
   },
   "outputs": [],
   "source": [
    "# logging creates ops_output.log file with details of what the calculation is doing\n",
    "import logging.config\n",
    "logging.config.fileConfig(\"logging.conf\", disable_existing_loggers=False)"
   ]
  },
  {
   "cell_type": "code",
   "execution_count": 17,
   "metadata": {
    "collapsed": false
   },
   "outputs": [
    {
     "name": "stdout",
     "output_type": "stream",
     "text": [
      "Working on Monte Carlo cycle number 6150.\n",
      "DONE! Completed 6150 Monte Carlo cycles.\n",
      "CPU times: user 4min 35s, sys: 14.5 s, total: 4min 49s\n",
      "Wall time: 4min 46s\n"
     ]
    }
   ],
   "source": [
    "%%time\n",
    "multiplier = 5\n",
    "srtis.run_until(multiplier*n_steps_to_run)"
   ]
  },
  {
   "cell_type": "code",
   "execution_count": 18,
   "metadata": {
    "collapsed": false
   },
   "outputs": [],
   "source": [
    "#storage.close()"
   ]
  },
  {
   "cell_type": "markdown",
   "metadata": {},
   "source": [
    "From here, we'll be doing the analysis of the SRTIS run."
   ]
  },
  {
   "cell_type": "code",
   "execution_count": 19,
   "metadata": {
    "collapsed": false
   },
   "outputs": [
    {
     "name": "stdout",
     "output_type": "stream",
     "text": [
      "CPU times: user 1e+03 ns, sys: 1e+03 ns, total: 2 µs\n",
      "Wall time: 3.1 µs\n"
     ]
    }
   ],
   "source": [
    "%%time\n",
    "#storage = paths.AnalysisStorage(\"srtis.nc\")\n",
    "#scheme = storage.schemes[0]"
   ]
  },
  {
   "cell_type": "code",
   "execution_count": 20,
   "metadata": {
    "collapsed": false
   },
   "outputs": [
    {
     "name": "stdout",
     "output_type": "stream",
     "text": [
      "ms_outer_shooting ran 7.965% (expected 4.07%) of the cycles with acceptance 35/54 (64.81%)\n",
      "repex ran 39.971% (expected 36.59%) of the cycles with acceptance 113/271 (41.70%)\n",
      "shooting ran 34.218% (expected 36.59%) of the cycles with acceptance 165/232 (71.12%)\n",
      "minus ran 0.000% (expected 2.44%) of the cycles with acceptance 0/0 (nan%)\n",
      "pathreversal ran 17.847% (expected 20.33%) of the cycles with acceptance 72/121 (59.50%)\n"
     ]
    }
   ],
   "source": [
    "scheme.move_summary(storage.steps)"
   ]
  },
  {
   "cell_type": "code",
   "execution_count": 21,
   "metadata": {
    "collapsed": false
   },
   "outputs": [
    {
     "name": "stdout",
     "output_type": "stream",
     "text": [
      "OneWayShootingMover Out A 2 ran 1.622% (expected 4.07%) of the cycles with acceptance 8/11 (72.73%)\n",
      "OneWayShootingMover Out B 1 ran 1.180% (expected 4.07%) of the cycles with acceptance 5/8 (62.50%)\n",
      "OneWayShootingMover Out A 0 ran 0.000% (expected 4.07%) of the cycles with acceptance 0/0 (nan%)\n",
      "OneWayShootingMover Out B 0 ran 0.885% (expected 4.07%) of the cycles with acceptance 5/6 (83.33%)\n",
      "OneWayShootingMover Out B 2 ran 5.162% (expected 4.07%) of the cycles with acceptance 24/35 (68.57%)\n",
      "OneWayShootingMover Out C 0 ran 0.885% (expected 4.07%) of the cycles with acceptance 5/6 (83.33%)\n",
      "OneWayShootingMover Out C 2 ran 12.389% (expected 4.07%) of the cycles with acceptance 52/84 (61.90%)\n",
      "OneWayShootingMover Out C 1 ran 10.029% (expected 4.07%) of the cycles with acceptance 53/68 (77.94%)\n",
      "OneWayShootingMover Out A 1 ran 2.065% (expected 4.07%) of the cycles with acceptance 13/14 (92.86%)\n"
     ]
    }
   ],
   "source": [
    "scheme.move_summary(storage.steps, 'shooting')"
   ]
  },
  {
   "cell_type": "code",
   "execution_count": 22,
   "metadata": {
    "collapsed": false
   },
   "outputs": [
    {
     "name": "stdout",
     "output_type": "stream",
     "text": [
      "SingleReplicaMinus ran 0.000% (expected 0.81%) of the cycles with acceptance 0/0 (nan%)\n",
      "SingleReplicaMinus ran 0.000% (expected 0.81%) of the cycles with acceptance 0/0 (nan%)\n",
      "SingleReplicaMinus ran 0.000% (expected 0.81%) of the cycles with acceptance 0/0 (nan%)\n"
     ]
    }
   ],
   "source": [
    "scheme.move_summary(storage.steps, 'minus')"
   ]
  },
  {
   "cell_type": "code",
   "execution_count": 23,
   "metadata": {
    "collapsed": false
   },
   "outputs": [
    {
     "name": "stdout",
     "output_type": "stream",
     "text": [
      "EnsembleHop Out C 2->Out C 1 ran 7.522% (expected 2.03%) of the cycles with acceptance 15/51 (29.41%)\n",
      "EnsembleHop Out B 1->Out B 0 ran 1.032% (expected 2.03%) of the cycles with acceptance 1/7 (14.29%)\n",
      "EnsembleHop Out B 2->[UnionEnsemble] ran 2.212% (expected 2.03%) of the cycles with acceptance 6/15 (40.00%)\n",
      "EnsembleHop Out B 0->Out B 1 ran 0.147% (expected 2.03%) of the cycles with acceptance 1/1 (100.00%)\n",
      "EnsembleHop [UnionEnsemble]->Out B 2 ran 3.097% (expected 2.03%) of the cycles with acceptance 5/21 (23.81%)\n",
      "EnsembleHop Out A 2->[UnionEnsemble] ran 1.032% (expected 2.03%) of the cycles with acceptance 6/7 (85.71%)\n",
      "EnsembleHop Out A 1->Out A 2 ran 0.737% (expected 2.03%) of the cycles with acceptance 5/5 (100.00%)\n",
      "EnsembleHop Out C 0->Out C 1 ran 0.442% (expected 2.03%) of the cycles with acceptance 3/3 (100.00%)\n",
      "EnsembleHop Out A 0->Out A 1 ran 0.000% (expected 2.03%) of the cycles with acceptance 0/0 (nan%)\n",
      "EnsembleHop Out A 2->Out A 1 ran 1.032% (expected 2.03%) of the cycles with acceptance 5/7 (71.43%)\n",
      "EnsembleHop Out B 1->Out B 2 ran 1.032% (expected 2.03%) of the cycles with acceptance 7/7 (100.00%)\n",
      "EnsembleHop Out C 1->Out C 2 ran 4.425% (expected 2.03%) of the cycles with acceptance 15/30 (50.00%)\n",
      "EnsembleHop [UnionEnsemble]->Out C 2 ran 2.950% (expected 2.03%) of the cycles with acceptance 14/20 (70.00%)\n",
      "EnsembleHop Out A 1->Out A 0 ran 0.737% (expected 2.03%) of the cycles with acceptance 0/5 (0.00%)\n",
      "EnsembleHop [UnionEnsemble]->Out A 2 ran 3.687% (expected 2.03%) of the cycles with acceptance 6/25 (24.00%)\n",
      "EnsembleHop Out C 1->Out C 0 ran 2.507% (expected 2.03%) of the cycles with acceptance 3/17 (17.65%)\n",
      "EnsembleHop Out B 2->Out B 1 ran 2.802% (expected 2.03%) of the cycles with acceptance 7/19 (36.84%)\n",
      "EnsembleHop Out C 2->[UnionEnsemble] ran 4.572% (expected 2.03%) of the cycles with acceptance 14/31 (45.16%)\n"
     ]
    }
   ],
   "source": [
    "scheme.move_summary(storage.steps, 'repex')"
   ]
  },
  {
   "cell_type": "code",
   "execution_count": null,
   "metadata": {
    "collapsed": false
   },
   "outputs": [
    {
     "name": "stdout",
     "output_type": "stream",
     "text": [
      "PathReversal ran 2.212% (expected 2.03%) of the cycles with acceptance 15/15 (100.00%)\n",
      "PathReversal ran 0.737% (expected 2.03%) of the cycles with acceptance 3/5 (60.00%)\n",
      "PathReversal ran 0.000% (expected 2.03%) of the cycles with acceptance 0/0 (nan%)\n",
      "PathReversal ran 2.802% (expected 2.03%) of the cycles with acceptance 11/19 (57.89%)\n",
      "PathReversal ran 5.015% (expected 2.03%) of the cycles with acceptance 10/34 (29.41%)\n",
      "PathReversal ran 4.572% (expected 2.03%) of the cycles with acceptance 23/31 (74.19%)\n",
      "PathReversal ran 0.737% (expected 2.03%) of the cycles with acceptance 3/5 (60.00%)\n",
      "PathReversal ran 0.147% (expected 2.03%) of the cycles with acceptance 0/1 (0.00%)\n",
      "PathReversal ran 0.000% (expected 2.03%) of the cycles with acceptance 0/0 (nan%)\n",
      "PathReversal ran 1.622% (expected 2.03%) of the cycles with acceptance 7/11 (63.64%)\n"
     ]
    }
   ],
   "source": [
    "scheme.move_summary(storage.steps, 'pathreversal')"
   ]
  },
  {
   "cell_type": "code",
   "execution_count": null,
   "metadata": {
    "collapsed": false
   },
   "outputs": [],
   "source": [
    "replica = storage.samplesets[0].samples[0].replica\n",
    "ensemble_trace = paths.trace_ensembles_for_replica(replica, storage.steps)\n",
    "print len(ensemble_trace)"
   ]
  },
  {
   "cell_type": "code",
   "execution_count": null,
   "metadata": {
    "collapsed": false
   },
   "outputs": [],
   "source": [
    "srtis_ensembles = scheme.network.sampling_ensembles+scheme.network.special_ensembles['ms_outer'].keys()\n",
    "srtis_ensemble_numbers = {e : srtis_ensembles.index(e) for e in srtis_ensembles}\n",
    "# this next is just for pretty printing\n",
    "srtis_numbers_ensemble = {srtis_ensemble_numbers[e] : e for e in srtis_ensemble_numbers}\n",
    "for k in sorted(srtis_numbers_ensemble.keys()):\n",
    "    print k, \":\", srtis_numbers_ensemble[k].name"
   ]
  },
  {
   "cell_type": "code",
   "execution_count": null,
   "metadata": {
    "collapsed": false
   },
   "outputs": [],
   "source": [
    "plt.plot([srtis_ensemble_numbers[e] for e in ensemble_trace])"
   ]
  },
  {
   "cell_type": "code",
   "execution_count": null,
   "metadata": {
    "collapsed": false
   },
   "outputs": [],
   "source": [
    "count = 0\n",
    "for i in range(len(ensemble_trace)-1):\n",
    "    [this_val, next_val] = [srtis_ensemble_numbers[ensemble_trace[k]] for k in [i,i+1]]\n",
    "    if this_val == 1 and next_val == 0:\n",
    "        count += 1\n",
    "count"
   ]
  },
  {
   "cell_type": "code",
   "execution_count": null,
   "metadata": {
    "collapsed": false
   },
   "outputs": [],
   "source": [
    "hist_numbers = [srtis_ensemble_numbers[e] for e in ensemble_trace]\n",
    "bins = [i-0.5 for i in range(len(srtis_ensembles)+1)]"
   ]
  },
  {
   "cell_type": "code",
   "execution_count": null,
   "metadata": {
    "collapsed": false
   },
   "outputs": [],
   "source": [
    "plt.hist(hist_numbers, bins=bins);"
   ]
  },
  {
   "cell_type": "code",
   "execution_count": null,
   "metadata": {
    "collapsed": false
   },
   "outputs": [],
   "source": [
    "import pandas as pd\n",
    "hist = paths.analysis.Histogram(bin_width=1.0, bin_range=[-0.5,9.5])\n",
    "colnames = {i : srtis_numbers_ensemble[i].name for i in range(len(srtis_ensembles))}\n",
    "df = pd.DataFrame(columns=[colnames[i] for i in colnames])"
   ]
  },
  {
   "cell_type": "code",
   "execution_count": null,
   "metadata": {
    "collapsed": false,
    "scrolled": true
   },
   "outputs": [],
   "source": [
    "for i in range(len(hist_numbers)):\n",
    "    hist.add_data_to_histogram([hist_numbers[i]])\n",
    "    if i % 100 == 0:\n",
    "        normalized = hist.normalized()\n",
    "        local_df = pd.DataFrame([normalized.values()], index=[i], columns=[colnames[k] for k in normalized.keys()])\n",
    "        df = df.append(local_df)"
   ]
  },
  {
   "cell_type": "code",
   "execution_count": null,
   "metadata": {
    "collapsed": false
   },
   "outputs": [],
   "source": [
    "plt.pcolormesh(df.fillna(0.0), cmap=\"bwr\", vmin=0.0, vmax=0.2);\n",
    "plt.gca().invert_yaxis()\n",
    "plt.colorbar()"
   ]
  },
  {
   "cell_type": "code",
   "execution_count": null,
   "metadata": {
    "collapsed": true
   },
   "outputs": [],
   "source": []
  }
 ],
 "metadata": {
  "kernelspec": {
   "display_name": "Python 2",
   "language": "python",
   "name": "python2"
  },
  "language_info": {
   "codemirror_mode": {
    "name": "ipython",
    "version": 2
   },
   "file_extension": ".py",
   "mimetype": "text/x-python",
   "name": "python",
   "nbconvert_exporter": "python",
   "pygments_lexer": "ipython2",
   "version": "2.7.12"
  }
 },
 "nbformat": 4,
 "nbformat_minor": 0
}

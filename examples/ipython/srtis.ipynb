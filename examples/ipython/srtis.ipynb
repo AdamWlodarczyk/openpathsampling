{
 "cells": [
  {
   "cell_type": "markdown",
   "metadata": {},
   "source": [
    "# Single Replica TIS\n",
    "\n",
    "This notebook shows how to run single replica TIS move scheme. This assumes you can load engine, network, and initial sample from a previous calculation."
   ]
  },
  {
   "cell_type": "code",
   "execution_count": null,
   "metadata": {
    "collapsed": false
   },
   "outputs": [],
   "source": [
    "%matplotlib inline\n",
    "import openpathsampling as paths\n",
    "import numpy as np\n",
    "import matplotlib.pyplot as plt"
   ]
  },
  {
   "cell_type": "code",
   "execution_count": null,
   "metadata": {
    "collapsed": true
   },
   "outputs": [],
   "source": [
    "from openpathsampling.visualize import PathTreeBuilder, PathTreeBuilder\n",
    "from IPython.display import SVG, HTML\n",
    "\n",
    "def ipynb_visualize(movevis):\n",
    "    \"\"\"Default settings to show a movevis in an ipynb.\"\"\"\n",
    "    view = movevis.renderer\n",
    "    view.zoom = 1.5\n",
    "    view.scale_y = 18\n",
    "    view.scale_th = 20\n",
    "    view.font_size = 0.4\n",
    "    return view"
   ]
  },
  {
   "cell_type": "markdown",
   "metadata": {},
   "source": [
    "Open the storage and load things from it."
   ]
  },
  {
   "cell_type": "code",
   "execution_count": null,
   "metadata": {
    "collapsed": false
   },
   "outputs": [],
   "source": [
    "#old_store = paths.AnalysisStorage(\"mstis.nc\")\n",
    "old_store = paths.Storage(\"mstis.nc\")  # if not actually doing analysis, but loading network, etc"
   ]
  },
  {
   "cell_type": "code",
   "execution_count": null,
   "metadata": {
    "collapsed": false
   },
   "outputs": [],
   "source": [
    "network = old_store.networks[0]\n",
    "engine = old_store.engines[0]\n",
    "template = old_store.snapshots[0]"
   ]
  },
  {
   "cell_type": "code",
   "execution_count": null,
   "metadata": {
    "collapsed": false
   },
   "outputs": [],
   "source": [
    "network.hist_args['max_lambda'] = { 'bin_width' : 0.02, 'bin_range' : (0.0, 0.5) }\n",
    "network.hist_args['pathlength'] = { 'bin_width' : 5, 'bin_range' : (0, 150) }\n",
    "#rate = network.rate_matrix(old_store.steps)"
   ]
  },
  {
   "cell_type": "markdown",
   "metadata": {},
   "source": [
    "One of the points of SRTIS is that we use a bias (which comes from an estimate of the crossing probability) in order to improve our sampling."
   ]
  },
  {
   "cell_type": "code",
   "execution_count": null,
   "metadata": {
    "collapsed": false
   },
   "outputs": [],
   "source": [
    "# this is the normal way you'd get this table\n",
    "#table = {}\n",
    "#for t in network.sampling_transitions:\n",
    "#    for ens, lambda_ens in zip(t.ensembles, [0.04, 0.09, 0.15]):\n",
    "#        table[ens] = t.tcp(lambda_ens)\n",
    "#for ens in network.special_ensembles['ms_outer'].keys():\n",
    "#    table[ens] = 0.0\n",
    "#    for t in network.sampling_transitions:\n",
    "#        table[ens] += t.tcp(0.25)\n",
    "#    table[ens] *= len(network.special_ensembles['ms_outer'].keys())\n",
    "#    # TODO: Justify the math behind that. Also, run it a bunch more times.\n",
    "    \n",
    "# However, we usually have a short (bad statistics) run in \"mstis.nc\"\n",
    "# Here are results that I got from a 10k MC step run\n",
    "#desired_table = {\n",
    "#    \"Out A 0\" : 1.0,\n",
    "#    \"Out A 1\" : 0.13631671445062318,\n",
    "#    \"Out A 2\" : 0.024940771341558789,\n",
    "#    \"Out B 0\" : 1.0,\n",
    "#    \"Out B 1\" : 0.17104343305339545,\n",
    "#    \"Out B 2\" : 0.03927673242602249,\n",
    "#    \"Out C 0\" : 1.0,\n",
    "#    \"Out C 1\" : 0.19353622940592666,\n",
    "#    \"Out C 2\" : 0.066440692846493191,\n",
    "#    \"[UnionEnsemble]\" : (0.0030508557603910859+0.0087422825961122538+0.017858280680711457)*3\n",
    "#} # Union is sum of outermost vals for all 3 versions, times the number of versions\n",
    "\n",
    "# Here are results that I got from a 20k MC step run\n",
    "desired_table = {\n",
    "    \"Out A 0\" : 1.0,\n",
    "    \"Out A 1\" : 0.13293104100673198,\n",
    "    \"Out A 2\" : 0.044370838092911397,\n",
    "    \"Out B 0\" : 1.0,\n",
    "    \"Out B 1\" : 0.13846029208307947,\n",
    "    \"Out B 2\" : 0.042622152070289694,\n",
    "    \"Out C 0\" : 1.0,\n",
    "    \"Out C 1\" : 0.19485705066078274,\n",
    "    \"Out C 2\" : 0.053373003923696649,\n",
    "    \"[UnionEnsemble]\" : (0.021975696374764188 + 0.021955804935886884 + 0.029175949467020165) / 3\n",
    "} # Union is sum of outermost vals for all 3 versions, times the number of versions\n",
    "\n",
    "\n",
    "# now we'll set `table` based on `desired_table`\n",
    "table = {}\n",
    "my_ensembles = network.sampling_ensembles + network.special_ensembles['ms_outer'].keys()\n",
    "for ens in my_ensembles:\n",
    "    table[ens] = desired_table[ens.name]"
   ]
  },
  {
   "cell_type": "code",
   "execution_count": null,
   "metadata": {
    "collapsed": false
   },
   "outputs": [],
   "source": [
    "bias = paths.BiasEnsembleTable(table)"
   ]
  },
  {
   "cell_type": "markdown",
   "metadata": {},
   "source": [
    "Here we actually set up the SRTIS move scheme for the given network. It only requires one line:"
   ]
  },
  {
   "cell_type": "code",
   "execution_count": null,
   "metadata": {
    "collapsed": false
   },
   "outputs": [],
   "source": [
    "scheme = paths.SRTISScheme(network, bias=bias, engine=engine)"
   ]
  },
  {
   "cell_type": "markdown",
   "metadata": {},
   "source": [
    "Now we'll visualize the SRTIS move scheme."
   ]
  },
  {
   "cell_type": "code",
   "execution_count": null,
   "metadata": {
    "collapsed": false,
    "scrolled": false
   },
   "outputs": [],
   "source": [
    "movevis = paths.visualize.MoveTreeBuilder()\n",
    "#movevis.mover(scheme.move_decision_tree(), network.all_ensembles)\n",
    "#SVG(ipynb_visualize(movevis).to_svg())"
   ]
  },
  {
   "cell_type": "markdown",
   "metadata": {},
   "source": [
    "Next we need to set up an appropriate single-replica initial sample set. We'll take the last version of from one of the outer TIS ensembles."
   ]
  },
  {
   "cell_type": "code",
   "execution_count": null,
   "metadata": {
    "collapsed": false
   },
   "outputs": [],
   "source": [
    "final_samp0 = old_store.steps[len(old_store.steps)-1].active[network.sampling_ensembles[-1]]"
   ]
  },
  {
   "cell_type": "code",
   "execution_count": null,
   "metadata": {
    "collapsed": false
   },
   "outputs": [],
   "source": [
    "sset = paths.SampleSet([final_samp0])"
   ]
  },
  {
   "cell_type": "markdown",
   "metadata": {},
   "source": [
    "Finally, we set up the new storage file and the new simulation. "
   ]
  },
  {
   "cell_type": "code",
   "execution_count": null,
   "metadata": {
    "collapsed": false
   },
   "outputs": [],
   "source": [
    "storage = paths.Storage(\"srtis.nc\", \"w\", template)"
   ]
  },
  {
   "cell_type": "code",
   "execution_count": null,
   "metadata": {
    "collapsed": false
   },
   "outputs": [],
   "source": [
    "srtis = paths.PathSampling(\n",
    "    storage=storage,\n",
    "    globalstate=sset,\n",
    "    move_scheme=scheme\n",
    ")"
   ]
  },
  {
   "cell_type": "code",
   "execution_count": null,
   "metadata": {
    "collapsed": false
   },
   "outputs": [],
   "source": [
    "n_steps_to_run = int(scheme.n_steps_for_trials(\n",
    "        mover=scheme.movers['minus'][0], \n",
    "        n_attempts=1\n",
    "    ))\n",
    "print n_steps_to_run"
   ]
  },
  {
   "cell_type": "code",
   "execution_count": null,
   "metadata": {
    "collapsed": true
   },
   "outputs": [],
   "source": [
    "# logging creates ops_output.log file with details of what the calculation is doing\n",
    "import logging.config\n",
    "logging.config.fileConfig(\"logging.conf\", disable_existing_loggers=False)"
   ]
  },
  {
   "cell_type": "code",
   "execution_count": null,
   "metadata": {
    "collapsed": false
   },
   "outputs": [],
   "source": [
    "%%time\n",
    "multiplier = 2\n",
    "srtis.run_until(multiplier*n_steps_to_run)"
   ]
  },
  {
   "cell_type": "code",
   "execution_count": null,
   "metadata": {
    "collapsed": false
   },
   "outputs": [],
   "source": [
    "storage.close()"
   ]
  },
  {
   "cell_type": "markdown",
   "metadata": {},
   "source": [
    "From here, we'll be doing the analysis of the SRTIS run."
   ]
  },
  {
   "cell_type": "code",
   "execution_count": null,
   "metadata": {
    "collapsed": false
   },
   "outputs": [],
   "source": [
    "%%time\n",
    "storage = paths.AnalysisStorage(\"srtis.nc\")\n",
    "scheme = storage.schemes[0]"
   ]
  },
  {
   "cell_type": "code",
   "execution_count": null,
   "metadata": {
    "collapsed": false
   },
   "outputs": [],
   "source": [
    "scheme.move_summary(storage.steps)"
   ]
  },
  {
   "cell_type": "code",
   "execution_count": null,
   "metadata": {
    "collapsed": false
   },
   "outputs": [],
   "source": [
    "scheme.move_summary(storage.steps, 'shooting')"
   ]
  },
  {
   "cell_type": "code",
   "execution_count": null,
   "metadata": {
    "collapsed": false
   },
   "outputs": [],
   "source": [
    "scheme.move_summary(storage.steps, 'minus')"
   ]
  },
  {
   "cell_type": "code",
   "execution_count": null,
   "metadata": {
    "collapsed": false
   },
   "outputs": [],
   "source": [
    "scheme.move_summary(storage.steps, 'repex')"
   ]
  },
  {
   "cell_type": "code",
   "execution_count": null,
   "metadata": {
    "collapsed": false
   },
   "outputs": [],
   "source": [
    "scheme.move_summary(storage.steps, 'pathreversal')"
   ]
  },
  {
   "cell_type": "code",
   "execution_count": null,
   "metadata": {
    "collapsed": false
   },
   "outputs": [],
   "source": [
    "replica = storage.samplesets[0].samples[0].replica\n",
    "ensemble_trace = paths.trace_ensembles_for_replica(replica, storage.steps)\n",
    "print len(ensemble_trace)"
   ]
  },
  {
   "cell_type": "code",
   "execution_count": null,
   "metadata": {
    "collapsed": false
   },
   "outputs": [],
   "source": [
    "repex_acceptance = {}\n",
    "for mover in scheme.movers['repex']:\n",
    "    acceptance = [scheme._mover_acceptance[key] for key in scheme._mover_acceptance if key[0] == mover]\n",
    "    repex_acceptance[mover] = acceptance[0]\n",
    "\n",
    "scheme.build_balance_partners()\n",
    "tagged_movers = []\n",
    "for mover in repex_acceptance:\n",
    "    if mover in tagged_movers:\n",
    "        break\n",
    "    name = mover.name\n",
    "    acceptance = repex_acceptance[mover]\n",
    "    acc = float(acceptance[0])/acceptance[1]\n",
    "    bp_acceptance = repex_acceptance[scheme.balance_partners[mover][0]]\n",
    "    bp_acc = float(bp_acceptance[0])/bp_acceptance[1]\n",
    "    in_name = mover.input_ensembles[0].name\n",
    "    out_name = mover.output_ensembles[0].name\n",
    "    out_over_in = desired_table[out_name] / desired_table[in_name]\n",
    "    in_over_out = desired_table[in_name] / desired_table[out_name]\n",
    "    print \"{:.1%} {:.1%} {:.1%}\".format(acc, bp_acc, min(out_over_in, in_over_out))"
   ]
  },
  {
   "cell_type": "code",
   "execution_count": null,
   "metadata": {
    "collapsed": false
   },
   "outputs": [],
   "source": [
    "srtis_ensembles = scheme.network.sampling_ensembles+scheme.network.special_ensembles['ms_outer'].keys()\n",
    "srtis_ensemble_numbers = {e : srtis_ensembles.index(e) for e in srtis_ensembles}\n",
    "# this next is just for pretty printing\n",
    "srtis_numbers_ensemble = {srtis_ensemble_numbers[e] : e for e in srtis_ensemble_numbers}\n",
    "for k in sorted(srtis_numbers_ensemble.keys()):\n",
    "    print k, \":\", srtis_numbers_ensemble[k].name"
   ]
  },
  {
   "cell_type": "code",
   "execution_count": null,
   "metadata": {
    "collapsed": false
   },
   "outputs": [],
   "source": [
    "plt.plot([srtis_ensemble_numbers[e] for e in ensemble_trace])"
   ]
  },
  {
   "cell_type": "code",
   "execution_count": null,
   "metadata": {
    "collapsed": false
   },
   "outputs": [],
   "source": [
    "count = 0\n",
    "for i in range(len(ensemble_trace)-1):\n",
    "    [this_val, next_val] = [srtis_ensemble_numbers[ensemble_trace[k]] for k in [i,i+1]]\n",
    "    if this_val == 1 and next_val == 0:\n",
    "        count += 1\n",
    "count"
   ]
  },
  {
   "cell_type": "code",
   "execution_count": null,
   "metadata": {
    "collapsed": false
   },
   "outputs": [],
   "source": [
    "hist_numbers = [srtis_ensemble_numbers[e] for e in ensemble_trace]\n",
    "bins = [i-0.5 for i in range(len(srtis_ensembles)+1)]"
   ]
  },
  {
   "cell_type": "code",
   "execution_count": null,
   "metadata": {
    "collapsed": false
   },
   "outputs": [],
   "source": [
    "plt.hist(hist_numbers, bins=bins);"
   ]
  },
  {
   "cell_type": "code",
   "execution_count": null,
   "metadata": {
    "collapsed": false
   },
   "outputs": [],
   "source": [
    "import pandas as pd\n",
    "hist = paths.analysis.Histogram(bin_width=1.0, bin_range=[-0.5,9.5])\n",
    "colnames = {i : srtis_numbers_ensemble[i].name for i in range(len(srtis_ensembles))}\n",
    "df = pd.DataFrame(columns=[colnames[i] for i in colnames])"
   ]
  },
  {
   "cell_type": "code",
   "execution_count": null,
   "metadata": {
    "collapsed": false,
    "scrolled": true
   },
   "outputs": [],
   "source": [
    "for i in range(len(hist_numbers)):\n",
    "    hist.add_data_to_histogram([hist_numbers[i]])\n",
    "    if i % 100 == 0:\n",
    "        normalized = hist.normalized()\n",
    "        local_df = pd.DataFrame([normalized.values()], index=[i], columns=[colnames[k] for k in normalized.keys()])\n",
    "        df = df.append(local_df)"
   ]
  },
  {
   "cell_type": "code",
   "execution_count": null,
   "metadata": {
    "collapsed": false
   },
   "outputs": [],
   "source": [
    "plt.pcolormesh(df.fillna(0.0));"
   ]
  },
  {
   "cell_type": "code",
   "execution_count": null,
   "metadata": {
    "collapsed": true
   },
   "outputs": [],
   "source": []
  }
 ],
 "metadata": {
  "kernelspec": {
   "display_name": "Python 2",
   "language": "python",
   "name": "python2"
  },
  "language_info": {
   "codemirror_mode": {
    "name": "ipython",
    "version": 2
   },
   "file_extension": ".py",
   "mimetype": "text/x-python",
   "name": "python",
   "nbconvert_exporter": "python",
   "pygments_lexer": "ipython2",
   "version": "2.7.11"
  }
 },
 "nbformat": 4,
 "nbformat_minor": 0
}

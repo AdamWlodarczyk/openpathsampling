{
 "cells": [
  {
   "cell_type": "markdown",
   "metadata": {},
   "source": [
    "# Single Replica TIS\n",
    "\n",
    "This notebook shows how to run single replica TIS move scheme. This assumes you can load engine, network, and initial sample from a previous calculation."
   ]
  },
  {
   "cell_type": "code",
   "execution_count": null,
   "metadata": {
    "collapsed": false
   },
   "outputs": [],
   "source": [
    "%matplotlib inline\n",
    "import openpathsampling as paths\n",
    "import numpy as np"
   ]
  },
  {
   "cell_type": "code",
   "execution_count": null,
   "metadata": {
    "collapsed": true
   },
   "outputs": [],
   "source": [
    "from openpathsampling.visualize import PathTreeBuilder, PathTreeBuilder\n",
    "from IPython.display import SVG, HTML\n",
    "\n",
    "def ipynb_visualize(movevis):\n",
    "    \"\"\"Default settings to show a movevis in an ipynb.\"\"\"\n",
    "    view = movevis.renderer\n",
    "    view.zoom = 1.5\n",
    "    view.scale_y = 18\n",
    "    view.scale_th = 20\n",
    "    view.font_size = 0.4\n",
    "    return view"
   ]
  },
  {
   "cell_type": "markdown",
   "metadata": {},
   "source": [
    "Open the storage and load things from it."
   ]
  },
  {
   "cell_type": "code",
   "execution_count": null,
   "metadata": {
    "collapsed": false
   },
   "outputs": [],
   "source": [
    "old_store = paths.AnalysisStorage(\"mstis.nc\")"
   ]
  },
  {
   "cell_type": "code",
   "execution_count": null,
   "metadata": {
    "collapsed": false
   },
   "outputs": [],
   "source": [
    "network = old_store.networks[0]\n",
    "engine = old_store.engines[0]\n",
    "template = old_store.snapshots[0]"
   ]
  },
  {
   "cell_type": "code",
   "execution_count": null,
   "metadata": {
    "collapsed": false
   },
   "outputs": [],
   "source": [
    "network.hist_args['max_lambda'] = { 'bin_width' : 0.02, 'bin_range' : (0.0, 0.5) }\n",
    "network.hist_args['pathlength'] = { 'bin_width' : 5, 'bin_range' : (0, 150) }\n",
    "rate = network.rate_matrix(old_store)"
   ]
  },
  {
   "cell_type": "code",
   "execution_count": null,
   "metadata": {
    "collapsed": false
   },
   "outputs": [],
   "source": [
    "# TODO: add way to get the \n",
    "table = {}\n",
    "for t in network.sampling_transitions:\n",
    "    for ens, lambda_ens in zip(t.ensembles, [0.04, 0.09, 0.16]):\n",
    "        table[ens] = t.tcp(lambda_ens)"
   ]
  },
  {
   "cell_type": "code",
   "execution_count": null,
   "metadata": {
    "collapsed": false
   },
   "outputs": [],
   "source": [
    "bias = paths.BiasEnsembleTable(table)"
   ]
  },
  {
   "cell_type": "code",
   "execution_count": null,
   "metadata": {
    "collapsed": false
   },
   "outputs": [],
   "source": [
    "print table"
   ]
  },
  {
   "cell_type": "markdown",
   "metadata": {},
   "source": [
    "Here we actually set up the SRTIS move scheme for the given network. It only requires one line:"
   ]
  },
  {
   "cell_type": "code",
   "execution_count": null,
   "metadata": {
    "collapsed": true
   },
   "outputs": [],
   "source": [
    "scheme = paths.SRTISScheme(network)"
   ]
  },
  {
   "cell_type": "markdown",
   "metadata": {},
   "source": [
    "Now we'll visualize the SRTIS move scheme."
   ]
  },
  {
   "cell_type": "code",
   "execution_count": null,
   "metadata": {
    "collapsed": false
   },
   "outputs": [],
   "source": [
    "movevis = paths.visualize.MoveTreeBuilder()\n",
    "movevis.mover(scheme.move_decision_tree(), network.all_ensembles)\n",
    "SVG(ipynb_visualize(movevis).to_svg())"
   ]
  },
  {
   "cell_type": "markdown",
   "metadata": {},
   "source": [
    "Next we need to set up an appropriate single-replica initial sample set. We'll take the last version of replica 0 from the previous simulation."
   ]
  },
  {
   "cell_type": "code",
   "execution_count": null,
   "metadata": {
    "collapsed": false
   },
   "outputs": [],
   "source": [
    "final_samp0 = old_store.steps[len(old_store.steps)-1].active[0]"
   ]
  },
  {
   "cell_type": "code",
   "execution_count": null,
   "metadata": {
    "collapsed": false
   },
   "outputs": [],
   "source": [
    "sset = paths.SampleSet([final_samp0])"
   ]
  },
  {
   "cell_type": "markdown",
   "metadata": {},
   "source": [
    "Finally, we set up the new storage file and the new simulation. "
   ]
  },
  {
   "cell_type": "code",
   "execution_count": null,
   "metadata": {
    "collapsed": false
   },
   "outputs": [],
   "source": [
    "storage = paths.Storage(\"srtis.nc\", \"w\", template)"
   ]
  },
  {
   "cell_type": "code",
   "execution_count": null,
   "metadata": {
    "collapsed": false
   },
   "outputs": [],
   "source": [
    "srtis = paths.PathSampling(\n",
    "    storage=storage,\n",
    "    globalstate=sset,\n",
    "    engine=engine,\n",
    "    move_scheme=scheme\n",
    ")"
   ]
  },
  {
   "cell_type": "code",
   "execution_count": null,
   "metadata": {
    "collapsed": false
   },
   "outputs": [],
   "source": [
    "n_steps_to_run = int(scheme.n_steps_for_trials(\n",
    "        mover=scheme.movers['minus'][0], \n",
    "        n_attempts=2\n",
    "    ))\n",
    "print n_steps_to_run"
   ]
  },
  {
   "cell_type": "code",
   "execution_count": null,
   "metadata": {
    "collapsed": false
   },
   "outputs": [],
   "source": [
    "srtis.run_until(n_steps_to_run*10)"
   ]
  },
  {
   "cell_type": "code",
   "execution_count": null,
   "metadata": {
    "collapsed": false
   },
   "outputs": [],
   "source": [
    "storage.close()\n",
    "storage = paths.AnalysisStorage(\"srtis.nc\")"
   ]
  },
  {
   "cell_type": "code",
   "execution_count": null,
   "metadata": {
    "collapsed": true
   },
   "outputs": [],
   "source": [
    "scheme = storage.schemes[0]"
   ]
  },
  {
   "cell_type": "code",
   "execution_count": null,
   "metadata": {
    "collapsed": false
   },
   "outputs": [],
   "source": [
    "scheme.move_summary(storage, 'shooting')"
   ]
  },
  {
   "cell_type": "code",
   "execution_count": null,
   "metadata": {
    "collapsed": true
   },
   "outputs": [],
   "source": []
  }
 ],
 "metadata": {
  "kernelspec": {
   "display_name": "Python 2",
   "language": "python",
   "name": "python2"
  },
  "language_info": {
   "codemirror_mode": {
    "name": "ipython",
    "version": 2
   },
   "file_extension": ".py",
   "mimetype": "text/x-python",
   "name": "python",
   "nbconvert_exporter": "python",
   "pygments_lexer": "ipython2",
   "version": "2.7.10"
  }
 },
 "nbformat": 4,
 "nbformat_minor": 0
}

{
 "metadata": {
  "name": "",
  "signature": "sha256:ec83a6a83b8e55330b9aedc7f0f79438787a8811bb95c678e1a3beb52d16a5bd"
 },
 "nbformat": 3,
 "nbformat_minor": 0,
 "worksheets": [
  {
   "cells": [
    {
     "cell_type": "markdown",
     "metadata": {},
     "source": [
      "# OPENTIS\n",
      "## An Example with Alanine"
     ]
    },
    {
     "cell_type": "markdown",
     "metadata": {},
     "source": [
      "Import Modules"
     ]
    },
    {
     "cell_type": "code",
     "collapsed": false,
     "input": [
      "import numpy as np\n",
      "import mdtraj as md\n",
      "import pandas as pd\n",
      "import time\n",
      "import sys, os\n",
      " \n",
      "# in principle, all of these imports should be simplified once this is a package\n",
      "from opentis.orderparameter import OP_Function, OP_Volume\n",
      "from opentis.snapshot import Snapshot\n",
      "from opentis.volume import LambdaVolumePeriodic, VolumeFactory as vf\n",
      "from opentis.pathmover import PathMoverFactory as mf\n",
      "from opentis.ensemble import EnsembleFactory as ef\n",
      "from opentis.ensemble import (LengthEnsemble, SequentialEnsemble, OutXEnsemble,\n",
      "                      InXEnsemble, HitXEnsemble, LeaveXEnsemble)\n",
      "from opentis.storage import Storage\n",
      "from opentis.trajectory import Trajectory\n",
      "from opentis.calculation import Bootstrapping\n",
      "from opentis.pathmover import PathMover\n",
      "from opentis.shooting import UniformSelector\n",
      "import simtk.unit as u\n",
      "\n",
      "from opentis.openmm_engine import OpenMMEngine\n",
      "\n",
      "from opentis.storage import Storage\n",
      "from opentis.visualize import PathTreeBuilder\n",
      "from IPython.display import SVG"
     ],
     "language": "python",
     "metadata": {},
     "outputs": [],
     "prompt_number": 1
    },
    {
     "cell_type": "markdown",
     "metadata": {},
     "source": [
      "Radians to Degree conversion"
     ]
    },
    {
     "cell_type": "code",
     "collapsed": false,
     "input": [
      "degrees = 180/3.14159 # psi reports in radians; I think in degrees"
     ],
     "language": "python",
     "metadata": {},
     "outputs": [],
     "prompt_number": 2
    },
    {
     "cell_type": "markdown",
     "metadata": {},
     "source": [
      "Create an AlanineOpenMMSimulator for demonstration purposes"
     ]
    },
    {
     "cell_type": "markdown",
     "metadata": {},
     "source": [
      "### Set simulation options and create a simulator object"
     ]
    },
    {
     "cell_type": "code",
     "collapsed": false,
     "input": [
      "options = {\n",
      "            'temperature' : 300.0 * u.kelvin,\n",
      "            'collision_rate' : 1.0 / u.picoseconds,\n",
      "            'timestep' : 2.0 * u.femtoseconds,\n",
      "            'nsteps_per_frame' : 10,\n",
      "            'n_frames_max' : 5000,\n",
      "            'start_time' : time.time(),\n",
      "            'fn_initial_pdb' : \"../data/Alanine_solvated.pdb\",\n",
      "            'platform' : 'fastest',\n",
      "            'solute_indices' : range(22),\n",
      "            'forcefield_solute' : 'amber96.xml',\n",
      "            'forcefield_solvent' : 'tip3p.xml'\n",
      "           }"
     ],
     "language": "python",
     "metadata": {},
     "outputs": [],
     "prompt_number": 3
    },
    {
     "cell_type": "code",
     "collapsed": false,
     "input": [
      "engine = OpenMMEngine.auto(\n",
      "                filename=\"trajectory.nc\",\n",
      "                template=\"../data/Alanine_solvated.pdb\",\n",
      "                options=options,\n",
      "                mode='create'\n",
      "                )"
     ],
     "language": "python",
     "metadata": {},
     "outputs": [],
     "prompt_number": 4
    },
    {
     "cell_type": "markdown",
     "metadata": {},
     "source": [
      "And save the storage in a separate variable for convenience"
     ]
    },
    {
     "cell_type": "code",
     "collapsed": false,
     "input": [
      "storage = engine.storage\n",
      "PathMover.engine = engine"
     ],
     "language": "python",
     "metadata": {},
     "outputs": [],
     "prompt_number": 5
    },
    {
     "cell_type": "markdown",
     "metadata": {},
     "source": [
      "Equilibrate"
     ]
    },
    {
     "cell_type": "code",
     "collapsed": false,
     "input": [
      "engine.current_snapshot = engine.template\n",
      "engine.equilibrate(5)\n",
      "engine.initialized = True"
     ],
     "language": "python",
     "metadata": {},
     "outputs": [],
     "prompt_number": 6
    },
    {
     "cell_type": "markdown",
     "metadata": {},
     "source": [
      "Save equilibrated snapshot with index 0"
     ]
    },
    {
     "cell_type": "code",
     "collapsed": false,
     "input": [
      "storage.save(engine.current_snapshot);"
     ],
     "language": "python",
     "metadata": {},
     "outputs": [],
     "prompt_number": 7
    },
    {
     "cell_type": "markdown",
     "metadata": {},
     "source": [
      "### Order Parameters"
     ]
    },
    {
     "cell_type": "markdown",
     "metadata": {},
     "source": [
      "this generates an order parameter (callable) object named psi (so if we call `psi(trajectory)` we get a list of the values of psi for each frame in the trajectory). This particular order parameter uses mdtraj's compute_dihedrals function, with the atoms in psi_atoms"
     ]
    },
    {
     "cell_type": "code",
     "collapsed": false,
     "input": [
      "psi_atoms = [6,8,14,16]\n",
      "psi = OP_Function(\"psi\", md.compute_dihedrals, trajdatafmt=\"mdtraj\",\n",
      "                  indices=[psi_atoms])\n",
      "\n",
      "phi_atoms = [4,6,8,14]\n",
      "phi = OP_Function(\"phi\", md.compute_dihedrals, trajdatafmt=\"mdtraj\",\n",
      "                  indices=[phi_atoms])\n",
      "\n",
      "storage.save([psi, phi]);"
     ],
     "language": "python",
     "metadata": {},
     "outputs": [],
     "prompt_number": 8
    },
    {
     "cell_type": "markdown",
     "metadata": {},
     "source": [
      "### Volumes"
     ]
    },
    {
     "cell_type": "markdown",
     "metadata": {},
     "source": [
      "This creates two states using a one-dimensional order parameter (called _Lambda_ in TIS terminology). A snapshot is in the State as long as the order parameter is with specific bounds. "
     ]
    },
    {
     "cell_type": "code",
     "collapsed": false,
     "input": [
      "stateA = LambdaVolumePeriodic(\n",
      "    orderparameter=psi, \n",
      "    lambda_min=-120.0/degrees, \n",
      "    lambda_max=-30.0/degrees, \n",
      "    period_min=-180.0/degrees, \n",
      "    period_max=+180.0/degrees\n",
      ")\n",
      "stateB = LambdaVolumePeriodic(psi, 100/degrees, 180/degrees, -180.0/degrees, +180.0/degrees)"
     ],
     "language": "python",
     "metadata": {},
     "outputs": [],
     "prompt_number": 9
    },
    {
     "cell_type": "markdown",
     "metadata": {},
     "source": [
      "Now do the same for a set of lambda ranges to produce nested volumes."
     ]
    },
    {
     "cell_type": "code",
     "collapsed": false,
     "input": [
      "minima = map((1.0 / degrees).__mul__,\n",
      "             [-125, -135, -140, -142.5, -145.0, -147.0, -150.0])\n",
      "\n",
      "maxima = map((1.0 / degrees).__mul__,\n",
      "             [-25.0, -21.0, -18.5, -17.0, -15.0, -10.0, 0.0])\n",
      "\n",
      "volume_set = vf.LambdaVolumePeriodicSet(psi, minima, maxima, -180.0/degrees, +180.0/degrees)"
     ],
     "language": "python",
     "metadata": {},
     "outputs": [],
     "prompt_number": 10
    },
    {
     "cell_type": "markdown",
     "metadata": {},
     "source": [
      "### Ensembles"
     ]
    },
    {
     "cell_type": "markdown",
     "metadata": {},
     "source": [
      "Now do this automatically for all ensembles"
     ]
    },
    {
     "cell_type": "code",
     "collapsed": false,
     "input": [
      "interface0 = volume_set[0]\n",
      "interface_set = ef.TISEnsembleSet(stateA, stateA | stateB, volume_set)\n",
      "for no, interface in enumerate(interface_set):\n",
      "    # Give each interface a name\n",
      "    interface.name = 'Interface '+str(no)\n",
      "    # And save all of these\n",
      "    storage.ensemble.save(interface)"
     ],
     "language": "python",
     "metadata": {},
     "outputs": [],
     "prompt_number": 11
    },
    {
     "cell_type": "markdown",
     "metadata": {},
     "source": [
      "And create a special ensemble, that will create a first trajectory in the innermost TIS ensemble independent from where we start"
     ]
    },
    {
     "cell_type": "markdown",
     "metadata": {},
     "source": [
      "The idea is to describe a trajectory type by a sequence of positions. First can be outside of stateA or not, then be inside stateA, etc..."
     ]
    },
    {
     "cell_type": "code",
     "collapsed": false,
     "input": [
      "    first_traj_ensemble = SequentialEnsemble([\n",
      "        OutXEnsemble(stateA) | LengthEnsemble(0),\n",
      "        InXEnsemble(stateA),\n",
      "        (OutXEnsemble(stateA) & InXEnsemble(interface0)) | LengthEnsemble(0),\n",
      "        InXEnsemble(interface0) | LengthEnsemble(0),\n",
      "        OutXEnsemble(interface0),\n",
      "        OutXEnsemble(stateA) | LengthEnsemble(0),\n",
      "        InXEnsemble(stateA) & LengthEnsemble(1)\n",
      "    ])"
     ],
     "language": "python",
     "metadata": {},
     "outputs": [],
     "prompt_number": 12
    },
    {
     "cell_type": "markdown",
     "metadata": {},
     "source": [
      "### start path generation"
     ]
    },
    {
     "cell_type": "markdown",
     "metadata": {},
     "source": [
      "so lets try and see if we can generate a first path"
     ]
    },
    {
     "cell_type": "markdown",
     "metadata": {},
     "source": [
      "load the initial snapshot (although we still have it) and generate using the Alanine simulator. The second option specifies a function : trajectory -> bool that keeps the simulation running as long as it is true. Our goal was to generate a path that belongs to a specific ensemble, so we use `forward` to determine if it makes sense to keep running or if the result cannot belong to the ensemble anymore."
     ]
    },
    {
     "cell_type": "code",
     "collapsed": false,
     "input": [
      "snapshot = storage.load(Snapshot, 0)\n",
      "total_path = engine.generate(\n",
      "    snapshot= snapshot, \n",
      "    running = [first_traj_ensemble.can_append]\n",
      ")"
     ],
     "language": "python",
     "metadata": {},
     "outputs": [],
     "prompt_number": 13
    },
    {
     "cell_type": "markdown",
     "metadata": {},
     "source": [
      "Show the length"
     ]
    },
    {
     "cell_type": "code",
     "collapsed": false,
     "input": [
      "print \"Total trajectory length: \", len(total_path)"
     ],
     "language": "python",
     "metadata": {},
     "outputs": [
      {
       "output_type": "stream",
       "stream": "stdout",
       "text": [
        "Total trajectory length:  127\n"
       ]
      }
     ],
     "prompt_number": 14
    },
    {
     "cell_type": "markdown",
     "metadata": {},
     "source": [
      "And save the trajetory completely"
     ]
    },
    {
     "cell_type": "code",
     "collapsed": false,
     "input": [
      "storage.save(total_path);"
     ],
     "language": "python",
     "metadata": {},
     "outputs": [],
     "prompt_number": 15
    },
    {
     "cell_type": "markdown",
     "metadata": {},
     "source": [
      "Split the trajectory into parts that belong to the TIS ensemble (not the one we generated)"
     ]
    },
    {
     "cell_type": "code",
     "collapsed": false,
     "input": [
      "interface0_ensemble = interface_set[0]\n",
      "segments = interface0_ensemble.split(total_path)\n",
      "\n",
      "print \"Traj in first_traj_ensemble? (should be)\", \n",
      "print first_traj_ensemble(total_path)\n",
      "\n",
      "print \"Traj in TIS ensemble? (probably not)\", \n",
      "print interface0_ensemble(total_path)\n",
      "\n",
      "\n",
      "print \"Number of segments in TIS ensemble: \", len(segments)\n",
      "if len(segments):\n",
      "    print \"Length of each segment:\"\n",
      "    for i in range(len(segments)):\n",
      "        print \"  seg[{0}]: {1}\".format(i, len(segments[i]))"
     ],
     "language": "python",
     "metadata": {},
     "outputs": [
      {
       "output_type": "stream",
       "stream": "stdout",
       "text": [
        "Traj in first_traj_ensemble? (should be) True\n",
        "Traj in TIS ensemble? (probably not) False\n",
        "Number of segments in TIS ensemble:  1\n",
        "Length of each segment:\n",
        "  seg[0]: 13\n"
       ]
      }
     ],
     "prompt_number": 16
    },
    {
     "cell_type": "markdown",
     "metadata": {},
     "source": [
      "Show some results and check if this worked"
     ]
    },
    {
     "cell_type": "code",
     "collapsed": false,
     "input": [
      "data = []\n",
      "for frame in total_path:\n",
      "    data.append((phi(frame)[0]*degrees, psi(frame)[0]*degrees, stateA(frame), interface0(frame), stateB(frame), first_traj_ensemble.can_append(total_path[slice(0,total_path.index(frame)+1)])))\n",
      "    \n",
      "dataframe = pd.DataFrame(data, columns=['phi', 'psi', 'stateA', 'interface0', 'stateB', 'appendable'])\n",
      "dataframe[[0,1,2,3,4,5]].ix[[0,1,2,len(dataframe)-3,len(dataframe)-2,len(dataframe)-1]]"
     ],
     "language": "python",
     "metadata": {},
     "outputs": [
      {
       "html": [
        "<div style=\"max-height:1000px;max-width:1500px;overflow:auto;\">\n",
        "<table border=\"1\" class=\"dataframe\">\n",
        "  <thead>\n",
        "    <tr style=\"text-align: right;\">\n",
        "      <th></th>\n",
        "      <th>phi</th>\n",
        "      <th>psi</th>\n",
        "      <th>stateA</th>\n",
        "      <th>interface0</th>\n",
        "      <th>stateB</th>\n",
        "      <th>appendable</th>\n",
        "    </tr>\n",
        "  </thead>\n",
        "  <tbody>\n",
        "    <tr>\n",
        "      <th>0  </th>\n",
        "      <td>-80.208523</td>\n",
        "      <td>-10.277041</td>\n",
        "      <td> [False]</td>\n",
        "      <td> [False]</td>\n",
        "      <td> [False]</td>\n",
        "      <td>  True</td>\n",
        "    </tr>\n",
        "    <tr>\n",
        "      <th>1  </th>\n",
        "      <td>-84.094364</td>\n",
        "      <td>-11.222809</td>\n",
        "      <td> [False]</td>\n",
        "      <td> [False]</td>\n",
        "      <td> [False]</td>\n",
        "      <td>  True</td>\n",
        "    </tr>\n",
        "    <tr>\n",
        "      <th>2  </th>\n",
        "      <td>-81.010852</td>\n",
        "      <td>-12.536953</td>\n",
        "      <td> [False]</td>\n",
        "      <td> [False]</td>\n",
        "      <td> [False]</td>\n",
        "      <td>  True</td>\n",
        "    </tr>\n",
        "    <tr>\n",
        "      <th>124</th>\n",
        "      <td>-81.701556</td>\n",
        "      <td>-25.538271</td>\n",
        "      <td> [False]</td>\n",
        "      <td>  [True]</td>\n",
        "      <td> [False]</td>\n",
        "      <td>  True</td>\n",
        "    </tr>\n",
        "    <tr>\n",
        "      <th>125</th>\n",
        "      <td>-89.341620</td>\n",
        "      <td>-27.008536</td>\n",
        "      <td> [False]</td>\n",
        "      <td>  [True]</td>\n",
        "      <td> [False]</td>\n",
        "      <td>  True</td>\n",
        "    </tr>\n",
        "    <tr>\n",
        "      <th>126</th>\n",
        "      <td>-79.098862</td>\n",
        "      <td>-35.086705</td>\n",
        "      <td>  [True]</td>\n",
        "      <td>  [True]</td>\n",
        "      <td> [False]</td>\n",
        "      <td> False</td>\n",
        "    </tr>\n",
        "  </tbody>\n",
        "</table>\n",
        "</div>"
       ],
       "metadata": {},
       "output_type": "pyout",
       "prompt_number": 17,
       "text": [
        "           phi        psi   stateA interface0   stateB appendable\n",
        "0   -80.208523 -10.277041  [False]    [False]  [False]       True\n",
        "1   -84.094364 -11.222809  [False]    [False]  [False]       True\n",
        "2   -81.010852 -12.536953  [False]    [False]  [False]       True\n",
        "124 -81.701556 -25.538271  [False]     [True]  [False]       True\n",
        "125 -89.341620 -27.008536  [False]     [True]  [False]       True\n",
        "126 -79.098862 -35.086705   [True]     [True]  [False]      False"
       ]
      }
     ],
     "prompt_number": 17
    },
    {
     "cell_type": "code",
     "collapsed": false,
     "input": [
      "print \"Do our segments satisfy the ensemble?\",\n",
      "for seg in segments:\n",
      "    print interface0_ensemble(seg),"
     ],
     "language": "python",
     "metadata": {},
     "outputs": [
      {
       "output_type": "stream",
       "stream": "stdout",
       "text": [
        "Do our segments satisfy the ensemble? True\n"
       ]
      }
     ],
     "prompt_number": 18
    },
    {
     "cell_type": "code",
     "collapsed": false,
     "input": [
      "data = []\n",
      "for frame in segments[0]:\n",
      "    data.append((phi(frame)[0]*degrees, psi(frame)[0]*degrees, stateA(frame), interface0(frame), stateB(frame), first_traj_ensemble.can_append(total_path[slice(0,total_path.index(frame)+1)])))\n",
      "    \n",
      "dataframe = pd.DataFrame(data, columns=['phi', 'psi', 'stateA', 'interface0', 'stateB', 'appendable'])\n",
      "dataframe[[0,1,2,3,4,5]]"
     ],
     "language": "python",
     "metadata": {},
     "outputs": [
      {
       "html": [
        "<div style=\"max-height:1000px;max-width:1500px;overflow:auto;\">\n",
        "<table border=\"1\" class=\"dataframe\">\n",
        "  <thead>\n",
        "    <tr style=\"text-align: right;\">\n",
        "      <th></th>\n",
        "      <th>phi</th>\n",
        "      <th>psi</th>\n",
        "      <th>stateA</th>\n",
        "      <th>interface0</th>\n",
        "      <th>stateB</th>\n",
        "      <th>appendable</th>\n",
        "    </tr>\n",
        "  </thead>\n",
        "  <tbody>\n",
        "    <tr>\n",
        "      <th>0 </th>\n",
        "      <td>-50.089289</td>\n",
        "      <td>-30.645138</td>\n",
        "      <td>  [True]</td>\n",
        "      <td>  [True]</td>\n",
        "      <td> [False]</td>\n",
        "      <td>  True</td>\n",
        "    </tr>\n",
        "    <tr>\n",
        "      <th>1 </th>\n",
        "      <td>-61.860905</td>\n",
        "      <td>-25.937754</td>\n",
        "      <td> [False]</td>\n",
        "      <td>  [True]</td>\n",
        "      <td> [False]</td>\n",
        "      <td>  True</td>\n",
        "    </tr>\n",
        "    <tr>\n",
        "      <th>2 </th>\n",
        "      <td>-53.637924</td>\n",
        "      <td>-22.556820</td>\n",
        "      <td> [False]</td>\n",
        "      <td> [False]</td>\n",
        "      <td> [False]</td>\n",
        "      <td>  True</td>\n",
        "    </tr>\n",
        "    <tr>\n",
        "      <th>3 </th>\n",
        "      <td>-63.212156</td>\n",
        "      <td>-22.061548</td>\n",
        "      <td> [False]</td>\n",
        "      <td> [False]</td>\n",
        "      <td> [False]</td>\n",
        "      <td>  True</td>\n",
        "    </tr>\n",
        "    <tr>\n",
        "      <th>4 </th>\n",
        "      <td>-53.644409</td>\n",
        "      <td>-25.263272</td>\n",
        "      <td> [False]</td>\n",
        "      <td>  [True]</td>\n",
        "      <td> [False]</td>\n",
        "      <td>  True</td>\n",
        "    </tr>\n",
        "    <tr>\n",
        "      <th>5 </th>\n",
        "      <td>-65.620948</td>\n",
        "      <td>-19.485380</td>\n",
        "      <td> [False]</td>\n",
        "      <td> [False]</td>\n",
        "      <td> [False]</td>\n",
        "      <td>  True</td>\n",
        "    </tr>\n",
        "    <tr>\n",
        "      <th>6 </th>\n",
        "      <td>-74.100778</td>\n",
        "      <td>-24.003982</td>\n",
        "      <td> [False]</td>\n",
        "      <td> [False]</td>\n",
        "      <td> [False]</td>\n",
        "      <td>  True</td>\n",
        "    </tr>\n",
        "    <tr>\n",
        "      <th>7 </th>\n",
        "      <td>-72.322421</td>\n",
        "      <td>-19.452477</td>\n",
        "      <td> [False]</td>\n",
        "      <td> [False]</td>\n",
        "      <td> [False]</td>\n",
        "      <td>  True</td>\n",
        "    </tr>\n",
        "    <tr>\n",
        "      <th>8 </th>\n",
        "      <td>-76.277957</td>\n",
        "      <td>-22.798491</td>\n",
        "      <td> [False]</td>\n",
        "      <td> [False]</td>\n",
        "      <td> [False]</td>\n",
        "      <td>  True</td>\n",
        "    </tr>\n",
        "    <tr>\n",
        "      <th>9 </th>\n",
        "      <td>-80.475460</td>\n",
        "      <td>-22.832012</td>\n",
        "      <td> [False]</td>\n",
        "      <td> [False]</td>\n",
        "      <td> [False]</td>\n",
        "      <td>  True</td>\n",
        "    </tr>\n",
        "    <tr>\n",
        "      <th>10</th>\n",
        "      <td>-81.701556</td>\n",
        "      <td>-25.538271</td>\n",
        "      <td> [False]</td>\n",
        "      <td>  [True]</td>\n",
        "      <td> [False]</td>\n",
        "      <td>  True</td>\n",
        "    </tr>\n",
        "    <tr>\n",
        "      <th>11</th>\n",
        "      <td>-89.341620</td>\n",
        "      <td>-27.008536</td>\n",
        "      <td> [False]</td>\n",
        "      <td>  [True]</td>\n",
        "      <td> [False]</td>\n",
        "      <td>  True</td>\n",
        "    </tr>\n",
        "    <tr>\n",
        "      <th>12</th>\n",
        "      <td>-79.098862</td>\n",
        "      <td>-35.086705</td>\n",
        "      <td>  [True]</td>\n",
        "      <td>  [True]</td>\n",
        "      <td> [False]</td>\n",
        "      <td> False</td>\n",
        "    </tr>\n",
        "  </tbody>\n",
        "</table>\n",
        "</div>"
       ],
       "metadata": {},
       "output_type": "pyout",
       "prompt_number": 19,
       "text": [
        "          phi        psi   stateA interface0   stateB appendable\n",
        "0  -50.089289 -30.645138   [True]     [True]  [False]       True\n",
        "1  -61.860905 -25.937754  [False]     [True]  [False]       True\n",
        "2  -53.637924 -22.556820  [False]    [False]  [False]       True\n",
        "3  -63.212156 -22.061548  [False]    [False]  [False]       True\n",
        "4  -53.644409 -25.263272  [False]     [True]  [False]       True\n",
        "5  -65.620948 -19.485380  [False]    [False]  [False]       True\n",
        "6  -74.100778 -24.003982  [False]    [False]  [False]       True\n",
        "7  -72.322421 -19.452477  [False]    [False]  [False]       True\n",
        "8  -76.277957 -22.798491  [False]    [False]  [False]       True\n",
        "9  -80.475460 -22.832012  [False]    [False]  [False]       True\n",
        "10 -81.701556 -25.538271  [False]     [True]  [False]       True\n",
        "11 -89.341620 -27.008536  [False]     [True]  [False]       True\n",
        "12 -79.098862 -35.086705   [True]     [True]  [False]      False"
       ]
      }
     ],
     "prompt_number": 19
    },
    {
     "cell_type": "markdown",
     "metadata": {},
     "source": [
      "### Bootstrapping"
     ]
    },
    {
     "cell_type": "markdown",
     "metadata": {},
     "source": [
      "Run a bootstrapping (not TIS) simulation that shoots from an ensemble until the next interface is reached then switch to the next ensemble to drive the system out of stateA"
     ]
    },
    {
     "cell_type": "code",
     "collapsed": false,
     "input": [
      "mover_set = mf.OneWayShootingSet(UniformSelector(), interface_set)"
     ],
     "language": "python",
     "metadata": {},
     "outputs": [],
     "prompt_number": 20
    },
    {
     "cell_type": "code",
     "collapsed": false,
     "input": [
      "bootstrap = Bootstrapping(storage=storage,\n",
      "                          engine=engine,\n",
      "                          ensembles=interface_set,\n",
      "                          movers=mover_set,\n",
      "                          trajectory=segments[0])"
     ],
     "language": "python",
     "metadata": {},
     "outputs": [],
     "prompt_number": 21
    },
    {
     "cell_type": "markdown",
     "metadata": {},
     "source": [
      "Run Bootstrapping with at most 50 attempts per ensemble"
     ]
    },
    {
     "cell_type": "code",
     "collapsed": false,
     "input": [
      "bootstrap.run(50)"
     ],
     "language": "python",
     "metadata": {},
     "outputs": [],
     "prompt_number": 22
    },
    {
     "cell_type": "markdown",
     "metadata": {},
     "source": [
      "Save all computed phi/psi values which depends on whether they have been needed before"
     ]
    },
    {
     "cell_type": "code",
     "collapsed": false,
     "input": [
      "storage.collectivevariable.sync(psi);\n",
      "storage.collectivevariable.sync(phi);"
     ],
     "language": "python",
     "metadata": {},
     "outputs": [],
     "prompt_number": 23
    },
    {
     "cell_type": "markdown",
     "metadata": {},
     "source": [
      "Create an orderparameter from a volume which is just 1 or 0 and can thus be stored for later analysis"
     ]
    },
    {
     "cell_type": "code",
     "collapsed": false,
     "input": [
      "op_inA = OP_Volume('StateA', stateA)\n",
      "op_inB = OP_Volume('StateB', stateB)\n",
      "op_notinAorB = OP_Volume('StateX', ~ (stateA | stateB))"
     ],
     "language": "python",
     "metadata": {},
     "outputs": [],
     "prompt_number": 24
    },
    {
     "cell_type": "markdown",
     "metadata": {},
     "source": [
      "Compute the orderparameter for all snapshots"
     ]
    },
    {
     "cell_type": "code",
     "collapsed": false,
     "input": [
      "op_inA(storage.snapshot.all())\n",
      "op_inB(storage.snapshot.all())\n",
      "op_notinAorB(storage.snapshot.all());"
     ],
     "language": "python",
     "metadata": {},
     "outputs": [],
     "prompt_number": 25
    },
    {
     "cell_type": "markdown",
     "metadata": {},
     "source": [
      "Save the new orderparameters"
     ]
    },
    {
     "cell_type": "code",
     "collapsed": false,
     "input": [
      "storage.save([op_inA, op_inB, op_notinAorB]);"
     ],
     "language": "python",
     "metadata": {},
     "outputs": [],
     "prompt_number": 26
    },
    {
     "cell_type": "markdown",
     "metadata": {},
     "source": [
      "## Visualization"
     ]
    },
    {
     "cell_type": "markdown",
     "metadata": {},
     "source": [
      "Create a PathTree generator"
     ]
    },
    {
     "cell_type": "code",
     "collapsed": false,
     "input": [
      "tree = PathTreeBuilder(storage)\n",
      "op_inA.name\n",
      "storage.save(op_inA)\n",
      "storage.cv.load(0)\n",
      "op_inA.idx"
     ],
     "language": "python",
     "metadata": {},
     "outputs": [
      {
       "metadata": {},
       "output_type": "pyout",
       "prompt_number": 27,
       "text": [
        "{OpenPathSampling netCDF Storage @ 'trajectory.nc': 2}"
       ]
      }
     ],
     "prompt_number": 27
    },
    {
     "cell_type": "markdown",
     "metadata": {},
     "source": [
      "Get samples (trajectries) that were generated for a specific ensemble"
     ]
    },
    {
     "cell_type": "code",
     "collapsed": false,
     "input": [
      "samples = storage.sample.by_ensemble(storage.ensemble.load(1))\n",
      "print len(samples)\n",
      "sample = samples[0]\n",
      "storage.idx(sample)\n",
      "sample.idx[storage]"
     ],
     "language": "python",
     "metadata": {},
     "outputs": [
      {
       "output_type": "stream",
       "stream": "stdout",
       "text": [
        "12\n"
       ]
      },
      {
       "metadata": {},
       "output_type": "pyout",
       "prompt_number": 33,
       "text": [
        "1"
       ]
      }
     ],
     "prompt_number": 33
    },
    {
     "cell_type": "markdown",
     "metadata": {},
     "source": [
      "Change the settings to show rejected pathways, mark OrderParaemters `stateA` and `stateX`, and show the 'psi' value as text inside of the boxes"
     ]
    },
    {
     "cell_type": "code",
     "collapsed": false,
     "input": [
      "tree.rejected = False\n",
      "tree.states = [('StateA','orange'),('StateX','black')]\n",
      "tree.op = storage.cv.load('psi').get_transformed_view(lambda x : int(x / 3.141592653 * 180))\n",
      "tree.from_samples(samples)"
     ],
     "language": "python",
     "metadata": {},
     "outputs": [],
     "prompt_number": 34
    },
    {
     "cell_type": "markdown",
     "metadata": {},
     "source": [
      "Render the tree"
     ]
    },
    {
     "cell_type": "code",
     "collapsed": false,
     "input": [
      "view = tree.renderer\n",
      "view.zoom = 1.1\n",
      "view.scale_y = 24\n",
      "view.scale_x = 24\n",
      "view.font_size = 0.35\n",
      "SVG(view.to_svg())"
     ],
     "language": "python",
     "metadata": {},
     "outputs": [
      {
       "metadata": {},
       "output_type": "pyout",
       "prompt_number": 35,
       "svg": [
        "<svg baseProfile=\"full\" height=\"369.6px\" version=\"1.1\" width=\"528.0px\" xmlns=\"http://www.w3.org/2000/svg\" xmlns:ev=\"http://www.w3.org/2001/xml-events\" xmlns:xlink=\"http://www.w3.org/1999/xlink\"><defs/><rect fill=\"orange\" height=\"2.64\" stroke=\"orange\" stroke-width=\"1.32\" width=\"26.4\" x=\"475.2\" y=\"352.44\"/><rect fill=\"black\" height=\"2.64\" stroke=\"black\" stroke-width=\"1.32\" width=\"52.8\" x=\"422.4\" y=\"352.44\"/><rect fill=\"black\" height=\"2.64\" stroke=\"black\" stroke-width=\"1.32\" width=\"52.8\" x=\"211.2\" y=\"326.04\"/><rect fill=\"orange\" height=\"2.64\" stroke=\"orange\" stroke-width=\"1.32\" width=\"26.4\" x=\"184.8\" y=\"326.04\"/><rect fill=\"orange\" height=\"2.64\" stroke=\"orange\" stroke-width=\"1.32\" width=\"26.4\" x=\"422.4\" y=\"299.64\"/><rect fill=\"black\" height=\"2.64\" stroke=\"black\" stroke-width=\"1.32\" width=\"79.2\" x=\"343.2\" y=\"299.64\"/><rect fill=\"black\" height=\"2.64\" stroke=\"black\" stroke-width=\"1.32\" width=\"52.8\" x=\"211.2\" y=\"273.24\"/><rect fill=\"orange\" height=\"2.64\" stroke=\"orange\" stroke-width=\"1.32\" width=\"26.4\" x=\"184.8\" y=\"273.24\"/><rect fill=\"black\" height=\"2.64\" stroke=\"black\" stroke-width=\"1.32\" width=\"79.2\" x=\"211.2\" y=\"246.84\"/><rect fill=\"orange\" height=\"2.64\" stroke=\"orange\" stroke-width=\"1.32\" width=\"26.4\" x=\"184.8\" y=\"246.84\"/><rect fill=\"black\" height=\"2.64\" stroke=\"black\" stroke-width=\"1.32\" width=\"79.2\" x=\"52.8\" y=\"220.44\"/><rect fill=\"orange\" height=\"2.64\" stroke=\"orange\" stroke-width=\"1.32\" width=\"26.4\" x=\"26.4\" y=\"220.44\"/><rect fill=\"orange\" height=\"2.64\" stroke=\"orange\" stroke-width=\"1.32\" width=\"26.4\" x=\"396.0\" y=\"194.04\"/><rect fill=\"black\" height=\"2.64\" stroke=\"black\" stroke-width=\"1.32\" width=\"132.0\" x=\"264.0\" y=\"194.04\"/><rect fill=\"black\" height=\"2.64\" stroke=\"black\" stroke-width=\"1.32\" width=\"79.2\" x=\"79.2\" y=\"167.64\"/><rect fill=\"orange\" height=\"2.64\" stroke=\"orange\" stroke-width=\"1.32\" width=\"26.4\" x=\"52.8\" y=\"167.64\"/><rect fill=\"orange\" height=\"2.64\" stroke=\"orange\" stroke-width=\"1.32\" width=\"26.4\" x=\"396.0\" y=\"141.24\"/><rect fill=\"black\" height=\"2.64\" stroke=\"black\" stroke-width=\"1.32\" width=\"105.6\" x=\"290.4\" y=\"141.24\"/><rect fill=\"orange\" height=\"2.64\" stroke=\"orange\" stroke-width=\"1.32\" width=\"26.4\" x=\"422.4\" y=\"114.84\"/><rect fill=\"black\" height=\"2.64\" stroke=\"black\" stroke-width=\"1.32\" width=\"184.8\" x=\"237.6\" y=\"114.84\"/><rect fill=\"orange\" height=\"2.64\" stroke=\"orange\" stroke-width=\"1.32\" width=\"26.4\" x=\"396.0\" y=\"88.44\"/><rect fill=\"black\" height=\"2.64\" stroke=\"black\" stroke-width=\"1.32\" width=\"132.0\" x=\"264.0\" y=\"88.44\"/><rect fill=\"orange\" height=\"2.64\" stroke=\"orange\" stroke-width=\"1.32\" width=\"26.4\" x=\"396.0\" y=\"62.04\"/><rect fill=\"orange\" height=\"2.64\" stroke=\"orange\" stroke-width=\"1.32\" width=\"26.4\" x=\"396.0\" y=\"35.64\"/><rect fill=\"black\" height=\"2.64\" stroke=\"black\" stroke-width=\"1.32\" width=\"290.4\" x=\"105.6\" y=\"35.64\"/><rect fill=\"orange\" height=\"2.64\" stroke=\"orange\" stroke-width=\"1.32\" width=\"26.4\" x=\"79.2\" y=\"35.64\"/><rect fill=\"black\" height=\"15.84\" width=\"23.76\" x=\"80.52\" y=\"18.48\"/><circle cx=\"79.2\" cy=\"26.4\" fill=\"black\" r=\"1.32\" stroke=\"black\" stroke-width=\"0\"/><circle cx=\"105.6\" cy=\"26.4\" fill=\"black\" r=\"1.32\" stroke=\"black\" stroke-width=\"0\"/><text alignment-baseline=\"middle\" fill=\"white\" font-family=\"Futura\" font-size=\"9.24\" text-anchor=\"middle\" x=\"92.4\" y=\"27.72\">-30</text><rect fill=\"black\" height=\"15.84\" width=\"23.76\" x=\"106.92\" y=\"18.48\"/><circle cx=\"105.6\" cy=\"26.4\" fill=\"black\" r=\"1.32\" stroke=\"black\" stroke-width=\"0\"/><circle cx=\"132.0\" cy=\"26.4\" fill=\"black\" r=\"1.32\" stroke=\"black\" stroke-width=\"0\"/><text alignment-baseline=\"middle\" fill=\"white\" font-family=\"Futura\" font-size=\"9.24\" text-anchor=\"middle\" x=\"118.8\" y=\"27.72\">-25</text><rect fill=\"black\" height=\"15.84\" width=\"23.76\" x=\"133.32\" y=\"18.48\"/><circle cx=\"132.0\" cy=\"26.4\" fill=\"black\" r=\"1.32\" stroke=\"black\" stroke-width=\"0\"/><circle cx=\"158.4\" cy=\"26.4\" fill=\"black\" r=\"1.32\" stroke=\"black\" stroke-width=\"0\"/><text alignment-baseline=\"middle\" fill=\"white\" font-family=\"Futura\" font-size=\"9.24\" text-anchor=\"middle\" x=\"145.2\" y=\"27.72\">-22</text><rect fill=\"black\" height=\"15.84\" width=\"23.76\" x=\"159.72\" y=\"18.48\"/><circle cx=\"158.4\" cy=\"26.4\" fill=\"black\" r=\"1.32\" stroke=\"black\" stroke-width=\"0\"/><circle cx=\"184.8\" cy=\"26.4\" fill=\"black\" r=\"1.32\" stroke=\"black\" stroke-width=\"0\"/><text alignment-baseline=\"middle\" fill=\"white\" font-family=\"Futura\" font-size=\"9.24\" text-anchor=\"middle\" x=\"171.6\" y=\"27.72\">-22</text><rect fill=\"black\" height=\"15.84\" width=\"23.76\" x=\"186.12\" y=\"18.48\"/><circle cx=\"184.8\" cy=\"26.4\" fill=\"black\" r=\"1.32\" stroke=\"black\" stroke-width=\"0\"/><circle cx=\"211.2\" cy=\"26.4\" fill=\"black\" r=\"1.32\" stroke=\"black\" stroke-width=\"0\"/><text alignment-baseline=\"middle\" fill=\"white\" font-family=\"Futura\" font-size=\"9.24\" text-anchor=\"middle\" x=\"198.0\" y=\"27.72\">-25</text><rect fill=\"black\" height=\"15.84\" width=\"23.76\" x=\"212.52\" y=\"18.48\"/><circle cx=\"211.2\" cy=\"26.4\" fill=\"black\" r=\"1.32\" stroke=\"black\" stroke-width=\"0\"/><circle cx=\"237.6\" cy=\"26.4\" fill=\"black\" r=\"1.32\" stroke=\"black\" stroke-width=\"0\"/><text alignment-baseline=\"middle\" fill=\"white\" font-family=\"Futura\" font-size=\"9.24\" text-anchor=\"middle\" x=\"224.4\" y=\"27.72\">-19</text><rect fill=\"black\" height=\"15.84\" width=\"23.76\" x=\"238.92\" y=\"18.48\"/><circle cx=\"237.6\" cy=\"26.4\" fill=\"black\" r=\"1.32\" stroke=\"black\" stroke-width=\"0\"/><circle cx=\"264.0\" cy=\"26.4\" fill=\"black\" r=\"1.32\" stroke=\"black\" stroke-width=\"0\"/><text alignment-baseline=\"middle\" fill=\"white\" font-family=\"Futura\" font-size=\"9.24\" text-anchor=\"middle\" x=\"250.8\" y=\"27.72\">-24</text><rect fill=\"black\" height=\"15.84\" width=\"23.76\" x=\"265.32\" y=\"18.48\"/><circle cx=\"264.0\" cy=\"26.4\" fill=\"black\" r=\"1.32\" stroke=\"black\" stroke-width=\"0\"/><circle cx=\"290.4\" cy=\"26.4\" fill=\"black\" r=\"1.32\" stroke=\"black\" stroke-width=\"0\"/><text alignment-baseline=\"middle\" fill=\"white\" font-family=\"Futura\" font-size=\"9.24\" text-anchor=\"middle\" x=\"277.2\" y=\"27.72\">-19</text><rect fill=\"black\" height=\"15.84\" width=\"23.76\" x=\"291.72\" y=\"18.48\"/><circle cx=\"290.4\" cy=\"26.4\" fill=\"black\" r=\"1.32\" stroke=\"black\" stroke-width=\"0\"/><circle cx=\"316.8\" cy=\"26.4\" fill=\"black\" r=\"1.32\" stroke=\"black\" stroke-width=\"0\"/><text alignment-baseline=\"middle\" fill=\"white\" font-family=\"Futura\" font-size=\"9.24\" text-anchor=\"middle\" x=\"303.6\" y=\"27.72\">-22</text><rect fill=\"black\" height=\"15.84\" width=\"23.76\" x=\"318.12\" y=\"18.48\"/><circle cx=\"316.8\" cy=\"26.4\" fill=\"black\" r=\"1.32\" stroke=\"black\" stroke-width=\"0\"/><circle cx=\"343.2\" cy=\"26.4\" fill=\"black\" r=\"1.32\" stroke=\"black\" stroke-width=\"0\"/><text alignment-baseline=\"middle\" fill=\"white\" font-family=\"Futura\" font-size=\"9.24\" text-anchor=\"middle\" x=\"330.0\" y=\"27.72\">-22</text><rect fill=\"black\" height=\"15.84\" width=\"23.76\" x=\"344.52\" y=\"18.48\"/><circle cx=\"343.2\" cy=\"26.4\" fill=\"black\" r=\"1.32\" stroke=\"black\" stroke-width=\"0\"/><circle cx=\"369.6\" cy=\"26.4\" fill=\"black\" r=\"1.32\" stroke=\"black\" stroke-width=\"0\"/><text alignment-baseline=\"middle\" fill=\"white\" font-family=\"Futura\" font-size=\"9.24\" text-anchor=\"middle\" x=\"356.4\" y=\"27.72\">-25</text><rect fill=\"black\" height=\"15.84\" width=\"23.76\" x=\"370.92\" y=\"18.48\"/><circle cx=\"369.6\" cy=\"26.4\" fill=\"black\" r=\"1.32\" stroke=\"black\" stroke-width=\"0\"/><circle cx=\"396.0\" cy=\"26.4\" fill=\"black\" r=\"1.32\" stroke=\"black\" stroke-width=\"0\"/><text alignment-baseline=\"middle\" fill=\"white\" font-family=\"Futura\" font-size=\"9.24\" text-anchor=\"middle\" x=\"382.8\" y=\"27.72\">-27</text><rect fill=\"black\" height=\"15.84\" width=\"23.76\" x=\"397.32\" y=\"18.48\"/><circle cx=\"396.0\" cy=\"26.4\" fill=\"black\" r=\"1.32\" stroke=\"black\" stroke-width=\"0\"/><circle cx=\"422.4\" cy=\"26.4\" fill=\"black\" r=\"1.32\" stroke=\"black\" stroke-width=\"0\"/><text alignment-baseline=\"middle\" fill=\"white\" font-family=\"Futura\" font-size=\"9.24\" text-anchor=\"middle\" x=\"409.2\" y=\"27.72\">-35</text><text alignment-baseline=\"middle\" fill=\"black\" font-family=\"Futura\" font-size=\"9.24\" text-anchor=\"end\" x=\"73.92\" y=\"27.72\">2b</text><line stroke=\"red\" stroke-width=\"1.32\" x1=\"396.0\" x2=\"396.0\" y1=\"27.72\" y2=\"51.48\"/><text alignment-baseline=\"middle\" fill=\"black\" font-family=\"Futura\" font-size=\"9.24\" text-anchor=\"start\" x=\"427.68\" y=\"54.12\">2f</text><rect fill=\"red\" height=\"15.84\" width=\"23.76\" x=\"397.32\" y=\"44.88\"/><circle cx=\"396.0\" cy=\"52.8\" fill=\"red\" r=\"1.32\" stroke=\"red\" stroke-width=\"0\"/><circle cx=\"422.4\" cy=\"52.8\" fill=\"red\" r=\"1.32\" stroke=\"red\" stroke-width=\"0\"/><text alignment-baseline=\"middle\" fill=\"white\" font-family=\"Futura\" font-size=\"9.24\" text-anchor=\"middle\" x=\"409.2\" y=\"54.12\">-35</text><line stroke=\"red\" stroke-width=\"1.32\" x1=\"264.0\" x2=\"264.0\" y1=\"27.72\" y2=\"77.88\"/><text alignment-baseline=\"middle\" fill=\"black\" font-family=\"Futura\" font-size=\"9.24\" text-anchor=\"start\" x=\"427.68\" y=\"80.52\">3f</text><rect fill=\"red\" height=\"15.84\" width=\"23.76\" x=\"265.32\" y=\"71.28\"/><circle cx=\"264.0\" cy=\"79.2\" fill=\"red\" r=\"1.32\" stroke=\"red\" stroke-width=\"0\"/><circle cx=\"290.4\" cy=\"79.2\" fill=\"red\" r=\"1.32\" stroke=\"red\" stroke-width=\"0\"/><text alignment-baseline=\"middle\" fill=\"white\" font-family=\"Futura\" font-size=\"9.24\" text-anchor=\"middle\" x=\"277.2\" y=\"80.52\">-19</text><rect fill=\"red\" height=\"15.84\" width=\"23.76\" x=\"291.72\" y=\"71.28\"/><circle cx=\"290.4\" cy=\"79.2\" fill=\"red\" r=\"1.32\" stroke=\"red\" stroke-width=\"0\"/><circle cx=\"316.8\" cy=\"79.2\" fill=\"red\" r=\"1.32\" stroke=\"red\" stroke-width=\"0\"/><text alignment-baseline=\"middle\" fill=\"white\" font-family=\"Futura\" font-size=\"9.24\" text-anchor=\"middle\" x=\"303.6\" y=\"80.52\">-21</text><rect fill=\"red\" height=\"15.84\" width=\"23.76\" x=\"318.12\" y=\"71.28\"/><circle cx=\"316.8\" cy=\"79.2\" fill=\"red\" r=\"1.32\" stroke=\"red\" stroke-width=\"0\"/><circle cx=\"343.2\" cy=\"79.2\" fill=\"red\" r=\"1.32\" stroke=\"red\" stroke-width=\"0\"/><text alignment-baseline=\"middle\" fill=\"white\" font-family=\"Futura\" font-size=\"9.24\" text-anchor=\"middle\" x=\"330.0\" y=\"80.52\">-22</text><rect fill=\"red\" height=\"15.84\" width=\"23.76\" x=\"344.52\" y=\"71.28\"/><circle cx=\"343.2\" cy=\"79.2\" fill=\"red\" r=\"1.32\" stroke=\"red\" stroke-width=\"0\"/><circle cx=\"369.6\" cy=\"79.2\" fill=\"red\" r=\"1.32\" stroke=\"red\" stroke-width=\"0\"/><text alignment-baseline=\"middle\" fill=\"white\" font-family=\"Futura\" font-size=\"9.24\" text-anchor=\"middle\" x=\"356.4\" y=\"80.52\">-21</text><rect fill=\"red\" height=\"15.84\" width=\"23.76\" x=\"370.92\" y=\"71.28\"/><circle cx=\"369.6\" cy=\"79.2\" fill=\"red\" r=\"1.32\" stroke=\"red\" stroke-width=\"0\"/><circle cx=\"396.0\" cy=\"79.2\" fill=\"red\" r=\"1.32\" stroke=\"red\" stroke-width=\"0\"/><text alignment-baseline=\"middle\" fill=\"white\" font-family=\"Futura\" font-size=\"9.24\" text-anchor=\"middle\" x=\"382.8\" y=\"80.52\">-25</text><rect fill=\"red\" height=\"15.84\" width=\"23.76\" x=\"397.32\" y=\"71.28\"/><circle cx=\"396.0\" cy=\"79.2\" fill=\"red\" r=\"1.32\" stroke=\"red\" stroke-width=\"0\"/><circle cx=\"422.4\" cy=\"79.2\" fill=\"red\" r=\"1.32\" stroke=\"red\" stroke-width=\"0\"/><text alignment-baseline=\"middle\" fill=\"white\" font-family=\"Futura\" font-size=\"9.24\" text-anchor=\"middle\" x=\"409.2\" y=\"80.52\">-30</text><line stroke=\"red\" stroke-width=\"1.32\" x1=\"237.6\" x2=\"237.6\" y1=\"27.72\" y2=\"104.28\"/><text alignment-baseline=\"middle\" fill=\"black\" font-family=\"Futura\" font-size=\"9.24\" text-anchor=\"start\" x=\"454.08\" y=\"106.92\">4f</text><rect fill=\"red\" height=\"15.84\" width=\"23.76\" x=\"238.92\" y=\"97.68\"/><circle cx=\"237.6\" cy=\"105.6\" fill=\"red\" r=\"1.32\" stroke=\"red\" stroke-width=\"0\"/><circle cx=\"264.0\" cy=\"105.6\" fill=\"red\" r=\"1.32\" stroke=\"red\" stroke-width=\"0\"/><text alignment-baseline=\"middle\" fill=\"white\" font-family=\"Futura\" font-size=\"9.24\" text-anchor=\"middle\" x=\"250.8\" y=\"106.92\">-25</text><rect fill=\"red\" height=\"15.84\" width=\"23.76\" x=\"265.32\" y=\"97.68\"/><circle cx=\"264.0\" cy=\"105.6\" fill=\"red\" r=\"1.32\" stroke=\"red\" stroke-width=\"0\"/><circle cx=\"290.4\" cy=\"105.6\" fill=\"red\" r=\"1.32\" stroke=\"red\" stroke-width=\"0\"/><text alignment-baseline=\"middle\" fill=\"white\" font-family=\"Futura\" font-size=\"9.24\" text-anchor=\"middle\" x=\"277.2\" y=\"106.92\">-23</text><rect fill=\"red\" height=\"15.84\" width=\"23.76\" x=\"291.72\" y=\"97.68\"/><circle cx=\"290.4\" cy=\"105.6\" fill=\"red\" r=\"1.32\" stroke=\"red\" stroke-width=\"0\"/><circle cx=\"316.8\" cy=\"105.6\" fill=\"red\" r=\"1.32\" stroke=\"red\" stroke-width=\"0\"/><text alignment-baseline=\"middle\" fill=\"white\" font-family=\"Futura\" font-size=\"9.24\" text-anchor=\"middle\" x=\"303.6\" y=\"106.92\">-22</text><rect fill=\"red\" height=\"15.84\" width=\"23.76\" x=\"318.12\" y=\"97.68\"/><circle cx=\"316.8\" cy=\"105.6\" fill=\"red\" r=\"1.32\" stroke=\"red\" stroke-width=\"0\"/><circle cx=\"343.2\" cy=\"105.6\" fill=\"red\" r=\"1.32\" stroke=\"red\" stroke-width=\"0\"/><text alignment-baseline=\"middle\" fill=\"white\" font-family=\"Futura\" font-size=\"9.24\" text-anchor=\"middle\" x=\"330.0\" y=\"106.92\">-26</text><rect fill=\"red\" height=\"15.84\" width=\"23.76\" x=\"344.52\" y=\"97.68\"/><circle cx=\"343.2\" cy=\"105.6\" fill=\"red\" r=\"1.32\" stroke=\"red\" stroke-width=\"0\"/><circle cx=\"369.6\" cy=\"105.6\" fill=\"red\" r=\"1.32\" stroke=\"red\" stroke-width=\"0\"/><text alignment-baseline=\"middle\" fill=\"white\" font-family=\"Futura\" font-size=\"9.24\" text-anchor=\"middle\" x=\"356.4\" y=\"106.92\">-24</text><rect fill=\"red\" height=\"15.84\" width=\"23.76\" x=\"370.92\" y=\"97.68\"/><circle cx=\"369.6\" cy=\"105.6\" fill=\"red\" r=\"1.32\" stroke=\"red\" stroke-width=\"0\"/><circle cx=\"396.0\" cy=\"105.6\" fill=\"red\" r=\"1.32\" stroke=\"red\" stroke-width=\"0\"/><text alignment-baseline=\"middle\" fill=\"white\" font-family=\"Futura\" font-size=\"9.24\" text-anchor=\"middle\" x=\"382.8\" y=\"106.92\">-24</text><rect fill=\"red\" height=\"15.84\" width=\"23.76\" x=\"397.32\" y=\"97.68\"/><circle cx=\"396.0\" cy=\"105.6\" fill=\"red\" r=\"1.32\" stroke=\"red\" stroke-width=\"0\"/><circle cx=\"422.4\" cy=\"105.6\" fill=\"red\" r=\"1.32\" stroke=\"red\" stroke-width=\"0\"/><text alignment-baseline=\"middle\" fill=\"white\" font-family=\"Futura\" font-size=\"9.24\" text-anchor=\"middle\" x=\"409.2\" y=\"106.92\">-27</text><rect fill=\"red\" height=\"15.84\" width=\"23.76\" x=\"423.72\" y=\"97.68\"/><circle cx=\"422.4\" cy=\"105.6\" fill=\"red\" r=\"1.32\" stroke=\"red\" stroke-width=\"0\"/><circle cx=\"448.8\" cy=\"105.6\" fill=\"red\" r=\"1.32\" stroke=\"red\" stroke-width=\"0\"/><text alignment-baseline=\"middle\" fill=\"white\" font-family=\"Futura\" font-size=\"9.24\" text-anchor=\"middle\" x=\"435.6\" y=\"106.92\">-31</text><line stroke=\"red\" stroke-width=\"1.32\" x1=\"290.4\" x2=\"290.4\" y1=\"106.92\" y2=\"130.68\"/><text alignment-baseline=\"middle\" fill=\"black\" font-family=\"Futura\" font-size=\"9.24\" text-anchor=\"start\" x=\"427.68\" y=\"133.32\">5f</text><rect fill=\"red\" height=\"15.84\" width=\"23.76\" x=\"291.72\" y=\"124.08\"/><circle cx=\"290.4\" cy=\"132.0\" fill=\"red\" r=\"1.32\" stroke=\"red\" stroke-width=\"0\"/><circle cx=\"316.8\" cy=\"132.0\" fill=\"red\" r=\"1.32\" stroke=\"red\" stroke-width=\"0\"/><text alignment-baseline=\"middle\" fill=\"white\" font-family=\"Futura\" font-size=\"9.24\" text-anchor=\"middle\" x=\"303.6\" y=\"133.32\">-21</text><rect fill=\"red\" height=\"15.84\" width=\"23.76\" x=\"318.12\" y=\"124.08\"/><circle cx=\"316.8\" cy=\"132.0\" fill=\"red\" r=\"1.32\" stroke=\"red\" stroke-width=\"0\"/><circle cx=\"343.2\" cy=\"132.0\" fill=\"red\" r=\"1.32\" stroke=\"red\" stroke-width=\"0\"/><text alignment-baseline=\"middle\" fill=\"white\" font-family=\"Futura\" font-size=\"9.24\" text-anchor=\"middle\" x=\"330.0\" y=\"133.32\">-27</text><rect fill=\"red\" height=\"15.84\" width=\"23.76\" x=\"344.52\" y=\"124.08\"/><circle cx=\"343.2\" cy=\"132.0\" fill=\"red\" r=\"1.32\" stroke=\"red\" stroke-width=\"0\"/><circle cx=\"369.6\" cy=\"132.0\" fill=\"red\" r=\"1.32\" stroke=\"red\" stroke-width=\"0\"/><text alignment-baseline=\"middle\" fill=\"white\" font-family=\"Futura\" font-size=\"9.24\" text-anchor=\"middle\" x=\"356.4\" y=\"133.32\">-27</text><rect fill=\"red\" height=\"15.84\" width=\"23.76\" x=\"370.92\" y=\"124.08\"/><circle cx=\"369.6\" cy=\"132.0\" fill=\"red\" r=\"1.32\" stroke=\"red\" stroke-width=\"0\"/><circle cx=\"396.0\" cy=\"132.0\" fill=\"red\" r=\"1.32\" stroke=\"red\" stroke-width=\"0\"/><text alignment-baseline=\"middle\" fill=\"white\" font-family=\"Futura\" font-size=\"9.24\" text-anchor=\"middle\" x=\"382.8\" y=\"133.32\">-29</text><rect fill=\"red\" height=\"15.84\" width=\"23.76\" x=\"397.32\" y=\"124.08\"/><circle cx=\"396.0\" cy=\"132.0\" fill=\"red\" r=\"1.32\" stroke=\"red\" stroke-width=\"0\"/><circle cx=\"422.4\" cy=\"132.0\" fill=\"red\" r=\"1.32\" stroke=\"red\" stroke-width=\"0\"/><text alignment-baseline=\"middle\" fill=\"white\" font-family=\"Futura\" font-size=\"9.24\" text-anchor=\"middle\" x=\"409.2\" y=\"133.32\">-39</text><line stroke=\"red\" stroke-width=\"1.32\" x1=\"184.8\" x2=\"184.8\" y1=\"27.72\" y2=\"157.08\"/><text alignment-baseline=\"middle\" fill=\"black\" font-family=\"Futura\" font-size=\"9.24\" text-anchor=\"start\" x=\"427.68\" y=\"159.72\">6f</text><rect fill=\"red\" height=\"15.84\" width=\"23.76\" x=\"54.12\" y=\"150.48\"/><circle cx=\"52.8\" cy=\"158.4\" fill=\"red\" r=\"1.32\" stroke=\"red\" stroke-width=\"0\"/><circle cx=\"79.2\" cy=\"158.4\" fill=\"red\" r=\"1.32\" stroke=\"red\" stroke-width=\"0\"/><text alignment-baseline=\"middle\" fill=\"white\" font-family=\"Futura\" font-size=\"9.24\" text-anchor=\"middle\" x=\"66.0\" y=\"159.72\">-32</text><rect fill=\"red\" height=\"15.84\" width=\"23.76\" x=\"80.52\" y=\"150.48\"/><circle cx=\"79.2\" cy=\"158.4\" fill=\"red\" r=\"1.32\" stroke=\"red\" stroke-width=\"0\"/><circle cx=\"105.6\" cy=\"158.4\" fill=\"red\" r=\"1.32\" stroke=\"red\" stroke-width=\"0\"/><text alignment-baseline=\"middle\" fill=\"white\" font-family=\"Futura\" font-size=\"9.24\" text-anchor=\"middle\" x=\"92.4\" y=\"159.72\">-29</text><rect fill=\"red\" height=\"15.84\" width=\"23.76\" x=\"106.92\" y=\"150.48\"/><circle cx=\"105.6\" cy=\"158.4\" fill=\"red\" r=\"1.32\" stroke=\"red\" stroke-width=\"0\"/><circle cx=\"132.0\" cy=\"158.4\" fill=\"red\" r=\"1.32\" stroke=\"red\" stroke-width=\"0\"/><text alignment-baseline=\"middle\" fill=\"white\" font-family=\"Futura\" font-size=\"9.24\" text-anchor=\"middle\" x=\"118.8\" y=\"159.72\">-24</text><rect fill=\"red\" height=\"15.84\" width=\"23.76\" x=\"133.32\" y=\"150.48\"/><circle cx=\"132.0\" cy=\"158.4\" fill=\"red\" r=\"1.32\" stroke=\"red\" stroke-width=\"0\"/><circle cx=\"158.4\" cy=\"158.4\" fill=\"red\" r=\"1.32\" stroke=\"red\" stroke-width=\"0\"/><text alignment-baseline=\"middle\" fill=\"white\" font-family=\"Futura\" font-size=\"9.24\" text-anchor=\"middle\" x=\"145.2\" y=\"159.72\">-22</text><line stroke=\"red\" stroke-width=\"1.32\" x1=\"264.0\" x2=\"264.0\" y1=\"106.92\" y2=\"183.48\"/><text alignment-baseline=\"middle\" fill=\"black\" font-family=\"Futura\" font-size=\"9.24\" text-anchor=\"start\" x=\"427.68\" y=\"186.12\">7f</text><rect fill=\"red\" height=\"15.84\" width=\"23.76\" x=\"265.32\" y=\"176.88\"/><circle cx=\"264.0\" cy=\"184.8\" fill=\"red\" r=\"1.32\" stroke=\"red\" stroke-width=\"0\"/><circle cx=\"290.4\" cy=\"184.8\" fill=\"red\" r=\"1.32\" stroke=\"red\" stroke-width=\"0\"/><text alignment-baseline=\"middle\" fill=\"white\" font-family=\"Futura\" font-size=\"9.24\" text-anchor=\"middle\" x=\"277.2\" y=\"186.12\">-21</text><rect fill=\"red\" height=\"15.84\" width=\"23.76\" x=\"291.72\" y=\"176.88\"/><circle cx=\"290.4\" cy=\"184.8\" fill=\"red\" r=\"1.32\" stroke=\"red\" stroke-width=\"0\"/><circle cx=\"316.8\" cy=\"184.8\" fill=\"red\" r=\"1.32\" stroke=\"red\" stroke-width=\"0\"/><text alignment-baseline=\"middle\" fill=\"white\" font-family=\"Futura\" font-size=\"9.24\" text-anchor=\"middle\" x=\"303.6\" y=\"186.12\">-22</text><rect fill=\"red\" height=\"15.84\" width=\"23.76\" x=\"318.12\" y=\"176.88\"/><circle cx=\"316.8\" cy=\"184.8\" fill=\"red\" r=\"1.32\" stroke=\"red\" stroke-width=\"0\"/><circle cx=\"343.2\" cy=\"184.8\" fill=\"red\" r=\"1.32\" stroke=\"red\" stroke-width=\"0\"/><text alignment-baseline=\"middle\" fill=\"white\" font-family=\"Futura\" font-size=\"9.24\" text-anchor=\"middle\" x=\"330.0\" y=\"186.12\">-20</text><rect fill=\"red\" height=\"15.84\" width=\"23.76\" x=\"344.52\" y=\"176.88\"/><circle cx=\"343.2\" cy=\"184.8\" fill=\"red\" r=\"1.32\" stroke=\"red\" stroke-width=\"0\"/><circle cx=\"369.6\" cy=\"184.8\" fill=\"red\" r=\"1.32\" stroke=\"red\" stroke-width=\"0\"/><text alignment-baseline=\"middle\" fill=\"white\" font-family=\"Futura\" font-size=\"9.24\" text-anchor=\"middle\" x=\"356.4\" y=\"186.12\">-24</text><rect fill=\"red\" height=\"15.84\" width=\"23.76\" x=\"370.92\" y=\"176.88\"/><circle cx=\"369.6\" cy=\"184.8\" fill=\"red\" r=\"1.32\" stroke=\"red\" stroke-width=\"0\"/><circle cx=\"396.0\" cy=\"184.8\" fill=\"red\" r=\"1.32\" stroke=\"red\" stroke-width=\"0\"/><text alignment-baseline=\"middle\" fill=\"white\" font-family=\"Futura\" font-size=\"9.24\" text-anchor=\"middle\" x=\"382.8\" y=\"186.12\">-23</text><rect fill=\"red\" height=\"15.84\" width=\"23.76\" x=\"397.32\" y=\"176.88\"/><circle cx=\"396.0\" cy=\"184.8\" fill=\"red\" r=\"1.32\" stroke=\"red\" stroke-width=\"0\"/><circle cx=\"422.4\" cy=\"184.8\" fill=\"red\" r=\"1.32\" stroke=\"red\" stroke-width=\"0\"/><text alignment-baseline=\"middle\" fill=\"white\" font-family=\"Futura\" font-size=\"9.24\" text-anchor=\"middle\" x=\"409.2\" y=\"186.12\">-31</text><line stroke=\"red\" stroke-width=\"1.32\" x1=\"158.4\" x2=\"158.4\" y1=\"159.72\" y2=\"209.88\"/><text alignment-baseline=\"middle\" fill=\"black\" font-family=\"Futura\" font-size=\"9.24\" text-anchor=\"start\" x=\"427.68\" y=\"212.52\">8f</text><rect fill=\"red\" height=\"15.84\" width=\"23.76\" x=\"27.72\" y=\"203.28\"/><circle cx=\"26.4\" cy=\"211.2\" fill=\"red\" r=\"1.32\" stroke=\"red\" stroke-width=\"0\"/><circle cx=\"52.8\" cy=\"211.2\" fill=\"red\" r=\"1.32\" stroke=\"red\" stroke-width=\"0\"/><text alignment-baseline=\"middle\" fill=\"white\" font-family=\"Futura\" font-size=\"9.24\" text-anchor=\"middle\" x=\"39.6\" y=\"212.52\">-35</text><rect fill=\"red\" height=\"15.84\" width=\"23.76\" x=\"54.12\" y=\"203.28\"/><circle cx=\"52.8\" cy=\"211.2\" fill=\"red\" r=\"1.32\" stroke=\"red\" stroke-width=\"0\"/><circle cx=\"79.2\" cy=\"211.2\" fill=\"red\" r=\"1.32\" stroke=\"red\" stroke-width=\"0\"/><text alignment-baseline=\"middle\" fill=\"white\" font-family=\"Futura\" font-size=\"9.24\" text-anchor=\"middle\" x=\"66.0\" y=\"212.52\">-29</text><rect fill=\"red\" height=\"15.84\" width=\"23.76\" x=\"80.52\" y=\"203.28\"/><circle cx=\"79.2\" cy=\"211.2\" fill=\"red\" r=\"1.32\" stroke=\"red\" stroke-width=\"0\"/><circle cx=\"105.6\" cy=\"211.2\" fill=\"red\" r=\"1.32\" stroke=\"red\" stroke-width=\"0\"/><text alignment-baseline=\"middle\" fill=\"white\" font-family=\"Futura\" font-size=\"9.24\" text-anchor=\"middle\" x=\"92.4\" y=\"212.52\">-29</text><rect fill=\"red\" height=\"15.84\" width=\"23.76\" x=\"106.92\" y=\"203.28\"/><circle cx=\"105.6\" cy=\"211.2\" fill=\"red\" r=\"1.32\" stroke=\"red\" stroke-width=\"0\"/><circle cx=\"132.0\" cy=\"211.2\" fill=\"red\" r=\"1.32\" stroke=\"red\" stroke-width=\"0\"/><text alignment-baseline=\"middle\" fill=\"white\" font-family=\"Futura\" font-size=\"9.24\" text-anchor=\"middle\" x=\"118.8\" y=\"212.52\">-25</text><line stroke=\"red\" stroke-width=\"1.32\" x1=\"316.8\" x2=\"316.8\" y1=\"186.12\" y2=\"236.28\"/><text alignment-baseline=\"middle\" fill=\"black\" font-family=\"Futura\" font-size=\"9.24\" text-anchor=\"start\" x=\"427.68\" y=\"238.92\">9f</text><rect fill=\"red\" height=\"15.84\" width=\"23.76\" x=\"186.12\" y=\"229.68\"/><circle cx=\"184.8\" cy=\"237.6\" fill=\"red\" r=\"1.32\" stroke=\"red\" stroke-width=\"0\"/><circle cx=\"211.2\" cy=\"237.6\" fill=\"red\" r=\"1.32\" stroke=\"red\" stroke-width=\"0\"/><text alignment-baseline=\"middle\" fill=\"white\" font-family=\"Futura\" font-size=\"9.24\" text-anchor=\"middle\" x=\"198.0\" y=\"238.92\">-32</text><rect fill=\"red\" height=\"15.84\" width=\"23.76\" x=\"212.52\" y=\"229.68\"/><circle cx=\"211.2\" cy=\"237.6\" fill=\"red\" r=\"1.32\" stroke=\"red\" stroke-width=\"0\"/><circle cx=\"237.6\" cy=\"237.6\" fill=\"red\" r=\"1.32\" stroke=\"red\" stroke-width=\"0\"/><text alignment-baseline=\"middle\" fill=\"white\" font-family=\"Futura\" font-size=\"9.24\" text-anchor=\"middle\" x=\"224.4\" y=\"238.92\">-25</text><rect fill=\"red\" height=\"15.84\" width=\"23.76\" x=\"238.92\" y=\"229.68\"/><circle cx=\"237.6\" cy=\"237.6\" fill=\"red\" r=\"1.32\" stroke=\"red\" stroke-width=\"0\"/><circle cx=\"264.0\" cy=\"237.6\" fill=\"red\" r=\"1.32\" stroke=\"red\" stroke-width=\"0\"/><text alignment-baseline=\"middle\" fill=\"white\" font-family=\"Futura\" font-size=\"9.24\" text-anchor=\"middle\" x=\"250.8\" y=\"238.92\">-28</text><rect fill=\"red\" height=\"15.84\" width=\"23.76\" x=\"265.32\" y=\"229.68\"/><circle cx=\"264.0\" cy=\"237.6\" fill=\"red\" r=\"1.32\" stroke=\"red\" stroke-width=\"0\"/><circle cx=\"290.4\" cy=\"237.6\" fill=\"red\" r=\"1.32\" stroke=\"red\" stroke-width=\"0\"/><text alignment-baseline=\"middle\" fill=\"white\" font-family=\"Futura\" font-size=\"9.24\" text-anchor=\"middle\" x=\"277.2\" y=\"238.92\">-21</text><line stroke=\"red\" stroke-width=\"1.32\" x1=\"290.4\" x2=\"290.4\" y1=\"238.92\" y2=\"262.68\"/><text alignment-baseline=\"middle\" fill=\"black\" font-family=\"Futura\" font-size=\"9.24\" text-anchor=\"start\" x=\"427.68\" y=\"265.32\">10f</text><rect fill=\"red\" height=\"15.84\" width=\"23.76\" x=\"186.12\" y=\"256.08\"/><circle cx=\"184.8\" cy=\"264.0\" fill=\"red\" r=\"1.32\" stroke=\"red\" stroke-width=\"0\"/><circle cx=\"211.2\" cy=\"264.0\" fill=\"red\" r=\"1.32\" stroke=\"red\" stroke-width=\"0\"/><text alignment-baseline=\"middle\" fill=\"white\" font-family=\"Futura\" font-size=\"9.24\" text-anchor=\"middle\" x=\"198.0\" y=\"265.32\">-31</text><rect fill=\"red\" height=\"15.84\" width=\"23.76\" x=\"212.52\" y=\"256.08\"/><circle cx=\"211.2\" cy=\"264.0\" fill=\"red\" r=\"1.32\" stroke=\"red\" stroke-width=\"0\"/><circle cx=\"237.6\" cy=\"264.0\" fill=\"red\" r=\"1.32\" stroke=\"red\" stroke-width=\"0\"/><text alignment-baseline=\"middle\" fill=\"white\" font-family=\"Futura\" font-size=\"9.24\" text-anchor=\"middle\" x=\"224.4\" y=\"265.32\">-20</text><rect fill=\"red\" height=\"15.84\" width=\"23.76\" x=\"238.92\" y=\"256.08\"/><circle cx=\"237.6\" cy=\"264.0\" fill=\"red\" r=\"1.32\" stroke=\"red\" stroke-width=\"0\"/><circle cx=\"264.0\" cy=\"264.0\" fill=\"red\" r=\"1.32\" stroke=\"red\" stroke-width=\"0\"/><text alignment-baseline=\"middle\" fill=\"white\" font-family=\"Futura\" font-size=\"9.24\" text-anchor=\"middle\" x=\"250.8\" y=\"265.32\">-27</text><line stroke=\"red\" stroke-width=\"1.32\" x1=\"343.2\" x2=\"343.2\" y1=\"186.12\" y2=\"289.08\"/><text alignment-baseline=\"middle\" fill=\"black\" font-family=\"Futura\" font-size=\"9.24\" text-anchor=\"start\" x=\"454.08\" y=\"291.72\">11f</text><rect fill=\"red\" height=\"15.84\" width=\"23.76\" x=\"344.52\" y=\"282.48\"/><circle cx=\"343.2\" cy=\"290.4\" fill=\"red\" r=\"1.32\" stroke=\"red\" stroke-width=\"0\"/><circle cx=\"369.6\" cy=\"290.4\" fill=\"red\" r=\"1.32\" stroke=\"red\" stroke-width=\"0\"/><text alignment-baseline=\"middle\" fill=\"white\" font-family=\"Futura\" font-size=\"9.24\" text-anchor=\"middle\" x=\"356.4\" y=\"291.72\">-24</text><rect fill=\"red\" height=\"15.84\" width=\"23.76\" x=\"370.92\" y=\"282.48\"/><circle cx=\"369.6\" cy=\"290.4\" fill=\"red\" r=\"1.32\" stroke=\"red\" stroke-width=\"0\"/><circle cx=\"396.0\" cy=\"290.4\" fill=\"red\" r=\"1.32\" stroke=\"red\" stroke-width=\"0\"/><text alignment-baseline=\"middle\" fill=\"white\" font-family=\"Futura\" font-size=\"9.24\" text-anchor=\"middle\" x=\"382.8\" y=\"291.72\">-21</text><rect fill=\"red\" height=\"15.84\" width=\"23.76\" x=\"397.32\" y=\"282.48\"/><circle cx=\"396.0\" cy=\"290.4\" fill=\"red\" r=\"1.32\" stroke=\"red\" stroke-width=\"0\"/><circle cx=\"422.4\" cy=\"290.4\" fill=\"red\" r=\"1.32\" stroke=\"red\" stroke-width=\"0\"/><text alignment-baseline=\"middle\" fill=\"white\" font-family=\"Futura\" font-size=\"9.24\" text-anchor=\"middle\" x=\"409.2\" y=\"291.72\">-29</text><rect fill=\"red\" height=\"15.84\" width=\"23.76\" x=\"423.72\" y=\"282.48\"/><circle cx=\"422.4\" cy=\"290.4\" fill=\"red\" r=\"1.32\" stroke=\"red\" stroke-width=\"0\"/><circle cx=\"448.8\" cy=\"290.4\" fill=\"red\" r=\"1.32\" stroke=\"red\" stroke-width=\"0\"/><text alignment-baseline=\"middle\" fill=\"white\" font-family=\"Futura\" font-size=\"9.24\" text-anchor=\"middle\" x=\"435.6\" y=\"291.72\">-30</text><line stroke=\"red\" stroke-width=\"1.32\" x1=\"290.4\" x2=\"290.4\" y1=\"238.92\" y2=\"315.48\"/><text alignment-baseline=\"middle\" fill=\"black\" font-family=\"Futura\" font-size=\"9.24\" text-anchor=\"start\" x=\"454.08\" y=\"318.12\">12f</text><rect fill=\"red\" height=\"15.84\" width=\"23.76\" x=\"186.12\" y=\"308.88\"/><circle cx=\"184.8\" cy=\"316.8\" fill=\"red\" r=\"1.32\" stroke=\"red\" stroke-width=\"0\"/><circle cx=\"211.2\" cy=\"316.8\" fill=\"red\" r=\"1.32\" stroke=\"red\" stroke-width=\"0\"/><text alignment-baseline=\"middle\" fill=\"white\" font-family=\"Futura\" font-size=\"9.24\" text-anchor=\"middle\" x=\"198.0\" y=\"318.12\">-33</text><rect fill=\"red\" height=\"15.84\" width=\"23.76\" x=\"212.52\" y=\"308.88\"/><circle cx=\"211.2\" cy=\"316.8\" fill=\"red\" r=\"1.32\" stroke=\"red\" stroke-width=\"0\"/><circle cx=\"237.6\" cy=\"316.8\" fill=\"red\" r=\"1.32\" stroke=\"red\" stroke-width=\"0\"/><text alignment-baseline=\"middle\" fill=\"white\" font-family=\"Futura\" font-size=\"9.24\" text-anchor=\"middle\" x=\"224.4\" y=\"318.12\">-22</text><rect fill=\"red\" height=\"15.84\" width=\"23.76\" x=\"238.92\" y=\"308.88\"/><circle cx=\"237.6\" cy=\"316.8\" fill=\"red\" r=\"1.32\" stroke=\"red\" stroke-width=\"0\"/><circle cx=\"264.0\" cy=\"316.8\" fill=\"red\" r=\"1.32\" stroke=\"red\" stroke-width=\"0\"/><text alignment-baseline=\"middle\" fill=\"white\" font-family=\"Futura\" font-size=\"9.24\" text-anchor=\"middle\" x=\"250.8\" y=\"318.12\">-29</text><line stroke=\"red\" stroke-width=\"1.32\" x1=\"422.4\" x2=\"422.4\" y1=\"291.72\" y2=\"341.88\"/><text alignment-baseline=\"middle\" fill=\"black\" font-family=\"Futura\" font-size=\"9.24\" text-anchor=\"start\" x=\"506.88\" y=\"344.52\">13f</text><rect fill=\"red\" height=\"15.84\" width=\"23.76\" x=\"423.72\" y=\"335.28\"/><circle cx=\"422.4\" cy=\"343.2\" fill=\"red\" r=\"1.32\" stroke=\"red\" stroke-width=\"0\"/><circle cx=\"448.8\" cy=\"343.2\" fill=\"red\" r=\"1.32\" stroke=\"red\" stroke-width=\"0\"/><text alignment-baseline=\"middle\" fill=\"white\" font-family=\"Futura\" font-size=\"9.24\" text-anchor=\"middle\" x=\"435.6\" y=\"344.52\">-29</text><rect fill=\"red\" height=\"15.84\" width=\"23.76\" x=\"450.12\" y=\"335.28\"/><circle cx=\"448.8\" cy=\"343.2\" fill=\"red\" r=\"1.32\" stroke=\"red\" stroke-width=\"0\"/><circle cx=\"475.2\" cy=\"343.2\" fill=\"red\" r=\"1.32\" stroke=\"red\" stroke-width=\"0\"/><text alignment-baseline=\"middle\" fill=\"white\" font-family=\"Futura\" font-size=\"9.24\" text-anchor=\"middle\" x=\"462.0\" y=\"344.52\">-27</text><rect fill=\"red\" height=\"15.84\" width=\"23.76\" x=\"476.52\" y=\"335.28\"/><circle cx=\"475.2\" cy=\"343.2\" fill=\"red\" r=\"1.32\" stroke=\"red\" stroke-width=\"0\"/><circle cx=\"501.6\" cy=\"343.2\" fill=\"red\" r=\"1.32\" stroke=\"red\" stroke-width=\"0\"/><text alignment-baseline=\"middle\" fill=\"white\" font-family=\"Futura\" font-size=\"9.24\" text-anchor=\"middle\" x=\"488.4\" y=\"344.52\">-33</text></svg>"
       ],
       "text": [
        "<IPython.core.display.SVG at 0x10fa80810>"
       ]
      }
     ],
     "prompt_number": 35
    },
    {
     "cell_type": "code",
     "collapsed": false,
     "input": [
      "for sample in samples:\n",
      "    print sample.details.mover\n",
      "\n",
      "    sample.details."
     ],
     "language": "python",
     "metadata": {},
     "outputs": [
      {
       "output_type": "stream",
       "stream": "stdout",
       "text": [
        "<opentis.calculation.BootstrapPromotionMove object at 0x11095f650>\n",
        "<opentis.calculation.BootstrapPromotionMove object at 0x11095f650>\n",
        "<opentis.calculation.BootstrapPromotionMove object at 0x11095f650>\n",
        "<opentis.calculation.BootstrapPromotionMove object at 0x11095f650>\n",
        "<opentis.calculation.BootstrapPromotionMove object at 0x11095f650>\n",
        "<opentis.calculation.BootstrapPromotionMove object at 0x11095f650>\n",
        "<opentis.calculation.BootstrapPromotionMove object at 0x11095f650>\n",
        "<opentis.calculation.BootstrapPromotionMove object at 0x11095f650>\n",
        "<opentis.calculation.BootstrapPromotionMove object at 0x11095f650>\n",
        "<opentis.calculation.BootstrapPromotionMove object at 0x11095f650>\n",
        "<opentis.calculation.BootstrapPromotionMove object at 0x11095f650>\n",
        "<opentis.calculation.BootstrapPromotionMove object at 0x11095f650>\n"
       ]
      }
     ],
     "prompt_number": 46
    },
    {
     "cell_type": "markdown",
     "metadata": {},
     "source": [
      "An alternate view which is similar to the standard way of plotting"
     ]
    },
    {
     "cell_type": "code",
     "collapsed": false,
     "input": [
      "tree.rejected = False\n",
      "tree.states = []\n",
      "tree.op = None\n",
      "samples = storage.sample.by_ensemble(storage.ensemble.load(1))\n",
      "tree.from_samples(samples)\n",
      "view = tree.renderer\n",
      "view.zoom = 1.1\n",
      "view.horizontal_gap = -0.01\n",
      "view.scale_y = 15\n",
      "view.scale_x = 24\n",
      "view.font_size = 0.8\n",
      "view.font_family = 'Times'\n",
      "SVG(view.to_svg())"
     ],
     "language": "python",
     "metadata": {},
     "outputs": [
      {
       "metadata": {},
       "output_type": "pyout",
       "prompt_number": 45,
       "svg": [
        "<svg baseProfile=\"full\" height=\"858.0px\" version=\"1.1\" width=\"132.0px\" xmlns=\"http://www.w3.org/2000/svg\" xmlns:ev=\"http://www.w3.org/2001/xml-events\" xmlns:xlink=\"http://www.w3.org/1999/xlink\"><defs/><rect fill=\"orange\" height=\"1.65\" stroke=\"orange\" stroke-width=\"1.32\" width=\"26.4\" x=\"79.2\" y=\"847.275\"/><rect fill=\"orange\" height=\"1.65\" stroke=\"orange\" stroke-width=\"1.32\" width=\"26.4\" x=\"79.2\" y=\"830.775\"/><rect fill=\"orange\" height=\"1.65\" stroke=\"orange\" stroke-width=\"1.32\" width=\"26.4\" x=\"26.4\" y=\"814.275\"/><rect fill=\"orange\" height=\"1.65\" stroke=\"orange\" stroke-width=\"1.32\" width=\"26.4\" x=\"79.2\" y=\"797.775\"/><rect fill=\"orange\" height=\"1.65\" stroke=\"orange\" stroke-width=\"1.32\" width=\"26.4\" x=\"26.4\" y=\"781.275\"/><rect fill=\"orange\" height=\"1.65\" stroke=\"orange\" stroke-width=\"1.32\" width=\"26.4\" x=\"79.2\" y=\"764.775\"/><rect fill=\"orange\" height=\"1.65\" stroke=\"orange\" stroke-width=\"1.32\" width=\"26.4\" x=\"26.4\" y=\"748.275\"/><rect fill=\"orange\" height=\"1.65\" stroke=\"orange\" stroke-width=\"1.32\" width=\"26.4\" x=\"79.2\" y=\"731.775\"/><rect fill=\"orange\" height=\"1.65\" stroke=\"orange\" stroke-width=\"1.32\" width=\"26.4\" x=\"26.4\" y=\"715.275\"/><rect fill=\"orange\" height=\"1.65\" stroke=\"orange\" stroke-width=\"1.32\" width=\"26.4\" x=\"26.4\" y=\"698.775\"/><rect fill=\"orange\" height=\"1.65\" stroke=\"orange\" stroke-width=\"1.32\" width=\"26.4\" x=\"79.2\" y=\"682.275\"/><rect fill=\"orange\" height=\"1.65\" stroke=\"orange\" stroke-width=\"1.32\" width=\"26.4\" x=\"26.4\" y=\"665.775\"/><rect fill=\"orange\" height=\"1.65\" stroke=\"orange\" stroke-width=\"1.32\" width=\"26.4\" x=\"79.2\" y=\"649.275\"/><rect fill=\"orange\" height=\"1.65\" stroke=\"orange\" stroke-width=\"1.32\" width=\"26.4\" x=\"26.4\" y=\"632.775\"/><rect fill=\"orange\" height=\"1.65\" stroke=\"orange\" stroke-width=\"1.32\" width=\"26.4\" x=\"79.2\" y=\"616.275\"/><rect fill=\"orange\" height=\"1.65\" stroke=\"orange\" stroke-width=\"1.32\" width=\"26.4\" x=\"79.2\" y=\"599.775\"/><rect fill=\"orange\" height=\"1.65\" stroke=\"orange\" stroke-width=\"1.32\" width=\"26.4\" x=\"79.2\" y=\"583.275\"/><rect fill=\"orange\" height=\"1.65\" stroke=\"orange\" stroke-width=\"1.32\" width=\"26.4\" x=\"79.2\" y=\"566.775\"/><rect fill=\"orange\" height=\"1.65\" stroke=\"orange\" stroke-width=\"1.32\" width=\"26.4\" x=\"26.4\" y=\"550.275\"/><rect fill=\"orange\" height=\"1.65\" stroke=\"orange\" stroke-width=\"1.32\" width=\"26.4\" x=\"79.2\" y=\"533.775\"/><rect fill=\"orange\" height=\"1.65\" stroke=\"orange\" stroke-width=\"1.32\" width=\"26.4\" x=\"79.2\" y=\"517.275\"/><rect fill=\"orange\" height=\"1.65\" stroke=\"orange\" stroke-width=\"1.32\" width=\"26.4\" x=\"79.2\" y=\"500.775\"/><rect fill=\"orange\" height=\"1.65\" stroke=\"orange\" stroke-width=\"1.32\" width=\"26.4\" x=\"79.2\" y=\"484.275\"/><rect fill=\"orange\" height=\"1.65\" stroke=\"orange\" stroke-width=\"1.32\" width=\"26.4\" x=\"79.2\" y=\"467.775\"/><rect fill=\"orange\" height=\"1.65\" stroke=\"orange\" stroke-width=\"1.32\" width=\"26.4\" x=\"26.4\" y=\"451.275\"/><rect fill=\"orange\" height=\"1.65\" stroke=\"orange\" stroke-width=\"1.32\" width=\"26.4\" x=\"26.4\" y=\"434.775\"/><rect fill=\"orange\" height=\"1.65\" stroke=\"orange\" stroke-width=\"1.32\" width=\"26.4\" x=\"79.2\" y=\"418.275\"/><rect fill=\"orange\" height=\"1.65\" stroke=\"orange\" stroke-width=\"1.32\" width=\"26.4\" x=\"79.2\" y=\"401.775\"/><rect fill=\"orange\" height=\"1.65\" stroke=\"orange\" stroke-width=\"1.32\" width=\"26.4\" x=\"79.2\" y=\"385.275\"/><rect fill=\"orange\" height=\"1.65\" stroke=\"orange\" stroke-width=\"1.32\" width=\"26.4\" x=\"79.2\" y=\"368.775\"/><rect fill=\"orange\" height=\"1.65\" stroke=\"orange\" stroke-width=\"1.32\" width=\"26.4\" x=\"26.4\" y=\"352.275\"/><rect fill=\"orange\" height=\"1.65\" stroke=\"orange\" stroke-width=\"1.32\" width=\"26.4\" x=\"79.2\" y=\"335.775\"/><rect fill=\"orange\" height=\"1.65\" stroke=\"orange\" stroke-width=\"1.32\" width=\"26.4\" x=\"26.4\" y=\"319.275\"/><rect fill=\"orange\" height=\"1.65\" stroke=\"orange\" stroke-width=\"1.32\" width=\"26.4\" x=\"26.4\" y=\"302.775\"/><rect fill=\"orange\" height=\"1.65\" stroke=\"orange\" stroke-width=\"1.32\" width=\"26.4\" x=\"79.2\" y=\"286.275\"/><rect fill=\"orange\" height=\"1.65\" stroke=\"orange\" stroke-width=\"1.32\" width=\"26.4\" x=\"79.2\" y=\"269.775\"/><rect fill=\"orange\" height=\"1.65\" stroke=\"orange\" stroke-width=\"1.32\" width=\"26.4\" x=\"79.2\" y=\"253.275\"/><rect fill=\"orange\" height=\"1.65\" stroke=\"orange\" stroke-width=\"1.32\" width=\"26.4\" x=\"26.4\" y=\"236.775\"/><rect fill=\"orange\" height=\"1.65\" stroke=\"orange\" stroke-width=\"1.32\" width=\"26.4\" x=\"79.2\" y=\"220.275\"/><rect fill=\"orange\" height=\"1.65\" stroke=\"orange\" stroke-width=\"1.32\" width=\"26.4\" x=\"79.2\" y=\"203.775\"/><rect fill=\"orange\" height=\"1.65\" stroke=\"orange\" stroke-width=\"1.32\" width=\"26.4\" x=\"26.4\" y=\"187.275\"/><rect fill=\"orange\" height=\"1.65\" stroke=\"orange\" stroke-width=\"1.32\" width=\"26.4\" x=\"26.4\" y=\"170.775\"/><rect fill=\"orange\" height=\"1.65\" stroke=\"orange\" stroke-width=\"1.32\" width=\"26.4\" x=\"26.4\" y=\"154.275\"/><rect fill=\"orange\" height=\"1.65\" stroke=\"orange\" stroke-width=\"1.32\" width=\"26.4\" x=\"79.2\" y=\"137.775\"/><rect fill=\"orange\" height=\"1.65\" stroke=\"orange\" stroke-width=\"1.32\" width=\"26.4\" x=\"26.4\" y=\"121.275\"/><rect fill=\"orange\" height=\"1.65\" stroke=\"orange\" stroke-width=\"1.32\" width=\"26.4\" x=\"26.4\" y=\"104.775\"/><rect fill=\"orange\" height=\"1.65\" stroke=\"orange\" stroke-width=\"1.32\" width=\"26.4\" x=\"26.4\" y=\"88.275\"/><rect fill=\"orange\" height=\"1.65\" stroke=\"orange\" stroke-width=\"1.32\" width=\"26.4\" x=\"26.4\" y=\"71.775\"/><rect fill=\"orange\" height=\"1.65\" stroke=\"orange\" stroke-width=\"1.32\" width=\"26.4\" x=\"26.4\" y=\"55.275\"/><rect fill=\"orange\" height=\"1.65\" stroke=\"orange\" stroke-width=\"1.32\" width=\"26.4\" x=\"26.4\" y=\"38.775\"/><rect fill=\"orange\" height=\"1.65\" stroke=\"orange\" stroke-width=\"1.32\" width=\"26.4\" x=\"79.2\" y=\"22.275\"/><rect fill=\"black\" height=\"1.65\" stroke=\"black\" stroke-width=\"1.32\" width=\"26.4\" x=\"52.8\" y=\"22.275\"/><rect fill=\"orange\" height=\"1.65\" stroke=\"orange\" stroke-width=\"1.32\" width=\"26.4\" x=\"26.4\" y=\"22.275\"/><rect fill=\"black\" height=\"9.9\" width=\"26.928\" x=\"26.136\" y=\"11.55\"/><circle cx=\"26.4\" cy=\"16.5\" fill=\"black\" r=\"-0.264\" stroke=\"black\" stroke-width=\"0\"/><circle cx=\"52.8\" cy=\"16.5\" fill=\"black\" r=\"-0.264\" stroke=\"black\" stroke-width=\"0\"/><text alignment-baseline=\"middle\" fill=\"white\" font-family=\"Times\" font-size=\"13.2\" text-anchor=\"middle\" x=\"39.6\" y=\"17.325\">-32</text><rect fill=\"black\" height=\"9.9\" width=\"26.928\" x=\"52.536\" y=\"11.55\"/><circle cx=\"52.8\" cy=\"16.5\" fill=\"black\" r=\"-0.264\" stroke=\"black\" stroke-width=\"0\"/><circle cx=\"79.2\" cy=\"16.5\" fill=\"black\" r=\"-0.264\" stroke=\"black\" stroke-width=\"0\"/><text alignment-baseline=\"middle\" fill=\"white\" font-family=\"Times\" font-size=\"13.2\" text-anchor=\"middle\" x=\"66.0\" y=\"17.325\">-24</text><rect fill=\"black\" height=\"9.9\" width=\"26.928\" x=\"78.936\" y=\"11.55\"/><circle cx=\"79.2\" cy=\"16.5\" fill=\"black\" r=\"-0.264\" stroke=\"black\" stroke-width=\"0\"/><circle cx=\"105.6\" cy=\"16.5\" fill=\"black\" r=\"-0.264\" stroke=\"black\" stroke-width=\"0\"/><text alignment-baseline=\"middle\" fill=\"white\" font-family=\"Times\" font-size=\"13.2\" text-anchor=\"middle\" x=\"92.4\" y=\"17.325\">-33</text><text alignment-baseline=\"middle\" fill=\"black\" font-family=\"Times\" font-size=\"13.2\" text-anchor=\"end\" x=\"21.12\" y=\"17.325\">Noneb</text><line stroke=\"red\" stroke-width=\"1.32\" x1=\"79.2\" x2=\"79.2\" y1=\"16.335\" y2=\"33.165\"/><text alignment-baseline=\"middle\" fill=\"black\" font-family=\"Times\" font-size=\"13.2\" text-anchor=\"start\" x=\"110.88\" y=\"33.825\">Nonef</text><rect fill=\"red\" height=\"9.9\" width=\"26.928\" x=\"26.136\" y=\"28.05\"/><circle cx=\"26.4\" cy=\"33.0\" fill=\"red\" r=\"-0.264\" stroke=\"red\" stroke-width=\"0\"/><circle cx=\"52.8\" cy=\"33.0\" fill=\"red\" r=\"-0.264\" stroke=\"red\" stroke-width=\"0\"/><text alignment-baseline=\"middle\" fill=\"white\" font-family=\"Times\" font-size=\"13.2\" text-anchor=\"middle\" x=\"39.6\" y=\"33.825\">-32</text><line stroke=\"red\" stroke-width=\"1.32\" x1=\"79.2\" x2=\"79.2\" y1=\"16.335\" y2=\"49.665\"/><text alignment-baseline=\"middle\" fill=\"black\" font-family=\"Times\" font-size=\"13.2\" text-anchor=\"start\" x=\"110.88\" y=\"50.325\">Nonef</text><rect fill=\"red\" height=\"9.9\" width=\"26.928\" x=\"26.136\" y=\"44.55\"/><circle cx=\"26.4\" cy=\"49.5\" fill=\"red\" r=\"-0.264\" stroke=\"red\" stroke-width=\"0\"/><circle cx=\"52.8\" cy=\"49.5\" fill=\"red\" r=\"-0.264\" stroke=\"red\" stroke-width=\"0\"/><text alignment-baseline=\"middle\" fill=\"white\" font-family=\"Times\" font-size=\"13.2\" text-anchor=\"middle\" x=\"39.6\" y=\"50.325\">-33</text><line stroke=\"red\" stroke-width=\"1.32\" x1=\"79.2\" x2=\"79.2\" y1=\"16.335\" y2=\"66.165\"/><text alignment-baseline=\"middle\" fill=\"black\" font-family=\"Times\" font-size=\"13.2\" text-anchor=\"start\" x=\"110.88\" y=\"66.825\">Nonef</text><rect fill=\"red\" height=\"9.9\" width=\"26.928\" x=\"26.136\" y=\"61.05\"/><circle cx=\"26.4\" cy=\"66.0\" fill=\"red\" r=\"-0.264\" stroke=\"red\" stroke-width=\"0\"/><circle cx=\"52.8\" cy=\"66.0\" fill=\"red\" r=\"-0.264\" stroke=\"red\" stroke-width=\"0\"/><text alignment-baseline=\"middle\" fill=\"white\" font-family=\"Times\" font-size=\"13.2\" text-anchor=\"middle\" x=\"39.6\" y=\"66.825\">-32</text><line stroke=\"red\" stroke-width=\"1.32\" x1=\"79.2\" x2=\"79.2\" y1=\"16.335\" y2=\"82.665\"/><text alignment-baseline=\"middle\" fill=\"black\" font-family=\"Times\" font-size=\"13.2\" text-anchor=\"start\" x=\"110.88\" y=\"83.325\">Nonef</text><rect fill=\"red\" height=\"9.9\" width=\"26.928\" x=\"26.136\" y=\"77.55\"/><circle cx=\"26.4\" cy=\"82.5\" fill=\"red\" r=\"-0.264\" stroke=\"red\" stroke-width=\"0\"/><circle cx=\"52.8\" cy=\"82.5\" fill=\"red\" r=\"-0.264\" stroke=\"red\" stroke-width=\"0\"/><text alignment-baseline=\"middle\" fill=\"white\" font-family=\"Times\" font-size=\"13.2\" text-anchor=\"middle\" x=\"39.6\" y=\"83.325\">-33</text><line stroke=\"red\" stroke-width=\"1.32\" x1=\"79.2\" x2=\"79.2\" y1=\"16.335\" y2=\"99.165\"/><text alignment-baseline=\"middle\" fill=\"black\" font-family=\"Times\" font-size=\"13.2\" text-anchor=\"start\" x=\"110.88\" y=\"99.825\">Nonef</text><rect fill=\"red\" height=\"9.9\" width=\"26.928\" x=\"26.136\" y=\"94.05\"/><circle cx=\"26.4\" cy=\"99.0\" fill=\"red\" r=\"-0.264\" stroke=\"red\" stroke-width=\"0\"/><circle cx=\"52.8\" cy=\"99.0\" fill=\"red\" r=\"-0.264\" stroke=\"red\" stroke-width=\"0\"/><text alignment-baseline=\"middle\" fill=\"white\" font-family=\"Times\" font-size=\"13.2\" text-anchor=\"middle\" x=\"39.6\" y=\"99.825\">-32</text><line stroke=\"red\" stroke-width=\"1.32\" x1=\"79.2\" x2=\"79.2\" y1=\"16.335\" y2=\"115.665\"/><text alignment-baseline=\"middle\" fill=\"black\" font-family=\"Times\" font-size=\"13.2\" text-anchor=\"start\" x=\"110.88\" y=\"116.325\">Nonef</text><rect fill=\"red\" height=\"9.9\" width=\"26.928\" x=\"26.136\" y=\"110.55\"/><circle cx=\"26.4\" cy=\"115.5\" fill=\"red\" r=\"-0.264\" stroke=\"red\" stroke-width=\"0\"/><circle cx=\"52.8\" cy=\"115.5\" fill=\"red\" r=\"-0.264\" stroke=\"red\" stroke-width=\"0\"/><text alignment-baseline=\"middle\" fill=\"white\" font-family=\"Times\" font-size=\"13.2\" text-anchor=\"middle\" x=\"39.6\" y=\"116.325\">-33</text><line stroke=\"red\" stroke-width=\"1.32\" x1=\"79.2\" x2=\"79.2\" y1=\"16.335\" y2=\"132.165\"/><text alignment-baseline=\"middle\" fill=\"black\" font-family=\"Times\" font-size=\"13.2\" text-anchor=\"start\" x=\"110.88\" y=\"132.825\">Nonef</text><rect fill=\"red\" height=\"9.9\" width=\"26.928\" x=\"78.936\" y=\"127.05\"/><circle cx=\"79.2\" cy=\"132.0\" fill=\"red\" r=\"-0.264\" stroke=\"red\" stroke-width=\"0\"/><circle cx=\"105.6\" cy=\"132.0\" fill=\"red\" r=\"-0.264\" stroke=\"red\" stroke-width=\"0\"/><text alignment-baseline=\"middle\" fill=\"white\" font-family=\"Times\" font-size=\"13.2\" text-anchor=\"middle\" x=\"92.4\" y=\"132.825\">-33</text><line stroke=\"red\" stroke-width=\"1.32\" x1=\"79.2\" x2=\"79.2\" y1=\"16.335\" y2=\"148.665\"/><text alignment-baseline=\"middle\" fill=\"black\" font-family=\"Times\" font-size=\"13.2\" text-anchor=\"start\" x=\"110.88\" y=\"149.325\">Nonef</text><rect fill=\"red\" height=\"9.9\" width=\"26.928\" x=\"26.136\" y=\"143.55\"/><circle cx=\"26.4\" cy=\"148.5\" fill=\"red\" r=\"-0.264\" stroke=\"red\" stroke-width=\"0\"/><circle cx=\"52.8\" cy=\"148.5\" fill=\"red\" r=\"-0.264\" stroke=\"red\" stroke-width=\"0\"/><text alignment-baseline=\"middle\" fill=\"white\" font-family=\"Times\" font-size=\"13.2\" text-anchor=\"middle\" x=\"39.6\" y=\"149.325\">-32</text><line stroke=\"red\" stroke-width=\"1.32\" x1=\"79.2\" x2=\"79.2\" y1=\"16.335\" y2=\"165.165\"/><text alignment-baseline=\"middle\" fill=\"black\" font-family=\"Times\" font-size=\"13.2\" text-anchor=\"start\" x=\"110.88\" y=\"165.825\">Nonef</text><rect fill=\"red\" height=\"9.9\" width=\"26.928\" x=\"26.136\" y=\"160.05\"/><circle cx=\"26.4\" cy=\"165.0\" fill=\"red\" r=\"-0.264\" stroke=\"red\" stroke-width=\"0\"/><circle cx=\"52.8\" cy=\"165.0\" fill=\"red\" r=\"-0.264\" stroke=\"red\" stroke-width=\"0\"/><text alignment-baseline=\"middle\" fill=\"white\" font-family=\"Times\" font-size=\"13.2\" text-anchor=\"middle\" x=\"39.6\" y=\"165.825\">-33</text><line stroke=\"red\" stroke-width=\"1.32\" x1=\"79.2\" x2=\"79.2\" y1=\"16.335\" y2=\"181.665\"/><text alignment-baseline=\"middle\" fill=\"black\" font-family=\"Times\" font-size=\"13.2\" text-anchor=\"start\" x=\"110.88\" y=\"182.325\">Nonef</text><rect fill=\"red\" height=\"9.9\" width=\"26.928\" x=\"26.136\" y=\"176.55\"/><circle cx=\"26.4\" cy=\"181.5\" fill=\"red\" r=\"-0.264\" stroke=\"red\" stroke-width=\"0\"/><circle cx=\"52.8\" cy=\"181.5\" fill=\"red\" r=\"-0.264\" stroke=\"red\" stroke-width=\"0\"/><text alignment-baseline=\"middle\" fill=\"white\" font-family=\"Times\" font-size=\"13.2\" text-anchor=\"middle\" x=\"39.6\" y=\"182.325\">-32</text><line stroke=\"red\" stroke-width=\"1.32\" x1=\"79.2\" x2=\"79.2\" y1=\"16.335\" y2=\"198.165\"/><text alignment-baseline=\"middle\" fill=\"black\" font-family=\"Times\" font-size=\"13.2\" text-anchor=\"start\" x=\"110.88\" y=\"198.825\">Nonef</text><rect fill=\"red\" height=\"9.9\" width=\"26.928\" x=\"78.936\" y=\"193.05\"/><circle cx=\"79.2\" cy=\"198.0\" fill=\"red\" r=\"-0.264\" stroke=\"red\" stroke-width=\"0\"/><circle cx=\"105.6\" cy=\"198.0\" fill=\"red\" r=\"-0.264\" stroke=\"red\" stroke-width=\"0\"/><text alignment-baseline=\"middle\" fill=\"white\" font-family=\"Times\" font-size=\"13.2\" text-anchor=\"middle\" x=\"92.4\" y=\"198.825\">-33</text><line stroke=\"red\" stroke-width=\"1.32\" x1=\"79.2\" x2=\"79.2\" y1=\"16.335\" y2=\"214.665\"/><text alignment-baseline=\"middle\" fill=\"black\" font-family=\"Times\" font-size=\"13.2\" text-anchor=\"start\" x=\"110.88\" y=\"215.325\">Nonef</text><rect fill=\"red\" height=\"9.9\" width=\"26.928\" x=\"78.936\" y=\"209.55\"/><circle cx=\"79.2\" cy=\"214.5\" fill=\"red\" r=\"-0.264\" stroke=\"red\" stroke-width=\"0\"/><circle cx=\"105.6\" cy=\"214.5\" fill=\"red\" r=\"-0.264\" stroke=\"red\" stroke-width=\"0\"/><text alignment-baseline=\"middle\" fill=\"white\" font-family=\"Times\" font-size=\"13.2\" text-anchor=\"middle\" x=\"92.4\" y=\"215.325\">-32</text><line stroke=\"red\" stroke-width=\"1.32\" x1=\"79.2\" x2=\"79.2\" y1=\"16.335\" y2=\"231.165\"/><text alignment-baseline=\"middle\" fill=\"black\" font-family=\"Times\" font-size=\"13.2\" text-anchor=\"start\" x=\"110.88\" y=\"231.825\">Nonef</text><rect fill=\"red\" height=\"9.9\" width=\"26.928\" x=\"26.136\" y=\"226.05\"/><circle cx=\"26.4\" cy=\"231.0\" fill=\"red\" r=\"-0.264\" stroke=\"red\" stroke-width=\"0\"/><circle cx=\"52.8\" cy=\"231.0\" fill=\"red\" r=\"-0.264\" stroke=\"red\" stroke-width=\"0\"/><text alignment-baseline=\"middle\" fill=\"white\" font-family=\"Times\" font-size=\"13.2\" text-anchor=\"middle\" x=\"39.6\" y=\"231.825\">-33</text><line stroke=\"red\" stroke-width=\"1.32\" x1=\"79.2\" x2=\"79.2\" y1=\"16.335\" y2=\"247.665\"/><text alignment-baseline=\"middle\" fill=\"black\" font-family=\"Times\" font-size=\"13.2\" text-anchor=\"start\" x=\"110.88\" y=\"248.325\">Nonef</text><rect fill=\"red\" height=\"9.9\" width=\"26.928\" x=\"78.936\" y=\"242.55\"/><circle cx=\"79.2\" cy=\"247.5\" fill=\"red\" r=\"-0.264\" stroke=\"red\" stroke-width=\"0\"/><circle cx=\"105.6\" cy=\"247.5\" fill=\"red\" r=\"-0.264\" stroke=\"red\" stroke-width=\"0\"/><text alignment-baseline=\"middle\" fill=\"white\" font-family=\"Times\" font-size=\"13.2\" text-anchor=\"middle\" x=\"92.4\" y=\"248.325\">-33</text><line stroke=\"red\" stroke-width=\"1.32\" x1=\"79.2\" x2=\"79.2\" y1=\"16.335\" y2=\"264.165\"/><text alignment-baseline=\"middle\" fill=\"black\" font-family=\"Times\" font-size=\"13.2\" text-anchor=\"start\" x=\"110.88\" y=\"264.825\">Nonef</text><rect fill=\"red\" height=\"9.9\" width=\"26.928\" x=\"78.936\" y=\"259.05\"/><circle cx=\"79.2\" cy=\"264.0\" fill=\"red\" r=\"-0.264\" stroke=\"red\" stroke-width=\"0\"/><circle cx=\"105.6\" cy=\"264.0\" fill=\"red\" r=\"-0.264\" stroke=\"red\" stroke-width=\"0\"/><text alignment-baseline=\"middle\" fill=\"white\" font-family=\"Times\" font-size=\"13.2\" text-anchor=\"middle\" x=\"92.4\" y=\"264.825\">-32</text><line stroke=\"red\" stroke-width=\"1.32\" x1=\"79.2\" x2=\"79.2\" y1=\"16.335\" y2=\"280.665\"/><text alignment-baseline=\"middle\" fill=\"black\" font-family=\"Times\" font-size=\"13.2\" text-anchor=\"start\" x=\"110.88\" y=\"281.325\">Nonef</text><rect fill=\"red\" height=\"9.9\" width=\"26.928\" x=\"78.936\" y=\"275.55\"/><circle cx=\"79.2\" cy=\"280.5\" fill=\"red\" r=\"-0.264\" stroke=\"red\" stroke-width=\"0\"/><circle cx=\"105.6\" cy=\"280.5\" fill=\"red\" r=\"-0.264\" stroke=\"red\" stroke-width=\"0\"/><text alignment-baseline=\"middle\" fill=\"white\" font-family=\"Times\" font-size=\"13.2\" text-anchor=\"middle\" x=\"92.4\" y=\"281.325\">-33</text><line stroke=\"red\" stroke-width=\"1.32\" x1=\"79.2\" x2=\"79.2\" y1=\"16.335\" y2=\"297.165\"/><text alignment-baseline=\"middle\" fill=\"black\" font-family=\"Times\" font-size=\"13.2\" text-anchor=\"start\" x=\"110.88\" y=\"297.825\">Nonef</text><rect fill=\"red\" height=\"9.9\" width=\"26.928\" x=\"26.136\" y=\"292.05\"/><circle cx=\"26.4\" cy=\"297.0\" fill=\"red\" r=\"-0.264\" stroke=\"red\" stroke-width=\"0\"/><circle cx=\"52.8\" cy=\"297.0\" fill=\"red\" r=\"-0.264\" stroke=\"red\" stroke-width=\"0\"/><text alignment-baseline=\"middle\" fill=\"white\" font-family=\"Times\" font-size=\"13.2\" text-anchor=\"middle\" x=\"39.6\" y=\"297.825\">-32</text><line stroke=\"red\" stroke-width=\"1.32\" x1=\"79.2\" x2=\"79.2\" y1=\"16.335\" y2=\"313.665\"/><text alignment-baseline=\"middle\" fill=\"black\" font-family=\"Times\" font-size=\"13.2\" text-anchor=\"start\" x=\"110.88\" y=\"314.325\">Nonef</text><rect fill=\"red\" height=\"9.9\" width=\"26.928\" x=\"26.136\" y=\"308.55\"/><circle cx=\"26.4\" cy=\"313.5\" fill=\"red\" r=\"-0.264\" stroke=\"red\" stroke-width=\"0\"/><circle cx=\"52.8\" cy=\"313.5\" fill=\"red\" r=\"-0.264\" stroke=\"red\" stroke-width=\"0\"/><text alignment-baseline=\"middle\" fill=\"white\" font-family=\"Times\" font-size=\"13.2\" text-anchor=\"middle\" x=\"39.6\" y=\"314.325\">-34</text><line stroke=\"red\" stroke-width=\"1.32\" x1=\"79.2\" x2=\"79.2\" y1=\"16.335\" y2=\"330.165\"/><text alignment-baseline=\"middle\" fill=\"black\" font-family=\"Times\" font-size=\"13.2\" text-anchor=\"start\" x=\"110.88\" y=\"330.825\">Nonef</text><rect fill=\"red\" height=\"9.9\" width=\"26.928\" x=\"78.936\" y=\"325.05\"/><circle cx=\"79.2\" cy=\"330.0\" fill=\"red\" r=\"-0.264\" stroke=\"red\" stroke-width=\"0\"/><circle cx=\"105.6\" cy=\"330.0\" fill=\"red\" r=\"-0.264\" stroke=\"red\" stroke-width=\"0\"/><text alignment-baseline=\"middle\" fill=\"white\" font-family=\"Times\" font-size=\"13.2\" text-anchor=\"middle\" x=\"92.4\" y=\"330.825\">-33</text><line stroke=\"red\" stroke-width=\"1.32\" x1=\"79.2\" x2=\"79.2\" y1=\"16.335\" y2=\"346.665\"/><text alignment-baseline=\"middle\" fill=\"black\" font-family=\"Times\" font-size=\"13.2\" text-anchor=\"start\" x=\"110.88\" y=\"347.325\">Nonef</text><rect fill=\"red\" height=\"9.9\" width=\"26.928\" x=\"26.136\" y=\"341.55\"/><circle cx=\"26.4\" cy=\"346.5\" fill=\"red\" r=\"-0.264\" stroke=\"red\" stroke-width=\"0\"/><circle cx=\"52.8\" cy=\"346.5\" fill=\"red\" r=\"-0.264\" stroke=\"red\" stroke-width=\"0\"/><text alignment-baseline=\"middle\" fill=\"white\" font-family=\"Times\" font-size=\"13.2\" text-anchor=\"middle\" x=\"39.6\" y=\"347.325\">-33</text><line stroke=\"red\" stroke-width=\"1.32\" x1=\"79.2\" x2=\"79.2\" y1=\"16.335\" y2=\"363.165\"/><text alignment-baseline=\"middle\" fill=\"black\" font-family=\"Times\" font-size=\"13.2\" text-anchor=\"start\" x=\"110.88\" y=\"363.825\">Nonef</text><rect fill=\"red\" height=\"9.9\" width=\"26.928\" x=\"78.936\" y=\"358.05\"/><circle cx=\"79.2\" cy=\"363.0\" fill=\"red\" r=\"-0.264\" stroke=\"red\" stroke-width=\"0\"/><circle cx=\"105.6\" cy=\"363.0\" fill=\"red\" r=\"-0.264\" stroke=\"red\" stroke-width=\"0\"/><text alignment-baseline=\"middle\" fill=\"white\" font-family=\"Times\" font-size=\"13.2\" text-anchor=\"middle\" x=\"92.4\" y=\"363.825\">-32</text><line stroke=\"red\" stroke-width=\"1.32\" x1=\"79.2\" x2=\"79.2\" y1=\"16.335\" y2=\"379.665\"/><text alignment-baseline=\"middle\" fill=\"black\" font-family=\"Times\" font-size=\"13.2\" text-anchor=\"start\" x=\"110.88\" y=\"380.325\">Nonef</text><rect fill=\"red\" height=\"9.9\" width=\"26.928\" x=\"78.936\" y=\"374.55\"/><circle cx=\"79.2\" cy=\"379.5\" fill=\"red\" r=\"-0.264\" stroke=\"red\" stroke-width=\"0\"/><circle cx=\"105.6\" cy=\"379.5\" fill=\"red\" r=\"-0.264\" stroke=\"red\" stroke-width=\"0\"/><text alignment-baseline=\"middle\" fill=\"white\" font-family=\"Times\" font-size=\"13.2\" text-anchor=\"middle\" x=\"92.4\" y=\"380.325\">-33</text><line stroke=\"red\" stroke-width=\"1.32\" x1=\"79.2\" x2=\"79.2\" y1=\"16.335\" y2=\"396.165\"/><text alignment-baseline=\"middle\" fill=\"black\" font-family=\"Times\" font-size=\"13.2\" text-anchor=\"start\" x=\"110.88\" y=\"396.825\">Nonef</text><rect fill=\"red\" height=\"9.9\" width=\"26.928\" x=\"78.936\" y=\"391.05\"/><circle cx=\"79.2\" cy=\"396.0\" fill=\"red\" r=\"-0.264\" stroke=\"red\" stroke-width=\"0\"/><circle cx=\"105.6\" cy=\"396.0\" fill=\"red\" r=\"-0.264\" stroke=\"red\" stroke-width=\"0\"/><text alignment-baseline=\"middle\" fill=\"white\" font-family=\"Times\" font-size=\"13.2\" text-anchor=\"middle\" x=\"92.4\" y=\"396.825\">-33</text><line stroke=\"red\" stroke-width=\"1.32\" x1=\"79.2\" x2=\"79.2\" y1=\"16.335\" y2=\"412.665\"/><text alignment-baseline=\"middle\" fill=\"black\" font-family=\"Times\" font-size=\"13.2\" text-anchor=\"start\" x=\"110.88\" y=\"413.325\">Nonef</text><rect fill=\"red\" height=\"9.9\" width=\"26.928\" x=\"78.936\" y=\"407.55\"/><circle cx=\"79.2\" cy=\"412.5\" fill=\"red\" r=\"-0.264\" stroke=\"red\" stroke-width=\"0\"/><circle cx=\"105.6\" cy=\"412.5\" fill=\"red\" r=\"-0.264\" stroke=\"red\" stroke-width=\"0\"/><text alignment-baseline=\"middle\" fill=\"white\" font-family=\"Times\" font-size=\"13.2\" text-anchor=\"middle\" x=\"92.4\" y=\"413.325\">-32</text><line stroke=\"red\" stroke-width=\"1.32\" x1=\"79.2\" x2=\"79.2\" y1=\"16.335\" y2=\"429.165\"/><text alignment-baseline=\"middle\" fill=\"black\" font-family=\"Times\" font-size=\"13.2\" text-anchor=\"start\" x=\"110.88\" y=\"429.825\">Nonef</text><rect fill=\"red\" height=\"9.9\" width=\"26.928\" x=\"26.136\" y=\"424.05\"/><circle cx=\"26.4\" cy=\"429.0\" fill=\"red\" r=\"-0.264\" stroke=\"red\" stroke-width=\"0\"/><circle cx=\"52.8\" cy=\"429.0\" fill=\"red\" r=\"-0.264\" stroke=\"red\" stroke-width=\"0\"/><text alignment-baseline=\"middle\" fill=\"white\" font-family=\"Times\" font-size=\"13.2\" text-anchor=\"middle\" x=\"39.6\" y=\"429.825\">-33</text><line stroke=\"red\" stroke-width=\"1.32\" x1=\"79.2\" x2=\"79.2\" y1=\"16.335\" y2=\"445.665\"/><text alignment-baseline=\"middle\" fill=\"black\" font-family=\"Times\" font-size=\"13.2\" text-anchor=\"start\" x=\"110.88\" y=\"446.325\">Nonef</text><rect fill=\"red\" height=\"9.9\" width=\"26.928\" x=\"26.136\" y=\"440.55\"/><circle cx=\"26.4\" cy=\"445.5\" fill=\"red\" r=\"-0.264\" stroke=\"red\" stroke-width=\"0\"/><circle cx=\"52.8\" cy=\"445.5\" fill=\"red\" r=\"-0.264\" stroke=\"red\" stroke-width=\"0\"/><text alignment-baseline=\"middle\" fill=\"white\" font-family=\"Times\" font-size=\"13.2\" text-anchor=\"middle\" x=\"39.6\" y=\"446.325\">-32</text><line stroke=\"red\" stroke-width=\"1.32\" x1=\"79.2\" x2=\"79.2\" y1=\"16.335\" y2=\"462.165\"/><text alignment-baseline=\"middle\" fill=\"black\" font-family=\"Times\" font-size=\"13.2\" text-anchor=\"start\" x=\"110.88\" y=\"462.825\">Nonef</text><rect fill=\"red\" height=\"9.9\" width=\"26.928\" x=\"78.936\" y=\"457.05\"/><circle cx=\"79.2\" cy=\"462.0\" fill=\"red\" r=\"-0.264\" stroke=\"red\" stroke-width=\"0\"/><circle cx=\"105.6\" cy=\"462.0\" fill=\"red\" r=\"-0.264\" stroke=\"red\" stroke-width=\"0\"/><text alignment-baseline=\"middle\" fill=\"white\" font-family=\"Times\" font-size=\"13.2\" text-anchor=\"middle\" x=\"92.4\" y=\"462.825\">-32</text><line stroke=\"red\" stroke-width=\"1.32\" x1=\"79.2\" x2=\"79.2\" y1=\"16.335\" y2=\"478.665\"/><text alignment-baseline=\"middle\" fill=\"black\" font-family=\"Times\" font-size=\"13.2\" text-anchor=\"start\" x=\"110.88\" y=\"479.325\">Nonef</text><rect fill=\"red\" height=\"9.9\" width=\"26.928\" x=\"78.936\" y=\"473.55\"/><circle cx=\"79.2\" cy=\"478.5\" fill=\"red\" r=\"-0.264\" stroke=\"red\" stroke-width=\"0\"/><circle cx=\"105.6\" cy=\"478.5\" fill=\"red\" r=\"-0.264\" stroke=\"red\" stroke-width=\"0\"/><text alignment-baseline=\"middle\" fill=\"white\" font-family=\"Times\" font-size=\"13.2\" text-anchor=\"middle\" x=\"92.4\" y=\"479.325\">-34</text><line stroke=\"red\" stroke-width=\"1.32\" x1=\"79.2\" x2=\"79.2\" y1=\"16.335\" y2=\"495.165\"/><text alignment-baseline=\"middle\" fill=\"black\" font-family=\"Times\" font-size=\"13.2\" text-anchor=\"start\" x=\"110.88\" y=\"495.825\">Nonef</text><rect fill=\"red\" height=\"9.9\" width=\"26.928\" x=\"78.936\" y=\"490.05\"/><circle cx=\"79.2\" cy=\"495.0\" fill=\"red\" r=\"-0.264\" stroke=\"red\" stroke-width=\"0\"/><circle cx=\"105.6\" cy=\"495.0\" fill=\"red\" r=\"-0.264\" stroke=\"red\" stroke-width=\"0\"/><text alignment-baseline=\"middle\" fill=\"white\" font-family=\"Times\" font-size=\"13.2\" text-anchor=\"middle\" x=\"92.4\" y=\"495.825\">-33</text><line stroke=\"red\" stroke-width=\"1.32\" x1=\"79.2\" x2=\"79.2\" y1=\"16.335\" y2=\"511.665\"/><text alignment-baseline=\"middle\" fill=\"black\" font-family=\"Times\" font-size=\"13.2\" text-anchor=\"start\" x=\"110.88\" y=\"512.325\">Nonef</text><rect fill=\"red\" height=\"9.9\" width=\"26.928\" x=\"78.936\" y=\"506.55\"/><circle cx=\"79.2\" cy=\"511.5\" fill=\"red\" r=\"-0.264\" stroke=\"red\" stroke-width=\"0\"/><circle cx=\"105.6\" cy=\"511.5\" fill=\"red\" r=\"-0.264\" stroke=\"red\" stroke-width=\"0\"/><text alignment-baseline=\"middle\" fill=\"white\" font-family=\"Times\" font-size=\"13.2\" text-anchor=\"middle\" x=\"92.4\" y=\"512.325\">-32</text><line stroke=\"red\" stroke-width=\"1.32\" x1=\"79.2\" x2=\"79.2\" y1=\"16.335\" y2=\"528.165\"/><text alignment-baseline=\"middle\" fill=\"black\" font-family=\"Times\" font-size=\"13.2\" text-anchor=\"start\" x=\"110.88\" y=\"528.825\">Nonef</text><rect fill=\"red\" height=\"9.9\" width=\"26.928\" x=\"78.936\" y=\"523.05\"/><circle cx=\"79.2\" cy=\"528.0\" fill=\"red\" r=\"-0.264\" stroke=\"red\" stroke-width=\"0\"/><circle cx=\"105.6\" cy=\"528.0\" fill=\"red\" r=\"-0.264\" stroke=\"red\" stroke-width=\"0\"/><text alignment-baseline=\"middle\" fill=\"white\" font-family=\"Times\" font-size=\"13.2\" text-anchor=\"middle\" x=\"92.4\" y=\"528.825\">-32</text><line stroke=\"red\" stroke-width=\"1.32\" x1=\"79.2\" x2=\"79.2\" y1=\"16.335\" y2=\"544.665\"/><text alignment-baseline=\"middle\" fill=\"black\" font-family=\"Times\" font-size=\"13.2\" text-anchor=\"start\" x=\"110.88\" y=\"545.325\">Nonef</text><rect fill=\"red\" height=\"9.9\" width=\"26.928\" x=\"26.136\" y=\"539.55\"/><circle cx=\"26.4\" cy=\"544.5\" fill=\"red\" r=\"-0.264\" stroke=\"red\" stroke-width=\"0\"/><circle cx=\"52.8\" cy=\"544.5\" fill=\"red\" r=\"-0.264\" stroke=\"red\" stroke-width=\"0\"/><text alignment-baseline=\"middle\" fill=\"white\" font-family=\"Times\" font-size=\"13.2\" text-anchor=\"middle\" x=\"39.6\" y=\"545.325\">-32</text><line stroke=\"red\" stroke-width=\"1.32\" x1=\"79.2\" x2=\"79.2\" y1=\"16.335\" y2=\"561.165\"/><text alignment-baseline=\"middle\" fill=\"black\" font-family=\"Times\" font-size=\"13.2\" text-anchor=\"start\" x=\"110.88\" y=\"561.825\">Nonef</text><rect fill=\"red\" height=\"9.9\" width=\"26.928\" x=\"78.936\" y=\"556.05\"/><circle cx=\"79.2\" cy=\"561.0\" fill=\"red\" r=\"-0.264\" stroke=\"red\" stroke-width=\"0\"/><circle cx=\"105.6\" cy=\"561.0\" fill=\"red\" r=\"-0.264\" stroke=\"red\" stroke-width=\"0\"/><text alignment-baseline=\"middle\" fill=\"white\" font-family=\"Times\" font-size=\"13.2\" text-anchor=\"middle\" x=\"92.4\" y=\"561.825\">-33</text><line stroke=\"red\" stroke-width=\"1.32\" x1=\"79.2\" x2=\"79.2\" y1=\"16.335\" y2=\"577.665\"/><text alignment-baseline=\"middle\" fill=\"black\" font-family=\"Times\" font-size=\"13.2\" text-anchor=\"start\" x=\"110.88\" y=\"578.325\">Nonef</text><rect fill=\"red\" height=\"9.9\" width=\"26.928\" x=\"78.936\" y=\"572.55\"/><circle cx=\"79.2\" cy=\"577.5\" fill=\"red\" r=\"-0.264\" stroke=\"red\" stroke-width=\"0\"/><circle cx=\"105.6\" cy=\"577.5\" fill=\"red\" r=\"-0.264\" stroke=\"red\" stroke-width=\"0\"/><text alignment-baseline=\"middle\" fill=\"white\" font-family=\"Times\" font-size=\"13.2\" text-anchor=\"middle\" x=\"92.4\" y=\"578.325\">-32</text><line stroke=\"red\" stroke-width=\"1.32\" x1=\"79.2\" x2=\"79.2\" y1=\"16.335\" y2=\"594.165\"/><text alignment-baseline=\"middle\" fill=\"black\" font-family=\"Times\" font-size=\"13.2\" text-anchor=\"start\" x=\"110.88\" y=\"594.825\">Nonef</text><rect fill=\"red\" height=\"9.9\" width=\"26.928\" x=\"78.936\" y=\"589.05\"/><circle cx=\"79.2\" cy=\"594.0\" fill=\"red\" r=\"-0.264\" stroke=\"red\" stroke-width=\"0\"/><circle cx=\"105.6\" cy=\"594.0\" fill=\"red\" r=\"-0.264\" stroke=\"red\" stroke-width=\"0\"/><text alignment-baseline=\"middle\" fill=\"white\" font-family=\"Times\" font-size=\"13.2\" text-anchor=\"middle\" x=\"92.4\" y=\"594.825\">-32</text><line stroke=\"red\" stroke-width=\"1.32\" x1=\"79.2\" x2=\"79.2\" y1=\"16.335\" y2=\"610.665\"/><text alignment-baseline=\"middle\" fill=\"black\" font-family=\"Times\" font-size=\"13.2\" text-anchor=\"start\" x=\"110.88\" y=\"611.325\">Nonef</text><rect fill=\"red\" height=\"9.9\" width=\"26.928\" x=\"78.936\" y=\"605.55\"/><circle cx=\"79.2\" cy=\"610.5\" fill=\"red\" r=\"-0.264\" stroke=\"red\" stroke-width=\"0\"/><circle cx=\"105.6\" cy=\"610.5\" fill=\"red\" r=\"-0.264\" stroke=\"red\" stroke-width=\"0\"/><text alignment-baseline=\"middle\" fill=\"white\" font-family=\"Times\" font-size=\"13.2\" text-anchor=\"middle\" x=\"92.4\" y=\"611.325\">-32</text><line stroke=\"red\" stroke-width=\"1.32\" x1=\"79.2\" x2=\"79.2\" y1=\"16.335\" y2=\"627.165\"/><text alignment-baseline=\"middle\" fill=\"black\" font-family=\"Times\" font-size=\"13.2\" text-anchor=\"start\" x=\"110.88\" y=\"627.825\">Nonef</text><rect fill=\"red\" height=\"9.9\" width=\"26.928\" x=\"26.136\" y=\"622.05\"/><circle cx=\"26.4\" cy=\"627.0\" fill=\"red\" r=\"-0.264\" stroke=\"red\" stroke-width=\"0\"/><circle cx=\"52.8\" cy=\"627.0\" fill=\"red\" r=\"-0.264\" stroke=\"red\" stroke-width=\"0\"/><text alignment-baseline=\"middle\" fill=\"white\" font-family=\"Times\" font-size=\"13.2\" text-anchor=\"middle\" x=\"39.6\" y=\"627.825\">-33</text><line stroke=\"red\" stroke-width=\"1.32\" x1=\"79.2\" x2=\"79.2\" y1=\"16.335\" y2=\"643.665\"/><text alignment-baseline=\"middle\" fill=\"black\" font-family=\"Times\" font-size=\"13.2\" text-anchor=\"start\" x=\"110.88\" y=\"644.325\">Nonef</text><rect fill=\"red\" height=\"9.9\" width=\"26.928\" x=\"78.936\" y=\"638.55\"/><circle cx=\"79.2\" cy=\"643.5\" fill=\"red\" r=\"-0.264\" stroke=\"red\" stroke-width=\"0\"/><circle cx=\"105.6\" cy=\"643.5\" fill=\"red\" r=\"-0.264\" stroke=\"red\" stroke-width=\"0\"/><text alignment-baseline=\"middle\" fill=\"white\" font-family=\"Times\" font-size=\"13.2\" text-anchor=\"middle\" x=\"92.4\" y=\"644.325\">-32</text><line stroke=\"red\" stroke-width=\"1.32\" x1=\"79.2\" x2=\"79.2\" y1=\"16.335\" y2=\"660.165\"/><text alignment-baseline=\"middle\" fill=\"black\" font-family=\"Times\" font-size=\"13.2\" text-anchor=\"start\" x=\"110.88\" y=\"660.825\">Nonef</text><rect fill=\"red\" height=\"9.9\" width=\"26.928\" x=\"26.136\" y=\"655.05\"/><circle cx=\"26.4\" cy=\"660.0\" fill=\"red\" r=\"-0.264\" stroke=\"red\" stroke-width=\"0\"/><circle cx=\"52.8\" cy=\"660.0\" fill=\"red\" r=\"-0.264\" stroke=\"red\" stroke-width=\"0\"/><text alignment-baseline=\"middle\" fill=\"white\" font-family=\"Times\" font-size=\"13.2\" text-anchor=\"middle\" x=\"39.6\" y=\"660.825\">-33</text><line stroke=\"red\" stroke-width=\"1.32\" x1=\"79.2\" x2=\"79.2\" y1=\"16.335\" y2=\"676.665\"/><text alignment-baseline=\"middle\" fill=\"black\" font-family=\"Times\" font-size=\"13.2\" text-anchor=\"start\" x=\"110.88\" y=\"677.325\">Nonef</text><rect fill=\"red\" height=\"9.9\" width=\"26.928\" x=\"78.936\" y=\"671.55\"/><circle cx=\"79.2\" cy=\"676.5\" fill=\"red\" r=\"-0.264\" stroke=\"red\" stroke-width=\"0\"/><circle cx=\"105.6\" cy=\"676.5\" fill=\"red\" r=\"-0.264\" stroke=\"red\" stroke-width=\"0\"/><text alignment-baseline=\"middle\" fill=\"white\" font-family=\"Times\" font-size=\"13.2\" text-anchor=\"middle\" x=\"92.4\" y=\"677.325\">-32</text><line stroke=\"red\" stroke-width=\"1.32\" x1=\"79.2\" x2=\"79.2\" y1=\"16.335\" y2=\"693.165\"/><text alignment-baseline=\"middle\" fill=\"black\" font-family=\"Times\" font-size=\"13.2\" text-anchor=\"start\" x=\"110.88\" y=\"693.825\">Nonef</text><rect fill=\"red\" height=\"9.9\" width=\"26.928\" x=\"26.136\" y=\"688.05\"/><circle cx=\"26.4\" cy=\"693.0\" fill=\"red\" r=\"-0.264\" stroke=\"red\" stroke-width=\"0\"/><circle cx=\"52.8\" cy=\"693.0\" fill=\"red\" r=\"-0.264\" stroke=\"red\" stroke-width=\"0\"/><text alignment-baseline=\"middle\" fill=\"white\" font-family=\"Times\" font-size=\"13.2\" text-anchor=\"middle\" x=\"39.6\" y=\"693.825\">-33</text><line stroke=\"red\" stroke-width=\"1.32\" x1=\"79.2\" x2=\"79.2\" y1=\"16.335\" y2=\"709.665\"/><text alignment-baseline=\"middle\" fill=\"black\" font-family=\"Times\" font-size=\"13.2\" text-anchor=\"start\" x=\"110.88\" y=\"710.325\">Nonef</text><rect fill=\"red\" height=\"9.9\" width=\"26.928\" x=\"26.136\" y=\"704.55\"/><circle cx=\"26.4\" cy=\"709.5\" fill=\"red\" r=\"-0.264\" stroke=\"red\" stroke-width=\"0\"/><circle cx=\"52.8\" cy=\"709.5\" fill=\"red\" r=\"-0.264\" stroke=\"red\" stroke-width=\"0\"/><text alignment-baseline=\"middle\" fill=\"white\" font-family=\"Times\" font-size=\"13.2\" text-anchor=\"middle\" x=\"39.6\" y=\"710.325\">-32</text><line stroke=\"red\" stroke-width=\"1.32\" x1=\"79.2\" x2=\"79.2\" y1=\"16.335\" y2=\"726.165\"/><text alignment-baseline=\"middle\" fill=\"black\" font-family=\"Times\" font-size=\"13.2\" text-anchor=\"start\" x=\"110.88\" y=\"726.825\">Nonef</text><rect fill=\"red\" height=\"9.9\" width=\"26.928\" x=\"78.936\" y=\"721.05\"/><circle cx=\"79.2\" cy=\"726.0\" fill=\"red\" r=\"-0.264\" stroke=\"red\" stroke-width=\"0\"/><circle cx=\"105.6\" cy=\"726.0\" fill=\"red\" r=\"-0.264\" stroke=\"red\" stroke-width=\"0\"/><text alignment-baseline=\"middle\" fill=\"white\" font-family=\"Times\" font-size=\"13.2\" text-anchor=\"middle\" x=\"92.4\" y=\"726.825\">-32</text><line stroke=\"red\" stroke-width=\"1.32\" x1=\"79.2\" x2=\"79.2\" y1=\"16.335\" y2=\"742.665\"/><text alignment-baseline=\"middle\" fill=\"black\" font-family=\"Times\" font-size=\"13.2\" text-anchor=\"start\" x=\"110.88\" y=\"743.325\">Nonef</text><rect fill=\"red\" height=\"9.9\" width=\"26.928\" x=\"26.136\" y=\"737.55\"/><circle cx=\"26.4\" cy=\"742.5\" fill=\"red\" r=\"-0.264\" stroke=\"red\" stroke-width=\"0\"/><circle cx=\"52.8\" cy=\"742.5\" fill=\"red\" r=\"-0.264\" stroke=\"red\" stroke-width=\"0\"/><text alignment-baseline=\"middle\" fill=\"white\" font-family=\"Times\" font-size=\"13.2\" text-anchor=\"middle\" x=\"39.6\" y=\"743.325\">-32</text><line stroke=\"red\" stroke-width=\"1.32\" x1=\"79.2\" x2=\"79.2\" y1=\"16.335\" y2=\"759.165\"/><text alignment-baseline=\"middle\" fill=\"black\" font-family=\"Times\" font-size=\"13.2\" text-anchor=\"start\" x=\"110.88\" y=\"759.825\">Nonef</text><rect fill=\"red\" height=\"9.9\" width=\"26.928\" x=\"78.936\" y=\"754.05\"/><circle cx=\"79.2\" cy=\"759.0\" fill=\"red\" r=\"-0.264\" stroke=\"red\" stroke-width=\"0\"/><circle cx=\"105.6\" cy=\"759.0\" fill=\"red\" r=\"-0.264\" stroke=\"red\" stroke-width=\"0\"/><text alignment-baseline=\"middle\" fill=\"white\" font-family=\"Times\" font-size=\"13.2\" text-anchor=\"middle\" x=\"92.4\" y=\"759.825\">-33</text><line stroke=\"red\" stroke-width=\"1.32\" x1=\"79.2\" x2=\"79.2\" y1=\"16.335\" y2=\"775.665\"/><text alignment-baseline=\"middle\" fill=\"black\" font-family=\"Times\" font-size=\"13.2\" text-anchor=\"start\" x=\"110.88\" y=\"776.325\">Nonef</text><rect fill=\"red\" height=\"9.9\" width=\"26.928\" x=\"26.136\" y=\"770.55\"/><circle cx=\"26.4\" cy=\"775.5\" fill=\"red\" r=\"-0.264\" stroke=\"red\" stroke-width=\"0\"/><circle cx=\"52.8\" cy=\"775.5\" fill=\"red\" r=\"-0.264\" stroke=\"red\" stroke-width=\"0\"/><text alignment-baseline=\"middle\" fill=\"white\" font-family=\"Times\" font-size=\"13.2\" text-anchor=\"middle\" x=\"39.6\" y=\"776.325\">-32</text><line stroke=\"red\" stroke-width=\"1.32\" x1=\"79.2\" x2=\"79.2\" y1=\"16.335\" y2=\"792.165\"/><text alignment-baseline=\"middle\" fill=\"black\" font-family=\"Times\" font-size=\"13.2\" text-anchor=\"start\" x=\"110.88\" y=\"792.825\">Nonef</text><rect fill=\"red\" height=\"9.9\" width=\"26.928\" x=\"78.936\" y=\"787.05\"/><circle cx=\"79.2\" cy=\"792.0\" fill=\"red\" r=\"-0.264\" stroke=\"red\" stroke-width=\"0\"/><circle cx=\"105.6\" cy=\"792.0\" fill=\"red\" r=\"-0.264\" stroke=\"red\" stroke-width=\"0\"/><text alignment-baseline=\"middle\" fill=\"white\" font-family=\"Times\" font-size=\"13.2\" text-anchor=\"middle\" x=\"92.4\" y=\"792.825\">-33</text><line stroke=\"red\" stroke-width=\"1.32\" x1=\"79.2\" x2=\"79.2\" y1=\"16.335\" y2=\"808.665\"/><text alignment-baseline=\"middle\" fill=\"black\" font-family=\"Times\" font-size=\"13.2\" text-anchor=\"start\" x=\"110.88\" y=\"809.325\">Nonef</text><rect fill=\"red\" height=\"9.9\" width=\"26.928\" x=\"26.136\" y=\"803.55\"/><circle cx=\"26.4\" cy=\"808.5\" fill=\"red\" r=\"-0.264\" stroke=\"red\" stroke-width=\"0\"/><circle cx=\"52.8\" cy=\"808.5\" fill=\"red\" r=\"-0.264\" stroke=\"red\" stroke-width=\"0\"/><text alignment-baseline=\"middle\" fill=\"white\" font-family=\"Times\" font-size=\"13.2\" text-anchor=\"middle\" x=\"39.6\" y=\"809.325\">-34</text><line stroke=\"red\" stroke-width=\"1.32\" x1=\"79.2\" x2=\"79.2\" y1=\"16.335\" y2=\"825.165\"/><text alignment-baseline=\"middle\" fill=\"black\" font-family=\"Times\" font-size=\"13.2\" text-anchor=\"start\" x=\"110.88\" y=\"825.825\">Nonef</text><rect fill=\"red\" height=\"9.9\" width=\"26.928\" x=\"78.936\" y=\"820.05\"/><circle cx=\"79.2\" cy=\"825.0\" fill=\"red\" r=\"-0.264\" stroke=\"red\" stroke-width=\"0\"/><circle cx=\"105.6\" cy=\"825.0\" fill=\"red\" r=\"-0.264\" stroke=\"red\" stroke-width=\"0\"/><text alignment-baseline=\"middle\" fill=\"white\" font-family=\"Times\" font-size=\"13.2\" text-anchor=\"middle\" x=\"92.4\" y=\"825.825\">-33</text><line stroke=\"red\" stroke-width=\"1.32\" x1=\"79.2\" x2=\"79.2\" y1=\"16.335\" y2=\"841.665\"/><text alignment-baseline=\"middle\" fill=\"black\" font-family=\"Times\" font-size=\"13.2\" text-anchor=\"start\" x=\"110.88\" y=\"842.325\">Nonef</text><rect fill=\"red\" height=\"9.9\" width=\"26.928\" x=\"78.936\" y=\"836.55\"/><circle cx=\"79.2\" cy=\"841.5\" fill=\"red\" r=\"-0.264\" stroke=\"red\" stroke-width=\"0\"/><circle cx=\"105.6\" cy=\"841.5\" fill=\"red\" r=\"-0.264\" stroke=\"red\" stroke-width=\"0\"/><text alignment-baseline=\"middle\" fill=\"white\" font-family=\"Times\" font-size=\"13.2\" text-anchor=\"middle\" x=\"92.4\" y=\"842.325\">-33</text></svg>"
       ],
       "text": [
        "<IPython.core.display.SVG at 0x110f2b410>"
       ]
      }
     ],
     "prompt_number": 45
    },
    {
     "cell_type": "markdown",
     "metadata": {},
     "source": [
      "### Phi/Psi Plots"
     ]
    },
    {
     "cell_type": "code",
     "collapsed": false,
     "input": [
      "# Imports for plotting\n",
      "%matplotlib inline\n",
      "import matplotlib\n",
      "import matplotlib.pyplot as plt\n",
      "import matplotlib.pylab as pylab\n",
      "from matplotlib.legend_handler import HandlerLine2D"
     ],
     "language": "python",
     "metadata": {},
     "outputs": [],
     "prompt_number": 46
    },
    {
     "cell_type": "markdown",
     "metadata": {},
     "source": [
      "Make sure that all phi/psi values have been computed!"
     ]
    },
    {
     "cell_type": "code",
     "collapsed": false,
     "input": [
      "phi(storage.snapshot.all());\n",
      "psi(storage.snapshot.all());"
     ],
     "language": "python",
     "metadata": {},
     "outputs": [],
     "prompt_number": 47
    },
    {
     "cell_type": "code",
     "collapsed": false,
     "input": [
      "plt.figure(figsize=(5, 5))\n",
      "\n",
      "for traj in storage.trajectory.iterator():\n",
      "    phi_angles = degrees * np.array(phi(traj)).flatten()\n",
      "    psi_angles = degrees * np.array(psi(traj)).flatten()\n",
      "    plt.plot(phi_angles, psi_angles, 'ro', linewidth=1);\n",
      "    \n",
      "plt.xlim(-180, 180);\n",
      "plt.ylim(-180, 180);"
     ],
     "language": "python",
     "metadata": {},
     "outputs": [
      {
       "metadata": {},
       "output_type": "display_data",
       "png": "[encoded data removed]",
       "text": [
        "<matplotlib.figure.Figure at 0x1110e3490>"
       ]
      }
     ],
     "prompt_number": 48
    },
    {
     "cell_type": "code",
     "collapsed": false,
     "input": [
      "plt.figure(figsize=(8, 8))\n",
      "\n",
      "traj = storage.trajectory.load(1)\n",
      "phi_angles = degrees * np.array(phi(traj)).flatten()\n",
      "psi_angles = degrees * np.array(psi(traj)).flatten()\n",
      "plt.plot(phi_angles, psi_angles, 'k-', linewidth=1);\n",
      "\n",
      "for snapshot in storage.snapshot.iterator():\n",
      "    phi_angles = degrees * np.array(phi(snapshot)).flatten()\n",
      "    psi_angles = degrees * np.array(psi(snapshot)).flatten()\n",
      "    if op_notinAorB(snapshot):\n",
      "        plt.plot(phi_angles, psi_angles, 'ro', linewidth=1);\n",
      "    else:\n",
      "        plt.plot(phi_angles, psi_angles, 'bo', linewidth=1);\n",
      "        \n",
      "plt.xlim(-180, 180);\n",
      "plt.ylim(-180, 180);"
     ],
     "language": "python",
     "metadata": {},
     "outputs": [
      {
       "metadata": {},
       "output_type": "display_data",
       "png": "[encoded data removed]",
       "text": [
        "<matplotlib.figure.Figure at 0x1100c6390>"
       ]
      }
     ],
     "prompt_number": 50
    },
    {
     "cell_type": "code",
     "collapsed": false,
     "input": [
      "plt.figure(figsize=(8, 8))\n",
      "\n",
      "traj = storage.sample.load(10).trajectory\n",
      "phi_angles = degrees * np.array(phi(traj)).flatten()\n",
      "psi_angles = degrees * np.array(psi(traj)).flatten()\n",
      "plt.plot(phi_angles, psi_angles, 'k-', linewidth=1);\n",
      "\n",
      "\n",
      "#for snapshot in simulator.storage.snapshot.iterator():\n",
      "for snapshot in traj:\n",
      "    phi_angles = degrees * np.array(phi(snapshot)).flatten()\n",
      "    psi_angles = degrees * np.array(psi(snapshot)).flatten()\n",
      "    if op_notinAorB(snapshot):\n",
      "        plt.plot(phi_angles, psi_angles, 'ro', linewidth=1);\n",
      "    else:\n",
      "        plt.plot(phi_angles, psi_angles, 'bo', linewidth=1);\n",
      "        \n",
      "plt.xlim(-180, 180);\n",
      "plt.ylim(-180, 180);"
     ],
     "language": "python",
     "metadata": {},
     "outputs": [
      {
       "metadata": {},
       "output_type": "display_data",
       "png": "[encoded data removed]",
       "text": [
        "<matplotlib.figure.Figure at 0x1110e3410>"
       ]
      }
     ],
     "prompt_number": 49
    },
    {
     "cell_type": "code",
     "collapsed": false,
     "input": [],
     "language": "python",
     "metadata": {},
     "outputs": []
    }
   ],
   "metadata": {}
  }
 ]
}
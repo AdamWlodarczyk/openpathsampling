{
 "metadata": {
  "name": "",
  "signature": "sha256:00d3d836aed4e94e05f37eb4b01693de63a128e1100ca6a6da378ba93ed4d8ef"
 },
 "nbformat": 3,
 "nbformat_minor": 0,
 "worksheets": [
  {
   "cells": [
    {
     "cell_type": "markdown",
     "metadata": {},
     "source": [
      "# OPENTIS\n",
      "## An Example with Alanine"
     ]
    },
    {
     "cell_type": "markdown",
     "metadata": {},
     "source": [
      "Import Modules"
     ]
    },
    {
     "cell_type": "code",
     "collapsed": false,
     "input": [
      "import numpy as np\n",
      "import mdtraj as md\n",
      "import pandas as pd\n",
      "import time\n",
      "import sys, os\n",
      " \n",
      "# in principle, all of these imports should be simplified once this is a package\n",
      "from opentis.orderparameter import OP_Function, OP_Volume\n",
      "from opentis.snapshot import Snapshot\n",
      "from opentis.volume import LambdaVolumePeriodic, VolumeFactory as vf\n",
      "from opentis.pathmover import PathMoverFactory as mf\n",
      "from opentis.ensemble import EnsembleFactory as ef\n",
      "from opentis.ensemble import (LengthEnsemble, SequentialEnsemble, OutXEnsemble,\n",
      "                      InXEnsemble, HitXEnsemble, LeaveXEnsemble)\n",
      "from opentis.storage import Storage\n",
      "from opentis.trajectory import Trajectory\n",
      "from opentis.calculation import Bootstrapping\n",
      "from opentis.pathmover import PathMover\n",
      "from opentis.shooting import UniformSelector\n",
      "import simtk.unit as u\n",
      "\n",
      "from opentis.openmm_engine import OpenMMEngine\n",
      "\n",
      "from opentis.storage import Storage\n",
      "from opentis.visualize import PathTreeBuilder\n",
      "from IPython.display import SVG"
     ],
     "language": "python",
     "metadata": {},
     "outputs": [],
     "prompt_number": 1
    },
    {
     "cell_type": "markdown",
     "metadata": {},
     "source": [
      "Radians to Degree conversion"
     ]
    },
    {
     "cell_type": "code",
     "collapsed": false,
     "input": [
      "degrees = 180/3.14159 # psi reports in radians; I think in degrees"
     ],
     "language": "python",
     "metadata": {},
     "outputs": [],
     "prompt_number": 2
    },
    {
     "cell_type": "markdown",
     "metadata": {},
     "source": [
      "Create an AlanineOpenMMSimulator for demonstration purposes"
     ]
    },
    {
     "cell_type": "markdown",
     "metadata": {},
     "source": [
      "### Set simulation options and create a simulator object"
     ]
    },
    {
     "cell_type": "code",
     "collapsed": false,
     "input": [
      "options = {\n",
      "            'temperature' : 300.0 * u.kelvin,\n",
      "            'collision_rate' : 1.0 / u.picoseconds,\n",
      "            'timestep' : 2.0 * u.femtoseconds,\n",
      "            'nsteps_per_frame' : 10,\n",
      "            'n_frames_max' : 5000,\n",
      "            'start_time' : time.time(),\n",
      "            'fn_initial_pdb' : \"../data/Alanine_solvated.pdb\",\n",
      "            'platform' : 'fastest',\n",
      "            'solute_indices' : range(22),\n",
      "            'forcefield_solute' : 'amber96.xml',\n",
      "            'forcefield_solvent' : 'tip3p.xml'\n",
      "           }"
     ],
     "language": "python",
     "metadata": {},
     "outputs": [],
     "prompt_number": 3
    },
    {
     "cell_type": "code",
     "collapsed": false,
     "input": [
      "engine = OpenMMEngine.auto(\n",
      "                filename=\"trajectory.nc\",\n",
      "                template=\"../data/Alanine_solvated.pdb\",\n",
      "                options=options,\n",
      "                mode='create'\n",
      "                )"
     ],
     "language": "python",
     "metadata": {},
     "outputs": [],
     "prompt_number": 4
    },
    {
     "cell_type": "markdown",
     "metadata": {},
     "source": [
      "And save the storage in a separate variable for convenience"
     ]
    },
    {
     "cell_type": "code",
     "collapsed": false,
     "input": [
      "storage = engine.storage\n",
      "PathMover.engine = engine"
     ],
     "language": "python",
     "metadata": {},
     "outputs": [],
     "prompt_number": 5
    },
    {
     "cell_type": "markdown",
     "metadata": {},
     "source": [
      "Equilibrate"
     ]
    },
    {
     "cell_type": "code",
     "collapsed": false,
     "input": [
      "engine.current_snapshot = engine.template\n",
      "engine.equilibrate(5)\n",
      "engine.initialized = True"
     ],
     "language": "python",
     "metadata": {},
     "outputs": [],
     "prompt_number": 6
    },
    {
     "cell_type": "markdown",
     "metadata": {},
     "source": [
      "Save equilibrated snapshot with index 0"
     ]
    },
    {
     "cell_type": "code",
     "collapsed": false,
     "input": [
      "storage.save(engine.current_snapshot, 0);"
     ],
     "language": "python",
     "metadata": {},
     "outputs": [],
     "prompt_number": 7
    },
    {
     "cell_type": "markdown",
     "metadata": {},
     "source": [
      "### Order Parameters"
     ]
    },
    {
     "cell_type": "markdown",
     "metadata": {},
     "source": [
      "this generates an order parameter (callable) object named psi (so if we call `psi(trajectory)` we get a list of the values of psi for each frame in the trajectory). This particular order parameter uses mdtraj's compute_dihedrals function, with the atoms in psi_atoms"
     ]
    },
    {
     "cell_type": "code",
     "collapsed": false,
     "input": [
      "psi_atoms = [6,8,14,16]\n",
      "psi = OP_Function(\"psi\", md.compute_dihedrals, trajdatafmt=\"mdtraj\",\n",
      "                  indices=[psi_atoms])\n",
      "\n",
      "phi_atoms = [4,6,8,14]\n",
      "phi = OP_Function(\"phi\", md.compute_dihedrals, trajdatafmt=\"mdtraj\",\n",
      "                  indices=[phi_atoms])\n",
      "\n",
      "storage.save([psi, phi]);"
     ],
     "language": "python",
     "metadata": {},
     "outputs": [],
     "prompt_number": 8
    },
    {
     "cell_type": "markdown",
     "metadata": {},
     "source": [
      "### Volumes"
     ]
    },
    {
     "cell_type": "markdown",
     "metadata": {},
     "source": [
      "This creates two states using a one-dimensional order parameter (called _Lambda_ in TIS terminology). A snapshot is in the State as long as the order parameter is with specific bounds. "
     ]
    },
    {
     "cell_type": "code",
     "collapsed": false,
     "input": [
      "stateA = LambdaVolumePeriodic(\n",
      "    orderparameter=psi, \n",
      "    lambda_min=-120.0/degrees, \n",
      "    lambda_max=-30.0/degrees, \n",
      "    period_min=-180.0/degrees, \n",
      "    period_max=+180.0/degrees\n",
      ")\n",
      "stateB = LambdaVolumePeriodic(psi, 100/degrees, 180/degrees, -180.0/degrees, +180.0/degrees)"
     ],
     "language": "python",
     "metadata": {},
     "outputs": [],
     "prompt_number": 9
    },
    {
     "cell_type": "markdown",
     "metadata": {},
     "source": [
      "Now do the same for a set of lambda ranges to produce nested volumes."
     ]
    },
    {
     "cell_type": "code",
     "collapsed": false,
     "input": [
      "minima = map((1.0 / degrees).__mul__,\n",
      "             [-125, -135, -140, -142.5, -145.0, -147.0, -150.0])\n",
      "\n",
      "maxima = map((1.0 / degrees).__mul__,\n",
      "             [-25.0, -21.0, -18.5, -17.0, -15.0, -10.0, 0.0])\n",
      "\n",
      "volume_set = vf.LambdaVolumePeriodicSet(psi, minima, maxima, -180.0/degrees, +180.0/degrees)"
     ],
     "language": "python",
     "metadata": {},
     "outputs": [],
     "prompt_number": 10
    },
    {
     "cell_type": "markdown",
     "metadata": {},
     "source": [
      "### Ensembles"
     ]
    },
    {
     "cell_type": "markdown",
     "metadata": {},
     "source": [
      "Now do this automatically for all ensembles"
     ]
    },
    {
     "cell_type": "code",
     "collapsed": false,
     "input": [
      "interface0 = volume_set[0]\n",
      "interface_set = ef.TISEnsembleSet(stateA, stateA | stateB, volume_set)\n",
      "for no, interface in enumerate(interface_set):\n",
      "    # Give each interface a name\n",
      "    interface.name = 'Interface '+str(no)\n",
      "    # And save all of these\n",
      "    storage.ensemble.save(interface)"
     ],
     "language": "python",
     "metadata": {},
     "outputs": [],
     "prompt_number": 11
    },
    {
     "cell_type": "markdown",
     "metadata": {},
     "source": [
      "And create a special ensemble, that will create a first trajectory in the innermost TIS ensemble independent from where we start"
     ]
    },
    {
     "cell_type": "markdown",
     "metadata": {},
     "source": [
      "The idea is to describe a trajectory type by a sequence of positions. First can be outside of stateA or not, then be inside stateA, etc..."
     ]
    },
    {
     "cell_type": "code",
     "collapsed": false,
     "input": [
      "    first_traj_ensemble = SequentialEnsemble([\n",
      "        OutXEnsemble(stateA) | LengthEnsemble(0),\n",
      "        InXEnsemble(stateA),\n",
      "        (OutXEnsemble(stateA) & InXEnsemble(interface0)) | LengthEnsemble(0),\n",
      "        InXEnsemble(interface0) | LengthEnsemble(0),\n",
      "        OutXEnsemble(interface0),\n",
      "        OutXEnsemble(stateA) | LengthEnsemble(0),\n",
      "        InXEnsemble(stateA) & LengthEnsemble(1)\n",
      "    ])"
     ],
     "language": "python",
     "metadata": {},
     "outputs": [],
     "prompt_number": 12
    },
    {
     "cell_type": "markdown",
     "metadata": {},
     "source": [
      "### start path generation"
     ]
    },
    {
     "cell_type": "markdown",
     "metadata": {},
     "source": [
      "so lets try and see if we can generate a first path"
     ]
    },
    {
     "cell_type": "markdown",
     "metadata": {},
     "source": [
      "load the initial snapshot (although we still have it) and generate using the Alanine simulator. The second option specifies a function : trajectory -> bool that keeps the simulation running as long as it is true. Our goal was to generate a path that belongs to a specific ensemble, so we use `forward` to determine if it makes sense to keep running or if the result cannot belong to the ensemble anymore."
     ]
    },
    {
     "cell_type": "code",
     "collapsed": false,
     "input": [
      "snapshot = storage.load(Snapshot, 0)\n",
      "total_path = engine.generate(\n",
      "    snapshot= snapshot, \n",
      "    running = [first_traj_ensemble.can_append]\n",
      ")"
     ],
     "language": "python",
     "metadata": {},
     "outputs": [],
     "prompt_number": 13
    },
    {
     "cell_type": "markdown",
     "metadata": {},
     "source": [
      "Show the length"
     ]
    },
    {
     "cell_type": "code",
     "collapsed": false,
     "input": [
      "print \"Total trajectory length: \", len(total_path)"
     ],
     "language": "python",
     "metadata": {},
     "outputs": [
      {
       "output_type": "stream",
       "stream": "stdout",
       "text": [
        "Total trajectory length:  99\n"
       ]
      }
     ],
     "prompt_number": 14
    },
    {
     "cell_type": "markdown",
     "metadata": {},
     "source": [
      "And save the trajetory completely"
     ]
    },
    {
     "cell_type": "code",
     "collapsed": false,
     "input": [
      "storage.save(total_path);"
     ],
     "language": "python",
     "metadata": {},
     "outputs": [],
     "prompt_number": 15
    },
    {
     "cell_type": "markdown",
     "metadata": {},
     "source": [
      "Split the trajectory into parts that belong to the TIS ensemble (not the one we generated)"
     ]
    },
    {
     "cell_type": "code",
     "collapsed": false,
     "input": [
      "interface0_ensemble = interface_set[0]\n",
      "segments = interface0_ensemble.split(total_path)\n",
      "\n",
      "print \"Traj in first_traj_ensemble? (should be)\", \n",
      "print first_traj_ensemble(total_path)\n",
      "\n",
      "print \"Traj in TIS ensemble? (probably not)\", \n",
      "print interface0_ensemble(total_path)\n",
      "\n",
      "\n",
      "print \"Number of segments in TIS ensemble: \", len(segments)\n",
      "if len(segments):\n",
      "    print \"Length of each segment:\"\n",
      "    for i in range(len(segments)):\n",
      "        print \"  seg[{0}]: {1}\".format(i, len(segments[i]))"
     ],
     "language": "python",
     "metadata": {},
     "outputs": [
      {
       "output_type": "stream",
       "stream": "stdout",
       "text": [
        "Traj in first_traj_ensemble? (should be) True\n",
        "Traj in TIS ensemble? (probably not) False\n",
        "Number of segments in TIS ensemble:  1\n",
        "Length of each segment:\n",
        "  seg[0]: 6\n"
       ]
      }
     ],
     "prompt_number": 16
    },
    {
     "cell_type": "markdown",
     "metadata": {},
     "source": [
      "Show some results and check if this worked"
     ]
    },
    {
     "cell_type": "code",
     "collapsed": false,
     "input": [
      "data = []\n",
      "for frame in total_path:\n",
      "    data.append((phi(frame)[0]*degrees, psi(frame)[0]*degrees, stateA(frame), interface0(frame), stateB(frame), first_traj_ensemble.can_append(total_path[slice(0,total_path.index(frame)+1)])))\n",
      "    \n",
      "dataframe = pd.DataFrame(data, columns=['phi', 'psi', 'stateA', 'interface0', 'stateB', 'appendable'])\n",
      "dataframe[[0,1,2,3,4,5]].ix[[0,1,2,len(dataframe)-3,len(dataframe)-2,len(dataframe)-1]]"
     ],
     "language": "python",
     "metadata": {},
     "outputs": [
      {
       "html": [
        "<div style=\"max-height:1000px;max-width:1500px;overflow:auto;\">\n",
        "<table border=\"1\" class=\"dataframe\">\n",
        "  <thead>\n",
        "    <tr style=\"text-align: right;\">\n",
        "      <th></th>\n",
        "      <th>phi</th>\n",
        "      <th>psi</th>\n",
        "      <th>stateA</th>\n",
        "      <th>interface0</th>\n",
        "      <th>stateB</th>\n",
        "      <th>appendable</th>\n",
        "    </tr>\n",
        "  </thead>\n",
        "  <tbody>\n",
        "    <tr>\n",
        "      <th>0 </th>\n",
        "      <td> -82.142171</td>\n",
        "      <td>-10.221113</td>\n",
        "      <td> [False]</td>\n",
        "      <td> [False]</td>\n",
        "      <td> [False]</td>\n",
        "      <td>  True</td>\n",
        "    </tr>\n",
        "    <tr>\n",
        "      <th>1 </th>\n",
        "      <td> -82.522484</td>\n",
        "      <td>-11.404670</td>\n",
        "      <td> [False]</td>\n",
        "      <td> [False]</td>\n",
        "      <td> [False]</td>\n",
        "      <td>  True</td>\n",
        "    </tr>\n",
        "    <tr>\n",
        "      <th>2 </th>\n",
        "      <td> -78.682043</td>\n",
        "      <td>-13.424599</td>\n",
        "      <td> [False]</td>\n",
        "      <td> [False]</td>\n",
        "      <td> [False]</td>\n",
        "      <td>  True</td>\n",
        "    </tr>\n",
        "    <tr>\n",
        "      <th>96</th>\n",
        "      <td> -93.568937</td>\n",
        "      <td>-27.237159</td>\n",
        "      <td> [False]</td>\n",
        "      <td>  [True]</td>\n",
        "      <td> [False]</td>\n",
        "      <td>  True</td>\n",
        "    </tr>\n",
        "    <tr>\n",
        "      <th>97</th>\n",
        "      <td> -96.075373</td>\n",
        "      <td>-21.732261</td>\n",
        "      <td> [False]</td>\n",
        "      <td> [False]</td>\n",
        "      <td> [False]</td>\n",
        "      <td>  True</td>\n",
        "    </tr>\n",
        "    <tr>\n",
        "      <th>98</th>\n",
        "      <td>-101.347840</td>\n",
        "      <td>-37.324044</td>\n",
        "      <td>  [True]</td>\n",
        "      <td>  [True]</td>\n",
        "      <td> [False]</td>\n",
        "      <td> False</td>\n",
        "    </tr>\n",
        "  </tbody>\n",
        "</table>\n",
        "</div>"
       ],
       "metadata": {},
       "output_type": "pyout",
       "prompt_number": 17,
       "text": [
        "           phi        psi   stateA interface0   stateB appendable\n",
        "0   -82.142171 -10.221113  [False]    [False]  [False]       True\n",
        "1   -82.522484 -11.404670  [False]    [False]  [False]       True\n",
        "2   -78.682043 -13.424599  [False]    [False]  [False]       True\n",
        "96  -93.568937 -27.237159  [False]     [True]  [False]       True\n",
        "97  -96.075373 -21.732261  [False]    [False]  [False]       True\n",
        "98 -101.347840 -37.324044   [True]     [True]  [False]      False"
       ]
      }
     ],
     "prompt_number": 17
    },
    {
     "cell_type": "code",
     "collapsed": false,
     "input": [
      "print \"Do our segments satisfy the ensemble?\",\n",
      "for seg in segments:\n",
      "    print interface0_ensemble(seg),"
     ],
     "language": "python",
     "metadata": {},
     "outputs": [
      {
       "output_type": "stream",
       "stream": "stdout",
       "text": [
        "Do our segments satisfy the ensemble? True\n"
       ]
      }
     ],
     "prompt_number": 18
    },
    {
     "cell_type": "code",
     "collapsed": false,
     "input": [
      "data = []\n",
      "for frame in segments[0]:\n",
      "    data.append((phi(frame)[0]*degrees, psi(frame)[0]*degrees, stateA(frame), interface0(frame), stateB(frame), first_traj_ensemble.can_append(total_path[slice(0,total_path.index(frame)+1)])))\n",
      "    \n",
      "dataframe = pd.DataFrame(data, columns=['phi', 'psi', 'stateA', 'interface0', 'stateB', 'appendable'])\n",
      "dataframe[[0,1,2,3,4,5]]"
     ],
     "language": "python",
     "metadata": {},
     "outputs": [
      {
       "html": [
        "<div style=\"max-height:1000px;max-width:1500px;overflow:auto;\">\n",
        "<table border=\"1\" class=\"dataframe\">\n",
        "  <thead>\n",
        "    <tr style=\"text-align: right;\">\n",
        "      <th></th>\n",
        "      <th>phi</th>\n",
        "      <th>psi</th>\n",
        "      <th>stateA</th>\n",
        "      <th>interface0</th>\n",
        "      <th>stateB</th>\n",
        "      <th>appendable</th>\n",
        "    </tr>\n",
        "  </thead>\n",
        "  <tbody>\n",
        "    <tr>\n",
        "      <th>0</th>\n",
        "      <td> -74.410664</td>\n",
        "      <td>-30.674364</td>\n",
        "      <td>  [True]</td>\n",
        "      <td>  [True]</td>\n",
        "      <td> [False]</td>\n",
        "      <td>  True</td>\n",
        "    </tr>\n",
        "    <tr>\n",
        "      <th>1</th>\n",
        "      <td> -81.862987</td>\n",
        "      <td>-28.500320</td>\n",
        "      <td> [False]</td>\n",
        "      <td>  [True]</td>\n",
        "      <td> [False]</td>\n",
        "      <td>  True</td>\n",
        "    </tr>\n",
        "    <tr>\n",
        "      <th>2</th>\n",
        "      <td> -84.949156</td>\n",
        "      <td>-29.731002</td>\n",
        "      <td> [False]</td>\n",
        "      <td>  [True]</td>\n",
        "      <td> [False]</td>\n",
        "      <td>  True</td>\n",
        "    </tr>\n",
        "    <tr>\n",
        "      <th>3</th>\n",
        "      <td> -93.568937</td>\n",
        "      <td>-27.237159</td>\n",
        "      <td> [False]</td>\n",
        "      <td>  [True]</td>\n",
        "      <td> [False]</td>\n",
        "      <td>  True</td>\n",
        "    </tr>\n",
        "    <tr>\n",
        "      <th>4</th>\n",
        "      <td> -96.075373</td>\n",
        "      <td>-21.732261</td>\n",
        "      <td> [False]</td>\n",
        "      <td> [False]</td>\n",
        "      <td> [False]</td>\n",
        "      <td>  True</td>\n",
        "    </tr>\n",
        "    <tr>\n",
        "      <th>5</th>\n",
        "      <td>-101.347840</td>\n",
        "      <td>-37.324044</td>\n",
        "      <td>  [True]</td>\n",
        "      <td>  [True]</td>\n",
        "      <td> [False]</td>\n",
        "      <td> False</td>\n",
        "    </tr>\n",
        "  </tbody>\n",
        "</table>\n",
        "</div>"
       ],
       "metadata": {},
       "output_type": "pyout",
       "prompt_number": 19,
       "text": [
        "          phi        psi   stateA interface0   stateB appendable\n",
        "0  -74.410664 -30.674364   [True]     [True]  [False]       True\n",
        "1  -81.862987 -28.500320  [False]     [True]  [False]       True\n",
        "2  -84.949156 -29.731002  [False]     [True]  [False]       True\n",
        "3  -93.568937 -27.237159  [False]     [True]  [False]       True\n",
        "4  -96.075373 -21.732261  [False]    [False]  [False]       True\n",
        "5 -101.347840 -37.324044   [True]     [True]  [False]      False"
       ]
      }
     ],
     "prompt_number": 19
    },
    {
     "cell_type": "markdown",
     "metadata": {},
     "source": [
      "### Bootstrapping"
     ]
    },
    {
     "cell_type": "markdown",
     "metadata": {},
     "source": [
      "Run a bootstrapping (not TIS) simulation that shoots from an ensemble until the next interface is reached then switch to the next ensemble to drive the system out of stateA"
     ]
    },
    {
     "cell_type": "code",
     "collapsed": false,
     "input": [
      "mover_set = mf.OneWayShootingSet(UniformSelector(), interface_set)"
     ],
     "language": "python",
     "metadata": {},
     "outputs": [],
     "prompt_number": 20
    },
    {
     "cell_type": "code",
     "collapsed": false,
     "input": [
      "bootstrap = Bootstrapping(storage=storage,\n",
      "                          engine=engine,\n",
      "                          ensembles=interface_set,\n",
      "                          movers=mover_set,\n",
      "                          trajectory=segments[0])"
     ],
     "language": "python",
     "metadata": {},
     "outputs": [],
     "prompt_number": 21
    },
    {
     "cell_type": "markdown",
     "metadata": {},
     "source": [
      "Run Bootstrapping with at most 50 attempts per ensemble"
     ]
    },
    {
     "cell_type": "code",
     "collapsed": false,
     "input": [
      "bootstrap.run(50)"
     ],
     "language": "python",
     "metadata": {},
     "outputs": [
      {
       "output_type": "stream",
       "stream": "stdout",
       "text": [
        "0 Ensemble: 0   failsteps= 0\n",
        "Shooting backward from frame 2"
       ]
      },
      {
       "output_type": "stream",
       "stream": "stdout",
       "text": [
        "\n",
        "Proposal probability"
       ]
      },
      {
       "output_type": "stream",
       "stream": "stdout",
       "text": [
        " 1.0 / random : 0.735198042956\n",
        "1"
       ]
      },
      {
       "output_type": "stream",
       "stream": "stdout",
       "text": [
        " Ensemble: 0   failsteps= 1\n",
        "Shooting backward from frame 2\n",
        "Proposal probability"
       ]
      },
      {
       "output_type": "stream",
       "stream": "stdout",
       "text": [
        " 0.8 / random : 0.713252781726\n",
        "2 Ensemble: 0   failsteps= 2\n",
        "Shooting forward from frame 3\n",
        "Proposal probability"
       ]
      },
      {
       "output_type": "stream",
       "stream": "stdout",
       "text": [
        " 1.25 / random : 0.890015932707\n",
        "3 Ensemble: 0   failsteps= 3\n",
        "Shooting backward from frame 2\n",
        "4"
       ]
      },
      {
       "output_type": "stream",
       "stream": "stdout",
       "text": [
        " Ensemble: 0   failsteps= 4\n",
        "Shooting forward from frame 3\n",
        "Proposal probability"
       ]
      },
      {
       "output_type": "stream",
       "stream": "stdout",
       "text": [
        " 1.0 / random : 0.255799385074\n",
        "5 Ensemble: 0   failsteps= 5\n",
        "Shooting backward from frame 4\n",
        "6"
       ]
      },
      {
       "output_type": "stream",
       "stream": "stdout",
       "text": [
        " Ensemble: 0   failsteps= 6\n",
        "Shooting forward from frame 3\n",
        "Proposal probability"
       ]
      },
      {
       "output_type": "stream",
       "stream": "stdout",
       "text": [
        " 0.8 / random : 0.836696693438\n",
        "7 Ensemble: 0   failsteps= 7\n",
        "Shooting forward from frame 3\n",
        "Proposal probability"
       ]
      },
      {
       "output_type": "stream",
       "stream": "stdout",
       "text": [
        " 1.0 / random : 0.779244809637\n",
        "8 Ensemble: 0   failsteps= 8\n",
        "Shooting forward from frame 3\n",
        "Proposal probability"
       ]
      },
      {
       "output_type": "stream",
       "stream": "stdout",
       "text": [
        " 0.8 / random : 0.974815489355\n",
        "9 Ensemble: 0   failsteps= 9\n",
        "Shooting backward from frame 4\n",
        "Proposal probability"
       ]
      },
      {
       "output_type": "stream",
       "stream": "stdout",
       "text": [
        " 1.0 / random : 0.223765519865\n",
        "10 Ensemble: 1   failsteps= 0\n",
        "Shooting backward from frame 4\n",
        "11"
       ]
      },
      {
       "output_type": "stream",
       "stream": "stdout",
       "text": [
        " Ensemble: 1   failsteps= 1\n",
        "Shooting forward from frame 2\n",
        "Proposal probability"
       ]
      },
      {
       "output_type": "stream",
       "stream": "stdout",
       "text": [
        " 1.33333333333 / random : 0.47843437784\n",
        "12 Ensemble: 1   failsteps= 2\n",
        "Shooting forward from frame 3\n",
        "Proposal probability"
       ]
      },
      {
       "output_type": "stream",
       "stream": "stdout",
       "text": [
        " 1.0 / random : 0.791241305157\n",
        "13 Ensemble: 1   failsteps= 3\n",
        "Shooting forward from frame 3\n",
        "Proposal probability"
       ]
      },
      {
       "output_type": "stream",
       "stream": "stdout",
       "text": [
        " 1.0 / random : 0.702686924016\n",
        "14 Ensemble: 1   failsteps= 4\n",
        "Shooting forward from frame 2\n",
        "Proposal probability"
       ]
      },
      {
       "output_type": "stream",
       "stream": "stdout",
       "text": [
        " 1.0 / random : 0.483996270749\n",
        "15 Ensemble: 1   failsteps= 5\n",
        "Shooting backward from frame 2\n",
        "Proposal probability"
       ]
      },
      {
       "output_type": "stream",
       "stream": "stdout",
       "text": [
        " 1.5 / random : 0.955594248412\n",
        "16 Ensemble: 1   failsteps= 6\n",
        "Shooting forward from frame 1\n",
        "17"
       ]
      },
      {
       "output_type": "stream",
       "stream": "stdout",
       "text": [
        " Ensemble: 1   failsteps= 7\n",
        "Shooting forward from frame 2\n",
        "Proposal probability"
       ]
      },
      {
       "output_type": "stream",
       "stream": "stdout",
       "text": [
        " 1.0 / random : 0.0697153153727\n",
        "18 Ensemble: 1   failsteps= 8\n",
        "Shooting forward from frame 2\n",
        "Proposal probability"
       ]
      },
      {
       "output_type": "stream",
       "stream": "stdout",
       "text": [
        " 1.0 / random : 0.247621486279\n",
        "19 Ensemble: 1   failsteps= 9\n",
        "Shooting backward from frame 2\n",
        "Proposal probability"
       ]
      },
      {
       "output_type": "stream",
       "stream": "stdout",
       "text": [
        " 0.25 / random : 0.0170850510894\n",
        "20 Ensemble: 1   failsteps= 10\n",
        "Shooting backward from frame 2\n",
        "Proposal probability"
       ]
      },
      {
       "output_type": "stream",
       "stream": "stdout",
       "text": [
        " 0.615384615385 / random : 0.689430418314\n",
        "21 Ensemble: 1   failsteps= 11\n",
        "Shooting backward from frame 1\n",
        "Proposal probability"
       ]
      },
      {
       "output_type": "stream",
       "stream": "stdout",
       "text": [
        " 1.0 / random : 0.236626654106\n",
        "22 Ensemble: 1   failsteps= 12\n",
        "Shooting backward from frame 2\n",
        "Proposal probability"
       ]
      },
      {
       "output_type": "stream",
       "stream": "stdout",
       "text": [
        " 0.615384615385 / random : 0.446978053849\n",
        "23 Ensemble: 1   failsteps= 13\n",
        "Shooting forward from frame 13\n",
        "Proposal probability"
       ]
      },
      {
       "output_type": "stream",
       "stream": "stdout",
       "text": [
        " 0.764705882353 / random : 0.300563514712\n",
        "24 Ensemble: 1   failsteps= 14\n",
        "Shooting backward from frame 10\n",
        "Proposal probability"
       ]
      },
      {
       "output_type": "stream",
       "stream": "stdout",
       "text": [
        " 1.7 / random : 0.479858639761\n",
        "25 Ensemble: 1   failsteps= 15\n",
        "Shooting forward from frame 10\n",
        "Proposal probability"
       ]
      },
      {
       "output_type": "stream",
       "stream": "stdout",
       "text": [
        " 1.0 / random : 0.721132101653\n",
        "26 Ensemble: 1   failsteps= 16\n",
        "Shooting backward from frame 2\n",
        "Proposal probability"
       ]
      },
      {
       "output_type": "stream",
       "stream": "stdout",
       "text": [
        " 0.769230769231 / random : 0.523751205424\n",
        "27 Ensemble: 1   failsteps= 17\n",
        "Shooting forward from frame 6\n",
        "28"
       ]
      },
      {
       "output_type": "stream",
       "stream": "stdout",
       "text": [
        " Ensemble: 1   failsteps= 18\n",
        "Shooting forward from frame 8\n",
        "29"
       ]
      },
      {
       "output_type": "stream",
       "stream": "stdout",
       "text": [
        " Ensemble: 1   failsteps= 19\n",
        "Shooting forward from frame 1\n",
        "Proposal probability"
       ]
      },
      {
       "output_type": "stream",
       "stream": "stdout",
       "text": [
        " 0.928571428571 / random : 0.00843653260182\n",
        "30 Ensemble: 2   failsteps= 0\n",
        "Shooting backward from frame 12\n",
        "31"
       ]
      },
      {
       "output_type": "stream",
       "stream": "stdout",
       "text": [
        " Ensemble: 2   failsteps= 1\n",
        "Shooting forward from frame 14\n",
        "Proposal probability"
       ]
      },
      {
       "output_type": "stream",
       "stream": "stdout",
       "text": [
        " 1.0 / random : 0.841512896459\n",
        "32 Ensemble: 2   failsteps= 2\n",
        "Shooting forward from frame 12\n",
        "Proposal probability"
       ]
      },
      {
       "output_type": "stream",
       "stream": "stdout",
       "text": [
        " 1.0 / random : 0.989799762472\n",
        "33 Ensemble: 2   failsteps= 3\n",
        "Shooting forward from frame 9\n",
        "Proposal probability"
       ]
      },
      {
       "output_type": "stream",
       "stream": "stdout",
       "text": [
        " 1.16666666667 / random : 0.276579052654\n",
        "34 Ensemble: 2   failsteps= 4\n",
        "Shooting backward from frame 8\n",
        "35"
       ]
      },
      {
       "output_type": "stream",
       "stream": "stdout",
       "text": [
        " Ensemble: 2   failsteps= 5\n",
        "Shooting forward from frame 6\n",
        "Proposal probability"
       ]
      },
      {
       "output_type": "stream",
       "stream": "stdout",
       "text": [
        " 1.0 / random : 0.872465279792\n",
        "36 Ensemble: 2   failsteps= 6\n",
        "Shooting forward from frame 11\n",
        "Proposal probability"
       ]
      },
      {
       "output_type": "stream",
       "stream": "stdout",
       "text": [
        " 1.0 / random : 0.856412199946\n",
        "37 Ensemble: 2   failsteps= 7\n",
        "Shooting backward from frame 2\n",
        "Proposal probability"
       ]
      },
      {
       "output_type": "stream",
       "stream": "stdout",
       "text": [
        " 1.0 / random : 0.62560852308\n",
        "38 Ensemble: 2   failsteps= 8\n",
        "Shooting backward from frame 7\n",
        "39"
       ]
      },
      {
       "output_type": "stream",
       "stream": "stdout",
       "text": [
        " Ensemble: 2   failsteps= 9\n",
        "Shooting forward from frame 1\n",
        "40"
       ]
      },
      {
       "output_type": "stream",
       "stream": "stdout",
       "text": [
        " Ensemble: 2   failsteps= 10\n",
        "Shooting backward from frame 5\n",
        "Proposal probability"
       ]
      },
      {
       "output_type": "stream",
       "stream": "stdout",
       "text": [
        " 1.0 / random : 0.219326883936\n",
        "41 Ensemble: 2   failsteps= 11\n",
        "Shooting forward from frame 9\n",
        "Proposal probability"
       ]
      },
      {
       "output_type": "stream",
       "stream": "stdout",
       "text": [
        " 1.0 / random : 0.637567051007\n",
        "42 Ensemble: 2   failsteps= 12\n",
        "Shooting forward from frame 7\n",
        "Proposal probability"
       ]
      },
      {
       "output_type": "stream",
       "stream": "stdout",
       "text": [
        " 1.0 / random : 0.336787179676\n",
        "43 Ensemble: 2   failsteps= 13\n",
        "Shooting backward from frame 7\n",
        "44"
       ]
      },
      {
       "output_type": "stream",
       "stream": "stdout",
       "text": [
        " Ensemble: 2   failsteps= 14\n",
        "Shooting forward from frame 10\n",
        "Proposal probability"
       ]
      },
      {
       "output_type": "stream",
       "stream": "stdout",
       "text": [
        " 1.0 / random : 0.473939194629\n",
        "45 Ensemble: 2   failsteps= 15\n",
        "Shooting forward from frame 5\n",
        "Proposal probability"
       ]
      },
      {
       "output_type": "stream",
       "stream": "stdout",
       "text": [
        " 1.5 / random : 0.657524840453\n",
        "46 Ensemble: 2   failsteps= 16\n",
        "Shooting forward from frame 4\n",
        "Proposal probability"
       ]
      },
      {
       "output_type": "stream",
       "stream": "stdout",
       "text": [
        " 1.14285714286 / random : 0.376313723596\n",
        "47 Ensemble: 2   failsteps= 17\n",
        "Shooting forward from frame 3\n",
        "48"
       ]
      },
      {
       "output_type": "stream",
       "stream": "stdout",
       "text": [
        " Ensemble: 2   failsteps= 18\n",
        "Shooting forward from frame 4\n",
        "Proposal probability"
       ]
      },
      {
       "output_type": "stream",
       "stream": "stdout",
       "text": [
        " 1.0 / random : 0.0604158665875\n",
        "49 Ensemble: 2   failsteps= 19\n",
        "Shooting forward from frame 3\n",
        "Proposal probability"
       ]
      },
      {
       "output_type": "stream",
       "stream": "stdout",
       "text": [
        " 0.583333333333 / random : 0.853454001128\n",
        "50 Ensemble: 2   failsteps= 20\n",
        "Shooting backward from frame 5\n",
        "51"
       ]
      },
      {
       "output_type": "stream",
       "stream": "stdout",
       "text": [
        " Ensemble: 2   failsteps= 21\n",
        "Shooting forward from frame 1\n",
        "52"
       ]
      },
      {
       "output_type": "stream",
       "stream": "stdout",
       "text": [
        " Ensemble: 2   failsteps= 22\n",
        "Shooting backward from frame 3\n",
        "Proposal probability"
       ]
      },
      {
       "output_type": "stream",
       "stream": "stdout",
       "text": [
        " 1.0 / random : 0.674146724339\n",
        "53 Ensemble: 2   failsteps= 23\n",
        "Shooting forward from frame 4\n",
        "Proposal probability"
       ]
      },
      {
       "output_type": "stream",
       "stream": "stdout",
       "text": [
        " 1.0 / random : 0.591653887497\n",
        "54 Ensemble: 2   failsteps= 24\n",
        "Shooting backward from frame 5\n",
        "Proposal probability"
       ]
      },
      {
       "output_type": "stream",
       "stream": "stdout",
       "text": [
        " 0.583333333333 / random : 0.271488945187\n",
        "55 Ensemble: 2   failsteps= 25\n",
        "Shooting backward from frame 5\n",
        "Proposal probability"
       ]
      },
      {
       "output_type": "stream",
       "stream": "stdout",
       "text": [
        " 1.0 / random : 0.429336595993\n",
        "56 Ensemble: 2   failsteps= 26\n",
        "Shooting backward from frame 2\n",
        "Proposal probability"
       ]
      },
      {
       "output_type": "stream",
       "stream": "stdout",
       "text": [
        " 0.571428571429 / random : 0.774754738649\n",
        "57 Ensemble: 2   failsteps= 27\n",
        "Shooting backward from frame 7\n",
        "Proposal probability"
       ]
      },
      {
       "output_type": "stream",
       "stream": "stdout",
       "text": [
        " 1.09090909091 / random : 0.469092905508\n",
        "58 Ensemble: 2   failsteps= 28\n",
        "Shooting forward from frame 10\n",
        "Proposal probability"
       ]
      },
      {
       "output_type": "stream",
       "stream": "stdout",
       "text": [
        " 1.0 / random : 0.616607838166\n",
        "59 Ensemble: 2   failsteps= 29\n",
        "Shooting forward from frame 2\n",
        "60"
       ]
      },
      {
       "output_type": "stream",
       "stream": "stdout",
       "text": [
        " Ensemble: 2   failsteps= 30\n",
        "Shooting forward from frame 6\n",
        "61"
       ]
      },
      {
       "output_type": "stream",
       "stream": "stdout",
       "text": [
        " Ensemble: 2   failsteps= 31\n",
        "Shooting backward from frame 4\n",
        "Proposal probability"
       ]
      },
      {
       "output_type": "stream",
       "stream": "stdout",
       "text": [
        " 0.846153846154 / random : 0.573046630212\n",
        "62 Ensemble: 2   failsteps= 32\n",
        "Shooting backward from frame 11\n",
        "63"
       ]
      },
      {
       "output_type": "stream",
       "stream": "stdout",
       "text": [
        " Ensemble: 2   failsteps= 33\n",
        "Shooting backward from frame 5\n",
        "Proposal probability"
       ]
      },
      {
       "output_type": "stream",
       "stream": "stdout",
       "text": [
        " 1.0 / random : 0.285414435159\n",
        "64 Ensemble: 2   failsteps= 34\n",
        "Shooting backward from frame 8\n",
        "Proposal probability"
       ]
      },
      {
       "output_type": "stream",
       "stream": "stdout",
       "text": [
        " 1.18181818182 / random : 0.752850114141\n",
        "65 Ensemble: 2   failsteps= 35\n",
        "Shooting backward from frame 5\n",
        "Proposal probability"
       ]
      },
      {
       "output_type": "stream",
       "stream": "stdout",
       "text": [
        " 1.22222222222 / random : 0.0505190354014\n",
        "66 Ensemble: 2   failsteps= 36\n",
        "Shooting forward from frame 5\n",
        "67"
       ]
      },
      {
       "output_type": "stream",
       "stream": "stdout",
       "text": [
        " Ensemble: 2   failsteps= 37\n",
        "Shooting backward from frame 1\n",
        "Proposal probability"
       ]
      },
      {
       "output_type": "stream",
       "stream": "stdout",
       "text": [
        " 1.0 / random : 0.197775795812\n",
        "68 Ensemble: 2   failsteps= 38\n",
        "Shooting forward from frame 5\n",
        "69"
       ]
      },
      {
       "output_type": "stream",
       "stream": "stdout",
       "text": [
        " Ensemble: 2   failsteps= 39\n",
        "Shooting forward from frame 7\n",
        "Proposal probability"
       ]
      },
      {
       "output_type": "stream",
       "stream": "stdout",
       "text": [
        " 0.692307692308 / random : 0.497984120775\n",
        "70 Ensemble: 2   failsteps= 40\n",
        "Shooting forward from frame 7\n",
        "Proposal probability"
       ]
      },
      {
       "output_type": "stream",
       "stream": "stdout",
       "text": [
        " 0.8125 / random : 0.465349595796\n",
        "71 Ensemble: 2   failsteps= 41\n",
        "Shooting backward from frame 1\n",
        "Proposal probability"
       ]
      },
      {
       "output_type": "stream",
       "stream": "stdout",
       "text": [
        " 1.0 / random : 0.969272924197\n",
        "72 Ensemble: 2   failsteps= 42\n",
        "Shooting forward from frame 6\n",
        "Proposal probability"
       ]
      },
      {
       "output_type": "stream",
       "stream": "stdout",
       "text": [
        " 1.77777777778 / random : 0.460467760756\n",
        "73 Ensemble: 2   failsteps= 43\n",
        "Shooting backward from frame 2\n",
        "Proposal probability"
       ]
      },
      {
       "output_type": "stream",
       "stream": "stdout",
       "text": [
        " 0.529411764706 / random : 0.263538832853\n",
        "74 Ensemble: 2   failsteps= 44\n",
        "Shooting forward from frame 16\n",
        "Proposal probability"
       ]
      },
      {
       "output_type": "stream",
       "stream": "stdout",
       "text": [
        " 1.0 / random : 0.643423988904\n",
        "75 Ensemble: 2   failsteps= 45\n",
        "Shooting forward from frame 6\n",
        "76"
       ]
      },
      {
       "output_type": "stream",
       "stream": "stdout",
       "text": [
        " Ensemble: 2   failsteps= 46\n",
        "Shooting backward from frame 12\n",
        "Proposal probability"
       ]
      },
      {
       "output_type": "stream",
       "stream": "stdout",
       "text": [
        " 1.41666666667 / random : 0.869457964117\n",
        "77 Ensemble: 2   failsteps= 47\n",
        "Shooting backward from frame 10\n",
        "Proposal probability"
       ]
      },
      {
       "output_type": "stream",
       "stream": "stdout",
       "text": [
        " 1.5 / random : 0.296447794489\n",
        "78 Ensemble: 2   failsteps= 48\n",
        "Shooting backward from frame 4\n",
        "Proposal probability"
       ]
      },
      {
       "output_type": "stream",
       "stream": "stdout",
       "text": [
        " 1.14285714286 / random : 0.277920203006\n",
        "79 Ensemble: 2   failsteps= 49\n",
        "Shooting forward from frame 3\n",
        "Proposal probability"
       ]
      },
      {
       "output_type": "stream",
       "stream": "stdout",
       "text": [
        " 0.7 / random : 0.622573953603\n"
       ]
      }
     ],
     "prompt_number": 22
    },
    {
     "cell_type": "markdown",
     "metadata": {},
     "source": [
      "Save all computed phi/psi values which depends on whether they have been needed before"
     ]
    },
    {
     "cell_type": "code",
     "collapsed": false,
     "input": [
      "storage.save([psi,phi]);"
     ],
     "language": "python",
     "metadata": {},
     "outputs": [],
     "prompt_number": 23
    },
    {
     "cell_type": "markdown",
     "metadata": {},
     "source": [
      "Create an orderparameter from a volume which is just 1 or 0 and can thus be stored for later analysis"
     ]
    },
    {
     "cell_type": "code",
     "collapsed": false,
     "input": [
      "op_inA = OP_Volume('StateA', stateA)\n",
      "op_inB = OP_Volume('StateB', stateB)\n",
      "op_notinAorB = OP_Volume('StateX', ~ (stateA | stateB))"
     ],
     "language": "python",
     "metadata": {},
     "outputs": [],
     "prompt_number": 24
    },
    {
     "cell_type": "markdown",
     "metadata": {},
     "source": [
      "Compute the orderparameter for all snapshots"
     ]
    },
    {
     "cell_type": "code",
     "collapsed": false,
     "input": [
      "op_inA(storage.snapshot.all())\n",
      "op_inB(storage.snapshot.all())\n",
      "op_notinAorB(storage.snapshot.all());"
     ],
     "language": "python",
     "metadata": {},
     "outputs": [],
     "prompt_number": 25
    },
    {
     "cell_type": "markdown",
     "metadata": {},
     "source": [
      "Save the new orderparameters"
     ]
    },
    {
     "cell_type": "code",
     "collapsed": false,
     "input": [
      "storage.save([op_inA, op_inB, op_notinAorB]);"
     ],
     "language": "python",
     "metadata": {},
     "outputs": [],
     "prompt_number": 26
    },
    {
     "cell_type": "markdown",
     "metadata": {},
     "source": [
      "## Visualization"
     ]
    },
    {
     "cell_type": "markdown",
     "metadata": {},
     "source": [
      "Create a PathTree generator"
     ]
    },
    {
     "cell_type": "code",
     "collapsed": false,
     "input": [
      "tree = PathTreeBuilder(storage)\n",
      "op_inA.name\n",
      "storage.save(op_inA)\n",
      "storage.cv.load(0)\n",
      "op_inA.idx"
     ],
     "language": "python",
     "metadata": {},
     "outputs": [
      {
       "metadata": {},
       "output_type": "pyout",
       "prompt_number": 27,
       "text": [
        "{<opentis.storage.netcdf_storage.Storage at 0x11073e370>: 2}"
       ]
      }
     ],
     "prompt_number": 27
    },
    {
     "cell_type": "markdown",
     "metadata": {},
     "source": [
      "Get samples (trajectries) that were generated for a specific ensemble"
     ]
    },
    {
     "cell_type": "code",
     "collapsed": false,
     "input": [
      "samples = storage.sample.by_ensemble(storage.ensemble.load(1))"
     ],
     "language": "python",
     "metadata": {},
     "outputs": [],
     "prompt_number": 28
    },
    {
     "cell_type": "markdown",
     "metadata": {},
     "source": [
      "Change the settings to show rejected pathways, mark OrderParaemters `stateA` and `stateX`, and show the 'psi' value as text inside of the boxes"
     ]
    },
    {
     "cell_type": "code",
     "collapsed": false,
     "input": [
      "tree.rejected = False\n",
      "tree.states = [('StateA','orange'),('StateX','black')]\n",
      "tree.op = storage.cv.load('psi').get_transformed_view(lambda x : int(x / 3.141592653 * 180))\n",
      "tree.from_samples(samples)"
     ],
     "language": "python",
     "metadata": {},
     "outputs": [],
     "prompt_number": 29
    },
    {
     "cell_type": "markdown",
     "metadata": {},
     "source": [
      "Render the tree"
     ]
    },
    {
     "cell_type": "code",
     "collapsed": false,
     "input": [
      "view = tree.renderer\n",
      "view.zoom = 1.1\n",
      "view.scale_y = 24\n",
      "view.scale_x = 24\n",
      "view.font_size = 0.35\n",
      "SVG(view.to_svg())"
     ],
     "language": "python",
     "metadata": {},
     "outputs": [
      {
       "metadata": {},
       "output_type": "pyout",
       "prompt_number": 30,
       "svg": [
        "<svg baseProfile=\"full\" height=\"448.8px\" version=\"1.1\" width=\"554.4px\" xmlns=\"http://www.w3.org/2000/svg\" xmlns:ev=\"http://www.w3.org/2001/xml-events\" xmlns:xlink=\"http://www.w3.org/1999/xlink\"><defs/><rect fill=\"black\" height=\"2.64\" stroke=\"black\" stroke-width=\"1.32\" width=\"105.6\" x=\"158.4\" y=\"431.64\"/><rect fill=\"orange\" height=\"2.64\" stroke=\"orange\" stroke-width=\"1.32\" width=\"26.4\" x=\"132.0\" y=\"431.64\"/><rect fill=\"orange\" height=\"2.64\" stroke=\"orange\" stroke-width=\"1.32\" width=\"26.4\" x=\"501.6\" y=\"405.24\"/><rect fill=\"black\" height=\"2.64\" stroke=\"black\" stroke-width=\"1.32\" width=\"52.8\" x=\"237.6\" y=\"378.84\"/><rect fill=\"orange\" height=\"2.64\" stroke=\"orange\" stroke-width=\"1.32\" width=\"26.4\" x=\"211.2\" y=\"378.84\"/><rect fill=\"orange\" height=\"2.64\" stroke=\"orange\" stroke-width=\"1.32\" width=\"26.4\" x=\"501.6\" y=\"352.44\"/><rect fill=\"black\" height=\"2.64\" stroke=\"black\" stroke-width=\"1.32\" width=\"105.6\" x=\"396.0\" y=\"352.44\"/><rect fill=\"black\" height=\"2.64\" stroke=\"black\" stroke-width=\"1.32\" width=\"158.4\" x=\"52.8\" y=\"326.04\"/><rect fill=\"orange\" height=\"2.64\" stroke=\"orange\" stroke-width=\"1.32\" width=\"26.4\" x=\"26.4\" y=\"326.04\"/><rect fill=\"orange\" height=\"2.64\" stroke=\"orange\" stroke-width=\"1.32\" width=\"26.4\" x=\"158.4\" y=\"299.64\"/><rect fill=\"black\" height=\"2.64\" stroke=\"black\" stroke-width=\"1.32\" width=\"184.8\" x=\"184.8\" y=\"273.24\"/><rect fill=\"orange\" height=\"2.64\" stroke=\"orange\" stroke-width=\"1.32\" width=\"26.4\" x=\"158.4\" y=\"273.24\"/><rect fill=\"orange\" height=\"2.64\" stroke=\"orange\" stroke-width=\"1.32\" width=\"26.4\" x=\"396.0\" y=\"246.84\"/><rect fill=\"orange\" height=\"2.64\" stroke=\"orange\" stroke-width=\"1.32\" width=\"26.4\" x=\"396.0\" y=\"220.44\"/><rect fill=\"orange\" height=\"2.64\" stroke=\"orange\" stroke-width=\"1.32\" width=\"26.4\" x=\"316.8\" y=\"194.04\"/><rect fill=\"orange\" height=\"2.64\" stroke=\"orange\" stroke-width=\"1.32\" width=\"26.4\" x=\"396.0\" y=\"167.64\"/><rect fill=\"black\" height=\"2.64\" stroke=\"black\" stroke-width=\"1.32\" width=\"26.4\" x=\"369.6\" y=\"167.64\"/><rect fill=\"orange\" height=\"2.64\" stroke=\"orange\" stroke-width=\"1.32\" width=\"26.4\" x=\"396.0\" y=\"141.24\"/><rect fill=\"orange\" height=\"2.64\" stroke=\"orange\" stroke-width=\"1.32\" width=\"26.4\" x=\"396.0\" y=\"114.84\"/><rect fill=\"orange\" height=\"2.64\" stroke=\"orange\" stroke-width=\"1.32\" width=\"26.4\" x=\"396.0\" y=\"88.44\"/><rect fill=\"black\" height=\"2.64\" stroke=\"black\" stroke-width=\"1.32\" width=\"26.4\" x=\"369.6\" y=\"88.44\"/><rect fill=\"black\" height=\"2.64\" stroke=\"black\" stroke-width=\"1.32\" width=\"79.2\" x=\"316.8\" y=\"62.04\"/><rect fill=\"orange\" height=\"2.64\" stroke=\"orange\" stroke-width=\"1.32\" width=\"26.4\" x=\"290.4\" y=\"62.04\"/><rect fill=\"orange\" height=\"2.64\" stroke=\"orange\" stroke-width=\"1.32\" width=\"26.4\" x=\"422.4\" y=\"35.64\"/><rect fill=\"black\" height=\"2.64\" stroke=\"black\" stroke-width=\"1.32\" width=\"105.6\" x=\"316.8\" y=\"35.64\"/><rect fill=\"orange\" height=\"2.64\" stroke=\"orange\" stroke-width=\"1.32\" width=\"26.4\" x=\"290.4\" y=\"35.64\"/><rect fill=\"black\" height=\"15.84\" width=\"23.76\" x=\"291.72\" y=\"18.48\"/><circle cx=\"290.4\" cy=\"26.4\" fill=\"black\" r=\"1.32\" stroke=\"black\" stroke-width=\"0\"/><circle cx=\"316.8\" cy=\"26.4\" fill=\"black\" r=\"1.32\" stroke=\"black\" stroke-width=\"0\"/><text alignment-baseline=\"middle\" fill=\"white\" font-family=\"Futura\" font-size=\"9.24\" text-anchor=\"middle\" x=\"303.6\" y=\"27.72\">-35</text><rect fill=\"black\" height=\"15.84\" width=\"23.76\" x=\"318.12\" y=\"18.48\"/><circle cx=\"316.8\" cy=\"26.4\" fill=\"black\" r=\"1.32\" stroke=\"black\" stroke-width=\"0\"/><circle cx=\"343.2\" cy=\"26.4\" fill=\"black\" r=\"1.32\" stroke=\"black\" stroke-width=\"0\"/><text alignment-baseline=\"middle\" fill=\"white\" font-family=\"Futura\" font-size=\"9.24\" text-anchor=\"middle\" x=\"330.0\" y=\"27.72\">-22</text><rect fill=\"black\" height=\"15.84\" width=\"23.76\" x=\"344.52\" y=\"18.48\"/><circle cx=\"343.2\" cy=\"26.4\" fill=\"black\" r=\"1.32\" stroke=\"black\" stroke-width=\"0\"/><circle cx=\"369.6\" cy=\"26.4\" fill=\"black\" r=\"1.32\" stroke=\"black\" stroke-width=\"0\"/><text alignment-baseline=\"middle\" fill=\"white\" font-family=\"Futura\" font-size=\"9.24\" text-anchor=\"middle\" x=\"356.4\" y=\"27.72\">-26</text><rect fill=\"black\" height=\"15.84\" width=\"23.76\" x=\"370.92\" y=\"18.48\"/><circle cx=\"369.6\" cy=\"26.4\" fill=\"black\" r=\"1.32\" stroke=\"black\" stroke-width=\"0\"/><circle cx=\"396.0\" cy=\"26.4\" fill=\"black\" r=\"1.32\" stroke=\"black\" stroke-width=\"0\"/><text alignment-baseline=\"middle\" fill=\"white\" font-family=\"Futura\" font-size=\"9.24\" text-anchor=\"middle\" x=\"382.8\" y=\"27.72\">-29</text><rect fill=\"black\" height=\"15.84\" width=\"23.76\" x=\"397.32\" y=\"18.48\"/><circle cx=\"396.0\" cy=\"26.4\" fill=\"black\" r=\"1.32\" stroke=\"black\" stroke-width=\"0\"/><circle cx=\"422.4\" cy=\"26.4\" fill=\"black\" r=\"1.32\" stroke=\"black\" stroke-width=\"0\"/><text alignment-baseline=\"middle\" fill=\"white\" font-family=\"Futura\" font-size=\"9.24\" text-anchor=\"middle\" x=\"409.2\" y=\"27.72\">-28</text><rect fill=\"black\" height=\"15.84\" width=\"23.76\" x=\"423.72\" y=\"18.48\"/><circle cx=\"422.4\" cy=\"26.4\" fill=\"black\" r=\"1.32\" stroke=\"black\" stroke-width=\"0\"/><circle cx=\"448.8\" cy=\"26.4\" fill=\"black\" r=\"1.32\" stroke=\"black\" stroke-width=\"0\"/><text alignment-baseline=\"middle\" fill=\"white\" font-family=\"Futura\" font-size=\"9.24\" text-anchor=\"middle\" x=\"435.6\" y=\"27.72\">-30</text><text alignment-baseline=\"middle\" fill=\"black\" font-family=\"Futura\" font-size=\"9.24\" text-anchor=\"end\" x=\"285.12\" y=\"27.72\">9b</text><line stroke=\"red\" stroke-width=\"1.32\" x1=\"422.4\" x2=\"422.4\" y1=\"27.72\" y2=\"51.48\"/><text alignment-baseline=\"middle\" fill=\"black\" font-family=\"Futura\" font-size=\"9.24\" text-anchor=\"start\" x=\"454.08\" y=\"54.12\">11f</text><rect fill=\"red\" height=\"15.84\" width=\"23.76\" x=\"291.72\" y=\"44.88\"/><circle cx=\"290.4\" cy=\"52.8\" fill=\"red\" r=\"1.32\" stroke=\"red\" stroke-width=\"0\"/><circle cx=\"316.8\" cy=\"52.8\" fill=\"red\" r=\"1.32\" stroke=\"red\" stroke-width=\"0\"/><text alignment-baseline=\"middle\" fill=\"white\" font-family=\"Futura\" font-size=\"9.24\" text-anchor=\"middle\" x=\"303.6\" y=\"54.12\">-37</text><rect fill=\"red\" height=\"15.84\" width=\"23.76\" x=\"318.12\" y=\"44.88\"/><circle cx=\"316.8\" cy=\"52.8\" fill=\"red\" r=\"1.32\" stroke=\"red\" stroke-width=\"0\"/><circle cx=\"343.2\" cy=\"52.8\" fill=\"red\" r=\"1.32\" stroke=\"red\" stroke-width=\"0\"/><text alignment-baseline=\"middle\" fill=\"white\" font-family=\"Futura\" font-size=\"9.24\" text-anchor=\"middle\" x=\"330.0\" y=\"54.12\">-20</text><rect fill=\"red\" height=\"15.84\" width=\"23.76\" x=\"344.52\" y=\"44.88\"/><circle cx=\"343.2\" cy=\"52.8\" fill=\"red\" r=\"1.32\" stroke=\"red\" stroke-width=\"0\"/><circle cx=\"369.6\" cy=\"52.8\" fill=\"red\" r=\"1.32\" stroke=\"red\" stroke-width=\"0\"/><text alignment-baseline=\"middle\" fill=\"white\" font-family=\"Futura\" font-size=\"9.24\" text-anchor=\"middle\" x=\"356.4\" y=\"54.12\">-27</text><rect fill=\"red\" height=\"15.84\" width=\"23.76\" x=\"370.92\" y=\"44.88\"/><circle cx=\"369.6\" cy=\"52.8\" fill=\"red\" r=\"1.32\" stroke=\"red\" stroke-width=\"0\"/><circle cx=\"396.0\" cy=\"52.8\" fill=\"red\" r=\"1.32\" stroke=\"red\" stroke-width=\"0\"/><text alignment-baseline=\"middle\" fill=\"white\" font-family=\"Futura\" font-size=\"9.24\" text-anchor=\"middle\" x=\"382.8\" y=\"54.12\">-29</text><line stroke=\"red\" stroke-width=\"1.32\" x1=\"369.6\" x2=\"369.6\" y1=\"54.12\" y2=\"77.88\"/><text alignment-baseline=\"middle\" fill=\"black\" font-family=\"Futura\" font-size=\"9.24\" text-anchor=\"start\" x=\"427.68\" y=\"80.52\">13f</text><rect fill=\"red\" height=\"15.84\" width=\"23.76\" x=\"370.92\" y=\"71.28\"/><circle cx=\"369.6\" cy=\"79.2\" fill=\"red\" r=\"1.32\" stroke=\"red\" stroke-width=\"0\"/><circle cx=\"396.0\" cy=\"79.2\" fill=\"red\" r=\"1.32\" stroke=\"red\" stroke-width=\"0\"/><text alignment-baseline=\"middle\" fill=\"white\" font-family=\"Futura\" font-size=\"9.24\" text-anchor=\"middle\" x=\"382.8\" y=\"80.52\">-21</text><rect fill=\"red\" height=\"15.84\" width=\"23.76\" x=\"397.32\" y=\"71.28\"/><circle cx=\"396.0\" cy=\"79.2\" fill=\"red\" r=\"1.32\" stroke=\"red\" stroke-width=\"0\"/><circle cx=\"422.4\" cy=\"79.2\" fill=\"red\" r=\"1.32\" stroke=\"red\" stroke-width=\"0\"/><text alignment-baseline=\"middle\" fill=\"white\" font-family=\"Futura\" font-size=\"9.24\" text-anchor=\"middle\" x=\"409.2\" y=\"80.52\">-36</text><line stroke=\"red\" stroke-width=\"1.32\" x1=\"396.0\" x2=\"396.0\" y1=\"80.52\" y2=\"104.28\"/><text alignment-baseline=\"middle\" fill=\"black\" font-family=\"Futura\" font-size=\"9.24\" text-anchor=\"start\" x=\"427.68\" y=\"106.92\">14f</text><rect fill=\"red\" height=\"15.84\" width=\"23.76\" x=\"397.32\" y=\"97.68\"/><circle cx=\"396.0\" cy=\"105.6\" fill=\"red\" r=\"1.32\" stroke=\"red\" stroke-width=\"0\"/><circle cx=\"422.4\" cy=\"105.6\" fill=\"red\" r=\"1.32\" stroke=\"red\" stroke-width=\"0\"/><text alignment-baseline=\"middle\" fill=\"white\" font-family=\"Futura\" font-size=\"9.24\" text-anchor=\"middle\" x=\"409.2\" y=\"106.92\">-37</text><line stroke=\"red\" stroke-width=\"1.32\" x1=\"396.0\" x2=\"396.0\" y1=\"80.52\" y2=\"130.68\"/><text alignment-baseline=\"middle\" fill=\"black\" font-family=\"Futura\" font-size=\"9.24\" text-anchor=\"start\" x=\"427.68\" y=\"133.32\">15f</text><rect fill=\"red\" height=\"15.84\" width=\"23.76\" x=\"397.32\" y=\"124.08\"/><circle cx=\"396.0\" cy=\"132.0\" fill=\"red\" r=\"1.32\" stroke=\"red\" stroke-width=\"0\"/><circle cx=\"422.4\" cy=\"132.0\" fill=\"red\" r=\"1.32\" stroke=\"red\" stroke-width=\"0\"/><text alignment-baseline=\"middle\" fill=\"white\" font-family=\"Futura\" font-size=\"9.24\" text-anchor=\"middle\" x=\"409.2\" y=\"133.32\">-38</text><line stroke=\"red\" stroke-width=\"1.32\" x1=\"369.6\" x2=\"369.6\" y1=\"54.12\" y2=\"157.08\"/><text alignment-baseline=\"middle\" fill=\"black\" font-family=\"Futura\" font-size=\"9.24\" text-anchor=\"start\" x=\"427.68\" y=\"159.72\">16f</text><rect fill=\"red\" height=\"15.84\" width=\"23.76\" x=\"370.92\" y=\"150.48\"/><circle cx=\"369.6\" cy=\"158.4\" fill=\"red\" r=\"1.32\" stroke=\"red\" stroke-width=\"0\"/><circle cx=\"396.0\" cy=\"158.4\" fill=\"red\" r=\"1.32\" stroke=\"red\" stroke-width=\"0\"/><text alignment-baseline=\"middle\" fill=\"white\" font-family=\"Futura\" font-size=\"9.24\" text-anchor=\"middle\" x=\"382.8\" y=\"159.72\">-20</text><rect fill=\"red\" height=\"15.84\" width=\"23.76\" x=\"397.32\" y=\"150.48\"/><circle cx=\"396.0\" cy=\"158.4\" fill=\"red\" r=\"1.32\" stroke=\"red\" stroke-width=\"0\"/><circle cx=\"422.4\" cy=\"158.4\" fill=\"red\" r=\"1.32\" stroke=\"red\" stroke-width=\"0\"/><text alignment-baseline=\"middle\" fill=\"white\" font-family=\"Futura\" font-size=\"9.24\" text-anchor=\"middle\" x=\"409.2\" y=\"159.72\">-38</text><line stroke=\"red\" stroke-width=\"1.32\" x1=\"369.6\" x2=\"369.6\" y1=\"54.12\" y2=\"183.48\"/><text alignment-baseline=\"middle\" fill=\"black\" font-family=\"Futura\" font-size=\"9.24\" text-anchor=\"start\" x=\"427.68\" y=\"186.12\">17f</text><rect fill=\"red\" height=\"15.84\" width=\"23.76\" x=\"318.12\" y=\"176.88\"/><circle cx=\"316.8\" cy=\"184.8\" fill=\"red\" r=\"1.32\" stroke=\"red\" stroke-width=\"0\"/><circle cx=\"343.2\" cy=\"184.8\" fill=\"red\" r=\"1.32\" stroke=\"red\" stroke-width=\"0\"/><text alignment-baseline=\"middle\" fill=\"white\" font-family=\"Futura\" font-size=\"9.24\" text-anchor=\"middle\" x=\"330.0\" y=\"186.12\">-30</text><line stroke=\"red\" stroke-width=\"1.32\" x1=\"396.0\" x2=\"396.0\" y1=\"159.72\" y2=\"209.88\"/><text alignment-baseline=\"middle\" fill=\"black\" font-family=\"Futura\" font-size=\"9.24\" text-anchor=\"start\" x=\"427.68\" y=\"212.52\">19f</text><rect fill=\"red\" height=\"15.84\" width=\"23.76\" x=\"397.32\" y=\"203.28\"/><circle cx=\"396.0\" cy=\"211.2\" fill=\"red\" r=\"1.32\" stroke=\"red\" stroke-width=\"0\"/><circle cx=\"422.4\" cy=\"211.2\" fill=\"red\" r=\"1.32\" stroke=\"red\" stroke-width=\"0\"/><text alignment-baseline=\"middle\" fill=\"white\" font-family=\"Futura\" font-size=\"9.24\" text-anchor=\"middle\" x=\"409.2\" y=\"212.52\">-38</text><line stroke=\"red\" stroke-width=\"1.32\" x1=\"396.0\" x2=\"396.0\" y1=\"159.72\" y2=\"236.28\"/><text alignment-baseline=\"middle\" fill=\"black\" font-family=\"Futura\" font-size=\"9.24\" text-anchor=\"start\" x=\"427.68\" y=\"238.92\">20f</text><rect fill=\"red\" height=\"15.84\" width=\"23.76\" x=\"397.32\" y=\"229.68\"/><circle cx=\"396.0\" cy=\"237.6\" fill=\"red\" r=\"1.32\" stroke=\"red\" stroke-width=\"0\"/><circle cx=\"422.4\" cy=\"237.6\" fill=\"red\" r=\"1.32\" stroke=\"red\" stroke-width=\"0\"/><text alignment-baseline=\"middle\" fill=\"white\" font-family=\"Futura\" font-size=\"9.24\" text-anchor=\"middle\" x=\"409.2\" y=\"238.92\">-38</text><line stroke=\"red\" stroke-width=\"1.32\" x1=\"396.0\" x2=\"396.0\" y1=\"159.72\" y2=\"262.68\"/><text alignment-baseline=\"middle\" fill=\"black\" font-family=\"Futura\" font-size=\"9.24\" text-anchor=\"start\" x=\"427.68\" y=\"265.32\">21f</text><rect fill=\"red\" height=\"15.84\" width=\"23.76\" x=\"159.72\" y=\"256.08\"/><circle cx=\"158.4\" cy=\"264.0\" fill=\"red\" r=\"1.32\" stroke=\"red\" stroke-width=\"0\"/><circle cx=\"184.8\" cy=\"264.0\" fill=\"red\" r=\"1.32\" stroke=\"red\" stroke-width=\"0\"/><text alignment-baseline=\"middle\" fill=\"white\" font-family=\"Futura\" font-size=\"9.24\" text-anchor=\"middle\" x=\"171.6\" y=\"265.32\">-31</text><rect fill=\"red\" height=\"15.84\" width=\"23.76\" x=\"186.12\" y=\"256.08\"/><circle cx=\"184.8\" cy=\"264.0\" fill=\"red\" r=\"1.32\" stroke=\"red\" stroke-width=\"0\"/><circle cx=\"211.2\" cy=\"264.0\" fill=\"red\" r=\"1.32\" stroke=\"red\" stroke-width=\"0\"/><text alignment-baseline=\"middle\" fill=\"white\" font-family=\"Futura\" font-size=\"9.24\" text-anchor=\"middle\" x=\"198.0\" y=\"265.32\">-29</text><rect fill=\"red\" height=\"15.84\" width=\"23.76\" x=\"212.52\" y=\"256.08\"/><circle cx=\"211.2\" cy=\"264.0\" fill=\"red\" r=\"1.32\" stroke=\"red\" stroke-width=\"0\"/><circle cx=\"237.6\" cy=\"264.0\" fill=\"red\" r=\"1.32\" stroke=\"red\" stroke-width=\"0\"/><text alignment-baseline=\"middle\" fill=\"white\" font-family=\"Futura\" font-size=\"9.24\" text-anchor=\"middle\" x=\"224.4\" y=\"265.32\">-27</text><rect fill=\"red\" height=\"15.84\" width=\"23.76\" x=\"238.92\" y=\"256.08\"/><circle cx=\"237.6\" cy=\"264.0\" fill=\"red\" r=\"1.32\" stroke=\"red\" stroke-width=\"0\"/><circle cx=\"264.0\" cy=\"264.0\" fill=\"red\" r=\"1.32\" stroke=\"red\" stroke-width=\"0\"/><text alignment-baseline=\"middle\" fill=\"white\" font-family=\"Futura\" font-size=\"9.24\" text-anchor=\"middle\" x=\"250.8\" y=\"265.32\">-29</text><rect fill=\"red\" height=\"15.84\" width=\"23.76\" x=\"265.32\" y=\"256.08\"/><circle cx=\"264.0\" cy=\"264.0\" fill=\"red\" r=\"1.32\" stroke=\"red\" stroke-width=\"0\"/><circle cx=\"290.4\" cy=\"264.0\" fill=\"red\" r=\"1.32\" stroke=\"red\" stroke-width=\"0\"/><text alignment-baseline=\"middle\" fill=\"white\" font-family=\"Futura\" font-size=\"9.24\" text-anchor=\"middle\" x=\"277.2\" y=\"265.32\">-25</text><rect fill=\"red\" height=\"15.84\" width=\"23.76\" x=\"291.72\" y=\"256.08\"/><circle cx=\"290.4\" cy=\"264.0\" fill=\"red\" r=\"1.32\" stroke=\"red\" stroke-width=\"0\"/><circle cx=\"316.8\" cy=\"264.0\" fill=\"red\" r=\"1.32\" stroke=\"red\" stroke-width=\"0\"/><text alignment-baseline=\"middle\" fill=\"white\" font-family=\"Futura\" font-size=\"9.24\" text-anchor=\"middle\" x=\"303.6\" y=\"265.32\">-22</text><rect fill=\"red\" height=\"15.84\" width=\"23.76\" x=\"318.12\" y=\"256.08\"/><circle cx=\"316.8\" cy=\"264.0\" fill=\"red\" r=\"1.32\" stroke=\"red\" stroke-width=\"0\"/><circle cx=\"343.2\" cy=\"264.0\" fill=\"red\" r=\"1.32\" stroke=\"red\" stroke-width=\"0\"/><text alignment-baseline=\"middle\" fill=\"white\" font-family=\"Futura\" font-size=\"9.24\" text-anchor=\"middle\" x=\"330.0\" y=\"265.32\">-24</text><rect fill=\"red\" height=\"15.84\" width=\"23.76\" x=\"344.52\" y=\"256.08\"/><circle cx=\"343.2\" cy=\"264.0\" fill=\"red\" r=\"1.32\" stroke=\"red\" stroke-width=\"0\"/><circle cx=\"369.6\" cy=\"264.0\" fill=\"red\" r=\"1.32\" stroke=\"red\" stroke-width=\"0\"/><text alignment-baseline=\"middle\" fill=\"white\" font-family=\"Futura\" font-size=\"9.24\" text-anchor=\"middle\" x=\"356.4\" y=\"265.32\">-27</text><line stroke=\"red\" stroke-width=\"1.32\" x1=\"211.2\" x2=\"211.2\" y1=\"265.32\" y2=\"289.08\"/><text alignment-baseline=\"middle\" fill=\"black\" font-family=\"Futura\" font-size=\"9.24\" text-anchor=\"start\" x=\"427.68\" y=\"291.72\">23f</text><rect fill=\"red\" height=\"15.84\" width=\"23.76\" x=\"159.72\" y=\"282.48\"/><circle cx=\"158.4\" cy=\"290.4\" fill=\"red\" r=\"1.32\" stroke=\"red\" stroke-width=\"0\"/><circle cx=\"184.8\" cy=\"290.4\" fill=\"red\" r=\"1.32\" stroke=\"red\" stroke-width=\"0\"/><text alignment-baseline=\"middle\" fill=\"white\" font-family=\"Futura\" font-size=\"9.24\" text-anchor=\"middle\" x=\"171.6\" y=\"291.72\">-30</text><line stroke=\"red\" stroke-width=\"1.32\" x1=\"237.6\" x2=\"237.6\" y1=\"265.32\" y2=\"315.48\"/><text alignment-baseline=\"middle\" fill=\"black\" font-family=\"Futura\" font-size=\"9.24\" text-anchor=\"start\" x=\"427.68\" y=\"318.12\">24f</text><rect fill=\"red\" height=\"15.84\" width=\"23.76\" x=\"27.72\" y=\"308.88\"/><circle cx=\"26.4\" cy=\"316.8\" fill=\"red\" r=\"1.32\" stroke=\"red\" stroke-width=\"0\"/><circle cx=\"52.8\" cy=\"316.8\" fill=\"red\" r=\"1.32\" stroke=\"red\" stroke-width=\"0\"/><text alignment-baseline=\"middle\" fill=\"white\" font-family=\"Futura\" font-size=\"9.24\" text-anchor=\"middle\" x=\"39.6\" y=\"318.12\">-41</text><rect fill=\"red\" height=\"15.84\" width=\"23.76\" x=\"54.12\" y=\"308.88\"/><circle cx=\"52.8\" cy=\"316.8\" fill=\"red\" r=\"1.32\" stroke=\"red\" stroke-width=\"0\"/><circle cx=\"79.2\" cy=\"316.8\" fill=\"red\" r=\"1.32\" stroke=\"red\" stroke-width=\"0\"/><text alignment-baseline=\"middle\" fill=\"white\" font-family=\"Futura\" font-size=\"9.24\" text-anchor=\"middle\" x=\"66.0\" y=\"318.12\">-21</text><rect fill=\"red\" height=\"15.84\" width=\"23.76\" x=\"80.52\" y=\"308.88\"/><circle cx=\"79.2\" cy=\"316.8\" fill=\"red\" r=\"1.32\" stroke=\"red\" stroke-width=\"0\"/><circle cx=\"105.6\" cy=\"316.8\" fill=\"red\" r=\"1.32\" stroke=\"red\" stroke-width=\"0\"/><text alignment-baseline=\"middle\" fill=\"white\" font-family=\"Futura\" font-size=\"9.24\" text-anchor=\"middle\" x=\"92.4\" y=\"318.12\">-26</text><rect fill=\"red\" height=\"15.84\" width=\"23.76\" x=\"106.92\" y=\"308.88\"/><circle cx=\"105.6\" cy=\"316.8\" fill=\"red\" r=\"1.32\" stroke=\"red\" stroke-width=\"0\"/><circle cx=\"132.0\" cy=\"316.8\" fill=\"red\" r=\"1.32\" stroke=\"red\" stroke-width=\"0\"/><text alignment-baseline=\"middle\" fill=\"white\" font-family=\"Futura\" font-size=\"9.24\" text-anchor=\"middle\" x=\"118.8\" y=\"318.12\">-25</text><rect fill=\"red\" height=\"15.84\" width=\"23.76\" x=\"133.32\" y=\"308.88\"/><circle cx=\"132.0\" cy=\"316.8\" fill=\"red\" r=\"1.32\" stroke=\"red\" stroke-width=\"0\"/><circle cx=\"158.4\" cy=\"316.8\" fill=\"red\" r=\"1.32\" stroke=\"red\" stroke-width=\"0\"/><text alignment-baseline=\"middle\" fill=\"white\" font-family=\"Futura\" font-size=\"9.24\" text-anchor=\"middle\" x=\"145.2\" y=\"318.12\">-21</text><rect fill=\"red\" height=\"15.84\" width=\"23.76\" x=\"159.72\" y=\"308.88\"/><circle cx=\"158.4\" cy=\"316.8\" fill=\"red\" r=\"1.32\" stroke=\"red\" stroke-width=\"0\"/><circle cx=\"184.8\" cy=\"316.8\" fill=\"red\" r=\"1.32\" stroke=\"red\" stroke-width=\"0\"/><text alignment-baseline=\"middle\" fill=\"white\" font-family=\"Futura\" font-size=\"9.24\" text-anchor=\"middle\" x=\"171.6\" y=\"318.12\">-24</text><rect fill=\"red\" height=\"15.84\" width=\"23.76\" x=\"186.12\" y=\"308.88\"/><circle cx=\"184.8\" cy=\"316.8\" fill=\"red\" r=\"1.32\" stroke=\"red\" stroke-width=\"0\"/><circle cx=\"211.2\" cy=\"316.8\" fill=\"red\" r=\"1.32\" stroke=\"red\" stroke-width=\"0\"/><text alignment-baseline=\"middle\" fill=\"white\" font-family=\"Futura\" font-size=\"9.24\" text-anchor=\"middle\" x=\"198.0\" y=\"318.12\">-28</text><line stroke=\"red\" stroke-width=\"1.32\" x1=\"396.0\" x2=\"396.0\" y1=\"159.72\" y2=\"341.88\"/><text alignment-baseline=\"middle\" fill=\"black\" font-family=\"Futura\" font-size=\"9.24\" text-anchor=\"start\" x=\"533.28\" y=\"344.52\">25f</text><rect fill=\"red\" height=\"15.84\" width=\"23.76\" x=\"397.32\" y=\"335.28\"/><circle cx=\"396.0\" cy=\"343.2\" fill=\"red\" r=\"1.32\" stroke=\"red\" stroke-width=\"0\"/><circle cx=\"422.4\" cy=\"343.2\" fill=\"red\" r=\"1.32\" stroke=\"red\" stroke-width=\"0\"/><text alignment-baseline=\"middle\" fill=\"white\" font-family=\"Futura\" font-size=\"9.24\" text-anchor=\"middle\" x=\"409.2\" y=\"344.52\">-28</text><rect fill=\"red\" height=\"15.84\" width=\"23.76\" x=\"423.72\" y=\"335.28\"/><circle cx=\"422.4\" cy=\"343.2\" fill=\"red\" r=\"1.32\" stroke=\"red\" stroke-width=\"0\"/><circle cx=\"448.8\" cy=\"343.2\" fill=\"red\" r=\"1.32\" stroke=\"red\" stroke-width=\"0\"/><text alignment-baseline=\"middle\" fill=\"white\" font-family=\"Futura\" font-size=\"9.24\" text-anchor=\"middle\" x=\"435.6\" y=\"344.52\">-28</text><rect fill=\"red\" height=\"15.84\" width=\"23.76\" x=\"450.12\" y=\"335.28\"/><circle cx=\"448.8\" cy=\"343.2\" fill=\"red\" r=\"1.32\" stroke=\"red\" stroke-width=\"0\"/><circle cx=\"475.2\" cy=\"343.2\" fill=\"red\" r=\"1.32\" stroke=\"red\" stroke-width=\"0\"/><text alignment-baseline=\"middle\" fill=\"white\" font-family=\"Futura\" font-size=\"9.24\" text-anchor=\"middle\" x=\"462.0\" y=\"344.52\">-27</text><rect fill=\"red\" height=\"15.84\" width=\"23.76\" x=\"476.52\" y=\"335.28\"/><circle cx=\"475.2\" cy=\"343.2\" fill=\"red\" r=\"1.32\" stroke=\"red\" stroke-width=\"0\"/><circle cx=\"501.6\" cy=\"343.2\" fill=\"red\" r=\"1.32\" stroke=\"red\" stroke-width=\"0\"/><text alignment-baseline=\"middle\" fill=\"white\" font-family=\"Futura\" font-size=\"9.24\" text-anchor=\"middle\" x=\"488.4\" y=\"344.52\">-27</text><rect fill=\"red\" height=\"15.84\" width=\"23.76\" x=\"502.92\" y=\"335.28\"/><circle cx=\"501.6\" cy=\"343.2\" fill=\"red\" r=\"1.32\" stroke=\"red\" stroke-width=\"0\"/><circle cx=\"528.0\" cy=\"343.2\" fill=\"red\" r=\"1.32\" stroke=\"red\" stroke-width=\"0\"/><text alignment-baseline=\"middle\" fill=\"white\" font-family=\"Futura\" font-size=\"9.24\" text-anchor=\"middle\" x=\"514.8\" y=\"344.52\">-35</text><line stroke=\"red\" stroke-width=\"1.32\" x1=\"316.8\" x2=\"316.8\" y1=\"265.32\" y2=\"368.28\"/><text alignment-baseline=\"middle\" fill=\"black\" font-family=\"Futura\" font-size=\"9.24\" text-anchor=\"start\" x=\"533.28\" y=\"370.92\">26f</text><rect fill=\"red\" height=\"15.84\" width=\"23.76\" x=\"212.52\" y=\"361.68\"/><circle cx=\"211.2\" cy=\"369.6\" fill=\"red\" r=\"1.32\" stroke=\"red\" stroke-width=\"0\"/><circle cx=\"237.6\" cy=\"369.6\" fill=\"red\" r=\"1.32\" stroke=\"red\" stroke-width=\"0\"/><text alignment-baseline=\"middle\" fill=\"white\" font-family=\"Futura\" font-size=\"9.24\" text-anchor=\"middle\" x=\"224.4\" y=\"370.92\">-30</text><rect fill=\"red\" height=\"15.84\" width=\"23.76\" x=\"238.92\" y=\"361.68\"/><circle cx=\"237.6\" cy=\"369.6\" fill=\"red\" r=\"1.32\" stroke=\"red\" stroke-width=\"0\"/><circle cx=\"264.0\" cy=\"369.6\" fill=\"red\" r=\"1.32\" stroke=\"red\" stroke-width=\"0\"/><text alignment-baseline=\"middle\" fill=\"white\" font-family=\"Futura\" font-size=\"9.24\" text-anchor=\"middle\" x=\"250.8\" y=\"370.92\">-28</text><rect fill=\"red\" height=\"15.84\" width=\"23.76\" x=\"265.32\" y=\"361.68\"/><circle cx=\"264.0\" cy=\"369.6\" fill=\"red\" r=\"1.32\" stroke=\"red\" stroke-width=\"0\"/><circle cx=\"290.4\" cy=\"369.6\" fill=\"red\" r=\"1.32\" stroke=\"red\" stroke-width=\"0\"/><text alignment-baseline=\"middle\" fill=\"white\" font-family=\"Futura\" font-size=\"9.24\" text-anchor=\"middle\" x=\"277.2\" y=\"370.92\">-25</text><line stroke=\"red\" stroke-width=\"1.32\" x1=\"501.6\" x2=\"501.6\" y1=\"344.52\" y2=\"394.68\"/><text alignment-baseline=\"middle\" fill=\"black\" font-family=\"Futura\" font-size=\"9.24\" text-anchor=\"start\" x=\"533.28\" y=\"397.32\">27f</text><rect fill=\"red\" height=\"15.84\" width=\"23.76\" x=\"502.92\" y=\"388.08\"/><circle cx=\"501.6\" cy=\"396.0\" fill=\"red\" r=\"1.32\" stroke=\"red\" stroke-width=\"0\"/><circle cx=\"528.0\" cy=\"396.0\" fill=\"red\" r=\"1.32\" stroke=\"red\" stroke-width=\"0\"/><text alignment-baseline=\"middle\" fill=\"white\" font-family=\"Futura\" font-size=\"9.24\" text-anchor=\"middle\" x=\"514.8\" y=\"397.32\">-33</text><line stroke=\"red\" stroke-width=\"1.32\" x1=\"290.4\" x2=\"290.4\" y1=\"370.92\" y2=\"421.08\"/><text alignment-baseline=\"middle\" fill=\"black\" font-family=\"Futura\" font-size=\"9.24\" text-anchor=\"start\" x=\"533.28\" y=\"423.72\">28f</text><rect fill=\"red\" height=\"15.84\" width=\"23.76\" x=\"133.32\" y=\"414.48\"/><circle cx=\"132.0\" cy=\"422.4\" fill=\"red\" r=\"1.32\" stroke=\"red\" stroke-width=\"0\"/><circle cx=\"158.4\" cy=\"422.4\" fill=\"red\" r=\"1.32\" stroke=\"red\" stroke-width=\"0\"/><text alignment-baseline=\"middle\" fill=\"white\" font-family=\"Futura\" font-size=\"9.24\" text-anchor=\"middle\" x=\"145.2\" y=\"423.72\">-44</text><rect fill=\"red\" height=\"15.84\" width=\"23.76\" x=\"159.72\" y=\"414.48\"/><circle cx=\"158.4\" cy=\"422.4\" fill=\"red\" r=\"1.32\" stroke=\"red\" stroke-width=\"0\"/><circle cx=\"184.8\" cy=\"422.4\" fill=\"red\" r=\"1.32\" stroke=\"red\" stroke-width=\"0\"/><text alignment-baseline=\"middle\" fill=\"white\" font-family=\"Futura\" font-size=\"9.24\" text-anchor=\"middle\" x=\"171.6\" y=\"423.72\">-24</text><rect fill=\"red\" height=\"15.84\" width=\"23.76\" x=\"186.12\" y=\"414.48\"/><circle cx=\"184.8\" cy=\"422.4\" fill=\"red\" r=\"1.32\" stroke=\"red\" stroke-width=\"0\"/><circle cx=\"211.2\" cy=\"422.4\" fill=\"red\" r=\"1.32\" stroke=\"red\" stroke-width=\"0\"/><text alignment-baseline=\"middle\" fill=\"white\" font-family=\"Futura\" font-size=\"9.24\" text-anchor=\"middle\" x=\"198.0\" y=\"423.72\">-29</text><rect fill=\"red\" height=\"15.84\" width=\"23.76\" x=\"212.52\" y=\"414.48\"/><circle cx=\"211.2\" cy=\"422.4\" fill=\"red\" r=\"1.32\" stroke=\"red\" stroke-width=\"0\"/><circle cx=\"237.6\" cy=\"422.4\" fill=\"red\" r=\"1.32\" stroke=\"red\" stroke-width=\"0\"/><text alignment-baseline=\"middle\" fill=\"white\" font-family=\"Futura\" font-size=\"9.24\" text-anchor=\"middle\" x=\"224.4\" y=\"423.72\">-26</text><rect fill=\"red\" height=\"15.84\" width=\"23.76\" x=\"238.92\" y=\"414.48\"/><circle cx=\"237.6\" cy=\"422.4\" fill=\"red\" r=\"1.32\" stroke=\"red\" stroke-width=\"0\"/><circle cx=\"264.0\" cy=\"422.4\" fill=\"red\" r=\"1.32\" stroke=\"red\" stroke-width=\"0\"/><text alignment-baseline=\"middle\" fill=\"white\" font-family=\"Futura\" font-size=\"9.24\" text-anchor=\"middle\" x=\"250.8\" y=\"423.72\">-22</text></svg>"
       ],
       "text": [
        "<IPython.core.display.SVG at 0x112843050>"
       ]
      }
     ],
     "prompt_number": 30
    },
    {
     "cell_type": "markdown",
     "metadata": {},
     "source": [
      "An alternate view which is similar to the standard way of plotting"
     ]
    },
    {
     "cell_type": "code",
     "collapsed": false,
     "input": [
      "tree.rejected = False\n",
      "tree.states = []\n",
      "tree.op = None\n",
      "samples = storage.sample.by_ensemble(storage.ensemble.load(1))\n",
      "tree.from_samples(samples)\n",
      "view = tree.renderer\n",
      "view.zoom = 1.1\n",
      "view.horizontal_gap = -0.01\n",
      "view.scale_y = 15\n",
      "view.scale_x = 24\n",
      "view.font_size = 0.8\n",
      "view.font_family = 'Times'\n",
      "SVG(view.to_svg())"
     ],
     "language": "python",
     "metadata": {},
     "outputs": [
      {
       "metadata": {},
       "output_type": "pyout",
       "prompt_number": 31,
       "svg": [
        "<svg baseProfile=\"full\" height=\"280.5px\" version=\"1.1\" width=\"554.4px\" xmlns=\"http://www.w3.org/2000/svg\" xmlns:ev=\"http://www.w3.org/2001/xml-events\" xmlns:xlink=\"http://www.w3.org/1999/xlink\"><defs/><rect fill=\"black\" height=\"9.9\" width=\"26.928\" x=\"290.136\" y=\"11.55\"/><circle cx=\"290.4\" cy=\"16.5\" fill=\"black\" r=\"-0.264\" stroke=\"black\" stroke-width=\"0\"/><circle cx=\"316.8\" cy=\"16.5\" fill=\"black\" r=\"-0.264\" stroke=\"black\" stroke-width=\"0\"/><text alignment-baseline=\"middle\" fill=\"white\" font-family=\"Times\" font-size=\"13.2\" text-anchor=\"middle\" x=\"303.6\" y=\"17.325\"/><rect fill=\"black\" height=\"9.9\" width=\"26.928\" x=\"316.536\" y=\"11.55\"/><circle cx=\"316.8\" cy=\"16.5\" fill=\"black\" r=\"-0.264\" stroke=\"black\" stroke-width=\"0\"/><circle cx=\"343.2\" cy=\"16.5\" fill=\"black\" r=\"-0.264\" stroke=\"black\" stroke-width=\"0\"/><text alignment-baseline=\"middle\" fill=\"white\" font-family=\"Times\" font-size=\"13.2\" text-anchor=\"middle\" x=\"330.0\" y=\"17.325\"/><rect fill=\"black\" height=\"9.9\" width=\"26.928\" x=\"342.936\" y=\"11.55\"/><circle cx=\"343.2\" cy=\"16.5\" fill=\"black\" r=\"-0.264\" stroke=\"black\" stroke-width=\"0\"/><circle cx=\"369.6\" cy=\"16.5\" fill=\"black\" r=\"-0.264\" stroke=\"black\" stroke-width=\"0\"/><text alignment-baseline=\"middle\" fill=\"white\" font-family=\"Times\" font-size=\"13.2\" text-anchor=\"middle\" x=\"356.4\" y=\"17.325\"/><rect fill=\"black\" height=\"9.9\" width=\"26.928\" x=\"369.336\" y=\"11.55\"/><circle cx=\"369.6\" cy=\"16.5\" fill=\"black\" r=\"-0.264\" stroke=\"black\" stroke-width=\"0\"/><circle cx=\"396.0\" cy=\"16.5\" fill=\"black\" r=\"-0.264\" stroke=\"black\" stroke-width=\"0\"/><text alignment-baseline=\"middle\" fill=\"white\" font-family=\"Times\" font-size=\"13.2\" text-anchor=\"middle\" x=\"382.8\" y=\"17.325\"/><rect fill=\"black\" height=\"9.9\" width=\"26.928\" x=\"395.736\" y=\"11.55\"/><circle cx=\"396.0\" cy=\"16.5\" fill=\"black\" r=\"-0.264\" stroke=\"black\" stroke-width=\"0\"/><circle cx=\"422.4\" cy=\"16.5\" fill=\"black\" r=\"-0.264\" stroke=\"black\" stroke-width=\"0\"/><text alignment-baseline=\"middle\" fill=\"white\" font-family=\"Times\" font-size=\"13.2\" text-anchor=\"middle\" x=\"409.2\" y=\"17.325\"/><rect fill=\"black\" height=\"9.9\" width=\"26.928\" x=\"422.136\" y=\"11.55\"/><circle cx=\"422.4\" cy=\"16.5\" fill=\"black\" r=\"-0.264\" stroke=\"black\" stroke-width=\"0\"/><circle cx=\"448.8\" cy=\"16.5\" fill=\"black\" r=\"-0.264\" stroke=\"black\" stroke-width=\"0\"/><text alignment-baseline=\"middle\" fill=\"white\" font-family=\"Times\" font-size=\"13.2\" text-anchor=\"middle\" x=\"435.6\" y=\"17.325\"/><text alignment-baseline=\"middle\" fill=\"black\" font-family=\"Times\" font-size=\"13.2\" text-anchor=\"end\" x=\"285.12\" y=\"17.325\">9b</text><line stroke=\"red\" stroke-width=\"1.32\" x1=\"422.4\" x2=\"422.4\" y1=\"16.335\" y2=\"33.165\"/><text alignment-baseline=\"middle\" fill=\"black\" font-family=\"Times\" font-size=\"13.2\" text-anchor=\"start\" x=\"454.08\" y=\"33.825\">11f</text><rect fill=\"red\" height=\"9.9\" width=\"26.928\" x=\"290.136\" y=\"28.05\"/><circle cx=\"290.4\" cy=\"33.0\" fill=\"red\" r=\"-0.264\" stroke=\"red\" stroke-width=\"0\"/><circle cx=\"316.8\" cy=\"33.0\" fill=\"red\" r=\"-0.264\" stroke=\"red\" stroke-width=\"0\"/><text alignment-baseline=\"middle\" fill=\"white\" font-family=\"Times\" font-size=\"13.2\" text-anchor=\"middle\" x=\"303.6\" y=\"33.825\"/><rect fill=\"red\" height=\"9.9\" width=\"26.928\" x=\"316.536\" y=\"28.05\"/><circle cx=\"316.8\" cy=\"33.0\" fill=\"red\" r=\"-0.264\" stroke=\"red\" stroke-width=\"0\"/><circle cx=\"343.2\" cy=\"33.0\" fill=\"red\" r=\"-0.264\" stroke=\"red\" stroke-width=\"0\"/><text alignment-baseline=\"middle\" fill=\"white\" font-family=\"Times\" font-size=\"13.2\" text-anchor=\"middle\" x=\"330.0\" y=\"33.825\"/><rect fill=\"red\" height=\"9.9\" width=\"26.928\" x=\"342.936\" y=\"28.05\"/><circle cx=\"343.2\" cy=\"33.0\" fill=\"red\" r=\"-0.264\" stroke=\"red\" stroke-width=\"0\"/><circle cx=\"369.6\" cy=\"33.0\" fill=\"red\" r=\"-0.264\" stroke=\"red\" stroke-width=\"0\"/><text alignment-baseline=\"middle\" fill=\"white\" font-family=\"Times\" font-size=\"13.2\" text-anchor=\"middle\" x=\"356.4\" y=\"33.825\"/><rect fill=\"red\" height=\"9.9\" width=\"26.928\" x=\"369.336\" y=\"28.05\"/><circle cx=\"369.6\" cy=\"33.0\" fill=\"red\" r=\"-0.264\" stroke=\"red\" stroke-width=\"0\"/><circle cx=\"396.0\" cy=\"33.0\" fill=\"red\" r=\"-0.264\" stroke=\"red\" stroke-width=\"0\"/><text alignment-baseline=\"middle\" fill=\"white\" font-family=\"Times\" font-size=\"13.2\" text-anchor=\"middle\" x=\"382.8\" y=\"33.825\"/><line stroke=\"red\" stroke-width=\"1.32\" x1=\"369.6\" x2=\"369.6\" y1=\"32.835\" y2=\"49.665\"/><text alignment-baseline=\"middle\" fill=\"black\" font-family=\"Times\" font-size=\"13.2\" text-anchor=\"start\" x=\"427.68\" y=\"50.325\">13f</text><rect fill=\"red\" height=\"9.9\" width=\"26.928\" x=\"369.336\" y=\"44.55\"/><circle cx=\"369.6\" cy=\"49.5\" fill=\"red\" r=\"-0.264\" stroke=\"red\" stroke-width=\"0\"/><circle cx=\"396.0\" cy=\"49.5\" fill=\"red\" r=\"-0.264\" stroke=\"red\" stroke-width=\"0\"/><text alignment-baseline=\"middle\" fill=\"white\" font-family=\"Times\" font-size=\"13.2\" text-anchor=\"middle\" x=\"382.8\" y=\"50.325\"/><rect fill=\"red\" height=\"9.9\" width=\"26.928\" x=\"395.736\" y=\"44.55\"/><circle cx=\"396.0\" cy=\"49.5\" fill=\"red\" r=\"-0.264\" stroke=\"red\" stroke-width=\"0\"/><circle cx=\"422.4\" cy=\"49.5\" fill=\"red\" r=\"-0.264\" stroke=\"red\" stroke-width=\"0\"/><text alignment-baseline=\"middle\" fill=\"white\" font-family=\"Times\" font-size=\"13.2\" text-anchor=\"middle\" x=\"409.2\" y=\"50.325\"/><line stroke=\"red\" stroke-width=\"1.32\" x1=\"396.0\" x2=\"396.0\" y1=\"49.335\" y2=\"66.165\"/><text alignment-baseline=\"middle\" fill=\"black\" font-family=\"Times\" font-size=\"13.2\" text-anchor=\"start\" x=\"427.68\" y=\"66.825\">14f</text><rect fill=\"red\" height=\"9.9\" width=\"26.928\" x=\"395.736\" y=\"61.05\"/><circle cx=\"396.0\" cy=\"66.0\" fill=\"red\" r=\"-0.264\" stroke=\"red\" stroke-width=\"0\"/><circle cx=\"422.4\" cy=\"66.0\" fill=\"red\" r=\"-0.264\" stroke=\"red\" stroke-width=\"0\"/><text alignment-baseline=\"middle\" fill=\"white\" font-family=\"Times\" font-size=\"13.2\" text-anchor=\"middle\" x=\"409.2\" y=\"66.825\"/><line stroke=\"red\" stroke-width=\"1.32\" x1=\"396.0\" x2=\"396.0\" y1=\"49.335\" y2=\"82.665\"/><text alignment-baseline=\"middle\" fill=\"black\" font-family=\"Times\" font-size=\"13.2\" text-anchor=\"start\" x=\"427.68\" y=\"83.325\">15f</text><rect fill=\"red\" height=\"9.9\" width=\"26.928\" x=\"395.736\" y=\"77.55\"/><circle cx=\"396.0\" cy=\"82.5\" fill=\"red\" r=\"-0.264\" stroke=\"red\" stroke-width=\"0\"/><circle cx=\"422.4\" cy=\"82.5\" fill=\"red\" r=\"-0.264\" stroke=\"red\" stroke-width=\"0\"/><text alignment-baseline=\"middle\" fill=\"white\" font-family=\"Times\" font-size=\"13.2\" text-anchor=\"middle\" x=\"409.2\" y=\"83.325\"/><line stroke=\"red\" stroke-width=\"1.32\" x1=\"369.6\" x2=\"369.6\" y1=\"32.835\" y2=\"99.165\"/><text alignment-baseline=\"middle\" fill=\"black\" font-family=\"Times\" font-size=\"13.2\" text-anchor=\"start\" x=\"427.68\" y=\"99.825\">16f</text><rect fill=\"red\" height=\"9.9\" width=\"26.928\" x=\"369.336\" y=\"94.05\"/><circle cx=\"369.6\" cy=\"99.0\" fill=\"red\" r=\"-0.264\" stroke=\"red\" stroke-width=\"0\"/><circle cx=\"396.0\" cy=\"99.0\" fill=\"red\" r=\"-0.264\" stroke=\"red\" stroke-width=\"0\"/><text alignment-baseline=\"middle\" fill=\"white\" font-family=\"Times\" font-size=\"13.2\" text-anchor=\"middle\" x=\"382.8\" y=\"99.825\"/><rect fill=\"red\" height=\"9.9\" width=\"26.928\" x=\"395.736\" y=\"94.05\"/><circle cx=\"396.0\" cy=\"99.0\" fill=\"red\" r=\"-0.264\" stroke=\"red\" stroke-width=\"0\"/><circle cx=\"422.4\" cy=\"99.0\" fill=\"red\" r=\"-0.264\" stroke=\"red\" stroke-width=\"0\"/><text alignment-baseline=\"middle\" fill=\"white\" font-family=\"Times\" font-size=\"13.2\" text-anchor=\"middle\" x=\"409.2\" y=\"99.825\"/><line stroke=\"red\" stroke-width=\"1.32\" x1=\"369.6\" x2=\"369.6\" y1=\"32.835\" y2=\"115.665\"/><text alignment-baseline=\"middle\" fill=\"black\" font-family=\"Times\" font-size=\"13.2\" text-anchor=\"start\" x=\"427.68\" y=\"116.325\">17f</text><rect fill=\"red\" height=\"9.9\" width=\"26.928\" x=\"316.536\" y=\"110.55\"/><circle cx=\"316.8\" cy=\"115.5\" fill=\"red\" r=\"-0.264\" stroke=\"red\" stroke-width=\"0\"/><circle cx=\"343.2\" cy=\"115.5\" fill=\"red\" r=\"-0.264\" stroke=\"red\" stroke-width=\"0\"/><text alignment-baseline=\"middle\" fill=\"white\" font-family=\"Times\" font-size=\"13.2\" text-anchor=\"middle\" x=\"330.0\" y=\"116.325\"/><line stroke=\"red\" stroke-width=\"1.32\" x1=\"396.0\" x2=\"396.0\" y1=\"98.835\" y2=\"132.165\"/><text alignment-baseline=\"middle\" fill=\"black\" font-family=\"Times\" font-size=\"13.2\" text-anchor=\"start\" x=\"427.68\" y=\"132.825\">19f</text><rect fill=\"red\" height=\"9.9\" width=\"26.928\" x=\"395.736\" y=\"127.05\"/><circle cx=\"396.0\" cy=\"132.0\" fill=\"red\" r=\"-0.264\" stroke=\"red\" stroke-width=\"0\"/><circle cx=\"422.4\" cy=\"132.0\" fill=\"red\" r=\"-0.264\" stroke=\"red\" stroke-width=\"0\"/><text alignment-baseline=\"middle\" fill=\"white\" font-family=\"Times\" font-size=\"13.2\" text-anchor=\"middle\" x=\"409.2\" y=\"132.825\"/><line stroke=\"red\" stroke-width=\"1.32\" x1=\"396.0\" x2=\"396.0\" y1=\"98.835\" y2=\"148.665\"/><text alignment-baseline=\"middle\" fill=\"black\" font-family=\"Times\" font-size=\"13.2\" text-anchor=\"start\" x=\"427.68\" y=\"149.325\">20f</text><rect fill=\"red\" height=\"9.9\" width=\"26.928\" x=\"395.736\" y=\"143.55\"/><circle cx=\"396.0\" cy=\"148.5\" fill=\"red\" r=\"-0.264\" stroke=\"red\" stroke-width=\"0\"/><circle cx=\"422.4\" cy=\"148.5\" fill=\"red\" r=\"-0.264\" stroke=\"red\" stroke-width=\"0\"/><text alignment-baseline=\"middle\" fill=\"white\" font-family=\"Times\" font-size=\"13.2\" text-anchor=\"middle\" x=\"409.2\" y=\"149.325\"/><line stroke=\"red\" stroke-width=\"1.32\" x1=\"396.0\" x2=\"396.0\" y1=\"98.835\" y2=\"165.165\"/><text alignment-baseline=\"middle\" fill=\"black\" font-family=\"Times\" font-size=\"13.2\" text-anchor=\"start\" x=\"427.68\" y=\"165.825\">21f</text><rect fill=\"red\" height=\"9.9\" width=\"26.928\" x=\"158.136\" y=\"160.05\"/><circle cx=\"158.4\" cy=\"165.0\" fill=\"red\" r=\"-0.264\" stroke=\"red\" stroke-width=\"0\"/><circle cx=\"184.8\" cy=\"165.0\" fill=\"red\" r=\"-0.264\" stroke=\"red\" stroke-width=\"0\"/><text alignment-baseline=\"middle\" fill=\"white\" font-family=\"Times\" font-size=\"13.2\" text-anchor=\"middle\" x=\"171.6\" y=\"165.825\"/><rect fill=\"red\" height=\"9.9\" width=\"26.928\" x=\"184.536\" y=\"160.05\"/><circle cx=\"184.8\" cy=\"165.0\" fill=\"red\" r=\"-0.264\" stroke=\"red\" stroke-width=\"0\"/><circle cx=\"211.2\" cy=\"165.0\" fill=\"red\" r=\"-0.264\" stroke=\"red\" stroke-width=\"0\"/><text alignment-baseline=\"middle\" fill=\"white\" font-family=\"Times\" font-size=\"13.2\" text-anchor=\"middle\" x=\"198.0\" y=\"165.825\"/><rect fill=\"red\" height=\"9.9\" width=\"26.928\" x=\"210.936\" y=\"160.05\"/><circle cx=\"211.2\" cy=\"165.0\" fill=\"red\" r=\"-0.264\" stroke=\"red\" stroke-width=\"0\"/><circle cx=\"237.6\" cy=\"165.0\" fill=\"red\" r=\"-0.264\" stroke=\"red\" stroke-width=\"0\"/><text alignment-baseline=\"middle\" fill=\"white\" font-family=\"Times\" font-size=\"13.2\" text-anchor=\"middle\" x=\"224.4\" y=\"165.825\"/><rect fill=\"red\" height=\"9.9\" width=\"26.928\" x=\"237.336\" y=\"160.05\"/><circle cx=\"237.6\" cy=\"165.0\" fill=\"red\" r=\"-0.264\" stroke=\"red\" stroke-width=\"0\"/><circle cx=\"264.0\" cy=\"165.0\" fill=\"red\" r=\"-0.264\" stroke=\"red\" stroke-width=\"0\"/><text alignment-baseline=\"middle\" fill=\"white\" font-family=\"Times\" font-size=\"13.2\" text-anchor=\"middle\" x=\"250.8\" y=\"165.825\"/><rect fill=\"red\" height=\"9.9\" width=\"26.928\" x=\"263.736\" y=\"160.05\"/><circle cx=\"264.0\" cy=\"165.0\" fill=\"red\" r=\"-0.264\" stroke=\"red\" stroke-width=\"0\"/><circle cx=\"290.4\" cy=\"165.0\" fill=\"red\" r=\"-0.264\" stroke=\"red\" stroke-width=\"0\"/><text alignment-baseline=\"middle\" fill=\"white\" font-family=\"Times\" font-size=\"13.2\" text-anchor=\"middle\" x=\"277.2\" y=\"165.825\"/><rect fill=\"red\" height=\"9.9\" width=\"26.928\" x=\"290.136\" y=\"160.05\"/><circle cx=\"290.4\" cy=\"165.0\" fill=\"red\" r=\"-0.264\" stroke=\"red\" stroke-width=\"0\"/><circle cx=\"316.8\" cy=\"165.0\" fill=\"red\" r=\"-0.264\" stroke=\"red\" stroke-width=\"0\"/><text alignment-baseline=\"middle\" fill=\"white\" font-family=\"Times\" font-size=\"13.2\" text-anchor=\"middle\" x=\"303.6\" y=\"165.825\"/><rect fill=\"red\" height=\"9.9\" width=\"26.928\" x=\"316.536\" y=\"160.05\"/><circle cx=\"316.8\" cy=\"165.0\" fill=\"red\" r=\"-0.264\" stroke=\"red\" stroke-width=\"0\"/><circle cx=\"343.2\" cy=\"165.0\" fill=\"red\" r=\"-0.264\" stroke=\"red\" stroke-width=\"0\"/><text alignment-baseline=\"middle\" fill=\"white\" font-family=\"Times\" font-size=\"13.2\" text-anchor=\"middle\" x=\"330.0\" y=\"165.825\"/><rect fill=\"red\" height=\"9.9\" width=\"26.928\" x=\"342.936\" y=\"160.05\"/><circle cx=\"343.2\" cy=\"165.0\" fill=\"red\" r=\"-0.264\" stroke=\"red\" stroke-width=\"0\"/><circle cx=\"369.6\" cy=\"165.0\" fill=\"red\" r=\"-0.264\" stroke=\"red\" stroke-width=\"0\"/><text alignment-baseline=\"middle\" fill=\"white\" font-family=\"Times\" font-size=\"13.2\" text-anchor=\"middle\" x=\"356.4\" y=\"165.825\"/><line stroke=\"red\" stroke-width=\"1.32\" x1=\"211.2\" x2=\"211.2\" y1=\"164.835\" y2=\"181.665\"/><text alignment-baseline=\"middle\" fill=\"black\" font-family=\"Times\" font-size=\"13.2\" text-anchor=\"start\" x=\"427.68\" y=\"182.325\">23f</text><rect fill=\"red\" height=\"9.9\" width=\"26.928\" x=\"158.136\" y=\"176.55\"/><circle cx=\"158.4\" cy=\"181.5\" fill=\"red\" r=\"-0.264\" stroke=\"red\" stroke-width=\"0\"/><circle cx=\"184.8\" cy=\"181.5\" fill=\"red\" r=\"-0.264\" stroke=\"red\" stroke-width=\"0\"/><text alignment-baseline=\"middle\" fill=\"white\" font-family=\"Times\" font-size=\"13.2\" text-anchor=\"middle\" x=\"171.6\" y=\"182.325\"/><line stroke=\"red\" stroke-width=\"1.32\" x1=\"237.6\" x2=\"237.6\" y1=\"164.835\" y2=\"198.165\"/><text alignment-baseline=\"middle\" fill=\"black\" font-family=\"Times\" font-size=\"13.2\" text-anchor=\"start\" x=\"427.68\" y=\"198.825\">24f</text><rect fill=\"red\" height=\"9.9\" width=\"26.928\" x=\"26.136\" y=\"193.05\"/><circle cx=\"26.4\" cy=\"198.0\" fill=\"red\" r=\"-0.264\" stroke=\"red\" stroke-width=\"0\"/><circle cx=\"52.8\" cy=\"198.0\" fill=\"red\" r=\"-0.264\" stroke=\"red\" stroke-width=\"0\"/><text alignment-baseline=\"middle\" fill=\"white\" font-family=\"Times\" font-size=\"13.2\" text-anchor=\"middle\" x=\"39.6\" y=\"198.825\"/><rect fill=\"red\" height=\"9.9\" width=\"26.928\" x=\"52.536\" y=\"193.05\"/><circle cx=\"52.8\" cy=\"198.0\" fill=\"red\" r=\"-0.264\" stroke=\"red\" stroke-width=\"0\"/><circle cx=\"79.2\" cy=\"198.0\" fill=\"red\" r=\"-0.264\" stroke=\"red\" stroke-width=\"0\"/><text alignment-baseline=\"middle\" fill=\"white\" font-family=\"Times\" font-size=\"13.2\" text-anchor=\"middle\" x=\"66.0\" y=\"198.825\"/><rect fill=\"red\" height=\"9.9\" width=\"26.928\" x=\"78.936\" y=\"193.05\"/><circle cx=\"79.2\" cy=\"198.0\" fill=\"red\" r=\"-0.264\" stroke=\"red\" stroke-width=\"0\"/><circle cx=\"105.6\" cy=\"198.0\" fill=\"red\" r=\"-0.264\" stroke=\"red\" stroke-width=\"0\"/><text alignment-baseline=\"middle\" fill=\"white\" font-family=\"Times\" font-size=\"13.2\" text-anchor=\"middle\" x=\"92.4\" y=\"198.825\"/><rect fill=\"red\" height=\"9.9\" width=\"26.928\" x=\"105.336\" y=\"193.05\"/><circle cx=\"105.6\" cy=\"198.0\" fill=\"red\" r=\"-0.264\" stroke=\"red\" stroke-width=\"0\"/><circle cx=\"132.0\" cy=\"198.0\" fill=\"red\" r=\"-0.264\" stroke=\"red\" stroke-width=\"0\"/><text alignment-baseline=\"middle\" fill=\"white\" font-family=\"Times\" font-size=\"13.2\" text-anchor=\"middle\" x=\"118.8\" y=\"198.825\"/><rect fill=\"red\" height=\"9.9\" width=\"26.928\" x=\"131.736\" y=\"193.05\"/><circle cx=\"132.0\" cy=\"198.0\" fill=\"red\" r=\"-0.264\" stroke=\"red\" stroke-width=\"0\"/><circle cx=\"158.4\" cy=\"198.0\" fill=\"red\" r=\"-0.264\" stroke=\"red\" stroke-width=\"0\"/><text alignment-baseline=\"middle\" fill=\"white\" font-family=\"Times\" font-size=\"13.2\" text-anchor=\"middle\" x=\"145.2\" y=\"198.825\"/><rect fill=\"red\" height=\"9.9\" width=\"26.928\" x=\"158.136\" y=\"193.05\"/><circle cx=\"158.4\" cy=\"198.0\" fill=\"red\" r=\"-0.264\" stroke=\"red\" stroke-width=\"0\"/><circle cx=\"184.8\" cy=\"198.0\" fill=\"red\" r=\"-0.264\" stroke=\"red\" stroke-width=\"0\"/><text alignment-baseline=\"middle\" fill=\"white\" font-family=\"Times\" font-size=\"13.2\" text-anchor=\"middle\" x=\"171.6\" y=\"198.825\"/><rect fill=\"red\" height=\"9.9\" width=\"26.928\" x=\"184.536\" y=\"193.05\"/><circle cx=\"184.8\" cy=\"198.0\" fill=\"red\" r=\"-0.264\" stroke=\"red\" stroke-width=\"0\"/><circle cx=\"211.2\" cy=\"198.0\" fill=\"red\" r=\"-0.264\" stroke=\"red\" stroke-width=\"0\"/><text alignment-baseline=\"middle\" fill=\"white\" font-family=\"Times\" font-size=\"13.2\" text-anchor=\"middle\" x=\"198.0\" y=\"198.825\"/><line stroke=\"red\" stroke-width=\"1.32\" x1=\"396.0\" x2=\"396.0\" y1=\"98.835\" y2=\"214.665\"/><text alignment-baseline=\"middle\" fill=\"black\" font-family=\"Times\" font-size=\"13.2\" text-anchor=\"start\" x=\"533.28\" y=\"215.325\">25f</text><rect fill=\"red\" height=\"9.9\" width=\"26.928\" x=\"395.736\" y=\"209.55\"/><circle cx=\"396.0\" cy=\"214.5\" fill=\"red\" r=\"-0.264\" stroke=\"red\" stroke-width=\"0\"/><circle cx=\"422.4\" cy=\"214.5\" fill=\"red\" r=\"-0.264\" stroke=\"red\" stroke-width=\"0\"/><text alignment-baseline=\"middle\" fill=\"white\" font-family=\"Times\" font-size=\"13.2\" text-anchor=\"middle\" x=\"409.2\" y=\"215.325\"/><rect fill=\"red\" height=\"9.9\" width=\"26.928\" x=\"422.136\" y=\"209.55\"/><circle cx=\"422.4\" cy=\"214.5\" fill=\"red\" r=\"-0.264\" stroke=\"red\" stroke-width=\"0\"/><circle cx=\"448.8\" cy=\"214.5\" fill=\"red\" r=\"-0.264\" stroke=\"red\" stroke-width=\"0\"/><text alignment-baseline=\"middle\" fill=\"white\" font-family=\"Times\" font-size=\"13.2\" text-anchor=\"middle\" x=\"435.6\" y=\"215.325\"/><rect fill=\"red\" height=\"9.9\" width=\"26.928\" x=\"448.536\" y=\"209.55\"/><circle cx=\"448.8\" cy=\"214.5\" fill=\"red\" r=\"-0.264\" stroke=\"red\" stroke-width=\"0\"/><circle cx=\"475.2\" cy=\"214.5\" fill=\"red\" r=\"-0.264\" stroke=\"red\" stroke-width=\"0\"/><text alignment-baseline=\"middle\" fill=\"white\" font-family=\"Times\" font-size=\"13.2\" text-anchor=\"middle\" x=\"462.0\" y=\"215.325\"/><rect fill=\"red\" height=\"9.9\" width=\"26.928\" x=\"474.936\" y=\"209.55\"/><circle cx=\"475.2\" cy=\"214.5\" fill=\"red\" r=\"-0.264\" stroke=\"red\" stroke-width=\"0\"/><circle cx=\"501.6\" cy=\"214.5\" fill=\"red\" r=\"-0.264\" stroke=\"red\" stroke-width=\"0\"/><text alignment-baseline=\"middle\" fill=\"white\" font-family=\"Times\" font-size=\"13.2\" text-anchor=\"middle\" x=\"488.4\" y=\"215.325\"/><rect fill=\"red\" height=\"9.9\" width=\"26.928\" x=\"501.336\" y=\"209.55\"/><circle cx=\"501.6\" cy=\"214.5\" fill=\"red\" r=\"-0.264\" stroke=\"red\" stroke-width=\"0\"/><circle cx=\"528.0\" cy=\"214.5\" fill=\"red\" r=\"-0.264\" stroke=\"red\" stroke-width=\"0\"/><text alignment-baseline=\"middle\" fill=\"white\" font-family=\"Times\" font-size=\"13.2\" text-anchor=\"middle\" x=\"514.8\" y=\"215.325\"/><line stroke=\"red\" stroke-width=\"1.32\" x1=\"316.8\" x2=\"316.8\" y1=\"164.835\" y2=\"231.165\"/><text alignment-baseline=\"middle\" fill=\"black\" font-family=\"Times\" font-size=\"13.2\" text-anchor=\"start\" x=\"533.28\" y=\"231.825\">26f</text><rect fill=\"red\" height=\"9.9\" width=\"26.928\" x=\"210.936\" y=\"226.05\"/><circle cx=\"211.2\" cy=\"231.0\" fill=\"red\" r=\"-0.264\" stroke=\"red\" stroke-width=\"0\"/><circle cx=\"237.6\" cy=\"231.0\" fill=\"red\" r=\"-0.264\" stroke=\"red\" stroke-width=\"0\"/><text alignment-baseline=\"middle\" fill=\"white\" font-family=\"Times\" font-size=\"13.2\" text-anchor=\"middle\" x=\"224.4\" y=\"231.825\"/><rect fill=\"red\" height=\"9.9\" width=\"26.928\" x=\"237.336\" y=\"226.05\"/><circle cx=\"237.6\" cy=\"231.0\" fill=\"red\" r=\"-0.264\" stroke=\"red\" stroke-width=\"0\"/><circle cx=\"264.0\" cy=\"231.0\" fill=\"red\" r=\"-0.264\" stroke=\"red\" stroke-width=\"0\"/><text alignment-baseline=\"middle\" fill=\"white\" font-family=\"Times\" font-size=\"13.2\" text-anchor=\"middle\" x=\"250.8\" y=\"231.825\"/><rect fill=\"red\" height=\"9.9\" width=\"26.928\" x=\"263.736\" y=\"226.05\"/><circle cx=\"264.0\" cy=\"231.0\" fill=\"red\" r=\"-0.264\" stroke=\"red\" stroke-width=\"0\"/><circle cx=\"290.4\" cy=\"231.0\" fill=\"red\" r=\"-0.264\" stroke=\"red\" stroke-width=\"0\"/><text alignment-baseline=\"middle\" fill=\"white\" font-family=\"Times\" font-size=\"13.2\" text-anchor=\"middle\" x=\"277.2\" y=\"231.825\"/><line stroke=\"red\" stroke-width=\"1.32\" x1=\"501.6\" x2=\"501.6\" y1=\"214.335\" y2=\"247.665\"/><text alignment-baseline=\"middle\" fill=\"black\" font-family=\"Times\" font-size=\"13.2\" text-anchor=\"start\" x=\"533.28\" y=\"248.325\">27f</text><rect fill=\"red\" height=\"9.9\" width=\"26.928\" x=\"501.336\" y=\"242.55\"/><circle cx=\"501.6\" cy=\"247.5\" fill=\"red\" r=\"-0.264\" stroke=\"red\" stroke-width=\"0\"/><circle cx=\"528.0\" cy=\"247.5\" fill=\"red\" r=\"-0.264\" stroke=\"red\" stroke-width=\"0\"/><text alignment-baseline=\"middle\" fill=\"white\" font-family=\"Times\" font-size=\"13.2\" text-anchor=\"middle\" x=\"514.8\" y=\"248.325\"/><line stroke=\"red\" stroke-width=\"1.32\" x1=\"290.4\" x2=\"290.4\" y1=\"230.835\" y2=\"264.165\"/><text alignment-baseline=\"middle\" fill=\"black\" font-family=\"Times\" font-size=\"13.2\" text-anchor=\"start\" x=\"533.28\" y=\"264.825\">28f</text><rect fill=\"red\" height=\"9.9\" width=\"26.928\" x=\"131.736\" y=\"259.05\"/><circle cx=\"132.0\" cy=\"264.0\" fill=\"red\" r=\"-0.264\" stroke=\"red\" stroke-width=\"0\"/><circle cx=\"158.4\" cy=\"264.0\" fill=\"red\" r=\"-0.264\" stroke=\"red\" stroke-width=\"0\"/><text alignment-baseline=\"middle\" fill=\"white\" font-family=\"Times\" font-size=\"13.2\" text-anchor=\"middle\" x=\"145.2\" y=\"264.825\"/><rect fill=\"red\" height=\"9.9\" width=\"26.928\" x=\"158.136\" y=\"259.05\"/><circle cx=\"158.4\" cy=\"264.0\" fill=\"red\" r=\"-0.264\" stroke=\"red\" stroke-width=\"0\"/><circle cx=\"184.8\" cy=\"264.0\" fill=\"red\" r=\"-0.264\" stroke=\"red\" stroke-width=\"0\"/><text alignment-baseline=\"middle\" fill=\"white\" font-family=\"Times\" font-size=\"13.2\" text-anchor=\"middle\" x=\"171.6\" y=\"264.825\"/><rect fill=\"red\" height=\"9.9\" width=\"26.928\" x=\"184.536\" y=\"259.05\"/><circle cx=\"184.8\" cy=\"264.0\" fill=\"red\" r=\"-0.264\" stroke=\"red\" stroke-width=\"0\"/><circle cx=\"211.2\" cy=\"264.0\" fill=\"red\" r=\"-0.264\" stroke=\"red\" stroke-width=\"0\"/><text alignment-baseline=\"middle\" fill=\"white\" font-family=\"Times\" font-size=\"13.2\" text-anchor=\"middle\" x=\"198.0\" y=\"264.825\"/><rect fill=\"red\" height=\"9.9\" width=\"26.928\" x=\"210.936\" y=\"259.05\"/><circle cx=\"211.2\" cy=\"264.0\" fill=\"red\" r=\"-0.264\" stroke=\"red\" stroke-width=\"0\"/><circle cx=\"237.6\" cy=\"264.0\" fill=\"red\" r=\"-0.264\" stroke=\"red\" stroke-width=\"0\"/><text alignment-baseline=\"middle\" fill=\"white\" font-family=\"Times\" font-size=\"13.2\" text-anchor=\"middle\" x=\"224.4\" y=\"264.825\"/><rect fill=\"red\" height=\"9.9\" width=\"26.928\" x=\"237.336\" y=\"259.05\"/><circle cx=\"237.6\" cy=\"264.0\" fill=\"red\" r=\"-0.264\" stroke=\"red\" stroke-width=\"0\"/><circle cx=\"264.0\" cy=\"264.0\" fill=\"red\" r=\"-0.264\" stroke=\"red\" stroke-width=\"0\"/><text alignment-baseline=\"middle\" fill=\"white\" font-family=\"Times\" font-size=\"13.2\" text-anchor=\"middle\" x=\"250.8\" y=\"264.825\"/></svg>"
       ],
       "text": [
        "<IPython.core.display.SVG at 0x112d9ae50>"
       ]
      }
     ],
     "prompt_number": 31
    },
    {
     "cell_type": "markdown",
     "metadata": {},
     "source": [
      "### Phi/Psi Plots"
     ]
    },
    {
     "cell_type": "code",
     "collapsed": false,
     "input": [
      "# Imports for plotting\n",
      "%matplotlib inline\n",
      "import matplotlib\n",
      "import matplotlib.pyplot as plt\n",
      "import matplotlib.pylab as pylab\n",
      "from matplotlib.legend_handler import HandlerLine2D"
     ],
     "language": "python",
     "metadata": {},
     "outputs": [],
     "prompt_number": 32
    },
    {
     "cell_type": "markdown",
     "metadata": {},
     "source": [
      "Make sure that all phi/psi values have been computed!"
     ]
    },
    {
     "cell_type": "code",
     "collapsed": false,
     "input": [
      "phi(storage.snapshot.all());\n",
      "psi(storage.snapshot.all());"
     ],
     "language": "python",
     "metadata": {},
     "outputs": [],
     "prompt_number": 33
    },
    {
     "cell_type": "code",
     "collapsed": false,
     "input": [
      "plt.figure(figsize=(5, 5))\n",
      "\n",
      "for traj in storage.trajectory.iterator():\n",
      "    phi_angles = degrees * np.array(phi(traj)).flatten()\n",
      "    psi_angles = degrees * np.array(psi(traj)).flatten()\n",
      "    plt.plot(phi_angles, psi_angles, 'ro', linewidth=1);\n",
      "    \n",
      "plt.xlim(-180, 180);\n",
      "plt.ylim(-180, 180);"
     ],
     "language": "python",
     "metadata": {},
     "outputs": [
      {
       "metadata": {},
       "output_type": "display_data",
       "png": "[encoded data removed]",
       "text": [
        "<matplotlib.figure.Figure at 0x116778110>"
       ]
      }
     ],
     "prompt_number": 34
    },
    {
     "cell_type": "code",
     "collapsed": false,
     "input": [
      "plt.figure(figsize=(8, 8))\n",
      "\n",
      "traj = storage.trajectory.load(1)\n",
      "phi_angles = degrees * np.array(phi(traj)).flatten()\n",
      "psi_angles = degrees * np.array(psi(traj)).flatten()\n",
      "plt.plot(phi_angles, psi_angles, 'k-', linewidth=1);\n",
      "\n",
      "for snapshot in storage.snapshot.iterator():\n",
      "    phi_angles = degrees * np.array(phi(snapshot)).flatten()\n",
      "    psi_angles = degrees * np.array(psi(snapshot)).flatten()\n",
      "    if op_notinAorB(snapshot):\n",
      "        plt.plot(phi_angles, psi_angles, 'ro', linewidth=1);\n",
      "    else:\n",
      "        plt.plot(phi_angles, psi_angles, 'bo', linewidth=1);\n",
      "        \n",
      "plt.xlim(-180, 180);\n",
      "plt.ylim(-180, 180);"
     ],
     "language": "python",
     "metadata": {},
     "outputs": [
      {
       "metadata": {},
       "output_type": "display_data",
       "png": "[encoded data removed]",
       "text": [
        "<matplotlib.figure.Figure at 0x11719e150>"
       ]
      }
     ],
     "prompt_number": 35
    },
    {
     "cell_type": "code",
     "collapsed": false,
     "input": [
      "plt.figure(figsize=(8, 8))\n",
      "\n",
      "traj = storage.sample.load(10).trajectory\n",
      "phi_angles = degrees * np.array(phi(traj)).flatten()\n",
      "psi_angles = degrees * np.array(psi(traj)).flatten()\n",
      "plt.plot(phi_angles, psi_angles, 'k-', linewidth=1);\n",
      "\n",
      "\n",
      "#for snapshot in simulator.storage.snapshot.iterator():\n",
      "for snapshot in traj:\n",
      "    phi_angles = degrees * np.array(phi(snapshot)).flatten()\n",
      "    psi_angles = degrees * np.array(psi(snapshot)).flatten()\n",
      "    if op_notinAorB(snapshot):\n",
      "        plt.plot(phi_angles, psi_angles, 'ro', linewidth=1);\n",
      "    else:\n",
      "        plt.plot(phi_angles, psi_angles, 'bo', linewidth=1);\n",
      "        \n",
      "plt.xlim(-180, 180);\n",
      "plt.ylim(-180, 180);"
     ],
     "language": "python",
     "metadata": {},
     "outputs": [
      {
       "metadata": {},
       "output_type": "display_data",
       "png": "[encoded data removed]",
       "text": [
        "<matplotlib.figure.Figure at 0x113db7890>"
       ]
      }
     ],
     "prompt_number": 36
    },
    {
     "cell_type": "code",
     "collapsed": false,
     "input": [],
     "language": "python",
     "metadata": {},
     "outputs": []
    }
   ],
   "metadata": {}
  }
 ]
}
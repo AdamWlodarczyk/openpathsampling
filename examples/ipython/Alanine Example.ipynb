{
 "metadata": {
  "name": "",
  "signature": "sha256:406a490a88a64a9445370972f70e66a330887cf2736e852f1ec7eba1263dc4b6"
 },
 "nbformat": 3,
 "nbformat_minor": 0,
 "worksheets": [
  {
   "cells": [
    {
     "cell_type": "markdown",
     "metadata": {},
     "source": [
      "# OPENTIS\n",
      "## An Example with Alanine"
     ]
    },
    {
     "cell_type": "markdown",
     "metadata": {},
     "source": [
      "Import Modules"
     ]
    },
    {
     "cell_type": "code",
     "collapsed": false,
     "input": [
      "import numpy as np\n",
      "import mdtraj as md\n",
      "import pandas as pd\n",
      "import time\n",
      "import sys, os\n",
      " \n",
      "# in principle, all of these imports should be simplified once this is a package\n",
      "from opentis.orderparameter import OP_Function, OP_Volume\n",
      "from opentis.snapshot import Snapshot\n",
      "from opentis.volume import LambdaVolumePeriodic, VolumeFactory as vf\n",
      "from opentis.pathmover import PathMoverFactory as mf\n",
      "from opentis.ensemble import EnsembleFactory as ef\n",
      "from opentis.ensemble import (LengthEnsemble, SequentialEnsemble, OutXEnsemble,\n",
      "                      InXEnsemble, HitXEnsemble, LeaveXEnsemble)\n",
      "from opentis.storage import Storage\n",
      "from opentis.trajectory import Trajectory\n",
      "from opentis.calculation import Bootstrapping\n",
      "from opentis.pathmover import PathMover\n",
      "from opentis.shooting import UniformSelector\n",
      "import simtk.unit as u\n",
      "\n",
      "from opentis.openmm_engine import OpenMMEngine\n",
      "\n",
      "from opentis.storage import Storage\n",
      "from opentis.visualize import PathTreeBuilder\n",
      "from IPython.display import SVG"
     ],
     "language": "python",
     "metadata": {},
     "outputs": [],
     "prompt_number": 1
    },
    {
     "cell_type": "markdown",
     "metadata": {},
     "source": [
      "Radians to Degree conversion"
     ]
    },
    {
     "cell_type": "code",
     "collapsed": false,
     "input": [
      "degrees = 180/3.14159 # psi reports in radians; I think in degrees"
     ],
     "language": "python",
     "metadata": {},
     "outputs": [],
     "prompt_number": 2
    },
    {
     "cell_type": "markdown",
     "metadata": {},
     "source": [
      "Create an AlanineOpenMMSimulator for demonstration purposes"
     ]
    },
    {
     "cell_type": "markdown",
     "metadata": {},
     "source": [
      "### Set simulation options and create a simulator object"
     ]
    },
    {
     "cell_type": "code",
     "collapsed": false,
     "input": [
      "options = {\n",
      "            'temperature' : 300.0 * u.kelvin,\n",
      "            'collision_rate' : 1.0 / u.picoseconds,\n",
      "            'timestep' : 2.0 * u.femtoseconds,\n",
      "            'nsteps_per_frame' : 10,\n",
      "            'n_frames_max' : 5000,\n",
      "            'start_time' : time.time(),\n",
      "            'fn_initial_pdb' : \"../data/Alanine_solvated.pdb\",\n",
      "            'platform' : 'fastest',\n",
      "            'solute_indices' : range(22),\n",
      "            'forcefield_solute' : 'amber96.xml',\n",
      "            'forcefield_solvent' : 'tip3p.xml'\n",
      "           }"
     ],
     "language": "python",
     "metadata": {},
     "outputs": [],
     "prompt_number": 3
    },
    {
     "cell_type": "code",
     "collapsed": false,
     "input": [
      "engine = OpenMMEngine.auto(\n",
      "                filename=\"trajectory.nc\",\n",
      "                template=\"../data/Alanine_solvated.pdb\",\n",
      "                options=options,\n",
      "                mode='create'\n",
      "                )"
     ],
     "language": "python",
     "metadata": {},
     "outputs": [],
     "prompt_number": 5
    },
    {
     "cell_type": "markdown",
     "metadata": {},
     "source": [
      "And save the storage in a separate variable for convenience"
     ]
    },
    {
     "cell_type": "code",
     "collapsed": false,
     "input": [
      "storage = engine.storage\n",
      "PathMover.engine = engine"
     ],
     "language": "python",
     "metadata": {},
     "outputs": [],
     "prompt_number": 6
    },
    {
     "cell_type": "markdown",
     "metadata": {},
     "source": [
      "Equilibrate"
     ]
    },
    {
     "cell_type": "code",
     "collapsed": false,
     "input": [
      "engine.current_snapshot = engine.template\n",
      "engine.equilibrate(5)\n",
      "engine.initialized = True"
     ],
     "language": "python",
     "metadata": {},
     "outputs": [],
     "prompt_number": 7
    },
    {
     "cell_type": "markdown",
     "metadata": {},
     "source": [
      "Save equilibrated snapshot with index 0"
     ]
    },
    {
     "cell_type": "code",
     "collapsed": false,
     "input": [
      "storage.save(engine.current_snapshot, 0);"
     ],
     "language": "python",
     "metadata": {},
     "outputs": [],
     "prompt_number": 8
    },
    {
     "cell_type": "markdown",
     "metadata": {},
     "source": [
      "### Order Parameters"
     ]
    },
    {
     "cell_type": "markdown",
     "metadata": {},
     "source": [
      "this generates an order parameter (callable) object named psi (so if we call `psi(trajectory)` we get a list of the values of psi for each frame in the trajectory). This particular order parameter uses mdtraj's compute_dihedrals function, with the atoms in psi_atoms"
     ]
    },
    {
     "cell_type": "code",
     "collapsed": false,
     "input": [
      "psi_atoms = [6,8,14,16]\n",
      "psi = OP_Function(\"psi\", md.compute_dihedrals, trajdatafmt=\"mdtraj\",\n",
      "                  indices=[psi_atoms])\n",
      "\n",
      "phi_atoms = [4,6,8,14]\n",
      "phi = OP_Function(\"phi\", md.compute_dihedrals, trajdatafmt=\"mdtraj\",\n",
      "                  indices=[phi_atoms])\n",
      "\n",
      "storage.save([psi, phi]);"
     ],
     "language": "python",
     "metadata": {},
     "outputs": [],
     "prompt_number": 9
    },
    {
     "cell_type": "markdown",
     "metadata": {},
     "source": [
      "### Volumes"
     ]
    },
    {
     "cell_type": "markdown",
     "metadata": {},
     "source": [
      "This creates two states using a one-dimensional order parameter (called _Lambda_ in TIS terminology). A snapshot is in the State as long as the order parameter is with specific bounds. "
     ]
    },
    {
     "cell_type": "code",
     "collapsed": false,
     "input": [
      "stateA = LambdaVolumePeriodic(\n",
      "    orderparameter=psi, \n",
      "    lambda_min=-120.0/degrees, \n",
      "    lambda_max=-30.0/degrees, \n",
      "    period_min=-180.0/degrees, \n",
      "    period_max=+180.0/degrees\n",
      ")\n",
      "stateB = LambdaVolumePeriodic(psi, 100/degrees, 180/degrees, -180.0/degrees, +180.0/degrees)"
     ],
     "language": "python",
     "metadata": {},
     "outputs": [],
     "prompt_number": 10
    },
    {
     "cell_type": "markdown",
     "metadata": {},
     "source": [
      "Now do the same for a set of lambda ranges to produce nested volumes."
     ]
    },
    {
     "cell_type": "code",
     "collapsed": false,
     "input": [
      "minima = map((1.0 / degrees).__mul__,\n",
      "             [-125, -135, -140, -142.5, -145.0, -147.0, -150.0])\n",
      "\n",
      "maxima = map((1.0 / degrees).__mul__,\n",
      "             [-25.0, -21.0, -18.5, -17.0, -15.0, -10.0, 0.0])\n",
      "\n",
      "volume_set = vf.LambdaVolumePeriodicSet(psi, minima, maxima, -180.0/degrees, +180.0/degrees)"
     ],
     "language": "python",
     "metadata": {},
     "outputs": [],
     "prompt_number": 11
    },
    {
     "cell_type": "markdown",
     "metadata": {},
     "source": [
      "### Ensembles"
     ]
    },
    {
     "cell_type": "markdown",
     "metadata": {},
     "source": [
      "Now do this automatically for all ensembles"
     ]
    },
    {
     "cell_type": "code",
     "collapsed": false,
     "input": [
      "interface0 = volume_set[0]\n",
      "interface_set = ef.TISEnsembleSet(stateA, stateA | stateB, volume_set)\n",
      "for no, interface in enumerate(interface_set):\n",
      "    # Give each interface a name\n",
      "    interface.name = 'Interface '+str(no)\n",
      "    # And save all of these\n",
      "    storage.ensemble.save(interface)"
     ],
     "language": "python",
     "metadata": {},
     "outputs": [],
     "prompt_number": 12
    },
    {
     "cell_type": "markdown",
     "metadata": {},
     "source": [
      "And create a special ensemble, that will create a first trajectory in the innermost TIS ensemble independent from where we start"
     ]
    },
    {
     "cell_type": "markdown",
     "metadata": {},
     "source": [
      "The idea is to describe a trajectory type by a sequence of positions. First can be outside of stateA or not, then be inside stateA, etc..."
     ]
    },
    {
     "cell_type": "code",
     "collapsed": false,
     "input": [
      "    first_traj_ensemble = SequentialEnsemble([\n",
      "        OutXEnsemble(stateA) | LengthEnsemble(0),\n",
      "        InXEnsemble(stateA),\n",
      "        (OutXEnsemble(stateA) & InXEnsemble(interface0)) | LengthEnsemble(0),\n",
      "        InXEnsemble(interface0) | LengthEnsemble(0),\n",
      "        OutXEnsemble(interface0),\n",
      "        OutXEnsemble(stateA) | LengthEnsemble(0),\n",
      "        InXEnsemble(stateA) & LengthEnsemble(1)\n",
      "    ])"
     ],
     "language": "python",
     "metadata": {},
     "outputs": [],
     "prompt_number": 13
    },
    {
     "cell_type": "markdown",
     "metadata": {},
     "source": [
      "### start path generation"
     ]
    },
    {
     "cell_type": "markdown",
     "metadata": {},
     "source": [
      "so lets try and see if we can generate a first path"
     ]
    },
    {
     "cell_type": "markdown",
     "metadata": {},
     "source": [
      "load the initial snapshot (although we still have it) and generate using the Alanine simulator. The second option specifies a function : trajectory -> bool that keeps the simulation running as long as it is true. Our goal was to generate a path that belongs to a specific ensemble, so we use `forward` to determine if it makes sense to keep running or if the result cannot belong to the ensemble anymore."
     ]
    },
    {
     "cell_type": "code",
     "collapsed": false,
     "input": [
      "snapshot = storage.load(Snapshot, 0)\n",
      "total_path = engine.generate(\n",
      "    snapshot= snapshot, \n",
      "    running = [first_traj_ensemble.can_append]\n",
      ")"
     ],
     "language": "python",
     "metadata": {},
     "outputs": [],
     "prompt_number": 14
    },
    {
     "cell_type": "markdown",
     "metadata": {},
     "source": [
      "Show the length"
     ]
    },
    {
     "cell_type": "code",
     "collapsed": false,
     "input": [
      "print \"Total trajectory length: \", len(total_path)"
     ],
     "language": "python",
     "metadata": {},
     "outputs": [
      {
       "output_type": "stream",
       "stream": "stdout",
       "text": [
        "Total trajectory length:  182\n"
       ]
      }
     ],
     "prompt_number": 15
    },
    {
     "cell_type": "markdown",
     "metadata": {},
     "source": [
      "And save the trajetory completely"
     ]
    },
    {
     "cell_type": "code",
     "collapsed": false,
     "input": [
      "storage.save(total_path);"
     ],
     "language": "python",
     "metadata": {},
     "outputs": [],
     "prompt_number": 16
    },
    {
     "cell_type": "markdown",
     "metadata": {},
     "source": [
      "Split the trajectory into parts that belong to the TIS ensemble (not the one we generated)"
     ]
    },
    {
     "cell_type": "code",
     "collapsed": false,
     "input": [
      "interface0_ensemble = interface_set[0]\n",
      "segments = interface0_ensemble.split(total_path)\n",
      "\n",
      "print \"Traj in first_traj_ensemble? (should be)\", \n",
      "print first_traj_ensemble(total_path)\n",
      "\n",
      "print \"Traj in TIS ensemble? (probably not)\", \n",
      "print interface0_ensemble(total_path)\n",
      "\n",
      "\n",
      "print \"Number of segments in TIS ensemble: \", len(segments)\n",
      "if len(segments):\n",
      "    print \"Length of each segment:\"\n",
      "    for i in range(len(segments)):\n",
      "        print \"  seg[{0}]: {1}\".format(i, len(segments[i]))"
     ],
     "language": "python",
     "metadata": {},
     "outputs": [
      {
       "output_type": "stream",
       "stream": "stdout",
       "text": [
        "Traj in first_traj_ensemble? (should be) True\n",
        "Traj in TIS ensemble? (probably not) False\n",
        "Number of segments in TIS ensemble:  1\n",
        "Length of each segment:\n",
        "  seg[0]: 24\n"
       ]
      }
     ],
     "prompt_number": 17
    },
    {
     "cell_type": "markdown",
     "metadata": {},
     "source": [
      "Show some results and check if this worked"
     ]
    },
    {
     "cell_type": "code",
     "collapsed": false,
     "input": [
      "data = []\n",
      "for frame in total_path:\n",
      "    data.append((phi(frame)[0]*degrees, psi(frame)[0]*degrees, stateA(frame), interface0(frame), stateB(frame), first_traj_ensemble.can_append(total_path[slice(0,total_path.index(frame)+1)])))\n",
      "    \n",
      "dataframe = pd.DataFrame(data, columns=['phi', 'psi', 'stateA', 'interface0', 'stateB', 'appendable'])\n",
      "dataframe[[0,1,2,3,4,5]].ix[[0,1,2,len(dataframe)-3,len(dataframe)-2,len(dataframe)-1]]"
     ],
     "language": "python",
     "metadata": {},
     "outputs": [
      {
       "html": [
        "<div style=\"max-height:1000px;max-width:1500px;overflow:auto;\">\n",
        "<table border=\"1\" class=\"dataframe\">\n",
        "  <thead>\n",
        "    <tr style=\"text-align: right;\">\n",
        "      <th></th>\n",
        "      <th>phi</th>\n",
        "      <th>psi</th>\n",
        "      <th>stateA</th>\n",
        "      <th>interface0</th>\n",
        "      <th>stateB</th>\n",
        "      <th>appendable</th>\n",
        "    </tr>\n",
        "  </thead>\n",
        "  <tbody>\n",
        "    <tr>\n",
        "      <th>0  </th>\n",
        "      <td>-80.649753</td>\n",
        "      <td>-11.084786</td>\n",
        "      <td> [False]</td>\n",
        "      <td> [False]</td>\n",
        "      <td> [False]</td>\n",
        "      <td>  True</td>\n",
        "    </tr>\n",
        "    <tr>\n",
        "      <th>1  </th>\n",
        "      <td>-82.415031</td>\n",
        "      <td>-10.549492</td>\n",
        "      <td> [False]</td>\n",
        "      <td> [False]</td>\n",
        "      <td> [False]</td>\n",
        "      <td>  True</td>\n",
        "    </tr>\n",
        "    <tr>\n",
        "      <th>2  </th>\n",
        "      <td>-78.991799</td>\n",
        "      <td>-11.983529</td>\n",
        "      <td> [False]</td>\n",
        "      <td> [False]</td>\n",
        "      <td> [False]</td>\n",
        "      <td>  True</td>\n",
        "    </tr>\n",
        "    <tr>\n",
        "      <th>179</th>\n",
        "      <td>-69.872901</td>\n",
        "      <td>-28.965566</td>\n",
        "      <td> [False]</td>\n",
        "      <td>  [True]</td>\n",
        "      <td> [False]</td>\n",
        "      <td>  True</td>\n",
        "    </tr>\n",
        "    <tr>\n",
        "      <th>180</th>\n",
        "      <td>-79.083405</td>\n",
        "      <td>-29.142710</td>\n",
        "      <td> [False]</td>\n",
        "      <td>  [True]</td>\n",
        "      <td> [False]</td>\n",
        "      <td>  True</td>\n",
        "    </tr>\n",
        "    <tr>\n",
        "      <th>181</th>\n",
        "      <td>-76.951503</td>\n",
        "      <td>-36.794462</td>\n",
        "      <td>  [True]</td>\n",
        "      <td>  [True]</td>\n",
        "      <td> [False]</td>\n",
        "      <td> False</td>\n",
        "    </tr>\n",
        "  </tbody>\n",
        "</table>\n",
        "</div>"
       ],
       "metadata": {},
       "output_type": "pyout",
       "prompt_number": 18,
       "text": [
        "           phi        psi   stateA interface0   stateB appendable\n",
        "0   -80.649753 -11.084786  [False]    [False]  [False]       True\n",
        "1   -82.415031 -10.549492  [False]    [False]  [False]       True\n",
        "2   -78.991799 -11.983529  [False]    [False]  [False]       True\n",
        "179 -69.872901 -28.965566  [False]     [True]  [False]       True\n",
        "180 -79.083405 -29.142710  [False]     [True]  [False]       True\n",
        "181 -76.951503 -36.794462   [True]     [True]  [False]      False"
       ]
      }
     ],
     "prompt_number": 18
    },
    {
     "cell_type": "code",
     "collapsed": false,
     "input": [
      "print \"Do our segments satisfy the ensemble?\",\n",
      "for seg in segments:\n",
      "    print interface0_ensemble(seg),"
     ],
     "language": "python",
     "metadata": {},
     "outputs": [
      {
       "output_type": "stream",
       "stream": "stdout",
       "text": [
        "Do our segments satisfy the ensemble? True\n"
       ]
      }
     ],
     "prompt_number": 19
    },
    {
     "cell_type": "code",
     "collapsed": false,
     "input": [
      "data = []\n",
      "for frame in segments[0]:\n",
      "    data.append((phi(frame)[0]*degrees, psi(frame)[0]*degrees, stateA(frame), interface0(frame), stateB(frame), first_traj_ensemble.can_append(total_path[slice(0,total_path.index(frame)+1)])))\n",
      "    \n",
      "dataframe = pd.DataFrame(data, columns=['phi', 'psi', 'stateA', 'interface0', 'stateB', 'appendable'])\n",
      "dataframe[[0,1,2,3,4,5]]"
     ],
     "language": "python",
     "metadata": {},
     "outputs": [
      {
       "html": [
        "<div style=\"max-height:1000px;max-width:1500px;overflow:auto;\">\n",
        "<table border=\"1\" class=\"dataframe\">\n",
        "  <thead>\n",
        "    <tr style=\"text-align: right;\">\n",
        "      <th></th>\n",
        "      <th>phi</th>\n",
        "      <th>psi</th>\n",
        "      <th>stateA</th>\n",
        "      <th>interface0</th>\n",
        "      <th>stateB</th>\n",
        "      <th>appendable</th>\n",
        "    </tr>\n",
        "  </thead>\n",
        "  <tbody>\n",
        "    <tr>\n",
        "      <th>0 </th>\n",
        "      <td>-53.178894</td>\n",
        "      <td>-36.398314</td>\n",
        "      <td>  [True]</td>\n",
        "      <td>  [True]</td>\n",
        "      <td> [False]</td>\n",
        "      <td>  True</td>\n",
        "    </tr>\n",
        "    <tr>\n",
        "      <th>1 </th>\n",
        "      <td>-62.528461</td>\n",
        "      <td>-25.705524</td>\n",
        "      <td> [False]</td>\n",
        "      <td>  [True]</td>\n",
        "      <td> [False]</td>\n",
        "      <td>  True</td>\n",
        "    </tr>\n",
        "    <tr>\n",
        "      <th>2 </th>\n",
        "      <td>-54.784553</td>\n",
        "      <td>-18.752292</td>\n",
        "      <td> [False]</td>\n",
        "      <td> [False]</td>\n",
        "      <td> [False]</td>\n",
        "      <td>  True</td>\n",
        "    </tr>\n",
        "    <tr>\n",
        "      <th>3 </th>\n",
        "      <td>-68.185228</td>\n",
        "      <td>-18.397892</td>\n",
        "      <td> [False]</td>\n",
        "      <td> [False]</td>\n",
        "      <td> [False]</td>\n",
        "      <td>  True</td>\n",
        "    </tr>\n",
        "    <tr>\n",
        "      <th>4 </th>\n",
        "      <td>-66.563877</td>\n",
        "      <td>-11.050747</td>\n",
        "      <td> [False]</td>\n",
        "      <td> [False]</td>\n",
        "      <td> [False]</td>\n",
        "      <td>  True</td>\n",
        "    </tr>\n",
        "    <tr>\n",
        "      <th>5 </th>\n",
        "      <td>-78.718331</td>\n",
        "      <td>  0.500080</td>\n",
        "      <td> [False]</td>\n",
        "      <td> [False]</td>\n",
        "      <td> [False]</td>\n",
        "      <td>  True</td>\n",
        "    </tr>\n",
        "    <tr>\n",
        "      <th>6 </th>\n",
        "      <td>-84.178874</td>\n",
        "      <td> -4.768454</td>\n",
        "      <td> [False]</td>\n",
        "      <td> [False]</td>\n",
        "      <td> [False]</td>\n",
        "      <td>  True</td>\n",
        "    </tr>\n",
        "    <tr>\n",
        "      <th>7 </th>\n",
        "      <td>-79.477699</td>\n",
        "      <td> 10.894661</td>\n",
        "      <td> [False]</td>\n",
        "      <td> [False]</td>\n",
        "      <td> [False]</td>\n",
        "      <td>  True</td>\n",
        "    </tr>\n",
        "    <tr>\n",
        "      <th>8 </th>\n",
        "      <td>-79.111266</td>\n",
        "      <td>  2.072792</td>\n",
        "      <td> [False]</td>\n",
        "      <td> [False]</td>\n",
        "      <td> [False]</td>\n",
        "      <td>  True</td>\n",
        "    </tr>\n",
        "    <tr>\n",
        "      <th>9 </th>\n",
        "      <td>-70.065868</td>\n",
        "      <td> -7.455594</td>\n",
        "      <td> [False]</td>\n",
        "      <td> [False]</td>\n",
        "      <td> [False]</td>\n",
        "      <td>  True</td>\n",
        "    </tr>\n",
        "    <tr>\n",
        "      <th>10</th>\n",
        "      <td>-69.129755</td>\n",
        "      <td> -1.707856</td>\n",
        "      <td> [False]</td>\n",
        "      <td> [False]</td>\n",
        "      <td> [False]</td>\n",
        "      <td>  True</td>\n",
        "    </tr>\n",
        "    <tr>\n",
        "      <th>11</th>\n",
        "      <td>-79.254577</td>\n",
        "      <td> -8.728882</td>\n",
        "      <td> [False]</td>\n",
        "      <td> [False]</td>\n",
        "      <td> [False]</td>\n",
        "      <td>  True</td>\n",
        "    </tr>\n",
        "    <tr>\n",
        "      <th>12</th>\n",
        "      <td>-83.669287</td>\n",
        "      <td> -3.151065</td>\n",
        "      <td> [False]</td>\n",
        "      <td> [False]</td>\n",
        "      <td> [False]</td>\n",
        "      <td>  True</td>\n",
        "    </tr>\n",
        "    <tr>\n",
        "      <th>13</th>\n",
        "      <td>-73.901910</td>\n",
        "      <td> -9.742263</td>\n",
        "      <td> [False]</td>\n",
        "      <td> [False]</td>\n",
        "      <td> [False]</td>\n",
        "      <td>  True</td>\n",
        "    </tr>\n",
        "    <tr>\n",
        "      <th>14</th>\n",
        "      <td>-81.854818</td>\n",
        "      <td>  1.434938</td>\n",
        "      <td> [False]</td>\n",
        "      <td> [False]</td>\n",
        "      <td> [False]</td>\n",
        "      <td>  True</td>\n",
        "    </tr>\n",
        "    <tr>\n",
        "      <th>15</th>\n",
        "      <td>-68.179504</td>\n",
        "      <td>-10.467760</td>\n",
        "      <td> [False]</td>\n",
        "      <td> [False]</td>\n",
        "      <td> [False]</td>\n",
        "      <td>  True</td>\n",
        "    </tr>\n",
        "    <tr>\n",
        "      <th>16</th>\n",
        "      <td>-74.422658</td>\n",
        "      <td> -0.245562</td>\n",
        "      <td> [False]</td>\n",
        "      <td> [False]</td>\n",
        "      <td> [False]</td>\n",
        "      <td>  True</td>\n",
        "    </tr>\n",
        "    <tr>\n",
        "      <th>17</th>\n",
        "      <td>-81.522966</td>\n",
        "      <td>-12.340071</td>\n",
        "      <td> [False]</td>\n",
        "      <td> [False]</td>\n",
        "      <td> [False]</td>\n",
        "      <td>  True</td>\n",
        "    </tr>\n",
        "    <tr>\n",
        "      <th>18</th>\n",
        "      <td>-80.483213</td>\n",
        "      <td> -5.493530</td>\n",
        "      <td> [False]</td>\n",
        "      <td> [False]</td>\n",
        "      <td> [False]</td>\n",
        "      <td>  True</td>\n",
        "    </tr>\n",
        "    <tr>\n",
        "      <th>19</th>\n",
        "      <td>-77.890061</td>\n",
        "      <td>-14.988530</td>\n",
        "      <td> [False]</td>\n",
        "      <td> [False]</td>\n",
        "      <td> [False]</td>\n",
        "      <td>  True</td>\n",
        "    </tr>\n",
        "    <tr>\n",
        "      <th>20</th>\n",
        "      <td>-87.257277</td>\n",
        "      <td>-11.658668</td>\n",
        "      <td> [False]</td>\n",
        "      <td> [False]</td>\n",
        "      <td> [False]</td>\n",
        "      <td>  True</td>\n",
        "    </tr>\n",
        "    <tr>\n",
        "      <th>21</th>\n",
        "      <td>-69.872901</td>\n",
        "      <td>-28.965566</td>\n",
        "      <td> [False]</td>\n",
        "      <td>  [True]</td>\n",
        "      <td> [False]</td>\n",
        "      <td>  True</td>\n",
        "    </tr>\n",
        "    <tr>\n",
        "      <th>22</th>\n",
        "      <td>-79.083405</td>\n",
        "      <td>-29.142710</td>\n",
        "      <td> [False]</td>\n",
        "      <td>  [True]</td>\n",
        "      <td> [False]</td>\n",
        "      <td>  True</td>\n",
        "    </tr>\n",
        "    <tr>\n",
        "      <th>23</th>\n",
        "      <td>-76.951503</td>\n",
        "      <td>-36.794462</td>\n",
        "      <td>  [True]</td>\n",
        "      <td>  [True]</td>\n",
        "      <td> [False]</td>\n",
        "      <td> False</td>\n",
        "    </tr>\n",
        "  </tbody>\n",
        "</table>\n",
        "</div>"
       ],
       "metadata": {},
       "output_type": "pyout",
       "prompt_number": 20,
       "text": [
        "          phi        psi   stateA interface0   stateB appendable\n",
        "0  -53.178894 -36.398314   [True]     [True]  [False]       True\n",
        "1  -62.528461 -25.705524  [False]     [True]  [False]       True\n",
        "2  -54.784553 -18.752292  [False]    [False]  [False]       True\n",
        "3  -68.185228 -18.397892  [False]    [False]  [False]       True\n",
        "4  -66.563877 -11.050747  [False]    [False]  [False]       True\n",
        "5  -78.718331   0.500080  [False]    [False]  [False]       True\n",
        "6  -84.178874  -4.768454  [False]    [False]  [False]       True\n",
        "7  -79.477699  10.894661  [False]    [False]  [False]       True\n",
        "8  -79.111266   2.072792  [False]    [False]  [False]       True\n",
        "9  -70.065868  -7.455594  [False]    [False]  [False]       True\n",
        "10 -69.129755  -1.707856  [False]    [False]  [False]       True\n",
        "11 -79.254577  -8.728882  [False]    [False]  [False]       True\n",
        "12 -83.669287  -3.151065  [False]    [False]  [False]       True\n",
        "13 -73.901910  -9.742263  [False]    [False]  [False]       True\n",
        "14 -81.854818   1.434938  [False]    [False]  [False]       True\n",
        "15 -68.179504 -10.467760  [False]    [False]  [False]       True\n",
        "16 -74.422658  -0.245562  [False]    [False]  [False]       True\n",
        "17 -81.522966 -12.340071  [False]    [False]  [False]       True\n",
        "18 -80.483213  -5.493530  [False]    [False]  [False]       True\n",
        "19 -77.890061 -14.988530  [False]    [False]  [False]       True\n",
        "20 -87.257277 -11.658668  [False]    [False]  [False]       True\n",
        "21 -69.872901 -28.965566  [False]     [True]  [False]       True\n",
        "22 -79.083405 -29.142710  [False]     [True]  [False]       True\n",
        "23 -76.951503 -36.794462   [True]     [True]  [False]      False"
       ]
      }
     ],
     "prompt_number": 20
    },
    {
     "cell_type": "markdown",
     "metadata": {},
     "source": [
      "### Bootstrapping"
     ]
    },
    {
     "cell_type": "markdown",
     "metadata": {},
     "source": [
      "Run a bootstrapping (not TIS) simulation that shoots from an ensemble until the next interface is reached then switch to the next ensemble to drive the system out of stateA"
     ]
    },
    {
     "cell_type": "code",
     "collapsed": false,
     "input": [
      "mover_set = mf.OneWayShootingSet(UniformSelector(), interface_set)"
     ],
     "language": "python",
     "metadata": {},
     "outputs": [],
     "prompt_number": 21
    },
    {
     "cell_type": "code",
     "collapsed": false,
     "input": [
      "bootstrap = Bootstrapping(storage=storage,\n",
      "                          engine=engine,\n",
      "                          ensembles=interface_set,\n",
      "                          movers=mover_set)"
     ],
     "language": "python",
     "metadata": {},
     "outputs": [],
     "prompt_number": 22
    },
    {
     "cell_type": "markdown",
     "metadata": {},
     "source": [
      "Run Bootstrapping with at most 50 attempts per ensemble"
     ]
    },
    {
     "cell_type": "code",
     "collapsed": false,
     "input": [
      "bootstrap.set_replicas([segments[0]])\n",
      "bootstrap.run(50)"
     ],
     "language": "python",
     "metadata": {},
     "outputs": [
      {
       "output_type": "stream",
       "stream": "stdout",
       "text": [
        "Shooting backward from frame 6\n",
        "Proposal probability"
       ]
      },
      {
       "output_type": "stream",
       "stream": "stdout",
       "text": [
        " 0.301369863014 / random : 0.177347912577\n",
        "Shooting backward from frame 50"
       ]
      },
      {
       "output_type": "stream",
       "stream": "stdout",
       "text": [
        "\n",
        "Proposal probability"
       ]
      },
      {
       "output_type": "stream",
       "stream": "stdout",
       "text": [
        " 1.21666666667 / random : 0.0965213348394\n",
        "Shooting backward from frame 48\n",
        "Proposal probability"
       ]
      },
      {
       "output_type": "stream",
       "stream": "stdout",
       "text": [
        " 2.60869565217 / random : 0.0629188734965\n",
        "Shooting backward from frame 21\n",
        "Proposal probability"
       ]
      },
      {
       "output_type": "stream",
       "stream": "stdout",
       "text": [
        " 4.6 / random : 0.579459381272\n",
        "Shooting forward from frame 2\n",
        "Shooting forward from frame 1"
       ]
      },
      {
       "output_type": "stream",
       "stream": "stdout",
       "text": [
        "\n",
        "Shooting forward from frame 1"
       ]
      },
      {
       "output_type": "stream",
       "stream": "stdout",
       "text": [
        "\n",
        "Shooting backward from frame 3"
       ]
      },
      {
       "output_type": "stream",
       "stream": "stdout",
       "text": [
        "\n",
        "Proposal probability"
       ]
      },
      {
       "output_type": "stream",
       "stream": "stdout",
       "text": [
        " 1.0 / random : 0.157511624043\n",
        "Shooting forward from frame 1\n",
        "Shooting forward from frame 3"
       ]
      },
      {
       "output_type": "stream",
       "stream": "stdout",
       "text": [
        "\n",
        "Proposal probability"
       ]
      },
      {
       "output_type": "stream",
       "stream": "stdout",
       "text": [
        " 1.0 / random : 0.824116160817\n",
        "Shooting backward from frame 4\n",
        "Shooting forward from frame 1"
       ]
      },
      {
       "output_type": "stream",
       "stream": "stdout",
       "text": [
        "\n",
        "Shooting forward from frame 1"
       ]
      },
      {
       "output_type": "stream",
       "stream": "stdout",
       "text": [
        "\n",
        "Shooting forward from frame 3"
       ]
      },
      {
       "output_type": "stream",
       "stream": "stdout",
       "text": [
        "\n",
        "Proposal probability"
       ]
      },
      {
       "output_type": "stream",
       "stream": "stdout",
       "text": [
        " 1.0 / random : 0.252457077039\n",
        "Shooting forward from frame 5\n",
        "Proposal probability"
       ]
      },
      {
       "output_type": "stream",
       "stream": "stdout",
       "text": [
        " 1.0 / random : 0.569110548828\n",
        "Shooting backward from frame 3\n",
        "Proposal probability"
       ]
      },
      {
       "output_type": "stream",
       "stream": "stdout",
       "text": [
        " 1.0 / random : 0.607412226808\n",
        "Shooting forward from frame 3\n",
        "Proposal probability"
       ]
      },
      {
       "output_type": "stream",
       "stream": "stdout",
       "text": [
        " 1.0 / random : 0.922617562578\n",
        "Shooting backward from frame 4\n",
        "Shooting forward from frame 3"
       ]
      },
      {
       "output_type": "stream",
       "stream": "stdout",
       "text": [
        "\n",
        "Proposal probability"
       ]
      },
      {
       "output_type": "stream",
       "stream": "stdout",
       "text": [
        " 1.0 / random : 0.0834075799614\n",
        "Shooting backward from frame 3\n",
        "Proposal probability"
       ]
      },
      {
       "output_type": "stream",
       "stream": "stdout",
       "text": [
        " 0.833333333333 / random : 0.0390073027153\n",
        "Shooting forward from frame 6\n",
        "Proposal probability"
       ]
      },
      {
       "output_type": "stream",
       "stream": "stdout",
       "text": [
        " 1.0 / random : 0.555169768793\n",
        "Shooting backward from frame 4\n",
        "Proposal probability"
       ]
      },
      {
       "output_type": "stream",
       "stream": "stdout",
       "text": [
        " 1.2 / random : 0.727793539518\n",
        "Shooting backward from frame 2\n",
        "Proposal probability"
       ]
      },
      {
       "output_type": "stream",
       "stream": "stdout",
       "text": [
        " 1.0 / random : 0.971460476952\n",
        "Shooting forward from frame 3\n",
        "Proposal probability"
       ]
      },
      {
       "output_type": "stream",
       "stream": "stdout",
       "text": [
        " 1.0 / random : 0.442542133716\n",
        "Shooting forward from frame 5\n",
        "Proposal probability"
       ]
      },
      {
       "output_type": "stream",
       "stream": "stdout",
       "text": [
        " 1.0 / random : 0.628059197699\n",
        "Shooting backward from frame 3\n",
        "Proposal probability"
       ]
      },
      {
       "output_type": "stream",
       "stream": "stdout",
       "text": [
        " 1.0 / random : 0.350216806639\n",
        "Shooting backward from frame 2\n",
        "Proposal probability"
       ]
      },
      {
       "output_type": "stream",
       "stream": "stdout",
       "text": [
        " 1.0 / random : 0.544075626401\n",
        "Shooting backward from frame 2\n",
        "Proposal probability"
       ]
      },
      {
       "output_type": "stream",
       "stream": "stdout",
       "text": [
        " 1.0 / random : 0.306681501452\n",
        "Shooting backward from frame 3\n",
        "Proposal probability"
       ]
      },
      {
       "output_type": "stream",
       "stream": "stdout",
       "text": [
        " 1.0 / random : 0.942376948227\n",
        "Shooting backward from frame 5\n",
        "Shooting backward from frame 3"
       ]
      },
      {
       "output_type": "stream",
       "stream": "stdout",
       "text": [
        "\n",
        "Proposal probability"
       ]
      },
      {
       "output_type": "stream",
       "stream": "stdout",
       "text": [
        " 1.0 / random : 0.890237308899\n",
        "Shooting backward from frame 4\n",
        "Shooting backward from frame 3"
       ]
      },
      {
       "output_type": "stream",
       "stream": "stdout",
       "text": [
        "\n",
        "Proposal probability"
       ]
      },
      {
       "output_type": "stream",
       "stream": "stdout",
       "text": [
        " 1.0 / random : 0.915068797711\n",
        "Shooting forward from frame 4\n",
        "Proposal probability"
       ]
      },
      {
       "output_type": "stream",
       "stream": "stdout",
       "text": [
        " 1.0 / random : 0.596941841226\n",
        "Shooting backward from frame 1\n",
        "Proposal probability"
       ]
      },
      {
       "output_type": "stream",
       "stream": "stdout",
       "text": [
        " 1.0 / random : 0.738922022671\n",
        "Shooting forward from frame 3\n",
        "Proposal probability"
       ]
      },
      {
       "output_type": "stream",
       "stream": "stdout",
       "text": [
        " 1.0 / random : 0.154401813742\n",
        "Shooting backward from frame 5\n",
        "Shooting forward from frame 1"
       ]
      },
      {
       "output_type": "stream",
       "stream": "stdout",
       "text": [
        "\n",
        "Shooting forward from frame 3"
       ]
      },
      {
       "output_type": "stream",
       "stream": "stdout",
       "text": [
        "\n",
        "Proposal probability"
       ]
      },
      {
       "output_type": "stream",
       "stream": "stdout",
       "text": [
        " 1.0 / random : 0.337579142821\n",
        "Shooting forward from frame 4\n",
        "Proposal probability"
       ]
      },
      {
       "output_type": "stream",
       "stream": "stdout",
       "text": [
        " 1.0 / random : 0.952129917656\n",
        "Shooting backward from frame 1\n",
        "Proposal probability"
       ]
      },
      {
       "output_type": "stream",
       "stream": "stdout",
       "text": [
        " 1.0 / random : 0.429021885638\n",
        "Shooting backward from frame 3\n",
        "Proposal probability"
       ]
      },
      {
       "output_type": "stream",
       "stream": "stdout",
       "text": [
        " 1.0 / random : 0.638787048974\n",
        "Shooting forward from frame 1\n",
        "Shooting backward from frame 5"
       ]
      },
      {
       "output_type": "stream",
       "stream": "stdout",
       "text": [
        "\n",
        "Shooting forward from frame 5"
       ]
      },
      {
       "output_type": "stream",
       "stream": "stdout",
       "text": [
        "\n",
        "Proposal probability"
       ]
      },
      {
       "output_type": "stream",
       "stream": "stdout",
       "text": [
        " 1.0 / random : 0.343764988972\n",
        "Shooting forward from frame 1\n",
        "Shooting forward from frame 1"
       ]
      },
      {
       "output_type": "stream",
       "stream": "stdout",
       "text": [
        "\n",
        "Shooting forward from frame 4"
       ]
      },
      {
       "output_type": "stream",
       "stream": "stdout",
       "text": [
        "\n",
        "Proposal probability"
       ]
      },
      {
       "output_type": "stream",
       "stream": "stdout",
       "text": [
        " 1.0 / random : 0.268216216644\n",
        "Shooting forward from frame 2\n",
        "Shooting forward from frame 5"
       ]
      },
      {
       "output_type": "stream",
       "stream": "stdout",
       "text": [
        "\n",
        "Proposal probability"
       ]
      },
      {
       "output_type": "stream",
       "stream": "stdout",
       "text": [
        " 1.0 / random : 0.8062636367\n",
        "Shooting backward from frame 3\n",
        "Proposal probability"
       ]
      },
      {
       "output_type": "stream",
       "stream": "stdout",
       "text": [
        " 1.0 / random : 0.0662678844888\n",
        "Shooting backward from frame 5\n",
        "Shooting backward from frame 3"
       ]
      },
      {
       "output_type": "stream",
       "stream": "stdout",
       "text": [
        "\n",
        "Proposal probability"
       ]
      },
      {
       "output_type": "stream",
       "stream": "stdout",
       "text": [
        " 1.0 / random : 0.430199888106\n"
       ]
      }
     ],
     "prompt_number": 23
    },
    {
     "cell_type": "markdown",
     "metadata": {},
     "source": [
      "Save all computed phi/psi values which depends on whether they have been needed before"
     ]
    },
    {
     "cell_type": "code",
     "collapsed": false,
     "input": [
      "storage.save([psi,phi]);"
     ],
     "language": "python",
     "metadata": {},
     "outputs": [],
     "prompt_number": 24
    },
    {
     "cell_type": "markdown",
     "metadata": {},
     "source": [
      "Create an orderparameter from a volume which is just 1 or 0 and can thus be stored for later analysis"
     ]
    },
    {
     "cell_type": "code",
     "collapsed": false,
     "input": [
      "op_inA = OP_Volume('StateA', stateA)\n",
      "op_inB = OP_Volume('StateB', stateB)\n",
      "op_notinAorB = OP_Volume('StateX', ~ (stateA | stateB))"
     ],
     "language": "python",
     "metadata": {},
     "outputs": [],
     "prompt_number": 25
    },
    {
     "cell_type": "markdown",
     "metadata": {},
     "source": [
      "Compute the orderparameter for all snapshots"
     ]
    },
    {
     "cell_type": "code",
     "collapsed": false,
     "input": [
      "op_inA(storage.snapshot.all())\n",
      "op_inB(storage.snapshot.all())\n",
      "op_notinAorB(storage.snapshot.all());"
     ],
     "language": "python",
     "metadata": {},
     "outputs": [],
     "prompt_number": 26
    },
    {
     "cell_type": "markdown",
     "metadata": {},
     "source": [
      "Save the new orderparameters"
     ]
    },
    {
     "cell_type": "code",
     "collapsed": false,
     "input": [
      "storage.save([op_inA, op_inB, op_notinAorB]);"
     ],
     "language": "python",
     "metadata": {},
     "outputs": [],
     "prompt_number": 28
    },
    {
     "cell_type": "markdown",
     "metadata": {},
     "source": [
      "## Visualization"
     ]
    },
    {
     "cell_type": "markdown",
     "metadata": {},
     "source": [
      "Create a PathTree generator"
     ]
    },
    {
     "cell_type": "code",
     "collapsed": false,
     "input": [
      "tree = PathTreeBuilder(storage)\n",
      "op_inA.name\n",
      "storage.save(op_inA)\n",
      "storage.cv.load(0)\n",
      "op_inA.idx"
     ],
     "language": "python",
     "metadata": {},
     "outputs": [
      {
       "metadata": {},
       "output_type": "pyout",
       "prompt_number": 29,
       "text": [
        "{<opentis.storage.netcdf_storage.Storage at 0x110336230>: 2}"
       ]
      }
     ],
     "prompt_number": 29
    },
    {
     "cell_type": "markdown",
     "metadata": {},
     "source": [
      "Get samples (trajectries) that were generated for a specific ensemble"
     ]
    },
    {
     "cell_type": "code",
     "collapsed": false,
     "input": [
      "samples = storage.sample.by_ensemble(storage.ensemble.load(4))"
     ],
     "language": "python",
     "metadata": {},
     "outputs": [],
     "prompt_number": 47
    },
    {
     "cell_type": "markdown",
     "metadata": {},
     "source": [
      "Change the settings to show rejected pathways, mark OrderParaemters `stateA` and `stateX`, and show the 'psi' value as text inside of the boxes"
     ]
    },
    {
     "cell_type": "code",
     "collapsed": false,
     "input": [
      "tree.rejected = False\n",
      "tree.states = [('StateA','orange'),('StateX','black')]\n",
      "tree.op = storage.cv.load('psi').get_transformed_view(lambda x : int(x / 3.141592653 * 180))\n",
      "tree.from_samples(samples)"
     ],
     "language": "python",
     "metadata": {},
     "outputs": [],
     "prompt_number": 48
    },
    {
     "cell_type": "markdown",
     "metadata": {},
     "source": [
      "Render the tree"
     ]
    },
    {
     "cell_type": "code",
     "collapsed": false,
     "input": [
      "view = tree.renderer\n",
      "view.zoom = 1.1\n",
      "view.scale_y = 24\n",
      "view.scale_x = 24\n",
      "view.font_size = 0.35\n",
      "SVG(view.to_svg())"
     ],
     "language": "python",
     "metadata": {},
     "outputs": [
      {
       "metadata": {},
       "output_type": "pyout",
       "prompt_number": 49,
       "svg": [
        "<svg baseProfile=\"full\" height=\"871.2px\" version=\"1.1\" width=\"264.0px\" xmlns=\"http://www.w3.org/2000/svg\" xmlns:ev=\"http://www.w3.org/2001/xml-events\" xmlns:xlink=\"http://www.w3.org/1999/xlink\"><defs/><rect fill=\"black\" height=\"2.64\" stroke=\"black\" stroke-width=\"1.32\" width=\"52.8\" x=\"79.2\" y=\"854.04\"/><rect fill=\"orange\" height=\"2.64\" stroke=\"orange\" stroke-width=\"1.32\" width=\"26.4\" x=\"52.8\" y=\"854.04\"/><rect fill=\"black\" height=\"2.64\" stroke=\"black\" stroke-width=\"1.32\" width=\"52.8\" x=\"79.2\" y=\"827.64\"/><rect fill=\"orange\" height=\"2.64\" stroke=\"orange\" stroke-width=\"1.32\" width=\"26.4\" x=\"52.8\" y=\"827.64\"/><rect fill=\"orange\" height=\"2.64\" stroke=\"orange\" stroke-width=\"1.32\" width=\"26.4\" x=\"211.2\" y=\"801.24\"/><rect fill=\"orange\" height=\"2.64\" stroke=\"orange\" stroke-width=\"1.32\" width=\"26.4\" x=\"211.2\" y=\"774.84\"/><rect fill=\"black\" height=\"2.64\" stroke=\"black\" stroke-width=\"1.32\" width=\"26.4\" x=\"184.8\" y=\"774.84\"/><rect fill=\"orange\" height=\"2.64\" stroke=\"orange\" stroke-width=\"1.32\" width=\"26.4\" x=\"211.2\" y=\"748.44\"/><rect fill=\"black\" height=\"2.64\" stroke=\"black\" stroke-width=\"1.32\" width=\"52.8\" x=\"79.2\" y=\"722.04\"/><rect fill=\"orange\" height=\"2.64\" stroke=\"orange\" stroke-width=\"1.32\" width=\"26.4\" x=\"52.8\" y=\"722.04\"/><rect fill=\"orange\" height=\"2.64\" stroke=\"orange\" stroke-width=\"1.32\" width=\"26.4\" x=\"52.8\" y=\"695.64\"/><rect fill=\"orange\" height=\"2.64\" stroke=\"orange\" stroke-width=\"1.32\" width=\"26.4\" x=\"211.2\" y=\"669.24\"/><rect fill=\"black\" height=\"2.64\" stroke=\"black\" stroke-width=\"1.32\" width=\"26.4\" x=\"184.8\" y=\"669.24\"/><rect fill=\"orange\" height=\"2.64\" stroke=\"orange\" stroke-width=\"1.32\" width=\"26.4\" x=\"211.2\" y=\"642.84\"/><rect fill=\"black\" height=\"2.64\" stroke=\"black\" stroke-width=\"1.32\" width=\"52.8\" x=\"158.4\" y=\"642.84\"/><rect fill=\"orange\" height=\"2.64\" stroke=\"orange\" stroke-width=\"1.32\" width=\"26.4\" x=\"211.2\" y=\"616.44\"/><rect fill=\"black\" height=\"2.64\" stroke=\"black\" stroke-width=\"1.32\" width=\"52.8\" x=\"158.4\" y=\"616.44\"/><rect fill=\"orange\" height=\"2.64\" stroke=\"orange\" stroke-width=\"1.32\" width=\"26.4\" x=\"52.8\" y=\"590.04\"/><rect fill=\"orange\" height=\"2.64\" stroke=\"orange\" stroke-width=\"1.32\" width=\"26.4\" x=\"211.2\" y=\"563.64\"/><rect fill=\"black\" height=\"2.64\" stroke=\"black\" stroke-width=\"1.32\" width=\"26.4\" x=\"184.8\" y=\"563.64\"/><rect fill=\"black\" height=\"2.64\" stroke=\"black\" stroke-width=\"1.32\" width=\"52.8\" x=\"79.2\" y=\"537.24\"/><rect fill=\"orange\" height=\"2.64\" stroke=\"orange\" stroke-width=\"1.32\" width=\"26.4\" x=\"52.8\" y=\"537.24\"/><rect fill=\"black\" height=\"2.64\" stroke=\"black\" stroke-width=\"1.32\" width=\"52.8\" x=\"79.2\" y=\"510.84\"/><rect fill=\"orange\" height=\"2.64\" stroke=\"orange\" stroke-width=\"1.32\" width=\"26.4\" x=\"52.8\" y=\"510.84\"/><rect fill=\"black\" height=\"2.64\" stroke=\"black\" stroke-width=\"1.32\" width=\"52.8\" x=\"79.2\" y=\"484.44\"/><rect fill=\"orange\" height=\"2.64\" stroke=\"orange\" stroke-width=\"1.32\" width=\"26.4\" x=\"52.8\" y=\"484.44\"/><rect fill=\"black\" height=\"2.64\" stroke=\"black\" stroke-width=\"1.32\" width=\"26.4\" x=\"79.2\" y=\"458.04\"/><rect fill=\"orange\" height=\"2.64\" stroke=\"orange\" stroke-width=\"1.32\" width=\"26.4\" x=\"52.8\" y=\"458.04\"/><rect fill=\"black\" height=\"2.64\" stroke=\"black\" stroke-width=\"1.32\" width=\"26.4\" x=\"79.2\" y=\"431.64\"/><rect fill=\"orange\" height=\"2.64\" stroke=\"orange\" stroke-width=\"1.32\" width=\"26.4\" x=\"52.8\" y=\"431.64\"/><rect fill=\"black\" height=\"2.64\" stroke=\"black\" stroke-width=\"1.32\" width=\"52.8\" x=\"79.2\" y=\"405.24\"/><rect fill=\"orange\" height=\"2.64\" stroke=\"orange\" stroke-width=\"1.32\" width=\"26.4\" x=\"52.8\" y=\"405.24\"/><rect fill=\"orange\" height=\"2.64\" stroke=\"orange\" stroke-width=\"1.32\" width=\"26.4\" x=\"211.2\" y=\"378.84\"/><rect fill=\"orange\" height=\"2.64\" stroke=\"orange\" stroke-width=\"1.32\" width=\"26.4\" x=\"211.2\" y=\"352.44\"/><rect fill=\"black\" height=\"2.64\" stroke=\"black\" stroke-width=\"1.32\" width=\"52.8\" x=\"158.4\" y=\"352.44\"/><rect fill=\"black\" height=\"2.64\" stroke=\"black\" stroke-width=\"1.32\" width=\"26.4\" x=\"79.2\" y=\"326.04\"/><rect fill=\"orange\" height=\"2.64\" stroke=\"orange\" stroke-width=\"1.32\" width=\"26.4\" x=\"52.8\" y=\"326.04\"/><rect fill=\"black\" height=\"2.64\" stroke=\"black\" stroke-width=\"1.32\" width=\"52.8\" x=\"79.2\" y=\"299.64\"/><rect fill=\"orange\" height=\"2.64\" stroke=\"orange\" stroke-width=\"1.32\" width=\"26.4\" x=\"52.8\" y=\"299.64\"/><rect fill=\"orange\" height=\"2.64\" stroke=\"orange\" stroke-width=\"1.32\" width=\"26.4\" x=\"211.2\" y=\"273.24\"/><rect fill=\"black\" height=\"2.64\" stroke=\"black\" stroke-width=\"1.32\" width=\"79.2\" x=\"52.8\" y=\"246.84\"/><rect fill=\"orange\" height=\"2.64\" stroke=\"orange\" stroke-width=\"1.32\" width=\"26.4\" x=\"26.4\" y=\"246.84\"/><rect fill=\"orange\" height=\"2.64\" stroke=\"orange\" stroke-width=\"1.32\" width=\"26.4\" x=\"211.2\" y=\"220.44\"/><rect fill=\"black\" height=\"2.64\" stroke=\"black\" stroke-width=\"1.32\" width=\"52.8\" x=\"158.4\" y=\"220.44\"/><rect fill=\"orange\" height=\"2.64\" stroke=\"orange\" stroke-width=\"1.32\" width=\"26.4\" x=\"211.2\" y=\"194.04\"/><rect fill=\"black\" height=\"2.64\" stroke=\"black\" stroke-width=\"1.32\" width=\"52.8\" x=\"158.4\" y=\"194.04\"/><rect fill=\"black\" height=\"2.64\" stroke=\"black\" stroke-width=\"1.32\" width=\"52.8\" x=\"79.2\" y=\"167.64\"/><rect fill=\"orange\" height=\"2.64\" stroke=\"orange\" stroke-width=\"1.32\" width=\"26.4\" x=\"52.8\" y=\"167.64\"/><rect fill=\"orange\" height=\"2.64\" stroke=\"orange\" stroke-width=\"1.32\" width=\"26.4\" x=\"211.2\" y=\"141.24\"/><rect fill=\"orange\" height=\"2.64\" stroke=\"orange\" stroke-width=\"1.32\" width=\"26.4\" x=\"211.2\" y=\"114.84\"/><rect fill=\"black\" height=\"2.64\" stroke=\"black\" stroke-width=\"1.32\" width=\"52.8\" x=\"158.4\" y=\"114.84\"/><rect fill=\"orange\" height=\"2.64\" stroke=\"orange\" stroke-width=\"1.32\" width=\"26.4\" x=\"211.2\" y=\"88.44\"/><rect fill=\"black\" height=\"2.64\" stroke=\"black\" stroke-width=\"1.32\" width=\"52.8\" x=\"158.4\" y=\"88.44\"/><rect fill=\"black\" height=\"2.64\" stroke=\"black\" stroke-width=\"1.32\" width=\"52.8\" x=\"79.2\" y=\"62.04\"/><rect fill=\"orange\" height=\"2.64\" stroke=\"orange\" stroke-width=\"1.32\" width=\"26.4\" x=\"52.8\" y=\"62.04\"/><rect fill=\"orange\" height=\"2.64\" stroke=\"orange\" stroke-width=\"1.32\" width=\"26.4\" x=\"211.2\" y=\"35.64\"/><rect fill=\"black\" height=\"2.64\" stroke=\"black\" stroke-width=\"1.32\" width=\"132.0\" x=\"79.2\" y=\"35.64\"/><rect fill=\"orange\" height=\"2.64\" stroke=\"orange\" stroke-width=\"1.32\" width=\"26.4\" x=\"52.8\" y=\"35.64\"/><rect fill=\"black\" height=\"15.84\" width=\"26.928\" x=\"52.536\" y=\"18.48\"/><circle cx=\"52.8\" cy=\"26.4\" fill=\"black\" r=\"-0.264\" stroke=\"black\" stroke-width=\"0\"/><circle cx=\"79.2\" cy=\"26.4\" fill=\"black\" r=\"-0.264\" stroke=\"black\" stroke-width=\"0\"/><text alignment-baseline=\"middle\" fill=\"white\" font-family=\"Times\" font-size=\"9.24\" text-anchor=\"middle\" x=\"66.0\" y=\"27.72\">-31</text><rect fill=\"black\" height=\"15.84\" width=\"26.928\" x=\"78.936\" y=\"18.48\"/><circle cx=\"79.2\" cy=\"26.4\" fill=\"black\" r=\"-0.264\" stroke=\"black\" stroke-width=\"0\"/><circle cx=\"105.6\" cy=\"26.4\" fill=\"black\" r=\"-0.264\" stroke=\"black\" stroke-width=\"0\"/><text alignment-baseline=\"middle\" fill=\"white\" font-family=\"Times\" font-size=\"9.24\" text-anchor=\"middle\" x=\"92.4\" y=\"27.72\">-25</text><rect fill=\"black\" height=\"15.84\" width=\"26.928\" x=\"105.336\" y=\"18.48\"/><circle cx=\"105.6\" cy=\"26.4\" fill=\"black\" r=\"-0.264\" stroke=\"black\" stroke-width=\"0\"/><circle cx=\"132.0\" cy=\"26.4\" fill=\"black\" r=\"-0.264\" stroke=\"black\" stroke-width=\"0\"/><text alignment-baseline=\"middle\" fill=\"white\" font-family=\"Times\" font-size=\"9.24\" text-anchor=\"middle\" x=\"118.8\" y=\"27.72\">-28</text><rect fill=\"black\" height=\"15.84\" width=\"26.928\" x=\"131.736\" y=\"18.48\"/><circle cx=\"132.0\" cy=\"26.4\" fill=\"black\" r=\"-0.264\" stroke=\"black\" stroke-width=\"0\"/><circle cx=\"158.4\" cy=\"26.4\" fill=\"black\" r=\"-0.264\" stroke=\"black\" stroke-width=\"0\"/><text alignment-baseline=\"middle\" fill=\"white\" font-family=\"Times\" font-size=\"9.24\" text-anchor=\"middle\" x=\"145.2\" y=\"27.72\">-11</text><rect fill=\"black\" height=\"15.84\" width=\"26.928\" x=\"158.136\" y=\"18.48\"/><circle cx=\"158.4\" cy=\"26.4\" fill=\"black\" r=\"-0.264\" stroke=\"black\" stroke-width=\"0\"/><circle cx=\"184.8\" cy=\"26.4\" fill=\"black\" r=\"-0.264\" stroke=\"black\" stroke-width=\"0\"/><text alignment-baseline=\"middle\" fill=\"white\" font-family=\"Times\" font-size=\"9.24\" text-anchor=\"middle\" x=\"171.6\" y=\"27.72\">-28</text><rect fill=\"black\" height=\"15.84\" width=\"26.928\" x=\"184.536\" y=\"18.48\"/><circle cx=\"184.8\" cy=\"26.4\" fill=\"black\" r=\"-0.264\" stroke=\"black\" stroke-width=\"0\"/><circle cx=\"211.2\" cy=\"26.4\" fill=\"black\" r=\"-0.264\" stroke=\"black\" stroke-width=\"0\"/><text alignment-baseline=\"middle\" fill=\"white\" font-family=\"Times\" font-size=\"9.24\" text-anchor=\"middle\" x=\"198.0\" y=\"27.72\">-29</text><rect fill=\"black\" height=\"15.84\" width=\"26.928\" x=\"210.936\" y=\"18.48\"/><circle cx=\"211.2\" cy=\"26.4\" fill=\"black\" r=\"-0.264\" stroke=\"black\" stroke-width=\"0\"/><circle cx=\"237.6\" cy=\"26.4\" fill=\"black\" r=\"-0.264\" stroke=\"black\" stroke-width=\"0\"/><text alignment-baseline=\"middle\" fill=\"white\" font-family=\"Times\" font-size=\"9.24\" text-anchor=\"middle\" x=\"224.4\" y=\"27.72\">-36</text><text alignment-baseline=\"middle\" fill=\"black\" font-family=\"Times\" font-size=\"9.24\" text-anchor=\"end\" x=\"47.52\" y=\"27.72\">5b</text><line stroke=\"green\" stroke-width=\"1.32\" x1=\"132.0\" x2=\"132.0\" y1=\"26.136\" y2=\"53.064\"/><text alignment-baseline=\"middle\" fill=\"black\" font-family=\"Times\" font-size=\"9.24\" text-anchor=\"end\" x=\"47.52\" y=\"54.12\">9b</text><rect fill=\"green\" height=\"15.84\" width=\"26.928\" x=\"52.536\" y=\"44.88\"/><circle cx=\"52.8\" cy=\"52.8\" fill=\"green\" r=\"-0.264\" stroke=\"green\" stroke-width=\"0\"/><circle cx=\"79.2\" cy=\"52.8\" fill=\"green\" r=\"-0.264\" stroke=\"green\" stroke-width=\"0\"/><text alignment-baseline=\"middle\" fill=\"white\" font-family=\"Times\" font-size=\"9.24\" text-anchor=\"middle\" x=\"66.0\" y=\"54.12\">-33</text><rect fill=\"green\" height=\"15.84\" width=\"26.928\" x=\"78.936\" y=\"44.88\"/><circle cx=\"79.2\" cy=\"52.8\" fill=\"green\" r=\"-0.264\" stroke=\"green\" stroke-width=\"0\"/><circle cx=\"105.6\" cy=\"52.8\" fill=\"green\" r=\"-0.264\" stroke=\"green\" stroke-width=\"0\"/><text alignment-baseline=\"middle\" fill=\"white\" font-family=\"Times\" font-size=\"9.24\" text-anchor=\"middle\" x=\"92.4\" y=\"54.12\">-25</text><rect fill=\"green\" height=\"15.84\" width=\"26.928\" x=\"105.336\" y=\"44.88\"/><circle cx=\"105.6\" cy=\"52.8\" fill=\"green\" r=\"-0.264\" stroke=\"green\" stroke-width=\"0\"/><circle cx=\"132.0\" cy=\"52.8\" fill=\"green\" r=\"-0.264\" stroke=\"green\" stroke-width=\"0\"/><text alignment-baseline=\"middle\" fill=\"white\" font-family=\"Times\" font-size=\"9.24\" text-anchor=\"middle\" x=\"118.8\" y=\"54.12\">-29</text><line stroke=\"red\" stroke-width=\"1.32\" x1=\"158.4\" x2=\"158.4\" y1=\"26.136\" y2=\"79.464\"/><text alignment-baseline=\"middle\" fill=\"black\" font-family=\"Times\" font-size=\"9.24\" text-anchor=\"start\" x=\"242.88\" y=\"80.52\">11f</text><rect fill=\"red\" height=\"15.84\" width=\"26.928\" x=\"158.136\" y=\"71.28\"/><circle cx=\"158.4\" cy=\"79.2\" fill=\"red\" r=\"-0.264\" stroke=\"red\" stroke-width=\"0\"/><circle cx=\"184.8\" cy=\"79.2\" fill=\"red\" r=\"-0.264\" stroke=\"red\" stroke-width=\"0\"/><text alignment-baseline=\"middle\" fill=\"white\" font-family=\"Times\" font-size=\"9.24\" text-anchor=\"middle\" x=\"171.6\" y=\"80.52\">-28</text><rect fill=\"red\" height=\"15.84\" width=\"26.928\" x=\"184.536\" y=\"71.28\"/><circle cx=\"184.8\" cy=\"79.2\" fill=\"red\" r=\"-0.264\" stroke=\"red\" stroke-width=\"0\"/><circle cx=\"211.2\" cy=\"79.2\" fill=\"red\" r=\"-0.264\" stroke=\"red\" stroke-width=\"0\"/><text alignment-baseline=\"middle\" fill=\"white\" font-family=\"Times\" font-size=\"9.24\" text-anchor=\"middle\" x=\"198.0\" y=\"80.52\">-28</text><rect fill=\"red\" height=\"15.84\" width=\"26.928\" x=\"210.936\" y=\"71.28\"/><circle cx=\"211.2\" cy=\"79.2\" fill=\"red\" r=\"-0.264\" stroke=\"red\" stroke-width=\"0\"/><circle cx=\"237.6\" cy=\"79.2\" fill=\"red\" r=\"-0.264\" stroke=\"red\" stroke-width=\"0\"/><text alignment-baseline=\"middle\" fill=\"white\" font-family=\"Times\" font-size=\"9.24\" text-anchor=\"middle\" x=\"224.4\" y=\"80.52\">-38</text><line stroke=\"red\" stroke-width=\"1.32\" x1=\"158.4\" x2=\"158.4\" y1=\"26.136\" y2=\"105.864\"/><text alignment-baseline=\"middle\" fill=\"black\" font-family=\"Times\" font-size=\"9.24\" text-anchor=\"start\" x=\"242.88\" y=\"106.92\">15f</text><rect fill=\"red\" height=\"15.84\" width=\"26.928\" x=\"158.136\" y=\"97.68\"/><circle cx=\"158.4\" cy=\"105.6\" fill=\"red\" r=\"-0.264\" stroke=\"red\" stroke-width=\"0\"/><circle cx=\"184.8\" cy=\"105.6\" fill=\"red\" r=\"-0.264\" stroke=\"red\" stroke-width=\"0\"/><text alignment-baseline=\"middle\" fill=\"white\" font-family=\"Times\" font-size=\"9.24\" text-anchor=\"middle\" x=\"171.6\" y=\"106.92\">-28</text><rect fill=\"red\" height=\"15.84\" width=\"26.928\" x=\"184.536\" y=\"97.68\"/><circle cx=\"184.8\" cy=\"105.6\" fill=\"red\" r=\"-0.264\" stroke=\"red\" stroke-width=\"0\"/><circle cx=\"211.2\" cy=\"105.6\" fill=\"red\" r=\"-0.264\" stroke=\"red\" stroke-width=\"0\"/><text alignment-baseline=\"middle\" fill=\"white\" font-family=\"Times\" font-size=\"9.24\" text-anchor=\"middle\" x=\"198.0\" y=\"106.92\">-28</text><rect fill=\"red\" height=\"15.84\" width=\"26.928\" x=\"210.936\" y=\"97.68\"/><circle cx=\"211.2\" cy=\"105.6\" fill=\"red\" r=\"-0.264\" stroke=\"red\" stroke-width=\"0\"/><circle cx=\"237.6\" cy=\"105.6\" fill=\"red\" r=\"-0.264\" stroke=\"red\" stroke-width=\"0\"/><text alignment-baseline=\"middle\" fill=\"white\" font-family=\"Times\" font-size=\"9.24\" text-anchor=\"middle\" x=\"224.4\" y=\"106.92\">-32</text><line stroke=\"red\" stroke-width=\"1.32\" x1=\"211.2\" x2=\"211.2\" y1=\"105.336\" y2=\"132.264\"/><text alignment-baseline=\"middle\" fill=\"black\" font-family=\"Times\" font-size=\"9.24\" text-anchor=\"start\" x=\"242.88\" y=\"133.32\">16f</text><rect fill=\"red\" height=\"15.84\" width=\"26.928\" x=\"210.936\" y=\"124.08\"/><circle cx=\"211.2\" cy=\"132.0\" fill=\"red\" r=\"-0.264\" stroke=\"red\" stroke-width=\"0\"/><circle cx=\"237.6\" cy=\"132.0\" fill=\"red\" r=\"-0.264\" stroke=\"red\" stroke-width=\"0\"/><text alignment-baseline=\"middle\" fill=\"white\" font-family=\"Times\" font-size=\"9.24\" text-anchor=\"middle\" x=\"224.4\" y=\"133.32\">-30</text><line stroke=\"green\" stroke-width=\"1.32\" x1=\"132.0\" x2=\"132.0\" y1=\"26.136\" y2=\"158.664\"/><text alignment-baseline=\"middle\" fill=\"black\" font-family=\"Times\" font-size=\"9.24\" text-anchor=\"end\" x=\"47.52\" y=\"159.72\">17b</text><rect fill=\"green\" height=\"15.84\" width=\"26.928\" x=\"52.536\" y=\"150.48\"/><circle cx=\"52.8\" cy=\"158.4\" fill=\"green\" r=\"-0.264\" stroke=\"green\" stroke-width=\"0\"/><circle cx=\"79.2\" cy=\"158.4\" fill=\"green\" r=\"-0.264\" stroke=\"green\" stroke-width=\"0\"/><text alignment-baseline=\"middle\" fill=\"white\" font-family=\"Times\" font-size=\"9.24\" text-anchor=\"middle\" x=\"66.0\" y=\"159.72\">-31</text><rect fill=\"green\" height=\"15.84\" width=\"26.928\" x=\"78.936\" y=\"150.48\"/><circle cx=\"79.2\" cy=\"158.4\" fill=\"green\" r=\"-0.264\" stroke=\"green\" stroke-width=\"0\"/><circle cx=\"105.6\" cy=\"158.4\" fill=\"green\" r=\"-0.264\" stroke=\"green\" stroke-width=\"0\"/><text alignment-baseline=\"middle\" fill=\"white\" font-family=\"Times\" font-size=\"9.24\" text-anchor=\"middle\" x=\"92.4\" y=\"159.72\">-26</text><rect fill=\"green\" height=\"15.84\" width=\"26.928\" x=\"105.336\" y=\"150.48\"/><circle cx=\"105.6\" cy=\"158.4\" fill=\"green\" r=\"-0.264\" stroke=\"green\" stroke-width=\"0\"/><circle cx=\"132.0\" cy=\"158.4\" fill=\"green\" r=\"-0.264\" stroke=\"green\" stroke-width=\"0\"/><text alignment-baseline=\"middle\" fill=\"white\" font-family=\"Times\" font-size=\"9.24\" text-anchor=\"middle\" x=\"118.8\" y=\"159.72\">-29</text><line stroke=\"red\" stroke-width=\"1.32\" x1=\"158.4\" x2=\"158.4\" y1=\"26.136\" y2=\"185.064\"/><text alignment-baseline=\"middle\" fill=\"black\" font-family=\"Times\" font-size=\"9.24\" text-anchor=\"start\" x=\"242.88\" y=\"186.12\">18f</text><rect fill=\"red\" height=\"15.84\" width=\"26.928\" x=\"158.136\" y=\"176.88\"/><circle cx=\"158.4\" cy=\"184.8\" fill=\"red\" r=\"-0.264\" stroke=\"red\" stroke-width=\"0\"/><circle cx=\"184.8\" cy=\"184.8\" fill=\"red\" r=\"-0.264\" stroke=\"red\" stroke-width=\"0\"/><text alignment-baseline=\"middle\" fill=\"white\" font-family=\"Times\" font-size=\"9.24\" text-anchor=\"middle\" x=\"171.6\" y=\"186.12\">-29</text><rect fill=\"red\" height=\"15.84\" width=\"26.928\" x=\"184.536\" y=\"176.88\"/><circle cx=\"184.8\" cy=\"184.8\" fill=\"red\" r=\"-0.264\" stroke=\"red\" stroke-width=\"0\"/><circle cx=\"211.2\" cy=\"184.8\" fill=\"red\" r=\"-0.264\" stroke=\"red\" stroke-width=\"0\"/><text alignment-baseline=\"middle\" fill=\"white\" font-family=\"Times\" font-size=\"9.24\" text-anchor=\"middle\" x=\"198.0\" y=\"186.12\">-27</text><rect fill=\"red\" height=\"15.84\" width=\"26.928\" x=\"210.936\" y=\"176.88\"/><circle cx=\"211.2\" cy=\"184.8\" fill=\"red\" r=\"-0.264\" stroke=\"red\" stroke-width=\"0\"/><circle cx=\"237.6\" cy=\"184.8\" fill=\"red\" r=\"-0.264\" stroke=\"red\" stroke-width=\"0\"/><text alignment-baseline=\"middle\" fill=\"white\" font-family=\"Times\" font-size=\"9.24\" text-anchor=\"middle\" x=\"224.4\" y=\"186.12\">-34</text><line stroke=\"red\" stroke-width=\"1.32\" x1=\"158.4\" x2=\"158.4\" y1=\"26.136\" y2=\"211.464\"/><text alignment-baseline=\"middle\" fill=\"black\" font-family=\"Times\" font-size=\"9.24\" text-anchor=\"start\" x=\"242.88\" y=\"212.52\">20f</text><rect fill=\"red\" height=\"15.84\" width=\"26.928\" x=\"158.136\" y=\"203.28\"/><circle cx=\"158.4\" cy=\"211.2\" fill=\"red\" r=\"-0.264\" stroke=\"red\" stroke-width=\"0\"/><circle cx=\"184.8\" cy=\"211.2\" fill=\"red\" r=\"-0.264\" stroke=\"red\" stroke-width=\"0\"/><text alignment-baseline=\"middle\" fill=\"white\" font-family=\"Times\" font-size=\"9.24\" text-anchor=\"middle\" x=\"171.6\" y=\"212.52\">-29</text><rect fill=\"red\" height=\"15.84\" width=\"26.928\" x=\"184.536\" y=\"203.28\"/><circle cx=\"184.8\" cy=\"211.2\" fill=\"red\" r=\"-0.264\" stroke=\"red\" stroke-width=\"0\"/><circle cx=\"211.2\" cy=\"211.2\" fill=\"red\" r=\"-0.264\" stroke=\"red\" stroke-width=\"0\"/><text alignment-baseline=\"middle\" fill=\"white\" font-family=\"Times\" font-size=\"9.24\" text-anchor=\"middle\" x=\"198.0\" y=\"212.52\">-26</text><rect fill=\"red\" height=\"15.84\" width=\"26.928\" x=\"210.936\" y=\"203.28\"/><circle cx=\"211.2\" cy=\"211.2\" fill=\"red\" r=\"-0.264\" stroke=\"red\" stroke-width=\"0\"/><circle cx=\"237.6\" cy=\"211.2\" fill=\"red\" r=\"-0.264\" stroke=\"red\" stroke-width=\"0\"/><text alignment-baseline=\"middle\" fill=\"white\" font-family=\"Times\" font-size=\"9.24\" text-anchor=\"middle\" x=\"224.4\" y=\"212.52\">-33</text><line stroke=\"green\" stroke-width=\"1.32\" x1=\"132.0\" x2=\"132.0\" y1=\"26.136\" y2=\"237.864\"/><text alignment-baseline=\"middle\" fill=\"black\" font-family=\"Times\" font-size=\"9.24\" text-anchor=\"end\" x=\"21.12\" y=\"238.92\">21b</text><rect fill=\"green\" height=\"15.84\" width=\"26.928\" x=\"26.136\" y=\"229.68\"/><circle cx=\"26.4\" cy=\"237.6\" fill=\"green\" r=\"-0.264\" stroke=\"green\" stroke-width=\"0\"/><circle cx=\"52.8\" cy=\"237.6\" fill=\"green\" r=\"-0.264\" stroke=\"green\" stroke-width=\"0\"/><text alignment-baseline=\"middle\" fill=\"white\" font-family=\"Times\" font-size=\"9.24\" text-anchor=\"middle\" x=\"39.6\" y=\"238.92\">-36</text><rect fill=\"green\" height=\"15.84\" width=\"26.928\" x=\"52.536\" y=\"229.68\"/><circle cx=\"52.8\" cy=\"237.6\" fill=\"green\" r=\"-0.264\" stroke=\"green\" stroke-width=\"0\"/><circle cx=\"79.2\" cy=\"237.6\" fill=\"green\" r=\"-0.264\" stroke=\"green\" stroke-width=\"0\"/><text alignment-baseline=\"middle\" fill=\"white\" font-family=\"Times\" font-size=\"9.24\" text-anchor=\"middle\" x=\"66.0\" y=\"238.92\">-28</text><rect fill=\"green\" height=\"15.84\" width=\"26.928\" x=\"78.936\" y=\"229.68\"/><circle cx=\"79.2\" cy=\"237.6\" fill=\"green\" r=\"-0.264\" stroke=\"green\" stroke-width=\"0\"/><circle cx=\"105.6\" cy=\"237.6\" fill=\"green\" r=\"-0.264\" stroke=\"green\" stroke-width=\"0\"/><text alignment-baseline=\"middle\" fill=\"white\" font-family=\"Times\" font-size=\"9.24\" text-anchor=\"middle\" x=\"92.4\" y=\"238.92\">-22</text><rect fill=\"green\" height=\"15.84\" width=\"26.928\" x=\"105.336\" y=\"229.68\"/><circle cx=\"105.6\" cy=\"237.6\" fill=\"green\" r=\"-0.264\" stroke=\"green\" stroke-width=\"0\"/><circle cx=\"132.0\" cy=\"237.6\" fill=\"green\" r=\"-0.264\" stroke=\"green\" stroke-width=\"0\"/><text alignment-baseline=\"middle\" fill=\"white\" font-family=\"Times\" font-size=\"9.24\" text-anchor=\"middle\" x=\"118.8\" y=\"238.92\">-27</text><line stroke=\"red\" stroke-width=\"1.32\" x1=\"211.2\" x2=\"211.2\" y1=\"210.936\" y2=\"264.264\"/><text alignment-baseline=\"middle\" fill=\"black\" font-family=\"Times\" font-size=\"9.24\" text-anchor=\"start\" x=\"242.88\" y=\"265.32\">22f</text><rect fill=\"red\" height=\"15.84\" width=\"26.928\" x=\"210.936\" y=\"256.08\"/><circle cx=\"211.2\" cy=\"264.0\" fill=\"red\" r=\"-0.264\" stroke=\"red\" stroke-width=\"0\"/><circle cx=\"237.6\" cy=\"264.0\" fill=\"red\" r=\"-0.264\" stroke=\"red\" stroke-width=\"0\"/><text alignment-baseline=\"middle\" fill=\"white\" font-family=\"Times\" font-size=\"9.24\" text-anchor=\"middle\" x=\"224.4\" y=\"265.32\">-31</text><line stroke=\"green\" stroke-width=\"1.32\" x1=\"132.0\" x2=\"132.0\" y1=\"26.136\" y2=\"290.664\"/><text alignment-baseline=\"middle\" fill=\"black\" font-family=\"Times\" font-size=\"9.24\" text-anchor=\"end\" x=\"47.52\" y=\"291.72\">23b</text><rect fill=\"green\" height=\"15.84\" width=\"26.928\" x=\"52.536\" y=\"282.48\"/><circle cx=\"52.8\" cy=\"290.4\" fill=\"green\" r=\"-0.264\" stroke=\"green\" stroke-width=\"0\"/><circle cx=\"79.2\" cy=\"290.4\" fill=\"green\" r=\"-0.264\" stroke=\"green\" stroke-width=\"0\"/><text alignment-baseline=\"middle\" fill=\"white\" font-family=\"Times\" font-size=\"9.24\" text-anchor=\"middle\" x=\"66.0\" y=\"291.72\">-31</text><rect fill=\"green\" height=\"15.84\" width=\"26.928\" x=\"78.936\" y=\"282.48\"/><circle cx=\"79.2\" cy=\"290.4\" fill=\"green\" r=\"-0.264\" stroke=\"green\" stroke-width=\"0\"/><circle cx=\"105.6\" cy=\"290.4\" fill=\"green\" r=\"-0.264\" stroke=\"green\" stroke-width=\"0\"/><text alignment-baseline=\"middle\" fill=\"white\" font-family=\"Times\" font-size=\"9.24\" text-anchor=\"middle\" x=\"92.4\" y=\"291.72\">-25</text><rect fill=\"green\" height=\"15.84\" width=\"26.928\" x=\"105.336\" y=\"282.48\"/><circle cx=\"105.6\" cy=\"290.4\" fill=\"green\" r=\"-0.264\" stroke=\"green\" stroke-width=\"0\"/><circle cx=\"132.0\" cy=\"290.4\" fill=\"green\" r=\"-0.264\" stroke=\"green\" stroke-width=\"0\"/><text alignment-baseline=\"middle\" fill=\"white\" font-family=\"Times\" font-size=\"9.24\" text-anchor=\"middle\" x=\"118.8\" y=\"291.72\">-28</text><line stroke=\"green\" stroke-width=\"1.32\" x1=\"105.6\" x2=\"105.6\" y1=\"290.136\" y2=\"317.064\"/><text alignment-baseline=\"middle\" fill=\"black\" font-family=\"Times\" font-size=\"9.24\" text-anchor=\"end\" x=\"47.52\" y=\"318.12\">24b</text><rect fill=\"green\" height=\"15.84\" width=\"26.928\" x=\"52.536\" y=\"308.88\"/><circle cx=\"52.8\" cy=\"316.8\" fill=\"green\" r=\"-0.264\" stroke=\"green\" stroke-width=\"0\"/><circle cx=\"79.2\" cy=\"316.8\" fill=\"green\" r=\"-0.264\" stroke=\"green\" stroke-width=\"0\"/><text alignment-baseline=\"middle\" fill=\"white\" font-family=\"Times\" font-size=\"9.24\" text-anchor=\"middle\" x=\"66.0\" y=\"318.12\">-30</text><rect fill=\"green\" height=\"15.84\" width=\"26.928\" x=\"78.936\" y=\"308.88\"/><circle cx=\"79.2\" cy=\"316.8\" fill=\"green\" r=\"-0.264\" stroke=\"green\" stroke-width=\"0\"/><circle cx=\"105.6\" cy=\"316.8\" fill=\"green\" r=\"-0.264\" stroke=\"green\" stroke-width=\"0\"/><text alignment-baseline=\"middle\" fill=\"white\" font-family=\"Times\" font-size=\"9.24\" text-anchor=\"middle\" x=\"92.4\" y=\"318.12\">-25</text><line stroke=\"red\" stroke-width=\"1.32\" x1=\"158.4\" x2=\"158.4\" y1=\"26.136\" y2=\"343.464\"/><text alignment-baseline=\"middle\" fill=\"black\" font-family=\"Times\" font-size=\"9.24\" text-anchor=\"start\" x=\"242.88\" y=\"344.52\">25f</text><rect fill=\"red\" height=\"15.84\" width=\"26.928\" x=\"158.136\" y=\"335.28\"/><circle cx=\"158.4\" cy=\"343.2\" fill=\"red\" r=\"-0.264\" stroke=\"red\" stroke-width=\"0\"/><circle cx=\"184.8\" cy=\"343.2\" fill=\"red\" r=\"-0.264\" stroke=\"red\" stroke-width=\"0\"/><text alignment-baseline=\"middle\" fill=\"white\" font-family=\"Times\" font-size=\"9.24\" text-anchor=\"middle\" x=\"171.6\" y=\"344.52\">-29</text><rect fill=\"red\" height=\"15.84\" width=\"26.928\" x=\"184.536\" y=\"335.28\"/><circle cx=\"184.8\" cy=\"343.2\" fill=\"red\" r=\"-0.264\" stroke=\"red\" stroke-width=\"0\"/><circle cx=\"211.2\" cy=\"343.2\" fill=\"red\" r=\"-0.264\" stroke=\"red\" stroke-width=\"0\"/><text alignment-baseline=\"middle\" fill=\"white\" font-family=\"Times\" font-size=\"9.24\" text-anchor=\"middle\" x=\"198.0\" y=\"344.52\">-26</text><rect fill=\"red\" height=\"15.84\" width=\"26.928\" x=\"210.936\" y=\"335.28\"/><circle cx=\"211.2\" cy=\"343.2\" fill=\"red\" r=\"-0.264\" stroke=\"red\" stroke-width=\"0\"/><circle cx=\"237.6\" cy=\"343.2\" fill=\"red\" r=\"-0.264\" stroke=\"red\" stroke-width=\"0\"/><text alignment-baseline=\"middle\" fill=\"white\" font-family=\"Times\" font-size=\"9.24\" text-anchor=\"middle\" x=\"224.4\" y=\"344.52\">-33</text><line stroke=\"red\" stroke-width=\"1.32\" x1=\"211.2\" x2=\"211.2\" y1=\"342.936\" y2=\"369.864\"/><text alignment-baseline=\"middle\" fill=\"black\" font-family=\"Times\" font-size=\"9.24\" text-anchor=\"start\" x=\"242.88\" y=\"370.92\">26f</text><rect fill=\"red\" height=\"15.84\" width=\"26.928\" x=\"210.936\" y=\"361.68\"/><circle cx=\"211.2\" cy=\"369.6\" fill=\"red\" r=\"-0.264\" stroke=\"red\" stroke-width=\"0\"/><circle cx=\"237.6\" cy=\"369.6\" fill=\"red\" r=\"-0.264\" stroke=\"red\" stroke-width=\"0\"/><text alignment-baseline=\"middle\" fill=\"white\" font-family=\"Times\" font-size=\"9.24\" text-anchor=\"middle\" x=\"224.4\" y=\"370.92\">-34</text><line stroke=\"green\" stroke-width=\"1.32\" x1=\"132.0\" x2=\"132.0\" y1=\"26.136\" y2=\"396.264\"/><text alignment-baseline=\"middle\" fill=\"black\" font-family=\"Times\" font-size=\"9.24\" text-anchor=\"end\" x=\"47.52\" y=\"397.32\">27b</text><rect fill=\"green\" height=\"15.84\" width=\"26.928\" x=\"52.536\" y=\"388.08\"/><circle cx=\"52.8\" cy=\"396.0\" fill=\"green\" r=\"-0.264\" stroke=\"green\" stroke-width=\"0\"/><circle cx=\"79.2\" cy=\"396.0\" fill=\"green\" r=\"-0.264\" stroke=\"green\" stroke-width=\"0\"/><text alignment-baseline=\"middle\" fill=\"white\" font-family=\"Times\" font-size=\"9.24\" text-anchor=\"middle\" x=\"66.0\" y=\"397.32\">-33</text><rect fill=\"green\" height=\"15.84\" width=\"26.928\" x=\"78.936\" y=\"388.08\"/><circle cx=\"79.2\" cy=\"396.0\" fill=\"green\" r=\"-0.264\" stroke=\"green\" stroke-width=\"0\"/><circle cx=\"105.6\" cy=\"396.0\" fill=\"green\" r=\"-0.264\" stroke=\"green\" stroke-width=\"0\"/><text alignment-baseline=\"middle\" fill=\"white\" font-family=\"Times\" font-size=\"9.24\" text-anchor=\"middle\" x=\"92.4\" y=\"397.32\">-25</text><rect fill=\"green\" height=\"15.84\" width=\"26.928\" x=\"105.336\" y=\"388.08\"/><circle cx=\"105.6\" cy=\"396.0\" fill=\"green\" r=\"-0.264\" stroke=\"green\" stroke-width=\"0\"/><circle cx=\"132.0\" cy=\"396.0\" fill=\"green\" r=\"-0.264\" stroke=\"green\" stroke-width=\"0\"/><text alignment-baseline=\"middle\" fill=\"white\" font-family=\"Times\" font-size=\"9.24\" text-anchor=\"middle\" x=\"118.8\" y=\"397.32\">-29</text><line stroke=\"green\" stroke-width=\"1.32\" x1=\"105.6\" x2=\"105.6\" y1=\"395.736\" y2=\"422.664\"/><text alignment-baseline=\"middle\" fill=\"black\" font-family=\"Times\" font-size=\"9.24\" text-anchor=\"end\" x=\"47.52\" y=\"423.72\">28b</text><rect fill=\"green\" height=\"15.84\" width=\"26.928\" x=\"52.536\" y=\"414.48\"/><circle cx=\"52.8\" cy=\"422.4\" fill=\"green\" r=\"-0.264\" stroke=\"green\" stroke-width=\"0\"/><circle cx=\"79.2\" cy=\"422.4\" fill=\"green\" r=\"-0.264\" stroke=\"green\" stroke-width=\"0\"/><text alignment-baseline=\"middle\" fill=\"white\" font-family=\"Times\" font-size=\"9.24\" text-anchor=\"middle\" x=\"66.0\" y=\"423.72\">-34</text><rect fill=\"green\" height=\"15.84\" width=\"26.928\" x=\"78.936\" y=\"414.48\"/><circle cx=\"79.2\" cy=\"422.4\" fill=\"green\" r=\"-0.264\" stroke=\"green\" stroke-width=\"0\"/><circle cx=\"105.6\" cy=\"422.4\" fill=\"green\" r=\"-0.264\" stroke=\"green\" stroke-width=\"0\"/><text alignment-baseline=\"middle\" fill=\"white\" font-family=\"Times\" font-size=\"9.24\" text-anchor=\"middle\" x=\"92.4\" y=\"423.72\">-26</text><line stroke=\"green\" stroke-width=\"1.32\" x1=\"105.6\" x2=\"105.6\" y1=\"395.736\" y2=\"449.064\"/><text alignment-baseline=\"middle\" fill=\"black\" font-family=\"Times\" font-size=\"9.24\" text-anchor=\"end\" x=\"47.52\" y=\"450.12\">29b</text><rect fill=\"green\" height=\"15.84\" width=\"26.928\" x=\"52.536\" y=\"440.88\"/><circle cx=\"52.8\" cy=\"448.8\" fill=\"green\" r=\"-0.264\" stroke=\"green\" stroke-width=\"0\"/><circle cx=\"79.2\" cy=\"448.8\" fill=\"green\" r=\"-0.264\" stroke=\"green\" stroke-width=\"0\"/><text alignment-baseline=\"middle\" fill=\"white\" font-family=\"Times\" font-size=\"9.24\" text-anchor=\"middle\" x=\"66.0\" y=\"450.12\">-32</text><rect fill=\"green\" height=\"15.84\" width=\"26.928\" x=\"78.936\" y=\"440.88\"/><circle cx=\"79.2\" cy=\"448.8\" fill=\"green\" r=\"-0.264\" stroke=\"green\" stroke-width=\"0\"/><circle cx=\"105.6\" cy=\"448.8\" fill=\"green\" r=\"-0.264\" stroke=\"green\" stroke-width=\"0\"/><text alignment-baseline=\"middle\" fill=\"white\" font-family=\"Times\" font-size=\"9.24\" text-anchor=\"middle\" x=\"92.4\" y=\"450.12\">-26</text><line stroke=\"green\" stroke-width=\"1.32\" x1=\"132.0\" x2=\"132.0\" y1=\"26.136\" y2=\"475.464\"/><text alignment-baseline=\"middle\" fill=\"black\" font-family=\"Times\" font-size=\"9.24\" text-anchor=\"end\" x=\"47.52\" y=\"476.52\">30b</text><rect fill=\"green\" height=\"15.84\" width=\"26.928\" x=\"52.536\" y=\"467.28\"/><circle cx=\"52.8\" cy=\"475.2\" fill=\"green\" r=\"-0.264\" stroke=\"green\" stroke-width=\"0\"/><circle cx=\"79.2\" cy=\"475.2\" fill=\"green\" r=\"-0.264\" stroke=\"green\" stroke-width=\"0\"/><text alignment-baseline=\"middle\" fill=\"white\" font-family=\"Times\" font-size=\"9.24\" text-anchor=\"middle\" x=\"66.0\" y=\"476.52\">-34</text><rect fill=\"green\" height=\"15.84\" width=\"26.928\" x=\"78.936\" y=\"467.28\"/><circle cx=\"79.2\" cy=\"475.2\" fill=\"green\" r=\"-0.264\" stroke=\"green\" stroke-width=\"0\"/><circle cx=\"105.6\" cy=\"475.2\" fill=\"green\" r=\"-0.264\" stroke=\"green\" stroke-width=\"0\"/><text alignment-baseline=\"middle\" fill=\"white\" font-family=\"Times\" font-size=\"9.24\" text-anchor=\"middle\" x=\"92.4\" y=\"476.52\">-28</text><rect fill=\"green\" height=\"15.84\" width=\"26.928\" x=\"105.336\" y=\"467.28\"/><circle cx=\"105.6\" cy=\"475.2\" fill=\"green\" r=\"-0.264\" stroke=\"green\" stroke-width=\"0\"/><circle cx=\"132.0\" cy=\"475.2\" fill=\"green\" r=\"-0.264\" stroke=\"green\" stroke-width=\"0\"/><text alignment-baseline=\"middle\" fill=\"white\" font-family=\"Times\" font-size=\"9.24\" text-anchor=\"middle\" x=\"118.8\" y=\"476.52\">-28</text><line stroke=\"green\" stroke-width=\"1.32\" x1=\"132.0\" x2=\"132.0\" y1=\"26.136\" y2=\"501.864\"/><text alignment-baseline=\"middle\" fill=\"black\" font-family=\"Times\" font-size=\"9.24\" text-anchor=\"end\" x=\"47.52\" y=\"502.92\">32b</text><rect fill=\"green\" height=\"15.84\" width=\"26.928\" x=\"52.536\" y=\"493.68\"/><circle cx=\"52.8\" cy=\"501.6\" fill=\"green\" r=\"-0.264\" stroke=\"green\" stroke-width=\"0\"/><circle cx=\"79.2\" cy=\"501.6\" fill=\"green\" r=\"-0.264\" stroke=\"green\" stroke-width=\"0\"/><text alignment-baseline=\"middle\" fill=\"white\" font-family=\"Times\" font-size=\"9.24\" text-anchor=\"middle\" x=\"66.0\" y=\"502.92\">-33</text><rect fill=\"green\" height=\"15.84\" width=\"26.928\" x=\"78.936\" y=\"493.68\"/><circle cx=\"79.2\" cy=\"501.6\" fill=\"green\" r=\"-0.264\" stroke=\"green\" stroke-width=\"0\"/><circle cx=\"105.6\" cy=\"501.6\" fill=\"green\" r=\"-0.264\" stroke=\"green\" stroke-width=\"0\"/><text alignment-baseline=\"middle\" fill=\"white\" font-family=\"Times\" font-size=\"9.24\" text-anchor=\"middle\" x=\"92.4\" y=\"502.92\">-26</text><rect fill=\"green\" height=\"15.84\" width=\"26.928\" x=\"105.336\" y=\"493.68\"/><circle cx=\"105.6\" cy=\"501.6\" fill=\"green\" r=\"-0.264\" stroke=\"green\" stroke-width=\"0\"/><circle cx=\"132.0\" cy=\"501.6\" fill=\"green\" r=\"-0.264\" stroke=\"green\" stroke-width=\"0\"/><text alignment-baseline=\"middle\" fill=\"white\" font-family=\"Times\" font-size=\"9.24\" text-anchor=\"middle\" x=\"118.8\" y=\"502.92\">-27</text><line stroke=\"green\" stroke-width=\"1.32\" x1=\"132.0\" x2=\"132.0\" y1=\"26.136\" y2=\"528.264\"/><text alignment-baseline=\"middle\" fill=\"black\" font-family=\"Times\" font-size=\"9.24\" text-anchor=\"end\" x=\"47.52\" y=\"529.32\">34b</text><rect fill=\"green\" height=\"15.84\" width=\"26.928\" x=\"52.536\" y=\"520.08\"/><circle cx=\"52.8\" cy=\"528.0\" fill=\"green\" r=\"-0.264\" stroke=\"green\" stroke-width=\"0\"/><circle cx=\"79.2\" cy=\"528.0\" fill=\"green\" r=\"-0.264\" stroke=\"green\" stroke-width=\"0\"/><text alignment-baseline=\"middle\" fill=\"white\" font-family=\"Times\" font-size=\"9.24\" text-anchor=\"middle\" x=\"66.0\" y=\"529.32\">-35</text><rect fill=\"green\" height=\"15.84\" width=\"26.928\" x=\"78.936\" y=\"520.08\"/><circle cx=\"79.2\" cy=\"528.0\" fill=\"green\" r=\"-0.264\" stroke=\"green\" stroke-width=\"0\"/><circle cx=\"105.6\" cy=\"528.0\" fill=\"green\" r=\"-0.264\" stroke=\"green\" stroke-width=\"0\"/><text alignment-baseline=\"middle\" fill=\"white\" font-family=\"Times\" font-size=\"9.24\" text-anchor=\"middle\" x=\"92.4\" y=\"529.32\">-27</text><rect fill=\"green\" height=\"15.84\" width=\"26.928\" x=\"105.336\" y=\"520.08\"/><circle cx=\"105.6\" cy=\"528.0\" fill=\"green\" r=\"-0.264\" stroke=\"green\" stroke-width=\"0\"/><circle cx=\"132.0\" cy=\"528.0\" fill=\"green\" r=\"-0.264\" stroke=\"green\" stroke-width=\"0\"/><text alignment-baseline=\"middle\" fill=\"white\" font-family=\"Times\" font-size=\"9.24\" text-anchor=\"middle\" x=\"118.8\" y=\"529.32\">-28</text><line stroke=\"red\" stroke-width=\"1.32\" x1=\"184.8\" x2=\"184.8\" y1=\"342.936\" y2=\"554.664\"/><text alignment-baseline=\"middle\" fill=\"black\" font-family=\"Times\" font-size=\"9.24\" text-anchor=\"start\" x=\"242.88\" y=\"555.72\">35f</text><rect fill=\"red\" height=\"15.84\" width=\"26.928\" x=\"184.536\" y=\"546.48\"/><circle cx=\"184.8\" cy=\"554.4\" fill=\"red\" r=\"-0.264\" stroke=\"red\" stroke-width=\"0\"/><circle cx=\"211.2\" cy=\"554.4\" fill=\"red\" r=\"-0.264\" stroke=\"red\" stroke-width=\"0\"/><text alignment-baseline=\"middle\" fill=\"white\" font-family=\"Times\" font-size=\"9.24\" text-anchor=\"middle\" x=\"198.0\" y=\"555.72\">-26</text><rect fill=\"red\" height=\"15.84\" width=\"26.928\" x=\"210.936\" y=\"546.48\"/><circle cx=\"211.2\" cy=\"554.4\" fill=\"red\" r=\"-0.264\" stroke=\"red\" stroke-width=\"0\"/><circle cx=\"237.6\" cy=\"554.4\" fill=\"red\" r=\"-0.264\" stroke=\"red\" stroke-width=\"0\"/><text alignment-baseline=\"middle\" fill=\"white\" font-family=\"Times\" font-size=\"9.24\" text-anchor=\"middle\" x=\"224.4\" y=\"555.72\">-34</text><line stroke=\"green\" stroke-width=\"1.32\" x1=\"79.2\" x2=\"79.2\" y1=\"527.736\" y2=\"581.064\"/><text alignment-baseline=\"middle\" fill=\"black\" font-family=\"Times\" font-size=\"9.24\" text-anchor=\"end\" x=\"47.52\" y=\"582.12\">36b</text><rect fill=\"green\" height=\"15.84\" width=\"26.928\" x=\"52.536\" y=\"572.88\"/><circle cx=\"52.8\" cy=\"580.8\" fill=\"green\" r=\"-0.264\" stroke=\"green\" stroke-width=\"0\"/><circle cx=\"79.2\" cy=\"580.8\" fill=\"green\" r=\"-0.264\" stroke=\"green\" stroke-width=\"0\"/><text alignment-baseline=\"middle\" fill=\"white\" font-family=\"Times\" font-size=\"9.24\" text-anchor=\"middle\" x=\"66.0\" y=\"582.12\">-35</text><line stroke=\"red\" stroke-width=\"1.32\" x1=\"158.4\" x2=\"158.4\" y1=\"26.136\" y2=\"607.464\"/><text alignment-baseline=\"middle\" fill=\"black\" font-family=\"Times\" font-size=\"9.24\" text-anchor=\"start\" x=\"242.88\" y=\"608.52\">37f</text><rect fill=\"red\" height=\"15.84\" width=\"26.928\" x=\"158.136\" y=\"599.28\"/><circle cx=\"158.4\" cy=\"607.2\" fill=\"red\" r=\"-0.264\" stroke=\"red\" stroke-width=\"0\"/><circle cx=\"184.8\" cy=\"607.2\" fill=\"red\" r=\"-0.264\" stroke=\"red\" stroke-width=\"0\"/><text alignment-baseline=\"middle\" fill=\"white\" font-family=\"Times\" font-size=\"9.24\" text-anchor=\"middle\" x=\"171.6\" y=\"608.52\">-29</text><rect fill=\"red\" height=\"15.84\" width=\"26.928\" x=\"184.536\" y=\"599.28\"/><circle cx=\"184.8\" cy=\"607.2\" fill=\"red\" r=\"-0.264\" stroke=\"red\" stroke-width=\"0\"/><circle cx=\"211.2\" cy=\"607.2\" fill=\"red\" r=\"-0.264\" stroke=\"red\" stroke-width=\"0\"/><text alignment-baseline=\"middle\" fill=\"white\" font-family=\"Times\" font-size=\"9.24\" text-anchor=\"middle\" x=\"198.0\" y=\"608.52\">-27</text><rect fill=\"red\" height=\"15.84\" width=\"26.928\" x=\"210.936\" y=\"599.28\"/><circle cx=\"211.2\" cy=\"607.2\" fill=\"red\" r=\"-0.264\" stroke=\"red\" stroke-width=\"0\"/><circle cx=\"237.6\" cy=\"607.2\" fill=\"red\" r=\"-0.264\" stroke=\"red\" stroke-width=\"0\"/><text alignment-baseline=\"middle\" fill=\"white\" font-family=\"Times\" font-size=\"9.24\" text-anchor=\"middle\" x=\"224.4\" y=\"608.52\">-34</text><line stroke=\"red\" stroke-width=\"1.32\" x1=\"158.4\" x2=\"158.4\" y1=\"26.136\" y2=\"633.864\"/><text alignment-baseline=\"middle\" fill=\"black\" font-family=\"Times\" font-size=\"9.24\" text-anchor=\"start\" x=\"242.88\" y=\"634.92\">40f</text><rect fill=\"red\" height=\"15.84\" width=\"26.928\" x=\"158.136\" y=\"625.68\"/><circle cx=\"158.4\" cy=\"633.6\" fill=\"red\" r=\"-0.264\" stroke=\"red\" stroke-width=\"0\"/><circle cx=\"184.8\" cy=\"633.6\" fill=\"red\" r=\"-0.264\" stroke=\"red\" stroke-width=\"0\"/><text alignment-baseline=\"middle\" fill=\"white\" font-family=\"Times\" font-size=\"9.24\" text-anchor=\"middle\" x=\"171.6\" y=\"634.92\">-29</text><rect fill=\"red\" height=\"15.84\" width=\"26.928\" x=\"184.536\" y=\"625.68\"/><circle cx=\"184.8\" cy=\"633.6\" fill=\"red\" r=\"-0.264\" stroke=\"red\" stroke-width=\"0\"/><circle cx=\"211.2\" cy=\"633.6\" fill=\"red\" r=\"-0.264\" stroke=\"red\" stroke-width=\"0\"/><text alignment-baseline=\"middle\" fill=\"white\" font-family=\"Times\" font-size=\"9.24\" text-anchor=\"middle\" x=\"198.0\" y=\"634.92\">-26</text><rect fill=\"red\" height=\"15.84\" width=\"26.928\" x=\"210.936\" y=\"625.68\"/><circle cx=\"211.2\" cy=\"633.6\" fill=\"red\" r=\"-0.264\" stroke=\"red\" stroke-width=\"0\"/><circle cx=\"237.6\" cy=\"633.6\" fill=\"red\" r=\"-0.264\" stroke=\"red\" stroke-width=\"0\"/><text alignment-baseline=\"middle\" fill=\"white\" font-family=\"Times\" font-size=\"9.24\" text-anchor=\"middle\" x=\"224.4\" y=\"634.92\">-35</text><line stroke=\"red\" stroke-width=\"1.32\" x1=\"184.8\" x2=\"184.8\" y1=\"633.336\" y2=\"660.264\"/><text alignment-baseline=\"middle\" fill=\"black\" font-family=\"Times\" font-size=\"9.24\" text-anchor=\"start\" x=\"242.88\" y=\"661.32\">41f</text><rect fill=\"red\" height=\"15.84\" width=\"26.928\" x=\"184.536\" y=\"652.08\"/><circle cx=\"184.8\" cy=\"660.0\" fill=\"red\" r=\"-0.264\" stroke=\"red\" stroke-width=\"0\"/><circle cx=\"211.2\" cy=\"660.0\" fill=\"red\" r=\"-0.264\" stroke=\"red\" stroke-width=\"0\"/><text alignment-baseline=\"middle\" fill=\"white\" font-family=\"Times\" font-size=\"9.24\" text-anchor=\"middle\" x=\"198.0\" y=\"661.32\">-26</text><rect fill=\"red\" height=\"15.84\" width=\"26.928\" x=\"210.936\" y=\"652.08\"/><circle cx=\"211.2\" cy=\"660.0\" fill=\"red\" r=\"-0.264\" stroke=\"red\" stroke-width=\"0\"/><circle cx=\"237.6\" cy=\"660.0\" fill=\"red\" r=\"-0.264\" stroke=\"red\" stroke-width=\"0\"/><text alignment-baseline=\"middle\" fill=\"white\" font-family=\"Times\" font-size=\"9.24\" text-anchor=\"middle\" x=\"224.4\" y=\"661.32\">-35</text><line stroke=\"green\" stroke-width=\"1.32\" x1=\"79.2\" x2=\"79.2\" y1=\"527.736\" y2=\"686.664\"/><text alignment-baseline=\"middle\" fill=\"black\" font-family=\"Times\" font-size=\"9.24\" text-anchor=\"end\" x=\"47.52\" y=\"687.72\">42b</text><rect fill=\"green\" height=\"15.84\" width=\"26.928\" x=\"52.536\" y=\"678.48\"/><circle cx=\"52.8\" cy=\"686.4\" fill=\"green\" r=\"-0.264\" stroke=\"green\" stroke-width=\"0\"/><circle cx=\"79.2\" cy=\"686.4\" fill=\"green\" r=\"-0.264\" stroke=\"green\" stroke-width=\"0\"/><text alignment-baseline=\"middle\" fill=\"white\" font-family=\"Times\" font-size=\"9.24\" text-anchor=\"middle\" x=\"66.0\" y=\"687.72\">-33</text><line stroke=\"green\" stroke-width=\"1.32\" x1=\"132.0\" x2=\"132.0\" y1=\"26.136\" y2=\"713.064\"/><text alignment-baseline=\"middle\" fill=\"black\" font-family=\"Times\" font-size=\"9.24\" text-anchor=\"end\" x=\"47.52\" y=\"714.12\">43b</text><rect fill=\"green\" height=\"15.84\" width=\"26.928\" x=\"52.536\" y=\"704.88\"/><circle cx=\"52.8\" cy=\"712.8\" fill=\"green\" r=\"-0.264\" stroke=\"green\" stroke-width=\"0\"/><circle cx=\"79.2\" cy=\"712.8\" fill=\"green\" r=\"-0.264\" stroke=\"green\" stroke-width=\"0\"/><text alignment-baseline=\"middle\" fill=\"white\" font-family=\"Times\" font-size=\"9.24\" text-anchor=\"middle\" x=\"66.0\" y=\"714.12\">-32</text><rect fill=\"green\" height=\"15.84\" width=\"26.928\" x=\"78.936\" y=\"704.88\"/><circle cx=\"79.2\" cy=\"712.8\" fill=\"green\" r=\"-0.264\" stroke=\"green\" stroke-width=\"0\"/><circle cx=\"105.6\" cy=\"712.8\" fill=\"green\" r=\"-0.264\" stroke=\"green\" stroke-width=\"0\"/><text alignment-baseline=\"middle\" fill=\"white\" font-family=\"Times\" font-size=\"9.24\" text-anchor=\"middle\" x=\"92.4\" y=\"714.12\">-25</text><rect fill=\"green\" height=\"15.84\" width=\"26.928\" x=\"105.336\" y=\"704.88\"/><circle cx=\"105.6\" cy=\"712.8\" fill=\"green\" r=\"-0.264\" stroke=\"green\" stroke-width=\"0\"/><circle cx=\"132.0\" cy=\"712.8\" fill=\"green\" r=\"-0.264\" stroke=\"green\" stroke-width=\"0\"/><text alignment-baseline=\"middle\" fill=\"white\" font-family=\"Times\" font-size=\"9.24\" text-anchor=\"middle\" x=\"118.8\" y=\"714.12\">-28</text><line stroke=\"red\" stroke-width=\"1.32\" x1=\"211.2\" x2=\"211.2\" y1=\"659.736\" y2=\"739.464\"/><text alignment-baseline=\"middle\" fill=\"black\" font-family=\"Times\" font-size=\"9.24\" text-anchor=\"start\" x=\"242.88\" y=\"740.52\">46f</text><rect fill=\"red\" height=\"15.84\" width=\"26.928\" x=\"210.936\" y=\"731.28\"/><circle cx=\"211.2\" cy=\"739.2\" fill=\"red\" r=\"-0.264\" stroke=\"red\" stroke-width=\"0\"/><circle cx=\"237.6\" cy=\"739.2\" fill=\"red\" r=\"-0.264\" stroke=\"red\" stroke-width=\"0\"/><text alignment-baseline=\"middle\" fill=\"white\" font-family=\"Times\" font-size=\"9.24\" text-anchor=\"middle\" x=\"224.4\" y=\"740.52\">-34</text><line stroke=\"red\" stroke-width=\"1.32\" x1=\"184.8\" x2=\"184.8\" y1=\"633.336\" y2=\"765.864\"/><text alignment-baseline=\"middle\" fill=\"black\" font-family=\"Times\" font-size=\"9.24\" text-anchor=\"start\" x=\"242.88\" y=\"766.92\">49f</text><rect fill=\"red\" height=\"15.84\" width=\"26.928\" x=\"184.536\" y=\"757.68\"/><circle cx=\"184.8\" cy=\"765.6\" fill=\"red\" r=\"-0.264\" stroke=\"red\" stroke-width=\"0\"/><circle cx=\"211.2\" cy=\"765.6\" fill=\"red\" r=\"-0.264\" stroke=\"red\" stroke-width=\"0\"/><text alignment-baseline=\"middle\" fill=\"white\" font-family=\"Times\" font-size=\"9.24\" text-anchor=\"middle\" x=\"198.0\" y=\"766.92\">-26</text><rect fill=\"red\" height=\"15.84\" width=\"26.928\" x=\"210.936\" y=\"757.68\"/><circle cx=\"211.2\" cy=\"765.6\" fill=\"red\" r=\"-0.264\" stroke=\"red\" stroke-width=\"0\"/><circle cx=\"237.6\" cy=\"765.6\" fill=\"red\" r=\"-0.264\" stroke=\"red\" stroke-width=\"0\"/><text alignment-baseline=\"middle\" fill=\"white\" font-family=\"Times\" font-size=\"9.24\" text-anchor=\"middle\" x=\"224.4\" y=\"766.92\">-33</text><line stroke=\"red\" stroke-width=\"1.32\" x1=\"211.2\" x2=\"211.2\" y1=\"765.336\" y2=\"792.264\"/><text alignment-baseline=\"middle\" fill=\"black\" font-family=\"Times\" font-size=\"9.24\" text-anchor=\"start\" x=\"242.88\" y=\"793.32\">51f</text><rect fill=\"red\" height=\"15.84\" width=\"26.928\" x=\"210.936\" y=\"784.08\"/><circle cx=\"211.2\" cy=\"792.0\" fill=\"red\" r=\"-0.264\" stroke=\"red\" stroke-width=\"0\"/><circle cx=\"237.6\" cy=\"792.0\" fill=\"red\" r=\"-0.264\" stroke=\"red\" stroke-width=\"0\"/><text alignment-baseline=\"middle\" fill=\"white\" font-family=\"Times\" font-size=\"9.24\" text-anchor=\"middle\" x=\"224.4\" y=\"793.32\">-33</text><line stroke=\"green\" stroke-width=\"1.32\" x1=\"132.0\" x2=\"132.0\" y1=\"26.136\" y2=\"818.664\"/><text alignment-baseline=\"middle\" fill=\"black\" font-family=\"Times\" font-size=\"9.24\" text-anchor=\"end\" x=\"47.52\" y=\"819.72\">52b</text><rect fill=\"green\" height=\"15.84\" width=\"26.928\" x=\"52.536\" y=\"810.48\"/><circle cx=\"52.8\" cy=\"818.4\" fill=\"green\" r=\"-0.264\" stroke=\"green\" stroke-width=\"0\"/><circle cx=\"79.2\" cy=\"818.4\" fill=\"green\" r=\"-0.264\" stroke=\"green\" stroke-width=\"0\"/><text alignment-baseline=\"middle\" fill=\"white\" font-family=\"Times\" font-size=\"9.24\" text-anchor=\"middle\" x=\"66.0\" y=\"819.72\">-33</text><rect fill=\"green\" height=\"15.84\" width=\"26.928\" x=\"78.936\" y=\"810.48\"/><circle cx=\"79.2\" cy=\"818.4\" fill=\"green\" r=\"-0.264\" stroke=\"green\" stroke-width=\"0\"/><circle cx=\"105.6\" cy=\"818.4\" fill=\"green\" r=\"-0.264\" stroke=\"green\" stroke-width=\"0\"/><text alignment-baseline=\"middle\" fill=\"white\" font-family=\"Times\" font-size=\"9.24\" text-anchor=\"middle\" x=\"92.4\" y=\"819.72\">-25</text><rect fill=\"green\" height=\"15.84\" width=\"26.928\" x=\"105.336\" y=\"810.48\"/><circle cx=\"105.6\" cy=\"818.4\" fill=\"green\" r=\"-0.264\" stroke=\"green\" stroke-width=\"0\"/><circle cx=\"132.0\" cy=\"818.4\" fill=\"green\" r=\"-0.264\" stroke=\"green\" stroke-width=\"0\"/><text alignment-baseline=\"middle\" fill=\"white\" font-family=\"Times\" font-size=\"9.24\" text-anchor=\"middle\" x=\"118.8\" y=\"819.72\">-28</text><line stroke=\"green\" stroke-width=\"1.32\" x1=\"132.0\" x2=\"132.0\" y1=\"26.136\" y2=\"845.064\"/><text alignment-baseline=\"middle\" fill=\"black\" font-family=\"Times\" font-size=\"9.24\" text-anchor=\"end\" x=\"47.52\" y=\"846.12\">54b</text><rect fill=\"green\" height=\"15.84\" width=\"26.928\" x=\"52.536\" y=\"836.88\"/><circle cx=\"52.8\" cy=\"844.8\" fill=\"green\" r=\"-0.264\" stroke=\"green\" stroke-width=\"0\"/><circle cx=\"79.2\" cy=\"844.8\" fill=\"green\" r=\"-0.264\" stroke=\"green\" stroke-width=\"0\"/><text alignment-baseline=\"middle\" fill=\"white\" font-family=\"Times\" font-size=\"9.24\" text-anchor=\"middle\" x=\"66.0\" y=\"846.12\">-30</text><rect fill=\"green\" height=\"15.84\" width=\"26.928\" x=\"78.936\" y=\"836.88\"/><circle cx=\"79.2\" cy=\"844.8\" fill=\"green\" r=\"-0.264\" stroke=\"green\" stroke-width=\"0\"/><circle cx=\"105.6\" cy=\"844.8\" fill=\"green\" r=\"-0.264\" stroke=\"green\" stroke-width=\"0\"/><text alignment-baseline=\"middle\" fill=\"white\" font-family=\"Times\" font-size=\"9.24\" text-anchor=\"middle\" x=\"92.4\" y=\"846.12\">-26</text><rect fill=\"green\" height=\"15.84\" width=\"26.928\" x=\"105.336\" y=\"836.88\"/><circle cx=\"105.6\" cy=\"844.8\" fill=\"green\" r=\"-0.264\" stroke=\"green\" stroke-width=\"0\"/><circle cx=\"132.0\" cy=\"844.8\" fill=\"green\" r=\"-0.264\" stroke=\"green\" stroke-width=\"0\"/><text alignment-baseline=\"middle\" fill=\"white\" font-family=\"Times\" font-size=\"9.24\" text-anchor=\"middle\" x=\"118.8\" y=\"846.12\">-28</text></svg>"
       ],
       "text": [
        "<IPython.core.display.SVG at 0x11d462750>"
       ]
      }
     ],
     "prompt_number": 49
    },
    {
     "cell_type": "markdown",
     "metadata": {},
     "source": [
      "An alternate view which is similar to the standard way of plotting"
     ]
    },
    {
     "cell_type": "code",
     "collapsed": false,
     "input": [
      "tree.rejected = False\n",
      "tree.states = []\n",
      "tree.op = None\n",
      "samples = storage.sample.by_ensemble(storage.ensemble.load(4))\n",
      "tree.from_samples(samples)\n",
      "view = tree.renderer\n",
      "view.zoom = 1.1\n",
      "view.horizontal_gap = -0.01\n",
      "view.scale_y = 15\n",
      "view.scale_x = 24\n",
      "view.font_size = 0.8\n",
      "view.font_family = 'Times'\n",
      "SVG(view.to_svg())"
     ],
     "language": "python",
     "metadata": {},
     "outputs": [
      {
       "metadata": {},
       "output_type": "pyout",
       "prompt_number": 51,
       "svg": [
        "<svg baseProfile=\"full\" height=\"544.5px\" version=\"1.1\" width=\"264.0px\" xmlns=\"http://www.w3.org/2000/svg\" xmlns:ev=\"http://www.w3.org/2001/xml-events\" xmlns:xlink=\"http://www.w3.org/1999/xlink\"><defs/><rect fill=\"black\" height=\"9.9\" width=\"26.928\" x=\"52.536\" y=\"11.55\"/><circle cx=\"52.8\" cy=\"16.5\" fill=\"black\" r=\"-0.264\" stroke=\"black\" stroke-width=\"0\"/><circle cx=\"79.2\" cy=\"16.5\" fill=\"black\" r=\"-0.264\" stroke=\"black\" stroke-width=\"0\"/><text alignment-baseline=\"middle\" fill=\"white\" font-family=\"Times\" font-size=\"13.2\" text-anchor=\"middle\" x=\"66.0\" y=\"17.325\"/><rect fill=\"black\" height=\"9.9\" width=\"26.928\" x=\"78.936\" y=\"11.55\"/><circle cx=\"79.2\" cy=\"16.5\" fill=\"black\" r=\"-0.264\" stroke=\"black\" stroke-width=\"0\"/><circle cx=\"105.6\" cy=\"16.5\" fill=\"black\" r=\"-0.264\" stroke=\"black\" stroke-width=\"0\"/><text alignment-baseline=\"middle\" fill=\"white\" font-family=\"Times\" font-size=\"13.2\" text-anchor=\"middle\" x=\"92.4\" y=\"17.325\"/><rect fill=\"black\" height=\"9.9\" width=\"26.928\" x=\"105.336\" y=\"11.55\"/><circle cx=\"105.6\" cy=\"16.5\" fill=\"black\" r=\"-0.264\" stroke=\"black\" stroke-width=\"0\"/><circle cx=\"132.0\" cy=\"16.5\" fill=\"black\" r=\"-0.264\" stroke=\"black\" stroke-width=\"0\"/><text alignment-baseline=\"middle\" fill=\"white\" font-family=\"Times\" font-size=\"13.2\" text-anchor=\"middle\" x=\"118.8\" y=\"17.325\"/><rect fill=\"black\" height=\"9.9\" width=\"26.928\" x=\"131.736\" y=\"11.55\"/><circle cx=\"132.0\" cy=\"16.5\" fill=\"black\" r=\"-0.264\" stroke=\"black\" stroke-width=\"0\"/><circle cx=\"158.4\" cy=\"16.5\" fill=\"black\" r=\"-0.264\" stroke=\"black\" stroke-width=\"0\"/><text alignment-baseline=\"middle\" fill=\"white\" font-family=\"Times\" font-size=\"13.2\" text-anchor=\"middle\" x=\"145.2\" y=\"17.325\"/><rect fill=\"black\" height=\"9.9\" width=\"26.928\" x=\"158.136\" y=\"11.55\"/><circle cx=\"158.4\" cy=\"16.5\" fill=\"black\" r=\"-0.264\" stroke=\"black\" stroke-width=\"0\"/><circle cx=\"184.8\" cy=\"16.5\" fill=\"black\" r=\"-0.264\" stroke=\"black\" stroke-width=\"0\"/><text alignment-baseline=\"middle\" fill=\"white\" font-family=\"Times\" font-size=\"13.2\" text-anchor=\"middle\" x=\"171.6\" y=\"17.325\"/><rect fill=\"black\" height=\"9.9\" width=\"26.928\" x=\"184.536\" y=\"11.55\"/><circle cx=\"184.8\" cy=\"16.5\" fill=\"black\" r=\"-0.264\" stroke=\"black\" stroke-width=\"0\"/><circle cx=\"211.2\" cy=\"16.5\" fill=\"black\" r=\"-0.264\" stroke=\"black\" stroke-width=\"0\"/><text alignment-baseline=\"middle\" fill=\"white\" font-family=\"Times\" font-size=\"13.2\" text-anchor=\"middle\" x=\"198.0\" y=\"17.325\"/><rect fill=\"black\" height=\"9.9\" width=\"26.928\" x=\"210.936\" y=\"11.55\"/><circle cx=\"211.2\" cy=\"16.5\" fill=\"black\" r=\"-0.264\" stroke=\"black\" stroke-width=\"0\"/><circle cx=\"237.6\" cy=\"16.5\" fill=\"black\" r=\"-0.264\" stroke=\"black\" stroke-width=\"0\"/><text alignment-baseline=\"middle\" fill=\"white\" font-family=\"Times\" font-size=\"13.2\" text-anchor=\"middle\" x=\"224.4\" y=\"17.325\"/><text alignment-baseline=\"middle\" fill=\"black\" font-family=\"Times\" font-size=\"13.2\" text-anchor=\"end\" x=\"47.52\" y=\"17.325\">5b</text><line stroke=\"green\" stroke-width=\"1.32\" x1=\"132.0\" x2=\"132.0\" y1=\"16.335\" y2=\"33.165\"/><text alignment-baseline=\"middle\" fill=\"black\" font-family=\"Times\" font-size=\"13.2\" text-anchor=\"end\" x=\"47.52\" y=\"33.825\">9b</text><rect fill=\"green\" height=\"9.9\" width=\"26.928\" x=\"52.536\" y=\"28.05\"/><circle cx=\"52.8\" cy=\"33.0\" fill=\"green\" r=\"-0.264\" stroke=\"green\" stroke-width=\"0\"/><circle cx=\"79.2\" cy=\"33.0\" fill=\"green\" r=\"-0.264\" stroke=\"green\" stroke-width=\"0\"/><text alignment-baseline=\"middle\" fill=\"white\" font-family=\"Times\" font-size=\"13.2\" text-anchor=\"middle\" x=\"66.0\" y=\"33.825\"/><rect fill=\"green\" height=\"9.9\" width=\"26.928\" x=\"78.936\" y=\"28.05\"/><circle cx=\"79.2\" cy=\"33.0\" fill=\"green\" r=\"-0.264\" stroke=\"green\" stroke-width=\"0\"/><circle cx=\"105.6\" cy=\"33.0\" fill=\"green\" r=\"-0.264\" stroke=\"green\" stroke-width=\"0\"/><text alignment-baseline=\"middle\" fill=\"white\" font-family=\"Times\" font-size=\"13.2\" text-anchor=\"middle\" x=\"92.4\" y=\"33.825\"/><rect fill=\"green\" height=\"9.9\" width=\"26.928\" x=\"105.336\" y=\"28.05\"/><circle cx=\"105.6\" cy=\"33.0\" fill=\"green\" r=\"-0.264\" stroke=\"green\" stroke-width=\"0\"/><circle cx=\"132.0\" cy=\"33.0\" fill=\"green\" r=\"-0.264\" stroke=\"green\" stroke-width=\"0\"/><text alignment-baseline=\"middle\" fill=\"white\" font-family=\"Times\" font-size=\"13.2\" text-anchor=\"middle\" x=\"118.8\" y=\"33.825\"/><line stroke=\"red\" stroke-width=\"1.32\" x1=\"158.4\" x2=\"158.4\" y1=\"16.335\" y2=\"49.665\"/><text alignment-baseline=\"middle\" fill=\"black\" font-family=\"Times\" font-size=\"13.2\" text-anchor=\"start\" x=\"242.88\" y=\"50.325\">11f</text><rect fill=\"red\" height=\"9.9\" width=\"26.928\" x=\"158.136\" y=\"44.55\"/><circle cx=\"158.4\" cy=\"49.5\" fill=\"red\" r=\"-0.264\" stroke=\"red\" stroke-width=\"0\"/><circle cx=\"184.8\" cy=\"49.5\" fill=\"red\" r=\"-0.264\" stroke=\"red\" stroke-width=\"0\"/><text alignment-baseline=\"middle\" fill=\"white\" font-family=\"Times\" font-size=\"13.2\" text-anchor=\"middle\" x=\"171.6\" y=\"50.325\"/><rect fill=\"red\" height=\"9.9\" width=\"26.928\" x=\"184.536\" y=\"44.55\"/><circle cx=\"184.8\" cy=\"49.5\" fill=\"red\" r=\"-0.264\" stroke=\"red\" stroke-width=\"0\"/><circle cx=\"211.2\" cy=\"49.5\" fill=\"red\" r=\"-0.264\" stroke=\"red\" stroke-width=\"0\"/><text alignment-baseline=\"middle\" fill=\"white\" font-family=\"Times\" font-size=\"13.2\" text-anchor=\"middle\" x=\"198.0\" y=\"50.325\"/><rect fill=\"red\" height=\"9.9\" width=\"26.928\" x=\"210.936\" y=\"44.55\"/><circle cx=\"211.2\" cy=\"49.5\" fill=\"red\" r=\"-0.264\" stroke=\"red\" stroke-width=\"0\"/><circle cx=\"237.6\" cy=\"49.5\" fill=\"red\" r=\"-0.264\" stroke=\"red\" stroke-width=\"0\"/><text alignment-baseline=\"middle\" fill=\"white\" font-family=\"Times\" font-size=\"13.2\" text-anchor=\"middle\" x=\"224.4\" y=\"50.325\"/><line stroke=\"red\" stroke-width=\"1.32\" x1=\"158.4\" x2=\"158.4\" y1=\"16.335\" y2=\"66.165\"/><text alignment-baseline=\"middle\" fill=\"black\" font-family=\"Times\" font-size=\"13.2\" text-anchor=\"start\" x=\"242.88\" y=\"66.825\">15f</text><rect fill=\"red\" height=\"9.9\" width=\"26.928\" x=\"158.136\" y=\"61.05\"/><circle cx=\"158.4\" cy=\"66.0\" fill=\"red\" r=\"-0.264\" stroke=\"red\" stroke-width=\"0\"/><circle cx=\"184.8\" cy=\"66.0\" fill=\"red\" r=\"-0.264\" stroke=\"red\" stroke-width=\"0\"/><text alignment-baseline=\"middle\" fill=\"white\" font-family=\"Times\" font-size=\"13.2\" text-anchor=\"middle\" x=\"171.6\" y=\"66.825\"/><rect fill=\"red\" height=\"9.9\" width=\"26.928\" x=\"184.536\" y=\"61.05\"/><circle cx=\"184.8\" cy=\"66.0\" fill=\"red\" r=\"-0.264\" stroke=\"red\" stroke-width=\"0\"/><circle cx=\"211.2\" cy=\"66.0\" fill=\"red\" r=\"-0.264\" stroke=\"red\" stroke-width=\"0\"/><text alignment-baseline=\"middle\" fill=\"white\" font-family=\"Times\" font-size=\"13.2\" text-anchor=\"middle\" x=\"198.0\" y=\"66.825\"/><rect fill=\"red\" height=\"9.9\" width=\"26.928\" x=\"210.936\" y=\"61.05\"/><circle cx=\"211.2\" cy=\"66.0\" fill=\"red\" r=\"-0.264\" stroke=\"red\" stroke-width=\"0\"/><circle cx=\"237.6\" cy=\"66.0\" fill=\"red\" r=\"-0.264\" stroke=\"red\" stroke-width=\"0\"/><text alignment-baseline=\"middle\" fill=\"white\" font-family=\"Times\" font-size=\"13.2\" text-anchor=\"middle\" x=\"224.4\" y=\"66.825\"/><line stroke=\"red\" stroke-width=\"1.32\" x1=\"211.2\" x2=\"211.2\" y1=\"65.835\" y2=\"82.665\"/><text alignment-baseline=\"middle\" fill=\"black\" font-family=\"Times\" font-size=\"13.2\" text-anchor=\"start\" x=\"242.88\" y=\"83.325\">16f</text><rect fill=\"red\" height=\"9.9\" width=\"26.928\" x=\"210.936\" y=\"77.55\"/><circle cx=\"211.2\" cy=\"82.5\" fill=\"red\" r=\"-0.264\" stroke=\"red\" stroke-width=\"0\"/><circle cx=\"237.6\" cy=\"82.5\" fill=\"red\" r=\"-0.264\" stroke=\"red\" stroke-width=\"0\"/><text alignment-baseline=\"middle\" fill=\"white\" font-family=\"Times\" font-size=\"13.2\" text-anchor=\"middle\" x=\"224.4\" y=\"83.325\"/><line stroke=\"green\" stroke-width=\"1.32\" x1=\"132.0\" x2=\"132.0\" y1=\"16.335\" y2=\"99.165\"/><text alignment-baseline=\"middle\" fill=\"black\" font-family=\"Times\" font-size=\"13.2\" text-anchor=\"end\" x=\"47.52\" y=\"99.825\">17b</text><rect fill=\"green\" height=\"9.9\" width=\"26.928\" x=\"52.536\" y=\"94.05\"/><circle cx=\"52.8\" cy=\"99.0\" fill=\"green\" r=\"-0.264\" stroke=\"green\" stroke-width=\"0\"/><circle cx=\"79.2\" cy=\"99.0\" fill=\"green\" r=\"-0.264\" stroke=\"green\" stroke-width=\"0\"/><text alignment-baseline=\"middle\" fill=\"white\" font-family=\"Times\" font-size=\"13.2\" text-anchor=\"middle\" x=\"66.0\" y=\"99.825\"/><rect fill=\"green\" height=\"9.9\" width=\"26.928\" x=\"78.936\" y=\"94.05\"/><circle cx=\"79.2\" cy=\"99.0\" fill=\"green\" r=\"-0.264\" stroke=\"green\" stroke-width=\"0\"/><circle cx=\"105.6\" cy=\"99.0\" fill=\"green\" r=\"-0.264\" stroke=\"green\" stroke-width=\"0\"/><text alignment-baseline=\"middle\" fill=\"white\" font-family=\"Times\" font-size=\"13.2\" text-anchor=\"middle\" x=\"92.4\" y=\"99.825\"/><rect fill=\"green\" height=\"9.9\" width=\"26.928\" x=\"105.336\" y=\"94.05\"/><circle cx=\"105.6\" cy=\"99.0\" fill=\"green\" r=\"-0.264\" stroke=\"green\" stroke-width=\"0\"/><circle cx=\"132.0\" cy=\"99.0\" fill=\"green\" r=\"-0.264\" stroke=\"green\" stroke-width=\"0\"/><text alignment-baseline=\"middle\" fill=\"white\" font-family=\"Times\" font-size=\"13.2\" text-anchor=\"middle\" x=\"118.8\" y=\"99.825\"/><line stroke=\"red\" stroke-width=\"1.32\" x1=\"158.4\" x2=\"158.4\" y1=\"16.335\" y2=\"115.665\"/><text alignment-baseline=\"middle\" fill=\"black\" font-family=\"Times\" font-size=\"13.2\" text-anchor=\"start\" x=\"242.88\" y=\"116.325\">18f</text><rect fill=\"red\" height=\"9.9\" width=\"26.928\" x=\"158.136\" y=\"110.55\"/><circle cx=\"158.4\" cy=\"115.5\" fill=\"red\" r=\"-0.264\" stroke=\"red\" stroke-width=\"0\"/><circle cx=\"184.8\" cy=\"115.5\" fill=\"red\" r=\"-0.264\" stroke=\"red\" stroke-width=\"0\"/><text alignment-baseline=\"middle\" fill=\"white\" font-family=\"Times\" font-size=\"13.2\" text-anchor=\"middle\" x=\"171.6\" y=\"116.325\"/><rect fill=\"red\" height=\"9.9\" width=\"26.928\" x=\"184.536\" y=\"110.55\"/><circle cx=\"184.8\" cy=\"115.5\" fill=\"red\" r=\"-0.264\" stroke=\"red\" stroke-width=\"0\"/><circle cx=\"211.2\" cy=\"115.5\" fill=\"red\" r=\"-0.264\" stroke=\"red\" stroke-width=\"0\"/><text alignment-baseline=\"middle\" fill=\"white\" font-family=\"Times\" font-size=\"13.2\" text-anchor=\"middle\" x=\"198.0\" y=\"116.325\"/><rect fill=\"red\" height=\"9.9\" width=\"26.928\" x=\"210.936\" y=\"110.55\"/><circle cx=\"211.2\" cy=\"115.5\" fill=\"red\" r=\"-0.264\" stroke=\"red\" stroke-width=\"0\"/><circle cx=\"237.6\" cy=\"115.5\" fill=\"red\" r=\"-0.264\" stroke=\"red\" stroke-width=\"0\"/><text alignment-baseline=\"middle\" fill=\"white\" font-family=\"Times\" font-size=\"13.2\" text-anchor=\"middle\" x=\"224.4\" y=\"116.325\"/><line stroke=\"red\" stroke-width=\"1.32\" x1=\"158.4\" x2=\"158.4\" y1=\"16.335\" y2=\"132.165\"/><text alignment-baseline=\"middle\" fill=\"black\" font-family=\"Times\" font-size=\"13.2\" text-anchor=\"start\" x=\"242.88\" y=\"132.825\">20f</text><rect fill=\"red\" height=\"9.9\" width=\"26.928\" x=\"158.136\" y=\"127.05\"/><circle cx=\"158.4\" cy=\"132.0\" fill=\"red\" r=\"-0.264\" stroke=\"red\" stroke-width=\"0\"/><circle cx=\"184.8\" cy=\"132.0\" fill=\"red\" r=\"-0.264\" stroke=\"red\" stroke-width=\"0\"/><text alignment-baseline=\"middle\" fill=\"white\" font-family=\"Times\" font-size=\"13.2\" text-anchor=\"middle\" x=\"171.6\" y=\"132.825\"/><rect fill=\"red\" height=\"9.9\" width=\"26.928\" x=\"184.536\" y=\"127.05\"/><circle cx=\"184.8\" cy=\"132.0\" fill=\"red\" r=\"-0.264\" stroke=\"red\" stroke-width=\"0\"/><circle cx=\"211.2\" cy=\"132.0\" fill=\"red\" r=\"-0.264\" stroke=\"red\" stroke-width=\"0\"/><text alignment-baseline=\"middle\" fill=\"white\" font-family=\"Times\" font-size=\"13.2\" text-anchor=\"middle\" x=\"198.0\" y=\"132.825\"/><rect fill=\"red\" height=\"9.9\" width=\"26.928\" x=\"210.936\" y=\"127.05\"/><circle cx=\"211.2\" cy=\"132.0\" fill=\"red\" r=\"-0.264\" stroke=\"red\" stroke-width=\"0\"/><circle cx=\"237.6\" cy=\"132.0\" fill=\"red\" r=\"-0.264\" stroke=\"red\" stroke-width=\"0\"/><text alignment-baseline=\"middle\" fill=\"white\" font-family=\"Times\" font-size=\"13.2\" text-anchor=\"middle\" x=\"224.4\" y=\"132.825\"/><line stroke=\"green\" stroke-width=\"1.32\" x1=\"132.0\" x2=\"132.0\" y1=\"16.335\" y2=\"148.665\"/><text alignment-baseline=\"middle\" fill=\"black\" font-family=\"Times\" font-size=\"13.2\" text-anchor=\"end\" x=\"21.12\" y=\"149.325\">21b</text><rect fill=\"green\" height=\"9.9\" width=\"26.928\" x=\"26.136\" y=\"143.55\"/><circle cx=\"26.4\" cy=\"148.5\" fill=\"green\" r=\"-0.264\" stroke=\"green\" stroke-width=\"0\"/><circle cx=\"52.8\" cy=\"148.5\" fill=\"green\" r=\"-0.264\" stroke=\"green\" stroke-width=\"0\"/><text alignment-baseline=\"middle\" fill=\"white\" font-family=\"Times\" font-size=\"13.2\" text-anchor=\"middle\" x=\"39.6\" y=\"149.325\"/><rect fill=\"green\" height=\"9.9\" width=\"26.928\" x=\"52.536\" y=\"143.55\"/><circle cx=\"52.8\" cy=\"148.5\" fill=\"green\" r=\"-0.264\" stroke=\"green\" stroke-width=\"0\"/><circle cx=\"79.2\" cy=\"148.5\" fill=\"green\" r=\"-0.264\" stroke=\"green\" stroke-width=\"0\"/><text alignment-baseline=\"middle\" fill=\"white\" font-family=\"Times\" font-size=\"13.2\" text-anchor=\"middle\" x=\"66.0\" y=\"149.325\"/><rect fill=\"green\" height=\"9.9\" width=\"26.928\" x=\"78.936\" y=\"143.55\"/><circle cx=\"79.2\" cy=\"148.5\" fill=\"green\" r=\"-0.264\" stroke=\"green\" stroke-width=\"0\"/><circle cx=\"105.6\" cy=\"148.5\" fill=\"green\" r=\"-0.264\" stroke=\"green\" stroke-width=\"0\"/><text alignment-baseline=\"middle\" fill=\"white\" font-family=\"Times\" font-size=\"13.2\" text-anchor=\"middle\" x=\"92.4\" y=\"149.325\"/><rect fill=\"green\" height=\"9.9\" width=\"26.928\" x=\"105.336\" y=\"143.55\"/><circle cx=\"105.6\" cy=\"148.5\" fill=\"green\" r=\"-0.264\" stroke=\"green\" stroke-width=\"0\"/><circle cx=\"132.0\" cy=\"148.5\" fill=\"green\" r=\"-0.264\" stroke=\"green\" stroke-width=\"0\"/><text alignment-baseline=\"middle\" fill=\"white\" font-family=\"Times\" font-size=\"13.2\" text-anchor=\"middle\" x=\"118.8\" y=\"149.325\"/><line stroke=\"red\" stroke-width=\"1.32\" x1=\"211.2\" x2=\"211.2\" y1=\"131.835\" y2=\"165.165\"/><text alignment-baseline=\"middle\" fill=\"black\" font-family=\"Times\" font-size=\"13.2\" text-anchor=\"start\" x=\"242.88\" y=\"165.825\">22f</text><rect fill=\"red\" height=\"9.9\" width=\"26.928\" x=\"210.936\" y=\"160.05\"/><circle cx=\"211.2\" cy=\"165.0\" fill=\"red\" r=\"-0.264\" stroke=\"red\" stroke-width=\"0\"/><circle cx=\"237.6\" cy=\"165.0\" fill=\"red\" r=\"-0.264\" stroke=\"red\" stroke-width=\"0\"/><text alignment-baseline=\"middle\" fill=\"white\" font-family=\"Times\" font-size=\"13.2\" text-anchor=\"middle\" x=\"224.4\" y=\"165.825\"/><line stroke=\"green\" stroke-width=\"1.32\" x1=\"132.0\" x2=\"132.0\" y1=\"16.335\" y2=\"181.665\"/><text alignment-baseline=\"middle\" fill=\"black\" font-family=\"Times\" font-size=\"13.2\" text-anchor=\"end\" x=\"47.52\" y=\"182.325\">23b</text><rect fill=\"green\" height=\"9.9\" width=\"26.928\" x=\"52.536\" y=\"176.55\"/><circle cx=\"52.8\" cy=\"181.5\" fill=\"green\" r=\"-0.264\" stroke=\"green\" stroke-width=\"0\"/><circle cx=\"79.2\" cy=\"181.5\" fill=\"green\" r=\"-0.264\" stroke=\"green\" stroke-width=\"0\"/><text alignment-baseline=\"middle\" fill=\"white\" font-family=\"Times\" font-size=\"13.2\" text-anchor=\"middle\" x=\"66.0\" y=\"182.325\"/><rect fill=\"green\" height=\"9.9\" width=\"26.928\" x=\"78.936\" y=\"176.55\"/><circle cx=\"79.2\" cy=\"181.5\" fill=\"green\" r=\"-0.264\" stroke=\"green\" stroke-width=\"0\"/><circle cx=\"105.6\" cy=\"181.5\" fill=\"green\" r=\"-0.264\" stroke=\"green\" stroke-width=\"0\"/><text alignment-baseline=\"middle\" fill=\"white\" font-family=\"Times\" font-size=\"13.2\" text-anchor=\"middle\" x=\"92.4\" y=\"182.325\"/><rect fill=\"green\" height=\"9.9\" width=\"26.928\" x=\"105.336\" y=\"176.55\"/><circle cx=\"105.6\" cy=\"181.5\" fill=\"green\" r=\"-0.264\" stroke=\"green\" stroke-width=\"0\"/><circle cx=\"132.0\" cy=\"181.5\" fill=\"green\" r=\"-0.264\" stroke=\"green\" stroke-width=\"0\"/><text alignment-baseline=\"middle\" fill=\"white\" font-family=\"Times\" font-size=\"13.2\" text-anchor=\"middle\" x=\"118.8\" y=\"182.325\"/><line stroke=\"green\" stroke-width=\"1.32\" x1=\"105.6\" x2=\"105.6\" y1=\"181.335\" y2=\"198.165\"/><text alignment-baseline=\"middle\" fill=\"black\" font-family=\"Times\" font-size=\"13.2\" text-anchor=\"end\" x=\"47.52\" y=\"198.825\">24b</text><rect fill=\"green\" height=\"9.9\" width=\"26.928\" x=\"52.536\" y=\"193.05\"/><circle cx=\"52.8\" cy=\"198.0\" fill=\"green\" r=\"-0.264\" stroke=\"green\" stroke-width=\"0\"/><circle cx=\"79.2\" cy=\"198.0\" fill=\"green\" r=\"-0.264\" stroke=\"green\" stroke-width=\"0\"/><text alignment-baseline=\"middle\" fill=\"white\" font-family=\"Times\" font-size=\"13.2\" text-anchor=\"middle\" x=\"66.0\" y=\"198.825\"/><rect fill=\"green\" height=\"9.9\" width=\"26.928\" x=\"78.936\" y=\"193.05\"/><circle cx=\"79.2\" cy=\"198.0\" fill=\"green\" r=\"-0.264\" stroke=\"green\" stroke-width=\"0\"/><circle cx=\"105.6\" cy=\"198.0\" fill=\"green\" r=\"-0.264\" stroke=\"green\" stroke-width=\"0\"/><text alignment-baseline=\"middle\" fill=\"white\" font-family=\"Times\" font-size=\"13.2\" text-anchor=\"middle\" x=\"92.4\" y=\"198.825\"/><line stroke=\"red\" stroke-width=\"1.32\" x1=\"158.4\" x2=\"158.4\" y1=\"16.335\" y2=\"214.665\"/><text alignment-baseline=\"middle\" fill=\"black\" font-family=\"Times\" font-size=\"13.2\" text-anchor=\"start\" x=\"242.88\" y=\"215.325\">25f</text><rect fill=\"red\" height=\"9.9\" width=\"26.928\" x=\"158.136\" y=\"209.55\"/><circle cx=\"158.4\" cy=\"214.5\" fill=\"red\" r=\"-0.264\" stroke=\"red\" stroke-width=\"0\"/><circle cx=\"184.8\" cy=\"214.5\" fill=\"red\" r=\"-0.264\" stroke=\"red\" stroke-width=\"0\"/><text alignment-baseline=\"middle\" fill=\"white\" font-family=\"Times\" font-size=\"13.2\" text-anchor=\"middle\" x=\"171.6\" y=\"215.325\"/><rect fill=\"red\" height=\"9.9\" width=\"26.928\" x=\"184.536\" y=\"209.55\"/><circle cx=\"184.8\" cy=\"214.5\" fill=\"red\" r=\"-0.264\" stroke=\"red\" stroke-width=\"0\"/><circle cx=\"211.2\" cy=\"214.5\" fill=\"red\" r=\"-0.264\" stroke=\"red\" stroke-width=\"0\"/><text alignment-baseline=\"middle\" fill=\"white\" font-family=\"Times\" font-size=\"13.2\" text-anchor=\"middle\" x=\"198.0\" y=\"215.325\"/><rect fill=\"red\" height=\"9.9\" width=\"26.928\" x=\"210.936\" y=\"209.55\"/><circle cx=\"211.2\" cy=\"214.5\" fill=\"red\" r=\"-0.264\" stroke=\"red\" stroke-width=\"0\"/><circle cx=\"237.6\" cy=\"214.5\" fill=\"red\" r=\"-0.264\" stroke=\"red\" stroke-width=\"0\"/><text alignment-baseline=\"middle\" fill=\"white\" font-family=\"Times\" font-size=\"13.2\" text-anchor=\"middle\" x=\"224.4\" y=\"215.325\"/><line stroke=\"red\" stroke-width=\"1.32\" x1=\"211.2\" x2=\"211.2\" y1=\"214.335\" y2=\"231.165\"/><text alignment-baseline=\"middle\" fill=\"black\" font-family=\"Times\" font-size=\"13.2\" text-anchor=\"start\" x=\"242.88\" y=\"231.825\">26f</text><rect fill=\"red\" height=\"9.9\" width=\"26.928\" x=\"210.936\" y=\"226.05\"/><circle cx=\"211.2\" cy=\"231.0\" fill=\"red\" r=\"-0.264\" stroke=\"red\" stroke-width=\"0\"/><circle cx=\"237.6\" cy=\"231.0\" fill=\"red\" r=\"-0.264\" stroke=\"red\" stroke-width=\"0\"/><text alignment-baseline=\"middle\" fill=\"white\" font-family=\"Times\" font-size=\"13.2\" text-anchor=\"middle\" x=\"224.4\" y=\"231.825\"/><line stroke=\"green\" stroke-width=\"1.32\" x1=\"132.0\" x2=\"132.0\" y1=\"16.335\" y2=\"247.665\"/><text alignment-baseline=\"middle\" fill=\"black\" font-family=\"Times\" font-size=\"13.2\" text-anchor=\"end\" x=\"47.52\" y=\"248.325\">27b</text><rect fill=\"green\" height=\"9.9\" width=\"26.928\" x=\"52.536\" y=\"242.55\"/><circle cx=\"52.8\" cy=\"247.5\" fill=\"green\" r=\"-0.264\" stroke=\"green\" stroke-width=\"0\"/><circle cx=\"79.2\" cy=\"247.5\" fill=\"green\" r=\"-0.264\" stroke=\"green\" stroke-width=\"0\"/><text alignment-baseline=\"middle\" fill=\"white\" font-family=\"Times\" font-size=\"13.2\" text-anchor=\"middle\" x=\"66.0\" y=\"248.325\"/><rect fill=\"green\" height=\"9.9\" width=\"26.928\" x=\"78.936\" y=\"242.55\"/><circle cx=\"79.2\" cy=\"247.5\" fill=\"green\" r=\"-0.264\" stroke=\"green\" stroke-width=\"0\"/><circle cx=\"105.6\" cy=\"247.5\" fill=\"green\" r=\"-0.264\" stroke=\"green\" stroke-width=\"0\"/><text alignment-baseline=\"middle\" fill=\"white\" font-family=\"Times\" font-size=\"13.2\" text-anchor=\"middle\" x=\"92.4\" y=\"248.325\"/><rect fill=\"green\" height=\"9.9\" width=\"26.928\" x=\"105.336\" y=\"242.55\"/><circle cx=\"105.6\" cy=\"247.5\" fill=\"green\" r=\"-0.264\" stroke=\"green\" stroke-width=\"0\"/><circle cx=\"132.0\" cy=\"247.5\" fill=\"green\" r=\"-0.264\" stroke=\"green\" stroke-width=\"0\"/><text alignment-baseline=\"middle\" fill=\"white\" font-family=\"Times\" font-size=\"13.2\" text-anchor=\"middle\" x=\"118.8\" y=\"248.325\"/><line stroke=\"green\" stroke-width=\"1.32\" x1=\"105.6\" x2=\"105.6\" y1=\"247.335\" y2=\"264.165\"/><text alignment-baseline=\"middle\" fill=\"black\" font-family=\"Times\" font-size=\"13.2\" text-anchor=\"end\" x=\"47.52\" y=\"264.825\">28b</text><rect fill=\"green\" height=\"9.9\" width=\"26.928\" x=\"52.536\" y=\"259.05\"/><circle cx=\"52.8\" cy=\"264.0\" fill=\"green\" r=\"-0.264\" stroke=\"green\" stroke-width=\"0\"/><circle cx=\"79.2\" cy=\"264.0\" fill=\"green\" r=\"-0.264\" stroke=\"green\" stroke-width=\"0\"/><text alignment-baseline=\"middle\" fill=\"white\" font-family=\"Times\" font-size=\"13.2\" text-anchor=\"middle\" x=\"66.0\" y=\"264.825\"/><rect fill=\"green\" height=\"9.9\" width=\"26.928\" x=\"78.936\" y=\"259.05\"/><circle cx=\"79.2\" cy=\"264.0\" fill=\"green\" r=\"-0.264\" stroke=\"green\" stroke-width=\"0\"/><circle cx=\"105.6\" cy=\"264.0\" fill=\"green\" r=\"-0.264\" stroke=\"green\" stroke-width=\"0\"/><text alignment-baseline=\"middle\" fill=\"white\" font-family=\"Times\" font-size=\"13.2\" text-anchor=\"middle\" x=\"92.4\" y=\"264.825\"/><line stroke=\"green\" stroke-width=\"1.32\" x1=\"105.6\" x2=\"105.6\" y1=\"247.335\" y2=\"280.665\"/><text alignment-baseline=\"middle\" fill=\"black\" font-family=\"Times\" font-size=\"13.2\" text-anchor=\"end\" x=\"47.52\" y=\"281.325\">29b</text><rect fill=\"green\" height=\"9.9\" width=\"26.928\" x=\"52.536\" y=\"275.55\"/><circle cx=\"52.8\" cy=\"280.5\" fill=\"green\" r=\"-0.264\" stroke=\"green\" stroke-width=\"0\"/><circle cx=\"79.2\" cy=\"280.5\" fill=\"green\" r=\"-0.264\" stroke=\"green\" stroke-width=\"0\"/><text alignment-baseline=\"middle\" fill=\"white\" font-family=\"Times\" font-size=\"13.2\" text-anchor=\"middle\" x=\"66.0\" y=\"281.325\"/><rect fill=\"green\" height=\"9.9\" width=\"26.928\" x=\"78.936\" y=\"275.55\"/><circle cx=\"79.2\" cy=\"280.5\" fill=\"green\" r=\"-0.264\" stroke=\"green\" stroke-width=\"0\"/><circle cx=\"105.6\" cy=\"280.5\" fill=\"green\" r=\"-0.264\" stroke=\"green\" stroke-width=\"0\"/><text alignment-baseline=\"middle\" fill=\"white\" font-family=\"Times\" font-size=\"13.2\" text-anchor=\"middle\" x=\"92.4\" y=\"281.325\"/><line stroke=\"green\" stroke-width=\"1.32\" x1=\"132.0\" x2=\"132.0\" y1=\"16.335\" y2=\"297.165\"/><text alignment-baseline=\"middle\" fill=\"black\" font-family=\"Times\" font-size=\"13.2\" text-anchor=\"end\" x=\"47.52\" y=\"297.825\">30b</text><rect fill=\"green\" height=\"9.9\" width=\"26.928\" x=\"52.536\" y=\"292.05\"/><circle cx=\"52.8\" cy=\"297.0\" fill=\"green\" r=\"-0.264\" stroke=\"green\" stroke-width=\"0\"/><circle cx=\"79.2\" cy=\"297.0\" fill=\"green\" r=\"-0.264\" stroke=\"green\" stroke-width=\"0\"/><text alignment-baseline=\"middle\" fill=\"white\" font-family=\"Times\" font-size=\"13.2\" text-anchor=\"middle\" x=\"66.0\" y=\"297.825\"/><rect fill=\"green\" height=\"9.9\" width=\"26.928\" x=\"78.936\" y=\"292.05\"/><circle cx=\"79.2\" cy=\"297.0\" fill=\"green\" r=\"-0.264\" stroke=\"green\" stroke-width=\"0\"/><circle cx=\"105.6\" cy=\"297.0\" fill=\"green\" r=\"-0.264\" stroke=\"green\" stroke-width=\"0\"/><text alignment-baseline=\"middle\" fill=\"white\" font-family=\"Times\" font-size=\"13.2\" text-anchor=\"middle\" x=\"92.4\" y=\"297.825\"/><rect fill=\"green\" height=\"9.9\" width=\"26.928\" x=\"105.336\" y=\"292.05\"/><circle cx=\"105.6\" cy=\"297.0\" fill=\"green\" r=\"-0.264\" stroke=\"green\" stroke-width=\"0\"/><circle cx=\"132.0\" cy=\"297.0\" fill=\"green\" r=\"-0.264\" stroke=\"green\" stroke-width=\"0\"/><text alignment-baseline=\"middle\" fill=\"white\" font-family=\"Times\" font-size=\"13.2\" text-anchor=\"middle\" x=\"118.8\" y=\"297.825\"/><line stroke=\"green\" stroke-width=\"1.32\" x1=\"132.0\" x2=\"132.0\" y1=\"16.335\" y2=\"313.665\"/><text alignment-baseline=\"middle\" fill=\"black\" font-family=\"Times\" font-size=\"13.2\" text-anchor=\"end\" x=\"47.52\" y=\"314.325\">32b</text><rect fill=\"green\" height=\"9.9\" width=\"26.928\" x=\"52.536\" y=\"308.55\"/><circle cx=\"52.8\" cy=\"313.5\" fill=\"green\" r=\"-0.264\" stroke=\"green\" stroke-width=\"0\"/><circle cx=\"79.2\" cy=\"313.5\" fill=\"green\" r=\"-0.264\" stroke=\"green\" stroke-width=\"0\"/><text alignment-baseline=\"middle\" fill=\"white\" font-family=\"Times\" font-size=\"13.2\" text-anchor=\"middle\" x=\"66.0\" y=\"314.325\"/><rect fill=\"green\" height=\"9.9\" width=\"26.928\" x=\"78.936\" y=\"308.55\"/><circle cx=\"79.2\" cy=\"313.5\" fill=\"green\" r=\"-0.264\" stroke=\"green\" stroke-width=\"0\"/><circle cx=\"105.6\" cy=\"313.5\" fill=\"green\" r=\"-0.264\" stroke=\"green\" stroke-width=\"0\"/><text alignment-baseline=\"middle\" fill=\"white\" font-family=\"Times\" font-size=\"13.2\" text-anchor=\"middle\" x=\"92.4\" y=\"314.325\"/><rect fill=\"green\" height=\"9.9\" width=\"26.928\" x=\"105.336\" y=\"308.55\"/><circle cx=\"105.6\" cy=\"313.5\" fill=\"green\" r=\"-0.264\" stroke=\"green\" stroke-width=\"0\"/><circle cx=\"132.0\" cy=\"313.5\" fill=\"green\" r=\"-0.264\" stroke=\"green\" stroke-width=\"0\"/><text alignment-baseline=\"middle\" fill=\"white\" font-family=\"Times\" font-size=\"13.2\" text-anchor=\"middle\" x=\"118.8\" y=\"314.325\"/><line stroke=\"green\" stroke-width=\"1.32\" x1=\"132.0\" x2=\"132.0\" y1=\"16.335\" y2=\"330.165\"/><text alignment-baseline=\"middle\" fill=\"black\" font-family=\"Times\" font-size=\"13.2\" text-anchor=\"end\" x=\"47.52\" y=\"330.825\">34b</text><rect fill=\"green\" height=\"9.9\" width=\"26.928\" x=\"52.536\" y=\"325.05\"/><circle cx=\"52.8\" cy=\"330.0\" fill=\"green\" r=\"-0.264\" stroke=\"green\" stroke-width=\"0\"/><circle cx=\"79.2\" cy=\"330.0\" fill=\"green\" r=\"-0.264\" stroke=\"green\" stroke-width=\"0\"/><text alignment-baseline=\"middle\" fill=\"white\" font-family=\"Times\" font-size=\"13.2\" text-anchor=\"middle\" x=\"66.0\" y=\"330.825\"/><rect fill=\"green\" height=\"9.9\" width=\"26.928\" x=\"78.936\" y=\"325.05\"/><circle cx=\"79.2\" cy=\"330.0\" fill=\"green\" r=\"-0.264\" stroke=\"green\" stroke-width=\"0\"/><circle cx=\"105.6\" cy=\"330.0\" fill=\"green\" r=\"-0.264\" stroke=\"green\" stroke-width=\"0\"/><text alignment-baseline=\"middle\" fill=\"white\" font-family=\"Times\" font-size=\"13.2\" text-anchor=\"middle\" x=\"92.4\" y=\"330.825\"/><rect fill=\"green\" height=\"9.9\" width=\"26.928\" x=\"105.336\" y=\"325.05\"/><circle cx=\"105.6\" cy=\"330.0\" fill=\"green\" r=\"-0.264\" stroke=\"green\" stroke-width=\"0\"/><circle cx=\"132.0\" cy=\"330.0\" fill=\"green\" r=\"-0.264\" stroke=\"green\" stroke-width=\"0\"/><text alignment-baseline=\"middle\" fill=\"white\" font-family=\"Times\" font-size=\"13.2\" text-anchor=\"middle\" x=\"118.8\" y=\"330.825\"/><line stroke=\"red\" stroke-width=\"1.32\" x1=\"184.8\" x2=\"184.8\" y1=\"214.335\" y2=\"346.665\"/><text alignment-baseline=\"middle\" fill=\"black\" font-family=\"Times\" font-size=\"13.2\" text-anchor=\"start\" x=\"242.88\" y=\"347.325\">35f</text><rect fill=\"red\" height=\"9.9\" width=\"26.928\" x=\"184.536\" y=\"341.55\"/><circle cx=\"184.8\" cy=\"346.5\" fill=\"red\" r=\"-0.264\" stroke=\"red\" stroke-width=\"0\"/><circle cx=\"211.2\" cy=\"346.5\" fill=\"red\" r=\"-0.264\" stroke=\"red\" stroke-width=\"0\"/><text alignment-baseline=\"middle\" fill=\"white\" font-family=\"Times\" font-size=\"13.2\" text-anchor=\"middle\" x=\"198.0\" y=\"347.325\"/><rect fill=\"red\" height=\"9.9\" width=\"26.928\" x=\"210.936\" y=\"341.55\"/><circle cx=\"211.2\" cy=\"346.5\" fill=\"red\" r=\"-0.264\" stroke=\"red\" stroke-width=\"0\"/><circle cx=\"237.6\" cy=\"346.5\" fill=\"red\" r=\"-0.264\" stroke=\"red\" stroke-width=\"0\"/><text alignment-baseline=\"middle\" fill=\"white\" font-family=\"Times\" font-size=\"13.2\" text-anchor=\"middle\" x=\"224.4\" y=\"347.325\"/><line stroke=\"green\" stroke-width=\"1.32\" x1=\"79.2\" x2=\"79.2\" y1=\"329.835\" y2=\"363.165\"/><text alignment-baseline=\"middle\" fill=\"black\" font-family=\"Times\" font-size=\"13.2\" text-anchor=\"end\" x=\"47.52\" y=\"363.825\">36b</text><rect fill=\"green\" height=\"9.9\" width=\"26.928\" x=\"52.536\" y=\"358.05\"/><circle cx=\"52.8\" cy=\"363.0\" fill=\"green\" r=\"-0.264\" stroke=\"green\" stroke-width=\"0\"/><circle cx=\"79.2\" cy=\"363.0\" fill=\"green\" r=\"-0.264\" stroke=\"green\" stroke-width=\"0\"/><text alignment-baseline=\"middle\" fill=\"white\" font-family=\"Times\" font-size=\"13.2\" text-anchor=\"middle\" x=\"66.0\" y=\"363.825\"/><line stroke=\"red\" stroke-width=\"1.32\" x1=\"158.4\" x2=\"158.4\" y1=\"16.335\" y2=\"379.665\"/><text alignment-baseline=\"middle\" fill=\"black\" font-family=\"Times\" font-size=\"13.2\" text-anchor=\"start\" x=\"242.88\" y=\"380.325\">37f</text><rect fill=\"red\" height=\"9.9\" width=\"26.928\" x=\"158.136\" y=\"374.55\"/><circle cx=\"158.4\" cy=\"379.5\" fill=\"red\" r=\"-0.264\" stroke=\"red\" stroke-width=\"0\"/><circle cx=\"184.8\" cy=\"379.5\" fill=\"red\" r=\"-0.264\" stroke=\"red\" stroke-width=\"0\"/><text alignment-baseline=\"middle\" fill=\"white\" font-family=\"Times\" font-size=\"13.2\" text-anchor=\"middle\" x=\"171.6\" y=\"380.325\"/><rect fill=\"red\" height=\"9.9\" width=\"26.928\" x=\"184.536\" y=\"374.55\"/><circle cx=\"184.8\" cy=\"379.5\" fill=\"red\" r=\"-0.264\" stroke=\"red\" stroke-width=\"0\"/><circle cx=\"211.2\" cy=\"379.5\" fill=\"red\" r=\"-0.264\" stroke=\"red\" stroke-width=\"0\"/><text alignment-baseline=\"middle\" fill=\"white\" font-family=\"Times\" font-size=\"13.2\" text-anchor=\"middle\" x=\"198.0\" y=\"380.325\"/><rect fill=\"red\" height=\"9.9\" width=\"26.928\" x=\"210.936\" y=\"374.55\"/><circle cx=\"211.2\" cy=\"379.5\" fill=\"red\" r=\"-0.264\" stroke=\"red\" stroke-width=\"0\"/><circle cx=\"237.6\" cy=\"379.5\" fill=\"red\" r=\"-0.264\" stroke=\"red\" stroke-width=\"0\"/><text alignment-baseline=\"middle\" fill=\"white\" font-family=\"Times\" font-size=\"13.2\" text-anchor=\"middle\" x=\"224.4\" y=\"380.325\"/><line stroke=\"red\" stroke-width=\"1.32\" x1=\"158.4\" x2=\"158.4\" y1=\"16.335\" y2=\"396.165\"/><text alignment-baseline=\"middle\" fill=\"black\" font-family=\"Times\" font-size=\"13.2\" text-anchor=\"start\" x=\"242.88\" y=\"396.825\">40f</text><rect fill=\"red\" height=\"9.9\" width=\"26.928\" x=\"158.136\" y=\"391.05\"/><circle cx=\"158.4\" cy=\"396.0\" fill=\"red\" r=\"-0.264\" stroke=\"red\" stroke-width=\"0\"/><circle cx=\"184.8\" cy=\"396.0\" fill=\"red\" r=\"-0.264\" stroke=\"red\" stroke-width=\"0\"/><text alignment-baseline=\"middle\" fill=\"white\" font-family=\"Times\" font-size=\"13.2\" text-anchor=\"middle\" x=\"171.6\" y=\"396.825\"/><rect fill=\"red\" height=\"9.9\" width=\"26.928\" x=\"184.536\" y=\"391.05\"/><circle cx=\"184.8\" cy=\"396.0\" fill=\"red\" r=\"-0.264\" stroke=\"red\" stroke-width=\"0\"/><circle cx=\"211.2\" cy=\"396.0\" fill=\"red\" r=\"-0.264\" stroke=\"red\" stroke-width=\"0\"/><text alignment-baseline=\"middle\" fill=\"white\" font-family=\"Times\" font-size=\"13.2\" text-anchor=\"middle\" x=\"198.0\" y=\"396.825\"/><rect fill=\"red\" height=\"9.9\" width=\"26.928\" x=\"210.936\" y=\"391.05\"/><circle cx=\"211.2\" cy=\"396.0\" fill=\"red\" r=\"-0.264\" stroke=\"red\" stroke-width=\"0\"/><circle cx=\"237.6\" cy=\"396.0\" fill=\"red\" r=\"-0.264\" stroke=\"red\" stroke-width=\"0\"/><text alignment-baseline=\"middle\" fill=\"white\" font-family=\"Times\" font-size=\"13.2\" text-anchor=\"middle\" x=\"224.4\" y=\"396.825\"/><line stroke=\"red\" stroke-width=\"1.32\" x1=\"184.8\" x2=\"184.8\" y1=\"395.835\" y2=\"412.665\"/><text alignment-baseline=\"middle\" fill=\"black\" font-family=\"Times\" font-size=\"13.2\" text-anchor=\"start\" x=\"242.88\" y=\"413.325\">41f</text><rect fill=\"red\" height=\"9.9\" width=\"26.928\" x=\"184.536\" y=\"407.55\"/><circle cx=\"184.8\" cy=\"412.5\" fill=\"red\" r=\"-0.264\" stroke=\"red\" stroke-width=\"0\"/><circle cx=\"211.2\" cy=\"412.5\" fill=\"red\" r=\"-0.264\" stroke=\"red\" stroke-width=\"0\"/><text alignment-baseline=\"middle\" fill=\"white\" font-family=\"Times\" font-size=\"13.2\" text-anchor=\"middle\" x=\"198.0\" y=\"413.325\"/><rect fill=\"red\" height=\"9.9\" width=\"26.928\" x=\"210.936\" y=\"407.55\"/><circle cx=\"211.2\" cy=\"412.5\" fill=\"red\" r=\"-0.264\" stroke=\"red\" stroke-width=\"0\"/><circle cx=\"237.6\" cy=\"412.5\" fill=\"red\" r=\"-0.264\" stroke=\"red\" stroke-width=\"0\"/><text alignment-baseline=\"middle\" fill=\"white\" font-family=\"Times\" font-size=\"13.2\" text-anchor=\"middle\" x=\"224.4\" y=\"413.325\"/><line stroke=\"green\" stroke-width=\"1.32\" x1=\"79.2\" x2=\"79.2\" y1=\"329.835\" y2=\"429.165\"/><text alignment-baseline=\"middle\" fill=\"black\" font-family=\"Times\" font-size=\"13.2\" text-anchor=\"end\" x=\"47.52\" y=\"429.825\">42b</text><rect fill=\"green\" height=\"9.9\" width=\"26.928\" x=\"52.536\" y=\"424.05\"/><circle cx=\"52.8\" cy=\"429.0\" fill=\"green\" r=\"-0.264\" stroke=\"green\" stroke-width=\"0\"/><circle cx=\"79.2\" cy=\"429.0\" fill=\"green\" r=\"-0.264\" stroke=\"green\" stroke-width=\"0\"/><text alignment-baseline=\"middle\" fill=\"white\" font-family=\"Times\" font-size=\"13.2\" text-anchor=\"middle\" x=\"66.0\" y=\"429.825\"/><line stroke=\"green\" stroke-width=\"1.32\" x1=\"132.0\" x2=\"132.0\" y1=\"16.335\" y2=\"445.665\"/><text alignment-baseline=\"middle\" fill=\"black\" font-family=\"Times\" font-size=\"13.2\" text-anchor=\"end\" x=\"47.52\" y=\"446.325\">43b</text><rect fill=\"green\" height=\"9.9\" width=\"26.928\" x=\"52.536\" y=\"440.55\"/><circle cx=\"52.8\" cy=\"445.5\" fill=\"green\" r=\"-0.264\" stroke=\"green\" stroke-width=\"0\"/><circle cx=\"79.2\" cy=\"445.5\" fill=\"green\" r=\"-0.264\" stroke=\"green\" stroke-width=\"0\"/><text alignment-baseline=\"middle\" fill=\"white\" font-family=\"Times\" font-size=\"13.2\" text-anchor=\"middle\" x=\"66.0\" y=\"446.325\"/><rect fill=\"green\" height=\"9.9\" width=\"26.928\" x=\"78.936\" y=\"440.55\"/><circle cx=\"79.2\" cy=\"445.5\" fill=\"green\" r=\"-0.264\" stroke=\"green\" stroke-width=\"0\"/><circle cx=\"105.6\" cy=\"445.5\" fill=\"green\" r=\"-0.264\" stroke=\"green\" stroke-width=\"0\"/><text alignment-baseline=\"middle\" fill=\"white\" font-family=\"Times\" font-size=\"13.2\" text-anchor=\"middle\" x=\"92.4\" y=\"446.325\"/><rect fill=\"green\" height=\"9.9\" width=\"26.928\" x=\"105.336\" y=\"440.55\"/><circle cx=\"105.6\" cy=\"445.5\" fill=\"green\" r=\"-0.264\" stroke=\"green\" stroke-width=\"0\"/><circle cx=\"132.0\" cy=\"445.5\" fill=\"green\" r=\"-0.264\" stroke=\"green\" stroke-width=\"0\"/><text alignment-baseline=\"middle\" fill=\"white\" font-family=\"Times\" font-size=\"13.2\" text-anchor=\"middle\" x=\"118.8\" y=\"446.325\"/><line stroke=\"red\" stroke-width=\"1.32\" x1=\"211.2\" x2=\"211.2\" y1=\"412.335\" y2=\"462.165\"/><text alignment-baseline=\"middle\" fill=\"black\" font-family=\"Times\" font-size=\"13.2\" text-anchor=\"start\" x=\"242.88\" y=\"462.825\">46f</text><rect fill=\"red\" height=\"9.9\" width=\"26.928\" x=\"210.936\" y=\"457.05\"/><circle cx=\"211.2\" cy=\"462.0\" fill=\"red\" r=\"-0.264\" stroke=\"red\" stroke-width=\"0\"/><circle cx=\"237.6\" cy=\"462.0\" fill=\"red\" r=\"-0.264\" stroke=\"red\" stroke-width=\"0\"/><text alignment-baseline=\"middle\" fill=\"white\" font-family=\"Times\" font-size=\"13.2\" text-anchor=\"middle\" x=\"224.4\" y=\"462.825\"/><line stroke=\"red\" stroke-width=\"1.32\" x1=\"184.8\" x2=\"184.8\" y1=\"395.835\" y2=\"478.665\"/><text alignment-baseline=\"middle\" fill=\"black\" font-family=\"Times\" font-size=\"13.2\" text-anchor=\"start\" x=\"242.88\" y=\"479.325\">49f</text><rect fill=\"red\" height=\"9.9\" width=\"26.928\" x=\"184.536\" y=\"473.55\"/><circle cx=\"184.8\" cy=\"478.5\" fill=\"red\" r=\"-0.264\" stroke=\"red\" stroke-width=\"0\"/><circle cx=\"211.2\" cy=\"478.5\" fill=\"red\" r=\"-0.264\" stroke=\"red\" stroke-width=\"0\"/><text alignment-baseline=\"middle\" fill=\"white\" font-family=\"Times\" font-size=\"13.2\" text-anchor=\"middle\" x=\"198.0\" y=\"479.325\"/><rect fill=\"red\" height=\"9.9\" width=\"26.928\" x=\"210.936\" y=\"473.55\"/><circle cx=\"211.2\" cy=\"478.5\" fill=\"red\" r=\"-0.264\" stroke=\"red\" stroke-width=\"0\"/><circle cx=\"237.6\" cy=\"478.5\" fill=\"red\" r=\"-0.264\" stroke=\"red\" stroke-width=\"0\"/><text alignment-baseline=\"middle\" fill=\"white\" font-family=\"Times\" font-size=\"13.2\" text-anchor=\"middle\" x=\"224.4\" y=\"479.325\"/><line stroke=\"red\" stroke-width=\"1.32\" x1=\"211.2\" x2=\"211.2\" y1=\"478.335\" y2=\"495.165\"/><text alignment-baseline=\"middle\" fill=\"black\" font-family=\"Times\" font-size=\"13.2\" text-anchor=\"start\" x=\"242.88\" y=\"495.825\">51f</text><rect fill=\"red\" height=\"9.9\" width=\"26.928\" x=\"210.936\" y=\"490.05\"/><circle cx=\"211.2\" cy=\"495.0\" fill=\"red\" r=\"-0.264\" stroke=\"red\" stroke-width=\"0\"/><circle cx=\"237.6\" cy=\"495.0\" fill=\"red\" r=\"-0.264\" stroke=\"red\" stroke-width=\"0\"/><text alignment-baseline=\"middle\" fill=\"white\" font-family=\"Times\" font-size=\"13.2\" text-anchor=\"middle\" x=\"224.4\" y=\"495.825\"/><line stroke=\"green\" stroke-width=\"1.32\" x1=\"132.0\" x2=\"132.0\" y1=\"16.335\" y2=\"511.665\"/><text alignment-baseline=\"middle\" fill=\"black\" font-family=\"Times\" font-size=\"13.2\" text-anchor=\"end\" x=\"47.52\" y=\"512.325\">52b</text><rect fill=\"green\" height=\"9.9\" width=\"26.928\" x=\"52.536\" y=\"506.55\"/><circle cx=\"52.8\" cy=\"511.5\" fill=\"green\" r=\"-0.264\" stroke=\"green\" stroke-width=\"0\"/><circle cx=\"79.2\" cy=\"511.5\" fill=\"green\" r=\"-0.264\" stroke=\"green\" stroke-width=\"0\"/><text alignment-baseline=\"middle\" fill=\"white\" font-family=\"Times\" font-size=\"13.2\" text-anchor=\"middle\" x=\"66.0\" y=\"512.325\"/><rect fill=\"green\" height=\"9.9\" width=\"26.928\" x=\"78.936\" y=\"506.55\"/><circle cx=\"79.2\" cy=\"511.5\" fill=\"green\" r=\"-0.264\" stroke=\"green\" stroke-width=\"0\"/><circle cx=\"105.6\" cy=\"511.5\" fill=\"green\" r=\"-0.264\" stroke=\"green\" stroke-width=\"0\"/><text alignment-baseline=\"middle\" fill=\"white\" font-family=\"Times\" font-size=\"13.2\" text-anchor=\"middle\" x=\"92.4\" y=\"512.325\"/><rect fill=\"green\" height=\"9.9\" width=\"26.928\" x=\"105.336\" y=\"506.55\"/><circle cx=\"105.6\" cy=\"511.5\" fill=\"green\" r=\"-0.264\" stroke=\"green\" stroke-width=\"0\"/><circle cx=\"132.0\" cy=\"511.5\" fill=\"green\" r=\"-0.264\" stroke=\"green\" stroke-width=\"0\"/><text alignment-baseline=\"middle\" fill=\"white\" font-family=\"Times\" font-size=\"13.2\" text-anchor=\"middle\" x=\"118.8\" y=\"512.325\"/><line stroke=\"green\" stroke-width=\"1.32\" x1=\"132.0\" x2=\"132.0\" y1=\"16.335\" y2=\"528.165\"/><text alignment-baseline=\"middle\" fill=\"black\" font-family=\"Times\" font-size=\"13.2\" text-anchor=\"end\" x=\"47.52\" y=\"528.825\">54b</text><rect fill=\"green\" height=\"9.9\" width=\"26.928\" x=\"52.536\" y=\"523.05\"/><circle cx=\"52.8\" cy=\"528.0\" fill=\"green\" r=\"-0.264\" stroke=\"green\" stroke-width=\"0\"/><circle cx=\"79.2\" cy=\"528.0\" fill=\"green\" r=\"-0.264\" stroke=\"green\" stroke-width=\"0\"/><text alignment-baseline=\"middle\" fill=\"white\" font-family=\"Times\" font-size=\"13.2\" text-anchor=\"middle\" x=\"66.0\" y=\"528.825\"/><rect fill=\"green\" height=\"9.9\" width=\"26.928\" x=\"78.936\" y=\"523.05\"/><circle cx=\"79.2\" cy=\"528.0\" fill=\"green\" r=\"-0.264\" stroke=\"green\" stroke-width=\"0\"/><circle cx=\"105.6\" cy=\"528.0\" fill=\"green\" r=\"-0.264\" stroke=\"green\" stroke-width=\"0\"/><text alignment-baseline=\"middle\" fill=\"white\" font-family=\"Times\" font-size=\"13.2\" text-anchor=\"middle\" x=\"92.4\" y=\"528.825\"/><rect fill=\"green\" height=\"9.9\" width=\"26.928\" x=\"105.336\" y=\"523.05\"/><circle cx=\"105.6\" cy=\"528.0\" fill=\"green\" r=\"-0.264\" stroke=\"green\" stroke-width=\"0\"/><circle cx=\"132.0\" cy=\"528.0\" fill=\"green\" r=\"-0.264\" stroke=\"green\" stroke-width=\"0\"/><text alignment-baseline=\"middle\" fill=\"white\" font-family=\"Times\" font-size=\"13.2\" text-anchor=\"middle\" x=\"118.8\" y=\"528.825\"/></svg>"
       ],
       "text": [
        "<IPython.core.display.SVG at 0x11144fbd0>"
       ]
      }
     ],
     "prompt_number": 51
    },
    {
     "cell_type": "markdown",
     "metadata": {},
     "source": [
      "### Phi/Psi Plots"
     ]
    },
    {
     "cell_type": "code",
     "collapsed": false,
     "input": [
      "# Imports for plotting\n",
      "%matplotlib inline\n",
      "import matplotlib\n",
      "import matplotlib.pyplot as plt\n",
      "import matplotlib.pylab as pylab\n",
      "from matplotlib.legend_handler import HandlerLine2D"
     ],
     "language": "python",
     "metadata": {},
     "outputs": [],
     "prompt_number": 52
    },
    {
     "cell_type": "markdown",
     "metadata": {},
     "source": [
      "Make sure that all phi/psi values have been computed!"
     ]
    },
    {
     "cell_type": "code",
     "collapsed": false,
     "input": [
      "phi(storage.snapshot.all());\n",
      "psi(storage.snapshot.all());"
     ],
     "language": "python",
     "metadata": {},
     "outputs": [],
     "prompt_number": 53
    },
    {
     "cell_type": "code",
     "collapsed": false,
     "input": [
      "plt.figure(figsize=(5, 5))\n",
      "\n",
      "for traj in storage.trajectory.iterator():\n",
      "    phi_angles = degrees * np.array(phi(traj)).flatten()\n",
      "    psi_angles = degrees * np.array(psi(traj)).flatten()\n",
      "    plt.plot(phi_angles, psi_angles, 'ro', linewidth=1);\n",
      "    \n",
      "plt.xlim(-180, 180);\n",
      "plt.ylim(-180, 180);"
     ],
     "language": "python",
     "metadata": {},
     "outputs": [
      {
       "metadata": {},
       "output_type": "display_data",
       "png": "[encoded data removed]",
       "text": [
        "<matplotlib.figure.Figure at 0x110de5c50>"
       ]
      }
     ],
     "prompt_number": 54
    },
    {
     "cell_type": "code",
     "collapsed": false,
     "input": [
      "plt.figure(figsize=(8, 8))\n",
      "\n",
      "traj = storage.trajectory.load(1)\n",
      "phi_angles = degrees * np.array(phi(traj)).flatten()\n",
      "psi_angles = degrees * np.array(psi(traj)).flatten()\n",
      "plt.plot(phi_angles, psi_angles, 'k-', linewidth=1);\n",
      "\n",
      "for snapshot in storage.snapshot.iterator():\n",
      "    phi_angles = degrees * np.array(phi(snapshot)).flatten()\n",
      "    psi_angles = degrees * np.array(psi(snapshot)).flatten()\n",
      "    if op_notinAorB(snapshot):\n",
      "        plt.plot(phi_angles, psi_angles, 'ro', linewidth=1);\n",
      "    else:\n",
      "        plt.plot(phi_angles, psi_angles, 'bo', linewidth=1);\n",
      "        \n",
      "plt.xlim(-180, 180);\n",
      "plt.ylim(-180, 180);"
     ],
     "language": "python",
     "metadata": {},
     "outputs": []
    },
    {
     "cell_type": "code",
     "collapsed": false,
     "input": [
      "plt.figure(figsize=(8, 8))\n",
      "\n",
      "traj = storage.sample.load(20).trajectory\n",
      "phi_angles = degrees * np.array(phi(traj)).flatten()\n",
      "psi_angles = degrees * np.array(psi(traj)).flatten()\n",
      "plt.plot(phi_angles, psi_angles, 'k-', linewidth=1);\n",
      "\n",
      "\n",
      "#for snapshot in simulator.storage.snapshot.iterator():\n",
      "for snapshot in traj:\n",
      "    phi_angles = degrees * np.array(phi(snapshot)).flatten()\n",
      "    psi_angles = degrees * np.array(psi(snapshot)).flatten()\n",
      "    if op_notinAorB(snapshot):\n",
      "        plt.plot(phi_angles, psi_angles, 'ro', linewidth=1);\n",
      "    else:\n",
      "        plt.plot(phi_angles, psi_angles, 'bo', linewidth=1);\n",
      "        \n",
      "plt.xlim(-180, 180);\n",
      "plt.ylim(-180, 180);"
     ],
     "language": "python",
     "metadata": {},
     "outputs": [
      {
       "metadata": {},
       "output_type": "display_data",
       "png": "[encoded data removed]",
       "text": [
        "<matplotlib.figure.Figure at 0x111a5e090>"
       ]
      }
     ],
     "prompt_number": 55
    },
    {
     "cell_type": "code",
     "collapsed": false,
     "input": [],
     "language": "python",
     "metadata": {},
     "outputs": []
    }
   ],
   "metadata": {}
  }
 ]
}
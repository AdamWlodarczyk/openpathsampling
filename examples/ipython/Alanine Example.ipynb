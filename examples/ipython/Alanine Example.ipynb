{
 "worksheets": [
  {
   "cells": [
    {
     "cell_type": "markdown",
     "metadata": {},
     "source": [
      "# OPENTIS\n",
      "## An Example with Alanine"
     ]
    },
    {
     "cell_type": "markdown",
     "metadata": {},
     "source": [
      "Import Modules"
     ]
    },
    {
     "cell_type": "code",
     "metadata": {},
     "outputs": [],
     "input": [
      "import numpy as np\n",
      "import mdtraj as md\n",
      "import pandas as pd\n",
      "\n",
      "import sys, os\n",
      " \n",
      "# in principle, all of these imports should be simplified once this is a\n",
      "# package\n",
      "from opentis.Simulator import Simulator\n",
      "from opentis.orderparameter import OP_Function, OP_Volume\n",
      "from opentis.openmm_simulation import OpenMMSimulation\n",
      "from opentis.snapshot import Snapshot, Configuration\n",
      "from opentis.volume import LambdaVolumePeriodic, VolumeFactory as vf\n",
      "from opentis.pathmover import PathMoverFactory as mf\n",
      "from opentis.ensemble import EnsembleFactory as ef\n",
      "from opentis.ensemble import (LengthEnsemble, SequentialEnsemble, OutXEnsemble,\n",
      "                      InXEnsemble, HitXEnsemble, LeaveXEnsemble)\n",
      "from opentis.storage import Storage\n",
      "from opentis.trajectory import Trajectory\n",
      "from opentis.calculation import Bootstrapping\n",
      "from opentis.pathmover import (PathMover, MixedMover, ForwardShootMover, \n",
      "                       BackwardShootMover)\n",
      "from opentis.shooting import UniformSelector\n",
      "\n",
      "from simtk.unit import femtoseconds, picoseconds, nanometers, kelvin, dalton\n",
      "from simtk.unit import Quantity\n",
      "\n",
      "import time\n",
      "\n",
      "from opentis.integrators import VVVRIntegrator\n",
      "\n",
      "from simtk.openmm.app.pdbfile import PDBFile\n",
      "import simtk.openmm as openmm\n",
      "from simtk.openmm.app import ForceField, PME, HBonds\n",
      "from simtk.openmm.app import Simulation\n",
      "\n",
      "from IPython.display import SVG, HTML"
     ],
     "language": "python",
     "prompt_number": 1
    },
    {
     "cell_type": "markdown",
     "metadata": {},
     "source": [
      "Radians to Degree conversion"
     ]
    },
    {
     "cell_type": "code",
     "metadata": {},
     "outputs": [],
     "input": [
      "degrees = 180/3.14159 # psi reports in radians; I think in degrees"
     ],
     "language": "python",
     "prompt_number": 2
    },
    {
     "cell_type": "markdown",
     "metadata": {},
     "source": [
      "Create an AlanineOpenMMSimulator for demonstration purposes"
     ]
    },
    {
     "cell_type": "code",
     "metadata": {},
     "outputs": [],
     "input": [
      "class AlanineDipeptideTrajectorySimulator(Simulator):\n",
      "    \"\"\"\n",
      "    A simulator that runs Alanine using OpenMM using a VVVRIntegrator\n",
      "    \"\"\"\n",
      "    def __init__(self, filename, topology_file, opts, mode='auto'):\n",
      "        super(AlanineDipeptideTrajectorySimulator, self).__init__()\n",
      "\n",
      "        # tell everybody who their simulator is\n",
      "        Snapshot.simulator = self\n",
      "        Configuration.simulator = self\n",
      "        Trajectory.simulator = self\n",
      "\n",
      "        # set up the opts\n",
      "        self.opts = {}\n",
      "        self.add_stored_parameters(opts)\n",
      "\n",
      "        # storage\n",
      "        self.fn_storage = filename \n",
      "\n",
      "        # topology\n",
      "        self.pdb = PDBFile(topology_file)\n",
      "        self.topology = self.pdb.topology\n",
      "\n",
      "        if mode == 'create':\n",
      "            # set up the OpenMM simulation\n",
      "            forcefield = ForceField( self.forcefield_solute,\n",
      "                                     self.forcefield_solvent )\n",
      "            system = forcefield.createSystem( self.topology, \n",
      "                                              nonbondedMethod=PME,\n",
      "                                              nonbondedCutoff=1*nanometers,\n",
      "                                              constraints=HBonds )\n",
      "            self.system_serial = openmm.XmlSerializer.serialize(system)\n",
      "\n",
      "            integrator = VVVRIntegrator( self.temperature,\n",
      "                                         self.collision_rate,\n",
      "                                         self.timestep )\n",
      "            self.integrator_serial = openmm.XmlSerializer.serialize(system)\n",
      "            self.integrator_class = type(integrator).__name__\n",
      "\n",
      "            simulation = OpenMMSimulation(self.topology, system, \n",
      "                                          integrator)\n",
      "\n",
      "            # claim the OpenMM simulation as our own\n",
      "            self.simulation = simulation\n",
      "\n",
      "            # set up the max_length_stopper (if n_frames_max is given)\n",
      "            self.max_length_stopper = LengthEnsemble(slice(0,self.n_frames_max-1))\n",
      "\n",
      "            # storage\n",
      "            self.storage = Storage(\n",
      "                topology_file=self.topology,\n",
      "                filename=self.fn_storage,\n",
      "                mode='w'\n",
      "            )\n",
      "            self.storage.simulator = self\n",
      "            self.storage._store_options(self)\n",
      "            Trajectory.storage = self.storage\n",
      "        if mode == 'restore':\n",
      "            pass\n",
      "        return\n",
      "\n",
      "    def add_stored_parameters(self, param_dict):\n",
      "        '''Adds parameters in param_dict to the attribute dictionary of the\n",
      "        simulator object, and saves the relevant keys as options to store.\n",
      "\n",
      "        Parameters\n",
      "        ----------\n",
      "        param_dict : dict\n",
      "            dictionary of attributes to be added (and stored); attribute\n",
      "            names are keys, with appropriate values\n",
      "        '''\n",
      "        # TODO: I think this should go into the Simulator object\n",
      "        for key in param_dict.keys():\n",
      "            self.opts[key] = param_dict[key]\n",
      "            setattr(self, key, param_dict[key])\n",
      "        self.options_to_store = self.opts.keys()\n",
      "        return\n",
      "        \n",
      "\n",
      "    def equilibrate(self, nsteps):\n",
      "        # TODO: rename... this is position restrained equil, right?\n",
      "        self.simulation.context.setPositions(self.pdb.positions)\n",
      "        system = self.simulation.system\n",
      "        n_solute = len(self.solute_indices)\n",
      "\n",
      "        solute_masses = Quantity(np.zeros(n_solute, np.double), dalton)\n",
      "        for i in self.solute_indices:\n",
      "            solute_masses[i] = system.getParticleMass(i)\n",
      "            system.setParticleMass(i,0.0)\n",
      "\n",
      "        self.simulation.step(nsteps)\n",
      "\n",
      "        for i in self.solute_indices:\n",
      "            system.setParticleMass(i, solute_masses[i].value_in_unit(dalton))"
     ],
     "language": "python",
     "prompt_number": 3
    },
    {
     "cell_type": "markdown",
     "metadata": {},
     "source": [
      "### Set simulation options and create a simulator object"
     ]
    },
    {
     "cell_type": "code",
     "metadata": {},
     "outputs": [],
     "input": [
      "options = {\n",
      "            'temperature' : 300.0 * kelvin,\n",
      "            'collision_rate' : 1.0 / picoseconds,\n",
      "            'timestep' : 2.0 * femtoseconds,\n",
      "            'nframes_per_iteration' : 10,\n",
      "            'n_frames_max' : 5000,\n",
      "            'start_time' : time.time(),\n",
      "            'fn_initial_pdb' : \"../data/Alanine_solvated.pdb\",\n",
      "            'platform' : 'fastest',\n",
      "            'solute_indices' : range(22),\n",
      "            'forcefield_solute' : 'amber96.xml',\n",
      "            'forcefield_solvent' : 'tip3p.xml'\n",
      "           }"
     ],
     "language": "python",
     "prompt_number": 4
    },
    {
     "cell_type": "code",
     "metadata": {},
     "outputs": [],
     "input": [
      "simulator = AlanineDipeptideTrajectorySimulator(\n",
      "                filename=\"trajectory.nc\",\n",
      "                topology_file=\"../data/Alanine_solvated.pdb\",\n",
      "                opts=options,\n",
      "                mode='create'\n",
      "                )"
     ],
     "language": "python",
     "prompt_number": 5
    },
    {
     "cell_type": "markdown",
     "metadata": {},
     "source": [
      "And save the storage in a separate variable for convenience"
     ]
    },
    {
     "cell_type": "code",
     "metadata": {},
     "outputs": [],
     "input": [
      "storage = simulator.storage"
     ],
     "language": "python",
     "prompt_number": 6
    },
    {
     "cell_type": "markdown",
     "metadata": {},
     "source": [
      "Equilibrate"
     ]
    },
    {
     "cell_type": "code",
     "metadata": {},
     "outputs": [],
     "input": [
      "simulator.equilibrate(5)"
     ],
     "language": "python",
     "prompt_number": 7
    },
    {
     "cell_type": "markdown",
     "metadata": {},
     "source": [
      "Save equilibrated snapshot with index 0"
     ]
    },
    {
     "cell_type": "code",
     "metadata": {},
     "outputs": [],
     "input": [
      "snap = Snapshot(simulator.simulation)\n",
      "storage.snapshot.save(snap, 0)\n",
      "simulator.initialized = True\n",
      "PathMover.simulator = simulator"
     ],
     "language": "python",
     "prompt_number": 8
    },
    {
     "cell_type": "markdown",
     "metadata": {},
     "source": [
      "### Order Parameters"
     ]
    },
    {
     "cell_type": "markdown",
     "metadata": {},
     "source": [
      "this generates an order parameter (callable) object named psi (so if we call `psi(trajectory)` we get a list of the values of psi for each frame in the trajectory). This particular order parameter uses mdtraj's compute_dihedrals function, with the atoms in psi_atoms"
     ]
    },
    {
     "cell_type": "code",
     "metadata": {},
     "outputs": [],
     "input": [
      "psi_atoms = [6,8,14,16]\n",
      "psi = OP_Function(\"psi\", md.compute_dihedrals, trajdatafmt=\"mdtraj\",\n",
      "                  indices=[psi_atoms])\n",
      "\n",
      "phi_atoms = [4,6,8,14]\n",
      "phi = OP_Function(\"phi\", md.compute_dihedrals, trajdatafmt=\"mdtraj\",\n",
      "                  indices=[phi_atoms])\n",
      "\n",
      "storage.cv.save(psi)\n",
      "storage.cv.save(phi)"
     ],
     "language": "python",
     "prompt_number": 9
    },
    {
     "cell_type": "markdown",
     "metadata": {},
     "source": [
      "### Volumes"
     ]
    },
    {
     "cell_type": "markdown",
     "metadata": {},
     "source": [
      "This creates two states using a one-dimensional order parameter (called _Lambda_ in TIS terminology). A snapshot is in the State as long as the order parameter is with specific bounds. "
     ]
    },
    {
     "cell_type": "code",
     "metadata": {},
     "outputs": [],
     "input": [
      "stateA = LambdaVolumePeriodic(\n",
      "    orderparameter=psi, \n",
      "    lambda_min=-120.0/degrees, \n",
      "    lambda_max=-30.0/degrees, \n",
      "    period_min=-180.0/degrees, \n",
      "    period_max=+180.0/degrees\n",
      ")\n",
      "stateB = LambdaVolumePeriodic(psi, 100/degrees, 180/degrees, -180.0/degrees, +180.0/degrees)"
     ],
     "language": "python",
     "prompt_number": 10
    },
    {
     "cell_type": "markdown",
     "metadata": {},
     "source": [
      "Now do the same for a set of lambda ranges to produce nested volumes."
     ]
    },
    {
     "cell_type": "code",
     "metadata": {},
     "outputs": [],
     "input": [
      "minima = map((1.0 / degrees).__mul__,\n",
      "             [-125, -135, -140, -142.5, -145.0, -147.0, -150.0])\n",
      "\n",
      "maxima = map((1.0 / degrees).__mul__,\n",
      "             [-25.0, -21.0, -18.5, -17.0, -15.0, -10.0, 0.0])\n",
      "\n",
      "volume_set = vf.LambdaVolumePeriodicSet(psi, minima, maxima, -180.0/degrees, +180.0/degrees)"
     ],
     "language": "python",
     "prompt_number": 12
    },
    {
     "cell_type": "markdown",
     "metadata": {},
     "source": [
      "### Ensembles"
     ]
    },
    {
     "cell_type": "markdown",
     "metadata": {},
     "source": [
      "Generate interface ensembles for each element in volume set. This means we want that Interface[N] is an ensemble that contains trajectories that start in `stateA` then leave `stateA`, leave at least once `Volume[N]` and then go back to `stateA`. These ensembles are calles the TISEnsemble for stateA to stateA and crossing Interface[N]"
     ]
    },
    {
     "cell_type": "code",
     "metadata": {},
     "outputs": [],
     "input": [
      "tis = InXEnsemble( volume=stateA, frames=0 ) \\\n",
      "        & InXEnsemble( volume=stateA, frames=-1 ) \\\n",
      "        & ~ InXEnsemble( volume=stateA, frames=slice(1,-1) ) \\\n",
      "        & LeaveXEnsemble( volume=volume_set[0], frames=slice(1,-1) )"
     ],
     "language": "python",
     "prompt_number": 13
    },
    {
     "cell_type": "markdown",
     "metadata": {},
     "source": [
      "We can also print the expression to check if we do the right thing"
     ]
    },
    {
     "cell_type": "code",
     "metadata": {},
     "outputs": [
      {
       "html": [
        "<code>(\n",
        "  (\n",
        "    (\n",
        "      x[0] in {x|(psi(x) - -3.14159) % 6.28318 + -3.14159 in [-2.09439333333, -0.523598333333]}\n",
        "    )\n",
        "    and\n",
        "    (\n",
        "      x[-1] in {x|(psi(x) - -3.14159) % 6.28318 + -3.14159 in [-2.09439333333, -0.523598333333]}\n",
        "    )\n",
        "  )\n",
        "  and\n",
        "  (\n",
        "    x[t] in {x|(psi(x) - -3.14159) % 6.28318 + -3.14159 in [-3.14159, -2.09439333333] union [-0.523598333333, 3.14159]} for one t in [1:-1]\n",
        "  )\n",
        ")\n",
        "and\n",
        "(\n",
        "  x[t] in {x|(psi(x) - -3.14159) % 6.28318 + -3.14159 in [-3.14159, -2.18165972222] union [-0.436331944444, 3.14159]} for one t in [1:-1]\n",
        ")</code>"
       ],
       "text": [
        "<IPython.core.display.HTML at 0x11158aa50>"
       ],
       "metadata": {}
      }
     ],
     "input": [
      "HTML(\"<code>\" + str(tis) + \"</code>\")"
     ],
     "language": "python",
     "prompt_number": 14
    },
    {
     "cell_type": "markdown",
     "metadata": {},
     "source": [
      "Now do this automatically for all ensembles"
     ]
    },
    {
     "cell_type": "code",
     "metadata": {},
     "outputs": [],
     "input": [
      "interface0 = volume_set[0]\n",
      "interface_set = ef.TISEnsembleSet(stateA, stateA | stateB, volume_set)\n",
      "for no, interface in enumerate(interface_set):\n",
      "    # Give each interface a name\n",
      "    interface.name = 'Interface '+str(no)\n",
      "    # And save all of these\n",
      "    storage.ensemble.save(interface)"
     ],
     "language": "python",
     "prompt_number": 15
    },
    {
     "cell_type": "markdown",
     "metadata": {},
     "source": [
      "And create a special ensemble, that will create a first trajectory in the innermost TIS ensemble independent from where we start"
     ]
    },
    {
     "cell_type": "markdown",
     "metadata": {},
     "source": [
      "The idea is to describe a trajectory type by a sequence of positions. First can be outside of stateA or not, then be inside stateA, etc..."
     ]
    },
    {
     "cell_type": "code",
     "metadata": {},
     "outputs": [],
     "input": [
      "first_traj_ensemble = SequentialEnsemble([\n",
      "    OutXEnsemble(stateA) | LengthEnsemble(0),\n",
      "    InXEnsemble(stateA),\n",
      "    OutXEnsemble(stateA) | LengthEnsemble(0),\n",
      "    OutXEnsemble(interface0),\n",
      "    OutXEnsemble(stateA) | LengthEnsemble(0),\n",
      "    InXEnsemble(stateA) & LengthEnsemble(1)\n",
      "])"
     ],
     "language": "python",
     "prompt_number": 16
    },
    {
     "cell_type": "markdown",
     "metadata": {},
     "source": [
      "### start path generation"
     ]
    },
    {
     "cell_type": "markdown",
     "metadata": {},
     "source": [
      "so lets try and see if we can generate a first path"
     ]
    },
    {
     "cell_type": "markdown",
     "metadata": {},
     "source": [
      "load the initial snapshot (although we still have it) and generate using the Alanine simulator. The second option specifies a function : trajectory -> bool that keeps the simulation running as long as it is true. Our goal was to generate a path that belongs to a specific ensemble, so we use `forward` to determine if it makes sense to keep running or if the result cannot belong to the ensemble anymore."
     ]
    },
    {
     "cell_type": "code",
     "metadata": {},
     "outputs": [],
     "input": [
      "snapshot = storage.snapshot.load(0)\n",
      "total_path = simulator.generate(\n",
      "    snapshot= snapshot, \n",
      "    running = [first_traj_ensemble.forward]\n",
      ")"
     ],
     "language": "python",
     "prompt_number": 21
    },
    {
     "cell_type": "markdown",
     "metadata": {},
     "source": [
      "Show the length"
     ]
    },
    {
     "cell_type": "code",
     "metadata": {},
     "outputs": [
      {
       "output_type": "stream",
       "stream": "stdout",
       "text": [
        "Total trajectory length:  38\n"
       ]
      }
     ],
     "input": [
      "print \"Total trajectory length: \", len(total_path)"
     ],
     "language": "python",
     "prompt_number": 22
    },
    {
     "cell_type": "markdown",
     "metadata": {},
     "source": [
      "And save the trajetory completely"
     ]
    },
    {
     "cell_type": "code",
     "metadata": {},
     "outputs": [],
     "input": [
      "storage.trajectory.save(total_path)"
     ],
     "language": "python",
     "prompt_number": 23
    },
    {
     "cell_type": "markdown",
     "metadata": {},
     "source": [
      "Split the trajectory into parts that belong to the TIS ensemble (not the one we generated)"
     ]
    },
    {
     "cell_type": "code",
     "metadata": {},
     "outputs": [
      {
       "output_type": "stream",
       "stream": "stdout",
       "text": [
        "Traj in first_traj_ensemble? (should be) False\n",
        "Traj in TIS ensemble? (probably not) False\n",
        "Number of segments in TIS ensemble:  1\n",
        "Length of each segment:\n",
        "  seg[0]: 11\n"
       ]
      }
     ],
     "input": [
      "interface0_ensemble = interface_set[0]\n",
      "segments = interface0_ensemble.split(total_path)\n",
      "\n",
      "print \"Traj in first_traj_ensemble? (should be)\", \n",
      "print first_traj_ensemble(total_path)\n",
      "\n",
      "print \"Traj in TIS ensemble? (probably not)\", \n",
      "print interface0_ensemble(total_path)\n",
      "\n",
      "\n",
      "print \"Number of segments in TIS ensemble: \", len(segments)\n",
      "if len(segments):\n",
      "    print \"Length of each segment:\"\n",
      "    for i in range(len(segments)):\n",
      "        print \"  seg[{0}]: {1}\".format(i, len(segments[i]))"
     ],
     "language": "python",
     "prompt_number": 24
    },
    {
     "cell_type": "markdown",
     "metadata": {},
     "source": [
      "Show some results and check if this worked"
     ]
    },
    {
     "cell_type": "code",
     "metadata": {},
     "outputs": [
      {
       "html": [
        "<div style=\"max-height:1000px;max-width:1500px;overflow:auto;\">\n",
        "<table border=\"1\" class=\"dataframe\">\n",
        "  <thead>\n",
        "    <tr style=\"text-align: right;\">\n",
        "      <th></th>\n",
        "      <th>phi</th>\n",
        "      <th>psi</th>\n",
        "      <th>stateA</th>\n",
        "      <th>interface0</th>\n",
        "      <th>stateB</th>\n",
        "      <th>appendable</th>\n",
        "    </tr>\n",
        "  </thead>\n",
        "  <tbody>\n",
        "    <tr>\n",
        "      <th>0 </th>\n",
        "      <td>-81.819117</td>\n",
        "      <td>-10.190644</td>\n",
        "      <td> [False]</td>\n",
        "      <td> [False]</td>\n",
        "      <td> [False]</td>\n",
        "      <td>  True</td>\n",
        "    </tr>\n",
        "    <tr>\n",
        "      <th>1 </th>\n",
        "      <td>-82.145040</td>\n",
        "      <td>-10.699890</td>\n",
        "      <td> [False]</td>\n",
        "      <td> [False]</td>\n",
        "      <td> [False]</td>\n",
        "      <td>  True</td>\n",
        "    </tr>\n",
        "    <tr>\n",
        "      <th>2 </th>\n",
        "      <td>-80.522917</td>\n",
        "      <td>-10.531625</td>\n",
        "      <td> [False]</td>\n",
        "      <td> [False]</td>\n",
        "      <td> [False]</td>\n",
        "      <td>  True</td>\n",
        "    </tr>\n",
        "    <tr>\n",
        "      <th>35</th>\n",
        "      <td>-69.307040</td>\n",
        "      <td>-24.593071</td>\n",
        "      <td> [False]</td>\n",
        "      <td> [False]</td>\n",
        "      <td> [False]</td>\n",
        "      <td>  True</td>\n",
        "    </tr>\n",
        "    <tr>\n",
        "      <th>36</th>\n",
        "      <td>-60.417002</td>\n",
        "      <td>-26.750233</td>\n",
        "      <td> [False]</td>\n",
        "      <td>  [True]</td>\n",
        "      <td> [False]</td>\n",
        "      <td>  True</td>\n",
        "    </tr>\n",
        "    <tr>\n",
        "      <th>37</th>\n",
        "      <td>-38.953401</td>\n",
        "      <td>-41.439148</td>\n",
        "      <td>  [True]</td>\n",
        "      <td>  [True]</td>\n",
        "      <td> [False]</td>\n",
        "      <td> False</td>\n",
        "    </tr>\n",
        "  </tbody>\n",
        "</table>\n",
        "</div>"
       ],
       "text": [
        "          phi        psi   stateA interface0   stateB appendable\n",
        "0  -81.819117 -10.190644  [False]    [False]  [False]       True\n",
        "1  -82.145040 -10.699890  [False]    [False]  [False]       True\n",
        "2  -80.522917 -10.531625  [False]    [False]  [False]       True\n",
        "35 -69.307040 -24.593071  [False]    [False]  [False]       True\n",
        "36 -60.417002 -26.750233  [False]     [True]  [False]       True\n",
        "37 -38.953401 -41.439148   [True]     [True]  [False]      False"
       ],
       "metadata": {}
      }
     ],
     "input": [
      "import pandas as pd\n",
      "\n",
      "data = []\n",
      "for frame in total_path:\n",
      "    data.append((phi(frame)[0]*degrees, psi(frame)[0]*degrees, stateA(frame), interface0(frame), stateB(frame), first_traj_ensemble.forward(total_path[slice(0,total_path.index(frame)+1)])))\n",
      "    \n",
      "dataframe = pd.DataFrame(data, columns=['phi', 'psi', 'stateA', 'interface0', 'stateB', 'appendable'])\n",
      "dataframe[[0,1,2,3,4,5]].ix[[0,1,2,len(dataframe)-3,len(dataframe)-2,len(dataframe)-1]]"
     ],
     "language": "python",
     "prompt_number": 25
    },
    {
     "cell_type": "code",
     "metadata": {},
     "outputs": [
      {
       "output_type": "stream",
       "stream": "stdout",
       "text": [
        "Do our segments satisfy the ensemble? True\n"
       ]
      }
     ],
     "input": [
      "print \"Do our segments satisfy the ensemble?\",\n",
      "for seg in segments:\n",
      "    print interface0_ensemble(seg),"
     ],
     "language": "python",
     "prompt_number": 26
    },
    {
     "cell_type": "code",
     "metadata": {},
     "outputs": [
      {
       "html": [
        "<div style=\"max-height:1000px;max-width:1500px;overflow:auto;\">\n",
        "<table border=\"1\" class=\"dataframe\">\n",
        "  <thead>\n",
        "    <tr style=\"text-align: right;\">\n",
        "      <th></th>\n",
        "      <th>phi</th>\n",
        "      <th>psi</th>\n",
        "      <th>stateA</th>\n",
        "      <th>interface0</th>\n",
        "      <th>stateB</th>\n",
        "      <th>appendable</th>\n",
        "    </tr>\n",
        "  </thead>\n",
        "  <tbody>\n",
        "    <tr>\n",
        "      <th>0 </th>\n",
        "      <td>-79.644308</td>\n",
        "      <td>-37.205469</td>\n",
        "      <td>  [True]</td>\n",
        "      <td>  [True]</td>\n",
        "      <td> [False]</td>\n",
        "      <td>  True</td>\n",
        "    </tr>\n",
        "    <tr>\n",
        "      <th>1 </th>\n",
        "      <td>-81.299626</td>\n",
        "      <td>-27.757750</td>\n",
        "      <td> [False]</td>\n",
        "      <td>  [True]</td>\n",
        "      <td> [False]</td>\n",
        "      <td>  True</td>\n",
        "    </tr>\n",
        "    <tr>\n",
        "      <th>2 </th>\n",
        "      <td>-78.447869</td>\n",
        "      <td>-24.688440</td>\n",
        "      <td> [False]</td>\n",
        "      <td> [False]</td>\n",
        "      <td> [False]</td>\n",
        "      <td>  True</td>\n",
        "    </tr>\n",
        "    <tr>\n",
        "      <th>3 </th>\n",
        "      <td>-74.293191</td>\n",
        "      <td>-23.580746</td>\n",
        "      <td> [False]</td>\n",
        "      <td> [False]</td>\n",
        "      <td> [False]</td>\n",
        "      <td>  True</td>\n",
        "    </tr>\n",
        "    <tr>\n",
        "      <th>4 </th>\n",
        "      <td>-65.440678</td>\n",
        "      <td>-22.988257</td>\n",
        "      <td> [False]</td>\n",
        "      <td> [False]</td>\n",
        "      <td> [False]</td>\n",
        "      <td>  True</td>\n",
        "    </tr>\n",
        "    <tr>\n",
        "      <th>5 </th>\n",
        "      <td>-75.007760</td>\n",
        "      <td>-13.157752</td>\n",
        "      <td> [False]</td>\n",
        "      <td> [False]</td>\n",
        "      <td> [False]</td>\n",
        "      <td>  True</td>\n",
        "    </tr>\n",
        "    <tr>\n",
        "      <th>6 </th>\n",
        "      <td>-69.440980</td>\n",
        "      <td>-20.976032</td>\n",
        "      <td> [False]</td>\n",
        "      <td> [False]</td>\n",
        "      <td> [False]</td>\n",
        "      <td>  True</td>\n",
        "    </tr>\n",
        "    <tr>\n",
        "      <th>7 </th>\n",
        "      <td>-69.905331</td>\n",
        "      <td>-19.205965</td>\n",
        "      <td> [False]</td>\n",
        "      <td> [False]</td>\n",
        "      <td> [False]</td>\n",
        "      <td>  True</td>\n",
        "    </tr>\n",
        "    <tr>\n",
        "      <th>8 </th>\n",
        "      <td>-69.307040</td>\n",
        "      <td>-24.593071</td>\n",
        "      <td> [False]</td>\n",
        "      <td> [False]</td>\n",
        "      <td> [False]</td>\n",
        "      <td>  True</td>\n",
        "    </tr>\n",
        "    <tr>\n",
        "      <th>9 </th>\n",
        "      <td>-60.417002</td>\n",
        "      <td>-26.750233</td>\n",
        "      <td> [False]</td>\n",
        "      <td>  [True]</td>\n",
        "      <td> [False]</td>\n",
        "      <td>  True</td>\n",
        "    </tr>\n",
        "    <tr>\n",
        "      <th>10</th>\n",
        "      <td>-38.953401</td>\n",
        "      <td>-41.439148</td>\n",
        "      <td>  [True]</td>\n",
        "      <td>  [True]</td>\n",
        "      <td> [False]</td>\n",
        "      <td> False</td>\n",
        "    </tr>\n",
        "  </tbody>\n",
        "</table>\n",
        "</div>"
       ],
       "text": [
        "          phi        psi   stateA interface0   stateB appendable\n",
        "0  -79.644308 -37.205469   [True]     [True]  [False]       True\n",
        "1  -81.299626 -27.757750  [False]     [True]  [False]       True\n",
        "2  -78.447869 -24.688440  [False]    [False]  [False]       True\n",
        "3  -74.293191 -23.580746  [False]    [False]  [False]       True\n",
        "4  -65.440678 -22.988257  [False]    [False]  [False]       True\n",
        "5  -75.007760 -13.157752  [False]    [False]  [False]       True\n",
        "6  -69.440980 -20.976032  [False]    [False]  [False]       True\n",
        "7  -69.905331 -19.205965  [False]    [False]  [False]       True\n",
        "8  -69.307040 -24.593071  [False]    [False]  [False]       True\n",
        "9  -60.417002 -26.750233  [False]     [True]  [False]       True\n",
        "10 -38.953401 -41.439148   [True]     [True]  [False]      False"
       ],
       "metadata": {}
      }
     ],
     "input": [
      "data = []\n",
      "for frame in segments[0]:\n",
      "    data.append((phi(frame)[0]*degrees, psi(frame)[0]*degrees, stateA(frame), interface0(frame), stateB(frame), first_traj_ensemble.forward(total_path[slice(0,total_path.index(frame)+1)])))\n",
      "    \n",
      "dataframe = pd.DataFrame(data, columns=['phi', 'psi', 'stateA', 'interface0', 'stateB', 'appendable'])\n",
      "dataframe[[0,1,2,3,4,5]]"
     ],
     "language": "python",
     "prompt_number": 27
    },
    {
     "cell_type": "markdown",
     "metadata": {},
     "source": [
      "### Bootstrapping"
     ]
    },
    {
     "cell_type": "markdown",
     "metadata": {},
     "source": [
      "Create a set of PathMovers that can shoot forward or backward and will create trajectories is various TIS ensembles"
     ]
    },
    {
     "cell_type": "code",
     "metadata": {},
     "outputs": [],
     "input": [
      "mover_set = mf.OneWayShootingSet(UniformSelector(), interface_set)"
     ],
     "language": "python",
     "prompt_number": 28
    },
    {
     "cell_type": "markdown",
     "metadata": {},
     "source": [
      "Run a bootstrapping (not TIS) simulation that shoots from an ensemble until the next interface is reached then switch to the next ensemble to drive the system out of stateA"
     ]
    },
    {
     "cell_type": "code",
     "metadata": {},
     "outputs": [],
     "input": [
      "bootstrap = Bootstrapping(storage=simulator.storage,\n",
      "                          simulator=simulator,\n",
      "                          ensembles=interface_set,\n",
      "                          movers=mover_set)"
     ],
     "language": "python",
     "prompt_number": 29
    },
    {
     "cell_type": "markdown",
     "metadata": {},
     "source": [
      "Run Bootstrapping with at most 50 attempts per ensemble"
     ]
    },
    {
     "cell_type": "code",
     "metadata": {},
     "outputs": [
      {
       "output_type": "stream",
       "stream": "stdout",
       "text": [
        "Trying move in ensemble 0\n",
        "Shooting backward from frame 2\n",
        "Proposal probability"
       ]
      },
      {
       "output_type": "stream",
       "stream": "stdout",
       "text": [
        " 1.0 / random : 0.883160169201\n",
        "<opentis.trajectory.Sample object at 0x1110a4210>\n",
        "Trying move in ensemble"
       ]
      },
      {
       "output_type": "stream",
       "stream": "stdout",
       "text": [
        " 1\n",
        "Shooting forward from frame 5\n",
        "Proposal probability"
       ]
      },
      {
       "output_type": "stream",
       "stream": "stdout",
       "text": [
        " 1.125 / random : 0.960013493899\n",
        "<opentis.trajectory.Sample object at 0x110d68f10>\n",
        "Trying move in ensemble 2\n",
        "Shooting backward from frame 3\n",
        "Proposal probability"
       ]
      },
      {
       "output_type": "stream",
       "stream": "stdout",
       "text": [
        " 1.14285714286 / random : 0.542255704178\n",
        "<opentis.trajectory.Sample object at 0x11065fed0>\n",
        "Trying move in ensemble 3\n",
        "Shooting forward from frame 7\n",
        "Proposal probability"
       ]
      },
      {
       "output_type": "stream",
       "stream": "stdout",
       "text": [
        " 1.0 / random : 0.606867191742\n",
        "<opentis.trajectory.Sample object at 0x110d54a90>\n",
        "Trying move in ensemble 4\n",
        "Shooting forward from frame 2\n",
        "Proposal probability"
       ]
      },
      {
       "output_type": "stream",
       "stream": "stdout",
       "text": [
        " 0.777777777778 / random : 0.972576859232\n",
        "<opentis.trajectory.Sample object at 0x111348d90>\n",
        "Trying move in ensemble 4\n",
        "Shooting backward from frame 5\n",
        "Proposal probability"
       ]
      },
      {
       "output_type": "stream",
       "stream": "stdout",
       "text": [
        " 0.875 / random : 0.242414705483\n",
        "<opentis.trajectory.Sample object at 0x1109207d0>\n",
        "Trying move in ensemble 4\n",
        "Shooting forward from frame 8\n",
        "Proposal probability"
       ]
      },
      {
       "output_type": "stream",
       "stream": "stdout",
       "text": [
        " 1.0 / random : 0.593209839889\n",
        "<opentis.trajectory.Sample object at 0x1106249d0>\n",
        "Trying move in ensemble 4\n",
        "Shooting forward from frame 2\n",
        "<opentis.trajectory.Sample object at 0x110624e50>"
       ]
      },
      {
       "output_type": "stream",
       "stream": "stdout",
       "text": [
        "\n",
        "Trying move in ensemble 4\n",
        "Shooting forward from frame 8\n",
        "Proposal probability"
       ]
      },
      {
       "output_type": "stream",
       "stream": "stdout",
       "text": [
        " 0.888888888889 / random : 0.337412167953\n",
        "<opentis.trajectory.Sample object at 0x1114b2b10>\n",
        "Trying move in ensemble 4\n",
        "Shooting backward from frame 8\n",
        "Proposal probability"
       ]
      },
      {
       "output_type": "stream",
       "stream": "stdout",
       "text": [
        " 1.0 / random : 0.346439050288\n",
        "<opentis.trajectory.Sample object at 0x110a9a6d0>\n",
        "Trying move in ensemble 4\n",
        "Shooting forward from frame 7\n",
        "Proposal probability"
       ]
      },
      {
       "output_type": "stream",
       "stream": "stdout",
       "text": [
        " 1.125 / random : 0.174961521476\n",
        "<opentis.trajectory.Sample object at 0x1113abad0>\n",
        "Trying move in ensemble 4\n",
        "Shooting backward from frame 6\n",
        "<opentis.trajectory.Sample object at 0x1105ef290>"
       ]
      },
      {
       "output_type": "stream",
       "stream": "stdout",
       "text": [
        "\n",
        "Trying move in ensemble 4\n",
        "Shooting backward from frame 1\n",
        "Proposal probability"
       ]
      },
      {
       "output_type": "stream",
       "stream": "stdout",
       "text": [
        " 1.0 / random : 0.429442759585\n",
        "<opentis.trajectory.Sample object at 0x1114ca850>\n",
        "Trying move in ensemble 4\n",
        "Shooting forward from frame 4\n",
        "<opentis.trajectory.Sample object at 0x11099be90>"
       ]
      },
      {
       "output_type": "stream",
       "stream": "stdout",
       "text": [
        "\n",
        "Trying move in ensemble 4\n",
        "Shooting backward from frame 5\n",
        "Proposal probability"
       ]
      },
      {
       "output_type": "stream",
       "stream": "stdout",
       "text": [
        " 1.14285714286 / random : 0.193525622729\n",
        "<opentis.trajectory.Sample object at 0x1114c7f10>\n",
        "Trying move in ensemble 4\n",
        "Shooting backward from frame 1\n",
        "Proposal probability"
       ]
      },
      {
       "output_type": "stream",
       "stream": "stdout",
       "text": [
        " 1.0 / random : 0.626552419592\n",
        "<opentis.trajectory.Sample object at 0x110acac90>\n",
        "Trying move in ensemble 4\n",
        "Shooting backward from frame 4\n",
        "Proposal probability"
       ]
      },
      {
       "output_type": "stream",
       "stream": "stdout",
       "text": [
        " 0.875 / random : 0.959496992461\n",
        "<opentis.trajectory.Sample object at 0x1154cd5d0>\n",
        "Trying move in ensemble 4\n",
        "Shooting forward from frame 6\n",
        "Proposal probability"
       ]
      },
      {
       "output_type": "stream",
       "stream": "stdout",
       "text": [
        " 1.0 / random : 0.380239125493\n",
        "<opentis.trajectory.Sample object at 0x1113a9f10>\n",
        "Trying move in ensemble 4\n",
        "Shooting backward from frame 7\n",
        "<opentis.trajectory.Sample object at 0x1105ef7d0>"
       ]
      },
      {
       "output_type": "stream",
       "stream": "stdout",
       "text": [
        "\n",
        "Trying move in ensemble 4\n",
        "Shooting backward from frame 7\n",
        "<opentis.trajectory.Sample object at 0x110d7e6d0>"
       ]
      },
      {
       "output_type": "stream",
       "stream": "stdout",
       "text": [
        "\n",
        "Trying move in ensemble 4\n",
        "Shooting forward from frame 4\n",
        "Proposal probability"
       ]
      },
      {
       "output_type": "stream",
       "stream": "stdout",
       "text": [
        " 0.875 / random : 0.944203009177\n",
        "<opentis.trajectory.Sample object at 0x110acaf50>\n",
        "Trying move in ensemble 4\n",
        "Shooting backward from frame 5\n",
        "<opentis.trajectory.Sample object at 0x1110d1fd0>"
       ]
      },
      {
       "output_type": "stream",
       "stream": "stdout",
       "text": [
        "\n",
        "Trying move in ensemble 4\n",
        "Shooting forward from frame 4\n",
        "Proposal probability"
       ]
      },
      {
       "output_type": "stream",
       "stream": "stdout",
       "text": [
        " 1.0 / random : 0.603336841038\n",
        "<opentis.trajectory.Sample object at 0x110e87850>\n",
        "Trying move in ensemble 4\n",
        "Shooting forward from frame 1\n",
        "<opentis.trajectory.Sample object at 0x110acd510>"
       ]
      },
      {
       "output_type": "stream",
       "stream": "stdout",
       "text": [
        "\n",
        "Trying move in ensemble 4\n",
        "Shooting backward from frame 2\n",
        "Proposal probability"
       ]
      },
      {
       "output_type": "stream",
       "stream": "stdout",
       "text": [
        " 0.583333333333 / random : 0.474436493689\n",
        "<opentis.trajectory.Sample object at 0x11059ef50>\n",
        "Trying move in ensemble 5\n",
        "Shooting backward from frame 10\n",
        "<opentis.trajectory.Sample object at 0x110937310>"
       ]
      },
      {
       "output_type": "stream",
       "stream": "stdout",
       "text": [
        "\n",
        "Trying move in ensemble 5\n",
        "Shooting forward from frame 11\n",
        "Proposal probability"
       ]
      },
      {
       "output_type": "stream",
       "stream": "stdout",
       "text": [
        " 1.0 / random : 0.462306991674\n",
        "<opentis.trajectory.Sample object at 0x1154b4ed0>\n",
        "Trying move in ensemble 5\n",
        "Shooting backward from frame 9\n",
        "<opentis.trajectory.Sample object at 0x110ad78d0>"
       ]
      },
      {
       "output_type": "stream",
       "stream": "stdout",
       "text": [
        "\n",
        "Trying move in ensemble 5\n",
        "Shooting backward from frame 1\n",
        "Proposal probability"
       ]
      },
      {
       "output_type": "stream",
       "stream": "stdout",
       "text": [
        " 1.0 / random : 0.383896778115\n",
        "<opentis.trajectory.Sample object at 0x115752710>\n",
        "Trying move in ensemble 5\n",
        "Shooting forward from frame 8\n",
        "Proposal probability"
       ]
      },
      {
       "output_type": "stream",
       "stream": "stdout",
       "text": [
        " 1.0 / random : 0.00522313173156\n",
        "<opentis.trajectory.Sample object at 0x1105cbb50>\n",
        "Trying move in ensemble 5\n",
        "Shooting forward from frame 8\n",
        "Proposal probability"
       ]
      },
      {
       "output_type": "stream",
       "stream": "stdout",
       "text": [
        " 0.923076923077 / random : 0.467972978437\n",
        "<opentis.trajectory.Sample object at 0x1105a9c90>\n",
        "Trying move in ensemble 5\n",
        "Shooting forward from frame 10\n",
        "Proposal probability"
       ]
      },
      {
       "output_type": "stream",
       "stream": "stdout",
       "text": [
        " 1.08333333333 / random : 0.645219516966\n",
        "<opentis.trajectory.Sample object at 0x1109f1310>\n",
        "Trying move in ensemble 5\n",
        "Shooting backward from frame 2\n",
        "Proposal probability"
       ]
      },
      {
       "output_type": "stream",
       "stream": "stdout",
       "text": [
        " 0.705882352941 / random : 0.935941202482\n",
        "<opentis.trajectory.Sample object at 0x111182e50>\n",
        "Trying move in ensemble 5\n",
        "Shooting forward from frame 4\n",
        "<opentis.trajectory.Sample object at 0x1109cae10>"
       ]
      },
      {
       "output_type": "stream",
       "stream": "stdout",
       "text": [
        "\n",
        "Trying move in ensemble 5\n",
        "Shooting forward from frame 5\n",
        "Proposal probability"
       ]
      },
      {
       "output_type": "stream",
       "stream": "stdout",
       "text": [
        " 1.33333333333 / random : 0.895614643511\n",
        "<opentis.trajectory.Sample object at 0x110ef3f10>\n",
        "Trying move in ensemble 5\n",
        "Shooting forward from frame 9\n",
        "Proposal probability"
       ]
      },
      {
       "output_type": "stream",
       "stream": "stdout",
       "text": [
        " 1.0 / random : 0.422553011547\n",
        "<opentis.trajectory.Sample object at 0x1110c54d0>\n",
        "Trying move in ensemble 5\n",
        "Shooting backward from frame 1\n",
        "Proposal probability"
       ]
      },
      {
       "output_type": "stream",
       "stream": "stdout",
       "text": [
        " 0.5625 / random : 0.142920566507\n",
        "<opentis.trajectory.Sample object at 0x1156a2290>\n",
        "Trying move in ensemble 5\n",
        "Shooting forward from frame 1\n",
        "Proposal probability"
       ]
      },
      {
       "output_type": "stream",
       "stream": "stdout",
       "text": [
        " 2.0 / random : 0.494690103178\n",
        "<opentis.trajectory.Sample object at 0x1154b4f50>\n",
        "Trying move in ensemble 5\n",
        "Shooting backward from frame 5\n",
        "Proposal probability"
       ]
      },
      {
       "output_type": "stream",
       "stream": "stdout",
       "text": [
        " 1.33333333333 / random : 0.697093340116\n",
        "<opentis.trajectory.Sample object at 0x110925b10>\n",
        "Trying move in ensemble 5\n",
        "Shooting forward from frame 3\n",
        "Proposal probability"
       ]
      },
      {
       "output_type": "stream",
       "stream": "stdout",
       "text": [
        " 0.857142857143 / random : 0.140682458164\n",
        "<opentis.trajectory.Sample object at 0x110f988d0>\n",
        "Trying move in ensemble 5\n",
        "Shooting forward from frame 1\n",
        "Proposal probability"
       ]
      },
      {
       "output_type": "stream",
       "stream": "stdout",
       "text": [
        " 0.7 / random : 0.640953221387\n",
        "<opentis.trajectory.Sample object at 0x1106e4e90>\n"
       ]
      }
     ],
     "input": [
      "bootstrap.set_replicas([segments[0]])\n",
      "bootstrap.run(50)"
     ],
     "language": "python",
     "prompt_number": 30
    },
    {
     "cell_type": "markdown",
     "metadata": {},
     "source": [
      "Save all computed phi/psi values which depends on whether they have been needed before"
     ]
    },
    {
     "cell_type": "code",
     "metadata": {},
     "outputs": [],
     "input": [
      "psi.save(storage=simulator.storage.cv)\n",
      "phi.save(storage=simulator.storage.cv)"
     ],
     "language": "python",
     "prompt_number": 31
    },
    {
     "cell_type": "markdown",
     "metadata": {},
     "source": [
      "Create an orderparameter from a volume which is just 1 or 0 and can thus be stored for later analysis"
     ]
    },
    {
     "cell_type": "code",
     "metadata": {},
     "outputs": [],
     "input": [
      "op_inA = OP_Volume('StateA', stateA)\n",
      "op_inB = OP_Volume('StateB', stateB)\n",
      "op_notinAorB = OP_Volume('StateX', ~ (stateA | stateB))"
     ],
     "language": "python",
     "prompt_number": 32
    },
    {
     "cell_type": "markdown",
     "metadata": {},
     "source": [
      "Compute the orderparameter for all snapshots"
     ]
    },
    {
     "cell_type": "code",
     "metadata": {},
     "outputs": [],
     "input": [
      "op_inA(storage.snapshot.all())\n",
      "op_inB(storage.snapshot.all())\n",
      "op_notinAorB(simulator.storage.snapshot.all());"
     ],
     "language": "python",
     "prompt_number": 33
    },
    {
     "cell_type": "markdown",
     "metadata": {},
     "source": [
      "Save the new orderparameters"
     ]
    },
    {
     "cell_type": "code",
     "metadata": {},
     "outputs": [],
     "input": [
      "simulator.storage.cv.save(op_inA)\n",
      "simulator.storage.cv.save(op_inB)\n",
      "simulator.storage.cv.save(op_notinAorB)"
     ],
     "language": "python",
     "prompt_number": 34
    },
    {
     "cell_type": "markdown",
     "metadata": {},
     "source": [
      "## Visualization"
     ]
    },
    {
     "cell_type": "code",
     "metadata": {},
     "outputs": [],
     "input": [
      "from opentis.storage import Storage\n",
      "from opentis.visualize import PathTreeBuilder\n",
      "from IPython.display import SVG"
     ],
     "language": "python",
     "prompt_number": 35
    },
    {
     "cell_type": "markdown",
     "metadata": {},
     "source": [
      "Create a PathTree generator"
     ]
    },
    {
     "cell_type": "code",
     "metadata": {},
     "outputs": [],
     "input": [
      "tree = PathTreeBuilder(simulator.storage)"
     ],
     "language": "python",
     "prompt_number": 36
    },
    {
     "cell_type": "markdown",
     "metadata": {},
     "source": [
      "Get samples (trajectries) that were generated for a specific ensemble"
     ]
    },
    {
     "cell_type": "code",
     "metadata": {},
     "outputs": [],
     "input": [
      "samples = simulator.storage.sample.by_ensemble(simulator.storage.ensemble.load(4))"
     ],
     "language": "python",
     "prompt_number": 53
    },
    {
     "cell_type": "markdown",
     "metadata": {},
     "source": [
      "Change the settings to show rejected pathways, mark OrderParaemters `stateA` and `stateX`, and show the 'psi' value as text inside of the boxes"
     ]
    },
    {
     "cell_type": "code",
     "metadata": {},
     "outputs": [],
     "input": [
      "tree.rejected = False\n",
      "tree.states = [('StateA','orange'),('StateX','black')]\n",
      "tree.op = simulator.storage.cv.load('psi').get_transformed_view(lambda x : int(x / 3.141592653 * 180))\n",
      "tree.states = []\n",
      "tree.from_samples(samples)"
     ],
     "language": "python",
     "prompt_number": 54
    },
    {
     "cell_type": "markdown",
     "metadata": {},
     "source": [
      "Render the tree"
     ]
    },
    {
     "cell_type": "code",
     "metadata": {},
     "outputs": [
      {
       "svg": [
        "<svg baseProfile=\"full\" height=\"343.2px\" version=\"1.1\" width=\"448.8px\" xmlns=\"http://www.w3.org/2000/svg\" xmlns:ev=\"http://www.w3.org/2001/xml-events\" xmlns:xlink=\"http://www.w3.org/1999/xlink\"><defs/><rect fill=\"black\" height=\"15.84\" width=\"26.928\" x=\"158.136\" y=\"18.48\"/><circle cx=\"158.4\" cy=\"26.4\" fill=\"black\" r=\"-0.264\" stroke=\"black\" stroke-width=\"0\"/><circle cx=\"184.8\" cy=\"26.4\" fill=\"black\" r=\"-0.264\" stroke=\"black\" stroke-width=\"0\"/><text alignment-baseline=\"middle\" fill=\"white\" font-family=\"Times\" font-size=\"9.24\" text-anchor=\"middle\" x=\"171.6\" y=\"27.72\">-30</text><rect fill=\"black\" height=\"15.84\" width=\"26.928\" x=\"184.536\" y=\"18.48\"/><circle cx=\"184.8\" cy=\"26.4\" fill=\"black\" r=\"-0.264\" stroke=\"black\" stroke-width=\"0\"/><circle cx=\"211.2\" cy=\"26.4\" fill=\"black\" r=\"-0.264\" stroke=\"black\" stroke-width=\"0\"/><text alignment-baseline=\"middle\" fill=\"white\" font-family=\"Times\" font-size=\"9.24\" text-anchor=\"middle\" x=\"198.0\" y=\"27.72\">-25</text><rect fill=\"black\" height=\"15.84\" width=\"26.928\" x=\"210.936\" y=\"18.48\"/><circle cx=\"211.2\" cy=\"26.4\" fill=\"black\" r=\"-0.264\" stroke=\"black\" stroke-width=\"0\"/><circle cx=\"237.6\" cy=\"26.4\" fill=\"black\" r=\"-0.264\" stroke=\"black\" stroke-width=\"0\"/><text alignment-baseline=\"middle\" fill=\"white\" font-family=\"Times\" font-size=\"9.24\" text-anchor=\"middle\" x=\"224.4\" y=\"27.72\">-23</text><rect fill=\"black\" height=\"15.84\" width=\"26.928\" x=\"237.336\" y=\"18.48\"/><circle cx=\"237.6\" cy=\"26.4\" fill=\"black\" r=\"-0.264\" stroke=\"black\" stroke-width=\"0\"/><circle cx=\"264.0\" cy=\"26.4\" fill=\"black\" r=\"-0.264\" stroke=\"black\" stroke-width=\"0\"/><text alignment-baseline=\"middle\" fill=\"white\" font-family=\"Times\" font-size=\"9.24\" text-anchor=\"middle\" x=\"250.8\" y=\"27.72\">-22</text><rect fill=\"black\" height=\"15.84\" width=\"26.928\" x=\"263.736\" y=\"18.48\"/><circle cx=\"264.0\" cy=\"26.4\" fill=\"black\" r=\"-0.264\" stroke=\"black\" stroke-width=\"0\"/><circle cx=\"290.4\" cy=\"26.4\" fill=\"black\" r=\"-0.264\" stroke=\"black\" stroke-width=\"0\"/><text alignment-baseline=\"middle\" fill=\"white\" font-family=\"Times\" font-size=\"9.24\" text-anchor=\"middle\" x=\"277.2\" y=\"27.72\">-13</text><rect fill=\"black\" height=\"15.84\" width=\"26.928\" x=\"290.136\" y=\"18.48\"/><circle cx=\"290.4\" cy=\"26.4\" fill=\"black\" r=\"-0.264\" stroke=\"black\" stroke-width=\"0\"/><circle cx=\"316.8\" cy=\"26.4\" fill=\"black\" r=\"-0.264\" stroke=\"black\" stroke-width=\"0\"/><text alignment-baseline=\"middle\" fill=\"white\" font-family=\"Times\" font-size=\"9.24\" text-anchor=\"middle\" x=\"303.6\" y=\"27.72\">-20</text><rect fill=\"black\" height=\"15.84\" width=\"26.928\" x=\"316.536\" y=\"18.48\"/><circle cx=\"316.8\" cy=\"26.4\" fill=\"black\" r=\"-0.264\" stroke=\"black\" stroke-width=\"0\"/><circle cx=\"343.2\" cy=\"26.4\" fill=\"black\" r=\"-0.264\" stroke=\"black\" stroke-width=\"0\"/><text alignment-baseline=\"middle\" fill=\"white\" font-family=\"Times\" font-size=\"9.24\" text-anchor=\"middle\" x=\"330.0\" y=\"27.72\">-20</text><rect fill=\"black\" height=\"15.84\" width=\"26.928\" x=\"342.936\" y=\"18.48\"/><circle cx=\"343.2\" cy=\"26.4\" fill=\"black\" r=\"-0.264\" stroke=\"black\" stroke-width=\"0\"/><circle cx=\"369.6\" cy=\"26.4\" fill=\"black\" r=\"-0.264\" stroke=\"black\" stroke-width=\"0\"/><text alignment-baseline=\"middle\" fill=\"white\" font-family=\"Times\" font-size=\"9.24\" text-anchor=\"middle\" x=\"356.4\" y=\"27.72\">-23</text><rect fill=\"black\" height=\"15.84\" width=\"26.928\" x=\"369.336\" y=\"18.48\"/><circle cx=\"369.6\" cy=\"26.4\" fill=\"black\" r=\"-0.264\" stroke=\"black\" stroke-width=\"0\"/><circle cx=\"396.0\" cy=\"26.4\" fill=\"black\" r=\"-0.264\" stroke=\"black\" stroke-width=\"0\"/><text alignment-baseline=\"middle\" fill=\"white\" font-family=\"Times\" font-size=\"9.24\" text-anchor=\"middle\" x=\"382.8\" y=\"27.72\">-30</text><text alignment-baseline=\"middle\" fill=\"black\" font-family=\"Times\" font-size=\"9.24\" text-anchor=\"end\" x=\"153.12\" y=\"27.72\">6b</text><line stroke=\"green\" stroke-width=\"1.32\" x1=\"290.4\" x2=\"290.4\" y1=\"26.136\" y2=\"53.064\"/><text alignment-baseline=\"middle\" fill=\"black\" font-family=\"Times\" font-size=\"9.24\" text-anchor=\"end\" x=\"126.72\" y=\"54.12\">8b</text><rect fill=\"green\" height=\"15.84\" width=\"26.928\" x=\"131.736\" y=\"44.88\"/><circle cx=\"132.0\" cy=\"52.8\" fill=\"green\" r=\"-0.264\" stroke=\"green\" stroke-width=\"0\"/><circle cx=\"158.4\" cy=\"52.8\" fill=\"green\" r=\"-0.264\" stroke=\"green\" stroke-width=\"0\"/><text alignment-baseline=\"middle\" fill=\"white\" font-family=\"Times\" font-size=\"9.24\" text-anchor=\"middle\" x=\"145.2\" y=\"54.12\">-39</text><rect fill=\"green\" height=\"15.84\" width=\"26.928\" x=\"158.136\" y=\"44.88\"/><circle cx=\"158.4\" cy=\"52.8\" fill=\"green\" r=\"-0.264\" stroke=\"green\" stroke-width=\"0\"/><circle cx=\"184.8\" cy=\"52.8\" fill=\"green\" r=\"-0.264\" stroke=\"green\" stroke-width=\"0\"/><text alignment-baseline=\"middle\" fill=\"white\" font-family=\"Times\" font-size=\"9.24\" text-anchor=\"middle\" x=\"171.6\" y=\"54.12\">-27</text><rect fill=\"green\" height=\"15.84\" width=\"26.928\" x=\"184.536\" y=\"44.88\"/><circle cx=\"184.8\" cy=\"52.8\" fill=\"green\" r=\"-0.264\" stroke=\"green\" stroke-width=\"0\"/><circle cx=\"211.2\" cy=\"52.8\" fill=\"green\" r=\"-0.264\" stroke=\"green\" stroke-width=\"0\"/><text alignment-baseline=\"middle\" fill=\"white\" font-family=\"Times\" font-size=\"9.24\" text-anchor=\"middle\" x=\"198.0\" y=\"54.12\">-24</text><rect fill=\"green\" height=\"15.84\" width=\"26.928\" x=\"210.936\" y=\"44.88\"/><circle cx=\"211.2\" cy=\"52.8\" fill=\"green\" r=\"-0.264\" stroke=\"green\" stroke-width=\"0\"/><circle cx=\"237.6\" cy=\"52.8\" fill=\"green\" r=\"-0.264\" stroke=\"green\" stroke-width=\"0\"/><text alignment-baseline=\"middle\" fill=\"white\" font-family=\"Times\" font-size=\"9.24\" text-anchor=\"middle\" x=\"224.4\" y=\"54.12\">-23</text><rect fill=\"green\" height=\"15.84\" width=\"26.928\" x=\"237.336\" y=\"44.88\"/><circle cx=\"237.6\" cy=\"52.8\" fill=\"green\" r=\"-0.264\" stroke=\"green\" stroke-width=\"0\"/><circle cx=\"264.0\" cy=\"52.8\" fill=\"green\" r=\"-0.264\" stroke=\"green\" stroke-width=\"0\"/><text alignment-baseline=\"middle\" fill=\"white\" font-family=\"Times\" font-size=\"9.24\" text-anchor=\"middle\" x=\"250.8\" y=\"54.12\">-24</text><rect fill=\"green\" height=\"15.84\" width=\"26.928\" x=\"263.736\" y=\"44.88\"/><circle cx=\"264.0\" cy=\"52.8\" fill=\"green\" r=\"-0.264\" stroke=\"green\" stroke-width=\"0\"/><circle cx=\"290.4\" cy=\"52.8\" fill=\"green\" r=\"-0.264\" stroke=\"green\" stroke-width=\"0\"/><text alignment-baseline=\"middle\" fill=\"white\" font-family=\"Times\" font-size=\"9.24\" text-anchor=\"middle\" x=\"277.2\" y=\"54.12\">-12</text><line stroke=\"red\" stroke-width=\"1.32\" x1=\"369.6\" x2=\"369.6\" y1=\"26.136\" y2=\"79.464\"/><text alignment-baseline=\"middle\" fill=\"black\" font-family=\"Times\" font-size=\"9.24\" text-anchor=\"start\" x=\"401.28\" y=\"80.52\">9f</text><rect fill=\"red\" height=\"15.84\" width=\"26.928\" x=\"369.336\" y=\"71.28\"/><circle cx=\"369.6\" cy=\"79.2\" fill=\"red\" r=\"-0.264\" stroke=\"red\" stroke-width=\"0\"/><circle cx=\"396.0\" cy=\"79.2\" fill=\"red\" r=\"-0.264\" stroke=\"red\" stroke-width=\"0\"/><text alignment-baseline=\"middle\" fill=\"white\" font-family=\"Times\" font-size=\"9.24\" text-anchor=\"middle\" x=\"382.8\" y=\"80.52\">-30</text><line stroke=\"red\" stroke-width=\"1.32\" x1=\"369.6\" x2=\"369.6\" y1=\"26.136\" y2=\"105.864\"/><text alignment-baseline=\"middle\" fill=\"black\" font-family=\"Times\" font-size=\"9.24\" text-anchor=\"start\" x=\"427.68\" y=\"106.92\">11f</text><rect fill=\"red\" height=\"15.84\" width=\"26.928\" x=\"369.336\" y=\"97.68\"/><circle cx=\"369.6\" cy=\"105.6\" fill=\"red\" r=\"-0.264\" stroke=\"red\" stroke-width=\"0\"/><circle cx=\"396.0\" cy=\"105.6\" fill=\"red\" r=\"-0.264\" stroke=\"red\" stroke-width=\"0\"/><text alignment-baseline=\"middle\" fill=\"white\" font-family=\"Times\" font-size=\"9.24\" text-anchor=\"middle\" x=\"382.8\" y=\"106.92\">-29</text><rect fill=\"red\" height=\"15.84\" width=\"26.928\" x=\"395.736\" y=\"97.68\"/><circle cx=\"396.0\" cy=\"105.6\" fill=\"red\" r=\"-0.264\" stroke=\"red\" stroke-width=\"0\"/><circle cx=\"422.4\" cy=\"105.6\" fill=\"red\" r=\"-0.264\" stroke=\"red\" stroke-width=\"0\"/><text alignment-baseline=\"middle\" fill=\"white\" font-family=\"Times\" font-size=\"9.24\" text-anchor=\"middle\" x=\"409.2\" y=\"106.92\">-35</text><line stroke=\"green\" stroke-width=\"1.32\" x1=\"343.2\" x2=\"343.2\" y1=\"26.136\" y2=\"132.264\"/><text alignment-baseline=\"middle\" fill=\"black\" font-family=\"Times\" font-size=\"9.24\" text-anchor=\"end\" x=\"126.72\" y=\"133.32\">12b</text><rect fill=\"green\" height=\"15.84\" width=\"26.928\" x=\"131.736\" y=\"124.08\"/><circle cx=\"132.0\" cy=\"132.0\" fill=\"green\" r=\"-0.264\" stroke=\"green\" stroke-width=\"0\"/><circle cx=\"158.4\" cy=\"132.0\" fill=\"green\" r=\"-0.264\" stroke=\"green\" stroke-width=\"0\"/><text alignment-baseline=\"middle\" fill=\"white\" font-family=\"Times\" font-size=\"9.24\" text-anchor=\"middle\" x=\"145.2\" y=\"133.32\">-37</text><rect fill=\"green\" height=\"15.84\" width=\"26.928\" x=\"158.136\" y=\"124.08\"/><circle cx=\"158.4\" cy=\"132.0\" fill=\"green\" r=\"-0.264\" stroke=\"green\" stroke-width=\"0\"/><circle cx=\"184.8\" cy=\"132.0\" fill=\"green\" r=\"-0.264\" stroke=\"green\" stroke-width=\"0\"/><text alignment-baseline=\"middle\" fill=\"white\" font-family=\"Times\" font-size=\"9.24\" text-anchor=\"middle\" x=\"171.6\" y=\"133.32\">-29</text><rect fill=\"green\" height=\"15.84\" width=\"26.928\" x=\"184.536\" y=\"124.08\"/><circle cx=\"184.8\" cy=\"132.0\" fill=\"green\" r=\"-0.264\" stroke=\"green\" stroke-width=\"0\"/><circle cx=\"211.2\" cy=\"132.0\" fill=\"green\" r=\"-0.264\" stroke=\"green\" stroke-width=\"0\"/><text alignment-baseline=\"middle\" fill=\"white\" font-family=\"Times\" font-size=\"9.24\" text-anchor=\"middle\" x=\"198.0\" y=\"133.32\">-22</text><rect fill=\"green\" height=\"15.84\" width=\"26.928\" x=\"210.936\" y=\"124.08\"/><circle cx=\"211.2\" cy=\"132.0\" fill=\"green\" r=\"-0.264\" stroke=\"green\" stroke-width=\"0\"/><circle cx=\"237.6\" cy=\"132.0\" fill=\"green\" r=\"-0.264\" stroke=\"green\" stroke-width=\"0\"/><text alignment-baseline=\"middle\" fill=\"white\" font-family=\"Times\" font-size=\"9.24\" text-anchor=\"middle\" x=\"224.4\" y=\"133.32\">-22</text><rect fill=\"green\" height=\"15.84\" width=\"26.928\" x=\"237.336\" y=\"124.08\"/><circle cx=\"237.6\" cy=\"132.0\" fill=\"green\" r=\"-0.264\" stroke=\"green\" stroke-width=\"0\"/><circle cx=\"264.0\" cy=\"132.0\" fill=\"green\" r=\"-0.264\" stroke=\"green\" stroke-width=\"0\"/><text alignment-baseline=\"middle\" fill=\"white\" font-family=\"Times\" font-size=\"9.24\" text-anchor=\"middle\" x=\"250.8\" y=\"133.32\">-24</text><rect fill=\"green\" height=\"15.84\" width=\"26.928\" x=\"263.736\" y=\"124.08\"/><circle cx=\"264.0\" cy=\"132.0\" fill=\"green\" r=\"-0.264\" stroke=\"green\" stroke-width=\"0\"/><circle cx=\"290.4\" cy=\"132.0\" fill=\"green\" r=\"-0.264\" stroke=\"green\" stroke-width=\"0\"/><text alignment-baseline=\"middle\" fill=\"white\" font-family=\"Times\" font-size=\"9.24\" text-anchor=\"middle\" x=\"277.2\" y=\"133.32\">-13</text><rect fill=\"green\" height=\"15.84\" width=\"26.928\" x=\"290.136\" y=\"124.08\"/><circle cx=\"290.4\" cy=\"132.0\" fill=\"green\" r=\"-0.264\" stroke=\"green\" stroke-width=\"0\"/><circle cx=\"316.8\" cy=\"132.0\" fill=\"green\" r=\"-0.264\" stroke=\"green\" stroke-width=\"0\"/><text alignment-baseline=\"middle\" fill=\"white\" font-family=\"Times\" font-size=\"9.24\" text-anchor=\"middle\" x=\"303.6\" y=\"133.32\">-22</text><rect fill=\"green\" height=\"15.84\" width=\"26.928\" x=\"316.536\" y=\"124.08\"/><circle cx=\"316.8\" cy=\"132.0\" fill=\"green\" r=\"-0.264\" stroke=\"green\" stroke-width=\"0\"/><circle cx=\"343.2\" cy=\"132.0\" fill=\"green\" r=\"-0.264\" stroke=\"green\" stroke-width=\"0\"/><text alignment-baseline=\"middle\" fill=\"white\" font-family=\"Times\" font-size=\"9.24\" text-anchor=\"middle\" x=\"330.0\" y=\"133.32\">-21</text><line stroke=\"red\" stroke-width=\"1.32\" x1=\"343.2\" x2=\"343.2\" y1=\"131.736\" y2=\"158.664\"/><text alignment-baseline=\"middle\" fill=\"black\" font-family=\"Times\" font-size=\"9.24\" text-anchor=\"start\" x=\"401.28\" y=\"159.72\">13f</text><rect fill=\"red\" height=\"15.84\" width=\"26.928\" x=\"342.936\" y=\"150.48\"/><circle cx=\"343.2\" cy=\"158.4\" fill=\"red\" r=\"-0.264\" stroke=\"red\" stroke-width=\"0\"/><circle cx=\"369.6\" cy=\"158.4\" fill=\"red\" r=\"-0.264\" stroke=\"red\" stroke-width=\"0\"/><text alignment-baseline=\"middle\" fill=\"white\" font-family=\"Times\" font-size=\"9.24\" text-anchor=\"middle\" x=\"356.4\" y=\"159.72\">-23</text><rect fill=\"red\" height=\"15.84\" width=\"26.928\" x=\"369.336\" y=\"150.48\"/><circle cx=\"369.6\" cy=\"158.4\" fill=\"red\" r=\"-0.264\" stroke=\"red\" stroke-width=\"0\"/><circle cx=\"396.0\" cy=\"158.4\" fill=\"red\" r=\"-0.264\" stroke=\"red\" stroke-width=\"0\"/><text alignment-baseline=\"middle\" fill=\"white\" font-family=\"Times\" font-size=\"9.24\" text-anchor=\"middle\" x=\"382.8\" y=\"159.72\">-30</text><line stroke=\"green\" stroke-width=\"1.32\" x1=\"158.4\" x2=\"158.4\" y1=\"131.736\" y2=\"185.064\"/><text alignment-baseline=\"middle\" fill=\"black\" font-family=\"Times\" font-size=\"9.24\" text-anchor=\"end\" x=\"126.72\" y=\"186.12\">15b</text><rect fill=\"green\" height=\"15.84\" width=\"26.928\" x=\"131.736\" y=\"176.88\"/><circle cx=\"132.0\" cy=\"184.8\" fill=\"green\" r=\"-0.264\" stroke=\"green\" stroke-width=\"0\"/><circle cx=\"158.4\" cy=\"184.8\" fill=\"green\" r=\"-0.264\" stroke=\"green\" stroke-width=\"0\"/><text alignment-baseline=\"middle\" fill=\"white\" font-family=\"Times\" font-size=\"9.24\" text-anchor=\"middle\" x=\"145.2\" y=\"186.12\">-37</text><line stroke=\"green\" stroke-width=\"1.32\" x1=\"264.0\" x2=\"264.0\" y1=\"131.736\" y2=\"211.464\"/><text alignment-baseline=\"middle\" fill=\"black\" font-family=\"Times\" font-size=\"9.24\" text-anchor=\"end\" x=\"153.12\" y=\"212.52\">17b</text><rect fill=\"green\" height=\"15.84\" width=\"26.928\" x=\"158.136\" y=\"203.28\"/><circle cx=\"158.4\" cy=\"211.2\" fill=\"green\" r=\"-0.264\" stroke=\"green\" stroke-width=\"0\"/><circle cx=\"184.8\" cy=\"211.2\" fill=\"green\" r=\"-0.264\" stroke=\"green\" stroke-width=\"0\"/><text alignment-baseline=\"middle\" fill=\"white\" font-family=\"Times\" font-size=\"9.24\" text-anchor=\"middle\" x=\"171.6\" y=\"212.52\">-32</text><rect fill=\"green\" height=\"15.84\" width=\"26.928\" x=\"184.536\" y=\"203.28\"/><circle cx=\"184.8\" cy=\"211.2\" fill=\"green\" r=\"-0.264\" stroke=\"green\" stroke-width=\"0\"/><circle cx=\"211.2\" cy=\"211.2\" fill=\"green\" r=\"-0.264\" stroke=\"green\" stroke-width=\"0\"/><text alignment-baseline=\"middle\" fill=\"white\" font-family=\"Times\" font-size=\"9.24\" text-anchor=\"middle\" x=\"198.0\" y=\"212.52\">-26</text><rect fill=\"green\" height=\"15.84\" width=\"26.928\" x=\"210.936\" y=\"203.28\"/><circle cx=\"211.2\" cy=\"211.2\" fill=\"green\" r=\"-0.264\" stroke=\"green\" stroke-width=\"0\"/><circle cx=\"237.6\" cy=\"211.2\" fill=\"green\" r=\"-0.264\" stroke=\"green\" stroke-width=\"0\"/><text alignment-baseline=\"middle\" fill=\"white\" font-family=\"Times\" font-size=\"9.24\" text-anchor=\"middle\" x=\"224.4\" y=\"212.52\">-23</text><rect fill=\"green\" height=\"15.84\" width=\"26.928\" x=\"237.336\" y=\"203.28\"/><circle cx=\"237.6\" cy=\"211.2\" fill=\"green\" r=\"-0.264\" stroke=\"green\" stroke-width=\"0\"/><circle cx=\"264.0\" cy=\"211.2\" fill=\"green\" r=\"-0.264\" stroke=\"green\" stroke-width=\"0\"/><text alignment-baseline=\"middle\" fill=\"white\" font-family=\"Times\" font-size=\"9.24\" text-anchor=\"middle\" x=\"250.8\" y=\"212.52\">-24</text><line stroke=\"green\" stroke-width=\"1.32\" x1=\"184.8\" x2=\"184.8\" y1=\"210.936\" y2=\"237.864\"/><text alignment-baseline=\"middle\" fill=\"black\" font-family=\"Times\" font-size=\"9.24\" text-anchor=\"end\" x=\"153.12\" y=\"238.92\">18b</text><rect fill=\"green\" height=\"15.84\" width=\"26.928\" x=\"158.136\" y=\"229.68\"/><circle cx=\"158.4\" cy=\"237.6\" fill=\"green\" r=\"-0.264\" stroke=\"green\" stroke-width=\"0\"/><circle cx=\"184.8\" cy=\"237.6\" fill=\"green\" r=\"-0.264\" stroke=\"green\" stroke-width=\"0\"/><text alignment-baseline=\"middle\" fill=\"white\" font-family=\"Times\" font-size=\"9.24\" text-anchor=\"middle\" x=\"171.6\" y=\"238.92\">-32</text><line stroke=\"red\" stroke-width=\"1.32\" x1=\"343.2\" x2=\"343.2\" y1=\"131.736\" y2=\"264.264\"/><text alignment-baseline=\"middle\" fill=\"black\" font-family=\"Times\" font-size=\"9.24\" text-anchor=\"start\" x=\"401.28\" y=\"265.32\">20f</text><rect fill=\"red\" height=\"15.84\" width=\"26.928\" x=\"342.936\" y=\"256.08\"/><circle cx=\"343.2\" cy=\"264.0\" fill=\"red\" r=\"-0.264\" stroke=\"red\" stroke-width=\"0\"/><circle cx=\"369.6\" cy=\"264.0\" fill=\"red\" r=\"-0.264\" stroke=\"red\" stroke-width=\"0\"/><text alignment-baseline=\"middle\" fill=\"white\" font-family=\"Times\" font-size=\"9.24\" text-anchor=\"middle\" x=\"356.4\" y=\"265.32\">-22</text><rect fill=\"red\" height=\"15.84\" width=\"26.928\" x=\"369.336\" y=\"256.08\"/><circle cx=\"369.6\" cy=\"264.0\" fill=\"red\" r=\"-0.264\" stroke=\"red\" stroke-width=\"0\"/><circle cx=\"396.0\" cy=\"264.0\" fill=\"red\" r=\"-0.264\" stroke=\"red\" stroke-width=\"0\"/><text alignment-baseline=\"middle\" fill=\"white\" font-family=\"Times\" font-size=\"9.24\" text-anchor=\"middle\" x=\"382.8\" y=\"265.32\">-30</text><line stroke=\"red\" stroke-width=\"1.32\" x1=\"290.4\" x2=\"290.4\" y1=\"131.736\" y2=\"290.664\"/><text alignment-baseline=\"middle\" fill=\"black\" font-family=\"Times\" font-size=\"9.24\" text-anchor=\"start\" x=\"401.28\" y=\"291.72\">25f</text><rect fill=\"red\" height=\"15.84\" width=\"26.928\" x=\"290.136\" y=\"282.48\"/><circle cx=\"290.4\" cy=\"290.4\" fill=\"red\" r=\"-0.264\" stroke=\"red\" stroke-width=\"0\"/><circle cx=\"316.8\" cy=\"290.4\" fill=\"red\" r=\"-0.264\" stroke=\"red\" stroke-width=\"0\"/><text alignment-baseline=\"middle\" fill=\"white\" font-family=\"Times\" font-size=\"9.24\" text-anchor=\"middle\" x=\"303.6\" y=\"291.72\">-23</text><rect fill=\"red\" height=\"15.84\" width=\"26.928\" x=\"316.536\" y=\"282.48\"/><circle cx=\"316.8\" cy=\"290.4\" fill=\"red\" r=\"-0.264\" stroke=\"red\" stroke-width=\"0\"/><circle cx=\"343.2\" cy=\"290.4\" fill=\"red\" r=\"-0.264\" stroke=\"red\" stroke-width=\"0\"/><text alignment-baseline=\"middle\" fill=\"white\" font-family=\"Times\" font-size=\"9.24\" text-anchor=\"middle\" x=\"330.0\" y=\"291.72\">-20</text><rect fill=\"red\" height=\"15.84\" width=\"26.928\" x=\"342.936\" y=\"282.48\"/><circle cx=\"343.2\" cy=\"290.4\" fill=\"red\" r=\"-0.264\" stroke=\"red\" stroke-width=\"0\"/><circle cx=\"369.6\" cy=\"290.4\" fill=\"red\" r=\"-0.264\" stroke=\"red\" stroke-width=\"0\"/><text alignment-baseline=\"middle\" fill=\"white\" font-family=\"Times\" font-size=\"9.24\" text-anchor=\"middle\" x=\"356.4\" y=\"291.72\">-25</text><rect fill=\"red\" height=\"15.84\" width=\"26.928\" x=\"369.336\" y=\"282.48\"/><circle cx=\"369.6\" cy=\"290.4\" fill=\"red\" r=\"-0.264\" stroke=\"red\" stroke-width=\"0\"/><circle cx=\"396.0\" cy=\"290.4\" fill=\"red\" r=\"-0.264\" stroke=\"red\" stroke-width=\"0\"/><text alignment-baseline=\"middle\" fill=\"white\" font-family=\"Times\" font-size=\"9.24\" text-anchor=\"middle\" x=\"382.8\" y=\"291.72\">-32</text><line stroke=\"green\" stroke-width=\"1.32\" x1=\"211.2\" x2=\"211.2\" y1=\"210.936\" y2=\"317.064\"/><text alignment-baseline=\"middle\" fill=\"black\" font-family=\"Times\" font-size=\"9.24\" text-anchor=\"end\" x=\"21.12\" y=\"318.12\">27b</text><rect fill=\"green\" height=\"15.84\" width=\"26.928\" x=\"26.136\" y=\"308.88\"/><circle cx=\"26.4\" cy=\"316.8\" fill=\"green\" r=\"-0.264\" stroke=\"green\" stroke-width=\"0\"/><circle cx=\"52.8\" cy=\"316.8\" fill=\"green\" r=\"-0.264\" stroke=\"green\" stroke-width=\"0\"/><text alignment-baseline=\"middle\" fill=\"white\" font-family=\"Times\" font-size=\"9.24\" text-anchor=\"middle\" x=\"39.6\" y=\"318.12\">-34</text><rect fill=\"green\" height=\"15.84\" width=\"26.928\" x=\"52.536\" y=\"308.88\"/><circle cx=\"52.8\" cy=\"316.8\" fill=\"green\" r=\"-0.264\" stroke=\"green\" stroke-width=\"0\"/><circle cx=\"79.2\" cy=\"316.8\" fill=\"green\" r=\"-0.264\" stroke=\"green\" stroke-width=\"0\"/><text alignment-baseline=\"middle\" fill=\"white\" font-family=\"Times\" font-size=\"9.24\" text-anchor=\"middle\" x=\"66.0\" y=\"318.12\">-22</text><rect fill=\"green\" height=\"15.84\" width=\"26.928\" x=\"78.936\" y=\"308.88\"/><circle cx=\"79.2\" cy=\"316.8\" fill=\"green\" r=\"-0.264\" stroke=\"green\" stroke-width=\"0\"/><circle cx=\"105.6\" cy=\"316.8\" fill=\"green\" r=\"-0.264\" stroke=\"green\" stroke-width=\"0\"/><text alignment-baseline=\"middle\" fill=\"white\" font-family=\"Times\" font-size=\"9.24\" text-anchor=\"middle\" x=\"92.4\" y=\"318.12\">-19</text><rect fill=\"green\" height=\"15.84\" width=\"26.928\" x=\"105.336\" y=\"308.88\"/><circle cx=\"105.6\" cy=\"316.8\" fill=\"green\" r=\"-0.264\" stroke=\"green\" stroke-width=\"0\"/><circle cx=\"132.0\" cy=\"316.8\" fill=\"green\" r=\"-0.264\" stroke=\"green\" stroke-width=\"0\"/><text alignment-baseline=\"middle\" fill=\"white\" font-family=\"Times\" font-size=\"9.24\" text-anchor=\"middle\" x=\"118.8\" y=\"318.12\">-14</text><rect fill=\"green\" height=\"15.84\" width=\"26.928\" x=\"131.736\" y=\"308.88\"/><circle cx=\"132.0\" cy=\"316.8\" fill=\"green\" r=\"-0.264\" stroke=\"green\" stroke-width=\"0\"/><circle cx=\"158.4\" cy=\"316.8\" fill=\"green\" r=\"-0.264\" stroke=\"green\" stroke-width=\"0\"/><text alignment-baseline=\"middle\" fill=\"white\" font-family=\"Times\" font-size=\"9.24\" text-anchor=\"middle\" x=\"145.2\" y=\"318.12\">-21</text><rect fill=\"green\" height=\"15.84\" width=\"26.928\" x=\"158.136\" y=\"308.88\"/><circle cx=\"158.4\" cy=\"316.8\" fill=\"green\" r=\"-0.264\" stroke=\"green\" stroke-width=\"0\"/><circle cx=\"184.8\" cy=\"316.8\" fill=\"green\" r=\"-0.264\" stroke=\"green\" stroke-width=\"0\"/><text alignment-baseline=\"middle\" fill=\"white\" font-family=\"Times\" font-size=\"9.24\" text-anchor=\"middle\" x=\"171.6\" y=\"318.12\">-9</text><rect fill=\"green\" height=\"15.84\" width=\"26.928\" x=\"184.536\" y=\"308.88\"/><circle cx=\"184.8\" cy=\"316.8\" fill=\"green\" r=\"-0.264\" stroke=\"green\" stroke-width=\"0\"/><circle cx=\"211.2\" cy=\"316.8\" fill=\"green\" r=\"-0.264\" stroke=\"green\" stroke-width=\"0\"/><text alignment-baseline=\"middle\" fill=\"white\" font-family=\"Times\" font-size=\"9.24\" text-anchor=\"middle\" x=\"198.0\" y=\"318.12\">-25</text></svg>"
       ],
       "text": [
        "<IPython.core.display.SVG at 0x110f31450>"
       ],
       "metadata": {}
      }
     ],
     "input": [
      "view = tree.renderer\n",
      "view.zoom = 1.1\n",
      "view.scale_y = 24\n",
      "view.scale_x = 24\n",
      "view.font_size = 0.35\n",
      "SVG(view.to_svg())"
     ],
     "language": "python",
     "prompt_number": 55
    },
    {
     "cell_type": "markdown",
     "metadata": {},
     "source": [
      "An alternate view which is similar to the standard way of plotting"
     ]
    },
    {
     "cell_type": "code",
     "metadata": {},
     "outputs": [
      {
       "svg": [
        "<svg baseProfile=\"full\" height=\"49.5px\" version=\"1.1\" width=\"290.4px\" xmlns=\"http://www.w3.org/2000/svg\" xmlns:ev=\"http://www.w3.org/2001/xml-events\" xmlns:xlink=\"http://www.w3.org/1999/xlink\"><defs/><rect fill=\"black\" height=\"9.9\" width=\"26.928\" x=\"26.136\" y=\"11.55\"/><circle cx=\"26.4\" cy=\"16.5\" fill=\"black\" r=\"-0.264\" stroke=\"black\" stroke-width=\"0\"/><circle cx=\"52.8\" cy=\"16.5\" fill=\"black\" r=\"-0.264\" stroke=\"black\" stroke-width=\"0\"/><text alignment-baseline=\"middle\" fill=\"white\" font-family=\"Times\" font-size=\"13.2\" text-anchor=\"middle\" x=\"39.6\" y=\"17.325\"/><rect fill=\"black\" height=\"9.9\" width=\"26.928\" x=\"52.536\" y=\"11.55\"/><circle cx=\"52.8\" cy=\"16.5\" fill=\"black\" r=\"-0.264\" stroke=\"black\" stroke-width=\"0\"/><circle cx=\"79.2\" cy=\"16.5\" fill=\"black\" r=\"-0.264\" stroke=\"black\" stroke-width=\"0\"/><text alignment-baseline=\"middle\" fill=\"white\" font-family=\"Times\" font-size=\"13.2\" text-anchor=\"middle\" x=\"66.0\" y=\"17.325\"/><rect fill=\"black\" height=\"9.9\" width=\"26.928\" x=\"78.936\" y=\"11.55\"/><circle cx=\"79.2\" cy=\"16.5\" fill=\"black\" r=\"-0.264\" stroke=\"black\" stroke-width=\"0\"/><circle cx=\"105.6\" cy=\"16.5\" fill=\"black\" r=\"-0.264\" stroke=\"black\" stroke-width=\"0\"/><text alignment-baseline=\"middle\" fill=\"white\" font-family=\"Times\" font-size=\"13.2\" text-anchor=\"middle\" x=\"92.4\" y=\"17.325\"/><rect fill=\"black\" height=\"9.9\" width=\"26.928\" x=\"105.336\" y=\"11.55\"/><circle cx=\"105.6\" cy=\"16.5\" fill=\"black\" r=\"-0.264\" stroke=\"black\" stroke-width=\"0\"/><circle cx=\"132.0\" cy=\"16.5\" fill=\"black\" r=\"-0.264\" stroke=\"black\" stroke-width=\"0\"/><text alignment-baseline=\"middle\" fill=\"white\" font-family=\"Times\" font-size=\"13.2\" text-anchor=\"middle\" x=\"118.8\" y=\"17.325\"/><rect fill=\"black\" height=\"9.9\" width=\"26.928\" x=\"131.736\" y=\"11.55\"/><circle cx=\"132.0\" cy=\"16.5\" fill=\"black\" r=\"-0.264\" stroke=\"black\" stroke-width=\"0\"/><circle cx=\"158.4\" cy=\"16.5\" fill=\"black\" r=\"-0.264\" stroke=\"black\" stroke-width=\"0\"/><text alignment-baseline=\"middle\" fill=\"white\" font-family=\"Times\" font-size=\"13.2\" text-anchor=\"middle\" x=\"145.2\" y=\"17.325\"/><rect fill=\"black\" height=\"9.9\" width=\"26.928\" x=\"158.136\" y=\"11.55\"/><circle cx=\"158.4\" cy=\"16.5\" fill=\"black\" r=\"-0.264\" stroke=\"black\" stroke-width=\"0\"/><circle cx=\"184.8\" cy=\"16.5\" fill=\"black\" r=\"-0.264\" stroke=\"black\" stroke-width=\"0\"/><text alignment-baseline=\"middle\" fill=\"white\" font-family=\"Times\" font-size=\"13.2\" text-anchor=\"middle\" x=\"171.6\" y=\"17.325\"/><rect fill=\"black\" height=\"9.9\" width=\"26.928\" x=\"184.536\" y=\"11.55\"/><circle cx=\"184.8\" cy=\"16.5\" fill=\"black\" r=\"-0.264\" stroke=\"black\" stroke-width=\"0\"/><circle cx=\"211.2\" cy=\"16.5\" fill=\"black\" r=\"-0.264\" stroke=\"black\" stroke-width=\"0\"/><text alignment-baseline=\"middle\" fill=\"white\" font-family=\"Times\" font-size=\"13.2\" text-anchor=\"middle\" x=\"198.0\" y=\"17.325\"/><rect fill=\"black\" height=\"9.9\" width=\"26.928\" x=\"210.936\" y=\"11.55\"/><circle cx=\"211.2\" cy=\"16.5\" fill=\"black\" r=\"-0.264\" stroke=\"black\" stroke-width=\"0\"/><circle cx=\"237.6\" cy=\"16.5\" fill=\"black\" r=\"-0.264\" stroke=\"black\" stroke-width=\"0\"/><text alignment-baseline=\"middle\" fill=\"white\" font-family=\"Times\" font-size=\"13.2\" text-anchor=\"middle\" x=\"224.4\" y=\"17.325\"/><rect fill=\"black\" height=\"9.9\" width=\"26.928\" x=\"237.336\" y=\"11.55\"/><circle cx=\"237.6\" cy=\"16.5\" fill=\"black\" r=\"-0.264\" stroke=\"black\" stroke-width=\"0\"/><circle cx=\"264.0\" cy=\"16.5\" fill=\"black\" r=\"-0.264\" stroke=\"black\" stroke-width=\"0\"/><text alignment-baseline=\"middle\" fill=\"white\" font-family=\"Times\" font-size=\"13.2\" text-anchor=\"middle\" x=\"250.8\" y=\"17.325\"/><text alignment-baseline=\"middle\" fill=\"black\" font-family=\"Times\" font-size=\"13.2\" text-anchor=\"end\" x=\"21.12\" y=\"17.325\">5b</text><line stroke=\"red\" stroke-width=\"1.32\" x1=\"237.6\" x2=\"237.6\" y1=\"16.335\" y2=\"33.165\"/><text alignment-baseline=\"middle\" fill=\"black\" font-family=\"Times\" font-size=\"13.2\" text-anchor=\"start\" x=\"269.28\" y=\"33.825\">6f</text><rect fill=\"red\" height=\"9.9\" width=\"26.928\" x=\"237.336\" y=\"28.05\"/><circle cx=\"237.6\" cy=\"33.0\" fill=\"red\" r=\"-0.264\" stroke=\"red\" stroke-width=\"0\"/><circle cx=\"264.0\" cy=\"33.0\" fill=\"red\" r=\"-0.264\" stroke=\"red\" stroke-width=\"0\"/><text alignment-baseline=\"middle\" fill=\"white\" font-family=\"Times\" font-size=\"13.2\" text-anchor=\"middle\" x=\"250.8\" y=\"33.825\"/></svg>"
       ],
       "text": [
        "<IPython.core.display.SVG at 0x1109156d0>"
       ],
       "metadata": {}
      }
     ],
     "input": [
      "tree.rejected = False\n",
      "tree.states = []\n",
      "tree.op = None\n",
      "samples = simulator.storage.sample.by_ensemble(simulator.storage.ensemble.load(3))\n",
      "tree.from_samples(samples)\n",
      "view = tree.renderer\n",
      "view.zoom = 1.1\n",
      "view.horizontal_gap = -0.01\n",
      "view.scale_y = 15\n",
      "view.scale_x = 24\n",
      "view.font_size = 0.8\n",
      "view.font_family = 'Times'\n",
      "SVG(view.to_svg())"
     ],
     "language": "python",
     "prompt_number": 46
    },
    {
     "cell_type": "markdown",
     "metadata": {},
     "source": [
      "### Phi/Psi Plots"
     ]
    },
    {
     "cell_type": "code",
     "metadata": {},
     "outputs": [],
     "input": [
      "# Imports for plotting\n",
      "%matplotlib inline\n",
      "import matplotlib\n",
      "import matplotlib.pyplot as plt\n",
      "import matplotlib.pylab as pylab\n",
      "from matplotlib.legend_handler import HandlerLine2D"
     ],
     "language": "python",
     "prompt_number": 47
    },
    {
     "cell_type": "markdown",
     "metadata": {},
     "source": [
      "Make sure that all phi/psi values have been computed!"
     ]
    },
    {
     "cell_type": "code",
     "metadata": {},
     "outputs": [],
     "input": [
      "phi(storage.snapshot.all());\n",
      "psi(storage.snapshot.all());"
     ],
     "language": "python",
     "prompt_number": 48
    },
    {
     "cell_type": "code",
     "metadata": {},
     "outputs": [
      {
       "output_type": "display_data",
       "png": "[encoded data removed]",
       "text": [
        "<matplotlib.figure.Figure at 0x11572b390>"
       ],
       "metadata": {}
      }
     ],
     "input": [
      "plt.figure(figsize=(5, 5))\n",
      "\n",
      "for traj in simulator.storage.trajectory.iterator():\n",
      "    phi_angles = degrees * np.array(phi(traj)).flatten()\n",
      "    psi_angles = degrees * np.array(psi(traj)).flatten()\n",
      "    plt.plot(phi_angles, psi_angles, 'ro', linewidth=1);\n",
      "    \n",
      "plt.xlim(-180, 180);\n",
      "plt.ylim(-180, 180);"
     ],
     "language": "python",
     "prompt_number": 58
    },
    {
     "cell_type": "code",
     "metadata": {},
     "outputs": [
      {
       "output_type": "display_data",
       "png": "[encoded data removed]",
       "text": [
        "<matplotlib.figure.Figure at 0x11cec7850>"
       ],
       "metadata": {}
      }
     ],
     "input": [
      "plt.figure(figsize=(8, 8))\n",
      "\n",
      "traj = simulator.storage.trajectory.load(1)\n",
      "phi_angles = degrees * np.array(phi(traj)).flatten()\n",
      "psi_angles = degrees * np.array(psi(traj)).flatten()\n",
      "plt.plot(phi_angles, psi_angles, 'k-', linewidth=1);\n",
      "\n",
      "for snapshot in simulator.storage.snapshot.iterator():\n",
      "    phi_angles = degrees * np.array(phi(snapshot)).flatten()\n",
      "    psi_angles = degrees * np.array(psi(snapshot)).flatten()\n",
      "    if op_notinAorB(snapshot):\n",
      "        plt.plot(phi_angles, psi_angles, 'ro', linewidth=1);\n",
      "    else:\n",
      "        plt.plot(phi_angles, psi_angles, 'bo', linewidth=1);\n",
      "        \n",
      "plt.xlim(-180, 180);\n",
      "plt.ylim(-180, 180);"
     ],
     "language": "python",
     "prompt_number": 49
    },
    {
     "cell_type": "code",
     "metadata": {},
     "outputs": [
      {
       "output_type": "display_data",
       "png": "[encoded data removed]",
       "text": [
        "<matplotlib.figure.Figure at 0x11cec7790>"
       ],
       "metadata": {}
      }
     ],
     "input": [
      "plt.figure(figsize=(8, 8))\n",
      "\n",
      "traj = simulator.storage.sample.load(20).trajectory\n",
      "phi_angles = degrees * np.array(phi(traj)).flatten()\n",
      "psi_angles = degrees * np.array(psi(traj)).flatten()\n",
      "plt.plot(phi_angles, psi_angles, 'k-', linewidth=1);\n",
      "\n",
      "\n",
      "#for snapshot in simulator.storage.snapshot.iterator():\n",
      "for snapshot in traj:\n",
      "    phi_angles = degrees * np.array(phi(snapshot)).flatten()\n",
      "    psi_angles = degrees * np.array(psi(snapshot)).flatten()\n",
      "    if op_notinAorB(snapshot):\n",
      "        plt.plot(phi_angles, psi_angles, 'ro', linewidth=1);\n",
      "    else:\n",
      "        plt.plot(phi_angles, psi_angles, 'bo', linewidth=1);\n",
      "        \n",
      "plt.xlim(-180, 180);\n",
      "plt.ylim(-180, 180);"
     ],
     "language": "python",
     "prompt_number": 50
    },
    {
     "cell_type": "code",
     "metadata": {},
     "outputs": [],
     "input": [
      ""
     ],
     "language": "python"
    }
   ]
  }
 ],
 "cells": [],
 "metadata": {
  "name": "",
  "signature": "sha256:932859780f51996b688850636acda56a90e47780fd56dc6e2ad41cd7830a436d"
 },
 "nbformat": 3,
 "nbformat_minor": 0
}
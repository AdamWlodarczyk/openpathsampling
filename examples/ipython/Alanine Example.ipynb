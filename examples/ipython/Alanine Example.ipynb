{
 "metadata": {
  "name": "",
  "signature": "sha256:07156f80d2550c182169f298413f41a94743626fe97499ba8f4678b6ad80c7d2"
 },
 "nbformat": 3,
 "nbformat_minor": 0,
 "worksheets": [
  {
   "cells": [
    {
     "cell_type": "markdown",
     "metadata": {},
     "source": [
      "# OPENTIS\n",
      "## An Example with Alanine"
     ]
    },
    {
     "cell_type": "markdown",
     "metadata": {},
     "source": [
      "Import Modules"
     ]
    },
    {
     "cell_type": "code",
     "collapsed": false,
     "input": [
      "import numpy as np\n",
      "import mdtraj as md\n",
      "import pandas as pd\n",
      "import time\n",
      "import sys, os\n",
      " \n",
      "# in principle, all of these imports should be simplified once this is a package\n",
      "from opentis.orderparameter import OP_Function, OP_Volume\n",
      "from opentis.snapshot import Snapshot\n",
      "from opentis.volume import LambdaVolumePeriodic, VolumeFactory as vf\n",
      "from opentis.pathmover import PathMoverFactory as mf\n",
      "from opentis.ensemble import EnsembleFactory as ef\n",
      "from opentis.ensemble import (LengthEnsemble, SequentialEnsemble, OutXEnsemble,\n",
      "                      InXEnsemble, HitXEnsemble, LeaveXEnsemble)\n",
      "from opentis.storage import Storage\n",
      "from opentis.trajectory import Trajectory\n",
      "from opentis.calculation import Bootstrapping\n",
      "from opentis.pathmover import PathMover\n",
      "from opentis.shooting import UniformSelector\n",
      "import simtk.unit as u\n",
      "\n",
      "from opentis.openmm_engine import OpenMMEngine\n",
      "\n",
      "from opentis.storage import Storage\n",
      "from opentis.visualize import PathTreeBuilder\n",
      "from IPython.display import SVG"
     ],
     "language": "python",
     "metadata": {},
     "outputs": [],
     "prompt_number": 1
    },
    {
     "cell_type": "markdown",
     "metadata": {},
     "source": [
      "Radians to Degree conversion"
     ]
    },
    {
     "cell_type": "code",
     "collapsed": false,
     "input": [
      "degrees = 180/3.14159 # psi reports in radians; I think in degrees"
     ],
     "language": "python",
     "metadata": {},
     "outputs": [],
     "prompt_number": 2
    },
    {
     "cell_type": "markdown",
     "metadata": {},
     "source": [
      "Create an AlanineOpenMMSimulator for demonstration purposes"
     ]
    },
    {
     "cell_type": "markdown",
     "metadata": {},
     "source": [
      "### Set simulation options and create a simulator object"
     ]
    },
    {
     "cell_type": "code",
     "collapsed": false,
     "input": [
      "options = {\n",
      "            'temperature' : 300.0 * u.kelvin,\n",
      "            'collision_rate' : 1.0 / u.picoseconds,\n",
      "            'timestep' : 2.0 * u.femtoseconds,\n",
      "            'nsteps_per_frame' : 10,\n",
      "            'n_frames_max' : 5000,\n",
      "            'start_time' : time.time(),\n",
      "            'fn_initial_pdb' : \"../data/Alanine_solvated.pdb\",\n",
      "            'platform' : 'fastest',\n",
      "            'solute_indices' : range(22),\n",
      "            'forcefield_solute' : 'amber96.xml',\n",
      "            'forcefield_solvent' : 'tip3p.xml'\n",
      "           }"
     ],
     "language": "python",
     "metadata": {},
     "outputs": [],
     "prompt_number": 3
    },
    {
     "cell_type": "code",
     "collapsed": false,
     "input": [
      "engine = OpenMMEngine.auto(\n",
      "                filename=\"trajectory.nc\",\n",
      "                template=\"../data/Alanine_solvated.pdb\",\n",
      "                options=options,\n",
      "                mode='create'\n",
      "                )"
     ],
     "language": "python",
     "metadata": {},
     "outputs": [],
     "prompt_number": 4
    },
    {
     "cell_type": "markdown",
     "metadata": {},
     "source": [
      "And save the storage in a separate variable for convenience"
     ]
    },
    {
     "cell_type": "code",
     "collapsed": false,
     "input": [
      "storage = engine.storage\n",
      "PathMover.engine = engine"
     ],
     "language": "python",
     "metadata": {},
     "outputs": [],
     "prompt_number": 5
    },
    {
     "cell_type": "markdown",
     "metadata": {},
     "source": [
      "Equilibrate"
     ]
    },
    {
     "cell_type": "code",
     "collapsed": false,
     "input": [
      "engine.current_snapshot = engine.template\n",
      "engine.equilibrate(5)\n",
      "engine.initialized = True"
     ],
     "language": "python",
     "metadata": {},
     "outputs": [],
     "prompt_number": 6
    },
    {
     "cell_type": "markdown",
     "metadata": {},
     "source": [
      "Save equilibrated snapshot with index 0"
     ]
    },
    {
     "cell_type": "code",
     "collapsed": false,
     "input": [
      "storage.save(engine.current_snapshot, 0);"
     ],
     "language": "python",
     "metadata": {},
     "outputs": [],
     "prompt_number": 7
    },
    {
     "cell_type": "markdown",
     "metadata": {},
     "source": [
      "### Order Parameters"
     ]
    },
    {
     "cell_type": "markdown",
     "metadata": {},
     "source": [
      "this generates an order parameter (callable) object named psi (so if we call `psi(trajectory)` we get a list of the values of psi for each frame in the trajectory). This particular order parameter uses mdtraj's compute_dihedrals function, with the atoms in psi_atoms"
     ]
    },
    {
     "cell_type": "code",
     "collapsed": false,
     "input": [
      "psi_atoms = [6,8,14,16]\n",
      "psi = OP_Function(\"psi\", md.compute_dihedrals, trajdatafmt=\"mdtraj\",\n",
      "                  indices=[psi_atoms])\n",
      "\n",
      "phi_atoms = [4,6,8,14]\n",
      "phi = OP_Function(\"phi\", md.compute_dihedrals, trajdatafmt=\"mdtraj\",\n",
      "                  indices=[phi_atoms])\n",
      "\n",
      "storage.save([psi, phi]);"
     ],
     "language": "python",
     "metadata": {},
     "outputs": [],
     "prompt_number": 8
    },
    {
     "cell_type": "markdown",
     "metadata": {},
     "source": [
      "### Volumes"
     ]
    },
    {
     "cell_type": "markdown",
     "metadata": {},
     "source": [
      "This creates two states using a one-dimensional order parameter (called _Lambda_ in TIS terminology). A snapshot is in the State as long as the order parameter is with specific bounds. "
     ]
    },
    {
     "cell_type": "code",
     "collapsed": false,
     "input": [
      "stateA = LambdaVolumePeriodic(\n",
      "    orderparameter=psi, \n",
      "    lambda_min=-120.0/degrees, \n",
      "    lambda_max=-30.0/degrees, \n",
      "    period_min=-180.0/degrees, \n",
      "    period_max=+180.0/degrees\n",
      ")\n",
      "stateB = LambdaVolumePeriodic(psi, 100/degrees, 180/degrees, -180.0/degrees, +180.0/degrees)"
     ],
     "language": "python",
     "metadata": {},
     "outputs": [],
     "prompt_number": 9
    },
    {
     "cell_type": "markdown",
     "metadata": {},
     "source": [
      "Now do the same for a set of lambda ranges to produce nested volumes."
     ]
    },
    {
     "cell_type": "code",
     "collapsed": false,
     "input": [
      "minima = map((1.0 / degrees).__mul__,\n",
      "             [-125, -135, -140, -142.5, -145.0, -147.0, -150.0])\n",
      "\n",
      "maxima = map((1.0 / degrees).__mul__,\n",
      "             [-25.0, -21.0, -18.5, -17.0, -15.0, -10.0, 0.0])\n",
      "\n",
      "volume_set = vf.LambdaVolumePeriodicSet(psi, minima, maxima, -180.0/degrees, +180.0/degrees)"
     ],
     "language": "python",
     "metadata": {},
     "outputs": [],
     "prompt_number": 10
    },
    {
     "cell_type": "markdown",
     "metadata": {},
     "source": [
      "### Ensembles"
     ]
    },
    {
     "cell_type": "markdown",
     "metadata": {},
     "source": [
      "Now do this automatically for all ensembles"
     ]
    },
    {
     "cell_type": "code",
     "collapsed": false,
     "input": [
      "interface0 = volume_set[0]\n",
      "interface_set = ef.TISEnsembleSet(stateA, stateA | stateB, volume_set)\n",
      "for no, interface in enumerate(interface_set):\n",
      "    # Give each interface a name\n",
      "    interface.name = 'Interface '+str(no)\n",
      "    # And save all of these\n",
      "    storage.ensemble.save(interface)"
     ],
     "language": "python",
     "metadata": {},
     "outputs": [],
     "prompt_number": 11
    },
    {
     "cell_type": "markdown",
     "metadata": {},
     "source": [
      "And create a special ensemble, that will create a first trajectory in the innermost TIS ensemble independent from where we start"
     ]
    },
    {
     "cell_type": "markdown",
     "metadata": {},
     "source": [
      "The idea is to describe a trajectory type by a sequence of positions. First can be outside of stateA or not, then be inside stateA, etc..."
     ]
    },
    {
     "cell_type": "code",
     "collapsed": false,
     "input": [
      "    first_traj_ensemble = SequentialEnsemble([\n",
      "        OutXEnsemble(stateA) | LengthEnsemble(0),\n",
      "        InXEnsemble(stateA),\n",
      "        (OutXEnsemble(stateA) & InXEnsemble(interface0)) | LengthEnsemble(0),\n",
      "        InXEnsemble(interface0) | LengthEnsemble(0),\n",
      "        OutXEnsemble(interface0),\n",
      "        OutXEnsemble(stateA) | LengthEnsemble(0),\n",
      "        InXEnsemble(stateA) & LengthEnsemble(1)\n",
      "    ])"
     ],
     "language": "python",
     "metadata": {},
     "outputs": [],
     "prompt_number": 12
    },
    {
     "cell_type": "markdown",
     "metadata": {},
     "source": [
      "### start path generation"
     ]
    },
    {
     "cell_type": "markdown",
     "metadata": {},
     "source": [
      "so lets try and see if we can generate a first path"
     ]
    },
    {
     "cell_type": "markdown",
     "metadata": {},
     "source": [
      "load the initial snapshot (although we still have it) and generate using the Alanine simulator. The second option specifies a function : trajectory -> bool that keeps the simulation running as long as it is true. Our goal was to generate a path that belongs to a specific ensemble, so we use `forward` to determine if it makes sense to keep running or if the result cannot belong to the ensemble anymore."
     ]
    },
    {
     "cell_type": "code",
     "collapsed": false,
     "input": [
      "snapshot = storage.load(Snapshot, 0)\n",
      "total_path = engine.generate(\n",
      "    snapshot= snapshot, \n",
      "    running = [first_traj_ensemble.can_append]\n",
      ")"
     ],
     "language": "python",
     "metadata": {},
     "outputs": [],
     "prompt_number": 13
    },
    {
     "cell_type": "markdown",
     "metadata": {},
     "source": [
      "Show the length"
     ]
    },
    {
     "cell_type": "code",
     "collapsed": false,
     "input": [
      "print \"Total trajectory length: \", len(total_path)"
     ],
     "language": "python",
     "metadata": {},
     "outputs": [
      {
       "output_type": "stream",
       "stream": "stdout",
       "text": [
        "Total trajectory length:  130\n"
       ]
      }
     ],
     "prompt_number": 14
    },
    {
     "cell_type": "markdown",
     "metadata": {},
     "source": [
      "And save the trajetory completely"
     ]
    },
    {
     "cell_type": "code",
     "collapsed": false,
     "input": [
      "storage.save(total_path);"
     ],
     "language": "python",
     "metadata": {},
     "outputs": [],
     "prompt_number": 15
    },
    {
     "cell_type": "markdown",
     "metadata": {},
     "source": [
      "Split the trajectory into parts that belong to the TIS ensemble (not the one we generated)"
     ]
    },
    {
     "cell_type": "code",
     "collapsed": false,
     "input": [
      "interface0_ensemble = interface_set[0]\n",
      "segments = interface0_ensemble.split(total_path)\n",
      "\n",
      "print \"Traj in first_traj_ensemble? (should be)\", \n",
      "print first_traj_ensemble(total_path)\n",
      "\n",
      "print \"Traj in TIS ensemble? (probably not)\", \n",
      "print interface0_ensemble(total_path)\n",
      "\n",
      "\n",
      "print \"Number of segments in TIS ensemble: \", len(segments)\n",
      "if len(segments):\n",
      "    print \"Length of each segment:\"\n",
      "    for i in range(len(segments)):\n",
      "        print \"  seg[{0}]: {1}\".format(i, len(segments[i]))"
     ],
     "language": "python",
     "metadata": {},
     "outputs": [
      {
       "output_type": "stream",
       "stream": "stdout",
       "text": [
        "Traj in first_traj_ensemble? (should be) True\n",
        "Traj in TIS ensemble? (probably not) False\n",
        "Number of segments in TIS ensemble:  1\n",
        "Length of each segment:\n",
        "  seg[0]: 15\n"
       ]
      }
     ],
     "prompt_number": 16
    },
    {
     "cell_type": "markdown",
     "metadata": {},
     "source": [
      "Show some results and check if this worked"
     ]
    },
    {
     "cell_type": "code",
     "collapsed": false,
     "input": [
      "data = []\n",
      "for frame in total_path:\n",
      "    data.append((phi(frame)[0]*degrees, psi(frame)[0]*degrees, stateA(frame), interface0(frame), stateB(frame), first_traj_ensemble.can_append(total_path[slice(0,total_path.index(frame)+1)])))\n",
      "    \n",
      "dataframe = pd.DataFrame(data, columns=['phi', 'psi', 'stateA', 'interface0', 'stateB', 'appendable'])\n",
      "dataframe[[0,1,2,3,4,5]].ix[[0,1,2,len(dataframe)-3,len(dataframe)-2,len(dataframe)-1]]"
     ],
     "language": "python",
     "metadata": {},
     "outputs": [
      {
       "html": [
        "<div style=\"max-height:1000px;max-width:1500px;overflow:auto;\">\n",
        "<table border=\"1\" class=\"dataframe\">\n",
        "  <thead>\n",
        "    <tr style=\"text-align: right;\">\n",
        "      <th></th>\n",
        "      <th>phi</th>\n",
        "      <th>psi</th>\n",
        "      <th>stateA</th>\n",
        "      <th>interface0</th>\n",
        "      <th>stateB</th>\n",
        "      <th>appendable</th>\n",
        "    </tr>\n",
        "  </thead>\n",
        "  <tbody>\n",
        "    <tr>\n",
        "      <th>0  </th>\n",
        "      <td>-82.061452</td>\n",
        "      <td> -9.871595</td>\n",
        "      <td> [False]</td>\n",
        "      <td> [False]</td>\n",
        "      <td> [False]</td>\n",
        "      <td>  True</td>\n",
        "    </tr>\n",
        "    <tr>\n",
        "      <th>1  </th>\n",
        "      <td>-82.593770</td>\n",
        "      <td>-11.582733</td>\n",
        "      <td> [False]</td>\n",
        "      <td> [False]</td>\n",
        "      <td> [False]</td>\n",
        "      <td>  True</td>\n",
        "    </tr>\n",
        "    <tr>\n",
        "      <th>2  </th>\n",
        "      <td>-80.913085</td>\n",
        "      <td>-10.960356</td>\n",
        "      <td> [False]</td>\n",
        "      <td> [False]</td>\n",
        "      <td> [False]</td>\n",
        "      <td>  True</td>\n",
        "    </tr>\n",
        "    <tr>\n",
        "      <th>127</th>\n",
        "      <td>-72.466347</td>\n",
        "      <td>-15.949525</td>\n",
        "      <td> [False]</td>\n",
        "      <td> [False]</td>\n",
        "      <td> [False]</td>\n",
        "      <td>  True</td>\n",
        "    </tr>\n",
        "    <tr>\n",
        "      <th>128</th>\n",
        "      <td>-73.837508</td>\n",
        "      <td>-25.390778</td>\n",
        "      <td> [False]</td>\n",
        "      <td>  [True]</td>\n",
        "      <td> [False]</td>\n",
        "      <td>  True</td>\n",
        "    </tr>\n",
        "    <tr>\n",
        "      <th>129</th>\n",
        "      <td>-62.046433</td>\n",
        "      <td>-31.603472</td>\n",
        "      <td>  [True]</td>\n",
        "      <td>  [True]</td>\n",
        "      <td> [False]</td>\n",
        "      <td> False</td>\n",
        "    </tr>\n",
        "  </tbody>\n",
        "</table>\n",
        "</div>"
       ],
       "metadata": {},
       "output_type": "pyout",
       "prompt_number": 17,
       "text": [
        "           phi        psi   stateA interface0   stateB appendable\n",
        "0   -82.061452  -9.871595  [False]    [False]  [False]       True\n",
        "1   -82.593770 -11.582733  [False]    [False]  [False]       True\n",
        "2   -80.913085 -10.960356  [False]    [False]  [False]       True\n",
        "127 -72.466347 -15.949525  [False]    [False]  [False]       True\n",
        "128 -73.837508 -25.390778  [False]     [True]  [False]       True\n",
        "129 -62.046433 -31.603472   [True]     [True]  [False]      False"
       ]
      }
     ],
     "prompt_number": 17
    },
    {
     "cell_type": "code",
     "collapsed": false,
     "input": [
      "print \"Do our segments satisfy the ensemble?\",\n",
      "for seg in segments:\n",
      "    print interface0_ensemble(seg),"
     ],
     "language": "python",
     "metadata": {},
     "outputs": [
      {
       "output_type": "stream",
       "stream": "stdout",
       "text": [
        "Do our segments satisfy the ensemble? True\n"
       ]
      }
     ],
     "prompt_number": 18
    },
    {
     "cell_type": "code",
     "collapsed": false,
     "input": [
      "data = []\n",
      "for frame in segments[0]:\n",
      "    data.append((phi(frame)[0]*degrees, psi(frame)[0]*degrees, stateA(frame), interface0(frame), stateB(frame), first_traj_ensemble.can_append(total_path[slice(0,total_path.index(frame)+1)])))\n",
      "    \n",
      "dataframe = pd.DataFrame(data, columns=['phi', 'psi', 'stateA', 'interface0', 'stateB', 'appendable'])\n",
      "dataframe[[0,1,2,3,4,5]]"
     ],
     "language": "python",
     "metadata": {},
     "outputs": [
      {
       "html": [
        "<div style=\"max-height:1000px;max-width:1500px;overflow:auto;\">\n",
        "<table border=\"1\" class=\"dataframe\">\n",
        "  <thead>\n",
        "    <tr style=\"text-align: right;\">\n",
        "      <th></th>\n",
        "      <th>phi</th>\n",
        "      <th>psi</th>\n",
        "      <th>stateA</th>\n",
        "      <th>interface0</th>\n",
        "      <th>stateB</th>\n",
        "      <th>appendable</th>\n",
        "    </tr>\n",
        "  </thead>\n",
        "  <tbody>\n",
        "    <tr>\n",
        "      <th>0 </th>\n",
        "      <td>-74.165009</td>\n",
        "      <td>-31.746709</td>\n",
        "      <td>  [True]</td>\n",
        "      <td>  [True]</td>\n",
        "      <td> [False]</td>\n",
        "      <td>  True</td>\n",
        "    </tr>\n",
        "    <tr>\n",
        "      <th>1 </th>\n",
        "      <td>-66.893078</td>\n",
        "      <td>-28.605300</td>\n",
        "      <td> [False]</td>\n",
        "      <td>  [True]</td>\n",
        "      <td> [False]</td>\n",
        "      <td>  True</td>\n",
        "    </tr>\n",
        "    <tr>\n",
        "      <th>2 </th>\n",
        "      <td>-72.995605</td>\n",
        "      <td>-15.025971</td>\n",
        "      <td> [False]</td>\n",
        "      <td> [False]</td>\n",
        "      <td> [False]</td>\n",
        "      <td>  True</td>\n",
        "    </tr>\n",
        "    <tr>\n",
        "      <th>3 </th>\n",
        "      <td>-60.546434</td>\n",
        "      <td>-14.794668</td>\n",
        "      <td> [False]</td>\n",
        "      <td> [False]</td>\n",
        "      <td> [False]</td>\n",
        "      <td>  True</td>\n",
        "    </tr>\n",
        "    <tr>\n",
        "      <th>4 </th>\n",
        "      <td>-57.392824</td>\n",
        "      <td>-12.555914</td>\n",
        "      <td> [False]</td>\n",
        "      <td> [False]</td>\n",
        "      <td> [False]</td>\n",
        "      <td>  True</td>\n",
        "    </tr>\n",
        "    <tr>\n",
        "      <th>5 </th>\n",
        "      <td>-58.968952</td>\n",
        "      <td> -3.327121</td>\n",
        "      <td> [False]</td>\n",
        "      <td> [False]</td>\n",
        "      <td> [False]</td>\n",
        "      <td>  True</td>\n",
        "    </tr>\n",
        "    <tr>\n",
        "      <th>6 </th>\n",
        "      <td>-60.396374</td>\n",
        "      <td> -1.815725</td>\n",
        "      <td> [False]</td>\n",
        "      <td> [False]</td>\n",
        "      <td> [False]</td>\n",
        "      <td>  True</td>\n",
        "    </tr>\n",
        "    <tr>\n",
        "      <th>7 </th>\n",
        "      <td>-65.125492</td>\n",
        "      <td>  0.471207</td>\n",
        "      <td> [False]</td>\n",
        "      <td> [False]</td>\n",
        "      <td> [False]</td>\n",
        "      <td>  True</td>\n",
        "    </tr>\n",
        "    <tr>\n",
        "      <th>8 </th>\n",
        "      <td>-73.913740</td>\n",
        "      <td>  4.590603</td>\n",
        "      <td> [False]</td>\n",
        "      <td> [False]</td>\n",
        "      <td> [False]</td>\n",
        "      <td>  True</td>\n",
        "    </tr>\n",
        "    <tr>\n",
        "      <th>9 </th>\n",
        "      <td>-72.665447</td>\n",
        "      <td> -3.093352</td>\n",
        "      <td> [False]</td>\n",
        "      <td> [False]</td>\n",
        "      <td> [False]</td>\n",
        "      <td>  True</td>\n",
        "    </tr>\n",
        "    <tr>\n",
        "      <th>10</th>\n",
        "      <td>-70.924246</td>\n",
        "      <td> -0.828748</td>\n",
        "      <td> [False]</td>\n",
        "      <td> [False]</td>\n",
        "      <td> [False]</td>\n",
        "      <td>  True</td>\n",
        "    </tr>\n",
        "    <tr>\n",
        "      <th>11</th>\n",
        "      <td>-75.855004</td>\n",
        "      <td> -7.825943</td>\n",
        "      <td> [False]</td>\n",
        "      <td> [False]</td>\n",
        "      <td> [False]</td>\n",
        "      <td>  True</td>\n",
        "    </tr>\n",
        "    <tr>\n",
        "      <th>12</th>\n",
        "      <td>-72.466347</td>\n",
        "      <td>-15.949525</td>\n",
        "      <td> [False]</td>\n",
        "      <td> [False]</td>\n",
        "      <td> [False]</td>\n",
        "      <td>  True</td>\n",
        "    </tr>\n",
        "    <tr>\n",
        "      <th>13</th>\n",
        "      <td>-73.837508</td>\n",
        "      <td>-25.390778</td>\n",
        "      <td> [False]</td>\n",
        "      <td>  [True]</td>\n",
        "      <td> [False]</td>\n",
        "      <td>  True</td>\n",
        "    </tr>\n",
        "    <tr>\n",
        "      <th>14</th>\n",
        "      <td>-62.046433</td>\n",
        "      <td>-31.603472</td>\n",
        "      <td>  [True]</td>\n",
        "      <td>  [True]</td>\n",
        "      <td> [False]</td>\n",
        "      <td> False</td>\n",
        "    </tr>\n",
        "  </tbody>\n",
        "</table>\n",
        "</div>"
       ],
       "metadata": {},
       "output_type": "pyout",
       "prompt_number": 19,
       "text": [
        "          phi        psi   stateA interface0   stateB appendable\n",
        "0  -74.165009 -31.746709   [True]     [True]  [False]       True\n",
        "1  -66.893078 -28.605300  [False]     [True]  [False]       True\n",
        "2  -72.995605 -15.025971  [False]    [False]  [False]       True\n",
        "3  -60.546434 -14.794668  [False]    [False]  [False]       True\n",
        "4  -57.392824 -12.555914  [False]    [False]  [False]       True\n",
        "5  -58.968952  -3.327121  [False]    [False]  [False]       True\n",
        "6  -60.396374  -1.815725  [False]    [False]  [False]       True\n",
        "7  -65.125492   0.471207  [False]    [False]  [False]       True\n",
        "8  -73.913740   4.590603  [False]    [False]  [False]       True\n",
        "9  -72.665447  -3.093352  [False]    [False]  [False]       True\n",
        "10 -70.924246  -0.828748  [False]    [False]  [False]       True\n",
        "11 -75.855004  -7.825943  [False]    [False]  [False]       True\n",
        "12 -72.466347 -15.949525  [False]    [False]  [False]       True\n",
        "13 -73.837508 -25.390778  [False]     [True]  [False]       True\n",
        "14 -62.046433 -31.603472   [True]     [True]  [False]      False"
       ]
      }
     ],
     "prompt_number": 19
    },
    {
     "cell_type": "markdown",
     "metadata": {},
     "source": [
      "### Bootstrapping"
     ]
    },
    {
     "cell_type": "markdown",
     "metadata": {},
     "source": [
      "Run a bootstrapping (not TIS) simulation that shoots from an ensemble until the next interface is reached then switch to the next ensemble to drive the system out of stateA"
     ]
    },
    {
     "cell_type": "code",
     "collapsed": false,
     "input": [
      "mover_set = mf.OneWayShootingSet(UniformSelector(), interface_set)"
     ],
     "language": "python",
     "metadata": {},
     "outputs": [],
     "prompt_number": 20
    },
    {
     "cell_type": "code",
     "collapsed": false,
     "input": [
      "bootstrap = Bootstrapping(storage=storage,\n",
      "                          engine=engine,\n",
      "                          ensembles=interface_set,\n",
      "                          movers=mover_set,\n",
      "                          trajectory=segments[0])"
     ],
     "language": "python",
     "metadata": {},
     "outputs": [],
     "prompt_number": 21
    },
    {
     "cell_type": "markdown",
     "metadata": {},
     "source": [
      "Run Bootstrapping with at most 50 attempts per ensemble"
     ]
    },
    {
     "cell_type": "code",
     "collapsed": false,
     "input": [
      "bootstrap.run(50)"
     ],
     "language": "python",
     "metadata": {},
     "outputs": [
      {
       "output_type": "stream",
       "stream": "stdout",
       "text": [
        "0 Ensemble: 0   failsteps= 0\n",
        "Shooting backward from frame 11\n",
        "Proposal probability"
       ]
      },
      {
       "output_type": "stream",
       "stream": "stdout",
       "text": [
        " 1.0 / random : 0.655767009122\n",
        "BootstrapMover: accepted = True\n",
        " Shooting part: accepted = True\n",
        "  Hopping part: accepted = True\n",
        "1"
       ]
      },
      {
       "output_type": "stream",
       "stream": "stdout",
       "text": [
        " Ensemble: 1   failsteps= 0\n",
        "Shooting backward from frame 5\n",
        "Proposal probability"
       ]
      },
      {
       "output_type": "stream",
       "stream": "stdout",
       "text": [
        " 1.0 / random : 0.878508384662\n",
        "BootstrapMover: accepted = True\n",
        " Shooting part: accepted = True\n",
        "  Hopping part: accepted = True\n",
        "2 Ensemble: 2   failsteps= 0\n",
        "Shooting forward from frame 11\n",
        "Proposal probability"
       ]
      },
      {
       "output_type": "stream",
       "stream": "stdout",
       "text": [
        " 1.0 / random : 0.75459727746\n",
        "BootstrapMover: accepted = True\n",
        " Shooting part: accepted = True\n",
        "  Hopping part: accepted = True\n",
        "3 Ensemble: 3   failsteps= 0\n",
        "Shooting backward from frame 2\n",
        "Proposal probability"
       ]
      },
      {
       "output_type": "stream",
       "stream": "stdout",
       "text": [
        " 0.565217391304 / random : 0.215886049901\n",
        "BootstrapMover: accepted = True\n",
        " Shooting part: accepted = True\n",
        "  Hopping part: accepted = True\n",
        "4 Ensemble: 4   failsteps= 0\n",
        "Shooting forward from frame 9\n",
        "Proposal probability"
       ]
      },
      {
       "output_type": "stream",
       "stream": "stdout",
       "text": [
        " 1.76923076923 / random : 0.688476788477\n",
        "BootstrapMover: accepted = True\n",
        " Shooting part: accepted = True\n",
        "  Hopping part: accepted = True\n",
        "5 Ensemble: 5   failsteps= 0\n",
        "Shooting forward from frame 4\n",
        "Proposal probability"
       ]
      },
      {
       "output_type": "stream",
       "stream": "stdout",
       "text": [
        " 1.85714285714 / random : 0.512659173684\n",
        "BootstrapMover: accepted = True\n",
        " Shooting part: accepted = True\n",
        "  Hopping part: accepted = False\n",
        "6 Ensemble: 5   failsteps= 1\n",
        "Shooting backward from frame 1\n",
        "Proposal probability"
       ]
      },
      {
       "output_type": "stream",
       "stream": "stdout",
       "text": [
        " 1.0 / random : 0.808486541742\n",
        "BootstrapMover: accepted = True\n",
        " Shooting part: accepted = True\n",
        "  Hopping part: accepted = False\n",
        "7 Ensemble: 5   failsteps= 2\n",
        "Shooting forward from frame 6\n",
        "Proposal probability"
       ]
      },
      {
       "output_type": "stream",
       "stream": "stdout",
       "text": [
        " 1.0 / random : 0.0629687074946\n",
        "BootstrapMover: accepted = True\n",
        " Shooting part: accepted = True\n",
        "  Hopping part: accepted = False\n",
        "8 Ensemble: 5   failsteps= 3\n",
        "Shooting forward from frame 3\n",
        "Proposal probability"
       ]
      },
      {
       "output_type": "stream",
       "stream": "stdout",
       "text": [
        " 0.583333333333 / random : 0.726901282425\n",
        "BootstrapMover: accepted = False\n",
        " Shooting part: accepted = False\n",
        "  Hopping part: accepted = False\n",
        "9 Ensemble: 5   failsteps= 4\n",
        "Shooting forward from frame 2\n",
        "BootstrapMover: accepted ="
       ]
      },
      {
       "output_type": "stream",
       "stream": "stdout",
       "text": [
        " False\n",
        " Shooting part: accepted = False\n",
        "  Hopping part: accepted = False\n",
        "10 Ensemble: 5   failsteps= 5\n",
        "Shooting forward from frame 4\n",
        "Proposal probability"
       ]
      },
      {
       "output_type": "stream",
       "stream": "stdout",
       "text": [
        " 1.0 / random : 0.384275103703\n",
        "BootstrapMover: accepted = True\n",
        " Shooting part: accepted = True\n",
        "  Hopping part: accepted = False\n",
        "11 Ensemble: 5   failsteps= 6\n",
        "Shooting backward from frame 7\n",
        "Proposal probability"
       ]
      },
      {
       "output_type": "stream",
       "stream": "stdout",
       "text": [
        " 0.7 / random : 0.20662023059\n",
        "BootstrapMover: accepted = True\n",
        " Shooting part: accepted = True\n",
        "  Hopping part: accepted = False\n",
        "12 Ensemble: 5   failsteps= 7\n",
        "Shooting backward from frame 3\n",
        "Proposal probability"
       ]
      },
      {
       "output_type": "stream",
       "stream": "stdout",
       "text": [
        " 1.0 / random : 0.549463743463\n",
        "BootstrapMover: accepted = True\n",
        " Shooting part: accepted = True\n",
        "  Hopping part: accepted = False\n",
        "13 Ensemble: 5   failsteps= 8\n",
        "Shooting backward from frame 4\n",
        "BootstrapMover: accepted ="
       ]
      },
      {
       "output_type": "stream",
       "stream": "stdout",
       "text": [
        " False\n",
        " Shooting part: accepted = False\n",
        "  Hopping part: accepted = False\n",
        "14 Ensemble: 5   failsteps= 9\n",
        "Shooting forward from frame 3\n",
        "Proposal probability"
       ]
      },
      {
       "output_type": "stream",
       "stream": "stdout",
       "text": [
        " 1.0 / random : 0.069878459453\n",
        "BootstrapMover: accepted = True\n",
        " Shooting part: accepted = True\n",
        "  Hopping part: accepted = False\n",
        "15 Ensemble: 5   failsteps= 10\n",
        "Shooting forward from frame 10\n",
        "Proposal probability"
       ]
      },
      {
       "output_type": "stream",
       "stream": "stdout",
       "text": [
        " 1.0 / random : 0.477047401653\n",
        "BootstrapMover: accepted = True\n",
        " Shooting part: accepted = True\n",
        "  Hopping part: accepted = False\n",
        "16 Ensemble: 5   failsteps= 11\n",
        "Shooting forward from frame 10\n",
        "Proposal probability"
       ]
      },
      {
       "output_type": "stream",
       "stream": "stdout",
       "text": [
        " 1.0 / random : 0.62814523964\n",
        "BootstrapMover: accepted = True\n",
        " Shooting part: accepted = True\n",
        "  Hopping part: accepted = False\n",
        "17 Ensemble: 5   failsteps= 12\n",
        "Shooting backward from frame 4\n",
        "Proposal probability"
       ]
      },
      {
       "output_type": "stream",
       "stream": "stdout",
       "text": [
        " 1.0 / random : 0.533500942186\n",
        "BootstrapMover: accepted = True\n",
        " Shooting part: accepted = True\n",
        "  Hopping part: accepted = False\n",
        "18 Ensemble: 5   failsteps= 13\n",
        "Shooting backward from frame 6\n",
        "Proposal probability"
       ]
      },
      {
       "output_type": "stream",
       "stream": "stdout",
       "text": [
        " 0.909090909091 / random : 0.995871834591\n",
        "BootstrapMover: accepted = False\n",
        " Shooting part: accepted = False\n",
        "  Hopping part: accepted = False\n",
        "19 Ensemble: 5   failsteps= 14\n",
        "Shooting forward from frame 10\n",
        "Proposal probability"
       ]
      },
      {
       "output_type": "stream",
       "stream": "stdout",
       "text": [
        " 1.0 / random : 0.685546283034\n",
        "BootstrapMover: accepted = True\n",
        " Shooting part: accepted = True\n",
        "  Hopping part: accepted = False\n",
        "20 Ensemble: 5   failsteps= 15\n",
        "Shooting forward from frame 9\n",
        "Proposal probability"
       ]
      },
      {
       "output_type": "stream",
       "stream": "stdout",
       "text": [
        " 1.0 / random : 0.0760147954305\n",
        "BootstrapMover: accepted = True\n",
        " Shooting part: accepted = True\n",
        "  Hopping part: accepted = False\n",
        "21 Ensemble: 5   failsteps= 16\n",
        "Shooting forward from frame 5\n",
        "Proposal probability"
       ]
      },
      {
       "output_type": "stream",
       "stream": "stdout",
       "text": [
        " 1.0 / random : 0.478307850724\n",
        "BootstrapMover: accepted = True\n",
        " Shooting part: accepted = True\n",
        "  Hopping part: accepted = False\n",
        "22 Ensemble: 5   failsteps= 17\n",
        "Shooting forward from frame 10\n",
        "Proposal probability"
       ]
      },
      {
       "output_type": "stream",
       "stream": "stdout",
       "text": [
        " 1.0 / random : 0.976392027161\n",
        "BootstrapMover: accepted = True\n",
        " Shooting part: accepted = True\n",
        "  Hopping part: accepted = False\n",
        "23 Ensemble: 5   failsteps= 18\n",
        "Shooting forward from frame 2\n",
        "BootstrapMover: accepted ="
       ]
      },
      {
       "output_type": "stream",
       "stream": "stdout",
       "text": [
        " False\n",
        " Shooting part: accepted = False\n",
        "  Hopping part: accepted = False\n",
        "24 Ensemble: 5   failsteps= 19\n",
        "Shooting backward from frame 10\n",
        "Proposal probability"
       ]
      },
      {
       "output_type": "stream",
       "stream": "stdout",
       "text": [
        " 0.769230769231 / random : 0.401977789554\n",
        "BootstrapMover: accepted = True\n",
        " Shooting part: accepted = True\n",
        "  Hopping part: accepted = False\n",
        "25 Ensemble: 5   failsteps= 20\n",
        "Shooting forward from frame 8\n",
        "Proposal probability"
       ]
      },
      {
       "output_type": "stream",
       "stream": "stdout",
       "text": [
        " 0.866666666667 / random : 0.164355865144\n",
        "BootstrapMover: accepted = True\n",
        " Shooting part: accepted = True\n",
        "  Hopping part: accepted = False\n",
        "26 Ensemble: 5   failsteps= 21\n",
        "Shooting forward from frame 12\n",
        "Proposal probability"
       ]
      },
      {
       "output_type": "stream",
       "stream": "stdout",
       "text": [
        " 1.0 / random : 0.246088764729\n",
        "BootstrapMover: accepted = True\n",
        " Shooting part: accepted = True\n",
        "  Hopping part: accepted = False\n",
        "27 Ensemble: 5   failsteps= 22\n",
        "Shooting forward from frame 10\n",
        "Proposal probability"
       ]
      },
      {
       "output_type": "stream",
       "stream": "stdout",
       "text": [
        " 1.0 / random : 0.432063357632\n",
        "BootstrapMover: accepted = True\n",
        " Shooting part: accepted = True\n",
        "  Hopping part: accepted = False\n",
        "28 Ensemble: 5   failsteps= 23\n",
        "Shooting backward from frame 6\n",
        "Proposal probability"
       ]
      },
      {
       "output_type": "stream",
       "stream": "stdout",
       "text": [
        " 0.9375 / random : 0.244301871701\n",
        "BootstrapMover: accepted = True\n",
        " Shooting part: accepted = True\n",
        "  Hopping part: accepted = False\n",
        "29 Ensemble: 5   failsteps= 24\n",
        "Shooting forward from frame 9\n",
        "Proposal probability"
       ]
      },
      {
       "output_type": "stream",
       "stream": "stdout",
       "text": [
        " 1.06666666667 / random : 0.0496249302131\n",
        "BootstrapMover: accepted = True\n",
        " Shooting part: accepted = True\n",
        "  Hopping part: accepted = False\n",
        "30 Ensemble: 5   failsteps= 25\n",
        "Shooting backward from frame 2\n",
        "Proposal probability"
       ]
      },
      {
       "output_type": "stream",
       "stream": "stdout",
       "text": [
        " 0.625 / random : 0.435385692707\n",
        "BootstrapMover: accepted = True\n",
        " Shooting part: accepted = True\n",
        "  Hopping part: accepted = False\n",
        "31 Ensemble: 5   failsteps= 26\n",
        "Shooting forward from frame 17\n",
        "Proposal probability"
       ]
      },
      {
       "output_type": "stream",
       "stream": "stdout",
       "text": [
        " 1.04347826087 / random : 0.292834012699\n",
        "BootstrapMover: accepted = True\n",
        " Shooting part: accepted = True\n",
        "  Hopping part: accepted = False\n",
        "32"
       ]
      },
      {
       "output_type": "stream",
       "stream": "stdout",
       "text": [
        " Ensemble: 5   failsteps= 27\n",
        "Shooting backward from frame 11\n",
        "Proposal probability"
       ]
      },
      {
       "output_type": "stream",
       "stream": "stdout",
       "text": [
        " 1.04545454545 / random : 0.915303711417\n",
        "BootstrapMover: accepted = True\n",
        " Shooting part: accepted = True\n",
        "  Hopping part: accepted = False\n",
        "33 Ensemble: 5   failsteps= 28\n",
        "Shooting backward from frame 11\n",
        "Proposal probability"
       ]
      },
      {
       "output_type": "stream",
       "stream": "stdout",
       "text": [
        " 1.69230769231 / random : 0.860233779061\n",
        "BootstrapMover: accepted = True\n",
        " Shooting part: accepted = True\n",
        "  Hopping part: accepted = False\n",
        "34 Ensemble: 5   failsteps= 29\n",
        "Shooting backward from frame 12\n",
        "Proposal probability"
       ]
      },
      {
       "output_type": "stream",
       "stream": "stdout",
       "text": [
        " 1.08333333333 / random : 0.770506258697\n",
        "BootstrapMover: accepted = True\n",
        " Shooting part: accepted = True\n",
        "  Hopping part: accepted = False\n",
        "35 Ensemble: 5   failsteps= 30\n",
        "Shooting forward from frame 2\n",
        "BootstrapMover: accepted ="
       ]
      },
      {
       "output_type": "stream",
       "stream": "stdout",
       "text": [
        " False\n",
        " Shooting part: accepted = False\n",
        "  Hopping part: accepted = False\n",
        "36 Ensemble: 5   failsteps= 31\n",
        "Shooting forward from frame 12\n",
        "Proposal probability"
       ]
      },
      {
       "output_type": "stream",
       "stream": "stdout",
       "text": [
        " 1.0 / random : 0.515464384321\n",
        "BootstrapMover: accepted = True\n",
        " Shooting part: accepted = True\n",
        "  Hopping part: accepted = False\n",
        "37 Ensemble: 5   failsteps= 32\n",
        "Shooting forward from frame 4\n",
        "Proposal probability"
       ]
      },
      {
       "output_type": "stream",
       "stream": "stdout",
       "text": [
        " 1.71428571429 / random : 0.0144929276571\n",
        "BootstrapMover: accepted = True\n",
        " Shooting part: accepted = True\n",
        "  Hopping part: accepted = False\n",
        "38 Ensemble: 5   failsteps= 33\n",
        "Shooting forward from frame 6\n",
        "Proposal probability"
       ]
      },
      {
       "output_type": "stream",
       "stream": "stdout",
       "text": [
        " 1.0 / random : 0.591205151927\n",
        "BootstrapMover: accepted = True\n",
        " Shooting part: accepted = True\n",
        "  Hopping part: accepted = False\n",
        "39 Ensemble: 5   failsteps= 34\n",
        "Shooting forward from frame 7\n",
        "Proposal probability"
       ]
      },
      {
       "output_type": "stream",
       "stream": "stdout",
       "text": [
        " 1.0 / random : 0.185620463455\n",
        "BootstrapMover: accepted = True\n",
        " Shooting part: accepted = True\n",
        "  Hopping part: accepted = False\n",
        "40 Ensemble: 5   failsteps= 35\n",
        "Shooting backward from frame 4\n",
        "Proposal probability"
       ]
      },
      {
       "output_type": "stream",
       "stream": "stdout",
       "text": [
        " 0.7 / random : 0.268150174924\n",
        "BootstrapMover: accepted = True\n",
        " Shooting part: accepted = True\n",
        "  Hopping part: accepted = False\n",
        "41 Ensemble: 5   failsteps= 36\n",
        "Shooting forward from frame 5\n",
        "Proposal probability"
       ]
      },
      {
       "output_type": "stream",
       "stream": "stdout",
       "text": [
        " 1.0 / random : 0.0335467365128\n",
        "BootstrapMover: accepted = True\n",
        " Shooting part: accepted = True\n",
        "  Hopping part: accepted = False\n",
        "42 Ensemble: 5   failsteps= 37\n",
        "Shooting backward from frame 9\n",
        "Proposal probability"
       ]
      },
      {
       "output_type": "stream",
       "stream": "stdout",
       "text": [
        " 1.0 / random : 0.359950075346\n",
        "BootstrapMover: accepted = True\n",
        " Shooting part: accepted = True\n",
        "  Hopping part: accepted = False\n",
        "43 Ensemble: 5   failsteps= 38\n",
        "Shooting forward from frame 1\n",
        "Proposal probability"
       ]
      },
      {
       "output_type": "stream",
       "stream": "stdout",
       "text": [
        " 0.714285714286 / random : 0.89130927333\n",
        "BootstrapMover: accepted = False\n",
        " Shooting part: accepted = False\n",
        "  Hopping part: accepted = False\n",
        "44 Ensemble: 5   failsteps= 39\n",
        "Shooting forward from frame 10\n",
        "Proposal probability"
       ]
      },
      {
       "output_type": "stream",
       "stream": "stdout",
       "text": [
        " 1.0 / random : 0.532167751863\n",
        "BootstrapMover: accepted = True\n",
        " Shooting part: accepted = True\n",
        "  Hopping part: accepted = False\n",
        "45 Ensemble: 5   failsteps= 40\n",
        "Shooting forward from frame 7\n",
        "Proposal probability"
       ]
      },
      {
       "output_type": "stream",
       "stream": "stdout",
       "text": [
        " 0.909090909091 / random : 0.141096222501\n",
        "BootstrapMover: accepted = True\n",
        " Shooting part: accepted = True\n",
        "  Hopping part: accepted = False\n",
        "46 Ensemble: 5   failsteps= 41\n",
        "Shooting backward from frame 1\n",
        "Proposal probability"
       ]
      },
      {
       "output_type": "stream",
       "stream": "stdout",
       "text": [
        " 1.0 / random : 0.273836972819\n",
        "BootstrapMover: accepted = True\n",
        " Shooting part: accepted = True\n",
        "  Hopping part: accepted = False\n",
        "47 Ensemble: 5   failsteps= 42\n",
        "Shooting backward from frame 11\n",
        "Proposal probability"
       ]
      },
      {
       "output_type": "stream",
       "stream": "stdout",
       "text": [
        " 0.846153846154 / random : 0.461906107911\n",
        "BootstrapMover: accepted = True\n",
        " Shooting part: accepted = True\n",
        "  Hopping part: accepted = False\n",
        "48 Ensemble: 5   failsteps= 43\n",
        "Shooting forward from frame 11\n",
        "Proposal probability"
       ]
      },
      {
       "output_type": "stream",
       "stream": "stdout",
       "text": [
        " 1.0 / random : 0.367952014704\n",
        "BootstrapMover: accepted = True\n",
        " Shooting part: accepted = True\n",
        "  Hopping part: accepted = False\n",
        "49 Ensemble: 5   failsteps= 44\n",
        "Shooting forward from frame 2\n",
        "BootstrapMover: accepted ="
       ]
      },
      {
       "output_type": "stream",
       "stream": "stdout",
       "text": [
        " False\n",
        " Shooting part: accepted = False\n",
        "  Hopping part: accepted = False\n",
        "50 Ensemble: 5   failsteps= 45\n",
        "Shooting forward from frame 2\n",
        "BootstrapMover: accepted ="
       ]
      },
      {
       "output_type": "stream",
       "stream": "stdout",
       "text": [
        " False\n",
        " Shooting part: accepted = False\n",
        "  Hopping part: accepted = False\n",
        "51 Ensemble: 5   failsteps= 46\n",
        "Shooting forward from frame 4\n",
        "Proposal probability"
       ]
      },
      {
       "output_type": "stream",
       "stream": "stdout",
       "text": [
        " 1.625 / random : 0.654054098286\n",
        "BootstrapMover: accepted = True\n",
        " Shooting part: accepted = True\n",
        "  Hopping part: accepted = False\n",
        "52 Ensemble: 5   failsteps= 47\n",
        "Shooting forward from frame 2\n",
        "BootstrapMover: accepted ="
       ]
      },
      {
       "output_type": "stream",
       "stream": "stdout",
       "text": [
        " False\n",
        " Shooting part: accepted = False\n",
        "  Hopping part: accepted = False\n",
        "53 Ensemble: 5   failsteps= 48\n",
        "Shooting backward from frame 1\n",
        "Proposal probability"
       ]
      },
      {
       "output_type": "stream",
       "stream": "stdout",
       "text": [
        " 1.0 / random : 0.03777193905\n",
        "BootstrapMover: accepted = True\n",
        " Shooting part: accepted = True\n",
        "  Hopping part: accepted = False\n",
        "54 Ensemble: 5   failsteps= 49\n",
        "Shooting backward from frame 5\n",
        "Proposal probability"
       ]
      },
      {
       "output_type": "stream",
       "stream": "stdout",
       "text": [
        " 0.727272727273 / random : 0.903692690508\n",
        "BootstrapMover: accepted = False\n",
        " Shooting part: accepted = False\n",
        "  Hopping part: accepted = False\n"
       ]
      }
     ],
     "prompt_number": 22
    },
    {
     "cell_type": "markdown",
     "metadata": {},
     "source": [
      "Save all computed phi/psi values which depends on whether they have been needed before"
     ]
    },
    {
     "cell_type": "code",
     "collapsed": false,
     "input": [
      "storage.save([psi,phi]);"
     ],
     "language": "python",
     "metadata": {},
     "outputs": [],
     "prompt_number": 23
    },
    {
     "cell_type": "markdown",
     "metadata": {},
     "source": [
      "Create an orderparameter from a volume which is just 1 or 0 and can thus be stored for later analysis"
     ]
    },
    {
     "cell_type": "code",
     "collapsed": false,
     "input": [
      "op_inA = OP_Volume('StateA', stateA)\n",
      "op_inB = OP_Volume('StateB', stateB)\n",
      "op_notinAorB = OP_Volume('StateX', ~ (stateA | stateB))"
     ],
     "language": "python",
     "metadata": {},
     "outputs": [],
     "prompt_number": 24
    },
    {
     "cell_type": "markdown",
     "metadata": {},
     "source": [
      "Compute the orderparameter for all snapshots"
     ]
    },
    {
     "cell_type": "code",
     "collapsed": false,
     "input": [
      "op_inA(storage.snapshot.all())\n",
      "op_inB(storage.snapshot.all())\n",
      "op_notinAorB(storage.snapshot.all());"
     ],
     "language": "python",
     "metadata": {},
     "outputs": [],
     "prompt_number": 25
    },
    {
     "cell_type": "markdown",
     "metadata": {},
     "source": [
      "Save the new orderparameters"
     ]
    },
    {
     "cell_type": "code",
     "collapsed": false,
     "input": [
      "storage.save([op_inA, op_inB, op_notinAorB]);"
     ],
     "language": "python",
     "metadata": {},
     "outputs": [],
     "prompt_number": 26
    },
    {
     "cell_type": "markdown",
     "metadata": {},
     "source": [
      "## Visualization"
     ]
    },
    {
     "cell_type": "markdown",
     "metadata": {},
     "source": [
      "Create a PathTree generator"
     ]
    },
    {
     "cell_type": "code",
     "collapsed": false,
     "input": [
      "tree = PathTreeBuilder(storage)\n",
      "op_inA.name\n",
      "storage.save(op_inA)\n",
      "storage.cv.load(0)\n",
      "op_inA.idx"
     ],
     "language": "python",
     "metadata": {},
     "outputs": [
      {
       "metadata": {},
       "output_type": "pyout",
       "prompt_number": 27,
       "text": [
        "{<opentis.storage.netcdf_storage.Storage at 0x10f461190>: 2}"
       ]
      }
     ],
     "prompt_number": 27
    },
    {
     "cell_type": "markdown",
     "metadata": {},
     "source": [
      "Get samples (trajectries) that were generated for a specific ensemble"
     ]
    },
    {
     "cell_type": "code",
     "collapsed": false,
     "input": [
      "samples = storage.sample.by_ensemble(storage.ensemble.load(1))"
     ],
     "language": "python",
     "metadata": {},
     "outputs": [],
     "prompt_number": 28
    },
    {
     "cell_type": "markdown",
     "metadata": {},
     "source": [
      "Change the settings to show rejected pathways, mark OrderParaemters `stateA` and `stateX`, and show the 'psi' value as text inside of the boxes"
     ]
    },
    {
     "cell_type": "code",
     "collapsed": false,
     "input": [
      "tree.rejected = False\n",
      "tree.states = [('StateA','orange'),('StateX','black')]\n",
      "tree.op = storage.cv.load('psi').get_transformed_view(lambda x : int(x / 3.141592653 * 180))\n",
      "tree.from_samples(samples)"
     ],
     "language": "python",
     "metadata": {},
     "outputs": [],
     "prompt_number": 29
    },
    {
     "cell_type": "markdown",
     "metadata": {},
     "source": [
      "Render the tree"
     ]
    },
    {
     "cell_type": "code",
     "collapsed": false,
     "input": [
      "view = tree.renderer\n",
      "view.zoom = 1.1\n",
      "view.scale_y = 24\n",
      "view.scale_x = 24\n",
      "view.font_size = 0.35\n",
      "SVG(view.to_svg())"
     ],
     "language": "python",
     "metadata": {},
     "outputs": [
      {
       "metadata": {},
       "output_type": "pyout",
       "prompt_number": 30,
       "svg": [
        "<svg baseProfile=\"full\" height=\"79.2px\" version=\"1.1\" width=\"448.8px\" xmlns=\"http://www.w3.org/2000/svg\" xmlns:ev=\"http://www.w3.org/2001/xml-events\" xmlns:xlink=\"http://www.w3.org/1999/xlink\"><defs/><rect fill=\"black\" height=\"2.64\" stroke=\"black\" stroke-width=\"1.32\" width=\"264.0\" x=\"52.8\" y=\"62.04\"/><rect fill=\"orange\" height=\"2.64\" stroke=\"orange\" stroke-width=\"1.32\" width=\"26.4\" x=\"26.4\" y=\"62.04\"/><rect fill=\"orange\" height=\"2.64\" stroke=\"orange\" stroke-width=\"1.32\" width=\"26.4\" x=\"396.0\" y=\"35.64\"/><rect fill=\"black\" height=\"2.64\" stroke=\"black\" stroke-width=\"1.32\" width=\"343.2\" x=\"52.8\" y=\"35.64\"/><rect fill=\"orange\" height=\"2.64\" stroke=\"orange\" stroke-width=\"1.32\" width=\"26.4\" x=\"26.4\" y=\"35.64\"/><rect fill=\"black\" height=\"15.84\" width=\"23.76\" x=\"27.72\" y=\"18.48\"/><circle cx=\"26.4\" cy=\"26.4\" fill=\"black\" r=\"1.32\" stroke=\"black\" stroke-width=\"0\"/><circle cx=\"52.8\" cy=\"26.4\" fill=\"black\" r=\"1.32\" stroke=\"black\" stroke-width=\"0\"/><text alignment-baseline=\"middle\" fill=\"white\" font-family=\"Futura\" font-size=\"9.24\" text-anchor=\"middle\" x=\"39.6\" y=\"27.72\">-31</text><rect fill=\"black\" height=\"15.84\" width=\"23.76\" x=\"54.12\" y=\"18.48\"/><circle cx=\"52.8\" cy=\"26.4\" fill=\"black\" r=\"1.32\" stroke=\"black\" stroke-width=\"0\"/><circle cx=\"79.2\" cy=\"26.4\" fill=\"black\" r=\"1.32\" stroke=\"black\" stroke-width=\"0\"/><text alignment-baseline=\"middle\" fill=\"white\" font-family=\"Futura\" font-size=\"9.24\" text-anchor=\"middle\" x=\"66.0\" y=\"27.72\">-28</text><rect fill=\"black\" height=\"15.84\" width=\"23.76\" x=\"80.52\" y=\"18.48\"/><circle cx=\"79.2\" cy=\"26.4\" fill=\"black\" r=\"1.32\" stroke=\"black\" stroke-width=\"0\"/><circle cx=\"105.6\" cy=\"26.4\" fill=\"black\" r=\"1.32\" stroke=\"black\" stroke-width=\"0\"/><text alignment-baseline=\"middle\" fill=\"white\" font-family=\"Futura\" font-size=\"9.24\" text-anchor=\"middle\" x=\"92.4\" y=\"27.72\">-15</text><rect fill=\"black\" height=\"15.84\" width=\"23.76\" x=\"106.92\" y=\"18.48\"/><circle cx=\"105.6\" cy=\"26.4\" fill=\"black\" r=\"1.32\" stroke=\"black\" stroke-width=\"0\"/><circle cx=\"132.0\" cy=\"26.4\" fill=\"black\" r=\"1.32\" stroke=\"black\" stroke-width=\"0\"/><text alignment-baseline=\"middle\" fill=\"white\" font-family=\"Futura\" font-size=\"9.24\" text-anchor=\"middle\" x=\"118.8\" y=\"27.72\">-14</text><rect fill=\"black\" height=\"15.84\" width=\"23.76\" x=\"133.32\" y=\"18.48\"/><circle cx=\"132.0\" cy=\"26.4\" fill=\"black\" r=\"1.32\" stroke=\"black\" stroke-width=\"0\"/><circle cx=\"158.4\" cy=\"26.4\" fill=\"black\" r=\"1.32\" stroke=\"black\" stroke-width=\"0\"/><text alignment-baseline=\"middle\" fill=\"white\" font-family=\"Futura\" font-size=\"9.24\" text-anchor=\"middle\" x=\"145.2\" y=\"27.72\">-12</text><rect fill=\"black\" height=\"15.84\" width=\"23.76\" x=\"159.72\" y=\"18.48\"/><circle cx=\"158.4\" cy=\"26.4\" fill=\"black\" r=\"1.32\" stroke=\"black\" stroke-width=\"0\"/><circle cx=\"184.8\" cy=\"26.4\" fill=\"black\" r=\"1.32\" stroke=\"black\" stroke-width=\"0\"/><text alignment-baseline=\"middle\" fill=\"white\" font-family=\"Futura\" font-size=\"9.24\" text-anchor=\"middle\" x=\"171.6\" y=\"27.72\">-3</text><rect fill=\"black\" height=\"15.84\" width=\"23.76\" x=\"186.12\" y=\"18.48\"/><circle cx=\"184.8\" cy=\"26.4\" fill=\"black\" r=\"1.32\" stroke=\"black\" stroke-width=\"0\"/><circle cx=\"211.2\" cy=\"26.4\" fill=\"black\" r=\"1.32\" stroke=\"black\" stroke-width=\"0\"/><text alignment-baseline=\"middle\" fill=\"white\" font-family=\"Futura\" font-size=\"9.24\" text-anchor=\"middle\" x=\"198.0\" y=\"27.72\">-1</text><rect fill=\"black\" height=\"15.84\" width=\"23.76\" x=\"212.52\" y=\"18.48\"/><circle cx=\"211.2\" cy=\"26.4\" fill=\"black\" r=\"1.32\" stroke=\"black\" stroke-width=\"0\"/><circle cx=\"237.6\" cy=\"26.4\" fill=\"black\" r=\"1.32\" stroke=\"black\" stroke-width=\"0\"/><text alignment-baseline=\"middle\" fill=\"white\" font-family=\"Futura\" font-size=\"9.24\" text-anchor=\"middle\" x=\"224.4\" y=\"27.72\">0</text><rect fill=\"black\" height=\"15.84\" width=\"23.76\" x=\"238.92\" y=\"18.48\"/><circle cx=\"237.6\" cy=\"26.4\" fill=\"black\" r=\"1.32\" stroke=\"black\" stroke-width=\"0\"/><circle cx=\"264.0\" cy=\"26.4\" fill=\"black\" r=\"1.32\" stroke=\"black\" stroke-width=\"0\"/><text alignment-baseline=\"middle\" fill=\"white\" font-family=\"Futura\" font-size=\"9.24\" text-anchor=\"middle\" x=\"250.8\" y=\"27.72\">4</text><rect fill=\"black\" height=\"15.84\" width=\"23.76\" x=\"265.32\" y=\"18.48\"/><circle cx=\"264.0\" cy=\"26.4\" fill=\"black\" r=\"1.32\" stroke=\"black\" stroke-width=\"0\"/><circle cx=\"290.4\" cy=\"26.4\" fill=\"black\" r=\"1.32\" stroke=\"black\" stroke-width=\"0\"/><text alignment-baseline=\"middle\" fill=\"white\" font-family=\"Futura\" font-size=\"9.24\" text-anchor=\"middle\" x=\"277.2\" y=\"27.72\">-3</text><rect fill=\"black\" height=\"15.84\" width=\"23.76\" x=\"291.72\" y=\"18.48\"/><circle cx=\"290.4\" cy=\"26.4\" fill=\"black\" r=\"1.32\" stroke=\"black\" stroke-width=\"0\"/><circle cx=\"316.8\" cy=\"26.4\" fill=\"black\" r=\"1.32\" stroke=\"black\" stroke-width=\"0\"/><text alignment-baseline=\"middle\" fill=\"white\" font-family=\"Futura\" font-size=\"9.24\" text-anchor=\"middle\" x=\"303.6\" y=\"27.72\">0</text><rect fill=\"black\" height=\"15.84\" width=\"23.76\" x=\"318.12\" y=\"18.48\"/><circle cx=\"316.8\" cy=\"26.4\" fill=\"black\" r=\"1.32\" stroke=\"black\" stroke-width=\"0\"/><circle cx=\"343.2\" cy=\"26.4\" fill=\"black\" r=\"1.32\" stroke=\"black\" stroke-width=\"0\"/><text alignment-baseline=\"middle\" fill=\"white\" font-family=\"Futura\" font-size=\"9.24\" text-anchor=\"middle\" x=\"330.0\" y=\"27.72\">-7</text><rect fill=\"black\" height=\"15.84\" width=\"23.76\" x=\"344.52\" y=\"18.48\"/><circle cx=\"343.2\" cy=\"26.4\" fill=\"black\" r=\"1.32\" stroke=\"black\" stroke-width=\"0\"/><circle cx=\"369.6\" cy=\"26.4\" fill=\"black\" r=\"1.32\" stroke=\"black\" stroke-width=\"0\"/><text alignment-baseline=\"middle\" fill=\"white\" font-family=\"Futura\" font-size=\"9.24\" text-anchor=\"middle\" x=\"356.4\" y=\"27.72\">-15</text><rect fill=\"black\" height=\"15.84\" width=\"23.76\" x=\"370.92\" y=\"18.48\"/><circle cx=\"369.6\" cy=\"26.4\" fill=\"black\" r=\"1.32\" stroke=\"black\" stroke-width=\"0\"/><circle cx=\"396.0\" cy=\"26.4\" fill=\"black\" r=\"1.32\" stroke=\"black\" stroke-width=\"0\"/><text alignment-baseline=\"middle\" fill=\"white\" font-family=\"Futura\" font-size=\"9.24\" text-anchor=\"middle\" x=\"382.8\" y=\"27.72\">-25</text><rect fill=\"black\" height=\"15.84\" width=\"23.76\" x=\"397.32\" y=\"18.48\"/><circle cx=\"396.0\" cy=\"26.4\" fill=\"black\" r=\"1.32\" stroke=\"black\" stroke-width=\"0\"/><circle cx=\"422.4\" cy=\"26.4\" fill=\"black\" r=\"1.32\" stroke=\"black\" stroke-width=\"0\"/><text alignment-baseline=\"middle\" fill=\"white\" font-family=\"Futura\" font-size=\"9.24\" text-anchor=\"middle\" x=\"409.2\" y=\"27.72\">-31</text><text alignment-baseline=\"middle\" fill=\"black\" font-family=\"Futura\" font-size=\"9.24\" text-anchor=\"end\" x=\"21.12\" y=\"27.72\">1b</text><line stroke=\"red\" stroke-width=\"1.32\" x1=\"343.2\" x2=\"343.2\" y1=\"27.72\" y2=\"51.48\"/><text alignment-baseline=\"middle\" fill=\"black\" font-family=\"Futura\" font-size=\"9.24\" text-anchor=\"start\" x=\"427.68\" y=\"54.12\">2f</text><rect fill=\"red\" height=\"15.84\" width=\"23.76\" x=\"27.72\" y=\"44.88\"/><circle cx=\"26.4\" cy=\"52.8\" fill=\"red\" r=\"1.32\" stroke=\"red\" stroke-width=\"0\"/><circle cx=\"52.8\" cy=\"52.8\" fill=\"red\" r=\"1.32\" stroke=\"red\" stroke-width=\"0\"/><text alignment-baseline=\"middle\" fill=\"white\" font-family=\"Futura\" font-size=\"9.24\" text-anchor=\"middle\" x=\"39.6\" y=\"54.12\">-37</text><rect fill=\"red\" height=\"15.84\" width=\"23.76\" x=\"54.12\" y=\"44.88\"/><circle cx=\"52.8\" cy=\"52.8\" fill=\"red\" r=\"1.32\" stroke=\"red\" stroke-width=\"0\"/><circle cx=\"79.2\" cy=\"52.8\" fill=\"red\" r=\"1.32\" stroke=\"red\" stroke-width=\"0\"/><text alignment-baseline=\"middle\" fill=\"white\" font-family=\"Futura\" font-size=\"9.24\" text-anchor=\"middle\" x=\"66.0\" y=\"54.12\">-29</text><rect fill=\"red\" height=\"15.84\" width=\"23.76\" x=\"80.52\" y=\"44.88\"/><circle cx=\"79.2\" cy=\"52.8\" fill=\"red\" r=\"1.32\" stroke=\"red\" stroke-width=\"0\"/><circle cx=\"105.6\" cy=\"52.8\" fill=\"red\" r=\"1.32\" stroke=\"red\" stroke-width=\"0\"/><text alignment-baseline=\"middle\" fill=\"white\" font-family=\"Futura\" font-size=\"9.24\" text-anchor=\"middle\" x=\"92.4\" y=\"54.12\">-12</text><rect fill=\"red\" height=\"15.84\" width=\"23.76\" x=\"106.92\" y=\"44.88\"/><circle cx=\"105.6\" cy=\"52.8\" fill=\"red\" r=\"1.32\" stroke=\"red\" stroke-width=\"0\"/><circle cx=\"132.0\" cy=\"52.8\" fill=\"red\" r=\"1.32\" stroke=\"red\" stroke-width=\"0\"/><text alignment-baseline=\"middle\" fill=\"white\" font-family=\"Futura\" font-size=\"9.24\" text-anchor=\"middle\" x=\"118.8\" y=\"54.12\">-13</text><rect fill=\"red\" height=\"15.84\" width=\"23.76\" x=\"133.32\" y=\"44.88\"/><circle cx=\"132.0\" cy=\"52.8\" fill=\"red\" r=\"1.32\" stroke=\"red\" stroke-width=\"0\"/><circle cx=\"158.4\" cy=\"52.8\" fill=\"red\" r=\"1.32\" stroke=\"red\" stroke-width=\"0\"/><text alignment-baseline=\"middle\" fill=\"white\" font-family=\"Futura\" font-size=\"9.24\" text-anchor=\"middle\" x=\"145.2\" y=\"54.12\">-5</text><rect fill=\"red\" height=\"15.84\" width=\"23.76\" x=\"159.72\" y=\"44.88\"/><circle cx=\"158.4\" cy=\"52.8\" fill=\"red\" r=\"1.32\" stroke=\"red\" stroke-width=\"0\"/><circle cx=\"184.8\" cy=\"52.8\" fill=\"red\" r=\"1.32\" stroke=\"red\" stroke-width=\"0\"/><text alignment-baseline=\"middle\" fill=\"white\" font-family=\"Futura\" font-size=\"9.24\" text-anchor=\"middle\" x=\"171.6\" y=\"54.12\">-3</text><rect fill=\"red\" height=\"15.84\" width=\"23.76\" x=\"186.12\" y=\"44.88\"/><circle cx=\"184.8\" cy=\"52.8\" fill=\"red\" r=\"1.32\" stroke=\"red\" stroke-width=\"0\"/><circle cx=\"211.2\" cy=\"52.8\" fill=\"red\" r=\"1.32\" stroke=\"red\" stroke-width=\"0\"/><text alignment-baseline=\"middle\" fill=\"white\" font-family=\"Futura\" font-size=\"9.24\" text-anchor=\"middle\" x=\"198.0\" y=\"54.12\">1</text><rect fill=\"red\" height=\"15.84\" width=\"23.76\" x=\"212.52\" y=\"44.88\"/><circle cx=\"211.2\" cy=\"52.8\" fill=\"red\" r=\"1.32\" stroke=\"red\" stroke-width=\"0\"/><circle cx=\"237.6\" cy=\"52.8\" fill=\"red\" r=\"1.32\" stroke=\"red\" stroke-width=\"0\"/><text alignment-baseline=\"middle\" fill=\"white\" font-family=\"Futura\" font-size=\"9.24\" text-anchor=\"middle\" x=\"224.4\" y=\"54.12\">2</text><rect fill=\"red\" height=\"15.84\" width=\"23.76\" x=\"238.92\" y=\"44.88\"/><circle cx=\"237.6\" cy=\"52.8\" fill=\"red\" r=\"1.32\" stroke=\"red\" stroke-width=\"0\"/><circle cx=\"264.0\" cy=\"52.8\" fill=\"red\" r=\"1.32\" stroke=\"red\" stroke-width=\"0\"/><text alignment-baseline=\"middle\" fill=\"white\" font-family=\"Futura\" font-size=\"9.24\" text-anchor=\"middle\" x=\"250.8\" y=\"54.12\">4</text><rect fill=\"red\" height=\"15.84\" width=\"23.76\" x=\"265.32\" y=\"44.88\"/><circle cx=\"264.0\" cy=\"52.8\" fill=\"red\" r=\"1.32\" stroke=\"red\" stroke-width=\"0\"/><circle cx=\"290.4\" cy=\"52.8\" fill=\"red\" r=\"1.32\" stroke=\"red\" stroke-width=\"0\"/><text alignment-baseline=\"middle\" fill=\"white\" font-family=\"Futura\" font-size=\"9.24\" text-anchor=\"middle\" x=\"277.2\" y=\"54.12\">0</text><rect fill=\"red\" height=\"15.84\" width=\"23.76\" x=\"291.72\" y=\"44.88\"/><circle cx=\"290.4\" cy=\"52.8\" fill=\"red\" r=\"1.32\" stroke=\"red\" stroke-width=\"0\"/><circle cx=\"316.8\" cy=\"52.8\" fill=\"red\" r=\"1.32\" stroke=\"red\" stroke-width=\"0\"/><text alignment-baseline=\"middle\" fill=\"white\" font-family=\"Futura\" font-size=\"9.24\" text-anchor=\"middle\" x=\"303.6\" y=\"54.12\">0</text></svg>"
       ],
       "text": [
        "<IPython.core.display.SVG at 0x111834190>"
       ]
      }
     ],
     "prompt_number": 30
    },
    {
     "cell_type": "markdown",
     "metadata": {},
     "source": [
      "An alternate view which is similar to the standard way of plotting"
     ]
    },
    {
     "cell_type": "code",
     "collapsed": false,
     "input": [
      "tree.rejected = False\n",
      "tree.states = []\n",
      "tree.op = None\n",
      "samples = storage.sample.by_ensemble(storage.ensemble.load(1))\n",
      "tree.from_samples(samples)\n",
      "view = tree.renderer\n",
      "view.zoom = 1.1\n",
      "view.horizontal_gap = -0.01\n",
      "view.scale_y = 15\n",
      "view.scale_x = 24\n",
      "view.font_size = 0.8\n",
      "view.font_family = 'Times'\n",
      "SVG(view.to_svg())"
     ],
     "language": "python",
     "metadata": {},
     "outputs": [
      {
       "metadata": {},
       "output_type": "pyout",
       "prompt_number": 31,
       "svg": [
        "<svg baseProfile=\"full\" height=\"49.5px\" version=\"1.1\" width=\"448.8px\" xmlns=\"http://www.w3.org/2000/svg\" xmlns:ev=\"http://www.w3.org/2001/xml-events\" xmlns:xlink=\"http://www.w3.org/1999/xlink\"><defs/><rect fill=\"black\" height=\"9.9\" width=\"26.928\" x=\"26.136\" y=\"11.55\"/><circle cx=\"26.4\" cy=\"16.5\" fill=\"black\" r=\"-0.264\" stroke=\"black\" stroke-width=\"0\"/><circle cx=\"52.8\" cy=\"16.5\" fill=\"black\" r=\"-0.264\" stroke=\"black\" stroke-width=\"0\"/><text alignment-baseline=\"middle\" fill=\"white\" font-family=\"Times\" font-size=\"13.2\" text-anchor=\"middle\" x=\"39.6\" y=\"17.325\"/><rect fill=\"black\" height=\"9.9\" width=\"26.928\" x=\"52.536\" y=\"11.55\"/><circle cx=\"52.8\" cy=\"16.5\" fill=\"black\" r=\"-0.264\" stroke=\"black\" stroke-width=\"0\"/><circle cx=\"79.2\" cy=\"16.5\" fill=\"black\" r=\"-0.264\" stroke=\"black\" stroke-width=\"0\"/><text alignment-baseline=\"middle\" fill=\"white\" font-family=\"Times\" font-size=\"13.2\" text-anchor=\"middle\" x=\"66.0\" y=\"17.325\"/><rect fill=\"black\" height=\"9.9\" width=\"26.928\" x=\"78.936\" y=\"11.55\"/><circle cx=\"79.2\" cy=\"16.5\" fill=\"black\" r=\"-0.264\" stroke=\"black\" stroke-width=\"0\"/><circle cx=\"105.6\" cy=\"16.5\" fill=\"black\" r=\"-0.264\" stroke=\"black\" stroke-width=\"0\"/><text alignment-baseline=\"middle\" fill=\"white\" font-family=\"Times\" font-size=\"13.2\" text-anchor=\"middle\" x=\"92.4\" y=\"17.325\"/><rect fill=\"black\" height=\"9.9\" width=\"26.928\" x=\"105.336\" y=\"11.55\"/><circle cx=\"105.6\" cy=\"16.5\" fill=\"black\" r=\"-0.264\" stroke=\"black\" stroke-width=\"0\"/><circle cx=\"132.0\" cy=\"16.5\" fill=\"black\" r=\"-0.264\" stroke=\"black\" stroke-width=\"0\"/><text alignment-baseline=\"middle\" fill=\"white\" font-family=\"Times\" font-size=\"13.2\" text-anchor=\"middle\" x=\"118.8\" y=\"17.325\"/><rect fill=\"black\" height=\"9.9\" width=\"26.928\" x=\"131.736\" y=\"11.55\"/><circle cx=\"132.0\" cy=\"16.5\" fill=\"black\" r=\"-0.264\" stroke=\"black\" stroke-width=\"0\"/><circle cx=\"158.4\" cy=\"16.5\" fill=\"black\" r=\"-0.264\" stroke=\"black\" stroke-width=\"0\"/><text alignment-baseline=\"middle\" fill=\"white\" font-family=\"Times\" font-size=\"13.2\" text-anchor=\"middle\" x=\"145.2\" y=\"17.325\"/><rect fill=\"black\" height=\"9.9\" width=\"26.928\" x=\"158.136\" y=\"11.55\"/><circle cx=\"158.4\" cy=\"16.5\" fill=\"black\" r=\"-0.264\" stroke=\"black\" stroke-width=\"0\"/><circle cx=\"184.8\" cy=\"16.5\" fill=\"black\" r=\"-0.264\" stroke=\"black\" stroke-width=\"0\"/><text alignment-baseline=\"middle\" fill=\"white\" font-family=\"Times\" font-size=\"13.2\" text-anchor=\"middle\" x=\"171.6\" y=\"17.325\"/><rect fill=\"black\" height=\"9.9\" width=\"26.928\" x=\"184.536\" y=\"11.55\"/><circle cx=\"184.8\" cy=\"16.5\" fill=\"black\" r=\"-0.264\" stroke=\"black\" stroke-width=\"0\"/><circle cx=\"211.2\" cy=\"16.5\" fill=\"black\" r=\"-0.264\" stroke=\"black\" stroke-width=\"0\"/><text alignment-baseline=\"middle\" fill=\"white\" font-family=\"Times\" font-size=\"13.2\" text-anchor=\"middle\" x=\"198.0\" y=\"17.325\"/><rect fill=\"black\" height=\"9.9\" width=\"26.928\" x=\"210.936\" y=\"11.55\"/><circle cx=\"211.2\" cy=\"16.5\" fill=\"black\" r=\"-0.264\" stroke=\"black\" stroke-width=\"0\"/><circle cx=\"237.6\" cy=\"16.5\" fill=\"black\" r=\"-0.264\" stroke=\"black\" stroke-width=\"0\"/><text alignment-baseline=\"middle\" fill=\"white\" font-family=\"Times\" font-size=\"13.2\" text-anchor=\"middle\" x=\"224.4\" y=\"17.325\"/><rect fill=\"black\" height=\"9.9\" width=\"26.928\" x=\"237.336\" y=\"11.55\"/><circle cx=\"237.6\" cy=\"16.5\" fill=\"black\" r=\"-0.264\" stroke=\"black\" stroke-width=\"0\"/><circle cx=\"264.0\" cy=\"16.5\" fill=\"black\" r=\"-0.264\" stroke=\"black\" stroke-width=\"0\"/><text alignment-baseline=\"middle\" fill=\"white\" font-family=\"Times\" font-size=\"13.2\" text-anchor=\"middle\" x=\"250.8\" y=\"17.325\"/><rect fill=\"black\" height=\"9.9\" width=\"26.928\" x=\"263.736\" y=\"11.55\"/><circle cx=\"264.0\" cy=\"16.5\" fill=\"black\" r=\"-0.264\" stroke=\"black\" stroke-width=\"0\"/><circle cx=\"290.4\" cy=\"16.5\" fill=\"black\" r=\"-0.264\" stroke=\"black\" stroke-width=\"0\"/><text alignment-baseline=\"middle\" fill=\"white\" font-family=\"Times\" font-size=\"13.2\" text-anchor=\"middle\" x=\"277.2\" y=\"17.325\"/><rect fill=\"black\" height=\"9.9\" width=\"26.928\" x=\"290.136\" y=\"11.55\"/><circle cx=\"290.4\" cy=\"16.5\" fill=\"black\" r=\"-0.264\" stroke=\"black\" stroke-width=\"0\"/><circle cx=\"316.8\" cy=\"16.5\" fill=\"black\" r=\"-0.264\" stroke=\"black\" stroke-width=\"0\"/><text alignment-baseline=\"middle\" fill=\"white\" font-family=\"Times\" font-size=\"13.2\" text-anchor=\"middle\" x=\"303.6\" y=\"17.325\"/><rect fill=\"black\" height=\"9.9\" width=\"26.928\" x=\"316.536\" y=\"11.55\"/><circle cx=\"316.8\" cy=\"16.5\" fill=\"black\" r=\"-0.264\" stroke=\"black\" stroke-width=\"0\"/><circle cx=\"343.2\" cy=\"16.5\" fill=\"black\" r=\"-0.264\" stroke=\"black\" stroke-width=\"0\"/><text alignment-baseline=\"middle\" fill=\"white\" font-family=\"Times\" font-size=\"13.2\" text-anchor=\"middle\" x=\"330.0\" y=\"17.325\"/><rect fill=\"black\" height=\"9.9\" width=\"26.928\" x=\"342.936\" y=\"11.55\"/><circle cx=\"343.2\" cy=\"16.5\" fill=\"black\" r=\"-0.264\" stroke=\"black\" stroke-width=\"0\"/><circle cx=\"369.6\" cy=\"16.5\" fill=\"black\" r=\"-0.264\" stroke=\"black\" stroke-width=\"0\"/><text alignment-baseline=\"middle\" fill=\"white\" font-family=\"Times\" font-size=\"13.2\" text-anchor=\"middle\" x=\"356.4\" y=\"17.325\"/><rect fill=\"black\" height=\"9.9\" width=\"26.928\" x=\"369.336\" y=\"11.55\"/><circle cx=\"369.6\" cy=\"16.5\" fill=\"black\" r=\"-0.264\" stroke=\"black\" stroke-width=\"0\"/><circle cx=\"396.0\" cy=\"16.5\" fill=\"black\" r=\"-0.264\" stroke=\"black\" stroke-width=\"0\"/><text alignment-baseline=\"middle\" fill=\"white\" font-family=\"Times\" font-size=\"13.2\" text-anchor=\"middle\" x=\"382.8\" y=\"17.325\"/><rect fill=\"black\" height=\"9.9\" width=\"26.928\" x=\"395.736\" y=\"11.55\"/><circle cx=\"396.0\" cy=\"16.5\" fill=\"black\" r=\"-0.264\" stroke=\"black\" stroke-width=\"0\"/><circle cx=\"422.4\" cy=\"16.5\" fill=\"black\" r=\"-0.264\" stroke=\"black\" stroke-width=\"0\"/><text alignment-baseline=\"middle\" fill=\"white\" font-family=\"Times\" font-size=\"13.2\" text-anchor=\"middle\" x=\"409.2\" y=\"17.325\"/><text alignment-baseline=\"middle\" fill=\"black\" font-family=\"Times\" font-size=\"13.2\" text-anchor=\"end\" x=\"21.12\" y=\"17.325\">1b</text><line stroke=\"red\" stroke-width=\"1.32\" x1=\"343.2\" x2=\"343.2\" y1=\"16.335\" y2=\"33.165\"/><text alignment-baseline=\"middle\" fill=\"black\" font-family=\"Times\" font-size=\"13.2\" text-anchor=\"start\" x=\"427.68\" y=\"33.825\">2f</text><rect fill=\"red\" height=\"9.9\" width=\"26.928\" x=\"26.136\" y=\"28.05\"/><circle cx=\"26.4\" cy=\"33.0\" fill=\"red\" r=\"-0.264\" stroke=\"red\" stroke-width=\"0\"/><circle cx=\"52.8\" cy=\"33.0\" fill=\"red\" r=\"-0.264\" stroke=\"red\" stroke-width=\"0\"/><text alignment-baseline=\"middle\" fill=\"white\" font-family=\"Times\" font-size=\"13.2\" text-anchor=\"middle\" x=\"39.6\" y=\"33.825\"/><rect fill=\"red\" height=\"9.9\" width=\"26.928\" x=\"52.536\" y=\"28.05\"/><circle cx=\"52.8\" cy=\"33.0\" fill=\"red\" r=\"-0.264\" stroke=\"red\" stroke-width=\"0\"/><circle cx=\"79.2\" cy=\"33.0\" fill=\"red\" r=\"-0.264\" stroke=\"red\" stroke-width=\"0\"/><text alignment-baseline=\"middle\" fill=\"white\" font-family=\"Times\" font-size=\"13.2\" text-anchor=\"middle\" x=\"66.0\" y=\"33.825\"/><rect fill=\"red\" height=\"9.9\" width=\"26.928\" x=\"78.936\" y=\"28.05\"/><circle cx=\"79.2\" cy=\"33.0\" fill=\"red\" r=\"-0.264\" stroke=\"red\" stroke-width=\"0\"/><circle cx=\"105.6\" cy=\"33.0\" fill=\"red\" r=\"-0.264\" stroke=\"red\" stroke-width=\"0\"/><text alignment-baseline=\"middle\" fill=\"white\" font-family=\"Times\" font-size=\"13.2\" text-anchor=\"middle\" x=\"92.4\" y=\"33.825\"/><rect fill=\"red\" height=\"9.9\" width=\"26.928\" x=\"105.336\" y=\"28.05\"/><circle cx=\"105.6\" cy=\"33.0\" fill=\"red\" r=\"-0.264\" stroke=\"red\" stroke-width=\"0\"/><circle cx=\"132.0\" cy=\"33.0\" fill=\"red\" r=\"-0.264\" stroke=\"red\" stroke-width=\"0\"/><text alignment-baseline=\"middle\" fill=\"white\" font-family=\"Times\" font-size=\"13.2\" text-anchor=\"middle\" x=\"118.8\" y=\"33.825\"/><rect fill=\"red\" height=\"9.9\" width=\"26.928\" x=\"131.736\" y=\"28.05\"/><circle cx=\"132.0\" cy=\"33.0\" fill=\"red\" r=\"-0.264\" stroke=\"red\" stroke-width=\"0\"/><circle cx=\"158.4\" cy=\"33.0\" fill=\"red\" r=\"-0.264\" stroke=\"red\" stroke-width=\"0\"/><text alignment-baseline=\"middle\" fill=\"white\" font-family=\"Times\" font-size=\"13.2\" text-anchor=\"middle\" x=\"145.2\" y=\"33.825\"/><rect fill=\"red\" height=\"9.9\" width=\"26.928\" x=\"158.136\" y=\"28.05\"/><circle cx=\"158.4\" cy=\"33.0\" fill=\"red\" r=\"-0.264\" stroke=\"red\" stroke-width=\"0\"/><circle cx=\"184.8\" cy=\"33.0\" fill=\"red\" r=\"-0.264\" stroke=\"red\" stroke-width=\"0\"/><text alignment-baseline=\"middle\" fill=\"white\" font-family=\"Times\" font-size=\"13.2\" text-anchor=\"middle\" x=\"171.6\" y=\"33.825\"/><rect fill=\"red\" height=\"9.9\" width=\"26.928\" x=\"184.536\" y=\"28.05\"/><circle cx=\"184.8\" cy=\"33.0\" fill=\"red\" r=\"-0.264\" stroke=\"red\" stroke-width=\"0\"/><circle cx=\"211.2\" cy=\"33.0\" fill=\"red\" r=\"-0.264\" stroke=\"red\" stroke-width=\"0\"/><text alignment-baseline=\"middle\" fill=\"white\" font-family=\"Times\" font-size=\"13.2\" text-anchor=\"middle\" x=\"198.0\" y=\"33.825\"/><rect fill=\"red\" height=\"9.9\" width=\"26.928\" x=\"210.936\" y=\"28.05\"/><circle cx=\"211.2\" cy=\"33.0\" fill=\"red\" r=\"-0.264\" stroke=\"red\" stroke-width=\"0\"/><circle cx=\"237.6\" cy=\"33.0\" fill=\"red\" r=\"-0.264\" stroke=\"red\" stroke-width=\"0\"/><text alignment-baseline=\"middle\" fill=\"white\" font-family=\"Times\" font-size=\"13.2\" text-anchor=\"middle\" x=\"224.4\" y=\"33.825\"/><rect fill=\"red\" height=\"9.9\" width=\"26.928\" x=\"237.336\" y=\"28.05\"/><circle cx=\"237.6\" cy=\"33.0\" fill=\"red\" r=\"-0.264\" stroke=\"red\" stroke-width=\"0\"/><circle cx=\"264.0\" cy=\"33.0\" fill=\"red\" r=\"-0.264\" stroke=\"red\" stroke-width=\"0\"/><text alignment-baseline=\"middle\" fill=\"white\" font-family=\"Times\" font-size=\"13.2\" text-anchor=\"middle\" x=\"250.8\" y=\"33.825\"/><rect fill=\"red\" height=\"9.9\" width=\"26.928\" x=\"263.736\" y=\"28.05\"/><circle cx=\"264.0\" cy=\"33.0\" fill=\"red\" r=\"-0.264\" stroke=\"red\" stroke-width=\"0\"/><circle cx=\"290.4\" cy=\"33.0\" fill=\"red\" r=\"-0.264\" stroke=\"red\" stroke-width=\"0\"/><text alignment-baseline=\"middle\" fill=\"white\" font-family=\"Times\" font-size=\"13.2\" text-anchor=\"middle\" x=\"277.2\" y=\"33.825\"/><rect fill=\"red\" height=\"9.9\" width=\"26.928\" x=\"290.136\" y=\"28.05\"/><circle cx=\"290.4\" cy=\"33.0\" fill=\"red\" r=\"-0.264\" stroke=\"red\" stroke-width=\"0\"/><circle cx=\"316.8\" cy=\"33.0\" fill=\"red\" r=\"-0.264\" stroke=\"red\" stroke-width=\"0\"/><text alignment-baseline=\"middle\" fill=\"white\" font-family=\"Times\" font-size=\"13.2\" text-anchor=\"middle\" x=\"303.6\" y=\"33.825\"/></svg>"
       ],
       "text": [
        "<IPython.core.display.SVG at 0x11154add0>"
       ]
      }
     ],
     "prompt_number": 31
    },
    {
     "cell_type": "markdown",
     "metadata": {},
     "source": [
      "### Phi/Psi Plots"
     ]
    },
    {
     "cell_type": "code",
     "collapsed": false,
     "input": [
      "# Imports for plotting\n",
      "%matplotlib inline\n",
      "import matplotlib\n",
      "import matplotlib.pyplot as plt\n",
      "import matplotlib.pylab as pylab\n",
      "from matplotlib.legend_handler import HandlerLine2D"
     ],
     "language": "python",
     "metadata": {},
     "outputs": [],
     "prompt_number": 32
    },
    {
     "cell_type": "markdown",
     "metadata": {},
     "source": [
      "Make sure that all phi/psi values have been computed!"
     ]
    },
    {
     "cell_type": "code",
     "collapsed": false,
     "input": [
      "phi(storage.snapshot.all());\n",
      "psi(storage.snapshot.all());"
     ],
     "language": "python",
     "metadata": {},
     "outputs": [],
     "prompt_number": 33
    },
    {
     "cell_type": "code",
     "collapsed": false,
     "input": [
      "plt.figure(figsize=(5, 5))\n",
      "\n",
      "for traj in storage.trajectory.iterator():\n",
      "    phi_angles = degrees * np.array(phi(traj)).flatten()\n",
      "    psi_angles = degrees * np.array(psi(traj)).flatten()\n",
      "    plt.plot(phi_angles, psi_angles, 'ro', linewidth=1);\n",
      "    \n",
      "plt.xlim(-180, 180);\n",
      "plt.ylim(-180, 180);"
     ],
     "language": "python",
     "metadata": {},
     "outputs": [
      {
       "metadata": {},
       "output_type": "display_data",
       "png": "[encoded data removed]",
       "text": [
        "<matplotlib.figure.Figure at 0x115519750>"
       ]
      }
     ],
     "prompt_number": 34
    },
    {
     "cell_type": "code",
     "collapsed": false,
     "input": [
      "plt.figure(figsize=(8, 8))\n",
      "\n",
      "traj = storage.trajectory.load(1)\n",
      "phi_angles = degrees * np.array(phi(traj)).flatten()\n",
      "psi_angles = degrees * np.array(psi(traj)).flatten()\n",
      "plt.plot(phi_angles, psi_angles, 'k-', linewidth=1);\n",
      "\n",
      "for snapshot in storage.snapshot.iterator():\n",
      "    phi_angles = degrees * np.array(phi(snapshot)).flatten()\n",
      "    psi_angles = degrees * np.array(psi(snapshot)).flatten()\n",
      "    if op_notinAorB(snapshot):\n",
      "        plt.plot(phi_angles, psi_angles, 'ro', linewidth=1);\n",
      "    else:\n",
      "        plt.plot(phi_angles, psi_angles, 'bo', linewidth=1);\n",
      "        \n",
      "plt.xlim(-180, 180);\n",
      "plt.ylim(-180, 180);"
     ],
     "language": "python",
     "metadata": {},
     "outputs": [
      {
       "metadata": {},
       "output_type": "display_data",
       "png": "[encoded data removed]",
       "text": [
        "<matplotlib.figure.Figure at 0x11579c450>"
       ]
      }
     ],
     "prompt_number": 35
    },
    {
     "cell_type": "code",
     "collapsed": false,
     "input": [
      "plt.figure(figsize=(8, 8))\n",
      "\n",
      "traj = storage.sample.load(10).trajectory\n",
      "phi_angles = degrees * np.array(phi(traj)).flatten()\n",
      "psi_angles = degrees * np.array(psi(traj)).flatten()\n",
      "plt.plot(phi_angles, psi_angles, 'k-', linewidth=1);\n",
      "\n",
      "\n",
      "#for snapshot in simulator.storage.snapshot.iterator():\n",
      "for snapshot in traj:\n",
      "    phi_angles = degrees * np.array(phi(snapshot)).flatten()\n",
      "    psi_angles = degrees * np.array(psi(snapshot)).flatten()\n",
      "    if op_notinAorB(snapshot):\n",
      "        plt.plot(phi_angles, psi_angles, 'ro', linewidth=1);\n",
      "    else:\n",
      "        plt.plot(phi_angles, psi_angles, 'bo', linewidth=1);\n",
      "        \n",
      "plt.xlim(-180, 180);\n",
      "plt.ylim(-180, 180);"
     ],
     "language": "python",
     "metadata": {},
     "outputs": [
      {
       "metadata": {},
       "output_type": "display_data",
       "png": "[encoded data removed]",
       "text": [
        "<matplotlib.figure.Figure at 0x116116610>"
       ]
      }
     ],
     "prompt_number": 36
    },
    {
     "cell_type": "code",
     "collapsed": false,
     "input": [],
     "language": "python",
     "metadata": {},
     "outputs": [],
     "prompt_number": 36
    }
   ],
   "metadata": {}
  }
 ]
}
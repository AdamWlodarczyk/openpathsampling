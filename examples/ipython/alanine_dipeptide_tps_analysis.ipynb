{
 "cells": [
  {
   "cell_type": "code",
   "execution_count": null,
   "metadata": {
    "collapsed": false
   },
   "outputs": [],
   "source": [
    "%matplotlib inline\n",
    "import openpathsampling as paths\n",
    "import numpy as np\n",
    "import matplotlib.pyplot as plt"
   ]
  },
  {
   "cell_type": "code",
   "execution_count": null,
   "metadata": {
    "collapsed": false
   },
   "outputs": [],
   "source": [
    "flexible = paths.AnalysisStorage(\"alanine_dipeptide_tps.nc\", \"r\")"
   ]
  },
  {
   "cell_type": "code",
   "execution_count": null,
   "metadata": {
    "collapsed": true
   },
   "outputs": [],
   "source": [
    "flex_scheme = flexible.schemes[0]"
   ]
  },
  {
   "cell_type": "code",
   "execution_count": null,
   "metadata": {
    "collapsed": false,
    "scrolled": true
   },
   "outputs": [],
   "source": [
    "flex_scheme.move_summary(flexible)"
   ]
  },
  {
   "cell_type": "code",
   "execution_count": null,
   "metadata": {
    "collapsed": false
   },
   "outputs": [],
   "source": [
    "# TODO: move tree (partial)\n",
    "import openpathsampling.visualize as visualizations\n",
    "from IPython.display import SVG\n",
    "\n",
    "history = visualizations.ReplicaHistoryTree(\n",
    "    storage=flexible,\n",
    "    steps=flexible.steps[0:50],\n",
    "    replica=0\n",
    ")"
   ]
  },
  {
   "cell_type": "code",
   "execution_count": null,
   "metadata": {
    "collapsed": false
   },
   "outputs": [],
   "source": [
    "history.view.zoom = 1.0\n",
    "history.view.scale_y = 24\n",
    "history.view.scale_x = 10\n",
    "history.view.font_size = 0.35\n",
    "history.view.horizontal_gap = 0.05\n",
    "\n",
    "SVG(history.view.to_svg())"
   ]
  },
  {
   "cell_type": "code",
   "execution_count": null,
   "metadata": {
    "collapsed": false,
    "scrolled": true
   },
   "outputs": [],
   "source": [
    "# TODO: path length histogram\n",
    "path_lengths = [len(step.active[0].trajectory) for step in flexible.steps]\n",
    "plt.hist(path_lengths);"
   ]
  },
  {
   "cell_type": "code",
   "execution_count": null,
   "metadata": {
    "collapsed": true
   },
   "outputs": [],
   "source": [
    "# TODO: path density plots (arbitrary dimension!)"
   ]
  },
  {
   "cell_type": "code",
   "execution_count": null,
   "metadata": {
    "collapsed": true
   },
   "outputs": [],
   "source": [
    "# TODO: \"transition state analysis\"\n",
    "# my thought: \n",
    "# * pick 100 (decorrelated) trajectories\n",
    "# * take every 3rd frame (or something like that)\n",
    "# * run 50 (or 100?) committor shots with randomized initial velocities\n",
    "# * say something about which points are likely at/near the 50% isocommittor"
   ]
  },
  {
   "cell_type": "code",
   "execution_count": null,
   "metadata": {
    "collapsed": true
   },
   "outputs": [],
   "source": []
  }
 ],
 "metadata": {
  "kernelspec": {
   "display_name": "Python 2",
   "language": "python",
   "name": "python2"
  },
  "language_info": {
   "codemirror_mode": {
    "name": "ipython",
    "version": 2
   },
   "file_extension": ".py",
   "mimetype": "text/x-python",
   "name": "python",
   "nbconvert_exporter": "python",
   "pygments_lexer": "ipython2",
   "version": "2.7.11"
  }
 },
 "nbformat": 4,
 "nbformat_minor": 0
}

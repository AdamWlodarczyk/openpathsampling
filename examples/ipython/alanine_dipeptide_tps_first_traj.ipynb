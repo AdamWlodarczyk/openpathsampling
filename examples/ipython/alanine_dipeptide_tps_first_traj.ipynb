{
 "cells": [
  {
   "cell_type": "markdown",
   "metadata": {},
   "source": [
    "This is the first file to run in the alanine dipeptide TPS example. This teaches you how to:\n",
    "\n",
    "* set up an engine using OpenMM\n",
    "* set up states using MDTraj-based collective variables\n",
    "* obtain a initial trajectory using high temperature MD\n",
    "* equilibrate by using shooting moves until the first decorrelated trajectory\n",
    "\n",
    "We assume at this point that you are familiar with the basic concepts of OPS. If you find this file confusing, we recommend working through the toy model examples."
   ]
  },
  {
   "cell_type": "markdown",
   "metadata": {},
   "source": [
    "## Imports"
   ]
  },
  {
   "cell_type": "code",
   "execution_count": null,
   "metadata": {
    "collapsed": true
   },
   "outputs": [],
   "source": [
    "%matplotlib inline\n",
    "import matplotlib.pyplot as plt\n",
    "import openpathsampling as paths\n",
    "\n",
    "import openpathsampling.engines.openmm as peng_omm\n",
    "from simtk.openmm import app\n",
    "import simtk.openmm as mm\n",
    "import simtk.unit as unit\n",
    "\n",
    "import mdtraj as md\n",
    "\n",
    "import numpy as np"
   ]
  },
  {
   "cell_type": "markdown",
   "metadata": {},
   "source": [
    "## Setting up the engine"
   ]
  },
  {
   "cell_type": "markdown",
   "metadata": {},
   "source": [
    "Now we set things up for the OpenMM simulation. We will need a `openmm.System` object and an `openmm.Integrator` object.\n",
    "\n",
    "To learn more about OpenMM, read the [OpenMM documentation](http://docs.openmm.org). The code we use here is based on output from the convenient web-based [OpenMM builder](http://builder.openmm.org)."
   ]
  },
  {
   "cell_type": "code",
   "execution_count": null,
   "metadata": {
    "collapsed": false
   },
   "outputs": [],
   "source": [
    "# this cell is all OpenMM specific\n",
    "forcefield = app.ForceField('amber96.xml', 'tip3p.xml')\n",
    "pdb = app.PDBFile(\"../data/Alanine_solvated.pdb\")\n",
    "system = forcefield.createSystem(\n",
    "    pdb.topology, \n",
    "    nonbondedMethod=app.PME, \n",
    "    nonbondedCutoff=1.0*unit.nanometers,\n",
    "    constraints=app.HBonds, \n",
    "    rigidWater=True,\n",
    "    ewaldErrorTolerance=0.0005\n",
    ")\n",
    "hi_T_integrator = mm.LangevinIntegrator(\n",
    "    500*unit.kelvin, \n",
    "    1.0/unit.picoseconds, \n",
    "    2.0*unit.femtoseconds)\n",
    "hi_T_integrator.setConstraintTolerance(0.00001)\n",
    "\n",
    "# raise error if OpenCL platform isn't available\n",
    "platform = mm.Platform.getPlatformByName('OpenCL')"
   ]
  },
  {
   "cell_type": "markdown",
   "metadata": {},
   "source": [
    "The storage file will need a template snapshot. In addition, the OPS OpenMM-based `Engine` has a few properties and options that are set by these dictionaries."
   ]
  },
  {
   "cell_type": "code",
   "execution_count": null,
   "metadata": {
    "collapsed": true
   },
   "outputs": [],
   "source": [
    "template = peng_omm.snapshot_from_pdb(\"../data/Alanine_solvated.pdb\")\n",
    "properties = {'OpenCLPrecision': 'mixed'}\n",
    "engine_options = {\n",
    "    'n_frames_max': 2000,\n",
    "    'platform': 'OpenCL',\n",
    "    'n_steps_per_frame': 10\n",
    "}"
   ]
  },
  {
   "cell_type": "code",
   "execution_count": null,
   "metadata": {
    "collapsed": false
   },
   "outputs": [],
   "source": [
    "hi_T_engine = peng_omm.Engine(\n",
    "    template.topology, \n",
    "    system, \n",
    "    hi_T_integrator, \n",
    "    properties=properties,\n",
    "    options=engine_options\n",
    ")\n",
    "hi_T_engine.name = '500K'"
   ]
  },
  {
   "cell_type": "code",
   "execution_count": null,
   "metadata": {
    "collapsed": false
   },
   "outputs": [],
   "source": [
    "hi_T_engine.current_snapshot = template\n",
    "hi_T_engine.minimize()"
   ]
  },
  {
   "cell_type": "markdown",
   "metadata": {},
   "source": [
    "## Defining states\n",
    "\n",
    "First we define the CVs using the `md.compute_dihedrals` function. Then we define our states using `PeriodicCVDefinedVolume` (since our CVs are periodic.)"
   ]
  },
  {
   "cell_type": "code",
   "execution_count": null,
   "metadata": {
    "collapsed": false
   },
   "outputs": [],
   "source": [
    "# define the CVs\n",
    "psi = paths.MDTrajFunctionCV(\"psi\", md.compute_dihedrals, template.topology, indices=[[6,8,14,16]])\n",
    "phi = paths.MDTrajFunctionCV(\"phi\", md.compute_dihedrals, template.topology, indices=[[4,6,8,14]])"
   ]
  },
  {
   "cell_type": "code",
   "execution_count": null,
   "metadata": {
    "collapsed": false
   },
   "outputs": [],
   "source": [
    "# define the states\n",
    "deg = 180.0/np.pi\n",
    "C_7eq = (paths.PeriodicCVDefinedVolume(phi, lambda_min=-180/deg, lambda_max=0/deg, \n",
    "                                     period_min=-np.pi, period_max=np.pi) &\n",
    "         paths.PeriodicCVDefinedVolume(psi, lambda_min=100/deg, lambda_max=200/deg,\n",
    "                                     period_min=-np.pi, period_max=np.pi)\n",
    "        ).named(\"C_7eq\")\n",
    "# similarly, without bothering with the labels:\n",
    "alpha_R = (paths.PeriodicCVDefinedVolume(phi, -180/deg, 0/deg, -np.pi, np.pi) &\n",
    "           paths.PeriodicCVDefinedVolume(psi, -100/deg, 0/deg, -np.pi, np.pi)).named(\"alpha_R\")"
   ]
  },
  {
   "cell_type": "markdown",
   "metadata": {},
   "source": [
    "## Getting a first trajectory\n",
    "\n",
    "The idea here is a little subtle, but it makes nice use of our generalized path ensemble idea.\n",
    "\n",
    "We want a path which contains at least one frame in each state. The question is, what ensemble can we use to create such a trajectory?\n",
    "\n",
    "The first obvious thought would be `goal_ensemble = PartInXEnsemble(stateA) & PartInXEnsemble(stateB)` (which can, of course, be further generalized to more states). However, while that *is* the ensemble we want to eventually satisfy, we can't use its `can_append` to create it, because its `can_append` always returns `True`: the trajectory will go on forever!\n",
    "\n",
    "But we can use a trick: since what we want is the first trajectory that satisfies `goal_ensemble`, we know that every shorter trajectory will not satisfy it. This means that the shorter trajectories must satisfy the *complement* of `goal_ensemble`, and the trajectory we want will be the first trajectory that does *not* satisfy the complement!\n",
    "\n",
    "So the trick we'll use is to build the trajectory by using the fact that the shorter trajectories are in the complement of `goal_ensemble`, which is given by `complement = AllOutXEnsemble(stateA) | AllOutXEnsemble(stateB)`. The `generate` function will stop when that is no longer true, giving us the trajectory we want. This can be directly generalized to more states.\n",
    "\n",
    "Note that here we're not even using the `can_append` function. That happens to be the same as the ensemble itself for this particular ensemble, but conceptually, we're actually using the test of whether a trajectory is in the ensemble at all."
   ]
  },
  {
   "cell_type": "code",
   "execution_count": null,
   "metadata": {
    "collapsed": false
   },
   "outputs": [],
   "source": [
    "init_traj_ensemble = paths.AllOutXEnsemble(C_7eq) | paths.AllOutXEnsemble(alpha_R)"
   ]
  },
  {
   "cell_type": "code",
   "execution_count": null,
   "metadata": {
    "collapsed": false
   },
   "outputs": [],
   "source": [
    "# generate trajectory that includes frame in both states\n",
    "trajectory = hi_T_engine.generate(hi_T_engine.current_snapshot, [init_traj_ensemble])"
   ]
  },
  {
   "cell_type": "code",
   "execution_count": null,
   "metadata": {
    "collapsed": true
   },
   "outputs": [],
   "source": [
    "# create a network so we can use its ensemble to obtain an initial trajectory\n",
    "# use all-to-all because we don't care if initial traj is A->B or B->A: it can be reversed\n",
    "tmp_network = paths.TPSNetwork.from_states_all_to_all([C_7eq, alpha_R])"
   ]
  },
  {
   "cell_type": "code",
   "execution_count": null,
   "metadata": {
    "collapsed": false
   },
   "outputs": [],
   "source": [
    "# take the subtrajectory matching the ensemble (only one ensemble, only one subtraj)\n",
    "subtrajectories = []\n",
    "for ens in tmp_network.analysis_ensembles:\n",
    "    subtrajectories += ens.split(trajectory)\n",
    "print subtrajectories"
   ]
  },
  {
   "cell_type": "markdown",
   "metadata": {},
   "source": [
    "## Plotting the trajectory"
   ]
  },
  {
   "cell_type": "code",
   "execution_count": null,
   "metadata": {
    "collapsed": false
   },
   "outputs": [],
   "source": [
    "plt.plot(phi(trajectory), psi(trajectory), 'k.-')\n",
    "plt.plot(phi(subtrajectories[0]), psi(subtrajectories[0]), 'r')"
   ]
  },
  {
   "cell_type": "markdown",
   "metadata": {
    "collapsed": false
   },
   "source": [
    "## Setting up another engine\n",
    "\n",
    "We'll create another engine that uses a 300K integrator, and equilibrate to a 300K path from the 500K path."
   ]
  },
  {
   "cell_type": "code",
   "execution_count": null,
   "metadata": {
    "collapsed": false
   },
   "outputs": [],
   "source": [
    "integrator = mm.LangevinIntegrator(\n",
    "    300*unit.kelvin, \n",
    "    1.0/unit.picoseconds, \n",
    "    2.0*unit.femtoseconds\n",
    ")\n",
    "integrator.setConstraintTolerance(0.00001)\n",
    "engine = peng_omm.Engine(\n",
    "    template.topology, \n",
    "    system, \n",
    "    integrator, \n",
    "    properties=properties,\n",
    "    options=engine_options\n",
    ")\n",
    "engine.name = '300K'"
   ]
  },
  {
   "cell_type": "markdown",
   "metadata": {},
   "source": [
    "## Equilibrate TPS\n",
    "\n",
    "This is, again, a simple path sampling setup. We use the same `TPSNetwork` we'll use later, and only shooting moves. One the initial conditions are correctly set up, we run one step at a time until the initial trajectory is decorrelated.\n",
    "\n",
    "This setup of a path sampler always consists of defining a `network` and a `move_scheme`. See toy model notebooks for further discussion."
   ]
  },
  {
   "cell_type": "code",
   "execution_count": null,
   "metadata": {
    "collapsed": true
   },
   "outputs": [],
   "source": [
    "network = paths.TPSNetwork(initial_states=C_7eq, final_states=alpha_R)\n",
    "scheme = paths.OneWayShootingMoveScheme(network, \n",
    "                                        selector=paths.UniformSelector(),\n",
    "                                        engine=engine)"
   ]
  },
  {
   "cell_type": "code",
   "execution_count": null,
   "metadata": {
    "collapsed": false,
    "scrolled": true
   },
   "outputs": [],
   "source": [
    "# make subtrajectories into initial conditions (trajectories become a sampleset)\n",
    "initial_conditions = scheme.initial_conditions_from_trajectories(subtrajectories)"
   ]
  },
  {
   "cell_type": "code",
   "execution_count": null,
   "metadata": {
    "collapsed": true
   },
   "outputs": [],
   "source": [
    "# check that initial conditions are valid and complete (raise AssertionError otherwise)\n",
    "scheme.assert_initial_conditions(initial_conditions)"
   ]
  },
  {
   "cell_type": "code",
   "execution_count": null,
   "metadata": {
    "collapsed": false
   },
   "outputs": [],
   "source": [
    "sampler = paths.PathSampling(storage=paths.Storage(\"tps_nc_files/alanine_dipeptide_tps_equil.nc\", \"w\", template),\n",
    "                             move_scheme=scheme,\n",
    "                             sample_set=initial_conditions)\n",
    "sampler.live_visualization = paths.LiveVisualization(network, phi, psi, [-3.14, 3.14], [-3.14, 3.14])"
   ]
  },
  {
   "cell_type": "code",
   "execution_count": null,
   "metadata": {
    "collapsed": false
   },
   "outputs": [],
   "source": [
    "# initially, these trajectories are correlated (actually, identical)\n",
    "# once decorrelated, we have a (somewhat) reasonable 300K trajectory\n",
    "initial_conditions[0].trajectory.is_correlated(sampler.sample_set[0].trajectory)"
   ]
  },
  {
   "cell_type": "code",
   "execution_count": null,
   "metadata": {
    "collapsed": false,
    "scrolled": false
   },
   "outputs": [],
   "source": [
    "# this is a trick to take the first decorrelated trajectory\n",
    "while (initial_conditions[0].trajectory.is_correlated(sampler.sample_set[0].trajectory)):\n",
    "    sampler.run(1)"
   ]
  },
  {
   "cell_type": "code",
   "execution_count": null,
   "metadata": {
    "collapsed": false
   },
   "outputs": [],
   "source": [
    "# run an extra 10 to decorrelate a little futher\n",
    "sampler.run(10)"
   ]
  },
  {
   "cell_type": "markdown",
   "metadata": {
    "collapsed": true
   },
   "source": [
    "From here, you can either extend this to a longer trajectory for the fixed length TPS in the `alanine_dipeptide_fixed_tps_traj.ipynb` notebook, or go straight to flexible length TPS in the `alanine_dipeptide_tps_run.ipynb` notebook."
   ]
  },
  {
   "cell_type": "code",
   "execution_count": null,
   "metadata": {
    "collapsed": true
   },
   "outputs": [],
   "source": []
  }
 ],
 "metadata": {
  "kernelspec": {
   "display_name": "Python 2",
   "language": "python",
   "name": "python2"
  },
  "language_info": {
   "codemirror_mode": {
    "name": "ipython",
    "version": 2
   },
   "file_extension": ".py",
   "mimetype": "text/x-python",
   "name": "python",
   "nbconvert_exporter": "python",
   "pygments_lexer": "ipython2",
   "version": "2.7.12"
  }
 },
 "nbformat": 4,
 "nbformat_minor": 0
}

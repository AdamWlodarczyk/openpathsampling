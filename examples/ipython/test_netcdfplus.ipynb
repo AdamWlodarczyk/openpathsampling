{
 "cells": [
  {
   "cell_type": "markdown",
   "metadata": {},
   "source": [
    "## test netcdf+"
   ]
  },
  {
   "cell_type": "code",
   "execution_count": 1,
   "metadata": {
    "collapsed": false
   },
   "outputs": [],
   "source": [
    "import openpathsampling as paths\n",
    "from openpathsampling.netcdfplus import NetCDFPlus, ObjectStore\n",
    "import numpy as np"
   ]
  },
  {
   "cell_type": "markdown",
   "metadata": {},
   "source": [
    "### open file\n",
    "\n",
    "try to create a new storage"
   ]
  },
  {
   "cell_type": "code",
   "execution_count": 2,
   "metadata": {
    "collapsed": false
   },
   "outputs": [],
   "source": [
    "st = NetCDFPlus('test_netcdfplus.nc', mode='w')"
   ]
  },
  {
   "cell_type": "markdown",
   "metadata": {},
   "source": [
    "### try store creation"
   ]
  },
  {
   "cell_type": "code",
   "execution_count": 3,
   "metadata": {
    "collapsed": false
   },
   "outputs": [],
   "source": [
    "st.create_store('details', ObjectStore(paths.Details, has_name=False))"
   ]
  },
  {
   "cell_type": "code",
   "execution_count": 4,
   "metadata": {
    "collapsed": false
   },
   "outputs": [],
   "source": [
    "st.details._init()\n",
    "st.details.set_caching(10)"
   ]
  },
  {
   "cell_type": "markdown",
   "metadata": {},
   "source": [
    "### try variable for arbitrary objects\n",
    "var_type `obj` and `lazyobj` (with specific store after a dot) creates a variables that can hold any storable object. It is stored by a reference to the store and an index in that store."
   ]
  },
  {
   "cell_type": "code",
   "execution_count": 5,
   "metadata": {
    "collapsed": false
   },
   "outputs": [
    {
     "data": {
      "text/plain": [
       "<type 'netCDF4._netCDF4.Variable'>\n",
       "int32 whatever(whatever_dim_0, pair)\n",
       "    var_type: obj\n",
       "unlimited dimensions: \n",
       "current shape = (10, 2)\n",
       "filling on, default _FillValue of -2147483647 used"
      ]
     },
     "execution_count": 5,
     "metadata": {},
     "output_type": "execute_result"
    }
   ],
   "source": [
    "st.create_variable('whatever', 'obj', dimensions=(10, ), chunksizes=(1, ), maskable=False)"
   ]
  },
  {
   "cell_type": "code",
   "execution_count": 6,
   "metadata": {
    "collapsed": false
   },
   "outputs": [
    {
     "data": {
      "text/plain": [
       "<type 'netCDF4._netCDF4.Variable'>\n",
       "int32 whatever_lazy(whatever_lazy_dim_0, pair)\n",
       "    var_type: lazyobj\n",
       "unlimited dimensions: \n",
       "current shape = (10, 2)\n",
       "filling on, default _FillValue of -2147483647 used"
      ]
     },
     "execution_count": 6,
     "metadata": {},
     "output_type": "execute_result"
    }
   ],
   "source": [
    "st.create_variable('whatever_lazy', 'lazyobj', dimensions=(10, ), chunksizes=(1, ), maskable=False)"
   ]
  },
  {
   "cell_type": "code",
   "execution_count": 7,
   "metadata": {
    "collapsed": true
   },
   "outputs": [],
   "source": [
    "det = paths.Details(att=3)"
   ]
  },
  {
   "cell_type": "code",
   "execution_count": 8,
   "metadata": {
    "collapsed": false
   },
   "outputs": [],
   "source": [
    "st.vars['whatever'][1] = det"
   ]
  },
  {
   "cell_type": "code",
   "execution_count": 9,
   "metadata": {
    "collapsed": false
   },
   "outputs": [
    {
     "name": "stdout",
     "output_type": "stream",
     "text": [
      "{'att': 3}\n"
     ]
    }
   ],
   "source": [
    "print st.vars['whatever'][1].__dict__"
   ]
  },
  {
   "cell_type": "code",
   "execution_count": 10,
   "metadata": {
    "collapsed": true
   },
   "outputs": [],
   "source": [
    "st.vars['whatever_lazy'][2] = det"
   ]
  },
  {
   "cell_type": "code",
   "execution_count": 11,
   "metadata": {
    "collapsed": false
   },
   "outputs": [
    {
     "name": "stdout",
     "output_type": "stream",
     "text": [
      "LoaderProxy\n"
     ]
    }
   ],
   "source": [
    "print type(st.vars['whatever_lazy'][2]).__name__"
   ]
  },
  {
   "cell_type": "code",
   "execution_count": 12,
   "metadata": {
    "collapsed": false
   },
   "outputs": [
    {
     "data": {
      "text/plain": [
       "{'att': 3}"
      ]
     },
     "execution_count": 12,
     "metadata": {},
     "output_type": "execute_result"
    }
   ],
   "source": [
    "st.vars['whatever_lazy'][2].__dict__"
   ]
  },
  {
   "cell_type": "markdown",
   "metadata": {},
   "source": [
    "### create variables types"
   ]
  },
  {
   "cell_type": "code",
   "execution_count": 13,
   "metadata": {
    "collapsed": false
   },
   "outputs": [
    {
     "name": "stdout",
     "output_type": "stream",
     "text": [
      "['bool', 'float', 'index', 'int', 'json', 'lazyobj', 'lazyobj.details', 'lazyobj.stores', 'length', 'long', 'numpy.float32', 'numpy.float64', 'numpy.int16', 'numpy.int32', 'numpy.int64', 'numpy.int8', 'numpy.uint16', 'numpy.uint32', 'numpy.uint64', 'numpy.uint8', 'obj', 'obj.details', 'obj.stores', 'store', 'str']\n"
     ]
    }
   ],
   "source": [
    "print sorted(st.get_var_types())"
   ]
  },
  {
   "cell_type": "code",
   "execution_count": 14,
   "metadata": {
    "collapsed": false
   },
   "outputs": [],
   "source": [
    "for var_type in st.get_var_types():\n",
    "    st.create_variable(var_type, var_type, dimensions=(2, 2, 2))"
   ]
  },
  {
   "cell_type": "code",
   "execution_count": 15,
   "metadata": {
    "collapsed": false
   },
   "outputs": [
    {
     "name": "stdout",
     "output_type": "stream",
     "text": [
      "bool\n",
      "details_json\n",
      "float\n",
      "index\n",
      "int\n",
      "json\n",
      "lazyobj\n",
      "lazyobj.details\n",
      "lazyobj.stores\n",
      "length\n",
      "long\n",
      "numpy.float32\n",
      "numpy.float64\n",
      "numpy.int16\n",
      "numpy.int32\n",
      "numpy.int64\n",
      "numpy.int8\n",
      "numpy.uint16\n",
      "numpy.uint32\n",
      "numpy.uint64\n",
      "numpy.uint8\n",
      "obj\n",
      "obj.details\n",
      "obj.stores\n",
      "store\n",
      "stores_json\n",
      "stores_name\n",
      "str\n",
      "whatever\n",
      "whatever_lazy\n"
     ]
    }
   ],
   "source": [
    "for var in sorted(st.variables):\n",
    "    print var"
   ]
  },
  {
   "cell_type": "code",
   "execution_count": 16,
   "metadata": {
    "collapsed": false
   },
   "outputs": [
    {
     "name": "stdout",
     "output_type": "stream",
     "text": [
      "bool\n",
      "details_json\n",
      "float\n",
      "index\n",
      "int\n",
      "json\n",
      "lazyobj\n",
      "lazyobj.details\n",
      "lazyobj.stores\n",
      "length\n",
      "long\n",
      "numpy.float32\n",
      "numpy.float64\n",
      "numpy.int16\n",
      "numpy.int32\n",
      "numpy.int64\n",
      "numpy.int8\n",
      "numpy.uint16\n",
      "numpy.uint32\n",
      "numpy.uint64\n",
      "numpy.uint8\n",
      "obj\n",
      "obj.details\n",
      "obj.stores\n",
      "store\n",
      "stores_json\n",
      "stores_name\n",
      "str\n",
      "whatever\n",
      "whatever_lazy\n"
     ]
    }
   ],
   "source": [
    "for var in sorted(st.vars):\n",
    "    print var"
   ]
  },
  {
   "cell_type": "markdown",
   "metadata": {},
   "source": [
    "Bool"
   ]
  },
  {
   "cell_type": "code",
   "execution_count": 17,
   "metadata": {
    "collapsed": true
   },
   "outputs": [],
   "source": [
    "st.vars['bool'][:] = True"
   ]
  },
  {
   "cell_type": "code",
   "execution_count": 18,
   "metadata": {
    "collapsed": false
   },
   "outputs": [
    {
     "name": "stdout",
     "output_type": "stream",
     "text": [
      "[[[True, True], [True, True]], [[True, True], [True, True]]]\n"
     ]
    }
   ],
   "source": [
    "print st.vars['bool'][:]"
   ]
  },
  {
   "cell_type": "markdown",
   "metadata": {},
   "source": [
    "Float"
   ]
  },
  {
   "cell_type": "code",
   "execution_count": 19,
   "metadata": {
    "collapsed": true
   },
   "outputs": [],
   "source": [
    "st.vars['float'][1,1] = 1.0"
   ]
  },
  {
   "cell_type": "code",
   "execution_count": 20,
   "metadata": {
    "collapsed": false
   },
   "outputs": [
    {
     "name": "stdout",
     "output_type": "stream",
     "text": [
      "[[[None, None], [None, None]], [[None, None], [1.0, 1.0]]]\n"
     ]
    }
   ],
   "source": [
    "print st.vars['float'][:]"
   ]
  },
  {
   "cell_type": "markdown",
   "metadata": {},
   "source": [
    "Index"
   ]
  },
  {
   "cell_type": "code",
   "execution_count": 21,
   "metadata": {
    "collapsed": true
   },
   "outputs": [],
   "source": [
    "st.vars['index'][0,1,0] = 10\n",
    "st.vars['index'][0,1,1] = -1"
   ]
  },
  {
   "cell_type": "code",
   "execution_count": 22,
   "metadata": {
    "collapsed": false
   },
   "outputs": [
    {
     "name": "stdout",
     "output_type": "stream",
     "text": [
      "[10, None]\n"
     ]
    }
   ],
   "source": [
    "print st.vars['index'][0,1]"
   ]
  },
  {
   "cell_type": "markdown",
   "metadata": {},
   "source": [
    "Int"
   ]
  },
  {
   "cell_type": "code",
   "execution_count": 23,
   "metadata": {
    "collapsed": true
   },
   "outputs": [],
   "source": [
    "st.vars['int'][0,1,0] = 10\n",
    "st.vars['int'][0,1,1] = -1"
   ]
  },
  {
   "cell_type": "code",
   "execution_count": 24,
   "metadata": {
    "collapsed": false
   },
   "outputs": [
    {
     "name": "stdout",
     "output_type": "stream",
     "text": [
      "[[[None, None], [10, -1]], [[None, None], [None, None]]]\n"
     ]
    }
   ],
   "source": [
    "print st.vars['int'][:]"
   ]
  },
  {
   "cell_type": "markdown",
   "metadata": {},
   "source": [
    "JSON"
   ]
  },
  {
   "cell_type": "markdown",
   "metadata": {},
   "source": [
    "A JSON serializable object. This can be normal very simple python objects, plus numpy arrays, and objects that implement `to_dict` and `from_dict`."
   ]
  },
  {
   "cell_type": "code",
   "execution_count": 25,
   "metadata": {
    "collapsed": true
   },
   "outputs": [],
   "source": [
    "st.vars['json'][0,1,1] = {'Hallo': 2, 'Test': 3}"
   ]
  },
  {
   "cell_type": "code",
   "execution_count": 26,
   "metadata": {
    "collapsed": true
   },
   "outputs": [],
   "source": [
    "st.vars['json'][0,1,0]"
   ]
  },
  {
   "cell_type": "code",
   "execution_count": 27,
   "metadata": {
    "collapsed": false
   },
   "outputs": [],
   "source": [
    "st.vars['json'][0,1,0] = paths.Details(att = 2)"
   ]
  },
  {
   "cell_type": "code",
   "execution_count": 28,
   "metadata": {
    "collapsed": false
   },
   "outputs": [
    {
     "name": "stdout",
     "output_type": "stream",
     "text": [
      "[u'{\"_cls\": \"Details\", \"_dict\": {\"att\": 2}}' u'{\"Test\": 3, \"Hallo\": 2}']\n"
     ]
    }
   ],
   "source": [
    "print st.variables['json'][0,1,:]"
   ]
  },
  {
   "cell_type": "markdown",
   "metadata": {},
   "source": [
    "All object types registered as being Storable by subclassing from `openpathsampling.base.StorableObject`. For this test we only register type `paths.Snapshot`"
   ]
  },
  {
   "cell_type": "markdown",
   "metadata": {},
   "source": [
    "Numpy"
   ]
  },
  {
   "cell_type": "code",
   "execution_count": 29,
   "metadata": {
    "collapsed": true
   },
   "outputs": [],
   "source": [
    "st.vars['numpy.float32'][:] = np.ones((2,2,2)) * 3.0\n",
    "st.vars['numpy.float32'][0] = np.ones((2,2)) * 7.0"
   ]
  },
  {
   "cell_type": "code",
   "execution_count": 30,
   "metadata": {
    "collapsed": false
   },
   "outputs": [
    {
     "name": "stdout",
     "output_type": "stream",
     "text": [
      "[[[ 7.  7.]\n",
      "  [ 7.  7.]]\n",
      "\n",
      " [[ 3.  3.]\n",
      "  [ 3.  3.]]]\n"
     ]
    }
   ],
   "source": [
    "print st.vars['numpy.float32'][:]"
   ]
  },
  {
   "cell_type": "markdown",
   "metadata": {},
   "source": [
    "Obj"
   ]
  },
  {
   "cell_type": "code",
   "execution_count": 31,
   "metadata": {
    "collapsed": true
   },
   "outputs": [],
   "source": [
    "st.vars['obj.details'][0,0,0] = paths.Details(cool='First')\n",
    "st.vars['obj.details'][0,0,0] = paths.Details(cool='Second')\n",
    "st.vars['obj.details'][0,0,0] = paths.Details(cool='Third')"
   ]
  },
  {
   "cell_type": "code",
   "execution_count": 32,
   "metadata": {
    "collapsed": false
   },
   "outputs": [
    {
     "name": "stdout",
     "output_type": "stream",
     "text": [
      "[[[3 --]\n",
      "  [-- --]]\n",
      "\n",
      " [[-- --]\n",
      "  [-- --]]]\n",
      "[u'{\"_cls\": \"Details\", \"_dict\": {\"att\": 3}}'\n",
      " u'{\"_cls\": \"Details\", \"_dict\": {\"cool\": \"First\"}}'\n",
      " u'{\"_cls\": \"Details\", \"_dict\": {\"cool\": \"Second\"}}'\n",
      " u'{\"_cls\": \"Details\", \"_dict\": {\"cool\": \"Third\"}}']\n"
     ]
    }
   ],
   "source": [
    "print st.variables['obj.details'][:]\n",
    "print st.variables['details_json'][:]"
   ]
  },
  {
   "cell_type": "code",
   "execution_count": 33,
   "metadata": {
    "collapsed": false
   },
   "outputs": [
    {
     "name": "stdout",
     "output_type": "stream",
     "text": [
      "cool = Third\n",
      "\n",
      "<class 'openpathsampling.pathmover.Details'>\n"
     ]
    }
   ],
   "source": [
    "print st.vars['obj.details'][0,0,0]\n",
    "print type(st.vars['obj.details'][0,0,0])"
   ]
  },
  {
   "cell_type": "markdown",
   "metadata": {},
   "source": [
    "lazy"
   ]
  },
  {
   "cell_type": "code",
   "execution_count": 34,
   "metadata": {
    "collapsed": true
   },
   "outputs": [],
   "source": [
    "st.vars['lazyobj.details'][0,0,0] = paths.Details(lazy='First')\n",
    "st.vars['lazyobj.details'][0,0,0] = paths.Details(lazy='Second')\n",
    "st.vars['lazyobj.details'][0,0,0] = paths.Details(lazy='Third')"
   ]
  },
  {
   "cell_type": "code",
   "execution_count": 35,
   "metadata": {
    "collapsed": false
   },
   "outputs": [
    {
     "name": "stdout",
     "output_type": "stream",
     "text": [
      "Type:    <class 'openpathsampling.netcdfplus.proxy.LoaderProxy'>\n",
      "Class:   <class 'openpathsampling.pathmover.Details'>\n",
      "Content: {'lazy': 'Third'}\n",
      "Access:  Third\n"
     ]
    }
   ],
   "source": [
    "proxy = st.vars['lazyobj.details'][0,0,0]\n",
    "print 'Type:   ', type(proxy)\n",
    "print 'Class:  ', proxy.__class__\n",
    "print 'Content:', proxy.__subject__.__dict__\n",
    "print 'Access: ', proxy.lazy"
   ]
  },
  {
   "cell_type": "markdown",
   "metadata": {},
   "source": [
    "### load/save objects"
   ]
  },
  {
   "cell_type": "markdown",
   "metadata": {},
   "source": [
    "Note that there are now 6 objects. 3 from `obj.details` and `lazyobj.details` each."
   ]
  },
  {
   "cell_type": "code",
   "execution_count": 36,
   "metadata": {
    "collapsed": false
   },
   "outputs": [
    {
     "name": "stdout",
     "output_type": "stream",
     "text": [
      "[<openpathsampling.pathmover.Details object at 0x112725790>, <openpathsampling.pathmover.Details object at 0x112b08cd0>, <openpathsampling.pathmover.Details object at 0x1061f55d0>, <openpathsampling.pathmover.Details object at 0x11270dfd0>, <openpathsampling.pathmover.Details object at 0x112b08d90>, <openpathsampling.pathmover.Details object at 0x11270d9d0>, <openpathsampling.pathmover.Details object at 0x1061f5510>]\n"
     ]
    }
   ],
   "source": [
    "print st.details[:]"
   ]
  },
  {
   "cell_type": "code",
   "execution_count": 37,
   "metadata": {
    "collapsed": true
   },
   "outputs": [],
   "source": [
    "obj = paths.Details(name='BlaBla')\n",
    "st.details.save(obj)\n",
    "st.save(obj);"
   ]
  },
  {
   "cell_type": "code",
   "execution_count": 38,
   "metadata": {
    "collapsed": false
   },
   "outputs": [
    {
     "name": "stdout",
     "output_type": "stream",
     "text": [
      "8\n"
     ]
    }
   ],
   "source": [
    "print len(st.details)"
   ]
  },
  {
   "cell_type": "markdown",
   "metadata": {},
   "source": [
    "Note that we have only 7 objets since both save operations will only store one object."
   ]
  },
  {
   "cell_type": "markdown",
   "metadata": {},
   "source": [
    "Get the index of the obj in the storage"
   ]
  },
  {
   "cell_type": "code",
   "execution_count": 39,
   "metadata": {
    "collapsed": false
   },
   "outputs": [
    {
     "name": "stdout",
     "output_type": "stream",
     "text": [
      "{\"_cls\": \"Details\", \"_dict\": {\"name\": \"BlaBla\"}}\n",
      "name = BlaBla\n",
      "\n",
      "False\n",
      "True\n"
     ]
    }
   ],
   "source": [
    "print st.details.variables['json'][st.idx(obj)]\n",
    "print st.details.vars['json'][st.idx(obj)]\n",
    "print st.details.vars['json'][st.idx(obj)] is obj\n",
    "print st.details[st.idx(obj)] is obj"
   ]
  },
  {
   "cell_type": "code",
   "execution_count": null,
   "metadata": {
    "collapsed": true
   },
   "outputs": [],
   "source": []
  }
 ],
 "metadata": {
  "kernelspec": {
   "display_name": "Python 2",
   "language": "python",
   "name": "python2"
  },
  "language_info": {
   "codemirror_mode": {
    "name": "ipython",
    "version": 2
   },
   "file_extension": ".py",
   "mimetype": "text/x-python",
   "name": "python",
   "nbconvert_exporter": "python",
   "pygments_lexer": "ipython2",
   "version": "2.7.10"
  }
 },
 "nbformat": 4,
 "nbformat_minor": 0
}

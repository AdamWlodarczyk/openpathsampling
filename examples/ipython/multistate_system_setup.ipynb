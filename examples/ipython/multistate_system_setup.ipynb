{
 "cells": [
  {
   "cell_type": "code",
   "execution_count": null,
   "metadata": {
    "collapsed": false
   },
   "outputs": [],
   "source": [
    "%matplotlib inline\n",
    "import openpathsampling as paths\n",
    "import numpy as np\n",
    "from toy_plot_helpers import ToyPlot\n",
    "\n",
    "%config InlineBackend.figure_format='retina'"
   ]
  },
  {
   "cell_type": "code",
   "execution_count": null,
   "metadata": {
    "collapsed": false
   },
   "outputs": [],
   "source": [
    "import openpathsampling.toy_dynamics as toys\n",
    "plot = ToyPlot()\n",
    "pes = (\n",
    "    toys.toy_pes.OuterWalls([1.0, 1.0], [0.0, 0.0]) +\n",
    "    toys.toy_pes.Gaussian(-0.7, [12.0, 12.0], [0.0, 0.4]) +\n",
    "    toys.toy_pes.Gaussian(-0.7, [12.0, 12.0], [-0.5, -0.5]) +\n",
    "    toys.toy_pes.Gaussian(-0.7, [12.0, 12.0], [0.5, -0.5])\n",
    ")\n",
    "\n",
    "plot.contour_range = np.arange(-1.5, 1.0, 0.1)\n",
    "\n",
    "topology=paths.ToyTopology(\n",
    "    n_spatial = 2,\n",
    "    masses =[1.0, 1.0],\n",
    "    pes = pes\n",
    ")\n",
    "\n",
    "template = paths.Snapshot(\n",
    "    coordinates=np.array([[-0.5, -0.5]]), \n",
    "    velocities=np.array([[0.0,0.0]]),\n",
    "    potential_energy = 0.0, # Important to set energies dimensionless otherwise kcal/mol is default\n",
    "    kinetic_energy = 0.0,\n",
    "    topology=topology\n",
    ")\n",
    "\n",
    "integ = toys.toy_integrators.LangevinBAOABIntegrator(dt=0.02, temperature=0.1, gamma=2.5)\n",
    "\n",
    "options={\n",
    "    'integ' : integ,\n",
    "    'n_frames_max' : 5000,\n",
    "    'nsteps_per_frame' : 10\n",
    "}\n",
    "\n",
    "toy_eng = toys.toy_engine.ToyEngine(\n",
    "    options=options,\n",
    "    template=template\n",
    ")\n",
    "toy_eng.initialized = True\n",
    "\n",
    "toy_eng.current_snapshot = template\n",
    "paths.PathMover.engine = toy_eng"
   ]
  },
  {
   "cell_type": "code",
   "execution_count": null,
   "metadata": {
    "collapsed": false
   },
   "outputs": [],
   "source": [
    "plot.add_pes(pes)\n",
    "fig = plot.plot()"
   ]
  },
  {
   "cell_type": "code",
   "execution_count": null,
   "metadata": {
    "collapsed": false
   },
   "outputs": [],
   "source": [
    "fig.axes"
   ]
  },
  {
   "cell_type": "code",
   "execution_count": null,
   "metadata": {
    "collapsed": false
   },
   "outputs": [],
   "source": [
    "def circle_sq(snapshot, center):\n",
    "    return (snapshot.xyz[0][0]-center[0])**2 + (snapshot.xyz[0][1]-center[1])**2\n",
    "    \n",
    "opA = paths.CV_Function(name=\"opA\", fcn=circle_sq, center=[-0.5, -0.5])\n",
    "opB = paths.CV_Function(name=\"opB\", fcn=circle_sq, center=[0.5, -0.5])\n",
    "opC = paths.CV_Function(name=\"opC\", fcn=circle_sq, center=[0.0, 0.4])"
   ]
  },
  {
   "cell_type": "code",
   "execution_count": null,
   "metadata": {
    "collapsed": true
   },
   "outputs": [],
   "source": [
    "stateA = paths.CVRangeVolume(opA, 0.0, 0.2**2)\n",
    "stateB = paths.CVRangeVolume(opB, 0.0, 0.2**2)\n",
    "stateC = paths.CVRangeVolume(opC, 0.0, 0.2**2)\n",
    "# set up the states; interfaces\n",
    "interfacesA = paths.VolumeFactory.CVRangeVolumeSet(opA, 0.0,[0.2**2, 0.3**2, 0.4**2, 0.5**2])\n",
    "interfacesB = paths.VolumeFactory.CVRangeVolumeSet(opB, 0.0,[0.2**2, 0.3**2, 0.4**2, 0.5**2])\n",
    "interfacesC = paths.VolumeFactory.CVRangeVolumeSet(opC, 0.0,[0.2**2, 0.3**2, 0.4**2, 0.5**2])\n",
    "# bootstrap out of each state to get initial trajectories\n",
    "# save the initial trajectories to 3 different files."
   ]
  },
  {
   "cell_type": "code",
   "execution_count": null,
   "metadata": {
    "collapsed": false
   },
   "outputs": [],
   "source": [
    "#plot.add_states([stateA, stateB, stateC])\n",
    "#plot.add_interfaces(interfacesA+interfacesB+interfacesC)\n",
    "#plot.plot()"
   ]
  },
  {
   "cell_type": "code",
   "execution_count": null,
   "metadata": {
    "collapsed": true
   },
   "outputs": [],
   "source": [
    "# the other option might be to turn this into a class FullBootstrap, but this function seems to work for now\n",
    "# TODO: move this function into openpathsampling (maybe have a module bootstrap_interfaces?)\n",
    "import sys\n",
    "def full_bootstrap(transition, snapshot, engine, extra_interfaces=[], storage=None):\n",
    "    interface0 = transition.interfaces[0]\n",
    "    ensemble0 = transition.ensembles[0]\n",
    "    state = transition.stateA\n",
    "    first_traj_ensemble = paths.SequentialEnsemble([\n",
    "        paths.OptionalEnsemble(paths.AllOutXEnsemble(state)),\n",
    "        paths.AllInXEnsemble(state),\n",
    "        paths.OptionalEnsemble(paths.AllOutXEnsemble(state) & paths.AllInXEnsemble(interface0)),\n",
    "        paths.OptionalEnsemble(paths.AllInXEnsemble(interface0)),\n",
    "        paths.AllOutXEnsemble(interface0),\n",
    "        paths.OptionalEnsemble(paths.AllOutXEnsemble(state)),\n",
    "        paths.SingleFrameEnsemble(paths.AllInXEnsemble(state))\n",
    "    ])\n",
    "    #print first_traj_ensemble #DEBUG\n",
    "    engine.current_snapshot = snapshot\n",
    "    engine.snapshot = snapshot\n",
    "    print \"Building first trajectory\"\n",
    "    sys.stdout.flush()\n",
    "    first_traj = engine.generate(engine.current_snapshot, [first_traj_ensemble.can_append])\n",
    "    print \"Selecting segment\"\n",
    "    sys.stdout.flush()\n",
    "    subtraj = ensemble0.split(first_traj)[0]\n",
    "    extra_ensembles = [\n",
    "        paths.TISEnsemble(transition.stateA, transition.stateB, iface, transition.orderparameter)\n",
    "        for iface in extra_interfaces\n",
    "    ]\n",
    "    extra_shooters = [paths.OneWayShootingMover(paths.UniformSelector(), ens) for ens in extra_ensembles]\n",
    "    print \"Sampling \" + str(len(transition.ensembles+extra_ensembles)) + \" ensembles.\"\n",
    "    bootstrap = paths.Bootstrapping(\n",
    "        storage=storage,\n",
    "        ensembles=transition.ensembles+extra_ensembles,\n",
    "        movers=transition.movers['shooting']+extra_shooters,\n",
    "        trajectory=subtraj\n",
    "    )\n",
    "    print \"Beginning bootstrapping\"\n",
    "    while len(bootstrap.globalstate) < len(transition.ensembles+extra_ensembles):\n",
    "        print len(bootstrap.globalstate), \"samples so far\"\n",
    "        sys.stdout.flush()\n",
    "        bootstrap.run(20)\n",
    "    print len(bootstrap.globalstate), \"samples so far (DONE!)\"\n",
    "    return bootstrap.globalstate\n"
   ]
  },
  {
   "cell_type": "code",
   "execution_count": null,
   "metadata": {
    "collapsed": false
   },
   "outputs": [],
   "source": [
    "mstis = paths.MSTISNetwork([\n",
    "    (stateA, interfacesA, \"A\", opA),\n",
    "    (stateB, interfacesB, \"B\", opB),\n",
    "    (stateC, interfacesC, \"C\", opC)\n",
    "])"
   ]
  },
  {
   "cell_type": "code",
   "execution_count": null,
   "metadata": {
    "collapsed": false
   },
   "outputs": [],
   "source": [
    "print mstis"
   ]
  },
  {
   "cell_type": "code",
   "execution_count": null,
   "metadata": {
    "collapsed": false
   },
   "outputs": [],
   "source": [
    "for t in mstis.sampling_transitions:\n",
    "    print t"
   ]
  },
  {
   "cell_type": "code",
   "execution_count": null,
   "metadata": {
    "collapsed": false
   },
   "outputs": [],
   "source": [
    "print mstis.transitions"
   ]
  },
  {
   "cell_type": "markdown",
   "metadata": {},
   "source": [
    "### Bootstrap to fill all interfaces"
   ]
  },
  {
   "cell_type": "code",
   "execution_count": null,
   "metadata": {
    "collapsed": false
   },
   "outputs": [],
   "source": [
    "initA = paths.Snapshot(\n",
    "    coordinates=np.array([[-0.5, -0.5]]), \n",
    "    velocities=np.array([[1.0,0.0]]),\n",
    ")\n",
    "gsA = full_bootstrap(mstis.from_state[stateA], initA, toy_eng, extra_interfaces=[interfacesA[-1]])"
   ]
  },
  {
   "cell_type": "code",
   "execution_count": null,
   "metadata": {
    "collapsed": false
   },
   "outputs": [],
   "source": [
    "initB = paths.Snapshot(\n",
    "    coordinates=np.array([[0.5, -0.5]]), \n",
    "    velocities=np.array([[-1.0,0.0]]),\n",
    ")\n",
    "gsB = full_bootstrap(mstis.from_state[stateB], initB, toy_eng, extra_interfaces=[interfacesB[-1]])"
   ]
  },
  {
   "cell_type": "code",
   "execution_count": null,
   "metadata": {
    "collapsed": false
   },
   "outputs": [],
   "source": [
    "initC = paths.Snapshot(\n",
    "    coordinates=np.array([[0.0, 0.4]]), \n",
    "    velocities=np.array([[0.0,-0.5]]),\n",
    ")\n",
    "gsC = []\n",
    "gsC = full_bootstrap(mstis.from_state[stateC], initC, toy_eng, extra_interfaces=[interfacesC[-1]])"
   ]
  },
  {
   "cell_type": "code",
   "execution_count": null,
   "metadata": {
    "collapsed": false
   },
   "outputs": [],
   "source": [
    "plot.plot([s.trajectory for s in gsA]+[s.trajectory for s in gsB]+[s.trajectory for s in gsC]);"
   ]
  },
  {
   "cell_type": "code",
   "execution_count": null,
   "metadata": {
    "collapsed": false
   },
   "outputs": [],
   "source": [
    "outer_sset = paths.SampleSet([gs.samples[-1] for gs in [gsA, gsB, gsC]])\n",
    "sset = paths.SampleSet.relabel_replicas_per_ensemble([\n",
    "        paths.SampleSet(gsA.samples[:-1]), \n",
    "        paths.SampleSet(gsB.samples[:-1]),\n",
    "        paths.SampleSet(gsC.samples[:-1])\n",
    "    ])\n",
    "# TODO: the better approach is to adjust relabel_replicas_per_ensemble so that it drops extra ensembles \n",
    "# ... not sure what the current behavior is"
   ]
  },
  {
   "cell_type": "code",
   "execution_count": null,
   "metadata": {
    "collapsed": false
   },
   "outputs": [],
   "source": [
    "msouter_sample = paths.Sample(\n",
    "    replica=len(sset),\n",
    "    trajectory=outer_sset.samples[0].trajectory,\n",
    "    ensemble=mstis.ms_outers[0]\n",
    ")\n",
    "sset = sset.apply_samples([msouter_sample])\n",
    "minus_count = 0\n",
    "minus_samples = []\n",
    "for retis in mstis.from_state.values():\n",
    "    minus_count -= 1\n",
    "    minus_samples.append(retis.minus_ensemble.populate_minus_ensemble(\n",
    "        partial_traj=sset[retis.ensembles[0]].trajectory,\n",
    "        minus_replica_id=minus_count,\n",
    "        engine=toy_eng\n",
    "    ))\n",
    "sset = sset.apply_samples(minus_samples)\n",
    "# TODO: add samples for the minus interfaces, too"
   ]
  },
  {
   "cell_type": "code",
   "execution_count": null,
   "metadata": {
    "collapsed": false
   },
   "outputs": [],
   "source": [
    "storage = paths.storage.Storage(\"mstis.nc\", \"w\", template=template)\n",
    "storage.save(mstis)\n",
    "mstis_calc = paths.PathSampling(\n",
    "    storage=storage,\n",
    "    engine=toy_eng,\n",
    "    move_scheme=mstis.default_schemes(),\n",
    "    globalstate=sset\n",
    ")"
   ]
  },
  {
   "cell_type": "code",
   "execution_count": null,
   "metadata": {
    "collapsed": false
   },
   "outputs": [],
   "source": [
    "xval = paths.CV_Function(\"xval\", lambda snap : snap.xyz[0][0])\n",
    "yval = paths.CV_Function(\"yval\", lambda snap : snap.xyz[0][1])\n",
    "#mstis_calc.live_visualization = paths.LiveVisualization(mstis, xval, yval, [-1.0, 1.0], [-1.0, 1.0])\n",
    "background = ToyPlot()\n",
    "background.contour_range = np.arange(-1.5, 1.0, 0.1)\n",
    "background.add_pes(pes)\n",
    "#mstis_calc.live_visualization.background = background.plot()"
   ]
  },
  {
   "cell_type": "code",
   "execution_count": null,
   "metadata": {
    "collapsed": false
   },
   "outputs": [],
   "source": [
    "mstis_calc.run(200)"
   ]
  },
  {
   "cell_type": "code",
   "execution_count": null,
   "metadata": {
    "collapsed": false
   },
   "outputs": [],
   "source": [
    "%%time\n",
    "storage.sync()"
   ]
  }
 ],
 "metadata": {
  "kernelspec": {
   "display_name": "Python 2",
   "language": "python",
   "name": "python2"
  },
  "language_info": {
   "codemirror_mode": {
    "name": "ipython",
    "version": 2
   },
   "file_extension": ".py",
   "mimetype": "text/x-python",
   "name": "python",
   "nbconvert_exporter": "python",
   "pygments_lexer": "ipython2",
   "version": "2.7.10"
  }
 },
 "nbformat": 4,
 "nbformat_minor": 0
}

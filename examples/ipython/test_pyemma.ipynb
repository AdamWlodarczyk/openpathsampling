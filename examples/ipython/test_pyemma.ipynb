{
 "cells": [
  {
   "cell_type": "markdown",
   "metadata": {},
   "source": [
    "### PyEmma Featurizer Support"
   ]
  },
  {
   "cell_type": "code",
   "execution_count": 1,
   "metadata": {
    "collapsed": false
   },
   "outputs": [],
   "source": [
    "import openpathsampling as ps\n",
    "import openpathsampling.storage as st"
   ]
  },
  {
   "cell_type": "code",
   "execution_count": 2,
   "metadata": {
    "collapsed": false
   },
   "outputs": [],
   "source": [
    "#! lazy\n",
    "import pyemma.coordinates as coor"
   ]
  },
  {
   "cell_type": "code",
   "execution_count": 3,
   "metadata": {
    "collapsed": false
   },
   "outputs": [],
   "source": [
    "storage = st.Storage('trajectory.nc', mode='a')"
   ]
  },
  {
   "cell_type": "markdown",
   "metadata": {},
   "source": [
    "Import a PyEmma Coordinates Module"
   ]
  },
  {
   "cell_type": "markdown",
   "metadata": {},
   "source": [
    "Using of pyemma featurizers or general other complex code requires a little trick to be storable. Since storing of code only works if we are not dependend on the context (scope) we need to wrap the construction of our featurizer in a function, that gets all it needs from the global scope as a parameter"
   ]
  },
  {
   "cell_type": "code",
   "execution_count": 4,
   "metadata": {
    "collapsed": true
   },
   "outputs": [],
   "source": [
    "def pyemma_generator(f):\n",
    "    f.add_inverse_distances(f.pairs(f.select_Backbone()))"
   ]
  },
  {
   "cell_type": "code",
   "execution_count": 5,
   "metadata": {
    "collapsed": false
   },
   "outputs": [],
   "source": [
    "cv = ps.collectivevariable.CV_PyEMMA_Featurizer('pyemma', pyemma_generator, topology=storage.template.topology)"
   ]
  },
  {
   "cell_type": "markdown",
   "metadata": {},
   "source": [
    "Now use this featurizer generating function to build a collective variable out of it. All we need for that is a name as usual, the generating function, the list of parameters - here only the topology and at best a test snapshot, a template."
   ]
  },
  {
   "cell_type": "code",
   "execution_count": 6,
   "metadata": {
    "collapsed": false
   },
   "outputs": [],
   "source": [
    "cv(storage.trajectories[0]);"
   ]
  },
  {
   "cell_type": "markdown",
   "metadata": {},
   "source": [
    "Let's save it to the storage"
   ]
  },
  {
   "cell_type": "code",
   "execution_count": 7,
   "metadata": {
    "collapsed": false
   },
   "outputs": [],
   "source": [
    "cv.save(storage)"
   ]
  },
  {
   "cell_type": "markdown",
   "metadata": {},
   "source": [
    "and apply the featurizer to a trajectory"
   ]
  },
  {
   "cell_type": "code",
   "execution_count": 8,
   "metadata": {
    "collapsed": false
   },
   "outputs": [],
   "source": [
    "cv(storage.trajectories[2]);"
   ]
  },
  {
   "cell_type": "markdown",
   "metadata": {},
   "source": [
    "Sync to make sure the cache is written to the netCDF file."
   ]
  },
  {
   "cell_type": "code",
   "execution_count": 9,
   "metadata": {
    "collapsed": false
   },
   "outputs": [],
   "source": [
    "storage.sync_all()"
   ]
  },
  {
   "cell_type": "code",
   "execution_count": 10,
   "metadata": {
    "collapsed": false
   },
   "outputs": [],
   "source": [
    "cv(storage.snapshots.all());"
   ]
  },
  {
   "cell_type": "code",
   "execution_count": 11,
   "metadata": {
    "collapsed": false
   },
   "outputs": [],
   "source": [
    "storage.cvs.sync()"
   ]
  },
  {
   "cell_type": "code",
   "execution_count": 12,
   "metadata": {
    "collapsed": false
   },
   "outputs": [],
   "source": [
    "storage.sync_all()"
   ]
  },
  {
   "cell_type": "code",
   "execution_count": 13,
   "metadata": {
    "collapsed": false
   },
   "outputs": [],
   "source": [
    "py_cv = storage.cvs['pyemma']"
   ]
  },
  {
   "cell_type": "code",
   "execution_count": 14,
   "metadata": {
    "collapsed": false
   },
   "outputs": [],
   "source": [
    "nc_var = storage.variables['snapshots_cv_%d_values' % storage.idx(py_cv)]"
   ]
  },
  {
   "cell_type": "code",
   "execution_count": 15,
   "metadata": {
    "collapsed": false
   },
   "outputs": [
    {
     "name": "stdout",
     "output_type": "stream",
     "text": [
      "15\n"
     ]
    }
   ],
   "source": [
    "assert(nc_var.shape[1] == 15)\n",
    "print nc_var.shape[1]"
   ]
  },
  {
   "cell_type": "code",
   "execution_count": 16,
   "metadata": {
    "collapsed": false
   },
   "outputs": [
    {
     "name": "stdout",
     "output_type": "stream",
     "text": [
      "numpy.float32\n"
     ]
    }
   ],
   "source": [
    "assert(nc_var.var_type == 'numpy.float32')\n",
    "print nc_var.var_type"
   ]
  },
  {
   "cell_type": "code",
   "execution_count": 17,
   "metadata": {
    "collapsed": false
   },
   "outputs": [
    {
     "name": "stdout",
     "output_type": "stream",
     "text": [
      "[ u'{\"_cls\": \"CV_Function\", \"_dict\": {\"store_cache\": true, \"name\": \"psi2\", \"f\": {\"_marshal\": \"YwMAAAADAAAAAwAAAEMAAABzHAAAAHwBAHwAAIMBAGQBABN8AgB8AACDAQBkAQATF1MoAgAAAE5pAgAAACgAAAAAKAMAAAB0BAAAAGl0ZW10AwAAAHBzaXQDAAAAcGhpKAAAAAAoAAAAAHMeAAAAPGlweXRob24taW5wdXQtOS00NGFmZmMyZGY1MzU+dAcAAABwcDJfZm5jAQAAAHMCAAAAAAE=\", \"_module_vars\": [], \"_global_vars\": []}, \"scalarize_numpy_singletons\": false, \"wrap_numpy_array\": false, \"kwargs\": {\"phi\": {\"_obj\": \"cvs\", \"_idx\": 1}, \"psi\": {\"_obj\": \"cvs\", \"_idx\": 2}}, \"requires_lists\": false, \"time_reversible\": false}}'\n",
      " u'{\"_cls\": \"CV_MDTraj_Function\", \"_dict\": {\"store_cache\": true, \"name\": \"phi\", \"f\": {\"_module\": \"mdtraj.geometry.dihedral\", \"_name\": \"compute_dihedrals\"}, \"scalarize_numpy_singletons\": true, \"wrap_numpy_array\": true, \"kwargs\": {\"indices\": [[4, 6, 8, 14]]}, \"requires_lists\": true, \"time_reversible\": true}}'\n",
      " u'{\"_cls\": \"CV_MDTraj_Function\", \"_dict\": {\"store_cache\": true, \"name\": \"psi\", \"f\": {\"_module\": \"mdtraj.geometry.dihedral\", \"_name\": \"compute_dihedrals\"}, \"scalarize_numpy_singletons\": true, \"wrap_numpy_array\": true, \"kwargs\": {\"indices\": [[6, 8, 14, 16]]}, \"requires_lists\": true, \"time_reversible\": true}}'\n",
      " u'{\"_cls\": \"CV_Volume\", \"_dict\": {\"volume\": {\"_obj\": \"volumes\", \"_idx\": 0}, \"store_cache\": true, \"name\": \"StateA\"}}'\n",
      " u'{\"_cls\": \"CV_Volume\", \"_dict\": {\"volume\": {\"_obj\": \"volumes\", \"_idx\": 1}, \"store_cache\": true, \"name\": \"StateB\"}}'\n",
      " u'{\"_cls\": \"CV_Volume\", \"_dict\": {\"volume\": {\"_obj\": \"volumes\", \"_idx\": 26}, \"store_cache\": true, \"name\": \"StateX\"}}'\n",
      " u'{\"_cls\": \"CV_PyEMMA_Featurizer\", \"_dict\": {\"kwargs\": {}, \"store_cache\": true, \"name\": \"pyemma\", \"featurizer\": {\"_marshal\": \"YwEAAAABAAAAAwAAAEMAAABzIAAAAHwAAGoAAHwAAGoBAHwAAGoCAIMAAIMBAIMBAAFkAABTKAEAAABOKAMAAAB0FQAAAGFkZF9pbnZlcnNlX2Rpc3RhbmNlc3QFAAAAcGFpcnN0DwAAAHNlbGVjdF9CYWNrYm9uZSgBAAAAdAEAAABmKAAAAAAoAAAAAHMeAAAAPGlweXRob24taW5wdXQtNC00Nzc0ZDhlZGRkMDA+dBAAAABweWVtbWFfZ2VuZXJhdG9yAQAAAHMCAAAAAAE=\", \"_module_vars\": [], \"_global_vars\": []}, \"topology\": {\"_obj\": \"topologies\", \"_idx\": 0}}}']\n"
     ]
    }
   ],
   "source": [
    "#! ignore\n",
    "print storage.variables['cvs_json'][:]"
   ]
  },
  {
   "cell_type": "code",
   "execution_count": 18,
   "metadata": {
    "collapsed": false
   },
   "outputs": [],
   "source": [
    "py_emma_feat = storage.vars['cvs_json'][6]"
   ]
  },
  {
   "cell_type": "code",
   "execution_count": 19,
   "metadata": {
    "collapsed": false
   },
   "outputs": [],
   "source": [
    "erg = py_emma_feat(storage.snapshots);"
   ]
  },
  {
   "cell_type": "code",
   "execution_count": 20,
   "metadata": {
    "collapsed": false
   },
   "outputs": [
    {
     "name": "stdout",
     "output_type": "stream",
     "text": [
      "[ 4.05474138  4.04429817  4.09497976  4.05629969  4.02169132  4.08048439\n",
      "  3.99784589  4.06264544  3.99345803  4.06143045  4.06058693  4.01164579\n",
      "  4.07558966  4.00137377  4.09326935  4.01662636  4.01421356  4.04161978\n",
      "  4.02600718  4.00666857  4.06887293  4.05741262  4.0694766   4.02478552\n",
      "  4.05429459  3.99438739  3.99598861  4.0506835   3.95376158]\n"
     ]
    }
   ],
   "source": [
    "#! lazy\n",
    "print erg[0::10,1]"
   ]
  },
  {
   "cell_type": "code",
   "execution_count": null,
   "metadata": {
    "collapsed": true
   },
   "outputs": [],
   "source": []
  }
 ],
 "metadata": {
  "kernelspec": {
   "display_name": "Python 2",
   "language": "python",
   "name": "python2"
  },
  "language_info": {
   "codemirror_mode": {
    "name": "ipython",
    "version": 2
   },
   "file_extension": ".py",
   "mimetype": "text/x-python",
   "name": "python",
   "nbconvert_exporter": "python",
   "pygments_lexer": "ipython2",
   "version": "2.7.10"
  }
 },
 "nbformat": 4,
 "nbformat_minor": 0
}

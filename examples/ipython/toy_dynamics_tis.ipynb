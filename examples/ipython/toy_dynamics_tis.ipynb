{
 "metadata": {
  "name": "",
  "signature": "sha256:94d674051eaca006b150dc15bbbfeff1d9011448b9a2a5baed5b956172fbaf58"
 },
 "nbformat": 3,
 "nbformat_minor": 0,
 "worksheets": [
  {
   "cells": [
    {
     "cell_type": "code",
     "collapsed": false,
     "input": [
      "# Note: in practice, one should put all the imports at the top of a Python script. \n",
      "# But for educational purposes here, I put the import immediately before usage. \n",
      "# This Python block is just to set up some plotting stuff.\n",
      "\n",
      "# Imports for plotting\n",
      "%matplotlib inline\n",
      "import matplotlib\n",
      "import matplotlib.pyplot as plt\n",
      "import matplotlib.pylab as pylab\n",
      "from matplotlib.legend_handler import HandlerLine2D\n",
      "import numpy as np\n",
      "\n",
      "# TODO: these visualization classes should be moved into some generic file\n",
      "from opentis.snapshot import Snapshot\n",
      "\n",
      "# A little class we use for visualizing these 2D PESs\n",
      "class CallablePES(object):\n",
      "    def __init__(self, pes):\n",
      "        self.pes = pes\n",
      "    \n",
      "    def __call__(self, x, y):\n",
      "        self.positions = [x, y]\n",
      "        return self.pes.V(self)\n",
      "\n",
      "class CallableVolume(object):\n",
      "    def __init__(self, vol):\n",
      "        self.vol = vol\n",
      "    \n",
      "    def __call__(self, x, y):\n",
      "        snapshot = Snapshot(coordinates=np.array([[x,y,0.0]]))\n",
      "        return 1.0 if self.vol(snapshot) else 0.0\n",
      "\n",
      "# plot setup stuff\n",
      "range_x = np.arange(-1.1, 1.1, 0.01)\n",
      "range_y = np.arange(-1.1, 0.9, 0.01)\n",
      "extent = [range_x[0], range_x[-1], range_y[0], range_y[-1]]\n",
      "X, Y = np.meshgrid(range_x, range_y)\n",
      "pylab.rcParams['figure.figsize'] = 9, 6"
     ],
     "language": "python",
     "metadata": {},
     "outputs": [],
     "prompt_number": 2
    },
    {
     "cell_type": "markdown",
     "metadata": {},
     "source": [
      "# Setting up RETIS on a Toy Model\n",
      "\n",
      "This example shows how to set up a RETIS calculation. We do this on a simple 2D model so it can be fast enough for an interactive example, but the basic approach applies to larger systems as well. Although I'll describe everything here in terms of 2-state systems, all the ideas generalize when setting up multiple-state systems (you just need to find more initial paths)."
     ]
    },
    {
     "cell_type": "markdown",
     "metadata": {},
     "source": [
      "## Getting an initial path\n",
      "\n",
      "RETIS is a path sampling method: it requires that the user supply an input path for each path ensemble. This means that you must somehow generate a first input path. In general, getting the first input paths for RETIS boils down to solving two problems:\n",
      "\n",
      "1. Getting a trajectory that samples the rare event.\n",
      "2. Filling all the path ensembles with acceptable trajectories.\n",
      "\n",
      "Since transition paths satisfy all the path ensembles between two states, a common approach is to use the same initial path for all path ensembles (reversing it where necessary). This way, once you've solved problem 1, problem 2 is trivial.\n",
      "\n",
      "The first rare path can come from any number of sources. The obvious approach might be to find a transition path from a committor analysis, because this would give you a path that satisfies the true dynamics. However, the initial path doesn't need to satisfy the true dynamics of the system (later we will equilibrate the path ensemble anyway). This means that other approaches, such as high-temperature trajectories, can be used for the first path. One of the most widely-used methods to get an initial trajectory is to generate a transition trajectory using metadynamics. However, the downside of using paths that don't satisfy the true dynamics is that it might be harder to get them to equilibrate to the correct path ensemble. It seems that this has been more of a problem with paths from high temperature runs than with paths from metadynamics: a path from a modified potential energy surface at the correct temperature seems to equilibrate more easily than a path from the original potential energy surface at an incorrect temperature.\n",
      "\n",
      "In this example, we use a bootstrapping approach, which does create paths satisfying the true dynamics of the system. This bootstrapping is nice because it is quick and convenient, although it works best on smaller systems with less complicated transitions. It works by running normal MD to generate a path that satisfies the innermost interface, and then performing shooting moves in that interface's path ensemble until we have a path that crosses the next interface. Then we switch to the path ensemble for the next interface, and shoot until the path crossing the interface after that. The process continues until we have paths for all interfaces."
     ]
    },
    {
     "cell_type": "markdown",
     "metadata": {},
     "source": [
      "### Basic system setup\n",
      "\n",
      "First we set up our system: for the toy dynamics, this involves defining a potential energy surface (PES), setting up an integrator, and giving the simulation an initial configuration. In real MD systems, the PES is handled by the combination of a topology file and a force field definition, and the initial configuration would come from a file instead of being described by hand."
     ]
    },
    {
     "cell_type": "code",
     "collapsed": false,
     "input": [
      "from opentis.toy_dynamics.toy_engine import ToyEngine\n",
      "from opentis.toy_dynamics.toy_integrators import LangevinBAOABIntegrator\n",
      "from opentis.toy_dynamics.toy_pes import Gaussian, OuterWalls"
     ],
     "language": "python",
     "metadata": {},
     "outputs": [],
     "prompt_number": 3
    },
    {
     "cell_type": "code",
     "collapsed": false,
     "input": [
      "# Toy_PES supports adding/subtracting various PESs. The OuterWalls PES type gives an x^6+y^6 boundary to the system\n",
      "pes = (OuterWalls([1.0, 1.0], [0.0, 0.0]) + \n",
      "       Gaussian(2.0, [1.0, 4.0], [0.0,1.0]) + \n",
      "       Gaussian(2.0, [25.0, 1.0], [0.0, -1.0])\n",
      "      )\n",
      "integ = LangevinBAOABIntegrator(dt=0.02, temperature=0.1, gamma=1.0)\n",
      "sim = ToyEngine(filename=None,\n",
      "                options={'pes' : pes, \n",
      "                         'integ' : integ,\n",
      "                         'n_frames_max' : 5000,\n",
      "                         'nsteps_per_frame' : 10}\n",
      "               )\n",
      "\n",
      "sim.mass = [1.0, 1.0]\n",
      "sim.current_snapshot = Snapshot(coordinates=[-0.5, 0.0], velocities=[0.0,0.0])"
     ],
     "language": "python",
     "metadata": {},
     "outputs": [],
     "prompt_number": 4
    },
    {
     "cell_type": "markdown",
     "metadata": {},
     "source": [
      "Now let's take a look at our PES and our initial configuration:"
     ]
    },
    {
     "cell_type": "code",
     "collapsed": false,
     "input": [
      "pes_V = np.vectorize(CallablePES(pes))\n",
      "# we load the coordinates into a snapshot instead of directly calling them \n",
      "# based on their implementation in `toy_simulation`. This is because the \n",
      "# snapshot approach will work independently of the underlying MD engine.\n",
      "snap = sim.current_snapshot\n",
      "\n",
      "fig, ax = plt.subplots()\n",
      "CS = ax.contour(X, Y, pes_V(X,Y), levels=np.arange(0.0, 1.5, 0.1), colors='k', zorder=0)\n",
      "ax.plot(snap.coordinates[0,0], snap.coordinates[0,1], 'ro', zorder=1);"
     ],
     "language": "python",
     "metadata": {},
     "outputs": [
      {
       "metadata": {},
       "output_type": "display_data",
       "png": "[encoded data removed]",
       "text": [
        "<matplotlib.figure.Figure at 0x111fc4490>"
       ]
      }
     ],
     "prompt_number": 5
    },
    {
     "cell_type": "markdown",
     "metadata": {},
     "source": [
      "### Interface setup\n",
      "\n",
      "One downside of the bootstrapping approach is that we need to have defined our interfaces before we start. However, we can always easily change our initial interface guesses.\n",
      "\n",
      "We'll consider a couple different choices of order parameter to define our interfaces. First we'll look at lines at different values of $x$. That set will be called `line_set`. Later we'll also consider circles centered on (-0.5, -0.25), with different radii. We'll call this set of interfaces `circle_set`. \n",
      "\n",
      "In both cases, we need to define the order parameter, and then we need to create a set of volumes and a set of ensembles associated with those volumes."
     ]
    },
    {
     "cell_type": "code",
     "collapsed": false,
     "input": [
      "from opentis.orderparameter import OP_Function\n",
      "from opentis.volume import VolumeFactory as vf\n",
      "from opentis.volume import LambdaVolume\n",
      "from opentis.trajectory import Trajectory\n",
      "\n",
      "# WTF? This is an extremely overcomplicated OP; shouldn't be so hard!\n",
      "try:\n",
      "    op_line = OP_Function(name=\"xval\", \n",
      "                          fcn=lambda snap : Trajectory([snap])[0].coordinates()[0,0])\n",
      "except ValueError:\n",
      "    print \"xval already made\"\n",
      "# this defines a set of LambdaVolumes for which the minimum is -1.0 and the maximum is given in the array\n",
      "line_volume_set = vf.LambdaVolumeSet(op_line, minvals=-1.0, maxvals=[-0.30, -0.25, -0.20, -0.13, -0.05, 0.0])\n",
      "stateA = LambdaVolume(op_line, -1.0, -0.3)\n",
      "stateB = LambdaVolume(op_line, 0.3, 1.0)"
     ],
     "language": "python",
     "metadata": {},
     "outputs": [],
     "prompt_number": 6
    },
    {
     "cell_type": "code",
     "collapsed": false,
     "input": [
      "stateAmap = np.vectorize(CallableVolume(stateA))(X,Y)\n",
      "stateBmap = np.vectorize(CallableVolume(stateB))(X,Y)\n",
      "CS = plt.contour(X, Y, pes_V(X,Y), levels=np.arange(0.0, 1.5, 0.1), colors='k', zorder=0)\n",
      "plt.imshow(stateAmap+stateBmap, extent=extent, cmap=\"Blues\", interpolation='none', vmin=0.0, vmax=2.0, zorder=-1, aspect='auto')\n",
      "for iface in line_volume_set:\n",
      "    plt.contour(X,Y, np.vectorize(CallableVolume(iface))(X,Y), colors='r', interpolation='none', levels=[0.5], zorder=1)\n",
      "plt.plot(snap.coordinates[0,0], snap.coordinates[0,1], 'ro', zorder=1);"
     ],
     "language": "python",
     "metadata": {},
     "outputs": [
      {
       "metadata": {},
       "output_type": "display_data",
       "png": "[encoded data removed]",
       "text": [
        "<matplotlib.figure.Figure at 0x11232d790>"
       ]
      }
     ],
     "prompt_number": 7
    },
    {
     "cell_type": "markdown",
     "metadata": {},
     "source": [
      "In this picture, the states are marked in blue, and the interfaces are drawn as red lines. The initial configuration is still the red dot."
     ]
    },
    {
     "cell_type": "markdown",
     "metadata": {},
     "source": [
      "### First innermost interface path\n",
      "\n",
      "Now we have to create an initial path. This initial path shoud exit the state, cross the first interface, and then return to the state. We'll create this path by defining a special ensemble that, propagating forward from any initial snapshot, ends when the path ends with a segment in the appropriate interface."
     ]
    },
    {
     "cell_type": "code",
     "collapsed": false,
     "input": [
      "from opentis.ensemble import EnsembleFactory as ef\n",
      "from opentis.ensemble import LengthEnsemble, InXEnsemble, OutXEnsemble, SequentialEnsemble, OptionalEnsemble\n",
      "\n",
      "interface0 = line_volume_set[0]\n",
      "interface_ensemble_set = ef.TISEnsembleSet(stateA, stateB, line_volume_set)\n",
      "first_traj_ensemble = SequentialEnsemble([\n",
      "    OptionalEnsemble(OutXEnsemble(stateA)),\n",
      "    InXEnsemble(stateA),\n",
      "    OptionalEnsemble(OutXEnsemble(stateA) & InXEnsemble(interface0)),\n",
      "    OptionalEnsemble(InXEnsemble(interface0)),\n",
      "    OutXEnsemble(interface0),\n",
      "    OptionalEnsemble(OutXEnsemble(stateA)),\n",
      "    InXEnsemble(stateA) & LengthEnsemble(1)\n",
      "])"
     ],
     "language": "python",
     "metadata": {},
     "outputs": [],
     "prompt_number": 8
    },
    {
     "cell_type": "markdown",
     "metadata": {},
     "source": [
      "This ensemble is a bit complicated, but works in the general case. To understand it, we'll look at the `SequentialEnsemble` segment by segment. One preliminary point is that we need the generated path ensemble to be the same as the accepted path ensemble in this case, meaning that we must define the ensemble entirely in terms of which volumes each segment is in (i.e., using `InXEnsemble` and `OutXEnsemble`, but not `LeaveXEnsemble` or `HitXEnsemble`).\n",
      "\n",
      "Start with the first two segments: we start with an optional ensemble outside the state, and then move to an ensemble that is in the state. Since our TIS segment must start in a state, these two ensembles allow us to either start outside the state and then evolve into the state, or to start inside the state. At the end of these two segments, we have the first frame of the TIS ensemble segment, i.e., the frame inside the state that begins the TIS path.\n",
      "\n",
      "Next we have a couple of optional ensembles, followed by an ensemble requiring the segment to be outside the interface. The optional interfaces here are only important if `stateA` and `interface0` represent different volumes. If they represent the same volume (which is the case here) these optional ensembles don't matter. However, if they are different volumes, then there is a space which is outside the state but inside the interface. So the first optional interface represents that space. The next optional interface says that you must then be inside `interface0`: this is in case there is a reentry into the state before you cross the interface. Next, we require that we cross the interface. The last optional ensemble is for segments ouside the state. If there is space between the interface and the state, then after you are no longer outside the interface you might still be outside the state. Finally, the path ends with one frame in the state.\n",
      "\n",
      "Following the logic of that, any path that begins anywhere and ends with a segment satisfying the innermost TIS ensemble will be accepted by this ensemble. Furthermore, since the ensemble is defined exclusively in terms of `InXEnsemble`s and `OutXEnsemble`s, the ensemble of paths generated by forward dynamics (`can_append`) is equivalent to the accepted path ensemble."
     ]
    },
    {
     "cell_type": "code",
     "collapsed": false,
     "input": [
      "sim.initialized = True\n",
      "first_traj = sim.generate(snap, [first_traj_ensemble.can_append])"
     ],
     "language": "python",
     "metadata": {},
     "outputs": [],
     "prompt_number": 9
    },
    {
     "cell_type": "markdown",
     "metadata": {},
     "source": [
      "Next we use the `Ensemble.split` function to split the trajectory we found into segments satisfying the innermost interface TIS ensemble. There is only one such segment, and so we assign the first (and only) one found to `subtraj`, which is the first trajectory satisfying the innermost TIS interface."
     ]
    },
    {
     "cell_type": "code",
     "collapsed": false,
     "input": [
      "subtraj = interface_ensemble_set[0].split(first_traj)[0]"
     ],
     "language": "python",
     "metadata": {},
     "outputs": [],
     "prompt_number": 10
    },
    {
     "cell_type": "code",
     "collapsed": false,
     "input": [
      "plt.imshow(stateAmap+stateBmap, extent=extent, cmap=\"Blues\", interpolation='nearest', vmin=0.0, vmax=2.0, aspect='auto')\n",
      "CS = plt.contour(X, Y, pes_V(X,Y), levels=np.arange(0.0, 1.5, 0.1), colors='k')\n",
      "for iface in line_volume_set:\n",
      "    plt.contour(X,Y, np.vectorize(CallableVolume(iface))(X,Y), colors='r', interpolation='none', levels=[0.5])\n",
      "plt.plot(first_traj.coordinates()[1,0,0], first_traj.coordinates()[1,0,1], 'ro');\n",
      "plt.plot(first_traj.coordinates()[1:,0,0], first_traj.coordinates()[1:,0,1], 'k-', linewidth=2)\n",
      "plt.plot(subtraj.coordinates()[:,0,0], subtraj.coordinates()[:,0,1], 'r-', linewidth=1);"
     ],
     "language": "python",
     "metadata": {},
     "outputs": [
      {
       "metadata": {},
       "output_type": "display_data",
       "png": "[encoded data removed]",
       "text": [
        "<matplotlib.figure.Figure at 0x125be6b50>"
       ]
      }
     ],
     "prompt_number": 11
    },
    {
     "cell_type": "markdown",
     "metadata": {},
     "source": [
      "Now we see how the initial path evolves on this surface. The last part of the trajectory, which satisfies the path ensemble for the innermost interface, is highlighted in red. The whole trajectory is drawn in black."
     ]
    },
    {
     "cell_type": "markdown",
     "metadata": {},
     "source": [
      "### Bootstrapping\n",
      "\n",
      "The bootstrapping approach takes a single trajectory which satisfies the innermost interface, and does shooting moves until it satisfies the next ensemble. Once it satisfies the next ensemble, we start shooting from within that ensemble. We keep building up like that until all ensembles have an initial path.\n",
      "\n",
      "To do this, we need to first create the appropriate shooting movers (one for each path ensemble). This is done quickly and efficiently with a factory function."
     ]
    },
    {
     "cell_type": "code",
     "collapsed": false,
     "input": [
      "from opentis.pathmover import PathMoverFactory as mf\n",
      "from opentis.shooting import UniformSelector\n",
      "\n",
      "# might be nice to get rid of these two lines somehow\n",
      "from opentis.pathmover import PathMover\n",
      "PathMover.engine = sim\n",
      "\n",
      "shooting_movers = mf.OneWayShootingSet(UniformSelector(), interface_ensemble_set)"
     ],
     "language": "python",
     "metadata": {},
     "outputs": [],
     "prompt_number": 12
    },
    {
     "cell_type": "markdown",
     "metadata": {},
     "source": [
      "Next we need to set up the Bootstrapping calculation:"
     ]
    },
    {
     "cell_type": "code",
     "collapsed": false,
     "input": [
      "from opentis.calculation import Bootstrapping\n",
      "\n",
      "# TODO: add storage\n",
      "bootstrap = Bootstrapping(storage=None,\n",
      "                          engine=sim,\n",
      "                          ensembles=interface_ensemble_set,\n",
      "                          movers=shooting_movers,\n",
      "                          trajectory=subtraj)"
     ],
     "language": "python",
     "metadata": {},
     "outputs": [],
     "prompt_number": 20
    },
    {
     "cell_type": "code",
     "collapsed": false,
     "input": [
      "for rep in bootstrap.globalstate.replica_list():\n",
      "    traj = bootstrap.globalstate[rep]\n",
      "    print traj, \n",
      "    if traj is not None:\n",
      "        print (op_line(bootstrap.globalstate[rep]))\n",
      "    else:\n",
      "        print"
     ],
     "language": "python",
     "metadata": {},
     "outputs": [
      {
       "output_type": "stream",
       "stream": "stdout",
       "text": [
        "Replica: 0\n",
        "Trajectory: Trajectory[17]\n",
        "Ensemble: [\n",
        "(\n",
        "  x[t] in {x|xval(x) in [-1.0, -0.3]} for all t\n",
        ")\n",
        "and\n",
        "(\n",
        "  len(x) = 1\n",
        "),\n",
        "(\n",
        "  x[t] in (not ({x|xval(x) in [-1.0, -0.3]} or {x|xval(x) in [0.3, 1.0]})) for all t\n",
        ")\n",
        "and\n",
        "(\n",
        "  exists t such that x[t] in (not {x|xval(x) in [-1.0, -0.3]})\n",
        "),\n",
        "(\n",
        "  x[t] in ({x|xval(x) in [-1.0, -0.3]} or {x|xval(x) in [0.3, 1.0]}) for all t\n",
        ")\n",
        "and\n",
        "(\n",
        "  len(x) = 1\n",
        ")\n",
        "]\n",
        "Details: inputs = None\n",
        "idx = {}\n",
        "success = None\n",
        "acceptance = None\n",
        "result = None\n",
        "mover = None\n",
        "accepted = None\n",
        "final = None\n",
        "\n",
        " None\n"
       ]
      }
     ],
     "prompt_number": 21
    },
    {
     "cell_type": "markdown",
     "metadata": {},
     "source": [
      "Now we run the bootstrapping. The number `50` means that we'll allow up to 50 shooting attempts per interface; if it takes more than that, you should probably adjust your interfaces (there's probably not much overlap for replica exchange)."
     ]
    },
    {
     "cell_type": "code",
     "collapsed": false,
     "input": [
      "bootstrap.run(300)"
     ],
     "language": "python",
     "metadata": {},
     "outputs": [
      {
       "output_type": "stream",
       "stream": "stdout",
       "text": [
        "0 Ensemble: 0   failsteps= 0\n",
        "Shooting backward from frame 9\n",
        "Proposal probability 1.07142857143 / random : 0.847160035786\n",
        "1 Ensemble: 1   failsteps= 0\n",
        "Shooting forward from frame 5\n",
        "Proposal probability"
       ]
      },
      {
       "output_type": "stream",
       "stream": "stdout",
       "text": [
        " 0.933333333333 / random : 0.0743030952347\n",
        "2 Ensemble: 1   failsteps= 1\n",
        "Shooting forward from frame 3\n",
        "3"
       ]
      },
      {
       "output_type": "stream",
       "stream": "stdout",
       "text": [
        " Ensemble: 1   failsteps= 2\n",
        "Shooting forward from frame 14\n",
        "Proposal probability 1.0 / random : 0.34659754745\n",
        "4 Ensemble: 1   failsteps= 3\n",
        "Shooting backward from frame 11\n",
        "Proposal probability"
       ]
      },
      {
       "output_type": "stream",
       "stream": "stdout",
       "text": [
        " 0.652173913043 / random : 0.257368462339\n",
        "5 Ensemble: 1   failsteps= 4\n",
        "Shooting backward from frame 10\n",
        "Proposal probability"
       ]
      },
      {
       "output_type": "stream",
       "stream": "stdout",
       "text": [
        " 1.0 / random : 0.0523126868896\n",
        "6 Ensemble: 1   failsteps= 5\n",
        "Shooting backward from frame 9\n",
        "Proposal probability"
       ]
      },
      {
       "output_type": "stream",
       "stream": "stdout",
       "text": [
        " 0.92 / random : 0.368465321857\n",
        "7 Ensemble: 1   failsteps= 6\n",
        "Shooting backward from frame 1\n",
        "Proposal probability 1.0 / random : 0.241200021415\n",
        "8 Ensemble: 1   failsteps= 7\n",
        "Shooting backward from frame 21\n",
        "Proposal probability"
       ]
      },
      {
       "output_type": "stream",
       "stream": "stdout",
       "text": [
        " 1.92307692308 / random : 0.0560121587932\n",
        "9 Ensemble: 1   failsteps= 8\n",
        "Shooting forward from frame 11\n",
        "Proposal probability 0.928571428571 / random : 0.123460371769\n",
        "10 Ensemble: 1   failsteps= 9\n",
        "Shooting backward from frame 2\n",
        "Proposal probability"
       ]
      },
      {
       "output_type": "stream",
       "stream": "stdout",
       "text": [
        " 0.56 / random : 0.647953092148\n",
        "11 Ensemble: 1   failsteps= 10\n",
        "Shooting forward from frame 14\n",
        "Proposal probability 1.0 / random : 0.431758108439\n",
        "12 Ensemble: 1   failsteps= 11\n",
        "Shooting forward from frame 1\n",
        "Proposal probability"
       ]
      },
      {
       "output_type": "stream",
       "stream": "stdout",
       "text": [
        " 0.933333333333 / random : 0.714745217237\n",
        "13 Ensemble: 1   failsteps= 12\n",
        "Shooting forward from frame 5\n",
        "Proposal probability 0.833333333333 / random : 0.202557359712\n",
        "14 Ensemble: 1   failsteps= 13\n",
        "Shooting backward from frame 14\n",
        "Proposal probability"
       ]
      },
      {
       "output_type": "stream",
       "stream": "stdout",
       "text": [
        " 1.125 / random : 0.490388543087\n",
        "15 Ensemble: 1   failsteps= 14\n",
        "Shooting backward from frame 4\n",
        "Proposal probability"
       ]
      },
      {
       "output_type": "stream",
       "stream": "stdout",
       "text": [
        " 0.516129032258 / random : 0.930773756716\n",
        "16 Ensemble: 1   failsteps= 15\n",
        "Shooting backward from frame 13\n",
        "Proposal probability 0.888888888889 / random : 0.104086542917\n",
        "17 Ensemble: 1   failsteps= 16\n",
        "Shooting backward from frame 9\n",
        "Proposal probability 1.05882352941 / random : 0.852703402069\n",
        "18"
       ]
      },
      {
       "output_type": "stream",
       "stream": "stdout",
       "text": [
        " Ensemble: 1   failsteps= 17\n",
        "Shooting backward from frame 6\n",
        "Proposal probability 0.809523809524 / random : 0.683052767407\n",
        "19 Ensemble: 1   failsteps= 18\n",
        "Shooting forward from frame 10\n",
        "Proposal probability"
       ]
      },
      {
       "output_type": "stream",
       "stream": "stdout",
       "text": [
        " 1.0 / random : 0.980653615983\n",
        "20 Ensemble: 1   failsteps= 19\n",
        "Shooting forward from frame 20\n",
        "Proposal probability 1.0 / random : 0.717023373848\n",
        "21 Ensemble: 1   failsteps= 20\n",
        "Shooting forward from frame 3\n",
        "Proposal probability"
       ]
      },
      {
       "output_type": "stream",
       "stream": "stdout",
       "text": [
        " 1.05 / random : 0.293508412147\n",
        "22 Ensemble: 1   failsteps= 21\n",
        "Shooting backward from frame 14\n",
        "Proposal probability"
       ]
      },
      {
       "output_type": "stream",
       "stream": "stdout",
       "text": [
        " 1.11111111111 / random : 0.679442323328\n",
        "23 Ensemble: 1   failsteps= 22\n",
        "Shooting backward from frame 5\n",
        "Proposal probability 0.947368421053 / random : 0.136518778322\n",
        "24 Ensemble: 1   failsteps= 23\n",
        "Shooting backward from frame 12\n",
        "Proposal probability"
       ]
      },
      {
       "output_type": "stream",
       "stream": "stdout",
       "text": [
        " 0.95 / random : 0.527505512269\n",
        "25 Ensemble: 1   failsteps= 24\n",
        "Shooting backward from frame 5\n",
        "Proposal probability 1.05263157895 / random : 0.25713981424\n",
        "26 Ensemble: 1   failsteps= 25\n",
        "Shooting forward from frame 11\n",
        "Proposal probability 0.904761904762 / random : 0.97096284612\n",
        "27"
       ]
      },
      {
       "output_type": "stream",
       "stream": "stdout",
       "text": [
        " Ensemble: 1   failsteps= 26\n",
        "Shooting forward from frame 8\n",
        "Proposal probability 1.0 / random : 0.28750180171\n",
        "28 Ensemble: 1   failsteps= 27\n",
        "Shooting forward from frame 14\n",
        "Proposal probability"
       ]
      },
      {
       "output_type": "stream",
       "stream": "stdout",
       "text": [
        " 1.0 / random : 0.469707228277\n",
        "29 Ensemble: 1   failsteps= 28\n",
        "Shooting forward from frame 11\n",
        "Proposal probability 1.11764705882 / random : 0.685628169488\n",
        "30 Ensemble: 1   failsteps= 29\n",
        "Shooting backward from frame 14\n",
        "Proposal probability"
       ]
      },
      {
       "output_type": "stream",
       "stream": "stdout",
       "text": [
        " 1.0 / random : 0.208084209863\n",
        "31 Ensemble: 1   failsteps= 30\n",
        "Shooting forward from frame 10\n",
        "Proposal probability 0.894736842105 / random : 0.965688033282\n",
        "32"
       ]
      },
      {
       "output_type": "stream",
       "stream": "stdout",
       "text": [
        " Ensemble: 1   failsteps= 31\n",
        "Shooting forward from frame 2\n",
        "33"
       ]
      },
      {
       "output_type": "stream",
       "stream": "stdout",
       "text": [
        " Ensemble: 1   failsteps= 32\n",
        "Shooting backward from frame 2\n",
        "Proposal probability"
       ]
      },
      {
       "output_type": "stream",
       "stream": "stdout",
       "text": [
        " 0.548387096774 / random : 0.750406580499\n",
        "34 Ensemble: 1   failsteps= 33\n",
        "Shooting forward from frame 5\n",
        "Proposal probability"
       ]
      },
      {
       "output_type": "stream",
       "stream": "stdout",
       "text": [
        " 1.0625 / random : 0.888545294304\n",
        "35 Ensemble: 1   failsteps= 34\n",
        "Shooting backward from frame 5\n",
        "Proposal probability"
       ]
      },
      {
       "output_type": "stream",
       "stream": "stdout",
       "text": [
        " 1.0 / random : 0.525016449463\n",
        "36 Ensemble: 1   failsteps= 35\n",
        "Shooting backward from frame 13\n",
        "Proposal probability"
       ]
      },
      {
       "output_type": "stream",
       "stream": "stdout",
       "text": [
        " 0.888888888889 / random : 0.552823193484\n",
        "37 Ensemble: 1   failsteps= 36\n",
        "Shooting forward from frame 16\n",
        "Proposal probability 1.0 / random : 0.00883757448688\n",
        "38 Ensemble: 1   failsteps= 37\n",
        "Shooting backward from frame 18\n",
        "Proposal probability"
       ]
      },
      {
       "output_type": "stream",
       "stream": "stdout",
       "text": [
        " 0.947368421053 / random : 0.306692890524\n",
        "39 Ensemble: 1   failsteps= 38\n",
        "Shooting backward from frame 18\n",
        "40 Ensemble: 1   failsteps= 39\n",
        "Shooting backward from frame 18\n",
        "41 Ensemble: 1   failsteps= 40\n",
        "Shooting backward from frame 7\n",
        "Proposal probability"
       ]
      },
      {
       "output_type": "stream",
       "stream": "stdout",
       "text": [
        " 0.95 / random : 0.887643685924\n",
        "42 Ensemble: 1   failsteps= 41\n",
        "Shooting forward from frame 19\n",
        "Proposal probability"
       ]
      },
      {
       "output_type": "stream",
       "stream": "stdout",
       "text": [
        " 0.555555555556 / random : 0.440618991851\n",
        "43 Ensemble: 1   failsteps= 42\n",
        "Shooting backward from frame 18\n",
        "Proposal probability"
       ]
      },
      {
       "output_type": "stream",
       "stream": "stdout",
       "text": [
        " 1.2 / random : 0.14942873225\n",
        "44 Ensemble: 1   failsteps= 43\n",
        "Shooting forward from frame 22\n",
        "Proposal probability"
       ]
      },
      {
       "output_type": "stream",
       "stream": "stdout",
       "text": [
        " 1.0 / random : 0.108823288493\n",
        "45 Ensemble: 1   failsteps= 44\n",
        "Shooting forward from frame 10\n",
        "Proposal probability"
       ]
      },
      {
       "output_type": "stream",
       "stream": "stdout",
       "text": [
        " 1.5 / random : 0.749920066872\n",
        "46 Ensemble: 1   failsteps= 45\n",
        "Shooting backward from frame 11\n",
        "Proposal probability"
       ]
      },
      {
       "output_type": "stream",
       "stream": "stdout",
       "text": [
        " 1.05263157895 / random : 0.746563858479\n",
        "47 Ensemble: 1   failsteps= 46\n",
        "Shooting backward from frame 18\n",
        "Proposal probability 1.0 / random : 0.675284819594\n",
        "48 Ensemble: 1   failsteps= 47\n",
        "Shooting backward from frame 17\n",
        "Proposal probability"
       ]
      },
      {
       "output_type": "stream",
       "stream": "stdout",
       "text": [
        " 0.95 / random : 0.765045722179\n",
        "49 Ensemble: 1   failsteps= 48\n",
        "Shooting backward from frame 11\n",
        "Proposal probability 1.17647058824 / random : 0.70049320597\n",
        "50 Ensemble: 1   failsteps= 49\n",
        "Shooting backward from frame 7\n",
        "Proposal probability"
       ]
      },
      {
       "output_type": "stream",
       "stream": "stdout",
       "text": [
        " 0.894736842105 / random : 0.344934933512\n",
        "51 Ensemble: 1   failsteps= 50\n",
        "Shooting forward from frame 5\n",
        "Proposal probability"
       ]
      },
      {
       "output_type": "stream",
       "stream": "stdout",
       "text": [
        " 0.95 / random : 0.834427674535\n",
        "52 Ensemble: 1   failsteps= 51\n",
        "Shooting forward from frame 19\n",
        "Proposal probability 1.0 / random : 0.604845128893\n",
        "53 Ensemble: 1   failsteps= 52\n",
        "Shooting backward from frame 18\n",
        "Proposal probability"
       ]
      },
      {
       "output_type": "stream",
       "stream": "stdout",
       "text": [
        " 1.05263157895 / random : 0.697040775322\n",
        "54 Ensemble: 2   failsteps= 0\n",
        "Shooting forward from frame 9\n",
        "Proposal probability 1.0 / random : 0.500807687994\n",
        "55 Ensemble: 2   failsteps= 1\n",
        "Shooting forward from frame 7\n",
        "Proposal probability"
       ]
      },
      {
       "output_type": "stream",
       "stream": "stdout",
       "text": [
        " 0.791666666667 / random : 0.729574285771\n",
        "56 Ensemble: 2   failsteps= 2\n",
        "Shooting forward from frame 8\n",
        "Proposal probability 1.14285714286 / random : 0.486232822223\n",
        "57 Ensemble: 2   failsteps= 3\n",
        "Shooting backward from frame 15\n",
        "Proposal probability"
       ]
      },
      {
       "output_type": "stream",
       "stream": "stdout",
       "text": [
        " 1.16666666667 / random : 0.737056546877\n",
        "58 Ensemble: 2   failsteps= 4\n",
        "Shooting forward from frame 15\n",
        "Proposal probability 1.0 / random : 0.293028906098\n",
        "59 Ensemble: 2   failsteps= 5\n",
        "Shooting backward from frame 10\n",
        "Proposal probability"
       ]
      },
      {
       "output_type": "stream",
       "stream": "stdout",
       "text": [
        " 1.0 / random : 0.20101716797\n",
        "60 Ensemble: 2   failsteps= 6\n",
        "Shooting backward from frame 10\n",
        "Proposal probability 0.947368421053 / random : 0.790175088458\n",
        "61 Ensemble: 2   failsteps= 7\n",
        "Shooting forward from frame 16\n",
        "Proposal probability 1.0 / random : 0.660994755844\n",
        "62 Ensemble: 2   failsteps= 8\n",
        "Shooting backward from frame 11\n",
        "Proposal probability"
       ]
      },
      {
       "output_type": "stream",
       "stream": "stdout",
       "text": [
        " 1.05555555556 / random : 0.625727092444\n",
        "63 Ensemble: 2   failsteps= 9\n",
        "Shooting forward from frame 14\n",
        "Proposal probability 0.947368421053 / random : 0.756765485234\n",
        "64 Ensemble: 2   failsteps= 10\n",
        "Shooting forward from frame 18\n",
        "Proposal probability 1.0 / random : 0.0491559240635\n",
        "65 Ensemble: 2   failsteps= 11\n",
        "Shooting forward from frame 2\n",
        "66 Ensemble: 2   failsteps= 12\n",
        "Shooting backward from frame 1\n",
        "Proposal probability 1.0 / random : 0.793409963088\n",
        "67"
       ]
      },
      {
       "output_type": "stream",
       "stream": "stdout",
       "text": [
        " Ensemble: 2   failsteps= 13\n",
        "Shooting forward from frame 2\n",
        "68 Ensemble: 2   failsteps= 14\n",
        "Shooting forward from frame 17\n",
        "Proposal probability 1.0 / random : 0.0612787746657\n",
        "69 Ensemble: 2   failsteps= 15\n",
        "Shooting backward from frame 8\n",
        "Proposal probability"
       ]
      },
      {
       "output_type": "stream",
       "stream": "stdout",
       "text": [
        " 0.826086956522 / random : 0.615092425932\n",
        "70 Ensemble: 2   failsteps= 16\n",
        "Shooting forward from frame 16\n",
        "Proposal probability"
       ]
      },
      {
       "output_type": "stream",
       "stream": "stdout",
       "text": [
        " 0.821428571429 / random : 0.149241355771\n",
        "71 Ensemble: 2   failsteps= 17\n",
        "Shooting forward from frame 22\n",
        "Proposal probability 0.965517241379 / random : 0.098575636079\n",
        "72 Ensemble: 2   failsteps= 18\n",
        "Shooting backward from frame 14\n",
        "Proposal probability"
       ]
      },
      {
       "output_type": "stream",
       "stream": "stdout",
       "text": [
        " 1.16 / random : 0.844784877938\n",
        "73 Ensemble: 2   failsteps= 19\n",
        "Shooting forward from frame 20\n",
        "Proposal probability 1.0 / random : 0.611835425916\n",
        "74 Ensemble: 2   failsteps= 20\n",
        "Shooting forward from frame 12\n",
        "Proposal probability"
       ]
      },
      {
       "output_type": "stream",
       "stream": "stdout",
       "text": [
        " 1.08695652174 / random : 0.89864874182\n",
        "75 Ensemble: 2   failsteps= 21\n",
        "Shooting forward from frame 17\n",
        "Proposal probability 0.958333333333 / random : 0.265275661922\n",
        "76"
       ]
      },
      {
       "output_type": "stream",
       "stream": "stdout",
       "text": [
        " Ensemble: 2   failsteps= 22\n",
        "Shooting forward from frame 13\n",
        "Proposal probability 1.04347826087 / random : 0.0995123762889\n",
        "77 Ensemble: 2   failsteps= 23\n",
        "Shooting backward from frame 21\n",
        "78"
       ]
      },
      {
       "output_type": "stream",
       "stream": "stdout",
       "text": [
        " Ensemble: 2   failsteps= 24\n",
        "Shooting backward from frame 10\n",
        "Proposal probability 0.958333333333 / random : 0.970107402197\n",
        "79 Ensemble: 2   failsteps= 25\n",
        "Shooting forward from frame 3\n",
        "80"
       ]
      },
      {
       "output_type": "stream",
       "stream": "stdout",
       "text": [
        " Ensemble: 2   failsteps= 26\n",
        "Shooting backward from frame 7\n",
        "Proposal probability 1.0 / random : 0.379146689386\n",
        "81 Ensemble: 2   failsteps= 27\n",
        "Shooting backward from frame 20\n",
        "Proposal probability"
       ]
      },
      {
       "output_type": "stream",
       "stream": "stdout",
       "text": [
        " 1.04545454545 / random : 0.694838216253\n",
        "82 Ensemble: 2   failsteps= 28\n",
        "Shooting forward from frame 10\n",
        "Proposal probability 1.22222222222 / random : 0.687928414644\n",
        "83 Ensemble: 2   failsteps= 29\n",
        "Shooting backward from frame 6\n",
        "Proposal probability"
       ]
      },
      {
       "output_type": "stream",
       "stream": "stdout",
       "text": [
        " 0.692307692308 / random : 0.531662867982\n",
        "84 Ensemble: 2   failsteps= 30\n",
        "Shooting forward from frame 20\n",
        "Proposal probability 1.0 / random : 0.477933726493\n",
        "85 Ensemble: 2   failsteps= 31\n",
        "Shooting forward from frame 18\n",
        "Proposal probability"
       ]
      },
      {
       "output_type": "stream",
       "stream": "stdout",
       "text": [
        " 1.0 / random : 0.135669300445\n",
        "86 Ensemble: 2   failsteps= 32\n",
        "Shooting backward from frame 8\n",
        "Proposal probability"
       ]
      },
      {
       "output_type": "stream",
       "stream": "stdout",
       "text": [
        " 0.8125 / random : 0.283487664296\n",
        "87 Ensemble: 2   failsteps= 33\n",
        "Shooting backward from frame 20\n",
        "Proposal probability 1.88235294118 / random : 0.34785563208\n",
        "88 Ensemble: 2   failsteps= 34\n",
        "Shooting backward from frame 11\n",
        "Proposal probability 0.944444444444 / random : 0.25296850009\n",
        "89"
       ]
      },
      {
       "output_type": "stream",
       "stream": "stdout",
       "text": [
        " Ensemble: 2   failsteps= 35\n",
        "Shooting backward from frame 8\n",
        "Proposal probability 0.857142857143 / random : 0.715445732444\n",
        "90 Ensemble: 2   failsteps= 36\n",
        "Shooting backward from frame 16\n",
        "Proposal probability"
       ]
      },
      {
       "output_type": "stream",
       "stream": "stdout",
       "text": [
        " 1.16666666667 / random : 0.324207950715\n",
        "91 Ensemble: 2   failsteps= 37\n",
        "Shooting forward from frame 4\n",
        "92 Ensemble: 2   failsteps= 38\n",
        "Shooting forward from frame 2\n",
        "93 Ensemble: 2   failsteps= 39\n",
        "Shooting backward from frame 13\n",
        "Proposal probability"
       ]
      },
      {
       "output_type": "stream",
       "stream": "stdout",
       "text": [
        " 0.857142857143 / random : 0.999460502074\n",
        "94 Ensemble: 2   failsteps= 40\n",
        "Shooting backward from frame 2\n",
        "Proposal probability"
       ]
      },
      {
       "output_type": "stream",
       "stream": "stdout",
       "text": [
        " 0.529411764706 / random : 0.791329479879\n",
        "95 Ensemble: 2   failsteps= 41\n",
        "Shooting backward from frame 17\n",
        "96"
       ]
      },
      {
       "output_type": "stream",
       "stream": "stdout",
       "text": [
        " Ensemble: 2   failsteps= 42\n",
        "Shooting backward from frame 16\n",
        "97"
       ]
      },
      {
       "output_type": "stream",
       "stream": "stdout",
       "text": [
        " Ensemble: 2   failsteps= 43\n",
        "Shooting forward from frame 6\n",
        "98"
       ]
      },
      {
       "output_type": "stream",
       "stream": "stdout",
       "text": [
        " Ensemble: 2   failsteps= 44\n",
        "Shooting forward from frame 11\n",
        "Proposal probability"
       ]
      },
      {
       "output_type": "stream",
       "stream": "stdout",
       "text": [
        " 1.0 / random : 0.743361082631\n",
        "99 Ensemble: 2   failsteps= 45\n",
        "Shooting backward from frame 4\n",
        "Proposal probability"
       ]
      },
      {
       "output_type": "stream",
       "stream": "stdout",
       "text": [
        " 0.642857142857 / random : 0.937594234071\n",
        "100 Ensemble: 2   failsteps= 46\n",
        "Shooting forward from frame 9\n",
        "Proposal probability"
       ]
      },
      {
       "output_type": "stream",
       "stream": "stdout",
       "text": [
        " 1.0 / random : 0.171764362681\n",
        "101 Ensemble: 2   failsteps= 47\n",
        "Shooting forward from frame 14\n",
        "Proposal probability 1.05882352941 / random : 0.248626506797\n",
        "102 Ensemble: 2   failsteps= 48\n",
        "Shooting forward from frame 11\n",
        "Proposal probability"
       ]
      },
      {
       "output_type": "stream",
       "stream": "stdout",
       "text": [
        " 0.85 / random : 0.432833753992\n",
        "103 Ensemble: 2   failsteps= 49\n",
        "Shooting forward from frame 6\n",
        "104"
       ]
      },
      {
       "output_type": "stream",
       "stream": "stdout",
       "text": [
        " Ensemble: 2   failsteps= 50\n",
        "Shooting backward from frame 2\n",
        "Proposal probability"
       ]
      },
      {
       "output_type": "stream",
       "stream": "stdout",
       "text": [
        " 0.555555555556 / random : 0.166689160654\n",
        "105 Ensemble: 2   failsteps= 51\n",
        "Shooting backward from frame 10\n",
        "Proposal probability"
       ]
      },
      {
       "output_type": "stream",
       "stream": "stdout",
       "text": [
        " 0.972972972973 / random : 0.668661896303\n",
        "106 Ensemble: 2   failsteps= 52\n",
        "Shooting backward from frame 6\n",
        "Proposal probability"
       ]
      },
      {
       "output_type": "stream",
       "stream": "stdout",
       "text": [
        " 0.74 / random : 0.352851632145\n",
        "107 Ensemble: 2   failsteps= 53\n",
        "Shooting backward from frame 49\n",
        "108"
       ]
      },
      {
       "output_type": "stream",
       "stream": "stdout",
       "text": [
        " Ensemble: 2   failsteps= 54\n",
        "Shooting backward from frame 37\n",
        "Proposal probability 2.5 / random : 0.717244491945\n",
        "109 Ensemble: 2   failsteps= 55\n",
        "Shooting backward from frame 5\n",
        "Proposal probability"
       ]
      },
      {
       "output_type": "stream",
       "stream": "stdout",
       "text": [
        " 1.0 / random : 0.652079759382\n",
        "110 Ensemble: 2   failsteps= 56\n",
        "Shooting forward from frame 17\n",
        "Proposal probability 1.05263157895 / random : 0.84250646341\n",
        "111 Ensemble: 2   failsteps= 57\n",
        "Shooting forward from frame 14\n",
        "Proposal probability"
       ]
      },
      {
       "output_type": "stream",
       "stream": "stdout",
       "text": [
        " 1.0 / random : 0.471053556501\n",
        "112 Ensemble: 2   failsteps= 58\n",
        "Shooting backward from frame 15\n",
        "113"
       ]
      },
      {
       "output_type": "stream",
       "stream": "stdout",
       "text": [
        " Ensemble: 2   failsteps= 59\n",
        "Shooting backward from frame 14\n",
        "114"
       ]
      },
      {
       "output_type": "stream",
       "stream": "stdout",
       "text": [
        " Ensemble: 2   failsteps= 60\n",
        "Shooting backward from frame 18\n",
        "115"
       ]
      },
      {
       "output_type": "stream",
       "stream": "stdout",
       "text": [
        " Ensemble: 2   failsteps= 61\n",
        "Shooting backward from frame 6\n",
        "Proposal probability"
       ]
      },
      {
       "output_type": "stream",
       "stream": "stdout",
       "text": [
        " 0.678571428571 / random : 0.760403677997\n",
        "116 Ensemble: 2   failsteps= 62\n",
        "Shooting forward from frame 10\n",
        "Proposal probability 1.11764705882 / random : 0.659340695959\n",
        "117 Ensemble: 2   failsteps= 63\n",
        "Shooting forward from frame 1\n",
        "Proposal probability"
       ]
      },
      {
       "output_type": "stream",
       "stream": "stdout",
       "text": [
        " 0.772727272727 / random : 0.229552026844\n",
        "118"
       ]
      },
      {
       "output_type": "stream",
       "stream": "stdout",
       "text": [
        " Ensemble: 2   failsteps= 64\n",
        "Shooting forward from frame 8\n",
        "Proposal probability"
       ]
      },
      {
       "output_type": "stream",
       "stream": "stdout",
       "text": [
        " 1.15789473684 / random : 0.406428011812\n",
        "119 Ensemble: 2   failsteps= 65\n",
        "Shooting backward from frame 2\n",
        "Proposal probability 1.0 / random : 0.391238535019\n",
        "120 Ensemble: 2   failsteps= 66\n",
        "Shooting backward from frame 4\n",
        "Proposal probability 1.0 / random : 0.899400513745\n",
        "121"
       ]
      },
      {
       "output_type": "stream",
       "stream": "stdout",
       "text": [
        " Ensemble: 2   failsteps= 67\n",
        "Shooting forward from frame 3\n",
        "Proposal probability"
       ]
      },
      {
       "output_type": "stream",
       "stream": "stdout",
       "text": [
        " 0.863636363636 / random : 0.607019131707\n",
        "122 Ensemble: 2   failsteps= 68\n",
        "Shooting forward from frame 7\n",
        "Proposal probability"
       ]
      },
      {
       "output_type": "stream",
       "stream": "stdout",
       "text": [
        " 1.22222222222 / random : 0.918754291059\n",
        "123 Ensemble: 2   failsteps= 69\n",
        "Shooting forward from frame 12\n",
        "Proposal probability"
       ]
      },
      {
       "output_type": "stream",
       "stream": "stdout",
       "text": [
        " 1.0 / random : 0.0282335055441\n",
        "124 Ensemble: 2   failsteps= 70\n",
        "Shooting forward from frame 2\n",
        "125 Ensemble: 2   failsteps= 71\n",
        "Shooting backward from frame 8\n",
        "Proposal probability 1.0 / random : 0.820287799253\n",
        "126 Ensemble: 2   failsteps= 72\n",
        "Shooting forward from frame 16\n",
        "Proposal probability 1.0 / random : 0.49898103359\n",
        "127"
       ]
      },
      {
       "output_type": "stream",
       "stream": "stdout",
       "text": [
        " Ensemble: 2   failsteps= 73\n",
        "Shooting forward from frame 7\n",
        "Proposal probability 0.947368421053 / random : 0.383516446096\n",
        "128 Ensemble: 2   failsteps= 74\n",
        "Shooting forward from frame 7\n",
        "Proposal probability"
       ]
      },
      {
       "output_type": "stream",
       "stream": "stdout",
       "text": [
        " 1.11764705882 / random : 0.197886451496\n",
        "129 Ensemble: 2   failsteps= 75\n",
        "Shooting forward from frame 9\n",
        "Proposal probability 0.894736842105 / random : 0.678131335534\n",
        "130"
       ]
      },
      {
       "output_type": "stream",
       "stream": "stdout",
       "text": [
        " Ensemble: 2   failsteps= 76\n",
        "Shooting forward from frame 16\n",
        "Proposal probability 1.0 / random : 0.0927178907263\n",
        "131 Ensemble: 2   failsteps= 77\n",
        "Shooting forward from frame 5\n",
        "Proposal probability"
       ]
      },
      {
       "output_type": "stream",
       "stream": "stdout",
       "text": [
        " 0.95 / random : 0.0420759267961\n",
        "132 Ensemble: 2   failsteps= 78\n",
        "Shooting forward from frame 20\n",
        "Proposal probability 1.0 / random : 0.447490078986\n",
        "133"
       ]
      },
      {
       "output_type": "stream",
       "stream": "stdout",
       "text": [
        " Ensemble: 2   failsteps= 79\n",
        "Shooting forward from frame 8\n",
        "Proposal probability"
       ]
      },
      {
       "output_type": "stream",
       "stream": "stdout",
       "text": [
        " 1.0 / random : 0.501596383403\n",
        "134 Ensemble: 2   failsteps= 80\n",
        "Shooting forward from frame 18\n",
        "Proposal probability"
       ]
      },
      {
       "output_type": "stream",
       "stream": "stdout",
       "text": [
        " 1.0 / random : 0.595144005818\n",
        "135 Ensemble: 2   failsteps= 81\n",
        "Shooting backward from frame 11\n",
        "Proposal probability"
       ]
      },
      {
       "output_type": "stream",
       "stream": "stdout",
       "text": [
        " 0.909090909091 / random : 0.482129847236\n",
        "136 Ensemble: 2   failsteps= 82\n",
        "Shooting backward from frame 12\n",
        "Proposal probability 1.04761904762 / random : 0.637103061585\n",
        "137 Ensemble: 2   failsteps= 83\n",
        "Shooting backward from frame 5\n",
        "Proposal probability"
       ]
      },
      {
       "output_type": "stream",
       "stream": "stdout",
       "text": [
        " 1.0 / random : 0.106203553613\n",
        "138 Ensemble: 2   failsteps= 84\n",
        "Shooting forward from frame 12\n",
        "Proposal probability 1.0 / random : 0.994042249714\n",
        "139 Ensemble: 2   failsteps= 85\n",
        "Shooting forward from frame 14\n",
        "Proposal probability"
       ]
      },
      {
       "output_type": "stream",
       "stream": "stdout",
       "text": [
        " 0.954545454545 / random : 0.132349732861\n",
        "140 Ensemble: 2   failsteps= 86\n",
        "Shooting backward from frame 6\n",
        "Proposal probability 0.709677419355 / random : 0.964720234185\n",
        "141"
       ]
      },
      {
       "output_type": "stream",
       "stream": "stdout",
       "text": [
        " Ensemble: 2   failsteps= 87\n",
        "Shooting forward from frame 20\n",
        "Proposal probability 1.0 / random : 0.423884864152\n",
        "142 Ensemble: 2   failsteps= 88\n",
        "Shooting backward from frame 19\n",
        "143"
       ]
      },
      {
       "output_type": "stream",
       "stream": "stdout",
       "text": [
        " Ensemble: 2   failsteps= 89\n",
        "Shooting backward from frame 6\n",
        "Proposal probability"
       ]
      },
      {
       "output_type": "stream",
       "stream": "stdout",
       "text": [
        " 0.709677419355 / random : 0.0505610027299\n",
        "144 Ensemble: 2   failsteps= 90\n",
        "Shooting forward from frame 20\n",
        "Proposal probability"
       ]
      },
      {
       "output_type": "stream",
       "stream": "stdout",
       "text": [
        " 1.03333333333 / random : 0.464505077129\n",
        "145 Ensemble: 2   failsteps= 91\n",
        "Shooting forward from frame 2\n",
        "146 Ensemble: 2   failsteps= 92\n",
        "Shooting forward from frame 28\n",
        "Proposal probability 1.0 / random : 0.664569366045\n",
        "147"
       ]
      },
      {
       "output_type": "stream",
       "stream": "stdout",
       "text": [
        " Ensemble: 2   failsteps= 93\n",
        "Shooting forward from frame 29\n",
        "Proposal probability 1.0 / random : 0.673883855157\n",
        "148 Ensemble: 2   failsteps= 94\n",
        "Shooting backward from frame 27\n",
        "149"
       ]
      },
      {
       "output_type": "stream",
       "stream": "stdout",
       "text": [
        " Ensemble: 2   failsteps= 95\n",
        "Shooting backward from frame 8\n",
        "Proposal probability"
       ]
      },
      {
       "output_type": "stream",
       "stream": "stdout",
       "text": [
        " 0.857142857143 / random : 0.24700065954\n",
        "150 Ensemble: 2   failsteps= 96\n",
        "Shooting backward from frame 27\n",
        "Proposal probability 1.84210526316 / random : 0.483147863493\n",
        "151"
       ]
      },
      {
       "output_type": "stream",
       "stream": "stdout",
       "text": [
        " Ensemble: 2   failsteps= 97\n",
        "Shooting forward from frame 4\n",
        "152 Ensemble: 2   failsteps= 98\n",
        "Shooting forward from frame 9\n",
        "Proposal probability"
       ]
      },
      {
       "output_type": "stream",
       "stream": "stdout",
       "text": [
        " 1.05555555556 / random : 0.0316521606214\n",
        "153 Ensemble: 2   failsteps= 99\n",
        "Shooting backward from frame 2\n",
        "Proposal probability"
       ]
      },
      {
       "output_type": "stream",
       "stream": "stdout",
       "text": [
        " 0.473684210526 / random : 0.539270995663\n",
        "154 Ensemble: 2   failsteps= 100\n",
        "Shooting backward from frame 17\n",
        "Proposal probability"
       ]
      },
      {
       "output_type": "stream",
       "stream": "stdout",
       "text": [
        " 0.818181818182 / random : 0.224712480376\n",
        "155 Ensemble: 2   failsteps= 101\n",
        "Shooting backward from frame 21\n",
        "Proposal probability"
       ]
      },
      {
       "output_type": "stream",
       "stream": "stdout",
       "text": [
        " 1.15789473684 / random : 0.0298919768628\n",
        "156 Ensemble: 2   failsteps= 102\n",
        "Shooting forward from frame 9\n",
        "Proposal probability"
       ]
      },
      {
       "output_type": "stream",
       "stream": "stdout",
       "text": [
        " 0.826086956522 / random : 0.429330807204\n",
        "157 Ensemble: 2   failsteps= 103\n",
        "Shooting backward from frame 7\n",
        "Proposal probability 0.958333333333 / random : 0.900090719417\n",
        "158"
       ]
      },
      {
       "output_type": "stream",
       "stream": "stdout",
       "text": [
        " Ensemble: 2   failsteps= 104\n",
        "Shooting forward from frame 14\n",
        "Proposal probability"
       ]
      },
      {
       "output_type": "stream",
       "stream": "stdout",
       "text": [
        " 1.09090909091 / random : 0.434367453337\n",
        "159 Ensemble: 2   failsteps= 105\n",
        "Shooting forward from frame 22\n",
        "Proposal probability 1.0 / random : 0.262805426282\n",
        "160 Ensemble: 2   failsteps= 106\n",
        "Shooting backward from frame 7\n",
        "Proposal probability"
       ]
      },
      {
       "output_type": "stream",
       "stream": "stdout",
       "text": [
        " 1.0 / random : 0.96432596747\n",
        "161 Ensemble: 2   failsteps= 107\n",
        "Shooting forward from frame 22\n",
        "Proposal probability 1.0 / random : 0.386045820604\n",
        "162 Ensemble: 2   failsteps= 108\n",
        "Shooting forward from frame 18\n",
        "Proposal probability"
       ]
      },
      {
       "output_type": "stream",
       "stream": "stdout",
       "text": [
        " 1.0 / random : 0.616669452086\n",
        "163 Ensemble: 2   failsteps= 109\n",
        "Shooting backward from frame 7\n",
        "Proposal probability 1.0 / random : 0.170285728729\n",
        "164 Ensemble: 2   failsteps= 110\n",
        "Shooting forward from frame 20\n",
        "Proposal probability"
       ]
      },
      {
       "output_type": "stream",
       "stream": "stdout",
       "text": [
        " 1.0 / random : 0.115151243646\n",
        "165 Ensemble: 2   failsteps= 111\n",
        "Shooting forward from frame 9\n",
        "Proposal probability 1.375 / random : 0.0917206050064\n",
        "166 Ensemble: 2   failsteps= 112\n",
        "Shooting forward from frame 4\n",
        "167"
       ]
      },
      {
       "output_type": "stream",
       "stream": "stdout",
       "text": [
        " Ensemble: 2   failsteps= 113\n",
        "Shooting forward from frame 8\n",
        "Proposal probability 1.14285714286 / random : 0.782148538072\n",
        "168 Ensemble: 2   failsteps= 114\n",
        "Shooting forward from frame 9\n",
        "Proposal probability 1.0 / random : 0.759861409782\n",
        "169"
       ]
      },
      {
       "output_type": "stream",
       "stream": "stdout",
       "text": [
        " Ensemble: 2   failsteps= 115\n",
        "Shooting forward from frame 11\n",
        "Proposal probability 1.0 / random : 0.885418334145\n",
        "170 Ensemble: 2   failsteps= 116\n",
        "Shooting backward from frame 2\n",
        "Proposal probability"
       ]
      },
      {
       "output_type": "stream",
       "stream": "stdout",
       "text": [
        " 0.4375 / random : 0.855286334021\n",
        "171 Ensemble: 2   failsteps= 117\n",
        "Shooting forward from frame 11\n",
        "Proposal probability 1.0 / random : 0.000966050400683\n",
        "172 Ensemble: 2   failsteps= 118\n",
        "Shooting forward from frame 1\n",
        "173"
       ]
      },
      {
       "output_type": "stream",
       "stream": "stdout",
       "text": [
        " Ensemble: 2   failsteps= 119\n",
        "Shooting backward from frame 2\n",
        "Proposal probability"
       ]
      },
      {
       "output_type": "stream",
       "stream": "stdout",
       "text": [
        " 0.451612903226 / random : 0.150982033231\n",
        "174 Ensemble: 2   failsteps= 120\n",
        "Shooting forward from frame 13\n",
        "Proposal probability 1.55 / random : 0.687179399948\n",
        "175"
       ]
      },
      {
       "output_type": "stream",
       "stream": "stdout",
       "text": [
        " Ensemble: 2   failsteps= 121\n",
        "Shooting backward from frame 1\n",
        "Proposal probability 1.0 / random : 0.975806339372\n",
        "176 Ensemble: 2   failsteps= 122\n",
        "Shooting backward from frame 15\n",
        "Proposal probability"
       ]
      },
      {
       "output_type": "stream",
       "stream": "stdout",
       "text": [
        " 0.952380952381 / random : 0.472164316632\n",
        "177 Ensemble: 2   failsteps= 123\n",
        "Shooting forward from frame 15\n",
        "Proposal probability"
       ]
      },
      {
       "output_type": "stream",
       "stream": "stdout",
       "text": [
        " 0.954545454545 / random : 0.178297603231\n",
        "178 Ensemble: 2   failsteps= 124\n",
        "Shooting backward from frame 14\n",
        "Proposal probability"
       ]
      },
      {
       "output_type": "stream",
       "stream": "stdout",
       "text": [
        " 1.29411764706 / random : 0.681415961627\n",
        "179 Ensemble: 2   failsteps= 125\n",
        "Shooting forward from frame 7\n",
        "Proposal probability"
       ]
      },
      {
       "output_type": "stream",
       "stream": "stdout",
       "text": [
        " 0.85 / random : 0.184247508157\n",
        "180 Ensemble: 2   failsteps= 126\n",
        "Shooting forward from frame 6\n",
        "181"
       ]
      },
      {
       "output_type": "stream",
       "stream": "stdout",
       "text": [
        " Ensemble: 2   failsteps= 127\n",
        "Shooting forward from frame 4\n",
        "182 Ensemble: 2   failsteps= 128\n",
        "Shooting forward from frame 11\n",
        "Proposal probability"
       ]
      },
      {
       "output_type": "stream",
       "stream": "stdout",
       "text": [
        " 0.952380952381 / random : 0.309097134191\n",
        "183 Ensemble: 2   failsteps= 129\n",
        "Shooting forward from frame 2\n",
        "184 Ensemble: 2   failsteps= 130\n",
        "Shooting backward from frame 7\n",
        "Proposal probability"
       ]
      },
      {
       "output_type": "stream",
       "stream": "stdout",
       "text": [
        " 1.05 / random : 0.657117613396\n",
        "185 Ensemble: 2   failsteps= 131\n",
        "Shooting backward from frame 3\n",
        "Proposal probability 0.952380952381 / random : 0.260954303188\n",
        "186 Ensemble: 2   failsteps= 132\n",
        "Shooting backward from frame 21\n",
        "Proposal probability"
       ]
      },
      {
       "output_type": "stream",
       "stream": "stdout",
       "text": [
        " 0.954545454545 / random : 0.742274087425\n",
        "187 Ensemble: 2   failsteps= 133\n",
        "Shooting forward from frame 9\n",
        "Proposal probability"
       ]
      },
      {
       "output_type": "stream",
       "stream": "stdout",
       "text": [
        " 1.0 / random : 0.0725111271038\n",
        "188 Ensemble: 2   failsteps= 134\n",
        "Shooting backward from frame 5\n",
        "Proposal probability 0.95652173913 / random : 0.0770221578664\n",
        "189 Ensemble: 2   failsteps= 135\n",
        "Shooting forward from frame 22\n",
        "Proposal probability"
       ]
      },
      {
       "output_type": "stream",
       "stream": "stdout",
       "text": [
        " 1.0 / random : 0.153432802502\n",
        "190 Ensemble: 2   failsteps= 136\n",
        "Shooting backward from frame 15\n",
        "Proposal probability"
       ]
      },
      {
       "output_type": "stream",
       "stream": "stdout",
       "text": [
        " 1.09523809524 / random : 0.260430157833\n",
        "191 Ensemble: 2   failsteps= 137\n",
        "Shooting backward from frame 7\n",
        "Proposal probability 1.05 / random : 0.30245143622\n",
        "192 Ensemble: 2   failsteps= 138\n",
        "Shooting forward from frame 15\n",
        "Proposal probability"
       ]
      },
      {
       "output_type": "stream",
       "stream": "stdout",
       "text": [
        " 1.05263157895 / random : 0.817555223779\n",
        "193 Ensemble: 2   failsteps= 139\n",
        "Shooting backward from frame 3\n",
        "Proposal probability 1.0 / random : 0.76231165186\n",
        "194 Ensemble: 2   failsteps= 140\n",
        "Shooting forward from frame 2\n",
        "195 Ensemble: 2   failsteps= 141\n",
        "Shooting backward from frame 13\n",
        "Proposal probability"
       ]
      },
      {
       "output_type": "stream",
       "stream": "stdout",
       "text": [
        " 0.95 / random : 0.0122871084975\n",
        "196 Ensemble: 2   failsteps= 142\n",
        "Shooting forward from frame 14\n",
        "Proposal probability"
       ]
      },
      {
       "output_type": "stream",
       "stream": "stdout",
       "text": [
        " 0.8 / random : 0.85007174054\n",
        "197 Ensemble: 2   failsteps= 143\n",
        "Shooting backward from frame 14\n",
        "Proposal probability 1.53846153846 / random : 0.109782858015\n",
        "198 Ensemble: 2   failsteps= 144\n",
        "Shooting forward from frame 8\n",
        "Proposal probability"
       ]
      },
      {
       "output_type": "stream",
       "stream": "stdout",
       "text": [
        " 1.0 / random : 0.335193836074\n",
        "199 Ensemble: 2   failsteps= 145\n",
        "Shooting forward from frame 2\n",
        "200 Ensemble: 2   failsteps= 146\n",
        "Shooting backward from frame 3\n",
        "Proposal probability 1.0 / random : 0.808800078662\n",
        "201 Ensemble: 2   failsteps= 147\n",
        "Shooting forward from frame 9\n",
        "Proposal probability"
       ]
      },
      {
       "output_type": "stream",
       "stream": "stdout",
       "text": [
        " 1.0 / random : 0.838829900252\n",
        "202 Ensemble: 2   failsteps= 148\n",
        "Shooting backward from frame 1\n",
        "Proposal probability 1.0 / random : 0.926052424713\n",
        "203 Ensemble: 2   failsteps= 149\n",
        "Shooting backward from frame 5\n",
        "Proposal probability"
       ]
      },
      {
       "output_type": "stream",
       "stream": "stdout",
       "text": [
        " 1.0 / random : 0.0980073044623\n",
        "204 Ensemble: 2   failsteps= 150\n",
        "Shooting forward from frame 8\n",
        "Proposal probability 1.08333333333 / random : 0.265933804781\n",
        "205 Ensemble: 2   failsteps= 151\n",
        "Shooting backward from frame 11\n",
        "Proposal probability"
       ]
      },
      {
       "output_type": "stream",
       "stream": "stdout",
       "text": [
        " 0.545454545455 / random : 0.472511739194\n",
        "206 Ensemble: 2   failsteps= 152\n",
        "Shooting backward from frame 11\n",
        "Proposal probability 1.1 / random : 0.747039676092\n",
        "207"
       ]
      },
      {
       "output_type": "stream",
       "stream": "stdout",
       "text": [
        " Ensemble: 2   failsteps= 153\n",
        "Shooting forward from frame 17\n",
        "Proposal probability 0.952380952381 / random : 0.125661115278\n",
        "208 Ensemble: 2   failsteps= 154\n",
        "Shooting forward from frame 4\n",
        "209 Ensemble: 2   failsteps= 155\n",
        "Shooting backward from frame 15\n",
        "Proposal probability"
       ]
      },
      {
       "output_type": "stream",
       "stream": "stdout",
       "text": [
        " 0.954545454545 / random : 0.822585409952\n",
        "210 Ensemble: 2   failsteps= 156\n",
        "Shooting backward from frame 10\n",
        "Proposal probability 0.88 / random : 0.867985275308\n",
        "211 Ensemble: 2   failsteps= 157\n",
        "Shooting backward from frame 4"
       ]
      },
      {
       "output_type": "stream",
       "stream": "stdout",
       "text": [
        "\n",
        "Proposal probability"
       ]
      },
      {
       "output_type": "stream",
       "stream": "stdout",
       "text": [
        " 0.694444444444 / random : 0.512278061187\n",
        "212 Ensemble: 2   failsteps= 158\n",
        "Shooting backward from frame 9\n",
        "Proposal probability 0.972972972973 / random : 0.523937184603\n",
        "213"
       ]
      },
      {
       "output_type": "stream",
       "stream": "stdout",
       "text": [
        " Ensemble: 2   failsteps= 159\n",
        "Shooting forward from frame 32\n",
        "Proposal probability"
       ]
      },
      {
       "output_type": "stream",
       "stream": "stdout",
       "text": [
        " 0.787234042553 / random : 0.515623352371\n",
        "214 Ensemble: 2   failsteps= 160\n",
        "Shooting forward from frame 23\n",
        "Proposal probability"
       ]
      },
      {
       "output_type": "stream",
       "stream": "stdout",
       "text": [
        " 1.34285714286 / random : 0.257563249102\n",
        "215 Ensemble: 2   failsteps= 161\n",
        "Shooting backward from frame 30\n",
        "Proposal probability"
       ]
      },
      {
       "output_type": "stream",
       "stream": "stdout",
       "text": [
        " 1.52173913043 / random : 0.421971727579\n",
        "216 Ensemble: 2   failsteps= 162\n",
        "Shooting backward from frame 4\n",
        "Proposal probability"
       ]
      },
      {
       "output_type": "stream",
       "stream": "stdout",
       "text": [
        " 0.621621621622 / random : 0.667864020828\n",
        "217 Ensemble: 2   failsteps= 163\n",
        "Shooting forward from frame 22\n",
        "Proposal probability 1.0 / random : 0.779972910647\n",
        "218 Ensemble: 2   failsteps= 164\n",
        "Shooting backward from frame 10\n",
        "Proposal probability"
       ]
      },
      {
       "output_type": "stream",
       "stream": "stdout",
       "text": [
        " 0.851851851852 / random : 0.187830046438\n",
        "219 Ensemble: 2   failsteps= 165\n",
        "Shooting backward from frame 8\n",
        "Proposal probability"
       ]
      },
      {
       "output_type": "stream",
       "stream": "stdout",
       "text": [
        " 0.818181818182 / random : 0.93744943553\n",
        "220 Ensemble: 2   failsteps= 166\n",
        "Shooting forward from frame 18\n",
        "Proposal probability"
       ]
      },
      {
       "output_type": "stream",
       "stream": "stdout",
       "text": [
        " 0.84375 / random : 0.621426947906\n",
        "221 Ensemble: 2   failsteps= 167\n",
        "Shooting forward from frame 3\n",
        "Proposal probability"
       ]
      },
      {
       "output_type": "stream",
       "stream": "stdout",
       "text": [
        " 1.52380952381 / random : 0.648665705964\n",
        "222 Ensemble: 2   failsteps= 168\n",
        "Shooting backward from frame 21\n",
        "Proposal probability"
       ]
      },
      {
       "output_type": "stream",
       "stream": "stdout",
       "text": [
        " 0.875 / random : 0.0332191591442\n",
        "223 Ensemble: 3   failsteps= 0\n",
        "Shooting backward from frame 8\n",
        "Proposal probability"
       ]
      },
      {
       "output_type": "stream",
       "stream": "stdout",
       "text": [
        " 0.666666666667 / random : 0.637974349094\n",
        "224 Ensemble: 3   failsteps= 1\n",
        "Shooting forward from frame 23\n",
        "Proposal probability"
       ]
      },
      {
       "output_type": "stream",
       "stream": "stdout",
       "text": [
        " 1.0 / random : 0.561200543742\n",
        "225 Ensemble: 3   failsteps= 2\n",
        "Shooting forward from frame 24\n",
        "Proposal probability"
       ]
      },
      {
       "output_type": "stream",
       "stream": "stdout",
       "text": [
        " 0.972972972973 / random : 0.57227111643\n",
        "226 Ensemble: 3   failsteps= 3\n",
        "Shooting forward from frame 11\n",
        "Proposal probability"
       ]
      },
      {
       "output_type": "stream",
       "stream": "stdout",
       "text": [
        " 1.48 / random : 0.489042802827\n",
        "227 Ensemble: 3   failsteps= 4\n",
        "Shooting forward from frame 3\n",
        "228"
       ]
      },
      {
       "output_type": "stream",
       "stream": "stdout",
       "text": [
        " Ensemble: 3   failsteps= 5\n",
        "Shooting forward from frame 20\n",
        "Proposal probability"
       ]
      },
      {
       "output_type": "stream",
       "stream": "stdout",
       "text": [
        " 1.0 / random : 0.962460166912\n",
        "229 Ensemble: 3   failsteps= 6\n",
        "Shooting forward from frame 9\n",
        "Proposal probability"
       ]
      },
      {
       "output_type": "stream",
       "stream": "stdout",
       "text": [
        " 1.13636363636 / random : 0.0535117093344\n",
        "230 Ensemble: 3   failsteps= 7\n",
        "Shooting forward from frame 1\n",
        "Proposal probability"
       ]
      },
      {
       "output_type": "stream",
       "stream": "stdout",
       "text": [
        " 0.6875 / random : 0.170525871897\n",
        "231 Ensemble: 3   failsteps= 8\n",
        "Shooting backward from frame 14\n",
        "Proposal probability"
       ]
      },
      {
       "output_type": "stream",
       "stream": "stdout",
       "text": [
        " 1.0 / random : 0.333374013818\n",
        "232 Ensemble: 3   failsteps= 9\n",
        "Shooting forward from frame 11\n",
        "Proposal probability"
       ]
      },
      {
       "output_type": "stream",
       "stream": "stdout",
       "text": [
        " 1.03225806452 / random : 0.965947898185\n",
        "233 Ensemble: 3   failsteps= 10\n",
        "Shooting forward from frame 18\n",
        "Proposal probability"
       ]
      },
      {
       "output_type": "stream",
       "stream": "stdout",
       "text": [
        " 1.03333333333 / random : 0.116858713589\n",
        "234 Ensemble: 3   failsteps= 11\n",
        "Shooting forward from frame 5\n",
        "Proposal probability"
       ]
      },
      {
       "output_type": "stream",
       "stream": "stdout",
       "text": [
        " 0.47619047619 / random : 0.0781364278653\n",
        "235 Ensemble: 4   failsteps= 0\n",
        "Shooting forward from frame 45\n",
        "Proposal probability"
       ]
      },
      {
       "output_type": "stream",
       "stream": "stdout",
       "text": [
        " 1.06779661017 / random : 0.163666115484\n",
        "236 Ensemble: 4   failsteps= 1\n",
        "Shooting forward from frame 3\n",
        "237"
       ]
      },
      {
       "output_type": "stream",
       "stream": "stdout",
       "text": [
        " Ensemble: 4   failsteps= 2\n",
        "Shooting backward from frame 41\n",
        "Proposal probability"
       ]
      },
      {
       "output_type": "stream",
       "stream": "stdout",
       "text": [
        " 1.28260869565 / random : 0.709111046874\n",
        "238 Ensemble: 4   failsteps= 3\n",
        "Shooting forward from frame 35\n",
        "Proposal probability"
       ]
      },
      {
       "output_type": "stream",
       "stream": "stdout",
       "text": [
        " 0.901960784314 / random : 0.763757068054\n",
        "239 Ensemble: 4   failsteps= 4\n",
        "Shooting backward from frame 40\n",
        "240"
       ]
      },
      {
       "output_type": "stream",
       "stream": "stdout",
       "text": [
        " Ensemble: 4   failsteps= 5\n",
        "Shooting forward from frame 20\n",
        "Proposal probability"
       ]
      },
      {
       "output_type": "stream",
       "stream": "stdout",
       "text": [
        " 1.34210526316 / random : 0.268433234717\n",
        "241 Ensemble: 4   failsteps= 6\n",
        "Shooting backward from frame 16\n",
        "Proposal probability"
       ]
      },
      {
       "output_type": "stream",
       "stream": "stdout",
       "text": [
        " 0.76 / random : 0.415224581412\n",
        "242 Ensemble: 4   failsteps= 7\n",
        "Shooting backward from frame 44\n",
        "Proposal probability"
       ]
      },
      {
       "output_type": "stream",
       "stream": "stdout",
       "text": [
        " 1.5625 / random : 0.637971204043\n",
        "243 Ensemble: 4   failsteps= 8\n",
        "Shooting backward from frame 21\n",
        "Proposal probability"
       ]
      },
      {
       "output_type": "stream",
       "stream": "stdout",
       "text": [
        " 0.780487804878 / random : 0.859577430131\n",
        "244 Ensemble: 4   failsteps= 9\n",
        "Shooting forward from frame 12\n",
        "245"
       ]
      },
      {
       "output_type": "stream",
       "stream": "stdout",
       "text": [
        " Ensemble: 4   failsteps= 10\n",
        "Shooting backward from frame 11\n",
        "Proposal probability 1.06666666667 / random : 0.21016912047\n",
        "246"
       ]
      },
      {
       "output_type": "stream",
       "stream": "stdout",
       "text": [
        " Ensemble: 4   failsteps= 11\n",
        "Shooting backward from frame 8\n",
        "Proposal probability"
       ]
      },
      {
       "output_type": "stream",
       "stream": "stdout",
       "text": [
        " 0.588235294118 / random : 0.0757843039789\n",
        "247 Ensemble: 4   failsteps= 12\n",
        "Shooting forward from frame 8\n",
        "248"
       ]
      },
      {
       "output_type": "stream",
       "stream": "stdout",
       "text": [
        " Ensemble: 4   failsteps= 13\n",
        "Shooting backward from frame 49\n",
        "249"
       ]
      },
      {
       "output_type": "stream",
       "stream": "stdout",
       "text": [
        " Ensemble: 4   failsteps= 14\n",
        "Shooting backward from frame 33\n",
        "Proposal probability"
       ]
      },
      {
       "output_type": "stream",
       "stream": "stdout",
       "text": [
        " 1.02 / random : 0.503942599802\n",
        "250 Ensemble: 4   failsteps= 15\n",
        "Shooting forward from frame 12\n",
        "251"
       ]
      },
      {
       "output_type": "stream",
       "stream": "stdout",
       "text": [
        " Ensemble: 4   failsteps= 16\n",
        "Shooting forward from frame 21\n",
        "Proposal probability"
       ]
      },
      {
       "output_type": "stream",
       "stream": "stdout",
       "text": [
        " 1.25 / random : 0.315374810188\n",
        "252 Ensemble: 4   failsteps= 17\n",
        "Shooting backward from frame 1\n",
        "Proposal probability 1.0 / random : 0.252951722224\n",
        "253 Ensemble: 4   failsteps= 18\n",
        "Shooting forward from frame 39\n",
        "Proposal probability 1.0 / random : 0.0505506343787\n",
        "254"
       ]
      },
      {
       "output_type": "stream",
       "stream": "stdout",
       "text": [
        " Ensemble: 4   failsteps= 19\n",
        "Shooting forward from frame 16\n",
        "Proposal probability 1.37931034483 / random : 0.397428927012\n",
        "255 Ensemble: 4   failsteps= 20\n",
        "Shooting backward from frame 1\n",
        "Proposal probability"
       ]
      },
      {
       "output_type": "stream",
       "stream": "stdout",
       "text": [
        " 1.0 / random : 0.496397762876\n",
        "256 Ensemble: 4   failsteps= 21\n",
        "Shooting backward from frame 4\n",
        "Proposal probability"
       ]
      },
      {
       "output_type": "stream",
       "stream": "stdout",
       "text": [
        " 0.604166666667 / random : 0.904602451717\n",
        "257 Ensemble: 4   failsteps= 22\n",
        "Shooting forward from frame 3\n",
        "258"
       ]
      },
      {
       "output_type": "stream",
       "stream": "stdout",
       "text": [
        " Ensemble: 4   failsteps= 23\n",
        "Shooting forward from frame 12\n",
        "259"
       ]
      },
      {
       "output_type": "stream",
       "stream": "stdout",
       "text": [
        " Ensemble: 4   failsteps= 24\n",
        "Shooting backward from frame 29\n",
        "260"
       ]
      },
      {
       "output_type": "stream",
       "stream": "stdout",
       "text": [
        " Ensemble: 4   failsteps= 25\n",
        "Shooting forward from frame 17\n",
        "Proposal probability"
       ]
      },
      {
       "output_type": "stream",
       "stream": "stdout",
       "text": [
        " 0.90625 / random : 0.210229031432\n",
        "261 Ensemble: 4   failsteps= 26\n",
        "Shooting backward from frame 19\n",
        "Proposal probability"
       ]
      },
      {
       "output_type": "stream",
       "stream": "stdout",
       "text": [
        " 1.0 / random : 0.660764638819\n",
        "262 Ensemble: 4   failsteps= 27\n",
        "Shooting forward from frame 8\n",
        "263 Ensemble: 4   failsteps= 28\n",
        "Shooting backward from frame 24\n",
        "264"
       ]
      },
      {
       "output_type": "stream",
       "stream": "stdout",
       "text": [
        " Ensemble: 4   failsteps= 29\n",
        "Shooting backward from frame 15\n",
        "Proposal probability"
       ]
      },
      {
       "output_type": "stream",
       "stream": "stdout",
       "text": [
        " 0.941176470588 / random : 0.73586008332\n",
        "265 Ensemble: 4   failsteps= 30\n",
        "Shooting backward from frame 18\n",
        "Proposal probability"
       ]
      },
      {
       "output_type": "stream",
       "stream": "stdout",
       "text": [
        " 1.0 / random : 0.0284466796398\n",
        "266 Ensemble: 4   failsteps= 31\n",
        "Shooting backward from frame 24\n",
        "Proposal probability"
       ]
      },
      {
       "output_type": "stream",
       "stream": "stdout",
       "text": [
        " 0.971428571429 / random : 0.193232347392\n",
        "267 Ensemble: 4   failsteps= 32\n",
        "Shooting backward from frame 28\n",
        "Proposal probability"
       ]
      },
      {
       "output_type": "stream",
       "stream": "stdout",
       "text": [
        " 0.945945945946 / random : 0.910403957595\n",
        "268 Ensemble: 4   failsteps= 33\n",
        "Shooting forward from frame 20\n",
        "Proposal probability"
       ]
      },
      {
       "output_type": "stream",
       "stream": "stdout",
       "text": [
        " 0.840909090909 / random : 0.147704553545\n",
        "269 Ensemble: 4   failsteps= 34\n",
        "Shooting forward from frame 43\n",
        "Proposal probability 1.0 / random : 0.57691934925\n",
        "270"
       ]
      },
      {
       "output_type": "stream",
       "stream": "stdout",
       "text": [
        " Ensemble: 4   failsteps= 35\n",
        "Shooting forward from frame 34\n",
        "Proposal probability"
       ]
      },
      {
       "output_type": "stream",
       "stream": "stdout",
       "text": [
        " 1.0 / random : 0.24316368043\n",
        "271"
       ]
      },
      {
       "output_type": "stream",
       "stream": "stdout",
       "text": [
        " Ensemble: 4   failsteps= 36\n",
        "Shooting backward from frame 27\n",
        "Proposal probability"
       ]
      },
      {
       "output_type": "stream",
       "stream": "stdout",
       "text": [
        " 1.25714285714 / random : 0.796612136193\n",
        "272"
       ]
      },
      {
       "output_type": "stream",
       "stream": "stdout",
       "text": [
        " Ensemble: 4   failsteps= 37\n",
        "Shooting forward from frame 33\n",
        "Proposal probability"
       ]
      },
      {
       "output_type": "stream",
       "stream": "stdout",
       "text": [
        " 1.0 / random : 0.993327679084\n",
        "273 Ensemble: 4   failsteps= 38\n",
        "Shooting backward from frame 16\n",
        "Proposal probability"
       ]
      },
      {
       "output_type": "stream",
       "stream": "stdout",
       "text": [
        " 0.813953488372 / random : 0.774871042924\n",
        "274 Ensemble: 4   failsteps= 39\n",
        "Shooting backward from frame 16\n",
        "Proposal probability"
       ]
      },
      {
       "output_type": "stream",
       "stream": "stdout",
       "text": [
        " 0.826923076923 / random : 0.395152003869\n",
        "275 Ensemble: 4   failsteps= 40\n",
        "Shooting forward from frame 42\n",
        "Proposal probability"
       ]
      },
      {
       "output_type": "stream",
       "stream": "stdout",
       "text": [
        " 1.04 / random : 0.268789753284\n",
        "276 Ensemble: 4   failsteps= 41\n",
        "Shooting forward from frame 26\n",
        "277"
       ]
      },
      {
       "output_type": "stream",
       "stream": "stdout",
       "text": [
        " Ensemble: 4   failsteps= 42\n",
        "Shooting forward from frame 42\n",
        "Proposal probability"
       ]
      },
      {
       "output_type": "stream",
       "stream": "stdout",
       "text": [
        " 0.961538461538 / random : 0.659266239865\n",
        "278 Ensemble: 4   failsteps= 43\n",
        "Shooting forward from frame 23\n",
        "279"
       ]
      },
      {
       "output_type": "stream",
       "stream": "stdout",
       "text": [
        " Ensemble: 4   failsteps= 44\n",
        "Shooting forward from frame 14\n",
        "280"
       ]
      },
      {
       "output_type": "stream",
       "stream": "stdout",
       "text": [
        " Ensemble: 4   failsteps= 45\n",
        "Shooting backward from frame 24\n",
        "Proposal probability"
       ]
      },
      {
       "output_type": "stream",
       "stream": "stdout",
       "text": [
        " 1.13043478261 / random : 0.645095342831\n",
        "281 Ensemble: 4   failsteps= 46\n",
        "Shooting forward from frame 41\n",
        "Proposal probability"
       ]
      },
      {
       "output_type": "stream",
       "stream": "stdout",
       "text": [
        " 1.02222222222 / random : 0.0464639043807\n",
        "282 Ensemble: 4   failsteps= 47\n",
        "Shooting forward from frame 32\n",
        "Proposal probability"
       ]
      },
      {
       "output_type": "stream",
       "stream": "stdout",
       "text": [
        " 0.978260869565 / random : 0.548930478799\n",
        "283 Ensemble: 4   failsteps= 48\n",
        "Shooting backward from frame 8\n",
        "Proposal probability"
       ]
      },
      {
       "output_type": "stream",
       "stream": "stdout",
       "text": [
        " 0.560975609756 / random : 0.55739517112\n",
        "284 Ensemble: 4   failsteps= 49\n",
        "Shooting backward from frame 63\n",
        "Proposal probability"
       ]
      },
      {
       "output_type": "stream",
       "stream": "stdout",
       "text": [
        " 2.21621621622 / random : 0.798738077905\n",
        "285 Ensemble: 4   failsteps= 50\n",
        "Shooting backward from frame 9\n",
        "Proposal probability 0.973684210526 / random : 0.246678108886\n",
        "286 Ensemble: 4   failsteps= 51\n",
        "Shooting backward from frame 20\n",
        "Proposal probability"
       ]
      },
      {
       "output_type": "stream",
       "stream": "stdout",
       "text": [
        " 1.0 / random : 0.395175481682\n",
        "287 Ensemble: 4   failsteps= 52\n",
        "Shooting forward from frame 30\n",
        "Proposal probability"
       ]
      },
      {
       "output_type": "stream",
       "stream": "stdout",
       "text": [
        " 0.974358974359 / random : 0.608223147264\n",
        "288 Ensemble: 4   failsteps= 53\n",
        "Shooting forward from frame 36\n",
        "Proposal probability"
       ]
      },
      {
       "output_type": "stream",
       "stream": "stdout",
       "text": [
        " 1.0 / random : 0.983479245007\n",
        "289 Ensemble: 4   failsteps= 54\n",
        "Shooting backward from frame 24\n",
        "Proposal probability"
       ]
      },
      {
       "output_type": "stream",
       "stream": "stdout",
       "text": [
        " 1.05405405405 / random : 0.082364584586\n",
        "290 Ensemble: 4   failsteps= 55\n",
        "Shooting forward from frame 10\n",
        "291"
       ]
      },
      {
       "output_type": "stream",
       "stream": "stdout",
       "text": [
        " Ensemble: 4   failsteps= 56\n",
        "Shooting backward from frame 33\n",
        "292"
       ]
      },
      {
       "output_type": "stream",
       "stream": "stdout",
       "text": [
        " Ensemble: 4   failsteps= 57\n",
        "Shooting backward from frame 35\n",
        "293"
       ]
      },
      {
       "output_type": "stream",
       "stream": "stdout",
       "text": [
        " Ensemble: 4   failsteps= 58\n",
        "Shooting backward from frame 20\n",
        "Proposal probability"
       ]
      },
      {
       "output_type": "stream",
       "stream": "stdout",
       "text": [
        " 1.1935483871 / random : 0.123675228147\n",
        "294 Ensemble: 4   failsteps= 59\n",
        "Shooting backward from frame 29\n",
        "295"
       ]
      },
      {
       "output_type": "stream",
       "stream": "stdout",
       "text": [
        " Ensemble: 4   failsteps= 60\n",
        "Shooting backward from frame 13\n",
        "Proposal probability"
       ]
      },
      {
       "output_type": "stream",
       "stream": "stdout",
       "text": [
        " 1.0 / random : 0.641773513267\n",
        "296 Ensemble: 4   failsteps= 61\n",
        "Shooting forward from frame 5\n",
        "Proposal probability"
       ]
      },
      {
       "output_type": "stream",
       "stream": "stdout",
       "text": [
        " 0.861111111111 / random : 0.881845118072\n",
        "297 Ensemble: 4   failsteps= 62\n",
        "Shooting backward from frame 5\n",
        "Proposal probability"
       ]
      },
      {
       "output_type": "stream",
       "stream": "stdout",
       "text": [
        " 1.0 / random : 0.932095102005\n",
        "298"
       ]
      },
      {
       "output_type": "stream",
       "stream": "stdout",
       "text": [
        " Ensemble: 4   failsteps= 63\n",
        "Shooting forward from frame 28\n",
        "Proposal probability"
       ]
      },
      {
       "output_type": "stream",
       "stream": "stdout",
       "text": [
        " 1.0 / random : 0.907802688834\n",
        "299"
       ]
      },
      {
       "output_type": "stream",
       "stream": "stdout",
       "text": [
        " Ensemble: 4   failsteps= 64\n",
        "Shooting backward from frame 8\n",
        "300"
       ]
      },
      {
       "output_type": "stream",
       "stream": "stdout",
       "text": [
        " Ensemble: 4   failsteps= 65\n",
        "Shooting backward from frame 15\n",
        "Proposal probability"
       ]
      },
      {
       "output_type": "stream",
       "stream": "stdout",
       "text": [
        " 0.632653061224 / random : 0.83798110377\n",
        "301 Ensemble: 4   failsteps= 66\n",
        "Shooting forward from frame 9\n",
        "Proposal probability"
       ]
      },
      {
       "output_type": "stream",
       "stream": "stdout",
       "text": [
        " 0.815789473684 / random : 0.971577193344\n",
        "302 Ensemble: 4   failsteps= 67\n",
        "Shooting forward from frame 9\n",
        "303"
       ]
      },
      {
       "output_type": "stream",
       "stream": "stdout",
       "text": [
        " Ensemble: 4   failsteps= 68\n",
        "Shooting forward from frame 7\n",
        "Proposal probability"
       ]
      },
      {
       "output_type": "stream",
       "stream": "stdout",
       "text": [
        " 0.775 / random : 0.399861823449\n",
        "304 Ensemble: 4   failsteps= 69\n",
        "Shooting backward from frame 13\n",
        "Proposal probability"
       ]
      },
      {
       "output_type": "stream",
       "stream": "stdout",
       "text": [
        " 0.909090909091 / random : 0.101597778453\n",
        "305 Ensemble: 4   failsteps= 70\n",
        "Shooting backward from frame 2\n",
        "Proposal probability"
       ]
      },
      {
       "output_type": "stream",
       "stream": "stdout",
       "text": [
        " 0.6875 / random : 0.184400458972\n",
        "306 Ensemble: 4   failsteps= 71\n",
        "Shooting forward from frame 29\n",
        "307"
       ]
      },
      {
       "output_type": "stream",
       "stream": "stdout",
       "text": [
        " Ensemble: 4   failsteps= 72\n",
        "Shooting forward from frame 54\n",
        "Proposal probability"
       ]
      },
      {
       "output_type": "stream",
       "stream": "stdout",
       "text": [
        " 0.984615384615 / random : 0.887891402718\n",
        "308 Ensemble: 4   failsteps= 73\n",
        "Shooting forward from frame 19\n",
        "309 Ensemble: 4   failsteps= 74\n",
        "Shooting backward from frame 51\n",
        "310"
       ]
      },
      {
       "output_type": "stream",
       "stream": "stdout",
       "text": [
        " Ensemble: 4   failsteps= 75\n",
        "Shooting backward from frame 34\n",
        "311"
       ]
      },
      {
       "output_type": "stream",
       "stream": "stdout",
       "text": [
        " Ensemble: 4   failsteps= 76\n",
        "Shooting forward from frame 36\n",
        "312"
       ]
      },
      {
       "output_type": "stream",
       "stream": "stdout",
       "text": [
        " Ensemble: 4   failsteps= 77\n",
        "Shooting forward from frame 47\n",
        "Proposal probability"
       ]
      },
      {
       "output_type": "stream",
       "stream": "stdout",
       "text": [
        " 0.984848484848 / random : 0.964946547912\n",
        "313 Ensemble: 4   failsteps= 78\n",
        "Shooting backward from frame 43\n",
        "Proposal probability"
       ]
      },
      {
       "output_type": "stream",
       "stream": "stdout",
       "text": [
        " 1.53488372093 / random : 0.873481729422\n",
        "314 Ensemble: 4   failsteps= 79\n",
        "Shooting backward from frame 21\n",
        "Proposal probability"
       ]
      },
      {
       "output_type": "stream",
       "stream": "stdout",
       "text": [
        " 0.977272727273 / random : 0.313927492952\n",
        "315 Ensemble: 4   failsteps= 80\n",
        "Shooting backward from frame 24\n",
        "Proposal probability"
       ]
      },
      {
       "output_type": "stream",
       "stream": "stdout",
       "text": [
        " 1.0 / random : 0.746581587215\n",
        "316 Ensemble: 4   failsteps= 81\n",
        "Shooting forward from frame 22\n",
        "Proposal probability"
       ]
      },
      {
       "output_type": "stream",
       "stream": "stdout",
       "text": [
        " 1.04761904762 / random : 0.523811464205\n",
        "317 Ensemble: 4   failsteps= 82\n",
        "Shooting forward from frame 14\n",
        "318"
       ]
      },
      {
       "output_type": "stream",
       "stream": "stdout",
       "text": [
        " Ensemble: 4   failsteps= 83\n",
        "Shooting forward from frame 35\n",
        "Proposal probability"
       ]
      },
      {
       "output_type": "stream",
       "stream": "stdout",
       "text": [
        " 1.0 / random : 0.0170211216345\n",
        "319 Ensemble: 4   failsteps= 84\n",
        "Shooting forward from frame 8\n",
        "320"
       ]
      },
      {
       "output_type": "stream",
       "stream": "stdout",
       "text": [
        " Ensemble: 4   failsteps= 85\n",
        "Shooting forward from frame 11\n",
        "321"
       ]
      },
      {
       "output_type": "stream",
       "stream": "stdout",
       "text": [
        " Ensemble: 4   failsteps= 86\n",
        "Shooting backward from frame 3\n",
        "Proposal probability 1.0 / random : 0.152469812545\n",
        "322 Ensemble: 4   failsteps= 87\n",
        "Shooting forward from frame 28\n",
        "Proposal probability"
       ]
      },
      {
       "output_type": "stream",
       "stream": "stdout",
       "text": [
        " 1.05 / random : 0.887466972377\n",
        "323"
       ]
      },
      {
       "output_type": "stream",
       "stream": "stdout",
       "text": [
        " Ensemble: 4   failsteps= 88\n",
        "Shooting backward from frame 3\n",
        "Proposal probability"
       ]
      },
      {
       "output_type": "stream",
       "stream": "stdout",
       "text": [
        " 1.0 / random : 0.888301703348\n",
        "324"
       ]
      },
      {
       "output_type": "stream",
       "stream": "stdout",
       "text": [
        " Ensemble: 4   failsteps= 89\n",
        "Shooting forward from frame 28\n",
        "Proposal probability"
       ]
      },
      {
       "output_type": "stream",
       "stream": "stdout",
       "text": [
        " 0.975609756098 / random : 0.232840092027\n",
        "325"
       ]
      },
      {
       "output_type": "stream",
       "stream": "stdout",
       "text": [
        " Ensemble: 4   failsteps= 90\n",
        "Shooting backward from frame 10\n",
        "Proposal probability"
       ]
      },
      {
       "output_type": "stream",
       "stream": "stdout",
       "text": [
        " 0.732142857143 / random : 0.0553102876257\n",
        "326 Ensemble: 4   failsteps= 91\n",
        "Shooting backward from frame 22\n",
        "Proposal probability"
       ]
      },
      {
       "output_type": "stream",
       "stream": "stdout",
       "text": [
        " 1.16666666667 / random : 0.33723786078\n",
        "327 Ensemble: 4   failsteps= 92\n",
        "Shooting backward from frame 22\n",
        "Proposal probability"
       ]
      },
      {
       "output_type": "stream",
       "stream": "stdout",
       "text": [
        " 1.2 / random : 0.552951818277\n",
        "328 Ensemble: 4   failsteps= 93\n",
        "Shooting backward from frame 36\n",
        "Proposal probability"
       ]
      },
      {
       "output_type": "stream",
       "stream": "stdout",
       "text": [
        " 0.851063829787 / random : 0.543720680159\n",
        "329 Ensemble: 4   failsteps= 94\n",
        "Shooting backward from frame 45\n",
        "330"
       ]
      },
      {
       "output_type": "stream",
       "stream": "stdout",
       "text": [
        " Ensemble: 4   failsteps= 95\n",
        "Shooting backward from frame 44\n",
        "331"
       ]
      },
      {
       "output_type": "stream",
       "stream": "stdout",
       "text": [
        " Ensemble: 4   failsteps= 96\n",
        "Shooting backward from frame 20\n",
        "Proposal probability"
       ]
      },
      {
       "output_type": "stream",
       "stream": "stdout",
       "text": [
        " 0.88679245283 / random : 0.106174636722\n",
        "332 Ensemble: 4   failsteps= 97\n",
        "Shooting forward from frame 46\n",
        "Proposal probability"
       ]
      },
      {
       "output_type": "stream",
       "stream": "stdout",
       "text": [
        " 0.768115942029 / random : 0.569998882808\n",
        "333 Ensemble: 4   failsteps= 98\n",
        "Shooting forward from frame 24\n",
        "Proposal probability"
       ]
      },
      {
       "output_type": "stream",
       "stream": "stdout",
       "text": [
        " 1.53333333333 / random : 0.152788821492\n",
        "334 Ensemble: 4   failsteps= 99\n",
        "Shooting forward from frame 16\n",
        "335"
       ]
      },
      {
       "output_type": "stream",
       "stream": "stdout",
       "text": [
        " Ensemble: 4   failsteps= 100\n",
        "Shooting backward from frame 21\n",
        "Proposal probability"
       ]
      },
      {
       "output_type": "stream",
       "stream": "stdout",
       "text": [
        " 1.04651162791 / random : 0.129559860313\n",
        "336 Ensemble: 4   failsteps= 101\n",
        "Shooting backward from frame 29\n",
        "Proposal probability"
       ]
      },
      {
       "output_type": "stream",
       "stream": "stdout",
       "text": [
        " 0.977272727273 / random : 0.76545504598\n",
        "337 Ensemble: 4   failsteps= 102\n",
        "Shooting backward from frame 34\n",
        "Proposal probability"
       ]
      },
      {
       "output_type": "stream",
       "stream": "stdout",
       "text": [
        " 0.862745098039 / random : 0.612860518028\n",
        "338 Ensemble: 4   failsteps= 103\n",
        "Shooting backward from frame 6\n",
        "Proposal probability"
       ]
      },
      {
       "output_type": "stream",
       "stream": "stdout",
       "text": [
        " 0.6375 / random : 0.130725941542\n",
        "339 Ensemble: 4   failsteps= 104\n",
        "Shooting forward from frame 38\n",
        "340"
       ]
      },
      {
       "output_type": "stream",
       "stream": "stdout",
       "text": [
        " Ensemble: 4   failsteps= 105\n",
        "Shooting forward from frame 40\n",
        "Proposal probability"
       ]
      },
      {
       "output_type": "stream",
       "stream": "stdout",
       "text": [
        " 1.15942028986 / random : 0.56460815721\n",
        "341 Ensemble: 4   failsteps= 106\n",
        "Shooting backward from frame 16\n",
        "Proposal probability"
       ]
      },
      {
       "output_type": "stream",
       "stream": "stdout",
       "text": [
        " 0.92 / random : 0.102937603905\n",
        "342 Ensemble: 4   failsteps= 107\n",
        "Shooting forward from frame 17\n",
        "343"
       ]
      },
      {
       "output_type": "stream",
       "stream": "stdout",
       "text": [
        " Ensemble: 4   failsteps= 108\n",
        "Shooting backward from frame 16\n",
        "Proposal probability"
       ]
      },
      {
       "output_type": "stream",
       "stream": "stdout",
       "text": [
        " 0.986842105263 / random : 0.654061567836\n",
        "344"
       ]
      },
      {
       "output_type": "stream",
       "stream": "stdout",
       "text": [
        " Ensemble: 4   failsteps= 109\n",
        "Shooting forward from frame 45\n",
        "345"
       ]
      },
      {
       "output_type": "stream",
       "stream": "stdout",
       "text": [
        " Ensemble: 4   failsteps= 110\n",
        "Shooting backward from frame 40\n",
        "Proposal probability"
       ]
      },
      {
       "output_type": "stream",
       "stream": "stdout",
       "text": [
        " 1.22580645161 / random : 0.829941291526\n",
        "346 Ensemble: 4   failsteps= 111\n",
        "Shooting forward from frame 24\n",
        "347"
       ]
      },
      {
       "output_type": "stream",
       "stream": "stdout",
       "text": [
        " Ensemble: 4   failsteps= 112\n",
        "Shooting backward from frame 2\n",
        "Proposal probability"
       ]
      },
      {
       "output_type": "stream",
       "stream": "stdout",
       "text": [
        " 0.720930232558 / random : 0.041900437445\n",
        "348 Ensemble: 4   failsteps= 113\n",
        "Shooting forward from frame 58\n",
        "349"
       ]
      },
      {
       "output_type": "stream",
       "stream": "stdout",
       "text": [
        " Ensemble: 4   failsteps= 114\n",
        "Shooting backward from frame 18\n",
        "Proposal probability"
       ]
      },
      {
       "output_type": "stream",
       "stream": "stdout",
       "text": [
        " 1.08860759494 / random : 0.797363094278\n",
        "350 Ensemble: 4   failsteps= 115\n",
        "Shooting forward from frame 33\n",
        "351"
       ]
      },
      {
       "output_type": "stream",
       "stream": "stdout",
       "text": [
        " Ensemble: 4   failsteps= 116\n",
        "Shooting forward from frame 4\n",
        "352 Ensemble: 4   failsteps= 117\n",
        "Shooting backward from frame 72\n",
        "353"
       ]
      },
      {
       "output_type": "stream",
       "stream": "stdout",
       "text": [
        " Ensemble: 4   failsteps= 118\n",
        "Shooting backward from frame 55\n",
        "Proposal probability"
       ]
      },
      {
       "output_type": "stream",
       "stream": "stdout",
       "text": [
        " 2.02564102564 / random : 0.00573389880781\n",
        "354 Ensemble: 4   failsteps= 119\n",
        "Shooting backward from frame 1\n",
        "Proposal probability 1.0 / random : 0.936996667459\n",
        "355 Ensemble: 4   failsteps= 120\n",
        "Shooting backward from frame 32\n",
        "356"
       ]
      },
      {
       "output_type": "stream",
       "stream": "stdout",
       "text": [
        " Ensemble: 4   failsteps= 121\n",
        "Shooting forward from frame 37\n",
        "Proposal probability 1.0 / random : 0.027159841296\n",
        "357 Ensemble: 4   failsteps= 122\n",
        "Shooting backward from frame 26\n",
        "Proposal probability"
       ]
      },
      {
       "output_type": "stream",
       "stream": "stdout",
       "text": [
        " 0.684210526316 / random : 0.483112509359\n",
        "358 Ensemble: 4   failsteps= 123\n",
        "Shooting forward from frame 41\n",
        "Proposal probability"
       ]
      },
      {
       "output_type": "stream",
       "stream": "stdout",
       "text": [
        " 0.95 / random : 0.465774721417\n",
        "359 Ensemble: 4   failsteps= 124\n",
        "Shooting backward from frame 46\n",
        "360"
       ]
      },
      {
       "output_type": "stream",
       "stream": "stdout",
       "text": [
        " Ensemble: 4   failsteps= 125\n",
        "Shooting forward from frame 42\n",
        "Proposal probability"
       ]
      },
      {
       "output_type": "stream",
       "stream": "stdout",
       "text": [
        " 0.983606557377 / random : 0.49489561492\n",
        "361 Ensemble: 4   failsteps= 126\n",
        "Shooting backward from frame 21\n",
        "Proposal probability"
       ]
      },
      {
       "output_type": "stream",
       "stream": "stdout",
       "text": [
        " 1.03389830508 / random : 0.718832861134\n",
        "362 Ensemble: 4   failsteps= 127\n",
        "Shooting backward from frame 30\n",
        "Proposal probability"
       ]
      },
      {
       "output_type": "stream",
       "stream": "stdout",
       "text": [
        " 0.983333333333 / random : 0.0785760206624\n",
        "363 Ensemble: 4   failsteps= 128\n",
        "Shooting forward from frame 28\n",
        "Proposal probability"
       ]
      },
      {
       "output_type": "stream",
       "stream": "stdout",
       "text": [
        " 1.09090909091 / random : 0.289186548547\n",
        "364 Ensemble: 4   failsteps= 129\n",
        "Shooting backward from frame 37\n",
        "Proposal probability"
       ]
      },
      {
       "output_type": "stream",
       "stream": "stdout",
       "text": [
        " 0.887096774194 / random : 0.344626970974\n",
        "365"
       ]
      },
      {
       "output_type": "stream",
       "stream": "stdout",
       "text": [
        " Ensemble: 4   failsteps= 130\n",
        "Shooting backward from frame 11\n",
        "Proposal probability"
       ]
      },
      {
       "output_type": "stream",
       "stream": "stdout",
       "text": [
        " 1.01639344262 / random : 0.153884177451\n",
        "366 Ensemble: 4   failsteps= 131\n",
        "Shooting forward from frame 46\n",
        "Proposal probability"
       ]
      },
      {
       "output_type": "stream",
       "stream": "stdout",
       "text": [
        " 1.05172413793 / random : 0.233852083527\n",
        "367 Ensemble: 4   failsteps= 132\n",
        "Shooting backward from frame 56\n",
        "368"
       ]
      },
      {
       "output_type": "stream",
       "stream": "stdout",
       "text": [
        " Ensemble: 4   failsteps= 133\n",
        "Shooting forward from frame 12\n",
        "Proposal probability"
       ]
      },
      {
       "output_type": "stream",
       "stream": "stdout",
       "text": [
        " 1.26086956522 / random : 0.868313091648\n",
        "369 Ensemble: 4   failsteps= 134\n",
        "Shooting backward from frame 31\n",
        "Proposal probability"
       ]
      },
      {
       "output_type": "stream",
       "stream": "stdout",
       "text": [
        " 0.978723404255 / random : 0.484654464115\n",
        "370 Ensemble: 4   failsteps= 135\n",
        "Shooting forward from frame 39\n",
        "Proposal probability"
       ]
      },
      {
       "output_type": "stream",
       "stream": "stdout",
       "text": [
        " 0.979166666667 / random : 0.825066625498\n",
        "371 Ensemble: 4   failsteps= 136\n",
        "Shooting forward from frame 33\n",
        "Proposal probability"
       ]
      },
      {
       "output_type": "stream",
       "stream": "stdout",
       "text": [
        " 0.905660377358 / random : 0.446409115642\n",
        "372 Ensemble: 4   failsteps= 137\n",
        "Shooting forward from frame 51\n",
        "Proposal probability 1.0 / random : 0.734443648917\n",
        "373"
       ]
      },
      {
       "output_type": "stream",
       "stream": "stdout",
       "text": [
        " Ensemble: 4   failsteps= 138\n",
        "Shooting forward from frame 48\n",
        "Proposal probability 1.0 / random : 0.251659479709\n",
        "374"
       ]
      },
      {
       "output_type": "stream",
       "stream": "stdout",
       "text": [
        " Ensemble: 4   failsteps= 139\n",
        "Shooting backward from frame 43\n",
        "375"
       ]
      },
      {
       "output_type": "stream",
       "stream": "stdout",
       "text": [
        " Ensemble: 4   failsteps= 140\n",
        "Shooting backward from frame 18\n",
        "376"
       ]
      },
      {
       "output_type": "stream",
       "stream": "stdout",
       "text": [
        " Ensemble: 4   failsteps= 141\n",
        "Shooting forward from frame 37\n",
        "Proposal probability"
       ]
      },
      {
       "output_type": "stream",
       "stream": "stdout",
       "text": [
        " 1.03921568627 / random : 0.0807615442\n",
        "377 Ensemble: 4   failsteps= 142\n",
        "Shooting backward from frame 30\n",
        "378"
       ]
      },
      {
       "output_type": "stream",
       "stream": "stdout",
       "text": [
        " Ensemble: 4   failsteps= 143\n",
        "Shooting backward from frame 28\n",
        "Proposal probability"
       ]
      },
      {
       "output_type": "stream",
       "stream": "stdout",
       "text": [
        " 0.621951219512 / random : 0.741171630718\n",
        "379 Ensemble: 4   failsteps= 144\n",
        "Shooting forward from frame 28\n",
        "Proposal probability"
       ]
      },
      {
       "output_type": "stream",
       "stream": "stdout",
       "text": [
        " 0.910714285714 / random : 0.769481826184\n",
        "380 Ensemble: 4   failsteps= 145\n",
        "Shooting forward from frame 7\n",
        "381"
       ]
      },
      {
       "output_type": "stream",
       "stream": "stdout",
       "text": [
        " Ensemble: 4   failsteps= 146\n",
        "Shooting backward from frame 17\n",
        "Proposal probability"
       ]
      },
      {
       "output_type": "stream",
       "stream": "stdout",
       "text": [
        " 1.05660377358 / random : 0.113535482735\n",
        "382"
       ]
      },
      {
       "output_type": "stream",
       "stream": "stdout",
       "text": [
        " Ensemble: 4   failsteps= 147\n",
        "Shooting forward from frame 23\n",
        "Proposal probability"
       ]
      },
      {
       "output_type": "stream",
       "stream": "stdout",
       "text": [
        " 1.03921568627 / random : 0.0584435636396\n",
        "383"
       ]
      },
      {
       "output_type": "stream",
       "stream": "stdout",
       "text": [
        " Ensemble: 4   failsteps= 148\n",
        "Shooting backward from frame 33\n",
        "384"
       ]
      },
      {
       "output_type": "stream",
       "stream": "stdout",
       "text": [
        " Ensemble: 4   failsteps= 149\n",
        "Shooting forward from frame 48\n",
        "Proposal probability"
       ]
      },
      {
       "output_type": "stream",
       "stream": "stdout",
       "text": [
        " 1.0 / random : 0.749607890656\n",
        "385 Ensemble: 4   failsteps= 150\n",
        "Shooting forward from frame 43\n",
        "Proposal probability"
       ]
      },
      {
       "output_type": "stream",
       "stream": "stdout",
       "text": [
        " 0.980769230769 / random : 0.754287365498\n",
        "386 Ensemble: 4   failsteps= 151\n",
        "Shooting backward from frame 18\n",
        "Proposal probability"
       ]
      },
      {
       "output_type": "stream",
       "stream": "stdout",
       "text": [
        " 1.01960784314 / random : 0.231836651574\n",
        "387 Ensemble: 4   failsteps= 152\n",
        "Shooting backward from frame 38\n",
        "388"
       ]
      },
      {
       "output_type": "stream",
       "stream": "stdout",
       "text": [
        " Ensemble: 4   failsteps= 153\n",
        "Shooting forward from frame 46\n",
        "Proposal probability 0.980769230769 / random : 0.649704340196\n",
        "389"
       ]
      },
      {
       "output_type": "stream",
       "stream": "stdout",
       "text": [
        " Ensemble: 4   failsteps= 154\n",
        "Shooting backward from frame 26\n",
        "390"
       ]
      },
      {
       "output_type": "stream",
       "stream": "stdout",
       "text": [
        " Ensemble: 4   failsteps= 155\n",
        "Shooting forward from frame 23\n",
        "Proposal probability"
       ]
      },
      {
       "output_type": "stream",
       "stream": "stdout",
       "text": [
        " 0.8 / random : 0.805084107814\n",
        "391 Ensemble: 4   failsteps= 156\n",
        "Shooting backward from frame 45\n",
        "392"
       ]
      },
      {
       "output_type": "stream",
       "stream": "stdout",
       "text": [
        " Ensemble: 4   failsteps= 157\n",
        "Shooting backward from frame 37\n",
        "393"
       ]
      },
      {
       "output_type": "stream",
       "stream": "stdout",
       "text": [
        " Ensemble: 4   failsteps= 158\n",
        "Shooting forward from frame 33\n",
        "Proposal probability"
       ]
      },
      {
       "output_type": "stream",
       "stream": "stdout",
       "text": [
        " 0.962962962963 / random : 0.0318720019588\n",
        "394 Ensemble: 4   failsteps= 159\n",
        "Shooting backward from frame 43\n",
        "Proposal probability"
       ]
      },
      {
       "output_type": "stream",
       "stream": "stdout",
       "text": [
        " 0.857142857143 / random : 0.561017587252\n",
        "395 Ensemble: 4   failsteps= 160\n",
        "Shooting forward from frame 26\n",
        "Proposal probability"
       ]
      },
      {
       "output_type": "stream",
       "stream": "stdout",
       "text": [
        " 1.26 / random : 0.0596786642508\n",
        "396 Ensemble: 4   failsteps= 161\n",
        "Shooting backward from frame 30\n",
        "Proposal probability"
       ]
      },
      {
       "output_type": "stream",
       "stream": "stdout",
       "text": [
        " 0.847457627119 / random : 0.850726622294\n",
        "397 Ensemble: 4   failsteps= 162\n",
        "Shooting backward from frame 48\n",
        "398"
       ]
      },
      {
       "output_type": "stream",
       "stream": "stdout",
       "text": [
        " Ensemble: 4   failsteps= 163\n",
        "Shooting forward from frame 18\n",
        "399"
       ]
      },
      {
       "output_type": "stream",
       "stream": "stdout",
       "text": [
        " Ensemble: 4   failsteps= 164\n",
        "Shooting forward from frame 36\n",
        "Proposal probability"
       ]
      },
      {
       "output_type": "stream",
       "stream": "stdout",
       "text": [
        " 0.980392156863 / random : 0.825030891071\n",
        "400"
       ]
      },
      {
       "output_type": "stream",
       "stream": "stdout",
       "text": [
        " Ensemble: 4   failsteps= 165\n",
        "Shooting forward from frame 2\n",
        "401"
       ]
      },
      {
       "output_type": "stream",
       "stream": "stdout",
       "text": [
        " Ensemble: 4   failsteps= 166\n",
        "Shooting backward from frame 30\n",
        "402"
       ]
      },
      {
       "output_type": "stream",
       "stream": "stdout",
       "text": [
        " Ensemble: 4   failsteps= 167\n",
        "Shooting forward from frame 31\n",
        "Proposal probability"
       ]
      },
      {
       "output_type": "stream",
       "stream": "stdout",
       "text": [
        " 1.02 / random : 0.496554342686\n",
        "403 Ensemble: 4   failsteps= 168\n",
        "Shooting forward from frame 47"
       ]
      },
      {
       "output_type": "stream",
       "stream": "stdout",
       "text": [
        "\n",
        "Proposal probability"
       ]
      },
      {
       "output_type": "stream",
       "stream": "stdout",
       "text": [
        " 1.0 / random : 0.608756590393\n",
        "404 Ensemble: 4   failsteps= 169\n",
        "Shooting backward from frame 35\n",
        "Proposal probability"
       ]
      },
      {
       "output_type": "stream",
       "stream": "stdout",
       "text": [
        " 0.909090909091 / random : 0.493626929809\n",
        "405 Ensemble: 4   failsteps= 170\n",
        "Shooting backward from frame 6\n",
        "Proposal probability"
       ]
      },
      {
       "output_type": "stream",
       "stream": "stdout",
       "text": [
        " 0.591397849462 / random : 0.839704272763\n",
        "406 Ensemble: 4   failsteps= 171\n",
        "Shooting backward from frame 5\n",
        "Proposal probability 1.0 / random : 0.331908140803\n",
        "407"
       ]
      },
      {
       "output_type": "stream",
       "stream": "stdout",
       "text": [
        " Ensemble: 4   failsteps= 172\n",
        "Shooting backward from frame 35\n",
        "Proposal probability"
       ]
      },
      {
       "output_type": "stream",
       "stream": "stdout",
       "text": [
        " 0.873015873016 / random : 0.26571332467\n",
        "408 Ensemble: 4   failsteps= 173\n",
        "Shooting backward from frame 59\n",
        "409"
       ]
      },
      {
       "output_type": "stream",
       "stream": "stdout",
       "text": [
        " Ensemble: 4   failsteps= 174\n",
        "Shooting forward from frame 44\n",
        "Proposal probability"
       ]
      },
      {
       "output_type": "stream",
       "stream": "stdout",
       "text": [
        " 0.777777777778 / random : 0.472077356455\n",
        "410 Ensemble: 4   failsteps= 175\n",
        "Shooting backward from frame 66\n",
        "411"
       ]
      },
      {
       "output_type": "stream",
       "stream": "stdout",
       "text": [
        " Ensemble: 4   failsteps= 176\n",
        "Shooting backward from frame 66\n",
        "412"
       ]
      },
      {
       "output_type": "stream",
       "stream": "stdout",
       "text": [
        " Ensemble: 4   failsteps= 177\n",
        "Shooting backward from frame 60\n",
        "413"
       ]
      },
      {
       "output_type": "stream",
       "stream": "stdout",
       "text": [
        " Ensemble: 4   failsteps= 178\n",
        "Shooting backward from frame 77\n",
        "414"
       ]
      },
      {
       "output_type": "stream",
       "stream": "stdout",
       "text": [
        " Ensemble: 4   failsteps= 179\n",
        "Shooting backward from frame 57\n",
        "415"
       ]
      },
      {
       "output_type": "stream",
       "stream": "stdout",
       "text": [
        " Ensemble: 4   failsteps= 180\n",
        "Shooting backward from frame 24\n",
        "Proposal probability"
       ]
      },
      {
       "output_type": "stream",
       "stream": "stdout",
       "text": [
        " 1.0125 / random : 0.541846752293\n",
        "416 Ensemble: 4   failsteps= 181\n",
        "Shooting forward from frame 18\n",
        "417"
       ]
      },
      {
       "output_type": "stream",
       "stream": "stdout",
       "text": [
        " Ensemble: 4   failsteps= 182\n",
        "Shooting forward from frame 68\n",
        "Proposal probability"
       ]
      },
      {
       "output_type": "stream",
       "stream": "stdout",
       "text": [
        " 1.0 / random : 0.886545027072\n",
        "418"
       ]
      },
      {
       "output_type": "stream",
       "stream": "stdout",
       "text": [
        " Ensemble: 4   failsteps= 183\n",
        "Shooting forward from frame 37\n",
        "Proposal probability"
       ]
      },
      {
       "output_type": "stream",
       "stream": "stdout",
       "text": [
        " 0.888888888889 / random : 0.0397445374028\n",
        "419 Ensemble: 4   failsteps= 184\n",
        "Shooting forward from frame 5\n",
        "420"
       ]
      },
      {
       "output_type": "stream",
       "stream": "stdout",
       "text": [
        " Ensemble: 4   failsteps= 185\n",
        "Shooting forward from frame 13\n",
        "421"
       ]
      },
      {
       "output_type": "stream",
       "stream": "stdout",
       "text": [
        " Ensemble: 4   failsteps= 186\n",
        "Shooting backward from frame 28\n",
        "Proposal probability"
       ]
      },
      {
       "output_type": "stream",
       "stream": "stdout",
       "text": [
        " 1.02272727273 / random : 0.658238761859\n",
        "422 Ensemble: 4   failsteps= 187\n",
        "Shooting backward from frame 12\n",
        "Proposal probability"
       ]
      },
      {
       "output_type": "stream",
       "stream": "stdout",
       "text": [
        " 0.88 / random : 0.694360512129\n",
        "423 Ensemble: 4   failsteps= 188\n",
        "Shooting forward from frame 23\n",
        "424"
       ]
      },
      {
       "output_type": "stream",
       "stream": "stdout",
       "text": [
        " Ensemble: 4   failsteps= 189\n",
        "Shooting backward from frame 26\n",
        "Proposal probability"
       ]
      },
      {
       "output_type": "stream",
       "stream": "stdout",
       "text": [
        " 0.900900900901 / random : 0.644490781202\n",
        "425 Ensemble: 4   failsteps= 190\n",
        "Shooting forward from frame 41\n",
        "426"
       ]
      },
      {
       "output_type": "stream",
       "stream": "stdout",
       "text": [
        " Ensemble: 4   failsteps= 191\n",
        "Shooting forward from frame 37\n",
        "427"
       ]
      },
      {
       "output_type": "stream",
       "stream": "stdout",
       "text": [
        " Ensemble: 4   failsteps= 192\n",
        "Shooting backward from frame 38\n",
        "Proposal probability"
       ]
      },
      {
       "output_type": "stream",
       "stream": "stdout",
       "text": [
        " 1.24719101124 / random : 0.151214087335\n",
        "428 Ensemble: 4   failsteps= 193\n",
        "Shooting forward from frame 85\n",
        "Proposal probability"
       ]
      },
      {
       "output_type": "stream",
       "stream": "stdout",
       "text": [
        " 1.0 / random : 0.376140229935\n",
        "429 Ensemble: 4   failsteps= 194\n",
        "Shooting forward from frame 33\n",
        "Proposal probability"
       ]
      },
      {
       "output_type": "stream",
       "stream": "stdout",
       "text": [
        " 1.36923076923 / random : 0.880129656159\n",
        "430 Ensemble: 4   failsteps= 195\n",
        "Shooting backward from frame 51\n",
        "431"
       ]
      },
      {
       "output_type": "stream",
       "stream": "stdout",
       "text": [
        " Ensemble: 4   failsteps= 196\n",
        "Shooting forward from frame 25\n",
        "432"
       ]
      },
      {
       "output_type": "stream",
       "stream": "stdout",
       "text": [
        " Ensemble: 4   failsteps= 197\n",
        "Shooting backward from frame 56\n",
        "433"
       ]
      },
      {
       "output_type": "stream",
       "stream": "stdout",
       "text": [
        " Ensemble: 4   failsteps= 198\n",
        "Shooting forward from frame 6\n",
        "434 Ensemble: 4   failsteps= 199\n",
        "Shooting backward from frame 47\n",
        "435"
       ]
      },
      {
       "output_type": "stream",
       "stream": "stdout",
       "text": [
        " Ensemble: 4   failsteps= 200\n",
        "Shooting backward from frame 6\n",
        "Proposal probability"
       ]
      },
      {
       "output_type": "stream",
       "stream": "stdout",
       "text": [
        " 0.607476635514 / random : 0.151348876664\n",
        "436 Ensemble: 4   failsteps= 201\n",
        "Shooting backward from frame 6\n",
        "Proposal probability"
       ]
      },
      {
       "output_type": "stream",
       "stream": "stdout",
       "text": [
        " 0.743055555556 / random : 0.120122886812\n",
        "437 Ensemble: 4   failsteps= 202\n",
        "Shooting forward from frame 54\n",
        "438"
       ]
      },
      {
       "output_type": "stream",
       "stream": "stdout",
       "text": [
        " Ensemble: 4   failsteps= 203\n",
        "Shooting forward from frame 106\n",
        "439"
       ]
      },
      {
       "output_type": "stream",
       "stream": "stdout",
       "text": [
        " Ensemble: 4   failsteps= 204\n",
        "Shooting forward from frame 123\n",
        "Proposal probability"
       ]
      },
      {
       "output_type": "stream",
       "stream": "stdout",
       "text": [
        " 1.02857142857 / random : 0.120460921423\n",
        "440 Ensemble: 4   failsteps= 205\n",
        "Shooting backward from frame 43\n",
        "Proposal probability"
       ]
      },
      {
       "output_type": "stream",
       "stream": "stdout",
       "text": [
        " 1.18644067797 / random : 0.296292089805\n",
        "441 Ensemble: 4   failsteps= 206\n",
        "Shooting backward from frame 42\n",
        "Proposal probability"
       ]
      },
      {
       "output_type": "stream",
       "stream": "stdout",
       "text": [
        " 1.25531914894 / random : 0.966800504476\n",
        "442 Ensemble: 4   failsteps= 207\n",
        "Shooting forward from frame 67\n",
        "Proposal probability"
       ]
      },
      {
       "output_type": "stream",
       "stream": "stdout",
       "text": [
        " 0.88679245283 / random : 0.535151749049\n",
        "443 Ensemble: 4   failsteps= 208\n",
        "Shooting backward from frame 87\n",
        "444"
       ]
      },
      {
       "output_type": "stream",
       "stream": "stdout",
       "text": [
        " Ensemble: 4   failsteps= 209\n",
        "Shooting forward from frame 65\n",
        "Proposal probability"
       ]
      },
      {
       "output_type": "stream",
       "stream": "stdout",
       "text": [
        " 1.2183908046 / random : 0.350585196889\n",
        "445 Ensemble: 4   failsteps= 210\n",
        "Shooting forward from frame 32\n",
        "446"
       ]
      },
      {
       "output_type": "stream",
       "stream": "stdout",
       "text": [
        " Ensemble: 4   failsteps= 211\n",
        "Shooting forward from frame 33\n",
        "447"
       ]
      },
      {
       "output_type": "stream",
       "stream": "stdout",
       "text": [
        " Ensemble: 4   failsteps= 212\n",
        "Shooting forward from frame 11\n",
        "448"
       ]
      },
      {
       "output_type": "stream",
       "stream": "stdout",
       "text": [
        " Ensemble: 4   failsteps= 213\n",
        "Shooting backward from frame 58\n",
        "Proposal probability"
       ]
      },
      {
       "output_type": "stream",
       "stream": "stdout",
       "text": [
        " 1.55357142857 / random : 0.655159426492\n",
        "449 Ensemble: 4   failsteps= 214\n",
        "Shooting forward from frame 9\n",
        "450"
       ]
      },
      {
       "output_type": "stream",
       "stream": "stdout",
       "text": [
        " Ensemble: 4   failsteps= 215\n",
        "Shooting forward from frame 8\n",
        "451"
       ]
      },
      {
       "output_type": "stream",
       "stream": "stdout",
       "text": [
        " Ensemble: 4   failsteps= 216\n",
        "Shooting forward from frame 8\n",
        "452 Ensemble: 4   failsteps= 217\n",
        "Shooting backward from frame 16"
       ]
      },
      {
       "output_type": "stream",
       "stream": "stdout",
       "text": [
        "\n",
        "453"
       ]
      },
      {
       "output_type": "stream",
       "stream": "stdout",
       "text": [
        " Ensemble: 4   failsteps= 218\n",
        "Shooting forward from frame 33\n",
        "Proposal probability"
       ]
      },
      {
       "output_type": "stream",
       "stream": "stdout",
       "text": [
        " 0.848484848485 / random : 0.111218900178\n",
        "454 Ensemble: 4   failsteps= 219\n",
        "Shooting backward from frame 42\n",
        "Proposal probability"
       ]
      },
      {
       "output_type": "stream",
       "stream": "stdout",
       "text": [
        " 0.814814814815 / random : 0.980064870073\n",
        "455 Ensemble: 4   failsteps= 220\n",
        "Shooting backward from frame 14\n",
        "Proposal probability"
       ]
      },
      {
       "output_type": "stream",
       "stream": "stdout",
       "text": [
        " 0.6875 / random : 0.0862757333363\n",
        "456 Ensemble: 4   failsteps= 221\n",
        "Shooting forward from frame 39\n",
        "457"
       ]
      },
      {
       "output_type": "stream",
       "stream": "stdout",
       "text": [
        " Ensemble: 4   failsteps= 222\n",
        "Shooting backward from frame 86\n",
        "458"
       ]
      },
      {
       "output_type": "stream",
       "stream": "stdout",
       "text": [
        " Ensemble: 4   failsteps= 223\n",
        "Shooting backward from frame 55\n",
        "Proposal probability"
       ]
      },
      {
       "output_type": "stream",
       "stream": "stdout",
       "text": [
        " 1.24675324675 / random : 0.736924817832\n",
        "459 Ensemble: 4   failsteps= 224\n",
        "Shooting forward from frame 8\n",
        "460"
       ]
      },
      {
       "output_type": "stream",
       "stream": "stdout",
       "text": [
        " Ensemble: 4   failsteps= 225\n",
        "Shooting backward from frame 47\n",
        "Proposal probability"
       ]
      },
      {
       "output_type": "stream",
       "stream": "stdout",
       "text": [
        " 1.28333333333 / random : 0.653094929284\n",
        "461 Ensemble: 4   failsteps= 226\n",
        "Shooting forward from frame 29\n",
        "Proposal probability"
       ]
      },
      {
       "output_type": "stream",
       "stream": "stdout",
       "text": [
        " 0.821917808219 / random : 0.860335078361\n",
        "462"
       ]
      },
      {
       "output_type": "stream",
       "stream": "stdout",
       "text": [
        " Ensemble: 4   failsteps= 227\n",
        "Shooting forward from frame 22\n",
        "463"
       ]
      },
      {
       "output_type": "stream",
       "stream": "stdout",
       "text": [
        " Ensemble: 4   failsteps= 228\n",
        "Shooting backward from frame 38\n",
        "Proposal probability"
       ]
      },
      {
       "output_type": "stream",
       "stream": "stdout",
       "text": [
        " 0.512820512821 / random : 0.932892326868\n",
        "464 Ensemble: 4   failsteps= 229\n",
        "Shooting forward from frame 58\n",
        "Proposal probability"
       ]
      },
      {
       "output_type": "stream",
       "stream": "stdout",
       "text": [
        " 1.0 / random : 0.800843126488\n",
        "465 Ensemble: 4   failsteps= 230\n",
        "Shooting forward from frame 21\n",
        "466"
       ]
      },
      {
       "output_type": "stream",
       "stream": "stdout",
       "text": [
        " Ensemble: 4   failsteps= 231\n",
        "Shooting backward from frame 18\n",
        "Proposal probability"
       ]
      },
      {
       "output_type": "stream",
       "stream": "stdout",
       "text": [
        " 0.967741935484 / random : 0.163972626124\n",
        "467 Ensemble: 4   failsteps= 232\n",
        "Shooting backward from frame 47\n",
        "468"
       ]
      },
      {
       "output_type": "stream",
       "stream": "stdout",
       "text": [
        " Ensemble: 4   failsteps= 233\n",
        "Shooting forward from frame 32\n",
        "Proposal probability"
       ]
      },
      {
       "output_type": "stream",
       "stream": "stdout",
       "text": [
        " 1.06896551724 / random : 0.981429595215\n",
        "469 Ensemble: 4   failsteps= 234\n",
        "Shooting forward from frame 31\n",
        "Proposal probability"
       ]
      },
      {
       "output_type": "stream",
       "stream": "stdout",
       "text": [
        " 0.966666666667 / random : 0.238616986344\n"
       ]
      }
     ],
     "prompt_number": 22
    },
    {
     "cell_type": "markdown",
     "metadata": {},
     "source": [
      "We've stored all the trajectories we generated here; now we want to extract a path for each ensemble to use as a starting point for TIS. We'll choose to take the first path that satisfied each ensemble."
     ]
    },
    {
     "cell_type": "code",
     "collapsed": false,
     "input": [
      "print \"[ \",\n",
      "for sample in bootstrap.globalstate:\n",
      "    print str(sample.trajectory)+\" \",\n",
      "print \"]\""
     ],
     "language": "python",
     "metadata": {},
     "outputs": [
      {
       "output_type": "stream",
       "stream": "stdout",
       "text": [
        "[  Trajectory[17]  Trajectory[22]  Trajectory[23]  Trajectory[32]  Trajectory[60]  Trajectory[62]  ]\n"
       ]
      }
     ],
     "prompt_number": 25
    },
    {
     "cell_type": "markdown",
     "metadata": {},
     "source": [
      "Let's go ahead and visualize where each of those trajectories are:"
     ]
    },
    {
     "cell_type": "code",
     "collapsed": false,
     "input": [
      "plt.imshow(stateAmap+stateBmap, extent=extent, cmap=\"Blues\", interpolation='nearest', vmin=0.0, vmax=2.0, aspect='auto')\n",
      "CS = plt.contour(X, Y, pes_V(X,Y), levels=np.arange(0.0, 1.5, 0.1), colors='k')\n",
      "for iface in line_volume_set:\n",
      "    plt.contour(X,Y, np.vectorize(CallableVolume(iface))(X,Y), colors='r', interpolation='none', levels=[0.5])\n",
      "repcolordict = {0 : 'k-', 1 : 'r-', 2 : 'g-', 3 : 'b-', 4 : 'r-', 5 : 'k-'}\n",
      "for sample in bootstrap.globalstate:\n",
      "    plt.plot(sample.trajectory.coordinates()[:,0,0], \n",
      "             sample.trajectory.coordinates()[:,0,1],\n",
      "             repcolordict[sample.replica])"
     ],
     "language": "python",
     "metadata": {},
     "outputs": [
      {
       "metadata": {},
       "output_type": "display_data",
       "png": "[encoded data removed]",
       "text": [
        "<matplotlib.figure.Figure at 0x142bd3a90>"
       ]
      }
     ],
     "prompt_number": 27
    },
    {
     "cell_type": "markdown",
     "metadata": {},
     "source": [
      "## Equilibration in the Path Ensemble\n",
      "\n",
      "At the end of the bootstrapping process, we have a set of paths which we can use to start TIS sampling. Before doing a production run, we should let these paths equilibrate within the ensembles. If you generate your initial path through dynamics that aren't the true dynamics (e.g., using high temperature runs or using metadynamics), this stage is **extremely** important. It's important here as well, but less so than if your initial path is non-physical.\n",
      "\n",
      "This will be an example of a \"normal\" TIS run, i.e., TIS without replica exchange. We will sampling using only shooter movers (the same ones defined for the bootstrapping) and path reversal movers. First we define these path reveral movers:"
     ]
    },
    {
     "cell_type": "code",
     "collapsed": false,
     "input": [
      "#reversal_movers = mf.PathReversalSet(interface_ensemble_set)"
     ],
     "language": "python",
     "metadata": {},
     "outputs": []
    },
    {
     "cell_type": "markdown",
     "metadata": {},
     "source": [
      "Next we define global moves: we'll set this up so that each move either does a shooting move on all replicas, or does a path reversal move on all replicas. You can similarly set it up so that each move operates on only on one replica at a time."
     ]
    },
    {
     "cell_type": "code",
     "collapsed": false,
     "input": [
      "#equilibration_movers = GeneralGlobalMover([shooting_movers, reversal_movers])"
     ],
     "language": "python",
     "metadata": {},
     "outputs": []
    },
    {
     "cell_type": "markdown",
     "metadata": {},
     "source": [
      "Now we're ready to set up a TIS run:"
     ]
    },
    {
     "cell_type": "code",
     "collapsed": false,
     "input": [
      "#equilibration = PathSampling(interface_ensemble_set, equilibration_movers)"
     ],
     "language": "python",
     "metadata": {},
     "outputs": []
    },
    {
     "cell_type": "markdown",
     "metadata": {},
     "source": [
      "And now we run it. We'll do 1000 equilibration steps."
     ]
    },
    {
     "cell_type": "code",
     "collapsed": false,
     "input": [
      "#equilibration.run(1000)"
     ],
     "language": "python",
     "metadata": {},
     "outputs": []
    },
    {
     "cell_type": "markdown",
     "metadata": {},
     "source": [
      "## RETIS: Production run\n",
      "\n",
      "With everything else set up, we can set up the replica exchange movers, and reuse the other movers."
     ]
    },
    {
     "cell_type": "code",
     "collapsed": false,
     "input": [
      "#repex_movers = mf.NeighborReplicaExchange(interface_ensemble_set)"
     ],
     "language": "python",
     "metadata": {},
     "outputs": []
    },
    {
     "cell_type": "code",
     "collapsed": false,
     "input": [
      "#all_movers = [shooting_movers, repex_movers, reversal_movers]\n",
      "#production = PathSampling(interface_ensemble_set, all_movers)"
     ],
     "language": "python",
     "metadata": {},
     "outputs": []
    },
    {
     "cell_type": "code",
     "collapsed": false,
     "input": [
      "#production.run(500000)"
     ],
     "language": "python",
     "metadata": {},
     "outputs": []
    }
   ],
   "metadata": {}
  }
 ]
}
{
 "cells": [
  {
   "cell_type": "code",
   "execution_count": 1,
   "metadata": {
    "collapsed": true
   },
   "outputs": [],
   "source": [
    "import openpathsampling as paths"
   ]
  },
  {
   "cell_type": "code",
   "execution_count": 2,
   "metadata": {
    "collapsed": true
   },
   "outputs": [],
   "source": [
    "old_storage = paths.Storage(\"alanine_dipeptide_tps_equil.nc\", \"r\")"
   ]
  },
  {
   "cell_type": "code",
   "execution_count": 3,
   "metadata": {
    "collapsed": true
   },
   "outputs": [],
   "source": [
    "engine = old_storage.engines[0]\n",
    "alpha = old_storage.volumes.find('alpha')\n",
    "beta = old_storage.volumes.find('beta')\n",
    "traj = old_storage.samplesets[len(old_storage.samplesets)-1][0].trajectory\n",
    "phi = old_storage.cvs.find('phi')\n",
    "psi = old_storage.cvs.find('psi')\n",
    "template = old_storage.snapshots[0]"
   ]
  },
  {
   "cell_type": "code",
   "execution_count": 4,
   "metadata": {
    "collapsed": false
   },
   "outputs": [],
   "source": [
    "network = paths.FixedLengthTPSNetwork(alpha, beta, length=400)"
   ]
  },
  {
   "cell_type": "code",
   "execution_count": 5,
   "metadata": {
    "collapsed": false
   },
   "outputs": [
    {
     "name": "stdout",
     "output_type": "stream",
     "text": [
      "[Trajectory[400]]\n"
     ]
    }
   ],
   "source": [
    "trajectories = []\n",
    "i=0\n",
    "while len(trajectories) == 0 and i < 5:\n",
    "    max_len = 200 + i*50\n",
    "    fwd_traj = engine.generate(traj[-1], [lambda traj, foo: len(traj) < 200])\n",
    "    bkwd_traj = engine.generate(traj[0], [lambda traj, foo: len(traj) < 200], direction=-1)\n",
    "    new_traj = bkwd_traj[:-1] + traj + fwd_traj[1:]\n",
    "    trajectories = network.sampling_ensembles[0].split(new_traj)\n",
    "    print trajectories"
   ]
  },
  {
   "cell_type": "code",
   "execution_count": 6,
   "metadata": {
    "collapsed": false
   },
   "outputs": [],
   "source": [
    "trajectory = trajectories[0]"
   ]
  },
  {
   "cell_type": "code",
   "execution_count": 7,
   "metadata": {
    "collapsed": false
   },
   "outputs": [],
   "source": [
    "# save stuff\n",
    "storage = paths.Storage(\"alanine_dipeptide_fixed_tps_traj.nc\", \"w\", old_storage.snapshots[0])"
   ]
  },
  {
   "cell_type": "code",
   "execution_count": 8,
   "metadata": {
    "collapsed": false
   },
   "outputs": [
    {
     "data": {
      "text/plain": [
       "(store.trajectories[Trajectory], 0, 0)"
      ]
     },
     "execution_count": 8,
     "metadata": {},
     "output_type": "execute_result"
    }
   ],
   "source": [
    "storage.save(engine)\n",
    "storage.save(alpha)\n",
    "storage.save(beta)\n",
    "storage.save(phi)\n",
    "storage.save(psi)\n",
    "storage.save(trajectory)"
   ]
  },
  {
   "cell_type": "code",
   "execution_count": 11,
   "metadata": {
    "collapsed": false
   },
   "outputs": [],
   "source": [
    "storage.sync()"
   ]
  },
  {
   "cell_type": "code",
   "execution_count": null,
   "metadata": {
    "collapsed": true
   },
   "outputs": [],
   "source": []
  }
 ],
 "metadata": {
  "kernelspec": {
   "display_name": "Python 2",
   "language": "python",
   "name": "python2"
  },
  "language_info": {
   "codemirror_mode": {
    "name": "ipython",
    "version": 2
   },
   "file_extension": ".py",
   "mimetype": "text/x-python",
   "name": "python",
   "nbconvert_exporter": "python",
   "pygments_lexer": "ipython2",
   "version": "2.7.11"
  }
 },
 "nbformat": 4,
 "nbformat_minor": 0
}

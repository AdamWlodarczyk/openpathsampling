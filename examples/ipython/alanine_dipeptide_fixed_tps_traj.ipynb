{
 "cells": [
  {
   "cell_type": "markdown",
   "metadata": {},
   "source": [
    "This notebook is part of the fixed length TPS example. It requires the file `alanine_dipeptide_tps_equil.nc`, which is written in the notebook `alanine_dipeptide_tps_first_traj.ipynb`.\n",
    "\n",
    "In this notebook, you will learn:\n",
    "* how to set up a `FixedLengthTPSNetwork`\n",
    "* how to extend a transition path to satisfy the fixed length TPS ensemble\n",
    "* how to save specific objects to a file"
   ]
  },
  {
   "cell_type": "code",
   "execution_count": 1,
   "metadata": {
    "collapsed": true
   },
   "outputs": [],
   "source": [
    "import openpathsampling as paths"
   ]
  },
  {
   "cell_type": "markdown",
   "metadata": {},
   "source": [
    "## Loading from storage\n",
    "\n",
    "First, we open the file we made in `alanine_dipeptide_tps_first_traj.ipynb` and load various things we need from that."
   ]
  },
  {
   "cell_type": "code",
   "execution_count": 2,
   "metadata": {
    "collapsed": true
   },
   "outputs": [],
   "source": [
    "old_storage = paths.Storage(\"tps_nc_files/alanine_dipeptide_tps_equil.nc\", \"r\")"
   ]
  },
  {
   "cell_type": "code",
   "execution_count": 3,
   "metadata": {
    "collapsed": true
   },
   "outputs": [],
   "source": [
    "engine = old_storage.engines[0]\n",
    "C_7eq = old_storage.volumes.find('C_7eq')\n",
    "alpha_R = old_storage.volumes.find('alpha_R')\n",
    "traj = old_storage.samplesets[len(old_storage.samplesets)-1][0].trajectory\n",
    "phi = old_storage.cvs.find('phi')\n",
    "psi = old_storage.cvs.find('psi')\n",
    "template = old_storage.snapshots[0]"
   ]
  },
  {
   "cell_type": "markdown",
   "metadata": {},
   "source": [
    "## Building a trajectory to suit the ensemble\n",
    "\n",
    "We're starting from a trajectory that makes the transition. However, we need that trajectory to be longer than it is.\n",
    "\n",
    "There's an important subtlety here: we can't just extend the trajectory in one direction until is satisfies our length requirement, because it is very possible that the final frame would be in the no-man's-land that isn't either state, and then it wouldn't satisfy the ensemble. (Additionally, without a shifting move, having the transition at the far edge of the trajectory time could be problematic.)\n",
    "\n",
    "So our approach here is to extend the trajectory in either direction by half the fixed length. That gives us a total trajectory length of the fixed length plus the length of the original trajectory. Within this trajectory, we try to find an subtrajectory that satisfies our ensemble. If we don't, then we add more frames to each side and try again."
   ]
  },
  {
   "cell_type": "code",
   "execution_count": 4,
   "metadata": {
    "collapsed": false
   },
   "outputs": [],
   "source": [
    "network = paths.FixedLengthTPSNetwork(C_7eq, alpha_R, length=400)"
   ]
  },
  {
   "cell_type": "code",
   "execution_count": 5,
   "metadata": {
    "collapsed": false
   },
   "outputs": [
    {
     "name": "stdout",
     "output_type": "stream",
     "text": [
      "[]\n",
      "[Trajectory[400]]\n"
     ]
    }
   ],
   "source": [
    "trajectories = []\n",
    "i=0\n",
    "while len(trajectories) == 0 and i < 5:\n",
    "    max_len = 200 + i*50\n",
    "    fwd_traj = engine.generate(traj[-1], [lambda traj, foo: len(traj) < max_len])\n",
    "    bkwd_traj = engine.generate(traj[0], [lambda traj, foo: len(traj) < max_len], direction=-1)\n",
    "    new_traj = bkwd_traj[:-1] + traj + fwd_traj[1:]\n",
    "    trajectories = network.sampling_ensembles[0].split(new_traj)\n",
    "    print trajectories"
   ]
  },
  {
   "cell_type": "code",
   "execution_count": 6,
   "metadata": {
    "collapsed": false
   },
   "outputs": [],
   "source": [
    "# raises an error if we still haven't found a suitable trajectory\n",
    "trajectory = trajectories[0]"
   ]
  },
  {
   "cell_type": "markdown",
   "metadata": {},
   "source": [
    "## Plot the trajectory\n",
    "\n",
    "This is exactly as done in `alanine_dipeptide_tps_first_traj.ipynb`."
   ]
  },
  {
   "cell_type": "code",
   "execution_count": 7,
   "metadata": {
    "collapsed": true
   },
   "outputs": [],
   "source": [
    "# Imports for plotting\n",
    "%matplotlib inline\n",
    "import matplotlib.pyplot as plt"
   ]
  },
  {
   "cell_type": "code",
   "execution_count": 8,
   "metadata": {
    "collapsed": false
   },
   "outputs": [
    {
     "data": {
      "text/plain": [
       "[<matplotlib.lines.Line2D at 0x11c16d290>]"
      ]
     },
     "execution_count": 8,
     "metadata": {},
     "output_type": "execute_result"
    },
    {
     "data": {
      "image/png": "[encoded data removed]",
      "text/plain": [
       "<matplotlib.figure.Figure at 0x11a0a6cd0>"
      ]
     },
     "metadata": {},
     "output_type": "display_data"
    }
   ],
   "source": [
    "plt.plot(phi(trajectory), psi(trajectory))\n",
    "plt.plot(phi(traj), psi(traj))"
   ]
  },
  {
   "cell_type": "markdown",
   "metadata": {},
   "source": [
    "## Save stuff\n",
    "\n",
    "When we do path sampling, the `PathSampling` object automatically handles saving for us. However, we can also save things explicitly.\n",
    "\n",
    "Saving works in two steps: first you mark an object as being something to save with `storage.save(object)`. But at this point, the object is not actually stored to disk. That only happens after `storage.sync()`."
   ]
  },
  {
   "cell_type": "code",
   "execution_count": 9,
   "metadata": {
    "collapsed": false
   },
   "outputs": [],
   "source": [
    "# save stuff\n",
    "storage = paths.Storage(\"tps_nc_files/alanine_dipeptide_fixed_tps_traj.nc\", \"w\", old_storage.snapshots[0])"
   ]
  },
  {
   "cell_type": "code",
   "execution_count": 10,
   "metadata": {
    "collapsed": false
   },
   "outputs": [
    {
     "data": {
      "text/plain": [
       "(store.trajectories[Trajectory],\n",
       " 0,\n",
       " UUID('0075e445-67b2-11e6-80ce-0000000fa77a'))"
      ]
     },
     "execution_count": 10,
     "metadata": {},
     "output_type": "execute_result"
    }
   ],
   "source": [
    "storage.save(engine)\n",
    "storage.save(C_7eq)\n",
    "storage.save(alpha_R)\n",
    "storage.save(phi)\n",
    "storage.save(psi)\n",
    "storage.save(trajectory)"
   ]
  },
  {
   "cell_type": "code",
   "execution_count": 11,
   "metadata": {
    "collapsed": false
   },
   "outputs": [],
   "source": [
    "storage.sync()"
   ]
  },
  {
   "cell_type": "code",
   "execution_count": null,
   "metadata": {
    "collapsed": true
   },
   "outputs": [],
   "source": []
  }
 ],
 "metadata": {
  "kernelspec": {
   "display_name": "Python 2",
   "language": "python",
   "name": "python2"
  },
  "language_info": {
   "codemirror_mode": {
    "name": "ipython",
    "version": 2
   },
   "file_extension": ".py",
   "mimetype": "text/x-python",
   "name": "python",
   "nbconvert_exporter": "python",
   "pygments_lexer": "ipython2",
   "version": "2.7.12"
  }
 },
 "nbformat": 4,
 "nbformat_minor": 0
}

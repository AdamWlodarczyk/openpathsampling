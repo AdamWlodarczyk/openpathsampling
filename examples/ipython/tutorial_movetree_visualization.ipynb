{
 "cells": [
  {
   "cell_type": "code",
   "execution_count": 1,
   "metadata": {
    "collapsed": true
   },
   "outputs": [],
   "source": [
    "import openpathsampling as p\n",
    "from IPython.display import SVG\n",
    "import openpathsampling.visualize as vis"
   ]
  },
  {
   "cell_type": "code",
   "execution_count": 2,
   "metadata": {
    "collapsed": true
   },
   "outputs": [],
   "source": [
    "st = p.Storage('mstis.nc', mode='r')"
   ]
  },
  {
   "cell_type": "code",
   "execution_count": 3,
   "metadata": {
    "collapsed": false
   },
   "outputs": [],
   "source": [
    "scheme = st.schemes.first"
   ]
  },
  {
   "cell_type": "code",
   "execution_count": 4,
   "metadata": {
    "collapsed": false
   },
   "outputs": [
    {
     "data": {
      "text/plain": [
       "<module 'openpathsampling.visualize' from '/Users/jan-hendrikprinz/Studium/git/openpathsampling/openpathsampling/visualize.pyc'>"
      ]
     },
     "execution_count": 4,
     "metadata": {},
     "output_type": "execute_result"
    }
   ],
   "source": [
    "reload(vis)"
   ]
  },
  {
   "cell_type": "code",
   "execution_count": 5,
   "metadata": {
    "collapsed": false,
    "scrolled": false
   },
   "outputs": [
    {
     "data": {
      "image/svg+xml": [
       "<svg baseProfile=\"full\" class=\"movetree\" height=\"100%\" version=\"1.1\" viewBox=\"-240.00 -120.00 610.00 1900.00\" width=\"610.0\" xmlns=\"http://www.w3.org/2000/svg\" xmlns:ev=\"http://www.w3.org/2001/xml-events\" xmlns:xlink=\"http://www.w3.org/1999/xlink\"><defs><style type=\"text/css\"><![CDATA[\n",
       ".opstree text, .movetree text {\n",
       "    alignment-baseline: central;\n",
       "    font-size: 10px;\n",
       "    text-anchor: middle;\n",
       "    font-family: Futura-CondensedMedium;\n",
       "    font-weight: lighter;\n",
       "    stroke: none !important;\n",
       "}\n",
       ".opstree .block text, .movetree .block text {\n",
       "    alignment-baseline: central;\n",
       "    font-size: 8px;\n",
       "    text-anchor: middle;\n",
       "    font-family: Futura-CondensedMedium;\n",
       "    font-weight: lighter;\n",
       "    stroke: none !important;\n",
       "}\n",
       ".opstree text.shadow {\n",
       "    stroke-width: 3;\n",
       "    stroke: white !important;\n",
       "}\n",
       ".opstree .left.label .shift text {\n",
       "    text-anchor: end;\n",
       "}\n",
       ".opstree .right.label .shift text {\n",
       "    text-anchor: start;\n",
       "}\n",
       ".opstree .block text, .movetree .block text {\n",
       "    fill: white !important;\n",
       "    stroke: none !important;\n",
       "}\n",
       ".opstree .block {\n",
       "    stroke: none !important;\n",
       "}\n",
       ".opstree g.block:hover rect {\n",
       "    opacity: 0.5;\n",
       "}\n",
       ".opstree .repex {\n",
       "    fill: blue;\n",
       "    stroke: blue;\n",
       "}\n",
       ".opstree .extend {\n",
       "    fill: blue;\n",
       "    stroke: blue;\n",
       "}\n",
       ".opstree .truncate {\n",
       "    fill: blue;\n",
       "    stroke: blue;\n",
       "}\n",
       ".opstree .new {\n",
       "    fill: black;\n",
       "    stroke: black;\n",
       "}\n",
       ".opstree .unknown {\n",
       "    fill: gray;\n",
       "    stroke: gray;\n",
       "}\n",
       ".opstree .hop {\n",
       "    fill: blue;\n",
       "    stroke: blue;\n",
       "}\n",
       ".opstree .correlation {\n",
       "    fill: black;\n",
       "    stroke: black;\n",
       "}\n",
       ".opstree .shooting.bw {\n",
       "    fill: green;\n",
       "    stroke: green;\n",
       "}\n",
       ".opstree .shooting.fw {\n",
       "    fill: red;\n",
       "    stroke: red;\n",
       "}\n",
       ".opstree .shooting.overlap {\n",
       "    fill: #666;\n",
       "    stroke: #666;\n",
       "}\n",
       ".opstree .reversal {\n",
       "    fill: gold;\n",
       "    stroke: gold;\n",
       "}\n",
       ".opstree .virtual {\n",
       "    opacity: 0.1;\n",
       "    fill:gray;\n",
       "    stroke: none;\n",
       "}\n",
       ".opstree line {\n",
       "    stroke-width: 2px;\n",
       "}\n",
       ".opstree .label {\n",
       "    fill: black !important;\n",
       "}\n",
       ".opstree .h-connector {\n",
       "    stroke-width: 0.1px;\n",
       "    stroke-dasharray: 3 3;\n",
       "}\n",
       ".opstree .rejected {\n",
       "    opacity: 0.3;\n",
       "}\n",
       ".opstree .level {\n",
       "    opacity: 0.5;\n",
       "}\n",
       ".opstree .orange {\n",
       "    fill: orange;\n",
       "}\n",
       ".tableline {\n",
       "    fill: gray;\n",
       "    opacity: 0.0;\n",
       "}\n",
       ".tableline:hover {\n",
       "    opacity: 0.2;\n",
       "}\n",
       ".opstree .left.label g.shift {\n",
       "    transform: translateX(-6px);\n",
       "}\n",
       ".opstree .right.label g.shift {\n",
       "    transform: translateX(+6px);\n",
       "}\n",
       ".opstree .infobox text {\n",
       "    text-anchor: start;\n",
       "}\n",
       ".opstree .shade {\n",
       "    stroke: none;\n",
       "}\n",
       "\n",
       ".movetree .label .shift {\n",
       "    transform: translateX(-18px);\n",
       "}\n",
       "\n",
       ".movetree .label text {\n",
       "    text-anchor: end;\n",
       "}\n",
       ".movetree .v-connector {\n",
       "    stroke: black;\n",
       "}\n",
       ".movetree .v-hook {\n",
       "    stroke: black;\n",
       "}\n",
       ".movetree .ensembles .head .shift {\n",
       "    transform: translateY(0px) rotate(270deg) ;\n",
       "}\n",
       ".movetree .ensembles .head text {\n",
       "    text-anchor: start;\n",
       "}\n",
       ".movetree .connector.input {\n",
       "    fill: green;\n",
       "}\n",
       ".movetree .connector.output {\n",
       "    fill: red;\n",
       "}\n",
       ".movetree .unknown {\n",
       "    fill: gray;\n",
       "}\n",
       "]]></style></defs><g class=\"tree\"><g class=\"block\"><rect height=\"12.0\" width=\"18.0\" x=\"-9.0\" y=\"-6.0\"/><circle cx=\"-10.0\" cy=\"0.0\" r=\"1.0\"/><circle cx=\"10.0\" cy=\"0.0\" r=\"1.0\"/><text x=\"0.0\" y=\"0.0\"/></g><g class=\"label\" transform=\"translate(0.0,0.0)\"><g class=\"shift\"><text x=\"0\" y=\"0\">RandomChoice</text></g></g><g class=\"block\"><rect height=\"12.0\" width=\"18.0\" x=\"-29.0\" y=\"14.0\"/><circle cx=\"-30.0\" cy=\"20.0\" r=\"1.0\"/><circle cx=\"-10.0\" cy=\"20.0\" r=\"1.0\"/><text x=\"-20.0\" y=\"20.0\"/></g><g class=\"label\" transform=\"translate(-20.0,20.0)\"><g class=\"shift\"><text x=\"0\" y=\"0\">RandomChoice</text></g></g><line class=\"v-connector\" x1=\"-10.0\" x2=\"-10.0\" y1=\"21.0\" y2=\"-1.0\"/><g class=\"block\"><rect height=\"12.0\" width=\"18.0\" x=\"-49.0\" y=\"34.0\"/><circle cx=\"-50.0\" cy=\"40.0\" r=\"1.0\"/><circle cx=\"-30.0\" cy=\"40.0\" r=\"1.0\"/><text x=\"-40.0\" y=\"40.0\"/></g><g class=\"label\" transform=\"translate(-40.0,40.0)\"><g class=\"shift\"><text x=\"0\" y=\"0\">OneWayShooting</text></g></g><line class=\"v-connector\" x1=\"-30.0\" x2=\"-30.0\" y1=\"41.0\" y2=\"19.0\"/><g class=\"block\"><rect height=\"12.0\" width=\"18.0\" x=\"-69.0\" y=\"54.0\"/><circle cx=\"-70.0\" cy=\"60.0\" r=\"1.0\"/><circle cx=\"-50.0\" cy=\"60.0\" r=\"1.0\"/><text x=\"-60.0\" y=\"60.0\"/></g><g class=\"label\" transform=\"translate(-60.0,60.0)\"><g class=\"shift\"><text x=\"0\" y=\"0\">ForwardShoot</text></g></g><line class=\"v-connector\" x1=\"-50.0\" x2=\"-50.0\" y1=\"61.0\" y2=\"39.0\"/><g class=\"block\"><rect height=\"12.0\" width=\"18.0\" x=\"-69.0\" y=\"74.0\"/><circle cx=\"-70.0\" cy=\"80.0\" r=\"1.0\"/><circle cx=\"-50.0\" cy=\"80.0\" r=\"1.0\"/><text x=\"-60.0\" y=\"80.0\"/></g><g class=\"label\" transform=\"translate(-60.0,80.0)\"><g class=\"shift\"><text x=\"0\" y=\"0\">BackwardShoot</text></g></g><line class=\"v-connector\" x1=\"-50.0\" x2=\"-50.0\" y1=\"81.0\" y2=\"59.0\"/><g class=\"block\"><rect height=\"12.0\" width=\"18.0\" x=\"-29.0\" y=\"94.0\"/><circle cx=\"-30.0\" cy=\"100.0\" r=\"1.0\"/><circle cx=\"-10.0\" cy=\"100.0\" r=\"1.0\"/><text x=\"-20.0\" y=\"100.0\"/></g><g class=\"label\" transform=\"translate(-20.0,100.0)\"><g class=\"shift\"><text x=\"0\" y=\"0\">RandomChoice</text></g></g><line class=\"v-connector\" x1=\"-10.0\" x2=\"-10.0\" y1=\"101.0\" y2=\"19.0\"/><g class=\"block\"><rect height=\"12.0\" width=\"18.0\" x=\"-49.0\" y=\"114.0\"/><circle cx=\"-50.0\" cy=\"120.0\" r=\"1.0\"/><circle cx=\"-30.0\" cy=\"120.0\" r=\"1.0\"/><text x=\"-40.0\" y=\"120.0\"/></g><g class=\"label\" transform=\"translate(-40.0,120.0)\"><g class=\"shift\"><text x=\"0\" y=\"0\">ReplicaExchange</text></g></g><line class=\"v-connector\" x1=\"-30.0\" x2=\"-30.0\" y1=\"121.0\" y2=\"99.0\"/><g class=\"block\"><rect height=\"12.0\" width=\"18.0\" x=\"-49.0\" y=\"134.0\"/><circle cx=\"-50.0\" cy=\"140.0\" r=\"1.0\"/><circle cx=\"-30.0\" cy=\"140.0\" r=\"1.0\"/><text x=\"-40.0\" y=\"140.0\"/></g><g class=\"label\" transform=\"translate(-40.0,140.0)\"><g class=\"shift\"><text x=\"0\" y=\"0\">ReplicaExchange</text></g></g><line class=\"v-connector\" x1=\"-30.0\" x2=\"-30.0\" y1=\"141.0\" y2=\"119.0\"/><g class=\"block\"><rect height=\"12.0\" width=\"18.0\" x=\"-49.0\" y=\"154.0\"/><circle cx=\"-50.0\" cy=\"160.0\" r=\"1.0\"/><circle cx=\"-30.0\" cy=\"160.0\" r=\"1.0\"/><text x=\"-40.0\" y=\"160.0\"/></g><g class=\"label\" transform=\"translate(-40.0,160.0)\"><g class=\"shift\"><text x=\"0\" y=\"0\">ReplicaExchange</text></g></g><line class=\"v-connector\" x1=\"-30.0\" x2=\"-30.0\" y1=\"161.0\" y2=\"139.0\"/><g class=\"block\"><rect height=\"12.0\" width=\"18.0\" x=\"-49.0\" y=\"174.0\"/><circle cx=\"-50.0\" cy=\"180.0\" r=\"1.0\"/><circle cx=\"-30.0\" cy=\"180.0\" r=\"1.0\"/><text x=\"-40.0\" y=\"180.0\"/></g><g class=\"label\" transform=\"translate(-40.0,180.0)\"><g class=\"shift\"><text x=\"0\" y=\"0\">ReplicaExchange</text></g></g><line class=\"v-connector\" x1=\"-30.0\" x2=\"-30.0\" y1=\"181.0\" y2=\"159.0\"/><g class=\"block\"><rect height=\"12.0\" width=\"18.0\" x=\"-49.0\" y=\"194.0\"/><circle cx=\"-50.0\" cy=\"200.0\" r=\"1.0\"/><circle cx=\"-30.0\" cy=\"200.0\" r=\"1.0\"/><text x=\"-40.0\" y=\"200.0\"/></g><g class=\"label\" transform=\"translate(-40.0,200.0)\"><g class=\"shift\"><text x=\"0\" y=\"0\">ReplicaExchange</text></g></g><line class=\"v-connector\" x1=\"-30.0\" x2=\"-30.0\" y1=\"201.0\" y2=\"179.0\"/><g class=\"block\"><rect height=\"12.0\" width=\"18.0\" x=\"-49.0\" y=\"214.0\"/><circle cx=\"-50.0\" cy=\"220.0\" r=\"1.0\"/><circle cx=\"-30.0\" cy=\"220.0\" r=\"1.0\"/><text x=\"-40.0\" y=\"220.0\"/></g><g class=\"label\" transform=\"translate(-40.0,220.0)\"><g class=\"shift\"><text x=\"0\" y=\"0\">ReplicaExchange</text></g></g><line class=\"v-connector\" x1=\"-30.0\" x2=\"-30.0\" y1=\"221.0\" y2=\"199.0\"/><g class=\"block\"><rect height=\"12.0\" width=\"18.0\" x=\"-49.0\" y=\"234.0\"/><circle cx=\"-50.0\" cy=\"240.0\" r=\"1.0\"/><circle cx=\"-30.0\" cy=\"240.0\" r=\"1.0\"/><text x=\"-40.0\" y=\"240.0\"/></g><g class=\"label\" transform=\"translate(-40.0,240.0)\"><g class=\"shift\"><text x=\"0\" y=\"0\">ReplicaExchange</text></g></g><line class=\"v-connector\" x1=\"-30.0\" x2=\"-30.0\" y1=\"241.0\" y2=\"219.0\"/><g class=\"block\"><rect height=\"12.0\" width=\"18.0\" x=\"-49.0\" y=\"254.0\"/><circle cx=\"-50.0\" cy=\"260.0\" r=\"1.0\"/><circle cx=\"-30.0\" cy=\"260.0\" r=\"1.0\"/><text x=\"-40.0\" y=\"260.0\"/></g><g class=\"label\" transform=\"translate(-40.0,260.0)\"><g class=\"shift\"><text x=\"0\" y=\"0\">ReplicaExchange</text></g></g><line class=\"v-connector\" x1=\"-30.0\" x2=\"-30.0\" y1=\"261.0\" y2=\"239.0\"/><g class=\"block\"><rect height=\"12.0\" width=\"18.0\" x=\"-49.0\" y=\"274.0\"/><circle cx=\"-50.0\" cy=\"280.0\" r=\"1.0\"/><circle cx=\"-30.0\" cy=\"280.0\" r=\"1.0\"/><text x=\"-40.0\" y=\"280.0\"/></g><g class=\"label\" transform=\"translate(-40.0,280.0)\"><g class=\"shift\"><text x=\"0\" y=\"0\">ReplicaExchange</text></g></g><line class=\"v-connector\" x1=\"-30.0\" x2=\"-30.0\" y1=\"281.0\" y2=\"259.0\"/><g class=\"block\"><rect height=\"12.0\" width=\"18.0\" x=\"-29.0\" y=\"294.0\"/><circle cx=\"-30.0\" cy=\"300.0\" r=\"1.0\"/><circle cx=\"-10.0\" cy=\"300.0\" r=\"1.0\"/><text x=\"-20.0\" y=\"300.0\"/></g><g class=\"label\" transform=\"translate(-20.0,300.0)\"><g class=\"shift\"><text x=\"0\" y=\"0\">RandomChoice</text></g></g><line class=\"v-connector\" x1=\"-10.0\" x2=\"-10.0\" y1=\"301.0\" y2=\"99.0\"/><g class=\"block\"><rect height=\"12.0\" width=\"18.0\" x=\"-49.0\" y=\"314.0\"/><circle cx=\"-50.0\" cy=\"320.0\" r=\"1.0\"/><circle cx=\"-30.0\" cy=\"320.0\" r=\"1.0\"/><text x=\"-40.0\" y=\"320.0\"/></g><g class=\"label\" transform=\"translate(-40.0,320.0)\"><g class=\"shift\"><text x=\"0\" y=\"0\">OneWayShooting</text></g></g><line class=\"v-connector\" x1=\"-30.0\" x2=\"-30.0\" y1=\"321.0\" y2=\"299.0\"/><g class=\"block\"><rect height=\"12.0\" width=\"18.0\" x=\"-69.0\" y=\"334.0\"/><circle cx=\"-70.0\" cy=\"340.0\" r=\"1.0\"/><circle cx=\"-50.0\" cy=\"340.0\" r=\"1.0\"/><text x=\"-60.0\" y=\"340.0\"/></g><g class=\"label\" transform=\"translate(-60.0,340.0)\"><g class=\"shift\"><text x=\"0\" y=\"0\">ForwardShoot</text></g></g><line class=\"v-connector\" x1=\"-50.0\" x2=\"-50.0\" y1=\"341.0\" y2=\"319.0\"/><g class=\"block\"><rect height=\"12.0\" width=\"18.0\" x=\"-69.0\" y=\"354.0\"/><circle cx=\"-70.0\" cy=\"360.0\" r=\"1.0\"/><circle cx=\"-50.0\" cy=\"360.0\" r=\"1.0\"/><text x=\"-60.0\" y=\"360.0\"/></g><g class=\"label\" transform=\"translate(-60.0,360.0)\"><g class=\"shift\"><text x=\"0\" y=\"0\">BackwardShoot</text></g></g><line class=\"v-connector\" x1=\"-50.0\" x2=\"-50.0\" y1=\"361.0\" y2=\"339.0\"/><g class=\"block\"><rect height=\"12.0\" width=\"18.0\" x=\"-49.0\" y=\"374.0\"/><circle cx=\"-50.0\" cy=\"380.0\" r=\"1.0\"/><circle cx=\"-30.0\" cy=\"380.0\" r=\"1.0\"/><text x=\"-40.0\" y=\"380.0\"/></g><g class=\"label\" transform=\"translate(-40.0,380.0)\"><g class=\"shift\"><text x=\"0\" y=\"0\">OneWayShooting</text></g></g><line class=\"v-connector\" x1=\"-30.0\" x2=\"-30.0\" y1=\"381.0\" y2=\"319.0\"/><g class=\"block\"><rect height=\"12.0\" width=\"18.0\" x=\"-69.0\" y=\"394.0\"/><circle cx=\"-70.0\" cy=\"400.0\" r=\"1.0\"/><circle cx=\"-50.0\" cy=\"400.0\" r=\"1.0\"/><text x=\"-60.0\" y=\"400.0\"/></g><g class=\"label\" transform=\"translate(-60.0,400.0)\"><g class=\"shift\"><text x=\"0\" y=\"0\">ForwardShoot</text></g></g><line class=\"v-connector\" x1=\"-50.0\" x2=\"-50.0\" y1=\"401.0\" y2=\"379.0\"/><g class=\"block\"><rect height=\"12.0\" width=\"18.0\" x=\"-69.0\" y=\"414.0\"/><circle cx=\"-70.0\" cy=\"420.0\" r=\"1.0\"/><circle cx=\"-50.0\" cy=\"420.0\" r=\"1.0\"/><text x=\"-60.0\" y=\"420.0\"/></g><g class=\"label\" transform=\"translate(-60.0,420.0)\"><g class=\"shift\"><text x=\"0\" y=\"0\">BackwardShoot</text></g></g><line class=\"v-connector\" x1=\"-50.0\" x2=\"-50.0\" y1=\"421.0\" y2=\"399.0\"/><g class=\"block\"><rect height=\"12.0\" width=\"18.0\" x=\"-49.0\" y=\"434.0\"/><circle cx=\"-50.0\" cy=\"440.0\" r=\"1.0\"/><circle cx=\"-30.0\" cy=\"440.0\" r=\"1.0\"/><text x=\"-40.0\" y=\"440.0\"/></g><g class=\"label\" transform=\"translate(-40.0,440.0)\"><g class=\"shift\"><text x=\"0\" y=\"0\">OneWayShooting</text></g></g><line class=\"v-connector\" x1=\"-30.0\" x2=\"-30.0\" y1=\"441.0\" y2=\"379.0\"/><g class=\"block\"><rect height=\"12.0\" width=\"18.0\" x=\"-69.0\" y=\"454.0\"/><circle cx=\"-70.0\" cy=\"460.0\" r=\"1.0\"/><circle cx=\"-50.0\" cy=\"460.0\" r=\"1.0\"/><text x=\"-60.0\" y=\"460.0\"/></g><g class=\"label\" transform=\"translate(-60.0,460.0)\"><g class=\"shift\"><text x=\"0\" y=\"0\">ForwardShoot</text></g></g><line class=\"v-connector\" x1=\"-50.0\" x2=\"-50.0\" y1=\"461.0\" y2=\"439.0\"/><g class=\"block\"><rect height=\"12.0\" width=\"18.0\" x=\"-69.0\" y=\"474.0\"/><circle cx=\"-70.0\" cy=\"480.0\" r=\"1.0\"/><circle cx=\"-50.0\" cy=\"480.0\" r=\"1.0\"/><text x=\"-60.0\" y=\"480.0\"/></g><g class=\"label\" transform=\"translate(-60.0,480.0)\"><g class=\"shift\"><text x=\"0\" y=\"0\">BackwardShoot</text></g></g><line class=\"v-connector\" x1=\"-50.0\" x2=\"-50.0\" y1=\"481.0\" y2=\"459.0\"/><g class=\"block\"><rect height=\"12.0\" width=\"18.0\" x=\"-49.0\" y=\"494.0\"/><circle cx=\"-50.0\" cy=\"500.0\" r=\"1.0\"/><circle cx=\"-30.0\" cy=\"500.0\" r=\"1.0\"/><text x=\"-40.0\" y=\"500.0\"/></g><g class=\"label\" transform=\"translate(-40.0,500.0)\"><g class=\"shift\"><text x=\"0\" y=\"0\">OneWayShooting</text></g></g><line class=\"v-connector\" x1=\"-30.0\" x2=\"-30.0\" y1=\"501.0\" y2=\"439.0\"/><g class=\"block\"><rect height=\"12.0\" width=\"18.0\" x=\"-69.0\" y=\"514.0\"/><circle cx=\"-70.0\" cy=\"520.0\" r=\"1.0\"/><circle cx=\"-50.0\" cy=\"520.0\" r=\"1.0\"/><text x=\"-60.0\" y=\"520.0\"/></g><g class=\"label\" transform=\"translate(-60.0,520.0)\"><g class=\"shift\"><text x=\"0\" y=\"0\">ForwardShoot</text></g></g><line class=\"v-connector\" x1=\"-50.0\" x2=\"-50.0\" y1=\"521.0\" y2=\"499.0\"/><g class=\"block\"><rect height=\"12.0\" width=\"18.0\" x=\"-69.0\" y=\"534.0\"/><circle cx=\"-70.0\" cy=\"540.0\" r=\"1.0\"/><circle cx=\"-50.0\" cy=\"540.0\" r=\"1.0\"/><text x=\"-60.0\" y=\"540.0\"/></g><g class=\"label\" transform=\"translate(-60.0,540.0)\"><g class=\"shift\"><text x=\"0\" y=\"0\">BackwardShoot</text></g></g><line class=\"v-connector\" x1=\"-50.0\" x2=\"-50.0\" y1=\"541.0\" y2=\"519.0\"/><g class=\"block\"><rect height=\"12.0\" width=\"18.0\" x=\"-49.0\" y=\"554.0\"/><circle cx=\"-50.0\" cy=\"560.0\" r=\"1.0\"/><circle cx=\"-30.0\" cy=\"560.0\" r=\"1.0\"/><text x=\"-40.0\" y=\"560.0\"/></g><g class=\"label\" transform=\"translate(-40.0,560.0)\"><g class=\"shift\"><text x=\"0\" y=\"0\">OneWayShooting</text></g></g><line class=\"v-connector\" x1=\"-30.0\" x2=\"-30.0\" y1=\"561.0\" y2=\"499.0\"/><g class=\"block\"><rect height=\"12.0\" width=\"18.0\" x=\"-69.0\" y=\"574.0\"/><circle cx=\"-70.0\" cy=\"580.0\" r=\"1.0\"/><circle cx=\"-50.0\" cy=\"580.0\" r=\"1.0\"/><text x=\"-60.0\" y=\"580.0\"/></g><g class=\"label\" transform=\"translate(-60.0,580.0)\"><g class=\"shift\"><text x=\"0\" y=\"0\">ForwardShoot</text></g></g><line class=\"v-connector\" x1=\"-50.0\" x2=\"-50.0\" y1=\"581.0\" y2=\"559.0\"/><g class=\"block\"><rect height=\"12.0\" width=\"18.0\" x=\"-69.0\" y=\"594.0\"/><circle cx=\"-70.0\" cy=\"600.0\" r=\"1.0\"/><circle cx=\"-50.0\" cy=\"600.0\" r=\"1.0\"/><text x=\"-60.0\" y=\"600.0\"/></g><g class=\"label\" transform=\"translate(-60.0,600.0)\"><g class=\"shift\"><text x=\"0\" y=\"0\">BackwardShoot</text></g></g><line class=\"v-connector\" x1=\"-50.0\" x2=\"-50.0\" y1=\"601.0\" y2=\"579.0\"/><g class=\"block\"><rect height=\"12.0\" width=\"18.0\" x=\"-49.0\" y=\"614.0\"/><circle cx=\"-50.0\" cy=\"620.0\" r=\"1.0\"/><circle cx=\"-30.0\" cy=\"620.0\" r=\"1.0\"/><text x=\"-40.0\" y=\"620.0\"/></g><g class=\"label\" transform=\"translate(-40.0,620.0)\"><g class=\"shift\"><text x=\"0\" y=\"0\">OneWayShooting</text></g></g><line class=\"v-connector\" x1=\"-30.0\" x2=\"-30.0\" y1=\"621.0\" y2=\"559.0\"/><g class=\"block\"><rect height=\"12.0\" width=\"18.0\" x=\"-69.0\" y=\"634.0\"/><circle cx=\"-70.0\" cy=\"640.0\" r=\"1.0\"/><circle cx=\"-50.0\" cy=\"640.0\" r=\"1.0\"/><text x=\"-60.0\" y=\"640.0\"/></g><g class=\"label\" transform=\"translate(-60.0,640.0)\"><g class=\"shift\"><text x=\"0\" y=\"0\">ForwardShoot</text></g></g><line class=\"v-connector\" x1=\"-50.0\" x2=\"-50.0\" y1=\"641.0\" y2=\"619.0\"/><g class=\"block\"><rect height=\"12.0\" width=\"18.0\" x=\"-69.0\" y=\"654.0\"/><circle cx=\"-70.0\" cy=\"660.0\" r=\"1.0\"/><circle cx=\"-50.0\" cy=\"660.0\" r=\"1.0\"/><text x=\"-60.0\" y=\"660.0\"/></g><g class=\"label\" transform=\"translate(-60.0,660.0)\"><g class=\"shift\"><text x=\"0\" y=\"0\">BackwardShoot</text></g></g><line class=\"v-connector\" x1=\"-50.0\" x2=\"-50.0\" y1=\"661.0\" y2=\"639.0\"/><g class=\"block\"><rect height=\"12.0\" width=\"18.0\" x=\"-49.0\" y=\"674.0\"/><circle cx=\"-50.0\" cy=\"680.0\" r=\"1.0\"/><circle cx=\"-30.0\" cy=\"680.0\" r=\"1.0\"/><text x=\"-40.0\" y=\"680.0\"/></g><g class=\"label\" transform=\"translate(-40.0,680.0)\"><g class=\"shift\"><text x=\"0\" y=\"0\">OneWayShooting</text></g></g><line class=\"v-connector\" x1=\"-30.0\" x2=\"-30.0\" y1=\"681.0\" y2=\"619.0\"/><g class=\"block\"><rect height=\"12.0\" width=\"18.0\" x=\"-69.0\" y=\"694.0\"/><circle cx=\"-70.0\" cy=\"700.0\" r=\"1.0\"/><circle cx=\"-50.0\" cy=\"700.0\" r=\"1.0\"/><text x=\"-60.0\" y=\"700.0\"/></g><g class=\"label\" transform=\"translate(-60.0,700.0)\"><g class=\"shift\"><text x=\"0\" y=\"0\">ForwardShoot</text></g></g><line class=\"v-connector\" x1=\"-50.0\" x2=\"-50.0\" y1=\"701.0\" y2=\"679.0\"/><g class=\"block\"><rect height=\"12.0\" width=\"18.0\" x=\"-69.0\" y=\"714.0\"/><circle cx=\"-70.0\" cy=\"720.0\" r=\"1.0\"/><circle cx=\"-50.0\" cy=\"720.0\" r=\"1.0\"/><text x=\"-60.0\" y=\"720.0\"/></g><g class=\"label\" transform=\"translate(-60.0,720.0)\"><g class=\"shift\"><text x=\"0\" y=\"0\">BackwardShoot</text></g></g><line class=\"v-connector\" x1=\"-50.0\" x2=\"-50.0\" y1=\"721.0\" y2=\"699.0\"/><g class=\"block\"><rect height=\"12.0\" width=\"18.0\" x=\"-49.0\" y=\"734.0\"/><circle cx=\"-50.0\" cy=\"740.0\" r=\"1.0\"/><circle cx=\"-30.0\" cy=\"740.0\" r=\"1.0\"/><text x=\"-40.0\" y=\"740.0\"/></g><g class=\"label\" transform=\"translate(-40.0,740.0)\"><g class=\"shift\"><text x=\"0\" y=\"0\">OneWayShooting</text></g></g><line class=\"v-connector\" x1=\"-30.0\" x2=\"-30.0\" y1=\"741.0\" y2=\"679.0\"/><g class=\"block\"><rect height=\"12.0\" width=\"18.0\" x=\"-69.0\" y=\"754.0\"/><circle cx=\"-70.0\" cy=\"760.0\" r=\"1.0\"/><circle cx=\"-50.0\" cy=\"760.0\" r=\"1.0\"/><text x=\"-60.0\" y=\"760.0\"/></g><g class=\"label\" transform=\"translate(-60.0,760.0)\"><g class=\"shift\"><text x=\"0\" y=\"0\">ForwardShoot</text></g></g><line class=\"v-connector\" x1=\"-50.0\" x2=\"-50.0\" y1=\"761.0\" y2=\"739.0\"/><g class=\"block\"><rect height=\"12.0\" width=\"18.0\" x=\"-69.0\" y=\"774.0\"/><circle cx=\"-70.0\" cy=\"780.0\" r=\"1.0\"/><circle cx=\"-50.0\" cy=\"780.0\" r=\"1.0\"/><text x=\"-60.0\" y=\"780.0\"/></g><g class=\"label\" transform=\"translate(-60.0,780.0)\"><g class=\"shift\"><text x=\"0\" y=\"0\">BackwardShoot</text></g></g><line class=\"v-connector\" x1=\"-50.0\" x2=\"-50.0\" y1=\"781.0\" y2=\"759.0\"/><g class=\"block\"><rect height=\"12.0\" width=\"18.0\" x=\"-49.0\" y=\"794.0\"/><circle cx=\"-50.0\" cy=\"800.0\" r=\"1.0\"/><circle cx=\"-30.0\" cy=\"800.0\" r=\"1.0\"/><text x=\"-40.0\" y=\"800.0\"/></g><g class=\"label\" transform=\"translate(-40.0,800.0)\"><g class=\"shift\"><text x=\"0\" y=\"0\">OneWayShooting</text></g></g><line class=\"v-connector\" x1=\"-30.0\" x2=\"-30.0\" y1=\"801.0\" y2=\"739.0\"/><g class=\"block\"><rect height=\"12.0\" width=\"18.0\" x=\"-69.0\" y=\"814.0\"/><circle cx=\"-70.0\" cy=\"820.0\" r=\"1.0\"/><circle cx=\"-50.0\" cy=\"820.0\" r=\"1.0\"/><text x=\"-60.0\" y=\"820.0\"/></g><g class=\"label\" transform=\"translate(-60.0,820.0)\"><g class=\"shift\"><text x=\"0\" y=\"0\">ForwardShoot</text></g></g><line class=\"v-connector\" x1=\"-50.0\" x2=\"-50.0\" y1=\"821.0\" y2=\"799.0\"/><g class=\"block\"><rect height=\"12.0\" width=\"18.0\" x=\"-69.0\" y=\"834.0\"/><circle cx=\"-70.0\" cy=\"840.0\" r=\"1.0\"/><circle cx=\"-50.0\" cy=\"840.0\" r=\"1.0\"/><text x=\"-60.0\" y=\"840.0\"/></g><g class=\"label\" transform=\"translate(-60.0,840.0)\"><g class=\"shift\"><text x=\"0\" y=\"0\">BackwardShoot</text></g></g><line class=\"v-connector\" x1=\"-50.0\" x2=\"-50.0\" y1=\"841.0\" y2=\"819.0\"/><g class=\"block\"><rect height=\"12.0\" width=\"18.0\" x=\"-29.0\" y=\"854.0\"/><circle cx=\"-30.0\" cy=\"860.0\" r=\"1.0\"/><circle cx=\"-10.0\" cy=\"860.0\" r=\"1.0\"/><text x=\"-20.0\" y=\"860.0\"/></g><g class=\"label\" transform=\"translate(-20.0,860.0)\"><g class=\"shift\"><text x=\"0\" y=\"0\">RandomChoice</text></g></g><line class=\"v-connector\" x1=\"-10.0\" x2=\"-10.0\" y1=\"861.0\" y2=\"299.0\"/><g class=\"block\"><rect height=\"12.0\" width=\"18.0\" x=\"-49.0\" y=\"874.0\"/><circle cx=\"-50.0\" cy=\"880.0\" r=\"1.0\"/><circle cx=\"-30.0\" cy=\"880.0\" r=\"1.0\"/><text x=\"-40.0\" y=\"880.0\"/></g><g class=\"label\" transform=\"translate(-40.0,880.0)\"><g class=\"shift\"><text x=\"0\" y=\"0\">Minus</text></g></g><line class=\"v-connector\" x1=\"-30.0\" x2=\"-30.0\" y1=\"881.0\" y2=\"859.0\"/><g class=\"block\"><rect height=\"12.0\" width=\"18.0\" x=\"-69.0\" y=\"894.0\"/><circle cx=\"-70.0\" cy=\"900.0\" r=\"1.0\"/><circle cx=\"-50.0\" cy=\"900.0\" r=\"1.0\"/><text x=\"-60.0\" y=\"900.0\"/></g><g class=\"label\" transform=\"translate(-60.0,900.0)\"><g class=\"shift\"><text x=\"0\" y=\"0\">EnsembleFilter</text></g></g><line class=\"v-connector\" x1=\"-50.0\" x2=\"-50.0\" y1=\"901.0\" y2=\"879.0\"/><g class=\"block\"><rect height=\"12.0\" width=\"18.0\" x=\"-89.0\" y=\"914.0\"/><circle cx=\"-90.0\" cy=\"920.0\" r=\"1.0\"/><circle cx=\"-70.0\" cy=\"920.0\" r=\"1.0\"/><text x=\"-80.0\" y=\"920.0\"/></g><g class=\"label\" transform=\"translate(-80.0,920.0)\"><g class=\"shift\"><text x=\"0\" y=\"0\">ConditionalSequential</text></g></g><line class=\"v-connector\" x1=\"-70.0\" x2=\"-70.0\" y1=\"921.0\" y2=\"899.0\"/><g class=\"block\"><rect height=\"12.0\" width=\"18.0\" x=\"-109.0\" y=\"934.0\"/><circle cx=\"-110.0\" cy=\"940.0\" r=\"1.0\"/><circle cx=\"-90.0\" cy=\"940.0\" r=\"1.0\"/><text x=\"-100.0\" y=\"940.0\"/></g><g class=\"label\" transform=\"translate(-100.0,940.0)\"><g class=\"shift\"><text x=\"0\" y=\"0\">RandomChoice</text></g></g><line class=\"v-connector\" x1=\"-90.0\" x2=\"-90.0\" y1=\"941.0\" y2=\"919.0\"/><g class=\"block\"><rect height=\"12.0\" width=\"18.0\" x=\"-129.0\" y=\"954.0\"/><circle cx=\"-130.0\" cy=\"960.0\" r=\"1.0\"/><circle cx=\"-110.0\" cy=\"960.0\" r=\"1.0\"/><text x=\"-120.0\" y=\"960.0\"/></g><g class=\"label\" transform=\"translate(-120.0,960.0)\"><g class=\"shift\"><text x=\"0\" y=\"0\">FirstSubtrajectorySelect</text></g></g><line class=\"v-connector\" x1=\"-110.0\" x2=\"-110.0\" y1=\"961.0\" y2=\"939.0\"/><g class=\"block\"><rect height=\"12.0\" width=\"18.0\" x=\"-129.0\" y=\"974.0\"/><circle cx=\"-130.0\" cy=\"980.0\" r=\"1.0\"/><circle cx=\"-110.0\" cy=\"980.0\" r=\"1.0\"/><text x=\"-120.0\" y=\"980.0\"/></g><g class=\"label\" transform=\"translate(-120.0,980.0)\"><g class=\"shift\"><text x=\"0\" y=\"0\">FinalSubtrajectorySelect</text></g></g><line class=\"v-connector\" x1=\"-110.0\" x2=\"-110.0\" y1=\"981.0\" y2=\"959.0\"/><g class=\"block\"><rect height=\"12.0\" width=\"18.0\" x=\"-109.0\" y=\"994.0\"/><circle cx=\"-110.0\" cy=\"1000.0\" r=\"1.0\"/><circle cx=\"-90.0\" cy=\"1000.0\" r=\"1.0\"/><text x=\"-100.0\" y=\"1000.0\"/></g><g class=\"label\" transform=\"translate(-100.0,1000.0)\"><g class=\"shift\"><text x=\"0\" y=\"0\">RandomChoice</text></g></g><line class=\"v-connector\" x1=\"-90.0\" x2=\"-90.0\" y1=\"1001.0\" y2=\"939.0\"/><g class=\"block\"><rect height=\"12.0\" width=\"18.0\" x=\"-129.0\" y=\"1014.0\"/><circle cx=\"-130.0\" cy=\"1020.0\" r=\"1.0\"/><circle cx=\"-110.0\" cy=\"1020.0\" r=\"1.0\"/><text x=\"-120.0\" y=\"1020.0\"/></g><g class=\"label\" transform=\"translate(-120.0,1020.0)\"><g class=\"shift\"><text x=\"0\" y=\"0\">ReplicaExchange</text></g></g><line class=\"v-connector\" x1=\"-110.0\" x2=\"-110.0\" y1=\"1021.0\" y2=\"999.0\"/><g class=\"block\"><rect height=\"12.0\" width=\"18.0\" x=\"-109.0\" y=\"1034.0\"/><circle cx=\"-110.0\" cy=\"1040.0\" r=\"1.0\"/><circle cx=\"-90.0\" cy=\"1040.0\" r=\"1.0\"/><text x=\"-100.0\" y=\"1040.0\"/></g><g class=\"label\" transform=\"translate(-100.0,1040.0)\"><g class=\"shift\"><text x=\"0\" y=\"0\">RandomChoice</text></g></g><line class=\"v-connector\" x1=\"-90.0\" x2=\"-90.0\" y1=\"1041.0\" y2=\"999.0\"/><g class=\"block\"><rect height=\"12.0\" width=\"18.0\" x=\"-129.0\" y=\"1054.0\"/><circle cx=\"-130.0\" cy=\"1060.0\" r=\"1.0\"/><circle cx=\"-110.0\" cy=\"1060.0\" r=\"1.0\"/><text x=\"-120.0\" y=\"1060.0\"/></g><g class=\"label\" transform=\"translate(-120.0,1060.0)\"><g class=\"shift\"><text x=\"0\" y=\"0\">ForwardExtend</text></g></g><line class=\"v-connector\" x1=\"-110.0\" x2=\"-110.0\" y1=\"1061.0\" y2=\"1039.0\"/><g class=\"block\"><rect height=\"12.0\" width=\"18.0\" x=\"-129.0\" y=\"1074.0\"/><circle cx=\"-130.0\" cy=\"1080.0\" r=\"1.0\"/><circle cx=\"-110.0\" cy=\"1080.0\" r=\"1.0\"/><text x=\"-120.0\" y=\"1080.0\"/></g><g class=\"label\" transform=\"translate(-120.0,1080.0)\"><g class=\"shift\"><text x=\"0\" y=\"0\">BackwardExtend</text></g></g><line class=\"v-connector\" x1=\"-110.0\" x2=\"-110.0\" y1=\"1081.0\" y2=\"1059.0\"/><g class=\"block\"><rect height=\"12.0\" width=\"18.0\" x=\"-49.0\" y=\"1094.0\"/><circle cx=\"-50.0\" cy=\"1100.0\" r=\"1.0\"/><circle cx=\"-30.0\" cy=\"1100.0\" r=\"1.0\"/><text x=\"-40.0\" y=\"1100.0\"/></g><g class=\"label\" transform=\"translate(-40.0,1100.0)\"><g class=\"shift\"><text x=\"0\" y=\"0\">Minus</text></g></g><line class=\"v-connector\" x1=\"-30.0\" x2=\"-30.0\" y1=\"1101.0\" y2=\"879.0\"/><g class=\"block\"><rect height=\"12.0\" width=\"18.0\" x=\"-69.0\" y=\"1114.0\"/><circle cx=\"-70.0\" cy=\"1120.0\" r=\"1.0\"/><circle cx=\"-50.0\" cy=\"1120.0\" r=\"1.0\"/><text x=\"-60.0\" y=\"1120.0\"/></g><g class=\"label\" transform=\"translate(-60.0,1120.0)\"><g class=\"shift\"><text x=\"0\" y=\"0\">EnsembleFilter</text></g></g><line class=\"v-connector\" x1=\"-50.0\" x2=\"-50.0\" y1=\"1121.0\" y2=\"1099.0\"/><g class=\"block\"><rect height=\"12.0\" width=\"18.0\" x=\"-89.0\" y=\"1134.0\"/><circle cx=\"-90.0\" cy=\"1140.0\" r=\"1.0\"/><circle cx=\"-70.0\" cy=\"1140.0\" r=\"1.0\"/><text x=\"-80.0\" y=\"1140.0\"/></g><g class=\"label\" transform=\"translate(-80.0,1140.0)\"><g class=\"shift\"><text x=\"0\" y=\"0\">ConditionalSequential</text></g></g><line class=\"v-connector\" x1=\"-70.0\" x2=\"-70.0\" y1=\"1141.0\" y2=\"1119.0\"/><g class=\"block\"><rect height=\"12.0\" width=\"18.0\" x=\"-109.0\" y=\"1154.0\"/><circle cx=\"-110.0\" cy=\"1160.0\" r=\"1.0\"/><circle cx=\"-90.0\" cy=\"1160.0\" r=\"1.0\"/><text x=\"-100.0\" y=\"1160.0\"/></g><g class=\"label\" transform=\"translate(-100.0,1160.0)\"><g class=\"shift\"><text x=\"0\" y=\"0\">RandomChoice</text></g></g><line class=\"v-connector\" x1=\"-90.0\" x2=\"-90.0\" y1=\"1161.0\" y2=\"1139.0\"/><g class=\"block\"><rect height=\"12.0\" width=\"18.0\" x=\"-129.0\" y=\"1174.0\"/><circle cx=\"-130.0\" cy=\"1180.0\" r=\"1.0\"/><circle cx=\"-110.0\" cy=\"1180.0\" r=\"1.0\"/><text x=\"-120.0\" y=\"1180.0\"/></g><g class=\"label\" transform=\"translate(-120.0,1180.0)\"><g class=\"shift\"><text x=\"0\" y=\"0\">FirstSubtrajectorySelect</text></g></g><line class=\"v-connector\" x1=\"-110.0\" x2=\"-110.0\" y1=\"1181.0\" y2=\"1159.0\"/><g class=\"block\"><rect height=\"12.0\" width=\"18.0\" x=\"-129.0\" y=\"1194.0\"/><circle cx=\"-130.0\" cy=\"1200.0\" r=\"1.0\"/><circle cx=\"-110.0\" cy=\"1200.0\" r=\"1.0\"/><text x=\"-120.0\" y=\"1200.0\"/></g><g class=\"label\" transform=\"translate(-120.0,1200.0)\"><g class=\"shift\"><text x=\"0\" y=\"0\">FinalSubtrajectorySelect</text></g></g><line class=\"v-connector\" x1=\"-110.0\" x2=\"-110.0\" y1=\"1201.0\" y2=\"1179.0\"/><g class=\"block\"><rect height=\"12.0\" width=\"18.0\" x=\"-109.0\" y=\"1214.0\"/><circle cx=\"-110.0\" cy=\"1220.0\" r=\"1.0\"/><circle cx=\"-90.0\" cy=\"1220.0\" r=\"1.0\"/><text x=\"-100.0\" y=\"1220.0\"/></g><g class=\"label\" transform=\"translate(-100.0,1220.0)\"><g class=\"shift\"><text x=\"0\" y=\"0\">RandomChoice</text></g></g><line class=\"v-connector\" x1=\"-90.0\" x2=\"-90.0\" y1=\"1221.0\" y2=\"1159.0\"/><g class=\"block\"><rect height=\"12.0\" width=\"18.0\" x=\"-129.0\" y=\"1234.0\"/><circle cx=\"-130.0\" cy=\"1240.0\" r=\"1.0\"/><circle cx=\"-110.0\" cy=\"1240.0\" r=\"1.0\"/><text x=\"-120.0\" y=\"1240.0\"/></g><g class=\"label\" transform=\"translate(-120.0,1240.0)\"><g class=\"shift\"><text x=\"0\" y=\"0\">ReplicaExchange</text></g></g><line class=\"v-connector\" x1=\"-110.0\" x2=\"-110.0\" y1=\"1241.0\" y2=\"1219.0\"/><g class=\"block\"><rect height=\"12.0\" width=\"18.0\" x=\"-109.0\" y=\"1254.0\"/><circle cx=\"-110.0\" cy=\"1260.0\" r=\"1.0\"/><circle cx=\"-90.0\" cy=\"1260.0\" r=\"1.0\"/><text x=\"-100.0\" y=\"1260.0\"/></g><g class=\"label\" transform=\"translate(-100.0,1260.0)\"><g class=\"shift\"><text x=\"0\" y=\"0\">RandomChoice</text></g></g><line class=\"v-connector\" x1=\"-90.0\" x2=\"-90.0\" y1=\"1261.0\" y2=\"1219.0\"/><g class=\"block\"><rect height=\"12.0\" width=\"18.0\" x=\"-129.0\" y=\"1274.0\"/><circle cx=\"-130.0\" cy=\"1280.0\" r=\"1.0\"/><circle cx=\"-110.0\" cy=\"1280.0\" r=\"1.0\"/><text x=\"-120.0\" y=\"1280.0\"/></g><g class=\"label\" transform=\"translate(-120.0,1280.0)\"><g class=\"shift\"><text x=\"0\" y=\"0\">ForwardExtend</text></g></g><line class=\"v-connector\" x1=\"-110.0\" x2=\"-110.0\" y1=\"1281.0\" y2=\"1259.0\"/><g class=\"block\"><rect height=\"12.0\" width=\"18.0\" x=\"-129.0\" y=\"1294.0\"/><circle cx=\"-130.0\" cy=\"1300.0\" r=\"1.0\"/><circle cx=\"-110.0\" cy=\"1300.0\" r=\"1.0\"/><text x=\"-120.0\" y=\"1300.0\"/></g><g class=\"label\" transform=\"translate(-120.0,1300.0)\"><g class=\"shift\"><text x=\"0\" y=\"0\">BackwardExtend</text></g></g><line class=\"v-connector\" x1=\"-110.0\" x2=\"-110.0\" y1=\"1301.0\" y2=\"1279.0\"/><g class=\"block\"><rect height=\"12.0\" width=\"18.0\" x=\"-49.0\" y=\"1314.0\"/><circle cx=\"-50.0\" cy=\"1320.0\" r=\"1.0\"/><circle cx=\"-30.0\" cy=\"1320.0\" r=\"1.0\"/><text x=\"-40.0\" y=\"1320.0\"/></g><g class=\"label\" transform=\"translate(-40.0,1320.0)\"><g class=\"shift\"><text x=\"0\" y=\"0\">Minus</text></g></g><line class=\"v-connector\" x1=\"-30.0\" x2=\"-30.0\" y1=\"1321.0\" y2=\"1099.0\"/><g class=\"block\"><rect height=\"12.0\" width=\"18.0\" x=\"-69.0\" y=\"1334.0\"/><circle cx=\"-70.0\" cy=\"1340.0\" r=\"1.0\"/><circle cx=\"-50.0\" cy=\"1340.0\" r=\"1.0\"/><text x=\"-60.0\" y=\"1340.0\"/></g><g class=\"label\" transform=\"translate(-60.0,1340.0)\"><g class=\"shift\"><text x=\"0\" y=\"0\">EnsembleFilter</text></g></g><line class=\"v-connector\" x1=\"-50.0\" x2=\"-50.0\" y1=\"1341.0\" y2=\"1319.0\"/><g class=\"block\"><rect height=\"12.0\" width=\"18.0\" x=\"-89.0\" y=\"1354.0\"/><circle cx=\"-90.0\" cy=\"1360.0\" r=\"1.0\"/><circle cx=\"-70.0\" cy=\"1360.0\" r=\"1.0\"/><text x=\"-80.0\" y=\"1360.0\"/></g><g class=\"label\" transform=\"translate(-80.0,1360.0)\"><g class=\"shift\"><text x=\"0\" y=\"0\">ConditionalSequential</text></g></g><line class=\"v-connector\" x1=\"-70.0\" x2=\"-70.0\" y1=\"1361.0\" y2=\"1339.0\"/><g class=\"block\"><rect height=\"12.0\" width=\"18.0\" x=\"-109.0\" y=\"1374.0\"/><circle cx=\"-110.0\" cy=\"1380.0\" r=\"1.0\"/><circle cx=\"-90.0\" cy=\"1380.0\" r=\"1.0\"/><text x=\"-100.0\" y=\"1380.0\"/></g><g class=\"label\" transform=\"translate(-100.0,1380.0)\"><g class=\"shift\"><text x=\"0\" y=\"0\">RandomChoice</text></g></g><line class=\"v-connector\" x1=\"-90.0\" x2=\"-90.0\" y1=\"1381.0\" y2=\"1359.0\"/><g class=\"block\"><rect height=\"12.0\" width=\"18.0\" x=\"-129.0\" y=\"1394.0\"/><circle cx=\"-130.0\" cy=\"1400.0\" r=\"1.0\"/><circle cx=\"-110.0\" cy=\"1400.0\" r=\"1.0\"/><text x=\"-120.0\" y=\"1400.0\"/></g><g class=\"label\" transform=\"translate(-120.0,1400.0)\"><g class=\"shift\"><text x=\"0\" y=\"0\">FirstSubtrajectorySelect</text></g></g><line class=\"v-connector\" x1=\"-110.0\" x2=\"-110.0\" y1=\"1401.0\" y2=\"1379.0\"/><g class=\"block\"><rect height=\"12.0\" width=\"18.0\" x=\"-129.0\" y=\"1414.0\"/><circle cx=\"-130.0\" cy=\"1420.0\" r=\"1.0\"/><circle cx=\"-110.0\" cy=\"1420.0\" r=\"1.0\"/><text x=\"-120.0\" y=\"1420.0\"/></g><g class=\"label\" transform=\"translate(-120.0,1420.0)\"><g class=\"shift\"><text x=\"0\" y=\"0\">FinalSubtrajectorySelect</text></g></g><line class=\"v-connector\" x1=\"-110.0\" x2=\"-110.0\" y1=\"1421.0\" y2=\"1399.0\"/><g class=\"block\"><rect height=\"12.0\" width=\"18.0\" x=\"-109.0\" y=\"1434.0\"/><circle cx=\"-110.0\" cy=\"1440.0\" r=\"1.0\"/><circle cx=\"-90.0\" cy=\"1440.0\" r=\"1.0\"/><text x=\"-100.0\" y=\"1440.0\"/></g><g class=\"label\" transform=\"translate(-100.0,1440.0)\"><g class=\"shift\"><text x=\"0\" y=\"0\">RandomChoice</text></g></g><line class=\"v-connector\" x1=\"-90.0\" x2=\"-90.0\" y1=\"1441.0\" y2=\"1379.0\"/><g class=\"block\"><rect height=\"12.0\" width=\"18.0\" x=\"-129.0\" y=\"1454.0\"/><circle cx=\"-130.0\" cy=\"1460.0\" r=\"1.0\"/><circle cx=\"-110.0\" cy=\"1460.0\" r=\"1.0\"/><text x=\"-120.0\" y=\"1460.0\"/></g><g class=\"label\" transform=\"translate(-120.0,1460.0)\"><g class=\"shift\"><text x=\"0\" y=\"0\">ReplicaExchange</text></g></g><line class=\"v-connector\" x1=\"-110.0\" x2=\"-110.0\" y1=\"1461.0\" y2=\"1439.0\"/><g class=\"block\"><rect height=\"12.0\" width=\"18.0\" x=\"-109.0\" y=\"1474.0\"/><circle cx=\"-110.0\" cy=\"1480.0\" r=\"1.0\"/><circle cx=\"-90.0\" cy=\"1480.0\" r=\"1.0\"/><text x=\"-100.0\" y=\"1480.0\"/></g><g class=\"label\" transform=\"translate(-100.0,1480.0)\"><g class=\"shift\"><text x=\"0\" y=\"0\">RandomChoice</text></g></g><line class=\"v-connector\" x1=\"-90.0\" x2=\"-90.0\" y1=\"1481.0\" y2=\"1439.0\"/><g class=\"block\"><rect height=\"12.0\" width=\"18.0\" x=\"-129.0\" y=\"1494.0\"/><circle cx=\"-130.0\" cy=\"1500.0\" r=\"1.0\"/><circle cx=\"-110.0\" cy=\"1500.0\" r=\"1.0\"/><text x=\"-120.0\" y=\"1500.0\"/></g><g class=\"label\" transform=\"translate(-120.0,1500.0)\"><g class=\"shift\"><text x=\"0\" y=\"0\">ForwardExtend</text></g></g><line class=\"v-connector\" x1=\"-110.0\" x2=\"-110.0\" y1=\"1501.0\" y2=\"1479.0\"/><g class=\"block\"><rect height=\"12.0\" width=\"18.0\" x=\"-129.0\" y=\"1514.0\"/><circle cx=\"-130.0\" cy=\"1520.0\" r=\"1.0\"/><circle cx=\"-110.0\" cy=\"1520.0\" r=\"1.0\"/><text x=\"-120.0\" y=\"1520.0\"/></g><g class=\"label\" transform=\"translate(-120.0,1520.0)\"><g class=\"shift\"><text x=\"0\" y=\"0\">BackwardExtend</text></g></g><line class=\"v-connector\" x1=\"-110.0\" x2=\"-110.0\" y1=\"1521.0\" y2=\"1499.0\"/><g class=\"block\"><rect height=\"12.0\" width=\"18.0\" x=\"-29.0\" y=\"1534.0\"/><circle cx=\"-30.0\" cy=\"1540.0\" r=\"1.0\"/><circle cx=\"-10.0\" cy=\"1540.0\" r=\"1.0\"/><text x=\"-20.0\" y=\"1540.0\"/></g><g class=\"label\" transform=\"translate(-20.0,1540.0)\"><g class=\"shift\"><text x=\"0\" y=\"0\">RandomChoice</text></g></g><line class=\"v-connector\" x1=\"-10.0\" x2=\"-10.0\" y1=\"1541.0\" y2=\"859.0\"/><g class=\"block\"><rect height=\"12.0\" width=\"18.0\" x=\"-49.0\" y=\"1554.0\"/><circle cx=\"-50.0\" cy=\"1560.0\" r=\"1.0\"/><circle cx=\"-30.0\" cy=\"1560.0\" r=\"1.0\"/><text x=\"-40.0\" y=\"1560.0\"/></g><g class=\"label\" transform=\"translate(-40.0,1560.0)\"><g class=\"shift\"><text x=\"0\" y=\"0\">PathReversal</text></g></g><line class=\"v-connector\" x1=\"-30.0\" x2=\"-30.0\" y1=\"1561.0\" y2=\"1539.0\"/><g class=\"block\"><rect height=\"12.0\" width=\"18.0\" x=\"-49.0\" y=\"1574.0\"/><circle cx=\"-50.0\" cy=\"1580.0\" r=\"1.0\"/><circle cx=\"-30.0\" cy=\"1580.0\" r=\"1.0\"/><text x=\"-40.0\" y=\"1580.0\"/></g><g class=\"label\" transform=\"translate(-40.0,1580.0)\"><g class=\"shift\"><text x=\"0\" y=\"0\">PathReversal</text></g></g><line class=\"v-connector\" x1=\"-30.0\" x2=\"-30.0\" y1=\"1581.0\" y2=\"1559.0\"/><g class=\"block\"><rect height=\"12.0\" width=\"18.0\" x=\"-49.0\" y=\"1594.0\"/><circle cx=\"-50.0\" cy=\"1600.0\" r=\"1.0\"/><circle cx=\"-30.0\" cy=\"1600.0\" r=\"1.0\"/><text x=\"-40.0\" y=\"1600.0\"/></g><g class=\"label\" transform=\"translate(-40.0,1600.0)\"><g class=\"shift\"><text x=\"0\" y=\"0\">PathReversal</text></g></g><line class=\"v-connector\" x1=\"-30.0\" x2=\"-30.0\" y1=\"1601.0\" y2=\"1579.0\"/><g class=\"block\"><rect height=\"12.0\" width=\"18.0\" x=\"-49.0\" y=\"1614.0\"/><circle cx=\"-50.0\" cy=\"1620.0\" r=\"1.0\"/><circle cx=\"-30.0\" cy=\"1620.0\" r=\"1.0\"/><text x=\"-40.0\" y=\"1620.0\"/></g><g class=\"label\" transform=\"translate(-40.0,1620.0)\"><g class=\"shift\"><text x=\"0\" y=\"0\">PathReversal</text></g></g><line class=\"v-connector\" x1=\"-30.0\" x2=\"-30.0\" y1=\"1621.0\" y2=\"1599.0\"/><g class=\"block\"><rect height=\"12.0\" width=\"18.0\" x=\"-49.0\" y=\"1634.0\"/><circle cx=\"-50.0\" cy=\"1640.0\" r=\"1.0\"/><circle cx=\"-30.0\" cy=\"1640.0\" r=\"1.0\"/><text x=\"-40.0\" y=\"1640.0\"/></g><g class=\"label\" transform=\"translate(-40.0,1640.0)\"><g class=\"shift\"><text x=\"0\" y=\"0\">PathReversal</text></g></g><line class=\"v-connector\" x1=\"-30.0\" x2=\"-30.0\" y1=\"1641.0\" y2=\"1619.0\"/><g class=\"block\"><rect height=\"12.0\" width=\"18.0\" x=\"-49.0\" y=\"1654.0\"/><circle cx=\"-50.0\" cy=\"1660.0\" r=\"1.0\"/><circle cx=\"-30.0\" cy=\"1660.0\" r=\"1.0\"/><text x=\"-40.0\" y=\"1660.0\"/></g><g class=\"label\" transform=\"translate(-40.0,1660.0)\"><g class=\"shift\"><text x=\"0\" y=\"0\">PathReversal</text></g></g><line class=\"v-connector\" x1=\"-30.0\" x2=\"-30.0\" y1=\"1661.0\" y2=\"1639.0\"/><g class=\"block\"><rect height=\"12.0\" width=\"18.0\" x=\"-49.0\" y=\"1674.0\"/><circle cx=\"-50.0\" cy=\"1680.0\" r=\"1.0\"/><circle cx=\"-30.0\" cy=\"1680.0\" r=\"1.0\"/><text x=\"-40.0\" y=\"1680.0\"/></g><g class=\"label\" transform=\"translate(-40.0,1680.0)\"><g class=\"shift\"><text x=\"0\" y=\"0\">PathReversal</text></g></g><line class=\"v-connector\" x1=\"-30.0\" x2=\"-30.0\" y1=\"1681.0\" y2=\"1659.0\"/><g class=\"block\"><rect height=\"12.0\" width=\"18.0\" x=\"-49.0\" y=\"1694.0\"/><circle cx=\"-50.0\" cy=\"1700.0\" r=\"1.0\"/><circle cx=\"-30.0\" cy=\"1700.0\" r=\"1.0\"/><text x=\"-40.0\" y=\"1700.0\"/></g><g class=\"label\" transform=\"translate(-40.0,1700.0)\"><g class=\"shift\"><text x=\"0\" y=\"0\">PathReversal</text></g></g><line class=\"v-connector\" x1=\"-30.0\" x2=\"-30.0\" y1=\"1701.0\" y2=\"1679.0\"/><g class=\"block\"><rect height=\"12.0\" width=\"18.0\" x=\"-49.0\" y=\"1714.0\"/><circle cx=\"-50.0\" cy=\"1720.0\" r=\"1.0\"/><circle cx=\"-30.0\" cy=\"1720.0\" r=\"1.0\"/><text x=\"-40.0\" y=\"1720.0\"/></g><g class=\"label\" transform=\"translate(-40.0,1720.0)\"><g class=\"shift\"><text x=\"0\" y=\"0\">PathReversal</text></g></g><line class=\"v-connector\" x1=\"-30.0\" x2=\"-30.0\" y1=\"1721.0\" y2=\"1699.0\"/><g class=\"block\"><rect height=\"12.0\" width=\"18.0\" x=\"-49.0\" y=\"1734.0\"/><circle cx=\"-50.0\" cy=\"1740.0\" r=\"1.0\"/><circle cx=\"-30.0\" cy=\"1740.0\" r=\"1.0\"/><text x=\"-40.0\" y=\"1740.0\"/></g><g class=\"label\" transform=\"translate(-40.0,1740.0)\"><g class=\"shift\"><text x=\"0\" y=\"0\">PathReversal</text></g></g><line class=\"v-connector\" x1=\"-30.0\" x2=\"-30.0\" y1=\"1741.0\" y2=\"1719.0\"/></g><g class=\"ensembles\" transform=\"translate(50,0)\"><g class=\"head label\" transform=\"translate(0.0,-20.0)\"><g class=\"shift\"><text x=\"0\" y=\"0\">[A] I'face 0</text></g></g><line class=\"v-hook\" x1=\"0.0\" x2=\"0.0\" y1=\"-13.0\" y2=\"1753.0\"/><g class=\"head label\" transform=\"translate(20.0,-20.0)\"><g class=\"shift\"><text x=\"0\" y=\"0\">[B] I'face 0</text></g></g><line class=\"v-hook\" x1=\"20.0\" x2=\"20.0\" y1=\"-13.0\" y2=\"1753.0\"/><g class=\"head label\" transform=\"translate(40.0,-20.0)\"><g class=\"shift\"><text x=\"0\" y=\"0\">[C] I'face 2</text></g></g><line class=\"v-hook\" x1=\"40.0\" x2=\"40.0\" y1=\"-13.0\" y2=\"1753.0\"/><g class=\"head label\" transform=\"translate(60.0,-20.0)\"><g class=\"shift\"><text x=\"0\" y=\"0\">[D] I'face 2</text></g></g><line class=\"v-hook\" x1=\"60.0\" x2=\"60.0\" y1=\"-13.0\" y2=\"1753.0\"/><g class=\"head label\" transform=\"translate(80.0,-20.0)\"><g class=\"shift\"><text x=\"0\" y=\"0\">[E] I'face 2</text></g></g><line class=\"v-hook\" x1=\"80.0\" x2=\"80.0\" y1=\"-13.0\" y2=\"1753.0\"/><g class=\"head label\" transform=\"translate(100.0,-20.0)\"><g class=\"shift\"><text x=\"0\" y=\"0\">[F] [MinusInterfaceEnsemble]</text></g></g><line class=\"v-hook\" x1=\"100.0\" x2=\"100.0\" y1=\"-13.0\" y2=\"1753.0\"/><g class=\"head label\" transform=\"translate(120.0,-20.0)\"><g class=\"shift\"><text x=\"0\" y=\"0\">[G] I'face 1</text></g></g><line class=\"v-hook\" x1=\"120.0\" x2=\"120.0\" y1=\"-13.0\" y2=\"1753.0\"/><g class=\"head label\" transform=\"translate(140.0,-20.0)\"><g class=\"shift\"><text x=\"0\" y=\"0\">[H] I'face 1</text></g></g><line class=\"v-hook\" x1=\"140.0\" x2=\"140.0\" y1=\"-13.0\" y2=\"1753.0\"/><g class=\"head label\" transform=\"translate(160.0,-20.0)\"><g class=\"shift\"><text x=\"0\" y=\"0\">[I] [UnionEnsemble]</text></g></g><line class=\"v-hook\" x1=\"160.0\" x2=\"160.0\" y1=\"-13.0\" y2=\"1753.0\"/><g class=\"head label\" transform=\"translate(180.0,-20.0)\"><g class=\"shift\"><text x=\"0\" y=\"0\">[J] [MinusInterfaceEnsemble]</text></g></g><line class=\"v-hook\" x1=\"180.0\" x2=\"180.0\" y1=\"-13.0\" y2=\"1753.0\"/><g class=\"head label\" transform=\"translate(200.0,-20.0)\"><g class=\"shift\"><text x=\"0\" y=\"0\">[K] I'face 0</text></g></g><line class=\"v-hook\" x1=\"200.0\" x2=\"200.0\" y1=\"-13.0\" y2=\"1753.0\"/><g class=\"head label\" transform=\"translate(220.0,-20.0)\"><g class=\"shift\"><text x=\"0\" y=\"0\">[L] [MinusInterfaceEnsemble]</text></g></g><line class=\"v-hook\" x1=\"220.0\" x2=\"220.0\" y1=\"-13.0\" y2=\"1753.0\"/><g class=\"head label\" transform=\"translate(240.0,-20.0)\"><g class=\"shift\"><text x=\"0\" y=\"0\">[M] I'face 1</text></g></g><line class=\"v-hook\" x1=\"240.0\" x2=\"240.0\" y1=\"-13.0\" y2=\"1753.0\"/><g class=\"head label\" transform=\"translate(260.0,-20.0)\"><g class=\"shift\"><text x=\"0\" y=\"0\">[N] [TISEnsemble]</text></g></g><line class=\"v-hook\" x1=\"260.0\" x2=\"260.0\" y1=\"-13.0\" y2=\"1753.0\"/><g class=\"head label\" transform=\"translate(280.0,-20.0)\"><g class=\"shift\"><text x=\"0\" y=\"0\">[O] [TISEnsemble]</text></g></g><line class=\"v-hook\" x1=\"280.0\" x2=\"280.0\" y1=\"-13.0\" y2=\"1753.0\"/><g class=\"head label\" transform=\"translate(300.0,-20.0)\"><g class=\"shift\"><text x=\"0\" y=\"0\">[P] [TISEnsemble]</text></g></g><line class=\"v-hook\" x1=\"300.0\" x2=\"300.0\" y1=\"-13.0\" y2=\"1753.0\"/><g class=\"input connector block\"><rect height=\"12.0\" width=\"18.0\" x=\"-9.0\" y=\"-9.0\"/><text x=\"0.0\" y=\"-3.0\"/></g><g class=\"output connector block\"><rect height=\"12.0\" width=\"18.0\" x=\"-9.0\" y=\"-3.0\"/><text x=\"0.0\" y=\"3.0\"/></g><g class=\"unknown connector block\"><rect height=\"12.0\" width=\"18.0\" x=\"-9.0\" y=\"-6.0\"/><text x=\"0.0\" y=\"0.0\">A</text></g><g class=\"input connector block\"><rect height=\"12.0\" width=\"18.0\" x=\"11.0\" y=\"-9.0\"/><text x=\"20.0\" y=\"-3.0\"/></g><g class=\"output connector block\"><rect height=\"12.0\" width=\"18.0\" x=\"11.0\" y=\"-3.0\"/><text x=\"20.0\" y=\"3.0\"/></g><g class=\"unknown connector block\"><rect height=\"12.0\" width=\"18.0\" x=\"11.0\" y=\"-6.0\"/><text x=\"20.0\" y=\"0.0\">B</text></g><g class=\"input connector block\"><rect height=\"12.0\" width=\"18.0\" x=\"31.0\" y=\"-9.0\"/><text x=\"40.0\" y=\"-3.0\"/></g><g class=\"output connector block\"><rect height=\"12.0\" width=\"18.0\" x=\"31.0\" y=\"-3.0\"/><text x=\"40.0\" y=\"3.0\"/></g><g class=\"unknown connector block\"><rect height=\"12.0\" width=\"18.0\" x=\"31.0\" y=\"-6.0\"/><text x=\"40.0\" y=\"0.0\">C</text></g><g class=\"input connector block\"><rect height=\"12.0\" width=\"18.0\" x=\"51.0\" y=\"-9.0\"/><text x=\"60.0\" y=\"-3.0\"/></g><g class=\"output connector block\"><rect height=\"12.0\" width=\"18.0\" x=\"51.0\" y=\"-3.0\"/><text x=\"60.0\" y=\"3.0\"/></g><g class=\"unknown connector block\"><rect height=\"12.0\" width=\"18.0\" x=\"51.0\" y=\"-6.0\"/><text x=\"60.0\" y=\"0.0\">D</text></g><g class=\"input connector block\"><rect height=\"12.0\" width=\"18.0\" x=\"71.0\" y=\"-9.0\"/><text x=\"80.0\" y=\"-3.0\"/></g><g class=\"output connector block\"><rect height=\"12.0\" width=\"18.0\" x=\"71.0\" y=\"-3.0\"/><text x=\"80.0\" y=\"3.0\"/></g><g class=\"unknown connector block\"><rect height=\"12.0\" width=\"18.0\" x=\"71.0\" y=\"-6.0\"/><text x=\"80.0\" y=\"0.0\">E</text></g><g class=\"input connector block\"><rect height=\"12.0\" width=\"18.0\" x=\"91.0\" y=\"-9.0\"/><text x=\"100.0\" y=\"-3.0\"/></g><g class=\"output connector block\"><rect height=\"12.0\" width=\"18.0\" x=\"91.0\" y=\"-3.0\"/><text x=\"100.0\" y=\"3.0\"/></g><g class=\"unknown connector block\"><rect height=\"12.0\" width=\"18.0\" x=\"91.0\" y=\"-6.0\"/><text x=\"100.0\" y=\"0.0\">F</text></g><g class=\"input connector block\"><rect height=\"12.0\" width=\"18.0\" x=\"111.0\" y=\"-9.0\"/><text x=\"120.0\" y=\"-3.0\"/></g><g class=\"output connector block\"><rect height=\"12.0\" width=\"18.0\" x=\"111.0\" y=\"-3.0\"/><text x=\"120.0\" y=\"3.0\"/></g><g class=\"unknown connector block\"><rect height=\"12.0\" width=\"18.0\" x=\"111.0\" y=\"-6.0\"/><text x=\"120.0\" y=\"0.0\">G</text></g><g class=\"input connector block\"><rect height=\"12.0\" width=\"18.0\" x=\"131.0\" y=\"-9.0\"/><text x=\"140.0\" y=\"-3.0\"/></g><g class=\"output connector block\"><rect height=\"12.0\" width=\"18.0\" x=\"131.0\" y=\"-3.0\"/><text x=\"140.0\" y=\"3.0\"/></g><g class=\"unknown connector block\"><rect height=\"12.0\" width=\"18.0\" x=\"131.0\" y=\"-6.0\"/><text x=\"140.0\" y=\"0.0\">H</text></g><g class=\"input connector block\"><rect height=\"12.0\" width=\"18.0\" x=\"151.0\" y=\"-9.0\"/><text x=\"160.0\" y=\"-3.0\"/></g><g class=\"output connector block\"><rect height=\"12.0\" width=\"18.0\" x=\"151.0\" y=\"-3.0\"/><text x=\"160.0\" y=\"3.0\"/></g><g class=\"unknown connector block\"><rect height=\"12.0\" width=\"18.0\" x=\"151.0\" y=\"-6.0\"/><text x=\"160.0\" y=\"0.0\">I</text></g><g class=\"input connector block\"><rect height=\"12.0\" width=\"18.0\" x=\"171.0\" y=\"-9.0\"/><text x=\"180.0\" y=\"-3.0\"/></g><g class=\"output connector block\"><rect height=\"12.0\" width=\"18.0\" x=\"171.0\" y=\"-3.0\"/><text x=\"180.0\" y=\"3.0\"/></g><g class=\"unknown connector block\"><rect height=\"12.0\" width=\"18.0\" x=\"171.0\" y=\"-6.0\"/><text x=\"180.0\" y=\"0.0\">J</text></g><g class=\"input connector block\"><rect height=\"12.0\" width=\"18.0\" x=\"191.0\" y=\"-9.0\"/><text x=\"200.0\" y=\"-3.0\"/></g><g class=\"output connector block\"><rect height=\"12.0\" width=\"18.0\" x=\"191.0\" y=\"-3.0\"/><text x=\"200.0\" y=\"3.0\"/></g><g class=\"unknown connector block\"><rect height=\"12.0\" width=\"18.0\" x=\"191.0\" y=\"-6.0\"/><text x=\"200.0\" y=\"0.0\">K</text></g><g class=\"input connector block\"><rect height=\"12.0\" width=\"18.0\" x=\"211.0\" y=\"-9.0\"/><text x=\"220.0\" y=\"-3.0\"/></g><g class=\"output connector block\"><rect height=\"12.0\" width=\"18.0\" x=\"211.0\" y=\"-3.0\"/><text x=\"220.0\" y=\"3.0\"/></g><g class=\"unknown connector block\"><rect height=\"12.0\" width=\"18.0\" x=\"211.0\" y=\"-6.0\"/><text x=\"220.0\" y=\"0.0\">L</text></g><g class=\"input connector block\"><rect height=\"12.0\" width=\"18.0\" x=\"231.0\" y=\"-9.0\"/><text x=\"240.0\" y=\"-3.0\"/></g><g class=\"output connector block\"><rect height=\"12.0\" width=\"18.0\" x=\"231.0\" y=\"-3.0\"/><text x=\"240.0\" y=\"3.0\"/></g><g class=\"unknown connector block\"><rect height=\"12.0\" width=\"18.0\" x=\"231.0\" y=\"-6.0\"/><text x=\"240.0\" y=\"0.0\">M</text></g><g class=\"input connector block\"><rect height=\"12.0\" width=\"18.0\" x=\"151.0\" y=\"11.0\"/><text x=\"160.0\" y=\"17.0\"/></g><g class=\"output connector block\"><rect height=\"12.0\" width=\"18.0\" x=\"151.0\" y=\"17.0\"/><text x=\"160.0\" y=\"23.0\"/></g><g class=\"unknown connector block\"><rect height=\"12.0\" width=\"18.0\" x=\"151.0\" y=\"14.0\"/><text x=\"160.0\" y=\"20.0\">I</text></g><g class=\"input connector block\"><rect height=\"12.0\" width=\"18.0\" x=\"151.0\" y=\"31.0\"/><text x=\"160.0\" y=\"37.0\"/></g><g class=\"output connector block\"><rect height=\"12.0\" width=\"18.0\" x=\"151.0\" y=\"37.0\"/><text x=\"160.0\" y=\"43.0\"/></g><g class=\"unknown connector block\"><rect height=\"12.0\" width=\"18.0\" x=\"151.0\" y=\"34.0\"/><text x=\"160.0\" y=\"40.0\">I</text></g><g class=\"input connector block\"><rect height=\"12.0\" width=\"18.0\" x=\"151.0\" y=\"51.0\"/><text x=\"160.0\" y=\"57.0\"/></g><g class=\"output connector block\"><rect height=\"12.0\" width=\"18.0\" x=\"151.0\" y=\"57.0\"/><text x=\"160.0\" y=\"63.0\"/></g><g class=\"unknown connector block\"><rect height=\"12.0\" width=\"18.0\" x=\"151.0\" y=\"54.0\"/><text x=\"160.0\" y=\"60.0\">I</text></g><g class=\"input connector block\"><rect height=\"12.0\" width=\"18.0\" x=\"151.0\" y=\"71.0\"/><text x=\"160.0\" y=\"77.0\"/></g><g class=\"output connector block\"><rect height=\"12.0\" width=\"18.0\" x=\"151.0\" y=\"77.0\"/><text x=\"160.0\" y=\"83.0\"/></g><g class=\"unknown connector block\"><rect height=\"12.0\" width=\"18.0\" x=\"151.0\" y=\"74.0\"/><text x=\"160.0\" y=\"80.0\">I</text></g><g class=\"input connector block\"><rect height=\"12.0\" width=\"18.0\" x=\"-9.0\" y=\"91.0\"/><text x=\"0.0\" y=\"97.0\"/></g><g class=\"output connector block\"><rect height=\"12.0\" width=\"18.0\" x=\"-9.0\" y=\"97.0\"/><text x=\"0.0\" y=\"103.0\"/></g><g class=\"unknown connector block\"><rect height=\"12.0\" width=\"18.0\" x=\"-9.0\" y=\"94.0\"/><text x=\"0.0\" y=\"100.0\">A</text></g><g class=\"input connector block\"><rect height=\"12.0\" width=\"18.0\" x=\"11.0\" y=\"91.0\"/><text x=\"20.0\" y=\"97.0\"/></g><g class=\"output connector block\"><rect height=\"12.0\" width=\"18.0\" x=\"11.0\" y=\"97.0\"/><text x=\"20.0\" y=\"103.0\"/></g><g class=\"unknown connector block\"><rect height=\"12.0\" width=\"18.0\" x=\"11.0\" y=\"94.0\"/><text x=\"20.0\" y=\"100.0\">B</text></g><g class=\"input connector block\"><rect height=\"12.0\" width=\"18.0\" x=\"31.0\" y=\"91.0\"/><text x=\"40.0\" y=\"97.0\"/></g><g class=\"output connector block\"><rect height=\"12.0\" width=\"18.0\" x=\"31.0\" y=\"97.0\"/><text x=\"40.0\" y=\"103.0\"/></g><g class=\"unknown connector block\"><rect height=\"12.0\" width=\"18.0\" x=\"31.0\" y=\"94.0\"/><text x=\"40.0\" y=\"100.0\">C</text></g><g class=\"input connector block\"><rect height=\"12.0\" width=\"18.0\" x=\"51.0\" y=\"91.0\"/><text x=\"60.0\" y=\"97.0\"/></g><g class=\"output connector block\"><rect height=\"12.0\" width=\"18.0\" x=\"51.0\" y=\"97.0\"/><text x=\"60.0\" y=\"103.0\"/></g><g class=\"unknown connector block\"><rect height=\"12.0\" width=\"18.0\" x=\"51.0\" y=\"94.0\"/><text x=\"60.0\" y=\"100.0\">D</text></g><g class=\"input connector block\"><rect height=\"12.0\" width=\"18.0\" x=\"71.0\" y=\"91.0\"/><text x=\"80.0\" y=\"97.0\"/></g><g class=\"output connector block\"><rect height=\"12.0\" width=\"18.0\" x=\"71.0\" y=\"97.0\"/><text x=\"80.0\" y=\"103.0\"/></g><g class=\"unknown connector block\"><rect height=\"12.0\" width=\"18.0\" x=\"71.0\" y=\"94.0\"/><text x=\"80.0\" y=\"100.0\">E</text></g><g class=\"input connector block\"><rect height=\"12.0\" width=\"18.0\" x=\"111.0\" y=\"91.0\"/><text x=\"120.0\" y=\"97.0\"/></g><g class=\"output connector block\"><rect height=\"12.0\" width=\"18.0\" x=\"111.0\" y=\"97.0\"/><text x=\"120.0\" y=\"103.0\"/></g><g class=\"unknown connector block\"><rect height=\"12.0\" width=\"18.0\" x=\"111.0\" y=\"94.0\"/><text x=\"120.0\" y=\"100.0\">G</text></g><g class=\"input connector block\"><rect height=\"12.0\" width=\"18.0\" x=\"131.0\" y=\"91.0\"/><text x=\"140.0\" y=\"97.0\"/></g><g class=\"output connector block\"><rect height=\"12.0\" width=\"18.0\" x=\"131.0\" y=\"97.0\"/><text x=\"140.0\" y=\"103.0\"/></g><g class=\"unknown connector block\"><rect height=\"12.0\" width=\"18.0\" x=\"131.0\" y=\"94.0\"/><text x=\"140.0\" y=\"100.0\">H</text></g><g class=\"input connector block\"><rect height=\"12.0\" width=\"18.0\" x=\"151.0\" y=\"91.0\"/><text x=\"160.0\" y=\"97.0\"/></g><g class=\"output connector block\"><rect height=\"12.0\" width=\"18.0\" x=\"151.0\" y=\"97.0\"/><text x=\"160.0\" y=\"103.0\"/></g><g class=\"unknown connector block\"><rect height=\"12.0\" width=\"18.0\" x=\"151.0\" y=\"94.0\"/><text x=\"160.0\" y=\"100.0\">I</text></g><g class=\"input connector block\"><rect height=\"12.0\" width=\"18.0\" x=\"191.0\" y=\"91.0\"/><text x=\"200.0\" y=\"97.0\"/></g><g class=\"output connector block\"><rect height=\"12.0\" width=\"18.0\" x=\"191.0\" y=\"97.0\"/><text x=\"200.0\" y=\"103.0\"/></g><g class=\"unknown connector block\"><rect height=\"12.0\" width=\"18.0\" x=\"191.0\" y=\"94.0\"/><text x=\"200.0\" y=\"100.0\">K</text></g><g class=\"input connector block\"><rect height=\"12.0\" width=\"18.0\" x=\"231.0\" y=\"91.0\"/><text x=\"240.0\" y=\"97.0\"/></g><g class=\"output connector block\"><rect height=\"12.0\" width=\"18.0\" x=\"231.0\" y=\"97.0\"/><text x=\"240.0\" y=\"103.0\"/></g><g class=\"unknown connector block\"><rect height=\"12.0\" width=\"18.0\" x=\"231.0\" y=\"94.0\"/><text x=\"240.0\" y=\"100.0\">M</text></g><g class=\"input connector block\"><rect height=\"12.0\" width=\"18.0\" x=\"31.0\" y=\"111.0\"/><text x=\"40.0\" y=\"117.0\"/></g><g class=\"output connector block\"><rect height=\"12.0\" width=\"18.0\" x=\"31.0\" y=\"117.0\"/><text x=\"40.0\" y=\"123.0\"/></g><g class=\"unknown connector block\"><rect height=\"12.0\" width=\"18.0\" x=\"31.0\" y=\"114.0\"/><text x=\"40.0\" y=\"120.0\">C</text></g><g class=\"input connector block\"><rect height=\"12.0\" width=\"18.0\" x=\"131.0\" y=\"111.0\"/><text x=\"140.0\" y=\"117.0\"/></g><g class=\"output connector block\"><rect height=\"12.0\" width=\"18.0\" x=\"131.0\" y=\"117.0\"/><text x=\"140.0\" y=\"123.0\"/></g><g class=\"unknown connector block\"><rect height=\"12.0\" width=\"18.0\" x=\"131.0\" y=\"114.0\"/><text x=\"140.0\" y=\"120.0\">H</text></g><g class=\"input connector block\"><rect height=\"12.0\" width=\"18.0\" x=\"-9.0\" y=\"131.0\"/><text x=\"0.0\" y=\"137.0\"/></g><g class=\"output connector block\"><rect height=\"12.0\" width=\"18.0\" x=\"-9.0\" y=\"137.0\"/><text x=\"0.0\" y=\"143.0\"/></g><g class=\"unknown connector block\"><rect height=\"12.0\" width=\"18.0\" x=\"-9.0\" y=\"134.0\"/><text x=\"0.0\" y=\"140.0\">A</text></g><g class=\"input connector block\"><rect height=\"12.0\" width=\"18.0\" x=\"111.0\" y=\"131.0\"/><text x=\"120.0\" y=\"137.0\"/></g><g class=\"output connector block\"><rect height=\"12.0\" width=\"18.0\" x=\"111.0\" y=\"137.0\"/><text x=\"120.0\" y=\"143.0\"/></g><g class=\"unknown connector block\"><rect height=\"12.0\" width=\"18.0\" x=\"111.0\" y=\"134.0\"/><text x=\"120.0\" y=\"140.0\">G</text></g><g class=\"input connector block\"><rect height=\"12.0\" width=\"18.0\" x=\"51.0\" y=\"151.0\"/><text x=\"60.0\" y=\"157.0\"/></g><g class=\"output connector block\"><rect height=\"12.0\" width=\"18.0\" x=\"51.0\" y=\"157.0\"/><text x=\"60.0\" y=\"163.0\"/></g><g class=\"unknown connector block\"><rect height=\"12.0\" width=\"18.0\" x=\"51.0\" y=\"154.0\"/><text x=\"60.0\" y=\"160.0\">D</text></g><g class=\"input connector block\"><rect height=\"12.0\" width=\"18.0\" x=\"111.0\" y=\"151.0\"/><text x=\"120.0\" y=\"157.0\"/></g><g class=\"output connector block\"><rect height=\"12.0\" width=\"18.0\" x=\"111.0\" y=\"157.0\"/><text x=\"120.0\" y=\"163.0\"/></g><g class=\"unknown connector block\"><rect height=\"12.0\" width=\"18.0\" x=\"111.0\" y=\"154.0\"/><text x=\"120.0\" y=\"160.0\">G</text></g><g class=\"input connector block\"><rect height=\"12.0\" width=\"18.0\" x=\"31.0\" y=\"171.0\"/><text x=\"40.0\" y=\"177.0\"/></g><g class=\"output connector block\"><rect height=\"12.0\" width=\"18.0\" x=\"31.0\" y=\"177.0\"/><text x=\"40.0\" y=\"183.0\"/></g><g class=\"unknown connector block\"><rect height=\"12.0\" width=\"18.0\" x=\"31.0\" y=\"174.0\"/><text x=\"40.0\" y=\"180.0\">C</text></g><g class=\"input connector block\"><rect height=\"12.0\" width=\"18.0\" x=\"151.0\" y=\"171.0\"/><text x=\"160.0\" y=\"177.0\"/></g><g class=\"output connector block\"><rect height=\"12.0\" width=\"18.0\" x=\"151.0\" y=\"177.0\"/><text x=\"160.0\" y=\"183.0\"/></g><g class=\"unknown connector block\"><rect height=\"12.0\" width=\"18.0\" x=\"151.0\" y=\"174.0\"/><text x=\"160.0\" y=\"180.0\">I</text></g><g class=\"input connector block\"><rect height=\"12.0\" width=\"18.0\" x=\"51.0\" y=\"191.0\"/><text x=\"60.0\" y=\"197.0\"/></g><g class=\"output connector block\"><rect height=\"12.0\" width=\"18.0\" x=\"51.0\" y=\"197.0\"/><text x=\"60.0\" y=\"203.0\"/></g><g class=\"unknown connector block\"><rect height=\"12.0\" width=\"18.0\" x=\"51.0\" y=\"194.0\"/><text x=\"60.0\" y=\"200.0\">D</text></g><g class=\"input connector block\"><rect height=\"12.0\" width=\"18.0\" x=\"151.0\" y=\"191.0\"/><text x=\"160.0\" y=\"197.0\"/></g><g class=\"output connector block\"><rect height=\"12.0\" width=\"18.0\" x=\"151.0\" y=\"197.0\"/><text x=\"160.0\" y=\"203.0\"/></g><g class=\"unknown connector block\"><rect height=\"12.0\" width=\"18.0\" x=\"151.0\" y=\"194.0\"/><text x=\"160.0\" y=\"200.0\">I</text></g><g class=\"input connector block\"><rect height=\"12.0\" width=\"18.0\" x=\"71.0\" y=\"211.0\"/><text x=\"80.0\" y=\"217.0\"/></g><g class=\"output connector block\"><rect height=\"12.0\" width=\"18.0\" x=\"71.0\" y=\"217.0\"/><text x=\"80.0\" y=\"223.0\"/></g><g class=\"unknown connector block\"><rect height=\"12.0\" width=\"18.0\" x=\"71.0\" y=\"214.0\"/><text x=\"80.0\" y=\"220.0\">E</text></g><g class=\"input connector block\"><rect height=\"12.0\" width=\"18.0\" x=\"151.0\" y=\"211.0\"/><text x=\"160.0\" y=\"217.0\"/></g><g class=\"output connector block\"><rect height=\"12.0\" width=\"18.0\" x=\"151.0\" y=\"217.0\"/><text x=\"160.0\" y=\"223.0\"/></g><g class=\"unknown connector block\"><rect height=\"12.0\" width=\"18.0\" x=\"151.0\" y=\"214.0\"/><text x=\"160.0\" y=\"220.0\">I</text></g><g class=\"input connector block\"><rect height=\"12.0\" width=\"18.0\" x=\"11.0\" y=\"231.0\"/><text x=\"20.0\" y=\"237.0\"/></g><g class=\"output connector block\"><rect height=\"12.0\" width=\"18.0\" x=\"11.0\" y=\"237.0\"/><text x=\"20.0\" y=\"243.0\"/></g><g class=\"unknown connector block\"><rect height=\"12.0\" width=\"18.0\" x=\"11.0\" y=\"234.0\"/><text x=\"20.0\" y=\"240.0\">B</text></g><g class=\"input connector block\"><rect height=\"12.0\" width=\"18.0\" x=\"231.0\" y=\"231.0\"/><text x=\"240.0\" y=\"237.0\"/></g><g class=\"output connector block\"><rect height=\"12.0\" width=\"18.0\" x=\"231.0\" y=\"237.0\"/><text x=\"240.0\" y=\"243.0\"/></g><g class=\"unknown connector block\"><rect height=\"12.0\" width=\"18.0\" x=\"231.0\" y=\"234.0\"/><text x=\"240.0\" y=\"240.0\">M</text></g><g class=\"input connector block\"><rect height=\"12.0\" width=\"18.0\" x=\"131.0\" y=\"251.0\"/><text x=\"140.0\" y=\"257.0\"/></g><g class=\"output connector block\"><rect height=\"12.0\" width=\"18.0\" x=\"131.0\" y=\"257.0\"/><text x=\"140.0\" y=\"263.0\"/></g><g class=\"unknown connector block\"><rect height=\"12.0\" width=\"18.0\" x=\"131.0\" y=\"254.0\"/><text x=\"140.0\" y=\"260.0\">H</text></g><g class=\"input connector block\"><rect height=\"12.0\" width=\"18.0\" x=\"191.0\" y=\"251.0\"/><text x=\"200.0\" y=\"257.0\"/></g><g class=\"output connector block\"><rect height=\"12.0\" width=\"18.0\" x=\"191.0\" y=\"257.0\"/><text x=\"200.0\" y=\"263.0\"/></g><g class=\"unknown connector block\"><rect height=\"12.0\" width=\"18.0\" x=\"191.0\" y=\"254.0\"/><text x=\"200.0\" y=\"260.0\">K</text></g><g class=\"input connector block\"><rect height=\"12.0\" width=\"18.0\" x=\"71.0\" y=\"271.0\"/><text x=\"80.0\" y=\"277.0\"/></g><g class=\"output connector block\"><rect height=\"12.0\" width=\"18.0\" x=\"71.0\" y=\"277.0\"/><text x=\"80.0\" y=\"283.0\"/></g><g class=\"unknown connector block\"><rect height=\"12.0\" width=\"18.0\" x=\"71.0\" y=\"274.0\"/><text x=\"80.0\" y=\"280.0\">E</text></g><g class=\"input connector block\"><rect height=\"12.0\" width=\"18.0\" x=\"231.0\" y=\"271.0\"/><text x=\"240.0\" y=\"277.0\"/></g><g class=\"output connector block\"><rect height=\"12.0\" width=\"18.0\" x=\"231.0\" y=\"277.0\"/><text x=\"240.0\" y=\"283.0\"/></g><g class=\"unknown connector block\"><rect height=\"12.0\" width=\"18.0\" x=\"231.0\" y=\"274.0\"/><text x=\"240.0\" y=\"280.0\">M</text></g><g class=\"input connector block\"><rect height=\"12.0\" width=\"18.0\" x=\"-9.0\" y=\"291.0\"/><text x=\"0.0\" y=\"297.0\"/></g><g class=\"output connector block\"><rect height=\"12.0\" width=\"18.0\" x=\"-9.0\" y=\"297.0\"/><text x=\"0.0\" y=\"303.0\"/></g><g class=\"unknown connector block\"><rect height=\"12.0\" width=\"18.0\" x=\"-9.0\" y=\"294.0\"/><text x=\"0.0\" y=\"300.0\">A</text></g><g class=\"input connector block\"><rect height=\"12.0\" width=\"18.0\" x=\"11.0\" y=\"291.0\"/><text x=\"20.0\" y=\"297.0\"/></g><g class=\"output connector block\"><rect height=\"12.0\" width=\"18.0\" x=\"11.0\" y=\"297.0\"/><text x=\"20.0\" y=\"303.0\"/></g><g class=\"unknown connector block\"><rect height=\"12.0\" width=\"18.0\" x=\"11.0\" y=\"294.0\"/><text x=\"20.0\" y=\"300.0\">B</text></g><g class=\"input connector block\"><rect height=\"12.0\" width=\"18.0\" x=\"31.0\" y=\"291.0\"/><text x=\"40.0\" y=\"297.0\"/></g><g class=\"output connector block\"><rect height=\"12.0\" width=\"18.0\" x=\"31.0\" y=\"297.0\"/><text x=\"40.0\" y=\"303.0\"/></g><g class=\"unknown connector block\"><rect height=\"12.0\" width=\"18.0\" x=\"31.0\" y=\"294.0\"/><text x=\"40.0\" y=\"300.0\">C</text></g><g class=\"input connector block\"><rect height=\"12.0\" width=\"18.0\" x=\"51.0\" y=\"291.0\"/><text x=\"60.0\" y=\"297.0\"/></g><g class=\"output connector block\"><rect height=\"12.0\" width=\"18.0\" x=\"51.0\" y=\"297.0\"/><text x=\"60.0\" y=\"303.0\"/></g><g class=\"unknown connector block\"><rect height=\"12.0\" width=\"18.0\" x=\"51.0\" y=\"294.0\"/><text x=\"60.0\" y=\"300.0\">D</text></g><g class=\"input connector block\"><rect height=\"12.0\" width=\"18.0\" x=\"71.0\" y=\"291.0\"/><text x=\"80.0\" y=\"297.0\"/></g><g class=\"output connector block\"><rect height=\"12.0\" width=\"18.0\" x=\"71.0\" y=\"297.0\"/><text x=\"80.0\" y=\"303.0\"/></g><g class=\"unknown connector block\"><rect height=\"12.0\" width=\"18.0\" x=\"71.0\" y=\"294.0\"/><text x=\"80.0\" y=\"300.0\">E</text></g><g class=\"input connector block\"><rect height=\"12.0\" width=\"18.0\" x=\"111.0\" y=\"291.0\"/><text x=\"120.0\" y=\"297.0\"/></g><g class=\"output connector block\"><rect height=\"12.0\" width=\"18.0\" x=\"111.0\" y=\"297.0\"/><text x=\"120.0\" y=\"303.0\"/></g><g class=\"unknown connector block\"><rect height=\"12.0\" width=\"18.0\" x=\"111.0\" y=\"294.0\"/><text x=\"120.0\" y=\"300.0\">G</text></g><g class=\"input connector block\"><rect height=\"12.0\" width=\"18.0\" x=\"131.0\" y=\"291.0\"/><text x=\"140.0\" y=\"297.0\"/></g><g class=\"output connector block\"><rect height=\"12.0\" width=\"18.0\" x=\"131.0\" y=\"297.0\"/><text x=\"140.0\" y=\"303.0\"/></g><g class=\"unknown connector block\"><rect height=\"12.0\" width=\"18.0\" x=\"131.0\" y=\"294.0\"/><text x=\"140.0\" y=\"300.0\">H</text></g><g class=\"input connector block\"><rect height=\"12.0\" width=\"18.0\" x=\"191.0\" y=\"291.0\"/><text x=\"200.0\" y=\"297.0\"/></g><g class=\"output connector block\"><rect height=\"12.0\" width=\"18.0\" x=\"191.0\" y=\"297.0\"/><text x=\"200.0\" y=\"303.0\"/></g><g class=\"unknown connector block\"><rect height=\"12.0\" width=\"18.0\" x=\"191.0\" y=\"294.0\"/><text x=\"200.0\" y=\"300.0\">K</text></g><g class=\"input connector block\"><rect height=\"12.0\" width=\"18.0\" x=\"231.0\" y=\"291.0\"/><text x=\"240.0\" y=\"297.0\"/></g><g class=\"output connector block\"><rect height=\"12.0\" width=\"18.0\" x=\"231.0\" y=\"297.0\"/><text x=\"240.0\" y=\"303.0\"/></g><g class=\"unknown connector block\"><rect height=\"12.0\" width=\"18.0\" x=\"231.0\" y=\"294.0\"/><text x=\"240.0\" y=\"300.0\">M</text></g><g class=\"input connector block\"><rect height=\"12.0\" width=\"18.0\" x=\"111.0\" y=\"311.0\"/><text x=\"120.0\" y=\"317.0\"/></g><g class=\"output connector block\"><rect height=\"12.0\" width=\"18.0\" x=\"111.0\" y=\"317.0\"/><text x=\"120.0\" y=\"323.0\"/></g><g class=\"unknown connector block\"><rect height=\"12.0\" width=\"18.0\" x=\"111.0\" y=\"314.0\"/><text x=\"120.0\" y=\"320.0\">G</text></g><g class=\"input connector block\"><rect height=\"12.0\" width=\"18.0\" x=\"111.0\" y=\"331.0\"/><text x=\"120.0\" y=\"337.0\"/></g><g class=\"output connector block\"><rect height=\"12.0\" width=\"18.0\" x=\"111.0\" y=\"337.0\"/><text x=\"120.0\" y=\"343.0\"/></g><g class=\"unknown connector block\"><rect height=\"12.0\" width=\"18.0\" x=\"111.0\" y=\"334.0\"/><text x=\"120.0\" y=\"340.0\">G</text></g><g class=\"input connector block\"><rect height=\"12.0\" width=\"18.0\" x=\"111.0\" y=\"351.0\"/><text x=\"120.0\" y=\"357.0\"/></g><g class=\"output connector block\"><rect height=\"12.0\" width=\"18.0\" x=\"111.0\" y=\"357.0\"/><text x=\"120.0\" y=\"363.0\"/></g><g class=\"unknown connector block\"><rect height=\"12.0\" width=\"18.0\" x=\"111.0\" y=\"354.0\"/><text x=\"120.0\" y=\"360.0\">G</text></g><g class=\"input connector block\"><rect height=\"12.0\" width=\"18.0\" x=\"131.0\" y=\"371.0\"/><text x=\"140.0\" y=\"377.0\"/></g><g class=\"output connector block\"><rect height=\"12.0\" width=\"18.0\" x=\"131.0\" y=\"377.0\"/><text x=\"140.0\" y=\"383.0\"/></g><g class=\"unknown connector block\"><rect height=\"12.0\" width=\"18.0\" x=\"131.0\" y=\"374.0\"/><text x=\"140.0\" y=\"380.0\">H</text></g><g class=\"input connector block\"><rect height=\"12.0\" width=\"18.0\" x=\"131.0\" y=\"391.0\"/><text x=\"140.0\" y=\"397.0\"/></g><g class=\"output connector block\"><rect height=\"12.0\" width=\"18.0\" x=\"131.0\" y=\"397.0\"/><text x=\"140.0\" y=\"403.0\"/></g><g class=\"unknown connector block\"><rect height=\"12.0\" width=\"18.0\" x=\"131.0\" y=\"394.0\"/><text x=\"140.0\" y=\"400.0\">H</text></g><g class=\"input connector block\"><rect height=\"12.0\" width=\"18.0\" x=\"131.0\" y=\"411.0\"/><text x=\"140.0\" y=\"417.0\"/></g><g class=\"output connector block\"><rect height=\"12.0\" width=\"18.0\" x=\"131.0\" y=\"417.0\"/><text x=\"140.0\" y=\"423.0\"/></g><g class=\"unknown connector block\"><rect height=\"12.0\" width=\"18.0\" x=\"131.0\" y=\"414.0\"/><text x=\"140.0\" y=\"420.0\">H</text></g><g class=\"input connector block\"><rect height=\"12.0\" width=\"18.0\" x=\"231.0\" y=\"431.0\"/><text x=\"240.0\" y=\"437.0\"/></g><g class=\"output connector block\"><rect height=\"12.0\" width=\"18.0\" x=\"231.0\" y=\"437.0\"/><text x=\"240.0\" y=\"443.0\"/></g><g class=\"unknown connector block\"><rect height=\"12.0\" width=\"18.0\" x=\"231.0\" y=\"434.0\"/><text x=\"240.0\" y=\"440.0\">M</text></g><g class=\"input connector block\"><rect height=\"12.0\" width=\"18.0\" x=\"231.0\" y=\"451.0\"/><text x=\"240.0\" y=\"457.0\"/></g><g class=\"output connector block\"><rect height=\"12.0\" width=\"18.0\" x=\"231.0\" y=\"457.0\"/><text x=\"240.0\" y=\"463.0\"/></g><g class=\"unknown connector block\"><rect height=\"12.0\" width=\"18.0\" x=\"231.0\" y=\"454.0\"/><text x=\"240.0\" y=\"460.0\">M</text></g><g class=\"input connector block\"><rect height=\"12.0\" width=\"18.0\" x=\"231.0\" y=\"471.0\"/><text x=\"240.0\" y=\"477.0\"/></g><g class=\"output connector block\"><rect height=\"12.0\" width=\"18.0\" x=\"231.0\" y=\"477.0\"/><text x=\"240.0\" y=\"483.0\"/></g><g class=\"unknown connector block\"><rect height=\"12.0\" width=\"18.0\" x=\"231.0\" y=\"474.0\"/><text x=\"240.0\" y=\"480.0\">M</text></g><g class=\"input connector block\"><rect height=\"12.0\" width=\"18.0\" x=\"71.0\" y=\"491.0\"/><text x=\"80.0\" y=\"497.0\"/></g><g class=\"output connector block\"><rect height=\"12.0\" width=\"18.0\" x=\"71.0\" y=\"497.0\"/><text x=\"80.0\" y=\"503.0\"/></g><g class=\"unknown connector block\"><rect height=\"12.0\" width=\"18.0\" x=\"71.0\" y=\"494.0\"/><text x=\"80.0\" y=\"500.0\">E</text></g><g class=\"input connector block\"><rect height=\"12.0\" width=\"18.0\" x=\"71.0\" y=\"511.0\"/><text x=\"80.0\" y=\"517.0\"/></g><g class=\"output connector block\"><rect height=\"12.0\" width=\"18.0\" x=\"71.0\" y=\"517.0\"/><text x=\"80.0\" y=\"523.0\"/></g><g class=\"unknown connector block\"><rect height=\"12.0\" width=\"18.0\" x=\"71.0\" y=\"514.0\"/><text x=\"80.0\" y=\"520.0\">E</text></g><g class=\"input connector block\"><rect height=\"12.0\" width=\"18.0\" x=\"71.0\" y=\"531.0\"/><text x=\"80.0\" y=\"537.0\"/></g><g class=\"output connector block\"><rect height=\"12.0\" width=\"18.0\" x=\"71.0\" y=\"537.0\"/><text x=\"80.0\" y=\"543.0\"/></g><g class=\"unknown connector block\"><rect height=\"12.0\" width=\"18.0\" x=\"71.0\" y=\"534.0\"/><text x=\"80.0\" y=\"540.0\">E</text></g><g class=\"input connector block\"><rect height=\"12.0\" width=\"18.0\" x=\"31.0\" y=\"551.0\"/><text x=\"40.0\" y=\"557.0\"/></g><g class=\"output connector block\"><rect height=\"12.0\" width=\"18.0\" x=\"31.0\" y=\"557.0\"/><text x=\"40.0\" y=\"563.0\"/></g><g class=\"unknown connector block\"><rect height=\"12.0\" width=\"18.0\" x=\"31.0\" y=\"554.0\"/><text x=\"40.0\" y=\"560.0\">C</text></g><g class=\"input connector block\"><rect height=\"12.0\" width=\"18.0\" x=\"31.0\" y=\"571.0\"/><text x=\"40.0\" y=\"577.0\"/></g><g class=\"output connector block\"><rect height=\"12.0\" width=\"18.0\" x=\"31.0\" y=\"577.0\"/><text x=\"40.0\" y=\"583.0\"/></g><g class=\"unknown connector block\"><rect height=\"12.0\" width=\"18.0\" x=\"31.0\" y=\"574.0\"/><text x=\"40.0\" y=\"580.0\">C</text></g><g class=\"input connector block\"><rect height=\"12.0\" width=\"18.0\" x=\"31.0\" y=\"591.0\"/><text x=\"40.0\" y=\"597.0\"/></g><g class=\"output connector block\"><rect height=\"12.0\" width=\"18.0\" x=\"31.0\" y=\"597.0\"/><text x=\"40.0\" y=\"603.0\"/></g><g class=\"unknown connector block\"><rect height=\"12.0\" width=\"18.0\" x=\"31.0\" y=\"594.0\"/><text x=\"40.0\" y=\"600.0\">C</text></g><g class=\"input connector block\"><rect height=\"12.0\" width=\"18.0\" x=\"51.0\" y=\"611.0\"/><text x=\"60.0\" y=\"617.0\"/></g><g class=\"output connector block\"><rect height=\"12.0\" width=\"18.0\" x=\"51.0\" y=\"617.0\"/><text x=\"60.0\" y=\"623.0\"/></g><g class=\"unknown connector block\"><rect height=\"12.0\" width=\"18.0\" x=\"51.0\" y=\"614.0\"/><text x=\"60.0\" y=\"620.0\">D</text></g><g class=\"input connector block\"><rect height=\"12.0\" width=\"18.0\" x=\"51.0\" y=\"631.0\"/><text x=\"60.0\" y=\"637.0\"/></g><g class=\"output connector block\"><rect height=\"12.0\" width=\"18.0\" x=\"51.0\" y=\"637.0\"/><text x=\"60.0\" y=\"643.0\"/></g><g class=\"unknown connector block\"><rect height=\"12.0\" width=\"18.0\" x=\"51.0\" y=\"634.0\"/><text x=\"60.0\" y=\"640.0\">D</text></g><g class=\"input connector block\"><rect height=\"12.0\" width=\"18.0\" x=\"51.0\" y=\"651.0\"/><text x=\"60.0\" y=\"657.0\"/></g><g class=\"output connector block\"><rect height=\"12.0\" width=\"18.0\" x=\"51.0\" y=\"657.0\"/><text x=\"60.0\" y=\"663.0\"/></g><g class=\"unknown connector block\"><rect height=\"12.0\" width=\"18.0\" x=\"51.0\" y=\"654.0\"/><text x=\"60.0\" y=\"660.0\">D</text></g><g class=\"input connector block\"><rect height=\"12.0\" width=\"18.0\" x=\"11.0\" y=\"671.0\"/><text x=\"20.0\" y=\"677.0\"/></g><g class=\"output connector block\"><rect height=\"12.0\" width=\"18.0\" x=\"11.0\" y=\"677.0\"/><text x=\"20.0\" y=\"683.0\"/></g><g class=\"unknown connector block\"><rect height=\"12.0\" width=\"18.0\" x=\"11.0\" y=\"674.0\"/><text x=\"20.0\" y=\"680.0\">B</text></g><g class=\"input connector block\"><rect height=\"12.0\" width=\"18.0\" x=\"11.0\" y=\"691.0\"/><text x=\"20.0\" y=\"697.0\"/></g><g class=\"output connector block\"><rect height=\"12.0\" width=\"18.0\" x=\"11.0\" y=\"697.0\"/><text x=\"20.0\" y=\"703.0\"/></g><g class=\"unknown connector block\"><rect height=\"12.0\" width=\"18.0\" x=\"11.0\" y=\"694.0\"/><text x=\"20.0\" y=\"700.0\">B</text></g><g class=\"input connector block\"><rect height=\"12.0\" width=\"18.0\" x=\"11.0\" y=\"711.0\"/><text x=\"20.0\" y=\"717.0\"/></g><g class=\"output connector block\"><rect height=\"12.0\" width=\"18.0\" x=\"11.0\" y=\"717.0\"/><text x=\"20.0\" y=\"723.0\"/></g><g class=\"unknown connector block\"><rect height=\"12.0\" width=\"18.0\" x=\"11.0\" y=\"714.0\"/><text x=\"20.0\" y=\"720.0\">B</text></g><g class=\"input connector block\"><rect height=\"12.0\" width=\"18.0\" x=\"-9.0\" y=\"731.0\"/><text x=\"0.0\" y=\"737.0\"/></g><g class=\"output connector block\"><rect height=\"12.0\" width=\"18.0\" x=\"-9.0\" y=\"737.0\"/><text x=\"0.0\" y=\"743.0\"/></g><g class=\"unknown connector block\"><rect height=\"12.0\" width=\"18.0\" x=\"-9.0\" y=\"734.0\"/><text x=\"0.0\" y=\"740.0\">A</text></g><g class=\"input connector block\"><rect height=\"12.0\" width=\"18.0\" x=\"-9.0\" y=\"751.0\"/><text x=\"0.0\" y=\"757.0\"/></g><g class=\"output connector block\"><rect height=\"12.0\" width=\"18.0\" x=\"-9.0\" y=\"757.0\"/><text x=\"0.0\" y=\"763.0\"/></g><g class=\"unknown connector block\"><rect height=\"12.0\" width=\"18.0\" x=\"-9.0\" y=\"754.0\"/><text x=\"0.0\" y=\"760.0\">A</text></g><g class=\"input connector block\"><rect height=\"12.0\" width=\"18.0\" x=\"-9.0\" y=\"771.0\"/><text x=\"0.0\" y=\"777.0\"/></g><g class=\"output connector block\"><rect height=\"12.0\" width=\"18.0\" x=\"-9.0\" y=\"777.0\"/><text x=\"0.0\" y=\"783.0\"/></g><g class=\"unknown connector block\"><rect height=\"12.0\" width=\"18.0\" x=\"-9.0\" y=\"774.0\"/><text x=\"0.0\" y=\"780.0\">A</text></g><g class=\"input connector block\"><rect height=\"12.0\" width=\"18.0\" x=\"191.0\" y=\"791.0\"/><text x=\"200.0\" y=\"797.0\"/></g><g class=\"output connector block\"><rect height=\"12.0\" width=\"18.0\" x=\"191.0\" y=\"797.0\"/><text x=\"200.0\" y=\"803.0\"/></g><g class=\"unknown connector block\"><rect height=\"12.0\" width=\"18.0\" x=\"191.0\" y=\"794.0\"/><text x=\"200.0\" y=\"800.0\">K</text></g><g class=\"input connector block\"><rect height=\"12.0\" width=\"18.0\" x=\"191.0\" y=\"811.0\"/><text x=\"200.0\" y=\"817.0\"/></g><g class=\"output connector block\"><rect height=\"12.0\" width=\"18.0\" x=\"191.0\" y=\"817.0\"/><text x=\"200.0\" y=\"823.0\"/></g><g class=\"unknown connector block\"><rect height=\"12.0\" width=\"18.0\" x=\"191.0\" y=\"814.0\"/><text x=\"200.0\" y=\"820.0\">K</text></g><g class=\"input connector block\"><rect height=\"12.0\" width=\"18.0\" x=\"191.0\" y=\"831.0\"/><text x=\"200.0\" y=\"837.0\"/></g><g class=\"output connector block\"><rect height=\"12.0\" width=\"18.0\" x=\"191.0\" y=\"837.0\"/><text x=\"200.0\" y=\"843.0\"/></g><g class=\"unknown connector block\"><rect height=\"12.0\" width=\"18.0\" x=\"191.0\" y=\"834.0\"/><text x=\"200.0\" y=\"840.0\">K</text></g><g class=\"input connector block\"><rect height=\"12.0\" width=\"18.0\" x=\"-9.0\" y=\"851.0\"/><text x=\"0.0\" y=\"857.0\"/></g><g class=\"output connector block\"><rect height=\"12.0\" width=\"18.0\" x=\"-9.0\" y=\"857.0\"/><text x=\"0.0\" y=\"863.0\"/></g><g class=\"unknown connector block\"><rect height=\"12.0\" width=\"18.0\" x=\"-9.0\" y=\"854.0\"/><text x=\"0.0\" y=\"860.0\">A</text></g><g class=\"input connector block\"><rect height=\"12.0\" width=\"18.0\" x=\"11.0\" y=\"851.0\"/><text x=\"20.0\" y=\"857.0\"/></g><g class=\"output connector block\"><rect height=\"12.0\" width=\"18.0\" x=\"11.0\" y=\"857.0\"/><text x=\"20.0\" y=\"863.0\"/></g><g class=\"unknown connector block\"><rect height=\"12.0\" width=\"18.0\" x=\"11.0\" y=\"854.0\"/><text x=\"20.0\" y=\"860.0\">B</text></g><g class=\"input connector block\"><rect height=\"12.0\" width=\"18.0\" x=\"91.0\" y=\"851.0\"/><text x=\"100.0\" y=\"857.0\"/></g><g class=\"output connector block\"><rect height=\"12.0\" width=\"18.0\" x=\"91.0\" y=\"857.0\"/><text x=\"100.0\" y=\"863.0\"/></g><g class=\"unknown connector block\"><rect height=\"12.0\" width=\"18.0\" x=\"91.0\" y=\"854.0\"/><text x=\"100.0\" y=\"860.0\">F</text></g><g class=\"input connector block\"><rect height=\"12.0\" width=\"18.0\" x=\"171.0\" y=\"851.0\"/><text x=\"180.0\" y=\"857.0\"/></g><g class=\"output connector block\"><rect height=\"12.0\" width=\"18.0\" x=\"171.0\" y=\"857.0\"/><text x=\"180.0\" y=\"863.0\"/></g><g class=\"unknown connector block\"><rect height=\"12.0\" width=\"18.0\" x=\"171.0\" y=\"854.0\"/><text x=\"180.0\" y=\"860.0\">J</text></g><g class=\"input connector block\"><rect height=\"12.0\" width=\"18.0\" x=\"191.0\" y=\"851.0\"/><text x=\"200.0\" y=\"857.0\"/></g><g class=\"output connector block\"><rect height=\"12.0\" width=\"18.0\" x=\"191.0\" y=\"857.0\"/><text x=\"200.0\" y=\"863.0\"/></g><g class=\"unknown connector block\"><rect height=\"12.0\" width=\"18.0\" x=\"191.0\" y=\"854.0\"/><text x=\"200.0\" y=\"860.0\">K</text></g><g class=\"input connector block\"><rect height=\"12.0\" width=\"18.0\" x=\"211.0\" y=\"851.0\"/><text x=\"220.0\" y=\"857.0\"/></g><g class=\"output connector block\"><rect height=\"12.0\" width=\"18.0\" x=\"211.0\" y=\"857.0\"/><text x=\"220.0\" y=\"863.0\"/></g><g class=\"unknown connector block\"><rect height=\"12.0\" width=\"18.0\" x=\"211.0\" y=\"854.0\"/><text x=\"220.0\" y=\"860.0\">L</text></g><g class=\"input connector block\"><rect height=\"12.0\" width=\"18.0\" x=\"-9.0\" y=\"871.0\"/><text x=\"0.0\" y=\"877.0\"/></g><g class=\"output connector block\"><rect height=\"12.0\" width=\"18.0\" x=\"-9.0\" y=\"877.0\"/><text x=\"0.0\" y=\"883.0\"/></g><g class=\"unknown connector block\"><rect height=\"12.0\" width=\"18.0\" x=\"-9.0\" y=\"874.0\"/><text x=\"0.0\" y=\"880.0\">A</text></g><g class=\"input connector block\"><rect height=\"12.0\" width=\"18.0\" x=\"211.0\" y=\"871.0\"/><text x=\"220.0\" y=\"877.0\"/></g><g class=\"output connector block\"><rect height=\"12.0\" width=\"18.0\" x=\"211.0\" y=\"877.0\"/><text x=\"220.0\" y=\"883.0\"/></g><g class=\"unknown connector block\"><rect height=\"12.0\" width=\"18.0\" x=\"211.0\" y=\"874.0\"/><text x=\"220.0\" y=\"880.0\">L</text></g><g class=\"input connector block\"><rect height=\"12.0\" width=\"18.0\" x=\"-9.0\" y=\"891.0\"/><text x=\"0.0\" y=\"897.0\"/></g><g class=\"output connector block\"><rect height=\"12.0\" width=\"18.0\" x=\"-9.0\" y=\"897.0\"/><text x=\"0.0\" y=\"903.0\"/></g><g class=\"unknown connector block\"><rect height=\"12.0\" width=\"18.0\" x=\"-9.0\" y=\"894.0\"/><text x=\"0.0\" y=\"900.0\">A</text></g><g class=\"input connector block\"><rect height=\"12.0\" width=\"18.0\" x=\"211.0\" y=\"891.0\"/><text x=\"220.0\" y=\"897.0\"/></g><g class=\"output connector block\"><rect height=\"12.0\" width=\"18.0\" x=\"211.0\" y=\"897.0\"/><text x=\"220.0\" y=\"903.0\"/></g><g class=\"unknown connector block\"><rect height=\"12.0\" width=\"18.0\" x=\"211.0\" y=\"894.0\"/><text x=\"220.0\" y=\"900.0\">L</text></g><g class=\"input connector block\"><rect height=\"12.0\" width=\"18.0\" x=\"-9.0\" y=\"911.0\"/><text x=\"0.0\" y=\"917.0\"/></g><g class=\"output connector block\"><rect height=\"12.0\" width=\"18.0\" x=\"-9.0\" y=\"917.0\"/><text x=\"0.0\" y=\"923.0\"/></g><g class=\"unknown connector block\"><rect height=\"12.0\" width=\"18.0\" x=\"-9.0\" y=\"914.0\"/><text x=\"0.0\" y=\"920.0\">A</text></g><g class=\"input connector block\"><rect height=\"12.0\" width=\"18.0\" x=\"211.0\" y=\"911.0\"/><text x=\"220.0\" y=\"917.0\"/></g><g class=\"output connector block\"><rect height=\"12.0\" width=\"18.0\" x=\"211.0\" y=\"917.0\"/><text x=\"220.0\" y=\"923.0\"/></g><g class=\"unknown connector block\"><rect height=\"12.0\" width=\"18.0\" x=\"211.0\" y=\"914.0\"/><text x=\"220.0\" y=\"920.0\">L</text></g><g class=\"input connector block\"><rect height=\"12.0\" width=\"18.0\" x=\"211.0\" y=\"931.0\"/><text x=\"220.0\" y=\"937.0\"/></g><g class=\"unknown connector block\"><rect height=\"12.0\" width=\"18.0\" x=\"211.0\" y=\"934.0\"/><text x=\"220.0\" y=\"940.0\">L</text></g><g class=\"output connector block\"><rect height=\"12.0\" width=\"18.0\" x=\"291.0\" y=\"937.0\"/><text x=\"300.0\" y=\"943.0\"/></g><g class=\"unknown connector block\"><rect height=\"12.0\" width=\"18.0\" x=\"291.0\" y=\"934.0\"/><text x=\"300.0\" y=\"940.0\">P</text></g><g class=\"input connector block\"><rect height=\"12.0\" width=\"18.0\" x=\"211.0\" y=\"951.0\"/><text x=\"220.0\" y=\"957.0\"/></g><g class=\"unknown connector block\"><rect height=\"12.0\" width=\"18.0\" x=\"211.0\" y=\"954.0\"/><text x=\"220.0\" y=\"960.0\">L</text></g><g class=\"output connector block\"><rect height=\"12.0\" width=\"18.0\" x=\"291.0\" y=\"957.0\"/><text x=\"300.0\" y=\"963.0\"/></g><g class=\"unknown connector block\"><rect height=\"12.0\" width=\"18.0\" x=\"291.0\" y=\"954.0\"/><text x=\"300.0\" y=\"960.0\">P</text></g><g class=\"input connector block\"><rect height=\"12.0\" width=\"18.0\" x=\"211.0\" y=\"971.0\"/><text x=\"220.0\" y=\"977.0\"/></g><g class=\"unknown connector block\"><rect height=\"12.0\" width=\"18.0\" x=\"211.0\" y=\"974.0\"/><text x=\"220.0\" y=\"980.0\">L</text></g><g class=\"output connector block\"><rect height=\"12.0\" width=\"18.0\" x=\"291.0\" y=\"977.0\"/><text x=\"300.0\" y=\"983.0\"/></g><g class=\"unknown connector block\"><rect height=\"12.0\" width=\"18.0\" x=\"291.0\" y=\"974.0\"/><text x=\"300.0\" y=\"980.0\">P</text></g><g class=\"input connector block\"><rect height=\"12.0\" width=\"18.0\" x=\"-9.0\" y=\"991.0\"/><text x=\"0.0\" y=\"997.0\"/></g><g class=\"output connector block\"><rect height=\"12.0\" width=\"18.0\" x=\"-9.0\" y=\"997.0\"/><text x=\"0.0\" y=\"1003.0\"/></g><g class=\"unknown connector block\"><rect height=\"12.0\" width=\"18.0\" x=\"-9.0\" y=\"994.0\"/><text x=\"0.0\" y=\"1000.0\">A</text></g><g class=\"input connector block\"><rect height=\"12.0\" width=\"18.0\" x=\"291.0\" y=\"991.0\"/><text x=\"300.0\" y=\"997.0\"/></g><g class=\"output connector block\"><rect height=\"12.0\" width=\"18.0\" x=\"291.0\" y=\"997.0\"/><text x=\"300.0\" y=\"1003.0\"/></g><g class=\"unknown connector block\"><rect height=\"12.0\" width=\"18.0\" x=\"291.0\" y=\"994.0\"/><text x=\"300.0\" y=\"1000.0\">P</text></g><g class=\"input connector block\"><rect height=\"12.0\" width=\"18.0\" x=\"-9.0\" y=\"1011.0\"/><text x=\"0.0\" y=\"1017.0\"/></g><g class=\"output connector block\"><rect height=\"12.0\" width=\"18.0\" x=\"-9.0\" y=\"1017.0\"/><text x=\"0.0\" y=\"1023.0\"/></g><g class=\"unknown connector block\"><rect height=\"12.0\" width=\"18.0\" x=\"-9.0\" y=\"1014.0\"/><text x=\"0.0\" y=\"1020.0\">A</text></g><g class=\"input connector block\"><rect height=\"12.0\" width=\"18.0\" x=\"291.0\" y=\"1011.0\"/><text x=\"300.0\" y=\"1017.0\"/></g><g class=\"output connector block\"><rect height=\"12.0\" width=\"18.0\" x=\"291.0\" y=\"1017.0\"/><text x=\"300.0\" y=\"1023.0\"/></g><g class=\"unknown connector block\"><rect height=\"12.0\" width=\"18.0\" x=\"291.0\" y=\"1014.0\"/><text x=\"300.0\" y=\"1020.0\">P</text></g><g class=\"output connector block\"><rect height=\"12.0\" width=\"18.0\" x=\"211.0\" y=\"1037.0\"/><text x=\"220.0\" y=\"1043.0\"/></g><g class=\"unknown connector block\"><rect height=\"12.0\" width=\"18.0\" x=\"211.0\" y=\"1034.0\"/><text x=\"220.0\" y=\"1040.0\">L</text></g><g class=\"input connector block\"><rect height=\"12.0\" width=\"18.0\" x=\"291.0\" y=\"1031.0\"/><text x=\"300.0\" y=\"1037.0\"/></g><g class=\"unknown connector block\"><rect height=\"12.0\" width=\"18.0\" x=\"291.0\" y=\"1034.0\"/><text x=\"300.0\" y=\"1040.0\">P</text></g><g class=\"output connector block\"><rect height=\"12.0\" width=\"18.0\" x=\"211.0\" y=\"1057.0\"/><text x=\"220.0\" y=\"1063.0\"/></g><g class=\"unknown connector block\"><rect height=\"12.0\" width=\"18.0\" x=\"211.0\" y=\"1054.0\"/><text x=\"220.0\" y=\"1060.0\">L</text></g><g class=\"input connector block\"><rect height=\"12.0\" width=\"18.0\" x=\"291.0\" y=\"1051.0\"/><text x=\"300.0\" y=\"1057.0\"/></g><g class=\"unknown connector block\"><rect height=\"12.0\" width=\"18.0\" x=\"291.0\" y=\"1054.0\"/><text x=\"300.0\" y=\"1060.0\">P</text></g><g class=\"output connector block\"><rect height=\"12.0\" width=\"18.0\" x=\"211.0\" y=\"1077.0\"/><text x=\"220.0\" y=\"1083.0\"/></g><g class=\"unknown connector block\"><rect height=\"12.0\" width=\"18.0\" x=\"211.0\" y=\"1074.0\"/><text x=\"220.0\" y=\"1080.0\">L</text></g><g class=\"input connector block\"><rect height=\"12.0\" width=\"18.0\" x=\"291.0\" y=\"1071.0\"/><text x=\"300.0\" y=\"1077.0\"/></g><g class=\"unknown connector block\"><rect height=\"12.0\" width=\"18.0\" x=\"291.0\" y=\"1074.0\"/><text x=\"300.0\" y=\"1080.0\">P</text></g><g class=\"input connector block\"><rect height=\"12.0\" width=\"18.0\" x=\"91.0\" y=\"1091.0\"/><text x=\"100.0\" y=\"1097.0\"/></g><g class=\"output connector block\"><rect height=\"12.0\" width=\"18.0\" x=\"91.0\" y=\"1097.0\"/><text x=\"100.0\" y=\"1103.0\"/></g><g class=\"unknown connector block\"><rect height=\"12.0\" width=\"18.0\" x=\"91.0\" y=\"1094.0\"/><text x=\"100.0\" y=\"1100.0\">F</text></g><g class=\"input connector block\"><rect height=\"12.0\" width=\"18.0\" x=\"191.0\" y=\"1091.0\"/><text x=\"200.0\" y=\"1097.0\"/></g><g class=\"output connector block\"><rect height=\"12.0\" width=\"18.0\" x=\"191.0\" y=\"1097.0\"/><text x=\"200.0\" y=\"1103.0\"/></g><g class=\"unknown connector block\"><rect height=\"12.0\" width=\"18.0\" x=\"191.0\" y=\"1094.0\"/><text x=\"200.0\" y=\"1100.0\">K</text></g><g class=\"input connector block\"><rect height=\"12.0\" width=\"18.0\" x=\"91.0\" y=\"1111.0\"/><text x=\"100.0\" y=\"1117.0\"/></g><g class=\"output connector block\"><rect height=\"12.0\" width=\"18.0\" x=\"91.0\" y=\"1117.0\"/><text x=\"100.0\" y=\"1123.0\"/></g><g class=\"unknown connector block\"><rect height=\"12.0\" width=\"18.0\" x=\"91.0\" y=\"1114.0\"/><text x=\"100.0\" y=\"1120.0\">F</text></g><g class=\"input connector block\"><rect height=\"12.0\" width=\"18.0\" x=\"191.0\" y=\"1111.0\"/><text x=\"200.0\" y=\"1117.0\"/></g><g class=\"output connector block\"><rect height=\"12.0\" width=\"18.0\" x=\"191.0\" y=\"1117.0\"/><text x=\"200.0\" y=\"1123.0\"/></g><g class=\"unknown connector block\"><rect height=\"12.0\" width=\"18.0\" x=\"191.0\" y=\"1114.0\"/><text x=\"200.0\" y=\"1120.0\">K</text></g><g class=\"input connector block\"><rect height=\"12.0\" width=\"18.0\" x=\"91.0\" y=\"1131.0\"/><text x=\"100.0\" y=\"1137.0\"/></g><g class=\"output connector block\"><rect height=\"12.0\" width=\"18.0\" x=\"91.0\" y=\"1137.0\"/><text x=\"100.0\" y=\"1143.0\"/></g><g class=\"unknown connector block\"><rect height=\"12.0\" width=\"18.0\" x=\"91.0\" y=\"1134.0\"/><text x=\"100.0\" y=\"1140.0\">F</text></g><g class=\"input connector block\"><rect height=\"12.0\" width=\"18.0\" x=\"191.0\" y=\"1131.0\"/><text x=\"200.0\" y=\"1137.0\"/></g><g class=\"output connector block\"><rect height=\"12.0\" width=\"18.0\" x=\"191.0\" y=\"1137.0\"/><text x=\"200.0\" y=\"1143.0\"/></g><g class=\"unknown connector block\"><rect height=\"12.0\" width=\"18.0\" x=\"191.0\" y=\"1134.0\"/><text x=\"200.0\" y=\"1140.0\">K</text></g><g class=\"input connector block\"><rect height=\"12.0\" width=\"18.0\" x=\"91.0\" y=\"1151.0\"/><text x=\"100.0\" y=\"1157.0\"/></g><g class=\"unknown connector block\"><rect height=\"12.0\" width=\"18.0\" x=\"91.0\" y=\"1154.0\"/><text x=\"100.0\" y=\"1160.0\">F</text></g><g class=\"output connector block\"><rect height=\"12.0\" width=\"18.0\" x=\"271.0\" y=\"1157.0\"/><text x=\"280.0\" y=\"1163.0\"/></g><g class=\"unknown connector block\"><rect height=\"12.0\" width=\"18.0\" x=\"271.0\" y=\"1154.0\"/><text x=\"280.0\" y=\"1160.0\">O</text></g><g class=\"input connector block\"><rect height=\"12.0\" width=\"18.0\" x=\"91.0\" y=\"1171.0\"/><text x=\"100.0\" y=\"1177.0\"/></g><g class=\"unknown connector block\"><rect height=\"12.0\" width=\"18.0\" x=\"91.0\" y=\"1174.0\"/><text x=\"100.0\" y=\"1180.0\">F</text></g><g class=\"output connector block\"><rect height=\"12.0\" width=\"18.0\" x=\"271.0\" y=\"1177.0\"/><text x=\"280.0\" y=\"1183.0\"/></g><g class=\"unknown connector block\"><rect height=\"12.0\" width=\"18.0\" x=\"271.0\" y=\"1174.0\"/><text x=\"280.0\" y=\"1180.0\">O</text></g><g class=\"input connector block\"><rect height=\"12.0\" width=\"18.0\" x=\"91.0\" y=\"1191.0\"/><text x=\"100.0\" y=\"1197.0\"/></g><g class=\"unknown connector block\"><rect height=\"12.0\" width=\"18.0\" x=\"91.0\" y=\"1194.0\"/><text x=\"100.0\" y=\"1200.0\">F</text></g><g class=\"output connector block\"><rect height=\"12.0\" width=\"18.0\" x=\"271.0\" y=\"1197.0\"/><text x=\"280.0\" y=\"1203.0\"/></g><g class=\"unknown connector block\"><rect height=\"12.0\" width=\"18.0\" x=\"271.0\" y=\"1194.0\"/><text x=\"280.0\" y=\"1200.0\">O</text></g><g class=\"input connector block\"><rect height=\"12.0\" width=\"18.0\" x=\"191.0\" y=\"1211.0\"/><text x=\"200.0\" y=\"1217.0\"/></g><g class=\"output connector block\"><rect height=\"12.0\" width=\"18.0\" x=\"191.0\" y=\"1217.0\"/><text x=\"200.0\" y=\"1223.0\"/></g><g class=\"unknown connector block\"><rect height=\"12.0\" width=\"18.0\" x=\"191.0\" y=\"1214.0\"/><text x=\"200.0\" y=\"1220.0\">K</text></g><g class=\"input connector block\"><rect height=\"12.0\" width=\"18.0\" x=\"271.0\" y=\"1211.0\"/><text x=\"280.0\" y=\"1217.0\"/></g><g class=\"output connector block\"><rect height=\"12.0\" width=\"18.0\" x=\"271.0\" y=\"1217.0\"/><text x=\"280.0\" y=\"1223.0\"/></g><g class=\"unknown connector block\"><rect height=\"12.0\" width=\"18.0\" x=\"271.0\" y=\"1214.0\"/><text x=\"280.0\" y=\"1220.0\">O</text></g><g class=\"input connector block\"><rect height=\"12.0\" width=\"18.0\" x=\"191.0\" y=\"1231.0\"/><text x=\"200.0\" y=\"1237.0\"/></g><g class=\"output connector block\"><rect height=\"12.0\" width=\"18.0\" x=\"191.0\" y=\"1237.0\"/><text x=\"200.0\" y=\"1243.0\"/></g><g class=\"unknown connector block\"><rect height=\"12.0\" width=\"18.0\" x=\"191.0\" y=\"1234.0\"/><text x=\"200.0\" y=\"1240.0\">K</text></g><g class=\"input connector block\"><rect height=\"12.0\" width=\"18.0\" x=\"271.0\" y=\"1231.0\"/><text x=\"280.0\" y=\"1237.0\"/></g><g class=\"output connector block\"><rect height=\"12.0\" width=\"18.0\" x=\"271.0\" y=\"1237.0\"/><text x=\"280.0\" y=\"1243.0\"/></g><g class=\"unknown connector block\"><rect height=\"12.0\" width=\"18.0\" x=\"271.0\" y=\"1234.0\"/><text x=\"280.0\" y=\"1240.0\">O</text></g><g class=\"output connector block\"><rect height=\"12.0\" width=\"18.0\" x=\"91.0\" y=\"1257.0\"/><text x=\"100.0\" y=\"1263.0\"/></g><g class=\"unknown connector block\"><rect height=\"12.0\" width=\"18.0\" x=\"91.0\" y=\"1254.0\"/><text x=\"100.0\" y=\"1260.0\">F</text></g><g class=\"input connector block\"><rect height=\"12.0\" width=\"18.0\" x=\"271.0\" y=\"1251.0\"/><text x=\"280.0\" y=\"1257.0\"/></g><g class=\"unknown connector block\"><rect height=\"12.0\" width=\"18.0\" x=\"271.0\" y=\"1254.0\"/><text x=\"280.0\" y=\"1260.0\">O</text></g><g class=\"output connector block\"><rect height=\"12.0\" width=\"18.0\" x=\"91.0\" y=\"1277.0\"/><text x=\"100.0\" y=\"1283.0\"/></g><g class=\"unknown connector block\"><rect height=\"12.0\" width=\"18.0\" x=\"91.0\" y=\"1274.0\"/><text x=\"100.0\" y=\"1280.0\">F</text></g><g class=\"input connector block\"><rect height=\"12.0\" width=\"18.0\" x=\"271.0\" y=\"1271.0\"/><text x=\"280.0\" y=\"1277.0\"/></g><g class=\"unknown connector block\"><rect height=\"12.0\" width=\"18.0\" x=\"271.0\" y=\"1274.0\"/><text x=\"280.0\" y=\"1280.0\">O</text></g><g class=\"output connector block\"><rect height=\"12.0\" width=\"18.0\" x=\"91.0\" y=\"1297.0\"/><text x=\"100.0\" y=\"1303.0\"/></g><g class=\"unknown connector block\"><rect height=\"12.0\" width=\"18.0\" x=\"91.0\" y=\"1294.0\"/><text x=\"100.0\" y=\"1300.0\">F</text></g><g class=\"input connector block\"><rect height=\"12.0\" width=\"18.0\" x=\"271.0\" y=\"1291.0\"/><text x=\"280.0\" y=\"1297.0\"/></g><g class=\"unknown connector block\"><rect height=\"12.0\" width=\"18.0\" x=\"271.0\" y=\"1294.0\"/><text x=\"280.0\" y=\"1300.0\">O</text></g><g class=\"input connector block\"><rect height=\"12.0\" width=\"18.0\" x=\"11.0\" y=\"1311.0\"/><text x=\"20.0\" y=\"1317.0\"/></g><g class=\"output connector block\"><rect height=\"12.0\" width=\"18.0\" x=\"11.0\" y=\"1317.0\"/><text x=\"20.0\" y=\"1323.0\"/></g><g class=\"unknown connector block\"><rect height=\"12.0\" width=\"18.0\" x=\"11.0\" y=\"1314.0\"/><text x=\"20.0\" y=\"1320.0\">B</text></g><g class=\"input connector block\"><rect height=\"12.0\" width=\"18.0\" x=\"171.0\" y=\"1311.0\"/><text x=\"180.0\" y=\"1317.0\"/></g><g class=\"output connector block\"><rect height=\"12.0\" width=\"18.0\" x=\"171.0\" y=\"1317.0\"/><text x=\"180.0\" y=\"1323.0\"/></g><g class=\"unknown connector block\"><rect height=\"12.0\" width=\"18.0\" x=\"171.0\" y=\"1314.0\"/><text x=\"180.0\" y=\"1320.0\">J</text></g><g class=\"input connector block\"><rect height=\"12.0\" width=\"18.0\" x=\"11.0\" y=\"1331.0\"/><text x=\"20.0\" y=\"1337.0\"/></g><g class=\"output connector block\"><rect height=\"12.0\" width=\"18.0\" x=\"11.0\" y=\"1337.0\"/><text x=\"20.0\" y=\"1343.0\"/></g><g class=\"unknown connector block\"><rect height=\"12.0\" width=\"18.0\" x=\"11.0\" y=\"1334.0\"/><text x=\"20.0\" y=\"1340.0\">B</text></g><g class=\"input connector block\"><rect height=\"12.0\" width=\"18.0\" x=\"171.0\" y=\"1331.0\"/><text x=\"180.0\" y=\"1337.0\"/></g><g class=\"output connector block\"><rect height=\"12.0\" width=\"18.0\" x=\"171.0\" y=\"1337.0\"/><text x=\"180.0\" y=\"1343.0\"/></g><g class=\"unknown connector block\"><rect height=\"12.0\" width=\"18.0\" x=\"171.0\" y=\"1334.0\"/><text x=\"180.0\" y=\"1340.0\">J</text></g><g class=\"input connector block\"><rect height=\"12.0\" width=\"18.0\" x=\"11.0\" y=\"1351.0\"/><text x=\"20.0\" y=\"1357.0\"/></g><g class=\"output connector block\"><rect height=\"12.0\" width=\"18.0\" x=\"11.0\" y=\"1357.0\"/><text x=\"20.0\" y=\"1363.0\"/></g><g class=\"unknown connector block\"><rect height=\"12.0\" width=\"18.0\" x=\"11.0\" y=\"1354.0\"/><text x=\"20.0\" y=\"1360.0\">B</text></g><g class=\"input connector block\"><rect height=\"12.0\" width=\"18.0\" x=\"171.0\" y=\"1351.0\"/><text x=\"180.0\" y=\"1357.0\"/></g><g class=\"output connector block\"><rect height=\"12.0\" width=\"18.0\" x=\"171.0\" y=\"1357.0\"/><text x=\"180.0\" y=\"1363.0\"/></g><g class=\"unknown connector block\"><rect height=\"12.0\" width=\"18.0\" x=\"171.0\" y=\"1354.0\"/><text x=\"180.0\" y=\"1360.0\">J</text></g><g class=\"input connector block\"><rect height=\"12.0\" width=\"18.0\" x=\"171.0\" y=\"1371.0\"/><text x=\"180.0\" y=\"1377.0\"/></g><g class=\"unknown connector block\"><rect height=\"12.0\" width=\"18.0\" x=\"171.0\" y=\"1374.0\"/><text x=\"180.0\" y=\"1380.0\">J</text></g><g class=\"output connector block\"><rect height=\"12.0\" width=\"18.0\" x=\"251.0\" y=\"1377.0\"/><text x=\"260.0\" y=\"1383.0\"/></g><g class=\"unknown connector block\"><rect height=\"12.0\" width=\"18.0\" x=\"251.0\" y=\"1374.0\"/><text x=\"260.0\" y=\"1380.0\">N</text></g><g class=\"input connector block\"><rect height=\"12.0\" width=\"18.0\" x=\"171.0\" y=\"1391.0\"/><text x=\"180.0\" y=\"1397.0\"/></g><g class=\"unknown connector block\"><rect height=\"12.0\" width=\"18.0\" x=\"171.0\" y=\"1394.0\"/><text x=\"180.0\" y=\"1400.0\">J</text></g><g class=\"output connector block\"><rect height=\"12.0\" width=\"18.0\" x=\"251.0\" y=\"1397.0\"/><text x=\"260.0\" y=\"1403.0\"/></g><g class=\"unknown connector block\"><rect height=\"12.0\" width=\"18.0\" x=\"251.0\" y=\"1394.0\"/><text x=\"260.0\" y=\"1400.0\">N</text></g><g class=\"input connector block\"><rect height=\"12.0\" width=\"18.0\" x=\"171.0\" y=\"1411.0\"/><text x=\"180.0\" y=\"1417.0\"/></g><g class=\"unknown connector block\"><rect height=\"12.0\" width=\"18.0\" x=\"171.0\" y=\"1414.0\"/><text x=\"180.0\" y=\"1420.0\">J</text></g><g class=\"output connector block\"><rect height=\"12.0\" width=\"18.0\" x=\"251.0\" y=\"1417.0\"/><text x=\"260.0\" y=\"1423.0\"/></g><g class=\"unknown connector block\"><rect height=\"12.0\" width=\"18.0\" x=\"251.0\" y=\"1414.0\"/><text x=\"260.0\" y=\"1420.0\">N</text></g><g class=\"input connector block\"><rect height=\"12.0\" width=\"18.0\" x=\"11.0\" y=\"1431.0\"/><text x=\"20.0\" y=\"1437.0\"/></g><g class=\"output connector block\"><rect height=\"12.0\" width=\"18.0\" x=\"11.0\" y=\"1437.0\"/><text x=\"20.0\" y=\"1443.0\"/></g><g class=\"unknown connector block\"><rect height=\"12.0\" width=\"18.0\" x=\"11.0\" y=\"1434.0\"/><text x=\"20.0\" y=\"1440.0\">B</text></g><g class=\"input connector block\"><rect height=\"12.0\" width=\"18.0\" x=\"251.0\" y=\"1431.0\"/><text x=\"260.0\" y=\"1437.0\"/></g><g class=\"output connector block\"><rect height=\"12.0\" width=\"18.0\" x=\"251.0\" y=\"1437.0\"/><text x=\"260.0\" y=\"1443.0\"/></g><g class=\"unknown connector block\"><rect height=\"12.0\" width=\"18.0\" x=\"251.0\" y=\"1434.0\"/><text x=\"260.0\" y=\"1440.0\">N</text></g><g class=\"input connector block\"><rect height=\"12.0\" width=\"18.0\" x=\"11.0\" y=\"1451.0\"/><text x=\"20.0\" y=\"1457.0\"/></g><g class=\"output connector block\"><rect height=\"12.0\" width=\"18.0\" x=\"11.0\" y=\"1457.0\"/><text x=\"20.0\" y=\"1463.0\"/></g><g class=\"unknown connector block\"><rect height=\"12.0\" width=\"18.0\" x=\"11.0\" y=\"1454.0\"/><text x=\"20.0\" y=\"1460.0\">B</text></g><g class=\"input connector block\"><rect height=\"12.0\" width=\"18.0\" x=\"251.0\" y=\"1451.0\"/><text x=\"260.0\" y=\"1457.0\"/></g><g class=\"output connector block\"><rect height=\"12.0\" width=\"18.0\" x=\"251.0\" y=\"1457.0\"/><text x=\"260.0\" y=\"1463.0\"/></g><g class=\"unknown connector block\"><rect height=\"12.0\" width=\"18.0\" x=\"251.0\" y=\"1454.0\"/><text x=\"260.0\" y=\"1460.0\">N</text></g><g class=\"output connector block\"><rect height=\"12.0\" width=\"18.0\" x=\"171.0\" y=\"1477.0\"/><text x=\"180.0\" y=\"1483.0\"/></g><g class=\"unknown connector block\"><rect height=\"12.0\" width=\"18.0\" x=\"171.0\" y=\"1474.0\"/><text x=\"180.0\" y=\"1480.0\">J</text></g><g class=\"input connector block\"><rect height=\"12.0\" width=\"18.0\" x=\"251.0\" y=\"1471.0\"/><text x=\"260.0\" y=\"1477.0\"/></g><g class=\"unknown connector block\"><rect height=\"12.0\" width=\"18.0\" x=\"251.0\" y=\"1474.0\"/><text x=\"260.0\" y=\"1480.0\">N</text></g><g class=\"output connector block\"><rect height=\"12.0\" width=\"18.0\" x=\"171.0\" y=\"1497.0\"/><text x=\"180.0\" y=\"1503.0\"/></g><g class=\"unknown connector block\"><rect height=\"12.0\" width=\"18.0\" x=\"171.0\" y=\"1494.0\"/><text x=\"180.0\" y=\"1500.0\">J</text></g><g class=\"input connector block\"><rect height=\"12.0\" width=\"18.0\" x=\"251.0\" y=\"1491.0\"/><text x=\"260.0\" y=\"1497.0\"/></g><g class=\"unknown connector block\"><rect height=\"12.0\" width=\"18.0\" x=\"251.0\" y=\"1494.0\"/><text x=\"260.0\" y=\"1500.0\">N</text></g><g class=\"output connector block\"><rect height=\"12.0\" width=\"18.0\" x=\"171.0\" y=\"1517.0\"/><text x=\"180.0\" y=\"1523.0\"/></g><g class=\"unknown connector block\"><rect height=\"12.0\" width=\"18.0\" x=\"171.0\" y=\"1514.0\"/><text x=\"180.0\" y=\"1520.0\">J</text></g><g class=\"input connector block\"><rect height=\"12.0\" width=\"18.0\" x=\"251.0\" y=\"1511.0\"/><text x=\"260.0\" y=\"1517.0\"/></g><g class=\"unknown connector block\"><rect height=\"12.0\" width=\"18.0\" x=\"251.0\" y=\"1514.0\"/><text x=\"260.0\" y=\"1520.0\">N</text></g><g class=\"input connector block\"><rect height=\"12.0\" width=\"18.0\" x=\"-9.0\" y=\"1531.0\"/><text x=\"0.0\" y=\"1537.0\"/></g><g class=\"output connector block\"><rect height=\"12.0\" width=\"18.0\" x=\"-9.0\" y=\"1537.0\"/><text x=\"0.0\" y=\"1543.0\"/></g><g class=\"unknown connector block\"><rect height=\"12.0\" width=\"18.0\" x=\"-9.0\" y=\"1534.0\"/><text x=\"0.0\" y=\"1540.0\">A</text></g><g class=\"input connector block\"><rect height=\"12.0\" width=\"18.0\" x=\"11.0\" y=\"1531.0\"/><text x=\"20.0\" y=\"1537.0\"/></g><g class=\"output connector block\"><rect height=\"12.0\" width=\"18.0\" x=\"11.0\" y=\"1537.0\"/><text x=\"20.0\" y=\"1543.0\"/></g><g class=\"unknown connector block\"><rect height=\"12.0\" width=\"18.0\" x=\"11.0\" y=\"1534.0\"/><text x=\"20.0\" y=\"1540.0\">B</text></g><g class=\"input connector block\"><rect height=\"12.0\" width=\"18.0\" x=\"31.0\" y=\"1531.0\"/><text x=\"40.0\" y=\"1537.0\"/></g><g class=\"output connector block\"><rect height=\"12.0\" width=\"18.0\" x=\"31.0\" y=\"1537.0\"/><text x=\"40.0\" y=\"1543.0\"/></g><g class=\"unknown connector block\"><rect height=\"12.0\" width=\"18.0\" x=\"31.0\" y=\"1534.0\"/><text x=\"40.0\" y=\"1540.0\">C</text></g><g class=\"input connector block\"><rect height=\"12.0\" width=\"18.0\" x=\"51.0\" y=\"1531.0\"/><text x=\"60.0\" y=\"1537.0\"/></g><g class=\"output connector block\"><rect height=\"12.0\" width=\"18.0\" x=\"51.0\" y=\"1537.0\"/><text x=\"60.0\" y=\"1543.0\"/></g><g class=\"unknown connector block\"><rect height=\"12.0\" width=\"18.0\" x=\"51.0\" y=\"1534.0\"/><text x=\"60.0\" y=\"1540.0\">D</text></g><g class=\"input connector block\"><rect height=\"12.0\" width=\"18.0\" x=\"71.0\" y=\"1531.0\"/><text x=\"80.0\" y=\"1537.0\"/></g><g class=\"output connector block\"><rect height=\"12.0\" width=\"18.0\" x=\"71.0\" y=\"1537.0\"/><text x=\"80.0\" y=\"1543.0\"/></g><g class=\"unknown connector block\"><rect height=\"12.0\" width=\"18.0\" x=\"71.0\" y=\"1534.0\"/><text x=\"80.0\" y=\"1540.0\">E</text></g><g class=\"input connector block\"><rect height=\"12.0\" width=\"18.0\" x=\"111.0\" y=\"1531.0\"/><text x=\"120.0\" y=\"1537.0\"/></g><g class=\"output connector block\"><rect height=\"12.0\" width=\"18.0\" x=\"111.0\" y=\"1537.0\"/><text x=\"120.0\" y=\"1543.0\"/></g><g class=\"unknown connector block\"><rect height=\"12.0\" width=\"18.0\" x=\"111.0\" y=\"1534.0\"/><text x=\"120.0\" y=\"1540.0\">G</text></g><g class=\"input connector block\"><rect height=\"12.0\" width=\"18.0\" x=\"131.0\" y=\"1531.0\"/><text x=\"140.0\" y=\"1537.0\"/></g><g class=\"output connector block\"><rect height=\"12.0\" width=\"18.0\" x=\"131.0\" y=\"1537.0\"/><text x=\"140.0\" y=\"1543.0\"/></g><g class=\"unknown connector block\"><rect height=\"12.0\" width=\"18.0\" x=\"131.0\" y=\"1534.0\"/><text x=\"140.0\" y=\"1540.0\">H</text></g><g class=\"input connector block\"><rect height=\"12.0\" width=\"18.0\" x=\"151.0\" y=\"1531.0\"/><text x=\"160.0\" y=\"1537.0\"/></g><g class=\"output connector block\"><rect height=\"12.0\" width=\"18.0\" x=\"151.0\" y=\"1537.0\"/><text x=\"160.0\" y=\"1543.0\"/></g><g class=\"unknown connector block\"><rect height=\"12.0\" width=\"18.0\" x=\"151.0\" y=\"1534.0\"/><text x=\"160.0\" y=\"1540.0\">I</text></g><g class=\"input connector block\"><rect height=\"12.0\" width=\"18.0\" x=\"191.0\" y=\"1531.0\"/><text x=\"200.0\" y=\"1537.0\"/></g><g class=\"output connector block\"><rect height=\"12.0\" width=\"18.0\" x=\"191.0\" y=\"1537.0\"/><text x=\"200.0\" y=\"1543.0\"/></g><g class=\"unknown connector block\"><rect height=\"12.0\" width=\"18.0\" x=\"191.0\" y=\"1534.0\"/><text x=\"200.0\" y=\"1540.0\">K</text></g><g class=\"input connector block\"><rect height=\"12.0\" width=\"18.0\" x=\"231.0\" y=\"1531.0\"/><text x=\"240.0\" y=\"1537.0\"/></g><g class=\"output connector block\"><rect height=\"12.0\" width=\"18.0\" x=\"231.0\" y=\"1537.0\"/><text x=\"240.0\" y=\"1543.0\"/></g><g class=\"unknown connector block\"><rect height=\"12.0\" width=\"18.0\" x=\"231.0\" y=\"1534.0\"/><text x=\"240.0\" y=\"1540.0\">M</text></g><g class=\"input connector block\"><rect height=\"12.0\" width=\"18.0\" x=\"231.0\" y=\"1551.0\"/><text x=\"240.0\" y=\"1557.0\"/></g><g class=\"output connector block\"><rect height=\"12.0\" width=\"18.0\" x=\"231.0\" y=\"1557.0\"/><text x=\"240.0\" y=\"1563.0\"/></g><g class=\"unknown connector block\"><rect height=\"12.0\" width=\"18.0\" x=\"231.0\" y=\"1554.0\"/><text x=\"240.0\" y=\"1560.0\">M</text></g><g class=\"input connector block\"><rect height=\"12.0\" width=\"18.0\" x=\"71.0\" y=\"1571.0\"/><text x=\"80.0\" y=\"1577.0\"/></g><g class=\"output connector block\"><rect height=\"12.0\" width=\"18.0\" x=\"71.0\" y=\"1577.0\"/><text x=\"80.0\" y=\"1583.0\"/></g><g class=\"unknown connector block\"><rect height=\"12.0\" width=\"18.0\" x=\"71.0\" y=\"1574.0\"/><text x=\"80.0\" y=\"1580.0\">E</text></g><g class=\"input connector block\"><rect height=\"12.0\" width=\"18.0\" x=\"191.0\" y=\"1591.0\"/><text x=\"200.0\" y=\"1597.0\"/></g><g class=\"output connector block\"><rect height=\"12.0\" width=\"18.0\" x=\"191.0\" y=\"1597.0\"/><text x=\"200.0\" y=\"1603.0\"/></g><g class=\"unknown connector block\"><rect height=\"12.0\" width=\"18.0\" x=\"191.0\" y=\"1594.0\"/><text x=\"200.0\" y=\"1600.0\">K</text></g><g class=\"input connector block\"><rect height=\"12.0\" width=\"18.0\" x=\"131.0\" y=\"1611.0\"/><text x=\"140.0\" y=\"1617.0\"/></g><g class=\"output connector block\"><rect height=\"12.0\" width=\"18.0\" x=\"131.0\" y=\"1617.0\"/><text x=\"140.0\" y=\"1623.0\"/></g><g class=\"unknown connector block\"><rect height=\"12.0\" width=\"18.0\" x=\"131.0\" y=\"1614.0\"/><text x=\"140.0\" y=\"1620.0\">H</text></g><g class=\"input connector block\"><rect height=\"12.0\" width=\"18.0\" x=\"51.0\" y=\"1631.0\"/><text x=\"60.0\" y=\"1637.0\"/></g><g class=\"output connector block\"><rect height=\"12.0\" width=\"18.0\" x=\"51.0\" y=\"1637.0\"/><text x=\"60.0\" y=\"1643.0\"/></g><g class=\"unknown connector block\"><rect height=\"12.0\" width=\"18.0\" x=\"51.0\" y=\"1634.0\"/><text x=\"60.0\" y=\"1640.0\">D</text></g><g class=\"input connector block\"><rect height=\"12.0\" width=\"18.0\" x=\"31.0\" y=\"1651.0\"/><text x=\"40.0\" y=\"1657.0\"/></g><g class=\"output connector block\"><rect height=\"12.0\" width=\"18.0\" x=\"31.0\" y=\"1657.0\"/><text x=\"40.0\" y=\"1663.0\"/></g><g class=\"unknown connector block\"><rect height=\"12.0\" width=\"18.0\" x=\"31.0\" y=\"1654.0\"/><text x=\"40.0\" y=\"1660.0\">C</text></g><g class=\"input connector block\"><rect height=\"12.0\" width=\"18.0\" x=\"-9.0\" y=\"1671.0\"/><text x=\"0.0\" y=\"1677.0\"/></g><g class=\"output connector block\"><rect height=\"12.0\" width=\"18.0\" x=\"-9.0\" y=\"1677.0\"/><text x=\"0.0\" y=\"1683.0\"/></g><g class=\"unknown connector block\"><rect height=\"12.0\" width=\"18.0\" x=\"-9.0\" y=\"1674.0\"/><text x=\"0.0\" y=\"1680.0\">A</text></g><g class=\"input connector block\"><rect height=\"12.0\" width=\"18.0\" x=\"111.0\" y=\"1691.0\"/><text x=\"120.0\" y=\"1697.0\"/></g><g class=\"output connector block\"><rect height=\"12.0\" width=\"18.0\" x=\"111.0\" y=\"1697.0\"/><text x=\"120.0\" y=\"1703.0\"/></g><g class=\"unknown connector block\"><rect height=\"12.0\" width=\"18.0\" x=\"111.0\" y=\"1694.0\"/><text x=\"120.0\" y=\"1700.0\">G</text></g><g class=\"input connector block\"><rect height=\"12.0\" width=\"18.0\" x=\"11.0\" y=\"1711.0\"/><text x=\"20.0\" y=\"1717.0\"/></g><g class=\"output connector block\"><rect height=\"12.0\" width=\"18.0\" x=\"11.0\" y=\"1717.0\"/><text x=\"20.0\" y=\"1723.0\"/></g><g class=\"unknown connector block\"><rect height=\"12.0\" width=\"18.0\" x=\"11.0\" y=\"1714.0\"/><text x=\"20.0\" y=\"1720.0\">B</text></g><g class=\"input connector block\"><rect height=\"12.0\" width=\"18.0\" x=\"151.0\" y=\"1731.0\"/><text x=\"160.0\" y=\"1737.0\"/></g><g class=\"output connector block\"><rect height=\"12.0\" width=\"18.0\" x=\"151.0\" y=\"1737.0\"/><text x=\"160.0\" y=\"1743.0\"/></g><g class=\"unknown connector block\"><rect height=\"12.0\" width=\"18.0\" x=\"151.0\" y=\"1734.0\"/><text x=\"160.0\" y=\"1740.0\">I</text></g></g></svg>"
      ],
      "text/plain": [
       "<IPython.core.display.SVG object>"
      ]
     },
     "execution_count": 5,
     "metadata": {},
     "output_type": "execute_result"
    }
   ],
   "source": [
    "builder = vis.MoveTreeBuilder.from_scheme(scheme)\n",
    "builder.options.analysis['only_canonical'] = False\n",
    "SVG(builder.svg())"
   ]
  },
  {
   "cell_type": "code",
   "execution_count": 4,
   "metadata": {
    "collapsed": false
   },
   "outputs": [
    {
     "name": "stdout",
     "output_type": "stream",
     "text": [
      "ConditionalSequential\n",
      "EnsembleFilter\n"
     ]
    }
   ],
   "source": [
    "nn = mover[0][3][0][0][0]\n",
    "print nn\n",
    "print mover[0][3][0].mover\n",
    "mover[0][3][0].mover = nn"
   ]
  },
  {
   "cell_type": "code",
   "execution_count": 6,
   "metadata": {
    "collapsed": true
   },
   "outputs": [],
   "source": [
    "scheme = st.schemes[0]\n",
    "ens = ens = list(scheme.find_used_ensembles()) + list(scheme.find_hidden_ensembles())"
   ]
  },
  {
   "cell_type": "code",
   "execution_count": 7,
   "metadata": {
    "collapsed": false
   },
   "outputs": [
    {
     "name": "stdout",
     "output_type": "stream",
     "text": [
      "CPU times: user 3.81 ms, sys: 927 µs, total: 4.74 ms\n",
      "Wall time: 4.16 ms\n"
     ]
    }
   ],
   "source": [
    "%%time\n",
    "qq = mover.in_out_matrix"
   ]
  },
  {
   "cell_type": "code",
   "execution_count": 8,
   "metadata": {
    "collapsed": false
   },
   "outputs": [
    {
     "name": "stdout",
     "output_type": "stream",
     "text": [
      "--\n",
      "++\n",
      "8 -> 12\n",
      "12 -> 8\n",
      "--\n",
      "--\n",
      "--\n",
      "--\n"
     ]
    }
   ],
   "source": [
    "m = mover[0][3][1][0][0]\n",
    "\n",
    "m0 = m[0]\n",
    "m1 = m[1]\n",
    "m2 = m[2]\n",
    "\n",
    "io0 = m0.in_out_matrix\n",
    "io1 = m1.in_out_matrix\n",
    "io2 = m2.in_out_matrix\n",
    "\n",
    "io = io0 + io1 + io2\n",
    "for q in io:\n",
    "    if q.essential:\n",
    "        print '++'\n",
    "        for l in q:\n",
    "            print ens.index(l[0][0]), '->', ens.index(l[0][1])\n",
    "    else:\n",
    "        print '--'\n",
    "    \n"
   ]
  },
  {
   "cell_type": "code",
   "execution_count": 7,
   "metadata": {
    "collapsed": true
   },
   "outputs": [],
   "source": [
    "from collections import Counter"
   ]
  },
  {
   "cell_type": "code",
   "execution_count": 8,
   "metadata": {
    "collapsed": false
   },
   "outputs": [
    {
     "data": {
      "text/plain": [
       "True"
      ]
     },
     "execution_count": 8,
     "metadata": {},
     "output_type": "execute_result"
    }
   ],
   "source": [
    "qq.is_constant"
   ]
  },
  {
   "cell_type": "code",
   "execution_count": 9,
   "metadata": {
    "collapsed": false
   },
   "outputs": [
    {
     "name": "stdout",
     "output_type": "stream",
     "text": [
      "CPU times: user 6 µs, sys: 1 µs, total: 7 µs\n",
      "Wall time: 11.2 µs\n"
     ]
    }
   ],
   "source": [
    "%%time\n",
    "q = mover.in_out_matrix"
   ]
  },
  {
   "cell_type": "code",
   "execution_count": 28,
   "metadata": {
    "collapsed": true
   },
   "outputs": [],
   "source": [
    "sset = st.steps[0].active"
   ]
  },
  {
   "cell_type": "code",
   "execution_count": 29,
   "metadata": {
    "collapsed": false
   },
   "outputs": [],
   "source": [
    "rs = p.pathmover.ReplicaState.from_sampleset(sset)\n",
    "d = dict(p.pathmover.ReplicaState.from_sampleset(sset))\n",
    "for s in d:\n",
    "    d[s] = 2\n",
    "rs2 = p.pathmover.ReplicaState(d.items())"
   ]
  },
  {
   "cell_type": "code",
   "execution_count": 30,
   "metadata": {
    "collapsed": false
   },
   "outputs": [],
   "source": [
    "def get_sub_used(mover, replica_states, level):\n",
    "    l = [(mover, level, replica_states)]\n",
    "    subs = mover.sub_replica_state(replica_states)\n",
    "#     print mover, subs\n",
    "    map(lambda x, y, z : l.extend(get_sub_used(x, y, z)), mover.submovers, subs, [1 + level] * len(mover.submovers))\n",
    "    return l"
   ]
  },
  {
   "cell_type": "code",
   "execution_count": 31,
   "metadata": {
    "collapsed": false
   },
   "outputs": [],
   "source": [
    "scheme = st.schemes[0]\n",
    "mms = list(mover)"
   ]
  },
  {
   "cell_type": "code",
   "execution_count": 32,
   "metadata": {
    "collapsed": false
   },
   "outputs": [
    {
     "name": "stdout",
     "output_type": "stream",
     "text": [
      "ForwardExtend\n"
     ]
    },
    {
     "data": {
      "text/plain": [
       "{frozenset({(<openpathsampling.ensemble.MinusInterfaceEnsemble at 0x126d45350>,\n",
       "             2),\n",
       "            (<openpathsampling.ensemble.MinusInterfaceEnsemble at 0x126d46d90>,\n",
       "             1),\n",
       "            (<openpathsampling.ensemble.MinusInterfaceEnsemble at 0x126d67850>,\n",
       "             1),\n",
       "            (<openpathsampling.ensemble.TISEnsemble at 0x1268d0810>, 1),\n",
       "            (<openpathsampling.ensemble.TISEnsemble at 0x1268e2050>, 1),\n",
       "            (<openpathsampling.ensemble.TISEnsemble at 0x1268f3510>, 1),\n",
       "            (<openpathsampling.ensemble.TISEnsemble at 0x1268f3c10>, 1),\n",
       "            (<openpathsampling.ensemble.TISEnsemble at 0x1268f3c90>, 1),\n",
       "            (<openpathsampling.ensemble.TISEnsemble at 0x1268ff310>, 1),\n",
       "            (<openpathsampling.ensemble.TISEnsemble at 0x1268ffdd0>, 1),\n",
       "            (<openpathsampling.ensemble.TISEnsemble at 0x1268ffe10>, 1),\n",
       "            (<openpathsampling.ensemble.TISEnsemble at 0x126d305d0>, 1),\n",
       "            (<openpathsampling.ensemble.UnionEnsemble at 0x1268e2f90>, 1)})}"
      ]
     },
     "execution_count": 32,
     "metadata": {},
     "output_type": "execute_result"
    }
   ],
   "source": [
    "m = mms[64]\n",
    "print m\n",
    "m.move_replica_state(rs)"
   ]
  },
  {
   "cell_type": "code",
   "execution_count": 36,
   "metadata": {
    "collapsed": false
   },
   "outputs": [
    {
     "ename": "NameError",
     "evalue": "name 'Counter' is not defined",
     "output_type": "error",
     "traceback": [
      "\u001b[0;31m---------------------------------------------------------------------------\u001b[0m",
      "\u001b[0;31mNameError\u001b[0m                                 Traceback (most recent call last)",
      "\u001b[0;32m<ipython-input-36-eae0c210e61e>\u001b[0m in \u001b[0;36m<module>\u001b[0;34m()\u001b[0m\n\u001b[0;32m----> 1\u001b[0;31m \u001b[0mrs3\u001b[0m \u001b[0;34m=\u001b[0m \u001b[0mp\u001b[0m\u001b[0;34m.\u001b[0m\u001b[0mpathmover\u001b[0m\u001b[0;34m.\u001b[0m\u001b[0mReplicaState\u001b[0m\u001b[0;34m(\u001b[0m\u001b[0mCounter\u001b[0m\u001b[0;34m(\u001b[0m\u001b[0mscheme\u001b[0m\u001b[0;34m.\u001b[0m\u001b[0mfind_used_ensembles\u001b[0m\u001b[0;34m(\u001b[0m\u001b[0;34m)\u001b[0m \u001b[0;34m|\u001b[0m \u001b[0mscheme\u001b[0m\u001b[0;34m.\u001b[0m\u001b[0mfind_hidden_ensembles\u001b[0m\u001b[0;34m(\u001b[0m\u001b[0;34m)\u001b[0m\u001b[0;34m)\u001b[0m\u001b[0;34m.\u001b[0m\u001b[0mitems\u001b[0m\u001b[0;34m(\u001b[0m\u001b[0;34m)\u001b[0m\u001b[0;34m)\u001b[0m\u001b[0;34m\u001b[0m\u001b[0m\n\u001b[0m",
      "\u001b[0;31mNameError\u001b[0m: name 'Counter' is not defined"
     ]
    }
   ],
   "source": [
    "rs3 = p.pathmover.ReplicaState(Counter(scheme.find_used_ensembles() | scheme.find_hidden_ensembles()).items())"
   ]
  },
  {
   "cell_type": "code",
   "execution_count": 39,
   "metadata": {
    "collapsed": false
   },
   "outputs": [],
   "source": [
    "ee = get_sub_used(mover, set([rs2]), 0)"
   ]
  },
  {
   "cell_type": "code",
   "execution_count": 48,
   "metadata": {
    "collapsed": false
   },
   "outputs": [
    {
     "data": {
      "text/plain": [
       "1"
      ]
     },
     "execution_count": 48,
     "metadata": {},
     "output_type": "execute_result"
    }
   ],
   "source": [
    "len(ee[10][2])"
   ]
  },
  {
   "cell_type": "code",
   "execution_count": 52,
   "metadata": {
    "collapsed": true
   },
   "outputs": [],
   "source": [
    "from collections import Counter"
   ]
  },
  {
   "cell_type": "code",
   "execution_count": 57,
   "metadata": {
    "collapsed": false
   },
   "outputs": [
    {
     "data": {
      "text/plain": [
       "True"
      ]
     },
     "execution_count": 57,
     "metadata": {},
     "output_type": "execute_result"
    }
   ],
   "source": [
    "Counter(dict(next(iter(subs)))) > mover.in_out_matrix.minimal"
   ]
  },
  {
   "cell_type": "code",
   "execution_count": 59,
   "metadata": {
    "collapsed": false
   },
   "outputs": [
    {
     "data": {
      "text/plain": [
       "openpathsampling.pathmover.ReplicaState"
      ]
     },
     "execution_count": 59,
     "metadata": {},
     "output_type": "execute_result"
    }
   ],
   "source": [
    "type(next(iter(subs)))"
   ]
  },
  {
   "cell_type": "code",
   "execution_count": 50,
   "metadata": {
    "collapsed": false
   },
   "outputs": [
    {
     "name": "stdout",
     "output_type": "stream",
     "text": [
      "\n",
      "  0  RootMover                                                                2 2 2 2 2 2 2 2 2 2 2 2 2 - - -\n",
      "  1     Ms_outer_shootingChooser                                              2 2 2 2 2 2 2 2 2 2 2 2 2 - - -\n",
      "  2        OneWayShootingMover [UnionEnsemble]                                2 2 2 2 2 2 2 2 2 2 2 2 2 - - -\n",
      "  3           ForwardShoot                                                    2 2 2 2 2 2 2 2 2 2 2 2 2 - - -\n",
      "  4           BackwardShoot                                                   2 2 2 2 2 2 2 2 2 2 2 2 2 - - -\n",
      "  5     RepexChooser                                                          2 2 2 2 2 2 2 2 2 2 2 2 2 - - -\n",
      "  6        ReplicaExchange                                                    2 2 2 2 2 2 2 2 2 2 2 2 2 - - -\n",
      "  7        ReplicaExchange                                                    2 2 2 2 2 2 2 2 2 2 2 2 2 - - -\n",
      "  8        ReplicaExchange                                                    2 2 2 2 2 2 2 2 2 2 2 2 2 - - -\n",
      "  9        ReplicaExchange                                                    2 2 2 2 2 2 2 2 2 2 2 2 2 - - -\n",
      " 10        ReplicaExchange                                                    2 2 2 2 2 2 2 2 2 2 2 2 2 - - -\n",
      " 11        ReplicaExchange                                                    2 2 2 2 2 2 2 2 2 2 2 2 2 - - -\n",
      " 12        ReplicaExchange                                                    2 2 2 2 2 2 2 2 2 2 2 2 2 - - -\n",
      " 13        ReplicaExchange                                                    2 2 2 2 2 2 2 2 2 2 2 2 2 - - -\n",
      " 14        ReplicaExchange                                                    2 2 2 2 2 2 2 2 2 2 2 2 2 - - -\n",
      " 15     ShootingChooser                                                       2 2 2 2 2 2 2 2 2 2 2 2 2 - - -\n",
      " 16        OneWayShootingMover I'face 1                                       2 2 2 2 2 2 2 2 2 2 2 2 2 - - -\n",
      " 17           ForwardShoot                                                    2 2 2 2 2 2 2 2 2 2 2 2 2 - - -\n",
      " 18           BackwardShoot                                                   2 2 2 2 2 2 2 2 2 2 2 2 2 - - -\n",
      " 19        OneWayShootingMover I'face 1                                       2 2 2 2 2 2 2 2 2 2 2 2 2 - - -\n",
      " 20           ForwardShoot                                                    2 2 2 2 2 2 2 2 2 2 2 2 2 - - -\n",
      " 21           BackwardShoot                                                   2 2 2 2 2 2 2 2 2 2 2 2 2 - - -\n",
      " 22        OneWayShootingMover I'face 1                                       2 2 2 2 2 2 2 2 2 2 2 2 2 - - -\n",
      " 23           ForwardShoot                                                    2 2 2 2 2 2 2 2 2 2 2 2 2 - - -\n",
      " 24           BackwardShoot                                                   2 2 2 2 2 2 2 2 2 2 2 2 2 - - -\n",
      " 25        OneWayShootingMover I'face 2                                       2 2 2 2 2 2 2 2 2 2 2 2 2 - - -\n",
      " 26           ForwardShoot                                                    2 2 2 2 2 2 2 2 2 2 2 2 2 - - -\n",
      " 27           BackwardShoot                                                   2 2 2 2 2 2 2 2 2 2 2 2 2 - - -\n",
      " 28        OneWayShootingMover I'face 2                                       2 2 2 2 2 2 2 2 2 2 2 2 2 - - -\n",
      " 29           ForwardShoot                                                    2 2 2 2 2 2 2 2 2 2 2 2 2 - - -\n",
      " 30           BackwardShoot                                                   2 2 2 2 2 2 2 2 2 2 2 2 2 - - -\n",
      " 31        OneWayShootingMover I'face 2                                       2 2 2 2 2 2 2 2 2 2 2 2 2 - - -\n",
      " 32           ForwardShoot                                                    2 2 2 2 2 2 2 2 2 2 2 2 2 - - -\n",
      " 33           BackwardShoot                                                   2 2 2 2 2 2 2 2 2 2 2 2 2 - - -\n",
      " 34        OneWayShootingMover I'face 0                                       2 2 2 2 2 2 2 2 2 2 2 2 2 - - -\n",
      " 35           ForwardShoot                                                    2 2 2 2 2 2 2 2 2 2 2 2 2 - - -\n",
      " 36           BackwardShoot                                                   2 2 2 2 2 2 2 2 2 2 2 2 2 - - -\n",
      " 37        OneWayShootingMover I'face 0                                       2 2 2 2 2 2 2 2 2 2 2 2 2 - - -\n",
      " 38           ForwardShoot                                                    2 2 2 2 2 2 2 2 2 2 2 2 2 - - -\n",
      " 39           BackwardShoot                                                   2 2 2 2 2 2 2 2 2 2 2 2 2 - - -\n",
      " 40        OneWayShootingMover I'face 0                                       2 2 2 2 2 2 2 2 2 2 2 2 2 - - -\n",
      " 41           ForwardShoot                                                    2 2 2 2 2 2 2 2 2 2 2 2 2 - - -\n",
      " 42           BackwardShoot                                                   2 2 2 2 2 2 2 2 2 2 2 2 2 - - -\n",
      " 43     MinusChooser                                                          2 2 2 2 2 2 2 2 2 2 2 2 2 - - -\n",
      " 44        Minus                                                              2 2 2 2 2 2 2 2 2 2 2 2 2 - - -\n",
      " 45           EnsembleFilter                                                  2 2 2 2 2 2 2 2 2 2 2 2 2 - - -\n",
      " 46              ConditionalSequential                                        - - - - - 2 - - - - - - 2 - - -\n",
      " 47                 MinusSubtrajectoryChooser                                 - - - - - 2 - - - - - - 2 - - -\n",
      " 48                    FirstSubtrajectorySelect                               - - - - - 2 - - - - - - 2 - - -\n",
      " 49                    FinalSubtrajectorySelect                               - - - - - 2 - - - - - - 2 - - -\n",
      " 50                 InterfaceSetChooser                                       - - - - - 2 - - - - - - 1 1 - -\n",
      " 51                    ReplicaExchange                                        - - - - - 2 - - - - - - 1 1 - -\n",
      " 52                 MinusExtensionDirectionChooser                            - - - - - 2 - - - - - - 1 1 - -\n",
      " 53                    ForwardExtend                                          - - - - - 2 - - - - - - 1 1 - -\n",
      " 54                    BackwardExtend                                         - - - - - 2 - - - - - - 1 1 - -\n",
      " 55        Minus                                                              2 2 2 2 2 2 2 2 2 2 2 2 2 - - -\n",
      " 56           EnsembleFilter                                                  2 2 2 2 2 2 2 2 2 2 2 2 2 - - -\n",
      " 57              ConditionalSequential                                        - - - 2 - - - 2 - - - - - - - -\n",
      " 58                 MinusSubtrajectoryChooser                                 - - - 2 - - - 2 - - - - - - - -\n",
      " 59                    FirstSubtrajectorySelect                               - - - 2 - - - 2 - - - - - - - -\n",
      " 60                    FinalSubtrajectorySelect                               - - - 2 - - - 2 - - - - - - - -\n",
      " 61                 InterfaceSetChooser                                       - - - 2 - - - 1 - - - - - - 1 -\n",
      " 62                    ReplicaExchange                                        - - - 2 - - - 1 - - - - - - 1 -\n",
      " 63                 MinusExtensionDirectionChooser                            - - - 2 - - - 1 - - - - - - 1 -\n",
      " 64                    ForwardExtend                                          - - - 2 - - - 1 - - - - - - 1 -\n",
      " 65                    BackwardExtend                                         - - - 2 - - - 1 - - - - - - 1 -\n",
      " 66        Minus                                                              2 2 2 2 2 2 2 2 2 2 2 2 2 - - -\n",
      " 67           EnsembleFilter                                                  2 2 2 2 2 2 2 2 2 2 2 2 2 - - -\n",
      " 68              ConditionalSequential                                        - - 2 - - - - - - 2 - - - - - -\n",
      " 69                 MinusSubtrajectoryChooser                                 - - 2 - - - - - - 2 - - - - - -\n",
      " 70                    FirstSubtrajectorySelect                               - - 2 - - - - - - 2 - - - - - -\n",
      " 71                    FinalSubtrajectorySelect                               - - 2 - - - - - - 2 - - - - - -\n",
      " 72                 InterfaceSetChooser                                       - - 2 - - - - - - 1 - - - - - 1\n",
      " 73                    ReplicaExchange                                        - - 2 - - - - - - 1 - - - - - 1\n",
      " 74                 MinusExtensionDirectionChooser                            - - 2 - - - - - - 1 - - - - - 1\n",
      " 75                    ForwardExtend                                          - - 2 - - - - - - 1 - - - - - 1\n",
      " 76                    BackwardExtend                                         - - 2 - - - - - - 1 - - - - - 1\n",
      " 77     PathreversalChooser                                                   2 2 2 2 2 2 2 2 2 2 2 2 2 - - -\n",
      " 78        PathReversal                                                       2 2 2 2 2 2 2 2 2 2 2 2 2 - - -\n",
      " 79        PathReversal                                                       2 2 2 2 2 2 2 2 2 2 2 2 2 - - -\n",
      " 80        PathReversal                                                       2 2 2 2 2 2 2 2 2 2 2 2 2 - - -\n",
      " 81        PathReversal                                                       2 2 2 2 2 2 2 2 2 2 2 2 2 - - -\n",
      " 82        PathReversal                                                       2 2 2 2 2 2 2 2 2 2 2 2 2 - - -\n",
      " 83        PathReversal                                                       2 2 2 2 2 2 2 2 2 2 2 2 2 - - -\n",
      " 84        PathReversal                                                       2 2 2 2 2 2 2 2 2 2 2 2 2 - - -\n",
      " 85        PathReversal                                                       2 2 2 2 2 2 2 2 2 2 2 2 2 - - -\n",
      " 86        PathReversal                                                       2 2 2 2 2 2 2 2 2 2 2 2 2 - - -\n",
      " 87        PathReversal                                                       2 2 2 2 2 2 2 2 2 2 2 2 2 - - -\n"
     ]
    }
   ],
   "source": [
    "ens = ens = list(scheme.find_used_ensembles()) + list(scheme.find_hidden_ensembles())\n",
    "print\n",
    "for no, (m, level, subs) in enumerate(get_sub_used(mover, set([rs2]), 0)):\n",
    "    print '{:>3}'.format(no), '   ' * level, '{:<40}   '.format(m), ' ' * (28 - 3 * level),\n",
    "    first = True\n",
    "    for sub in subs:\n",
    "        if first:\n",
    "            first = False\n",
    "        else:\n",
    "            print ' ' * 68, '', '',\n",
    "        f = dict(sub)\n",
    "        for e in ens:\n",
    "            print f[e] if e in f else '-',\n",
    "        \n",
    "    print "
   ]
  },
  {
   "cell_type": "code",
   "execution_count": 47,
   "metadata": {
    "collapsed": false,
    "scrolled": false
   },
   "outputs": [
    {
     "name": "stdout",
     "output_type": "stream",
     "text": [
      "MINIMAL INPUT ENSEMBLES\n",
      "  0  RootMover                                                    IN[ 13]  1 1 1 1 1 1 1 1 1 1 1 1 1 - - -\n",
      "  1     Ms_outer_shootingChooser                                  IN[  1]  - - - - - - - - 1 - - - - - - -\n",
      "  2        OneWayShootingMover [UnionEnsemble]                    IN[  1]  - - - - - - - - 1 - - - - - - -\n",
      "  3           ForwardShoot                                        IN[  1]  - - - - - - - - 1 - - - - - - -\n",
      "  4           BackwardShoot                                       IN[  1]  - - - - - - - - 1 - - - - - - -\n",
      "  5     RepexChooser                                              IN[ 10]  1 1 1 1 1 1 1 - 1 - 1 1 - - - -\n",
      "  6        ReplicaExchange                                        IN[  2]  - 1 - - - - 1 - - - - - - - - -\n",
      "  7        ReplicaExchange                                        IN[  2]  - - - - 1 1 - - - - - - - - - -\n",
      "  8        ReplicaExchange                                        IN[  2]  - - - - 1 - - - - - 1 - - - - -\n",
      "  9        ReplicaExchange                                        IN[  2]  - 1 - - - - - - 1 - - - - - - -\n",
      " 10        ReplicaExchange                                        IN[  2]  - - - - - - - - 1 - 1 - - - - -\n",
      " 11        ReplicaExchange                                        IN[  2]  1 - - - - - - - 1 - - - - - - -\n",
      " 12        ReplicaExchange                                        IN[  2]  - - 1 - - - - - - - - 1 - - - -\n",
      " 13        ReplicaExchange                                        IN[  2]  - - - 1 - - 1 - - - - - - - - -\n",
      " 14        ReplicaExchange                                        IN[  2]  1 - - - - - - - - - - 1 - - - -\n",
      " 15     ShootingChooser                                           IN[  9]  1 1 1 1 1 1 1 - - - 1 1 - - - -\n",
      " 16        OneWayShootingMover I'face 1                           IN[  1]  - - - - 1 - - - - - - - - - - -\n",
      " 17           ForwardShoot                                        IN[  1]  - - - - 1 - - - - - - - - - - -\n",
      " 18           BackwardShoot                                       IN[  1]  - - - - 1 - - - - - - - - - - -\n",
      " 19        OneWayShootingMover I'face 1                           IN[  1]  - - - - - - 1 - - - - - - - - -\n",
      " 20           ForwardShoot                                        IN[  1]  - - - - - - 1 - - - - - - - - -\n",
      " 21           BackwardShoot                                       IN[  1]  - - - - - - 1 - - - - - - - - -\n",
      " 22        OneWayShootingMover I'face 1                           IN[  1]  - - - - - - - - - - - 1 - - - -\n",
      " 23           ForwardShoot                                        IN[  1]  - - - - - - - - - - - 1 - - - -\n",
      " 24           BackwardShoot                                       IN[  1]  - - - - - - - - - - - 1 - - - -\n",
      " 25        OneWayShootingMover I'face 2                           IN[  1]  1 - - - - - - - - - - - - - - -\n",
      " 26           ForwardShoot                                        IN[  1]  1 - - - - - - - - - - - - - - -\n",
      " 27           BackwardShoot                                       IN[  1]  1 - - - - - - - - - - - - - - -\n",
      " 28        OneWayShootingMover I'face 2                           IN[  1]  - 1 - - - - - - - - - - - - - -\n",
      " 29           ForwardShoot                                        IN[  1]  - 1 - - - - - - - - - - - - - -\n",
      " 30           BackwardShoot                                       IN[  1]  - 1 - - - - - - - - - - - - - -\n",
      " 31        OneWayShootingMover I'face 2                           IN[  1]  - - - - - - - - - - 1 - - - - -\n",
      " 32           ForwardShoot                                        IN[  1]  - - - - - - - - - - 1 - - - - -\n",
      " 33           BackwardShoot                                       IN[  1]  - - - - - - - - - - 1 - - - - -\n",
      " 34        OneWayShootingMover I'face 0                           IN[  1]  - - 1 - - - - - - - - - - - - -\n",
      " 35           ForwardShoot                                        IN[  1]  - - 1 - - - - - - - - - - - - -\n",
      " 36           BackwardShoot                                       IN[  1]  - - 1 - - - - - - - - - - - - -\n",
      " 37        OneWayShootingMover I'face 0                           IN[  1]  - - - - - 1 - - - - - - - - - -\n",
      " 38           ForwardShoot                                        IN[  1]  - - - - - 1 - - - - - - - - - -\n",
      " 39           BackwardShoot                                       IN[  1]  - - - - - 1 - - - - - - - - - -\n",
      " 40        OneWayShootingMover I'face 0                           IN[  1]  - - - 1 - - - - - - - - - - - -\n",
      " 41           ForwardShoot                                        IN[  1]  - - - 1 - - - - - - - - - - - -\n",
      " 42           BackwardShoot                                       IN[  1]  - - - 1 - - - - - - - - - - - -\n",
      " 43     MinusChooser                                              IN[  6]  - - 1 1 - 1 - 1 - 1 - - 1 - - -\n",
      " 44        Minus                                                  IN[  2]  - - - - - 1 - - - - - - 1 - - -\n",
      " 45           EnsembleFilter                                      IN[  2]  - - - - - 1 - - - - - - 1 - - -\n",
      " 46              ConditionalSequential                            IN[  2]  - - - - - 1 - - - - - - 1 - - -\n",
      " 47                 MinusSubtrajectoryChooser                     IN[  1]  - - - - - - - - - - - - 1 - - -\n",
      " 48                    FirstSubtrajectorySelect                   IN[  1]  - - - - - - - - - - - - 1 - - -\n",
      " 49                    FinalSubtrajectorySelect                   IN[  1]  - - - - - - - - - - - - 1 - - -\n",
      " 50                 InterfaceSetChooser                           IN[  2]  - - - - - 1 - - - - - - - 1 - -\n",
      " 51                    ReplicaExchange                            IN[  2]  - - - - - 1 - - - - - - - 1 - -\n",
      " 52                 MinusExtensionDirectionChooser                IN[  1]  - - - - - - - - - - - - - 1 - -\n",
      " 53                    ForwardExtend                              IN[  1]  - - - - - - - - - - - - - 1 - -\n",
      " 54                    BackwardExtend                             IN[  1]  - - - - - - - - - - - - - 1 - -\n",
      " 55        Minus                                                  IN[  2]  - - - 1 - - - 1 - - - - - - - -\n",
      " 56           EnsembleFilter                                      IN[  2]  - - - 1 - - - 1 - - - - - - - -\n",
      " 57              ConditionalSequential                            IN[  2]  - - - 1 - - - 1 - - - - - - - -\n",
      " 58                 MinusSubtrajectoryChooser                     IN[  1]  - - - - - - - 1 - - - - - - - -\n",
      " 59                    FirstSubtrajectorySelect                   IN[  1]  - - - - - - - 1 - - - - - - - -\n",
      " 60                    FinalSubtrajectorySelect                   IN[  1]  - - - - - - - 1 - - - - - - - -\n",
      " 61                 InterfaceSetChooser                           IN[  2]  - - - 1 - - - - - - - - - - 1 -\n",
      " 62                    ReplicaExchange                            IN[  2]  - - - 1 - - - - - - - - - - 1 -\n",
      " 63                 MinusExtensionDirectionChooser                IN[  1]  - - - - - - - - - - - - - - 1 -\n",
      " 64                    ForwardExtend                              IN[  1]  - - - - - - - - - - - - - - 1 -\n",
      " 65                    BackwardExtend                             IN[  1]  - - - - - - - - - - - - - - 1 -\n",
      " 66        Minus                                                  IN[  2]  - - 1 - - - - - - 1 - - - - - -\n",
      " 67           EnsembleFilter                                      IN[  2]  - - 1 - - - - - - 1 - - - - - -\n",
      " 68              ConditionalSequential                            IN[  2]  - - 1 - - - - - - 1 - - - - - -\n",
      " 69                 MinusSubtrajectoryChooser                     IN[  1]  - - - - - - - - - 1 - - - - - -\n",
      " 70                    FirstSubtrajectorySelect                   IN[  1]  - - - - - - - - - 1 - - - - - -\n",
      " 71                    FinalSubtrajectorySelect                   IN[  1]  - - - - - - - - - 1 - - - - - -\n",
      " 72                 InterfaceSetChooser                           IN[  2]  - - 1 - - - - - - - - - - - - 1\n",
      " 73                    ReplicaExchange                            IN[  2]  - - 1 - - - - - - - - - - - - 1\n",
      " 74                 MinusExtensionDirectionChooser                IN[  1]  - - - - - - - - - - - - - - - 1\n",
      " 75                    ForwardExtend                              IN[  1]  - - - - - - - - - - - - - - - 1\n",
      " 76                    BackwardExtend                             IN[  1]  - - - - - - - - - - - - - - - 1\n",
      " 77     PathreversalChooser                                       IN[ 10]  1 1 1 1 1 1 1 - 1 - 1 1 - - - -\n",
      " 78        PathReversal                                           IN[  1]  - - - - - - - - - - - 1 - - - -\n",
      " 79        PathReversal                                           IN[  1]  1 - - - - - - - - - - - - - - -\n",
      " 80        PathReversal                                           IN[  1]  - - - 1 - - - - - - - - - - - -\n",
      " 81        PathReversal                                           IN[  1]  - - - - - - 1 - - - - - - - - -\n",
      " 82        PathReversal                                           IN[  1]  - - - - - - - - - - 1 - - - - -\n",
      " 83        PathReversal                                           IN[  1]  - 1 - - - - - - - - - - - - - -\n",
      " 84        PathReversal                                           IN[  1]  - - - - - 1 - - - - - - - - - -\n",
      " 85        PathReversal                                           IN[  1]  - - - - 1 - - - - - - - - - - -\n",
      " 86        PathReversal                                           IN[  1]  - - 1 - - - - - - - - - - - - -\n",
      " 87        PathReversal                                           IN[  1]  - - - - - - - - 1 - - - - - - -\n"
     ]
    }
   ],
   "source": [
    "ens = ens = list(scheme.find_used_ensembles()) + list(scheme.find_hidden_ensembles())\n",
    "print 'MINIMAL INPUT ENSEMBLES'\n",
    "\n",
    "for no, (m, level, subs) in enumerate(get_sub_used(mover, set([rs2]), 0)):\n",
    "    print '{:>3}'.format(no), '   ' * level, '{:<35}   '.format(m), ' ' * (21 - 3 * level),\n",
    "    first = True\n",
    "    inout = m.in_out_matrix\n",
    "    print 'IN[{:>3}] '.format(len(inout.minimal)),\n",
    "    \n",
    "#     print map(type, inout)\n",
    "        \n",
    "    ins = [inout.minimal]\n",
    "#     print len(ins)\n",
    "    for sub in ins:\n",
    "        if first:\n",
    "            first = False\n",
    "        else:\n",
    "            print ' ' * (35 + 21 + 16), '', '',\n",
    "            \n",
    "#         print sub\n",
    "        f = dict(sub)\n",
    "        for e in ens:\n",
    "            print f[e] if e in f else '-',\n",
    "        \n",
    "        print "
   ]
  },
  {
   "cell_type": "code",
   "execution_count": 21,
   "metadata": {
    "collapsed": false,
    "scrolled": false
   },
   "outputs": [
    {
     "name": "stdout",
     "output_type": "stream",
     "text": [
      "MAXIMAL USED INPUT ENSEMBLES\n",
      "  0  PathSimulator                                                IN[ 13]  1 1 1 1 1 1 1 1 1 1 1 1 1 - - -\n",
      "  1     RootMover                                                 IN[ 13]  1 1 1 1 1 1 1 1 1 1 1 1 1 - - -\n",
      "  2        Ms_outer_shootingChooser                               IN[  1]  1 - - - - - - - - - - - - - - -\n",
      "  3           OneWayShootingMover [UnionEnsemble]                 IN[  1]  1 - - - - - - - - - - - - - - -\n",
      "  4              ForwardShoot                                     IN[  1]  1 - - - - - - - - - - - - - - -\n",
      "  5              BackwardShoot                                    IN[  1]  1 - - - - - - - - - - - - - - -\n",
      "  6        RepexChooser                                           IN[ 10]  1 1 1 1 1 1 1 1 1 - - - 1 - - -\n",
      "  7           ReplicaExchange                                     IN[  2]  - 1 - 1 - - - - - - - - - - - -\n",
      "  8           ReplicaExchange                                     IN[  2]  - - - - - - 1 - - - - - 1 - - -\n",
      "  9           ReplicaExchange                                     IN[  2]  - - - - - 1 1 - - - - - - - - -\n",
      " 10           ReplicaExchange                                     IN[  2]  1 - - 1 - - - - - - - - - - - -\n",
      " 11           ReplicaExchange                                     IN[  2]  1 - - - - 1 - - - - - - - - - -\n",
      " 12           ReplicaExchange                                     IN[  2]  1 - - - 1 - - - - - - - - - - -\n",
      " 13           ReplicaExchange                                     IN[  2]  - - 1 - - - - 1 - - - - - - - -\n",
      " 14           ReplicaExchange                                     IN[  2]  - 1 - - - - - - 1 - - - - - - -\n",
      " 15           ReplicaExchange                                     IN[  2]  - - - - 1 - - 1 - - - - - - - -\n",
      " 16        ShootingChooser                                        IN[  9]  - 1 1 1 1 1 1 1 1 - - - 1 - - -\n",
      " 17           OneWayShootingMover I'face 1                        IN[  1]  - - - - - - 1 - - - - - - - - -\n",
      " 18              ForwardShoot                                     IN[  1]  - - - - - - 1 - - - - - - - - -\n",
      " 19              BackwardShoot                                    IN[  1]  - - - - - - 1 - - - - - - - - -\n",
      " 20           OneWayShootingMover I'face 1                        IN[  1]  - 1 - - - - - - - - - - - - - -\n",
      " 21              ForwardShoot                                     IN[  1]  - 1 - - - - - - - - - - - - - -\n",
      " 22              BackwardShoot                                    IN[  1]  - 1 - - - - - - - - - - - - - -\n",
      " 23           OneWayShootingMover I'face 1                        IN[  1]  - - - - - - - 1 - - - - - - - -\n",
      " 24              ForwardShoot                                     IN[  1]  - - - - - - - 1 - - - - - - - -\n",
      " 25              BackwardShoot                                    IN[  1]  - - - - - - - 1 - - - - - - - -\n",
      " 26           OneWayShootingMover I'face 2                        IN[  1]  - - - - 1 - - - - - - - - - - -\n",
      " 27              ForwardShoot                                     IN[  1]  - - - - 1 - - - - - - - - - - -\n",
      " 28              BackwardShoot                                    IN[  1]  - - - - 1 - - - - - - - - - - -\n",
      " 29           OneWayShootingMover I'face 2                        IN[  1]  - - - 1 - - - - - - - - - - - -\n",
      " 30              ForwardShoot                                     IN[  1]  - - - 1 - - - - - - - - - - - -\n",
      " 31              BackwardShoot                                    IN[  1]  - - - 1 - - - - - - - - - - - -\n",
      " 32           OneWayShootingMover I'face 2                        IN[  1]  - - - - - 1 - - - - - - - - - -\n",
      " 33              ForwardShoot                                     IN[  1]  - - - - - 1 - - - - - - - - - -\n",
      " 34              BackwardShoot                                    IN[  1]  - - - - - 1 - - - - - - - - - -\n",
      " 35           OneWayShootingMover I'face 0                        IN[  1]  - - 1 - - - - - - - - - - - - -\n",
      " 36              ForwardShoot                                     IN[  1]  - - 1 - - - - - - - - - - - - -\n",
      " 37              BackwardShoot                                    IN[  1]  - - 1 - - - - - - - - - - - - -\n",
      " 38           OneWayShootingMover I'face 0                        IN[  1]  - - - - - - - - - - - - 1 - - -\n",
      " 39              ForwardShoot                                     IN[  1]  - - - - - - - - - - - - 1 - - -\n",
      " 40              BackwardShoot                                    IN[  1]  - - - - - - - - - - - - 1 - - -\n",
      " 41           OneWayShootingMover I'face 0                        IN[  1]  - - - - - - - - 1 - - - - - - -\n",
      " 42              ForwardShoot                                     IN[  1]  - - - - - - - - 1 - - - - - - -\n",
      " 43              BackwardShoot                                    IN[  1]  - - - - - - - - 1 - - - - - - -\n",
      " 44        MinusChooser                                           IN[  6]  - - 1 - - - - - 1 1 1 1 1 - - -\n",
      " 45           Minus                                               IN[  2]  - - - - - - - - - 1 - - 1 - - -\n",
      " 46              EnsembleFilter                                   IN[  2]  - - - - - - - - - 1 - - 1 - - -\n",
      " 47                 ConditionalSequential                         IN[  3]  - - - - - - - - - 1 - - 1 - 2 -\n",
      " 48                    MinusSubtrajectoryChooser                  IN[  1]  - - - - - - - - - 1 - - - - - -\n",
      " 49                       FirstSubtrajectorySelect                IN[  1]  - - - - - - - - - 1 - - - - - -\n",
      " 50                       FinalSubtrajectorySelect                IN[  1]  - - - - - - - - - 1 - - - - - -\n",
      " 51                    InterfaceSetChooser                        IN[  2]  - - - - - - - - - - - - 1 - 1 -\n",
      " 52                       ReplicaExchange                         IN[  2]  - - - - - - - - - - - - 1 - 1 -\n",
      " 53                    MinusExtensionDirectionChooser             IN[  1]  - - - - - - - - - - - - - - 1 -\n",
      " 54                       ForwardExtend                           IN[  1]  - - - - - - - - - - - - - - 1 -\n",
      " 55                       BackwardExtend                          IN[  1]  - - - - - - - - - - - - - - 1 -\n",
      " 56           Minus                                               IN[  2]  - - - - - - - - 1 - 1 - - - - -\n",
      " 57              EnsembleFilter                                   IN[  2]  - - - - - - - - 1 - 1 - - - - -\n",
      " 58                 ConditionalSequential                         IN[  3]  - - - - - - - - 1 - 1 - - - - 2\n",
      " 59                    MinusSubtrajectoryChooser                  IN[  1]  - - - - - - - - - - 1 - - - - -\n",
      " 60                       FirstSubtrajectorySelect                IN[  1]  - - - - - - - - - - 1 - - - - -\n",
      " 61                       FinalSubtrajectorySelect                IN[  1]  - - - - - - - - - - 1 - - - - -\n",
      " 62                    InterfaceSetChooser                        IN[  2]  - - - - - - - - 1 - - - - - - 1\n",
      " 63                       ReplicaExchange                         IN[  2]  - - - - - - - - 1 - - - - - - 1\n",
      " 64                    MinusExtensionDirectionChooser             IN[  1]  - - - - - - - - - - - - - - - 1\n",
      " 65                       ForwardExtend                           IN[  1]  - - - - - - - - - - - - - - - 1\n",
      " 66                       BackwardExtend                          IN[  1]  - - - - - - - - - - - - - - - 1\n",
      " 67           Minus                                               IN[  2]  - - 1 - - - - - - - - 1 - - - -\n",
      " 68              EnsembleFilter                                   IN[  2]  - - 1 - - - - - - - - 1 - - - -\n",
      " 69                 ConditionalSequential                         IN[  3]  - - 1 - - - - - - - - 1 - 2 - -\n",
      " 70                    MinusSubtrajectoryChooser                  IN[  1]  - - - - - - - - - - - 1 - - - -\n",
      " 71                       FirstSubtrajectorySelect                IN[  1]  - - - - - - - - - - - 1 - - - -\n",
      " 72                       FinalSubtrajectorySelect                IN[  1]  - - - - - - - - - - - 1 - - - -\n",
      " 73                    InterfaceSetChooser                        IN[  2]  - - 1 - - - - - - - - - - 1 - -\n",
      " 74                       ReplicaExchange                         IN[  2]  - - 1 - - - - - - - - - - 1 - -\n",
      " 75                    MinusExtensionDirectionChooser             IN[  1]  - - - - - - - - - - - - - 1 - -\n",
      " 76                       ForwardExtend                           IN[  1]  - - - - - - - - - - - - - 1 - -\n",
      " 77                       BackwardExtend                          IN[  1]  - - - - - - - - - - - - - 1 - -\n",
      " 78        PathreversalChooser                                    IN[ 10]  1 1 1 1 1 1 1 1 1 - - - 1 - - -\n",
      " 79           PathReversal                                        IN[  1]  - - - - - - - 1 - - - - - - - -\n",
      " 80           PathReversal                                        IN[  1]  - - - - 1 - - - - - - - - - - -\n",
      " 81           PathReversal                                        IN[  1]  - - - - - - - - 1 - - - - - - -\n",
      " 82           PathReversal                                        IN[  1]  - 1 - - - - - - - - - - - - - -\n",
      " 83           PathReversal                                        IN[  1]  - - - - - 1 - - - - - - - - - -\n",
      " 84           PathReversal                                        IN[  1]  - - - 1 - - - - - - - - - - - -\n",
      " 85           PathReversal                                        IN[  1]  - - - - - - - - - - - - 1 - - -\n",
      " 86           PathReversal                                        IN[  1]  - - - - - - 1 - - - - - - - - -\n",
      " 87           PathReversal                                        IN[  1]  - - 1 - - - - - - - - - - - - -\n",
      " 88           PathReversal                                        IN[  1]  1 - - - - - - - - - - - - - - -\n"
     ]
    }
   ],
   "source": [
    "ens = ens = list(scheme.find_used_ensembles()) + list(scheme.find_hidden_ensembles())\n",
    "print 'MAXIMAL USED INPUT ENSEMBLES'\n",
    "\n",
    "for no, (m, level, subs) in enumerate(get_sub_used(mover, set([rs2]), 0)):\n",
    "    print '{:>3}'.format(no), '   ' * level, '{:<35}   '.format(m), ' ' * (21 - 3 * level),\n",
    "    first = True\n",
    "    inout = m.in_out_matrix\n",
    "    print 'IN[{:>3}] '.format(len(inout.ins)),\n",
    "    \n",
    "#     print map(type, inout)\n",
    "        \n",
    "    ins = [inout.ins]\n",
    "#     print len(ins)\n",
    "    for sub in ins:\n",
    "        if first:\n",
    "            first = False\n",
    "        else:\n",
    "            print ' ' * (35 + 21 + 16), '', '',\n",
    "            \n",
    "#         print sub\n",
    "        f = dict(sub)\n",
    "        for e in ens:\n",
    "            print f[e] if e in f else '-',\n",
    "        \n",
    "        print "
   ]
  },
  {
   "cell_type": "code",
   "execution_count": 22,
   "metadata": {
    "collapsed": false,
    "scrolled": false
   },
   "outputs": [
    {
     "name": "stdout",
     "output_type": "stream",
     "text": [
      "POSSIBLE INPUT ENSEMBLES\n",
      "  0  PathSimulator                                                IN[ 13]  - 1 - - - - - - - - - - - - - -\n",
      "                                                                           - - 1 - - - - 1 - - - - - - - -\n",
      "                                                                           - - - - - - - - 1 - - - - - - -\n",
      "                                                                           1 - - - 1 - - - - - - - - - - -\n",
      "                                                                           - - - - 1 - - - - - - - - - - -\n",
      "                                                                           - - - - - - 1 - - - - - - - - -\n",
      "                                                                           - - - - - - - - 1 - 1 - - - - -\n",
      "                                                                           - - - - - 1 1 - - - - - - - - -\n",
      "                                                                           - - 1 - - - - - - - - 1 - - - -\n",
      "                                                                           - 1 - 1 - - - - - - - - - - - -\n",
      "                                                                           - - - - - - 1 - - - - - 1 - - -\n",
      "                                                                           - - - - - - - - - 1 - - 1 - - -\n",
      "                                                                           - - 1 - - - - - - - - - - - - -\n",
      "                                                                           - 1 - - - - - - 1 - - - - - - -\n",
      "                                                                           - - - - - - - 1 - - - - - - - -\n",
      "                                                                           1 - - 1 - - - - - - - - - - - -\n",
      "                                                                           - - - - - 1 - - - - - - - - - -\n",
      "                                                                           1 - - - - 1 - - - - - - - - - -\n",
      "                                                                           - - - 1 - - - - - - - - - - - -\n",
      "                                                                           1 - - - - - - - - - - - - - - -\n",
      "                                                                           - - - - 1 - - 1 - - - - - - - -\n",
      "                                                                           - - - - - - - - - - - - 1 - - -\n",
      "  1     RootMover                                                 IN[ 13]  - 1 - - - - - - - - - - - - - -\n",
      "                                                                           - - 1 - - - - 1 - - - - - - - -\n",
      "                                                                           - - - - - - - - 1 - - - - - - -\n",
      "                                                                           1 - - - 1 - - - - - - - - - - -\n",
      "                                                                           - - - - 1 - - - - - - - - - - -\n",
      "                                                                           - - - - - - 1 - - - - - - - - -\n",
      "                                                                           - - - - - - - - 1 - 1 - - - - -\n",
      "                                                                           - - - - - 1 1 - - - - - - - - -\n",
      "                                                                           - - 1 - - - - - - - - 1 - - - -\n",
      "                                                                           - 1 - 1 - - - - - - - - - - - -\n",
      "                                                                           - - - - - - 1 - - - - - 1 - - -\n",
      "                                                                           - - - - - - - - - 1 - - 1 - - -\n",
      "                                                                           - - 1 - - - - - - - - - - - - -\n",
      "                                                                           - 1 - - - - - - 1 - - - - - - -\n",
      "                                                                           - - - - - - - 1 - - - - - - - -\n",
      "                                                                           1 - - 1 - - - - - - - - - - - -\n",
      "                                                                           - - - - - 1 - - - - - - - - - -\n",
      "                                                                           1 - - - - 1 - - - - - - - - - -\n",
      "                                                                           - - - 1 - - - - - - - - - - - -\n",
      "                                                                           1 - - - - - - - - - - - - - - -\n",
      "                                                                           - - - - 1 - - 1 - - - - - - - -\n",
      "                                                                           - - - - - - - - - - - - 1 - - -\n",
      "  2        Ms_outer_shootingChooser                               IN[  1]  1 - - - - - - - - - - - - - - -\n",
      "  3           OneWayShootingMover [UnionEnsemble]                 IN[  1]  1 - - - - - - - - - - - - - - -\n",
      "  4              ForwardShoot                                     IN[  1]  1 - - - - - - - - - - - - - - -\n",
      "  5              BackwardShoot                                    IN[  1]  1 - - - - - - - - - - - - - - -\n",
      "  6        RepexChooser                                           IN[ 10]  1 - - 1 - - - - - - - - - - - -\n",
      "                                                                           - 1 - - - - - - 1 - - - - - - -\n",
      "                                                                           - - - - - 1 1 - - - - - - - - -\n",
      "                                                                           1 - - - - 1 - - - - - - - - - -\n",
      "                                                                           - - 1 - - - - 1 - - - - - - - -\n",
      "                                                                           - - - - - - 1 - - - - - 1 - - -\n",
      "                                                                           - 1 - 1 - - - - - - - - - - - -\n",
      "                                                                           1 - - - 1 - - - - - - - - - - -\n",
      "                                                                           - - - - 1 - - 1 - - - - - - - -\n",
      "  7           ReplicaExchange                                     IN[  2]  - 1 - 1 - - - - - - - - - - - -\n",
      "  8           ReplicaExchange                                     IN[  2]  - - - - - - 1 - - - - - 1 - - -\n",
      "  9           ReplicaExchange                                     IN[  2]  - - - - - 1 1 - - - - - - - - -\n",
      " 10           ReplicaExchange                                     IN[  2]  1 - - 1 - - - - - - - - - - - -\n",
      " 11           ReplicaExchange                                     IN[  2]  1 - - - - 1 - - - - - - - - - -\n",
      " 12           ReplicaExchange                                     IN[  2]  1 - - - 1 - - - - - - - - - - -\n",
      " 13           ReplicaExchange                                     IN[  2]  - - 1 - - - - 1 - - - - - - - -\n",
      " 14           ReplicaExchange                                     IN[  2]  - 1 - - - - - - 1 - - - - - - -\n",
      " 15           ReplicaExchange                                     IN[  2]  - - - - 1 - - 1 - - - - - - - -\n",
      " 16        ShootingChooser                                        IN[  9]  - - - - - 1 - - - - - - - - - -\n",
      "                                                                           - 1 - - - - - - - - - - - - - -\n",
      "                                                                           - - - - - - - 1 - - - - - - - -\n",
      "                                                                           - - - - - - - - 1 - - - - - - -\n",
      "                                                                           - - - 1 - - - - - - - - - - - -\n",
      "                                                                           - - - - - - - - - - - - 1 - - -\n",
      "                                                                           - - 1 - - - - - - - - - - - - -\n",
      "                                                                           - - - - 1 - - - - - - - - - - -\n",
      "                                                                           - - - - - - 1 - - - - - - - - -\n",
      " 17           OneWayShootingMover I'face 1                        IN[  1]  - - - - - - 1 - - - - - - - - -\n",
      " 18              ForwardShoot                                     IN[  1]  - - - - - - 1 - - - - - - - - -\n",
      " 19              BackwardShoot                                    IN[  1]  - - - - - - 1 - - - - - - - - -\n",
      " 20           OneWayShootingMover I'face 1                        IN[  1]  - 1 - - - - - - - - - - - - - -\n",
      " 21              ForwardShoot                                     IN[  1]  - 1 - - - - - - - - - - - - - -\n",
      " 22              BackwardShoot                                    IN[  1]  - 1 - - - - - - - - - - - - - -\n",
      " 23           OneWayShootingMover I'face 1                        IN[  1]  - - - - - - - 1 - - - - - - - -\n",
      " 24              ForwardShoot                                     IN[  1]  - - - - - - - 1 - - - - - - - -\n",
      " 25              BackwardShoot                                    IN[  1]  - - - - - - - 1 - - - - - - - -\n",
      " 26           OneWayShootingMover I'face 2                        IN[  1]  - - - - 1 - - - - - - - - - - -\n",
      " 27              ForwardShoot                                     IN[  1]  - - - - 1 - - - - - - - - - - -\n",
      " 28              BackwardShoot                                    IN[  1]  - - - - 1 - - - - - - - - - - -\n",
      " 29           OneWayShootingMover I'face 2                        IN[  1]  - - - 1 - - - - - - - - - - - -\n",
      " 30              ForwardShoot                                     IN[  1]  - - - 1 - - - - - - - - - - - -\n",
      " 31              BackwardShoot                                    IN[  1]  - - - 1 - - - - - - - - - - - -\n",
      " 32           OneWayShootingMover I'face 2                        IN[  1]  - - - - - 1 - - - - - - - - - -\n",
      " 33              ForwardShoot                                     IN[  1]  - - - - - 1 - - - - - - - - - -\n",
      " 34              BackwardShoot                                    IN[  1]  - - - - - 1 - - - - - - - - - -\n",
      " 35           OneWayShootingMover I'face 0                        IN[  1]  - - 1 - - - - - - - - - - - - -\n",
      " 36              ForwardShoot                                     IN[  1]  - - 1 - - - - - - - - - - - - -\n",
      " 37              BackwardShoot                                    IN[  1]  - - 1 - - - - - - - - - - - - -\n",
      " 38           OneWayShootingMover I'face 0                        IN[  1]  - - - - - - - - - - - - 1 - - -\n",
      " 39              ForwardShoot                                     IN[  1]  - - - - - - - - - - - - 1 - - -\n",
      " 40              BackwardShoot                                    IN[  1]  - - - - - - - - - - - - 1 - - -\n",
      " 41           OneWayShootingMover I'face 0                        IN[  1]  - - - - - - - - 1 - - - - - - -\n",
      " 42              ForwardShoot                                     IN[  1]  - - - - - - - - 1 - - - - - - -\n",
      " 43              BackwardShoot                                    IN[  1]  - - - - - - - - 1 - - - - - - -\n",
      " 44        MinusChooser                                           IN[  6]  - - - - - - - - - 1 - - 1 - - -\n",
      "                                                                           - - 1 - - - - - - - - 1 - - - -\n",
      "                                                                           - - - - - - - - 1 - 1 - - - - -\n",
      " 45           Minus                                               IN[  2]  - - - - - - - - - 1 - - 1 - - -\n",
      " 46              EnsembleFilter                                   IN[  2]  - - - - - - - - - 1 - - 1 - - -\n",
      " 47                 ConditionalSequential                         IN[  3]  - - - - - - - - - 1 - - 1 - - -\n",
      " 48                    MinusSubtrajectoryChooser                  IN[  1]  - - - - - - - - - 1 - - - - - -\n",
      " 49                       FirstSubtrajectorySelect                IN[  1]  - - - - - - - - - 1 - - - - - -\n",
      " 50                       FinalSubtrajectorySelect                IN[  1]  - - - - - - - - - 1 - - - - - -\n",
      " 51                    InterfaceSetChooser                        IN[  2]  - - - - - - - - - - - - 1 - 1 -\n",
      " 52                       ReplicaExchange                         IN[  2]  - - - - - - - - - - - - 1 - 1 -\n",
      " 53                    MinusExtensionDirectionChooser             IN[  1]  - - - - - - - - - - - - - - 1 -\n",
      " 54                       ForwardExtend                           IN[  1]  - - - - - - - - - - - - - - 1 -\n",
      " 55                       BackwardExtend                          IN[  1]  - - - - - - - - - - - - - - 1 -\n",
      " 56           Minus                                               IN[  2]  - - - - - - - - 1 - 1 - - - - -\n",
      " 57              EnsembleFilter                                   IN[  2]  - - - - - - - - 1 - 1 - - - - -\n",
      " 58                 ConditionalSequential                         IN[  3]  - - - - - - - - 1 - 1 - - - - -\n",
      " 59                    MinusSubtrajectoryChooser                  IN[  1]  - - - - - - - - - - 1 - - - - -\n",
      " 60                       FirstSubtrajectorySelect                IN[  1]  - - - - - - - - - - 1 - - - - -\n",
      " 61                       FinalSubtrajectorySelect                IN[  1]  - - - - - - - - - - 1 - - - - -\n",
      " 62                    InterfaceSetChooser                        IN[  2]  - - - - - - - - 1 - - - - - - 1\n",
      " 63                       ReplicaExchange                         IN[  2]  - - - - - - - - 1 - - - - - - 1\n",
      " 64                    MinusExtensionDirectionChooser             IN[  1]  - - - - - - - - - - - - - - - 1\n",
      " 65                       ForwardExtend                           IN[  1]  - - - - - - - - - - - - - - - 1\n",
      " 66                       BackwardExtend                          IN[  1]  - - - - - - - - - - - - - - - 1\n",
      " 67           Minus                                               IN[  2]  - - 1 - - - - - - - - 1 - - - -\n",
      " 68              EnsembleFilter                                   IN[  2]  - - 1 - - - - - - - - 1 - - - -\n",
      " 69                 ConditionalSequential                         IN[  3]  - - 1 - - - - - - - - 1 - - - -\n",
      " 70                    MinusSubtrajectoryChooser                  IN[  1]  - - - - - - - - - - - 1 - - - -\n",
      " 71                       FirstSubtrajectorySelect                IN[  1]  - - - - - - - - - - - 1 - - - -\n",
      " 72                       FinalSubtrajectorySelect                IN[  1]  - - - - - - - - - - - 1 - - - -\n",
      " 73                    InterfaceSetChooser                        IN[  2]  - - 1 - - - - - - - - - - 1 - -\n",
      " 74                       ReplicaExchange                         IN[  2]  - - 1 - - - - - - - - - - 1 - -\n",
      " 75                    MinusExtensionDirectionChooser             IN[  1]  - - - - - - - - - - - - - 1 - -\n",
      " 76                       ForwardExtend                           IN[  1]  - - - - - - - - - - - - - 1 - -\n",
      " 77                       BackwardExtend                          IN[  1]  - - - - - - - - - - - - - 1 - -\n",
      " 78        PathreversalChooser                                    IN[ 10]  - - - - - - - - 1 - - - - - - -\n",
      "                                                                           - - - - - 1 - - - - - - - - - -\n",
      "                                                                           - - - - - - 1 - - - - - - - - -\n",
      "                                                                           - 1 - - - - - - - - - - - - - -\n",
      "                                                                           - - - 1 - - - - - - - - - - - -\n",
      "                                                                           - - - - - - - - - - - - 1 - - -\n",
      "                                                                           - - 1 - - - - - - - - - - - - -\n",
      "                                                                           1 - - - - - - - - - - - - - - -\n",
      "                                                                           - - - - 1 - - - - - - - - - - -\n",
      "                                                                           - - - - - - - 1 - - - - - - - -\n",
      " 79           PathReversal                                        IN[  1]  - - - - - - - 1 - - - - - - - -\n",
      " 80           PathReversal                                        IN[  1]  - - - - 1 - - - - - - - - - - -\n",
      " 81           PathReversal                                        IN[  1]  - - - - - - - - 1 - - - - - - -\n",
      " 82           PathReversal                                        IN[  1]  - 1 - - - - - - - - - - - - - -\n",
      " 83           PathReversal                                        IN[  1]  - - - - - 1 - - - - - - - - - -\n",
      " 84           PathReversal                                        IN[  1]  - - - 1 - - - - - - - - - - - -\n",
      " 85           PathReversal                                        IN[  1]  - - - - - - - - - - - - 1 - - -\n",
      " 86           PathReversal                                        IN[  1]  - - - - - - 1 - - - - - - - - -\n",
      " 87           PathReversal                                        IN[  1]  - - 1 - - - - - - - - - - - - -\n",
      " 88           PathReversal                                        IN[  1]  1 - - - - - - - - - - - - - - -\n"
     ]
    }
   ],
   "source": [
    "ens = list(scheme.find_used_ensembles()) + list(scheme.find_hidden_ensembles())\n",
    "print 'POSSIBLE INPUT ENSEMBLES'\n",
    "\n",
    "for no, (m, level, subs) in enumerate(get_sub_used(mover, set([rs2]), 0)):\n",
    "    print '{:>3}'.format(no), '   ' * level, '{:<35}   '.format(m), ' ' * (21 - 3 * level),\n",
    "    first = True\n",
    "    inout = m.in_out_matrix\n",
    "    print 'IN[{:>3}] '.format(len(inout.ins)),\n",
    "    \n",
    "#     print map(type, inout)\n",
    "        \n",
    "    ins = {p.pathmover.ReplicaState((io.ins & Counter(dict(sub))).items()) for io in inout for sub in subs}\n",
    "    \n",
    "#     print len(ins)\n",
    "    for sub in ins:\n",
    "        if first:\n",
    "            first = False\n",
    "        else:\n",
    "            print ' ' * (35 + 21 + 16), '', '',\n",
    "            \n",
    "#         print sub\n",
    "        f = dict(sub)\n",
    "        for e in ens:\n",
    "            print f[e] if e in f else '-',\n",
    "        \n",
    "        print "
   ]
  },
  {
   "cell_type": "code",
   "execution_count": 23,
   "metadata": {
    "collapsed": false
   },
   "outputs": [],
   "source": [
    "def show_in_out(mover):\n",
    "    print \n",
    "    if isinstance(mover, p.PathMover):\n",
    "        m = mover.in_out_matrix\n",
    "    else:\n",
    "        m = [mover]\n",
    "    for no, possibility in enumerate(m):\n",
    "        first = True\n",
    "        for v in possibility:\n",
    "            if first:\n",
    "                print '# %3d' % no,\n",
    "                first = False\n",
    "            else:\n",
    "                print '     ',\n",
    "                \n",
    "            print '[{:>3}x] {:>25} ({:>4}) -> {:>25} ({:>4})'.format(v[1], v[0][0].name, st.idx(v[0][0]), v[0][1].name, st.idx(v[0][1]))"
   ]
  },
  {
   "cell_type": "code",
   "execution_count": 24,
   "metadata": {
    "collapsed": false
   },
   "outputs": [
    {
     "name": "stdout",
     "output_type": "stream",
     "text": [
      "\n",
      "#   0 [  1x]                  I'face 1 (  70) ->                  I'face 2 (  80)\n",
      "      [  1x]                  I'face 2 (  80) ->                  I'face 1 (  70)\n",
      "#   1 [  1x]                  I'face 0 (  60) ->  [MinusInterfaceEnsemble] ( 122)\n",
      "      [  1x]  [MinusInterfaceEnsemble] ( 122) ->                  I'face 0 (  60)\n",
      "#   2 [  1x]                  I'face 0 (   0) ->                  I'face 0 (   0)\n",
      "#   3 [  1x]                  I'face 1 (  40) ->                  I'face 2 (  50)\n",
      "      [  1x]                  I'face 2 (  50) ->                  I'face 1 (  40)\n",
      "#   4 [  1x]                  I'face 1 (  10) ->                  I'face 1 (  10)\n",
      "#   5 [  1x]           [UnionEnsemble] (  90) ->                  I'face 2 (  50)\n",
      "      [  1x]                  I'face 2 (  50) ->           [UnionEnsemble] (  90)\n",
      "#   6 [  1x]                  I'face 2 (  50) ->                  I'face 2 (  50)\n",
      "#   7 [  1x]                  I'face 1 (  70) ->                  I'face 1 (  70)\n",
      "#   8 [  1x]           [UnionEnsemble] (  90) ->                  I'face 2 (  80)\n",
      "      [  1x]                  I'face 2 (  80) ->           [UnionEnsemble] (  90)\n",
      "#   9 [  1x]                  I'face 2 (  20) ->                  I'face 2 (  20)\n",
      "#  10 [  1x]                  I'face 0 (   0) ->                  I'face 1 (  10)\n",
      "      [  1x]                  I'face 1 (  10) ->                  I'face 0 (   0)\n",
      "#  11 [  1x]                  I'face 1 (  40) ->                  I'face 1 (  40)\n",
      "#  12 [  1x]                  I'face 2 (  80) ->                  I'face 2 (  80)\n",
      "#  13 [  1x]           [UnionEnsemble] (  90) ->           [UnionEnsemble] (  90)\n",
      "#  14 [  1x]                  I'face 0 (  30) ->  [MinusInterfaceEnsemble] ( 133)\n",
      "      [  1x]  [MinusInterfaceEnsemble] ( 133) ->                  I'face 0 (  30)\n",
      "#  15 [  1x]                  I'face 0 (  60) ->                  I'face 0 (  60)\n",
      "#  16 [  1x]                  I'face 0 (  60) ->                  I'face 1 (  70)\n",
      "      [  1x]                  I'face 1 (  70) ->                  I'face 0 (  60)\n",
      "#  17 [  1x]           [UnionEnsemble] (  90) ->                  I'face 2 (  20)\n",
      "      [  1x]                  I'face 2 (  20) ->           [UnionEnsemble] (  90)\n",
      "#  18 [  1x]                  I'face 0 (  30) ->                  I'face 0 (  30)\n",
      "#  19 [  1x]                  I'face 1 (  10) ->                  I'face 2 (  20)\n",
      "      [  1x]                  I'face 2 (  20) ->                  I'face 1 (  10)\n",
      "#  20 [  1x]                  I'face 0 (   0) ->  [MinusInterfaceEnsemble] ( 144)\n",
      "      [  1x]  [MinusInterfaceEnsemble] ( 144) ->                  I'face 0 (   0)\n",
      "#  21 [  1x]                  I'face 0 (  30) ->                  I'face 1 (  40)\n",
      "      [  1x]                  I'face 1 (  40) ->                  I'face 0 (  30)\n"
     ]
    }
   ],
   "source": [
    "show_in_out(mover)"
   ]
  },
  {
   "cell_type": "code",
   "execution_count": null,
   "metadata": {
    "collapsed": true
   },
   "outputs": [],
   "source": []
  }
 ],
 "metadata": {
  "kernelspec": {
   "display_name": "Python 2",
   "language": "python",
   "name": "python2"
  },
  "language_info": {
   "codemirror_mode": {
    "name": "ipython",
    "version": 2
   },
   "file_extension": ".py",
   "mimetype": "text/x-python",
   "name": "python",
   "nbconvert_exporter": "python",
   "pygments_lexer": "ipython2",
   "version": "2.7.11"
  }
 },
 "nbformat": 4,
 "nbformat_minor": 0
}

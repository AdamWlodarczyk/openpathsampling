{
 "cells": [
  {
   "cell_type": "markdown",
   "metadata": {},
   "source": [
    "## Some testing and analysis of the new `Snapshot` implementation"
   ]
  },
  {
   "cell_type": "code",
   "execution_count": 1,
   "metadata": {
    "collapsed": false
   },
   "outputs": [],
   "source": [
    "import numpy as np\n",
    "import mdtraj as md\n",
    "import pandas as pd\n",
    "import simtk.openmm as mm\n",
    "from simtk.openmm import app\n",
    "from simtk import unit\n",
    " \n",
    "from openpathsampling.visualize import PathTreeBuilder\n",
    "from IPython.display import SVG\n",
    "\n",
    "import openpathsampling as paths"
   ]
  },
  {
   "cell_type": "code",
   "execution_count": 2,
   "metadata": {
    "collapsed": false
   },
   "outputs": [],
   "source": [
    "from IPython.display import Markdown\n",
    "\n",
    "def code_to_md(snapshot_class):\n",
    "    md = '```py\\n'\n",
    "    for f, s in snapshot_class.__features__.debug.iteritems():\n",
    "        md += s\n",
    "        md += '\\n\\n'\n",
    "    md += '```'\n",
    "\n",
    "    return md"
   ]
  },
  {
   "cell_type": "markdown",
   "metadata": {},
   "source": [
    "### Show the generated source code"
   ]
  },
  {
   "cell_type": "code",
   "execution_count": 3,
   "metadata": {
    "collapsed": false
   },
   "outputs": [],
   "source": [
    "EmptySnap = paths.engines.snapshot.SnapshotFactory('no', [], 'Empty', use_lazy_reversed=False)"
   ]
  },
  {
   "cell_type": "code",
   "execution_count": 4,
   "metadata": {
    "collapsed": true
   },
   "outputs": [],
   "source": [
    "import openpathsampling.engines.features as features"
   ]
  },
  {
   "cell_type": "code",
   "execution_count": 5,
   "metadata": {
    "collapsed": true
   },
   "outputs": [],
   "source": [
    "@features.base.attach_features([\n",
    "    features.velocities,\n",
    "    features.coordinates,\n",
    "    features.box_vectors,\n",
    "    features.topology\n",
    "])\n",
    "class A(paths.BaseSnapshot):\n",
    "    def copy(self):\n",
    "        pass\n",
    "\n",
    "class B(paths.BaseSnapshot):\n",
    "    pass"
   ]
  },
  {
   "cell_type": "code",
   "execution_count": 6,
   "metadata": {
    "collapsed": true
   },
   "outputs": [],
   "source": [
    "a = A()\n",
    "b = a.copy()"
   ]
  },
  {
   "cell_type": "code",
   "execution_count": 7,
   "metadata": {
    "collapsed": false
   },
   "outputs": [
    {
     "data": {
      "text/markdown": [
       "```py\n",
       "def create_empty(self):\n",
       "    this = cls.__new__(cls)\n",
       "    this._reversed = None\n",
       "    return this\n",
       "\n",
       "@staticmethod\n",
       "def init_copy(self, velocities=None, coordinates=None, box_vectors=None, topology=None):\n",
       "    this._reversed = None\n",
       "    self.topology = topology\n",
       "    np.copyto(self.velocities, velocities)\n",
       "    np.copyto(self.coordinates, coordinates)\n",
       "    np.copyto(self.box_vectors, box_vectors)\n",
       "\n",
       "def create_reversed(self):\n",
       "    this = cls.__new__(cls)\n",
       "    this._reversed = self\n",
       "    this.coordinates = self.coordinates\n",
       "    this.box_vectors = self.box_vectors\n",
       "    this.topology = self.topology\n",
       "    this.velocities = - self.velocities\n",
       "    return this\n",
       "\n",
       "def copy_to(self, target):\n",
       "    target._reversed = None\n",
       "    target.topology = self.topology\n",
       "    np.copyto(target.velocities, self.velocities)\n",
       "    np.copyto(target.coordinates, self.coordinates)\n",
       "    np.copyto(target.box_vectors, self.box_vectors)\n",
       "\n",
       "def init_empty(self):\n",
       "    self._reversed = None\n",
       "\n",
       "def copy(self):\n",
       "    this = cls.__new__(cls)\n",
       "    this._reversed = None\n",
       "    this.topology = self.topology\n",
       "    this.velocities = self.velocities.copy()\n",
       "    this.coordinates = self.coordinates.copy()\n",
       "    this.box_vectors = self.box_vectors.copy()\n",
       "    return this\n",
       "\n",
       "def __init__(self, velocities=None, coordinates=None, box_vectors=None, topology=None):\n",
       "    self._reversed = None\n",
       "    self.velocities = velocities\n",
       "    self.coordinates = coordinates\n",
       "    self.box_vectors = box_vectors\n",
       "    self.topology = topology\n",
       "\n",
       "```"
      ],
      "text/plain": [
       "<IPython.core.display.Markdown object>"
      ]
     },
     "execution_count": 7,
     "metadata": {},
     "output_type": "execute_result"
    }
   ],
   "source": [
    "Markdown(code_to_md(A))"
   ]
  },
  {
   "cell_type": "code",
   "execution_count": 8,
   "metadata": {
    "collapsed": false
   },
   "outputs": [
    {
     "name": "stdout",
     "output_type": "stream",
     "text": [
      "True\n",
      "True\n"
     ]
    }
   ],
   "source": [
    "print hasattr(A, 'copy')\n",
    "print 'copy' in A.__dict__"
   ]
  },
  {
   "cell_type": "code",
   "execution_count": 9,
   "metadata": {
    "collapsed": false,
    "scrolled": false
   },
   "outputs": [
    {
     "data": {
      "text/markdown": [
       "```py\n",
       "def create_empty(self):\n",
       "    this = cls.__new__(cls)\n",
       "    this._reversed = None\n",
       "    return this\n",
       "\n",
       "@staticmethod\n",
       "def init_copy(self):\n",
       "    this._reversed = None\n",
       "\n",
       "def create_reversed(self):\n",
       "    this = cls.__new__(cls)\n",
       "    this._reversed = self\n",
       "    return this\n",
       "\n",
       "def copy_to(self, target):\n",
       "    target._reversed = None\n",
       "\n",
       "def init_empty(self):\n",
       "    self._reversed = None\n",
       "\n",
       "def copy(self):\n",
       "    this = cls.__new__(cls)\n",
       "    this._reversed = None\n",
       "    return this\n",
       "\n",
       "def __init__(self):\n",
       "    self._reversed = None\n",
       "\n",
       "```"
      ],
      "text/plain": [
       "<IPython.core.display.Markdown object>"
      ]
     },
     "execution_count": 9,
     "metadata": {},
     "output_type": "execute_result"
    }
   ],
   "source": [
    "Markdown(code_to_md(EmptySnap))"
   ]
  },
  {
   "cell_type": "code",
   "execution_count": 10,
   "metadata": {
    "collapsed": false
   },
   "outputs": [],
   "source": [
    "SuperSnap = paths.engines.snapshot.SnapshotFactory(\n",
    "    'my', [\n",
    "        paths.engines.features.coordinates,\n",
    "        paths.engines.features.box_vectors,\n",
    "        paths.engines.features.velocities\n",
    "    ], 'No desc', use_lazy_reversed=False)"
   ]
  },
  {
   "cell_type": "code",
   "execution_count": 32,
   "metadata": {
    "collapsed": false
   },
   "outputs": [
    {
     "data": {
      "text/plain": [
       "<dictproxy {'__abstractmethods__': frozenset(),\n",
       " '__doc__': 'No desc\\n\\nAttributes\\n----------\\ncoordinates : numpy.ndarray, shape=(atoms, 3), dtype=numpy.float32\\n    atomic coordinates\\n\\nvelocities : numpy.ndarray, shape=(atoms, 3), dtype=numpy.float32\\n    atomic velocities\\n',\n",
       " '__features__': __features__(classes=[<module 'openpathsampling.engines.features.coordinates' from '/Users/jan-hendrikprinz/Studium/git/openpathsampling/openpathsampling/engines/features/coordinates.pyc'>, <module 'openpathsampling.engines.features.box_vectors' from '/Users/jan-hendrikprinz/Studium/git/openpathsampling/openpathsampling/engines/features/box_vectors.pyc'>, <module 'openpathsampling.engines.features.velocities' from '/Users/jan-hendrikprinz/Studium/git/openpathsampling/openpathsampling/engines/features/velocities.pyc'>], variables=['coordinates', 'box_vectors', 'velocities'], properties=['xyz'], functions=[], required=[], lazy=[], numpy=['coordinates', 'box_vectors', 'velocities'], reversal=['coordinates', 'box_vectors'], minus=['velocities'], flip=[], exclude_copy=[], imports=[], debug={'create_empty': 'def create_empty(self):\\n    this = cls.__new__(cls)\\n    this._reversed = None\\n    return this', 'init_copy': '@staticmethod\\ndef init_copy(self, coordinates=None, box_vectors=None, velocities=None):\\n    this._reversed = None\\n    np.copyto(self.coordinates, coordinates)\\n    np.copyto(self.box_vectors, box_vectors)\\n    np.copyto(self.velocities, velocities)', 'create_reversed': 'def create_reversed(self):\\n    this = cls.__new__(cls)\\n    this._reversed = self\\n    this.coordinates = self.coordinates\\n    this.box_vectors = self.box_vectors\\n    this.velocities = - self.velocities\\n    return this', 'copy_to': 'def copy_to(self, target):\\n    target._reversed = None\\n    np.copyto(target.coordinates, self.coordinates)\\n    np.copyto(target.box_vectors, self.box_vectors)\\n    np.copyto(target.velocities, self.velocities)', 'init_empty': 'def init_empty(self):\\n    self._reversed = None', 'copy': 'def copy(self):\\n    this = cls.__new__(cls)\\n    this._reversed = None\\n    this.coordinates = self.coordinates.copy()\\n    this.box_vectors = self.box_vectors.copy()\\n    this.velocities = self.velocities.copy()\\n    return this', '__init__': 'def __init__(self, coordinates=None, box_vectors=None, velocities=None):\\n    self._reversed = None\\n    self.coordinates = coordinates\\n    self.box_vectors = box_vectors\\n    self.velocities = velocities'}),\n",
       " '__init__': <function __init__>,\n",
       " '__module__': 'abc',\n",
       " '_abc_cache': <_weakrefset.WeakSet at 0x106338550>,\n",
       " '_abc_negative_cache': <_weakrefset.WeakSet at 0x125b23c90>,\n",
       " '_abc_negative_cache_version': 37,\n",
       " '_abc_registry': <_weakrefset.WeakSet at 0x125b0de90>,\n",
       " 'copy': <function copy>,\n",
       " 'copy_to': <function copy_to>,\n",
       " 'create_empty': <function create_empty>,\n",
       " 'create_reversed': <function create_reversed>,\n",
       " 'init_copy': <staticmethod at 0x125b20948>,\n",
       " 'init_empty': <function init_empty>,\n",
       " 'xyz': <property at 0x1256e6578>}>"
      ]
     },
     "execution_count": 32,
     "metadata": {},
     "output_type": "execute_result"
    }
   ],
   "source": [
    "SuperSnap.__dict__"
   ]
  },
  {
   "cell_type": "code",
   "execution_count": 11,
   "metadata": {
    "collapsed": false
   },
   "outputs": [
    {
     "data": {
      "text/markdown": [
       "```py\n",
       "def create_empty(self):\n",
       "    this = cls.__new__(cls)\n",
       "    this._reversed = None\n",
       "    return this\n",
       "\n",
       "@staticmethod\n",
       "def init_copy(self, coordinates=None, box_vectors=None, velocities=None):\n",
       "    this._reversed = None\n",
       "    np.copyto(self.coordinates, coordinates)\n",
       "    np.copyto(self.box_vectors, box_vectors)\n",
       "    np.copyto(self.velocities, velocities)\n",
       "\n",
       "def create_reversed(self):\n",
       "    this = cls.__new__(cls)\n",
       "    this._reversed = self\n",
       "    this.coordinates = self.coordinates\n",
       "    this.box_vectors = self.box_vectors\n",
       "    this.velocities = - self.velocities\n",
       "    return this\n",
       "\n",
       "def copy_to(self, target):\n",
       "    target._reversed = None\n",
       "    np.copyto(target.coordinates, self.coordinates)\n",
       "    np.copyto(target.box_vectors, self.box_vectors)\n",
       "    np.copyto(target.velocities, self.velocities)\n",
       "\n",
       "def init_empty(self):\n",
       "    self._reversed = None\n",
       "\n",
       "def copy(self):\n",
       "    this = cls.__new__(cls)\n",
       "    this._reversed = None\n",
       "    this.coordinates = self.coordinates.copy()\n",
       "    this.box_vectors = self.box_vectors.copy()\n",
       "    this.velocities = self.velocities.copy()\n",
       "    return this\n",
       "\n",
       "def __init__(self, coordinates=None, box_vectors=None, velocities=None):\n",
       "    self._reversed = None\n",
       "    self.coordinates = coordinates\n",
       "    self.box_vectors = box_vectors\n",
       "    self.velocities = velocities\n",
       "\n",
       "```"
      ],
      "text/plain": [
       "<IPython.core.display.Markdown object>"
      ]
     },
     "execution_count": 11,
     "metadata": {},
     "output_type": "execute_result"
    }
   ],
   "source": [
    "Markdown(code_to_md(SuperSnap))"
   ]
  },
  {
   "cell_type": "code",
   "execution_count": 12,
   "metadata": {
    "collapsed": false
   },
   "outputs": [],
   "source": [
    "MegaSnap = paths.engines.snapshot.SnapshotFactory(\n",
    "    'mega', [\n",
    "        paths.engines.features.statics,\n",
    "        paths.engines.features.kinetics,\n",
    "        paths.engines.features.engine\n",
    "    ], 'Long desc', use_lazy_reversed=False)"
   ]
  },
  {
   "cell_type": "code",
   "execution_count": 13,
   "metadata": {
    "collapsed": false
   },
   "outputs": [
    {
     "data": {
      "text/markdown": [
       "```py\n",
       "def create_empty(self):\n",
       "    this = cls.__new__(cls)\n",
       "    this._lazy = {}\n",
       "    this._reversed = None\n",
       "    return this\n",
       "\n",
       "@staticmethod\n",
       "def init_copy(self, statics=None, kinetics=None, is_reversed=False, engine=None):\n",
       "    this._lazy = {\n",
       "       cls.statics : statics,\n",
       "       cls.kinetics : kinetics,\n",
       "    }\n",
       "    this._reversed = None\n",
       "    self.is_reversed = is_reversed\n",
       "    self.engine = engine\n",
       "\n",
       "def create_reversed(self):\n",
       "    this = cls.__new__(cls)\n",
       "    this._lazy = {\n",
       "       cls.statics : self._lazy[cls.statics],\n",
       "       cls.kinetics : self._lazy[cls.kinetics],\n",
       "    }\n",
       "    this._reversed = self\n",
       "    this.engine = self.engine\n",
       "    this.is_reversed = not self.is_reversed\n",
       "    return this\n",
       "\n",
       "def copy_to(self, target):\n",
       "    target._lazy = {\n",
       "       cls.statics : self._lazy[cls.statics],\n",
       "       cls.kinetics : self._lazy[cls.kinetics],\n",
       "    }\n",
       "    target._reversed = None\n",
       "    target.is_reversed = self.is_reversed\n",
       "    target.engine = self.engine\n",
       "\n",
       "def init_empty(self):\n",
       "    self._lazy = {}\n",
       "    self._reversed = None\n",
       "\n",
       "def copy(self):\n",
       "    this = cls.__new__(cls)\n",
       "    this._lazy = {\n",
       "       cls.statics : self._lazy[cls.statics],\n",
       "       cls.kinetics : self._lazy[cls.kinetics],\n",
       "    }\n",
       "    this._reversed = None\n",
       "    this.is_reversed = self.is_reversed\n",
       "    this.engine = self.engine\n",
       "    return this\n",
       "\n",
       "def __init__(self, statics=None, kinetics=None, is_reversed=False, engine=None):\n",
       "    self._lazy = {\n",
       "       cls.statics : statics,\n",
       "       cls.kinetics : kinetics,\n",
       "    }\n",
       "    self._reversed = None\n",
       "    self.is_reversed = is_reversed\n",
       "    self.engine = engine\n",
       "\n",
       "```"
      ],
      "text/plain": [
       "<IPython.core.display.Markdown object>"
      ]
     },
     "execution_count": 13,
     "metadata": {},
     "output_type": "execute_result"
    }
   ],
   "source": [
    "Markdown(code_to_md(MegaSnap))"
   ]
  },
  {
   "cell_type": "markdown",
   "metadata": {},
   "source": [
    "### Check the timing"
   ]
  },
  {
   "cell_type": "code",
   "execution_count": 14,
   "metadata": {
    "collapsed": true
   },
   "outputs": [],
   "source": [
    "arr = np.array(range(200000))\n",
    "brr = np.array(range(200000))"
   ]
  },
  {
   "cell_type": "code",
   "execution_count": 15,
   "metadata": {
    "collapsed": true
   },
   "outputs": [],
   "source": [
    "a = SuperSnap(arr, arr, arr)"
   ]
  },
  {
   "cell_type": "code",
   "execution_count": 16,
   "metadata": {
    "collapsed": false
   },
   "outputs": [
    {
     "name": "stdout",
     "output_type": "stream",
     "text": [
      "The slowest run took 7.52 times longer than the fastest. This could mean that an intermediate result is being cached.\n",
      "1000000 loops, best of 3: 665 ns per loop\n"
     ]
    }
   ],
   "source": [
    "%%timeit\n",
    "a = SuperSnap(arr, arr, arr)"
   ]
  },
  {
   "cell_type": "code",
   "execution_count": 17,
   "metadata": {
    "collapsed": false
   },
   "outputs": [
    {
     "name": "stdout",
     "output_type": "stream",
     "text": [
      "The slowest run took 10.02 times longer than the fastest. This could mean that an intermediate result is being cached.\n",
      "1000000 loops, best of 3: 595 ns per loop\n"
     ]
    }
   ],
   "source": [
    "%%timeit\n",
    "b = SuperSnap()"
   ]
  },
  {
   "cell_type": "code",
   "execution_count": 18,
   "metadata": {
    "collapsed": false
   },
   "outputs": [
    {
     "name": "stdout",
     "output_type": "stream",
     "text": [
      "The slowest run took 7.25 times longer than the fastest. This could mean that an intermediate result is being cached.\n",
      "1000000 loops, best of 3: 822 ns per loop\n"
     ]
    }
   ],
   "source": [
    "%%timeit\n",
    "b = SuperSnap(coordinates=arr, box_vectors=arr, velocities=arr)"
   ]
  },
  {
   "cell_type": "code",
   "execution_count": 19,
   "metadata": {
    "collapsed": true
   },
   "outputs": [],
   "source": [
    "x = EmptySnap()"
   ]
  },
  {
   "cell_type": "code",
   "execution_count": 20,
   "metadata": {
    "collapsed": false
   },
   "outputs": [
    {
     "name": "stdout",
     "output_type": "stream",
     "text": [
      "The slowest run took 7.95 times longer than the fastest. This could mean that an intermediate result is being cached.\n",
      "1000000 loops, best of 3: 390 ns per loop\n"
     ]
    }
   ],
   "source": [
    "%%timeit\n",
    "x = EmptySnap()"
   ]
  },
  {
   "cell_type": "code",
   "execution_count": 21,
   "metadata": {
    "collapsed": false
   },
   "outputs": [
    {
     "name": "stdout",
     "output_type": "stream",
     "text": [
      "The slowest run took 31.94 times longer than the fastest. This could mean that an intermediate result is being cached.\n",
      "1000000 loops, best of 3: 284 ns per loop\n"
     ]
    }
   ],
   "source": [
    "%%timeit\n",
    "x.reversed"
   ]
  },
  {
   "cell_type": "code",
   "execution_count": 22,
   "metadata": {
    "collapsed": false
   },
   "outputs": [
    {
     "name": "stdout",
     "output_type": "stream",
     "text": [
      "The slowest run took 978.08 times longer than the fastest. This could mean that an intermediate result is being cached.\n",
      "1000000 loops, best of 3: 295 ns per loop\n"
     ]
    }
   ],
   "source": [
    "%%timeit\n",
    "a.reversed"
   ]
  },
  {
   "cell_type": "code",
   "execution_count": 23,
   "metadata": {
    "collapsed": true
   },
   "outputs": [],
   "source": [
    "assert(x.reversed.reversed is x)\n",
    "assert(a.reversed.reversed is a)"
   ]
  },
  {
   "cell_type": "code",
   "execution_count": 24,
   "metadata": {
    "collapsed": false
   },
   "outputs": [
    {
     "name": "stdout",
     "output_type": "stream",
     "text": [
      "The slowest run took 17.92 times longer than the fastest. This could mean that an intermediate result is being cached.\n",
      "1000000 loops, best of 3: 279 ns per loop\n"
     ]
    }
   ],
   "source": [
    "%%timeit\n",
    "EmptySnap.__init__(x)"
   ]
  },
  {
   "cell_type": "code",
   "execution_count": 25,
   "metadata": {
    "collapsed": true
   },
   "outputs": [],
   "source": [
    "b = SuperSnap()"
   ]
  },
  {
   "cell_type": "code",
   "execution_count": 39,
   "metadata": {
    "collapsed": false
   },
   "outputs": [
    {
     "name": "stdout",
     "output_type": "stream",
     "text": [
      "10000 loops, best of 3: 86.9 µs per loop\n"
     ]
    }
   ],
   "source": [
    "%%timeit\n",
    "brr.copy()"
   ]
  },
  {
   "cell_type": "code",
   "execution_count": 26,
   "metadata": {
    "collapsed": false
   },
   "outputs": [
    {
     "name": "stdout",
     "output_type": "stream",
     "text": [
      "The slowest run took 11.94 times longer than the fastest. This could mean that an intermediate result is being cached.\n",
      "1000000 loops, best of 3: 499 ns per loop\n"
     ]
    }
   ],
   "source": [
    "%%timeit\n",
    "SuperSnap.__init__(b, arr, arr, arr)"
   ]
  },
  {
   "cell_type": "code",
   "execution_count": 48,
   "metadata": {
    "collapsed": false
   },
   "outputs": [
    {
     "name": "stdout",
     "output_type": "stream",
     "text": [
      "1000 loops, best of 3: 307 µs per loop\n"
     ]
    }
   ],
   "source": [
    "%%timeit\n",
    "c = a.copy()"
   ]
  },
  {
   "cell_type": "code",
   "execution_count": 46,
   "metadata": {
    "collapsed": true
   },
   "outputs": [],
   "source": [
    "b = SuperSnap(brr, brr, brr)"
   ]
  },
  {
   "cell_type": "code",
   "execution_count": 47,
   "metadata": {
    "collapsed": false
   },
   "outputs": [
    {
     "name": "stdout",
     "output_type": "stream",
     "text": [
      "1000 loops, best of 3: 249 µs per loop\n"
     ]
    }
   ],
   "source": [
    "%%timeit\n",
    "a.copy_to(b)"
   ]
  },
  {
   "cell_type": "code",
   "execution_count": 49,
   "metadata": {
    "collapsed": false
   },
   "outputs": [
    {
     "data": {
      "text/markdown": [
       "```py\n",
       "def create_empty(self):\n",
       "    this = cls.__new__(cls)\n",
       "    this._reversed = None\n",
       "    return this\n",
       "\n",
       "@staticmethod\n",
       "def init_copy(self, coordinates=None, box_vectors=None, velocities=None):\n",
       "    this._reversed = None\n",
       "    np.copyto(self.coordinates, coordinates)\n",
       "    np.copyto(self.box_vectors, box_vectors)\n",
       "    np.copyto(self.velocities, velocities)\n",
       "\n",
       "def create_reversed(self):\n",
       "    this = cls.__new__(cls)\n",
       "    this._reversed = self\n",
       "    this.coordinates = self.coordinates\n",
       "    this.box_vectors = self.box_vectors\n",
       "    this.velocities = - self.velocities\n",
       "    return this\n",
       "\n",
       "def copy_to(self, target):\n",
       "    target._reversed = None\n",
       "    np.copyto(target.coordinates, self.coordinates)\n",
       "    np.copyto(target.box_vectors, self.box_vectors)\n",
       "    np.copyto(target.velocities, self.velocities)\n",
       "\n",
       "def init_empty(self):\n",
       "    self._reversed = None\n",
       "\n",
       "def copy(self):\n",
       "    this = cls.__new__(cls)\n",
       "    this._reversed = None\n",
       "    this.coordinates = self.coordinates.copy()\n",
       "    this.box_vectors = self.box_vectors.copy()\n",
       "    this.velocities = self.velocities.copy()\n",
       "    return this\n",
       "\n",
       "def __init__(self, coordinates=None, box_vectors=None, velocities=None):\n",
       "    self._reversed = None\n",
       "    self.coordinates = coordinates\n",
       "    self.box_vectors = box_vectors\n",
       "    self.velocities = velocities\n",
       "\n",
       "```"
      ],
      "text/plain": [
       "<IPython.core.display.Markdown object>"
      ]
     },
     "execution_count": 49,
     "metadata": {},
     "output_type": "execute_result"
    }
   ],
   "source": [
    "Markdown(code_to_md(a))"
   ]
  },
  {
   "cell_type": "code",
   "execution_count": 50,
   "metadata": {
    "collapsed": false
   },
   "outputs": [
    {
     "ename": "NameError",
     "evalue": "global name 'this' is not defined",
     "output_type": "error",
     "traceback": [
      "\u001b[0;31m---------------------------------------------------------------------------\u001b[0m",
      "\u001b[0;31mNameError\u001b[0m                                 Traceback (most recent call last)",
      "\u001b[0;32m<ipython-input-50-0ec9aa9161ed>\u001b[0m in \u001b[0;36m<module>\u001b[0;34m()\u001b[0m\n\u001b[0;32m----> 1\u001b[0;31m \u001b[0mget_ipython\u001b[0m\u001b[0;34m(\u001b[0m\u001b[0;34m)\u001b[0m\u001b[0;34m.\u001b[0m\u001b[0mrun_cell_magic\u001b[0m\u001b[0;34m(\u001b[0m\u001b[0;34mu'timeit'\u001b[0m\u001b[0;34m,\u001b[0m \u001b[0;34mu''\u001b[0m\u001b[0;34m,\u001b[0m \u001b[0;34mu'SuperSnap.init_copy(a, arr, arr, arr)'\u001b[0m\u001b[0;34m)\u001b[0m\u001b[0;34m\u001b[0m\u001b[0m\n\u001b[0m",
      "\u001b[0;32m/Users/jan-hendrikprinz/anaconda/lib/python2.7/site-packages/IPython/core/interactiveshell.pyc\u001b[0m in \u001b[0;36mrun_cell_magic\u001b[0;34m(self, magic_name, line, cell)\u001b[0m\n\u001b[1;32m   2118\u001b[0m             \u001b[0mmagic_arg_s\u001b[0m \u001b[0;34m=\u001b[0m \u001b[0mself\u001b[0m\u001b[0;34m.\u001b[0m\u001b[0mvar_expand\u001b[0m\u001b[0;34m(\u001b[0m\u001b[0mline\u001b[0m\u001b[0;34m,\u001b[0m \u001b[0mstack_depth\u001b[0m\u001b[0;34m)\u001b[0m\u001b[0;34m\u001b[0m\u001b[0m\n\u001b[1;32m   2119\u001b[0m             \u001b[0;32mwith\u001b[0m \u001b[0mself\u001b[0m\u001b[0;34m.\u001b[0m\u001b[0mbuiltin_trap\u001b[0m\u001b[0;34m:\u001b[0m\u001b[0;34m\u001b[0m\u001b[0m\n\u001b[0;32m-> 2120\u001b[0;31m                 \u001b[0mresult\u001b[0m \u001b[0;34m=\u001b[0m \u001b[0mfn\u001b[0m\u001b[0;34m(\u001b[0m\u001b[0mmagic_arg_s\u001b[0m\u001b[0;34m,\u001b[0m \u001b[0mcell\u001b[0m\u001b[0;34m)\u001b[0m\u001b[0;34m\u001b[0m\u001b[0m\n\u001b[0m\u001b[1;32m   2121\u001b[0m             \u001b[0;32mreturn\u001b[0m \u001b[0mresult\u001b[0m\u001b[0;34m\u001b[0m\u001b[0m\n\u001b[1;32m   2122\u001b[0m \u001b[0;34m\u001b[0m\u001b[0m\n",
      "\u001b[0;32m<decorator-gen-59>\u001b[0m in \u001b[0;36mtimeit\u001b[0;34m(self, line, cell)\u001b[0m\n",
      "\u001b[0;32m/Users/jan-hendrikprinz/anaconda/lib/python2.7/site-packages/IPython/core/magic.pyc\u001b[0m in \u001b[0;36m<lambda>\u001b[0;34m(f, *a, **k)\u001b[0m\n\u001b[1;32m    191\u001b[0m     \u001b[0;31m# but it's overkill for just that one bit of state.\u001b[0m\u001b[0;34m\u001b[0m\u001b[0;34m\u001b[0m\u001b[0m\n\u001b[1;32m    192\u001b[0m     \u001b[0;32mdef\u001b[0m \u001b[0mmagic_deco\u001b[0m\u001b[0;34m(\u001b[0m\u001b[0marg\u001b[0m\u001b[0;34m)\u001b[0m\u001b[0;34m:\u001b[0m\u001b[0;34m\u001b[0m\u001b[0m\n\u001b[0;32m--> 193\u001b[0;31m         \u001b[0mcall\u001b[0m \u001b[0;34m=\u001b[0m \u001b[0;32mlambda\u001b[0m \u001b[0mf\u001b[0m\u001b[0;34m,\u001b[0m \u001b[0;34m*\u001b[0m\u001b[0ma\u001b[0m\u001b[0;34m,\u001b[0m \u001b[0;34m**\u001b[0m\u001b[0mk\u001b[0m\u001b[0;34m:\u001b[0m \u001b[0mf\u001b[0m\u001b[0;34m(\u001b[0m\u001b[0;34m*\u001b[0m\u001b[0ma\u001b[0m\u001b[0;34m,\u001b[0m \u001b[0;34m**\u001b[0m\u001b[0mk\u001b[0m\u001b[0;34m)\u001b[0m\u001b[0;34m\u001b[0m\u001b[0m\n\u001b[0m\u001b[1;32m    194\u001b[0m \u001b[0;34m\u001b[0m\u001b[0m\n\u001b[1;32m    195\u001b[0m         \u001b[0;32mif\u001b[0m \u001b[0mcallable\u001b[0m\u001b[0;34m(\u001b[0m\u001b[0marg\u001b[0m\u001b[0;34m)\u001b[0m\u001b[0;34m:\u001b[0m\u001b[0;34m\u001b[0m\u001b[0m\n",
      "\u001b[0;32m/Users/jan-hendrikprinz/anaconda/lib/python2.7/site-packages/IPython/core/magics/execution.pyc\u001b[0m in \u001b[0;36mtimeit\u001b[0;34m(self, line, cell)\u001b[0m\n\u001b[1;32m   1039\u001b[0m             \u001b[0mnumber\u001b[0m \u001b[0;34m=\u001b[0m \u001b[0;36m1\u001b[0m\u001b[0;34m\u001b[0m\u001b[0m\n\u001b[1;32m   1040\u001b[0m             \u001b[0;32mfor\u001b[0m \u001b[0m_\u001b[0m \u001b[0;32min\u001b[0m \u001b[0mrange\u001b[0m\u001b[0;34m(\u001b[0m\u001b[0;36m1\u001b[0m\u001b[0;34m,\u001b[0m \u001b[0;36m10\u001b[0m\u001b[0;34m)\u001b[0m\u001b[0;34m:\u001b[0m\u001b[0;34m\u001b[0m\u001b[0m\n\u001b[0;32m-> 1041\u001b[0;31m                 \u001b[0mtime_number\u001b[0m \u001b[0;34m=\u001b[0m \u001b[0mtimer\u001b[0m\u001b[0;34m.\u001b[0m\u001b[0mtimeit\u001b[0m\u001b[0;34m(\u001b[0m\u001b[0mnumber\u001b[0m\u001b[0;34m)\u001b[0m\u001b[0;34m\u001b[0m\u001b[0m\n\u001b[0m\u001b[1;32m   1042\u001b[0m                 \u001b[0mworst_tuning\u001b[0m \u001b[0;34m=\u001b[0m \u001b[0mmax\u001b[0m\u001b[0;34m(\u001b[0m\u001b[0mworst_tuning\u001b[0m\u001b[0;34m,\u001b[0m \u001b[0mtime_number\u001b[0m \u001b[0;34m/\u001b[0m \u001b[0mnumber\u001b[0m\u001b[0;34m)\u001b[0m\u001b[0;34m\u001b[0m\u001b[0m\n\u001b[1;32m   1043\u001b[0m                 \u001b[0;32mif\u001b[0m \u001b[0mtime_number\u001b[0m \u001b[0;34m>=\u001b[0m \u001b[0;36m0.2\u001b[0m\u001b[0;34m:\u001b[0m\u001b[0;34m\u001b[0m\u001b[0m\n",
      "\u001b[0;32m/Users/jan-hendrikprinz/anaconda/lib/python2.7/site-packages/IPython/core/magics/execution.pyc\u001b[0m in \u001b[0;36mtimeit\u001b[0;34m(self, number)\u001b[0m\n\u001b[1;32m    135\u001b[0m         \u001b[0mgc\u001b[0m\u001b[0;34m.\u001b[0m\u001b[0mdisable\u001b[0m\u001b[0;34m(\u001b[0m\u001b[0;34m)\u001b[0m\u001b[0;34m\u001b[0m\u001b[0m\n\u001b[1;32m    136\u001b[0m         \u001b[0;32mtry\u001b[0m\u001b[0;34m:\u001b[0m\u001b[0;34m\u001b[0m\u001b[0m\n\u001b[0;32m--> 137\u001b[0;31m             \u001b[0mtiming\u001b[0m \u001b[0;34m=\u001b[0m \u001b[0mself\u001b[0m\u001b[0;34m.\u001b[0m\u001b[0minner\u001b[0m\u001b[0;34m(\u001b[0m\u001b[0mit\u001b[0m\u001b[0;34m,\u001b[0m \u001b[0mself\u001b[0m\u001b[0;34m.\u001b[0m\u001b[0mtimer\u001b[0m\u001b[0;34m)\u001b[0m\u001b[0;34m\u001b[0m\u001b[0m\n\u001b[0m\u001b[1;32m    138\u001b[0m         \u001b[0;32mfinally\u001b[0m\u001b[0;34m:\u001b[0m\u001b[0;34m\u001b[0m\u001b[0m\n\u001b[1;32m    139\u001b[0m             \u001b[0;32mif\u001b[0m \u001b[0mgcold\u001b[0m\u001b[0;34m:\u001b[0m\u001b[0;34m\u001b[0m\u001b[0m\n",
      "\u001b[0;32m<magic-timeit>\u001b[0m in \u001b[0;36minner\u001b[0;34m(_it, _timer)\u001b[0m\n",
      "\u001b[0;32m<string>\u001b[0m in \u001b[0;36minit_copy\u001b[0;34m(self, coordinates, box_vectors, velocities)\u001b[0m\n",
      "\u001b[0;31mNameError\u001b[0m: global name 'this' is not defined"
     ]
    }
   ],
   "source": [
    "%%timeit\n",
    "SuperSnap.init_copy(a, arr, arr, arr)"
   ]
  },
  {
   "cell_type": "code",
   "execution_count": 25,
   "metadata": {
    "collapsed": false
   },
   "outputs": [
    {
     "name": "stdout",
     "output_type": "stream",
     "text": [
      "The slowest run took 11.33 times longer than the fastest. This could mean that an intermediate result is being cached.\n",
      "1000000 loops, best of 3: 252 ns per loop\n"
     ]
    }
   ],
   "source": [
    "%%timeit\n",
    "SuperSnap.init_empty(a)"
   ]
  },
  {
   "cell_type": "code",
   "execution_count": null,
   "metadata": {
    "collapsed": true
   },
   "outputs": [],
   "source": []
  },
  {
   "cell_type": "code",
   "execution_count": null,
   "metadata": {
    "collapsed": true
   },
   "outputs": [],
   "source": []
  }
 ],
 "metadata": {
  "kernelspec": {
   "display_name": "Python 2",
   "language": "python",
   "name": "python2"
  },
  "language_info": {
   "codemirror_mode": {
    "name": "ipython",
    "version": 2
   },
   "file_extension": ".py",
   "mimetype": "text/x-python",
   "name": "python",
   "nbconvert_exporter": "python",
   "pygments_lexer": "ipython2",
   "version": "2.7.11"
  }
 },
 "nbformat": 4,
 "nbformat_minor": 0
}

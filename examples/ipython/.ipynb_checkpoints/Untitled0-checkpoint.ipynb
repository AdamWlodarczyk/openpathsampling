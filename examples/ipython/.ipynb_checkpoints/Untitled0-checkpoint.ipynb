{
 "metadata": {
  "name": "",
  "signature": "sha256:193a2afac7d05b90d7fa6f758736dd45a3629d9bb4bf2c10ceba974dcb0be013"
 },
 "nbformat": 3,
 "nbformat_minor": 0,
 "worksheets": []
}
{
 "metadata": {
  "name": "",
  "signature": "sha256:a38525680e8da4b5572184ec3604883d08a0fc152553f63869925a3b1f29903e"
 },
 "nbformat": 3,
 "nbformat_minor": 0,
 "worksheets": [
  {
   "cells": [
    {
     "cell_type": "markdown",
     "metadata": {},
     "source": [
      "# Langevin Integrator Check\n",
      "\n",
      "The `toy_dynamics` subpackage provides an integrator called `LangevinBAOABIntegrator`, which is based on [a paper by Leimkuhler and Matthews](http://dx.doi.org/10.1093/amrx/abs010). This notebook uses the `toy_dynamics` package to check that the integrator gives the correct position and velocity distribution for a harmonic oscillator.\n",
      "\n",
      "Note that this particular test does not make use of the trajectory storage tools. It is mainly to show how to use the `toy_dynamics` subpackage, and has little connection to the main package. The trajectory generated here is extremely long, so in this case we choose not to store it. For an example using `toy_dynamics` with the storage tools, see ???(to be added later)???."
     ]
    },
    {
     "cell_type": "markdown",
     "metadata": {},
     "source": [
      "### Imports"
     ]
    },
    {
     "cell_type": "code",
     "collapsed": false,
     "input": [
      "from opentis.snapshot import Snapshot\n",
      "from opentis.toy_dynamics.toy_engine import ToyEngine\n",
      "from opentis.toy_dynamics.toy_integrators import LangevinBAOABIntegrator\n",
      "from opentis.toy_dynamics.toy_pes import HarmonicOscillator\n",
      "import numpy as np"
     ],
     "language": "python",
     "metadata": {},
     "outputs": [],
     "prompt_number": 1
    },
    {
     "cell_type": "markdown",
     "metadata": {},
     "source": [
      "### Set up the simulation\n",
      "\n",
      "This the potential energy surface is $V(x,y) = \\frac{A[0]}{2}m[0] \\omega[0]^2 (x-x_0[0])^2 + \\frac{A[1]}{2}m[1] \\omega[1]^2 (y-x_0[1])^2$"
     ]
    },
    {
     "cell_type": "code",
     "collapsed": false,
     "input": [
      "my_pes = HarmonicOscillator(A=[1.0, 1.0], omega=[2.0, 1.0], x0=[0.0, 0.0])\n",
      "my_integ = LangevinBAOABIntegrator(dt=0.02, temperature=0.5, gamma=1.0)\n",
      "sim = ToyEngine(opts={'pes' : my_pes, 'integ' : my_integ, 'nsteps_per_frame' : 50}, filename=None)\n",
      "sim.mass = np.array([1.0, 2.0])"
     ],
     "language": "python",
     "metadata": {},
     "outputs": [],
     "prompt_number": 2
    },
    {
     "cell_type": "code",
     "collapsed": false,
     "input": [
      "nframes = 250000"
     ],
     "language": "python",
     "metadata": {},
     "outputs": [],
     "prompt_number": 3
    },
    {
     "cell_type": "markdown",
     "metadata": {},
     "source": [
      "Set the initial conditions for the system, and initialize the sample storage."
     ]
    },
    {
     "cell_type": "code",
     "collapsed": false,
     "input": [
      "snap = Snapshot(coordinates=np.array([[0.0, 0.0, 0.0]]), velocities=np.array([[0.1, 0.0, 0.0]]))\n",
      "sim.current_snapshot = snap"
     ],
     "language": "python",
     "metadata": {},
     "outputs": [],
     "prompt_number": 4
    },
    {
     "cell_type": "code",
     "collapsed": false,
     "input": [
      "x1 = []\n",
      "x2 = []\n",
      "v1 = []\n",
      "v2 = []"
     ],
     "language": "python",
     "metadata": {},
     "outputs": [],
     "prompt_number": 5
    },
    {
     "cell_type": "markdown",
     "metadata": {},
     "source": [
      "### Run the simulation\n",
      "\n",
      "This might take a while..."
     ]
    },
    {
     "cell_type": "code",
     "collapsed": false,
     "input": [
      "for i in range(nframes):\n",
      "    # generate the next frame (which is sim.nsteps_per_iteration timesteps)\n",
      "    snap = sim.generate_next_frame()\n",
      "    # sample the information desired to check distributions\n",
      "    pos = snap.coordinates[0]\n",
      "    vel = snap.velocities[0]\n",
      "    x1.append(pos[0])\n",
      "    x2.append(pos[1])\n",
      "    v1.append(vel[0])\n",
      "    v2.append(vel[1])"
     ],
     "language": "python",
     "metadata": {},
     "outputs": [],
     "prompt_number": 6
    },
    {
     "cell_type": "markdown",
     "metadata": {},
     "source": [
      "### Run analysis calculations"
     ]
    },
    {
     "cell_type": "markdown",
     "metadata": {},
     "source": [
      "Build the 1D histograms we'll use:"
     ]
    },
    {
     "cell_type": "code",
     "collapsed": false,
     "input": [
      "nbins = 50\n",
      "rrange = (-2.5, 2.5)\n",
      "rrangex1 = ((min(x1)), (max(x1)))\n",
      "rrangev1 = ((min(v1)), (max(v1)))\n",
      "rrangex2 = (min(x2), max(x2))\n",
      "rrangev2 = (min(v2), max(v2))\n",
      "dens = True\n",
      "(x1hist, binsx1) = np.histogram(x1, bins=nbins, range=rrange, density=dens)\n",
      "(x2hist, binsx2) = np.histogram(x2, bins=nbins, range=rrange, density=dens)\n",
      "(v1hist, binsv1) = np.histogram(v1, bins=nbins, range=rrange, density=dens)\n",
      "(v2hist, binsv2) = np.histogram(v2, bins=nbins, range=rrange, density=dens)"
     ],
     "language": "python",
     "metadata": {},
     "outputs": [],
     "prompt_number": 7
    },
    {
     "cell_type": "markdown",
     "metadata": {},
     "source": [
      "Build the 2D histograms:"
     ]
    },
    {
     "cell_type": "code",
     "collapsed": false,
     "input": [
      "(hist1, xb1, yb1) = np.histogram2d(x1, v1, [nbins/2, nbins/2], [rrangex1, rrangev1])\n",
      "(hist2, xb2, yb2) = np.histogram2d(x2, v2, [nbins/2, nbins/2], [rrangex2, rrangev2])"
     ],
     "language": "python",
     "metadata": {},
     "outputs": [],
     "prompt_number": 8
    },
    {
     "cell_type": "markdown",
     "metadata": {},
     "source": [
      "Run the analysis of the kinetic energy:"
     ]
    },
    {
     "cell_type": "code",
     "collapsed": false,
     "input": [
      "instantaneous_ke = []\n",
      "cumulative_ke_1 = []\n",
      "cumulative_ke_2 = []\n",
      "tot_ke_1 = 0.0\n",
      "tot_ke_2 = 0.0\n",
      "for v in zip(v1, v2):\n",
      "    local_ke_1 = 0.5*sim.mass[0]*v[0]*v[0]\n",
      "    local_ke_2 = 0.5*sim.mass[1]*v[1]*v[1]\n",
      "    instantaneous_ke.append(local_ke_1+local_ke_2)\n",
      "    tot_ke_1 += local_ke_1\n",
      "    tot_ke_2 += local_ke_2\n",
      "    cumulative_ke_1.append(tot_ke_1 / (len(cumulative_ke_1)+1))\n",
      "    cumulative_ke_2.append(tot_ke_2 / (len(cumulative_ke_2)+1))"
     ],
     "language": "python",
     "metadata": {},
     "outputs": [],
     "prompt_number": 9
    },
    {
     "cell_type": "markdown",
     "metadata": {},
     "source": [
      "### Plot our results"
     ]
    },
    {
     "cell_type": "markdown",
     "metadata": {},
     "source": [
      "Imports for the plots we'll use, as well as some parameter adjustment."
     ]
    },
    {
     "cell_type": "code",
     "collapsed": false,
     "input": [
      "%matplotlib inline\n",
      "import matplotlib\n",
      "import matplotlib.pyplot as plt\n",
      "import matplotlib.pylab as pylab\n",
      "from matplotlib.legend_handler import HandlerLine2D\n",
      "import numpy as np\n",
      "\n",
      "pylab.rcParams['figure.figsize'] = 12, 4\n",
      "matplotlib.rcParams.update({'font.size' : 18})"
     ],
     "language": "python",
     "metadata": {},
     "outputs": [],
     "prompt_number": 10
    },
    {
     "cell_type": "markdown",
     "metadata": {},
     "source": [
      "Now we plot the distributions of the positions and velocities. These should match the exact Gaussians they're paired with."
     ]
    },
    {
     "cell_type": "code",
     "collapsed": false,
     "input": [
      "# Boltzmann info as a in exp(-ax^2)\n",
      "boltzmann_vel1 = 0.5*sim.integ.beta*sim.mass[0]\n",
      "boltzmann_pos1 = 0.5*sim.integ.beta*sim.mass[0]*sim.pes.omega[0]**2\n",
      "plotbinsx1 = [0.5*(binsx1[i]+binsx1[i+1]) for i in range(len(binsx1)-1)]\n",
      "plotbinsx2 = [0.5*(binsx2[i]+binsx2[i+1]) for i in range(len(binsx2)-1)]\n",
      "plotbinsv1 = [0.5*(binsv1[i]+binsv1[i+1]) for i in range(len(binsv1)-1)]\n",
      "plotbinsv2 = [0.5*(binsv2[i]+binsv2[i+1]) for i in range(len(binsv2)-1)]\n",
      "lx1 = np.linspace(min(plotbinsx1), max(plotbinsx1), 5*len(plotbinsx1))\n",
      "lx2 = np.linspace(min(plotbinsx2), max(plotbinsx2), 5*len(plotbinsx2))\n",
      "lv1 = np.linspace(min(plotbinsv1), max(plotbinsv1), 5*len(plotbinsv1))\n",
      "lv2 = np.linspace(min(plotbinsv2), max(plotbinsv2), 5*len(plotbinsv2))\n",
      "f, (ax1, av1) = plt.subplots(1,2, sharey=True)\n",
      "px1 = ax1.plot(lx1, np.sqrt(boltzmann_pos1/np.pi)*np.exp(-boltzmann_pos1*lx1**2), 'k-', plotbinsx1, x1hist, 'r-')\n",
      "px1 = ax1.set_xlabel('$x$')\n",
      "pv1 = av1.plot(lv1, np.sqrt(boltzmann_vel1/np.pi)*np.exp(-boltzmann_vel1*lv1**2), 'k-', plotbinsv1, v1hist, 'r-')\n",
      "pv1 = av1.set_xlabel('$v_x$')\n"
     ],
     "language": "python",
     "metadata": {},
     "outputs": [
      {
       "metadata": {},
       "output_type": "display_data",
       "png": "[encoded data removed]",
       "text": [
        "<matplotlib.figure.Figure at 0x1087a1050>"
       ]
      }
     ],
     "prompt_number": 11
    },
    {
     "cell_type": "markdown",
     "metadata": {},
     "source": [
      "In the above, you should see that the exact answer (black line) matches up reasonably well with the calculated results (red line). You might notice that the left graph, for  position, doesn't match quite as well as the right graph, for velocities. This is as expected: the integrator should impose the correct velocity distribution, but sampling space correctly requires more time to converge.\n",
      "\n",
      "The plots above check the $x$ degree of freedom; the plots below do the same for $y$."
     ]
    },
    {
     "cell_type": "code",
     "collapsed": false,
     "input": [
      "boltzmann_vel2 = 0.5*sim.integ.beta*sim.mass[1]\n",
      "boltzmann_pos2 = 0.5*sim.integ.beta*sim.mass[1]*sim.pes.omega[1]**2\n",
      "f, (ax2, av2) = plt.subplots(1,2, sharey=True)\n",
      "px2 = ax2.plot(lx2, np.sqrt(boltzmann_pos2/np.pi)*np.exp(-boltzmann_pos2*lx2**2), 'k-', plotbinsx2, x2hist, 'r-')\n",
      "px2 = ax2.set_xlabel('$y$')\n",
      "pv2 = av2.plot(lv2, np.sqrt(boltzmann_vel2/np.pi)*np.exp(-boltzmann_vel2*lv2**2), 'k-', plotbinsv2, v2hist, 'r-')\n",
      "pv2 = av2.set_xlabel('$v_y$')"
     ],
     "language": "python",
     "metadata": {},
     "outputs": [
      {
       "metadata": {},
       "output_type": "display_data",
       "png": "[encoded data removed]",
       "text": [
        "<matplotlib.figure.Figure at 0x1087a4910>"
       ]
      }
     ],
     "prompt_number": 12
    },
    {
     "cell_type": "markdown",
     "metadata": {},
     "source": [
      "Next we plot the 2D histograms for each degree of freedom. These should be reasonably circular."
     ]
    },
    {
     "cell_type": "code",
     "collapsed": false,
     "input": [
      "f, (ah1, ah2) = plt.subplots(1,2)\n",
      "ah1.set_xlabel('$x$')\n",
      "ah1.set_ylabel('$v_x$')\n",
      "ah2.set_xlabel('$y$')\n",
      "ah2.set_ylabel('$v_y$')\n",
      "hist1plt = ah1.imshow(hist1.T, extent=[xb1[0],xb1[-1],yb1[0],yb1[-1]], interpolation='nearest')\n",
      "hist2plt = ah2.imshow(hist2.T, extent=[xb2[0],xb2[-1],yb2[0],yb2[-1]], interpolation='nearest')"
     ],
     "language": "python",
     "metadata": {},
     "outputs": [
      {
       "metadata": {},
       "output_type": "display_data",
       "png": "[encoded data removed]",
       "text": [
        "<matplotlib.figure.Figure at 0x108dd7c10>"
       ]
      }
     ],
     "prompt_number": 13
    },
    {
     "cell_type": "markdown",
     "metadata": {},
     "source": [
      "The two plots above should look reasonably similar to each other, although the axes will depend on your choice of $m$ and $\\omega$.\n",
      "\n",
      "The final plot is of the kinetic energy information:"
     ]
    },
    {
     "cell_type": "code",
     "collapsed": false,
     "input": [
      "timeseries = [sim.integ.dt*sim.nsteps_per_iteration*i for i in range(nsteps)]\n",
      "inst_KE, = plt.plot(timeseries[::nsteps/1000], instantaneous_ke[::nsteps/1000], 'ko', label='instantaneous KE',markersize=2)\n",
      "\n",
      "ke_1 = plt.plot(timeseries, cumulative_ke_1, 'r-', label='cumulative KE, x', linewidth=3)\n",
      "ke_2 = plt.plot(timeseries, cumulative_ke_2, 'b-', label='cumulative KE, y', linewidth=3)\n",
      "leg = plt.legend(prop={'size' : 12}, handler_map={inst_KE: HandlerLine2D(numpoints=1)})\n",
      "plt.xlabel('time');\n",
      "plt.ylabel('kinetic energy');"
     ],
     "language": "python",
     "metadata": {},
     "outputs": [
      {
       "ename": "NameError",
       "evalue": "name 'nsteps' is not defined",
       "output_type": "pyerr",
       "traceback": [
        "\u001b[0;31m---------------------------------------------------------------------------\u001b[0m\n\u001b[0;31mNameError\u001b[0m                                 Traceback (most recent call last)",
        "\u001b[0;32m<ipython-input-14-289430e73d00>\u001b[0m in \u001b[0;36m<module>\u001b[0;34m()\u001b[0m\n\u001b[0;32m----> 1\u001b[0;31m \u001b[0mtimeseries\u001b[0m \u001b[0;34m=\u001b[0m \u001b[0;34m[\u001b[0m\u001b[0msim\u001b[0m\u001b[0;34m.\u001b[0m\u001b[0minteg\u001b[0m\u001b[0;34m.\u001b[0m\u001b[0mdt\u001b[0m\u001b[0;34m*\u001b[0m\u001b[0msim\u001b[0m\u001b[0;34m.\u001b[0m\u001b[0mnsteps_per_iteration\u001b[0m\u001b[0;34m*\u001b[0m\u001b[0mi\u001b[0m \u001b[0;32mfor\u001b[0m \u001b[0mi\u001b[0m \u001b[0;32min\u001b[0m \u001b[0mrange\u001b[0m\u001b[0;34m(\u001b[0m\u001b[0mnsteps\u001b[0m\u001b[0;34m)\u001b[0m\u001b[0;34m]\u001b[0m\u001b[0;34m\u001b[0m\u001b[0m\n\u001b[0m\u001b[1;32m      2\u001b[0m \u001b[0minst_KE\u001b[0m\u001b[0;34m,\u001b[0m \u001b[0;34m=\u001b[0m \u001b[0mplt\u001b[0m\u001b[0;34m.\u001b[0m\u001b[0mplot\u001b[0m\u001b[0;34m(\u001b[0m\u001b[0mtimeseries\u001b[0m\u001b[0;34m[\u001b[0m\u001b[0;34m:\u001b[0m\u001b[0;34m:\u001b[0m\u001b[0mnsteps\u001b[0m\u001b[0;34m/\u001b[0m\u001b[0;36m1000\u001b[0m\u001b[0;34m]\u001b[0m\u001b[0;34m,\u001b[0m \u001b[0minstantaneous_ke\u001b[0m\u001b[0;34m[\u001b[0m\u001b[0;34m:\u001b[0m\u001b[0;34m:\u001b[0m\u001b[0mnsteps\u001b[0m\u001b[0;34m/\u001b[0m\u001b[0;36m1000\u001b[0m\u001b[0;34m]\u001b[0m\u001b[0;34m,\u001b[0m \u001b[0;34m'ko'\u001b[0m\u001b[0;34m,\u001b[0m \u001b[0mlabel\u001b[0m\u001b[0;34m=\u001b[0m\u001b[0;34m'instantaneous KE'\u001b[0m\u001b[0;34m,\u001b[0m\u001b[0mmarkersize\u001b[0m\u001b[0;34m=\u001b[0m\u001b[0;36m2\u001b[0m\u001b[0;34m)\u001b[0m\u001b[0;34m\u001b[0m\u001b[0m\n\u001b[1;32m      3\u001b[0m \u001b[0;34m\u001b[0m\u001b[0m\n\u001b[1;32m      4\u001b[0m \u001b[0mke_1\u001b[0m \u001b[0;34m=\u001b[0m \u001b[0mplt\u001b[0m\u001b[0;34m.\u001b[0m\u001b[0mplot\u001b[0m\u001b[0;34m(\u001b[0m\u001b[0mtimeseries\u001b[0m\u001b[0;34m,\u001b[0m \u001b[0mcumulative_ke_1\u001b[0m\u001b[0;34m,\u001b[0m \u001b[0;34m'r-'\u001b[0m\u001b[0;34m,\u001b[0m \u001b[0mlabel\u001b[0m\u001b[0;34m=\u001b[0m\u001b[0;34m'cumulative KE, x'\u001b[0m\u001b[0;34m,\u001b[0m \u001b[0mlinewidth\u001b[0m\u001b[0;34m=\u001b[0m\u001b[0;36m3\u001b[0m\u001b[0;34m)\u001b[0m\u001b[0;34m\u001b[0m\u001b[0m\n\u001b[1;32m      5\u001b[0m \u001b[0mke_2\u001b[0m \u001b[0;34m=\u001b[0m \u001b[0mplt\u001b[0m\u001b[0;34m.\u001b[0m\u001b[0mplot\u001b[0m\u001b[0;34m(\u001b[0m\u001b[0mtimeseries\u001b[0m\u001b[0;34m,\u001b[0m \u001b[0mcumulative_ke_2\u001b[0m\u001b[0;34m,\u001b[0m \u001b[0;34m'b-'\u001b[0m\u001b[0;34m,\u001b[0m \u001b[0mlabel\u001b[0m\u001b[0;34m=\u001b[0m\u001b[0;34m'cumulative KE, y'\u001b[0m\u001b[0;34m,\u001b[0m \u001b[0mlinewidth\u001b[0m\u001b[0;34m=\u001b[0m\u001b[0;36m3\u001b[0m\u001b[0;34m)\u001b[0m\u001b[0;34m\u001b[0m\u001b[0m\n",
        "\u001b[0;31mNameError\u001b[0m: name 'nsteps' is not defined"
       ]
      }
     ],
     "prompt_number": 14
    },
    {
     "cell_type": "markdown",
     "metadata": {},
     "source": [
      "The cumulative kinetic energy for each degree of freedom should converge to the same value, which should be half the temperature (since we have $k_\\text{B}=1$). The instantaneous values of the kinetic energy should suggest a longer tail."
     ]
    },
    {
     "cell_type": "code",
     "collapsed": false,
     "input": [],
     "language": "python",
     "metadata": {},
     "outputs": []
    }
   ],
   "metadata": {}
  }
 ]
}
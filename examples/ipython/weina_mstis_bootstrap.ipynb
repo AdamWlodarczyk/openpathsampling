{
 "cells": [
  {
   "cell_type": "markdown",
   "metadata": {},
   "source": [
    "# Alanine Multistate\n",
    "## Example Simulation"
   ]
  },
  {
   "cell_type": "markdown",
   "metadata": {},
   "source": [
    "This uses the state definition from [1]. 6 states named A,B,C,D,E and F\n",
    "\n",
    "[1] W.-N. Du, K. A. Marino, and P. G. Bolhuis, “Multiple state transition interface sampling of alanine dipeptide in explicit solvent,” J. Chem. Phys., vol. 135, no. 14, p. 145102, 2011."
   ]
  },
  {
   "cell_type": "markdown",
   "metadata": {},
   "source": [
    "Import Modules"
   ]
  },
  {
   "cell_type": "code",
   "execution_count": 1,
   "metadata": {
    "collapsed": false
   },
   "outputs": [],
   "source": [
    "import numpy as np\n",
    "import mdtraj as md\n",
    "import pandas as pd\n",
    "import time\n",
    "import sys, os\n",
    "import math\n",
    "import random\n",
    "\n",
    "import openpathsampling as paths\n",
    "import openpathsampling.storage as st\n",
    "import simtk.unit as u\n",
    "\n",
    "from simtk.openmm import app\n",
    "import simtk.openmm as mm\n",
    "from simtk import unit\n",
    "\n",
    "from openpathsampling.visualize import PathTreeBuilder\n",
    "from IPython.display import SVG"
   ]
  },
  {
   "cell_type": "code",
   "execution_count": 2,
   "metadata": {
    "collapsed": false
   },
   "outputs": [
    {
     "name": "stderr",
     "output_type": "stream",
     "text": [
      "/Users/jan-hendrikprinz/anaconda/lib/python2.7/site-packages/ipykernel/pylab/config.py:66: DeprecationWarning: metadata {'config': True} was set from the constructor.  Metadata should be set using the .tag() method, e.g., Int().tag(key1='value1', key2='value2')\n",
      "  inline backend.\"\"\"\n",
      "/Users/jan-hendrikprinz/anaconda/lib/python2.7/site-packages/ipykernel/pylab/config.py:71: DeprecationWarning: metadata {'config': True} was set from the constructor.  Metadata should be set using the .tag() method, e.g., Int().tag(key1='value1', key2='value2')\n",
      "  'retina', 'jpeg', 'svg', 'pdf'.\"\"\")\n",
      "/Users/jan-hendrikprinz/anaconda/lib/python2.7/site-packages/ipykernel/pylab/config.py:85: DeprecationWarning: metadata {'config': True} was set from the constructor.  Metadata should be set using the .tag() method, e.g., Int().tag(key1='value1', key2='value2')\n",
      "  use `figure_formats` instead)\"\"\")\n",
      "/Users/jan-hendrikprinz/anaconda/lib/python2.7/site-packages/ipykernel/pylab/config.py:95: DeprecationWarning: metadata {'config': True} was set from the constructor.  Metadata should be set using the .tag() method, e.g., Int().tag(key1='value1', key2='value2')\n",
      "  \"\"\"\n",
      "/Users/jan-hendrikprinz/anaconda/lib/python2.7/site-packages/ipykernel/pylab/config.py:114: DeprecationWarning: metadata {'config': True} was set from the constructor.  Metadata should be set using the .tag() method, e.g., Int().tag(key1='value1', key2='value2')\n",
      "  \"\"\")\n",
      "/Users/jan-hendrikprinz/anaconda/lib/python2.7/site-packages/ipykernel/pylab/config.py:44: DeprecationWarning: InlineBackend._config_changed is deprecated: use @observe and @unobserve instead.\n",
      "  def _config_changed(self, name, old, new):\n",
      "/Users/jan-hendrikprinz/anaconda/lib/python2.7/site-packages/traitlets/traitlets.py:770: DeprecationWarning: A parent of InlineBackend._config_changed has adopted the new @observe(change) API\n",
      "  clsname, change_or_name), DeprecationWarning)\n",
      "/Users/jan-hendrikprinz/anaconda/lib/python2.7/site-packages/IPython/core/formatters.py:98: DeprecationWarning: DisplayFormatter._formatters_default is deprecated: use @default decorator instead.\n",
      "  def _formatters_default(self):\n",
      "/Users/jan-hendrikprinz/anaconda/lib/python2.7/site-packages/IPython/core/formatters.py:677: DeprecationWarning: PlainTextFormatter._deferred_printers_default is deprecated: use @default decorator instead.\n",
      "  def _deferred_printers_default(self):\n",
      "/Users/jan-hendrikprinz/anaconda/lib/python2.7/site-packages/IPython/core/formatters.py:669: DeprecationWarning: PlainTextFormatter._singleton_printers_default is deprecated: use @default decorator instead.\n",
      "  def _singleton_printers_default(self):\n",
      "/Users/jan-hendrikprinz/anaconda/lib/python2.7/site-packages/IPython/core/formatters.py:672: DeprecationWarning: PlainTextFormatter._type_printers_default is deprecated: use @default decorator instead.\n",
      "  def _type_printers_default(self):\n",
      "/Users/jan-hendrikprinz/anaconda/lib/python2.7/site-packages/IPython/core/formatters.py:672: DeprecationWarning: PlainTextFormatter._type_printers_default is deprecated: use @default decorator instead.\n",
      "  def _type_printers_default(self):\n",
      "/Users/jan-hendrikprinz/anaconda/lib/python2.7/site-packages/IPython/core/formatters.py:677: DeprecationWarning: PlainTextFormatter._deferred_printers_default is deprecated: use @default decorator instead.\n",
      "  def _deferred_printers_default(self):\n"
     ]
    }
   ],
   "source": [
    "# Imports for plotting\n",
    "%matplotlib inline\n",
    "import matplotlib\n",
    "import matplotlib.pyplot as plt\n",
    "import matplotlib.pylab as pylab\n",
    "from matplotlib.legend_handler import HandlerLine2D"
   ]
  },
  {
   "cell_type": "markdown",
   "metadata": {},
   "source": [
    "Create an AlanineOpenMMSimulator for demonstration purposes"
   ]
  },
  {
   "cell_type": "markdown",
   "metadata": {},
   "source": [
    "### Set simulation options and create a simulator object"
   ]
  },
  {
   "cell_type": "markdown",
   "metadata": {},
   "source": [
    "Set the regular simulation parameters"
   ]
  },
  {
   "cell_type": "code",
   "execution_count": 3,
   "metadata": {
    "collapsed": false
   },
   "outputs": [],
   "source": [
    "template = paths.tools.snapshot_from_pdb(\"../data/Alanine_solvated.pdb\")"
   ]
  },
  {
   "cell_type": "code",
   "execution_count": 4,
   "metadata": {
    "collapsed": false
   },
   "outputs": [],
   "source": [
    "forcefield = app.ForceField('amber96.xml', 'tip3p.xml')\n",
    "\n",
    "omm_topology = paths.tools.to_openmm_topology(template)\n",
    "\n",
    "system = forcefield.createSystem(omm_topology, nonbondedMethod=app.PME, \n",
    "    nonbondedCutoff=1.0*unit.nanometers, constraints=app.HBonds, \n",
    "    rigidWater=True, ewaldErrorTolerance=0.0005)\n",
    "integrator = mm.LangevinIntegrator(300*unit.kelvin, 1.0/unit.picoseconds, \n",
    "    2.0*unit.femtoseconds)\n",
    "integrator.setConstraintTolerance(0.00001)\n",
    "\n",
    "platform = mm.Platform.getPlatformByName('OpenCL')\n",
    "properties = {'OpenCLPrecision': 'mixed'}"
   ]
  },
  {
   "cell_type": "code",
   "execution_count": 5,
   "metadata": {
    "collapsed": true
   },
   "outputs": [],
   "source": [
    "engine_options = {\n",
    "    'n_frames_max': 500,\n",
    "    'platform': 'OpenCL',\n",
    "    'nsteps_per_frame': 10,\n",
    "    'timestep': 2.0*unit.femtoseconds\n",
    "}"
   ]
  },
  {
   "cell_type": "code",
   "execution_count": 6,
   "metadata": {
    "collapsed": true
   },
   "outputs": [],
   "source": [
    "engine = paths.OpenMMEngine(\n",
    "    template, \n",
    "    system, \n",
    "    integrator, \n",
    "    properties=properties,\n",
    "    options=engine_options\n",
    ")\n",
    "engine.name = 'default'"
   ]
  },
  {
   "cell_type": "code",
   "execution_count": 7,
   "metadata": {
    "collapsed": false
   },
   "outputs": [
    {
     "name": "stdout",
     "output_type": "stream",
     "text": [
      "20.0 fs\n"
     ]
    }
   ],
   "source": [
    "print engine.snapshot_timestep"
   ]
  },
  {
   "cell_type": "markdown",
   "metadata": {},
   "source": [
    "Set a high temperature simulation for exploration."
   ]
  },
  {
   "cell_type": "code",
   "execution_count": 8,
   "metadata": {
    "collapsed": true
   },
   "outputs": [],
   "source": [
    "integrator_high = mm.LangevinIntegrator(1000*unit.kelvin, 1.0/unit.picoseconds, \n",
    "    2.0*unit.femtoseconds)\n",
    "integrator_high.setConstraintTolerance(0.00001)"
   ]
  },
  {
   "cell_type": "code",
   "execution_count": 9,
   "metadata": {
    "collapsed": true
   },
   "outputs": [],
   "source": [
    "engine_high = engine.from_new_options(integrator=integrator_high)\n",
    "engine_high.name = 'high'"
   ]
  },
  {
   "cell_type": "code",
   "execution_count": 10,
   "metadata": {
    "collapsed": false
   },
   "outputs": [],
   "source": [
    "paths.EngineMover.engine = engine"
   ]
  },
  {
   "cell_type": "code",
   "execution_count": 11,
   "metadata": {
    "collapsed": false
   },
   "outputs": [],
   "source": [
    "storage = st.Storage(\"ala.nc\", mode='w', template=template)"
   ]
  },
  {
   "cell_type": "code",
   "execution_count": 12,
   "metadata": {
    "collapsed": false
   },
   "outputs": [
    {
     "name": "stdout",
     "output_type": "stream",
     "text": [
      "(store.engines[DynamicsEngine], 11, 0)\n",
      "(store.engines[DynamicsEngine], 11, 1)\n"
     ]
    }
   ],
   "source": [
    "print storage.save(engine)\n",
    "print storage.save(engine_high)"
   ]
  },
  {
   "cell_type": "markdown",
   "metadata": {},
   "source": [
    "And save the storage in a separate variable for convenience"
   ]
  },
  {
   "cell_type": "code",
   "execution_count": 13,
   "metadata": {
    "collapsed": false
   },
   "outputs": [
    {
     "name": "stdout",
     "output_type": "stream",
     "text": [
      "OpenCL\n"
     ]
    }
   ],
   "source": [
    "platform = engine.simulation.context.getPlatform()\n",
    "print platform.getName()"
   ]
  },
  {
   "cell_type": "markdown",
   "metadata": {},
   "source": [
    "Equilibrate"
   ]
  },
  {
   "cell_type": "code",
   "execution_count": 14,
   "metadata": {
    "collapsed": false
   },
   "outputs": [],
   "source": [
    "engine.current_snapshot = engine.template\n",
    "engine.minimize()\n",
    "engine_high.current_snapshot = engine.template\n",
    "engine_high.minimize()"
   ]
  },
  {
   "cell_type": "markdown",
   "metadata": {},
   "source": [
    "Save equilibrated snapshots"
   ]
  },
  {
   "cell_type": "code",
   "execution_count": 15,
   "metadata": {
    "collapsed": true
   },
   "outputs": [],
   "source": [
    "initial_snapshot_low = engine.current_snapshot\n",
    "initial_snapshot_high = engine_high.current_snapshot"
   ]
  },
  {
   "cell_type": "code",
   "execution_count": 16,
   "metadata": {
    "collapsed": false
   },
   "outputs": [],
   "source": [
    "storage.save(engine.current_snapshot);\n",
    "storage.save(engine_high.current_snapshot);"
   ]
  },
  {
   "cell_type": "code",
   "execution_count": 17,
   "metadata": {
    "collapsed": false
   },
   "outputs": [],
   "source": [
    "storage.tag['low_template'] = engine.current_snapshot\n",
    "storage.tag['high_template'] = engine_high.current_snapshot"
   ]
  },
  {
   "cell_type": "markdown",
   "metadata": {},
   "source": [
    "### State Definitions"
   ]
  },
  {
   "cell_type": "markdown",
   "metadata": {},
   "source": [
    "We define states A-F and $\\alpha$ and $\\beta$ although we will use the 6 state definition mostly."
   ]
  },
  {
   "cell_type": "code",
   "execution_count": 18,
   "metadata": {
    "collapsed": true
   },
   "outputs": [],
   "source": [
    "states = ['A', 'B', 'C', 'D', 'E', 'F']"
   ]
  },
  {
   "cell_type": "code",
   "execution_count": 19,
   "metadata": {
    "collapsed": true
   },
   "outputs": [],
   "source": [
    "state_letter = {\n",
    "    'A' : 'A',\n",
    "    'B' : 'B',\n",
    "    'C' : 'C',\n",
    "    'D' : 'D',\n",
    "    'E' : 'E',\n",
    "    'F' : 'F',\n",
    "    'alpha' : u'α',\n",
    "    'beta' : u'β'\n",
    "}"
   ]
  },
  {
   "cell_type": "code",
   "execution_count": 20,
   "metadata": {
    "collapsed": false
   },
   "outputs": [],
   "source": [
    "state_centers = {\n",
    "    'A' : [-150, 150], \n",
    "    'B' : [-70, 135], \n",
    "    'C' : [-150, -65], \n",
    "    'D' : [-70, -50], \n",
    "    'E' : [50, -100], \n",
    "    'F' : [40, 65]\n",
    "}"
   ]
  },
  {
   "cell_type": "code",
   "execution_count": 21,
   "metadata": {
    "collapsed": true
   },
   "outputs": [],
   "source": [
    "interface_levels = {\n",
    "    'A' : [10, 20, 45, 65, 80],\n",
    "    'B' : [10, 20, 45, 65, 75],\n",
    "    'C' : [10, 20, 45, 60],\n",
    "    'D' : [10, 20, 45, 60],\n",
    "    'E' : [10, 20, 45, 65, 80],\n",
    "    'F' : [10, 20, 45, 65, 80],\n",
    "    'alpha' : [10, 20, 45, 55, 65, 75],\n",
    "    'beta' : [10, 20, 40, 45, 50, 60],    \n",
    "}"
   ]
  },
  {
   "cell_type": "code",
   "execution_count": 22,
   "metadata": {
    "collapsed": false
   },
   "outputs": [],
   "source": [
    "storage.tag['states'] = states\n",
    "storage.tag['state_centers'] = state_centers\n",
    "storage.tag['state_letter'] = state_letter\n",
    "storage.tag['interface_levels'] = interface_levels"
   ]
  },
  {
   "cell_type": "markdown",
   "metadata": {},
   "source": [
    "### Order Parameters"
   ]
  },
  {
   "cell_type": "markdown",
   "metadata": {},
   "source": [
    "this generates an order parameter (callable) object named psi (so if we call `psi(trajectory)` we get a list of the values of psi for each frame in the trajectory). This particular order parameter uses mdtraj's compute_dihedrals function, with the atoms in psi_atoms"
   ]
  },
  {
   "cell_type": "code",
   "execution_count": 23,
   "metadata": {
    "collapsed": false
   },
   "outputs": [],
   "source": [
    "psi_atoms = [6,8,14,16]\n",
    "psi = paths.CV_MDTraj_Function(\"psi\", md.compute_dihedrals,\n",
    "                  indices=[psi_atoms])\n",
    "\n",
    "phi_atoms = [4,6,8,14]\n",
    "phi = paths.CV_MDTraj_Function(\"phi\", md.compute_dihedrals,\n",
    "                  indices=[phi_atoms])\n",
    "\n",
    "storage.save([psi, phi]);"
   ]
  },
  {
   "cell_type": "markdown",
   "metadata": {},
   "source": [
    "Define a function that defines a distance in periodic $\\phi,\\psi$-space."
   ]
  },
  {
   "cell_type": "code",
   "execution_count": 24,
   "metadata": {
    "collapsed": true
   },
   "outputs": [],
   "source": [
    "def circle_degree(snapshot, center, phi, psi):\n",
    "    import math\n",
    "    degrees = 180/3.14159    \n",
    "    psi_deg = psi(snapshot) * degrees\n",
    "    phi_deg = phi(snapshot) * degrees\n",
    "    return math.sqrt(\n",
    "            ( min( phi_deg - center[0], 360 - phi_deg + center[0])**2 + \n",
    "              min( psi_deg - center[1], 360 - psi_deg + center[1])**2)\n",
    "             )"
   ]
  },
  {
   "cell_type": "markdown",
   "metadata": {},
   "source": [
    "Create CVs for all states"
   ]
  },
  {
   "cell_type": "code",
   "execution_count": 25,
   "metadata": {
    "collapsed": false
   },
   "outputs": [],
   "source": [
    "cv_state = dict()\n",
    "for state in state_centers:\n",
    "    op = paths.CV_Function(\n",
    "        name = 'op' + state,\n",
    "        f=circle_degree,\n",
    "        center=state_centers[state],\n",
    "        psi=psi,\n",
    "        phi=phi\n",
    "    )\n",
    "    cv_state[state] = op"
   ]
  },
  {
   "cell_type": "code",
   "execution_count": 26,
   "metadata": {
    "collapsed": false
   },
   "outputs": [
    {
     "name": "stdout",
     "output_type": "stream",
     "text": [
      "[(store.cvs[CollectiveVariable], 6, 2), (store.cvs[CollectiveVariable], 6, 3), (store.cvs[CollectiveVariable], 6, 4), (store.cvs[CollectiveVariable], 6, 5), (store.cvs[CollectiveVariable], 6, 6), (store.cvs[CollectiveVariable], 6, 7)]\n"
     ]
    }
   ],
   "source": [
    "print storage.save(cv_state.values())"
   ]
  },
  {
   "cell_type": "markdown",
   "metadata": {},
   "source": [
    "### Volumes"
   ]
  },
  {
   "cell_type": "markdown",
   "metadata": {},
   "source": [
    "Create Interfaces"
   ]
  },
  {
   "cell_type": "code",
   "execution_count": 27,
   "metadata": {
    "collapsed": false
   },
   "outputs": [],
   "source": [
    "interface_list = {}\n",
    "for state in interface_levels:\n",
    "    levels = interface_levels[state]\n",
    "    interface_list[state] = [None] * len(levels)\n",
    "    for idx, level in enumerate(levels):\n",
    "        if state == 'alpha':\n",
    "            interface_list[state][idx] = \\\n",
    "                paths.CVRangeVolume(cv_state['A'], lambda_max=level) | \\\n",
    "                paths.CVRangeVolume(cv_state['B'], lambda_max=level)\n",
    "        elif state == 'beta':\n",
    "            interface_list[state][idx] = \\\n",
    "                paths.CVRangeVolume(cv_state['C'], lambda_max=level) | \\\n",
    "                paths.CVRangeVolume(cv_state['D'], lambda_max=level)\n",
    "        else:\n",
    "            interface_list[state][idx] = \\\n",
    "                paths.CVRangeVolume(cv_state[state], lambda_max=level)\n",
    "\n",
    "        interface_list[state][idx].name = state + str(idx)"
   ]
  },
  {
   "cell_type": "markdown",
   "metadata": {},
   "source": [
    "Create `Volume` objects for all states. The state definition is actually the lowest interface which means that Interface 0 are all trajectories that leave a state and return or hit another core."
   ]
  },
  {
   "cell_type": "code",
   "execution_count": 28,
   "metadata": {
    "collapsed": false
   },
   "outputs": [],
   "source": [
    "vol_state = {state : interface_list[state][0] for state in interface_list}"
   ]
  },
  {
   "cell_type": "code",
   "execution_count": 29,
   "metadata": {
    "collapsed": false
   },
   "outputs": [
    {
     "name": "stderr",
     "output_type": "stream",
     "text": [
      "/Users/jan-hendrikprinz/anaconda/lib/python2.7/site-packages/IPython/core/formatters.py:92: DeprecationWarning: DisplayFormatter._ipython_display_formatter_default is deprecated: use @default decorator instead.\n",
      "  def _ipython_display_formatter_default(self):\n",
      "/Users/jan-hendrikprinz/anaconda/lib/python2.7/site-packages/IPython/core/formatters.py:669: DeprecationWarning: PlainTextFormatter._singleton_printers_default is deprecated: use @default decorator instead.\n",
      "  def _singleton_printers_default(self):\n"
     ]
    },
    {
     "data": {
      "text/plain": [
       "(store.volumes[Volume], 16, 0)"
      ]
     },
     "execution_count": 29,
     "metadata": {},
     "output_type": "execute_result"
    }
   ],
   "source": [
    "stAll = reduce(lambda x, y: x | y, [vol_state[state] for state in states])\n",
    "stAll.name = 'all'\n",
    "storage.save(stAll)"
   ]
  },
  {
   "cell_type": "markdown",
   "metadata": {},
   "source": [
    "### Utility functions"
   ]
  },
  {
   "cell_type": "markdown",
   "metadata": {},
   "source": [
    "Define a few functions that simplify analysis and progress report."
   ]
  },
  {
   "cell_type": "markdown",
   "metadata": {},
   "source": [
    "#### Information"
   ]
  },
  {
   "cell_type": "code",
   "execution_count": 30,
   "metadata": {
    "collapsed": true
   },
   "outputs": [],
   "source": [
    "def get_state(snapshot):\n",
    "    for state in states:\n",
    "        if interface_list[state][-1](snapshot):\n",
    "            return state\n",
    "\n",
    "    return '-'\n",
    "\n",
    "def get_core(snapshot):\n",
    "    for state in states:\n",
    "        if interface_list[state][0](snapshot):\n",
    "            return state\n",
    "\n",
    "    return '-'\n",
    "\n",
    "def get_interface(snapshot):\n",
    "    for state in states:\n",
    "        for idx, interface in enumerate(interface_list[state]):\n",
    "            if interface(snapshot):\n",
    "                return state, idx\n",
    "\n",
    "    return '-', 0"
   ]
  },
  {
   "cell_type": "code",
   "execution_count": 31,
   "metadata": {
    "collapsed": true
   },
   "outputs": [],
   "source": [
    "def state_information(snapshot):\n",
    "    for state in states:\n",
    "        cv = cv_state[state]\n",
    "        print '%s: %7.2f' % (state, cv(snapshot)),\n",
    "        for idx, interface in enumerate(interface_list[state]):\n",
    "            if interface(snapshot):\n",
    "                print '+',\n",
    "                current_state = state\n",
    "            else:\n",
    "                print '-',\n",
    "\n",
    "        print    \n",
    "\n",
    "    print 'The initial configuration is in state', current_state"
   ]
  },
  {
   "cell_type": "markdown",
   "metadata": {},
   "source": [
    "#### Trajectory Plotting"
   ]
  },
  {
   "cell_type": "code",
   "execution_count": 32,
   "metadata": {
    "collapsed": false
   },
   "outputs": [
    {
     "name": "stderr",
     "output_type": "stream",
     "text": [
      "/Users/jan-hendrikprinz/anaconda/lib/python2.7/site-packages/ipykernel/pylab/config.py:44: DeprecationWarning: InlineBackend._config_changed is deprecated: use @observe and @unobserve instead.\n",
      "  def _config_changed(self, name, old, new):\n",
      "/Users/jan-hendrikprinz/anaconda/lib/python2.7/site-packages/traitlets/traitlets.py:770: DeprecationWarning: A parent of InlineBackend._config_changed has adopted the new @observe(change) API\n",
      "  clsname, change_or_name), DeprecationWarning)\n",
      "/Users/jan-hendrikprinz/anaconda/lib/python2.7/site-packages/ipykernel/pylab/config.py:87: DeprecationWarning: InlineBackend._figure_format_changed is deprecated: use @observe and @unobserve instead.\n",
      "  def _figure_format_changed(self, name, old, new):\n",
      "/Users/jan-hendrikprinz/anaconda/lib/python2.7/site-packages/ipykernel/pylab/config.py:78: DeprecationWarning: InlineBackend._figure_formats_changed is deprecated: use @observe and @unobserve instead.\n",
      "  def _figure_formats_changed(self, name, old, new):\n"
     ]
    }
   ],
   "source": [
    "%config InlineBackend.figure_format='retina'\n",
    "\n",
    "def plot_main():\n",
    "    plt.figure(figsize=(8, 8))\n",
    "    rect = plt.Rectangle((-180,-180),360,360, facecolor=\"none\", edgecolor=\"none\")    \n",
    "    \n",
    "    plt.xlim(-180, 180);\n",
    "    plt.ylim(-180, 180);    \n",
    "    \n",
    "    centers = state_centers.values()\n",
    "\n",
    "    plt.plot([x[0] for x in centers], [x[1] for x in centers], 'ko')\n",
    "\n",
    "    fig = plt.gcf()\n",
    "\n",
    "    for level in range(100,0,-1):\n",
    "        for col in [True, False]:\n",
    "            for name, center in state_centers.iteritems():\n",
    "                if level == 1:\n",
    "                    plt.annotate(name, xy=center, xytext=(center[0]+10 + 1, center[1] - 1), fontsize=20, color='k')\n",
    "                    plt.annotate(name, xy=center, xytext=(center[0]+10, center[1]), fontsize=20, color='w')\n",
    "\n",
    "                if level in interface_levels[name]:\n",
    "                    for xp in [-1, 0, 1]:\n",
    "                        for yp in [-1, 0, 1]:\n",
    "                            if col:\n",
    "                                circle = plt.Circle((center[0] + xp * 360, center[1] + yp * 360), level, color='w')\n",
    "                                fig.gca().add_artist(circle)\n",
    "                            else:\n",
    "                                l = 1.0 * level / 100\n",
    "                                circle = plt.Circle(\n",
    "                                    (center[0] + xp * 360, center[1] + yp * 360), \n",
    "                                    level - 1, \n",
    "                                    color=(l + 0.0,l + 0.2, 0.6)\n",
    "                                )\n",
    "                                fig.gca().add_artist(circle)\n",
    "\n",
    "                        # circle.set_clip_path(rect)\n",
    "\n",
    "    plt.axis('equal')\n",
    "    plt.axis((-180,180,-180,180))\n",
    "                    \n",
    "    plt.xlim(-180, 180);\n",
    "    plt.ylim(-180, 180);    "
   ]
  },
  {
   "cell_type": "code",
   "execution_count": 33,
   "metadata": {
    "collapsed": false
   },
   "outputs": [],
   "source": [
    "def cvlines(data, *cvs):\n",
    "    all_points = [cv(data) for cv in cvs]\n",
    "    ret = []\n",
    "    first = 0\n",
    "    for d in range(1,len(data)):\n",
    "        flip = False\n",
    "        for c in range(len(cvs)):\n",
    "            if periodicflip(all_points[c][d], all_points[c][d-1], math.pi):\n",
    "                flip = True\n",
    "                                \n",
    "        if flip:\n",
    "            ret.append([all_points[c][first:d] for c in range(len(cvs))])\n",
    "            first = d\n",
    "\n",
    "    ret.append([all_points[c][first:d+1] for c in range(len(cvs))])    \n",
    "            \n",
    "    return ret\n",
    "            \n",
    "    \n",
    "def periodicflip(val1, val2, period):\n",
    "    return (period**2 - (val1 - val2)**2) < (val1 - val2)**2"
   ]
  },
  {
   "cell_type": "code",
   "execution_count": 34,
   "metadata": {
    "collapsed": false
   },
   "outputs": [],
   "source": [
    "def plot_traj(traj, line=True, points=True):    \n",
    "    angles = cvlines(traj, phi, psi)\n",
    "    degrees = 180/3.14159\n",
    "    \n",
    "    for angle in angles:\n",
    "        if points:\n",
    "            plt.plot(degrees * np.array(angle[0])[:], degrees * np.array(angle[1])[:], 'ko', linewidth=0.5)\n",
    "        if line:\n",
    "            plt.plot(degrees * np.array(angle[0])[:], degrees * np.array(angle[1])[:], 'k-', linewidth=0.5)"
   ]
  },
  {
   "cell_type": "markdown",
   "metadata": {},
   "source": [
    "### Initial core"
   ]
  },
  {
   "cell_type": "markdown",
   "metadata": {},
   "source": [
    "First we need to get at least one conformation in each state. Since this problem is realated to the problem of finding initial trajectories we do both at the same time."
   ]
  },
  {
   "cell_type": "code",
   "execution_count": 35,
   "metadata": {
    "collapsed": false
   },
   "outputs": [],
   "source": [
    "paths.EngineMover.engine = engine_high"
   ]
  },
  {
   "cell_type": "markdown",
   "metadata": {},
   "source": [
    "We will now define two helper ensembles. \n",
    "\n",
    "1. An ensemble of trajectories that end in any core\n",
    "2. An ensemble of trajectories that start in any state, leave and reach any other state. This is the union of all reactive pathways."
   ]
  },
  {
   "cell_type": "code",
   "execution_count": 36,
   "metadata": {
    "collapsed": false
   },
   "outputs": [],
   "source": [
    "reach_core = paths.SequentialEnsemble([\n",
    "        paths.OptionalEnsemble(paths.AllOutXEnsemble(stAll)),\n",
    "        paths.SingleFrameEnsemble(\n",
    "            paths.AllInXEnsemble(stAll)\n",
    "        )\n",
    "    ])"
   ]
  },
  {
   "cell_type": "code",
   "execution_count": 37,
   "metadata": {
    "collapsed": true
   },
   "outputs": [],
   "source": [
    "core2core = paths.SequentialEnsemble(\n",
    "    [\n",
    "        paths.OptionalEnsemble(paths.AllInXEnsemble(stAll)),\n",
    "        paths.AllOutXEnsemble(stAll),\n",
    "        paths.SingleFrameEnsemble(\n",
    "            paths.AllInXEnsemble(stAll)\n",
    "        )\n",
    "    ]\n",
    ")"
   ]
  },
  {
   "cell_type": "markdown",
   "metadata": {},
   "source": [
    "Create an initial path that will end up in any core."
   ]
  },
  {
   "cell_type": "code",
   "execution_count": 38,
   "metadata": {
    "collapsed": false
   },
   "outputs": [],
   "source": [
    "init_traj = engine_high.generate(storage.template, [reach_core.can_append])"
   ]
  },
  {
   "cell_type": "markdown",
   "metadata": {},
   "source": [
    "Check the final frame to be in a core"
   ]
  },
  {
   "cell_type": "code",
   "execution_count": 39,
   "metadata": {
    "collapsed": false
   },
   "outputs": [
    {
     "name": "stdout",
     "output_type": "stream",
     "text": [
      "A:   83.72 - - - - -\n",
      "B:    2.50 + + + + +\n",
      "C:  179.57 - - - -\n",
      "D:  174.53 - - - -\n",
      "E:  171.24 - - - - -\n",
      "F:  128.59 - - - - -\n",
      "The initial configuration is in state B\n"
     ]
    }
   ],
   "source": [
    "state_information(init_traj[-1])"
   ]
  },
  {
   "cell_type": "markdown",
   "metadata": {},
   "source": [
    "### Inter-core trajectories"
   ]
  },
  {
   "cell_type": "markdown",
   "metadata": {},
   "source": [
    "Run interstate trajectories until all states have been visited"
   ]
  },
  {
   "cell_type": "code",
   "execution_count": 40,
   "metadata": {
    "collapsed": false
   },
   "outputs": [],
   "source": [
    "tt = init_traj\n",
    "found_states = set()\n",
    "missing_states = set(states)\n",
    "data = np.array([[cv_state[state](frame) for state in states] for frame in tt])\n",
    "found_states.update([state for state in missing_states if any(map(interface_list[state][0], tt))])\n",
    "missing_states = missing_states - found_states\n",
    "storage.save(tt)\n",
    "initials = {state : list() for state in states}"
   ]
  },
  {
   "cell_type": "code",
   "execution_count": 41,
   "metadata": {
    "collapsed": false,
    "scrolled": false
   },
   "outputs": [
    {
     "name": "stdout",
     "output_type": "stream",
     "text": [
      "[   7]    8  C <   10 > D   still missing states AEF\n"
     ]
    },
    {
     "ename": "KeyboardInterrupt",
     "evalue": "",
     "output_type": "error",
     "traceback": [
      "\u001b[0;31m---------------------------------------------------------------------------\u001b[0m",
      "\u001b[0;31mKeyboardInterrupt\u001b[0m                         Traceback (most recent call last)",
      "\u001b[0;32m<ipython-input-41-79f854d66f52>\u001b[0m in \u001b[0;36m<module>\u001b[0;34m()\u001b[0m\n\u001b[1;32m      7\u001b[0m         \u001b[0;32mtry\u001b[0m\u001b[0;34m:\u001b[0m\u001b[0;34m\u001b[0m\u001b[0m\n\u001b[1;32m      8\u001b[0m             \u001b[0mcount\u001b[0m \u001b[0;34m+=\u001b[0m \u001b[0;36m1\u001b[0m\u001b[0;34m\u001b[0m\u001b[0m\n\u001b[0;32m----> 9\u001b[0;31m             \u001b[0mtt\u001b[0m \u001b[0;34m=\u001b[0m \u001b[0mengine_high\u001b[0m\u001b[0;34m.\u001b[0m\u001b[0mgenerate_forward\u001b[0m\u001b[0;34m(\u001b[0m\u001b[0mtt\u001b[0m\u001b[0;34m[\u001b[0m\u001b[0;34m-\u001b[0m\u001b[0;36m1\u001b[0m\u001b[0;34m]\u001b[0m\u001b[0;34m.\u001b[0m\u001b[0mreversed\u001b[0m\u001b[0;34m,\u001b[0m \u001b[0mcore2core\u001b[0m\u001b[0;34m)\u001b[0m\u001b[0;34m\u001b[0m\u001b[0m\n\u001b[0m\u001b[1;32m     10\u001b[0m             \u001b[0mstorage\u001b[0m\u001b[0;34m.\u001b[0m\u001b[0msave\u001b[0m\u001b[0;34m(\u001b[0m\u001b[0mtt\u001b[0m\u001b[0;34m)\u001b[0m\u001b[0;34m\u001b[0m\u001b[0m\n\u001b[1;32m     11\u001b[0m \u001b[0;34m\u001b[0m\u001b[0m\n",
      "\u001b[0;32m/Users/jan-hendrikprinz/Studium/git/openpathsampling/openpathsampling/dynamics_engine.pyc\u001b[0m in \u001b[0;36mgenerate_forward\u001b[0;34m(self, snapshot, ensemble)\u001b[0m\n\u001b[1;32m    232\u001b[0m         \"\"\"\n\u001b[1;32m    233\u001b[0m \u001b[0;34m\u001b[0m\u001b[0m\n\u001b[0;32m--> 234\u001b[0;31m         \u001b[0;32mreturn\u001b[0m \u001b[0mself\u001b[0m\u001b[0;34m.\u001b[0m\u001b[0mgenerate\u001b[0m\u001b[0;34m(\u001b[0m\u001b[0msnapshot\u001b[0m\u001b[0;34m,\u001b[0m \u001b[0mensemble\u001b[0m\u001b[0;34m.\u001b[0m\u001b[0mcan_append\u001b[0m\u001b[0;34m,\u001b[0m \u001b[0mdirection\u001b[0m\u001b[0;34m=\u001b[0m\u001b[0;34m+\u001b[0m\u001b[0;36m1\u001b[0m\u001b[0;34m)\u001b[0m\u001b[0;34m\u001b[0m\u001b[0m\n\u001b[0m\u001b[1;32m    235\u001b[0m \u001b[0;34m\u001b[0m\u001b[0m\n\u001b[1;32m    236\u001b[0m     \u001b[0;32mdef\u001b[0m \u001b[0mgenerate_backward\u001b[0m\u001b[0;34m(\u001b[0m\u001b[0mself\u001b[0m\u001b[0;34m,\u001b[0m \u001b[0msnapshot\u001b[0m\u001b[0;34m,\u001b[0m \u001b[0mensemble\u001b[0m\u001b[0;34m)\u001b[0m\u001b[0;34m:\u001b[0m\u001b[0;34m\u001b[0m\u001b[0m\n",
      "\u001b[0;32m/Users/jan-hendrikprinz/Studium/git/openpathsampling/openpathsampling/dynamics_engine.pyc\u001b[0m in \u001b[0;36mgenerate\u001b[0;34m(self, snapshot, running, direction)\u001b[0m\n\u001b[1;32m    307\u001b[0m \u001b[0;34m\u001b[0m\u001b[0m\n\u001b[1;32m    308\u001b[0m             \u001b[0;31m# Do integrator x steps\u001b[0m\u001b[0;34m\u001b[0m\u001b[0;34m\u001b[0m\u001b[0m\n\u001b[0;32m--> 309\u001b[0;31m             \u001b[0msnapshot\u001b[0m \u001b[0;34m=\u001b[0m \u001b[0mself\u001b[0m\u001b[0;34m.\u001b[0m\u001b[0mgenerate_next_frame\u001b[0m\u001b[0;34m(\u001b[0m\u001b[0;34m)\u001b[0m\u001b[0;34m\u001b[0m\u001b[0m\n\u001b[0m\u001b[1;32m    310\u001b[0m             \u001b[0mframe\u001b[0m \u001b[0;34m+=\u001b[0m \u001b[0;36m1\u001b[0m\u001b[0;34m\u001b[0m\u001b[0m\n\u001b[1;32m    311\u001b[0m             \u001b[0;32mif\u001b[0m \u001b[0mframe\u001b[0m \u001b[0;34m%\u001b[0m \u001b[0mlog_freq\u001b[0m \u001b[0;34m==\u001b[0m \u001b[0;36m0\u001b[0m\u001b[0;34m:\u001b[0m\u001b[0;34m\u001b[0m\u001b[0m\n",
      "\u001b[0;32m/Users/jan-hendrikprinz/Studium/git/openpathsampling/openpathsampling/openmm_engine.pyc\u001b[0m in \u001b[0;36mgenerate_next_frame\u001b[0;34m(self)\u001b[0m\n\u001b[1;32m    243\u001b[0m         \u001b[0mself\u001b[0m\u001b[0;34m.\u001b[0m\u001b[0msimulation\u001b[0m\u001b[0;34m.\u001b[0m\u001b[0mstep\u001b[0m\u001b[0;34m(\u001b[0m\u001b[0mself\u001b[0m\u001b[0;34m.\u001b[0m\u001b[0mnsteps_per_frame\u001b[0m\u001b[0;34m)\u001b[0m\u001b[0;34m\u001b[0m\u001b[0m\n\u001b[1;32m    244\u001b[0m         \u001b[0mself\u001b[0m\u001b[0;34m.\u001b[0m\u001b[0m_current_snapshot\u001b[0m \u001b[0;34m=\u001b[0m \u001b[0mNone\u001b[0m\u001b[0;34m\u001b[0m\u001b[0m\n\u001b[0;32m--> 245\u001b[0;31m         \u001b[0;32mreturn\u001b[0m \u001b[0mself\u001b[0m\u001b[0;34m.\u001b[0m\u001b[0mcurrent_snapshot\u001b[0m\u001b[0;34m\u001b[0m\u001b[0m\n\u001b[0m\u001b[1;32m    246\u001b[0m \u001b[0;34m\u001b[0m\u001b[0m\n\u001b[1;32m    247\u001b[0m     \u001b[0;32mdef\u001b[0m \u001b[0mminimize\u001b[0m\u001b[0;34m(\u001b[0m\u001b[0mself\u001b[0m\u001b[0;34m)\u001b[0m\u001b[0;34m:\u001b[0m\u001b[0;34m\u001b[0m\u001b[0m\n",
      "\u001b[0;32m/Users/jan-hendrikprinz/Studium/git/openpathsampling/openpathsampling/openmm_engine.pyc\u001b[0m in \u001b[0;36mcurrent_snapshot\u001b[0;34m(self)\u001b[0m\n\u001b[1;32m    218\u001b[0m     \u001b[0;32mdef\u001b[0m \u001b[0mcurrent_snapshot\u001b[0m\u001b[0;34m(\u001b[0m\u001b[0mself\u001b[0m\u001b[0;34m)\u001b[0m\u001b[0;34m:\u001b[0m\u001b[0;34m\u001b[0m\u001b[0m\n\u001b[1;32m    219\u001b[0m         \u001b[0;32mif\u001b[0m \u001b[0mself\u001b[0m\u001b[0;34m.\u001b[0m\u001b[0m_current_snapshot\u001b[0m \u001b[0;32mis\u001b[0m \u001b[0mNone\u001b[0m\u001b[0;34m:\u001b[0m\u001b[0;34m\u001b[0m\u001b[0m\n\u001b[0;32m--> 220\u001b[0;31m             \u001b[0mself\u001b[0m\u001b[0;34m.\u001b[0m\u001b[0m_current_snapshot\u001b[0m \u001b[0;34m=\u001b[0m \u001b[0mself\u001b[0m\u001b[0;34m.\u001b[0m\u001b[0m_build_current_snapshot\u001b[0m\u001b[0;34m(\u001b[0m\u001b[0;34m)\u001b[0m\u001b[0;34m\u001b[0m\u001b[0m\n\u001b[0m\u001b[1;32m    221\u001b[0m \u001b[0;34m\u001b[0m\u001b[0m\n\u001b[1;32m    222\u001b[0m         \u001b[0;32mreturn\u001b[0m \u001b[0mself\u001b[0m\u001b[0;34m.\u001b[0m\u001b[0m_current_snapshot\u001b[0m\u001b[0;34m\u001b[0m\u001b[0m\n",
      "\u001b[0;32m/Users/jan-hendrikprinz/Studium/git/openpathsampling/openpathsampling/openmm_engine.pyc\u001b[0m in \u001b[0;36m_build_current_snapshot\u001b[0;34m(self)\u001b[0m\n\u001b[1;32m    196\u001b[0m         state = self.simulation.context.getState(getPositions=True,\n\u001b[1;32m    197\u001b[0m                                                  \u001b[0mgetVelocities\u001b[0m\u001b[0;34m=\u001b[0m\u001b[0mTrue\u001b[0m\u001b[0;34m,\u001b[0m\u001b[0;34m\u001b[0m\u001b[0m\n\u001b[0;32m--> 198\u001b[0;31m                                                  getEnergy=True)\n\u001b[0m\u001b[1;32m    199\u001b[0m \u001b[0;34m\u001b[0m\u001b[0m\n\u001b[1;32m    200\u001b[0m         configuration = Configuration(\n",
      "\u001b[0;32m/Users/jan-hendrikprinz/anaconda/lib/python2.7/site-packages/simtk/openmm/openmm.pyc\u001b[0m in \u001b[0;36mgetState\u001b[0;34m(self, getPositions, getVelocities, getForces, getEnergy, getParameters, enforcePeriodicBox, groups)\u001b[0m\n\u001b[1;32m   6390\u001b[0m         (simTime, periodicBoxVectorsList, energy, coordList, velList,\n\u001b[1;32m   6391\u001b[0m          forceList, paramMap) = \\\n\u001b[0;32m-> 6392\u001b[0;31m             \u001b[0mself\u001b[0m\u001b[0;34m.\u001b[0m\u001b[0m_getStateAsLists\u001b[0m\u001b[0;34m(\u001b[0m\u001b[0mgetP\u001b[0m\u001b[0;34m,\u001b[0m \u001b[0mgetV\u001b[0m\u001b[0;34m,\u001b[0m \u001b[0mgetF\u001b[0m\u001b[0;34m,\u001b[0m \u001b[0mgetE\u001b[0m\u001b[0;34m,\u001b[0m \u001b[0mgetPa\u001b[0m\u001b[0;34m,\u001b[0m \u001b[0menforcePeriodic\u001b[0m\u001b[0;34m,\u001b[0m \u001b[0mgroups\u001b[0m\u001b[0;34m)\u001b[0m\u001b[0;34m\u001b[0m\u001b[0m\n\u001b[0m\u001b[1;32m   6393\u001b[0m \u001b[0;34m\u001b[0m\u001b[0m\n\u001b[1;32m   6394\u001b[0m         state = State(simTime=simTime,\n",
      "\u001b[0;32m/Users/jan-hendrikprinz/anaconda/lib/python2.7/site-packages/simtk/openmm/openmm.pyc\u001b[0m in \u001b[0;36m_getStateAsLists\u001b[0;34m(self, getPositions, getVelocities, getForces, getEnergy, getParameters, enforcePeriodic, groups)\u001b[0m\n\u001b[1;32m   6341\u001b[0m     \u001b[0;32mdef\u001b[0m \u001b[0m_getStateAsLists\u001b[0m\u001b[0;34m(\u001b[0m\u001b[0mself\u001b[0m\u001b[0;34m,\u001b[0m \u001b[0mgetPositions\u001b[0m\u001b[0;34m,\u001b[0m \u001b[0mgetVelocities\u001b[0m\u001b[0;34m,\u001b[0m \u001b[0mgetForces\u001b[0m\u001b[0;34m,\u001b[0m \u001b[0mgetEnergy\u001b[0m\u001b[0;34m,\u001b[0m \u001b[0mgetParameters\u001b[0m\u001b[0;34m,\u001b[0m \u001b[0menforcePeriodic\u001b[0m\u001b[0;34m,\u001b[0m \u001b[0mgroups\u001b[0m\u001b[0;34m)\u001b[0m\u001b[0;34m:\u001b[0m\u001b[0;34m\u001b[0m\u001b[0m\n\u001b[1;32m   6342\u001b[0m         \u001b[0;34m\"\"\"_getStateAsLists(Context self, int getPositions, int getVelocities, int getForces, int getEnergy, int getParameters, int enforcePeriodic, int groups) -> PyObject *\"\"\"\u001b[0m\u001b[0;34m\u001b[0m\u001b[0m\n\u001b[0;32m-> 6343\u001b[0;31m         \u001b[0;32mreturn\u001b[0m \u001b[0m_openmm\u001b[0m\u001b[0;34m.\u001b[0m\u001b[0mContext__getStateAsLists\u001b[0m\u001b[0;34m(\u001b[0m\u001b[0mself\u001b[0m\u001b[0;34m,\u001b[0m \u001b[0mgetPositions\u001b[0m\u001b[0;34m,\u001b[0m \u001b[0mgetVelocities\u001b[0m\u001b[0;34m,\u001b[0m \u001b[0mgetForces\u001b[0m\u001b[0;34m,\u001b[0m \u001b[0mgetEnergy\u001b[0m\u001b[0;34m,\u001b[0m \u001b[0mgetParameters\u001b[0m\u001b[0;34m,\u001b[0m \u001b[0menforcePeriodic\u001b[0m\u001b[0;34m,\u001b[0m \u001b[0mgroups\u001b[0m\u001b[0;34m)\u001b[0m\u001b[0;34m\u001b[0m\u001b[0m\n\u001b[0m\u001b[1;32m   6344\u001b[0m \u001b[0;34m\u001b[0m\u001b[0m\n\u001b[1;32m   6345\u001b[0m \u001b[0;34m\u001b[0m\u001b[0m\n",
      "\u001b[0;32m/Users/jan-hendrikprinz/anaconda/lib/python2.7/site-packages/simtk/openmm/vec3.pyc\u001b[0m in \u001b[0;36m__new__\u001b[0;34m(cls, x, y, z)\u001b[0m\n\u001b[1;32m     37\u001b[0m     \u001b[0;34m\"\"\"Vec3 is a 3-element tuple that supports many math operations.\"\"\"\u001b[0m\u001b[0;34m\u001b[0m\u001b[0m\n\u001b[1;32m     38\u001b[0m \u001b[0;34m\u001b[0m\u001b[0m\n\u001b[0;32m---> 39\u001b[0;31m     \u001b[0;32mdef\u001b[0m \u001b[0m__new__\u001b[0m\u001b[0;34m(\u001b[0m\u001b[0mcls\u001b[0m\u001b[0;34m,\u001b[0m \u001b[0mx\u001b[0m\u001b[0;34m,\u001b[0m \u001b[0my\u001b[0m\u001b[0;34m,\u001b[0m \u001b[0mz\u001b[0m\u001b[0;34m)\u001b[0m\u001b[0;34m:\u001b[0m\u001b[0;34m\u001b[0m\u001b[0m\n\u001b[0m\u001b[1;32m     40\u001b[0m         \u001b[0;34m\"\"\"Create a new Vec3.\"\"\"\u001b[0m\u001b[0;34m\u001b[0m\u001b[0m\n\u001b[1;32m     41\u001b[0m         \u001b[0;32mreturn\u001b[0m \u001b[0mtuple\u001b[0m\u001b[0;34m.\u001b[0m\u001b[0m__new__\u001b[0m\u001b[0;34m(\u001b[0m\u001b[0mcls\u001b[0m\u001b[0;34m,\u001b[0m \u001b[0;34m(\u001b[0m\u001b[0mx\u001b[0m\u001b[0;34m,\u001b[0m \u001b[0my\u001b[0m\u001b[0;34m,\u001b[0m \u001b[0mz\u001b[0m\u001b[0;34m)\u001b[0m\u001b[0;34m)\u001b[0m\u001b[0;34m\u001b[0m\u001b[0m\n",
      "\u001b[0;31mKeyboardInterrupt\u001b[0m: "
     ]
    }
   ],
   "source": [
    "chunksize = 5\n",
    "first = True\n",
    "count = 0\n",
    "while len(missing_states) > 0 or first:\n",
    "    first = False\n",
    "    while True:\n",
    "        try:\n",
    "            count += 1\n",
    "            tt = engine_high.generate_forward(tt[-1].reversed, core2core)\n",
    "            storage.save(tt)\n",
    "\n",
    "            for state in states:\n",
    "                if vol_state[state](tt[0]):\n",
    "                    initials[state].append(tt[0])\n",
    "                if vol_state[state](tt[-1]):\n",
    "                    initials[state].append(tt[-1].reversed)\n",
    "                    \n",
    "            found_states.update([state for state in missing_states if any(map(vol_state[state], tt[[0,-1]]))])\n",
    "            missing_states = missing_states - found_states \n",
    "            paths.tools.refresh_output(\n",
    "                '[%4d] %4d  %s < %4d > %s   still missing states %s' % (\n",
    "                    count,\n",
    "                    len(storage.trajectories), \n",
    "                    get_state(tt[0]), \n",
    "                    len(tt) - 2, \n",
    "                    get_state(tt[-1]), \n",
    "                    ''.join(missing_states)\n",
    "                )\n",
    "            )\n",
    "\n",
    "            if len(storage.trajectories) % chunksize == 0:\n",
    "                break\n",
    "        except ValueError:\n",
    "            paths.tools.refresh_output(\n",
    "                '[%4d] %4d  %s < ERROR > ??   still missing states %s' % (\n",
    "                    count,\n",
    "                    len(storage.trajectories), \n",
    "                    get_state(tt[0]), \n",
    "                    ''.join(missing_states)\n",
    "                )\n",
    "            )\n",
    "        \n",
    "paths.tools.refresh_output(\n",
    "                'DONE !'\n",
    "            )"
   ]
  },
  {
   "cell_type": "code",
   "execution_count": null,
   "metadata": {
    "collapsed": false
   },
   "outputs": [],
   "source": [
    "plot_main()\n",
    "for tr in storage.trajectories:\n",
    "    if all(map(vol_state['B'], tr[[0,-1]])):\n",
    "        plot_traj(tr, line=True)"
   ]
  },
  {
   "cell_type": "code",
   "execution_count": null,
   "metadata": {
    "collapsed": false
   },
   "outputs": [],
   "source": [
    "mstis = paths.MSTISNetwork([\n",
    "    (\n",
    "        vol_state[state],\n",
    "        interface_list[state][0:],\n",
    "        cv_state[state]\n",
    "    ) for state in states\n",
    "])"
   ]
  },
  {
   "cell_type": "code",
   "execution_count": null,
   "metadata": {
    "collapsed": false
   },
   "outputs": [],
   "source": [
    "storage.save(mstis)"
   ]
  },
  {
   "cell_type": "code",
   "execution_count": null,
   "metadata": {
    "collapsed": true
   },
   "outputs": [],
   "source": [
    "initial_bootstrap = dict()"
   ]
  },
  {
   "cell_type": "code",
   "execution_count": null,
   "metadata": {
    "collapsed": false
   },
   "outputs": [],
   "source": [
    "for state in states:\n",
    "    while state not in initial_bootstrap:\n",
    "        try:\n",
    "            paths.tools.refresh_output(\n",
    "                'Bootstrapping state ' + state\n",
    "            )            \n",
    "            from_state = vol_state[state]\n",
    "            bootstrapA = paths.FullBootstrapping(\n",
    "                transition=mstis.from_state[from_state],\n",
    "                snapshot=random.choice(initials[state]),\n",
    "                engine=engine,\n",
    "                extra_interfaces=[interface_list[state][-1]],\n",
    "                initial_max_length=20      \n",
    "            )\n",
    "            paths.tools.refresh_output(\n",
    "                'Bootstrapping state ' + state + \" - let's go\"\n",
    "            )            \n",
    "            final = bootstrapA.run(max_ensemble_rounds=2, build_attempts=5)\n",
    "            if all([s.ensemble(s) for s in final]):\n",
    "                initial_bootstrap[state] = final\n",
    "        except ValueError:\n",
    "            paths.tools.refresh_output(\n",
    "                'Encountered NaN'\n",
    "            )\n",
    "        except RuntimeError:\n",
    "            paths.tools.refresh_output(\n",
    "                'Too many attempts. Start retry.'\n",
    "            )\n",
    "\n",
    "paths.tools.refresh_output(\n",
    "    'DONE!'\n",
    ")"
   ]
  },
  {
   "cell_type": "code",
   "execution_count": null,
   "metadata": {
    "collapsed": true
   },
   "outputs": [],
   "source": [
    "total_sample_set = paths.SampleSet.relabel_replicas_per_ensemble(\n",
    "    initial_bootstrap.values()\n",
    ")"
   ]
  },
  {
   "cell_type": "code",
   "execution_count": null,
   "metadata": {
    "collapsed": true
   },
   "outputs": [],
   "source": [
    "total_sample_set.sanity_check()"
   ]
  },
  {
   "cell_type": "code",
   "execution_count": null,
   "metadata": {
    "collapsed": false
   },
   "outputs": [],
   "source": [
    "storage.save(total_sample_set)\n",
    "storage.sync_all()"
   ]
  },
  {
   "cell_type": "code",
   "execution_count": null,
   "metadata": {
    "collapsed": false
   },
   "outputs": [],
   "source": [
    "plot_main()\n",
    "for s in total_sample_set:\n",
    "    plot_traj(s.trajectory, line=True)"
   ]
  },
  {
   "cell_type": "code",
   "execution_count": null,
   "metadata": {
    "collapsed": false
   },
   "outputs": [],
   "source": [
    "len(total_sample_set)"
   ]
  },
  {
   "cell_type": "code",
   "execution_count": null,
   "metadata": {
    "collapsed": true
   },
   "outputs": [],
   "source": [
    "storage.close()"
   ]
  },
  {
   "cell_type": "code",
   "execution_count": null,
   "metadata": {
    "collapsed": true
   },
   "outputs": [],
   "source": []
  }
 ],
 "metadata": {
  "kernelspec": {
   "display_name": "Python 2",
   "language": "python",
   "name": "python2"
  },
  "language_info": {
   "codemirror_mode": {
    "name": "ipython",
    "version": 2
   },
   "file_extension": ".py",
   "mimetype": "text/x-python",
   "name": "python",
   "nbconvert_exporter": "python",
   "pygments_lexer": "ipython2",
   "version": "2.7.11"
  }
 },
 "nbformat": 4,
 "nbformat_minor": 0
}

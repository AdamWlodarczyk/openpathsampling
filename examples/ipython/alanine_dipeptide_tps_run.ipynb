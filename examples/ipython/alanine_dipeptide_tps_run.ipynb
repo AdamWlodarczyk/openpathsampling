{
 "cells": [
  {
   "cell_type": "markdown",
   "metadata": {},
   "source": [
    "This is file runs the main calculation for the flexible length TPS simulation. It requires the file `alanine_dipeptide_tps_equil.nc`, which is written in the notebook `alanine_dipeptide_tps_first_traj.ipynb`.\n",
    "\n",
    "In this file, you will learn:\n",
    "* how to set up and run a flexible length TPS simulation\n",
    "\n",
    "NB: This is a long calculation. In practice, it would be best to export the Python from this notebook, remove the `live_visualization`, and run non-interactively on a computing node."
   ]
  },
  {
   "cell_type": "code",
   "execution_count": 1,
   "metadata": {
    "collapsed": true
   },
   "outputs": [],
   "source": [
    "%matplotlib inline\n",
    "import openpathsampling as paths"
   ]
  },
  {
   "cell_type": "markdown",
   "metadata": {},
   "source": [
    "## Load engine, trajectory, and states from file"
   ]
  },
  {
   "cell_type": "code",
   "execution_count": 2,
   "metadata": {
    "collapsed": false
   },
   "outputs": [],
   "source": [
    "old_storage = paths.Storage(\"tps_nc_files/alanine_dipeptide_tps_equil.nc\", \"r\")"
   ]
  },
  {
   "cell_type": "code",
   "execution_count": 3,
   "metadata": {
    "collapsed": false
   },
   "outputs": [],
   "source": [
    "engine = old_storage.engines[0]\n",
    "C_7eq = old_storage.volumes.find('C_7eq')\n",
    "alpha_R = old_storage.volumes.find('alpha_R')\n",
    "traj = old_storage.samplesets[len(old_storage.samplesets)-1][0].trajectory\n",
    "phi = old_storage.cvs.find('phi')\n",
    "psi = old_storage.cvs.find('psi')\n",
    "template = old_storage.snapshots[0]"
   ]
  },
  {
   "cell_type": "code",
   "execution_count": 4,
   "metadata": {
    "collapsed": false
   },
   "outputs": [
    {
     "name": "stdout",
     "output_type": "stream",
     "text": [
      "300K\n"
     ]
    }
   ],
   "source": [
    "print engine.name"
   ]
  },
  {
   "cell_type": "markdown",
   "metadata": {},
   "source": [
    "## TPS\n",
    "\n",
    "As always, the process for setting up a simulation is:\n",
    "\n",
    "1. Create a `network`\n",
    "2. Create a `move_scheme`\n",
    "3. Set up `initial_conditions`\n",
    "4. Create the `PathSampling` object and run it.\n",
    "\n",
    "Since we already created all the input to these when we set up the first trajectory, we can load use the versions we loaded above."
   ]
  },
  {
   "cell_type": "code",
   "execution_count": 5,
   "metadata": {
    "collapsed": false
   },
   "outputs": [],
   "source": [
    "network = paths.TPSNetwork(C_7eq, alpha_R)"
   ]
  },
  {
   "cell_type": "code",
   "execution_count": 6,
   "metadata": {
    "collapsed": false
   },
   "outputs": [],
   "source": [
    "scheme = paths.OneWayShootingMoveScheme(network, selector=paths.UniformSelector(), engine=engine)"
   ]
  },
  {
   "cell_type": "code",
   "execution_count": 7,
   "metadata": {
    "collapsed": false
   },
   "outputs": [
    {
     "name": "stdout",
     "output_type": "stream",
     "text": [
      "# finished generating: still missing 0 samples\n",
      "1\n"
     ]
    }
   ],
   "source": [
    "initial_conditions = scheme.initial_conditions_from_trajectories(traj)"
   ]
  },
  {
   "cell_type": "code",
   "execution_count": 8,
   "metadata": {
    "collapsed": false
   },
   "outputs": [],
   "source": [
    "storage = paths.Storage(\"tps_nc_files/alanine_dipeptide_tps.nc\", \"w\", template)\n",
    "sampler = paths.PathSampling(storage=storage,\n",
    "                             move_scheme=scheme,\n",
    "                             sample_set=initial_conditions).named(\"Flexible_TPS_Sampling\")"
   ]
  },
  {
   "cell_type": "markdown",
   "metadata": {},
   "source": [
    "Note: 10000 steps will take a long time. If you just want to run a little bit, reduce this number."
   ]
  },
  {
   "cell_type": "code",
   "execution_count": 9,
   "metadata": {
    "collapsed": false
   },
   "outputs": [
    {
     "name": "stdout",
     "output_type": "stream",
     "text": [
      "Working on Monte Carlo cycle number 10000\n",
      "Running for 13550 seconds -  0.74 steps per second\n",
      "Expected time to finish: 1 seconds\n",
      "DONE! Completed 10000 Monte Carlo cycles.\n"
     ]
    }
   ],
   "source": [
    "#sampler.live_visualization = paths.LiveVisualization(network, phi, psi, [-3.14, 3.14], [-3.14, 3.14])\n",
    "sampler.run(10000)"
   ]
  },
  {
   "cell_type": "markdown",
   "metadata": {
    "collapsed": true
   },
   "source": [
    "With this done, you can go on to do the flexible-length parts of the analysis in `alanine_dipeptide_tps_analysis.ipynb`."
   ]
  },
  {
   "cell_type": "code",
   "execution_count": 12,
   "metadata": {
    "collapsed": false
   },
   "outputs": [
    {
     "data": {
      "text/plain": [
       "[openpathsampling.movechange.PathSimulatorMoveChange,\n",
       " [openpathsampling.movechange.RandomChoiceMoveChange,\n",
       "  [openpathsampling.movechange.RandomChoiceMoveChange,\n",
       "   [openpathsampling.movechange.RandomChoiceMoveChange,\n",
       "    [openpathsampling.movechange.RejectedNaNSampleMoveChange]]]]]"
      ]
     },
     "execution_count": 12,
     "metadata": {},
     "output_type": "execute_result"
    }
   ],
   "source": [
    "step = storage.steps[9000]\n",
    "step.change.map_tree(lambda x: type(x))"
   ]
  },
  {
   "cell_type": "code",
   "execution_count": 42,
   "metadata": {
    "collapsed": true
   },
   "outputs": [],
   "source": [
    "hasnan = [s.mccycle for s in storage.steps[5000:6500:10] \n",
    "          if isinstance(s.change.subchange.subchange.subchange.subchange, openpathsampling.movechange.RejectedNaNSampleMoveChange)]"
   ]
  },
  {
   "cell_type": "code",
   "execution_count": 45,
   "metadata": {
    "collapsed": false
   },
   "outputs": [
    {
     "data": {
      "text/plain": [
       "<matplotlib.legend.Legend at 0x14856f910>"
      ]
     },
     "execution_count": 45,
     "metadata": {},
     "output_type": "execute_result"
    },
    {
     "data": {
      "image/png": "[encoded data removed]",
      "text/plain": [
       "<matplotlib.figure.Figure at 0x1467eca90>"
      ]
     },
     "metadata": {},
     "output_type": "display_data"
    }
   ],
   "source": [
    "%matplotlib inline\n",
    "import matplotlib.pyplot as plt\n",
    "import numpy as np\n",
    "plt.plot(np.arange(5000,6500,10), [len(step.active[0].trajectory) for step in storage.steps[5000:6500:10]])\n",
    "plt.plot(hasnan, [100]*len(hasnan), 'r.', label='RejectedNanSampleMoveChange')\n",
    "plt.xlabel(\"MC step\")\n",
    "plt.ylabel(\"Trajectory length (frames)\")\n",
    "plt.legend()"
   ]
  },
  {
   "cell_type": "code",
   "execution_count": 41,
   "metadata": {
    "collapsed": false
   },
   "outputs": [
    {
     "data": {
      "text/plain": [
       "True"
      ]
     },
     "execution_count": 41,
     "metadata": {},
     "output_type": "execute_result"
    }
   ],
   "source": [
    "from openpathsampling.movechange import RejectedNaNSampleMoveChange\n",
    "isinstance(step.change.subchange.subchange.subchange.subchange, openpathsampling.movechange.RejectedNaNSampleMoveChange)"
   ]
  },
  {
   "cell_type": "code",
   "execution_count": 46,
   "metadata": {
    "collapsed": true
   },
   "outputs": [],
   "source": [
    "vis = paths.LiveVisualization(network, phi, psi, [-3.14, 3.14], [-3.14, 3.14])"
   ]
  },
  {
   "cell_type": "code",
   "execution_count": null,
   "metadata": {
    "collapsed": false
   },
   "outputs": [],
   "source": [
    "import time\n",
    "for step in storage.steps[5500:6000]:\n",
    "    print step.mccycle\n",
    "    vis.draw_ipynb(step)\n",
    "    time.sleep(0.1)"
   ]
  },
  {
   "cell_type": "code",
   "execution_count": 51,
   "metadata": {
    "collapsed": false
   },
   "outputs": [],
   "source": [
    "trials = [step.change.trials[0].trajectory for step in storage.steps[1::100]]"
   ]
  },
  {
   "cell_type": "code",
   "execution_count": 59,
   "metadata": {
    "collapsed": false
   },
   "outputs": [
    {
     "name": "stdout",
     "output_type": "stream",
     "text": [
      "0 / 100\n",
      "5 / 100\n",
      "10 / 100\n",
      "15 / 100\n",
      "20 / 100\n",
      "25 / 100\n",
      "30 / 100\n",
      "35 / 100\n",
      "40 / 100\n",
      "45 / 100\n",
      "50 / 100\n",
      "55 / 100\n",
      "60 / 100\n",
      "65 / 100\n",
      "70 / 100\n",
      "75 / 100\n",
      "80 / 100\n",
      "85 / 100\n",
      "90 / 100\n",
      "95 / 100\n"
     ]
    }
   ],
   "source": [
    "avg_ke = []\n",
    "for i in range(len(trials)):\n",
    "    t = trials[i]\n",
    "    if i % 5 == 0:\n",
    "        print i, \"/\", len(trials)\n",
    "    tot_ke = 0.0\n",
    "    for s in t:\n",
    "        engine.current_snapshot = s\n",
    "        state = engine.simulation.context.getState(getEnergy=True)\n",
    "        ke = state.getKineticEnergy()\n",
    "        tot_ke = ke / ke.unit\n",
    "    avg_ke.append(tot_ke / len(t))\n"
   ]
  },
  {
   "cell_type": "code",
   "execution_count": 68,
   "metadata": {
    "collapsed": false
   },
   "outputs": [
    {
     "data": {
      "text/plain": [
       "<matplotlib.text.Text at 0x199c250d0>"
      ]
     },
     "execution_count": 68,
     "metadata": {},
     "output_type": "execute_result"
    },
    {
     "data": {
      "image/png": "[encoded data removed]",
      "text/plain": [
       "<matplotlib.figure.Figure at 0x19acc5190>"
      ]
     },
     "metadata": {},
     "output_type": "display_data"
    }
   ],
   "source": [
    "\n",
    "plt.plot(np.arange(1, 10001, 100), avg_ke)\n",
    "plt.yscale(\"log\")\n",
    "plt.ylabel(\"Avg. Kinetic Energy of trial move\")\n",
    "plt.xlabel(\"MC Step\")"
   ]
  },
  {
   "cell_type": "code",
   "execution_count": null,
   "metadata": {
    "collapsed": true
   },
   "outputs": [],
   "source": []
  }
 ],
 "metadata": {
  "kernelspec": {
   "display_name": "Python 2",
   "language": "python",
   "name": "python2"
  },
  "language_info": {
   "codemirror_mode": {
    "name": "ipython",
    "version": 2
   },
   "file_extension": ".py",
   "mimetype": "text/x-python",
   "name": "python",
   "nbconvert_exporter": "python",
   "pygments_lexer": "ipython2",
   "version": "2.7.12"
  }
 },
 "nbformat": 4,
 "nbformat_minor": 0
}

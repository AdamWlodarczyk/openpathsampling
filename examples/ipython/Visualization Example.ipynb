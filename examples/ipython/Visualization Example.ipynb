{
 "metadata": {
  "name": "",
  "signature": "sha256:356efcdeaae8aee6fb02ff95d838a5ad0e0e960f5c9440963c3a7c955575bae5"
 },
 "nbformat": 3,
 "nbformat_minor": 0,
 "worksheets": [
  {
   "cells": [
    {
     "cell_type": "markdown",
     "metadata": {},
     "source": [
      "## PathTree Visualization Example"
     ]
    },
    {
     "cell_type": "code",
     "collapsed": false,
     "input": [
      "from opentis.storage import Storage\n",
      "from opentis.visualize import PathTreeBuilder\n",
      "from IPython.display import SVG"
     ],
     "language": "python",
     "metadata": {},
     "outputs": [],
     "prompt_number": 1
    },
    {
     "cell_type": "markdown",
     "metadata": {},
     "source": [
      "First load a previously generated trajectory storage object"
     ]
    },
    {
     "cell_type": "markdown",
     "metadata": {},
     "source": [
      "TODO: Change example directory at some point"
     ]
    },
    {
     "cell_type": "code",
     "collapsed": false,
     "input": [
      "storage = Storage('../alanine/trajectory.nc')"
     ],
     "language": "python",
     "metadata": {},
     "outputs": [],
     "prompt_number": 2
    },
    {
     "cell_type": "markdown",
     "metadata": {},
     "source": [
      "Then create a simple tree builder object. The TreeBuilder knows about the way things should be arranged and what to display. It contains a TreeRenderer() object that is in charge of generating the actual SVG output. The renderer knows about zoom levels and scaling, etc."
     ]
    },
    {
     "cell_type": "code",
     "collapsed": false,
     "input": [
      "tree = PathTreeBuilder(storage)"
     ],
     "language": "python",
     "metadata": {},
     "outputs": [],
     "prompt_number": 3
    },
    {
     "cell_type": "markdown",
     "metadata": {},
     "source": [
      "Load a set of samples that belong to a specific ensemble (in this case ensemble with ID 4)"
     ]
    },
    {
     "cell_type": "code",
     "collapsed": false,
     "input": [
      "samples = storage.sample.by_ensemble(storage.ensemble.load(1))"
     ],
     "language": "python",
     "metadata": {},
     "outputs": [],
     "prompt_number": 8
    },
    {
     "cell_type": "markdown",
     "metadata": {},
     "source": [
      "Finally set some options\n",
      "- show rejected paths\n",
      "- show state bars below the snapshot boxes, here for StateA in black\n",
      "- use a transformed orderparameter, here use psi angles and convert to degrees\n",
      "\n",
      "and then create the set of drawing commands for this setting from the list of samples"
     ]
    },
    {
     "cell_type": "code",
     "collapsed": false,
     "input": [
      "len(samples)"
     ],
     "language": "python",
     "metadata": {},
     "outputs": [
      {
       "metadata": {},
       "output_type": "pyout",
       "prompt_number": 9,
       "text": [
        "1"
       ]
      }
     ],
     "prompt_number": 9
    },
    {
     "cell_type": "code",
     "collapsed": false,
     "input": [
      "tree.rejected = True\n",
      "tree.states = [('StateA','black')]\n",
      "tree.op = storage.collectivevariable.load('psi').get_transformed_view(lambda x : int(x / 3.141592653 * 180))\n",
      "tree.from_samples(samples)"
     ],
     "language": "python",
     "metadata": {},
     "outputs": [],
     "prompt_number": 10
    },
    {
     "cell_type": "markdown",
     "metadata": {},
     "source": [
      "Last, tweak the output to be a little bigger, increase a fontsize and output the SVG to the ipython notebook"
     ]
    },
    {
     "cell_type": "code",
     "collapsed": false,
     "input": [
      "view = tree.renderer\n",
      "view.zoom = 1.1\n",
      "view.font_size = 0.35\n",
      "SVG(view.to_svg())"
     ],
     "language": "python",
     "metadata": {},
     "outputs": [
      {
       "metadata": {},
       "output_type": "pyout",
       "prompt_number": 11,
       "svg": [
        "<svg baseProfile=\"full\" height=\"79.2px\" version=\"1.1\" width=\"739.2px\" xmlns=\"http://www.w3.org/2000/svg\" xmlns:ev=\"http://www.w3.org/2001/xml-events\" xmlns:xlink=\"http://www.w3.org/1999/xlink\"><defs/><rect fill=\"black\" height=\"2.64\" stroke=\"black\" stroke-width=\"1.32\" width=\"396.0\" x=\"290.4\" y=\"62.04\"/><rect fill=\"black\" height=\"2.64\" stroke=\"black\" stroke-width=\"1.32\" width=\"26.4\" x=\"369.6\" y=\"35.64\"/><rect fill=\"black\" height=\"2.64\" stroke=\"black\" stroke-width=\"1.32\" width=\"26.4\" x=\"26.4\" y=\"35.64\"/><rect fill=\"black\" height=\"15.84\" width=\"23.76\" x=\"27.72\" y=\"18.48\"/><circle cx=\"26.4\" cy=\"26.4\" fill=\"black\" r=\"1.32\" stroke=\"black\" stroke-width=\"0\"/><circle cx=\"52.8\" cy=\"26.4\" fill=\"black\" r=\"1.32\" stroke=\"black\" stroke-width=\"0\"/><text alignment-baseline=\"middle\" fill=\"white\" font-family=\"Futura\" font-size=\"9.24\" text-anchor=\"middle\" x=\"39.6\" y=\"27.72\">-34</text><rect fill=\"black\" height=\"15.84\" width=\"23.76\" x=\"54.12\" y=\"18.48\"/><circle cx=\"52.8\" cy=\"26.4\" fill=\"black\" r=\"1.32\" stroke=\"black\" stroke-width=\"0\"/><circle cx=\"79.2\" cy=\"26.4\" fill=\"black\" r=\"1.32\" stroke=\"black\" stroke-width=\"0\"/><text alignment-baseline=\"middle\" fill=\"white\" font-family=\"Futura\" font-size=\"9.24\" text-anchor=\"middle\" x=\"66.0\" y=\"27.72\">-26</text><rect fill=\"black\" height=\"15.84\" width=\"23.76\" x=\"80.52\" y=\"18.48\"/><circle cx=\"79.2\" cy=\"26.4\" fill=\"black\" r=\"1.32\" stroke=\"black\" stroke-width=\"0\"/><circle cx=\"105.6\" cy=\"26.4\" fill=\"black\" r=\"1.32\" stroke=\"black\" stroke-width=\"0\"/><text alignment-baseline=\"middle\" fill=\"white\" font-family=\"Futura\" font-size=\"9.24\" text-anchor=\"middle\" x=\"92.4\" y=\"27.72\">-26</text><rect fill=\"black\" height=\"15.84\" width=\"23.76\" x=\"106.92\" y=\"18.48\"/><circle cx=\"105.6\" cy=\"26.4\" fill=\"black\" r=\"1.32\" stroke=\"black\" stroke-width=\"0\"/><circle cx=\"132.0\" cy=\"26.4\" fill=\"black\" r=\"1.32\" stroke=\"black\" stroke-width=\"0\"/><text alignment-baseline=\"middle\" fill=\"white\" font-family=\"Futura\" font-size=\"9.24\" text-anchor=\"middle\" x=\"118.8\" y=\"27.72\">-25</text><rect fill=\"black\" height=\"15.84\" width=\"23.76\" x=\"133.32\" y=\"18.48\"/><circle cx=\"132.0\" cy=\"26.4\" fill=\"black\" r=\"1.32\" stroke=\"black\" stroke-width=\"0\"/><circle cx=\"158.4\" cy=\"26.4\" fill=\"black\" r=\"1.32\" stroke=\"black\" stroke-width=\"0\"/><text alignment-baseline=\"middle\" fill=\"white\" font-family=\"Futura\" font-size=\"9.24\" text-anchor=\"middle\" x=\"145.2\" y=\"27.72\">-28</text><rect fill=\"black\" height=\"15.84\" width=\"23.76\" x=\"159.72\" y=\"18.48\"/><circle cx=\"158.4\" cy=\"26.4\" fill=\"black\" r=\"1.32\" stroke=\"black\" stroke-width=\"0\"/><circle cx=\"184.8\" cy=\"26.4\" fill=\"black\" r=\"1.32\" stroke=\"black\" stroke-width=\"0\"/><text alignment-baseline=\"middle\" fill=\"white\" font-family=\"Futura\" font-size=\"9.24\" text-anchor=\"middle\" x=\"171.6\" y=\"27.72\">-27</text><rect fill=\"black\" height=\"15.84\" width=\"23.76\" x=\"186.12\" y=\"18.48\"/><circle cx=\"184.8\" cy=\"26.4\" fill=\"black\" r=\"1.32\" stroke=\"black\" stroke-width=\"0\"/><circle cx=\"211.2\" cy=\"26.4\" fill=\"black\" r=\"1.32\" stroke=\"black\" stroke-width=\"0\"/><text alignment-baseline=\"middle\" fill=\"white\" font-family=\"Futura\" font-size=\"9.24\" text-anchor=\"middle\" x=\"198.0\" y=\"27.72\">-27</text><rect fill=\"black\" height=\"15.84\" width=\"23.76\" x=\"212.52\" y=\"18.48\"/><circle cx=\"211.2\" cy=\"26.4\" fill=\"black\" r=\"1.32\" stroke=\"black\" stroke-width=\"0\"/><circle cx=\"237.6\" cy=\"26.4\" fill=\"black\" r=\"1.32\" stroke=\"black\" stroke-width=\"0\"/><text alignment-baseline=\"middle\" fill=\"white\" font-family=\"Futura\" font-size=\"9.24\" text-anchor=\"middle\" x=\"224.4\" y=\"27.72\">-22</text><rect fill=\"black\" height=\"15.84\" width=\"23.76\" x=\"238.92\" y=\"18.48\"/><circle cx=\"237.6\" cy=\"26.4\" fill=\"black\" r=\"1.32\" stroke=\"black\" stroke-width=\"0\"/><circle cx=\"264.0\" cy=\"26.4\" fill=\"black\" r=\"1.32\" stroke=\"black\" stroke-width=\"0\"/><text alignment-baseline=\"middle\" fill=\"white\" font-family=\"Futura\" font-size=\"9.24\" text-anchor=\"middle\" x=\"250.8\" y=\"27.72\">-24</text><rect fill=\"black\" height=\"15.84\" width=\"23.76\" x=\"265.32\" y=\"18.48\"/><circle cx=\"264.0\" cy=\"26.4\" fill=\"black\" r=\"1.32\" stroke=\"black\" stroke-width=\"0\"/><circle cx=\"290.4\" cy=\"26.4\" fill=\"black\" r=\"1.32\" stroke=\"black\" stroke-width=\"0\"/><text alignment-baseline=\"middle\" fill=\"white\" font-family=\"Futura\" font-size=\"9.24\" text-anchor=\"middle\" x=\"277.2\" y=\"27.72\">-16</text><rect fill=\"black\" height=\"15.84\" width=\"23.76\" x=\"291.72\" y=\"18.48\"/><circle cx=\"290.4\" cy=\"26.4\" fill=\"black\" r=\"1.32\" stroke=\"black\" stroke-width=\"0\"/><circle cx=\"316.8\" cy=\"26.4\" fill=\"black\" r=\"1.32\" stroke=\"black\" stroke-width=\"0\"/><text alignment-baseline=\"middle\" fill=\"white\" font-family=\"Futura\" font-size=\"9.24\" text-anchor=\"middle\" x=\"303.6\" y=\"27.72\">-28</text><rect fill=\"black\" height=\"15.84\" width=\"23.76\" x=\"318.12\" y=\"18.48\"/><circle cx=\"316.8\" cy=\"26.4\" fill=\"black\" r=\"1.32\" stroke=\"black\" stroke-width=\"0\"/><circle cx=\"343.2\" cy=\"26.4\" fill=\"black\" r=\"1.32\" stroke=\"black\" stroke-width=\"0\"/><text alignment-baseline=\"middle\" fill=\"white\" font-family=\"Futura\" font-size=\"9.24\" text-anchor=\"middle\" x=\"330.0\" y=\"27.72\">-19</text><rect fill=\"black\" height=\"15.84\" width=\"23.76\" x=\"344.52\" y=\"18.48\"/><circle cx=\"343.2\" cy=\"26.4\" fill=\"black\" r=\"1.32\" stroke=\"black\" stroke-width=\"0\"/><circle cx=\"369.6\" cy=\"26.4\" fill=\"black\" r=\"1.32\" stroke=\"black\" stroke-width=\"0\"/><text alignment-baseline=\"middle\" fill=\"white\" font-family=\"Futura\" font-size=\"9.24\" text-anchor=\"middle\" x=\"356.4\" y=\"27.72\">-29</text><rect fill=\"black\" height=\"15.84\" width=\"23.76\" x=\"370.92\" y=\"18.48\"/><circle cx=\"369.6\" cy=\"26.4\" fill=\"black\" r=\"1.32\" stroke=\"black\" stroke-width=\"0\"/><circle cx=\"396.0\" cy=\"26.4\" fill=\"black\" r=\"1.32\" stroke=\"black\" stroke-width=\"0\"/><text alignment-baseline=\"middle\" fill=\"white\" font-family=\"Futura\" font-size=\"9.24\" text-anchor=\"middle\" x=\"382.8\" y=\"27.72\">-34</text><text alignment-baseline=\"middle\" fill=\"black\" font-family=\"Futura\" font-size=\"9.24\" text-anchor=\"end\" x=\"21.12\" y=\"27.72\">1b</text><line stroke=\"gray\" stroke-width=\"1.32\" x1=\"105.6\" x2=\"105.6\" y1=\"27.72\" y2=\"51.48\"/><text alignment-baseline=\"middle\" fill=\"gray\" font-family=\"Futura\" font-size=\"9.24\" text-anchor=\"start\" x=\"718.08\" y=\"54.12\">1f</text><rect fill=\"gray\" height=\"15.84\" width=\"23.76\" x=\"106.92\" y=\"44.88\"/><circle cx=\"105.6\" cy=\"52.8\" fill=\"gray\" r=\"1.32\" stroke=\"gray\" stroke-width=\"0\"/><circle cx=\"132.0\" cy=\"52.8\" fill=\"gray\" r=\"1.32\" stroke=\"gray\" stroke-width=\"0\"/><text alignment-baseline=\"middle\" fill=\"white\" font-family=\"Futura\" font-size=\"9.24\" text-anchor=\"middle\" x=\"118.8\" y=\"54.12\">-25</text><rect fill=\"gray\" height=\"15.84\" width=\"23.76\" x=\"133.32\" y=\"44.88\"/><circle cx=\"132.0\" cy=\"52.8\" fill=\"gray\" r=\"1.32\" stroke=\"gray\" stroke-width=\"0\"/><circle cx=\"158.4\" cy=\"52.8\" fill=\"gray\" r=\"1.32\" stroke=\"gray\" stroke-width=\"0\"/><text alignment-baseline=\"middle\" fill=\"white\" font-family=\"Futura\" font-size=\"9.24\" text-anchor=\"middle\" x=\"145.2\" y=\"54.12\">-26</text><rect fill=\"gray\" height=\"15.84\" width=\"23.76\" x=\"159.72\" y=\"44.88\"/><circle cx=\"158.4\" cy=\"52.8\" fill=\"gray\" r=\"1.32\" stroke=\"gray\" stroke-width=\"0\"/><circle cx=\"184.8\" cy=\"52.8\" fill=\"gray\" r=\"1.32\" stroke=\"gray\" stroke-width=\"0\"/><text alignment-baseline=\"middle\" fill=\"white\" font-family=\"Futura\" font-size=\"9.24\" text-anchor=\"middle\" x=\"171.6\" y=\"54.12\">-27</text><rect fill=\"gray\" height=\"15.84\" width=\"23.76\" x=\"186.12\" y=\"44.88\"/><circle cx=\"184.8\" cy=\"52.8\" fill=\"gray\" r=\"1.32\" stroke=\"gray\" stroke-width=\"0\"/><circle cx=\"211.2\" cy=\"52.8\" fill=\"gray\" r=\"1.32\" stroke=\"gray\" stroke-width=\"0\"/><text alignment-baseline=\"middle\" fill=\"white\" font-family=\"Futura\" font-size=\"9.24\" text-anchor=\"middle\" x=\"198.0\" y=\"54.12\">-27</text><rect fill=\"gray\" height=\"15.84\" width=\"23.76\" x=\"212.52\" y=\"44.88\"/><circle cx=\"211.2\" cy=\"52.8\" fill=\"gray\" r=\"1.32\" stroke=\"gray\" stroke-width=\"0\"/><circle cx=\"237.6\" cy=\"52.8\" fill=\"gray\" r=\"1.32\" stroke=\"gray\" stroke-width=\"0\"/><text alignment-baseline=\"middle\" fill=\"white\" font-family=\"Futura\" font-size=\"9.24\" text-anchor=\"middle\" x=\"224.4\" y=\"54.12\">-22</text><rect fill=\"gray\" height=\"15.84\" width=\"23.76\" x=\"238.92\" y=\"44.88\"/><circle cx=\"237.6\" cy=\"52.8\" fill=\"gray\" r=\"1.32\" stroke=\"gray\" stroke-width=\"0\"/><circle cx=\"264.0\" cy=\"52.8\" fill=\"gray\" r=\"1.32\" stroke=\"gray\" stroke-width=\"0\"/><text alignment-baseline=\"middle\" fill=\"white\" font-family=\"Futura\" font-size=\"9.24\" text-anchor=\"middle\" x=\"250.8\" y=\"54.12\">-26</text><rect fill=\"gray\" height=\"15.84\" width=\"23.76\" x=\"265.32\" y=\"44.88\"/><circle cx=\"264.0\" cy=\"52.8\" fill=\"gray\" r=\"1.32\" stroke=\"gray\" stroke-width=\"0\"/><circle cx=\"290.4\" cy=\"52.8\" fill=\"gray\" r=\"1.32\" stroke=\"gray\" stroke-width=\"0\"/><text alignment-baseline=\"middle\" fill=\"white\" font-family=\"Futura\" font-size=\"9.24\" text-anchor=\"middle\" x=\"277.2\" y=\"54.12\">-20</text><rect fill=\"gray\" height=\"15.84\" width=\"23.76\" x=\"291.72\" y=\"44.88\"/><circle cx=\"290.4\" cy=\"52.8\" fill=\"gray\" r=\"1.32\" stroke=\"gray\" stroke-width=\"0\"/><circle cx=\"316.8\" cy=\"52.8\" fill=\"gray\" r=\"1.32\" stroke=\"gray\" stroke-width=\"0\"/><text alignment-baseline=\"middle\" fill=\"white\" font-family=\"Futura\" font-size=\"9.24\" text-anchor=\"middle\" x=\"303.6\" y=\"54.12\">-32</text><rect fill=\"gray\" height=\"15.84\" width=\"23.76\" x=\"318.12\" y=\"44.88\"/><circle cx=\"316.8\" cy=\"52.8\" fill=\"gray\" r=\"1.32\" stroke=\"gray\" stroke-width=\"0\"/><circle cx=\"343.2\" cy=\"52.8\" fill=\"gray\" r=\"1.32\" stroke=\"gray\" stroke-width=\"0\"/><text alignment-baseline=\"middle\" fill=\"white\" font-family=\"Futura\" font-size=\"9.24\" text-anchor=\"middle\" x=\"330.0\" y=\"54.12\">-30</text><rect fill=\"gray\" height=\"15.84\" width=\"23.76\" x=\"344.52\" y=\"44.88\"/><circle cx=\"343.2\" cy=\"52.8\" fill=\"gray\" r=\"1.32\" stroke=\"gray\" stroke-width=\"0\"/><circle cx=\"369.6\" cy=\"52.8\" fill=\"gray\" r=\"1.32\" stroke=\"gray\" stroke-width=\"0\"/><text alignment-baseline=\"middle\" fill=\"white\" font-family=\"Futura\" font-size=\"9.24\" text-anchor=\"middle\" x=\"356.4\" y=\"54.12\">-38</text><rect fill=\"gray\" height=\"15.84\" width=\"23.76\" x=\"370.92\" y=\"44.88\"/><circle cx=\"369.6\" cy=\"52.8\" fill=\"gray\" r=\"1.32\" stroke=\"gray\" stroke-width=\"0\"/><circle cx=\"396.0\" cy=\"52.8\" fill=\"gray\" r=\"1.32\" stroke=\"gray\" stroke-width=\"0\"/><text alignment-baseline=\"middle\" fill=\"white\" font-family=\"Futura\" font-size=\"9.24\" text-anchor=\"middle\" x=\"382.8\" y=\"54.12\">-48</text><rect fill=\"gray\" height=\"15.84\" width=\"23.76\" x=\"397.32\" y=\"44.88\"/><circle cx=\"396.0\" cy=\"52.8\" fill=\"gray\" r=\"1.32\" stroke=\"gray\" stroke-width=\"0\"/><circle cx=\"422.4\" cy=\"52.8\" fill=\"gray\" r=\"1.32\" stroke=\"gray\" stroke-width=\"0\"/><text alignment-baseline=\"middle\" fill=\"white\" font-family=\"Futura\" font-size=\"9.24\" text-anchor=\"middle\" x=\"409.2\" y=\"54.12\">-40</text><rect fill=\"gray\" height=\"15.84\" width=\"23.76\" x=\"423.72\" y=\"44.88\"/><circle cx=\"422.4\" cy=\"52.8\" fill=\"gray\" r=\"1.32\" stroke=\"gray\" stroke-width=\"0\"/><circle cx=\"448.8\" cy=\"52.8\" fill=\"gray\" r=\"1.32\" stroke=\"gray\" stroke-width=\"0\"/><text alignment-baseline=\"middle\" fill=\"white\" font-family=\"Futura\" font-size=\"9.24\" text-anchor=\"middle\" x=\"435.6\" y=\"54.12\">-65</text><rect fill=\"gray\" height=\"15.84\" width=\"23.76\" x=\"450.12\" y=\"44.88\"/><circle cx=\"448.8\" cy=\"52.8\" fill=\"gray\" r=\"1.32\" stroke=\"gray\" stroke-width=\"0\"/><circle cx=\"475.2\" cy=\"52.8\" fill=\"gray\" r=\"1.32\" stroke=\"gray\" stroke-width=\"0\"/><text alignment-baseline=\"middle\" fill=\"white\" font-family=\"Futura\" font-size=\"9.24\" text-anchor=\"middle\" x=\"462.0\" y=\"54.12\">-45</text><rect fill=\"gray\" height=\"15.84\" width=\"23.76\" x=\"476.52\" y=\"44.88\"/><circle cx=\"475.2\" cy=\"52.8\" fill=\"gray\" r=\"1.32\" stroke=\"gray\" stroke-width=\"0\"/><circle cx=\"501.6\" cy=\"52.8\" fill=\"gray\" r=\"1.32\" stroke=\"gray\" stroke-width=\"0\"/><text alignment-baseline=\"middle\" fill=\"white\" font-family=\"Futura\" font-size=\"9.24\" text-anchor=\"middle\" x=\"488.4\" y=\"54.12\">-63</text><rect fill=\"gray\" height=\"15.84\" width=\"23.76\" x=\"502.92\" y=\"44.88\"/><circle cx=\"501.6\" cy=\"52.8\" fill=\"gray\" r=\"1.32\" stroke=\"gray\" stroke-width=\"0\"/><circle cx=\"528.0\" cy=\"52.8\" fill=\"gray\" r=\"1.32\" stroke=\"gray\" stroke-width=\"0\"/><text alignment-baseline=\"middle\" fill=\"white\" font-family=\"Futura\" font-size=\"9.24\" text-anchor=\"middle\" x=\"514.8\" y=\"54.12\">-60</text><rect fill=\"gray\" height=\"15.84\" width=\"23.76\" x=\"529.32\" y=\"44.88\"/><circle cx=\"528.0\" cy=\"52.8\" fill=\"gray\" r=\"1.32\" stroke=\"gray\" stroke-width=\"0\"/><circle cx=\"554.4\" cy=\"52.8\" fill=\"gray\" r=\"1.32\" stroke=\"gray\" stroke-width=\"0\"/><text alignment-baseline=\"middle\" fill=\"white\" font-family=\"Futura\" font-size=\"9.24\" text-anchor=\"middle\" x=\"541.2\" y=\"54.12\">-61</text><rect fill=\"gray\" height=\"15.84\" width=\"23.76\" x=\"555.72\" y=\"44.88\"/><circle cx=\"554.4\" cy=\"52.8\" fill=\"gray\" r=\"1.32\" stroke=\"gray\" stroke-width=\"0\"/><circle cx=\"580.8\" cy=\"52.8\" fill=\"gray\" r=\"1.32\" stroke=\"gray\" stroke-width=\"0\"/><text alignment-baseline=\"middle\" fill=\"white\" font-family=\"Futura\" font-size=\"9.24\" text-anchor=\"middle\" x=\"567.6\" y=\"54.12\">-64</text><rect fill=\"gray\" height=\"15.84\" width=\"23.76\" x=\"582.12\" y=\"44.88\"/><circle cx=\"580.8\" cy=\"52.8\" fill=\"gray\" r=\"1.32\" stroke=\"gray\" stroke-width=\"0\"/><circle cx=\"607.2\" cy=\"52.8\" fill=\"gray\" r=\"1.32\" stroke=\"gray\" stroke-width=\"0\"/><text alignment-baseline=\"middle\" fill=\"white\" font-family=\"Futura\" font-size=\"9.24\" text-anchor=\"middle\" x=\"594.0\" y=\"54.12\">-55</text><rect fill=\"gray\" height=\"15.84\" width=\"23.76\" x=\"608.52\" y=\"44.88\"/><circle cx=\"607.2\" cy=\"52.8\" fill=\"gray\" r=\"1.32\" stroke=\"gray\" stroke-width=\"0\"/><circle cx=\"633.6\" cy=\"52.8\" fill=\"gray\" r=\"1.32\" stroke=\"gray\" stroke-width=\"0\"/><text alignment-baseline=\"middle\" fill=\"white\" font-family=\"Futura\" font-size=\"9.24\" text-anchor=\"middle\" x=\"620.4\" y=\"54.12\">-56</text><rect fill=\"gray\" height=\"15.84\" width=\"23.76\" x=\"634.92\" y=\"44.88\"/><circle cx=\"633.6\" cy=\"52.8\" fill=\"gray\" r=\"1.32\" stroke=\"gray\" stroke-width=\"0\"/><circle cx=\"660.0\" cy=\"52.8\" fill=\"gray\" r=\"1.32\" stroke=\"gray\" stroke-width=\"0\"/><text alignment-baseline=\"middle\" fill=\"white\" font-family=\"Futura\" font-size=\"9.24\" text-anchor=\"middle\" x=\"646.8\" y=\"54.12\">-43</text><rect fill=\"gray\" height=\"15.84\" width=\"23.76\" x=\"661.32\" y=\"44.88\"/><circle cx=\"660.0\" cy=\"52.8\" fill=\"gray\" r=\"1.32\" stroke=\"gray\" stroke-width=\"0\"/><circle cx=\"686.4\" cy=\"52.8\" fill=\"gray\" r=\"1.32\" stroke=\"gray\" stroke-width=\"0\"/><text alignment-baseline=\"middle\" fill=\"white\" font-family=\"Futura\" font-size=\"9.24\" text-anchor=\"middle\" x=\"673.2\" y=\"54.12\">-48</text><rect fill=\"gray\" height=\"15.84\" width=\"23.76\" x=\"687.72\" y=\"44.88\"/><circle cx=\"686.4\" cy=\"52.8\" fill=\"gray\" r=\"1.32\" stroke=\"gray\" stroke-width=\"0\"/><circle cx=\"712.8\" cy=\"52.8\" fill=\"gray\" r=\"1.32\" stroke=\"gray\" stroke-width=\"0\"/><text alignment-baseline=\"middle\" fill=\"white\" font-family=\"Futura\" font-size=\"9.24\" text-anchor=\"middle\" x=\"699.6\" y=\"54.12\">-26</text></svg>"
       ],
       "text": [
        "<IPython.core.display.SVG at 0x1127935d0>"
       ]
      }
     ],
     "prompt_number": 11
    },
    {
     "cell_type": "markdown",
     "metadata": {},
     "source": [
      "Or more similar to the old style"
     ]
    },
    {
     "cell_type": "code",
     "collapsed": false,
     "input": [
      "tree.rejected = True\n",
      "tree.states = []\n",
      "tree.op = None\n",
      "tree.from_samples(samples)\n",
      "view = tree.renderer\n",
      "view.zoom = 1.1\n",
      "view.horizontal_gap = -0.01\n",
      "view.scale_y = 15\n",
      "view.scale_x = 4\n",
      "view.font_size = 0.8\n",
      "view.font_family = 'Times'\n",
      "SVG(view.to_svg())"
     ],
     "language": "python",
     "metadata": {},
     "outputs": [
      {
       "metadata": {},
       "output_type": "pyout",
       "prompt_number": 12,
       "svg": [
        "<svg baseProfile=\"full\" height=\"49.5px\" version=\"1.1\" width=\"123.2px\" xmlns=\"http://www.w3.org/2000/svg\" xmlns:ev=\"http://www.w3.org/2001/xml-events\" xmlns:xlink=\"http://www.w3.org/1999/xlink\"><defs/><rect fill=\"black\" height=\"9.9\" width=\"4.488\" x=\"4.356\" y=\"11.55\"/><circle cx=\"4.4\" cy=\"16.5\" fill=\"black\" r=\"-0.044\" stroke=\"black\" stroke-width=\"0\"/><circle cx=\"8.8\" cy=\"16.5\" fill=\"black\" r=\"-0.044\" stroke=\"black\" stroke-width=\"0\"/><text alignment-baseline=\"middle\" fill=\"white\" font-family=\"Times\" font-size=\"13.2\" text-anchor=\"middle\" x=\"6.6\" y=\"17.325\"/><rect fill=\"black\" height=\"9.9\" width=\"4.488\" x=\"8.756\" y=\"11.55\"/><circle cx=\"8.8\" cy=\"16.5\" fill=\"black\" r=\"-0.044\" stroke=\"black\" stroke-width=\"0\"/><circle cx=\"13.2\" cy=\"16.5\" fill=\"black\" r=\"-0.044\" stroke=\"black\" stroke-width=\"0\"/><text alignment-baseline=\"middle\" fill=\"white\" font-family=\"Times\" font-size=\"13.2\" text-anchor=\"middle\" x=\"11.0\" y=\"17.325\"/><rect fill=\"black\" height=\"9.9\" width=\"4.488\" x=\"13.156\" y=\"11.55\"/><circle cx=\"13.2\" cy=\"16.5\" fill=\"black\" r=\"-0.044\" stroke=\"black\" stroke-width=\"0\"/><circle cx=\"17.6\" cy=\"16.5\" fill=\"black\" r=\"-0.044\" stroke=\"black\" stroke-width=\"0\"/><text alignment-baseline=\"middle\" fill=\"white\" font-family=\"Times\" font-size=\"13.2\" text-anchor=\"middle\" x=\"15.4\" y=\"17.325\"/><rect fill=\"black\" height=\"9.9\" width=\"4.488\" x=\"17.556\" y=\"11.55\"/><circle cx=\"17.6\" cy=\"16.5\" fill=\"black\" r=\"-0.044\" stroke=\"black\" stroke-width=\"0\"/><circle cx=\"22.0\" cy=\"16.5\" fill=\"black\" r=\"-0.044\" stroke=\"black\" stroke-width=\"0\"/><text alignment-baseline=\"middle\" fill=\"white\" font-family=\"Times\" font-size=\"13.2\" text-anchor=\"middle\" x=\"19.8\" y=\"17.325\"/><rect fill=\"black\" height=\"9.9\" width=\"4.488\" x=\"21.956\" y=\"11.55\"/><circle cx=\"22.0\" cy=\"16.5\" fill=\"black\" r=\"-0.044\" stroke=\"black\" stroke-width=\"0\"/><circle cx=\"26.4\" cy=\"16.5\" fill=\"black\" r=\"-0.044\" stroke=\"black\" stroke-width=\"0\"/><text alignment-baseline=\"middle\" fill=\"white\" font-family=\"Times\" font-size=\"13.2\" text-anchor=\"middle\" x=\"24.2\" y=\"17.325\"/><rect fill=\"black\" height=\"9.9\" width=\"4.488\" x=\"26.356\" y=\"11.55\"/><circle cx=\"26.4\" cy=\"16.5\" fill=\"black\" r=\"-0.044\" stroke=\"black\" stroke-width=\"0\"/><circle cx=\"30.8\" cy=\"16.5\" fill=\"black\" r=\"-0.044\" stroke=\"black\" stroke-width=\"0\"/><text alignment-baseline=\"middle\" fill=\"white\" font-family=\"Times\" font-size=\"13.2\" text-anchor=\"middle\" x=\"28.6\" y=\"17.325\"/><rect fill=\"black\" height=\"9.9\" width=\"4.488\" x=\"30.756\" y=\"11.55\"/><circle cx=\"30.8\" cy=\"16.5\" fill=\"black\" r=\"-0.044\" stroke=\"black\" stroke-width=\"0\"/><circle cx=\"35.2\" cy=\"16.5\" fill=\"black\" r=\"-0.044\" stroke=\"black\" stroke-width=\"0\"/><text alignment-baseline=\"middle\" fill=\"white\" font-family=\"Times\" font-size=\"13.2\" text-anchor=\"middle\" x=\"33.0\" y=\"17.325\"/><rect fill=\"black\" height=\"9.9\" width=\"4.488\" x=\"35.156\" y=\"11.55\"/><circle cx=\"35.2\" cy=\"16.5\" fill=\"black\" r=\"-0.044\" stroke=\"black\" stroke-width=\"0\"/><circle cx=\"39.6\" cy=\"16.5\" fill=\"black\" r=\"-0.044\" stroke=\"black\" stroke-width=\"0\"/><text alignment-baseline=\"middle\" fill=\"white\" font-family=\"Times\" font-size=\"13.2\" text-anchor=\"middle\" x=\"37.4\" y=\"17.325\"/><rect fill=\"black\" height=\"9.9\" width=\"4.488\" x=\"39.556\" y=\"11.55\"/><circle cx=\"39.6\" cy=\"16.5\" fill=\"black\" r=\"-0.044\" stroke=\"black\" stroke-width=\"0\"/><circle cx=\"44.0\" cy=\"16.5\" fill=\"black\" r=\"-0.044\" stroke=\"black\" stroke-width=\"0\"/><text alignment-baseline=\"middle\" fill=\"white\" font-family=\"Times\" font-size=\"13.2\" text-anchor=\"middle\" x=\"41.8\" y=\"17.325\"/><rect fill=\"black\" height=\"9.9\" width=\"4.488\" x=\"43.956\" y=\"11.55\"/><circle cx=\"44.0\" cy=\"16.5\" fill=\"black\" r=\"-0.044\" stroke=\"black\" stroke-width=\"0\"/><circle cx=\"48.4\" cy=\"16.5\" fill=\"black\" r=\"-0.044\" stroke=\"black\" stroke-width=\"0\"/><text alignment-baseline=\"middle\" fill=\"white\" font-family=\"Times\" font-size=\"13.2\" text-anchor=\"middle\" x=\"46.2\" y=\"17.325\"/><rect fill=\"black\" height=\"9.9\" width=\"4.488\" x=\"48.356\" y=\"11.55\"/><circle cx=\"48.4\" cy=\"16.5\" fill=\"black\" r=\"-0.044\" stroke=\"black\" stroke-width=\"0\"/><circle cx=\"52.8\" cy=\"16.5\" fill=\"black\" r=\"-0.044\" stroke=\"black\" stroke-width=\"0\"/><text alignment-baseline=\"middle\" fill=\"white\" font-family=\"Times\" font-size=\"13.2\" text-anchor=\"middle\" x=\"50.6\" y=\"17.325\"/><rect fill=\"black\" height=\"9.9\" width=\"4.488\" x=\"52.756\" y=\"11.55\"/><circle cx=\"52.8\" cy=\"16.5\" fill=\"black\" r=\"-0.044\" stroke=\"black\" stroke-width=\"0\"/><circle cx=\"57.2\" cy=\"16.5\" fill=\"black\" r=\"-0.044\" stroke=\"black\" stroke-width=\"0\"/><text alignment-baseline=\"middle\" fill=\"white\" font-family=\"Times\" font-size=\"13.2\" text-anchor=\"middle\" x=\"55.0\" y=\"17.325\"/><rect fill=\"black\" height=\"9.9\" width=\"4.488\" x=\"57.156\" y=\"11.55\"/><circle cx=\"57.2\" cy=\"16.5\" fill=\"black\" r=\"-0.044\" stroke=\"black\" stroke-width=\"0\"/><circle cx=\"61.6\" cy=\"16.5\" fill=\"black\" r=\"-0.044\" stroke=\"black\" stroke-width=\"0\"/><text alignment-baseline=\"middle\" fill=\"white\" font-family=\"Times\" font-size=\"13.2\" text-anchor=\"middle\" x=\"59.4\" y=\"17.325\"/><rect fill=\"black\" height=\"9.9\" width=\"4.488\" x=\"61.556\" y=\"11.55\"/><circle cx=\"61.6\" cy=\"16.5\" fill=\"black\" r=\"-0.044\" stroke=\"black\" stroke-width=\"0\"/><circle cx=\"66.0\" cy=\"16.5\" fill=\"black\" r=\"-0.044\" stroke=\"black\" stroke-width=\"0\"/><text alignment-baseline=\"middle\" fill=\"white\" font-family=\"Times\" font-size=\"13.2\" text-anchor=\"middle\" x=\"63.8\" y=\"17.325\"/><text alignment-baseline=\"middle\" fill=\"black\" font-family=\"Times\" font-size=\"13.2\" text-anchor=\"end\" x=\"3.52\" y=\"17.325\">1b</text><line stroke=\"gray\" stroke-width=\"1.32\" x1=\"17.6\" x2=\"17.6\" y1=\"16.335\" y2=\"33.165\"/><text alignment-baseline=\"middle\" fill=\"gray\" font-family=\"Times\" font-size=\"13.2\" text-anchor=\"start\" x=\"119.68\" y=\"33.825\">1f</text><rect fill=\"gray\" height=\"9.9\" width=\"4.488\" x=\"17.556\" y=\"28.05\"/><circle cx=\"17.6\" cy=\"33.0\" fill=\"gray\" r=\"-0.044\" stroke=\"gray\" stroke-width=\"0\"/><circle cx=\"22.0\" cy=\"33.0\" fill=\"gray\" r=\"-0.044\" stroke=\"gray\" stroke-width=\"0\"/><text alignment-baseline=\"middle\" fill=\"white\" font-family=\"Times\" font-size=\"13.2\" text-anchor=\"middle\" x=\"19.8\" y=\"33.825\"/><rect fill=\"gray\" height=\"9.9\" width=\"4.488\" x=\"21.956\" y=\"28.05\"/><circle cx=\"22.0\" cy=\"33.0\" fill=\"gray\" r=\"-0.044\" stroke=\"gray\" stroke-width=\"0\"/><circle cx=\"26.4\" cy=\"33.0\" fill=\"gray\" r=\"-0.044\" stroke=\"gray\" stroke-width=\"0\"/><text alignment-baseline=\"middle\" fill=\"white\" font-family=\"Times\" font-size=\"13.2\" text-anchor=\"middle\" x=\"24.2\" y=\"33.825\"/><rect fill=\"gray\" height=\"9.9\" width=\"4.488\" x=\"26.356\" y=\"28.05\"/><circle cx=\"26.4\" cy=\"33.0\" fill=\"gray\" r=\"-0.044\" stroke=\"gray\" stroke-width=\"0\"/><circle cx=\"30.8\" cy=\"33.0\" fill=\"gray\" r=\"-0.044\" stroke=\"gray\" stroke-width=\"0\"/><text alignment-baseline=\"middle\" fill=\"white\" font-family=\"Times\" font-size=\"13.2\" text-anchor=\"middle\" x=\"28.6\" y=\"33.825\"/><rect fill=\"gray\" height=\"9.9\" width=\"4.488\" x=\"30.756\" y=\"28.05\"/><circle cx=\"30.8\" cy=\"33.0\" fill=\"gray\" r=\"-0.044\" stroke=\"gray\" stroke-width=\"0\"/><circle cx=\"35.2\" cy=\"33.0\" fill=\"gray\" r=\"-0.044\" stroke=\"gray\" stroke-width=\"0\"/><text alignment-baseline=\"middle\" fill=\"white\" font-family=\"Times\" font-size=\"13.2\" text-anchor=\"middle\" x=\"33.0\" y=\"33.825\"/><rect fill=\"gray\" height=\"9.9\" width=\"4.488\" x=\"35.156\" y=\"28.05\"/><circle cx=\"35.2\" cy=\"33.0\" fill=\"gray\" r=\"-0.044\" stroke=\"gray\" stroke-width=\"0\"/><circle cx=\"39.6\" cy=\"33.0\" fill=\"gray\" r=\"-0.044\" stroke=\"gray\" stroke-width=\"0\"/><text alignment-baseline=\"middle\" fill=\"white\" font-family=\"Times\" font-size=\"13.2\" text-anchor=\"middle\" x=\"37.4\" y=\"33.825\"/><rect fill=\"gray\" height=\"9.9\" width=\"4.488\" x=\"39.556\" y=\"28.05\"/><circle cx=\"39.6\" cy=\"33.0\" fill=\"gray\" r=\"-0.044\" stroke=\"gray\" stroke-width=\"0\"/><circle cx=\"44.0\" cy=\"33.0\" fill=\"gray\" r=\"-0.044\" stroke=\"gray\" stroke-width=\"0\"/><text alignment-baseline=\"middle\" fill=\"white\" font-family=\"Times\" font-size=\"13.2\" text-anchor=\"middle\" x=\"41.8\" y=\"33.825\"/><rect fill=\"gray\" height=\"9.9\" width=\"4.488\" x=\"43.956\" y=\"28.05\"/><circle cx=\"44.0\" cy=\"33.0\" fill=\"gray\" r=\"-0.044\" stroke=\"gray\" stroke-width=\"0\"/><circle cx=\"48.4\" cy=\"33.0\" fill=\"gray\" r=\"-0.044\" stroke=\"gray\" stroke-width=\"0\"/><text alignment-baseline=\"middle\" fill=\"white\" font-family=\"Times\" font-size=\"13.2\" text-anchor=\"middle\" x=\"46.2\" y=\"33.825\"/><rect fill=\"gray\" height=\"9.9\" width=\"4.488\" x=\"48.356\" y=\"28.05\"/><circle cx=\"48.4\" cy=\"33.0\" fill=\"gray\" r=\"-0.044\" stroke=\"gray\" stroke-width=\"0\"/><circle cx=\"52.8\" cy=\"33.0\" fill=\"gray\" r=\"-0.044\" stroke=\"gray\" stroke-width=\"0\"/><text alignment-baseline=\"middle\" fill=\"white\" font-family=\"Times\" font-size=\"13.2\" text-anchor=\"middle\" x=\"50.6\" y=\"33.825\"/><rect fill=\"gray\" height=\"9.9\" width=\"4.488\" x=\"52.756\" y=\"28.05\"/><circle cx=\"52.8\" cy=\"33.0\" fill=\"gray\" r=\"-0.044\" stroke=\"gray\" stroke-width=\"0\"/><circle cx=\"57.2\" cy=\"33.0\" fill=\"gray\" r=\"-0.044\" stroke=\"gray\" stroke-width=\"0\"/><text alignment-baseline=\"middle\" fill=\"white\" font-family=\"Times\" font-size=\"13.2\" text-anchor=\"middle\" x=\"55.0\" y=\"33.825\"/><rect fill=\"gray\" height=\"9.9\" width=\"4.488\" x=\"57.156\" y=\"28.05\"/><circle cx=\"57.2\" cy=\"33.0\" fill=\"gray\" r=\"-0.044\" stroke=\"gray\" stroke-width=\"0\"/><circle cx=\"61.6\" cy=\"33.0\" fill=\"gray\" r=\"-0.044\" stroke=\"gray\" stroke-width=\"0\"/><text alignment-baseline=\"middle\" fill=\"white\" font-family=\"Times\" font-size=\"13.2\" text-anchor=\"middle\" x=\"59.4\" y=\"33.825\"/><rect fill=\"gray\" height=\"9.9\" width=\"4.488\" x=\"61.556\" y=\"28.05\"/><circle cx=\"61.6\" cy=\"33.0\" fill=\"gray\" r=\"-0.044\" stroke=\"gray\" stroke-width=\"0\"/><circle cx=\"66.0\" cy=\"33.0\" fill=\"gray\" r=\"-0.044\" stroke=\"gray\" stroke-width=\"0\"/><text alignment-baseline=\"middle\" fill=\"white\" font-family=\"Times\" font-size=\"13.2\" text-anchor=\"middle\" x=\"63.8\" y=\"33.825\"/><rect fill=\"gray\" height=\"9.9\" width=\"4.488\" x=\"65.956\" y=\"28.05\"/><circle cx=\"66.0\" cy=\"33.0\" fill=\"gray\" r=\"-0.044\" stroke=\"gray\" stroke-width=\"0\"/><circle cx=\"70.4\" cy=\"33.0\" fill=\"gray\" r=\"-0.044\" stroke=\"gray\" stroke-width=\"0\"/><text alignment-baseline=\"middle\" fill=\"white\" font-family=\"Times\" font-size=\"13.2\" text-anchor=\"middle\" x=\"68.2\" y=\"33.825\"/><rect fill=\"gray\" height=\"9.9\" width=\"4.488\" x=\"70.356\" y=\"28.05\"/><circle cx=\"70.4\" cy=\"33.0\" fill=\"gray\" r=\"-0.044\" stroke=\"gray\" stroke-width=\"0\"/><circle cx=\"74.8\" cy=\"33.0\" fill=\"gray\" r=\"-0.044\" stroke=\"gray\" stroke-width=\"0\"/><text alignment-baseline=\"middle\" fill=\"white\" font-family=\"Times\" font-size=\"13.2\" text-anchor=\"middle\" x=\"72.6\" y=\"33.825\"/><rect fill=\"gray\" height=\"9.9\" width=\"4.488\" x=\"74.756\" y=\"28.05\"/><circle cx=\"74.8\" cy=\"33.0\" fill=\"gray\" r=\"-0.044\" stroke=\"gray\" stroke-width=\"0\"/><circle cx=\"79.2\" cy=\"33.0\" fill=\"gray\" r=\"-0.044\" stroke=\"gray\" stroke-width=\"0\"/><text alignment-baseline=\"middle\" fill=\"white\" font-family=\"Times\" font-size=\"13.2\" text-anchor=\"middle\" x=\"77.0\" y=\"33.825\"/><rect fill=\"gray\" height=\"9.9\" width=\"4.488\" x=\"79.156\" y=\"28.05\"/><circle cx=\"79.2\" cy=\"33.0\" fill=\"gray\" r=\"-0.044\" stroke=\"gray\" stroke-width=\"0\"/><circle cx=\"83.6\" cy=\"33.0\" fill=\"gray\" r=\"-0.044\" stroke=\"gray\" stroke-width=\"0\"/><text alignment-baseline=\"middle\" fill=\"white\" font-family=\"Times\" font-size=\"13.2\" text-anchor=\"middle\" x=\"81.4\" y=\"33.825\"/><rect fill=\"gray\" height=\"9.9\" width=\"4.488\" x=\"83.556\" y=\"28.05\"/><circle cx=\"83.6\" cy=\"33.0\" fill=\"gray\" r=\"-0.044\" stroke=\"gray\" stroke-width=\"0\"/><circle cx=\"88.0\" cy=\"33.0\" fill=\"gray\" r=\"-0.044\" stroke=\"gray\" stroke-width=\"0\"/><text alignment-baseline=\"middle\" fill=\"white\" font-family=\"Times\" font-size=\"13.2\" text-anchor=\"middle\" x=\"85.8\" y=\"33.825\"/><rect fill=\"gray\" height=\"9.9\" width=\"4.488\" x=\"87.956\" y=\"28.05\"/><circle cx=\"88.0\" cy=\"33.0\" fill=\"gray\" r=\"-0.044\" stroke=\"gray\" stroke-width=\"0\"/><circle cx=\"92.4\" cy=\"33.0\" fill=\"gray\" r=\"-0.044\" stroke=\"gray\" stroke-width=\"0\"/><text alignment-baseline=\"middle\" fill=\"white\" font-family=\"Times\" font-size=\"13.2\" text-anchor=\"middle\" x=\"90.2\" y=\"33.825\"/><rect fill=\"gray\" height=\"9.9\" width=\"4.488\" x=\"92.356\" y=\"28.05\"/><circle cx=\"92.4\" cy=\"33.0\" fill=\"gray\" r=\"-0.044\" stroke=\"gray\" stroke-width=\"0\"/><circle cx=\"96.8\" cy=\"33.0\" fill=\"gray\" r=\"-0.044\" stroke=\"gray\" stroke-width=\"0\"/><text alignment-baseline=\"middle\" fill=\"white\" font-family=\"Times\" font-size=\"13.2\" text-anchor=\"middle\" x=\"94.6\" y=\"33.825\"/><rect fill=\"gray\" height=\"9.9\" width=\"4.488\" x=\"96.756\" y=\"28.05\"/><circle cx=\"96.8\" cy=\"33.0\" fill=\"gray\" r=\"-0.044\" stroke=\"gray\" stroke-width=\"0\"/><circle cx=\"101.2\" cy=\"33.0\" fill=\"gray\" r=\"-0.044\" stroke=\"gray\" stroke-width=\"0\"/><text alignment-baseline=\"middle\" fill=\"white\" font-family=\"Times\" font-size=\"13.2\" text-anchor=\"middle\" x=\"99.0\" y=\"33.825\"/><rect fill=\"gray\" height=\"9.9\" width=\"4.488\" x=\"101.156\" y=\"28.05\"/><circle cx=\"101.2\" cy=\"33.0\" fill=\"gray\" r=\"-0.044\" stroke=\"gray\" stroke-width=\"0\"/><circle cx=\"105.6\" cy=\"33.0\" fill=\"gray\" r=\"-0.044\" stroke=\"gray\" stroke-width=\"0\"/><text alignment-baseline=\"middle\" fill=\"white\" font-family=\"Times\" font-size=\"13.2\" text-anchor=\"middle\" x=\"103.4\" y=\"33.825\"/><rect fill=\"gray\" height=\"9.9\" width=\"4.488\" x=\"105.556\" y=\"28.05\"/><circle cx=\"105.6\" cy=\"33.0\" fill=\"gray\" r=\"-0.044\" stroke=\"gray\" stroke-width=\"0\"/><circle cx=\"110.0\" cy=\"33.0\" fill=\"gray\" r=\"-0.044\" stroke=\"gray\" stroke-width=\"0\"/><text alignment-baseline=\"middle\" fill=\"white\" font-family=\"Times\" font-size=\"13.2\" text-anchor=\"middle\" x=\"107.8\" y=\"33.825\"/><rect fill=\"gray\" height=\"9.9\" width=\"4.488\" x=\"109.956\" y=\"28.05\"/><circle cx=\"110.0\" cy=\"33.0\" fill=\"gray\" r=\"-0.044\" stroke=\"gray\" stroke-width=\"0\"/><circle cx=\"114.4\" cy=\"33.0\" fill=\"gray\" r=\"-0.044\" stroke=\"gray\" stroke-width=\"0\"/><text alignment-baseline=\"middle\" fill=\"white\" font-family=\"Times\" font-size=\"13.2\" text-anchor=\"middle\" x=\"112.2\" y=\"33.825\"/><rect fill=\"gray\" height=\"9.9\" width=\"4.488\" x=\"114.356\" y=\"28.05\"/><circle cx=\"114.4\" cy=\"33.0\" fill=\"gray\" r=\"-0.044\" stroke=\"gray\" stroke-width=\"0\"/><circle cx=\"118.8\" cy=\"33.0\" fill=\"gray\" r=\"-0.044\" stroke=\"gray\" stroke-width=\"0\"/><text alignment-baseline=\"middle\" fill=\"white\" font-family=\"Times\" font-size=\"13.2\" text-anchor=\"middle\" x=\"116.6\" y=\"33.825\"/></svg>"
       ],
       "text": [
        "<IPython.core.display.SVG at 0x110031c50>"
       ]
      }
     ],
     "prompt_number": 12
    },
    {
     "cell_type": "markdown",
     "metadata": {},
     "source": [
      "Let's save the last tree as a pdf (using wkhtmltopdf, which can be downloaded from [wkhtmltopdf.org]())"
     ]
    },
    {
     "cell_type": "code",
     "collapsed": false,
     "input": [
      "#! skip\n",
      "# this one is skipped because it requires wkhtmltopdf to be installed\n",
      "view.save_pdf('mypathtree.pdf')\n",
      "!open mypathtree.pdf"
     ],
     "language": "python",
     "metadata": {},
     "outputs": [],
     "prompt_number": 16
    },
    {
     "cell_type": "code",
     "collapsed": false,
     "input": [],
     "language": "python",
     "metadata": {},
     "outputs": []
    }
   ],
   "metadata": {}
  }
 ]
}
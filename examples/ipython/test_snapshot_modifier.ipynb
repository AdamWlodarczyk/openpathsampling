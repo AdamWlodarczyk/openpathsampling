{
 "cells": [
  {
   "cell_type": "code",
   "execution_count": 1,
   "metadata": {
    "collapsed": true
   },
   "outputs": [],
   "source": [
    "%matplotlib inline\n",
    "import matplotlib.pyplot as plt\n",
    "import openpathsampling as paths\n",
    "import numpy as np"
   ]
  },
  {
   "cell_type": "code",
   "execution_count": 2,
   "metadata": {
    "collapsed": true
   },
   "outputs": [],
   "source": [
    "topology = paths.engines.toy.Topology(n_spatial=3, \n",
    "                                      n_atoms=2, \n",
    "                                      masses=np.array([2.0, 8.0]), \n",
    "                                      pes=None)\n",
    "initial_snapshot = paths.engines.toy.Snapshot(\n",
    "    coordinates=np.array([[0.0, 0.0, 0.0], [0.0, 0.0, 0.0]]),\n",
    "    velocities=np.array([[0.0, 0.0, 0.0], [0.0, 0.0, 0.0]]),\n",
    "    topology=topology\n",
    ")"
   ]
  },
  {
   "cell_type": "code",
   "execution_count": 3,
   "metadata": {
    "collapsed": true
   },
   "outputs": [],
   "source": [
    "modifier_1 = paths.RandomVelocities(beta=1.0)\n",
    "modifier_5 = paths.RandomVelocities(beta=1.0/5.0)"
   ]
  },
  {
   "cell_type": "code",
   "execution_count": 4,
   "metadata": {
    "collapsed": true
   },
   "outputs": [],
   "source": [
    "snapshots_1 = [modifier_1(initial_snapshot) for i in range(10000)]\n",
    "snapshots_5 = [modifier_5(initial_snapshot) for i in range(10000)]"
   ]
  },
  {
   "cell_type": "code",
   "execution_count": 5,
   "metadata": {
    "collapsed": false
   },
   "outputs": [],
   "source": [
    "v_1_0 = sum([s.velocities[0].tolist() for s in snapshots_1], [])\n",
    "v_1_1 = sum([s.velocities[1].tolist() for s in snapshots_1], [])\n",
    "v_5_0 = sum([s.velocities[0].tolist() for s in snapshots_5], [])\n",
    "v_5_1 = sum([s.velocities[1].tolist() for s in snapshots_5], [])"
   ]
  },
  {
   "cell_type": "code",
   "execution_count": 6,
   "metadata": {
    "collapsed": false
   },
   "outputs": [
    {
     "data": {
      "text/plain": [
       "(array([ 0.00180541,  0.01236433,  0.06751143,  0.23284331,  0.4342287 ,\n",
       "         0.48095055,  0.28881105,  0.10148598,  0.01887475,  0.00240721]),\n",
       " array([-3.12018174, -2.51090219, -1.90162264, -1.29234309, -0.68306354,\n",
       "        -0.073784  ,  0.53549555,  1.1447751 ,  1.75405465,  2.3633342 ,\n",
       "         2.97261375]),\n",
       " <a list of 10 Patch objects>)"
      ]
     },
     "execution_count": 6,
     "metadata": {},
     "output_type": "execute_result"
    },
    {
     "data": {
      "image/png": "[encoded data removed]",
      "text/plain": [
       "<matplotlib.figure.Figure at 0x10f3f73d0>"
      ]
     },
     "metadata": {},
     "output_type": "display_data"
    }
   ],
   "source": [
    "plt.hist(v_1_0, normed=True)\n",
    "plt.hist(v_1_1, normed=True)\n",
    "plt.hist(v_5_0, normed=True)\n",
    "plt.hist(v_5_1, normed=True)"
   ]
  },
  {
   "cell_type": "code",
   "execution_count": null,
   "metadata": {
    "collapsed": true
   },
   "outputs": [],
   "source": []
  }
 ],
 "metadata": {
  "kernelspec": {
   "display_name": "Python 2",
   "language": "python",
   "name": "python2"
  },
  "language_info": {
   "codemirror_mode": {
    "name": "ipython",
    "version": 2
   },
   "file_extension": ".py",
   "mimetype": "text/x-python",
   "name": "python",
   "nbconvert_exporter": "python",
   "pygments_lexer": "ipython2",
   "version": "2.7.11"
  }
 },
 "nbformat": 4,
 "nbformat_minor": 0
}

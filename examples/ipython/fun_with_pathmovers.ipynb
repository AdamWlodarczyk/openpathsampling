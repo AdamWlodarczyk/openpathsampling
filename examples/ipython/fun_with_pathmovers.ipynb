{
 "cells": [
  {
   "cell_type": "markdown",
   "metadata": {},
   "source": [
    "### PathMovers"
   ]
  },
  {
   "cell_type": "markdown",
   "metadata": {},
   "source": [
    "This notebook is an introduction to handling `PathMover` and `PathMoveChange` instances. It mostly covers the questions on \n",
    "1. how to check if a certain mover was part of a change. \n",
    "2. What are the possible changes a mover can generate.\n",
    "3. ..."
   ]
  },
  {
   "cell_type": "markdown",
   "metadata": {},
   "source": [
    "Load OPENPATHSAMPLING"
   ]
  },
  {
   "cell_type": "code",
   "execution_count": 1,
   "metadata": {
    "collapsed": false
   },
   "outputs": [],
   "source": [
    "import openpathsampling as p"
   ]
  },
  {
   "cell_type": "markdown",
   "metadata": {},
   "source": [
    "Let's open a file that contains a mover and lot's of changes"
   ]
  },
  {
   "cell_type": "code",
   "execution_count": 2,
   "metadata": {
    "collapsed": false
   },
   "outputs": [],
   "source": [
    "st = p.storage.Storage('_toy_retis.nc', mode='r')"
   ]
  },
  {
   "cell_type": "markdown",
   "metadata": {},
   "source": [
    "A Simulator creates simulation steps. So we load a single step."
   ]
  },
  {
   "cell_type": "code",
   "execution_count": 3,
   "metadata": {
    "collapsed": false
   },
   "outputs": [
    {
     "name": "stdout",
     "output_type": "stream",
     "text": [
      "<openpathsampling.pathsimulator.MCStep object at 0x10f7c0e90>\n"
     ]
    }
   ],
   "source": [
    "mc = st.steps[3]\n",
    "print mc"
   ]
  },
  {
   "cell_type": "markdown",
   "metadata": {},
   "source": [
    "Each step posesses a pathmovechange which we will get"
   ]
  },
  {
   "cell_type": "code",
   "execution_count": 4,
   "metadata": {
    "collapsed": false
   },
   "outputs": [
    {
     "name": "stdout",
     "output_type": "stream",
     "text": [
      "PathSimulatorStep : PathSampling : Step # 3 with 0 samples\n",
      " +- RandomChoice :\n",
      "     +- RandomChoice :\n",
      "         +- SampleMove : PathReversalMover : False :[]\n"
     ]
    }
   ],
   "source": [
    "pmc = mc.change\n",
    "print pmc"
   ]
  },
  {
   "cell_type": "markdown",
   "metadata": {},
   "source": [
    "And the mover that was used to generate this change"
   ]
  },
  {
   "cell_type": "code",
   "execution_count": 5,
   "metadata": {
    "collapsed": false
   },
   "outputs": [
    {
     "name": "stdout",
     "output_type": "stream",
     "text": [
      "PathSimulator([44])\n",
      " +- RootMover([40])\n",
      "     +- ShootingChooser([41])\n",
      "     |   +- OneWayShootingMover I'face 0([5])\n",
      "     |   |   +- ForwardShoot([6])\n",
      "     |   |   +- BackwardShoot([7])\n",
      "     |   +- OneWayShootingMover I'face 1([8])\n",
      "     |   |   +- ForwardShoot([9])\n",
      "     |   |   +- BackwardShoot([10])\n",
      "     |   +- OneWayShootingMover I'face 2([11])\n",
      "     |   |   +- ForwardShoot([12])\n",
      "     |   |   +- BackwardShoot([13])\n",
      "     |   +- OneWayShootingMover I'face 3([14])\n",
      "     |   |   +- ForwardShoot([15])\n",
      "     |   |   +- BackwardShoot([16])\n",
      "     |   +- OneWayShootingMover I'face 4([17])\n",
      "     |   |   +- ForwardShoot([18])\n",
      "     |   |   +- BackwardShoot([19])\n",
      "     |   +- OneWayShootingMover I'face 5([20])\n",
      "     |       +- ForwardShoot([21])\n",
      "     |       +- BackwardShoot([22])\n",
      "     +- ReversalChooser([42])\n",
      "     |   +- PathReversal([34])\n",
      "     |   +- PathReversal([35])\n",
      "     |   +- PathReversal([36])\n",
      "     |   +- PathReversal([37])\n",
      "     |   +- PathReversal([38])\n",
      "     |   +- PathReversal([39])\n",
      "     +- ReplicaExchange([43])\n",
      "     |   +- ReplicaExchange([0])\n",
      "     |   +- ReplicaExchange([1])\n",
      "     |   +- ReplicaExchange([2])\n",
      "     |   +- ReplicaExchange([3])\n",
      "     |   +- ReplicaExchange([4])\n",
      "     +- Minus([23])\n",
      "         +- EnsembleFilter([24])\n",
      "             +- ConditionalSequential([25])\n",
      "                 +- MinusSubtrajectoryChooser([26])\n",
      "                 |   +- FirstSubtrajectorySelect([27])\n",
      "                 |   +- FinalSubtrajectorySelect([28])\n",
      "                 +- InterfaceSetChooser([29])\n",
      "                 |   +- ReplicaExchange([30])\n",
      "                 +- MinusExtensionDirectionChooser([31])\n",
      "                     +- ForwardExtend([32])\n",
      "                     +- BackwardExtend([33])\n"
     ]
    }
   ],
   "source": [
    "pm = pmc.mover\n",
    "print pm.treeprint()"
   ]
  },
  {
   "cell_type": "code",
   "execution_count": 6,
   "metadata": {
    "collapsed": false
   },
   "outputs": [
    {
     "data": {
      "text/plain": [
       "(PathSimulator([44]),\n",
       "        (RootMover([40]), (ReversalChooser([42]), (PathReversal([39]), ))))"
      ]
     },
     "execution_count": 6,
     "metadata": {},
     "output_type": "execute_result"
    }
   ],
   "source": [
    "pmc.unique"
   ]
  },
  {
   "cell_type": "markdown",
   "metadata": {},
   "source": [
    "Let's first check if the pmc was really created by the pathmover"
   ]
  },
  {
   "cell_type": "code",
   "execution_count": 6,
   "metadata": {
    "collapsed": false
   },
   "outputs": [
    {
     "data": {
      "text/plain": [
       "True"
      ]
     },
     "execution_count": 6,
     "metadata": {},
     "output_type": "execute_result"
    }
   ],
   "source": [
    "pmc in pm"
   ]
  },
  {
   "cell_type": "markdown",
   "metadata": {},
   "source": [
    "This should be obvious, but under the hood there is some more fancy stuff happening. The `in` keyword with pathmovers and changes actually works on trees of movers. These trees are used to represent a specific order or movers being called and these trees are unique for changes. This means there is a way to label each possible pmc that can be generated by a mover. This possible only refers to choices in actual movers. \n",
    "\n",
    "This is due to special PathMovers that can pick one or more movers among a set of possibilities. The simplest of these is the OneWayShooter which choses equal between forward and backward shooting. So a OneWayShooter has two possible outcomes. Let's look at these"
   ]
  },
  {
   "cell_type": "code",
   "execution_count": 7,
   "metadata": {
    "collapsed": false
   },
   "outputs": [],
   "source": [
    "ow_mover = p.OneWayShootingMover([], []) # we use dummy arguments since are not going to use it"
   ]
  },
  {
   "cell_type": "markdown",
   "metadata": {},
   "source": [
    "The property `enum` will evaluate the (potentially VERY large) number of all possible changes"
   ]
  },
  {
   "cell_type": "code",
   "execution_count": 8,
   "metadata": {
    "collapsed": false
   },
   "outputs": [
    {
     "data": {
      "text/plain": [
       "[(OneWayShooting([]), BackwardShoot([])),\n",
       " (OneWayShooting([]), ForwardShoot([]))]"
      ]
     },
     "execution_count": 8,
     "metadata": {},
     "output_type": "execute_result"
    }
   ],
   "source": [
    "list(ow_mover.enum)"
   ]
  },
  {
   "cell_type": "markdown",
   "metadata": {},
   "source": [
    "which is two in our case. Another example"
   ]
  },
  {
   "cell_type": "code",
   "execution_count": 9,
   "metadata": {
    "collapsed": false
   },
   "outputs": [],
   "source": [
    "ow_mover_2 = p.RandomChoiceMover([\n",
    "        p.OneWayShootingMover([], []),\n",
    "        p.OneWayShootingMover([], [])\n",
    "        ])"
   ]
  },
  {
   "cell_type": "code",
   "execution_count": 10,
   "metadata": {
    "collapsed": false
   },
   "outputs": [
    {
     "data": {
      "text/plain": [
       "[(RandomChoice([]), OneWayShooting([]), ForwardShoot([])),\n",
       " (RandomChoice([]), OneWayShooting([]), BackwardShoot([])),\n",
       " (RandomChoice([]), OneWayShooting([]), ForwardShoot([])),\n",
       " (RandomChoice([]), OneWayShooting([]), BackwardShoot([]))]"
      ]
     },
     "execution_count": 10,
     "metadata": {},
     "output_type": "execute_result"
    }
   ],
   "source": [
    "list(ow_mover_2.enum)"
   ]
  },
  {
   "cell_type": "markdown",
   "metadata": {},
   "source": [
    "Now we have 4 choices as expected 2 for the RandomChoice * 2 for the OneWayShooter. Although effectively there are only 2 distinct ones. Why is that? The problem in `ow_mover_2` is that we defined two separate instances of the OneWayShootingMover and in general different instances are considered different. In this case it might even be possible to check for equality, but we decided to leave this to the user. If you create two instances we assume there is a reason. Maybe just calling the differently (although it makes no sense for the monte carlo scheme).\n",
    "\n",
    "The next example uses the same mover twice"
   ]
  },
  {
   "cell_type": "code",
   "execution_count": 11,
   "metadata": {
    "collapsed": false
   },
   "outputs": [],
   "source": [
    "ow_mover_3 = p.RandomChoiceMover([\n",
    "        ow_mover,\n",
    "        ow_mover\n",
    "        ])"
   ]
  },
  {
   "cell_type": "code",
   "execution_count": 12,
   "metadata": {
    "collapsed": false
   },
   "outputs": [
    {
     "data": {
      "text/plain": [
       "[(RandomChoice([]), OneWayShooting([]), BackwardShoot([])),\n",
       " (RandomChoice([]), OneWayShooting([]), ForwardShoot([]))]"
      ]
     },
     "execution_count": 12,
     "metadata": {},
     "output_type": "execute_result"
    }
   ],
   "source": [
    "list(ow_mover_3.enum)"
   ]
  },
  {
   "cell_type": "markdown",
   "metadata": {},
   "source": [
    "And we get only two distinct movers as we wanted to."
   ]
  },
  {
   "cell_type": "markdown",
   "metadata": {},
   "source": [
    "Let's look at the real mover"
   ]
  },
  {
   "cell_type": "code",
   "execution_count": 13,
   "metadata": {
    "collapsed": false,
    "scrolled": true
   },
   "outputs": [
    {
     "name": "stdout",
     "output_type": "stream",
     "text": [
      "31\n"
     ]
    }
   ],
   "source": [
    "all_changes = list(pm.enum)\n",
    "print len(all_changes)"
   ]
  },
  {
   "cell_type": "markdown",
   "metadata": {},
   "source": [
    "This one has 31. Let's if we can reconstruct that number. The pathmover first choses between 4 different move types. \n",
    "\n",
    "1. Shooting, with one shooter for each of the 6 ensembles and two directions (forward and backward) are 6 * 2 = 12 in total. \n",
    "2. Reversal moves for each ensemble = 6\n",
    "3. ReplicaExchange moves between all neighboring ensembles [1,2], [2,3], ..., [5,6]  = 5\n",
    "4. And a Minus Move that consists of choices for picking the first or final inner trajectory from the minus ensemble and 2 choices for extending forward or backward. Here is important that we use a ConditionalSequentialMover that might call only some of its inner sequence. To be precise it could call only the subtrajectoryselection (2 choices), the selection and the replicaexchange (also 2 choices) or all three movers (4 choices). This will give a total of 8 possibilities for the minus move\n",
    "\n",
    "In total we have 12 + 6 + 5 + 8 = 31 as `enum` predicted. \n",
    "\n",
    "> Note that this is only the maximal possible number of moves and not the real accessible moves. It could be that in a conditional mover some moves are always run in sequence. E.g. in our case the subtrajectoryselection should always work and hence the first 2 choices of the minus mover will never happen. It will always try a swap (which can fail if by chance the trajectory in the innermost interface crosses away from the state). So the effective number of choices will be 29 and not 31."
   ]
  },
  {
   "cell_type": "markdown",
   "metadata": {},
   "source": [
    "Let's do some more testing"
   ]
  },
  {
   "cell_type": "markdown",
   "metadata": {},
   "source": [
    "First let's check if the keys we get for all changes in the storage are actually contained in the mover or put more simple the mover could have generated these changes. This should be true for all changes that originate from our mover."
   ]
  },
  {
   "cell_type": "code",
   "execution_count": 14,
   "metadata": {
    "collapsed": false
   },
   "outputs": [
    {
     "name": "stdout",
     "output_type": "stream",
     "text": [
      "[False, False, True, False, False, False, False, False, True, False, False, False, False, False, True, False, False, False, False, True]\n"
     ]
    }
   ],
   "source": [
    "print [pc in pm for pc in st.pathmovechanges[0:20]]"
   ]
  },
  {
   "cell_type": "markdown",
   "metadata": {},
   "source": [
    "What happened here? Why are only some changes in the storage made by our mover? Shouldn't all of them (except the 2 in the beginning) be the result of our pathmover? Yes and no. They are, but we are checking if the total change is made from a mover and we are also loading all subchanges subchanges."
   ]
  },
  {
   "cell_type": "code",
   "execution_count": 15,
   "metadata": {
    "collapsed": false
   },
   "outputs": [
    {
     "name": "stdout",
     "output_type": "stream",
     "text": [
      "PathSimulatorStep : PathSampling : Step # 1 with 0 samples\n",
      " +- RandomChoice :\n",
      "     +- RandomChoice :\n",
      "         +- OneWayShooting :\n",
      "             +- SampleMove : BackwardShootMover : False :[]\n",
      "True\n",
      "\n",
      "OneWayShooting :\n",
      " +- SampleMove : BackwardShootMover : False :[]\n",
      "False\n"
     ]
    }
   ],
   "source": [
    "print st.pathmovechanges[2]\n",
    "print st.pathmovechanges[2] in pm\n",
    "print\n",
    "print st.pathmovechanges[5]\n",
    "print st.pathmovechanges[5] in pm"
   ]
  },
  {
   "cell_type": "markdown",
   "metadata": {},
   "source": [
    "We will now cache all changes to see if the next steps are really fast or not."
   ]
  },
  {
   "cell_type": "code",
   "execution_count": 16,
   "metadata": {
    "collapsed": false
   },
   "outputs": [],
   "source": [
    "_ = list(st.pathmovechanges)\n",
    "_ = list(st.steps)"
   ]
  },
  {
   "cell_type": "markdown",
   "metadata": {},
   "source": [
    "Now: How do we get all the changes that are really important? One way is to scan all changes and use only the ones from the mover"
   ]
  },
  {
   "cell_type": "code",
   "execution_count": 17,
   "metadata": {
    "collapsed": false
   },
   "outputs": [
    {
     "name": "stdout",
     "output_type": "stream",
     "text": [
      "200 of 1120\n"
     ]
    }
   ],
   "source": [
    "real_changes = filter(lambda x : x in pm, st.pathmovechanges)\n",
    "print len(real_changes), 'of', len(st.pathmovechanges)"
   ]
  },
  {
   "cell_type": "markdown",
   "metadata": {},
   "source": [
    "While this works it would be better to rely on the steps in the simulation and not on the changes itself. We might store some other changes for whatever reason, but we only want the ones that are associated with a MC step. The steps in the storage do exactly that and point to the changes that are used to generate the next sampleset that we wanted. "
   ]
  },
  {
   "cell_type": "code",
   "execution_count": 18,
   "metadata": {
    "collapsed": false
   },
   "outputs": [
    {
     "name": "stdout",
     "output_type": "stream",
     "text": [
      "200\n"
     ]
    }
   ],
   "source": [
    "step_changes = [step.change for step in st.steps[1:]]\n",
    "print len(step_changes)"
   ]
  },
  {
   "cell_type": "markdown",
   "metadata": {},
   "source": [
    "We exclude the first step since it is the initialization which is not generated by our pathmover."
   ]
  },
  {
   "cell_type": "markdown",
   "metadata": {},
   "source": [
    "Let's now check which and how often one the 31 possible steps was called."
   ]
  },
  {
   "cell_type": "code",
   "execution_count": 19,
   "metadata": {
    "collapsed": true
   },
   "outputs": [],
   "source": [
    "import collections"
   ]
  },
  {
   "cell_type": "code",
   "execution_count": 20,
   "metadata": {
    "collapsed": false
   },
   "outputs": [],
   "source": [
    "counter = collections.defaultdict(lambda: 0)"
   ]
  },
  {
   "cell_type": "code",
   "execution_count": 21,
   "metadata": {
    "collapsed": false
   },
   "outputs": [],
   "source": [
    "for ch in step_changes:\n",
    "    counter[ch.unique] += 1"
   ]
  },
  {
   "cell_type": "code",
   "execution_count": 22,
   "metadata": {
    "collapsed": false,
    "scrolled": false
   },
   "outputs": [
    {
     "name": "stdout",
     "output_type": "stream",
     "text": [
      "25 of 31 different changes run \n",
      "------------------------------ \n",
      "\n",
      "\n",
      "12 x\n",
      "PathSimulator([44])\n",
      " +- RootMover([40])\n",
      "     +- ReplicaExchange([43])\n",
      "         +- ReplicaExchange([1])\n",
      "\n",
      "12 x\n",
      "PathSimulator([44])\n",
      " +- RootMover([40])\n",
      "     +- ReversalChooser([42])\n",
      "         +- PathReversal([34])\n",
      "\n",
      "11 x\n",
      "PathSimulator([44])\n",
      " +- RootMover([40])\n",
      "     +- ShootingChooser([41])\n",
      "         +- OneWayShootingMover I'face 1([8])\n",
      "             +- ForwardShoot([9])\n",
      "\n",
      "11 x\n",
      "PathSimulator([44])\n",
      " +- RootMover([40])\n",
      "     +- ShootingChooser([41])\n",
      "         +- OneWayShootingMover I'face 1([8])\n",
      "             +- BackwardShoot([10])\n",
      "\n",
      "11 x\n",
      "PathSimulator([44])\n",
      " +- RootMover([40])\n",
      "     +- ReversalChooser([42])\n",
      "         +- PathReversal([35])\n",
      "\n",
      "11 x\n",
      "PathSimulator([44])\n",
      " +- RootMover([40])\n",
      "     +- ReversalChooser([42])\n",
      "         +- PathReversal([39])\n",
      "\n",
      "10 x\n",
      "PathSimulator([44])\n",
      " +- RootMover([40])\n",
      "     +- ReplicaExchange([43])\n",
      "         +- ReplicaExchange([3])\n",
      "\n",
      "10 x\n",
      "PathSimulator([44])\n",
      " +- RootMover([40])\n",
      "     +- ShootingChooser([41])\n",
      "         +- OneWayShootingMover I'face 3([14])\n",
      "             +- ForwardShoot([15])\n",
      "\n",
      "10 x\n",
      "PathSimulator([44])\n",
      " +- RootMover([40])\n",
      "     +- ShootingChooser([41])\n",
      "         +- OneWayShootingMover I'face 5([20])\n",
      "             +- ForwardShoot([21])\n",
      "\n",
      "10 x\n",
      "PathSimulator([44])\n",
      " +- RootMover([40])\n",
      "     +- ReversalChooser([42])\n",
      "         +- PathReversal([36])\n",
      "\n",
      "9 x\n",
      "PathSimulator([44])\n",
      " +- RootMover([40])\n",
      "     +- ReplicaExchange([43])\n",
      "         +- ReplicaExchange([0])\n",
      "\n",
      "9 x\n",
      "PathSimulator([44])\n",
      " +- RootMover([40])\n",
      "     +- ShootingChooser([41])\n",
      "         +- OneWayShootingMover I'face 5([20])\n",
      "             +- BackwardShoot([22])\n",
      "\n",
      "8 x\n",
      "PathSimulator([44])\n",
      " +- RootMover([40])\n",
      "     +- ShootingChooser([41])\n",
      "         +- OneWayShootingMover I'face 4([17])\n",
      "             +- BackwardShoot([19])\n",
      "\n",
      "8 x\n",
      "PathSimulator([44])\n",
      " +- RootMover([40])\n",
      "     +- ShootingChooser([41])\n",
      "         +- OneWayShootingMover I'face 3([14])\n",
      "             +- BackwardShoot([16])\n",
      "\n",
      "8 x\n",
      "PathSimulator([44])\n",
      " +- RootMover([40])\n",
      "     +- ShootingChooser([41])\n",
      "         +- OneWayShootingMover I'face 4([17])\n",
      "             +- ForwardShoot([18])\n",
      "\n",
      "8 x\n",
      "PathSimulator([44])\n",
      " +- RootMover([40])\n",
      "     +- ShootingChooser([41])\n",
      "         +- OneWayShootingMover I'face 0([5])\n",
      "             +- ForwardShoot([6])\n",
      "\n",
      "8 x\n",
      "PathSimulator([44])\n",
      " +- RootMover([40])\n",
      "     +- ReplicaExchange([43])\n",
      "         +- ReplicaExchange([2])\n",
      "\n",
      "7 x\n",
      "PathSimulator([44])\n",
      " +- RootMover([40])\n",
      "     +- ShootingChooser([41])\n",
      "         +- OneWayShootingMover I'face 2([11])\n",
      "             +- BackwardShoot([13])\n",
      "\n",
      "6 x\n",
      "PathSimulator([44])\n",
      " +- RootMover([40])\n",
      "     +- ReversalChooser([42])\n",
      "         +- PathReversal([37])\n",
      "\n",
      "6 x\n",
      "PathSimulator([44])\n",
      " +- RootMover([40])\n",
      "     +- ReversalChooser([42])\n",
      "         +- PathReversal([38])\n",
      "\n",
      "5 x\n",
      "PathSimulator([44])\n",
      " +- RootMover([40])\n",
      "     +- ReplicaExchange([43])\n",
      "         +- ReplicaExchange([4])\n",
      "\n",
      "4 x\n",
      "PathSimulator([44])\n",
      " +- RootMover([40])\n",
      "     +- ShootingChooser([41])\n",
      "         +- OneWayShootingMover I'face 0([5])\n",
      "             +- BackwardShoot([7])\n",
      "\n",
      "3 x\n",
      "PathSimulator([44])\n",
      " +- RootMover([40])\n",
      "     +- ShootingChooser([41])\n",
      "         +- OneWayShootingMover I'face 2([11])\n",
      "             +- ForwardShoot([12])\n",
      "\n",
      "2 x\n",
      "PathSimulator([44])\n",
      " +- RootMover([40])\n",
      "     +- Minus([23])\n",
      "         +- EnsembleFilter([24])\n",
      "             +- ConditionalSequential([25])\n",
      "                 +- MinusSubtrajectoryChooser([26])\n",
      "                 |   +- FinalSubtrajectorySelect([28])\n",
      "                 +- InterfaceSetChooser([29])\n",
      "                 +- MinusExtensionDirectionChooser([31])\n",
      "                     +- BackwardExtend([33])\n",
      "\n",
      "1 x\n",
      "PathSimulator([44])\n",
      " +- RootMover([40])\n",
      "     +- Minus([23])\n",
      "         +- EnsembleFilter([24])\n",
      "             +- ConditionalSequential([25])\n",
      "                 +- MinusSubtrajectoryChooser([26])\n",
      "                 |   +- FirstSubtrajectorySelect([27])\n",
      "                 +- InterfaceSetChooser([29])\n",
      "                 +- MinusExtensionDirectionChooser([31])\n",
      "                     +- ForwardExtend([32])\n"
     ]
    }
   ],
   "source": [
    "s = '%d of %d different changes run' % (len(counter), len(list(pm.enum)))\n",
    "print s, '\\n', '-' * len(s), '\\n'\n",
    "\n",
    "for y in sorted(counter.items(), key=lambda x : -x[1]):\n",
    "    print\n",
    "    print y[1], 'x'\n",
    "    print y[0].treeprint()"
   ]
  },
  {
   "cell_type": "markdown",
   "metadata": {},
   "source": [
    "We see that especially minus moves are underrepresented. This is due to the standard weighting of the minus move which runs minus moves much less frequent than other moves. "
   ]
  },
  {
   "cell_type": "markdown",
   "metadata": {},
   "source": [
    "Get the (unique) location of the randomchoicemover. You can search for Mover classes, Mover instances or by the .name property of a mover which is a string."
   ]
  },
  {
   "cell_type": "code",
   "execution_count": 44,
   "metadata": {
    "collapsed": false
   },
   "outputs": [
    {
     "name": "stdout",
     "output_type": "stream",
     "text": [
      "PathSimulator([44])\n",
      " +- RootMover([40])\n"
     ]
    }
   ],
   "source": [
    "loc_rc = pm.locate('RootMover')\n",
    "print loc_rc"
   ]
  },
  {
   "cell_type": "markdown",
   "metadata": {},
   "source": [
    "the location object is effectively a tree mover instances described by nested tuples. For convenience it is wrapped to make searching easier and format the output. "
   ]
  },
  {
   "cell_type": "code",
   "execution_count": 54,
   "metadata": {
    "collapsed": false
   },
   "outputs": [
    {
     "name": "stdout",
     "output_type": "stream",
     "text": [
      "<class 'openpathsampling.treelogic.TupleTree'>\n",
      "True\n",
      "(PathSimulator([44]), (RootMover([40]),))\n",
      "PathSimulator([44])\n",
      " +- RootMover([40])\n"
     ]
    }
   ],
   "source": [
    "print type(loc_rc)\n",
    "print isinstance(loc_rc, tuple)\n",
    "print repr(loc_rc)\n",
    "print str(loc_rc)"
   ]
  },
  {
   "cell_type": "markdown",
   "metadata": {},
   "source": [
    "In most cases you can use python tuples instead of TupleTree. The structure of a tree of tuples looks as follows:\n",
    "\n",
    "Each node has the following structure\n",
    "\n",
    "    (head, (child1, ), (child2, ), ...)\n",
    "    \n",
    "where head is a the node content (almost always a `Mover` instance) and child is again a node. It is important to note that a tuple tree does not support choices of different children like a real pathmover can. Therefore we could generate a tree tuple of the content of a pathmover but it will not reflect the possible choices in it. To get the associated tree tuple of a change (which has no choice in it) we can use `.unique`."
   ]
  },
  {
   "cell_type": "code",
   "execution_count": 58,
   "metadata": {
    "collapsed": false
   },
   "outputs": [
    {
     "name": "stdout",
     "output_type": "stream",
     "text": [
      "PathSimulatorStep : PathSampling : Step # 3 with 0 samples\n",
      " +- RandomChoice :\n",
      "     +- RandomChoice :\n",
      "         +- SampleMove : PathReversalMover : False :[]\n",
      "(PathSimulator([44]), (RootMover([40]), (ReversalChooser([42]), (PathReversal([39]),))))\n"
     ]
    }
   ],
   "source": [
    "print pmc\n",
    "print repr(pmc.unique)"
   ]
  },
  {
   "cell_type": "markdown",
   "metadata": {},
   "source": [
    "Instead of checking for a pmc directly we can also check for the tuple tree representation"
   ]
  },
  {
   "cell_type": "code",
   "execution_count": 66,
   "metadata": {
    "collapsed": false
   },
   "outputs": [
    {
     "name": "stdout",
     "output_type": "stream",
     "text": [
      "PathSimulatorStep : PathSampling : Step # 3 with 0 samples\n",
      " +- RandomChoice :\n",
      "     +- RandomChoice :\n",
      "         +- SampleMove : PathReversalMover : False :[]\n",
      "True\n",
      "True\n"
     ]
    }
   ],
   "source": [
    "print pmc\n",
    "print pmc in pm # check if pmc could have been generated by pm\n",
    "print pmc.unique in pm # check if the tuple tree representation could have been generated by pm"
   ]
  },
  {
   "cell_type": "markdown",
   "metadata": {},
   "source": [
    "Now get the mover at the `loc_rc` location (which is of course a RandomChoiceMover)."
   ]
  },
  {
   "cell_type": "code",
   "execution_count": 67,
   "metadata": {
    "collapsed": false
   },
   "outputs": [],
   "source": [
    "rc = pm[loc_rc]"
   ]
  },
  {
   "cell_type": "markdown",
   "metadata": {},
   "source": [
    "These are the weights by mover"
   ]
  },
  {
   "cell_type": "code",
   "execution_count": 68,
   "metadata": {
    "collapsed": false
   },
   "outputs": [
    {
     "data": {
      "text/plain": [
       "{Minus([23]): 0.03333333333333333,\n",
       " ReplicaExchange([43]): 0.5,\n",
       " ReversalChooser([42]): 0.5,\n",
       " ShootingChooser([41]): 1.0}"
      ]
     },
     "execution_count": 68,
     "metadata": {},
     "output_type": "execute_result"
    }
   ],
   "source": [
    "dict(zip(rc.movers, rc.weights))"
   ]
  },
  {
   "cell_type": "markdown",
   "metadata": {},
   "source": [
    "So a shooting move is about 30x more likely than a minus move."
   ]
  },
  {
   "cell_type": "markdown",
   "metadata": {},
   "source": [
    "Finally do some more checks"
   ]
  },
  {
   "cell_type": "code",
   "execution_count": 71,
   "metadata": {
    "collapsed": false
   },
   "outputs": [
    {
     "name": "stdout",
     "output_type": "stream",
     "text": [
      "True\n",
      "True\n"
     ]
    }
   ],
   "source": [
    "print rc in pmc # check if the RandomChoiceMover was called in pmc\n",
    "print pc in pm # check if the pathmover has a RandomChoiceMover at that position in the tree"
   ]
  },
  {
   "cell_type": "markdown",
   "metadata": {},
   "source": [
    "> Note, that certain trees of movers can be arranged differently in a tree, but result in the same possible steps. Like `Sequential(Forward, Sequential([Forward, Forward]))` and `Sequential([Forward, Forward, Forward])`. We can regard this as being _associative_ (placing arbitrary brackets) but we will not check for these types of equality. We assume that you arrange steps in a certain way for a reason and that your grouping of sequenced will reflect a certain logical idea. On the other hand are your locators / keys dependend on that choice!"
   ]
  },
  {
   "cell_type": "markdown",
   "metadata": {},
   "source": [
    "What else can we learn or ask for?"
   ]
  },
  {
   "cell_type": "markdown",
   "metadata": {},
   "source": [
    "We can check if a particular mover was run. Let's pick the very last MinusExtensionDirectionChoser. To check for it we can either just check for the instance in a pmc"
   ]
  },
  {
   "cell_type": "code",
   "execution_count": 78,
   "metadata": {
    "collapsed": false
   },
   "outputs": [
    {
     "name": "stdout",
     "output_type": "stream",
     "text": [
      "MinusExtensionDirectionChooser([31])\n"
     ]
    }
   ],
   "source": [
    "loc_medc = pm.locate('MinusExtensionDirectionChooser')\n",
    "medc = pm[loc_medc]\n",
    "print medc"
   ]
  },
  {
   "cell_type": "code",
   "execution_count": 79,
   "metadata": {
    "collapsed": false
   },
   "outputs": [
    {
     "name": "stdout",
     "output_type": "stream",
     "text": [
      "PathSimulator([215])\n",
      "PathSimulator([44])\n",
      " +- RootMover([40])\n",
      "     +- Minus([23])\n",
      "         +- EnsembleFilter([24])\n",
      "             +- ConditionalSequential([25])\n",
      "                 +- MinusSubtrajectoryChooser([26])\n",
      "                 |   +- FinalSubtrajectorySelect([28])\n",
      "                 +- InterfaceSetChooser([29])\n",
      "                 +- MinusExtensionDirectionChooser([31])\n",
      "                     +- BackwardExtend([33])\n",
      "\n",
      "PathSimulator([563])\n",
      "PathSimulator([44])\n",
      " +- RootMover([40])\n",
      "     +- Minus([23])\n",
      "         +- EnsembleFilter([24])\n",
      "             +- ConditionalSequential([25])\n",
      "                 +- MinusSubtrajectoryChooser([26])\n",
      "                 |   +- FirstSubtrajectorySelect([27])\n",
      "                 +- InterfaceSetChooser([29])\n",
      "                 +- MinusExtensionDirectionChooser([31])\n",
      "                     +- ForwardExtend([32])\n",
      "\n",
      "PathSimulator([785])\n",
      "PathSimulator([44])\n",
      " +- RootMover([40])\n",
      "     +- Minus([23])\n",
      "         +- EnsembleFilter([24])\n",
      "             +- ConditionalSequential([25])\n",
      "                 +- MinusSubtrajectoryChooser([26])\n",
      "                 |   +- FinalSubtrajectorySelect([28])\n",
      "                 +- InterfaceSetChooser([29])\n",
      "                 +- MinusExtensionDirectionChooser([31])\n",
      "                     +- BackwardExtend([33])\n",
      "\n",
      "CPU times: user 3.97 ms, sys: 1.44 ms, total: 5.41 ms\n",
      "Wall time: 4.37 ms\n"
     ]
    }
   ],
   "source": [
    "%%time\n",
    "for pc in step_changes:\n",
    "    if medc in pc:\n",
    "        print repr(pc)\n",
    "        print pc.unique\n",
    "        print"
   ]
  },
  {
   "cell_type": "markdown",
   "metadata": {},
   "source": [
    "the expression `locator in pmc` checks for the overall appearance of a specific mover somewhere dependent of the location. While using `mover_instance in pmc` check for the appearance of that mover instance independent of the location. If a particular mover_instance appears only once then both methods are equal."
   ]
  },
  {
   "cell_type": "code",
   "execution_count": 86,
   "metadata": {
    "collapsed": false
   },
   "outputs": [
    {
     "name": "stdout",
     "output_type": "stream",
     "text": [
      "PathSimulatorStep : PathSampling : Step # 3 with 0 samples\n",
      " +- RandomChoice :\n",
      "     +- RandomChoice :\n",
      "         +- SampleMove : PathReversalMover : False :[]\n",
      "True\n",
      "True\n",
      "False\n",
      "False\n"
     ]
    }
   ],
   "source": [
    "print pmc\n",
    "print loc_medc in pm\n",
    "print medc in pm\n",
    "print loc_medc in pmc\n",
    "print medc in pmc"
   ]
  },
  {
   "cell_type": "markdown",
   "metadata": {},
   "source": [
    "In this case the _MinusExtentionDirectionChoose_ was not called in this particular pmc."
   ]
  },
  {
   "cell_type": "markdown",
   "metadata": {},
   "source": [
    "### Remember the following things about moves and changes\n",
    "\n",
    "1. movers and changes represent a tree like structure of movers.\n",
    "2. a change is a concrete realization of moves (and hence movers) while a mover itself has a certain degree of choice. \n",
    "3. Some nodes in a mover can have different outcomes, like a RandomChoiceMover will pick one of several choices. The change it generates will have only the chosen one, while the RandomChoiceMover itself has all possibilities.\n",
    "4. A concrete tree like structure (without choice) of movers can be represented by a tree of tuples. Reading the tuple-tree from left to right the opening bracket '(' means go down a level (a new child) while the closing bracket means trael up a level ')' go to the parent.\n",
    "5. The smallest unique tupletree for a pmc can be accessed using `.unique`"
   ]
  },
  {
   "cell_type": "code",
   "execution_count": 89,
   "metadata": {
    "collapsed": false
   },
   "outputs": [],
   "source": [
    "first_minus_change = filter(lambda x : p.MinusMover in x, step_changes)[0]"
   ]
  },
  {
   "cell_type": "code",
   "execution_count": 90,
   "metadata": {
    "collapsed": false
   },
   "outputs": [
    {
     "name": "stdout",
     "output_type": "stream",
     "text": [
      "PathSimulator([44])\n",
      " +- RootMover([40])\n",
      "     +- Minus([23])\n",
      "         +- EnsembleFilter([24])\n",
      "             +- ConditionalSequential([25])\n",
      "                 +- MinusSubtrajectoryChooser([26])\n",
      "                 |   +- FinalSubtrajectorySelect([28])\n",
      "                 +- InterfaceSetChooser([29])\n",
      "                 +- MinusExtensionDirectionChooser([31])\n",
      "                     +- BackwardExtend([33])\n"
     ]
    }
   ],
   "source": [
    "print first_minus_change.unique"
   ]
  },
  {
   "cell_type": "markdown",
   "metadata": {},
   "source": [
    "will be interpreted as"
   ]
  },
  {
   "cell_type": "code",
   "execution_count": 91,
   "metadata": {
    "collapsed": false
   },
   "outputs": [
    {
     "name": "stdout",
     "output_type": "stream",
     "text": [
      "PathSimulator([44])\n",
      " +- RootMover([40])\n",
      "     +- Minus([23])\n",
      "         +- EnsembleFilter([24])\n",
      "             +- ConditionalSequential([25])\n",
      "                 +- MinusSubtrajectoryChooser([26])\n",
      "                 |   +- FinalSubtrajectorySelect([28])\n",
      "                 +- InterfaceSetChooser([29])\n",
      "                 +- MinusExtensionDirectionChooser([31])\n",
      "                     +- BackwardExtend([33])\n"
     ]
    }
   ],
   "source": [
    "print first_minus_change.unique"
   ]
  },
  {
   "cell_type": "code",
   "execution_count": 99,
   "metadata": {
    "collapsed": false
   },
   "outputs": [
    {
     "name": "stdout",
     "output_type": "stream",
     "text": [
      "(1, (1,))\n"
     ]
    }
   ],
   "source": []
  },
  {
   "cell_type": "code",
   "execution_count": 112,
   "metadata": {
    "collapsed": true
   },
   "outputs": [],
   "source": [
    "class b(tuple):\n",
    "    pass"
   ]
  },
  {
   "cell_type": "code",
   "execution_count": 115,
   "metadata": {
    "collapsed": false
   },
   "outputs": [
    {
     "data": {
      "text/plain": [
       "(1, (1,))"
      ]
     },
     "execution_count": 115,
     "metadata": {},
     "output_type": "execute_result"
    }
   ],
   "source": [
    "q = b((1, (1, )))\n",
    "q"
   ]
  },
  {
   "cell_type": "code",
   "execution_count": 109,
   "metadata": {
    "collapsed": false
   },
   "outputs": [
    {
     "data": {
      "text/plain": [
       "(13, (9, (15, (28, (12,), (13,)), (28, (12,), (13,)), (28, (12,), (13,)), (28, (12,), (13,)), (28, (12,), (13,)), (28, (12,), (13,))), (15, (12,), (12,), (12,), (12,), (12,), (12,)), (15, (15,), (15,), (15,), (15,), (15,)), (5, (14, (21, (25, (24,), (24,)), (19, (15,)), (30, (13,), (14,)))))))"
      ]
     },
     "execution_count": 109,
     "metadata": {},
     "output_type": "execute_result"
    }
   ],
   "source": [
    "pm.map_tree(lambda x : len(x.name))"
   ]
  },
  {
   "cell_type": "markdown",
   "metadata": {
    "collapsed": true
   },
   "source": [
    "### Some speed tests"
   ]
  },
  {
   "cell_type": "code",
   "execution_count": 38,
   "metadata": {
    "collapsed": false
   },
   "outputs": [
    {
     "name": "stdout",
     "output_type": "stream",
     "text": [
      "The slowest run took 10.09 times longer than the fastest. This could mean that an intermediate result is being cached \n",
      "1000000 loops, best of 3: 496 ns per loop\n"
     ]
    }
   ],
   "source": [
    "%%timeit\n",
    "pm.enum"
   ]
  },
  {
   "cell_type": "code",
   "execution_count": 40,
   "metadata": {
    "collapsed": false
   },
   "outputs": [
    {
     "name": "stdout",
     "output_type": "stream",
     "text": [
      "1000 loops, best of 3: 214 µs per loop\n"
     ]
    }
   ],
   "source": [
    "%%timeit\n",
    "pmc in pm"
   ]
  },
  {
   "cell_type": "code",
   "execution_count": 42,
   "metadata": {
    "collapsed": false
   },
   "outputs": [
    {
     "name": "stdout",
     "output_type": "stream",
     "text": [
      "1000 loops, best of 3: 872 µs per loop\n"
     ]
    }
   ],
   "source": [
    "%%timeit\n",
    "[p in pmc for p in pm.enum]"
   ]
  },
  {
   "cell_type": "code",
   "execution_count": 43,
   "metadata": {
    "collapsed": false
   },
   "outputs": [
    {
     "name": "stdout",
     "output_type": "stream",
     "text": [
      "The slowest run took 7.20 times longer than the fastest. This could mean that an intermediate result is being cached \n",
      "100000 loops, best of 3: 2.65 µs per loop\n"
     ]
    }
   ],
   "source": [
    "%%timeit\n",
    "pm in pm"
   ]
  },
  {
   "cell_type": "code",
   "execution_count": 44,
   "metadata": {
    "collapsed": false
   },
   "outputs": [
    {
     "name": "stdout",
     "output_type": "stream",
     "text": [
      "1000 loops, best of 3: 225 µs per loop\n"
     ]
    }
   ],
   "source": [
    "%%timeit\n",
    "pmc.unique in pm"
   ]
  },
  {
   "cell_type": "code",
   "execution_count": null,
   "metadata": {
    "collapsed": true
   },
   "outputs": [],
   "source": []
  }
 ],
 "metadata": {
  "kernelspec": {
   "display_name": "Python 2",
   "language": "python",
   "name": "python2"
  },
  "language_info": {
   "codemirror_mode": {
    "name": "ipython",
    "version": 2
   },
   "file_extension": ".py",
   "mimetype": "text/x-python",
   "name": "python",
   "nbconvert_exporter": "python",
   "pygments_lexer": "ipython2",
   "version": "2.7.10"
  }
 },
 "nbformat": 4,
 "nbformat_minor": 0
}

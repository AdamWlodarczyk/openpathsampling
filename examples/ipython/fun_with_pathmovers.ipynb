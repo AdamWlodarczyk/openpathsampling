{
 "cells": [
  {
   "cell_type": "markdown",
   "metadata": {},
   "source": [
    "### PathMovers"
   ]
  },
  {
   "cell_type": "markdown",
   "metadata": {},
   "source": [
    "This notebook is an introduction to handling `PathMover` and `PathMoveChange` instances. It mostly covers the questions on \n",
    "1. how to check if a certain mover was part of a change. \n",
    "2. What are the possible changes a mover can generate.\n",
    "3. ..."
   ]
  },
  {
   "cell_type": "markdown",
   "metadata": {},
   "source": [
    "Load OPENPATHSAMPLING"
   ]
  },
  {
   "cell_type": "code",
   "execution_count": 1,
   "metadata": {
    "collapsed": true
   },
   "outputs": [],
   "source": [
    "import openpathsampling as p"
   ]
  },
  {
   "cell_type": "markdown",
   "metadata": {},
   "source": [
    "Let's open a file that contains a mover and lot's of changes"
   ]
  },
  {
   "cell_type": "code",
   "execution_count": 2,
   "metadata": {
    "collapsed": false
   },
   "outputs": [],
   "source": [
    "st = p.storage.Storage('_toy_retis.nc', mode='r')"
   ]
  },
  {
   "cell_type": "markdown",
   "metadata": {},
   "source": [
    "A Simulator creates simulation steps. So we load a single step."
   ]
  },
  {
   "cell_type": "code",
   "execution_count": 3,
   "metadata": {
    "collapsed": false
   },
   "outputs": [
    {
     "name": "stdout",
     "output_type": "stream",
     "text": [
      "<openpathsampling.pathsimulator.MCStep object at 0x10f069b50>\n"
     ]
    }
   ],
   "source": [
    "mc = st.steps[3]\n",
    "print mc"
   ]
  },
  {
   "cell_type": "markdown",
   "metadata": {},
   "source": [
    "Each step posesses a pathmovechange which we will get"
   ]
  },
  {
   "cell_type": "code",
   "execution_count": 4,
   "metadata": {
    "collapsed": false
   },
   "outputs": [
    {
     "name": "stdout",
     "output_type": "stream",
     "text": [
      "PathSimulatorStep : PathSampling : Step # 3 with 0 samples\n",
      " +- RandomChoice :\n",
      "     +- RandomChoice :\n",
      "         +- SampleMove : PathReversalMover : False :[]\n"
     ]
    }
   ],
   "source": [
    "pmc = mc.change\n",
    "print pmc"
   ]
  },
  {
   "cell_type": "markdown",
   "metadata": {},
   "source": [
    "And the mover that was used to generate this change"
   ]
  },
  {
   "cell_type": "code",
   "execution_count": 5,
   "metadata": {
    "collapsed": false
   },
   "outputs": [
    {
     "name": "stdout",
     "output_type": "stream",
     "text": [
      "PathSimulator([44])\n",
      " +- RootMover([40])\n",
      "     +- ShootingChooser([41])\n",
      "     |   +- OneWayShootingMover I'face 0([5])\n",
      "     |   |   +- ForwardShoot([6])\n",
      "     |   |   +- BackwardShoot([7])\n",
      "     |   +- OneWayShootingMover I'face 1([8])\n",
      "     |   |   +- ForwardShoot([9])\n",
      "     |   |   +- BackwardShoot([10])\n",
      "     |   +- OneWayShootingMover I'face 2([11])\n",
      "     |   |   +- ForwardShoot([12])\n",
      "     |   |   +- BackwardShoot([13])\n",
      "     |   +- OneWayShootingMover I'face 3([14])\n",
      "     |   |   +- ForwardShoot([15])\n",
      "     |   |   +- BackwardShoot([16])\n",
      "     |   +- OneWayShootingMover I'face 4([17])\n",
      "     |   |   +- ForwardShoot([18])\n",
      "     |   |   +- BackwardShoot([19])\n",
      "     |   +- OneWayShootingMover I'face 5([20])\n",
      "     |       +- ForwardShoot([21])\n",
      "     |       +- BackwardShoot([22])\n",
      "     +- ReversalChooser([42])\n",
      "     |   +- PathReversal([34])\n",
      "     |   +- PathReversal([35])\n",
      "     |   +- PathReversal([36])\n",
      "     |   +- PathReversal([37])\n",
      "     |   +- PathReversal([38])\n",
      "     |   +- PathReversal([39])\n",
      "     +- ReplicaExchange([43])\n",
      "     |   +- ReplicaExchange([0])\n",
      "     |   +- ReplicaExchange([1])\n",
      "     |   +- ReplicaExchange([2])\n",
      "     |   +- ReplicaExchange([3])\n",
      "     |   +- ReplicaExchange([4])\n",
      "     +- Minus([23])\n",
      "         +- EnsembleFilter([24])\n",
      "             +- ConditionalSequential([25])\n",
      "                 +- MinusSubtrajectoryChooser([26])\n",
      "                 |   +- FirstSubtrajectorySelect([27])\n",
      "                 |   +- FinalSubtrajectorySelect([28])\n",
      "                 +- InterfaceSetChooser([29])\n",
      "                 |   +- ReplicaExchange([30])\n",
      "                 +- MinusExtensionDirectionChooser([31])\n",
      "                     +- ForwardExtend([32])\n",
      "                     +- BackwardExtend([33])\n"
     ]
    }
   ],
   "source": [
    "pm = pmc.mover\n",
    "print pm.treeprint()"
   ]
  },
  {
   "cell_type": "markdown",
   "metadata": {},
   "source": [
    "Let's first check if the pmc was really created by the pathmover"
   ]
  },
  {
   "cell_type": "code",
   "execution_count": 6,
   "metadata": {
    "collapsed": false
   },
   "outputs": [
    {
     "data": {
      "text/plain": [
       "True"
      ]
     },
     "execution_count": 6,
     "metadata": {},
     "output_type": "execute_result"
    }
   ],
   "source": [
    "pmc in pm"
   ]
  },
  {
   "cell_type": "markdown",
   "metadata": {},
   "source": [
    "This should be obvious, but under the hood there is some more fancy stuff happening. The `in` keyword with pathmovers and changes actually works on trees of movers. These trees are used to represent a specific order or movers being called and these trees are unique for changes. This means there is a way to label each possible pmc that can be generated by a mover. This possible only refers to choices in actual movers. \n",
    "\n",
    "This is due to special PathMovers that can pick one or more movers among a set of possibilities. The simplest of these is the OneWayShooter which choses equal between forward and backward shooting. So a OneWayShooter has two possible outcomes. Let's look at these"
   ]
  },
  {
   "cell_type": "code",
   "execution_count": 7,
   "metadata": {
    "collapsed": false
   },
   "outputs": [],
   "source": [
    "ow_mover = p.OneWayShootingMover([], []) # we use dummy arguments since are not going to use it"
   ]
  },
  {
   "cell_type": "markdown",
   "metadata": {},
   "source": [
    "The property `enum` will evaluate the (potentially VERY large) number of all possible changes"
   ]
  },
  {
   "cell_type": "code",
   "execution_count": 8,
   "metadata": {
    "collapsed": false
   },
   "outputs": [
    {
     "data": {
      "text/plain": [
       "[(OneWayShooting([]), (ForwardShoot([]))),\n",
       " (OneWayShooting([]), (BackwardShoot([])))]"
      ]
     },
     "execution_count": 8,
     "metadata": {},
     "output_type": "execute_result"
    }
   ],
   "source": [
    "list(ow_mover.enum)"
   ]
  },
  {
   "cell_type": "markdown",
   "metadata": {},
   "source": [
    "which is two in our case. Another example"
   ]
  },
  {
   "cell_type": "code",
   "execution_count": 9,
   "metadata": {
    "collapsed": false
   },
   "outputs": [],
   "source": [
    "ow_mover_2 = p.RandomChoiceMover([\n",
    "        p.OneWayShootingMover([], []),\n",
    "        p.OneWayShootingMover([], [])\n",
    "        ])"
   ]
  },
  {
   "cell_type": "code",
   "execution_count": 10,
   "metadata": {
    "collapsed": false
   },
   "outputs": [
    {
     "data": {
      "text/plain": [
       "[(RandomChoice([]), (OneWayShooting([]), (ForwardShoot([])))),\n",
       " (RandomChoice([]), (OneWayShooting([]), (BackwardShoot([])))),\n",
       " (RandomChoice([]), (OneWayShooting([]), (ForwardShoot([])))),\n",
       " (RandomChoice([]), (OneWayShooting([]), (BackwardShoot([]))))]"
      ]
     },
     "execution_count": 10,
     "metadata": {},
     "output_type": "execute_result"
    }
   ],
   "source": [
    "list(ow_mover_2.enum)"
   ]
  },
  {
   "cell_type": "markdown",
   "metadata": {},
   "source": [
    "Now we have 4 choices as expected 2 for the RandomChoice * 2 for the OneWayShooter. Although effectively there are only 2 distinct ones. Why is that? The problem in `ow_mover_2` is that we defined two separate instances of the OneWayShootingMover and in general different instances are considered different. In this case it might even be possible to check for equality, but we decided to leave this to the user. If you create two instances we assume there is a reason. Maybe just calling the differently (although it makes no sense for the monte carlo scheme).\n",
    "\n",
    "The next example uses the same mover twice"
   ]
  },
  {
   "cell_type": "code",
   "execution_count": 11,
   "metadata": {
    "collapsed": false
   },
   "outputs": [],
   "source": [
    "ow_mover_3 = p.RandomChoiceMover([\n",
    "        ow_mover,\n",
    "        ow_mover\n",
    "        ])"
   ]
  },
  {
   "cell_type": "code",
   "execution_count": 12,
   "metadata": {
    "collapsed": false
   },
   "outputs": [
    {
     "data": {
      "text/plain": [
       "[(RandomChoice([]), (OneWayShooting([]), (ForwardShoot([])))),\n",
       " (RandomChoice([]), (OneWayShooting([]), (BackwardShoot([]))))]"
      ]
     },
     "execution_count": 12,
     "metadata": {},
     "output_type": "execute_result"
    }
   ],
   "source": [
    "list(ow_mover_3.enum)"
   ]
  },
  {
   "cell_type": "markdown",
   "metadata": {},
   "source": [
    "And we get only two distinct movers as we wanted to."
   ]
  },
  {
   "cell_type": "markdown",
   "metadata": {},
   "source": [
    "Let's look at the real mover"
   ]
  },
  {
   "cell_type": "code",
   "execution_count": 13,
   "metadata": {
    "collapsed": false,
    "scrolled": true
   },
   "outputs": [
    {
     "name": "stdout",
     "output_type": "stream",
     "text": [
      "31\n"
     ]
    },
    {
     "data": {
      "text/plain": [
       "[(PathSimulator([44]),\n",
       "  (RootMover([40]),\n",
       "   (Minus([23]),\n",
       "    (EnsembleFilter([24]),\n",
       "     (ConditionalSequential([25]),\n",
       "      (MinusSubtrajectoryChooser([26]), (FirstSubtrajectorySelect([27])))))))),\n",
       " (PathSimulator([44]),\n",
       "  (RootMover([40]),\n",
       "   (Minus([23]),\n",
       "    (EnsembleFilter([24]),\n",
       "     (ConditionalSequential([25]),\n",
       "      (MinusSubtrajectoryChooser([26]), (FirstSubtrajectorySelect([27]))),\n",
       "      (InterfaceSetChooser([29])),\n",
       "      (MinusExtensionDirectionChooser([31]), (BackwardExtend([33])))))))),\n",
       " (PathSimulator([44]),\n",
       "  (RootMover([40]), (ReplicaExchange([43]), (ReplicaExchange([1]))))),\n",
       " (PathSimulator([44]),\n",
       "  (RootMover([40]), (ReversalChooser([42]), (PathReversal([39])))))]"
      ]
     },
     "execution_count": 13,
     "metadata": {},
     "output_type": "execute_result"
    }
   ],
   "source": [
    "all_changes = list(pm.enum)\n",
    "print len(all_changes)\n",
    "all_changes[0:20:5]"
   ]
  },
  {
   "cell_type": "markdown",
   "metadata": {},
   "source": [
    "This one has 31. Let's if we can reconstruct that number. The pathmover first choses between 4 different move types. \n",
    "\n",
    "1. Shooting, with one shooter for each of the 6 ensembles and two directions (forward and backward) are 6 * 2 = 12. \n",
    "2. Reversal one for each ensemble = 6\n",
    "3. ReplicaExchange between all neighboring ensembles [1,2], [2,3], ..., [5,6]  = 5\n",
    "4. And a Minus Move that consists of choices for picking the first or final inner trajectory from the minus ensemble and 2 choices for extending forward or backward. Here is important that we use a ConditionalSequentialMover that might call only some of its inner sequence. To be precise it could call only the subtrajectoryselection (2 choices), the selection and the replicaexchange (also 2 choices) or all three movers (4 choices). The will give a total of 8 possibilities\n",
    "\n",
    "In total we have 12 + 6 + 5 + 8 = 31 as `enum` predicted."
   ]
  },
  {
   "cell_type": "markdown",
   "metadata": {},
   "source": [
    "Let's do some more testing"
   ]
  },
  {
   "cell_type": "markdown",
   "metadata": {},
   "source": [
    "First let's check if the keys we get for all changes in the storage are actually contained in the mover or put more simple the mover could have generated these changes. This should be true for all changes that originate from our mover."
   ]
  },
  {
   "cell_type": "code",
   "execution_count": 14,
   "metadata": {
    "collapsed": false
   },
   "outputs": [
    {
     "name": "stdout",
     "output_type": "stream",
     "text": [
      "[False, False, True, False, False, False, False, False, True, False, False, False, False, False, True, False, False, False, False, True]\n"
     ]
    }
   ],
   "source": [
    "print [pc in pm for pc in st.pathmovechanges[0:20]]"
   ]
  },
  {
   "cell_type": "markdown",
   "metadata": {},
   "source": [
    "What happened here? Why are only some changes made by our mover? Shouldn't all of them (except the 2 in the beginning) be the result of our pathmover? Yes and no. They are, but we are checking if the total change is made from a mover and we are also checking subchanges."
   ]
  },
  {
   "cell_type": "code",
   "execution_count": 15,
   "metadata": {
    "collapsed": false
   },
   "outputs": [
    {
     "name": "stdout",
     "output_type": "stream",
     "text": [
      "PathSimulatorStep : PathSampling : Step # 1 with 0 samples\n",
      " +- RandomChoice :\n",
      "     +- RandomChoice :\n",
      "         +- OneWayShooting :\n",
      "             +- SampleMove : BackwardShootMover : False :[]\n",
      "True\n",
      "\n",
      "OneWayShooting :\n",
      " +- SampleMove : BackwardShootMover : False :[]\n",
      "False\n"
     ]
    }
   ],
   "source": [
    "print st.pathmovechanges[2]\n",
    "print st.pathmovechanges[2] in pm\n",
    "print\n",
    "print st.pathmovechanges[5]\n",
    "print st.pathmovechanges[5] in pm"
   ]
  },
  {
   "cell_type": "markdown",
   "metadata": {},
   "source": [
    "First cache all changes to see if the next steps are really fast or not."
   ]
  },
  {
   "cell_type": "code",
   "execution_count": 16,
   "metadata": {
    "collapsed": false
   },
   "outputs": [],
   "source": [
    "_ = list(st.pathmovechanges)\n",
    "_ = list(st.steps)"
   ]
  },
  {
   "cell_type": "markdown",
   "metadata": {},
   "source": [
    "That seems bad, how to we get all the changes that are really important? One way is to scan all changes and use only the ones from the mover"
   ]
  },
  {
   "cell_type": "code",
   "execution_count": 17,
   "metadata": {
    "collapsed": false
   },
   "outputs": [
    {
     "name": "stdout",
     "output_type": "stream",
     "text": [
      "200 of 1120\n"
     ]
    }
   ],
   "source": [
    "real_changes = filter(lambda x : x in pm, st.pathmovechanges)\n",
    "print len(real_changes), 'of', len(st.pathmovechanges)"
   ]
  },
  {
   "cell_type": "markdown",
   "metadata": {},
   "source": [
    "While this works it would be better to rely on the steps in the simulation and not on the changes itself. The steps point to the changes that are used to generate the next sampleset that we wanted. "
   ]
  },
  {
   "cell_type": "code",
   "execution_count": 18,
   "metadata": {
    "collapsed": false
   },
   "outputs": [
    {
     "name": "stdout",
     "output_type": "stream",
     "text": [
      "200\n"
     ]
    }
   ],
   "source": [
    "step_changes = [step.change for step in st.steps[1:]]\n",
    "print len(step_changes)"
   ]
  },
  {
   "cell_type": "markdown",
   "metadata": {},
   "source": [
    "We exclude the first step since it is the initialization which is not generated by our pathmover."
   ]
  },
  {
   "cell_type": "markdown",
   "metadata": {},
   "source": [
    "Let's now check which and how often one the 31 possible steps was called."
   ]
  },
  {
   "cell_type": "code",
   "execution_count": 19,
   "metadata": {
    "collapsed": true
   },
   "outputs": [],
   "source": [
    "import collections"
   ]
  },
  {
   "cell_type": "code",
   "execution_count": 20,
   "metadata": {
    "collapsed": false
   },
   "outputs": [],
   "source": [
    "counter = collections.defaultdict(lambda: 0)"
   ]
  },
  {
   "cell_type": "code",
   "execution_count": 21,
   "metadata": {
    "collapsed": false
   },
   "outputs": [],
   "source": [
    "for ch in step_changes:\n",
    "    counter[ch.unique] += 1"
   ]
  },
  {
   "cell_type": "markdown",
   "metadata": {},
   "source": [
    "Let's make this better readable and define a recursive function that turn the tree of tuples into a nested string."
   ]
  },
  {
   "cell_type": "code",
   "execution_count": 22,
   "metadata": {
    "collapsed": false,
    "scrolled": false
   },
   "outputs": [
    {
     "name": "stdout",
     "output_type": "stream",
     "text": [
      "25 of 31 different changes run \n",
      "------------------------------ \n",
      "\n",
      "\n",
      "12 x <class 'openpathsampling.treelogic.TupleTree'>\n",
      "PathSimulator([44])\n",
      " +- RootMover([40])\n",
      "     +- ReplicaExchange([43])\n",
      "         +- ReplicaExchange([1])\n",
      "\n",
      "12 x <class 'openpathsampling.treelogic.TupleTree'>\n",
      "PathSimulator([44])\n",
      " +- RootMover([40])\n",
      "     +- ReversalChooser([42])\n",
      "         +- PathReversal([34])\n",
      "\n",
      "11 x <class 'openpathsampling.treelogic.TupleTree'>\n",
      "PathSimulator([44])\n",
      " +- RootMover([40])\n",
      "     +- ReversalChooser([42])\n",
      "         +- PathReversal([39])\n",
      "\n",
      "11 x <class 'openpathsampling.treelogic.TupleTree'>\n",
      "PathSimulator([44])\n",
      " +- RootMover([40])\n",
      "     +- ShootingChooser([41])\n",
      "         +- OneWayShootingMover I'face 1([8])\n",
      "             +- BackwardShoot([10])\n",
      "\n",
      "11 x <class 'openpathsampling.treelogic.TupleTree'>\n",
      "PathSimulator([44])\n",
      " +- RootMover([40])\n",
      "     +- ReversalChooser([42])\n",
      "         +- PathReversal([35])\n",
      "\n",
      "11 x <class 'openpathsampling.treelogic.TupleTree'>\n",
      "PathSimulator([44])\n",
      " +- RootMover([40])\n",
      "     +- ShootingChooser([41])\n",
      "         +- OneWayShootingMover I'face 1([8])\n",
      "             +- ForwardShoot([9])\n",
      "\n",
      "10 x <class 'openpathsampling.treelogic.TupleTree'>\n",
      "PathSimulator([44])\n",
      " +- RootMover([40])\n",
      "     +- ShootingChooser([41])\n",
      "         +- OneWayShootingMover I'face 5([20])\n",
      "             +- ForwardShoot([21])\n",
      "\n",
      "10 x <class 'openpathsampling.treelogic.TupleTree'>\n",
      "PathSimulator([44])\n",
      " +- RootMover([40])\n",
      "     +- ShootingChooser([41])\n",
      "         +- OneWayShootingMover I'face 3([14])\n",
      "             +- ForwardShoot([15])\n",
      "\n",
      "10 x <class 'openpathsampling.treelogic.TupleTree'>\n",
      "PathSimulator([44])\n",
      " +- RootMover([40])\n",
      "     +- ReplicaExchange([43])\n",
      "         +- ReplicaExchange([3])\n",
      "\n",
      "10 x <class 'openpathsampling.treelogic.TupleTree'>\n",
      "PathSimulator([44])\n",
      " +- RootMover([40])\n",
      "     +- ReversalChooser([42])\n",
      "         +- PathReversal([36])\n",
      "\n",
      "9 x <class 'openpathsampling.treelogic.TupleTree'>\n",
      "PathSimulator([44])\n",
      " +- RootMover([40])\n",
      "     +- ReplicaExchange([43])\n",
      "         +- ReplicaExchange([0])\n",
      "\n",
      "9 x <class 'openpathsampling.treelogic.TupleTree'>\n",
      "PathSimulator([44])\n",
      " +- RootMover([40])\n",
      "     +- ShootingChooser([41])\n",
      "         +- OneWayShootingMover I'face 5([20])\n",
      "             +- BackwardShoot([22])\n",
      "\n",
      "8 x <class 'openpathsampling.treelogic.TupleTree'>\n",
      "PathSimulator([44])\n",
      " +- RootMover([40])\n",
      "     +- ShootingChooser([41])\n",
      "         +- OneWayShootingMover I'face 4([17])\n",
      "             +- ForwardShoot([18])\n",
      "\n",
      "8 x <class 'openpathsampling.treelogic.TupleTree'>\n",
      "PathSimulator([44])\n",
      " +- RootMover([40])\n",
      "     +- ShootingChooser([41])\n",
      "         +- OneWayShootingMover I'face 4([17])\n",
      "             +- BackwardShoot([19])\n",
      "\n",
      "8 x <class 'openpathsampling.treelogic.TupleTree'>\n",
      "PathSimulator([44])\n",
      " +- RootMover([40])\n",
      "     +- ShootingChooser([41])\n",
      "         +- OneWayShootingMover I'face 3([14])\n",
      "             +- BackwardShoot([16])\n",
      "\n",
      "8 x <class 'openpathsampling.treelogic.TupleTree'>\n",
      "PathSimulator([44])\n",
      " +- RootMover([40])\n",
      "     +- ReplicaExchange([43])\n",
      "         +- ReplicaExchange([2])\n",
      "\n",
      "8 x <class 'openpathsampling.treelogic.TupleTree'>\n",
      "PathSimulator([44])\n",
      " +- RootMover([40])\n",
      "     +- ShootingChooser([41])\n",
      "         +- OneWayShootingMover I'face 0([5])\n",
      "             +- ForwardShoot([6])\n",
      "\n",
      "7 x <class 'openpathsampling.treelogic.TupleTree'>\n",
      "PathSimulator([44])\n",
      " +- RootMover([40])\n",
      "     +- ShootingChooser([41])\n",
      "         +- OneWayShootingMover I'face 2([11])\n",
      "             +- BackwardShoot([13])\n",
      "\n",
      "6 x <class 'openpathsampling.treelogic.TupleTree'>\n",
      "PathSimulator([44])\n",
      " +- RootMover([40])\n",
      "     +- ReversalChooser([42])\n",
      "         +- PathReversal([38])\n",
      "\n",
      "6 x <class 'openpathsampling.treelogic.TupleTree'>\n",
      "PathSimulator([44])\n",
      " +- RootMover([40])\n",
      "     +- ReversalChooser([42])\n",
      "         +- PathReversal([37])\n",
      "\n",
      "5 x <class 'openpathsampling.treelogic.TupleTree'>\n",
      "PathSimulator([44])\n",
      " +- RootMover([40])\n",
      "     +- ReplicaExchange([43])\n",
      "         +- ReplicaExchange([4])\n",
      "\n",
      "4 x <class 'openpathsampling.treelogic.TupleTree'>\n",
      "PathSimulator([44])\n",
      " +- RootMover([40])\n",
      "     +- ShootingChooser([41])\n",
      "         +- OneWayShootingMover I'face 0([5])\n",
      "             +- BackwardShoot([7])\n",
      "\n",
      "3 x <class 'openpathsampling.treelogic.TupleTree'>\n",
      "PathSimulator([44])\n",
      " +- RootMover([40])\n",
      "     +- ShootingChooser([41])\n",
      "         +- OneWayShootingMover I'face 2([11])\n",
      "             +- ForwardShoot([12])\n",
      "\n",
      "2 x <class 'openpathsampling.treelogic.TupleTree'>\n",
      "PathSimulator([44])\n",
      " +- RootMover([40])\n",
      "     +- Minus([23])\n",
      "         +- EnsembleFilter([24])\n",
      "             +- ConditionalSequential([25])\n",
      "                 +- MinusSubtrajectoryChooser([26])\n",
      "                 |   +- FinalSubtrajectorySelect([28])\n",
      "                 +- InterfaceSetChooser([29])\n",
      "                 +- MinusExtensionDirectionChooser([31])\n",
      "                     +- BackwardExtend([33])\n",
      "\n",
      "1 x <class 'openpathsampling.treelogic.TupleTree'>\n",
      "PathSimulator([44])\n",
      " +- RootMover([40])\n",
      "     +- Minus([23])\n",
      "         +- EnsembleFilter([24])\n",
      "             +- ConditionalSequential([25])\n",
      "                 +- MinusSubtrajectoryChooser([26])\n",
      "                 |   +- FirstSubtrajectorySelect([27])\n",
      "                 +- InterfaceSetChooser([29])\n",
      "                 +- MinusExtensionDirectionChooser([31])\n",
      "                     +- ForwardExtend([32])\n"
     ]
    }
   ],
   "source": [
    "s = '%d of %d different changes run' % (len(counter), len(list(pm.enum)))\n",
    "print s, '\\n', '-' * len(s), '\\n'\n",
    "\n",
    "for y in sorted(counter.items(), key=lambda x : -x[1]):\n",
    "    print\n",
    "    print y[1], 'x', type(y[0])\n",
    "    print y[0].treeprint()"
   ]
  },
  {
   "cell_type": "markdown",
   "metadata": {},
   "source": [
    "We see that especially Minus Moves are underrepresented. We should realize that all listed possibilies of the minus move can occur most of these are very rare since they require extremely long trajectories or a spontaneous cross to another state which is by construction very unlikely. If it were very likely we do not need OPS since we could sample transitions just by regular MD!"
   ]
  },
  {
   "cell_type": "markdown",
   "metadata": {},
   "source": [
    "What else can we learn or ask for?"
   ]
  },
  {
   "cell_type": "markdown",
   "metadata": {},
   "source": [
    "We can check if a particular mover was run. Let's pick the very last MinusExtensionDirectionChoser. To check for it we can either just check for the instance in a pmc"
   ]
  },
  {
   "cell_type": "code",
   "execution_count": 23,
   "metadata": {
    "collapsed": false
   },
   "outputs": [
    {
     "name": "stdout",
     "output_type": "stream",
     "text": [
      "MinusExtensionDirectionChooser([31])\n"
     ]
    }
   ],
   "source": [
    "medc = pm[1][4][1][1][3]\n",
    "print medc"
   ]
  },
  {
   "cell_type": "code",
   "execution_count": 24,
   "metadata": {
    "collapsed": false
   },
   "outputs": [
    {
     "name": "stdout",
     "output_type": "stream",
     "text": [
      "PathSimulator([215])\n",
      "PathSimulator([44])\n",
      " +- RootMover([40])\n",
      "     +- Minus([23])\n",
      "         +- EnsembleFilter([24])\n",
      "             +- ConditionalSequential([25])\n",
      "                 +- MinusSubtrajectoryChooser([26])\n",
      "                 |   +- FinalSubtrajectorySelect([28])\n",
      "                 +- InterfaceSetChooser([29])\n",
      "                 +- MinusExtensionDirectionChooser([31])\n",
      "                     +- BackwardExtend([33])\n",
      "\n",
      "PathSimulator([563])\n",
      "PathSimulator([44])\n",
      " +- RootMover([40])\n",
      "     +- Minus([23])\n",
      "         +- EnsembleFilter([24])\n",
      "             +- ConditionalSequential([25])\n",
      "                 +- MinusSubtrajectoryChooser([26])\n",
      "                 |   +- FirstSubtrajectorySelect([27])\n",
      "                 +- InterfaceSetChooser([29])\n",
      "                 +- MinusExtensionDirectionChooser([31])\n",
      "                     +- ForwardExtend([32])\n",
      "\n",
      "PathSimulator([785])\n",
      "PathSimulator([44])\n",
      " +- RootMover([40])\n",
      "     +- Minus([23])\n",
      "         +- EnsembleFilter([24])\n",
      "             +- ConditionalSequential([25])\n",
      "                 +- MinusSubtrajectoryChooser([26])\n",
      "                 |   +- FinalSubtrajectorySelect([28])\n",
      "                 +- InterfaceSetChooser([29])\n",
      "                 +- MinusExtensionDirectionChooser([31])\n",
      "                     +- BackwardExtend([33])\n",
      "\n",
      "CPU times: user 4.2 ms, sys: 1.62 ms, total: 5.82 ms\n",
      "Wall time: 4.63 ms\n"
     ]
    }
   ],
   "source": [
    "%%time\n",
    "for pc in step_changes:\n",
    "    if medc in pc:\n",
    "        print repr(pc)\n",
    "        print pc.unique\n",
    "        print"
   ]
  },
  {
   "cell_type": "markdown",
   "metadata": {},
   "source": [
    "the expression `mover_instance in pmc` checks for the overall appearance of a mover somewhere independent of the location."
   ]
  },
  {
   "cell_type": "markdown",
   "metadata": {},
   "source": [
    "The second possibilty is to use a locator. \n",
    "A locator is a tupletree that is so specific that it will test for a specific mover. "
   ]
  },
  {
   "cell_type": "code",
   "execution_count": 25,
   "metadata": {
    "collapsed": false
   },
   "outputs": [],
   "source": [
    "locators = pm.locators()"
   ]
  },
  {
   "cell_type": "code",
   "execution_count": 26,
   "metadata": {
    "collapsed": false
   },
   "outputs": [],
   "source": [
    "medc_locator = filter(lambda (key, mover) : mover is medc, locators.iteritems())[0][0]"
   ]
  },
  {
   "cell_type": "code",
   "execution_count": 27,
   "metadata": {
    "collapsed": false
   },
   "outputs": [
    {
     "name": "stdout",
     "output_type": "stream",
     "text": [
      "True\n",
      "PathSimulator([44])\n",
      " +- RootMover([40])\n",
      "     +- Minus([23])\n",
      "         +- EnsembleFilter([24])\n",
      "             +- ConditionalSequential([25])\n",
      "                 +- MinusSubtrajectoryChooser([26])\n",
      "                 |   +- FinalSubtrajectorySelect([28])\n",
      "                 +- InterfaceSetChooser([29])\n",
      "                 +- MinusExtensionDirectionChooser([31])\n",
      "                     +- BackwardExtend([33])\n"
     ]
    }
   ],
   "source": [
    "pmc_tuple = st.pathmovechanges[215].unique\n",
    "print medc_locator in pmc_tuple\n",
    "print pmc_tuple"
   ]
  },
  {
   "cell_type": "markdown",
   "metadata": {},
   "source": [
    "This locator will test if the MinusExtentionDirectionChooser was called and only at this position. Imagine you have the same mover at another place in the tree and you want to check which one is called more often. This is what locators are useful for. If we look closely this locator looks almost like the key of a change"
   ]
  },
  {
   "cell_type": "code",
   "execution_count": 28,
   "metadata": {
    "collapsed": false
   },
   "outputs": [
    {
     "name": "stdout",
     "output_type": "stream",
     "text": [
      "PathSimulator([44])\n",
      " +- RootMover([40])\n",
      "     +- Minus([23])\n",
      "         +- EnsembleFilter([24])\n",
      "             +- ConditionalSequential([25])\n",
      "                 +- MinusSubtrajectoryChooser([26])\n",
      "                 |   +- FinalSubtrajectorySelect([28])\n",
      "                 +- InterfaceSetChooser([29])\n",
      "                 +- MinusExtensionDirectionChooser([31])\n",
      "                     +- BackwardExtend([33])\n"
     ]
    }
   ],
   "source": [
    "print pmc_tuple"
   ]
  },
  {
   "cell_type": "code",
   "execution_count": 29,
   "metadata": {
    "collapsed": false
   },
   "outputs": [
    {
     "data": {
      "text/plain": [
       "(PathSimulator([44]),\n",
       " (RootMover([40]),\n",
       "  (Minus([23]),\n",
       "   (EnsembleFilter([24]),\n",
       "    (ConditionalSequential([25]),\n",
       "     (MinusSubtrajectoryChooser([26]), (FinalSubtrajectorySelect([28]))),\n",
       "     (InterfaceSetChooser([29])),\n",
       "     (MinusExtensionDirectionChooser([31]), (BackwardExtend([33]))))))))"
      ]
     },
     "execution_count": 29,
     "metadata": {},
     "output_type": "execute_result"
    }
   ],
   "source": [
    "list(pm.enum)[7]"
   ]
  },
  {
   "cell_type": "code",
   "execution_count": 30,
   "metadata": {
    "collapsed": false
   },
   "outputs": [
    {
     "data": {
      "text/plain": [
       "MinusExtensionDirectionChooser([31])"
      ]
     },
     "execution_count": 30,
     "metadata": {},
     "output_type": "execute_result"
    }
   ],
   "source": [
    "pm[pm.locate(medc)[0]]"
   ]
  },
  {
   "cell_type": "code",
   "execution_count": 31,
   "metadata": {
    "collapsed": false
   },
   "outputs": [
    {
     "name": "stdout",
     "output_type": "stream",
     "text": [
      "+    +         +           +            +    \n",
      "+              +   +              +     +    \n",
      "+       +    + +                             \n",
      "+           +  +                        + +  \n",
      "+              +   +              +     +    \n",
      "+ +            +          +             +    \n",
      "+    +         +                 +      +    \n",
      "+      + +     +                             \n",
      "+            + +            +                \n",
      "+   +        + +                             \n",
      "+    +         +           +            +    \n",
      "+            + +                +            \n",
      "+      +       +                   +         \n",
      "+            + +                +            \n",
      "+            + +            +                \n",
      "+              ++                      ++    \n",
      "+      +       +                           + \n",
      "+            + +            +                \n",
      "+      +       +              +              \n",
      "+   +        + +                             \n",
      "+    +         +                 +      +    \n",
      "+           +  +      +                 +    \n",
      "+              +                  +  +  +    \n",
      "+              +   +              +     +    \n",
      "+            + +                +            \n",
      "+              +   +              +     +    \n",
      "+    +         +                 +      +    \n",
      "+      + +     +                             \n",
      "+      +       +              +              \n",
      "+             ++                       ++    \n",
      "+      + +     +                             \n",
      "+           +  +      +                 +    \n",
      "+            + +                +            \n",
      "+      + +     +                             \n",
      "+            + +       +                     \n",
      "+            + +                +            \n",
      "+       +    + +                             \n",
      "+              +                  +  +  +    \n",
      "+              +  +          +          +    \n",
      "++        ++   + +  ++              +       +\n",
      "+       +    + +                             \n",
      "+  +           +  +                     +    \n",
      "+    +         +           +            +    \n",
      "+      +       +                           + \n",
      "+      +       +                         +   \n",
      "+              +                  +  +  +    \n",
      "+           +  +                        + +  \n",
      "+             ++                       ++    \n",
      "+            + +                      +      \n",
      "+      +       +                   +         \n",
      "+      +       +                   +         \n",
      "+      +       +                         +   \n",
      "+    +         +           +            +    \n",
      "+      + +     +                             \n",
      "+      +       +                           + \n",
      "+              ++                      ++    \n",
      "+  +           +  +                     +    \n",
      "+            + +                      +      \n",
      "+           +  +                        + +  \n",
      "+      + +     +                             \n",
      "+             ++                       ++    \n",
      "+      +       +              +              \n",
      "+       +    + +                             \n",
      "+              ++                      ++    \n",
      "+      +       +              +              \n",
      "+    +         +           +            +    \n",
      "+              +                  +  +  +    \n",
      "+            + +       +                     \n",
      "+  +           +  +                     +    \n",
      "+ +            +          +             +    \n",
      "+       +    + +                             \n",
      "+             ++                       ++    \n",
      "+            + +                +            \n",
      "+   +        + +                             \n",
      "+      +       +                   +         \n",
      "+            + +            +                \n",
      "+              ++                      ++    \n",
      "+            + +       +                     \n",
      "+      +       +                         +   \n",
      "+              +   +              +     +    \n",
      "+      +       +                         +   \n",
      "+              +                  +  +  +    \n",
      "+            + +                +            \n",
      "+             ++                       ++    \n",
      "+      +       +              +              \n",
      "+            + +            +                \n",
      "+             ++                       ++    \n",
      "+              +   +              +     +    \n",
      "+    +         +                 +      +    \n",
      "+             ++                       ++    \n",
      "+      + +     +                             \n",
      "+              +  +          +          +    \n",
      "+    +         +           +            +    \n",
      "+           +  +                        + +  \n",
      "+              +   +              +     +    \n",
      "+    +         +                 +      +    \n",
      "+      +       +                         +   \n",
      "+              ++                      ++    \n",
      "+       +    + +                             \n",
      "+ +            +          +             +    \n",
      "+      + +     +                             \n",
      "++         +   + +  ++  ++          +        \n",
      "+    +         +                 +      +    \n",
      "+ +            +          +             +    \n",
      "+       +    + +                             \n",
      "+              +                  +  +  +    \n",
      "+            + +                +            \n",
      "+       +    + +                             \n",
      "+      +       +                   +         \n",
      "+    +         +                 +      +    \n",
      "+              +                  +  +  +    \n",
      "+            + +                      +      \n",
      "+              +   +              +     +    \n",
      "+   +        + +                             \n",
      "+      + +     +                             \n",
      "+      +       +                           + \n",
      "+            + +                +            \n",
      "+            + +            +                \n",
      "+   +        + +                             \n",
      "+            + +            +                \n",
      "+              +  +          +          +    \n",
      "+ +            +               +        +    \n",
      "+            + +       +                     \n",
      "+              +   +              +     +    \n",
      "+              ++                      ++    \n",
      "+  +           +  +                     +    \n",
      "+      +       +                   +         \n",
      "+      +       +              +              \n",
      "+            + +       +                     \n",
      "+            + +                +            \n",
      "+              ++                      ++    \n",
      "+      +       +                         +   \n",
      "+      +       +              +              \n",
      "+              ++                      ++    \n",
      "+      + +     +                             \n",
      "+            + +                      +      \n",
      "+            + +                      +      \n",
      "+    +         +           +            +    \n",
      "+              +  +          +          +    \n",
      "+      +       +                         +   \n",
      "+   +        + +                             \n",
      "++        ++   + +  ++              +       +\n",
      "+            + +            +                \n",
      "+  +           +  +                     +    \n",
      "+           +  +                        + +  \n",
      "+              ++                      ++    \n",
      "+   +        + +                             \n",
      "+           +  +                        + +  \n",
      "+ +            +          +             +    \n",
      "+              +  +          +          +    \n",
      "+            + +       +                     \n",
      "+  +           +  +                     +    \n",
      "+    +         +           +            +    \n",
      "+             ++                       ++    \n",
      "+            + +                +            \n",
      "+ +            +          +             +    \n",
      "+      +       +                         +   \n",
      "+              +  +          +          +    \n",
      "+  +           +  +                     +    \n",
      "+    +         +           +            +    \n",
      "+      +       +              +              \n",
      "+      +       +                   +         \n",
      "+ +            +               +        +    \n",
      "+    +         +                 +      +    \n",
      "+            + +                      +      \n",
      "+      +       +                   +         \n",
      "+              +  +          +          +    \n",
      "+ +            +          +             +    \n",
      "+   +        + +                             \n",
      "+       +    + +                             \n",
      "+           +  +      +                 +    \n",
      "+      + +     +                             \n",
      "+             ++                       ++    \n",
      "+            + +            +                \n",
      "+              +                  +  +  +    \n",
      "+             ++                       ++    \n",
      "+           +  +                        + +  \n",
      "+            + +            +                \n",
      "+              +   +              +     +    \n",
      "+            + +            +                \n",
      "+            + +                +            \n",
      "+      +       +              +              \n",
      "+ +            +               +        +    \n",
      "+           +  +                        + +  \n",
      "+           +  +      +                 +    \n",
      "+    +         +                 +      +    \n",
      "+   +        + +                             \n",
      "+      +       +                           + \n",
      "+   +        + +                             \n",
      "+    +         +           +            +    \n",
      "+      +       +                   +         \n",
      "+              +  +          +          +    \n",
      "+    +         +                 +      +    \n",
      "+      +       +              +              \n",
      "+       +    + +                             \n",
      "+  +           +  +                     +    \n",
      "+       +    + +                             \n",
      "+    +         +           +            +    \n",
      "+    +         +                 +      +    \n",
      "+      + +     +                             \n"
     ]
    }
   ],
   "source": [
    "for pmc_tuple in st.steps[1:]:\n",
    "    print ''.join([ '+' if pc[0] in p.treelogic.TupleTree(pmc_tuple.change.unique) else ' ' for pc in pm.locators().iteritems() ])"
   ]
  },
  {
   "cell_type": "code",
   "execution_count": 32,
   "metadata": {
    "collapsed": false
   },
   "outputs": [
    {
     "name": "stdout",
     "output_type": "stream",
     "text": [
      "PathSimulator([44])\n",
      " +- RootMover([40])\n",
      "     +- Minus([23])\n",
      "         +- EnsembleFilter([24])\n",
      "             +- ConditionalSequential([25])\n",
      "                 +- MinusSubtrajectoryChooser([26])\n",
      "                 +- InterfaceSetChooser([29])\n",
      "                 +- MinusExtensionDirectionChooser([31])\n",
      "\n",
      "PathSimulator([44])\n",
      " +- RootMover([40])\n",
      "     +- Minus([23])\n",
      "         +- EnsembleFilter([24])\n",
      "             +- ConditionalSequential([25])\n",
      "                 +- MinusSubtrajectoryChooser([26])\n",
      "                 |   +- FinalSubtrajectorySelect([28])\n",
      "                 +- InterfaceSetChooser([29])\n",
      "                 +- MinusExtensionDirectionChooser([31])\n",
      "                     +- BackwardExtend([33])\n",
      "\n",
      "PathSimulator([44])\n",
      " +- RootMover([40])\n",
      "     +- Minus([23])\n",
      "         +- EnsembleFilter([24])\n",
      "             +- ConditionalSequential([25])\n",
      "                 +- MinusSubtrajectoryChooser([26])\n",
      "                 |   +- FirstSubtrajectorySelect([27])\n",
      "                 +- InterfaceSetChooser([29])\n",
      "                 +- MinusExtensionDirectionChooser([31])\n",
      "                     +- ForwardExtend([32])\n",
      "\n",
      "PathSimulator([44])\n",
      " +- RootMover([40])\n",
      "     +- Minus([23])\n",
      "         +- EnsembleFilter([24])\n",
      "             +- ConditionalSequential([25])\n",
      "                 +- MinusSubtrajectoryChooser([26])\n",
      "                 |   +- FinalSubtrajectorySelect([28])\n",
      "                 +- InterfaceSetChooser([29])\n",
      "                 +- MinusExtensionDirectionChooser([31])\n",
      "                     +- BackwardExtend([33])\n"
     ]
    }
   ],
   "source": [
    "print p.treelogic.TupleTree.treeprint(medc_locator)\n",
    "for pc in step_changes:\n",
    "    if medc_locator in pc:\n",
    "        print\n",
    "        print p.treelogic.TupleTree.treeprint(pc.unique)"
   ]
  },
  {
   "cell_type": "markdown",
   "metadata": {},
   "source": [
    "Now use the locator to test for specific changes"
   ]
  },
  {
   "cell_type": "code",
   "execution_count": 33,
   "metadata": {
    "collapsed": false
   },
   "outputs": [
    {
     "name": "stdout",
     "output_type": "stream",
     "text": [
      "PathSimulator([44])\n",
      " +- RootMover([40])\n",
      "     +- Minus([23])\n",
      "         +- EnsembleFilter([24])\n",
      "             +- ConditionalSequential([25])\n",
      "                 +- MinusSubtrajectoryChooser([26])\n",
      "                 |   +- FinalSubtrajectorySelect([28])\n",
      "                 +- InterfaceSetChooser([29])\n",
      "                 +- MinusExtensionDirectionChooser([31])\n",
      "                     +- BackwardExtend([33])\n",
      "\n",
      "PathSimulator([44])\n",
      " +- RootMover([40])\n",
      "     +- Minus([23])\n",
      "         +- EnsembleFilter([24])\n",
      "             +- ConditionalSequential([25])\n",
      "                 +- MinusSubtrajectoryChooser([26])\n",
      "                 |   +- FirstSubtrajectorySelect([27])\n",
      "                 +- InterfaceSetChooser([29])\n",
      "                 +- MinusExtensionDirectionChooser([31])\n",
      "                     +- ForwardExtend([32])\n",
      "\n",
      "PathSimulator([44])\n",
      " +- RootMover([40])\n",
      "     +- Minus([23])\n",
      "         +- EnsembleFilter([24])\n",
      "             +- ConditionalSequential([25])\n",
      "                 +- MinusSubtrajectoryChooser([26])\n",
      "                 |   +- FinalSubtrajectorySelect([28])\n",
      "                 +- InterfaceSetChooser([29])\n",
      "                 +- MinusExtensionDirectionChooser([31])\n",
      "                     +- BackwardExtend([33])\n",
      "\n",
      "CPU times: user 6.01 ms, sys: 1.91 ms, total: 7.92 ms\n",
      "Wall time: 6.57 ms\n"
     ]
    }
   ],
   "source": [
    "%%time\n",
    "for pc in step_changes:\n",
    "    if medc_locator in pc:\n",
    "        print p.treelogic.TupleTree.treeprint(pc.unique)\n",
    "        print"
   ]
  },
  {
   "cell_type": "markdown",
   "metadata": {},
   "source": [
    "In this case we get the same result as before. Note that the second method is more powerful, but also slower!"
   ]
  },
  {
   "cell_type": "markdown",
   "metadata": {},
   "source": [
    "### Remember the following things about moves and changes\n",
    "\n",
    "1. movers and changes represent a tree like structure of movers.\n",
    "2. a change is a concrete realization of moves (and hence movers) while a mover itself has a certain degree of choice. \n",
    "3. Some nodes in a mover can have different outcomes, like a RandomChoiceMover will pick one of several choices. The change it generates will have only the chosen one, while the RandomChoiceMover itself has all possibilities.\n",
    "4. A concrete tree like structure (without choice) of movers can be represented by a tree of tuples. Reading the tuple-tree from left to right the opening bracket '(' means go down a level (a new child) while the closing bracket means trael up a level ')' go to the parent.\n",
    "5. The smallest unique tupletree for a pmc can be accessed using `.unique`"
   ]
  },
  {
   "cell_type": "code",
   "execution_count": 34,
   "metadata": {
    "collapsed": false
   },
   "outputs": [],
   "source": [
    "first_minus_change = filter(lambda x : p.MinusMover in x, step_changes)[0]"
   ]
  },
  {
   "cell_type": "code",
   "execution_count": 35,
   "metadata": {
    "collapsed": false
   },
   "outputs": [
    {
     "name": "stdout",
     "output_type": "stream",
     "text": [
      "PathSimulator([44])\n",
      " +- RootMover([40])\n",
      "     +- Minus([23])\n",
      "         +- EnsembleFilter([24])\n",
      "             +- ConditionalSequential([25])\n",
      "                 +- MinusSubtrajectoryChooser([26])\n",
      "                 |   +- FinalSubtrajectorySelect([28])\n",
      "                 +- InterfaceSetChooser([29])\n",
      "                 +- MinusExtensionDirectionChooser([31])\n",
      "                     +- BackwardExtend([33])\n"
     ]
    }
   ],
   "source": [
    "print first_minus_change.unique"
   ]
  },
  {
   "cell_type": "markdown",
   "metadata": {},
   "source": [
    "will be interpreted as"
   ]
  },
  {
   "cell_type": "code",
   "execution_count": 36,
   "metadata": {
    "collapsed": false
   },
   "outputs": [
    {
     "name": "stdout",
     "output_type": "stream",
     "text": [
      "PathSimulator([44])\n",
      " +- RootMover([40])\n",
      "     +- Minus([23])\n",
      "         +- EnsembleFilter([24])\n",
      "             +- ConditionalSequential([25])\n",
      "                 +- MinusSubtrajectoryChooser([26])\n",
      "                 |   +- FinalSubtrajectorySelect([28])\n",
      "                 +- InterfaceSetChooser([29])\n",
      "                 +- MinusExtensionDirectionChooser([31])\n",
      "                     +- BackwardExtend([33])\n"
     ]
    }
   ],
   "source": [
    "print p.treelogic.TupleTree.treeprint(first_minus_change.unique)"
   ]
  },
  {
   "cell_type": "code",
   "execution_count": 38,
   "metadata": {
    "collapsed": false
   },
   "outputs": [
    {
     "name": "stdout",
     "output_type": "stream",
     "text": [
      "The slowest run took 9.69 times longer than the fastest. This could mean that an intermediate result is being cached \n",
      "1000000 loops, best of 3: 517 ns per loop\n"
     ]
    }
   ],
   "source": [
    "%%timeit\n",
    "pm.enum"
   ]
  },
  {
   "cell_type": "code",
   "execution_count": 40,
   "metadata": {
    "collapsed": false
   },
   "outputs": [
    {
     "name": "stdout",
     "output_type": "stream",
     "text": [
      "1000 loops, best of 3: 214 µs per loop\n"
     ]
    }
   ],
   "source": [
    "%%timeit\n",
    "pmc in pm"
   ]
  },
  {
   "cell_type": "code",
   "execution_count": 42,
   "metadata": {
    "collapsed": false
   },
   "outputs": [
    {
     "name": "stdout",
     "output_type": "stream",
     "text": [
      "1000 loops, best of 3: 872 µs per loop\n"
     ]
    }
   ],
   "source": [
    "%%timeit\n",
    "[p in pmc for p in pm.enum]"
   ]
  },
  {
   "cell_type": "code",
   "execution_count": 43,
   "metadata": {
    "collapsed": false
   },
   "outputs": [
    {
     "name": "stdout",
     "output_type": "stream",
     "text": [
      "The slowest run took 7.20 times longer than the fastest. This could mean that an intermediate result is being cached \n",
      "100000 loops, best of 3: 2.65 µs per loop\n"
     ]
    }
   ],
   "source": [
    "%%timeit\n",
    "pm in pm"
   ]
  },
  {
   "cell_type": "code",
   "execution_count": 44,
   "metadata": {
    "collapsed": false
   },
   "outputs": [
    {
     "name": "stdout",
     "output_type": "stream",
     "text": [
      "1000 loops, best of 3: 225 µs per loop\n"
     ]
    }
   ],
   "source": [
    "%%timeit\n",
    "pmc.unique in pm"
   ]
  },
  {
   "cell_type": "code",
   "execution_count": null,
   "metadata": {
    "collapsed": true
   },
   "outputs": [],
   "source": []
  }
 ],
 "metadata": {
  "kernelspec": {
   "display_name": "Python 2",
   "language": "python",
   "name": "python2"
  },
  "language_info": {
   "codemirror_mode": {
    "name": "ipython",
    "version": 2
   },
   "file_extension": ".py",
   "mimetype": "text/x-python",
   "name": "python",
   "nbconvert_exporter": "python",
   "pygments_lexer": "ipython2",
   "version": "2.7.10"
  }
 },
 "nbformat": 4,
 "nbformat_minor": 0
}

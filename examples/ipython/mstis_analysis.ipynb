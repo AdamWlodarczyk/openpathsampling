{
 "cells": [
  {
   "cell_type": "markdown",
   "metadata": {},
   "source": [
    "# Analyzing the MSTIS simulation\n",
    "\n",
    "Included in this notebook:\n",
    "\n",
    "* Opening files for analysis\n",
    "* Rates, fluxes, total crossing probabilities, and condition transition probabilities\n",
    "* Per-ensemble properties such as path length distributions and interface crossing probabilities\n",
    "* Move scheme analysis\n",
    "* Replica exchange analysis\n",
    "* Replica move history tree visualization\n",
    "* Replaying the simulation\n",
    "* MORE TO COME! Like free energy projections, path density plots, and more"
   ]
  },
  {
   "cell_type": "code",
   "execution_count": 1,
   "metadata": {
    "collapsed": true
   },
   "outputs": [],
   "source": [
    "%matplotlib inline\n",
    "import matplotlib.pyplot as plt\n",
    "import openpathsampling as paths\n",
    "import numpy as np"
   ]
  },
  {
   "cell_type": "markdown",
   "metadata": {},
   "source": [
    "The optimum way to use storage depends on whether you're doing production or analysis. For analysis, you should open the file as an `AnalysisStorage` object. This makes the analysis much faster."
   ]
  },
  {
   "cell_type": "code",
   "execution_count": 2,
   "metadata": {
    "collapsed": false
   },
   "outputs": [],
   "source": [
    "storage = paths.AnalysisStorage(\"mstis.nc\")"
   ]
  },
  {
   "cell_type": "code",
   "execution_count": 3,
   "metadata": {
    "collapsed": false,
    "scrolled": true
   },
   "outputs": [],
   "source": [
    "mstis = storage.networks.load(0)"
   ]
  },
  {
   "cell_type": "markdown",
   "metadata": {},
   "source": [
    "## Reaction rates\n",
    "\n",
    "TIS methods are especially good at determining reaction rates, and OPS makes it extremely easy to obtain the rate from a TIS network.\n",
    "\n",
    "Note that, although you can get the rate directly, it is very important to look at other results of the sampling (illustrated in this notebook and in notebooks referred to herein) in order to check the validity of the rates you obtain."
   ]
  },
  {
   "cell_type": "markdown",
   "metadata": {},
   "source": [
    "By default, the built-in analysis calculates histograms the maximum value of some order parameter and the pathlength of every sampled ensemble. You can add other things to this list as well, but you must always specify histogram parameters for these two. The pathlength is in units of frames."
   ]
  },
  {
   "cell_type": "code",
   "execution_count": 4,
   "metadata": {
    "collapsed": false
   },
   "outputs": [],
   "source": [
    "mstis.hist_args['max_lambda'] = { 'bin_width' : 0.02, 'bin_range' : (0.0, 0.5) }\n",
    "mstis.hist_args['pathlength'] = { 'bin_width' : 5, 'bin_range' : (0, 150) }"
   ]
  },
  {
   "cell_type": "code",
   "execution_count": 5,
   "metadata": {
    "collapsed": false
   },
   "outputs": [
    {
     "name": "stdout",
     "output_type": "stream",
     "text": [
      "CPU times: user 2.71 s, sys: 32.9 ms, total: 2.74 s\n",
      "Wall time: 2.78 s\n"
     ]
    },
    {
     "data": {
      "text/html": [
       "<div>\n",
       "<table border=\"1\" class=\"dataframe\">\n",
       "  <thead>\n",
       "    <tr style=\"text-align: right;\">\n",
       "      <th></th>\n",
       "      <th>{x|opA(x) in [0.0, 0.04]}</th>\n",
       "      <th>{x|opB(x) in [0.0, 0.04]}</th>\n",
       "      <th>{x|opC(x) in [0.0, 0.04]}</th>\n",
       "    </tr>\n",
       "  </thead>\n",
       "  <tbody>\n",
       "    <tr>\n",
       "      <th>{x|opA(x) in [0.0, 0.04]}</th>\n",
       "      <td>NaN</td>\n",
       "      <td>7.4761e-05</td>\n",
       "      <td>0.001253</td>\n",
       "    </tr>\n",
       "    <tr>\n",
       "      <th>{x|opB(x) in [0.0, 0.04]}</th>\n",
       "      <td>0.000424768</td>\n",
       "      <td>NaN</td>\n",
       "      <td>0.000208049</td>\n",
       "    </tr>\n",
       "    <tr>\n",
       "      <th>{x|opC(x) in [0.0, 0.04]}</th>\n",
       "      <td>5.20922e-05</td>\n",
       "      <td>0</td>\n",
       "      <td>NaN</td>\n",
       "    </tr>\n",
       "  </tbody>\n",
       "</table>\n",
       "</div>"
      ],
      "text/plain": [
       "                          {x|opA(x) in [0.0, 0.04]} {x|opB(x) in [0.0, 0.04]}  \\\n",
       "{x|opA(x) in [0.0, 0.04]}                       NaN                7.4761e-05   \n",
       "{x|opB(x) in [0.0, 0.04]}               0.000424768                       NaN   \n",
       "{x|opC(x) in [0.0, 0.04]}               5.20922e-05                         0   \n",
       "\n",
       "                          {x|opC(x) in [0.0, 0.04]}  \n",
       "{x|opA(x) in [0.0, 0.04]}                  0.001253  \n",
       "{x|opB(x) in [0.0, 0.04]}               0.000208049  \n",
       "{x|opC(x) in [0.0, 0.04]}                       NaN  "
      ]
     },
     "execution_count": 5,
     "metadata": {},
     "output_type": "execute_result"
    }
   ],
   "source": [
    "%%time\n",
    "mstis.rate_matrix(storage)"
   ]
  },
  {
   "cell_type": "markdown",
   "metadata": {
    "collapsed": true
   },
   "source": [
    "The self-rates (the rate of returning the to initial state) are undefined, and return not-a-number.\n",
    "\n",
    "The rate is calcuated according to the formula:\n",
    "\n",
    "$$k_{AB} = \\phi_{A,0} P(B|\\lambda_m) \\prod_{i=0}^{m-1} P(\\lambda_{i+1} | \\lambda_i)$$\n",
    "\n",
    "where $\\phi_{A,0}$ is the flux from state A through its innermost interface, $P(B|\\lambda_m)$ is the conditional transition probability (the probability that a path which crosses the interface at $\\lambda_m$ ends in state B), and $\\prod_{i=0}^{m-1} P(\\lambda_{i+1} | \\lambda_i)$ is the total crossing probability. We can look at each of these terms individually."
   ]
  },
  {
   "cell_type": "markdown",
   "metadata": {},
   "source": [
    "### Total crossing probability"
   ]
  },
  {
   "cell_type": "code",
   "execution_count": 6,
   "metadata": {
    "collapsed": true
   },
   "outputs": [],
   "source": [
    "stateA = storage.volumes[\"A\"]\n",
    "stateB = storage.volumes[\"B\"]\n",
    "stateC = storage.volumes[\"C\"]"
   ]
  },
  {
   "cell_type": "code",
   "execution_count": 7,
   "metadata": {
    "collapsed": false
   },
   "outputs": [
    {
     "data": {
      "text/plain": [
       "[<matplotlib.lines.Line2D at 0x12fe73150>]"
      ]
     },
     "execution_count": 7,
     "metadata": {},
     "output_type": "execute_result"
    },
    {
     "data": {
      "image/png": "[encoded data removed]",
      "text/plain": [
       "<matplotlib.figure.Figure at 0x12d59b310>"
      ]
     },
     "metadata": {},
     "output_type": "display_data"
    }
   ],
   "source": [
    "tcp_AB = mstis.transitions[(stateA, stateB)].tcp\n",
    "tcp_AC = mstis.transitions[(stateA, stateC)].tcp\n",
    "tcp_BC = mstis.transitions[(stateB, stateC)].tcp\n",
    "tcp_BA = mstis.transitions[(stateB, stateA)].tcp\n",
    "tcp_CA = mstis.transitions[(stateC, stateA)].tcp\n",
    "tcp_CB = mstis.transitions[(stateC, stateB)].tcp\n",
    "\n",
    "plt.plot(tcp_AB.x, tcp_AB)\n",
    "plt.plot(tcp_CA.x, tcp_CA)\n",
    "plt.plot(tcp_BC.x, tcp_BC)\n",
    "plt.plot(tcp_AC.x, tcp_AC) # same as tcp_AB in MSTIS"
   ]
  },
  {
   "cell_type": "markdown",
   "metadata": {},
   "source": [
    "We normally look at these on a log scale:"
   ]
  },
  {
   "cell_type": "code",
   "execution_count": 8,
   "metadata": {
    "collapsed": false
   },
   "outputs": [
    {
     "data": {
      "text/plain": [
       "[<matplotlib.lines.Line2D at 0x130206c10>]"
      ]
     },
     "execution_count": 8,
     "metadata": {},
     "output_type": "execute_result"
    },
    {
     "data": {
      "image/png": "[encoded data removed]",
      "text/plain": [
       "<matplotlib.figure.Figure at 0x12da36b50>"
      ]
     },
     "metadata": {},
     "output_type": "display_data"
    }
   ],
   "source": [
    "plt.plot(tcp_AB.x, np.log(tcp_AB))\n",
    "plt.plot(tcp_CA.x, np.log(tcp_CA))\n",
    "plt.plot(tcp_BC.x, np.log(tcp_BC))"
   ]
  },
  {
   "cell_type": "markdown",
   "metadata": {},
   "source": [
    "### Flux\n",
    "\n",
    "Here we also calculate the flux contribution to each transition. The flux is calculated based on "
   ]
  },
  {
   "cell_type": "code",
   "execution_count": 9,
   "metadata": {
    "collapsed": false
   },
   "outputs": [
    {
     "data": {
      "text/html": [
       "<div>\n",
       "<table border=\"1\" class=\"dataframe\">\n",
       "  <thead>\n",
       "    <tr style=\"text-align: right;\">\n",
       "      <th></th>\n",
       "      <th>{x|opA(x) in [0.0, 0.04]}</th>\n",
       "      <th>{x|opB(x) in [0.0, 0.04]}</th>\n",
       "      <th>{x|opC(x) in [0.0, 0.04]}</th>\n",
       "    </tr>\n",
       "  </thead>\n",
       "  <tbody>\n",
       "    <tr>\n",
       "      <th>{x|opA(x) in [0.0, 0.04]}</th>\n",
       "      <td>NaN</td>\n",
       "      <td>0.0142135</td>\n",
       "      <td>0.0142135</td>\n",
       "    </tr>\n",
       "    <tr>\n",
       "      <th>{x|opB(x) in [0.0, 0.04]}</th>\n",
       "      <td>0.0149701</td>\n",
       "      <td>NaN</td>\n",
       "      <td>0.0149701</td>\n",
       "    </tr>\n",
       "    <tr>\n",
       "      <th>{x|opC(x) in [0.0, 0.04]}</th>\n",
       "      <td>0.0237812</td>\n",
       "      <td>0.0237812</td>\n",
       "      <td>NaN</td>\n",
       "    </tr>\n",
       "  </tbody>\n",
       "</table>\n",
       "</div>"
      ],
      "text/plain": [
       "                          {x|opA(x) in [0.0, 0.04]} {x|opB(x) in [0.0, 0.04]}  \\\n",
       "{x|opA(x) in [0.0, 0.04]}                       NaN                 0.0142135   \n",
       "{x|opB(x) in [0.0, 0.04]}                 0.0149701                       NaN   \n",
       "{x|opC(x) in [0.0, 0.04]}                 0.0237812                 0.0237812   \n",
       "\n",
       "                          {x|opC(x) in [0.0, 0.04]}  \n",
       "{x|opA(x) in [0.0, 0.04]}                 0.0142135  \n",
       "{x|opB(x) in [0.0, 0.04]}                 0.0149701  \n",
       "{x|opC(x) in [0.0, 0.04]}                       NaN  "
      ]
     },
     "execution_count": 9,
     "metadata": {},
     "output_type": "execute_result"
    }
   ],
   "source": [
    "import pandas as pd\n",
    "flux_matrix = pd.DataFrame(columns=mstis.states, index=mstis.states)\n",
    "for state_pair in mstis.transitions:\n",
    "    transition = mstis.transitions[state_pair]\n",
    "    flux_matrix.set_value(state_pair[0], state_pair[1], transition._flux)\n",
    "\n",
    "flux_matrix"
   ]
  },
  {
   "cell_type": "markdown",
   "metadata": {},
   "source": [
    "### Conditional transition probability"
   ]
  },
  {
   "cell_type": "code",
   "execution_count": 10,
   "metadata": {
    "collapsed": false
   },
   "outputs": [
    {
     "data": {
      "text/html": [
       "<div>\n",
       "<table border=\"1\" class=\"dataframe\">\n",
       "  <thead>\n",
       "    <tr style=\"text-align: right;\">\n",
       "      <th></th>\n",
       "      <th>{x|opA(x) in [0.0, 0.04]}</th>\n",
       "      <th>{x|opB(x) in [0.0, 0.04]}</th>\n",
       "      <th>{x|opC(x) in [0.0, 0.04]}</th>\n",
       "    </tr>\n",
       "  </thead>\n",
       "  <tbody>\n",
       "    <tr>\n",
       "      <th>{x|opA(x) in [0.0, 0.04]}</th>\n",
       "      <td>NaN</td>\n",
       "      <td>0.0499002</td>\n",
       "      <td>0.836327</td>\n",
       "    </tr>\n",
       "    <tr>\n",
       "      <th>{x|opB(x) in [0.0, 0.04]}</th>\n",
       "      <td>0.293413</td>\n",
       "      <td>NaN</td>\n",
       "      <td>0.143713</td>\n",
       "    </tr>\n",
       "    <tr>\n",
       "      <th>{x|opC(x) in [0.0, 0.04]}</th>\n",
       "      <td>0.0459082</td>\n",
       "      <td>0</td>\n",
       "      <td>NaN</td>\n",
       "    </tr>\n",
       "  </tbody>\n",
       "</table>\n",
       "</div>"
      ],
      "text/plain": [
       "                          {x|opA(x) in [0.0, 0.04]} {x|opB(x) in [0.0, 0.04]}  \\\n",
       "{x|opA(x) in [0.0, 0.04]}                       NaN                 0.0499002   \n",
       "{x|opB(x) in [0.0, 0.04]}                  0.293413                       NaN   \n",
       "{x|opC(x) in [0.0, 0.04]}                 0.0459082                         0   \n",
       "\n",
       "                          {x|opC(x) in [0.0, 0.04]}  \n",
       "{x|opA(x) in [0.0, 0.04]}                  0.836327  \n",
       "{x|opB(x) in [0.0, 0.04]}                  0.143713  \n",
       "{x|opC(x) in [0.0, 0.04]}                       NaN  "
      ]
     },
     "execution_count": 10,
     "metadata": {},
     "output_type": "execute_result"
    }
   ],
   "source": [
    "outer_ctp_matrix = pd.DataFrame(columns=mstis.states, index=mstis.states)\n",
    "for state_pair in mstis.transitions:\n",
    "    transition = mstis.transitions[state_pair]\n",
    "    outer_ctp_matrix.set_value(state_pair[0], state_pair[1], transition.ctp[transition.ensembles[-1]])    \n",
    "\n",
    "outer_ctp_matrix"
   ]
  },
  {
   "cell_type": "code",
   "execution_count": 11,
   "metadata": {
    "collapsed": false
   },
   "outputs": [
    {
     "data": {
      "text/html": [
       "<div>\n",
       "<table border=\"1\" class=\"dataframe\">\n",
       "  <thead>\n",
       "    <tr style=\"text-align: right;\">\n",
       "      <th></th>\n",
       "      <th>0</th>\n",
       "      <th>1</th>\n",
       "      <th>2</th>\n",
       "    </tr>\n",
       "  </thead>\n",
       "  <tbody>\n",
       "    <tr>\n",
       "      <th>({x|opC(x) in [0.0, 0.04]}, {x|opB(x) in [0.0, 0.04]})</th>\n",
       "      <td>0.000000</td>\n",
       "      <td>0.000000</td>\n",
       "      <td>0.000000</td>\n",
       "    </tr>\n",
       "    <tr>\n",
       "      <th>({x|opA(x) in [0.0, 0.04]}, {x|opC(x) in [0.0, 0.04]})</th>\n",
       "      <td>0.075848</td>\n",
       "      <td>0.217565</td>\n",
       "      <td>0.836327</td>\n",
       "    </tr>\n",
       "    <tr>\n",
       "      <th>({x|opB(x) in [0.0, 0.04]}, {x|opA(x) in [0.0, 0.04]})</th>\n",
       "      <td>0.067864</td>\n",
       "      <td>0.065868</td>\n",
       "      <td>0.293413</td>\n",
       "    </tr>\n",
       "    <tr>\n",
       "      <th>({x|opC(x) in [0.0, 0.04]}, {x|opA(x) in [0.0, 0.04]})</th>\n",
       "      <td>0.000000</td>\n",
       "      <td>0.000000</td>\n",
       "      <td>0.045908</td>\n",
       "    </tr>\n",
       "    <tr>\n",
       "      <th>({x|opB(x) in [0.0, 0.04]}, {x|opC(x) in [0.0, 0.04]})</th>\n",
       "      <td>0.000000</td>\n",
       "      <td>0.000000</td>\n",
       "      <td>0.143713</td>\n",
       "    </tr>\n",
       "    <tr>\n",
       "      <th>({x|opA(x) in [0.0, 0.04]}, {x|opB(x) in [0.0, 0.04]})</th>\n",
       "      <td>0.000000</td>\n",
       "      <td>0.000000</td>\n",
       "      <td>0.049900</td>\n",
       "    </tr>\n",
       "  </tbody>\n",
       "</table>\n",
       "</div>"
      ],
      "text/plain": [
       "                                                           0         1  \\\n",
       "({x|opC(x) in [0.0, 0.04]}, {x|opB(x) in [0.0, ...  0.000000  0.000000   \n",
       "({x|opA(x) in [0.0, 0.04]}, {x|opC(x) in [0.0, ...  0.075848  0.217565   \n",
       "({x|opB(x) in [0.0, 0.04]}, {x|opA(x) in [0.0, ...  0.067864  0.065868   \n",
       "({x|opC(x) in [0.0, 0.04]}, {x|opA(x) in [0.0, ...  0.000000  0.000000   \n",
       "({x|opB(x) in [0.0, 0.04]}, {x|opC(x) in [0.0, ...  0.000000  0.000000   \n",
       "({x|opA(x) in [0.0, 0.04]}, {x|opB(x) in [0.0, ...  0.000000  0.000000   \n",
       "\n",
       "                                                           2  \n",
       "({x|opC(x) in [0.0, 0.04]}, {x|opB(x) in [0.0, ...  0.000000  \n",
       "({x|opA(x) in [0.0, 0.04]}, {x|opC(x) in [0.0, ...  0.836327  \n",
       "({x|opB(x) in [0.0, 0.04]}, {x|opA(x) in [0.0, ...  0.293413  \n",
       "({x|opC(x) in [0.0, 0.04]}, {x|opA(x) in [0.0, ...  0.045908  \n",
       "({x|opB(x) in [0.0, 0.04]}, {x|opC(x) in [0.0, ...  0.143713  \n",
       "({x|opA(x) in [0.0, 0.04]}, {x|opB(x) in [0.0, ...  0.049900  "
      ]
     },
     "execution_count": 11,
     "metadata": {},
     "output_type": "execute_result"
    }
   ],
   "source": [
    "ctp_by_interface = pd.DataFrame(index=mstis.transitions)\n",
    "for state_pair in mstis.transitions:\n",
    "    transition = mstis.transitions[state_pair]\n",
    "    for ensemble_i in range(len(transition.ensembles)):\n",
    "        ctp_by_interface.set_value(\n",
    "            state_pair, ensemble_i,\n",
    "            transition.conditional_transition_probability(\n",
    "                storage,\n",
    "                transition.ensembles[ensemble_i]\n",
    "        ))\n",
    "    \n",
    "    \n",
    "ctp_by_interface  "
   ]
  },
  {
   "cell_type": "markdown",
   "metadata": {},
   "source": [
    "## Path ensemble properties"
   ]
  },
  {
   "cell_type": "code",
   "execution_count": 12,
   "metadata": {
    "collapsed": true
   },
   "outputs": [],
   "source": [
    "hists_A = mstis.transitions[(stateA, stateB)].histograms\n",
    "hists_B = mstis.transitions[(stateB, stateC)].histograms\n",
    "hists_C = mstis.transitions[(stateC, stateB)].histograms"
   ]
  },
  {
   "cell_type": "markdown",
   "metadata": {},
   "source": [
    "### Interface crossing probabilities\n",
    "\n",
    "We obtain the total crossing probability, shown above, by combining the individual crossing probabilities of "
   ]
  },
  {
   "cell_type": "code",
   "execution_count": 13,
   "metadata": {
    "collapsed": false
   },
   "outputs": [
    {
     "data": {
      "image/png": "[encoded data removed]",
      "text/plain": [
       "<matplotlib.figure.Figure at 0x12feba710>"
      ]
     },
     "metadata": {},
     "output_type": "display_data"
    }
   ],
   "source": [
    "for hist in [hists_A, hists_B, hists_C]:\n",
    "    for ens in hist['max_lambda']:\n",
    "        normalized = hist['max_lambda'][ens].normalized()\n",
    "        plt.plot(normalized.x, normalized)"
   ]
  },
  {
   "cell_type": "code",
   "execution_count": 14,
   "metadata": {
    "collapsed": true
   },
   "outputs": [],
   "source": [
    "# add visualization of the sum"
   ]
  },
  {
   "cell_type": "code",
   "execution_count": 15,
   "metadata": {
    "collapsed": false,
    "scrolled": true
   },
   "outputs": [
    {
     "data": {
      "image/png": "[encoded data removed]",
      "text/plain": [
       "<matplotlib.figure.Figure at 0x12fe731d0>"
      ]
     },
     "metadata": {},
     "output_type": "display_data"
    }
   ],
   "source": [
    "for hist in [hists_A, hists_B, hists_C]:\n",
    "    for ens in hist['max_lambda']:\n",
    "        reverse_cumulative = hist['max_lambda'][ens].reverse_cumulative()\n",
    "        plt.plot(reverse_cumulative.x, reverse_cumulative)"
   ]
  },
  {
   "cell_type": "code",
   "execution_count": 16,
   "metadata": {
    "collapsed": false
   },
   "outputs": [
    {
     "data": {
      "image/png": "[encoded data removed]",
      "text/plain": [
       "<matplotlib.figure.Figure at 0x130482290>"
      ]
     },
     "metadata": {},
     "output_type": "display_data"
    }
   ],
   "source": [
    "for hist in [hists_A, hists_B, hists_C]:\n",
    "    for ens in hist['max_lambda']:\n",
    "        reverse_cumulative = hist['max_lambda'][ens].reverse_cumulative()\n",
    "        plt.plot(reverse_cumulative.x, np.log(reverse_cumulative))"
   ]
  },
  {
   "cell_type": "markdown",
   "metadata": {},
   "source": [
    "### Path length histograms"
   ]
  },
  {
   "cell_type": "code",
   "execution_count": 17,
   "metadata": {
    "collapsed": false
   },
   "outputs": [
    {
     "data": {
      "image/png": "[encoded data removed]",
      "text/plain": [
       "<matplotlib.figure.Figure at 0x13045ea50>"
      ]
     },
     "metadata": {},
     "output_type": "display_data"
    }
   ],
   "source": [
    "for hist in [hists_A, hists_B, hists_C]:\n",
    "    for ens in hist['pathlength']:\n",
    "        normalized = hist['pathlength'][ens].normalized()\n",
    "        plt.plot(normalized.x, normalized)"
   ]
  },
  {
   "cell_type": "code",
   "execution_count": 18,
   "metadata": {
    "collapsed": false
   },
   "outputs": [
    {
     "data": {
      "image/png": "[encoded data removed]",
      "text/plain": [
       "<matplotlib.figure.Figure at 0x12d59b410>"
      ]
     },
     "metadata": {},
     "output_type": "display_data"
    }
   ],
   "source": [
    "for ens in hists_A['pathlength']:\n",
    "    normalized = hists_A['pathlength'][ens].normalized()\n",
    "    plt.plot(normalized.x, normalized)"
   ]
  },
  {
   "cell_type": "markdown",
   "metadata": {},
   "source": [
    "## Sampling properties\n",
    "\n",
    "The properties we illustrated above were properties of the path ensembles. If your path ensembles are sufficiently well-sampled, these will never depend on how you sample them.\n",
    "\n",
    "But to figure out whether you've done a good job of sampling, you often want to look at properties related to the sampling process. OPS also makes these very easy."
   ]
  },
  {
   "cell_type": "code",
   "execution_count": null,
   "metadata": {
    "collapsed": true
   },
   "outputs": [],
   "source": []
  },
  {
   "cell_type": "markdown",
   "metadata": {},
   "source": [
    "### Move scheme analysis"
   ]
  },
  {
   "cell_type": "code",
   "execution_count": 19,
   "metadata": {
    "collapsed": false,
    "scrolled": true
   },
   "outputs": [],
   "source": [
    "scheme = storage.schemes[0]"
   ]
  },
  {
   "cell_type": "code",
   "execution_count": 20,
   "metadata": {
    "collapsed": false
   },
   "outputs": [
    {
     "name": "stdout",
     "output_type": "stream",
     "text": [
      "ms_outer_shooting ran 4.591% (expected 4.98%) of the cycles with acceptance 15/23 (65.22%)\n",
      "repex ran 22.754% (expected 22.39%) of the cycles with acceptance 35/114 (30.70%)\n",
      "shooting ran 42.515% (expected 44.78%) of the cycles with acceptance 155/213 (72.77%)\n",
      "minus ran 3.393% (expected 2.99%) of the cycles with acceptance 17/17 (100.00%)\n",
      "pathreversal ran 26.547% (expected 24.88%) of the cycles with acceptance 114/133 (85.71%)\n"
     ]
    }
   ],
   "source": [
    "scheme.move_summary(storage)"
   ]
  },
  {
   "cell_type": "code",
   "execution_count": 21,
   "metadata": {
    "collapsed": false
   },
   "outputs": [
    {
     "name": "stdout",
     "output_type": "stream",
     "text": [
      "OneWayShootingMover I'face 2 ran 4.790% (expected 4.98%) of the cycles with acceptance 15/24 (62.50%)\n",
      "OneWayShootingMover I'face 2 ran 6.587% (expected 4.98%) of the cycles with acceptance 23/33 (69.70%)\n",
      "OneWayShootingMover I'face 1 ran 4.192% (expected 4.98%) of the cycles with acceptance 14/21 (66.67%)\n",
      "OneWayShootingMover I'face 1 ran 5.389% (expected 4.98%) of the cycles with acceptance 18/27 (66.67%)\n",
      "OneWayShootingMover I'face 0 ran 4.391% (expected 4.98%) of the cycles with acceptance 18/22 (81.82%)\n",
      "OneWayShootingMover I'face 0 ran 3.393% (expected 4.98%) of the cycles with acceptance 17/17 (100.00%)\n",
      "OneWayShootingMover I'face 2 ran 4.391% (expected 4.98%) of the cycles with acceptance 18/22 (81.82%)\n",
      "OneWayShootingMover I'face 1 ran 4.790% (expected 4.98%) of the cycles with acceptance 13/24 (54.17%)\n",
      "OneWayShootingMover I'face 0 ran 4.591% (expected 4.98%) of the cycles with acceptance 19/23 (82.61%)\n"
     ]
    }
   ],
   "source": [
    "scheme.move_summary(storage, 'shooting')"
   ]
  },
  {
   "cell_type": "code",
   "execution_count": 22,
   "metadata": {
    "collapsed": false
   },
   "outputs": [
    {
     "name": "stdout",
     "output_type": "stream",
     "text": [
      "Minus ran 1.796% (expected 1.00%) of the cycles with acceptance 9/9 (100.00%)\n",
      "Minus ran 0.798% (expected 1.00%) of the cycles with acceptance 4/4 (100.00%)\n",
      "Minus ran 0.798% (expected 1.00%) of the cycles with acceptance 4/4 (100.00%)\n"
     ]
    }
   ],
   "source": [
    "scheme.move_summary(storage, 'minus')"
   ]
  },
  {
   "cell_type": "code",
   "execution_count": 23,
   "metadata": {
    "collapsed": false
   },
   "outputs": [
    {
     "name": "stdout",
     "output_type": "stream",
     "text": [
      "ReplicaExchange ran 3.393% (expected 2.49%) of the cycles with acceptance 8/17 (47.06%)\n",
      "ReplicaExchange ran 2.994% (expected 2.49%) of the cycles with acceptance 3/15 (20.00%)\n",
      "ReplicaExchange ran 3.194% (expected 2.49%) of the cycles with acceptance 2/16 (12.50%)\n",
      "ReplicaExchange ran 2.794% (expected 2.49%) of the cycles with acceptance 3/14 (21.43%)\n",
      "ReplicaExchange ran 2.794% (expected 2.49%) of the cycles with acceptance 5/14 (35.71%)\n",
      "ReplicaExchange ran 2.395% (expected 2.49%) of the cycles with acceptance 0/12 (0.00%)\n",
      "ReplicaExchange ran 1.796% (expected 2.49%) of the cycles with acceptance 3/9 (33.33%)\n",
      "ReplicaExchange ran 1.198% (expected 2.49%) of the cycles with acceptance 4/6 (66.67%)\n",
      "ReplicaExchange ran 2.196% (expected 2.49%) of the cycles with acceptance 7/11 (63.64%)\n"
     ]
    }
   ],
   "source": [
    "scheme.move_summary(storage, 'repex')"
   ]
  },
  {
   "cell_type": "code",
   "execution_count": 24,
   "metadata": {
    "collapsed": false
   },
   "outputs": [
    {
     "name": "stdout",
     "output_type": "stream",
     "text": [
      "PathReversal ran 2.395% (expected 2.49%) of the cycles with acceptance 2/12 (16.67%)\n",
      "PathReversal ran 2.595% (expected 2.49%) of the cycles with acceptance 10/13 (76.92%)\n",
      "PathReversal ran 2.395% (expected 2.49%) of the cycles with acceptance 7/12 (58.33%)\n",
      "PathReversal ran 2.595% (expected 2.49%) of the cycles with acceptance 13/13 (100.00%)\n",
      "PathReversal ran 3.194% (expected 2.49%) of the cycles with acceptance 16/16 (100.00%)\n",
      "PathReversal ran 1.597% (expected 2.49%) of the cycles with acceptance 8/8 (100.00%)\n",
      "PathReversal ran 1.996% (expected 2.49%) of the cycles with acceptance 10/10 (100.00%)\n",
      "PathReversal ran 3.792% (expected 2.49%) of the cycles with acceptance 19/19 (100.00%)\n",
      "PathReversal ran 2.595% (expected 2.49%) of the cycles with acceptance 13/13 (100.00%)\n",
      "PathReversal ran 3.393% (expected 2.49%) of the cycles with acceptance 16/17 (94.12%)\n"
     ]
    }
   ],
   "source": [
    "scheme.move_summary(storage, 'pathreversal')"
   ]
  },
  {
   "cell_type": "markdown",
   "metadata": {},
   "source": [
    "### Replica exchange sampling\n",
    "\n",
    "See the notebook `repex_networks.ipynb` for more details on tools to study the convergence of replica exchange. However, a few simple examples are shown here. All of these are analyzed with a separate object, `ReplicaNetwork`."
   ]
  },
  {
   "cell_type": "code",
   "execution_count": 25,
   "metadata": {
    "collapsed": true
   },
   "outputs": [],
   "source": [
    "repx_net = paths.ReplicaNetwork(storage=storage)"
   ]
  },
  {
   "cell_type": "markdown",
   "metadata": {},
   "source": [
    "#### Replica exchange mixing matrix"
   ]
  },
  {
   "cell_type": "code",
   "execution_count": 26,
   "metadata": {
    "collapsed": false
   },
   "outputs": [
    {
     "data": {
      "text/html": [
       "<div>\n",
       "<table border=\"1\" class=\"dataframe\">\n",
       "  <thead>\n",
       "    <tr style=\"text-align: right;\">\n",
       "      <th></th>\n",
       "      <th>-2</th>\n",
       "      <th>5</th>\n",
       "      <th>7</th>\n",
       "      <th>2</th>\n",
       "      <th>8</th>\n",
       "      <th>1</th>\n",
       "      <th>9</th>\n",
       "      <th>0</th>\n",
       "      <th>3</th>\n",
       "      <th>4</th>\n",
       "      <th>-1</th>\n",
       "      <th>-3</th>\n",
       "      <th>6</th>\n",
       "    </tr>\n",
       "  </thead>\n",
       "  <tbody>\n",
       "    <tr>\n",
       "      <th>-2</th>\n",
       "      <td>0.000000</td>\n",
       "      <td>0.068702</td>\n",
       "      <td>0.000000</td>\n",
       "      <td>0.000000</td>\n",
       "      <td>0.000000</td>\n",
       "      <td>0.000000</td>\n",
       "      <td>0.000000</td>\n",
       "      <td>0.000000</td>\n",
       "      <td>0.000000</td>\n",
       "      <td>0.000000</td>\n",
       "      <td>0.000000</td>\n",
       "      <td>0.000000</td>\n",
       "      <td>0.000000</td>\n",
       "    </tr>\n",
       "    <tr>\n",
       "      <th>5</th>\n",
       "      <td>0.068702</td>\n",
       "      <td>0.000000</td>\n",
       "      <td>0.053435</td>\n",
       "      <td>0.000000</td>\n",
       "      <td>0.000000</td>\n",
       "      <td>0.000000</td>\n",
       "      <td>0.000000</td>\n",
       "      <td>0.000000</td>\n",
       "      <td>0.000000</td>\n",
       "      <td>0.000000</td>\n",
       "      <td>0.000000</td>\n",
       "      <td>0.000000</td>\n",
       "      <td>0.000000</td>\n",
       "    </tr>\n",
       "    <tr>\n",
       "      <th>7</th>\n",
       "      <td>0.000000</td>\n",
       "      <td>0.053435</td>\n",
       "      <td>0.000000</td>\n",
       "      <td>0.000000</td>\n",
       "      <td>0.022901</td>\n",
       "      <td>0.000000</td>\n",
       "      <td>0.000000</td>\n",
       "      <td>0.000000</td>\n",
       "      <td>0.000000</td>\n",
       "      <td>0.000000</td>\n",
       "      <td>0.000000</td>\n",
       "      <td>0.000000</td>\n",
       "      <td>0.000000</td>\n",
       "    </tr>\n",
       "    <tr>\n",
       "      <th>2</th>\n",
       "      <td>0.000000</td>\n",
       "      <td>0.000000</td>\n",
       "      <td>0.000000</td>\n",
       "      <td>0.000000</td>\n",
       "      <td>0.000000</td>\n",
       "      <td>0.022901</td>\n",
       "      <td>0.000000</td>\n",
       "      <td>0.000000</td>\n",
       "      <td>0.000000</td>\n",
       "      <td>0.000000</td>\n",
       "      <td>0.000000</td>\n",
       "      <td>0.000000</td>\n",
       "      <td>0.000000</td>\n",
       "    </tr>\n",
       "    <tr>\n",
       "      <th>8</th>\n",
       "      <td>0.000000</td>\n",
       "      <td>0.000000</td>\n",
       "      <td>0.022901</td>\n",
       "      <td>0.000000</td>\n",
       "      <td>0.000000</td>\n",
       "      <td>0.000000</td>\n",
       "      <td>0.061069</td>\n",
       "      <td>0.000000</td>\n",
       "      <td>0.000000</td>\n",
       "      <td>0.000000</td>\n",
       "      <td>0.000000</td>\n",
       "      <td>0.000000</td>\n",
       "      <td>0.000000</td>\n",
       "    </tr>\n",
       "    <tr>\n",
       "      <th>1</th>\n",
       "      <td>0.000000</td>\n",
       "      <td>0.000000</td>\n",
       "      <td>0.000000</td>\n",
       "      <td>0.022901</td>\n",
       "      <td>0.000000</td>\n",
       "      <td>0.000000</td>\n",
       "      <td>0.015267</td>\n",
       "      <td>0.000000</td>\n",
       "      <td>0.000000</td>\n",
       "      <td>0.000000</td>\n",
       "      <td>0.000000</td>\n",
       "      <td>0.000000</td>\n",
       "      <td>0.000000</td>\n",
       "    </tr>\n",
       "    <tr>\n",
       "      <th>9</th>\n",
       "      <td>0.000000</td>\n",
       "      <td>0.000000</td>\n",
       "      <td>0.000000</td>\n",
       "      <td>0.000000</td>\n",
       "      <td>0.061069</td>\n",
       "      <td>0.015267</td>\n",
       "      <td>0.000000</td>\n",
       "      <td>0.038168</td>\n",
       "      <td>0.000000</td>\n",
       "      <td>0.000000</td>\n",
       "      <td>0.000000</td>\n",
       "      <td>0.000000</td>\n",
       "      <td>0.000000</td>\n",
       "    </tr>\n",
       "    <tr>\n",
       "      <th>0</th>\n",
       "      <td>0.000000</td>\n",
       "      <td>0.000000</td>\n",
       "      <td>0.000000</td>\n",
       "      <td>0.000000</td>\n",
       "      <td>0.000000</td>\n",
       "      <td>0.000000</td>\n",
       "      <td>0.038168</td>\n",
       "      <td>0.000000</td>\n",
       "      <td>0.022901</td>\n",
       "      <td>0.000000</td>\n",
       "      <td>0.000000</td>\n",
       "      <td>0.000000</td>\n",
       "      <td>0.000000</td>\n",
       "    </tr>\n",
       "    <tr>\n",
       "      <th>3</th>\n",
       "      <td>0.000000</td>\n",
       "      <td>0.000000</td>\n",
       "      <td>0.000000</td>\n",
       "      <td>0.000000</td>\n",
       "      <td>0.000000</td>\n",
       "      <td>0.000000</td>\n",
       "      <td>0.000000</td>\n",
       "      <td>0.022901</td>\n",
       "      <td>0.000000</td>\n",
       "      <td>0.030534</td>\n",
       "      <td>0.000000</td>\n",
       "      <td>0.000000</td>\n",
       "      <td>0.000000</td>\n",
       "    </tr>\n",
       "    <tr>\n",
       "      <th>4</th>\n",
       "      <td>0.000000</td>\n",
       "      <td>0.000000</td>\n",
       "      <td>0.000000</td>\n",
       "      <td>0.000000</td>\n",
       "      <td>0.000000</td>\n",
       "      <td>0.000000</td>\n",
       "      <td>0.000000</td>\n",
       "      <td>0.000000</td>\n",
       "      <td>0.030534</td>\n",
       "      <td>0.000000</td>\n",
       "      <td>0.030534</td>\n",
       "      <td>0.000000</td>\n",
       "      <td>0.000000</td>\n",
       "    </tr>\n",
       "    <tr>\n",
       "      <th>-1</th>\n",
       "      <td>0.000000</td>\n",
       "      <td>0.000000</td>\n",
       "      <td>0.000000</td>\n",
       "      <td>0.000000</td>\n",
       "      <td>0.000000</td>\n",
       "      <td>0.000000</td>\n",
       "      <td>0.000000</td>\n",
       "      <td>0.000000</td>\n",
       "      <td>0.000000</td>\n",
       "      <td>0.030534</td>\n",
       "      <td>0.000000</td>\n",
       "      <td>0.000000</td>\n",
       "      <td>0.000000</td>\n",
       "    </tr>\n",
       "    <tr>\n",
       "      <th>-3</th>\n",
       "      <td>0.000000</td>\n",
       "      <td>0.000000</td>\n",
       "      <td>0.000000</td>\n",
       "      <td>0.000000</td>\n",
       "      <td>0.000000</td>\n",
       "      <td>0.000000</td>\n",
       "      <td>0.000000</td>\n",
       "      <td>0.000000</td>\n",
       "      <td>0.000000</td>\n",
       "      <td>0.000000</td>\n",
       "      <td>0.000000</td>\n",
       "      <td>0.000000</td>\n",
       "      <td>0.030534</td>\n",
       "    </tr>\n",
       "    <tr>\n",
       "      <th>6</th>\n",
       "      <td>0.000000</td>\n",
       "      <td>0.000000</td>\n",
       "      <td>0.000000</td>\n",
       "      <td>0.000000</td>\n",
       "      <td>0.000000</td>\n",
       "      <td>0.000000</td>\n",
       "      <td>0.000000</td>\n",
       "      <td>0.000000</td>\n",
       "      <td>0.000000</td>\n",
       "      <td>0.000000</td>\n",
       "      <td>0.000000</td>\n",
       "      <td>0.030534</td>\n",
       "      <td>0.000000</td>\n",
       "    </tr>\n",
       "  </tbody>\n",
       "</table>\n",
       "</div>"
      ],
      "text/plain": [
       "          -2         5         7         2         8         1         9  \\\n",
       "-2  0.000000  0.068702  0.000000  0.000000  0.000000  0.000000  0.000000   \n",
       "5   0.068702  0.000000  0.053435  0.000000  0.000000  0.000000  0.000000   \n",
       "7   0.000000  0.053435  0.000000  0.000000  0.022901  0.000000  0.000000   \n",
       "2   0.000000  0.000000  0.000000  0.000000  0.000000  0.022901  0.000000   \n",
       "8   0.000000  0.000000  0.022901  0.000000  0.000000  0.000000  0.061069   \n",
       "1   0.000000  0.000000  0.000000  0.022901  0.000000  0.000000  0.015267   \n",
       "9   0.000000  0.000000  0.000000  0.000000  0.061069  0.015267  0.000000   \n",
       "0   0.000000  0.000000  0.000000  0.000000  0.000000  0.000000  0.038168   \n",
       "3   0.000000  0.000000  0.000000  0.000000  0.000000  0.000000  0.000000   \n",
       "4   0.000000  0.000000  0.000000  0.000000  0.000000  0.000000  0.000000   \n",
       "-1  0.000000  0.000000  0.000000  0.000000  0.000000  0.000000  0.000000   \n",
       "-3  0.000000  0.000000  0.000000  0.000000  0.000000  0.000000  0.000000   \n",
       "6   0.000000  0.000000  0.000000  0.000000  0.000000  0.000000  0.000000   \n",
       "\n",
       "           0         3         4        -1        -3         6  \n",
       "-2  0.000000  0.000000  0.000000  0.000000  0.000000  0.000000  \n",
       "5   0.000000  0.000000  0.000000  0.000000  0.000000  0.000000  \n",
       "7   0.000000  0.000000  0.000000  0.000000  0.000000  0.000000  \n",
       "2   0.000000  0.000000  0.000000  0.000000  0.000000  0.000000  \n",
       "8   0.000000  0.000000  0.000000  0.000000  0.000000  0.000000  \n",
       "1   0.000000  0.000000  0.000000  0.000000  0.000000  0.000000  \n",
       "9   0.038168  0.000000  0.000000  0.000000  0.000000  0.000000  \n",
       "0   0.000000  0.022901  0.000000  0.000000  0.000000  0.000000  \n",
       "3   0.022901  0.000000  0.030534  0.000000  0.000000  0.000000  \n",
       "4   0.000000  0.030534  0.000000  0.030534  0.000000  0.000000  \n",
       "-1  0.000000  0.000000  0.030534  0.000000  0.000000  0.000000  \n",
       "-3  0.000000  0.000000  0.000000  0.000000  0.000000  0.030534  \n",
       "6   0.000000  0.000000  0.000000  0.000000  0.030534  0.000000  "
      ]
     },
     "execution_count": 26,
     "metadata": {},
     "output_type": "execute_result"
    }
   ],
   "source": [
    "repx_net.mixing_matrix()"
   ]
  },
  {
   "cell_type": "markdown",
   "metadata": {},
   "source": [
    "#### Replica exchange graph\n",
    "\n",
    "The mixing matrix tells a story of how well various interfaces are connected to other interfaces. The replica exchange graph is essentially a visualization of the mixing matrix (actually, of the transition matrix -- the mixing matrix is a symmetrized version of the transition matrix).\n",
    "\n",
    "Note: We're still developing better layout tools to visualize these."
   ]
  },
  {
   "cell_type": "code",
   "execution_count": 27,
   "metadata": {
    "collapsed": false
   },
   "outputs": [
    {
     "data": {
      "image/png": "[encoded data removed]",
      "text/plain": [
       "<matplotlib.figure.Figure at 0x130537350>"
      ]
     },
     "metadata": {},
     "output_type": "display_data"
    }
   ],
   "source": [
    "repxG = paths.ReplicaNetworkGraph(repx_net)\n",
    "repxG.draw('spring')"
   ]
  },
  {
   "cell_type": "markdown",
   "metadata": {},
   "source": [
    "#### Replica exchange flow\n",
    "\n",
    "Replica flow is defined as ***TODO***\n",
    "\n",
    "Flow is designed for calculations where the replica exchange graph is linear, which ours clearly is not. However, we can define the flow over a subset of the interfaces."
   ]
  },
  {
   "cell_type": "code",
   "execution_count": null,
   "metadata": {
    "collapsed": true
   },
   "outputs": [],
   "source": []
  },
  {
   "cell_type": "markdown",
   "metadata": {},
   "source": [
    "### Replica move history tree"
   ]
  },
  {
   "cell_type": "code",
   "execution_count": 28,
   "metadata": {
    "collapsed": true
   },
   "outputs": [],
   "source": [
    "import openpathsampling.visualize as visualization\n",
    "from IPython.display import SVG"
   ]
  },
  {
   "cell_type": "markdown",
   "metadata": {},
   "source": [
    "Track down the list of samples that lead to the existance of the last sample in storage (called the heritage)"
   ]
  },
  {
   "cell_type": "code",
   "execution_count": 29,
   "metadata": {
    "collapsed": false
   },
   "outputs": [],
   "source": [
    "heritage = visualization.PathTreeBuilder.construct_heritage(storage.samples.last)"
   ]
  },
  {
   "cell_type": "markdown",
   "metadata": {},
   "source": [
    "Create a TreeBuilder object that will take care of the SVG generation for us."
   ]
  },
  {
   "cell_type": "code",
   "execution_count": 30,
   "metadata": {
    "collapsed": true
   },
   "outputs": [],
   "source": [
    "pt = visualization.PathTreeBuilder(storage)"
   ]
  },
  {
   "cell_type": "markdown",
   "metadata": {},
   "source": [
    "##### Settings"
   ]
  },
  {
   "cell_type": "code",
   "execution_count": 31,
   "metadata": {
    "collapsed": true
   },
   "outputs": [],
   "source": [
    "pt.options['settings']['reversal_direction'] = 'state'\n",
    "pt.options['settings']['join_blocks'] = False\n",
    "pt.options['settings']['time_symmetric'] = True"
   ]
  },
  {
   "cell_type": "markdown",
   "metadata": {},
   "source": [
    "Set the list of samples to be shown Might take a little for loading missing samples from storage."
   ]
  },
  {
   "cell_type": "code",
   "execution_count": 32,
   "metadata": {
    "collapsed": false
   },
   "outputs": [],
   "source": [
    "pt.set_samples(heritage)"
   ]
  },
  {
   "cell_type": "markdown",
   "metadata": {},
   "source": [
    "Set some options for the SVG output before rendering it."
   ]
  },
  {
   "cell_type": "markdown",
   "metadata": {},
   "source": [
    "##### CSS"
   ]
  },
  {
   "cell_type": "markdown",
   "metadata": {},
   "source": [
    "CSS are things that affect the css directly like shape, size and overall appearance."
   ]
  },
  {
   "cell_type": "markdown",
   "metadata": {},
   "source": [
    "`scale_x` and `scale_y` is the distance in pixels between two blocks. Since the figure can be scaled arbitrarily only the relative number matters. Still it is useful to pick a default size in the browser. \n",
    "\n",
    "`zoom` will be applied to the whole image and might be useful for saving and printing. "
   ]
  },
  {
   "cell_type": "code",
   "execution_count": 33,
   "metadata": {
    "collapsed": true
   },
   "outputs": [],
   "source": [
    "pt.options['css']['scale_x'] = 2\n",
    "pt.options['css']['scale_y'] = 24\n",
    "pt.options['css']['zoom'] = 1.0"
   ]
  },
  {
   "cell_type": "markdown",
   "metadata": {},
   "source": [
    "`width` applies to the output scaling in a browser. Typical choices are `inherit` which will leave the actual number of pixels and result in the same block size independent of the number of snapshots per trajectory. `xxx%` which will scale the whole image to fit a certain percentage of the available space. `xxxpx` will scale the whole image to fit exactly into the given number of pixels. In general all css conform widths are supported."
   ]
  },
  {
   "cell_type": "code",
   "execution_count": 34,
   "metadata": {
    "collapsed": true
   },
   "outputs": [],
   "source": [
    "pt.options['css']['width'] = 'inherit'"
   ]
  },
  {
   "cell_type": "markdown",
   "metadata": {},
   "source": [
    "`horizontal_gap` is a bool and if set to true it will make each snapshot be separated by a little gap. If turned off you will get continuous blocks."
   ]
  },
  {
   "cell_type": "code",
   "execution_count": 35,
   "metadata": {
    "collapsed": false
   },
   "outputs": [],
   "source": [
    "pt.options['css']['horizontal_gap'] = False"
   ]
  },
  {
   "cell_type": "markdown",
   "metadata": {},
   "source": [
    "##### UI"
   ]
  },
  {
   "cell_type": "markdown",
   "metadata": {},
   "source": [
    "UI are things that affect which content will be shown, such as additional legends, hints, virtual samples, etc."
   ]
  },
  {
   "cell_type": "markdown",
   "metadata": {},
   "source": [
    "`correlation`, `sample` and `step` are bools that if true will add a vertical line with appropriate information on the left side of the plot. `False` will hide these."
   ]
  },
  {
   "cell_type": "code",
   "execution_count": 36,
   "metadata": {
    "collapsed": true
   },
   "outputs": [],
   "source": [
    "pt.options['ui']['correlation'] = True\n",
    "pt.options['ui']['sample'] = True\n",
    "pt.options['ui']['step'] = True\n",
    "pt.options['ui']['cv'] = True\n",
    "pt.options['ui']['info'] = False"
   ]
  },
  {
   "cell_type": "markdown",
   "metadata": {},
   "source": [
    "`virtual` is also a bool and will turn on/off the display of redundant samples. If `True` you will always see the whole trajectory / all samples. Usually this is turned of for clarity but for teaching purposes it might be useful to show what a common PathTree will shown and what it will omit."
   ]
  },
  {
   "cell_type": "code",
   "execution_count": 37,
   "metadata": {
    "collapsed": true
   },
   "outputs": [],
   "source": [
    "pt.options['ui']['virtual'] = False"
   ]
  },
  {
   "cell_type": "markdown",
   "metadata": {},
   "source": [
    "`.op` will reference a function that is used to determined the text inside each snapshot. If `None` nothing will be displayed. A common choice if the `.idx` function of the used storage. This will use the index of the snapshot stored."
   ]
  },
  {
   "cell_type": "markdown",
   "metadata": {},
   "source": [
    "##### Mover"
   ]
  },
  {
   "cell_type": "markdown",
   "metadata": {},
   "source": [
    "The mover category contains information on how to plot certain mover types."
   ]
  },
  {
   "cell_type": "markdown",
   "metadata": {},
   "source": [
    "```py\n",
    "pt.options['mover'][mover_type]['name'] = '...'\n",
    "pt.options['mover'][mover_type]['suffix'] = '...'\n",
    "pt.options['mover'][mover_type]['overlap_label'] = '...'\n",
    "\n",
    "pt.options['mover'][mover_type]['label_position'] = 'left' or 'right'\n",
    "\n",
    "pt.options['mover'][mover_type]['overlap'] = '...'\n",
    "pt.options['mover'][mover_type]['fw'] = '...'\n",
    "pt.options['mover'][mover_type]['bw'] = '...'\n",
    "\n",
    "pt.options['mover'][mover_type]['cls'] = '...'\n",
    "```"
   ]
  },
  {
   "cell_type": "markdown",
   "metadata": {},
   "source": [
    "##### Other"
   ]
  },
  {
   "cell_type": "code",
   "execution_count": 38,
   "metadata": {
    "collapsed": true
   },
   "outputs": [],
   "source": [
    "#pt.op = storage.idx\n",
    "pt.op = None"
   ]
  },
  {
   "cell_type": "markdown",
   "metadata": {},
   "source": [
    "`.states` is a dictionary which will reference boolean CVs with a color. If the CV will return True for a snapshots a block of the given color is put below the snapshot. This way certain states can be marked and seen if trajectories are of the correct type."
   ]
  },
  {
   "cell_type": "code",
   "execution_count": 39,
   "metadata": {
    "collapsed": true
   },
   "outputs": [],
   "source": [
    "pt.states = {}"
   ]
  },
  {
   "cell_type": "markdown",
   "metadata": {},
   "source": [
    "Finally tell the builder to render the SVG and put it out. This might take a few seconds if the plot is large."
   ]
  },
  {
   "cell_type": "code",
   "execution_count": 40,
   "metadata": {
    "collapsed": false
   },
   "outputs": [],
   "source": [
    "reload(visualization)\n",
    "pt = visualization.PathTreeBuilder(storage)\n",
    "pt.set_samples(heritage[0:-5])\n",
    "pt.options['ui']['virtual'] = False"
   ]
  },
  {
   "cell_type": "code",
   "execution_count": 41,
   "metadata": {
    "collapsed": false
   },
   "outputs": [
    {
     "data": {
      "image/svg+xml": [
       "<svg baseProfile=\"full\" class=\"opstree\" height=\"100%\" version=\"1.1\" viewBox=\"-112.00 -18.00 812.00 384.00\" width=\"812.0\" xmlns=\"http://www.w3.org/2000/svg\" xmlns:ev=\"http://www.w3.org/2001/xml-events\" xmlns:xlink=\"http://www.w3.org/1999/xlink\"><defs><style type=\"text/css\"><![CDATA[\n",
       ".opstree text, .movetree text {\n",
       "    alignment-baseline: central;\n",
       "    font-size: 10px;\n",
       "    text-anchor: middle;\n",
       "    font-family: Futura-CondensedMedium;\n",
       "    font-weight: lighter;\n",
       "    stroke: none !important;\n",
       "}\n",
       ".opstree text.shadow {\n",
       "    stroke-width: 3;\n",
       "    stroke: white !important;\n",
       "}\n",
       ".opstree text.bw.label {\n",
       "    text-anchor: end;\n",
       "}\n",
       ".opstree text.fw.label {\n",
       "    text-anchor: start;\n",
       "}\n",
       ".opstree .block text, .movetree .block text {\n",
       "    fill: white !important;\n",
       "    stroke: none !important;\n",
       "}\n",
       ".opstree g.block:hover rect {\n",
       "    opacity: 0.5;\n",
       "}\n",
       ".opstree .repex {\n",
       "    fill: blue;\n",
       "    stroke: blue;\n",
       "}\n",
       ".opstree .extend {\n",
       "    fill: blue;\n",
       "    stroke: blue;\n",
       "}\n",
       ".opstree .truncate {\n",
       "    fill: blue;\n",
       "    stroke: blue;\n",
       "}\n",
       ".opstree .new {\n",
       "    fill: black;\n",
       "    stroke: black;\n",
       "}\n",
       ".opstree .unknown {\n",
       "    fill: gray;\n",
       "    stroke: gray;\n",
       "}\n",
       ".opstree .hop {\n",
       "    fill: blue;\n",
       "    stroke: blue;\n",
       "}\n",
       ".opstree .correlation {\n",
       "    fill: black;\n",
       "    stroke: black;\n",
       "}\n",
       ".opstree .shooting.bw {\n",
       "    fill: green;\n",
       "    stroke: green;\n",
       "}\n",
       ".opstree .shooting.fw {\n",
       "    fill: red;\n",
       "    stroke: red;\n",
       "}\n",
       ".opstree .reversal {\n",
       "    fill: gold;\n",
       "    stroke: gold;\n",
       "}\n",
       ".opstree .virtual {\n",
       "    opacity: 0.1;\n",
       "    fill:gray;\n",
       "    stroke: none;\n",
       "}\n",
       ".opstree line {\n",
       "    stroke-width: 2px;\n",
       "}\n",
       ".opstree .label {\n",
       "    fill: black !important;\n",
       "}\n",
       ".opstree .h-connector {\n",
       "/*                stroke-dasharray: 3 3; */\n",
       "}\n",
       ".opstree .rejected {\n",
       "    opacity: 0.3;\n",
       "}\n",
       ".opstree .orange {\n",
       "    fill: orange;\n",
       "}\n",
       ".tableline {\n",
       "    fill: gray;\n",
       "    opacity: 0.0;\n",
       "}\n",
       ".tableline:hover {\n",
       "    opacity: 0.2;\n",
       "}\n",
       ".opstree .left.label .shift {\n",
       "    transform: translateX(-24px);\n",
       "}\n",
       ".opstree .right.label .shift {\n",
       "    transform: translateX(+24px);\n",
       "}\n",
       ".opstree .infobox text {\n",
       "    text-anchor: start;\n",
       "}\n",
       "\n",
       ".movetree .label .shift {\n",
       "    transform: translateX(-18px);\n",
       "}\n",
       "\n",
       ".movetree .label text {\n",
       "    text-anchor: end;\n",
       "}\n",
       ".movetree .v-connector {\n",
       "    stroke: black;\n",
       "}\n",
       ".movetree .v-hook {\n",
       "    stroke: black;\n",
       "}\n",
       ".movetree .ensembles .head .shift {\n",
       "    transform: translateY(0px) rotate(270deg) ;\n",
       "}\n",
       ".movetree .ensembles .head text {\n",
       "    text-anchor: start;\n",
       "}\n",
       ".movetree .connector.input {\n",
       "    fill: green;\n",
       "}\n",
       ".movetree .connector.output {\n",
       "    fill: red;\n",
       "}\n",
       ".movetree .unknown {\n",
       "    fill: gray;\n",
       "}\n",
       "]]></style></defs><g transform=\"scale(1.0)\"><g class=\"legend\"><g class=\"label\" transform=\"translate(-64,0)\"><g class=\"shift\"><text x=\"0\" y=\"0\">smp</text></g></g><g class=\"label\" transform=\"translate(-96,0)\"><g class=\"shift\"><text x=\"0\" y=\"0\">cyc</text></g></g><g class=\"label\" transform=\"translate(-32,0)\"><g class=\"shift\"><text x=\"0\" y=\"0\">cor</text></g></g><rect class=\"tableline\" height=\"10.8\" width=\"812.0\" x=\"-112.0\" y=\"6.6\"/><g class=\"label\" transform=\"translate(-64,12)\"><g class=\"shift\"><text x=\"0\" y=\"0\">17</text></g></g><g class=\"label\" transform=\"translate(-96,12)\"><g class=\"shift\"><text x=\"0\" y=\"0\">3</text></g></g><rect class=\"tableline\" height=\"10.8\" width=\"812.0\" x=\"-112.0\" y=\"18.6\"/><g class=\"label\" transform=\"translate(-64,24)\"><g class=\"shift\"><text x=\"0\" y=\"0\">26</text></g></g><g class=\"label\" transform=\"translate(-96,24)\"><g class=\"shift\"><text x=\"0\" y=\"0\">10</text></g></g><rect class=\"tableline\" height=\"10.8\" width=\"812.0\" x=\"-112.0\" y=\"30.6\"/><g class=\"label\" transform=\"translate(-64,36)\"><g class=\"shift\"><text x=\"0\" y=\"0\">27</text></g></g><g class=\"label\" transform=\"translate(-96,36)\"><g class=\"shift\"><text x=\"0\" y=\"0\">11</text></g></g><rect class=\"tableline\" height=\"10.8\" width=\"812.0\" x=\"-112.0\" y=\"42.6\"/><g class=\"label\" transform=\"translate(-64,48)\"><g class=\"shift\"><text x=\"0\" y=\"0\">30</text></g></g><g class=\"label\" transform=\"translate(-96,48)\"><g class=\"shift\"><text x=\"0\" y=\"0\">14</text></g></g><rect class=\"tableline\" height=\"10.8\" width=\"812.0\" x=\"-112.0\" y=\"54.6\"/><g class=\"label\" transform=\"translate(-64,60)\"><g class=\"shift\"><text x=\"0\" y=\"0\">43</text></g></g><g class=\"label\" transform=\"translate(-96,60)\"><g class=\"shift\"><text x=\"0\" y=\"0\">25</text></g></g><rect class=\"tableline\" height=\"10.8\" width=\"812.0\" x=\"-112.0\" y=\"66.6\"/><g class=\"label\" transform=\"translate(-64,72)\"><g class=\"shift\"><text x=\"0\" y=\"0\">74</text></g></g><g class=\"label\" transform=\"translate(-96,72)\"><g class=\"shift\"><text x=\"0\" y=\"0\">51</text></g></g><rect class=\"tableline\" height=\"10.8\" width=\"812.0\" x=\"-112.0\" y=\"78.6\"/><g class=\"label\" transform=\"translate(-64,84)\"><g class=\"shift\"><text x=\"0\" y=\"0\">77</text></g></g><g class=\"label\" transform=\"translate(-96,84)\"><g class=\"shift\"><text x=\"0\" y=\"0\">54</text></g></g><rect class=\"tableline\" height=\"10.8\" width=\"812.0\" x=\"-112.0\" y=\"90.6\"/><g class=\"label\" transform=\"translate(-64,96)\"><g class=\"shift\"><text x=\"0\" y=\"0\">94</text></g></g><g class=\"label\" transform=\"translate(-96,96)\"><g class=\"shift\"><text x=\"0\" y=\"0\">63</text></g></g><rect class=\"tableline\" height=\"10.8\" width=\"812.0\" x=\"-112.0\" y=\"102.6\"/><g class=\"label\" transform=\"translate(-64,108)\"><g class=\"shift\"><text x=\"0\" y=\"0\">120</text></g></g><g class=\"label\" transform=\"translate(-96,108)\"><g class=\"shift\"><text x=\"0\" y=\"0\">84</text></g></g><rect class=\"tableline\" height=\"10.8\" width=\"812.0\" x=\"-112.0\" y=\"114.6\"/><g class=\"correlation v-region\"><line x1=\"-32\" x2=\"-32\" y1=\"6.0\" y2=\"114.0\"/><circle cx=\"-32\" cy=\"6.0\" r=\"0.0\"/><line x1=\"-32.0\" x2=\"-25.6\" y1=\"6.0\" y2=\"6.0\"/><circle cx=\"-32\" cy=\"114.0\" r=\"0.0\"/><line x1=\"-32.0\" x2=\"-25.6\" y1=\"114.0\" y2=\"114.0\"/><text x=\"-38.4\" y=\"60.0\"/></g><g class=\"label\" transform=\"translate(-64,120)\"><g class=\"shift\"><text x=\"0\" y=\"0\">135</text></g></g><g class=\"label\" transform=\"translate(-96,120)\"><g class=\"shift\"><text x=\"0\" y=\"0\">94</text></g></g><rect class=\"tableline\" height=\"10.8\" width=\"812.0\" x=\"-112.0\" y=\"126.6\"/><g class=\"label\" transform=\"translate(-64,132)\"><g class=\"shift\"><text x=\"0\" y=\"0\">139</text></g></g><g class=\"label\" transform=\"translate(-96,132)\"><g class=\"shift\"><text x=\"0\" y=\"0\">97</text></g></g><rect class=\"tableline\" height=\"10.8\" width=\"812.0\" x=\"-112.0\" y=\"138.6\"/><g class=\"label\" transform=\"translate(-64,144)\"><g class=\"shift\"><text x=\"0\" y=\"0\">146</text></g></g><g class=\"label\" transform=\"translate(-96,144)\"><g class=\"shift\"><text x=\"0\" y=\"0\">102</text></g></g><rect class=\"tableline\" height=\"10.8\" width=\"812.0\" x=\"-112.0\" y=\"150.6\"/><g class=\"label\" transform=\"translate(-64,156)\"><g class=\"shift\"><text x=\"0\" y=\"0\">147</text></g></g><g class=\"label\" transform=\"translate(-96,156)\"><g class=\"shift\"><text x=\"0\" y=\"0\">102</text></g></g><rect class=\"tableline\" height=\"10.8\" width=\"812.0\" x=\"-112.0\" y=\"162.6\"/><g class=\"correlation v-region\"><line x1=\"-32\" x2=\"-32\" y1=\"114.0\" y2=\"162.0\"/><circle cx=\"-32\" cy=\"114.0\" r=\"0.0\"/><line x1=\"-32.0\" x2=\"-25.6\" y1=\"114.0\" y2=\"114.0\"/><circle cx=\"-32\" cy=\"162.0\" r=\"0.0\"/><line x1=\"-32.0\" x2=\"-25.6\" y1=\"162.0\" y2=\"162.0\"/><text x=\"-38.4\" y=\"138.0\"/></g><g class=\"label\" transform=\"translate(-64,168)\"><g class=\"shift\"><text x=\"0\" y=\"0\">198</text></g></g><g class=\"label\" transform=\"translate(-96,168)\"><g class=\"shift\"><text x=\"0\" y=\"0\">149</text></g></g><rect class=\"tableline\" height=\"10.8\" width=\"812.0\" x=\"-112.0\" y=\"174.6\"/><g class=\"label\" transform=\"translate(-64,180)\"><g class=\"shift\"><text x=\"0\" y=\"0\">199</text></g></g><g class=\"label\" transform=\"translate(-96,180)\"><g class=\"shift\"><text x=\"0\" y=\"0\">149</text></g></g><rect class=\"tableline\" height=\"10.8\" width=\"812.0\" x=\"-112.0\" y=\"186.6\"/><g class=\"label\" transform=\"translate(-64,192)\"><g class=\"shift\"><text x=\"0\" y=\"0\">208</text></g></g><g class=\"label\" transform=\"translate(-96,192)\"><g class=\"shift\"><text x=\"0\" y=\"0\">155</text></g></g><rect class=\"tableline\" height=\"10.8\" width=\"812.0\" x=\"-112.0\" y=\"198.6\"/><g class=\"label\" transform=\"translate(-64,204)\"><g class=\"shift\"><text x=\"0\" y=\"0\">261</text></g></g><g class=\"label\" transform=\"translate(-96,204)\"><g class=\"shift\"><text x=\"0\" y=\"0\">198</text></g></g><rect class=\"tableline\" height=\"10.8\" width=\"812.0\" x=\"-112.0\" y=\"210.6\"/><g class=\"label\" transform=\"translate(-64,216)\"><g class=\"shift\"><text x=\"0\" y=\"0\">263</text></g></g><g class=\"label\" transform=\"translate(-96,216)\"><g class=\"shift\"><text x=\"0\" y=\"0\">200</text></g></g><rect class=\"tableline\" height=\"10.8\" width=\"812.0\" x=\"-112.0\" y=\"222.6\"/><g class=\"label\" transform=\"translate(-64,228)\"><g class=\"shift\"><text x=\"0\" y=\"0\">285</text></g></g><g class=\"label\" transform=\"translate(-96,228)\"><g class=\"shift\"><text x=\"0\" y=\"0\">218</text></g></g><rect class=\"tableline\" height=\"10.8\" width=\"812.0\" x=\"-112.0\" y=\"234.6\"/><g class=\"label\" transform=\"translate(-64,240)\"><g class=\"shift\"><text x=\"0\" y=\"0\">287</text></g></g><g class=\"label\" transform=\"translate(-96,240)\"><g class=\"shift\"><text x=\"0\" y=\"0\">220</text></g></g><rect class=\"tableline\" height=\"10.8\" width=\"812.0\" x=\"-112.0\" y=\"246.6\"/><g class=\"label\" transform=\"translate(-64,252)\"><g class=\"shift\"><text x=\"0\" y=\"0\">303</text></g></g><g class=\"label\" transform=\"translate(-96,252)\"><g class=\"shift\"><text x=\"0\" y=\"0\">233</text></g></g><rect class=\"tableline\" height=\"10.8\" width=\"812.0\" x=\"-112.0\" y=\"258.6\"/><g class=\"label\" transform=\"translate(-64,264)\"><g class=\"shift\"><text x=\"0\" y=\"0\">316</text></g></g><g class=\"label\" transform=\"translate(-96,264)\"><g class=\"shift\"><text x=\"0\" y=\"0\">245</text></g></g><rect class=\"tableline\" height=\"10.8\" width=\"812.0\" x=\"-112.0\" y=\"270.6\"/><g class=\"label\" transform=\"translate(-64,276)\"><g class=\"shift\"><text x=\"0\" y=\"0\">327</text></g></g><g class=\"label\" transform=\"translate(-96,276)\"><g class=\"shift\"><text x=\"0\" y=\"0\">255</text></g></g><rect class=\"tableline\" height=\"10.8\" width=\"812.0\" x=\"-112.0\" y=\"282.6\"/><g class=\"correlation v-region\"><line x1=\"-32\" x2=\"-32\" y1=\"162.0\" y2=\"282.0\"/><circle cx=\"-32\" cy=\"162.0\" r=\"0.0\"/><line x1=\"-32.0\" x2=\"-25.6\" y1=\"162.0\" y2=\"162.0\"/><circle cx=\"-32\" cy=\"282.0\" r=\"0.0\"/><line x1=\"-32.0\" x2=\"-25.6\" y1=\"282.0\" y2=\"282.0\"/><text x=\"-38.4\" y=\"222.0\"/></g><g class=\"label\" transform=\"translate(-64,288)\"><g class=\"shift\"><text x=\"0\" y=\"0\">328</text></g></g><g class=\"label\" transform=\"translate(-96,288)\"><g class=\"shift\"><text x=\"0\" y=\"0\">256</text></g></g><rect class=\"tableline\" height=\"10.8\" width=\"812.0\" x=\"-112.0\" y=\"294.6\"/><g class=\"label\" transform=\"translate(-64,300)\"><g class=\"shift\"><text x=\"0\" y=\"0\">329</text></g></g><g class=\"label\" transform=\"translate(-96,300)\"><g class=\"shift\"><text x=\"0\" y=\"0\">257</text></g></g><rect class=\"tableline\" height=\"10.8\" width=\"812.0\" x=\"-112.0\" y=\"306.6\"/><g class=\"label\" transform=\"translate(-64,312)\"><g class=\"shift\"><text x=\"0\" y=\"0\">335</text></g></g><g class=\"label\" transform=\"translate(-96,312)\"><g class=\"shift\"><text x=\"0\" y=\"0\">262</text></g></g><rect class=\"tableline\" height=\"10.8\" width=\"812.0\" x=\"-112.0\" y=\"318.6\"/><g class=\"correlation v-region\"><line x1=\"-32\" x2=\"-32\" y1=\"282.0\" y2=\"318.0\"/><circle cx=\"-32\" cy=\"282.0\" r=\"0.0\"/><line x1=\"-32.0\" x2=\"-25.6\" y1=\"282.0\" y2=\"282.0\"/><circle cx=\"-32\" cy=\"318.0\" r=\"0.0\"/><line x1=\"-32.0\" x2=\"-25.6\" y1=\"318.0\" y2=\"318.0\"/><text x=\"-38.4\" y=\"300.0\"/></g><g class=\"label\" transform=\"translate(-64,324)\"><g class=\"shift\"><text x=\"0\" y=\"0\">371</text></g></g><g class=\"label\" transform=\"translate(-96,324)\"><g class=\"shift\"><text x=\"0\" y=\"0\">285</text></g></g><rect class=\"tableline\" height=\"10.8\" width=\"812.0\" x=\"-112.0\" y=\"330.6\"/><g class=\"label\" transform=\"translate(-64,336)\"><g class=\"shift\"><text x=\"0\" y=\"0\">400</text></g></g><g class=\"label\" transform=\"translate(-96,336)\"><g class=\"shift\"><text x=\"0\" y=\"0\">311</text></g></g><rect class=\"tableline\" height=\"10.8\" width=\"812.0\" x=\"-112.0\" y=\"342.6\"/><g class=\"label\" transform=\"translate(-64,348)\"><g class=\"shift\"><text x=\"0\" y=\"0\">468</text></g></g><g class=\"label\" transform=\"translate(-96,348)\"><g class=\"shift\"><text x=\"0\" y=\"0\">360</text></g></g><rect class=\"tableline\" height=\"10.8\" width=\"812.0\" x=\"-112.0\" y=\"354.6\"/><g class=\"label\" transform=\"translate(-64,360)\"><g class=\"shift\"><text x=\"0\" y=\"0\">482</text></g></g><g class=\"label\" transform=\"translate(-96,360)\"><g class=\"shift\"><text x=\"0\" y=\"0\">369</text></g></g><g class=\"correlation v-region\"><line x1=\"-32\" x2=\"-32\" y1=\"318.0\" y2=\"366.0\"/><circle cx=\"-32\" cy=\"318.0\" r=\"0.0\"/><line x1=\"-32.0\" x2=\"-25.6\" y1=\"318.0\" y2=\"318.0\"/><text x=\"-38.4\" y=\"342.0\"/></g></g><g class=\"tree\" transform=\"translate(38,12)\"><g class=\"unknown left label\" transform=\"translate(0,0)\"><g class=\"shift\"><text x=\"0\" y=\"0\">12+</text></g></g><g class=\"unknown overlap whiteback h-region\"><line x1=\"-3.0\" x2=\"309.0\" y1=\"0\" y2=\"0\"/><circle cx=\"-3.0\" cy=\"0\" r=\"0.0\"/><line x1=\"-3.0\" x2=\"-3.0\" y1=\"-3.6\" y2=\"3.6\"/><circle cx=\"309.0\" cy=\"0\" r=\"0.0\"/><line x1=\"309.0\" x2=\"309.0\" y1=\"-3.6\" y2=\"3.6\"/><text class=\"shadow\" x=\"153.0\" y=\"0\">New</text><text x=\"153.0\" y=\"0\">New</text></g><g class=\"unknown bw block\"><rect height=\"7.2\" width=\"0.0\" x=\"-3.0\" y=\"-3.6\"/><circle cx=\"-3.0\" cy=\"0\" r=\"0.0\"/><text x=\"-3.0\" y=\"0\"/></g><g class=\"unknown fw block\"><rect height=\"7.2\" width=\"0.0\" x=\"309.0\" y=\"-3.6\"/><circle cx=\"309.0\" cy=\"0\" r=\"0.0\"/><text x=\"309.0\" y=\"0\"/></g><g class=\"shooting right label\" transform=\"translate(354,12)\"><g class=\"shift\"><text x=\"0\" y=\"0\">17f</text></g></g><line class=\"shooting fw connection v-connector\" x1=\"159.0\" x2=\"159.0\" y1=\"0.0\" y2=\"12.0\"/><g class=\"shooting bw block\"><rect height=\"7.2\" width=\"0.0\" x=\"-3.0\" y=\"8.4\"/><circle cx=\"-3.0\" cy=\"12\" r=\"0.0\"/><text x=\"-3.0\" y=\"12\"/></g><g class=\"shooting fw block\"><rect height=\"7.2\" width=\"198.0\" x=\"159.0\" y=\"8.4\"/><circle cx=\"159.0\" cy=\"12\" r=\"0.0\"/><text x=\"258.0\" y=\"12\"/></g><g class=\"reversal left label\" transform=\"translate(0,24)\"><g class=\"shift\"><text x=\"0\" y=\"0\">18r</text></g></g><g class=\"reversal overlap whiteback h-region\"><line x1=\"-3.0\" x2=\"357.0\" y1=\"24\" y2=\"24\"/><circle cx=\"-3.0\" cy=\"24\" r=\"0.0\"/><line x1=\"-3.0\" x2=\"-3.0\" y1=\"20.4\" y2=\"27.6\"/><circle cx=\"357.0\" cy=\"24\" r=\"0.0\"/><line x1=\"357.0\" x2=\"357.0\" y1=\"20.4\" y2=\"27.6\"/><text class=\"shadow\" x=\"177.0\" y=\"24\">Reversal</text><text x=\"177.0\" y=\"24\">Reversal</text></g><g class=\"reversal left label\" transform=\"translate(0,36)\"><g class=\"shift\"><text x=\"0\" y=\"0\">21r</text></g></g><g class=\"reversal overlap whiteback h-region\"><line x1=\"-3.0\" x2=\"357.0\" y1=\"36\" y2=\"36\"/><circle cx=\"-3.0\" cy=\"36\" r=\"0.0\"/><line x1=\"-3.0\" x2=\"-3.0\" y1=\"32.4\" y2=\"39.6\"/><circle cx=\"357.0\" cy=\"36\" r=\"0.0\"/><line x1=\"357.0\" x2=\"357.0\" y1=\"32.4\" y2=\"39.6\"/><text class=\"shadow\" x=\"177.0\" y=\"36\">Reversal</text><text x=\"177.0\" y=\"36\">Reversal</text></g><g class=\"reversal left label\" transform=\"translate(0,48)\"><g class=\"shift\"><text x=\"0\" y=\"0\">30r</text></g></g><g class=\"reversal overlap whiteback h-region\"><line x1=\"-3.0\" x2=\"357.0\" y1=\"48\" y2=\"48\"/><circle cx=\"-3.0\" cy=\"48\" r=\"0.0\"/><line x1=\"-3.0\" x2=\"-3.0\" y1=\"44.4\" y2=\"51.6\"/><circle cx=\"357.0\" cy=\"48\" r=\"0.0\"/><line x1=\"357.0\" x2=\"357.0\" y1=\"44.4\" y2=\"51.6\"/><text class=\"shadow\" x=\"177.0\" y=\"48\">Reversal</text><text x=\"177.0\" y=\"48\">Reversal</text></g><g class=\"shooting right label\" transform=\"translate(306,60)\"><g class=\"shift\"><text x=\"0\" y=\"0\">51f</text></g></g><line class=\"shooting fw connection v-connector\" x1=\"201.0\" x2=\"201.0\" y1=\"48.0\" y2=\"60.0\"/><g class=\"shooting bw block\"><rect height=\"7.2\" width=\"0.0\" x=\"-3.0\" y=\"56.4\"/><circle cx=\"-3.0\" cy=\"60\" r=\"0.0\"/><text x=\"-3.0\" y=\"60\"/></g><g class=\"shooting fw block\"><rect height=\"7.2\" width=\"108.0\" x=\"201.0\" y=\"56.4\"/><circle cx=\"201.0\" cy=\"60\" r=\"0.0\"/><text x=\"255.0\" y=\"60\"/></g><g class=\"shooting right label\" transform=\"translate(624,72)\"><g class=\"shift\"><text x=\"0\" y=\"0\">54f</text></g></g><line class=\"shooting fw connection v-connector\" x1=\"255.0\" x2=\"255.0\" y1=\"60.0\" y2=\"72.0\"/><g class=\"shooting bw block\"><rect height=\"7.2\" width=\"0.0\" x=\"-3.0\" y=\"68.4\"/><circle cx=\"-3.0\" cy=\"72\" r=\"0.0\"/><text x=\"-3.0\" y=\"72\"/></g><g class=\"shooting fw block\"><rect height=\"7.2\" width=\"372.0\" x=\"255.0\" y=\"68.4\"/><circle cx=\"255.0\" cy=\"72\" r=\"0.0\"/><text x=\"441.0\" y=\"72\"/></g><g class=\"shooting right label\" transform=\"translate(546,84)\"><g class=\"shift\"><text x=\"0\" y=\"0\">63f</text></g></g><line class=\"shooting fw connection v-connector\" x1=\"441.0\" x2=\"441.0\" y1=\"72.0\" y2=\"84.0\"/><g class=\"shooting bw block\"><rect height=\"7.2\" width=\"0.0\" x=\"-3.0\" y=\"80.4\"/><circle cx=\"-3.0\" cy=\"84\" r=\"0.0\"/><text x=\"-3.0\" y=\"84\"/></g><g class=\"shooting fw block\"><rect height=\"7.2\" width=\"108.0\" x=\"441.0\" y=\"80.4\"/><circle cx=\"441.0\" cy=\"84\" r=\"0.0\"/><text x=\"495.0\" y=\"84\"/></g><g class=\"reversal left label\" transform=\"translate(0,96)\"><g class=\"shift\"><text x=\"0\" y=\"0\">79r</text></g></g><g class=\"reversal overlap whiteback h-region\"><line x1=\"-3.0\" x2=\"549.0\" y1=\"96\" y2=\"96\"/><circle cx=\"-3.0\" cy=\"96\" r=\"0.0\"/><line x1=\"-3.0\" x2=\"-3.0\" y1=\"92.4\" y2=\"99.6\"/><circle cx=\"549.0\" cy=\"96\" r=\"0.0\"/><line x1=\"549.0\" x2=\"549.0\" y1=\"92.4\" y2=\"99.6\"/><text class=\"shadow\" x=\"273.0\" y=\"96\">Reversal</text><text x=\"273.0\" y=\"96\">Reversal</text></g><g class=\"shooting right label\" transform=\"translate(318,108)\"><g class=\"shift\"><text x=\"0\" y=\"0\">84f</text></g></g><line class=\"shooting fw connection v-connector\" x1=\"213.0\" x2=\"213.0\" y1=\"96.0\" y2=\"108.0\"/><g class=\"shooting bw block\"><rect height=\"7.2\" width=\"0.0\" x=\"-3.0\" y=\"104.4\"/><circle cx=\"-3.0\" cy=\"108\" r=\"0.0\"/><text x=\"-3.0\" y=\"108\"/></g><g class=\"shooting fw block\"><rect height=\"7.2\" width=\"108.0\" x=\"213.0\" y=\"104.4\"/><circle cx=\"213.0\" cy=\"108\" r=\"0.0\"/><text x=\"267.0\" y=\"108\"/></g><g class=\"shooting right label\" transform=\"translate(258,120)\"><g class=\"shift\"><text x=\"0\" y=\"0\">86f</text></g></g><line class=\"shooting fw connection v-connector\" x1=\"99.0\" x2=\"99.0\" y1=\"96.0\" y2=\"120.0\"/><g class=\"shooting bw block\"><rect height=\"7.2\" width=\"0.0\" x=\"-3.0\" y=\"116.4\"/><circle cx=\"-3.0\" cy=\"120\" r=\"0.0\"/><text x=\"-3.0\" y=\"120\"/></g><g class=\"shooting fw block\"><rect height=\"7.2\" width=\"162.0\" x=\"99.0\" y=\"116.4\"/><circle cx=\"99.0\" cy=\"120\" r=\"0.0\"/><text x=\"180.0\" y=\"120\"/></g><g class=\"repex left label\" transform=\"translate(0,132)\"><g class=\"shift\"><text x=\"0\" y=\"0\">86x</text></g></g><g class=\"repex overlap whiteback h-region\"><line x1=\"-3.0\" x2=\"261.0\" y1=\"132\" y2=\"132\"/><circle cx=\"-3.0\" cy=\"132\" r=\"0.0\"/><line x1=\"-3.0\" x2=\"-3.0\" y1=\"128.4\" y2=\"135.6\"/><circle cx=\"261.0\" cy=\"132\" r=\"0.0\"/><line x1=\"261.0\" x2=\"261.0\" y1=\"128.4\" y2=\"135.6\"/><text class=\"shadow\" x=\"129.0\" y=\"132\">RepEx</text><text x=\"129.0\" y=\"132\">RepEx</text></g><g class=\"repex bw block\"><rect height=\"7.2\" width=\"0.0\" x=\"-3.0\" y=\"128.4\"/><circle cx=\"-3.0\" cy=\"132\" r=\"0.0\"/><text x=\"-3.0\" y=\"132\"/></g><g class=\"repex fw block\"><rect height=\"7.2\" width=\"0.0\" x=\"261.0\" y=\"128.4\"/><circle cx=\"261.0\" cy=\"132\" r=\"0.0\"/><text x=\"261.0\" y=\"132\"/></g><g class=\"extend right label\" transform=\"translate(552,144)\"><g class=\"shift\"><text x=\"0\" y=\"0\">92f</text></g></g><line class=\"extend fw connection v-connector\" x1=\"261.0\" x2=\"261.0\" y1=\"120.0\" y2=\"144.0\"/><g class=\"extend overlap whiteback h-region\"><line x1=\"-3.0\" x2=\"261.0\" y1=\"144\" y2=\"144\"/><circle cx=\"-3.0\" cy=\"144\" r=\"0.0\"/><line x1=\"-3.0\" x2=\"-3.0\" y1=\"140.4\" y2=\"147.6\"/><circle cx=\"261.0\" cy=\"144\" r=\"0.0\"/><line x1=\"261.0\" x2=\"261.0\" y1=\"140.4\" y2=\"147.6\"/><text class=\"shadow\" x=\"129.0\" y=\"144\">Extend</text><text x=\"129.0\" y=\"144\">Extend</text></g><g class=\"extend bw block\"><rect height=\"7.2\" width=\"0.0\" x=\"-3.0\" y=\"140.4\"/><circle cx=\"-3.0\" cy=\"144\" r=\"0.0\"/><text x=\"-3.0\" y=\"144\"/></g><g class=\"extend fw block\"><rect height=\"7.2\" width=\"294.0\" x=\"261.0\" y=\"140.4\"/><circle cx=\"261.0\" cy=\"144\" r=\"0.0\"/><text x=\"408.0\" y=\"144\"/></g><g class=\"extend right label\" transform=\"translate(552,156)\"><g class=\"shift\"><text x=\"0\" y=\"0\">135t</text></g></g><g class=\"extend overlap whiteback h-region\"><line x1=\"489.0\" x2=\"555.0\" y1=\"156\" y2=\"156\"/><circle cx=\"489.0\" cy=\"156\" r=\"0.0\"/><line x1=\"489.0\" x2=\"489.0\" y1=\"152.4\" y2=\"159.6\"/><circle cx=\"555.0\" cy=\"156\" r=\"0.0\"/><line x1=\"555.0\" x2=\"555.0\" y1=\"152.4\" y2=\"159.6\"/><text class=\"shadow\" x=\"522.0\" y=\"156\">Trunc</text><text x=\"522.0\" y=\"156\">Trunc</text></g><g class=\"extend bw block\"><rect height=\"7.2\" width=\"0.0\" x=\"489.0\" y=\"152.4\"/><circle cx=\"489.0\" cy=\"156\" r=\"0.0\"/><text x=\"489.0\" y=\"156\"/></g><g class=\"extend fw block\"><rect height=\"7.2\" width=\"0.0\" x=\"555.0\" y=\"152.4\"/><circle cx=\"555.0\" cy=\"156\" r=\"0.0\"/><text x=\"555.0\" y=\"156\"/></g><g class=\"repex left label\" transform=\"translate(492,168)\"><g class=\"shift\"><text x=\"0\" y=\"0\">135x</text></g></g><g class=\"repex overlap whiteback h-region\"><line x1=\"489.0\" x2=\"555.0\" y1=\"168\" y2=\"168\"/><circle cx=\"489.0\" cy=\"168\" r=\"0.0\"/><line x1=\"489.0\" x2=\"489.0\" y1=\"164.4\" y2=\"171.6\"/><circle cx=\"555.0\" cy=\"168\" r=\"0.0\"/><line x1=\"555.0\" x2=\"555.0\" y1=\"164.4\" y2=\"171.6\"/><text class=\"shadow\" x=\"522.0\" y=\"168\">RepEx</text><text x=\"522.0\" y=\"168\">RepEx</text></g><g class=\"repex bw block\"><rect height=\"7.2\" width=\"0.0\" x=\"489.0\" y=\"164.4\"/><circle cx=\"489.0\" cy=\"168\" r=\"0.0\"/><text x=\"489.0\" y=\"168\"/></g><g class=\"repex fw block\"><rect height=\"7.2\" width=\"0.0\" x=\"555.0\" y=\"164.4\"/><circle cx=\"555.0\" cy=\"168\" r=\"0.0\"/><text x=\"555.0\" y=\"168\"/></g><g class=\"shooting left label\" transform=\"translate(504,180)\"><g class=\"shift\"><text x=\"0\" y=\"0\">141b</text></g></g><line class=\"shooting bw connection v-connector\" x1=\"519.0\" x2=\"519.0\" y1=\"144.0\" y2=\"180.0\"/><g class=\"shooting bw block\"><rect height=\"7.2\" width=\"18.0\" x=\"501.0\" y=\"176.4\"/><circle cx=\"519.0\" cy=\"180\" r=\"0.0\"/><text x=\"510.0\" y=\"180\"/></g><g class=\"shooting fw block\"><rect height=\"7.2\" width=\"0.0\" x=\"555.0\" y=\"176.4\"/><circle cx=\"555.0\" cy=\"180\" r=\"0.0\"/><text x=\"555.0\" y=\"180\"/></g><g class=\"reversal left label\" transform=\"translate(504,192)\"><g class=\"shift\"><text x=\"0\" y=\"0\">178r</text></g></g><g class=\"reversal overlap whiteback h-region\"><line x1=\"501.0\" x2=\"555.0\" y1=\"192\" y2=\"192\"/><circle cx=\"501.0\" cy=\"192\" r=\"0.0\"/><line x1=\"501.0\" x2=\"501.0\" y1=\"188.4\" y2=\"195.6\"/><circle cx=\"555.0\" cy=\"192\" r=\"0.0\"/><line x1=\"555.0\" x2=\"555.0\" y1=\"188.4\" y2=\"195.6\"/><text class=\"shadow\" x=\"528.0\" y=\"192\">Reversal</text><text x=\"528.0\" y=\"192\">Reversal</text></g><g class=\"shooting right label\" transform=\"translate(552,204)\"><g class=\"shift\"><text x=\"0\" y=\"0\">180f</text></g></g><line class=\"shooting fw connection v-connector\" x1=\"543.0\" x2=\"543.0\" y1=\"192.0\" y2=\"204.0\"/><g class=\"shooting bw block\"><rect height=\"7.2\" width=\"0.0\" x=\"501.0\" y=\"200.4\"/><circle cx=\"501.0\" cy=\"204\" r=\"0.0\"/><text x=\"501.0\" y=\"204\"/></g><g class=\"shooting fw block\"><rect height=\"7.2\" width=\"12.0\" x=\"543.0\" y=\"200.4\"/><circle cx=\"543.0\" cy=\"204\" r=\"0.0\"/><text x=\"549.0\" y=\"204\"/></g><g class=\"reversal left label\" transform=\"translate(504,216)\"><g class=\"shift\"><text x=\"0\" y=\"0\">194r</text></g></g><g class=\"reversal overlap whiteback h-region\"><line x1=\"501.0\" x2=\"555.0\" y1=\"216\" y2=\"216\"/><circle cx=\"501.0\" cy=\"216\" r=\"0.0\"/><line x1=\"501.0\" x2=\"501.0\" y1=\"212.4\" y2=\"219.6\"/><circle cx=\"555.0\" cy=\"216\" r=\"0.0\"/><line x1=\"555.0\" x2=\"555.0\" y1=\"212.4\" y2=\"219.6\"/><text class=\"shadow\" x=\"528.0\" y=\"216\">Reversal</text><text x=\"528.0\" y=\"216\">Reversal</text></g><g class=\"shooting left label\" transform=\"translate(486,228)\"><g class=\"shift\"><text x=\"0\" y=\"0\">196b</text></g></g><line class=\"shooting bw connection v-connector\" x1=\"537.0\" x2=\"537.0\" y1=\"216.0\" y2=\"228.0\"/><g class=\"shooting bw block\"><rect height=\"7.2\" width=\"54.0\" x=\"483.0\" y=\"224.4\"/><circle cx=\"537.0\" cy=\"228\" r=\"0.0\"/><text x=\"510.0\" y=\"228\"/></g><g class=\"shooting fw block\"><rect height=\"7.2\" width=\"0.0\" x=\"555.0\" y=\"224.4\"/><circle cx=\"555.0\" cy=\"228\" r=\"0.0\"/><text x=\"555.0\" y=\"228\"/></g><g class=\"reversal left label\" transform=\"translate(486,240)\"><g class=\"shift\"><text x=\"0\" y=\"0\">206r</text></g></g><g class=\"reversal overlap whiteback h-region\"><line x1=\"483.0\" x2=\"555.0\" y1=\"240\" y2=\"240\"/><circle cx=\"483.0\" cy=\"240\" r=\"0.0\"/><line x1=\"483.0\" x2=\"483.0\" y1=\"236.4\" y2=\"243.6\"/><circle cx=\"555.0\" cy=\"240\" r=\"0.0\"/><line x1=\"555.0\" x2=\"555.0\" y1=\"236.4\" y2=\"243.6\"/><text class=\"shadow\" x=\"519.0\" y=\"240\">Reversal</text><text x=\"519.0\" y=\"240\">Reversal</text></g><g class=\"reversal left label\" transform=\"translate(486,252)\"><g class=\"shift\"><text x=\"0\" y=\"0\">217r</text></g></g><g class=\"reversal overlap whiteback h-region\"><line x1=\"483.0\" x2=\"555.0\" y1=\"252\" y2=\"252\"/><circle cx=\"483.0\" cy=\"252\" r=\"0.0\"/><line x1=\"483.0\" x2=\"483.0\" y1=\"248.4\" y2=\"255.6\"/><circle cx=\"555.0\" cy=\"252\" r=\"0.0\"/><line x1=\"555.0\" x2=\"555.0\" y1=\"248.4\" y2=\"255.6\"/><text class=\"shadow\" x=\"519.0\" y=\"252\">Reversal</text><text x=\"519.0\" y=\"252\">Reversal</text></g><g class=\"shooting left label\" transform=\"translate(492,264)\"><g class=\"shift\"><text x=\"0\" y=\"0\">226b</text></g></g><line class=\"shooting bw connection v-connector\" x1=\"531.0\" x2=\"531.0\" y1=\"252.0\" y2=\"264.0\"/><g class=\"shooting bw block\"><rect height=\"7.2\" width=\"42.0\" x=\"489.0\" y=\"260.4\"/><circle cx=\"531.0\" cy=\"264\" r=\"0.0\"/><text x=\"510.0\" y=\"264\"/></g><g class=\"shooting fw block\"><rect height=\"7.2\" width=\"0.0\" x=\"555.0\" y=\"260.4\"/><circle cx=\"555.0\" cy=\"264\" r=\"0.0\"/><text x=\"555.0\" y=\"264\"/></g><g class=\"shooting right label\" transform=\"translate(540,276)\"><g class=\"shift\"><text x=\"0\" y=\"0\">227f</text></g></g><line class=\"shooting fw connection v-connector\" x1=\"525.0\" x2=\"525.0\" y1=\"264.0\" y2=\"276.0\"/><g class=\"shooting bw block\"><rect height=\"7.2\" width=\"0.0\" x=\"489.0\" y=\"272.4\"/><circle cx=\"489.0\" cy=\"276\" r=\"0.0\"/><text x=\"489.0\" y=\"276\"/></g><g class=\"shooting fw block\"><rect height=\"7.2\" width=\"18.0\" x=\"525.0\" y=\"272.4\"/><circle cx=\"525.0\" cy=\"276\" r=\"0.0\"/><text x=\"534.0\" y=\"276\"/></g><g class=\"shooting left label\" transform=\"translate(234,288)\"><g class=\"shift\"><text x=\"0\" y=\"0\">228b</text></g></g><line class=\"shooting bw connection v-connector\" x1=\"525.0\" x2=\"525.0\" y1=\"276.0\" y2=\"288.0\"/><g class=\"shooting bw block\"><rect height=\"7.2\" width=\"294.0\" x=\"231.0\" y=\"284.4\"/><circle cx=\"525.0\" cy=\"288\" r=\"0.0\"/><text x=\"378.0\" y=\"288\"/></g><g class=\"shooting fw block\"><rect height=\"7.2\" width=\"0.0\" x=\"543.0\" y=\"284.4\"/><circle cx=\"543.0\" cy=\"288\" r=\"0.0\"/><text x=\"543.0\" y=\"288\"/></g><g class=\"reversal left label\" transform=\"translate(234,300)\"><g class=\"shift\"><text x=\"0\" y=\"0\">232r</text></g></g><g class=\"reversal overlap whiteback h-region\"><line x1=\"231.0\" x2=\"543.0\" y1=\"300\" y2=\"300\"/><circle cx=\"231.0\" cy=\"300\" r=\"0.0\"/><line x1=\"231.0\" x2=\"231.0\" y1=\"296.4\" y2=\"303.6\"/><circle cx=\"543.0\" cy=\"300\" r=\"0.0\"/><line x1=\"543.0\" x2=\"543.0\" y1=\"296.4\" y2=\"303.6\"/><text class=\"shadow\" x=\"387.0\" y=\"300\">Reversal</text><text x=\"387.0\" y=\"300\">Reversal</text></g><g class=\"shooting left label\" transform=\"translate(384,312)\"><g class=\"shift\"><text x=\"0\" y=\"0\">254b</text></g></g><line class=\"shooting bw connection v-connector\" x1=\"447.0\" x2=\"447.0\" y1=\"300.0\" y2=\"312.0\"/><g class=\"shooting bw block\"><rect height=\"7.2\" width=\"66.0\" x=\"381.0\" y=\"308.4\"/><circle cx=\"447.0\" cy=\"312\" r=\"0.0\"/><text x=\"414.0\" y=\"312\"/></g><g class=\"shooting fw block\"><rect height=\"7.2\" width=\"0.0\" x=\"543.0\" y=\"308.4\"/><circle cx=\"543.0\" cy=\"312\" r=\"0.0\"/><text x=\"543.0\" y=\"312\"/></g><g class=\"reversal left label\" transform=\"translate(384,324)\"><g class=\"shift\"><text x=\"0\" y=\"0\">277r</text></g></g><g class=\"reversal overlap whiteback h-region\"><line x1=\"381.0\" x2=\"543.0\" y1=\"324\" y2=\"324\"/><circle cx=\"381.0\" cy=\"324\" r=\"0.0\"/><line x1=\"381.0\" x2=\"381.0\" y1=\"320.4\" y2=\"327.6\"/><circle cx=\"543.0\" cy=\"324\" r=\"0.0\"/><line x1=\"543.0\" x2=\"543.0\" y1=\"320.4\" y2=\"327.6\"/><text class=\"shadow\" x=\"462.0\" y=\"324\">Reversal</text><text x=\"462.0\" y=\"324\">Reversal</text></g><g class=\"reversal left label\" transform=\"translate(384,336)\"><g class=\"shift\"><text x=\"0\" y=\"0\">307r</text></g></g><g class=\"reversal overlap whiteback h-region\"><line x1=\"381.0\" x2=\"543.0\" y1=\"336\" y2=\"336\"/><circle cx=\"381.0\" cy=\"336\" r=\"0.0\"/><line x1=\"381.0\" x2=\"381.0\" y1=\"332.4\" y2=\"339.6\"/><circle cx=\"543.0\" cy=\"336\" r=\"0.0\"/><line x1=\"543.0\" x2=\"543.0\" y1=\"332.4\" y2=\"339.6\"/><text class=\"shadow\" x=\"462.0\" y=\"336\">Reversal</text><text x=\"462.0\" y=\"336\">Reversal</text></g><g class=\"reversal left label\" transform=\"translate(384,348)\"><g class=\"shift\"><text x=\"0\" y=\"0\">315r</text></g></g><g class=\"reversal overlap whiteback h-region\"><line x1=\"381.0\" x2=\"543.0\" y1=\"348\" y2=\"348\"/><circle cx=\"381.0\" cy=\"348\" r=\"0.0\"/><line x1=\"381.0\" x2=\"381.0\" y1=\"344.4\" y2=\"351.6\"/><circle cx=\"543.0\" cy=\"348\" r=\"0.0\"/><line x1=\"543.0\" x2=\"543.0\" y1=\"344.4\" y2=\"351.6\"/><text class=\"shadow\" x=\"462.0\" y=\"348\">Reversal</text><text x=\"462.0\" y=\"348\">Reversal</text></g></g></g></svg>"
      ],
      "text/plain": [
       "<IPython.core.display.SVG object>"
      ]
     },
     "execution_count": 41,
     "metadata": {},
     "output_type": "execute_result"
    }
   ],
   "source": [
    "pt.options['settings']['flip_time_direction'] = False\n",
    "pt.options['css']['scale_x'] = 6\n",
    "pt.options['css']['scale_y'] = 12\n",
    "pt.options['settings']['join_blocks'] = True\n",
    "pt.op = storage.idx\n",
    "pt.analyze()\n",
    "SVG(pt.svg())"
   ]
  },
  {
   "cell_type": "code",
   "execution_count": 42,
   "metadata": {
    "collapsed": false
   },
   "outputs": [],
   "source": [
    "history = visualization.ReplicaHistoryTree(storage, storage.steps[:], 4)"
   ]
  },
  {
   "cell_type": "code",
   "execution_count": 43,
   "metadata": {
    "collapsed": false
   },
   "outputs": [
    {
     "name": "stdout",
     "output_type": "stream",
     "text": [
      "We have 14 decorrelated trajectories.\n"
     ]
    }
   ],
   "source": [
    "decorrelated = history.decorrelated_trajectories\n",
    "print \"We have \" + str(len(decorrelated)) + \" decorrelated trajectories.\""
   ]
  },
  {
   "cell_type": "code",
   "execution_count": 44,
   "metadata": {
    "collapsed": false
   },
   "outputs": [
    {
     "data": {
      "image/svg+xml": [
       "<svg baseProfile=\"full\" class=\"opstree\" height=\"100%\" version=\"1.1\" viewBox=\"-224.00 -60.00 2140.00 1600.00\" width=\"2140.0\" xmlns=\"http://www.w3.org/2000/svg\" xmlns:ev=\"http://www.w3.org/2001/xml-events\" xmlns:xlink=\"http://www.w3.org/1999/xlink\"><defs><style type=\"text/css\"><![CDATA[\n",
       ".opstree text, .movetree text {\n",
       "    alignment-baseline: central;\n",
       "    font-size: 10px;\n",
       "    text-anchor: middle;\n",
       "    font-family: Futura-CondensedMedium;\n",
       "    font-weight: lighter;\n",
       "    stroke: none !important;\n",
       "}\n",
       ".opstree text.shadow {\n",
       "    stroke-width: 3;\n",
       "    stroke: white !important;\n",
       "}\n",
       ".opstree text.bw.label {\n",
       "    text-anchor: end;\n",
       "}\n",
       ".opstree text.fw.label {\n",
       "    text-anchor: start;\n",
       "}\n",
       ".opstree .block text, .movetree .block text {\n",
       "    fill: white !important;\n",
       "    stroke: none !important;\n",
       "}\n",
       ".opstree g.block:hover rect {\n",
       "    opacity: 0.5;\n",
       "}\n",
       ".opstree .repex {\n",
       "    fill: blue;\n",
       "    stroke: blue;\n",
       "}\n",
       ".opstree .extend {\n",
       "    fill: blue;\n",
       "    stroke: blue;\n",
       "}\n",
       ".opstree .truncate {\n",
       "    fill: blue;\n",
       "    stroke: blue;\n",
       "}\n",
       ".opstree .new {\n",
       "    fill: black;\n",
       "    stroke: black;\n",
       "}\n",
       ".opstree .unknown {\n",
       "    fill: gray;\n",
       "    stroke: gray;\n",
       "}\n",
       ".opstree .hop {\n",
       "    fill: blue;\n",
       "    stroke: blue;\n",
       "}\n",
       ".opstree .correlation {\n",
       "    fill: black;\n",
       "    stroke: black;\n",
       "}\n",
       ".opstree .shooting.bw {\n",
       "    fill: green;\n",
       "    stroke: green;\n",
       "}\n",
       ".opstree .shooting.fw {\n",
       "    fill: red;\n",
       "    stroke: red;\n",
       "}\n",
       ".opstree .reversal {\n",
       "    fill: gold;\n",
       "    stroke: gold;\n",
       "}\n",
       ".opstree .virtual {\n",
       "    opacity: 0.1;\n",
       "    fill:gray;\n",
       "    stroke: none;\n",
       "}\n",
       ".opstree line {\n",
       "    stroke-width: 2px;\n",
       "}\n",
       ".opstree .label {\n",
       "    fill: black !important;\n",
       "}\n",
       ".opstree .h-connector {\n",
       "/*                stroke-dasharray: 3 3; */\n",
       "}\n",
       ".opstree .rejected {\n",
       "    opacity: 0.3;\n",
       "}\n",
       ".opstree .orange {\n",
       "    fill: orange;\n",
       "}\n",
       ".tableline {\n",
       "    fill: gray;\n",
       "    opacity: 0.0;\n",
       "}\n",
       ".tableline:hover {\n",
       "    opacity: 0.2;\n",
       "}\n",
       ".opstree .left.label .shift {\n",
       "    transform: translateX(-24px);\n",
       "}\n",
       ".opstree .right.label .shift {\n",
       "    transform: translateX(+24px);\n",
       "}\n",
       ".opstree .infobox text {\n",
       "    text-anchor: start;\n",
       "}\n",
       "\n",
       ".movetree .label .shift {\n",
       "    transform: translateX(-18px);\n",
       "}\n",
       "\n",
       ".movetree .label text {\n",
       "    text-anchor: end;\n",
       "}\n",
       ".movetree .v-connector {\n",
       "    stroke: black;\n",
       "}\n",
       ".movetree .v-hook {\n",
       "    stroke: black;\n",
       "}\n",
       ".movetree .ensembles .head .shift {\n",
       "    transform: translateY(0px) rotate(270deg) ;\n",
       "}\n",
       ".movetree .ensembles .head text {\n",
       "    text-anchor: start;\n",
       "}\n",
       ".movetree .connector.input {\n",
       "    fill: green;\n",
       "}\n",
       ".movetree .connector.output {\n",
       "    fill: red;\n",
       "}\n",
       ".movetree .unknown {\n",
       "    fill: gray;\n",
       "}\n",
       "]]></style></defs><g transform=\"scale(2.0)\"><g class=\"legend\"><g class=\"label\" transform=\"translate(-64,0)\"><g class=\"shift\"><text x=\"0\" y=\"0\">smp</text></g></g><g class=\"label\" transform=\"translate(-96,0)\"><g class=\"shift\"><text x=\"0\" y=\"0\">cyc</text></g></g><g class=\"label\" transform=\"translate(-32,0)\"><g class=\"shift\"><text x=\"0\" y=\"0\">cor</text></g></g><rect class=\"tableline\" height=\"18.0\" width=\"1070.0\" x=\"-112.0\" y=\"11.0\"/><g class=\"label\" transform=\"translate(-64,20)\"><g class=\"shift\"><text x=\"0\" y=\"0\">2</text></g></g><g class=\"label\" transform=\"translate(-96,20)\"><g class=\"shift\"><text x=\"0\" y=\"0\">---</text></g></g><rect class=\"tableline\" height=\"18.0\" width=\"1070.0\" x=\"-112.0\" y=\"31.0\"/><g class=\"label\" transform=\"translate(-64,40)\"><g class=\"shift\"><text x=\"0\" y=\"0\">31</text></g></g><g class=\"label\" transform=\"translate(-96,40)\"><g class=\"shift\"><text x=\"0\" y=\"0\">15</text></g></g><rect class=\"tableline\" height=\"18.0\" width=\"1070.0\" x=\"-112.0\" y=\"51.0\"/><g class=\"label\" transform=\"translate(-64,60)\"><g class=\"shift\"><text x=\"0\" y=\"0\">36</text></g></g><g class=\"label\" transform=\"translate(-96,60)\"><g class=\"shift\"><text x=\"0\" y=\"0\">19</text></g></g><rect class=\"tableline\" height=\"18.0\" width=\"1070.0\" x=\"-112.0\" y=\"71.0\"/><g class=\"label\" transform=\"translate(-64,80)\"><g class=\"shift\"><text x=\"0\" y=\"0\">55</text></g></g><g class=\"label\" transform=\"translate(-96,80)\"><g class=\"shift\"><text x=\"0\" y=\"0\">34</text></g></g><rect class=\"tableline\" height=\"18.0\" width=\"1070.0\" x=\"-112.0\" y=\"91.0\"/><g class=\"label\" transform=\"translate(-64,100)\"><g class=\"shift\"><text x=\"0\" y=\"0\">64</text></g></g><g class=\"label\" transform=\"translate(-96,100)\"><g class=\"shift\"><text x=\"0\" y=\"0\">43</text></g></g><rect class=\"tableline\" height=\"18.0\" width=\"1070.0\" x=\"-112.0\" y=\"111.0\"/><g class=\"label\" transform=\"translate(-64,120)\"><g class=\"shift\"><text x=\"0\" y=\"0\">68</text></g></g><g class=\"label\" transform=\"translate(-96,120)\"><g class=\"shift\"><text x=\"0\" y=\"0\">46</text></g></g><rect class=\"tableline\" height=\"18.0\" width=\"1070.0\" x=\"-112.0\" y=\"131.0\"/><g class=\"correlation v-region\"><line x1=\"-32\" x2=\"-32\" y1=\"10.0\" y2=\"130.0\"/><circle cx=\"-32\" cy=\"10.0\" r=\"0.0\"/><line x1=\"-32.0\" x2=\"-25.6\" y1=\"10.0\" y2=\"10.0\"/><circle cx=\"-32\" cy=\"130.0\" r=\"0.0\"/><line x1=\"-32.0\" x2=\"-25.6\" y1=\"130.0\" y2=\"130.0\"/><text x=\"-38.4\" y=\"70.0\"/></g><g class=\"label\" transform=\"translate(-64,140)\"><g class=\"shift\"><text x=\"0\" y=\"0\">73</text></g></g><g class=\"label\" transform=\"translate(-96,140)\"><g class=\"shift\"><text x=\"0\" y=\"0\">50</text></g></g><rect class=\"tableline\" height=\"18.0\" width=\"1070.0\" x=\"-112.0\" y=\"151.0\"/><g class=\"label\" transform=\"translate(-64,160)\"><g class=\"shift\"><text x=\"0\" y=\"0\">130</text></g></g><g class=\"label\" transform=\"translate(-96,160)\"><g class=\"shift\"><text x=\"0\" y=\"0\">90</text></g></g><rect class=\"tableline\" height=\"18.0\" width=\"1070.0\" x=\"-112.0\" y=\"171.0\"/><g class=\"label\" transform=\"translate(-64,180)\"><g class=\"shift\"><text x=\"0\" y=\"0\">174</text></g></g><g class=\"label\" transform=\"translate(-96,180)\"><g class=\"shift\"><text x=\"0\" y=\"0\">127</text></g></g><rect class=\"tableline\" height=\"18.0\" width=\"1070.0\" x=\"-112.0\" y=\"191.0\"/><g class=\"label\" transform=\"translate(-64,200)\"><g class=\"shift\"><text x=\"0\" y=\"0\">180</text></g></g><g class=\"label\" transform=\"translate(-96,200)\"><g class=\"shift\"><text x=\"0\" y=\"0\">133</text></g></g><rect class=\"tableline\" height=\"18.0\" width=\"1070.0\" x=\"-112.0\" y=\"211.0\"/><g class=\"correlation v-region\"><line x1=\"-32\" x2=\"-32\" y1=\"130.0\" y2=\"210.0\"/><circle cx=\"-32\" cy=\"130.0\" r=\"0.0\"/><line x1=\"-32.0\" x2=\"-25.6\" y1=\"130.0\" y2=\"130.0\"/><circle cx=\"-32\" cy=\"210.0\" r=\"0.0\"/><line x1=\"-32.0\" x2=\"-25.6\" y1=\"210.0\" y2=\"210.0\"/><text x=\"-38.4\" y=\"170.0\"/></g><g class=\"label\" transform=\"translate(-64,220)\"><g class=\"shift\"><text x=\"0\" y=\"0\">216</text></g></g><g class=\"label\" transform=\"translate(-96,220)\"><g class=\"shift\"><text x=\"0\" y=\"0\">162</text></g></g><rect class=\"tableline\" height=\"18.0\" width=\"1070.0\" x=\"-112.0\" y=\"231.0\"/><g class=\"label\" transform=\"translate(-64,240)\"><g class=\"shift\"><text x=\"0\" y=\"0\">223</text></g></g><g class=\"label\" transform=\"translate(-96,240)\"><g class=\"shift\"><text x=\"0\" y=\"0\">167</text></g></g><rect class=\"tableline\" height=\"18.0\" width=\"1070.0\" x=\"-112.0\" y=\"251.0\"/><g class=\"label\" transform=\"translate(-64,260)\"><g class=\"shift\"><text x=\"0\" y=\"0\">237</text></g></g><g class=\"label\" transform=\"translate(-96,260)\"><g class=\"shift\"><text x=\"0\" y=\"0\">176</text></g></g><rect class=\"tableline\" height=\"18.0\" width=\"1070.0\" x=\"-112.0\" y=\"271.0\"/><g class=\"label\" transform=\"translate(-64,280)\"><g class=\"shift\"><text x=\"0\" y=\"0\">246</text></g></g><g class=\"label\" transform=\"translate(-96,280)\"><g class=\"shift\"><text x=\"0\" y=\"0\">185</text></g></g><rect class=\"tableline\" height=\"18.0\" width=\"1070.0\" x=\"-112.0\" y=\"291.0\"/><g class=\"label\" transform=\"translate(-64,300)\"><g class=\"shift\"><text x=\"0\" y=\"0\">253</text></g></g><g class=\"label\" transform=\"translate(-96,300)\"><g class=\"shift\"><text x=\"0\" y=\"0\">191</text></g></g><rect class=\"tableline\" height=\"18.0\" width=\"1070.0\" x=\"-112.0\" y=\"311.0\"/><g class=\"label\" transform=\"translate(-64,320)\"><g class=\"shift\"><text x=\"0\" y=\"0\">255</text></g></g><g class=\"label\" transform=\"translate(-96,320)\"><g class=\"shift\"><text x=\"0\" y=\"0\">193</text></g></g><rect class=\"tableline\" height=\"18.0\" width=\"1070.0\" x=\"-112.0\" y=\"331.0\"/><g class=\"label\" transform=\"translate(-64,340)\"><g class=\"shift\"><text x=\"0\" y=\"0\">262</text></g></g><g class=\"label\" transform=\"translate(-96,340)\"><g class=\"shift\"><text x=\"0\" y=\"0\">199</text></g></g><rect class=\"tableline\" height=\"18.0\" width=\"1070.0\" x=\"-112.0\" y=\"351.0\"/><g class=\"label\" transform=\"translate(-64,360)\"><g class=\"shift\"><text x=\"0\" y=\"0\">275</text></g></g><g class=\"label\" transform=\"translate(-96,360)\"><g class=\"shift\"><text x=\"0\" y=\"0\">210</text></g></g><rect class=\"tableline\" height=\"18.0\" width=\"1070.0\" x=\"-112.0\" y=\"371.0\"/><g class=\"label\" transform=\"translate(-64,380)\"><g class=\"shift\"><text x=\"0\" y=\"0\">319</text></g></g><g class=\"label\" transform=\"translate(-96,380)\"><g class=\"shift\"><text x=\"0\" y=\"0\">248</text></g></g><rect class=\"tableline\" height=\"18.0\" width=\"1070.0\" x=\"-112.0\" y=\"391.0\"/><g class=\"label\" transform=\"translate(-64,400)\"><g class=\"shift\"><text x=\"0\" y=\"0\">344</text></g></g><g class=\"label\" transform=\"translate(-96,400)\"><g class=\"shift\"><text x=\"0\" y=\"0\">268</text></g></g><rect class=\"tableline\" height=\"18.0\" width=\"1070.0\" x=\"-112.0\" y=\"411.0\"/><g class=\"correlation v-region\"><line x1=\"-32\" x2=\"-32\" y1=\"210.0\" y2=\"410.0\"/><circle cx=\"-32\" cy=\"210.0\" r=\"0.0\"/><line x1=\"-32.0\" x2=\"-25.6\" y1=\"210.0\" y2=\"210.0\"/><circle cx=\"-32\" cy=\"410.0\" r=\"0.0\"/><line x1=\"-32.0\" x2=\"-25.6\" y1=\"410.0\" y2=\"410.0\"/><text x=\"-38.4\" y=\"310.0\"/></g><g class=\"label\" transform=\"translate(-64,420)\"><g class=\"shift\"><text x=\"0\" y=\"0\">355</text></g></g><g class=\"label\" transform=\"translate(-96,420)\"><g class=\"shift\"><text x=\"0\" y=\"0\">274</text></g></g><rect class=\"tableline\" height=\"18.0\" width=\"1070.0\" x=\"-112.0\" y=\"431.0\"/><g class=\"label\" transform=\"translate(-64,440)\"><g class=\"shift\"><text x=\"0\" y=\"0\">361</text></g></g><g class=\"label\" transform=\"translate(-96,440)\"><g class=\"shift\"><text x=\"0\" y=\"0\">279</text></g></g><rect class=\"tableline\" height=\"18.0\" width=\"1070.0\" x=\"-112.0\" y=\"451.0\"/><g class=\"label\" transform=\"translate(-64,460)\"><g class=\"shift\"><text x=\"0\" y=\"0\">376</text></g></g><g class=\"label\" transform=\"translate(-96,460)\"><g class=\"shift\"><text x=\"0\" y=\"0\">290</text></g></g><rect class=\"tableline\" height=\"18.0\" width=\"1070.0\" x=\"-112.0\" y=\"471.0\"/><g class=\"label\" transform=\"translate(-64,480)\"><g class=\"shift\"><text x=\"0\" y=\"0\">377</text></g></g><g class=\"label\" transform=\"translate(-96,480)\"><g class=\"shift\"><text x=\"0\" y=\"0\">291</text></g></g><rect class=\"tableline\" height=\"18.0\" width=\"1070.0\" x=\"-112.0\" y=\"491.0\"/><g class=\"label\" transform=\"translate(-64,500)\"><g class=\"shift\"><text x=\"0\" y=\"0\">467</text></g></g><g class=\"label\" transform=\"translate(-96,500)\"><g class=\"shift\"><text x=\"0\" y=\"0\">359</text></g></g><rect class=\"tableline\" height=\"18.0\" width=\"1070.0\" x=\"-112.0\" y=\"511.0\"/><g class=\"label\" transform=\"translate(-64,520)\"><g class=\"shift\"><text x=\"0\" y=\"0\">530</text></g></g><g class=\"label\" transform=\"translate(-96,520)\"><g class=\"shift\"><text x=\"0\" y=\"0\">398</text></g></g><rect class=\"tableline\" height=\"18.0\" width=\"1070.0\" x=\"-112.0\" y=\"531.0\"/><g class=\"label\" transform=\"translate(-64,540)\"><g class=\"shift\"><text x=\"0\" y=\"0\">544</text></g></g><g class=\"label\" transform=\"translate(-96,540)\"><g class=\"shift\"><text x=\"0\" y=\"0\">409</text></g></g><rect class=\"tableline\" height=\"18.0\" width=\"1070.0\" x=\"-112.0\" y=\"551.0\"/><g class=\"label\" transform=\"translate(-64,560)\"><g class=\"shift\"><text x=\"0\" y=\"0\">550</text></g></g><g class=\"label\" transform=\"translate(-96,560)\"><g class=\"shift\"><text x=\"0\" y=\"0\">412</text></g></g><rect class=\"tableline\" height=\"18.0\" width=\"1070.0\" x=\"-112.0\" y=\"571.0\"/><g class=\"label\" transform=\"translate(-64,580)\"><g class=\"shift\"><text x=\"0\" y=\"0\">570</text></g></g><g class=\"label\" transform=\"translate(-96,580)\"><g class=\"shift\"><text x=\"0\" y=\"0\">425</text></g></g><rect class=\"tableline\" height=\"18.0\" width=\"1070.0\" x=\"-112.0\" y=\"591.0\"/><g class=\"label\" transform=\"translate(-64,600)\"><g class=\"shift\"><text x=\"0\" y=\"0\">572</text></g></g><g class=\"label\" transform=\"translate(-96,600)\"><g class=\"shift\"><text x=\"0\" y=\"0\">427</text></g></g><rect class=\"tableline\" height=\"18.0\" width=\"1070.0\" x=\"-112.0\" y=\"611.0\"/><g class=\"label\" transform=\"translate(-64,620)\"><g class=\"shift\"><text x=\"0\" y=\"0\">573</text></g></g><g class=\"label\" transform=\"translate(-96,620)\"><g class=\"shift\"><text x=\"0\" y=\"0\">428</text></g></g><rect class=\"tableline\" height=\"18.0\" width=\"1070.0\" x=\"-112.0\" y=\"631.0\"/><g class=\"label\" transform=\"translate(-64,640)\"><g class=\"shift\"><text x=\"0\" y=\"0\">595</text></g></g><g class=\"label\" transform=\"translate(-96,640)\"><g class=\"shift\"><text x=\"0\" y=\"0\">447</text></g></g><rect class=\"tableline\" height=\"18.0\" width=\"1070.0\" x=\"-112.0\" y=\"651.0\"/><g class=\"label\" transform=\"translate(-64,660)\"><g class=\"shift\"><text x=\"0\" y=\"0\">603</text></g></g><g class=\"label\" transform=\"translate(-96,660)\"><g class=\"shift\"><text x=\"0\" y=\"0\">451</text></g></g><rect class=\"tableline\" height=\"18.0\" width=\"1070.0\" x=\"-112.0\" y=\"671.0\"/><g class=\"label\" transform=\"translate(-64,680)\"><g class=\"shift\"><text x=\"0\" y=\"0\">606</text></g></g><g class=\"label\" transform=\"translate(-96,680)\"><g class=\"shift\"><text x=\"0\" y=\"0\">454</text></g></g><rect class=\"tableline\" height=\"18.0\" width=\"1070.0\" x=\"-112.0\" y=\"691.0\"/><g class=\"label\" transform=\"translate(-64,700)\"><g class=\"shift\"><text x=\"0\" y=\"0\">609</text></g></g><g class=\"label\" transform=\"translate(-96,700)\"><g class=\"shift\"><text x=\"0\" y=\"0\">455</text></g></g><rect class=\"tableline\" height=\"18.0\" width=\"1070.0\" x=\"-112.0\" y=\"711.0\"/><g class=\"label\" transform=\"translate(-64,720)\"><g class=\"shift\"><text x=\"0\" y=\"0\">610</text></g></g><g class=\"label\" transform=\"translate(-96,720)\"><g class=\"shift\"><text x=\"0\" y=\"0\">455</text></g></g><rect class=\"tableline\" height=\"18.0\" width=\"1070.0\" x=\"-112.0\" y=\"731.0\"/><g class=\"label\" transform=\"translate(-64,740)\"><g class=\"shift\"><text x=\"0\" y=\"0\">660</text></g></g><g class=\"label\" transform=\"translate(-96,740)\"><g class=\"shift\"><text x=\"0\" y=\"0\">493</text></g></g><rect class=\"tableline\" height=\"18.0\" width=\"1070.0\" x=\"-112.0\" y=\"751.0\"/><g class=\"label\" transform=\"translate(-64,760)\"><g class=\"shift\"><text x=\"0\" y=\"0\">661</text></g></g><g class=\"label\" transform=\"translate(-96,760)\"><g class=\"shift\"><text x=\"0\" y=\"0\">493</text></g></g><g class=\"correlation v-region\"><line x1=\"-32\" x2=\"-32\" y1=\"410.0\" y2=\"770.0\"/><circle cx=\"-32\" cy=\"410.0\" r=\"0.0\"/><line x1=\"-32.0\" x2=\"-25.6\" y1=\"410.0\" y2=\"410.0\"/><text x=\"-38.4\" y=\"590.0\"/></g></g><g class=\"tree\" transform=\"translate(59,20)\"><g class=\"unknown left label\" transform=\"translate(0,0)\"><g class=\"shift\"><text x=\"0\" y=\"0\">2+</text></g></g><g class=\"unknown overlap whiteback h-region\"><line x1=\"-1.5\" x2=\"94.5\" y1=\"0\" y2=\"0\"/><circle cx=\"-1.5\" cy=\"0\" r=\"0.0\"/><line x1=\"-1.5\" x2=\"-1.5\" y1=\"-6.0\" y2=\"6.0\"/><circle cx=\"94.5\" cy=\"0\" r=\"0.0\"/><line x1=\"94.5\" x2=\"94.5\" y1=\"-6.0\" y2=\"6.0\"/><text class=\"shadow\" x=\"46.5\" y=\"0\">New</text><text x=\"46.5\" y=\"0\">New</text></g><g class=\"unknown bw block\"><rect height=\"12.0\" width=\"0.0\" x=\"-1.5\" y=\"-6.0\"/><circle cx=\"-1.5\" cy=\"0\" r=\"0.0\"/><text x=\"-1.5\" y=\"0\"/></g><g class=\"unknown fw block\"><rect height=\"12.0\" width=\"0.0\" x=\"94.5\" y=\"-6.0\"/><circle cx=\"94.5\" cy=\"0\" r=\"0.0\"/><text x=\"94.5\" y=\"0\"/></g><g class=\"shooting left label\" transform=\"translate(0,20)\"><g class=\"shift\"><text x=\"0\" y=\"0\">22b</text></g></g><line class=\"shooting bw connection v-connector\" x1=\"1.5\" x2=\"1.5\" y1=\"0.0\" y2=\"20.0\"/><g class=\"shooting bw block\"><rect height=\"12.0\" width=\"3.0\" x=\"-1.5\" y=\"14.0\"/><circle cx=\"1.5\" cy=\"20\" r=\"0.0\"/><text x=\"0.0\" y=\"20\"/></g><g class=\"shooting fw block\"><rect height=\"12.0\" width=\"0.0\" x=\"94.5\" y=\"14.0\"/><circle cx=\"94.5\" cy=\"20\" r=\"0.0\"/><text x=\"94.5\" y=\"20\"/></g><g class=\"reversal left label\" transform=\"translate(0,40)\"><g class=\"shift\"><text x=\"0\" y=\"0\">25r</text></g></g><g class=\"reversal overlap whiteback h-region\"><line x1=\"-1.5\" x2=\"94.5\" y1=\"40\" y2=\"40\"/><circle cx=\"-1.5\" cy=\"40\" r=\"0.0\"/><line x1=\"-1.5\" x2=\"-1.5\" y1=\"34.0\" y2=\"46.0\"/><circle cx=\"94.5\" cy=\"40\" r=\"0.0\"/><line x1=\"94.5\" x2=\"94.5\" y1=\"34.0\" y2=\"46.0\"/><text class=\"shadow\" x=\"46.5\" y=\"40\">Reversal</text><text x=\"46.5\" y=\"40\">Reversal</text></g><g class=\"shooting left label\" transform=\"translate(0,60)\"><g class=\"shift\"><text x=\"0\" y=\"0\">36b</text></g></g><line class=\"shooting bw connection v-connector\" x1=\"37.5\" x2=\"37.5\" y1=\"0.0\" y2=\"60.0\"/><g class=\"shooting fw block\"><rect height=\"12.0\" width=\"0.0\" x=\"-1.5\" y=\"54.0\"/><circle cx=\"-1.5\" cy=\"60\" r=\"0.0\"/><text x=\"-1.5\" y=\"60\"/></g><g class=\"shooting bw block\"><rect height=\"12.0\" width=\"99.0\" x=\"37.5\" y=\"54.0\"/><circle cx=\"37.5\" cy=\"60\" r=\"0.0\"/><text x=\"87.0\" y=\"60\"/></g><g class=\"shooting left label\" transform=\"translate(0,80)\"><g class=\"shift\"><text x=\"0\" y=\"0\">45b</text></g></g><line class=\"shooting bw connection v-connector\" x1=\"100.5\" x2=\"100.5\" y1=\"60.0\" y2=\"80.0\"/><g class=\"shooting fw block\"><rect height=\"12.0\" width=\"0.0\" x=\"-1.5\" y=\"74.0\"/><circle cx=\"-1.5\" cy=\"80\" r=\"0.0\"/><text x=\"-1.5\" y=\"80\"/></g><g class=\"shooting bw block\"><rect height=\"12.0\" width=\"63.0\" x=\"100.5\" y=\"74.0\"/><circle cx=\"100.5\" cy=\"80\" r=\"0.0\"/><text x=\"132.0\" y=\"80\"/></g><g class=\"repex left label\" transform=\"translate(0,100)\"><g class=\"shift\"><text x=\"0\" y=\"0\">45x</text></g></g><g class=\"repex overlap whiteback h-region\"><line x1=\"-1.5\" x2=\"163.5\" y1=\"100\" y2=\"100\"/><circle cx=\"-1.5\" cy=\"100\" r=\"0.0\"/><line x1=\"-1.5\" x2=\"-1.5\" y1=\"94.0\" y2=\"106.0\"/><circle cx=\"163.5\" cy=\"100\" r=\"0.0\"/><line x1=\"163.5\" x2=\"163.5\" y1=\"94.0\" y2=\"106.0\"/><text class=\"shadow\" x=\"81.0\" y=\"100\">RepEx</text><text x=\"81.0\" y=\"100\">RepEx</text></g><g class=\"repex fw block\"><rect height=\"12.0\" width=\"0.0\" x=\"-1.5\" y=\"94.0\"/><circle cx=\"-1.5\" cy=\"100\" r=\"0.0\"/><text x=\"-1.5\" y=\"100\"/></g><g class=\"repex bw block\"><rect height=\"12.0\" width=\"0.0\" x=\"163.5\" y=\"94.0\"/><circle cx=\"163.5\" cy=\"100\" r=\"0.0\"/><text x=\"163.5\" y=\"100\"/></g><g class=\"shooting right label\" transform=\"translate(162,120)\"><g class=\"shift\"><text x=\"0\" y=\"0\">50f</text></g></g><line class=\"shooting fw connection v-connector\" x1=\"46.5\" x2=\"46.5\" y1=\"60.0\" y2=\"120.0\"/><g class=\"shooting fw block\"><rect height=\"12.0\" width=\"72.0\" x=\"-25.5\" y=\"114.0\"/><circle cx=\"46.5\" cy=\"120\" r=\"0.0\"/><text x=\"10.5\" y=\"120\"/></g><g class=\"shooting bw block\"><rect height=\"12.0\" width=\"0.0\" x=\"163.5\" y=\"114.0\"/><circle cx=\"163.5\" cy=\"120\" r=\"0.0\"/><text x=\"163.5\" y=\"120\"/></g><g class=\"repex left label\" transform=\"translate(-24,140)\"><g class=\"shift\"><text x=\"0\" y=\"0\">50x</text></g></g><g class=\"repex overlap whiteback h-region\"><line x1=\"-25.5\" x2=\"163.5\" y1=\"140\" y2=\"140\"/><circle cx=\"-25.5\" cy=\"140\" r=\"0.0\"/><line x1=\"-25.5\" x2=\"-25.5\" y1=\"134.0\" y2=\"146.0\"/><circle cx=\"163.5\" cy=\"140\" r=\"0.0\"/><line x1=\"163.5\" x2=\"163.5\" y1=\"134.0\" y2=\"146.0\"/><text class=\"shadow\" x=\"69.0\" y=\"140\">RepEx</text><text x=\"69.0\" y=\"140\">RepEx</text></g><g class=\"repex fw block\"><rect height=\"12.0\" width=\"0.0\" x=\"-25.5\" y=\"134.0\"/><circle cx=\"-25.5\" cy=\"140\" r=\"0.0\"/><text x=\"-25.5\" y=\"140\"/></g><g class=\"repex bw block\"><rect height=\"12.0\" width=\"0.0\" x=\"163.5\" y=\"134.0\"/><circle cx=\"163.5\" cy=\"140\" r=\"0.0\"/><text x=\"163.5\" y=\"140\"/></g><g class=\"shooting left label\" transform=\"translate(-24,160)\"><g class=\"shift\"><text x=\"0\" y=\"0\">115b</text></g></g><line class=\"shooting bw connection v-connector\" x1=\"157.5\" x2=\"157.5\" y1=\"80.0\" y2=\"160.0\"/><g class=\"shooting fw block\"><rect height=\"12.0\" width=\"0.0\" x=\"-25.5\" y=\"154.0\"/><circle cx=\"-25.5\" cy=\"160\" r=\"0.0\"/><text x=\"-25.5\" y=\"160\"/></g><g class=\"shooting bw block\"><rect height=\"12.0\" width=\"6.0\" x=\"157.5\" y=\"154.0\"/><circle cx=\"157.5\" cy=\"160\" r=\"0.0\"/><text x=\"160.5\" y=\"160\"/></g><g class=\"shooting right label\" transform=\"translate(162,180)\"><g class=\"shift\"><text x=\"0\" y=\"0\">121f</text></g></g><line class=\"shooting fw connection v-connector\" x1=\"112.5\" x2=\"112.5\" y1=\"80.0\" y2=\"180.0\"/><g class=\"shooting fw block\"><rect height=\"12.0\" width=\"57.0\" x=\"55.5\" y=\"174.0\"/><circle cx=\"112.5\" cy=\"180\" r=\"0.0\"/><text x=\"84.0\" y=\"180\"/></g><g class=\"shooting bw block\"><rect height=\"12.0\" width=\"0.0\" x=\"163.5\" y=\"174.0\"/><circle cx=\"163.5\" cy=\"180\" r=\"0.0\"/><text x=\"163.5\" y=\"180\"/></g><g class=\"shooting left label\" transform=\"translate(57,200)\"><g class=\"shift\"><text x=\"0\" y=\"0\">147b</text></g></g><line class=\"shooting bw connection v-connector\" x1=\"67.5\" x2=\"67.5\" y1=\"180.0\" y2=\"200.0\"/><g class=\"shooting fw block\"><rect height=\"12.0\" width=\"0.0\" x=\"55.5\" y=\"194.0\"/><circle cx=\"55.5\" cy=\"200\" r=\"0.0\"/><text x=\"55.5\" y=\"200\"/></g><g class=\"shooting bw block\"><rect height=\"12.0\" width=\"84.0\" x=\"67.5\" y=\"194.0\"/><circle cx=\"67.5\" cy=\"200\" r=\"0.0\"/><text x=\"109.5\" y=\"200\"/></g><g class=\"repex left label\" transform=\"translate(57,220)\"><g class=\"shift\"><text x=\"0\" y=\"0\">147x</text></g></g><g class=\"repex overlap whiteback h-region\"><line x1=\"55.5\" x2=\"151.5\" y1=\"220\" y2=\"220\"/><circle cx=\"55.5\" cy=\"220\" r=\"0.0\"/><line x1=\"55.5\" x2=\"55.5\" y1=\"214.0\" y2=\"226.0\"/><circle cx=\"151.5\" cy=\"220\" r=\"0.0\"/><line x1=\"151.5\" x2=\"151.5\" y1=\"214.0\" y2=\"226.0\"/><text class=\"shadow\" x=\"103.5\" y=\"220\">RepEx</text><text x=\"103.5\" y=\"220\">RepEx</text></g><g class=\"repex fw block\"><rect height=\"12.0\" width=\"0.0\" x=\"55.5\" y=\"214.0\"/><circle cx=\"55.5\" cy=\"220\" r=\"0.0\"/><text x=\"55.5\" y=\"220\"/></g><g class=\"repex bw block\"><rect height=\"12.0\" width=\"0.0\" x=\"151.5\" y=\"214.0\"/><circle cx=\"151.5\" cy=\"220\" r=\"0.0\"/><text x=\"151.5\" y=\"220\"/></g><g class=\"reversal left label\" transform=\"translate(57,240)\"><g class=\"shift\"><text x=\"0\" y=\"0\">158r</text></g></g><g class=\"reversal overlap whiteback h-region\"><line x1=\"55.5\" x2=\"151.5\" y1=\"240\" y2=\"240\"/><circle cx=\"55.5\" cy=\"240\" r=\"0.0\"/><line x1=\"55.5\" x2=\"55.5\" y1=\"234.0\" y2=\"246.0\"/><circle cx=\"151.5\" cy=\"240\" r=\"0.0\"/><line x1=\"151.5\" x2=\"151.5\" y1=\"234.0\" y2=\"246.0\"/><text class=\"shadow\" x=\"103.5\" y=\"240\">Reversal</text><text x=\"103.5\" y=\"240\">Reversal</text></g><g class=\"reversal left label\" transform=\"translate(57,260)\"><g class=\"shift\"><text x=\"0\" y=\"0\">167r</text></g></g><g class=\"reversal overlap whiteback h-region\"><line x1=\"55.5\" x2=\"151.5\" y1=\"260\" y2=\"260\"/><circle cx=\"55.5\" cy=\"260\" r=\"0.0\"/><line x1=\"55.5\" x2=\"55.5\" y1=\"254.0\" y2=\"266.0\"/><circle cx=\"151.5\" cy=\"260\" r=\"0.0\"/><line x1=\"151.5\" x2=\"151.5\" y1=\"254.0\" y2=\"266.0\"/><text class=\"shadow\" x=\"103.5\" y=\"260\">Reversal</text><text x=\"103.5\" y=\"260\">Reversal</text></g><g class=\"reversal left label\" transform=\"translate(57,280)\"><g class=\"shift\"><text x=\"0\" y=\"0\">172r</text></g></g><g class=\"reversal overlap whiteback h-region\"><line x1=\"55.5\" x2=\"151.5\" y1=\"280\" y2=\"280\"/><circle cx=\"55.5\" cy=\"280\" r=\"0.0\"/><line x1=\"55.5\" x2=\"55.5\" y1=\"274.0\" y2=\"286.0\"/><circle cx=\"151.5\" cy=\"280\" r=\"0.0\"/><line x1=\"151.5\" x2=\"151.5\" y1=\"274.0\" y2=\"286.0\"/><text class=\"shadow\" x=\"103.5\" y=\"280\">Reversal</text><text x=\"103.5\" y=\"280\">Reversal</text></g><g class=\"shooting right label\" transform=\"translate(150,300)\"><g class=\"shift\"><text x=\"0\" y=\"0\">174f</text></g></g><line class=\"shooting fw connection v-connector\" x1=\"142.5\" x2=\"142.5\" y1=\"200.0\" y2=\"300.0\"/><g class=\"shooting bw block\"><rect height=\"12.0\" width=\"0.0\" x=\"55.5\" y=\"294.0\"/><circle cx=\"55.5\" cy=\"300\" r=\"0.0\"/><text x=\"55.5\" y=\"300\"/></g><g class=\"shooting fw block\"><rect height=\"12.0\" width=\"9.0\" x=\"142.5\" y=\"294.0\"/><circle cx=\"142.5\" cy=\"300\" r=\"0.0\"/><text x=\"147.0\" y=\"300\"/></g><g class=\"shooting right label\" transform=\"translate(144,320)\"><g class=\"shift\"><text x=\"0\" y=\"0\">179f</text></g></g><line class=\"shooting fw connection v-connector\" x1=\"73.5\" x2=\"73.5\" y1=\"200.0\" y2=\"320.0\"/><g class=\"shooting bw block\"><rect height=\"12.0\" width=\"0.0\" x=\"55.5\" y=\"314.0\"/><circle cx=\"55.5\" cy=\"320\" r=\"0.0\"/><text x=\"55.5\" y=\"320\"/></g><g class=\"shooting fw block\"><rect height=\"12.0\" width=\"72.0\" x=\"73.5\" y=\"314.0\"/><circle cx=\"73.5\" cy=\"320\" r=\"0.0\"/><text x=\"109.5\" y=\"320\"/></g><g class=\"reversal left label\" transform=\"translate(57,340)\"><g class=\"shift\"><text x=\"0\" y=\"0\">188r</text></g></g><g class=\"reversal overlap whiteback h-region\"><line x1=\"55.5\" x2=\"145.5\" y1=\"340\" y2=\"340\"/><circle cx=\"55.5\" cy=\"340\" r=\"0.0\"/><line x1=\"55.5\" x2=\"55.5\" y1=\"334.0\" y2=\"346.0\"/><circle cx=\"145.5\" cy=\"340\" r=\"0.0\"/><line x1=\"145.5\" x2=\"145.5\" y1=\"334.0\" y2=\"346.0\"/><text class=\"shadow\" x=\"100.5\" y=\"340\">Reversal</text><text x=\"100.5\" y=\"340\">Reversal</text></g><g class=\"reversal left label\" transform=\"translate(57,360)\"><g class=\"shift\"><text x=\"0\" y=\"0\">220r</text></g></g><g class=\"reversal overlap whiteback h-region\"><line x1=\"55.5\" x2=\"145.5\" y1=\"360\" y2=\"360\"/><circle cx=\"55.5\" cy=\"360\" r=\"0.0\"/><line x1=\"55.5\" x2=\"55.5\" y1=\"354.0\" y2=\"366.0\"/><circle cx=\"145.5\" cy=\"360\" r=\"0.0\"/><line x1=\"145.5\" x2=\"145.5\" y1=\"354.0\" y2=\"366.0\"/><text class=\"shadow\" x=\"100.5\" y=\"360\">Reversal</text><text x=\"100.5\" y=\"360\">Reversal</text></g><g class=\"reversal left label\" transform=\"translate(57,380)\"><g class=\"shift\"><text x=\"0\" y=\"0\">239r</text></g></g><g class=\"reversal overlap whiteback h-region\"><line x1=\"55.5\" x2=\"145.5\" y1=\"380\" y2=\"380\"/><circle cx=\"55.5\" cy=\"380\" r=\"0.0\"/><line x1=\"55.5\" x2=\"55.5\" y1=\"374.0\" y2=\"386.0\"/><circle cx=\"145.5\" cy=\"380\" r=\"0.0\"/><line x1=\"145.5\" x2=\"145.5\" y1=\"374.0\" y2=\"386.0\"/><text class=\"shadow\" x=\"100.5\" y=\"380\">Reversal</text><text x=\"100.5\" y=\"380\">Reversal</text></g><g class=\"shooting right label\" transform=\"translate(144,400)\"><g class=\"shift\"><text x=\"0\" y=\"0\">244f</text></g></g><line class=\"shooting fw connection v-connector\" x1=\"91.5\" x2=\"91.5\" y1=\"320.0\" y2=\"400.0\"/><g class=\"shooting fw block\"><rect height=\"12.0\" width=\"39.0\" x=\"52.5\" y=\"394.0\"/><circle cx=\"91.5\" cy=\"400\" r=\"0.0\"/><text x=\"72.0\" y=\"400\"/></g><g class=\"shooting bw block\"><rect height=\"12.0\" width=\"0.0\" x=\"145.5\" y=\"394.0\"/><circle cx=\"145.5\" cy=\"400\" r=\"0.0\"/><text x=\"145.5\" y=\"400\"/></g><g class=\"shooting left label\" transform=\"translate(54,420)\"><g class=\"shift\"><text x=\"0\" y=\"0\">248b</text></g></g><line class=\"shooting bw connection v-connector\" x1=\"118.5\" x2=\"118.5\" y1=\"320.0\" y2=\"420.0\"/><g class=\"shooting fw block\"><rect height=\"12.0\" width=\"0.0\" x=\"52.5\" y=\"414.0\"/><circle cx=\"52.5\" cy=\"420\" r=\"0.0\"/><text x=\"52.5\" y=\"420\"/></g><g class=\"shooting bw block\"><rect height=\"12.0\" width=\"30.0\" x=\"118.5\" y=\"414.0\"/><circle cx=\"118.5\" cy=\"420\" r=\"0.0\"/><text x=\"133.5\" y=\"420\"/></g><g class=\"reversal left label\" transform=\"translate(54,440)\"><g class=\"shift\"><text x=\"0\" y=\"0\">259r</text></g></g><g class=\"reversal overlap whiteback h-region\"><line x1=\"52.5\" x2=\"148.5\" y1=\"440\" y2=\"440\"/><circle cx=\"52.5\" cy=\"440\" r=\"0.0\"/><line x1=\"52.5\" x2=\"52.5\" y1=\"434.0\" y2=\"446.0\"/><circle cx=\"148.5\" cy=\"440\" r=\"0.0\"/><line x1=\"148.5\" x2=\"148.5\" y1=\"434.0\" y2=\"446.0\"/><text class=\"shadow\" x=\"100.5\" y=\"440\">Reversal</text><text x=\"100.5\" y=\"440\">Reversal</text></g><g class=\"reversal left label\" transform=\"translate(54,460)\"><g class=\"shift\"><text x=\"0\" y=\"0\">260r</text></g></g><g class=\"reversal overlap whiteback h-region\"><line x1=\"52.5\" x2=\"148.5\" y1=\"460\" y2=\"460\"/><circle cx=\"52.5\" cy=\"460\" r=\"0.0\"/><line x1=\"52.5\" x2=\"52.5\" y1=\"454.0\" y2=\"466.0\"/><circle cx=\"148.5\" cy=\"460\" r=\"0.0\"/><line x1=\"148.5\" x2=\"148.5\" y1=\"454.0\" y2=\"466.0\"/><text class=\"shadow\" x=\"100.5\" y=\"460\">Reversal</text><text x=\"100.5\" y=\"460\">Reversal</text></g><g class=\"shooting left label\" transform=\"translate(54,480)\"><g class=\"shift\"><text x=\"0\" y=\"0\">306b</text></g></g><line class=\"shooting bw connection v-connector\" x1=\"139.5\" x2=\"139.5\" y1=\"420.0\" y2=\"480.0\"/><g class=\"shooting fw block\"><rect height=\"12.0\" width=\"0.0\" x=\"52.5\" y=\"474.0\"/><circle cx=\"52.5\" cy=\"480\" r=\"0.0\"/><text x=\"52.5\" y=\"480\"/></g><g class=\"shooting bw block\"><rect height=\"12.0\" width=\"9.0\" x=\"139.5\" y=\"474.0\"/><circle cx=\"139.5\" cy=\"480\" r=\"0.0\"/><text x=\"144.0\" y=\"480\"/></g><g class=\"repex left label\" transform=\"translate(54,500)\"><g class=\"shift\"><text x=\"0\" y=\"0\">306x</text></g></g><g class=\"repex overlap whiteback h-region\"><line x1=\"52.5\" x2=\"148.5\" y1=\"500\" y2=\"500\"/><circle cx=\"52.5\" cy=\"500\" r=\"0.0\"/><line x1=\"52.5\" x2=\"52.5\" y1=\"494.0\" y2=\"506.0\"/><circle cx=\"148.5\" cy=\"500\" r=\"0.0\"/><line x1=\"148.5\" x2=\"148.5\" y1=\"494.0\" y2=\"506.0\"/><text class=\"shadow\" x=\"100.5\" y=\"500\">RepEx</text><text x=\"100.5\" y=\"500\">RepEx</text></g><g class=\"repex fw block\"><rect height=\"12.0\" width=\"0.0\" x=\"52.5\" y=\"494.0\"/><circle cx=\"52.5\" cy=\"500\" r=\"0.0\"/><text x=\"52.5\" y=\"500\"/></g><g class=\"repex bw block\"><rect height=\"12.0\" width=\"0.0\" x=\"148.5\" y=\"494.0\"/><circle cx=\"148.5\" cy=\"500\" r=\"0.0\"/><text x=\"148.5\" y=\"500\"/></g><g class=\"shooting right label\" transform=\"translate(147,520)\"><g class=\"shift\"><text x=\"0\" y=\"0\">341f</text></g></g><line class=\"shooting fw connection v-connector\" x1=\"76.5\" x2=\"76.5\" y1=\"400.0\" y2=\"520.0\"/><g class=\"shooting fw block\"><rect height=\"12.0\" width=\"24.0\" x=\"52.5\" y=\"514.0\"/><circle cx=\"76.5\" cy=\"520\" r=\"0.0\"/><text x=\"64.5\" y=\"520\"/></g><g class=\"shooting bw block\"><rect height=\"12.0\" width=\"0.0\" x=\"148.5\" y=\"514.0\"/><circle cx=\"148.5\" cy=\"520\" r=\"0.0\"/><text x=\"148.5\" y=\"520\"/></g><g class=\"shooting left label\" transform=\"translate(54,540)\"><g class=\"shift\"><text x=\"0\" y=\"0\">345b</text></g></g><line class=\"shooting bw connection v-connector\" x1=\"133.5\" x2=\"133.5\" y1=\"420.0\" y2=\"540.0\"/><g class=\"shooting fw block\"><rect height=\"12.0\" width=\"0.0\" x=\"52.5\" y=\"534.0\"/><circle cx=\"52.5\" cy=\"540\" r=\"0.0\"/><text x=\"52.5\" y=\"540\"/></g><g class=\"shooting bw block\"><rect height=\"12.0\" width=\"33.0\" x=\"133.5\" y=\"534.0\"/><circle cx=\"133.5\" cy=\"540\" r=\"0.0\"/><text x=\"150.0\" y=\"540\"/></g><g class=\"shooting right label\" transform=\"translate(165,560)\"><g class=\"shift\"><text x=\"0\" y=\"0\">355f</text></g></g><line class=\"shooting fw connection v-connector\" x1=\"88.5\" x2=\"88.5\" y1=\"400.0\" y2=\"560.0\"/><g class=\"shooting fw block\"><rect height=\"12.0\" width=\"54.0\" x=\"34.5\" y=\"554.0\"/><circle cx=\"88.5\" cy=\"560\" r=\"0.0\"/><text x=\"61.5\" y=\"560\"/></g><g class=\"shooting bw block\"><rect height=\"12.0\" width=\"0.0\" x=\"166.5\" y=\"554.0\"/><circle cx=\"166.5\" cy=\"560\" r=\"0.0\"/><text x=\"166.5\" y=\"560\"/></g><g class=\"shooting left label\" transform=\"translate(36,580)\"><g class=\"shift\"><text x=\"0\" y=\"0\">357b</text></g></g><line class=\"shooting bw connection v-connector\" x1=\"136.5\" x2=\"136.5\" y1=\"540.0\" y2=\"580.0\"/><g class=\"shooting fw block\"><rect height=\"12.0\" width=\"0.0\" x=\"34.5\" y=\"574.0\"/><circle cx=\"34.5\" cy=\"580\" r=\"0.0\"/><text x=\"34.5\" y=\"580\"/></g><g class=\"shooting bw block\"><rect height=\"12.0\" width=\"12.0\" x=\"136.5\" y=\"574.0\"/><circle cx=\"136.5\" cy=\"580\" r=\"0.0\"/><text x=\"142.5\" y=\"580\"/></g><g class=\"reversal left label\" transform=\"translate(36,600)\"><g class=\"shift\"><text x=\"0\" y=\"0\">358r</text></g></g><g class=\"reversal overlap whiteback h-region\"><line x1=\"34.5\" x2=\"148.5\" y1=\"600\" y2=\"600\"/><circle cx=\"34.5\" cy=\"600\" r=\"0.0\"/><line x1=\"34.5\" x2=\"34.5\" y1=\"594.0\" y2=\"606.0\"/><circle cx=\"148.5\" cy=\"600\" r=\"0.0\"/><line x1=\"148.5\" x2=\"148.5\" y1=\"594.0\" y2=\"606.0\"/><text class=\"shadow\" x=\"91.5\" y=\"600\">Reversal</text><text x=\"91.5\" y=\"600\">Reversal</text></g><g class=\"shooting right label\" transform=\"translate(147,620)\"><g class=\"shift\"><text x=\"0\" y=\"0\">374f</text></g></g><line class=\"shooting fw connection v-connector\" x1=\"133.5\" x2=\"133.5\" y1=\"420.0\" y2=\"620.0\"/><g class=\"shooting bw block\"><rect height=\"12.0\" width=\"0.0\" x=\"34.5\" y=\"614.0\"/><circle cx=\"34.5\" cy=\"620\" r=\"0.0\"/><text x=\"34.5\" y=\"620\"/></g><g class=\"shooting fw block\"><rect height=\"12.0\" width=\"15.0\" x=\"133.5\" y=\"614.0\"/><circle cx=\"133.5\" cy=\"620\" r=\"0.0\"/><text x=\"141.0\" y=\"620\"/></g><g class=\"shooting right label\" transform=\"translate(144,640)\"><g class=\"shift\"><text x=\"0\" y=\"0\">378f</text></g></g><line class=\"shooting fw connection v-connector\" x1=\"124.5\" x2=\"124.5\" y1=\"420.0\" y2=\"640.0\"/><g class=\"shooting bw block\"><rect height=\"12.0\" width=\"0.0\" x=\"34.5\" y=\"634.0\"/><circle cx=\"34.5\" cy=\"640\" r=\"0.0\"/><text x=\"34.5\" y=\"640\"/></g><g class=\"shooting fw block\"><rect height=\"12.0\" width=\"21.0\" x=\"124.5\" y=\"634.0\"/><circle cx=\"124.5\" cy=\"640\" r=\"0.0\"/><text x=\"135.0\" y=\"640\"/></g><g class=\"reversal left label\" transform=\"translate(36,660)\"><g class=\"shift\"><text x=\"0\" y=\"0\">381r</text></g></g><g class=\"reversal overlap whiteback h-region\"><line x1=\"34.5\" x2=\"145.5\" y1=\"660\" y2=\"660\"/><circle cx=\"34.5\" cy=\"660\" r=\"0.0\"/><line x1=\"34.5\" x2=\"34.5\" y1=\"654.0\" y2=\"666.0\"/><circle cx=\"145.5\" cy=\"660\" r=\"0.0\"/><line x1=\"145.5\" x2=\"145.5\" y1=\"654.0\" y2=\"666.0\"/><text class=\"shadow\" x=\"90.0\" y=\"660\">Reversal</text><text x=\"90.0\" y=\"660\">Reversal</text></g><g class=\"repex left label\" transform=\"translate(36,680)\"><g class=\"shift\"><text x=\"0\" y=\"0\">381x</text></g></g><g class=\"repex overlap whiteback h-region\"><line x1=\"34.5\" x2=\"145.5\" y1=\"680\" y2=\"680\"/><circle cx=\"34.5\" cy=\"680\" r=\"0.0\"/><line x1=\"34.5\" x2=\"34.5\" y1=\"674.0\" y2=\"686.0\"/><circle cx=\"145.5\" cy=\"680\" r=\"0.0\"/><line x1=\"145.5\" x2=\"145.5\" y1=\"674.0\" y2=\"686.0\"/><text class=\"shadow\" x=\"90.0\" y=\"680\">RepEx</text><text x=\"90.0\" y=\"680\">RepEx</text></g><g class=\"repex fw block\"><rect height=\"12.0\" width=\"0.0\" x=\"34.5\" y=\"674.0\"/><circle cx=\"34.5\" cy=\"680\" r=\"0.0\"/><text x=\"34.5\" y=\"680\"/></g><g class=\"repex bw block\"><rect height=\"12.0\" width=\"0.0\" x=\"145.5\" y=\"674.0\"/><circle cx=\"145.5\" cy=\"680\" r=\"0.0\"/><text x=\"145.5\" y=\"680\"/></g><g class=\"extend left label\" transform=\"translate(36,700)\"><g class=\"shift\"><text x=\"0\" y=\"0\">383b</text></g></g><line class=\"extend bw connection v-connector\" x1=\"145.5\" x2=\"145.5\" y1=\"640.0\" y2=\"700.0\"/><g class=\"extend overlap whiteback h-region\"><line x1=\"34.5\" x2=\"145.5\" y1=\"700\" y2=\"700\"/><circle cx=\"34.5\" cy=\"700\" r=\"0.0\"/><line x1=\"34.5\" x2=\"34.5\" y1=\"694.0\" y2=\"706.0\"/><circle cx=\"145.5\" cy=\"700\" r=\"0.0\"/><line x1=\"145.5\" x2=\"145.5\" y1=\"694.0\" y2=\"706.0\"/><text class=\"shadow\" x=\"90.0\" y=\"700\">Extend</text><text x=\"90.0\" y=\"700\">Extend</text></g><g class=\"extend fw block\"><rect height=\"12.0\" width=\"0.0\" x=\"34.5\" y=\"694.0\"/><circle cx=\"34.5\" cy=\"700\" r=\"0.0\"/><text x=\"34.5\" y=\"700\"/></g><g class=\"extend bw block\"><rect height=\"12.0\" width=\"720.0\" x=\"145.5\" y=\"694.0\"/><circle cx=\"145.5\" cy=\"700\" r=\"0.0\"/><text x=\"505.5\" y=\"700\"/></g><g class=\"extend right label\" transform=\"translate(144,720)\"><g class=\"shift\"><text x=\"0\" y=\"0\">409t</text></g></g><g class=\"extend overlap whiteback h-region\"><line x1=\"34.5\" x2=\"145.5\" y1=\"720\" y2=\"720\"/><circle cx=\"34.5\" cy=\"720\" r=\"0.0\"/><line x1=\"34.5\" x2=\"34.5\" y1=\"714.0\" y2=\"726.0\"/><circle cx=\"145.5\" cy=\"720\" r=\"0.0\"/><line x1=\"145.5\" x2=\"145.5\" y1=\"714.0\" y2=\"726.0\"/><text class=\"shadow\" x=\"90.0\" y=\"720\">Trunc</text><text x=\"90.0\" y=\"720\">Trunc</text></g><g class=\"extend fw block\"><rect height=\"12.0\" width=\"0.0\" x=\"34.5\" y=\"714.0\"/><circle cx=\"34.5\" cy=\"720\" r=\"0.0\"/><text x=\"34.5\" y=\"720\"/></g><g class=\"extend bw block\"><rect height=\"12.0\" width=\"0.0\" x=\"145.5\" y=\"714.0\"/><circle cx=\"145.5\" cy=\"720\" r=\"0.0\"/><text x=\"145.5\" y=\"720\"/></g><g class=\"repex left label\" transform=\"translate(36,740)\"><g class=\"shift\"><text x=\"0\" y=\"0\">409x</text></g></g><g class=\"repex overlap whiteback h-region\"><line x1=\"34.5\" x2=\"145.5\" y1=\"740\" y2=\"740\"/><circle cx=\"34.5\" cy=\"740\" r=\"0.0\"/><line x1=\"34.5\" x2=\"34.5\" y1=\"734.0\" y2=\"746.0\"/><circle cx=\"145.5\" cy=\"740\" r=\"0.0\"/><line x1=\"145.5\" x2=\"145.5\" y1=\"734.0\" y2=\"746.0\"/><text class=\"shadow\" x=\"90.0\" y=\"740\">RepEx</text><text x=\"90.0\" y=\"740\">RepEx</text></g><g class=\"repex fw block\"><rect height=\"12.0\" width=\"0.0\" x=\"34.5\" y=\"734.0\"/><circle cx=\"34.5\" cy=\"740\" r=\"0.0\"/><text x=\"34.5\" y=\"740\"/></g><g class=\"repex bw block\"><rect height=\"12.0\" width=\"0.0\" x=\"145.5\" y=\"734.0\"/><circle cx=\"145.5\" cy=\"740\" r=\"0.0\"/><text x=\"145.5\" y=\"740\"/></g></g></g></svg>"
      ],
      "text/plain": [
       "<IPython.core.display.SVG object>"
      ]
     },
     "execution_count": 44,
     "metadata": {},
     "output_type": "execute_result"
    }
   ],
   "source": [
    "history.options['css']['scale_x'] = 3\n",
    "history.options['css']['scale_y'] = 20\n",
    "history.options['css']['zoom'] = 2.0\n",
    "history.options['css']['width'] = 'inherit'\n",
    "history.options['settings']['flip_time_direction'] = True\n",
    "history.options['settings']['join_blocks'] = True\n",
    "history.analyze()\n",
    "SVG(history.svg())"
   ]
  },
  {
   "cell_type": "markdown",
   "metadata": {},
   "source": [
    "### Visualizing trajectories"
   ]
  },
  {
   "cell_type": "code",
   "execution_count": null,
   "metadata": {
    "collapsed": true
   },
   "outputs": [],
   "source": [
    "from toy_plot_helpers import ToyPlot\n",
    "background = ToyPlot()\n",
    "background.contour_range = np.arange(-1.5, 1.0, 0.1)\n",
    "background.add_pes(storage.engines[0].pes)"
   ]
  },
  {
   "cell_type": "code",
   "execution_count": null,
   "metadata": {
    "collapsed": false
   },
   "outputs": [],
   "source": [
    "xval = paths.CV_Function(\"xval\", lambda snap : snap.xyz[0][0])\n",
    "yval = paths.CV_Function(\"yval\", lambda snap : snap.xyz[0][1])\n",
    "vis = paths.LiveVisualization(mstis, xval, yval, [-1.0, 1.0], [-1.0, 1.0])\n",
    "vis.background = background.plot()"
   ]
  },
  {
   "cell_type": "code",
   "execution_count": null,
   "metadata": {
    "collapsed": false
   },
   "outputs": [],
   "source": [
    "vis.draw_samples(history.trial_samples)"
   ]
  },
  {
   "cell_type": "code",
   "execution_count": null,
   "metadata": {
    "collapsed": false
   },
   "outputs": [],
   "source": [
    "#! skip\n",
    "# The skip directive tells our test runner not to run this cell\n",
    "import time\n",
    "max_step = 10\n",
    "for step in storage.steps[0:max_step]:\n",
    "    vis.draw_ipynb(step)\n",
    "    time.sleep(0.1)"
   ]
  },
  {
   "cell_type": "markdown",
   "metadata": {},
   "source": [
    "## Histogramming data (TODO)"
   ]
  },
  {
   "cell_type": "code",
   "execution_count": null,
   "metadata": {
    "collapsed": true
   },
   "outputs": [],
   "source": []
  }
 ],
 "metadata": {
  "kernelspec": {
   "display_name": "Python 2",
   "language": "python",
   "name": "python2"
  },
  "language_info": {
   "codemirror_mode": {
    "name": "ipython",
    "version": 2
   },
   "file_extension": ".py",
   "mimetype": "text/x-python",
   "name": "python",
   "nbconvert_exporter": "python",
   "pygments_lexer": "ipython2",
   "version": "2.7.11"
  }
 },
 "nbformat": 4,
 "nbformat_minor": 0
}

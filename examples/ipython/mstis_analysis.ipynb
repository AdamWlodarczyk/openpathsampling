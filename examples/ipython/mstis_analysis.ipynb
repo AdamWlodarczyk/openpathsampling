{
 "cells": [
  {
   "cell_type": "code",
   "execution_count": 1,
   "metadata": {
    "collapsed": false
   },
   "outputs": [],
   "source": [
    "%matplotlib inline\n",
    "import matplotlib.pyplot as plt\n",
    "import openpathsampling as paths\n",
    "import numpy as np\n",
    "\n",
    "storage = paths.storage.Storage(\"mstis.nc\", mode=\"r\")"
   ]
  },
  {
   "cell_type": "code",
   "execution_count": 2,
   "metadata": {
    "collapsed": false,
    "scrolled": true
   },
   "outputs": [],
   "source": [
    "mstis = storage.networks.load(0)"
   ]
  },
  {
   "cell_type": "code",
   "execution_count": 3,
   "metadata": {
    "collapsed": false
   },
   "outputs": [
    {
     "name": "stdout",
     "output_type": "stream",
     "text": [
      "Multiple State TIS Network:\n",
      "RETISTransition: Out A\n",
      "A -> A or all states except A\n",
      "Interface: 0.0<opA<0.04\n",
      "Interface: 0.0<opA<0.09\n",
      "Interface: 0.0<opA<0.16\n",
      "RETISTransition: Out B\n",
      "B -> B or all states except B\n",
      "Interface: 0.0<opB<0.04\n",
      "Interface: 0.0<opB<0.09\n",
      "Interface: 0.0<opB<0.16\n",
      "RETISTransition: Out C\n",
      "C -> C or all states except C\n",
      "Interface: 0.0<opC<0.04\n",
      "Interface: 0.0<opC<0.09\n",
      "Interface: 0.0<opC<0.16\n",
      "\n"
     ]
    }
   ],
   "source": [
    "print mstis"
   ]
  },
  {
   "cell_type": "code",
   "execution_count": 4,
   "metadata": {
    "collapsed": true
   },
   "outputs": [],
   "source": [
    "mstis.hist_args['max_lambda'] = { 'bin_width' : 0.02, 'bin_range' : (-0.35, 0.35) }\n",
    "mstis.hist_args['pathlength'] = { 'bin_width' : 5, 'bin_range' : (0, 150) }"
   ]
  },
  {
   "cell_type": "code",
   "execution_count": 5,
   "metadata": {
    "collapsed": false
   },
   "outputs": [
    {
     "name": "stderr",
     "output_type": "stream",
     "text": [
      "WARNING:openpathsampling.analysis.tis_analysis:No instances of out for minus move.\n",
      "WARNING:openpathsampling.analysis.tis_analysis:No instances of in for minus move.\n",
      "/opt/local/Library/Frameworks/Python.framework/Versions/2.7/lib/python2.7/site-packages/numpy/core/_methods.py:59: RuntimeWarning: Mean of empty slice.\n",
      "  warnings.warn(\"Mean of empty slice.\", RuntimeWarning)\n",
      "WARNING:openpathsampling.analysis.tis_analysis:No instances of out for minus move.\n",
      "WARNING:openpathsampling.analysis.tis_analysis:No instances of in for minus move.\n",
      "WARNING:openpathsampling.analysis.tis_analysis:No instances of out for minus move.\n",
      "WARNING:openpathsampling.analysis.tis_analysis:No instances of in for minus move.\n",
      "WARNING:openpathsampling.analysis.tis_analysis:No instances of out for minus move.\n",
      "WARNING:openpathsampling.analysis.tis_analysis:No instances of in for minus move.\n",
      "WARNING:openpathsampling.analysis.tis_analysis:No instances of out for minus move.\n",
      "WARNING:openpathsampling.analysis.tis_analysis:No instances of in for minus move.\n",
      "WARNING:openpathsampling.analysis.tis_analysis:No instances of out for minus move.\n",
      "WARNING:openpathsampling.analysis.tis_analysis:No instances of in for minus move.\n"
     ]
    },
    {
     "data": {
      "text/html": [
       "<div style=\"max-height:1000px;max-width:1500px;overflow:auto;\">\n",
       "<table border=\"1\" class=\"dataframe\">\n",
       "  <thead>\n",
       "    <tr style=\"text-align: right;\">\n",
       "      <th></th>\n",
       "      <th>{x|opA(x) in [0.0, 0.04]}</th>\n",
       "      <th>{x|opB(x) in [0.0, 0.04]}</th>\n",
       "      <th>{x|opC(x) in [0.0, 0.04]}</th>\n",
       "    </tr>\n",
       "  </thead>\n",
       "  <tbody>\n",
       "    <tr>\n",
       "      <th>{x|opA(x) in [0.0, 0.04]}</th>\n",
       "      <td>NaN</td>\n",
       "      <td>NaN</td>\n",
       "      <td>NaN</td>\n",
       "    </tr>\n",
       "    <tr>\n",
       "      <th>{x|opB(x) in [0.0, 0.04]}</th>\n",
       "      <td>NaN</td>\n",
       "      <td>NaN</td>\n",
       "      <td>NaN</td>\n",
       "    </tr>\n",
       "    <tr>\n",
       "      <th>{x|opC(x) in [0.0, 0.04]}</th>\n",
       "      <td>NaN</td>\n",
       "      <td>NaN</td>\n",
       "      <td>NaN</td>\n",
       "    </tr>\n",
       "  </tbody>\n",
       "</table>\n",
       "</div>"
      ],
      "text/plain": [
       "                          {x|opA(x) in [0.0, 0.04]} {x|opB(x) in [0.0, 0.04]}  \\\n",
       "{x|opA(x) in [0.0, 0.04]}                       NaN                       NaN   \n",
       "{x|opB(x) in [0.0, 0.04]}                       NaN                       NaN   \n",
       "{x|opC(x) in [0.0, 0.04]}                       NaN                       NaN   \n",
       "\n",
       "                          {x|opC(x) in [0.0, 0.04]}  \n",
       "{x|opA(x) in [0.0, 0.04]}                       NaN  \n",
       "{x|opB(x) in [0.0, 0.04]}                       NaN  \n",
       "{x|opC(x) in [0.0, 0.04]}                       NaN  "
      ]
     },
     "execution_count": 5,
     "metadata": {},
     "output_type": "execute_result"
    }
   ],
   "source": [
    "mstis.rate_matrix(storage)"
   ]
  },
  {
   "cell_type": "code",
   "execution_count": null,
   "metadata": {
    "collapsed": true
   },
   "outputs": [],
   "source": []
  }
 ],
 "metadata": {
  "kernelspec": {
   "display_name": "Python 2",
   "language": "python",
   "name": "python2"
  },
  "language_info": {
   "codemirror_mode": {
    "name": "ipython",
    "version": 2
   },
   "file_extension": ".py",
   "mimetype": "text/x-python",
   "name": "python",
   "nbconvert_exporter": "python",
   "pygments_lexer": "ipython2",
   "version": "2.7.9"
  }
 },
 "nbformat": 4,
 "nbformat_minor": 0
}

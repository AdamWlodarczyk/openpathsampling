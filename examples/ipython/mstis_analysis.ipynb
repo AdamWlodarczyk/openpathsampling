{
 "cells": [
  {
   "cell_type": "code",
   "execution_count": 1,
   "metadata": {
    "collapsed": false
   },
   "outputs": [],
   "source": [
    "%matplotlib inline\n",
    "import matplotlib.pyplot as plt\n",
    "import openpathsampling as paths\n",
    "import numpy as np\n",
    "\n",
    "storage = paths.storage.Storage(\"mstis.nc\", mode=\"r\")"
   ]
  },
  {
   "cell_type": "code",
   "execution_count": 2,
   "metadata": {
    "collapsed": false,
    "scrolled": true
   },
   "outputs": [],
   "source": [
    "mstis = storage.networks.load(0)"
   ]
  },
  {
   "cell_type": "code",
   "execution_count": 3,
   "metadata": {
    "collapsed": false
   },
   "outputs": [
    {
     "name": "stdout",
     "output_type": "stream",
     "text": [
      "Multiple State TIS Network:\n",
      "RETISTransition: Out B\n",
      "B -> B or all states except B\n",
      "Interface: 0.0<opB<0.04\n",
      "Interface: 0.0<opB<0.09\n",
      "Interface: 0.0<opB<0.16\n",
      "RETISTransition: Out C\n",
      "C -> C or all states except C\n",
      "Interface: 0.0<opC<0.04\n",
      "Interface: 0.0<opC<0.09\n",
      "Interface: 0.0<opC<0.16\n",
      "RETISTransition: Out A\n",
      "A -> A or all states except A\n",
      "Interface: 0.0<opA<0.04\n",
      "Interface: 0.0<opA<0.09\n",
      "Interface: 0.0<opA<0.16\n",
      "\n"
     ]
    }
   ],
   "source": [
    "print mstis"
   ]
  },
  {
   "cell_type": "code",
   "execution_count": 4,
   "metadata": {
    "collapsed": false
   },
   "outputs": [],
   "source": [
    "stateA = storage.volumes.find_first(\"A\")\n",
    "stateB = storage.volumes.find_first(\"B\")\n",
    "stateC = storage.volumes.find_first(\"C\")"
   ]
  },
  {
   "cell_type": "code",
   "execution_count": 5,
   "metadata": {
    "collapsed": false
   },
   "outputs": [
    {
     "name": "stdout",
     "output_type": "stream",
     "text": [
      "RETISTransition: Out A\n",
      "A -> A or all states except A\n",
      "Interface: 0.0<opA<0.04\n",
      "Interface: 0.0<opA<0.09\n",
      "Interface: 0.0<opA<0.16\n",
      "\n"
     ]
    }
   ],
   "source": [
    "print mstis.from_state[stateA]"
   ]
  },
  {
   "cell_type": "code",
   "execution_count": 6,
   "metadata": {
    "collapsed": false
   },
   "outputs": [
    {
     "name": "stdout",
     "output_type": "stream",
     "text": [
      "[<openpathsampling.ensemble.TISEnsemble object at 0x117a3d390>, <openpathsampling.ensemble.TISEnsemble object at 0x117b61490>, <openpathsampling.ensemble.TISEnsemble object at 0x117a3d4d0>]\n"
     ]
    }
   ],
   "source": [
    "print mstis.from_state[stateA].ensembles"
   ]
  },
  {
   "cell_type": "code",
   "execution_count": null,
   "metadata": {
    "collapsed": true
   },
   "outputs": [],
   "source": [
    "mstis.hist_args['max_lambda'] = { 'bin_width' : 0.02, 'bin_range' : (-0.35, 0.35) }\n",
    "mstis.hist_args['pathlength'] = { 'bin_width' : 5, 'bin_range' : (0, 150) }"
   ]
  },
  {
   "cell_type": "code",
   "execution_count": null,
   "metadata": {
    "collapsed": false
   },
   "outputs": [],
   "source": [
    "mstis.rate_matrix(storage)"
   ]
  },
  {
   "cell_type": "code",
   "execution_count": null,
   "metadata": {
    "collapsed": false
   },
   "outputs": [],
   "source": [
    "minus_moves = [d for d in storage.pathmovechanges if mstis.from_state[stateC].movers['minus'][0] in d]\n",
    "len(minus_moves)"
   ]
  },
  {
   "cell_type": "code",
   "execution_count": null,
   "metadata": {
    "collapsed": false
   },
   "outputs": [],
   "source": [
    "mstis.movers['minus']"
   ]
  },
  {
   "cell_type": "code",
   "execution_count": null,
   "metadata": {
    "collapsed": false
   },
   "outputs": [],
   "source": [
    "[mstis.from_state[state].movers['minus'] for state in [stateA, stateB, stateC]]"
   ]
  },
  {
   "cell_type": "code",
   "execution_count": null,
   "metadata": {
    "collapsed": true
   },
   "outputs": [],
   "source": []
  }
 ],
 "metadata": {
  "kernelspec": {
   "display_name": "Python 2",
   "language": "python",
   "name": "python2"
  },
  "language_info": {
   "codemirror_mode": {
    "name": "ipython",
    "version": 2
   },
   "file_extension": ".py",
   "mimetype": "text/x-python",
   "name": "python",
   "nbconvert_exporter": "python",
   "pygments_lexer": "ipython2",
   "version": "2.7.9"
  }
 },
 "nbformat": 4,
 "nbformat_minor": 0
}

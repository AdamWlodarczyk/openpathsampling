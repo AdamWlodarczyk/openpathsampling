{
 "cells": [
  {
   "cell_type": "markdown",
   "metadata": {},
   "source": [
    "# Analyzing the MSTIS simulation\n",
    "\n",
    "Included in this notebook:\n",
    "\n",
    "* Opening files for analysis\n",
    "* Rates, fluxes, total crossing probabilities, and condition transition probabilities\n",
    "* Per-ensemble properties such as path length distributions and interface crossing probabilities\n",
    "* Move scheme analysis\n",
    "* Replica exchange analysis\n",
    "* Replica move history tree visualization\n",
    "* Replaying the simulation\n",
    "* MORE TO COME! Like free energy projections, path density plots, and more"
   ]
  },
  {
   "cell_type": "code",
   "execution_count": 1,
   "metadata": {
    "collapsed": false
   },
   "outputs": [
    {
     "name": "stderr",
     "output_type": "stream",
     "text": [
      "INFO:root:Info logging activated\n"
     ]
    }
   ],
   "source": [
    "import logging\n",
    "reload(logging)\n",
    "logger = logging.getLogger()\n",
    "logger.setLevel(logging.INFO)\n",
    "logging.info('Info logging activated')\n",
    "init_log = logging.getLogger('openpathsampling.initialization')\n",
    "init_log.setLevel(logging.CRITICAL)"
   ]
  },
  {
   "cell_type": "code",
   "execution_count": null,
   "metadata": {
    "collapsed": false
   },
   "outputs": [],
   "source": [
    "%matplotlib inline\n",
    "import matplotlib.pyplot as plt\n",
    "import openpathsampling as paths\n",
    "import numpy as np"
   ]
  },
  {
   "cell_type": "markdown",
   "metadata": {},
   "source": [
    "The optimum way to use storage depends on whether you're doing production or analysis. For analysis, you should open the file as an `AnalysisStorage` object. This makes the analysis much faster."
   ]
  },
  {
   "cell_type": "code",
   "execution_count": null,
   "metadata": {
    "collapsed": false
   },
   "outputs": [
    {
     "name": "stderr",
     "output_type": "stream",
     "text": [
      "INFO:openpathsampling.netcdfplus.netcdfplus:Open existing netCDF file 'mstis.nc' for reading - reading from existing file\n"
     ]
    }
   ],
   "source": [
    "%%time\n",
    "storage = paths.Storage(\"mstis.nc\", \"r\")"
   ]
  },
  {
   "cell_type": "code",
   "execution_count": null,
   "metadata": {
    "collapsed": true
   },
   "outputs": [],
   "source": [
    "storage.set_caching_mode('analysis')"
   ]
  },
  {
   "cell_type": "code",
   "execution_count": 5,
   "metadata": {
    "collapsed": false
   },
   "outputs": [
    {
     "name": "stderr",
     "output_type": "stream",
     "text": [
      "INFO:openpathsampling.storage.storage:store.cvs[CollectiveVariable] in 12 ms\n",
      "INFO:openpathsampling.storage.storage:store.samples[Sample] in 2266 ms\n",
      "INFO:openpathsampling.storage.storage:store.samplesets[SampleSet] in 377 ms\n",
      "INFO:openpathsampling.storage.storage:store.volumes[Volume] in 1 ms\n",
      "INFO:openpathsampling.storage.storage:store.ensembles[Ensemble] in 1 ms\n",
      "INFO:openpathsampling.storage.storage:store.pathmovers[PathMover] in 390 ms\n",
      "INFO:openpathsampling.storage.storage:store.pathmovechanges[PathMoveChange] in 783 ms\n"
     ]
    },
    {
     "ename": "ValueError",
     "evalue": "badly formed hexadecimal UUID string",
     "output_type": "error",
     "traceback": [
      "\u001b[0;31m---------------------------------------------------------------------------\u001b[0m",
      "\u001b[0;31mValueError\u001b[0m                                Traceback (most recent call last)",
      "\u001b[0;32m<ipython-input-5-f1d161c64ce3>\u001b[0m in \u001b[0;36m<module>\u001b[0;34m()\u001b[0m\n\u001b[0;32m----> 1\u001b[0;31m \u001b[0mpaths\u001b[0m\u001b[0;34m.\u001b[0m\u001b[0mAnalysisStorage\u001b[0m\u001b[0;34m.\u001b[0m\u001b[0mcache_for_analysis\u001b[0m\u001b[0;34m(\u001b[0m\u001b[0mstorage\u001b[0m\u001b[0;34m)\u001b[0m\u001b[0;34m\u001b[0m\u001b[0m\n\u001b[0m",
      "\u001b[0;32m/Users/jan-hendrikprinz/Studium/git/openpathsampling/openpathsampling/storage/storage.pyc\u001b[0m in \u001b[0;36mcache_for_analysis\u001b[0;34m(storage)\u001b[0m\n\u001b[1;32m    563\u001b[0m             \u001b[0mstore\u001b[0m \u001b[0;34m=\u001b[0m \u001b[0mgetattr\u001b[0m\u001b[0;34m(\u001b[0m\u001b[0mstorage\u001b[0m\u001b[0;34m,\u001b[0m \u001b[0mstore_name\u001b[0m\u001b[0;34m)\u001b[0m\u001b[0;34m\u001b[0m\u001b[0m\n\u001b[1;32m    564\u001b[0m             \u001b[0;32mwith\u001b[0m \u001b[0mAnalysisStorage\u001b[0m\u001b[0;34m.\u001b[0m\u001b[0mCacheTimer\u001b[0m\u001b[0;34m(\u001b[0m\u001b[0mstore\u001b[0m\u001b[0;34m)\u001b[0m\u001b[0;34m:\u001b[0m\u001b[0;34m\u001b[0m\u001b[0m\n\u001b[0;32m--> 565\u001b[0;31m                 \u001b[0mstore\u001b[0m\u001b[0;34m.\u001b[0m\u001b[0mcache_all\u001b[0m\u001b[0;34m(\u001b[0m\u001b[0;34m)\u001b[0m\u001b[0;34m\u001b[0m\u001b[0m\n\u001b[0m\u001b[1;32m    566\u001b[0m \u001b[0;34m\u001b[0m\u001b[0m\n\u001b[1;32m    567\u001b[0m \u001b[0;31m#        storage.trajectories.cache_all()\u001b[0m\u001b[0;34m\u001b[0m\u001b[0;34m\u001b[0m\u001b[0m\n",
      "\u001b[0;32m/Users/jan-hendrikprinz/Studium/git/openpathsampling/openpathsampling/storage/pathmovechange_store.py\u001b[0m in \u001b[0;36mcache_all\u001b[0;34m(self)\u001b[0m\n\u001b[1;32m     84\u001b[0m                 \u001b[0msamples_idxss\u001b[0m\u001b[0;34m,\u001b[0m\u001b[0;34m\u001b[0m\u001b[0m\n\u001b[1;32m     85\u001b[0m                 \u001b[0mmover_idxs\u001b[0m\u001b[0;34m,\u001b[0m\u001b[0;34m\u001b[0m\u001b[0m\n\u001b[0;32m---> 86\u001b[0;31m                 details_idxs)]\n\u001b[0m\u001b[1;32m     87\u001b[0m \u001b[0;34m\u001b[0m\u001b[0m\n\u001b[1;32m     88\u001b[0m             [self._load_partial_subchanges(c, s) for c, s in zip(\n",
      "\u001b[0;32m/Users/jan-hendrikprinz/Studium/git/openpathsampling/openpathsampling/storage/pathmovechange_store.py\u001b[0m in \u001b[0;36m_add_empty_to_cache\u001b[0;34m(self, pos, uuid, cls_name, samples_idxs, mover_idx, details_idx)\u001b[0m\n\u001b[1;32m     95\u001b[0m \u001b[0;34m\u001b[0m\u001b[0m\n\u001b[1;32m     96\u001b[0m         \u001b[0;32mif\u001b[0m \u001b[0mpos\u001b[0m \u001b[0;32mnot\u001b[0m \u001b[0;32min\u001b[0m \u001b[0mself\u001b[0m\u001b[0;34m.\u001b[0m\u001b[0mcache\u001b[0m\u001b[0;34m:\u001b[0m\u001b[0;34m\u001b[0m\u001b[0m\n\u001b[0;32m---> 97\u001b[0;31m             \u001b[0mobj\u001b[0m \u001b[0;34m=\u001b[0m \u001b[0mself\u001b[0m\u001b[0;34m.\u001b[0m\u001b[0m_load_partial_samples\u001b[0m\u001b[0;34m(\u001b[0m\u001b[0mcls_name\u001b[0m\u001b[0;34m,\u001b[0m \u001b[0msamples_idxs\u001b[0m\u001b[0;34m,\u001b[0m \u001b[0mmover_idx\u001b[0m\u001b[0;34m,\u001b[0m \u001b[0mdetails_idx\u001b[0m\u001b[0;34m)\u001b[0m\u001b[0;34m\u001b[0m\u001b[0m\n\u001b[0m\u001b[1;32m     98\u001b[0m \u001b[0;34m\u001b[0m\u001b[0m\n\u001b[1;32m     99\u001b[0m             \u001b[0;32mif\u001b[0m \u001b[0mself\u001b[0m\u001b[0;34m.\u001b[0m\u001b[0mreference_by_uuid\u001b[0m\u001b[0;34m:\u001b[0m\u001b[0;34m\u001b[0m\u001b[0m\n",
      "\u001b[0;32m/Users/jan-hendrikprinz/Studium/git/openpathsampling/openpathsampling/storage/pathmovechange_store.py\u001b[0m in \u001b[0;36m_load_partial_samples\u001b[0;34m(self, cls_name, samples_idxs, mover_idx, details_idx)\u001b[0m\n\u001b[1;32m    117\u001b[0m         \u001b[0mobj\u001b[0m \u001b[0;34m=\u001b[0m \u001b[0mcls\u001b[0m\u001b[0;34m.\u001b[0m\u001b[0m__new__\u001b[0m\u001b[0;34m(\u001b[0m\u001b[0mcls\u001b[0m\u001b[0;34m)\u001b[0m\u001b[0;34m\u001b[0m\u001b[0m\n\u001b[1;32m    118\u001b[0m         \u001b[0;32mif\u001b[0m \u001b[0mself\u001b[0m\u001b[0;34m.\u001b[0m\u001b[0mreference_by_uuid\u001b[0m\u001b[0;34m:\u001b[0m\u001b[0;34m\u001b[0m\u001b[0m\n\u001b[0;32m--> 119\u001b[0;31m             \u001b[0mPathMoveChange\u001b[0m\u001b[0;34m.\u001b[0m\u001b[0m__init__\u001b[0m\u001b[0;34m(\u001b[0m\u001b[0mobj\u001b[0m\u001b[0;34m,\u001b[0m \u001b[0mmover\u001b[0m\u001b[0;34m=\u001b[0m\u001b[0mself\u001b[0m\u001b[0;34m.\u001b[0m\u001b[0mstorage\u001b[0m\u001b[0;34m.\u001b[0m\u001b[0mpathmovers\u001b[0m\u001b[0;34m[\u001b[0m\u001b[0mUUID\u001b[0m\u001b[0;34m(\u001b[0m\u001b[0mmover_idx\u001b[0m\u001b[0;34m)\u001b[0m\u001b[0;34m]\u001b[0m\u001b[0;34m)\u001b[0m\u001b[0;34m\u001b[0m\u001b[0m\n\u001b[0m\u001b[1;32m    120\u001b[0m         \u001b[0;32melse\u001b[0m\u001b[0;34m:\u001b[0m\u001b[0;34m\u001b[0m\u001b[0m\n\u001b[1;32m    121\u001b[0m             \u001b[0mPathMoveChange\u001b[0m\u001b[0;34m.\u001b[0m\u001b[0m__init__\u001b[0m\u001b[0;34m(\u001b[0m\u001b[0mobj\u001b[0m\u001b[0;34m,\u001b[0m \u001b[0mmover\u001b[0m\u001b[0;34m=\u001b[0m\u001b[0mself\u001b[0m\u001b[0;34m.\u001b[0m\u001b[0mstorage\u001b[0m\u001b[0;34m.\u001b[0m\u001b[0mpathmovers\u001b[0m\u001b[0;34m[\u001b[0m\u001b[0mint\u001b[0m\u001b[0;34m(\u001b[0m\u001b[0mmover_idx\u001b[0m\u001b[0;34m)\u001b[0m\u001b[0;34m]\u001b[0m\u001b[0;34m)\u001b[0m\u001b[0;34m\u001b[0m\u001b[0m\n",
      "\u001b[0;32m/Users/jan-hendrikprinz/anaconda/lib/python2.7/uuid.pyc\u001b[0m in \u001b[0;36m__init__\u001b[0;34m(self, hex, bytes, bytes_le, fields, int, version)\u001b[0m\n\u001b[1;32m    134\u001b[0m             \u001b[0mhex\u001b[0m \u001b[0;34m=\u001b[0m \u001b[0mhex\u001b[0m\u001b[0;34m.\u001b[0m\u001b[0mstrip\u001b[0m\u001b[0;34m(\u001b[0m\u001b[0;34m'{}'\u001b[0m\u001b[0;34m)\u001b[0m\u001b[0;34m.\u001b[0m\u001b[0mreplace\u001b[0m\u001b[0;34m(\u001b[0m\u001b[0;34m'-'\u001b[0m\u001b[0;34m,\u001b[0m \u001b[0;34m''\u001b[0m\u001b[0;34m)\u001b[0m\u001b[0;34m\u001b[0m\u001b[0m\n\u001b[1;32m    135\u001b[0m             \u001b[0;32mif\u001b[0m \u001b[0mlen\u001b[0m\u001b[0;34m(\u001b[0m\u001b[0mhex\u001b[0m\u001b[0;34m)\u001b[0m \u001b[0;34m!=\u001b[0m \u001b[0;36m32\u001b[0m\u001b[0;34m:\u001b[0m\u001b[0;34m\u001b[0m\u001b[0m\n\u001b[0;32m--> 136\u001b[0;31m                 \u001b[0;32mraise\u001b[0m \u001b[0mValueError\u001b[0m\u001b[0;34m(\u001b[0m\u001b[0;34m'badly formed hexadecimal UUID string'\u001b[0m\u001b[0;34m)\u001b[0m\u001b[0;34m\u001b[0m\u001b[0m\n\u001b[0m\u001b[1;32m    137\u001b[0m             \u001b[0mint\u001b[0m \u001b[0;34m=\u001b[0m \u001b[0mlong\u001b[0m\u001b[0;34m(\u001b[0m\u001b[0mhex\u001b[0m\u001b[0;34m,\u001b[0m \u001b[0;36m16\u001b[0m\u001b[0;34m)\u001b[0m\u001b[0;34m\u001b[0m\u001b[0m\n\u001b[1;32m    138\u001b[0m         \u001b[0;32mif\u001b[0m \u001b[0mbytes_le\u001b[0m \u001b[0;32mis\u001b[0m \u001b[0;32mnot\u001b[0m \u001b[0mNone\u001b[0m\u001b[0;34m:\u001b[0m\u001b[0;34m\u001b[0m\u001b[0m\n",
      "\u001b[0;31mValueError\u001b[0m: badly formed hexadecimal UUID string"
     ]
    }
   ],
   "source": [
    "paths.AnalysisStorage.cache_for_analysis(storage)"
   ]
  },
  {
   "cell_type": "code",
   "execution_count": 8,
   "metadata": {
    "collapsed": false
   },
   "outputs": [
    {
     "name": "stdout",
     "output_type": "stream",
     "text": [
      "CPU times: user 3.02 ms, sys: 1.28 ms, total: 4.3 ms\n",
      "Wall time: 2.82 ms\n"
     ]
    }
   ],
   "source": [
    "%%time\n",
    "storage.cvs.cache_all()"
   ]
  },
  {
   "cell_type": "code",
   "execution_count": 4,
   "metadata": {
    "collapsed": false
   },
   "outputs": [
    {
     "name": "stdout",
     "output_type": "stream",
     "text": [
      "CPU times: user 363 ms, sys: 37.3 ms, total: 400 ms\n",
      "Wall time: 400 ms\n"
     ]
    }
   ],
   "source": [
    "%%time\n",
    "for cv, (cv_store, cv_store_idx) in storage.snapshots.cv_list.items():\n",
    "    cv_store.cache.load_max()"
   ]
  },
  {
   "cell_type": "code",
   "execution_count": 7,
   "metadata": {
    "collapsed": false
   },
   "outputs": [
    {
     "name": "stdout",
     "output_type": "stream",
     "text": [
      "CPU times: user 2.26 s, sys: 40.7 ms, total: 2.3 s\n",
      "Wall time: 2.3 s\n"
     ]
    }
   ],
   "source": [
    "%%time\n",
    "storage.samples.cache_all()"
   ]
  },
  {
   "cell_type": "code",
   "execution_count": 8,
   "metadata": {
    "collapsed": false
   },
   "outputs": [
    {
     "name": "stdout",
     "output_type": "stream",
     "text": [
      "CPU times: user 360 ms, sys: 7.94 ms, total: 368 ms\n",
      "Wall time: 367 ms\n"
     ]
    }
   ],
   "source": [
    "%%time\n",
    "storage.samplesets.cache_all()"
   ]
  },
  {
   "cell_type": "code",
   "execution_count": 9,
   "metadata": {
    "collapsed": false
   },
   "outputs": [
    {
     "name": "stdout",
     "output_type": "stream",
     "text": [
      "CPU times: user 1.87 ms, sys: 948 µs, total: 2.82 ms\n",
      "Wall time: 1.78 ms\n"
     ]
    }
   ],
   "source": [
    "%%time\n",
    "storage.volumes.cache_all()"
   ]
  },
  {
   "cell_type": "code",
   "execution_count": null,
   "metadata": {
    "collapsed": true
   },
   "outputs": [],
   "source": [
    "%%time\n"
   ]
  },
  {
   "cell_type": "code",
   "execution_count": null,
   "metadata": {
    "collapsed": false,
    "run_control": {
     "marked": false
    },
    "scrolled": true
   },
   "outputs": [],
   "source": [
    "mstis = storage.networks.load(0)"
   ]
  },
  {
   "cell_type": "code",
   "execution_count": null,
   "metadata": {
    "collapsed": false
   },
   "outputs": [],
   "source": [
    "for store in storage.objects.values():\n",
    "    print store.name, len(store.index), len(store), store.__class__.__name__"
   ]
  },
  {
   "cell_type": "markdown",
   "metadata": {},
   "source": [
    "## Reaction rates\n",
    "\n",
    "TIS methods are especially good at determining reaction rates, and OPS makes it extremely easy to obtain the rate from a TIS network.\n",
    "\n",
    "Note that, although you can get the rate directly, it is very important to look at other results of the sampling (illustrated in this notebook and in notebooks referred to herein) in order to check the validity of the rates you obtain."
   ]
  },
  {
   "cell_type": "markdown",
   "metadata": {},
   "source": [
    "By default, the built-in analysis calculates histograms the maximum value of some order parameter and the pathlength of every sampled ensemble. You can add other things to this list as well, but you must always specify histogram parameters for these two. The pathlength is in units of frames."
   ]
  },
  {
   "cell_type": "code",
   "execution_count": null,
   "metadata": {
    "collapsed": false
   },
   "outputs": [],
   "source": [
    "mstis.hist_args['max_lambda'] = { 'bin_width' : 0.02, 'bin_range' : (0.0, 0.5) }\n",
    "mstis.hist_args['pathlength'] = { 'bin_width' : 5, 'bin_range' : (0, 150) }"
   ]
  },
  {
   "cell_type": "code",
   "execution_count": null,
   "metadata": {
    "collapsed": true
   },
   "outputs": [],
   "source": [
    "cv = storage.cvs[0]"
   ]
  },
  {
   "cell_type": "code",
   "execution_count": null,
   "metadata": {
    "collapsed": false
   },
   "outputs": [],
   "source": [
    "storage.trajectories[200]"
   ]
  },
  {
   "cell_type": "code",
   "execution_count": null,
   "metadata": {
    "collapsed": false
   },
   "outputs": [],
   "source": [
    "len(storage.snapshots.index)"
   ]
  },
  {
   "cell_type": "code",
   "execution_count": null,
   "metadata": {
    "collapsed": false
   },
   "outputs": [],
   "source": [
    "len(storage.snapshot0)"
   ]
  },
  {
   "cell_type": "code",
   "execution_count": null,
   "metadata": {
    "collapsed": false
   },
   "outputs": [],
   "source": [
    "%%time\n",
    "cv(storage.trajectories[370])"
   ]
  },
  {
   "cell_type": "code",
   "execution_count": null,
   "metadata": {
    "collapsed": false
   },
   "outputs": [],
   "source": [
    "sum(map(len, storage.trajectories))"
   ]
  },
  {
   "cell_type": "code",
   "execution_count": null,
   "metadata": {
    "collapsed": false
   },
   "outputs": [],
   "source": [
    "q = storage.snapshots.all()"
   ]
  },
  {
   "cell_type": "code",
   "execution_count": null,
   "metadata": {
    "collapsed": false
   },
   "outputs": [],
   "source": [
    "len(q)"
   ]
  },
  {
   "cell_type": "code",
   "execution_count": null,
   "metadata": {
    "collapsed": false
   },
   "outputs": [],
   "source": [
    "for cv in storage.cvs:\n",
    "    store = cv._store_dict.value_store\n",
    "    store.cache.load_max()\n",
    "    print store.allow_partial\n",
    "    print store.chunksize\n",
    "    print cv.diskcache_enabled\n",
    "    print cv.cv_time_reversible"
   ]
  },
  {
   "cell_type": "code",
   "execution_count": null,
   "metadata": {
    "collapsed": true
   },
   "outputs": [],
   "source": [
    "cv._store_dict.value_store.cache.load_max()"
   ]
  },
  {
   "cell_type": "code",
   "execution_count": null,
   "metadata": {
    "collapsed": false
   },
   "outputs": [],
   "source": [
    "for x in range(len(q[0:19999])):\n",
    "    y = list.__getitem__(q, x)\n",
    "    print x, cv._store_dict.value_store.cache[x]"
   ]
  },
  {
   "cell_type": "code",
   "execution_count": null,
   "metadata": {
    "collapsed": false
   },
   "outputs": [],
   "source": [
    "%%prun\n",
    "_ = cv(q[0:9600])"
   ]
  },
  {
   "cell_type": "code",
   "execution_count": null,
   "metadata": {
    "collapsed": false
   },
   "outputs": [],
   "source": [
    "for cv in storage.cvs:\n",
    "    cd = cv._store_dict.value_store.cache._chunkdict\n",
    "    print cd.keys()\n",
    "    print map(len, cd.values())"
   ]
  },
  {
   "cell_type": "code",
   "execution_count": null,
   "metadata": {
    "collapsed": false
   },
   "outputs": [],
   "source": [
    "cd = cv._store_dict.value_store.cache._chunkdict\n",
    "print cd.keys()\n",
    "print map(len, cd.values())"
   ]
  },
  {
   "cell_type": "code",
   "execution_count": null,
   "metadata": {
    "collapsed": false
   },
   "outputs": [],
   "source": [
    "xx = 159\n",
    "wi = None\n",
    "print cd[xx][0:wi]\n",
    "print cv._store_dict.value_store.vars['value'][xx*100:xx*100 + (wi or 100)]\n",
    "\n",
    "storage.cvs[0]"
   ]
  },
  {
   "cell_type": "code",
   "execution_count": null,
   "metadata": {
    "collapsed": true
   },
   "outputs": [],
   "source": [
    "cv._store_dict.value_store.cache.load_max()"
   ]
  },
  {
   "cell_type": "code",
   "execution_count": null,
   "metadata": {
    "collapsed": false,
    "scrolled": true
   },
   "outputs": [],
   "source": [
    "%%time\n",
    "cv(q[0:1000])"
   ]
  },
  {
   "cell_type": "code",
   "execution_count": null,
   "metadata": {
    "collapsed": false
   },
   "outputs": [],
   "source": [
    "%%time\n",
    "mstis.rate_matrix(storage.steps)"
   ]
  },
  {
   "cell_type": "code",
   "execution_count": null,
   "metadata": {
    "collapsed": false
   },
   "outputs": [],
   "source": [
    "%%prun -s cumtime\n",
    "for t in storage.trajectories:\n",
    "    print cv(t)"
   ]
  },
  {
   "cell_type": "code",
   "execution_count": null,
   "metadata": {
    "collapsed": false
   },
   "outputs": [],
   "source": [
    "%%time\n",
    "for t in storage.trajectories:\n",
    "    q = cv(t)"
   ]
  },
  {
   "cell_type": "code",
   "execution_count": null,
   "metadata": {
    "collapsed": false
   },
   "outputs": [],
   "source": [
    "%%time\n",
    "for s in storage.snapshots.all().as_proxies():\n",
    "    cv(s)"
   ]
  },
  {
   "cell_type": "code",
   "execution_count": null,
   "metadata": {
    "collapsed": false
   },
   "outputs": [],
   "source": [
    "%%time\n",
    "ll = 0\n",
    "for step in storage.steps:\n",
    "    sset = step.active # take the sampleset after the move\n",
    "    for sample in sset:\n",
    "        ll += len(sample.trajectory)\n",
    "#        print storage.idx(sample.ensemble),\n",
    "        \n",
    "        cv(sample)\n",
    "        \n",
    "print ll"
   ]
  },
  {
   "cell_type": "code",
   "execution_count": null,
   "metadata": {
    "collapsed": false
   },
   "outputs": [],
   "source": [
    "%%prun -s cumtime\n",
    "mstis.rate_matrix(storage, force=True)"
   ]
  },
  {
   "cell_type": "markdown",
   "metadata": {
    "collapsed": true
   },
   "source": [
    "The self-rates (the rate of returning the to initial state) are undefined, and return not-a-number.\n",
    "\n",
    "The rate is calcuated according to the formula:\n",
    "\n",
    "$$k_{AB} = \\phi_{A,0} P(B|\\lambda_m) \\prod_{i=0}^{m-1} P(\\lambda_{i+1} | \\lambda_i)$$\n",
    "\n",
    "where $\\phi_{A,0}$ is the flux from state A through its innermost interface, $P(B|\\lambda_m)$ is the conditional transition probability (the probability that a path which crosses the interface at $\\lambda_m$ ends in state B), and $\\prod_{i=0}^{m-1} P(\\lambda_{i+1} | \\lambda_i)$ is the total crossing probability. We can look at each of these terms individually."
   ]
  },
  {
   "cell_type": "markdown",
   "metadata": {},
   "source": [
    "### Total crossing probability"
   ]
  },
  {
   "cell_type": "code",
   "execution_count": null,
   "metadata": {
    "collapsed": true
   },
   "outputs": [],
   "source": [
    "stateA = storage.volumes[\"A\"]\n",
    "stateB = storage.volumes[\"B\"]\n",
    "stateC = storage.volumes[\"C\"]"
   ]
  },
  {
   "cell_type": "code",
   "execution_count": null,
   "metadata": {
    "collapsed": false
   },
   "outputs": [],
   "source": [
    "tcp_AB = mstis.transitions[(stateA, stateB)].tcp\n",
    "tcp_AC = mstis.transitions[(stateA, stateC)].tcp\n",
    "tcp_BC = mstis.transitions[(stateB, stateC)].tcp\n",
    "tcp_BA = mstis.transitions[(stateB, stateA)].tcp\n",
    "tcp_CA = mstis.transitions[(stateC, stateA)].tcp\n",
    "tcp_CB = mstis.transitions[(stateC, stateB)].tcp\n",
    "\n",
    "plt.plot(tcp_AB.x, tcp_AB)\n",
    "plt.plot(tcp_CA.x, tcp_CA)\n",
    "plt.plot(tcp_BC.x, tcp_BC)\n",
    "plt.plot(tcp_AC.x, tcp_AC) # same as tcp_AB in MSTIS"
   ]
  },
  {
   "cell_type": "markdown",
   "metadata": {},
   "source": [
    "We normally look at these on a log scale:"
   ]
  },
  {
   "cell_type": "code",
   "execution_count": null,
   "metadata": {
    "collapsed": false
   },
   "outputs": [],
   "source": [
    "plt.plot(tcp_AB.x, np.log(tcp_AB))\n",
    "plt.plot(tcp_CA.x, np.log(tcp_CA))\n",
    "plt.plot(tcp_BC.x, np.log(tcp_BC))"
   ]
  },
  {
   "cell_type": "markdown",
   "metadata": {},
   "source": [
    "### Flux\n",
    "\n",
    "Here we also calculate the flux contribution to each transition. The flux is calculated based on "
   ]
  },
  {
   "cell_type": "code",
   "execution_count": null,
   "metadata": {
    "collapsed": false
   },
   "outputs": [],
   "source": [
    "import pandas as pd\n",
    "flux_matrix = pd.DataFrame(columns=mstis.states, index=mstis.states)\n",
    "for state_pair in mstis.transitions:\n",
    "    transition = mstis.transitions[state_pair]\n",
    "    flux_matrix.set_value(state_pair[0], state_pair[1], transition._flux)\n",
    "\n",
    "flux_matrix"
   ]
  },
  {
   "cell_type": "markdown",
   "metadata": {},
   "source": [
    "### Conditional transition probability"
   ]
  },
  {
   "cell_type": "code",
   "execution_count": null,
   "metadata": {
    "collapsed": false
   },
   "outputs": [],
   "source": [
    "outer_ctp_matrix = pd.DataFrame(columns=mstis.states, index=mstis.states)\n",
    "for state_pair in mstis.transitions:\n",
    "    transition = mstis.transitions[state_pair]\n",
    "    outer_ctp_matrix.set_value(state_pair[0], state_pair[1], transition.ctp[transition.ensembles[-1]])    \n",
    "\n",
    "outer_ctp_matrix"
   ]
  },
  {
   "cell_type": "code",
   "execution_count": null,
   "metadata": {
    "collapsed": false
   },
   "outputs": [],
   "source": [
    "ctp_by_interface = pd.DataFrame(index=mstis.transitions)\n",
    "for state_pair in mstis.transitions:\n",
    "    transition = mstis.transitions[state_pair]\n",
    "    for ensemble_i in range(len(transition.ensembles)):\n",
    "        ctp_by_interface.set_value(\n",
    "            state_pair, ensemble_i,\n",
    "            transition.conditional_transition_probability(\n",
    "                storage.steps,\n",
    "                transition.ensembles[ensemble_i]\n",
    "        ))\n",
    "    \n",
    "    \n",
    "ctp_by_interface  "
   ]
  },
  {
   "cell_type": "markdown",
   "metadata": {},
   "source": [
    "## Path ensemble properties"
   ]
  },
  {
   "cell_type": "code",
   "execution_count": null,
   "metadata": {
    "collapsed": true
   },
   "outputs": [],
   "source": [
    "hists_A = mstis.transitions[(stateA, stateB)].histograms\n",
    "hists_B = mstis.transitions[(stateB, stateC)].histograms\n",
    "hists_C = mstis.transitions[(stateC, stateB)].histograms"
   ]
  },
  {
   "cell_type": "markdown",
   "metadata": {},
   "source": [
    "### Interface crossing probabilities\n",
    "\n",
    "We obtain the total crossing probability, shown above, by combining the individual crossing probabilities of "
   ]
  },
  {
   "cell_type": "code",
   "execution_count": null,
   "metadata": {
    "collapsed": false
   },
   "outputs": [],
   "source": [
    "for hist in [hists_A, hists_B, hists_C]:\n",
    "    for ens in hist['max_lambda']:\n",
    "        normalized = hist['max_lambda'][ens].normalized()\n",
    "        plt.plot(normalized.x, normalized)"
   ]
  },
  {
   "cell_type": "code",
   "execution_count": null,
   "metadata": {
    "collapsed": true
   },
   "outputs": [],
   "source": [
    "# add visualization of the sum"
   ]
  },
  {
   "cell_type": "code",
   "execution_count": null,
   "metadata": {
    "collapsed": false,
    "scrolled": true
   },
   "outputs": [],
   "source": [
    "for hist in [hists_A, hists_B, hists_C]:\n",
    "    for ens in hist['max_lambda']:\n",
    "        reverse_cumulative = hist['max_lambda'][ens].reverse_cumulative()\n",
    "        plt.plot(reverse_cumulative.x, reverse_cumulative)"
   ]
  },
  {
   "cell_type": "code",
   "execution_count": null,
   "metadata": {
    "collapsed": false
   },
   "outputs": [],
   "source": [
    "for hist in [hists_A, hists_B, hists_C]:\n",
    "    for ens in hist['max_lambda']:\n",
    "        reverse_cumulative = hist['max_lambda'][ens].reverse_cumulative()\n",
    "        plt.plot(reverse_cumulative.x, np.log(reverse_cumulative))"
   ]
  },
  {
   "cell_type": "markdown",
   "metadata": {},
   "source": [
    "### Path length histograms"
   ]
  },
  {
   "cell_type": "code",
   "execution_count": null,
   "metadata": {
    "collapsed": false
   },
   "outputs": [],
   "source": [
    "for hist in [hists_A, hists_B, hists_C]:\n",
    "    for ens in hist['pathlength']:\n",
    "        normalized = hist['pathlength'][ens].normalized()\n",
    "        plt.plot(normalized.x, normalized)"
   ]
  },
  {
   "cell_type": "code",
   "execution_count": null,
   "metadata": {
    "collapsed": false
   },
   "outputs": [],
   "source": [
    "for ens in hists_A['pathlength']:\n",
    "    normalized = hists_A['pathlength'][ens].normalized()\n",
    "    plt.plot(normalized.x, normalized)"
   ]
  },
  {
   "cell_type": "markdown",
   "metadata": {},
   "source": [
    "## Sampling properties\n",
    "\n",
    "The properties we illustrated above were properties of the path ensembles. If your path ensembles are sufficiently well-sampled, these will never depend on how you sample them.\n",
    "\n",
    "But to figure out whether you've done a good job of sampling, you often want to look at properties related to the sampling process. OPS also makes these very easy."
   ]
  },
  {
   "cell_type": "code",
   "execution_count": null,
   "metadata": {
    "collapsed": true
   },
   "outputs": [],
   "source": []
  },
  {
   "cell_type": "markdown",
   "metadata": {},
   "source": [
    "### Move scheme analysis"
   ]
  },
  {
   "cell_type": "code",
   "execution_count": null,
   "metadata": {
    "collapsed": false,
    "scrolled": true
   },
   "outputs": [],
   "source": [
    "scheme = storage.schemes[0]"
   ]
  },
  {
   "cell_type": "code",
   "execution_count": null,
   "metadata": {
    "collapsed": false
   },
   "outputs": [],
   "source": [
    "scheme.move_summary(storage.steps)"
   ]
  },
  {
   "cell_type": "code",
   "execution_count": null,
   "metadata": {
    "collapsed": false
   },
   "outputs": [],
   "source": [
    "scheme.move_summary(storage.steps, 'shooting')"
   ]
  },
  {
   "cell_type": "code",
   "execution_count": null,
   "metadata": {
    "collapsed": false
   },
   "outputs": [],
   "source": [
    "scheme.move_summary(storage.steps, 'minus')"
   ]
  },
  {
   "cell_type": "code",
   "execution_count": null,
   "metadata": {
    "collapsed": false
   },
   "outputs": [],
   "source": [
    "scheme.move_summary(storage.steps, 'repex')"
   ]
  },
  {
   "cell_type": "code",
   "execution_count": null,
   "metadata": {
    "collapsed": false
   },
   "outputs": [],
   "source": [
    "scheme.move_summary(storage.steps, 'pathreversal')"
   ]
  },
  {
   "cell_type": "markdown",
   "metadata": {},
   "source": [
    "### Replica exchange sampling\n",
    "\n",
    "See the notebook `repex_networks.ipynb` for more details on tools to study the convergence of replica exchange. However, a few simple examples are shown here. All of these are analyzed with a separate object, `ReplicaNetwork`."
   ]
  },
  {
   "cell_type": "code",
   "execution_count": null,
   "metadata": {
    "collapsed": true
   },
   "outputs": [],
   "source": [
    "repx_net = paths.ReplicaNetwork(scheme, storage.steps)"
   ]
  },
  {
   "cell_type": "markdown",
   "metadata": {},
   "source": [
    "#### Replica exchange mixing matrix"
   ]
  },
  {
   "cell_type": "code",
   "execution_count": null,
   "metadata": {
    "collapsed": false
   },
   "outputs": [],
   "source": [
    "repx_net.mixing_matrix()"
   ]
  },
  {
   "cell_type": "markdown",
   "metadata": {},
   "source": [
    "#### Replica exchange graph\n",
    "\n",
    "The mixing matrix tells a story of how well various interfaces are connected to other interfaces. The replica exchange graph is essentially a visualization of the mixing matrix (actually, of the transition matrix -- the mixing matrix is a symmetrized version of the transition matrix).\n",
    "\n",
    "Note: We're still developing better layout tools to visualize these."
   ]
  },
  {
   "cell_type": "code",
   "execution_count": null,
   "metadata": {
    "collapsed": false
   },
   "outputs": [],
   "source": [
    "repxG = paths.ReplicaNetworkGraph(repx_net)\n",
    "repxG.draw('spring')"
   ]
  },
  {
   "cell_type": "markdown",
   "metadata": {},
   "source": [
    "#### Replica exchange flow\n",
    "\n",
    "Replica flow is defined as ***TODO***\n",
    "\n",
    "Flow is designed for calculations where the replica exchange graph is linear, which ours clearly is not. However, we can define the flow over a subset of the interfaces."
   ]
  },
  {
   "cell_type": "code",
   "execution_count": null,
   "metadata": {
    "collapsed": true
   },
   "outputs": [],
   "source": []
  },
  {
   "cell_type": "markdown",
   "metadata": {},
   "source": [
    "### Replica move history tree"
   ]
  },
  {
   "cell_type": "code",
   "execution_count": null,
   "metadata": {
    "collapsed": true
   },
   "outputs": [],
   "source": [
    "import openpathsampling.visualize as vis\n",
    "reload(vis)\n",
    "from IPython.display import SVG"
   ]
  },
  {
   "cell_type": "code",
   "execution_count": null,
   "metadata": {
    "collapsed": false,
    "scrolled": false
   },
   "outputs": [],
   "source": [
    "tree = vis.PathTree(\n",
    "    storage.steps[0:200],\n",
    "    vis.ReplicaEvolution(replica=2, accepted=False)\n",
    ")\n",
    "\n",
    "SVG(tree.svg())"
   ]
  },
  {
   "cell_type": "code",
   "execution_count": null,
   "metadata": {
    "collapsed": false
   },
   "outputs": [],
   "source": [
    "decorrelated = tree.generator.decorrelated\n",
    "print \"We have \" + str(len(decorrelated)) + \" decorrelated trajectories.\""
   ]
  },
  {
   "cell_type": "markdown",
   "metadata": {},
   "source": [
    "### Visualizing trajectories"
   ]
  },
  {
   "cell_type": "code",
   "execution_count": null,
   "metadata": {
    "collapsed": false
   },
   "outputs": [],
   "source": [
    "from toy_plot_helpers import ToyPlot\n",
    "background = ToyPlot()\n",
    "background.contour_range = np.arange(-1.5, 1.0, 0.1)\n",
    "background.add_pes(storage.engines[0].pes)"
   ]
  },
  {
   "cell_type": "code",
   "execution_count": null,
   "metadata": {
    "collapsed": false
   },
   "outputs": [],
   "source": [
    "xval = paths.CV_Function(\"xval\", lambda snap : snap.xyz[0][0])\n",
    "yval = paths.CV_Function(\"yval\", lambda snap : snap.xyz[0][1])\n",
    "live_vis = paths.LiveVisualization(mstis, xval, yval, [-1.0, 1.0], [-1.0, 1.0])\n",
    "live_vis.background = background.plot()"
   ]
  },
  {
   "cell_type": "code",
   "execution_count": null,
   "metadata": {
    "collapsed": false
   },
   "outputs": [],
   "source": [
    "live_vis.draw_samples(list(tree.samples))"
   ]
  },
  {
   "cell_type": "markdown",
   "metadata": {},
   "source": [
    "## Histogramming data (TODO)"
   ]
  },
  {
   "cell_type": "code",
   "execution_count": null,
   "metadata": {
    "collapsed": false
   },
   "outputs": [],
   "source": [
    "#! skip\n",
    "# The skip directive tells our test runner not to run this cell\n",
    "import time\n",
    "max_step = 10\n",
    "for step in storage.steps[0:max_step]:\n",
    "    live_vis.draw_ipynb(step)\n",
    "    time.sleep(0.1)"
   ]
  },
  {
   "cell_type": "code",
   "execution_count": null,
   "metadata": {
    "collapsed": true
   },
   "outputs": [],
   "source": []
  }
 ],
 "metadata": {
  "kernelspec": {
   "display_name": "Python 2",
   "language": "python",
   "name": "python2"
  },
  "language_info": {
   "codemirror_mode": {
    "name": "ipython",
    "version": 2
   },
   "file_extension": ".py",
   "mimetype": "text/x-python",
   "name": "python",
   "nbconvert_exporter": "python",
   "pygments_lexer": "ipython2",
   "version": "2.7.11"
  }
 },
 "nbformat": 4,
 "nbformat_minor": 0
}

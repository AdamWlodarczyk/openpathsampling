{
 "cells": [
  {
   "cell_type": "code",
   "execution_count": 1,
   "metadata": {
    "collapsed": false
   },
   "outputs": [],
   "source": [
    "%matplotlib inline\n",
    "import matplotlib.pyplot as plt\n",
    "import openpathsampling as paths\n",
    "import numpy as np\n",
    "\n",
    "storage = paths.storage.Storage(\"mstis.nc\")"
   ]
  },
  {
   "cell_type": "code",
   "execution_count": 19,
   "metadata": {
    "collapsed": false,
    "scrolled": true
   },
   "outputs": [],
   "source": [
    "mstis = storage.networks.load(0)"
   ]
  },
  {
   "cell_type": "markdown",
   "metadata": {},
   "source": [
    "## Reaction rates\n",
    "\n",
    "TIS methods are especially good at determining reaction rates, and OPS makes it extremely easy to obtain the rate from a TIS network.\n",
    "\n",
    "Note that, although the rate shows up quickly, it is very important to look at other results of the sampling (illustrated in this notebook and in notebooks referred to herein) in order to check the validity of the rates you obtain."
   ]
  },
  {
   "cell_type": "code",
   "execution_count": 4,
   "metadata": {
    "collapsed": false
   },
   "outputs": [],
   "source": [
    "mstis.hist_args['max_lambda'] = { 'bin_width' : 0.02, 'bin_range' : (0.0, 0.5) }\n",
    "mstis.hist_args['pathlength'] = { 'bin_width' : 5, 'bin_range' : (0, 150) }"
   ]
  },
  {
   "cell_type": "code",
   "execution_count": 6,
   "metadata": {
    "collapsed": false
   },
   "outputs": [
    {
     "data": {
      "text/html": [
       "<div>\n",
       "<table border=\"1\" class=\"dataframe\">\n",
       "  <thead>\n",
       "    <tr style=\"text-align: right;\">\n",
       "      <th></th>\n",
       "      <th>{x|opA(x) in [0.0, 0.04]}</th>\n",
       "      <th>{x|opB(x) in [0.0, 0.04]}</th>\n",
       "      <th>{x|opC(x) in [0.0, 0.04]}</th>\n",
       "    </tr>\n",
       "  </thead>\n",
       "  <tbody>\n",
       "    <tr>\n",
       "      <th>{x|opA(x) in [0.0, 0.04]}</th>\n",
       "      <td>NaN</td>\n",
       "      <td>2.468256e-05</td>\n",
       "      <td>0.0003673904</td>\n",
       "    </tr>\n",
       "    <tr>\n",
       "      <th>{x|opB(x) in [0.0, 0.04]}</th>\n",
       "      <td>0.0002352853</td>\n",
       "      <td>NaN</td>\n",
       "      <td>0.0001772826</td>\n",
       "    </tr>\n",
       "    <tr>\n",
       "      <th>{x|opC(x) in [0.0, 0.04]}</th>\n",
       "      <td>9.007941e-05</td>\n",
       "      <td>5.874744e-06</td>\n",
       "      <td>NaN</td>\n",
       "    </tr>\n",
       "  </tbody>\n",
       "</table>\n",
       "</div>"
      ],
      "text/plain": [
       "                          {x|opA(x) in [0.0, 0.04]} {x|opB(x) in [0.0, 0.04]}  \\\n",
       "{x|opA(x) in [0.0, 0.04]}                       NaN              2.468256e-05   \n",
       "{x|opB(x) in [0.0, 0.04]}              0.0002352853                       NaN   \n",
       "{x|opC(x) in [0.0, 0.04]}              9.007941e-05              5.874744e-06   \n",
       "\n",
       "                          {x|opC(x) in [0.0, 0.04]}  \n",
       "{x|opA(x) in [0.0, 0.04]}              0.0003673904  \n",
       "{x|opB(x) in [0.0, 0.04]}              0.0001772826  \n",
       "{x|opC(x) in [0.0, 0.04]}                       NaN  "
      ]
     },
     "execution_count": 6,
     "metadata": {},
     "output_type": "execute_result"
    }
   ],
   "source": [
    "mstis.rate_matrix(storage)"
   ]
  },
  {
   "cell_type": "markdown",
   "metadata": {
    "collapsed": true
   },
   "source": [
    "The self-rates (the rate of returning the to initial state) are undefined, and return not-a-number.\n",
    "\n",
    "The rate is calcuated according to the formula:\n",
    "\n",
    "$$k_{AB} = \\phi_{A,0} P(B|\\lambda_m) \\prod_{i=0}^{m-1} P(\\lambda_{i+1} | \\lambda_i)$$\n",
    "\n",
    "where $\\phi_{A,0}$ is the flux from state A through its innermost interface, $P(B|\\lambda_m)$ is the conditional transition probability (the probability that a path which crosses the interface at $\\lambda_m$ ends in state B), and $\\prod_{i=0}^{m-1} P(\\lambda_{i+1} | \\lambda_i)$ is the total crossing probability. We can look at each of these terms individually."
   ]
  },
  {
   "cell_type": "markdown",
   "metadata": {},
   "source": [
    "### Total crossing probability"
   ]
  },
  {
   "cell_type": "code",
   "execution_count": 24,
   "metadata": {
    "collapsed": true
   },
   "outputs": [],
   "source": [
    "stateA = storage.volumes.find_first(\"A\")\n",
    "stateB = storage.volumes.find_first(\"B\")\n",
    "stateC = storage.volumes.find_first(\"C\")"
   ]
  },
  {
   "cell_type": "code",
   "execution_count": 22,
   "metadata": {
    "collapsed": false
   },
   "outputs": [
    {
     "data": {
      "text/plain": [
       "[<matplotlib.lines.Line2D at 0x112ce5590>]"
      ]
     },
     "execution_count": 22,
     "metadata": {},
     "output_type": "execute_result"
    },
    {
     "data": {
      "image/png": "[encoded data removed]",
      "text/plain": [
       "<matplotlib.figure.Figure at 0x112b1f190>"
      ]
     },
     "metadata": {},
     "output_type": "display_data"
    }
   ],
   "source": [
    "tcp_AB = mstis.transitions[(stateA, stateB)].tcp\n",
    "tcp_AC = mstis.transitions[(stateA, stateC)].tcp\n",
    "tcp_BC = mstis.transitions[(stateB, stateC)].tcp\n",
    "tcp_BA = mstis.transitions[(stateB, stateA)].tcp\n",
    "tcp_CA = mstis.transitions[(stateC, stateA)].tcp\n",
    "tcp_CB = mstis.transitions[(stateC, stateB)].tcp\n",
    "\n",
    "plt.plot(tcp_AB.x, tcp_AB)\n",
    "plt.plot(tcp_CA.x, tcp_CA)\n",
    "plt.plot(tcp_BC.x, tcp_BC)\n",
    "plt.plot(tcp_AC.x, tcp_AC) # same as tcp_AB in MSTIS"
   ]
  },
  {
   "cell_type": "markdown",
   "metadata": {},
   "source": [
    "We normally look at these on a log scale:"
   ]
  },
  {
   "cell_type": "code",
   "execution_count": 23,
   "metadata": {
    "collapsed": false
   },
   "outputs": [
    {
     "data": {
      "text/plain": [
       "[<matplotlib.lines.Line2D at 0x112de9e50>]"
      ]
     },
     "execution_count": 23,
     "metadata": {},
     "output_type": "execute_result"
    },
    {
     "data": {
      "image/png": "[encoded data removed]",
      "text/plain": [
       "<matplotlib.figure.Figure at 0x112bddd50>"
      ]
     },
     "metadata": {},
     "output_type": "display_data"
    }
   ],
   "source": [
    "plt.plot(tcp_AB.x, np.log(tcp_AB))\n",
    "plt.plot(tcp_CA.x, np.log(tcp_CA))\n",
    "plt.plot(tcp_BC.x, np.log(tcp_BC))"
   ]
  },
  {
   "cell_type": "markdown",
   "metadata": {},
   "source": [
    "### Flux"
   ]
  },
  {
   "cell_type": "code",
   "execution_count": 61,
   "metadata": {
    "collapsed": false
   },
   "outputs": [
    {
     "data": {
      "text/html": [
       "<div>\n",
       "<table border=\"1\" class=\"dataframe\">\n",
       "  <thead>\n",
       "    <tr style=\"text-align: right;\">\n",
       "      <th></th>\n",
       "      <th>{x|opA(x) in [0.0, 0.04]}</th>\n",
       "      <th>{x|opB(x) in [0.0, 0.04]}</th>\n",
       "      <th>{x|opC(x) in [0.0, 0.04]}</th>\n",
       "    </tr>\n",
       "  </thead>\n",
       "  <tbody>\n",
       "    <tr>\n",
       "      <th>{x|opA(x) in [0.0, 0.04]}</th>\n",
       "      <td>NaN</td>\n",
       "      <td>0.01865672</td>\n",
       "      <td>0.01865672</td>\n",
       "    </tr>\n",
       "    <tr>\n",
       "      <th>{x|opB(x) in [0.0, 0.04]}</th>\n",
       "      <td>0.02152522</td>\n",
       "      <td>NaN</td>\n",
       "      <td>0.02152522</td>\n",
       "    </tr>\n",
       "    <tr>\n",
       "      <th>{x|opC(x) in [0.0, 0.04]}</th>\n",
       "      <td>0.01911765</td>\n",
       "      <td>0.01911765</td>\n",
       "      <td>NaN</td>\n",
       "    </tr>\n",
       "  </tbody>\n",
       "</table>\n",
       "</div>"
      ],
      "text/plain": [
       "                          {x|opA(x) in [0.0, 0.04]} {x|opB(x) in [0.0, 0.04]}  \\\n",
       "{x|opA(x) in [0.0, 0.04]}                       NaN                0.01865672   \n",
       "{x|opB(x) in [0.0, 0.04]}                0.02152522                       NaN   \n",
       "{x|opC(x) in [0.0, 0.04]}                0.01911765                0.01911765   \n",
       "\n",
       "                          {x|opC(x) in [0.0, 0.04]}  \n",
       "{x|opA(x) in [0.0, 0.04]}                0.01865672  \n",
       "{x|opB(x) in [0.0, 0.04]}                0.02152522  \n",
       "{x|opC(x) in [0.0, 0.04]}                       NaN  "
      ]
     },
     "execution_count": 61,
     "metadata": {},
     "output_type": "execute_result"
    }
   ],
   "source": [
    "import pandas as pd\n",
    "flux_matrix = pd.DataFrame(columns=mstis.states, index=mstis.states)\n",
    "for state_pair in mstis.transitions:\n",
    "    transition = mstis.transitions[state_pair]\n",
    "    flux_matrix.set_value(state_pair[0], state_pair[1], transition._flux)\n",
    "\n",
    "flux_matrix"
   ]
  },
  {
   "cell_type": "markdown",
   "metadata": {},
   "source": [
    "### Conditional transition probability"
   ]
  },
  {
   "cell_type": "code",
   "execution_count": 54,
   "metadata": {
    "collapsed": false
   },
   "outputs": [
    {
     "data": {
      "text/html": [
       "<div>\n",
       "<table border=\"1\" class=\"dataframe\">\n",
       "  <thead>\n",
       "    <tr style=\"text-align: right;\">\n",
       "      <th></th>\n",
       "      <th>{x|opA(x) in [0.0, 0.04]}</th>\n",
       "      <th>{x|opB(x) in [0.0, 0.04]}</th>\n",
       "      <th>{x|opC(x) in [0.0, 0.04]}</th>\n",
       "    </tr>\n",
       "  </thead>\n",
       "  <tbody>\n",
       "    <tr>\n",
       "      <th>{x|opA(x) in [0.0, 0.04]}</th>\n",
       "      <td>NaN</td>\n",
       "      <td>0.026</td>\n",
       "      <td>0.387</td>\n",
       "    </tr>\n",
       "    <tr>\n",
       "      <th>{x|opB(x) in [0.0, 0.04]}</th>\n",
       "      <td>0.2515</td>\n",
       "      <td>NaN</td>\n",
       "      <td>0.1895</td>\n",
       "    </tr>\n",
       "    <tr>\n",
       "      <th>{x|opC(x) in [0.0, 0.04]}</th>\n",
       "      <td>0.092</td>\n",
       "      <td>0.006</td>\n",
       "      <td>NaN</td>\n",
       "    </tr>\n",
       "  </tbody>\n",
       "</table>\n",
       "</div>"
      ],
      "text/plain": [
       "                          {x|opA(x) in [0.0, 0.04]} {x|opB(x) in [0.0, 0.04]}  \\\n",
       "{x|opA(x) in [0.0, 0.04]}                       NaN                     0.026   \n",
       "{x|opB(x) in [0.0, 0.04]}                    0.2515                       NaN   \n",
       "{x|opC(x) in [0.0, 0.04]}                     0.092                     0.006   \n",
       "\n",
       "                          {x|opC(x) in [0.0, 0.04]}  \n",
       "{x|opA(x) in [0.0, 0.04]}                     0.387  \n",
       "{x|opB(x) in [0.0, 0.04]}                    0.1895  \n",
       "{x|opC(x) in [0.0, 0.04]}                       NaN  "
      ]
     },
     "execution_count": 54,
     "metadata": {},
     "output_type": "execute_result"
    }
   ],
   "source": [
    "outer_ctp_matrix = pd.DataFrame(columns=mstis.states, index=mstis.states)\n",
    "for state_pair in mstis.transitions:\n",
    "    transition = mstis.transitions[state_pair]\n",
    "    outer_ctp_matrix.set_value(state_pair[0], state_pair[1], transition.ctp[transition.ensembles[-1]])    \n",
    "\n",
    "outer_ctp_matrix"
   ]
  },
  {
   "cell_type": "code",
   "execution_count": 60,
   "metadata": {
    "collapsed": false
   },
   "outputs": [
    {
     "data": {
      "text/html": [
       "<div>\n",
       "<table border=\"1\" class=\"dataframe\">\n",
       "  <thead>\n",
       "    <tr style=\"text-align: right;\">\n",
       "      <th></th>\n",
       "      <th>0</th>\n",
       "      <th>1</th>\n",
       "      <th>2</th>\n",
       "    </tr>\n",
       "  </thead>\n",
       "  <tbody>\n",
       "    <tr>\n",
       "      <th>({x|opB(x) in [0.0, 0.04]}, {x|opC(x) in [0.0, 0.04]})</th>\n",
       "      <td>0.0040</td>\n",
       "      <td>0.0185</td>\n",
       "      <td>0.1895</td>\n",
       "    </tr>\n",
       "    <tr>\n",
       "      <th>({x|opA(x) in [0.0, 0.04]}, {x|opC(x) in [0.0, 0.04]})</th>\n",
       "      <td>0.0075</td>\n",
       "      <td>0.2135</td>\n",
       "      <td>0.3870</td>\n",
       "    </tr>\n",
       "    <tr>\n",
       "      <th>({x|opC(x) in [0.0, 0.04]}, {x|opB(x) in [0.0, 0.04]})</th>\n",
       "      <td>0.0000</td>\n",
       "      <td>0.0000</td>\n",
       "      <td>0.0060</td>\n",
       "    </tr>\n",
       "    <tr>\n",
       "      <th>({x|opA(x) in [0.0, 0.04]}, {x|opB(x) in [0.0, 0.04]})</th>\n",
       "      <td>0.0210</td>\n",
       "      <td>0.0645</td>\n",
       "      <td>0.0260</td>\n",
       "    </tr>\n",
       "    <tr>\n",
       "      <th>({x|opC(x) in [0.0, 0.04]}, {x|opA(x) in [0.0, 0.04]})</th>\n",
       "      <td>0.0000</td>\n",
       "      <td>0.0840</td>\n",
       "      <td>0.0920</td>\n",
       "    </tr>\n",
       "    <tr>\n",
       "      <th>({x|opB(x) in [0.0, 0.04]}, {x|opA(x) in [0.0, 0.04]})</th>\n",
       "      <td>0.0420</td>\n",
       "      <td>0.0480</td>\n",
       "      <td>0.2515</td>\n",
       "    </tr>\n",
       "  </tbody>\n",
       "</table>\n",
       "</div>"
      ],
      "text/plain": [
       "                                                         0       1       2\n",
       "({x|opB(x) in [0.0, 0.04]}, {x|opC(x) in [0.0, ...  0.0040  0.0185  0.1895\n",
       "({x|opA(x) in [0.0, 0.04]}, {x|opC(x) in [0.0, ...  0.0075  0.2135  0.3870\n",
       "({x|opC(x) in [0.0, 0.04]}, {x|opB(x) in [0.0, ...  0.0000  0.0000  0.0060\n",
       "({x|opA(x) in [0.0, 0.04]}, {x|opB(x) in [0.0, ...  0.0210  0.0645  0.0260\n",
       "({x|opC(x) in [0.0, 0.04]}, {x|opA(x) in [0.0, ...  0.0000  0.0840  0.0920\n",
       "({x|opB(x) in [0.0, 0.04]}, {x|opA(x) in [0.0, ...  0.0420  0.0480  0.2515"
      ]
     },
     "execution_count": 60,
     "metadata": {},
     "output_type": "execute_result"
    }
   ],
   "source": [
    "ctp_by_interface = pd.DataFrame(index=mstis.transitions)\n",
    "for state_pair in mstis.transitions:\n",
    "    transition = mstis.transitions[state_pair]\n",
    "    for ensemble_i in range(len(transition.ensembles)):\n",
    "        ctp_by_interface.set_value(\n",
    "            state_pair, ensemble_i,\n",
    "            transition.conditional_transition_probability(\n",
    "                storage,\n",
    "                transition.ensembles[ensemble_i]\n",
    "        ))\n",
    "    \n",
    "    \n",
    "ctp_by_interface  "
   ]
  },
  {
   "cell_type": "markdown",
   "metadata": {},
   "source": [
    "## Path ensemble properties"
   ]
  },
  {
   "cell_type": "code",
   "execution_count": 73,
   "metadata": {
    "collapsed": true
   },
   "outputs": [],
   "source": [
    "hists_A = mstis.transitions[(stateA, stateB)].histograms\n",
    "hists_B = mstis.transitions[(stateB, stateC)].histograms\n",
    "hists_C = mstis.transitions[(stateC, stateB)].histograms"
   ]
  },
  {
   "cell_type": "markdown",
   "metadata": {},
   "source": [
    "### Interface crossing probabilities\n",
    "\n",
    "We obtain the total crossing probability, shown above, by combining the individual crossing probabilities of "
   ]
  },
  {
   "cell_type": "code",
   "execution_count": 76,
   "metadata": {
    "collapsed": false
   },
   "outputs": [
    {
     "data": {
      "image/png": "[encoded data removed]",
      "text/plain": [
       "<matplotlib.figure.Figure at 0x1139db3d0>"
      ]
     },
     "metadata": {},
     "output_type": "display_data"
    }
   ],
   "source": [
    "for hist in [hists_A, hists_B, hists_C]:\n",
    "    for ens in hist['max_lambda']:\n",
    "        normalized = hist['max_lambda'][ens].normalized()\n",
    "        plt.plot(normalized.x, normalized)"
   ]
  },
  {
   "cell_type": "code",
   "execution_count": 79,
   "metadata": {
    "collapsed": false,
    "scrolled": true
   },
   "outputs": [
    {
     "data": {
      "image/png": "[encoded data removed]",
      "text/plain": [
       "<matplotlib.figure.Figure at 0x113e32c90>"
      ]
     },
     "metadata": {},
     "output_type": "display_data"
    }
   ],
   "source": [
    "for hist in [hists_A, hists_B, hists_C]:\n",
    "    for ens in hist['max_lambda']:\n",
    "        reverse_cumulative = hist['max_lambda'][ens].reverse_cumulative()\n",
    "        plt.plot(reverse_cumulative.x, reverse_cumulative)"
   ]
  },
  {
   "cell_type": "code",
   "execution_count": 80,
   "metadata": {
    "collapsed": false
   },
   "outputs": [
    {
     "data": {
      "image/png": "[encoded data removed]",
      "text/plain": [
       "<matplotlib.figure.Figure at 0x113f7f890>"
      ]
     },
     "metadata": {},
     "output_type": "display_data"
    }
   ],
   "source": [
    "for hist in [hists_A, hists_B, hists_C]:\n",
    "    for ens in hist['max_lambda']:\n",
    "        reverse_cumulative = hist['max_lambda'][ens].reverse_cumulative()\n",
    "        plt.plot(reverse_cumulative.x, np.log(reverse_cumulative))"
   ]
  },
  {
   "cell_type": "markdown",
   "metadata": {},
   "source": [
    "### Path length histograms"
   ]
  },
  {
   "cell_type": "code",
   "execution_count": null,
   "metadata": {
    "collapsed": true
   },
   "outputs": [],
   "source": []
  },
  {
   "cell_type": "markdown",
   "metadata": {},
   "source": [
    "## Sampling properties"
   ]
  },
  {
   "cell_type": "code",
   "execution_count": null,
   "metadata": {
    "collapsed": true
   },
   "outputs": [],
   "source": []
  },
  {
   "cell_type": "markdown",
   "metadata": {},
   "source": [
    "### Move scheme analysis"
   ]
  },
  {
   "cell_type": "code",
   "execution_count": null,
   "metadata": {
    "collapsed": true
   },
   "outputs": [],
   "source": []
  },
  {
   "cell_type": "markdown",
   "metadata": {},
   "source": [
    "### Replica exchange sampling\n",
    "\n",
    "See the notebook `repex_networks.ipynb` for more details on tools to study the convergence of replica exchange. However, a few simple examples are shown here. All of these are analyzed with a separate object, `ReplicaNetwork`."
   ]
  },
  {
   "cell_type": "code",
   "execution_count": 30,
   "metadata": {
    "collapsed": true
   },
   "outputs": [],
   "source": [
    "repx_net = paths.ReplicaNetwork(storage=storage)"
   ]
  },
  {
   "cell_type": "markdown",
   "metadata": {},
   "source": [
    "#### Replica exchange mixing matrix"
   ]
  },
  {
   "cell_type": "code",
   "execution_count": 34,
   "metadata": {
    "collapsed": false
   },
   "outputs": [
    {
     "data": {
      "text/html": [
       "<div>\n",
       "<table border=\"1\" class=\"dataframe\">\n",
       "  <thead>\n",
       "    <tr style=\"text-align: right;\">\n",
       "      <th></th>\n",
       "      <th>-3</th>\n",
       "      <th>-2</th>\n",
       "      <th>6</th>\n",
       "      <th>2</th>\n",
       "      <th>3</th>\n",
       "      <th>7</th>\n",
       "      <th>4</th>\n",
       "      <th>5</th>\n",
       "      <th>9</th>\n",
       "      <th>1</th>\n",
       "      <th>8</th>\n",
       "      <th>0</th>\n",
       "      <th>-1</th>\n",
       "    </tr>\n",
       "  </thead>\n",
       "  <tbody>\n",
       "    <tr>\n",
       "      <th>-3</th>\n",
       "      <td>0.000000</td>\n",
       "      <td>0.000000</td>\n",
       "      <td>0.022375</td>\n",
       "      <td>0.000000</td>\n",
       "      <td>0.000000</td>\n",
       "      <td>0.000000</td>\n",
       "      <td>0.000000</td>\n",
       "      <td>0.000000</td>\n",
       "      <td>0.000000</td>\n",
       "      <td>0.000000</td>\n",
       "      <td>0.000000</td>\n",
       "      <td>0.000000</td>\n",
       "      <td>0.000000</td>\n",
       "    </tr>\n",
       "    <tr>\n",
       "      <th>-2</th>\n",
       "      <td>0.000000</td>\n",
       "      <td>0.000000</td>\n",
       "      <td>0.000000</td>\n",
       "      <td>0.024096</td>\n",
       "      <td>0.000000</td>\n",
       "      <td>0.000000</td>\n",
       "      <td>0.000000</td>\n",
       "      <td>0.000000</td>\n",
       "      <td>0.000000</td>\n",
       "      <td>0.000000</td>\n",
       "      <td>0.000000</td>\n",
       "      <td>0.000000</td>\n",
       "      <td>0.000000</td>\n",
       "    </tr>\n",
       "    <tr>\n",
       "      <th>6</th>\n",
       "      <td>0.022375</td>\n",
       "      <td>0.000000</td>\n",
       "      <td>0.000000</td>\n",
       "      <td>0.000000</td>\n",
       "      <td>0.020654</td>\n",
       "      <td>0.000000</td>\n",
       "      <td>0.000000</td>\n",
       "      <td>0.000000</td>\n",
       "      <td>0.000000</td>\n",
       "      <td>0.000000</td>\n",
       "      <td>0.000000</td>\n",
       "      <td>0.000000</td>\n",
       "      <td>0.000000</td>\n",
       "    </tr>\n",
       "    <tr>\n",
       "      <th>2</th>\n",
       "      <td>0.000000</td>\n",
       "      <td>0.024096</td>\n",
       "      <td>0.000000</td>\n",
       "      <td>0.000000</td>\n",
       "      <td>0.000000</td>\n",
       "      <td>0.018933</td>\n",
       "      <td>0.000000</td>\n",
       "      <td>0.000000</td>\n",
       "      <td>0.000000</td>\n",
       "      <td>0.000000</td>\n",
       "      <td>0.000000</td>\n",
       "      <td>0.000000</td>\n",
       "      <td>0.000000</td>\n",
       "    </tr>\n",
       "    <tr>\n",
       "      <th>3</th>\n",
       "      <td>0.000000</td>\n",
       "      <td>0.000000</td>\n",
       "      <td>0.020654</td>\n",
       "      <td>0.000000</td>\n",
       "      <td>0.000000</td>\n",
       "      <td>0.000000</td>\n",
       "      <td>0.017212</td>\n",
       "      <td>0.000000</td>\n",
       "      <td>0.000000</td>\n",
       "      <td>0.000000</td>\n",
       "      <td>0.000000</td>\n",
       "      <td>0.000000</td>\n",
       "      <td>0.000000</td>\n",
       "    </tr>\n",
       "    <tr>\n",
       "      <th>7</th>\n",
       "      <td>0.000000</td>\n",
       "      <td>0.000000</td>\n",
       "      <td>0.000000</td>\n",
       "      <td>0.018933</td>\n",
       "      <td>0.000000</td>\n",
       "      <td>0.000000</td>\n",
       "      <td>0.000000</td>\n",
       "      <td>0.013769</td>\n",
       "      <td>0.000000</td>\n",
       "      <td>0.000000</td>\n",
       "      <td>0.000000</td>\n",
       "      <td>0.000000</td>\n",
       "      <td>0.000000</td>\n",
       "    </tr>\n",
       "    <tr>\n",
       "      <th>4</th>\n",
       "      <td>0.000000</td>\n",
       "      <td>0.000000</td>\n",
       "      <td>0.000000</td>\n",
       "      <td>0.000000</td>\n",
       "      <td>0.017212</td>\n",
       "      <td>0.000000</td>\n",
       "      <td>0.000000</td>\n",
       "      <td>0.000000</td>\n",
       "      <td>0.072289</td>\n",
       "      <td>0.000000</td>\n",
       "      <td>0.000000</td>\n",
       "      <td>0.000000</td>\n",
       "      <td>0.000000</td>\n",
       "    </tr>\n",
       "    <tr>\n",
       "      <th>5</th>\n",
       "      <td>0.000000</td>\n",
       "      <td>0.000000</td>\n",
       "      <td>0.000000</td>\n",
       "      <td>0.000000</td>\n",
       "      <td>0.000000</td>\n",
       "      <td>0.013769</td>\n",
       "      <td>0.000000</td>\n",
       "      <td>0.000000</td>\n",
       "      <td>0.006885</td>\n",
       "      <td>0.000000</td>\n",
       "      <td>0.000000</td>\n",
       "      <td>0.000000</td>\n",
       "      <td>0.000000</td>\n",
       "    </tr>\n",
       "    <tr>\n",
       "      <th>9</th>\n",
       "      <td>0.000000</td>\n",
       "      <td>0.000000</td>\n",
       "      <td>0.000000</td>\n",
       "      <td>0.000000</td>\n",
       "      <td>0.000000</td>\n",
       "      <td>0.000000</td>\n",
       "      <td>0.072289</td>\n",
       "      <td>0.006885</td>\n",
       "      <td>0.000000</td>\n",
       "      <td>0.012048</td>\n",
       "      <td>0.000000</td>\n",
       "      <td>0.000000</td>\n",
       "      <td>0.000000</td>\n",
       "    </tr>\n",
       "    <tr>\n",
       "      <th>1</th>\n",
       "      <td>0.000000</td>\n",
       "      <td>0.000000</td>\n",
       "      <td>0.000000</td>\n",
       "      <td>0.000000</td>\n",
       "      <td>0.000000</td>\n",
       "      <td>0.000000</td>\n",
       "      <td>0.000000</td>\n",
       "      <td>0.000000</td>\n",
       "      <td>0.012048</td>\n",
       "      <td>0.000000</td>\n",
       "      <td>0.025818</td>\n",
       "      <td>0.000000</td>\n",
       "      <td>0.000000</td>\n",
       "    </tr>\n",
       "    <tr>\n",
       "      <th>8</th>\n",
       "      <td>0.000000</td>\n",
       "      <td>0.000000</td>\n",
       "      <td>0.000000</td>\n",
       "      <td>0.000000</td>\n",
       "      <td>0.000000</td>\n",
       "      <td>0.000000</td>\n",
       "      <td>0.000000</td>\n",
       "      <td>0.000000</td>\n",
       "      <td>0.000000</td>\n",
       "      <td>0.025818</td>\n",
       "      <td>0.000000</td>\n",
       "      <td>0.017212</td>\n",
       "      <td>0.000000</td>\n",
       "    </tr>\n",
       "    <tr>\n",
       "      <th>0</th>\n",
       "      <td>0.000000</td>\n",
       "      <td>0.000000</td>\n",
       "      <td>0.000000</td>\n",
       "      <td>0.000000</td>\n",
       "      <td>0.000000</td>\n",
       "      <td>0.000000</td>\n",
       "      <td>0.000000</td>\n",
       "      <td>0.000000</td>\n",
       "      <td>0.000000</td>\n",
       "      <td>0.000000</td>\n",
       "      <td>0.017212</td>\n",
       "      <td>0.000000</td>\n",
       "      <td>0.022375</td>\n",
       "    </tr>\n",
       "    <tr>\n",
       "      <th>-1</th>\n",
       "      <td>0.000000</td>\n",
       "      <td>0.000000</td>\n",
       "      <td>0.000000</td>\n",
       "      <td>0.000000</td>\n",
       "      <td>0.000000</td>\n",
       "      <td>0.000000</td>\n",
       "      <td>0.000000</td>\n",
       "      <td>0.000000</td>\n",
       "      <td>0.000000</td>\n",
       "      <td>0.000000</td>\n",
       "      <td>0.000000</td>\n",
       "      <td>0.022375</td>\n",
       "      <td>0.000000</td>\n",
       "    </tr>\n",
       "  </tbody>\n",
       "</table>\n",
       "</div>"
      ],
      "text/plain": [
       "          -3        -2         6         2         3         7         4  \\\n",
       "-3  0.000000  0.000000  0.022375  0.000000  0.000000  0.000000  0.000000   \n",
       "-2  0.000000  0.000000  0.000000  0.024096  0.000000  0.000000  0.000000   \n",
       "6   0.022375  0.000000  0.000000  0.000000  0.020654  0.000000  0.000000   \n",
       "2   0.000000  0.024096  0.000000  0.000000  0.000000  0.018933  0.000000   \n",
       "3   0.000000  0.000000  0.020654  0.000000  0.000000  0.000000  0.017212   \n",
       "7   0.000000  0.000000  0.000000  0.018933  0.000000  0.000000  0.000000   \n",
       "4   0.000000  0.000000  0.000000  0.000000  0.017212  0.000000  0.000000   \n",
       "5   0.000000  0.000000  0.000000  0.000000  0.000000  0.013769  0.000000   \n",
       "9   0.000000  0.000000  0.000000  0.000000  0.000000  0.000000  0.072289   \n",
       "1   0.000000  0.000000  0.000000  0.000000  0.000000  0.000000  0.000000   \n",
       "8   0.000000  0.000000  0.000000  0.000000  0.000000  0.000000  0.000000   \n",
       "0   0.000000  0.000000  0.000000  0.000000  0.000000  0.000000  0.000000   \n",
       "-1  0.000000  0.000000  0.000000  0.000000  0.000000  0.000000  0.000000   \n",
       "\n",
       "           5         9         1         8         0        -1  \n",
       "-3  0.000000  0.000000  0.000000  0.000000  0.000000  0.000000  \n",
       "-2  0.000000  0.000000  0.000000  0.000000  0.000000  0.000000  \n",
       "6   0.000000  0.000000  0.000000  0.000000  0.000000  0.000000  \n",
       "2   0.000000  0.000000  0.000000  0.000000  0.000000  0.000000  \n",
       "3   0.000000  0.000000  0.000000  0.000000  0.000000  0.000000  \n",
       "7   0.013769  0.000000  0.000000  0.000000  0.000000  0.000000  \n",
       "4   0.000000  0.072289  0.000000  0.000000  0.000000  0.000000  \n",
       "5   0.000000  0.006885  0.000000  0.000000  0.000000  0.000000  \n",
       "9   0.006885  0.000000  0.012048  0.000000  0.000000  0.000000  \n",
       "1   0.000000  0.012048  0.000000  0.025818  0.000000  0.000000  \n",
       "8   0.000000  0.000000  0.025818  0.000000  0.017212  0.000000  \n",
       "0   0.000000  0.000000  0.000000  0.017212  0.000000  0.022375  \n",
       "-1  0.000000  0.000000  0.000000  0.000000  0.022375  0.000000  "
      ]
     },
     "execution_count": 34,
     "metadata": {},
     "output_type": "execute_result"
    }
   ],
   "source": [
    "repx_net.mixing_matrix()"
   ]
  },
  {
   "cell_type": "markdown",
   "metadata": {},
   "source": [
    "#### Replica exchange graph\n",
    "\n",
    "The mixing matrix tells a story of how well various interfaces are connected to other interfaces. The replica exchange graph is essentially a visualization of the mixing matrix (actually, of the transition matrix -- the mixing matrix is a symmetrized version of the transition matrix).\n",
    "\n",
    "Note: We're still developing better layout tools to visualize these."
   ]
  },
  {
   "cell_type": "code",
   "execution_count": 38,
   "metadata": {
    "collapsed": false
   },
   "outputs": [
    {
     "data": {
      "image/png": "[encoded data removed]",
      "text/plain": [
       "<matplotlib.figure.Figure at 0x1131da6d0>"
      ]
     },
     "metadata": {},
     "output_type": "display_data"
    }
   ],
   "source": [
    "repxG = paths.ReplicaNetworkGraph(repx_net)\n",
    "repxG.draw('spring')"
   ]
  },
  {
   "cell_type": "markdown",
   "metadata": {},
   "source": [
    "#### Replica exchange flow\n",
    "\n",
    "Replica flow is defined as ***TODO***\n",
    "\n",
    "Flow is designed for calculations where the replica exchange graph is linear, which ours clearly is not. However, we can define the flow over a subset of the interfaces."
   ]
  },
  {
   "cell_type": "code",
   "execution_count": null,
   "metadata": {
    "collapsed": true
   },
   "outputs": [],
   "source": []
  },
  {
   "cell_type": "markdown",
   "metadata": {},
   "source": [
    "### Replica move history tree"
   ]
  },
  {
   "cell_type": "code",
   "execution_count": null,
   "metadata": {
    "collapsed": true
   },
   "outputs": [],
   "source": []
  },
  {
   "cell_type": "markdown",
   "metadata": {},
   "source": [
    "## Visualizing in CV space\n",
    "\n",
    "The live_visualization tools allow both visualization of "
   ]
  },
  {
   "cell_type": "markdown",
   "metadata": {},
   "source": [
    "### Visualizing trajectories"
   ]
  },
  {
   "cell_type": "code",
   "execution_count": null,
   "metadata": {
    "collapsed": true
   },
   "outputs": [],
   "source": []
  },
  {
   "cell_type": "markdown",
   "metadata": {},
   "source": [
    "### Histogramming data (TODO)"
   ]
  },
  {
   "cell_type": "code",
   "execution_count": null,
   "metadata": {
    "collapsed": true
   },
   "outputs": [],
   "source": []
  }
 ],
 "metadata": {
  "kernelspec": {
   "display_name": "Python 2",
   "language": "python",
   "name": "python2"
  },
  "language_info": {
   "codemirror_mode": {
    "name": "ipython",
    "version": 2
   },
   "file_extension": ".py",
   "mimetype": "text/x-python",
   "name": "python",
   "nbconvert_exporter": "python",
   "pygments_lexer": "ipython2",
   "version": "2.7.10"
  }
 },
 "nbformat": 4,
 "nbformat_minor": 0
}

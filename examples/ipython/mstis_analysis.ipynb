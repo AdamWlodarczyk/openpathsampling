{
 "cells": [
  {
   "cell_type": "code",
   "execution_count": 1,
   "metadata": {
    "collapsed": false
   },
   "outputs": [],
   "source": [
    "%matplotlib inline\n",
    "import matplotlib.pyplot as plt\n",
    "import openpathsampling as paths\n",
    "import numpy as np\n",
    "\n",
    "storage = paths.storage.AnalysisStorage(\"mstis.nc\")"
   ]
  },
  {
   "cell_type": "code",
   "execution_count": 2,
   "metadata": {
    "collapsed": false,
    "scrolled": true
   },
   "outputs": [],
   "source": [
    "mstis = storage.networks.load(0)"
   ]
  },
  {
   "cell_type": "code",
   "execution_count": 3,
   "metadata": {
    "collapsed": false
   },
   "outputs": [
    {
     "name": "stdout",
     "output_type": "stream",
     "text": [
      "Multiple State TIS Network:\n",
      "RETISTransition: Out C\n",
      "C -> C or all states except C\n",
      "Interface: 0.0<opC<0.04\n",
      "Interface: 0.0<opC<0.09\n",
      "Interface: 0.0<opC<0.16\n",
      "RETISTransition: Out A\n",
      "A -> A or all states except A\n",
      "Interface: 0.0<opA<0.04\n",
      "Interface: 0.0<opA<0.09\n",
      "Interface: 0.0<opA<0.16\n",
      "RETISTransition: Out B\n",
      "B -> B or all states except B\n",
      "Interface: 0.0<opB<0.04\n",
      "Interface: 0.0<opB<0.09\n",
      "Interface: 0.0<opB<0.16\n",
      "\n"
     ]
    }
   ],
   "source": [
    "print mstis"
   ]
  },
  {
   "cell_type": "code",
   "execution_count": 4,
   "metadata": {
    "collapsed": false
   },
   "outputs": [],
   "source": [
    "mstis.hist_args['max_lambda'] = { 'bin_width' : 0.02, 'bin_range' : (0.0, 0.5) }\n",
    "mstis.hist_args['pathlength'] = { 'bin_width' : 5, 'bin_range' : (0, 150) }"
   ]
  },
  {
   "cell_type": "code",
   "execution_count": 5,
   "metadata": {
    "collapsed": false
   },
   "outputs": [],
   "source": [
    "#import logging.config\n",
    "#logging.config.fileConfig(\"debug_logging.conf\", disable_existing_loggers=False)\n",
    "#logging.getLogger(\"openpathsampling.analysis.wham\").setLevel(logging.DEBUG)"
   ]
  },
  {
   "cell_type": "code",
   "execution_count": 6,
   "metadata": {
    "collapsed": false
   },
   "outputs": [
    {
     "name": "stdout",
     "output_type": "stream",
     "text": [
      "CPU times: user 664 ms, sys: 46.2 ms, total: 710 ms\n",
      "Wall time: 697 ms\n"
     ]
    },
    {
     "data": {
      "text/html": [
       "<div style=\"max-height:1000px;max-width:1500px;overflow:auto;\">\n",
       "<table border=\"1\" class=\"dataframe\">\n",
       "  <thead>\n",
       "    <tr style=\"text-align: right;\">\n",
       "      <th></th>\n",
       "      <th>{x|opA(x) in [0.0, 0.04]}</th>\n",
       "      <th>{x|opB(x) in [0.0, 0.04]}</th>\n",
       "      <th>{x|opC(x) in [0.0, 0.04]}</th>\n",
       "    </tr>\n",
       "  </thead>\n",
       "  <tbody>\n",
       "    <tr>\n",
       "      <th>{x|opA(x) in [0.0, 0.04]}</th>\n",
       "      <td>NaN</td>\n",
       "      <td>4.91173e-05</td>\n",
       "      <td>9.82346e-06</td>\n",
       "    </tr>\n",
       "    <tr>\n",
       "      <th>{x|opB(x) in [0.0, 0.04]}</th>\n",
       "      <td>0.0003996961</td>\n",
       "      <td>NaN</td>\n",
       "      <td>0</td>\n",
       "    </tr>\n",
       "    <tr>\n",
       "      <th>{x|opC(x) in [0.0, 0.04]}</th>\n",
       "      <td>0</td>\n",
       "      <td>0</td>\n",
       "      <td>NaN</td>\n",
       "    </tr>\n",
       "  </tbody>\n",
       "</table>\n",
       "</div>"
      ],
      "text/plain": [
       "                          {x|opA(x) in [0.0, 0.04]} {x|opB(x) in [0.0, 0.04]}  \\\n",
       "{x|opA(x) in [0.0, 0.04]}                       NaN               4.91173e-05   \n",
       "{x|opB(x) in [0.0, 0.04]}              0.0003996961                       NaN   \n",
       "{x|opC(x) in [0.0, 0.04]}                         0                         0   \n",
       "\n",
       "                          {x|opC(x) in [0.0, 0.04]}  \n",
       "{x|opA(x) in [0.0, 0.04]}               9.82346e-06  \n",
       "{x|opB(x) in [0.0, 0.04]}                         0  \n",
       "{x|opC(x) in [0.0, 0.04]}                       NaN  "
      ]
     },
     "execution_count": 6,
     "metadata": {},
     "output_type": "execute_result"
    }
   ],
   "source": [
    "%%time\n",
    "mstis.rate_matrix(storage)"
   ]
  },
  {
   "cell_type": "code",
   "execution_count": 7,
   "metadata": {
    "collapsed": false
   },
   "outputs": [],
   "source": [
    "stateA = storage.volumes.find_first(\"A\")\n",
    "stateB = storage.volumes.find_first(\"B\")\n",
    "stateC = storage.volumes.find_first(\"C\")"
   ]
  },
  {
   "cell_type": "code",
   "execution_count": 8,
   "metadata": {
    "collapsed": false
   },
   "outputs": [
    {
     "data": {
      "text/plain": [
       "[<matplotlib.lines.Line2D at 0x113b18d90>]"
      ]
     },
     "execution_count": 8,
     "metadata": {},
     "output_type": "execute_result"
    },
    {
     "data": {
      "image/png": "[encoded data removed]",
      "text/plain": [
       "<matplotlib.figure.Figure at 0x10f8c8310>"
      ]
     },
     "metadata": {},
     "output_type": "display_data"
    }
   ],
   "source": [
    "tcp_AB = mstis.transitions[(stateA, stateB)].tcp\n",
    "tcp_AC = mstis.transitions[(stateA, stateC)].tcp\n",
    "tcp_BC = mstis.transitions[(stateB, stateC)].tcp\n",
    "tcp_CA = mstis.transitions[(stateC, stateA)].tcp\n",
    "\n",
    "plt.plot(tcp_AB.keys(), tcp_AB.values())\n",
    "plt.plot(tcp_CA.keys(), tcp_CA.values())\n",
    "plt.plot(tcp_BC.keys(), tcp_BC.values())"
   ]
  },
  {
   "cell_type": "code",
   "execution_count": null,
   "metadata": {
    "collapsed": true
   },
   "outputs": [],
   "source": []
  }
 ],
 "metadata": {
  "kernelspec": {
   "display_name": "Python 2",
   "language": "python",
   "name": "python2"
  },
  "language_info": {
   "codemirror_mode": {
    "name": "ipython",
    "version": 2
   },
   "file_extension": ".py",
   "mimetype": "text/x-python",
   "name": "python",
   "nbconvert_exporter": "python",
   "pygments_lexer": "ipython2",
   "version": "2.7.10"
  }
 },
 "nbformat": 4,
 "nbformat_minor": 0
}

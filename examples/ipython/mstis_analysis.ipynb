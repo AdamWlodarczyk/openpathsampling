{
 "cells": [
  {
   "cell_type": "code",
   "execution_count": 1,
   "metadata": {
    "collapsed": false
   },
   "outputs": [],
   "source": [
    "%matplotlib inline\n",
    "import matplotlib.pyplot as plt\n",
    "import openpathsampling as paths\n",
    "import numpy as np\n",
    "\n",
    "storage = paths.storage.Storage(\"mstis.nc\")"
   ]
  },
  {
   "cell_type": "code",
   "execution_count": 2,
   "metadata": {
    "collapsed": false,
    "scrolled": true
   },
   "outputs": [],
   "source": [
    "mstis = storage.networks.load(0)"
   ]
  },
  {
   "cell_type": "code",
   "execution_count": 3,
   "metadata": {
    "collapsed": false
   },
   "outputs": [
    {
     "data": {
      "text/plain": [
       "[None, None, None]"
      ]
     },
     "execution_count": 3,
     "metadata": {},
     "output_type": "execute_result"
    }
   ],
   "source": [
    "# these things speed up the analysis\n",
    "storage.samples.cache_all()\n",
    "storage.samplesets.cache_all()\n",
    "storage.pathmovechanges.cache_all()\n",
    "storage.steps.cache_all()\n",
    "map(lambda x : x.cache_all(storage), storage.cvs)"
   ]
  },
  {
   "cell_type": "markdown",
   "metadata": {},
   "source": [
    "## Reaction rates\n",
    "\n",
    "TIS methods are especially good at determining reaction rates, and OPS makes it extremely easy to obtain the rate from a TIS network.\n",
    "\n",
    "Note that, although you can get the rate directly, it is very important to look at other results of the sampling (illustrated in this notebook and in notebooks referred to herein) in order to check the validity of the rates you obtain."
   ]
  },
  {
   "cell_type": "markdown",
   "metadata": {},
   "source": [
    "By default, the built-in analysis calculates histograms the maximum value of some order parameter and the pathlength of every sampled ensemble. You can add other things to this list as well, but you must always specify histogram parameters for these two. The pathlength is in units of frames."
   ]
  },
  {
   "cell_type": "code",
   "execution_count": 4,
   "metadata": {
    "collapsed": false
   },
   "outputs": [],
   "source": [
    "mstis.hist_args['max_lambda'] = { 'bin_width' : 0.02, 'bin_range' : (0.0, 0.5) }\n",
    "mstis.hist_args['pathlength'] = { 'bin_width' : 5, 'bin_range' : (0, 150) }"
   ]
  },
  {
   "cell_type": "code",
   "execution_count": 5,
   "metadata": {
    "collapsed": false
   },
   "outputs": [
    {
     "data": {
      "text/plain": [
       "{<openpathsampling.ensemble.MinusInterfaceEnsemble at 0x112f355d0>: [<openpathsampling.analysis.tis_analysis.RETISTransition at 0x10a4d5110>],\n",
       " <openpathsampling.ensemble.MinusInterfaceEnsemble at 0x112f6fad0>: [<openpathsampling.analysis.tis_analysis.RETISTransition at 0x112f137d0>],\n",
       " <openpathsampling.ensemble.MinusInterfaceEnsemble at 0x112f75b10>: [<openpathsampling.analysis.tis_analysis.RETISTransition at 0x112de3f90>]}"
      ]
     },
     "execution_count": 5,
     "metadata": {},
     "output_type": "execute_result"
    }
   ],
   "source": [
    "mstis.special_ensembles['minus']"
   ]
  },
  {
   "cell_type": "code",
   "execution_count": 6,
   "metadata": {
    "collapsed": false
   },
   "outputs": [
    {
     "data": {
      "text/plain": [
       "<openpathsampling.ensemble.MinusInterfaceEnsemble at 0x112f6fad0>"
      ]
     },
     "execution_count": 6,
     "metadata": {},
     "output_type": "execute_result"
    }
   ],
   "source": [
    "mstis.transitions.values()[0].minus_ensemble"
   ]
  },
  {
   "cell_type": "code",
   "execution_count": 7,
   "metadata": {
    "collapsed": true
   },
   "outputs": [],
   "source": [
    "retis = mstis.transitions.values()[0]"
   ]
  },
  {
   "cell_type": "code",
   "execution_count": 8,
   "metadata": {
    "collapsed": false
   },
   "outputs": [],
   "source": [
    "minus_step = storage.steps[34]"
   ]
  },
  {
   "cell_type": "code",
   "execution_count": 9,
   "metadata": {
    "collapsed": false
   },
   "outputs": [
    {
     "name": "stdout",
     "output_type": "stream",
     "text": [
      "PathSimulatorStep : PathSampling : Step # 34 with 2 samples\n",
      " +- RandomChoice :\n",
      " |   +- RandomChoice :\n",
      " |   |   +- Minus :\n",
      " |   |   |   +- FilterMove : allow only ensembles [[<openpathsampling.ensemble.MinusInterfaceEnsemble object at 0x112f355d0>, <openpathsampling.ensemble.TISEnsemble object at 0x112f5d390>]] from sub moves : True : 2 samples\n",
      " |   |   |   |   +- ConditionalSequentialMove : True : 4 samples\n",
      " |   |   |   |   |   +- RandomChoice :\n",
      " |   |   |   |   |   |   +- SampleMove : FinalSubtrajectorySelectMover : True : 1 samples [<Sample @ 0x112f63b10>]\n",
      " |   |   |   |   |   +- RandomChoice :\n",
      " |   |   |   |   |   |   +- SampleMove : ReplicaExchangeMover : True : 2 samples [<Sample @ 0x112f631d0>, <Sample @ 0x112f63d90>]\n",
      " |   |   |   |   |   +- RandomChoice :\n",
      " |   |   |   |   |   |   +- SampleMove : ForwardExtendMover : True : 1 samples [<Sample @ 0x112f63250>]\n"
     ]
    }
   ],
   "source": [
    "print minus_step.change"
   ]
  },
  {
   "cell_type": "code",
   "execution_count": 10,
   "metadata": {
    "collapsed": false
   },
   "outputs": [
    {
     "name": "stdout",
     "output_type": "stream",
     "text": [
      "<openpathsampling.ensemble.MinusInterfaceEnsemble object at 0x112f75b10> False\n",
      "<openpathsampling.ensemble.MinusInterfaceEnsemble object at 0x112f6fad0> False\n",
      "<openpathsampling.ensemble.MinusInterfaceEnsemble object at 0x112f355d0> True\n"
     ]
    }
   ],
   "source": [
    "for ens in mstis.minus_ensembles:\n",
    "    print repr(ens), ens in [s.ensemble for s in minus_step.change.trials]"
   ]
  },
  {
   "cell_type": "code",
   "execution_count": 11,
   "metadata": {
    "collapsed": false
   },
   "outputs": [
    {
     "name": "stdout",
     "output_type": "stream",
     "text": [
      "{Storage @ 'mstis.nc': 63} <openpathsampling.ensemble.MinusInterfaceEnsemble object at 0x112f355d0> True False\n",
      "<openpathsampling.pathmover.MinusMover object at 0x112fa2d10>\n",
      "{Storage @ 'mstis.nc': 83} <openpathsampling.ensemble.MinusInterfaceEnsemble object at 0x112f355d0> True False\n",
      "<openpathsampling.pathmover.MinusMover object at 0x112fa2d10>\n",
      "{Storage @ 'mstis.nc': 730} <openpathsampling.ensemble.MinusInterfaceEnsemble object at 0x112f355d0> True False\n",
      "<openpathsampling.pathmover.MinusMover object at 0x112fa2d10>\n",
      "{Storage @ 'mstis.nc': 750} <openpathsampling.ensemble.MinusInterfaceEnsemble object at 0x112f355d0> True False\n",
      "<openpathsampling.pathmover.MinusMover object at 0x112fa2d10>\n",
      "{Storage @ 'mstis.nc': 866} <openpathsampling.ensemble.MinusInterfaceEnsemble object at 0x112f355d0> True False\n",
      "<openpathsampling.pathmover.MinusMover object at 0x112fa2d10>\n",
      "{Storage @ 'mstis.nc': 1315} <openpathsampling.ensemble.MinusInterfaceEnsemble object at 0x112f355d0> True False\n",
      "<openpathsampling.pathmover.MinusMover object at 0x112fa2d10>\n",
      "{Storage @ 'mstis.nc': 1619} <openpathsampling.ensemble.MinusInterfaceEnsemble object at 0x112f355d0> True False\n",
      "<openpathsampling.pathmover.MinusMover object at 0x112fa2d10>\n",
      "{Storage @ 'mstis.nc': 1783} <openpathsampling.ensemble.MinusInterfaceEnsemble object at 0x112f355d0> True False\n",
      "<openpathsampling.pathmover.MinusMover object at 0x112fa2d10>\n",
      "{Storage @ 'mstis.nc': 1933} <openpathsampling.ensemble.MinusInterfaceEnsemble object at 0x112f355d0> True False\n",
      "<openpathsampling.pathmover.MinusMover object at 0x112fa2d10>\n",
      "{Storage @ 'mstis.nc': 2148} <openpathsampling.ensemble.MinusInterfaceEnsemble object at 0x112f355d0> True False\n",
      "<openpathsampling.pathmover.MinusMover object at 0x112fa2d10>\n",
      "{Storage @ 'mstis.nc': 2160} <openpathsampling.ensemble.MinusInterfaceEnsemble object at 0x112f355d0> True False\n",
      "<openpathsampling.pathmover.MinusMover object at 0x112fa2d10>\n",
      "{Storage @ 'mstis.nc': 2312} <openpathsampling.ensemble.MinusInterfaceEnsemble object at 0x112f355d0> True False\n",
      "<openpathsampling.pathmover.MinusMover object at 0x112fa2d10>\n",
      "{Storage @ 'mstis.nc': 2361} <openpathsampling.ensemble.MinusInterfaceEnsemble object at 0x112f355d0> True False\n",
      "<openpathsampling.pathmover.MinusMover object at 0x112fa2d10>\n",
      "{Storage @ 'mstis.nc': 2505} <openpathsampling.ensemble.MinusInterfaceEnsemble object at 0x112f355d0> True False\n",
      "<openpathsampling.pathmover.MinusMover object at 0x112fa2d10>\n",
      "{Storage @ 'mstis.nc': 2583} <openpathsampling.ensemble.MinusInterfaceEnsemble object at 0x112f355d0> True False\n",
      "<openpathsampling.pathmover.MinusMover object at 0x112fa2d10>\n",
      "{Storage @ 'mstis.nc': 2734} <openpathsampling.ensemble.MinusInterfaceEnsemble object at 0x112f355d0> True False\n",
      "<openpathsampling.pathmover.MinusMover object at 0x112fa2d10>\n",
      "{Storage @ 'mstis.nc': 2753} <openpathsampling.ensemble.MinusInterfaceEnsemble object at 0x112f355d0> True False\n",
      "<openpathsampling.pathmover.MinusMover object at 0x112fa2d10>\n",
      "{Storage @ 'mstis.nc': 2785} <openpathsampling.ensemble.MinusInterfaceEnsemble object at 0x112f355d0> True False\n",
      "<openpathsampling.pathmover.MinusMover object at 0x112fa2d10>\n",
      "{Storage @ 'mstis.nc': 2908} <openpathsampling.ensemble.MinusInterfaceEnsemble object at 0x112f355d0> True False\n",
      "<openpathsampling.pathmover.MinusMover object at 0x112fa2d10>\n",
      "{Storage @ 'mstis.nc': 2966} <openpathsampling.ensemble.MinusInterfaceEnsemble object at 0x112f355d0> True False\n",
      "<openpathsampling.pathmover.MinusMover object at 0x112fa2d10>\n",
      "{Storage @ 'mstis.nc': 3213} <openpathsampling.ensemble.MinusInterfaceEnsemble object at 0x112f355d0> True False\n",
      "<openpathsampling.pathmover.MinusMover object at 0x112fa2d10>\n",
      "{Storage @ 'mstis.nc': 3252} <openpathsampling.ensemble.MinusInterfaceEnsemble object at 0x112f355d0> True False\n",
      "<openpathsampling.pathmover.MinusMover object at 0x112fa2d10>\n",
      "{Storage @ 'mstis.nc': 3547} <openpathsampling.ensemble.MinusInterfaceEnsemble object at 0x112f355d0> True False\n",
      "<openpathsampling.pathmover.MinusMover object at 0x112fa2d10>\n",
      "{Storage @ 'mstis.nc': 3589} <openpathsampling.ensemble.MinusInterfaceEnsemble object at 0x112f355d0> True False\n",
      "<openpathsampling.pathmover.MinusMover object at 0x112fa2d10>\n",
      "{Storage @ 'mstis.nc': 3692} <openpathsampling.ensemble.MinusInterfaceEnsemble object at 0x112f355d0> True False\n",
      "<openpathsampling.pathmover.MinusMover object at 0x112fa2d10>\n",
      "{Storage @ 'mstis.nc': 3761} <openpathsampling.ensemble.MinusInterfaceEnsemble object at 0x112f355d0> True False\n",
      "<openpathsampling.pathmover.MinusMover object at 0x112fa2d10>\n",
      "{Storage @ 'mstis.nc': 3772} <openpathsampling.ensemble.MinusInterfaceEnsemble object at 0x112f355d0> True False\n",
      "<openpathsampling.pathmover.MinusMover object at 0x112fa2d10>\n",
      "{Storage @ 'mstis.nc': 3789} <openpathsampling.ensemble.MinusInterfaceEnsemble object at 0x112f355d0> True False\n",
      "<openpathsampling.pathmover.MinusMover object at 0x112fa2d10>\n",
      "{Storage @ 'mstis.nc': 3790} <openpathsampling.ensemble.MinusInterfaceEnsemble object at 0x112f355d0> True False\n",
      "<openpathsampling.pathmover.MinusMover object at 0x112fa2d10>\n",
      "{Storage @ 'mstis.nc': 3886} <openpathsampling.ensemble.MinusInterfaceEnsemble object at 0x112f355d0> True False\n",
      "<openpathsampling.pathmover.MinusMover object at 0x112fa2d10>\n",
      "{Storage @ 'mstis.nc': 4240} <openpathsampling.ensemble.MinusInterfaceEnsemble object at 0x112f355d0> True False\n",
      "<openpathsampling.pathmover.MinusMover object at 0x112fa2d10>\n",
      "{Storage @ 'mstis.nc': 4899} <openpathsampling.ensemble.MinusInterfaceEnsemble object at 0x112f355d0> True False\n",
      "<openpathsampling.pathmover.MinusMover object at 0x112fa2d10>\n"
     ]
    }
   ],
   "source": [
    "minus_ensemble = mstis.minus_ensembles[0]\n",
    "for step in storage.steps:\n",
    "    if minus_ensemble in [s.ensemble for s in step.change.trials]:\n",
    "        trial_minus = [s for s in step.change.trials if s.ensemble==minus_ensemble][0]\n",
    "        print step.idx, repr(ens), step.change.accepted, trial_minus == step.active[ens]\n",
    "        print repr(step.change.canonical.mover)"
   ]
  },
  {
   "cell_type": "code",
   "execution_count": 12,
   "metadata": {
    "collapsed": true
   },
   "outputs": [],
   "source": [
    "minus_steps = (step for step in storage.steps\n",
    "               if minus_ensemble in [s.ensemble for s in step.change.trials])"
   ]
  },
  {
   "cell_type": "code",
   "execution_count": 13,
   "metadata": {
    "collapsed": false
   },
   "outputs": [
    {
     "name": "stdout",
     "output_type": "stream",
     "text": [
      "<openpathsampling.ensemble.MinusInterfaceEnsemble object at 0x112f75b10>\n"
     ]
    }
   ],
   "source": [
    "print repr(minus_ensemble)"
   ]
  },
  {
   "cell_type": "code",
   "execution_count": null,
   "metadata": {
    "collapsed": false
   },
   "outputs": [
    {
     "name": "stdout",
     "output_type": "stream",
     "text": [
      "{Storage @ 'mstis.nc': 63}\n",
      "{Storage @ 'mstis.nc': 83}\n",
      "{Storage @ 'mstis.nc': 730}\n",
      "{Storage @ 'mstis.nc': 750}\n",
      "{Storage @ 'mstis.nc': 866}\n",
      "{Storage @ 'mstis.nc': 1315}\n",
      "{Storage @ 'mstis.nc': 1619}\n",
      "{Storage @ 'mstis.nc': 1783}\n",
      "{Storage @ 'mstis.nc': 1933}\n",
      "{Storage @ 'mstis.nc': 2148}\n",
      "{Storage @ 'mstis.nc': 2160}\n",
      "{Storage @ 'mstis.nc': 2312}\n",
      "{Storage @ 'mstis.nc': 2361}\n",
      "{Storage @ 'mstis.nc': 2505}\n",
      "{Storage @ 'mstis.nc': 2583}\n",
      "{Storage @ 'mstis.nc': 2734}\n",
      "{Storage @ 'mstis.nc': 2753}\n",
      "{Storage @ 'mstis.nc': 2785}\n",
      "{Storage @ 'mstis.nc': 2908}\n",
      "{Storage @ 'mstis.nc': 2966}\n",
      "{Storage @ 'mstis.nc': 3213}\n",
      "{Storage @ 'mstis.nc': 3252}\n",
      "{Storage @ 'mstis.nc': 3547}\n",
      "{Storage @ 'mstis.nc': 3589}\n",
      "{Storage @ 'mstis.nc': 3692}\n",
      "{Storage @ 'mstis.nc': 3761}\n",
      "{Storage @ 'mstis.nc': 3772}\n",
      "{Storage @ 'mstis.nc': 3789}\n",
      "{Storage @ 'mstis.nc': 3790}\n",
      "{Storage @ 'mstis.nc': 3886}\n",
      "{Storage @ 'mstis.nc': 4240}\n",
      "{Storage @ 'mstis.nc': 4899}\n"
     ]
    }
   ],
   "source": [
    "for step in minus_steps:\n",
    "    print step.idx"
   ]
  },
  {
   "cell_type": "code",
   "execution_count": null,
   "metadata": {
    "collapsed": false
   },
   "outputs": [],
   "source": [
    "mstis.rate_matrix(storage)"
   ]
  },
  {
   "cell_type": "markdown",
   "metadata": {
    "collapsed": true
   },
   "source": [
    "The self-rates (the rate of returning the to initial state) are undefined, and return not-a-number.\n",
    "\n",
    "The rate is calcuated according to the formula:\n",
    "\n",
    "$$k_{AB} = \\phi_{A,0} P(B|\\lambda_m) \\prod_{i=0}^{m-1} P(\\lambda_{i+1} | \\lambda_i)$$\n",
    "\n",
    "where $\\phi_{A,0}$ is the flux from state A through its innermost interface, $P(B|\\lambda_m)$ is the conditional transition probability (the probability that a path which crosses the interface at $\\lambda_m$ ends in state B), and $\\prod_{i=0}^{m-1} P(\\lambda_{i+1} | \\lambda_i)$ is the total crossing probability. We can look at each of these terms individually."
   ]
  },
  {
   "cell_type": "markdown",
   "metadata": {},
   "source": [
    "### Total crossing probability"
   ]
  },
  {
   "cell_type": "code",
   "execution_count": null,
   "metadata": {
    "collapsed": true
   },
   "outputs": [],
   "source": [
    "stateA = storage.volumes.find_first(\"A\")\n",
    "stateB = storage.volumes.find_first(\"B\")\n",
    "stateC = storage.volumes.find_first(\"C\")"
   ]
  },
  {
   "cell_type": "code",
   "execution_count": null,
   "metadata": {
    "collapsed": false
   },
   "outputs": [],
   "source": [
    "tcp_AB = mstis.transitions[(stateA, stateB)].tcp\n",
    "tcp_AC = mstis.transitions[(stateA, stateC)].tcp\n",
    "tcp_BC = mstis.transitions[(stateB, stateC)].tcp\n",
    "tcp_BA = mstis.transitions[(stateB, stateA)].tcp\n",
    "tcp_CA = mstis.transitions[(stateC, stateA)].tcp\n",
    "tcp_CB = mstis.transitions[(stateC, stateB)].tcp\n",
    "\n",
    "plt.plot(tcp_AB.x, tcp_AB)\n",
    "plt.plot(tcp_CA.x, tcp_CA)\n",
    "plt.plot(tcp_BC.x, tcp_BC)\n",
    "plt.plot(tcp_AC.x, tcp_AC) # same as tcp_AB in MSTIS"
   ]
  },
  {
   "cell_type": "markdown",
   "metadata": {},
   "source": [
    "We normally look at these on a log scale:"
   ]
  },
  {
   "cell_type": "code",
   "execution_count": null,
   "metadata": {
    "collapsed": false
   },
   "outputs": [],
   "source": [
    "plt.plot(tcp_AB.x, np.log(tcp_AB))\n",
    "plt.plot(tcp_CA.x, np.log(tcp_CA))\n",
    "plt.plot(tcp_BC.x, np.log(tcp_BC))"
   ]
  },
  {
   "cell_type": "markdown",
   "metadata": {},
   "source": [
    "### Flux"
   ]
  },
  {
   "cell_type": "code",
   "execution_count": null,
   "metadata": {
    "collapsed": false
   },
   "outputs": [],
   "source": [
    "import pandas as pd\n",
    "flux_matrix = pd.DataFrame(columns=mstis.states, index=mstis.states)\n",
    "for state_pair in mstis.transitions:\n",
    "    transition = mstis.transitions[state_pair]\n",
    "    flux_matrix.set_value(state_pair[0], state_pair[1], transition._flux)\n",
    "\n",
    "flux_matrix"
   ]
  },
  {
   "cell_type": "markdown",
   "metadata": {},
   "source": [
    "### Conditional transition probability"
   ]
  },
  {
   "cell_type": "code",
   "execution_count": null,
   "metadata": {
    "collapsed": false
   },
   "outputs": [],
   "source": [
    "outer_ctp_matrix = pd.DataFrame(columns=mstis.states, index=mstis.states)\n",
    "for state_pair in mstis.transitions:\n",
    "    transition = mstis.transitions[state_pair]\n",
    "    outer_ctp_matrix.set_value(state_pair[0], state_pair[1], transition.ctp[transition.ensembles[-1]])    \n",
    "\n",
    "outer_ctp_matrix"
   ]
  },
  {
   "cell_type": "code",
   "execution_count": null,
   "metadata": {
    "collapsed": false
   },
   "outputs": [],
   "source": [
    "ctp_by_interface = pd.DataFrame(index=mstis.transitions)\n",
    "for state_pair in mstis.transitions:\n",
    "    transition = mstis.transitions[state_pair]\n",
    "    for ensemble_i in range(len(transition.ensembles)):\n",
    "        ctp_by_interface.set_value(\n",
    "            state_pair, ensemble_i,\n",
    "            transition.conditional_transition_probability(\n",
    "                storage,\n",
    "                transition.ensembles[ensemble_i]\n",
    "        ))\n",
    "    \n",
    "    \n",
    "ctp_by_interface  "
   ]
  },
  {
   "cell_type": "markdown",
   "metadata": {},
   "source": [
    "## Path ensemble properties"
   ]
  },
  {
   "cell_type": "code",
   "execution_count": null,
   "metadata": {
    "collapsed": true
   },
   "outputs": [],
   "source": [
    "hists_A = mstis.transitions[(stateA, stateB)].histograms\n",
    "hists_B = mstis.transitions[(stateB, stateC)].histograms\n",
    "hists_C = mstis.transitions[(stateC, stateB)].histograms"
   ]
  },
  {
   "cell_type": "markdown",
   "metadata": {},
   "source": [
    "### Interface crossing probabilities\n",
    "\n",
    "We obtain the total crossing probability, shown above, by combining the individual crossing probabilities of "
   ]
  },
  {
   "cell_type": "code",
   "execution_count": null,
   "metadata": {
    "collapsed": false
   },
   "outputs": [],
   "source": [
    "for hist in [hists_A, hists_B, hists_C]:\n",
    "    for ens in hist['max_lambda']:\n",
    "        normalized = hist['max_lambda'][ens].normalized()\n",
    "        plt.plot(normalized.x, normalized)"
   ]
  },
  {
   "cell_type": "code",
   "execution_count": null,
   "metadata": {
    "collapsed": true
   },
   "outputs": [],
   "source": [
    "# add visualization of the sum"
   ]
  },
  {
   "cell_type": "code",
   "execution_count": null,
   "metadata": {
    "collapsed": false,
    "scrolled": true
   },
   "outputs": [],
   "source": [
    "for hist in [hists_A, hists_B, hists_C]:\n",
    "    for ens in hist['max_lambda']:\n",
    "        reverse_cumulative = hist['max_lambda'][ens].reverse_cumulative()\n",
    "        plt.plot(reverse_cumulative.x, reverse_cumulative)"
   ]
  },
  {
   "cell_type": "code",
   "execution_count": null,
   "metadata": {
    "collapsed": false
   },
   "outputs": [],
   "source": [
    "for hist in [hists_A, hists_B, hists_C]:\n",
    "    for ens in hist['max_lambda']:\n",
    "        reverse_cumulative = hist['max_lambda'][ens].reverse_cumulative()\n",
    "        plt.plot(reverse_cumulative.x, np.log(reverse_cumulative))"
   ]
  },
  {
   "cell_type": "markdown",
   "metadata": {},
   "source": [
    "### Path length histograms"
   ]
  },
  {
   "cell_type": "code",
   "execution_count": null,
   "metadata": {
    "collapsed": false
   },
   "outputs": [],
   "source": [
    "for hist in [hists_A, hists_B, hists_C]:\n",
    "    for ens in hist['pathlength']:\n",
    "        normalized = hist['pathlength'][ens].normalized()\n",
    "        plt.plot(normalized.x, normalized)"
   ]
  },
  {
   "cell_type": "code",
   "execution_count": null,
   "metadata": {
    "collapsed": false
   },
   "outputs": [],
   "source": [
    "for ens in hists_A['pathlength']:\n",
    "    normalized = hists_A['pathlength'][ens].normalized()\n",
    "    plt.plot(normalized.x, normalized)"
   ]
  },
  {
   "cell_type": "markdown",
   "metadata": {},
   "source": [
    "## Sampling properties\n",
    "\n",
    "The properties we illustrated above were properties of the path ensembles. If your path ensembles are sufficiently well-sampled, these will never depend on how you sample them.\n",
    "\n",
    "But to figure out whether you've done a good job of sampling, you often want to look at properties related to the sampling process. OPS also makes these very easy."
   ]
  },
  {
   "cell_type": "code",
   "execution_count": null,
   "metadata": {
    "collapsed": true
   },
   "outputs": [],
   "source": []
  },
  {
   "cell_type": "markdown",
   "metadata": {},
   "source": [
    "### Move scheme analysis"
   ]
  },
  {
   "cell_type": "code",
   "execution_count": null,
   "metadata": {
    "collapsed": false,
    "scrolled": true
   },
   "outputs": [],
   "source": [
    "scheme = storage.schemes[0]"
   ]
  },
  {
   "cell_type": "code",
   "execution_count": null,
   "metadata": {
    "collapsed": false
   },
   "outputs": [],
   "source": [
    "scheme.move_summary(storage)"
   ]
  },
  {
   "cell_type": "code",
   "execution_count": null,
   "metadata": {
    "collapsed": false
   },
   "outputs": [],
   "source": [
    "scheme.move_summary(storage, 'shooting')"
   ]
  },
  {
   "cell_type": "code",
   "execution_count": null,
   "metadata": {
    "collapsed": false
   },
   "outputs": [],
   "source": [
    "scheme.move_summary(storage, 'minus')"
   ]
  },
  {
   "cell_type": "code",
   "execution_count": null,
   "metadata": {
    "collapsed": false
   },
   "outputs": [],
   "source": [
    "scheme.move_summary(storage, 'repex')"
   ]
  },
  {
   "cell_type": "code",
   "execution_count": null,
   "metadata": {
    "collapsed": false
   },
   "outputs": [],
   "source": [
    "scheme.move_summary(storage, 'pathreversal')"
   ]
  },
  {
   "cell_type": "markdown",
   "metadata": {},
   "source": [
    "### Replica exchange sampling\n",
    "\n",
    "See the notebook `repex_networks.ipynb` for more details on tools to study the convergence of replica exchange. However, a few simple examples are shown here. All of these are analyzed with a separate object, `ReplicaNetwork`."
   ]
  },
  {
   "cell_type": "code",
   "execution_count": null,
   "metadata": {
    "collapsed": true
   },
   "outputs": [],
   "source": [
    "repx_net = paths.ReplicaNetwork(storage=storage)"
   ]
  },
  {
   "cell_type": "markdown",
   "metadata": {},
   "source": [
    "#### Replica exchange mixing matrix"
   ]
  },
  {
   "cell_type": "code",
   "execution_count": null,
   "metadata": {
    "collapsed": false
   },
   "outputs": [],
   "source": [
    "repx_net.mixing_matrix()"
   ]
  },
  {
   "cell_type": "markdown",
   "metadata": {},
   "source": [
    "#### Replica exchange graph\n",
    "\n",
    "The mixing matrix tells a story of how well various interfaces are connected to other interfaces. The replica exchange graph is essentially a visualization of the mixing matrix (actually, of the transition matrix -- the mixing matrix is a symmetrized version of the transition matrix).\n",
    "\n",
    "Note: We're still developing better layout tools to visualize these."
   ]
  },
  {
   "cell_type": "code",
   "execution_count": null,
   "metadata": {
    "collapsed": false
   },
   "outputs": [],
   "source": [
    "repxG = paths.ReplicaNetworkGraph(repx_net)\n",
    "repxG.draw('spring')"
   ]
  },
  {
   "cell_type": "markdown",
   "metadata": {},
   "source": [
    "#### Replica exchange flow\n",
    "\n",
    "Replica flow is defined as ***TODO***\n",
    "\n",
    "Flow is designed for calculations where the replica exchange graph is linear, which ours clearly is not. However, we can define the flow over a subset of the interfaces."
   ]
  },
  {
   "cell_type": "code",
   "execution_count": null,
   "metadata": {
    "collapsed": true
   },
   "outputs": [],
   "source": []
  },
  {
   "cell_type": "markdown",
   "metadata": {},
   "source": [
    "### Replica move history tree"
   ]
  },
  {
   "cell_type": "code",
   "execution_count": null,
   "metadata": {
    "collapsed": false
   },
   "outputs": [],
   "source": [
    "# get cases from the first 100 steps that used given ensemble\n",
    "ensemble = mstis.transitions[(stateA, stateB)].ensembles[0]\n",
    "\n",
    "# identify the replica initially associated with that ensemble\n",
    "sample = storage.steps[0].active[ensemble]\n",
    "replica = sample.replica\n",
    "\n",
    "first_samples = [sample]\n",
    "for step in storage.steps[0:100]:\n",
    "    first_samples.extend([s for s in step.change.trials if s.replica==replica])"
   ]
  },
  {
   "cell_type": "code",
   "execution_count": null,
   "metadata": {
    "collapsed": false
   },
   "outputs": [],
   "source": [
    "from openpathsampling.visualize import PathTreeBuilder\n",
    "from IPython.display import SVG\n",
    "\n",
    "tree = PathTreeBuilder(storage)\n",
    "tree.rejected = False\n",
    "tree.from_samples(first_samples)\n",
    "view = tree.renderer\n",
    "view.zoom = 0.8\n",
    "view.scale_y = 24\n",
    "view.scale_x = 14\n",
    "view.font_size = 0.35"
   ]
  },
  {
   "cell_type": "code",
   "execution_count": null,
   "metadata": {
    "collapsed": false
   },
   "outputs": [],
   "source": [
    "SVG(view.to_svg())"
   ]
  },
  {
   "cell_type": "code",
   "execution_count": null,
   "metadata": {
    "collapsed": false
   },
   "outputs": [],
   "source": [
    "prev = first_samples[0].trajectory\n",
    "decorrelated = [prev]\n",
    "for s in first_samples:\n",
    "    if not paths.Trajectory.is_correlated(s.trajectory, prev):\n",
    "        decorrelated.append(s.trajectory)\n",
    "        prev = s.trajectory\n",
    "print \"We have \" + str(len(decorrelated)) + \" decorrelated trajectories.\""
   ]
  },
  {
   "cell_type": "markdown",
   "metadata": {},
   "source": [
    "## Visualizing in CV space\n",
    "\n",
    "The live_visualization tools allow both visualization of "
   ]
  },
  {
   "cell_type": "markdown",
   "metadata": {},
   "source": [
    "### Visualizing trajectories"
   ]
  },
  {
   "cell_type": "code",
   "execution_count": null,
   "metadata": {
    "collapsed": true
   },
   "outputs": [],
   "source": [
    "from toy_plot_helpers import ToyPlot\n",
    "background = ToyPlot()\n",
    "background.contour_range = np.arange(-1.5, 1.0, 0.1)\n",
    "background.add_pes(storage.engines[0].pes)"
   ]
  },
  {
   "cell_type": "code",
   "execution_count": null,
   "metadata": {
    "collapsed": false
   },
   "outputs": [],
   "source": [
    "xval = paths.CV_Function(\"xval\", lambda snap : snap.xyz[0][0])\n",
    "yval = paths.CV_Function(\"yval\", lambda snap : snap.xyz[0][1])\n",
    "vis = paths.LiveVisualization(mstis, xval, yval, [-1.0, 1.0], [-1.0, 1.0])\n",
    "vis.background = background.plot()"
   ]
  },
  {
   "cell_type": "code",
   "execution_count": null,
   "metadata": {
    "collapsed": false
   },
   "outputs": [],
   "source": [
    "vis.draw_samples(first_samples)"
   ]
  },
  {
   "cell_type": "code",
   "execution_count": null,
   "metadata": {
    "collapsed": false
   },
   "outputs": [],
   "source": [
    "import time\n",
    "max_step = 10\n",
    "for step in storage.steps[0:max_step]:\n",
    "    vis.draw_ipynb(step)\n",
    "    time.sleep(0.1)"
   ]
  },
  {
   "cell_type": "markdown",
   "metadata": {},
   "source": [
    "## Histogramming data (TODO)"
   ]
  },
  {
   "cell_type": "code",
   "execution_count": null,
   "metadata": {
    "collapsed": true
   },
   "outputs": [],
   "source": []
  },
  {
   "cell_type": "code",
   "execution_count": null,
   "metadata": {
    "collapsed": true
   },
   "outputs": [],
   "source": []
  },
  {
   "cell_type": "code",
   "execution_count": null,
   "metadata": {
    "collapsed": true
   },
   "outputs": [],
   "source": []
  }
 ],
 "metadata": {
  "kernelspec": {
   "display_name": "Python 2",
   "language": "python",
   "name": "python2"
  },
  "language_info": {
   "codemirror_mode": {
    "name": "ipython",
    "version": 2
   },
   "file_extension": ".py",
   "mimetype": "text/x-python",
   "name": "python",
   "nbconvert_exporter": "python",
   "pygments_lexer": "ipython2",
   "version": "2.7.9"
  }
 },
 "nbformat": 4,
 "nbformat_minor": 0
}

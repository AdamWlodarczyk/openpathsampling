{
 "cells": [
  {
   "cell_type": "code",
   "execution_count": 1,
   "metadata": {
    "collapsed": false
   },
   "outputs": [],
   "source": [
    "%matplotlib inline\n",
    "import matplotlib.pyplot as plt\n",
    "import openpathsampling as paths\n",
    "import numpy as np\n",
    "\n",
    "storage = paths.storage.Storage(\"mstis.nc\", mode=\"r\")"
   ]
  },
  {
   "cell_type": "code",
   "execution_count": 2,
   "metadata": {
    "collapsed": false,
    "scrolled": true
   },
   "outputs": [],
   "source": [
    "mstis = storage.networks.load(0)"
   ]
  },
  {
   "cell_type": "code",
   "execution_count": 3,
   "metadata": {
    "collapsed": false
   },
   "outputs": [
    {
     "name": "stdout",
     "output_type": "stream",
     "text": [
      "Multiple State TIS Network:\n",
      "RETISTransition: Out A\n",
      "A -> A or all states except A\n",
      "Interface: 0.0<opA<0.04\n",
      "Interface: 0.0<opA<0.09\n",
      "Interface: 0.0<opA<0.16\n",
      "RETISTransition: Out B\n",
      "B -> B or all states except B\n",
      "Interface: 0.0<opB<0.04\n",
      "Interface: 0.0<opB<0.09\n",
      "Interface: 0.0<opB<0.16\n",
      "RETISTransition: Out C\n",
      "C -> C or all states except C\n",
      "Interface: 0.0<opC<0.04\n",
      "Interface: 0.0<opC<0.09\n",
      "Interface: 0.0<opC<0.16\n",
      "\n"
     ]
    }
   ],
   "source": [
    "print mstis"
   ]
  },
  {
   "cell_type": "code",
   "execution_count": 4,
   "metadata": {
    "collapsed": false
   },
   "outputs": [],
   "source": [
    "stateA = storage.volumes.find_first(\"A\")"
   ]
  },
  {
   "cell_type": "code",
   "execution_count": 5,
   "metadata": {
    "collapsed": false
   },
   "outputs": [
    {
     "name": "stdout",
     "output_type": "stream",
     "text": [
      "RETISTransition: Out A\n",
      "A -> A or all states except A\n",
      "Interface: 0.0<opA<0.04\n",
      "Interface: 0.0<opA<0.09\n",
      "Interface: 0.0<opA<0.16\n",
      "\n"
     ]
    }
   ],
   "source": [
    "print mstis.from_state[stateA]"
   ]
  },
  {
   "cell_type": "code",
   "execution_count": 6,
   "metadata": {
    "collapsed": false
   },
   "outputs": [
    {
     "name": "stdout",
     "output_type": "stream",
     "text": [
      "[<openpathsampling.ensemble.TISEnsemble object at 0x10caa1710>, <openpathsampling.ensemble.TISEnsemble object at 0x10ca7b4d0>, <openpathsampling.ensemble.TISEnsemble object at 0x10caa11d0>]\n"
     ]
    }
   ],
   "source": [
    "print mstis.from_state[stateA].ensembles"
   ]
  },
  {
   "cell_type": "code",
   "execution_count": 7,
   "metadata": {
    "collapsed": true
   },
   "outputs": [],
   "source": [
    "mstis.hist_args['max_lambda'] = { 'bin_width' : 0.02, 'bin_range' : (-0.35, 0.35) }\n",
    "mstis.hist_args['pathlength'] = { 'bin_width' : 5, 'bin_range' : (0, 150) }"
   ]
  },
  {
   "cell_type": "code",
   "execution_count": 8,
   "metadata": {
    "collapsed": false
   },
   "outputs": [
    {
     "name": "stdout",
     "output_type": "stream",
     "text": [
      "A C nan 0.435194812079 0.0 nan\n",
      "B B nan 0.105107741676 0.35964035964 nan\n",
      "A B nan 0.435194812079 0.0 nan\n",
      "A A nan 0.435194812079 1.0 nan\n",
      "B C nan 0.105107741676 0.0769230769231 nan\n",
      "B A nan 0.105107741676 0.563436563437 nan\n",
      "C A nan 0.229069325916 0.0919080919081 nan\n",
      "C B nan 0.229069325916 0.0789210789211 nan\n",
      "C C nan 0.229069325916 0.829170829171 nan\n"
     ]
    },
    {
     "name": "stderr",
     "output_type": "stream",
     "text": [
      "/opt/local/Library/Frameworks/Python.framework/Versions/2.7/lib/python2.7/site-packages/numpy/core/_methods.py:59: RuntimeWarning: Mean of empty slice.\n",
      "  warnings.warn(\"Mean of empty slice.\", RuntimeWarning)\n"
     ]
    }
   ],
   "source": [
    "mstis.rate_matrix(storage)"
   ]
  },
  {
   "cell_type": "code",
   "execution_count": null,
   "metadata": {
    "collapsed": true
   },
   "outputs": [],
   "source": []
  }
 ],
 "metadata": {
  "kernelspec": {
   "display_name": "Python 2",
   "language": "python",
   "name": "python2"
  },
  "language_info": {
   "codemirror_mode": {
    "name": "ipython",
    "version": 2
   },
   "file_extension": ".py",
   "mimetype": "text/x-python",
   "name": "python",
   "nbconvert_exporter": "python",
   "pygments_lexer": "ipython2",
   "version": "2.7.9"
  }
 },
 "nbformat": 4,
 "nbformat_minor": 0
}

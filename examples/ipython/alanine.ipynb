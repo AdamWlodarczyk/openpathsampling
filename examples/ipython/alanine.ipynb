{
 "cells": [
  {
   "cell_type": "markdown",
   "metadata": {},
   "source": [
    "# OPENTIS\n",
    "## An Example with Alanine"
   ]
  },
  {
   "cell_type": "markdown",
   "metadata": {},
   "source": [
    "Import Modules"
   ]
  },
  {
   "cell_type": "code",
   "execution_count": 2,
   "metadata": {
    "collapsed": false
   },
   "outputs": [],
   "source": [
    "import numpy as np\n",
    "import mdtraj as md\n",
    "import pandas as pd\n",
    "import time\n",
    "import sys, os\n",
    " \n",
    "# in principle, all of these imports should be simplified once this is a package\n",
    "from openpathsampling.collectivevariable import CV_Function, CV_Volume, CV_MD_Function\n",
    "from openpathsampling.snapshot import Snapshot\n",
    "from openpathsampling.volume import CVRangeVolumePeriodic, VolumeFactory as vf\n",
    "from openpathsampling.pathmover import PathMoverFactory as mf\n",
    "from openpathsampling.ensemble import EnsembleFactory as ef\n",
    "from openpathsampling.ensemble import (LengthEnsemble, SequentialEnsemble, AllOutXEnsemble,\n",
    "                      AllInXEnsemble, PartInXEnsemble, PartOutXEnsemble)\n",
    "from openpathsampling.storage import Storage\n",
    "from openpathsampling.trajectory import Trajectory\n",
    "from openpathsampling.pathsimulator import Bootstrapping\n",
    "from openpathsampling.shooting import UniformSelector\n",
    "from openpathsampling.pathmover import PathMover, SampleMover\n",
    "import simtk.unit as u\n",
    "\n",
    "from openpathsampling.openmm_engine import OpenMMEngine\n",
    "\n",
    "from openpathsampling.storage import Storage\n",
    "from openpathsampling.visualize import PathTreeBuilder\n",
    "from IPython.display import SVG\n",
    "\n",
    "import openpathsampling as paths"
   ]
  },
  {
   "cell_type": "markdown",
   "metadata": {},
   "source": [
    "Radians to Degree conversion"
   ]
  },
  {
   "cell_type": "code",
   "execution_count": 3,
   "metadata": {
    "collapsed": true
   },
   "outputs": [],
   "source": [
    "degrees = 180/3.14159 # psi reports in radians; I think in degrees"
   ]
  },
  {
   "cell_type": "markdown",
   "metadata": {},
   "source": [
    "Create an AlanineOpenMMSimulator for demonstration purposes"
   ]
  },
  {
   "cell_type": "markdown",
   "metadata": {},
   "source": [
    "### Set simulation options and create a simulator object"
   ]
  },
  {
   "cell_type": "code",
   "execution_count": 4,
   "metadata": {
    "collapsed": true
   },
   "outputs": [],
   "source": [
    "options = {\n",
    "            'temperature' : 300.0 * u.kelvin,\n",
    "            'collision_rate' : 1.0 / u.picoseconds,\n",
    "            'timestep' : 2.0 * u.femtoseconds,\n",
    "            'nsteps_per_frame' : 10,\n",
    "            'n_frames_max' : 5000,\n",
    "            'start_time' : time.time(),\n",
    "            'fn_initial_pdb' : \"../data/Alanine_solvated.pdb\",\n",
    "            'platform' : 'fastest',\n",
    "            'solute_indices' : range(22),\n",
    "            'forcefield_solute' : 'amber96.xml',\n",
    "            'forcefield_solvent' : 'tip3p.xml'\n",
    "           }"
   ]
  },
  {
   "cell_type": "code",
   "execution_count": 5,
   "metadata": {
    "collapsed": true
   },
   "outputs": [],
   "source": [
    "template = paths.tools.snapshot_from_pdb(\"../data/Alanine_solvated.pdb\")"
   ]
  },
  {
   "cell_type": "code",
   "execution_count": 5,
   "metadata": {
    "collapsed": false
   },
   "outputs": [],
   "source": [
    "engine = paths.SimpleOpenMMEngine(\n",
    "                template=template,\n",
    "                options=options\n",
    "                )\n",
    "engine.create()"
   ]
  },
  {
   "cell_type": "code",
   "execution_count": 6,
   "metadata": {
    "collapsed": true
   },
   "outputs": [],
   "source": [
    "storage = paths.storage.Storage(\"trajectory.nc\", template=template)"
   ]
  },
  {
   "cell_type": "markdown",
   "metadata": {},
   "source": [
    "And save the storage in a separate variable for convenience"
   ]
  },
  {
   "cell_type": "code",
   "execution_count": 6,
   "metadata": {
    "collapsed": false
   },
   "outputs": [],
   "source": [
    "storage = engine.storage\n",
    "paths.EngineMover.engine = engine"
   ]
  },
  {
   "cell_type": "markdown",
   "metadata": {},
   "source": [
    "Equilibrate"
   ]
  },
  {
   "cell_type": "code",
   "execution_count": 7,
   "metadata": {
    "collapsed": false
   },
   "outputs": [],
   "source": [
    "engine.current_snapshot = engine.template\n",
    "engine.equilibrate(5)"
   ]
  },
  {
   "cell_type": "markdown",
   "metadata": {},
   "source": [
    "Save equilibrated snapshot with index 0"
   ]
  },
  {
   "cell_type": "code",
   "execution_count": 8,
   "metadata": {
    "collapsed": false
   },
   "outputs": [],
   "source": [
    "storage.save(engine.current_snapshot);"
   ]
  },
  {
   "cell_type": "markdown",
   "metadata": {},
   "source": [
    "### Order Parameters"
   ]
  },
  {
   "cell_type": "markdown",
   "metadata": {},
   "source": [
    "this generates an order parameter (callable) object named psi (so if we call `psi(trajectory)` we get a list of the values of psi for each frame in the trajectory). This particular order parameter uses mdtraj's compute_dihedrals function, with the atoms in psi_atoms"
   ]
  },
  {
   "cell_type": "code",
   "execution_count": 10,
   "metadata": {
    "collapsed": false
   },
   "outputs": [],
   "source": [
    "psi_atoms = [6,8,14,16]\n",
    "psi = CV_MD_Function(\"psi\", md.compute_dihedrals,\n",
    "                  indices=[psi_atoms])\n",
    "\n",
    "phi_atoms = [4,6,8,14]\n",
    "phi = CV_MD_Function(\"phi\", md.compute_dihedrals,\n",
    "                  indices=[phi_atoms])"
   ]
  },
  {
   "cell_type": "code",
   "execution_count": 11,
   "metadata": {
    "collapsed": false
   },
   "outputs": [],
   "source": [
    "storage.save([psi, phi]);"
   ]
  },
  {
   "cell_type": "markdown",
   "metadata": {},
   "source": [
    "### Volumes"
   ]
  },
  {
   "cell_type": "markdown",
   "metadata": {},
   "source": [
    "This creates two states using a one-dimensional order parameter (called _Lambda_ in TIS terminology). A snapshot is in the State as long as the order parameter is with specific bounds. "
   ]
  },
  {
   "cell_type": "code",
   "execution_count": 12,
   "metadata": {
    "collapsed": true
   },
   "outputs": [],
   "source": [
    "stateA = CVRangeVolumePeriodic(\n",
    "    collectivevariable=psi, \n",
    "    lambda_min=-120.0/degrees, \n",
    "    lambda_max=-30.0/degrees, \n",
    "    period_min=-180.0/degrees, \n",
    "    period_max=+180.0/degrees\n",
    ")\n",
    "stateB = CVRangeVolumePeriodic(psi, 100/degrees, 180/degrees, -180.0/degrees, +180.0/degrees)"
   ]
  },
  {
   "cell_type": "markdown",
   "metadata": {},
   "source": [
    "Now do the same for a set of lambda ranges to produce nested volumes."
   ]
  },
  {
   "cell_type": "code",
   "execution_count": 13,
   "metadata": {
    "collapsed": true
   },
   "outputs": [],
   "source": [
    "minima = map((1.0 / degrees).__mul__,\n",
    "             [-125, -135, -140, -142.5, -145.0, -147.0, -150.0])\n",
    "\n",
    "maxima = map((1.0 / degrees).__mul__,\n",
    "             [-25.0, -21.0, -18.5, -17.0, -15.0, -10.0, 0.0])\n",
    "\n",
    "volume_set = vf.CVRangeVolumePeriodicSet(psi, minima, maxima, -180.0/degrees, +180.0/degrees)"
   ]
  },
  {
   "cell_type": "markdown",
   "metadata": {},
   "source": [
    "### Ensembles"
   ]
  },
  {
   "cell_type": "markdown",
   "metadata": {},
   "source": [
    "Now do this automatically for all ensembles"
   ]
  },
  {
   "cell_type": "code",
   "execution_count": 14,
   "metadata": {
    "collapsed": false
   },
   "outputs": [],
   "source": [
    "interface0 = volume_set[0]\n",
    "interface_set = ef.TISEnsembleSet(stateA, stateA | stateB, volume_set, psi)\n",
    "for no, interface in enumerate(interface_set):\n",
    "    # Give each interface a name\n",
    "    interface.name = 'Interface '+str(no)\n",
    "    # And save all of these\n",
    "    storage.ensembles.save(interface)"
   ]
  },
  {
   "cell_type": "markdown",
   "metadata": {},
   "source": [
    "And create a special ensemble, that will create a first trajectory in the innermost TIS ensemble independent from where we start"
   ]
  },
  {
   "cell_type": "markdown",
   "metadata": {},
   "source": [
    "The idea is to describe a trajectory type by a sequence of positions. First can be outside of stateA or not, then be inside stateA, etc..."
   ]
  },
  {
   "cell_type": "code",
   "execution_count": 15,
   "metadata": {
    "collapsed": true
   },
   "outputs": [],
   "source": [
    "first_traj_ensemble = SequentialEnsemble([\n",
    "    AllOutXEnsemble(stateA) | LengthEnsemble(0),\n",
    "    AllInXEnsemble(stateA),\n",
    "    (AllOutXEnsemble(stateA) & AllInXEnsemble(interface0)) | LengthEnsemble(0),\n",
    "    AllInXEnsemble(interface0) | LengthEnsemble(0),\n",
    "    AllOutXEnsemble(interface0),\n",
    "    AllOutXEnsemble(stateA) | LengthEnsemble(0),\n",
    "    AllInXEnsemble(stateA) & LengthEnsemble(1)\n",
    "])"
   ]
  },
  {
   "cell_type": "code",
   "execution_count": 16,
   "metadata": {
    "collapsed": false
   },
   "outputs": [
    {
     "name": "stdout",
     "output_type": "stream",
     "text": [
      "OpenCL\n"
     ]
    }
   ],
   "source": [
    "platform = engine.simulation.context.getPlatform()\n",
    "print platform.getName()"
   ]
  },
  {
   "cell_type": "markdown",
   "metadata": {},
   "source": [
    "### start path generation"
   ]
  },
  {
   "cell_type": "markdown",
   "metadata": {},
   "source": [
    "so lets try and see if we can generate a first path"
   ]
  },
  {
   "cell_type": "markdown",
   "metadata": {},
   "source": [
    "load the initial snapshot (although we still have it) and generate using the Alanine simulator. The second option specifies a function : trajectory -> bool that keeps the simulation running as long as it is true. Our goal was to generate a path that belongs to a specific ensemble, so we use `forward` to determine if it makes sense to keep running or if the result cannot belong to the ensemble anymore."
   ]
  },
  {
   "cell_type": "code",
   "execution_count": 17,
   "metadata": {
    "collapsed": false
   },
   "outputs": [],
   "source": [
    "snapshot = storage.load(Snapshot, 0)\n",
    "total_path = engine.generate(\n",
    "    snapshot= snapshot, \n",
    "    running = [first_traj_ensemble.can_append]\n",
    ")"
   ]
  },
  {
   "cell_type": "markdown",
   "metadata": {},
   "source": [
    "Show the length"
   ]
  },
  {
   "cell_type": "code",
   "execution_count": 18,
   "metadata": {
    "collapsed": false
   },
   "outputs": [
    {
     "name": "stdout",
     "output_type": "stream",
     "text": [
      "Total trajectory length:  70\n"
     ]
    }
   ],
   "source": [
    "print \"Total trajectory length: \", len(total_path)"
   ]
  },
  {
   "cell_type": "markdown",
   "metadata": {},
   "source": [
    "And save the trajetory completely"
   ]
  },
  {
   "cell_type": "code",
   "execution_count": 19,
   "metadata": {
    "collapsed": true
   },
   "outputs": [],
   "source": [
    "storage.save(total_path);"
   ]
  },
  {
   "cell_type": "markdown",
   "metadata": {},
   "source": [
    "Split the trajectory into parts that belong to the TIS ensemble (not the one we generated)"
   ]
  },
  {
   "cell_type": "code",
   "execution_count": 20,
   "metadata": {
    "collapsed": false
   },
   "outputs": [
    {
     "name": "stdout",
     "output_type": "stream",
     "text": [
      "Traj in first_traj_ensemble? (should be) True\n",
      "Traj in TIS ensemble? (probably not) False\n",
      "Number of segments in TIS ensemble:  1\n",
      "Length of each segment:\n",
      "  seg[0]: 3\n"
     ]
    }
   ],
   "source": [
    "interface0_ensemble = interface_set[0]\n",
    "segments = interface0_ensemble.split(total_path)\n",
    "\n",
    "print \"Traj in first_traj_ensemble? (should be)\", \n",
    "print first_traj_ensemble(total_path)\n",
    "\n",
    "print \"Traj in TIS ensemble? (probably not)\", \n",
    "print interface0_ensemble(total_path)\n",
    "\n",
    "\n",
    "print \"Number of segments in TIS ensemble: \", len(segments)\n",
    "if len(segments):\n",
    "    print \"Length of each segment:\"\n",
    "    for i in range(len(segments)):\n",
    "        print \"  seg[{0}]: {1}\".format(i, len(segments[i]))"
   ]
  },
  {
   "cell_type": "markdown",
   "metadata": {},
   "source": [
    "Show some results and check if this worked"
   ]
  },
  {
   "cell_type": "code",
   "execution_count": 21,
   "metadata": {
    "collapsed": false
   },
   "outputs": [
    {
     "data": {
      "text/html": [
       "<div>\n",
       "<table border=\"1\" class=\"dataframe\">\n",
       "  <thead>\n",
       "    <tr style=\"text-align: right;\">\n",
       "      <th></th>\n",
       "      <th>phi</th>\n",
       "      <th>psi</th>\n",
       "      <th>stateA</th>\n",
       "      <th>interface0</th>\n",
       "      <th>stateB</th>\n",
       "      <th>appendable</th>\n",
       "    </tr>\n",
       "  </thead>\n",
       "  <tbody>\n",
       "    <tr>\n",
       "      <th>0</th>\n",
       "      <td>-80.208523</td>\n",
       "      <td>-10.277041</td>\n",
       "      <td>[False]</td>\n",
       "      <td>[False]</td>\n",
       "      <td>[False]</td>\n",
       "      <td>True</td>\n",
       "    </tr>\n",
       "    <tr>\n",
       "      <th>1</th>\n",
       "      <td>-83.107305</td>\n",
       "      <td>-12.129789</td>\n",
       "      <td>[False]</td>\n",
       "      <td>[False]</td>\n",
       "      <td>[False]</td>\n",
       "      <td>True</td>\n",
       "    </tr>\n",
       "    <tr>\n",
       "      <th>2</th>\n",
       "      <td>-81.015538</td>\n",
       "      <td>-11.834304</td>\n",
       "      <td>[False]</td>\n",
       "      <td>[False]</td>\n",
       "      <td>[False]</td>\n",
       "      <td>True</td>\n",
       "    </tr>\n",
       "    <tr>\n",
       "      <th>67</th>\n",
       "      <td>-107.568399</td>\n",
       "      <td>-45.302794</td>\n",
       "      <td>[True]</td>\n",
       "      <td>[True]</td>\n",
       "      <td>[False]</td>\n",
       "      <td>True</td>\n",
       "    </tr>\n",
       "    <tr>\n",
       "      <th>68</th>\n",
       "      <td>-123.721127</td>\n",
       "      <td>-24.234408</td>\n",
       "      <td>[False]</td>\n",
       "      <td>[False]</td>\n",
       "      <td>[False]</td>\n",
       "      <td>True</td>\n",
       "    </tr>\n",
       "    <tr>\n",
       "      <th>69</th>\n",
       "      <td>-125.800293</td>\n",
       "      <td>-40.295152</td>\n",
       "      <td>[True]</td>\n",
       "      <td>[True]</td>\n",
       "      <td>[False]</td>\n",
       "      <td>False</td>\n",
       "    </tr>\n",
       "  </tbody>\n",
       "</table>\n",
       "</div>"
      ],
      "text/plain": [
       "           phi        psi   stateA interface0   stateB appendable\n",
       "0   -80.208523 -10.277041  [False]    [False]  [False]       True\n",
       "1   -83.107305 -12.129789  [False]    [False]  [False]       True\n",
       "2   -81.015538 -11.834304  [False]    [False]  [False]       True\n",
       "67 -107.568399 -45.302794   [True]     [True]  [False]       True\n",
       "68 -123.721127 -24.234408  [False]    [False]  [False]       True\n",
       "69 -125.800293 -40.295152   [True]     [True]  [False]      False"
      ]
     },
     "execution_count": 21,
     "metadata": {},
     "output_type": "execute_result"
    }
   ],
   "source": [
    "data = []\n",
    "for frame in total_path:\n",
    "    data.append((phi(frame)[0]*degrees, psi(frame)[0]*degrees, stateA(frame), interface0(frame), stateB(frame), first_traj_ensemble.can_append(total_path[slice(0,total_path.index(frame)+1)])))\n",
    "    \n",
    "dataframe = pd.DataFrame(data, columns=['phi', 'psi', 'stateA', 'interface0', 'stateB', 'appendable'])\n",
    "dataframe[[0,1,2,3,4,5]].ix[[0,1,2,len(dataframe)-3,len(dataframe)-2,len(dataframe)-1]]"
   ]
  },
  {
   "cell_type": "code",
   "execution_count": 22,
   "metadata": {
    "collapsed": false
   },
   "outputs": [
    {
     "name": "stdout",
     "output_type": "stream",
     "text": [
      "Do our segments satisfy the ensemble? True\n"
     ]
    }
   ],
   "source": [
    "print \"Do our segments satisfy the ensemble?\",\n",
    "for seg in segments:\n",
    "    print interface0_ensemble(seg),"
   ]
  },
  {
   "cell_type": "code",
   "execution_count": 23,
   "metadata": {
    "collapsed": false
   },
   "outputs": [
    {
     "data": {
      "text/html": [
       "<div>\n",
       "<table border=\"1\" class=\"dataframe\">\n",
       "  <thead>\n",
       "    <tr style=\"text-align: right;\">\n",
       "      <th></th>\n",
       "      <th>phi</th>\n",
       "      <th>psi</th>\n",
       "      <th>stateA</th>\n",
       "      <th>interface0</th>\n",
       "      <th>stateB</th>\n",
       "      <th>appendable</th>\n",
       "    </tr>\n",
       "  </thead>\n",
       "  <tbody>\n",
       "    <tr>\n",
       "      <th>0</th>\n",
       "      <td>-107.568399</td>\n",
       "      <td>-45.302794</td>\n",
       "      <td>[True]</td>\n",
       "      <td>[True]</td>\n",
       "      <td>[False]</td>\n",
       "      <td>True</td>\n",
       "    </tr>\n",
       "    <tr>\n",
       "      <th>1</th>\n",
       "      <td>-123.721127</td>\n",
       "      <td>-24.234408</td>\n",
       "      <td>[False]</td>\n",
       "      <td>[False]</td>\n",
       "      <td>[False]</td>\n",
       "      <td>True</td>\n",
       "    </tr>\n",
       "    <tr>\n",
       "      <th>2</th>\n",
       "      <td>-125.800293</td>\n",
       "      <td>-40.295152</td>\n",
       "      <td>[True]</td>\n",
       "      <td>[True]</td>\n",
       "      <td>[False]</td>\n",
       "      <td>False</td>\n",
       "    </tr>\n",
       "  </tbody>\n",
       "</table>\n",
       "</div>"
      ],
      "text/plain": [
       "          phi        psi   stateA interface0   stateB appendable\n",
       "0 -107.568399 -45.302794   [True]     [True]  [False]       True\n",
       "1 -123.721127 -24.234408  [False]    [False]  [False]       True\n",
       "2 -125.800293 -40.295152   [True]     [True]  [False]      False"
      ]
     },
     "execution_count": 23,
     "metadata": {},
     "output_type": "execute_result"
    }
   ],
   "source": [
    "data = []\n",
    "for frame in segments[0]:\n",
    "    data.append((phi(frame)[0]*degrees, psi(frame)[0]*degrees, stateA(frame), interface0(frame), stateB(frame), first_traj_ensemble.can_append(total_path[slice(0,total_path.index(frame)+1)])))\n",
    "    \n",
    "dataframe = pd.DataFrame(data, columns=['phi', 'psi', 'stateA', 'interface0', 'stateB', 'appendable'])\n",
    "dataframe[[0,1,2,3,4,5]]"
   ]
  },
  {
   "cell_type": "markdown",
   "metadata": {},
   "source": [
    "### Bootstrapping"
   ]
  },
  {
   "cell_type": "markdown",
   "metadata": {},
   "source": [
    "Run a bootstrapping (not TIS) simulation that shoots from an ensemble until the next interface is reached then switch to the next ensemble to drive the system out of stateA"
   ]
  },
  {
   "cell_type": "code",
   "execution_count": 24,
   "metadata": {
    "collapsed": true
   },
   "outputs": [],
   "source": [
    "mover_set = mf.OneWayShootingSet(UniformSelector(), interface_set)"
   ]
  },
  {
   "cell_type": "code",
   "execution_count": 25,
   "metadata": {
    "collapsed": false
   },
   "outputs": [],
   "source": [
    "bootstrap = Bootstrapping(storage=storage,\n",
    "                          engine=engine,\n",
    "                          ensembles=interface_set,\n",
    "                          movers=mover_set,\n",
    "                          trajectory=segments[0])"
   ]
  },
  {
   "cell_type": "markdown",
   "metadata": {},
   "source": [
    "Run Bootstrapping with at most 50 attempts per ensemble"
   ]
  },
  {
   "cell_type": "code",
   "execution_count": 26,
   "metadata": {
    "collapsed": false
   },
   "outputs": [
    {
     "name": "stdout",
     "output_type": "stream",
     "text": [
      "DONE! Completed Bootstrapping cycle step 50 in ensemble 1/7 .\n",
      "\n"
     ]
    }
   ],
   "source": [
    "bootstrap.run(50)"
   ]
  },
  {
   "cell_type": "markdown",
   "metadata": {},
   "source": [
    "Save all computed phi/psi values which depends on whether they have been needed before"
   ]
  },
  {
   "cell_type": "code",
   "execution_count": 27,
   "metadata": {
    "collapsed": true
   },
   "outputs": [],
   "source": [
    "storage.collectivevariables.sync(psi);\n",
    "storage.collectivevariables.sync(phi);"
   ]
  },
  {
   "cell_type": "markdown",
   "metadata": {},
   "source": [
    "Create an collectivevariable from a volume which is just 1 or 0 and can thus be stored for later analysis"
   ]
  },
  {
   "cell_type": "code",
   "execution_count": 28,
   "metadata": {
    "collapsed": true
   },
   "outputs": [],
   "source": [
    "op_inA = CV_Volume('StateA', stateA)\n",
    "op_inA.uid = 'StateA'\n",
    "op_inB = CV_Volume('StateB', stateB)\n",
    "op_inB.uid = 'StateB'\n",
    "op_notinAorB = CV_Volume('StateX', ~ (stateA | stateB))\n",
    "op_notinAorB.uid = 'StateX'"
   ]
  },
  {
   "cell_type": "markdown",
   "metadata": {},
   "source": [
    "Compute the collectivevariable for all snapshots"
   ]
  },
  {
   "cell_type": "code",
   "execution_count": 29,
   "metadata": {
    "collapsed": false
   },
   "outputs": [],
   "source": [
    "#op_inA(storage.snapshots)\n",
    "#op_inB(storage.snapshots)\n",
    "#op_notinAorB(storage.snapshots);"
   ]
  },
  {
   "cell_type": "markdown",
   "metadata": {},
   "source": [
    "Save the new collectivevariables"
   ]
  },
  {
   "cell_type": "code",
   "execution_count": 30,
   "metadata": {
    "collapsed": true
   },
   "outputs": [],
   "source": [
    "storage.save([op_inA, op_inB, op_notinAorB]);\n",
    "storage.cvs.sync()\n",
    "storage.sync()"
   ]
  },
  {
   "cell_type": "code",
   "execution_count": 31,
   "metadata": {
    "collapsed": true
   },
   "outputs": [],
   "source": [
    "storage.close()"
   ]
  },
  {
   "cell_type": "code",
   "execution_count": 32,
   "metadata": {
    "collapsed": true
   },
   "outputs": [],
   "source": [
    "import openpathsampling as paths\n",
    "from openpathsampling.visualize import PathTreeBuilder\n",
    "from IPython.display import SVG\n",
    "import mdtraj"
   ]
  },
  {
   "cell_type": "code",
   "execution_count": 33,
   "metadata": {
    "collapsed": false
   },
   "outputs": [],
   "source": [
    "storage = paths.storage.Storage('trajectory.nc', mode='r')"
   ]
  },
  {
   "cell_type": "markdown",
   "metadata": {},
   "source": [
    "## Visualization"
   ]
  },
  {
   "cell_type": "markdown",
   "metadata": {},
   "source": [
    "Create a PathTree generator"
   ]
  },
  {
   "cell_type": "code",
   "execution_count": 34,
   "metadata": {
    "collapsed": false
   },
   "outputs": [],
   "source": [
    "tree = PathTreeBuilder(storage)"
   ]
  },
  {
   "cell_type": "markdown",
   "metadata": {},
   "source": [
    "Change the settings to show rejected pathways, mark OrderParaemters `stateA` and `stateX`, and show the 'psi' value as text inside of the boxes"
   ]
  },
  {
   "cell_type": "code",
   "execution_count": 35,
   "metadata": {
    "collapsed": false
   },
   "outputs": [],
   "source": [
    "tree.rejected = False\n",
    "tree.states = [ ('orange',storage.cvs[2])]\n",
    "# Some ideas for collectivevariables to visualize\n",
    "tree.op = lambda snap : 'B' if snap.reversed else 'F'\n",
    "tree.op = lambda snap : int(psi(snap)[0]/3.1415926 * 180)\n",
    "tree.op = lambda snap : snap.configuration.idx[storage]\n",
    "samps = tree.construct_heritage(storage.samples[len(storage.samples) - 1])\n",
    "tree.from_samples(samps)\n",
    "#for sset in storage.samplesets:\n",
    "#    print sset.movepath\n",
    "    \n",
    "#for s in samps:\n",
    "#    print (s, s.ensemble.idx[storage], s.replica, len(tree.construct_heritage(s)), s.mover.__class__.__name__)"
   ]
  },
  {
   "cell_type": "markdown",
   "metadata": {},
   "source": [
    "Render the tree"
   ]
  },
  {
   "cell_type": "code",
   "execution_count": 36,
   "metadata": {
    "collapsed": false
   },
   "outputs": [
    {
     "data": {
      "image/svg+xml": [
       "<svg baseProfile=\"full\" height=\"1425.6px\" version=\"1.1\" width=\"316.8px\" xmlns=\"http://www.w3.org/2000/svg\" xmlns:ev=\"http://www.w3.org/2001/xml-events\" xmlns:xlink=\"http://www.w3.org/1999/xlink\"><defs/><text alignment-baseline=\"middle\" fill=\"black\" font-family=\"Futura\" font-size=\"9.24\" text-anchor=\"end\" x=\"205.92\" y=\"27.72\">10b</text><rect fill=\"black\" height=\"15.84\" width=\"23.76\" x=\"212.52\" y=\"18.48\"/><circle cx=\"237.6\" cy=\"26.4\" fill=\"black\" r=\"1.32\" stroke=\"black\" stroke-width=\"0\"/><text alignment-baseline=\"middle\" fill=\"white\" font-family=\"Futura\" font-size=\"9.24\" text-anchor=\"middle\" x=\"224.4\" y=\"27.72\">212</text><rect fill=\"black\" height=\"15.84\" width=\"23.76\" x=\"238.92\" y=\"18.48\"/><circle cx=\"237.6\" cy=\"26.4\" fill=\"black\" r=\"1.32\" stroke=\"black\" stroke-width=\"0\"/><circle cx=\"264.0\" cy=\"26.4\" fill=\"black\" r=\"1.32\" stroke=\"black\" stroke-width=\"0\"/><text alignment-baseline=\"middle\" fill=\"white\" font-family=\"Futura\" font-size=\"9.24\" text-anchor=\"middle\" x=\"250.8\" y=\"27.72\">209</text><rect fill=\"black\" height=\"15.84\" width=\"23.76\" x=\"265.32\" y=\"18.48\"/><circle cx=\"264.0\" cy=\"26.4\" fill=\"black\" r=\"1.32\" stroke=\"black\" stroke-width=\"0\"/><text alignment-baseline=\"middle\" fill=\"white\" font-family=\"Futura\" font-size=\"9.24\" text-anchor=\"middle\" x=\"277.2\" y=\"27.72\">210</text><line stroke=\"red\" stroke-width=\"1.32\" x1=\"237.6\" x2=\"237.6\" y1=\"27.72\" y2=\"51.48\"/><text alignment-baseline=\"middle\" fill=\"black\" font-family=\"Futura\" font-size=\"9.24\" text-anchor=\"start\" x=\"295.68\" y=\"54.12\">11f</text><rect fill=\"red\" height=\"15.84\" width=\"23.76\" x=\"238.92\" y=\"44.88\"/><circle cx=\"237.6\" cy=\"52.8\" fill=\"red\" r=\"1.32\" stroke=\"red\" stroke-width=\"0\"/><circle cx=\"264.0\" cy=\"52.8\" fill=\"red\" r=\"1.32\" stroke=\"red\" stroke-width=\"0\"/><text alignment-baseline=\"middle\" fill=\"white\" font-family=\"Futura\" font-size=\"9.24\" text-anchor=\"middle\" x=\"250.8\" y=\"54.12\">209</text><rect fill=\"red\" height=\"15.84\" width=\"23.76\" x=\"265.32\" y=\"44.88\"/><circle cx=\"264.0\" cy=\"52.8\" fill=\"red\" r=\"1.32\" stroke=\"red\" stroke-width=\"0\"/><text alignment-baseline=\"middle\" fill=\"white\" font-family=\"Futura\" font-size=\"9.24\" text-anchor=\"middle\" x=\"277.2\" y=\"54.12\">213</text><line stroke=\"green\" stroke-width=\"1.32\" x1=\"264.0\" x2=\"264.0\" y1=\"54.12\" y2=\"77.88\"/><text alignment-baseline=\"middle\" fill=\"black\" font-family=\"Futura\" font-size=\"9.24\" text-anchor=\"end\" x=\"205.92\" y=\"80.52\">12b</text><rect fill=\"green\" height=\"15.84\" width=\"23.76\" x=\"212.52\" y=\"71.28\"/><circle cx=\"237.6\" cy=\"79.2\" fill=\"green\" r=\"1.32\" stroke=\"green\" stroke-width=\"0\"/><text alignment-baseline=\"middle\" fill=\"white\" font-family=\"Futura\" font-size=\"9.24\" text-anchor=\"middle\" x=\"224.4\" y=\"80.52\">214</text><rect fill=\"green\" height=\"15.84\" width=\"23.76\" x=\"238.92\" y=\"71.28\"/><circle cx=\"237.6\" cy=\"79.2\" fill=\"green\" r=\"1.32\" stroke=\"green\" stroke-width=\"0\"/><circle cx=\"264.0\" cy=\"79.2\" fill=\"green\" r=\"1.32\" stroke=\"green\" stroke-width=\"0\"/><text alignment-baseline=\"middle\" fill=\"white\" font-family=\"Futura\" font-size=\"9.24\" text-anchor=\"middle\" x=\"250.8\" y=\"80.52\">209</text><line stroke=\"green\" stroke-width=\"1.32\" x1=\"264.0\" x2=\"264.0\" y1=\"80.52\" y2=\"104.28\"/><text alignment-baseline=\"middle\" fill=\"black\" font-family=\"Futura\" font-size=\"9.24\" text-anchor=\"end\" x=\"205.92\" y=\"106.92\">13b</text><rect fill=\"green\" height=\"15.84\" width=\"23.76\" x=\"212.52\" y=\"97.68\"/><circle cx=\"237.6\" cy=\"105.6\" fill=\"green\" r=\"1.32\" stroke=\"green\" stroke-width=\"0\"/><text alignment-baseline=\"middle\" fill=\"white\" font-family=\"Futura\" font-size=\"9.24\" text-anchor=\"middle\" x=\"224.4\" y=\"106.92\">215</text><rect fill=\"green\" height=\"15.84\" width=\"23.76\" x=\"238.92\" y=\"97.68\"/><circle cx=\"237.6\" cy=\"105.6\" fill=\"green\" r=\"1.32\" stroke=\"green\" stroke-width=\"0\"/><circle cx=\"264.0\" cy=\"105.6\" fill=\"green\" r=\"1.32\" stroke=\"green\" stroke-width=\"0\"/><text alignment-baseline=\"middle\" fill=\"white\" font-family=\"Futura\" font-size=\"9.24\" text-anchor=\"middle\" x=\"250.8\" y=\"106.92\">209</text><line stroke=\"green\" stroke-width=\"1.32\" x1=\"264.0\" x2=\"264.0\" y1=\"106.92\" y2=\"130.68\"/><text alignment-baseline=\"middle\" fill=\"black\" font-family=\"Futura\" font-size=\"9.24\" text-anchor=\"end\" x=\"205.92\" y=\"133.32\">14b</text><rect fill=\"green\" height=\"15.84\" width=\"23.76\" x=\"212.52\" y=\"124.08\"/><circle cx=\"237.6\" cy=\"132.0\" fill=\"green\" r=\"1.32\" stroke=\"green\" stroke-width=\"0\"/><text alignment-baseline=\"middle\" fill=\"white\" font-family=\"Futura\" font-size=\"9.24\" text-anchor=\"middle\" x=\"224.4\" y=\"133.32\">216</text><rect fill=\"green\" height=\"15.84\" width=\"23.76\" x=\"238.92\" y=\"124.08\"/><circle cx=\"237.6\" cy=\"132.0\" fill=\"green\" r=\"1.32\" stroke=\"green\" stroke-width=\"0\"/><circle cx=\"264.0\" cy=\"132.0\" fill=\"green\" r=\"1.32\" stroke=\"green\" stroke-width=\"0\"/><text alignment-baseline=\"middle\" fill=\"white\" font-family=\"Futura\" font-size=\"9.24\" text-anchor=\"middle\" x=\"250.8\" y=\"133.32\">209</text><line stroke=\"red\" stroke-width=\"1.32\" x1=\"237.6\" x2=\"237.6\" y1=\"133.32\" y2=\"157.08\"/><text alignment-baseline=\"middle\" fill=\"black\" font-family=\"Futura\" font-size=\"9.24\" text-anchor=\"start\" x=\"295.68\" y=\"159.72\">15f</text><rect fill=\"red\" height=\"15.84\" width=\"23.76\" x=\"238.92\" y=\"150.48\"/><circle cx=\"237.6\" cy=\"158.4\" fill=\"red\" r=\"1.32\" stroke=\"red\" stroke-width=\"0\"/><circle cx=\"264.0\" cy=\"158.4\" fill=\"red\" r=\"1.32\" stroke=\"red\" stroke-width=\"0\"/><text alignment-baseline=\"middle\" fill=\"white\" font-family=\"Futura\" font-size=\"9.24\" text-anchor=\"middle\" x=\"250.8\" y=\"159.72\">209</text><rect fill=\"red\" height=\"15.84\" width=\"23.76\" x=\"265.32\" y=\"150.48\"/><circle cx=\"264.0\" cy=\"158.4\" fill=\"red\" r=\"1.32\" stroke=\"red\" stroke-width=\"0\"/><text alignment-baseline=\"middle\" fill=\"white\" font-family=\"Futura\" font-size=\"9.24\" text-anchor=\"middle\" x=\"277.2\" y=\"159.72\">217</text><line stroke=\"red\" stroke-width=\"1.32\" x1=\"237.6\" x2=\"237.6\" y1=\"159.72\" y2=\"183.48\"/><text alignment-baseline=\"middle\" fill=\"black\" font-family=\"Futura\" font-size=\"9.24\" text-anchor=\"start\" x=\"295.68\" y=\"186.12\">16f</text><rect fill=\"red\" height=\"15.84\" width=\"23.76\" x=\"238.92\" y=\"176.88\"/><circle cx=\"237.6\" cy=\"184.8\" fill=\"red\" r=\"1.32\" stroke=\"red\" stroke-width=\"0\"/><circle cx=\"264.0\" cy=\"184.8\" fill=\"red\" r=\"1.32\" stroke=\"red\" stroke-width=\"0\"/><text alignment-baseline=\"middle\" fill=\"white\" font-family=\"Futura\" font-size=\"9.24\" text-anchor=\"middle\" x=\"250.8\" y=\"186.12\">209</text><rect fill=\"red\" height=\"15.84\" width=\"23.76\" x=\"265.32\" y=\"176.88\"/><circle cx=\"264.0\" cy=\"184.8\" fill=\"red\" r=\"1.32\" stroke=\"red\" stroke-width=\"0\"/><text alignment-baseline=\"middle\" fill=\"white\" font-family=\"Futura\" font-size=\"9.24\" text-anchor=\"middle\" x=\"277.2\" y=\"186.12\">218</text><line stroke=\"green\" stroke-width=\"1.32\" x1=\"264.0\" x2=\"264.0\" y1=\"186.12\" y2=\"209.88\"/><text alignment-baseline=\"middle\" fill=\"black\" font-family=\"Futura\" font-size=\"9.24\" text-anchor=\"end\" x=\"205.92\" y=\"212.52\">17b</text><rect fill=\"green\" height=\"15.84\" width=\"23.76\" x=\"212.52\" y=\"203.28\"/><circle cx=\"237.6\" cy=\"211.2\" fill=\"green\" r=\"1.32\" stroke=\"green\" stroke-width=\"0\"/><text alignment-baseline=\"middle\" fill=\"white\" font-family=\"Futura\" font-size=\"9.24\" text-anchor=\"middle\" x=\"224.4\" y=\"212.52\">219</text><rect fill=\"green\" height=\"15.84\" width=\"23.76\" x=\"238.92\" y=\"203.28\"/><circle cx=\"237.6\" cy=\"211.2\" fill=\"green\" r=\"1.32\" stroke=\"green\" stroke-width=\"0\"/><circle cx=\"264.0\" cy=\"211.2\" fill=\"green\" r=\"1.32\" stroke=\"green\" stroke-width=\"0\"/><text alignment-baseline=\"middle\" fill=\"white\" font-family=\"Futura\" font-size=\"9.24\" text-anchor=\"middle\" x=\"250.8\" y=\"212.52\">209</text><line stroke=\"green\" stroke-width=\"1.32\" x1=\"264.0\" x2=\"264.0\" y1=\"212.52\" y2=\"236.28\"/><text alignment-baseline=\"middle\" fill=\"black\" font-family=\"Futura\" font-size=\"9.24\" text-anchor=\"end\" x=\"205.92\" y=\"238.92\">18b</text><rect fill=\"green\" height=\"15.84\" width=\"23.76\" x=\"212.52\" y=\"229.68\"/><circle cx=\"237.6\" cy=\"237.6\" fill=\"green\" r=\"1.32\" stroke=\"green\" stroke-width=\"0\"/><text alignment-baseline=\"middle\" fill=\"white\" font-family=\"Futura\" font-size=\"9.24\" text-anchor=\"middle\" x=\"224.4\" y=\"238.92\">220</text><rect fill=\"green\" height=\"15.84\" width=\"23.76\" x=\"238.92\" y=\"229.68\"/><circle cx=\"237.6\" cy=\"237.6\" fill=\"green\" r=\"1.32\" stroke=\"green\" stroke-width=\"0\"/><circle cx=\"264.0\" cy=\"237.6\" fill=\"green\" r=\"1.32\" stroke=\"green\" stroke-width=\"0\"/><text alignment-baseline=\"middle\" fill=\"white\" font-family=\"Futura\" font-size=\"9.24\" text-anchor=\"middle\" x=\"250.8\" y=\"238.92\">209</text><line stroke=\"green\" stroke-width=\"1.32\" x1=\"264.0\" x2=\"264.0\" y1=\"238.92\" y2=\"262.68\"/><text alignment-baseline=\"middle\" fill=\"black\" font-family=\"Futura\" font-size=\"9.24\" text-anchor=\"end\" x=\"205.92\" y=\"265.32\">19b</text><rect fill=\"green\" height=\"15.84\" width=\"23.76\" x=\"212.52\" y=\"256.08\"/><circle cx=\"237.6\" cy=\"264.0\" fill=\"green\" r=\"1.32\" stroke=\"green\" stroke-width=\"0\"/><text alignment-baseline=\"middle\" fill=\"white\" font-family=\"Futura\" font-size=\"9.24\" text-anchor=\"middle\" x=\"224.4\" y=\"265.32\">221</text><rect fill=\"green\" height=\"15.84\" width=\"23.76\" x=\"238.92\" y=\"256.08\"/><circle cx=\"237.6\" cy=\"264.0\" fill=\"green\" r=\"1.32\" stroke=\"green\" stroke-width=\"0\"/><circle cx=\"264.0\" cy=\"264.0\" fill=\"green\" r=\"1.32\" stroke=\"green\" stroke-width=\"0\"/><text alignment-baseline=\"middle\" fill=\"white\" font-family=\"Futura\" font-size=\"9.24\" text-anchor=\"middle\" x=\"250.8\" y=\"265.32\">209</text><line stroke=\"green\" stroke-width=\"1.32\" x1=\"264.0\" x2=\"264.0\" y1=\"265.32\" y2=\"289.08\"/><text alignment-baseline=\"middle\" fill=\"black\" font-family=\"Futura\" font-size=\"9.24\" text-anchor=\"end\" x=\"205.92\" y=\"291.72\">20b</text><rect fill=\"green\" height=\"15.84\" width=\"23.76\" x=\"212.52\" y=\"282.48\"/><circle cx=\"237.6\" cy=\"290.4\" fill=\"green\" r=\"1.32\" stroke=\"green\" stroke-width=\"0\"/><text alignment-baseline=\"middle\" fill=\"white\" font-family=\"Futura\" font-size=\"9.24\" text-anchor=\"middle\" x=\"224.4\" y=\"291.72\">222</text><rect fill=\"green\" height=\"15.84\" width=\"23.76\" x=\"238.92\" y=\"282.48\"/><circle cx=\"237.6\" cy=\"290.4\" fill=\"green\" r=\"1.32\" stroke=\"green\" stroke-width=\"0\"/><circle cx=\"264.0\" cy=\"290.4\" fill=\"green\" r=\"1.32\" stroke=\"green\" stroke-width=\"0\"/><text alignment-baseline=\"middle\" fill=\"white\" font-family=\"Futura\" font-size=\"9.24\" text-anchor=\"middle\" x=\"250.8\" y=\"291.72\">209</text><line stroke=\"green\" stroke-width=\"1.32\" x1=\"264.0\" x2=\"264.0\" y1=\"291.72\" y2=\"315.48\"/><text alignment-baseline=\"middle\" fill=\"black\" font-family=\"Futura\" font-size=\"9.24\" text-anchor=\"end\" x=\"205.92\" y=\"318.12\">21b</text><rect fill=\"green\" height=\"15.84\" width=\"23.76\" x=\"212.52\" y=\"308.88\"/><circle cx=\"237.6\" cy=\"316.8\" fill=\"green\" r=\"1.32\" stroke=\"green\" stroke-width=\"0\"/><text alignment-baseline=\"middle\" fill=\"white\" font-family=\"Futura\" font-size=\"9.24\" text-anchor=\"middle\" x=\"224.4\" y=\"318.12\">223</text><rect fill=\"green\" height=\"15.84\" width=\"23.76\" x=\"238.92\" y=\"308.88\"/><circle cx=\"237.6\" cy=\"316.8\" fill=\"green\" r=\"1.32\" stroke=\"green\" stroke-width=\"0\"/><circle cx=\"264.0\" cy=\"316.8\" fill=\"green\" r=\"1.32\" stroke=\"green\" stroke-width=\"0\"/><text alignment-baseline=\"middle\" fill=\"white\" font-family=\"Futura\" font-size=\"9.24\" text-anchor=\"middle\" x=\"250.8\" y=\"318.12\">209</text><line stroke=\"green\" stroke-width=\"1.32\" x1=\"264.0\" x2=\"264.0\" y1=\"318.12\" y2=\"341.88\"/><text alignment-baseline=\"middle\" fill=\"black\" font-family=\"Futura\" font-size=\"9.24\" text-anchor=\"end\" x=\"205.92\" y=\"344.52\">22b</text><rect fill=\"green\" height=\"15.84\" width=\"23.76\" x=\"212.52\" y=\"335.28\"/><circle cx=\"237.6\" cy=\"343.2\" fill=\"green\" r=\"1.32\" stroke=\"green\" stroke-width=\"0\"/><text alignment-baseline=\"middle\" fill=\"white\" font-family=\"Futura\" font-size=\"9.24\" text-anchor=\"middle\" x=\"224.4\" y=\"344.52\">224</text><rect fill=\"green\" height=\"15.84\" width=\"23.76\" x=\"238.92\" y=\"335.28\"/><circle cx=\"237.6\" cy=\"343.2\" fill=\"green\" r=\"1.32\" stroke=\"green\" stroke-width=\"0\"/><circle cx=\"264.0\" cy=\"343.2\" fill=\"green\" r=\"1.32\" stroke=\"green\" stroke-width=\"0\"/><text alignment-baseline=\"middle\" fill=\"white\" font-family=\"Futura\" font-size=\"9.24\" text-anchor=\"middle\" x=\"250.8\" y=\"344.52\">209</text><line stroke=\"red\" stroke-width=\"1.32\" x1=\"237.6\" x2=\"237.6\" y1=\"344.52\" y2=\"368.28\"/><text alignment-baseline=\"middle\" fill=\"black\" font-family=\"Futura\" font-size=\"9.24\" text-anchor=\"start\" x=\"295.68\" y=\"370.92\">23f</text><rect fill=\"red\" height=\"15.84\" width=\"23.76\" x=\"238.92\" y=\"361.68\"/><circle cx=\"237.6\" cy=\"369.6\" fill=\"red\" r=\"1.32\" stroke=\"red\" stroke-width=\"0\"/><circle cx=\"264.0\" cy=\"369.6\" fill=\"red\" r=\"1.32\" stroke=\"red\" stroke-width=\"0\"/><text alignment-baseline=\"middle\" fill=\"white\" font-family=\"Futura\" font-size=\"9.24\" text-anchor=\"middle\" x=\"250.8\" y=\"370.92\">209</text><rect fill=\"red\" height=\"15.84\" width=\"23.76\" x=\"265.32\" y=\"361.68\"/><circle cx=\"264.0\" cy=\"369.6\" fill=\"red\" r=\"1.32\" stroke=\"red\" stroke-width=\"0\"/><text alignment-baseline=\"middle\" fill=\"white\" font-family=\"Futura\" font-size=\"9.24\" text-anchor=\"middle\" x=\"277.2\" y=\"370.92\">225</text><line stroke=\"red\" stroke-width=\"1.32\" x1=\"237.6\" x2=\"237.6\" y1=\"370.92\" y2=\"394.68\"/><text alignment-baseline=\"middle\" fill=\"black\" font-family=\"Futura\" font-size=\"9.24\" text-anchor=\"start\" x=\"295.68\" y=\"397.32\">24f</text><rect fill=\"red\" height=\"15.84\" width=\"23.76\" x=\"238.92\" y=\"388.08\"/><circle cx=\"237.6\" cy=\"396.0\" fill=\"red\" r=\"1.32\" stroke=\"red\" stroke-width=\"0\"/><circle cx=\"264.0\" cy=\"396.0\" fill=\"red\" r=\"1.32\" stroke=\"red\" stroke-width=\"0\"/><text alignment-baseline=\"middle\" fill=\"white\" font-family=\"Futura\" font-size=\"9.24\" text-anchor=\"middle\" x=\"250.8\" y=\"397.32\">209</text><rect fill=\"red\" height=\"15.84\" width=\"23.76\" x=\"265.32\" y=\"388.08\"/><circle cx=\"264.0\" cy=\"396.0\" fill=\"red\" r=\"1.32\" stroke=\"red\" stroke-width=\"0\"/><text alignment-baseline=\"middle\" fill=\"white\" font-family=\"Futura\" font-size=\"9.24\" text-anchor=\"middle\" x=\"277.2\" y=\"397.32\">226</text><line stroke=\"green\" stroke-width=\"1.32\" x1=\"264.0\" x2=\"264.0\" y1=\"397.32\" y2=\"421.08\"/><text alignment-baseline=\"middle\" fill=\"black\" font-family=\"Futura\" font-size=\"9.24\" text-anchor=\"end\" x=\"205.92\" y=\"423.72\">25b</text><rect fill=\"green\" height=\"15.84\" width=\"23.76\" x=\"212.52\" y=\"414.48\"/><circle cx=\"237.6\" cy=\"422.4\" fill=\"green\" r=\"1.32\" stroke=\"green\" stroke-width=\"0\"/><text alignment-baseline=\"middle\" fill=\"white\" font-family=\"Futura\" font-size=\"9.24\" text-anchor=\"middle\" x=\"224.4\" y=\"423.72\">227</text><rect fill=\"green\" height=\"15.84\" width=\"23.76\" x=\"238.92\" y=\"414.48\"/><circle cx=\"237.6\" cy=\"422.4\" fill=\"green\" r=\"1.32\" stroke=\"green\" stroke-width=\"0\"/><circle cx=\"264.0\" cy=\"422.4\" fill=\"green\" r=\"1.32\" stroke=\"green\" stroke-width=\"0\"/><text alignment-baseline=\"middle\" fill=\"white\" font-family=\"Futura\" font-size=\"9.24\" text-anchor=\"middle\" x=\"250.8\" y=\"423.72\">209</text><line stroke=\"green\" stroke-width=\"1.32\" x1=\"264.0\" x2=\"264.0\" y1=\"423.72\" y2=\"447.48\"/><text alignment-baseline=\"middle\" fill=\"black\" font-family=\"Futura\" font-size=\"9.24\" text-anchor=\"end\" x=\"205.92\" y=\"450.12\">26b</text><rect fill=\"green\" height=\"15.84\" width=\"23.76\" x=\"212.52\" y=\"440.88\"/><circle cx=\"237.6\" cy=\"448.8\" fill=\"green\" r=\"1.32\" stroke=\"green\" stroke-width=\"0\"/><text alignment-baseline=\"middle\" fill=\"white\" font-family=\"Futura\" font-size=\"9.24\" text-anchor=\"middle\" x=\"224.4\" y=\"450.12\">228</text><rect fill=\"green\" height=\"15.84\" width=\"23.76\" x=\"238.92\" y=\"440.88\"/><circle cx=\"237.6\" cy=\"448.8\" fill=\"green\" r=\"1.32\" stroke=\"green\" stroke-width=\"0\"/><circle cx=\"264.0\" cy=\"448.8\" fill=\"green\" r=\"1.32\" stroke=\"green\" stroke-width=\"0\"/><text alignment-baseline=\"middle\" fill=\"white\" font-family=\"Futura\" font-size=\"9.24\" text-anchor=\"middle\" x=\"250.8\" y=\"450.12\">209</text><line stroke=\"red\" stroke-width=\"1.32\" x1=\"237.6\" x2=\"237.6\" y1=\"450.12\" y2=\"473.88\"/><text alignment-baseline=\"middle\" fill=\"black\" font-family=\"Futura\" font-size=\"9.24\" text-anchor=\"start\" x=\"295.68\" y=\"476.52\">27f</text><rect fill=\"red\" height=\"15.84\" width=\"23.76\" x=\"238.92\" y=\"467.28\"/><circle cx=\"237.6\" cy=\"475.2\" fill=\"red\" r=\"1.32\" stroke=\"red\" stroke-width=\"0\"/><circle cx=\"264.0\" cy=\"475.2\" fill=\"red\" r=\"1.32\" stroke=\"red\" stroke-width=\"0\"/><text alignment-baseline=\"middle\" fill=\"white\" font-family=\"Futura\" font-size=\"9.24\" text-anchor=\"middle\" x=\"250.8\" y=\"476.52\">209</text><rect fill=\"red\" height=\"15.84\" width=\"23.76\" x=\"265.32\" y=\"467.28\"/><circle cx=\"264.0\" cy=\"475.2\" fill=\"red\" r=\"1.32\" stroke=\"red\" stroke-width=\"0\"/><text alignment-baseline=\"middle\" fill=\"white\" font-family=\"Futura\" font-size=\"9.24\" text-anchor=\"middle\" x=\"277.2\" y=\"476.52\">229</text><line stroke=\"green\" stroke-width=\"1.32\" x1=\"264.0\" x2=\"264.0\" y1=\"476.52\" y2=\"500.28\"/><text alignment-baseline=\"middle\" fill=\"black\" font-family=\"Futura\" font-size=\"9.24\" text-anchor=\"end\" x=\"205.92\" y=\"502.92\">28b</text><rect fill=\"green\" height=\"15.84\" width=\"23.76\" x=\"212.52\" y=\"493.68\"/><circle cx=\"237.6\" cy=\"501.6\" fill=\"green\" r=\"1.32\" stroke=\"green\" stroke-width=\"0\"/><text alignment-baseline=\"middle\" fill=\"white\" font-family=\"Futura\" font-size=\"9.24\" text-anchor=\"middle\" x=\"224.4\" y=\"502.92\">230</text><rect fill=\"green\" height=\"15.84\" width=\"23.76\" x=\"238.92\" y=\"493.68\"/><circle cx=\"237.6\" cy=\"501.6\" fill=\"green\" r=\"1.32\" stroke=\"green\" stroke-width=\"0\"/><circle cx=\"264.0\" cy=\"501.6\" fill=\"green\" r=\"1.32\" stroke=\"green\" stroke-width=\"0\"/><text alignment-baseline=\"middle\" fill=\"white\" font-family=\"Futura\" font-size=\"9.24\" text-anchor=\"middle\" x=\"250.8\" y=\"502.92\">209</text><line stroke=\"green\" stroke-width=\"1.32\" x1=\"264.0\" x2=\"264.0\" y1=\"502.92\" y2=\"526.68\"/><text alignment-baseline=\"middle\" fill=\"black\" font-family=\"Futura\" font-size=\"9.24\" text-anchor=\"end\" x=\"205.92\" y=\"529.32\">29b</text><rect fill=\"green\" height=\"15.84\" width=\"23.76\" x=\"212.52\" y=\"520.08\"/><circle cx=\"237.6\" cy=\"528.0\" fill=\"green\" r=\"1.32\" stroke=\"green\" stroke-width=\"0\"/><text alignment-baseline=\"middle\" fill=\"white\" font-family=\"Futura\" font-size=\"9.24\" text-anchor=\"middle\" x=\"224.4\" y=\"529.32\">231</text><rect fill=\"green\" height=\"15.84\" width=\"23.76\" x=\"238.92\" y=\"520.08\"/><circle cx=\"237.6\" cy=\"528.0\" fill=\"green\" r=\"1.32\" stroke=\"green\" stroke-width=\"0\"/><circle cx=\"264.0\" cy=\"528.0\" fill=\"green\" r=\"1.32\" stroke=\"green\" stroke-width=\"0\"/><text alignment-baseline=\"middle\" fill=\"white\" font-family=\"Futura\" font-size=\"9.24\" text-anchor=\"middle\" x=\"250.8\" y=\"529.32\">209</text><line stroke=\"green\" stroke-width=\"1.32\" x1=\"264.0\" x2=\"264.0\" y1=\"529.32\" y2=\"553.08\"/><text alignment-baseline=\"middle\" fill=\"black\" font-family=\"Futura\" font-size=\"9.24\" text-anchor=\"end\" x=\"205.92\" y=\"555.72\">30b</text><rect fill=\"green\" height=\"15.84\" width=\"23.76\" x=\"212.52\" y=\"546.48\"/><circle cx=\"237.6\" cy=\"554.4\" fill=\"green\" r=\"1.32\" stroke=\"green\" stroke-width=\"0\"/><text alignment-baseline=\"middle\" fill=\"white\" font-family=\"Futura\" font-size=\"9.24\" text-anchor=\"middle\" x=\"224.4\" y=\"555.72\">232</text><rect fill=\"green\" height=\"15.84\" width=\"23.76\" x=\"238.92\" y=\"546.48\"/><circle cx=\"237.6\" cy=\"554.4\" fill=\"green\" r=\"1.32\" stroke=\"green\" stroke-width=\"0\"/><circle cx=\"264.0\" cy=\"554.4\" fill=\"green\" r=\"1.32\" stroke=\"green\" stroke-width=\"0\"/><text alignment-baseline=\"middle\" fill=\"white\" font-family=\"Futura\" font-size=\"9.24\" text-anchor=\"middle\" x=\"250.8\" y=\"555.72\">209</text><line stroke=\"red\" stroke-width=\"1.32\" x1=\"237.6\" x2=\"237.6\" y1=\"555.72\" y2=\"579.48\"/><text alignment-baseline=\"middle\" fill=\"black\" font-family=\"Futura\" font-size=\"9.24\" text-anchor=\"start\" x=\"295.68\" y=\"582.12\">31f</text><rect fill=\"red\" height=\"15.84\" width=\"23.76\" x=\"238.92\" y=\"572.88\"/><circle cx=\"237.6\" cy=\"580.8\" fill=\"red\" r=\"1.32\" stroke=\"red\" stroke-width=\"0\"/><circle cx=\"264.0\" cy=\"580.8\" fill=\"red\" r=\"1.32\" stroke=\"red\" stroke-width=\"0\"/><text alignment-baseline=\"middle\" fill=\"white\" font-family=\"Futura\" font-size=\"9.24\" text-anchor=\"middle\" x=\"250.8\" y=\"582.12\">209</text><rect fill=\"red\" height=\"15.84\" width=\"23.76\" x=\"265.32\" y=\"572.88\"/><circle cx=\"264.0\" cy=\"580.8\" fill=\"red\" r=\"1.32\" stroke=\"red\" stroke-width=\"0\"/><text alignment-baseline=\"middle\" fill=\"white\" font-family=\"Futura\" font-size=\"9.24\" text-anchor=\"middle\" x=\"277.2\" y=\"582.12\">233</text><line stroke=\"red\" stroke-width=\"1.32\" x1=\"237.6\" x2=\"237.6\" y1=\"582.12\" y2=\"605.88\"/><text alignment-baseline=\"middle\" fill=\"black\" font-family=\"Futura\" font-size=\"9.24\" text-anchor=\"start\" x=\"295.68\" y=\"608.52\">32f</text><rect fill=\"red\" height=\"15.84\" width=\"23.76\" x=\"238.92\" y=\"599.28\"/><circle cx=\"237.6\" cy=\"607.2\" fill=\"red\" r=\"1.32\" stroke=\"red\" stroke-width=\"0\"/><circle cx=\"264.0\" cy=\"607.2\" fill=\"red\" r=\"1.32\" stroke=\"red\" stroke-width=\"0\"/><text alignment-baseline=\"middle\" fill=\"white\" font-family=\"Futura\" font-size=\"9.24\" text-anchor=\"middle\" x=\"250.8\" y=\"608.52\">209</text><rect fill=\"red\" height=\"15.84\" width=\"23.76\" x=\"265.32\" y=\"599.28\"/><circle cx=\"264.0\" cy=\"607.2\" fill=\"red\" r=\"1.32\" stroke=\"red\" stroke-width=\"0\"/><text alignment-baseline=\"middle\" fill=\"white\" font-family=\"Futura\" font-size=\"9.24\" text-anchor=\"middle\" x=\"277.2\" y=\"608.52\">234</text><line stroke=\"red\" stroke-width=\"1.32\" x1=\"237.6\" x2=\"237.6\" y1=\"608.52\" y2=\"632.28\"/><text alignment-baseline=\"middle\" fill=\"black\" font-family=\"Futura\" font-size=\"9.24\" text-anchor=\"start\" x=\"295.68\" y=\"634.92\">33f</text><rect fill=\"red\" height=\"15.84\" width=\"23.76\" x=\"238.92\" y=\"625.68\"/><circle cx=\"237.6\" cy=\"633.6\" fill=\"red\" r=\"1.32\" stroke=\"red\" stroke-width=\"0\"/><circle cx=\"264.0\" cy=\"633.6\" fill=\"red\" r=\"1.32\" stroke=\"red\" stroke-width=\"0\"/><text alignment-baseline=\"middle\" fill=\"white\" font-family=\"Futura\" font-size=\"9.24\" text-anchor=\"middle\" x=\"250.8\" y=\"634.92\">209</text><rect fill=\"red\" height=\"15.84\" width=\"23.76\" x=\"265.32\" y=\"625.68\"/><circle cx=\"264.0\" cy=\"633.6\" fill=\"red\" r=\"1.32\" stroke=\"red\" stroke-width=\"0\"/><text alignment-baseline=\"middle\" fill=\"white\" font-family=\"Futura\" font-size=\"9.24\" text-anchor=\"middle\" x=\"277.2\" y=\"634.92\">235</text><line stroke=\"green\" stroke-width=\"1.32\" x1=\"264.0\" x2=\"264.0\" y1=\"634.92\" y2=\"658.68\"/><text alignment-baseline=\"middle\" fill=\"black\" font-family=\"Futura\" font-size=\"9.24\" text-anchor=\"end\" x=\"205.92\" y=\"661.32\">34b</text><rect fill=\"green\" height=\"15.84\" width=\"23.76\" x=\"212.52\" y=\"652.08\"/><circle cx=\"237.6\" cy=\"660.0\" fill=\"green\" r=\"1.32\" stroke=\"green\" stroke-width=\"0\"/><text alignment-baseline=\"middle\" fill=\"white\" font-family=\"Futura\" font-size=\"9.24\" text-anchor=\"middle\" x=\"224.4\" y=\"661.32\">236</text><rect fill=\"green\" height=\"15.84\" width=\"23.76\" x=\"238.92\" y=\"652.08\"/><circle cx=\"237.6\" cy=\"660.0\" fill=\"green\" r=\"1.32\" stroke=\"green\" stroke-width=\"0\"/><circle cx=\"264.0\" cy=\"660.0\" fill=\"green\" r=\"1.32\" stroke=\"green\" stroke-width=\"0\"/><text alignment-baseline=\"middle\" fill=\"white\" font-family=\"Futura\" font-size=\"9.24\" text-anchor=\"middle\" x=\"250.8\" y=\"661.32\">209</text><line stroke=\"green\" stroke-width=\"1.32\" x1=\"264.0\" x2=\"264.0\" y1=\"661.32\" y2=\"685.08\"/><text alignment-baseline=\"middle\" fill=\"black\" font-family=\"Futura\" font-size=\"9.24\" text-anchor=\"end\" x=\"205.92\" y=\"687.72\">35b</text><rect fill=\"green\" height=\"15.84\" width=\"23.76\" x=\"212.52\" y=\"678.48\"/><circle cx=\"237.6\" cy=\"686.4\" fill=\"green\" r=\"1.32\" stroke=\"green\" stroke-width=\"0\"/><text alignment-baseline=\"middle\" fill=\"white\" font-family=\"Futura\" font-size=\"9.24\" text-anchor=\"middle\" x=\"224.4\" y=\"687.72\">237</text><rect fill=\"green\" height=\"15.84\" width=\"23.76\" x=\"238.92\" y=\"678.48\"/><circle cx=\"237.6\" cy=\"686.4\" fill=\"green\" r=\"1.32\" stroke=\"green\" stroke-width=\"0\"/><circle cx=\"264.0\" cy=\"686.4\" fill=\"green\" r=\"1.32\" stroke=\"green\" stroke-width=\"0\"/><text alignment-baseline=\"middle\" fill=\"white\" font-family=\"Futura\" font-size=\"9.24\" text-anchor=\"middle\" x=\"250.8\" y=\"687.72\">209</text><line stroke=\"red\" stroke-width=\"1.32\" x1=\"237.6\" x2=\"237.6\" y1=\"687.72\" y2=\"711.48\"/><text alignment-baseline=\"middle\" fill=\"black\" font-family=\"Futura\" font-size=\"9.24\" text-anchor=\"start\" x=\"295.68\" y=\"714.12\">36f</text><rect fill=\"red\" height=\"15.84\" width=\"23.76\" x=\"238.92\" y=\"704.88\"/><circle cx=\"237.6\" cy=\"712.8\" fill=\"red\" r=\"1.32\" stroke=\"red\" stroke-width=\"0\"/><circle cx=\"264.0\" cy=\"712.8\" fill=\"red\" r=\"1.32\" stroke=\"red\" stroke-width=\"0\"/><text alignment-baseline=\"middle\" fill=\"white\" font-family=\"Futura\" font-size=\"9.24\" text-anchor=\"middle\" x=\"250.8\" y=\"714.12\">209</text><rect fill=\"red\" height=\"15.84\" width=\"23.76\" x=\"265.32\" y=\"704.88\"/><circle cx=\"264.0\" cy=\"712.8\" fill=\"red\" r=\"1.32\" stroke=\"red\" stroke-width=\"0\"/><text alignment-baseline=\"middle\" fill=\"white\" font-family=\"Futura\" font-size=\"9.24\" text-anchor=\"middle\" x=\"277.2\" y=\"714.12\">238</text><line stroke=\"red\" stroke-width=\"1.32\" x1=\"237.6\" x2=\"237.6\" y1=\"714.12\" y2=\"737.88\"/><text alignment-baseline=\"middle\" fill=\"black\" font-family=\"Futura\" font-size=\"9.24\" text-anchor=\"start\" x=\"295.68\" y=\"740.52\">37f</text><rect fill=\"red\" height=\"15.84\" width=\"23.76\" x=\"238.92\" y=\"731.28\"/><circle cx=\"237.6\" cy=\"739.2\" fill=\"red\" r=\"1.32\" stroke=\"red\" stroke-width=\"0\"/><circle cx=\"264.0\" cy=\"739.2\" fill=\"red\" r=\"1.32\" stroke=\"red\" stroke-width=\"0\"/><text alignment-baseline=\"middle\" fill=\"white\" font-family=\"Futura\" font-size=\"9.24\" text-anchor=\"middle\" x=\"250.8\" y=\"740.52\">209</text><rect fill=\"red\" height=\"15.84\" width=\"23.76\" x=\"265.32\" y=\"731.28\"/><circle cx=\"264.0\" cy=\"739.2\" fill=\"red\" r=\"1.32\" stroke=\"red\" stroke-width=\"0\"/><text alignment-baseline=\"middle\" fill=\"white\" font-family=\"Futura\" font-size=\"9.24\" text-anchor=\"middle\" x=\"277.2\" y=\"740.52\">239</text><line stroke=\"red\" stroke-width=\"1.32\" x1=\"237.6\" x2=\"237.6\" y1=\"740.52\" y2=\"764.28\"/><text alignment-baseline=\"middle\" fill=\"black\" font-family=\"Futura\" font-size=\"9.24\" text-anchor=\"start\" x=\"295.68\" y=\"766.92\">38f</text><rect fill=\"red\" height=\"15.84\" width=\"23.76\" x=\"238.92\" y=\"757.68\"/><circle cx=\"237.6\" cy=\"765.6\" fill=\"red\" r=\"1.32\" stroke=\"red\" stroke-width=\"0\"/><circle cx=\"264.0\" cy=\"765.6\" fill=\"red\" r=\"1.32\" stroke=\"red\" stroke-width=\"0\"/><text alignment-baseline=\"middle\" fill=\"white\" font-family=\"Futura\" font-size=\"9.24\" text-anchor=\"middle\" x=\"250.8\" y=\"766.92\">209</text><rect fill=\"red\" height=\"15.84\" width=\"23.76\" x=\"265.32\" y=\"757.68\"/><circle cx=\"264.0\" cy=\"765.6\" fill=\"red\" r=\"1.32\" stroke=\"red\" stroke-width=\"0\"/><text alignment-baseline=\"middle\" fill=\"white\" font-family=\"Futura\" font-size=\"9.24\" text-anchor=\"middle\" x=\"277.2\" y=\"766.92\">240</text><line stroke=\"red\" stroke-width=\"1.32\" x1=\"237.6\" x2=\"237.6\" y1=\"766.92\" y2=\"790.68\"/><text alignment-baseline=\"middle\" fill=\"black\" font-family=\"Futura\" font-size=\"9.24\" text-anchor=\"start\" x=\"295.68\" y=\"793.32\">39f</text><rect fill=\"red\" height=\"15.84\" width=\"23.76\" x=\"238.92\" y=\"784.08\"/><circle cx=\"237.6\" cy=\"792.0\" fill=\"red\" r=\"1.32\" stroke=\"red\" stroke-width=\"0\"/><circle cx=\"264.0\" cy=\"792.0\" fill=\"red\" r=\"1.32\" stroke=\"red\" stroke-width=\"0\"/><text alignment-baseline=\"middle\" fill=\"white\" font-family=\"Futura\" font-size=\"9.24\" text-anchor=\"middle\" x=\"250.8\" y=\"793.32\">209</text><rect fill=\"red\" height=\"15.84\" width=\"23.76\" x=\"265.32\" y=\"784.08\"/><circle cx=\"264.0\" cy=\"792.0\" fill=\"red\" r=\"1.32\" stroke=\"red\" stroke-width=\"0\"/><text alignment-baseline=\"middle\" fill=\"white\" font-family=\"Futura\" font-size=\"9.24\" text-anchor=\"middle\" x=\"277.2\" y=\"793.32\">241</text><line stroke=\"green\" stroke-width=\"1.32\" x1=\"264.0\" x2=\"264.0\" y1=\"793.32\" y2=\"817.08\"/><text alignment-baseline=\"middle\" fill=\"black\" font-family=\"Futura\" font-size=\"9.24\" text-anchor=\"end\" x=\"205.92\" y=\"819.72\">40b</text><rect fill=\"green\" height=\"15.84\" width=\"23.76\" x=\"212.52\" y=\"810.48\"/><circle cx=\"237.6\" cy=\"818.4\" fill=\"green\" r=\"1.32\" stroke=\"green\" stroke-width=\"0\"/><text alignment-baseline=\"middle\" fill=\"white\" font-family=\"Futura\" font-size=\"9.24\" text-anchor=\"middle\" x=\"224.4\" y=\"819.72\">242</text><rect fill=\"green\" height=\"15.84\" width=\"23.76\" x=\"238.92\" y=\"810.48\"/><circle cx=\"237.6\" cy=\"818.4\" fill=\"green\" r=\"1.32\" stroke=\"green\" stroke-width=\"0\"/><circle cx=\"264.0\" cy=\"818.4\" fill=\"green\" r=\"1.32\" stroke=\"green\" stroke-width=\"0\"/><text alignment-baseline=\"middle\" fill=\"white\" font-family=\"Futura\" font-size=\"9.24\" text-anchor=\"middle\" x=\"250.8\" y=\"819.72\">209</text><line stroke=\"green\" stroke-width=\"1.32\" x1=\"264.0\" x2=\"264.0\" y1=\"819.72\" y2=\"843.48\"/><text alignment-baseline=\"middle\" fill=\"black\" font-family=\"Futura\" font-size=\"9.24\" text-anchor=\"end\" x=\"205.92\" y=\"846.12\">41b</text><rect fill=\"green\" height=\"15.84\" width=\"23.76\" x=\"212.52\" y=\"836.88\"/><circle cx=\"237.6\" cy=\"844.8\" fill=\"green\" r=\"1.32\" stroke=\"green\" stroke-width=\"0\"/><text alignment-baseline=\"middle\" fill=\"white\" font-family=\"Futura\" font-size=\"9.24\" text-anchor=\"middle\" x=\"224.4\" y=\"846.12\">243</text><rect fill=\"green\" height=\"15.84\" width=\"23.76\" x=\"238.92\" y=\"836.88\"/><circle cx=\"237.6\" cy=\"844.8\" fill=\"green\" r=\"1.32\" stroke=\"green\" stroke-width=\"0\"/><circle cx=\"264.0\" cy=\"844.8\" fill=\"green\" r=\"1.32\" stroke=\"green\" stroke-width=\"0\"/><text alignment-baseline=\"middle\" fill=\"white\" font-family=\"Futura\" font-size=\"9.24\" text-anchor=\"middle\" x=\"250.8\" y=\"846.12\">209</text><line stroke=\"red\" stroke-width=\"1.32\" x1=\"237.6\" x2=\"237.6\" y1=\"846.12\" y2=\"869.88\"/><text alignment-baseline=\"middle\" fill=\"black\" font-family=\"Futura\" font-size=\"9.24\" text-anchor=\"start\" x=\"295.68\" y=\"872.52\">42f</text><rect fill=\"red\" height=\"15.84\" width=\"23.76\" x=\"238.92\" y=\"863.28\"/><circle cx=\"237.6\" cy=\"871.2\" fill=\"red\" r=\"1.32\" stroke=\"red\" stroke-width=\"0\"/><circle cx=\"264.0\" cy=\"871.2\" fill=\"red\" r=\"1.32\" stroke=\"red\" stroke-width=\"0\"/><text alignment-baseline=\"middle\" fill=\"white\" font-family=\"Futura\" font-size=\"9.24\" text-anchor=\"middle\" x=\"250.8\" y=\"872.52\">209</text><rect fill=\"red\" height=\"15.84\" width=\"23.76\" x=\"265.32\" y=\"863.28\"/><circle cx=\"264.0\" cy=\"871.2\" fill=\"red\" r=\"1.32\" stroke=\"red\" stroke-width=\"0\"/><text alignment-baseline=\"middle\" fill=\"white\" font-family=\"Futura\" font-size=\"9.24\" text-anchor=\"middle\" x=\"277.2\" y=\"872.52\">244</text><line stroke=\"green\" stroke-width=\"1.32\" x1=\"264.0\" x2=\"264.0\" y1=\"872.52\" y2=\"896.28\"/><text alignment-baseline=\"middle\" fill=\"black\" font-family=\"Futura\" font-size=\"9.24\" text-anchor=\"end\" x=\"205.92\" y=\"898.92\">43b</text><rect fill=\"green\" height=\"15.84\" width=\"23.76\" x=\"212.52\" y=\"889.68\"/><circle cx=\"237.6\" cy=\"897.6\" fill=\"green\" r=\"1.32\" stroke=\"green\" stroke-width=\"0\"/><text alignment-baseline=\"middle\" fill=\"white\" font-family=\"Futura\" font-size=\"9.24\" text-anchor=\"middle\" x=\"224.4\" y=\"898.92\">245</text><rect fill=\"green\" height=\"15.84\" width=\"23.76\" x=\"238.92\" y=\"889.68\"/><circle cx=\"237.6\" cy=\"897.6\" fill=\"green\" r=\"1.32\" stroke=\"green\" stroke-width=\"0\"/><circle cx=\"264.0\" cy=\"897.6\" fill=\"green\" r=\"1.32\" stroke=\"green\" stroke-width=\"0\"/><text alignment-baseline=\"middle\" fill=\"white\" font-family=\"Futura\" font-size=\"9.24\" text-anchor=\"middle\" x=\"250.8\" y=\"898.92\">209</text><line stroke=\"green\" stroke-width=\"1.32\" x1=\"264.0\" x2=\"264.0\" y1=\"898.92\" y2=\"922.68\"/><text alignment-baseline=\"middle\" fill=\"black\" font-family=\"Futura\" font-size=\"9.24\" text-anchor=\"end\" x=\"205.92\" y=\"925.32\">44b</text><rect fill=\"green\" height=\"15.84\" width=\"23.76\" x=\"212.52\" y=\"916.08\"/><circle cx=\"237.6\" cy=\"924.0\" fill=\"green\" r=\"1.32\" stroke=\"green\" stroke-width=\"0\"/><text alignment-baseline=\"middle\" fill=\"white\" font-family=\"Futura\" font-size=\"9.24\" text-anchor=\"middle\" x=\"224.4\" y=\"925.32\">246</text><rect fill=\"green\" height=\"15.84\" width=\"23.76\" x=\"238.92\" y=\"916.08\"/><circle cx=\"237.6\" cy=\"924.0\" fill=\"green\" r=\"1.32\" stroke=\"green\" stroke-width=\"0\"/><circle cx=\"264.0\" cy=\"924.0\" fill=\"green\" r=\"1.32\" stroke=\"green\" stroke-width=\"0\"/><text alignment-baseline=\"middle\" fill=\"white\" font-family=\"Futura\" font-size=\"9.24\" text-anchor=\"middle\" x=\"250.8\" y=\"925.32\">209</text><line stroke=\"red\" stroke-width=\"1.32\" x1=\"237.6\" x2=\"237.6\" y1=\"925.32\" y2=\"949.08\"/><text alignment-baseline=\"middle\" fill=\"black\" font-family=\"Futura\" font-size=\"9.24\" text-anchor=\"start\" x=\"295.68\" y=\"951.72\">45f</text><rect fill=\"red\" height=\"15.84\" width=\"23.76\" x=\"238.92\" y=\"942.48\"/><circle cx=\"237.6\" cy=\"950.4\" fill=\"red\" r=\"1.32\" stroke=\"red\" stroke-width=\"0\"/><circle cx=\"264.0\" cy=\"950.4\" fill=\"red\" r=\"1.32\" stroke=\"red\" stroke-width=\"0\"/><text alignment-baseline=\"middle\" fill=\"white\" font-family=\"Futura\" font-size=\"9.24\" text-anchor=\"middle\" x=\"250.8\" y=\"951.72\">209</text><rect fill=\"red\" height=\"15.84\" width=\"23.76\" x=\"265.32\" y=\"942.48\"/><circle cx=\"264.0\" cy=\"950.4\" fill=\"red\" r=\"1.32\" stroke=\"red\" stroke-width=\"0\"/><text alignment-baseline=\"middle\" fill=\"white\" font-family=\"Futura\" font-size=\"9.24\" text-anchor=\"middle\" x=\"277.2\" y=\"951.72\">247</text><line stroke=\"green\" stroke-width=\"1.32\" x1=\"264.0\" x2=\"264.0\" y1=\"951.72\" y2=\"975.48\"/><text alignment-baseline=\"middle\" fill=\"black\" font-family=\"Futura\" font-size=\"9.24\" text-anchor=\"end\" x=\"205.92\" y=\"978.12\">46b</text><rect fill=\"green\" height=\"15.84\" width=\"23.76\" x=\"212.52\" y=\"968.88\"/><circle cx=\"237.6\" cy=\"976.8\" fill=\"green\" r=\"1.32\" stroke=\"green\" stroke-width=\"0\"/><text alignment-baseline=\"middle\" fill=\"white\" font-family=\"Futura\" font-size=\"9.24\" text-anchor=\"middle\" x=\"224.4\" y=\"978.12\">248</text><rect fill=\"green\" height=\"15.84\" width=\"23.76\" x=\"238.92\" y=\"968.88\"/><circle cx=\"237.6\" cy=\"976.8\" fill=\"green\" r=\"1.32\" stroke=\"green\" stroke-width=\"0\"/><circle cx=\"264.0\" cy=\"976.8\" fill=\"green\" r=\"1.32\" stroke=\"green\" stroke-width=\"0\"/><text alignment-baseline=\"middle\" fill=\"white\" font-family=\"Futura\" font-size=\"9.24\" text-anchor=\"middle\" x=\"250.8\" y=\"978.12\">209</text><line stroke=\"green\" stroke-width=\"1.32\" x1=\"264.0\" x2=\"264.0\" y1=\"978.12\" y2=\"1001.88\"/><text alignment-baseline=\"middle\" fill=\"black\" font-family=\"Futura\" font-size=\"9.24\" text-anchor=\"end\" x=\"205.92\" y=\"1004.52\">47b</text><rect fill=\"green\" height=\"15.84\" width=\"23.76\" x=\"212.52\" y=\"995.28\"/><circle cx=\"237.6\" cy=\"1003.2\" fill=\"green\" r=\"1.32\" stroke=\"green\" stroke-width=\"0\"/><text alignment-baseline=\"middle\" fill=\"white\" font-family=\"Futura\" font-size=\"9.24\" text-anchor=\"middle\" x=\"224.4\" y=\"1004.52\">249</text><rect fill=\"green\" height=\"15.84\" width=\"23.76\" x=\"238.92\" y=\"995.28\"/><circle cx=\"237.6\" cy=\"1003.2\" fill=\"green\" r=\"1.32\" stroke=\"green\" stroke-width=\"0\"/><circle cx=\"264.0\" cy=\"1003.2\" fill=\"green\" r=\"1.32\" stroke=\"green\" stroke-width=\"0\"/><text alignment-baseline=\"middle\" fill=\"white\" font-family=\"Futura\" font-size=\"9.24\" text-anchor=\"middle\" x=\"250.8\" y=\"1004.52\">209</text><line stroke=\"green\" stroke-width=\"1.32\" x1=\"264.0\" x2=\"264.0\" y1=\"1004.52\" y2=\"1028.28\"/><text alignment-baseline=\"middle\" fill=\"black\" font-family=\"Futura\" font-size=\"9.24\" text-anchor=\"end\" x=\"205.92\" y=\"1030.92\">48b</text><rect fill=\"green\" height=\"15.84\" width=\"23.76\" x=\"212.52\" y=\"1021.68\"/><circle cx=\"237.6\" cy=\"1029.6\" fill=\"green\" r=\"1.32\" stroke=\"green\" stroke-width=\"0\"/><text alignment-baseline=\"middle\" fill=\"white\" font-family=\"Futura\" font-size=\"9.24\" text-anchor=\"middle\" x=\"224.4\" y=\"1030.92\">250</text><rect fill=\"green\" height=\"15.84\" width=\"23.76\" x=\"238.92\" y=\"1021.68\"/><circle cx=\"237.6\" cy=\"1029.6\" fill=\"green\" r=\"1.32\" stroke=\"green\" stroke-width=\"0\"/><circle cx=\"264.0\" cy=\"1029.6\" fill=\"green\" r=\"1.32\" stroke=\"green\" stroke-width=\"0\"/><text alignment-baseline=\"middle\" fill=\"white\" font-family=\"Futura\" font-size=\"9.24\" text-anchor=\"middle\" x=\"250.8\" y=\"1030.92\">209</text><line stroke=\"green\" stroke-width=\"1.32\" x1=\"264.0\" x2=\"264.0\" y1=\"1030.92\" y2=\"1054.68\"/><text alignment-baseline=\"middle\" fill=\"black\" font-family=\"Futura\" font-size=\"9.24\" text-anchor=\"end\" x=\"205.92\" y=\"1057.32\">49b</text><rect fill=\"green\" height=\"15.84\" width=\"23.76\" x=\"212.52\" y=\"1048.08\"/><circle cx=\"237.6\" cy=\"1056.0\" fill=\"green\" r=\"1.32\" stroke=\"green\" stroke-width=\"0\"/><text alignment-baseline=\"middle\" fill=\"white\" font-family=\"Futura\" font-size=\"9.24\" text-anchor=\"middle\" x=\"224.4\" y=\"1057.32\">251</text><rect fill=\"green\" height=\"15.84\" width=\"23.76\" x=\"238.92\" y=\"1048.08\"/><circle cx=\"237.6\" cy=\"1056.0\" fill=\"green\" r=\"1.32\" stroke=\"green\" stroke-width=\"0\"/><circle cx=\"264.0\" cy=\"1056.0\" fill=\"green\" r=\"1.32\" stroke=\"green\" stroke-width=\"0\"/><text alignment-baseline=\"middle\" fill=\"white\" font-family=\"Futura\" font-size=\"9.24\" text-anchor=\"middle\" x=\"250.8\" y=\"1057.32\">209</text><line stroke=\"red\" stroke-width=\"1.32\" x1=\"237.6\" x2=\"237.6\" y1=\"1057.32\" y2=\"1081.08\"/><text alignment-baseline=\"middle\" fill=\"black\" font-family=\"Futura\" font-size=\"9.24\" text-anchor=\"start\" x=\"295.68\" y=\"1083.72\">50f</text><rect fill=\"red\" height=\"15.84\" width=\"23.76\" x=\"238.92\" y=\"1074.48\"/><circle cx=\"237.6\" cy=\"1082.4\" fill=\"red\" r=\"1.32\" stroke=\"red\" stroke-width=\"0\"/><circle cx=\"264.0\" cy=\"1082.4\" fill=\"red\" r=\"1.32\" stroke=\"red\" stroke-width=\"0\"/><text alignment-baseline=\"middle\" fill=\"white\" font-family=\"Futura\" font-size=\"9.24\" text-anchor=\"middle\" x=\"250.8\" y=\"1083.72\">209</text><rect fill=\"red\" height=\"15.84\" width=\"23.76\" x=\"265.32\" y=\"1074.48\"/><circle cx=\"264.0\" cy=\"1082.4\" fill=\"red\" r=\"1.32\" stroke=\"red\" stroke-width=\"0\"/><text alignment-baseline=\"middle\" fill=\"white\" font-family=\"Futura\" font-size=\"9.24\" text-anchor=\"middle\" x=\"277.2\" y=\"1083.72\">252</text><line stroke=\"green\" stroke-width=\"1.32\" x1=\"264.0\" x2=\"264.0\" y1=\"1083.72\" y2=\"1107.48\"/><text alignment-baseline=\"middle\" fill=\"black\" font-family=\"Futura\" font-size=\"9.24\" text-anchor=\"end\" x=\"205.92\" y=\"1110.12\">51b</text><rect fill=\"green\" height=\"15.84\" width=\"23.76\" x=\"212.52\" y=\"1100.88\"/><circle cx=\"237.6\" cy=\"1108.8\" fill=\"green\" r=\"1.32\" stroke=\"green\" stroke-width=\"0\"/><text alignment-baseline=\"middle\" fill=\"white\" font-family=\"Futura\" font-size=\"9.24\" text-anchor=\"middle\" x=\"224.4\" y=\"1110.12\">253</text><rect fill=\"green\" height=\"15.84\" width=\"23.76\" x=\"238.92\" y=\"1100.88\"/><circle cx=\"237.6\" cy=\"1108.8\" fill=\"green\" r=\"1.32\" stroke=\"green\" stroke-width=\"0\"/><circle cx=\"264.0\" cy=\"1108.8\" fill=\"green\" r=\"1.32\" stroke=\"green\" stroke-width=\"0\"/><text alignment-baseline=\"middle\" fill=\"white\" font-family=\"Futura\" font-size=\"9.24\" text-anchor=\"middle\" x=\"250.8\" y=\"1110.12\">209</text><line stroke=\"green\" stroke-width=\"1.32\" x1=\"264.0\" x2=\"264.0\" y1=\"1110.12\" y2=\"1133.88\"/><text alignment-baseline=\"middle\" fill=\"black\" font-family=\"Futura\" font-size=\"9.24\" text-anchor=\"end\" x=\"205.92\" y=\"1136.52\">52b</text><rect fill=\"green\" height=\"15.84\" width=\"23.76\" x=\"212.52\" y=\"1127.28\"/><circle cx=\"237.6\" cy=\"1135.2\" fill=\"green\" r=\"1.32\" stroke=\"green\" stroke-width=\"0\"/><text alignment-baseline=\"middle\" fill=\"white\" font-family=\"Futura\" font-size=\"9.24\" text-anchor=\"middle\" x=\"224.4\" y=\"1136.52\">254</text><rect fill=\"green\" height=\"15.84\" width=\"23.76\" x=\"238.92\" y=\"1127.28\"/><circle cx=\"237.6\" cy=\"1135.2\" fill=\"green\" r=\"1.32\" stroke=\"green\" stroke-width=\"0\"/><circle cx=\"264.0\" cy=\"1135.2\" fill=\"green\" r=\"1.32\" stroke=\"green\" stroke-width=\"0\"/><text alignment-baseline=\"middle\" fill=\"white\" font-family=\"Futura\" font-size=\"9.24\" text-anchor=\"middle\" x=\"250.8\" y=\"1136.52\">209</text><line stroke=\"red\" stroke-width=\"1.32\" x1=\"237.6\" x2=\"237.6\" y1=\"1136.52\" y2=\"1160.28\"/><text alignment-baseline=\"middle\" fill=\"black\" font-family=\"Futura\" font-size=\"9.24\" text-anchor=\"start\" x=\"295.68\" y=\"1162.92\">53f</text><rect fill=\"red\" height=\"15.84\" width=\"23.76\" x=\"238.92\" y=\"1153.68\"/><circle cx=\"237.6\" cy=\"1161.6\" fill=\"red\" r=\"1.32\" stroke=\"red\" stroke-width=\"0\"/><circle cx=\"264.0\" cy=\"1161.6\" fill=\"red\" r=\"1.32\" stroke=\"red\" stroke-width=\"0\"/><text alignment-baseline=\"middle\" fill=\"white\" font-family=\"Futura\" font-size=\"9.24\" text-anchor=\"middle\" x=\"250.8\" y=\"1162.92\">209</text><rect fill=\"red\" height=\"15.84\" width=\"23.76\" x=\"265.32\" y=\"1153.68\"/><circle cx=\"264.0\" cy=\"1161.6\" fill=\"red\" r=\"1.32\" stroke=\"red\" stroke-width=\"0\"/><text alignment-baseline=\"middle\" fill=\"white\" font-family=\"Futura\" font-size=\"9.24\" text-anchor=\"middle\" x=\"277.2\" y=\"1162.92\">255</text><line stroke=\"green\" stroke-width=\"1.32\" x1=\"264.0\" x2=\"264.0\" y1=\"1162.92\" y2=\"1186.68\"/><text alignment-baseline=\"middle\" fill=\"black\" font-family=\"Futura\" font-size=\"9.24\" text-anchor=\"end\" x=\"205.92\" y=\"1189.32\">54b</text><rect fill=\"green\" height=\"15.84\" width=\"23.76\" x=\"212.52\" y=\"1180.08\"/><circle cx=\"237.6\" cy=\"1188.0\" fill=\"green\" r=\"1.32\" stroke=\"green\" stroke-width=\"0\"/><text alignment-baseline=\"middle\" fill=\"white\" font-family=\"Futura\" font-size=\"9.24\" text-anchor=\"middle\" x=\"224.4\" y=\"1189.32\">256</text><rect fill=\"green\" height=\"15.84\" width=\"23.76\" x=\"238.92\" y=\"1180.08\"/><circle cx=\"237.6\" cy=\"1188.0\" fill=\"green\" r=\"1.32\" stroke=\"green\" stroke-width=\"0\"/><circle cx=\"264.0\" cy=\"1188.0\" fill=\"green\" r=\"1.32\" stroke=\"green\" stroke-width=\"0\"/><text alignment-baseline=\"middle\" fill=\"white\" font-family=\"Futura\" font-size=\"9.24\" text-anchor=\"middle\" x=\"250.8\" y=\"1189.32\">209</text><line stroke=\"green\" stroke-width=\"1.32\" x1=\"264.0\" x2=\"264.0\" y1=\"1189.32\" y2=\"1213.08\"/><text alignment-baseline=\"middle\" fill=\"black\" font-family=\"Futura\" font-size=\"9.24\" text-anchor=\"end\" x=\"205.92\" y=\"1215.72\">55b</text><rect fill=\"green\" height=\"15.84\" width=\"23.76\" x=\"212.52\" y=\"1206.48\"/><circle cx=\"237.6\" cy=\"1214.4\" fill=\"green\" r=\"1.32\" stroke=\"green\" stroke-width=\"0\"/><text alignment-baseline=\"middle\" fill=\"white\" font-family=\"Futura\" font-size=\"9.24\" text-anchor=\"middle\" x=\"224.4\" y=\"1215.72\">257</text><rect fill=\"green\" height=\"15.84\" width=\"23.76\" x=\"238.92\" y=\"1206.48\"/><circle cx=\"237.6\" cy=\"1214.4\" fill=\"green\" r=\"1.32\" stroke=\"green\" stroke-width=\"0\"/><circle cx=\"264.0\" cy=\"1214.4\" fill=\"green\" r=\"1.32\" stroke=\"green\" stroke-width=\"0\"/><text alignment-baseline=\"middle\" fill=\"white\" font-family=\"Futura\" font-size=\"9.24\" text-anchor=\"middle\" x=\"250.8\" y=\"1215.72\">209</text><line stroke=\"red\" stroke-width=\"1.32\" x1=\"237.6\" x2=\"237.6\" y1=\"1215.72\" y2=\"1239.48\"/><text alignment-baseline=\"middle\" fill=\"black\" font-family=\"Futura\" font-size=\"9.24\" text-anchor=\"start\" x=\"295.68\" y=\"1242.12\">56f</text><rect fill=\"red\" height=\"15.84\" width=\"23.76\" x=\"238.92\" y=\"1232.88\"/><circle cx=\"237.6\" cy=\"1240.8\" fill=\"red\" r=\"1.32\" stroke=\"red\" stroke-width=\"0\"/><circle cx=\"264.0\" cy=\"1240.8\" fill=\"red\" r=\"1.32\" stroke=\"red\" stroke-width=\"0\"/><text alignment-baseline=\"middle\" fill=\"white\" font-family=\"Futura\" font-size=\"9.24\" text-anchor=\"middle\" x=\"250.8\" y=\"1242.12\">209</text><rect fill=\"red\" height=\"15.84\" width=\"23.76\" x=\"265.32\" y=\"1232.88\"/><circle cx=\"264.0\" cy=\"1240.8\" fill=\"red\" r=\"1.32\" stroke=\"red\" stroke-width=\"0\"/><text alignment-baseline=\"middle\" fill=\"white\" font-family=\"Futura\" font-size=\"9.24\" text-anchor=\"middle\" x=\"277.2\" y=\"1242.12\">258</text><line stroke=\"red\" stroke-width=\"1.32\" x1=\"237.6\" x2=\"237.6\" y1=\"1242.12\" y2=\"1265.88\"/><text alignment-baseline=\"middle\" fill=\"black\" font-family=\"Futura\" font-size=\"9.24\" text-anchor=\"start\" x=\"295.68\" y=\"1268.52\">57f</text><rect fill=\"red\" height=\"15.84\" width=\"23.76\" x=\"238.92\" y=\"1259.28\"/><circle cx=\"237.6\" cy=\"1267.2\" fill=\"red\" r=\"1.32\" stroke=\"red\" stroke-width=\"0\"/><circle cx=\"264.0\" cy=\"1267.2\" fill=\"red\" r=\"1.32\" stroke=\"red\" stroke-width=\"0\"/><text alignment-baseline=\"middle\" fill=\"white\" font-family=\"Futura\" font-size=\"9.24\" text-anchor=\"middle\" x=\"250.8\" y=\"1268.52\">209</text><rect fill=\"red\" height=\"15.84\" width=\"23.76\" x=\"265.32\" y=\"1259.28\"/><circle cx=\"264.0\" cy=\"1267.2\" fill=\"red\" r=\"1.32\" stroke=\"red\" stroke-width=\"0\"/><text alignment-baseline=\"middle\" fill=\"white\" font-family=\"Futura\" font-size=\"9.24\" text-anchor=\"middle\" x=\"277.2\" y=\"1268.52\">259</text><line stroke=\"green\" stroke-width=\"1.32\" x1=\"264.0\" x2=\"264.0\" y1=\"1268.52\" y2=\"1292.28\"/><text alignment-baseline=\"middle\" fill=\"black\" font-family=\"Futura\" font-size=\"9.24\" text-anchor=\"end\" x=\"205.92\" y=\"1294.92\">58b</text><rect fill=\"green\" height=\"15.84\" width=\"23.76\" x=\"212.52\" y=\"1285.68\"/><circle cx=\"237.6\" cy=\"1293.6\" fill=\"green\" r=\"1.32\" stroke=\"green\" stroke-width=\"0\"/><text alignment-baseline=\"middle\" fill=\"white\" font-family=\"Futura\" font-size=\"9.24\" text-anchor=\"middle\" x=\"224.4\" y=\"1294.92\">260</text><rect fill=\"green\" height=\"15.84\" width=\"23.76\" x=\"238.92\" y=\"1285.68\"/><circle cx=\"237.6\" cy=\"1293.6\" fill=\"green\" r=\"1.32\" stroke=\"green\" stroke-width=\"0\"/><circle cx=\"264.0\" cy=\"1293.6\" fill=\"green\" r=\"1.32\" stroke=\"green\" stroke-width=\"0\"/><text alignment-baseline=\"middle\" fill=\"white\" font-family=\"Futura\" font-size=\"9.24\" text-anchor=\"middle\" x=\"250.8\" y=\"1294.92\">209</text><line stroke=\"red\" stroke-width=\"1.32\" x1=\"237.6\" x2=\"237.6\" y1=\"1294.92\" y2=\"1318.68\"/><text alignment-baseline=\"middle\" fill=\"black\" font-family=\"Futura\" font-size=\"9.24\" text-anchor=\"start\" x=\"295.68\" y=\"1321.32\">59f</text><rect fill=\"red\" height=\"15.84\" width=\"23.76\" x=\"238.92\" y=\"1312.08\"/><circle cx=\"237.6\" cy=\"1320.0\" fill=\"red\" r=\"1.32\" stroke=\"red\" stroke-width=\"0\"/><circle cx=\"264.0\" cy=\"1320.0\" fill=\"red\" r=\"1.32\" stroke=\"red\" stroke-width=\"0\"/><text alignment-baseline=\"middle\" fill=\"white\" font-family=\"Futura\" font-size=\"9.24\" text-anchor=\"middle\" x=\"250.8\" y=\"1321.32\">209</text><rect fill=\"red\" height=\"15.84\" width=\"23.76\" x=\"265.32\" y=\"1312.08\"/><circle cx=\"264.0\" cy=\"1320.0\" fill=\"red\" r=\"1.32\" stroke=\"red\" stroke-width=\"0\"/><text alignment-baseline=\"middle\" fill=\"white\" font-family=\"Futura\" font-size=\"9.24\" text-anchor=\"middle\" x=\"277.2\" y=\"1321.32\">261</text><text alignment-baseline=\"middle\" fill=\"black\" font-family=\"Futura\" font-size=\"9.24\" text-anchor=\"end\" x=\"113.52\" y=\"27.72\">14</text><text alignment-baseline=\"middle\" fill=\"black\" font-family=\"Futura\" font-size=\"9.24\" text-anchor=\"end\" x=\"34.32\" y=\"27.72\">1</text><text alignment-baseline=\"middle\" fill=\"black\" font-family=\"Futura\" font-size=\"9.24\" text-anchor=\"end\" x=\"113.52\" y=\"54.12\">16</text><text alignment-baseline=\"middle\" fill=\"black\" font-family=\"Futura\" font-size=\"9.24\" text-anchor=\"end\" x=\"34.32\" y=\"54.12\">2</text><text alignment-baseline=\"middle\" fill=\"black\" font-family=\"Futura\" font-size=\"9.24\" text-anchor=\"end\" x=\"113.52\" y=\"80.52\">18</text><text alignment-baseline=\"middle\" fill=\"black\" font-family=\"Futura\" font-size=\"9.24\" text-anchor=\"end\" x=\"34.32\" y=\"80.52\">3</text><text alignment-baseline=\"middle\" fill=\"black\" font-family=\"Futura\" font-size=\"9.24\" text-anchor=\"end\" x=\"113.52\" y=\"106.92\">20</text><text alignment-baseline=\"middle\" fill=\"black\" font-family=\"Futura\" font-size=\"9.24\" text-anchor=\"end\" x=\"34.32\" y=\"106.92\">4</text><text alignment-baseline=\"middle\" fill=\"black\" font-family=\"Futura\" font-size=\"9.24\" text-anchor=\"end\" x=\"113.52\" y=\"133.32\">22</text><text alignment-baseline=\"middle\" fill=\"black\" font-family=\"Futura\" font-size=\"9.24\" text-anchor=\"end\" x=\"34.32\" y=\"133.32\">5</text><text alignment-baseline=\"middle\" fill=\"black\" font-family=\"Futura\" font-size=\"9.24\" text-anchor=\"end\" x=\"113.52\" y=\"159.72\">24</text><text alignment-baseline=\"middle\" fill=\"black\" font-family=\"Futura\" font-size=\"9.24\" text-anchor=\"end\" x=\"34.32\" y=\"159.72\">6</text><text alignment-baseline=\"middle\" fill=\"black\" font-family=\"Futura\" font-size=\"9.24\" text-anchor=\"end\" x=\"113.52\" y=\"186.12\">26</text><text alignment-baseline=\"middle\" fill=\"black\" font-family=\"Futura\" font-size=\"9.24\" text-anchor=\"end\" x=\"34.32\" y=\"186.12\">7</text><text alignment-baseline=\"middle\" fill=\"black\" font-family=\"Futura\" font-size=\"9.24\" text-anchor=\"end\" x=\"113.52\" y=\"212.52\">28</text><text alignment-baseline=\"middle\" fill=\"black\" font-family=\"Futura\" font-size=\"9.24\" text-anchor=\"end\" x=\"34.32\" y=\"212.52\">8</text><text alignment-baseline=\"middle\" fill=\"black\" font-family=\"Futura\" font-size=\"9.24\" text-anchor=\"end\" x=\"113.52\" y=\"238.92\">30</text><text alignment-baseline=\"middle\" fill=\"black\" font-family=\"Futura\" font-size=\"9.24\" text-anchor=\"end\" x=\"34.32\" y=\"238.92\">9</text><text alignment-baseline=\"middle\" fill=\"black\" font-family=\"Futura\" font-size=\"9.24\" text-anchor=\"end\" x=\"113.52\" y=\"265.32\">32</text><text alignment-baseline=\"middle\" fill=\"black\" font-family=\"Futura\" font-size=\"9.24\" text-anchor=\"end\" x=\"34.32\" y=\"265.32\">10</text><text alignment-baseline=\"middle\" fill=\"black\" font-family=\"Futura\" font-size=\"9.24\" text-anchor=\"end\" x=\"113.52\" y=\"291.72\">34</text><text alignment-baseline=\"middle\" fill=\"black\" font-family=\"Futura\" font-size=\"9.24\" text-anchor=\"end\" x=\"34.32\" y=\"291.72\">11</text><text alignment-baseline=\"middle\" fill=\"black\" font-family=\"Futura\" font-size=\"9.24\" text-anchor=\"end\" x=\"113.52\" y=\"318.12\">36</text><text alignment-baseline=\"middle\" fill=\"black\" font-family=\"Futura\" font-size=\"9.24\" text-anchor=\"end\" x=\"34.32\" y=\"318.12\">12</text><text alignment-baseline=\"middle\" fill=\"black\" font-family=\"Futura\" font-size=\"9.24\" text-anchor=\"end\" x=\"113.52\" y=\"344.52\">38</text><text alignment-baseline=\"middle\" fill=\"black\" font-family=\"Futura\" font-size=\"9.24\" text-anchor=\"end\" x=\"34.32\" y=\"344.52\">13</text><text alignment-baseline=\"middle\" fill=\"black\" font-family=\"Futura\" font-size=\"9.24\" text-anchor=\"end\" x=\"113.52\" y=\"370.92\">40</text><text alignment-baseline=\"middle\" fill=\"black\" font-family=\"Futura\" font-size=\"9.24\" text-anchor=\"end\" x=\"34.32\" y=\"370.92\">14</text><text alignment-baseline=\"middle\" fill=\"black\" font-family=\"Futura\" font-size=\"9.24\" text-anchor=\"end\" x=\"113.52\" y=\"397.32\">42</text><text alignment-baseline=\"middle\" fill=\"black\" font-family=\"Futura\" font-size=\"9.24\" text-anchor=\"end\" x=\"34.32\" y=\"397.32\">15</text><text alignment-baseline=\"middle\" fill=\"black\" font-family=\"Futura\" font-size=\"9.24\" text-anchor=\"end\" x=\"113.52\" y=\"423.72\">44</text><text alignment-baseline=\"middle\" fill=\"black\" font-family=\"Futura\" font-size=\"9.24\" text-anchor=\"end\" x=\"34.32\" y=\"423.72\">16</text><text alignment-baseline=\"middle\" fill=\"black\" font-family=\"Futura\" font-size=\"9.24\" text-anchor=\"end\" x=\"113.52\" y=\"450.12\">46</text><text alignment-baseline=\"middle\" fill=\"black\" font-family=\"Futura\" font-size=\"9.24\" text-anchor=\"end\" x=\"34.32\" y=\"450.12\">17</text><text alignment-baseline=\"middle\" fill=\"black\" font-family=\"Futura\" font-size=\"9.24\" text-anchor=\"end\" x=\"113.52\" y=\"476.52\">48</text><text alignment-baseline=\"middle\" fill=\"black\" font-family=\"Futura\" font-size=\"9.24\" text-anchor=\"end\" x=\"34.32\" y=\"476.52\">18</text><text alignment-baseline=\"middle\" fill=\"black\" font-family=\"Futura\" font-size=\"9.24\" text-anchor=\"end\" x=\"113.52\" y=\"502.92\">50</text><text alignment-baseline=\"middle\" fill=\"black\" font-family=\"Futura\" font-size=\"9.24\" text-anchor=\"end\" x=\"34.32\" y=\"502.92\">19</text><text alignment-baseline=\"middle\" fill=\"black\" font-family=\"Futura\" font-size=\"9.24\" text-anchor=\"end\" x=\"113.52\" y=\"529.32\">52</text><text alignment-baseline=\"middle\" fill=\"black\" font-family=\"Futura\" font-size=\"9.24\" text-anchor=\"end\" x=\"34.32\" y=\"529.32\">20</text><text alignment-baseline=\"middle\" fill=\"black\" font-family=\"Futura\" font-size=\"9.24\" text-anchor=\"end\" x=\"113.52\" y=\"555.72\">54</text><text alignment-baseline=\"middle\" fill=\"black\" font-family=\"Futura\" font-size=\"9.24\" text-anchor=\"end\" x=\"34.32\" y=\"555.72\">21</text><text alignment-baseline=\"middle\" fill=\"black\" font-family=\"Futura\" font-size=\"9.24\" text-anchor=\"end\" x=\"113.52\" y=\"582.12\">56</text><text alignment-baseline=\"middle\" fill=\"black\" font-family=\"Futura\" font-size=\"9.24\" text-anchor=\"end\" x=\"34.32\" y=\"582.12\">22</text><text alignment-baseline=\"middle\" fill=\"black\" font-family=\"Futura\" font-size=\"9.24\" text-anchor=\"end\" x=\"113.52\" y=\"608.52\">58</text><text alignment-baseline=\"middle\" fill=\"black\" font-family=\"Futura\" font-size=\"9.24\" text-anchor=\"end\" x=\"34.32\" y=\"608.52\">23</text><text alignment-baseline=\"middle\" fill=\"black\" font-family=\"Futura\" font-size=\"9.24\" text-anchor=\"end\" x=\"113.52\" y=\"634.92\">60</text><text alignment-baseline=\"middle\" fill=\"black\" font-family=\"Futura\" font-size=\"9.24\" text-anchor=\"end\" x=\"34.32\" y=\"634.92\">24</text><text alignment-baseline=\"middle\" fill=\"black\" font-family=\"Futura\" font-size=\"9.24\" text-anchor=\"end\" x=\"113.52\" y=\"661.32\">62</text><text alignment-baseline=\"middle\" fill=\"black\" font-family=\"Futura\" font-size=\"9.24\" text-anchor=\"end\" x=\"34.32\" y=\"661.32\">25</text><text alignment-baseline=\"middle\" fill=\"black\" font-family=\"Futura\" font-size=\"9.24\" text-anchor=\"end\" x=\"113.52\" y=\"687.72\">64</text><text alignment-baseline=\"middle\" fill=\"black\" font-family=\"Futura\" font-size=\"9.24\" text-anchor=\"end\" x=\"34.32\" y=\"687.72\">26</text><text alignment-baseline=\"middle\" fill=\"black\" font-family=\"Futura\" font-size=\"9.24\" text-anchor=\"end\" x=\"113.52\" y=\"714.12\">66</text><text alignment-baseline=\"middle\" fill=\"black\" font-family=\"Futura\" font-size=\"9.24\" text-anchor=\"end\" x=\"34.32\" y=\"714.12\">27</text><text alignment-baseline=\"middle\" fill=\"black\" font-family=\"Futura\" font-size=\"9.24\" text-anchor=\"end\" x=\"113.52\" y=\"740.52\">68</text><text alignment-baseline=\"middle\" fill=\"black\" font-family=\"Futura\" font-size=\"9.24\" text-anchor=\"end\" x=\"34.32\" y=\"740.52\">28</text><text alignment-baseline=\"middle\" fill=\"black\" font-family=\"Futura\" font-size=\"9.24\" text-anchor=\"end\" x=\"113.52\" y=\"766.92\">70</text><text alignment-baseline=\"middle\" fill=\"black\" font-family=\"Futura\" font-size=\"9.24\" text-anchor=\"end\" x=\"34.32\" y=\"766.92\">29</text><text alignment-baseline=\"middle\" fill=\"black\" font-family=\"Futura\" font-size=\"9.24\" text-anchor=\"end\" x=\"113.52\" y=\"793.32\">72</text><text alignment-baseline=\"middle\" fill=\"black\" font-family=\"Futura\" font-size=\"9.24\" text-anchor=\"end\" x=\"34.32\" y=\"793.32\">30</text><text alignment-baseline=\"middle\" fill=\"black\" font-family=\"Futura\" font-size=\"9.24\" text-anchor=\"end\" x=\"113.52\" y=\"819.72\">74</text><text alignment-baseline=\"middle\" fill=\"black\" font-family=\"Futura\" font-size=\"9.24\" text-anchor=\"end\" x=\"34.32\" y=\"819.72\">31</text><text alignment-baseline=\"middle\" fill=\"black\" font-family=\"Futura\" font-size=\"9.24\" text-anchor=\"end\" x=\"113.52\" y=\"846.12\">76</text><text alignment-baseline=\"middle\" fill=\"black\" font-family=\"Futura\" font-size=\"9.24\" text-anchor=\"end\" x=\"34.32\" y=\"846.12\">32</text><text alignment-baseline=\"middle\" fill=\"black\" font-family=\"Futura\" font-size=\"9.24\" text-anchor=\"end\" x=\"113.52\" y=\"872.52\">78</text><text alignment-baseline=\"middle\" fill=\"black\" font-family=\"Futura\" font-size=\"9.24\" text-anchor=\"end\" x=\"34.32\" y=\"872.52\">33</text><text alignment-baseline=\"middle\" fill=\"black\" font-family=\"Futura\" font-size=\"9.24\" text-anchor=\"end\" x=\"113.52\" y=\"898.92\">80</text><text alignment-baseline=\"middle\" fill=\"black\" font-family=\"Futura\" font-size=\"9.24\" text-anchor=\"end\" x=\"34.32\" y=\"898.92\">34</text><text alignment-baseline=\"middle\" fill=\"black\" font-family=\"Futura\" font-size=\"9.24\" text-anchor=\"end\" x=\"113.52\" y=\"925.32\">82</text><text alignment-baseline=\"middle\" fill=\"black\" font-family=\"Futura\" font-size=\"9.24\" text-anchor=\"end\" x=\"34.32\" y=\"925.32\">35</text><text alignment-baseline=\"middle\" fill=\"black\" font-family=\"Futura\" font-size=\"9.24\" text-anchor=\"end\" x=\"113.52\" y=\"951.72\">84</text><text alignment-baseline=\"middle\" fill=\"black\" font-family=\"Futura\" font-size=\"9.24\" text-anchor=\"end\" x=\"34.32\" y=\"951.72\">36</text><text alignment-baseline=\"middle\" fill=\"black\" font-family=\"Futura\" font-size=\"9.24\" text-anchor=\"end\" x=\"113.52\" y=\"978.12\">86</text><text alignment-baseline=\"middle\" fill=\"black\" font-family=\"Futura\" font-size=\"9.24\" text-anchor=\"end\" x=\"34.32\" y=\"978.12\">37</text><text alignment-baseline=\"middle\" fill=\"black\" font-family=\"Futura\" font-size=\"9.24\" text-anchor=\"end\" x=\"113.52\" y=\"1004.52\">88</text><text alignment-baseline=\"middle\" fill=\"black\" font-family=\"Futura\" font-size=\"9.24\" text-anchor=\"end\" x=\"34.32\" y=\"1004.52\">38</text><text alignment-baseline=\"middle\" fill=\"black\" font-family=\"Futura\" font-size=\"9.24\" text-anchor=\"end\" x=\"113.52\" y=\"1030.92\">90</text><text alignment-baseline=\"middle\" fill=\"black\" font-family=\"Futura\" font-size=\"9.24\" text-anchor=\"end\" x=\"34.32\" y=\"1030.92\">39</text><text alignment-baseline=\"middle\" fill=\"black\" font-family=\"Futura\" font-size=\"9.24\" text-anchor=\"end\" x=\"113.52\" y=\"1057.32\">92</text><text alignment-baseline=\"middle\" fill=\"black\" font-family=\"Futura\" font-size=\"9.24\" text-anchor=\"end\" x=\"34.32\" y=\"1057.32\">40</text><text alignment-baseline=\"middle\" fill=\"black\" font-family=\"Futura\" font-size=\"9.24\" text-anchor=\"end\" x=\"113.52\" y=\"1083.72\">94</text><text alignment-baseline=\"middle\" fill=\"black\" font-family=\"Futura\" font-size=\"9.24\" text-anchor=\"end\" x=\"34.32\" y=\"1083.72\">41</text><text alignment-baseline=\"middle\" fill=\"black\" font-family=\"Futura\" font-size=\"9.24\" text-anchor=\"end\" x=\"113.52\" y=\"1110.12\">96</text><text alignment-baseline=\"middle\" fill=\"black\" font-family=\"Futura\" font-size=\"9.24\" text-anchor=\"end\" x=\"34.32\" y=\"1110.12\">42</text><text alignment-baseline=\"middle\" fill=\"black\" font-family=\"Futura\" font-size=\"9.24\" text-anchor=\"end\" x=\"113.52\" y=\"1136.52\">98</text><text alignment-baseline=\"middle\" fill=\"black\" font-family=\"Futura\" font-size=\"9.24\" text-anchor=\"end\" x=\"34.32\" y=\"1136.52\">43</text><text alignment-baseline=\"middle\" fill=\"black\" font-family=\"Futura\" font-size=\"9.24\" text-anchor=\"end\" x=\"113.52\" y=\"1162.92\">100</text><text alignment-baseline=\"middle\" fill=\"black\" font-family=\"Futura\" font-size=\"9.24\" text-anchor=\"end\" x=\"34.32\" y=\"1162.92\">44</text><text alignment-baseline=\"middle\" fill=\"black\" font-family=\"Futura\" font-size=\"9.24\" text-anchor=\"end\" x=\"113.52\" y=\"1189.32\">102</text><text alignment-baseline=\"middle\" fill=\"black\" font-family=\"Futura\" font-size=\"9.24\" text-anchor=\"end\" x=\"34.32\" y=\"1189.32\">45</text><text alignment-baseline=\"middle\" fill=\"black\" font-family=\"Futura\" font-size=\"9.24\" text-anchor=\"end\" x=\"113.52\" y=\"1215.72\">104</text><text alignment-baseline=\"middle\" fill=\"black\" font-family=\"Futura\" font-size=\"9.24\" text-anchor=\"end\" x=\"34.32\" y=\"1215.72\">46</text><text alignment-baseline=\"middle\" fill=\"black\" font-family=\"Futura\" font-size=\"9.24\" text-anchor=\"end\" x=\"113.52\" y=\"1242.12\">106</text><text alignment-baseline=\"middle\" fill=\"black\" font-family=\"Futura\" font-size=\"9.24\" text-anchor=\"end\" x=\"34.32\" y=\"1242.12\">47</text><text alignment-baseline=\"middle\" fill=\"black\" font-family=\"Futura\" font-size=\"9.24\" text-anchor=\"end\" x=\"113.52\" y=\"1268.52\">108</text><text alignment-baseline=\"middle\" fill=\"black\" font-family=\"Futura\" font-size=\"9.24\" text-anchor=\"end\" x=\"34.32\" y=\"1268.52\">48</text><text alignment-baseline=\"middle\" fill=\"black\" font-family=\"Futura\" font-size=\"9.24\" text-anchor=\"end\" x=\"113.52\" y=\"1294.92\">110</text><text alignment-baseline=\"middle\" fill=\"black\" font-family=\"Futura\" font-size=\"9.24\" text-anchor=\"end\" x=\"34.32\" y=\"1294.92\">49</text><text alignment-baseline=\"middle\" fill=\"black\" font-family=\"Futura\" font-size=\"9.24\" text-anchor=\"end\" x=\"113.52\" y=\"1321.32\">112</text><text alignment-baseline=\"middle\" fill=\"black\" font-family=\"Futura\" font-size=\"9.24\" text-anchor=\"end\" x=\"34.32\" y=\"1321.32\">50</text><text alignment-baseline=\"middle\" fill=\"black\" font-family=\"Futura\" font-size=\"9.24\" text-anchor=\"end\" x=\"113.52\" y=\"1347.72\">113</text><text alignment-baseline=\"middle\" fill=\"black\" font-family=\"Futura\" font-size=\"9.24\" text-anchor=\"end\" x=\"34.32\" y=\"1347.72\">50</text><rect fill=\"black\" height=\"1341.12\" width=\"2.64\" x=\"52.8\" y=\"15.84\"/><circle cx=\"52.8\" cy=\"15.84\" fill=\"black\" r=\"1.32\" stroke=\"black\" stroke-width=\"0\"/><rect fill=\"black\" height=\"2.64\" width=\"23.76\" x=\"40.92\" y=\"15.84\"/><circle cx=\"52.8\" cy=\"1356.96\" fill=\"black\" r=\"1.32\" stroke=\"black\" stroke-width=\"0\"/><rect fill=\"black\" height=\"2.64\" width=\"23.76\" x=\"40.92\" y=\"1354.32\"/><text alignment-baseline=\"middle\" fill=\"black\" font-family=\"Futura\" font-size=\"9.24\" text-anchor=\"middle\" x=\"44.88\" y=\"687.72\"/><rect fill=\"black\" height=\"1341.12\" width=\"2.64\" x=\"145.2\" y=\"15.84\"/><circle cx=\"145.2\" cy=\"15.84\" fill=\"black\" r=\"1.32\" stroke=\"black\" stroke-width=\"0\"/><rect fill=\"black\" height=\"2.64\" width=\"23.76\" x=\"133.32\" y=\"15.84\"/><text alignment-baseline=\"middle\" fill=\"black\" font-family=\"Futura\" font-size=\"9.24\" text-anchor=\"middle\" x=\"137.28\" y=\"687.72\"/></svg>"
      ],
      "text/plain": [
       "<IPython.core.display.SVG object>"
      ]
     },
     "execution_count": 36,
     "metadata": {},
     "output_type": "execute_result"
    }
   ],
   "source": [
    "view = tree.renderer\n",
    "view.zoom = 1.1\n",
    "view.scale_y = 24\n",
    "view.scale_x = 24\n",
    "view.font_size = 0.35\n",
    "SVG(view.to_svg())"
   ]
  },
  {
   "cell_type": "markdown",
   "metadata": {},
   "source": [
    "An alternate view which is similar to the standard way of plotting"
   ]
  },
  {
   "cell_type": "code",
   "execution_count": 37,
   "metadata": {
    "collapsed": false
   },
   "outputs": [
    {
     "data": {
      "image/svg+xml": [
       "<svg baseProfile=\"full\" height=\"891.0px\" version=\"1.1\" width=\"316.8px\" xmlns=\"http://www.w3.org/2000/svg\" xmlns:ev=\"http://www.w3.org/2001/xml-events\" xmlns:xlink=\"http://www.w3.org/1999/xlink\"><defs/><text alignment-baseline=\"middle\" fill=\"black\" font-family=\"Times\" font-size=\"8.25\" text-anchor=\"end\" x=\"205.92\" y=\"17.325\">10b</text><rect fill=\"black\" height=\"9.9\" width=\"26.928\" x=\"210.936\" y=\"11.55\"/><circle cx=\"211.2\" cy=\"16.5\" fill=\"black\" r=\"-0.264\" stroke=\"black\" stroke-width=\"0\"/><circle cx=\"237.6\" cy=\"16.5\" fill=\"black\" r=\"-0.264\" stroke=\"black\" stroke-width=\"0\"/><text alignment-baseline=\"middle\" fill=\"white\" font-family=\"Times\" font-size=\"8.25\" text-anchor=\"middle\" x=\"224.4\" y=\"17.325\"/><rect fill=\"black\" height=\"9.9\" width=\"26.928\" x=\"237.336\" y=\"11.55\"/><circle cx=\"237.6\" cy=\"16.5\" fill=\"black\" r=\"-0.264\" stroke=\"black\" stroke-width=\"0\"/><circle cx=\"264.0\" cy=\"16.5\" fill=\"black\" r=\"-0.264\" stroke=\"black\" stroke-width=\"0\"/><text alignment-baseline=\"middle\" fill=\"white\" font-family=\"Times\" font-size=\"8.25\" text-anchor=\"middle\" x=\"250.8\" y=\"17.325\"/><rect fill=\"black\" height=\"9.9\" width=\"26.928\" x=\"263.736\" y=\"11.55\"/><circle cx=\"264.0\" cy=\"16.5\" fill=\"black\" r=\"-0.264\" stroke=\"black\" stroke-width=\"0\"/><circle cx=\"290.4\" cy=\"16.5\" fill=\"black\" r=\"-0.264\" stroke=\"black\" stroke-width=\"0\"/><text alignment-baseline=\"middle\" fill=\"white\" font-family=\"Times\" font-size=\"8.25\" text-anchor=\"middle\" x=\"277.2\" y=\"17.325\"/><line stroke=\"red\" stroke-width=\"1.32\" x1=\"237.6\" x2=\"237.6\" y1=\"16.335\" y2=\"33.165\"/><text alignment-baseline=\"middle\" fill=\"black\" font-family=\"Times\" font-size=\"8.25\" text-anchor=\"start\" x=\"295.68\" y=\"33.825\">11f</text><rect fill=\"red\" height=\"9.9\" width=\"26.928\" x=\"237.336\" y=\"28.05\"/><circle cx=\"237.6\" cy=\"33.0\" fill=\"red\" r=\"-0.264\" stroke=\"red\" stroke-width=\"0\"/><circle cx=\"264.0\" cy=\"33.0\" fill=\"red\" r=\"-0.264\" stroke=\"red\" stroke-width=\"0\"/><text alignment-baseline=\"middle\" fill=\"white\" font-family=\"Times\" font-size=\"8.25\" text-anchor=\"middle\" x=\"250.8\" y=\"33.825\"/><rect fill=\"red\" height=\"9.9\" width=\"26.928\" x=\"263.736\" y=\"28.05\"/><circle cx=\"264.0\" cy=\"33.0\" fill=\"red\" r=\"-0.264\" stroke=\"red\" stroke-width=\"0\"/><circle cx=\"290.4\" cy=\"33.0\" fill=\"red\" r=\"-0.264\" stroke=\"red\" stroke-width=\"0\"/><text alignment-baseline=\"middle\" fill=\"white\" font-family=\"Times\" font-size=\"8.25\" text-anchor=\"middle\" x=\"277.2\" y=\"33.825\"/><line stroke=\"green\" stroke-width=\"1.32\" x1=\"264.0\" x2=\"264.0\" y1=\"32.835\" y2=\"49.665\"/><text alignment-baseline=\"middle\" fill=\"black\" font-family=\"Times\" font-size=\"8.25\" text-anchor=\"end\" x=\"205.92\" y=\"50.325\">12b</text><rect fill=\"green\" height=\"9.9\" width=\"26.928\" x=\"210.936\" y=\"44.55\"/><circle cx=\"211.2\" cy=\"49.5\" fill=\"green\" r=\"-0.264\" stroke=\"green\" stroke-width=\"0\"/><circle cx=\"237.6\" cy=\"49.5\" fill=\"green\" r=\"-0.264\" stroke=\"green\" stroke-width=\"0\"/><text alignment-baseline=\"middle\" fill=\"white\" font-family=\"Times\" font-size=\"8.25\" text-anchor=\"middle\" x=\"224.4\" y=\"50.325\"/><rect fill=\"green\" height=\"9.9\" width=\"26.928\" x=\"237.336\" y=\"44.55\"/><circle cx=\"237.6\" cy=\"49.5\" fill=\"green\" r=\"-0.264\" stroke=\"green\" stroke-width=\"0\"/><circle cx=\"264.0\" cy=\"49.5\" fill=\"green\" r=\"-0.264\" stroke=\"green\" stroke-width=\"0\"/><text alignment-baseline=\"middle\" fill=\"white\" font-family=\"Times\" font-size=\"8.25\" text-anchor=\"middle\" x=\"250.8\" y=\"50.325\"/><line stroke=\"green\" stroke-width=\"1.32\" x1=\"264.0\" x2=\"264.0\" y1=\"49.335\" y2=\"66.165\"/><text alignment-baseline=\"middle\" fill=\"black\" font-family=\"Times\" font-size=\"8.25\" text-anchor=\"end\" x=\"205.92\" y=\"66.825\">13b</text><rect fill=\"green\" height=\"9.9\" width=\"26.928\" x=\"210.936\" y=\"61.05\"/><circle cx=\"211.2\" cy=\"66.0\" fill=\"green\" r=\"-0.264\" stroke=\"green\" stroke-width=\"0\"/><circle cx=\"237.6\" cy=\"66.0\" fill=\"green\" r=\"-0.264\" stroke=\"green\" stroke-width=\"0\"/><text alignment-baseline=\"middle\" fill=\"white\" font-family=\"Times\" font-size=\"8.25\" text-anchor=\"middle\" x=\"224.4\" y=\"66.825\"/><rect fill=\"green\" height=\"9.9\" width=\"26.928\" x=\"237.336\" y=\"61.05\"/><circle cx=\"237.6\" cy=\"66.0\" fill=\"green\" r=\"-0.264\" stroke=\"green\" stroke-width=\"0\"/><circle cx=\"264.0\" cy=\"66.0\" fill=\"green\" r=\"-0.264\" stroke=\"green\" stroke-width=\"0\"/><text alignment-baseline=\"middle\" fill=\"white\" font-family=\"Times\" font-size=\"8.25\" text-anchor=\"middle\" x=\"250.8\" y=\"66.825\"/><line stroke=\"green\" stroke-width=\"1.32\" x1=\"264.0\" x2=\"264.0\" y1=\"65.835\" y2=\"82.665\"/><text alignment-baseline=\"middle\" fill=\"black\" font-family=\"Times\" font-size=\"8.25\" text-anchor=\"end\" x=\"205.92\" y=\"83.325\">14b</text><rect fill=\"green\" height=\"9.9\" width=\"26.928\" x=\"210.936\" y=\"77.55\"/><circle cx=\"211.2\" cy=\"82.5\" fill=\"green\" r=\"-0.264\" stroke=\"green\" stroke-width=\"0\"/><circle cx=\"237.6\" cy=\"82.5\" fill=\"green\" r=\"-0.264\" stroke=\"green\" stroke-width=\"0\"/><text alignment-baseline=\"middle\" fill=\"white\" font-family=\"Times\" font-size=\"8.25\" text-anchor=\"middle\" x=\"224.4\" y=\"83.325\"/><rect fill=\"green\" height=\"9.9\" width=\"26.928\" x=\"237.336\" y=\"77.55\"/><circle cx=\"237.6\" cy=\"82.5\" fill=\"green\" r=\"-0.264\" stroke=\"green\" stroke-width=\"0\"/><circle cx=\"264.0\" cy=\"82.5\" fill=\"green\" r=\"-0.264\" stroke=\"green\" stroke-width=\"0\"/><text alignment-baseline=\"middle\" fill=\"white\" font-family=\"Times\" font-size=\"8.25\" text-anchor=\"middle\" x=\"250.8\" y=\"83.325\"/><line stroke=\"red\" stroke-width=\"1.32\" x1=\"237.6\" x2=\"237.6\" y1=\"82.335\" y2=\"99.165\"/><text alignment-baseline=\"middle\" fill=\"black\" font-family=\"Times\" font-size=\"8.25\" text-anchor=\"start\" x=\"295.68\" y=\"99.825\">15f</text><rect fill=\"red\" height=\"9.9\" width=\"26.928\" x=\"237.336\" y=\"94.05\"/><circle cx=\"237.6\" cy=\"99.0\" fill=\"red\" r=\"-0.264\" stroke=\"red\" stroke-width=\"0\"/><circle cx=\"264.0\" cy=\"99.0\" fill=\"red\" r=\"-0.264\" stroke=\"red\" stroke-width=\"0\"/><text alignment-baseline=\"middle\" fill=\"white\" font-family=\"Times\" font-size=\"8.25\" text-anchor=\"middle\" x=\"250.8\" y=\"99.825\"/><rect fill=\"red\" height=\"9.9\" width=\"26.928\" x=\"263.736\" y=\"94.05\"/><circle cx=\"264.0\" cy=\"99.0\" fill=\"red\" r=\"-0.264\" stroke=\"red\" stroke-width=\"0\"/><circle cx=\"290.4\" cy=\"99.0\" fill=\"red\" r=\"-0.264\" stroke=\"red\" stroke-width=\"0\"/><text alignment-baseline=\"middle\" fill=\"white\" font-family=\"Times\" font-size=\"8.25\" text-anchor=\"middle\" x=\"277.2\" y=\"99.825\"/><line stroke=\"red\" stroke-width=\"1.32\" x1=\"237.6\" x2=\"237.6\" y1=\"98.835\" y2=\"115.665\"/><text alignment-baseline=\"middle\" fill=\"black\" font-family=\"Times\" font-size=\"8.25\" text-anchor=\"start\" x=\"295.68\" y=\"116.325\">16f</text><rect fill=\"red\" height=\"9.9\" width=\"26.928\" x=\"237.336\" y=\"110.55\"/><circle cx=\"237.6\" cy=\"115.5\" fill=\"red\" r=\"-0.264\" stroke=\"red\" stroke-width=\"0\"/><circle cx=\"264.0\" cy=\"115.5\" fill=\"red\" r=\"-0.264\" stroke=\"red\" stroke-width=\"0\"/><text alignment-baseline=\"middle\" fill=\"white\" font-family=\"Times\" font-size=\"8.25\" text-anchor=\"middle\" x=\"250.8\" y=\"116.325\"/><rect fill=\"red\" height=\"9.9\" width=\"26.928\" x=\"263.736\" y=\"110.55\"/><circle cx=\"264.0\" cy=\"115.5\" fill=\"red\" r=\"-0.264\" stroke=\"red\" stroke-width=\"0\"/><circle cx=\"290.4\" cy=\"115.5\" fill=\"red\" r=\"-0.264\" stroke=\"red\" stroke-width=\"0\"/><text alignment-baseline=\"middle\" fill=\"white\" font-family=\"Times\" font-size=\"8.25\" text-anchor=\"middle\" x=\"277.2\" y=\"116.325\"/><line stroke=\"green\" stroke-width=\"1.32\" x1=\"264.0\" x2=\"264.0\" y1=\"115.335\" y2=\"132.165\"/><text alignment-baseline=\"middle\" fill=\"black\" font-family=\"Times\" font-size=\"8.25\" text-anchor=\"end\" x=\"205.92\" y=\"132.825\">17b</text><rect fill=\"green\" height=\"9.9\" width=\"26.928\" x=\"210.936\" y=\"127.05\"/><circle cx=\"211.2\" cy=\"132.0\" fill=\"green\" r=\"-0.264\" stroke=\"green\" stroke-width=\"0\"/><circle cx=\"237.6\" cy=\"132.0\" fill=\"green\" r=\"-0.264\" stroke=\"green\" stroke-width=\"0\"/><text alignment-baseline=\"middle\" fill=\"white\" font-family=\"Times\" font-size=\"8.25\" text-anchor=\"middle\" x=\"224.4\" y=\"132.825\"/><rect fill=\"green\" height=\"9.9\" width=\"26.928\" x=\"237.336\" y=\"127.05\"/><circle cx=\"237.6\" cy=\"132.0\" fill=\"green\" r=\"-0.264\" stroke=\"green\" stroke-width=\"0\"/><circle cx=\"264.0\" cy=\"132.0\" fill=\"green\" r=\"-0.264\" stroke=\"green\" stroke-width=\"0\"/><text alignment-baseline=\"middle\" fill=\"white\" font-family=\"Times\" font-size=\"8.25\" text-anchor=\"middle\" x=\"250.8\" y=\"132.825\"/><line stroke=\"green\" stroke-width=\"1.32\" x1=\"264.0\" x2=\"264.0\" y1=\"131.835\" y2=\"148.665\"/><text alignment-baseline=\"middle\" fill=\"black\" font-family=\"Times\" font-size=\"8.25\" text-anchor=\"end\" x=\"205.92\" y=\"149.325\">18b</text><rect fill=\"green\" height=\"9.9\" width=\"26.928\" x=\"210.936\" y=\"143.55\"/><circle cx=\"211.2\" cy=\"148.5\" fill=\"green\" r=\"-0.264\" stroke=\"green\" stroke-width=\"0\"/><circle cx=\"237.6\" cy=\"148.5\" fill=\"green\" r=\"-0.264\" stroke=\"green\" stroke-width=\"0\"/><text alignment-baseline=\"middle\" fill=\"white\" font-family=\"Times\" font-size=\"8.25\" text-anchor=\"middle\" x=\"224.4\" y=\"149.325\"/><rect fill=\"green\" height=\"9.9\" width=\"26.928\" x=\"237.336\" y=\"143.55\"/><circle cx=\"237.6\" cy=\"148.5\" fill=\"green\" r=\"-0.264\" stroke=\"green\" stroke-width=\"0\"/><circle cx=\"264.0\" cy=\"148.5\" fill=\"green\" r=\"-0.264\" stroke=\"green\" stroke-width=\"0\"/><text alignment-baseline=\"middle\" fill=\"white\" font-family=\"Times\" font-size=\"8.25\" text-anchor=\"middle\" x=\"250.8\" y=\"149.325\"/><line stroke=\"green\" stroke-width=\"1.32\" x1=\"264.0\" x2=\"264.0\" y1=\"148.335\" y2=\"165.165\"/><text alignment-baseline=\"middle\" fill=\"black\" font-family=\"Times\" font-size=\"8.25\" text-anchor=\"end\" x=\"205.92\" y=\"165.825\">19b</text><rect fill=\"green\" height=\"9.9\" width=\"26.928\" x=\"210.936\" y=\"160.05\"/><circle cx=\"211.2\" cy=\"165.0\" fill=\"green\" r=\"-0.264\" stroke=\"green\" stroke-width=\"0\"/><circle cx=\"237.6\" cy=\"165.0\" fill=\"green\" r=\"-0.264\" stroke=\"green\" stroke-width=\"0\"/><text alignment-baseline=\"middle\" fill=\"white\" font-family=\"Times\" font-size=\"8.25\" text-anchor=\"middle\" x=\"224.4\" y=\"165.825\"/><rect fill=\"green\" height=\"9.9\" width=\"26.928\" x=\"237.336\" y=\"160.05\"/><circle cx=\"237.6\" cy=\"165.0\" fill=\"green\" r=\"-0.264\" stroke=\"green\" stroke-width=\"0\"/><circle cx=\"264.0\" cy=\"165.0\" fill=\"green\" r=\"-0.264\" stroke=\"green\" stroke-width=\"0\"/><text alignment-baseline=\"middle\" fill=\"white\" font-family=\"Times\" font-size=\"8.25\" text-anchor=\"middle\" x=\"250.8\" y=\"165.825\"/><line stroke=\"green\" stroke-width=\"1.32\" x1=\"264.0\" x2=\"264.0\" y1=\"164.835\" y2=\"181.665\"/><text alignment-baseline=\"middle\" fill=\"black\" font-family=\"Times\" font-size=\"8.25\" text-anchor=\"end\" x=\"205.92\" y=\"182.325\">20b</text><rect fill=\"green\" height=\"9.9\" width=\"26.928\" x=\"210.936\" y=\"176.55\"/><circle cx=\"211.2\" cy=\"181.5\" fill=\"green\" r=\"-0.264\" stroke=\"green\" stroke-width=\"0\"/><circle cx=\"237.6\" cy=\"181.5\" fill=\"green\" r=\"-0.264\" stroke=\"green\" stroke-width=\"0\"/><text alignment-baseline=\"middle\" fill=\"white\" font-family=\"Times\" font-size=\"8.25\" text-anchor=\"middle\" x=\"224.4\" y=\"182.325\"/><rect fill=\"green\" height=\"9.9\" width=\"26.928\" x=\"237.336\" y=\"176.55\"/><circle cx=\"237.6\" cy=\"181.5\" fill=\"green\" r=\"-0.264\" stroke=\"green\" stroke-width=\"0\"/><circle cx=\"264.0\" cy=\"181.5\" fill=\"green\" r=\"-0.264\" stroke=\"green\" stroke-width=\"0\"/><text alignment-baseline=\"middle\" fill=\"white\" font-family=\"Times\" font-size=\"8.25\" text-anchor=\"middle\" x=\"250.8\" y=\"182.325\"/><line stroke=\"green\" stroke-width=\"1.32\" x1=\"264.0\" x2=\"264.0\" y1=\"181.335\" y2=\"198.165\"/><text alignment-baseline=\"middle\" fill=\"black\" font-family=\"Times\" font-size=\"8.25\" text-anchor=\"end\" x=\"205.92\" y=\"198.825\">21b</text><rect fill=\"green\" height=\"9.9\" width=\"26.928\" x=\"210.936\" y=\"193.05\"/><circle cx=\"211.2\" cy=\"198.0\" fill=\"green\" r=\"-0.264\" stroke=\"green\" stroke-width=\"0\"/><circle cx=\"237.6\" cy=\"198.0\" fill=\"green\" r=\"-0.264\" stroke=\"green\" stroke-width=\"0\"/><text alignment-baseline=\"middle\" fill=\"white\" font-family=\"Times\" font-size=\"8.25\" text-anchor=\"middle\" x=\"224.4\" y=\"198.825\"/><rect fill=\"green\" height=\"9.9\" width=\"26.928\" x=\"237.336\" y=\"193.05\"/><circle cx=\"237.6\" cy=\"198.0\" fill=\"green\" r=\"-0.264\" stroke=\"green\" stroke-width=\"0\"/><circle cx=\"264.0\" cy=\"198.0\" fill=\"green\" r=\"-0.264\" stroke=\"green\" stroke-width=\"0\"/><text alignment-baseline=\"middle\" fill=\"white\" font-family=\"Times\" font-size=\"8.25\" text-anchor=\"middle\" x=\"250.8\" y=\"198.825\"/><line stroke=\"green\" stroke-width=\"1.32\" x1=\"264.0\" x2=\"264.0\" y1=\"197.835\" y2=\"214.665\"/><text alignment-baseline=\"middle\" fill=\"black\" font-family=\"Times\" font-size=\"8.25\" text-anchor=\"end\" x=\"205.92\" y=\"215.325\">22b</text><rect fill=\"green\" height=\"9.9\" width=\"26.928\" x=\"210.936\" y=\"209.55\"/><circle cx=\"211.2\" cy=\"214.5\" fill=\"green\" r=\"-0.264\" stroke=\"green\" stroke-width=\"0\"/><circle cx=\"237.6\" cy=\"214.5\" fill=\"green\" r=\"-0.264\" stroke=\"green\" stroke-width=\"0\"/><text alignment-baseline=\"middle\" fill=\"white\" font-family=\"Times\" font-size=\"8.25\" text-anchor=\"middle\" x=\"224.4\" y=\"215.325\"/><rect fill=\"green\" height=\"9.9\" width=\"26.928\" x=\"237.336\" y=\"209.55\"/><circle cx=\"237.6\" cy=\"214.5\" fill=\"green\" r=\"-0.264\" stroke=\"green\" stroke-width=\"0\"/><circle cx=\"264.0\" cy=\"214.5\" fill=\"green\" r=\"-0.264\" stroke=\"green\" stroke-width=\"0\"/><text alignment-baseline=\"middle\" fill=\"white\" font-family=\"Times\" font-size=\"8.25\" text-anchor=\"middle\" x=\"250.8\" y=\"215.325\"/><line stroke=\"red\" stroke-width=\"1.32\" x1=\"237.6\" x2=\"237.6\" y1=\"214.335\" y2=\"231.165\"/><text alignment-baseline=\"middle\" fill=\"black\" font-family=\"Times\" font-size=\"8.25\" text-anchor=\"start\" x=\"295.68\" y=\"231.825\">23f</text><rect fill=\"red\" height=\"9.9\" width=\"26.928\" x=\"237.336\" y=\"226.05\"/><circle cx=\"237.6\" cy=\"231.0\" fill=\"red\" r=\"-0.264\" stroke=\"red\" stroke-width=\"0\"/><circle cx=\"264.0\" cy=\"231.0\" fill=\"red\" r=\"-0.264\" stroke=\"red\" stroke-width=\"0\"/><text alignment-baseline=\"middle\" fill=\"white\" font-family=\"Times\" font-size=\"8.25\" text-anchor=\"middle\" x=\"250.8\" y=\"231.825\"/><rect fill=\"red\" height=\"9.9\" width=\"26.928\" x=\"263.736\" y=\"226.05\"/><circle cx=\"264.0\" cy=\"231.0\" fill=\"red\" r=\"-0.264\" stroke=\"red\" stroke-width=\"0\"/><circle cx=\"290.4\" cy=\"231.0\" fill=\"red\" r=\"-0.264\" stroke=\"red\" stroke-width=\"0\"/><text alignment-baseline=\"middle\" fill=\"white\" font-family=\"Times\" font-size=\"8.25\" text-anchor=\"middle\" x=\"277.2\" y=\"231.825\"/><line stroke=\"red\" stroke-width=\"1.32\" x1=\"237.6\" x2=\"237.6\" y1=\"230.835\" y2=\"247.665\"/><text alignment-baseline=\"middle\" fill=\"black\" font-family=\"Times\" font-size=\"8.25\" text-anchor=\"start\" x=\"295.68\" y=\"248.325\">24f</text><rect fill=\"red\" height=\"9.9\" width=\"26.928\" x=\"237.336\" y=\"242.55\"/><circle cx=\"237.6\" cy=\"247.5\" fill=\"red\" r=\"-0.264\" stroke=\"red\" stroke-width=\"0\"/><circle cx=\"264.0\" cy=\"247.5\" fill=\"red\" r=\"-0.264\" stroke=\"red\" stroke-width=\"0\"/><text alignment-baseline=\"middle\" fill=\"white\" font-family=\"Times\" font-size=\"8.25\" text-anchor=\"middle\" x=\"250.8\" y=\"248.325\"/><rect fill=\"red\" height=\"9.9\" width=\"26.928\" x=\"263.736\" y=\"242.55\"/><circle cx=\"264.0\" cy=\"247.5\" fill=\"red\" r=\"-0.264\" stroke=\"red\" stroke-width=\"0\"/><circle cx=\"290.4\" cy=\"247.5\" fill=\"red\" r=\"-0.264\" stroke=\"red\" stroke-width=\"0\"/><text alignment-baseline=\"middle\" fill=\"white\" font-family=\"Times\" font-size=\"8.25\" text-anchor=\"middle\" x=\"277.2\" y=\"248.325\"/><line stroke=\"green\" stroke-width=\"1.32\" x1=\"264.0\" x2=\"264.0\" y1=\"247.335\" y2=\"264.165\"/><text alignment-baseline=\"middle\" fill=\"black\" font-family=\"Times\" font-size=\"8.25\" text-anchor=\"end\" x=\"205.92\" y=\"264.825\">25b</text><rect fill=\"green\" height=\"9.9\" width=\"26.928\" x=\"210.936\" y=\"259.05\"/><circle cx=\"211.2\" cy=\"264.0\" fill=\"green\" r=\"-0.264\" stroke=\"green\" stroke-width=\"0\"/><circle cx=\"237.6\" cy=\"264.0\" fill=\"green\" r=\"-0.264\" stroke=\"green\" stroke-width=\"0\"/><text alignment-baseline=\"middle\" fill=\"white\" font-family=\"Times\" font-size=\"8.25\" text-anchor=\"middle\" x=\"224.4\" y=\"264.825\"/><rect fill=\"green\" height=\"9.9\" width=\"26.928\" x=\"237.336\" y=\"259.05\"/><circle cx=\"237.6\" cy=\"264.0\" fill=\"green\" r=\"-0.264\" stroke=\"green\" stroke-width=\"0\"/><circle cx=\"264.0\" cy=\"264.0\" fill=\"green\" r=\"-0.264\" stroke=\"green\" stroke-width=\"0\"/><text alignment-baseline=\"middle\" fill=\"white\" font-family=\"Times\" font-size=\"8.25\" text-anchor=\"middle\" x=\"250.8\" y=\"264.825\"/><line stroke=\"green\" stroke-width=\"1.32\" x1=\"264.0\" x2=\"264.0\" y1=\"263.835\" y2=\"280.665\"/><text alignment-baseline=\"middle\" fill=\"black\" font-family=\"Times\" font-size=\"8.25\" text-anchor=\"end\" x=\"205.92\" y=\"281.325\">26b</text><rect fill=\"green\" height=\"9.9\" width=\"26.928\" x=\"210.936\" y=\"275.55\"/><circle cx=\"211.2\" cy=\"280.5\" fill=\"green\" r=\"-0.264\" stroke=\"green\" stroke-width=\"0\"/><circle cx=\"237.6\" cy=\"280.5\" fill=\"green\" r=\"-0.264\" stroke=\"green\" stroke-width=\"0\"/><text alignment-baseline=\"middle\" fill=\"white\" font-family=\"Times\" font-size=\"8.25\" text-anchor=\"middle\" x=\"224.4\" y=\"281.325\"/><rect fill=\"green\" height=\"9.9\" width=\"26.928\" x=\"237.336\" y=\"275.55\"/><circle cx=\"237.6\" cy=\"280.5\" fill=\"green\" r=\"-0.264\" stroke=\"green\" stroke-width=\"0\"/><circle cx=\"264.0\" cy=\"280.5\" fill=\"green\" r=\"-0.264\" stroke=\"green\" stroke-width=\"0\"/><text alignment-baseline=\"middle\" fill=\"white\" font-family=\"Times\" font-size=\"8.25\" text-anchor=\"middle\" x=\"250.8\" y=\"281.325\"/><line stroke=\"red\" stroke-width=\"1.32\" x1=\"237.6\" x2=\"237.6\" y1=\"280.335\" y2=\"297.165\"/><text alignment-baseline=\"middle\" fill=\"black\" font-family=\"Times\" font-size=\"8.25\" text-anchor=\"start\" x=\"295.68\" y=\"297.825\">27f</text><rect fill=\"red\" height=\"9.9\" width=\"26.928\" x=\"237.336\" y=\"292.05\"/><circle cx=\"237.6\" cy=\"297.0\" fill=\"red\" r=\"-0.264\" stroke=\"red\" stroke-width=\"0\"/><circle cx=\"264.0\" cy=\"297.0\" fill=\"red\" r=\"-0.264\" stroke=\"red\" stroke-width=\"0\"/><text alignment-baseline=\"middle\" fill=\"white\" font-family=\"Times\" font-size=\"8.25\" text-anchor=\"middle\" x=\"250.8\" y=\"297.825\"/><rect fill=\"red\" height=\"9.9\" width=\"26.928\" x=\"263.736\" y=\"292.05\"/><circle cx=\"264.0\" cy=\"297.0\" fill=\"red\" r=\"-0.264\" stroke=\"red\" stroke-width=\"0\"/><circle cx=\"290.4\" cy=\"297.0\" fill=\"red\" r=\"-0.264\" stroke=\"red\" stroke-width=\"0\"/><text alignment-baseline=\"middle\" fill=\"white\" font-family=\"Times\" font-size=\"8.25\" text-anchor=\"middle\" x=\"277.2\" y=\"297.825\"/><line stroke=\"green\" stroke-width=\"1.32\" x1=\"264.0\" x2=\"264.0\" y1=\"296.835\" y2=\"313.665\"/><text alignment-baseline=\"middle\" fill=\"black\" font-family=\"Times\" font-size=\"8.25\" text-anchor=\"end\" x=\"205.92\" y=\"314.325\">28b</text><rect fill=\"green\" height=\"9.9\" width=\"26.928\" x=\"210.936\" y=\"308.55\"/><circle cx=\"211.2\" cy=\"313.5\" fill=\"green\" r=\"-0.264\" stroke=\"green\" stroke-width=\"0\"/><circle cx=\"237.6\" cy=\"313.5\" fill=\"green\" r=\"-0.264\" stroke=\"green\" stroke-width=\"0\"/><text alignment-baseline=\"middle\" fill=\"white\" font-family=\"Times\" font-size=\"8.25\" text-anchor=\"middle\" x=\"224.4\" y=\"314.325\"/><rect fill=\"green\" height=\"9.9\" width=\"26.928\" x=\"237.336\" y=\"308.55\"/><circle cx=\"237.6\" cy=\"313.5\" fill=\"green\" r=\"-0.264\" stroke=\"green\" stroke-width=\"0\"/><circle cx=\"264.0\" cy=\"313.5\" fill=\"green\" r=\"-0.264\" stroke=\"green\" stroke-width=\"0\"/><text alignment-baseline=\"middle\" fill=\"white\" font-family=\"Times\" font-size=\"8.25\" text-anchor=\"middle\" x=\"250.8\" y=\"314.325\"/><line stroke=\"green\" stroke-width=\"1.32\" x1=\"264.0\" x2=\"264.0\" y1=\"313.335\" y2=\"330.165\"/><text alignment-baseline=\"middle\" fill=\"black\" font-family=\"Times\" font-size=\"8.25\" text-anchor=\"end\" x=\"205.92\" y=\"330.825\">29b</text><rect fill=\"green\" height=\"9.9\" width=\"26.928\" x=\"210.936\" y=\"325.05\"/><circle cx=\"211.2\" cy=\"330.0\" fill=\"green\" r=\"-0.264\" stroke=\"green\" stroke-width=\"0\"/><circle cx=\"237.6\" cy=\"330.0\" fill=\"green\" r=\"-0.264\" stroke=\"green\" stroke-width=\"0\"/><text alignment-baseline=\"middle\" fill=\"white\" font-family=\"Times\" font-size=\"8.25\" text-anchor=\"middle\" x=\"224.4\" y=\"330.825\"/><rect fill=\"green\" height=\"9.9\" width=\"26.928\" x=\"237.336\" y=\"325.05\"/><circle cx=\"237.6\" cy=\"330.0\" fill=\"green\" r=\"-0.264\" stroke=\"green\" stroke-width=\"0\"/><circle cx=\"264.0\" cy=\"330.0\" fill=\"green\" r=\"-0.264\" stroke=\"green\" stroke-width=\"0\"/><text alignment-baseline=\"middle\" fill=\"white\" font-family=\"Times\" font-size=\"8.25\" text-anchor=\"middle\" x=\"250.8\" y=\"330.825\"/><line stroke=\"green\" stroke-width=\"1.32\" x1=\"264.0\" x2=\"264.0\" y1=\"329.835\" y2=\"346.665\"/><text alignment-baseline=\"middle\" fill=\"black\" font-family=\"Times\" font-size=\"8.25\" text-anchor=\"end\" x=\"205.92\" y=\"347.325\">30b</text><rect fill=\"green\" height=\"9.9\" width=\"26.928\" x=\"210.936\" y=\"341.55\"/><circle cx=\"211.2\" cy=\"346.5\" fill=\"green\" r=\"-0.264\" stroke=\"green\" stroke-width=\"0\"/><circle cx=\"237.6\" cy=\"346.5\" fill=\"green\" r=\"-0.264\" stroke=\"green\" stroke-width=\"0\"/><text alignment-baseline=\"middle\" fill=\"white\" font-family=\"Times\" font-size=\"8.25\" text-anchor=\"middle\" x=\"224.4\" y=\"347.325\"/><rect fill=\"green\" height=\"9.9\" width=\"26.928\" x=\"237.336\" y=\"341.55\"/><circle cx=\"237.6\" cy=\"346.5\" fill=\"green\" r=\"-0.264\" stroke=\"green\" stroke-width=\"0\"/><circle cx=\"264.0\" cy=\"346.5\" fill=\"green\" r=\"-0.264\" stroke=\"green\" stroke-width=\"0\"/><text alignment-baseline=\"middle\" fill=\"white\" font-family=\"Times\" font-size=\"8.25\" text-anchor=\"middle\" x=\"250.8\" y=\"347.325\"/><line stroke=\"red\" stroke-width=\"1.32\" x1=\"237.6\" x2=\"237.6\" y1=\"346.335\" y2=\"363.165\"/><text alignment-baseline=\"middle\" fill=\"black\" font-family=\"Times\" font-size=\"8.25\" text-anchor=\"start\" x=\"295.68\" y=\"363.825\">31f</text><rect fill=\"red\" height=\"9.9\" width=\"26.928\" x=\"237.336\" y=\"358.05\"/><circle cx=\"237.6\" cy=\"363.0\" fill=\"red\" r=\"-0.264\" stroke=\"red\" stroke-width=\"0\"/><circle cx=\"264.0\" cy=\"363.0\" fill=\"red\" r=\"-0.264\" stroke=\"red\" stroke-width=\"0\"/><text alignment-baseline=\"middle\" fill=\"white\" font-family=\"Times\" font-size=\"8.25\" text-anchor=\"middle\" x=\"250.8\" y=\"363.825\"/><rect fill=\"red\" height=\"9.9\" width=\"26.928\" x=\"263.736\" y=\"358.05\"/><circle cx=\"264.0\" cy=\"363.0\" fill=\"red\" r=\"-0.264\" stroke=\"red\" stroke-width=\"0\"/><circle cx=\"290.4\" cy=\"363.0\" fill=\"red\" r=\"-0.264\" stroke=\"red\" stroke-width=\"0\"/><text alignment-baseline=\"middle\" fill=\"white\" font-family=\"Times\" font-size=\"8.25\" text-anchor=\"middle\" x=\"277.2\" y=\"363.825\"/><line stroke=\"red\" stroke-width=\"1.32\" x1=\"237.6\" x2=\"237.6\" y1=\"362.835\" y2=\"379.665\"/><text alignment-baseline=\"middle\" fill=\"black\" font-family=\"Times\" font-size=\"8.25\" text-anchor=\"start\" x=\"295.68\" y=\"380.325\">32f</text><rect fill=\"red\" height=\"9.9\" width=\"26.928\" x=\"237.336\" y=\"374.55\"/><circle cx=\"237.6\" cy=\"379.5\" fill=\"red\" r=\"-0.264\" stroke=\"red\" stroke-width=\"0\"/><circle cx=\"264.0\" cy=\"379.5\" fill=\"red\" r=\"-0.264\" stroke=\"red\" stroke-width=\"0\"/><text alignment-baseline=\"middle\" fill=\"white\" font-family=\"Times\" font-size=\"8.25\" text-anchor=\"middle\" x=\"250.8\" y=\"380.325\"/><rect fill=\"red\" height=\"9.9\" width=\"26.928\" x=\"263.736\" y=\"374.55\"/><circle cx=\"264.0\" cy=\"379.5\" fill=\"red\" r=\"-0.264\" stroke=\"red\" stroke-width=\"0\"/><circle cx=\"290.4\" cy=\"379.5\" fill=\"red\" r=\"-0.264\" stroke=\"red\" stroke-width=\"0\"/><text alignment-baseline=\"middle\" fill=\"white\" font-family=\"Times\" font-size=\"8.25\" text-anchor=\"middle\" x=\"277.2\" y=\"380.325\"/><line stroke=\"red\" stroke-width=\"1.32\" x1=\"237.6\" x2=\"237.6\" y1=\"379.335\" y2=\"396.165\"/><text alignment-baseline=\"middle\" fill=\"black\" font-family=\"Times\" font-size=\"8.25\" text-anchor=\"start\" x=\"295.68\" y=\"396.825\">33f</text><rect fill=\"red\" height=\"9.9\" width=\"26.928\" x=\"237.336\" y=\"391.05\"/><circle cx=\"237.6\" cy=\"396.0\" fill=\"red\" r=\"-0.264\" stroke=\"red\" stroke-width=\"0\"/><circle cx=\"264.0\" cy=\"396.0\" fill=\"red\" r=\"-0.264\" stroke=\"red\" stroke-width=\"0\"/><text alignment-baseline=\"middle\" fill=\"white\" font-family=\"Times\" font-size=\"8.25\" text-anchor=\"middle\" x=\"250.8\" y=\"396.825\"/><rect fill=\"red\" height=\"9.9\" width=\"26.928\" x=\"263.736\" y=\"391.05\"/><circle cx=\"264.0\" cy=\"396.0\" fill=\"red\" r=\"-0.264\" stroke=\"red\" stroke-width=\"0\"/><circle cx=\"290.4\" cy=\"396.0\" fill=\"red\" r=\"-0.264\" stroke=\"red\" stroke-width=\"0\"/><text alignment-baseline=\"middle\" fill=\"white\" font-family=\"Times\" font-size=\"8.25\" text-anchor=\"middle\" x=\"277.2\" y=\"396.825\"/><line stroke=\"green\" stroke-width=\"1.32\" x1=\"264.0\" x2=\"264.0\" y1=\"395.835\" y2=\"412.665\"/><text alignment-baseline=\"middle\" fill=\"black\" font-family=\"Times\" font-size=\"8.25\" text-anchor=\"end\" x=\"205.92\" y=\"413.325\">34b</text><rect fill=\"green\" height=\"9.9\" width=\"26.928\" x=\"210.936\" y=\"407.55\"/><circle cx=\"211.2\" cy=\"412.5\" fill=\"green\" r=\"-0.264\" stroke=\"green\" stroke-width=\"0\"/><circle cx=\"237.6\" cy=\"412.5\" fill=\"green\" r=\"-0.264\" stroke=\"green\" stroke-width=\"0\"/><text alignment-baseline=\"middle\" fill=\"white\" font-family=\"Times\" font-size=\"8.25\" text-anchor=\"middle\" x=\"224.4\" y=\"413.325\"/><rect fill=\"green\" height=\"9.9\" width=\"26.928\" x=\"237.336\" y=\"407.55\"/><circle cx=\"237.6\" cy=\"412.5\" fill=\"green\" r=\"-0.264\" stroke=\"green\" stroke-width=\"0\"/><circle cx=\"264.0\" cy=\"412.5\" fill=\"green\" r=\"-0.264\" stroke=\"green\" stroke-width=\"0\"/><text alignment-baseline=\"middle\" fill=\"white\" font-family=\"Times\" font-size=\"8.25\" text-anchor=\"middle\" x=\"250.8\" y=\"413.325\"/><line stroke=\"green\" stroke-width=\"1.32\" x1=\"264.0\" x2=\"264.0\" y1=\"412.335\" y2=\"429.165\"/><text alignment-baseline=\"middle\" fill=\"black\" font-family=\"Times\" font-size=\"8.25\" text-anchor=\"end\" x=\"205.92\" y=\"429.825\">35b</text><rect fill=\"green\" height=\"9.9\" width=\"26.928\" x=\"210.936\" y=\"424.05\"/><circle cx=\"211.2\" cy=\"429.0\" fill=\"green\" r=\"-0.264\" stroke=\"green\" stroke-width=\"0\"/><circle cx=\"237.6\" cy=\"429.0\" fill=\"green\" r=\"-0.264\" stroke=\"green\" stroke-width=\"0\"/><text alignment-baseline=\"middle\" fill=\"white\" font-family=\"Times\" font-size=\"8.25\" text-anchor=\"middle\" x=\"224.4\" y=\"429.825\"/><rect fill=\"green\" height=\"9.9\" width=\"26.928\" x=\"237.336\" y=\"424.05\"/><circle cx=\"237.6\" cy=\"429.0\" fill=\"green\" r=\"-0.264\" stroke=\"green\" stroke-width=\"0\"/><circle cx=\"264.0\" cy=\"429.0\" fill=\"green\" r=\"-0.264\" stroke=\"green\" stroke-width=\"0\"/><text alignment-baseline=\"middle\" fill=\"white\" font-family=\"Times\" font-size=\"8.25\" text-anchor=\"middle\" x=\"250.8\" y=\"429.825\"/><line stroke=\"red\" stroke-width=\"1.32\" x1=\"237.6\" x2=\"237.6\" y1=\"428.835\" y2=\"445.665\"/><text alignment-baseline=\"middle\" fill=\"black\" font-family=\"Times\" font-size=\"8.25\" text-anchor=\"start\" x=\"295.68\" y=\"446.325\">36f</text><rect fill=\"red\" height=\"9.9\" width=\"26.928\" x=\"237.336\" y=\"440.55\"/><circle cx=\"237.6\" cy=\"445.5\" fill=\"red\" r=\"-0.264\" stroke=\"red\" stroke-width=\"0\"/><circle cx=\"264.0\" cy=\"445.5\" fill=\"red\" r=\"-0.264\" stroke=\"red\" stroke-width=\"0\"/><text alignment-baseline=\"middle\" fill=\"white\" font-family=\"Times\" font-size=\"8.25\" text-anchor=\"middle\" x=\"250.8\" y=\"446.325\"/><rect fill=\"red\" height=\"9.9\" width=\"26.928\" x=\"263.736\" y=\"440.55\"/><circle cx=\"264.0\" cy=\"445.5\" fill=\"red\" r=\"-0.264\" stroke=\"red\" stroke-width=\"0\"/><circle cx=\"290.4\" cy=\"445.5\" fill=\"red\" r=\"-0.264\" stroke=\"red\" stroke-width=\"0\"/><text alignment-baseline=\"middle\" fill=\"white\" font-family=\"Times\" font-size=\"8.25\" text-anchor=\"middle\" x=\"277.2\" y=\"446.325\"/><line stroke=\"red\" stroke-width=\"1.32\" x1=\"237.6\" x2=\"237.6\" y1=\"445.335\" y2=\"462.165\"/><text alignment-baseline=\"middle\" fill=\"black\" font-family=\"Times\" font-size=\"8.25\" text-anchor=\"start\" x=\"295.68\" y=\"462.825\">37f</text><rect fill=\"red\" height=\"9.9\" width=\"26.928\" x=\"237.336\" y=\"457.05\"/><circle cx=\"237.6\" cy=\"462.0\" fill=\"red\" r=\"-0.264\" stroke=\"red\" stroke-width=\"0\"/><circle cx=\"264.0\" cy=\"462.0\" fill=\"red\" r=\"-0.264\" stroke=\"red\" stroke-width=\"0\"/><text alignment-baseline=\"middle\" fill=\"white\" font-family=\"Times\" font-size=\"8.25\" text-anchor=\"middle\" x=\"250.8\" y=\"462.825\"/><rect fill=\"red\" height=\"9.9\" width=\"26.928\" x=\"263.736\" y=\"457.05\"/><circle cx=\"264.0\" cy=\"462.0\" fill=\"red\" r=\"-0.264\" stroke=\"red\" stroke-width=\"0\"/><circle cx=\"290.4\" cy=\"462.0\" fill=\"red\" r=\"-0.264\" stroke=\"red\" stroke-width=\"0\"/><text alignment-baseline=\"middle\" fill=\"white\" font-family=\"Times\" font-size=\"8.25\" text-anchor=\"middle\" x=\"277.2\" y=\"462.825\"/><line stroke=\"red\" stroke-width=\"1.32\" x1=\"237.6\" x2=\"237.6\" y1=\"461.835\" y2=\"478.665\"/><text alignment-baseline=\"middle\" fill=\"black\" font-family=\"Times\" font-size=\"8.25\" text-anchor=\"start\" x=\"295.68\" y=\"479.325\">38f</text><rect fill=\"red\" height=\"9.9\" width=\"26.928\" x=\"237.336\" y=\"473.55\"/><circle cx=\"237.6\" cy=\"478.5\" fill=\"red\" r=\"-0.264\" stroke=\"red\" stroke-width=\"0\"/><circle cx=\"264.0\" cy=\"478.5\" fill=\"red\" r=\"-0.264\" stroke=\"red\" stroke-width=\"0\"/><text alignment-baseline=\"middle\" fill=\"white\" font-family=\"Times\" font-size=\"8.25\" text-anchor=\"middle\" x=\"250.8\" y=\"479.325\"/><rect fill=\"red\" height=\"9.9\" width=\"26.928\" x=\"263.736\" y=\"473.55\"/><circle cx=\"264.0\" cy=\"478.5\" fill=\"red\" r=\"-0.264\" stroke=\"red\" stroke-width=\"0\"/><circle cx=\"290.4\" cy=\"478.5\" fill=\"red\" r=\"-0.264\" stroke=\"red\" stroke-width=\"0\"/><text alignment-baseline=\"middle\" fill=\"white\" font-family=\"Times\" font-size=\"8.25\" text-anchor=\"middle\" x=\"277.2\" y=\"479.325\"/><line stroke=\"red\" stroke-width=\"1.32\" x1=\"237.6\" x2=\"237.6\" y1=\"478.335\" y2=\"495.165\"/><text alignment-baseline=\"middle\" fill=\"black\" font-family=\"Times\" font-size=\"8.25\" text-anchor=\"start\" x=\"295.68\" y=\"495.825\">39f</text><rect fill=\"red\" height=\"9.9\" width=\"26.928\" x=\"237.336\" y=\"490.05\"/><circle cx=\"237.6\" cy=\"495.0\" fill=\"red\" r=\"-0.264\" stroke=\"red\" stroke-width=\"0\"/><circle cx=\"264.0\" cy=\"495.0\" fill=\"red\" r=\"-0.264\" stroke=\"red\" stroke-width=\"0\"/><text alignment-baseline=\"middle\" fill=\"white\" font-family=\"Times\" font-size=\"8.25\" text-anchor=\"middle\" x=\"250.8\" y=\"495.825\"/><rect fill=\"red\" height=\"9.9\" width=\"26.928\" x=\"263.736\" y=\"490.05\"/><circle cx=\"264.0\" cy=\"495.0\" fill=\"red\" r=\"-0.264\" stroke=\"red\" stroke-width=\"0\"/><circle cx=\"290.4\" cy=\"495.0\" fill=\"red\" r=\"-0.264\" stroke=\"red\" stroke-width=\"0\"/><text alignment-baseline=\"middle\" fill=\"white\" font-family=\"Times\" font-size=\"8.25\" text-anchor=\"middle\" x=\"277.2\" y=\"495.825\"/><line stroke=\"green\" stroke-width=\"1.32\" x1=\"264.0\" x2=\"264.0\" y1=\"494.835\" y2=\"511.665\"/><text alignment-baseline=\"middle\" fill=\"black\" font-family=\"Times\" font-size=\"8.25\" text-anchor=\"end\" x=\"205.92\" y=\"512.325\">40b</text><rect fill=\"green\" height=\"9.9\" width=\"26.928\" x=\"210.936\" y=\"506.55\"/><circle cx=\"211.2\" cy=\"511.5\" fill=\"green\" r=\"-0.264\" stroke=\"green\" stroke-width=\"0\"/><circle cx=\"237.6\" cy=\"511.5\" fill=\"green\" r=\"-0.264\" stroke=\"green\" stroke-width=\"0\"/><text alignment-baseline=\"middle\" fill=\"white\" font-family=\"Times\" font-size=\"8.25\" text-anchor=\"middle\" x=\"224.4\" y=\"512.325\"/><rect fill=\"green\" height=\"9.9\" width=\"26.928\" x=\"237.336\" y=\"506.55\"/><circle cx=\"237.6\" cy=\"511.5\" fill=\"green\" r=\"-0.264\" stroke=\"green\" stroke-width=\"0\"/><circle cx=\"264.0\" cy=\"511.5\" fill=\"green\" r=\"-0.264\" stroke=\"green\" stroke-width=\"0\"/><text alignment-baseline=\"middle\" fill=\"white\" font-family=\"Times\" font-size=\"8.25\" text-anchor=\"middle\" x=\"250.8\" y=\"512.325\"/><line stroke=\"green\" stroke-width=\"1.32\" x1=\"264.0\" x2=\"264.0\" y1=\"511.335\" y2=\"528.165\"/><text alignment-baseline=\"middle\" fill=\"black\" font-family=\"Times\" font-size=\"8.25\" text-anchor=\"end\" x=\"205.92\" y=\"528.825\">41b</text><rect fill=\"green\" height=\"9.9\" width=\"26.928\" x=\"210.936\" y=\"523.05\"/><circle cx=\"211.2\" cy=\"528.0\" fill=\"green\" r=\"-0.264\" stroke=\"green\" stroke-width=\"0\"/><circle cx=\"237.6\" cy=\"528.0\" fill=\"green\" r=\"-0.264\" stroke=\"green\" stroke-width=\"0\"/><text alignment-baseline=\"middle\" fill=\"white\" font-family=\"Times\" font-size=\"8.25\" text-anchor=\"middle\" x=\"224.4\" y=\"528.825\"/><rect fill=\"green\" height=\"9.9\" width=\"26.928\" x=\"237.336\" y=\"523.05\"/><circle cx=\"237.6\" cy=\"528.0\" fill=\"green\" r=\"-0.264\" stroke=\"green\" stroke-width=\"0\"/><circle cx=\"264.0\" cy=\"528.0\" fill=\"green\" r=\"-0.264\" stroke=\"green\" stroke-width=\"0\"/><text alignment-baseline=\"middle\" fill=\"white\" font-family=\"Times\" font-size=\"8.25\" text-anchor=\"middle\" x=\"250.8\" y=\"528.825\"/><line stroke=\"red\" stroke-width=\"1.32\" x1=\"237.6\" x2=\"237.6\" y1=\"527.835\" y2=\"544.665\"/><text alignment-baseline=\"middle\" fill=\"black\" font-family=\"Times\" font-size=\"8.25\" text-anchor=\"start\" x=\"295.68\" y=\"545.325\">42f</text><rect fill=\"red\" height=\"9.9\" width=\"26.928\" x=\"237.336\" y=\"539.55\"/><circle cx=\"237.6\" cy=\"544.5\" fill=\"red\" r=\"-0.264\" stroke=\"red\" stroke-width=\"0\"/><circle cx=\"264.0\" cy=\"544.5\" fill=\"red\" r=\"-0.264\" stroke=\"red\" stroke-width=\"0\"/><text alignment-baseline=\"middle\" fill=\"white\" font-family=\"Times\" font-size=\"8.25\" text-anchor=\"middle\" x=\"250.8\" y=\"545.325\"/><rect fill=\"red\" height=\"9.9\" width=\"26.928\" x=\"263.736\" y=\"539.55\"/><circle cx=\"264.0\" cy=\"544.5\" fill=\"red\" r=\"-0.264\" stroke=\"red\" stroke-width=\"0\"/><circle cx=\"290.4\" cy=\"544.5\" fill=\"red\" r=\"-0.264\" stroke=\"red\" stroke-width=\"0\"/><text alignment-baseline=\"middle\" fill=\"white\" font-family=\"Times\" font-size=\"8.25\" text-anchor=\"middle\" x=\"277.2\" y=\"545.325\"/><line stroke=\"green\" stroke-width=\"1.32\" x1=\"264.0\" x2=\"264.0\" y1=\"544.335\" y2=\"561.165\"/><text alignment-baseline=\"middle\" fill=\"black\" font-family=\"Times\" font-size=\"8.25\" text-anchor=\"end\" x=\"205.92\" y=\"561.825\">43b</text><rect fill=\"green\" height=\"9.9\" width=\"26.928\" x=\"210.936\" y=\"556.05\"/><circle cx=\"211.2\" cy=\"561.0\" fill=\"green\" r=\"-0.264\" stroke=\"green\" stroke-width=\"0\"/><circle cx=\"237.6\" cy=\"561.0\" fill=\"green\" r=\"-0.264\" stroke=\"green\" stroke-width=\"0\"/><text alignment-baseline=\"middle\" fill=\"white\" font-family=\"Times\" font-size=\"8.25\" text-anchor=\"middle\" x=\"224.4\" y=\"561.825\"/><rect fill=\"green\" height=\"9.9\" width=\"26.928\" x=\"237.336\" y=\"556.05\"/><circle cx=\"237.6\" cy=\"561.0\" fill=\"green\" r=\"-0.264\" stroke=\"green\" stroke-width=\"0\"/><circle cx=\"264.0\" cy=\"561.0\" fill=\"green\" r=\"-0.264\" stroke=\"green\" stroke-width=\"0\"/><text alignment-baseline=\"middle\" fill=\"white\" font-family=\"Times\" font-size=\"8.25\" text-anchor=\"middle\" x=\"250.8\" y=\"561.825\"/><line stroke=\"green\" stroke-width=\"1.32\" x1=\"264.0\" x2=\"264.0\" y1=\"560.835\" y2=\"577.665\"/><text alignment-baseline=\"middle\" fill=\"black\" font-family=\"Times\" font-size=\"8.25\" text-anchor=\"end\" x=\"205.92\" y=\"578.325\">44b</text><rect fill=\"green\" height=\"9.9\" width=\"26.928\" x=\"210.936\" y=\"572.55\"/><circle cx=\"211.2\" cy=\"577.5\" fill=\"green\" r=\"-0.264\" stroke=\"green\" stroke-width=\"0\"/><circle cx=\"237.6\" cy=\"577.5\" fill=\"green\" r=\"-0.264\" stroke=\"green\" stroke-width=\"0\"/><text alignment-baseline=\"middle\" fill=\"white\" font-family=\"Times\" font-size=\"8.25\" text-anchor=\"middle\" x=\"224.4\" y=\"578.325\"/><rect fill=\"green\" height=\"9.9\" width=\"26.928\" x=\"237.336\" y=\"572.55\"/><circle cx=\"237.6\" cy=\"577.5\" fill=\"green\" r=\"-0.264\" stroke=\"green\" stroke-width=\"0\"/><circle cx=\"264.0\" cy=\"577.5\" fill=\"green\" r=\"-0.264\" stroke=\"green\" stroke-width=\"0\"/><text alignment-baseline=\"middle\" fill=\"white\" font-family=\"Times\" font-size=\"8.25\" text-anchor=\"middle\" x=\"250.8\" y=\"578.325\"/><line stroke=\"red\" stroke-width=\"1.32\" x1=\"237.6\" x2=\"237.6\" y1=\"577.335\" y2=\"594.165\"/><text alignment-baseline=\"middle\" fill=\"black\" font-family=\"Times\" font-size=\"8.25\" text-anchor=\"start\" x=\"295.68\" y=\"594.825\">45f</text><rect fill=\"red\" height=\"9.9\" width=\"26.928\" x=\"237.336\" y=\"589.05\"/><circle cx=\"237.6\" cy=\"594.0\" fill=\"red\" r=\"-0.264\" stroke=\"red\" stroke-width=\"0\"/><circle cx=\"264.0\" cy=\"594.0\" fill=\"red\" r=\"-0.264\" stroke=\"red\" stroke-width=\"0\"/><text alignment-baseline=\"middle\" fill=\"white\" font-family=\"Times\" font-size=\"8.25\" text-anchor=\"middle\" x=\"250.8\" y=\"594.825\"/><rect fill=\"red\" height=\"9.9\" width=\"26.928\" x=\"263.736\" y=\"589.05\"/><circle cx=\"264.0\" cy=\"594.0\" fill=\"red\" r=\"-0.264\" stroke=\"red\" stroke-width=\"0\"/><circle cx=\"290.4\" cy=\"594.0\" fill=\"red\" r=\"-0.264\" stroke=\"red\" stroke-width=\"0\"/><text alignment-baseline=\"middle\" fill=\"white\" font-family=\"Times\" font-size=\"8.25\" text-anchor=\"middle\" x=\"277.2\" y=\"594.825\"/><line stroke=\"green\" stroke-width=\"1.32\" x1=\"264.0\" x2=\"264.0\" y1=\"593.835\" y2=\"610.665\"/><text alignment-baseline=\"middle\" fill=\"black\" font-family=\"Times\" font-size=\"8.25\" text-anchor=\"end\" x=\"205.92\" y=\"611.325\">46b</text><rect fill=\"green\" height=\"9.9\" width=\"26.928\" x=\"210.936\" y=\"605.55\"/><circle cx=\"211.2\" cy=\"610.5\" fill=\"green\" r=\"-0.264\" stroke=\"green\" stroke-width=\"0\"/><circle cx=\"237.6\" cy=\"610.5\" fill=\"green\" r=\"-0.264\" stroke=\"green\" stroke-width=\"0\"/><text alignment-baseline=\"middle\" fill=\"white\" font-family=\"Times\" font-size=\"8.25\" text-anchor=\"middle\" x=\"224.4\" y=\"611.325\"/><rect fill=\"green\" height=\"9.9\" width=\"26.928\" x=\"237.336\" y=\"605.55\"/><circle cx=\"237.6\" cy=\"610.5\" fill=\"green\" r=\"-0.264\" stroke=\"green\" stroke-width=\"0\"/><circle cx=\"264.0\" cy=\"610.5\" fill=\"green\" r=\"-0.264\" stroke=\"green\" stroke-width=\"0\"/><text alignment-baseline=\"middle\" fill=\"white\" font-family=\"Times\" font-size=\"8.25\" text-anchor=\"middle\" x=\"250.8\" y=\"611.325\"/><line stroke=\"green\" stroke-width=\"1.32\" x1=\"264.0\" x2=\"264.0\" y1=\"610.335\" y2=\"627.165\"/><text alignment-baseline=\"middle\" fill=\"black\" font-family=\"Times\" font-size=\"8.25\" text-anchor=\"end\" x=\"205.92\" y=\"627.825\">47b</text><rect fill=\"green\" height=\"9.9\" width=\"26.928\" x=\"210.936\" y=\"622.05\"/><circle cx=\"211.2\" cy=\"627.0\" fill=\"green\" r=\"-0.264\" stroke=\"green\" stroke-width=\"0\"/><circle cx=\"237.6\" cy=\"627.0\" fill=\"green\" r=\"-0.264\" stroke=\"green\" stroke-width=\"0\"/><text alignment-baseline=\"middle\" fill=\"white\" font-family=\"Times\" font-size=\"8.25\" text-anchor=\"middle\" x=\"224.4\" y=\"627.825\"/><rect fill=\"green\" height=\"9.9\" width=\"26.928\" x=\"237.336\" y=\"622.05\"/><circle cx=\"237.6\" cy=\"627.0\" fill=\"green\" r=\"-0.264\" stroke=\"green\" stroke-width=\"0\"/><circle cx=\"264.0\" cy=\"627.0\" fill=\"green\" r=\"-0.264\" stroke=\"green\" stroke-width=\"0\"/><text alignment-baseline=\"middle\" fill=\"white\" font-family=\"Times\" font-size=\"8.25\" text-anchor=\"middle\" x=\"250.8\" y=\"627.825\"/><line stroke=\"green\" stroke-width=\"1.32\" x1=\"264.0\" x2=\"264.0\" y1=\"626.835\" y2=\"643.665\"/><text alignment-baseline=\"middle\" fill=\"black\" font-family=\"Times\" font-size=\"8.25\" text-anchor=\"end\" x=\"205.92\" y=\"644.325\">48b</text><rect fill=\"green\" height=\"9.9\" width=\"26.928\" x=\"210.936\" y=\"638.55\"/><circle cx=\"211.2\" cy=\"643.5\" fill=\"green\" r=\"-0.264\" stroke=\"green\" stroke-width=\"0\"/><circle cx=\"237.6\" cy=\"643.5\" fill=\"green\" r=\"-0.264\" stroke=\"green\" stroke-width=\"0\"/><text alignment-baseline=\"middle\" fill=\"white\" font-family=\"Times\" font-size=\"8.25\" text-anchor=\"middle\" x=\"224.4\" y=\"644.325\"/><rect fill=\"green\" height=\"9.9\" width=\"26.928\" x=\"237.336\" y=\"638.55\"/><circle cx=\"237.6\" cy=\"643.5\" fill=\"green\" r=\"-0.264\" stroke=\"green\" stroke-width=\"0\"/><circle cx=\"264.0\" cy=\"643.5\" fill=\"green\" r=\"-0.264\" stroke=\"green\" stroke-width=\"0\"/><text alignment-baseline=\"middle\" fill=\"white\" font-family=\"Times\" font-size=\"8.25\" text-anchor=\"middle\" x=\"250.8\" y=\"644.325\"/><line stroke=\"green\" stroke-width=\"1.32\" x1=\"264.0\" x2=\"264.0\" y1=\"643.335\" y2=\"660.165\"/><text alignment-baseline=\"middle\" fill=\"black\" font-family=\"Times\" font-size=\"8.25\" text-anchor=\"end\" x=\"205.92\" y=\"660.825\">49b</text><rect fill=\"green\" height=\"9.9\" width=\"26.928\" x=\"210.936\" y=\"655.05\"/><circle cx=\"211.2\" cy=\"660.0\" fill=\"green\" r=\"-0.264\" stroke=\"green\" stroke-width=\"0\"/><circle cx=\"237.6\" cy=\"660.0\" fill=\"green\" r=\"-0.264\" stroke=\"green\" stroke-width=\"0\"/><text alignment-baseline=\"middle\" fill=\"white\" font-family=\"Times\" font-size=\"8.25\" text-anchor=\"middle\" x=\"224.4\" y=\"660.825\"/><rect fill=\"green\" height=\"9.9\" width=\"26.928\" x=\"237.336\" y=\"655.05\"/><circle cx=\"237.6\" cy=\"660.0\" fill=\"green\" r=\"-0.264\" stroke=\"green\" stroke-width=\"0\"/><circle cx=\"264.0\" cy=\"660.0\" fill=\"green\" r=\"-0.264\" stroke=\"green\" stroke-width=\"0\"/><text alignment-baseline=\"middle\" fill=\"white\" font-family=\"Times\" font-size=\"8.25\" text-anchor=\"middle\" x=\"250.8\" y=\"660.825\"/><line stroke=\"red\" stroke-width=\"1.32\" x1=\"237.6\" x2=\"237.6\" y1=\"659.835\" y2=\"676.665\"/><text alignment-baseline=\"middle\" fill=\"black\" font-family=\"Times\" font-size=\"8.25\" text-anchor=\"start\" x=\"295.68\" y=\"677.325\">50f</text><rect fill=\"red\" height=\"9.9\" width=\"26.928\" x=\"237.336\" y=\"671.55\"/><circle cx=\"237.6\" cy=\"676.5\" fill=\"red\" r=\"-0.264\" stroke=\"red\" stroke-width=\"0\"/><circle cx=\"264.0\" cy=\"676.5\" fill=\"red\" r=\"-0.264\" stroke=\"red\" stroke-width=\"0\"/><text alignment-baseline=\"middle\" fill=\"white\" font-family=\"Times\" font-size=\"8.25\" text-anchor=\"middle\" x=\"250.8\" y=\"677.325\"/><rect fill=\"red\" height=\"9.9\" width=\"26.928\" x=\"263.736\" y=\"671.55\"/><circle cx=\"264.0\" cy=\"676.5\" fill=\"red\" r=\"-0.264\" stroke=\"red\" stroke-width=\"0\"/><circle cx=\"290.4\" cy=\"676.5\" fill=\"red\" r=\"-0.264\" stroke=\"red\" stroke-width=\"0\"/><text alignment-baseline=\"middle\" fill=\"white\" font-family=\"Times\" font-size=\"8.25\" text-anchor=\"middle\" x=\"277.2\" y=\"677.325\"/><line stroke=\"green\" stroke-width=\"1.32\" x1=\"264.0\" x2=\"264.0\" y1=\"676.335\" y2=\"693.165\"/><text alignment-baseline=\"middle\" fill=\"black\" font-family=\"Times\" font-size=\"8.25\" text-anchor=\"end\" x=\"205.92\" y=\"693.825\">51b</text><rect fill=\"green\" height=\"9.9\" width=\"26.928\" x=\"210.936\" y=\"688.05\"/><circle cx=\"211.2\" cy=\"693.0\" fill=\"green\" r=\"-0.264\" stroke=\"green\" stroke-width=\"0\"/><circle cx=\"237.6\" cy=\"693.0\" fill=\"green\" r=\"-0.264\" stroke=\"green\" stroke-width=\"0\"/><text alignment-baseline=\"middle\" fill=\"white\" font-family=\"Times\" font-size=\"8.25\" text-anchor=\"middle\" x=\"224.4\" y=\"693.825\"/><rect fill=\"green\" height=\"9.9\" width=\"26.928\" x=\"237.336\" y=\"688.05\"/><circle cx=\"237.6\" cy=\"693.0\" fill=\"green\" r=\"-0.264\" stroke=\"green\" stroke-width=\"0\"/><circle cx=\"264.0\" cy=\"693.0\" fill=\"green\" r=\"-0.264\" stroke=\"green\" stroke-width=\"0\"/><text alignment-baseline=\"middle\" fill=\"white\" font-family=\"Times\" font-size=\"8.25\" text-anchor=\"middle\" x=\"250.8\" y=\"693.825\"/><line stroke=\"green\" stroke-width=\"1.32\" x1=\"264.0\" x2=\"264.0\" y1=\"692.835\" y2=\"709.665\"/><text alignment-baseline=\"middle\" fill=\"black\" font-family=\"Times\" font-size=\"8.25\" text-anchor=\"end\" x=\"205.92\" y=\"710.325\">52b</text><rect fill=\"green\" height=\"9.9\" width=\"26.928\" x=\"210.936\" y=\"704.55\"/><circle cx=\"211.2\" cy=\"709.5\" fill=\"green\" r=\"-0.264\" stroke=\"green\" stroke-width=\"0\"/><circle cx=\"237.6\" cy=\"709.5\" fill=\"green\" r=\"-0.264\" stroke=\"green\" stroke-width=\"0\"/><text alignment-baseline=\"middle\" fill=\"white\" font-family=\"Times\" font-size=\"8.25\" text-anchor=\"middle\" x=\"224.4\" y=\"710.325\"/><rect fill=\"green\" height=\"9.9\" width=\"26.928\" x=\"237.336\" y=\"704.55\"/><circle cx=\"237.6\" cy=\"709.5\" fill=\"green\" r=\"-0.264\" stroke=\"green\" stroke-width=\"0\"/><circle cx=\"264.0\" cy=\"709.5\" fill=\"green\" r=\"-0.264\" stroke=\"green\" stroke-width=\"0\"/><text alignment-baseline=\"middle\" fill=\"white\" font-family=\"Times\" font-size=\"8.25\" text-anchor=\"middle\" x=\"250.8\" y=\"710.325\"/><line stroke=\"red\" stroke-width=\"1.32\" x1=\"237.6\" x2=\"237.6\" y1=\"709.335\" y2=\"726.165\"/><text alignment-baseline=\"middle\" fill=\"black\" font-family=\"Times\" font-size=\"8.25\" text-anchor=\"start\" x=\"295.68\" y=\"726.825\">53f</text><rect fill=\"red\" height=\"9.9\" width=\"26.928\" x=\"237.336\" y=\"721.05\"/><circle cx=\"237.6\" cy=\"726.0\" fill=\"red\" r=\"-0.264\" stroke=\"red\" stroke-width=\"0\"/><circle cx=\"264.0\" cy=\"726.0\" fill=\"red\" r=\"-0.264\" stroke=\"red\" stroke-width=\"0\"/><text alignment-baseline=\"middle\" fill=\"white\" font-family=\"Times\" font-size=\"8.25\" text-anchor=\"middle\" x=\"250.8\" y=\"726.825\"/><rect fill=\"red\" height=\"9.9\" width=\"26.928\" x=\"263.736\" y=\"721.05\"/><circle cx=\"264.0\" cy=\"726.0\" fill=\"red\" r=\"-0.264\" stroke=\"red\" stroke-width=\"0\"/><circle cx=\"290.4\" cy=\"726.0\" fill=\"red\" r=\"-0.264\" stroke=\"red\" stroke-width=\"0\"/><text alignment-baseline=\"middle\" fill=\"white\" font-family=\"Times\" font-size=\"8.25\" text-anchor=\"middle\" x=\"277.2\" y=\"726.825\"/><line stroke=\"green\" stroke-width=\"1.32\" x1=\"264.0\" x2=\"264.0\" y1=\"725.835\" y2=\"742.665\"/><text alignment-baseline=\"middle\" fill=\"black\" font-family=\"Times\" font-size=\"8.25\" text-anchor=\"end\" x=\"205.92\" y=\"743.325\">54b</text><rect fill=\"green\" height=\"9.9\" width=\"26.928\" x=\"210.936\" y=\"737.55\"/><circle cx=\"211.2\" cy=\"742.5\" fill=\"green\" r=\"-0.264\" stroke=\"green\" stroke-width=\"0\"/><circle cx=\"237.6\" cy=\"742.5\" fill=\"green\" r=\"-0.264\" stroke=\"green\" stroke-width=\"0\"/><text alignment-baseline=\"middle\" fill=\"white\" font-family=\"Times\" font-size=\"8.25\" text-anchor=\"middle\" x=\"224.4\" y=\"743.325\"/><rect fill=\"green\" height=\"9.9\" width=\"26.928\" x=\"237.336\" y=\"737.55\"/><circle cx=\"237.6\" cy=\"742.5\" fill=\"green\" r=\"-0.264\" stroke=\"green\" stroke-width=\"0\"/><circle cx=\"264.0\" cy=\"742.5\" fill=\"green\" r=\"-0.264\" stroke=\"green\" stroke-width=\"0\"/><text alignment-baseline=\"middle\" fill=\"white\" font-family=\"Times\" font-size=\"8.25\" text-anchor=\"middle\" x=\"250.8\" y=\"743.325\"/><line stroke=\"green\" stroke-width=\"1.32\" x1=\"264.0\" x2=\"264.0\" y1=\"742.335\" y2=\"759.165\"/><text alignment-baseline=\"middle\" fill=\"black\" font-family=\"Times\" font-size=\"8.25\" text-anchor=\"end\" x=\"205.92\" y=\"759.825\">55b</text><rect fill=\"green\" height=\"9.9\" width=\"26.928\" x=\"210.936\" y=\"754.05\"/><circle cx=\"211.2\" cy=\"759.0\" fill=\"green\" r=\"-0.264\" stroke=\"green\" stroke-width=\"0\"/><circle cx=\"237.6\" cy=\"759.0\" fill=\"green\" r=\"-0.264\" stroke=\"green\" stroke-width=\"0\"/><text alignment-baseline=\"middle\" fill=\"white\" font-family=\"Times\" font-size=\"8.25\" text-anchor=\"middle\" x=\"224.4\" y=\"759.825\"/><rect fill=\"green\" height=\"9.9\" width=\"26.928\" x=\"237.336\" y=\"754.05\"/><circle cx=\"237.6\" cy=\"759.0\" fill=\"green\" r=\"-0.264\" stroke=\"green\" stroke-width=\"0\"/><circle cx=\"264.0\" cy=\"759.0\" fill=\"green\" r=\"-0.264\" stroke=\"green\" stroke-width=\"0\"/><text alignment-baseline=\"middle\" fill=\"white\" font-family=\"Times\" font-size=\"8.25\" text-anchor=\"middle\" x=\"250.8\" y=\"759.825\"/><line stroke=\"red\" stroke-width=\"1.32\" x1=\"237.6\" x2=\"237.6\" y1=\"758.835\" y2=\"775.665\"/><text alignment-baseline=\"middle\" fill=\"black\" font-family=\"Times\" font-size=\"8.25\" text-anchor=\"start\" x=\"295.68\" y=\"776.325\">56f</text><rect fill=\"red\" height=\"9.9\" width=\"26.928\" x=\"237.336\" y=\"770.55\"/><circle cx=\"237.6\" cy=\"775.5\" fill=\"red\" r=\"-0.264\" stroke=\"red\" stroke-width=\"0\"/><circle cx=\"264.0\" cy=\"775.5\" fill=\"red\" r=\"-0.264\" stroke=\"red\" stroke-width=\"0\"/><text alignment-baseline=\"middle\" fill=\"white\" font-family=\"Times\" font-size=\"8.25\" text-anchor=\"middle\" x=\"250.8\" y=\"776.325\"/><rect fill=\"red\" height=\"9.9\" width=\"26.928\" x=\"263.736\" y=\"770.55\"/><circle cx=\"264.0\" cy=\"775.5\" fill=\"red\" r=\"-0.264\" stroke=\"red\" stroke-width=\"0\"/><circle cx=\"290.4\" cy=\"775.5\" fill=\"red\" r=\"-0.264\" stroke=\"red\" stroke-width=\"0\"/><text alignment-baseline=\"middle\" fill=\"white\" font-family=\"Times\" font-size=\"8.25\" text-anchor=\"middle\" x=\"277.2\" y=\"776.325\"/><line stroke=\"red\" stroke-width=\"1.32\" x1=\"237.6\" x2=\"237.6\" y1=\"775.335\" y2=\"792.165\"/><text alignment-baseline=\"middle\" fill=\"black\" font-family=\"Times\" font-size=\"8.25\" text-anchor=\"start\" x=\"295.68\" y=\"792.825\">57f</text><rect fill=\"red\" height=\"9.9\" width=\"26.928\" x=\"237.336\" y=\"787.05\"/><circle cx=\"237.6\" cy=\"792.0\" fill=\"red\" r=\"-0.264\" stroke=\"red\" stroke-width=\"0\"/><circle cx=\"264.0\" cy=\"792.0\" fill=\"red\" r=\"-0.264\" stroke=\"red\" stroke-width=\"0\"/><text alignment-baseline=\"middle\" fill=\"white\" font-family=\"Times\" font-size=\"8.25\" text-anchor=\"middle\" x=\"250.8\" y=\"792.825\"/><rect fill=\"red\" height=\"9.9\" width=\"26.928\" x=\"263.736\" y=\"787.05\"/><circle cx=\"264.0\" cy=\"792.0\" fill=\"red\" r=\"-0.264\" stroke=\"red\" stroke-width=\"0\"/><circle cx=\"290.4\" cy=\"792.0\" fill=\"red\" r=\"-0.264\" stroke=\"red\" stroke-width=\"0\"/><text alignment-baseline=\"middle\" fill=\"white\" font-family=\"Times\" font-size=\"8.25\" text-anchor=\"middle\" x=\"277.2\" y=\"792.825\"/><line stroke=\"green\" stroke-width=\"1.32\" x1=\"264.0\" x2=\"264.0\" y1=\"791.835\" y2=\"808.665\"/><text alignment-baseline=\"middle\" fill=\"black\" font-family=\"Times\" font-size=\"8.25\" text-anchor=\"end\" x=\"205.92\" y=\"809.325\">58b</text><rect fill=\"green\" height=\"9.9\" width=\"26.928\" x=\"210.936\" y=\"803.55\"/><circle cx=\"211.2\" cy=\"808.5\" fill=\"green\" r=\"-0.264\" stroke=\"green\" stroke-width=\"0\"/><circle cx=\"237.6\" cy=\"808.5\" fill=\"green\" r=\"-0.264\" stroke=\"green\" stroke-width=\"0\"/><text alignment-baseline=\"middle\" fill=\"white\" font-family=\"Times\" font-size=\"8.25\" text-anchor=\"middle\" x=\"224.4\" y=\"809.325\"/><rect fill=\"green\" height=\"9.9\" width=\"26.928\" x=\"237.336\" y=\"803.55\"/><circle cx=\"237.6\" cy=\"808.5\" fill=\"green\" r=\"-0.264\" stroke=\"green\" stroke-width=\"0\"/><circle cx=\"264.0\" cy=\"808.5\" fill=\"green\" r=\"-0.264\" stroke=\"green\" stroke-width=\"0\"/><text alignment-baseline=\"middle\" fill=\"white\" font-family=\"Times\" font-size=\"8.25\" text-anchor=\"middle\" x=\"250.8\" y=\"809.325\"/><line stroke=\"red\" stroke-width=\"1.32\" x1=\"237.6\" x2=\"237.6\" y1=\"808.335\" y2=\"825.165\"/><text alignment-baseline=\"middle\" fill=\"black\" font-family=\"Times\" font-size=\"8.25\" text-anchor=\"start\" x=\"295.68\" y=\"825.825\">59f</text><rect fill=\"red\" height=\"9.9\" width=\"26.928\" x=\"237.336\" y=\"820.05\"/><circle cx=\"237.6\" cy=\"825.0\" fill=\"red\" r=\"-0.264\" stroke=\"red\" stroke-width=\"0\"/><circle cx=\"264.0\" cy=\"825.0\" fill=\"red\" r=\"-0.264\" stroke=\"red\" stroke-width=\"0\"/><text alignment-baseline=\"middle\" fill=\"white\" font-family=\"Times\" font-size=\"8.25\" text-anchor=\"middle\" x=\"250.8\" y=\"825.825\"/><rect fill=\"red\" height=\"9.9\" width=\"26.928\" x=\"263.736\" y=\"820.05\"/><circle cx=\"264.0\" cy=\"825.0\" fill=\"red\" r=\"-0.264\" stroke=\"red\" stroke-width=\"0\"/><circle cx=\"290.4\" cy=\"825.0\" fill=\"red\" r=\"-0.264\" stroke=\"red\" stroke-width=\"0\"/><text alignment-baseline=\"middle\" fill=\"white\" font-family=\"Times\" font-size=\"8.25\" text-anchor=\"middle\" x=\"277.2\" y=\"825.825\"/><text alignment-baseline=\"middle\" fill=\"black\" font-family=\"Times\" font-size=\"8.25\" text-anchor=\"end\" x=\"113.52\" y=\"17.325\">14</text><text alignment-baseline=\"middle\" fill=\"black\" font-family=\"Times\" font-size=\"8.25\" text-anchor=\"end\" x=\"34.32\" y=\"17.325\">1</text><text alignment-baseline=\"middle\" fill=\"black\" font-family=\"Times\" font-size=\"8.25\" text-anchor=\"end\" x=\"113.52\" y=\"33.825\">16</text><text alignment-baseline=\"middle\" fill=\"black\" font-family=\"Times\" font-size=\"8.25\" text-anchor=\"end\" x=\"34.32\" y=\"33.825\">2</text><text alignment-baseline=\"middle\" fill=\"black\" font-family=\"Times\" font-size=\"8.25\" text-anchor=\"end\" x=\"113.52\" y=\"50.325\">18</text><text alignment-baseline=\"middle\" fill=\"black\" font-family=\"Times\" font-size=\"8.25\" text-anchor=\"end\" x=\"34.32\" y=\"50.325\">3</text><text alignment-baseline=\"middle\" fill=\"black\" font-family=\"Times\" font-size=\"8.25\" text-anchor=\"end\" x=\"113.52\" y=\"66.825\">20</text><text alignment-baseline=\"middle\" fill=\"black\" font-family=\"Times\" font-size=\"8.25\" text-anchor=\"end\" x=\"34.32\" y=\"66.825\">4</text><text alignment-baseline=\"middle\" fill=\"black\" font-family=\"Times\" font-size=\"8.25\" text-anchor=\"end\" x=\"113.52\" y=\"83.325\">22</text><text alignment-baseline=\"middle\" fill=\"black\" font-family=\"Times\" font-size=\"8.25\" text-anchor=\"end\" x=\"34.32\" y=\"83.325\">5</text><text alignment-baseline=\"middle\" fill=\"black\" font-family=\"Times\" font-size=\"8.25\" text-anchor=\"end\" x=\"113.52\" y=\"99.825\">24</text><text alignment-baseline=\"middle\" fill=\"black\" font-family=\"Times\" font-size=\"8.25\" text-anchor=\"end\" x=\"34.32\" y=\"99.825\">6</text><text alignment-baseline=\"middle\" fill=\"black\" font-family=\"Times\" font-size=\"8.25\" text-anchor=\"end\" x=\"113.52\" y=\"116.325\">26</text><text alignment-baseline=\"middle\" fill=\"black\" font-family=\"Times\" font-size=\"8.25\" text-anchor=\"end\" x=\"34.32\" y=\"116.325\">7</text><text alignment-baseline=\"middle\" fill=\"black\" font-family=\"Times\" font-size=\"8.25\" text-anchor=\"end\" x=\"113.52\" y=\"132.825\">28</text><text alignment-baseline=\"middle\" fill=\"black\" font-family=\"Times\" font-size=\"8.25\" text-anchor=\"end\" x=\"34.32\" y=\"132.825\">8</text><text alignment-baseline=\"middle\" fill=\"black\" font-family=\"Times\" font-size=\"8.25\" text-anchor=\"end\" x=\"113.52\" y=\"149.325\">30</text><text alignment-baseline=\"middle\" fill=\"black\" font-family=\"Times\" font-size=\"8.25\" text-anchor=\"end\" x=\"34.32\" y=\"149.325\">9</text><text alignment-baseline=\"middle\" fill=\"black\" font-family=\"Times\" font-size=\"8.25\" text-anchor=\"end\" x=\"113.52\" y=\"165.825\">32</text><text alignment-baseline=\"middle\" fill=\"black\" font-family=\"Times\" font-size=\"8.25\" text-anchor=\"end\" x=\"34.32\" y=\"165.825\">10</text><text alignment-baseline=\"middle\" fill=\"black\" font-family=\"Times\" font-size=\"8.25\" text-anchor=\"end\" x=\"113.52\" y=\"182.325\">34</text><text alignment-baseline=\"middle\" fill=\"black\" font-family=\"Times\" font-size=\"8.25\" text-anchor=\"end\" x=\"34.32\" y=\"182.325\">11</text><text alignment-baseline=\"middle\" fill=\"black\" font-family=\"Times\" font-size=\"8.25\" text-anchor=\"end\" x=\"113.52\" y=\"198.825\">36</text><text alignment-baseline=\"middle\" fill=\"black\" font-family=\"Times\" font-size=\"8.25\" text-anchor=\"end\" x=\"34.32\" y=\"198.825\">12</text><text alignment-baseline=\"middle\" fill=\"black\" font-family=\"Times\" font-size=\"8.25\" text-anchor=\"end\" x=\"113.52\" y=\"215.325\">38</text><text alignment-baseline=\"middle\" fill=\"black\" font-family=\"Times\" font-size=\"8.25\" text-anchor=\"end\" x=\"34.32\" y=\"215.325\">13</text><text alignment-baseline=\"middle\" fill=\"black\" font-family=\"Times\" font-size=\"8.25\" text-anchor=\"end\" x=\"113.52\" y=\"231.825\">40</text><text alignment-baseline=\"middle\" fill=\"black\" font-family=\"Times\" font-size=\"8.25\" text-anchor=\"end\" x=\"34.32\" y=\"231.825\">14</text><text alignment-baseline=\"middle\" fill=\"black\" font-family=\"Times\" font-size=\"8.25\" text-anchor=\"end\" x=\"113.52\" y=\"248.325\">42</text><text alignment-baseline=\"middle\" fill=\"black\" font-family=\"Times\" font-size=\"8.25\" text-anchor=\"end\" x=\"34.32\" y=\"248.325\">15</text><text alignment-baseline=\"middle\" fill=\"black\" font-family=\"Times\" font-size=\"8.25\" text-anchor=\"end\" x=\"113.52\" y=\"264.825\">44</text><text alignment-baseline=\"middle\" fill=\"black\" font-family=\"Times\" font-size=\"8.25\" text-anchor=\"end\" x=\"34.32\" y=\"264.825\">16</text><text alignment-baseline=\"middle\" fill=\"black\" font-family=\"Times\" font-size=\"8.25\" text-anchor=\"end\" x=\"113.52\" y=\"281.325\">46</text><text alignment-baseline=\"middle\" fill=\"black\" font-family=\"Times\" font-size=\"8.25\" text-anchor=\"end\" x=\"34.32\" y=\"281.325\">17</text><text alignment-baseline=\"middle\" fill=\"black\" font-family=\"Times\" font-size=\"8.25\" text-anchor=\"end\" x=\"113.52\" y=\"297.825\">48</text><text alignment-baseline=\"middle\" fill=\"black\" font-family=\"Times\" font-size=\"8.25\" text-anchor=\"end\" x=\"34.32\" y=\"297.825\">18</text><text alignment-baseline=\"middle\" fill=\"black\" font-family=\"Times\" font-size=\"8.25\" text-anchor=\"end\" x=\"113.52\" y=\"314.325\">50</text><text alignment-baseline=\"middle\" fill=\"black\" font-family=\"Times\" font-size=\"8.25\" text-anchor=\"end\" x=\"34.32\" y=\"314.325\">19</text><text alignment-baseline=\"middle\" fill=\"black\" font-family=\"Times\" font-size=\"8.25\" text-anchor=\"end\" x=\"113.52\" y=\"330.825\">52</text><text alignment-baseline=\"middle\" fill=\"black\" font-family=\"Times\" font-size=\"8.25\" text-anchor=\"end\" x=\"34.32\" y=\"330.825\">20</text><text alignment-baseline=\"middle\" fill=\"black\" font-family=\"Times\" font-size=\"8.25\" text-anchor=\"end\" x=\"113.52\" y=\"347.325\">54</text><text alignment-baseline=\"middle\" fill=\"black\" font-family=\"Times\" font-size=\"8.25\" text-anchor=\"end\" x=\"34.32\" y=\"347.325\">21</text><text alignment-baseline=\"middle\" fill=\"black\" font-family=\"Times\" font-size=\"8.25\" text-anchor=\"end\" x=\"113.52\" y=\"363.825\">56</text><text alignment-baseline=\"middle\" fill=\"black\" font-family=\"Times\" font-size=\"8.25\" text-anchor=\"end\" x=\"34.32\" y=\"363.825\">22</text><text alignment-baseline=\"middle\" fill=\"black\" font-family=\"Times\" font-size=\"8.25\" text-anchor=\"end\" x=\"113.52\" y=\"380.325\">58</text><text alignment-baseline=\"middle\" fill=\"black\" font-family=\"Times\" font-size=\"8.25\" text-anchor=\"end\" x=\"34.32\" y=\"380.325\">23</text><text alignment-baseline=\"middle\" fill=\"black\" font-family=\"Times\" font-size=\"8.25\" text-anchor=\"end\" x=\"113.52\" y=\"396.825\">60</text><text alignment-baseline=\"middle\" fill=\"black\" font-family=\"Times\" font-size=\"8.25\" text-anchor=\"end\" x=\"34.32\" y=\"396.825\">24</text><text alignment-baseline=\"middle\" fill=\"black\" font-family=\"Times\" font-size=\"8.25\" text-anchor=\"end\" x=\"113.52\" y=\"413.325\">62</text><text alignment-baseline=\"middle\" fill=\"black\" font-family=\"Times\" font-size=\"8.25\" text-anchor=\"end\" x=\"34.32\" y=\"413.325\">25</text><text alignment-baseline=\"middle\" fill=\"black\" font-family=\"Times\" font-size=\"8.25\" text-anchor=\"end\" x=\"113.52\" y=\"429.825\">64</text><text alignment-baseline=\"middle\" fill=\"black\" font-family=\"Times\" font-size=\"8.25\" text-anchor=\"end\" x=\"34.32\" y=\"429.825\">26</text><text alignment-baseline=\"middle\" fill=\"black\" font-family=\"Times\" font-size=\"8.25\" text-anchor=\"end\" x=\"113.52\" y=\"446.325\">66</text><text alignment-baseline=\"middle\" fill=\"black\" font-family=\"Times\" font-size=\"8.25\" text-anchor=\"end\" x=\"34.32\" y=\"446.325\">27</text><text alignment-baseline=\"middle\" fill=\"black\" font-family=\"Times\" font-size=\"8.25\" text-anchor=\"end\" x=\"113.52\" y=\"462.825\">68</text><text alignment-baseline=\"middle\" fill=\"black\" font-family=\"Times\" font-size=\"8.25\" text-anchor=\"end\" x=\"34.32\" y=\"462.825\">28</text><text alignment-baseline=\"middle\" fill=\"black\" font-family=\"Times\" font-size=\"8.25\" text-anchor=\"end\" x=\"113.52\" y=\"479.325\">70</text><text alignment-baseline=\"middle\" fill=\"black\" font-family=\"Times\" font-size=\"8.25\" text-anchor=\"end\" x=\"34.32\" y=\"479.325\">29</text><text alignment-baseline=\"middle\" fill=\"black\" font-family=\"Times\" font-size=\"8.25\" text-anchor=\"end\" x=\"113.52\" y=\"495.825\">72</text><text alignment-baseline=\"middle\" fill=\"black\" font-family=\"Times\" font-size=\"8.25\" text-anchor=\"end\" x=\"34.32\" y=\"495.825\">30</text><text alignment-baseline=\"middle\" fill=\"black\" font-family=\"Times\" font-size=\"8.25\" text-anchor=\"end\" x=\"113.52\" y=\"512.325\">74</text><text alignment-baseline=\"middle\" fill=\"black\" font-family=\"Times\" font-size=\"8.25\" text-anchor=\"end\" x=\"34.32\" y=\"512.325\">31</text><text alignment-baseline=\"middle\" fill=\"black\" font-family=\"Times\" font-size=\"8.25\" text-anchor=\"end\" x=\"113.52\" y=\"528.825\">76</text><text alignment-baseline=\"middle\" fill=\"black\" font-family=\"Times\" font-size=\"8.25\" text-anchor=\"end\" x=\"34.32\" y=\"528.825\">32</text><text alignment-baseline=\"middle\" fill=\"black\" font-family=\"Times\" font-size=\"8.25\" text-anchor=\"end\" x=\"113.52\" y=\"545.325\">78</text><text alignment-baseline=\"middle\" fill=\"black\" font-family=\"Times\" font-size=\"8.25\" text-anchor=\"end\" x=\"34.32\" y=\"545.325\">33</text><text alignment-baseline=\"middle\" fill=\"black\" font-family=\"Times\" font-size=\"8.25\" text-anchor=\"end\" x=\"113.52\" y=\"561.825\">80</text><text alignment-baseline=\"middle\" fill=\"black\" font-family=\"Times\" font-size=\"8.25\" text-anchor=\"end\" x=\"34.32\" y=\"561.825\">34</text><text alignment-baseline=\"middle\" fill=\"black\" font-family=\"Times\" font-size=\"8.25\" text-anchor=\"end\" x=\"113.52\" y=\"578.325\">82</text><text alignment-baseline=\"middle\" fill=\"black\" font-family=\"Times\" font-size=\"8.25\" text-anchor=\"end\" x=\"34.32\" y=\"578.325\">35</text><text alignment-baseline=\"middle\" fill=\"black\" font-family=\"Times\" font-size=\"8.25\" text-anchor=\"end\" x=\"113.52\" y=\"594.825\">84</text><text alignment-baseline=\"middle\" fill=\"black\" font-family=\"Times\" font-size=\"8.25\" text-anchor=\"end\" x=\"34.32\" y=\"594.825\">36</text><text alignment-baseline=\"middle\" fill=\"black\" font-family=\"Times\" font-size=\"8.25\" text-anchor=\"end\" x=\"113.52\" y=\"611.325\">86</text><text alignment-baseline=\"middle\" fill=\"black\" font-family=\"Times\" font-size=\"8.25\" text-anchor=\"end\" x=\"34.32\" y=\"611.325\">37</text><text alignment-baseline=\"middle\" fill=\"black\" font-family=\"Times\" font-size=\"8.25\" text-anchor=\"end\" x=\"113.52\" y=\"627.825\">88</text><text alignment-baseline=\"middle\" fill=\"black\" font-family=\"Times\" font-size=\"8.25\" text-anchor=\"end\" x=\"34.32\" y=\"627.825\">38</text><text alignment-baseline=\"middle\" fill=\"black\" font-family=\"Times\" font-size=\"8.25\" text-anchor=\"end\" x=\"113.52\" y=\"644.325\">90</text><text alignment-baseline=\"middle\" fill=\"black\" font-family=\"Times\" font-size=\"8.25\" text-anchor=\"end\" x=\"34.32\" y=\"644.325\">39</text><text alignment-baseline=\"middle\" fill=\"black\" font-family=\"Times\" font-size=\"8.25\" text-anchor=\"end\" x=\"113.52\" y=\"660.825\">92</text><text alignment-baseline=\"middle\" fill=\"black\" font-family=\"Times\" font-size=\"8.25\" text-anchor=\"end\" x=\"34.32\" y=\"660.825\">40</text><text alignment-baseline=\"middle\" fill=\"black\" font-family=\"Times\" font-size=\"8.25\" text-anchor=\"end\" x=\"113.52\" y=\"677.325\">94</text><text alignment-baseline=\"middle\" fill=\"black\" font-family=\"Times\" font-size=\"8.25\" text-anchor=\"end\" x=\"34.32\" y=\"677.325\">41</text><text alignment-baseline=\"middle\" fill=\"black\" font-family=\"Times\" font-size=\"8.25\" text-anchor=\"end\" x=\"113.52\" y=\"693.825\">96</text><text alignment-baseline=\"middle\" fill=\"black\" font-family=\"Times\" font-size=\"8.25\" text-anchor=\"end\" x=\"34.32\" y=\"693.825\">42</text><text alignment-baseline=\"middle\" fill=\"black\" font-family=\"Times\" font-size=\"8.25\" text-anchor=\"end\" x=\"113.52\" y=\"710.325\">98</text><text alignment-baseline=\"middle\" fill=\"black\" font-family=\"Times\" font-size=\"8.25\" text-anchor=\"end\" x=\"34.32\" y=\"710.325\">43</text><text alignment-baseline=\"middle\" fill=\"black\" font-family=\"Times\" font-size=\"8.25\" text-anchor=\"end\" x=\"113.52\" y=\"726.825\">100</text><text alignment-baseline=\"middle\" fill=\"black\" font-family=\"Times\" font-size=\"8.25\" text-anchor=\"end\" x=\"34.32\" y=\"726.825\">44</text><text alignment-baseline=\"middle\" fill=\"black\" font-family=\"Times\" font-size=\"8.25\" text-anchor=\"end\" x=\"113.52\" y=\"743.325\">102</text><text alignment-baseline=\"middle\" fill=\"black\" font-family=\"Times\" font-size=\"8.25\" text-anchor=\"end\" x=\"34.32\" y=\"743.325\">45</text><text alignment-baseline=\"middle\" fill=\"black\" font-family=\"Times\" font-size=\"8.25\" text-anchor=\"end\" x=\"113.52\" y=\"759.825\">104</text><text alignment-baseline=\"middle\" fill=\"black\" font-family=\"Times\" font-size=\"8.25\" text-anchor=\"end\" x=\"34.32\" y=\"759.825\">46</text><text alignment-baseline=\"middle\" fill=\"black\" font-family=\"Times\" font-size=\"8.25\" text-anchor=\"end\" x=\"113.52\" y=\"776.325\">106</text><text alignment-baseline=\"middle\" fill=\"black\" font-family=\"Times\" font-size=\"8.25\" text-anchor=\"end\" x=\"34.32\" y=\"776.325\">47</text><text alignment-baseline=\"middle\" fill=\"black\" font-family=\"Times\" font-size=\"8.25\" text-anchor=\"end\" x=\"113.52\" y=\"792.825\">108</text><text alignment-baseline=\"middle\" fill=\"black\" font-family=\"Times\" font-size=\"8.25\" text-anchor=\"end\" x=\"34.32\" y=\"792.825\">48</text><text alignment-baseline=\"middle\" fill=\"black\" font-family=\"Times\" font-size=\"8.25\" text-anchor=\"end\" x=\"113.52\" y=\"809.325\">110</text><text alignment-baseline=\"middle\" fill=\"black\" font-family=\"Times\" font-size=\"8.25\" text-anchor=\"end\" x=\"34.32\" y=\"809.325\">49</text><text alignment-baseline=\"middle\" fill=\"black\" font-family=\"Times\" font-size=\"8.25\" text-anchor=\"end\" x=\"113.52\" y=\"825.825\">112</text><text alignment-baseline=\"middle\" fill=\"black\" font-family=\"Times\" font-size=\"8.25\" text-anchor=\"end\" x=\"34.32\" y=\"825.825\">50</text><text alignment-baseline=\"middle\" fill=\"black\" font-family=\"Times\" font-size=\"8.25\" text-anchor=\"end\" x=\"113.52\" y=\"842.325\">113</text><text alignment-baseline=\"middle\" fill=\"black\" font-family=\"Times\" font-size=\"8.25\" text-anchor=\"end\" x=\"34.32\" y=\"842.325\">50</text><rect fill=\"black\" height=\"838.2\" width=\"2.64\" x=\"52.8\" y=\"9.9\"/><circle cx=\"52.8\" cy=\"9.9\" fill=\"black\" r=\"-0.264\" stroke=\"black\" stroke-width=\"0\"/><rect fill=\"black\" height=\"1.65\" width=\"26.928\" x=\"39.336\" y=\"9.9\"/><circle cx=\"52.8\" cy=\"848.1\" fill=\"black\" r=\"-0.264\" stroke=\"black\" stroke-width=\"0\"/><rect fill=\"black\" height=\"1.65\" width=\"26.928\" x=\"39.336\" y=\"846.45\"/><text alignment-baseline=\"middle\" fill=\"black\" font-family=\"Times\" font-size=\"8.25\" text-anchor=\"middle\" x=\"44.88\" y=\"429.825\"/><rect fill=\"black\" height=\"838.2\" width=\"2.64\" x=\"145.2\" y=\"9.9\"/><circle cx=\"145.2\" cy=\"9.9\" fill=\"black\" r=\"-0.264\" stroke=\"black\" stroke-width=\"0\"/><rect fill=\"black\" height=\"1.65\" width=\"26.928\" x=\"131.736\" y=\"9.9\"/><text alignment-baseline=\"middle\" fill=\"black\" font-family=\"Times\" font-size=\"8.25\" text-anchor=\"middle\" x=\"137.28\" y=\"429.825\"/></svg>"
      ],
      "text/plain": [
       "<IPython.core.display.SVG object>"
      ]
     },
     "execution_count": 37,
     "metadata": {},
     "output_type": "execute_result"
    }
   ],
   "source": [
    "tree.rejected = False\n",
    "tree.states = []\n",
    "tree.op = None\n",
    "tree.from_samples(samps)\n",
    "view = tree.renderer\n",
    "view.zoom = 1.1\n",
    "view.horizontal_gap = -0.01\n",
    "view.scale_y = 15\n",
    "view.scale_x = 24\n",
    "view.font_size = 0.5\n",
    "view.font_family = 'Times'\n",
    "SVG(view.to_svg())"
   ]
  },
  {
   "cell_type": "markdown",
   "metadata": {},
   "source": [
    "### Phi/Psi Plots"
   ]
  },
  {
   "cell_type": "code",
   "execution_count": 38,
   "metadata": {
    "collapsed": true
   },
   "outputs": [],
   "source": [
    "# Imports for plotting\n",
    "%matplotlib inline\n",
    "import matplotlib\n",
    "import matplotlib.pyplot as plt\n",
    "import matplotlib.pylab as pylab\n",
    "from matplotlib.legend_handler import HandlerLine2D"
   ]
  },
  {
   "cell_type": "markdown",
   "metadata": {},
   "source": [
    "Make sure that all phi/psi values have been computed!"
   ]
  },
  {
   "cell_type": "code",
   "execution_count": 39,
   "metadata": {
    "collapsed": false
   },
   "outputs": [],
   "source": [
    "psi = storage.cvs[0]\n",
    "phi = storage.cvs[1]"
   ]
  },
  {
   "cell_type": "code",
   "execution_count": 40,
   "metadata": {
    "collapsed": false
   },
   "outputs": [
    {
     "data": {
      "image/png": "[encoded data removed]",
      "text/plain": [
       "<matplotlib.figure.Figure at 0x10f219b90>"
      ]
     },
     "metadata": {},
     "output_type": "display_data"
    }
   ],
   "source": [
    "plt.figure(figsize=(5, 5))\n",
    "\n",
    "for traj in storage.trajectories.iterator():\n",
    "    phi_angles = degrees * np.array(phi(traj)).flatten()\n",
    "    psi_angles = degrees * np.array(psi(traj)).flatten()\n",
    "    plt.plot(phi_angles, psi_angles, 'ro', linewidth=1);\n",
    "    \n",
    "plt.xlim(-180, 180);\n",
    "plt.ylim(-180, 180);"
   ]
  },
  {
   "cell_type": "code",
   "execution_count": 41,
   "metadata": {
    "collapsed": false
   },
   "outputs": [
    {
     "data": {
      "image/png": "[encoded data removed]",
      "text/plain": [
       "<matplotlib.figure.Figure at 0x11a1fcf90>"
      ]
     },
     "metadata": {},
     "output_type": "display_data"
    }
   ],
   "source": [
    "plt.figure(figsize=(8, 8))\n",
    "\n",
    "traj = storage.trajectories.last()\n",
    "phi_angles = degrees * np.array(phi(traj)).flatten()\n",
    "psi_angles = degrees * np.array(psi(traj)).flatten()\n",
    "plt.plot(phi_angles, psi_angles, 'k-', linewidth=1);\n",
    "\n",
    "op_notinAorB = storage.cvs[4]\n",
    "\n",
    "for snapshot in traj:\n",
    "    phi_angles = degrees * np.array(phi(snapshot)).flatten()\n",
    "    psi_angles = degrees * np.array(psi(snapshot)).flatten()\n",
    "    if op_notinAorB(snapshot):\n",
    "        plt.plot(phi_angles, psi_angles, 'ro', linewidth=1);\n",
    "    else:\n",
    "        plt.plot(phi_angles, psi_angles, 'bo', linewidth=1);\n",
    "        \n",
    "plt.xlim(-180, 180);\n",
    "plt.ylim(-180, 180);"
   ]
  },
  {
   "cell_type": "code",
   "execution_count": 42,
   "metadata": {
    "collapsed": false
   },
   "outputs": [
    {
     "data": {
      "image/png": "[encoded data removed]",
      "text/plain": [
       "<matplotlib.figure.Figure at 0x11571e350>"
      ]
     },
     "metadata": {},
     "output_type": "display_data"
    }
   ],
   "source": [
    "plt.figure(figsize=(8, 8))\n",
    "\n",
    "traj = storage.samples.last().trajectory\n",
    "phi_angles = degrees * np.array(phi(traj)).flatten()\n",
    "psi_angles = degrees * np.array(psi(traj)).flatten()\n",
    "plt.plot(phi_angles, psi_angles, 'k-', linewidth=1);\n",
    "\n",
    "\n",
    "#for snapshot in simulator.storage.snapshot.iterator():\n",
    "for snapshot in traj:\n",
    "    phi_angles = degrees * np.array(phi(snapshot)).flatten()\n",
    "    psi_angles = degrees * np.array(psi(snapshot)).flatten()\n",
    "    if op_notinAorB(snapshot):\n",
    "        plt.plot(phi_angles, psi_angles, 'ro', linewidth=1);\n",
    "    else:\n",
    "        plt.plot(phi_angles, psi_angles, 'bo', linewidth=1);\n",
    "        \n",
    "plt.xlim(-180, 180);\n",
    "plt.ylim(-180, 180);"
   ]
  },
  {
   "cell_type": "code",
   "execution_count": null,
   "metadata": {
    "collapsed": true
   },
   "outputs": [],
   "source": []
  }
 ],
 "metadata": {
  "kernelspec": {
   "display_name": "Python 2",
   "language": "python",
   "name": "python2"
  },
  "language_info": {
   "codemirror_mode": {
    "name": "ipython",
    "version": 2
   },
   "file_extension": ".py",
   "mimetype": "text/x-python",
   "name": "python",
   "nbconvert_exporter": "python",
   "pygments_lexer": "ipython2",
   "version": "2.7.9"
  }
 },
 "nbformat": 4,
 "nbformat_minor": 0
}

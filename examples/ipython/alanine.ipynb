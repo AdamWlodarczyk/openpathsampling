{
 "cells": [
  {
   "cell_type": "markdown",
   "metadata": {},
   "source": [
    "# OPENTIS\n",
    "## An Example with Alanine"
   ]
  },
  {
   "cell_type": "markdown",
   "metadata": {},
   "source": [
    "Import Modules"
   ]
  },
  {
   "cell_type": "code",
   "execution_count": 1,
   "metadata": {
    "collapsed": false
   },
   "outputs": [],
   "source": [
    "import numpy as np\n",
    "import mdtraj as md\n",
    "import pandas as pd\n",
    "import simtk.openmm as mm\n",
    "from simtk.openmm import app\n",
    "from simtk import unit\n",
    " \n",
    "from openpathsampling.visualize import PathTreeBuilder\n",
    "from IPython.display import SVG\n",
    "\n",
    "import openpathsampling as paths\n",
    "import openpathsampling.engines.openmm as peng"
   ]
  },
  {
   "cell_type": "markdown",
   "metadata": {},
   "source": [
    "Radians to Degree conversion"
   ]
  },
  {
   "cell_type": "code",
   "execution_count": 2,
   "metadata": {
    "collapsed": true
   },
   "outputs": [],
   "source": [
    "deg = 3.14159265 / 180.0"
   ]
  },
  {
   "cell_type": "markdown",
   "metadata": {},
   "source": [
    "Create an AlanineOpenMMSimulator for demonstration purposes"
   ]
  },
  {
   "cell_type": "markdown",
   "metadata": {},
   "source": [
    "### Set simulation options and create a simulator object"
   ]
  },
  {
   "cell_type": "code",
   "execution_count": 3,
   "metadata": {
    "collapsed": false
   },
   "outputs": [],
   "source": [
    "template = peng.snapshot_from_pdb(\"../data/Alanine_solvated.pdb\")"
   ]
  },
  {
   "cell_type": "code",
   "execution_count": 4,
   "metadata": {
    "collapsed": false
   },
   "outputs": [],
   "source": [
    "storage = paths.Storage(filename=\"trajectory.nc\", template=template, mode='w')"
   ]
  },
  {
   "cell_type": "markdown",
   "metadata": {},
   "source": [
    "Set up the OpenMM simulation"
   ]
  },
  {
   "cell_type": "code",
   "execution_count": 5,
   "metadata": {
    "collapsed": false
   },
   "outputs": [],
   "source": [
    "topology = peng.to_openmm_topology(template)            \n",
    "\n",
    "\n",
    "# Generated using OpenMM Script Builder\n",
    "# http://builder.openmm.org\n",
    "\n",
    "forcefield = app.ForceField(\n",
    "    'amber96.xml',  # solute FF\n",
    "    'tip3p.xml'     # solvent FF\n",
    ")\n",
    "\n",
    "# OpenMM System\n",
    "system = forcefield.createSystem(\n",
    "    topology, \n",
    "    nonbondedMethod=app.PME, \n",
    "    nonbondedCutoff=1.0*unit.nanometers, \n",
    "    constraints=app.HBonds, \n",
    "    rigidWater=True, \n",
    "    ewaldErrorTolerance=0.0005\n",
    ")\n",
    "\n",
    "# OpenMM Integrator\n",
    "integrator = mm.LangevinIntegrator(\n",
    "    300*unit.kelvin, \n",
    "    1.0/unit.picoseconds, \n",
    "    2.0*unit.femtoseconds\n",
    ")\n",
    "integrator.setConstraintTolerance(0.00001)\n",
    "\n",
    "# Engine options\n",
    "options = {\n",
    "    'nsteps_per_frame': 10,\n",
    "    'platform': 'CPU'\n",
    "}\n",
    "\n",
    "engine = peng.Engine(\n",
    "    template, \n",
    "    system,\n",
    "    integrator,\n",
    "    options\n",
    ")"
   ]
  },
  {
   "cell_type": "code",
   "execution_count": 6,
   "metadata": {
    "collapsed": false
   },
   "outputs": [
    {
     "name": "stdout",
     "output_type": "stream",
     "text": [
      "(store.engines[DynamicsEngine], 11, UUID('ce5c1cd7-e78e-11e5-a6b3-00000000003a'))\n"
     ]
    }
   ],
   "source": [
    "print storage.save(engine)"
   ]
  },
  {
   "cell_type": "markdown",
   "metadata": {},
   "source": [
    "### Order Parameters"
   ]
  },
  {
   "cell_type": "markdown",
   "metadata": {},
   "source": [
    "this generates an order parameter (callable) object named psi (so if we call `psi(trajectory)` we get a list of the values of psi for each frame in the trajectory). This particular order parameter uses mdtraj's compute_dihedrals function, with the atoms in psi_atoms"
   ]
  },
  {
   "cell_type": "code",
   "execution_count": 7,
   "metadata": {
    "collapsed": false
   },
   "outputs": [],
   "source": [
    "psi_atoms = [6,8,14,16]\n",
    "psi = paths.CV_MDTraj_Function(\"psi\", md.compute_dihedrals, indices=[psi_atoms])\n",
    "\n",
    "phi_atoms = [4,6,8,14]\n",
    "phi = paths.CV_MDTraj_Function(\"phi\", md.compute_dihedrals, indices=[phi_atoms])"
   ]
  },
  {
   "cell_type": "code",
   "execution_count": 8,
   "metadata": {
    "collapsed": false
   },
   "outputs": [],
   "source": [
    "def pp2_fnc(item, psi, phi):\n",
    "    return psi(item)**2 + phi(item)**2\n",
    "\n",
    "pp2 = paths.CV_Function('psi2', pp2_fnc, psi=psi, phi=phi)"
   ]
  },
  {
   "cell_type": "code",
   "execution_count": 9,
   "metadata": {
    "collapsed": false
   },
   "outputs": [
    {
     "name": "stdout",
     "output_type": "stream",
     "text": [
      "(store.cvs[CollectiveVariable], 6, UUID('ce5c1cd7-e78e-11e5-a6b3-000000000040'))\n"
     ]
    }
   ],
   "source": [
    "print storage.save(pp2)"
   ]
  },
  {
   "cell_type": "markdown",
   "metadata": {},
   "source": [
    "### Volumes"
   ]
  },
  {
   "cell_type": "markdown",
   "metadata": {},
   "source": [
    "This creates two states using a one-dimensional order parameter (called _Lambda_ in TIS terminology). A snapshot is in the State as long as the order parameter is with specific bounds. \n",
    "\n",
    "StateA is $\\psi \\in [-120, -30]$ and StateB is $\\psi \\in [100, 180]$"
   ]
  },
  {
   "cell_type": "code",
   "execution_count": 10,
   "metadata": {
    "collapsed": false
   },
   "outputs": [],
   "source": [
    "stateA = paths.CVRangeVolumePeriodic(\n",
    "    collectivevariable=psi, \n",
    "    lambda_min=-120.0*deg, \n",
    "    lambda_max=-30.0*deg, \n",
    "    period_min=-180.0*deg, \n",
    "    period_max=+180.0*deg\n",
    ")\n",
    "stateB = paths.CVRangeVolumePeriodic(\n",
    "    collectivevariable=psi, \n",
    "    lambda_min=100.0*deg, \n",
    "    lambda_max=180.0*deg, \n",
    "    period_min=-180.0*deg, \n",
    "    period_max=+180.0*deg\n",
    ")"
   ]
  },
  {
   "cell_type": "markdown",
   "metadata": {},
   "source": [
    "Now do the same for a set of lambda ranges to produce nested volumes."
   ]
  },
  {
   "cell_type": "code",
   "execution_count": 11,
   "metadata": {
    "collapsed": false
   },
   "outputs": [],
   "source": [
    "minima = map(deg.__mul__, [-125, -135, -140, -142.5, -145.0, -147.0, -150.0])\n",
    "maxima = map(deg.__mul__, [-25.0, -21.0, -18.5, -17.0, -15.0, -10.0, 0.0])\n",
    "\n",
    "volume_set = paths.VolumeFactory.CVRangeVolumePeriodicSet(psi, minima, maxima, -180.0*deg, +180.0*deg)"
   ]
  },
  {
   "cell_type": "markdown",
   "metadata": {},
   "source": [
    "Tag the two states for simpler access later"
   ]
  },
  {
   "cell_type": "code",
   "execution_count": 12,
   "metadata": {
    "collapsed": false
   },
   "outputs": [],
   "source": [
    "storage.tag['stateA'] = stateA\n",
    "storage.tag['stateB'] = stateB\n",
    "storage.tag['states'] = [stateA, stateB]"
   ]
  },
  {
   "cell_type": "markdown",
   "metadata": {},
   "source": [
    "### Ensembles"
   ]
  },
  {
   "cell_type": "markdown",
   "metadata": {},
   "source": [
    "Now do this automatically for all ensembles"
   ]
  },
  {
   "cell_type": "code",
   "execution_count": 13,
   "metadata": {
    "collapsed": true
   },
   "outputs": [],
   "source": [
    "interface0 = volume_set[0]\n",
    "interface_set = paths.EnsembleFactory.TISEnsembleSet(stateA, stateA | stateB, volume_set, psi)"
   ]
  },
  {
   "cell_type": "markdown",
   "metadata": {},
   "source": [
    "Give each interface a name"
   ]
  },
  {
   "cell_type": "code",
   "execution_count": 14,
   "metadata": {
    "collapsed": false
   },
   "outputs": [],
   "source": [
    "for no, interface in enumerate(interface_set):\n",
    "    interface.name = 'Interface ' + str(no)"
   ]
  },
  {
   "cell_type": "markdown",
   "metadata": {},
   "source": [
    "and save all of these"
   ]
  },
  {
   "cell_type": "code",
   "execution_count": 15,
   "metadata": {
    "collapsed": false
   },
   "outputs": [],
   "source": [
    "map(storage.ensembles.save, interface_set);"
   ]
  },
  {
   "cell_type": "markdown",
   "metadata": {},
   "source": [
    "And create a special ensemble, that will create a first trajectory in the innermost TIS ensemble independent from where we start"
   ]
  },
  {
   "cell_type": "markdown",
   "metadata": {},
   "source": [
    "The idea is to describe a trajectory type by a sequence of positions. First can be outside of stateA or not, then be inside stateA, etc..."
   ]
  },
  {
   "cell_type": "code",
   "execution_count": 16,
   "metadata": {
    "collapsed": false
   },
   "outputs": [],
   "source": [
    "inA = paths.AllInXEnsemble(stateA)\n",
    "outA = paths.AllOutXEnsemble(stateA)\n",
    "\n",
    "inI0 = paths.AllInXEnsemble(interface0)\n",
    "outI0 = paths.AllOutXEnsemble(interface0)\n",
    "\n",
    "first_traj_ensemble = paths.SequentialEnsemble([\n",
    "    paths.OptionalEnsemble(outA),\n",
    "    inA,\n",
    "    paths.OptionalEnsemble(outA & inI0),\n",
    "    paths.OptionalEnsemble(inI0),\n",
    "    outI0,\n",
    "    paths.OptionalEnsemble(outA),\n",
    "    paths.SingleFrameEnsemble(inA)\n",
    "])"
   ]
  },
  {
   "cell_type": "markdown",
   "metadata": {},
   "source": [
    "### start path generation"
   ]
  },
  {
   "cell_type": "markdown",
   "metadata": {},
   "source": [
    "so lets try and see if we can generate a first path"
   ]
  },
  {
   "cell_type": "markdown",
   "metadata": {},
   "source": [
    "load the initial snapshot (although we still have it) and generate using the Alanine simulator. The second option specifies a function : trajectory -> bool that keeps the simulation running as long as it is true. Our goal was to generate a path that belongs to a specific ensemble, so we use `forward` to determine if it makes sense to keep running or if the result cannot belong to the ensemble anymore."
   ]
  },
  {
   "cell_type": "code",
   "execution_count": 17,
   "metadata": {
    "collapsed": false
   },
   "outputs": [],
   "source": [
    "snapshot = storage.template\n",
    "total_path = engine.generate_forward(snapshot, first_traj_ensemble)"
   ]
  },
  {
   "cell_type": "markdown",
   "metadata": {},
   "source": [
    "Show the length"
   ]
  },
  {
   "cell_type": "code",
   "execution_count": 18,
   "metadata": {
    "collapsed": false
   },
   "outputs": [
    {
     "name": "stdout",
     "output_type": "stream",
     "text": [
      "Total trajectory length : 221 ( 4.42 ps )\n"
     ]
    }
   ],
   "source": [
    "print \"Total trajectory length : %d ( %s )\" % ( \n",
    "    len(total_path), \n",
    "    len(total_path) * engine.options['nsteps_per_frame'] * engine.simulation.integrator.getStepSize()\n",
    ")"
   ]
  },
  {
   "cell_type": "markdown",
   "metadata": {},
   "source": [
    "And save the trajetory completely"
   ]
  },
  {
   "cell_type": "code",
   "execution_count": 19,
   "metadata": {
    "collapsed": false
   },
   "outputs": [],
   "source": [
    "storage.save(total_path);"
   ]
  },
  {
   "cell_type": "code",
   "execution_count": 20,
   "metadata": {
    "collapsed": false
   },
   "outputs": [],
   "source": [
    "storage.tag['first_path'] = total_path"
   ]
  },
  {
   "cell_type": "markdown",
   "metadata": {},
   "source": [
    "Split the trajectory into parts that belong to the TIS ensemble (not the one we generated)"
   ]
  },
  {
   "cell_type": "code",
   "execution_count": 21,
   "metadata": {
    "collapsed": false
   },
   "outputs": [
    {
     "name": "stdout",
     "output_type": "stream",
     "text": [
      "CPU times: user 1.78 s, sys: 9.09 ms, total: 1.79 s\n",
      "Wall time: 1.79 s\n"
     ]
    }
   ],
   "source": [
    "%%time\n",
    "interface0_ensemble = interface_set[0]\n",
    "segments = interface0_ensemble.split(total_path)"
   ]
  },
  {
   "cell_type": "code",
   "execution_count": 22,
   "metadata": {
    "collapsed": false
   },
   "outputs": [
    {
     "name": "stdout",
     "output_type": "stream",
     "text": [
      "Traj in first_traj_ensemble? (should be) True\n",
      "Traj in TIS ensemble? (probably not) False\n",
      "Number of segments in TIS ensemble:  1\n",
      "Length of each segment:\n",
      "  seg[0]: 21\n"
     ]
    }
   ],
   "source": [
    "print \"Traj in first_traj_ensemble? (should be)\", \n",
    "print first_traj_ensemble(total_path)\n",
    "\n",
    "print \"Traj in TIS ensemble? (probably not)\", \n",
    "print interface0_ensemble(total_path)\n",
    "\n",
    "\n",
    "print \"Number of segments in TIS ensemble: \", len(segments)\n",
    "if len(segments):\n",
    "    print \"Length of each segment:\"\n",
    "    for i in range(len(segments)):\n",
    "        print \"  seg[{0}]: {1}\".format(i, len(segments[i]))"
   ]
  },
  {
   "cell_type": "markdown",
   "metadata": {},
   "source": [
    "Show some results and check if this worked"
   ]
  },
  {
   "cell_type": "code",
   "execution_count": 23,
   "metadata": {
    "collapsed": false
   },
   "outputs": [
    {
     "name": "stdout",
     "output_type": "stream",
     "text": [
      "           phi        psi stateA interface0 stateB appendable\n",
      "0   -80.208455 -10.277032  False      False  False       True\n",
      "1   -83.787850 -11.491163  False      False  False       True\n",
      "2   -81.282113 -12.079162  False      False  False       True\n",
      "218 -63.882220 -27.452593  False       True  False       True\n",
      "219 -47.714148 -28.077767  False       True  False       True\n",
      "220 -47.741455 -36.281531   True       True  False      False\n"
     ]
    }
   ],
   "source": [
    "data = []\n",
    "for frame in total_path:\n",
    "    data.append((phi(frame) / deg, psi(frame)/deg, stateA(frame), interface0(frame), stateB(frame), first_traj_ensemble.can_append(total_path[slice(0,total_path.index(frame)+1)])))\n",
    "    \n",
    "dataframe = pd.DataFrame(data, columns=['phi', 'psi', 'stateA', 'interface0', 'stateB', 'appendable'])\n",
    "print dataframe[[0,1,2,3,4,5]].ix[[0,1,2,len(dataframe)-3,len(dataframe)-2,len(dataframe)-1]]"
   ]
  },
  {
   "cell_type": "code",
   "execution_count": 24,
   "metadata": {
    "collapsed": false
   },
   "outputs": [
    {
     "name": "stdout",
     "output_type": "stream",
     "text": [
      "Do our segments satisfy the ensemble? True\n"
     ]
    }
   ],
   "source": [
    "print \"Do our segments satisfy the ensemble?\",\n",
    "for seg in segments:\n",
    "    print interface0_ensemble(seg),"
   ]
  },
  {
   "cell_type": "code",
   "execution_count": 25,
   "metadata": {
    "collapsed": false
   },
   "outputs": [
    {
     "name": "stdout",
     "output_type": "stream",
     "text": [
      "          phi        psi stateA interface0 stateB appendable\n",
      "0  -41.853381 -30.471151   True       True  False       True\n",
      "1  -52.087993 -28.271873  False       True  False       True\n",
      "2  -53.248039 -28.894992  False       True  False       True\n",
      "3  -64.090773 -23.413448  False      False  False       True\n",
      "4  -69.604778 -12.602022  False      False  False       True\n",
      "5  -69.451563 -15.974317  False      False  False       True\n",
      "6  -71.896750 -10.698591  False      False  False       True\n",
      "7  -66.017740 -14.599451  False      False  False       True\n",
      "8  -70.093211 -11.385741  False      False  False       True\n",
      "9  -78.998378 -18.621541  False      False  False       True\n",
      "10 -75.054381 -11.213048  False      False  False       True\n",
      "11 -81.711855 -17.514888  False      False  False       True\n",
      "12 -83.602847  -9.396928  False      False  False       True\n",
      "13 -80.794554 -12.572932  False      False  False       True\n",
      "14 -74.831389 -20.398022  False      False  False       True\n",
      "15 -66.391583 -26.447674  False       True  False       True\n",
      "16 -65.165483 -24.806284  False      False  False       True\n",
      "17 -60.051310 -27.801098  False       True  False       True\n",
      "18 -63.882220 -27.452593  False       True  False       True\n",
      "19 -47.714148 -28.077767  False       True  False       True\n",
      "20 -47.741455 -36.281531   True       True  False      False\n"
     ]
    }
   ],
   "source": [
    "data = []\n",
    "for frame in segments[0]:\n",
    "    data.append((phi(frame)/deg, psi(frame)/deg, stateA(frame), interface0(frame), stateB(frame), first_traj_ensemble.can_append(total_path[slice(0,total_path.index(frame)+1)])))\n",
    "    \n",
    "dataframe = pd.DataFrame(data, columns=['phi', 'psi', 'stateA', 'interface0', 'stateB', 'appendable'])\n",
    "print dataframe[[0,1,2,3,4,5]]"
   ]
  },
  {
   "cell_type": "markdown",
   "metadata": {},
   "source": [
    "### Bootstrapping"
   ]
  },
  {
   "cell_type": "markdown",
   "metadata": {},
   "source": [
    "Run a bootstrapping (not TIS) simulation that shoots from an ensemble until the next interface is reached then switch to the next ensemble to drive the system out of stateA"
   ]
  },
  {
   "cell_type": "code",
   "execution_count": 26,
   "metadata": {
    "collapsed": true
   },
   "outputs": [],
   "source": [
    "mover_set = paths.PathMoverFactory.OneWayShootingSet(paths.UniformSelector(), interface_set)"
   ]
  },
  {
   "cell_type": "code",
   "execution_count": 27,
   "metadata": {
    "collapsed": false
   },
   "outputs": [],
   "source": [
    "bootstrap = paths.Bootstrapping(storage=storage,\n",
    "                          engine=engine,\n",
    "                          ensembles=interface_set,\n",
    "                          movers=mover_set,\n",
    "                          trajectory=segments[0])"
   ]
  },
  {
   "cell_type": "code",
   "execution_count": 28,
   "metadata": {
    "collapsed": false
   },
   "outputs": [
    {
     "name": "stdout",
     "output_type": "stream",
     "text": [
      "DONE! Completed Bootstrapping cycle step 15 in ensemble 6/7 .\n",
      "\n"
     ]
    }
   ],
   "source": [
    "bootstrap.run(10)"
   ]
  },
  {
   "cell_type": "markdown",
   "metadata": {},
   "source": [
    "### Save all computed phi/psi values which depends on whether they have been needed before"
   ]
  },
  {
   "cell_type": "code",
   "execution_count": 29,
   "metadata": {
    "collapsed": true
   },
   "outputs": [],
   "source": [
    "storage.cvs.sync()"
   ]
  },
  {
   "cell_type": "markdown",
   "metadata": {},
   "source": [
    "Create an collectivevariable from a volume which is just 1 or 0 and can thus be stored for later analysis"
   ]
  },
  {
   "cell_type": "code",
   "execution_count": 30,
   "metadata": {
    "collapsed": true
   },
   "outputs": [],
   "source": [
    "op_inA = paths.CV_Volume('StateA', stateA)\n",
    "op_inB = paths.CV_Volume('StateB', stateB)\n",
    "op_notinAorB = paths.CV_Volume('StateX', ~ (stateA | stateB))"
   ]
  },
  {
   "cell_type": "markdown",
   "metadata": {},
   "source": [
    "Save the new collectivevariables"
   ]
  },
  {
   "cell_type": "code",
   "execution_count": 31,
   "metadata": {
    "collapsed": false
   },
   "outputs": [],
   "source": [
    "storage.save([op_inA, op_inB, op_notinAorB]);"
   ]
  },
  {
   "cell_type": "markdown",
   "metadata": {},
   "source": [
    "Compute the collectivevariable for all snapshots"
   ]
  },
  {
   "cell_type": "code",
   "execution_count": 32,
   "metadata": {
    "collapsed": true
   },
   "outputs": [],
   "source": [
    "psi(storage.snapshots.all());\n",
    "phi(storage.snapshots.all());"
   ]
  },
  {
   "cell_type": "code",
   "execution_count": 33,
   "metadata": {
    "collapsed": false
   },
   "outputs": [],
   "source": [
    "op_inA(storage.snapshots.all())\n",
    "op_inB(storage.snapshots.all())\n",
    "op_notinAorB(storage.snapshots.all());"
   ]
  },
  {
   "cell_type": "code",
   "execution_count": 34,
   "metadata": {
    "collapsed": true
   },
   "outputs": [],
   "source": [
    "storage.cvs.sync()\n",
    "storage.sync()"
   ]
  },
  {
   "cell_type": "code",
   "execution_count": 35,
   "metadata": {
    "collapsed": true
   },
   "outputs": [],
   "source": [
    "storage.close()"
   ]
  },
  {
   "cell_type": "code",
   "execution_count": 1,
   "metadata": {
    "collapsed": true
   },
   "outputs": [],
   "source": [
    "import openpathsampling as paths\n",
    "from openpathsampling.visualize import PathTreeBuilder, MoveTreeBuilder\n",
    "from IPython.display import SVG\n",
    "import mdtraj"
   ]
  },
  {
   "cell_type": "code",
   "execution_count": 2,
   "metadata": {
    "collapsed": false
   },
   "outputs": [],
   "source": [
    "storage = paths.Storage('trajectory.nc', mode='r')"
   ]
  },
  {
   "cell_type": "code",
   "execution_count": 3,
   "metadata": {
    "collapsed": false
   },
   "outputs": [],
   "source": [
    "dummy = storage.pathmovechanges[:]"
   ]
  },
  {
   "cell_type": "code",
   "execution_count": 5,
   "metadata": {
    "collapsed": false
   },
   "outputs": [
    {
     "data": {
      "text/plain": [
       "<openpathsampling.netcdfplus.cache.NoCache at 0x1260f6950>"
      ]
     },
     "execution_count": 5,
     "metadata": {},
     "output_type": "execute_result"
    }
   ],
   "source": [
    "storage.pathmovechanges.cache"
   ]
  },
  {
   "cell_type": "code",
   "execution_count": 2,
   "metadata": {
    "collapsed": false
   },
   "outputs": [
    {
     "name": "stdout",
     "output_type": "stream",
     "text": [
      "[<Sample @ 0x1258f64d0>]\n",
      "[<Sample @ 0x129d18150>]\n",
      "[<Sample @ 0x129f67d90>]\n",
      "[<Sample @ 0x129f67990>]\n",
      "[<Sample @ 0x129d123d0>]\n",
      "[<Sample @ 0x129d12190>]\n",
      "[<Sample @ 0x129d12c10>]\n",
      "[<Sample @ 0x129d12ad0>]\n",
      "[<Sample @ 0x129d12550>]\n",
      "[<Sample @ 0x129d182d0>]\n",
      "[<Sample @ 0x129d18310>]\n",
      "[<Sample @ 0x129f92610>]\n"
     ]
    }
   ],
   "source": [
    "storage = paths.AnalysisStorage('trajectory.nc')"
   ]
  },
  {
   "cell_type": "markdown",
   "metadata": {},
   "source": [
    "## Visualization"
   ]
  },
  {
   "cell_type": "markdown",
   "metadata": {},
   "source": [
    "Create a PathTree generator"
   ]
  },
  {
   "cell_type": "code",
   "execution_count": 3,
   "metadata": {
    "collapsed": true
   },
   "outputs": [],
   "source": [
    "psi = storage.cvs['psi']"
   ]
  },
  {
   "cell_type": "code",
   "execution_count": 4,
   "metadata": {
    "collapsed": true
   },
   "outputs": [],
   "source": [
    "tree = PathTreeBuilder(storage)"
   ]
  },
  {
   "cell_type": "markdown",
   "metadata": {},
   "source": [
    "Change the settings to show rejected pathways, mark OrderParaemters `stateA` and `stateX`, and show the 'psi' value as text inside of the boxes"
   ]
  },
  {
   "cell_type": "code",
   "execution_count": 5,
   "metadata": {
    "collapsed": false
   },
   "outputs": [],
   "source": [
    "tree.rejected = False\n",
    "tree.states = [ ('orange',storage.cvs[3])]\n",
    "# Some ideas for collectivevariables to visualize\n",
    "tree.op = lambda snap : 'B' if snap.reversed else 'F'\n",
    "tree.op = lambda snap : int(psi(snap)[0]/3.1415926 * 180)\n",
    "tree.op = lambda snap : snap.statics.idx(storage.statics)\n",
    "samps = tree.construct_heritage(storage.samples.last)\n",
    "tree.from_samples(samps)\n",
    "#for sset in storage.samplesets:\n",
    "#    print sset.movepath\n",
    "    \n",
    "#for s in samps:\n",
    "#    print (s, s.ensemble.idx[storage], s.replica, len(tree.construct_heritage(s)), s.mover.__class__.__name__)"
   ]
  },
  {
   "cell_type": "markdown",
   "metadata": {},
   "source": [
    "Render the tree"
   ]
  },
  {
   "cell_type": "code",
   "execution_count": 6,
   "metadata": {
    "collapsed": false
   },
   "outputs": [
    {
     "data": {
      "image/svg+xml": [
       "<svg baseProfile=\"full\" height=\"369.6px\" version=\"1.1\" width=\"264.0px\" xmlns=\"http://www.w3.org/2000/svg\" xmlns:ev=\"http://www.w3.org/2001/xml-events\" xmlns:xlink=\"http://www.w3.org/1999/xlink\"><defs/><rect fill=\"orange\" height=\"2.64\" stroke=\"orange\" stroke-width=\"1.32\" width=\"22.0\" x=\"176.0\" y=\"273.24\"/><rect fill=\"orange\" height=\"2.64\" stroke=\"orange\" stroke-width=\"1.32\" width=\"22.0\" x=\"176.0\" y=\"246.84\"/><rect fill=\"orange\" height=\"2.64\" stroke=\"orange\" stroke-width=\"1.32\" width=\"22.0\" x=\"176.0\" y=\"220.44\"/><rect fill=\"orange\" height=\"2.64\" stroke=\"orange\" stroke-width=\"1.32\" width=\"22.0\" x=\"220.0\" y=\"194.04\"/><rect fill=\"orange\" height=\"2.64\" stroke=\"orange\" stroke-width=\"1.32\" width=\"22.0\" x=\"176.0\" y=\"167.64\"/><rect fill=\"orange\" height=\"2.64\" stroke=\"orange\" stroke-width=\"1.32\" width=\"22.0\" x=\"176.0\" y=\"141.24\"/><rect fill=\"orange\" height=\"2.64\" stroke=\"orange\" stroke-width=\"1.32\" width=\"22.0\" x=\"176.0\" y=\"114.84\"/><rect fill=\"orange\" height=\"2.64\" stroke=\"orange\" stroke-width=\"1.32\" width=\"22.0\" x=\"220.0\" y=\"88.44\"/><rect fill=\"orange\" height=\"2.64\" stroke=\"orange\" stroke-width=\"1.32\" width=\"22.0\" x=\"176.0\" y=\"62.04\"/><rect fill=\"orange\" height=\"2.64\" stroke=\"orange\" stroke-width=\"1.32\" width=\"22.0\" x=\"220.0\" y=\"35.64\"/><rect fill=\"orange\" height=\"2.64\" stroke=\"orange\" stroke-width=\"1.32\" width=\"22.0\" x=\"176.0\" y=\"35.64\"/><text alignment-baseline=\"middle\" fill=\"black\" font-family=\"Futura\" font-size=\"9.24\" text-anchor=\"end\" x=\"171.6\" y=\"27.72\">2b</text><rect fill=\"black\" height=\"15.84\" width=\"19.8\" x=\"177.1\" y=\"18.48\"/><circle cx=\"198.0\" cy=\"26.4\" fill=\"black\" r=\"1.1\" stroke=\"black\" stroke-width=\"0\"/><text alignment-baseline=\"middle\" fill=\"white\" font-family=\"Futura\" font-size=\"9.24\" text-anchor=\"middle\" x=\"187.0\" y=\"27.72\">79</text><rect fill=\"black\" height=\"15.84\" width=\"19.8\" x=\"199.1\" y=\"18.48\"/><circle cx=\"198.0\" cy=\"26.4\" fill=\"black\" r=\"1.1\" stroke=\"black\" stroke-width=\"0\"/><circle cx=\"220.0\" cy=\"26.4\" fill=\"black\" r=\"1.1\" stroke=\"black\" stroke-width=\"0\"/><text alignment-baseline=\"middle\" fill=\"white\" font-family=\"Futura\" font-size=\"9.24\" text-anchor=\"middle\" x=\"209.0\" y=\"27.72\">77</text><rect fill=\"black\" height=\"15.84\" width=\"19.8\" x=\"221.1\" y=\"18.48\"/><circle cx=\"220.0\" cy=\"26.4\" fill=\"black\" r=\"1.1\" stroke=\"black\" stroke-width=\"0\"/><text alignment-baseline=\"middle\" fill=\"white\" font-family=\"Futura\" font-size=\"9.24\" text-anchor=\"middle\" x=\"231.0\" y=\"27.72\">78</text><line stroke=\"green\" stroke-width=\"1.32\" x1=\"198.0\" x2=\"198.0\" y1=\"27.72\" y2=\"51.48\"/><text alignment-baseline=\"middle\" fill=\"black\" font-family=\"Futura\" font-size=\"9.24\" text-anchor=\"end\" x=\"171.6\" y=\"54.12\">3b</text><rect fill=\"green\" height=\"15.84\" width=\"19.8\" x=\"177.1\" y=\"44.88\"/><circle cx=\"198.0\" cy=\"52.8\" fill=\"green\" r=\"1.1\" stroke=\"green\" stroke-width=\"0\"/><text alignment-baseline=\"middle\" fill=\"white\" font-family=\"Futura\" font-size=\"9.24\" text-anchor=\"middle\" x=\"187.0\" y=\"54.12\">80</text><line stroke=\"red\" stroke-width=\"1.32\" x1=\"220.0\" x2=\"220.0\" y1=\"27.72\" y2=\"77.88\"/><text alignment-baseline=\"middle\" fill=\"black\" font-family=\"Futura\" font-size=\"9.24\" text-anchor=\"start\" x=\"246.4\" y=\"80.52\">4f</text><rect fill=\"red\" height=\"15.84\" width=\"19.8\" x=\"221.1\" y=\"71.28\"/><circle cx=\"220.0\" cy=\"79.2\" fill=\"red\" r=\"1.1\" stroke=\"red\" stroke-width=\"0\"/><text alignment-baseline=\"middle\" fill=\"white\" font-family=\"Futura\" font-size=\"9.24\" text-anchor=\"middle\" x=\"231.0\" y=\"80.52\">81</text><line stroke=\"green\" stroke-width=\"1.32\" x1=\"198.0\" x2=\"198.0\" y1=\"27.72\" y2=\"104.28\"/><text alignment-baseline=\"middle\" fill=\"black\" font-family=\"Futura\" font-size=\"9.24\" text-anchor=\"end\" x=\"171.6\" y=\"106.92\">5b</text><rect fill=\"green\" height=\"15.84\" width=\"19.8\" x=\"177.1\" y=\"97.68\"/><circle cx=\"198.0\" cy=\"105.6\" fill=\"green\" r=\"1.1\" stroke=\"green\" stroke-width=\"0\"/><text alignment-baseline=\"middle\" fill=\"white\" font-family=\"Futura\" font-size=\"9.24\" text-anchor=\"middle\" x=\"187.0\" y=\"106.92\">82</text><line stroke=\"green\" stroke-width=\"1.32\" x1=\"198.0\" x2=\"198.0\" y1=\"27.72\" y2=\"130.68\"/><text alignment-baseline=\"middle\" fill=\"black\" font-family=\"Futura\" font-size=\"9.24\" text-anchor=\"end\" x=\"171.6\" y=\"133.32\">6b</text><rect fill=\"green\" height=\"15.84\" width=\"19.8\" x=\"177.1\" y=\"124.08\"/><circle cx=\"198.0\" cy=\"132.0\" fill=\"green\" r=\"1.1\" stroke=\"green\" stroke-width=\"0\"/><text alignment-baseline=\"middle\" fill=\"white\" font-family=\"Futura\" font-size=\"9.24\" text-anchor=\"middle\" x=\"187.0\" y=\"133.32\">83</text><line stroke=\"green\" stroke-width=\"1.32\" x1=\"198.0\" x2=\"198.0\" y1=\"27.72\" y2=\"157.08\"/><text alignment-baseline=\"middle\" fill=\"black\" font-family=\"Futura\" font-size=\"9.24\" text-anchor=\"end\" x=\"171.6\" y=\"159.72\">7b</text><rect fill=\"green\" height=\"15.84\" width=\"19.8\" x=\"177.1\" y=\"150.48\"/><circle cx=\"198.0\" cy=\"158.4\" fill=\"green\" r=\"1.1\" stroke=\"green\" stroke-width=\"0\"/><text alignment-baseline=\"middle\" fill=\"white\" font-family=\"Futura\" font-size=\"9.24\" text-anchor=\"middle\" x=\"187.0\" y=\"159.72\">84</text><line stroke=\"red\" stroke-width=\"1.32\" x1=\"220.0\" x2=\"220.0\" y1=\"27.72\" y2=\"183.48\"/><text alignment-baseline=\"middle\" fill=\"black\" font-family=\"Futura\" font-size=\"9.24\" text-anchor=\"start\" x=\"246.4\" y=\"186.12\">8f</text><rect fill=\"red\" height=\"15.84\" width=\"19.8\" x=\"221.1\" y=\"176.88\"/><circle cx=\"220.0\" cy=\"184.8\" fill=\"red\" r=\"1.1\" stroke=\"red\" stroke-width=\"0\"/><text alignment-baseline=\"middle\" fill=\"white\" font-family=\"Futura\" font-size=\"9.24\" text-anchor=\"middle\" x=\"231.0\" y=\"186.12\">85</text><line stroke=\"green\" stroke-width=\"1.32\" x1=\"198.0\" x2=\"198.0\" y1=\"27.72\" y2=\"209.88\"/><text alignment-baseline=\"middle\" fill=\"black\" font-family=\"Futura\" font-size=\"9.24\" text-anchor=\"end\" x=\"171.6\" y=\"212.52\">9b</text><rect fill=\"green\" height=\"15.84\" width=\"19.8\" x=\"177.1\" y=\"203.28\"/><circle cx=\"198.0\" cy=\"211.2\" fill=\"green\" r=\"1.1\" stroke=\"green\" stroke-width=\"0\"/><text alignment-baseline=\"middle\" fill=\"white\" font-family=\"Futura\" font-size=\"9.24\" text-anchor=\"middle\" x=\"187.0\" y=\"212.52\">86</text><line stroke=\"green\" stroke-width=\"1.32\" x1=\"198.0\" x2=\"198.0\" y1=\"27.72\" y2=\"236.28\"/><text alignment-baseline=\"middle\" fill=\"black\" font-family=\"Futura\" font-size=\"9.24\" text-anchor=\"end\" x=\"171.6\" y=\"238.92\">10b</text><rect fill=\"green\" height=\"15.84\" width=\"19.8\" x=\"177.1\" y=\"229.68\"/><circle cx=\"198.0\" cy=\"237.6\" fill=\"green\" r=\"1.1\" stroke=\"green\" stroke-width=\"0\"/><text alignment-baseline=\"middle\" fill=\"white\" font-family=\"Futura\" font-size=\"9.24\" text-anchor=\"middle\" x=\"187.0\" y=\"238.92\">87</text><line stroke=\"green\" stroke-width=\"1.32\" x1=\"198.0\" x2=\"198.0\" y1=\"27.72\" y2=\"262.68\"/><text alignment-baseline=\"middle\" fill=\"black\" font-family=\"Futura\" font-size=\"9.24\" text-anchor=\"end\" x=\"171.6\" y=\"265.32\">11b</text><rect fill=\"green\" height=\"15.84\" width=\"19.8\" x=\"177.1\" y=\"256.08\"/><circle cx=\"198.0\" cy=\"264.0\" fill=\"green\" r=\"1.1\" stroke=\"green\" stroke-width=\"0\"/><text alignment-baseline=\"middle\" fill=\"white\" font-family=\"Futura\" font-size=\"9.24\" text-anchor=\"middle\" x=\"187.0\" y=\"265.32\">88</text><text alignment-baseline=\"middle\" fill=\"black\" font-family=\"Futura\" font-size=\"9.24\" text-anchor=\"end\" x=\"94.6\" y=\"27.72\">1</text><text alignment-baseline=\"middle\" fill=\"black\" font-family=\"Futura\" font-size=\"9.24\" text-anchor=\"end\" x=\"28.6\" y=\"27.72\">1</text><text alignment-baseline=\"middle\" fill=\"black\" font-family=\"Futura\" font-size=\"9.24\" text-anchor=\"end\" x=\"94.6\" y=\"54.12\">3</text><text alignment-baseline=\"middle\" fill=\"black\" font-family=\"Futura\" font-size=\"9.24\" text-anchor=\"end\" x=\"28.6\" y=\"54.12\">2</text><text alignment-baseline=\"middle\" fill=\"black\" font-family=\"Futura\" font-size=\"9.24\" text-anchor=\"end\" x=\"94.6\" y=\"80.52\">5</text><text alignment-baseline=\"middle\" fill=\"black\" font-family=\"Futura\" font-size=\"9.24\" text-anchor=\"end\" x=\"28.6\" y=\"80.52\">3</text><text alignment-baseline=\"middle\" fill=\"black\" font-family=\"Futura\" font-size=\"9.24\" text-anchor=\"end\" x=\"94.6\" y=\"106.92\">7</text><text alignment-baseline=\"middle\" fill=\"black\" font-family=\"Futura\" font-size=\"9.24\" text-anchor=\"end\" x=\"28.6\" y=\"106.92\">4</text><text alignment-baseline=\"middle\" fill=\"black\" font-family=\"Futura\" font-size=\"9.24\" text-anchor=\"end\" x=\"94.6\" y=\"133.32\">9</text><text alignment-baseline=\"middle\" fill=\"black\" font-family=\"Futura\" font-size=\"9.24\" text-anchor=\"end\" x=\"28.6\" y=\"133.32\">5</text><text alignment-baseline=\"middle\" fill=\"black\" font-family=\"Futura\" font-size=\"9.24\" text-anchor=\"end\" x=\"94.6\" y=\"159.72\">11</text><text alignment-baseline=\"middle\" fill=\"black\" font-family=\"Futura\" font-size=\"9.24\" text-anchor=\"end\" x=\"28.6\" y=\"159.72\">6</text><text alignment-baseline=\"middle\" fill=\"black\" font-family=\"Futura\" font-size=\"9.24\" text-anchor=\"end\" x=\"94.6\" y=\"186.12\">13</text><text alignment-baseline=\"middle\" fill=\"black\" font-family=\"Futura\" font-size=\"9.24\" text-anchor=\"end\" x=\"28.6\" y=\"186.12\">7</text><text alignment-baseline=\"middle\" fill=\"black\" font-family=\"Futura\" font-size=\"9.24\" text-anchor=\"end\" x=\"94.6\" y=\"212.52\">15</text><text alignment-baseline=\"middle\" fill=\"black\" font-family=\"Futura\" font-size=\"9.24\" text-anchor=\"end\" x=\"28.6\" y=\"212.52\">8</text><text alignment-baseline=\"middle\" fill=\"black\" font-family=\"Futura\" font-size=\"9.24\" text-anchor=\"end\" x=\"94.6\" y=\"238.92\">17</text><text alignment-baseline=\"middle\" fill=\"black\" font-family=\"Futura\" font-size=\"9.24\" text-anchor=\"end\" x=\"28.6\" y=\"238.92\">9</text><text alignment-baseline=\"middle\" fill=\"black\" font-family=\"Futura\" font-size=\"9.24\" text-anchor=\"end\" x=\"94.6\" y=\"265.32\">19</text><text alignment-baseline=\"middle\" fill=\"black\" font-family=\"Futura\" font-size=\"9.24\" text-anchor=\"end\" x=\"28.6\" y=\"265.32\">10</text><text alignment-baseline=\"middle\" fill=\"black\" font-family=\"Futura\" font-size=\"9.24\" text-anchor=\"end\" x=\"94.6\" y=\"291.72\">20</text><text alignment-baseline=\"middle\" fill=\"black\" font-family=\"Futura\" font-size=\"9.24\" text-anchor=\"end\" x=\"28.6\" y=\"291.72\">10</text><rect fill=\"black\" height=\"285.12\" width=\"2.2\" x=\"44.0\" y=\"15.84\"/><circle cx=\"44.0\" cy=\"15.84\" fill=\"black\" r=\"1.1\" stroke=\"black\" stroke-width=\"0\"/><rect fill=\"black\" height=\"2.64\" width=\"19.8\" x=\"34.1\" y=\"15.84\"/><circle cx=\"44.0\" cy=\"300.96\" fill=\"black\" r=\"1.1\" stroke=\"black\" stroke-width=\"0\"/><rect fill=\"black\" height=\"2.64\" width=\"19.8\" x=\"34.1\" y=\"298.32\"/><text alignment-baseline=\"middle\" fill=\"black\" font-family=\"Futura\" font-size=\"9.24\" text-anchor=\"middle\" x=\"37.4\" y=\"159.72\"/><rect fill=\"black\" height=\"285.12\" width=\"2.2\" x=\"121.0\" y=\"15.84\"/><circle cx=\"121.0\" cy=\"15.84\" fill=\"black\" r=\"1.1\" stroke=\"black\" stroke-width=\"0\"/><rect fill=\"black\" height=\"2.64\" width=\"19.8\" x=\"111.1\" y=\"15.84\"/><text alignment-baseline=\"middle\" fill=\"black\" font-family=\"Futura\" font-size=\"9.24\" text-anchor=\"middle\" x=\"114.4\" y=\"159.72\"/></svg>"
      ],
      "text/plain": [
       "<IPython.core.display.SVG object>"
      ]
     },
     "execution_count": 6,
     "metadata": {},
     "output_type": "execute_result"
    }
   ],
   "source": [
    "view = tree.renderer\n",
    "view.zoom = 1.1\n",
    "view.scale_y = 24\n",
    "view.scale_x = 20\n",
    "view.font_size = 0.35\n",
    "SVG(view.to_svg())"
   ]
  },
  {
   "cell_type": "markdown",
   "metadata": {},
   "source": [
    "An alternate view which is similar to the standard way of plotting"
   ]
  },
  {
   "cell_type": "code",
   "execution_count": 7,
   "metadata": {
    "collapsed": false
   },
   "outputs": [
    {
     "data": {
      "image/svg+xml": [
       "<svg baseProfile=\"full\" height=\"231.0px\" version=\"1.1\" width=\"316.8px\" xmlns=\"http://www.w3.org/2000/svg\" xmlns:ev=\"http://www.w3.org/2001/xml-events\" xmlns:xlink=\"http://www.w3.org/1999/xlink\"><defs/><text alignment-baseline=\"middle\" fill=\"black\" font-family=\"Times\" font-size=\"8.25\" text-anchor=\"end\" x=\"205.92\" y=\"17.325\">2b</text><rect fill=\"black\" height=\"9.9\" width=\"26.928\" x=\"210.936\" y=\"11.55\"/><circle cx=\"211.2\" cy=\"16.5\" fill=\"black\" r=\"-0.264\" stroke=\"black\" stroke-width=\"0\"/><circle cx=\"237.6\" cy=\"16.5\" fill=\"black\" r=\"-0.264\" stroke=\"black\" stroke-width=\"0\"/><text alignment-baseline=\"middle\" fill=\"white\" font-family=\"Times\" font-size=\"8.25\" text-anchor=\"middle\" x=\"224.4\" y=\"17.325\"/><rect fill=\"black\" height=\"9.9\" width=\"26.928\" x=\"237.336\" y=\"11.55\"/><circle cx=\"237.6\" cy=\"16.5\" fill=\"black\" r=\"-0.264\" stroke=\"black\" stroke-width=\"0\"/><circle cx=\"264.0\" cy=\"16.5\" fill=\"black\" r=\"-0.264\" stroke=\"black\" stroke-width=\"0\"/><text alignment-baseline=\"middle\" fill=\"white\" font-family=\"Times\" font-size=\"8.25\" text-anchor=\"middle\" x=\"250.8\" y=\"17.325\"/><rect fill=\"black\" height=\"9.9\" width=\"26.928\" x=\"263.736\" y=\"11.55\"/><circle cx=\"264.0\" cy=\"16.5\" fill=\"black\" r=\"-0.264\" stroke=\"black\" stroke-width=\"0\"/><circle cx=\"290.4\" cy=\"16.5\" fill=\"black\" r=\"-0.264\" stroke=\"black\" stroke-width=\"0\"/><text alignment-baseline=\"middle\" fill=\"white\" font-family=\"Times\" font-size=\"8.25\" text-anchor=\"middle\" x=\"277.2\" y=\"17.325\"/><line stroke=\"green\" stroke-width=\"1.32\" x1=\"237.6\" x2=\"237.6\" y1=\"16.335\" y2=\"33.165\"/><text alignment-baseline=\"middle\" fill=\"black\" font-family=\"Times\" font-size=\"8.25\" text-anchor=\"end\" x=\"205.92\" y=\"33.825\">3b</text><rect fill=\"green\" height=\"9.9\" width=\"26.928\" x=\"210.936\" y=\"28.05\"/><circle cx=\"211.2\" cy=\"33.0\" fill=\"green\" r=\"-0.264\" stroke=\"green\" stroke-width=\"0\"/><circle cx=\"237.6\" cy=\"33.0\" fill=\"green\" r=\"-0.264\" stroke=\"green\" stroke-width=\"0\"/><text alignment-baseline=\"middle\" fill=\"white\" font-family=\"Times\" font-size=\"8.25\" text-anchor=\"middle\" x=\"224.4\" y=\"33.825\"/><line stroke=\"red\" stroke-width=\"1.32\" x1=\"264.0\" x2=\"264.0\" y1=\"16.335\" y2=\"49.665\"/><text alignment-baseline=\"middle\" fill=\"black\" font-family=\"Times\" font-size=\"8.25\" text-anchor=\"start\" x=\"295.68\" y=\"50.325\">4f</text><rect fill=\"red\" height=\"9.9\" width=\"26.928\" x=\"263.736\" y=\"44.55\"/><circle cx=\"264.0\" cy=\"49.5\" fill=\"red\" r=\"-0.264\" stroke=\"red\" stroke-width=\"0\"/><circle cx=\"290.4\" cy=\"49.5\" fill=\"red\" r=\"-0.264\" stroke=\"red\" stroke-width=\"0\"/><text alignment-baseline=\"middle\" fill=\"white\" font-family=\"Times\" font-size=\"8.25\" text-anchor=\"middle\" x=\"277.2\" y=\"50.325\"/><line stroke=\"green\" stroke-width=\"1.32\" x1=\"237.6\" x2=\"237.6\" y1=\"16.335\" y2=\"66.165\"/><text alignment-baseline=\"middle\" fill=\"black\" font-family=\"Times\" font-size=\"8.25\" text-anchor=\"end\" x=\"205.92\" y=\"66.825\">5b</text><rect fill=\"green\" height=\"9.9\" width=\"26.928\" x=\"210.936\" y=\"61.05\"/><circle cx=\"211.2\" cy=\"66.0\" fill=\"green\" r=\"-0.264\" stroke=\"green\" stroke-width=\"0\"/><circle cx=\"237.6\" cy=\"66.0\" fill=\"green\" r=\"-0.264\" stroke=\"green\" stroke-width=\"0\"/><text alignment-baseline=\"middle\" fill=\"white\" font-family=\"Times\" font-size=\"8.25\" text-anchor=\"middle\" x=\"224.4\" y=\"66.825\"/><line stroke=\"green\" stroke-width=\"1.32\" x1=\"237.6\" x2=\"237.6\" y1=\"16.335\" y2=\"82.665\"/><text alignment-baseline=\"middle\" fill=\"black\" font-family=\"Times\" font-size=\"8.25\" text-anchor=\"end\" x=\"205.92\" y=\"83.325\">6b</text><rect fill=\"green\" height=\"9.9\" width=\"26.928\" x=\"210.936\" y=\"77.55\"/><circle cx=\"211.2\" cy=\"82.5\" fill=\"green\" r=\"-0.264\" stroke=\"green\" stroke-width=\"0\"/><circle cx=\"237.6\" cy=\"82.5\" fill=\"green\" r=\"-0.264\" stroke=\"green\" stroke-width=\"0\"/><text alignment-baseline=\"middle\" fill=\"white\" font-family=\"Times\" font-size=\"8.25\" text-anchor=\"middle\" x=\"224.4\" y=\"83.325\"/><line stroke=\"green\" stroke-width=\"1.32\" x1=\"237.6\" x2=\"237.6\" y1=\"16.335\" y2=\"99.165\"/><text alignment-baseline=\"middle\" fill=\"black\" font-family=\"Times\" font-size=\"8.25\" text-anchor=\"end\" x=\"205.92\" y=\"99.825\">7b</text><rect fill=\"green\" height=\"9.9\" width=\"26.928\" x=\"210.936\" y=\"94.05\"/><circle cx=\"211.2\" cy=\"99.0\" fill=\"green\" r=\"-0.264\" stroke=\"green\" stroke-width=\"0\"/><circle cx=\"237.6\" cy=\"99.0\" fill=\"green\" r=\"-0.264\" stroke=\"green\" stroke-width=\"0\"/><text alignment-baseline=\"middle\" fill=\"white\" font-family=\"Times\" font-size=\"8.25\" text-anchor=\"middle\" x=\"224.4\" y=\"99.825\"/><line stroke=\"red\" stroke-width=\"1.32\" x1=\"264.0\" x2=\"264.0\" y1=\"16.335\" y2=\"115.665\"/><text alignment-baseline=\"middle\" fill=\"black\" font-family=\"Times\" font-size=\"8.25\" text-anchor=\"start\" x=\"295.68\" y=\"116.325\">8f</text><rect fill=\"red\" height=\"9.9\" width=\"26.928\" x=\"263.736\" y=\"110.55\"/><circle cx=\"264.0\" cy=\"115.5\" fill=\"red\" r=\"-0.264\" stroke=\"red\" stroke-width=\"0\"/><circle cx=\"290.4\" cy=\"115.5\" fill=\"red\" r=\"-0.264\" stroke=\"red\" stroke-width=\"0\"/><text alignment-baseline=\"middle\" fill=\"white\" font-family=\"Times\" font-size=\"8.25\" text-anchor=\"middle\" x=\"277.2\" y=\"116.325\"/><line stroke=\"green\" stroke-width=\"1.32\" x1=\"237.6\" x2=\"237.6\" y1=\"16.335\" y2=\"132.165\"/><text alignment-baseline=\"middle\" fill=\"black\" font-family=\"Times\" font-size=\"8.25\" text-anchor=\"end\" x=\"205.92\" y=\"132.825\">9b</text><rect fill=\"green\" height=\"9.9\" width=\"26.928\" x=\"210.936\" y=\"127.05\"/><circle cx=\"211.2\" cy=\"132.0\" fill=\"green\" r=\"-0.264\" stroke=\"green\" stroke-width=\"0\"/><circle cx=\"237.6\" cy=\"132.0\" fill=\"green\" r=\"-0.264\" stroke=\"green\" stroke-width=\"0\"/><text alignment-baseline=\"middle\" fill=\"white\" font-family=\"Times\" font-size=\"8.25\" text-anchor=\"middle\" x=\"224.4\" y=\"132.825\"/><line stroke=\"green\" stroke-width=\"1.32\" x1=\"237.6\" x2=\"237.6\" y1=\"16.335\" y2=\"148.665\"/><text alignment-baseline=\"middle\" fill=\"black\" font-family=\"Times\" font-size=\"8.25\" text-anchor=\"end\" x=\"205.92\" y=\"149.325\">10b</text><rect fill=\"green\" height=\"9.9\" width=\"26.928\" x=\"210.936\" y=\"143.55\"/><circle cx=\"211.2\" cy=\"148.5\" fill=\"green\" r=\"-0.264\" stroke=\"green\" stroke-width=\"0\"/><circle cx=\"237.6\" cy=\"148.5\" fill=\"green\" r=\"-0.264\" stroke=\"green\" stroke-width=\"0\"/><text alignment-baseline=\"middle\" fill=\"white\" font-family=\"Times\" font-size=\"8.25\" text-anchor=\"middle\" x=\"224.4\" y=\"149.325\"/><line stroke=\"green\" stroke-width=\"1.32\" x1=\"237.6\" x2=\"237.6\" y1=\"16.335\" y2=\"165.165\"/><text alignment-baseline=\"middle\" fill=\"black\" font-family=\"Times\" font-size=\"8.25\" text-anchor=\"end\" x=\"205.92\" y=\"165.825\">11b</text><rect fill=\"green\" height=\"9.9\" width=\"26.928\" x=\"210.936\" y=\"160.05\"/><circle cx=\"211.2\" cy=\"165.0\" fill=\"green\" r=\"-0.264\" stroke=\"green\" stroke-width=\"0\"/><circle cx=\"237.6\" cy=\"165.0\" fill=\"green\" r=\"-0.264\" stroke=\"green\" stroke-width=\"0\"/><text alignment-baseline=\"middle\" fill=\"white\" font-family=\"Times\" font-size=\"8.25\" text-anchor=\"middle\" x=\"224.4\" y=\"165.825\"/><text alignment-baseline=\"middle\" fill=\"black\" font-family=\"Times\" font-size=\"8.25\" text-anchor=\"end\" x=\"113.52\" y=\"17.325\">1</text><text alignment-baseline=\"middle\" fill=\"black\" font-family=\"Times\" font-size=\"8.25\" text-anchor=\"end\" x=\"34.32\" y=\"17.325\">1</text><text alignment-baseline=\"middle\" fill=\"black\" font-family=\"Times\" font-size=\"8.25\" text-anchor=\"end\" x=\"113.52\" y=\"33.825\">3</text><text alignment-baseline=\"middle\" fill=\"black\" font-family=\"Times\" font-size=\"8.25\" text-anchor=\"end\" x=\"34.32\" y=\"33.825\">2</text><text alignment-baseline=\"middle\" fill=\"black\" font-family=\"Times\" font-size=\"8.25\" text-anchor=\"end\" x=\"113.52\" y=\"50.325\">5</text><text alignment-baseline=\"middle\" fill=\"black\" font-family=\"Times\" font-size=\"8.25\" text-anchor=\"end\" x=\"34.32\" y=\"50.325\">3</text><text alignment-baseline=\"middle\" fill=\"black\" font-family=\"Times\" font-size=\"8.25\" text-anchor=\"end\" x=\"113.52\" y=\"66.825\">7</text><text alignment-baseline=\"middle\" fill=\"black\" font-family=\"Times\" font-size=\"8.25\" text-anchor=\"end\" x=\"34.32\" y=\"66.825\">4</text><text alignment-baseline=\"middle\" fill=\"black\" font-family=\"Times\" font-size=\"8.25\" text-anchor=\"end\" x=\"113.52\" y=\"83.325\">9</text><text alignment-baseline=\"middle\" fill=\"black\" font-family=\"Times\" font-size=\"8.25\" text-anchor=\"end\" x=\"34.32\" y=\"83.325\">5</text><text alignment-baseline=\"middle\" fill=\"black\" font-family=\"Times\" font-size=\"8.25\" text-anchor=\"end\" x=\"113.52\" y=\"99.825\">11</text><text alignment-baseline=\"middle\" fill=\"black\" font-family=\"Times\" font-size=\"8.25\" text-anchor=\"end\" x=\"34.32\" y=\"99.825\">6</text><text alignment-baseline=\"middle\" fill=\"black\" font-family=\"Times\" font-size=\"8.25\" text-anchor=\"end\" x=\"113.52\" y=\"116.325\">13</text><text alignment-baseline=\"middle\" fill=\"black\" font-family=\"Times\" font-size=\"8.25\" text-anchor=\"end\" x=\"34.32\" y=\"116.325\">7</text><text alignment-baseline=\"middle\" fill=\"black\" font-family=\"Times\" font-size=\"8.25\" text-anchor=\"end\" x=\"113.52\" y=\"132.825\">15</text><text alignment-baseline=\"middle\" fill=\"black\" font-family=\"Times\" font-size=\"8.25\" text-anchor=\"end\" x=\"34.32\" y=\"132.825\">8</text><text alignment-baseline=\"middle\" fill=\"black\" font-family=\"Times\" font-size=\"8.25\" text-anchor=\"end\" x=\"113.52\" y=\"149.325\">17</text><text alignment-baseline=\"middle\" fill=\"black\" font-family=\"Times\" font-size=\"8.25\" text-anchor=\"end\" x=\"34.32\" y=\"149.325\">9</text><text alignment-baseline=\"middle\" fill=\"black\" font-family=\"Times\" font-size=\"8.25\" text-anchor=\"end\" x=\"113.52\" y=\"165.825\">19</text><text alignment-baseline=\"middle\" fill=\"black\" font-family=\"Times\" font-size=\"8.25\" text-anchor=\"end\" x=\"34.32\" y=\"165.825\">10</text><text alignment-baseline=\"middle\" fill=\"black\" font-family=\"Times\" font-size=\"8.25\" text-anchor=\"end\" x=\"113.52\" y=\"182.325\">20</text><text alignment-baseline=\"middle\" fill=\"black\" font-family=\"Times\" font-size=\"8.25\" text-anchor=\"end\" x=\"34.32\" y=\"182.325\">10</text><rect fill=\"black\" height=\"178.2\" width=\"2.64\" x=\"52.8\" y=\"9.9\"/><circle cx=\"52.8\" cy=\"9.9\" fill=\"black\" r=\"-0.264\" stroke=\"black\" stroke-width=\"0\"/><rect fill=\"black\" height=\"1.65\" width=\"26.928\" x=\"39.336\" y=\"9.9\"/><circle cx=\"52.8\" cy=\"188.1\" fill=\"black\" r=\"-0.264\" stroke=\"black\" stroke-width=\"0\"/><rect fill=\"black\" height=\"1.65\" width=\"26.928\" x=\"39.336\" y=\"186.45\"/><text alignment-baseline=\"middle\" fill=\"black\" font-family=\"Times\" font-size=\"8.25\" text-anchor=\"middle\" x=\"44.88\" y=\"99.825\"/><rect fill=\"black\" height=\"178.2\" width=\"2.64\" x=\"145.2\" y=\"9.9\"/><circle cx=\"145.2\" cy=\"9.9\" fill=\"black\" r=\"-0.264\" stroke=\"black\" stroke-width=\"0\"/><rect fill=\"black\" height=\"1.65\" width=\"26.928\" x=\"131.736\" y=\"9.9\"/><text alignment-baseline=\"middle\" fill=\"black\" font-family=\"Times\" font-size=\"8.25\" text-anchor=\"middle\" x=\"137.28\" y=\"99.825\"/></svg>"
      ],
      "text/plain": [
       "<IPython.core.display.SVG object>"
      ]
     },
     "execution_count": 7,
     "metadata": {},
     "output_type": "execute_result"
    }
   ],
   "source": [
    "tree.rejected = False\n",
    "tree.states = []\n",
    "tree.op = None\n",
    "tree.from_samples(samps)\n",
    "view = tree.renderer\n",
    "view.zoom = 1.1\n",
    "view.horizontal_gap = -0.01\n",
    "view.scale_y = 15\n",
    "view.scale_x = 24\n",
    "view.font_size = 0.5\n",
    "view.font_family = 'Times'\n",
    "SVG(view.to_svg())"
   ]
  },
  {
   "cell_type": "markdown",
   "metadata": {},
   "source": [
    "### Phi/Psi Plots"
   ]
  },
  {
   "cell_type": "code",
   "execution_count": 8,
   "metadata": {
    "collapsed": false
   },
   "outputs": [],
   "source": [
    "# Imports for plotting\n",
    "%matplotlib inline\n",
    "import matplotlib\n",
    "import matplotlib.pyplot as plt\n",
    "import matplotlib.pylab as pylab\n",
    "from matplotlib.legend_handler import HandlerLine2D"
   ]
  },
  {
   "cell_type": "markdown",
   "metadata": {},
   "source": [
    "Make sure that all phi/psi values have been computed!"
   ]
  },
  {
   "cell_type": "code",
   "execution_count": 9,
   "metadata": {
    "collapsed": false
   },
   "outputs": [],
   "source": [
    "psi = storage.cvs['psi']\n",
    "phi = storage.cvs['phi']\n",
    "opA = storage.cvs['StateA']"
   ]
  },
  {
   "cell_type": "code",
   "execution_count": 10,
   "metadata": {
    "collapsed": false
   },
   "outputs": [
    {
     "data": {
      "text/plain": [
       "[<openpathsampling.collectivevariable.CV_MDTraj_Function at 0x127740090>,\n",
       " <openpathsampling.collectivevariable.CV_Volume at 0x129d97cd0>,\n",
       " <openpathsampling.collectivevariable.CV_Volume at 0x129e74cd0>,\n",
       " <openpathsampling.collectivevariable.CV_Volume at 0x129d9b110>,\n",
       " <openpathsampling.collectivevariable.CV_MDTraj_Function at 0x129d97750>,\n",
       " <openpathsampling.collectivevariable.CV_Function at 0x1258f6950>]"
      ]
     },
     "execution_count": 10,
     "metadata": {},
     "output_type": "execute_result"
    }
   ],
   "source": [
    "storage.cvs.index.keys()"
   ]
  },
  {
   "cell_type": "code",
   "execution_count": 11,
   "metadata": {
    "collapsed": false
   },
   "outputs": [
    {
     "data": {
      "text/plain": [
       "{'StateA': {3},\n",
       " 'StateB': {4},\n",
       " 'StateX': {5},\n",
       " 'phi': {1},\n",
       " 'psi': {2},\n",
       " 'psi2': {0}}"
      ]
     },
     "execution_count": 11,
     "metadata": {},
     "output_type": "execute_result"
    }
   ],
   "source": [
    "storage.cvs.name_idx"
   ]
  },
  {
   "cell_type": "code",
   "execution_count": 12,
   "metadata": {
    "collapsed": false
   },
   "outputs": [
    {
     "ename": "NameError",
     "evalue": "name 'np' is not defined",
     "output_type": "error",
     "traceback": [
      "\u001b[0;31m---------------------------------------------------------------------------\u001b[0m",
      "\u001b[0;31mNameError\u001b[0m                                 Traceback (most recent call last)",
      "\u001b[0;32m<ipython-input-12-00c1345005b0>\u001b[0m in \u001b[0;36m<module>\u001b[0;34m()\u001b[0m\n\u001b[1;32m      2\u001b[0m \u001b[0;34m\u001b[0m\u001b[0m\n\u001b[1;32m      3\u001b[0m \u001b[0;32mfor\u001b[0m \u001b[0mtraj\u001b[0m \u001b[0;32min\u001b[0m \u001b[0mstorage\u001b[0m\u001b[0;34m.\u001b[0m\u001b[0mtrajectories\u001b[0m\u001b[0;34m[\u001b[0m\u001b[0;36m1\u001b[0m\u001b[0;34m:\u001b[0m\u001b[0;34m]\u001b[0m\u001b[0;34m:\u001b[0m\u001b[0;34m\u001b[0m\u001b[0m\n\u001b[0;32m----> 4\u001b[0;31m     \u001b[0mphi_angles\u001b[0m \u001b[0;34m=\u001b[0m \u001b[0mnp\u001b[0m\u001b[0;34m.\u001b[0m\u001b[0marray\u001b[0m\u001b[0;34m(\u001b[0m\u001b[0mphi\u001b[0m\u001b[0;34m(\u001b[0m\u001b[0mtraj\u001b[0m\u001b[0;34m)\u001b[0m\u001b[0;34m)\u001b[0m\u001b[0;34m.\u001b[0m\u001b[0mflatten\u001b[0m\u001b[0;34m(\u001b[0m\u001b[0;34m)\u001b[0m \u001b[0;34m/\u001b[0m \u001b[0mdeg\u001b[0m\u001b[0;34m\u001b[0m\u001b[0m\n\u001b[0m\u001b[1;32m      5\u001b[0m     \u001b[0mpsi_angles\u001b[0m \u001b[0;34m=\u001b[0m \u001b[0mnp\u001b[0m\u001b[0;34m.\u001b[0m\u001b[0marray\u001b[0m\u001b[0;34m(\u001b[0m\u001b[0mpsi\u001b[0m\u001b[0;34m(\u001b[0m\u001b[0mtraj\u001b[0m\u001b[0;34m)\u001b[0m\u001b[0;34m)\u001b[0m\u001b[0;34m.\u001b[0m\u001b[0mflatten\u001b[0m\u001b[0;34m(\u001b[0m\u001b[0;34m)\u001b[0m \u001b[0;34m/\u001b[0m \u001b[0mdeg\u001b[0m\u001b[0;34m\u001b[0m\u001b[0m\n\u001b[1;32m      6\u001b[0m     \u001b[0mplt\u001b[0m\u001b[0;34m.\u001b[0m\u001b[0mplot\u001b[0m\u001b[0;34m(\u001b[0m\u001b[0mphi_angles\u001b[0m\u001b[0;34m,\u001b[0m \u001b[0mpsi_angles\u001b[0m\u001b[0;34m,\u001b[0m \u001b[0;34m'ro'\u001b[0m\u001b[0;34m,\u001b[0m \u001b[0mlinewidth\u001b[0m\u001b[0;34m=\u001b[0m\u001b[0;36m1\u001b[0m\u001b[0;34m)\u001b[0m\u001b[0;34m;\u001b[0m\u001b[0;34m\u001b[0m\u001b[0m\n",
      "\u001b[0;31mNameError\u001b[0m: name 'np' is not defined"
     ]
    },
    {
     "data": {
      "text/plain": [
       "<matplotlib.figure.Figure at 0x129ae8a50>"
      ]
     },
     "metadata": {},
     "output_type": "display_data"
    }
   ],
   "source": [
    "plt.figure(figsize=(8, 8))\n",
    "\n",
    "for traj in storage.trajectories[1:]:\n",
    "    phi_angles = np.array(phi(traj)).flatten() / deg\n",
    "    psi_angles = np.array(psi(traj)).flatten() / deg\n",
    "    plt.plot(phi_angles, psi_angles, 'ro', linewidth=1);\n",
    "    \n",
    "plt.xlim(-180, 180);\n",
    "plt.ylim(-180, 180);"
   ]
  },
  {
   "cell_type": "code",
   "execution_count": 48,
   "metadata": {
    "collapsed": false
   },
   "outputs": [
    {
     "data": {
      "image/png": "[encoded data removed]",
      "text/plain": [
       "<matplotlib.figure.Figure at 0x12f4a5ed0>"
      ]
     },
     "metadata": {},
     "output_type": "display_data"
    }
   ],
   "source": [
    "plt.figure(figsize=(8, 8))\n",
    "\n",
    "\n",
    "for traj in storage.trajectories[1:]:\n",
    "    phi_angles = np.array(phi(traj)).flatten() / deg\n",
    "    psi_angles = np.array(psi(traj)).flatten() / deg\n",
    "    plt.plot(phi_angles, psi_angles, 'k-', linewidth=1);\n",
    "    for idx, snapshot in enumerate(traj):\n",
    "        if opA(snapshot):\n",
    "            plt.plot(phi_angles[idx], psi_angles[idx], 'bo', linewidth=1);\n",
    "        \n",
    "plt.xlim(-180, 180);\n",
    "plt.ylim(-180, 180);"
   ]
  },
  {
   "cell_type": "code",
   "execution_count": 49,
   "metadata": {
    "collapsed": true
   },
   "outputs": [],
   "source": [
    "#! skip\n",
    "#storage.close()"
   ]
  },
  {
   "cell_type": "code",
   "execution_count": null,
   "metadata": {
    "collapsed": true
   },
   "outputs": [],
   "source": []
  }
 ],
 "metadata": {
  "kernelspec": {
   "display_name": "Python 2",
   "language": "python",
   "name": "python2"
  },
  "language_info": {
   "codemirror_mode": {
    "name": "ipython",
    "version": 2
   },
   "file_extension": ".py",
   "mimetype": "text/x-python",
   "name": "python",
   "nbconvert_exporter": "python",
   "pygments_lexer": "ipython2",
   "version": "2.7.11"
  }
 },
 "nbformat": 4,
 "nbformat_minor": 0
}

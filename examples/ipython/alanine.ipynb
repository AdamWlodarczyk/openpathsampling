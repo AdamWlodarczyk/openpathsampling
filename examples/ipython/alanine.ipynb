{
 "cells": [
  {
   "cell_type": "markdown",
   "metadata": {},
   "source": [
    "# OPENTIS\n",
    "## An Example with Alanine"
   ]
  },
  {
   "cell_type": "markdown",
   "metadata": {},
   "source": [
    "Import Modules"
   ]
  },
  {
   "cell_type": "code",
   "execution_count": 1,
   "metadata": {
    "collapsed": false
   },
   "outputs": [],
   "source": [
    "import numpy as np\n",
    "import mdtraj as md\n",
    "import pandas as pd\n",
    "import time\n",
    "import sys, os\n",
    " \n",
    "# in principle, all of these imports should be simplified once this is a package\n",
    "from openpathsampling.collectivevariable import CV_Function, CV_Volume, CV_MDTraj_Function\n",
    "from openpathsampling.snapshot import Snapshot\n",
    "from openpathsampling.volume import CVRangeVolumePeriodic, VolumeFactory as vf\n",
    "from openpathsampling.pathmover import PathMoverFactory as mf\n",
    "from openpathsampling.ensemble import EnsembleFactory as ef\n",
    "from openpathsampling.ensemble import (LengthEnsemble, SequentialEnsemble, AllOutXEnsemble,\n",
    "                      AllInXEnsemble, PartInXEnsemble, PartOutXEnsemble)\n",
    "from openpathsampling.storage import Storage\n",
    "from openpathsampling.trajectory import Trajectory\n",
    "from openpathsampling.pathsimulator import Bootstrapping\n",
    "from openpathsampling.shooting import UniformSelector\n",
    "from openpathsampling.pathmover import PathMover, SampleMover\n",
    "import simtk.unit as u\n",
    "\n",
    "from openpathsampling.openmm_engine import OpenMMEngine\n",
    "\n",
    "from openpathsampling.storage import Storage\n",
    "from openpathsampling.visualize import PathTreeBuilder\n",
    "from IPython.display import SVG\n",
    "\n",
    "import openpathsampling as paths"
   ]
  },
  {
   "cell_type": "markdown",
   "metadata": {},
   "source": [
    "Radians to Degree conversion"
   ]
  },
  {
   "cell_type": "code",
   "execution_count": 2,
   "metadata": {
    "collapsed": true
   },
   "outputs": [],
   "source": [
    "degrees = 180/3.14159 # psi reports in radians; I think in degrees"
   ]
  },
  {
   "cell_type": "markdown",
   "metadata": {},
   "source": [
    "Create an AlanineOpenMMSimulator for demonstration purposes"
   ]
  },
  {
   "cell_type": "markdown",
   "metadata": {},
   "source": [
    "### Set simulation options and create a simulator object"
   ]
  },
  {
   "cell_type": "code",
   "execution_count": 3,
   "metadata": {
    "collapsed": true
   },
   "outputs": [],
   "source": [
    "template = paths.tools.snapshot_from_pdb(\"../data/Alanine_solvated.pdb\")"
   ]
  },
  {
   "cell_type": "code",
   "execution_count": 4,
   "metadata": {
    "collapsed": false
   },
   "outputs": [],
   "source": [
    "storage = Storage(filename=\"trajectory.nc\", template=template, mode='w')"
   ]
  },
  {
   "cell_type": "code",
   "execution_count": 5,
   "metadata": {
    "collapsed": true
   },
   "outputs": [],
   "source": [
    "options = {\n",
    "            'temperature' : 300.0 * u.kelvin,\n",
    "            'collision_rate' : 1.0 / u.picoseconds,\n",
    "            'timestep' : 2.0 * u.femtoseconds,\n",
    "            'nsteps_per_frame' : 10,\n",
    "            'n_frames_max' : 5000,\n",
    "            'platform' : 'fastest',\n",
    "            'solute_indices' : range(22),\n",
    "            'forcefield_solute' : 'amber96.xml',\n",
    "            'forcefield_solvent' : 'tip3p.xml'\n",
    " }"
   ]
  },
  {
   "cell_type": "code",
   "execution_count": 6,
   "metadata": {
    "collapsed": true
   },
   "outputs": [],
   "source": [
    "engine = paths.SimpleOpenMMEngine(template=template, options=options)\n",
    "engine.create()\n",
    "storage.save(engine)"
   ]
  },
  {
   "cell_type": "markdown",
   "metadata": {},
   "source": [
    "And save the storage in a separate variable for convenience"
   ]
  },
  {
   "cell_type": "code",
   "execution_count": 7,
   "metadata": {
    "collapsed": false
   },
   "outputs": [],
   "source": [
    "paths.EngineMover.engine = engine"
   ]
  },
  {
   "cell_type": "code",
   "execution_count": 8,
   "metadata": {
    "collapsed": true
   },
   "outputs": [],
   "source": [
    "storage.set_caching_mode('lowmemory')"
   ]
  },
  {
   "cell_type": "markdown",
   "metadata": {},
   "source": [
    "Equilibrate"
   ]
  },
  {
   "cell_type": "code",
   "execution_count": 9,
   "metadata": {
    "collapsed": false
   },
   "outputs": [],
   "source": [
    "engine.current_snapshot = engine.template\n",
    "engine.equilibrate(5)"
   ]
  },
  {
   "cell_type": "markdown",
   "metadata": {},
   "source": [
    "Save equilibrated snapshot with index 0"
   ]
  },
  {
   "cell_type": "code",
   "execution_count": 10,
   "metadata": {
    "collapsed": true
   },
   "outputs": [],
   "source": [
    "storage.save(engine.current_snapshot);"
   ]
  },
  {
   "cell_type": "markdown",
   "metadata": {},
   "source": [
    "### Order Parameters"
   ]
  },
  {
   "cell_type": "markdown",
   "metadata": {},
   "source": [
    "this generates an order parameter (callable) object named psi (so if we call `psi(trajectory)` we get a list of the values of psi for each frame in the trajectory). This particular order parameter uses mdtraj's compute_dihedrals function, with the atoms in psi_atoms"
   ]
  },
  {
   "cell_type": "code",
   "execution_count": 11,
   "metadata": {
    "collapsed": false
   },
   "outputs": [],
   "source": [
    "psi_atoms = [6,8,14,16]\n",
    "psi = CV_MDTraj_Function(\"psi\", md.compute_dihedrals, indices=[psi_atoms])\n",
    "\n",
    "phi_atoms = [4,6,8,14]\n",
    "phi = CV_MDTraj_Function(\"phi\", md.compute_dihedrals, indices=[phi_atoms])"
   ]
  },
  {
   "cell_type": "code",
   "execution_count": 12,
   "metadata": {
    "collapsed": false
   },
   "outputs": [],
   "source": [
    "storage.save([psi, phi]);"
   ]
  },
  {
   "cell_type": "markdown",
   "metadata": {},
   "source": [
    "### Volumes"
   ]
  },
  {
   "cell_type": "markdown",
   "metadata": {},
   "source": [
    "This creates two states using a one-dimensional order parameter (called _Lambda_ in TIS terminology). A snapshot is in the State as long as the order parameter is with specific bounds. "
   ]
  },
  {
   "cell_type": "code",
   "execution_count": 13,
   "metadata": {
    "collapsed": true
   },
   "outputs": [],
   "source": [
    "stateA = CVRangeVolumePeriodic(\n",
    "    collectivevariable=psi, \n",
    "    lambda_min=-120.0/degrees, \n",
    "    lambda_max=-30.0/degrees, \n",
    "    period_min=-180.0/degrees, \n",
    "    period_max=+180.0/degrees\n",
    ")\n",
    "stateB = CVRangeVolumePeriodic(psi, 100/degrees, 180/degrees, -180.0/degrees, +180.0/degrees)"
   ]
  },
  {
   "cell_type": "markdown",
   "metadata": {},
   "source": [
    "Now do the same for a set of lambda ranges to produce nested volumes."
   ]
  },
  {
   "cell_type": "code",
   "execution_count": 14,
   "metadata": {
    "collapsed": false
   },
   "outputs": [],
   "source": [
    "minima = map((1.0 / degrees).__mul__,\n",
    "             [-125, -135, -140, -142.5, -145.0, -147.0, -150.0])\n",
    "\n",
    "maxima = map((1.0 / degrees).__mul__,\n",
    "             [-25.0, -21.0, -18.5, -17.0, -15.0, -10.0, 0.0])\n",
    "\n",
    "volume_set = vf.CVRangeVolumePeriodicSet(psi, minima, maxima, -180.0/degrees, +180.0/degrees)"
   ]
  },
  {
   "cell_type": "markdown",
   "metadata": {},
   "source": [
    "### Ensembles"
   ]
  },
  {
   "cell_type": "markdown",
   "metadata": {},
   "source": [
    "Now do this automatically for all ensembles"
   ]
  },
  {
   "cell_type": "code",
   "execution_count": 15,
   "metadata": {
    "collapsed": true
   },
   "outputs": [],
   "source": [
    "interface0 = volume_set[0]\n",
    "interface_set = ef.TISEnsembleSet(stateA, stateA | stateB, volume_set, psi)\n",
    "for no, interface in enumerate(interface_set):\n",
    "    # Give each interface a name\n",
    "    interface.name = 'Interface '+str(no)\n",
    "    # And save all of these\n",
    "    storage.ensembles.save(interface)"
   ]
  },
  {
   "cell_type": "markdown",
   "metadata": {},
   "source": [
    "And create a special ensemble, that will create a first trajectory in the innermost TIS ensemble independent from where we start"
   ]
  },
  {
   "cell_type": "markdown",
   "metadata": {},
   "source": [
    "The idea is to describe a trajectory type by a sequence of positions. First can be outside of stateA or not, then be inside stateA, etc..."
   ]
  },
  {
   "cell_type": "code",
   "execution_count": 16,
   "metadata": {
    "collapsed": true
   },
   "outputs": [],
   "source": [
    "first_traj_ensemble = SequentialEnsemble([\n",
    "    AllOutXEnsemble(stateA) | LengthEnsemble(0),\n",
    "    AllInXEnsemble(stateA),\n",
    "    (AllOutXEnsemble(stateA) & AllInXEnsemble(interface0)) | LengthEnsemble(0),\n",
    "    AllInXEnsemble(interface0) | LengthEnsemble(0),\n",
    "    AllOutXEnsemble(interface0),\n",
    "    AllOutXEnsemble(stateA) | LengthEnsemble(0),\n",
    "    AllInXEnsemble(stateA) & LengthEnsemble(1)\n",
    "])"
   ]
  },
  {
   "cell_type": "code",
   "execution_count": 17,
   "metadata": {
    "collapsed": false
   },
   "outputs": [
    {
     "name": "stdout",
     "output_type": "stream",
     "text": [
      "OpenCL\n"
     ]
    }
   ],
   "source": [
    "platform = engine.simulation.context.getPlatform()\n",
    "print platform.getName()"
   ]
  },
  {
   "cell_type": "markdown",
   "metadata": {},
   "source": [
    "### start path generation"
   ]
  },
  {
   "cell_type": "markdown",
   "metadata": {},
   "source": [
    "so lets try and see if we can generate a first path"
   ]
  },
  {
   "cell_type": "markdown",
   "metadata": {},
   "source": [
    "load the initial snapshot (although we still have it) and generate using the Alanine simulator. The second option specifies a function : trajectory -> bool that keeps the simulation running as long as it is true. Our goal was to generate a path that belongs to a specific ensemble, so we use `forward` to determine if it makes sense to keep running or if the result cannot belong to the ensemble anymore."
   ]
  },
  {
   "cell_type": "code",
   "execution_count": 18,
   "metadata": {
    "collapsed": false
   },
   "outputs": [],
   "source": [
    "snapshot = storage.load(Snapshot, 0)\n",
    "total_path = engine.generate(\n",
    "    snapshot= snapshot, \n",
    "    running = [first_traj_ensemble.can_append]\n",
    ")"
   ]
  },
  {
   "cell_type": "markdown",
   "metadata": {},
   "source": [
    "Show the length"
   ]
  },
  {
   "cell_type": "code",
   "execution_count": 19,
   "metadata": {
    "collapsed": false
   },
   "outputs": [
    {
     "name": "stdout",
     "output_type": "stream",
     "text": [
      "Total trajectory length:  69\n"
     ]
    }
   ],
   "source": [
    "print \"Total trajectory length: \", len(total_path)"
   ]
  },
  {
   "cell_type": "markdown",
   "metadata": {},
   "source": [
    "And save the trajetory completely"
   ]
  },
  {
   "cell_type": "code",
   "execution_count": 20,
   "metadata": {
    "collapsed": true
   },
   "outputs": [],
   "source": [
    "storage.save(total_path);"
   ]
  },
  {
   "cell_type": "markdown",
   "metadata": {},
   "source": [
    "Split the trajectory into parts that belong to the TIS ensemble (not the one we generated)"
   ]
  },
  {
   "cell_type": "code",
   "execution_count": 21,
   "metadata": {
    "collapsed": false
   },
   "outputs": [
    {
     "name": "stdout",
     "output_type": "stream",
     "text": [
      "Traj in first_traj_ensemble? (should be) True\n",
      "Traj in TIS ensemble? (probably not) False\n",
      "Number of segments in TIS ensemble:  1\n",
      "Length of each segment:\n",
      "  seg[0]: 14\n"
     ]
    }
   ],
   "source": [
    "interface0_ensemble = interface_set[0]\n",
    "segments = interface0_ensemble.split(total_path)\n",
    "\n",
    "print \"Traj in first_traj_ensemble? (should be)\", \n",
    "print first_traj_ensemble(total_path)\n",
    "\n",
    "print \"Traj in TIS ensemble? (probably not)\", \n",
    "print interface0_ensemble(total_path)\n",
    "\n",
    "\n",
    "print \"Number of segments in TIS ensemble: \", len(segments)\n",
    "if len(segments):\n",
    "    print \"Length of each segment:\"\n",
    "    for i in range(len(segments)):\n",
    "        print \"  seg[{0}]: {1}\".format(i, len(segments[i]))"
   ]
  },
  {
   "cell_type": "markdown",
   "metadata": {},
   "source": [
    "Show some results and check if this worked"
   ]
  },
  {
   "cell_type": "code",
   "execution_count": 22,
   "metadata": {
    "collapsed": false
   },
   "outputs": [
    {
     "data": {
      "text/html": [
       "<div>\n",
       "<table border=\"1\" class=\"dataframe\">\n",
       "  <thead>\n",
       "    <tr style=\"text-align: right;\">\n",
       "      <th></th>\n",
       "      <th>phi</th>\n",
       "      <th>psi</th>\n",
       "      <th>stateA</th>\n",
       "      <th>interface0</th>\n",
       "      <th>stateB</th>\n",
       "      <th>appendable</th>\n",
       "    </tr>\n",
       "  </thead>\n",
       "  <tbody>\n",
       "    <tr>\n",
       "      <th>0</th>\n",
       "      <td>-80.208523</td>\n",
       "      <td>-10.277041</td>\n",
       "      <td>False</td>\n",
       "      <td>False</td>\n",
       "      <td>False</td>\n",
       "      <td>True</td>\n",
       "    </tr>\n",
       "    <tr>\n",
       "      <th>1</th>\n",
       "      <td>-83.520416</td>\n",
       "      <td>-10.196497</td>\n",
       "      <td>False</td>\n",
       "      <td>False</td>\n",
       "      <td>False</td>\n",
       "      <td>True</td>\n",
       "    </tr>\n",
       "    <tr>\n",
       "      <th>2</th>\n",
       "      <td>-78.415617</td>\n",
       "      <td>-11.632894</td>\n",
       "      <td>False</td>\n",
       "      <td>False</td>\n",
       "      <td>False</td>\n",
       "      <td>True</td>\n",
       "    </tr>\n",
       "    <tr>\n",
       "      <th>66</th>\n",
       "      <td>-114.633757</td>\n",
       "      <td>-24.167677</td>\n",
       "      <td>False</td>\n",
       "      <td>False</td>\n",
       "      <td>False</td>\n",
       "      <td>True</td>\n",
       "    </tr>\n",
       "    <tr>\n",
       "      <th>67</th>\n",
       "      <td>-116.698744</td>\n",
       "      <td>-27.493329</td>\n",
       "      <td>False</td>\n",
       "      <td>True</td>\n",
       "      <td>False</td>\n",
       "      <td>True</td>\n",
       "    </tr>\n",
       "    <tr>\n",
       "      <th>68</th>\n",
       "      <td>-117.685980</td>\n",
       "      <td>-35.946223</td>\n",
       "      <td>True</td>\n",
       "      <td>True</td>\n",
       "      <td>False</td>\n",
       "      <td>False</td>\n",
       "    </tr>\n",
       "  </tbody>\n",
       "</table>\n",
       "</div>"
      ],
      "text/plain": [
       "           phi        psi stateA interface0 stateB appendable\n",
       "0   -80.208523 -10.277041  False      False  False       True\n",
       "1   -83.520416 -10.196497  False      False  False       True\n",
       "2   -78.415617 -11.632894  False      False  False       True\n",
       "66 -114.633757 -24.167677  False      False  False       True\n",
       "67 -116.698744 -27.493329  False       True  False       True\n",
       "68 -117.685980 -35.946223   True       True  False      False"
      ]
     },
     "execution_count": 22,
     "metadata": {},
     "output_type": "execute_result"
    }
   ],
   "source": [
    "data = []\n",
    "for frame in total_path:\n",
    "    data.append((phi(frame)*degrees, psi(frame)*degrees, stateA(frame), interface0(frame), stateB(frame), first_traj_ensemble.can_append(total_path[slice(0,total_path.index(frame)+1)])))\n",
    "    \n",
    "dataframe = pd.DataFrame(data, columns=['phi', 'psi', 'stateA', 'interface0', 'stateB', 'appendable'])\n",
    "dataframe[[0,1,2,3,4,5]].ix[[0,1,2,len(dataframe)-3,len(dataframe)-2,len(dataframe)-1]]"
   ]
  },
  {
   "cell_type": "code",
   "execution_count": 23,
   "metadata": {
    "collapsed": false
   },
   "outputs": [
    {
     "name": "stdout",
     "output_type": "stream",
     "text": [
      "Do our segments satisfy the ensemble? True\n"
     ]
    }
   ],
   "source": [
    "print \"Do our segments satisfy the ensemble?\",\n",
    "for seg in segments:\n",
    "    print interface0_ensemble(seg),"
   ]
  },
  {
   "cell_type": "code",
   "execution_count": 24,
   "metadata": {
    "collapsed": false
   },
   "outputs": [
    {
     "data": {
      "text/html": [
       "<div>\n",
       "<table border=\"1\" class=\"dataframe\">\n",
       "  <thead>\n",
       "    <tr style=\"text-align: right;\">\n",
       "      <th></th>\n",
       "      <th>phi</th>\n",
       "      <th>psi</th>\n",
       "      <th>stateA</th>\n",
       "      <th>interface0</th>\n",
       "      <th>stateB</th>\n",
       "      <th>appendable</th>\n",
       "    </tr>\n",
       "  </thead>\n",
       "  <tbody>\n",
       "    <tr>\n",
       "      <th>0</th>\n",
       "      <td>-58.592329</td>\n",
       "      <td>-40.902417</td>\n",
       "      <td>True</td>\n",
       "      <td>True</td>\n",
       "      <td>False</td>\n",
       "      <td>True</td>\n",
       "    </tr>\n",
       "    <tr>\n",
       "      <th>1</th>\n",
       "      <td>-57.498965</td>\n",
       "      <td>-28.052611</td>\n",
       "      <td>False</td>\n",
       "      <td>True</td>\n",
       "      <td>False</td>\n",
       "      <td>True</td>\n",
       "    </tr>\n",
       "    <tr>\n",
       "      <th>2</th>\n",
       "      <td>-69.229524</td>\n",
       "      <td>-14.834067</td>\n",
       "      <td>False</td>\n",
       "      <td>False</td>\n",
       "      <td>False</td>\n",
       "      <td>True</td>\n",
       "    </tr>\n",
       "    <tr>\n",
       "      <th>3</th>\n",
       "      <td>-71.109679</td>\n",
       "      <td>-18.178547</td>\n",
       "      <td>False</td>\n",
       "      <td>False</td>\n",
       "      <td>False</td>\n",
       "      <td>True</td>\n",
       "    </tr>\n",
       "    <tr>\n",
       "      <th>4</th>\n",
       "      <td>-66.672080</td>\n",
       "      <td>-11.434116</td>\n",
       "      <td>False</td>\n",
       "      <td>False</td>\n",
       "      <td>False</td>\n",
       "      <td>True</td>\n",
       "    </tr>\n",
       "    <tr>\n",
       "      <th>5</th>\n",
       "      <td>-68.270612</td>\n",
       "      <td>-10.449335</td>\n",
       "      <td>False</td>\n",
       "      <td>False</td>\n",
       "      <td>False</td>\n",
       "      <td>True</td>\n",
       "    </tr>\n",
       "    <tr>\n",
       "      <th>6</th>\n",
       "      <td>-74.200075</td>\n",
       "      <td>-13.284552</td>\n",
       "      <td>False</td>\n",
       "      <td>False</td>\n",
       "      <td>False</td>\n",
       "      <td>True</td>\n",
       "    </tr>\n",
       "    <tr>\n",
       "      <th>7</th>\n",
       "      <td>-84.153910</td>\n",
       "      <td>-5.105090</td>\n",
       "      <td>False</td>\n",
       "      <td>False</td>\n",
       "      <td>False</td>\n",
       "      <td>True</td>\n",
       "    </tr>\n",
       "    <tr>\n",
       "      <th>8</th>\n",
       "      <td>-93.367255</td>\n",
       "      <td>-14.687274</td>\n",
       "      <td>False</td>\n",
       "      <td>False</td>\n",
       "      <td>False</td>\n",
       "      <td>True</td>\n",
       "    </tr>\n",
       "    <tr>\n",
       "      <th>9</th>\n",
       "      <td>-99.495894</td>\n",
       "      <td>-17.756782</td>\n",
       "      <td>False</td>\n",
       "      <td>False</td>\n",
       "      <td>False</td>\n",
       "      <td>True</td>\n",
       "    </tr>\n",
       "    <tr>\n",
       "      <th>10</th>\n",
       "      <td>-104.417527</td>\n",
       "      <td>-16.736546</td>\n",
       "      <td>False</td>\n",
       "      <td>False</td>\n",
       "      <td>False</td>\n",
       "      <td>True</td>\n",
       "    </tr>\n",
       "    <tr>\n",
       "      <th>11</th>\n",
       "      <td>-114.633757</td>\n",
       "      <td>-24.167677</td>\n",
       "      <td>False</td>\n",
       "      <td>False</td>\n",
       "      <td>False</td>\n",
       "      <td>True</td>\n",
       "    </tr>\n",
       "    <tr>\n",
       "      <th>12</th>\n",
       "      <td>-116.698744</td>\n",
       "      <td>-27.493329</td>\n",
       "      <td>False</td>\n",
       "      <td>True</td>\n",
       "      <td>False</td>\n",
       "      <td>True</td>\n",
       "    </tr>\n",
       "    <tr>\n",
       "      <th>13</th>\n",
       "      <td>-117.685980</td>\n",
       "      <td>-35.946223</td>\n",
       "      <td>True</td>\n",
       "      <td>True</td>\n",
       "      <td>False</td>\n",
       "      <td>False</td>\n",
       "    </tr>\n",
       "  </tbody>\n",
       "</table>\n",
       "</div>"
      ],
      "text/plain": [
       "           phi        psi stateA interface0 stateB appendable\n",
       "0   -58.592329 -40.902417   True       True  False       True\n",
       "1   -57.498965 -28.052611  False       True  False       True\n",
       "2   -69.229524 -14.834067  False      False  False       True\n",
       "3   -71.109679 -18.178547  False      False  False       True\n",
       "4   -66.672080 -11.434116  False      False  False       True\n",
       "5   -68.270612 -10.449335  False      False  False       True\n",
       "6   -74.200075 -13.284552  False      False  False       True\n",
       "7   -84.153910  -5.105090  False      False  False       True\n",
       "8   -93.367255 -14.687274  False      False  False       True\n",
       "9   -99.495894 -17.756782  False      False  False       True\n",
       "10 -104.417527 -16.736546  False      False  False       True\n",
       "11 -114.633757 -24.167677  False      False  False       True\n",
       "12 -116.698744 -27.493329  False       True  False       True\n",
       "13 -117.685980 -35.946223   True       True  False      False"
      ]
     },
     "execution_count": 24,
     "metadata": {},
     "output_type": "execute_result"
    }
   ],
   "source": [
    "data = []\n",
    "for frame in segments[0]:\n",
    "    data.append((phi(frame)*degrees, psi(frame)*degrees, stateA(frame), interface0(frame), stateB(frame), first_traj_ensemble.can_append(total_path[slice(0,total_path.index(frame)+1)])))\n",
    "    \n",
    "dataframe = pd.DataFrame(data, columns=['phi', 'psi', 'stateA', 'interface0', 'stateB', 'appendable'])\n",
    "dataframe[[0,1,2,3,4,5]]"
   ]
  },
  {
   "cell_type": "markdown",
   "metadata": {},
   "source": [
    "### Bootstrapping"
   ]
  },
  {
   "cell_type": "markdown",
   "metadata": {},
   "source": [
    "Run a bootstrapping (not TIS) simulation that shoots from an ensemble until the next interface is reached then switch to the next ensemble to drive the system out of stateA"
   ]
  },
  {
   "cell_type": "code",
   "execution_count": 25,
   "metadata": {
    "collapsed": true
   },
   "outputs": [],
   "source": [
    "mover_set = mf.OneWayShootingSet(UniformSelector(), interface_set)"
   ]
  },
  {
   "cell_type": "code",
   "execution_count": 26,
   "metadata": {
    "collapsed": true
   },
   "outputs": [],
   "source": [
    "bootstrap = Bootstrapping(storage=storage,\n",
    "                          engine=engine,\n",
    "                          ensembles=interface_set,\n",
    "                          movers=mover_set,\n",
    "                          trajectory=segments[0])"
   ]
  },
  {
   "cell_type": "markdown",
   "metadata": {},
   "source": [
    "Run Bootstrapping with at most 50 attempts per ensemble"
   ]
  },
  {
   "cell_type": "code",
   "execution_count": 27,
   "metadata": {
    "collapsed": false
   },
   "outputs": [
    {
     "name": "stdout",
     "output_type": "stream",
     "text": [
      "DONE! Completed Bootstrapping cycle step 10 in ensemble 6/7 .\n",
      "\n"
     ]
    }
   ],
   "source": [
    "bootstrap.run(5)"
   ]
  },
  {
   "cell_type": "markdown",
   "metadata": {},
   "source": [
    "Save all computed phi/psi values which depends on whether they have been needed before"
   ]
  },
  {
   "cell_type": "code",
   "execution_count": 28,
   "metadata": {
    "collapsed": true
   },
   "outputs": [],
   "source": [
    "storage.cvs.sync()"
   ]
  },
  {
   "cell_type": "markdown",
   "metadata": {},
   "source": [
    "Create an collectivevariable from a volume which is just 1 or 0 and can thus be stored for later analysis"
   ]
  },
  {
   "cell_type": "code",
   "execution_count": 29,
   "metadata": {
    "collapsed": true
   },
   "outputs": [],
   "source": [
    "op_inA = CV_Volume('StateA', stateA)\n",
    "op_inB = CV_Volume('StateB', stateB)\n",
    "op_notinAorB = CV_Volume('StateX', ~ (stateA | stateB))"
   ]
  },
  {
   "cell_type": "markdown",
   "metadata": {},
   "source": [
    "Save the new collectivevariables"
   ]
  },
  {
   "cell_type": "code",
   "execution_count": 30,
   "metadata": {
    "collapsed": true
   },
   "outputs": [],
   "source": [
    "storage.save([op_inA, op_inB, op_notinAorB]);"
   ]
  },
  {
   "cell_type": "markdown",
   "metadata": {},
   "source": [
    "Compute the collectivevariable for all snapshots"
   ]
  },
  {
   "cell_type": "code",
   "execution_count": 31,
   "metadata": {
    "collapsed": true
   },
   "outputs": [],
   "source": [
    "psi(storage.snapshots.all());\n",
    "phi(storage.snapshots.all());"
   ]
  },
  {
   "cell_type": "code",
   "execution_count": 32,
   "metadata": {
    "collapsed": true
   },
   "outputs": [],
   "source": [
    "op_inA(storage.snapshots.all())\n",
    "op_inB(storage.snapshots.all())\n",
    "op_notinAorB(storage.snapshots.all());"
   ]
  },
  {
   "cell_type": "code",
   "execution_count": 33,
   "metadata": {
    "collapsed": true
   },
   "outputs": [],
   "source": [
    "storage.cvs.sync()\n",
    "storage.sync()"
   ]
  },
  {
   "cell_type": "code",
   "execution_count": 34,
   "metadata": {
    "collapsed": true
   },
   "outputs": [],
   "source": [
    "storage.close()"
   ]
  },
  {
   "cell_type": "code",
   "execution_count": 35,
   "metadata": {
    "collapsed": true
   },
   "outputs": [],
   "source": [
    "import openpathsampling as paths\n",
    "from openpathsampling.visualize import PathTreeBuilder\n",
    "from IPython.display import SVG\n",
    "import mdtraj"
   ]
  },
  {
   "cell_type": "code",
   "execution_count": 36,
   "metadata": {
    "collapsed": true
   },
   "outputs": [],
   "source": [
    "storage = paths.storage.AnalysisStorage('trajectory.nc')"
   ]
  },
  {
   "cell_type": "markdown",
   "metadata": {},
   "source": [
    "## Visualization"
   ]
  },
  {
   "cell_type": "markdown",
   "metadata": {},
   "source": [
    "Create a PathTree generator"
   ]
  },
  {
   "cell_type": "code",
   "execution_count": 37,
   "metadata": {
    "collapsed": true
   },
   "outputs": [],
   "source": [
    "tree = PathTreeBuilder(storage)"
   ]
  },
  {
   "cell_type": "markdown",
   "metadata": {},
   "source": [
    "Change the settings to show rejected pathways, mark OrderParaemters `stateA` and `stateX`, and show the 'psi' value as text inside of the boxes"
   ]
  },
  {
   "cell_type": "code",
   "execution_count": 38,
   "metadata": {
    "collapsed": true
   },
   "outputs": [],
   "source": [
    "tree.rejected = False\n",
    "tree.states = [ ('orange',storage.cvs[2])]\n",
    "# Some ideas for collectivevariables to visualize\n",
    "tree.op = lambda snap : 'B' if snap.reversed else 'F'\n",
    "tree.op = lambda snap : int(psi(snap)[0]/3.1415926 * 180)\n",
    "tree.op = lambda snap : snap.configuration.idx(storage.configurations)\n",
    "samps = tree.construct_heritage(storage.samples.last)\n",
    "tree.from_samples(samps)\n",
    "#for sset in storage.samplesets:\n",
    "#    print sset.movepath\n",
    "    \n",
    "#for s in samps:\n",
    "#    print (s, s.ensemble.idx[storage], s.replica, len(tree.construct_heritage(s)), s.mover.__class__.__name__)"
   ]
  },
  {
   "cell_type": "markdown",
   "metadata": {},
   "source": [
    "Render the tree"
   ]
  },
  {
   "cell_type": "code",
   "execution_count": 39,
   "metadata": {
    "collapsed": false
   },
   "outputs": [],
   "source": [
    "s = samps[-1]"
   ]
  },
  {
   "cell_type": "code",
   "execution_count": 40,
   "metadata": {
    "collapsed": false
   },
   "outputs": [
    {
     "data": {
      "image/svg+xml": [
       "<svg baseProfile=\"full\" height=\"501.6px\" version=\"1.1\" width=\"506.0px\" xmlns=\"http://www.w3.org/2000/svg\" xmlns:ev=\"http://www.w3.org/2001/xml-events\" xmlns:xlink=\"http://www.w3.org/1999/xlink\"><defs/><rect fill=\"orange\" height=\"2.64\" stroke=\"orange\" stroke-width=\"1.32\" width=\"22.0\" x=\"462.0\" y=\"405.24\"/><rect fill=\"orange\" height=\"2.64\" stroke=\"orange\" stroke-width=\"1.32\" width=\"22.0\" x=\"198.0\" y=\"378.84\"/><rect fill=\"orange\" height=\"2.64\" stroke=\"orange\" stroke-width=\"1.32\" width=\"22.0\" x=\"198.0\" y=\"352.44\"/><rect fill=\"orange\" height=\"2.64\" stroke=\"orange\" stroke-width=\"1.32\" width=\"22.0\" x=\"462.0\" y=\"326.04\"/><rect fill=\"orange\" height=\"2.64\" stroke=\"orange\" stroke-width=\"1.32\" width=\"22.0\" x=\"198.0\" y=\"299.64\"/><rect fill=\"orange\" height=\"2.64\" stroke=\"orange\" stroke-width=\"1.32\" width=\"22.0\" x=\"462.0\" y=\"246.84\"/><rect fill=\"orange\" height=\"2.64\" stroke=\"orange\" stroke-width=\"1.32\" width=\"22.0\" x=\"462.0\" y=\"194.04\"/><rect fill=\"orange\" height=\"2.64\" stroke=\"orange\" stroke-width=\"1.32\" width=\"22.0\" x=\"198.0\" y=\"141.24\"/><rect fill=\"orange\" height=\"2.64\" stroke=\"orange\" stroke-width=\"1.32\" width=\"22.0\" x=\"176.0\" y=\"88.44\"/><rect fill=\"orange\" height=\"2.64\" stroke=\"orange\" stroke-width=\"1.32\" width=\"22.0\" x=\"462.0\" y=\"35.64\"/><rect fill=\"orange\" height=\"2.64\" stroke=\"orange\" stroke-width=\"1.32\" width=\"22.0\" x=\"176.0\" y=\"35.64\"/><text alignment-baseline=\"middle\" fill=\"black\" font-family=\"Futura\" font-size=\"9.24\" text-anchor=\"end\" x=\"171.6\" y=\"27.72\">2b</text><rect fill=\"black\" height=\"15.84\" width=\"19.8\" x=\"177.1\" y=\"18.48\"/><circle cx=\"198.0\" cy=\"26.4\" fill=\"black\" r=\"1.1\" stroke=\"black\" stroke-width=\"0\"/><text alignment-baseline=\"middle\" fill=\"white\" font-family=\"Futura\" font-size=\"9.24\" text-anchor=\"middle\" x=\"187.0\" y=\"27.72\">70</text><rect fill=\"black\" height=\"15.84\" width=\"19.8\" x=\"199.1\" y=\"18.48\"/><circle cx=\"198.0\" cy=\"26.4\" fill=\"black\" r=\"1.1\" stroke=\"black\" stroke-width=\"0\"/><circle cx=\"220.0\" cy=\"26.4\" fill=\"black\" r=\"1.1\" stroke=\"black\" stroke-width=\"0\"/><text alignment-baseline=\"middle\" fill=\"white\" font-family=\"Futura\" font-size=\"9.24\" text-anchor=\"middle\" x=\"209.0\" y=\"27.72\">71</text><rect fill=\"black\" height=\"15.84\" width=\"19.8\" x=\"221.1\" y=\"18.48\"/><circle cx=\"220.0\" cy=\"26.4\" fill=\"black\" r=\"1.1\" stroke=\"black\" stroke-width=\"0\"/><circle cx=\"242.0\" cy=\"26.4\" fill=\"black\" r=\"1.1\" stroke=\"black\" stroke-width=\"0\"/><text alignment-baseline=\"middle\" fill=\"white\" font-family=\"Futura\" font-size=\"9.24\" text-anchor=\"middle\" x=\"231.0\" y=\"27.72\">58</text><rect fill=\"black\" height=\"15.84\" width=\"19.8\" x=\"243.1\" y=\"18.48\"/><circle cx=\"242.0\" cy=\"26.4\" fill=\"black\" r=\"1.1\" stroke=\"black\" stroke-width=\"0\"/><circle cx=\"264.0\" cy=\"26.4\" fill=\"black\" r=\"1.1\" stroke=\"black\" stroke-width=\"0\"/><text alignment-baseline=\"middle\" fill=\"white\" font-family=\"Futura\" font-size=\"9.24\" text-anchor=\"middle\" x=\"253.0\" y=\"27.72\">59</text><rect fill=\"black\" height=\"15.84\" width=\"19.8\" x=\"265.1\" y=\"18.48\"/><circle cx=\"264.0\" cy=\"26.4\" fill=\"black\" r=\"1.1\" stroke=\"black\" stroke-width=\"0\"/><circle cx=\"286.0\" cy=\"26.4\" fill=\"black\" r=\"1.1\" stroke=\"black\" stroke-width=\"0\"/><text alignment-baseline=\"middle\" fill=\"white\" font-family=\"Futura\" font-size=\"9.24\" text-anchor=\"middle\" x=\"275.0\" y=\"27.72\">60</text><rect fill=\"black\" height=\"15.84\" width=\"19.8\" x=\"287.1\" y=\"18.48\"/><circle cx=\"286.0\" cy=\"26.4\" fill=\"black\" r=\"1.1\" stroke=\"black\" stroke-width=\"0\"/><circle cx=\"308.0\" cy=\"26.4\" fill=\"black\" r=\"1.1\" stroke=\"black\" stroke-width=\"0\"/><text alignment-baseline=\"middle\" fill=\"white\" font-family=\"Futura\" font-size=\"9.24\" text-anchor=\"middle\" x=\"297.0\" y=\"27.72\">61</text><rect fill=\"black\" height=\"15.84\" width=\"19.8\" x=\"309.1\" y=\"18.48\"/><circle cx=\"308.0\" cy=\"26.4\" fill=\"black\" r=\"1.1\" stroke=\"black\" stroke-width=\"0\"/><circle cx=\"330.0\" cy=\"26.4\" fill=\"black\" r=\"1.1\" stroke=\"black\" stroke-width=\"0\"/><text alignment-baseline=\"middle\" fill=\"white\" font-family=\"Futura\" font-size=\"9.24\" text-anchor=\"middle\" x=\"319.0\" y=\"27.72\">62</text><rect fill=\"black\" height=\"15.84\" width=\"19.8\" x=\"331.1\" y=\"18.48\"/><circle cx=\"330.0\" cy=\"26.4\" fill=\"black\" r=\"1.1\" stroke=\"black\" stroke-width=\"0\"/><circle cx=\"352.0\" cy=\"26.4\" fill=\"black\" r=\"1.1\" stroke=\"black\" stroke-width=\"0\"/><text alignment-baseline=\"middle\" fill=\"white\" font-family=\"Futura\" font-size=\"9.24\" text-anchor=\"middle\" x=\"341.0\" y=\"27.72\">63</text><rect fill=\"black\" height=\"15.84\" width=\"19.8\" x=\"353.1\" y=\"18.48\"/><circle cx=\"352.0\" cy=\"26.4\" fill=\"black\" r=\"1.1\" stroke=\"black\" stroke-width=\"0\"/><circle cx=\"374.0\" cy=\"26.4\" fill=\"black\" r=\"1.1\" stroke=\"black\" stroke-width=\"0\"/><text alignment-baseline=\"middle\" fill=\"white\" font-family=\"Futura\" font-size=\"9.24\" text-anchor=\"middle\" x=\"363.0\" y=\"27.72\">64</text><rect fill=\"black\" height=\"15.84\" width=\"19.8\" x=\"375.1\" y=\"18.48\"/><circle cx=\"374.0\" cy=\"26.4\" fill=\"black\" r=\"1.1\" stroke=\"black\" stroke-width=\"0\"/><circle cx=\"396.0\" cy=\"26.4\" fill=\"black\" r=\"1.1\" stroke=\"black\" stroke-width=\"0\"/><text alignment-baseline=\"middle\" fill=\"white\" font-family=\"Futura\" font-size=\"9.24\" text-anchor=\"middle\" x=\"385.0\" y=\"27.72\">65</text><rect fill=\"black\" height=\"15.84\" width=\"19.8\" x=\"397.1\" y=\"18.48\"/><circle cx=\"396.0\" cy=\"26.4\" fill=\"black\" r=\"1.1\" stroke=\"black\" stroke-width=\"0\"/><circle cx=\"418.0\" cy=\"26.4\" fill=\"black\" r=\"1.1\" stroke=\"black\" stroke-width=\"0\"/><text alignment-baseline=\"middle\" fill=\"white\" font-family=\"Futura\" font-size=\"9.24\" text-anchor=\"middle\" x=\"407.0\" y=\"27.72\">66</text><rect fill=\"black\" height=\"15.84\" width=\"19.8\" x=\"419.1\" y=\"18.48\"/><circle cx=\"418.0\" cy=\"26.4\" fill=\"black\" r=\"1.1\" stroke=\"black\" stroke-width=\"0\"/><circle cx=\"440.0\" cy=\"26.4\" fill=\"black\" r=\"1.1\" stroke=\"black\" stroke-width=\"0\"/><text alignment-baseline=\"middle\" fill=\"white\" font-family=\"Futura\" font-size=\"9.24\" text-anchor=\"middle\" x=\"429.0\" y=\"27.72\">67</text><rect fill=\"black\" height=\"15.84\" width=\"19.8\" x=\"441.1\" y=\"18.48\"/><circle cx=\"440.0\" cy=\"26.4\" fill=\"black\" r=\"1.1\" stroke=\"black\" stroke-width=\"0\"/><circle cx=\"462.0\" cy=\"26.4\" fill=\"black\" r=\"1.1\" stroke=\"black\" stroke-width=\"0\"/><text alignment-baseline=\"middle\" fill=\"white\" font-family=\"Futura\" font-size=\"9.24\" text-anchor=\"middle\" x=\"451.0\" y=\"27.72\">68</text><rect fill=\"black\" height=\"15.84\" width=\"19.8\" x=\"463.1\" y=\"18.48\"/><circle cx=\"462.0\" cy=\"26.4\" fill=\"black\" r=\"1.1\" stroke=\"black\" stroke-width=\"0\"/><text alignment-baseline=\"middle\" fill=\"white\" font-family=\"Futura\" font-size=\"9.24\" text-anchor=\"middle\" x=\"473.0\" y=\"27.72\">69</text><line stroke=\"green\" stroke-width=\"1.32\" x1=\"286.0\" x2=\"286.0\" y1=\"27.72\" y2=\"77.88\"/><text alignment-baseline=\"middle\" fill=\"black\" font-family=\"Futura\" font-size=\"9.24\" text-anchor=\"end\" x=\"171.6\" y=\"80.52\">3b</text><rect fill=\"green\" height=\"15.84\" width=\"19.8\" x=\"177.1\" y=\"71.28\"/><circle cx=\"198.0\" cy=\"79.2\" fill=\"green\" r=\"1.1\" stroke=\"green\" stroke-width=\"0\"/><text alignment-baseline=\"middle\" fill=\"white\" font-family=\"Futura\" font-size=\"9.24\" text-anchor=\"middle\" x=\"187.0\" y=\"80.52\">72</text><rect fill=\"green\" height=\"15.84\" width=\"19.8\" x=\"199.1\" y=\"71.28\"/><circle cx=\"198.0\" cy=\"79.2\" fill=\"green\" r=\"1.1\" stroke=\"green\" stroke-width=\"0\"/><circle cx=\"220.0\" cy=\"79.2\" fill=\"green\" r=\"1.1\" stroke=\"green\" stroke-width=\"0\"/><text alignment-baseline=\"middle\" fill=\"white\" font-family=\"Futura\" font-size=\"9.24\" text-anchor=\"middle\" x=\"209.0\" y=\"80.52\">73</text><rect fill=\"green\" height=\"15.84\" width=\"19.8\" x=\"221.1\" y=\"71.28\"/><circle cx=\"220.0\" cy=\"79.2\" fill=\"green\" r=\"1.1\" stroke=\"green\" stroke-width=\"0\"/><circle cx=\"242.0\" cy=\"79.2\" fill=\"green\" r=\"1.1\" stroke=\"green\" stroke-width=\"0\"/><text alignment-baseline=\"middle\" fill=\"white\" font-family=\"Futura\" font-size=\"9.24\" text-anchor=\"middle\" x=\"231.0\" y=\"80.52\">74</text><rect fill=\"green\" height=\"15.84\" width=\"19.8\" x=\"243.1\" y=\"71.28\"/><circle cx=\"242.0\" cy=\"79.2\" fill=\"green\" r=\"1.1\" stroke=\"green\" stroke-width=\"0\"/><circle cx=\"264.0\" cy=\"79.2\" fill=\"green\" r=\"1.1\" stroke=\"green\" stroke-width=\"0\"/><text alignment-baseline=\"middle\" fill=\"white\" font-family=\"Futura\" font-size=\"9.24\" text-anchor=\"middle\" x=\"253.0\" y=\"80.52\">75</text><rect fill=\"green\" height=\"15.84\" width=\"19.8\" x=\"265.1\" y=\"71.28\"/><circle cx=\"264.0\" cy=\"79.2\" fill=\"green\" r=\"1.1\" stroke=\"green\" stroke-width=\"0\"/><circle cx=\"286.0\" cy=\"79.2\" fill=\"green\" r=\"1.1\" stroke=\"green\" stroke-width=\"0\"/><text alignment-baseline=\"middle\" fill=\"white\" font-family=\"Futura\" font-size=\"9.24\" text-anchor=\"middle\" x=\"275.0\" y=\"80.52\">60</text><line stroke=\"green\" stroke-width=\"1.32\" x1=\"352.0\" x2=\"352.0\" y1=\"27.72\" y2=\"130.68\"/><text alignment-baseline=\"middle\" fill=\"black\" font-family=\"Futura\" font-size=\"9.24\" text-anchor=\"end\" x=\"193.6\" y=\"133.32\">4b</text><rect fill=\"green\" height=\"15.84\" width=\"19.8\" x=\"199.1\" y=\"124.08\"/><circle cx=\"220.0\" cy=\"132.0\" fill=\"green\" r=\"1.1\" stroke=\"green\" stroke-width=\"0\"/><text alignment-baseline=\"middle\" fill=\"white\" font-family=\"Futura\" font-size=\"9.24\" text-anchor=\"middle\" x=\"209.0\" y=\"133.32\">76</text><rect fill=\"green\" height=\"15.84\" width=\"19.8\" x=\"221.1\" y=\"124.08\"/><circle cx=\"220.0\" cy=\"132.0\" fill=\"green\" r=\"1.1\" stroke=\"green\" stroke-width=\"0\"/><circle cx=\"242.0\" cy=\"132.0\" fill=\"green\" r=\"1.1\" stroke=\"green\" stroke-width=\"0\"/><text alignment-baseline=\"middle\" fill=\"white\" font-family=\"Futura\" font-size=\"9.24\" text-anchor=\"middle\" x=\"231.0\" y=\"133.32\">77</text><rect fill=\"green\" height=\"15.84\" width=\"19.8\" x=\"243.1\" y=\"124.08\"/><circle cx=\"242.0\" cy=\"132.0\" fill=\"green\" r=\"1.1\" stroke=\"green\" stroke-width=\"0\"/><circle cx=\"264.0\" cy=\"132.0\" fill=\"green\" r=\"1.1\" stroke=\"green\" stroke-width=\"0\"/><text alignment-baseline=\"middle\" fill=\"white\" font-family=\"Futura\" font-size=\"9.24\" text-anchor=\"middle\" x=\"253.0\" y=\"133.32\">78</text><rect fill=\"green\" height=\"15.84\" width=\"19.8\" x=\"265.1\" y=\"124.08\"/><circle cx=\"264.0\" cy=\"132.0\" fill=\"green\" r=\"1.1\" stroke=\"green\" stroke-width=\"0\"/><circle cx=\"286.0\" cy=\"132.0\" fill=\"green\" r=\"1.1\" stroke=\"green\" stroke-width=\"0\"/><text alignment-baseline=\"middle\" fill=\"white\" font-family=\"Futura\" font-size=\"9.24\" text-anchor=\"middle\" x=\"275.0\" y=\"133.32\">79</text><rect fill=\"green\" height=\"15.84\" width=\"19.8\" x=\"287.1\" y=\"124.08\"/><circle cx=\"286.0\" cy=\"132.0\" fill=\"green\" r=\"1.1\" stroke=\"green\" stroke-width=\"0\"/><circle cx=\"308.0\" cy=\"132.0\" fill=\"green\" r=\"1.1\" stroke=\"green\" stroke-width=\"0\"/><text alignment-baseline=\"middle\" fill=\"white\" font-family=\"Futura\" font-size=\"9.24\" text-anchor=\"middle\" x=\"297.0\" y=\"133.32\">80</text><rect fill=\"green\" height=\"15.84\" width=\"19.8\" x=\"309.1\" y=\"124.08\"/><circle cx=\"308.0\" cy=\"132.0\" fill=\"green\" r=\"1.1\" stroke=\"green\" stroke-width=\"0\"/><circle cx=\"330.0\" cy=\"132.0\" fill=\"green\" r=\"1.1\" stroke=\"green\" stroke-width=\"0\"/><text alignment-baseline=\"middle\" fill=\"white\" font-family=\"Futura\" font-size=\"9.24\" text-anchor=\"middle\" x=\"319.0\" y=\"133.32\">81</text><rect fill=\"green\" height=\"15.84\" width=\"19.8\" x=\"331.1\" y=\"124.08\"/><circle cx=\"330.0\" cy=\"132.0\" fill=\"green\" r=\"1.1\" stroke=\"green\" stroke-width=\"0\"/><circle cx=\"352.0\" cy=\"132.0\" fill=\"green\" r=\"1.1\" stroke=\"green\" stroke-width=\"0\"/><text alignment-baseline=\"middle\" fill=\"white\" font-family=\"Futura\" font-size=\"9.24\" text-anchor=\"middle\" x=\"341.0\" y=\"133.32\">63</text><line stroke=\"red\" stroke-width=\"1.32\" x1=\"440.0\" x2=\"440.0\" y1=\"27.72\" y2=\"183.48\"/><text alignment-baseline=\"middle\" fill=\"black\" font-family=\"Futura\" font-size=\"9.24\" text-anchor=\"start\" x=\"488.4\" y=\"186.12\">5f</text><rect fill=\"red\" height=\"15.84\" width=\"19.8\" x=\"441.1\" y=\"176.88\"/><circle cx=\"440.0\" cy=\"184.8\" fill=\"red\" r=\"1.1\" stroke=\"red\" stroke-width=\"0\"/><circle cx=\"462.0\" cy=\"184.8\" fill=\"red\" r=\"1.1\" stroke=\"red\" stroke-width=\"0\"/><text alignment-baseline=\"middle\" fill=\"white\" font-family=\"Futura\" font-size=\"9.24\" text-anchor=\"middle\" x=\"451.0\" y=\"186.12\">68</text><rect fill=\"red\" height=\"15.84\" width=\"19.8\" x=\"463.1\" y=\"176.88\"/><circle cx=\"462.0\" cy=\"184.8\" fill=\"red\" r=\"1.1\" stroke=\"red\" stroke-width=\"0\"/><text alignment-baseline=\"middle\" fill=\"white\" font-family=\"Futura\" font-size=\"9.24\" text-anchor=\"middle\" x=\"473.0\" y=\"186.12\">82</text><line stroke=\"red\" stroke-width=\"1.32\" x1=\"264.0\" x2=\"264.0\" y1=\"133.32\" y2=\"236.28\"/><text alignment-baseline=\"middle\" fill=\"black\" font-family=\"Futura\" font-size=\"9.24\" text-anchor=\"start\" x=\"488.4\" y=\"238.92\">6f</text><rect fill=\"red\" height=\"15.84\" width=\"19.8\" x=\"265.1\" y=\"229.68\"/><circle cx=\"264.0\" cy=\"237.6\" fill=\"red\" r=\"1.1\" stroke=\"red\" stroke-width=\"0\"/><circle cx=\"286.0\" cy=\"237.6\" fill=\"red\" r=\"1.1\" stroke=\"red\" stroke-width=\"0\"/><text alignment-baseline=\"middle\" fill=\"white\" font-family=\"Futura\" font-size=\"9.24\" text-anchor=\"middle\" x=\"275.0\" y=\"238.92\">79</text><rect fill=\"red\" height=\"15.84\" width=\"19.8\" x=\"287.1\" y=\"229.68\"/><circle cx=\"286.0\" cy=\"237.6\" fill=\"red\" r=\"1.1\" stroke=\"red\" stroke-width=\"0\"/><circle cx=\"308.0\" cy=\"237.6\" fill=\"red\" r=\"1.1\" stroke=\"red\" stroke-width=\"0\"/><text alignment-baseline=\"middle\" fill=\"white\" font-family=\"Futura\" font-size=\"9.24\" text-anchor=\"middle\" x=\"297.0\" y=\"238.92\">83</text><rect fill=\"red\" height=\"15.84\" width=\"19.8\" x=\"309.1\" y=\"229.68\"/><circle cx=\"308.0\" cy=\"237.6\" fill=\"red\" r=\"1.1\" stroke=\"red\" stroke-width=\"0\"/><circle cx=\"330.0\" cy=\"237.6\" fill=\"red\" r=\"1.1\" stroke=\"red\" stroke-width=\"0\"/><text alignment-baseline=\"middle\" fill=\"white\" font-family=\"Futura\" font-size=\"9.24\" text-anchor=\"middle\" x=\"319.0\" y=\"238.92\">84</text><rect fill=\"red\" height=\"15.84\" width=\"19.8\" x=\"331.1\" y=\"229.68\"/><circle cx=\"330.0\" cy=\"237.6\" fill=\"red\" r=\"1.1\" stroke=\"red\" stroke-width=\"0\"/><circle cx=\"352.0\" cy=\"237.6\" fill=\"red\" r=\"1.1\" stroke=\"red\" stroke-width=\"0\"/><text alignment-baseline=\"middle\" fill=\"white\" font-family=\"Futura\" font-size=\"9.24\" text-anchor=\"middle\" x=\"341.0\" y=\"238.92\">85</text><rect fill=\"red\" height=\"15.84\" width=\"19.8\" x=\"353.1\" y=\"229.68\"/><circle cx=\"352.0\" cy=\"237.6\" fill=\"red\" r=\"1.1\" stroke=\"red\" stroke-width=\"0\"/><circle cx=\"374.0\" cy=\"237.6\" fill=\"red\" r=\"1.1\" stroke=\"red\" stroke-width=\"0\"/><text alignment-baseline=\"middle\" fill=\"white\" font-family=\"Futura\" font-size=\"9.24\" text-anchor=\"middle\" x=\"363.0\" y=\"238.92\">86</text><rect fill=\"red\" height=\"15.84\" width=\"19.8\" x=\"375.1\" y=\"229.68\"/><circle cx=\"374.0\" cy=\"237.6\" fill=\"red\" r=\"1.1\" stroke=\"red\" stroke-width=\"0\"/><circle cx=\"396.0\" cy=\"237.6\" fill=\"red\" r=\"1.1\" stroke=\"red\" stroke-width=\"0\"/><text alignment-baseline=\"middle\" fill=\"white\" font-family=\"Futura\" font-size=\"9.24\" text-anchor=\"middle\" x=\"385.0\" y=\"238.92\">87</text><rect fill=\"red\" height=\"15.84\" width=\"19.8\" x=\"397.1\" y=\"229.68\"/><circle cx=\"396.0\" cy=\"237.6\" fill=\"red\" r=\"1.1\" stroke=\"red\" stroke-width=\"0\"/><circle cx=\"418.0\" cy=\"237.6\" fill=\"red\" r=\"1.1\" stroke=\"red\" stroke-width=\"0\"/><text alignment-baseline=\"middle\" fill=\"white\" font-family=\"Futura\" font-size=\"9.24\" text-anchor=\"middle\" x=\"407.0\" y=\"238.92\">88</text><rect fill=\"red\" height=\"15.84\" width=\"19.8\" x=\"419.1\" y=\"229.68\"/><circle cx=\"418.0\" cy=\"237.6\" fill=\"red\" r=\"1.1\" stroke=\"red\" stroke-width=\"0\"/><circle cx=\"440.0\" cy=\"237.6\" fill=\"red\" r=\"1.1\" stroke=\"red\" stroke-width=\"0\"/><text alignment-baseline=\"middle\" fill=\"white\" font-family=\"Futura\" font-size=\"9.24\" text-anchor=\"middle\" x=\"429.0\" y=\"238.92\">89</text><rect fill=\"red\" height=\"15.84\" width=\"19.8\" x=\"441.1\" y=\"229.68\"/><circle cx=\"440.0\" cy=\"237.6\" fill=\"red\" r=\"1.1\" stroke=\"red\" stroke-width=\"0\"/><circle cx=\"462.0\" cy=\"237.6\" fill=\"red\" r=\"1.1\" stroke=\"red\" stroke-width=\"0\"/><text alignment-baseline=\"middle\" fill=\"white\" font-family=\"Futura\" font-size=\"9.24\" text-anchor=\"middle\" x=\"451.0\" y=\"238.92\">90</text><rect fill=\"red\" height=\"15.84\" width=\"19.8\" x=\"463.1\" y=\"229.68\"/><circle cx=\"462.0\" cy=\"237.6\" fill=\"red\" r=\"1.1\" stroke=\"red\" stroke-width=\"0\"/><text alignment-baseline=\"middle\" fill=\"white\" font-family=\"Futura\" font-size=\"9.24\" text-anchor=\"middle\" x=\"473.0\" y=\"238.92\">91</text><line stroke=\"green\" stroke-width=\"1.32\" x1=\"352.0\" x2=\"352.0\" y1=\"238.92\" y2=\"289.08\"/><text alignment-baseline=\"middle\" fill=\"black\" font-family=\"Futura\" font-size=\"9.24\" text-anchor=\"end\" x=\"193.6\" y=\"291.72\">7b</text><rect fill=\"green\" height=\"15.84\" width=\"19.8\" x=\"199.1\" y=\"282.48\"/><circle cx=\"220.0\" cy=\"290.4\" fill=\"green\" r=\"1.1\" stroke=\"green\" stroke-width=\"0\"/><text alignment-baseline=\"middle\" fill=\"white\" font-family=\"Futura\" font-size=\"9.24\" text-anchor=\"middle\" x=\"209.0\" y=\"291.72\">92</text><rect fill=\"green\" height=\"15.84\" width=\"19.8\" x=\"221.1\" y=\"282.48\"/><circle cx=\"220.0\" cy=\"290.4\" fill=\"green\" r=\"1.1\" stroke=\"green\" stroke-width=\"0\"/><circle cx=\"242.0\" cy=\"290.4\" fill=\"green\" r=\"1.1\" stroke=\"green\" stroke-width=\"0\"/><text alignment-baseline=\"middle\" fill=\"white\" font-family=\"Futura\" font-size=\"9.24\" text-anchor=\"middle\" x=\"231.0\" y=\"291.72\">93</text><rect fill=\"green\" height=\"15.84\" width=\"19.8\" x=\"243.1\" y=\"282.48\"/><circle cx=\"242.0\" cy=\"290.4\" fill=\"green\" r=\"1.1\" stroke=\"green\" stroke-width=\"0\"/><circle cx=\"264.0\" cy=\"290.4\" fill=\"green\" r=\"1.1\" stroke=\"green\" stroke-width=\"0\"/><text alignment-baseline=\"middle\" fill=\"white\" font-family=\"Futura\" font-size=\"9.24\" text-anchor=\"middle\" x=\"253.0\" y=\"291.72\">94</text><rect fill=\"green\" height=\"15.84\" width=\"19.8\" x=\"265.1\" y=\"282.48\"/><circle cx=\"264.0\" cy=\"290.4\" fill=\"green\" r=\"1.1\" stroke=\"green\" stroke-width=\"0\"/><circle cx=\"286.0\" cy=\"290.4\" fill=\"green\" r=\"1.1\" stroke=\"green\" stroke-width=\"0\"/><text alignment-baseline=\"middle\" fill=\"white\" font-family=\"Futura\" font-size=\"9.24\" text-anchor=\"middle\" x=\"275.0\" y=\"291.72\">95</text><rect fill=\"green\" height=\"15.84\" width=\"19.8\" x=\"287.1\" y=\"282.48\"/><circle cx=\"286.0\" cy=\"290.4\" fill=\"green\" r=\"1.1\" stroke=\"green\" stroke-width=\"0\"/><circle cx=\"308.0\" cy=\"290.4\" fill=\"green\" r=\"1.1\" stroke=\"green\" stroke-width=\"0\"/><text alignment-baseline=\"middle\" fill=\"white\" font-family=\"Futura\" font-size=\"9.24\" text-anchor=\"middle\" x=\"297.0\" y=\"291.72\">96</text><rect fill=\"green\" height=\"15.84\" width=\"19.8\" x=\"309.1\" y=\"282.48\"/><circle cx=\"308.0\" cy=\"290.4\" fill=\"green\" r=\"1.1\" stroke=\"green\" stroke-width=\"0\"/><circle cx=\"330.0\" cy=\"290.4\" fill=\"green\" r=\"1.1\" stroke=\"green\" stroke-width=\"0\"/><text alignment-baseline=\"middle\" fill=\"white\" font-family=\"Futura\" font-size=\"9.24\" text-anchor=\"middle\" x=\"319.0\" y=\"291.72\">97</text><rect fill=\"green\" height=\"15.84\" width=\"19.8\" x=\"331.1\" y=\"282.48\"/><circle cx=\"330.0\" cy=\"290.4\" fill=\"green\" r=\"1.1\" stroke=\"green\" stroke-width=\"0\"/><circle cx=\"352.0\" cy=\"290.4\" fill=\"green\" r=\"1.1\" stroke=\"green\" stroke-width=\"0\"/><text alignment-baseline=\"middle\" fill=\"white\" font-family=\"Futura\" font-size=\"9.24\" text-anchor=\"middle\" x=\"341.0\" y=\"291.72\">85</text><line stroke=\"red\" stroke-width=\"1.32\" x1=\"418.0\" x2=\"418.0\" y1=\"238.92\" y2=\"315.48\"/><text alignment-baseline=\"middle\" fill=\"black\" font-family=\"Futura\" font-size=\"9.24\" text-anchor=\"start\" x=\"488.4\" y=\"318.12\">8f</text><rect fill=\"red\" height=\"15.84\" width=\"19.8\" x=\"419.1\" y=\"308.88\"/><circle cx=\"418.0\" cy=\"316.8\" fill=\"red\" r=\"1.1\" stroke=\"red\" stroke-width=\"0\"/><circle cx=\"440.0\" cy=\"316.8\" fill=\"red\" r=\"1.1\" stroke=\"red\" stroke-width=\"0\"/><text alignment-baseline=\"middle\" fill=\"white\" font-family=\"Futura\" font-size=\"9.24\" text-anchor=\"middle\" x=\"429.0\" y=\"318.12\">89</text><rect fill=\"red\" height=\"15.84\" width=\"19.8\" x=\"441.1\" y=\"308.88\"/><circle cx=\"440.0\" cy=\"316.8\" fill=\"red\" r=\"1.1\" stroke=\"red\" stroke-width=\"0\"/><circle cx=\"462.0\" cy=\"316.8\" fill=\"red\" r=\"1.1\" stroke=\"red\" stroke-width=\"0\"/><text alignment-baseline=\"middle\" fill=\"white\" font-family=\"Futura\" font-size=\"9.24\" text-anchor=\"middle\" x=\"451.0\" y=\"318.12\">98</text><rect fill=\"red\" height=\"15.84\" width=\"19.8\" x=\"463.1\" y=\"308.88\"/><circle cx=\"462.0\" cy=\"316.8\" fill=\"red\" r=\"1.1\" stroke=\"red\" stroke-width=\"0\"/><text alignment-baseline=\"middle\" fill=\"white\" font-family=\"Futura\" font-size=\"9.24\" text-anchor=\"middle\" x=\"473.0\" y=\"318.12\">99</text><line stroke=\"green\" stroke-width=\"1.32\" x1=\"352.0\" x2=\"352.0\" y1=\"291.72\" y2=\"341.88\"/><text alignment-baseline=\"middle\" fill=\"black\" font-family=\"Futura\" font-size=\"9.24\" text-anchor=\"end\" x=\"193.6\" y=\"344.52\">9b</text><rect fill=\"green\" height=\"15.84\" width=\"19.8\" x=\"199.1\" y=\"335.28\"/><circle cx=\"220.0\" cy=\"343.2\" fill=\"green\" r=\"1.1\" stroke=\"green\" stroke-width=\"0\"/><text alignment-baseline=\"middle\" fill=\"white\" font-family=\"Futura\" font-size=\"9.24\" text-anchor=\"middle\" x=\"209.0\" y=\"344.52\">100</text><rect fill=\"green\" height=\"15.84\" width=\"19.8\" x=\"221.1\" y=\"335.28\"/><circle cx=\"220.0\" cy=\"343.2\" fill=\"green\" r=\"1.1\" stroke=\"green\" stroke-width=\"0\"/><circle cx=\"242.0\" cy=\"343.2\" fill=\"green\" r=\"1.1\" stroke=\"green\" stroke-width=\"0\"/><text alignment-baseline=\"middle\" fill=\"white\" font-family=\"Futura\" font-size=\"9.24\" text-anchor=\"middle\" x=\"231.0\" y=\"344.52\">101</text><rect fill=\"green\" height=\"15.84\" width=\"19.8\" x=\"243.1\" y=\"335.28\"/><circle cx=\"242.0\" cy=\"343.2\" fill=\"green\" r=\"1.1\" stroke=\"green\" stroke-width=\"0\"/><circle cx=\"264.0\" cy=\"343.2\" fill=\"green\" r=\"1.1\" stroke=\"green\" stroke-width=\"0\"/><text alignment-baseline=\"middle\" fill=\"white\" font-family=\"Futura\" font-size=\"9.24\" text-anchor=\"middle\" x=\"253.0\" y=\"344.52\">102</text><rect fill=\"green\" height=\"15.84\" width=\"19.8\" x=\"265.1\" y=\"335.28\"/><circle cx=\"264.0\" cy=\"343.2\" fill=\"green\" r=\"1.1\" stroke=\"green\" stroke-width=\"0\"/><circle cx=\"286.0\" cy=\"343.2\" fill=\"green\" r=\"1.1\" stroke=\"green\" stroke-width=\"0\"/><text alignment-baseline=\"middle\" fill=\"white\" font-family=\"Futura\" font-size=\"9.24\" text-anchor=\"middle\" x=\"275.0\" y=\"344.52\">103</text><rect fill=\"green\" height=\"15.84\" width=\"19.8\" x=\"287.1\" y=\"335.28\"/><circle cx=\"286.0\" cy=\"343.2\" fill=\"green\" r=\"1.1\" stroke=\"green\" stroke-width=\"0\"/><circle cx=\"308.0\" cy=\"343.2\" fill=\"green\" r=\"1.1\" stroke=\"green\" stroke-width=\"0\"/><text alignment-baseline=\"middle\" fill=\"white\" font-family=\"Futura\" font-size=\"9.24\" text-anchor=\"middle\" x=\"297.0\" y=\"344.52\">104</text><rect fill=\"green\" height=\"15.84\" width=\"19.8\" x=\"309.1\" y=\"335.28\"/><circle cx=\"308.0\" cy=\"343.2\" fill=\"green\" r=\"1.1\" stroke=\"green\" stroke-width=\"0\"/><circle cx=\"330.0\" cy=\"343.2\" fill=\"green\" r=\"1.1\" stroke=\"green\" stroke-width=\"0\"/><text alignment-baseline=\"middle\" fill=\"white\" font-family=\"Futura\" font-size=\"9.24\" text-anchor=\"middle\" x=\"319.0\" y=\"344.52\">105</text><rect fill=\"green\" height=\"15.84\" width=\"19.8\" x=\"331.1\" y=\"335.28\"/><circle cx=\"330.0\" cy=\"343.2\" fill=\"green\" r=\"1.1\" stroke=\"green\" stroke-width=\"0\"/><circle cx=\"352.0\" cy=\"343.2\" fill=\"green\" r=\"1.1\" stroke=\"green\" stroke-width=\"0\"/><text alignment-baseline=\"middle\" fill=\"white\" font-family=\"Futura\" font-size=\"9.24\" text-anchor=\"middle\" x=\"341.0\" y=\"344.52\">85</text><line stroke=\"green\" stroke-width=\"1.32\" x1=\"242.0\" x2=\"242.0\" y1=\"344.52\" y2=\"368.28\"/><text alignment-baseline=\"middle\" fill=\"black\" font-family=\"Futura\" font-size=\"9.24\" text-anchor=\"end\" x=\"193.6\" y=\"370.92\">10b</text><rect fill=\"green\" height=\"15.84\" width=\"19.8\" x=\"199.1\" y=\"361.68\"/><circle cx=\"220.0\" cy=\"369.6\" fill=\"green\" r=\"1.1\" stroke=\"green\" stroke-width=\"0\"/><text alignment-baseline=\"middle\" fill=\"white\" font-family=\"Futura\" font-size=\"9.24\" text-anchor=\"middle\" x=\"209.0\" y=\"370.92\">106</text><rect fill=\"green\" height=\"15.84\" width=\"19.8\" x=\"221.1\" y=\"361.68\"/><circle cx=\"220.0\" cy=\"369.6\" fill=\"green\" r=\"1.1\" stroke=\"green\" stroke-width=\"0\"/><circle cx=\"242.0\" cy=\"369.6\" fill=\"green\" r=\"1.1\" stroke=\"green\" stroke-width=\"0\"/><text alignment-baseline=\"middle\" fill=\"white\" font-family=\"Futura\" font-size=\"9.24\" text-anchor=\"middle\" x=\"231.0\" y=\"370.92\">101</text><line stroke=\"red\" stroke-width=\"1.32\" x1=\"352.0\" x2=\"352.0\" y1=\"238.92\" y2=\"394.68\"/><text alignment-baseline=\"middle\" fill=\"black\" font-family=\"Futura\" font-size=\"9.24\" text-anchor=\"start\" x=\"488.4\" y=\"397.32\">11f</text><rect fill=\"red\" height=\"15.84\" width=\"19.8\" x=\"353.1\" y=\"388.08\"/><circle cx=\"352.0\" cy=\"396.0\" fill=\"red\" r=\"1.1\" stroke=\"red\" stroke-width=\"0\"/><circle cx=\"374.0\" cy=\"396.0\" fill=\"red\" r=\"1.1\" stroke=\"red\" stroke-width=\"0\"/><text alignment-baseline=\"middle\" fill=\"white\" font-family=\"Futura\" font-size=\"9.24\" text-anchor=\"middle\" x=\"363.0\" y=\"397.32\">86</text><rect fill=\"red\" height=\"15.84\" width=\"19.8\" x=\"375.1\" y=\"388.08\"/><circle cx=\"374.0\" cy=\"396.0\" fill=\"red\" r=\"1.1\" stroke=\"red\" stroke-width=\"0\"/><circle cx=\"396.0\" cy=\"396.0\" fill=\"red\" r=\"1.1\" stroke=\"red\" stroke-width=\"0\"/><text alignment-baseline=\"middle\" fill=\"white\" font-family=\"Futura\" font-size=\"9.24\" text-anchor=\"middle\" x=\"385.0\" y=\"397.32\">107</text><rect fill=\"red\" height=\"15.84\" width=\"19.8\" x=\"397.1\" y=\"388.08\"/><circle cx=\"396.0\" cy=\"396.0\" fill=\"red\" r=\"1.1\" stroke=\"red\" stroke-width=\"0\"/><circle cx=\"418.0\" cy=\"396.0\" fill=\"red\" r=\"1.1\" stroke=\"red\" stroke-width=\"0\"/><text alignment-baseline=\"middle\" fill=\"white\" font-family=\"Futura\" font-size=\"9.24\" text-anchor=\"middle\" x=\"407.0\" y=\"397.32\">108</text><rect fill=\"red\" height=\"15.84\" width=\"19.8\" x=\"419.1\" y=\"388.08\"/><circle cx=\"418.0\" cy=\"396.0\" fill=\"red\" r=\"1.1\" stroke=\"red\" stroke-width=\"0\"/><circle cx=\"440.0\" cy=\"396.0\" fill=\"red\" r=\"1.1\" stroke=\"red\" stroke-width=\"0\"/><text alignment-baseline=\"middle\" fill=\"white\" font-family=\"Futura\" font-size=\"9.24\" text-anchor=\"middle\" x=\"429.0\" y=\"397.32\">109</text><rect fill=\"red\" height=\"15.84\" width=\"19.8\" x=\"441.1\" y=\"388.08\"/><circle cx=\"440.0\" cy=\"396.0\" fill=\"red\" r=\"1.1\" stroke=\"red\" stroke-width=\"0\"/><circle cx=\"462.0\" cy=\"396.0\" fill=\"red\" r=\"1.1\" stroke=\"red\" stroke-width=\"0\"/><text alignment-baseline=\"middle\" fill=\"white\" font-family=\"Futura\" font-size=\"9.24\" text-anchor=\"middle\" x=\"451.0\" y=\"397.32\">110</text><rect fill=\"red\" height=\"15.84\" width=\"19.8\" x=\"463.1\" y=\"388.08\"/><circle cx=\"462.0\" cy=\"396.0\" fill=\"red\" r=\"1.1\" stroke=\"red\" stroke-width=\"0\"/><text alignment-baseline=\"middle\" fill=\"white\" font-family=\"Futura\" font-size=\"9.24\" text-anchor=\"middle\" x=\"473.0\" y=\"397.32\">111</text><text alignment-baseline=\"middle\" fill=\"black\" font-family=\"Futura\" font-size=\"9.24\" text-anchor=\"end\" x=\"94.6\" y=\"27.72\">1</text><text alignment-baseline=\"middle\" fill=\"black\" font-family=\"Futura\" font-size=\"9.24\" text-anchor=\"end\" x=\"28.6\" y=\"27.72\">1</text><text alignment-baseline=\"middle\" fill=\"black\" font-family=\"Futura\" font-size=\"9.24\" text-anchor=\"end\" x=\"94.6\" y=\"54.12\">2</text><text alignment-baseline=\"middle\" fill=\"black\" font-family=\"Futura\" font-size=\"9.24\" text-anchor=\"end\" x=\"28.6\" y=\"54.12\">1</text><text alignment-baseline=\"middle\" fill=\"black\" font-family=\"Futura\" font-size=\"9.24\" text-anchor=\"end\" x=\"94.6\" y=\"80.52\">3</text><text alignment-baseline=\"middle\" fill=\"black\" font-family=\"Futura\" font-size=\"9.24\" text-anchor=\"end\" x=\"28.6\" y=\"80.52\">2</text><text alignment-baseline=\"middle\" fill=\"black\" font-family=\"Futura\" font-size=\"9.24\" text-anchor=\"end\" x=\"94.6\" y=\"106.92\">4</text><text alignment-baseline=\"middle\" fill=\"black\" font-family=\"Futura\" font-size=\"9.24\" text-anchor=\"end\" x=\"28.6\" y=\"106.92\">2</text><text alignment-baseline=\"middle\" fill=\"black\" font-family=\"Futura\" font-size=\"9.24\" text-anchor=\"end\" x=\"94.6\" y=\"133.32\">5</text><text alignment-baseline=\"middle\" fill=\"black\" font-family=\"Futura\" font-size=\"9.24\" text-anchor=\"end\" x=\"28.6\" y=\"133.32\">3</text><text alignment-baseline=\"middle\" fill=\"black\" font-family=\"Futura\" font-size=\"9.24\" text-anchor=\"end\" x=\"94.6\" y=\"159.72\">6</text><text alignment-baseline=\"middle\" fill=\"black\" font-family=\"Futura\" font-size=\"9.24\" text-anchor=\"end\" x=\"28.6\" y=\"159.72\">3</text><text alignment-baseline=\"middle\" fill=\"black\" font-family=\"Futura\" font-size=\"9.24\" text-anchor=\"end\" x=\"94.6\" y=\"186.12\">7</text><text alignment-baseline=\"middle\" fill=\"black\" font-family=\"Futura\" font-size=\"9.24\" text-anchor=\"end\" x=\"28.6\" y=\"186.12\">4</text><text alignment-baseline=\"middle\" fill=\"black\" font-family=\"Futura\" font-size=\"9.24\" text-anchor=\"end\" x=\"94.6\" y=\"212.52\">8</text><text alignment-baseline=\"middle\" fill=\"black\" font-family=\"Futura\" font-size=\"9.24\" text-anchor=\"end\" x=\"28.6\" y=\"212.52\">4</text><rect fill=\"black\" height=\"205.92\" width=\"2.2\" x=\"121.0\" y=\"15.84\"/><circle cx=\"121.0\" cy=\"15.84\" fill=\"black\" r=\"1.1\" stroke=\"black\" stroke-width=\"0\"/><rect fill=\"black\" height=\"2.64\" width=\"19.8\" x=\"111.1\" y=\"15.84\"/><circle cx=\"121.0\" cy=\"221.76\" fill=\"black\" r=\"1.1\" stroke=\"black\" stroke-width=\"0\"/><rect fill=\"black\" height=\"2.64\" width=\"19.8\" x=\"111.1\" y=\"219.12\"/><text alignment-baseline=\"middle\" fill=\"black\" font-family=\"Futura\" font-size=\"9.24\" text-anchor=\"middle\" x=\"114.4\" y=\"120.12\"/><text alignment-baseline=\"middle\" fill=\"black\" font-family=\"Futura\" font-size=\"9.24\" text-anchor=\"end\" x=\"94.6\" y=\"238.92\">9</text><text alignment-baseline=\"middle\" fill=\"black\" font-family=\"Futura\" font-size=\"9.24\" text-anchor=\"end\" x=\"28.6\" y=\"238.92\">5</text><text alignment-baseline=\"middle\" fill=\"black\" font-family=\"Futura\" font-size=\"9.24\" text-anchor=\"end\" x=\"94.6\" y=\"265.32\">10</text><text alignment-baseline=\"middle\" fill=\"black\" font-family=\"Futura\" font-size=\"9.24\" text-anchor=\"end\" x=\"28.6\" y=\"265.32\">5</text><text alignment-baseline=\"middle\" fill=\"black\" font-family=\"Futura\" font-size=\"9.24\" text-anchor=\"end\" x=\"94.6\" y=\"291.72\">11</text><text alignment-baseline=\"middle\" fill=\"black\" font-family=\"Futura\" font-size=\"9.24\" text-anchor=\"end\" x=\"28.6\" y=\"291.72\">6</text><text alignment-baseline=\"middle\" fill=\"black\" font-family=\"Futura\" font-size=\"9.24\" text-anchor=\"end\" x=\"94.6\" y=\"318.12\">13</text><text alignment-baseline=\"middle\" fill=\"black\" font-family=\"Futura\" font-size=\"9.24\" text-anchor=\"end\" x=\"28.6\" y=\"318.12\">7</text><text alignment-baseline=\"middle\" fill=\"black\" font-family=\"Futura\" font-size=\"9.24\" text-anchor=\"end\" x=\"94.6\" y=\"344.52\">15</text><text alignment-baseline=\"middle\" fill=\"black\" font-family=\"Futura\" font-size=\"9.24\" text-anchor=\"end\" x=\"28.6\" y=\"344.52\">8</text><text alignment-baseline=\"middle\" fill=\"black\" font-family=\"Futura\" font-size=\"9.24\" text-anchor=\"end\" x=\"94.6\" y=\"370.92\">17</text><text alignment-baseline=\"middle\" fill=\"black\" font-family=\"Futura\" font-size=\"9.24\" text-anchor=\"end\" x=\"28.6\" y=\"370.92\">9</text><text alignment-baseline=\"middle\" fill=\"black\" font-family=\"Futura\" font-size=\"9.24\" text-anchor=\"end\" x=\"94.6\" y=\"397.32\">19</text><text alignment-baseline=\"middle\" fill=\"black\" font-family=\"Futura\" font-size=\"9.24\" text-anchor=\"end\" x=\"28.6\" y=\"397.32\">10</text><text alignment-baseline=\"middle\" fill=\"black\" font-family=\"Futura\" font-size=\"9.24\" text-anchor=\"end\" x=\"94.6\" y=\"423.72\">20</text><text alignment-baseline=\"middle\" fill=\"black\" font-family=\"Futura\" font-size=\"9.24\" text-anchor=\"end\" x=\"28.6\" y=\"423.72\">10</text><rect fill=\"black\" height=\"417.12\" width=\"2.2\" x=\"44.0\" y=\"15.84\"/><circle cx=\"44.0\" cy=\"15.84\" fill=\"black\" r=\"1.1\" stroke=\"black\" stroke-width=\"0\"/><rect fill=\"black\" height=\"2.64\" width=\"19.8\" x=\"34.1\" y=\"15.84\"/><circle cx=\"44.0\" cy=\"432.96\" fill=\"black\" r=\"1.1\" stroke=\"black\" stroke-width=\"0\"/><rect fill=\"black\" height=\"2.64\" width=\"19.8\" x=\"34.1\" y=\"430.32\"/><text alignment-baseline=\"middle\" fill=\"black\" font-family=\"Futura\" font-size=\"9.24\" text-anchor=\"middle\" x=\"37.4\" y=\"225.72\"/><rect fill=\"black\" height=\"205.92\" width=\"2.2\" x=\"121.0\" y=\"227.04\"/><circle cx=\"121.0\" cy=\"227.04\" fill=\"black\" r=\"1.1\" stroke=\"black\" stroke-width=\"0\"/><rect fill=\"black\" height=\"2.64\" width=\"19.8\" x=\"111.1\" y=\"227.04\"/><text alignment-baseline=\"middle\" fill=\"black\" font-family=\"Futura\" font-size=\"9.24\" text-anchor=\"middle\" x=\"114.4\" y=\"331.32\"/></svg>"
      ],
      "text/plain": [
       "<IPython.core.display.SVG object>"
      ]
     },
     "execution_count": 40,
     "metadata": {},
     "output_type": "execute_result"
    }
   ],
   "source": [
    "view = tree.renderer\n",
    "view.zoom = 1.1\n",
    "view.scale_y = 24\n",
    "view.scale_x = 20\n",
    "view.font_size = 0.35\n",
    "SVG(view.to_svg())"
   ]
  },
  {
   "cell_type": "markdown",
   "metadata": {},
   "source": [
    "An alternate view which is similar to the standard way of plotting"
   ]
  },
  {
   "cell_type": "code",
   "execution_count": 41,
   "metadata": {
    "collapsed": false
   },
   "outputs": [
    {
     "data": {
      "image/svg+xml": [
       "<svg baseProfile=\"full\" height=\"313.5px\" version=\"1.1\" width=\"607.2px\" xmlns=\"http://www.w3.org/2000/svg\" xmlns:ev=\"http://www.w3.org/2001/xml-events\" xmlns:xlink=\"http://www.w3.org/1999/xlink\"><defs/><text alignment-baseline=\"middle\" fill=\"black\" font-family=\"Times\" font-size=\"8.25\" text-anchor=\"end\" x=\"205.92\" y=\"17.325\">2b</text><rect fill=\"black\" height=\"9.9\" width=\"26.928\" x=\"210.936\" y=\"11.55\"/><circle cx=\"211.2\" cy=\"16.5\" fill=\"black\" r=\"-0.264\" stroke=\"black\" stroke-width=\"0\"/><circle cx=\"237.6\" cy=\"16.5\" fill=\"black\" r=\"-0.264\" stroke=\"black\" stroke-width=\"0\"/><text alignment-baseline=\"middle\" fill=\"white\" font-family=\"Times\" font-size=\"8.25\" text-anchor=\"middle\" x=\"224.4\" y=\"17.325\"/><rect fill=\"black\" height=\"9.9\" width=\"26.928\" x=\"237.336\" y=\"11.55\"/><circle cx=\"237.6\" cy=\"16.5\" fill=\"black\" r=\"-0.264\" stroke=\"black\" stroke-width=\"0\"/><circle cx=\"264.0\" cy=\"16.5\" fill=\"black\" r=\"-0.264\" stroke=\"black\" stroke-width=\"0\"/><text alignment-baseline=\"middle\" fill=\"white\" font-family=\"Times\" font-size=\"8.25\" text-anchor=\"middle\" x=\"250.8\" y=\"17.325\"/><rect fill=\"black\" height=\"9.9\" width=\"26.928\" x=\"263.736\" y=\"11.55\"/><circle cx=\"264.0\" cy=\"16.5\" fill=\"black\" r=\"-0.264\" stroke=\"black\" stroke-width=\"0\"/><circle cx=\"290.4\" cy=\"16.5\" fill=\"black\" r=\"-0.264\" stroke=\"black\" stroke-width=\"0\"/><text alignment-baseline=\"middle\" fill=\"white\" font-family=\"Times\" font-size=\"8.25\" text-anchor=\"middle\" x=\"277.2\" y=\"17.325\"/><rect fill=\"black\" height=\"9.9\" width=\"26.928\" x=\"290.136\" y=\"11.55\"/><circle cx=\"290.4\" cy=\"16.5\" fill=\"black\" r=\"-0.264\" stroke=\"black\" stroke-width=\"0\"/><circle cx=\"316.8\" cy=\"16.5\" fill=\"black\" r=\"-0.264\" stroke=\"black\" stroke-width=\"0\"/><text alignment-baseline=\"middle\" fill=\"white\" font-family=\"Times\" font-size=\"8.25\" text-anchor=\"middle\" x=\"303.6\" y=\"17.325\"/><rect fill=\"black\" height=\"9.9\" width=\"26.928\" x=\"316.536\" y=\"11.55\"/><circle cx=\"316.8\" cy=\"16.5\" fill=\"black\" r=\"-0.264\" stroke=\"black\" stroke-width=\"0\"/><circle cx=\"343.2\" cy=\"16.5\" fill=\"black\" r=\"-0.264\" stroke=\"black\" stroke-width=\"0\"/><text alignment-baseline=\"middle\" fill=\"white\" font-family=\"Times\" font-size=\"8.25\" text-anchor=\"middle\" x=\"330.0\" y=\"17.325\"/><rect fill=\"black\" height=\"9.9\" width=\"26.928\" x=\"342.936\" y=\"11.55\"/><circle cx=\"343.2\" cy=\"16.5\" fill=\"black\" r=\"-0.264\" stroke=\"black\" stroke-width=\"0\"/><circle cx=\"369.6\" cy=\"16.5\" fill=\"black\" r=\"-0.264\" stroke=\"black\" stroke-width=\"0\"/><text alignment-baseline=\"middle\" fill=\"white\" font-family=\"Times\" font-size=\"8.25\" text-anchor=\"middle\" x=\"356.4\" y=\"17.325\"/><rect fill=\"black\" height=\"9.9\" width=\"26.928\" x=\"369.336\" y=\"11.55\"/><circle cx=\"369.6\" cy=\"16.5\" fill=\"black\" r=\"-0.264\" stroke=\"black\" stroke-width=\"0\"/><circle cx=\"396.0\" cy=\"16.5\" fill=\"black\" r=\"-0.264\" stroke=\"black\" stroke-width=\"0\"/><text alignment-baseline=\"middle\" fill=\"white\" font-family=\"Times\" font-size=\"8.25\" text-anchor=\"middle\" x=\"382.8\" y=\"17.325\"/><rect fill=\"black\" height=\"9.9\" width=\"26.928\" x=\"395.736\" y=\"11.55\"/><circle cx=\"396.0\" cy=\"16.5\" fill=\"black\" r=\"-0.264\" stroke=\"black\" stroke-width=\"0\"/><circle cx=\"422.4\" cy=\"16.5\" fill=\"black\" r=\"-0.264\" stroke=\"black\" stroke-width=\"0\"/><text alignment-baseline=\"middle\" fill=\"white\" font-family=\"Times\" font-size=\"8.25\" text-anchor=\"middle\" x=\"409.2\" y=\"17.325\"/><rect fill=\"black\" height=\"9.9\" width=\"26.928\" x=\"422.136\" y=\"11.55\"/><circle cx=\"422.4\" cy=\"16.5\" fill=\"black\" r=\"-0.264\" stroke=\"black\" stroke-width=\"0\"/><circle cx=\"448.8\" cy=\"16.5\" fill=\"black\" r=\"-0.264\" stroke=\"black\" stroke-width=\"0\"/><text alignment-baseline=\"middle\" fill=\"white\" font-family=\"Times\" font-size=\"8.25\" text-anchor=\"middle\" x=\"435.6\" y=\"17.325\"/><rect fill=\"black\" height=\"9.9\" width=\"26.928\" x=\"448.536\" y=\"11.55\"/><circle cx=\"448.8\" cy=\"16.5\" fill=\"black\" r=\"-0.264\" stroke=\"black\" stroke-width=\"0\"/><circle cx=\"475.2\" cy=\"16.5\" fill=\"black\" r=\"-0.264\" stroke=\"black\" stroke-width=\"0\"/><text alignment-baseline=\"middle\" fill=\"white\" font-family=\"Times\" font-size=\"8.25\" text-anchor=\"middle\" x=\"462.0\" y=\"17.325\"/><rect fill=\"black\" height=\"9.9\" width=\"26.928\" x=\"474.936\" y=\"11.55\"/><circle cx=\"475.2\" cy=\"16.5\" fill=\"black\" r=\"-0.264\" stroke=\"black\" stroke-width=\"0\"/><circle cx=\"501.6\" cy=\"16.5\" fill=\"black\" r=\"-0.264\" stroke=\"black\" stroke-width=\"0\"/><text alignment-baseline=\"middle\" fill=\"white\" font-family=\"Times\" font-size=\"8.25\" text-anchor=\"middle\" x=\"488.4\" y=\"17.325\"/><rect fill=\"black\" height=\"9.9\" width=\"26.928\" x=\"501.336\" y=\"11.55\"/><circle cx=\"501.6\" cy=\"16.5\" fill=\"black\" r=\"-0.264\" stroke=\"black\" stroke-width=\"0\"/><circle cx=\"528.0\" cy=\"16.5\" fill=\"black\" r=\"-0.264\" stroke=\"black\" stroke-width=\"0\"/><text alignment-baseline=\"middle\" fill=\"white\" font-family=\"Times\" font-size=\"8.25\" text-anchor=\"middle\" x=\"514.8\" y=\"17.325\"/><rect fill=\"black\" height=\"9.9\" width=\"26.928\" x=\"527.736\" y=\"11.55\"/><circle cx=\"528.0\" cy=\"16.5\" fill=\"black\" r=\"-0.264\" stroke=\"black\" stroke-width=\"0\"/><circle cx=\"554.4\" cy=\"16.5\" fill=\"black\" r=\"-0.264\" stroke=\"black\" stroke-width=\"0\"/><text alignment-baseline=\"middle\" fill=\"white\" font-family=\"Times\" font-size=\"8.25\" text-anchor=\"middle\" x=\"541.2\" y=\"17.325\"/><rect fill=\"black\" height=\"9.9\" width=\"26.928\" x=\"554.136\" y=\"11.55\"/><circle cx=\"554.4\" cy=\"16.5\" fill=\"black\" r=\"-0.264\" stroke=\"black\" stroke-width=\"0\"/><circle cx=\"580.8\" cy=\"16.5\" fill=\"black\" r=\"-0.264\" stroke=\"black\" stroke-width=\"0\"/><text alignment-baseline=\"middle\" fill=\"white\" font-family=\"Times\" font-size=\"8.25\" text-anchor=\"middle\" x=\"567.6\" y=\"17.325\"/><line stroke=\"green\" stroke-width=\"1.32\" x1=\"343.2\" x2=\"343.2\" y1=\"16.335\" y2=\"49.665\"/><text alignment-baseline=\"middle\" fill=\"black\" font-family=\"Times\" font-size=\"8.25\" text-anchor=\"end\" x=\"205.92\" y=\"50.325\">3b</text><rect fill=\"green\" height=\"9.9\" width=\"26.928\" x=\"210.936\" y=\"44.55\"/><circle cx=\"211.2\" cy=\"49.5\" fill=\"green\" r=\"-0.264\" stroke=\"green\" stroke-width=\"0\"/><circle cx=\"237.6\" cy=\"49.5\" fill=\"green\" r=\"-0.264\" stroke=\"green\" stroke-width=\"0\"/><text alignment-baseline=\"middle\" fill=\"white\" font-family=\"Times\" font-size=\"8.25\" text-anchor=\"middle\" x=\"224.4\" y=\"50.325\"/><rect fill=\"green\" height=\"9.9\" width=\"26.928\" x=\"237.336\" y=\"44.55\"/><circle cx=\"237.6\" cy=\"49.5\" fill=\"green\" r=\"-0.264\" stroke=\"green\" stroke-width=\"0\"/><circle cx=\"264.0\" cy=\"49.5\" fill=\"green\" r=\"-0.264\" stroke=\"green\" stroke-width=\"0\"/><text alignment-baseline=\"middle\" fill=\"white\" font-family=\"Times\" font-size=\"8.25\" text-anchor=\"middle\" x=\"250.8\" y=\"50.325\"/><rect fill=\"green\" height=\"9.9\" width=\"26.928\" x=\"263.736\" y=\"44.55\"/><circle cx=\"264.0\" cy=\"49.5\" fill=\"green\" r=\"-0.264\" stroke=\"green\" stroke-width=\"0\"/><circle cx=\"290.4\" cy=\"49.5\" fill=\"green\" r=\"-0.264\" stroke=\"green\" stroke-width=\"0\"/><text alignment-baseline=\"middle\" fill=\"white\" font-family=\"Times\" font-size=\"8.25\" text-anchor=\"middle\" x=\"277.2\" y=\"50.325\"/><rect fill=\"green\" height=\"9.9\" width=\"26.928\" x=\"290.136\" y=\"44.55\"/><circle cx=\"290.4\" cy=\"49.5\" fill=\"green\" r=\"-0.264\" stroke=\"green\" stroke-width=\"0\"/><circle cx=\"316.8\" cy=\"49.5\" fill=\"green\" r=\"-0.264\" stroke=\"green\" stroke-width=\"0\"/><text alignment-baseline=\"middle\" fill=\"white\" font-family=\"Times\" font-size=\"8.25\" text-anchor=\"middle\" x=\"303.6\" y=\"50.325\"/><rect fill=\"green\" height=\"9.9\" width=\"26.928\" x=\"316.536\" y=\"44.55\"/><circle cx=\"316.8\" cy=\"49.5\" fill=\"green\" r=\"-0.264\" stroke=\"green\" stroke-width=\"0\"/><circle cx=\"343.2\" cy=\"49.5\" fill=\"green\" r=\"-0.264\" stroke=\"green\" stroke-width=\"0\"/><text alignment-baseline=\"middle\" fill=\"white\" font-family=\"Times\" font-size=\"8.25\" text-anchor=\"middle\" x=\"330.0\" y=\"50.325\"/><line stroke=\"green\" stroke-width=\"1.32\" x1=\"422.4\" x2=\"422.4\" y1=\"16.335\" y2=\"82.665\"/><text alignment-baseline=\"middle\" fill=\"black\" font-family=\"Times\" font-size=\"8.25\" text-anchor=\"end\" x=\"232.32\" y=\"83.325\">4b</text><rect fill=\"green\" height=\"9.9\" width=\"26.928\" x=\"237.336\" y=\"77.55\"/><circle cx=\"237.6\" cy=\"82.5\" fill=\"green\" r=\"-0.264\" stroke=\"green\" stroke-width=\"0\"/><circle cx=\"264.0\" cy=\"82.5\" fill=\"green\" r=\"-0.264\" stroke=\"green\" stroke-width=\"0\"/><text alignment-baseline=\"middle\" fill=\"white\" font-family=\"Times\" font-size=\"8.25\" text-anchor=\"middle\" x=\"250.8\" y=\"83.325\"/><rect fill=\"green\" height=\"9.9\" width=\"26.928\" x=\"263.736\" y=\"77.55\"/><circle cx=\"264.0\" cy=\"82.5\" fill=\"green\" r=\"-0.264\" stroke=\"green\" stroke-width=\"0\"/><circle cx=\"290.4\" cy=\"82.5\" fill=\"green\" r=\"-0.264\" stroke=\"green\" stroke-width=\"0\"/><text alignment-baseline=\"middle\" fill=\"white\" font-family=\"Times\" font-size=\"8.25\" text-anchor=\"middle\" x=\"277.2\" y=\"83.325\"/><rect fill=\"green\" height=\"9.9\" width=\"26.928\" x=\"290.136\" y=\"77.55\"/><circle cx=\"290.4\" cy=\"82.5\" fill=\"green\" r=\"-0.264\" stroke=\"green\" stroke-width=\"0\"/><circle cx=\"316.8\" cy=\"82.5\" fill=\"green\" r=\"-0.264\" stroke=\"green\" stroke-width=\"0\"/><text alignment-baseline=\"middle\" fill=\"white\" font-family=\"Times\" font-size=\"8.25\" text-anchor=\"middle\" x=\"303.6\" y=\"83.325\"/><rect fill=\"green\" height=\"9.9\" width=\"26.928\" x=\"316.536\" y=\"77.55\"/><circle cx=\"316.8\" cy=\"82.5\" fill=\"green\" r=\"-0.264\" stroke=\"green\" stroke-width=\"0\"/><circle cx=\"343.2\" cy=\"82.5\" fill=\"green\" r=\"-0.264\" stroke=\"green\" stroke-width=\"0\"/><text alignment-baseline=\"middle\" fill=\"white\" font-family=\"Times\" font-size=\"8.25\" text-anchor=\"middle\" x=\"330.0\" y=\"83.325\"/><rect fill=\"green\" height=\"9.9\" width=\"26.928\" x=\"342.936\" y=\"77.55\"/><circle cx=\"343.2\" cy=\"82.5\" fill=\"green\" r=\"-0.264\" stroke=\"green\" stroke-width=\"0\"/><circle cx=\"369.6\" cy=\"82.5\" fill=\"green\" r=\"-0.264\" stroke=\"green\" stroke-width=\"0\"/><text alignment-baseline=\"middle\" fill=\"white\" font-family=\"Times\" font-size=\"8.25\" text-anchor=\"middle\" x=\"356.4\" y=\"83.325\"/><rect fill=\"green\" height=\"9.9\" width=\"26.928\" x=\"369.336\" y=\"77.55\"/><circle cx=\"369.6\" cy=\"82.5\" fill=\"green\" r=\"-0.264\" stroke=\"green\" stroke-width=\"0\"/><circle cx=\"396.0\" cy=\"82.5\" fill=\"green\" r=\"-0.264\" stroke=\"green\" stroke-width=\"0\"/><text alignment-baseline=\"middle\" fill=\"white\" font-family=\"Times\" font-size=\"8.25\" text-anchor=\"middle\" x=\"382.8\" y=\"83.325\"/><rect fill=\"green\" height=\"9.9\" width=\"26.928\" x=\"395.736\" y=\"77.55\"/><circle cx=\"396.0\" cy=\"82.5\" fill=\"green\" r=\"-0.264\" stroke=\"green\" stroke-width=\"0\"/><circle cx=\"422.4\" cy=\"82.5\" fill=\"green\" r=\"-0.264\" stroke=\"green\" stroke-width=\"0\"/><text alignment-baseline=\"middle\" fill=\"white\" font-family=\"Times\" font-size=\"8.25\" text-anchor=\"middle\" x=\"409.2\" y=\"83.325\"/><line stroke=\"red\" stroke-width=\"1.32\" x1=\"528.0\" x2=\"528.0\" y1=\"16.335\" y2=\"115.665\"/><text alignment-baseline=\"middle\" fill=\"black\" font-family=\"Times\" font-size=\"8.25\" text-anchor=\"start\" x=\"586.08\" y=\"116.325\">5f</text><rect fill=\"red\" height=\"9.9\" width=\"26.928\" x=\"527.736\" y=\"110.55\"/><circle cx=\"528.0\" cy=\"115.5\" fill=\"red\" r=\"-0.264\" stroke=\"red\" stroke-width=\"0\"/><circle cx=\"554.4\" cy=\"115.5\" fill=\"red\" r=\"-0.264\" stroke=\"red\" stroke-width=\"0\"/><text alignment-baseline=\"middle\" fill=\"white\" font-family=\"Times\" font-size=\"8.25\" text-anchor=\"middle\" x=\"541.2\" y=\"116.325\"/><rect fill=\"red\" height=\"9.9\" width=\"26.928\" x=\"554.136\" y=\"110.55\"/><circle cx=\"554.4\" cy=\"115.5\" fill=\"red\" r=\"-0.264\" stroke=\"red\" stroke-width=\"0\"/><circle cx=\"580.8\" cy=\"115.5\" fill=\"red\" r=\"-0.264\" stroke=\"red\" stroke-width=\"0\"/><text alignment-baseline=\"middle\" fill=\"white\" font-family=\"Times\" font-size=\"8.25\" text-anchor=\"middle\" x=\"567.6\" y=\"116.325\"/><line stroke=\"red\" stroke-width=\"1.32\" x1=\"316.8\" x2=\"316.8\" y1=\"82.335\" y2=\"148.665\"/><text alignment-baseline=\"middle\" fill=\"black\" font-family=\"Times\" font-size=\"8.25\" text-anchor=\"start\" x=\"586.08\" y=\"149.325\">6f</text><rect fill=\"red\" height=\"9.9\" width=\"26.928\" x=\"316.536\" y=\"143.55\"/><circle cx=\"316.8\" cy=\"148.5\" fill=\"red\" r=\"-0.264\" stroke=\"red\" stroke-width=\"0\"/><circle cx=\"343.2\" cy=\"148.5\" fill=\"red\" r=\"-0.264\" stroke=\"red\" stroke-width=\"0\"/><text alignment-baseline=\"middle\" fill=\"white\" font-family=\"Times\" font-size=\"8.25\" text-anchor=\"middle\" x=\"330.0\" y=\"149.325\"/><rect fill=\"red\" height=\"9.9\" width=\"26.928\" x=\"342.936\" y=\"143.55\"/><circle cx=\"343.2\" cy=\"148.5\" fill=\"red\" r=\"-0.264\" stroke=\"red\" stroke-width=\"0\"/><circle cx=\"369.6\" cy=\"148.5\" fill=\"red\" r=\"-0.264\" stroke=\"red\" stroke-width=\"0\"/><text alignment-baseline=\"middle\" fill=\"white\" font-family=\"Times\" font-size=\"8.25\" text-anchor=\"middle\" x=\"356.4\" y=\"149.325\"/><rect fill=\"red\" height=\"9.9\" width=\"26.928\" x=\"369.336\" y=\"143.55\"/><circle cx=\"369.6\" cy=\"148.5\" fill=\"red\" r=\"-0.264\" stroke=\"red\" stroke-width=\"0\"/><circle cx=\"396.0\" cy=\"148.5\" fill=\"red\" r=\"-0.264\" stroke=\"red\" stroke-width=\"0\"/><text alignment-baseline=\"middle\" fill=\"white\" font-family=\"Times\" font-size=\"8.25\" text-anchor=\"middle\" x=\"382.8\" y=\"149.325\"/><rect fill=\"red\" height=\"9.9\" width=\"26.928\" x=\"395.736\" y=\"143.55\"/><circle cx=\"396.0\" cy=\"148.5\" fill=\"red\" r=\"-0.264\" stroke=\"red\" stroke-width=\"0\"/><circle cx=\"422.4\" cy=\"148.5\" fill=\"red\" r=\"-0.264\" stroke=\"red\" stroke-width=\"0\"/><text alignment-baseline=\"middle\" fill=\"white\" font-family=\"Times\" font-size=\"8.25\" text-anchor=\"middle\" x=\"409.2\" y=\"149.325\"/><rect fill=\"red\" height=\"9.9\" width=\"26.928\" x=\"422.136\" y=\"143.55\"/><circle cx=\"422.4\" cy=\"148.5\" fill=\"red\" r=\"-0.264\" stroke=\"red\" stroke-width=\"0\"/><circle cx=\"448.8\" cy=\"148.5\" fill=\"red\" r=\"-0.264\" stroke=\"red\" stroke-width=\"0\"/><text alignment-baseline=\"middle\" fill=\"white\" font-family=\"Times\" font-size=\"8.25\" text-anchor=\"middle\" x=\"435.6\" y=\"149.325\"/><rect fill=\"red\" height=\"9.9\" width=\"26.928\" x=\"448.536\" y=\"143.55\"/><circle cx=\"448.8\" cy=\"148.5\" fill=\"red\" r=\"-0.264\" stroke=\"red\" stroke-width=\"0\"/><circle cx=\"475.2\" cy=\"148.5\" fill=\"red\" r=\"-0.264\" stroke=\"red\" stroke-width=\"0\"/><text alignment-baseline=\"middle\" fill=\"white\" font-family=\"Times\" font-size=\"8.25\" text-anchor=\"middle\" x=\"462.0\" y=\"149.325\"/><rect fill=\"red\" height=\"9.9\" width=\"26.928\" x=\"474.936\" y=\"143.55\"/><circle cx=\"475.2\" cy=\"148.5\" fill=\"red\" r=\"-0.264\" stroke=\"red\" stroke-width=\"0\"/><circle cx=\"501.6\" cy=\"148.5\" fill=\"red\" r=\"-0.264\" stroke=\"red\" stroke-width=\"0\"/><text alignment-baseline=\"middle\" fill=\"white\" font-family=\"Times\" font-size=\"8.25\" text-anchor=\"middle\" x=\"488.4\" y=\"149.325\"/><rect fill=\"red\" height=\"9.9\" width=\"26.928\" x=\"501.336\" y=\"143.55\"/><circle cx=\"501.6\" cy=\"148.5\" fill=\"red\" r=\"-0.264\" stroke=\"red\" stroke-width=\"0\"/><circle cx=\"528.0\" cy=\"148.5\" fill=\"red\" r=\"-0.264\" stroke=\"red\" stroke-width=\"0\"/><text alignment-baseline=\"middle\" fill=\"white\" font-family=\"Times\" font-size=\"8.25\" text-anchor=\"middle\" x=\"514.8\" y=\"149.325\"/><rect fill=\"red\" height=\"9.9\" width=\"26.928\" x=\"527.736\" y=\"143.55\"/><circle cx=\"528.0\" cy=\"148.5\" fill=\"red\" r=\"-0.264\" stroke=\"red\" stroke-width=\"0\"/><circle cx=\"554.4\" cy=\"148.5\" fill=\"red\" r=\"-0.264\" stroke=\"red\" stroke-width=\"0\"/><text alignment-baseline=\"middle\" fill=\"white\" font-family=\"Times\" font-size=\"8.25\" text-anchor=\"middle\" x=\"541.2\" y=\"149.325\"/><rect fill=\"red\" height=\"9.9\" width=\"26.928\" x=\"554.136\" y=\"143.55\"/><circle cx=\"554.4\" cy=\"148.5\" fill=\"red\" r=\"-0.264\" stroke=\"red\" stroke-width=\"0\"/><circle cx=\"580.8\" cy=\"148.5\" fill=\"red\" r=\"-0.264\" stroke=\"red\" stroke-width=\"0\"/><text alignment-baseline=\"middle\" fill=\"white\" font-family=\"Times\" font-size=\"8.25\" text-anchor=\"middle\" x=\"567.6\" y=\"149.325\"/><line stroke=\"green\" stroke-width=\"1.32\" x1=\"422.4\" x2=\"422.4\" y1=\"148.335\" y2=\"181.665\"/><text alignment-baseline=\"middle\" fill=\"black\" font-family=\"Times\" font-size=\"8.25\" text-anchor=\"end\" x=\"232.32\" y=\"182.325\">7b</text><rect fill=\"green\" height=\"9.9\" width=\"26.928\" x=\"237.336\" y=\"176.55\"/><circle cx=\"237.6\" cy=\"181.5\" fill=\"green\" r=\"-0.264\" stroke=\"green\" stroke-width=\"0\"/><circle cx=\"264.0\" cy=\"181.5\" fill=\"green\" r=\"-0.264\" stroke=\"green\" stroke-width=\"0\"/><text alignment-baseline=\"middle\" fill=\"white\" font-family=\"Times\" font-size=\"8.25\" text-anchor=\"middle\" x=\"250.8\" y=\"182.325\"/><rect fill=\"green\" height=\"9.9\" width=\"26.928\" x=\"263.736\" y=\"176.55\"/><circle cx=\"264.0\" cy=\"181.5\" fill=\"green\" r=\"-0.264\" stroke=\"green\" stroke-width=\"0\"/><circle cx=\"290.4\" cy=\"181.5\" fill=\"green\" r=\"-0.264\" stroke=\"green\" stroke-width=\"0\"/><text alignment-baseline=\"middle\" fill=\"white\" font-family=\"Times\" font-size=\"8.25\" text-anchor=\"middle\" x=\"277.2\" y=\"182.325\"/><rect fill=\"green\" height=\"9.9\" width=\"26.928\" x=\"290.136\" y=\"176.55\"/><circle cx=\"290.4\" cy=\"181.5\" fill=\"green\" r=\"-0.264\" stroke=\"green\" stroke-width=\"0\"/><circle cx=\"316.8\" cy=\"181.5\" fill=\"green\" r=\"-0.264\" stroke=\"green\" stroke-width=\"0\"/><text alignment-baseline=\"middle\" fill=\"white\" font-family=\"Times\" font-size=\"8.25\" text-anchor=\"middle\" x=\"303.6\" y=\"182.325\"/><rect fill=\"green\" height=\"9.9\" width=\"26.928\" x=\"316.536\" y=\"176.55\"/><circle cx=\"316.8\" cy=\"181.5\" fill=\"green\" r=\"-0.264\" stroke=\"green\" stroke-width=\"0\"/><circle cx=\"343.2\" cy=\"181.5\" fill=\"green\" r=\"-0.264\" stroke=\"green\" stroke-width=\"0\"/><text alignment-baseline=\"middle\" fill=\"white\" font-family=\"Times\" font-size=\"8.25\" text-anchor=\"middle\" x=\"330.0\" y=\"182.325\"/><rect fill=\"green\" height=\"9.9\" width=\"26.928\" x=\"342.936\" y=\"176.55\"/><circle cx=\"343.2\" cy=\"181.5\" fill=\"green\" r=\"-0.264\" stroke=\"green\" stroke-width=\"0\"/><circle cx=\"369.6\" cy=\"181.5\" fill=\"green\" r=\"-0.264\" stroke=\"green\" stroke-width=\"0\"/><text alignment-baseline=\"middle\" fill=\"white\" font-family=\"Times\" font-size=\"8.25\" text-anchor=\"middle\" x=\"356.4\" y=\"182.325\"/><rect fill=\"green\" height=\"9.9\" width=\"26.928\" x=\"369.336\" y=\"176.55\"/><circle cx=\"369.6\" cy=\"181.5\" fill=\"green\" r=\"-0.264\" stroke=\"green\" stroke-width=\"0\"/><circle cx=\"396.0\" cy=\"181.5\" fill=\"green\" r=\"-0.264\" stroke=\"green\" stroke-width=\"0\"/><text alignment-baseline=\"middle\" fill=\"white\" font-family=\"Times\" font-size=\"8.25\" text-anchor=\"middle\" x=\"382.8\" y=\"182.325\"/><rect fill=\"green\" height=\"9.9\" width=\"26.928\" x=\"395.736\" y=\"176.55\"/><circle cx=\"396.0\" cy=\"181.5\" fill=\"green\" r=\"-0.264\" stroke=\"green\" stroke-width=\"0\"/><circle cx=\"422.4\" cy=\"181.5\" fill=\"green\" r=\"-0.264\" stroke=\"green\" stroke-width=\"0\"/><text alignment-baseline=\"middle\" fill=\"white\" font-family=\"Times\" font-size=\"8.25\" text-anchor=\"middle\" x=\"409.2\" y=\"182.325\"/><line stroke=\"red\" stroke-width=\"1.32\" x1=\"501.6\" x2=\"501.6\" y1=\"148.335\" y2=\"198.165\"/><text alignment-baseline=\"middle\" fill=\"black\" font-family=\"Times\" font-size=\"8.25\" text-anchor=\"start\" x=\"586.08\" y=\"198.825\">8f</text><rect fill=\"red\" height=\"9.9\" width=\"26.928\" x=\"501.336\" y=\"193.05\"/><circle cx=\"501.6\" cy=\"198.0\" fill=\"red\" r=\"-0.264\" stroke=\"red\" stroke-width=\"0\"/><circle cx=\"528.0\" cy=\"198.0\" fill=\"red\" r=\"-0.264\" stroke=\"red\" stroke-width=\"0\"/><text alignment-baseline=\"middle\" fill=\"white\" font-family=\"Times\" font-size=\"8.25\" text-anchor=\"middle\" x=\"514.8\" y=\"198.825\"/><rect fill=\"red\" height=\"9.9\" width=\"26.928\" x=\"527.736\" y=\"193.05\"/><circle cx=\"528.0\" cy=\"198.0\" fill=\"red\" r=\"-0.264\" stroke=\"red\" stroke-width=\"0\"/><circle cx=\"554.4\" cy=\"198.0\" fill=\"red\" r=\"-0.264\" stroke=\"red\" stroke-width=\"0\"/><text alignment-baseline=\"middle\" fill=\"white\" font-family=\"Times\" font-size=\"8.25\" text-anchor=\"middle\" x=\"541.2\" y=\"198.825\"/><rect fill=\"red\" height=\"9.9\" width=\"26.928\" x=\"554.136\" y=\"193.05\"/><circle cx=\"554.4\" cy=\"198.0\" fill=\"red\" r=\"-0.264\" stroke=\"red\" stroke-width=\"0\"/><circle cx=\"580.8\" cy=\"198.0\" fill=\"red\" r=\"-0.264\" stroke=\"red\" stroke-width=\"0\"/><text alignment-baseline=\"middle\" fill=\"white\" font-family=\"Times\" font-size=\"8.25\" text-anchor=\"middle\" x=\"567.6\" y=\"198.825\"/><line stroke=\"green\" stroke-width=\"1.32\" x1=\"422.4\" x2=\"422.4\" y1=\"181.335\" y2=\"214.665\"/><text alignment-baseline=\"middle\" fill=\"black\" font-family=\"Times\" font-size=\"8.25\" text-anchor=\"end\" x=\"232.32\" y=\"215.325\">9b</text><rect fill=\"green\" height=\"9.9\" width=\"26.928\" x=\"237.336\" y=\"209.55\"/><circle cx=\"237.6\" cy=\"214.5\" fill=\"green\" r=\"-0.264\" stroke=\"green\" stroke-width=\"0\"/><circle cx=\"264.0\" cy=\"214.5\" fill=\"green\" r=\"-0.264\" stroke=\"green\" stroke-width=\"0\"/><text alignment-baseline=\"middle\" fill=\"white\" font-family=\"Times\" font-size=\"8.25\" text-anchor=\"middle\" x=\"250.8\" y=\"215.325\"/><rect fill=\"green\" height=\"9.9\" width=\"26.928\" x=\"263.736\" y=\"209.55\"/><circle cx=\"264.0\" cy=\"214.5\" fill=\"green\" r=\"-0.264\" stroke=\"green\" stroke-width=\"0\"/><circle cx=\"290.4\" cy=\"214.5\" fill=\"green\" r=\"-0.264\" stroke=\"green\" stroke-width=\"0\"/><text alignment-baseline=\"middle\" fill=\"white\" font-family=\"Times\" font-size=\"8.25\" text-anchor=\"middle\" x=\"277.2\" y=\"215.325\"/><rect fill=\"green\" height=\"9.9\" width=\"26.928\" x=\"290.136\" y=\"209.55\"/><circle cx=\"290.4\" cy=\"214.5\" fill=\"green\" r=\"-0.264\" stroke=\"green\" stroke-width=\"0\"/><circle cx=\"316.8\" cy=\"214.5\" fill=\"green\" r=\"-0.264\" stroke=\"green\" stroke-width=\"0\"/><text alignment-baseline=\"middle\" fill=\"white\" font-family=\"Times\" font-size=\"8.25\" text-anchor=\"middle\" x=\"303.6\" y=\"215.325\"/><rect fill=\"green\" height=\"9.9\" width=\"26.928\" x=\"316.536\" y=\"209.55\"/><circle cx=\"316.8\" cy=\"214.5\" fill=\"green\" r=\"-0.264\" stroke=\"green\" stroke-width=\"0\"/><circle cx=\"343.2\" cy=\"214.5\" fill=\"green\" r=\"-0.264\" stroke=\"green\" stroke-width=\"0\"/><text alignment-baseline=\"middle\" fill=\"white\" font-family=\"Times\" font-size=\"8.25\" text-anchor=\"middle\" x=\"330.0\" y=\"215.325\"/><rect fill=\"green\" height=\"9.9\" width=\"26.928\" x=\"342.936\" y=\"209.55\"/><circle cx=\"343.2\" cy=\"214.5\" fill=\"green\" r=\"-0.264\" stroke=\"green\" stroke-width=\"0\"/><circle cx=\"369.6\" cy=\"214.5\" fill=\"green\" r=\"-0.264\" stroke=\"green\" stroke-width=\"0\"/><text alignment-baseline=\"middle\" fill=\"white\" font-family=\"Times\" font-size=\"8.25\" text-anchor=\"middle\" x=\"356.4\" y=\"215.325\"/><rect fill=\"green\" height=\"9.9\" width=\"26.928\" x=\"369.336\" y=\"209.55\"/><circle cx=\"369.6\" cy=\"214.5\" fill=\"green\" r=\"-0.264\" stroke=\"green\" stroke-width=\"0\"/><circle cx=\"396.0\" cy=\"214.5\" fill=\"green\" r=\"-0.264\" stroke=\"green\" stroke-width=\"0\"/><text alignment-baseline=\"middle\" fill=\"white\" font-family=\"Times\" font-size=\"8.25\" text-anchor=\"middle\" x=\"382.8\" y=\"215.325\"/><rect fill=\"green\" height=\"9.9\" width=\"26.928\" x=\"395.736\" y=\"209.55\"/><circle cx=\"396.0\" cy=\"214.5\" fill=\"green\" r=\"-0.264\" stroke=\"green\" stroke-width=\"0\"/><circle cx=\"422.4\" cy=\"214.5\" fill=\"green\" r=\"-0.264\" stroke=\"green\" stroke-width=\"0\"/><text alignment-baseline=\"middle\" fill=\"white\" font-family=\"Times\" font-size=\"8.25\" text-anchor=\"middle\" x=\"409.2\" y=\"215.325\"/><line stroke=\"green\" stroke-width=\"1.32\" x1=\"290.4\" x2=\"290.4\" y1=\"214.335\" y2=\"231.165\"/><text alignment-baseline=\"middle\" fill=\"black\" font-family=\"Times\" font-size=\"8.25\" text-anchor=\"end\" x=\"232.32\" y=\"231.825\">10b</text><rect fill=\"green\" height=\"9.9\" width=\"26.928\" x=\"237.336\" y=\"226.05\"/><circle cx=\"237.6\" cy=\"231.0\" fill=\"green\" r=\"-0.264\" stroke=\"green\" stroke-width=\"0\"/><circle cx=\"264.0\" cy=\"231.0\" fill=\"green\" r=\"-0.264\" stroke=\"green\" stroke-width=\"0\"/><text alignment-baseline=\"middle\" fill=\"white\" font-family=\"Times\" font-size=\"8.25\" text-anchor=\"middle\" x=\"250.8\" y=\"231.825\"/><rect fill=\"green\" height=\"9.9\" width=\"26.928\" x=\"263.736\" y=\"226.05\"/><circle cx=\"264.0\" cy=\"231.0\" fill=\"green\" r=\"-0.264\" stroke=\"green\" stroke-width=\"0\"/><circle cx=\"290.4\" cy=\"231.0\" fill=\"green\" r=\"-0.264\" stroke=\"green\" stroke-width=\"0\"/><text alignment-baseline=\"middle\" fill=\"white\" font-family=\"Times\" font-size=\"8.25\" text-anchor=\"middle\" x=\"277.2\" y=\"231.825\"/><line stroke=\"red\" stroke-width=\"1.32\" x1=\"422.4\" x2=\"422.4\" y1=\"148.335\" y2=\"247.665\"/><text alignment-baseline=\"middle\" fill=\"black\" font-family=\"Times\" font-size=\"8.25\" text-anchor=\"start\" x=\"586.08\" y=\"248.325\">11f</text><rect fill=\"red\" height=\"9.9\" width=\"26.928\" x=\"422.136\" y=\"242.55\"/><circle cx=\"422.4\" cy=\"247.5\" fill=\"red\" r=\"-0.264\" stroke=\"red\" stroke-width=\"0\"/><circle cx=\"448.8\" cy=\"247.5\" fill=\"red\" r=\"-0.264\" stroke=\"red\" stroke-width=\"0\"/><text alignment-baseline=\"middle\" fill=\"white\" font-family=\"Times\" font-size=\"8.25\" text-anchor=\"middle\" x=\"435.6\" y=\"248.325\"/><rect fill=\"red\" height=\"9.9\" width=\"26.928\" x=\"448.536\" y=\"242.55\"/><circle cx=\"448.8\" cy=\"247.5\" fill=\"red\" r=\"-0.264\" stroke=\"red\" stroke-width=\"0\"/><circle cx=\"475.2\" cy=\"247.5\" fill=\"red\" r=\"-0.264\" stroke=\"red\" stroke-width=\"0\"/><text alignment-baseline=\"middle\" fill=\"white\" font-family=\"Times\" font-size=\"8.25\" text-anchor=\"middle\" x=\"462.0\" y=\"248.325\"/><rect fill=\"red\" height=\"9.9\" width=\"26.928\" x=\"474.936\" y=\"242.55\"/><circle cx=\"475.2\" cy=\"247.5\" fill=\"red\" r=\"-0.264\" stroke=\"red\" stroke-width=\"0\"/><circle cx=\"501.6\" cy=\"247.5\" fill=\"red\" r=\"-0.264\" stroke=\"red\" stroke-width=\"0\"/><text alignment-baseline=\"middle\" fill=\"white\" font-family=\"Times\" font-size=\"8.25\" text-anchor=\"middle\" x=\"488.4\" y=\"248.325\"/><rect fill=\"red\" height=\"9.9\" width=\"26.928\" x=\"501.336\" y=\"242.55\"/><circle cx=\"501.6\" cy=\"247.5\" fill=\"red\" r=\"-0.264\" stroke=\"red\" stroke-width=\"0\"/><circle cx=\"528.0\" cy=\"247.5\" fill=\"red\" r=\"-0.264\" stroke=\"red\" stroke-width=\"0\"/><text alignment-baseline=\"middle\" fill=\"white\" font-family=\"Times\" font-size=\"8.25\" text-anchor=\"middle\" x=\"514.8\" y=\"248.325\"/><rect fill=\"red\" height=\"9.9\" width=\"26.928\" x=\"527.736\" y=\"242.55\"/><circle cx=\"528.0\" cy=\"247.5\" fill=\"red\" r=\"-0.264\" stroke=\"red\" stroke-width=\"0\"/><circle cx=\"554.4\" cy=\"247.5\" fill=\"red\" r=\"-0.264\" stroke=\"red\" stroke-width=\"0\"/><text alignment-baseline=\"middle\" fill=\"white\" font-family=\"Times\" font-size=\"8.25\" text-anchor=\"middle\" x=\"541.2\" y=\"248.325\"/><rect fill=\"red\" height=\"9.9\" width=\"26.928\" x=\"554.136\" y=\"242.55\"/><circle cx=\"554.4\" cy=\"247.5\" fill=\"red\" r=\"-0.264\" stroke=\"red\" stroke-width=\"0\"/><circle cx=\"580.8\" cy=\"247.5\" fill=\"red\" r=\"-0.264\" stroke=\"red\" stroke-width=\"0\"/><text alignment-baseline=\"middle\" fill=\"white\" font-family=\"Times\" font-size=\"8.25\" text-anchor=\"middle\" x=\"567.6\" y=\"248.325\"/><text alignment-baseline=\"middle\" fill=\"black\" font-family=\"Times\" font-size=\"8.25\" text-anchor=\"end\" x=\"113.52\" y=\"17.325\">1</text><text alignment-baseline=\"middle\" fill=\"black\" font-family=\"Times\" font-size=\"8.25\" text-anchor=\"end\" x=\"34.32\" y=\"17.325\">1</text><text alignment-baseline=\"middle\" fill=\"black\" font-family=\"Times\" font-size=\"8.25\" text-anchor=\"end\" x=\"113.52\" y=\"33.825\">2</text><text alignment-baseline=\"middle\" fill=\"black\" font-family=\"Times\" font-size=\"8.25\" text-anchor=\"end\" x=\"34.32\" y=\"33.825\">1</text><text alignment-baseline=\"middle\" fill=\"black\" font-family=\"Times\" font-size=\"8.25\" text-anchor=\"end\" x=\"113.52\" y=\"50.325\">3</text><text alignment-baseline=\"middle\" fill=\"black\" font-family=\"Times\" font-size=\"8.25\" text-anchor=\"end\" x=\"34.32\" y=\"50.325\">2</text><text alignment-baseline=\"middle\" fill=\"black\" font-family=\"Times\" font-size=\"8.25\" text-anchor=\"end\" x=\"113.52\" y=\"66.825\">4</text><text alignment-baseline=\"middle\" fill=\"black\" font-family=\"Times\" font-size=\"8.25\" text-anchor=\"end\" x=\"34.32\" y=\"66.825\">2</text><text alignment-baseline=\"middle\" fill=\"black\" font-family=\"Times\" font-size=\"8.25\" text-anchor=\"end\" x=\"113.52\" y=\"83.325\">5</text><text alignment-baseline=\"middle\" fill=\"black\" font-family=\"Times\" font-size=\"8.25\" text-anchor=\"end\" x=\"34.32\" y=\"83.325\">3</text><text alignment-baseline=\"middle\" fill=\"black\" font-family=\"Times\" font-size=\"8.25\" text-anchor=\"end\" x=\"113.52\" y=\"99.825\">6</text><text alignment-baseline=\"middle\" fill=\"black\" font-family=\"Times\" font-size=\"8.25\" text-anchor=\"end\" x=\"34.32\" y=\"99.825\">3</text><text alignment-baseline=\"middle\" fill=\"black\" font-family=\"Times\" font-size=\"8.25\" text-anchor=\"end\" x=\"113.52\" y=\"116.325\">7</text><text alignment-baseline=\"middle\" fill=\"black\" font-family=\"Times\" font-size=\"8.25\" text-anchor=\"end\" x=\"34.32\" y=\"116.325\">4</text><text alignment-baseline=\"middle\" fill=\"black\" font-family=\"Times\" font-size=\"8.25\" text-anchor=\"end\" x=\"113.52\" y=\"132.825\">8</text><text alignment-baseline=\"middle\" fill=\"black\" font-family=\"Times\" font-size=\"8.25\" text-anchor=\"end\" x=\"34.32\" y=\"132.825\">4</text><rect fill=\"black\" height=\"128.7\" width=\"2.64\" x=\"145.2\" y=\"9.9\"/><circle cx=\"145.2\" cy=\"9.9\" fill=\"black\" r=\"-0.264\" stroke=\"black\" stroke-width=\"0\"/><rect fill=\"black\" height=\"1.65\" width=\"26.928\" x=\"131.736\" y=\"9.9\"/><circle cx=\"145.2\" cy=\"138.6\" fill=\"black\" r=\"-0.264\" stroke=\"black\" stroke-width=\"0\"/><rect fill=\"black\" height=\"1.65\" width=\"26.928\" x=\"131.736\" y=\"136.95\"/><text alignment-baseline=\"middle\" fill=\"black\" font-family=\"Times\" font-size=\"8.25\" text-anchor=\"middle\" x=\"137.28\" y=\"75.075\"/><text alignment-baseline=\"middle\" fill=\"black\" font-family=\"Times\" font-size=\"8.25\" text-anchor=\"end\" x=\"113.52\" y=\"149.325\">9</text><text alignment-baseline=\"middle\" fill=\"black\" font-family=\"Times\" font-size=\"8.25\" text-anchor=\"end\" x=\"34.32\" y=\"149.325\">5</text><text alignment-baseline=\"middle\" fill=\"black\" font-family=\"Times\" font-size=\"8.25\" text-anchor=\"end\" x=\"113.52\" y=\"165.825\">10</text><text alignment-baseline=\"middle\" fill=\"black\" font-family=\"Times\" font-size=\"8.25\" text-anchor=\"end\" x=\"34.32\" y=\"165.825\">5</text><text alignment-baseline=\"middle\" fill=\"black\" font-family=\"Times\" font-size=\"8.25\" text-anchor=\"end\" x=\"113.52\" y=\"182.325\">11</text><text alignment-baseline=\"middle\" fill=\"black\" font-family=\"Times\" font-size=\"8.25\" text-anchor=\"end\" x=\"34.32\" y=\"182.325\">6</text><text alignment-baseline=\"middle\" fill=\"black\" font-family=\"Times\" font-size=\"8.25\" text-anchor=\"end\" x=\"113.52\" y=\"198.825\">13</text><text alignment-baseline=\"middle\" fill=\"black\" font-family=\"Times\" font-size=\"8.25\" text-anchor=\"end\" x=\"34.32\" y=\"198.825\">7</text><text alignment-baseline=\"middle\" fill=\"black\" font-family=\"Times\" font-size=\"8.25\" text-anchor=\"end\" x=\"113.52\" y=\"215.325\">15</text><text alignment-baseline=\"middle\" fill=\"black\" font-family=\"Times\" font-size=\"8.25\" text-anchor=\"end\" x=\"34.32\" y=\"215.325\">8</text><text alignment-baseline=\"middle\" fill=\"black\" font-family=\"Times\" font-size=\"8.25\" text-anchor=\"end\" x=\"113.52\" y=\"231.825\">17</text><text alignment-baseline=\"middle\" fill=\"black\" font-family=\"Times\" font-size=\"8.25\" text-anchor=\"end\" x=\"34.32\" y=\"231.825\">9</text><text alignment-baseline=\"middle\" fill=\"black\" font-family=\"Times\" font-size=\"8.25\" text-anchor=\"end\" x=\"113.52\" y=\"248.325\">19</text><text alignment-baseline=\"middle\" fill=\"black\" font-family=\"Times\" font-size=\"8.25\" text-anchor=\"end\" x=\"34.32\" y=\"248.325\">10</text><text alignment-baseline=\"middle\" fill=\"black\" font-family=\"Times\" font-size=\"8.25\" text-anchor=\"end\" x=\"113.52\" y=\"264.825\">20</text><text alignment-baseline=\"middle\" fill=\"black\" font-family=\"Times\" font-size=\"8.25\" text-anchor=\"end\" x=\"34.32\" y=\"264.825\">10</text><rect fill=\"black\" height=\"260.7\" width=\"2.64\" x=\"52.8\" y=\"9.9\"/><circle cx=\"52.8\" cy=\"9.9\" fill=\"black\" r=\"-0.264\" stroke=\"black\" stroke-width=\"0\"/><rect fill=\"black\" height=\"1.65\" width=\"26.928\" x=\"39.336\" y=\"9.9\"/><circle cx=\"52.8\" cy=\"270.6\" fill=\"black\" r=\"-0.264\" stroke=\"black\" stroke-width=\"0\"/><rect fill=\"black\" height=\"1.65\" width=\"26.928\" x=\"39.336\" y=\"268.95\"/><text alignment-baseline=\"middle\" fill=\"black\" font-family=\"Times\" font-size=\"8.25\" text-anchor=\"middle\" x=\"44.88\" y=\"141.075\"/><rect fill=\"black\" height=\"128.7\" width=\"2.64\" x=\"145.2\" y=\"141.9\"/><circle cx=\"145.2\" cy=\"141.9\" fill=\"black\" r=\"-0.264\" stroke=\"black\" stroke-width=\"0\"/><rect fill=\"black\" height=\"1.65\" width=\"26.928\" x=\"131.736\" y=\"141.9\"/><text alignment-baseline=\"middle\" fill=\"black\" font-family=\"Times\" font-size=\"8.25\" text-anchor=\"middle\" x=\"137.28\" y=\"207.075\"/></svg>"
      ],
      "text/plain": [
       "<IPython.core.display.SVG object>"
      ]
     },
     "execution_count": 41,
     "metadata": {},
     "output_type": "execute_result"
    }
   ],
   "source": [
    "tree.rejected = False\n",
    "tree.states = []\n",
    "tree.op = None\n",
    "tree.from_samples(samps)\n",
    "view = tree.renderer\n",
    "view.zoom = 1.1\n",
    "view.horizontal_gap = -0.01\n",
    "view.scale_y = 15\n",
    "view.scale_x = 24\n",
    "view.font_size = 0.5\n",
    "view.font_family = 'Times'\n",
    "SVG(view.to_svg())"
   ]
  },
  {
   "cell_type": "markdown",
   "metadata": {},
   "source": [
    "### Phi/Psi Plots"
   ]
  },
  {
   "cell_type": "code",
   "execution_count": 42,
   "metadata": {
    "collapsed": true
   },
   "outputs": [],
   "source": [
    "# Imports for plotting\n",
    "%matplotlib inline\n",
    "import matplotlib\n",
    "import matplotlib.pyplot as plt\n",
    "import matplotlib.pylab as pylab\n",
    "from matplotlib.legend_handler import HandlerLine2D\n",
    "\n",
    "import numpy as np\n",
    "\n",
    "degrees = 180/3.14159"
   ]
  },
  {
   "cell_type": "markdown",
   "metadata": {},
   "source": [
    "Make sure that all phi/psi values have been computed!"
   ]
  },
  {
   "cell_type": "code",
   "execution_count": 43,
   "metadata": {
    "collapsed": true
   },
   "outputs": [],
   "source": [
    "psi = storage.cvs[0]\n",
    "phi = storage.cvs[1]"
   ]
  },
  {
   "cell_type": "code",
   "execution_count": 44,
   "metadata": {
    "collapsed": false
   },
   "outputs": [
    {
     "data": {
      "image/png": "[encoded data removed]",
      "text/plain": [
       "<matplotlib.figure.Figure at 0x118f4bb10>"
      ]
     },
     "metadata": {},
     "output_type": "display_data"
    }
   ],
   "source": [
    "plt.figure(figsize=(8, 8))\n",
    "\n",
    "for traj in storage.trajectories.iterator():\n",
    "    phi_angles = degrees * np.array(phi(traj)).flatten()\n",
    "    psi_angles = degrees * np.array(psi(traj)).flatten()\n",
    "    plt.plot(phi_angles, psi_angles, 'ro', linewidth=1);\n",
    "    \n",
    "plt.xlim(-180, 180);\n",
    "plt.ylim(-180, 180);"
   ]
  },
  {
   "cell_type": "code",
   "execution_count": 45,
   "metadata": {
    "collapsed": false
   },
   "outputs": [
    {
     "data": {
      "image/png": "[encoded data removed]",
      "text/plain": [
       "<matplotlib.figure.Figure at 0x118f4be90>"
      ]
     },
     "metadata": {},
     "output_type": "display_data"
    }
   ],
   "source": [
    "plt.figure(figsize=(8, 8))\n",
    "\n",
    "traj = storage.trajectories.last\n",
    "phi_angles = degrees * np.array(phi(traj)).flatten()\n",
    "psi_angles = degrees * np.array(psi(traj)).flatten()\n",
    "plt.plot(phi_angles, psi_angles, 'k-', linewidth=1);\n",
    "\n",
    "op_notinAorB = storage.cvs[4]\n",
    "\n",
    "for snapshot in traj:\n",
    "    phi_angles = degrees * np.array(phi(snapshot)).flatten()\n",
    "    psi_angles = degrees * np.array(psi(snapshot)).flatten()\n",
    "    if op_notinAorB(snapshot):\n",
    "        plt.plot(phi_angles, psi_angles, 'ro', linewidth=1);\n",
    "    else:\n",
    "        plt.plot(phi_angles, psi_angles, 'bo', linewidth=1);\n",
    "        \n",
    "plt.xlim(-180, 180);\n",
    "plt.ylim(-180, 180);"
   ]
  },
  {
   "cell_type": "code",
   "execution_count": 46,
   "metadata": {
    "collapsed": false
   },
   "outputs": [
    {
     "data": {
      "image/png": "[encoded data removed]",
      "text/plain": [
       "<matplotlib.figure.Figure at 0x118f4bdd0>"
      ]
     },
     "metadata": {},
     "output_type": "display_data"
    }
   ],
   "source": [
    "plt.figure(figsize=(8, 8))\n",
    "\n",
    "traj = storage.samples.last.trajectory\n",
    "phi_angles = degrees * np.array(phi(traj)).flatten()\n",
    "psi_angles = degrees * np.array(psi(traj)).flatten()\n",
    "plt.plot(phi_angles, psi_angles, 'k-', linewidth=1);\n",
    "\n",
    "\n",
    "#for snapshot in simulator.storage.snapshot.iterator():\n",
    "for snapshot in traj:\n",
    "    phi_angles = degrees * np.array(phi(snapshot)).flatten()\n",
    "    psi_angles = degrees * np.array(psi(snapshot)).flatten()\n",
    "    if op_notinAorB(snapshot):\n",
    "        plt.plot(phi_angles, psi_angles, 'ro', linewidth=1);\n",
    "    else:\n",
    "        plt.plot(phi_angles, psi_angles, 'bo', linewidth=1);\n",
    "        \n",
    "plt.xlim(-180, 180);\n",
    "plt.ylim(-180, 180);"
   ]
  },
  {
   "cell_type": "code",
   "execution_count": null,
   "metadata": {
    "collapsed": true
   },
   "outputs": [],
   "source": []
  }
 ],
 "metadata": {
  "kernelspec": {
   "display_name": "Python 2",
   "language": "python",
   "name": "python2"
  },
  "language_info": {
   "codemirror_mode": {
    "name": "ipython",
    "version": 2
   },
   "file_extension": ".py",
   "mimetype": "text/x-python",
   "name": "python",
   "nbconvert_exporter": "python",
   "pygments_lexer": "ipython2",
   "version": "2.7.10"
  }
 },
 "nbformat": 4,
 "nbformat_minor": 0
}

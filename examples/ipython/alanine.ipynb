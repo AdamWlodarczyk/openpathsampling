{
 "cells": [
  {
   "cell_type": "markdown",
   "metadata": {},
   "source": [
    "# OPENTIS\n",
    "## An Example with Alanine"
   ]
  },
  {
   "cell_type": "markdown",
   "metadata": {},
   "source": [
    "Import Modules"
   ]
  },
  {
   "cell_type": "code",
   "execution_count": 1,
   "metadata": {
    "code_folding": [],
    "collapsed": false
   },
   "outputs": [],
   "source": [
    "import numpy as np\n",
    "import mdtraj as md\n",
    "import pandas as pd\n",
    "import simtk.openmm as mm\n",
    "from simtk.openmm import app\n",
    "from simtk import unit\n",
    " \n",
    "from openpathsampling.storage import Storage\n",
    "from openpathsampling.visualize import PathTreeBuilder\n",
    "from IPython.display import SVG\n",
    "\n",
    "import openpathsampling as paths"
   ]
  },
  {
   "cell_type": "markdown",
   "metadata": {},
   "source": [
    "Radians to Degree conversion"
   ]
  },
  {
   "cell_type": "code",
   "execution_count": 2,
   "metadata": {
    "collapsed": true
   },
   "outputs": [],
   "source": [
    "deg = 3.14159265 / 180.0"
   ]
  },
  {
   "cell_type": "markdown",
   "metadata": {},
   "source": [
    "Create an AlanineOpenMMSimulator for demonstration purposes"
   ]
  },
  {
   "cell_type": "markdown",
   "metadata": {},
   "source": [
    "### Set simulation options and create a simulator object"
   ]
  },
  {
   "cell_type": "code",
   "execution_count": 3,
   "metadata": {
    "collapsed": true
   },
   "outputs": [],
   "source": [
    "template = paths.tools.snapshot_from_pdb(\"../data/Alanine_solvated.pdb\")"
   ]
  },
  {
   "cell_type": "code",
   "execution_count": 4,
   "metadata": {
    "collapsed": false
   },
   "outputs": [],
   "source": [
    "storage = Storage(filename=\"trajectory.nc\", template=template, mode='w')"
   ]
  },
  {
   "cell_type": "markdown",
   "metadata": {},
   "source": [
    "Set up the OpenMM simulation"
   ]
  },
  {
   "cell_type": "code",
   "execution_count": 5,
   "metadata": {
    "code_folding": [
     5
    ],
    "collapsed": false
   },
   "outputs": [],
   "source": [
    "topology = paths.tools.to_openmm_topology(template)            \n",
    "\n",
    "# Generated using OpenMM Script Builder\n",
    "# http://builder.openmm.org\n",
    "\n",
    "forcefield = app.ForceField(\n",
    "    'amber96.xml',  # solute FF\n",
    "    'tip3p.xml'     # solvent FF\n",
    ")\n",
    "\n",
    "# OpenMM System\n",
    "system = forcefield.createSystem(\n",
    "    topology, \n",
    "    nonbondedMethod=app.PME, \n",
    "    nonbondedCutoff=1.0*unit.nanometers, \n",
    "    constraints=app.HBonds, \n",
    "    rigidWater=True, \n",
    "    ewaldErrorTolerance=0.0005\n",
    ")\n",
    "\n",
    "# OpenMM Integrator\n",
    "integrator = mm.LangevinIntegrator(\n",
    "    300*unit.kelvin, \n",
    "    1.0/unit.picoseconds, \n",
    "    2.0*unit.femtoseconds\n",
    ")\n",
    "integrator.setConstraintTolerance(0.00001)\n",
    "\n",
    "# Engine options\n",
    "options = {\n",
    "    'nsteps_per_frame': 10\n",
    "}\n",
    "\n",
    "engine = paths.OpenMMEngine(\n",
    "    template, \n",
    "    system,\n",
    "    integrator,\n",
    "    options\n",
    ")"
   ]
  },
  {
   "cell_type": "code",
   "execution_count": 6,
   "metadata": {
    "collapsed": true
   },
   "outputs": [],
   "source": [
    "storage.save(engine)"
   ]
  },
  {
   "cell_type": "markdown",
   "metadata": {},
   "source": [
    "And save the storage in a separate variable for convenience"
   ]
  },
  {
   "cell_type": "code",
   "execution_count": 7,
   "metadata": {
    "collapsed": false
   },
   "outputs": [],
   "source": [
    "paths.EngineMover.engine = engine"
   ]
  },
  {
   "cell_type": "code",
   "execution_count": 8,
   "metadata": {
    "collapsed": true
   },
   "outputs": [],
   "source": [
    "storage.set_caching_mode('lowmemory')"
   ]
  },
  {
   "cell_type": "markdown",
   "metadata": {},
   "source": [
    "Equilibrate"
   ]
  },
  {
   "cell_type": "code",
   "execution_count": 9,
   "metadata": {
    "collapsed": false
   },
   "outputs": [],
   "source": [
    "engine.current_snapshot = engine.template\n",
    "#engine.equilibrate(5)"
   ]
  },
  {
   "cell_type": "markdown",
   "metadata": {},
   "source": [
    "Save equilibrated snapshot with index 0"
   ]
  },
  {
   "cell_type": "code",
   "execution_count": 10,
   "metadata": {
    "collapsed": true
   },
   "outputs": [],
   "source": [
    "storage.save(engine.current_snapshot);"
   ]
  },
  {
   "cell_type": "markdown",
   "metadata": {},
   "source": [
    "### Order Parameters"
   ]
  },
  {
   "cell_type": "markdown",
   "metadata": {},
   "source": [
    "this generates an order parameter (callable) object named psi (so if we call `psi(trajectory)` we get a list of the values of psi for each frame in the trajectory). This particular order parameter uses mdtraj's compute_dihedrals function, with the atoms in psi_atoms"
   ]
  },
  {
   "cell_type": "code",
   "execution_count": 11,
   "metadata": {
    "collapsed": false
   },
   "outputs": [],
   "source": [
    "psi_atoms = [6,8,14,16]\n",
    "psi = paths.CV_MDTraj_Function(\"psi\", md.compute_dihedrals, indices=[psi_atoms])\n",
    "\n",
    "phi_atoms = [4,6,8,14]\n",
    "phi = paths.CV_MDTraj_Function(\"phi\", md.compute_dihedrals, indices=[phi_atoms])"
   ]
  },
  {
   "cell_type": "code",
   "execution_count": 12,
   "metadata": {
    "collapsed": false
   },
   "outputs": [],
   "source": [
    "storage.save([psi, phi]);"
   ]
  },
  {
   "cell_type": "markdown",
   "metadata": {},
   "source": [
    "### Volumes"
   ]
  },
  {
   "cell_type": "markdown",
   "metadata": {},
   "source": [
    "This creates two states using a one-dimensional order parameter (called _Lambda_ in TIS terminology). A snapshot is in the State as long as the order parameter is with specific bounds. \n",
    "\n",
    "StateA is $\\psi \\in [-120, -30]$ and StateB is $\\psi \\in [100, 180]$"
   ]
  },
  {
   "cell_type": "code",
   "execution_count": 13,
   "metadata": {
    "collapsed": false
   },
   "outputs": [],
   "source": [
    "stateA = paths.CVRangeVolumePeriodic(\n",
    "    collectivevariable=psi, \n",
    "    lambda_min=-120.0*deg, \n",
    "    lambda_max=-30.0*deg, \n",
    "    period_min=-180.0*deg, \n",
    "    period_max=+180.0*deg\n",
    ")\n",
    "stateB = paths.CVRangeVolumePeriodic(\n",
    "    collectivevariable=psi, \n",
    "    lambda_min=100.0*deg, \n",
    "    lambda_max=180.0*deg, \n",
    "    period_min=-180.0*deg, \n",
    "    period_max=+180.0*deg\n",
    ")"
   ]
  },
  {
   "cell_type": "markdown",
   "metadata": {},
   "source": [
    "Now do the same for a set of lambda ranges to produce nested volumes."
   ]
  },
  {
   "cell_type": "code",
   "execution_count": 14,
   "metadata": {
    "collapsed": false
   },
   "outputs": [],
   "source": [
    "minima = map(deg.__mul__, [-125, -135, -140, -142.5, -145.0, -147.0, -150.0])\n",
    "maxima = map(deg.__mul__, [-25.0, -21.0, -18.5, -17.0, -15.0, -10.0, 0.0])\n",
    "\n",
    "volume_set = paths.VolumeFactory.CVRangeVolumePeriodicSet(psi, minima, maxima, -180.0*deg, +180.0*deg)"
   ]
  },
  {
   "cell_type": "markdown",
   "metadata": {},
   "source": [
    "### Ensembles"
   ]
  },
  {
   "cell_type": "markdown",
   "metadata": {},
   "source": [
    "Now do this automatically for all ensembles"
   ]
  },
  {
   "cell_type": "code",
   "execution_count": 15,
   "metadata": {
    "collapsed": false
   },
   "outputs": [],
   "source": [
    "interface0 = volume_set[0]\n",
    "interface_set = paths.EnsembleFactory.TISEnsembleSet(stateA, stateA | stateB, volume_set, psi)"
   ]
  },
  {
   "cell_type": "markdown",
   "metadata": {},
   "source": [
    "Give each interface a name"
   ]
  },
  {
   "cell_type": "code",
   "execution_count": 16,
   "metadata": {
    "collapsed": true
   },
   "outputs": [],
   "source": [
    "for no, interface in enumerate(interface_set):\n",
    "    interface.name = 'Interface ' + str(no)"
   ]
  },
  {
   "cell_type": "markdown",
   "metadata": {},
   "source": [
    "and save all of these"
   ]
  },
  {
   "cell_type": "code",
   "execution_count": 17,
   "metadata": {
    "collapsed": false
   },
   "outputs": [],
   "source": [
    "map(storage.ensembles.save, interface_set);"
   ]
  },
  {
   "cell_type": "markdown",
   "metadata": {},
   "source": [
    "And create a special ensemble, that will create a first trajectory in the innermost TIS ensemble independent from where we start"
   ]
  },
  {
   "cell_type": "markdown",
   "metadata": {},
   "source": [
    "The idea is to describe a trajectory type by a sequence of positions. First can be outside of stateA or not, then be inside stateA, etc..."
   ]
  },
  {
   "cell_type": "code",
   "execution_count": 18,
   "metadata": {
    "collapsed": true
   },
   "outputs": [],
   "source": [
    "inA = paths.AllInXEnsemble(stateA)\n",
    "outA = paths.AllOutXEnsemble(stateA)\n",
    "\n",
    "inI0 = paths.AllInXEnsemble(interface0)\n",
    "outI0 = paths.AllOutXEnsemble(interface0)\n",
    "\n",
    "first_traj_ensemble = paths.SequentialEnsemble([\n",
    "    paths.OptionalEnsemble(outA),\n",
    "    inA,\n",
    "    paths.OptionalEnsemble(outA & inI0),\n",
    "    paths.OptionalEnsemble(inI0),\n",
    "    outI0,\n",
    "    paths.OptionalEnsemble(outA),\n",
    "    paths.SingleFrameEnsemble(inA)\n",
    "])"
   ]
  },
  {
   "cell_type": "markdown",
   "metadata": {},
   "source": [
    "### start path generation"
   ]
  },
  {
   "cell_type": "markdown",
   "metadata": {},
   "source": [
    "so lets try and see if we can generate a first path"
   ]
  },
  {
   "cell_type": "markdown",
   "metadata": {},
   "source": [
    "load the initial snapshot (although we still have it) and generate using the Alanine simulator. The second option specifies a function : trajectory -> bool that keeps the simulation running as long as it is true. Our goal was to generate a path that belongs to a specific ensemble, so we use `forward` to determine if it makes sense to keep running or if the result cannot belong to the ensemble anymore."
   ]
  },
  {
   "cell_type": "code",
   "execution_count": 19,
   "metadata": {
    "collapsed": false
   },
   "outputs": [],
   "source": [
    "snapshot = storage.template\n",
    "total_path = engine.generate(\n",
    "    snapshot= snapshot, \n",
    "    running = [first_traj_ensemble.can_append]\n",
    ")"
   ]
  },
  {
   "cell_type": "markdown",
   "metadata": {},
   "source": [
    "Show the length"
   ]
  },
  {
   "cell_type": "code",
   "execution_count": 20,
   "metadata": {
    "collapsed": false
   },
   "outputs": [
    {
     "name": "stdout",
     "output_type": "stream",
     "text": [
      "Total trajectory length:  34\n"
     ]
    }
   ],
   "source": [
    "print \"Total trajectory length: \", len(total_path)"
   ]
  },
  {
   "cell_type": "markdown",
   "metadata": {},
   "source": [
    "And save the trajetory completely"
   ]
  },
  {
   "cell_type": "code",
   "execution_count": 21,
   "metadata": {
    "collapsed": true
   },
   "outputs": [],
   "source": [
    "storage.save(total_path);"
   ]
  },
  {
   "cell_type": "markdown",
   "metadata": {},
   "source": [
    "Split the trajectory into parts that belong to the TIS ensemble (not the one we generated)"
   ]
  },
  {
   "cell_type": "code",
   "execution_count": 22,
   "metadata": {
    "collapsed": false
   },
   "outputs": [
    {
     "name": "stdout",
     "output_type": "stream",
     "text": [
      "Traj in first_traj_ensemble? (should be) True\n",
      "Traj in TIS ensemble? (probably not) False\n",
      "Number of segments in TIS ensemble:  1\n",
      "Length of each segment:\n",
      "  seg[0]: 7\n"
     ]
    }
   ],
   "source": [
    "interface0_ensemble = interface_set[0]\n",
    "segments = interface0_ensemble.split(total_path)\n",
    "\n",
    "print \"Traj in first_traj_ensemble? (should be)\", \n",
    "print first_traj_ensemble(total_path)\n",
    "\n",
    "print \"Traj in TIS ensemble? (probably not)\", \n",
    "print interface0_ensemble(total_path)\n",
    "\n",
    "\n",
    "print \"Number of segments in TIS ensemble: \", len(segments)\n",
    "if len(segments):\n",
    "    print \"Length of each segment:\"\n",
    "    for i in range(len(segments)):\n",
    "        print \"  seg[{0}]: {1}\".format(i, len(segments[i]))"
   ]
  },
  {
   "cell_type": "markdown",
   "metadata": {},
   "source": [
    "Show some results and check if this worked"
   ]
  },
  {
   "cell_type": "code",
   "execution_count": 23,
   "metadata": {
    "collapsed": false
   },
   "outputs": [
    {
     "data": {
      "text/html": [
       "<div>\n",
       "<table border=\"1\" class=\"dataframe\">\n",
       "  <thead>\n",
       "    <tr style=\"text-align: right;\">\n",
       "      <th></th>\n",
       "      <th>phi</th>\n",
       "      <th>psi</th>\n",
       "      <th>stateA</th>\n",
       "      <th>interface0</th>\n",
       "      <th>stateB</th>\n",
       "      <th>appendable</th>\n",
       "    </tr>\n",
       "  </thead>\n",
       "  <tbody>\n",
       "    <tr>\n",
       "      <th>0</th>\n",
       "      <td>-80.208455</td>\n",
       "      <td>-10.277032</td>\n",
       "      <td>False</td>\n",
       "      <td>False</td>\n",
       "      <td>False</td>\n",
       "      <td>True</td>\n",
       "    </tr>\n",
       "    <tr>\n",
       "      <th>1</th>\n",
       "      <td>-83.684741</td>\n",
       "      <td>-10.747345</td>\n",
       "      <td>False</td>\n",
       "      <td>False</td>\n",
       "      <td>False</td>\n",
       "      <td>True</td>\n",
       "    </tr>\n",
       "    <tr>\n",
       "      <th>2</th>\n",
       "      <td>-82.058535</td>\n",
       "      <td>-11.722568</td>\n",
       "      <td>False</td>\n",
       "      <td>False</td>\n",
       "      <td>False</td>\n",
       "      <td>True</td>\n",
       "    </tr>\n",
       "    <tr>\n",
       "      <th>31</th>\n",
       "      <td>-87.592149</td>\n",
       "      <td>-24.194466</td>\n",
       "      <td>False</td>\n",
       "      <td>False</td>\n",
       "      <td>False</td>\n",
       "      <td>True</td>\n",
       "    </tr>\n",
       "    <tr>\n",
       "      <th>32</th>\n",
       "      <td>-87.583249</td>\n",
       "      <td>-27.501699</td>\n",
       "      <td>False</td>\n",
       "      <td>True</td>\n",
       "      <td>False</td>\n",
       "      <td>True</td>\n",
       "    </tr>\n",
       "    <tr>\n",
       "      <th>33</th>\n",
       "      <td>-87.074817</td>\n",
       "      <td>-31.430307</td>\n",
       "      <td>True</td>\n",
       "      <td>True</td>\n",
       "      <td>False</td>\n",
       "      <td>False</td>\n",
       "    </tr>\n",
       "  </tbody>\n",
       "</table>\n",
       "</div>"
      ],
      "text/plain": [
       "          phi        psi stateA interface0 stateB appendable\n",
       "0  -80.208455 -10.277032  False      False  False       True\n",
       "1  -83.684741 -10.747345  False      False  False       True\n",
       "2  -82.058535 -11.722568  False      False  False       True\n",
       "31 -87.592149 -24.194466  False      False  False       True\n",
       "32 -87.583249 -27.501699  False       True  False       True\n",
       "33 -87.074817 -31.430307   True       True  False      False"
      ]
     },
     "execution_count": 23,
     "metadata": {},
     "output_type": "execute_result"
    }
   ],
   "source": [
    "data = []\n",
    "for frame in total_path:\n",
    "    data.append((phi(frame) / deg, psi(frame)/deg, stateA(frame), interface0(frame), stateB(frame), first_traj_ensemble.can_append(total_path[slice(0,total_path.index(frame)+1)])))\n",
    "    \n",
    "dataframe = pd.DataFrame(data, columns=['phi', 'psi', 'stateA', 'interface0', 'stateB', 'appendable'])\n",
    "dataframe[[0,1,2,3,4,5]].ix[[0,1,2,len(dataframe)-3,len(dataframe)-2,len(dataframe)-1]]"
   ]
  },
  {
   "cell_type": "code",
   "execution_count": 24,
   "metadata": {
    "collapsed": false
   },
   "outputs": [
    {
     "name": "stdout",
     "output_type": "stream",
     "text": [
      "Do our segments satisfy the ensemble? True\n"
     ]
    }
   ],
   "source": [
    "print \"Do our segments satisfy the ensemble?\",\n",
    "for seg in segments:\n",
    "    print interface0_ensemble(seg),"
   ]
  },
  {
   "cell_type": "code",
   "execution_count": 25,
   "metadata": {
    "collapsed": false
   },
   "outputs": [
    {
     "data": {
      "text/html": [
       "<div>\n",
       "<table border=\"1\" class=\"dataframe\">\n",
       "  <thead>\n",
       "    <tr style=\"text-align: right;\">\n",
       "      <th></th>\n",
       "      <th>phi</th>\n",
       "      <th>psi</th>\n",
       "      <th>stateA</th>\n",
       "      <th>interface0</th>\n",
       "      <th>stateB</th>\n",
       "      <th>appendable</th>\n",
       "    </tr>\n",
       "  </thead>\n",
       "  <tbody>\n",
       "    <tr>\n",
       "      <th>0</th>\n",
       "      <td>-91.763325</td>\n",
       "      <td>-35.372365</td>\n",
       "      <td>True</td>\n",
       "      <td>True</td>\n",
       "      <td>False</td>\n",
       "      <td>True</td>\n",
       "    </tr>\n",
       "    <tr>\n",
       "      <th>1</th>\n",
       "      <td>-95.117638</td>\n",
       "      <td>-27.554465</td>\n",
       "      <td>False</td>\n",
       "      <td>True</td>\n",
       "      <td>False</td>\n",
       "      <td>True</td>\n",
       "    </tr>\n",
       "    <tr>\n",
       "      <th>2</th>\n",
       "      <td>-91.563248</td>\n",
       "      <td>-24.946595</td>\n",
       "      <td>False</td>\n",
       "      <td>False</td>\n",
       "      <td>False</td>\n",
       "      <td>True</td>\n",
       "    </tr>\n",
       "    <tr>\n",
       "      <th>3</th>\n",
       "      <td>-82.792002</td>\n",
       "      <td>-29.154143</td>\n",
       "      <td>False</td>\n",
       "      <td>True</td>\n",
       "      <td>False</td>\n",
       "      <td>True</td>\n",
       "    </tr>\n",
       "    <tr>\n",
       "      <th>4</th>\n",
       "      <td>-87.592149</td>\n",
       "      <td>-24.194466</td>\n",
       "      <td>False</td>\n",
       "      <td>False</td>\n",
       "      <td>False</td>\n",
       "      <td>True</td>\n",
       "    </tr>\n",
       "    <tr>\n",
       "      <th>5</th>\n",
       "      <td>-87.583249</td>\n",
       "      <td>-27.501699</td>\n",
       "      <td>False</td>\n",
       "      <td>True</td>\n",
       "      <td>False</td>\n",
       "      <td>True</td>\n",
       "    </tr>\n",
       "    <tr>\n",
       "      <th>6</th>\n",
       "      <td>-87.074817</td>\n",
       "      <td>-31.430307</td>\n",
       "      <td>True</td>\n",
       "      <td>True</td>\n",
       "      <td>False</td>\n",
       "      <td>False</td>\n",
       "    </tr>\n",
       "  </tbody>\n",
       "</table>\n",
       "</div>"
      ],
      "text/plain": [
       "         phi        psi stateA interface0 stateB appendable\n",
       "0 -91.763325 -35.372365   True       True  False       True\n",
       "1 -95.117638 -27.554465  False       True  False       True\n",
       "2 -91.563248 -24.946595  False      False  False       True\n",
       "3 -82.792002 -29.154143  False       True  False       True\n",
       "4 -87.592149 -24.194466  False      False  False       True\n",
       "5 -87.583249 -27.501699  False       True  False       True\n",
       "6 -87.074817 -31.430307   True       True  False      False"
      ]
     },
     "execution_count": 25,
     "metadata": {},
     "output_type": "execute_result"
    }
   ],
   "source": [
    "data = []\n",
    "for frame in segments[0]:\n",
    "    data.append((phi(frame)/deg, psi(frame)/deg, stateA(frame), interface0(frame), stateB(frame), first_traj_ensemble.can_append(total_path[slice(0,total_path.index(frame)+1)])))\n",
    "    \n",
    "dataframe = pd.DataFrame(data, columns=['phi', 'psi', 'stateA', 'interface0', 'stateB', 'appendable'])\n",
    "dataframe[[0,1,2,3,4,5]]"
   ]
  },
  {
   "cell_type": "markdown",
   "metadata": {},
   "source": [
    "### Bootstrapping"
   ]
  },
  {
   "cell_type": "markdown",
   "metadata": {},
   "source": [
    "Run a bootstrapping (not TIS) simulation that shoots from an ensemble until the next interface is reached then switch to the next ensemble to drive the system out of stateA"
   ]
  },
  {
   "cell_type": "code",
   "execution_count": 26,
   "metadata": {
    "collapsed": false
   },
   "outputs": [],
   "source": [
    "mover_set = paths.PathMoverFactory.OneWayShootingSet(paths.UniformSelector(), interface_set)"
   ]
  },
  {
   "cell_type": "code",
   "execution_count": 27,
   "metadata": {
    "collapsed": false
   },
   "outputs": [],
   "source": [
    "bootstrap = paths.Bootstrapping(storage=storage,\n",
    "                          engine=engine,\n",
    "                          ensembles=interface_set,\n",
    "                          movers=mover_set,\n",
    "                          trajectory=segments[0])"
   ]
  },
  {
   "cell_type": "markdown",
   "metadata": {},
   "source": [
    "Run Bootstrapping with at most 50 attempts per ensemble"
   ]
  },
  {
   "cell_type": "code",
   "execution_count": 28,
   "metadata": {
    "collapsed": false
   },
   "outputs": [
    {
     "name": "stdout",
     "output_type": "stream",
     "text": [
      "DONE! Completed Bootstrapping cycle step 50 in ensemble 1/7 .\n",
      "\n"
     ]
    }
   ],
   "source": [
    "bootstrap.run(50)"
   ]
  },
  {
   "cell_type": "markdown",
   "metadata": {},
   "source": [
    "Save all computed phi/psi values which depends on whether they have been needed before"
   ]
  },
  {
   "cell_type": "code",
   "execution_count": 29,
   "metadata": {
    "collapsed": true
   },
   "outputs": [],
   "source": [
    "storage.cvs.sync()"
   ]
  },
  {
   "cell_type": "markdown",
   "metadata": {},
   "source": [
    "Create an collectivevariable from a volume which is just 1 or 0 and can thus be stored for later analysis"
   ]
  },
  {
   "cell_type": "code",
   "execution_count": 30,
   "metadata": {
    "collapsed": true
   },
   "outputs": [],
   "source": [
    "op_inA = paths.CV_Volume('StateA', stateA)\n",
    "op_inB = paths.CV_Volume('StateB', stateB)\n",
    "op_notinAorB = paths.CV_Volume('StateX', ~ (stateA | stateB))"
   ]
  },
  {
   "cell_type": "markdown",
   "metadata": {},
   "source": [
    "Save the new collectivevariables"
   ]
  },
  {
   "cell_type": "code",
   "execution_count": 31,
   "metadata": {
    "collapsed": true
   },
   "outputs": [],
   "source": [
    "storage.save([op_inA, op_inB, op_notinAorB]);"
   ]
  },
  {
   "cell_type": "markdown",
   "metadata": {},
   "source": [
    "Compute the collectivevariable for all snapshots"
   ]
  },
  {
   "cell_type": "code",
   "execution_count": 32,
   "metadata": {
    "collapsed": true
   },
   "outputs": [],
   "source": [
    "psi(storage.snapshots.all());\n",
    "phi(storage.snapshots.all());"
   ]
  },
  {
   "cell_type": "code",
   "execution_count": 33,
   "metadata": {
    "collapsed": true
   },
   "outputs": [],
   "source": [
    "op_inA(storage.snapshots.all())\n",
    "op_inB(storage.snapshots.all())\n",
    "op_notinAorB(storage.snapshots.all());"
   ]
  },
  {
   "cell_type": "code",
   "execution_count": 34,
   "metadata": {
    "collapsed": true
   },
   "outputs": [],
   "source": [
    "storage.cvs.sync()\n",
    "storage.sync()"
   ]
  },
  {
   "cell_type": "code",
   "execution_count": 35,
   "metadata": {
    "collapsed": true
   },
   "outputs": [],
   "source": [
    "storage.close()"
   ]
  },
  {
   "cell_type": "code",
   "execution_count": 36,
   "metadata": {
    "collapsed": true
   },
   "outputs": [],
   "source": [
    "import openpathsampling as paths\n",
    "from openpathsampling.visualize import PathTreeBuilder\n",
    "from IPython.display import SVG\n",
    "import mdtraj"
   ]
  },
  {
   "cell_type": "code",
   "execution_count": 37,
   "metadata": {
    "collapsed": true
   },
   "outputs": [],
   "source": [
    "storage = paths.storage.AnalysisStorage('trajectory.nc')"
   ]
  },
  {
   "cell_type": "markdown",
   "metadata": {},
   "source": [
    "## Visualization"
   ]
  },
  {
   "cell_type": "markdown",
   "metadata": {},
   "source": [
    "Create a PathTree generator"
   ]
  },
  {
   "cell_type": "code",
   "execution_count": 38,
   "metadata": {
    "collapsed": true
   },
   "outputs": [],
   "source": [
    "tree = PathTreeBuilder(storage)"
   ]
  },
  {
   "cell_type": "markdown",
   "metadata": {},
   "source": [
    "Change the settings to show rejected pathways, mark OrderParaemters `stateA` and `stateX`, and show the 'psi' value as text inside of the boxes"
   ]
  },
  {
   "cell_type": "code",
   "execution_count": 40,
   "metadata": {
    "collapsed": false
   },
   "outputs": [],
   "source": [
    "tree.rejected = False\n",
    "tree.states = {'orange': storage.cvs[2]}\n",
    "# Some ideas for collectivevariables to visualize\n",
    "tree.op = lambda snap : 'B' if snap.reversed else 'F'\n",
    "tree.op = lambda snap : int(psi(snap)[0]/3.1415926 * 180)\n",
    "tree.op = lambda snap : snap.configuration.idx(storage.configurations)\n",
    "samps = tree.construct_heritage(storage.samples.last)\n",
    "tree.from_samples(samps)\n",
    "#for sset in storage.samplesets:\n",
    "#    print sset.movepath\n",
    "    \n",
    "#for s in samps:\n",
    "#    print (s, s.ensemble.idx[storage], s.replica, len(tree.construct_heritage(s)), s.mover.__class__.__name__)"
   ]
  },
  {
   "cell_type": "markdown",
   "metadata": {},
   "source": [
    "Render the tree"
   ]
  },
  {
   "cell_type": "code",
   "execution_count": 44,
   "metadata": {
    "collapsed": false,
    "scrolled": false
   },
   "outputs": [
    {
     "data": {
      "image/svg+xml": [
       "<svg baseProfile=\"full\" class=\"opstree\" height=\"100%\" version=\"1.1\" viewBox=\"132.00 42.24 546.48 1235.52\" width=\"100%\" xmlns=\"http://www.w3.org/2000/svg\" xmlns:ev=\"http://www.w3.org/2001/xml-events\" xmlns:xlink=\"http://www.w3.org/1999/xlink\"><defs><style type=\"text/css\"><![CDATA[\n",
       "            .opstree text {\n",
       "                alignment-baseline: central;\n",
       "                font-size: 10px;\n",
       "                text-anchor: middle;\n",
       "            }\n",
       "            .opstree text.bw.label {\n",
       "                text-anchor: end;\n",
       "            }\n",
       "            .opstree text.fw.label {\n",
       "                text-anchor: start;\n",
       "            }\n",
       "            .opstree text.block {\n",
       "                fill: white !important;\n",
       "                stroke: none !important;\n",
       "            }\n",
       "            .opstree .repex {\n",
       "                fill: blue;\n",
       "            }\n",
       "            .opstree .new {\n",
       "                fill: black;\n",
       "            }\n",
       "            .opstree .hop {\n",
       "                fill: blue;\n",
       "            }\n",
       "            .opstree .shooting.bw {\n",
       "                fill: green;\n",
       "                stroke: green;\n",
       "            }\n",
       "            .opstree .shooting.fw {\n",
       "                fill: red;\n",
       "                stroke: red;\n",
       "            }\n",
       "            .opstree .reversal {\n",
       "                fill: gold;\n",
       "            }\n",
       "            .opstree line {\n",
       "                stroke-width: 2px;\n",
       "            }\n",
       "            .opstree .label {\n",
       "                fill: black !important;\n",
       "            }\n",
       "            .opstree .connection {\n",
       "                stroke-dasharray: 3 3;\n",
       "            }\n",
       "            .opstree .rejected {\n",
       "                opacity: 0.3;\n",
       "            }\n",
       "            .opstree text {\n",
       "                font-family: Impact;\n",
       "            }\n",
       "            .opstree .orange {\n",
       "                fill: orange;\n",
       "            }\n",
       "            .tableline {\n",
       "                fill: gray;\n",
       "                opacity: 0.0;\n",
       "            }\n",
       "            .tableline:hover {\n",
       "                opacity: 0.2;\n",
       "            }\n",
       "            ]]></style></defs><rect class=\"orange shade shade shade shade\" height=\"2.64\" width=\"26.4\" x=\"435.6\" y=\"1250.04\"/><rect class=\"orange shade shade shade shade\" height=\"2.64\" width=\"26.4\" x=\"514.8\" y=\"1223.64\"/><rect class=\"orange shade shade shade shade\" height=\"2.64\" width=\"26.4\" x=\"435.6\" y=\"1197.24\"/><rect class=\"orange shade shade shade shade\" height=\"2.64\" width=\"26.4\" x=\"435.6\" y=\"1170.84\"/><rect class=\"orange shade shade shade shade\" height=\"2.64\" width=\"26.4\" x=\"435.6\" y=\"1144.44\"/><rect class=\"orange shade shade shade shade\" height=\"2.64\" width=\"26.4\" x=\"514.8\" y=\"1118.04\"/><rect class=\"orange shade shade shade shade\" height=\"2.64\" width=\"26.4\" x=\"567.6\" y=\"1091.64\"/><rect class=\"orange shade shade shade shade\" height=\"2.64\" width=\"26.4\" x=\"435.6\" y=\"1065.24\"/><rect class=\"orange shade shade shade shade\" height=\"2.64\" width=\"26.4\" x=\"567.6\" y=\"1038.84\"/><rect class=\"orange shade shade shade shade\" height=\"2.64\" width=\"26.4\" x=\"435.6\" y=\"1012.44\"/><rect class=\"orange shade shade shade shade\" height=\"2.64\" width=\"26.4\" x=\"620.4\" y=\"986.04\"/><rect class=\"orange shade shade shade shade\" height=\"2.64\" width=\"26.4\" x=\"646.8\" y=\"959.64\"/><rect class=\"orange shade shade shade shade\" height=\"2.64\" width=\"26.4\" x=\"567.6\" y=\"933.24\"/><rect class=\"orange shade shade shade shade\" height=\"2.64\" width=\"26.4\" x=\"567.6\" y=\"906.84\"/><rect class=\"orange shade shade shade shade\" height=\"2.64\" width=\"26.4\" x=\"567.6\" y=\"880.44\"/><rect class=\"orange shade shade shade shade\" height=\"2.64\" width=\"26.4\" x=\"435.6\" y=\"854.04\"/><rect class=\"orange shade shade shade shade\" height=\"2.64\" width=\"26.4\" x=\"567.6\" y=\"827.64\"/><rect class=\"orange shade shade shade shade\" height=\"2.64\" width=\"26.4\" x=\"435.6\" y=\"801.24\"/><rect class=\"orange shade shade shade shade\" height=\"2.64\" width=\"26.4\" x=\"594.0\" y=\"774.84\"/><rect class=\"orange shade shade shade shade\" height=\"2.64\" width=\"26.4\" x=\"594.0\" y=\"748.44\"/><rect class=\"orange shade shade shade shade\" height=\"2.64\" width=\"26.4\" x=\"594.0\" y=\"722.04\"/><rect class=\"orange shade shade shade shade\" height=\"2.64\" width=\"26.4\" x=\"594.0\" y=\"695.64\"/><rect class=\"orange shade shade shade shade\" height=\"2.64\" width=\"26.4\" x=\"514.8\" y=\"669.24\"/><rect class=\"orange shade shade shade shade\" height=\"2.64\" width=\"26.4\" x=\"514.8\" y=\"642.84\"/><rect class=\"orange shade shade shade shade\" height=\"2.64\" width=\"26.4\" x=\"594.0\" y=\"616.44\"/><rect class=\"orange shade shade shade shade\" height=\"2.64\" width=\"26.4\" x=\"620.4\" y=\"590.04\"/><rect class=\"orange shade shade shade shade\" height=\"2.64\" width=\"26.4\" x=\"514.8\" y=\"563.64\"/><rect class=\"orange shade shade shade shade\" height=\"2.64\" width=\"26.4\" x=\"514.8\" y=\"537.24\"/><rect class=\"orange shade shade shade shade\" height=\"2.64\" width=\"26.4\" x=\"620.4\" y=\"510.84\"/><rect class=\"orange shade shade shade shade\" height=\"2.64\" width=\"26.4\" x=\"594.0\" y=\"484.44\"/><rect class=\"orange shade shade shade shade\" height=\"2.64\" width=\"26.4\" x=\"514.8\" y=\"458.04\"/><rect class=\"orange shade shade shade shade\" height=\"2.64\" width=\"26.4\" x=\"514.8\" y=\"431.64\"/><rect class=\"orange shade shade shade shade\" height=\"2.64\" width=\"26.4\" x=\"514.8\" y=\"405.24\"/><rect class=\"orange shade shade shade shade\" height=\"2.64\" width=\"26.4\" x=\"514.8\" y=\"378.84\"/><rect class=\"orange shade shade shade shade\" height=\"2.64\" width=\"26.4\" x=\"594.0\" y=\"352.44\"/><rect class=\"orange shade shade shade shade\" height=\"2.64\" width=\"26.4\" x=\"514.8\" y=\"326.04\"/><rect class=\"orange shade shade shade shade\" height=\"2.64\" width=\"26.4\" x=\"514.8\" y=\"299.64\"/><rect class=\"orange shade shade shade shade\" height=\"2.64\" width=\"26.4\" x=\"514.8\" y=\"273.24\"/><rect class=\"orange shade shade shade shade\" height=\"2.64\" width=\"26.4\" x=\"594.0\" y=\"246.84\"/><rect class=\"orange shade shade shade shade\" height=\"2.64\" width=\"26.4\" x=\"594.0\" y=\"220.44\"/><rect class=\"orange shade shade shade shade\" height=\"2.64\" width=\"26.4\" x=\"594.0\" y=\"194.04\"/><rect class=\"orange shade shade shade shade\" height=\"2.64\" width=\"26.4\" x=\"594.0\" y=\"167.64\"/><rect class=\"orange shade shade shade shade\" height=\"2.64\" width=\"26.4\" x=\"514.8\" y=\"141.24\"/><rect class=\"orange shade shade shade shade\" height=\"2.64\" width=\"26.4\" x=\"462.0\" y=\"114.84\"/><rect class=\"orange shade shade shade shade\" height=\"2.64\" width=\"26.4\" x=\"594.0\" y=\"88.44\"/><rect class=\"orange shade shade shade shade\" height=\"2.64\" width=\"26.4\" x=\"462.0\" y=\"88.44\"/><text class=\"unknown left label label label label\" x=\"422.4\" y=\"79.2\">2+</text><rect class=\"unknown overlap range range range range\" height=\"2.64\" width=\"155.76\" x=\"463.32\" y=\"77.88\"/><circle class=\"unknown overlap range range range range\" cx=\"462.0\" cy=\"79.2\" r=\"1.32\"/><rect class=\"unknown overlap range range range range\" height=\"15.84\" width=\"2.64\" x=\"463.32\" y=\"71.28\"/><circle class=\"unknown overlap range range range range\" cx=\"620.4\" cy=\"79.2\" r=\"1.32\"/><rect class=\"unknown overlap range range range range\" height=\"15.84\" width=\"2.64\" x=\"616.44\" y=\"71.28\"/><text class=\"unknown overlap range range range range\" x=\"541.2\" y=\"71.28\"/><text class=\"shooting left label label label label\" x=\"422.4\" y=\"105.6\">3b</text><line class=\"shooting bw connection v-connection v-connection v-connection v-connection\" x1=\"488.4\" x2=\"488.4\" y1=\"80.52\" y2=\"104.28\"/><rect class=\"shooting bw block block block block\" height=\"15.84\" width=\"23.76\" x=\"463.32\" y=\"97.68\"/><circle class=\"shooting bw block block block block\" cx=\"488.4\" cy=\"105.6\" r=\"1.32\"/><text class=\"shooting bw block block block block\" x=\"475.2\" y=\"105.6\">37</text><text class=\"shooting left label label label label\" x=\"475.2\" y=\"132.0\">4b</text><line class=\"shooting bw connection v-connection v-connection v-connection v-connection\" x1=\"541.2\" x2=\"541.2\" y1=\"80.52\" y2=\"130.68\"/><rect class=\"shooting bw block block block block\" height=\"15.84\" width=\"23.76\" x=\"516.12\" y=\"124.08\"/><circle class=\"shooting bw block block block block\" cx=\"541.2\" cy=\"132.0\" r=\"1.32\"/><text class=\"shooting bw block block block block\" x=\"528.0\" y=\"132.0\">38</text><text class=\"shooting left label label label label\" x=\"475.2\" y=\"158.4\">6f</text><line class=\"shooting fw connection v-connection v-connection v-connection v-connection\" x1=\"567.6\" x2=\"567.6\" y1=\"80.52\" y2=\"157.08\"/><rect class=\"shooting fw block block block block\" height=\"15.84\" width=\"23.76\" x=\"568.92\" y=\"150.48\"/><circle class=\"shooting fw block block block block\" cx=\"567.6\" cy=\"158.4\" r=\"1.32\"/><circle class=\"shooting fw block block block block\" cx=\"594.0\" cy=\"158.4\" r=\"1.32\"/><text class=\"shooting fw block block block block\" x=\"580.8\" y=\"158.4\">43</text><rect class=\"shooting fw block block block block\" height=\"15.84\" width=\"23.76\" x=\"595.32\" y=\"150.48\"/><circle class=\"shooting fw block block block block\" cx=\"594.0\" cy=\"158.4\" r=\"1.32\"/><text class=\"shooting fw block block block block\" x=\"607.2\" y=\"158.4\">44</text><text class=\"shooting left label label label label\" x=\"475.2\" y=\"184.8\">7f</text><line class=\"shooting fw connection v-connection v-connection v-connection v-connection\" x1=\"594.0\" x2=\"594.0\" y1=\"159.72\" y2=\"183.48\"/><rect class=\"shooting fw block block block block\" height=\"15.84\" width=\"23.76\" x=\"595.32\" y=\"176.88\"/><circle class=\"shooting fw block block block block\" cx=\"594.0\" cy=\"184.8\" r=\"1.32\"/><text class=\"shooting fw block block block block\" x=\"607.2\" y=\"184.8\">45</text><text class=\"shooting left label label label label\" x=\"475.2\" y=\"211.2\">8f</text><line class=\"shooting fw connection v-connection v-connection v-connection v-connection\" x1=\"594.0\" x2=\"594.0\" y1=\"159.72\" y2=\"209.88\"/><rect class=\"shooting fw block block block block\" height=\"15.84\" width=\"23.76\" x=\"595.32\" y=\"203.28\"/><circle class=\"shooting fw block block block block\" cx=\"594.0\" cy=\"211.2\" r=\"1.32\"/><text class=\"shooting fw block block block block\" x=\"607.2\" y=\"211.2\">46</text><text class=\"shooting left label label label label\" x=\"475.2\" y=\"237.6\">9f</text><line class=\"shooting fw connection v-connection v-connection v-connection v-connection\" x1=\"567.6\" x2=\"567.6\" y1=\"80.52\" y2=\"236.28\"/><rect class=\"shooting fw block block block block\" height=\"15.84\" width=\"23.76\" x=\"568.92\" y=\"229.68\"/><circle class=\"shooting fw block block block block\" cx=\"567.6\" cy=\"237.6\" r=\"1.32\"/><circle class=\"shooting fw block block block block\" cx=\"594.0\" cy=\"237.6\" r=\"1.32\"/><text class=\"shooting fw block block block block\" x=\"580.8\" y=\"237.6\">47</text><rect class=\"shooting fw block block block block\" height=\"15.84\" width=\"23.76\" x=\"595.32\" y=\"229.68\"/><circle class=\"shooting fw block block block block\" cx=\"594.0\" cy=\"237.6\" r=\"1.32\"/><text class=\"shooting fw block block block block\" x=\"607.2\" y=\"237.6\">48</text><text class=\"shooting left label label label label\" x=\"475.2\" y=\"264.0\">10b</text><line class=\"shooting bw connection v-connection v-connection v-connection v-connection\" x1=\"541.2\" x2=\"541.2\" y1=\"80.52\" y2=\"262.68\"/><rect class=\"shooting bw block block block block\" height=\"15.84\" width=\"23.76\" x=\"516.12\" y=\"256.08\"/><circle class=\"shooting bw block block block block\" cx=\"541.2\" cy=\"264.0\" r=\"1.32\"/><text class=\"shooting bw block block block block\" x=\"528.0\" y=\"264.0\">49</text><text class=\"shooting left label label label label\" x=\"475.2\" y=\"290.4\">11b</text><line class=\"shooting bw connection v-connection v-connection v-connection v-connection\" x1=\"541.2\" x2=\"541.2\" y1=\"80.52\" y2=\"289.08\"/><rect class=\"shooting bw block block block block\" height=\"15.84\" width=\"23.76\" x=\"516.12\" y=\"282.48\"/><circle class=\"shooting bw block block block block\" cx=\"541.2\" cy=\"290.4\" r=\"1.32\"/><text class=\"shooting bw block block block block\" x=\"528.0\" y=\"290.4\">50</text><text class=\"shooting left label label label label\" x=\"475.2\" y=\"316.8\">13b</text><line class=\"shooting bw connection v-connection v-connection v-connection v-connection\" x1=\"541.2\" x2=\"541.2\" y1=\"80.52\" y2=\"315.48\"/><rect class=\"shooting bw block block block block\" height=\"15.84\" width=\"23.76\" x=\"516.12\" y=\"308.88\"/><circle class=\"shooting bw block block block block\" cx=\"541.2\" cy=\"316.8\" r=\"1.32\"/><text class=\"shooting bw block block block block\" x=\"528.0\" y=\"316.8\">53</text><text class=\"shooting left label label label label\" x=\"475.2\" y=\"343.2\">14f</text><line class=\"shooting fw connection v-connection v-connection v-connection v-connection\" x1=\"594.0\" x2=\"594.0\" y1=\"238.92\" y2=\"341.88\"/><rect class=\"shooting fw block block block block\" height=\"15.84\" width=\"23.76\" x=\"595.32\" y=\"335.28\"/><circle class=\"shooting fw block block block block\" cx=\"594.0\" cy=\"343.2\" r=\"1.32\"/><text class=\"shooting fw block block block block\" x=\"607.2\" y=\"343.2\">54</text><text class=\"shooting left label label label label\" x=\"475.2\" y=\"369.6\">16b</text><line class=\"shooting bw connection v-connection v-connection v-connection v-connection\" x1=\"567.6\" x2=\"567.6\" y1=\"238.92\" y2=\"368.28\"/><rect class=\"shooting bw block block block block\" height=\"15.84\" width=\"23.76\" x=\"516.12\" y=\"361.68\"/><circle class=\"shooting bw block block block block\" cx=\"541.2\" cy=\"369.6\" r=\"1.32\"/><text class=\"shooting bw block block block block\" x=\"528.0\" y=\"369.6\">59</text><rect class=\"shooting bw block block block block\" height=\"15.84\" width=\"23.76\" x=\"542.52\" y=\"361.68\"/><circle class=\"shooting bw block block block block\" cx=\"541.2\" cy=\"369.6\" r=\"1.32\"/><circle class=\"shooting bw block block block block\" cx=\"567.6\" cy=\"369.6\" r=\"1.32\"/><text class=\"shooting bw block block block block\" x=\"554.4\" y=\"369.6\">60</text><text class=\"shooting left label label label label\" x=\"475.2\" y=\"396.0\">17b</text><line class=\"shooting bw connection v-connection v-connection v-connection v-connection\" x1=\"567.6\" x2=\"567.6\" y1=\"238.92\" y2=\"394.68\"/><rect class=\"shooting bw block block block block\" height=\"15.84\" width=\"23.76\" x=\"516.12\" y=\"388.08\"/><circle class=\"shooting bw block block block block\" cx=\"541.2\" cy=\"396.0\" r=\"1.32\"/><text class=\"shooting bw block block block block\" x=\"528.0\" y=\"396.0\">61</text><rect class=\"shooting bw block block block block\" height=\"15.84\" width=\"23.76\" x=\"542.52\" y=\"388.08\"/><circle class=\"shooting bw block block block block\" cx=\"541.2\" cy=\"396.0\" r=\"1.32\"/><circle class=\"shooting bw block block block block\" cx=\"567.6\" cy=\"396.0\" r=\"1.32\"/><text class=\"shooting bw block block block block\" x=\"554.4\" y=\"396.0\">62</text><text class=\"shooting left label label label label\" x=\"475.2\" y=\"422.4\">18b</text><line class=\"shooting bw connection v-connection v-connection v-connection v-connection\" x1=\"541.2\" x2=\"541.2\" y1=\"397.32\" y2=\"421.08\"/><rect class=\"shooting bw block block block block\" height=\"15.84\" width=\"23.76\" x=\"516.12\" y=\"414.48\"/><circle class=\"shooting bw block block block block\" cx=\"541.2\" cy=\"422.4\" r=\"1.32\"/><text class=\"shooting bw block block block block\" x=\"528.0\" y=\"422.4\">63</text><text class=\"shooting left label label label label\" x=\"475.2\" y=\"448.8\">19b</text><line class=\"shooting bw connection v-connection v-connection v-connection v-connection\" x1=\"541.2\" x2=\"541.2\" y1=\"397.32\" y2=\"447.48\"/><rect class=\"shooting bw block block block block\" height=\"15.84\" width=\"23.76\" x=\"516.12\" y=\"440.88\"/><circle class=\"shooting bw block block block block\" cx=\"541.2\" cy=\"448.8\" r=\"1.32\"/><text class=\"shooting bw block block block block\" x=\"528.0\" y=\"448.8\">64</text><text class=\"shooting left label label label label\" x=\"475.2\" y=\"475.2\">20f</text><line class=\"shooting fw connection v-connection v-connection v-connection v-connection\" x1=\"594.0\" x2=\"594.0\" y1=\"238.92\" y2=\"473.88\"/><rect class=\"shooting fw block block block block\" height=\"15.84\" width=\"23.76\" x=\"595.32\" y=\"467.28\"/><circle class=\"shooting fw block block block block\" cx=\"594.0\" cy=\"475.2\" r=\"1.32\"/><text class=\"shooting fw block block block block\" x=\"607.2\" y=\"475.2\">65</text><text class=\"shooting left label label label label\" x=\"475.2\" y=\"501.6\">21f</text><line class=\"shooting fw connection v-connection v-connection v-connection v-connection\" x1=\"594.0\" x2=\"594.0\" y1=\"238.92\" y2=\"500.28\"/><rect class=\"shooting fw block block block block\" height=\"15.84\" width=\"23.76\" x=\"595.32\" y=\"493.68\"/><circle class=\"shooting fw block block block block\" cx=\"594.0\" cy=\"501.6\" r=\"1.32\"/><circle class=\"shooting fw block block block block\" cx=\"620.4\" cy=\"501.6\" r=\"1.32\"/><text class=\"shooting fw block block block block\" x=\"607.2\" y=\"501.6\">66</text><rect class=\"shooting fw block block block block\" height=\"15.84\" width=\"23.76\" x=\"621.72\" y=\"493.68\"/><circle class=\"shooting fw block block block block\" cx=\"620.4\" cy=\"501.6\" r=\"1.32\"/><text class=\"shooting fw block block block block\" x=\"633.6\" y=\"501.6\">67</text><text class=\"shooting left label label label label\" x=\"475.2\" y=\"528.0\">22b</text><line class=\"shooting bw connection v-connection v-connection v-connection v-connection\" x1=\"567.6\" x2=\"567.6\" y1=\"238.92\" y2=\"526.68\"/><rect class=\"shooting bw block block block block\" height=\"15.84\" width=\"23.76\" x=\"516.12\" y=\"520.08\"/><circle class=\"shooting bw block block block block\" cx=\"541.2\" cy=\"528.0\" r=\"1.32\"/><text class=\"shooting bw block block block block\" x=\"528.0\" y=\"528.0\">68</text><rect class=\"shooting bw block block block block\" height=\"15.84\" width=\"23.76\" x=\"542.52\" y=\"520.08\"/><circle class=\"shooting bw block block block block\" cx=\"541.2\" cy=\"528.0\" r=\"1.32\"/><circle class=\"shooting bw block block block block\" cx=\"567.6\" cy=\"528.0\" r=\"1.32\"/><text class=\"shooting bw block block block block\" x=\"554.4\" y=\"528.0\">69</text><text class=\"shooting left label label label label\" x=\"475.2\" y=\"554.4\">23b</text><line class=\"shooting bw connection v-connection v-connection v-connection v-connection\" x1=\"567.6\" x2=\"567.6\" y1=\"238.92\" y2=\"553.08\"/><rect class=\"shooting bw block block block block\" height=\"15.84\" width=\"23.76\" x=\"516.12\" y=\"546.48\"/><circle class=\"shooting bw block block block block\" cx=\"541.2\" cy=\"554.4\" r=\"1.32\"/><text class=\"shooting bw block block block block\" x=\"528.0\" y=\"554.4\">70</text><rect class=\"shooting bw block block block block\" height=\"15.84\" width=\"23.76\" x=\"542.52\" y=\"546.48\"/><circle class=\"shooting bw block block block block\" cx=\"541.2\" cy=\"554.4\" r=\"1.32\"/><circle class=\"shooting bw block block block block\" cx=\"567.6\" cy=\"554.4\" r=\"1.32\"/><text class=\"shooting bw block block block block\" x=\"554.4\" y=\"554.4\">71</text><text class=\"shooting left label label label label\" x=\"475.2\" y=\"580.8\">24f</text><line class=\"shooting fw connection v-connection v-connection v-connection v-connection\" x1=\"620.4\" x2=\"620.4\" y1=\"502.92\" y2=\"579.48\"/><rect class=\"shooting fw block block block block\" height=\"15.84\" width=\"23.76\" x=\"621.72\" y=\"572.88\"/><circle class=\"shooting fw block block block block\" cx=\"620.4\" cy=\"580.8\" r=\"1.32\"/><text class=\"shooting fw block block block block\" x=\"633.6\" y=\"580.8\">72</text><text class=\"shooting left label label label label\" x=\"475.2\" y=\"607.2\">25f</text><line class=\"shooting fw connection v-connection v-connection v-connection v-connection\" x1=\"594.0\" x2=\"594.0\" y1=\"238.92\" y2=\"605.88\"/><rect class=\"shooting fw block block block block\" height=\"15.84\" width=\"23.76\" x=\"595.32\" y=\"599.28\"/><circle class=\"shooting fw block block block block\" cx=\"594.0\" cy=\"607.2\" r=\"1.32\"/><text class=\"shooting fw block block block block\" x=\"607.2\" y=\"607.2\">73</text><text class=\"shooting left label label label label\" x=\"475.2\" y=\"633.6\">27b</text><line class=\"shooting bw connection v-connection v-connection v-connection v-connection\" x1=\"567.6\" x2=\"567.6\" y1=\"238.92\" y2=\"632.28\"/><rect class=\"shooting bw block block block block\" height=\"15.84\" width=\"23.76\" x=\"516.12\" y=\"625.68\"/><circle class=\"shooting bw block block block block\" cx=\"541.2\" cy=\"633.6\" r=\"1.32\"/><text class=\"shooting bw block block block block\" x=\"528.0\" y=\"633.6\">78</text><rect class=\"shooting bw block block block block\" height=\"15.84\" width=\"23.76\" x=\"542.52\" y=\"625.68\"/><circle class=\"shooting bw block block block block\" cx=\"541.2\" cy=\"633.6\" r=\"1.32\"/><circle class=\"shooting bw block block block block\" cx=\"567.6\" cy=\"633.6\" r=\"1.32\"/><text class=\"shooting bw block block block block\" x=\"554.4\" y=\"633.6\">79</text><text class=\"shooting left label label label label\" x=\"475.2\" y=\"660.0\">28b</text><line class=\"shooting bw connection v-connection v-connection v-connection v-connection\" x1=\"567.6\" x2=\"567.6\" y1=\"238.92\" y2=\"658.68\"/><rect class=\"shooting bw block block block block\" height=\"15.84\" width=\"23.76\" x=\"516.12\" y=\"652.08\"/><circle class=\"shooting bw block block block block\" cx=\"541.2\" cy=\"660.0\" r=\"1.32\"/><text class=\"shooting bw block block block block\" x=\"528.0\" y=\"660.0\">80</text><rect class=\"shooting bw block block block block\" height=\"15.84\" width=\"23.76\" x=\"542.52\" y=\"652.08\"/><circle class=\"shooting bw block block block block\" cx=\"541.2\" cy=\"660.0\" r=\"1.32\"/><circle class=\"shooting bw block block block block\" cx=\"567.6\" cy=\"660.0\" r=\"1.32\"/><text class=\"shooting bw block block block block\" x=\"554.4\" y=\"660.0\">81</text><text class=\"shooting left label label label label\" x=\"475.2\" y=\"686.4\">29f</text><line class=\"shooting fw connection v-connection v-connection v-connection v-connection\" x1=\"594.0\" x2=\"594.0\" y1=\"238.92\" y2=\"685.08\"/><rect class=\"shooting fw block block block block\" height=\"15.84\" width=\"23.76\" x=\"595.32\" y=\"678.48\"/><circle class=\"shooting fw block block block block\" cx=\"594.0\" cy=\"686.4\" r=\"1.32\"/><text class=\"shooting fw block block block block\" x=\"607.2\" y=\"686.4\">82</text><text class=\"shooting left label label label label\" x=\"475.2\" y=\"712.8\">30f</text><line class=\"shooting fw connection v-connection v-connection v-connection v-connection\" x1=\"567.6\" x2=\"567.6\" y1=\"661.32\" y2=\"711.48\"/><rect class=\"shooting fw block block block block\" height=\"15.84\" width=\"23.76\" x=\"568.92\" y=\"704.88\"/><circle class=\"shooting fw block block block block\" cx=\"567.6\" cy=\"712.8\" r=\"1.32\"/><circle class=\"shooting fw block block block block\" cx=\"594.0\" cy=\"712.8\" r=\"1.32\"/><text class=\"shooting fw block block block block\" x=\"580.8\" y=\"712.8\">83</text><rect class=\"shooting fw block block block block\" height=\"15.84\" width=\"23.76\" x=\"595.32\" y=\"704.88\"/><circle class=\"shooting fw block block block block\" cx=\"594.0\" cy=\"712.8\" r=\"1.32\"/><text class=\"shooting fw block block block block\" x=\"607.2\" y=\"712.8\">84</text><text class=\"shooting left label label label label\" x=\"475.2\" y=\"739.2\">31f</text><line class=\"shooting fw connection v-connection v-connection v-connection v-connection\" x1=\"594.0\" x2=\"594.0\" y1=\"714.12\" y2=\"737.88\"/><rect class=\"shooting fw block block block block\" height=\"15.84\" width=\"23.76\" x=\"595.32\" y=\"731.28\"/><circle class=\"shooting fw block block block block\" cx=\"594.0\" cy=\"739.2\" r=\"1.32\"/><text class=\"shooting fw block block block block\" x=\"607.2\" y=\"739.2\">85</text><text class=\"shooting left label label label label\" x=\"475.2\" y=\"765.6\">32f</text><line class=\"shooting fw connection v-connection v-connection v-connection v-connection\" x1=\"594.0\" x2=\"594.0\" y1=\"714.12\" y2=\"764.28\"/><rect class=\"shooting fw block block block block\" height=\"15.84\" width=\"23.76\" x=\"595.32\" y=\"757.68\"/><circle class=\"shooting fw block block block block\" cx=\"594.0\" cy=\"765.6\" r=\"1.32\"/><text class=\"shooting fw block block block block\" x=\"607.2\" y=\"765.6\">86</text><text class=\"shooting left label label label label\" x=\"396.0\" y=\"792.0\">33b</text><line class=\"shooting bw connection v-connection v-connection v-connection v-connection\" x1=\"541.2\" x2=\"541.2\" y1=\"661.32\" y2=\"790.68\"/><rect class=\"shooting bw block block block block\" height=\"15.84\" width=\"23.76\" x=\"436.92\" y=\"784.08\"/><circle class=\"shooting bw block block block block\" cx=\"462.0\" cy=\"792.0\" r=\"1.32\"/><text class=\"shooting bw block block block block\" x=\"448.8\" y=\"792.0\">87</text><rect class=\"shooting bw block block block block\" height=\"15.84\" width=\"23.76\" x=\"463.32\" y=\"784.08\"/><circle class=\"shooting bw block block block block\" cx=\"462.0\" cy=\"792.0\" r=\"1.32\"/><circle class=\"shooting bw block block block block\" cx=\"488.4\" cy=\"792.0\" r=\"1.32\"/><text class=\"shooting bw block block block block\" x=\"475.2\" y=\"792.0\">88</text><rect class=\"shooting bw block block block block\" height=\"15.84\" width=\"23.76\" x=\"489.72\" y=\"784.08\"/><circle class=\"shooting bw block block block block\" cx=\"488.4\" cy=\"792.0\" r=\"1.32\"/><circle class=\"shooting bw block block block block\" cx=\"514.8\" cy=\"792.0\" r=\"1.32\"/><text class=\"shooting bw block block block block\" x=\"501.6\" y=\"792.0\">89</text><rect class=\"shooting bw block block block block\" height=\"15.84\" width=\"23.76\" x=\"516.12\" y=\"784.08\"/><circle class=\"shooting bw block block block block\" cx=\"514.8\" cy=\"792.0\" r=\"1.32\"/><circle class=\"shooting bw block block block block\" cx=\"541.2\" cy=\"792.0\" r=\"1.32\"/><text class=\"shooting bw block block block block\" x=\"528.0\" y=\"792.0\">90</text><text class=\"shooting left label label label label\" x=\"396.0\" y=\"818.4\">34f</text><line class=\"shooting fw connection v-connection v-connection v-connection v-connection\" x1=\"541.2\" x2=\"541.2\" y1=\"793.32\" y2=\"817.08\"/><rect class=\"shooting fw block block block block\" height=\"15.84\" width=\"23.76\" x=\"542.52\" y=\"810.48\"/><circle class=\"shooting fw block block block block\" cx=\"541.2\" cy=\"818.4\" r=\"1.32\"/><circle class=\"shooting fw block block block block\" cx=\"567.6\" cy=\"818.4\" r=\"1.32\"/><text class=\"shooting fw block block block block\" x=\"554.4\" y=\"818.4\">91</text><rect class=\"shooting fw block block block block\" height=\"15.84\" width=\"23.76\" x=\"568.92\" y=\"810.48\"/><circle class=\"shooting fw block block block block\" cx=\"567.6\" cy=\"818.4\" r=\"1.32\"/><text class=\"shooting fw block block block block\" x=\"580.8\" y=\"818.4\">92</text><text class=\"shooting left label label label label\" x=\"396.0\" y=\"844.8\">35b</text><line class=\"shooting bw connection v-connection v-connection v-connection v-connection\" x1=\"462.0\" x2=\"462.0\" y1=\"793.32\" y2=\"843.48\"/><rect class=\"shooting bw block block block block\" height=\"15.84\" width=\"23.76\" x=\"436.92\" y=\"836.88\"/><circle class=\"shooting bw block block block block\" cx=\"462.0\" cy=\"844.8\" r=\"1.32\"/><text class=\"shooting bw block block block block\" x=\"448.8\" y=\"844.8\">93</text><text class=\"shooting left label label label label\" x=\"396.0\" y=\"871.2\">36f</text><line class=\"shooting fw connection v-connection v-connection v-connection v-connection\" x1=\"541.2\" x2=\"541.2\" y1=\"793.32\" y2=\"869.88\"/><rect class=\"shooting fw block block block block\" height=\"15.84\" width=\"23.76\" x=\"542.52\" y=\"863.28\"/><circle class=\"shooting fw block block block block\" cx=\"541.2\" cy=\"871.2\" r=\"1.32\"/><circle class=\"shooting fw block block block block\" cx=\"567.6\" cy=\"871.2\" r=\"1.32\"/><text class=\"shooting fw block block block block\" x=\"554.4\" y=\"871.2\">94</text><rect class=\"shooting fw block block block block\" height=\"15.84\" width=\"23.76\" x=\"568.92\" y=\"863.28\"/><circle class=\"shooting fw block block block block\" cx=\"567.6\" cy=\"871.2\" r=\"1.32\"/><text class=\"shooting fw block block block block\" x=\"580.8\" y=\"871.2\">95</text><text class=\"shooting left label label label label\" x=\"396.0\" y=\"897.6\">37f</text><line class=\"shooting fw connection v-connection v-connection v-connection v-connection\" x1=\"567.6\" x2=\"567.6\" y1=\"872.52\" y2=\"896.28\"/><rect class=\"shooting fw block block block block\" height=\"15.84\" width=\"23.76\" x=\"568.92\" y=\"889.68\"/><circle class=\"shooting fw block block block block\" cx=\"567.6\" cy=\"897.6\" r=\"1.32\"/><text class=\"shooting fw block block block block\" x=\"580.8\" y=\"897.6\">96</text><text class=\"shooting left label label label label\" x=\"396.0\" y=\"924.0\">38f</text><line class=\"shooting fw connection v-connection v-connection v-connection v-connection\" x1=\"488.4\" x2=\"488.4\" y1=\"793.32\" y2=\"922.68\"/><rect class=\"shooting fw block block block block\" height=\"15.84\" width=\"23.76\" x=\"489.72\" y=\"916.08\"/><circle class=\"shooting fw block block block block\" cx=\"488.4\" cy=\"924.0\" r=\"1.32\"/><circle class=\"shooting fw block block block block\" cx=\"514.8\" cy=\"924.0\" r=\"1.32\"/><text class=\"shooting fw block block block block\" x=\"501.6\" y=\"924.0\">97</text><rect class=\"shooting fw block block block block\" height=\"15.84\" width=\"23.76\" x=\"516.12\" y=\"916.08\"/><circle class=\"shooting fw block block block block\" cx=\"514.8\" cy=\"924.0\" r=\"1.32\"/><circle class=\"shooting fw block block block block\" cx=\"541.2\" cy=\"924.0\" r=\"1.32\"/><text class=\"shooting fw block block block block\" x=\"528.0\" y=\"924.0\">98</text><rect class=\"shooting fw block block block block\" height=\"15.84\" width=\"23.76\" x=\"542.52\" y=\"916.08\"/><circle class=\"shooting fw block block block block\" cx=\"541.2\" cy=\"924.0\" r=\"1.32\"/><circle class=\"shooting fw block block block block\" cx=\"567.6\" cy=\"924.0\" r=\"1.32\"/><text class=\"shooting fw block block block block\" x=\"554.4\" y=\"924.0\">99</text><rect class=\"shooting fw block block block block\" height=\"15.84\" width=\"23.76\" x=\"568.92\" y=\"916.08\"/><circle class=\"shooting fw block block block block\" cx=\"567.6\" cy=\"924.0\" r=\"1.32\"/><text class=\"shooting fw block block block block\" x=\"580.8\" y=\"924.0\">100</text><text class=\"shooting left label label label label\" x=\"396.0\" y=\"950.4\">39f</text><line class=\"shooting fw connection v-connection v-connection v-connection v-connection\" x1=\"541.2\" x2=\"541.2\" y1=\"925.32\" y2=\"949.08\"/><rect class=\"shooting fw block block block block\" height=\"15.84\" width=\"23.76\" x=\"542.52\" y=\"942.48\"/><circle class=\"shooting fw block block block block\" cx=\"541.2\" cy=\"950.4\" r=\"1.32\"/><circle class=\"shooting fw block block block block\" cx=\"567.6\" cy=\"950.4\" r=\"1.32\"/><text class=\"shooting fw block block block block\" x=\"554.4\" y=\"950.4\">101</text><rect class=\"shooting fw block block block block\" height=\"15.84\" width=\"23.76\" x=\"568.92\" y=\"942.48\"/><circle class=\"shooting fw block block block block\" cx=\"567.6\" cy=\"950.4\" r=\"1.32\"/><circle class=\"shooting fw block block block block\" cx=\"594.0\" cy=\"950.4\" r=\"1.32\"/><text class=\"shooting fw block block block block\" x=\"580.8\" y=\"950.4\">102</text><rect class=\"shooting fw block block block block\" height=\"15.84\" width=\"23.76\" x=\"595.32\" y=\"942.48\"/><circle class=\"shooting fw block block block block\" cx=\"594.0\" cy=\"950.4\" r=\"1.32\"/><circle class=\"shooting fw block block block block\" cx=\"620.4\" cy=\"950.4\" r=\"1.32\"/><text class=\"shooting fw block block block block\" x=\"607.2\" y=\"950.4\">103</text><rect class=\"shooting fw block block block block\" height=\"15.84\" width=\"23.76\" x=\"621.72\" y=\"942.48\"/><circle class=\"shooting fw block block block block\" cx=\"620.4\" cy=\"950.4\" r=\"1.32\"/><circle class=\"shooting fw block block block block\" cx=\"646.8\" cy=\"950.4\" r=\"1.32\"/><text class=\"shooting fw block block block block\" x=\"633.6\" y=\"950.4\">104</text><rect class=\"shooting fw block block block block\" height=\"15.84\" width=\"23.76\" x=\"648.12\" y=\"942.48\"/><circle class=\"shooting fw block block block block\" cx=\"646.8\" cy=\"950.4\" r=\"1.32\"/><text class=\"shooting fw block block block block\" x=\"660.0\" y=\"950.4\">105</text><text class=\"shooting left label label label label\" x=\"396.0\" y=\"976.8\">40f</text><line class=\"shooting fw connection v-connection v-connection v-connection v-connection\" x1=\"594.0\" x2=\"594.0\" y1=\"951.72\" y2=\"975.48\"/><rect class=\"shooting fw block block block block\" height=\"15.84\" width=\"23.76\" x=\"595.32\" y=\"968.88\"/><circle class=\"shooting fw block block block block\" cx=\"594.0\" cy=\"976.8\" r=\"1.32\"/><circle class=\"shooting fw block block block block\" cx=\"620.4\" cy=\"976.8\" r=\"1.32\"/><text class=\"shooting fw block block block block\" x=\"607.2\" y=\"976.8\">106</text><rect class=\"shooting fw block block block block\" height=\"15.84\" width=\"23.76\" x=\"621.72\" y=\"968.88\"/><circle class=\"shooting fw block block block block\" cx=\"620.4\" cy=\"976.8\" r=\"1.32\"/><text class=\"shooting fw block block block block\" x=\"633.6\" y=\"976.8\">107</text><text class=\"shooting left label label label label\" x=\"396.0\" y=\"1003.2\">41b</text><line class=\"shooting bw connection v-connection v-connection v-connection v-connection\" x1=\"514.8\" x2=\"514.8\" y1=\"925.32\" y2=\"1001.88\"/><rect class=\"shooting bw block block block block\" height=\"15.84\" width=\"23.76\" x=\"436.92\" y=\"995.28\"/><circle class=\"shooting bw block block block block\" cx=\"462.0\" cy=\"1003.2\" r=\"1.32\"/><text class=\"shooting bw block block block block\" x=\"448.8\" y=\"1003.2\">108</text><rect class=\"shooting bw block block block block\" height=\"15.84\" width=\"23.76\" x=\"463.32\" y=\"995.28\"/><circle class=\"shooting bw block block block block\" cx=\"462.0\" cy=\"1003.2\" r=\"1.32\"/><circle class=\"shooting bw block block block block\" cx=\"488.4\" cy=\"1003.2\" r=\"1.32\"/><text class=\"shooting bw block block block block\" x=\"475.2\" y=\"1003.2\">109</text><rect class=\"shooting bw block block block block\" height=\"15.84\" width=\"23.76\" x=\"489.72\" y=\"995.28\"/><circle class=\"shooting bw block block block block\" cx=\"488.4\" cy=\"1003.2\" r=\"1.32\"/><circle class=\"shooting bw block block block block\" cx=\"514.8\" cy=\"1003.2\" r=\"1.32\"/><text class=\"shooting bw block block block block\" x=\"501.6\" y=\"1003.2\">110</text><text class=\"shooting left label label label label\" x=\"396.0\" y=\"1029.6\">42f</text><line class=\"shooting fw connection v-connection v-connection v-connection v-connection\" x1=\"541.2\" x2=\"541.2\" y1=\"925.32\" y2=\"1028.28\"/><rect class=\"shooting fw block block block block\" height=\"15.84\" width=\"23.76\" x=\"542.52\" y=\"1021.68\"/><circle class=\"shooting fw block block block block\" cx=\"541.2\" cy=\"1029.6\" r=\"1.32\"/><circle class=\"shooting fw block block block block\" cx=\"567.6\" cy=\"1029.6\" r=\"1.32\"/><text class=\"shooting fw block block block block\" x=\"554.4\" y=\"1029.6\">111</text><rect class=\"shooting fw block block block block\" height=\"15.84\" width=\"23.76\" x=\"568.92\" y=\"1021.68\"/><circle class=\"shooting fw block block block block\" cx=\"567.6\" cy=\"1029.6\" r=\"1.32\"/><text class=\"shooting fw block block block block\" x=\"580.8\" y=\"1029.6\">112</text><text class=\"shooting left label label label label\" x=\"396.0\" y=\"1056.0\">43b</text><line class=\"shooting bw connection v-connection v-connection v-connection v-connection\" x1=\"514.8\" x2=\"514.8\" y1=\"925.32\" y2=\"1054.68\"/><rect class=\"shooting bw block block block block\" height=\"15.84\" width=\"23.76\" x=\"436.92\" y=\"1048.08\"/><circle class=\"shooting bw block block block block\" cx=\"462.0\" cy=\"1056.0\" r=\"1.32\"/><text class=\"shooting bw block block block block\" x=\"448.8\" y=\"1056.0\">113</text><rect class=\"shooting bw block block block block\" height=\"15.84\" width=\"23.76\" x=\"463.32\" y=\"1048.08\"/><circle class=\"shooting bw block block block block\" cx=\"462.0\" cy=\"1056.0\" r=\"1.32\"/><circle class=\"shooting bw block block block block\" cx=\"488.4\" cy=\"1056.0\" r=\"1.32\"/><text class=\"shooting bw block block block block\" x=\"475.2\" y=\"1056.0\">114</text><rect class=\"shooting bw block block block block\" height=\"15.84\" width=\"23.76\" x=\"489.72\" y=\"1048.08\"/><circle class=\"shooting bw block block block block\" cx=\"488.4\" cy=\"1056.0\" r=\"1.32\"/><circle class=\"shooting bw block block block block\" cx=\"514.8\" cy=\"1056.0\" r=\"1.32\"/><text class=\"shooting bw block block block block\" x=\"501.6\" y=\"1056.0\">115</text><text class=\"shooting left label label label label\" x=\"396.0\" y=\"1082.4\">44f</text><line class=\"shooting fw connection v-connection v-connection v-connection v-connection\" x1=\"541.2\" x2=\"541.2\" y1=\"925.32\" y2=\"1081.08\"/><rect class=\"shooting fw block block block block\" height=\"15.84\" width=\"23.76\" x=\"542.52\" y=\"1074.48\"/><circle class=\"shooting fw block block block block\" cx=\"541.2\" cy=\"1082.4\" r=\"1.32\"/><circle class=\"shooting fw block block block block\" cx=\"567.6\" cy=\"1082.4\" r=\"1.32\"/><text class=\"shooting fw block block block block\" x=\"554.4\" y=\"1082.4\">116</text><rect class=\"shooting fw block block block block\" height=\"15.84\" width=\"23.76\" x=\"568.92\" y=\"1074.48\"/><circle class=\"shooting fw block block block block\" cx=\"567.6\" cy=\"1082.4\" r=\"1.32\"/><text class=\"shooting fw block block block block\" x=\"580.8\" y=\"1082.4\">117</text><text class=\"shooting left label label label label\" x=\"396.0\" y=\"1108.8\">45f</text><line class=\"shooting fw connection v-connection v-connection v-connection v-connection\" x1=\"488.4\" x2=\"488.4\" y1=\"1057.32\" y2=\"1107.48\"/><rect class=\"shooting fw block block block block\" height=\"15.84\" width=\"23.76\" x=\"489.72\" y=\"1100.88\"/><circle class=\"shooting fw block block block block\" cx=\"488.4\" cy=\"1108.8\" r=\"1.32\"/><circle class=\"shooting fw block block block block\" cx=\"514.8\" cy=\"1108.8\" r=\"1.32\"/><text class=\"shooting fw block block block block\" x=\"501.6\" y=\"1108.8\">118</text><rect class=\"shooting fw block block block block\" height=\"15.84\" width=\"23.76\" x=\"516.12\" y=\"1100.88\"/><circle class=\"shooting fw block block block block\" cx=\"514.8\" cy=\"1108.8\" r=\"1.32\"/><text class=\"shooting fw block block block block\" x=\"528.0\" y=\"1108.8\">119</text><text class=\"shooting left label label label label\" x=\"396.0\" y=\"1135.2\">46b</text><line class=\"shooting bw connection v-connection v-connection v-connection v-connection\" x1=\"488.4\" x2=\"488.4\" y1=\"1110.12\" y2=\"1133.88\"/><rect class=\"shooting bw block block block block\" height=\"15.84\" width=\"23.76\" x=\"436.92\" y=\"1127.28\"/><circle class=\"shooting bw block block block block\" cx=\"462.0\" cy=\"1135.2\" r=\"1.32\"/><text class=\"shooting bw block block block block\" x=\"448.8\" y=\"1135.2\">120</text><rect class=\"shooting bw block block block block\" height=\"15.84\" width=\"23.76\" x=\"463.32\" y=\"1127.28\"/><circle class=\"shooting bw block block block block\" cx=\"462.0\" cy=\"1135.2\" r=\"1.32\"/><circle class=\"shooting bw block block block block\" cx=\"488.4\" cy=\"1135.2\" r=\"1.32\"/><text class=\"shooting bw block block block block\" x=\"475.2\" y=\"1135.2\">121</text><text class=\"shooting left label label label label\" x=\"396.0\" y=\"1161.6\">48b</text><line class=\"shooting bw connection v-connection v-connection v-connection v-connection\" x1=\"488.4\" x2=\"488.4\" y1=\"1110.12\" y2=\"1160.28\"/><rect class=\"shooting bw block block block block\" height=\"15.84\" width=\"23.76\" x=\"436.92\" y=\"1153.68\"/><circle class=\"shooting bw block block block block\" cx=\"462.0\" cy=\"1161.6\" r=\"1.32\"/><text class=\"shooting bw block block block block\" x=\"448.8\" y=\"1161.6\">124</text><rect class=\"shooting bw block block block block\" height=\"15.84\" width=\"23.76\" x=\"463.32\" y=\"1153.68\"/><circle class=\"shooting bw block block block block\" cx=\"462.0\" cy=\"1161.6\" r=\"1.32\"/><circle class=\"shooting bw block block block block\" cx=\"488.4\" cy=\"1161.6\" r=\"1.32\"/><text class=\"shooting bw block block block block\" x=\"475.2\" y=\"1161.6\">125</text><text class=\"shooting left label label label label\" x=\"396.0\" y=\"1188.0\">49b</text><line class=\"shooting bw connection v-connection v-connection v-connection v-connection\" x1=\"462.0\" x2=\"462.0\" y1=\"1162.92\" y2=\"1186.68\"/><rect class=\"shooting bw block block block block\" height=\"15.84\" width=\"23.76\" x=\"436.92\" y=\"1180.08\"/><circle class=\"shooting bw block block block block\" cx=\"462.0\" cy=\"1188.0\" r=\"1.32\"/><text class=\"shooting bw block block block block\" x=\"448.8\" y=\"1188.0\">126</text><text class=\"shooting left label label label label\" x=\"396.0\" y=\"1214.4\">50f</text><line class=\"shooting fw connection v-connection v-connection v-connection v-connection\" x1=\"514.8\" x2=\"514.8\" y1=\"1110.12\" y2=\"1213.08\"/><rect class=\"shooting fw block block block block\" height=\"15.84\" width=\"23.76\" x=\"516.12\" y=\"1206.48\"/><circle class=\"shooting fw block block block block\" cx=\"514.8\" cy=\"1214.4\" r=\"1.32\"/><text class=\"shooting fw block block block block\" x=\"528.0\" y=\"1214.4\">127</text><text class=\"shooting left label label label label\" x=\"396.0\" y=\"1240.8\">51b</text><line class=\"shooting bw connection v-connection v-connection v-connection v-connection\" x1=\"488.4\" x2=\"488.4\" y1=\"1110.12\" y2=\"1239.48\"/><rect class=\"shooting bw block block block block\" height=\"15.84\" width=\"23.76\" x=\"436.92\" y=\"1232.88\"/><circle class=\"shooting bw block block block block\" cx=\"462.0\" cy=\"1240.8\" r=\"1.32\"/><text class=\"shooting bw block block block block\" x=\"448.8\" y=\"1240.8\">128</text><rect class=\"shooting bw block block block block\" height=\"15.84\" width=\"23.76\" x=\"463.32\" y=\"1232.88\"/><circle class=\"shooting bw block block block block\" cx=\"462.0\" cy=\"1240.8\" r=\"1.32\"/><circle class=\"shooting bw block block block block\" cx=\"488.4\" cy=\"1240.8\" r=\"1.32\"/><text class=\"shooting bw block block block block\" x=\"475.2\" y=\"1240.8\">129</text><text class=\"hop left label label label label\" x=\"396.0\" y=\"1267.2\">51h</text><rect class=\"hop overlap range range range range\" height=\"2.64\" width=\"102.96\" x=\"436.92\" y=\"1265.88\"/><circle class=\"hop overlap range range range range\" cx=\"435.6\" cy=\"1267.2\" r=\"1.32\"/><rect class=\"hop overlap range range range range\" height=\"15.84\" width=\"2.64\" x=\"436.92\" y=\"1259.28\"/><circle class=\"hop overlap range range range range\" cx=\"541.2\" cy=\"1267.2\" r=\"1.32\"/><rect class=\"hop overlap range range range range\" height=\"15.84\" width=\"2.64\" x=\"537.24\" y=\"1259.28\"/><text class=\"hop overlap range range range range\" x=\"488.4\" y=\"1259.28\">EnsembleHop</text><text class=\"label\" x=\"264.0\" y=\"52.8\">smp</text><text class=\"label\" x=\"211.2\" y=\"52.8\">cyc</text><text class=\"label\" x=\"343.2\" y=\"52.8\">cor</text><rect class=\"tableline\" height=\"26.4\" width=\"792.0\" x=\"-79.2\" y=\"67.32\"/><text class=\"label\" x=\"264.0\" y=\"79.2\">1</text><text class=\"label\" x=\"211.2\" y=\"79.2\">1</text><rect class=\"tableline\" height=\"26.4\" width=\"792.0\" x=\"-79.2\" y=\"93.72\"/><text class=\"label\" x=\"264.0\" y=\"105.6\">3</text><text class=\"label\" x=\"211.2\" y=\"105.6\">2</text><rect class=\"tableline\" height=\"26.4\" width=\"792.0\" x=\"-79.2\" y=\"120.12\"/><text class=\"label\" x=\"264.0\" y=\"132.0\">5</text><text class=\"label\" x=\"211.2\" y=\"132.0\">3</text><rect class=\"tableline\" height=\"26.4\" width=\"792.0\" x=\"-79.2\" y=\"146.52\"/><text class=\"label\" x=\"264.0\" y=\"158.4\">8</text><text class=\"label\" x=\"211.2\" y=\"158.4\">5</text><rect class=\"tableline\" height=\"26.4\" width=\"792.0\" x=\"-79.2\" y=\"172.92\"/><text class=\"label\" x=\"264.0\" y=\"184.8\">10</text><text class=\"label\" x=\"211.2\" y=\"184.8\">6</text><rect class=\"tableline\" height=\"26.4\" width=\"792.0\" x=\"-79.2\" y=\"199.32\"/><text class=\"label\" x=\"264.0\" y=\"211.2\">12</text><text class=\"label\" x=\"211.2\" y=\"211.2\">7</text><rect class=\"tableline\" height=\"26.4\" width=\"792.0\" x=\"-79.2\" y=\"225.72\"/><text class=\"label\" x=\"264.0\" y=\"237.6\">14</text><text class=\"label\" x=\"211.2\" y=\"237.6\">8</text><rect class=\"tableline\" height=\"26.4\" width=\"792.0\" x=\"-79.2\" y=\"252.12\"/><text class=\"label\" x=\"264.0\" y=\"264.0\">16</text><text class=\"label\" x=\"211.2\" y=\"264.0\">9</text><rect class=\"tableline\" height=\"26.4\" width=\"792.0\" x=\"-79.2\" y=\"278.52\"/><text class=\"label\" x=\"264.0\" y=\"290.4\">18</text><text class=\"label\" x=\"211.2\" y=\"290.4\">10</text><rect class=\"tableline\" height=\"26.4\" width=\"792.0\" x=\"-79.2\" y=\"304.92\"/><text class=\"label\" x=\"264.0\" y=\"316.8\">21</text><text class=\"label\" x=\"211.2\" y=\"316.8\">12</text><rect class=\"tableline\" height=\"26.4\" width=\"792.0\" x=\"-79.2\" y=\"331.32\"/><text class=\"label\" x=\"264.0\" y=\"343.2\">23</text><text class=\"label\" x=\"211.2\" y=\"343.2\">13</text><rect class=\"tableline\" height=\"26.4\" width=\"792.0\" x=\"-79.2\" y=\"357.72\"/><rect class=\"h-range\" height=\"285.12\" width=\"2.64\" x=\"343.2\" y=\"68.64\"/><circle class=\"h-range\" cx=\"343.2\" cy=\"68.64\" r=\"1.32\"/><rect class=\"h-range\" height=\"2.64\" width=\"23.76\" x=\"331.32\" y=\"68.64\"/><circle class=\"h-range\" cx=\"343.2\" cy=\"353.76\" r=\"1.32\"/><rect class=\"h-range\" height=\"2.64\" width=\"23.76\" x=\"331.32\" y=\"351.12\"/><text class=\"h-range\" x=\"335.28\" y=\"211.2\"/><text class=\"label\" x=\"264.0\" y=\"369.6\">26</text><text class=\"label\" x=\"211.2\" y=\"369.6\">15</text><rect class=\"tableline\" height=\"26.4\" width=\"792.0\" x=\"-79.2\" y=\"384.12\"/><text class=\"label\" x=\"264.0\" y=\"396.0\">28</text><text class=\"label\" x=\"211.2\" y=\"396.0\">16</text><rect class=\"tableline\" height=\"26.4\" width=\"792.0\" x=\"-79.2\" y=\"410.52\"/><text class=\"label\" x=\"264.0\" y=\"422.4\">30</text><text class=\"label\" x=\"211.2\" y=\"422.4\">17</text><rect class=\"tableline\" height=\"26.4\" width=\"792.0\" x=\"-79.2\" y=\"436.92\"/><text class=\"label\" x=\"264.0\" y=\"448.8\">32</text><text class=\"label\" x=\"211.2\" y=\"448.8\">18</text><rect class=\"tableline\" height=\"26.4\" width=\"792.0\" x=\"-79.2\" y=\"463.32\"/><text class=\"label\" x=\"264.0\" y=\"475.2\">34</text><text class=\"label\" x=\"211.2\" y=\"475.2\">19</text><rect class=\"tableline\" height=\"26.4\" width=\"792.0\" x=\"-79.2\" y=\"489.72\"/><text class=\"label\" x=\"264.0\" y=\"501.6\">36</text><text class=\"label\" x=\"211.2\" y=\"501.6\">20</text><rect class=\"tableline\" height=\"26.4\" width=\"792.0\" x=\"-79.2\" y=\"516.12\"/><text class=\"label\" x=\"264.0\" y=\"528.0\">38</text><text class=\"label\" x=\"211.2\" y=\"528.0\">21</text><rect class=\"tableline\" height=\"26.4\" width=\"792.0\" x=\"-79.2\" y=\"542.52\"/><text class=\"label\" x=\"264.0\" y=\"554.4\">40</text><text class=\"label\" x=\"211.2\" y=\"554.4\">22</text><rect class=\"tableline\" height=\"26.4\" width=\"792.0\" x=\"-79.2\" y=\"568.92\"/><text class=\"label\" x=\"264.0\" y=\"580.8\">42</text><text class=\"label\" x=\"211.2\" y=\"580.8\">23</text><rect class=\"tableline\" height=\"26.4\" width=\"792.0\" x=\"-79.2\" y=\"595.32\"/><text class=\"label\" x=\"264.0\" y=\"607.2\">44</text><text class=\"label\" x=\"211.2\" y=\"607.2\">24</text><rect class=\"tableline\" height=\"26.4\" width=\"792.0\" x=\"-79.2\" y=\"621.72\"/><text class=\"label\" x=\"264.0\" y=\"633.6\">47</text><text class=\"label\" x=\"211.2\" y=\"633.6\">26</text><rect class=\"tableline\" height=\"26.4\" width=\"792.0\" x=\"-79.2\" y=\"648.12\"/><text class=\"label\" x=\"264.0\" y=\"660.0\">49</text><text class=\"label\" x=\"211.2\" y=\"660.0\">27</text><rect class=\"tableline\" height=\"26.4\" width=\"792.0\" x=\"-79.2\" y=\"674.52\"/><text class=\"label\" x=\"264.0\" y=\"686.4\">51</text><text class=\"label\" x=\"211.2\" y=\"686.4\">28</text><rect class=\"tableline\" height=\"26.4\" width=\"792.0\" x=\"-79.2\" y=\"700.92\"/><rect class=\"h-range\" height=\"337.92\" width=\"2.64\" x=\"343.2\" y=\"359.04\"/><circle class=\"h-range\" cx=\"343.2\" cy=\"359.04\" r=\"1.32\"/><rect class=\"h-range\" height=\"2.64\" width=\"23.76\" x=\"331.32\" y=\"359.04\"/><circle class=\"h-range\" cx=\"343.2\" cy=\"696.96\" r=\"1.32\"/><rect class=\"h-range\" height=\"2.64\" width=\"23.76\" x=\"331.32\" y=\"694.32\"/><text class=\"h-range\" x=\"335.28\" y=\"528.0\"/><text class=\"label\" x=\"264.0\" y=\"712.8\">53</text><text class=\"label\" x=\"211.2\" y=\"712.8\">29</text><rect class=\"tableline\" height=\"26.4\" width=\"792.0\" x=\"-79.2\" y=\"727.32\"/><text class=\"label\" x=\"264.0\" y=\"739.2\">55</text><text class=\"label\" x=\"211.2\" y=\"739.2\">30</text><rect class=\"tableline\" height=\"26.4\" width=\"792.0\" x=\"-79.2\" y=\"753.72\"/><text class=\"label\" x=\"264.0\" y=\"765.6\">57</text><text class=\"label\" x=\"211.2\" y=\"765.6\">31</text><rect class=\"tableline\" height=\"26.4\" width=\"792.0\" x=\"-79.2\" y=\"780.12\"/><text class=\"label\" x=\"264.0\" y=\"792.0\">59</text><text class=\"label\" x=\"211.2\" y=\"792.0\">32</text><rect class=\"tableline\" height=\"26.4\" width=\"792.0\" x=\"-79.2\" y=\"806.52\"/><rect class=\"h-range\" height=\"100.32\" width=\"2.64\" x=\"343.2\" y=\"702.24\"/><circle class=\"h-range\" cx=\"343.2\" cy=\"702.24\" r=\"1.32\"/><rect class=\"h-range\" height=\"2.64\" width=\"23.76\" x=\"331.32\" y=\"702.24\"/><circle class=\"h-range\" cx=\"343.2\" cy=\"802.56\" r=\"1.32\"/><rect class=\"h-range\" height=\"2.64\" width=\"23.76\" x=\"331.32\" y=\"799.92\"/><text class=\"h-range\" x=\"335.28\" y=\"752.4\"/><text class=\"label\" x=\"264.0\" y=\"818.4\">61</text><text class=\"label\" x=\"211.2\" y=\"818.4\">33</text><rect class=\"tableline\" height=\"26.4\" width=\"792.0\" x=\"-79.2\" y=\"832.92\"/><text class=\"label\" x=\"264.0\" y=\"844.8\">63</text><text class=\"label\" x=\"211.2\" y=\"844.8\">34</text><rect class=\"tableline\" height=\"26.4\" width=\"792.0\" x=\"-79.2\" y=\"859.32\"/><text class=\"label\" x=\"264.0\" y=\"871.2\">65</text><text class=\"label\" x=\"211.2\" y=\"871.2\">35</text><rect class=\"tableline\" height=\"26.4\" width=\"792.0\" x=\"-79.2\" y=\"885.72\"/><text class=\"label\" x=\"264.0\" y=\"897.6\">67</text><text class=\"label\" x=\"211.2\" y=\"897.6\">36</text><rect class=\"tableline\" height=\"26.4\" width=\"792.0\" x=\"-79.2\" y=\"912.12\"/><text class=\"label\" x=\"264.0\" y=\"924.0\">69</text><text class=\"label\" x=\"211.2\" y=\"924.0\">37</text><rect class=\"tableline\" height=\"26.4\" width=\"792.0\" x=\"-79.2\" y=\"938.52\"/><text class=\"label\" x=\"264.0\" y=\"950.4\">71</text><text class=\"label\" x=\"211.2\" y=\"950.4\">38</text><rect class=\"tableline\" height=\"26.4\" width=\"792.0\" x=\"-79.2\" y=\"964.92\"/><text class=\"label\" x=\"264.0\" y=\"976.8\">73</text><text class=\"label\" x=\"211.2\" y=\"976.8\">39</text><rect class=\"tableline\" height=\"26.4\" width=\"792.0\" x=\"-79.2\" y=\"991.32\"/><rect class=\"h-range\" height=\"179.52\" width=\"2.64\" x=\"343.2\" y=\"807.84\"/><circle class=\"h-range\" cx=\"343.2\" cy=\"807.84\" r=\"1.32\"/><rect class=\"h-range\" height=\"2.64\" width=\"23.76\" x=\"331.32\" y=\"807.84\"/><circle class=\"h-range\" cx=\"343.2\" cy=\"987.36\" r=\"1.32\"/><rect class=\"h-range\" height=\"2.64\" width=\"23.76\" x=\"331.32\" y=\"984.72\"/><text class=\"h-range\" x=\"335.28\" y=\"897.6\"/><text class=\"label\" x=\"264.0\" y=\"1003.2\">75</text><text class=\"label\" x=\"211.2\" y=\"1003.2\">40</text><rect class=\"tableline\" height=\"26.4\" width=\"792.0\" x=\"-79.2\" y=\"1017.72\"/><text class=\"label\" x=\"264.0\" y=\"1029.6\">77</text><text class=\"label\" x=\"211.2\" y=\"1029.6\">41</text><rect class=\"tableline\" height=\"26.4\" width=\"792.0\" x=\"-79.2\" y=\"1044.12\"/><text class=\"label\" x=\"264.0\" y=\"1056.0\">79</text><text class=\"label\" x=\"211.2\" y=\"1056.0\">42</text><rect class=\"tableline\" height=\"26.4\" width=\"792.0\" x=\"-79.2\" y=\"1070.52\"/><text class=\"label\" x=\"264.0\" y=\"1082.4\">81</text><text class=\"label\" x=\"211.2\" y=\"1082.4\">43</text><rect class=\"tableline\" height=\"26.4\" width=\"792.0\" x=\"-79.2\" y=\"1096.92\"/><rect class=\"h-range\" height=\"100.32\" width=\"2.64\" x=\"343.2\" y=\"992.64\"/><circle class=\"h-range\" cx=\"343.2\" cy=\"992.64\" r=\"1.32\"/><rect class=\"h-range\" height=\"2.64\" width=\"23.76\" x=\"331.32\" y=\"992.64\"/><circle class=\"h-range\" cx=\"343.2\" cy=\"1092.96\" r=\"1.32\"/><rect class=\"h-range\" height=\"2.64\" width=\"23.76\" x=\"331.32\" y=\"1090.32\"/><text class=\"h-range\" x=\"335.28\" y=\"1042.8\"/><text class=\"label\" x=\"264.0\" y=\"1108.8\">83</text><text class=\"label\" x=\"211.2\" y=\"1108.8\">44</text><rect class=\"tableline\" height=\"26.4\" width=\"792.0\" x=\"-79.2\" y=\"1123.32\"/><text class=\"label\" x=\"264.0\" y=\"1135.2\">85</text><text class=\"label\" x=\"211.2\" y=\"1135.2\">45</text><rect class=\"tableline\" height=\"26.4\" width=\"792.0\" x=\"-79.2\" y=\"1149.72\"/><text class=\"label\" x=\"264.0\" y=\"1161.6\">88</text><text class=\"label\" x=\"211.2\" y=\"1161.6\">47</text><rect class=\"tableline\" height=\"26.4\" width=\"792.0\" x=\"-79.2\" y=\"1176.12\"/><text class=\"label\" x=\"264.0\" y=\"1188.0\">90</text><text class=\"label\" x=\"211.2\" y=\"1188.0\">48</text><rect class=\"tableline\" height=\"26.4\" width=\"792.0\" x=\"-79.2\" y=\"1202.52\"/><text class=\"label\" x=\"264.0\" y=\"1214.4\">92</text><text class=\"label\" x=\"211.2\" y=\"1214.4\">49</text><rect class=\"tableline\" height=\"26.4\" width=\"792.0\" x=\"-79.2\" y=\"1228.92\"/><text class=\"label\" x=\"264.0\" y=\"1240.8\">94</text><text class=\"label\" x=\"211.2\" y=\"1240.8\">50</text><rect class=\"tableline\" height=\"26.4\" width=\"792.0\" x=\"-79.2\" y=\"1255.32\"/><text class=\"label\" x=\"264.0\" y=\"1267.2\">95</text><text class=\"label\" x=\"211.2\" y=\"1267.2\">50</text><rect class=\"h-range\" height=\"179.52\" width=\"2.64\" x=\"343.2\" y=\"1098.24\"/><circle class=\"h-range\" cx=\"343.2\" cy=\"1098.24\" r=\"1.32\"/><rect class=\"h-range\" height=\"2.64\" width=\"23.76\" x=\"331.32\" y=\"1098.24\"/><text class=\"h-range\" x=\"335.28\" y=\"1188.0\"/><text class=\"label\" x=\"158.4\" y=\"1267.2\"/></svg>"
      ],
      "text/plain": [
       "<IPython.core.display.SVG object>"
      ]
     },
     "execution_count": 44,
     "metadata": {},
     "output_type": "execute_result"
    }
   ],
   "source": [
    "view = tree.renderer\n",
    "#view.zoom = 1.1\n",
    "view.scale_y = 24\n",
    "view.scale_x = 24\n",
    "view.font_size = 0.35\n",
    "SVG(view.to_svg())"
   ]
  },
  {
   "cell_type": "markdown",
   "metadata": {},
   "source": [
    "### Phi/Psi Plots"
   ]
  },
  {
   "cell_type": "code",
   "execution_count": 42,
   "metadata": {
    "collapsed": true
   },
   "outputs": [],
   "source": [
    "# Imports for plotting\n",
    "%matplotlib inline\n",
    "import matplotlib\n",
    "import matplotlib.pyplot as plt\n",
    "import matplotlib.pylab as pylab\n",
    "from matplotlib.legend_handler import HandlerLine2D"
   ]
  },
  {
   "cell_type": "markdown",
   "metadata": {},
   "source": [
    "Make sure that all phi/psi values have been computed!"
   ]
  },
  {
   "cell_type": "code",
   "execution_count": 43,
   "metadata": {
    "collapsed": true
   },
   "outputs": [],
   "source": [
    "psi = storage.cvs['psi']\n",
    "phi = storage.cvs['phi']\n",
    "opA = storage.cvs['StateA']"
   ]
  },
  {
   "cell_type": "code",
   "execution_count": 44,
   "metadata": {
    "collapsed": false
   },
   "outputs": [
    {
     "data": {
      "image/png": "[encoded data removed]",
      "text/plain": [
       "<matplotlib.figure.Figure at 0x10f4094d0>"
      ]
     },
     "metadata": {},
     "output_type": "display_data"
    }
   ],
   "source": [
    "plt.figure(figsize=(8, 8))\n",
    "\n",
    "for traj in storage.trajectories[1:]:\n",
    "    phi_angles = np.array(phi(traj)).flatten() / deg\n",
    "    psi_angles = np.array(psi(traj)).flatten() / deg\n",
    "    plt.plot(phi_angles, psi_angles, 'ro', linewidth=1);\n",
    "    \n",
    "plt.xlim(-180, 180);\n",
    "plt.ylim(-180, 180);"
   ]
  },
  {
   "cell_type": "code",
   "execution_count": 45,
   "metadata": {
    "collapsed": false
   },
   "outputs": [
    {
     "data": {
      "image/png": "[encoded data removed]",
      "text/plain": [
       "<matplotlib.figure.Figure at 0x10f33fd50>"
      ]
     },
     "metadata": {},
     "output_type": "display_data"
    }
   ],
   "source": [
    "plt.figure(figsize=(8, 8))\n",
    "\n",
    "\n",
    "for traj in storage.trajectories[1:]:\n",
    "    phi_angles = np.array(phi(traj)).flatten() / deg\n",
    "    psi_angles = np.array(psi(traj)).flatten() / deg\n",
    "    plt.plot(phi_angles, psi_angles, 'k-', linewidth=1);\n",
    "    for idx, snapshot in enumerate(traj):\n",
    "        if opA(snapshot):\n",
    "            plt.plot(phi_angles[idx], psi_angles[idx], 'bo', linewidth=1);\n",
    "        \n",
    "plt.xlim(-180, 180);\n",
    "plt.ylim(-180, 180);"
   ]
  },
  {
   "cell_type": "code",
   "execution_count": null,
   "metadata": {
    "collapsed": true
   },
   "outputs": [],
   "source": []
  }
 ],
 "metadata": {
  "kernelspec": {
   "display_name": "Python 2",
   "language": "python",
   "name": "python2"
  },
  "language_info": {
   "codemirror_mode": {
    "name": "ipython",
    "version": 2
   },
   "file_extension": ".py",
   "mimetype": "text/x-python",
   "name": "python",
   "nbconvert_exporter": "python",
   "pygments_lexer": "ipython2",
   "version": "2.7.10"
  }
 },
 "nbformat": 4,
 "nbformat_minor": 0
}

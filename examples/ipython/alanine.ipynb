{
 "cells": [
  {
   "cell_type": "markdown",
   "metadata": {},
   "source": [
    "# OPENTIS\n",
    "## An Example with Alanine"
   ]
  },
  {
   "cell_type": "markdown",
   "metadata": {},
   "source": [
    "Import Modules"
   ]
  },
  {
   "cell_type": "code",
   "execution_count": 1,
   "metadata": {
    "collapsed": false
   },
   "outputs": [],
   "source": [
    "import numpy as np\n",
    "import mdtraj as md\n",
    "import pandas as pd\n",
    "import simtk.openmm as mm\n",
    "from simtk.openmm import app\n",
    "from simtk import unit\n",
    " \n",
    "from openpathsampling.visualize import PathTreeBuilder\n",
    "from IPython.display import SVG\n",
    "\n",
    "import openpathsampling as paths\n",
    "import openpathsampling.engines.openmm as peng"
   ]
  },
  {
   "cell_type": "markdown",
   "metadata": {},
   "source": [
    "Radians to Degree conversion"
   ]
  },
  {
   "cell_type": "code",
   "execution_count": 2,
   "metadata": {
    "collapsed": true
   },
   "outputs": [],
   "source": [
    "deg = 3.14159265 / 180.0"
   ]
  },
  {
   "cell_type": "markdown",
   "metadata": {},
   "source": [
    "Create an AlanineOpenMMSimulator for demonstration purposes"
   ]
  },
  {
   "cell_type": "markdown",
   "metadata": {},
   "source": [
    "### Set simulation options and create a simulator object"
   ]
  },
  {
   "cell_type": "code",
   "execution_count": 3,
   "metadata": {
    "collapsed": false
   },
   "outputs": [],
   "source": [
    "template = peng.snapshot_from_pdb(\"../data/Alanine_solvated.pdb\")"
   ]
  },
  {
   "cell_type": "code",
   "execution_count": 4,
   "metadata": {
    "collapsed": false
   },
   "outputs": [],
   "source": [
    "storage = paths.Storage(filename=\"trajectory.nc\", template=template, mode='w')"
   ]
  },
  {
   "cell_type": "markdown",
   "metadata": {},
   "source": [
    "Set up the OpenMM simulation"
   ]
  },
  {
   "cell_type": "code",
   "execution_count": 5,
   "metadata": {
    "collapsed": true
   },
   "outputs": [],
   "source": [
    "topology = peng.to_openmm_topology(template)            \n",
    "\n",
    "# Generated using OpenMM Script Builder\n",
    "# http://builder.openmm.org\n",
    "\n",
    "forcefield = app.ForceField(\n",
    "    'amber96.xml',  # solute FF\n",
    "    'tip3p.xml'     # solvent FF\n",
    ")\n",
    "\n",
    "# OpenMM System\n",
    "system = forcefield.createSystem(\n",
    "    topology, \n",
    "    nonbondedMethod=app.PME, \n",
    "    nonbondedCutoff=1.0*unit.nanometers, \n",
    "    constraints=app.HBonds, \n",
    "    rigidWater=True, \n",
    "    ewaldErrorTolerance=0.0005\n",
    ")\n",
    "\n",
    "# OpenMM Integrator\n",
    "integrator = mm.LangevinIntegrator(\n",
    "    300*unit.kelvin, \n",
    "    1.0/unit.picoseconds, \n",
    "    2.0*unit.femtoseconds\n",
    ")\n",
    "integrator.setConstraintTolerance(0.00001)\n",
    "\n",
    "# Engine options\n",
    "options = {\n",
    "    'nsteps_per_frame': 10,\n",
    "    'platform': 'CPU'\n",
    "}\n",
    "\n",
    "engine = peng.Engine(\n",
    "    template, \n",
    "    system,\n",
    "    integrator,\n",
    "    options\n",
    ")"
   ]
  },
  {
   "cell_type": "code",
   "execution_count": 6,
   "metadata": {
    "collapsed": false
   },
   "outputs": [
    {
     "name": "stdout",
     "output_type": "stream",
     "text": [
      "(store.engines[DynamicsEngine], 11, 0)\n"
     ]
    }
   ],
   "source": [
    "print storage.save(engine)"
   ]
  },
  {
   "cell_type": "markdown",
   "metadata": {},
   "source": [
    "### Order Parameters"
   ]
  },
  {
   "cell_type": "markdown",
   "metadata": {},
   "source": [
    "this generates an order parameter (callable) object named psi (so if we call `psi(trajectory)` we get a list of the values of psi for each frame in the trajectory). This particular order parameter uses mdtraj's compute_dihedrals function, with the atoms in psi_atoms"
   ]
  },
  {
   "cell_type": "code",
   "execution_count": 7,
   "metadata": {
    "collapsed": false
   },
   "outputs": [],
   "source": [
    "psi_atoms = [6,8,14,16]\n",
    "psi = paths.CV_MDTraj_Function(\"psi\", md.compute_dihedrals, indices=[psi_atoms])\n",
    "\n",
    "phi_atoms = [4,6,8,14]\n",
    "phi = paths.CV_MDTraj_Function(\"phi\", md.compute_dihedrals, indices=[phi_atoms])"
   ]
  },
  {
   "cell_type": "code",
   "execution_count": 8,
   "metadata": {
    "collapsed": false
   },
   "outputs": [],
   "source": [
    "def pp2_fnc(item, psi, phi):\n",
    "    return psi(item)**2 + phi(item)**2\n",
    "\n",
    "pp2 = paths.CV_Function('psi2', pp2_fnc, psi=psi, phi=phi)"
   ]
  },
  {
   "cell_type": "code",
   "execution_count": 9,
   "metadata": {
    "collapsed": true
   },
   "outputs": [],
   "source": [
    "tt = paths.Trajectory([storage.template])"
   ]
  },
  {
   "cell_type": "code",
   "execution_count": 10,
   "metadata": {
    "collapsed": false
   },
   "outputs": [
    {
     "name": "stdout",
     "output_type": "stream",
     "text": [
      "(store.cvs[CollectiveVariable], 6, 0)\n"
     ]
    }
   ],
   "source": [
    "print storage.save(pp2)"
   ]
  },
  {
   "cell_type": "markdown",
   "metadata": {},
   "source": [
    "### Volumes"
   ]
  },
  {
   "cell_type": "markdown",
   "metadata": {},
   "source": [
    "This creates two states using a one-dimensional order parameter (called _Lambda_ in TIS terminology). A snapshot is in the State as long as the order parameter is with specific bounds. \n",
    "\n",
    "StateA is $\\psi \\in [-120, -30]$ and StateB is $\\psi \\in [100, 180]$"
   ]
  },
  {
   "cell_type": "code",
   "execution_count": 11,
   "metadata": {
    "collapsed": false
   },
   "outputs": [],
   "source": [
    "stateA = paths.CVRangeVolumePeriodic(\n",
    "    collectivevariable=psi, \n",
    "    lambda_min=-120.0*deg, \n",
    "    lambda_max=-30.0*deg, \n",
    "    period_min=-180.0*deg, \n",
    "    period_max=+180.0*deg\n",
    ")\n",
    "stateB = paths.CVRangeVolumePeriodic(\n",
    "    collectivevariable=psi, \n",
    "    lambda_min=100.0*deg, \n",
    "    lambda_max=180.0*deg, \n",
    "    period_min=-180.0*deg, \n",
    "    period_max=+180.0*deg\n",
    ")"
   ]
  },
  {
   "cell_type": "markdown",
   "metadata": {},
   "source": [
    "Now do the same for a set of lambda ranges to produce nested volumes."
   ]
  },
  {
   "cell_type": "code",
   "execution_count": 12,
   "metadata": {
    "collapsed": false
   },
   "outputs": [],
   "source": [
    "minima = map(deg.__mul__, [-125, -135, -140, -142.5, -145.0, -147.0, -150.0])\n",
    "maxima = map(deg.__mul__, [-25.0, -21.0, -18.5, -17.0, -15.0, -10.0, 0.0])\n",
    "\n",
    "volume_set = paths.VolumeFactory.CVRangeVolumePeriodicSet(psi, minima, maxima, -180.0*deg, +180.0*deg)"
   ]
  },
  {
   "cell_type": "markdown",
   "metadata": {},
   "source": [
    "Tag the two states for simpler access later"
   ]
  },
  {
   "cell_type": "code",
   "execution_count": 13,
   "metadata": {
    "collapsed": false
   },
   "outputs": [],
   "source": [
    "storage.tag['stateA'] = stateA\n",
    "storage.tag['stateB'] = stateB\n",
    "storage.tag['states'] = [stateA, stateB]"
   ]
  },
  {
   "cell_type": "markdown",
   "metadata": {},
   "source": [
    "### Ensembles"
   ]
  },
  {
   "cell_type": "markdown",
   "metadata": {},
   "source": [
    "Now do this automatically for all ensembles"
   ]
  },
  {
   "cell_type": "code",
   "execution_count": 14,
   "metadata": {
    "collapsed": true
   },
   "outputs": [],
   "source": [
    "interface0 = volume_set[0]\n",
    "interface_set = paths.EnsembleFactory.TISEnsembleSet(stateA, stateA | stateB, volume_set, psi)"
   ]
  },
  {
   "cell_type": "markdown",
   "metadata": {},
   "source": [
    "Give each interface a name"
   ]
  },
  {
   "cell_type": "code",
   "execution_count": 15,
   "metadata": {
    "collapsed": false
   },
   "outputs": [],
   "source": [
    "for no, interface in enumerate(interface_set):\n",
    "    interface.name = 'Interface ' + str(no)"
   ]
  },
  {
   "cell_type": "markdown",
   "metadata": {},
   "source": [
    "and save all of these"
   ]
  },
  {
   "cell_type": "code",
   "execution_count": 16,
   "metadata": {
    "collapsed": false
   },
   "outputs": [],
   "source": [
    "map(storage.ensembles.save, interface_set);"
   ]
  },
  {
   "cell_type": "markdown",
   "metadata": {},
   "source": [
    "And create a special ensemble, that will create a first trajectory in the innermost TIS ensemble independent from where we start"
   ]
  },
  {
   "cell_type": "markdown",
   "metadata": {},
   "source": [
    "The idea is to describe a trajectory type by a sequence of positions. First can be outside of stateA or not, then be inside stateA, etc..."
   ]
  },
  {
   "cell_type": "code",
   "execution_count": 17,
   "metadata": {
    "collapsed": false
   },
   "outputs": [],
   "source": [
    "inA = paths.AllInXEnsemble(stateA)\n",
    "outA = paths.AllOutXEnsemble(stateA)\n",
    "\n",
    "inI0 = paths.AllInXEnsemble(interface0)\n",
    "outI0 = paths.AllOutXEnsemble(interface0)\n",
    "\n",
    "first_traj_ensemble = paths.SequentialEnsemble([\n",
    "    paths.OptionalEnsemble(outA),\n",
    "    inA,\n",
    "    paths.OptionalEnsemble(outA & inI0),\n",
    "    paths.OptionalEnsemble(inI0),\n",
    "    outI0,\n",
    "    paths.OptionalEnsemble(outA),\n",
    "    paths.SingleFrameEnsemble(inA)\n",
    "])"
   ]
  },
  {
   "cell_type": "markdown",
   "metadata": {},
   "source": [
    "### start path generation"
   ]
  },
  {
   "cell_type": "markdown",
   "metadata": {},
   "source": [
    "so lets try and see if we can generate a first path"
   ]
  },
  {
   "cell_type": "markdown",
   "metadata": {},
   "source": [
    "load the initial snapshot (although we still have it) and generate using the Alanine simulator. The second option specifies a function : trajectory -> bool that keeps the simulation running as long as it is true. Our goal was to generate a path that belongs to a specific ensemble, so we use `forward` to determine if it makes sense to keep running or if the result cannot belong to the ensemble anymore."
   ]
  },
  {
   "cell_type": "code",
   "execution_count": 18,
   "metadata": {
    "collapsed": false
   },
   "outputs": [],
   "source": [
    "snapshot = storage.template\n",
    "total_path = engine.generate_forward(snapshot, first_traj_ensemble)"
   ]
  },
  {
   "cell_type": "markdown",
   "metadata": {},
   "source": [
    "Show the length"
   ]
  },
  {
   "cell_type": "code",
   "execution_count": 19,
   "metadata": {
    "collapsed": false
   },
   "outputs": [
    {
     "name": "stdout",
     "output_type": "stream",
     "text": [
      "Total trajectory length : 84 ( 1.68 ps )\n"
     ]
    }
   ],
   "source": [
    "print \"Total trajectory length : %d ( %s )\" % ( \n",
    "    len(total_path), \n",
    "    len(total_path) * engine.options['nsteps_per_frame'] * engine.simulation.integrator.getStepSize()\n",
    ")"
   ]
  },
  {
   "cell_type": "markdown",
   "metadata": {},
   "source": [
    "And save the trajetory completely"
   ]
  },
  {
   "cell_type": "code",
   "execution_count": 20,
   "metadata": {
    "collapsed": false
   },
   "outputs": [],
   "source": [
    "storage.save(total_path);"
   ]
  },
  {
   "cell_type": "code",
   "execution_count": 21,
   "metadata": {
    "collapsed": false
   },
   "outputs": [],
   "source": [
    "storage.tag['first_path'] = total_path"
   ]
  },
  {
   "cell_type": "markdown",
   "metadata": {},
   "source": [
    "Split the trajectory into parts that belong to the TIS ensemble (not the one we generated)"
   ]
  },
  {
   "cell_type": "code",
   "execution_count": 22,
   "metadata": {
    "collapsed": false
   },
   "outputs": [
    {
     "name": "stdout",
     "output_type": "stream",
     "text": [
      "CPU times: user 455 ms, sys: 3.18 ms, total: 458 ms\n",
      "Wall time: 459 ms\n"
     ]
    }
   ],
   "source": [
    "%%time\n",
    "interface0_ensemble = interface_set[0]\n",
    "segments = interface0_ensemble.split(total_path)"
   ]
  },
  {
   "cell_type": "code",
   "execution_count": 23,
   "metadata": {
    "collapsed": false
   },
   "outputs": [
    {
     "name": "stdout",
     "output_type": "stream",
     "text": [
      "Traj in first_traj_ensemble? (should be) True\n",
      "Traj in TIS ensemble? (probably not) False\n",
      "Number of segments in TIS ensemble:  1\n",
      "Length of each segment:\n",
      "  seg[0]: 8\n"
     ]
    }
   ],
   "source": [
    "print \"Traj in first_traj_ensemble? (should be)\", \n",
    "print first_traj_ensemble(total_path)\n",
    "\n",
    "print \"Traj in TIS ensemble? (probably not)\", \n",
    "print interface0_ensemble(total_path)\n",
    "\n",
    "\n",
    "print \"Number of segments in TIS ensemble: \", len(segments)\n",
    "if len(segments):\n",
    "    print \"Length of each segment:\"\n",
    "    for i in range(len(segments)):\n",
    "        print \"  seg[{0}]: {1}\".format(i, len(segments[i]))"
   ]
  },
  {
   "cell_type": "markdown",
   "metadata": {},
   "source": [
    "Show some results and check if this worked"
   ]
  },
  {
   "cell_type": "code",
   "execution_count": 24,
   "metadata": {
    "collapsed": false
   },
   "outputs": [
    {
     "name": "stdout",
     "output_type": "stream",
     "text": [
      "          phi        psi stateA interface0 stateB appendable\n",
      "0  -80.208455 -10.277032  False      False  False       True\n",
      "1  -82.782296 -11.491370  False      False  False       True\n",
      "2  -78.987374 -12.637084  False      False  False       True\n",
      "81 -65.040948 -23.389112  False      False  False       True\n",
      "82 -72.884983 -20.052686  False      False  False       True\n",
      "83 -65.624430 -31.724733   True       True  False      False\n"
     ]
    }
   ],
   "source": [
    "data = []\n",
    "for frame in total_path:\n",
    "    data.append((phi(frame) / deg, psi(frame)/deg, stateA(frame), interface0(frame), stateB(frame), first_traj_ensemble.can_append(total_path[slice(0,total_path.index(frame)+1)])))\n",
    "    \n",
    "dataframe = pd.DataFrame(data, columns=['phi', 'psi', 'stateA', 'interface0', 'stateB', 'appendable'])\n",
    "print dataframe[[0,1,2,3,4,5]].ix[[0,1,2,len(dataframe)-3,len(dataframe)-2,len(dataframe)-1]]"
   ]
  },
  {
   "cell_type": "code",
   "execution_count": 25,
   "metadata": {
    "collapsed": false
   },
   "outputs": [
    {
     "name": "stdout",
     "output_type": "stream",
     "text": [
      "Do our segments satisfy the ensemble? True\n"
     ]
    }
   ],
   "source": [
    "print \"Do our segments satisfy the ensemble?\",\n",
    "for seg in segments:\n",
    "    print interface0_ensemble(seg),"
   ]
  },
  {
   "cell_type": "code",
   "execution_count": 26,
   "metadata": {
    "collapsed": false
   },
   "outputs": [
    {
     "name": "stdout",
     "output_type": "stream",
     "text": [
      "         phi        psi stateA interface0 stateB appendable\n",
      "0 -54.262445 -35.914788   True       True  False       True\n",
      "1 -59.035825 -23.344361  False      False  False       True\n",
      "2 -56.944964 -23.755625  False      False  False       True\n",
      "3 -71.213417 -22.117898  False      False  False       True\n",
      "4 -63.206256 -15.549752  False      False  False       True\n",
      "5 -65.040948 -23.389112  False      False  False       True\n",
      "6 -72.884983 -20.052686  False      False  False       True\n",
      "7 -65.624430 -31.724733   True       True  False      False\n"
     ]
    }
   ],
   "source": [
    "data = []\n",
    "for frame in segments[0]:\n",
    "    data.append((phi(frame)/deg, psi(frame)/deg, stateA(frame), interface0(frame), stateB(frame), first_traj_ensemble.can_append(total_path[slice(0,total_path.index(frame)+1)])))\n",
    "    \n",
    "dataframe = pd.DataFrame(data, columns=['phi', 'psi', 'stateA', 'interface0', 'stateB', 'appendable'])\n",
    "print dataframe[[0,1,2,3,4,5]]"
   ]
  },
  {
   "cell_type": "markdown",
   "metadata": {},
   "source": [
    "### Bootstrapping"
   ]
  },
  {
   "cell_type": "markdown",
   "metadata": {},
   "source": [
    "Run a bootstrapping (not TIS) simulation that shoots from an ensemble until the next interface is reached then switch to the next ensemble to drive the system out of stateA"
   ]
  },
  {
   "cell_type": "code",
   "execution_count": 27,
   "metadata": {
    "collapsed": true
   },
   "outputs": [],
   "source": [
    "mover_set = paths.PathMoverFactory.OneWayShootingSet(paths.UniformSelector(), interface_set)"
   ]
  },
  {
   "cell_type": "code",
   "execution_count": 28,
   "metadata": {
    "collapsed": true
   },
   "outputs": [],
   "source": [
    "bootstrap = paths.Bootstrapping(storage=storage,\n",
    "                          engine=engine,\n",
    "                          ensembles=interface_set,\n",
    "                          movers=mover_set,\n",
    "                          trajectory=segments[0])"
   ]
  },
  {
   "cell_type": "code",
   "execution_count": 29,
   "metadata": {
    "collapsed": false
   },
   "outputs": [
    {
     "name": "stdout",
     "output_type": "stream",
     "text": [
      "DONE! Completed Bootstrapping cycle step 9 in ensemble 5/7 .\n",
      "\n"
     ]
    }
   ],
   "source": [
    "bootstrap.run(5)"
   ]
  },
  {
   "cell_type": "markdown",
   "metadata": {},
   "source": [
    "### Save all computed phi/psi values which depends on whether they have been needed before"
   ]
  },
  {
   "cell_type": "code",
   "execution_count": 30,
   "metadata": {
    "collapsed": true
   },
   "outputs": [],
   "source": [
    "storage.cvs.sync()"
   ]
  },
  {
   "cell_type": "markdown",
   "metadata": {},
   "source": [
    "Create an collectivevariable from a volume which is just 1 or 0 and can thus be stored for later analysis"
   ]
  },
  {
   "cell_type": "code",
   "execution_count": 31,
   "metadata": {
    "collapsed": true
   },
   "outputs": [],
   "source": [
    "op_inA = paths.CV_Volume('StateA', stateA)\n",
    "op_inB = paths.CV_Volume('StateB', stateB)\n",
    "op_notinAorB = paths.CV_Volume('StateX', ~ (stateA | stateB))"
   ]
  },
  {
   "cell_type": "markdown",
   "metadata": {},
   "source": [
    "Save the new collectivevariables"
   ]
  },
  {
   "cell_type": "code",
   "execution_count": 32,
   "metadata": {
    "collapsed": false
   },
   "outputs": [],
   "source": [
    "storage.save([op_inA, op_inB, op_notinAorB]);"
   ]
  },
  {
   "cell_type": "markdown",
   "metadata": {},
   "source": [
    "Compute the collectivevariable for all snapshots"
   ]
  },
  {
   "cell_type": "code",
   "execution_count": 33,
   "metadata": {
    "collapsed": true
   },
   "outputs": [],
   "source": [
    "psi(storage.snapshots.all());\n",
    "phi(storage.snapshots.all());"
   ]
  },
  {
   "cell_type": "code",
   "execution_count": 34,
   "metadata": {
    "collapsed": false
   },
   "outputs": [],
   "source": [
    "op_inA(storage.snapshots.all())\n",
    "op_inB(storage.snapshots.all())\n",
    "op_notinAorB(storage.snapshots.all());"
   ]
  },
  {
   "cell_type": "code",
   "execution_count": 35,
   "metadata": {
    "collapsed": true
   },
   "outputs": [],
   "source": [
    "storage.cvs.sync()\n",
    "storage.sync()"
   ]
  },
  {
   "cell_type": "code",
   "execution_count": 36,
   "metadata": {
    "collapsed": true
   },
   "outputs": [],
   "source": [
    "storage.close()"
   ]
  },
  {
   "cell_type": "code",
   "execution_count": 37,
   "metadata": {
    "collapsed": true
   },
   "outputs": [],
   "source": [
    "import openpathsampling as paths\n",
    "from openpathsampling.visualize import PathTreeBuilder, MoveTreeBuilder\n",
    "from IPython.display import SVG\n",
    "import mdtraj"
   ]
  },
  {
   "cell_type": "code",
   "execution_count": 38,
   "metadata": {
    "collapsed": false
   },
   "outputs": [],
   "source": [
    "storage = paths.AnalysisStorage('trajectory.nc')"
   ]
  },
  {
   "cell_type": "markdown",
   "metadata": {},
   "source": [
    "## Visualization"
   ]
  },
  {
   "cell_type": "markdown",
   "metadata": {},
   "source": [
    "Create a PathTree generator"
   ]
  },
  {
   "cell_type": "code",
   "execution_count": 39,
   "metadata": {
    "collapsed": true
   },
   "outputs": [],
   "source": [
    "import openpathsampling.visualize as visualization"
   ]
  },
  {
   "cell_type": "code",
   "execution_count": 40,
   "metadata": {
    "collapsed": false
   },
   "outputs": [
    {
     "name": "stdout",
     "output_type": "stream",
     "text": [
      "Largest replica number is 4\n"
     ]
    }
   ],
   "source": [
    "max_replica = max(map(lambda x: x.replica, storage.steps.last.active))\n",
    "print 'Largest replica number is', max_replica"
   ]
  },
  {
   "cell_type": "code",
   "execution_count": 41,
   "metadata": {
    "collapsed": false
   },
   "outputs": [],
   "source": [
    "history = visualization.ReplicaHistoryTree(storage, storage.steps[:], max_replica)"
   ]
  },
  {
   "cell_type": "code",
   "execution_count": 42,
   "metadata": {
    "collapsed": false
   },
   "outputs": [],
   "source": [
    "# psi angle as text in snapshots\n",
    "history.op = lambda snap : int(psi(snap)/3.1415926 * 180)\n",
    "\n",
    "# show StateA in orange\n",
    "history.states = {\n",
    "    'orange' : storage.cvs['StateA']\n",
    "}"
   ]
  },
  {
   "cell_type": "code",
   "execution_count": 43,
   "metadata": {
    "collapsed": false
   },
   "outputs": [
    {
     "data": {
      "image/svg+xml": [
       "<svg baseProfile=\"full\" class=\"opstree\" height=\"100%\" version=\"1.1\" viewBox=\"-112.00 -30.00 608.00 280.00\" width=\"608.0\" xmlns=\"http://www.w3.org/2000/svg\" xmlns:ev=\"http://www.w3.org/2001/xml-events\" xmlns:xlink=\"http://www.w3.org/1999/xlink\"><defs><style type=\"text/css\"><![CDATA[\n",
       ".opstree text, .movetree text {\n",
       "    alignment-baseline: central;\n",
       "    font-size: 10px;\n",
       "    text-anchor: middle;\n",
       "    font-family: Futura-CondensedMedium;\n",
       "    font-weight: lighter;\n",
       "    stroke: none !important;\n",
       "}\n",
       ".opstree text.shadow {\n",
       "    stroke-width: 3;\n",
       "    stroke: white !important;\n",
       "}\n",
       ".opstree text.bw.label {\n",
       "    text-anchor: end;\n",
       "}\n",
       ".opstree text.fw.label {\n",
       "    text-anchor: start;\n",
       "}\n",
       ".opstree .block text, .movetree .block text {\n",
       "    fill: white !important;\n",
       "    stroke: none !important;\n",
       "}\n",
       ".opstree g.block:hover rect {\n",
       "    opacity: 0.5;\n",
       "}\n",
       ".opstree .repex {\n",
       "    fill: blue;\n",
       "    stroke: blue;\n",
       "}\n",
       ".opstree .extend {\n",
       "    fill: blue;\n",
       "    stroke: blue;\n",
       "}\n",
       ".opstree .truncate {\n",
       "    fill: blue;\n",
       "    stroke: blue;\n",
       "}\n",
       ".opstree .new {\n",
       "    fill: black;\n",
       "    stroke: black;\n",
       "}\n",
       ".opstree .unknown {\n",
       "    fill: gray;\n",
       "    stroke: gray;\n",
       "}\n",
       ".opstree .hop {\n",
       "    fill: blue;\n",
       "    stroke: blue;\n",
       "}\n",
       ".opstree .correlation {\n",
       "    fill: black;\n",
       "    stroke: black;\n",
       "}\n",
       ".opstree .shooting.bw {\n",
       "    fill: green;\n",
       "    stroke: green;\n",
       "}\n",
       ".opstree .shooting.fw {\n",
       "    fill: red;\n",
       "    stroke: red;\n",
       "}\n",
       ".opstree .reversal {\n",
       "    fill: gold;\n",
       "    stroke: gold;\n",
       "}\n",
       ".opstree .virtual {\n",
       "    opacity: 0.1;\n",
       "    fill:gray;\n",
       "    stroke: none;\n",
       "}\n",
       ".opstree line {\n",
       "    stroke-width: 2px;\n",
       "}\n",
       ".opstree .label {\n",
       "    fill: black !important;\n",
       "}\n",
       ".opstree .h-connector {\n",
       "/*                stroke-dasharray: 3 3; */\n",
       "}\n",
       ".opstree .rejected {\n",
       "    opacity: 0.3;\n",
       "}\n",
       ".opstree .orange {\n",
       "    fill: orange;\n",
       "}\n",
       ".tableline {\n",
       "    fill: gray;\n",
       "    opacity: 0.0;\n",
       "}\n",
       ".tableline:hover {\n",
       "    opacity: 0.2;\n",
       "}\n",
       ".opstree .left.label .shift {\n",
       "    transform: translateX(-24px);\n",
       "}\n",
       ".opstree .right.label .shift {\n",
       "    transform: translateX(+24px);\n",
       "}\n",
       ".opstree .infobox text {\n",
       "    text-anchor: start;\n",
       "}\n",
       "\n",
       ".movetree .label .shift {\n",
       "    transform: translateX(-18px);\n",
       "}\n",
       "\n",
       ".movetree .label text {\n",
       "    text-anchor: end;\n",
       "}\n",
       ".movetree .v-connector {\n",
       "    stroke: black;\n",
       "}\n",
       ".movetree .v-hook {\n",
       "    stroke: black;\n",
       "}\n",
       ".movetree .ensembles .head .shift {\n",
       "    transform: translateY(0px) rotate(270deg) ;\n",
       "}\n",
       ".movetree .ensembles .head text {\n",
       "    text-anchor: start;\n",
       "}\n",
       ".movetree .connector.input {\n",
       "    fill: green;\n",
       "}\n",
       ".movetree .connector.output {\n",
       "    fill: red;\n",
       "}\n",
       ".movetree .unknown {\n",
       "    fill: gray;\n",
       "}\n",
       "]]></style></defs><g transform=\"scale(1.0)\"><g class=\"legend\"><g class=\"label\" transform=\"translate(-64,0)\"><g class=\"shift\"><text x=\"0\" y=\"0\">smp</text></g></g><g class=\"label\" transform=\"translate(-96,0)\"><g class=\"shift\"><text x=\"0\" y=\"0\">cyc</text></g></g><g class=\"label\" transform=\"translate(-32,0)\"><g class=\"shift\"><text x=\"0\" y=\"0\">cor</text></g></g><rect class=\"tableline\" height=\"18.0\" width=\"608.0\" x=\"-112.0\" y=\"11.0\"/><g class=\"label\" transform=\"translate(-64,20)\"><g class=\"shift\"><text x=\"0\" y=\"0\">0</text></g></g><g class=\"label\" transform=\"translate(-96,20)\"><g class=\"shift\"><text x=\"0\" y=\"0\">---</text></g></g><rect class=\"tableline\" height=\"18.0\" width=\"608.0\" x=\"-112.0\" y=\"31.0\"/><g class=\"label\" transform=\"translate(-64,40)\"><g class=\"shift\"><text x=\"0\" y=\"0\">2</text></g></g><g class=\"label\" transform=\"translate(-96,40)\"><g class=\"shift\"><text x=\"0\" y=\"0\">2</text></g></g><rect class=\"tableline\" height=\"18.0\" width=\"608.0\" x=\"-112.0\" y=\"51.0\"/><g class=\"label\" transform=\"translate(-64,60)\"><g class=\"shift\"><text x=\"0\" y=\"0\">3</text></g></g><g class=\"label\" transform=\"translate(-96,60)\"><g class=\"shift\"><text x=\"0\" y=\"0\">2</text></g></g><rect class=\"tableline\" height=\"18.0\" width=\"608.0\" x=\"-112.0\" y=\"71.0\"/><g class=\"label\" transform=\"translate(-64,80)\"><g class=\"shift\"><text x=\"0\" y=\"0\">5</text></g></g><g class=\"label\" transform=\"translate(-96,80)\"><g class=\"shift\"><text x=\"0\" y=\"0\">4</text></g></g><rect class=\"tableline\" height=\"18.0\" width=\"608.0\" x=\"-112.0\" y=\"91.0\"/><g class=\"label\" transform=\"translate(-64,100)\"><g class=\"shift\"><text x=\"0\" y=\"0\">6</text></g></g><g class=\"label\" transform=\"translate(-96,100)\"><g class=\"shift\"><text x=\"0\" y=\"0\">4</text></g></g><rect class=\"tableline\" height=\"18.0\" width=\"608.0\" x=\"-112.0\" y=\"111.0\"/><g class=\"label\" transform=\"translate(-64,120)\"><g class=\"shift\"><text x=\"0\" y=\"0\">7</text></g></g><g class=\"label\" transform=\"translate(-96,120)\"><g class=\"shift\"><text x=\"0\" y=\"0\">5</text></g></g><rect class=\"tableline\" height=\"18.0\" width=\"608.0\" x=\"-112.0\" y=\"131.0\"/><g class=\"label\" transform=\"translate(-64,140)\"><g class=\"shift\"><text x=\"0\" y=\"0\">8</text></g></g><g class=\"label\" transform=\"translate(-96,140)\"><g class=\"shift\"><text x=\"0\" y=\"0\">5</text></g></g><rect class=\"tableline\" height=\"18.0\" width=\"608.0\" x=\"-112.0\" y=\"151.0\"/><g class=\"correlation v-region\"><line x1=\"-32\" x2=\"-32\" y1=\"10.0\" y2=\"150.0\"/><circle cx=\"-32\" cy=\"10.0\" r=\"0.0\"/><line x1=\"-32.0\" x2=\"-25.6\" y1=\"10.0\" y2=\"10.0\"/><circle cx=\"-32\" cy=\"150.0\" r=\"0.0\"/><line x1=\"-32.0\" x2=\"-25.6\" y1=\"150.0\" y2=\"150.0\"/><text x=\"-38.4\" y=\"80.0\"/></g><g class=\"label\" transform=\"translate(-64,160)\"><g class=\"shift\"><text x=\"0\" y=\"0\">9</text></g></g><g class=\"label\" transform=\"translate(-96,160)\"><g class=\"shift\"><text x=\"0\" y=\"0\">6</text></g></g><rect class=\"tableline\" height=\"18.0\" width=\"608.0\" x=\"-112.0\" y=\"171.0\"/><g class=\"label\" transform=\"translate(-64,180)\"><g class=\"shift\"><text x=\"0\" y=\"0\">10</text></g></g><g class=\"label\" transform=\"translate(-96,180)\"><g class=\"shift\"><text x=\"0\" y=\"0\">6</text></g></g><rect class=\"tableline\" height=\"18.0\" width=\"608.0\" x=\"-112.0\" y=\"191.0\"/><g class=\"label\" transform=\"translate(-64,200)\"><g class=\"shift\"><text x=\"0\" y=\"0\">11</text></g></g><g class=\"label\" transform=\"translate(-96,200)\"><g class=\"shift\"><text x=\"0\" y=\"0\">7</text></g></g><rect class=\"tableline\" height=\"18.0\" width=\"608.0\" x=\"-112.0\" y=\"211.0\"/><g class=\"correlation v-region\"><line x1=\"-32\" x2=\"-32\" y1=\"150.0\" y2=\"210.0\"/><circle cx=\"-32\" cy=\"150.0\" r=\"0.0\"/><line x1=\"-32.0\" x2=\"-25.6\" y1=\"150.0\" y2=\"150.0\"/><circle cx=\"-32\" cy=\"210.0\" r=\"0.0\"/><line x1=\"-32.0\" x2=\"-25.6\" y1=\"210.0\" y2=\"210.0\"/><text x=\"-38.4\" y=\"180.0\"/></g><g class=\"label\" transform=\"translate(-64,220)\"><g class=\"shift\"><text x=\"0\" y=\"0\">13</text></g></g><g class=\"label\" transform=\"translate(-96,220)\"><g class=\"shift\"><text x=\"0\" y=\"0\">8</text></g></g><rect class=\"tableline\" height=\"18.0\" width=\"608.0\" x=\"-112.0\" y=\"231.0\"/><g class=\"label\" transform=\"translate(-64,240)\"><g class=\"shift\"><text x=\"0\" y=\"0\">15</text></g></g><g class=\"label\" transform=\"translate(-96,240)\"><g class=\"shift\"><text x=\"0\" y=\"0\">9</text></g></g><g class=\"correlation v-region\"><line x1=\"-32\" x2=\"-32\" y1=\"210.0\" y2=\"250.0\"/><circle cx=\"-32\" cy=\"210.0\" r=\"0.0\"/><line x1=\"-32.0\" x2=\"-25.6\" y1=\"210.0\" y2=\"210.0\"/><text x=\"-38.4\" y=\"230.0\"/></g></g><g class=\"tree\" transform=\"translate(272,20)\"><g class=\"unknown left label\" transform=\"translate(0,0)\"><g class=\"shift\"><text x=\"0\" y=\"0\">1+</text></g></g><g class=\"unknown overlap whiteback h-region\"><line x1=\"-12.0\" x2=\"180.0\" y1=\"0\" y2=\"0\"/><circle cx=\"-12.0\" cy=\"0\" r=\"0.0\"/><line x1=\"-12.0\" x2=\"-12.0\" y1=\"-6.0\" y2=\"6.0\"/><circle cx=\"180.0\" cy=\"0\" r=\"0.0\"/><line x1=\"180.0\" x2=\"180.0\" y1=\"-6.0\" y2=\"6.0\"/><text class=\"shadow\" x=\"84.0\" y=\"0\">New</text><text x=\"84.0\" y=\"0\">New</text></g><g class=\"shooting right label\" transform=\"translate(168,20)\"><g class=\"shift\"><text x=\"0\" y=\"0\">3f</text></g></g><line class=\"shooting fw connection v-connector\" x1=\"156.0\" x2=\"156.0\" y1=\"0.0\" y2=\"20.0\"/><g class=\"shooting fw block\"><desc>{}</desc><rect height=\"12.0\" width=\"24.0\" x=\"156.0\" y=\"14.0\"/><circle cx=\"156.0\" cy=\"20\" r=\"0.0\"/><text x=\"168.0\" y=\"20\">-31</text></g><g class=\"hop left label\" transform=\"translate(0,40)\"><g class=\"shift\"><text x=\"0\" y=\"0\">3h</text></g></g><g class=\"hop overlap whiteback h-region\"><line x1=\"-12.0\" x2=\"180.0\" y1=\"40\" y2=\"40\"/><circle cx=\"-12.0\" cy=\"40\" r=\"0.0\"/><line x1=\"-12.0\" x2=\"-12.0\" y1=\"34.0\" y2=\"46.0\"/><circle cx=\"180.0\" cy=\"40\" r=\"0.0\"/><line x1=\"180.0\" x2=\"180.0\" y1=\"34.0\" y2=\"46.0\"/><text class=\"shadow\" x=\"84.0\" y=\"40\">EnsembleHop</text><text x=\"84.0\" y=\"40\">EnsembleHop</text></g><g class=\"shooting right label\" transform=\"translate(168,60)\"><g class=\"shift\"><text x=\"0\" y=\"0\">5f</text></g></g><line class=\"shooting fw connection v-connector\" x1=\"108.0\" x2=\"108.0\" y1=\"0.0\" y2=\"60.0\"/><g class=\"shooting fw block\"><desc>{}</desc><rect height=\"12.0\" width=\"24.0\" x=\"108.0\" y=\"54.0\"/><circle cx=\"108.0\" cy=\"60\" r=\"0.0\"/><circle cx=\"132.0\" cy=\"60\" r=\"0.0\"/><text x=\"120.0\" y=\"60\">-23</text></g><g class=\"shooting fw block\"><desc>{}</desc><rect height=\"12.0\" width=\"24.0\" x=\"132.0\" y=\"54.0\"/><circle cx=\"132.0\" cy=\"60\" r=\"0.0\"/><circle cx=\"156.0\" cy=\"60\" r=\"0.0\"/><text x=\"144.0\" y=\"60\">-22</text></g><g class=\"shooting fw block\"><desc>{}</desc><rect height=\"12.0\" width=\"24.0\" x=\"156.0\" y=\"54.0\"/><circle cx=\"156.0\" cy=\"60\" r=\"0.0\"/><text x=\"168.0\" y=\"60\">-32</text></g><g class=\"hop left label\" transform=\"translate(0,80)\"><g class=\"shift\"><text x=\"0\" y=\"0\">5h</text></g></g><g class=\"hop overlap whiteback h-region\"><line x1=\"-12.0\" x2=\"180.0\" y1=\"80\" y2=\"80\"/><circle cx=\"-12.0\" cy=\"80\" r=\"0.0\"/><line x1=\"-12.0\" x2=\"-12.0\" y1=\"74.0\" y2=\"86.0\"/><circle cx=\"180.0\" cy=\"80\" r=\"0.0\"/><line x1=\"180.0\" x2=\"180.0\" y1=\"74.0\" y2=\"86.0\"/><text class=\"shadow\" x=\"84.0\" y=\"80\">EnsembleHop</text><text x=\"84.0\" y=\"80\">EnsembleHop</text></g><g class=\"shooting left label\" transform=\"translate(0,100)\"><g class=\"shift\"><text x=\"0\" y=\"0\">6b</text></g></g><line class=\"shooting bw connection v-connector\" x1=\"36.0\" x2=\"36.0\" y1=\"0.0\" y2=\"100.0\"/><g class=\"shooting bw block\"><desc>{}</desc><rect height=\"12.0\" width=\"24.0\" x=\"-12.0\" y=\"94.0\"/><circle cx=\"12.0\" cy=\"100\" r=\"0.0\"/><text x=\"0.0\" y=\"100\">-35</text></g><g class=\"shooting bw block\"><desc>{}</desc><rect height=\"12.0\" width=\"24.0\" x=\"12.0\" y=\"94.0\"/><circle cx=\"12.0\" cy=\"100\" r=\"0.0\"/><circle cx=\"36.0\" cy=\"100\" r=\"0.0\"/><text x=\"24.0\" y=\"100\">-25</text></g><g class=\"hop left label\" transform=\"translate(0,120)\"><g class=\"shift\"><text x=\"0\" y=\"0\">6h</text></g></g><g class=\"hop overlap whiteback h-region\"><line x1=\"-12.0\" x2=\"180.0\" y1=\"120\" y2=\"120\"/><circle cx=\"-12.0\" cy=\"120\" r=\"0.0\"/><line x1=\"-12.0\" x2=\"-12.0\" y1=\"114.0\" y2=\"126.0\"/><circle cx=\"180.0\" cy=\"120\" r=\"0.0\"/><line x1=\"180.0\" x2=\"180.0\" y1=\"114.0\" y2=\"126.0\"/><text class=\"shadow\" x=\"84.0\" y=\"120\">EnsembleHop</text><text x=\"84.0\" y=\"120\">EnsembleHop</text></g><g class=\"shooting left label\" transform=\"translate(-24,140)\"><g class=\"shift\"><text x=\"0\" y=\"0\">7b</text></g></g><line class=\"shooting bw connection v-connector\" x1=\"132.0\" x2=\"132.0\" y1=\"60.0\" y2=\"140.0\"/><g class=\"shooting bw block\"><desc>{}</desc><rect height=\"12.0\" width=\"24.0\" x=\"-36.0\" y=\"134.0\"/><circle cx=\"-12.0\" cy=\"140\" r=\"0.0\"/><text x=\"-24.0\" y=\"140\">-31</text></g><g class=\"shooting bw block\"><desc>{}</desc><rect height=\"12.0\" width=\"24.0\" x=\"-12.0\" y=\"134.0\"/><circle cx=\"-12.0\" cy=\"140\" r=\"0.0\"/><circle cx=\"12.0\" cy=\"140\" r=\"0.0\"/><text x=\"0.0\" y=\"140\">-25</text></g><g class=\"shooting bw block\"><desc>{}</desc><rect height=\"12.0\" width=\"24.0\" x=\"12.0\" y=\"134.0\"/><circle cx=\"12.0\" cy=\"140\" r=\"0.0\"/><circle cx=\"36.0\" cy=\"140\" r=\"0.0\"/><text x=\"24.0\" y=\"140\">-19</text></g><g class=\"shooting bw block\"><desc>{}</desc><rect height=\"12.0\" width=\"24.0\" x=\"36.0\" y=\"134.0\"/><circle cx=\"36.0\" cy=\"140\" r=\"0.0\"/><circle cx=\"60.0\" cy=\"140\" r=\"0.0\"/><text x=\"48.0\" y=\"140\">-17</text></g><g class=\"shooting bw block\"><desc>{}</desc><rect height=\"12.0\" width=\"24.0\" x=\"60.0\" y=\"134.0\"/><circle cx=\"60.0\" cy=\"140\" r=\"0.0\"/><circle cx=\"84.0\" cy=\"140\" r=\"0.0\"/><text x=\"72.0\" y=\"140\">-20</text></g><g class=\"shooting bw block\"><desc>{}</desc><rect height=\"12.0\" width=\"24.0\" x=\"84.0\" y=\"134.0\"/><circle cx=\"84.0\" cy=\"140\" r=\"0.0\"/><circle cx=\"108.0\" cy=\"140\" r=\"0.0\"/><text x=\"96.0\" y=\"140\">-14</text></g><g class=\"shooting bw block\"><desc>{}</desc><rect height=\"12.0\" width=\"24.0\" x=\"108.0\" y=\"134.0\"/><circle cx=\"108.0\" cy=\"140\" r=\"0.0\"/><circle cx=\"132.0\" cy=\"140\" r=\"0.0\"/><text x=\"120.0\" y=\"140\">-21</text></g><g class=\"hop left label\" transform=\"translate(-24,160)\"><g class=\"shift\"><text x=\"0\" y=\"0\">7h</text></g></g><g class=\"hop overlap whiteback h-region\"><line x1=\"-36.0\" x2=\"180.0\" y1=\"160\" y2=\"160\"/><circle cx=\"-36.0\" cy=\"160\" r=\"0.0\"/><line x1=\"-36.0\" x2=\"-36.0\" y1=\"154.0\" y2=\"166.0\"/><circle cx=\"180.0\" cy=\"160\" r=\"0.0\"/><line x1=\"180.0\" x2=\"180.0\" y1=\"154.0\" y2=\"166.0\"/><text class=\"shadow\" x=\"72.0\" y=\"160\">EnsembleHop</text><text x=\"72.0\" y=\"160\">EnsembleHop</text></g><g class=\"shooting right label\" transform=\"translate(168,180)\"><g class=\"shift\"><text x=\"0\" y=\"0\">8f</text></g></g><line class=\"shooting fw connection v-connector\" x1=\"60.0\" x2=\"60.0\" y1=\"140.0\" y2=\"180.0\"/><g class=\"shooting fw block\"><desc>{}</desc><rect height=\"12.0\" width=\"24.0\" x=\"60.0\" y=\"174.0\"/><circle cx=\"60.0\" cy=\"180\" r=\"0.0\"/><circle cx=\"84.0\" cy=\"180\" r=\"0.0\"/><text x=\"72.0\" y=\"180\">-19</text></g><g class=\"shooting fw block\"><desc>{}</desc><rect height=\"12.0\" width=\"24.0\" x=\"84.0\" y=\"174.0\"/><circle cx=\"84.0\" cy=\"180\" r=\"0.0\"/><circle cx=\"108.0\" cy=\"180\" r=\"0.0\"/><text x=\"96.0\" y=\"180\">-14</text></g><g class=\"shooting fw block\"><desc>{}</desc><rect height=\"12.0\" width=\"24.0\" x=\"108.0\" y=\"174.0\"/><circle cx=\"108.0\" cy=\"180\" r=\"0.0\"/><circle cx=\"132.0\" cy=\"180\" r=\"0.0\"/><text x=\"120.0\" y=\"180\">-24</text></g><g class=\"shooting fw block\"><desc>{}</desc><rect height=\"12.0\" width=\"24.0\" x=\"132.0\" y=\"174.0\"/><circle cx=\"132.0\" cy=\"180\" r=\"0.0\"/><circle cx=\"156.0\" cy=\"180\" r=\"0.0\"/><text x=\"144.0\" y=\"180\">-22</text></g><g class=\"shooting fw block\"><desc>{}</desc><rect height=\"12.0\" width=\"24.0\" x=\"156.0\" y=\"174.0\"/><circle cx=\"156.0\" cy=\"180\" r=\"0.0\"/><text x=\"168.0\" y=\"180\">-35</text></g><g class=\"shooting left label\" transform=\"translate(-216,200)\"><g class=\"shift\"><text x=\"0\" y=\"0\">9b</text></g></g><line class=\"shooting bw connection v-connector\" x1=\"84.0\" x2=\"84.0\" y1=\"180.0\" y2=\"200.0\"/><g class=\"shooting bw block\"><desc>{}</desc><rect height=\"12.0\" width=\"24.0\" x=\"-228.0\" y=\"194.0\"/><circle cx=\"-204.0\" cy=\"200\" r=\"0.0\"/><text x=\"-216.0\" y=\"200\">-32</text></g><g class=\"shooting bw block\"><desc>{}</desc><rect height=\"12.0\" width=\"24.0\" x=\"-204.0\" y=\"194.0\"/><circle cx=\"-204.0\" cy=\"200\" r=\"0.0\"/><circle cx=\"-180.0\" cy=\"200\" r=\"0.0\"/><text x=\"-192.0\" y=\"200\">-24</text></g><g class=\"shooting bw block\"><desc>{}</desc><rect height=\"12.0\" width=\"24.0\" x=\"-180.0\" y=\"194.0\"/><circle cx=\"-180.0\" cy=\"200\" r=\"0.0\"/><circle cx=\"-156.0\" cy=\"200\" r=\"0.0\"/><text x=\"-168.0\" y=\"200\">-17</text></g><g class=\"shooting bw block\"><desc>{}</desc><rect height=\"12.0\" width=\"24.0\" x=\"-156.0\" y=\"194.0\"/><circle cx=\"-156.0\" cy=\"200\" r=\"0.0\"/><circle cx=\"-132.0\" cy=\"200\" r=\"0.0\"/><text x=\"-144.0\" y=\"200\">-21</text></g><g class=\"shooting bw block\"><desc>{}</desc><rect height=\"12.0\" width=\"24.0\" x=\"-132.0\" y=\"194.0\"/><circle cx=\"-132.0\" cy=\"200\" r=\"0.0\"/><circle cx=\"-108.0\" cy=\"200\" r=\"0.0\"/><text x=\"-120.0\" y=\"200\">-16</text></g><g class=\"shooting bw block\"><desc>{}</desc><rect height=\"12.0\" width=\"24.0\" x=\"-108.0\" y=\"194.0\"/><circle cx=\"-108.0\" cy=\"200\" r=\"0.0\"/><circle cx=\"-84.0\" cy=\"200\" r=\"0.0\"/><text x=\"-96.0\" y=\"200\">-20</text></g><g class=\"shooting bw block\"><desc>{}</desc><rect height=\"12.0\" width=\"24.0\" x=\"-84.0\" y=\"194.0\"/><circle cx=\"-84.0\" cy=\"200\" r=\"0.0\"/><circle cx=\"-60.0\" cy=\"200\" r=\"0.0\"/><text x=\"-72.0\" y=\"200\">-25</text></g><g class=\"shooting bw block\"><desc>{}</desc><rect height=\"12.0\" width=\"24.0\" x=\"-60.0\" y=\"194.0\"/><circle cx=\"-60.0\" cy=\"200\" r=\"0.0\"/><circle cx=\"-36.0\" cy=\"200\" r=\"0.0\"/><text x=\"-48.0\" y=\"200\">-17</text></g><g class=\"shooting bw block\"><desc>{}</desc><rect height=\"12.0\" width=\"24.0\" x=\"-36.0\" y=\"194.0\"/><circle cx=\"-36.0\" cy=\"200\" r=\"0.0\"/><circle cx=\"-12.0\" cy=\"200\" r=\"0.0\"/><text x=\"-24.0\" y=\"200\">-24</text></g><g class=\"shooting bw block\"><desc>{}</desc><rect height=\"12.0\" width=\"24.0\" x=\"-12.0\" y=\"194.0\"/><circle cx=\"-12.0\" cy=\"200\" r=\"0.0\"/><circle cx=\"12.0\" cy=\"200\" r=\"0.0\"/><text x=\"0.0\" y=\"200\">-16</text></g><g class=\"shooting bw block\"><desc>{}</desc><rect height=\"12.0\" width=\"24.0\" x=\"12.0\" y=\"194.0\"/><circle cx=\"12.0\" cy=\"200\" r=\"0.0\"/><circle cx=\"36.0\" cy=\"200\" r=\"0.0\"/><text x=\"24.0\" y=\"200\">-16</text></g><g class=\"shooting bw block\"><desc>{}</desc><rect height=\"12.0\" width=\"24.0\" x=\"36.0\" y=\"194.0\"/><circle cx=\"36.0\" cy=\"200\" r=\"0.0\"/><circle cx=\"60.0\" cy=\"200\" r=\"0.0\"/><text x=\"48.0\" y=\"200\">-17</text></g><g class=\"shooting bw block\"><desc>{}</desc><rect height=\"12.0\" width=\"24.0\" x=\"60.0\" y=\"194.0\"/><circle cx=\"60.0\" cy=\"200\" r=\"0.0\"/><circle cx=\"84.0\" cy=\"200\" r=\"0.0\"/><text x=\"72.0\" y=\"200\">-18</text></g><g class=\"shooting left label\" transform=\"translate(-216,220)\"><g class=\"shift\"><text x=\"0\" y=\"0\">10b</text></g></g><line class=\"shooting bw connection v-connector\" x1=\"108.0\" x2=\"108.0\" y1=\"180.0\" y2=\"220.0\"/><g class=\"shooting bw block\"><desc>{}</desc><rect height=\"12.0\" width=\"24.0\" x=\"-228.0\" y=\"214.0\"/><circle cx=\"-204.0\" cy=\"220\" r=\"0.0\"/><text x=\"-216.0\" y=\"220\">-35</text></g><g class=\"shooting bw block\"><desc>{}</desc><rect height=\"12.0\" width=\"24.0\" x=\"-204.0\" y=\"214.0\"/><circle cx=\"-204.0\" cy=\"220\" r=\"0.0\"/><circle cx=\"-180.0\" cy=\"220\" r=\"0.0\"/><text x=\"-192.0\" y=\"220\">-25</text></g><g class=\"shooting bw block\"><desc>{}</desc><rect height=\"12.0\" width=\"24.0\" x=\"-180.0\" y=\"214.0\"/><circle cx=\"-180.0\" cy=\"220\" r=\"0.0\"/><circle cx=\"-156.0\" cy=\"220\" r=\"0.0\"/><text x=\"-168.0\" y=\"220\">-21</text></g><g class=\"shooting bw block\"><desc>{}</desc><rect height=\"12.0\" width=\"24.0\" x=\"-156.0\" y=\"214.0\"/><circle cx=\"-156.0\" cy=\"220\" r=\"0.0\"/><circle cx=\"-132.0\" cy=\"220\" r=\"0.0\"/><text x=\"-144.0\" y=\"220\">-26</text></g><g class=\"shooting bw block\"><desc>{}</desc><rect height=\"12.0\" width=\"24.0\" x=\"-132.0\" y=\"214.0\"/><circle cx=\"-132.0\" cy=\"220\" r=\"0.0\"/><circle cx=\"-108.0\" cy=\"220\" r=\"0.0\"/><text x=\"-120.0\" y=\"220\">-21</text></g><g class=\"shooting bw block\"><desc>{}</desc><rect height=\"12.0\" width=\"24.0\" x=\"-108.0\" y=\"214.0\"/><circle cx=\"-108.0\" cy=\"220\" r=\"0.0\"/><circle cx=\"-84.0\" cy=\"220\" r=\"0.0\"/><text x=\"-96.0\" y=\"220\">-24</text></g><g class=\"shooting bw block\"><desc>{}</desc><rect height=\"12.0\" width=\"24.0\" x=\"-84.0\" y=\"214.0\"/><circle cx=\"-84.0\" cy=\"220\" r=\"0.0\"/><circle cx=\"-60.0\" cy=\"220\" r=\"0.0\"/><text x=\"-72.0\" y=\"220\">-29</text></g><g class=\"shooting bw block\"><desc>{}</desc><rect height=\"12.0\" width=\"24.0\" x=\"-60.0\" y=\"214.0\"/><circle cx=\"-60.0\" cy=\"220\" r=\"0.0\"/><circle cx=\"-36.0\" cy=\"220\" r=\"0.0\"/><text x=\"-48.0\" y=\"220\">-24</text></g><g class=\"shooting bw block\"><desc>{}</desc><rect height=\"12.0\" width=\"24.0\" x=\"-36.0\" y=\"214.0\"/><circle cx=\"-36.0\" cy=\"220\" r=\"0.0\"/><circle cx=\"-12.0\" cy=\"220\" r=\"0.0\"/><text x=\"-24.0\" y=\"220\">-22</text></g><g class=\"shooting bw block\"><desc>{}</desc><rect height=\"12.0\" width=\"24.0\" x=\"-12.0\" y=\"214.0\"/><circle cx=\"-12.0\" cy=\"220\" r=\"0.0\"/><circle cx=\"12.0\" cy=\"220\" r=\"0.0\"/><text x=\"0.0\" y=\"220\">-20</text></g><g class=\"shooting bw block\"><desc>{}</desc><rect height=\"12.0\" width=\"24.0\" x=\"12.0\" y=\"214.0\"/><circle cx=\"12.0\" cy=\"220\" r=\"0.0\"/><circle cx=\"36.0\" cy=\"220\" r=\"0.0\"/><text x=\"24.0\" y=\"220\">-17</text></g><g class=\"shooting bw block\"><desc>{}</desc><rect height=\"12.0\" width=\"24.0\" x=\"36.0\" y=\"214.0\"/><circle cx=\"36.0\" cy=\"220\" r=\"0.0\"/><circle cx=\"60.0\" cy=\"220\" r=\"0.0\"/><text x=\"48.0\" y=\"220\">-15</text></g><g class=\"shooting bw block\"><desc>{}</desc><rect height=\"12.0\" width=\"24.0\" x=\"60.0\" y=\"214.0\"/><circle cx=\"60.0\" cy=\"220\" r=\"0.0\"/><circle cx=\"84.0\" cy=\"220\" r=\"0.0\"/><text x=\"72.0\" y=\"220\">-18</text></g><g class=\"shooting bw block\"><desc>{}</desc><rect height=\"12.0\" width=\"24.0\" x=\"84.0\" y=\"214.0\"/><circle cx=\"84.0\" cy=\"220\" r=\"0.0\"/><circle cx=\"108.0\" cy=\"220\" r=\"0.0\"/><text x=\"96.0\" y=\"220\">-13</text></g><rect class=\"shade\" fill=\"orange\" height=\"2.0\" width=\"24\" x=\"-12.0\" y=\"7.0\"/><rect class=\"shade\" fill=\"orange\" height=\"2.0\" width=\"24\" x=\"156.0\" y=\"7.0\"/><rect class=\"shade\" fill=\"orange\" height=\"2.0\" width=\"24\" x=\"156.0\" y=\"27.0\"/><rect class=\"shade\" fill=\"orange\" height=\"2.0\" width=\"24\" x=\"156.0\" y=\"67.0\"/><rect class=\"shade\" fill=\"orange\" height=\"2.0\" width=\"24\" x=\"-12.0\" y=\"107.0\"/><rect class=\"shade\" fill=\"orange\" height=\"2.0\" width=\"24\" x=\"-36.0\" y=\"147.0\"/><rect class=\"shade\" fill=\"orange\" height=\"2.0\" width=\"24\" x=\"156.0\" y=\"187.0\"/><rect class=\"shade\" fill=\"orange\" height=\"2.0\" width=\"24\" x=\"-228.0\" y=\"207.0\"/><rect class=\"shade\" fill=\"orange\" height=\"2.0\" width=\"24\" x=\"-228.0\" y=\"227.0\"/></g></g></svg>"
      ],
      "text/plain": [
       "<IPython.core.display.SVG object>"
      ]
     },
     "execution_count": 43,
     "metadata": {},
     "output_type": "execute_result"
    }
   ],
   "source": [
    "history.options['css']['scale_x'] = 24\n",
    "history.options['css']['scale_y'] = 20\n",
    "SVG(history.svg())"
   ]
  },
  {
   "cell_type": "markdown",
   "metadata": {},
   "source": [
    "### Phi/Psi Plots"
   ]
  },
  {
   "cell_type": "code",
   "execution_count": 44,
   "metadata": {
    "collapsed": false
   },
   "outputs": [],
   "source": [
    "# Imports for plotting\n",
    "%matplotlib inline\n",
    "import matplotlib\n",
    "import matplotlib.pyplot as plt\n",
    "import matplotlib.pylab as pylab\n",
    "from matplotlib.legend_handler import HandlerLine2D"
   ]
  },
  {
   "cell_type": "markdown",
   "metadata": {},
   "source": [
    "Make sure that all phi/psi values have been computed!"
   ]
  },
  {
   "cell_type": "code",
   "execution_count": 45,
   "metadata": {
    "collapsed": false
   },
   "outputs": [],
   "source": [
    "psi = storage.cvs['psi']\n",
    "phi = storage.cvs['phi']\n",
    "opA = storage.cvs['StateA']"
   ]
  },
  {
   "cell_type": "code",
   "execution_count": 46,
   "metadata": {
    "collapsed": false
   },
   "outputs": [
    {
     "data": {
      "image/png": "[encoded data removed]",
      "text/plain": [
       "<matplotlib.figure.Figure at 0x125a431d0>"
      ]
     },
     "metadata": {},
     "output_type": "display_data"
    }
   ],
   "source": [
    "plt.figure(figsize=(8, 8))\n",
    "\n",
    "for traj in storage.trajectories[1:]:\n",
    "    phi_angles = np.array(phi(traj)).flatten() / deg\n",
    "    psi_angles = np.array(psi(traj)).flatten() / deg\n",
    "    plt.plot(phi_angles, psi_angles, 'ro', linewidth=1);\n",
    "    \n",
    "plt.xlim(-180, 180);\n",
    "plt.ylim(-180, 180);"
   ]
  },
  {
   "cell_type": "code",
   "execution_count": 47,
   "metadata": {
    "collapsed": false
   },
   "outputs": [
    {
     "data": {
      "image/png": "[encoded data removed]",
      "text/plain": [
       "<matplotlib.figure.Figure at 0x128b18250>"
      ]
     },
     "metadata": {},
     "output_type": "display_data"
    }
   ],
   "source": [
    "plt.figure(figsize=(8, 8))\n",
    "\n",
    "\n",
    "for traj in storage.trajectories[1:]:\n",
    "    phi_angles = np.array(phi(traj)).flatten() / deg\n",
    "    psi_angles = np.array(psi(traj)).flatten() / deg\n",
    "    plt.plot(phi_angles, psi_angles, 'k-', linewidth=1);\n",
    "    for idx, snapshot in enumerate(traj):\n",
    "        if opA(snapshot):\n",
    "            plt.plot(phi_angles[idx], psi_angles[idx], 'bo', linewidth=1);\n",
    "        \n",
    "plt.xlim(-180, 180);\n",
    "plt.ylim(-180, 180);"
   ]
  },
  {
   "cell_type": "code",
   "execution_count": 48,
   "metadata": {
    "collapsed": true
   },
   "outputs": [],
   "source": [
    "#! skip\n",
    "storage.close()"
   ]
  },
  {
   "cell_type": "code",
   "execution_count": null,
   "metadata": {
    "collapsed": true
   },
   "outputs": [],
   "source": []
  }
 ],
 "metadata": {
  "kernelspec": {
   "display_name": "Python 2",
   "language": "python",
   "name": "python2"
  },
  "language_info": {
   "codemirror_mode": {
    "name": "ipython",
    "version": 2
   },
   "file_extension": ".py",
   "mimetype": "text/x-python",
   "name": "python",
   "nbconvert_exporter": "python",
   "pygments_lexer": "ipython2",
   "version": "2.7.11"
  }
 },
 "nbformat": 4,
 "nbformat_minor": 0
}

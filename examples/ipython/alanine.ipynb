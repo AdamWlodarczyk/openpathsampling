{
 "cells": [
  {
   "cell_type": "markdown",
   "metadata": {},
   "source": [
    "# OPENTIS\n",
    "## An Example with Alanine"
   ]
  },
  {
   "cell_type": "markdown",
   "metadata": {},
   "source": [
    "Import Modules"
   ]
  },
  {
   "cell_type": "code",
   "execution_count": 1,
   "metadata": {
    "collapsed": false
   },
   "outputs": [],
   "source": [
    "import numpy as np\n",
    "import mdtraj as md\n",
    "import pandas as pd\n",
    "import time\n",
    "import sys, os\n",
    " \n",
    "# in principle, all of these imports should be simplified once this is a package\n",
    "from openpathsampling.collectivevariable import CV_Function, CV_Volume, CV_MD_Function\n",
    "from openpathsampling.snapshot import Snapshot\n",
    "from openpathsampling.volume import CVRangeVolumePeriodic, VolumeFactory as vf\n",
    "from openpathsampling.pathmover import PathMoverFactory as mf\n",
    "from openpathsampling.ensemble import EnsembleFactory as ef\n",
    "from openpathsampling.ensemble import (LengthEnsemble, SequentialEnsemble, AllOutXEnsemble,\n",
    "                      AllInXEnsemble, PartInXEnsemble, PartOutXEnsemble)\n",
    "from openpathsampling.storage import Storage\n",
    "from openpathsampling.trajectory import Trajectory\n",
    "from openpathsampling.pathsimulator import Bootstrapping\n",
    "from openpathsampling.shooting import UniformSelector\n",
    "from openpathsampling.pathmover import PathMover, SampleGeneratingMover\n",
    "import simtk.unit as u\n",
    "\n",
    "from openpathsampling.openmm_engine import OpenMMEngine\n",
    "\n",
    "from openpathsampling.storage import Storage\n",
    "from openpathsampling.visualize import PathTreeBuilder\n",
    "from IPython.display import SVG\n",
    "\n",
    "import openpathsampling as paths"
   ]
  },
  {
   "cell_type": "code",
   "execution_count": 2,
   "metadata": {
    "collapsed": true
   },
   "outputs": [],
   "source": [
    "paths.base.StorableObject.observe_objects = True"
   ]
  },
  {
   "cell_type": "markdown",
   "metadata": {},
   "source": [
    "Radians to Degree conversion"
   ]
  },
  {
   "cell_type": "code",
   "execution_count": 3,
   "metadata": {
    "collapsed": true
   },
   "outputs": [],
   "source": [
    "degrees = 180/3.14159 # psi reports in radians; I think in degrees"
   ]
  },
  {
   "cell_type": "markdown",
   "metadata": {},
   "source": [
    "Create an AlanineOpenMMSimulator for demonstration purposes"
   ]
  },
  {
   "cell_type": "markdown",
   "metadata": {},
   "source": [
    "### Set simulation options and create a simulator object"
   ]
  },
  {
   "cell_type": "code",
   "execution_count": 4,
   "metadata": {
    "collapsed": false
   },
   "outputs": [],
   "source": [
    "options = {\n",
    "            'temperature' : 300.0 * u.kelvin,\n",
    "            'collision_rate' : 1.0 / u.picoseconds,\n",
    "            'timestep' : 2.0 * u.femtoseconds,\n",
    "            'nsteps_per_frame' : 10,\n",
    "            'n_frames_max' : 5000,\n",
    "            'start_time' : time.time(),\n",
    "            'fn_initial_pdb' : \"../data/Alanine_solvated.pdb\",\n",
    "            'platform' : 'fastest',\n",
    "            'solute_indices' : range(22),\n",
    "            'forcefield_solute' : 'amber96.xml',\n",
    "            'forcefield_solvent' : 'tip3p.xml'\n",
    " }"
   ]
  },
  {
   "cell_type": "code",
   "execution_count": 5,
   "metadata": {
    "collapsed": false
   },
   "outputs": [],
   "source": [
    "engine = OpenMMEngine.auto(\n",
    "                filename=\"trajectory.nc\",\n",
    "                template=\"../data/Alanine_solvated.pdb\",\n",
    "                options=options,\n",
    "                mode='create'\n",
    "                )"
   ]
  },
  {
   "cell_type": "markdown",
   "metadata": {},
   "source": [
    "And save the storage in a separate variable for convenience"
   ]
  },
  {
   "cell_type": "code",
   "execution_count": 6,
   "metadata": {
    "collapsed": false
   },
   "outputs": [],
   "source": [
    "storage = engine.storage\n",
    "paths.EngineGeneratingMover.engine = engine"
   ]
  },
  {
   "cell_type": "code",
   "execution_count": 7,
   "metadata": {
    "collapsed": false
   },
   "outputs": [],
   "source": [
    "storage.set_caching_mode('lowmemory')"
   ]
  },
  {
   "cell_type": "markdown",
   "metadata": {},
   "source": [
    "Equilibrate"
   ]
  },
  {
   "cell_type": "code",
   "execution_count": 8,
   "metadata": {
    "collapsed": false
   },
   "outputs": [],
   "source": [
    "engine.current_snapshot = engine.template\n",
    "engine.equilibrate(5)\n",
    "engine.initialized = True"
   ]
  },
  {
   "cell_type": "markdown",
   "metadata": {},
   "source": [
    "Save equilibrated snapshot with index 0"
   ]
  },
  {
   "cell_type": "code",
   "execution_count": 9,
   "metadata": {
    "collapsed": false
   },
   "outputs": [],
   "source": [
    "storage.save(engine.current_snapshot);"
   ]
  },
  {
   "cell_type": "code",
   "execution_count": 10,
   "metadata": {
    "collapsed": false
   },
   "outputs": [
    {
     "data": {
      "text/plain": [
       "9"
      ]
     },
     "execution_count": 10,
     "metadata": {},
     "output_type": "execute_result"
    }
   ],
   "source": [
    "len(paths.base.StorableObject._weak_cache)"
   ]
  },
  {
   "cell_type": "code",
   "execution_count": 11,
   "metadata": {
    "collapsed": false
   },
   "outputs": [
    {
     "data": {
      "text/plain": [
       "{'Configuration': 2,\n",
       " 'DynamicsEngine': 1,\n",
       " 'Ensemble': 1,\n",
       " 'Momentum': 2,\n",
       " 'Snapshot': 2,\n",
       " 'Topology': 1}"
      ]
     },
     "execution_count": 11,
     "metadata": {},
     "output_type": "execute_result"
    }
   ],
   "source": [
    "paths.base.StorableObject.count_weaks()"
   ]
  },
  {
   "cell_type": "code",
   "execution_count": 12,
   "metadata": {
    "collapsed": false
   },
   "outputs": [
    {
     "data": {
      "text/plain": [
       "<dictproxy {'__call__': <function openpathsampling.sample.__call__>,\n",
       " '__doc__': '\\n    A Sample represents a given \"draw\" from its ensemble, and is the return\\n    object from a PathMover. It and contains all information about the move,\\n    initial trajectories, new trajectories (both as references). \\n    \\n    Since each Sample is a single representative of a single ensemble, each\\n    Sample consists of one replica ID, one trajectory, and one ensemble.\\n    This means that movers which generate more than one \"draw\" (often from\\n    different ensembles, e.g. replica exchange) will generate more than one\\n    Sample object.\\n\\n    Attributes\\n    ----------\\n    replica : integer\\n        The replica ID to which this Sample applies\\n    trajectory : Trajectory\\n        The trajectory (path) for this sample\\n    ensemble : Ensemble\\n        The Ensemble this sample is drawn from\\n    details : MoveDetails\\n        Object \\n    step : integer\\n        the Monte Carlo step number associated with this Sample\\n    ',\n",
       " '__getitem__': <function openpathsampling.sample.__getitem__>,\n",
       " '__getslice__': <function openpathsampling.sample.__getslice__>,\n",
       " '__init__': <function openpathsampling.sample.__init__>,\n",
       " '__iter__': <function openpathsampling.sample.__iter__>,\n",
       " '__len__': <function openpathsampling.sample.__len__>,\n",
       " '__module__': 'openpathsampling.sample',\n",
       " '__repr__': <function openpathsampling.sample.__repr__>,\n",
       " '__reversed__': <function openpathsampling.sample.__reversed__>,\n",
       " '__str__': <function openpathsampling.sample.__str__>,\n",
       " 'acceptance': <property at 0x1093c9050>,\n",
       " 'copy_reset': <function openpathsampling.sample.copy_reset>,\n",
       " 'details': <openpathsampling.base.DelayedLoader at 0x1093c1b90>,\n",
       " 'initial_sample': <staticmethod at 0x1093b6d38>,\n",
       " 'mover': <openpathsampling.base.DelayedLoader at 0x1093c1bd0>,\n",
       " 'parent': <openpathsampling.base.DelayedLoader at 0x1093c1b50>,\n",
       " 'valid': <property at 0x1093b8fc8>}>"
      ]
     },
     "execution_count": 12,
     "metadata": {},
     "output_type": "execute_result"
    }
   ],
   "source": [
    "paths.Sample.__dict__"
   ]
  },
  {
   "cell_type": "markdown",
   "metadata": {},
   "source": [
    "### Order Parameters"
   ]
  },
  {
   "cell_type": "markdown",
   "metadata": {},
   "source": [
    "this generates an order parameter (callable) object named psi (so if we call `psi(trajectory)` we get a list of the values of psi for each frame in the trajectory). This particular order parameter uses mdtraj's compute_dihedrals function, with the atoms in psi_atoms"
   ]
  },
  {
   "cell_type": "code",
   "execution_count": 9,
   "metadata": {
    "collapsed": false
   },
   "outputs": [],
   "source": [
    "psi_atoms = [6,8,14,16]\n",
    "psi = CV_MD_Function(\"psi\", md.compute_dihedrals,\n",
    "                  indices=[psi_atoms])\n",
    "\n",
    "phi_atoms = [4,6,8,14]\n",
    "phi = CV_MD_Function(\"phi\", md.compute_dihedrals,\n",
    "                  indices=[phi_atoms])"
   ]
  },
  {
   "cell_type": "code",
   "execution_count": 10,
   "metadata": {
    "collapsed": false
   },
   "outputs": [],
   "source": [
    "storage.save([psi, phi]);"
   ]
  },
  {
   "cell_type": "markdown",
   "metadata": {},
   "source": [
    "### Volumes"
   ]
  },
  {
   "cell_type": "markdown",
   "metadata": {},
   "source": [
    "This creates two states using a one-dimensional order parameter (called _Lambda_ in TIS terminology). A snapshot is in the State as long as the order parameter is with specific bounds. "
   ]
  },
  {
   "cell_type": "code",
   "execution_count": 11,
   "metadata": {
    "collapsed": false
   },
   "outputs": [],
   "source": [
    "stateA = CVRangeVolumePeriodic(\n",
    "    collectivevariable=psi, \n",
    "    lambda_min=-120.0/degrees, \n",
    "    lambda_max=-30.0/degrees, \n",
    "    period_min=-180.0/degrees, \n",
    "    period_max=+180.0/degrees\n",
    ")\n",
    "stateB = CVRangeVolumePeriodic(psi, 100/degrees, 180/degrees, -180.0/degrees, +180.0/degrees)"
   ]
  },
  {
   "cell_type": "code",
   "execution_count": 2,
   "metadata": {
    "collapsed": false
   },
   "outputs": [
    {
     "name": "stderr",
     "output_type": "stream",
     "text": [
      "ERROR: No traceback has been produced, nothing to debug.\n"
     ]
    }
   ],
   "source": [
    "%debug"
   ]
  },
  {
   "cell_type": "code",
   "execution_count": null,
   "metadata": {
    "collapsed": false
   },
   "outputs": [
    {
     "ename": "ZeroDivisionError",
     "evalue": "integer division or modulo by zero",
     "output_type": "error",
     "traceback": [
      "\u001b[0;31m---------------------------------------------------------------------------\u001b[0m",
      "\u001b[0;31mZeroDivisionError\u001b[0m                         Traceback (most recent call last)",
      "\u001b[0;32m<ipython-input-3-05c9758a9c21>\u001b[0m in \u001b[0;36m<module>\u001b[0;34m()\u001b[0m\n\u001b[0;32m----> 1\u001b[0;31m \u001b[0;36m1\u001b[0m\u001b[0;34m/\u001b[0m\u001b[0;36m0\u001b[0m\u001b[0;34m\u001b[0m\u001b[0m\n\u001b[0m",
      "\u001b[0;31mZeroDivisionError\u001b[0m: integer division or modulo by zero"
     ]
    },
    {
     "name": "stdout",
     "output_type": "stream",
     "text": [
      "> \u001b[0;32m<ipython-input-3-05c9758a9c21>\u001b[0m(1)\u001b[0;36m<module>\u001b[0;34m()\u001b[0m\n",
      "\u001b[0;32m----> 1 \u001b[0;31m\u001b[0;36m1\u001b[0m\u001b[0;34m/\u001b[0m\u001b[0;36m0\u001b[0m\u001b[0;34m\u001b[0m\u001b[0m\n",
      "\u001b[0m\n",
      "ipdb> 1\n",
      "1\n"
     ]
    }
   ],
   "source": [
    "1/0"
   ]
  },
  {
   "cell_type": "markdown",
   "metadata": {},
   "source": [
    "Now do the same for a set of lambda ranges to produce nested volumes."
   ]
  },
  {
   "cell_type": "code",
   "execution_count": 12,
   "metadata": {
    "collapsed": false
   },
   "outputs": [],
   "source": [
    "minima = map((1.0 / degrees).__mul__,\n",
    "             [-125, -135, -140, -142.5, -145.0, -147.0, -150.0])\n",
    "\n",
    "maxima = map((1.0 / degrees).__mul__,\n",
    "             [-25.0, -21.0, -18.5, -17.0, -15.0, -10.0, 0.0])\n",
    "\n",
    "volume_set = vf.CVRangeVolumePeriodicSet(psi, minima, maxima, -180.0/degrees, +180.0/degrees)"
   ]
  },
  {
   "cell_type": "markdown",
   "metadata": {},
   "source": [
    "### Ensembles"
   ]
  },
  {
   "cell_type": "markdown",
   "metadata": {},
   "source": [
    "Now do this automatically for all ensembles"
   ]
  },
  {
   "cell_type": "code",
   "execution_count": 13,
   "metadata": {
    "collapsed": false
   },
   "outputs": [],
   "source": [
    "interface0 = volume_set[0]\n",
    "interface_set = ef.TISEnsembleSet(stateA, stateA | stateB, volume_set, psi)\n",
    "for no, interface in enumerate(interface_set):\n",
    "    # Give each interface a name\n",
    "    interface.name = 'Interface '+str(no)\n",
    "    # And save all of these\n",
    "    storage.ensembles.save(interface)"
   ]
  },
  {
   "cell_type": "markdown",
   "metadata": {},
   "source": [
    "And create a special ensemble, that will create a first trajectory in the innermost TIS ensemble independent from where we start"
   ]
  },
  {
   "cell_type": "markdown",
   "metadata": {},
   "source": [
    "The idea is to describe a trajectory type by a sequence of positions. First can be outside of stateA or not, then be inside stateA, etc..."
   ]
  },
  {
   "cell_type": "code",
   "execution_count": 14,
   "metadata": {
    "collapsed": true
   },
   "outputs": [],
   "source": [
    "first_traj_ensemble = SequentialEnsemble([\n",
    "    AllOutXEnsemble(stateA) | LengthEnsemble(0),\n",
    "    AllInXEnsemble(stateA),\n",
    "    (AllOutXEnsemble(stateA) & AllInXEnsemble(interface0)) | LengthEnsemble(0),\n",
    "    AllInXEnsemble(interface0) | LengthEnsemble(0),\n",
    "    AllOutXEnsemble(interface0),\n",
    "    AllOutXEnsemble(stateA) | LengthEnsemble(0),\n",
    "    AllInXEnsemble(stateA) & LengthEnsemble(1)\n",
    "])"
   ]
  },
  {
   "cell_type": "code",
   "execution_count": 15,
   "metadata": {
    "collapsed": false
   },
   "outputs": [
    {
     "name": "stdout",
     "output_type": "stream",
     "text": [
      "OpenCL\n"
     ]
    }
   ],
   "source": [
    "platform = engine.simulation.context.getPlatform()\n",
    "print platform.getName()"
   ]
  },
  {
   "cell_type": "markdown",
   "metadata": {},
   "source": [
    "### start path generation"
   ]
  },
  {
   "cell_type": "markdown",
   "metadata": {},
   "source": [
    "so lets try and see if we can generate a first path"
   ]
  },
  {
   "cell_type": "markdown",
   "metadata": {},
   "source": [
    "load the initial snapshot (although we still have it) and generate using the Alanine simulator. The second option specifies a function : trajectory -> bool that keeps the simulation running as long as it is true. Our goal was to generate a path that belongs to a specific ensemble, so we use `forward` to determine if it makes sense to keep running or if the result cannot belong to the ensemble anymore."
   ]
  },
  {
   "cell_type": "code",
   "execution_count": 16,
   "metadata": {
    "collapsed": false
   },
   "outputs": [],
   "source": [
    "snapshot = storage.load(Snapshot, 0)\n",
    "total_path = engine.generate(\n",
    "    snapshot= snapshot, \n",
    "    running = [first_traj_ensemble.can_append]\n",
    ")"
   ]
  },
  {
   "cell_type": "markdown",
   "metadata": {},
   "source": [
    "Show the length"
   ]
  },
  {
   "cell_type": "code",
   "execution_count": 17,
   "metadata": {
    "collapsed": false
   },
   "outputs": [
    {
     "name": "stdout",
     "output_type": "stream",
     "text": [
      "Total trajectory length:  111\n"
     ]
    }
   ],
   "source": [
    "print \"Total trajectory length: \", len(total_path)"
   ]
  },
  {
   "cell_type": "markdown",
   "metadata": {},
   "source": [
    "And save the trajetory completely"
   ]
  },
  {
   "cell_type": "code",
   "execution_count": 18,
   "metadata": {
    "collapsed": false
   },
   "outputs": [],
   "source": [
    "storage.save(total_path);"
   ]
  },
  {
   "cell_type": "markdown",
   "metadata": {},
   "source": [
    "Split the trajectory into parts that belong to the TIS ensemble (not the one we generated)"
   ]
  },
  {
   "cell_type": "code",
   "execution_count": 19,
   "metadata": {
    "collapsed": false
   },
   "outputs": [
    {
     "name": "stdout",
     "output_type": "stream",
     "text": [
      "Traj in first_traj_ensemble? (should be) True\n",
      "Traj in TIS ensemble? (probably not) False\n",
      "Number of segments in TIS ensemble:  1\n",
      "Length of each segment:\n",
      "  seg[0]: 25\n"
     ]
    }
   ],
   "source": [
    "interface0_ensemble = interface_set[0]\n",
    "segments = interface0_ensemble.split(total_path)\n",
    "\n",
    "print \"Traj in first_traj_ensemble? (should be)\", \n",
    "print first_traj_ensemble(total_path)\n",
    "\n",
    "print \"Traj in TIS ensemble? (probably not)\", \n",
    "print interface0_ensemble(total_path)\n",
    "\n",
    "\n",
    "print \"Number of segments in TIS ensemble: \", len(segments)\n",
    "if len(segments):\n",
    "    print \"Length of each segment:\"\n",
    "    for i in range(len(segments)):\n",
    "        print \"  seg[{0}]: {1}\".format(i, len(segments[i]))"
   ]
  },
  {
   "cell_type": "markdown",
   "metadata": {},
   "source": [
    "Show some results and check if this worked"
   ]
  },
  {
   "cell_type": "code",
   "execution_count": 20,
   "metadata": {
    "collapsed": false
   },
   "outputs": [
    {
     "data": {
      "text/html": [
       "<div>\n",
       "<table border=\"1\" class=\"dataframe\">\n",
       "  <thead>\n",
       "    <tr style=\"text-align: right;\">\n",
       "      <th></th>\n",
       "      <th>phi</th>\n",
       "      <th>psi</th>\n",
       "      <th>stateA</th>\n",
       "      <th>interface0</th>\n",
       "      <th>stateB</th>\n",
       "      <th>appendable</th>\n",
       "    </tr>\n",
       "  </thead>\n",
       "  <tbody>\n",
       "    <tr>\n",
       "      <th>0</th>\n",
       "      <td>-80.208523</td>\n",
       "      <td>-10.277041</td>\n",
       "      <td>False</td>\n",
       "      <td>False</td>\n",
       "      <td>False</td>\n",
       "      <td>True</td>\n",
       "    </tr>\n",
       "    <tr>\n",
       "      <th>1</th>\n",
       "      <td>-83.612473</td>\n",
       "      <td>-11.268401</td>\n",
       "      <td>False</td>\n",
       "      <td>False</td>\n",
       "      <td>False</td>\n",
       "      <td>True</td>\n",
       "    </tr>\n",
       "    <tr>\n",
       "      <th>2</th>\n",
       "      <td>-80.075156</td>\n",
       "      <td>-12.359917</td>\n",
       "      <td>False</td>\n",
       "      <td>False</td>\n",
       "      <td>False</td>\n",
       "      <td>True</td>\n",
       "    </tr>\n",
       "    <tr>\n",
       "      <th>108</th>\n",
       "      <td>-118.255318</td>\n",
       "      <td>-18.755217</td>\n",
       "      <td>False</td>\n",
       "      <td>False</td>\n",
       "      <td>False</td>\n",
       "      <td>True</td>\n",
       "    </tr>\n",
       "    <tr>\n",
       "      <th>109</th>\n",
       "      <td>-119.880467</td>\n",
       "      <td>-19.177941</td>\n",
       "      <td>False</td>\n",
       "      <td>False</td>\n",
       "      <td>False</td>\n",
       "      <td>True</td>\n",
       "    </tr>\n",
       "    <tr>\n",
       "      <th>110</th>\n",
       "      <td>-119.995132</td>\n",
       "      <td>-34.003040</td>\n",
       "      <td>True</td>\n",
       "      <td>True</td>\n",
       "      <td>False</td>\n",
       "      <td>False</td>\n",
       "    </tr>\n",
       "  </tbody>\n",
       "</table>\n",
       "</div>"
      ],
      "text/plain": [
       "            phi        psi stateA interface0 stateB appendable\n",
       "0    -80.208523 -10.277041  False      False  False       True\n",
       "1    -83.612473 -11.268401  False      False  False       True\n",
       "2    -80.075156 -12.359917  False      False  False       True\n",
       "108 -118.255318 -18.755217  False      False  False       True\n",
       "109 -119.880467 -19.177941  False      False  False       True\n",
       "110 -119.995132 -34.003040   True       True  False      False"
      ]
     },
     "execution_count": 20,
     "metadata": {},
     "output_type": "execute_result"
    }
   ],
   "source": [
    "data = []\n",
    "for frame in total_path:\n",
    "    data.append((phi(frame)*degrees, psi(frame)*degrees, stateA(frame), interface0(frame), stateB(frame), first_traj_ensemble.can_append(total_path[slice(0,total_path.index(frame)+1)])))\n",
    "    \n",
    "dataframe = pd.DataFrame(data, columns=['phi', 'psi', 'stateA', 'interface0', 'stateB', 'appendable'])\n",
    "dataframe[[0,1,2,3,4,5]].ix[[0,1,2,len(dataframe)-3,len(dataframe)-2,len(dataframe)-1]]"
   ]
  },
  {
   "cell_type": "code",
   "execution_count": 21,
   "metadata": {
    "collapsed": false
   },
   "outputs": [
    {
     "name": "stdout",
     "output_type": "stream",
     "text": [
      "Do our segments satisfy the ensemble? True\n"
     ]
    }
   ],
   "source": [
    "print \"Do our segments satisfy the ensemble?\",\n",
    "for seg in segments:\n",
    "    print interface0_ensemble(seg),"
   ]
  },
  {
   "cell_type": "code",
   "execution_count": 22,
   "metadata": {
    "collapsed": false
   },
   "outputs": [
    {
     "data": {
      "text/html": [
       "<div>\n",
       "<table border=\"1\" class=\"dataframe\">\n",
       "  <thead>\n",
       "    <tr style=\"text-align: right;\">\n",
       "      <th></th>\n",
       "      <th>phi</th>\n",
       "      <th>psi</th>\n",
       "      <th>stateA</th>\n",
       "      <th>interface0</th>\n",
       "      <th>stateB</th>\n",
       "      <th>appendable</th>\n",
       "    </tr>\n",
       "  </thead>\n",
       "  <tbody>\n",
       "    <tr>\n",
       "      <th>0</th>\n",
       "      <td>-149.800286</td>\n",
       "      <td>-34.441733</td>\n",
       "      <td>True</td>\n",
       "      <td>True</td>\n",
       "      <td>False</td>\n",
       "      <td>True</td>\n",
       "    </tr>\n",
       "    <tr>\n",
       "      <th>1</th>\n",
       "      <td>-142.421148</td>\n",
       "      <td>-26.653137</td>\n",
       "      <td>False</td>\n",
       "      <td>True</td>\n",
       "      <td>False</td>\n",
       "      <td>True</td>\n",
       "    </tr>\n",
       "    <tr>\n",
       "      <th>2</th>\n",
       "      <td>-149.188164</td>\n",
       "      <td>-21.252433</td>\n",
       "      <td>False</td>\n",
       "      <td>False</td>\n",
       "      <td>False</td>\n",
       "      <td>True</td>\n",
       "    </tr>\n",
       "    <tr>\n",
       "      <th>3</th>\n",
       "      <td>-141.474975</td>\n",
       "      <td>-18.230157</td>\n",
       "      <td>False</td>\n",
       "      <td>False</td>\n",
       "      <td>False</td>\n",
       "      <td>True</td>\n",
       "    </tr>\n",
       "    <tr>\n",
       "      <th>4</th>\n",
       "      <td>-134.496579</td>\n",
       "      <td>-15.822915</td>\n",
       "      <td>False</td>\n",
       "      <td>False</td>\n",
       "      <td>False</td>\n",
       "      <td>True</td>\n",
       "    </tr>\n",
       "    <tr>\n",
       "      <th>5</th>\n",
       "      <td>-140.958667</td>\n",
       "      <td>-8.673393</td>\n",
       "      <td>False</td>\n",
       "      <td>False</td>\n",
       "      <td>False</td>\n",
       "      <td>True</td>\n",
       "    </tr>\n",
       "    <tr>\n",
       "      <th>6</th>\n",
       "      <td>-142.723316</td>\n",
       "      <td>-15.884513</td>\n",
       "      <td>False</td>\n",
       "      <td>False</td>\n",
       "      <td>False</td>\n",
       "      <td>True</td>\n",
       "    </tr>\n",
       "    <tr>\n",
       "      <th>7</th>\n",
       "      <td>-138.205047</td>\n",
       "      <td>-22.100810</td>\n",
       "      <td>False</td>\n",
       "      <td>False</td>\n",
       "      <td>False</td>\n",
       "      <td>True</td>\n",
       "    </tr>\n",
       "    <tr>\n",
       "      <th>8</th>\n",
       "      <td>-147.386687</td>\n",
       "      <td>-19.389450</td>\n",
       "      <td>False</td>\n",
       "      <td>False</td>\n",
       "      <td>False</td>\n",
       "      <td>True</td>\n",
       "    </tr>\n",
       "    <tr>\n",
       "      <th>9</th>\n",
       "      <td>-140.374235</td>\n",
       "      <td>-16.817559</td>\n",
       "      <td>False</td>\n",
       "      <td>False</td>\n",
       "      <td>False</td>\n",
       "      <td>True</td>\n",
       "    </tr>\n",
       "    <tr>\n",
       "      <th>10</th>\n",
       "      <td>-138.892137</td>\n",
       "      <td>-19.589305</td>\n",
       "      <td>False</td>\n",
       "      <td>False</td>\n",
       "      <td>False</td>\n",
       "      <td>True</td>\n",
       "    </tr>\n",
       "    <tr>\n",
       "      <th>11</th>\n",
       "      <td>-142.232867</td>\n",
       "      <td>-12.501086</td>\n",
       "      <td>False</td>\n",
       "      <td>False</td>\n",
       "      <td>False</td>\n",
       "      <td>True</td>\n",
       "    </tr>\n",
       "    <tr>\n",
       "      <th>12</th>\n",
       "      <td>-126.402224</td>\n",
       "      <td>-20.373732</td>\n",
       "      <td>False</td>\n",
       "      <td>False</td>\n",
       "      <td>False</td>\n",
       "      <td>True</td>\n",
       "    </tr>\n",
       "    <tr>\n",
       "      <th>13</th>\n",
       "      <td>-131.525772</td>\n",
       "      <td>-17.059623</td>\n",
       "      <td>False</td>\n",
       "      <td>False</td>\n",
       "      <td>False</td>\n",
       "      <td>True</td>\n",
       "    </tr>\n",
       "    <tr>\n",
       "      <th>14</th>\n",
       "      <td>-131.803515</td>\n",
       "      <td>-16.842656</td>\n",
       "      <td>False</td>\n",
       "      <td>False</td>\n",
       "      <td>False</td>\n",
       "      <td>True</td>\n",
       "    </tr>\n",
       "    <tr>\n",
       "      <th>15</th>\n",
       "      <td>-133.079095</td>\n",
       "      <td>-19.849206</td>\n",
       "      <td>False</td>\n",
       "      <td>False</td>\n",
       "      <td>False</td>\n",
       "      <td>True</td>\n",
       "    </tr>\n",
       "    <tr>\n",
       "      <th>16</th>\n",
       "      <td>-134.458931</td>\n",
       "      <td>-11.411056</td>\n",
       "      <td>False</td>\n",
       "      <td>False</td>\n",
       "      <td>False</td>\n",
       "      <td>True</td>\n",
       "    </tr>\n",
       "    <tr>\n",
       "      <th>17</th>\n",
       "      <td>-125.218538</td>\n",
       "      <td>-15.760303</td>\n",
       "      <td>False</td>\n",
       "      <td>False</td>\n",
       "      <td>False</td>\n",
       "      <td>True</td>\n",
       "    </tr>\n",
       "    <tr>\n",
       "      <th>18</th>\n",
       "      <td>-124.811499</td>\n",
       "      <td>-11.403825</td>\n",
       "      <td>False</td>\n",
       "      <td>False</td>\n",
       "      <td>False</td>\n",
       "      <td>True</td>\n",
       "    </tr>\n",
       "    <tr>\n",
       "      <th>19</th>\n",
       "      <td>-126.774784</td>\n",
       "      <td>-16.715661</td>\n",
       "      <td>False</td>\n",
       "      <td>False</td>\n",
       "      <td>False</td>\n",
       "      <td>True</td>\n",
       "    </tr>\n",
       "    <tr>\n",
       "      <th>20</th>\n",
       "      <td>-128.854319</td>\n",
       "      <td>-7.664648</td>\n",
       "      <td>False</td>\n",
       "      <td>False</td>\n",
       "      <td>False</td>\n",
       "      <td>True</td>\n",
       "    </tr>\n",
       "    <tr>\n",
       "      <th>21</th>\n",
       "      <td>-123.239598</td>\n",
       "      <td>-12.291695</td>\n",
       "      <td>False</td>\n",
       "      <td>False</td>\n",
       "      <td>False</td>\n",
       "      <td>True</td>\n",
       "    </tr>\n",
       "    <tr>\n",
       "      <th>22</th>\n",
       "      <td>-118.255318</td>\n",
       "      <td>-18.755217</td>\n",
       "      <td>False</td>\n",
       "      <td>False</td>\n",
       "      <td>False</td>\n",
       "      <td>True</td>\n",
       "    </tr>\n",
       "    <tr>\n",
       "      <th>23</th>\n",
       "      <td>-119.880467</td>\n",
       "      <td>-19.177941</td>\n",
       "      <td>False</td>\n",
       "      <td>False</td>\n",
       "      <td>False</td>\n",
       "      <td>True</td>\n",
       "    </tr>\n",
       "    <tr>\n",
       "      <th>24</th>\n",
       "      <td>-119.995132</td>\n",
       "      <td>-34.003040</td>\n",
       "      <td>True</td>\n",
       "      <td>True</td>\n",
       "      <td>False</td>\n",
       "      <td>False</td>\n",
       "    </tr>\n",
       "  </tbody>\n",
       "</table>\n",
       "</div>"
      ],
      "text/plain": [
       "           phi        psi stateA interface0 stateB appendable\n",
       "0  -149.800286 -34.441733   True       True  False       True\n",
       "1  -142.421148 -26.653137  False       True  False       True\n",
       "2  -149.188164 -21.252433  False      False  False       True\n",
       "3  -141.474975 -18.230157  False      False  False       True\n",
       "4  -134.496579 -15.822915  False      False  False       True\n",
       "5  -140.958667  -8.673393  False      False  False       True\n",
       "6  -142.723316 -15.884513  False      False  False       True\n",
       "7  -138.205047 -22.100810  False      False  False       True\n",
       "8  -147.386687 -19.389450  False      False  False       True\n",
       "9  -140.374235 -16.817559  False      False  False       True\n",
       "10 -138.892137 -19.589305  False      False  False       True\n",
       "11 -142.232867 -12.501086  False      False  False       True\n",
       "12 -126.402224 -20.373732  False      False  False       True\n",
       "13 -131.525772 -17.059623  False      False  False       True\n",
       "14 -131.803515 -16.842656  False      False  False       True\n",
       "15 -133.079095 -19.849206  False      False  False       True\n",
       "16 -134.458931 -11.411056  False      False  False       True\n",
       "17 -125.218538 -15.760303  False      False  False       True\n",
       "18 -124.811499 -11.403825  False      False  False       True\n",
       "19 -126.774784 -16.715661  False      False  False       True\n",
       "20 -128.854319  -7.664648  False      False  False       True\n",
       "21 -123.239598 -12.291695  False      False  False       True\n",
       "22 -118.255318 -18.755217  False      False  False       True\n",
       "23 -119.880467 -19.177941  False      False  False       True\n",
       "24 -119.995132 -34.003040   True       True  False      False"
      ]
     },
     "execution_count": 22,
     "metadata": {},
     "output_type": "execute_result"
    }
   ],
   "source": [
    "data = []\n",
    "for frame in segments[0]:\n",
    "    data.append((phi(frame)*degrees, psi(frame)*degrees, stateA(frame), interface0(frame), stateB(frame), first_traj_ensemble.can_append(total_path[slice(0,total_path.index(frame)+1)])))\n",
    "    \n",
    "dataframe = pd.DataFrame(data, columns=['phi', 'psi', 'stateA', 'interface0', 'stateB', 'appendable'])\n",
    "dataframe[[0,1,2,3,4,5]]"
   ]
  },
  {
   "cell_type": "markdown",
   "metadata": {},
   "source": [
    "### Bootstrapping"
   ]
  },
  {
   "cell_type": "markdown",
   "metadata": {},
   "source": [
    "Run a bootstrapping (not TIS) simulation that shoots from an ensemble until the next interface is reached then switch to the next ensemble to drive the system out of stateA"
   ]
  },
  {
   "cell_type": "code",
   "execution_count": 23,
   "metadata": {
    "collapsed": true
   },
   "outputs": [],
   "source": [
    "mover_set = mf.OneWayShootingSet(UniformSelector(), interface_set)"
   ]
  },
  {
   "cell_type": "code",
   "execution_count": 24,
   "metadata": {
    "collapsed": false
   },
   "outputs": [],
   "source": [
    "bootstrap = Bootstrapping(storage=storage,\n",
    "                          engine=engine,\n",
    "                          ensembles=interface_set,\n",
    "                          movers=mover_set,\n",
    "                          trajectory=segments[0])"
   ]
  },
  {
   "cell_type": "markdown",
   "metadata": {},
   "source": [
    "Run Bootstrapping with at most 50 attempts per ensemble"
   ]
  },
  {
   "cell_type": "code",
   "execution_count": 25,
   "metadata": {
    "collapsed": false
   },
   "outputs": [
    {
     "name": "stdout",
     "output_type": "stream",
     "text": [
      "DONE! Completed Bootstrapping cycle step 9 in ensemble 5/7 .\n",
      "\n"
     ]
    }
   ],
   "source": [
    "bootstrap.run(5)"
   ]
  },
  {
   "cell_type": "markdown",
   "metadata": {},
   "source": [
    "Save all computed phi/psi values which depends on whether they have been needed before"
   ]
  },
  {
   "cell_type": "code",
   "execution_count": 26,
   "metadata": {
    "collapsed": true
   },
   "outputs": [],
   "source": [
    "storage.cvs.sync()"
   ]
  },
  {
   "cell_type": "markdown",
   "metadata": {},
   "source": [
    "Create an collectivevariable from a volume which is just 1 or 0 and can thus be stored for later analysis"
   ]
  },
  {
   "cell_type": "code",
   "execution_count": 27,
   "metadata": {
    "collapsed": true
   },
   "outputs": [],
   "source": [
    "op_inA = CV_Volume('StateA', stateA)\n",
    "op_inA.uid = 'StateA'\n",
    "op_inB = CV_Volume('StateB', stateB)\n",
    "op_inB.uid = 'StateB'\n",
    "op_notinAorB = CV_Volume('StateX', ~ (stateA | stateB))\n",
    "op_notinAorB.uid = 'StateX'"
   ]
  },
  {
   "cell_type": "markdown",
   "metadata": {},
   "source": [
    "Compute the collectivevariable for all snapshots"
   ]
  },
  {
   "cell_type": "code",
   "execution_count": 28,
   "metadata": {
    "collapsed": false,
    "scrolled": false
   },
   "outputs": [],
   "source": [
    "psi(storage.snapshots.all());"
   ]
  },
  {
   "cell_type": "code",
   "execution_count": 29,
   "metadata": {
    "collapsed": false
   },
   "outputs": [],
   "source": [
    "op_inA(storage.snapshots.all())\n",
    "op_inB(storage.snapshots.all())\n",
    "op_notinAorB(storage.snapshots.all());"
   ]
  },
  {
   "cell_type": "markdown",
   "metadata": {},
   "source": [
    "Save the new collectivevariables"
   ]
  },
  {
   "cell_type": "code",
   "execution_count": 30,
   "metadata": {
    "collapsed": false
   },
   "outputs": [],
   "source": [
    "storage.save([op_inA, op_inB, op_notinAorB]);"
   ]
  },
  {
   "cell_type": "code",
   "execution_count": 31,
   "metadata": {
    "collapsed": false
   },
   "outputs": [],
   "source": [
    "storage.cvs.sync()\n",
    "storage.sync()"
   ]
  },
  {
   "cell_type": "code",
   "execution_count": 32,
   "metadata": {
    "collapsed": true
   },
   "outputs": [],
   "source": [
    "storage.close()"
   ]
  },
  {
   "cell_type": "code",
   "execution_count": 33,
   "metadata": {
    "collapsed": true
   },
   "outputs": [],
   "source": [
    "import openpathsampling as paths\n",
    "from openpathsampling.visualize import PathTreeBuilder\n",
    "from IPython.display import SVG\n",
    "import mdtraj"
   ]
  },
  {
   "cell_type": "code",
   "execution_count": 34,
   "metadata": {
    "collapsed": false
   },
   "outputs": [],
   "source": [
    "storage = paths.storage.AnalysisStorage('trajectory.nc')"
   ]
  },
  {
   "cell_type": "markdown",
   "metadata": {},
   "source": [
    "## Visualization"
   ]
  },
  {
   "cell_type": "markdown",
   "metadata": {},
   "source": [
    "Create a PathTree generator"
   ]
  },
  {
   "cell_type": "code",
   "execution_count": 35,
   "metadata": {
    "collapsed": false
   },
   "outputs": [],
   "source": [
    "tree = PathTreeBuilder(storage)"
   ]
  },
  {
   "cell_type": "markdown",
   "metadata": {},
   "source": [
    "Change the settings to show rejected pathways, mark OrderParaemters `stateA` and `stateX`, and show the 'psi' value as text inside of the boxes"
   ]
  },
  {
   "cell_type": "code",
   "execution_count": 36,
   "metadata": {
    "collapsed": false
   },
   "outputs": [],
   "source": [
    "tree.rejected = False\n",
    "tree.states = [ ('orange',storage.cvs[2])]\n",
    "# Some ideas for collectivevariables to visualize\n",
    "tree.op = lambda snap : 'B' if snap.reversed else 'F'\n",
    "tree.op = lambda snap : int(psi(snap)[0]/3.1415926 * 180)\n",
    "tree.op = lambda snap : snap.configuration.idx(storage.configurations)\n",
    "samps = tree.construct_heritage(storage.samples.last)\n",
    "tree.from_samples(samps)\n",
    "#for sset in storage.samplesets:\n",
    "#    print sset.movepath\n",
    "    \n",
    "#for s in samps:\n",
    "#    print (s, s.ensemble.idx[storage], s.replica, len(tree.construct_heritage(s)), s.mover.__class__.__name__)"
   ]
  },
  {
   "cell_type": "markdown",
   "metadata": {},
   "source": [
    "Render the tree"
   ]
  },
  {
   "cell_type": "code",
   "execution_count": 37,
   "metadata": {
    "collapsed": false
   },
   "outputs": [
    {
     "data": {
      "image/svg+xml": [
       "<svg baseProfile=\"full\" height=\"264.0px\" version=\"1.1\" width=\"686.4px\" xmlns=\"http://www.w3.org/2000/svg\" xmlns:ev=\"http://www.w3.org/2001/xml-events\" xmlns:xlink=\"http://www.w3.org/1999/xlink\"><defs/><rect fill=\"orange\" height=\"2.64\" stroke=\"orange\" stroke-width=\"1.32\" width=\"26.4\" x=\"369.6\" y=\"246.84\"/><rect fill=\"orange\" height=\"2.64\" stroke=\"orange\" stroke-width=\"1.32\" width=\"26.4\" x=\"26.4\" y=\"246.84\"/><rect fill=\"orange\" height=\"2.64\" stroke=\"orange\" stroke-width=\"1.32\" width=\"26.4\" x=\"369.6\" y=\"220.44\"/><rect fill=\"orange\" height=\"2.64\" stroke=\"orange\" stroke-width=\"1.32\" width=\"26.4\" x=\"26.4\" y=\"220.44\"/><rect fill=\"orange\" height=\"2.64\" stroke=\"orange\" stroke-width=\"1.32\" width=\"26.4\" x=\"369.6\" y=\"194.04\"/><rect fill=\"orange\" height=\"2.64\" stroke=\"orange\" stroke-width=\"1.32\" width=\"26.4\" x=\"26.4\" y=\"194.04\"/><rect fill=\"orange\" height=\"2.64\" stroke=\"orange\" stroke-width=\"1.32\" width=\"26.4\" x=\"369.6\" y=\"167.64\"/><rect fill=\"orange\" height=\"2.64\" stroke=\"orange\" stroke-width=\"1.32\" width=\"26.4\" x=\"26.4\" y=\"167.64\"/><rect fill=\"orange\" height=\"2.64\" stroke=\"orange\" stroke-width=\"1.32\" width=\"26.4\" x=\"369.6\" y=\"141.24\"/><rect fill=\"orange\" height=\"2.64\" stroke=\"orange\" stroke-width=\"1.32\" width=\"26.4\" x=\"52.8\" y=\"141.24\"/><rect fill=\"orange\" height=\"2.64\" stroke=\"orange\" stroke-width=\"1.32\" width=\"26.4\" x=\"422.4\" y=\"114.84\"/><rect fill=\"orange\" height=\"2.64\" stroke=\"orange\" stroke-width=\"1.32\" width=\"26.4\" x=\"52.8\" y=\"114.84\"/><rect fill=\"orange\" height=\"2.64\" stroke=\"orange\" stroke-width=\"1.32\" width=\"26.4\" x=\"554.4\" y=\"88.44\"/><rect fill=\"orange\" height=\"2.64\" stroke=\"orange\" stroke-width=\"1.32\" width=\"26.4\" x=\"52.8\" y=\"88.44\"/><rect fill=\"orange\" height=\"2.64\" stroke=\"orange\" stroke-width=\"1.32\" width=\"26.4\" x=\"554.4\" y=\"62.04\"/><rect fill=\"orange\" height=\"2.64\" stroke=\"orange\" stroke-width=\"1.32\" width=\"26.4\" x=\"26.4\" y=\"62.04\"/><rect fill=\"orange\" height=\"2.64\" stroke=\"orange\" stroke-width=\"1.32\" width=\"26.4\" x=\"633.6\" y=\"35.64\"/><rect fill=\"orange\" height=\"2.64\" stroke=\"orange\" stroke-width=\"1.32\" width=\"26.4\" x=\"26.4\" y=\"35.64\"/><text alignment-baseline=\"middle\" fill=\"black\" font-family=\"Futura\" font-size=\"9.24\" text-anchor=\"end\" x=\"21.12\" y=\"27.72\">2b</text><rect fill=\"black\" height=\"15.84\" width=\"23.76\" x=\"27.72\" y=\"18.48\"/><circle cx=\"52.8\" cy=\"26.4\" fill=\"black\" r=\"1.32\" stroke=\"black\" stroke-width=\"0\"/><text alignment-baseline=\"middle\" fill=\"white\" font-family=\"Futura\" font-size=\"9.24\" text-anchor=\"middle\" x=\"39.6\" y=\"27.72\">112</text><rect fill=\"black\" height=\"15.84\" width=\"23.76\" x=\"54.12\" y=\"18.48\"/><circle cx=\"52.8\" cy=\"26.4\" fill=\"black\" r=\"1.32\" stroke=\"black\" stroke-width=\"0\"/><circle cx=\"79.2\" cy=\"26.4\" fill=\"black\" r=\"1.32\" stroke=\"black\" stroke-width=\"0\"/><text alignment-baseline=\"middle\" fill=\"white\" font-family=\"Futura\" font-size=\"9.24\" text-anchor=\"middle\" x=\"66.0\" y=\"27.72\">113</text><rect fill=\"black\" height=\"15.84\" width=\"23.76\" x=\"80.52\" y=\"18.48\"/><circle cx=\"79.2\" cy=\"26.4\" fill=\"black\" r=\"1.32\" stroke=\"black\" stroke-width=\"0\"/><circle cx=\"105.6\" cy=\"26.4\" fill=\"black\" r=\"1.32\" stroke=\"black\" stroke-width=\"0\"/><text alignment-baseline=\"middle\" fill=\"white\" font-family=\"Futura\" font-size=\"9.24\" text-anchor=\"middle\" x=\"92.4\" y=\"27.72\">114</text><rect fill=\"black\" height=\"15.84\" width=\"23.76\" x=\"106.92\" y=\"18.48\"/><circle cx=\"105.6\" cy=\"26.4\" fill=\"black\" r=\"1.32\" stroke=\"black\" stroke-width=\"0\"/><circle cx=\"132.0\" cy=\"26.4\" fill=\"black\" r=\"1.32\" stroke=\"black\" stroke-width=\"0\"/><text alignment-baseline=\"middle\" fill=\"white\" font-family=\"Futura\" font-size=\"9.24\" text-anchor=\"middle\" x=\"118.8\" y=\"27.72\">115</text><rect fill=\"black\" height=\"15.84\" width=\"23.76\" x=\"133.32\" y=\"18.48\"/><circle cx=\"132.0\" cy=\"26.4\" fill=\"black\" r=\"1.32\" stroke=\"black\" stroke-width=\"0\"/><circle cx=\"158.4\" cy=\"26.4\" fill=\"black\" r=\"1.32\" stroke=\"black\" stroke-width=\"0\"/><text alignment-baseline=\"middle\" fill=\"white\" font-family=\"Futura\" font-size=\"9.24\" text-anchor=\"middle\" x=\"145.2\" y=\"27.72\">116</text><rect fill=\"black\" height=\"15.84\" width=\"23.76\" x=\"159.72\" y=\"18.48\"/><circle cx=\"158.4\" cy=\"26.4\" fill=\"black\" r=\"1.32\" stroke=\"black\" stroke-width=\"0\"/><circle cx=\"184.8\" cy=\"26.4\" fill=\"black\" r=\"1.32\" stroke=\"black\" stroke-width=\"0\"/><text alignment-baseline=\"middle\" fill=\"white\" font-family=\"Futura\" font-size=\"9.24\" text-anchor=\"middle\" x=\"171.6\" y=\"27.72\">117</text><rect fill=\"black\" height=\"15.84\" width=\"23.76\" x=\"186.12\" y=\"18.48\"/><circle cx=\"184.8\" cy=\"26.4\" fill=\"black\" r=\"1.32\" stroke=\"black\" stroke-width=\"0\"/><circle cx=\"211.2\" cy=\"26.4\" fill=\"black\" r=\"1.32\" stroke=\"black\" stroke-width=\"0\"/><text alignment-baseline=\"middle\" fill=\"white\" font-family=\"Futura\" font-size=\"9.24\" text-anchor=\"middle\" x=\"198.0\" y=\"27.72\">118</text><rect fill=\"black\" height=\"15.84\" width=\"23.76\" x=\"212.52\" y=\"18.48\"/><circle cx=\"211.2\" cy=\"26.4\" fill=\"black\" r=\"1.32\" stroke=\"black\" stroke-width=\"0\"/><circle cx=\"237.6\" cy=\"26.4\" fill=\"black\" r=\"1.32\" stroke=\"black\" stroke-width=\"0\"/><text alignment-baseline=\"middle\" fill=\"white\" font-family=\"Futura\" font-size=\"9.24\" text-anchor=\"middle\" x=\"224.4\" y=\"27.72\">119</text><rect fill=\"black\" height=\"15.84\" width=\"23.76\" x=\"238.92\" y=\"18.48\"/><circle cx=\"237.6\" cy=\"26.4\" fill=\"black\" r=\"1.32\" stroke=\"black\" stroke-width=\"0\"/><circle cx=\"264.0\" cy=\"26.4\" fill=\"black\" r=\"1.32\" stroke=\"black\" stroke-width=\"0\"/><text alignment-baseline=\"middle\" fill=\"white\" font-family=\"Futura\" font-size=\"9.24\" text-anchor=\"middle\" x=\"250.8\" y=\"27.72\">120</text><rect fill=\"black\" height=\"15.84\" width=\"23.76\" x=\"265.32\" y=\"18.48\"/><circle cx=\"264.0\" cy=\"26.4\" fill=\"black\" r=\"1.32\" stroke=\"black\" stroke-width=\"0\"/><circle cx=\"290.4\" cy=\"26.4\" fill=\"black\" r=\"1.32\" stroke=\"black\" stroke-width=\"0\"/><text alignment-baseline=\"middle\" fill=\"white\" font-family=\"Futura\" font-size=\"9.24\" text-anchor=\"middle\" x=\"277.2\" y=\"27.72\">121</text><rect fill=\"black\" height=\"15.84\" width=\"23.76\" x=\"291.72\" y=\"18.48\"/><circle cx=\"290.4\" cy=\"26.4\" fill=\"black\" r=\"1.32\" stroke=\"black\" stroke-width=\"0\"/><circle cx=\"316.8\" cy=\"26.4\" fill=\"black\" r=\"1.32\" stroke=\"black\" stroke-width=\"0\"/><text alignment-baseline=\"middle\" fill=\"white\" font-family=\"Futura\" font-size=\"9.24\" text-anchor=\"middle\" x=\"303.6\" y=\"27.72\">98</text><rect fill=\"black\" height=\"15.84\" width=\"23.76\" x=\"318.12\" y=\"18.48\"/><circle cx=\"316.8\" cy=\"26.4\" fill=\"black\" r=\"1.32\" stroke=\"black\" stroke-width=\"0\"/><circle cx=\"343.2\" cy=\"26.4\" fill=\"black\" r=\"1.32\" stroke=\"black\" stroke-width=\"0\"/><text alignment-baseline=\"middle\" fill=\"white\" font-family=\"Futura\" font-size=\"9.24\" text-anchor=\"middle\" x=\"330.0\" y=\"27.72\">99</text><rect fill=\"black\" height=\"15.84\" width=\"23.76\" x=\"344.52\" y=\"18.48\"/><circle cx=\"343.2\" cy=\"26.4\" fill=\"black\" r=\"1.32\" stroke=\"black\" stroke-width=\"0\"/><circle cx=\"369.6\" cy=\"26.4\" fill=\"black\" r=\"1.32\" stroke=\"black\" stroke-width=\"0\"/><text alignment-baseline=\"middle\" fill=\"white\" font-family=\"Futura\" font-size=\"9.24\" text-anchor=\"middle\" x=\"356.4\" y=\"27.72\">100</text><rect fill=\"black\" height=\"15.84\" width=\"23.76\" x=\"370.92\" y=\"18.48\"/><circle cx=\"369.6\" cy=\"26.4\" fill=\"black\" r=\"1.32\" stroke=\"black\" stroke-width=\"0\"/><circle cx=\"396.0\" cy=\"26.4\" fill=\"black\" r=\"1.32\" stroke=\"black\" stroke-width=\"0\"/><text alignment-baseline=\"middle\" fill=\"white\" font-family=\"Futura\" font-size=\"9.24\" text-anchor=\"middle\" x=\"382.8\" y=\"27.72\">101</text><rect fill=\"black\" height=\"15.84\" width=\"23.76\" x=\"397.32\" y=\"18.48\"/><circle cx=\"396.0\" cy=\"26.4\" fill=\"black\" r=\"1.32\" stroke=\"black\" stroke-width=\"0\"/><circle cx=\"422.4\" cy=\"26.4\" fill=\"black\" r=\"1.32\" stroke=\"black\" stroke-width=\"0\"/><text alignment-baseline=\"middle\" fill=\"white\" font-family=\"Futura\" font-size=\"9.24\" text-anchor=\"middle\" x=\"409.2\" y=\"27.72\">102</text><rect fill=\"black\" height=\"15.84\" width=\"23.76\" x=\"423.72\" y=\"18.48\"/><circle cx=\"422.4\" cy=\"26.4\" fill=\"black\" r=\"1.32\" stroke=\"black\" stroke-width=\"0\"/><circle cx=\"448.8\" cy=\"26.4\" fill=\"black\" r=\"1.32\" stroke=\"black\" stroke-width=\"0\"/><text alignment-baseline=\"middle\" fill=\"white\" font-family=\"Futura\" font-size=\"9.24\" text-anchor=\"middle\" x=\"435.6\" y=\"27.72\">103</text><rect fill=\"black\" height=\"15.84\" width=\"23.76\" x=\"450.12\" y=\"18.48\"/><circle cx=\"448.8\" cy=\"26.4\" fill=\"black\" r=\"1.32\" stroke=\"black\" stroke-width=\"0\"/><circle cx=\"475.2\" cy=\"26.4\" fill=\"black\" r=\"1.32\" stroke=\"black\" stroke-width=\"0\"/><text alignment-baseline=\"middle\" fill=\"white\" font-family=\"Futura\" font-size=\"9.24\" text-anchor=\"middle\" x=\"462.0\" y=\"27.72\">104</text><rect fill=\"black\" height=\"15.84\" width=\"23.76\" x=\"476.52\" y=\"18.48\"/><circle cx=\"475.2\" cy=\"26.4\" fill=\"black\" r=\"1.32\" stroke=\"black\" stroke-width=\"0\"/><circle cx=\"501.6\" cy=\"26.4\" fill=\"black\" r=\"1.32\" stroke=\"black\" stroke-width=\"0\"/><text alignment-baseline=\"middle\" fill=\"white\" font-family=\"Futura\" font-size=\"9.24\" text-anchor=\"middle\" x=\"488.4\" y=\"27.72\">105</text><rect fill=\"black\" height=\"15.84\" width=\"23.76\" x=\"502.92\" y=\"18.48\"/><circle cx=\"501.6\" cy=\"26.4\" fill=\"black\" r=\"1.32\" stroke=\"black\" stroke-width=\"0\"/><circle cx=\"528.0\" cy=\"26.4\" fill=\"black\" r=\"1.32\" stroke=\"black\" stroke-width=\"0\"/><text alignment-baseline=\"middle\" fill=\"white\" font-family=\"Futura\" font-size=\"9.24\" text-anchor=\"middle\" x=\"514.8\" y=\"27.72\">106</text><rect fill=\"black\" height=\"15.84\" width=\"23.76\" x=\"529.32\" y=\"18.48\"/><circle cx=\"528.0\" cy=\"26.4\" fill=\"black\" r=\"1.32\" stroke=\"black\" stroke-width=\"0\"/><circle cx=\"554.4\" cy=\"26.4\" fill=\"black\" r=\"1.32\" stroke=\"black\" stroke-width=\"0\"/><text alignment-baseline=\"middle\" fill=\"white\" font-family=\"Futura\" font-size=\"9.24\" text-anchor=\"middle\" x=\"541.2\" y=\"27.72\">107</text><rect fill=\"black\" height=\"15.84\" width=\"23.76\" x=\"555.72\" y=\"18.48\"/><circle cx=\"554.4\" cy=\"26.4\" fill=\"black\" r=\"1.32\" stroke=\"black\" stroke-width=\"0\"/><circle cx=\"580.8\" cy=\"26.4\" fill=\"black\" r=\"1.32\" stroke=\"black\" stroke-width=\"0\"/><text alignment-baseline=\"middle\" fill=\"white\" font-family=\"Futura\" font-size=\"9.24\" text-anchor=\"middle\" x=\"567.6\" y=\"27.72\">108</text><rect fill=\"black\" height=\"15.84\" width=\"23.76\" x=\"582.12\" y=\"18.48\"/><circle cx=\"580.8\" cy=\"26.4\" fill=\"black\" r=\"1.32\" stroke=\"black\" stroke-width=\"0\"/><circle cx=\"607.2\" cy=\"26.4\" fill=\"black\" r=\"1.32\" stroke=\"black\" stroke-width=\"0\"/><text alignment-baseline=\"middle\" fill=\"white\" font-family=\"Futura\" font-size=\"9.24\" text-anchor=\"middle\" x=\"594.0\" y=\"27.72\">109</text><rect fill=\"black\" height=\"15.84\" width=\"23.76\" x=\"608.52\" y=\"18.48\"/><circle cx=\"607.2\" cy=\"26.4\" fill=\"black\" r=\"1.32\" stroke=\"black\" stroke-width=\"0\"/><circle cx=\"633.6\" cy=\"26.4\" fill=\"black\" r=\"1.32\" stroke=\"black\" stroke-width=\"0\"/><text alignment-baseline=\"middle\" fill=\"white\" font-family=\"Futura\" font-size=\"9.24\" text-anchor=\"middle\" x=\"620.4\" y=\"27.72\">110</text><rect fill=\"black\" height=\"15.84\" width=\"23.76\" x=\"634.92\" y=\"18.48\"/><circle cx=\"633.6\" cy=\"26.4\" fill=\"black\" r=\"1.32\" stroke=\"black\" stroke-width=\"0\"/><text alignment-baseline=\"middle\" fill=\"white\" font-family=\"Futura\" font-size=\"9.24\" text-anchor=\"middle\" x=\"646.8\" y=\"27.72\">111</text><line stroke=\"red\" stroke-width=\"1.32\" x1=\"184.8\" x2=\"184.8\" y1=\"27.72\" y2=\"51.48\"/><text alignment-baseline=\"middle\" fill=\"black\" font-family=\"Futura\" font-size=\"9.24\" text-anchor=\"start\" x=\"586.08\" y=\"54.12\">3f</text><rect fill=\"red\" height=\"15.84\" width=\"23.76\" x=\"27.72\" y=\"44.88\"/><circle cx=\"52.8\" cy=\"52.8\" fill=\"red\" r=\"1.32\" stroke=\"red\" stroke-width=\"0\"/><text alignment-baseline=\"middle\" fill=\"white\" font-family=\"Futura\" font-size=\"9.24\" text-anchor=\"middle\" x=\"39.6\" y=\"54.12\">112</text><rect fill=\"red\" height=\"15.84\" width=\"23.76\" x=\"54.12\" y=\"44.88\"/><circle cx=\"52.8\" cy=\"52.8\" fill=\"red\" r=\"1.32\" stroke=\"red\" stroke-width=\"0\"/><circle cx=\"79.2\" cy=\"52.8\" fill=\"red\" r=\"1.32\" stroke=\"red\" stroke-width=\"0\"/><text alignment-baseline=\"middle\" fill=\"white\" font-family=\"Futura\" font-size=\"9.24\" text-anchor=\"middle\" x=\"66.0\" y=\"54.12\">113</text><rect fill=\"red\" height=\"15.84\" width=\"23.76\" x=\"80.52\" y=\"44.88\"/><circle cx=\"79.2\" cy=\"52.8\" fill=\"red\" r=\"1.32\" stroke=\"red\" stroke-width=\"0\"/><circle cx=\"105.6\" cy=\"52.8\" fill=\"red\" r=\"1.32\" stroke=\"red\" stroke-width=\"0\"/><text alignment-baseline=\"middle\" fill=\"white\" font-family=\"Futura\" font-size=\"9.24\" text-anchor=\"middle\" x=\"92.4\" y=\"54.12\">114</text><rect fill=\"red\" height=\"15.84\" width=\"23.76\" x=\"106.92\" y=\"44.88\"/><circle cx=\"105.6\" cy=\"52.8\" fill=\"red\" r=\"1.32\" stroke=\"red\" stroke-width=\"0\"/><circle cx=\"132.0\" cy=\"52.8\" fill=\"red\" r=\"1.32\" stroke=\"red\" stroke-width=\"0\"/><text alignment-baseline=\"middle\" fill=\"white\" font-family=\"Futura\" font-size=\"9.24\" text-anchor=\"middle\" x=\"118.8\" y=\"54.12\">115</text><rect fill=\"red\" height=\"15.84\" width=\"23.76\" x=\"133.32\" y=\"44.88\"/><circle cx=\"132.0\" cy=\"52.8\" fill=\"red\" r=\"1.32\" stroke=\"red\" stroke-width=\"0\"/><circle cx=\"158.4\" cy=\"52.8\" fill=\"red\" r=\"1.32\" stroke=\"red\" stroke-width=\"0\"/><text alignment-baseline=\"middle\" fill=\"white\" font-family=\"Futura\" font-size=\"9.24\" text-anchor=\"middle\" x=\"145.2\" y=\"54.12\">116</text><rect fill=\"red\" height=\"15.84\" width=\"23.76\" x=\"159.72\" y=\"44.88\"/><circle cx=\"158.4\" cy=\"52.8\" fill=\"red\" r=\"1.32\" stroke=\"red\" stroke-width=\"0\"/><circle cx=\"184.8\" cy=\"52.8\" fill=\"red\" r=\"1.32\" stroke=\"red\" stroke-width=\"0\"/><text alignment-baseline=\"middle\" fill=\"white\" font-family=\"Futura\" font-size=\"9.24\" text-anchor=\"middle\" x=\"171.6\" y=\"54.12\">117</text><rect fill=\"red\" height=\"15.84\" width=\"23.76\" x=\"186.12\" y=\"44.88\"/><circle cx=\"184.8\" cy=\"52.8\" fill=\"red\" r=\"1.32\" stroke=\"red\" stroke-width=\"0\"/><circle cx=\"211.2\" cy=\"52.8\" fill=\"red\" r=\"1.32\" stroke=\"red\" stroke-width=\"0\"/><text alignment-baseline=\"middle\" fill=\"white\" font-family=\"Futura\" font-size=\"9.24\" text-anchor=\"middle\" x=\"198.0\" y=\"54.12\">118</text><rect fill=\"red\" height=\"15.84\" width=\"23.76\" x=\"212.52\" y=\"44.88\"/><circle cx=\"211.2\" cy=\"52.8\" fill=\"red\" r=\"1.32\" stroke=\"red\" stroke-width=\"0\"/><circle cx=\"237.6\" cy=\"52.8\" fill=\"red\" r=\"1.32\" stroke=\"red\" stroke-width=\"0\"/><text alignment-baseline=\"middle\" fill=\"white\" font-family=\"Futura\" font-size=\"9.24\" text-anchor=\"middle\" x=\"224.4\" y=\"54.12\">122</text><rect fill=\"red\" height=\"15.84\" width=\"23.76\" x=\"238.92\" y=\"44.88\"/><circle cx=\"237.6\" cy=\"52.8\" fill=\"red\" r=\"1.32\" stroke=\"red\" stroke-width=\"0\"/><circle cx=\"264.0\" cy=\"52.8\" fill=\"red\" r=\"1.32\" stroke=\"red\" stroke-width=\"0\"/><text alignment-baseline=\"middle\" fill=\"white\" font-family=\"Futura\" font-size=\"9.24\" text-anchor=\"middle\" x=\"250.8\" y=\"54.12\">123</text><rect fill=\"red\" height=\"15.84\" width=\"23.76\" x=\"265.32\" y=\"44.88\"/><circle cx=\"264.0\" cy=\"52.8\" fill=\"red\" r=\"1.32\" stroke=\"red\" stroke-width=\"0\"/><circle cx=\"290.4\" cy=\"52.8\" fill=\"red\" r=\"1.32\" stroke=\"red\" stroke-width=\"0\"/><text alignment-baseline=\"middle\" fill=\"white\" font-family=\"Futura\" font-size=\"9.24\" text-anchor=\"middle\" x=\"277.2\" y=\"54.12\">124</text><rect fill=\"red\" height=\"15.84\" width=\"23.76\" x=\"291.72\" y=\"44.88\"/><circle cx=\"290.4\" cy=\"52.8\" fill=\"red\" r=\"1.32\" stroke=\"red\" stroke-width=\"0\"/><circle cx=\"316.8\" cy=\"52.8\" fill=\"red\" r=\"1.32\" stroke=\"red\" stroke-width=\"0\"/><text alignment-baseline=\"middle\" fill=\"white\" font-family=\"Futura\" font-size=\"9.24\" text-anchor=\"middle\" x=\"303.6\" y=\"54.12\">125</text><rect fill=\"red\" height=\"15.84\" width=\"23.76\" x=\"318.12\" y=\"44.88\"/><circle cx=\"316.8\" cy=\"52.8\" fill=\"red\" r=\"1.32\" stroke=\"red\" stroke-width=\"0\"/><circle cx=\"343.2\" cy=\"52.8\" fill=\"red\" r=\"1.32\" stroke=\"red\" stroke-width=\"0\"/><text alignment-baseline=\"middle\" fill=\"white\" font-family=\"Futura\" font-size=\"9.24\" text-anchor=\"middle\" x=\"330.0\" y=\"54.12\">126</text><rect fill=\"red\" height=\"15.84\" width=\"23.76\" x=\"344.52\" y=\"44.88\"/><circle cx=\"343.2\" cy=\"52.8\" fill=\"red\" r=\"1.32\" stroke=\"red\" stroke-width=\"0\"/><circle cx=\"369.6\" cy=\"52.8\" fill=\"red\" r=\"1.32\" stroke=\"red\" stroke-width=\"0\"/><text alignment-baseline=\"middle\" fill=\"white\" font-family=\"Futura\" font-size=\"9.24\" text-anchor=\"middle\" x=\"356.4\" y=\"54.12\">127</text><rect fill=\"red\" height=\"15.84\" width=\"23.76\" x=\"370.92\" y=\"44.88\"/><circle cx=\"369.6\" cy=\"52.8\" fill=\"red\" r=\"1.32\" stroke=\"red\" stroke-width=\"0\"/><circle cx=\"396.0\" cy=\"52.8\" fill=\"red\" r=\"1.32\" stroke=\"red\" stroke-width=\"0\"/><text alignment-baseline=\"middle\" fill=\"white\" font-family=\"Futura\" font-size=\"9.24\" text-anchor=\"middle\" x=\"382.8\" y=\"54.12\">128</text><rect fill=\"red\" height=\"15.84\" width=\"23.76\" x=\"397.32\" y=\"44.88\"/><circle cx=\"396.0\" cy=\"52.8\" fill=\"red\" r=\"1.32\" stroke=\"red\" stroke-width=\"0\"/><circle cx=\"422.4\" cy=\"52.8\" fill=\"red\" r=\"1.32\" stroke=\"red\" stroke-width=\"0\"/><text alignment-baseline=\"middle\" fill=\"white\" font-family=\"Futura\" font-size=\"9.24\" text-anchor=\"middle\" x=\"409.2\" y=\"54.12\">129</text><rect fill=\"red\" height=\"15.84\" width=\"23.76\" x=\"423.72\" y=\"44.88\"/><circle cx=\"422.4\" cy=\"52.8\" fill=\"red\" r=\"1.32\" stroke=\"red\" stroke-width=\"0\"/><circle cx=\"448.8\" cy=\"52.8\" fill=\"red\" r=\"1.32\" stroke=\"red\" stroke-width=\"0\"/><text alignment-baseline=\"middle\" fill=\"white\" font-family=\"Futura\" font-size=\"9.24\" text-anchor=\"middle\" x=\"435.6\" y=\"54.12\">130</text><rect fill=\"red\" height=\"15.84\" width=\"23.76\" x=\"450.12\" y=\"44.88\"/><circle cx=\"448.8\" cy=\"52.8\" fill=\"red\" r=\"1.32\" stroke=\"red\" stroke-width=\"0\"/><circle cx=\"475.2\" cy=\"52.8\" fill=\"red\" r=\"1.32\" stroke=\"red\" stroke-width=\"0\"/><text alignment-baseline=\"middle\" fill=\"white\" font-family=\"Futura\" font-size=\"9.24\" text-anchor=\"middle\" x=\"462.0\" y=\"54.12\">131</text><rect fill=\"red\" height=\"15.84\" width=\"23.76\" x=\"476.52\" y=\"44.88\"/><circle cx=\"475.2\" cy=\"52.8\" fill=\"red\" r=\"1.32\" stroke=\"red\" stroke-width=\"0\"/><circle cx=\"501.6\" cy=\"52.8\" fill=\"red\" r=\"1.32\" stroke=\"red\" stroke-width=\"0\"/><text alignment-baseline=\"middle\" fill=\"white\" font-family=\"Futura\" font-size=\"9.24\" text-anchor=\"middle\" x=\"488.4\" y=\"54.12\">132</text><rect fill=\"red\" height=\"15.84\" width=\"23.76\" x=\"502.92\" y=\"44.88\"/><circle cx=\"501.6\" cy=\"52.8\" fill=\"red\" r=\"1.32\" stroke=\"red\" stroke-width=\"0\"/><circle cx=\"528.0\" cy=\"52.8\" fill=\"red\" r=\"1.32\" stroke=\"red\" stroke-width=\"0\"/><text alignment-baseline=\"middle\" fill=\"white\" font-family=\"Futura\" font-size=\"9.24\" text-anchor=\"middle\" x=\"514.8\" y=\"54.12\">133</text><rect fill=\"red\" height=\"15.84\" width=\"23.76\" x=\"529.32\" y=\"44.88\"/><circle cx=\"528.0\" cy=\"52.8\" fill=\"red\" r=\"1.32\" stroke=\"red\" stroke-width=\"0\"/><circle cx=\"554.4\" cy=\"52.8\" fill=\"red\" r=\"1.32\" stroke=\"red\" stroke-width=\"0\"/><text alignment-baseline=\"middle\" fill=\"white\" font-family=\"Futura\" font-size=\"9.24\" text-anchor=\"middle\" x=\"541.2\" y=\"54.12\">134</text><rect fill=\"red\" height=\"15.84\" width=\"23.76\" x=\"555.72\" y=\"44.88\"/><circle cx=\"554.4\" cy=\"52.8\" fill=\"red\" r=\"1.32\" stroke=\"red\" stroke-width=\"0\"/><text alignment-baseline=\"middle\" fill=\"white\" font-family=\"Futura\" font-size=\"9.24\" text-anchor=\"middle\" x=\"567.6\" y=\"54.12\">135</text><line stroke=\"green\" stroke-width=\"1.32\" x1=\"501.6\" x2=\"501.6\" y1=\"54.12\" y2=\"77.88\"/><text alignment-baseline=\"middle\" fill=\"black\" font-family=\"Futura\" font-size=\"9.24\" text-anchor=\"end\" x=\"47.52\" y=\"80.52\">4b</text><rect fill=\"green\" height=\"15.84\" width=\"23.76\" x=\"54.12\" y=\"71.28\"/><circle cx=\"79.2\" cy=\"79.2\" fill=\"green\" r=\"1.32\" stroke=\"green\" stroke-width=\"0\"/><text alignment-baseline=\"middle\" fill=\"white\" font-family=\"Futura\" font-size=\"9.24\" text-anchor=\"middle\" x=\"66.0\" y=\"80.52\">136</text><rect fill=\"green\" height=\"15.84\" width=\"23.76\" x=\"80.52\" y=\"71.28\"/><circle cx=\"79.2\" cy=\"79.2\" fill=\"green\" r=\"1.32\" stroke=\"green\" stroke-width=\"0\"/><circle cx=\"105.6\" cy=\"79.2\" fill=\"green\" r=\"1.32\" stroke=\"green\" stroke-width=\"0\"/><text alignment-baseline=\"middle\" fill=\"white\" font-family=\"Futura\" font-size=\"9.24\" text-anchor=\"middle\" x=\"92.4\" y=\"80.52\">137</text><rect fill=\"green\" height=\"15.84\" width=\"23.76\" x=\"106.92\" y=\"71.28\"/><circle cx=\"105.6\" cy=\"79.2\" fill=\"green\" r=\"1.32\" stroke=\"green\" stroke-width=\"0\"/><circle cx=\"132.0\" cy=\"79.2\" fill=\"green\" r=\"1.32\" stroke=\"green\" stroke-width=\"0\"/><text alignment-baseline=\"middle\" fill=\"white\" font-family=\"Futura\" font-size=\"9.24\" text-anchor=\"middle\" x=\"118.8\" y=\"80.52\">138</text><rect fill=\"green\" height=\"15.84\" width=\"23.76\" x=\"133.32\" y=\"71.28\"/><circle cx=\"132.0\" cy=\"79.2\" fill=\"green\" r=\"1.32\" stroke=\"green\" stroke-width=\"0\"/><circle cx=\"158.4\" cy=\"79.2\" fill=\"green\" r=\"1.32\" stroke=\"green\" stroke-width=\"0\"/><text alignment-baseline=\"middle\" fill=\"white\" font-family=\"Futura\" font-size=\"9.24\" text-anchor=\"middle\" x=\"145.2\" y=\"80.52\">139</text><rect fill=\"green\" height=\"15.84\" width=\"23.76\" x=\"159.72\" y=\"71.28\"/><circle cx=\"158.4\" cy=\"79.2\" fill=\"green\" r=\"1.32\" stroke=\"green\" stroke-width=\"0\"/><circle cx=\"184.8\" cy=\"79.2\" fill=\"green\" r=\"1.32\" stroke=\"green\" stroke-width=\"0\"/><text alignment-baseline=\"middle\" fill=\"white\" font-family=\"Futura\" font-size=\"9.24\" text-anchor=\"middle\" x=\"171.6\" y=\"80.52\">140</text><rect fill=\"green\" height=\"15.84\" width=\"23.76\" x=\"186.12\" y=\"71.28\"/><circle cx=\"184.8\" cy=\"79.2\" fill=\"green\" r=\"1.32\" stroke=\"green\" stroke-width=\"0\"/><circle cx=\"211.2\" cy=\"79.2\" fill=\"green\" r=\"1.32\" stroke=\"green\" stroke-width=\"0\"/><text alignment-baseline=\"middle\" fill=\"white\" font-family=\"Futura\" font-size=\"9.24\" text-anchor=\"middle\" x=\"198.0\" y=\"80.52\">141</text><rect fill=\"green\" height=\"15.84\" width=\"23.76\" x=\"212.52\" y=\"71.28\"/><circle cx=\"211.2\" cy=\"79.2\" fill=\"green\" r=\"1.32\" stroke=\"green\" stroke-width=\"0\"/><circle cx=\"237.6\" cy=\"79.2\" fill=\"green\" r=\"1.32\" stroke=\"green\" stroke-width=\"0\"/><text alignment-baseline=\"middle\" fill=\"white\" font-family=\"Futura\" font-size=\"9.24\" text-anchor=\"middle\" x=\"224.4\" y=\"80.52\">142</text><rect fill=\"green\" height=\"15.84\" width=\"23.76\" x=\"238.92\" y=\"71.28\"/><circle cx=\"237.6\" cy=\"79.2\" fill=\"green\" r=\"1.32\" stroke=\"green\" stroke-width=\"0\"/><circle cx=\"264.0\" cy=\"79.2\" fill=\"green\" r=\"1.32\" stroke=\"green\" stroke-width=\"0\"/><text alignment-baseline=\"middle\" fill=\"white\" font-family=\"Futura\" font-size=\"9.24\" text-anchor=\"middle\" x=\"250.8\" y=\"80.52\">143</text><rect fill=\"green\" height=\"15.84\" width=\"23.76\" x=\"265.32\" y=\"71.28\"/><circle cx=\"264.0\" cy=\"79.2\" fill=\"green\" r=\"1.32\" stroke=\"green\" stroke-width=\"0\"/><circle cx=\"290.4\" cy=\"79.2\" fill=\"green\" r=\"1.32\" stroke=\"green\" stroke-width=\"0\"/><text alignment-baseline=\"middle\" fill=\"white\" font-family=\"Futura\" font-size=\"9.24\" text-anchor=\"middle\" x=\"277.2\" y=\"80.52\">144</text><rect fill=\"green\" height=\"15.84\" width=\"23.76\" x=\"291.72\" y=\"71.28\"/><circle cx=\"290.4\" cy=\"79.2\" fill=\"green\" r=\"1.32\" stroke=\"green\" stroke-width=\"0\"/><circle cx=\"316.8\" cy=\"79.2\" fill=\"green\" r=\"1.32\" stroke=\"green\" stroke-width=\"0\"/><text alignment-baseline=\"middle\" fill=\"white\" font-family=\"Futura\" font-size=\"9.24\" text-anchor=\"middle\" x=\"303.6\" y=\"80.52\">145</text><rect fill=\"green\" height=\"15.84\" width=\"23.76\" x=\"318.12\" y=\"71.28\"/><circle cx=\"316.8\" cy=\"79.2\" fill=\"green\" r=\"1.32\" stroke=\"green\" stroke-width=\"0\"/><circle cx=\"343.2\" cy=\"79.2\" fill=\"green\" r=\"1.32\" stroke=\"green\" stroke-width=\"0\"/><text alignment-baseline=\"middle\" fill=\"white\" font-family=\"Futura\" font-size=\"9.24\" text-anchor=\"middle\" x=\"330.0\" y=\"80.52\">146</text><rect fill=\"green\" height=\"15.84\" width=\"23.76\" x=\"344.52\" y=\"71.28\"/><circle cx=\"343.2\" cy=\"79.2\" fill=\"green\" r=\"1.32\" stroke=\"green\" stroke-width=\"0\"/><circle cx=\"369.6\" cy=\"79.2\" fill=\"green\" r=\"1.32\" stroke=\"green\" stroke-width=\"0\"/><text alignment-baseline=\"middle\" fill=\"white\" font-family=\"Futura\" font-size=\"9.24\" text-anchor=\"middle\" x=\"356.4\" y=\"80.52\">147</text><rect fill=\"green\" height=\"15.84\" width=\"23.76\" x=\"370.92\" y=\"71.28\"/><circle cx=\"369.6\" cy=\"79.2\" fill=\"green\" r=\"1.32\" stroke=\"green\" stroke-width=\"0\"/><circle cx=\"396.0\" cy=\"79.2\" fill=\"green\" r=\"1.32\" stroke=\"green\" stroke-width=\"0\"/><text alignment-baseline=\"middle\" fill=\"white\" font-family=\"Futura\" font-size=\"9.24\" text-anchor=\"middle\" x=\"382.8\" y=\"80.52\">148</text><rect fill=\"green\" height=\"15.84\" width=\"23.76\" x=\"397.32\" y=\"71.28\"/><circle cx=\"396.0\" cy=\"79.2\" fill=\"green\" r=\"1.32\" stroke=\"green\" stroke-width=\"0\"/><circle cx=\"422.4\" cy=\"79.2\" fill=\"green\" r=\"1.32\" stroke=\"green\" stroke-width=\"0\"/><text alignment-baseline=\"middle\" fill=\"white\" font-family=\"Futura\" font-size=\"9.24\" text-anchor=\"middle\" x=\"409.2\" y=\"80.52\">149</text><rect fill=\"green\" height=\"15.84\" width=\"23.76\" x=\"423.72\" y=\"71.28\"/><circle cx=\"422.4\" cy=\"79.2\" fill=\"green\" r=\"1.32\" stroke=\"green\" stroke-width=\"0\"/><circle cx=\"448.8\" cy=\"79.2\" fill=\"green\" r=\"1.32\" stroke=\"green\" stroke-width=\"0\"/><text alignment-baseline=\"middle\" fill=\"white\" font-family=\"Futura\" font-size=\"9.24\" text-anchor=\"middle\" x=\"435.6\" y=\"80.52\">150</text><rect fill=\"green\" height=\"15.84\" width=\"23.76\" x=\"450.12\" y=\"71.28\"/><circle cx=\"448.8\" cy=\"79.2\" fill=\"green\" r=\"1.32\" stroke=\"green\" stroke-width=\"0\"/><circle cx=\"475.2\" cy=\"79.2\" fill=\"green\" r=\"1.32\" stroke=\"green\" stroke-width=\"0\"/><text alignment-baseline=\"middle\" fill=\"white\" font-family=\"Futura\" font-size=\"9.24\" text-anchor=\"middle\" x=\"462.0\" y=\"80.52\">151</text><rect fill=\"green\" height=\"15.84\" width=\"23.76\" x=\"476.52\" y=\"71.28\"/><circle cx=\"475.2\" cy=\"79.2\" fill=\"green\" r=\"1.32\" stroke=\"green\" stroke-width=\"0\"/><circle cx=\"501.6\" cy=\"79.2\" fill=\"green\" r=\"1.32\" stroke=\"green\" stroke-width=\"0\"/><text alignment-baseline=\"middle\" fill=\"white\" font-family=\"Futura\" font-size=\"9.24\" text-anchor=\"middle\" x=\"488.4\" y=\"80.52\">132</text><rect fill=\"green\" height=\"15.84\" width=\"23.76\" x=\"502.92\" y=\"71.28\"/><circle cx=\"501.6\" cy=\"79.2\" fill=\"green\" r=\"1.32\" stroke=\"green\" stroke-width=\"0\"/><circle cx=\"528.0\" cy=\"79.2\" fill=\"green\" r=\"1.32\" stroke=\"green\" stroke-width=\"0\"/><text alignment-baseline=\"middle\" fill=\"white\" font-family=\"Futura\" font-size=\"9.24\" text-anchor=\"middle\" x=\"514.8\" y=\"80.52\">133</text><rect fill=\"green\" height=\"15.84\" width=\"23.76\" x=\"529.32\" y=\"71.28\"/><circle cx=\"528.0\" cy=\"79.2\" fill=\"green\" r=\"1.32\" stroke=\"green\" stroke-width=\"0\"/><circle cx=\"554.4\" cy=\"79.2\" fill=\"green\" r=\"1.32\" stroke=\"green\" stroke-width=\"0\"/><text alignment-baseline=\"middle\" fill=\"white\" font-family=\"Futura\" font-size=\"9.24\" text-anchor=\"middle\" x=\"541.2\" y=\"80.52\">134</text><rect fill=\"green\" height=\"15.84\" width=\"23.76\" x=\"555.72\" y=\"71.28\"/><circle cx=\"554.4\" cy=\"79.2\" fill=\"green\" r=\"1.32\" stroke=\"green\" stroke-width=\"0\"/><text alignment-baseline=\"middle\" fill=\"white\" font-family=\"Futura\" font-size=\"9.24\" text-anchor=\"middle\" x=\"567.6\" y=\"80.52\">135</text><line stroke=\"red\" stroke-width=\"1.32\" x1=\"79.2\" x2=\"79.2\" y1=\"80.52\" y2=\"104.28\"/><text alignment-baseline=\"middle\" fill=\"black\" font-family=\"Futura\" font-size=\"9.24\" text-anchor=\"start\" x=\"454.08\" y=\"106.92\">5f</text><rect fill=\"red\" height=\"15.84\" width=\"23.76\" x=\"54.12\" y=\"97.68\"/><circle cx=\"79.2\" cy=\"105.6\" fill=\"red\" r=\"1.32\" stroke=\"red\" stroke-width=\"0\"/><text alignment-baseline=\"middle\" fill=\"white\" font-family=\"Futura\" font-size=\"9.24\" text-anchor=\"middle\" x=\"66.0\" y=\"106.92\">136</text><rect fill=\"red\" height=\"15.84\" width=\"23.76\" x=\"80.52\" y=\"97.68\"/><circle cx=\"79.2\" cy=\"105.6\" fill=\"red\" r=\"1.32\" stroke=\"red\" stroke-width=\"0\"/><circle cx=\"105.6\" cy=\"105.6\" fill=\"red\" r=\"1.32\" stroke=\"red\" stroke-width=\"0\"/><text alignment-baseline=\"middle\" fill=\"white\" font-family=\"Futura\" font-size=\"9.24\" text-anchor=\"middle\" x=\"92.4\" y=\"106.92\">137</text><rect fill=\"red\" height=\"15.84\" width=\"23.76\" x=\"106.92\" y=\"97.68\"/><circle cx=\"105.6\" cy=\"105.6\" fill=\"red\" r=\"1.32\" stroke=\"red\" stroke-width=\"0\"/><circle cx=\"132.0\" cy=\"105.6\" fill=\"red\" r=\"1.32\" stroke=\"red\" stroke-width=\"0\"/><text alignment-baseline=\"middle\" fill=\"white\" font-family=\"Futura\" font-size=\"9.24\" text-anchor=\"middle\" x=\"118.8\" y=\"106.92\">152</text><rect fill=\"red\" height=\"15.84\" width=\"23.76\" x=\"133.32\" y=\"97.68\"/><circle cx=\"132.0\" cy=\"105.6\" fill=\"red\" r=\"1.32\" stroke=\"red\" stroke-width=\"0\"/><circle cx=\"158.4\" cy=\"105.6\" fill=\"red\" r=\"1.32\" stroke=\"red\" stroke-width=\"0\"/><text alignment-baseline=\"middle\" fill=\"white\" font-family=\"Futura\" font-size=\"9.24\" text-anchor=\"middle\" x=\"145.2\" y=\"106.92\">153</text><rect fill=\"red\" height=\"15.84\" width=\"23.76\" x=\"159.72\" y=\"97.68\"/><circle cx=\"158.4\" cy=\"105.6\" fill=\"red\" r=\"1.32\" stroke=\"red\" stroke-width=\"0\"/><circle cx=\"184.8\" cy=\"105.6\" fill=\"red\" r=\"1.32\" stroke=\"red\" stroke-width=\"0\"/><text alignment-baseline=\"middle\" fill=\"white\" font-family=\"Futura\" font-size=\"9.24\" text-anchor=\"middle\" x=\"171.6\" y=\"106.92\">154</text><rect fill=\"red\" height=\"15.84\" width=\"23.76\" x=\"186.12\" y=\"97.68\"/><circle cx=\"184.8\" cy=\"105.6\" fill=\"red\" r=\"1.32\" stroke=\"red\" stroke-width=\"0\"/><circle cx=\"211.2\" cy=\"105.6\" fill=\"red\" r=\"1.32\" stroke=\"red\" stroke-width=\"0\"/><text alignment-baseline=\"middle\" fill=\"white\" font-family=\"Futura\" font-size=\"9.24\" text-anchor=\"middle\" x=\"198.0\" y=\"106.92\">155</text><rect fill=\"red\" height=\"15.84\" width=\"23.76\" x=\"212.52\" y=\"97.68\"/><circle cx=\"211.2\" cy=\"105.6\" fill=\"red\" r=\"1.32\" stroke=\"red\" stroke-width=\"0\"/><circle cx=\"237.6\" cy=\"105.6\" fill=\"red\" r=\"1.32\" stroke=\"red\" stroke-width=\"0\"/><text alignment-baseline=\"middle\" fill=\"white\" font-family=\"Futura\" font-size=\"9.24\" text-anchor=\"middle\" x=\"224.4\" y=\"106.92\">156</text><rect fill=\"red\" height=\"15.84\" width=\"23.76\" x=\"238.92\" y=\"97.68\"/><circle cx=\"237.6\" cy=\"105.6\" fill=\"red\" r=\"1.32\" stroke=\"red\" stroke-width=\"0\"/><circle cx=\"264.0\" cy=\"105.6\" fill=\"red\" r=\"1.32\" stroke=\"red\" stroke-width=\"0\"/><text alignment-baseline=\"middle\" fill=\"white\" font-family=\"Futura\" font-size=\"9.24\" text-anchor=\"middle\" x=\"250.8\" y=\"106.92\">157</text><rect fill=\"red\" height=\"15.84\" width=\"23.76\" x=\"265.32\" y=\"97.68\"/><circle cx=\"264.0\" cy=\"105.6\" fill=\"red\" r=\"1.32\" stroke=\"red\" stroke-width=\"0\"/><circle cx=\"290.4\" cy=\"105.6\" fill=\"red\" r=\"1.32\" stroke=\"red\" stroke-width=\"0\"/><text alignment-baseline=\"middle\" fill=\"white\" font-family=\"Futura\" font-size=\"9.24\" text-anchor=\"middle\" x=\"277.2\" y=\"106.92\">158</text><rect fill=\"red\" height=\"15.84\" width=\"23.76\" x=\"291.72\" y=\"97.68\"/><circle cx=\"290.4\" cy=\"105.6\" fill=\"red\" r=\"1.32\" stroke=\"red\" stroke-width=\"0\"/><circle cx=\"316.8\" cy=\"105.6\" fill=\"red\" r=\"1.32\" stroke=\"red\" stroke-width=\"0\"/><text alignment-baseline=\"middle\" fill=\"white\" font-family=\"Futura\" font-size=\"9.24\" text-anchor=\"middle\" x=\"303.6\" y=\"106.92\">159</text><rect fill=\"red\" height=\"15.84\" width=\"23.76\" x=\"318.12\" y=\"97.68\"/><circle cx=\"316.8\" cy=\"105.6\" fill=\"red\" r=\"1.32\" stroke=\"red\" stroke-width=\"0\"/><circle cx=\"343.2\" cy=\"105.6\" fill=\"red\" r=\"1.32\" stroke=\"red\" stroke-width=\"0\"/><text alignment-baseline=\"middle\" fill=\"white\" font-family=\"Futura\" font-size=\"9.24\" text-anchor=\"middle\" x=\"330.0\" y=\"106.92\">160</text><rect fill=\"red\" height=\"15.84\" width=\"23.76\" x=\"344.52\" y=\"97.68\"/><circle cx=\"343.2\" cy=\"105.6\" fill=\"red\" r=\"1.32\" stroke=\"red\" stroke-width=\"0\"/><circle cx=\"369.6\" cy=\"105.6\" fill=\"red\" r=\"1.32\" stroke=\"red\" stroke-width=\"0\"/><text alignment-baseline=\"middle\" fill=\"white\" font-family=\"Futura\" font-size=\"9.24\" text-anchor=\"middle\" x=\"356.4\" y=\"106.92\">161</text><rect fill=\"red\" height=\"15.84\" width=\"23.76\" x=\"370.92\" y=\"97.68\"/><circle cx=\"369.6\" cy=\"105.6\" fill=\"red\" r=\"1.32\" stroke=\"red\" stroke-width=\"0\"/><circle cx=\"396.0\" cy=\"105.6\" fill=\"red\" r=\"1.32\" stroke=\"red\" stroke-width=\"0\"/><text alignment-baseline=\"middle\" fill=\"white\" font-family=\"Futura\" font-size=\"9.24\" text-anchor=\"middle\" x=\"382.8\" y=\"106.92\">162</text><rect fill=\"red\" height=\"15.84\" width=\"23.76\" x=\"397.32\" y=\"97.68\"/><circle cx=\"396.0\" cy=\"105.6\" fill=\"red\" r=\"1.32\" stroke=\"red\" stroke-width=\"0\"/><circle cx=\"422.4\" cy=\"105.6\" fill=\"red\" r=\"1.32\" stroke=\"red\" stroke-width=\"0\"/><text alignment-baseline=\"middle\" fill=\"white\" font-family=\"Futura\" font-size=\"9.24\" text-anchor=\"middle\" x=\"409.2\" y=\"106.92\">163</text><rect fill=\"red\" height=\"15.84\" width=\"23.76\" x=\"423.72\" y=\"97.68\"/><circle cx=\"422.4\" cy=\"105.6\" fill=\"red\" r=\"1.32\" stroke=\"red\" stroke-width=\"0\"/><text alignment-baseline=\"middle\" fill=\"white\" font-family=\"Futura\" font-size=\"9.24\" text-anchor=\"middle\" x=\"435.6\" y=\"106.92\">164</text><line stroke=\"red\" stroke-width=\"1.32\" x1=\"316.8\" x2=\"316.8\" y1=\"106.92\" y2=\"130.68\"/><text alignment-baseline=\"middle\" fill=\"black\" font-family=\"Futura\" font-size=\"9.24\" text-anchor=\"start\" x=\"401.28\" y=\"133.32\">6f</text><rect fill=\"red\" height=\"15.84\" width=\"23.76\" x=\"54.12\" y=\"124.08\"/><circle cx=\"79.2\" cy=\"132.0\" fill=\"red\" r=\"1.32\" stroke=\"red\" stroke-width=\"0\"/><text alignment-baseline=\"middle\" fill=\"white\" font-family=\"Futura\" font-size=\"9.24\" text-anchor=\"middle\" x=\"66.0\" y=\"133.32\">136</text><rect fill=\"red\" height=\"15.84\" width=\"23.76\" x=\"80.52\" y=\"124.08\"/><circle cx=\"79.2\" cy=\"132.0\" fill=\"red\" r=\"1.32\" stroke=\"red\" stroke-width=\"0\"/><circle cx=\"105.6\" cy=\"132.0\" fill=\"red\" r=\"1.32\" stroke=\"red\" stroke-width=\"0\"/><text alignment-baseline=\"middle\" fill=\"white\" font-family=\"Futura\" font-size=\"9.24\" text-anchor=\"middle\" x=\"92.4\" y=\"133.32\">137</text><rect fill=\"red\" height=\"15.84\" width=\"23.76\" x=\"106.92\" y=\"124.08\"/><circle cx=\"105.6\" cy=\"132.0\" fill=\"red\" r=\"1.32\" stroke=\"red\" stroke-width=\"0\"/><circle cx=\"132.0\" cy=\"132.0\" fill=\"red\" r=\"1.32\" stroke=\"red\" stroke-width=\"0\"/><text alignment-baseline=\"middle\" fill=\"white\" font-family=\"Futura\" font-size=\"9.24\" text-anchor=\"middle\" x=\"118.8\" y=\"133.32\">152</text><rect fill=\"red\" height=\"15.84\" width=\"23.76\" x=\"133.32\" y=\"124.08\"/><circle cx=\"132.0\" cy=\"132.0\" fill=\"red\" r=\"1.32\" stroke=\"red\" stroke-width=\"0\"/><circle cx=\"158.4\" cy=\"132.0\" fill=\"red\" r=\"1.32\" stroke=\"red\" stroke-width=\"0\"/><text alignment-baseline=\"middle\" fill=\"white\" font-family=\"Futura\" font-size=\"9.24\" text-anchor=\"middle\" x=\"145.2\" y=\"133.32\">153</text><rect fill=\"red\" height=\"15.84\" width=\"23.76\" x=\"159.72\" y=\"124.08\"/><circle cx=\"158.4\" cy=\"132.0\" fill=\"red\" r=\"1.32\" stroke=\"red\" stroke-width=\"0\"/><circle cx=\"184.8\" cy=\"132.0\" fill=\"red\" r=\"1.32\" stroke=\"red\" stroke-width=\"0\"/><text alignment-baseline=\"middle\" fill=\"white\" font-family=\"Futura\" font-size=\"9.24\" text-anchor=\"middle\" x=\"171.6\" y=\"133.32\">154</text><rect fill=\"red\" height=\"15.84\" width=\"23.76\" x=\"186.12\" y=\"124.08\"/><circle cx=\"184.8\" cy=\"132.0\" fill=\"red\" r=\"1.32\" stroke=\"red\" stroke-width=\"0\"/><circle cx=\"211.2\" cy=\"132.0\" fill=\"red\" r=\"1.32\" stroke=\"red\" stroke-width=\"0\"/><text alignment-baseline=\"middle\" fill=\"white\" font-family=\"Futura\" font-size=\"9.24\" text-anchor=\"middle\" x=\"198.0\" y=\"133.32\">155</text><rect fill=\"red\" height=\"15.84\" width=\"23.76\" x=\"212.52\" y=\"124.08\"/><circle cx=\"211.2\" cy=\"132.0\" fill=\"red\" r=\"1.32\" stroke=\"red\" stroke-width=\"0\"/><circle cx=\"237.6\" cy=\"132.0\" fill=\"red\" r=\"1.32\" stroke=\"red\" stroke-width=\"0\"/><text alignment-baseline=\"middle\" fill=\"white\" font-family=\"Futura\" font-size=\"9.24\" text-anchor=\"middle\" x=\"224.4\" y=\"133.32\">156</text><rect fill=\"red\" height=\"15.84\" width=\"23.76\" x=\"238.92\" y=\"124.08\"/><circle cx=\"237.6\" cy=\"132.0\" fill=\"red\" r=\"1.32\" stroke=\"red\" stroke-width=\"0\"/><circle cx=\"264.0\" cy=\"132.0\" fill=\"red\" r=\"1.32\" stroke=\"red\" stroke-width=\"0\"/><text alignment-baseline=\"middle\" fill=\"white\" font-family=\"Futura\" font-size=\"9.24\" text-anchor=\"middle\" x=\"250.8\" y=\"133.32\">157</text><rect fill=\"red\" height=\"15.84\" width=\"23.76\" x=\"265.32\" y=\"124.08\"/><circle cx=\"264.0\" cy=\"132.0\" fill=\"red\" r=\"1.32\" stroke=\"red\" stroke-width=\"0\"/><circle cx=\"290.4\" cy=\"132.0\" fill=\"red\" r=\"1.32\" stroke=\"red\" stroke-width=\"0\"/><text alignment-baseline=\"middle\" fill=\"white\" font-family=\"Futura\" font-size=\"9.24\" text-anchor=\"middle\" x=\"277.2\" y=\"133.32\">158</text><rect fill=\"red\" height=\"15.84\" width=\"23.76\" x=\"291.72\" y=\"124.08\"/><circle cx=\"290.4\" cy=\"132.0\" fill=\"red\" r=\"1.32\" stroke=\"red\" stroke-width=\"0\"/><circle cx=\"316.8\" cy=\"132.0\" fill=\"red\" r=\"1.32\" stroke=\"red\" stroke-width=\"0\"/><text alignment-baseline=\"middle\" fill=\"white\" font-family=\"Futura\" font-size=\"9.24\" text-anchor=\"middle\" x=\"303.6\" y=\"133.32\">159</text><rect fill=\"red\" height=\"15.84\" width=\"23.76\" x=\"318.12\" y=\"124.08\"/><circle cx=\"316.8\" cy=\"132.0\" fill=\"red\" r=\"1.32\" stroke=\"red\" stroke-width=\"0\"/><circle cx=\"343.2\" cy=\"132.0\" fill=\"red\" r=\"1.32\" stroke=\"red\" stroke-width=\"0\"/><text alignment-baseline=\"middle\" fill=\"white\" font-family=\"Futura\" font-size=\"9.24\" text-anchor=\"middle\" x=\"330.0\" y=\"133.32\">160</text><rect fill=\"red\" height=\"15.84\" width=\"23.76\" x=\"344.52\" y=\"124.08\"/><circle cx=\"343.2\" cy=\"132.0\" fill=\"red\" r=\"1.32\" stroke=\"red\" stroke-width=\"0\"/><circle cx=\"369.6\" cy=\"132.0\" fill=\"red\" r=\"1.32\" stroke=\"red\" stroke-width=\"0\"/><text alignment-baseline=\"middle\" fill=\"white\" font-family=\"Futura\" font-size=\"9.24\" text-anchor=\"middle\" x=\"356.4\" y=\"133.32\">165</text><rect fill=\"red\" height=\"15.84\" width=\"23.76\" x=\"370.92\" y=\"124.08\"/><circle cx=\"369.6\" cy=\"132.0\" fill=\"red\" r=\"1.32\" stroke=\"red\" stroke-width=\"0\"/><text alignment-baseline=\"middle\" fill=\"white\" font-family=\"Futura\" font-size=\"9.24\" text-anchor=\"middle\" x=\"382.8\" y=\"133.32\">166</text><line stroke=\"green\" stroke-width=\"1.32\" x1=\"211.2\" x2=\"211.2\" y1=\"133.32\" y2=\"157.08\"/><text alignment-baseline=\"middle\" fill=\"black\" font-family=\"Futura\" font-size=\"9.24\" text-anchor=\"end\" x=\"21.12\" y=\"159.72\">7b</text><rect fill=\"green\" height=\"15.84\" width=\"23.76\" x=\"27.72\" y=\"150.48\"/><circle cx=\"52.8\" cy=\"158.4\" fill=\"green\" r=\"1.32\" stroke=\"green\" stroke-width=\"0\"/><text alignment-baseline=\"middle\" fill=\"white\" font-family=\"Futura\" font-size=\"9.24\" text-anchor=\"middle\" x=\"39.6\" y=\"159.72\">167</text><rect fill=\"green\" height=\"15.84\" width=\"23.76\" x=\"54.12\" y=\"150.48\"/><circle cx=\"52.8\" cy=\"158.4\" fill=\"green\" r=\"1.32\" stroke=\"green\" stroke-width=\"0\"/><circle cx=\"79.2\" cy=\"158.4\" fill=\"green\" r=\"1.32\" stroke=\"green\" stroke-width=\"0\"/><text alignment-baseline=\"middle\" fill=\"white\" font-family=\"Futura\" font-size=\"9.24\" text-anchor=\"middle\" x=\"66.0\" y=\"159.72\">168</text><rect fill=\"green\" height=\"15.84\" width=\"23.76\" x=\"80.52\" y=\"150.48\"/><circle cx=\"79.2\" cy=\"158.4\" fill=\"green\" r=\"1.32\" stroke=\"green\" stroke-width=\"0\"/><circle cx=\"105.6\" cy=\"158.4\" fill=\"green\" r=\"1.32\" stroke=\"green\" stroke-width=\"0\"/><text alignment-baseline=\"middle\" fill=\"white\" font-family=\"Futura\" font-size=\"9.24\" text-anchor=\"middle\" x=\"92.4\" y=\"159.72\">169</text><rect fill=\"green\" height=\"15.84\" width=\"23.76\" x=\"106.92\" y=\"150.48\"/><circle cx=\"105.6\" cy=\"158.4\" fill=\"green\" r=\"1.32\" stroke=\"green\" stroke-width=\"0\"/><circle cx=\"132.0\" cy=\"158.4\" fill=\"green\" r=\"1.32\" stroke=\"green\" stroke-width=\"0\"/><text alignment-baseline=\"middle\" fill=\"white\" font-family=\"Futura\" font-size=\"9.24\" text-anchor=\"middle\" x=\"118.8\" y=\"159.72\">170</text><rect fill=\"green\" height=\"15.84\" width=\"23.76\" x=\"133.32\" y=\"150.48\"/><circle cx=\"132.0\" cy=\"158.4\" fill=\"green\" r=\"1.32\" stroke=\"green\" stroke-width=\"0\"/><circle cx=\"158.4\" cy=\"158.4\" fill=\"green\" r=\"1.32\" stroke=\"green\" stroke-width=\"0\"/><text alignment-baseline=\"middle\" fill=\"white\" font-family=\"Futura\" font-size=\"9.24\" text-anchor=\"middle\" x=\"145.2\" y=\"159.72\">171</text><rect fill=\"green\" height=\"15.84\" width=\"23.76\" x=\"159.72\" y=\"150.48\"/><circle cx=\"158.4\" cy=\"158.4\" fill=\"green\" r=\"1.32\" stroke=\"green\" stroke-width=\"0\"/><circle cx=\"184.8\" cy=\"158.4\" fill=\"green\" r=\"1.32\" stroke=\"green\" stroke-width=\"0\"/><text alignment-baseline=\"middle\" fill=\"white\" font-family=\"Futura\" font-size=\"9.24\" text-anchor=\"middle\" x=\"171.6\" y=\"159.72\">172</text><rect fill=\"green\" height=\"15.84\" width=\"23.76\" x=\"186.12\" y=\"150.48\"/><circle cx=\"184.8\" cy=\"158.4\" fill=\"green\" r=\"1.32\" stroke=\"green\" stroke-width=\"0\"/><circle cx=\"211.2\" cy=\"158.4\" fill=\"green\" r=\"1.32\" stroke=\"green\" stroke-width=\"0\"/><text alignment-baseline=\"middle\" fill=\"white\" font-family=\"Futura\" font-size=\"9.24\" text-anchor=\"middle\" x=\"198.0\" y=\"159.72\">155</text><rect fill=\"green\" height=\"15.84\" width=\"23.76\" x=\"212.52\" y=\"150.48\"/><circle cx=\"211.2\" cy=\"158.4\" fill=\"green\" r=\"1.32\" stroke=\"green\" stroke-width=\"0\"/><circle cx=\"237.6\" cy=\"158.4\" fill=\"green\" r=\"1.32\" stroke=\"green\" stroke-width=\"0\"/><text alignment-baseline=\"middle\" fill=\"white\" font-family=\"Futura\" font-size=\"9.24\" text-anchor=\"middle\" x=\"224.4\" y=\"159.72\">156</text><rect fill=\"green\" height=\"15.84\" width=\"23.76\" x=\"238.92\" y=\"150.48\"/><circle cx=\"237.6\" cy=\"158.4\" fill=\"green\" r=\"1.32\" stroke=\"green\" stroke-width=\"0\"/><circle cx=\"264.0\" cy=\"158.4\" fill=\"green\" r=\"1.32\" stroke=\"green\" stroke-width=\"0\"/><text alignment-baseline=\"middle\" fill=\"white\" font-family=\"Futura\" font-size=\"9.24\" text-anchor=\"middle\" x=\"250.8\" y=\"159.72\">157</text><rect fill=\"green\" height=\"15.84\" width=\"23.76\" x=\"265.32\" y=\"150.48\"/><circle cx=\"264.0\" cy=\"158.4\" fill=\"green\" r=\"1.32\" stroke=\"green\" stroke-width=\"0\"/><circle cx=\"290.4\" cy=\"158.4\" fill=\"green\" r=\"1.32\" stroke=\"green\" stroke-width=\"0\"/><text alignment-baseline=\"middle\" fill=\"white\" font-family=\"Futura\" font-size=\"9.24\" text-anchor=\"middle\" x=\"277.2\" y=\"159.72\">158</text><rect fill=\"green\" height=\"15.84\" width=\"23.76\" x=\"291.72\" y=\"150.48\"/><circle cx=\"290.4\" cy=\"158.4\" fill=\"green\" r=\"1.32\" stroke=\"green\" stroke-width=\"0\"/><circle cx=\"316.8\" cy=\"158.4\" fill=\"green\" r=\"1.32\" stroke=\"green\" stroke-width=\"0\"/><text alignment-baseline=\"middle\" fill=\"white\" font-family=\"Futura\" font-size=\"9.24\" text-anchor=\"middle\" x=\"303.6\" y=\"159.72\">159</text><rect fill=\"green\" height=\"15.84\" width=\"23.76\" x=\"318.12\" y=\"150.48\"/><circle cx=\"316.8\" cy=\"158.4\" fill=\"green\" r=\"1.32\" stroke=\"green\" stroke-width=\"0\"/><circle cx=\"343.2\" cy=\"158.4\" fill=\"green\" r=\"1.32\" stroke=\"green\" stroke-width=\"0\"/><text alignment-baseline=\"middle\" fill=\"white\" font-family=\"Futura\" font-size=\"9.24\" text-anchor=\"middle\" x=\"330.0\" y=\"159.72\">160</text><rect fill=\"green\" height=\"15.84\" width=\"23.76\" x=\"344.52\" y=\"150.48\"/><circle cx=\"343.2\" cy=\"158.4\" fill=\"green\" r=\"1.32\" stroke=\"green\" stroke-width=\"0\"/><circle cx=\"369.6\" cy=\"158.4\" fill=\"green\" r=\"1.32\" stroke=\"green\" stroke-width=\"0\"/><text alignment-baseline=\"middle\" fill=\"white\" font-family=\"Futura\" font-size=\"9.24\" text-anchor=\"middle\" x=\"356.4\" y=\"159.72\">165</text><rect fill=\"green\" height=\"15.84\" width=\"23.76\" x=\"370.92\" y=\"150.48\"/><circle cx=\"369.6\" cy=\"158.4\" fill=\"green\" r=\"1.32\" stroke=\"green\" stroke-width=\"0\"/><text alignment-baseline=\"middle\" fill=\"white\" font-family=\"Futura\" font-size=\"9.24\" text-anchor=\"middle\" x=\"382.8\" y=\"159.72\">166</text><line stroke=\"red\" stroke-width=\"1.32\" x1=\"105.6\" x2=\"105.6\" y1=\"159.72\" y2=\"183.48\"/><text alignment-baseline=\"middle\" fill=\"black\" font-family=\"Futura\" font-size=\"9.24\" text-anchor=\"start\" x=\"401.28\" y=\"186.12\">8f</text><rect fill=\"red\" height=\"15.84\" width=\"23.76\" x=\"27.72\" y=\"176.88\"/><circle cx=\"52.8\" cy=\"184.8\" fill=\"red\" r=\"1.32\" stroke=\"red\" stroke-width=\"0\"/><text alignment-baseline=\"middle\" fill=\"white\" font-family=\"Futura\" font-size=\"9.24\" text-anchor=\"middle\" x=\"39.6\" y=\"186.12\">167</text><rect fill=\"red\" height=\"15.84\" width=\"23.76\" x=\"54.12\" y=\"176.88\"/><circle cx=\"52.8\" cy=\"184.8\" fill=\"red\" r=\"1.32\" stroke=\"red\" stroke-width=\"0\"/><circle cx=\"79.2\" cy=\"184.8\" fill=\"red\" r=\"1.32\" stroke=\"red\" stroke-width=\"0\"/><text alignment-baseline=\"middle\" fill=\"white\" font-family=\"Futura\" font-size=\"9.24\" text-anchor=\"middle\" x=\"66.0\" y=\"186.12\">168</text><rect fill=\"red\" height=\"15.84\" width=\"23.76\" x=\"80.52\" y=\"176.88\"/><circle cx=\"79.2\" cy=\"184.8\" fill=\"red\" r=\"1.32\" stroke=\"red\" stroke-width=\"0\"/><circle cx=\"105.6\" cy=\"184.8\" fill=\"red\" r=\"1.32\" stroke=\"red\" stroke-width=\"0\"/><text alignment-baseline=\"middle\" fill=\"white\" font-family=\"Futura\" font-size=\"9.24\" text-anchor=\"middle\" x=\"92.4\" y=\"186.12\">169</text><rect fill=\"red\" height=\"15.84\" width=\"23.76\" x=\"106.92\" y=\"176.88\"/><circle cx=\"105.6\" cy=\"184.8\" fill=\"red\" r=\"1.32\" stroke=\"red\" stroke-width=\"0\"/><circle cx=\"132.0\" cy=\"184.8\" fill=\"red\" r=\"1.32\" stroke=\"red\" stroke-width=\"0\"/><text alignment-baseline=\"middle\" fill=\"white\" font-family=\"Futura\" font-size=\"9.24\" text-anchor=\"middle\" x=\"118.8\" y=\"186.12\">170</text><rect fill=\"red\" height=\"15.84\" width=\"23.76\" x=\"133.32\" y=\"176.88\"/><circle cx=\"132.0\" cy=\"184.8\" fill=\"red\" r=\"1.32\" stroke=\"red\" stroke-width=\"0\"/><circle cx=\"158.4\" cy=\"184.8\" fill=\"red\" r=\"1.32\" stroke=\"red\" stroke-width=\"0\"/><text alignment-baseline=\"middle\" fill=\"white\" font-family=\"Futura\" font-size=\"9.24\" text-anchor=\"middle\" x=\"145.2\" y=\"186.12\">173</text><rect fill=\"red\" height=\"15.84\" width=\"23.76\" x=\"159.72\" y=\"176.88\"/><circle cx=\"158.4\" cy=\"184.8\" fill=\"red\" r=\"1.32\" stroke=\"red\" stroke-width=\"0\"/><circle cx=\"184.8\" cy=\"184.8\" fill=\"red\" r=\"1.32\" stroke=\"red\" stroke-width=\"0\"/><text alignment-baseline=\"middle\" fill=\"white\" font-family=\"Futura\" font-size=\"9.24\" text-anchor=\"middle\" x=\"171.6\" y=\"186.12\">174</text><rect fill=\"red\" height=\"15.84\" width=\"23.76\" x=\"186.12\" y=\"176.88\"/><circle cx=\"184.8\" cy=\"184.8\" fill=\"red\" r=\"1.32\" stroke=\"red\" stroke-width=\"0\"/><circle cx=\"211.2\" cy=\"184.8\" fill=\"red\" r=\"1.32\" stroke=\"red\" stroke-width=\"0\"/><text alignment-baseline=\"middle\" fill=\"white\" font-family=\"Futura\" font-size=\"9.24\" text-anchor=\"middle\" x=\"198.0\" y=\"186.12\">175</text><rect fill=\"red\" height=\"15.84\" width=\"23.76\" x=\"212.52\" y=\"176.88\"/><circle cx=\"211.2\" cy=\"184.8\" fill=\"red\" r=\"1.32\" stroke=\"red\" stroke-width=\"0\"/><circle cx=\"237.6\" cy=\"184.8\" fill=\"red\" r=\"1.32\" stroke=\"red\" stroke-width=\"0\"/><text alignment-baseline=\"middle\" fill=\"white\" font-family=\"Futura\" font-size=\"9.24\" text-anchor=\"middle\" x=\"224.4\" y=\"186.12\">176</text><rect fill=\"red\" height=\"15.84\" width=\"23.76\" x=\"238.92\" y=\"176.88\"/><circle cx=\"237.6\" cy=\"184.8\" fill=\"red\" r=\"1.32\" stroke=\"red\" stroke-width=\"0\"/><circle cx=\"264.0\" cy=\"184.8\" fill=\"red\" r=\"1.32\" stroke=\"red\" stroke-width=\"0\"/><text alignment-baseline=\"middle\" fill=\"white\" font-family=\"Futura\" font-size=\"9.24\" text-anchor=\"middle\" x=\"250.8\" y=\"186.12\">177</text><rect fill=\"red\" height=\"15.84\" width=\"23.76\" x=\"265.32\" y=\"176.88\"/><circle cx=\"264.0\" cy=\"184.8\" fill=\"red\" r=\"1.32\" stroke=\"red\" stroke-width=\"0\"/><circle cx=\"290.4\" cy=\"184.8\" fill=\"red\" r=\"1.32\" stroke=\"red\" stroke-width=\"0\"/><text alignment-baseline=\"middle\" fill=\"white\" font-family=\"Futura\" font-size=\"9.24\" text-anchor=\"middle\" x=\"277.2\" y=\"186.12\">178</text><rect fill=\"red\" height=\"15.84\" width=\"23.76\" x=\"291.72\" y=\"176.88\"/><circle cx=\"290.4\" cy=\"184.8\" fill=\"red\" r=\"1.32\" stroke=\"red\" stroke-width=\"0\"/><circle cx=\"316.8\" cy=\"184.8\" fill=\"red\" r=\"1.32\" stroke=\"red\" stroke-width=\"0\"/><text alignment-baseline=\"middle\" fill=\"white\" font-family=\"Futura\" font-size=\"9.24\" text-anchor=\"middle\" x=\"303.6\" y=\"186.12\">179</text><rect fill=\"red\" height=\"15.84\" width=\"23.76\" x=\"318.12\" y=\"176.88\"/><circle cx=\"316.8\" cy=\"184.8\" fill=\"red\" r=\"1.32\" stroke=\"red\" stroke-width=\"0\"/><circle cx=\"343.2\" cy=\"184.8\" fill=\"red\" r=\"1.32\" stroke=\"red\" stroke-width=\"0\"/><text alignment-baseline=\"middle\" fill=\"white\" font-family=\"Futura\" font-size=\"9.24\" text-anchor=\"middle\" x=\"330.0\" y=\"186.12\">180</text><rect fill=\"red\" height=\"15.84\" width=\"23.76\" x=\"344.52\" y=\"176.88\"/><circle cx=\"343.2\" cy=\"184.8\" fill=\"red\" r=\"1.32\" stroke=\"red\" stroke-width=\"0\"/><circle cx=\"369.6\" cy=\"184.8\" fill=\"red\" r=\"1.32\" stroke=\"red\" stroke-width=\"0\"/><text alignment-baseline=\"middle\" fill=\"white\" font-family=\"Futura\" font-size=\"9.24\" text-anchor=\"middle\" x=\"356.4\" y=\"186.12\">181</text><rect fill=\"red\" height=\"15.84\" width=\"23.76\" x=\"370.92\" y=\"176.88\"/><circle cx=\"369.6\" cy=\"184.8\" fill=\"red\" r=\"1.32\" stroke=\"red\" stroke-width=\"0\"/><text alignment-baseline=\"middle\" fill=\"white\" font-family=\"Futura\" font-size=\"9.24\" text-anchor=\"middle\" x=\"382.8\" y=\"186.12\">182</text><line stroke=\"green\" stroke-width=\"1.32\" x1=\"105.6\" x2=\"105.6\" y1=\"186.12\" y2=\"209.88\"/><text alignment-baseline=\"middle\" fill=\"black\" font-family=\"Futura\" font-size=\"9.24\" text-anchor=\"end\" x=\"21.12\" y=\"212.52\">9b</text><rect fill=\"green\" height=\"15.84\" width=\"23.76\" x=\"27.72\" y=\"203.28\"/><circle cx=\"52.8\" cy=\"211.2\" fill=\"green\" r=\"1.32\" stroke=\"green\" stroke-width=\"0\"/><text alignment-baseline=\"middle\" fill=\"white\" font-family=\"Futura\" font-size=\"9.24\" text-anchor=\"middle\" x=\"39.6\" y=\"212.52\">183</text><rect fill=\"green\" height=\"15.84\" width=\"23.76\" x=\"54.12\" y=\"203.28\"/><circle cx=\"52.8\" cy=\"211.2\" fill=\"green\" r=\"1.32\" stroke=\"green\" stroke-width=\"0\"/><circle cx=\"79.2\" cy=\"211.2\" fill=\"green\" r=\"1.32\" stroke=\"green\" stroke-width=\"0\"/><text alignment-baseline=\"middle\" fill=\"white\" font-family=\"Futura\" font-size=\"9.24\" text-anchor=\"middle\" x=\"66.0\" y=\"212.52\">184</text><rect fill=\"green\" height=\"15.84\" width=\"23.76\" x=\"80.52\" y=\"203.28\"/><circle cx=\"79.2\" cy=\"211.2\" fill=\"green\" r=\"1.32\" stroke=\"green\" stroke-width=\"0\"/><circle cx=\"105.6\" cy=\"211.2\" fill=\"green\" r=\"1.32\" stroke=\"green\" stroke-width=\"0\"/><text alignment-baseline=\"middle\" fill=\"white\" font-family=\"Futura\" font-size=\"9.24\" text-anchor=\"middle\" x=\"92.4\" y=\"212.52\">169</text><rect fill=\"green\" height=\"15.84\" width=\"23.76\" x=\"106.92\" y=\"203.28\"/><circle cx=\"105.6\" cy=\"211.2\" fill=\"green\" r=\"1.32\" stroke=\"green\" stroke-width=\"0\"/><circle cx=\"132.0\" cy=\"211.2\" fill=\"green\" r=\"1.32\" stroke=\"green\" stroke-width=\"0\"/><text alignment-baseline=\"middle\" fill=\"white\" font-family=\"Futura\" font-size=\"9.24\" text-anchor=\"middle\" x=\"118.8\" y=\"212.52\">170</text><rect fill=\"green\" height=\"15.84\" width=\"23.76\" x=\"133.32\" y=\"203.28\"/><circle cx=\"132.0\" cy=\"211.2\" fill=\"green\" r=\"1.32\" stroke=\"green\" stroke-width=\"0\"/><circle cx=\"158.4\" cy=\"211.2\" fill=\"green\" r=\"1.32\" stroke=\"green\" stroke-width=\"0\"/><text alignment-baseline=\"middle\" fill=\"white\" font-family=\"Futura\" font-size=\"9.24\" text-anchor=\"middle\" x=\"145.2\" y=\"212.52\">173</text><rect fill=\"green\" height=\"15.84\" width=\"23.76\" x=\"159.72\" y=\"203.28\"/><circle cx=\"158.4\" cy=\"211.2\" fill=\"green\" r=\"1.32\" stroke=\"green\" stroke-width=\"0\"/><circle cx=\"184.8\" cy=\"211.2\" fill=\"green\" r=\"1.32\" stroke=\"green\" stroke-width=\"0\"/><text alignment-baseline=\"middle\" fill=\"white\" font-family=\"Futura\" font-size=\"9.24\" text-anchor=\"middle\" x=\"171.6\" y=\"212.52\">174</text><rect fill=\"green\" height=\"15.84\" width=\"23.76\" x=\"186.12\" y=\"203.28\"/><circle cx=\"184.8\" cy=\"211.2\" fill=\"green\" r=\"1.32\" stroke=\"green\" stroke-width=\"0\"/><circle cx=\"211.2\" cy=\"211.2\" fill=\"green\" r=\"1.32\" stroke=\"green\" stroke-width=\"0\"/><text alignment-baseline=\"middle\" fill=\"white\" font-family=\"Futura\" font-size=\"9.24\" text-anchor=\"middle\" x=\"198.0\" y=\"212.52\">175</text><rect fill=\"green\" height=\"15.84\" width=\"23.76\" x=\"212.52\" y=\"203.28\"/><circle cx=\"211.2\" cy=\"211.2\" fill=\"green\" r=\"1.32\" stroke=\"green\" stroke-width=\"0\"/><circle cx=\"237.6\" cy=\"211.2\" fill=\"green\" r=\"1.32\" stroke=\"green\" stroke-width=\"0\"/><text alignment-baseline=\"middle\" fill=\"white\" font-family=\"Futura\" font-size=\"9.24\" text-anchor=\"middle\" x=\"224.4\" y=\"212.52\">176</text><rect fill=\"green\" height=\"15.84\" width=\"23.76\" x=\"238.92\" y=\"203.28\"/><circle cx=\"237.6\" cy=\"211.2\" fill=\"green\" r=\"1.32\" stroke=\"green\" stroke-width=\"0\"/><circle cx=\"264.0\" cy=\"211.2\" fill=\"green\" r=\"1.32\" stroke=\"green\" stroke-width=\"0\"/><text alignment-baseline=\"middle\" fill=\"white\" font-family=\"Futura\" font-size=\"9.24\" text-anchor=\"middle\" x=\"250.8\" y=\"212.52\">177</text><rect fill=\"green\" height=\"15.84\" width=\"23.76\" x=\"265.32\" y=\"203.28\"/><circle cx=\"264.0\" cy=\"211.2\" fill=\"green\" r=\"1.32\" stroke=\"green\" stroke-width=\"0\"/><circle cx=\"290.4\" cy=\"211.2\" fill=\"green\" r=\"1.32\" stroke=\"green\" stroke-width=\"0\"/><text alignment-baseline=\"middle\" fill=\"white\" font-family=\"Futura\" font-size=\"9.24\" text-anchor=\"middle\" x=\"277.2\" y=\"212.52\">178</text><rect fill=\"green\" height=\"15.84\" width=\"23.76\" x=\"291.72\" y=\"203.28\"/><circle cx=\"290.4\" cy=\"211.2\" fill=\"green\" r=\"1.32\" stroke=\"green\" stroke-width=\"0\"/><circle cx=\"316.8\" cy=\"211.2\" fill=\"green\" r=\"1.32\" stroke=\"green\" stroke-width=\"0\"/><text alignment-baseline=\"middle\" fill=\"white\" font-family=\"Futura\" font-size=\"9.24\" text-anchor=\"middle\" x=\"303.6\" y=\"212.52\">179</text><rect fill=\"green\" height=\"15.84\" width=\"23.76\" x=\"318.12\" y=\"203.28\"/><circle cx=\"316.8\" cy=\"211.2\" fill=\"green\" r=\"1.32\" stroke=\"green\" stroke-width=\"0\"/><circle cx=\"343.2\" cy=\"211.2\" fill=\"green\" r=\"1.32\" stroke=\"green\" stroke-width=\"0\"/><text alignment-baseline=\"middle\" fill=\"white\" font-family=\"Futura\" font-size=\"9.24\" text-anchor=\"middle\" x=\"330.0\" y=\"212.52\">180</text><rect fill=\"green\" height=\"15.84\" width=\"23.76\" x=\"344.52\" y=\"203.28\"/><circle cx=\"343.2\" cy=\"211.2\" fill=\"green\" r=\"1.32\" stroke=\"green\" stroke-width=\"0\"/><circle cx=\"369.6\" cy=\"211.2\" fill=\"green\" r=\"1.32\" stroke=\"green\" stroke-width=\"0\"/><text alignment-baseline=\"middle\" fill=\"white\" font-family=\"Futura\" font-size=\"9.24\" text-anchor=\"middle\" x=\"356.4\" y=\"212.52\">181</text><rect fill=\"green\" height=\"15.84\" width=\"23.76\" x=\"370.92\" y=\"203.28\"/><circle cx=\"369.6\" cy=\"211.2\" fill=\"green\" r=\"1.32\" stroke=\"green\" stroke-width=\"0\"/><text alignment-baseline=\"middle\" fill=\"white\" font-family=\"Futura\" font-size=\"9.24\" text-anchor=\"middle\" x=\"382.8\" y=\"212.52\">182</text><line stroke=\"green\" stroke-width=\"1.32\" x1=\"132.0\" x2=\"132.0\" y1=\"212.52\" y2=\"236.28\"/><text alignment-baseline=\"middle\" fill=\"black\" font-family=\"Futura\" font-size=\"9.24\" text-anchor=\"end\" x=\"21.12\" y=\"238.92\">10b</text><rect fill=\"green\" height=\"15.84\" width=\"23.76\" x=\"27.72\" y=\"229.68\"/><circle cx=\"52.8\" cy=\"237.6\" fill=\"green\" r=\"1.32\" stroke=\"green\" stroke-width=\"0\"/><text alignment-baseline=\"middle\" fill=\"white\" font-family=\"Futura\" font-size=\"9.24\" text-anchor=\"middle\" x=\"39.6\" y=\"238.92\">185</text><rect fill=\"green\" height=\"15.84\" width=\"23.76\" x=\"54.12\" y=\"229.68\"/><circle cx=\"52.8\" cy=\"237.6\" fill=\"green\" r=\"1.32\" stroke=\"green\" stroke-width=\"0\"/><circle cx=\"79.2\" cy=\"237.6\" fill=\"green\" r=\"1.32\" stroke=\"green\" stroke-width=\"0\"/><text alignment-baseline=\"middle\" fill=\"white\" font-family=\"Futura\" font-size=\"9.24\" text-anchor=\"middle\" x=\"66.0\" y=\"238.92\">186</text><rect fill=\"green\" height=\"15.84\" width=\"23.76\" x=\"80.52\" y=\"229.68\"/><circle cx=\"79.2\" cy=\"237.6\" fill=\"green\" r=\"1.32\" stroke=\"green\" stroke-width=\"0\"/><circle cx=\"105.6\" cy=\"237.6\" fill=\"green\" r=\"1.32\" stroke=\"green\" stroke-width=\"0\"/><text alignment-baseline=\"middle\" fill=\"white\" font-family=\"Futura\" font-size=\"9.24\" text-anchor=\"middle\" x=\"92.4\" y=\"238.92\">187</text><rect fill=\"green\" height=\"15.84\" width=\"23.76\" x=\"106.92\" y=\"229.68\"/><circle cx=\"105.6\" cy=\"237.6\" fill=\"green\" r=\"1.32\" stroke=\"green\" stroke-width=\"0\"/><circle cx=\"132.0\" cy=\"237.6\" fill=\"green\" r=\"1.32\" stroke=\"green\" stroke-width=\"0\"/><text alignment-baseline=\"middle\" fill=\"white\" font-family=\"Futura\" font-size=\"9.24\" text-anchor=\"middle\" x=\"118.8\" y=\"238.92\">170</text><rect fill=\"green\" height=\"15.84\" width=\"23.76\" x=\"133.32\" y=\"229.68\"/><circle cx=\"132.0\" cy=\"237.6\" fill=\"green\" r=\"1.32\" stroke=\"green\" stroke-width=\"0\"/><circle cx=\"158.4\" cy=\"237.6\" fill=\"green\" r=\"1.32\" stroke=\"green\" stroke-width=\"0\"/><text alignment-baseline=\"middle\" fill=\"white\" font-family=\"Futura\" font-size=\"9.24\" text-anchor=\"middle\" x=\"145.2\" y=\"238.92\">173</text><rect fill=\"green\" height=\"15.84\" width=\"23.76\" x=\"159.72\" y=\"229.68\"/><circle cx=\"158.4\" cy=\"237.6\" fill=\"green\" r=\"1.32\" stroke=\"green\" stroke-width=\"0\"/><circle cx=\"184.8\" cy=\"237.6\" fill=\"green\" r=\"1.32\" stroke=\"green\" stroke-width=\"0\"/><text alignment-baseline=\"middle\" fill=\"white\" font-family=\"Futura\" font-size=\"9.24\" text-anchor=\"middle\" x=\"171.6\" y=\"238.92\">174</text><rect fill=\"green\" height=\"15.84\" width=\"23.76\" x=\"186.12\" y=\"229.68\"/><circle cx=\"184.8\" cy=\"237.6\" fill=\"green\" r=\"1.32\" stroke=\"green\" stroke-width=\"0\"/><circle cx=\"211.2\" cy=\"237.6\" fill=\"green\" r=\"1.32\" stroke=\"green\" stroke-width=\"0\"/><text alignment-baseline=\"middle\" fill=\"white\" font-family=\"Futura\" font-size=\"9.24\" text-anchor=\"middle\" x=\"198.0\" y=\"238.92\">175</text><rect fill=\"green\" height=\"15.84\" width=\"23.76\" x=\"212.52\" y=\"229.68\"/><circle cx=\"211.2\" cy=\"237.6\" fill=\"green\" r=\"1.32\" stroke=\"green\" stroke-width=\"0\"/><circle cx=\"237.6\" cy=\"237.6\" fill=\"green\" r=\"1.32\" stroke=\"green\" stroke-width=\"0\"/><text alignment-baseline=\"middle\" fill=\"white\" font-family=\"Futura\" font-size=\"9.24\" text-anchor=\"middle\" x=\"224.4\" y=\"238.92\">176</text><rect fill=\"green\" height=\"15.84\" width=\"23.76\" x=\"238.92\" y=\"229.68\"/><circle cx=\"237.6\" cy=\"237.6\" fill=\"green\" r=\"1.32\" stroke=\"green\" stroke-width=\"0\"/><circle cx=\"264.0\" cy=\"237.6\" fill=\"green\" r=\"1.32\" stroke=\"green\" stroke-width=\"0\"/><text alignment-baseline=\"middle\" fill=\"white\" font-family=\"Futura\" font-size=\"9.24\" text-anchor=\"middle\" x=\"250.8\" y=\"238.92\">177</text><rect fill=\"green\" height=\"15.84\" width=\"23.76\" x=\"265.32\" y=\"229.68\"/><circle cx=\"264.0\" cy=\"237.6\" fill=\"green\" r=\"1.32\" stroke=\"green\" stroke-width=\"0\"/><circle cx=\"290.4\" cy=\"237.6\" fill=\"green\" r=\"1.32\" stroke=\"green\" stroke-width=\"0\"/><text alignment-baseline=\"middle\" fill=\"white\" font-family=\"Futura\" font-size=\"9.24\" text-anchor=\"middle\" x=\"277.2\" y=\"238.92\">178</text><rect fill=\"green\" height=\"15.84\" width=\"23.76\" x=\"291.72\" y=\"229.68\"/><circle cx=\"290.4\" cy=\"237.6\" fill=\"green\" r=\"1.32\" stroke=\"green\" stroke-width=\"0\"/><circle cx=\"316.8\" cy=\"237.6\" fill=\"green\" r=\"1.32\" stroke=\"green\" stroke-width=\"0\"/><text alignment-baseline=\"middle\" fill=\"white\" font-family=\"Futura\" font-size=\"9.24\" text-anchor=\"middle\" x=\"303.6\" y=\"238.92\">179</text><rect fill=\"green\" height=\"15.84\" width=\"23.76\" x=\"318.12\" y=\"229.68\"/><circle cx=\"316.8\" cy=\"237.6\" fill=\"green\" r=\"1.32\" stroke=\"green\" stroke-width=\"0\"/><circle cx=\"343.2\" cy=\"237.6\" fill=\"green\" r=\"1.32\" stroke=\"green\" stroke-width=\"0\"/><text alignment-baseline=\"middle\" fill=\"white\" font-family=\"Futura\" font-size=\"9.24\" text-anchor=\"middle\" x=\"330.0\" y=\"238.92\">180</text><rect fill=\"green\" height=\"15.84\" width=\"23.76\" x=\"344.52\" y=\"229.68\"/><circle cx=\"343.2\" cy=\"237.6\" fill=\"green\" r=\"1.32\" stroke=\"green\" stroke-width=\"0\"/><circle cx=\"369.6\" cy=\"237.6\" fill=\"green\" r=\"1.32\" stroke=\"green\" stroke-width=\"0\"/><text alignment-baseline=\"middle\" fill=\"white\" font-family=\"Futura\" font-size=\"9.24\" text-anchor=\"middle\" x=\"356.4\" y=\"238.92\">181</text><rect fill=\"green\" height=\"15.84\" width=\"23.76\" x=\"370.92\" y=\"229.68\"/><circle cx=\"369.6\" cy=\"237.6\" fill=\"green\" r=\"1.32\" stroke=\"green\" stroke-width=\"0\"/><text alignment-baseline=\"middle\" fill=\"white\" font-family=\"Futura\" font-size=\"9.24\" text-anchor=\"middle\" x=\"382.8\" y=\"238.92\">182</text></svg>"
      ],
      "text/plain": [
       "<IPython.core.display.SVG object>"
      ]
     },
     "execution_count": 37,
     "metadata": {},
     "output_type": "execute_result"
    }
   ],
   "source": [
    "view = tree.renderer\n",
    "view.zoom = 1.1\n",
    "view.scale_y = 24\n",
    "view.scale_x = 24\n",
    "view.font_size = 0.35\n",
    "SVG(view.to_svg())"
   ]
  },
  {
   "cell_type": "markdown",
   "metadata": {},
   "source": [
    "An alternate view which is similar to the standard way of plotting"
   ]
  },
  {
   "cell_type": "code",
   "execution_count": 38,
   "metadata": {
    "collapsed": false
   },
   "outputs": [
    {
     "data": {
      "image/svg+xml": [
       "<svg baseProfile=\"full\" height=\"165.0px\" version=\"1.1\" width=\"686.4px\" xmlns=\"http://www.w3.org/2000/svg\" xmlns:ev=\"http://www.w3.org/2001/xml-events\" xmlns:xlink=\"http://www.w3.org/1999/xlink\"><defs/><text alignment-baseline=\"middle\" fill=\"black\" font-family=\"Times\" font-size=\"8.25\" text-anchor=\"end\" x=\"21.12\" y=\"17.325\">2b</text><rect fill=\"black\" height=\"9.9\" width=\"26.928\" x=\"26.136\" y=\"11.55\"/><circle cx=\"26.4\" cy=\"16.5\" fill=\"black\" r=\"-0.264\" stroke=\"black\" stroke-width=\"0\"/><circle cx=\"52.8\" cy=\"16.5\" fill=\"black\" r=\"-0.264\" stroke=\"black\" stroke-width=\"0\"/><text alignment-baseline=\"middle\" fill=\"white\" font-family=\"Times\" font-size=\"8.25\" text-anchor=\"middle\" x=\"39.6\" y=\"17.325\"/><rect fill=\"black\" height=\"9.9\" width=\"26.928\" x=\"52.536\" y=\"11.55\"/><circle cx=\"52.8\" cy=\"16.5\" fill=\"black\" r=\"-0.264\" stroke=\"black\" stroke-width=\"0\"/><circle cx=\"79.2\" cy=\"16.5\" fill=\"black\" r=\"-0.264\" stroke=\"black\" stroke-width=\"0\"/><text alignment-baseline=\"middle\" fill=\"white\" font-family=\"Times\" font-size=\"8.25\" text-anchor=\"middle\" x=\"66.0\" y=\"17.325\"/><rect fill=\"black\" height=\"9.9\" width=\"26.928\" x=\"78.936\" y=\"11.55\"/><circle cx=\"79.2\" cy=\"16.5\" fill=\"black\" r=\"-0.264\" stroke=\"black\" stroke-width=\"0\"/><circle cx=\"105.6\" cy=\"16.5\" fill=\"black\" r=\"-0.264\" stroke=\"black\" stroke-width=\"0\"/><text alignment-baseline=\"middle\" fill=\"white\" font-family=\"Times\" font-size=\"8.25\" text-anchor=\"middle\" x=\"92.4\" y=\"17.325\"/><rect fill=\"black\" height=\"9.9\" width=\"26.928\" x=\"105.336\" y=\"11.55\"/><circle cx=\"105.6\" cy=\"16.5\" fill=\"black\" r=\"-0.264\" stroke=\"black\" stroke-width=\"0\"/><circle cx=\"132.0\" cy=\"16.5\" fill=\"black\" r=\"-0.264\" stroke=\"black\" stroke-width=\"0\"/><text alignment-baseline=\"middle\" fill=\"white\" font-family=\"Times\" font-size=\"8.25\" text-anchor=\"middle\" x=\"118.8\" y=\"17.325\"/><rect fill=\"black\" height=\"9.9\" width=\"26.928\" x=\"131.736\" y=\"11.55\"/><circle cx=\"132.0\" cy=\"16.5\" fill=\"black\" r=\"-0.264\" stroke=\"black\" stroke-width=\"0\"/><circle cx=\"158.4\" cy=\"16.5\" fill=\"black\" r=\"-0.264\" stroke=\"black\" stroke-width=\"0\"/><text alignment-baseline=\"middle\" fill=\"white\" font-family=\"Times\" font-size=\"8.25\" text-anchor=\"middle\" x=\"145.2\" y=\"17.325\"/><rect fill=\"black\" height=\"9.9\" width=\"26.928\" x=\"158.136\" y=\"11.55\"/><circle cx=\"158.4\" cy=\"16.5\" fill=\"black\" r=\"-0.264\" stroke=\"black\" stroke-width=\"0\"/><circle cx=\"184.8\" cy=\"16.5\" fill=\"black\" r=\"-0.264\" stroke=\"black\" stroke-width=\"0\"/><text alignment-baseline=\"middle\" fill=\"white\" font-family=\"Times\" font-size=\"8.25\" text-anchor=\"middle\" x=\"171.6\" y=\"17.325\"/><rect fill=\"black\" height=\"9.9\" width=\"26.928\" x=\"184.536\" y=\"11.55\"/><circle cx=\"184.8\" cy=\"16.5\" fill=\"black\" r=\"-0.264\" stroke=\"black\" stroke-width=\"0\"/><circle cx=\"211.2\" cy=\"16.5\" fill=\"black\" r=\"-0.264\" stroke=\"black\" stroke-width=\"0\"/><text alignment-baseline=\"middle\" fill=\"white\" font-family=\"Times\" font-size=\"8.25\" text-anchor=\"middle\" x=\"198.0\" y=\"17.325\"/><rect fill=\"black\" height=\"9.9\" width=\"26.928\" x=\"210.936\" y=\"11.55\"/><circle cx=\"211.2\" cy=\"16.5\" fill=\"black\" r=\"-0.264\" stroke=\"black\" stroke-width=\"0\"/><circle cx=\"237.6\" cy=\"16.5\" fill=\"black\" r=\"-0.264\" stroke=\"black\" stroke-width=\"0\"/><text alignment-baseline=\"middle\" fill=\"white\" font-family=\"Times\" font-size=\"8.25\" text-anchor=\"middle\" x=\"224.4\" y=\"17.325\"/><rect fill=\"black\" height=\"9.9\" width=\"26.928\" x=\"237.336\" y=\"11.55\"/><circle cx=\"237.6\" cy=\"16.5\" fill=\"black\" r=\"-0.264\" stroke=\"black\" stroke-width=\"0\"/><circle cx=\"264.0\" cy=\"16.5\" fill=\"black\" r=\"-0.264\" stroke=\"black\" stroke-width=\"0\"/><text alignment-baseline=\"middle\" fill=\"white\" font-family=\"Times\" font-size=\"8.25\" text-anchor=\"middle\" x=\"250.8\" y=\"17.325\"/><rect fill=\"black\" height=\"9.9\" width=\"26.928\" x=\"263.736\" y=\"11.55\"/><circle cx=\"264.0\" cy=\"16.5\" fill=\"black\" r=\"-0.264\" stroke=\"black\" stroke-width=\"0\"/><circle cx=\"290.4\" cy=\"16.5\" fill=\"black\" r=\"-0.264\" stroke=\"black\" stroke-width=\"0\"/><text alignment-baseline=\"middle\" fill=\"white\" font-family=\"Times\" font-size=\"8.25\" text-anchor=\"middle\" x=\"277.2\" y=\"17.325\"/><rect fill=\"black\" height=\"9.9\" width=\"26.928\" x=\"290.136\" y=\"11.55\"/><circle cx=\"290.4\" cy=\"16.5\" fill=\"black\" r=\"-0.264\" stroke=\"black\" stroke-width=\"0\"/><circle cx=\"316.8\" cy=\"16.5\" fill=\"black\" r=\"-0.264\" stroke=\"black\" stroke-width=\"0\"/><text alignment-baseline=\"middle\" fill=\"white\" font-family=\"Times\" font-size=\"8.25\" text-anchor=\"middle\" x=\"303.6\" y=\"17.325\"/><rect fill=\"black\" height=\"9.9\" width=\"26.928\" x=\"316.536\" y=\"11.55\"/><circle cx=\"316.8\" cy=\"16.5\" fill=\"black\" r=\"-0.264\" stroke=\"black\" stroke-width=\"0\"/><circle cx=\"343.2\" cy=\"16.5\" fill=\"black\" r=\"-0.264\" stroke=\"black\" stroke-width=\"0\"/><text alignment-baseline=\"middle\" fill=\"white\" font-family=\"Times\" font-size=\"8.25\" text-anchor=\"middle\" x=\"330.0\" y=\"17.325\"/><rect fill=\"black\" height=\"9.9\" width=\"26.928\" x=\"342.936\" y=\"11.55\"/><circle cx=\"343.2\" cy=\"16.5\" fill=\"black\" r=\"-0.264\" stroke=\"black\" stroke-width=\"0\"/><circle cx=\"369.6\" cy=\"16.5\" fill=\"black\" r=\"-0.264\" stroke=\"black\" stroke-width=\"0\"/><text alignment-baseline=\"middle\" fill=\"white\" font-family=\"Times\" font-size=\"8.25\" text-anchor=\"middle\" x=\"356.4\" y=\"17.325\"/><rect fill=\"black\" height=\"9.9\" width=\"26.928\" x=\"369.336\" y=\"11.55\"/><circle cx=\"369.6\" cy=\"16.5\" fill=\"black\" r=\"-0.264\" stroke=\"black\" stroke-width=\"0\"/><circle cx=\"396.0\" cy=\"16.5\" fill=\"black\" r=\"-0.264\" stroke=\"black\" stroke-width=\"0\"/><text alignment-baseline=\"middle\" fill=\"white\" font-family=\"Times\" font-size=\"8.25\" text-anchor=\"middle\" x=\"382.8\" y=\"17.325\"/><rect fill=\"black\" height=\"9.9\" width=\"26.928\" x=\"395.736\" y=\"11.55\"/><circle cx=\"396.0\" cy=\"16.5\" fill=\"black\" r=\"-0.264\" stroke=\"black\" stroke-width=\"0\"/><circle cx=\"422.4\" cy=\"16.5\" fill=\"black\" r=\"-0.264\" stroke=\"black\" stroke-width=\"0\"/><text alignment-baseline=\"middle\" fill=\"white\" font-family=\"Times\" font-size=\"8.25\" text-anchor=\"middle\" x=\"409.2\" y=\"17.325\"/><rect fill=\"black\" height=\"9.9\" width=\"26.928\" x=\"422.136\" y=\"11.55\"/><circle cx=\"422.4\" cy=\"16.5\" fill=\"black\" r=\"-0.264\" stroke=\"black\" stroke-width=\"0\"/><circle cx=\"448.8\" cy=\"16.5\" fill=\"black\" r=\"-0.264\" stroke=\"black\" stroke-width=\"0\"/><text alignment-baseline=\"middle\" fill=\"white\" font-family=\"Times\" font-size=\"8.25\" text-anchor=\"middle\" x=\"435.6\" y=\"17.325\"/><rect fill=\"black\" height=\"9.9\" width=\"26.928\" x=\"448.536\" y=\"11.55\"/><circle cx=\"448.8\" cy=\"16.5\" fill=\"black\" r=\"-0.264\" stroke=\"black\" stroke-width=\"0\"/><circle cx=\"475.2\" cy=\"16.5\" fill=\"black\" r=\"-0.264\" stroke=\"black\" stroke-width=\"0\"/><text alignment-baseline=\"middle\" fill=\"white\" font-family=\"Times\" font-size=\"8.25\" text-anchor=\"middle\" x=\"462.0\" y=\"17.325\"/><rect fill=\"black\" height=\"9.9\" width=\"26.928\" x=\"474.936\" y=\"11.55\"/><circle cx=\"475.2\" cy=\"16.5\" fill=\"black\" r=\"-0.264\" stroke=\"black\" stroke-width=\"0\"/><circle cx=\"501.6\" cy=\"16.5\" fill=\"black\" r=\"-0.264\" stroke=\"black\" stroke-width=\"0\"/><text alignment-baseline=\"middle\" fill=\"white\" font-family=\"Times\" font-size=\"8.25\" text-anchor=\"middle\" x=\"488.4\" y=\"17.325\"/><rect fill=\"black\" height=\"9.9\" width=\"26.928\" x=\"501.336\" y=\"11.55\"/><circle cx=\"501.6\" cy=\"16.5\" fill=\"black\" r=\"-0.264\" stroke=\"black\" stroke-width=\"0\"/><circle cx=\"528.0\" cy=\"16.5\" fill=\"black\" r=\"-0.264\" stroke=\"black\" stroke-width=\"0\"/><text alignment-baseline=\"middle\" fill=\"white\" font-family=\"Times\" font-size=\"8.25\" text-anchor=\"middle\" x=\"514.8\" y=\"17.325\"/><rect fill=\"black\" height=\"9.9\" width=\"26.928\" x=\"527.736\" y=\"11.55\"/><circle cx=\"528.0\" cy=\"16.5\" fill=\"black\" r=\"-0.264\" stroke=\"black\" stroke-width=\"0\"/><circle cx=\"554.4\" cy=\"16.5\" fill=\"black\" r=\"-0.264\" stroke=\"black\" stroke-width=\"0\"/><text alignment-baseline=\"middle\" fill=\"white\" font-family=\"Times\" font-size=\"8.25\" text-anchor=\"middle\" x=\"541.2\" y=\"17.325\"/><rect fill=\"black\" height=\"9.9\" width=\"26.928\" x=\"554.136\" y=\"11.55\"/><circle cx=\"554.4\" cy=\"16.5\" fill=\"black\" r=\"-0.264\" stroke=\"black\" stroke-width=\"0\"/><circle cx=\"580.8\" cy=\"16.5\" fill=\"black\" r=\"-0.264\" stroke=\"black\" stroke-width=\"0\"/><text alignment-baseline=\"middle\" fill=\"white\" font-family=\"Times\" font-size=\"8.25\" text-anchor=\"middle\" x=\"567.6\" y=\"17.325\"/><rect fill=\"black\" height=\"9.9\" width=\"26.928\" x=\"580.536\" y=\"11.55\"/><circle cx=\"580.8\" cy=\"16.5\" fill=\"black\" r=\"-0.264\" stroke=\"black\" stroke-width=\"0\"/><circle cx=\"607.2\" cy=\"16.5\" fill=\"black\" r=\"-0.264\" stroke=\"black\" stroke-width=\"0\"/><text alignment-baseline=\"middle\" fill=\"white\" font-family=\"Times\" font-size=\"8.25\" text-anchor=\"middle\" x=\"594.0\" y=\"17.325\"/><rect fill=\"black\" height=\"9.9\" width=\"26.928\" x=\"606.936\" y=\"11.55\"/><circle cx=\"607.2\" cy=\"16.5\" fill=\"black\" r=\"-0.264\" stroke=\"black\" stroke-width=\"0\"/><circle cx=\"633.6\" cy=\"16.5\" fill=\"black\" r=\"-0.264\" stroke=\"black\" stroke-width=\"0\"/><text alignment-baseline=\"middle\" fill=\"white\" font-family=\"Times\" font-size=\"8.25\" text-anchor=\"middle\" x=\"620.4\" y=\"17.325\"/><rect fill=\"black\" height=\"9.9\" width=\"26.928\" x=\"633.336\" y=\"11.55\"/><circle cx=\"633.6\" cy=\"16.5\" fill=\"black\" r=\"-0.264\" stroke=\"black\" stroke-width=\"0\"/><circle cx=\"660.0\" cy=\"16.5\" fill=\"black\" r=\"-0.264\" stroke=\"black\" stroke-width=\"0\"/><text alignment-baseline=\"middle\" fill=\"white\" font-family=\"Times\" font-size=\"8.25\" text-anchor=\"middle\" x=\"646.8\" y=\"17.325\"/><line stroke=\"red\" stroke-width=\"1.32\" x1=\"184.8\" x2=\"184.8\" y1=\"16.335\" y2=\"33.165\"/><text alignment-baseline=\"middle\" fill=\"black\" font-family=\"Times\" font-size=\"8.25\" text-anchor=\"start\" x=\"586.08\" y=\"33.825\">3f</text><rect fill=\"red\" height=\"9.9\" width=\"26.928\" x=\"26.136\" y=\"28.05\"/><circle cx=\"26.4\" cy=\"33.0\" fill=\"red\" r=\"-0.264\" stroke=\"red\" stroke-width=\"0\"/><circle cx=\"52.8\" cy=\"33.0\" fill=\"red\" r=\"-0.264\" stroke=\"red\" stroke-width=\"0\"/><text alignment-baseline=\"middle\" fill=\"white\" font-family=\"Times\" font-size=\"8.25\" text-anchor=\"middle\" x=\"39.6\" y=\"33.825\"/><rect fill=\"red\" height=\"9.9\" width=\"26.928\" x=\"52.536\" y=\"28.05\"/><circle cx=\"52.8\" cy=\"33.0\" fill=\"red\" r=\"-0.264\" stroke=\"red\" stroke-width=\"0\"/><circle cx=\"79.2\" cy=\"33.0\" fill=\"red\" r=\"-0.264\" stroke=\"red\" stroke-width=\"0\"/><text alignment-baseline=\"middle\" fill=\"white\" font-family=\"Times\" font-size=\"8.25\" text-anchor=\"middle\" x=\"66.0\" y=\"33.825\"/><rect fill=\"red\" height=\"9.9\" width=\"26.928\" x=\"78.936\" y=\"28.05\"/><circle cx=\"79.2\" cy=\"33.0\" fill=\"red\" r=\"-0.264\" stroke=\"red\" stroke-width=\"0\"/><circle cx=\"105.6\" cy=\"33.0\" fill=\"red\" r=\"-0.264\" stroke=\"red\" stroke-width=\"0\"/><text alignment-baseline=\"middle\" fill=\"white\" font-family=\"Times\" font-size=\"8.25\" text-anchor=\"middle\" x=\"92.4\" y=\"33.825\"/><rect fill=\"red\" height=\"9.9\" width=\"26.928\" x=\"105.336\" y=\"28.05\"/><circle cx=\"105.6\" cy=\"33.0\" fill=\"red\" r=\"-0.264\" stroke=\"red\" stroke-width=\"0\"/><circle cx=\"132.0\" cy=\"33.0\" fill=\"red\" r=\"-0.264\" stroke=\"red\" stroke-width=\"0\"/><text alignment-baseline=\"middle\" fill=\"white\" font-family=\"Times\" font-size=\"8.25\" text-anchor=\"middle\" x=\"118.8\" y=\"33.825\"/><rect fill=\"red\" height=\"9.9\" width=\"26.928\" x=\"131.736\" y=\"28.05\"/><circle cx=\"132.0\" cy=\"33.0\" fill=\"red\" r=\"-0.264\" stroke=\"red\" stroke-width=\"0\"/><circle cx=\"158.4\" cy=\"33.0\" fill=\"red\" r=\"-0.264\" stroke=\"red\" stroke-width=\"0\"/><text alignment-baseline=\"middle\" fill=\"white\" font-family=\"Times\" font-size=\"8.25\" text-anchor=\"middle\" x=\"145.2\" y=\"33.825\"/><rect fill=\"red\" height=\"9.9\" width=\"26.928\" x=\"158.136\" y=\"28.05\"/><circle cx=\"158.4\" cy=\"33.0\" fill=\"red\" r=\"-0.264\" stroke=\"red\" stroke-width=\"0\"/><circle cx=\"184.8\" cy=\"33.0\" fill=\"red\" r=\"-0.264\" stroke=\"red\" stroke-width=\"0\"/><text alignment-baseline=\"middle\" fill=\"white\" font-family=\"Times\" font-size=\"8.25\" text-anchor=\"middle\" x=\"171.6\" y=\"33.825\"/><rect fill=\"red\" height=\"9.9\" width=\"26.928\" x=\"184.536\" y=\"28.05\"/><circle cx=\"184.8\" cy=\"33.0\" fill=\"red\" r=\"-0.264\" stroke=\"red\" stroke-width=\"0\"/><circle cx=\"211.2\" cy=\"33.0\" fill=\"red\" r=\"-0.264\" stroke=\"red\" stroke-width=\"0\"/><text alignment-baseline=\"middle\" fill=\"white\" font-family=\"Times\" font-size=\"8.25\" text-anchor=\"middle\" x=\"198.0\" y=\"33.825\"/><rect fill=\"red\" height=\"9.9\" width=\"26.928\" x=\"210.936\" y=\"28.05\"/><circle cx=\"211.2\" cy=\"33.0\" fill=\"red\" r=\"-0.264\" stroke=\"red\" stroke-width=\"0\"/><circle cx=\"237.6\" cy=\"33.0\" fill=\"red\" r=\"-0.264\" stroke=\"red\" stroke-width=\"0\"/><text alignment-baseline=\"middle\" fill=\"white\" font-family=\"Times\" font-size=\"8.25\" text-anchor=\"middle\" x=\"224.4\" y=\"33.825\"/><rect fill=\"red\" height=\"9.9\" width=\"26.928\" x=\"237.336\" y=\"28.05\"/><circle cx=\"237.6\" cy=\"33.0\" fill=\"red\" r=\"-0.264\" stroke=\"red\" stroke-width=\"0\"/><circle cx=\"264.0\" cy=\"33.0\" fill=\"red\" r=\"-0.264\" stroke=\"red\" stroke-width=\"0\"/><text alignment-baseline=\"middle\" fill=\"white\" font-family=\"Times\" font-size=\"8.25\" text-anchor=\"middle\" x=\"250.8\" y=\"33.825\"/><rect fill=\"red\" height=\"9.9\" width=\"26.928\" x=\"263.736\" y=\"28.05\"/><circle cx=\"264.0\" cy=\"33.0\" fill=\"red\" r=\"-0.264\" stroke=\"red\" stroke-width=\"0\"/><circle cx=\"290.4\" cy=\"33.0\" fill=\"red\" r=\"-0.264\" stroke=\"red\" stroke-width=\"0\"/><text alignment-baseline=\"middle\" fill=\"white\" font-family=\"Times\" font-size=\"8.25\" text-anchor=\"middle\" x=\"277.2\" y=\"33.825\"/><rect fill=\"red\" height=\"9.9\" width=\"26.928\" x=\"290.136\" y=\"28.05\"/><circle cx=\"290.4\" cy=\"33.0\" fill=\"red\" r=\"-0.264\" stroke=\"red\" stroke-width=\"0\"/><circle cx=\"316.8\" cy=\"33.0\" fill=\"red\" r=\"-0.264\" stroke=\"red\" stroke-width=\"0\"/><text alignment-baseline=\"middle\" fill=\"white\" font-family=\"Times\" font-size=\"8.25\" text-anchor=\"middle\" x=\"303.6\" y=\"33.825\"/><rect fill=\"red\" height=\"9.9\" width=\"26.928\" x=\"316.536\" y=\"28.05\"/><circle cx=\"316.8\" cy=\"33.0\" fill=\"red\" r=\"-0.264\" stroke=\"red\" stroke-width=\"0\"/><circle cx=\"343.2\" cy=\"33.0\" fill=\"red\" r=\"-0.264\" stroke=\"red\" stroke-width=\"0\"/><text alignment-baseline=\"middle\" fill=\"white\" font-family=\"Times\" font-size=\"8.25\" text-anchor=\"middle\" x=\"330.0\" y=\"33.825\"/><rect fill=\"red\" height=\"9.9\" width=\"26.928\" x=\"342.936\" y=\"28.05\"/><circle cx=\"343.2\" cy=\"33.0\" fill=\"red\" r=\"-0.264\" stroke=\"red\" stroke-width=\"0\"/><circle cx=\"369.6\" cy=\"33.0\" fill=\"red\" r=\"-0.264\" stroke=\"red\" stroke-width=\"0\"/><text alignment-baseline=\"middle\" fill=\"white\" font-family=\"Times\" font-size=\"8.25\" text-anchor=\"middle\" x=\"356.4\" y=\"33.825\"/><rect fill=\"red\" height=\"9.9\" width=\"26.928\" x=\"369.336\" y=\"28.05\"/><circle cx=\"369.6\" cy=\"33.0\" fill=\"red\" r=\"-0.264\" stroke=\"red\" stroke-width=\"0\"/><circle cx=\"396.0\" cy=\"33.0\" fill=\"red\" r=\"-0.264\" stroke=\"red\" stroke-width=\"0\"/><text alignment-baseline=\"middle\" fill=\"white\" font-family=\"Times\" font-size=\"8.25\" text-anchor=\"middle\" x=\"382.8\" y=\"33.825\"/><rect fill=\"red\" height=\"9.9\" width=\"26.928\" x=\"395.736\" y=\"28.05\"/><circle cx=\"396.0\" cy=\"33.0\" fill=\"red\" r=\"-0.264\" stroke=\"red\" stroke-width=\"0\"/><circle cx=\"422.4\" cy=\"33.0\" fill=\"red\" r=\"-0.264\" stroke=\"red\" stroke-width=\"0\"/><text alignment-baseline=\"middle\" fill=\"white\" font-family=\"Times\" font-size=\"8.25\" text-anchor=\"middle\" x=\"409.2\" y=\"33.825\"/><rect fill=\"red\" height=\"9.9\" width=\"26.928\" x=\"422.136\" y=\"28.05\"/><circle cx=\"422.4\" cy=\"33.0\" fill=\"red\" r=\"-0.264\" stroke=\"red\" stroke-width=\"0\"/><circle cx=\"448.8\" cy=\"33.0\" fill=\"red\" r=\"-0.264\" stroke=\"red\" stroke-width=\"0\"/><text alignment-baseline=\"middle\" fill=\"white\" font-family=\"Times\" font-size=\"8.25\" text-anchor=\"middle\" x=\"435.6\" y=\"33.825\"/><rect fill=\"red\" height=\"9.9\" width=\"26.928\" x=\"448.536\" y=\"28.05\"/><circle cx=\"448.8\" cy=\"33.0\" fill=\"red\" r=\"-0.264\" stroke=\"red\" stroke-width=\"0\"/><circle cx=\"475.2\" cy=\"33.0\" fill=\"red\" r=\"-0.264\" stroke=\"red\" stroke-width=\"0\"/><text alignment-baseline=\"middle\" fill=\"white\" font-family=\"Times\" font-size=\"8.25\" text-anchor=\"middle\" x=\"462.0\" y=\"33.825\"/><rect fill=\"red\" height=\"9.9\" width=\"26.928\" x=\"474.936\" y=\"28.05\"/><circle cx=\"475.2\" cy=\"33.0\" fill=\"red\" r=\"-0.264\" stroke=\"red\" stroke-width=\"0\"/><circle cx=\"501.6\" cy=\"33.0\" fill=\"red\" r=\"-0.264\" stroke=\"red\" stroke-width=\"0\"/><text alignment-baseline=\"middle\" fill=\"white\" font-family=\"Times\" font-size=\"8.25\" text-anchor=\"middle\" x=\"488.4\" y=\"33.825\"/><rect fill=\"red\" height=\"9.9\" width=\"26.928\" x=\"501.336\" y=\"28.05\"/><circle cx=\"501.6\" cy=\"33.0\" fill=\"red\" r=\"-0.264\" stroke=\"red\" stroke-width=\"0\"/><circle cx=\"528.0\" cy=\"33.0\" fill=\"red\" r=\"-0.264\" stroke=\"red\" stroke-width=\"0\"/><text alignment-baseline=\"middle\" fill=\"white\" font-family=\"Times\" font-size=\"8.25\" text-anchor=\"middle\" x=\"514.8\" y=\"33.825\"/><rect fill=\"red\" height=\"9.9\" width=\"26.928\" x=\"527.736\" y=\"28.05\"/><circle cx=\"528.0\" cy=\"33.0\" fill=\"red\" r=\"-0.264\" stroke=\"red\" stroke-width=\"0\"/><circle cx=\"554.4\" cy=\"33.0\" fill=\"red\" r=\"-0.264\" stroke=\"red\" stroke-width=\"0\"/><text alignment-baseline=\"middle\" fill=\"white\" font-family=\"Times\" font-size=\"8.25\" text-anchor=\"middle\" x=\"541.2\" y=\"33.825\"/><rect fill=\"red\" height=\"9.9\" width=\"26.928\" x=\"554.136\" y=\"28.05\"/><circle cx=\"554.4\" cy=\"33.0\" fill=\"red\" r=\"-0.264\" stroke=\"red\" stroke-width=\"0\"/><circle cx=\"580.8\" cy=\"33.0\" fill=\"red\" r=\"-0.264\" stroke=\"red\" stroke-width=\"0\"/><text alignment-baseline=\"middle\" fill=\"white\" font-family=\"Times\" font-size=\"8.25\" text-anchor=\"middle\" x=\"567.6\" y=\"33.825\"/><line stroke=\"green\" stroke-width=\"1.32\" x1=\"501.6\" x2=\"501.6\" y1=\"32.835\" y2=\"49.665\"/><text alignment-baseline=\"middle\" fill=\"black\" font-family=\"Times\" font-size=\"8.25\" text-anchor=\"end\" x=\"47.52\" y=\"50.325\">4b</text><rect fill=\"green\" height=\"9.9\" width=\"26.928\" x=\"52.536\" y=\"44.55\"/><circle cx=\"52.8\" cy=\"49.5\" fill=\"green\" r=\"-0.264\" stroke=\"green\" stroke-width=\"0\"/><circle cx=\"79.2\" cy=\"49.5\" fill=\"green\" r=\"-0.264\" stroke=\"green\" stroke-width=\"0\"/><text alignment-baseline=\"middle\" fill=\"white\" font-family=\"Times\" font-size=\"8.25\" text-anchor=\"middle\" x=\"66.0\" y=\"50.325\"/><rect fill=\"green\" height=\"9.9\" width=\"26.928\" x=\"78.936\" y=\"44.55\"/><circle cx=\"79.2\" cy=\"49.5\" fill=\"green\" r=\"-0.264\" stroke=\"green\" stroke-width=\"0\"/><circle cx=\"105.6\" cy=\"49.5\" fill=\"green\" r=\"-0.264\" stroke=\"green\" stroke-width=\"0\"/><text alignment-baseline=\"middle\" fill=\"white\" font-family=\"Times\" font-size=\"8.25\" text-anchor=\"middle\" x=\"92.4\" y=\"50.325\"/><rect fill=\"green\" height=\"9.9\" width=\"26.928\" x=\"105.336\" y=\"44.55\"/><circle cx=\"105.6\" cy=\"49.5\" fill=\"green\" r=\"-0.264\" stroke=\"green\" stroke-width=\"0\"/><circle cx=\"132.0\" cy=\"49.5\" fill=\"green\" r=\"-0.264\" stroke=\"green\" stroke-width=\"0\"/><text alignment-baseline=\"middle\" fill=\"white\" font-family=\"Times\" font-size=\"8.25\" text-anchor=\"middle\" x=\"118.8\" y=\"50.325\"/><rect fill=\"green\" height=\"9.9\" width=\"26.928\" x=\"131.736\" y=\"44.55\"/><circle cx=\"132.0\" cy=\"49.5\" fill=\"green\" r=\"-0.264\" stroke=\"green\" stroke-width=\"0\"/><circle cx=\"158.4\" cy=\"49.5\" fill=\"green\" r=\"-0.264\" stroke=\"green\" stroke-width=\"0\"/><text alignment-baseline=\"middle\" fill=\"white\" font-family=\"Times\" font-size=\"8.25\" text-anchor=\"middle\" x=\"145.2\" y=\"50.325\"/><rect fill=\"green\" height=\"9.9\" width=\"26.928\" x=\"158.136\" y=\"44.55\"/><circle cx=\"158.4\" cy=\"49.5\" fill=\"green\" r=\"-0.264\" stroke=\"green\" stroke-width=\"0\"/><circle cx=\"184.8\" cy=\"49.5\" fill=\"green\" r=\"-0.264\" stroke=\"green\" stroke-width=\"0\"/><text alignment-baseline=\"middle\" fill=\"white\" font-family=\"Times\" font-size=\"8.25\" text-anchor=\"middle\" x=\"171.6\" y=\"50.325\"/><rect fill=\"green\" height=\"9.9\" width=\"26.928\" x=\"184.536\" y=\"44.55\"/><circle cx=\"184.8\" cy=\"49.5\" fill=\"green\" r=\"-0.264\" stroke=\"green\" stroke-width=\"0\"/><circle cx=\"211.2\" cy=\"49.5\" fill=\"green\" r=\"-0.264\" stroke=\"green\" stroke-width=\"0\"/><text alignment-baseline=\"middle\" fill=\"white\" font-family=\"Times\" font-size=\"8.25\" text-anchor=\"middle\" x=\"198.0\" y=\"50.325\"/><rect fill=\"green\" height=\"9.9\" width=\"26.928\" x=\"210.936\" y=\"44.55\"/><circle cx=\"211.2\" cy=\"49.5\" fill=\"green\" r=\"-0.264\" stroke=\"green\" stroke-width=\"0\"/><circle cx=\"237.6\" cy=\"49.5\" fill=\"green\" r=\"-0.264\" stroke=\"green\" stroke-width=\"0\"/><text alignment-baseline=\"middle\" fill=\"white\" font-family=\"Times\" font-size=\"8.25\" text-anchor=\"middle\" x=\"224.4\" y=\"50.325\"/><rect fill=\"green\" height=\"9.9\" width=\"26.928\" x=\"237.336\" y=\"44.55\"/><circle cx=\"237.6\" cy=\"49.5\" fill=\"green\" r=\"-0.264\" stroke=\"green\" stroke-width=\"0\"/><circle cx=\"264.0\" cy=\"49.5\" fill=\"green\" r=\"-0.264\" stroke=\"green\" stroke-width=\"0\"/><text alignment-baseline=\"middle\" fill=\"white\" font-family=\"Times\" font-size=\"8.25\" text-anchor=\"middle\" x=\"250.8\" y=\"50.325\"/><rect fill=\"green\" height=\"9.9\" width=\"26.928\" x=\"263.736\" y=\"44.55\"/><circle cx=\"264.0\" cy=\"49.5\" fill=\"green\" r=\"-0.264\" stroke=\"green\" stroke-width=\"0\"/><circle cx=\"290.4\" cy=\"49.5\" fill=\"green\" r=\"-0.264\" stroke=\"green\" stroke-width=\"0\"/><text alignment-baseline=\"middle\" fill=\"white\" font-family=\"Times\" font-size=\"8.25\" text-anchor=\"middle\" x=\"277.2\" y=\"50.325\"/><rect fill=\"green\" height=\"9.9\" width=\"26.928\" x=\"290.136\" y=\"44.55\"/><circle cx=\"290.4\" cy=\"49.5\" fill=\"green\" r=\"-0.264\" stroke=\"green\" stroke-width=\"0\"/><circle cx=\"316.8\" cy=\"49.5\" fill=\"green\" r=\"-0.264\" stroke=\"green\" stroke-width=\"0\"/><text alignment-baseline=\"middle\" fill=\"white\" font-family=\"Times\" font-size=\"8.25\" text-anchor=\"middle\" x=\"303.6\" y=\"50.325\"/><rect fill=\"green\" height=\"9.9\" width=\"26.928\" x=\"316.536\" y=\"44.55\"/><circle cx=\"316.8\" cy=\"49.5\" fill=\"green\" r=\"-0.264\" stroke=\"green\" stroke-width=\"0\"/><circle cx=\"343.2\" cy=\"49.5\" fill=\"green\" r=\"-0.264\" stroke=\"green\" stroke-width=\"0\"/><text alignment-baseline=\"middle\" fill=\"white\" font-family=\"Times\" font-size=\"8.25\" text-anchor=\"middle\" x=\"330.0\" y=\"50.325\"/><rect fill=\"green\" height=\"9.9\" width=\"26.928\" x=\"342.936\" y=\"44.55\"/><circle cx=\"343.2\" cy=\"49.5\" fill=\"green\" r=\"-0.264\" stroke=\"green\" stroke-width=\"0\"/><circle cx=\"369.6\" cy=\"49.5\" fill=\"green\" r=\"-0.264\" stroke=\"green\" stroke-width=\"0\"/><text alignment-baseline=\"middle\" fill=\"white\" font-family=\"Times\" font-size=\"8.25\" text-anchor=\"middle\" x=\"356.4\" y=\"50.325\"/><rect fill=\"green\" height=\"9.9\" width=\"26.928\" x=\"369.336\" y=\"44.55\"/><circle cx=\"369.6\" cy=\"49.5\" fill=\"green\" r=\"-0.264\" stroke=\"green\" stroke-width=\"0\"/><circle cx=\"396.0\" cy=\"49.5\" fill=\"green\" r=\"-0.264\" stroke=\"green\" stroke-width=\"0\"/><text alignment-baseline=\"middle\" fill=\"white\" font-family=\"Times\" font-size=\"8.25\" text-anchor=\"middle\" x=\"382.8\" y=\"50.325\"/><rect fill=\"green\" height=\"9.9\" width=\"26.928\" x=\"395.736\" y=\"44.55\"/><circle cx=\"396.0\" cy=\"49.5\" fill=\"green\" r=\"-0.264\" stroke=\"green\" stroke-width=\"0\"/><circle cx=\"422.4\" cy=\"49.5\" fill=\"green\" r=\"-0.264\" stroke=\"green\" stroke-width=\"0\"/><text alignment-baseline=\"middle\" fill=\"white\" font-family=\"Times\" font-size=\"8.25\" text-anchor=\"middle\" x=\"409.2\" y=\"50.325\"/><rect fill=\"green\" height=\"9.9\" width=\"26.928\" x=\"422.136\" y=\"44.55\"/><circle cx=\"422.4\" cy=\"49.5\" fill=\"green\" r=\"-0.264\" stroke=\"green\" stroke-width=\"0\"/><circle cx=\"448.8\" cy=\"49.5\" fill=\"green\" r=\"-0.264\" stroke=\"green\" stroke-width=\"0\"/><text alignment-baseline=\"middle\" fill=\"white\" font-family=\"Times\" font-size=\"8.25\" text-anchor=\"middle\" x=\"435.6\" y=\"50.325\"/><rect fill=\"green\" height=\"9.9\" width=\"26.928\" x=\"448.536\" y=\"44.55\"/><circle cx=\"448.8\" cy=\"49.5\" fill=\"green\" r=\"-0.264\" stroke=\"green\" stroke-width=\"0\"/><circle cx=\"475.2\" cy=\"49.5\" fill=\"green\" r=\"-0.264\" stroke=\"green\" stroke-width=\"0\"/><text alignment-baseline=\"middle\" fill=\"white\" font-family=\"Times\" font-size=\"8.25\" text-anchor=\"middle\" x=\"462.0\" y=\"50.325\"/><rect fill=\"green\" height=\"9.9\" width=\"26.928\" x=\"474.936\" y=\"44.55\"/><circle cx=\"475.2\" cy=\"49.5\" fill=\"green\" r=\"-0.264\" stroke=\"green\" stroke-width=\"0\"/><circle cx=\"501.6\" cy=\"49.5\" fill=\"green\" r=\"-0.264\" stroke=\"green\" stroke-width=\"0\"/><text alignment-baseline=\"middle\" fill=\"white\" font-family=\"Times\" font-size=\"8.25\" text-anchor=\"middle\" x=\"488.4\" y=\"50.325\"/><rect fill=\"green\" height=\"9.9\" width=\"26.928\" x=\"501.336\" y=\"44.55\"/><circle cx=\"501.6\" cy=\"49.5\" fill=\"green\" r=\"-0.264\" stroke=\"green\" stroke-width=\"0\"/><circle cx=\"528.0\" cy=\"49.5\" fill=\"green\" r=\"-0.264\" stroke=\"green\" stroke-width=\"0\"/><text alignment-baseline=\"middle\" fill=\"white\" font-family=\"Times\" font-size=\"8.25\" text-anchor=\"middle\" x=\"514.8\" y=\"50.325\"/><rect fill=\"green\" height=\"9.9\" width=\"26.928\" x=\"527.736\" y=\"44.55\"/><circle cx=\"528.0\" cy=\"49.5\" fill=\"green\" r=\"-0.264\" stroke=\"green\" stroke-width=\"0\"/><circle cx=\"554.4\" cy=\"49.5\" fill=\"green\" r=\"-0.264\" stroke=\"green\" stroke-width=\"0\"/><text alignment-baseline=\"middle\" fill=\"white\" font-family=\"Times\" font-size=\"8.25\" text-anchor=\"middle\" x=\"541.2\" y=\"50.325\"/><rect fill=\"green\" height=\"9.9\" width=\"26.928\" x=\"554.136\" y=\"44.55\"/><circle cx=\"554.4\" cy=\"49.5\" fill=\"green\" r=\"-0.264\" stroke=\"green\" stroke-width=\"0\"/><circle cx=\"580.8\" cy=\"49.5\" fill=\"green\" r=\"-0.264\" stroke=\"green\" stroke-width=\"0\"/><text alignment-baseline=\"middle\" fill=\"white\" font-family=\"Times\" font-size=\"8.25\" text-anchor=\"middle\" x=\"567.6\" y=\"50.325\"/><line stroke=\"red\" stroke-width=\"1.32\" x1=\"79.2\" x2=\"79.2\" y1=\"49.335\" y2=\"66.165\"/><text alignment-baseline=\"middle\" fill=\"black\" font-family=\"Times\" font-size=\"8.25\" text-anchor=\"start\" x=\"454.08\" y=\"66.825\">5f</text><rect fill=\"red\" height=\"9.9\" width=\"26.928\" x=\"52.536\" y=\"61.05\"/><circle cx=\"52.8\" cy=\"66.0\" fill=\"red\" r=\"-0.264\" stroke=\"red\" stroke-width=\"0\"/><circle cx=\"79.2\" cy=\"66.0\" fill=\"red\" r=\"-0.264\" stroke=\"red\" stroke-width=\"0\"/><text alignment-baseline=\"middle\" fill=\"white\" font-family=\"Times\" font-size=\"8.25\" text-anchor=\"middle\" x=\"66.0\" y=\"66.825\"/><rect fill=\"red\" height=\"9.9\" width=\"26.928\" x=\"78.936\" y=\"61.05\"/><circle cx=\"79.2\" cy=\"66.0\" fill=\"red\" r=\"-0.264\" stroke=\"red\" stroke-width=\"0\"/><circle cx=\"105.6\" cy=\"66.0\" fill=\"red\" r=\"-0.264\" stroke=\"red\" stroke-width=\"0\"/><text alignment-baseline=\"middle\" fill=\"white\" font-family=\"Times\" font-size=\"8.25\" text-anchor=\"middle\" x=\"92.4\" y=\"66.825\"/><rect fill=\"red\" height=\"9.9\" width=\"26.928\" x=\"105.336\" y=\"61.05\"/><circle cx=\"105.6\" cy=\"66.0\" fill=\"red\" r=\"-0.264\" stroke=\"red\" stroke-width=\"0\"/><circle cx=\"132.0\" cy=\"66.0\" fill=\"red\" r=\"-0.264\" stroke=\"red\" stroke-width=\"0\"/><text alignment-baseline=\"middle\" fill=\"white\" font-family=\"Times\" font-size=\"8.25\" text-anchor=\"middle\" x=\"118.8\" y=\"66.825\"/><rect fill=\"red\" height=\"9.9\" width=\"26.928\" x=\"131.736\" y=\"61.05\"/><circle cx=\"132.0\" cy=\"66.0\" fill=\"red\" r=\"-0.264\" stroke=\"red\" stroke-width=\"0\"/><circle cx=\"158.4\" cy=\"66.0\" fill=\"red\" r=\"-0.264\" stroke=\"red\" stroke-width=\"0\"/><text alignment-baseline=\"middle\" fill=\"white\" font-family=\"Times\" font-size=\"8.25\" text-anchor=\"middle\" x=\"145.2\" y=\"66.825\"/><rect fill=\"red\" height=\"9.9\" width=\"26.928\" x=\"158.136\" y=\"61.05\"/><circle cx=\"158.4\" cy=\"66.0\" fill=\"red\" r=\"-0.264\" stroke=\"red\" stroke-width=\"0\"/><circle cx=\"184.8\" cy=\"66.0\" fill=\"red\" r=\"-0.264\" stroke=\"red\" stroke-width=\"0\"/><text alignment-baseline=\"middle\" fill=\"white\" font-family=\"Times\" font-size=\"8.25\" text-anchor=\"middle\" x=\"171.6\" y=\"66.825\"/><rect fill=\"red\" height=\"9.9\" width=\"26.928\" x=\"184.536\" y=\"61.05\"/><circle cx=\"184.8\" cy=\"66.0\" fill=\"red\" r=\"-0.264\" stroke=\"red\" stroke-width=\"0\"/><circle cx=\"211.2\" cy=\"66.0\" fill=\"red\" r=\"-0.264\" stroke=\"red\" stroke-width=\"0\"/><text alignment-baseline=\"middle\" fill=\"white\" font-family=\"Times\" font-size=\"8.25\" text-anchor=\"middle\" x=\"198.0\" y=\"66.825\"/><rect fill=\"red\" height=\"9.9\" width=\"26.928\" x=\"210.936\" y=\"61.05\"/><circle cx=\"211.2\" cy=\"66.0\" fill=\"red\" r=\"-0.264\" stroke=\"red\" stroke-width=\"0\"/><circle cx=\"237.6\" cy=\"66.0\" fill=\"red\" r=\"-0.264\" stroke=\"red\" stroke-width=\"0\"/><text alignment-baseline=\"middle\" fill=\"white\" font-family=\"Times\" font-size=\"8.25\" text-anchor=\"middle\" x=\"224.4\" y=\"66.825\"/><rect fill=\"red\" height=\"9.9\" width=\"26.928\" x=\"237.336\" y=\"61.05\"/><circle cx=\"237.6\" cy=\"66.0\" fill=\"red\" r=\"-0.264\" stroke=\"red\" stroke-width=\"0\"/><circle cx=\"264.0\" cy=\"66.0\" fill=\"red\" r=\"-0.264\" stroke=\"red\" stroke-width=\"0\"/><text alignment-baseline=\"middle\" fill=\"white\" font-family=\"Times\" font-size=\"8.25\" text-anchor=\"middle\" x=\"250.8\" y=\"66.825\"/><rect fill=\"red\" height=\"9.9\" width=\"26.928\" x=\"263.736\" y=\"61.05\"/><circle cx=\"264.0\" cy=\"66.0\" fill=\"red\" r=\"-0.264\" stroke=\"red\" stroke-width=\"0\"/><circle cx=\"290.4\" cy=\"66.0\" fill=\"red\" r=\"-0.264\" stroke=\"red\" stroke-width=\"0\"/><text alignment-baseline=\"middle\" fill=\"white\" font-family=\"Times\" font-size=\"8.25\" text-anchor=\"middle\" x=\"277.2\" y=\"66.825\"/><rect fill=\"red\" height=\"9.9\" width=\"26.928\" x=\"290.136\" y=\"61.05\"/><circle cx=\"290.4\" cy=\"66.0\" fill=\"red\" r=\"-0.264\" stroke=\"red\" stroke-width=\"0\"/><circle cx=\"316.8\" cy=\"66.0\" fill=\"red\" r=\"-0.264\" stroke=\"red\" stroke-width=\"0\"/><text alignment-baseline=\"middle\" fill=\"white\" font-family=\"Times\" font-size=\"8.25\" text-anchor=\"middle\" x=\"303.6\" y=\"66.825\"/><rect fill=\"red\" height=\"9.9\" width=\"26.928\" x=\"316.536\" y=\"61.05\"/><circle cx=\"316.8\" cy=\"66.0\" fill=\"red\" r=\"-0.264\" stroke=\"red\" stroke-width=\"0\"/><circle cx=\"343.2\" cy=\"66.0\" fill=\"red\" r=\"-0.264\" stroke=\"red\" stroke-width=\"0\"/><text alignment-baseline=\"middle\" fill=\"white\" font-family=\"Times\" font-size=\"8.25\" text-anchor=\"middle\" x=\"330.0\" y=\"66.825\"/><rect fill=\"red\" height=\"9.9\" width=\"26.928\" x=\"342.936\" y=\"61.05\"/><circle cx=\"343.2\" cy=\"66.0\" fill=\"red\" r=\"-0.264\" stroke=\"red\" stroke-width=\"0\"/><circle cx=\"369.6\" cy=\"66.0\" fill=\"red\" r=\"-0.264\" stroke=\"red\" stroke-width=\"0\"/><text alignment-baseline=\"middle\" fill=\"white\" font-family=\"Times\" font-size=\"8.25\" text-anchor=\"middle\" x=\"356.4\" y=\"66.825\"/><rect fill=\"red\" height=\"9.9\" width=\"26.928\" x=\"369.336\" y=\"61.05\"/><circle cx=\"369.6\" cy=\"66.0\" fill=\"red\" r=\"-0.264\" stroke=\"red\" stroke-width=\"0\"/><circle cx=\"396.0\" cy=\"66.0\" fill=\"red\" r=\"-0.264\" stroke=\"red\" stroke-width=\"0\"/><text alignment-baseline=\"middle\" fill=\"white\" font-family=\"Times\" font-size=\"8.25\" text-anchor=\"middle\" x=\"382.8\" y=\"66.825\"/><rect fill=\"red\" height=\"9.9\" width=\"26.928\" x=\"395.736\" y=\"61.05\"/><circle cx=\"396.0\" cy=\"66.0\" fill=\"red\" r=\"-0.264\" stroke=\"red\" stroke-width=\"0\"/><circle cx=\"422.4\" cy=\"66.0\" fill=\"red\" r=\"-0.264\" stroke=\"red\" stroke-width=\"0\"/><text alignment-baseline=\"middle\" fill=\"white\" font-family=\"Times\" font-size=\"8.25\" text-anchor=\"middle\" x=\"409.2\" y=\"66.825\"/><rect fill=\"red\" height=\"9.9\" width=\"26.928\" x=\"422.136\" y=\"61.05\"/><circle cx=\"422.4\" cy=\"66.0\" fill=\"red\" r=\"-0.264\" stroke=\"red\" stroke-width=\"0\"/><circle cx=\"448.8\" cy=\"66.0\" fill=\"red\" r=\"-0.264\" stroke=\"red\" stroke-width=\"0\"/><text alignment-baseline=\"middle\" fill=\"white\" font-family=\"Times\" font-size=\"8.25\" text-anchor=\"middle\" x=\"435.6\" y=\"66.825\"/><line stroke=\"red\" stroke-width=\"1.32\" x1=\"316.8\" x2=\"316.8\" y1=\"65.835\" y2=\"82.665\"/><text alignment-baseline=\"middle\" fill=\"black\" font-family=\"Times\" font-size=\"8.25\" text-anchor=\"start\" x=\"401.28\" y=\"83.325\">6f</text><rect fill=\"red\" height=\"9.9\" width=\"26.928\" x=\"52.536\" y=\"77.55\"/><circle cx=\"52.8\" cy=\"82.5\" fill=\"red\" r=\"-0.264\" stroke=\"red\" stroke-width=\"0\"/><circle cx=\"79.2\" cy=\"82.5\" fill=\"red\" r=\"-0.264\" stroke=\"red\" stroke-width=\"0\"/><text alignment-baseline=\"middle\" fill=\"white\" font-family=\"Times\" font-size=\"8.25\" text-anchor=\"middle\" x=\"66.0\" y=\"83.325\"/><rect fill=\"red\" height=\"9.9\" width=\"26.928\" x=\"78.936\" y=\"77.55\"/><circle cx=\"79.2\" cy=\"82.5\" fill=\"red\" r=\"-0.264\" stroke=\"red\" stroke-width=\"0\"/><circle cx=\"105.6\" cy=\"82.5\" fill=\"red\" r=\"-0.264\" stroke=\"red\" stroke-width=\"0\"/><text alignment-baseline=\"middle\" fill=\"white\" font-family=\"Times\" font-size=\"8.25\" text-anchor=\"middle\" x=\"92.4\" y=\"83.325\"/><rect fill=\"red\" height=\"9.9\" width=\"26.928\" x=\"105.336\" y=\"77.55\"/><circle cx=\"105.6\" cy=\"82.5\" fill=\"red\" r=\"-0.264\" stroke=\"red\" stroke-width=\"0\"/><circle cx=\"132.0\" cy=\"82.5\" fill=\"red\" r=\"-0.264\" stroke=\"red\" stroke-width=\"0\"/><text alignment-baseline=\"middle\" fill=\"white\" font-family=\"Times\" font-size=\"8.25\" text-anchor=\"middle\" x=\"118.8\" y=\"83.325\"/><rect fill=\"red\" height=\"9.9\" width=\"26.928\" x=\"131.736\" y=\"77.55\"/><circle cx=\"132.0\" cy=\"82.5\" fill=\"red\" r=\"-0.264\" stroke=\"red\" stroke-width=\"0\"/><circle cx=\"158.4\" cy=\"82.5\" fill=\"red\" r=\"-0.264\" stroke=\"red\" stroke-width=\"0\"/><text alignment-baseline=\"middle\" fill=\"white\" font-family=\"Times\" font-size=\"8.25\" text-anchor=\"middle\" x=\"145.2\" y=\"83.325\"/><rect fill=\"red\" height=\"9.9\" width=\"26.928\" x=\"158.136\" y=\"77.55\"/><circle cx=\"158.4\" cy=\"82.5\" fill=\"red\" r=\"-0.264\" stroke=\"red\" stroke-width=\"0\"/><circle cx=\"184.8\" cy=\"82.5\" fill=\"red\" r=\"-0.264\" stroke=\"red\" stroke-width=\"0\"/><text alignment-baseline=\"middle\" fill=\"white\" font-family=\"Times\" font-size=\"8.25\" text-anchor=\"middle\" x=\"171.6\" y=\"83.325\"/><rect fill=\"red\" height=\"9.9\" width=\"26.928\" x=\"184.536\" y=\"77.55\"/><circle cx=\"184.8\" cy=\"82.5\" fill=\"red\" r=\"-0.264\" stroke=\"red\" stroke-width=\"0\"/><circle cx=\"211.2\" cy=\"82.5\" fill=\"red\" r=\"-0.264\" stroke=\"red\" stroke-width=\"0\"/><text alignment-baseline=\"middle\" fill=\"white\" font-family=\"Times\" font-size=\"8.25\" text-anchor=\"middle\" x=\"198.0\" y=\"83.325\"/><rect fill=\"red\" height=\"9.9\" width=\"26.928\" x=\"210.936\" y=\"77.55\"/><circle cx=\"211.2\" cy=\"82.5\" fill=\"red\" r=\"-0.264\" stroke=\"red\" stroke-width=\"0\"/><circle cx=\"237.6\" cy=\"82.5\" fill=\"red\" r=\"-0.264\" stroke=\"red\" stroke-width=\"0\"/><text alignment-baseline=\"middle\" fill=\"white\" font-family=\"Times\" font-size=\"8.25\" text-anchor=\"middle\" x=\"224.4\" y=\"83.325\"/><rect fill=\"red\" height=\"9.9\" width=\"26.928\" x=\"237.336\" y=\"77.55\"/><circle cx=\"237.6\" cy=\"82.5\" fill=\"red\" r=\"-0.264\" stroke=\"red\" stroke-width=\"0\"/><circle cx=\"264.0\" cy=\"82.5\" fill=\"red\" r=\"-0.264\" stroke=\"red\" stroke-width=\"0\"/><text alignment-baseline=\"middle\" fill=\"white\" font-family=\"Times\" font-size=\"8.25\" text-anchor=\"middle\" x=\"250.8\" y=\"83.325\"/><rect fill=\"red\" height=\"9.9\" width=\"26.928\" x=\"263.736\" y=\"77.55\"/><circle cx=\"264.0\" cy=\"82.5\" fill=\"red\" r=\"-0.264\" stroke=\"red\" stroke-width=\"0\"/><circle cx=\"290.4\" cy=\"82.5\" fill=\"red\" r=\"-0.264\" stroke=\"red\" stroke-width=\"0\"/><text alignment-baseline=\"middle\" fill=\"white\" font-family=\"Times\" font-size=\"8.25\" text-anchor=\"middle\" x=\"277.2\" y=\"83.325\"/><rect fill=\"red\" height=\"9.9\" width=\"26.928\" x=\"290.136\" y=\"77.55\"/><circle cx=\"290.4\" cy=\"82.5\" fill=\"red\" r=\"-0.264\" stroke=\"red\" stroke-width=\"0\"/><circle cx=\"316.8\" cy=\"82.5\" fill=\"red\" r=\"-0.264\" stroke=\"red\" stroke-width=\"0\"/><text alignment-baseline=\"middle\" fill=\"white\" font-family=\"Times\" font-size=\"8.25\" text-anchor=\"middle\" x=\"303.6\" y=\"83.325\"/><rect fill=\"red\" height=\"9.9\" width=\"26.928\" x=\"316.536\" y=\"77.55\"/><circle cx=\"316.8\" cy=\"82.5\" fill=\"red\" r=\"-0.264\" stroke=\"red\" stroke-width=\"0\"/><circle cx=\"343.2\" cy=\"82.5\" fill=\"red\" r=\"-0.264\" stroke=\"red\" stroke-width=\"0\"/><text alignment-baseline=\"middle\" fill=\"white\" font-family=\"Times\" font-size=\"8.25\" text-anchor=\"middle\" x=\"330.0\" y=\"83.325\"/><rect fill=\"red\" height=\"9.9\" width=\"26.928\" x=\"342.936\" y=\"77.55\"/><circle cx=\"343.2\" cy=\"82.5\" fill=\"red\" r=\"-0.264\" stroke=\"red\" stroke-width=\"0\"/><circle cx=\"369.6\" cy=\"82.5\" fill=\"red\" r=\"-0.264\" stroke=\"red\" stroke-width=\"0\"/><text alignment-baseline=\"middle\" fill=\"white\" font-family=\"Times\" font-size=\"8.25\" text-anchor=\"middle\" x=\"356.4\" y=\"83.325\"/><rect fill=\"red\" height=\"9.9\" width=\"26.928\" x=\"369.336\" y=\"77.55\"/><circle cx=\"369.6\" cy=\"82.5\" fill=\"red\" r=\"-0.264\" stroke=\"red\" stroke-width=\"0\"/><circle cx=\"396.0\" cy=\"82.5\" fill=\"red\" r=\"-0.264\" stroke=\"red\" stroke-width=\"0\"/><text alignment-baseline=\"middle\" fill=\"white\" font-family=\"Times\" font-size=\"8.25\" text-anchor=\"middle\" x=\"382.8\" y=\"83.325\"/><line stroke=\"green\" stroke-width=\"1.32\" x1=\"211.2\" x2=\"211.2\" y1=\"82.335\" y2=\"99.165\"/><text alignment-baseline=\"middle\" fill=\"black\" font-family=\"Times\" font-size=\"8.25\" text-anchor=\"end\" x=\"21.12\" y=\"99.825\">7b</text><rect fill=\"green\" height=\"9.9\" width=\"26.928\" x=\"26.136\" y=\"94.05\"/><circle cx=\"26.4\" cy=\"99.0\" fill=\"green\" r=\"-0.264\" stroke=\"green\" stroke-width=\"0\"/><circle cx=\"52.8\" cy=\"99.0\" fill=\"green\" r=\"-0.264\" stroke=\"green\" stroke-width=\"0\"/><text alignment-baseline=\"middle\" fill=\"white\" font-family=\"Times\" font-size=\"8.25\" text-anchor=\"middle\" x=\"39.6\" y=\"99.825\"/><rect fill=\"green\" height=\"9.9\" width=\"26.928\" x=\"52.536\" y=\"94.05\"/><circle cx=\"52.8\" cy=\"99.0\" fill=\"green\" r=\"-0.264\" stroke=\"green\" stroke-width=\"0\"/><circle cx=\"79.2\" cy=\"99.0\" fill=\"green\" r=\"-0.264\" stroke=\"green\" stroke-width=\"0\"/><text alignment-baseline=\"middle\" fill=\"white\" font-family=\"Times\" font-size=\"8.25\" text-anchor=\"middle\" x=\"66.0\" y=\"99.825\"/><rect fill=\"green\" height=\"9.9\" width=\"26.928\" x=\"78.936\" y=\"94.05\"/><circle cx=\"79.2\" cy=\"99.0\" fill=\"green\" r=\"-0.264\" stroke=\"green\" stroke-width=\"0\"/><circle cx=\"105.6\" cy=\"99.0\" fill=\"green\" r=\"-0.264\" stroke=\"green\" stroke-width=\"0\"/><text alignment-baseline=\"middle\" fill=\"white\" font-family=\"Times\" font-size=\"8.25\" text-anchor=\"middle\" x=\"92.4\" y=\"99.825\"/><rect fill=\"green\" height=\"9.9\" width=\"26.928\" x=\"105.336\" y=\"94.05\"/><circle cx=\"105.6\" cy=\"99.0\" fill=\"green\" r=\"-0.264\" stroke=\"green\" stroke-width=\"0\"/><circle cx=\"132.0\" cy=\"99.0\" fill=\"green\" r=\"-0.264\" stroke=\"green\" stroke-width=\"0\"/><text alignment-baseline=\"middle\" fill=\"white\" font-family=\"Times\" font-size=\"8.25\" text-anchor=\"middle\" x=\"118.8\" y=\"99.825\"/><rect fill=\"green\" height=\"9.9\" width=\"26.928\" x=\"131.736\" y=\"94.05\"/><circle cx=\"132.0\" cy=\"99.0\" fill=\"green\" r=\"-0.264\" stroke=\"green\" stroke-width=\"0\"/><circle cx=\"158.4\" cy=\"99.0\" fill=\"green\" r=\"-0.264\" stroke=\"green\" stroke-width=\"0\"/><text alignment-baseline=\"middle\" fill=\"white\" font-family=\"Times\" font-size=\"8.25\" text-anchor=\"middle\" x=\"145.2\" y=\"99.825\"/><rect fill=\"green\" height=\"9.9\" width=\"26.928\" x=\"158.136\" y=\"94.05\"/><circle cx=\"158.4\" cy=\"99.0\" fill=\"green\" r=\"-0.264\" stroke=\"green\" stroke-width=\"0\"/><circle cx=\"184.8\" cy=\"99.0\" fill=\"green\" r=\"-0.264\" stroke=\"green\" stroke-width=\"0\"/><text alignment-baseline=\"middle\" fill=\"white\" font-family=\"Times\" font-size=\"8.25\" text-anchor=\"middle\" x=\"171.6\" y=\"99.825\"/><rect fill=\"green\" height=\"9.9\" width=\"26.928\" x=\"184.536\" y=\"94.05\"/><circle cx=\"184.8\" cy=\"99.0\" fill=\"green\" r=\"-0.264\" stroke=\"green\" stroke-width=\"0\"/><circle cx=\"211.2\" cy=\"99.0\" fill=\"green\" r=\"-0.264\" stroke=\"green\" stroke-width=\"0\"/><text alignment-baseline=\"middle\" fill=\"white\" font-family=\"Times\" font-size=\"8.25\" text-anchor=\"middle\" x=\"198.0\" y=\"99.825\"/><rect fill=\"green\" height=\"9.9\" width=\"26.928\" x=\"210.936\" y=\"94.05\"/><circle cx=\"211.2\" cy=\"99.0\" fill=\"green\" r=\"-0.264\" stroke=\"green\" stroke-width=\"0\"/><circle cx=\"237.6\" cy=\"99.0\" fill=\"green\" r=\"-0.264\" stroke=\"green\" stroke-width=\"0\"/><text alignment-baseline=\"middle\" fill=\"white\" font-family=\"Times\" font-size=\"8.25\" text-anchor=\"middle\" x=\"224.4\" y=\"99.825\"/><rect fill=\"green\" height=\"9.9\" width=\"26.928\" x=\"237.336\" y=\"94.05\"/><circle cx=\"237.6\" cy=\"99.0\" fill=\"green\" r=\"-0.264\" stroke=\"green\" stroke-width=\"0\"/><circle cx=\"264.0\" cy=\"99.0\" fill=\"green\" r=\"-0.264\" stroke=\"green\" stroke-width=\"0\"/><text alignment-baseline=\"middle\" fill=\"white\" font-family=\"Times\" font-size=\"8.25\" text-anchor=\"middle\" x=\"250.8\" y=\"99.825\"/><rect fill=\"green\" height=\"9.9\" width=\"26.928\" x=\"263.736\" y=\"94.05\"/><circle cx=\"264.0\" cy=\"99.0\" fill=\"green\" r=\"-0.264\" stroke=\"green\" stroke-width=\"0\"/><circle cx=\"290.4\" cy=\"99.0\" fill=\"green\" r=\"-0.264\" stroke=\"green\" stroke-width=\"0\"/><text alignment-baseline=\"middle\" fill=\"white\" font-family=\"Times\" font-size=\"8.25\" text-anchor=\"middle\" x=\"277.2\" y=\"99.825\"/><rect fill=\"green\" height=\"9.9\" width=\"26.928\" x=\"290.136\" y=\"94.05\"/><circle cx=\"290.4\" cy=\"99.0\" fill=\"green\" r=\"-0.264\" stroke=\"green\" stroke-width=\"0\"/><circle cx=\"316.8\" cy=\"99.0\" fill=\"green\" r=\"-0.264\" stroke=\"green\" stroke-width=\"0\"/><text alignment-baseline=\"middle\" fill=\"white\" font-family=\"Times\" font-size=\"8.25\" text-anchor=\"middle\" x=\"303.6\" y=\"99.825\"/><rect fill=\"green\" height=\"9.9\" width=\"26.928\" x=\"316.536\" y=\"94.05\"/><circle cx=\"316.8\" cy=\"99.0\" fill=\"green\" r=\"-0.264\" stroke=\"green\" stroke-width=\"0\"/><circle cx=\"343.2\" cy=\"99.0\" fill=\"green\" r=\"-0.264\" stroke=\"green\" stroke-width=\"0\"/><text alignment-baseline=\"middle\" fill=\"white\" font-family=\"Times\" font-size=\"8.25\" text-anchor=\"middle\" x=\"330.0\" y=\"99.825\"/><rect fill=\"green\" height=\"9.9\" width=\"26.928\" x=\"342.936\" y=\"94.05\"/><circle cx=\"343.2\" cy=\"99.0\" fill=\"green\" r=\"-0.264\" stroke=\"green\" stroke-width=\"0\"/><circle cx=\"369.6\" cy=\"99.0\" fill=\"green\" r=\"-0.264\" stroke=\"green\" stroke-width=\"0\"/><text alignment-baseline=\"middle\" fill=\"white\" font-family=\"Times\" font-size=\"8.25\" text-anchor=\"middle\" x=\"356.4\" y=\"99.825\"/><rect fill=\"green\" height=\"9.9\" width=\"26.928\" x=\"369.336\" y=\"94.05\"/><circle cx=\"369.6\" cy=\"99.0\" fill=\"green\" r=\"-0.264\" stroke=\"green\" stroke-width=\"0\"/><circle cx=\"396.0\" cy=\"99.0\" fill=\"green\" r=\"-0.264\" stroke=\"green\" stroke-width=\"0\"/><text alignment-baseline=\"middle\" fill=\"white\" font-family=\"Times\" font-size=\"8.25\" text-anchor=\"middle\" x=\"382.8\" y=\"99.825\"/><line stroke=\"red\" stroke-width=\"1.32\" x1=\"105.6\" x2=\"105.6\" y1=\"98.835\" y2=\"115.665\"/><text alignment-baseline=\"middle\" fill=\"black\" font-family=\"Times\" font-size=\"8.25\" text-anchor=\"start\" x=\"401.28\" y=\"116.325\">8f</text><rect fill=\"red\" height=\"9.9\" width=\"26.928\" x=\"26.136\" y=\"110.55\"/><circle cx=\"26.4\" cy=\"115.5\" fill=\"red\" r=\"-0.264\" stroke=\"red\" stroke-width=\"0\"/><circle cx=\"52.8\" cy=\"115.5\" fill=\"red\" r=\"-0.264\" stroke=\"red\" stroke-width=\"0\"/><text alignment-baseline=\"middle\" fill=\"white\" font-family=\"Times\" font-size=\"8.25\" text-anchor=\"middle\" x=\"39.6\" y=\"116.325\"/><rect fill=\"red\" height=\"9.9\" width=\"26.928\" x=\"52.536\" y=\"110.55\"/><circle cx=\"52.8\" cy=\"115.5\" fill=\"red\" r=\"-0.264\" stroke=\"red\" stroke-width=\"0\"/><circle cx=\"79.2\" cy=\"115.5\" fill=\"red\" r=\"-0.264\" stroke=\"red\" stroke-width=\"0\"/><text alignment-baseline=\"middle\" fill=\"white\" font-family=\"Times\" font-size=\"8.25\" text-anchor=\"middle\" x=\"66.0\" y=\"116.325\"/><rect fill=\"red\" height=\"9.9\" width=\"26.928\" x=\"78.936\" y=\"110.55\"/><circle cx=\"79.2\" cy=\"115.5\" fill=\"red\" r=\"-0.264\" stroke=\"red\" stroke-width=\"0\"/><circle cx=\"105.6\" cy=\"115.5\" fill=\"red\" r=\"-0.264\" stroke=\"red\" stroke-width=\"0\"/><text alignment-baseline=\"middle\" fill=\"white\" font-family=\"Times\" font-size=\"8.25\" text-anchor=\"middle\" x=\"92.4\" y=\"116.325\"/><rect fill=\"red\" height=\"9.9\" width=\"26.928\" x=\"105.336\" y=\"110.55\"/><circle cx=\"105.6\" cy=\"115.5\" fill=\"red\" r=\"-0.264\" stroke=\"red\" stroke-width=\"0\"/><circle cx=\"132.0\" cy=\"115.5\" fill=\"red\" r=\"-0.264\" stroke=\"red\" stroke-width=\"0\"/><text alignment-baseline=\"middle\" fill=\"white\" font-family=\"Times\" font-size=\"8.25\" text-anchor=\"middle\" x=\"118.8\" y=\"116.325\"/><rect fill=\"red\" height=\"9.9\" width=\"26.928\" x=\"131.736\" y=\"110.55\"/><circle cx=\"132.0\" cy=\"115.5\" fill=\"red\" r=\"-0.264\" stroke=\"red\" stroke-width=\"0\"/><circle cx=\"158.4\" cy=\"115.5\" fill=\"red\" r=\"-0.264\" stroke=\"red\" stroke-width=\"0\"/><text alignment-baseline=\"middle\" fill=\"white\" font-family=\"Times\" font-size=\"8.25\" text-anchor=\"middle\" x=\"145.2\" y=\"116.325\"/><rect fill=\"red\" height=\"9.9\" width=\"26.928\" x=\"158.136\" y=\"110.55\"/><circle cx=\"158.4\" cy=\"115.5\" fill=\"red\" r=\"-0.264\" stroke=\"red\" stroke-width=\"0\"/><circle cx=\"184.8\" cy=\"115.5\" fill=\"red\" r=\"-0.264\" stroke=\"red\" stroke-width=\"0\"/><text alignment-baseline=\"middle\" fill=\"white\" font-family=\"Times\" font-size=\"8.25\" text-anchor=\"middle\" x=\"171.6\" y=\"116.325\"/><rect fill=\"red\" height=\"9.9\" width=\"26.928\" x=\"184.536\" y=\"110.55\"/><circle cx=\"184.8\" cy=\"115.5\" fill=\"red\" r=\"-0.264\" stroke=\"red\" stroke-width=\"0\"/><circle cx=\"211.2\" cy=\"115.5\" fill=\"red\" r=\"-0.264\" stroke=\"red\" stroke-width=\"0\"/><text alignment-baseline=\"middle\" fill=\"white\" font-family=\"Times\" font-size=\"8.25\" text-anchor=\"middle\" x=\"198.0\" y=\"116.325\"/><rect fill=\"red\" height=\"9.9\" width=\"26.928\" x=\"210.936\" y=\"110.55\"/><circle cx=\"211.2\" cy=\"115.5\" fill=\"red\" r=\"-0.264\" stroke=\"red\" stroke-width=\"0\"/><circle cx=\"237.6\" cy=\"115.5\" fill=\"red\" r=\"-0.264\" stroke=\"red\" stroke-width=\"0\"/><text alignment-baseline=\"middle\" fill=\"white\" font-family=\"Times\" font-size=\"8.25\" text-anchor=\"middle\" x=\"224.4\" y=\"116.325\"/><rect fill=\"red\" height=\"9.9\" width=\"26.928\" x=\"237.336\" y=\"110.55\"/><circle cx=\"237.6\" cy=\"115.5\" fill=\"red\" r=\"-0.264\" stroke=\"red\" stroke-width=\"0\"/><circle cx=\"264.0\" cy=\"115.5\" fill=\"red\" r=\"-0.264\" stroke=\"red\" stroke-width=\"0\"/><text alignment-baseline=\"middle\" fill=\"white\" font-family=\"Times\" font-size=\"8.25\" text-anchor=\"middle\" x=\"250.8\" y=\"116.325\"/><rect fill=\"red\" height=\"9.9\" width=\"26.928\" x=\"263.736\" y=\"110.55\"/><circle cx=\"264.0\" cy=\"115.5\" fill=\"red\" r=\"-0.264\" stroke=\"red\" stroke-width=\"0\"/><circle cx=\"290.4\" cy=\"115.5\" fill=\"red\" r=\"-0.264\" stroke=\"red\" stroke-width=\"0\"/><text alignment-baseline=\"middle\" fill=\"white\" font-family=\"Times\" font-size=\"8.25\" text-anchor=\"middle\" x=\"277.2\" y=\"116.325\"/><rect fill=\"red\" height=\"9.9\" width=\"26.928\" x=\"290.136\" y=\"110.55\"/><circle cx=\"290.4\" cy=\"115.5\" fill=\"red\" r=\"-0.264\" stroke=\"red\" stroke-width=\"0\"/><circle cx=\"316.8\" cy=\"115.5\" fill=\"red\" r=\"-0.264\" stroke=\"red\" stroke-width=\"0\"/><text alignment-baseline=\"middle\" fill=\"white\" font-family=\"Times\" font-size=\"8.25\" text-anchor=\"middle\" x=\"303.6\" y=\"116.325\"/><rect fill=\"red\" height=\"9.9\" width=\"26.928\" x=\"316.536\" y=\"110.55\"/><circle cx=\"316.8\" cy=\"115.5\" fill=\"red\" r=\"-0.264\" stroke=\"red\" stroke-width=\"0\"/><circle cx=\"343.2\" cy=\"115.5\" fill=\"red\" r=\"-0.264\" stroke=\"red\" stroke-width=\"0\"/><text alignment-baseline=\"middle\" fill=\"white\" font-family=\"Times\" font-size=\"8.25\" text-anchor=\"middle\" x=\"330.0\" y=\"116.325\"/><rect fill=\"red\" height=\"9.9\" width=\"26.928\" x=\"342.936\" y=\"110.55\"/><circle cx=\"343.2\" cy=\"115.5\" fill=\"red\" r=\"-0.264\" stroke=\"red\" stroke-width=\"0\"/><circle cx=\"369.6\" cy=\"115.5\" fill=\"red\" r=\"-0.264\" stroke=\"red\" stroke-width=\"0\"/><text alignment-baseline=\"middle\" fill=\"white\" font-family=\"Times\" font-size=\"8.25\" text-anchor=\"middle\" x=\"356.4\" y=\"116.325\"/><rect fill=\"red\" height=\"9.9\" width=\"26.928\" x=\"369.336\" y=\"110.55\"/><circle cx=\"369.6\" cy=\"115.5\" fill=\"red\" r=\"-0.264\" stroke=\"red\" stroke-width=\"0\"/><circle cx=\"396.0\" cy=\"115.5\" fill=\"red\" r=\"-0.264\" stroke=\"red\" stroke-width=\"0\"/><text alignment-baseline=\"middle\" fill=\"white\" font-family=\"Times\" font-size=\"8.25\" text-anchor=\"middle\" x=\"382.8\" y=\"116.325\"/><line stroke=\"green\" stroke-width=\"1.32\" x1=\"105.6\" x2=\"105.6\" y1=\"115.335\" y2=\"132.165\"/><text alignment-baseline=\"middle\" fill=\"black\" font-family=\"Times\" font-size=\"8.25\" text-anchor=\"end\" x=\"21.12\" y=\"132.825\">9b</text><rect fill=\"green\" height=\"9.9\" width=\"26.928\" x=\"26.136\" y=\"127.05\"/><circle cx=\"26.4\" cy=\"132.0\" fill=\"green\" r=\"-0.264\" stroke=\"green\" stroke-width=\"0\"/><circle cx=\"52.8\" cy=\"132.0\" fill=\"green\" r=\"-0.264\" stroke=\"green\" stroke-width=\"0\"/><text alignment-baseline=\"middle\" fill=\"white\" font-family=\"Times\" font-size=\"8.25\" text-anchor=\"middle\" x=\"39.6\" y=\"132.825\"/><rect fill=\"green\" height=\"9.9\" width=\"26.928\" x=\"52.536\" y=\"127.05\"/><circle cx=\"52.8\" cy=\"132.0\" fill=\"green\" r=\"-0.264\" stroke=\"green\" stroke-width=\"0\"/><circle cx=\"79.2\" cy=\"132.0\" fill=\"green\" r=\"-0.264\" stroke=\"green\" stroke-width=\"0\"/><text alignment-baseline=\"middle\" fill=\"white\" font-family=\"Times\" font-size=\"8.25\" text-anchor=\"middle\" x=\"66.0\" y=\"132.825\"/><rect fill=\"green\" height=\"9.9\" width=\"26.928\" x=\"78.936\" y=\"127.05\"/><circle cx=\"79.2\" cy=\"132.0\" fill=\"green\" r=\"-0.264\" stroke=\"green\" stroke-width=\"0\"/><circle cx=\"105.6\" cy=\"132.0\" fill=\"green\" r=\"-0.264\" stroke=\"green\" stroke-width=\"0\"/><text alignment-baseline=\"middle\" fill=\"white\" font-family=\"Times\" font-size=\"8.25\" text-anchor=\"middle\" x=\"92.4\" y=\"132.825\"/><rect fill=\"green\" height=\"9.9\" width=\"26.928\" x=\"105.336\" y=\"127.05\"/><circle cx=\"105.6\" cy=\"132.0\" fill=\"green\" r=\"-0.264\" stroke=\"green\" stroke-width=\"0\"/><circle cx=\"132.0\" cy=\"132.0\" fill=\"green\" r=\"-0.264\" stroke=\"green\" stroke-width=\"0\"/><text alignment-baseline=\"middle\" fill=\"white\" font-family=\"Times\" font-size=\"8.25\" text-anchor=\"middle\" x=\"118.8\" y=\"132.825\"/><rect fill=\"green\" height=\"9.9\" width=\"26.928\" x=\"131.736\" y=\"127.05\"/><circle cx=\"132.0\" cy=\"132.0\" fill=\"green\" r=\"-0.264\" stroke=\"green\" stroke-width=\"0\"/><circle cx=\"158.4\" cy=\"132.0\" fill=\"green\" r=\"-0.264\" stroke=\"green\" stroke-width=\"0\"/><text alignment-baseline=\"middle\" fill=\"white\" font-family=\"Times\" font-size=\"8.25\" text-anchor=\"middle\" x=\"145.2\" y=\"132.825\"/><rect fill=\"green\" height=\"9.9\" width=\"26.928\" x=\"158.136\" y=\"127.05\"/><circle cx=\"158.4\" cy=\"132.0\" fill=\"green\" r=\"-0.264\" stroke=\"green\" stroke-width=\"0\"/><circle cx=\"184.8\" cy=\"132.0\" fill=\"green\" r=\"-0.264\" stroke=\"green\" stroke-width=\"0\"/><text alignment-baseline=\"middle\" fill=\"white\" font-family=\"Times\" font-size=\"8.25\" text-anchor=\"middle\" x=\"171.6\" y=\"132.825\"/><rect fill=\"green\" height=\"9.9\" width=\"26.928\" x=\"184.536\" y=\"127.05\"/><circle cx=\"184.8\" cy=\"132.0\" fill=\"green\" r=\"-0.264\" stroke=\"green\" stroke-width=\"0\"/><circle cx=\"211.2\" cy=\"132.0\" fill=\"green\" r=\"-0.264\" stroke=\"green\" stroke-width=\"0\"/><text alignment-baseline=\"middle\" fill=\"white\" font-family=\"Times\" font-size=\"8.25\" text-anchor=\"middle\" x=\"198.0\" y=\"132.825\"/><rect fill=\"green\" height=\"9.9\" width=\"26.928\" x=\"210.936\" y=\"127.05\"/><circle cx=\"211.2\" cy=\"132.0\" fill=\"green\" r=\"-0.264\" stroke=\"green\" stroke-width=\"0\"/><circle cx=\"237.6\" cy=\"132.0\" fill=\"green\" r=\"-0.264\" stroke=\"green\" stroke-width=\"0\"/><text alignment-baseline=\"middle\" fill=\"white\" font-family=\"Times\" font-size=\"8.25\" text-anchor=\"middle\" x=\"224.4\" y=\"132.825\"/><rect fill=\"green\" height=\"9.9\" width=\"26.928\" x=\"237.336\" y=\"127.05\"/><circle cx=\"237.6\" cy=\"132.0\" fill=\"green\" r=\"-0.264\" stroke=\"green\" stroke-width=\"0\"/><circle cx=\"264.0\" cy=\"132.0\" fill=\"green\" r=\"-0.264\" stroke=\"green\" stroke-width=\"0\"/><text alignment-baseline=\"middle\" fill=\"white\" font-family=\"Times\" font-size=\"8.25\" text-anchor=\"middle\" x=\"250.8\" y=\"132.825\"/><rect fill=\"green\" height=\"9.9\" width=\"26.928\" x=\"263.736\" y=\"127.05\"/><circle cx=\"264.0\" cy=\"132.0\" fill=\"green\" r=\"-0.264\" stroke=\"green\" stroke-width=\"0\"/><circle cx=\"290.4\" cy=\"132.0\" fill=\"green\" r=\"-0.264\" stroke=\"green\" stroke-width=\"0\"/><text alignment-baseline=\"middle\" fill=\"white\" font-family=\"Times\" font-size=\"8.25\" text-anchor=\"middle\" x=\"277.2\" y=\"132.825\"/><rect fill=\"green\" height=\"9.9\" width=\"26.928\" x=\"290.136\" y=\"127.05\"/><circle cx=\"290.4\" cy=\"132.0\" fill=\"green\" r=\"-0.264\" stroke=\"green\" stroke-width=\"0\"/><circle cx=\"316.8\" cy=\"132.0\" fill=\"green\" r=\"-0.264\" stroke=\"green\" stroke-width=\"0\"/><text alignment-baseline=\"middle\" fill=\"white\" font-family=\"Times\" font-size=\"8.25\" text-anchor=\"middle\" x=\"303.6\" y=\"132.825\"/><rect fill=\"green\" height=\"9.9\" width=\"26.928\" x=\"316.536\" y=\"127.05\"/><circle cx=\"316.8\" cy=\"132.0\" fill=\"green\" r=\"-0.264\" stroke=\"green\" stroke-width=\"0\"/><circle cx=\"343.2\" cy=\"132.0\" fill=\"green\" r=\"-0.264\" stroke=\"green\" stroke-width=\"0\"/><text alignment-baseline=\"middle\" fill=\"white\" font-family=\"Times\" font-size=\"8.25\" text-anchor=\"middle\" x=\"330.0\" y=\"132.825\"/><rect fill=\"green\" height=\"9.9\" width=\"26.928\" x=\"342.936\" y=\"127.05\"/><circle cx=\"343.2\" cy=\"132.0\" fill=\"green\" r=\"-0.264\" stroke=\"green\" stroke-width=\"0\"/><circle cx=\"369.6\" cy=\"132.0\" fill=\"green\" r=\"-0.264\" stroke=\"green\" stroke-width=\"0\"/><text alignment-baseline=\"middle\" fill=\"white\" font-family=\"Times\" font-size=\"8.25\" text-anchor=\"middle\" x=\"356.4\" y=\"132.825\"/><rect fill=\"green\" height=\"9.9\" width=\"26.928\" x=\"369.336\" y=\"127.05\"/><circle cx=\"369.6\" cy=\"132.0\" fill=\"green\" r=\"-0.264\" stroke=\"green\" stroke-width=\"0\"/><circle cx=\"396.0\" cy=\"132.0\" fill=\"green\" r=\"-0.264\" stroke=\"green\" stroke-width=\"0\"/><text alignment-baseline=\"middle\" fill=\"white\" font-family=\"Times\" font-size=\"8.25\" text-anchor=\"middle\" x=\"382.8\" y=\"132.825\"/><line stroke=\"green\" stroke-width=\"1.32\" x1=\"132.0\" x2=\"132.0\" y1=\"131.835\" y2=\"148.665\"/><text alignment-baseline=\"middle\" fill=\"black\" font-family=\"Times\" font-size=\"8.25\" text-anchor=\"end\" x=\"21.12\" y=\"149.325\">10b</text><rect fill=\"green\" height=\"9.9\" width=\"26.928\" x=\"26.136\" y=\"143.55\"/><circle cx=\"26.4\" cy=\"148.5\" fill=\"green\" r=\"-0.264\" stroke=\"green\" stroke-width=\"0\"/><circle cx=\"52.8\" cy=\"148.5\" fill=\"green\" r=\"-0.264\" stroke=\"green\" stroke-width=\"0\"/><text alignment-baseline=\"middle\" fill=\"white\" font-family=\"Times\" font-size=\"8.25\" text-anchor=\"middle\" x=\"39.6\" y=\"149.325\"/><rect fill=\"green\" height=\"9.9\" width=\"26.928\" x=\"52.536\" y=\"143.55\"/><circle cx=\"52.8\" cy=\"148.5\" fill=\"green\" r=\"-0.264\" stroke=\"green\" stroke-width=\"0\"/><circle cx=\"79.2\" cy=\"148.5\" fill=\"green\" r=\"-0.264\" stroke=\"green\" stroke-width=\"0\"/><text alignment-baseline=\"middle\" fill=\"white\" font-family=\"Times\" font-size=\"8.25\" text-anchor=\"middle\" x=\"66.0\" y=\"149.325\"/><rect fill=\"green\" height=\"9.9\" width=\"26.928\" x=\"78.936\" y=\"143.55\"/><circle cx=\"79.2\" cy=\"148.5\" fill=\"green\" r=\"-0.264\" stroke=\"green\" stroke-width=\"0\"/><circle cx=\"105.6\" cy=\"148.5\" fill=\"green\" r=\"-0.264\" stroke=\"green\" stroke-width=\"0\"/><text alignment-baseline=\"middle\" fill=\"white\" font-family=\"Times\" font-size=\"8.25\" text-anchor=\"middle\" x=\"92.4\" y=\"149.325\"/><rect fill=\"green\" height=\"9.9\" width=\"26.928\" x=\"105.336\" y=\"143.55\"/><circle cx=\"105.6\" cy=\"148.5\" fill=\"green\" r=\"-0.264\" stroke=\"green\" stroke-width=\"0\"/><circle cx=\"132.0\" cy=\"148.5\" fill=\"green\" r=\"-0.264\" stroke=\"green\" stroke-width=\"0\"/><text alignment-baseline=\"middle\" fill=\"white\" font-family=\"Times\" font-size=\"8.25\" text-anchor=\"middle\" x=\"118.8\" y=\"149.325\"/><rect fill=\"green\" height=\"9.9\" width=\"26.928\" x=\"131.736\" y=\"143.55\"/><circle cx=\"132.0\" cy=\"148.5\" fill=\"green\" r=\"-0.264\" stroke=\"green\" stroke-width=\"0\"/><circle cx=\"158.4\" cy=\"148.5\" fill=\"green\" r=\"-0.264\" stroke=\"green\" stroke-width=\"0\"/><text alignment-baseline=\"middle\" fill=\"white\" font-family=\"Times\" font-size=\"8.25\" text-anchor=\"middle\" x=\"145.2\" y=\"149.325\"/><rect fill=\"green\" height=\"9.9\" width=\"26.928\" x=\"158.136\" y=\"143.55\"/><circle cx=\"158.4\" cy=\"148.5\" fill=\"green\" r=\"-0.264\" stroke=\"green\" stroke-width=\"0\"/><circle cx=\"184.8\" cy=\"148.5\" fill=\"green\" r=\"-0.264\" stroke=\"green\" stroke-width=\"0\"/><text alignment-baseline=\"middle\" fill=\"white\" font-family=\"Times\" font-size=\"8.25\" text-anchor=\"middle\" x=\"171.6\" y=\"149.325\"/><rect fill=\"green\" height=\"9.9\" width=\"26.928\" x=\"184.536\" y=\"143.55\"/><circle cx=\"184.8\" cy=\"148.5\" fill=\"green\" r=\"-0.264\" stroke=\"green\" stroke-width=\"0\"/><circle cx=\"211.2\" cy=\"148.5\" fill=\"green\" r=\"-0.264\" stroke=\"green\" stroke-width=\"0\"/><text alignment-baseline=\"middle\" fill=\"white\" font-family=\"Times\" font-size=\"8.25\" text-anchor=\"middle\" x=\"198.0\" y=\"149.325\"/><rect fill=\"green\" height=\"9.9\" width=\"26.928\" x=\"210.936\" y=\"143.55\"/><circle cx=\"211.2\" cy=\"148.5\" fill=\"green\" r=\"-0.264\" stroke=\"green\" stroke-width=\"0\"/><circle cx=\"237.6\" cy=\"148.5\" fill=\"green\" r=\"-0.264\" stroke=\"green\" stroke-width=\"0\"/><text alignment-baseline=\"middle\" fill=\"white\" font-family=\"Times\" font-size=\"8.25\" text-anchor=\"middle\" x=\"224.4\" y=\"149.325\"/><rect fill=\"green\" height=\"9.9\" width=\"26.928\" x=\"237.336\" y=\"143.55\"/><circle cx=\"237.6\" cy=\"148.5\" fill=\"green\" r=\"-0.264\" stroke=\"green\" stroke-width=\"0\"/><circle cx=\"264.0\" cy=\"148.5\" fill=\"green\" r=\"-0.264\" stroke=\"green\" stroke-width=\"0\"/><text alignment-baseline=\"middle\" fill=\"white\" font-family=\"Times\" font-size=\"8.25\" text-anchor=\"middle\" x=\"250.8\" y=\"149.325\"/><rect fill=\"green\" height=\"9.9\" width=\"26.928\" x=\"263.736\" y=\"143.55\"/><circle cx=\"264.0\" cy=\"148.5\" fill=\"green\" r=\"-0.264\" stroke=\"green\" stroke-width=\"0\"/><circle cx=\"290.4\" cy=\"148.5\" fill=\"green\" r=\"-0.264\" stroke=\"green\" stroke-width=\"0\"/><text alignment-baseline=\"middle\" fill=\"white\" font-family=\"Times\" font-size=\"8.25\" text-anchor=\"middle\" x=\"277.2\" y=\"149.325\"/><rect fill=\"green\" height=\"9.9\" width=\"26.928\" x=\"290.136\" y=\"143.55\"/><circle cx=\"290.4\" cy=\"148.5\" fill=\"green\" r=\"-0.264\" stroke=\"green\" stroke-width=\"0\"/><circle cx=\"316.8\" cy=\"148.5\" fill=\"green\" r=\"-0.264\" stroke=\"green\" stroke-width=\"0\"/><text alignment-baseline=\"middle\" fill=\"white\" font-family=\"Times\" font-size=\"8.25\" text-anchor=\"middle\" x=\"303.6\" y=\"149.325\"/><rect fill=\"green\" height=\"9.9\" width=\"26.928\" x=\"316.536\" y=\"143.55\"/><circle cx=\"316.8\" cy=\"148.5\" fill=\"green\" r=\"-0.264\" stroke=\"green\" stroke-width=\"0\"/><circle cx=\"343.2\" cy=\"148.5\" fill=\"green\" r=\"-0.264\" stroke=\"green\" stroke-width=\"0\"/><text alignment-baseline=\"middle\" fill=\"white\" font-family=\"Times\" font-size=\"8.25\" text-anchor=\"middle\" x=\"330.0\" y=\"149.325\"/><rect fill=\"green\" height=\"9.9\" width=\"26.928\" x=\"342.936\" y=\"143.55\"/><circle cx=\"343.2\" cy=\"148.5\" fill=\"green\" r=\"-0.264\" stroke=\"green\" stroke-width=\"0\"/><circle cx=\"369.6\" cy=\"148.5\" fill=\"green\" r=\"-0.264\" stroke=\"green\" stroke-width=\"0\"/><text alignment-baseline=\"middle\" fill=\"white\" font-family=\"Times\" font-size=\"8.25\" text-anchor=\"middle\" x=\"356.4\" y=\"149.325\"/><rect fill=\"green\" height=\"9.9\" width=\"26.928\" x=\"369.336\" y=\"143.55\"/><circle cx=\"369.6\" cy=\"148.5\" fill=\"green\" r=\"-0.264\" stroke=\"green\" stroke-width=\"0\"/><circle cx=\"396.0\" cy=\"148.5\" fill=\"green\" r=\"-0.264\" stroke=\"green\" stroke-width=\"0\"/><text alignment-baseline=\"middle\" fill=\"white\" font-family=\"Times\" font-size=\"8.25\" text-anchor=\"middle\" x=\"382.8\" y=\"149.325\"/></svg>"
      ],
      "text/plain": [
       "<IPython.core.display.SVG object>"
      ]
     },
     "execution_count": 38,
     "metadata": {},
     "output_type": "execute_result"
    }
   ],
   "source": [
    "tree.rejected = False\n",
    "tree.states = []\n",
    "tree.op = None\n",
    "tree.from_samples(samps)\n",
    "view = tree.renderer\n",
    "view.zoom = 1.1\n",
    "view.horizontal_gap = -0.01\n",
    "view.scale_y = 15\n",
    "view.scale_x = 24\n",
    "view.font_size = 0.5\n",
    "view.font_family = 'Times'\n",
    "SVG(view.to_svg())"
   ]
  },
  {
   "cell_type": "markdown",
   "metadata": {},
   "source": [
    "### Phi/Psi Plots"
   ]
  },
  {
   "cell_type": "code",
   "execution_count": 39,
   "metadata": {
    "collapsed": true
   },
   "outputs": [],
   "source": [
    "# Imports for plotting\n",
    "%matplotlib inline\n",
    "import matplotlib\n",
    "import matplotlib.pyplot as plt\n",
    "import matplotlib.pylab as pylab\n",
    "from matplotlib.legend_handler import HandlerLine2D\n",
    "\n",
    "import numpy as np\n",
    "\n",
    "degrees = 180/3.14159"
   ]
  },
  {
   "cell_type": "markdown",
   "metadata": {},
   "source": [
    "Make sure that all phi/psi values have been computed!"
   ]
  },
  {
   "cell_type": "code",
   "execution_count": 40,
   "metadata": {
    "collapsed": false
   },
   "outputs": [],
   "source": [
    "psi = storage.cvs[0]\n",
    "phi = storage.cvs[1]"
   ]
  },
  {
   "cell_type": "code",
   "execution_count": 41,
   "metadata": {
    "collapsed": false
   },
   "outputs": [
    {
     "data": {
      "image/png": "[encoded data removed]",
      "text/plain": [
       "<matplotlib.figure.Figure at 0x1171a8b90>"
      ]
     },
     "metadata": {},
     "output_type": "display_data"
    }
   ],
   "source": [
    "plt.figure(figsize=(8, 8))\n",
    "\n",
    "for traj in storage.trajectories.iterator():\n",
    "    phi_angles = degrees * np.array(phi(traj)).flatten()\n",
    "    psi_angles = degrees * np.array(psi(traj)).flatten()\n",
    "    plt.plot(phi_angles, psi_angles, 'ro', linewidth=1);\n",
    "    \n",
    "plt.xlim(-180, 180);\n",
    "plt.ylim(-180, 180);"
   ]
  },
  {
   "cell_type": "code",
   "execution_count": 42,
   "metadata": {
    "collapsed": false
   },
   "outputs": [
    {
     "data": {
      "image/png": "[encoded data removed]",
      "text/plain": [
       "<matplotlib.figure.Figure at 0x115c9da90>"
      ]
     },
     "metadata": {},
     "output_type": "display_data"
    }
   ],
   "source": [
    "plt.figure(figsize=(8, 8))\n",
    "\n",
    "traj = storage.trajectories.last\n",
    "phi_angles = degrees * np.array(phi(traj)).flatten()\n",
    "psi_angles = degrees * np.array(psi(traj)).flatten()\n",
    "plt.plot(phi_angles, psi_angles, 'k-', linewidth=1);\n",
    "\n",
    "op_notinAorB = storage.cvs[4]\n",
    "\n",
    "for snapshot in traj:\n",
    "    phi_angles = degrees * np.array(phi(snapshot)).flatten()\n",
    "    psi_angles = degrees * np.array(psi(snapshot)).flatten()\n",
    "    if op_notinAorB(snapshot):\n",
    "        plt.plot(phi_angles, psi_angles, 'ro', linewidth=1);\n",
    "    else:\n",
    "        plt.plot(phi_angles, psi_angles, 'bo', linewidth=1);\n",
    "        \n",
    "plt.xlim(-180, 180);\n",
    "plt.ylim(-180, 180);"
   ]
  },
  {
   "cell_type": "code",
   "execution_count": 43,
   "metadata": {
    "collapsed": false,
    "scrolled": true
   },
   "outputs": [
    {
     "data": {
      "image/png": "[encoded data removed]",
      "text/plain": [
       "<matplotlib.figure.Figure at 0x11599f550>"
      ]
     },
     "metadata": {},
     "output_type": "display_data"
    }
   ],
   "source": [
    "plt.figure(figsize=(8, 8))\n",
    "\n",
    "traj = storage.samples.last.trajectory\n",
    "phi_angles = degrees * np.array(phi(traj)).flatten()\n",
    "psi_angles = degrees * np.array(psi(traj)).flatten()\n",
    "plt.plot(phi_angles, psi_angles, 'k-', linewidth=1);\n",
    "\n",
    "\n",
    "#for snapshot in simulator.storage.snapshot.iterator():\n",
    "for snapshot in traj:\n",
    "    phi_angles = degrees * np.array(phi(snapshot)).flatten()\n",
    "    psi_angles = degrees * np.array(psi(snapshot)).flatten()\n",
    "    if op_notinAorB(snapshot):\n",
    "        plt.plot(phi_angles, psi_angles, 'ro', linewidth=1);\n",
    "    else:\n",
    "        plt.plot(phi_angles, psi_angles, 'bo', linewidth=1);\n",
    "        \n",
    "plt.xlim(-180, 180);\n",
    "plt.ylim(-180, 180);"
   ]
  },
  {
   "cell_type": "code",
   "execution_count": null,
   "metadata": {
    "collapsed": true
   },
   "outputs": [],
   "source": []
  }
 ],
 "metadata": {
  "kernelspec": {
   "display_name": "Python 2",
   "language": "python",
   "name": "python2"
  },
  "language_info": {
   "codemirror_mode": {
    "name": "ipython",
    "version": 2
   },
   "file_extension": ".py",
   "mimetype": "text/x-python",
   "name": "python",
   "nbconvert_exporter": "python",
   "pygments_lexer": "ipython2",
   "version": "2.7.10"
  }
 },
 "nbformat": 4,
 "nbformat_minor": 0
}

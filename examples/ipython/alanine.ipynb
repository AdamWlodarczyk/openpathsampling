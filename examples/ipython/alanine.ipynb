{
 "worksheets": [
  {
   "cells": [
    {
     "cell_type": "markdown",
     "metadata": {},
     "source": [
      "# OPENTIS\n",
      "## An Example with Alanine"
     ]
    },
    {
     "cell_type": "markdown",
     "metadata": {},
     "source": [
      "Import Modules"
     ]
    },
    {
     "cell_type": "code",
     "metadata": {},
     "outputs": [],
     "input": [
      "import numpy as np\n",
      "import mdtraj as md\n",
      "import pandas as pd\n",
      "import time\n",
      "import sys, os\n",
      " \n",
      "# in principle, all of these imports should be simplified once this is a package\n",
      "from openpathsampling.orderparameter import OP_Function, OP_Volume, OP_MD_Function\n",
      "from openpathsampling.snapshot import Snapshot\n",
      "from openpathsampling.volume import LambdaVolumePeriodic, VolumeFactory as vf\n",
      "from openpathsampling.pathmover import PathMoverFactory as mf\n",
      "from openpathsampling.ensemble import EnsembleFactory as ef\n",
      "from openpathsampling.ensemble import (LengthEnsemble, SequentialEnsemble, OutXEnsemble,\n",
      "                      InXEnsemble, HitXEnsemble, LeaveXEnsemble)\n",
      "from openpathsampling.storage import Storage\n",
      "from openpathsampling.trajectory import Trajectory\n",
      "from openpathsampling.calculation import Bootstrapping\n",
      "from openpathsampling.shooting import UniformSelector\n",
      "from openpathsampling.pathmover import PathMover\n",
      "import simtk.unit as u\n",
      "\n",
      "from openpathsampling.openmm_engine import OpenMMEngine\n",
      "\n",
      "from openpathsampling.storage import Storage\n",
      "from openpathsampling.visualize import PathTreeBuilder\n",
      "from IPython.display import SVG"
     ],
     "language": "python",
     "prompt_number": 1
    },
    {
     "cell_type": "markdown",
     "metadata": {},
     "source": [
      "Radians to Degree conversion"
     ]
    },
    {
     "cell_type": "code",
     "metadata": {},
     "outputs": [],
     "input": [
      "degrees = 180/3.14159 # psi reports in radians; I think in degrees"
     ],
     "language": "python",
     "prompt_number": 2
    },
    {
     "cell_type": "markdown",
     "metadata": {},
     "source": [
      "Create an AlanineOpenMMSimulator for demonstration purposes"
     ]
    },
    {
     "cell_type": "markdown",
     "metadata": {},
     "source": [
      "### Set simulation options and create a simulator object"
     ]
    },
    {
     "cell_type": "code",
     "metadata": {},
     "outputs": [],
     "input": [
      "options = {\n",
      "            'temperature' : 300.0 * u.kelvin,\n",
      "            'collision_rate' : 1.0 / u.picoseconds,\n",
      "            'timestep' : 2.0 * u.femtoseconds,\n",
      "            'nsteps_per_frame' : 10,\n",
      "            'n_frames_max' : 5000,\n",
      "            'start_time' : time.time(),\n",
      "            'fn_initial_pdb' : \"../data/Alanine_solvated.pdb\",\n",
      "            'platform' : 'fastest',\n",
      "            'solute_indices' : range(22),\n",
      "            'forcefield_solute' : 'amber96.xml',\n",
      "            'forcefield_solvent' : 'tip3p.xml'\n",
      "           }"
     ],
     "language": "python",
     "prompt_number": 3
    },
    {
     "cell_type": "code",
     "metadata": {},
     "outputs": [],
     "input": [
      "engine = OpenMMEngine.auto(\n",
      "                filename=\"trajectory.nc\",\n",
      "                template=\"../data/Alanine_solvated.pdb\",\n",
      "                options=options,\n",
      "                mode='create'\n",
      "                )"
     ],
     "language": "python",
     "prompt_number": 4
    },
    {
     "cell_type": "markdown",
     "metadata": {},
     "source": [
      "And save the storage in a separate variable for convenience"
     ]
    },
    {
     "cell_type": "code",
     "metadata": {},
     "outputs": [],
     "input": [
      "storage = engine.storage\n",
      "PathMover.engine = engine"
     ],
     "language": "python",
     "prompt_number": 5
    },
    {
     "cell_type": "markdown",
     "metadata": {},
     "source": [
      "Equilibrate"
     ]
    },
    {
     "cell_type": "code",
     "metadata": {},
     "outputs": [],
     "input": [
      "engine.current_snapshot = engine.template\n",
      "engine.equilibrate(5)\n",
      "engine.initialized = True"
     ],
     "language": "python",
     "prompt_number": 6
    },
    {
     "cell_type": "markdown",
     "metadata": {},
     "source": [
      "Save equilibrated snapshot with index 0"
     ]
    },
    {
     "cell_type": "code",
     "metadata": {},
     "outputs": [],
     "input": [
      "storage.save(engine.current_snapshot);"
     ],
     "language": "python",
     "prompt_number": 7
    },
    {
     "cell_type": "markdown",
     "metadata": {},
     "source": [
      "### Order Parameters"
     ]
    },
    {
     "cell_type": "markdown",
     "metadata": {},
     "source": [
      "this generates an order parameter (callable) object named psi (so if we call `psi(trajectory)` we get a list of the values of psi for each frame in the trajectory). This particular order parameter uses mdtraj's compute_dihedrals function, with the atoms in psi_atoms"
     ]
    },
    {
     "cell_type": "code",
     "metadata": {},
     "outputs": [],
     "input": [
      "psi_atoms = [6,8,14,16]\n",
      "psi = OP_MD_Function(\"psi\", md.compute_dihedrals,\n",
      "                  indices=[psi_atoms])\n",
      "\n",
      "phi_atoms = [4,6,8,14]\n",
      "phi = OP_MD_Function(\"phi\", md.compute_dihedrals,\n",
      "                  indices=[phi_atoms])\n",
      "\n",
      "storage.save([psi, phi]);"
     ],
     "language": "python",
     "prompt_number": 8
    },
    {
     "cell_type": "markdown",
     "metadata": {},
     "source": [
      "### Volumes"
     ]
    },
    {
     "cell_type": "markdown",
     "metadata": {},
     "source": [
      "This creates two states using a one-dimensional order parameter (called _Lambda_ in TIS terminology). A snapshot is in the State as long as the order parameter is with specific bounds. "
     ]
    },
    {
     "cell_type": "code",
     "metadata": {},
     "outputs": [],
     "input": [
      "stateA = LambdaVolumePeriodic(\n",
      "    orderparameter=psi, \n",
      "    lambda_min=-120.0/degrees, \n",
      "    lambda_max=-30.0/degrees, \n",
      "    period_min=-180.0/degrees, \n",
      "    period_max=+180.0/degrees\n",
      ")\n",
      "stateB = LambdaVolumePeriodic(psi, 100/degrees, 180/degrees, -180.0/degrees, +180.0/degrees)"
     ],
     "language": "python",
     "prompt_number": 9
    },
    {
     "cell_type": "markdown",
     "metadata": {},
     "source": [
      "Now do the same for a set of lambda ranges to produce nested volumes."
     ]
    },
    {
     "cell_type": "code",
     "metadata": {},
     "outputs": [],
     "input": [
      "minima = map((1.0 / degrees).__mul__,\n",
      "             [-125, -135, -140, -142.5, -145.0, -147.0, -150.0])\n",
      "\n",
      "maxima = map((1.0 / degrees).__mul__,\n",
      "             [-25.0, -21.0, -18.5, -17.0, -15.0, -10.0, 0.0])\n",
      "\n",
      "volume_set = vf.LambdaVolumePeriodicSet(psi, minima, maxima, -180.0/degrees, +180.0/degrees)"
     ],
     "language": "python",
     "prompt_number": 10
    },
    {
     "cell_type": "markdown",
     "metadata": {},
     "source": [
      "### Ensembles"
     ]
    },
    {
     "cell_type": "markdown",
     "metadata": {},
     "source": [
      "Now do this automatically for all ensembles"
     ]
    },
    {
     "cell_type": "code",
     "metadata": {},
     "outputs": [],
     "input": [
      "interface0 = volume_set[0]\n",
      "interface_set = ef.TISEnsembleSet(stateA, stateA | stateB, volume_set)\n",
      "for no, interface in enumerate(interface_set):\n",
      "    # Give each interface a name\n",
      "    interface.name = 'Interface '+str(no)\n",
      "    # And save all of these\n",
      "    storage.ensemble.save(interface)"
     ],
     "language": "python",
     "prompt_number": 11
    },
    {
     "cell_type": "markdown",
     "metadata": {},
     "source": [
      "And create a special ensemble, that will create a first trajectory in the innermost TIS ensemble independent from where we start"
     ]
    },
    {
     "cell_type": "markdown",
     "metadata": {},
     "source": [
      "The idea is to describe a trajectory type by a sequence of positions. First can be outside of stateA or not, then be inside stateA, etc..."
     ]
    },
    {
     "cell_type": "code",
     "metadata": {},
     "outputs": [],
     "input": [
      "first_traj_ensemble = SequentialEnsemble([\n",
      "        OutXEnsemble(stateA) | LengthEnsemble(0),\n",
      "        InXEnsemble(stateA),\n",
      "        (OutXEnsemble(stateA) & InXEnsemble(interface0)) | LengthEnsemble(0),\n",
      "        InXEnsemble(interface0) | LengthEnsemble(0),\n",
      "        OutXEnsemble(interface0),\n",
      "        OutXEnsemble(stateA) | LengthEnsemble(0),\n",
      "        InXEnsemble(stateA) & LengthEnsemble(1)\n",
      "    ])"
     ],
     "language": "python",
     "prompt_number": 12
    },
    {
     "cell_type": "markdown",
     "metadata": {},
     "source": [
      "### start path generation"
     ]
    },
    {
     "cell_type": "markdown",
     "metadata": {},
     "source": [
      "so lets try and see if we can generate a first path"
     ]
    },
    {
     "cell_type": "markdown",
     "metadata": {},
     "source": [
      "load the initial snapshot (although we still have it) and generate using the Alanine simulator. The second option specifies a function : trajectory -> bool that keeps the simulation running as long as it is true. Our goal was to generate a path that belongs to a specific ensemble, so we use `forward` to determine if it makes sense to keep running or if the result cannot belong to the ensemble anymore."
     ]
    },
    {
     "cell_type": "code",
     "metadata": {},
     "outputs": [],
     "input": [
      "snapshot = storage.load(Snapshot, 0)\n",
      "total_path = engine.generate(\n",
      "    snapshot= snapshot, \n",
      "    running = [first_traj_ensemble.can_append]\n",
      ")"
     ],
     "language": "python",
     "prompt_number": 13
    },
    {
     "cell_type": "markdown",
     "metadata": {},
     "source": [
      "Show the length"
     ]
    },
    {
     "cell_type": "code",
     "metadata": {},
     "outputs": [
      {
       "output_type": "stream",
       "stream": "stdout",
       "text": [
        "Total trajectory length:  63\n"
       ]
      }
     ],
     "input": [
      "print \"Total trajectory length: \", len(total_path)"
     ],
     "language": "python",
     "prompt_number": 14
    },
    {
     "cell_type": "markdown",
     "metadata": {},
     "source": [
      "And save the trajetory completely"
     ]
    },
    {
     "cell_type": "code",
     "metadata": {},
     "outputs": [],
     "input": [
      "storage.save(total_path);"
     ],
     "language": "python",
     "prompt_number": 15
    },
    {
     "cell_type": "markdown",
     "metadata": {},
     "source": [
      "Split the trajectory into parts that belong to the TIS ensemble (not the one we generated)"
     ]
    },
    {
     "cell_type": "code",
     "metadata": {},
     "outputs": [
      {
       "output_type": "stream",
       "stream": "stdout",
       "text": [
        "Traj in first_traj_ensemble? (should be) True\n",
        "Traj in TIS ensemble? (probably not) False\n",
        "Number of segments in TIS ensemble:  1\n",
        "Length of each segment:\n",
        "  seg[0]: 14\n"
       ]
      }
     ],
     "input": [
      "interface0_ensemble = interface_set[0]\n",
      "segments = interface0_ensemble.split(total_path)\n",
      "\n",
      "print \"Traj in first_traj_ensemble? (should be)\", \n",
      "print first_traj_ensemble(total_path)\n",
      "\n",
      "print \"Traj in TIS ensemble? (probably not)\", \n",
      "print interface0_ensemble(total_path)\n",
      "\n",
      "\n",
      "print \"Number of segments in TIS ensemble: \", len(segments)\n",
      "if len(segments):\n",
      "    print \"Length of each segment:\"\n",
      "    for i in range(len(segments)):\n",
      "        print \"  seg[{0}]: {1}\".format(i, len(segments[i]))"
     ],
     "language": "python",
     "prompt_number": 16
    },
    {
     "cell_type": "markdown",
     "metadata": {},
     "source": [
      "Show some results and check if this worked"
     ]
    },
    {
     "cell_type": "code",
     "metadata": {},
     "outputs": [
      {
       "output_type": "pyout",
       "html": [
        "<div style=\"max-height:1000px;max-width:1500px;overflow:auto;\">\n",
        "<table border=\"1\" class=\"dataframe\">\n",
        "  <thead>\n",
        "    <tr style=\"text-align: right;\">\n",
        "      <th></th>\n",
        "      <th>phi</th>\n",
        "      <th>psi</th>\n",
        "      <th>stateA</th>\n",
        "      <th>interface0</th>\n",
        "      <th>stateB</th>\n",
        "      <th>appendable</th>\n",
        "    </tr>\n",
        "  </thead>\n",
        "  <tbody>\n",
        "    <tr>\n",
        "      <th>0 </th>\n",
        "      <td> -80.208523</td>\n",
        "      <td>-10.277041</td>\n",
        "      <td> [False]</td>\n",
        "      <td> [False]</td>\n",
        "      <td> [False]</td>\n",
        "      <td>  True</td>\n",
        "    </tr>\n",
        "    <tr>\n",
        "      <th>1 </th>\n",
        "      <td> -82.829863</td>\n",
        "      <td>-11.714492</td>\n",
        "      <td> [False]</td>\n",
        "      <td> [False]</td>\n",
        "      <td> [False]</td>\n",
        "      <td>  True</td>\n",
        "    </tr>\n",
        "    <tr>\n",
        "      <th>2 </th>\n",
        "      <td> -78.901101</td>\n",
        "      <td>-13.035664</td>\n",
        "      <td> [False]</td>\n",
        "      <td> [False]</td>\n",
        "      <td> [False]</td>\n",
        "      <td>  True</td>\n",
        "    </tr>\n",
        "    <tr>\n",
        "      <th>60</th>\n",
        "      <td>-127.229893</td>\n",
        "      <td>-23.609477</td>\n",
        "      <td> [False]</td>\n",
        "      <td> [False]</td>\n",
        "      <td> [False]</td>\n",
        "      <td>  True</td>\n",
        "    </tr>\n",
        "    <tr>\n",
        "      <th>61</th>\n",
        "      <td>-123.024529</td>\n",
        "      <td>-25.973602</td>\n",
        "      <td> [False]</td>\n",
        "      <td>  [True]</td>\n",
        "      <td> [False]</td>\n",
        "      <td>  True</td>\n",
        "    </tr>\n",
        "    <tr>\n",
        "      <th>62</th>\n",
        "      <td>-111.932627</td>\n",
        "      <td>-31.791504</td>\n",
        "      <td>  [True]</td>\n",
        "      <td>  [True]</td>\n",
        "      <td> [False]</td>\n",
        "      <td> False</td>\n",
        "    </tr>\n",
        "  </tbody>\n",
        "</table>\n",
        "</div>"
       ],
       "text": [
        "           phi        psi   stateA interface0   stateB appendable\n",
        "0   -80.208523 -10.277041  [False]    [False]  [False]       True\n",
        "1   -82.829863 -11.714492  [False]    [False]  [False]       True\n",
        "2   -78.901101 -13.035664  [False]    [False]  [False]       True\n",
        "60 -127.229893 -23.609477  [False]    [False]  [False]       True\n",
        "61 -123.024529 -25.973602  [False]     [True]  [False]       True\n",
        "62 -111.932627 -31.791504   [True]     [True]  [False]      False"
       ],
       "metadata": {}
      }
     ],
     "input": [
      "data = []\n",
      "for frame in total_path:\n",
      "    data.append((phi(frame)[0]*degrees, psi(frame)[0]*degrees, stateA(frame), interface0(frame), stateB(frame), first_traj_ensemble.can_append(total_path[slice(0,total_path.index(frame)+1)])))\n",
      "    \n",
      "dataframe = pd.DataFrame(data, columns=['phi', 'psi', 'stateA', 'interface0', 'stateB', 'appendable'])\n",
      "dataframe[[0,1,2,3,4,5]].ix[[0,1,2,len(dataframe)-3,len(dataframe)-2,len(dataframe)-1]]"
     ],
     "language": "python",
     "prompt_number": 17
    },
    {
     "cell_type": "code",
     "metadata": {},
     "outputs": [
      {
       "output_type": "stream",
       "stream": "stdout",
       "text": [
        "Do our segments satisfy the ensemble? True\n"
       ]
      }
     ],
     "input": [
      "print \"Do our segments satisfy the ensemble?\",\n",
      "for seg in segments:\n",
      "    print interface0_ensemble(seg),"
     ],
     "language": "python",
     "prompt_number": 18
    },
    {
     "cell_type": "code",
     "metadata": {},
     "outputs": [
      {
       "output_type": "pyout",
       "html": [
        "<div style=\"max-height:1000px;max-width:1500px;overflow:auto;\">\n",
        "<table border=\"1\" class=\"dataframe\">\n",
        "  <thead>\n",
        "    <tr style=\"text-align: right;\">\n",
        "      <th></th>\n",
        "      <th>phi</th>\n",
        "      <th>psi</th>\n",
        "      <th>stateA</th>\n",
        "      <th>interface0</th>\n",
        "      <th>stateB</th>\n",
        "      <th>appendable</th>\n",
        "    </tr>\n",
        "  </thead>\n",
        "  <tbody>\n",
        "    <tr>\n",
        "      <th>0 </th>\n",
        "      <td> -93.697809</td>\n",
        "      <td>-30.989233</td>\n",
        "      <td>  [True]</td>\n",
        "      <td>  [True]</td>\n",
        "      <td> [False]</td>\n",
        "      <td>  True</td>\n",
        "    </tr>\n",
        "    <tr>\n",
        "      <th>1 </th>\n",
        "      <td> -98.473557</td>\n",
        "      <td>-24.082644</td>\n",
        "      <td> [False]</td>\n",
        "      <td> [False]</td>\n",
        "      <td> [False]</td>\n",
        "      <td>  True</td>\n",
        "    </tr>\n",
        "    <tr>\n",
        "      <th>2 </th>\n",
        "      <td>-103.058387</td>\n",
        "      <td>-15.474319</td>\n",
        "      <td> [False]</td>\n",
        "      <td> [False]</td>\n",
        "      <td> [False]</td>\n",
        "      <td>  True</td>\n",
        "    </tr>\n",
        "    <tr>\n",
        "      <th>3 </th>\n",
        "      <td>-104.150248</td>\n",
        "      <td>-13.636008</td>\n",
        "      <td> [False]</td>\n",
        "      <td> [False]</td>\n",
        "      <td> [False]</td>\n",
        "      <td>  True</td>\n",
        "    </tr>\n",
        "    <tr>\n",
        "      <th>4 </th>\n",
        "      <td>-108.969552</td>\n",
        "      <td>-12.430816</td>\n",
        "      <td> [False]</td>\n",
        "      <td> [False]</td>\n",
        "      <td> [False]</td>\n",
        "      <td>  True</td>\n",
        "    </tr>\n",
        "    <tr>\n",
        "      <th>5 </th>\n",
        "      <td>-104.084651</td>\n",
        "      <td>-13.701760</td>\n",
        "      <td> [False]</td>\n",
        "      <td> [False]</td>\n",
        "      <td> [False]</td>\n",
        "      <td>  True</td>\n",
        "    </tr>\n",
        "    <tr>\n",
        "      <th>6 </th>\n",
        "      <td>-115.501274</td>\n",
        "      <td> -4.991554</td>\n",
        "      <td> [False]</td>\n",
        "      <td> [False]</td>\n",
        "      <td> [False]</td>\n",
        "      <td>  True</td>\n",
        "    </tr>\n",
        "    <tr>\n",
        "      <th>7 </th>\n",
        "      <td>-120.691949</td>\n",
        "      <td>-15.268430</td>\n",
        "      <td> [False]</td>\n",
        "      <td> [False]</td>\n",
        "      <td> [False]</td>\n",
        "      <td>  True</td>\n",
        "    </tr>\n",
        "    <tr>\n",
        "      <th>8 </th>\n",
        "      <td>-120.054323</td>\n",
        "      <td>-10.832020</td>\n",
        "      <td> [False]</td>\n",
        "      <td> [False]</td>\n",
        "      <td> [False]</td>\n",
        "      <td>  True</td>\n",
        "    </tr>\n",
        "    <tr>\n",
        "      <th>9 </th>\n",
        "      <td>-136.499424</td>\n",
        "      <td>-19.209191</td>\n",
        "      <td> [False]</td>\n",
        "      <td> [False]</td>\n",
        "      <td> [False]</td>\n",
        "      <td>  True</td>\n",
        "    </tr>\n",
        "    <tr>\n",
        "      <th>10</th>\n",
        "      <td>-124.466711</td>\n",
        "      <td>-17.673886</td>\n",
        "      <td> [False]</td>\n",
        "      <td> [False]</td>\n",
        "      <td> [False]</td>\n",
        "      <td>  True</td>\n",
        "    </tr>\n",
        "    <tr>\n",
        "      <th>11</th>\n",
        "      <td>-127.229893</td>\n",
        "      <td>-23.609477</td>\n",
        "      <td> [False]</td>\n",
        "      <td> [False]</td>\n",
        "      <td> [False]</td>\n",
        "      <td>  True</td>\n",
        "    </tr>\n",
        "    <tr>\n",
        "      <th>12</th>\n",
        "      <td>-123.024529</td>\n",
        "      <td>-25.973602</td>\n",
        "      <td> [False]</td>\n",
        "      <td>  [True]</td>\n",
        "      <td> [False]</td>\n",
        "      <td>  True</td>\n",
        "    </tr>\n",
        "    <tr>\n",
        "      <th>13</th>\n",
        "      <td>-111.932627</td>\n",
        "      <td>-31.791504</td>\n",
        "      <td>  [True]</td>\n",
        "      <td>  [True]</td>\n",
        "      <td> [False]</td>\n",
        "      <td> False</td>\n",
        "    </tr>\n",
        "  </tbody>\n",
        "</table>\n",
        "</div>"
       ],
       "text": [
        "           phi        psi   stateA interface0   stateB appendable\n",
        "0   -93.697809 -30.989233   [True]     [True]  [False]       True\n",
        "1   -98.473557 -24.082644  [False]    [False]  [False]       True\n",
        "2  -103.058387 -15.474319  [False]    [False]  [False]       True\n",
        "3  -104.150248 -13.636008  [False]    [False]  [False]       True\n",
        "4  -108.969552 -12.430816  [False]    [False]  [False]       True\n",
        "5  -104.084651 -13.701760  [False]    [False]  [False]       True\n",
        "6  -115.501274  -4.991554  [False]    [False]  [False]       True\n",
        "7  -120.691949 -15.268430  [False]    [False]  [False]       True\n",
        "8  -120.054323 -10.832020  [False]    [False]  [False]       True\n",
        "9  -136.499424 -19.209191  [False]    [False]  [False]       True\n",
        "10 -124.466711 -17.673886  [False]    [False]  [False]       True\n",
        "11 -127.229893 -23.609477  [False]    [False]  [False]       True\n",
        "12 -123.024529 -25.973602  [False]     [True]  [False]       True\n",
        "13 -111.932627 -31.791504   [True]     [True]  [False]      False"
       ],
       "metadata": {}
      }
     ],
     "input": [
      "data = []\n",
      "for frame in segments[0]:\n",
      "    data.append((phi(frame)[0]*degrees, psi(frame)[0]*degrees, stateA(frame), interface0(frame), stateB(frame), first_traj_ensemble.can_append(total_path[slice(0,total_path.index(frame)+1)])))\n",
      "    \n",
      "dataframe = pd.DataFrame(data, columns=['phi', 'psi', 'stateA', 'interface0', 'stateB', 'appendable'])\n",
      "dataframe[[0,1,2,3,4,5]]"
     ],
     "language": "python",
     "prompt_number": 19
    },
    {
     "cell_type": "markdown",
     "metadata": {},
     "source": [
      "### Bootstrapping"
     ]
    },
    {
     "cell_type": "markdown",
     "metadata": {},
     "source": [
      "Run a bootstrapping (not TIS) simulation that shoots from an ensemble until the next interface is reached then switch to the next ensemble to drive the system out of stateA"
     ]
    },
    {
     "cell_type": "code",
     "metadata": {},
     "outputs": [],
     "input": [
      "mover_set = mf.OneWayShootingSet(UniformSelector(), interface_set)"
     ],
     "language": "python",
     "prompt_number": 20
    },
    {
     "cell_type": "code",
     "metadata": {},
     "outputs": [],
     "input": [
      "bootstrap = Bootstrapping(storage=storage,\n",
      "                          engine=engine,\n",
      "                          ensembles=interface_set,\n",
      "                          movers=mover_set,\n",
      "                          trajectory=segments[0])"
     ],
     "language": "python",
     "prompt_number": 21
    },
    {
     "cell_type": "markdown",
     "metadata": {},
     "source": [
      "Run Bootstrapping with at most 50 attempts per ensemble"
     ]
    },
    {
     "cell_type": "code",
     "metadata": {},
     "outputs": [],
     "input": [
      "bootstrap.run(300)"
     ],
     "language": "python",
     "prompt_number": 22
    },
    {
     "cell_type": "markdown",
     "metadata": {},
     "source": [
      "Save all computed phi/psi values which depends on whether they have been needed before"
     ]
    },
    {
     "cell_type": "code",
     "metadata": {},
     "outputs": [],
     "input": [
      "storage.collectivevariable.sync(psi);\n",
      "storage.collectivevariable.sync(phi);"
     ],
     "language": "python",
     "prompt_number": 23
    },
    {
     "cell_type": "markdown",
     "metadata": {},
     "source": [
      "Create an orderparameter from a volume which is just 1 or 0 and can thus be stored for later analysis"
     ]
    },
    {
     "cell_type": "code",
     "metadata": {},
     "outputs": [],
     "input": [
      "op_inA = OP_Volume('StateA', stateA)\n",
      "op_inB = OP_Volume('StateB', stateB)\n",
      "op_notinAorB = OP_Volume('StateX', ~ (stateA | stateB))"
     ],
     "language": "python",
     "prompt_number": 24
    },
    {
     "cell_type": "markdown",
     "metadata": {},
     "source": [
      "Compute the orderparameter for all snapshots"
     ]
    },
    {
     "cell_type": "code",
     "metadata": {},
     "outputs": [],
     "input": [
      "op_inA(storage.snapshot.all())\n",
      "op_inB(storage.snapshot.all())\n",
      "op_notinAorB(storage.snapshot.all());"
     ],
     "language": "python",
     "prompt_number": 25
    },
    {
     "cell_type": "markdown",
     "metadata": {},
     "source": [
      "Save the new orderparameters"
     ]
    },
    {
     "cell_type": "code",
     "metadata": {},
     "outputs": [],
     "input": [
      "storage.save([op_inA, op_inB, op_notinAorB]);"
     ],
     "language": "python",
     "prompt_number": 26
    },
    {
     "cell_type": "markdown",
     "metadata": {},
     "source": [
      "## Visualization"
     ]
    },
    {
     "cell_type": "markdown",
     "metadata": {},
     "source": [
      "Create a PathTree generator"
     ]
    },
    {
     "cell_type": "code",
     "metadata": {},
     "outputs": [
      {
       "output_type": "pyout",
       "prompt_number": 27,
       "text": [
        "{OpenPathSampling netCDF Storage @ 'trajectory.nc': 2}"
       ],
       "metadata": {}
      }
     ],
     "input": [
      "tree = PathTreeBuilder(storage)\n",
      "op_inA.name\n",
      "storage.save(op_inA)\n",
      "storage.cv.load(0)\n",
      "op_inA.idx"
     ],
     "language": "python",
     "prompt_number": 27
    },
    {
     "cell_type": "markdown",
     "metadata": {},
     "source": [
      "Change the settings to show rejected pathways, mark OrderParaemters `stateA` and `stateX`, and show the 'psi' value as text inside of the boxes"
     ]
    },
    {
     "cell_type": "code",
     "metadata": {},
     "outputs": [],
     "input": [
      "tree.rejected = True\n",
      "tree.states = [('StateA','orange'),('StateX','black')]\n",
      "# Some ideas for orderparameters to visualize\n",
      "tree.op = storage.configuration.op_idx\n",
      "tree.op = lambda snap : 'B' if snap.reversed else 'F'\n",
      "tree.op = lambda snap : int(psi(snap)[0]/3.1415926 * 180)\n",
      "\n",
      "\n",
      "tree.from_samples(tree.construct_heritage(storage, storage.sample.last()))"
     ],
     "language": "python",
     "prompt_number": 28
    },
    {
     "cell_type": "markdown",
     "metadata": {},
     "source": [
      "Render the tree"
     ]
    },
    {
     "cell_type": "code",
     "metadata": {},
     "outputs": [
      {
       "svg": [
        "<svg baseProfile=\"full\" height=\"316.8px\" version=\"1.1\" width=\"739.2px\" xmlns=\"http://www.w3.org/2000/svg\" xmlns:ev=\"http://www.w3.org/2001/xml-events\" xmlns:xlink=\"http://www.w3.org/1999/xlink\"><defs/><rect fill=\"orange\" height=\"2.64\" stroke=\"orange\" stroke-width=\"1.32\" width=\"26.4\" x=\"686.4\" y=\"299.64\"/><rect fill=\"black\" height=\"2.64\" stroke=\"black\" stroke-width=\"1.32\" width=\"580.8\" x=\"105.6\" y=\"299.64\"/><rect fill=\"black\" height=\"2.64\" stroke=\"black\" stroke-width=\"1.32\" width=\"52.8\" x=\"79.2\" y=\"273.24\"/><rect fill=\"orange\" height=\"2.64\" stroke=\"orange\" stroke-width=\"1.32\" width=\"26.4\" x=\"52.8\" y=\"273.24\"/><rect fill=\"orange\" height=\"2.64\" stroke=\"orange\" stroke-width=\"1.32\" width=\"26.4\" x=\"554.4\" y=\"246.84\"/><rect fill=\"black\" height=\"2.64\" stroke=\"black\" stroke-width=\"1.32\" width=\"105.6\" x=\"448.8\" y=\"246.84\"/><rect fill=\"black\" height=\"2.64\" stroke=\"black\" stroke-width=\"1.32\" width=\"448.8\" x=\"79.2\" y=\"220.44\"/><rect fill=\"orange\" height=\"2.64\" stroke=\"orange\" stroke-width=\"1.32\" width=\"26.4\" x=\"52.8\" y=\"220.44\"/><rect fill=\"black\" height=\"2.64\" stroke=\"black\" stroke-width=\"1.32\" width=\"369.6\" x=\"132.0\" y=\"194.04\"/><rect fill=\"orange\" height=\"2.64\" stroke=\"orange\" stroke-width=\"1.32\" width=\"26.4\" x=\"105.6\" y=\"194.04\"/><rect fill=\"black\" height=\"2.64\" stroke=\"black\" stroke-width=\"1.32\" width=\"132.0\" x=\"52.8\" y=\"167.64\"/><rect fill=\"orange\" height=\"2.64\" stroke=\"orange\" stroke-width=\"1.32\" width=\"26.4\" x=\"26.4\" y=\"167.64\"/><rect fill=\"black\" height=\"2.64\" stroke=\"black\" stroke-width=\"1.32\" width=\"132.0\" x=\"52.8\" y=\"141.24\"/><rect fill=\"orange\" height=\"2.64\" stroke=\"orange\" stroke-width=\"1.32\" width=\"26.4\" x=\"26.4\" y=\"141.24\"/><rect fill=\"orange\" height=\"2.64\" stroke=\"orange\" stroke-width=\"1.32\" width=\"26.4\" x=\"607.2\" y=\"114.84\"/><rect fill=\"black\" height=\"2.64\" stroke=\"black\" stroke-width=\"1.32\" width=\"501.6\" x=\"105.6\" y=\"114.84\"/><rect fill=\"orange\" height=\"2.64\" stroke=\"orange\" stroke-width=\"1.32\" width=\"26.4\" x=\"316.8\" y=\"88.44\"/><rect fill=\"black\" height=\"2.64\" stroke=\"black\" stroke-width=\"1.32\" width=\"211.2\" x=\"105.6\" y=\"88.44\"/><rect fill=\"orange\" height=\"2.64\" stroke=\"orange\" stroke-width=\"1.32\" width=\"26.4\" x=\"343.2\" y=\"62.04\"/><rect fill=\"black\" height=\"2.64\" stroke=\"black\" stroke-width=\"1.32\" width=\"211.2\" x=\"132.0\" y=\"62.04\"/><rect fill=\"orange\" height=\"2.64\" stroke=\"orange\" stroke-width=\"1.32\" width=\"26.4\" x=\"369.6\" y=\"35.64\"/><rect fill=\"black\" height=\"2.64\" stroke=\"black\" stroke-width=\"1.32\" width=\"316.8\" x=\"52.8\" y=\"35.64\"/><rect fill=\"orange\" height=\"2.64\" stroke=\"orange\" stroke-width=\"1.32\" width=\"26.4\" x=\"26.4\" y=\"35.64\"/><rect fill=\"black\" height=\"15.84\" width=\"23.76\" x=\"27.72\" y=\"18.48\"/><circle cx=\"26.4\" cy=\"26.4\" fill=\"black\" r=\"1.32\" stroke=\"black\" stroke-width=\"0\"/><circle cx=\"52.8\" cy=\"26.4\" fill=\"black\" r=\"1.32\" stroke=\"black\" stroke-width=\"0\"/><text alignment-baseline=\"middle\" fill=\"white\" font-family=\"Futura\" font-size=\"9.24\" text-anchor=\"middle\" x=\"39.6\" y=\"27.72\">-30</text><rect fill=\"black\" height=\"15.84\" width=\"23.76\" x=\"54.12\" y=\"18.48\"/><circle cx=\"52.8\" cy=\"26.4\" fill=\"black\" r=\"1.32\" stroke=\"black\" stroke-width=\"0\"/><circle cx=\"79.2\" cy=\"26.4\" fill=\"black\" r=\"1.32\" stroke=\"black\" stroke-width=\"0\"/><text alignment-baseline=\"middle\" fill=\"white\" font-family=\"Futura\" font-size=\"9.24\" text-anchor=\"middle\" x=\"66.0\" y=\"27.72\">-24</text><rect fill=\"black\" height=\"15.84\" width=\"23.76\" x=\"80.52\" y=\"18.48\"/><circle cx=\"79.2\" cy=\"26.4\" fill=\"black\" r=\"1.32\" stroke=\"black\" stroke-width=\"0\"/><circle cx=\"105.6\" cy=\"26.4\" fill=\"black\" r=\"1.32\" stroke=\"black\" stroke-width=\"0\"/><text alignment-baseline=\"middle\" fill=\"white\" font-family=\"Futura\" font-size=\"9.24\" text-anchor=\"middle\" x=\"92.4\" y=\"27.72\">-15</text><rect fill=\"black\" height=\"15.84\" width=\"23.76\" x=\"106.92\" y=\"18.48\"/><circle cx=\"105.6\" cy=\"26.4\" fill=\"black\" r=\"1.32\" stroke=\"black\" stroke-width=\"0\"/><circle cx=\"132.0\" cy=\"26.4\" fill=\"black\" r=\"1.32\" stroke=\"black\" stroke-width=\"0\"/><text alignment-baseline=\"middle\" fill=\"white\" font-family=\"Futura\" font-size=\"9.24\" text-anchor=\"middle\" x=\"118.8\" y=\"27.72\">-13</text><rect fill=\"black\" height=\"15.84\" width=\"23.76\" x=\"133.32\" y=\"18.48\"/><circle cx=\"132.0\" cy=\"26.4\" fill=\"black\" r=\"1.32\" stroke=\"black\" stroke-width=\"0\"/><circle cx=\"158.4\" cy=\"26.4\" fill=\"black\" r=\"1.32\" stroke=\"black\" stroke-width=\"0\"/><text alignment-baseline=\"middle\" fill=\"white\" font-family=\"Futura\" font-size=\"9.24\" text-anchor=\"middle\" x=\"145.2\" y=\"27.72\">-12</text><rect fill=\"black\" height=\"15.84\" width=\"23.76\" x=\"159.72\" y=\"18.48\"/><circle cx=\"158.4\" cy=\"26.4\" fill=\"black\" r=\"1.32\" stroke=\"black\" stroke-width=\"0\"/><circle cx=\"184.8\" cy=\"26.4\" fill=\"black\" r=\"1.32\" stroke=\"black\" stroke-width=\"0\"/><text alignment-baseline=\"middle\" fill=\"white\" font-family=\"Futura\" font-size=\"9.24\" text-anchor=\"middle\" x=\"171.6\" y=\"27.72\">-13</text><rect fill=\"black\" height=\"15.84\" width=\"23.76\" x=\"186.12\" y=\"18.48\"/><circle cx=\"184.8\" cy=\"26.4\" fill=\"black\" r=\"1.32\" stroke=\"black\" stroke-width=\"0\"/><circle cx=\"211.2\" cy=\"26.4\" fill=\"black\" r=\"1.32\" stroke=\"black\" stroke-width=\"0\"/><text alignment-baseline=\"middle\" fill=\"white\" font-family=\"Futura\" font-size=\"9.24\" text-anchor=\"middle\" x=\"198.0\" y=\"27.72\">-4</text><rect fill=\"black\" height=\"15.84\" width=\"23.76\" x=\"212.52\" y=\"18.48\"/><circle cx=\"211.2\" cy=\"26.4\" fill=\"black\" r=\"1.32\" stroke=\"black\" stroke-width=\"0\"/><circle cx=\"237.6\" cy=\"26.4\" fill=\"black\" r=\"1.32\" stroke=\"black\" stroke-width=\"0\"/><text alignment-baseline=\"middle\" fill=\"white\" font-family=\"Futura\" font-size=\"9.24\" text-anchor=\"middle\" x=\"224.4\" y=\"27.72\">-15</text><rect fill=\"black\" height=\"15.84\" width=\"23.76\" x=\"238.92\" y=\"18.48\"/><circle cx=\"237.6\" cy=\"26.4\" fill=\"black\" r=\"1.32\" stroke=\"black\" stroke-width=\"0\"/><circle cx=\"264.0\" cy=\"26.4\" fill=\"black\" r=\"1.32\" stroke=\"black\" stroke-width=\"0\"/><text alignment-baseline=\"middle\" fill=\"white\" font-family=\"Futura\" font-size=\"9.24\" text-anchor=\"middle\" x=\"250.8\" y=\"27.72\">-10</text><rect fill=\"black\" height=\"15.84\" width=\"23.76\" x=\"265.32\" y=\"18.48\"/><circle cx=\"264.0\" cy=\"26.4\" fill=\"black\" r=\"1.32\" stroke=\"black\" stroke-width=\"0\"/><circle cx=\"290.4\" cy=\"26.4\" fill=\"black\" r=\"1.32\" stroke=\"black\" stroke-width=\"0\"/><text alignment-baseline=\"middle\" fill=\"white\" font-family=\"Futura\" font-size=\"9.24\" text-anchor=\"middle\" x=\"277.2\" y=\"27.72\">-19</text><rect fill=\"black\" height=\"15.84\" width=\"23.76\" x=\"291.72\" y=\"18.48\"/><circle cx=\"290.4\" cy=\"26.4\" fill=\"black\" r=\"1.32\" stroke=\"black\" stroke-width=\"0\"/><circle cx=\"316.8\" cy=\"26.4\" fill=\"black\" r=\"1.32\" stroke=\"black\" stroke-width=\"0\"/><text alignment-baseline=\"middle\" fill=\"white\" font-family=\"Futura\" font-size=\"9.24\" text-anchor=\"middle\" x=\"303.6\" y=\"27.72\">-17</text><rect fill=\"black\" height=\"15.84\" width=\"23.76\" x=\"318.12\" y=\"18.48\"/><circle cx=\"316.8\" cy=\"26.4\" fill=\"black\" r=\"1.32\" stroke=\"black\" stroke-width=\"0\"/><circle cx=\"343.2\" cy=\"26.4\" fill=\"black\" r=\"1.32\" stroke=\"black\" stroke-width=\"0\"/><text alignment-baseline=\"middle\" fill=\"white\" font-family=\"Futura\" font-size=\"9.24\" text-anchor=\"middle\" x=\"330.0\" y=\"27.72\">-23</text><rect fill=\"black\" height=\"15.84\" width=\"23.76\" x=\"344.52\" y=\"18.48\"/><circle cx=\"343.2\" cy=\"26.4\" fill=\"black\" r=\"1.32\" stroke=\"black\" stroke-width=\"0\"/><circle cx=\"369.6\" cy=\"26.4\" fill=\"black\" r=\"1.32\" stroke=\"black\" stroke-width=\"0\"/><text alignment-baseline=\"middle\" fill=\"white\" font-family=\"Futura\" font-size=\"9.24\" text-anchor=\"middle\" x=\"356.4\" y=\"27.72\">-25</text><rect fill=\"black\" height=\"15.84\" width=\"23.76\" x=\"370.92\" y=\"18.48\"/><circle cx=\"369.6\" cy=\"26.4\" fill=\"black\" r=\"1.32\" stroke=\"black\" stroke-width=\"0\"/><circle cx=\"396.0\" cy=\"26.4\" fill=\"black\" r=\"1.32\" stroke=\"black\" stroke-width=\"0\"/><text alignment-baseline=\"middle\" fill=\"white\" font-family=\"Futura\" font-size=\"9.24\" text-anchor=\"middle\" x=\"382.8\" y=\"27.72\">-31</text><text alignment-baseline=\"middle\" fill=\"black\" font-family=\"Futura\" font-size=\"9.24\" text-anchor=\"end\" x=\"21.12\" y=\"27.72\">2b</text><line stroke=\"red\" stroke-width=\"1.32\" x1=\"132.0\" x2=\"132.0\" y1=\"27.72\" y2=\"51.48\"/><text alignment-baseline=\"middle\" fill=\"black\" font-family=\"Futura\" font-size=\"9.24\" text-anchor=\"start\" x=\"374.88\" y=\"54.12\">2f</text><rect fill=\"red\" height=\"15.84\" width=\"23.76\" x=\"133.32\" y=\"44.88\"/><circle cx=\"132.0\" cy=\"52.8\" fill=\"red\" r=\"1.32\" stroke=\"red\" stroke-width=\"0\"/><circle cx=\"158.4\" cy=\"52.8\" fill=\"red\" r=\"1.32\" stroke=\"red\" stroke-width=\"0\"/><text alignment-baseline=\"middle\" fill=\"white\" font-family=\"Futura\" font-size=\"9.24\" text-anchor=\"middle\" x=\"145.2\" y=\"54.12\">-13</text><rect fill=\"red\" height=\"15.84\" width=\"23.76\" x=\"159.72\" y=\"44.88\"/><circle cx=\"158.4\" cy=\"52.8\" fill=\"red\" r=\"1.32\" stroke=\"red\" stroke-width=\"0\"/><circle cx=\"184.8\" cy=\"52.8\" fill=\"red\" r=\"1.32\" stroke=\"red\" stroke-width=\"0\"/><text alignment-baseline=\"middle\" fill=\"white\" font-family=\"Futura\" font-size=\"9.24\" text-anchor=\"middle\" x=\"171.6\" y=\"54.12\">-14</text><rect fill=\"red\" height=\"15.84\" width=\"23.76\" x=\"186.12\" y=\"44.88\"/><circle cx=\"184.8\" cy=\"52.8\" fill=\"red\" r=\"1.32\" stroke=\"red\" stroke-width=\"0\"/><circle cx=\"211.2\" cy=\"52.8\" fill=\"red\" r=\"1.32\" stroke=\"red\" stroke-width=\"0\"/><text alignment-baseline=\"middle\" fill=\"white\" font-family=\"Futura\" font-size=\"9.24\" text-anchor=\"middle\" x=\"198.0\" y=\"54.12\">-7</text><rect fill=\"red\" height=\"15.84\" width=\"23.76\" x=\"212.52\" y=\"44.88\"/><circle cx=\"211.2\" cy=\"52.8\" fill=\"red\" r=\"1.32\" stroke=\"red\" stroke-width=\"0\"/><circle cx=\"237.6\" cy=\"52.8\" fill=\"red\" r=\"1.32\" stroke=\"red\" stroke-width=\"0\"/><text alignment-baseline=\"middle\" fill=\"white\" font-family=\"Futura\" font-size=\"9.24\" text-anchor=\"middle\" x=\"224.4\" y=\"54.12\">-16</text><rect fill=\"red\" height=\"15.84\" width=\"23.76\" x=\"238.92\" y=\"44.88\"/><circle cx=\"237.6\" cy=\"52.8\" fill=\"red\" r=\"1.32\" stroke=\"red\" stroke-width=\"0\"/><circle cx=\"264.0\" cy=\"52.8\" fill=\"red\" r=\"1.32\" stroke=\"red\" stroke-width=\"0\"/><text alignment-baseline=\"middle\" fill=\"white\" font-family=\"Futura\" font-size=\"9.24\" text-anchor=\"middle\" x=\"250.8\" y=\"54.12\">-10</text><rect fill=\"red\" height=\"15.84\" width=\"23.76\" x=\"265.32\" y=\"44.88\"/><circle cx=\"264.0\" cy=\"52.8\" fill=\"red\" r=\"1.32\" stroke=\"red\" stroke-width=\"0\"/><circle cx=\"290.4\" cy=\"52.8\" fill=\"red\" r=\"1.32\" stroke=\"red\" stroke-width=\"0\"/><text alignment-baseline=\"middle\" fill=\"white\" font-family=\"Futura\" font-size=\"9.24\" text-anchor=\"middle\" x=\"277.2\" y=\"54.12\">-24</text><rect fill=\"red\" height=\"15.84\" width=\"23.76\" x=\"291.72\" y=\"44.88\"/><circle cx=\"290.4\" cy=\"52.8\" fill=\"red\" r=\"1.32\" stroke=\"red\" stroke-width=\"0\"/><circle cx=\"316.8\" cy=\"52.8\" fill=\"red\" r=\"1.32\" stroke=\"red\" stroke-width=\"0\"/><text alignment-baseline=\"middle\" fill=\"white\" font-family=\"Futura\" font-size=\"9.24\" text-anchor=\"middle\" x=\"303.6\" y=\"54.12\">-19</text><rect fill=\"red\" height=\"15.84\" width=\"23.76\" x=\"318.12\" y=\"44.88\"/><circle cx=\"316.8\" cy=\"52.8\" fill=\"red\" r=\"1.32\" stroke=\"red\" stroke-width=\"0\"/><circle cx=\"343.2\" cy=\"52.8\" fill=\"red\" r=\"1.32\" stroke=\"red\" stroke-width=\"0\"/><text alignment-baseline=\"middle\" fill=\"white\" font-family=\"Futura\" font-size=\"9.24\" text-anchor=\"middle\" x=\"330.0\" y=\"54.12\">-29</text><rect fill=\"red\" height=\"15.84\" width=\"23.76\" x=\"344.52\" y=\"44.88\"/><circle cx=\"343.2\" cy=\"52.8\" fill=\"red\" r=\"1.32\" stroke=\"red\" stroke-width=\"0\"/><circle cx=\"369.6\" cy=\"52.8\" fill=\"red\" r=\"1.32\" stroke=\"red\" stroke-width=\"0\"/><text alignment-baseline=\"middle\" fill=\"white\" font-family=\"Futura\" font-size=\"9.24\" text-anchor=\"middle\" x=\"356.4\" y=\"54.12\">-31</text><line stroke=\"red\" stroke-width=\"1.32\" x1=\"105.6\" x2=\"105.6\" y1=\"27.72\" y2=\"77.88\"/><text alignment-baseline=\"middle\" fill=\"black\" font-family=\"Futura\" font-size=\"9.24\" text-anchor=\"start\" x=\"348.48\" y=\"80.52\">3f</text><rect fill=\"red\" height=\"15.84\" width=\"23.76\" x=\"106.92\" y=\"71.28\"/><circle cx=\"105.6\" cy=\"79.2\" fill=\"red\" r=\"1.32\" stroke=\"red\" stroke-width=\"0\"/><circle cx=\"132.0\" cy=\"79.2\" fill=\"red\" r=\"1.32\" stroke=\"red\" stroke-width=\"0\"/><text alignment-baseline=\"middle\" fill=\"white\" font-family=\"Futura\" font-size=\"9.24\" text-anchor=\"middle\" x=\"118.8\" y=\"80.52\">-12</text><rect fill=\"red\" height=\"15.84\" width=\"23.76\" x=\"133.32\" y=\"71.28\"/><circle cx=\"132.0\" cy=\"79.2\" fill=\"red\" r=\"1.32\" stroke=\"red\" stroke-width=\"0\"/><circle cx=\"158.4\" cy=\"79.2\" fill=\"red\" r=\"1.32\" stroke=\"red\" stroke-width=\"0\"/><text alignment-baseline=\"middle\" fill=\"white\" font-family=\"Futura\" font-size=\"9.24\" text-anchor=\"middle\" x=\"145.2\" y=\"80.52\">-15</text><rect fill=\"red\" height=\"15.84\" width=\"23.76\" x=\"159.72\" y=\"71.28\"/><circle cx=\"158.4\" cy=\"79.2\" fill=\"red\" r=\"1.32\" stroke=\"red\" stroke-width=\"0\"/><circle cx=\"184.8\" cy=\"79.2\" fill=\"red\" r=\"1.32\" stroke=\"red\" stroke-width=\"0\"/><text alignment-baseline=\"middle\" fill=\"white\" font-family=\"Futura\" font-size=\"9.24\" text-anchor=\"middle\" x=\"171.6\" y=\"80.52\">-12</text><rect fill=\"red\" height=\"15.84\" width=\"23.76\" x=\"186.12\" y=\"71.28\"/><circle cx=\"184.8\" cy=\"79.2\" fill=\"red\" r=\"1.32\" stroke=\"red\" stroke-width=\"0\"/><circle cx=\"211.2\" cy=\"79.2\" fill=\"red\" r=\"1.32\" stroke=\"red\" stroke-width=\"0\"/><text alignment-baseline=\"middle\" fill=\"white\" font-family=\"Futura\" font-size=\"9.24\" text-anchor=\"middle\" x=\"198.0\" y=\"80.52\">-7</text><rect fill=\"red\" height=\"15.84\" width=\"23.76\" x=\"212.52\" y=\"71.28\"/><circle cx=\"211.2\" cy=\"79.2\" fill=\"red\" r=\"1.32\" stroke=\"red\" stroke-width=\"0\"/><circle cx=\"237.6\" cy=\"79.2\" fill=\"red\" r=\"1.32\" stroke=\"red\" stroke-width=\"0\"/><text alignment-baseline=\"middle\" fill=\"white\" font-family=\"Futura\" font-size=\"9.24\" text-anchor=\"middle\" x=\"224.4\" y=\"80.52\">-18</text><rect fill=\"red\" height=\"15.84\" width=\"23.76\" x=\"238.92\" y=\"71.28\"/><circle cx=\"237.6\" cy=\"79.2\" fill=\"red\" r=\"1.32\" stroke=\"red\" stroke-width=\"0\"/><circle cx=\"264.0\" cy=\"79.2\" fill=\"red\" r=\"1.32\" stroke=\"red\" stroke-width=\"0\"/><text alignment-baseline=\"middle\" fill=\"white\" font-family=\"Futura\" font-size=\"9.24\" text-anchor=\"middle\" x=\"250.8\" y=\"80.52\">-14</text><rect fill=\"red\" height=\"15.84\" width=\"23.76\" x=\"265.32\" y=\"71.28\"/><circle cx=\"264.0\" cy=\"79.2\" fill=\"red\" r=\"1.32\" stroke=\"red\" stroke-width=\"0\"/><circle cx=\"290.4\" cy=\"79.2\" fill=\"red\" r=\"1.32\" stroke=\"red\" stroke-width=\"0\"/><text alignment-baseline=\"middle\" fill=\"white\" font-family=\"Futura\" font-size=\"9.24\" text-anchor=\"middle\" x=\"277.2\" y=\"80.52\">-27</text><rect fill=\"red\" height=\"15.84\" width=\"23.76\" x=\"291.72\" y=\"71.28\"/><circle cx=\"290.4\" cy=\"79.2\" fill=\"red\" r=\"1.32\" stroke=\"red\" stroke-width=\"0\"/><circle cx=\"316.8\" cy=\"79.2\" fill=\"red\" r=\"1.32\" stroke=\"red\" stroke-width=\"0\"/><text alignment-baseline=\"middle\" fill=\"white\" font-family=\"Futura\" font-size=\"9.24\" text-anchor=\"middle\" x=\"303.6\" y=\"80.52\">-26</text><rect fill=\"red\" height=\"15.84\" width=\"23.76\" x=\"318.12\" y=\"71.28\"/><circle cx=\"316.8\" cy=\"79.2\" fill=\"red\" r=\"1.32\" stroke=\"red\" stroke-width=\"0\"/><circle cx=\"343.2\" cy=\"79.2\" fill=\"red\" r=\"1.32\" stroke=\"red\" stroke-width=\"0\"/><text alignment-baseline=\"middle\" fill=\"white\" font-family=\"Futura\" font-size=\"9.24\" text-anchor=\"middle\" x=\"330.0\" y=\"80.52\">-32</text><line stroke=\"red\" stroke-width=\"1.32\" x1=\"105.6\" x2=\"105.6\" y1=\"27.72\" y2=\"104.28\"/><text alignment-baseline=\"middle\" fill=\"black\" font-family=\"Futura\" font-size=\"9.24\" text-anchor=\"start\" x=\"638.88\" y=\"106.92\">4f</text><rect fill=\"red\" height=\"15.84\" width=\"23.76\" x=\"106.92\" y=\"97.68\"/><circle cx=\"105.6\" cy=\"105.6\" fill=\"red\" r=\"1.32\" stroke=\"red\" stroke-width=\"0\"/><circle cx=\"132.0\" cy=\"105.6\" fill=\"red\" r=\"1.32\" stroke=\"red\" stroke-width=\"0\"/><text alignment-baseline=\"middle\" fill=\"white\" font-family=\"Futura\" font-size=\"9.24\" text-anchor=\"middle\" x=\"118.8\" y=\"106.92\">-12</text><rect fill=\"red\" height=\"15.84\" width=\"23.76\" x=\"133.32\" y=\"97.68\"/><circle cx=\"132.0\" cy=\"105.6\" fill=\"red\" r=\"1.32\" stroke=\"red\" stroke-width=\"0\"/><circle cx=\"158.4\" cy=\"105.6\" fill=\"red\" r=\"1.32\" stroke=\"red\" stroke-width=\"0\"/><text alignment-baseline=\"middle\" fill=\"white\" font-family=\"Futura\" font-size=\"9.24\" text-anchor=\"middle\" x=\"145.2\" y=\"106.92\">-12</text><rect fill=\"red\" height=\"15.84\" width=\"23.76\" x=\"159.72\" y=\"97.68\"/><circle cx=\"158.4\" cy=\"105.6\" fill=\"red\" r=\"1.32\" stroke=\"red\" stroke-width=\"0\"/><circle cx=\"184.8\" cy=\"105.6\" fill=\"red\" r=\"1.32\" stroke=\"red\" stroke-width=\"0\"/><text alignment-baseline=\"middle\" fill=\"white\" font-family=\"Futura\" font-size=\"9.24\" text-anchor=\"middle\" x=\"171.6\" y=\"106.92\">-9</text><rect fill=\"red\" height=\"15.84\" width=\"23.76\" x=\"186.12\" y=\"97.68\"/><circle cx=\"184.8\" cy=\"105.6\" fill=\"red\" r=\"1.32\" stroke=\"red\" stroke-width=\"0\"/><circle cx=\"211.2\" cy=\"105.6\" fill=\"red\" r=\"1.32\" stroke=\"red\" stroke-width=\"0\"/><text alignment-baseline=\"middle\" fill=\"white\" font-family=\"Futura\" font-size=\"9.24\" text-anchor=\"middle\" x=\"198.0\" y=\"106.92\">-2</text><rect fill=\"red\" height=\"15.84\" width=\"23.76\" x=\"212.52\" y=\"97.68\"/><circle cx=\"211.2\" cy=\"105.6\" fill=\"red\" r=\"1.32\" stroke=\"red\" stroke-width=\"0\"/><circle cx=\"237.6\" cy=\"105.6\" fill=\"red\" r=\"1.32\" stroke=\"red\" stroke-width=\"0\"/><text alignment-baseline=\"middle\" fill=\"white\" font-family=\"Futura\" font-size=\"9.24\" text-anchor=\"middle\" x=\"224.4\" y=\"106.92\">-8</text><rect fill=\"red\" height=\"15.84\" width=\"23.76\" x=\"238.92\" y=\"97.68\"/><circle cx=\"237.6\" cy=\"105.6\" fill=\"red\" r=\"1.32\" stroke=\"red\" stroke-width=\"0\"/><circle cx=\"264.0\" cy=\"105.6\" fill=\"red\" r=\"1.32\" stroke=\"red\" stroke-width=\"0\"/><text alignment-baseline=\"middle\" fill=\"white\" font-family=\"Futura\" font-size=\"9.24\" text-anchor=\"middle\" x=\"250.8\" y=\"106.92\">-3</text><rect fill=\"red\" height=\"15.84\" width=\"23.76\" x=\"265.32\" y=\"97.68\"/><circle cx=\"264.0\" cy=\"105.6\" fill=\"red\" r=\"1.32\" stroke=\"red\" stroke-width=\"0\"/><circle cx=\"290.4\" cy=\"105.6\" fill=\"red\" r=\"1.32\" stroke=\"red\" stroke-width=\"0\"/><text alignment-baseline=\"middle\" fill=\"white\" font-family=\"Futura\" font-size=\"9.24\" text-anchor=\"middle\" x=\"277.2\" y=\"106.92\">-8</text><rect fill=\"red\" height=\"15.84\" width=\"23.76\" x=\"291.72\" y=\"97.68\"/><circle cx=\"290.4\" cy=\"105.6\" fill=\"red\" r=\"1.32\" stroke=\"red\" stroke-width=\"0\"/><circle cx=\"316.8\" cy=\"105.6\" fill=\"red\" r=\"1.32\" stroke=\"red\" stroke-width=\"0\"/><text alignment-baseline=\"middle\" fill=\"white\" font-family=\"Futura\" font-size=\"9.24\" text-anchor=\"middle\" x=\"303.6\" y=\"106.92\">-9</text><rect fill=\"red\" height=\"15.84\" width=\"23.76\" x=\"318.12\" y=\"97.68\"/><circle cx=\"316.8\" cy=\"105.6\" fill=\"red\" r=\"1.32\" stroke=\"red\" stroke-width=\"0\"/><circle cx=\"343.2\" cy=\"105.6\" fill=\"red\" r=\"1.32\" stroke=\"red\" stroke-width=\"0\"/><text alignment-baseline=\"middle\" fill=\"white\" font-family=\"Futura\" font-size=\"9.24\" text-anchor=\"middle\" x=\"330.0\" y=\"106.92\">-14</text><rect fill=\"red\" height=\"15.84\" width=\"23.76\" x=\"344.52\" y=\"97.68\"/><circle cx=\"343.2\" cy=\"105.6\" fill=\"red\" r=\"1.32\" stroke=\"red\" stroke-width=\"0\"/><circle cx=\"369.6\" cy=\"105.6\" fill=\"red\" r=\"1.32\" stroke=\"red\" stroke-width=\"0\"/><text alignment-baseline=\"middle\" fill=\"white\" font-family=\"Futura\" font-size=\"9.24\" text-anchor=\"middle\" x=\"356.4\" y=\"106.92\">-15</text><rect fill=\"red\" height=\"15.84\" width=\"23.76\" x=\"370.92\" y=\"97.68\"/><circle cx=\"369.6\" cy=\"105.6\" fill=\"red\" r=\"1.32\" stroke=\"red\" stroke-width=\"0\"/><circle cx=\"396.0\" cy=\"105.6\" fill=\"red\" r=\"1.32\" stroke=\"red\" stroke-width=\"0\"/><text alignment-baseline=\"middle\" fill=\"white\" font-family=\"Futura\" font-size=\"9.24\" text-anchor=\"middle\" x=\"382.8\" y=\"106.92\">-18</text><rect fill=\"red\" height=\"15.84\" width=\"23.76\" x=\"397.32\" y=\"97.68\"/><circle cx=\"396.0\" cy=\"105.6\" fill=\"red\" r=\"1.32\" stroke=\"red\" stroke-width=\"0\"/><circle cx=\"422.4\" cy=\"105.6\" fill=\"red\" r=\"1.32\" stroke=\"red\" stroke-width=\"0\"/><text alignment-baseline=\"middle\" fill=\"white\" font-family=\"Futura\" font-size=\"9.24\" text-anchor=\"middle\" x=\"409.2\" y=\"106.92\">-22</text><rect fill=\"red\" height=\"15.84\" width=\"23.76\" x=\"423.72\" y=\"97.68\"/><circle cx=\"422.4\" cy=\"105.6\" fill=\"red\" r=\"1.32\" stroke=\"red\" stroke-width=\"0\"/><circle cx=\"448.8\" cy=\"105.6\" fill=\"red\" r=\"1.32\" stroke=\"red\" stroke-width=\"0\"/><text alignment-baseline=\"middle\" fill=\"white\" font-family=\"Futura\" font-size=\"9.24\" text-anchor=\"middle\" x=\"435.6\" y=\"106.92\">-21</text><rect fill=\"red\" height=\"15.84\" width=\"23.76\" x=\"450.12\" y=\"97.68\"/><circle cx=\"448.8\" cy=\"105.6\" fill=\"red\" r=\"1.32\" stroke=\"red\" stroke-width=\"0\"/><circle cx=\"475.2\" cy=\"105.6\" fill=\"red\" r=\"1.32\" stroke=\"red\" stroke-width=\"0\"/><text alignment-baseline=\"middle\" fill=\"white\" font-family=\"Futura\" font-size=\"9.24\" text-anchor=\"middle\" x=\"462.0\" y=\"106.92\">-28</text><rect fill=\"red\" height=\"15.84\" width=\"23.76\" x=\"476.52\" y=\"97.68\"/><circle cx=\"475.2\" cy=\"105.6\" fill=\"red\" r=\"1.32\" stroke=\"red\" stroke-width=\"0\"/><circle cx=\"501.6\" cy=\"105.6\" fill=\"red\" r=\"1.32\" stroke=\"red\" stroke-width=\"0\"/><text alignment-baseline=\"middle\" fill=\"white\" font-family=\"Futura\" font-size=\"9.24\" text-anchor=\"middle\" x=\"488.4\" y=\"106.92\">-24</text><rect fill=\"red\" height=\"15.84\" width=\"23.76\" x=\"502.92\" y=\"97.68\"/><circle cx=\"501.6\" cy=\"105.6\" fill=\"red\" r=\"1.32\" stroke=\"red\" stroke-width=\"0\"/><circle cx=\"528.0\" cy=\"105.6\" fill=\"red\" r=\"1.32\" stroke=\"red\" stroke-width=\"0\"/><text alignment-baseline=\"middle\" fill=\"white\" font-family=\"Futura\" font-size=\"9.24\" text-anchor=\"middle\" x=\"514.8\" y=\"106.92\">-28</text><rect fill=\"red\" height=\"15.84\" width=\"23.76\" x=\"529.32\" y=\"97.68\"/><circle cx=\"528.0\" cy=\"105.6\" fill=\"red\" r=\"1.32\" stroke=\"red\" stroke-width=\"0\"/><circle cx=\"554.4\" cy=\"105.6\" fill=\"red\" r=\"1.32\" stroke=\"red\" stroke-width=\"0\"/><text alignment-baseline=\"middle\" fill=\"white\" font-family=\"Futura\" font-size=\"9.24\" text-anchor=\"middle\" x=\"541.2\" y=\"106.92\">-22</text><rect fill=\"red\" height=\"15.84\" width=\"23.76\" x=\"555.72\" y=\"97.68\"/><circle cx=\"554.4\" cy=\"105.6\" fill=\"red\" r=\"1.32\" stroke=\"red\" stroke-width=\"0\"/><circle cx=\"580.8\" cy=\"105.6\" fill=\"red\" r=\"1.32\" stroke=\"red\" stroke-width=\"0\"/><text alignment-baseline=\"middle\" fill=\"white\" font-family=\"Futura\" font-size=\"9.24\" text-anchor=\"middle\" x=\"567.6\" y=\"106.92\">-28</text><rect fill=\"red\" height=\"15.84\" width=\"23.76\" x=\"582.12\" y=\"97.68\"/><circle cx=\"580.8\" cy=\"105.6\" fill=\"red\" r=\"1.32\" stroke=\"red\" stroke-width=\"0\"/><circle cx=\"607.2\" cy=\"105.6\" fill=\"red\" r=\"1.32\" stroke=\"red\" stroke-width=\"0\"/><text alignment-baseline=\"middle\" fill=\"white\" font-family=\"Futura\" font-size=\"9.24\" text-anchor=\"middle\" x=\"594.0\" y=\"106.92\">-28</text><rect fill=\"red\" height=\"15.84\" width=\"23.76\" x=\"608.52\" y=\"97.68\"/><circle cx=\"607.2\" cy=\"105.6\" fill=\"red\" r=\"1.32\" stroke=\"red\" stroke-width=\"0\"/><circle cx=\"633.6\" cy=\"105.6\" fill=\"red\" r=\"1.32\" stroke=\"red\" stroke-width=\"0\"/><text alignment-baseline=\"middle\" fill=\"white\" font-family=\"Futura\" font-size=\"9.24\" text-anchor=\"middle\" x=\"620.4\" y=\"106.92\">-32</text><line stroke=\"green\" stroke-width=\"1.32\" x1=\"184.8\" x2=\"184.8\" y1=\"106.92\" y2=\"130.68\"/><text alignment-baseline=\"middle\" fill=\"black\" font-family=\"Futura\" font-size=\"9.24\" text-anchor=\"end\" x=\"21.12\" y=\"133.32\">7b</text><rect fill=\"green\" height=\"15.84\" width=\"23.76\" x=\"27.72\" y=\"124.08\"/><circle cx=\"26.4\" cy=\"132.0\" fill=\"green\" r=\"1.32\" stroke=\"green\" stroke-width=\"0\"/><circle cx=\"52.8\" cy=\"132.0\" fill=\"green\" r=\"1.32\" stroke=\"green\" stroke-width=\"0\"/><text alignment-baseline=\"middle\" fill=\"white\" font-family=\"Futura\" font-size=\"9.24\" text-anchor=\"middle\" x=\"39.6\" y=\"133.32\">-33</text><rect fill=\"green\" height=\"15.84\" width=\"23.76\" x=\"54.12\" y=\"124.08\"/><circle cx=\"52.8\" cy=\"132.0\" fill=\"green\" r=\"1.32\" stroke=\"green\" stroke-width=\"0\"/><circle cx=\"79.2\" cy=\"132.0\" fill=\"green\" r=\"1.32\" stroke=\"green\" stroke-width=\"0\"/><text alignment-baseline=\"middle\" fill=\"white\" font-family=\"Futura\" font-size=\"9.24\" text-anchor=\"middle\" x=\"66.0\" y=\"133.32\">-26</text><rect fill=\"green\" height=\"15.84\" width=\"23.76\" x=\"80.52\" y=\"124.08\"/><circle cx=\"79.2\" cy=\"132.0\" fill=\"green\" r=\"1.32\" stroke=\"green\" stroke-width=\"0\"/><circle cx=\"105.6\" cy=\"132.0\" fill=\"green\" r=\"1.32\" stroke=\"green\" stroke-width=\"0\"/><text alignment-baseline=\"middle\" fill=\"white\" font-family=\"Futura\" font-size=\"9.24\" text-anchor=\"middle\" x=\"92.4\" y=\"133.32\">-19</text><rect fill=\"green\" height=\"15.84\" width=\"23.76\" x=\"106.92\" y=\"124.08\"/><circle cx=\"105.6\" cy=\"132.0\" fill=\"green\" r=\"1.32\" stroke=\"green\" stroke-width=\"0\"/><circle cx=\"132.0\" cy=\"132.0\" fill=\"green\" r=\"1.32\" stroke=\"green\" stroke-width=\"0\"/><text alignment-baseline=\"middle\" fill=\"white\" font-family=\"Futura\" font-size=\"9.24\" text-anchor=\"middle\" x=\"118.8\" y=\"133.32\">-12</text><rect fill=\"green\" height=\"15.84\" width=\"23.76\" x=\"133.32\" y=\"124.08\"/><circle cx=\"132.0\" cy=\"132.0\" fill=\"green\" r=\"1.32\" stroke=\"green\" stroke-width=\"0\"/><circle cx=\"158.4\" cy=\"132.0\" fill=\"green\" r=\"1.32\" stroke=\"green\" stroke-width=\"0\"/><text alignment-baseline=\"middle\" fill=\"white\" font-family=\"Futura\" font-size=\"9.24\" text-anchor=\"middle\" x=\"145.2\" y=\"133.32\">-14</text><rect fill=\"green\" height=\"15.84\" width=\"23.76\" x=\"159.72\" y=\"124.08\"/><circle cx=\"158.4\" cy=\"132.0\" fill=\"green\" r=\"1.32\" stroke=\"green\" stroke-width=\"0\"/><circle cx=\"184.8\" cy=\"132.0\" fill=\"green\" r=\"1.32\" stroke=\"green\" stroke-width=\"0\"/><text alignment-baseline=\"middle\" fill=\"white\" font-family=\"Futura\" font-size=\"9.24\" text-anchor=\"middle\" x=\"171.6\" y=\"133.32\">-9</text><line stroke=\"green\" stroke-width=\"1.32\" x1=\"184.8\" x2=\"184.8\" y1=\"106.92\" y2=\"157.08\"/><text alignment-baseline=\"middle\" fill=\"black\" font-family=\"Futura\" font-size=\"9.24\" text-anchor=\"end\" x=\"21.12\" y=\"159.72\">8b</text><rect fill=\"green\" height=\"15.84\" width=\"23.76\" x=\"27.72\" y=\"150.48\"/><circle cx=\"26.4\" cy=\"158.4\" fill=\"green\" r=\"1.32\" stroke=\"green\" stroke-width=\"0\"/><circle cx=\"52.8\" cy=\"158.4\" fill=\"green\" r=\"1.32\" stroke=\"green\" stroke-width=\"0\"/><text alignment-baseline=\"middle\" fill=\"white\" font-family=\"Futura\" font-size=\"9.24\" text-anchor=\"middle\" x=\"39.6\" y=\"159.72\">-34</text><rect fill=\"green\" height=\"15.84\" width=\"23.76\" x=\"54.12\" y=\"150.48\"/><circle cx=\"52.8\" cy=\"158.4\" fill=\"green\" r=\"1.32\" stroke=\"green\" stroke-width=\"0\"/><circle cx=\"79.2\" cy=\"158.4\" fill=\"green\" r=\"1.32\" stroke=\"green\" stroke-width=\"0\"/><text alignment-baseline=\"middle\" fill=\"white\" font-family=\"Futura\" font-size=\"9.24\" text-anchor=\"middle\" x=\"66.0\" y=\"159.72\">-27</text><rect fill=\"green\" height=\"15.84\" width=\"23.76\" x=\"80.52\" y=\"150.48\"/><circle cx=\"79.2\" cy=\"158.4\" fill=\"green\" r=\"1.32\" stroke=\"green\" stroke-width=\"0\"/><circle cx=\"105.6\" cy=\"158.4\" fill=\"green\" r=\"1.32\" stroke=\"green\" stroke-width=\"0\"/><text alignment-baseline=\"middle\" fill=\"white\" font-family=\"Futura\" font-size=\"9.24\" text-anchor=\"middle\" x=\"92.4\" y=\"159.72\">-18</text><rect fill=\"green\" height=\"15.84\" width=\"23.76\" x=\"106.92\" y=\"150.48\"/><circle cx=\"105.6\" cy=\"158.4\" fill=\"green\" r=\"1.32\" stroke=\"green\" stroke-width=\"0\"/><circle cx=\"132.0\" cy=\"158.4\" fill=\"green\" r=\"1.32\" stroke=\"green\" stroke-width=\"0\"/><text alignment-baseline=\"middle\" fill=\"white\" font-family=\"Futura\" font-size=\"9.24\" text-anchor=\"middle\" x=\"118.8\" y=\"159.72\">-14</text><rect fill=\"green\" height=\"15.84\" width=\"23.76\" x=\"133.32\" y=\"150.48\"/><circle cx=\"132.0\" cy=\"158.4\" fill=\"green\" r=\"1.32\" stroke=\"green\" stroke-width=\"0\"/><circle cx=\"158.4\" cy=\"158.4\" fill=\"green\" r=\"1.32\" stroke=\"green\" stroke-width=\"0\"/><text alignment-baseline=\"middle\" fill=\"white\" font-family=\"Futura\" font-size=\"9.24\" text-anchor=\"middle\" x=\"145.2\" y=\"159.72\">-13</text><rect fill=\"green\" height=\"15.84\" width=\"23.76\" x=\"159.72\" y=\"150.48\"/><circle cx=\"158.4\" cy=\"158.4\" fill=\"green\" r=\"1.32\" stroke=\"green\" stroke-width=\"0\"/><circle cx=\"184.8\" cy=\"158.4\" fill=\"green\" r=\"1.32\" stroke=\"green\" stroke-width=\"0\"/><text alignment-baseline=\"middle\" fill=\"white\" font-family=\"Futura\" font-size=\"9.24\" text-anchor=\"middle\" x=\"171.6\" y=\"159.72\">-9</text><line stroke=\"green\" stroke-width=\"1.32\" x1=\"501.6\" x2=\"501.6\" y1=\"106.92\" y2=\"183.48\"/><text alignment-baseline=\"middle\" fill=\"black\" font-family=\"Futura\" font-size=\"9.24\" text-anchor=\"end\" x=\"100.32\" y=\"186.12\">9b</text><rect fill=\"green\" height=\"15.84\" width=\"23.76\" x=\"106.92\" y=\"176.88\"/><circle cx=\"105.6\" cy=\"184.8\" fill=\"green\" r=\"1.32\" stroke=\"green\" stroke-width=\"0\"/><circle cx=\"132.0\" cy=\"184.8\" fill=\"green\" r=\"1.32\" stroke=\"green\" stroke-width=\"0\"/><text alignment-baseline=\"middle\" fill=\"white\" font-family=\"Futura\" font-size=\"9.24\" text-anchor=\"middle\" x=\"118.8\" y=\"186.12\">-37</text><rect fill=\"green\" height=\"15.84\" width=\"23.76\" x=\"133.32\" y=\"176.88\"/><circle cx=\"132.0\" cy=\"184.8\" fill=\"green\" r=\"1.32\" stroke=\"green\" stroke-width=\"0\"/><circle cx=\"158.4\" cy=\"184.8\" fill=\"green\" r=\"1.32\" stroke=\"green\" stroke-width=\"0\"/><text alignment-baseline=\"middle\" fill=\"white\" font-family=\"Futura\" font-size=\"9.24\" text-anchor=\"middle\" x=\"145.2\" y=\"186.12\">-22</text><rect fill=\"green\" height=\"15.84\" width=\"23.76\" x=\"159.72\" y=\"176.88\"/><circle cx=\"158.4\" cy=\"184.8\" fill=\"green\" r=\"1.32\" stroke=\"green\" stroke-width=\"0\"/><circle cx=\"184.8\" cy=\"184.8\" fill=\"green\" r=\"1.32\" stroke=\"green\" stroke-width=\"0\"/><text alignment-baseline=\"middle\" fill=\"white\" font-family=\"Futura\" font-size=\"9.24\" text-anchor=\"middle\" x=\"171.6\" y=\"186.12\">-16</text><rect fill=\"green\" height=\"15.84\" width=\"23.76\" x=\"186.12\" y=\"176.88\"/><circle cx=\"184.8\" cy=\"184.8\" fill=\"green\" r=\"1.32\" stroke=\"green\" stroke-width=\"0\"/><circle cx=\"211.2\" cy=\"184.8\" fill=\"green\" r=\"1.32\" stroke=\"green\" stroke-width=\"0\"/><text alignment-baseline=\"middle\" fill=\"white\" font-family=\"Futura\" font-size=\"9.24\" text-anchor=\"middle\" x=\"198.0\" y=\"186.12\">-5</text><rect fill=\"green\" height=\"15.84\" width=\"23.76\" x=\"212.52\" y=\"176.88\"/><circle cx=\"211.2\" cy=\"184.8\" fill=\"green\" r=\"1.32\" stroke=\"green\" stroke-width=\"0\"/><circle cx=\"237.6\" cy=\"184.8\" fill=\"green\" r=\"1.32\" stroke=\"green\" stroke-width=\"0\"/><text alignment-baseline=\"middle\" fill=\"white\" font-family=\"Futura\" font-size=\"9.24\" text-anchor=\"middle\" x=\"224.4\" y=\"186.12\">-10</text><rect fill=\"green\" height=\"15.84\" width=\"23.76\" x=\"238.92\" y=\"176.88\"/><circle cx=\"237.6\" cy=\"184.8\" fill=\"green\" r=\"1.32\" stroke=\"green\" stroke-width=\"0\"/><circle cx=\"264.0\" cy=\"184.8\" fill=\"green\" r=\"1.32\" stroke=\"green\" stroke-width=\"0\"/><text alignment-baseline=\"middle\" fill=\"white\" font-family=\"Futura\" font-size=\"9.24\" text-anchor=\"middle\" x=\"250.8\" y=\"186.12\">-6</text><rect fill=\"green\" height=\"15.84\" width=\"23.76\" x=\"265.32\" y=\"176.88\"/><circle cx=\"264.0\" cy=\"184.8\" fill=\"green\" r=\"1.32\" stroke=\"green\" stroke-width=\"0\"/><circle cx=\"290.4\" cy=\"184.8\" fill=\"green\" r=\"1.32\" stroke=\"green\" stroke-width=\"0\"/><text alignment-baseline=\"middle\" fill=\"white\" font-family=\"Futura\" font-size=\"9.24\" text-anchor=\"middle\" x=\"277.2\" y=\"186.12\">-11</text><rect fill=\"green\" height=\"15.84\" width=\"23.76\" x=\"291.72\" y=\"176.88\"/><circle cx=\"290.4\" cy=\"184.8\" fill=\"green\" r=\"1.32\" stroke=\"green\" stroke-width=\"0\"/><circle cx=\"316.8\" cy=\"184.8\" fill=\"green\" r=\"1.32\" stroke=\"green\" stroke-width=\"0\"/><text alignment-baseline=\"middle\" fill=\"white\" font-family=\"Futura\" font-size=\"9.24\" text-anchor=\"middle\" x=\"303.6\" y=\"186.12\">-9</text><rect fill=\"green\" height=\"15.84\" width=\"23.76\" x=\"318.12\" y=\"176.88\"/><circle cx=\"316.8\" cy=\"184.8\" fill=\"green\" r=\"1.32\" stroke=\"green\" stroke-width=\"0\"/><circle cx=\"343.2\" cy=\"184.8\" fill=\"green\" r=\"1.32\" stroke=\"green\" stroke-width=\"0\"/><text alignment-baseline=\"middle\" fill=\"white\" font-family=\"Futura\" font-size=\"9.24\" text-anchor=\"middle\" x=\"330.0\" y=\"186.12\">-15</text><rect fill=\"green\" height=\"15.84\" width=\"23.76\" x=\"344.52\" y=\"176.88\"/><circle cx=\"343.2\" cy=\"184.8\" fill=\"green\" r=\"1.32\" stroke=\"green\" stroke-width=\"0\"/><circle cx=\"369.6\" cy=\"184.8\" fill=\"green\" r=\"1.32\" stroke=\"green\" stroke-width=\"0\"/><text alignment-baseline=\"middle\" fill=\"white\" font-family=\"Futura\" font-size=\"9.24\" text-anchor=\"middle\" x=\"356.4\" y=\"186.12\">-15</text><rect fill=\"green\" height=\"15.84\" width=\"23.76\" x=\"370.92\" y=\"176.88\"/><circle cx=\"369.6\" cy=\"184.8\" fill=\"green\" r=\"1.32\" stroke=\"green\" stroke-width=\"0\"/><circle cx=\"396.0\" cy=\"184.8\" fill=\"green\" r=\"1.32\" stroke=\"green\" stroke-width=\"0\"/><text alignment-baseline=\"middle\" fill=\"white\" font-family=\"Futura\" font-size=\"9.24\" text-anchor=\"middle\" x=\"382.8\" y=\"186.12\">-19</text><rect fill=\"green\" height=\"15.84\" width=\"23.76\" x=\"397.32\" y=\"176.88\"/><circle cx=\"396.0\" cy=\"184.8\" fill=\"green\" r=\"1.32\" stroke=\"green\" stroke-width=\"0\"/><circle cx=\"422.4\" cy=\"184.8\" fill=\"green\" r=\"1.32\" stroke=\"green\" stroke-width=\"0\"/><text alignment-baseline=\"middle\" fill=\"white\" font-family=\"Futura\" font-size=\"9.24\" text-anchor=\"middle\" x=\"409.2\" y=\"186.12\">-24</text><rect fill=\"green\" height=\"15.84\" width=\"23.76\" x=\"423.72\" y=\"176.88\"/><circle cx=\"422.4\" cy=\"184.8\" fill=\"green\" r=\"1.32\" stroke=\"green\" stroke-width=\"0\"/><circle cx=\"448.8\" cy=\"184.8\" fill=\"green\" r=\"1.32\" stroke=\"green\" stroke-width=\"0\"/><text alignment-baseline=\"middle\" fill=\"white\" font-family=\"Futura\" font-size=\"9.24\" text-anchor=\"middle\" x=\"435.6\" y=\"186.12\">-19</text><rect fill=\"green\" height=\"15.84\" width=\"23.76\" x=\"450.12\" y=\"176.88\"/><circle cx=\"448.8\" cy=\"184.8\" fill=\"green\" r=\"1.32\" stroke=\"green\" stroke-width=\"0\"/><circle cx=\"475.2\" cy=\"184.8\" fill=\"green\" r=\"1.32\" stroke=\"green\" stroke-width=\"0\"/><text alignment-baseline=\"middle\" fill=\"white\" font-family=\"Futura\" font-size=\"9.24\" text-anchor=\"middle\" x=\"462.0\" y=\"186.12\">-28</text><rect fill=\"green\" height=\"15.84\" width=\"23.76\" x=\"476.52\" y=\"176.88\"/><circle cx=\"475.2\" cy=\"184.8\" fill=\"green\" r=\"1.32\" stroke=\"green\" stroke-width=\"0\"/><circle cx=\"501.6\" cy=\"184.8\" fill=\"green\" r=\"1.32\" stroke=\"green\" stroke-width=\"0\"/><text alignment-baseline=\"middle\" fill=\"white\" font-family=\"Futura\" font-size=\"9.24\" text-anchor=\"middle\" x=\"488.4\" y=\"186.12\">-25</text><line stroke=\"green\" stroke-width=\"1.32\" x1=\"528.0\" x2=\"528.0\" y1=\"106.92\" y2=\"209.88\"/><text alignment-baseline=\"middle\" fill=\"black\" font-family=\"Futura\" font-size=\"9.24\" text-anchor=\"end\" x=\"47.52\" y=\"212.52\">10b</text><rect fill=\"green\" height=\"15.84\" width=\"23.76\" x=\"54.12\" y=\"203.28\"/><circle cx=\"52.8\" cy=\"211.2\" fill=\"green\" r=\"1.32\" stroke=\"green\" stroke-width=\"0\"/><circle cx=\"79.2\" cy=\"211.2\" fill=\"green\" r=\"1.32\" stroke=\"green\" stroke-width=\"0\"/><text alignment-baseline=\"middle\" fill=\"white\" font-family=\"Futura\" font-size=\"9.24\" text-anchor=\"middle\" x=\"66.0\" y=\"212.52\">-31</text><rect fill=\"green\" height=\"15.84\" width=\"23.76\" x=\"80.52\" y=\"203.28\"/><circle cx=\"79.2\" cy=\"211.2\" fill=\"green\" r=\"1.32\" stroke=\"green\" stroke-width=\"0\"/><circle cx=\"105.6\" cy=\"211.2\" fill=\"green\" r=\"1.32\" stroke=\"green\" stroke-width=\"0\"/><text alignment-baseline=\"middle\" fill=\"white\" font-family=\"Futura\" font-size=\"9.24\" text-anchor=\"middle\" x=\"92.4\" y=\"212.52\">-24</text><rect fill=\"green\" height=\"15.84\" width=\"23.76\" x=\"106.92\" y=\"203.28\"/><circle cx=\"105.6\" cy=\"211.2\" fill=\"green\" r=\"1.32\" stroke=\"green\" stroke-width=\"0\"/><circle cx=\"132.0\" cy=\"211.2\" fill=\"green\" r=\"1.32\" stroke=\"green\" stroke-width=\"0\"/><text alignment-baseline=\"middle\" fill=\"white\" font-family=\"Futura\" font-size=\"9.24\" text-anchor=\"middle\" x=\"118.8\" y=\"212.52\">-20</text><rect fill=\"green\" height=\"15.84\" width=\"23.76\" x=\"133.32\" y=\"203.28\"/><circle cx=\"132.0\" cy=\"211.2\" fill=\"green\" r=\"1.32\" stroke=\"green\" stroke-width=\"0\"/><circle cx=\"158.4\" cy=\"211.2\" fill=\"green\" r=\"1.32\" stroke=\"green\" stroke-width=\"0\"/><text alignment-baseline=\"middle\" fill=\"white\" font-family=\"Futura\" font-size=\"9.24\" text-anchor=\"middle\" x=\"145.2\" y=\"212.52\">-12</text><rect fill=\"green\" height=\"15.84\" width=\"23.76\" x=\"159.72\" y=\"203.28\"/><circle cx=\"158.4\" cy=\"211.2\" fill=\"green\" r=\"1.32\" stroke=\"green\" stroke-width=\"0\"/><circle cx=\"184.8\" cy=\"211.2\" fill=\"green\" r=\"1.32\" stroke=\"green\" stroke-width=\"0\"/><text alignment-baseline=\"middle\" fill=\"white\" font-family=\"Futura\" font-size=\"9.24\" text-anchor=\"middle\" x=\"171.6\" y=\"212.52\">-8</text><rect fill=\"green\" height=\"15.84\" width=\"23.76\" x=\"186.12\" y=\"203.28\"/><circle cx=\"184.8\" cy=\"211.2\" fill=\"green\" r=\"1.32\" stroke=\"green\" stroke-width=\"0\"/><circle cx=\"211.2\" cy=\"211.2\" fill=\"green\" r=\"1.32\" stroke=\"green\" stroke-width=\"0\"/><text alignment-baseline=\"middle\" fill=\"white\" font-family=\"Futura\" font-size=\"9.24\" text-anchor=\"middle\" x=\"198.0\" y=\"212.52\">0</text><rect fill=\"green\" height=\"15.84\" width=\"23.76\" x=\"212.52\" y=\"203.28\"/><circle cx=\"211.2\" cy=\"211.2\" fill=\"green\" r=\"1.32\" stroke=\"green\" stroke-width=\"0\"/><circle cx=\"237.6\" cy=\"211.2\" fill=\"green\" r=\"1.32\" stroke=\"green\" stroke-width=\"0\"/><text alignment-baseline=\"middle\" fill=\"white\" font-family=\"Futura\" font-size=\"9.24\" text-anchor=\"middle\" x=\"224.4\" y=\"212.52\">0</text><rect fill=\"green\" height=\"15.84\" width=\"23.76\" x=\"238.92\" y=\"203.28\"/><circle cx=\"237.6\" cy=\"211.2\" fill=\"green\" r=\"1.32\" stroke=\"green\" stroke-width=\"0\"/><circle cx=\"264.0\" cy=\"211.2\" fill=\"green\" r=\"1.32\" stroke=\"green\" stroke-width=\"0\"/><text alignment-baseline=\"middle\" fill=\"white\" font-family=\"Futura\" font-size=\"9.24\" text-anchor=\"middle\" x=\"250.8\" y=\"212.52\">-2</text><rect fill=\"green\" height=\"15.84\" width=\"23.76\" x=\"265.32\" y=\"203.28\"/><circle cx=\"264.0\" cy=\"211.2\" fill=\"green\" r=\"1.32\" stroke=\"green\" stroke-width=\"0\"/><circle cx=\"290.4\" cy=\"211.2\" fill=\"green\" r=\"1.32\" stroke=\"green\" stroke-width=\"0\"/><text alignment-baseline=\"middle\" fill=\"white\" font-family=\"Futura\" font-size=\"9.24\" text-anchor=\"middle\" x=\"277.2\" y=\"212.52\">-9</text><rect fill=\"green\" height=\"15.84\" width=\"23.76\" x=\"291.72\" y=\"203.28\"/><circle cx=\"290.4\" cy=\"211.2\" fill=\"green\" r=\"1.32\" stroke=\"green\" stroke-width=\"0\"/><circle cx=\"316.8\" cy=\"211.2\" fill=\"green\" r=\"1.32\" stroke=\"green\" stroke-width=\"0\"/><text alignment-baseline=\"middle\" fill=\"white\" font-family=\"Futura\" font-size=\"9.24\" text-anchor=\"middle\" x=\"303.6\" y=\"212.52\">-3</text><rect fill=\"green\" height=\"15.84\" width=\"23.76\" x=\"318.12\" y=\"203.28\"/><circle cx=\"316.8\" cy=\"211.2\" fill=\"green\" r=\"1.32\" stroke=\"green\" stroke-width=\"0\"/><circle cx=\"343.2\" cy=\"211.2\" fill=\"green\" r=\"1.32\" stroke=\"green\" stroke-width=\"0\"/><text alignment-baseline=\"middle\" fill=\"white\" font-family=\"Futura\" font-size=\"9.24\" text-anchor=\"middle\" x=\"330.0\" y=\"212.52\">-10</text><rect fill=\"green\" height=\"15.84\" width=\"23.76\" x=\"344.52\" y=\"203.28\"/><circle cx=\"343.2\" cy=\"211.2\" fill=\"green\" r=\"1.32\" stroke=\"green\" stroke-width=\"0\"/><circle cx=\"369.6\" cy=\"211.2\" fill=\"green\" r=\"1.32\" stroke=\"green\" stroke-width=\"0\"/><text alignment-baseline=\"middle\" fill=\"white\" font-family=\"Futura\" font-size=\"9.24\" text-anchor=\"middle\" x=\"356.4\" y=\"212.52\">-14</text><rect fill=\"green\" height=\"15.84\" width=\"23.76\" x=\"370.92\" y=\"203.28\"/><circle cx=\"369.6\" cy=\"211.2\" fill=\"green\" r=\"1.32\" stroke=\"green\" stroke-width=\"0\"/><circle cx=\"396.0\" cy=\"211.2\" fill=\"green\" r=\"1.32\" stroke=\"green\" stroke-width=\"0\"/><text alignment-baseline=\"middle\" fill=\"white\" font-family=\"Futura\" font-size=\"9.24\" text-anchor=\"middle\" x=\"382.8\" y=\"212.52\">-12</text><rect fill=\"green\" height=\"15.84\" width=\"23.76\" x=\"397.32\" y=\"203.28\"/><circle cx=\"396.0\" cy=\"211.2\" fill=\"green\" r=\"1.32\" stroke=\"green\" stroke-width=\"0\"/><circle cx=\"422.4\" cy=\"211.2\" fill=\"green\" r=\"1.32\" stroke=\"green\" stroke-width=\"0\"/><text alignment-baseline=\"middle\" fill=\"white\" font-family=\"Futura\" font-size=\"9.24\" text-anchor=\"middle\" x=\"409.2\" y=\"212.52\">-22</text><rect fill=\"green\" height=\"15.84\" width=\"23.76\" x=\"423.72\" y=\"203.28\"/><circle cx=\"422.4\" cy=\"211.2\" fill=\"green\" r=\"1.32\" stroke=\"green\" stroke-width=\"0\"/><circle cx=\"448.8\" cy=\"211.2\" fill=\"green\" r=\"1.32\" stroke=\"green\" stroke-width=\"0\"/><text alignment-baseline=\"middle\" fill=\"white\" font-family=\"Futura\" font-size=\"9.24\" text-anchor=\"middle\" x=\"435.6\" y=\"212.52\">-15</text><rect fill=\"green\" height=\"15.84\" width=\"23.76\" x=\"450.12\" y=\"203.28\"/><circle cx=\"448.8\" cy=\"211.2\" fill=\"green\" r=\"1.32\" stroke=\"green\" stroke-width=\"0\"/><circle cx=\"475.2\" cy=\"211.2\" fill=\"green\" r=\"1.32\" stroke=\"green\" stroke-width=\"0\"/><text alignment-baseline=\"middle\" fill=\"white\" font-family=\"Futura\" font-size=\"9.24\" text-anchor=\"middle\" x=\"462.0\" y=\"212.52\">-28</text><rect fill=\"green\" height=\"15.84\" width=\"23.76\" x=\"476.52\" y=\"203.28\"/><circle cx=\"475.2\" cy=\"211.2\" fill=\"green\" r=\"1.32\" stroke=\"green\" stroke-width=\"0\"/><circle cx=\"501.6\" cy=\"211.2\" fill=\"green\" r=\"1.32\" stroke=\"green\" stroke-width=\"0\"/><text alignment-baseline=\"middle\" fill=\"white\" font-family=\"Futura\" font-size=\"9.24\" text-anchor=\"middle\" x=\"488.4\" y=\"212.52\">-22</text><rect fill=\"green\" height=\"15.84\" width=\"23.76\" x=\"502.92\" y=\"203.28\"/><circle cx=\"501.6\" cy=\"211.2\" fill=\"green\" r=\"1.32\" stroke=\"green\" stroke-width=\"0\"/><circle cx=\"528.0\" cy=\"211.2\" fill=\"green\" r=\"1.32\" stroke=\"green\" stroke-width=\"0\"/><text alignment-baseline=\"middle\" fill=\"white\" font-family=\"Futura\" font-size=\"9.24\" text-anchor=\"middle\" x=\"514.8\" y=\"212.52\">-29</text><line stroke=\"red\" stroke-width=\"1.32\" x1=\"448.8\" x2=\"448.8\" y1=\"212.52\" y2=\"236.28\"/><text alignment-baseline=\"middle\" fill=\"black\" font-family=\"Futura\" font-size=\"9.24\" text-anchor=\"start\" x=\"586.08\" y=\"238.92\">11f</text><rect fill=\"red\" height=\"15.84\" width=\"23.76\" x=\"450.12\" y=\"229.68\"/><circle cx=\"448.8\" cy=\"237.6\" fill=\"red\" r=\"1.32\" stroke=\"red\" stroke-width=\"0\"/><circle cx=\"475.2\" cy=\"237.6\" fill=\"red\" r=\"1.32\" stroke=\"red\" stroke-width=\"0\"/><text alignment-baseline=\"middle\" fill=\"white\" font-family=\"Futura\" font-size=\"9.24\" text-anchor=\"middle\" x=\"462.0\" y=\"238.92\">-28</text><rect fill=\"red\" height=\"15.84\" width=\"23.76\" x=\"476.52\" y=\"229.68\"/><circle cx=\"475.2\" cy=\"237.6\" fill=\"red\" r=\"1.32\" stroke=\"red\" stroke-width=\"0\"/><circle cx=\"501.6\" cy=\"237.6\" fill=\"red\" r=\"1.32\" stroke=\"red\" stroke-width=\"0\"/><text alignment-baseline=\"middle\" fill=\"white\" font-family=\"Futura\" font-size=\"9.24\" text-anchor=\"middle\" x=\"488.4\" y=\"238.92\">-25</text><rect fill=\"red\" height=\"15.84\" width=\"23.76\" x=\"502.92\" y=\"229.68\"/><circle cx=\"501.6\" cy=\"237.6\" fill=\"red\" r=\"1.32\" stroke=\"red\" stroke-width=\"0\"/><circle cx=\"528.0\" cy=\"237.6\" fill=\"red\" r=\"1.32\" stroke=\"red\" stroke-width=\"0\"/><text alignment-baseline=\"middle\" fill=\"white\" font-family=\"Futura\" font-size=\"9.24\" text-anchor=\"middle\" x=\"514.8\" y=\"238.92\">-28</text><rect fill=\"red\" height=\"15.84\" width=\"23.76\" x=\"529.32\" y=\"229.68\"/><circle cx=\"528.0\" cy=\"237.6\" fill=\"red\" r=\"1.32\" stroke=\"red\" stroke-width=\"0\"/><circle cx=\"554.4\" cy=\"237.6\" fill=\"red\" r=\"1.32\" stroke=\"red\" stroke-width=\"0\"/><text alignment-baseline=\"middle\" fill=\"white\" font-family=\"Futura\" font-size=\"9.24\" text-anchor=\"middle\" x=\"541.2\" y=\"238.92\">-22</text><rect fill=\"red\" height=\"15.84\" width=\"23.76\" x=\"555.72\" y=\"229.68\"/><circle cx=\"554.4\" cy=\"237.6\" fill=\"red\" r=\"1.32\" stroke=\"red\" stroke-width=\"0\"/><circle cx=\"580.8\" cy=\"237.6\" fill=\"red\" r=\"1.32\" stroke=\"red\" stroke-width=\"0\"/><text alignment-baseline=\"middle\" fill=\"white\" font-family=\"Futura\" font-size=\"9.24\" text-anchor=\"middle\" x=\"567.6\" y=\"238.92\">-30</text><line stroke=\"green\" stroke-width=\"1.32\" x1=\"132.0\" x2=\"132.0\" y1=\"212.52\" y2=\"262.68\"/><text alignment-baseline=\"middle\" fill=\"black\" font-family=\"Futura\" font-size=\"9.24\" text-anchor=\"end\" x=\"47.52\" y=\"265.32\">12b</text><rect fill=\"green\" height=\"15.84\" width=\"23.76\" x=\"54.12\" y=\"256.08\"/><circle cx=\"52.8\" cy=\"264.0\" fill=\"green\" r=\"1.32\" stroke=\"green\" stroke-width=\"0\"/><circle cx=\"79.2\" cy=\"264.0\" fill=\"green\" r=\"1.32\" stroke=\"green\" stroke-width=\"0\"/><text alignment-baseline=\"middle\" fill=\"white\" font-family=\"Futura\" font-size=\"9.24\" text-anchor=\"middle\" x=\"66.0\" y=\"265.32\">-34</text><rect fill=\"green\" height=\"15.84\" width=\"23.76\" x=\"80.52\" y=\"256.08\"/><circle cx=\"79.2\" cy=\"264.0\" fill=\"green\" r=\"1.32\" stroke=\"green\" stroke-width=\"0\"/><circle cx=\"105.6\" cy=\"264.0\" fill=\"green\" r=\"1.32\" stroke=\"green\" stroke-width=\"0\"/><text alignment-baseline=\"middle\" fill=\"white\" font-family=\"Futura\" font-size=\"9.24\" text-anchor=\"middle\" x=\"92.4\" y=\"265.32\">-24</text><rect fill=\"green\" height=\"15.84\" width=\"23.76\" x=\"106.92\" y=\"256.08\"/><circle cx=\"105.6\" cy=\"264.0\" fill=\"green\" r=\"1.32\" stroke=\"green\" stroke-width=\"0\"/><circle cx=\"132.0\" cy=\"264.0\" fill=\"green\" r=\"1.32\" stroke=\"green\" stroke-width=\"0\"/><text alignment-baseline=\"middle\" fill=\"white\" font-family=\"Futura\" font-size=\"9.24\" text-anchor=\"middle\" x=\"118.8\" y=\"265.32\">-22</text><line stroke=\"red\" stroke-width=\"1.32\" x1=\"105.6\" x2=\"105.6\" y1=\"265.32\" y2=\"289.08\"/><text alignment-baseline=\"middle\" fill=\"black\" font-family=\"Futura\" font-size=\"9.24\" text-anchor=\"start\" x=\"718.08\" y=\"291.72\">13f</text><rect fill=\"red\" height=\"15.84\" width=\"23.76\" x=\"106.92\" y=\"282.48\"/><circle cx=\"105.6\" cy=\"290.4\" fill=\"red\" r=\"1.32\" stroke=\"red\" stroke-width=\"0\"/><circle cx=\"132.0\" cy=\"290.4\" fill=\"red\" r=\"1.32\" stroke=\"red\" stroke-width=\"0\"/><text alignment-baseline=\"middle\" fill=\"white\" font-family=\"Futura\" font-size=\"9.24\" text-anchor=\"middle\" x=\"118.8\" y=\"291.72\">-21</text><rect fill=\"red\" height=\"15.84\" width=\"23.76\" x=\"133.32\" y=\"282.48\"/><circle cx=\"132.0\" cy=\"290.4\" fill=\"red\" r=\"1.32\" stroke=\"red\" stroke-width=\"0\"/><circle cx=\"158.4\" cy=\"290.4\" fill=\"red\" r=\"1.32\" stroke=\"red\" stroke-width=\"0\"/><text alignment-baseline=\"middle\" fill=\"white\" font-family=\"Futura\" font-size=\"9.24\" text-anchor=\"middle\" x=\"145.2\" y=\"291.72\">-8</text><rect fill=\"red\" height=\"15.84\" width=\"23.76\" x=\"159.72\" y=\"282.48\"/><circle cx=\"158.4\" cy=\"290.4\" fill=\"red\" r=\"1.32\" stroke=\"red\" stroke-width=\"0\"/><circle cx=\"184.8\" cy=\"290.4\" fill=\"red\" r=\"1.32\" stroke=\"red\" stroke-width=\"0\"/><text alignment-baseline=\"middle\" fill=\"white\" font-family=\"Futura\" font-size=\"9.24\" text-anchor=\"middle\" x=\"171.6\" y=\"291.72\">-9</text><rect fill=\"red\" height=\"15.84\" width=\"23.76\" x=\"186.12\" y=\"282.48\"/><circle cx=\"184.8\" cy=\"290.4\" fill=\"red\" r=\"1.32\" stroke=\"red\" stroke-width=\"0\"/><circle cx=\"211.2\" cy=\"290.4\" fill=\"red\" r=\"1.32\" stroke=\"red\" stroke-width=\"0\"/><text alignment-baseline=\"middle\" fill=\"white\" font-family=\"Futura\" font-size=\"9.24\" text-anchor=\"middle\" x=\"198.0\" y=\"291.72\">0</text><rect fill=\"red\" height=\"15.84\" width=\"23.76\" x=\"212.52\" y=\"282.48\"/><circle cx=\"211.2\" cy=\"290.4\" fill=\"red\" r=\"1.32\" stroke=\"red\" stroke-width=\"0\"/><circle cx=\"237.6\" cy=\"290.4\" fill=\"red\" r=\"1.32\" stroke=\"red\" stroke-width=\"0\"/><text alignment-baseline=\"middle\" fill=\"white\" font-family=\"Futura\" font-size=\"9.24\" text-anchor=\"middle\" x=\"224.4\" y=\"291.72\">2</text><rect fill=\"red\" height=\"15.84\" width=\"23.76\" x=\"238.92\" y=\"282.48\"/><circle cx=\"237.6\" cy=\"290.4\" fill=\"red\" r=\"1.32\" stroke=\"red\" stroke-width=\"0\"/><circle cx=\"264.0\" cy=\"290.4\" fill=\"red\" r=\"1.32\" stroke=\"red\" stroke-width=\"0\"/><text alignment-baseline=\"middle\" fill=\"white\" font-family=\"Futura\" font-size=\"9.24\" text-anchor=\"middle\" x=\"250.8\" y=\"291.72\">0</text><rect fill=\"red\" height=\"15.84\" width=\"23.76\" x=\"265.32\" y=\"282.48\"/><circle cx=\"264.0\" cy=\"290.4\" fill=\"red\" r=\"1.32\" stroke=\"red\" stroke-width=\"0\"/><circle cx=\"290.4\" cy=\"290.4\" fill=\"red\" r=\"1.32\" stroke=\"red\" stroke-width=\"0\"/><text alignment-baseline=\"middle\" fill=\"white\" font-family=\"Futura\" font-size=\"9.24\" text-anchor=\"middle\" x=\"277.2\" y=\"291.72\">-6</text><rect fill=\"red\" height=\"15.84\" width=\"23.76\" x=\"291.72\" y=\"282.48\"/><circle cx=\"290.4\" cy=\"290.4\" fill=\"red\" r=\"1.32\" stroke=\"red\" stroke-width=\"0\"/><circle cx=\"316.8\" cy=\"290.4\" fill=\"red\" r=\"1.32\" stroke=\"red\" stroke-width=\"0\"/><text alignment-baseline=\"middle\" fill=\"white\" font-family=\"Futura\" font-size=\"9.24\" text-anchor=\"middle\" x=\"303.6\" y=\"291.72\">2</text><rect fill=\"red\" height=\"15.84\" width=\"23.76\" x=\"318.12\" y=\"282.48\"/><circle cx=\"316.8\" cy=\"290.4\" fill=\"red\" r=\"1.32\" stroke=\"red\" stroke-width=\"0\"/><circle cx=\"343.2\" cy=\"290.4\" fill=\"red\" r=\"1.32\" stroke=\"red\" stroke-width=\"0\"/><text alignment-baseline=\"middle\" fill=\"white\" font-family=\"Futura\" font-size=\"9.24\" text-anchor=\"middle\" x=\"330.0\" y=\"291.72\">1</text><rect fill=\"red\" height=\"15.84\" width=\"23.76\" x=\"344.52\" y=\"282.48\"/><circle cx=\"343.2\" cy=\"290.4\" fill=\"red\" r=\"1.32\" stroke=\"red\" stroke-width=\"0\"/><circle cx=\"369.6\" cy=\"290.4\" fill=\"red\" r=\"1.32\" stroke=\"red\" stroke-width=\"0\"/><text alignment-baseline=\"middle\" fill=\"white\" font-family=\"Futura\" font-size=\"9.24\" text-anchor=\"middle\" x=\"356.4\" y=\"291.72\">-3</text><rect fill=\"red\" height=\"15.84\" width=\"23.76\" x=\"370.92\" y=\"282.48\"/><circle cx=\"369.6\" cy=\"290.4\" fill=\"red\" r=\"1.32\" stroke=\"red\" stroke-width=\"0\"/><circle cx=\"396.0\" cy=\"290.4\" fill=\"red\" r=\"1.32\" stroke=\"red\" stroke-width=\"0\"/><text alignment-baseline=\"middle\" fill=\"white\" font-family=\"Futura\" font-size=\"9.24\" text-anchor=\"middle\" x=\"382.8\" y=\"291.72\">6</text><rect fill=\"red\" height=\"15.84\" width=\"23.76\" x=\"397.32\" y=\"282.48\"/><circle cx=\"396.0\" cy=\"290.4\" fill=\"red\" r=\"1.32\" stroke=\"red\" stroke-width=\"0\"/><circle cx=\"422.4\" cy=\"290.4\" fill=\"red\" r=\"1.32\" stroke=\"red\" stroke-width=\"0\"/><text alignment-baseline=\"middle\" fill=\"white\" font-family=\"Futura\" font-size=\"9.24\" text-anchor=\"middle\" x=\"409.2\" y=\"291.72\">-3</text><rect fill=\"red\" height=\"15.84\" width=\"23.76\" x=\"423.72\" y=\"282.48\"/><circle cx=\"422.4\" cy=\"290.4\" fill=\"red\" r=\"1.32\" stroke=\"red\" stroke-width=\"0\"/><circle cx=\"448.8\" cy=\"290.4\" fill=\"red\" r=\"1.32\" stroke=\"red\" stroke-width=\"0\"/><text alignment-baseline=\"middle\" fill=\"white\" font-family=\"Futura\" font-size=\"9.24\" text-anchor=\"middle\" x=\"435.6\" y=\"291.72\">0</text><rect fill=\"red\" height=\"15.84\" width=\"23.76\" x=\"450.12\" y=\"282.48\"/><circle cx=\"448.8\" cy=\"290.4\" fill=\"red\" r=\"1.32\" stroke=\"red\" stroke-width=\"0\"/><circle cx=\"475.2\" cy=\"290.4\" fill=\"red\" r=\"1.32\" stroke=\"red\" stroke-width=\"0\"/><text alignment-baseline=\"middle\" fill=\"white\" font-family=\"Futura\" font-size=\"9.24\" text-anchor=\"middle\" x=\"462.0\" y=\"291.72\">-14</text><rect fill=\"red\" height=\"15.84\" width=\"23.76\" x=\"476.52\" y=\"282.48\"/><circle cx=\"475.2\" cy=\"290.4\" fill=\"red\" r=\"1.32\" stroke=\"red\" stroke-width=\"0\"/><circle cx=\"501.6\" cy=\"290.4\" fill=\"red\" r=\"1.32\" stroke=\"red\" stroke-width=\"0\"/><text alignment-baseline=\"middle\" fill=\"white\" font-family=\"Futura\" font-size=\"9.24\" text-anchor=\"middle\" x=\"488.4\" y=\"291.72\">-8</text><rect fill=\"red\" height=\"15.84\" width=\"23.76\" x=\"502.92\" y=\"282.48\"/><circle cx=\"501.6\" cy=\"290.4\" fill=\"red\" r=\"1.32\" stroke=\"red\" stroke-width=\"0\"/><circle cx=\"528.0\" cy=\"290.4\" fill=\"red\" r=\"1.32\" stroke=\"red\" stroke-width=\"0\"/><text alignment-baseline=\"middle\" fill=\"white\" font-family=\"Futura\" font-size=\"9.24\" text-anchor=\"middle\" x=\"514.8\" y=\"291.72\">-15</text><rect fill=\"red\" height=\"15.84\" width=\"23.76\" x=\"529.32\" y=\"282.48\"/><circle cx=\"528.0\" cy=\"290.4\" fill=\"red\" r=\"1.32\" stroke=\"red\" stroke-width=\"0\"/><circle cx=\"554.4\" cy=\"290.4\" fill=\"red\" r=\"1.32\" stroke=\"red\" stroke-width=\"0\"/><text alignment-baseline=\"middle\" fill=\"white\" font-family=\"Futura\" font-size=\"9.24\" text-anchor=\"middle\" x=\"541.2\" y=\"291.72\">-4</text><rect fill=\"red\" height=\"15.84\" width=\"23.76\" x=\"555.72\" y=\"282.48\"/><circle cx=\"554.4\" cy=\"290.4\" fill=\"red\" r=\"1.32\" stroke=\"red\" stroke-width=\"0\"/><circle cx=\"580.8\" cy=\"290.4\" fill=\"red\" r=\"1.32\" stroke=\"red\" stroke-width=\"0\"/><text alignment-baseline=\"middle\" fill=\"white\" font-family=\"Futura\" font-size=\"9.24\" text-anchor=\"middle\" x=\"567.6\" y=\"291.72\">-16</text><rect fill=\"red\" height=\"15.84\" width=\"23.76\" x=\"582.12\" y=\"282.48\"/><circle cx=\"580.8\" cy=\"290.4\" fill=\"red\" r=\"1.32\" stroke=\"red\" stroke-width=\"0\"/><circle cx=\"607.2\" cy=\"290.4\" fill=\"red\" r=\"1.32\" stroke=\"red\" stroke-width=\"0\"/><text alignment-baseline=\"middle\" fill=\"white\" font-family=\"Futura\" font-size=\"9.24\" text-anchor=\"middle\" x=\"594.0\" y=\"291.72\">-14</text><rect fill=\"red\" height=\"15.84\" width=\"23.76\" x=\"608.52\" y=\"282.48\"/><circle cx=\"607.2\" cy=\"290.4\" fill=\"red\" r=\"1.32\" stroke=\"red\" stroke-width=\"0\"/><circle cx=\"633.6\" cy=\"290.4\" fill=\"red\" r=\"1.32\" stroke=\"red\" stroke-width=\"0\"/><text alignment-baseline=\"middle\" fill=\"white\" font-family=\"Futura\" font-size=\"9.24\" text-anchor=\"middle\" x=\"620.4\" y=\"291.72\">-18</text><rect fill=\"red\" height=\"15.84\" width=\"23.76\" x=\"634.92\" y=\"282.48\"/><circle cx=\"633.6\" cy=\"290.4\" fill=\"red\" r=\"1.32\" stroke=\"red\" stroke-width=\"0\"/><circle cx=\"660.0\" cy=\"290.4\" fill=\"red\" r=\"1.32\" stroke=\"red\" stroke-width=\"0\"/><text alignment-baseline=\"middle\" fill=\"white\" font-family=\"Futura\" font-size=\"9.24\" text-anchor=\"middle\" x=\"646.8\" y=\"291.72\">-19</text><rect fill=\"red\" height=\"15.84\" width=\"23.76\" x=\"661.32\" y=\"282.48\"/><circle cx=\"660.0\" cy=\"290.4\" fill=\"red\" r=\"1.32\" stroke=\"red\" stroke-width=\"0\"/><circle cx=\"686.4\" cy=\"290.4\" fill=\"red\" r=\"1.32\" stroke=\"red\" stroke-width=\"0\"/><text alignment-baseline=\"middle\" fill=\"white\" font-family=\"Futura\" font-size=\"9.24\" text-anchor=\"middle\" x=\"673.2\" y=\"291.72\">-27</text><rect fill=\"red\" height=\"15.84\" width=\"23.76\" x=\"687.72\" y=\"282.48\"/><circle cx=\"686.4\" cy=\"290.4\" fill=\"red\" r=\"1.32\" stroke=\"red\" stroke-width=\"0\"/><circle cx=\"712.8\" cy=\"290.4\" fill=\"red\" r=\"1.32\" stroke=\"red\" stroke-width=\"0\"/><text alignment-baseline=\"middle\" fill=\"white\" font-family=\"Futura\" font-size=\"9.24\" text-anchor=\"middle\" x=\"699.6\" y=\"291.72\">-34</text></svg>"
       ],
       "text": [
        "<IPython.core.display.SVG at 0x11114b790>"
       ],
       "metadata": {}
      }
     ],
     "input": [
      "view = tree.renderer\n",
      "view.zoom = 1.1\n",
      "view.scale_y = 24\n",
      "view.scale_x = 24\n",
      "view.font_size = 0.35\n",
      "SVG(view.to_svg())"
     ],
     "language": "python",
     "prompt_number": 29
    },
    {
     "cell_type": "markdown",
     "metadata": {},
     "source": [
      "An alternate view which is similar to the standard way of plotting"
     ]
    },
    {
     "cell_type": "code",
     "metadata": {},
     "outputs": [
      {
       "svg": [
        "<svg baseProfile=\"full\" height=\"49.5px\" version=\"1.1\" width=\"396.0px\" xmlns=\"http://www.w3.org/2000/svg\" xmlns:ev=\"http://www.w3.org/2001/xml-events\" xmlns:xlink=\"http://www.w3.org/1999/xlink\"><defs/><rect fill=\"black\" height=\"9.9\" width=\"26.928\" x=\"26.136\" y=\"11.55\"/><circle cx=\"26.4\" cy=\"16.5\" fill=\"black\" r=\"-0.264\" stroke=\"black\" stroke-width=\"0\"/><circle cx=\"52.8\" cy=\"16.5\" fill=\"black\" r=\"-0.264\" stroke=\"black\" stroke-width=\"0\"/><text alignment-baseline=\"middle\" fill=\"white\" font-family=\"Times\" font-size=\"13.2\" text-anchor=\"middle\" x=\"39.6\" y=\"17.325\"/><rect fill=\"black\" height=\"9.9\" width=\"26.928\" x=\"52.536\" y=\"11.55\"/><circle cx=\"52.8\" cy=\"16.5\" fill=\"black\" r=\"-0.264\" stroke=\"black\" stroke-width=\"0\"/><circle cx=\"79.2\" cy=\"16.5\" fill=\"black\" r=\"-0.264\" stroke=\"black\" stroke-width=\"0\"/><text alignment-baseline=\"middle\" fill=\"white\" font-family=\"Times\" font-size=\"13.2\" text-anchor=\"middle\" x=\"66.0\" y=\"17.325\"/><rect fill=\"black\" height=\"9.9\" width=\"26.928\" x=\"78.936\" y=\"11.55\"/><circle cx=\"79.2\" cy=\"16.5\" fill=\"black\" r=\"-0.264\" stroke=\"black\" stroke-width=\"0\"/><circle cx=\"105.6\" cy=\"16.5\" fill=\"black\" r=\"-0.264\" stroke=\"black\" stroke-width=\"0\"/><text alignment-baseline=\"middle\" fill=\"white\" font-family=\"Times\" font-size=\"13.2\" text-anchor=\"middle\" x=\"92.4\" y=\"17.325\"/><rect fill=\"black\" height=\"9.9\" width=\"26.928\" x=\"105.336\" y=\"11.55\"/><circle cx=\"105.6\" cy=\"16.5\" fill=\"black\" r=\"-0.264\" stroke=\"black\" stroke-width=\"0\"/><circle cx=\"132.0\" cy=\"16.5\" fill=\"black\" r=\"-0.264\" stroke=\"black\" stroke-width=\"0\"/><text alignment-baseline=\"middle\" fill=\"white\" font-family=\"Times\" font-size=\"13.2\" text-anchor=\"middle\" x=\"118.8\" y=\"17.325\"/><rect fill=\"black\" height=\"9.9\" width=\"26.928\" x=\"131.736\" y=\"11.55\"/><circle cx=\"132.0\" cy=\"16.5\" fill=\"black\" r=\"-0.264\" stroke=\"black\" stroke-width=\"0\"/><circle cx=\"158.4\" cy=\"16.5\" fill=\"black\" r=\"-0.264\" stroke=\"black\" stroke-width=\"0\"/><text alignment-baseline=\"middle\" fill=\"white\" font-family=\"Times\" font-size=\"13.2\" text-anchor=\"middle\" x=\"145.2\" y=\"17.325\"/><rect fill=\"black\" height=\"9.9\" width=\"26.928\" x=\"158.136\" y=\"11.55\"/><circle cx=\"158.4\" cy=\"16.5\" fill=\"black\" r=\"-0.264\" stroke=\"black\" stroke-width=\"0\"/><circle cx=\"184.8\" cy=\"16.5\" fill=\"black\" r=\"-0.264\" stroke=\"black\" stroke-width=\"0\"/><text alignment-baseline=\"middle\" fill=\"white\" font-family=\"Times\" font-size=\"13.2\" text-anchor=\"middle\" x=\"171.6\" y=\"17.325\"/><rect fill=\"black\" height=\"9.9\" width=\"26.928\" x=\"184.536\" y=\"11.55\"/><circle cx=\"184.8\" cy=\"16.5\" fill=\"black\" r=\"-0.264\" stroke=\"black\" stroke-width=\"0\"/><circle cx=\"211.2\" cy=\"16.5\" fill=\"black\" r=\"-0.264\" stroke=\"black\" stroke-width=\"0\"/><text alignment-baseline=\"middle\" fill=\"white\" font-family=\"Times\" font-size=\"13.2\" text-anchor=\"middle\" x=\"198.0\" y=\"17.325\"/><rect fill=\"black\" height=\"9.9\" width=\"26.928\" x=\"210.936\" y=\"11.55\"/><circle cx=\"211.2\" cy=\"16.5\" fill=\"black\" r=\"-0.264\" stroke=\"black\" stroke-width=\"0\"/><circle cx=\"237.6\" cy=\"16.5\" fill=\"black\" r=\"-0.264\" stroke=\"black\" stroke-width=\"0\"/><text alignment-baseline=\"middle\" fill=\"white\" font-family=\"Times\" font-size=\"13.2\" text-anchor=\"middle\" x=\"224.4\" y=\"17.325\"/><rect fill=\"black\" height=\"9.9\" width=\"26.928\" x=\"237.336\" y=\"11.55\"/><circle cx=\"237.6\" cy=\"16.5\" fill=\"black\" r=\"-0.264\" stroke=\"black\" stroke-width=\"0\"/><circle cx=\"264.0\" cy=\"16.5\" fill=\"black\" r=\"-0.264\" stroke=\"black\" stroke-width=\"0\"/><text alignment-baseline=\"middle\" fill=\"white\" font-family=\"Times\" font-size=\"13.2\" text-anchor=\"middle\" x=\"250.8\" y=\"17.325\"/><rect fill=\"black\" height=\"9.9\" width=\"26.928\" x=\"263.736\" y=\"11.55\"/><circle cx=\"264.0\" cy=\"16.5\" fill=\"black\" r=\"-0.264\" stroke=\"black\" stroke-width=\"0\"/><circle cx=\"290.4\" cy=\"16.5\" fill=\"black\" r=\"-0.264\" stroke=\"black\" stroke-width=\"0\"/><text alignment-baseline=\"middle\" fill=\"white\" font-family=\"Times\" font-size=\"13.2\" text-anchor=\"middle\" x=\"277.2\" y=\"17.325\"/><rect fill=\"black\" height=\"9.9\" width=\"26.928\" x=\"290.136\" y=\"11.55\"/><circle cx=\"290.4\" cy=\"16.5\" fill=\"black\" r=\"-0.264\" stroke=\"black\" stroke-width=\"0\"/><circle cx=\"316.8\" cy=\"16.5\" fill=\"black\" r=\"-0.264\" stroke=\"black\" stroke-width=\"0\"/><text alignment-baseline=\"middle\" fill=\"white\" font-family=\"Times\" font-size=\"13.2\" text-anchor=\"middle\" x=\"303.6\" y=\"17.325\"/><rect fill=\"black\" height=\"9.9\" width=\"26.928\" x=\"316.536\" y=\"11.55\"/><circle cx=\"316.8\" cy=\"16.5\" fill=\"black\" r=\"-0.264\" stroke=\"black\" stroke-width=\"0\"/><circle cx=\"343.2\" cy=\"16.5\" fill=\"black\" r=\"-0.264\" stroke=\"black\" stroke-width=\"0\"/><text alignment-baseline=\"middle\" fill=\"white\" font-family=\"Times\" font-size=\"13.2\" text-anchor=\"middle\" x=\"330.0\" y=\"17.325\"/><rect fill=\"black\" height=\"9.9\" width=\"26.928\" x=\"342.936\" y=\"11.55\"/><circle cx=\"343.2\" cy=\"16.5\" fill=\"black\" r=\"-0.264\" stroke=\"black\" stroke-width=\"0\"/><circle cx=\"369.6\" cy=\"16.5\" fill=\"black\" r=\"-0.264\" stroke=\"black\" stroke-width=\"0\"/><text alignment-baseline=\"middle\" fill=\"white\" font-family=\"Times\" font-size=\"13.2\" text-anchor=\"middle\" x=\"356.4\" y=\"17.325\"/><text alignment-baseline=\"middle\" fill=\"black\" font-family=\"Times\" font-size=\"13.2\" text-anchor=\"end\" x=\"21.12\" y=\"17.325\">3b</text><line stroke=\"red\" stroke-width=\"1.32\" x1=\"105.6\" x2=\"105.6\" y1=\"16.335\" y2=\"33.165\"/><text alignment-baseline=\"middle\" fill=\"black\" font-family=\"Times\" font-size=\"13.2\" text-anchor=\"start\" x=\"348.48\" y=\"33.825\">3f</text><rect fill=\"red\" height=\"9.9\" width=\"26.928\" x=\"105.336\" y=\"28.05\"/><circle cx=\"105.6\" cy=\"33.0\" fill=\"red\" r=\"-0.264\" stroke=\"red\" stroke-width=\"0\"/><circle cx=\"132.0\" cy=\"33.0\" fill=\"red\" r=\"-0.264\" stroke=\"red\" stroke-width=\"0\"/><text alignment-baseline=\"middle\" fill=\"white\" font-family=\"Times\" font-size=\"13.2\" text-anchor=\"middle\" x=\"118.8\" y=\"33.825\"/><rect fill=\"red\" height=\"9.9\" width=\"26.928\" x=\"131.736\" y=\"28.05\"/><circle cx=\"132.0\" cy=\"33.0\" fill=\"red\" r=\"-0.264\" stroke=\"red\" stroke-width=\"0\"/><circle cx=\"158.4\" cy=\"33.0\" fill=\"red\" r=\"-0.264\" stroke=\"red\" stroke-width=\"0\"/><text alignment-baseline=\"middle\" fill=\"white\" font-family=\"Times\" font-size=\"13.2\" text-anchor=\"middle\" x=\"145.2\" y=\"33.825\"/><rect fill=\"red\" height=\"9.9\" width=\"26.928\" x=\"158.136\" y=\"28.05\"/><circle cx=\"158.4\" cy=\"33.0\" fill=\"red\" r=\"-0.264\" stroke=\"red\" stroke-width=\"0\"/><circle cx=\"184.8\" cy=\"33.0\" fill=\"red\" r=\"-0.264\" stroke=\"red\" stroke-width=\"0\"/><text alignment-baseline=\"middle\" fill=\"white\" font-family=\"Times\" font-size=\"13.2\" text-anchor=\"middle\" x=\"171.6\" y=\"33.825\"/><rect fill=\"red\" height=\"9.9\" width=\"26.928\" x=\"184.536\" y=\"28.05\"/><circle cx=\"184.8\" cy=\"33.0\" fill=\"red\" r=\"-0.264\" stroke=\"red\" stroke-width=\"0\"/><circle cx=\"211.2\" cy=\"33.0\" fill=\"red\" r=\"-0.264\" stroke=\"red\" stroke-width=\"0\"/><text alignment-baseline=\"middle\" fill=\"white\" font-family=\"Times\" font-size=\"13.2\" text-anchor=\"middle\" x=\"198.0\" y=\"33.825\"/><rect fill=\"red\" height=\"9.9\" width=\"26.928\" x=\"210.936\" y=\"28.05\"/><circle cx=\"211.2\" cy=\"33.0\" fill=\"red\" r=\"-0.264\" stroke=\"red\" stroke-width=\"0\"/><circle cx=\"237.6\" cy=\"33.0\" fill=\"red\" r=\"-0.264\" stroke=\"red\" stroke-width=\"0\"/><text alignment-baseline=\"middle\" fill=\"white\" font-family=\"Times\" font-size=\"13.2\" text-anchor=\"middle\" x=\"224.4\" y=\"33.825\"/><rect fill=\"red\" height=\"9.9\" width=\"26.928\" x=\"237.336\" y=\"28.05\"/><circle cx=\"237.6\" cy=\"33.0\" fill=\"red\" r=\"-0.264\" stroke=\"red\" stroke-width=\"0\"/><circle cx=\"264.0\" cy=\"33.0\" fill=\"red\" r=\"-0.264\" stroke=\"red\" stroke-width=\"0\"/><text alignment-baseline=\"middle\" fill=\"white\" font-family=\"Times\" font-size=\"13.2\" text-anchor=\"middle\" x=\"250.8\" y=\"33.825\"/><rect fill=\"red\" height=\"9.9\" width=\"26.928\" x=\"263.736\" y=\"28.05\"/><circle cx=\"264.0\" cy=\"33.0\" fill=\"red\" r=\"-0.264\" stroke=\"red\" stroke-width=\"0\"/><circle cx=\"290.4\" cy=\"33.0\" fill=\"red\" r=\"-0.264\" stroke=\"red\" stroke-width=\"0\"/><text alignment-baseline=\"middle\" fill=\"white\" font-family=\"Times\" font-size=\"13.2\" text-anchor=\"middle\" x=\"277.2\" y=\"33.825\"/><rect fill=\"red\" height=\"9.9\" width=\"26.928\" x=\"290.136\" y=\"28.05\"/><circle cx=\"290.4\" cy=\"33.0\" fill=\"red\" r=\"-0.264\" stroke=\"red\" stroke-width=\"0\"/><circle cx=\"316.8\" cy=\"33.0\" fill=\"red\" r=\"-0.264\" stroke=\"red\" stroke-width=\"0\"/><text alignment-baseline=\"middle\" fill=\"white\" font-family=\"Times\" font-size=\"13.2\" text-anchor=\"middle\" x=\"303.6\" y=\"33.825\"/><rect fill=\"red\" height=\"9.9\" width=\"26.928\" x=\"316.536\" y=\"28.05\"/><circle cx=\"316.8\" cy=\"33.0\" fill=\"red\" r=\"-0.264\" stroke=\"red\" stroke-width=\"0\"/><circle cx=\"343.2\" cy=\"33.0\" fill=\"red\" r=\"-0.264\" stroke=\"red\" stroke-width=\"0\"/><text alignment-baseline=\"middle\" fill=\"white\" font-family=\"Times\" font-size=\"13.2\" text-anchor=\"middle\" x=\"330.0\" y=\"33.825\"/></svg>"
       ],
       "text": [
        "<IPython.core.display.SVG at 0x1102b4090>"
       ],
       "metadata": {}
      }
     ],
     "input": [
      "tree.rejected = False\n",
      "tree.states = []\n",
      "tree.op = None\n",
      "samples = storage.sample.by_ensemble(storage.ensemble.load(1))\n",
      "tree.from_samples(samples)\n",
      "view = tree.renderer\n",
      "view.zoom = 1.1\n",
      "view.horizontal_gap = -0.01\n",
      "view.scale_y = 15\n",
      "view.scale_x = 24\n",
      "view.font_size = 0.8\n",
      "view.font_family = 'Times'\n",
      "SVG(view.to_svg())"
     ],
     "language": "python",
     "prompt_number": 30
    },
    {
     "cell_type": "markdown",
     "metadata": {},
     "source": [
      "### Phi/Psi Plots"
     ]
    },
    {
     "cell_type": "code",
     "metadata": {},
     "outputs": [],
     "input": [
      "# Imports for plotting\n",
      "%matplotlib inline\n",
      "import matplotlib\n",
      "import matplotlib.pyplot as plt\n",
      "import matplotlib.pylab as pylab\n",
      "from matplotlib.legend_handler import HandlerLine2D"
     ],
     "language": "python",
     "prompt_number": 31
    },
    {
     "cell_type": "markdown",
     "metadata": {},
     "source": [
      "Make sure that all phi/psi values have been computed!"
     ]
    },
    {
     "cell_type": "code",
     "metadata": {},
     "outputs": [],
     "input": [
      "phi(storage.snapshot.all());\n",
      "psi(storage.snapshot.all());"
     ],
     "language": "python",
     "prompt_number": 32
    },
    {
     "cell_type": "code",
     "metadata": {},
     "outputs": [
      {
       "output_type": "display_data",
       "png": "[encoded data removed]",
       "text": [
        "<matplotlib.figure.Figure at 0x118bc4d90>"
       ],
       "metadata": {}
      }
     ],
     "input": [
      "plt.figure(figsize=(5, 5))\n",
      "\n",
      "for traj in storage.trajectory.iterator():\n",
      "    phi_angles = degrees * np.array(phi(traj)).flatten()\n",
      "    psi_angles = degrees * np.array(psi(traj)).flatten()\n",
      "    plt.plot(phi_angles, psi_angles, 'ro', linewidth=1);\n",
      "    \n",
      "plt.xlim(-180, 180);\n",
      "plt.ylim(-180, 180);"
     ],
     "language": "python",
     "prompt_number": 33
    },
    {
     "cell_type": "code",
     "metadata": {},
     "outputs": [
      {
       "output_type": "display_data",
       "png": "[encoded data removed]",
       "text": [
        "<matplotlib.figure.Figure at 0x110cfd290>"
       ],
       "metadata": {}
      }
     ],
     "input": [
      "plt.figure(figsize=(8, 8))\n",
      "\n",
      "traj = storage.trajectory.last()\n",
      "phi_angles = degrees * np.array(phi(traj)).flatten()\n",
      "psi_angles = degrees * np.array(psi(traj)).flatten()\n",
      "plt.plot(phi_angles, psi_angles, 'k-', linewidth=1);\n",
      "\n",
      "for snapshot in traj:\n",
      "    phi_angles = degrees * np.array(phi(snapshot)).flatten()\n",
      "    psi_angles = degrees * np.array(psi(snapshot)).flatten()\n",
      "    if op_notinAorB(snapshot):\n",
      "        plt.plot(phi_angles, psi_angles, 'ro', linewidth=1);\n",
      "    else:\n",
      "        plt.plot(phi_angles, psi_angles, 'bo', linewidth=1);\n",
      "        \n",
      "plt.xlim(-180, 180);\n",
      "plt.ylim(-180, 180);"
     ],
     "language": "python",
     "prompt_number": 34
    },
    {
     "cell_type": "code",
     "metadata": {},
     "outputs": [
      {
       "output_type": "display_data",
       "png": "[encoded data removed]",
       "text": [
        "<matplotlib.figure.Figure at 0x119799c90>"
       ],
       "metadata": {}
      }
     ],
     "input": [
      "plt.figure(figsize=(8, 8))\n",
      "\n",
      "traj = storage.sample.last().trajectory\n",
      "phi_angles = degrees * np.array(phi(traj)).flatten()\n",
      "psi_angles = degrees * np.array(psi(traj)).flatten()\n",
      "plt.plot(phi_angles, psi_angles, 'k-', linewidth=1);\n",
      "\n",
      "\n",
      "#for snapshot in simulator.storage.snapshot.iterator():\n",
      "for snapshot in traj:\n",
      "    phi_angles = degrees * np.array(phi(snapshot)).flatten()\n",
      "    psi_angles = degrees * np.array(psi(snapshot)).flatten()\n",
      "    if op_notinAorB(snapshot):\n",
      "        plt.plot(phi_angles, psi_angles, 'ro', linewidth=1);\n",
      "    else:\n",
      "        plt.plot(phi_angles, psi_angles, 'bo', linewidth=1);\n",
      "        \n",
      "plt.xlim(-180, 180);\n",
      "plt.ylim(-180, 180);"
     ],
     "language": "python",
     "prompt_number": 35
    },
    {
     "cell_type": "code",
     "metadata": {},
     "outputs": [],
     "input": [
      "storage.sync()"
     ],
     "language": "python",
     "prompt_number": 36
    }
   ]
  }
 ],
 "cells": [],
 "metadata": {
  "name": "",
  "signature": "sha256:ec596b36701caf64d46443922c1ef44c6cf9a45e9a3e1c830d84d7691b9427df"
 },
 "nbformat": 3,
 "nbformat_minor": 0
}
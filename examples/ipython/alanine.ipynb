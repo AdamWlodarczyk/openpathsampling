{
 "cells": [
  {
   "cell_type": "markdown",
   "metadata": {},
   "source": [
    "# OPENTIS\n",
    "## An Example with Alanine"
   ]
  },
  {
   "cell_type": "markdown",
   "metadata": {},
   "source": [
    "Import Modules"
   ]
  },
  {
   "cell_type": "code",
   "execution_count": 1,
   "metadata": {
    "collapsed": true
   },
   "outputs": [],
   "source": [
    "import numpy as np\n",
    "import mdtraj as md\n",
    "import pandas as pd\n",
    "import simtk.openmm as mm\n",
    "from simtk.openmm import app\n",
    "from simtk import unit\n",
    " \n",
    "from openpathsampling.visualize import PathTreeBuilder\n",
    "from IPython.display import SVG\n",
    "\n",
    "import openpathsampling as paths"
   ]
  },
  {
   "cell_type": "markdown",
   "metadata": {},
   "source": [
    "Radians to Degree conversion"
   ]
  },
  {
   "cell_type": "code",
   "execution_count": 2,
   "metadata": {
    "collapsed": true
   },
   "outputs": [],
   "source": [
    "deg = 3.14159265 / 180.0"
   ]
  },
  {
   "cell_type": "markdown",
   "metadata": {},
   "source": [
    "Create an AlanineOpenMMSimulator for demonstration purposes"
   ]
  },
  {
   "cell_type": "markdown",
   "metadata": {},
   "source": [
    "### Set simulation options and create a simulator object"
   ]
  },
  {
   "cell_type": "code",
   "execution_count": 3,
   "metadata": {
    "collapsed": true
   },
   "outputs": [],
   "source": [
    "template = paths.tools.snapshot_from_pdb(\"../data/Alanine_solvated.pdb\")"
   ]
  },
  {
   "cell_type": "code",
   "execution_count": 4,
   "metadata": {
    "collapsed": true
   },
   "outputs": [],
   "source": [
    "storage = paths.Storage(filename=\"trajectory.nc\", template=template, mode='w')"
   ]
  },
  {
   "cell_type": "markdown",
   "metadata": {},
   "source": [
    "Set up the OpenMM simulation"
   ]
  },
  {
   "cell_type": "code",
   "execution_count": 5,
   "metadata": {
    "collapsed": true
   },
   "outputs": [],
   "source": [
    "topology = paths.tools.to_openmm_topology(template)            \n",
    "\n",
    "# Generated using OpenMM Script Builder\n",
    "# http://builder.openmm.org\n",
    "\n",
    "forcefield = app.ForceField(\n",
    "    'amber96.xml',  # solute FF\n",
    "    'tip3p.xml'     # solvent FF\n",
    ")\n",
    "\n",
    "# OpenMM System\n",
    "system = forcefield.createSystem(\n",
    "    topology, \n",
    "    nonbondedMethod=app.PME, \n",
    "    nonbondedCutoff=1.0*unit.nanometers, \n",
    "    constraints=app.HBonds, \n",
    "    rigidWater=True, \n",
    "    ewaldErrorTolerance=0.0005\n",
    ")\n",
    "\n",
    "# OpenMM Integrator\n",
    "integrator = mm.LangevinIntegrator(\n",
    "    300*unit.kelvin, \n",
    "    1.0/unit.picoseconds, \n",
    "    2.0*unit.femtoseconds\n",
    ")\n",
    "integrator.setConstraintTolerance(0.00001)\n",
    "\n",
    "# Engine options\n",
    "options = {\n",
    "    'nsteps_per_frame': 10\n",
    "}\n",
    "\n",
    "engine = paths.OpenMMEngine(\n",
    "    template, \n",
    "    system,\n",
    "    integrator,\n",
    "    options\n",
    ")"
   ]
  },
  {
   "cell_type": "code",
   "execution_count": 6,
   "metadata": {
    "collapsed": true
   },
   "outputs": [],
   "source": [
    "storage.save(engine)"
   ]
  },
  {
   "cell_type": "markdown",
   "metadata": {},
   "source": [
    "And save the storage in a separate variable for convenience"
   ]
  },
  {
   "cell_type": "code",
   "execution_count": 7,
   "metadata": {
    "collapsed": true
   },
   "outputs": [],
   "source": [
    "storage.set_caching_mode('lowmemory')"
   ]
  },
  {
   "cell_type": "markdown",
   "metadata": {},
   "source": [
    "### Order Parameters"
   ]
  },
  {
   "cell_type": "markdown",
   "metadata": {},
   "source": [
    "this generates an order parameter (callable) object named psi (so if we call `psi(trajectory)` we get a list of the values of psi for each frame in the trajectory). This particular order parameter uses mdtraj's compute_dihedrals function, with the atoms in psi_atoms"
   ]
  },
  {
   "cell_type": "code",
   "execution_count": 8,
   "metadata": {
    "collapsed": true
   },
   "outputs": [],
   "source": [
    "psi_atoms = [6,8,14,16]\n",
    "psi = paths.CV_MDTraj_Function(\"psi\", md.compute_dihedrals, indices=[psi_atoms])\n",
    "\n",
    "phi_atoms = [4,6,8,14]\n",
    "phi = paths.CV_MDTraj_Function(\"phi\", md.compute_dihedrals, indices=[phi_atoms])"
   ]
  },
  {
   "cell_type": "code",
   "execution_count": 9,
   "metadata": {
    "collapsed": true
   },
   "outputs": [],
   "source": [
    "storage.save([psi, phi]);"
   ]
  },
  {
   "cell_type": "markdown",
   "metadata": {},
   "source": [
    "### Volumes"
   ]
  },
  {
   "cell_type": "markdown",
   "metadata": {},
   "source": [
    "This creates two states using a one-dimensional order parameter (called _Lambda_ in TIS terminology). A snapshot is in the State as long as the order parameter is with specific bounds. \n",
    "\n",
    "StateA is $\\psi \\in [-120, -30]$ and StateB is $\\psi \\in [100, 180]$"
   ]
  },
  {
   "cell_type": "code",
   "execution_count": 10,
   "metadata": {
    "collapsed": true
   },
   "outputs": [],
   "source": [
    "stateA = paths.CVRangeVolumePeriodic(\n",
    "    collectivevariable=psi, \n",
    "    lambda_min=-120.0*deg, \n",
    "    lambda_max=-30.0*deg, \n",
    "    period_min=-180.0*deg, \n",
    "    period_max=+180.0*deg\n",
    ")\n",
    "stateB = paths.CVRangeVolumePeriodic(\n",
    "    collectivevariable=psi, \n",
    "    lambda_min=100.0*deg, \n",
    "    lambda_max=180.0*deg, \n",
    "    period_min=-180.0*deg, \n",
    "    period_max=+180.0*deg\n",
    ")"
   ]
  },
  {
   "cell_type": "markdown",
   "metadata": {},
   "source": [
    "Now do the same for a set of lambda ranges to produce nested volumes."
   ]
  },
  {
   "cell_type": "code",
   "execution_count": 11,
   "metadata": {
    "collapsed": true
   },
   "outputs": [],
   "source": [
    "minima = map(deg.__mul__, [-125, -135, -140, -142.5, -145.0, -147.0, -150.0])\n",
    "maxima = map(deg.__mul__, [-25.0, -21.0, -18.5, -17.0, -15.0, -10.0, 0.0])\n",
    "\n",
    "volume_set = paths.VolumeFactory.CVRangeVolumePeriodicSet(psi, minima, maxima, -180.0*deg, +180.0*deg)"
   ]
  },
  {
   "cell_type": "markdown",
   "metadata": {},
   "source": [
    "### Ensembles"
   ]
  },
  {
   "cell_type": "markdown",
   "metadata": {},
   "source": [
    "Now do this automatically for all ensembles"
   ]
  },
  {
   "cell_type": "code",
   "execution_count": 12,
   "metadata": {
    "collapsed": true
   },
   "outputs": [],
   "source": [
    "interface0 = volume_set[0]\n",
    "interface_set = paths.EnsembleFactory.TISEnsembleSet(stateA, stateA | stateB, volume_set, psi)"
   ]
  },
  {
   "cell_type": "markdown",
   "metadata": {},
   "source": [
    "Give each interface a name"
   ]
  },
  {
   "cell_type": "code",
   "execution_count": 13,
   "metadata": {
    "collapsed": true
   },
   "outputs": [],
   "source": [
    "for no, interface in enumerate(interface_set):\n",
    "    interface.name = 'Interface ' + str(no)"
   ]
  },
  {
   "cell_type": "markdown",
   "metadata": {},
   "source": [
    "and save all of these"
   ]
  },
  {
   "cell_type": "code",
   "execution_count": 14,
   "metadata": {
    "collapsed": true
   },
   "outputs": [],
   "source": [
    "map(storage.ensembles.save, interface_set);"
   ]
  },
  {
   "cell_type": "markdown",
   "metadata": {},
   "source": [
    "And create a special ensemble, that will create a first trajectory in the innermost TIS ensemble independent from where we start"
   ]
  },
  {
   "cell_type": "markdown",
   "metadata": {},
   "source": [
    "The idea is to describe a trajectory type by a sequence of positions. First can be outside of stateA or not, then be inside stateA, etc..."
   ]
  },
  {
   "cell_type": "code",
   "execution_count": 15,
   "metadata": {
    "collapsed": true
   },
   "outputs": [],
   "source": [
    "inA = paths.AllInXEnsemble(stateA)\n",
    "outA = paths.AllOutXEnsemble(stateA)\n",
    "\n",
    "inI0 = paths.AllInXEnsemble(interface0)\n",
    "outI0 = paths.AllOutXEnsemble(interface0)\n",
    "\n",
    "first_traj_ensemble = paths.SequentialEnsemble([\n",
    "    paths.OptionalEnsemble(outA),\n",
    "    inA,\n",
    "    paths.OptionalEnsemble(outA & inI0),\n",
    "    paths.OptionalEnsemble(inI0),\n",
    "    outI0,\n",
    "    paths.OptionalEnsemble(outA),\n",
    "    paths.SingleFrameEnsemble(inA)\n",
    "])"
   ]
  },
  {
   "cell_type": "markdown",
   "metadata": {},
   "source": [
    "### start path generation"
   ]
  },
  {
   "cell_type": "markdown",
   "metadata": {},
   "source": [
    "so lets try and see if we can generate a first path"
   ]
  },
  {
   "cell_type": "markdown",
   "metadata": {},
   "source": [
    "load the initial snapshot (although we still have it) and generate using the Alanine simulator. The second option specifies a function : trajectory -> bool that keeps the simulation running as long as it is true. Our goal was to generate a path that belongs to a specific ensemble, so we use `forward` to determine if it makes sense to keep running or if the result cannot belong to the ensemble anymore."
   ]
  },
  {
   "cell_type": "code",
   "execution_count": 16,
   "metadata": {
    "collapsed": true
   },
   "outputs": [],
   "source": [
    "snapshot = storage.template\n",
    "total_path = engine.generate(\n",
    "    snapshot= snapshot, \n",
    "    running = [first_traj_ensemble.can_append]\n",
    ")"
   ]
  },
  {
   "cell_type": "markdown",
   "metadata": {},
   "source": [
    "Show the length"
   ]
  },
  {
   "cell_type": "code",
   "execution_count": 17,
   "metadata": {
    "collapsed": false
   },
   "outputs": [
    {
     "name": "stdout",
     "output_type": "stream",
     "text": [
      "Total trajectory length:  89\n"
     ]
    }
   ],
   "source": [
    "print \"Total trajectory length: \", len(total_path)"
   ]
  },
  {
   "cell_type": "markdown",
   "metadata": {},
   "source": [
    "And save the trajetory completely"
   ]
  },
  {
   "cell_type": "code",
   "execution_count": 18,
   "metadata": {
    "collapsed": true
   },
   "outputs": [],
   "source": [
    "storage.save(total_path);"
   ]
  },
  {
   "cell_type": "markdown",
   "metadata": {},
   "source": [
    "Split the trajectory into parts that belong to the TIS ensemble (not the one we generated)"
   ]
  },
  {
   "cell_type": "code",
   "execution_count": 19,
   "metadata": {
    "collapsed": false
   },
   "outputs": [
    {
     "name": "stdout",
     "output_type": "stream",
     "text": [
      "Traj in first_traj_ensemble? (should be) True\n",
      "Traj in TIS ensemble? (probably not) False\n",
      "Number of segments in TIS ensemble:  1\n",
      "Length of each segment:\n",
      "  seg[0]: 6\n"
     ]
    }
   ],
   "source": [
    "interface0_ensemble = interface_set[0]\n",
    "segments = interface0_ensemble.split(total_path)\n",
    "\n",
    "print \"Traj in first_traj_ensemble? (should be)\", \n",
    "print first_traj_ensemble(total_path)\n",
    "\n",
    "print \"Traj in TIS ensemble? (probably not)\", \n",
    "print interface0_ensemble(total_path)\n",
    "\n",
    "\n",
    "print \"Number of segments in TIS ensemble: \", len(segments)\n",
    "if len(segments):\n",
    "    print \"Length of each segment:\"\n",
    "    for i in range(len(segments)):\n",
    "        print \"  seg[{0}]: {1}\".format(i, len(segments[i]))"
   ]
  },
  {
   "cell_type": "markdown",
   "metadata": {},
   "source": [
    "Show some results and check if this worked"
   ]
  },
  {
   "cell_type": "code",
   "execution_count": 20,
   "metadata": {
    "collapsed": false
   },
   "outputs": [
    {
     "data": {
      "text/html": [
       "<div>\n",
       "<table border=\"1\" class=\"dataframe\">\n",
       "  <thead>\n",
       "    <tr style=\"text-align: right;\">\n",
       "      <th></th>\n",
       "      <th>phi</th>\n",
       "      <th>psi</th>\n",
       "      <th>stateA</th>\n",
       "      <th>interface0</th>\n",
       "      <th>stateB</th>\n",
       "      <th>appendable</th>\n",
       "    </tr>\n",
       "  </thead>\n",
       "  <tbody>\n",
       "    <tr>\n",
       "      <th>0</th>\n",
       "      <td>-80.208455</td>\n",
       "      <td>-10.277032</td>\n",
       "      <td>False</td>\n",
       "      <td>False</td>\n",
       "      <td>False</td>\n",
       "      <td>True</td>\n",
       "    </tr>\n",
       "    <tr>\n",
       "      <th>1</th>\n",
       "      <td>-82.701413</td>\n",
       "      <td>-11.185739</td>\n",
       "      <td>False</td>\n",
       "      <td>False</td>\n",
       "      <td>False</td>\n",
       "      <td>True</td>\n",
       "    </tr>\n",
       "    <tr>\n",
       "      <th>2</th>\n",
       "      <td>-80.817469</td>\n",
       "      <td>-11.734809</td>\n",
       "      <td>False</td>\n",
       "      <td>False</td>\n",
       "      <td>False</td>\n",
       "      <td>True</td>\n",
       "    </tr>\n",
       "    <tr>\n",
       "      <th>86</th>\n",
       "      <td>-79.121437</td>\n",
       "      <td>-27.445384</td>\n",
       "      <td>False</td>\n",
       "      <td>True</td>\n",
       "      <td>False</td>\n",
       "      <td>True</td>\n",
       "    </tr>\n",
       "    <tr>\n",
       "      <th>87</th>\n",
       "      <td>-76.521744</td>\n",
       "      <td>-22.835892</td>\n",
       "      <td>False</td>\n",
       "      <td>False</td>\n",
       "      <td>False</td>\n",
       "      <td>True</td>\n",
       "    </tr>\n",
       "    <tr>\n",
       "      <th>88</th>\n",
       "      <td>-65.258462</td>\n",
       "      <td>-39.930119</td>\n",
       "      <td>True</td>\n",
       "      <td>True</td>\n",
       "      <td>False</td>\n",
       "      <td>False</td>\n",
       "    </tr>\n",
       "  </tbody>\n",
       "</table>\n",
       "</div>"
      ],
      "text/plain": [
       "          phi        psi stateA interface0 stateB appendable\n",
       "0  -80.208455 -10.277032  False      False  False       True\n",
       "1  -82.701413 -11.185739  False      False  False       True\n",
       "2  -80.817469 -11.734809  False      False  False       True\n",
       "86 -79.121437 -27.445384  False       True  False       True\n",
       "87 -76.521744 -22.835892  False      False  False       True\n",
       "88 -65.258462 -39.930119   True       True  False      False"
      ]
     },
     "execution_count": 20,
     "metadata": {},
     "output_type": "execute_result"
    }
   ],
   "source": [
    "data = []\n",
    "for frame in total_path:\n",
    "    data.append((phi(frame) / deg, psi(frame)/deg, stateA(frame), interface0(frame), stateB(frame), first_traj_ensemble.can_append(total_path[slice(0,total_path.index(frame)+1)])))\n",
    "    \n",
    "dataframe = pd.DataFrame(data, columns=['phi', 'psi', 'stateA', 'interface0', 'stateB', 'appendable'])\n",
    "dataframe[[0,1,2,3,4,5]].ix[[0,1,2,len(dataframe)-3,len(dataframe)-2,len(dataframe)-1]]"
   ]
  },
  {
   "cell_type": "code",
   "execution_count": 21,
   "metadata": {
    "collapsed": false
   },
   "outputs": [
    {
     "name": "stdout",
     "output_type": "stream",
     "text": [
      "Do our segments satisfy the ensemble? True\n"
     ]
    }
   ],
   "source": [
    "print \"Do our segments satisfy the ensemble?\",\n",
    "for seg in segments:\n",
    "    print interface0_ensemble(seg),"
   ]
  },
  {
   "cell_type": "code",
   "execution_count": 22,
   "metadata": {
    "collapsed": false
   },
   "outputs": [
    {
     "data": {
      "text/html": [
       "<div>\n",
       "<table border=\"1\" class=\"dataframe\">\n",
       "  <thead>\n",
       "    <tr style=\"text-align: right;\">\n",
       "      <th></th>\n",
       "      <th>phi</th>\n",
       "      <th>psi</th>\n",
       "      <th>stateA</th>\n",
       "      <th>interface0</th>\n",
       "      <th>stateB</th>\n",
       "      <th>appendable</th>\n",
       "    </tr>\n",
       "  </thead>\n",
       "  <tbody>\n",
       "    <tr>\n",
       "      <th>0</th>\n",
       "      <td>-80.063771</td>\n",
       "      <td>-40.116129</td>\n",
       "      <td>True</td>\n",
       "      <td>True</td>\n",
       "      <td>False</td>\n",
       "      <td>True</td>\n",
       "    </tr>\n",
       "    <tr>\n",
       "      <th>1</th>\n",
       "      <td>-82.359186</td>\n",
       "      <td>-29.757457</td>\n",
       "      <td>False</td>\n",
       "      <td>True</td>\n",
       "      <td>False</td>\n",
       "      <td>True</td>\n",
       "    </tr>\n",
       "    <tr>\n",
       "      <th>2</th>\n",
       "      <td>-84.710916</td>\n",
       "      <td>-28.722851</td>\n",
       "      <td>False</td>\n",
       "      <td>True</td>\n",
       "      <td>False</td>\n",
       "      <td>True</td>\n",
       "    </tr>\n",
       "    <tr>\n",
       "      <th>3</th>\n",
       "      <td>-79.121437</td>\n",
       "      <td>-27.445384</td>\n",
       "      <td>False</td>\n",
       "      <td>True</td>\n",
       "      <td>False</td>\n",
       "      <td>True</td>\n",
       "    </tr>\n",
       "    <tr>\n",
       "      <th>4</th>\n",
       "      <td>-76.521744</td>\n",
       "      <td>-22.835892</td>\n",
       "      <td>False</td>\n",
       "      <td>False</td>\n",
       "      <td>False</td>\n",
       "      <td>True</td>\n",
       "    </tr>\n",
       "    <tr>\n",
       "      <th>5</th>\n",
       "      <td>-65.258462</td>\n",
       "      <td>-39.930119</td>\n",
       "      <td>True</td>\n",
       "      <td>True</td>\n",
       "      <td>False</td>\n",
       "      <td>False</td>\n",
       "    </tr>\n",
       "  </tbody>\n",
       "</table>\n",
       "</div>"
      ],
      "text/plain": [
       "         phi        psi stateA interface0 stateB appendable\n",
       "0 -80.063771 -40.116129   True       True  False       True\n",
       "1 -82.359186 -29.757457  False       True  False       True\n",
       "2 -84.710916 -28.722851  False       True  False       True\n",
       "3 -79.121437 -27.445384  False       True  False       True\n",
       "4 -76.521744 -22.835892  False      False  False       True\n",
       "5 -65.258462 -39.930119   True       True  False      False"
      ]
     },
     "execution_count": 22,
     "metadata": {},
     "output_type": "execute_result"
    }
   ],
   "source": [
    "data = []\n",
    "for frame in segments[0]:\n",
    "    data.append((phi(frame)/deg, psi(frame)/deg, stateA(frame), interface0(frame), stateB(frame), first_traj_ensemble.can_append(total_path[slice(0,total_path.index(frame)+1)])))\n",
    "    \n",
    "dataframe = pd.DataFrame(data, columns=['phi', 'psi', 'stateA', 'interface0', 'stateB', 'appendable'])\n",
    "dataframe[[0,1,2,3,4,5]]"
   ]
  },
  {
   "cell_type": "markdown",
   "metadata": {},
   "source": [
    "### Bootstrapping"
   ]
  },
  {
   "cell_type": "markdown",
   "metadata": {},
   "source": [
    "Run a bootstrapping (not TIS) simulation that shoots from an ensemble until the next interface is reached then switch to the next ensemble to drive the system out of stateA"
   ]
  },
  {
   "cell_type": "code",
   "execution_count": 23,
   "metadata": {
    "collapsed": true
   },
   "outputs": [],
   "source": [
    "mover_set = paths.PathMoverFactory.OneWayShootingSet(paths.UniformSelector(), interface_set)"
   ]
  },
  {
   "cell_type": "code",
   "execution_count": 24,
   "metadata": {
    "collapsed": true
   },
   "outputs": [],
   "source": [
    "bootstrap = paths.Bootstrapping(storage=storage,\n",
    "                          engine=engine,\n",
    "                          ensembles=interface_set,\n",
    "                          movers=mover_set,\n",
    "                          trajectory=segments[0])"
   ]
  },
  {
   "cell_type": "markdown",
   "metadata": {},
   "source": [
    "Run Bootstrapping with at most 50 attempts per ensemble"
   ]
  },
  {
   "cell_type": "code",
   "execution_count": 25,
   "metadata": {
    "collapsed": false
   },
   "outputs": [
    {
     "name": "stdout",
     "output_type": "stream",
     "text": [
      "DONE! Completed Bootstrapping cycle step 54 in ensemble 5/7 .\n",
      "\n"
     ]
    }
   ],
   "source": [
    "bootstrap.run(50)"
   ]
  },
  {
   "cell_type": "markdown",
   "metadata": {},
   "source": [
    "Save all computed phi/psi values which depends on whether they have been needed before"
   ]
  },
  {
   "cell_type": "code",
   "execution_count": 26,
   "metadata": {
    "collapsed": true
   },
   "outputs": [],
   "source": [
    "storage.cvs.sync()"
   ]
  },
  {
   "cell_type": "markdown",
   "metadata": {},
   "source": [
    "Create an collectivevariable from a volume which is just 1 or 0 and can thus be stored for later analysis"
   ]
  },
  {
   "cell_type": "code",
   "execution_count": 27,
   "metadata": {
    "collapsed": true
   },
   "outputs": [],
   "source": [
    "op_inA = paths.CV_Volume('StateA', stateA)\n",
    "op_inB = paths.CV_Volume('StateB', stateB)\n",
    "op_notinAorB = paths.CV_Volume('StateX', ~ (stateA | stateB))"
   ]
  },
  {
   "cell_type": "markdown",
   "metadata": {},
   "source": [
    "Save the new collectivevariables"
   ]
  },
  {
   "cell_type": "code",
   "execution_count": 28,
   "metadata": {
    "collapsed": true
   },
   "outputs": [],
   "source": [
    "storage.save([op_inA, op_inB, op_notinAorB]);"
   ]
  },
  {
   "cell_type": "markdown",
   "metadata": {},
   "source": [
    "Compute the collectivevariable for all snapshots"
   ]
  },
  {
   "cell_type": "code",
   "execution_count": 29,
   "metadata": {
    "collapsed": true
   },
   "outputs": [],
   "source": [
    "psi(storage.snapshots.all());\n",
    "phi(storage.snapshots.all());"
   ]
  },
  {
   "cell_type": "code",
   "execution_count": 30,
   "metadata": {
    "collapsed": true
   },
   "outputs": [],
   "source": [
    "op_inA(storage.snapshots.all())\n",
    "op_inB(storage.snapshots.all())\n",
    "op_notinAorB(storage.snapshots.all());"
   ]
  },
  {
   "cell_type": "code",
   "execution_count": 31,
   "metadata": {
    "collapsed": true
   },
   "outputs": [],
   "source": [
    "storage.cvs.sync()\n",
    "storage.sync()"
   ]
  },
  {
   "cell_type": "code",
   "execution_count": 32,
   "metadata": {
    "collapsed": true
   },
   "outputs": [],
   "source": [
    "storage.close()"
   ]
  },
  {
   "cell_type": "code",
   "execution_count": 33,
   "metadata": {
    "collapsed": true
   },
   "outputs": [],
   "source": [
    "import openpathsampling as paths\n",
    "from openpathsampling.visualize import PathTreeBuilder\n",
    "from IPython.display import SVG\n",
    "import mdtraj"
   ]
  },
  {
   "cell_type": "code",
   "execution_count": 34,
   "metadata": {
    "collapsed": true
   },
   "outputs": [],
   "source": [
    "storage = paths.AnalysisStorage('trajectory.nc')"
   ]
  },
  {
   "cell_type": "markdown",
   "metadata": {},
   "source": [
    "## Visualization"
   ]
  },
  {
   "cell_type": "markdown",
   "metadata": {},
   "source": [
    "Create a PathTree generator"
   ]
  },
  {
   "cell_type": "code",
   "execution_count": 37,
   "metadata": {
    "collapsed": false
   },
   "outputs": [],
   "source": [
    "tree = PathTreeBuilder(storage)\n",
    "samps = tree.construct_heritage(storage.samples.last)\n",
    "tree.set_samples(samps)"
   ]
  },
  {
   "cell_type": "markdown",
   "metadata": {},
   "source": [
    "Change the settings to show rejected pathways, mark OrderParaemters `stateA` and `stateX`, and show the 'psi' value as text inside of the boxes"
   ]
  },
  {
   "cell_type": "code",
   "execution_count": 40,
   "metadata": {
    "collapsed": false,
    "scrolled": true
   },
   "outputs": [
    {
     "data": {
      "image/svg+xml": [
       "<svg baseProfile=\"full\" class=\"opstree\" height=\"100%\" version=\"1.1\" viewBox=\"-112.00 -12.00 302.00 1176.00\" width=\"100%\" xmlns=\"http://www.w3.org/2000/svg\" xmlns:ev=\"http://www.w3.org/2001/xml-events\" xmlns:xlink=\"http://www.w3.org/1999/xlink\"><defs><style type=\"text/css\"><![CDATA[\n",
       ".opstree text, .movetree text {\n",
       "    alignment-baseline: central;\n",
       "    font-size: 10px;\n",
       "    text-anchor: middle;\n",
       "    font-family: Futura-CondensedMedium;\n",
       "    font-weight: lighter;\n",
       "    stroke: none !important;\n",
       "}\n",
       ".opstree text.bw.label {\n",
       "    text-anchor: end;\n",
       "}\n",
       ".opstree text.fw.label {\n",
       "    text-anchor: start;\n",
       "}\n",
       ".opstree .block text, .movetree .block text {\n",
       "    fill: white !important;\n",
       "    stroke: none !important;\n",
       "}\n",
       ".opstree g.block:hover rect {\n",
       "    opacity: 0.5;\n",
       "}\n",
       ".opstree .repex {\n",
       "    fill: blue;\n",
       "    stroke: blue;\n",
       "}\n",
       ".opstree .new {\n",
       "    fill: black;\n",
       "    stroke: black;\n",
       "}\n",
       ".opstree .unknown {\n",
       "    fill: gray;\n",
       "    stroke: gray;\n",
       "}\n",
       ".opstree .hop {\n",
       "    fill: blue;\n",
       "    stroke: blue;\n",
       "}\n",
       ".opstree .correlation {\n",
       "    fill: black;\n",
       "    stroke: black;\n",
       "}\n",
       ".opstree .shooting.bw {\n",
       "    fill: green;\n",
       "    stroke: green;\n",
       "}\n",
       ".opstree .shooting.fw {\n",
       "    fill: red;\n",
       "    stroke: red;\n",
       "}\n",
       ".opstree .reversal {\n",
       "    fill: gold;\n",
       "}\n",
       ".opstree .virtual {\n",
       "    opacity: 0.1;\n",
       "    fill:gray;\n",
       "    stroke: none;\n",
       "}\n",
       ".opstree line {\n",
       "    stroke-width: 2px;\n",
       "}\n",
       ".opstree .label {\n",
       "    fill: black !important;\n",
       "}\n",
       ".opstree .h-connector {\n",
       "/*                stroke-dasharray: 3 3; */\n",
       "}\n",
       ".opstree .rejected {\n",
       "    opacity: 0.3;\n",
       "}\n",
       ".opstree .orange {\n",
       "    fill: orange;\n",
       "}\n",
       ".tableline {\n",
       "    fill: gray;\n",
       "    opacity: 0.0;\n",
       "}\n",
       ".tableline:hover {\n",
       "    opacity: 0.2;\n",
       "}\n",
       ".opstree .left.label .shift {\n",
       "    transform: translateX(-24px);\n",
       "}\n",
       ".opstree .right.label .shift {\n",
       "    transform: translateX(+24px);\n",
       "}\n",
       ".opstree .infobox text {\n",
       "    text-anchor: start;\n",
       "}\n",
       "\n",
       "\n",
       "\n",
       ".movetree .label .shift {\n",
       "    transform: translateX(-18px);\n",
       "}\n",
       "\n",
       ".movetree .label text {\n",
       "    text-anchor: end;\n",
       "}\n",
       ".movetree .v-connector {\n",
       "    stroke: black;\n",
       "}\n",
       ".movetree .v-hook {\n",
       "    stroke: black;\n",
       "}\n",
       ".movetree .ensembles .head .shift {\n",
       "    transform: translateY(0px) rotate(270deg) ;\n",
       "}\n",
       ".movetree .ensembles .head text {\n",
       "    text-anchor: start;\n",
       "}\n",
       ".movetree .connector.input {\n",
       "    fill: green;\n",
       "}\n",
       ".movetree .connector.output {\n",
       "    fill: red;\n",
       "}\n",
       ".movetree .unknown {\n",
       "    fill: gray;\n",
       "}\n",
       "]]></style><script><![CDATA[\n",
       "               box = $('.opstree .infobox text')[0];\n",
       "               var kernel = IPython.notebook.kernel;\n",
       "               $('.opstree .block').each(\n",
       "                function() {\n",
       "                json = JSON.parse($(this)[0].firstChild.textContent);\n",
       "                 $(this).data(json);\n",
       "                }\n",
       "               );\n",
       "               $('.opstree .block').hover(\n",
       "                function(){\n",
       "                  box.textContent =\n",
       "                  'Snapshot(' + $(this).data('snp') + ')' + ' ' +\n",
       "                  'Trajectoy(' + $(this).data('trj') + ')';\n",
       "                 },\n",
       "                 function(){\n",
       "                  box.textContent = '';\n",
       "                 });\n",
       "        ]]></script></defs><g class=\"legend\"><g class=\"infobox label\" transform=\"translate(0,0)\"><g class=\"shift\"><text x=\"0\" y=\"0\">Information</text></g></g><g class=\"label\" transform=\"translate(-64,0)\"><g class=\"shift\"><text x=\"0\" y=\"0\">smp</text></g></g><g class=\"label\" transform=\"translate(-96,0)\"><g class=\"shift\"><text x=\"0\" y=\"0\">cyc</text></g></g><g class=\"label\" transform=\"translate(-32,0)\"><g class=\"shift\"><text x=\"0\" y=\"0\">cor</text></g></g><rect class=\"tableline\" height=\"21.6\" width=\"302.0\" x=\"-112.0\" y=\"13.2\"/><g class=\"label\" transform=\"translate(-64,24)\"><g class=\"shift\"><text x=\"0\" y=\"0\">1</text></g></g><g class=\"label\" transform=\"translate(-96,24)\"><g class=\"shift\"><text x=\"0\" y=\"0\">1</text></g></g><rect class=\"tableline\" height=\"21.6\" width=\"302.0\" x=\"-112.0\" y=\"37.2\"/><g class=\"label\" transform=\"translate(-64,48)\"><g class=\"shift\"><text x=\"0\" y=\"0\">3</text></g></g><g class=\"label\" transform=\"translate(-96,48)\"><g class=\"shift\"><text x=\"0\" y=\"0\">2</text></g></g><rect class=\"tableline\" height=\"21.6\" width=\"302.0\" x=\"-112.0\" y=\"61.2\"/><g class=\"label\" transform=\"translate(-64,72)\"><g class=\"shift\"><text x=\"0\" y=\"0\">4</text></g></g><g class=\"label\" transform=\"translate(-96,72)\"><g class=\"shift\"><text x=\"0\" y=\"0\">2</text></g></g><rect class=\"tableline\" height=\"21.6\" width=\"302.0\" x=\"-112.0\" y=\"85.2\"/><g class=\"correlation v-region\"><line x1=\"-32\" x2=\"-32\" y1=\"12.0\" y2=\"84.0\"/><circle cx=\"-32\" cy=\"12.0\" r=\"1.6\"/><line x1=\"-41.6\" x2=\"-22.4\" y1=\"12.0\" y2=\"12.0\"/><circle cx=\"-32\" cy=\"84.0\" r=\"1.6\"/><line x1=\"-41.6\" x2=\"-22.4\" y1=\"84.0\" y2=\"84.0\"/><text x=\"-41.6\" y=\"48.0\"/></g><g class=\"label\" transform=\"translate(-64,96)\"><g class=\"shift\"><text x=\"0\" y=\"0\">5</text></g></g><g class=\"label\" transform=\"translate(-96,96)\"><g class=\"shift\"><text x=\"0\" y=\"0\">3</text></g></g><rect class=\"tableline\" height=\"21.6\" width=\"302.0\" x=\"-112.0\" y=\"109.2\"/><g class=\"label\" transform=\"translate(-64,120)\"><g class=\"shift\"><text x=\"0\" y=\"0\">6</text></g></g><g class=\"label\" transform=\"translate(-96,120)\"><g class=\"shift\"><text x=\"0\" y=\"0\">3</text></g></g><rect class=\"tableline\" height=\"21.6\" width=\"302.0\" x=\"-112.0\" y=\"133.2\"/><g class=\"label\" transform=\"translate(-64,144)\"><g class=\"shift\"><text x=\"0\" y=\"0\">7</text></g></g><g class=\"label\" transform=\"translate(-96,144)\"><g class=\"shift\"><text x=\"0\" y=\"0\">4</text></g></g><rect class=\"tableline\" height=\"21.6\" width=\"302.0\" x=\"-112.0\" y=\"157.2\"/><g class=\"correlation v-region\"><line x1=\"-32\" x2=\"-32\" y1=\"84.0\" y2=\"156.0\"/><circle cx=\"-32\" cy=\"84.0\" r=\"1.6\"/><line x1=\"-41.6\" x2=\"-22.4\" y1=\"84.0\" y2=\"84.0\"/><circle cx=\"-32\" cy=\"156.0\" r=\"1.6\"/><line x1=\"-41.6\" x2=\"-22.4\" y1=\"156.0\" y2=\"156.0\"/><text x=\"-41.6\" y=\"120.0\"/></g><g class=\"label\" transform=\"translate(-64,168)\"><g class=\"shift\"><text x=\"0\" y=\"0\">9</text></g></g><g class=\"label\" transform=\"translate(-96,168)\"><g class=\"shift\"><text x=\"0\" y=\"0\">5</text></g></g><rect class=\"tableline\" height=\"21.6\" width=\"302.0\" x=\"-112.0\" y=\"181.2\"/><g class=\"label\" transform=\"translate(-64,192)\"><g class=\"shift\"><text x=\"0\" y=\"0\">11</text></g></g><g class=\"label\" transform=\"translate(-96,192)\"><g class=\"shift\"><text x=\"0\" y=\"0\">6</text></g></g><rect class=\"tableline\" height=\"21.6\" width=\"302.0\" x=\"-112.0\" y=\"205.2\"/><g class=\"label\" transform=\"translate(-64,216)\"><g class=\"shift\"><text x=\"0\" y=\"0\">13</text></g></g><g class=\"label\" transform=\"translate(-96,216)\"><g class=\"shift\"><text x=\"0\" y=\"0\">7</text></g></g><rect class=\"tableline\" height=\"21.6\" width=\"302.0\" x=\"-112.0\" y=\"229.2\"/><g class=\"label\" transform=\"translate(-64,240)\"><g class=\"shift\"><text x=\"0\" y=\"0\">15</text></g></g><g class=\"label\" transform=\"translate(-96,240)\"><g class=\"shift\"><text x=\"0\" y=\"0\">8</text></g></g><rect class=\"tableline\" height=\"21.6\" width=\"302.0\" x=\"-112.0\" y=\"253.2\"/><g class=\"label\" transform=\"translate(-64,264)\"><g class=\"shift\"><text x=\"0\" y=\"0\">17</text></g></g><g class=\"label\" transform=\"translate(-96,264)\"><g class=\"shift\"><text x=\"0\" y=\"0\">9</text></g></g><rect class=\"tableline\" height=\"21.6\" width=\"302.0\" x=\"-112.0\" y=\"277.2\"/><g class=\"label\" transform=\"translate(-64,288)\"><g class=\"shift\"><text x=\"0\" y=\"0\">18</text></g></g><g class=\"label\" transform=\"translate(-96,288)\"><g class=\"shift\"><text x=\"0\" y=\"0\">9</text></g></g><rect class=\"tableline\" height=\"21.6\" width=\"302.0\" x=\"-112.0\" y=\"301.2\"/><g class=\"correlation v-region\"><line x1=\"-32\" x2=\"-32\" y1=\"156.0\" y2=\"300.0\"/><circle cx=\"-32\" cy=\"156.0\" r=\"1.6\"/><line x1=\"-41.6\" x2=\"-22.4\" y1=\"156.0\" y2=\"156.0\"/><circle cx=\"-32\" cy=\"300.0\" r=\"1.6\"/><line x1=\"-41.6\" x2=\"-22.4\" y1=\"300.0\" y2=\"300.0\"/><text x=\"-41.6\" y=\"228.0\"/></g><g class=\"label\" transform=\"translate(-64,312)\"><g class=\"shift\"><text x=\"0\" y=\"0\">19</text></g></g><g class=\"label\" transform=\"translate(-96,312)\"><g class=\"shift\"><text x=\"0\" y=\"0\">10</text></g></g><rect class=\"tableline\" height=\"21.6\" width=\"302.0\" x=\"-112.0\" y=\"325.2\"/><g class=\"label\" transform=\"translate(-64,336)\"><g class=\"shift\"><text x=\"0\" y=\"0\">21</text></g></g><g class=\"label\" transform=\"translate(-96,336)\"><g class=\"shift\"><text x=\"0\" y=\"0\">11</text></g></g><rect class=\"tableline\" height=\"21.6\" width=\"302.0\" x=\"-112.0\" y=\"349.2\"/><g class=\"label\" transform=\"translate(-64,360)\"><g class=\"shift\"><text x=\"0\" y=\"0\">23</text></g></g><g class=\"label\" transform=\"translate(-96,360)\"><g class=\"shift\"><text x=\"0\" y=\"0\">12</text></g></g><rect class=\"tableline\" height=\"21.6\" width=\"302.0\" x=\"-112.0\" y=\"373.2\"/><g class=\"label\" transform=\"translate(-64,384)\"><g class=\"shift\"><text x=\"0\" y=\"0\">25</text></g></g><g class=\"label\" transform=\"translate(-96,384)\"><g class=\"shift\"><text x=\"0\" y=\"0\">13</text></g></g><rect class=\"tableline\" height=\"21.6\" width=\"302.0\" x=\"-112.0\" y=\"397.2\"/><g class=\"label\" transform=\"translate(-64,408)\"><g class=\"shift\"><text x=\"0\" y=\"0\">28</text></g></g><g class=\"label\" transform=\"translate(-96,408)\"><g class=\"shift\"><text x=\"0\" y=\"0\">15</text></g></g><rect class=\"tableline\" height=\"21.6\" width=\"302.0\" x=\"-112.0\" y=\"421.2\"/><g class=\"label\" transform=\"translate(-64,432)\"><g class=\"shift\"><text x=\"0\" y=\"0\">30</text></g></g><g class=\"label\" transform=\"translate(-96,432)\"><g class=\"shift\"><text x=\"0\" y=\"0\">16</text></g></g><rect class=\"tableline\" height=\"21.6\" width=\"302.0\" x=\"-112.0\" y=\"445.2\"/><g class=\"label\" transform=\"translate(-64,456)\"><g class=\"shift\"><text x=\"0\" y=\"0\">32</text></g></g><g class=\"label\" transform=\"translate(-96,456)\"><g class=\"shift\"><text x=\"0\" y=\"0\">17</text></g></g><rect class=\"tableline\" height=\"21.6\" width=\"302.0\" x=\"-112.0\" y=\"469.2\"/><g class=\"label\" transform=\"translate(-64,480)\"><g class=\"shift\"><text x=\"0\" y=\"0\">34</text></g></g><g class=\"label\" transform=\"translate(-96,480)\"><g class=\"shift\"><text x=\"0\" y=\"0\">18</text></g></g><rect class=\"tableline\" height=\"21.6\" width=\"302.0\" x=\"-112.0\" y=\"493.2\"/><g class=\"label\" transform=\"translate(-64,504)\"><g class=\"shift\"><text x=\"0\" y=\"0\">37</text></g></g><g class=\"label\" transform=\"translate(-96,504)\"><g class=\"shift\"><text x=\"0\" y=\"0\">20</text></g></g><rect class=\"tableline\" height=\"21.6\" width=\"302.0\" x=\"-112.0\" y=\"517.2\"/><g class=\"label\" transform=\"translate(-64,528)\"><g class=\"shift\"><text x=\"0\" y=\"0\">39</text></g></g><g class=\"label\" transform=\"translate(-96,528)\"><g class=\"shift\"><text x=\"0\" y=\"0\">21</text></g></g><rect class=\"tableline\" height=\"21.6\" width=\"302.0\" x=\"-112.0\" y=\"541.2\"/><g class=\"label\" transform=\"translate(-64,552)\"><g class=\"shift\"><text x=\"0\" y=\"0\">43</text></g></g><g class=\"label\" transform=\"translate(-96,552)\"><g class=\"shift\"><text x=\"0\" y=\"0\">24</text></g></g><rect class=\"tableline\" height=\"21.6\" width=\"302.0\" x=\"-112.0\" y=\"565.2\"/><g class=\"label\" transform=\"translate(-64,576)\"><g class=\"shift\"><text x=\"0\" y=\"0\">45</text></g></g><g class=\"label\" transform=\"translate(-96,576)\"><g class=\"shift\"><text x=\"0\" y=\"0\">25</text></g></g><rect class=\"tableline\" height=\"21.6\" width=\"302.0\" x=\"-112.0\" y=\"589.2\"/><g class=\"label\" transform=\"translate(-64,600)\"><g class=\"shift\"><text x=\"0\" y=\"0\">47</text></g></g><g class=\"label\" transform=\"translate(-96,600)\"><g class=\"shift\"><text x=\"0\" y=\"0\">26</text></g></g><rect class=\"tableline\" height=\"21.6\" width=\"302.0\" x=\"-112.0\" y=\"613.2\"/><g class=\"label\" transform=\"translate(-64,624)\"><g class=\"shift\"><text x=\"0\" y=\"0\">49</text></g></g><g class=\"label\" transform=\"translate(-96,624)\"><g class=\"shift\"><text x=\"0\" y=\"0\">27</text></g></g><rect class=\"tableline\" height=\"21.6\" width=\"302.0\" x=\"-112.0\" y=\"637.2\"/><g class=\"label\" transform=\"translate(-64,648)\"><g class=\"shift\"><text x=\"0\" y=\"0\">53</text></g></g><g class=\"label\" transform=\"translate(-96,648)\"><g class=\"shift\"><text x=\"0\" y=\"0\">30</text></g></g><rect class=\"tableline\" height=\"21.6\" width=\"302.0\" x=\"-112.0\" y=\"661.2\"/><g class=\"label\" transform=\"translate(-64,672)\"><g class=\"shift\"><text x=\"0\" y=\"0\">55</text></g></g><g class=\"label\" transform=\"translate(-96,672)\"><g class=\"shift\"><text x=\"0\" y=\"0\">31</text></g></g><rect class=\"tableline\" height=\"21.6\" width=\"302.0\" x=\"-112.0\" y=\"685.2\"/><g class=\"label\" transform=\"translate(-64,696)\"><g class=\"shift\"><text x=\"0\" y=\"0\">58</text></g></g><g class=\"label\" transform=\"translate(-96,696)\"><g class=\"shift\"><text x=\"0\" y=\"0\">33</text></g></g><rect class=\"tableline\" height=\"21.6\" width=\"302.0\" x=\"-112.0\" y=\"709.2\"/><g class=\"correlation v-region\"><line x1=\"-32\" x2=\"-32\" y1=\"300.0\" y2=\"708.0\"/><circle cx=\"-32\" cy=\"300.0\" r=\"1.6\"/><line x1=\"-41.6\" x2=\"-22.4\" y1=\"300.0\" y2=\"300.0\"/><circle cx=\"-32\" cy=\"708.0\" r=\"1.6\"/><line x1=\"-41.6\" x2=\"-22.4\" y1=\"708.0\" y2=\"708.0\"/><text x=\"-41.6\" y=\"504.0\"/></g><g class=\"label\" transform=\"translate(-64,720)\"><g class=\"shift\"><text x=\"0\" y=\"0\">60</text></g></g><g class=\"label\" transform=\"translate(-96,720)\"><g class=\"shift\"><text x=\"0\" y=\"0\">34</text></g></g><rect class=\"tableline\" height=\"21.6\" width=\"302.0\" x=\"-112.0\" y=\"733.2\"/><g class=\"label\" transform=\"translate(-64,744)\"><g class=\"shift\"><text x=\"0\" y=\"0\">61</text></g></g><g class=\"label\" transform=\"translate(-96,744)\"><g class=\"shift\"><text x=\"0\" y=\"0\">34</text></g></g><rect class=\"tableline\" height=\"21.6\" width=\"302.0\" x=\"-112.0\" y=\"757.2\"/><g class=\"label\" transform=\"translate(-64,768)\"><g class=\"shift\"><text x=\"0\" y=\"0\">62</text></g></g><g class=\"label\" transform=\"translate(-96,768)\"><g class=\"shift\"><text x=\"0\" y=\"0\">35</text></g></g><rect class=\"tableline\" height=\"21.6\" width=\"302.0\" x=\"-112.0\" y=\"781.2\"/><g class=\"label\" transform=\"translate(-64,792)\"><g class=\"shift\"><text x=\"0\" y=\"0\">64</text></g></g><g class=\"label\" transform=\"translate(-96,792)\"><g class=\"shift\"><text x=\"0\" y=\"0\">36</text></g></g><rect class=\"tableline\" height=\"21.6\" width=\"302.0\" x=\"-112.0\" y=\"805.2\"/><g class=\"label\" transform=\"translate(-64,816)\"><g class=\"shift\"><text x=\"0\" y=\"0\">66</text></g></g><g class=\"label\" transform=\"translate(-96,816)\"><g class=\"shift\"><text x=\"0\" y=\"0\">37</text></g></g><rect class=\"tableline\" height=\"21.6\" width=\"302.0\" x=\"-112.0\" y=\"829.2\"/><g class=\"correlation v-region\"><line x1=\"-32\" x2=\"-32\" y1=\"708.0\" y2=\"828.0\"/><circle cx=\"-32\" cy=\"708.0\" r=\"1.6\"/><line x1=\"-41.6\" x2=\"-22.4\" y1=\"708.0\" y2=\"708.0\"/><circle cx=\"-32\" cy=\"828.0\" r=\"1.6\"/><line x1=\"-41.6\" x2=\"-22.4\" y1=\"828.0\" y2=\"828.0\"/><text x=\"-41.6\" y=\"768.0\"/></g><g class=\"label\" transform=\"translate(-64,840)\"><g class=\"shift\"><text x=\"0\" y=\"0\">69</text></g></g><g class=\"label\" transform=\"translate(-96,840)\"><g class=\"shift\"><text x=\"0\" y=\"0\">39</text></g></g><rect class=\"tableline\" height=\"21.6\" width=\"302.0\" x=\"-112.0\" y=\"853.2\"/><g class=\"label\" transform=\"translate(-64,864)\"><g class=\"shift\"><text x=\"0\" y=\"0\">71</text></g></g><g class=\"label\" transform=\"translate(-96,864)\"><g class=\"shift\"><text x=\"0\" y=\"0\">40</text></g></g><rect class=\"tableline\" height=\"21.6\" width=\"302.0\" x=\"-112.0\" y=\"877.2\"/><g class=\"label\" transform=\"translate(-64,888)\"><g class=\"shift\"><text x=\"0\" y=\"0\">73</text></g></g><g class=\"label\" transform=\"translate(-96,888)\"><g class=\"shift\"><text x=\"0\" y=\"0\">41</text></g></g><rect class=\"tableline\" height=\"21.6\" width=\"302.0\" x=\"-112.0\" y=\"901.2\"/><g class=\"label\" transform=\"translate(-64,912)\"><g class=\"shift\"><text x=\"0\" y=\"0\">75</text></g></g><g class=\"label\" transform=\"translate(-96,912)\"><g class=\"shift\"><text x=\"0\" y=\"0\">42</text></g></g><rect class=\"tableline\" height=\"21.6\" width=\"302.0\" x=\"-112.0\" y=\"925.2\"/><g class=\"label\" transform=\"translate(-64,936)\"><g class=\"shift\"><text x=\"0\" y=\"0\">77</text></g></g><g class=\"label\" transform=\"translate(-96,936)\"><g class=\"shift\"><text x=\"0\" y=\"0\">43</text></g></g><rect class=\"tableline\" height=\"21.6\" width=\"302.0\" x=\"-112.0\" y=\"949.2\"/><g class=\"label\" transform=\"translate(-64,960)\"><g class=\"shift\"><text x=\"0\" y=\"0\">79</text></g></g><g class=\"label\" transform=\"translate(-96,960)\"><g class=\"shift\"><text x=\"0\" y=\"0\">44</text></g></g><rect class=\"tableline\" height=\"21.6\" width=\"302.0\" x=\"-112.0\" y=\"973.2\"/><g class=\"correlation v-region\"><line x1=\"-32\" x2=\"-32\" y1=\"828.0\" y2=\"972.0\"/><circle cx=\"-32\" cy=\"828.0\" r=\"1.6\"/><line x1=\"-41.6\" x2=\"-22.4\" y1=\"828.0\" y2=\"828.0\"/><circle cx=\"-32\" cy=\"972.0\" r=\"1.6\"/><line x1=\"-41.6\" x2=\"-22.4\" y1=\"972.0\" y2=\"972.0\"/><text x=\"-41.6\" y=\"900.0\"/></g><g class=\"label\" transform=\"translate(-64,984)\"><g class=\"shift\"><text x=\"0\" y=\"0\">81</text></g></g><g class=\"label\" transform=\"translate(-96,984)\"><g class=\"shift\"><text x=\"0\" y=\"0\">45</text></g></g><rect class=\"tableline\" height=\"21.6\" width=\"302.0\" x=\"-112.0\" y=\"997.2\"/><g class=\"label\" transform=\"translate(-64,1008)\"><g class=\"shift\"><text x=\"0\" y=\"0\">83</text></g></g><g class=\"label\" transform=\"translate(-96,1008)\"><g class=\"shift\"><text x=\"0\" y=\"0\">46</text></g></g><rect class=\"tableline\" height=\"21.6\" width=\"302.0\" x=\"-112.0\" y=\"1021.2\"/><g class=\"label\" transform=\"translate(-64,1032)\"><g class=\"shift\"><text x=\"0\" y=\"0\">85</text></g></g><g class=\"label\" transform=\"translate(-96,1032)\"><g class=\"shift\"><text x=\"0\" y=\"0\">47</text></g></g><rect class=\"tableline\" height=\"21.6\" width=\"302.0\" x=\"-112.0\" y=\"1045.2\"/><g class=\"label\" transform=\"translate(-64,1056)\"><g class=\"shift\"><text x=\"0\" y=\"0\">88</text></g></g><g class=\"label\" transform=\"translate(-96,1056)\"><g class=\"shift\"><text x=\"0\" y=\"0\">49</text></g></g><rect class=\"tableline\" height=\"21.6\" width=\"302.0\" x=\"-112.0\" y=\"1069.2\"/><g class=\"label\" transform=\"translate(-64,1080)\"><g class=\"shift\"><text x=\"0\" y=\"0\">90</text></g></g><g class=\"label\" transform=\"translate(-96,1080)\"><g class=\"shift\"><text x=\"0\" y=\"0\">50</text></g></g><rect class=\"tableline\" height=\"21.6\" width=\"302.0\" x=\"-112.0\" y=\"1093.2\"/><g class=\"correlation v-region\"><line x1=\"-32\" x2=\"-32\" y1=\"972.0\" y2=\"1092.0\"/><circle cx=\"-32\" cy=\"972.0\" r=\"1.6\"/><line x1=\"-41.6\" x2=\"-22.4\" y1=\"972.0\" y2=\"972.0\"/><circle cx=\"-32\" cy=\"1092.0\" r=\"1.6\"/><line x1=\"-41.6\" x2=\"-22.4\" y1=\"1092.0\" y2=\"1092.0\"/><text x=\"-41.6\" y=\"1032.0\"/></g><g class=\"label\" transform=\"translate(-64,1104)\"><g class=\"shift\"><text x=\"0\" y=\"0\">93</text></g></g><g class=\"label\" transform=\"translate(-96,1104)\"><g class=\"shift\"><text x=\"0\" y=\"0\">52</text></g></g><rect class=\"tableline\" height=\"21.6\" width=\"302.0\" x=\"-112.0\" y=\"1117.2\"/><g class=\"label\" transform=\"translate(-64,1128)\"><g class=\"shift\"><text x=\"0\" y=\"0\">95</text></g></g><g class=\"label\" transform=\"translate(-96,1128)\"><g class=\"shift\"><text x=\"0\" y=\"0\">53</text></g></g><rect class=\"tableline\" height=\"21.6\" width=\"302.0\" x=\"-112.0\" y=\"1141.2\"/><g class=\"label\" transform=\"translate(-64,1152)\"><g class=\"shift\"><text x=\"0\" y=\"0\">97</text></g></g><g class=\"label\" transform=\"translate(-96,1152)\"><g class=\"shift\"><text x=\"0\" y=\"0\">54</text></g></g><rect class=\"tableline\" height=\"21.6\" width=\"302.0\" x=\"-112.0\" y=\"1165.2\"/><g class=\"label\" transform=\"translate(-64,1176)\"><g class=\"shift\"><text x=\"0\" y=\"0\">98</text></g></g><g class=\"label\" transform=\"translate(-96,1176)\"><g class=\"shift\"><text x=\"0\" y=\"0\">54</text></g></g><g class=\"correlation v-region\"><line x1=\"-32\" x2=\"-32\" y1=\"1092.0\" y2=\"1188.0\"/><circle cx=\"-32\" cy=\"1092.0\" r=\"1.6\"/><line x1=\"-41.6\" x2=\"-22.4\" y1=\"1092.0\" y2=\"1092.0\"/><text x=\"-41.6\" y=\"1140.0\"/></g></g><g class=\"tree\" transform=\"translate(50,0)\"><g class=\"unknown left label\" transform=\"translate(0,24)\"><g class=\"shift\"><text x=\"0\" y=\"0\">2+</text></g></g><g class=\"unknown overlap h-region\"><line x1=\"-8.1\" x2=\"98.1\" y1=\"24\" y2=\"24\"/><circle cx=\"-9.0\" cy=\"24\" r=\"0.9\"/><line x1=\"-9.0\" x2=\"-9.0\" y1=\"16.8\" y2=\"31.2\"/><circle cx=\"99.0\" cy=\"24\" r=\"0.9\"/><line x1=\"99.0\" x2=\"99.0\" y1=\"16.8\" y2=\"31.2\"/><text x=\"45.0\" y=\"16.8\"/></g><g class=\"unknown virtual block\"><desc>{&quot;trj&quot;: 2, &quot;snp&quot;: 178, &quot;smp&quot;: 1}</desc><rect height=\"14.4\" width=\"16.2\" x=\"-8.1\" y=\"16.8\"/><circle cx=\"9.0\" cy=\"24\" r=\"0.9\"/><text x=\"0.0\" y=\"24\">89</text></g><g class=\"unknown virtual block\"><desc>{&quot;trj&quot;: 2, &quot;snp&quot;: 180, &quot;smp&quot;: 1}</desc><rect height=\"14.4\" width=\"16.2\" x=\"9.9\" y=\"16.8\"/><circle cx=\"9.0\" cy=\"24\" r=\"0.9\"/><circle cx=\"27.0\" cy=\"24\" r=\"0.9\"/><text x=\"18.0\" y=\"24\">90</text></g><g class=\"unknown virtual block\"><desc>{&quot;trj&quot;: 2, &quot;snp&quot;: 182, &quot;smp&quot;: 1}</desc><rect height=\"14.4\" width=\"16.2\" x=\"27.9\" y=\"16.8\"/><circle cx=\"27.0\" cy=\"24\" r=\"0.9\"/><circle cx=\"45.0\" cy=\"24\" r=\"0.9\"/><text x=\"36.0\" y=\"24\">91</text></g><g class=\"unknown virtual block\"><desc>{&quot;trj&quot;: 2, &quot;snp&quot;: 184, &quot;smp&quot;: 1}</desc><rect height=\"14.4\" width=\"16.2\" x=\"45.9\" y=\"16.8\"/><circle cx=\"45.0\" cy=\"24\" r=\"0.9\"/><circle cx=\"63.0\" cy=\"24\" r=\"0.9\"/><text x=\"54.0\" y=\"24\">92</text></g><g class=\"unknown virtual block\"><desc>{&quot;trj&quot;: 2, &quot;snp&quot;: 174, &quot;smp&quot;: 1}</desc><rect height=\"14.4\" width=\"16.2\" x=\"63.9\" y=\"16.8\"/><circle cx=\"63.0\" cy=\"24\" r=\"0.9\"/><circle cx=\"81.0\" cy=\"24\" r=\"0.9\"/><text x=\"72.0\" y=\"24\">87</text></g><g class=\"unknown virtual block\"><desc>{&quot;trj&quot;: 2, &quot;snp&quot;: 176, &quot;smp&quot;: 1}</desc><rect height=\"14.4\" width=\"16.2\" x=\"81.9\" y=\"16.8\"/><circle cx=\"81.0\" cy=\"24\" r=\"0.9\"/><text x=\"90.0\" y=\"24\">88</text></g><g class=\"shooting right label\" transform=\"translate(90,48)\"><g class=\"shift\"><text x=\"0\" y=\"0\">3f</text></g></g><line class=\"shooting fw connection v-connector\" x1=\"27.0\" x2=\"27.0\" y1=\"25.2\" y2=\"46.8\"/><g class=\"shooting virtual block\"><desc>{&quot;trj&quot;: 3, &quot;snp&quot;: 178, &quot;smp&quot;: 3}</desc><rect height=\"14.4\" width=\"16.2\" x=\"-8.1\" y=\"40.8\"/><circle cx=\"9.0\" cy=\"48\" r=\"0.9\"/><text x=\"0.0\" y=\"48\">89</text></g><g class=\"shooting virtual block\"><desc>{&quot;trj&quot;: 3, &quot;snp&quot;: 180, &quot;smp&quot;: 3}</desc><rect height=\"14.4\" width=\"16.2\" x=\"9.9\" y=\"40.8\"/><circle cx=\"9.0\" cy=\"48\" r=\"0.9\"/><circle cx=\"27.0\" cy=\"48\" r=\"0.9\"/><text x=\"18.0\" y=\"48\">90</text></g><g class=\"shooting fw block\"><desc>{&quot;trj&quot;: 3, &quot;snp&quot;: 186, &quot;smp&quot;: 3}</desc><rect height=\"14.4\" width=\"16.2\" x=\"27.9\" y=\"40.8\"/><circle cx=\"27.0\" cy=\"48\" r=\"0.9\"/><circle cx=\"45.0\" cy=\"48\" r=\"0.9\"/><text x=\"36.0\" y=\"48\">93</text></g><g class=\"shooting fw block\"><desc>{&quot;trj&quot;: 3, &quot;snp&quot;: 188, &quot;smp&quot;: 3}</desc><rect height=\"14.4\" width=\"16.2\" x=\"45.9\" y=\"40.8\"/><circle cx=\"45.0\" cy=\"48\" r=\"0.9\"/><circle cx=\"63.0\" cy=\"48\" r=\"0.9\"/><text x=\"54.0\" y=\"48\">94</text></g><g class=\"shooting fw block\"><desc>{&quot;trj&quot;: 3, &quot;snp&quot;: 190, &quot;smp&quot;: 3}</desc><rect height=\"14.4\" width=\"16.2\" x=\"63.9\" y=\"40.8\"/><circle cx=\"63.0\" cy=\"48\" r=\"0.9\"/><circle cx=\"81.0\" cy=\"48\" r=\"0.9\"/><text x=\"72.0\" y=\"48\">95</text></g><g class=\"shooting fw block\"><desc>{&quot;trj&quot;: 3, &quot;snp&quot;: 192, &quot;smp&quot;: 3}</desc><rect height=\"14.4\" width=\"16.2\" x=\"81.9\" y=\"40.8\"/><circle cx=\"81.0\" cy=\"48\" r=\"0.9\"/><text x=\"90.0\" y=\"48\">96</text></g><g class=\"hop left label\" transform=\"translate(0,72)\"><g class=\"shift\"><text x=\"0\" y=\"0\">3h</text></g></g><g class=\"hop overlap h-region\"><line x1=\"-8.1\" x2=\"98.1\" y1=\"72\" y2=\"72\"/><circle cx=\"-9.0\" cy=\"72\" r=\"0.9\"/><line x1=\"-9.0\" x2=\"-9.0\" y1=\"64.8\" y2=\"79.2\"/><circle cx=\"99.0\" cy=\"72\" r=\"0.9\"/><line x1=\"99.0\" x2=\"99.0\" y1=\"64.8\" y2=\"79.2\"/><text x=\"45.0\" y=\"64.8\">EnsembleHop</text></g><g class=\"hop virtual block\"><desc>{&quot;trj&quot;: 3, &quot;snp&quot;: 178, &quot;smp&quot;: 4}</desc><rect height=\"14.4\" width=\"16.2\" x=\"-8.1\" y=\"64.8\"/><circle cx=\"9.0\" cy=\"72\" r=\"0.9\"/><text x=\"0.0\" y=\"72\">89</text></g><g class=\"hop virtual block\"><desc>{&quot;trj&quot;: 3, &quot;snp&quot;: 180, &quot;smp&quot;: 4}</desc><rect height=\"14.4\" width=\"16.2\" x=\"9.9\" y=\"64.8\"/><circle cx=\"9.0\" cy=\"72\" r=\"0.9\"/><circle cx=\"27.0\" cy=\"72\" r=\"0.9\"/><text x=\"18.0\" y=\"72\">90</text></g><g class=\"hop virtual block\"><desc>{&quot;trj&quot;: 3, &quot;snp&quot;: 186, &quot;smp&quot;: 4}</desc><rect height=\"14.4\" width=\"16.2\" x=\"27.9\" y=\"64.8\"/><circle cx=\"27.0\" cy=\"72\" r=\"0.9\"/><circle cx=\"45.0\" cy=\"72\" r=\"0.9\"/><text x=\"36.0\" y=\"72\">93</text></g><g class=\"hop virtual block\"><desc>{&quot;trj&quot;: 3, &quot;snp&quot;: 188, &quot;smp&quot;: 4}</desc><rect height=\"14.4\" width=\"16.2\" x=\"45.9\" y=\"64.8\"/><circle cx=\"45.0\" cy=\"72\" r=\"0.9\"/><circle cx=\"63.0\" cy=\"72\" r=\"0.9\"/><text x=\"54.0\" y=\"72\">94</text></g><g class=\"hop virtual block\"><desc>{&quot;trj&quot;: 3, &quot;snp&quot;: 190, &quot;smp&quot;: 4}</desc><rect height=\"14.4\" width=\"16.2\" x=\"63.9\" y=\"64.8\"/><circle cx=\"63.0\" cy=\"72\" r=\"0.9\"/><circle cx=\"81.0\" cy=\"72\" r=\"0.9\"/><text x=\"72.0\" y=\"72\">95</text></g><g class=\"hop virtual block\"><desc>{&quot;trj&quot;: 3, &quot;snp&quot;: 192, &quot;smp&quot;: 4}</desc><rect height=\"14.4\" width=\"16.2\" x=\"81.9\" y=\"64.8\"/><circle cx=\"81.0\" cy=\"72\" r=\"0.9\"/><text x=\"90.0\" y=\"72\">96</text></g><g class=\"shooting left label\" transform=\"translate(18,96)\"><g class=\"shift\"><text x=\"0\" y=\"0\">4b</text></g></g><line class=\"shooting bw connection v-connector\" x1=\"27.0\" x2=\"27.0\" y1=\"49.2\" y2=\"94.8\"/><g class=\"shooting bw block\"><desc>{&quot;trj&quot;: 4, &quot;snp&quot;: 194, &quot;smp&quot;: 5}</desc><rect height=\"14.4\" width=\"16.2\" x=\"9.9\" y=\"88.8\"/><circle cx=\"27.0\" cy=\"96\" r=\"0.9\"/><text x=\"18.0\" y=\"96\">97</text></g><g class=\"shooting virtual block\"><desc>{&quot;trj&quot;: 4, &quot;snp&quot;: 186, &quot;smp&quot;: 5}</desc><rect height=\"14.4\" width=\"16.2\" x=\"27.9\" y=\"88.8\"/><circle cx=\"27.0\" cy=\"96\" r=\"0.9\"/><circle cx=\"45.0\" cy=\"96\" r=\"0.9\"/><text x=\"36.0\" y=\"96\">93</text></g><g class=\"shooting virtual block\"><desc>{&quot;trj&quot;: 4, &quot;snp&quot;: 188, &quot;smp&quot;: 5}</desc><rect height=\"14.4\" width=\"16.2\" x=\"45.9\" y=\"88.8\"/><circle cx=\"45.0\" cy=\"96\" r=\"0.9\"/><circle cx=\"63.0\" cy=\"96\" r=\"0.9\"/><text x=\"54.0\" y=\"96\">94</text></g><g class=\"shooting virtual block\"><desc>{&quot;trj&quot;: 4, &quot;snp&quot;: 190, &quot;smp&quot;: 5}</desc><rect height=\"14.4\" width=\"16.2\" x=\"63.9\" y=\"88.8\"/><circle cx=\"63.0\" cy=\"96\" r=\"0.9\"/><circle cx=\"81.0\" cy=\"96\" r=\"0.9\"/><text x=\"72.0\" y=\"96\">95</text></g><g class=\"shooting virtual block\"><desc>{&quot;trj&quot;: 4, &quot;snp&quot;: 192, &quot;smp&quot;: 5}</desc><rect height=\"14.4\" width=\"16.2\" x=\"81.9\" y=\"88.8\"/><circle cx=\"81.0\" cy=\"96\" r=\"0.9\"/><text x=\"90.0\" y=\"96\">96</text></g><g class=\"hop left label\" transform=\"translate(18,120)\"><g class=\"shift\"><text x=\"0\" y=\"0\">4h</text></g></g><g class=\"hop overlap h-region\"><line x1=\"9.9\" x2=\"98.1\" y1=\"120\" y2=\"120\"/><circle cx=\"9.0\" cy=\"120\" r=\"0.9\"/><line x1=\"9.0\" x2=\"9.0\" y1=\"112.8\" y2=\"127.2\"/><circle cx=\"99.0\" cy=\"120\" r=\"0.9\"/><line x1=\"99.0\" x2=\"99.0\" y1=\"112.8\" y2=\"127.2\"/><text x=\"54.0\" y=\"112.8\">EnsembleHop</text></g><g class=\"hop virtual block\"><desc>{&quot;trj&quot;: 4, &quot;snp&quot;: 194, &quot;smp&quot;: 6}</desc><rect height=\"14.4\" width=\"16.2\" x=\"9.9\" y=\"112.8\"/><circle cx=\"27.0\" cy=\"120\" r=\"0.9\"/><text x=\"18.0\" y=\"120\">97</text></g><g class=\"hop virtual block\"><desc>{&quot;trj&quot;: 4, &quot;snp&quot;: 186, &quot;smp&quot;: 6}</desc><rect height=\"14.4\" width=\"16.2\" x=\"27.9\" y=\"112.8\"/><circle cx=\"27.0\" cy=\"120\" r=\"0.9\"/><circle cx=\"45.0\" cy=\"120\" r=\"0.9\"/><text x=\"36.0\" y=\"120\">93</text></g><g class=\"hop virtual block\"><desc>{&quot;trj&quot;: 4, &quot;snp&quot;: 188, &quot;smp&quot;: 6}</desc><rect height=\"14.4\" width=\"16.2\" x=\"45.9\" y=\"112.8\"/><circle cx=\"45.0\" cy=\"120\" r=\"0.9\"/><circle cx=\"63.0\" cy=\"120\" r=\"0.9\"/><text x=\"54.0\" y=\"120\">94</text></g><g class=\"hop virtual block\"><desc>{&quot;trj&quot;: 4, &quot;snp&quot;: 190, &quot;smp&quot;: 6}</desc><rect height=\"14.4\" width=\"16.2\" x=\"63.9\" y=\"112.8\"/><circle cx=\"63.0\" cy=\"120\" r=\"0.9\"/><circle cx=\"81.0\" cy=\"120\" r=\"0.9\"/><text x=\"72.0\" y=\"120\">95</text></g><g class=\"hop virtual block\"><desc>{&quot;trj&quot;: 4, &quot;snp&quot;: 192, &quot;smp&quot;: 6}</desc><rect height=\"14.4\" width=\"16.2\" x=\"81.9\" y=\"112.8\"/><circle cx=\"81.0\" cy=\"120\" r=\"0.9\"/><text x=\"90.0\" y=\"120\">96</text></g><g class=\"shooting right label\" transform=\"translate(90,144)\"><g class=\"shift\"><text x=\"0\" y=\"0\">5f</text></g></g><line class=\"shooting fw connection v-connector\" x1=\"63.0\" x2=\"63.0\" y1=\"49.2\" y2=\"142.8\"/><g class=\"shooting virtual block\"><desc>{&quot;trj&quot;: 5, &quot;snp&quot;: 194, &quot;smp&quot;: 7}</desc><rect height=\"14.4\" width=\"16.2\" x=\"9.9\" y=\"136.8\"/><circle cx=\"27.0\" cy=\"144\" r=\"0.9\"/><text x=\"18.0\" y=\"144\">97</text></g><g class=\"shooting virtual block\"><desc>{&quot;trj&quot;: 5, &quot;snp&quot;: 186, &quot;smp&quot;: 7}</desc><rect height=\"14.4\" width=\"16.2\" x=\"27.9\" y=\"136.8\"/><circle cx=\"27.0\" cy=\"144\" r=\"0.9\"/><circle cx=\"45.0\" cy=\"144\" r=\"0.9\"/><text x=\"36.0\" y=\"144\">93</text></g><g class=\"shooting virtual block\"><desc>{&quot;trj&quot;: 5, &quot;snp&quot;: 188, &quot;smp&quot;: 7}</desc><rect height=\"14.4\" width=\"16.2\" x=\"45.9\" y=\"136.8\"/><circle cx=\"45.0\" cy=\"144\" r=\"0.9\"/><circle cx=\"63.0\" cy=\"144\" r=\"0.9\"/><text x=\"54.0\" y=\"144\">94</text></g><g class=\"shooting fw block\"><desc>{&quot;trj&quot;: 5, &quot;snp&quot;: 196, &quot;smp&quot;: 7}</desc><rect height=\"14.4\" width=\"16.2\" x=\"63.9\" y=\"136.8\"/><circle cx=\"63.0\" cy=\"144\" r=\"0.9\"/><circle cx=\"81.0\" cy=\"144\" r=\"0.9\"/><text x=\"72.0\" y=\"144\">98</text></g><g class=\"shooting fw block\"><desc>{&quot;trj&quot;: 5, &quot;snp&quot;: 198, &quot;smp&quot;: 7}</desc><rect height=\"14.4\" width=\"16.2\" x=\"81.9\" y=\"136.8\"/><circle cx=\"81.0\" cy=\"144\" r=\"0.9\"/><text x=\"90.0\" y=\"144\">99</text></g><g class=\"shooting left label\" transform=\"translate(18,168)\"><g class=\"shift\"><text x=\"0\" y=\"0\">6b</text></g></g><line class=\"shooting bw connection v-connector\" x1=\"63.0\" x2=\"63.0\" y1=\"145.2\" y2=\"166.8\"/><g class=\"shooting bw block\"><desc>{&quot;trj&quot;: 6, &quot;snp&quot;: 200, &quot;smp&quot;: 9}</desc><rect height=\"14.4\" width=\"16.2\" x=\"9.9\" y=\"160.8\"/><circle cx=\"27.0\" cy=\"168\" r=\"0.9\"/><text x=\"18.0\" y=\"168\">100</text></g><g class=\"shooting bw block\"><desc>{&quot;trj&quot;: 6, &quot;snp&quot;: 202, &quot;smp&quot;: 9}</desc><rect height=\"14.4\" width=\"16.2\" x=\"27.9\" y=\"160.8\"/><circle cx=\"27.0\" cy=\"168\" r=\"0.9\"/><circle cx=\"45.0\" cy=\"168\" r=\"0.9\"/><text x=\"36.0\" y=\"168\">101</text></g><g class=\"shooting bw block\"><desc>{&quot;trj&quot;: 6, &quot;snp&quot;: 204, &quot;smp&quot;: 9}</desc><rect height=\"14.4\" width=\"16.2\" x=\"45.9\" y=\"160.8\"/><circle cx=\"45.0\" cy=\"168\" r=\"0.9\"/><circle cx=\"63.0\" cy=\"168\" r=\"0.9\"/><text x=\"54.0\" y=\"168\">102</text></g><g class=\"shooting virtual block\"><desc>{&quot;trj&quot;: 6, &quot;snp&quot;: 196, &quot;smp&quot;: 9}</desc><rect height=\"14.4\" width=\"16.2\" x=\"63.9\" y=\"160.8\"/><circle cx=\"63.0\" cy=\"168\" r=\"0.9\"/><circle cx=\"81.0\" cy=\"168\" r=\"0.9\"/><text x=\"72.0\" y=\"168\">98</text></g><g class=\"shooting virtual block\"><desc>{&quot;trj&quot;: 6, &quot;snp&quot;: 198, &quot;smp&quot;: 9}</desc><rect height=\"14.4\" width=\"16.2\" x=\"81.9\" y=\"160.8\"/><circle cx=\"81.0\" cy=\"168\" r=\"0.9\"/><text x=\"90.0\" y=\"168\">99</text></g><g class=\"shooting left label\" transform=\"translate(18,192)\"><g class=\"shift\"><text x=\"0\" y=\"0\">7b</text></g></g><line class=\"shooting bw connection v-connector\" x1=\"27.0\" x2=\"27.0\" y1=\"169.2\" y2=\"190.8\"/><g class=\"shooting bw block\"><desc>{&quot;trj&quot;: 7, &quot;snp&quot;: 206, &quot;smp&quot;: 11}</desc><rect height=\"14.4\" width=\"16.2\" x=\"9.9\" y=\"184.8\"/><circle cx=\"27.0\" cy=\"192\" r=\"0.9\"/><text x=\"18.0\" y=\"192\">103</text></g><g class=\"shooting virtual block\"><desc>{&quot;trj&quot;: 7, &quot;snp&quot;: 202, &quot;smp&quot;: 11}</desc><rect height=\"14.4\" width=\"16.2\" x=\"27.9\" y=\"184.8\"/><circle cx=\"27.0\" cy=\"192\" r=\"0.9\"/><circle cx=\"45.0\" cy=\"192\" r=\"0.9\"/><text x=\"36.0\" y=\"192\">101</text></g><g class=\"shooting virtual block\"><desc>{&quot;trj&quot;: 7, &quot;snp&quot;: 204, &quot;smp&quot;: 11}</desc><rect height=\"14.4\" width=\"16.2\" x=\"45.9\" y=\"184.8\"/><circle cx=\"45.0\" cy=\"192\" r=\"0.9\"/><circle cx=\"63.0\" cy=\"192\" r=\"0.9\"/><text x=\"54.0\" y=\"192\">102</text></g><g class=\"shooting virtual block\"><desc>{&quot;trj&quot;: 7, &quot;snp&quot;: 196, &quot;smp&quot;: 11}</desc><rect height=\"14.4\" width=\"16.2\" x=\"63.9\" y=\"184.8\"/><circle cx=\"63.0\" cy=\"192\" r=\"0.9\"/><circle cx=\"81.0\" cy=\"192\" r=\"0.9\"/><text x=\"72.0\" y=\"192\">98</text></g><g class=\"shooting virtual block\"><desc>{&quot;trj&quot;: 7, &quot;snp&quot;: 198, &quot;smp&quot;: 11}</desc><rect height=\"14.4\" width=\"16.2\" x=\"81.9\" y=\"184.8\"/><circle cx=\"81.0\" cy=\"192\" r=\"0.9\"/><text x=\"90.0\" y=\"192\">99</text></g><g class=\"shooting right label\" transform=\"translate(90,216)\"><g class=\"shift\"><text x=\"0\" y=\"0\">8f</text></g></g><line class=\"shooting fw connection v-connector\" x1=\"63.0\" x2=\"63.0\" y1=\"169.2\" y2=\"214.8\"/><g class=\"shooting virtual block\"><desc>{&quot;trj&quot;: 8, &quot;snp&quot;: 206, &quot;smp&quot;: 13}</desc><rect height=\"14.4\" width=\"16.2\" x=\"9.9\" y=\"208.8\"/><circle cx=\"27.0\" cy=\"216\" r=\"0.9\"/><text x=\"18.0\" y=\"216\">103</text></g><g class=\"shooting virtual block\"><desc>{&quot;trj&quot;: 8, &quot;snp&quot;: 202, &quot;smp&quot;: 13}</desc><rect height=\"14.4\" width=\"16.2\" x=\"27.9\" y=\"208.8\"/><circle cx=\"27.0\" cy=\"216\" r=\"0.9\"/><circle cx=\"45.0\" cy=\"216\" r=\"0.9\"/><text x=\"36.0\" y=\"216\">101</text></g><g class=\"shooting virtual block\"><desc>{&quot;trj&quot;: 8, &quot;snp&quot;: 204, &quot;smp&quot;: 13}</desc><rect height=\"14.4\" width=\"16.2\" x=\"45.9\" y=\"208.8\"/><circle cx=\"45.0\" cy=\"216\" r=\"0.9\"/><circle cx=\"63.0\" cy=\"216\" r=\"0.9\"/><text x=\"54.0\" y=\"216\">102</text></g><g class=\"shooting fw block\"><desc>{&quot;trj&quot;: 8, &quot;snp&quot;: 208, &quot;smp&quot;: 13}</desc><rect height=\"14.4\" width=\"16.2\" x=\"63.9\" y=\"208.8\"/><circle cx=\"63.0\" cy=\"216\" r=\"0.9\"/><circle cx=\"81.0\" cy=\"216\" r=\"0.9\"/><text x=\"72.0\" y=\"216\">104</text></g><g class=\"shooting fw block\"><desc>{&quot;trj&quot;: 8, &quot;snp&quot;: 210, &quot;smp&quot;: 13}</desc><rect height=\"14.4\" width=\"16.2\" x=\"81.9\" y=\"208.8\"/><circle cx=\"81.0\" cy=\"216\" r=\"0.9\"/><text x=\"90.0\" y=\"216\">105</text></g><g class=\"shooting right label\" transform=\"translate(90,240)\"><g class=\"shift\"><text x=\"0\" y=\"0\">9f</text></g></g><line class=\"shooting fw connection v-connector\" x1=\"45.0\" x2=\"45.0\" y1=\"169.2\" y2=\"238.8\"/><g class=\"shooting virtual block\"><desc>{&quot;trj&quot;: 9, &quot;snp&quot;: 206, &quot;smp&quot;: 15}</desc><rect height=\"14.4\" width=\"16.2\" x=\"9.9\" y=\"232.8\"/><circle cx=\"27.0\" cy=\"240\" r=\"0.9\"/><text x=\"18.0\" y=\"240\">103</text></g><g class=\"shooting virtual block\"><desc>{&quot;trj&quot;: 9, &quot;snp&quot;: 202, &quot;smp&quot;: 15}</desc><rect height=\"14.4\" width=\"16.2\" x=\"27.9\" y=\"232.8\"/><circle cx=\"27.0\" cy=\"240\" r=\"0.9\"/><circle cx=\"45.0\" cy=\"240\" r=\"0.9\"/><text x=\"36.0\" y=\"240\">101</text></g><g class=\"shooting fw block\"><desc>{&quot;trj&quot;: 9, &quot;snp&quot;: 212, &quot;smp&quot;: 15}</desc><rect height=\"14.4\" width=\"16.2\" x=\"45.9\" y=\"232.8\"/><circle cx=\"45.0\" cy=\"240\" r=\"0.9\"/><circle cx=\"63.0\" cy=\"240\" r=\"0.9\"/><text x=\"54.0\" y=\"240\">106</text></g><g class=\"shooting fw block\"><desc>{&quot;trj&quot;: 9, &quot;snp&quot;: 214, &quot;smp&quot;: 15}</desc><rect height=\"14.4\" width=\"16.2\" x=\"63.9\" y=\"232.8\"/><circle cx=\"63.0\" cy=\"240\" r=\"0.9\"/><circle cx=\"81.0\" cy=\"240\" r=\"0.9\"/><text x=\"72.0\" y=\"240\">107</text></g><g class=\"shooting fw block\"><desc>{&quot;trj&quot;: 9, &quot;snp&quot;: 216, &quot;smp&quot;: 15}</desc><rect height=\"14.4\" width=\"16.2\" x=\"81.9\" y=\"232.8\"/><circle cx=\"81.0\" cy=\"240\" r=\"0.9\"/><text x=\"90.0\" y=\"240\">108</text></g><g class=\"shooting right label\" transform=\"translate(90,264)\"><g class=\"shift\"><text x=\"0\" y=\"0\">10f</text></g></g><line class=\"shooting fw connection v-connector\" x1=\"63.0\" x2=\"63.0\" y1=\"241.2\" y2=\"262.8\"/><g class=\"shooting virtual block\"><desc>{&quot;trj&quot;: 10, &quot;snp&quot;: 206, &quot;smp&quot;: 17}</desc><rect height=\"14.4\" width=\"16.2\" x=\"9.9\" y=\"256.8\"/><circle cx=\"27.0\" cy=\"264\" r=\"0.9\"/><text x=\"18.0\" y=\"264\">103</text></g><g class=\"shooting virtual block\"><desc>{&quot;trj&quot;: 10, &quot;snp&quot;: 202, &quot;smp&quot;: 17}</desc><rect height=\"14.4\" width=\"16.2\" x=\"27.9\" y=\"256.8\"/><circle cx=\"27.0\" cy=\"264\" r=\"0.9\"/><circle cx=\"45.0\" cy=\"264\" r=\"0.9\"/><text x=\"36.0\" y=\"264\">101</text></g><g class=\"shooting virtual block\"><desc>{&quot;trj&quot;: 10, &quot;snp&quot;: 212, &quot;smp&quot;: 17}</desc><rect height=\"14.4\" width=\"16.2\" x=\"45.9\" y=\"256.8\"/><circle cx=\"45.0\" cy=\"264\" r=\"0.9\"/><circle cx=\"63.0\" cy=\"264\" r=\"0.9\"/><text x=\"54.0\" y=\"264\">106</text></g><g class=\"shooting fw block\"><desc>{&quot;trj&quot;: 10, &quot;snp&quot;: 218, &quot;smp&quot;: 17}</desc><rect height=\"14.4\" width=\"16.2\" x=\"63.9\" y=\"256.8\"/><circle cx=\"63.0\" cy=\"264\" r=\"0.9\"/><circle cx=\"81.0\" cy=\"264\" r=\"0.9\"/><text x=\"72.0\" y=\"264\">109</text></g><g class=\"shooting fw block\"><desc>{&quot;trj&quot;: 10, &quot;snp&quot;: 220, &quot;smp&quot;: 17}</desc><rect height=\"14.4\" width=\"16.2\" x=\"81.9\" y=\"256.8\"/><circle cx=\"81.0\" cy=\"264\" r=\"0.9\"/><text x=\"90.0\" y=\"264\">110</text></g><g class=\"hop left label\" transform=\"translate(18,288)\"><g class=\"shift\"><text x=\"0\" y=\"0\">10h</text></g></g><g class=\"hop overlap h-region\"><line x1=\"9.9\" x2=\"98.1\" y1=\"288\" y2=\"288\"/><circle cx=\"9.0\" cy=\"288\" r=\"0.9\"/><line x1=\"9.0\" x2=\"9.0\" y1=\"280.8\" y2=\"295.2\"/><circle cx=\"99.0\" cy=\"288\" r=\"0.9\"/><line x1=\"99.0\" x2=\"99.0\" y1=\"280.8\" y2=\"295.2\"/><text x=\"54.0\" y=\"280.8\">EnsembleHop</text></g><g class=\"hop virtual block\"><desc>{&quot;trj&quot;: 10, &quot;snp&quot;: 206, &quot;smp&quot;: 18}</desc><rect height=\"14.4\" width=\"16.2\" x=\"9.9\" y=\"280.8\"/><circle cx=\"27.0\" cy=\"288\" r=\"0.9\"/><text x=\"18.0\" y=\"288\">103</text></g><g class=\"hop virtual block\"><desc>{&quot;trj&quot;: 10, &quot;snp&quot;: 202, &quot;smp&quot;: 18}</desc><rect height=\"14.4\" width=\"16.2\" x=\"27.9\" y=\"280.8\"/><circle cx=\"27.0\" cy=\"288\" r=\"0.9\"/><circle cx=\"45.0\" cy=\"288\" r=\"0.9\"/><text x=\"36.0\" y=\"288\">101</text></g><g class=\"hop virtual block\"><desc>{&quot;trj&quot;: 10, &quot;snp&quot;: 212, &quot;smp&quot;: 18}</desc><rect height=\"14.4\" width=\"16.2\" x=\"45.9\" y=\"280.8\"/><circle cx=\"45.0\" cy=\"288\" r=\"0.9\"/><circle cx=\"63.0\" cy=\"288\" r=\"0.9\"/><text x=\"54.0\" y=\"288\">106</text></g><g class=\"hop virtual block\"><desc>{&quot;trj&quot;: 10, &quot;snp&quot;: 218, &quot;smp&quot;: 18}</desc><rect height=\"14.4\" width=\"16.2\" x=\"63.9\" y=\"280.8\"/><circle cx=\"63.0\" cy=\"288\" r=\"0.9\"/><circle cx=\"81.0\" cy=\"288\" r=\"0.9\"/><text x=\"72.0\" y=\"288\">109</text></g><g class=\"hop virtual block\"><desc>{&quot;trj&quot;: 10, &quot;snp&quot;: 220, &quot;smp&quot;: 18}</desc><rect height=\"14.4\" width=\"16.2\" x=\"81.9\" y=\"280.8\"/><circle cx=\"81.0\" cy=\"288\" r=\"0.9\"/><text x=\"90.0\" y=\"288\">110</text></g><g class=\"shooting left label\" transform=\"translate(18,312)\"><g class=\"shift\"><text x=\"0\" y=\"0\">11b</text></g></g><line class=\"shooting bw connection v-connector\" x1=\"45.0\" x2=\"45.0\" y1=\"241.2\" y2=\"310.8\"/><g class=\"shooting bw block\"><desc>{&quot;trj&quot;: 11, &quot;snp&quot;: 222, &quot;smp&quot;: 19}</desc><rect height=\"14.4\" width=\"16.2\" x=\"9.9\" y=\"304.8\"/><circle cx=\"27.0\" cy=\"312\" r=\"0.9\"/><text x=\"18.0\" y=\"312\">111</text></g><g class=\"shooting bw block\"><desc>{&quot;trj&quot;: 11, &quot;snp&quot;: 224, &quot;smp&quot;: 19}</desc><rect height=\"14.4\" width=\"16.2\" x=\"27.9\" y=\"304.8\"/><circle cx=\"27.0\" cy=\"312\" r=\"0.9\"/><circle cx=\"45.0\" cy=\"312\" r=\"0.9\"/><text x=\"36.0\" y=\"312\">112</text></g><g class=\"shooting virtual block\"><desc>{&quot;trj&quot;: 11, &quot;snp&quot;: 212, &quot;smp&quot;: 19}</desc><rect height=\"14.4\" width=\"16.2\" x=\"45.9\" y=\"304.8\"/><circle cx=\"45.0\" cy=\"312\" r=\"0.9\"/><circle cx=\"63.0\" cy=\"312\" r=\"0.9\"/><text x=\"54.0\" y=\"312\">106</text></g><g class=\"shooting virtual block\"><desc>{&quot;trj&quot;: 11, &quot;snp&quot;: 218, &quot;smp&quot;: 19}</desc><rect height=\"14.4\" width=\"16.2\" x=\"63.9\" y=\"304.8\"/><circle cx=\"63.0\" cy=\"312\" r=\"0.9\"/><circle cx=\"81.0\" cy=\"312\" r=\"0.9\"/><text x=\"72.0\" y=\"312\">109</text></g><g class=\"shooting virtual block\"><desc>{&quot;trj&quot;: 11, &quot;snp&quot;: 220, &quot;smp&quot;: 19}</desc><rect height=\"14.4\" width=\"16.2\" x=\"81.9\" y=\"304.8\"/><circle cx=\"81.0\" cy=\"312\" r=\"0.9\"/><text x=\"90.0\" y=\"312\">110</text></g><g class=\"shooting left label\" transform=\"translate(18,336)\"><g class=\"shift\"><text x=\"0\" y=\"0\">12b</text></g></g><line class=\"shooting bw connection v-connector\" x1=\"27.0\" x2=\"27.0\" y1=\"313.2\" y2=\"334.8\"/><g class=\"shooting bw block\"><desc>{&quot;trj&quot;: 12, &quot;snp&quot;: 226, &quot;smp&quot;: 21}</desc><rect height=\"14.4\" width=\"16.2\" x=\"9.9\" y=\"328.8\"/><circle cx=\"27.0\" cy=\"336\" r=\"0.9\"/><text x=\"18.0\" y=\"336\">113</text></g><g class=\"shooting virtual block\"><desc>{&quot;trj&quot;: 12, &quot;snp&quot;: 224, &quot;smp&quot;: 21}</desc><rect height=\"14.4\" width=\"16.2\" x=\"27.9\" y=\"328.8\"/><circle cx=\"27.0\" cy=\"336\" r=\"0.9\"/><circle cx=\"45.0\" cy=\"336\" r=\"0.9\"/><text x=\"36.0\" y=\"336\">112</text></g><g class=\"shooting virtual block\"><desc>{&quot;trj&quot;: 12, &quot;snp&quot;: 212, &quot;smp&quot;: 21}</desc><rect height=\"14.4\" width=\"16.2\" x=\"45.9\" y=\"328.8\"/><circle cx=\"45.0\" cy=\"336\" r=\"0.9\"/><circle cx=\"63.0\" cy=\"336\" r=\"0.9\"/><text x=\"54.0\" y=\"336\">106</text></g><g class=\"shooting virtual block\"><desc>{&quot;trj&quot;: 12, &quot;snp&quot;: 218, &quot;smp&quot;: 21}</desc><rect height=\"14.4\" width=\"16.2\" x=\"63.9\" y=\"328.8\"/><circle cx=\"63.0\" cy=\"336\" r=\"0.9\"/><circle cx=\"81.0\" cy=\"336\" r=\"0.9\"/><text x=\"72.0\" y=\"336\">109</text></g><g class=\"shooting virtual block\"><desc>{&quot;trj&quot;: 12, &quot;snp&quot;: 220, &quot;smp&quot;: 21}</desc><rect height=\"14.4\" width=\"16.2\" x=\"81.9\" y=\"328.8\"/><circle cx=\"81.0\" cy=\"336\" r=\"0.9\"/><text x=\"90.0\" y=\"336\">110</text></g><g class=\"shooting left label\" transform=\"translate(18,360)\"><g class=\"shift\"><text x=\"0\" y=\"0\">13b</text></g></g><line class=\"shooting bw connection v-connector\" x1=\"27.0\" x2=\"27.0\" y1=\"313.2\" y2=\"358.8\"/><g class=\"shooting bw block\"><desc>{&quot;trj&quot;: 13, &quot;snp&quot;: 228, &quot;smp&quot;: 23}</desc><rect height=\"14.4\" width=\"16.2\" x=\"9.9\" y=\"352.8\"/><circle cx=\"27.0\" cy=\"360\" r=\"0.9\"/><text x=\"18.0\" y=\"360\">114</text></g><g class=\"shooting virtual block\"><desc>{&quot;trj&quot;: 13, &quot;snp&quot;: 224, &quot;smp&quot;: 23}</desc><rect height=\"14.4\" width=\"16.2\" x=\"27.9\" y=\"352.8\"/><circle cx=\"27.0\" cy=\"360\" r=\"0.9\"/><circle cx=\"45.0\" cy=\"360\" r=\"0.9\"/><text x=\"36.0\" y=\"360\">112</text></g><g class=\"shooting virtual block\"><desc>{&quot;trj&quot;: 13, &quot;snp&quot;: 212, &quot;smp&quot;: 23}</desc><rect height=\"14.4\" width=\"16.2\" x=\"45.9\" y=\"352.8\"/><circle cx=\"45.0\" cy=\"360\" r=\"0.9\"/><circle cx=\"63.0\" cy=\"360\" r=\"0.9\"/><text x=\"54.0\" y=\"360\">106</text></g><g class=\"shooting virtual block\"><desc>{&quot;trj&quot;: 13, &quot;snp&quot;: 218, &quot;smp&quot;: 23}</desc><rect height=\"14.4\" width=\"16.2\" x=\"63.9\" y=\"352.8\"/><circle cx=\"63.0\" cy=\"360\" r=\"0.9\"/><circle cx=\"81.0\" cy=\"360\" r=\"0.9\"/><text x=\"72.0\" y=\"360\">109</text></g><g class=\"shooting virtual block\"><desc>{&quot;trj&quot;: 13, &quot;snp&quot;: 220, &quot;smp&quot;: 23}</desc><rect height=\"14.4\" width=\"16.2\" x=\"81.9\" y=\"352.8\"/><circle cx=\"81.0\" cy=\"360\" r=\"0.9\"/><text x=\"90.0\" y=\"360\">110</text></g><g class=\"shooting left label\" transform=\"translate(18,384)\"><g class=\"shift\"><text x=\"0\" y=\"0\">14b</text></g></g><line class=\"shooting bw connection v-connector\" x1=\"45.0\" x2=\"45.0\" y1=\"241.2\" y2=\"382.8\"/><g class=\"shooting bw block\"><desc>{&quot;trj&quot;: 14, &quot;snp&quot;: 230, &quot;smp&quot;: 25}</desc><rect height=\"14.4\" width=\"16.2\" x=\"9.9\" y=\"376.8\"/><circle cx=\"27.0\" cy=\"384\" r=\"0.9\"/><text x=\"18.0\" y=\"384\">115</text></g><g class=\"shooting bw block\"><desc>{&quot;trj&quot;: 14, &quot;snp&quot;: 232, &quot;smp&quot;: 25}</desc><rect height=\"14.4\" width=\"16.2\" x=\"27.9\" y=\"376.8\"/><circle cx=\"27.0\" cy=\"384\" r=\"0.9\"/><circle cx=\"45.0\" cy=\"384\" r=\"0.9\"/><text x=\"36.0\" y=\"384\">116</text></g><g class=\"shooting virtual block\"><desc>{&quot;trj&quot;: 14, &quot;snp&quot;: 212, &quot;smp&quot;: 25}</desc><rect height=\"14.4\" width=\"16.2\" x=\"45.9\" y=\"376.8\"/><circle cx=\"45.0\" cy=\"384\" r=\"0.9\"/><circle cx=\"63.0\" cy=\"384\" r=\"0.9\"/><text x=\"54.0\" y=\"384\">106</text></g><g class=\"shooting virtual block\"><desc>{&quot;trj&quot;: 14, &quot;snp&quot;: 218, &quot;smp&quot;: 25}</desc><rect height=\"14.4\" width=\"16.2\" x=\"63.9\" y=\"376.8\"/><circle cx=\"63.0\" cy=\"384\" r=\"0.9\"/><circle cx=\"81.0\" cy=\"384\" r=\"0.9\"/><text x=\"72.0\" y=\"384\">109</text></g><g class=\"shooting virtual block\"><desc>{&quot;trj&quot;: 14, &quot;snp&quot;: 220, &quot;smp&quot;: 25}</desc><rect height=\"14.4\" width=\"16.2\" x=\"81.9\" y=\"376.8\"/><circle cx=\"81.0\" cy=\"384\" r=\"0.9\"/><text x=\"90.0\" y=\"384\">110</text></g><g class=\"shooting left label\" transform=\"translate(18,408)\"><g class=\"shift\"><text x=\"0\" y=\"0\">16b</text></g></g><line class=\"shooting bw connection v-connector\" x1=\"63.0\" x2=\"63.0\" y1=\"265.2\" y2=\"406.8\"/><g class=\"shooting bw block\"><desc>{&quot;trj&quot;: 16, &quot;snp&quot;: 236, &quot;smp&quot;: 28}</desc><rect height=\"14.4\" width=\"16.2\" x=\"9.9\" y=\"400.8\"/><circle cx=\"27.0\" cy=\"408\" r=\"0.9\"/><text x=\"18.0\" y=\"408\">118</text></g><g class=\"shooting bw block\"><desc>{&quot;trj&quot;: 16, &quot;snp&quot;: 238, &quot;smp&quot;: 28}</desc><rect height=\"14.4\" width=\"16.2\" x=\"27.9\" y=\"400.8\"/><circle cx=\"27.0\" cy=\"408\" r=\"0.9\"/><circle cx=\"45.0\" cy=\"408\" r=\"0.9\"/><text x=\"36.0\" y=\"408\">119</text></g><g class=\"shooting bw block\"><desc>{&quot;trj&quot;: 16, &quot;snp&quot;: 240, &quot;smp&quot;: 28}</desc><rect height=\"14.4\" width=\"16.2\" x=\"45.9\" y=\"400.8\"/><circle cx=\"45.0\" cy=\"408\" r=\"0.9\"/><circle cx=\"63.0\" cy=\"408\" r=\"0.9\"/><text x=\"54.0\" y=\"408\">120</text></g><g class=\"shooting virtual block\"><desc>{&quot;trj&quot;: 16, &quot;snp&quot;: 218, &quot;smp&quot;: 28}</desc><rect height=\"14.4\" width=\"16.2\" x=\"63.9\" y=\"400.8\"/><circle cx=\"63.0\" cy=\"408\" r=\"0.9\"/><circle cx=\"81.0\" cy=\"408\" r=\"0.9\"/><text x=\"72.0\" y=\"408\">109</text></g><g class=\"shooting virtual block\"><desc>{&quot;trj&quot;: 16, &quot;snp&quot;: 220, &quot;smp&quot;: 28}</desc><rect height=\"14.4\" width=\"16.2\" x=\"81.9\" y=\"400.8\"/><circle cx=\"81.0\" cy=\"408\" r=\"0.9\"/><text x=\"90.0\" y=\"408\">110</text></g><g class=\"shooting left label\" transform=\"translate(18,432)\"><g class=\"shift\"><text x=\"0\" y=\"0\">17b</text></g></g><line class=\"shooting bw connection v-connector\" x1=\"45.0\" x2=\"45.0\" y1=\"409.2\" y2=\"430.8\"/><g class=\"shooting bw block\"><desc>{&quot;trj&quot;: 17, &quot;snp&quot;: 242, &quot;smp&quot;: 30}</desc><rect height=\"14.4\" width=\"16.2\" x=\"9.9\" y=\"424.8\"/><circle cx=\"27.0\" cy=\"432\" r=\"0.9\"/><text x=\"18.0\" y=\"432\">121</text></g><g class=\"shooting bw block\"><desc>{&quot;trj&quot;: 17, &quot;snp&quot;: 244, &quot;smp&quot;: 30}</desc><rect height=\"14.4\" width=\"16.2\" x=\"27.9\" y=\"424.8\"/><circle cx=\"27.0\" cy=\"432\" r=\"0.9\"/><circle cx=\"45.0\" cy=\"432\" r=\"0.9\"/><text x=\"36.0\" y=\"432\">122</text></g><g class=\"shooting virtual block\"><desc>{&quot;trj&quot;: 17, &quot;snp&quot;: 240, &quot;smp&quot;: 30}</desc><rect height=\"14.4\" width=\"16.2\" x=\"45.9\" y=\"424.8\"/><circle cx=\"45.0\" cy=\"432\" r=\"0.9\"/><circle cx=\"63.0\" cy=\"432\" r=\"0.9\"/><text x=\"54.0\" y=\"432\">120</text></g><g class=\"shooting virtual block\"><desc>{&quot;trj&quot;: 17, &quot;snp&quot;: 218, &quot;smp&quot;: 30}</desc><rect height=\"14.4\" width=\"16.2\" x=\"63.9\" y=\"424.8\"/><circle cx=\"63.0\" cy=\"432\" r=\"0.9\"/><circle cx=\"81.0\" cy=\"432\" r=\"0.9\"/><text x=\"72.0\" y=\"432\">109</text></g><g class=\"shooting virtual block\"><desc>{&quot;trj&quot;: 17, &quot;snp&quot;: 220, &quot;smp&quot;: 30}</desc><rect height=\"14.4\" width=\"16.2\" x=\"81.9\" y=\"424.8\"/><circle cx=\"81.0\" cy=\"432\" r=\"0.9\"/><text x=\"90.0\" y=\"432\">110</text></g><g class=\"shooting left label\" transform=\"translate(18,456)\"><g class=\"shift\"><text x=\"0\" y=\"0\">18b</text></g></g><line class=\"shooting bw connection v-connector\" x1=\"45.0\" x2=\"45.0\" y1=\"409.2\" y2=\"454.8\"/><g class=\"shooting bw block\"><desc>{&quot;trj&quot;: 18, &quot;snp&quot;: 246, &quot;smp&quot;: 32}</desc><rect height=\"14.4\" width=\"16.2\" x=\"9.9\" y=\"448.8\"/><circle cx=\"27.0\" cy=\"456\" r=\"0.9\"/><text x=\"18.0\" y=\"456\">123</text></g><g class=\"shooting bw block\"><desc>{&quot;trj&quot;: 18, &quot;snp&quot;: 248, &quot;smp&quot;: 32}</desc><rect height=\"14.4\" width=\"16.2\" x=\"27.9\" y=\"448.8\"/><circle cx=\"27.0\" cy=\"456\" r=\"0.9\"/><circle cx=\"45.0\" cy=\"456\" r=\"0.9\"/><text x=\"36.0\" y=\"456\">124</text></g><g class=\"shooting virtual block\"><desc>{&quot;trj&quot;: 18, &quot;snp&quot;: 240, &quot;smp&quot;: 32}</desc><rect height=\"14.4\" width=\"16.2\" x=\"45.9\" y=\"448.8\"/><circle cx=\"45.0\" cy=\"456\" r=\"0.9\"/><circle cx=\"63.0\" cy=\"456\" r=\"0.9\"/><text x=\"54.0\" y=\"456\">120</text></g><g class=\"shooting virtual block\"><desc>{&quot;trj&quot;: 18, &quot;snp&quot;: 218, &quot;smp&quot;: 32}</desc><rect height=\"14.4\" width=\"16.2\" x=\"63.9\" y=\"448.8\"/><circle cx=\"63.0\" cy=\"456\" r=\"0.9\"/><circle cx=\"81.0\" cy=\"456\" r=\"0.9\"/><text x=\"72.0\" y=\"456\">109</text></g><g class=\"shooting virtual block\"><desc>{&quot;trj&quot;: 18, &quot;snp&quot;: 220, &quot;smp&quot;: 32}</desc><rect height=\"14.4\" width=\"16.2\" x=\"81.9\" y=\"448.8\"/><circle cx=\"81.0\" cy=\"456\" r=\"0.9\"/><text x=\"90.0\" y=\"456\">110</text></g><g class=\"shooting left label\" transform=\"translate(18,480)\"><g class=\"shift\"><text x=\"0\" y=\"0\">19b</text></g></g><line class=\"shooting bw connection v-connector\" x1=\"45.0\" x2=\"45.0\" y1=\"409.2\" y2=\"478.8\"/><g class=\"shooting bw block\"><desc>{&quot;trj&quot;: 19, &quot;snp&quot;: 250, &quot;smp&quot;: 34}</desc><rect height=\"14.4\" width=\"16.2\" x=\"9.9\" y=\"472.8\"/><circle cx=\"27.0\" cy=\"480\" r=\"0.9\"/><text x=\"18.0\" y=\"480\">125</text></g><g class=\"shooting bw block\"><desc>{&quot;trj&quot;: 19, &quot;snp&quot;: 252, &quot;smp&quot;: 34}</desc><rect height=\"14.4\" width=\"16.2\" x=\"27.9\" y=\"472.8\"/><circle cx=\"27.0\" cy=\"480\" r=\"0.9\"/><circle cx=\"45.0\" cy=\"480\" r=\"0.9\"/><text x=\"36.0\" y=\"480\">126</text></g><g class=\"shooting virtual block\"><desc>{&quot;trj&quot;: 19, &quot;snp&quot;: 240, &quot;smp&quot;: 34}</desc><rect height=\"14.4\" width=\"16.2\" x=\"45.9\" y=\"472.8\"/><circle cx=\"45.0\" cy=\"480\" r=\"0.9\"/><circle cx=\"63.0\" cy=\"480\" r=\"0.9\"/><text x=\"54.0\" y=\"480\">120</text></g><g class=\"shooting virtual block\"><desc>{&quot;trj&quot;: 19, &quot;snp&quot;: 218, &quot;smp&quot;: 34}</desc><rect height=\"14.4\" width=\"16.2\" x=\"63.9\" y=\"472.8\"/><circle cx=\"63.0\" cy=\"480\" r=\"0.9\"/><circle cx=\"81.0\" cy=\"480\" r=\"0.9\"/><text x=\"72.0\" y=\"480\">109</text></g><g class=\"shooting virtual block\"><desc>{&quot;trj&quot;: 19, &quot;snp&quot;: 220, &quot;smp&quot;: 34}</desc><rect height=\"14.4\" width=\"16.2\" x=\"81.9\" y=\"472.8\"/><circle cx=\"81.0\" cy=\"480\" r=\"0.9\"/><text x=\"90.0\" y=\"480\">110</text></g><g class=\"shooting left label\" transform=\"translate(18,504)\"><g class=\"shift\"><text x=\"0\" y=\"0\">21b</text></g></g><line class=\"shooting bw connection v-connector\" x1=\"63.0\" x2=\"63.0\" y1=\"265.2\" y2=\"502.8\"/><g class=\"shooting bw block\"><desc>{&quot;trj&quot;: 21, &quot;snp&quot;: 256, &quot;smp&quot;: 37}</desc><rect height=\"14.4\" width=\"16.2\" x=\"9.9\" y=\"496.8\"/><circle cx=\"27.0\" cy=\"504\" r=\"0.9\"/><text x=\"18.0\" y=\"504\">128</text></g><g class=\"shooting bw block\"><desc>{&quot;trj&quot;: 21, &quot;snp&quot;: 258, &quot;smp&quot;: 37}</desc><rect height=\"14.4\" width=\"16.2\" x=\"27.9\" y=\"496.8\"/><circle cx=\"27.0\" cy=\"504\" r=\"0.9\"/><circle cx=\"45.0\" cy=\"504\" r=\"0.9\"/><text x=\"36.0\" y=\"504\">129</text></g><g class=\"shooting bw block\"><desc>{&quot;trj&quot;: 21, &quot;snp&quot;: 260, &quot;smp&quot;: 37}</desc><rect height=\"14.4\" width=\"16.2\" x=\"45.9\" y=\"496.8\"/><circle cx=\"45.0\" cy=\"504\" r=\"0.9\"/><circle cx=\"63.0\" cy=\"504\" r=\"0.9\"/><text x=\"54.0\" y=\"504\">130</text></g><g class=\"shooting virtual block\"><desc>{&quot;trj&quot;: 21, &quot;snp&quot;: 218, &quot;smp&quot;: 37}</desc><rect height=\"14.4\" width=\"16.2\" x=\"63.9\" y=\"496.8\"/><circle cx=\"63.0\" cy=\"504\" r=\"0.9\"/><circle cx=\"81.0\" cy=\"504\" r=\"0.9\"/><text x=\"72.0\" y=\"504\">109</text></g><g class=\"shooting virtual block\"><desc>{&quot;trj&quot;: 21, &quot;snp&quot;: 220, &quot;smp&quot;: 37}</desc><rect height=\"14.4\" width=\"16.2\" x=\"81.9\" y=\"496.8\"/><circle cx=\"81.0\" cy=\"504\" r=\"0.9\"/><text x=\"90.0\" y=\"504\">110</text></g><g class=\"shooting right label\" transform=\"translate(90,528)\"><g class=\"shift\"><text x=\"0\" y=\"0\">22f</text></g></g><line class=\"shooting fw connection v-connector\" x1=\"81.0\" x2=\"81.0\" y1=\"265.2\" y2=\"526.8\"/><g class=\"shooting virtual block\"><desc>{&quot;trj&quot;: 22, &quot;snp&quot;: 256, &quot;smp&quot;: 39}</desc><rect height=\"14.4\" width=\"16.2\" x=\"9.9\" y=\"520.8\"/><circle cx=\"27.0\" cy=\"528\" r=\"0.9\"/><text x=\"18.0\" y=\"528\">128</text></g><g class=\"shooting virtual block\"><desc>{&quot;trj&quot;: 22, &quot;snp&quot;: 258, &quot;smp&quot;: 39}</desc><rect height=\"14.4\" width=\"16.2\" x=\"27.9\" y=\"520.8\"/><circle cx=\"27.0\" cy=\"528\" r=\"0.9\"/><circle cx=\"45.0\" cy=\"528\" r=\"0.9\"/><text x=\"36.0\" y=\"528\">129</text></g><g class=\"shooting virtual block\"><desc>{&quot;trj&quot;: 22, &quot;snp&quot;: 260, &quot;smp&quot;: 39}</desc><rect height=\"14.4\" width=\"16.2\" x=\"45.9\" y=\"520.8\"/><circle cx=\"45.0\" cy=\"528\" r=\"0.9\"/><circle cx=\"63.0\" cy=\"528\" r=\"0.9\"/><text x=\"54.0\" y=\"528\">130</text></g><g class=\"shooting virtual block\"><desc>{&quot;trj&quot;: 22, &quot;snp&quot;: 218, &quot;smp&quot;: 39}</desc><rect height=\"14.4\" width=\"16.2\" x=\"63.9\" y=\"520.8\"/><circle cx=\"63.0\" cy=\"528\" r=\"0.9\"/><circle cx=\"81.0\" cy=\"528\" r=\"0.9\"/><text x=\"72.0\" y=\"528\">109</text></g><g class=\"shooting fw block\"><desc>{&quot;trj&quot;: 22, &quot;snp&quot;: 262, &quot;smp&quot;: 39}</desc><rect height=\"14.4\" width=\"16.2\" x=\"81.9\" y=\"520.8\"/><circle cx=\"81.0\" cy=\"528\" r=\"0.9\"/><text x=\"90.0\" y=\"528\">131</text></g><g class=\"shooting left label\" transform=\"translate(18,552)\"><g class=\"shift\"><text x=\"0\" y=\"0\">25b</text></g></g><line class=\"shooting bw connection v-connector\" x1=\"45.0\" x2=\"45.0\" y1=\"505.2\" y2=\"550.8\"/><g class=\"shooting bw block\"><desc>{&quot;trj&quot;: 25, &quot;snp&quot;: 272, &quot;smp&quot;: 43}</desc><rect height=\"14.4\" width=\"16.2\" x=\"9.9\" y=\"544.8\"/><circle cx=\"27.0\" cy=\"552\" r=\"0.9\"/><text x=\"18.0\" y=\"552\">136</text></g><g class=\"shooting bw block\"><desc>{&quot;trj&quot;: 25, &quot;snp&quot;: 274, &quot;smp&quot;: 43}</desc><rect height=\"14.4\" width=\"16.2\" x=\"27.9\" y=\"544.8\"/><circle cx=\"27.0\" cy=\"552\" r=\"0.9\"/><circle cx=\"45.0\" cy=\"552\" r=\"0.9\"/><text x=\"36.0\" y=\"552\">137</text></g><g class=\"shooting virtual block\"><desc>{&quot;trj&quot;: 25, &quot;snp&quot;: 260, &quot;smp&quot;: 43}</desc><rect height=\"14.4\" width=\"16.2\" x=\"45.9\" y=\"544.8\"/><circle cx=\"45.0\" cy=\"552\" r=\"0.9\"/><circle cx=\"63.0\" cy=\"552\" r=\"0.9\"/><text x=\"54.0\" y=\"552\">130</text></g><g class=\"shooting virtual block\"><desc>{&quot;trj&quot;: 25, &quot;snp&quot;: 218, &quot;smp&quot;: 43}</desc><rect height=\"14.4\" width=\"16.2\" x=\"63.9\" y=\"544.8\"/><circle cx=\"63.0\" cy=\"552\" r=\"0.9\"/><circle cx=\"81.0\" cy=\"552\" r=\"0.9\"/><text x=\"72.0\" y=\"552\">109</text></g><g class=\"shooting virtual block\"><desc>{&quot;trj&quot;: 25, &quot;snp&quot;: 262, &quot;smp&quot;: 43}</desc><rect height=\"14.4\" width=\"16.2\" x=\"81.9\" y=\"544.8\"/><circle cx=\"81.0\" cy=\"552\" r=\"0.9\"/><text x=\"90.0\" y=\"552\">131</text></g><g class=\"shooting right label\" transform=\"translate(90,576)\"><g class=\"shift\"><text x=\"0\" y=\"0\">26f</text></g></g><line class=\"shooting fw connection v-connector\" x1=\"81.0\" x2=\"81.0\" y1=\"265.2\" y2=\"574.8\"/><g class=\"shooting virtual block\"><desc>{&quot;trj&quot;: 26, &quot;snp&quot;: 272, &quot;smp&quot;: 45}</desc><rect height=\"14.4\" width=\"16.2\" x=\"9.9\" y=\"568.8\"/><circle cx=\"27.0\" cy=\"576\" r=\"0.9\"/><text x=\"18.0\" y=\"576\">136</text></g><g class=\"shooting virtual block\"><desc>{&quot;trj&quot;: 26, &quot;snp&quot;: 274, &quot;smp&quot;: 45}</desc><rect height=\"14.4\" width=\"16.2\" x=\"27.9\" y=\"568.8\"/><circle cx=\"27.0\" cy=\"576\" r=\"0.9\"/><circle cx=\"45.0\" cy=\"576\" r=\"0.9\"/><text x=\"36.0\" y=\"576\">137</text></g><g class=\"shooting virtual block\"><desc>{&quot;trj&quot;: 26, &quot;snp&quot;: 260, &quot;smp&quot;: 45}</desc><rect height=\"14.4\" width=\"16.2\" x=\"45.9\" y=\"568.8\"/><circle cx=\"45.0\" cy=\"576\" r=\"0.9\"/><circle cx=\"63.0\" cy=\"576\" r=\"0.9\"/><text x=\"54.0\" y=\"576\">130</text></g><g class=\"shooting virtual block\"><desc>{&quot;trj&quot;: 26, &quot;snp&quot;: 218, &quot;smp&quot;: 45}</desc><rect height=\"14.4\" width=\"16.2\" x=\"63.9\" y=\"568.8\"/><circle cx=\"63.0\" cy=\"576\" r=\"0.9\"/><circle cx=\"81.0\" cy=\"576\" r=\"0.9\"/><text x=\"72.0\" y=\"576\">109</text></g><g class=\"shooting fw block\"><desc>{&quot;trj&quot;: 26, &quot;snp&quot;: 276, &quot;smp&quot;: 45}</desc><rect height=\"14.4\" width=\"16.2\" x=\"81.9\" y=\"568.8\"/><circle cx=\"81.0\" cy=\"576\" r=\"0.9\"/><text x=\"90.0\" y=\"576\">138</text></g><g class=\"shooting left label\" transform=\"translate(18,600)\"><g class=\"shift\"><text x=\"0\" y=\"0\">27b</text></g></g><line class=\"shooting bw connection v-connector\" x1=\"63.0\" x2=\"63.0\" y1=\"265.2\" y2=\"598.8\"/><g class=\"shooting bw block\"><desc>{&quot;trj&quot;: 27, &quot;snp&quot;: 278, &quot;smp&quot;: 47}</desc><rect height=\"14.4\" width=\"16.2\" x=\"9.9\" y=\"592.8\"/><circle cx=\"27.0\" cy=\"600\" r=\"0.9\"/><text x=\"18.0\" y=\"600\">139</text></g><g class=\"shooting bw block\"><desc>{&quot;trj&quot;: 27, &quot;snp&quot;: 280, &quot;smp&quot;: 47}</desc><rect height=\"14.4\" width=\"16.2\" x=\"27.9\" y=\"592.8\"/><circle cx=\"27.0\" cy=\"600\" r=\"0.9\"/><circle cx=\"45.0\" cy=\"600\" r=\"0.9\"/><text x=\"36.0\" y=\"600\">140</text></g><g class=\"shooting bw block\"><desc>{&quot;trj&quot;: 27, &quot;snp&quot;: 282, &quot;smp&quot;: 47}</desc><rect height=\"14.4\" width=\"16.2\" x=\"45.9\" y=\"592.8\"/><circle cx=\"45.0\" cy=\"600\" r=\"0.9\"/><circle cx=\"63.0\" cy=\"600\" r=\"0.9\"/><text x=\"54.0\" y=\"600\">141</text></g><g class=\"shooting virtual block\"><desc>{&quot;trj&quot;: 27, &quot;snp&quot;: 218, &quot;smp&quot;: 47}</desc><rect height=\"14.4\" width=\"16.2\" x=\"63.9\" y=\"592.8\"/><circle cx=\"63.0\" cy=\"600\" r=\"0.9\"/><circle cx=\"81.0\" cy=\"600\" r=\"0.9\"/><text x=\"72.0\" y=\"600\">109</text></g><g class=\"shooting virtual block\"><desc>{&quot;trj&quot;: 27, &quot;snp&quot;: 276, &quot;smp&quot;: 47}</desc><rect height=\"14.4\" width=\"16.2\" x=\"81.9\" y=\"592.8\"/><circle cx=\"81.0\" cy=\"600\" r=\"0.9\"/><text x=\"90.0\" y=\"600\">138</text></g><g class=\"shooting right label\" transform=\"translate(90,624)\"><g class=\"shift\"><text x=\"0\" y=\"0\">28f</text></g></g><line class=\"shooting fw connection v-connector\" x1=\"81.0\" x2=\"81.0\" y1=\"265.2\" y2=\"622.8\"/><g class=\"shooting virtual block\"><desc>{&quot;trj&quot;: 28, &quot;snp&quot;: 278, &quot;smp&quot;: 49}</desc><rect height=\"14.4\" width=\"16.2\" x=\"9.9\" y=\"616.8\"/><circle cx=\"27.0\" cy=\"624\" r=\"0.9\"/><text x=\"18.0\" y=\"624\">139</text></g><g class=\"shooting virtual block\"><desc>{&quot;trj&quot;: 28, &quot;snp&quot;: 280, &quot;smp&quot;: 49}</desc><rect height=\"14.4\" width=\"16.2\" x=\"27.9\" y=\"616.8\"/><circle cx=\"27.0\" cy=\"624\" r=\"0.9\"/><circle cx=\"45.0\" cy=\"624\" r=\"0.9\"/><text x=\"36.0\" y=\"624\">140</text></g><g class=\"shooting virtual block\"><desc>{&quot;trj&quot;: 28, &quot;snp&quot;: 282, &quot;smp&quot;: 49}</desc><rect height=\"14.4\" width=\"16.2\" x=\"45.9\" y=\"616.8\"/><circle cx=\"45.0\" cy=\"624\" r=\"0.9\"/><circle cx=\"63.0\" cy=\"624\" r=\"0.9\"/><text x=\"54.0\" y=\"624\">141</text></g><g class=\"shooting virtual block\"><desc>{&quot;trj&quot;: 28, &quot;snp&quot;: 218, &quot;smp&quot;: 49}</desc><rect height=\"14.4\" width=\"16.2\" x=\"63.9\" y=\"616.8\"/><circle cx=\"63.0\" cy=\"624\" r=\"0.9\"/><circle cx=\"81.0\" cy=\"624\" r=\"0.9\"/><text x=\"72.0\" y=\"624\">109</text></g><g class=\"shooting fw block\"><desc>{&quot;trj&quot;: 28, &quot;snp&quot;: 284, &quot;smp&quot;: 49}</desc><rect height=\"14.4\" width=\"16.2\" x=\"81.9\" y=\"616.8\"/><circle cx=\"81.0\" cy=\"624\" r=\"0.9\"/><text x=\"90.0\" y=\"624\">142</text></g><g class=\"shooting left label\" transform=\"translate(18,648)\"><g class=\"shift\"><text x=\"0\" y=\"0\">31b</text></g></g><line class=\"shooting bw connection v-connector\" x1=\"27.0\" x2=\"27.0\" y1=\"601.2\" y2=\"646.8\"/><g class=\"shooting bw block\"><desc>{&quot;trj&quot;: 31, &quot;snp&quot;: 294, &quot;smp&quot;: 53}</desc><rect height=\"14.4\" width=\"16.2\" x=\"9.9\" y=\"640.8\"/><circle cx=\"27.0\" cy=\"648\" r=\"0.9\"/><text x=\"18.0\" y=\"648\">147</text></g><g class=\"shooting virtual block\"><desc>{&quot;trj&quot;: 31, &quot;snp&quot;: 280, &quot;smp&quot;: 53}</desc><rect height=\"14.4\" width=\"16.2\" x=\"27.9\" y=\"640.8\"/><circle cx=\"27.0\" cy=\"648\" r=\"0.9\"/><circle cx=\"45.0\" cy=\"648\" r=\"0.9\"/><text x=\"36.0\" y=\"648\">140</text></g><g class=\"shooting virtual block\"><desc>{&quot;trj&quot;: 31, &quot;snp&quot;: 282, &quot;smp&quot;: 53}</desc><rect height=\"14.4\" width=\"16.2\" x=\"45.9\" y=\"640.8\"/><circle cx=\"45.0\" cy=\"648\" r=\"0.9\"/><circle cx=\"63.0\" cy=\"648\" r=\"0.9\"/><text x=\"54.0\" y=\"648\">141</text></g><g class=\"shooting virtual block\"><desc>{&quot;trj&quot;: 31, &quot;snp&quot;: 218, &quot;smp&quot;: 53}</desc><rect height=\"14.4\" width=\"16.2\" x=\"63.9\" y=\"640.8\"/><circle cx=\"63.0\" cy=\"648\" r=\"0.9\"/><circle cx=\"81.0\" cy=\"648\" r=\"0.9\"/><text x=\"72.0\" y=\"648\">109</text></g><g class=\"shooting virtual block\"><desc>{&quot;trj&quot;: 31, &quot;snp&quot;: 284, &quot;smp&quot;: 53}</desc><rect height=\"14.4\" width=\"16.2\" x=\"81.9\" y=\"640.8\"/><circle cx=\"81.0\" cy=\"648\" r=\"0.9\"/><text x=\"90.0\" y=\"648\">142</text></g><g class=\"shooting left label\" transform=\"translate(18,672)\"><g class=\"shift\"><text x=\"0\" y=\"0\">32b</text></g></g><line class=\"shooting bw connection v-connector\" x1=\"63.0\" x2=\"63.0\" y1=\"265.2\" y2=\"670.8\"/><g class=\"shooting bw block\"><desc>{&quot;trj&quot;: 32, &quot;snp&quot;: 296, &quot;smp&quot;: 55}</desc><rect height=\"14.4\" width=\"16.2\" x=\"9.9\" y=\"664.8\"/><circle cx=\"27.0\" cy=\"672\" r=\"0.9\"/><text x=\"18.0\" y=\"672\">148</text></g><g class=\"shooting bw block\"><desc>{&quot;trj&quot;: 32, &quot;snp&quot;: 298, &quot;smp&quot;: 55}</desc><rect height=\"14.4\" width=\"16.2\" x=\"27.9\" y=\"664.8\"/><circle cx=\"27.0\" cy=\"672\" r=\"0.9\"/><circle cx=\"45.0\" cy=\"672\" r=\"0.9\"/><text x=\"36.0\" y=\"672\">149</text></g><g class=\"shooting bw block\"><desc>{&quot;trj&quot;: 32, &quot;snp&quot;: 300, &quot;smp&quot;: 55}</desc><rect height=\"14.4\" width=\"16.2\" x=\"45.9\" y=\"664.8\"/><circle cx=\"45.0\" cy=\"672\" r=\"0.9\"/><circle cx=\"63.0\" cy=\"672\" r=\"0.9\"/><text x=\"54.0\" y=\"672\">150</text></g><g class=\"shooting virtual block\"><desc>{&quot;trj&quot;: 32, &quot;snp&quot;: 218, &quot;smp&quot;: 55}</desc><rect height=\"14.4\" width=\"16.2\" x=\"63.9\" y=\"664.8\"/><circle cx=\"63.0\" cy=\"672\" r=\"0.9\"/><circle cx=\"81.0\" cy=\"672\" r=\"0.9\"/><text x=\"72.0\" y=\"672\">109</text></g><g class=\"shooting virtual block\"><desc>{&quot;trj&quot;: 32, &quot;snp&quot;: 284, &quot;smp&quot;: 55}</desc><rect height=\"14.4\" width=\"16.2\" x=\"81.9\" y=\"664.8\"/><circle cx=\"81.0\" cy=\"672\" r=\"0.9\"/><text x=\"90.0\" y=\"672\">142</text></g><g class=\"shooting right label\" transform=\"translate(90,696)\"><g class=\"shift\"><text x=\"0\" y=\"0\">34f</text></g></g><line class=\"shooting fw connection v-connector\" x1=\"81.0\" x2=\"81.0\" y1=\"265.2\" y2=\"694.8\"/><g class=\"shooting virtual block\"><desc>{&quot;trj&quot;: 34, &quot;snp&quot;: 296, &quot;smp&quot;: 58}</desc><rect height=\"14.4\" width=\"16.2\" x=\"9.9\" y=\"688.8\"/><circle cx=\"27.0\" cy=\"696\" r=\"0.9\"/><text x=\"18.0\" y=\"696\">148</text></g><g class=\"shooting virtual block\"><desc>{&quot;trj&quot;: 34, &quot;snp&quot;: 298, &quot;smp&quot;: 58}</desc><rect height=\"14.4\" width=\"16.2\" x=\"27.9\" y=\"688.8\"/><circle cx=\"27.0\" cy=\"696\" r=\"0.9\"/><circle cx=\"45.0\" cy=\"696\" r=\"0.9\"/><text x=\"36.0\" y=\"696\">149</text></g><g class=\"shooting virtual block\"><desc>{&quot;trj&quot;: 34, &quot;snp&quot;: 300, &quot;smp&quot;: 58}</desc><rect height=\"14.4\" width=\"16.2\" x=\"45.9\" y=\"688.8\"/><circle cx=\"45.0\" cy=\"696\" r=\"0.9\"/><circle cx=\"63.0\" cy=\"696\" r=\"0.9\"/><text x=\"54.0\" y=\"696\">150</text></g><g class=\"shooting virtual block\"><desc>{&quot;trj&quot;: 34, &quot;snp&quot;: 218, &quot;smp&quot;: 58}</desc><rect height=\"14.4\" width=\"16.2\" x=\"63.9\" y=\"688.8\"/><circle cx=\"63.0\" cy=\"696\" r=\"0.9\"/><circle cx=\"81.0\" cy=\"696\" r=\"0.9\"/><text x=\"72.0\" y=\"696\">109</text></g><g class=\"shooting fw block\"><desc>{&quot;trj&quot;: 34, &quot;snp&quot;: 304, &quot;smp&quot;: 58}</desc><rect height=\"14.4\" width=\"16.2\" x=\"81.9\" y=\"688.8\"/><circle cx=\"81.0\" cy=\"696\" r=\"0.9\"/><text x=\"90.0\" y=\"696\">152</text></g><g class=\"shooting right label\" transform=\"translate(90,720)\"><g class=\"shift\"><text x=\"0\" y=\"0\">35f</text></g></g><line class=\"shooting fw connection v-connector\" x1=\"45.0\" x2=\"45.0\" y1=\"673.2\" y2=\"718.8\"/><g class=\"shooting virtual block\"><desc>{&quot;trj&quot;: 35, &quot;snp&quot;: 296, &quot;smp&quot;: 60}</desc><rect height=\"14.4\" width=\"16.2\" x=\"9.9\" y=\"712.8\"/><circle cx=\"27.0\" cy=\"720\" r=\"0.9\"/><text x=\"18.0\" y=\"720\">148</text></g><g class=\"shooting virtual block\"><desc>{&quot;trj&quot;: 35, &quot;snp&quot;: 298, &quot;smp&quot;: 60}</desc><rect height=\"14.4\" width=\"16.2\" x=\"27.9\" y=\"712.8\"/><circle cx=\"27.0\" cy=\"720\" r=\"0.9\"/><circle cx=\"45.0\" cy=\"720\" r=\"0.9\"/><text x=\"36.0\" y=\"720\">149</text></g><g class=\"shooting fw block\"><desc>{&quot;trj&quot;: 35, &quot;snp&quot;: 306, &quot;smp&quot;: 60}</desc><rect height=\"14.4\" width=\"16.2\" x=\"45.9\" y=\"712.8\"/><circle cx=\"45.0\" cy=\"720\" r=\"0.9\"/><circle cx=\"63.0\" cy=\"720\" r=\"0.9\"/><text x=\"54.0\" y=\"720\">153</text></g><g class=\"shooting fw block\"><desc>{&quot;trj&quot;: 35, &quot;snp&quot;: 308, &quot;smp&quot;: 60}</desc><rect height=\"14.4\" width=\"16.2\" x=\"63.9\" y=\"712.8\"/><circle cx=\"63.0\" cy=\"720\" r=\"0.9\"/><circle cx=\"81.0\" cy=\"720\" r=\"0.9\"/><text x=\"72.0\" y=\"720\">154</text></g><g class=\"shooting fw block\"><desc>{&quot;trj&quot;: 35, &quot;snp&quot;: 310, &quot;smp&quot;: 60}</desc><rect height=\"14.4\" width=\"16.2\" x=\"81.9\" y=\"712.8\"/><circle cx=\"81.0\" cy=\"720\" r=\"0.9\"/><text x=\"90.0\" y=\"720\">155</text></g><g class=\"hop left label\" transform=\"translate(18,744)\"><g class=\"shift\"><text x=\"0\" y=\"0\">35h</text></g></g><g class=\"hop overlap h-region\"><line x1=\"9.9\" x2=\"98.1\" y1=\"744\" y2=\"744\"/><circle cx=\"9.0\" cy=\"744\" r=\"0.9\"/><line x1=\"9.0\" x2=\"9.0\" y1=\"736.8\" y2=\"751.2\"/><circle cx=\"99.0\" cy=\"744\" r=\"0.9\"/><line x1=\"99.0\" x2=\"99.0\" y1=\"736.8\" y2=\"751.2\"/><text x=\"54.0\" y=\"736.8\">EnsembleHop</text></g><g class=\"hop virtual block\"><desc>{&quot;trj&quot;: 35, &quot;snp&quot;: 296, &quot;smp&quot;: 61}</desc><rect height=\"14.4\" width=\"16.2\" x=\"9.9\" y=\"736.8\"/><circle cx=\"27.0\" cy=\"744\" r=\"0.9\"/><text x=\"18.0\" y=\"744\">148</text></g><g class=\"hop virtual block\"><desc>{&quot;trj&quot;: 35, &quot;snp&quot;: 298, &quot;smp&quot;: 61}</desc><rect height=\"14.4\" width=\"16.2\" x=\"27.9\" y=\"736.8\"/><circle cx=\"27.0\" cy=\"744\" r=\"0.9\"/><circle cx=\"45.0\" cy=\"744\" r=\"0.9\"/><text x=\"36.0\" y=\"744\">149</text></g><g class=\"hop virtual block\"><desc>{&quot;trj&quot;: 35, &quot;snp&quot;: 306, &quot;smp&quot;: 61}</desc><rect height=\"14.4\" width=\"16.2\" x=\"45.9\" y=\"736.8\"/><circle cx=\"45.0\" cy=\"744\" r=\"0.9\"/><circle cx=\"63.0\" cy=\"744\" r=\"0.9\"/><text x=\"54.0\" y=\"744\">153</text></g><g class=\"hop virtual block\"><desc>{&quot;trj&quot;: 35, &quot;snp&quot;: 308, &quot;smp&quot;: 61}</desc><rect height=\"14.4\" width=\"16.2\" x=\"63.9\" y=\"736.8\"/><circle cx=\"63.0\" cy=\"744\" r=\"0.9\"/><circle cx=\"81.0\" cy=\"744\" r=\"0.9\"/><text x=\"72.0\" y=\"744\">154</text></g><g class=\"hop virtual block\"><desc>{&quot;trj&quot;: 35, &quot;snp&quot;: 310, &quot;smp&quot;: 61}</desc><rect height=\"14.4\" width=\"16.2\" x=\"81.9\" y=\"736.8\"/><circle cx=\"81.0\" cy=\"744\" r=\"0.9\"/><text x=\"90.0\" y=\"744\">155</text></g><g class=\"shooting right label\" transform=\"translate(90,768)\"><g class=\"shift\"><text x=\"0\" y=\"0\">36f</text></g></g><line class=\"shooting fw connection v-connector\" x1=\"81.0\" x2=\"81.0\" y1=\"721.2\" y2=\"766.8\"/><g class=\"shooting virtual block\"><desc>{&quot;trj&quot;: 36, &quot;snp&quot;: 296, &quot;smp&quot;: 62}</desc><rect height=\"14.4\" width=\"16.2\" x=\"9.9\" y=\"760.8\"/><circle cx=\"27.0\" cy=\"768\" r=\"0.9\"/><text x=\"18.0\" y=\"768\">148</text></g><g class=\"shooting virtual block\"><desc>{&quot;trj&quot;: 36, &quot;snp&quot;: 298, &quot;smp&quot;: 62}</desc><rect height=\"14.4\" width=\"16.2\" x=\"27.9\" y=\"760.8\"/><circle cx=\"27.0\" cy=\"768\" r=\"0.9\"/><circle cx=\"45.0\" cy=\"768\" r=\"0.9\"/><text x=\"36.0\" y=\"768\">149</text></g><g class=\"shooting virtual block\"><desc>{&quot;trj&quot;: 36, &quot;snp&quot;: 306, &quot;smp&quot;: 62}</desc><rect height=\"14.4\" width=\"16.2\" x=\"45.9\" y=\"760.8\"/><circle cx=\"45.0\" cy=\"768\" r=\"0.9\"/><circle cx=\"63.0\" cy=\"768\" r=\"0.9\"/><text x=\"54.0\" y=\"768\">153</text></g><g class=\"shooting virtual block\"><desc>{&quot;trj&quot;: 36, &quot;snp&quot;: 308, &quot;smp&quot;: 62}</desc><rect height=\"14.4\" width=\"16.2\" x=\"63.9\" y=\"760.8\"/><circle cx=\"63.0\" cy=\"768\" r=\"0.9\"/><circle cx=\"81.0\" cy=\"768\" r=\"0.9\"/><text x=\"72.0\" y=\"768\">154</text></g><g class=\"shooting fw block\"><desc>{&quot;trj&quot;: 36, &quot;snp&quot;: 312, &quot;smp&quot;: 62}</desc><rect height=\"14.4\" width=\"16.2\" x=\"81.9\" y=\"760.8\"/><circle cx=\"81.0\" cy=\"768\" r=\"0.9\"/><text x=\"90.0\" y=\"768\">156</text></g><g class=\"shooting right label\" transform=\"translate(90,792)\"><g class=\"shift\"><text x=\"0\" y=\"0\">37f</text></g></g><line class=\"shooting fw connection v-connector\" x1=\"81.0\" x2=\"81.0\" y1=\"721.2\" y2=\"790.8\"/><g class=\"shooting virtual block\"><desc>{&quot;trj&quot;: 37, &quot;snp&quot;: 296, &quot;smp&quot;: 64}</desc><rect height=\"14.4\" width=\"16.2\" x=\"9.9\" y=\"784.8\"/><circle cx=\"27.0\" cy=\"792\" r=\"0.9\"/><text x=\"18.0\" y=\"792\">148</text></g><g class=\"shooting virtual block\"><desc>{&quot;trj&quot;: 37, &quot;snp&quot;: 298, &quot;smp&quot;: 64}</desc><rect height=\"14.4\" width=\"16.2\" x=\"27.9\" y=\"784.8\"/><circle cx=\"27.0\" cy=\"792\" r=\"0.9\"/><circle cx=\"45.0\" cy=\"792\" r=\"0.9\"/><text x=\"36.0\" y=\"792\">149</text></g><g class=\"shooting virtual block\"><desc>{&quot;trj&quot;: 37, &quot;snp&quot;: 306, &quot;smp&quot;: 64}</desc><rect height=\"14.4\" width=\"16.2\" x=\"45.9\" y=\"784.8\"/><circle cx=\"45.0\" cy=\"792\" r=\"0.9\"/><circle cx=\"63.0\" cy=\"792\" r=\"0.9\"/><text x=\"54.0\" y=\"792\">153</text></g><g class=\"shooting virtual block\"><desc>{&quot;trj&quot;: 37, &quot;snp&quot;: 308, &quot;smp&quot;: 64}</desc><rect height=\"14.4\" width=\"16.2\" x=\"63.9\" y=\"784.8\"/><circle cx=\"63.0\" cy=\"792\" r=\"0.9\"/><circle cx=\"81.0\" cy=\"792\" r=\"0.9\"/><text x=\"72.0\" y=\"792\">154</text></g><g class=\"shooting fw block\"><desc>{&quot;trj&quot;: 37, &quot;snp&quot;: 314, &quot;smp&quot;: 64}</desc><rect height=\"14.4\" width=\"16.2\" x=\"81.9\" y=\"784.8\"/><circle cx=\"81.0\" cy=\"792\" r=\"0.9\"/><text x=\"90.0\" y=\"792\">157</text></g><g class=\"shooting right label\" transform=\"translate(90,816)\"><g class=\"shift\"><text x=\"0\" y=\"0\">38f</text></g></g><line class=\"shooting fw connection v-connector\" x1=\"63.0\" x2=\"63.0\" y1=\"721.2\" y2=\"814.8\"/><g class=\"shooting virtual block\"><desc>{&quot;trj&quot;: 38, &quot;snp&quot;: 296, &quot;smp&quot;: 66}</desc><rect height=\"14.4\" width=\"16.2\" x=\"9.9\" y=\"808.8\"/><circle cx=\"27.0\" cy=\"816\" r=\"0.9\"/><text x=\"18.0\" y=\"816\">148</text></g><g class=\"shooting virtual block\"><desc>{&quot;trj&quot;: 38, &quot;snp&quot;: 298, &quot;smp&quot;: 66}</desc><rect height=\"14.4\" width=\"16.2\" x=\"27.9\" y=\"808.8\"/><circle cx=\"27.0\" cy=\"816\" r=\"0.9\"/><circle cx=\"45.0\" cy=\"816\" r=\"0.9\"/><text x=\"36.0\" y=\"816\">149</text></g><g class=\"shooting virtual block\"><desc>{&quot;trj&quot;: 38, &quot;snp&quot;: 306, &quot;smp&quot;: 66}</desc><rect height=\"14.4\" width=\"16.2\" x=\"45.9\" y=\"808.8\"/><circle cx=\"45.0\" cy=\"816\" r=\"0.9\"/><circle cx=\"63.0\" cy=\"816\" r=\"0.9\"/><text x=\"54.0\" y=\"816\">153</text></g><g class=\"shooting fw block\"><desc>{&quot;trj&quot;: 38, &quot;snp&quot;: 316, &quot;smp&quot;: 66}</desc><rect height=\"14.4\" width=\"16.2\" x=\"63.9\" y=\"808.8\"/><circle cx=\"63.0\" cy=\"816\" r=\"0.9\"/><circle cx=\"81.0\" cy=\"816\" r=\"0.9\"/><text x=\"72.0\" y=\"816\">158</text></g><g class=\"shooting fw block\"><desc>{&quot;trj&quot;: 38, &quot;snp&quot;: 318, &quot;smp&quot;: 66}</desc><rect height=\"14.4\" width=\"16.2\" x=\"81.9\" y=\"808.8\"/><circle cx=\"81.0\" cy=\"816\" r=\"0.9\"/><text x=\"90.0\" y=\"816\">159</text></g><g class=\"shooting left label\" transform=\"translate(18,840)\"><g class=\"shift\"><text x=\"0\" y=\"0\">40b</text></g></g><line class=\"shooting bw connection v-connector\" x1=\"63.0\" x2=\"63.0\" y1=\"817.2\" y2=\"838.8\"/><g class=\"shooting bw block\"><desc>{&quot;trj&quot;: 40, &quot;snp&quot;: 322, &quot;smp&quot;: 69}</desc><rect height=\"14.4\" width=\"16.2\" x=\"9.9\" y=\"832.8\"/><circle cx=\"27.0\" cy=\"840\" r=\"0.9\"/><text x=\"18.0\" y=\"840\">161</text></g><g class=\"shooting bw block\"><desc>{&quot;trj&quot;: 40, &quot;snp&quot;: 324, &quot;smp&quot;: 69}</desc><rect height=\"14.4\" width=\"16.2\" x=\"27.9\" y=\"832.8\"/><circle cx=\"27.0\" cy=\"840\" r=\"0.9\"/><circle cx=\"45.0\" cy=\"840\" r=\"0.9\"/><text x=\"36.0\" y=\"840\">162</text></g><g class=\"shooting bw block\"><desc>{&quot;trj&quot;: 40, &quot;snp&quot;: 326, &quot;smp&quot;: 69}</desc><rect height=\"14.4\" width=\"16.2\" x=\"45.9\" y=\"832.8\"/><circle cx=\"45.0\" cy=\"840\" r=\"0.9\"/><circle cx=\"63.0\" cy=\"840\" r=\"0.9\"/><text x=\"54.0\" y=\"840\">163</text></g><g class=\"shooting virtual block\"><desc>{&quot;trj&quot;: 40, &quot;snp&quot;: 316, &quot;smp&quot;: 69}</desc><rect height=\"14.4\" width=\"16.2\" x=\"63.9\" y=\"832.8\"/><circle cx=\"63.0\" cy=\"840\" r=\"0.9\"/><circle cx=\"81.0\" cy=\"840\" r=\"0.9\"/><text x=\"72.0\" y=\"840\">158</text></g><g class=\"shooting virtual block\"><desc>{&quot;trj&quot;: 40, &quot;snp&quot;: 318, &quot;smp&quot;: 69}</desc><rect height=\"14.4\" width=\"16.2\" x=\"81.9\" y=\"832.8\"/><circle cx=\"81.0\" cy=\"840\" r=\"0.9\"/><text x=\"90.0\" y=\"840\">159</text></g><g class=\"shooting right label\" transform=\"translate(90,864)\"><g class=\"shift\"><text x=\"0\" y=\"0\">41f</text></g></g><line class=\"shooting fw connection v-connector\" x1=\"45.0\" x2=\"45.0\" y1=\"841.2\" y2=\"862.8\"/><g class=\"shooting virtual block\"><desc>{&quot;trj&quot;: 41, &quot;snp&quot;: 322, &quot;smp&quot;: 71}</desc><rect height=\"14.4\" width=\"16.2\" x=\"9.9\" y=\"856.8\"/><circle cx=\"27.0\" cy=\"864\" r=\"0.9\"/><text x=\"18.0\" y=\"864\">161</text></g><g class=\"shooting virtual block\"><desc>{&quot;trj&quot;: 41, &quot;snp&quot;: 324, &quot;smp&quot;: 71}</desc><rect height=\"14.4\" width=\"16.2\" x=\"27.9\" y=\"856.8\"/><circle cx=\"27.0\" cy=\"864\" r=\"0.9\"/><circle cx=\"45.0\" cy=\"864\" r=\"0.9\"/><text x=\"36.0\" y=\"864\">162</text></g><g class=\"shooting fw block\"><desc>{&quot;trj&quot;: 41, &quot;snp&quot;: 328, &quot;smp&quot;: 71}</desc><rect height=\"14.4\" width=\"16.2\" x=\"45.9\" y=\"856.8\"/><circle cx=\"45.0\" cy=\"864\" r=\"0.9\"/><circle cx=\"63.0\" cy=\"864\" r=\"0.9\"/><text x=\"54.0\" y=\"864\">164</text></g><g class=\"shooting fw block\"><desc>{&quot;trj&quot;: 41, &quot;snp&quot;: 330, &quot;smp&quot;: 71}</desc><rect height=\"14.4\" width=\"16.2\" x=\"63.9\" y=\"856.8\"/><circle cx=\"63.0\" cy=\"864\" r=\"0.9\"/><circle cx=\"81.0\" cy=\"864\" r=\"0.9\"/><text x=\"72.0\" y=\"864\">165</text></g><g class=\"shooting fw block\"><desc>{&quot;trj&quot;: 41, &quot;snp&quot;: 332, &quot;smp&quot;: 71}</desc><rect height=\"14.4\" width=\"16.2\" x=\"81.9\" y=\"856.8\"/><circle cx=\"81.0\" cy=\"864\" r=\"0.9\"/><text x=\"90.0\" y=\"864\">166</text></g><g class=\"shooting left label\" transform=\"translate(18,888)\"><g class=\"shift\"><text x=\"0\" y=\"0\">42b</text></g></g><line class=\"shooting bw connection v-connector\" x1=\"27.0\" x2=\"27.0\" y1=\"841.2\" y2=\"886.8\"/><g class=\"shooting bw block\"><desc>{&quot;trj&quot;: 42, &quot;snp&quot;: 334, &quot;smp&quot;: 73}</desc><rect height=\"14.4\" width=\"16.2\" x=\"9.9\" y=\"880.8\"/><circle cx=\"27.0\" cy=\"888\" r=\"0.9\"/><text x=\"18.0\" y=\"888\">167</text></g><g class=\"shooting virtual block\"><desc>{&quot;trj&quot;: 42, &quot;snp&quot;: 324, &quot;smp&quot;: 73}</desc><rect height=\"14.4\" width=\"16.2\" x=\"27.9\" y=\"880.8\"/><circle cx=\"27.0\" cy=\"888\" r=\"0.9\"/><circle cx=\"45.0\" cy=\"888\" r=\"0.9\"/><text x=\"36.0\" y=\"888\">162</text></g><g class=\"shooting virtual block\"><desc>{&quot;trj&quot;: 42, &quot;snp&quot;: 328, &quot;smp&quot;: 73}</desc><rect height=\"14.4\" width=\"16.2\" x=\"45.9\" y=\"880.8\"/><circle cx=\"45.0\" cy=\"888\" r=\"0.9\"/><circle cx=\"63.0\" cy=\"888\" r=\"0.9\"/><text x=\"54.0\" y=\"888\">164</text></g><g class=\"shooting virtual block\"><desc>{&quot;trj&quot;: 42, &quot;snp&quot;: 330, &quot;smp&quot;: 73}</desc><rect height=\"14.4\" width=\"16.2\" x=\"63.9\" y=\"880.8\"/><circle cx=\"63.0\" cy=\"888\" r=\"0.9\"/><circle cx=\"81.0\" cy=\"888\" r=\"0.9\"/><text x=\"72.0\" y=\"888\">165</text></g><g class=\"shooting virtual block\"><desc>{&quot;trj&quot;: 42, &quot;snp&quot;: 332, &quot;smp&quot;: 73}</desc><rect height=\"14.4\" width=\"16.2\" x=\"81.9\" y=\"880.8\"/><circle cx=\"81.0\" cy=\"888\" r=\"0.9\"/><text x=\"90.0\" y=\"888\">166</text></g><g class=\"shooting left label\" transform=\"translate(18,912)\"><g class=\"shift\"><text x=\"0\" y=\"0\">43b</text></g></g><line class=\"shooting bw connection v-connector\" x1=\"27.0\" x2=\"27.0\" y1=\"841.2\" y2=\"910.8\"/><g class=\"shooting bw block\"><desc>{&quot;trj&quot;: 43, &quot;snp&quot;: 336, &quot;smp&quot;: 75}</desc><rect height=\"14.4\" width=\"16.2\" x=\"9.9\" y=\"904.8\"/><circle cx=\"27.0\" cy=\"912\" r=\"0.9\"/><text x=\"18.0\" y=\"912\">168</text></g><g class=\"shooting virtual block\"><desc>{&quot;trj&quot;: 43, &quot;snp&quot;: 324, &quot;smp&quot;: 75}</desc><rect height=\"14.4\" width=\"16.2\" x=\"27.9\" y=\"904.8\"/><circle cx=\"27.0\" cy=\"912\" r=\"0.9\"/><circle cx=\"45.0\" cy=\"912\" r=\"0.9\"/><text x=\"36.0\" y=\"912\">162</text></g><g class=\"shooting virtual block\"><desc>{&quot;trj&quot;: 43, &quot;snp&quot;: 328, &quot;smp&quot;: 75}</desc><rect height=\"14.4\" width=\"16.2\" x=\"45.9\" y=\"904.8\"/><circle cx=\"45.0\" cy=\"912\" r=\"0.9\"/><circle cx=\"63.0\" cy=\"912\" r=\"0.9\"/><text x=\"54.0\" y=\"912\">164</text></g><g class=\"shooting virtual block\"><desc>{&quot;trj&quot;: 43, &quot;snp&quot;: 330, &quot;smp&quot;: 75}</desc><rect height=\"14.4\" width=\"16.2\" x=\"63.9\" y=\"904.8\"/><circle cx=\"63.0\" cy=\"912\" r=\"0.9\"/><circle cx=\"81.0\" cy=\"912\" r=\"0.9\"/><text x=\"72.0\" y=\"912\">165</text></g><g class=\"shooting virtual block\"><desc>{&quot;trj&quot;: 43, &quot;snp&quot;: 332, &quot;smp&quot;: 75}</desc><rect height=\"14.4\" width=\"16.2\" x=\"81.9\" y=\"904.8\"/><circle cx=\"81.0\" cy=\"912\" r=\"0.9\"/><text x=\"90.0\" y=\"912\">166</text></g><g class=\"shooting right label\" transform=\"translate(90,936)\"><g class=\"shift\"><text x=\"0\" y=\"0\">44f</text></g></g><line class=\"shooting fw connection v-connector\" x1=\"45.0\" x2=\"45.0\" y1=\"841.2\" y2=\"934.8\"/><g class=\"shooting virtual block\"><desc>{&quot;trj&quot;: 44, &quot;snp&quot;: 336, &quot;smp&quot;: 77}</desc><rect height=\"14.4\" width=\"16.2\" x=\"9.9\" y=\"928.8\"/><circle cx=\"27.0\" cy=\"936\" r=\"0.9\"/><text x=\"18.0\" y=\"936\">168</text></g><g class=\"shooting virtual block\"><desc>{&quot;trj&quot;: 44, &quot;snp&quot;: 324, &quot;smp&quot;: 77}</desc><rect height=\"14.4\" width=\"16.2\" x=\"27.9\" y=\"928.8\"/><circle cx=\"27.0\" cy=\"936\" r=\"0.9\"/><circle cx=\"45.0\" cy=\"936\" r=\"0.9\"/><text x=\"36.0\" y=\"936\">162</text></g><g class=\"shooting fw block\"><desc>{&quot;trj&quot;: 44, &quot;snp&quot;: 338, &quot;smp&quot;: 77}</desc><rect height=\"14.4\" width=\"16.2\" x=\"45.9\" y=\"928.8\"/><circle cx=\"45.0\" cy=\"936\" r=\"0.9\"/><circle cx=\"63.0\" cy=\"936\" r=\"0.9\"/><text x=\"54.0\" y=\"936\">169</text></g><g class=\"shooting fw block\"><desc>{&quot;trj&quot;: 44, &quot;snp&quot;: 340, &quot;smp&quot;: 77}</desc><rect height=\"14.4\" width=\"16.2\" x=\"63.9\" y=\"928.8\"/><circle cx=\"63.0\" cy=\"936\" r=\"0.9\"/><circle cx=\"81.0\" cy=\"936\" r=\"0.9\"/><text x=\"72.0\" y=\"936\">170</text></g><g class=\"shooting fw block\"><desc>{&quot;trj&quot;: 44, &quot;snp&quot;: 342, &quot;smp&quot;: 77}</desc><rect height=\"14.4\" width=\"16.2\" x=\"81.9\" y=\"928.8\"/><circle cx=\"81.0\" cy=\"936\" r=\"0.9\"/><text x=\"90.0\" y=\"936\">171</text></g><g class=\"shooting left label\" transform=\"translate(18,960)\"><g class=\"shift\"><text x=\"0\" y=\"0\">45b</text></g></g><line class=\"shooting bw connection v-connector\" x1=\"27.0\" x2=\"27.0\" y1=\"841.2\" y2=\"958.8\"/><g class=\"shooting bw block\"><desc>{&quot;trj&quot;: 45, &quot;snp&quot;: 344, &quot;smp&quot;: 79}</desc><rect height=\"14.4\" width=\"16.2\" x=\"9.9\" y=\"952.8\"/><circle cx=\"27.0\" cy=\"960\" r=\"0.9\"/><text x=\"18.0\" y=\"960\">172</text></g><g class=\"shooting virtual block\"><desc>{&quot;trj&quot;: 45, &quot;snp&quot;: 324, &quot;smp&quot;: 79}</desc><rect height=\"14.4\" width=\"16.2\" x=\"27.9\" y=\"952.8\"/><circle cx=\"27.0\" cy=\"960\" r=\"0.9\"/><circle cx=\"45.0\" cy=\"960\" r=\"0.9\"/><text x=\"36.0\" y=\"960\">162</text></g><g class=\"shooting virtual block\"><desc>{&quot;trj&quot;: 45, &quot;snp&quot;: 338, &quot;smp&quot;: 79}</desc><rect height=\"14.4\" width=\"16.2\" x=\"45.9\" y=\"952.8\"/><circle cx=\"45.0\" cy=\"960\" r=\"0.9\"/><circle cx=\"63.0\" cy=\"960\" r=\"0.9\"/><text x=\"54.0\" y=\"960\">169</text></g><g class=\"shooting virtual block\"><desc>{&quot;trj&quot;: 45, &quot;snp&quot;: 340, &quot;smp&quot;: 79}</desc><rect height=\"14.4\" width=\"16.2\" x=\"63.9\" y=\"952.8\"/><circle cx=\"63.0\" cy=\"960\" r=\"0.9\"/><circle cx=\"81.0\" cy=\"960\" r=\"0.9\"/><text x=\"72.0\" y=\"960\">170</text></g><g class=\"shooting virtual block\"><desc>{&quot;trj&quot;: 45, &quot;snp&quot;: 342, &quot;smp&quot;: 79}</desc><rect height=\"14.4\" width=\"16.2\" x=\"81.9\" y=\"952.8\"/><circle cx=\"81.0\" cy=\"960\" r=\"0.9\"/><text x=\"90.0\" y=\"960\">171</text></g><g class=\"shooting left label\" transform=\"translate(18,984)\"><g class=\"shift\"><text x=\"0\" y=\"0\">46b</text></g></g><line class=\"shooting bw connection v-connector\" x1=\"45.0\" x2=\"45.0\" y1=\"937.2\" y2=\"982.8\"/><g class=\"shooting bw block\"><desc>{&quot;trj&quot;: 46, &quot;snp&quot;: 346, &quot;smp&quot;: 81}</desc><rect height=\"14.4\" width=\"16.2\" x=\"9.9\" y=\"976.8\"/><circle cx=\"27.0\" cy=\"984\" r=\"0.9\"/><text x=\"18.0\" y=\"984\">173</text></g><g class=\"shooting bw block\"><desc>{&quot;trj&quot;: 46, &quot;snp&quot;: 348, &quot;smp&quot;: 81}</desc><rect height=\"14.4\" width=\"16.2\" x=\"27.9\" y=\"976.8\"/><circle cx=\"27.0\" cy=\"984\" r=\"0.9\"/><circle cx=\"45.0\" cy=\"984\" r=\"0.9\"/><text x=\"36.0\" y=\"984\">174</text></g><g class=\"shooting virtual block\"><desc>{&quot;trj&quot;: 46, &quot;snp&quot;: 338, &quot;smp&quot;: 81}</desc><rect height=\"14.4\" width=\"16.2\" x=\"45.9\" y=\"976.8\"/><circle cx=\"45.0\" cy=\"984\" r=\"0.9\"/><circle cx=\"63.0\" cy=\"984\" r=\"0.9\"/><text x=\"54.0\" y=\"984\">169</text></g><g class=\"shooting virtual block\"><desc>{&quot;trj&quot;: 46, &quot;snp&quot;: 340, &quot;smp&quot;: 81}</desc><rect height=\"14.4\" width=\"16.2\" x=\"63.9\" y=\"976.8\"/><circle cx=\"63.0\" cy=\"984\" r=\"0.9\"/><circle cx=\"81.0\" cy=\"984\" r=\"0.9\"/><text x=\"72.0\" y=\"984\">170</text></g><g class=\"shooting virtual block\"><desc>{&quot;trj&quot;: 46, &quot;snp&quot;: 342, &quot;smp&quot;: 81}</desc><rect height=\"14.4\" width=\"16.2\" x=\"81.9\" y=\"976.8\"/><circle cx=\"81.0\" cy=\"984\" r=\"0.9\"/><text x=\"90.0\" y=\"984\">171</text></g><g class=\"shooting right label\" transform=\"translate(90,1008)\"><g class=\"shift\"><text x=\"0\" y=\"0\">47f</text></g></g><line class=\"shooting fw connection v-connector\" x1=\"63.0\" x2=\"63.0\" y1=\"937.2\" y2=\"1006.8\"/><g class=\"shooting virtual block\"><desc>{&quot;trj&quot;: 47, &quot;snp&quot;: 346, &quot;smp&quot;: 83}</desc><rect height=\"14.4\" width=\"16.2\" x=\"9.9\" y=\"1000.8\"/><circle cx=\"27.0\" cy=\"1008\" r=\"0.9\"/><text x=\"18.0\" y=\"1008\">173</text></g><g class=\"shooting virtual block\"><desc>{&quot;trj&quot;: 47, &quot;snp&quot;: 348, &quot;smp&quot;: 83}</desc><rect height=\"14.4\" width=\"16.2\" x=\"27.9\" y=\"1000.8\"/><circle cx=\"27.0\" cy=\"1008\" r=\"0.9\"/><circle cx=\"45.0\" cy=\"1008\" r=\"0.9\"/><text x=\"36.0\" y=\"1008\">174</text></g><g class=\"shooting virtual block\"><desc>{&quot;trj&quot;: 47, &quot;snp&quot;: 338, &quot;smp&quot;: 83}</desc><rect height=\"14.4\" width=\"16.2\" x=\"45.9\" y=\"1000.8\"/><circle cx=\"45.0\" cy=\"1008\" r=\"0.9\"/><circle cx=\"63.0\" cy=\"1008\" r=\"0.9\"/><text x=\"54.0\" y=\"1008\">169</text></g><g class=\"shooting fw block\"><desc>{&quot;trj&quot;: 47, &quot;snp&quot;: 350, &quot;smp&quot;: 83}</desc><rect height=\"14.4\" width=\"16.2\" x=\"63.9\" y=\"1000.8\"/><circle cx=\"63.0\" cy=\"1008\" r=\"0.9\"/><circle cx=\"81.0\" cy=\"1008\" r=\"0.9\"/><text x=\"72.0\" y=\"1008\">175</text></g><g class=\"shooting fw block\"><desc>{&quot;trj&quot;: 47, &quot;snp&quot;: 352, &quot;smp&quot;: 83}</desc><rect height=\"14.4\" width=\"16.2\" x=\"81.9\" y=\"1000.8\"/><circle cx=\"81.0\" cy=\"1008\" r=\"0.9\"/><text x=\"90.0\" y=\"1008\">176</text></g><g class=\"shooting right label\" transform=\"translate(90,1032)\"><g class=\"shift\"><text x=\"0\" y=\"0\">48f</text></g></g><line class=\"shooting fw connection v-connector\" x1=\"63.0\" x2=\"63.0\" y1=\"937.2\" y2=\"1030.8\"/><g class=\"shooting virtual block\"><desc>{&quot;trj&quot;: 48, &quot;snp&quot;: 346, &quot;smp&quot;: 85}</desc><rect height=\"14.4\" width=\"16.2\" x=\"9.9\" y=\"1024.8\"/><circle cx=\"27.0\" cy=\"1032\" r=\"0.9\"/><text x=\"18.0\" y=\"1032\">173</text></g><g class=\"shooting virtual block\"><desc>{&quot;trj&quot;: 48, &quot;snp&quot;: 348, &quot;smp&quot;: 85}</desc><rect height=\"14.4\" width=\"16.2\" x=\"27.9\" y=\"1024.8\"/><circle cx=\"27.0\" cy=\"1032\" r=\"0.9\"/><circle cx=\"45.0\" cy=\"1032\" r=\"0.9\"/><text x=\"36.0\" y=\"1032\">174</text></g><g class=\"shooting virtual block\"><desc>{&quot;trj&quot;: 48, &quot;snp&quot;: 338, &quot;smp&quot;: 85}</desc><rect height=\"14.4\" width=\"16.2\" x=\"45.9\" y=\"1024.8\"/><circle cx=\"45.0\" cy=\"1032\" r=\"0.9\"/><circle cx=\"63.0\" cy=\"1032\" r=\"0.9\"/><text x=\"54.0\" y=\"1032\">169</text></g><g class=\"shooting fw block\"><desc>{&quot;trj&quot;: 48, &quot;snp&quot;: 354, &quot;smp&quot;: 85}</desc><rect height=\"14.4\" width=\"16.2\" x=\"63.9\" y=\"1024.8\"/><circle cx=\"63.0\" cy=\"1032\" r=\"0.9\"/><circle cx=\"81.0\" cy=\"1032\" r=\"0.9\"/><text x=\"72.0\" y=\"1032\">177</text></g><g class=\"shooting fw block\"><desc>{&quot;trj&quot;: 48, &quot;snp&quot;: 356, &quot;smp&quot;: 85}</desc><rect height=\"14.4\" width=\"16.2\" x=\"81.9\" y=\"1024.8\"/><circle cx=\"81.0\" cy=\"1032\" r=\"0.9\"/><text x=\"90.0\" y=\"1032\">178</text></g><g class=\"shooting left label\" transform=\"translate(18,1056)\"><g class=\"shift\"><text x=\"0\" y=\"0\">50b</text></g></g><line class=\"shooting bw connection v-connector\" x1=\"27.0\" x2=\"27.0\" y1=\"985.2\" y2=\"1054.8\"/><g class=\"shooting bw block\"><desc>{&quot;trj&quot;: 50, &quot;snp&quot;: 360, &quot;smp&quot;: 88}</desc><rect height=\"14.4\" width=\"16.2\" x=\"9.9\" y=\"1048.8\"/><circle cx=\"27.0\" cy=\"1056\" r=\"0.9\"/><text x=\"18.0\" y=\"1056\">180</text></g><g class=\"shooting virtual block\"><desc>{&quot;trj&quot;: 50, &quot;snp&quot;: 348, &quot;smp&quot;: 88}</desc><rect height=\"14.4\" width=\"16.2\" x=\"27.9\" y=\"1048.8\"/><circle cx=\"27.0\" cy=\"1056\" r=\"0.9\"/><circle cx=\"45.0\" cy=\"1056\" r=\"0.9\"/><text x=\"36.0\" y=\"1056\">174</text></g><g class=\"shooting virtual block\"><desc>{&quot;trj&quot;: 50, &quot;snp&quot;: 338, &quot;smp&quot;: 88}</desc><rect height=\"14.4\" width=\"16.2\" x=\"45.9\" y=\"1048.8\"/><circle cx=\"45.0\" cy=\"1056\" r=\"0.9\"/><circle cx=\"63.0\" cy=\"1056\" r=\"0.9\"/><text x=\"54.0\" y=\"1056\">169</text></g><g class=\"shooting virtual block\"><desc>{&quot;trj&quot;: 50, &quot;snp&quot;: 354, &quot;smp&quot;: 88}</desc><rect height=\"14.4\" width=\"16.2\" x=\"63.9\" y=\"1048.8\"/><circle cx=\"63.0\" cy=\"1056\" r=\"0.9\"/><circle cx=\"81.0\" cy=\"1056\" r=\"0.9\"/><text x=\"72.0\" y=\"1056\">177</text></g><g class=\"shooting virtual block\"><desc>{&quot;trj&quot;: 50, &quot;snp&quot;: 356, &quot;smp&quot;: 88}</desc><rect height=\"14.4\" width=\"16.2\" x=\"81.9\" y=\"1048.8\"/><circle cx=\"81.0\" cy=\"1056\" r=\"0.9\"/><text x=\"90.0\" y=\"1056\">178</text></g><g class=\"shooting left label\" transform=\"translate(18,1080)\"><g class=\"shift\"><text x=\"0\" y=\"0\">51b</text></g></g><line class=\"shooting bw connection v-connector\" x1=\"27.0\" x2=\"27.0\" y1=\"985.2\" y2=\"1078.8\"/><g class=\"shooting bw block\"><desc>{&quot;trj&quot;: 51, &quot;snp&quot;: 362, &quot;smp&quot;: 90}</desc><rect height=\"14.4\" width=\"16.2\" x=\"9.9\" y=\"1072.8\"/><circle cx=\"27.0\" cy=\"1080\" r=\"0.9\"/><text x=\"18.0\" y=\"1080\">181</text></g><g class=\"shooting virtual block\"><desc>{&quot;trj&quot;: 51, &quot;snp&quot;: 348, &quot;smp&quot;: 90}</desc><rect height=\"14.4\" width=\"16.2\" x=\"27.9\" y=\"1072.8\"/><circle cx=\"27.0\" cy=\"1080\" r=\"0.9\"/><circle cx=\"45.0\" cy=\"1080\" r=\"0.9\"/><text x=\"36.0\" y=\"1080\">174</text></g><g class=\"shooting virtual block\"><desc>{&quot;trj&quot;: 51, &quot;snp&quot;: 338, &quot;smp&quot;: 90}</desc><rect height=\"14.4\" width=\"16.2\" x=\"45.9\" y=\"1072.8\"/><circle cx=\"45.0\" cy=\"1080\" r=\"0.9\"/><circle cx=\"63.0\" cy=\"1080\" r=\"0.9\"/><text x=\"54.0\" y=\"1080\">169</text></g><g class=\"shooting virtual block\"><desc>{&quot;trj&quot;: 51, &quot;snp&quot;: 354, &quot;smp&quot;: 90}</desc><rect height=\"14.4\" width=\"16.2\" x=\"63.9\" y=\"1072.8\"/><circle cx=\"63.0\" cy=\"1080\" r=\"0.9\"/><circle cx=\"81.0\" cy=\"1080\" r=\"0.9\"/><text x=\"72.0\" y=\"1080\">177</text></g><g class=\"shooting virtual block\"><desc>{&quot;trj&quot;: 51, &quot;snp&quot;: 356, &quot;smp&quot;: 90}</desc><rect height=\"14.4\" width=\"16.2\" x=\"81.9\" y=\"1072.8\"/><circle cx=\"81.0\" cy=\"1080\" r=\"0.9\"/><text x=\"90.0\" y=\"1080\">178</text></g><g class=\"shooting left label\" transform=\"translate(36,1104)\"><g class=\"shift\"><text x=\"0\" y=\"0\">53b</text></g></g><line class=\"shooting bw connection v-connector\" x1=\"63.0\" x2=\"63.0\" y1=\"1033.2\" y2=\"1102.8\"/><g class=\"shooting bw block\"><desc>{&quot;trj&quot;: 53, &quot;snp&quot;: 366, &quot;smp&quot;: 93}</desc><rect height=\"14.4\" width=\"16.2\" x=\"27.9\" y=\"1096.8\"/><circle cx=\"45.0\" cy=\"1104\" r=\"0.9\"/><text x=\"36.0\" y=\"1104\">183</text></g><g class=\"shooting bw block\"><desc>{&quot;trj&quot;: 53, &quot;snp&quot;: 368, &quot;smp&quot;: 93}</desc><rect height=\"14.4\" width=\"16.2\" x=\"45.9\" y=\"1096.8\"/><circle cx=\"45.0\" cy=\"1104\" r=\"0.9\"/><circle cx=\"63.0\" cy=\"1104\" r=\"0.9\"/><text x=\"54.0\" y=\"1104\">184</text></g><g class=\"shooting virtual block\"><desc>{&quot;trj&quot;: 53, &quot;snp&quot;: 354, &quot;smp&quot;: 93}</desc><rect height=\"14.4\" width=\"16.2\" x=\"63.9\" y=\"1096.8\"/><circle cx=\"63.0\" cy=\"1104\" r=\"0.9\"/><circle cx=\"81.0\" cy=\"1104\" r=\"0.9\"/><text x=\"72.0\" y=\"1104\">177</text></g><g class=\"shooting virtual block\"><desc>{&quot;trj&quot;: 53, &quot;snp&quot;: 356, &quot;smp&quot;: 93}</desc><rect height=\"14.4\" width=\"16.2\" x=\"81.9\" y=\"1096.8\"/><circle cx=\"81.0\" cy=\"1104\" r=\"0.9\"/><text x=\"90.0\" y=\"1104\">178</text></g><g class=\"shooting right label\" transform=\"translate(90,1128)\"><g class=\"shift\"><text x=\"0\" y=\"0\">54f</text></g></g><line class=\"shooting fw connection v-connector\" x1=\"63.0\" x2=\"63.0\" y1=\"1105.2\" y2=\"1126.8\"/><g class=\"shooting virtual block\"><desc>{&quot;trj&quot;: 54, &quot;snp&quot;: 366, &quot;smp&quot;: 95}</desc><rect height=\"14.4\" width=\"16.2\" x=\"27.9\" y=\"1120.8\"/><circle cx=\"45.0\" cy=\"1128\" r=\"0.9\"/><text x=\"36.0\" y=\"1128\">183</text></g><g class=\"shooting virtual block\"><desc>{&quot;trj&quot;: 54, &quot;snp&quot;: 368, &quot;smp&quot;: 95}</desc><rect height=\"14.4\" width=\"16.2\" x=\"45.9\" y=\"1120.8\"/><circle cx=\"45.0\" cy=\"1128\" r=\"0.9\"/><circle cx=\"63.0\" cy=\"1128\" r=\"0.9\"/><text x=\"54.0\" y=\"1128\">184</text></g><g class=\"shooting fw block\"><desc>{&quot;trj&quot;: 54, &quot;snp&quot;: 370, &quot;smp&quot;: 95}</desc><rect height=\"14.4\" width=\"16.2\" x=\"63.9\" y=\"1120.8\"/><circle cx=\"63.0\" cy=\"1128\" r=\"0.9\"/><circle cx=\"81.0\" cy=\"1128\" r=\"0.9\"/><text x=\"72.0\" y=\"1128\">185</text></g><g class=\"shooting fw block\"><desc>{&quot;trj&quot;: 54, &quot;snp&quot;: 372, &quot;smp&quot;: 95}</desc><rect height=\"14.4\" width=\"16.2\" x=\"81.9\" y=\"1120.8\"/><circle cx=\"81.0\" cy=\"1128\" r=\"0.9\"/><text x=\"90.0\" y=\"1128\">186</text></g><g class=\"shooting right label\" transform=\"translate(90,1152)\"><g class=\"shift\"><text x=\"0\" y=\"0\">55f</text></g></g><line class=\"shooting fw connection v-connector\" x1=\"81.0\" x2=\"81.0\" y1=\"1129.2\" y2=\"1150.8\"/><g class=\"shooting virtual block\"><desc>{&quot;trj&quot;: 55, &quot;snp&quot;: 366, &quot;smp&quot;: 97}</desc><rect height=\"14.4\" width=\"16.2\" x=\"27.9\" y=\"1144.8\"/><circle cx=\"45.0\" cy=\"1152\" r=\"0.9\"/><text x=\"36.0\" y=\"1152\">183</text></g><g class=\"shooting virtual block\"><desc>{&quot;trj&quot;: 55, &quot;snp&quot;: 368, &quot;smp&quot;: 97}</desc><rect height=\"14.4\" width=\"16.2\" x=\"45.9\" y=\"1144.8\"/><circle cx=\"45.0\" cy=\"1152\" r=\"0.9\"/><circle cx=\"63.0\" cy=\"1152\" r=\"0.9\"/><text x=\"54.0\" y=\"1152\">184</text></g><g class=\"shooting virtual block\"><desc>{&quot;trj&quot;: 55, &quot;snp&quot;: 370, &quot;smp&quot;: 97}</desc><rect height=\"14.4\" width=\"16.2\" x=\"63.9\" y=\"1144.8\"/><circle cx=\"63.0\" cy=\"1152\" r=\"0.9\"/><circle cx=\"81.0\" cy=\"1152\" r=\"0.9\"/><text x=\"72.0\" y=\"1152\">185</text></g><g class=\"shooting fw block\"><desc>{&quot;trj&quot;: 55, &quot;snp&quot;: 374, &quot;smp&quot;: 97}</desc><rect height=\"14.4\" width=\"16.2\" x=\"81.9\" y=\"1144.8\"/><circle cx=\"81.0\" cy=\"1152\" r=\"0.9\"/><text x=\"90.0\" y=\"1152\">187</text></g><g class=\"hop left label\" transform=\"translate(36,1176)\"><g class=\"shift\"><text x=\"0\" y=\"0\">55h</text></g></g><g class=\"hop overlap h-region\"><line x1=\"27.9\" x2=\"98.1\" y1=\"1176\" y2=\"1176\"/><circle cx=\"27.0\" cy=\"1176\" r=\"0.9\"/><line x1=\"27.0\" x2=\"27.0\" y1=\"1168.8\" y2=\"1183.2\"/><circle cx=\"99.0\" cy=\"1176\" r=\"0.9\"/><line x1=\"99.0\" x2=\"99.0\" y1=\"1168.8\" y2=\"1183.2\"/><text x=\"63.0\" y=\"1168.8\">EnsembleHop</text></g><g class=\"hop virtual block\"><desc>{&quot;trj&quot;: 55, &quot;snp&quot;: 366, &quot;smp&quot;: 98}</desc><rect height=\"14.4\" width=\"16.2\" x=\"27.9\" y=\"1168.8\"/><circle cx=\"45.0\" cy=\"1176\" r=\"0.9\"/><text x=\"36.0\" y=\"1176\">183</text></g><g class=\"hop virtual block\"><desc>{&quot;trj&quot;: 55, &quot;snp&quot;: 368, &quot;smp&quot;: 98}</desc><rect height=\"14.4\" width=\"16.2\" x=\"45.9\" y=\"1168.8\"/><circle cx=\"45.0\" cy=\"1176\" r=\"0.9\"/><circle cx=\"63.0\" cy=\"1176\" r=\"0.9\"/><text x=\"54.0\" y=\"1176\">184</text></g><g class=\"hop virtual block\"><desc>{&quot;trj&quot;: 55, &quot;snp&quot;: 370, &quot;smp&quot;: 98}</desc><rect height=\"14.4\" width=\"16.2\" x=\"63.9\" y=\"1168.8\"/><circle cx=\"63.0\" cy=\"1176\" r=\"0.9\"/><circle cx=\"81.0\" cy=\"1176\" r=\"0.9\"/><text x=\"72.0\" y=\"1176\">185</text></g><g class=\"hop virtual block\"><desc>{&quot;trj&quot;: 55, &quot;snp&quot;: 374, &quot;smp&quot;: 98}</desc><rect height=\"14.4\" width=\"16.2\" x=\"81.9\" y=\"1168.8\"/><circle cx=\"81.0\" cy=\"1176\" r=\"0.9\"/><text x=\"90.0\" y=\"1176\">187</text></g><rect class=\"stateB shade\" height=\"2.4\" width=\"72\" x=\"9.0\" y=\"32.4\"/><rect class=\"stateB shade\" height=\"2.4\" width=\"54\" x=\"27.0\" y=\"56.4\"/><rect class=\"stateB shade\" height=\"2.4\" width=\"18\" x=\"63.0\" y=\"152.4\"/><rect class=\"stateB shade\" height=\"2.4\" width=\"36\" x=\"27.0\" y=\"176.4\"/><rect class=\"stateB shade\" height=\"2.4\" width=\"18\" x=\"63.0\" y=\"224.4\"/><rect class=\"stateB shade\" height=\"2.4\" width=\"36\" x=\"45.0\" y=\"248.4\"/><rect class=\"stateB shade\" height=\"2.4\" width=\"18\" x=\"63.0\" y=\"272.4\"/><rect class=\"stateB shade\" height=\"2.4\" width=\"18\" x=\"27.0\" y=\"320.4\"/><rect class=\"stateB shade\" height=\"2.4\" width=\"18\" x=\"27.0\" y=\"392.4\"/><rect class=\"stateB shade\" height=\"2.4\" width=\"36\" x=\"27.0\" y=\"416.4\"/><rect class=\"stateB shade\" height=\"2.4\" width=\"18\" x=\"27.0\" y=\"440.4\"/><rect class=\"stateB shade\" height=\"2.4\" width=\"18\" x=\"27.0\" y=\"464.4\"/><rect class=\"stateB shade\" height=\"2.4\" width=\"18\" x=\"27.0\" y=\"488.4\"/><rect class=\"stateB shade\" height=\"2.4\" width=\"36\" x=\"27.0\" y=\"512.4\"/><rect class=\"stateB shade\" height=\"2.4\" width=\"18\" x=\"27.0\" y=\"560.4\"/><rect class=\"stateB shade\" height=\"2.4\" width=\"36\" x=\"27.0\" y=\"608.4\"/><rect class=\"stateB shade\" height=\"2.4\" width=\"36\" x=\"27.0\" y=\"680.4\"/><rect class=\"stateB shade\" height=\"2.4\" width=\"36\" x=\"45.0\" y=\"728.4\"/><rect class=\"stateB shade\" height=\"2.4\" width=\"18\" x=\"63.0\" y=\"824.4\"/><rect class=\"stateB shade\" height=\"2.4\" width=\"36\" x=\"27.0\" y=\"848.4\"/><rect class=\"stateB shade\" height=\"2.4\" width=\"36\" x=\"45.0\" y=\"872.4\"/><rect class=\"stateB shade\" height=\"2.4\" width=\"36\" x=\"45.0\" y=\"944.4\"/><rect class=\"stateB shade\" height=\"2.4\" width=\"18\" x=\"27.0\" y=\"992.4\"/><rect class=\"stateB shade\" height=\"2.4\" width=\"18\" x=\"63.0\" y=\"1016.4\"/><rect class=\"stateB shade\" height=\"2.4\" width=\"18\" x=\"63.0\" y=\"1040.4\"/><rect class=\"stateB shade\" height=\"2.4\" width=\"18\" x=\"45.0\" y=\"1112.4\"/><rect class=\"stateB shade\" height=\"2.4\" width=\"18\" x=\"63.0\" y=\"1136.4\"/><rect class=\"stateA shade\" height=\"2.4\" width=\"18\" x=\"-9.0\" y=\"32.4\"/><rect class=\"stateA shade\" height=\"2.4\" width=\"18\" x=\"81.0\" y=\"32.4\"/><rect class=\"stateA shade\" height=\"2.4\" width=\"18\" x=\"81.0\" y=\"56.4\"/><rect class=\"stateA shade\" height=\"2.4\" width=\"18\" x=\"9.0\" y=\"104.4\"/><rect class=\"stateA shade\" height=\"2.4\" width=\"18\" x=\"81.0\" y=\"152.4\"/><rect class=\"stateA shade\" height=\"2.4\" width=\"18\" x=\"9.0\" y=\"176.4\"/><rect class=\"stateA shade\" height=\"2.4\" width=\"18\" x=\"9.0\" y=\"200.4\"/><rect class=\"stateA shade\" height=\"2.4\" width=\"18\" x=\"81.0\" y=\"224.4\"/><rect class=\"stateA shade\" height=\"2.4\" width=\"18\" x=\"81.0\" y=\"248.4\"/><rect class=\"stateA shade\" height=\"2.4\" width=\"18\" x=\"81.0\" y=\"272.4\"/><rect class=\"stateA shade\" height=\"2.4\" width=\"18\" x=\"9.0\" y=\"320.4\"/><rect class=\"stateA shade\" height=\"2.4\" width=\"18\" x=\"9.0\" y=\"344.4\"/><rect class=\"stateA shade\" height=\"2.4\" width=\"18\" x=\"9.0\" y=\"368.4\"/><rect class=\"stateA shade\" height=\"2.4\" width=\"18\" x=\"9.0\" y=\"392.4\"/><rect class=\"stateA shade\" height=\"2.4\" width=\"18\" x=\"9.0\" y=\"416.4\"/><rect class=\"stateA shade\" height=\"2.4\" width=\"18\" x=\"9.0\" y=\"440.4\"/><rect class=\"stateA shade\" height=\"2.4\" width=\"18\" x=\"9.0\" y=\"464.4\"/><rect class=\"stateA shade\" height=\"2.4\" width=\"18\" x=\"9.0\" y=\"488.4\"/><rect class=\"stateA shade\" height=\"2.4\" width=\"18\" x=\"9.0\" y=\"512.4\"/><rect class=\"stateA shade\" height=\"2.4\" width=\"18\" x=\"81.0\" y=\"536.4\"/><rect class=\"stateA shade\" height=\"2.4\" width=\"18\" x=\"9.0\" y=\"560.4\"/><rect class=\"stateA shade\" height=\"2.4\" width=\"18\" x=\"81.0\" y=\"584.4\"/><rect class=\"stateA shade\" height=\"2.4\" width=\"18\" x=\"9.0\" y=\"608.4\"/><rect class=\"stateA shade\" height=\"2.4\" width=\"18\" x=\"81.0\" y=\"632.4\"/><rect class=\"stateA shade\" height=\"2.4\" width=\"18\" x=\"9.0\" y=\"656.4\"/><rect class=\"stateA shade\" height=\"2.4\" width=\"18\" x=\"9.0\" y=\"680.4\"/><rect class=\"stateA shade\" height=\"2.4\" width=\"18\" x=\"81.0\" y=\"704.4\"/><rect class=\"stateA shade\" height=\"2.4\" width=\"18\" x=\"81.0\" y=\"728.4\"/><rect class=\"stateA shade\" height=\"2.4\" width=\"18\" x=\"81.0\" y=\"776.4\"/><rect class=\"stateA shade\" height=\"2.4\" width=\"18\" x=\"81.0\" y=\"800.4\"/><rect class=\"stateA shade\" height=\"2.4\" width=\"18\" x=\"81.0\" y=\"824.4\"/><rect class=\"stateA shade\" height=\"2.4\" width=\"18\" x=\"9.0\" y=\"848.4\"/><rect class=\"stateA shade\" height=\"2.4\" width=\"18\" x=\"81.0\" y=\"872.4\"/><rect class=\"stateA shade\" height=\"2.4\" width=\"18\" x=\"9.0\" y=\"896.4\"/><rect class=\"stateA shade\" height=\"2.4\" width=\"18\" x=\"9.0\" y=\"920.4\"/><rect class=\"stateA shade\" height=\"2.4\" width=\"18\" x=\"81.0\" y=\"944.4\"/><rect class=\"stateA shade\" height=\"2.4\" width=\"18\" x=\"9.0\" y=\"968.4\"/><rect class=\"stateA shade\" height=\"2.4\" width=\"18\" x=\"9.0\" y=\"992.4\"/><rect class=\"stateA shade\" height=\"2.4\" width=\"18\" x=\"81.0\" y=\"1016.4\"/><rect class=\"stateA shade\" height=\"2.4\" width=\"18\" x=\"81.0\" y=\"1040.4\"/><rect class=\"stateA shade\" height=\"2.4\" width=\"18\" x=\"9.0\" y=\"1064.4\"/><rect class=\"stateA shade\" height=\"2.4\" width=\"18\" x=\"9.0\" y=\"1088.4\"/><rect class=\"stateA shade\" height=\"2.4\" width=\"18\" x=\"27.0\" y=\"1112.4\"/><rect class=\"stateA shade\" height=\"2.4\" width=\"18\" x=\"81.0\" y=\"1136.4\"/><rect class=\"stateA shade\" height=\"2.4\" width=\"18\" x=\"81.0\" y=\"1160.4\"/></g></svg>"
      ],
      "text/plain": [
       "<IPython.core.display.SVG object>"
      ]
     },
     "execution_count": 40,
     "metadata": {},
     "output_type": "execute_result"
    }
   ],
   "source": [
    "tree.options['geometry']['scale_x'] = 18\n",
    "tree.options['geometry']['scale_y'] = 24\n",
    "tree.options['geometry']['horizontal_gap'] = True\n",
    "tree.options['ui']['correlation'] = True\n",
    "tree.options['ui']['sample'] = True\n",
    "tree.options['ui']['step'] = True\n",
    "tree.options['ui']['virtual'] = True\n",
    "tree.op = lambda snap : 'B' if snap.reversed else 'F'\n",
    "tree.op = lambda snap : int(psi(snap)[0]/3.1415926 * 180)\n",
    "tree.op = lambda snap : snap.configuration.idx(storage.configurations)\n",
    "tree.states = {\n",
    "    'stateA': storage.cvs[2],\n",
    "    'stateB': storage.cvs[4]\n",
    "}\n",
    "SVG(tree.to_svg())"
   ]
  },
  {
   "cell_type": "markdown",
   "metadata": {},
   "source": [
    "### Phi/Psi Plots"
   ]
  },
  {
   "cell_type": "code",
   "execution_count": 41,
   "metadata": {
    "collapsed": true
   },
   "outputs": [],
   "source": [
    "# Imports for plotting\n",
    "%matplotlib inline\n",
    "import matplotlib\n",
    "import matplotlib.pyplot as plt\n",
    "import matplotlib.pylab as pylab\n",
    "from matplotlib.legend_handler import HandlerLine2D"
   ]
  },
  {
   "cell_type": "markdown",
   "metadata": {},
   "source": [
    "Make sure that all phi/psi values have been computed!"
   ]
  },
  {
   "cell_type": "code",
   "execution_count": 42,
   "metadata": {
    "collapsed": true
   },
   "outputs": [],
   "source": [
    "psi = storage.cvs['psi']\n",
    "phi = storage.cvs['phi']\n",
    "opA = storage.cvs['StateA']"
   ]
  },
  {
   "cell_type": "code",
   "execution_count": 43,
   "metadata": {
    "collapsed": false
   },
   "outputs": [
    {
     "data": {
      "image/png": "[encoded data removed]",
      "text/plain": [
       "<matplotlib.figure.Figure at 0x113d67990>"
      ]
     },
     "metadata": {},
     "output_type": "display_data"
    }
   ],
   "source": [
    "plt.figure(figsize=(8, 8))\n",
    "\n",
    "for traj in storage.trajectories[1:]:\n",
    "    phi_angles = np.array(phi(traj)).flatten() / deg\n",
    "    psi_angles = np.array(psi(traj)).flatten() / deg\n",
    "    plt.plot(phi_angles, psi_angles, 'ro', linewidth=1);\n",
    "    \n",
    "plt.xlim(-180, 180);\n",
    "plt.ylim(-180, 180);"
   ]
  },
  {
   "cell_type": "code",
   "execution_count": 44,
   "metadata": {
    "collapsed": false
   },
   "outputs": [
    {
     "data": {
      "image/png": "[encoded data removed]",
      "text/plain": [
       "<matplotlib.figure.Figure at 0x11ada4290>"
      ]
     },
     "metadata": {},
     "output_type": "display_data"
    }
   ],
   "source": [
    "plt.figure(figsize=(8, 8))\n",
    "\n",
    "\n",
    "for traj in storage.trajectories[1:]:\n",
    "    phi_angles = np.array(phi(traj)).flatten() / deg\n",
    "    psi_angles = np.array(psi(traj)).flatten() / deg\n",
    "    plt.plot(phi_angles, psi_angles, 'k-', linewidth=1);\n",
    "    for idx, snapshot in enumerate(traj):\n",
    "        if opA(snapshot):\n",
    "            plt.plot(phi_angles[idx], psi_angles[idx], 'bo', linewidth=1);\n",
    "        \n",
    "plt.xlim(-180, 180);\n",
    "plt.ylim(-180, 180);"
   ]
  },
  {
   "cell_type": "code",
   "execution_count": null,
   "metadata": {
    "collapsed": true
   },
   "outputs": [],
   "source": []
  }
 ],
 "metadata": {
  "kernelspec": {
   "display_name": "Python 2",
   "language": "python",
   "name": "python2"
  },
  "language_info": {
   "codemirror_mode": {
    "name": "ipython",
    "version": 2
   },
   "file_extension": ".py",
   "mimetype": "text/x-python",
   "name": "python",
   "nbconvert_exporter": "python",
   "pygments_lexer": "ipython2",
   "version": "2.7.10"
  }
 },
 "nbformat": 4,
 "nbformat_minor": 0
}

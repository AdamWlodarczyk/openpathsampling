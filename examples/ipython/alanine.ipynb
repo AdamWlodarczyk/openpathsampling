{
 "cells": [
  {
   "cell_type": "markdown",
   "metadata": {},
   "source": [
    "# OPENTIS\n",
    "## An Example with Alanine"
   ]
  },
  {
   "cell_type": "markdown",
   "metadata": {},
   "source": [
    "Import Modules"
   ]
  },
  {
   "cell_type": "code",
   "execution_count": 1,
   "metadata": {
    "collapsed": true
   },
   "outputs": [],
   "source": [
    "import numpy as np\n",
    "import mdtraj as md\n",
    "import pandas as pd\n",
    "import simtk.openmm as mm\n",
    "from simtk.openmm import app\n",
    "from simtk import unit\n",
    " \n",
    "from openpathsampling.visualize import PathTreeBuilder\n",
    "from IPython.display import SVG\n",
    "\n",
    "import openpathsampling as paths"
   ]
  },
  {
   "cell_type": "markdown",
   "metadata": {},
   "source": [
    "Radians to Degree conversion"
   ]
  },
  {
   "cell_type": "code",
   "execution_count": 2,
   "metadata": {
    "collapsed": true
   },
   "outputs": [],
   "source": [
    "deg = 3.14159265 / 180.0"
   ]
  },
  {
   "cell_type": "markdown",
   "metadata": {},
   "source": [
    "Create an AlanineOpenMMSimulator for demonstration purposes"
   ]
  },
  {
   "cell_type": "markdown",
   "metadata": {},
   "source": [
    "### Set simulation options and create a simulator object"
   ]
  },
  {
   "cell_type": "code",
   "execution_count": 3,
   "metadata": {
    "collapsed": true
   },
   "outputs": [],
   "source": [
    "template = paths.tools.snapshot_from_pdb(\"../data/Alanine_solvated.pdb\")"
   ]
  },
  {
   "cell_type": "code",
   "execution_count": 4,
   "metadata": {
    "collapsed": true
   },
   "outputs": [],
   "source": [
    "storage = paths.Storage(filename=\"trajectory.nc\", template=template, mode='w')"
   ]
  },
  {
   "cell_type": "markdown",
   "metadata": {},
   "source": [
    "Set up the OpenMM simulation"
   ]
  },
  {
   "cell_type": "code",
   "execution_count": 5,
   "metadata": {
    "collapsed": true
   },
   "outputs": [],
   "source": [
    "topology = paths.tools.to_openmm_topology(template)            \n",
    "\n",
    "# Generated using OpenMM Script Builder\n",
    "# http://builder.openmm.org\n",
    "\n",
    "forcefield = app.ForceField(\n",
    "    'amber96.xml',  # solute FF\n",
    "    'tip3p.xml'     # solvent FF\n",
    ")\n",
    "\n",
    "# OpenMM System\n",
    "system = forcefield.createSystem(\n",
    "    topology, \n",
    "    nonbondedMethod=app.PME, \n",
    "    nonbondedCutoff=1.0*unit.nanometers, \n",
    "    constraints=app.HBonds, \n",
    "    rigidWater=True, \n",
    "    ewaldErrorTolerance=0.0005\n",
    ")\n",
    "\n",
    "# OpenMM Integrator\n",
    "integrator = mm.LangevinIntegrator(\n",
    "    300*unit.kelvin, \n",
    "    1.0/unit.picoseconds, \n",
    "    2.0*unit.femtoseconds\n",
    ")\n",
    "integrator.setConstraintTolerance(0.00001)\n",
    "\n",
    "# Engine options\n",
    "options = {\n",
    "    'nsteps_per_frame': 10\n",
    "}\n",
    "\n",
    "engine = paths.OpenMMEngine(\n",
    "    template, \n",
    "    system,\n",
    "    integrator,\n",
    "    options\n",
    ")"
   ]
  },
  {
   "cell_type": "code",
   "execution_count": 6,
   "metadata": {
    "collapsed": true
   },
   "outputs": [],
   "source": [
    "storage.save(engine)"
   ]
  },
  {
   "cell_type": "markdown",
   "metadata": {},
   "source": [
    "And save the storage in a separate variable for convenience"
   ]
  },
  {
   "cell_type": "code",
   "execution_count": 7,
   "metadata": {
    "collapsed": true
   },
   "outputs": [],
   "source": [
    "storage.set_caching_mode('lowmemory')"
   ]
  },
  {
   "cell_type": "markdown",
   "metadata": {},
   "source": [
    "### Order Parameters"
   ]
  },
  {
   "cell_type": "markdown",
   "metadata": {},
   "source": [
    "this generates an order parameter (callable) object named psi (so if we call `psi(trajectory)` we get a list of the values of psi for each frame in the trajectory). This particular order parameter uses mdtraj's compute_dihedrals function, with the atoms in psi_atoms"
   ]
  },
  {
   "cell_type": "code",
   "execution_count": 8,
   "metadata": {
    "collapsed": true
   },
   "outputs": [],
   "source": [
    "psi_atoms = [6,8,14,16]\n",
    "psi = paths.CV_MDTraj_Function(\"psi\", md.compute_dihedrals, indices=[psi_atoms])\n",
    "\n",
    "phi_atoms = [4,6,8,14]\n",
    "phi = paths.CV_MDTraj_Function(\"phi\", md.compute_dihedrals, indices=[phi_atoms])"
   ]
  },
  {
   "cell_type": "code",
   "execution_count": 9,
   "metadata": {
    "collapsed": true
   },
   "outputs": [],
   "source": [
    "storage.save([psi, phi]);"
   ]
  },
  {
   "cell_type": "markdown",
   "metadata": {},
   "source": [
    "### Volumes"
   ]
  },
  {
   "cell_type": "markdown",
   "metadata": {},
   "source": [
    "This creates two states using a one-dimensional order parameter (called _Lambda_ in TIS terminology). A snapshot is in the State as long as the order parameter is with specific bounds. \n",
    "\n",
    "StateA is $\\psi \\in [-120, -30]$ and StateB is $\\psi \\in [100, 180]$"
   ]
  },
  {
   "cell_type": "code",
   "execution_count": 10,
   "metadata": {
    "collapsed": true
   },
   "outputs": [],
   "source": [
    "stateA = paths.CVRangeVolumePeriodic(\n",
    "    collectivevariable=psi, \n",
    "    lambda_min=-120.0*deg, \n",
    "    lambda_max=-30.0*deg, \n",
    "    period_min=-180.0*deg, \n",
    "    period_max=+180.0*deg\n",
    ")\n",
    "stateB = paths.CVRangeVolumePeriodic(\n",
    "    collectivevariable=psi, \n",
    "    lambda_min=100.0*deg, \n",
    "    lambda_max=180.0*deg, \n",
    "    period_min=-180.0*deg, \n",
    "    period_max=+180.0*deg\n",
    ")"
   ]
  },
  {
   "cell_type": "markdown",
   "metadata": {},
   "source": [
    "Now do the same for a set of lambda ranges to produce nested volumes."
   ]
  },
  {
   "cell_type": "code",
   "execution_count": 11,
   "metadata": {
    "collapsed": true
   },
   "outputs": [],
   "source": [
    "minima = map(deg.__mul__, [-125, -135, -140, -142.5, -145.0, -147.0, -150.0])\n",
    "maxima = map(deg.__mul__, [-25.0, -21.0, -18.5, -17.0, -15.0, -10.0, 0.0])\n",
    "\n",
    "volume_set = paths.VolumeFactory.CVRangeVolumePeriodicSet(psi, minima, maxima, -180.0*deg, +180.0*deg)"
   ]
  },
  {
   "cell_type": "markdown",
   "metadata": {},
   "source": [
    "### Ensembles"
   ]
  },
  {
   "cell_type": "markdown",
   "metadata": {},
   "source": [
    "Now do this automatically for all ensembles"
   ]
  },
  {
   "cell_type": "code",
   "execution_count": 12,
   "metadata": {
    "collapsed": true
   },
   "outputs": [],
   "source": [
    "interface0 = volume_set[0]\n",
    "interface_set = paths.EnsembleFactory.TISEnsembleSet(stateA, stateA | stateB, volume_set, psi)"
   ]
  },
  {
   "cell_type": "markdown",
   "metadata": {},
   "source": [
    "Give each interface a name"
   ]
  },
  {
   "cell_type": "code",
   "execution_count": 13,
   "metadata": {
    "collapsed": true
   },
   "outputs": [],
   "source": [
    "for no, interface in enumerate(interface_set):\n",
    "    interface.name = 'Interface ' + str(no)"
   ]
  },
  {
   "cell_type": "markdown",
   "metadata": {},
   "source": [
    "and save all of these"
   ]
  },
  {
   "cell_type": "code",
   "execution_count": 14,
   "metadata": {
    "collapsed": true
   },
   "outputs": [],
   "source": [
    "map(storage.ensembles.save, interface_set);"
   ]
  },
  {
   "cell_type": "markdown",
   "metadata": {},
   "source": [
    "And create a special ensemble, that will create a first trajectory in the innermost TIS ensemble independent from where we start"
   ]
  },
  {
   "cell_type": "markdown",
   "metadata": {},
   "source": [
    "The idea is to describe a trajectory type by a sequence of positions. First can be outside of stateA or not, then be inside stateA, etc..."
   ]
  },
  {
   "cell_type": "code",
   "execution_count": 15,
   "metadata": {
    "collapsed": true
   },
   "outputs": [],
   "source": [
    "inA = paths.AllInXEnsemble(stateA)\n",
    "outA = paths.AllOutXEnsemble(stateA)\n",
    "\n",
    "inI0 = paths.AllInXEnsemble(interface0)\n",
    "outI0 = paths.AllOutXEnsemble(interface0)\n",
    "\n",
    "first_traj_ensemble = paths.SequentialEnsemble([\n",
    "    paths.OptionalEnsemble(outA),\n",
    "    inA,\n",
    "    paths.OptionalEnsemble(outA & inI0),\n",
    "    paths.OptionalEnsemble(inI0),\n",
    "    outI0,\n",
    "    paths.OptionalEnsemble(outA),\n",
    "    paths.SingleFrameEnsemble(inA)\n",
    "])"
   ]
  },
  {
   "cell_type": "markdown",
   "metadata": {},
   "source": [
    "### start path generation"
   ]
  },
  {
   "cell_type": "markdown",
   "metadata": {},
   "source": [
    "so lets try and see if we can generate a first path"
   ]
  },
  {
   "cell_type": "markdown",
   "metadata": {},
   "source": [
    "load the initial snapshot (although we still have it) and generate using the Alanine simulator. The second option specifies a function : trajectory -> bool that keeps the simulation running as long as it is true. Our goal was to generate a path that belongs to a specific ensemble, so we use `forward` to determine if it makes sense to keep running or if the result cannot belong to the ensemble anymore."
   ]
  },
  {
   "cell_type": "code",
   "execution_count": 16,
   "metadata": {
    "collapsed": true
   },
   "outputs": [],
   "source": [
    "snapshot = storage.template\n",
    "total_path = engine.generate(\n",
    "    snapshot= snapshot, \n",
    "    running = [first_traj_ensemble.can_append]\n",
    ")"
   ]
  },
  {
   "cell_type": "markdown",
   "metadata": {},
   "source": [
    "Show the length"
   ]
  },
  {
   "cell_type": "code",
   "execution_count": 17,
   "metadata": {
    "collapsed": false
   },
   "outputs": [
    {
     "name": "stdout",
     "output_type": "stream",
     "text": [
      "Total trajectory length:  40\n"
     ]
    }
   ],
   "source": [
    "print \"Total trajectory length: \", len(total_path)"
   ]
  },
  {
   "cell_type": "markdown",
   "metadata": {},
   "source": [
    "And save the trajetory completely"
   ]
  },
  {
   "cell_type": "code",
   "execution_count": 18,
   "metadata": {
    "collapsed": true
   },
   "outputs": [],
   "source": [
    "storage.save(total_path);"
   ]
  },
  {
   "cell_type": "markdown",
   "metadata": {},
   "source": [
    "Split the trajectory into parts that belong to the TIS ensemble (not the one we generated)"
   ]
  },
  {
   "cell_type": "code",
   "execution_count": 19,
   "metadata": {
    "collapsed": false
   },
   "outputs": [
    {
     "name": "stdout",
     "output_type": "stream",
     "text": [
      "Traj in first_traj_ensemble? (should be) True\n",
      "Traj in TIS ensemble? (probably not) False\n",
      "Number of segments in TIS ensemble:  1\n",
      "Length of each segment:\n",
      "  seg[0]: 18\n"
     ]
    }
   ],
   "source": [
    "interface0_ensemble = interface_set[0]\n",
    "segments = interface0_ensemble.split(total_path)\n",
    "\n",
    "print \"Traj in first_traj_ensemble? (should be)\", \n",
    "print first_traj_ensemble(total_path)\n",
    "\n",
    "print \"Traj in TIS ensemble? (probably not)\", \n",
    "print interface0_ensemble(total_path)\n",
    "\n",
    "\n",
    "print \"Number of segments in TIS ensemble: \", len(segments)\n",
    "if len(segments):\n",
    "    print \"Length of each segment:\"\n",
    "    for i in range(len(segments)):\n",
    "        print \"  seg[{0}]: {1}\".format(i, len(segments[i]))"
   ]
  },
  {
   "cell_type": "markdown",
   "metadata": {},
   "source": [
    "Show some results and check if this worked"
   ]
  },
  {
   "cell_type": "code",
   "execution_count": 20,
   "metadata": {
    "collapsed": false
   },
   "outputs": [
    {
     "data": {
      "text/html": [
       "<div>\n",
       "<table border=\"1\" class=\"dataframe\">\n",
       "  <thead>\n",
       "    <tr style=\"text-align: right;\">\n",
       "      <th></th>\n",
       "      <th>phi</th>\n",
       "      <th>psi</th>\n",
       "      <th>stateA</th>\n",
       "      <th>interface0</th>\n",
       "      <th>stateB</th>\n",
       "      <th>appendable</th>\n",
       "    </tr>\n",
       "  </thead>\n",
       "  <tbody>\n",
       "    <tr>\n",
       "      <th>0</th>\n",
       "      <td>-80.208455</td>\n",
       "      <td>-10.277032</td>\n",
       "      <td>False</td>\n",
       "      <td>False</td>\n",
       "      <td>False</td>\n",
       "      <td>True</td>\n",
       "    </tr>\n",
       "    <tr>\n",
       "      <th>1</th>\n",
       "      <td>-83.774961</td>\n",
       "      <td>-11.559647</td>\n",
       "      <td>False</td>\n",
       "      <td>False</td>\n",
       "      <td>False</td>\n",
       "      <td>True</td>\n",
       "    </tr>\n",
       "    <tr>\n",
       "      <th>2</th>\n",
       "      <td>-79.579866</td>\n",
       "      <td>-13.974571</td>\n",
       "      <td>False</td>\n",
       "      <td>False</td>\n",
       "      <td>False</td>\n",
       "      <td>True</td>\n",
       "    </tr>\n",
       "    <tr>\n",
       "      <th>37</th>\n",
       "      <td>-74.457456</td>\n",
       "      <td>-20.236828</td>\n",
       "      <td>False</td>\n",
       "      <td>False</td>\n",
       "      <td>False</td>\n",
       "      <td>True</td>\n",
       "    </tr>\n",
       "    <tr>\n",
       "      <th>38</th>\n",
       "      <td>-68.972924</td>\n",
       "      <td>-25.302694</td>\n",
       "      <td>False</td>\n",
       "      <td>True</td>\n",
       "      <td>False</td>\n",
       "      <td>True</td>\n",
       "    </tr>\n",
       "    <tr>\n",
       "      <th>39</th>\n",
       "      <td>-59.584153</td>\n",
       "      <td>-37.421121</td>\n",
       "      <td>True</td>\n",
       "      <td>True</td>\n",
       "      <td>False</td>\n",
       "      <td>False</td>\n",
       "    </tr>\n",
       "  </tbody>\n",
       "</table>\n",
       "</div>"
      ],
      "text/plain": [
       "          phi        psi stateA interface0 stateB appendable\n",
       "0  -80.208455 -10.277032  False      False  False       True\n",
       "1  -83.774961 -11.559647  False      False  False       True\n",
       "2  -79.579866 -13.974571  False      False  False       True\n",
       "37 -74.457456 -20.236828  False      False  False       True\n",
       "38 -68.972924 -25.302694  False       True  False       True\n",
       "39 -59.584153 -37.421121   True       True  False      False"
      ]
     },
     "execution_count": 20,
     "metadata": {},
     "output_type": "execute_result"
    }
   ],
   "source": [
    "data = []\n",
    "for frame in total_path:\n",
    "    data.append((phi(frame) / deg, psi(frame)/deg, stateA(frame), interface0(frame), stateB(frame), first_traj_ensemble.can_append(total_path[slice(0,total_path.index(frame)+1)])))\n",
    "    \n",
    "dataframe = pd.DataFrame(data, columns=['phi', 'psi', 'stateA', 'interface0', 'stateB', 'appendable'])\n",
    "dataframe[[0,1,2,3,4,5]].ix[[0,1,2,len(dataframe)-3,len(dataframe)-2,len(dataframe)-1]]"
   ]
  },
  {
   "cell_type": "code",
   "execution_count": 21,
   "metadata": {
    "collapsed": false
   },
   "outputs": [
    {
     "name": "stdout",
     "output_type": "stream",
     "text": [
      "Do our segments satisfy the ensemble? True\n"
     ]
    }
   ],
   "source": [
    "print \"Do our segments satisfy the ensemble?\",\n",
    "for seg in segments:\n",
    "    print interface0_ensemble(seg),"
   ]
  },
  {
   "cell_type": "code",
   "execution_count": 22,
   "metadata": {
    "collapsed": false
   },
   "outputs": [
    {
     "data": {
      "text/html": [
       "<div>\n",
       "<table border=\"1\" class=\"dataframe\">\n",
       "  <thead>\n",
       "    <tr style=\"text-align: right;\">\n",
       "      <th></th>\n",
       "      <th>phi</th>\n",
       "      <th>psi</th>\n",
       "      <th>stateA</th>\n",
       "      <th>interface0</th>\n",
       "      <th>stateB</th>\n",
       "      <th>appendable</th>\n",
       "    </tr>\n",
       "  </thead>\n",
       "  <tbody>\n",
       "    <tr>\n",
       "      <th>0</th>\n",
       "      <td>-68.887198</td>\n",
       "      <td>-31.244639</td>\n",
       "      <td>True</td>\n",
       "      <td>True</td>\n",
       "      <td>False</td>\n",
       "      <td>True</td>\n",
       "    </tr>\n",
       "    <tr>\n",
       "      <th>1</th>\n",
       "      <td>-74.151293</td>\n",
       "      <td>-21.569075</td>\n",
       "      <td>False</td>\n",
       "      <td>False</td>\n",
       "      <td>False</td>\n",
       "      <td>True</td>\n",
       "    </tr>\n",
       "    <tr>\n",
       "      <th>2</th>\n",
       "      <td>-73.014012</td>\n",
       "      <td>-18.030740</td>\n",
       "      <td>False</td>\n",
       "      <td>True</td>\n",
       "      <td>False</td>\n",
       "      <td>True</td>\n",
       "    </tr>\n",
       "    <tr>\n",
       "      <th>3</th>\n",
       "      <td>-72.237119</td>\n",
       "      <td>-16.501035</td>\n",
       "      <td>False</td>\n",
       "      <td>False</td>\n",
       "      <td>False</td>\n",
       "      <td>True</td>\n",
       "    </tr>\n",
       "    <tr>\n",
       "      <th>4</th>\n",
       "      <td>-68.092642</td>\n",
       "      <td>-16.659545</td>\n",
       "      <td>False</td>\n",
       "      <td>True</td>\n",
       "      <td>False</td>\n",
       "      <td>True</td>\n",
       "    </tr>\n",
       "    <tr>\n",
       "      <th>5</th>\n",
       "      <td>-74.676139</td>\n",
       "      <td>-10.592809</td>\n",
       "      <td>False</td>\n",
       "      <td>True</td>\n",
       "      <td>False</td>\n",
       "      <td>True</td>\n",
       "    </tr>\n",
       "    <tr>\n",
       "      <th>6</th>\n",
       "      <td>-86.608383</td>\n",
       "      <td>-14.712863</td>\n",
       "      <td>False</td>\n",
       "      <td>True</td>\n",
       "      <td>False</td>\n",
       "      <td>True</td>\n",
       "    </tr>\n",
       "    <tr>\n",
       "      <th>7</th>\n",
       "      <td>-90.017003</td>\n",
       "      <td>-8.255070</td>\n",
       "      <td>False</td>\n",
       "      <td>False</td>\n",
       "      <td>False</td>\n",
       "      <td>True</td>\n",
       "    </tr>\n",
       "    <tr>\n",
       "      <th>8</th>\n",
       "      <td>-85.707386</td>\n",
       "      <td>-21.803424</td>\n",
       "      <td>False</td>\n",
       "      <td>False</td>\n",
       "      <td>False</td>\n",
       "      <td>True</td>\n",
       "    </tr>\n",
       "    <tr>\n",
       "      <th>9</th>\n",
       "      <td>-91.375077</td>\n",
       "      <td>-11.166323</td>\n",
       "      <td>False</td>\n",
       "      <td>False</td>\n",
       "    </tr>\n",
       "    <tr>\n",
       "      <th>10</th>\n",
       "      <td>-91.804019</td>\n",
       "      <td>-9.609619</td>\n",
       "      <td>False</td>\n",
       "      <td>False</td>\n",
       "      <td>False</td>\n",
       "      <td>True</td>\n",
       "    </tr>\n",
       "    <tr>\n",
       "      <th>11</th>\n",
       "      <td>-90.473444</td>\n",
       "      <td>-13.500860</td>\n",
       "      <td>False</td>\n",
       "      <td>False</td>\n",
       "      <td>False</td>\n",
       "      <td>True</td>\n",
       "    </tr>\n",
       "    <tr>\n",
       "      <th>12</th>\n",
       "      <td>-91.885961</td>\n",
       "      <td>-10.639313</td>\n",
       "      <td>False</td>\n",
       "      <td>False</td>\n",
       "      <td>False</td>\n",
       "      <td>True</td>\n",
       "    </tr>\n",
       "    <tr>\n",
       "      <th>13</th>\n",
       "      <td>-81.897076</td>\n",
       "      <td>-14.837976</td>\n",
       "      <td>False</td>\n",
       "      <td>False</td>\n",
       "      <td>False</td>\n",
       "      <td>True</td>\n",
       "    </tr>\n",
       "    <tr>\n",
       "      <th>14</th>\n",
       "      <td>-84.237099</td>\n",
       "      <td>-13.323054</td>\n",
       "      <td>False</td>\n",
       "      <td>False</td>\n",
       "      <td>False</td>\n",
       "      <td>True</td>\n",
       "    </tr>\n",
       "    <tr>\n",
       "      <th>15</th>\n",
       "      <td>-74.457456</td>\n",
       "      <td>-20.236828</td>\n",
       "      <td>False</td>\n",
       "      <td>False</td>\n",
       "      <td>False</td>\n",
       "      <td>True</td>\n",
       "    </tr>\n",
       "    <tr>\n",
       "      <th>16</th>\n",
       "      <td>-68.972924</td>\n",
       "      <td>-25.302694</td>\n",
       "      <td>False</td>\n",
       "      <td>True</td>\n",
       "      <td>False</td>\n",
       "      <td>True</td>\n",
       "    </tr>\n",
       "    <tr>\n",
       "      <th>17</th>\n",
       "      <td>-59.584153</td>\n",
       "      <td>-37.421121</td>\n",
       "      <td>True</td>\n",
       "      <td>True</td>\n",
       "      <td>False</td>\n",
       "      <td>False</td>\n",
       "    </tr>\n",
       "  </tbody>\n",
       "</table>\n",
       "</div>"
      ],
      "text/plain": [
       "          phi        psi stateA interface0 stateB appendable\n",
       "0  -68.887198 -31.244639   True       True  False       True\n",
       "1  -74.151293 -21.569075  False      False  False       True\n",
       "2  -73.014012 -18.030740  False      False  False       True\n",
       "3  -72.237119 -16.501035  False      False  False       True\n",
       "4  -68.092642 -16.659545  False      False  False       True\n",
       "5  -74.676139 -10.592809  False      False  False       True\n",
       "6  -86.608383 -14.712863  False      False  False       True\n",
       "7  -90.017003  -8.255070  False      False  False       True\n",
       "8  -85.707386 -21.803424  False      False  False       True\n",
       "9  -91.375077 -11.166323  False      False  False       True\n",
       "10 -91.804019  -9.609619  False      False  False       True\n",
       "11 -90.473444 -13.500860  False      False  False       True\n",
       "12 -91.885961 -10.639313  False      False  False       True\n",
       "13 -81.897076 -14.837976  False      False  False       True\n",
       "14 -84.237099 -13.323054  False      False  False       True\n",
       "15 -74.457456 -20.236828  False      False  False       True\n",
       "16 -68.972924 -25.302694  False       True  False       True\n",
       "17 -59.584153 -37.421121   True       True  False      False"
      ]
     },
     "execution_count": 22,
     "metadata": {},
     "output_type": "execute_result"
    }
   ],
   "source": [
    "data = []\n",
    "for frame in segments[0]:\n",
    "    data.append((phi(frame)/deg, psi(frame)/deg, stateA(frame), interface0(frame), stateB(frame), first_traj_ensemble.can_append(total_path[slice(0,total_path.index(frame)+1)])))\n",
    "    \n",
    "dataframe = pd.DataFrame(data, columns=['phi', 'psi', 'stateA', 'interface0', 'stateB', 'appendable'])\n",
    "dataframe[[0,1,2,3,4,5]]"
   ]
  },
  {
   "cell_type": "markdown",
   "metadata": {},
   "source": [
    "### Bootstrapping"
   ]
  },
  {
   "cell_type": "markdown",
   "metadata": {},
   "source": [
    "Run a bootstrapping (not TIS) simulation that shoots from an ensemble until the next interface is reached then switch to the next ensemble to drive the system out of stateA"
   ]
  },
  {
   "cell_type": "code",
   "execution_count": 23,
   "metadata": {
    "collapsed": true
   },
   "outputs": [],
   "source": [
    "mover_set = paths.PathMoverFactory.OneWayShootingSet(paths.UniformSelector(), interface_set)"
   ]
  },
  {
   "cell_type": "code",
   "execution_count": 24,
   "metadata": {
    "collapsed": true
   },
   "outputs": [],
   "source": [
    "bootstrap = paths.Bootstrapping(storage=storage,\n",
    "                          engine=engine,\n",
    "                          ensembles=interface_set,\n",
    "                          movers=mover_set,\n",
    "                          trajectory=segments[0])"
   ]
  },
  {
   "cell_type": "markdown",
   "metadata": {},
   "source": [
    "Run Bootstrapping with at most 50 attempts per ensemble"
   ]
  },
  {
   "cell_type": "code",
   "execution_count": 25,
   "metadata": {
    "collapsed": false
   },
   "outputs": [
    {
     "name": "stdout",
     "output_type": "stream",
     "text": [
      "DONE! Completed Bootstrapping cycle step 24 in ensemble 7/7 .\n",
      "\n"
     ]
    }
   ],
   "source": [
    "bootstrap.run(50)"
   ]
  },
  {
   "cell_type": "markdown",
   "metadata": {},
   "source": [
    "Save all computed phi/psi values which depends on whether they have been needed before"
   ]
  },
  {
   "cell_type": "code",
   "execution_count": 29,
   "metadata": {
    "collapsed": true
   },
   "outputs": [],
   "source": [
    "storage.cvs.sync()"
   ]
  },
  {
   "cell_type": "markdown",
   "metadata": {},
   "source": [
    "Create an collectivevariable from a volume which is just 1 or 0 and can thus be stored for later analysis"
   ]
  },
  {
   "cell_type": "code",
   "execution_count": 30,
   "metadata": {
    "collapsed": true
   },
   "outputs": [],
   "source": [
    "op_inA = paths.CV_Volume('StateA', stateA)\n",
    "op_inB = paths.CV_Volume('StateB', stateB)\n",
    "op_notinAorB = paths.CV_Volume('StateX', ~ (stateA | stateB))"
   ]
  },
  {
   "cell_type": "markdown",
   "metadata": {},
   "source": [
    "Save the new collectivevariables"
   ]
  },
  {
   "cell_type": "code",
   "execution_count": 31,
   "metadata": {
    "collapsed": true
   },
   "outputs": [],
   "source": [
    "storage.save([op_inA, op_inB, op_notinAorB]);"
   ]
  },
  {
   "cell_type": "markdown",
   "metadata": {},
   "source": [
    "Compute the collectivevariable for all snapshots"
   ]
  },
  {
   "cell_type": "code",
   "execution_count": 32,
   "metadata": {
    "collapsed": true
   },
   "outputs": [],
   "source": [
    "psi(storage.snapshots.all());\n",
    "phi(storage.snapshots.all());"
   ]
  },
  {
   "cell_type": "code",
   "execution_count": 33,
   "metadata": {
    "collapsed": true
   },
   "outputs": [],
   "source": [
    "op_inA(storage.snapshots.all())\n",
    "op_inB(storage.snapshots.all())\n",
    "op_notinAorB(storage.snapshots.all());"
   ]
  },
  {
   "cell_type": "code",
   "execution_count": 34,
   "metadata": {
    "collapsed": true
   },
   "outputs": [],
   "source": [
    "storage.cvs.sync()\n",
    "storage.sync()"
   ]
  },
  {
   "cell_type": "code",
   "execution_count": 35,
   "metadata": {
    "collapsed": true
   },
   "outputs": [],
   "source": [
    "storage.close()"
   ]
  },
  {
   "cell_type": "code",
   "execution_count": 36,
   "metadata": {
    "collapsed": true
   },
   "outputs": [],
   "source": [
    "import openpathsampling as paths\n",
    "from openpathsampling.visualize import PathTreeBuilder\n",
    "from IPython.display import SVG\n",
    "import mdtraj"
   ]
  },
  {
   "cell_type": "code",
   "execution_count": 37,
   "metadata": {
    "collapsed": true
   },
   "outputs": [],
   "source": [
    "storage = paths.AnalysisStorage('trajectory.nc')"
   ]
  },
  {
   "cell_type": "markdown",
   "metadata": {},
   "source": [
    "## Visualization"
   ]
  },
  {
   "cell_type": "markdown",
   "metadata": {},
   "source": [
    "Create a PathTree generator"
   ]
  },
  {
   "cell_type": "code",
   "execution_count": 38,
   "metadata": {
    "collapsed": true
   },
   "outputs": [],
   "source": [
    "tree = PathTreeBuilder(storage)"
   ]
  },
  {
   "cell_type": "markdown",
   "metadata": {},
   "source": [
    "Change the settings to show rejected pathways, mark OrderParaemters `stateA` and `stateX`, and show the 'psi' value as text inside of the boxes"
   ]
  },
  {
   "cell_type": "code",
   "execution_count": 39,
   "metadata": {
    "collapsed": true
   },
   "outputs": [],
   "source": [
    "tree.rejected = False\n",
    "tree.states = {'orange': storage.cvs[2]}\n",
    "# Some ideas for collectivevariables to visualize\n",
    "tree.op = lambda snap : 'B' if snap.reversed else 'F'\n",
    "tree.op = lambda snap : int(psi(snap)[0]/3.1415926 * 180)\n",
    "tree.op = lambda snap : snap.configuration.idx(storage.configurations)\n",
    "samps = tree.construct_heritage(storage.samples.last)\n",
    "tree.from_samples(samps)\n",
    "#for sset in storage.samplesets:\n",
    "#    print sset.movepath\n",
    "    \n",
    "#for s in samps:\n",
    "#    print (s, s.ensemble.idx[storage], s.replica, len(tree.construct_heritage(s)), s.mover.__class__.__name__)"
   ]
  },
  {
   "cell_type": "markdown",
   "metadata": {},
   "source": [
    "Render the tree"
   ]
  },
  {
   "cell_type": "code",
   "execution_count": 40,
   "metadata": {
    "collapsed": false
   },
   "outputs": [
    {
     "data": {
      "image/svg+xml": [
       "<svg baseProfile=\"full\" class=\"opstree\" height=\"100%\" version=\"1.1\" viewBox=\"120.00 38.40 1309.20 691.20\" width=\"100%\" xmlns=\"http://www.w3.org/2000/svg\" xmlns:ev=\"http://www.w3.org/2001/xml-events\" xmlns:xlink=\"http://www.w3.org/1999/xlink\"><defs><style type=\"text/css\"><![CDATA[\n",
       "            .opstree text {\n",
       "                alignment-baseline: central;\n",
       "                font-size: 10px;\n",
       "                text-anchor: middle;\n",
       "            }\n",
       "            .opstree text.bw.label {\n",
       "                text-anchor: end;\n",
       "            }\n",
       "            .opstree text.fw.label {\n",
       "                text-anchor: start;\n",
       "            }\n",
       "            .opstree text.block {\n",
       "                fill: white !important;\n",
       "                stroke: none !important;\n",
       "            }\n",
       "            .opstree .repex {\n",
       "                fill: blue;\n",
       "            }\n",
       "            .opstree .new {\n",
       "                fill: black;\n",
       "            }\n",
       "            .opstree .hop {\n",
       "                fill: blue;\n",
       "            }\n",
       "            .opstree .shooting.bw {\n",
       "                fill: green;\n",
       "                stroke: green;\n",
       "            }\n",
       "            .opstree .shooting.fw {\n",
       "                fill: red;\n",
       "                stroke: red;\n",
       "            }\n",
       "            .opstree .reversal {\n",
       "                fill: gold;\n",
       "            }\n",
       "            .opstree line {\n",
       "                stroke-width: 2px;\n",
       "            }\n",
       "            .opstree .label {\n",
       "                fill: black !important;\n",
       "            }\n",
       "            .opstree .connection {\n",
       "                stroke-dasharray: 3 3;\n",
       "            }\n",
       "            .opstree .rejected {\n",
       "                opacity: 0.3;\n",
       "            }\n",
       "            .opstree text {\n",
       "                font-family: Impact;\n",
       "            }\n",
       "            .opstree .orange {\n",
       "                fill: orange;\n",
       "            }\n",
       "            .tableline {\n",
       "                fill: gray;\n",
       "                opacity: 0.0;\n",
       "            }\n",
       "            .tableline:hover {\n",
       "                opacity: 0.2;\n",
       "            }\n",
       "            ]]></style></defs><rect class=\"orange shade\" height=\"2.4\" width=\"24.0\" x=\"1404.0\" y=\"704.4\"/><rect class=\"orange shade\" height=\"2.4\" width=\"24.0\" x=\"396.0\" y=\"680.4\"/><rect class=\"orange shade\" height=\"2.4\" width=\"24.0\" x=\"900.0\" y=\"656.4\"/><rect class=\"orange shade\" height=\"2.4\" width=\"24.0\" x=\"900.0\" y=\"632.4\"/><rect class=\"orange shade\" height=\"2.4\" width=\"24.0\" x=\"900.0\" y=\"608.4\"/><rect class=\"orange shade\" height=\"2.4\" width=\"24.0\" x=\"852.0\" y=\"584.4\"/><rect class=\"orange shade\" height=\"2.4\" width=\"24.0\" x=\"852.0\" y=\"560.4\"/><rect class=\"orange shade\" height=\"2.4\" width=\"24.0\" x=\"900.0\" y=\"536.4\"/><rect class=\"orange shade\" height=\"2.4\" width=\"24.0\" x=\"396.0\" y=\"512.4\"/><rect class=\"orange shade\" height=\"2.4\" width=\"24.0\" x=\"900.0\" y=\"488.4\"/><rect class=\"orange shade\" height=\"2.4\" width=\"24.0\" x=\"492.0\" y=\"440.4\"/><rect class=\"orange shade\" height=\"2.4\" width=\"24.0\" x=\"924.0\" y=\"416.4\"/><rect class=\"orange shade\" height=\"2.4\" width=\"24.0\" x=\"924.0\" y=\"392.4\"/><rect class=\"orange shade\" height=\"2.4\" width=\"24.0\" x=\"516.0\" y=\"368.4\"/><rect class=\"orange shade\" height=\"2.4\" width=\"24.0\" x=\"924.0\" y=\"320.4\"/><rect class=\"orange shade\" height=\"2.4\" width=\"24.0\" x=\"540.0\" y=\"272.4\"/><rect class=\"orange shade\" height=\"2.4\" width=\"24.0\" x=\"924.0\" y=\"248.4\"/><rect class=\"orange shade\" height=\"2.4\" width=\"24.0\" x=\"948.0\" y=\"224.4\"/><rect class=\"orange shade\" height=\"2.4\" width=\"24.0\" x=\"948.0\" y=\"200.4\"/><rect class=\"orange shade\" height=\"2.4\" width=\"24.0\" x=\"588.0\" y=\"176.4\"/><rect class=\"orange shade\" height=\"2.4\" width=\"24.0\" x=\"972.0\" y=\"128.4\"/><rect class=\"orange shade\" height=\"2.4\" width=\"24.0\" x=\"924.0\" y=\"80.4\"/><rect class=\"orange shade\" height=\"2.4\" width=\"24.0\" x=\"396.0\" y=\"80.4\"/><text class=\"unknown left label\" x=\"360.0\" y=\"72.0\">2+</text><rect class=\"unknown overlap range\" height=\"2.4\" width=\"549.6\" x=\"397.2\" y=\"70.8\"/><circle class=\"unknown overlap range\" cx=\"396.0\" cy=\"72.0\" r=\"1.2\"/><rect class=\"unknown overlap range\" height=\"14.4\" width=\"2.4\" x=\"397.2\" y=\"64.8\"/><circle class=\"unknown overlap range\" cx=\"948.0\" cy=\"72.0\" r=\"1.2\"/><rect class=\"unknown overlap range\" height=\"14.4\" width=\"2.4\" x=\"944.4\" y=\"64.8\"/><text class=\"unknown overlap range\" x=\"672.0\" y=\"64.8\"/><text class=\"hop left label\" x=\"360.0\" y=\"96.0\">2h</text><rect class=\"hop overlap range\" height=\"2.4\" width=\"549.6\" x=\"397.2\" y=\"94.8\"/><circle class=\"hop overlap range\" cx=\"396.0\" cy=\"96.0\" r=\"1.2\"/><rect class=\"hop overlap range\" height=\"14.4\" width=\"2.4\" x=\"397.2\" y=\"88.8\"/><circle class=\"hop overlap range\" cx=\"948.0\" cy=\"96.0\" r=\"1.2\"/><rect class=\"hop overlap range\" height=\"14.4\" width=\"2.4\" x=\"944.4\" y=\"88.8\"/><text class=\"hop overlap range\" x=\"672.0\" y=\"88.8\">EnsembleHop</text><text class=\"shooting left label\" x=\"360.0\" y=\"120.0\">3f</text><line class=\"shooting fw connection v-connection\" x1=\"540.0\" x2=\"540.0\" y1=\"73.2\" y2=\"118.8\"/><rect class=\"shooting fw block\" height=\"14.4\" width=\"21.6\" x=\"541.2\" y=\"112.8\"/><circle class=\"shooting fw block\" cx=\"540.0\" cy=\"120.0\" r=\"1.2\"/><circle class=\"shooting fw block\" cx=\"564.0\" cy=\"120.0\" r=\"1.2\"/><text class=\"shooting fw block\" x=\"552.0\" y=\"120.0\">56</text><rect class=\"shooting fw block\" height=\"14.4\" width=\"21.6\" x=\"565.2\" y=\"112.8\"/><circle class=\"shooting fw block\" cx=\"564.0\" cy=\"120.0\" r=\"1.2\"/><circle class=\"shooting fw block\" cx=\"588.0\" cy=\"120.0\" r=\"1.2\"/><text class=\"shooting fw block\" x=\"576.0\" y=\"120.0\">57</text><rect class=\"shooting fw block\" height=\"14.4\" width=\"21.6\" x=\"589.2\" y=\"112.8\"/><circle class=\"shooting fw block\" cx=\"588.0\" cy=\"120.0\" r=\"1.2\"/><circle class=\"shooting fw block\" cx=\"612.0\" cy=\"120.0\" r=\"1.2\"/><text class=\"shooting fw block\" x=\"600.0\" y=\"120.0\">58</text><rect class=\"shooting fw block\" height=\"14.4\" width=\"21.6\" x=\"613.2\" y=\"112.8\"/><circle class=\"shooting fw block\" cx=\"612.0\" cy=\"120.0\" r=\"1.2\"/><circle class=\"shooting fw block\" cx=\"636.0\" cy=\"120.0\" r=\"1.2\"/><text class=\"shooting fw block\" x=\"624.0\" y=\"120.0\">59</text><rect class=\"shooting fw block\" height=\"14.4\" width=\"21.6\" x=\"637.2\" y=\"112.8\"/><circle class=\"shooting fw block\" cx=\"636.0\" cy=\"120.0\" r=\"1.2\"/><circle class=\"shooting fw block\" cx=\"660.0\" cy=\"120.0\" r=\"1.2\"/><text class=\"shooting fw block\" x=\"648.0\" y=\"120.0\">60</text><rect class=\"shooting fw block\" height=\"14.4\" width=\"21.6\" x=\"661.2\" y=\"112.8\"/><circle class=\"shooting fw block\" cx=\"660.0\" cy=\"120.0\" r=\"1.2\"/><circle class=\"shooting fw block\" cx=\"684.0\" cy=\"120.0\" r=\"1.2\"/><text class=\"shooting fw block\" x=\"672.0\" y=\"120.0\">61</text><rect class=\"shooting fw block\" height=\"14.4\" width=\"21.6\" x=\"685.2\" y=\"112.8\"/><circle class=\"shooting fw block\" cx=\"684.0\" cy=\"120.0\" r=\"1.2\"/><circle class=\"shooting fw block\" cx=\"708.0\" cy=\"120.0\" r=\"1.2\"/><text class=\"shooting fw block\" x=\"696.0\" y=\"120.0\">62</text><rect class=\"shooting fw block\" height=\"14.4\" width=\"21.6\" x=\"709.2\" y=\"112.8\"/><circle class=\"shooting fw block\" cx=\"708.0\" cy=\"120.0\" r=\"1.2\"/><circle class=\"shooting fw block\" cx=\"732.0\" cy=\"120.0\" r=\"1.2\"/><text class=\"shooting fw block\" x=\"720.0\" y=\"120.0\">63</text><rect class=\"shooting fw block\" height=\"14.4\" width=\"21.6\" x=\"733.2\" y=\"112.8\"/><circle class=\"shooting fw block\" cx=\"732.0\" cy=\"120.0\" r=\"1.2\"/><circle class=\"shooting fw block\" cx=\"756.0\" cy=\"120.0\" r=\"1.2\"/><text class=\"shooting fw block\" x=\"744.0\" y=\"120.0\">64</text><rect class=\"shooting fw block\" height=\"14.4\" width=\"21.6\" x=\"757.2\" y=\"112.8\"/><circle class=\"shooting fw block\" cx=\"756.0\" cy=\"120.0\" r=\"1.2\"/><circle class=\"shooting fw block\" cx=\"780.0\" cy=\"120.0\" r=\"1.2\"/><text class=\"shooting fw block\" x=\"768.0\" y=\"120.0\">65</text><rect class=\"shooting fw block\" height=\"14.4\" width=\"21.6\" x=\"781.2\" y=\"112.8\"/><circle class=\"shooting fw block\" cx=\"780.0\" cy=\"120.0\" r=\"1.2\"/><circle class=\"shooting fw block\" cx=\"804.0\" cy=\"120.0\" r=\"1.2\"/><text class=\"shooting fw block\" x=\"792.0\" y=\"120.0\">66</text><rect class=\"shooting fw block\" height=\"14.4\" width=\"21.6\" x=\"805.2\" y=\"112.8\"/><circle class=\"shooting fw block\" cx=\"804.0\" cy=\"120.0\" r=\"1.2\"/><circle class=\"shooting fw block\" cx=\"828.0\" cy=\"120.0\" r=\"1.2\"/><text class=\"shooting fw block\" x=\"816.0\" y=\"120.0\">67</text><rect class=\"shooting fw block\" height=\"14.4\" width=\"21.6\" x=\"829.2\" y=\"112.8\"/><circle class=\"shooting fw block\" cx=\"828.0\" cy=\"120.0\" r=\"1.2\"/><circle class=\"shooting fw block\" cx=\"852.0\" cy=\"120.0\" r=\"1.2\"/><text class=\"shooting fw block\" x=\"840.0\" y=\"120.0\">68</text><rect class=\"shooting fw block\" height=\"14.4\" width=\"21.6\" x=\"853.2\" y=\"112.8\"/><circle class=\"shooting fw block\" cx=\"852.0\" cy=\"120.0\" r=\"1.2\"/><circle class=\"shooting fw block\" cx=\"876.0\" cy=\"120.0\" r=\"1.2\"/><text class=\"shooting fw block\" x=\"864.0\" y=\"120.0\">69</text><rect class=\"shooting fw block\" height=\"14.4\" width=\"21.6\" x=\"877.2\" y=\"112.8\"/><circle class=\"shooting fw block\" cx=\"876.0\" cy=\"120.0\" r=\"1.2\"/><circle class=\"shooting fw block\" cx=\"900.0\" cy=\"120.0\" r=\"1.2\"/><text class=\"shooting fw block\" x=\"888.0\" y=\"120.0\">70</text><rect class=\"shooting fw block\" height=\"14.4\" width=\"21.6\" x=\"901.2\" y=\"112.8\"/><circle class=\"shooting fw block\" cx=\"900.0\" cy=\"120.0\" r=\"1.2\"/><circle class=\"shooting fw block\" cx=\"924.0\" cy=\"120.0\" r=\"1.2\"/><text class=\"shooting fw block\" x=\"912.0\" y=\"120.0\">71</text><rect class=\"shooting fw block\" height=\"14.4\" width=\"21.6\" x=\"925.2\" y=\"112.8\"/><circle class=\"shooting fw block\" cx=\"924.0\" cy=\"120.0\" r=\"1.2\"/><circle class=\"shooting fw block\" cx=\"948.0\" cy=\"120.0\" r=\"1.2\"/><text class=\"shooting fw block\" x=\"936.0\" y=\"120.0\">72</text><rect class=\"shooting fw block\" height=\"14.4\" width=\"21.6\" x=\"949.2\" y=\"112.8\"/><circle class=\"shooting fw block\" cx=\"948.0\" cy=\"120.0\" r=\"1.2\"/><circle class=\"shooting fw block\" cx=\"972.0\" cy=\"120.0\" r=\"1.2\"/><text class=\"shooting fw block\" x=\"960.0\" y=\"120.0\">73</text><rect class=\"shooting fw block\" height=\"14.4\" width=\"21.6\" x=\"973.2\" y=\"112.8\"/><circle class=\"shooting fw block\" cx=\"972.0\" cy=\"120.0\" r=\"1.2\"/><text class=\"shooting fw block\" x=\"984.0\" y=\"120.0\">74</text><text class=\"hop left label\" x=\"360.0\" y=\"144.0\">3h</text><rect class=\"hop overlap range\" height=\"2.4\" width=\"597.6\" x=\"397.2\" y=\"142.8\"/><circle class=\"hop overlap range\" cx=\"396.0\" cy=\"144.0\" r=\"1.2\"/><rect class=\"hop overlap range\" height=\"14.4\" width=\"2.4\" x=\"397.2\" y=\"136.8\"/><circle class=\"hop overlap range\" cx=\"996.0\" cy=\"144.0\" r=\"1.2\"/><rect class=\"hop overlap range\" height=\"14.4\" width=\"2.4\" x=\"992.4\" y=\"136.8\"/><text class=\"hop overlap range\" x=\"696.0\" y=\"136.8\">EnsembleHop</text><text class=\"shooting left label\" x=\"552.0\" y=\"168.0\">4b</text><line class=\"shooting bw connection v-connection\" x1=\"876.0\" x2=\"876.0\" y1=\"121.2\" y2=\"166.8\"/><rect class=\"shooting bw block\" height=\"14.4\" width=\"21.6\" x=\"589.2\" y=\"160.8\"/><circle class=\"shooting bw block\" cx=\"612.0\" cy=\"168.0\" r=\"1.2\"/><text class=\"shooting bw block\" x=\"600.0\" y=\"168.0\">75</text><rect class=\"shooting bw block\" height=\"14.4\" width=\"21.6\" x=\"613.2\" y=\"160.8\"/><circle class=\"shooting bw block\" cx=\"612.0\" cy=\"168.0\" r=\"1.2\"/><circle class=\"shooting bw block\" cx=\"636.0\" cy=\"168.0\" r=\"1.2\"/><text class=\"shooting bw block\" x=\"624.0\" y=\"168.0\">76</text><rect class=\"shooting bw block\" height=\"14.4\" width=\"21.6\" x=\"637.2\" y=\"160.8\"/><circle class=\"shooting bw block\" cx=\"636.0\" cy=\"168.0\" r=\"1.2\"/><circle class=\"shooting bw block\" cx=\"660.0\" cy=\"168.0\" r=\"1.2\"/><text class=\"shooting bw block\" x=\"648.0\" y=\"168.0\">77</text><rect class=\"shooting bw block\" height=\"14.4\" width=\"21.6\" x=\"661.2\" y=\"160.8\"/><circle class=\"shooting bw block\" cx=\"660.0\" cy=\"168.0\" r=\"1.2\"/><circle class=\"shooting bw block\" cx=\"684.0\" cy=\"168.0\" r=\"1.2\"/><text class=\"shooting bw block\" x=\"672.0\" y=\"168.0\">78</text><rect class=\"shooting bw block\" height=\"14.4\" width=\"21.6\" x=\"685.2\" y=\"160.8\"/><circle class=\"shooting bw block\" cx=\"684.0\" cy=\"168.0\" r=\"1.2\"/><circle class=\"shooting bw block\" cx=\"708.0\" cy=\"168.0\" r=\"1.2\"/><text class=\"shooting bw block\" x=\"696.0\" y=\"168.0\">79</text><rect class=\"shooting bw block\" height=\"14.4\" width=\"21.6\" x=\"709.2\" y=\"160.8\"/><circle class=\"shooting bw block\" cx=\"708.0\" cy=\"168.0\" r=\"1.2\"/><circle class=\"shooting bw block\" cx=\"732.0\" cy=\"168.0\" r=\"1.2\"/><text class=\"shooting bw block\" x=\"720.0\" y=\"168.0\">80</text><rect class=\"shooting bw block\" height=\"14.4\" width=\"21.6\" x=\"733.2\" y=\"160.8\"/><circle class=\"shooting bw block\" cx=\"732.0\" cy=\"168.0\" r=\"1.2\"/><circle class=\"shooting bw block\" cx=\"756.0\" cy=\"168.0\" r=\"1.2\"/><text class=\"shooting bw block\" x=\"744.0\" y=\"168.0\">81</text><rect class=\"shooting bw block\" height=\"14.4\" width=\"21.6\" x=\"757.2\" y=\"160.8\"/><circle class=\"shooting bw block\" cx=\"756.0\" cy=\"168.0\" r=\"1.2\"/><circle class=\"shooting bw block\" cx=\"780.0\" cy=\"168.0\" r=\"1.2\"/><text class=\"shooting bw block\" x=\"768.0\" y=\"168.0\">82</text><rect class=\"shooting bw block\" height=\"14.4\" width=\"21.6\" x=\"781.2\" y=\"160.8\"/><circle class=\"shooting bw block\" cx=\"780.0\" cy=\"168.0\" r=\"1.2\"/><circle class=\"shooting bw block\" cx=\"804.0\" cy=\"168.0\" r=\"1.2\"/><text class=\"shooting bw block\" x=\"792.0\" y=\"168.0\">83</text><rect class=\"shooting bw block\" height=\"14.4\" width=\"21.6\" x=\"805.2\" y=\"160.8\"/><circle class=\"shooting bw block\" cx=\"804.0\" cy=\"168.0\" r=\"1.2\"/><circle class=\"shooting bw block\" cx=\"828.0\" cy=\"168.0\" r=\"1.2\"/><text class=\"shooting bw block\" x=\"816.0\" y=\"168.0\">84</text><rect class=\"shooting bw block\" height=\"14.4\" width=\"21.6\" x=\"829.2\" y=\"160.8\"/><circle class=\"shooting bw block\" cx=\"828.0\" cy=\"168.0\" r=\"1.2\"/><circle class=\"shooting bw block\" cx=\"852.0\" cy=\"168.0\" r=\"1.2\"/><text class=\"shooting bw block\" x=\"840.0\" y=\"168.0\">85</text><rect class=\"shooting bw block\" height=\"14.4\" width=\"21.6\" x=\"853.2\" y=\"160.8\"/><circle class=\"shooting bw block\" cx=\"852.0\" cy=\"168.0\" r=\"1.2\"/><circle class=\"shooting bw block\" cx=\"876.0\" cy=\"168.0\" r=\"1.2\"/><text class=\"shooting bw block\" x=\"864.0\" y=\"168.0\">86</text><text class=\"shooting left label\" x=\"552.0\" y=\"192.0\">5f</text><line class=\"shooting fw connection v-connection\" x1=\"852.0\" x2=\"852.0\" y1=\"169.2\" y2=\"190.8\"/><rect class=\"shooting fw block\" height=\"14.4\" width=\"21.6\" x=\"853.2\" y=\"184.8\"/><circle class=\"shooting fw block\" cx=\"852.0\" cy=\"192.0\" r=\"1.2\"/><circle class=\"shooting fw block\" cx=\"876.0\" cy=\"192.0\" r=\"1.2\"/><text class=\"shooting fw block\" x=\"864.0\" y=\"192.0\">87</text><rect class=\"shooting fw block\" height=\"14.4\" width=\"21.6\" x=\"877.2\" y=\"184.8\"/><circle class=\"shooting fw block\" cx=\"876.0\" cy=\"192.0\" r=\"1.2\"/><circle class=\"shooting fw block\" cx=\"900.0\" cy=\"192.0\" r=\"1.2\"/><text class=\"shooting fw block\" x=\"888.0\" y=\"192.0\">88</text><rect class=\"shooting fw block\" height=\"14.4\" width=\"21.6\" x=\"901.2\" y=\"184.8\"/><circle class=\"shooting fw block\" cx=\"900.0\" cy=\"192.0\" r=\"1.2\"/><circle class=\"shooting fw block\" cx=\"924.0\" cy=\"192.0\" r=\"1.2\"/><text class=\"shooting fw block\" x=\"912.0\" y=\"192.0\">89</text><rect class=\"shooting fw block\" height=\"14.4\" width=\"21.6\" x=\"925.2\" y=\"184.8\"/><circle class=\"shooting fw block\" cx=\"924.0\" cy=\"192.0\" r=\"1.2\"/><circle class=\"shooting fw block\" cx=\"948.0\" cy=\"192.0\" r=\"1.2\"/><text class=\"shooting fw block\" x=\"936.0\" y=\"192.0\">90</text><rect class=\"shooting fw block\" height=\"14.4\" width=\"21.6\" x=\"949.2\" y=\"184.8\"/><circle class=\"shooting fw block\" cx=\"948.0\" cy=\"192.0\" r=\"1.2\"/><text class=\"shooting fw block\" x=\"960.0\" y=\"192.0\">91</text><text class=\"shooting left label\" x=\"552.0\" y=\"216.0\">6f</text><line class=\"shooting fw connection v-connection\" x1=\"852.0\" x2=\"852.0\" y1=\"169.2\" y2=\"214.8\"/><rect class=\"shooting fw block\" height=\"14.4\" width=\"21.6\" x=\"853.2\" y=\"208.8\"/><circle class=\"shooting fw block\" cx=\"852.0\" cy=\"216.0\" r=\"1.2\"/><circle class=\"shooting fw block\" cx=\"876.0\" cy=\"216.0\" r=\"1.2\"/><text class=\"shooting fw block\" x=\"864.0\" y=\"216.0\">92</text><rect class=\"shooting fw block\" height=\"14.4\" width=\"21.6\" x=\"877.2\" y=\"208.8\"/><circle class=\"shooting fw block\" cx=\"876.0\" cy=\"216.0\" r=\"1.2\"/><circle class=\"shooting fw block\" cx=\"900.0\" cy=\"216.0\" r=\"1.2\"/><text class=\"shooting fw block\" x=\"888.0\" y=\"216.0\">93</text><rect class=\"shooting fw block\" height=\"14.4\" width=\"21.6\" x=\"901.2\" y=\"208.8\"/><circle class=\"shooting fw block\" cx=\"900.0\" cy=\"216.0\" r=\"1.2\"/><circle class=\"shooting fw block\" cx=\"924.0\" cy=\"216.0\" r=\"1.2\"/><text class=\"shooting fw block\" x=\"912.0\" y=\"216.0\">94</text><rect class=\"shooting fw block\" height=\"14.4\" width=\"21.6\" x=\"925.2\" y=\"208.8\"/><circle class=\"shooting fw block\" cx=\"924.0\" cy=\"216.0\" r=\"1.2\"/><circle class=\"shooting fw block\" cx=\"948.0\" cy=\"216.0\" r=\"1.2\"/><text class=\"shooting fw block\" x=\"936.0\" y=\"216.0\">95</text><rect class=\"shooting fw block\" height=\"14.4\" width=\"21.6\" x=\"949.2\" y=\"208.8\"/><circle class=\"shooting fw block\" cx=\"948.0\" cy=\"216.0\" r=\"1.2\"/><text class=\"shooting fw block\" x=\"960.0\" y=\"216.0\">96</text><text class=\"shooting left label\" x=\"552.0\" y=\"240.0\">7f</text><line class=\"shooting fw connection v-connection\" x1=\"660.0\" x2=\"660.0\" y1=\"169.2\" y2=\"238.8\"/><rect class=\"shooting fw block\" height=\"14.4\" width=\"21.6\" x=\"661.2\" y=\"232.8\"/><circle class=\"shooting fw block\" cx=\"660.0\" cy=\"240.0\" r=\"1.2\"/><circle class=\"shooting fw block\" cx=\"684.0\" cy=\"240.0\" r=\"1.2\"/><text class=\"shooting fw block\" x=\"672.0\" y=\"240.0\">97</text><rect class=\"shooting fw block\" height=\"14.4\" width=\"21.6\" x=\"685.2\" y=\"232.8\"/><circle class=\"shooting fw block\" cx=\"684.0\" cy=\"240.0\" r=\"1.2\"/><circle class=\"shooting fw block\" cx=\"708.0\" cy=\"240.0\" r=\"1.2\"/><text class=\"shooting fw block\" x=\"696.0\" y=\"240.0\">98</text><rect class=\"shooting fw block\" height=\"14.4\" width=\"21.6\" x=\"709.2\" y=\"232.8\"/><circle class=\"shooting fw block\" cx=\"708.0\" cy=\"240.0\" r=\"1.2\"/><circle class=\"shooting fw block\" cx=\"732.0\" cy=\"240.0\" r=\"1.2\"/><text class=\"shooting fw block\" x=\"720.0\" y=\"240.0\">99</text><rect class=\"shooting fw block\" height=\"14.4\" width=\"21.6\" x=\"733.2\" y=\"232.8\"/><circle class=\"shooting fw block\" cx=\"732.0\" cy=\"240.0\" r=\"1.2\"/><circle class=\"shooting fw block\" cx=\"756.0\" cy=\"240.0\" r=\"1.2\"/><text class=\"shooting fw block\" x=\"744.0\" y=\"240.0\">100</text><rect class=\"shooting fw block\" height=\"14.4\" width=\"21.6\" x=\"757.2\" y=\"232.8\"/><circle class=\"shooting fw block\" cx=\"756.0\" cy=\"240.0\" r=\"1.2\"/><circle class=\"shooting fw block\" cx=\"780.0\" cy=\"240.0\" r=\"1.2\"/><text class=\"shooting fw block\" x=\"768.0\" y=\"240.0\">101</text><rect class=\"shooting fw block\" height=\"14.4\" width=\"21.6\" x=\"781.2\" y=\"232.8\"/><circle class=\"shooting fw block\" cx=\"780.0\" cy=\"240.0\" r=\"1.2\"/><circle class=\"shooting fw block\" cx=\"804.0\" cy=\"240.0\" r=\"1.2\"/><text class=\"shooting fw block\" x=\"792.0\" y=\"240.0\">102</text><rect class=\"shooting fw block\" height=\"14.4\" width=\"21.6\" x=\"805.2\" y=\"232.8\"/><circle class=\"shooting fw block\" cx=\"804.0\" cy=\"240.0\" r=\"1.2\"/><circle class=\"shooting fw block\" cx=\"828.0\" cy=\"240.0\" r=\"1.2\"/><text class=\"shooting fw block\" x=\"816.0\" y=\"240.0\">103</text><rect class=\"shooting fw block\" height=\"14.4\" width=\"21.6\" x=\"829.2\" y=\"232.8\"/><circle class=\"shooting fw block\" cx=\"828.0\" cy=\"240.0\" r=\"1.2\"/><circle class=\"shooting fw block\" cx=\"852.0\" cy=\"240.0\" r=\"1.2\"/><text class=\"shooting fw block\" x=\"840.0\" y=\"240.0\">104</text><rect class=\"shooting fw block\" height=\"14.4\" width=\"21.6\" x=\"853.2\" y=\"232.8\"/><circle class=\"shooting fw block\" cx=\"852.0\" cy=\"240.0\" r=\"1.2\"/><circle class=\"shooting fw block\" cx=\"876.0\" cy=\"240.0\" r=\"1.2\"/><text class=\"shooting fw block\" x=\"864.0\" y=\"240.0\">105</text><rect class=\"shooting fw block\" height=\"14.4\" width=\"21.6\" x=\"877.2\" y=\"232.8\"/><circle class=\"shooting fw block\" cx=\"876.0\" cy=\"240.0\" r=\"1.2\"/><circle class=\"shooting fw block\" cx=\"900.0\" cy=\"240.0\" r=\"1.2\"/><text class=\"shooting fw block\" x=\"888.0\" y=\"240.0\">106</text><rect class=\"shooting fw block\" height=\"14.4\" width=\"21.6\" x=\"901.2\" y=\"232.8\"/><circle class=\"shooting fw block\" cx=\"900.0\" cy=\"240.0\" r=\"1.2\"/><circle class=\"shooting fw block\" cx=\"924.0\" cy=\"240.0\" r=\"1.2\"/><text class=\"shooting fw block\" x=\"912.0\" y=\"240.0\">107</text><rect class=\"shooting fw block\" height=\"14.4\" width=\"21.6\" x=\"925.2\" y=\"232.8\"/><circle class=\"shooting fw block\" cx=\"924.0\" cy=\"240.0\" r=\"1.2\"/><text class=\"shooting fw block\" x=\"936.0\" y=\"240.0\">108</text><text class=\"shooting left label\" x=\"504.0\" y=\"264.0\">8b</text><line class=\"shooting bw connection v-connection\" x1=\"828.0\" x2=\"828.0\" y1=\"241.2\" y2=\"262.8\"/><rect class=\"shooting bw block\" height=\"14.4\" width=\"21.6\" x=\"541.2\" y=\"256.8\"/><circle class=\"shooting bw block\" cx=\"564.0\" cy=\"264.0\" r=\"1.2\"/><text class=\"shooting bw block\" x=\"552.0\" y=\"264.0\">109</text><rect class=\"shooting bw block\" height=\"14.4\" width=\"21.6\" x=\"565.2\" y=\"256.8\"/><circle class=\"shooting bw block\" cx=\"564.0\" cy=\"264.0\" r=\"1.2\"/><circle class=\"shooting bw block\" cx=\"588.0\" cy=\"264.0\" r=\"1.2\"/><text class=\"shooting bw block\" x=\"576.0\" y=\"264.0\">110</text><rect class=\"shooting bw block\" height=\"14.4\" width=\"21.6\" x=\"589.2\" y=\"256.8\"/><circle class=\"shooting bw block\" cx=\"588.0\" cy=\"264.0\" r=\"1.2\"/><circle class=\"shooting bw block\" cx=\"612.0\" cy=\"264.0\" r=\"1.2\"/><text class=\"shooting bw block\" x=\"600.0\" y=\"264.0\">111</text><rect class=\"shooting bw block\" height=\"14.4\" width=\"21.6\" x=\"613.2\" y=\"256.8\"/><circle class=\"shooting bw block\" cx=\"612.0\" cy=\"264.0\" r=\"1.2\"/><circle class=\"shooting bw block\" cx=\"636.0\" cy=\"264.0\" r=\"1.2\"/><text class=\"shooting bw block\" x=\"624.0\" y=\"264.0\">112</text><rect class=\"shooting bw block\" height=\"14.4\" width=\"21.6\" x=\"637.2\" y=\"256.8\"/><circle class=\"shooting bw block\" cx=\"636.0\" cy=\"264.0\" r=\"1.2\"/><circle class=\"shooting bw block\" cx=\"660.0\" cy=\"264.0\" r=\"1.2\"/><text class=\"shooting bw block\" x=\"648.0\" y=\"264.0\">113</text><rect class=\"shooting bw block\" height=\"14.4\" width=\"21.6\" x=\"661.2\" y=\"256.8\"/><circle class=\"shooting bw block\" cx=\"660.0\" cy=\"264.0\" r=\"1.2\"/><circle class=\"shooting bw block\" cx=\"684.0\" cy=\"264.0\" r=\"1.2\"/><text class=\"shooting bw block\" x=\"672.0\" y=\"264.0\">114</text><rect class=\"shooting bw block\" height=\"14.4\" width=\"21.6\" x=\"685.2\" y=\"256.8\"/><circle class=\"shooting bw block\" cx=\"684.0\" cy=\"264.0\" r=\"1.2\"/><circle class=\"shooting bw block\" cx=\"708.0\" cy=\"264.0\" r=\"1.2\"/><text class=\"shooting bw block\" x=\"696.0\" y=\"264.0\">115</text><rect class=\"shooting bw block\" height=\"14.4\" width=\"21.6\" x=\"709.2\" y=\"256.8\"/><circle class=\"shooting bw block\" cx=\"708.0\" cy=\"264.0\" r=\"1.2\"/><circle class=\"shooting bw block\" cx=\"732.0\" cy=\"264.0\" r=\"1.2\"/><text class=\"shooting bw block\" x=\"720.0\" y=\"264.0\">116</text><rect class=\"shooting bw block\" height=\"14.4\" width=\"21.6\" x=\"733.2\" y=\"256.8\"/><circle class=\"shooting bw block\" cx=\"732.0\" cy=\"264.0\" r=\"1.2\"/><circle class=\"shooting bw block\" cx=\"756.0\" cy=\"264.0\" r=\"1.2\"/><text class=\"shooting bw block\" x=\"744.0\" y=\"264.0\">117</text><rect class=\"shooting bw block\" height=\"14.4\" width=\"21.6\" x=\"757.2\" y=\"256.8\"/><circle class=\"shooting bw block\" cx=\"756.0\" cy=\"264.0\" r=\"1.2\"/><circle class=\"shooting bw block\" cx=\"780.0\" cy=\"264.0\" r=\"1.2\"/><text class=\"shooting bw block\" x=\"768.0\" y=\"264.0\">118</text><rect class=\"shooting bw block\" height=\"14.4\" width=\"21.6\" x=\"781.2\" y=\"256.8\"/><circle class=\"shooting bw block\" cx=\"780.0\" cy=\"264.0\" r=\"1.2\"/><circle class=\"shooting bw block\" cx=\"804.0\" cy=\"264.0\" r=\"1.2\"/><text class=\"shooting bw block\" x=\"792.0\" y=\"264.0\">119</text><rect class=\"shooting bw block\" height=\"14.4\" width=\"21.6\" x=\"805.2\" y=\"256.8\"/><circle class=\"shooting bw block\" cx=\"804.0\" cy=\"264.0\" r=\"1.2\"/><circle class=\"shooting bw block\" cx=\"828.0\" cy=\"264.0\" r=\"1.2\"/><text class=\"shooting bw block\" x=\"816.0\" y=\"264.0\">120</text><text class=\"hop left label\" x=\"504.0\" y=\"288.0\">8h</text><rect class=\"hop overlap range\" height=\"2.4\" width=\"405.6\" x=\"541.2\" y=\"286.8\"/><circle class=\"hop overlap range\" cx=\"540.0\" cy=\"288.0\" r=\"1.2\"/><rect class=\"hop overlap range\" height=\"14.4\" width=\"2.4\" x=\"541.2\" y=\"280.8\"/><circle class=\"hop overlap range\" cx=\"948.0\" cy=\"288.0\" r=\"1.2\"/><rect class=\"hop overlap range\" height=\"14.4\" width=\"2.4\" x=\"944.4\" y=\"280.8\"/><text class=\"hop overlap range\" x=\"744.0\" y=\"280.8\">EnsembleHop</text><text class=\"shooting left label\" x=\"504.0\" y=\"312.0\">9f</text><line class=\"shooting fw connection v-connection\" x1=\"924.0\" x2=\"924.0\" y1=\"241.2\" y2=\"310.8\"/><rect class=\"shooting fw block\" height=\"14.4\" width=\"21.6\" x=\"925.2\" y=\"304.8\"/><circle class=\"shooting fw block\" cx=\"924.0\" cy=\"312.0\" r=\"1.2\"/><text class=\"shooting fw block\" x=\"936.0\" y=\"312.0\">121</text><text class=\"hop left label\" x=\"504.0\" y=\"336.0\">9h</text><rect class=\"hop overlap range\" height=\"2.4\" width=\"405.6\" x=\"541.2\" y=\"334.8\"/><circle class=\"hop overlap range\" cx=\"540.0\" cy=\"336.0\" r=\"1.2\"/><rect class=\"hop overlap range\" height=\"14.4\" width=\"2.4\" x=\"541.2\" y=\"328.8\"/><circle class=\"hop overlap range\" cx=\"948.0\" cy=\"336.0\" r=\"1.2\"/><rect class=\"hop overlap range\" height=\"14.4\" width=\"2.4\" x=\"944.4\" y=\"328.8\"/><text class=\"hop overlap range\" x=\"744.0\" y=\"328.8\">EnsembleHop</text><text class=\"shooting left label\" x=\"480.0\" y=\"360.0\">10b</text><line class=\"shooting bw connection v-connection\" x1=\"588.0\" x2=\"588.0\" y1=\"265.2\" y2=\"358.8\"/><rect class=\"shooting bw block\" height=\"14.4\" width=\"21.6\" x=\"517.2\" y=\"352.8\"/><circle class=\"shooting bw block\" cx=\"540.0\" cy=\"360.0\" r=\"1.2\"/><text class=\"shooting bw block\" x=\"528.0\" y=\"360.0\">122</text><rect class=\"shooting bw block\" height=\"14.4\" width=\"21.6\" x=\"541.2\" y=\"352.8\"/><circle class=\"shooting bw block\" cx=\"540.0\" cy=\"360.0\" r=\"1.2\"/><circle class=\"shooting bw block\" cx=\"564.0\" cy=\"360.0\" r=\"1.2\"/><text class=\"shooting bw block\" x=\"552.0\" y=\"360.0\">123</text><rect class=\"shooting bw block\" height=\"14.4\" width=\"21.6\" x=\"565.2\" y=\"352.8\"/><circle class=\"shooting bw block\" cx=\"564.0\" cy=\"360.0\" r=\"1.2\"/><circle class=\"shooting bw block\" cx=\"588.0\" cy=\"360.0\" r=\"1.2\"/><text class=\"shooting bw block\" x=\"576.0\" y=\"360.0\">124</text><text class=\"shooting left label\" x=\"480.0\" y=\"384.0\">11f</text><line class=\"shooting fw connection v-connection\" x1=\"852.0\" x2=\"852.0\" y1=\"241.2\" y2=\"382.8\"/><rect class=\"shooting fw block\" height=\"14.4\" width=\"21.6\" x=\"853.2\" y=\"376.8\"/><circle class=\"shooting fw block\" cx=\"852.0\" cy=\"384.0\" r=\"1.2\"/><circle class=\"shooting fw block\" cx=\"876.0\" cy=\"384.0\" r=\"1.2\"/><text class=\"shooting fw block\" x=\"864.0\" y=\"384.0\">125</text><rect class=\"shooting fw block\" height=\"14.4\" width=\"21.6\" x=\"877.2\" y=\"376.8\"/><circle class=\"shooting fw block\" cx=\"876.0\" cy=\"384.0\" r=\"1.2\"/><circle class=\"shooting fw block\" cx=\"900.0\" cy=\"384.0\" r=\"1.2\"/><text class=\"shooting fw block\" x=\"888.0\" y=\"384.0\">126</text><rect class=\"shooting fw block\" height=\"14.4\" width=\"21.6\" x=\"901.2\" y=\"376.8\"/><circle class=\"shooting fw block\" cx=\"900.0\" cy=\"384.0\" r=\"1.2\"/><circle class=\"shooting fw block\" cx=\"924.0\" cy=\"384.0\" r=\"1.2\"/><text class=\"shooting fw block\" x=\"912.0\" y=\"384.0\">127</text><rect class=\"shooting fw block\" height=\"14.4\" width=\"21.6\" x=\"925.2\" y=\"376.8\"/><circle class=\"shooting fw block\" cx=\"924.0\" cy=\"384.0\" r=\"1.2\"/><text class=\"shooting fw block\" x=\"936.0\" y=\"384.0\">128</text><text class=\"shooting left label\" x=\"480.0\" y=\"408.0\">12f</text><line class=\"shooting fw connection v-connection\" x1=\"708.0\" x2=\"708.0\" y1=\"265.2\" y2=\"406.8\"/><rect class=\"shooting fw block\" height=\"14.4\" width=\"21.6\" x=\"709.2\" y=\"400.8\"/><circle class=\"shooting fw block\" cx=\"708.0\" cy=\"408.0\" r=\"1.2\"/><circle class=\"shooting fw block\" cx=\"732.0\" cy=\"408.0\" r=\"1.2\"/><text class=\"shooting fw block\" x=\"720.0\" y=\"408.0\">129</text><rect class=\"shooting fw block\" height=\"14.4\" width=\"21.6\" x=\"733.2\" y=\"400.8\"/><circle class=\"shooting fw block\" cx=\"732.0\" cy=\"408.0\" r=\"1.2\"/><circle class=\"shooting fw block\" cx=\"756.0\" cy=\"408.0\" r=\"1.2\"/><text class=\"shooting fw block\" x=\"744.0\" y=\"408.0\">130</text><rect class=\"shooting fw block\" height=\"14.4\" width=\"21.6\" x=\"757.2\" y=\"400.8\"/><circle class=\"shooting fw block\" cx=\"756.0\" cy=\"408.0\" r=\"1.2\"/><circle class=\"shooting fw block\" cx=\"780.0\" cy=\"408.0\" r=\"1.2\"/><text class=\"shooting fw block\" x=\"768.0\" y=\"408.0\">131</text><rect class=\"shooting fw block\" height=\"14.4\" width=\"21.6\" x=\"781.2\" y=\"400.8\"/><circle class=\"shooting fw block\" cx=\"780.0\" cy=\"408.0\" r=\"1.2\"/><circle class=\"shooting fw block\" cx=\"804.0\" cy=\"408.0\" r=\"1.2\"/><text class=\"shooting fw block\" x=\"792.0\" y=\"408.0\">132</text><rect class=\"shooting fw block\" height=\"14.4\" width=\"21.6\" x=\"805.2\" y=\"400.8\"/><circle class=\"shooting fw block\" cx=\"804.0\" cy=\"408.0\" r=\"1.2\"/><circle class=\"shooting fw block\" cx=\"828.0\" cy=\"408.0\" r=\"1.2\"/><text class=\"shooting fw block\" x=\"816.0\" y=\"408.0\">133</text><rect class=\"shooting fw block\" height=\"14.4\" width=\"21.6\" x=\"829.2\" y=\"400.8\"/><circle class=\"shooting fw block\" cx=\"828.0\" cy=\"408.0\" r=\"1.2\"/><circle class=\"shooting fw block\" cx=\"852.0\" cy=\"408.0\" r=\"1.2\"/><text class=\"shooting fw block\" x=\"840.0\" y=\"408.0\">134</text><rect class=\"shooting fw block\" height=\"14.4\" width=\"21.6\" x=\"853.2\" y=\"400.8\"/><circle class=\"shooting fw block\" cx=\"852.0\" cy=\"408.0\" r=\"1.2\"/><circle class=\"shooting fw block\" cx=\"876.0\" cy=\"408.0\" r=\"1.2\"/><text class=\"shooting fw block\" x=\"864.0\" y=\"408.0\">135</text><rect class=\"shooting fw block\" height=\"14.4\" width=\"21.6\" x=\"877.2\" y=\"400.8\"/><circle class=\"shooting fw block\" cx=\"876.0\" cy=\"408.0\" r=\"1.2\"/><circle class=\"shooting fw block\" cx=\"900.0\" cy=\"408.0\" r=\"1.2\"/><text class=\"shooting fw block\" x=\"888.0\" y=\"408.0\">136</text><rect class=\"shooting fw block\" height=\"14.4\" width=\"21.6\" x=\"901.2\" y=\"400.8\"/><circle class=\"shooting fw block\" cx=\"900.0\" cy=\"408.0\" r=\"1.2\"/><circle class=\"shooting fw block\" cx=\"924.0\" cy=\"408.0\" r=\"1.2\"/><text class=\"shooting fw block\" x=\"912.0\" y=\"408.0\">137</text><rect class=\"shooting fw block\" height=\"14.4\" width=\"21.6\" x=\"925.2\" y=\"400.8\"/><circle class=\"shooting fw block\" cx=\"924.0\" cy=\"408.0\" r=\"1.2\"/><text class=\"shooting fw block\" x=\"936.0\" y=\"408.0\">138</text><text class=\"shooting left label\" x=\"456.0\" y=\"432.0\">13b</text><line class=\"shooting bw connection v-connection\" x1=\"852.0\" x2=\"852.0\" y1=\"409.2\" y2=\"430.8\"/><rect class=\"shooting bw block\" height=\"14.4\" width=\"21.6\" x=\"493.2\" y=\"424.8\"/><circle class=\"shooting bw block\" cx=\"516.0\" cy=\"432.0\" r=\"1.2\"/><text class=\"shooting bw block\" x=\"504.0\" y=\"432.0\">139</text><rect class=\"shooting bw block\" height=\"14.4\" width=\"21.6\" x=\"517.2\" y=\"424.8\"/><circle class=\"shooting bw block\" cx=\"516.0\" cy=\"432.0\" r=\"1.2\"/><circle class=\"shooting bw block\" cx=\"540.0\" cy=\"432.0\" r=\"1.2\"/><text class=\"shooting bw block\" x=\"528.0\" y=\"432.0\">140</text><rect class=\"shooting bw block\" height=\"14.4\" width=\"21.6\" x=\"541.2\" y=\"424.8\"/><circle class=\"shooting bw block\" cx=\"540.0\" cy=\"432.0\" r=\"1.2\"/><circle class=\"shooting bw block\" cx=\"564.0\" cy=\"432.0\" r=\"1.2\"/><text class=\"shooting bw block\" x=\"552.0\" y=\"432.0\">141</text><rect class=\"shooting bw block\" height=\"14.4\" width=\"21.6\" x=\"565.2\" y=\"424.8\"/><circle class=\"shooting bw block\" cx=\"564.0\" cy=\"432.0\" r=\"1.2\"/><circle class=\"shooting bw block\" cx=\"588.0\" cy=\"432.0\" r=\"1.2\"/><text class=\"shooting bw block\" x=\"576.0\" y=\"432.0\">142</text><rect class=\"shooting bw block\" height=\"14.4\" width=\"21.6\" x=\"589.2\" y=\"424.8\"/><circle class=\"shooting bw block\" cx=\"588.0\" cy=\"432.0\" r=\"1.2\"/><circle class=\"shooting bw block\" cx=\"612.0\" cy=\"432.0\" r=\"1.2\"/><text class=\"shooting bw block\" x=\"600.0\" y=\"432.0\">143</text><rect class=\"shooting bw block\" height=\"14.4\" width=\"21.6\" x=\"613.2\" y=\"424.8\"/><circle class=\"shooting bw block\" cx=\"612.0\" cy=\"432.0\" r=\"1.2\"/><circle class=\"shooting bw block\" cx=\"636.0\" cy=\"432.0\" r=\"1.2\"/><text class=\"shooting bw block\" x=\"624.0\" y=\"432.0\">144</text><rect class=\"shooting bw block\" height=\"14.4\" width=\"21.6\" x=\"637.2\" y=\"424.8\"/><circle class=\"shooting bw block\" cx=\"636.0\" cy=\"432.0\" r=\"1.2\"/><circle class=\"shooting bw block\" cx=\"660.0\" cy=\"432.0\" r=\"1.2\"/><text class=\"shooting bw block\" x=\"648.0\" y=\"432.0\">145</text><rect class=\"shooting bw block\" height=\"14.4\" width=\"21.6\" x=\"661.2\" y=\"424.8\"/><circle class=\"shooting bw block\" cx=\"660.0\" cy=\"432.0\" r=\"1.2\"/><circle class=\"shooting bw block\" cx=\"684.0\" cy=\"432.0\" r=\"1.2\"/><text class=\"shooting bw block\" x=\"672.0\" y=\"432.0\">146</text><rect class=\"shooting bw block\" height=\"14.4\" width=\"21.6\" x=\"685.2\" y=\"424.8\"/><circle class=\"shooting bw block\" cx=\"684.0\" cy=\"432.0\" r=\"1.2\"/><circle class=\"shooting bw block\" cx=\"708.0\" cy=\"432.0\" r=\"1.2\"/><text class=\"shooting bw block\" x=\"696.0\" y=\"432.0\">147</text><rect class=\"shooting bw block\" height=\"14.4\" width=\"21.6\" x=\"709.2\" y=\"424.8\"/><circle class=\"shooting bw block\" cx=\"708.0\" cy=\"432.0\" r=\"1.2\"/><circle class=\"shooting bw block\" cx=\"732.0\" cy=\"432.0\" r=\"1.2\"/><text class=\"shooting bw block\" x=\"720.0\" y=\"432.0\">148</text><rect class=\"shooting bw block\" height=\"14.4\" width=\"21.6\" x=\"733.2\" y=\"424.8\"/><circle class=\"shooting bw block\" cx=\"732.0\" cy=\"432.0\" r=\"1.2\"/><circle class=\"shooting bw block\" cx=\"756.0\" cy=\"432.0\" r=\"1.2\"/><text class=\"shooting bw block\" x=\"744.0\" y=\"432.0\">149</text><rect class=\"shooting bw block\" height=\"14.4\" width=\"21.6\" x=\"757.2\" y=\"424.8\"/><circle class=\"shooting bw block\" cx=\"756.0\" cy=\"432.0\" r=\"1.2\"/><circle class=\"shooting bw block\" cx=\"780.0\" cy=\"432.0\" r=\"1.2\"/><text class=\"shooting bw block\" x=\"768.0\" y=\"432.0\">150</text><rect class=\"shooting bw block\" height=\"14.4\" width=\"21.6\" x=\"781.2\" y=\"424.8\"/><circle class=\"shooting bw block\" cx=\"780.0\" cy=\"432.0\" r=\"1.2\"/><circle class=\"shooting bw block\" cx=\"804.0\" cy=\"432.0\" r=\"1.2\"/><text class=\"shooting bw block\" x=\"792.0\" y=\"432.0\">151</text><rect class=\"shooting bw block\" height=\"14.4\" width=\"21.6\" x=\"805.2\" y=\"424.8\"/><circle class=\"shooting bw block\" cx=\"804.0\" cy=\"432.0\" r=\"1.2\"/><circle class=\"shooting bw block\" cx=\"828.0\" cy=\"432.0\" r=\"1.2\"/><text class=\"shooting bw block\" x=\"816.0\" y=\"432.0\">152</text><rect class=\"shooting bw block\" height=\"14.4\" width=\"21.6\" x=\"829.2\" y=\"424.8\"/><circle class=\"shooting bw block\" cx=\"828.0\" cy=\"432.0\" r=\"1.2\"/><circle class=\"shooting bw block\" cx=\"852.0\" cy=\"432.0\" r=\"1.2\"/><text class=\"shooting bw block\" x=\"840.0\" y=\"432.0\">153</text><text class=\"hop left label\" x=\"456.0\" y=\"456.0\">13h</text><rect class=\"hop overlap range\" height=\"2.4\" width=\"453.6\" x=\"493.2\" y=\"454.8\"/><circle class=\"hop overlap range\" cx=\"492.0\" cy=\"456.0\" r=\"1.2\"/><rect class=\"hop overlap range\" height=\"14.4\" width=\"2.4\" x=\"493.2\" y=\"448.8\"/><circle class=\"hop overlap range\" cx=\"948.0\" cy=\"456.0\" r=\"1.2\"/><rect class=\"hop overlap range\" height=\"14.4\" width=\"2.4\" x=\"944.4\" y=\"448.8\"/><text class=\"hop overlap range\" x=\"720.0\" y=\"448.8\">EnsembleHop</text><text class=\"shooting left label\" x=\"456.0\" y=\"480.0\">14f</text><line class=\"shooting fw connection v-connection\" x1=\"756.0\" x2=\"756.0\" y1=\"433.2\" y2=\"478.8\"/><rect class=\"shooting fw block\" height=\"14.4\" width=\"21.6\" x=\"757.2\" y=\"472.8\"/><circle class=\"shooting fw block\" cx=\"756.0\" cy=\"480.0\" r=\"1.2\"/><circle class=\"shooting fw block\" cx=\"780.0\" cy=\"480.0\" r=\"1.2\"/><text class=\"shooting fw block\" x=\"768.0\" y=\"480.0\">154</text><rect class=\"shooting fw block\" height=\"14.4\" width=\"21.6\" x=\"781.2\" y=\"472.8\"/><circle class=\"shooting fw block\" cx=\"780.0\" cy=\"480.0\" r=\"1.2\"/><circle class=\"shooting fw block\" cx=\"804.0\" cy=\"480.0\" r=\"1.2\"/><text class=\"shooting fw block\" x=\"792.0\" y=\"480.0\">155</text><rect class=\"shooting fw block\" height=\"14.4\" width=\"21.6\" x=\"805.2\" y=\"472.8\"/><circle class=\"shooting fw block\" cx=\"804.0\" cy=\"480.0\" r=\"1.2\"/><circle class=\"shooting fw block\" cx=\"828.0\" cy=\"480.0\" r=\"1.2\"/><text class=\"shooting fw block\" x=\"816.0\" y=\"480.0\">156</text><rect class=\"shooting fw block\" height=\"14.4\" width=\"21.6\" x=\"829.2\" y=\"472.8\"/><circle class=\"shooting fw block\" cx=\"828.0\" cy=\"480.0\" r=\"1.2\"/><circle class=\"shooting fw block\" cx=\"852.0\" cy=\"480.0\" r=\"1.2\"/><text class=\"shooting fw block\" x=\"840.0\" y=\"480.0\">157</text><rect class=\"shooting fw block\" height=\"14.4\" width=\"21.6\" x=\"853.2\" y=\"472.8\"/><circle class=\"shooting fw block\" cx=\"852.0\" cy=\"480.0\" r=\"1.2\"/><circle class=\"shooting fw block\" cx=\"876.0\" cy=\"480.0\" r=\"1.2\"/><text class=\"shooting fw block\" x=\"864.0\" y=\"480.0\">158</text><rect class=\"shooting fw block\" height=\"14.4\" width=\"21.6\" x=\"877.2\" y=\"472.8\"/><circle class=\"shooting fw block\" cx=\"876.0\" cy=\"480.0\" r=\"1.2\"/><circle class=\"shooting fw block\" cx=\"900.0\" cy=\"480.0\" r=\"1.2\"/><text class=\"shooting fw block\" x=\"888.0\" y=\"480.0\">159</text><rect class=\"shooting fw block\" height=\"14.4\" width=\"21.6\" x=\"901.2\" y=\"472.8\"/><circle class=\"shooting fw block\" cx=\"900.0\" cy=\"480.0\" r=\"1.2\"/><text class=\"shooting fw block\" x=\"912.0\" y=\"480.0\">160</text><text class=\"shooting left label\" x=\"360.0\" y=\"504.0\">15b</text><line class=\"shooting bw connection v-connection\" x1=\"780.0\" x2=\"780.0\" y1=\"481.2\" y2=\"502.8\"/><rect class=\"shooting bw block\" height=\"14.4\" width=\"21.6\" x=\"397.2\" y=\"496.8\"/><circle class=\"shooting bw block\" cx=\"420.0\" cy=\"504.0\" r=\"1.2\"/><text class=\"shooting bw block\" x=\"408.0\" y=\"504.0\">161</text><rect class=\"shooting bw block\" height=\"14.4\" width=\"21.6\" x=\"421.2\" y=\"496.8\"/><circle class=\"shooting bw block\" cx=\"420.0\" cy=\"504.0\" r=\"1.2\"/><circle class=\"shooting bw block\" cx=\"444.0\" cy=\"504.0\" r=\"1.2\"/><text class=\"shooting bw block\" x=\"432.0\" y=\"504.0\">162</text><rect class=\"shooting bw block\" height=\"14.4\" width=\"21.6\" x=\"445.2\" y=\"496.8\"/><circle class=\"shooting bw block\" cx=\"444.0\" cy=\"504.0\" r=\"1.2\"/><circle class=\"shooting bw block\" cx=\"468.0\" cy=\"504.0\" r=\"1.2\"/><text class=\"shooting bw block\" x=\"456.0\" y=\"504.0\">163</text><rect class=\"shooting bw block\" height=\"14.4\" width=\"21.6\" x=\"469.2\" y=\"496.8\"/><circle class=\"shooting bw block\" cx=\"468.0\" cy=\"504.0\" r=\"1.2\"/><circle class=\"shooting bw block\" cx=\"492.0\" cy=\"504.0\" r=\"1.2\"/><text class=\"shooting bw block\" x=\"480.0\" y=\"504.0\">164</text><rect class=\"shooting bw block\" height=\"14.4\" width=\"21.6\" x=\"493.2\" y=\"496.8\"/><circle class=\"shooting bw block\" cx=\"492.0\" cy=\"504.0\" r=\"1.2\"/><circle class=\"shooting bw block\" cx=\"516.0\" cy=\"504.0\" r=\"1.2\"/><text class=\"shooting bw block\" x=\"504.0\" y=\"504.0\">165</text><rect class=\"shooting bw block\" height=\"14.4\" width=\"21.6\" x=\"517.2\" y=\"496.8\"/><circle class=\"shooting bw block\" cx=\"516.0\" cy=\"504.0\" r=\"1.2\"/><circle class=\"shooting bw block\" cx=\"540.0\" cy=\"504.0\" r=\"1.2\"/><text class=\"shooting bw block\" x=\"528.0\" y=\"504.0\">166</text><rect class=\"shooting bw block\" height=\"14.4\" width=\"21.6\" x=\"541.2\" y=\"496.8\"/><circle class=\"shooting bw block\" cx=\"540.0\" cy=\"504.0\" r=\"1.2\"/><circle class=\"shooting bw block\" cx=\"564.0\" cy=\"504.0\" r=\"1.2\"/><text class=\"shooting bw block\" x=\"552.0\" y=\"504.0\">167</text><rect class=\"shooting bw block\" height=\"14.4\" width=\"21.6\" x=\"565.2\" y=\"496.8\"/><circle class=\"shooting bw block\" cx=\"564.0\" cy=\"504.0\" r=\"1.2\"/><circle class=\"shooting bw block\" cx=\"588.0\" cy=\"504.0\" r=\"1.2\"/><text class=\"shooting bw block\" x=\"576.0\" y=\"504.0\">168</text><rect class=\"shooting bw block\" height=\"14.4\" width=\"21.6\" x=\"589.2\" y=\"496.8\"/><circle class=\"shooting bw block\" cx=\"588.0\" cy=\"504.0\" r=\"1.2\"/><circle class=\"shooting bw block\" cx=\"612.0\" cy=\"504.0\" r=\"1.2\"/><text class=\"shooting bw block\" x=\"600.0\" y=\"504.0\">169</text><rect class=\"shooting bw block\" height=\"14.4\" width=\"21.6\" x=\"613.2\" y=\"496.8\"/><circle class=\"shooting bw block\" cx=\"612.0\" cy=\"504.0\" r=\"1.2\"/><circle class=\"shooting bw block\" cx=\"636.0\" cy=\"504.0\" r=\"1.2\"/><text class=\"shooting bw block\" x=\"624.0\" y=\"504.0\">170</text><rect class=\"shooting bw block\" height=\"14.4\" width=\"21.6\" x=\"637.2\" y=\"496.8\"/><circle class=\"shooting bw block\" cx=\"636.0\" cy=\"504.0\" r=\"1.2\"/><circle class=\"shooting bw block\" cx=\"660.0\" cy=\"504.0\" r=\"1.2\"/><text class=\"shooting bw block\" x=\"648.0\" y=\"504.0\">171</text><rect class=\"shooting bw block\" height=\"14.4\" width=\"21.6\" x=\"661.2\" y=\"496.8\"/><circle class=\"shooting bw block\" cx=\"660.0\" cy=\"504.0\" r=\"1.2\"/><circle class=\"shooting bw block\" cx=\"684.0\" cy=\"504.0\" r=\"1.2\"/><text class=\"shooting bw block\" x=\"672.0\" y=\"504.0\">172</text><rect class=\"shooting bw block\" height=\"14.4\" width=\"21.6\" x=\"685.2\" y=\"496.8\"/><circle class=\"shooting bw block\" cx=\"684.0\" cy=\"504.0\" r=\"1.2\"/><circle class=\"shooting bw block\" cx=\"708.0\" cy=\"504.0\" r=\"1.2\"/><text class=\"shooting bw block\" x=\"696.0\" y=\"504.0\">173</text><rect class=\"shooting bw block\" height=\"14.4\" width=\"21.6\" x=\"709.2\" y=\"496.8\"/><circle class=\"shooting bw block\" cx=\"708.0\" cy=\"504.0\" r=\"1.2\"/><circle class=\"shooting bw block\" cx=\"732.0\" cy=\"504.0\" r=\"1.2\"/><text class=\"shooting bw block\" x=\"720.0\" y=\"504.0\">174</text><rect class=\"shooting bw block\" height=\"14.4\" width=\"21.6\" x=\"733.2\" y=\"496.8\"/><circle class=\"shooting bw block\" cx=\"732.0\" cy=\"504.0\" r=\"1.2\"/><circle class=\"shooting bw block\" cx=\"756.0\" cy=\"504.0\" r=\"1.2\"/><text class=\"shooting bw block\" x=\"744.0\" y=\"504.0\">175</text><rect class=\"shooting bw block\" height=\"14.4\" width=\"21.6\" x=\"757.2\" y=\"496.8\"/><circle class=\"shooting bw block\" cx=\"756.0\" cy=\"504.0\" r=\"1.2\"/><circle class=\"shooting bw block\" cx=\"780.0\" cy=\"504.0\" r=\"1.2\"/><text class=\"shooting bw block\" x=\"768.0\" y=\"504.0\">176</text><text class=\"shooting left label\" x=\"360.0\" y=\"528.0\">17f</text><line class=\"shooting fw connection v-connection\" x1=\"804.0\" x2=\"804.0\" y1=\"481.2\" y2=\"526.8\"/><rect class=\"shooting fw block\" height=\"14.4\" width=\"21.6\" x=\"805.2\" y=\"520.8\"/><circle class=\"shooting fw block\" cx=\"804.0\" cy=\"528.0\" r=\"1.2\"/><circle class=\"shooting fw block\" cx=\"828.0\" cy=\"528.0\" r=\"1.2\"/><text class=\"shooting fw block\" x=\"816.0\" y=\"528.0\">194</text><rect class=\"shooting fw block\" height=\"14.4\" width=\"21.6\" x=\"829.2\" y=\"520.8\"/><circle class=\"shooting fw block\" cx=\"828.0\" cy=\"528.0\" r=\"1.2\"/><circle class=\"shooting fw block\" cx=\"852.0\" cy=\"528.0\" r=\"1.2\"/><text class=\"shooting fw block\" x=\"840.0\" y=\"528.0\">195</text><rect class=\"shooting fw block\" height=\"14.4\" width=\"21.6\" x=\"853.2\" y=\"520.8\"/><circle class=\"shooting fw block\" cx=\"852.0\" cy=\"528.0\" r=\"1.2\"/><circle class=\"shooting fw block\" cx=\"876.0\" cy=\"528.0\" r=\"1.2\"/><text class=\"shooting fw block\" x=\"864.0\" y=\"528.0\">196</text><rect class=\"shooting fw block\" height=\"14.4\" width=\"21.6\" x=\"877.2\" y=\"520.8\"/><circle class=\"shooting fw block\" cx=\"876.0\" cy=\"528.0\" r=\"1.2\"/><circle class=\"shooting fw block\" cx=\"900.0\" cy=\"528.0\" r=\"1.2\"/><text class=\"shooting fw block\" x=\"888.0\" y=\"528.0\">197</text><rect class=\"shooting fw block\" height=\"14.4\" width=\"21.6\" x=\"901.2\" y=\"520.8\"/><circle class=\"shooting fw block\" cx=\"900.0\" cy=\"528.0\" r=\"1.2\"/><text class=\"shooting fw block\" x=\"912.0\" y=\"528.0\">198</text><text class=\"shooting left label\" x=\"360.0\" y=\"552.0\">18f</text><line class=\"shooting fw connection v-connection\" x1=\"492.0\" x2=\"492.0\" y1=\"505.2\" y2=\"550.8\"/><rect class=\"shooting fw block\" height=\"14.4\" width=\"21.6\" x=\"493.2\" y=\"544.8\"/><circle class=\"shooting fw block\" cx=\"492.0\" cy=\"552.0\" r=\"1.2\"/><circle class=\"shooting fw block\" cx=\"516.0\" cy=\"552.0\" r=\"1.2\"/><text class=\"shooting fw block\" x=\"504.0\" y=\"552.0\">199</text><rect class=\"shooting fw block\" height=\"14.4\" width=\"21.6\" x=\"517.2\" y=\"544.8\"/><circle class=\"shooting fw block\" cx=\"516.0\" cy=\"552.0\" r=\"1.2\"/><circle class=\"shooting fw block\" cx=\"540.0\" cy=\"552.0\" r=\"1.2\"/><text class=\"shooting fw block\" x=\"528.0\" y=\"552.0\">200</text><rect class=\"shooting fw block\" height=\"14.4\" width=\"21.6\" x=\"541.2\" y=\"544.8\"/><circle class=\"shooting fw block\" cx=\"540.0\" cy=\"552.0\" r=\"1.2\"/><circle class=\"shooting fw block\" cx=\"564.0\" cy=\"552.0\" r=\"1.2\"/><text class=\"shooting fw block\" x=\"552.0\" y=\"552.0\">201</text><rect class=\"shooting fw block\" height=\"14.4\" width=\"21.6\" x=\"565.2\" y=\"544.8\"/><circle class=\"shooting fw block\" cx=\"564.0\" cy=\"552.0\" r=\"1.2\"/><circle class=\"shooting fw block\" cx=\"588.0\" cy=\"552.0\" r=\"1.2\"/><text class=\"shooting fw block\" x=\"576.0\" y=\"552.0\">202</text><rect class=\"shooting fw block\" height=\"14.4\" width=\"21.6\" x=\"589.2\" y=\"544.8\"/><circle class=\"shooting fw block\" cx=\"588.0\" cy=\"552.0\" r=\"1.2\"/><circle class=\"shooting fw block\" cx=\"612.0\" cy=\"552.0\" r=\"1.2\"/><text class=\"shooting fw block\" x=\"600.0\" y=\"552.0\">203</text><rect class=\"shooting fw block\" height=\"14.4\" width=\"21.6\" x=\"613.2\" y=\"544.8\"/><circle class=\"shooting fw block\" cx=\"612.0\" cy=\"552.0\" r=\"1.2\"/><circle class=\"shooting fw block\" cx=\"636.0\" cy=\"552.0\" r=\"1.2\"/><text class=\"shooting fw block\" x=\"624.0\" y=\"552.0\">204</text><rect class=\"shooting fw block\" height=\"14.4\" width=\"21.6\" x=\"637.2\" y=\"544.8\"/><circle class=\"shooting fw block\" cx=\"636.0\" cy=\"552.0\" r=\"1.2\"/><circle class=\"shooting fw block\" cx=\"660.0\" cy=\"552.0\" r=\"1.2\"/><text class=\"shooting fw block\" x=\"648.0\" y=\"552.0\">205</text><rect class=\"shooting fw block\" height=\"14.4\" width=\"21.6\" x=\"661.2\" y=\"544.8\"/><circle class=\"shooting fw block\" cx=\"660.0\" cy=\"552.0\" r=\"1.2\"/><circle class=\"shooting fw block\" cx=\"684.0\" cy=\"552.0\" r=\"1.2\"/><text class=\"shooting fw block\" x=\"672.0\" y=\"552.0\">206</text><rect class=\"shooting fw block\" height=\"14.4\" width=\"21.6\" x=\"685.2\" y=\"544.8\"/><circle class=\"shooting fw block\" cx=\"684.0\" cy=\"552.0\" r=\"1.2\"/><circle class=\"shooting fw block\" cx=\"708.0\" cy=\"552.0\" r=\"1.2\"/><text class=\"shooting fw block\" x=\"696.0\" y=\"552.0\">207</text><rect class=\"shooting fw block\" height=\"14.4\" width=\"21.6\" x=\"709.2\" y=\"544.8\"/><circle class=\"shooting fw block\" cx=\"708.0\" cy=\"552.0\" r=\"1.2\"/><circle class=\"shooting fw block\" cx=\"732.0\" cy=\"552.0\" r=\"1.2\"/><text class=\"shooting fw block\" x=\"720.0\" y=\"552.0\">208</text><rect class=\"shooting fw block\" height=\"14.4\" width=\"21.6\" x=\"733.2\" y=\"544.8\"/><circle class=\"shooting fw block\" cx=\"732.0\" cy=\"552.0\" r=\"1.2\"/><circle class=\"shooting fw block\" cx=\"756.0\" cy=\"552.0\" r=\"1.2\"/><text class=\"shooting fw block\" x=\"744.0\" y=\"552.0\">209</text><rect class=\"shooting fw block\" height=\"14.4\" width=\"21.6\" x=\"757.2\" y=\"544.8\"/><circle class=\"shooting fw block\" cx=\"756.0\" cy=\"552.0\" r=\"1.2\"/><circle class=\"shooting fw block\" cx=\"780.0\" cy=\"552.0\" r=\"1.2\"/><text class=\"shooting fw block\" x=\"768.0\" y=\"552.0\">210</text><rect class=\"shooting fw block\" height=\"14.4\" width=\"21.6\" x=\"781.2\" y=\"544.8\"/><circle class=\"shooting fw block\" cx=\"780.0\" cy=\"552.0\" r=\"1.2\"/><circle class=\"shooting fw block\" cx=\"804.0\" cy=\"552.0\" r=\"1.2\"/><text class=\"shooting fw block\" x=\"792.0\" y=\"552.0\">211</text><rect class=\"shooting fw block\" height=\"14.4\" width=\"21.6\" x=\"805.2\" y=\"544.8\"/><circle class=\"shooting fw block\" cx=\"804.0\" cy=\"552.0\" r=\"1.2\"/><circle class=\"shooting fw block\" cx=\"828.0\" cy=\"552.0\" r=\"1.2\"/><text class=\"shooting fw block\" x=\"816.0\" y=\"552.0\">212</text><rect class=\"shooting fw block\" height=\"14.4\" width=\"21.6\" x=\"829.2\" y=\"544.8\"/><circle class=\"shooting fw block\" cx=\"828.0\" cy=\"552.0\" r=\"1.2\"/><circle class=\"shooting fw block\" cx=\"852.0\" cy=\"552.0\" r=\"1.2\"/><text class=\"shooting fw block\" x=\"840.0\" y=\"552.0\">213</text><rect class=\"shooting fw block\" height=\"14.4\" width=\"21.6\" x=\"853.2\" y=\"544.8\"/><circle class=\"shooting fw block\" cx=\"852.0\" cy=\"552.0\" r=\"1.2\"/><text class=\"shooting fw block\" x=\"864.0\" y=\"552.0\">214</text><text class=\"shooting left label\" x=\"360.0\" y=\"576.0\">20f</text><line class=\"shooting fw connection v-connection\" x1=\"828.0\" x2=\"828.0\" y1=\"553.2\" y2=\"574.8\"/><rect class=\"shooting fw block\" height=\"14.4\" width=\"21.6\" x=\"829.2\" y=\"568.8\"/><circle class=\"shooting fw block\" cx=\"828.0\" cy=\"576.0\" r=\"1.2\"/><circle class=\"shooting fw block\" cx=\"852.0\" cy=\"576.0\" r=\"1.2\"/><text class=\"shooting fw block\" x=\"840.0\" y=\"576.0\">230</text><rect class=\"shooting fw block\" height=\"14.4\" width=\"21.6\" x=\"853.2\" y=\"568.8\"/><circle class=\"shooting fw block\" cx=\"852.0\" cy=\"576.0\" r=\"1.2\"/><text class=\"shooting fw block\" x=\"864.0\" y=\"576.0\">231</text><text class=\"shooting left label\" x=\"360.0\" y=\"600.0\">21f</text><line class=\"shooting fw connection v-connection\" x1=\"564.0\" x2=\"564.0\" y1=\"553.2\" y2=\"598.8\"/><rect class=\"shooting fw block\" height=\"14.4\" width=\"21.6\" x=\"565.2\" y=\"592.8\"/><circle class=\"shooting fw block\" cx=\"564.0\" cy=\"600.0\" r=\"1.2\"/><circle class=\"shooting fw block\" cx=\"588.0\" cy=\"600.0\" r=\"1.2\"/><text class=\"shooting fw block\" x=\"576.0\" y=\"600.0\">232</text><rect class=\"shooting fw block\" height=\"14.4\" width=\"21.6\" x=\"589.2\" y=\"592.8\"/><circle class=\"shooting fw block\" cx=\"588.0\" cy=\"600.0\" r=\"1.2\"/><circle class=\"shooting fw block\" cx=\"612.0\" cy=\"600.0\" r=\"1.2\"/><text class=\"shooting fw block\" x=\"600.0\" y=\"600.0\">233</text><rect class=\"shooting fw block\" height=\"14.4\" width=\"21.6\" x=\"613.2\" y=\"592.8\"/><circle class=\"shooting fw block\" cx=\"612.0\" cy=\"600.0\" r=\"1.2\"/><circle class=\"shooting fw block\" cx=\"636.0\" cy=\"600.0\" r=\"1.2\"/><text class=\"shooting fw block\" x=\"624.0\" y=\"600.0\">234</text><rect class=\"shooting fw block\" height=\"14.4\" width=\"21.6\" x=\"637.2\" y=\"592.8\"/><circle class=\"shooting fw block\" cx=\"636.0\" cy=\"600.0\" r=\"1.2\"/><circle class=\"shooting fw block\" cx=\"660.0\" cy=\"600.0\" r=\"1.2\"/><text class=\"shooting fw block\" x=\"648.0\" y=\"600.0\">235</text><rect class=\"shooting fw block\" height=\"14.4\" width=\"21.6\" x=\"661.2\" y=\"592.8\"/><circle class=\"shooting fw block\" cx=\"660.0\" cy=\"600.0\" r=\"1.2\"/><circle class=\"shooting fw block\" cx=\"684.0\" cy=\"600.0\" r=\"1.2\"/><text class=\"shooting fw block\" x=\"672.0\" y=\"600.0\">236</text><rect class=\"shooting fw block\" height=\"14.4\" width=\"21.6\" x=\"685.2\" y=\"592.8\"/><circle class=\"shooting fw block\" cx=\"684.0\" cy=\"600.0\" r=\"1.2\"/><circle class=\"shooting fw block\" cx=\"708.0\" cy=\"600.0\" r=\"1.2\"/><text class=\"shooting fw block\" x=\"696.0\" y=\"600.0\">237</text><rect class=\"shooting fw block\" height=\"14.4\" width=\"21.6\" x=\"709.2\" y=\"592.8\"/><circle class=\"shooting fw block\" cx=\"708.0\" cy=\"600.0\" r=\"1.2\"/><circle class=\"shooting fw block\" cx=\"732.0\" cy=\"600.0\" r=\"1.2\"/><text class=\"shooting fw block\" x=\"720.0\" y=\"600.0\">238</text><rect class=\"shooting fw block\" height=\"14.4\" width=\"21.6\" x=\"733.2\" y=\"592.8\"/><circle class=\"shooting fw block\" cx=\"732.0\" cy=\"600.0\" r=\"1.2\"/><circle class=\"shooting fw block\" cx=\"756.0\" cy=\"600.0\" r=\"1.2\"/><text class=\"shooting fw block\" x=\"744.0\" y=\"600.0\">239</text><rect class=\"shooting fw block\" height=\"14.4\" width=\"21.6\" x=\"757.2\" y=\"592.8\"/><circle class=\"shooting fw block\" cx=\"756.0\" cy=\"600.0\" r=\"1.2\"/><circle class=\"shooting fw block\" cx=\"780.0\" cy=\"600.0\" r=\"1.2\"/><text class=\"shooting fw block\" x=\"768.0\" y=\"600.0\">240</text><rect class=\"shooting fw block\" height=\"14.4\" width=\"21.6\" x=\"781.2\" y=\"592.8\"/><circle class=\"shooting fw block\" cx=\"780.0\" cy=\"600.0\" r=\"1.2\"/><circle class=\"shooting fw block\" cx=\"804.0\" cy=\"600.0\" r=\"1.2\"/><text class=\"shooting fw block\" x=\"792.0\" y=\"600.0\">241</text><rect class=\"shooting fw block\" height=\"14.4\" width=\"21.6\" x=\"805.2\" y=\"592.8\"/><circle class=\"shooting fw block\" cx=\"804.0\" cy=\"600.0\" r=\"1.2\"/><circle class=\"shooting fw block\" cx=\"828.0\" cy=\"600.0\" r=\"1.2\"/><text class=\"shooting fw block\" x=\"816.0\" y=\"600.0\">242</text><rect class=\"shooting fw block\" height=\"14.4\" width=\"21.6\" x=\"829.2\" y=\"592.8\"/><circle class=\"shooting fw block\" cx=\"828.0\" cy=\"600.0\" r=\"1.2\"/><circle class=\"shooting fw block\" cx=\"852.0\" cy=\"600.0\" r=\"1.2\"/><text class=\"shooting fw block\" x=\"840.0\" y=\"600.0\">243</text><rect class=\"shooting fw block\" height=\"14.4\" width=\"21.6\" x=\"853.2\" y=\"592.8\"/><circle class=\"shooting fw block\" cx=\"852.0\" cy=\"600.0\" r=\"1.2\"/><circle class=\"shooting fw block\" cx=\"876.0\" cy=\"600.0\" r=\"1.2\"/><text class=\"shooting fw block\" x=\"864.0\" y=\"600.0\">244</text><rect class=\"shooting fw block\" height=\"14.4\" width=\"21.6\" x=\"877.2\" y=\"592.8\"/><circle class=\"shooting fw block\" cx=\"876.0\" cy=\"600.0\" r=\"1.2\"/><circle class=\"shooting fw block\" cx=\"900.0\" cy=\"600.0\" r=\"1.2\"/><text class=\"shooting fw block\" x=\"888.0\" y=\"600.0\">245</text><rect class=\"shooting fw block\" height=\"14.4\" width=\"21.6\" x=\"901.2\" y=\"592.8\"/><circle class=\"shooting fw block\" cx=\"900.0\" cy=\"600.0\" r=\"1.2\"/><text class=\"shooting fw block\" x=\"912.0\" y=\"600.0\">246</text><text class=\"shooting left label\" x=\"360.0\" y=\"624.0\">22f</text><line class=\"shooting fw connection v-connection\" x1=\"588.0\" x2=\"588.0\" y1=\"601.2\" y2=\"622.8\"/><rect class=\"shooting fw block\" height=\"14.4\" width=\"21.6\" x=\"589.2\" y=\"616.8\"/><circle class=\"shooting fw block\" cx=\"588.0\" cy=\"624.0\" r=\"1.2\"/><circle class=\"shooting fw block\" cx=\"612.0\" cy=\"624.0\" r=\"1.2\"/><text class=\"shooting fw block\" x=\"600.0\" y=\"624.0\">247</text><rect class=\"shooting fw block\" height=\"14.4\" width=\"21.6\" x=\"613.2\" y=\"616.8\"/><circle class=\"shooting fw block\" cx=\"612.0\" cy=\"624.0\" r=\"1.2\"/><circle class=\"shooting fw block\" cx=\"636.0\" cy=\"624.0\" r=\"1.2\"/><text class=\"shooting fw block\" x=\"624.0\" y=\"624.0\">248</text><rect class=\"shooting fw block\" height=\"14.4\" width=\"21.6\" x=\"637.2\" y=\"616.8\"/><circle class=\"shooting fw block\" cx=\"636.0\" cy=\"624.0\" r=\"1.2\"/><circle class=\"shooting fw block\" cx=\"660.0\" cy=\"624.0\" r=\"1.2\"/><text class=\"shooting fw block\" x=\"648.0\" y=\"624.0\">249</text><rect class=\"shooting fw block\" height=\"14.4\" width=\"21.6\" x=\"661.2\" y=\"616.8\"/><circle class=\"shooting fw block\" cx=\"660.0\" cy=\"624.0\" r=\"1.2\"/><circle class=\"shooting fw block\" cx=\"684.0\" cy=\"624.0\" r=\"1.2\"/><text class=\"shooting fw block\" x=\"672.0\" y=\"624.0\">250</text><rect class=\"shooting fw block\" height=\"14.4\" width=\"21.6\" x=\"685.2\" y=\"616.8\"/><circle class=\"shooting fw block\" cx=\"684.0\" cy=\"624.0\" r=\"1.2\"/><circle class=\"shooting fw block\" cx=\"708.0\" cy=\"624.0\" r=\"1.2\"/><text class=\"shooting fw block\" x=\"696.0\" y=\"624.0\">251</text><rect class=\"shooting fw block\" height=\"14.4\" width=\"21.6\" x=\"709.2\" y=\"616.8\"/><circle class=\"shooting fw block\" cx=\"708.0\" cy=\"624.0\" r=\"1.2\"/><circle class=\"shooting fw block\" cx=\"732.0\" cy=\"624.0\" r=\"1.2\"/><text class=\"shooting fw block\" x=\"720.0\" y=\"624.0\">252</text><rect class=\"shooting fw block\" height=\"14.4\" width=\"21.6\" x=\"733.2\" y=\"616.8\"/><circle class=\"shooting fw block\" cx=\"732.0\" cy=\"624.0\" r=\"1.2\"/><circle class=\"shooting fw block\" cx=\"756.0\" cy=\"624.0\" r=\"1.2\"/><text class=\"shooting fw block\" x=\"744.0\" y=\"624.0\">253</text><rect class=\"shooting fw block\" height=\"14.4\" width=\"21.6\" x=\"757.2\" y=\"616.8\"/><circle class=\"shooting fw block\" cx=\"756.0\" cy=\"624.0\" r=\"1.2\"/><circle class=\"shooting fw block\" cx=\"780.0\" cy=\"624.0\" r=\"1.2\"/><text class=\"shooting fw block\" x=\"768.0\" y=\"624.0\">254</text><rect class=\"shooting fw block\" height=\"14.4\" width=\"21.6\" x=\"781.2\" y=\"616.8\"/><circle class=\"shooting fw block\" cx=\"780.0\" cy=\"624.0\" r=\"1.2\"/><circle class=\"shooting fw block\" cx=\"804.0\" cy=\"624.0\" r=\"1.2\"/><text class=\"shooting fw block\" x=\"792.0\" y=\"624.0\">255</text><rect class=\"shooting fw block\" height=\"14.4\" width=\"21.6\" x=\"805.2\" y=\"616.8\"/><circle class=\"shooting fw block\" cx=\"804.0\" cy=\"624.0\" r=\"1.2\"/><circle class=\"shooting fw block\" cx=\"828.0\" cy=\"624.0\" r=\"1.2\"/><text class=\"shooting fw block\" x=\"816.0\" y=\"624.0\">256</text><rect class=\"shooting fw block\" height=\"14.4\" width=\"21.6\" x=\"829.2\" y=\"616.8\"/><circle class=\"shooting fw block\" cx=\"828.0\" cy=\"624.0\" r=\"1.2\"/><circle class=\"shooting fw block\" cx=\"852.0\" cy=\"624.0\" r=\"1.2\"/><text class=\"shooting fw block\" x=\"840.0\" y=\"624.0\">257</text><rect class=\"shooting fw block\" height=\"14.4\" width=\"21.6\" x=\"853.2\" y=\"616.8\"/><circle class=\"shooting fw block\" cx=\"852.0\" cy=\"624.0\" r=\"1.2\"/><circle class=\"shooting fw block\" cx=\"876.0\" cy=\"624.0\" r=\"1.2\"/><text class=\"shooting fw block\" x=\"864.0\" y=\"624.0\">258</text><rect class=\"shooting fw block\" height=\"14.4\" width=\"21.6\" x=\"877.2\" y=\"616.8\"/><circle class=\"shooting fw block\" cx=\"876.0\" cy=\"624.0\" r=\"1.2\"/><circle class=\"shooting fw block\" cx=\"900.0\" cy=\"624.0\" r=\"1.2\"/><text class=\"shooting fw block\" x=\"888.0\" y=\"624.0\">259</text><rect class=\"shooting fw block\" height=\"14.4\" width=\"21.6\" x=\"901.2\" y=\"616.8\"/><circle class=\"shooting fw block\" cx=\"900.0\" cy=\"624.0\" r=\"1.2\"/><text class=\"shooting fw block\" x=\"912.0\" y=\"624.0\">260</text><text class=\"shooting left label\" x=\"360.0\" y=\"648.0\">23f</text><line class=\"shooting fw connection v-connection\" x1=\"852.0\" x2=\"852.0\" y1=\"625.2\" y2=\"646.8\"/><rect class=\"shooting fw block\" height=\"14.4\" width=\"21.6\" x=\"853.2\" y=\"640.8\"/><circle class=\"shooting fw block\" cx=\"852.0\" cy=\"648.0\" r=\"1.2\"/><circle class=\"shooting fw block\" cx=\"876.0\" cy=\"648.0\" r=\"1.2\"/><text class=\"shooting fw block\" x=\"864.0\" y=\"648.0\">261</text><rect class=\"shooting fw block\" height=\"14.4\" width=\"21.6\" x=\"877.2\" y=\"640.8\"/><circle class=\"shooting fw block\" cx=\"876.0\" cy=\"648.0\" r=\"1.2\"/><circle class=\"shooting fw block\" cx=\"900.0\" cy=\"648.0\" r=\"1.2\"/><text class=\"shooting fw block\" x=\"888.0\" y=\"648.0\">262</text><rect class=\"shooting fw block\" height=\"14.4\" width=\"21.6\" x=\"901.2\" y=\"640.8\"/><circle class=\"shooting fw block\" cx=\"900.0\" cy=\"648.0\" r=\"1.2\"/><text class=\"shooting fw block\" x=\"912.0\" y=\"648.0\">263</text><text class=\"shooting left label\" x=\"360.0\" y=\"672.0\">24b</text><line class=\"shooting bw connection v-connection\" x1=\"492.0\" x2=\"492.0\" y1=\"553.2\" y2=\"670.8\"/><rect class=\"shooting bw block\" height=\"14.4\" width=\"21.6\" x=\"397.2\" y=\"664.8\"/><circle class=\"shooting bw block\" cx=\"420.0\" cy=\"672.0\" r=\"1.2\"/><text class=\"shooting bw block\" x=\"408.0\" y=\"672.0\">264</text><rect class=\"shooting bw block\" height=\"14.4\" width=\"21.6\" x=\"421.2\" y=\"664.8\"/><circle class=\"shooting bw block\" cx=\"420.0\" cy=\"672.0\" r=\"1.2\"/><circle class=\"shooting bw block\" cx=\"444.0\" cy=\"672.0\" r=\"1.2\"/><text class=\"shooting bw block\" x=\"432.0\" y=\"672.0\">265</text><rect class=\"shooting bw block\" height=\"14.4\" width=\"21.6\" x=\"445.2\" y=\"664.8\"/><circle class=\"shooting bw block\" cx=\"444.0\" cy=\"672.0\" r=\"1.2\"/><circle class=\"shooting bw block\" cx=\"468.0\" cy=\"672.0\" r=\"1.2\"/><text class=\"shooting bw block\" x=\"456.0\" y=\"672.0\">266</text><rect class=\"shooting bw block\" height=\"14.4\" width=\"21.6\" x=\"469.2\" y=\"664.8\"/><circle class=\"shooting bw block\" cx=\"468.0\" cy=\"672.0\" r=\"1.2\"/><circle class=\"shooting bw block\" cx=\"492.0\" cy=\"672.0\" r=\"1.2\"/><text class=\"shooting bw block\" x=\"480.0\" y=\"672.0\">267</text><text class=\"shooting left label\" x=\"360.0\" y=\"696.0\">25f</text><line class=\"shooting fw connection v-connection\" x1=\"492.0\" x2=\"492.0\" y1=\"673.2\" y2=\"694.8\"/><rect class=\"shooting fw block\" height=\"14.4\" width=\"21.6\" x=\"493.2\" y=\"688.8\"/><circle class=\"shooting fw block\" cx=\"492.0\" cy=\"696.0\" r=\"1.2\"/><circle class=\"shooting fw block\" cx=\"516.0\" cy=\"696.0\" r=\"1.2\"/><text class=\"shooting fw block\" x=\"504.0\" y=\"696.0\">268</text><rect class=\"shooting fw block\" height=\"14.4\" width=\"21.6\" x=\"517.2\" y=\"688.8\"/><circle class=\"shooting fw block\" cx=\"516.0\" cy=\"696.0\" r=\"1.2\"/><circle class=\"shooting fw block\" cx=\"540.0\" cy=\"696.0\" r=\"1.2\"/><text class=\"shooting fw block\" x=\"528.0\" y=\"696.0\">269</text><rect class=\"shooting fw block\" height=\"14.4\" width=\"21.6\" x=\"541.2\" y=\"688.8\"/><circle class=\"shooting fw block\" cx=\"540.0\" cy=\"696.0\" r=\"1.2\"/><circle class=\"shooting fw block\" cx=\"564.0\" cy=\"696.0\" r=\"1.2\"/><text class=\"shooting fw block\" x=\"552.0\" y=\"696.0\">270</text><rect class=\"shooting fw block\" height=\"14.4\" width=\"21.6\" x=\"565.2\" y=\"688.8\"/><circle class=\"shooting fw block\" cx=\"564.0\" cy=\"696.0\" r=\"1.2\"/><circle class=\"shooting fw block\" cx=\"588.0\" cy=\"696.0\" r=\"1.2\"/><text class=\"shooting fw block\" x=\"576.0\" y=\"696.0\">271</text><rect class=\"shooting fw block\" height=\"14.4\" width=\"21.6\" x=\"589.2\" y=\"688.8\"/><circle class=\"shooting fw block\" cx=\"588.0\" cy=\"696.0\" r=\"1.2\"/><circle class=\"shooting fw block\" cx=\"612.0\" cy=\"696.0\" r=\"1.2\"/><text class=\"shooting fw block\" x=\"600.0\" y=\"696.0\">272</text><rect class=\"shooting fw block\" height=\"14.4\" width=\"21.6\" x=\"613.2\" y=\"688.8\"/><circle class=\"shooting fw block\" cx=\"612.0\" cy=\"696.0\" r=\"1.2\"/><circle class=\"shooting fw block\" cx=\"636.0\" cy=\"696.0\" r=\"1.2\"/><text class=\"shooting fw block\" x=\"624.0\" y=\"696.0\">273</text><rect class=\"shooting fw block\" height=\"14.4\" width=\"21.6\" x=\"637.2\" y=\"688.8\"/><circle class=\"shooting fw block\" cx=\"636.0\" cy=\"696.0\" r=\"1.2\"/><circle class=\"shooting fw block\" cx=\"660.0\" cy=\"696.0\" r=\"1.2\"/><text class=\"shooting fw block\" x=\"648.0\" y=\"696.0\">274</text><rect class=\"shooting fw block\" height=\"14.4\" width=\"21.6\" x=\"661.2\" y=\"688.8\"/><circle class=\"shooting fw block\" cx=\"660.0\" cy=\"696.0\" r=\"1.2\"/><circle class=\"shooting fw block\" cx=\"684.0\" cy=\"696.0\" r=\"1.2\"/><text class=\"shooting fw block\" x=\"672.0\" y=\"696.0\">275</text><rect class=\"shooting fw block\" height=\"14.4\" width=\"21.6\" x=\"685.2\" y=\"688.8\"/><circle class=\"shooting fw block\" cx=\"684.0\" cy=\"696.0\" r=\"1.2\"/><circle class=\"shooting fw block\" cx=\"708.0\" cy=\"696.0\" r=\"1.2\"/><text class=\"shooting fw block\" x=\"696.0\" y=\"696.0\">276</text><rect class=\"shooting fw block\" height=\"14.4\" width=\"21.6\" x=\"709.2\" y=\"688.8\"/><circle class=\"shooting fw block\" cx=\"708.0\" cy=\"696.0\" r=\"1.2\"/><circle class=\"shooting fw block\" cx=\"732.0\" cy=\"696.0\" r=\"1.2\"/><text class=\"shooting fw block\" x=\"720.0\" y=\"696.0\">277</text><rect class=\"shooting fw block\" height=\"14.4\" width=\"21.6\" x=\"733.2\" y=\"688.8\"/><circle class=\"shooting fw block\" cx=\"732.0\" cy=\"696.0\" r=\"1.2\"/><circle class=\"shooting fw block\" cx=\"756.0\" cy=\"696.0\" r=\"1.2\"/><text class=\"shooting fw block\" x=\"744.0\" y=\"696.0\">278</text><rect class=\"shooting fw block\" height=\"14.4\" width=\"21.6\" x=\"757.2\" y=\"688.8\"/><circle class=\"shooting fw block\" cx=\"756.0\" cy=\"696.0\" r=\"1.2\"/><circle class=\"shooting fw block\" cx=\"780.0\" cy=\"696.0\" r=\"1.2\"/><text class=\"shooting fw block\" x=\"768.0\" y=\"696.0\">279</text><rect class=\"shooting fw block\" height=\"14.4\" width=\"21.6\" x=\"781.2\" y=\"688.8\"/><circle class=\"shooting fw block\" cx=\"780.0\" cy=\"696.0\" r=\"1.2\"/><circle class=\"shooting fw block\" cx=\"804.0\" cy=\"696.0\" r=\"1.2\"/><text class=\"shooting fw block\" x=\"792.0\" y=\"696.0\">280</text><rect class=\"shooting fw block\" height=\"14.4\" width=\"21.6\" x=\"805.2\" y=\"688.8\"/><circle class=\"shooting fw block\" cx=\"804.0\" cy=\"696.0\" r=\"1.2\"/><circle class=\"shooting fw block\" cx=\"828.0\" cy=\"696.0\" r=\"1.2\"/><text class=\"shooting fw block\" x=\"816.0\" y=\"696.0\">281</text><rect class=\"shooting fw block\" height=\"14.4\" width=\"21.6\" x=\"829.2\" y=\"688.8\"/><circle class=\"shooting fw block\" cx=\"828.0\" cy=\"696.0\" r=\"1.2\"/><circle class=\"shooting fw block\" cx=\"852.0\" cy=\"696.0\" r=\"1.2\"/><text class=\"shooting fw block\" x=\"840.0\" y=\"696.0\">282</text><rect class=\"shooting fw block\" height=\"14.4\" width=\"21.6\" x=\"853.2\" y=\"688.8\"/><circle class=\"shooting fw block\" cx=\"852.0\" cy=\"696.0\" r=\"1.2\"/><circle class=\"shooting fw block\" cx=\"876.0\" cy=\"696.0\" r=\"1.2\"/><text class=\"shooting fw block\" x=\"864.0\" y=\"696.0\">283</text><rect class=\"shooting fw block\" height=\"14.4\" width=\"21.6\" x=\"877.2\" y=\"688.8\"/><circle class=\"shooting fw block\" cx=\"876.0\" cy=\"696.0\" r=\"1.2\"/><circle class=\"shooting fw block\" cx=\"900.0\" cy=\"696.0\" r=\"1.2\"/><text class=\"shooting fw block\" x=\"888.0\" y=\"696.0\">284</text><rect class=\"shooting fw block\" height=\"14.4\" width=\"21.6\" x=\"901.2\" y=\"688.8\"/><circle class=\"shooting fw block\" cx=\"900.0\" cy=\"696.0\" r=\"1.2\"/><circle class=\"shooting fw block\" cx=\"924.0\" cy=\"696.0\" r=\"1.2\"/><text class=\"shooting fw block\" x=\"912.0\" y=\"696.0\">285</text><rect class=\"shooting fw block\" height=\"14.4\" width=\"21.6\" x=\"925.2\" y=\"688.8\"/><circle class=\"shooting fw block\" cx=\"924.0\" cy=\"696.0\" r=\"1.2\"/><circle class=\"shooting fw block\" cx=\"948.0\" cy=\"696.0\" r=\"1.2\"/><text class=\"shooting fw block\" x=\"936.0\" y=\"696.0\">286</text><rect class=\"shooting fw block\" height=\"14.4\" width=\"21.6\" x=\"949.2\" y=\"688.8\"/><circle class=\"shooting fw block\" cx=\"948.0\" cy=\"696.0\" r=\"1.2\"/><circle class=\"shooting fw block\" cx=\"972.0\" cy=\"696.0\" r=\"1.2\"/><text class=\"shooting fw block\" x=\"960.0\" y=\"696.0\">287</text><rect class=\"shooting fw block\" height=\"14.4\" width=\"21.6\" x=\"973.2\" y=\"688.8\"/><circle class=\"shooting fw block\" cx=\"972.0\" cy=\"696.0\" r=\"1.2\"/><circle class=\"shooting fw block\" cx=\"996.0\" cy=\"696.0\" r=\"1.2\"/><text class=\"shooting fw block\" x=\"984.0\" y=\"696.0\">288</text><rect class=\"shooting fw block\" height=\"14.4\" width=\"21.6\" x=\"997.2\" y=\"688.8\"/><circle class=\"shooting fw block\" cx=\"996.0\" cy=\"696.0\" r=\"1.2\"/><circle class=\"shooting fw block\" cx=\"1020.0\" cy=\"696.0\" r=\"1.2\"/><text class=\"shooting fw block\" x=\"1008.0\" y=\"696.0\">289</text><rect class=\"shooting fw block\" height=\"14.4\" width=\"21.6\" x=\"1021.2\" y=\"688.8\"/><circle class=\"shooting fw block\" cx=\"1020.0\" cy=\"696.0\" r=\"1.2\"/><circle class=\"shooting fw block\" cx=\"1044.0\" cy=\"696.0\" r=\"1.2\"/><text class=\"shooting fw block\" x=\"1032.0\" y=\"696.0\">290</text><rect class=\"shooting fw block\" height=\"14.4\" width=\"21.6\" x=\"1045.2\" y=\"688.8\"/><circle class=\"shooting fw block\" cx=\"1044.0\" cy=\"696.0\" r=\"1.2\"/><circle class=\"shooting fw block\" cx=\"1068.0\" cy=\"696.0\" r=\"1.2\"/><text class=\"shooting fw block\" x=\"1056.0\" y=\"696.0\">291</text><rect class=\"shooting fw block\" height=\"14.4\" width=\"21.6\" x=\"1069.2\" y=\"688.8\"/><circle class=\"shooting fw block\" cx=\"1068.0\" cy=\"696.0\" r=\"1.2\"/><circle class=\"shooting fw block\" cx=\"1092.0\" cy=\"696.0\" r=\"1.2\"/><text class=\"shooting fw block\" x=\"1080.0\" y=\"696.0\">292</text><rect class=\"shooting fw block\" height=\"14.4\" width=\"21.6\" x=\"1093.2\" y=\"688.8\"/><circle class=\"shooting fw block\" cx=\"1092.0\" cy=\"696.0\" r=\"1.2\"/><circle class=\"shooting fw block\" cx=\"1116.0\" cy=\"696.0\" r=\"1.2\"/><text class=\"shooting fw block\" x=\"1104.0\" y=\"696.0\">293</text><rect class=\"shooting fw block\" height=\"14.4\" width=\"21.6\" x=\"1117.2\" y=\"688.8\"/><circle class=\"shooting fw block\" cx=\"1116.0\" cy=\"696.0\" r=\"1.2\"/><circle class=\"shooting fw block\" cx=\"1140.0\" cy=\"696.0\" r=\"1.2\"/><text class=\"shooting fw block\" x=\"1128.0\" y=\"696.0\">294</text><rect class=\"shooting fw block\" height=\"14.4\" width=\"21.6\" x=\"1141.2\" y=\"688.8\"/><circle class=\"shooting fw block\" cx=\"1140.0\" cy=\"696.0\" r=\"1.2\"/><circle class=\"shooting fw block\" cx=\"1164.0\" cy=\"696.0\" r=\"1.2\"/><text class=\"shooting fw block\" x=\"1152.0\" y=\"696.0\">295</text><rect class=\"shooting fw block\" height=\"14.4\" width=\"21.6\" x=\"1165.2\" y=\"688.8\"/><circle class=\"shooting fw block\" cx=\"1164.0\" cy=\"696.0\" r=\"1.2\"/><circle class=\"shooting fw block\" cx=\"1188.0\" cy=\"696.0\" r=\"1.2\"/><text class=\"shooting fw block\" x=\"1176.0\" y=\"696.0\">296</text><rect class=\"shooting fw block\" height=\"14.4\" width=\"21.6\" x=\"1189.2\" y=\"688.8\"/><circle class=\"shooting fw block\" cx=\"1188.0\" cy=\"696.0\" r=\"1.2\"/><circle class=\"shooting fw block\" cx=\"1212.0\" cy=\"696.0\" r=\"1.2\"/><text class=\"shooting fw block\" x=\"1200.0\" y=\"696.0\">297</text><rect class=\"shooting fw block\" height=\"14.4\" width=\"21.6\" x=\"1213.2\" y=\"688.8\"/><circle class=\"shooting fw block\" cx=\"1212.0\" cy=\"696.0\" r=\"1.2\"/><circle class=\"shooting fw block\" cx=\"1236.0\" cy=\"696.0\" r=\"1.2\"/><text class=\"shooting fw block\" x=\"1224.0\" y=\"696.0\">298</text><rect class=\"shooting fw block\" height=\"14.4\" width=\"21.6\" x=\"1237.2\" y=\"688.8\"/><circle class=\"shooting fw block\" cx=\"1236.0\" cy=\"696.0\" r=\"1.2\"/><circle class=\"shooting fw block\" cx=\"1260.0\" cy=\"696.0\" r=\"1.2\"/><text class=\"shooting fw block\" x=\"1248.0\" y=\"696.0\">299</text><rect class=\"shooting fw block\" height=\"14.4\" width=\"21.6\" x=\"1261.2\" y=\"688.8\"/><circle class=\"shooting fw block\" cx=\"1260.0\" cy=\"696.0\" r=\"1.2\"/><circle class=\"shooting fw block\" cx=\"1284.0\" cy=\"696.0\" r=\"1.2\"/><text class=\"shooting fw block\" x=\"1272.0\" y=\"696.0\">300</text><rect class=\"shooting fw block\" height=\"14.4\" width=\"21.6\" x=\"1285.2\" y=\"688.8\"/><circle class=\"shooting fw block\" cx=\"1284.0\" cy=\"696.0\" r=\"1.2\"/><circle class=\"shooting fw block\" cx=\"1308.0\" cy=\"696.0\" r=\"1.2\"/><text class=\"shooting fw block\" x=\"1296.0\" y=\"696.0\">301</text><rect class=\"shooting fw block\" height=\"14.4\" width=\"21.6\" x=\"1309.2\" y=\"688.8\"/><circle class=\"shooting fw block\" cx=\"1308.0\" cy=\"696.0\" r=\"1.2\"/><circle class=\"shooting fw block\" cx=\"1332.0\" cy=\"696.0\" r=\"1.2\"/><text class=\"shooting fw block\" x=\"1320.0\" y=\"696.0\">302</text><rect class=\"shooting fw block\" height=\"14.4\" width=\"21.6\" x=\"1333.2\" y=\"688.8\"/><circle class=\"shooting fw block\" cx=\"1332.0\" cy=\"696.0\" r=\"1.2\"/><circle class=\"shooting fw block\" cx=\"1356.0\" cy=\"696.0\" r=\"1.2\"/><text class=\"shooting fw block\" x=\"1344.0\" y=\"696.0\">303</text><rect class=\"shooting fw block\" height=\"14.4\" width=\"21.6\" x=\"1357.2\" y=\"688.8\"/><circle class=\"shooting fw block\" cx=\"1356.0\" cy=\"696.0\" r=\"1.2\"/><circle class=\"shooting fw block\" cx=\"1380.0\" cy=\"696.0\" r=\"1.2\"/><text class=\"shooting fw block\" x=\"1368.0\" y=\"696.0\">304</text><rect class=\"shooting fw block\" height=\"14.4\" width=\"21.6\" x=\"1381.2\" y=\"688.8\"/><circle class=\"shooting fw block\" cx=\"1380.0\" cy=\"696.0\" r=\"1.2\"/><circle class=\"shooting fw block\" cx=\"1404.0\" cy=\"696.0\" r=\"1.2\"/><text class=\"shooting fw block\" x=\"1392.0\" y=\"696.0\">305</text><rect class=\"shooting fw block\" height=\"14.4\" width=\"21.6\" x=\"1405.2\" y=\"688.8\"/><circle class=\"shooting fw block\" cx=\"1404.0\" cy=\"696.0\" r=\"1.2\"/><text class=\"shooting fw block\" x=\"1416.0\" y=\"696.0\">306</text><text class=\"hop left label\" x=\"360.0\" y=\"720.0\">25h</text><rect class=\"hop overlap range\" height=\"2.4\" width=\"1029.6\" x=\"397.2\" y=\"718.8\"/><circle class=\"hop overlap range\" cx=\"396.0\" cy=\"720.0\" r=\"1.2\"/><rect class=\"hop overlap range\" height=\"14.4\" width=\"2.4\" x=\"397.2\" y=\"712.8\"/><circle class=\"hop overlap range\" cx=\"1428.0\" cy=\"720.0\" r=\"1.2\"/><rect class=\"hop overlap range\" height=\"14.4\" width=\"2.4\" x=\"1424.4\" y=\"712.8\"/><text class=\"hop overlap range\" x=\"912.0\" y=\"712.8\">EnsembleHop</text><text class=\"label\" x=\"240.0\" y=\"48.0\">smp</text><text class=\"label\" x=\"192.0\" y=\"48.0\">cyc</text><text class=\"label\" x=\"312.0\" y=\"48.0\">cor</text><rect class=\"tableline\" height=\"24.0\" width=\"1536.0\" x=\"-72.0\" y=\"61.2\"/><text class=\"label\" x=\"240.0\" y=\"72.0\">1</text><text class=\"label\" x=\"192.0\" y=\"72.0\">1</text><rect class=\"tableline\" height=\"24.0\" width=\"1536.0\" x=\"-72.0\" y=\"85.2\"/><text class=\"label\" x=\"240.0\" y=\"96.0\">2</text><text class=\"label\" x=\"192.0\" y=\"96.0\">1</text><rect class=\"tableline\" height=\"24.0\" width=\"1536.0\" x=\"-72.0\" y=\"109.2\"/><text class=\"label\" x=\"240.0\" y=\"120.0\">3</text><text class=\"label\" x=\"192.0\" y=\"120.0\">2</text><rect class=\"tableline\" height=\"24.0\" width=\"1536.0\" x=\"-72.0\" y=\"133.2\"/><text class=\"label\" x=\"240.0\" y=\"144.0\">4</text><text class=\"label\" x=\"192.0\" y=\"144.0\">2</text><rect class=\"tableline\" height=\"24.0\" width=\"1536.0\" x=\"-72.0\" y=\"157.2\"/><rect class=\"h-range\" height=\"91.2\" width=\"2.4\" x=\"312.0\" y=\"62.4\"/><circle class=\"h-range\" cx=\"312.0\" cy=\"62.4\" r=\"1.2\"/><rect class=\"h-range\" height=\"2.4\" width=\"21.6\" x=\"301.2\" y=\"62.4\"/><circle class=\"h-range\" cx=\"312.0\" cy=\"153.6\" r=\"1.2\"/><rect class=\"h-range\" height=\"2.4\" width=\"21.6\" x=\"301.2\" y=\"151.2\"/><text class=\"h-range\" x=\"304.8\" y=\"108.0\"/><text class=\"label\" x=\"240.0\" y=\"168.0\">5</text><text class=\"label\" x=\"192.0\" y=\"168.0\">3</text><rect class=\"tableline\" height=\"24.0\" width=\"1536.0\" x=\"-72.0\" y=\"181.2\"/><text class=\"label\" x=\"240.0\" y=\"192.0\">7</text><text class=\"label\" x=\"192.0\" y=\"192.0\">4</text><rect class=\"tableline\" height=\"24.0\" width=\"1536.0\" x=\"-72.0\" y=\"205.2\"/><text class=\"label\" x=\"240.0\" y=\"216.0\">9</text><text class=\"label\" x=\"192.0\" y=\"216.0\">5</text><rect class=\"tableline\" height=\"24.0\" width=\"1536.0\" x=\"-72.0\" y=\"229.2\"/><text class=\"label\" x=\"240.0\" y=\"240.0\">11</text><text class=\"label\" x=\"192.0\" y=\"240.0\">6</text><rect class=\"tableline\" height=\"24.0\" width=\"1536.0\" x=\"-72.0\" y=\"253.2\"/><rect class=\"h-range\" height=\"91.2\" width=\"2.4\" x=\"312.0\" y=\"158.4\"/><circle class=\"h-range\" cx=\"312.0\" cy=\"158.4\" r=\"1.2\"/><rect class=\"h-range\" height=\"2.4\" width=\"21.6\" x=\"301.2\" y=\"158.4\"/><circle class=\"h-range\" cx=\"312.0\" cy=\"249.6\" r=\"1.2\"/><rect class=\"h-range\" height=\"2.4\" width=\"21.6\" x=\"301.2\" y=\"247.2\"/><text class=\"h-range\" x=\"304.8\" y=\"204.0\"/><text class=\"label\" x=\"240.0\" y=\"264.0\">13</text><text class=\"label\" x=\"192.0\" y=\"264.0\">7</text><rect class=\"tableline\" height=\"24.0\" width=\"1536.0\" x=\"-72.0\" y=\"277.2\"/><text class=\"label\" x=\"240.0\" y=\"288.0\">14</text><text class=\"label\" x=\"192.0\" y=\"288.0\">7</text><rect class=\"tableline\" height=\"24.0\" width=\"1536.0\" x=\"-72.0\" y=\"301.2\"/><text class=\"label\" x=\"240.0\" y=\"312.0\">15</text><text class=\"label\" x=\"192.0\" y=\"312.0\">8</text><rect class=\"tableline\" height=\"24.0\" width=\"1536.0\" x=\"-72.0\" y=\"325.2\"/><text class=\"label\" x=\"240.0\" y=\"336.0\">16</text><text class=\"label\" x=\"192.0\" y=\"336.0\">8</text><rect class=\"tableline\" height=\"24.0\" width=\"1536.0\" x=\"-72.0\" y=\"349.2\"/><text class=\"label\" x=\"240.0\" y=\"360.0\">17</text><text class=\"label\" x=\"192.0\" y=\"360.0\">9</text><rect class=\"tableline\" height=\"24.0\" width=\"1536.0\" x=\"-72.0\" y=\"373.2\"/><text class=\"label\" x=\"240.0\" y=\"384.0\">19</text><text class=\"label\" x=\"192.0\" y=\"384.0\">10</text><rect class=\"tableline\" height=\"24.0\" width=\"1536.0\" x=\"-72.0\" y=\"397.2\"/><text class=\"label\" x=\"240.0\" y=\"408.0\">21</text><text class=\"label\" x=\"192.0\" y=\"408.0\">11</text><rect class=\"tableline\" height=\"24.0\" width=\"1536.0\" x=\"-72.0\" y=\"421.2\"/><rect class=\"h-range\" height=\"163.2\" width=\"2.4\" x=\"312.0\" y=\"254.4\"/><circle class=\"h-range\" cx=\"312.0\" cy=\"254.4\" r=\"1.2\"/><rect class=\"h-range\" height=\"2.4\" width=\"21.6\" x=\"301.2\" y=\"254.4\"/><circle class=\"h-range\" cx=\"312.0\" cy=\"417.6\" r=\"1.2\"/><rect class=\"h-range\" height=\"2.4\" width=\"21.6\" x=\"301.2\" y=\"415.2\"/><text class=\"h-range\" x=\"304.8\" y=\"336.0\"/><text class=\"label\" x=\"240.0\" y=\"432.0\">23</text><text class=\"label\" x=\"192.0\" y=\"432.0\">12</text><rect class=\"tableline\" height=\"24.0\" width=\"1536.0\" x=\"-72.0\" y=\"445.2\"/><text class=\"label\" x=\"240.0\" y=\"456.0\">24</text><text class=\"label\" x=\"192.0\" y=\"456.0\">12</text><rect class=\"tableline\" height=\"24.0\" width=\"1536.0\" x=\"-72.0\" y=\"469.2\"/><text class=\"label\" x=\"240.0\" y=\"480.0\">25</text><text class=\"label\" x=\"192.0\" y=\"480.0\">13</text><rect class=\"tableline\" height=\"24.0\" width=\"1536.0\" x=\"-72.0\" y=\"493.2\"/><rect class=\"h-range\" height=\"67.2\" width=\"2.4\" x=\"312.0\" y=\"422.4\"/><circle class=\"h-range\" cx=\"312.0\" cy=\"422.4\" r=\"1.2\"/><rect class=\"h-range\" height=\"2.4\" width=\"21.6\" x=\"301.2\" y=\"422.4\"/><circle class=\"h-range\" cx=\"312.0\" cy=\"489.6\" r=\"1.2\"/><rect class=\"h-range\" height=\"2.4\" width=\"21.6\" x=\"301.2\" y=\"487.2\"/><text class=\"h-range\" x=\"304.8\" y=\"456.0\"/><text class=\"label\" x=\"240.0\" y=\"504.0\">27</text><text class=\"label\" x=\"192.0\" y=\"504.0\">14</text><rect class=\"tableline\" height=\"24.0\" width=\"1536.0\" x=\"-72.0\" y=\"517.2\"/><text class=\"label\" x=\"240.0\" y=\"528.0\">30</text><text class=\"label\" x=\"192.0\" y=\"528.0\">16</text><rect class=\"tableline\" height=\"24.0\" width=\"1536.0\" x=\"-72.0\" y=\"541.2\"/><text class=\"label\" x=\"240.0\" y=\"552.0\">32</text><text class=\"label\" x=\"192.0\" y=\"552.0\">17</text><rect class=\"tableline\" height=\"24.0\" width=\"1536.0\" x=\"-72.0\" y=\"565.2\"/><text class=\"label\" x=\"240.0\" y=\"576.0\">35</text><text class=\"label\" x=\"192.0\" y=\"576.0\">19</text><rect class=\"tableline\" height=\"24.0\" width=\"1536.0\" x=\"-72.0\" y=\"589.2\"/><text class=\"label\" x=\"240.0\" y=\"600.0\">37</text><text class=\"label\" x=\"192.0\" y=\"600.0\">20</text><rect class=\"tableline\" height=\"24.0\" width=\"1536.0\" x=\"-72.0\" y=\"613.2\"/><text class=\"label\" x=\"240.0\" y=\"624.0\">39</text><text class=\"label\" x=\"192.0\" y=\"624.0\">21</text><rect class=\"tableline\" height=\"24.0\" width=\"1536.0\" x=\"-72.0\" y=\"637.2\"/><text class=\"label\" x=\"240.0\" y=\"648.0\">41</text><text class=\"label\" x=\"192.0\" y=\"648.0\">22</text><rect class=\"tableline\" height=\"24.0\" width=\"1536.0\" x=\"-72.0\" y=\"661.2\"/><rect class=\"h-range\" height=\"163.2\" width=\"2.4\" x=\"312.0\" y=\"494.4\"/><circle class=\"h-range\" cx=\"312.0\" cy=\"494.4\" r=\"1.2\"/><rect class=\"h-range\" height=\"2.4\" width=\"21.6\" x=\"301.2\" y=\"494.4\"/><circle class=\"h-range\" cx=\"312.0\" cy=\"657.6\" r=\"1.2\"/><rect class=\"h-range\" height=\"2.4\" width=\"21.6\" x=\"301.2\" y=\"655.2\"/><text class=\"h-range\" x=\"304.8\" y=\"576.0\"/><text class=\"label\" x=\"240.0\" y=\"672.0\">43</text><text class=\"label\" x=\"192.0\" y=\"672.0\">23</text><rect class=\"tableline\" height=\"24.0\" width=\"1536.0\" x=\"-72.0\" y=\"685.2\"/><text class=\"label\" x=\"240.0\" y=\"696.0\">45</text><text class=\"label\" x=\"192.0\" y=\"696.0\">24</text><rect class=\"tableline\" height=\"24.0\" width=\"1536.0\" x=\"-72.0\" y=\"709.2\"/><text class=\"label\" x=\"240.0\" y=\"720.0\">46</text><text class=\"label\" x=\"192.0\" y=\"720.0\">24</text><rect class=\"h-range\" height=\"67.2\" width=\"2.4\" x=\"312.0\" y=\"662.4\"/><circle class=\"h-range\" cx=\"312.0\" cy=\"662.4\" r=\"1.2\"/><rect class=\"h-range\" height=\"2.4\" width=\"21.6\" x=\"301.2\" y=\"662.4\"/><text class=\"h-range\" x=\"304.8\" y=\"696.0\"/><text class=\"label\" x=\"144.0\" y=\"720.0\"/></svg>"
      ],
      "text/plain": [
       "<IPython.core.display.SVG object>"
      ]
     },
     "execution_count": 40,
     "metadata": {},
     "output_type": "execute_result"
    }
   ],
   "source": [
    "view = tree.renderer\n",
    "#view.zoom = 1.1\n",
    "view.scale_y = 24\n",
    "view.scale_x = 24\n",
    "view.font_size = 0.35\n",
    "SVG(view.to_svg())"
   ]
  },
  {
   "cell_type": "markdown",
   "metadata": {},
   "source": [
    "An alternate view which is similar to the standard way of plotting"
   ]
  },
  {
   "cell_type": "code",
   "execution_count": 41,
   "metadata": {
    "collapsed": false
   },
   "outputs": [
    {
     "data": {
      "image/svg+xml": [
       "<svg baseProfile=\"full\" class=\"opstree\" height=\"100%\" version=\"1.1\" viewBox=\"132.00 26.40 1440.12 475.20\" width=\"100%\" xmlns=\"http://www.w3.org/2000/svg\" xmlns:ev=\"http://www.w3.org/2001/xml-events\" xmlns:xlink=\"http://www.w3.org/1999/xlink\"><defs><style type=\"text/css\"><![CDATA[\n",
       "            .opstree text {\n",
       "                alignment-baseline: central;\n",
       "                font-size: 10px;\n",
       "                text-anchor: middle;\n",
       "            }\n",
       "            .opstree text.bw.label {\n",
       "                text-anchor: end;\n",
       "            }\n",
       "            .opstree text.fw.label {\n",
       "                text-anchor: start;\n",
       "            }\n",
       "            .opstree text.block {\n",
       "                fill: white !important;\n",
       "                stroke: none !important;\n",
       "            }\n",
       "            .opstree .repex {\n",
       "                fill: blue;\n",
       "            }\n",
       "            .opstree .new {\n",
       "                fill: black;\n",
       "            }\n",
       "            .opstree .hop {\n",
       "                fill: blue;\n",
       "            }\n",
       "            .opstree .shooting.bw {\n",
       "                fill: green;\n",
       "                stroke: green;\n",
       "            }\n",
       "            .opstree .shooting.fw {\n",
       "                fill: red;\n",
       "                stroke: red;\n",
       "            }\n",
       "            .opstree .reversal {\n",
       "                fill: gold;\n",
       "            }\n",
       "            .opstree line {\n",
       "                stroke-width: 2px;\n",
       "            }\n",
       "            .opstree .label {\n",
       "                fill: black !important;\n",
       "            }\n",
       "            .opstree .connection {\n",
       "                stroke-dasharray: 3 3;\n",
       "            }\n",
       "            .opstree .rejected {\n",
       "                opacity: 0.3;\n",
       "            }\n",
       "            .opstree text {\n",
       "                font-family: Impact;\n",
       "            }\n",
       "            .opstree .orange {\n",
       "                fill: orange;\n",
       "            }\n",
       "            .tableline {\n",
       "                fill: gray;\n",
       "                opacity: 0.0;\n",
       "            }\n",
       "            .tableline:hover {\n",
       "                opacity: 0.2;\n",
       "            }\n",
       "            ]]></style></defs><text class=\"unknown left label\" x=\"396.0\" y=\"49.5\">2+</text><rect class=\"unknown overlap range\" height=\"1.65\" width=\"607.728\" x=\"435.336\" y=\"48.675\"/><circle class=\"unknown overlap range\" cx=\"435.6\" cy=\"49.5\" r=\"-0.264\"/><rect class=\"unknown overlap range\" height=\"9.9\" width=\"2.64\" x=\"435.336\" y=\"44.55\"/><circle class=\"unknown overlap range\" cx=\"1042.8\" cy=\"49.5\" r=\"-0.264\"/><rect class=\"unknown overlap range\" height=\"9.9\" width=\"2.64\" x=\"1040.424\" y=\"44.55\"/><text class=\"unknown overlap range\" x=\"739.2\" y=\"44.55\"/><text class=\"hop left label\" x=\"396.0\" y=\"66.0\">2h</text><rect class=\"hop overlap range\" height=\"1.65\" width=\"607.728\" x=\"435.336\" y=\"65.175\"/><circle class=\"hop overlap range\" cx=\"435.6\" cy=\"66.0\" r=\"-0.264\"/><rect class=\"hop overlap range\" height=\"9.9\" width=\"2.64\" x=\"435.336\" y=\"61.05\"/><circle class=\"hop overlap range\" cx=\"1042.8\" cy=\"66.0\" r=\"-0.264\"/><rect class=\"hop overlap range\" height=\"9.9\" width=\"2.64\" x=\"1040.424\" y=\"61.05\"/><text class=\"hop overlap range\" x=\"739.2\" y=\"61.05\">EnsembleHop</text><text class=\"shooting left label\" x=\"396.0\" y=\"82.5\">3f</text><line class=\"shooting fw connection v-connection\" x1=\"594.0\" x2=\"594.0\" y1=\"49.335\" y2=\"82.665\"/><rect class=\"shooting fw block\" height=\"9.9\" width=\"26.928\" x=\"593.736\" y=\"77.55\"/><circle class=\"shooting fw block\" cx=\"594.0\" cy=\"82.5\" r=\"-0.264\"/><circle class=\"shooting fw block\" cx=\"620.4\" cy=\"82.5\" r=\"-0.264\"/><text class=\"shooting fw block\" x=\"607.2\" y=\"82.5\"/><rect class=\"shooting fw block\" height=\"9.9\" width=\"26.928\" x=\"620.136\" y=\"77.55\"/><circle class=\"shooting fw block\" cx=\"620.4\" cy=\"82.5\" r=\"-0.264\"/><circle class=\"shooting fw block\" cx=\"646.8\" cy=\"82.5\" r=\"-0.264\"/><text class=\"shooting fw block\" x=\"633.6\" y=\"82.5\"/><rect class=\"shooting fw block\" height=\"9.9\" width=\"26.928\" x=\"646.536\" y=\"77.55\"/><circle class=\"shooting fw block\" cx=\"646.8\" cy=\"82.5\" r=\"-0.264\"/><circle class=\"shooting fw block\" cx=\"673.2\" cy=\"82.5\" r=\"-0.264\"/><text class=\"shooting fw block\" x=\"660.0\" y=\"82.5\"/><rect class=\"shooting fw block\" height=\"9.9\" width=\"26.928\" x=\"672.936\" y=\"77.55\"/><circle class=\"shooting fw block\" cx=\"673.2\" cy=\"82.5\" r=\"-0.264\"/><circle class=\"shooting fw block\" cx=\"699.6\" cy=\"82.5\" r=\"-0.264\"/><text class=\"shooting fw block\" x=\"686.4\" y=\"82.5\"/><rect class=\"shooting fw block\" height=\"9.9\" width=\"26.928\" x=\"699.336\" y=\"77.55\"/><circle class=\"shooting fw block\" cx=\"699.6\" cy=\"82.5\" r=\"-0.264\"/><circle class=\"shooting fw block\" cx=\"726.0\" cy=\"82.5\" r=\"-0.264\"/><text class=\"shooting fw block\" x=\"712.8\" y=\"82.5\"/><rect class=\"shooting fw block\" height=\"9.9\" width=\"26.928\" x=\"725.736\" y=\"77.55\"/><circle class=\"shooting fw block\" cx=\"726.0\" cy=\"82.5\" r=\"-0.264\"/><circle class=\"shooting fw block\" cx=\"752.4\" cy=\"82.5\" r=\"-0.264\"/><text class=\"shooting fw block\" x=\"739.2\" y=\"82.5\"/><rect class=\"shooting fw block\" height=\"9.9\" width=\"26.928\" x=\"752.136\" y=\"77.55\"/><circle class=\"shooting fw block\" cx=\"752.4\" cy=\"82.5\" r=\"-0.264\"/><circle class=\"shooting fw block\" cx=\"778.8\" cy=\"82.5\" r=\"-0.264\"/><text class=\"shooting fw block\" x=\"765.6\" y=\"82.5\"/><rect class=\"shooting fw block\" height=\"9.9\" width=\"26.928\" x=\"778.536\" y=\"77.55\"/><circle class=\"shooting fw block\" cx=\"778.8\" cy=\"82.5\" r=\"-0.264\"/><circle class=\"shooting fw block\" cx=\"805.2\" cy=\"82.5\" r=\"-0.264\"/><text class=\"shooting fw block\" x=\"792.0\" y=\"82.5\"/><rect class=\"shooting fw block\" height=\"9.9\" width=\"26.928\" x=\"804.936\" y=\"77.55\"/><circle class=\"shooting fw block\" cx=\"805.2\" cy=\"82.5\" r=\"-0.264\"/><circle class=\"shooting fw block\" cx=\"831.6\" cy=\"82.5\" r=\"-0.264\"/><text class=\"shooting fw block\" x=\"818.4\" y=\"82.5\"/><rect class=\"shooting fw block\" height=\"9.9\" width=\"26.928\" x=\"831.336\" y=\"77.55\"/><circle class=\"shooting fw block\" cx=\"831.6\" cy=\"82.5\" r=\"-0.264\"/><circle class=\"shooting fw block\" cx=\"858.0\" cy=\"82.5\" r=\"-0.264\"/><text class=\"shooting fw block\" x=\"844.8\" y=\"82.5\"/><rect class=\"shooting fw block\" height=\"9.9\" width=\"26.928\" x=\"857.736\" y=\"77.55\"/><circle class=\"shooting fw block\" cx=\"858.0\" cy=\"82.5\" r=\"-0.264\"/><circle class=\"shooting fw block\" cx=\"884.4\" cy=\"82.5\" r=\"-0.264\"/><text class=\"shooting fw block\" x=\"871.2\" y=\"82.5\"/><rect class=\"shooting fw block\" height=\"9.9\" width=\"26.928\" x=\"884.136\" y=\"77.55\"/><circle class=\"shooting fw block\" cx=\"884.4\" cy=\"82.5\" r=\"-0.264\"/><circle class=\"shooting fw block\" cx=\"910.8\" cy=\"82.5\" r=\"-0.264\"/><text class=\"shooting fw block\" x=\"897.6\" y=\"82.5\"/><rect class=\"shooting fw block\" height=\"9.9\" width=\"26.928\" x=\"910.536\" y=\"77.55\"/><circle class=\"shooting fw block\" cx=\"910.8\" cy=\"82.5\" r=\"-0.264\"/><circle class=\"shooting fw block\" cx=\"937.2\" cy=\"82.5\" r=\"-0.264\"/><text class=\"shooting fw block\" x=\"924.0\" y=\"82.5\"/><rect class=\"shooting fw block\" height=\"9.9\" width=\"26.928\" x=\"936.936\" y=\"77.55\"/><circle class=\"shooting fw block\" cx=\"937.2\" cy=\"82.5\" r=\"-0.264\"/><circle class=\"shooting fw block\" cx=\"963.6\" cy=\"82.5\" r=\"-0.264\"/><text class=\"shooting fw block\" x=\"950.4\" y=\"82.5\"/><rect class=\"shooting fw block\" height=\"9.9\" width=\"26.928\" x=\"963.336\" y=\"77.55\"/><circle class=\"shooting fw block\" cx=\"963.6\" cy=\"82.5\" r=\"-0.264\"/><circle class=\"shooting fw block\" cx=\"990.0\" cy=\"82.5\" r=\"-0.264\"/><text class=\"shooting fw block\" x=\"976.8\" y=\"82.5\"/><rect class=\"shooting fw block\" height=\"9.9\" width=\"26.928\" x=\"989.736\" y=\"77.55\"/><circle class=\"shooting fw block\" cx=\"990.0\" cy=\"82.5\" r=\"-0.264\"/><circle class=\"shooting fw block\" cx=\"1016.4\" cy=\"82.5\" r=\"-0.264\"/><text class=\"shooting fw block\" x=\"1003.2\" y=\"82.5\"/><rect class=\"shooting fw block\" height=\"9.9\" width=\"26.928\" x=\"1016.136\" y=\"77.55\"/><circle class=\"shooting fw block\" cx=\"1016.4\" cy=\"82.5\" r=\"-0.264\"/><circle class=\"shooting fw block\" cx=\"1042.8\" cy=\"82.5\" r=\"-0.264\"/><text class=\"shooting fw block\" x=\"1029.6\" y=\"82.5\"/><rect class=\"shooting fw block\" height=\"9.9\" width=\"26.928\" x=\"1042.536\" y=\"77.55\"/><circle class=\"shooting fw block\" cx=\"1042.8\" cy=\"82.5\" r=\"-0.264\"/><circle class=\"shooting fw block\" cx=\"1069.2\" cy=\"82.5\" r=\"-0.264\"/><text class=\"shooting fw block\" x=\"1056.0\" y=\"82.5\"/><rect class=\"shooting fw block\" height=\"9.9\" width=\"26.928\" x=\"1068.936\" y=\"77.55\"/><circle class=\"shooting fw block\" cx=\"1069.2\" cy=\"82.5\" r=\"-0.264\"/><text class=\"shooting fw block\" x=\"1082.4\" y=\"82.5\"/><text class=\"hop left label\" x=\"396.0\" y=\"99.0\">3h</text><rect class=\"hop overlap range\" height=\"1.65\" width=\"660.528\" x=\"435.336\" y=\"98.175\"/><circle class=\"hop overlap range\" cx=\"435.6\" cy=\"99.0\" r=\"-0.264\"/><rect class=\"hop overlap range\" height=\"9.9\" width=\"2.64\" x=\"435.336\" y=\"94.05\"/><circle class=\"hop overlap range\" cx=\"1095.6\" cy=\"99.0\" r=\"-0.264\"/><rect class=\"hop overlap range\" height=\"9.9\" width=\"2.64\" x=\"1093.224\" y=\"94.05\"/><text class=\"hop overlap range\" x=\"765.6\" y=\"94.05\">EnsembleHop</text><text class=\"shooting left label\" x=\"607.2\" y=\"115.5\">4b</text><line class=\"shooting bw connection v-connection\" x1=\"963.6\" x2=\"963.6\" y1=\"82.335\" y2=\"115.665\"/><rect class=\"shooting bw block\" height=\"9.9\" width=\"26.928\" x=\"646.536\" y=\"110.55\"/><circle class=\"shooting bw block\" cx=\"673.2\" cy=\"115.5\" r=\"-0.264\"/><text class=\"shooting bw block\" x=\"660.0\" y=\"115.5\"/><rect class=\"shooting bw block\" height=\"9.9\" width=\"26.928\" x=\"672.936\" y=\"110.55\"/><circle class=\"shooting bw block\" cx=\"673.2\" cy=\"115.5\" r=\"-0.264\"/><circle class=\"shooting bw block\" cx=\"699.6\" cy=\"115.5\" r=\"-0.264\"/><text class=\"shooting bw block\" x=\"686.4\" y=\"115.5\"/><rect class=\"shooting bw block\" height=\"9.9\" width=\"26.928\" x=\"699.336\" y=\"110.55\"/><circle class=\"shooting bw block\" cx=\"699.6\" cy=\"115.5\" r=\"-0.264\"/><circle class=\"shooting bw block\" cx=\"726.0\" cy=\"115.5\" r=\"-0.264\"/><text class=\"shooting bw block\" x=\"712.8\" y=\"115.5\"/><rect class=\"shooting bw block\" height=\"9.9\" width=\"26.928\" x=\"725.736\" y=\"110.55\"/><circle class=\"shooting bw block\" cx=\"726.0\" cy=\"115.5\" r=\"-0.264\"/><circle class=\"shooting bw block\" cx=\"752.4\" cy=\"115.5\" r=\"-0.264\"/><text class=\"shooting bw block\" x=\"739.2\" y=\"115.5\"/><rect class=\"shooting bw block\" height=\"9.9\" width=\"26.928\" x=\"752.136\" y=\"110.55\"/><circle class=\"shooting bw block\" cx=\"752.4\" cy=\"115.5\" r=\"-0.264\"/><circle class=\"shooting bw block\" cx=\"778.8\" cy=\"115.5\" r=\"-0.264\"/><text class=\"shooting bw block\" x=\"765.6\" y=\"115.5\"/><rect class=\"shooting bw block\" height=\"9.9\" width=\"26.928\" x=\"778.536\" y=\"110.55\"/><circle class=\"shooting bw block\" cx=\"778.8\" cy=\"115.5\" r=\"-0.264\"/><circle class=\"shooting bw block\" cx=\"805.2\" cy=\"115.5\" r=\"-0.264\"/><text class=\"shooting bw block\" x=\"792.0\" y=\"115.5\"/><rect class=\"shooting bw block\" height=\"9.9\" width=\"26.928\" x=\"804.936\" y=\"110.55\"/><circle class=\"shooting bw block\" cx=\"805.2\" cy=\"115.5\" r=\"-0.264\"/><circle class=\"shooting bw block\" cx=\"831.6\" cy=\"115.5\" r=\"-0.264\"/><text class=\"shooting bw block\" x=\"818.4\" y=\"115.5\"/><rect class=\"shooting bw block\" height=\"9.9\" width=\"26.928\" x=\"831.336\" y=\"110.55\"/><circle class=\"shooting bw block\" cx=\"831.6\" cy=\"115.5\" r=\"-0.264\"/><circle class=\"shooting bw block\" cx=\"858.0\" cy=\"115.5\" r=\"-0.264\"/><text class=\"shooting bw block\" x=\"844.8\" y=\"115.5\"/><rect class=\"shooting bw block\" height=\"9.9\" width=\"26.928\" x=\"857.736\" y=\"110.55\"/><circle class=\"shooting bw block\" cx=\"858.0\" cy=\"115.5\" r=\"-0.264\"/><circle class=\"shooting bw block\" cx=\"884.4\" cy=\"115.5\" r=\"-0.264\"/><text class=\"shooting bw block\" x=\"871.2\" y=\"115.5\"/><rect class=\"shooting bw block\" height=\"9.9\" width=\"26.928\" x=\"884.136\" y=\"110.55\"/><circle class=\"shooting bw block\" cx=\"884.4\" cy=\"115.5\" r=\"-0.264\"/><circle class=\"shooting bw block\" cx=\"910.8\" cy=\"115.5\" r=\"-0.264\"/><text class=\"shooting bw block\" x=\"897.6\" y=\"115.5\"/><rect class=\"shooting bw block\" height=\"9.9\" width=\"26.928\" x=\"910.536\" y=\"110.55\"/><circle class=\"shooting bw block\" cx=\"910.8\" cy=\"115.5\" r=\"-0.264\"/><circle class=\"shooting bw block\" cx=\"937.2\" cy=\"115.5\" r=\"-0.264\"/><text class=\"shooting bw block\" x=\"924.0\" y=\"115.5\"/><rect class=\"shooting bw block\" height=\"9.9\" width=\"26.928\" x=\"936.936\" y=\"110.55\"/><circle class=\"shooting bw block\" cx=\"937.2\" cy=\"115.5\" r=\"-0.264\"/><circle class=\"shooting bw block\" cx=\"963.6\" cy=\"115.5\" r=\"-0.264\"/><text class=\"shooting bw block\" x=\"950.4\" y=\"115.5\"/><text class=\"shooting left label\" x=\"607.2\" y=\"132.0\">5f</text><line class=\"shooting fw connection v-connection\" x1=\"937.2\" x2=\"937.2\" y1=\"115.335\" y2=\"132.165\"/><rect class=\"shooting fw block\" height=\"9.9\" width=\"26.928\" x=\"936.936\" y=\"127.05\"/><circle class=\"shooting fw block\" cx=\"937.2\" cy=\"132.0\" r=\"-0.264\"/><circle class=\"shooting fw block\" cx=\"963.6\" cy=\"132.0\" r=\"-0.264\"/><text class=\"shooting fw block\" x=\"950.4\" y=\"132.0\"/><rect class=\"shooting fw block\" height=\"9.9\" width=\"26.928\" x=\"963.336\" y=\"127.05\"/><circle class=\"shooting fw block\" cx=\"963.6\" cy=\"132.0\" r=\"-0.264\"/><circle class=\"shooting fw block\" cx=\"990.0\" cy=\"132.0\" r=\"-0.264\"/><text class=\"shooting fw block\" x=\"976.8\" y=\"132.0\"/><rect class=\"shooting fw block\" height=\"9.9\" width=\"26.928\" x=\"989.736\" y=\"127.05\"/><circle class=\"shooting fw block\" cx=\"990.0\" cy=\"132.0\" r=\"-0.264\"/><circle class=\"shooting fw block\" cx=\"1016.4\" cy=\"132.0\" r=\"-0.264\"/><text class=\"shooting fw block\" x=\"1003.2\" y=\"132.0\"/><rect class=\"shooting fw block\" height=\"9.9\" width=\"26.928\" x=\"1016.136\" y=\"127.05\"/><circle class=\"shooting fw block\" cx=\"1016.4\" cy=\"132.0\" r=\"-0.264\"/><circle class=\"shooting fw block\" cx=\"1042.8\" cy=\"132.0\" r=\"-0.264\"/><text class=\"shooting fw block\" x=\"1029.6\" y=\"132.0\"/><rect class=\"shooting fw block\" height=\"9.9\" width=\"26.928\" x=\"1042.536\" y=\"127.05\"/><circle class=\"shooting fw block\" cx=\"1042.8\" cy=\"132.0\" r=\"-0.264\"/><text class=\"shooting fw block\" x=\"1056.0\" y=\"132.0\"/><text class=\"shooting left label\" x=\"607.2\" y=\"148.5\">6f</text><line class=\"shooting fw connection v-connection\" x1=\"937.2\" x2=\"937.2\" y1=\"115.335\" y2=\"148.665\"/><rect class=\"shooting fw block\" height=\"9.9\" width=\"26.928\" x=\"936.936\" y=\"143.55\"/><circle class=\"shooting fw block\" cx=\"937.2\" cy=\"148.5\" r=\"-0.264\"/><circle class=\"shooting fw block\" cx=\"963.6\" cy=\"148.5\" r=\"-0.264\"/><text class=\"shooting fw block\" x=\"950.4\" y=\"148.5\"/><rect class=\"shooting fw block\" height=\"9.9\" width=\"26.928\" x=\"963.336\" y=\"143.55\"/><circle class=\"shooting fw block\" cx=\"963.6\" cy=\"148.5\" r=\"-0.264\"/><circle class=\"shooting fw block\" cx=\"990.0\" cy=\"148.5\" r=\"-0.264\"/><text class=\"shooting fw block\" x=\"976.8\" y=\"148.5\"/><rect class=\"shooting fw block\" height=\"9.9\" width=\"26.928\" x=\"989.736\" y=\"143.55\"/><circle class=\"shooting fw block\" cx=\"990.0\" cy=\"148.5\" r=\"-0.264\"/><circle class=\"shooting fw block\" cx=\"1016.4\" cy=\"148.5\" r=\"-0.264\"/><text class=\"shooting fw block\" x=\"1003.2\" y=\"148.5\"/><rect class=\"shooting fw block\" height=\"9.9\" width=\"26.928\" x=\"1016.136\" y=\"143.55\"/><circle class=\"shooting fw block\" cx=\"1016.4\" cy=\"148.5\" r=\"-0.264\"/><circle class=\"shooting fw block\" cx=\"1042.8\" cy=\"148.5\" r=\"-0.264\"/><text class=\"shooting fw block\" x=\"1029.6\" y=\"148.5\"/><rect class=\"shooting fw block\" height=\"9.9\" width=\"26.928\" x=\"1042.536\" y=\"143.55\"/><circle class=\"shooting fw block\" cx=\"1042.8\" cy=\"148.5\" r=\"-0.264\"/><text class=\"shooting fw block\" x=\"1056.0\" y=\"148.5\"/><text class=\"shooting left label\" x=\"607.2\" y=\"165.0\">7f</text><line class=\"shooting fw connection v-connection\" x1=\"726.0\" x2=\"726.0\" y1=\"115.335\" y2=\"165.165\"/><rect class=\"shooting fw block\" height=\"9.9\" width=\"26.928\" x=\"725.736\" y=\"160.05\"/><circle class=\"shooting fw block\" cx=\"726.0\" cy=\"165.0\" r=\"-0.264\"/><circle class=\"shooting fw block\" cx=\"752.4\" cy=\"165.0\" r=\"-0.264\"/><text class=\"shooting fw block\" x=\"739.2\" y=\"165.0\"/><rect class=\"shooting fw block\" height=\"9.9\" width=\"26.928\" x=\"752.136\" y=\"160.05\"/><circle class=\"shooting fw block\" cx=\"752.4\" cy=\"165.0\" r=\"-0.264\"/><circle class=\"shooting fw block\" cx=\"778.8\" cy=\"165.0\" r=\"-0.264\"/><text class=\"shooting fw block\" x=\"765.6\" y=\"165.0\"/><rect class=\"shooting fw block\" height=\"9.9\" width=\"26.928\" x=\"778.536\" y=\"160.05\"/><circle class=\"shooting fw block\" cx=\"778.8\" cy=\"165.0\" r=\"-0.264\"/><circle class=\"shooting fw block\" cx=\"805.2\" cy=\"165.0\" r=\"-0.264\"/><text class=\"shooting fw block\" x=\"792.0\" y=\"165.0\"/><rect class=\"shooting fw block\" height=\"9.9\" width=\"26.928\" x=\"804.936\" y=\"160.05\"/><circle class=\"shooting fw block\" cx=\"805.2\" cy=\"165.0\" r=\"-0.264\"/><circle class=\"shooting fw block\" cx=\"831.6\" cy=\"165.0\" r=\"-0.264\"/><text class=\"shooting fw block\" x=\"818.4\" y=\"165.0\"/><rect class=\"shooting fw block\" height=\"9.9\" width=\"26.928\" x=\"831.336\" y=\"160.05\"/><circle class=\"shooting fw block\" cx=\"831.6\" cy=\"165.0\" r=\"-0.264\"/><circle class=\"shooting fw block\" cx=\"858.0\" cy=\"165.0\" r=\"-0.264\"/><text class=\"shooting fw block\" x=\"844.8\" y=\"165.0\"/><rect class=\"shooting fw block\" height=\"9.9\" width=\"26.928\" x=\"857.736\" y=\"160.05\"/><circle class=\"shooting fw block\" cx=\"858.0\" cy=\"165.0\" r=\"-0.264\"/><circle class=\"shooting fw block\" cx=\"884.4\" cy=\"165.0\" r=\"-0.264\"/><text class=\"shooting fw block\" x=\"871.2\" y=\"165.0\"/><rect class=\"shooting fw block\" height=\"9.9\" width=\"26.928\" x=\"884.136\" y=\"160.05\"/><circle class=\"shooting fw block\" cx=\"884.4\" cy=\"165.0\" r=\"-0.264\"/><circle class=\"shooting fw block\" cx=\"910.8\" cy=\"165.0\" r=\"-0.264\"/><text class=\"shooting fw block\" x=\"897.6\" y=\"165.0\"/><rect class=\"shooting fw block\" height=\"9.9\" width=\"26.928\" x=\"910.536\" y=\"160.05\"/><circle class=\"shooting fw block\" cx=\"910.8\" cy=\"165.0\" r=\"-0.264\"/><circle class=\"shooting fw block\" cx=\"937.2\" cy=\"165.0\" r=\"-0.264\"/><text class=\"shooting fw block\" x=\"924.0\" y=\"165.0\"/><rect class=\"shooting fw block\" height=\"9.9\" width=\"26.928\" x=\"936.936\" y=\"160.05\"/><circle class=\"shooting fw block\" cx=\"937.2\" cy=\"165.0\" r=\"-0.264\"/><circle class=\"shooting fw block\" cx=\"963.6\" cy=\"165.0\" r=\"-0.264\"/><text class=\"shooting fw block\" x=\"950.4\" y=\"165.0\"/><rect class=\"shooting fw block\" height=\"9.9\" width=\"26.928\" x=\"963.336\" y=\"160.05\"/><circle class=\"shooting fw block\" cx=\"963.6\" cy=\"165.0\" r=\"-0.264\"/><circle class=\"shooting fw block\" cx=\"990.0\" cy=\"165.0\" r=\"-0.264\"/><text class=\"shooting fw block\" x=\"976.8\" y=\"165.0\"/><rect class=\"shooting fw block\" height=\"9.9\" width=\"26.928\" x=\"989.736\" y=\"160.05\"/><circle class=\"shooting fw block\" cx=\"990.0\" cy=\"165.0\" r=\"-0.264\"/><circle class=\"shooting fw block\" cx=\"1016.4\" cy=\"165.0\" r=\"-0.264\"/><text class=\"shooting fw block\" x=\"1003.2\" y=\"165.0\"/><rect class=\"shooting fw block\" height=\"9.9\" width=\"26.928\" x=\"1016.136\" y=\"160.05\"/><circle class=\"shooting fw block\" cx=\"1016.4\" cy=\"165.0\" r=\"-0.264\"/><text class=\"shooting fw block\" x=\"1029.6\" y=\"165.0\"/><text class=\"shooting left label\" x=\"554.4\" y=\"181.5\">8b</text><line class=\"shooting bw connection v-connection\" x1=\"910.8\" x2=\"910.8\" y1=\"164.835\" y2=\"181.665\"/><rect class=\"shooting bw block\" height=\"9.9\" width=\"26.928\" x=\"593.736\" y=\"176.55\"/><circle class=\"shooting bw block\" cx=\"620.4\" cy=\"181.5\" r=\"-0.264\"/><text class=\"shooting bw block\" x=\"607.2\" y=\"181.5\"/><rect class=\"shooting bw block\" height=\"9.9\" width=\"26.928\" x=\"620.136\" y=\"176.55\"/><circle class=\"shooting bw block\" cx=\"620.4\" cy=\"181.5\" r=\"-0.264\"/><circle class=\"shooting bw block\" cx=\"646.8\" cy=\"181.5\" r=\"-0.264\"/><text class=\"shooting bw block\" x=\"633.6\" y=\"181.5\"/><rect class=\"shooting bw block\" height=\"9.9\" width=\"26.928\" x=\"646.536\" y=\"176.55\"/><circle class=\"shooting bw block\" cx=\"646.8\" cy=\"181.5\" r=\"-0.264\"/><circle class=\"shooting bw block\" cx=\"673.2\" cy=\"181.5\" r=\"-0.264\"/><text class=\"shooting bw block\" x=\"660.0\" y=\"181.5\"/><rect class=\"shooting bw block\" height=\"9.9\" width=\"26.928\" x=\"672.936\" y=\"176.55\"/><circle class=\"shooting bw block\" cx=\"673.2\" cy=\"181.5\" r=\"-0.264\"/><circle class=\"shooting bw block\" cx=\"699.6\" cy=\"181.5\" r=\"-0.264\"/><text class=\"shooting bw block\" x=\"686.4\" y=\"181.5\"/><rect class=\"shooting bw block\" height=\"9.9\" width=\"26.928\" x=\"699.336\" y=\"176.55\"/><circle class=\"shooting bw block\" cx=\"699.6\" cy=\"181.5\" r=\"-0.264\"/><circle class=\"shooting bw block\" cx=\"726.0\" cy=\"181.5\" r=\"-0.264\"/><text class=\"shooting bw block\" x=\"712.8\" y=\"181.5\"/><rect class=\"shooting bw block\" height=\"9.9\" width=\"26.928\" x=\"725.736\" y=\"176.55\"/><circle class=\"shooting bw block\" cx=\"726.0\" cy=\"181.5\" r=\"-0.264\"/><circle class=\"shooting bw block\" cx=\"752.4\" cy=\"181.5\" r=\"-0.264\"/><text class=\"shooting bw block\" x=\"739.2\" y=\"181.5\"/><rect class=\"shooting bw block\" height=\"9.9\" width=\"26.928\" x=\"752.136\" y=\"176.55\"/><circle class=\"shooting bw block\" cx=\"752.4\" cy=\"181.5\" r=\"-0.264\"/><circle class=\"shooting bw block\" cx=\"778.8\" cy=\"181.5\" r=\"-0.264\"/><text class=\"shooting bw block\" x=\"765.6\" y=\"181.5\"/><rect class=\"shooting bw block\" height=\"9.9\" width=\"26.928\" x=\"778.536\" y=\"176.55\"/><circle class=\"shooting bw block\" cx=\"778.8\" cy=\"181.5\" r=\"-0.264\"/><circle class=\"shooting bw block\" cx=\"805.2\" cy=\"181.5\" r=\"-0.264\"/><text class=\"shooting bw block\" x=\"792.0\" y=\"181.5\"/><rect class=\"shooting bw block\" height=\"9.9\" width=\"26.928\" x=\"804.936\" y=\"176.55\"/><circle class=\"shooting bw block\" cx=\"805.2\" cy=\"181.5\" r=\"-0.264\"/><circle class=\"shooting bw block\" cx=\"831.6\" cy=\"181.5\" r=\"-0.264\"/><text class=\"shooting bw block\" x=\"818.4\" y=\"181.5\"/><rect class=\"shooting bw block\" height=\"9.9\" width=\"26.928\" x=\"831.336\" y=\"176.55\"/><circle class=\"shooting bw block\" cx=\"831.6\" cy=\"181.5\" r=\"-0.264\"/><circle class=\"shooting bw block\" cx=\"858.0\" cy=\"181.5\" r=\"-0.264\"/><text class=\"shooting bw block\" x=\"844.8\" y=\"181.5\"/><rect class=\"shooting bw block\" height=\"9.9\" width=\"26.928\" x=\"857.736\" y=\"176.55\"/><circle class=\"shooting bw block\" cx=\"858.0\" cy=\"181.5\" r=\"-0.264\"/><circle class=\"shooting bw block\" cx=\"884.4\" cy=\"181.5\" r=\"-0.264\"/><text class=\"shooting bw block\" x=\"871.2\" y=\"181.5\"/><rect class=\"shooting bw block\" height=\"9.9\" width=\"26.928\" x=\"884.136\" y=\"176.55\"/><circle class=\"shooting bw block\" cx=\"884.4\" cy=\"181.5\" r=\"-0.264\"/><circle class=\"shooting bw block\" cx=\"910.8\" cy=\"181.5\" r=\"-0.264\"/><text class=\"shooting bw block\" x=\"897.6\" y=\"181.5\"/><text class=\"hop left label\" x=\"554.4\" y=\"198.0\">8h</text><rect class=\"hop overlap range\" height=\"1.65\" width=\"449.328\" x=\"593.736\" y=\"197.175\"/><circle class=\"hop overlap range\" cx=\"594.0\" cy=\"198.0\" r=\"-0.264\"/><rect class=\"hop overlap range\" height=\"9.9\" width=\"2.64\" x=\"593.736\" y=\"193.05\"/><circle class=\"hop overlap range\" cx=\"1042.8\" cy=\"198.0\" r=\"-0.264\"/><rect class=\"hop overlap range\" height=\"9.9\" width=\"2.64\" x=\"1040.424\" y=\"193.05\"/><text class=\"hop overlap range\" x=\"818.4\" y=\"193.05\">EnsembleHop</text><text class=\"shooting left label\" x=\"554.4\" y=\"214.5\">9f</text><line class=\"shooting fw connection v-connection\" x1=\"1016.4\" x2=\"1016.4\" y1=\"164.835\" y2=\"214.665\"/><rect class=\"shooting fw block\" height=\"9.9\" width=\"26.928\" x=\"1016.136\" y=\"209.55\"/><circle class=\"shooting fw block\" cx=\"1016.4\" cy=\"214.5\" r=\"-0.264\"/><text class=\"shooting fw block\" x=\"1029.6\" y=\"214.5\"/><text class=\"hop left label\" x=\"554.4\" y=\"231.0\">9h</text><rect class=\"hop overlap range\" height=\"1.65\" width=\"449.328\" x=\"593.736\" y=\"230.175\"/><circle class=\"hop overlap range\" cx=\"594.0\" cy=\"231.0\" r=\"-0.264\"/><rect class=\"hop overlap range\" height=\"9.9\" width=\"2.64\" x=\"593.736\" y=\"226.05\"/><circle class=\"hop overlap range\" cx=\"1042.8\" cy=\"231.0\" r=\"-0.264\"/><rect class=\"hop overlap range\" height=\"9.9\" width=\"2.64\" x=\"1040.424\" y=\"226.05\"/><text class=\"hop overlap range\" x=\"818.4\" y=\"226.05\">EnsembleHop</text><text class=\"shooting left label\" x=\"528.0\" y=\"247.5\">10b</text><line class=\"shooting bw connection v-connection\" x1=\"646.8\" x2=\"646.8\" y1=\"181.335\" y2=\"247.665\"/><rect class=\"shooting bw block\" height=\"9.9\" width=\"26.928\" x=\"567.336\" y=\"242.55\"/><circle class=\"shooting bw block\" cx=\"594.0\" cy=\"247.5\" r=\"-0.264\"/><text class=\"shooting bw block\" x=\"580.8\" y=\"247.5\"/><rect class=\"shooting bw block\" height=\"9.9\" width=\"26.928\" x=\"593.736\" y=\"242.55\"/><circle class=\"shooting bw block\" cx=\"594.0\" cy=\"247.5\" r=\"-0.264\"/><circle class=\"shooting bw block\" cx=\"620.4\" cy=\"247.5\" r=\"-0.264\"/><text class=\"shooting bw block\" x=\"607.2\" y=\"247.5\"/><rect class=\"shooting bw block\" height=\"9.9\" width=\"26.928\" x=\"620.136\" y=\"242.55\"/><circle class=\"shooting bw block\" cx=\"620.4\" cy=\"247.5\" r=\"-0.264\"/><circle class=\"shooting bw block\" cx=\"646.8\" cy=\"247.5\" r=\"-0.264\"/><text class=\"shooting bw block\" x=\"633.6\" y=\"247.5\"/><text class=\"shooting left label\" x=\"528.0\" y=\"264.0\">11f</text><line class=\"shooting fw connection v-connection\" x1=\"937.2\" x2=\"937.2\" y1=\"164.835\" y2=\"264.165\"/><rect class=\"shooting fw block\" height=\"9.9\" width=\"26.928\" x=\"936.936\" y=\"259.05\"/><circle class=\"shooting fw block\" cx=\"937.2\" cy=\"264.0\" r=\"-0.264\"/><circle class=\"shooting fw block\" cx=\"963.6\" cy=\"264.0\" r=\"-0.264\"/><text class=\"shooting fw block\" x=\"950.4\" y=\"264.0\"/><rect class=\"shooting fw block\" height=\"9.9\" width=\"26.928\" x=\"963.336\" y=\"259.05\"/><circle class=\"shooting fw block\" cx=\"963.6\" cy=\"264.0\" r=\"-0.264\"/><circle class=\"shooting fw block\" cx=\"990.0\" cy=\"264.0\" r=\"-0.264\"/><text class=\"shooting fw block\" x=\"976.8\" y=\"264.0\"/><rect class=\"shooting fw block\" height=\"9.9\" width=\"26.928\" x=\"989.736\" y=\"259.05\"/><circle class=\"shooting fw block\" cx=\"990.0\" cy=\"264.0\" r=\"-0.264\"/><circle class=\"shooting fw block\" cx=\"1016.4\" cy=\"264.0\" r=\"-0.264\"/><text class=\"shooting fw block\" x=\"1003.2\" y=\"264.0\"/><rect class=\"shooting fw block\" height=\"9.9\" width=\"26.928\" x=\"1016.136\" y=\"259.05\"/><circle class=\"shooting fw block\" cx=\"1016.4\" cy=\"264.0\" r=\"-0.264\"/><text class=\"shooting fw block\" x=\"1029.6\" y=\"264.0\"/><text class=\"shooting left label\" x=\"528.0\" y=\"280.5\">12f</text><line class=\"shooting fw connection v-connection\" x1=\"778.8\" x2=\"778.8\" y1=\"181.335\" y2=\"280.665\"/><rect class=\"shooting fw block\" height=\"9.9\" width=\"26.928\" x=\"778.536\" y=\"275.55\"/><circle class=\"shooting fw block\" cx=\"778.8\" cy=\"280.5\" r=\"-0.264\"/><circle class=\"shooting fw block\" cx=\"805.2\" cy=\"280.5\" r=\"-0.264\"/><text class=\"shooting fw block\" x=\"792.0\" y=\"280.5\"/><rect class=\"shooting fw block\" height=\"9.9\" width=\"26.928\" x=\"804.936\" y=\"275.55\"/><circle class=\"shooting fw block\" cx=\"805.2\" cy=\"280.5\" r=\"-0.264\"/><circle class=\"shooting fw block\" cx=\"831.6\" cy=\"280.5\" r=\"-0.264\"/><text class=\"shooting fw block\" x=\"818.4\" y=\"280.5\"/><rect class=\"shooting fw block\" height=\"9.9\" width=\"26.928\" x=\"831.336\" y=\"275.55\"/><circle class=\"shooting fw block\" cx=\"831.6\" cy=\"280.5\" r=\"-0.264\"/><circle class=\"shooting fw block\" cx=\"858.0\" cy=\"280.5\" r=\"-0.264\"/><text class=\"shooting fw block\" x=\"844.8\" y=\"280.5\"/><rect class=\"shooting fw block\" height=\"9.9\" width=\"26.928\" x=\"857.736\" y=\"275.55\"/><circle class=\"shooting fw block\" cx=\"858.0\" cy=\"280.5\" r=\"-0.264\"/><circle class=\"shooting fw block\" cx=\"884.4\" cy=\"280.5\" r=\"-0.264\"/><text class=\"shooting fw block\" x=\"871.2\" y=\"280.5\"/><rect class=\"shooting fw block\" height=\"9.9\" width=\"26.928\" x=\"884.136\" y=\"275.55\"/><circle class=\"shooting fw block\" cx=\"884.4\" cy=\"280.5\" r=\"-0.264\"/><circle class=\"shooting fw block\" cx=\"910.8\" cy=\"280.5\" r=\"-0.264\"/><text class=\"shooting fw block\" x=\"897.6\" y=\"280.5\"/><rect class=\"shooting fw block\" height=\"9.9\" width=\"26.928\" x=\"910.536\" y=\"275.55\"/><circle class=\"shooting fw block\" cx=\"910.8\" cy=\"280.5\" r=\"-0.264\"/><circle class=\"shooting fw block\" cx=\"937.2\" cy=\"280.5\" r=\"-0.264\"/><text class=\"shooting fw block\" x=\"924.0\" y=\"280.5\"/><rect class=\"shooting fw block\" height=\"9.9\" width=\"26.928\" x=\"936.936\" y=\"275.55\"/><circle class=\"shooting fw block\" cx=\"937.2\" cy=\"280.5\" r=\"-0.264\"/><circle class=\"shooting fw block\" cx=\"963.6\" cy=\"280.5\" r=\"-0.264\"/><text class=\"shooting fw block\" x=\"950.4\" y=\"280.5\"/><rect class=\"shooting fw block\" height=\"9.9\" width=\"26.928\" x=\"963.336\" y=\"275.55\"/><circle class=\"shooting fw block\" cx=\"963.6\" cy=\"280.5\" r=\"-0.264\"/><circle class=\"shooting fw block\" cx=\"990.0\" cy=\"280.5\" r=\"-0.264\"/><text class=\"shooting fw block\" x=\"976.8\" y=\"280.5\"/><rect class=\"shooting fw block\" height=\"9.9\" width=\"26.928\" x=\"989.736\" y=\"275.55\"/><circle class=\"shooting fw block\" cx=\"990.0\" cy=\"280.5\" r=\"-0.264\"/><circle class=\"shooting fw block\" cx=\"1016.4\" cy=\"280.5\" r=\"-0.264\"/><text class=\"shooting fw block\" x=\"1003.2\" y=\"280.5\"/><rect class=\"shooting fw block\" height=\"9.9\" width=\"26.928\" x=\"1016.136\" y=\"275.55\"/><circle class=\"shooting fw block\" cx=\"1016.4\" cy=\"280.5\" r=\"-0.264\"/><text class=\"shooting fw block\" x=\"1029.6\" y=\"280.5\"/><text class=\"shooting left label\" x=\"501.6\" y=\"297.0\">13b</text><line class=\"shooting bw connection v-connection\" x1=\"937.2\" x2=\"937.2\" y1=\"280.335\" y2=\"297.165\"/><rect class=\"shooting bw block\" height=\"9.9\" width=\"26.928\" x=\"540.936\" y=\"292.05\"/><circle class=\"shooting bw block\" cx=\"567.6\" cy=\"297.0\" r=\"-0.264\"/><text class=\"shooting bw block\" x=\"554.4\" y=\"297.0\"/><rect class=\"shooting bw block\" height=\"9.9\" width=\"26.928\" x=\"567.336\" y=\"292.05\"/><circle class=\"shooting bw block\" cx=\"567.6\" cy=\"297.0\" r=\"-0.264\"/><circle class=\"shooting bw block\" cx=\"594.0\" cy=\"297.0\" r=\"-0.264\"/><text class=\"shooting bw block\" x=\"580.8\" y=\"297.0\"/><rect class=\"shooting bw block\" height=\"9.9\" width=\"26.928\" x=\"593.736\" y=\"292.05\"/><circle class=\"shooting bw block\" cx=\"594.0\" cy=\"297.0\" r=\"-0.264\"/><circle class=\"shooting bw block\" cx=\"620.4\" cy=\"297.0\" r=\"-0.264\"/><text class=\"shooting bw block\" x=\"607.2\" y=\"297.0\"/><rect class=\"shooting bw block\" height=\"9.9\" width=\"26.928\" x=\"620.136\" y=\"292.05\"/><circle class=\"shooting bw block\" cx=\"620.4\" cy=\"297.0\" r=\"-0.264\"/><circle class=\"shooting bw block\" cx=\"646.8\" cy=\"297.0\" r=\"-0.264\"/><text class=\"shooting bw block\" x=\"633.6\" y=\"297.0\"/><rect class=\"shooting bw block\" height=\"9.9\" width=\"26.928\" x=\"646.536\" y=\"292.05\"/><circle class=\"shooting bw block\" cx=\"646.8\" cy=\"297.0\" r=\"-0.264\"/><circle class=\"shooting bw block\" cx=\"673.2\" cy=\"297.0\" r=\"-0.264\"/><text class=\"shooting bw block\" x=\"660.0\" y=\"297.0\"/><rect class=\"shooting bw block\" height=\"9.9\" width=\"26.928\" x=\"672.936\" y=\"292.05\"/><circle class=\"shooting bw block\" cx=\"673.2\" cy=\"297.0\" r=\"-0.264\"/><circle class=\"shooting bw block\" cx=\"699.6\" cy=\"297.0\" r=\"-0.264\"/><text class=\"shooting bw block\" x=\"686.4\" y=\"297.0\"/><rect class=\"shooting bw block\" height=\"9.9\" width=\"26.928\" x=\"699.336\" y=\"292.05\"/><circle class=\"shooting bw block\" cx=\"699.6\" cy=\"297.0\" r=\"-0.264\"/><circle class=\"shooting bw block\" cx=\"726.0\" cy=\"297.0\" r=\"-0.264\"/><text class=\"shooting bw block\" x=\"712.8\" y=\"297.0\"/><rect class=\"shooting bw block\" height=\"9.9\" width=\"26.928\" x=\"725.736\" y=\"292.05\"/><circle class=\"shooting bw block\" cx=\"726.0\" cy=\"297.0\" r=\"-0.264\"/><circle class=\"shooting bw block\" cx=\"752.4\" cy=\"297.0\" r=\"-0.264\"/><text class=\"shooting bw block\" x=\"739.2\" y=\"297.0\"/><rect class=\"shooting bw block\" height=\"9.9\" width=\"26.928\" x=\"752.136\" y=\"292.05\"/><circle class=\"shooting bw block\" cx=\"752.4\" cy=\"297.0\" r=\"-0.264\"/><circle class=\"shooting bw block\" cx=\"778.8\" cy=\"297.0\" r=\"-0.264\"/><text class=\"shooting bw block\" x=\"765.6\" y=\"297.0\"/><rect class=\"shooting bw block\" height=\"9.9\" width=\"26.928\" x=\"778.536\" y=\"292.05\"/><circle class=\"shooting bw block\" cx=\"778.8\" cy=\"297.0\" r=\"-0.264\"/><circle class=\"shooting bw block\" cx=\"805.2\" cy=\"297.0\" r=\"-0.264\"/><text class=\"shooting bw block\" x=\"792.0\" y=\"297.0\"/><rect class=\"shooting bw block\" height=\"9.9\" width=\"26.928\" x=\"804.936\" y=\"292.05\"/><circle class=\"shooting bw block\" cx=\"805.2\" cy=\"297.0\" r=\"-0.264\"/><circle class=\"shooting bw block\" cx=\"831.6\" cy=\"297.0\" r=\"-0.264\"/><text class=\"shooting bw block\" x=\"818.4\" y=\"297.0\"/><rect class=\"shooting bw block\" height=\"9.9\" width=\"26.928\" x=\"831.336\" y=\"292.05\"/><circle class=\"shooting bw block\" cx=\"831.6\" cy=\"297.0\" r=\"-0.264\"/><circle class=\"shooting bw block\" cx=\"858.0\" cy=\"297.0\" r=\"-0.264\"/><text class=\"shooting bw block\" x=\"844.8\" y=\"297.0\"/><rect class=\"shooting bw block\" height=\"9.9\" width=\"26.928\" x=\"857.736\" y=\"292.05\"/><circle class=\"shooting bw block\" cx=\"858.0\" cy=\"297.0\" r=\"-0.264\"/><circle class=\"shooting bw block\" cx=\"884.4\" cy=\"297.0\" r=\"-0.264\"/><text class=\"shooting bw block\" x=\"871.2\" y=\"297.0\"/><rect class=\"shooting bw block\" height=\"9.9\" width=\"26.928\" x=\"884.136\" y=\"292.05\"/><circle class=\"shooting bw block\" cx=\"884.4\" cy=\"297.0\" r=\"-0.264\"/><circle class=\"shooting bw block\" cx=\"910.8\" cy=\"297.0\" r=\"-0.264\"/><text class=\"shooting bw block\" x=\"897.6\" y=\"297.0\"/><rect class=\"shooting bw block\" height=\"9.9\" width=\"26.928\" x=\"910.536\" y=\"292.05\"/><circle class=\"shooting bw block\" cx=\"910.8\" cy=\"297.0\" r=\"-0.264\"/><circle class=\"shooting bw block\" cx=\"937.2\" cy=\"297.0\" r=\"-0.264\"/><text class=\"shooting bw block\" x=\"924.0\" y=\"297.0\"/><text class=\"hop left label\" x=\"501.6\" y=\"313.5\">13h</text><rect class=\"hop overlap range\" height=\"1.65\" width=\"502.128\" x=\"540.936\" y=\"312.675\"/><circle class=\"hop overlap range\" cx=\"541.2\" cy=\"313.5\" r=\"-0.264\"/><rect class=\"hop overlap range\" height=\"9.9\" width=\"2.64\" x=\"540.936\" y=\"308.55\"/><circle class=\"hop overlap range\" cx=\"1042.8\" cy=\"313.5\" r=\"-0.264\"/><rect class=\"hop overlap range\" height=\"9.9\" width=\"2.64\" x=\"1040.424\" y=\"308.55\"/><text class=\"hop overlap range\" x=\"792.0\" y=\"308.55\">EnsembleHop</text><text class=\"shooting left label\" x=\"501.6\" y=\"330.0\">14f</text><line class=\"shooting fw connection v-connection\" x1=\"831.6\" x2=\"831.6\" y1=\"296.835\" y2=\"330.165\"/><rect class=\"shooting fw block\" height=\"9.9\" width=\"26.928\" x=\"831.336\" y=\"325.05\"/><circle class=\"shooting fw block\" cx=\"831.6\" cy=\"330.0\" r=\"-0.264\"/><circle class=\"shooting fw block\" cx=\"858.0\" cy=\"330.0\" r=\"-0.264\"/><text class=\"shooting fw block\" x=\"844.8\" y=\"330.0\"/><rect class=\"shooting fw block\" height=\"9.9\" width=\"26.928\" x=\"857.736\" y=\"325.05\"/><circle class=\"shooting fw block\" cx=\"858.0\" cy=\"330.0\" r=\"-0.264\"/><circle class=\"shooting fw block\" cx=\"884.4\" cy=\"330.0\" r=\"-0.264\"/><text class=\"shooting fw block\" x=\"871.2\" y=\"330.0\"/><rect class=\"shooting fw block\" height=\"9.9\" width=\"26.928\" x=\"884.136\" y=\"325.05\"/><circle class=\"shooting fw block\" cx=\"884.4\" cy=\"330.0\" r=\"-0.264\"/><circle class=\"shooting fw block\" cx=\"910.8\" cy=\"330.0\" r=\"-0.264\"/><text class=\"shooting fw block\" x=\"897.6\" y=\"330.0\"/><rect class=\"shooting fw block\" height=\"9.9\" width=\"26.928\" x=\"910.536\" y=\"325.05\"/><circle class=\"shooting fw block\" cx=\"910.8\" cy=\"330.0\" r=\"-0.264\"/><circle class=\"shooting fw block\" cx=\"937.2\" cy=\"330.0\" r=\"-0.264\"/><text class=\"shooting fw block\" x=\"924.0\" y=\"330.0\"/><rect class=\"shooting fw block\" height=\"9.9\" width=\"26.928\" x=\"936.936\" y=\"325.05\"/><circle class=\"shooting fw block\" cx=\"937.2\" cy=\"330.0\" r=\"-0.264\"/><circle class=\"shooting fw block\" cx=\"963.6\" cy=\"330.0\" r=\"-0.264\"/><text class=\"shooting fw block\" x=\"950.4\" y=\"330.0\"/><rect class=\"shooting fw block\" height=\"9.9\" width=\"26.928\" x=\"963.336\" y=\"325.05\"/><circle class=\"shooting fw block\" cx=\"963.6\" cy=\"330.0\" r=\"-0.264\"/><circle class=\"shooting fw block\" cx=\"990.0\" cy=\"330.0\" r=\"-0.264\"/><text class=\"shooting fw block\" x=\"976.8\" y=\"330.0\"/><rect class=\"shooting fw block\" height=\"9.9\" width=\"26.928\" x=\"989.736\" y=\"325.05\"/><circle class=\"shooting fw block\" cx=\"990.0\" cy=\"330.0\" r=\"-0.264\"/><text class=\"shooting fw block\" x=\"1003.2\" y=\"330.0\"/><text class=\"shooting left label\" x=\"396.0\" y=\"346.5\">15b</text><line class=\"shooting bw connection v-connection\" x1=\"858.0\" x2=\"858.0\" y1=\"329.835\" y2=\"346.665\"/><rect class=\"shooting bw block\" height=\"9.9\" width=\"26.928\" x=\"435.336\" y=\"341.55\"/><circle class=\"shooting bw block\" cx=\"462.0\" cy=\"346.5\" r=\"-0.264\"/><text class=\"shooting bw block\" x=\"448.8\" y=\"346.5\"/><rect class=\"shooting bw block\" height=\"9.9\" width=\"26.928\" x=\"461.736\" y=\"341.55\"/><circle class=\"shooting bw block\" cx=\"462.0\" cy=\"346.5\" r=\"-0.264\"/><circle class=\"shooting bw block\" cx=\"488.4\" cy=\"346.5\" r=\"-0.264\"/><text class=\"shooting bw block\" x=\"475.2\" y=\"346.5\"/><rect class=\"shooting bw block\" height=\"9.9\" width=\"26.928\" x=\"488.136\" y=\"341.55\"/><circle class=\"shooting bw block\" cx=\"488.4\" cy=\"346.5\" r=\"-0.264\"/><circle class=\"shooting bw block\" cx=\"514.8\" cy=\"346.5\" r=\"-0.264\"/><text class=\"shooting bw block\" x=\"501.6\" y=\"346.5\"/><rect class=\"shooting bw block\" height=\"9.9\" width=\"26.928\" x=\"514.536\" y=\"341.55\"/><circle class=\"shooting bw block\" cx=\"514.8\" cy=\"346.5\" r=\"-0.264\"/><circle class=\"shooting bw block\" cx=\"541.2\" cy=\"346.5\" r=\"-0.264\"/><text class=\"shooting bw block\" x=\"528.0\" y=\"346.5\"/><rect class=\"shooting bw block\" height=\"9.9\" width=\"26.928\" x=\"540.936\" y=\"341.55\"/><circle class=\"shooting bw block\" cx=\"541.2\" cy=\"346.5\" r=\"-0.264\"/><circle class=\"shooting bw block\" cx=\"567.6\" cy=\"346.5\" r=\"-0.264\"/><text class=\"shooting bw block\" x=\"554.4\" y=\"346.5\"/><rect class=\"shooting bw block\" height=\"9.9\" width=\"26.928\" x=\"567.336\" y=\"341.55\"/><circle class=\"shooting bw block\" cx=\"567.6\" cy=\"346.5\" r=\"-0.264\"/><circle class=\"shooting bw block\" cx=\"594.0\" cy=\"346.5\" r=\"-0.264\"/><text class=\"shooting bw block\" x=\"580.8\" y=\"346.5\"/><rect class=\"shooting bw block\" height=\"9.9\" width=\"26.928\" x=\"593.736\" y=\"341.55\"/><circle class=\"shooting bw block\" cx=\"594.0\" cy=\"346.5\" r=\"-0.264\"/><circle class=\"shooting bw block\" cx=\"620.4\" cy=\"346.5\" r=\"-0.264\"/><text class=\"shooting bw block\" x=\"607.2\" y=\"346.5\"/><rect class=\"shooting bw block\" height=\"9.9\" width=\"26.928\" x=\"620.136\" y=\"341.55\"/><circle class=\"shooting bw block\" cx=\"620.4\" cy=\"346.5\" r=\"-0.264\"/><circle class=\"shooting bw block\" cx=\"646.8\" cy=\"346.5\" r=\"-0.264\"/><text class=\"shooting bw block\" x=\"633.6\" y=\"346.5\"/><rect class=\"shooting bw block\" height=\"9.9\" width=\"26.928\" x=\"646.536\" y=\"341.55\"/><circle class=\"shooting bw block\" cx=\"646.8\" cy=\"346.5\" r=\"-0.264\"/><circle class=\"shooting bw block\" cx=\"673.2\" cy=\"346.5\" r=\"-0.264\"/><text class=\"shooting bw block\" x=\"660.0\" y=\"346.5\"/><rect class=\"shooting bw block\" height=\"9.9\" width=\"26.928\" x=\"672.936\" y=\"341.55\"/><circle class=\"shooting bw block\" cx=\"673.2\" cy=\"346.5\" r=\"-0.264\"/><circle class=\"shooting bw block\" cx=\"699.6\" cy=\"346.5\" r=\"-0.264\"/><text class=\"shooting bw block\" x=\"686.4\" y=\"346.5\"/><rect class=\"shooting bw block\" height=\"9.9\" width=\"26.928\" x=\"699.336\" y=\"341.55\"/><circle class=\"shooting bw block\" cx=\"699.6\" cy=\"346.5\" r=\"-0.264\"/><circle class=\"shooting bw block\" cx=\"726.0\" cy=\"346.5\" r=\"-0.264\"/><text class=\"shooting bw block\" x=\"712.8\" y=\"346.5\"/><rect class=\"shooting bw block\" height=\"9.9\" width=\"26.928\" x=\"725.736\" y=\"341.55\"/><circle class=\"shooting bw block\" cx=\"726.0\" cy=\"346.5\" r=\"-0.264\"/><circle class=\"shooting bw block\" cx=\"752.4\" cy=\"346.5\" r=\"-0.264\"/><text class=\"shooting bw block\" x=\"739.2\" y=\"346.5\"/><rect class=\"shooting bw block\" height=\"9.9\" width=\"26.928\" x=\"752.136\" y=\"341.55\"/><circle class=\"shooting bw block\" cx=\"752.4\" cy=\"346.5\" r=\"-0.264\"/><circle class=\"shooting bw block\" cx=\"778.8\" cy=\"346.5\" r=\"-0.264\"/><text class=\"shooting bw block\" x=\"765.6\" y=\"346.5\"/><rect class=\"shooting bw block\" height=\"9.9\" width=\"26.928\" x=\"778.536\" y=\"341.55\"/><circle class=\"shooting bw block\" cx=\"778.8\" cy=\"346.5\" r=\"-0.264\"/><circle class=\"shooting bw block\" cx=\"805.2\" cy=\"346.5\" r=\"-0.264\"/><text class=\"shooting bw block\" x=\"792.0\" y=\"346.5\"/><rect class=\"shooting bw block\" height=\"9.9\" width=\"26.928\" x=\"804.936\" y=\"341.55\"/><circle class=\"shooting bw block\" cx=\"805.2\" cy=\"346.5\" r=\"-0.264\"/><circle class=\"shooting bw block\" cx=\"831.6\" cy=\"346.5\" r=\"-0.264\"/><text class=\"shooting bw block\" x=\"818.4\" y=\"346.5\"/><rect class=\"shooting bw block\" height=\"9.9\" width=\"26.928\" x=\"831.336\" y=\"341.55\"/><circle class=\"shooting bw block\" cx=\"831.6\" cy=\"346.5\" r=\"-0.264\"/><circle class=\"shooting bw block\" cx=\"858.0\" cy=\"346.5\" r=\"-0.264\"/><text class=\"shooting bw block\" x=\"844.8\" y=\"346.5\"/><text class=\"shooting left label\" x=\"396.0\" y=\"363.0\">17f</text><line class=\"shooting fw connection v-connection\" x1=\"884.4\" x2=\"884.4\" y1=\"329.835\" y2=\"363.165\"/><rect class=\"shooting fw block\" height=\"9.9\" width=\"26.928\" x=\"884.136\" y=\"358.05\"/><circle class=\"shooting fw block\" cx=\"884.4\" cy=\"363.0\" r=\"-0.264\"/><circle class=\"shooting fw block\" cx=\"910.8\" cy=\"363.0\" r=\"-0.264\"/><text class=\"shooting fw block\" x=\"897.6\" y=\"363.0\"/><rect class=\"shooting fw block\" height=\"9.9\" width=\"26.928\" x=\"910.536\" y=\"358.05\"/><circle class=\"shooting fw block\" cx=\"910.8\" cy=\"363.0\" r=\"-0.264\"/><circle class=\"shooting fw block\" cx=\"937.2\" cy=\"363.0\" r=\"-0.264\"/><text class=\"shooting fw block\" x=\"924.0\" y=\"363.0\"/><rect class=\"shooting fw block\" height=\"9.9\" width=\"26.928\" x=\"936.936\" y=\"358.05\"/><circle class=\"shooting fw block\" cx=\"937.2\" cy=\"363.0\" r=\"-0.264\"/><circle class=\"shooting fw block\" cx=\"963.6\" cy=\"363.0\" r=\"-0.264\"/><text class=\"shooting fw block\" x=\"950.4\" y=\"363.0\"/><rect class=\"shooting fw block\" height=\"9.9\" width=\"26.928\" x=\"963.336\" y=\"358.05\"/><circle class=\"shooting fw block\" cx=\"963.6\" cy=\"363.0\" r=\"-0.264\"/><circle class=\"shooting fw block\" cx=\"990.0\" cy=\"363.0\" r=\"-0.264\"/><text class=\"shooting fw block\" x=\"976.8\" y=\"363.0\"/><rect class=\"shooting fw block\" height=\"9.9\" width=\"26.928\" x=\"989.736\" y=\"358.05\"/><circle class=\"shooting fw block\" cx=\"990.0\" cy=\"363.0\" r=\"-0.264\"/><text class=\"shooting fw block\" x=\"1003.2\" y=\"363.0\"/><text class=\"shooting left label\" x=\"396.0\" y=\"379.5\">18f</text><line class=\"shooting fw connection v-connection\" x1=\"541.2\" x2=\"541.2\" y1=\"346.335\" y2=\"379.665\"/><rect class=\"shooting fw block\" height=\"9.9\" width=\"26.928\" x=\"540.936\" y=\"374.55\"/><circle class=\"shooting fw block\" cx=\"541.2\" cy=\"379.5\" r=\"-0.264\"/><circle class=\"shooting fw block\" cx=\"567.6\" cy=\"379.5\" r=\"-0.264\"/><text class=\"shooting fw block\" x=\"554.4\" y=\"379.5\"/><rect class=\"shooting fw block\" height=\"9.9\" width=\"26.928\" x=\"567.336\" y=\"374.55\"/><circle class=\"shooting fw block\" cx=\"567.6\" cy=\"379.5\" r=\"-0.264\"/><circle class=\"shooting fw block\" cx=\"594.0\" cy=\"379.5\" r=\"-0.264\"/><text class=\"shooting fw block\" x=\"580.8\" y=\"379.5\"/><rect class=\"shooting fw block\" height=\"9.9\" width=\"26.928\" x=\"593.736\" y=\"374.55\"/><circle class=\"shooting fw block\" cx=\"594.0\" cy=\"379.5\" r=\"-0.264\"/><circle class=\"shooting fw block\" cx=\"620.4\" cy=\"379.5\" r=\"-0.264\"/><text class=\"shooting fw block\" x=\"607.2\" y=\"379.5\"/><rect class=\"shooting fw block\" height=\"9.9\" width=\"26.928\" x=\"620.136\" y=\"374.55\"/><circle class=\"shooting fw block\" cx=\"620.4\" cy=\"379.5\" r=\"-0.264\"/><circle class=\"shooting fw block\" cx=\"646.8\" cy=\"379.5\" r=\"-0.264\"/><text class=\"shooting fw block\" x=\"633.6\" y=\"379.5\"/><rect class=\"shooting fw block\" height=\"9.9\" width=\"26.928\" x=\"646.536\" y=\"374.55\"/><circle class=\"shooting fw block\" cx=\"646.8\" cy=\"379.5\" r=\"-0.264\"/><circle class=\"shooting fw block\" cx=\"673.2\" cy=\"379.5\" r=\"-0.264\"/><text class=\"shooting fw block\" x=\"660.0\" y=\"379.5\"/><rect class=\"shooting fw block\" height=\"9.9\" width=\"26.928\" x=\"672.936\" y=\"374.55\"/><circle class=\"shooting fw block\" cx=\"673.2\" cy=\"379.5\" r=\"-0.264\"/><circle class=\"shooting fw block\" cx=\"699.6\" cy=\"379.5\" r=\"-0.264\"/><text class=\"shooting fw block\" x=\"686.4\" y=\"379.5\"/><rect class=\"shooting fw block\" height=\"9.9\" width=\"26.928\" x=\"699.336\" y=\"374.55\"/><circle class=\"shooting fw block\" cx=\"699.6\" cy=\"379.5\" r=\"-0.264\"/><circle class=\"shooting fw block\" cx=\"726.0\" cy=\"379.5\" r=\"-0.264\"/><text class=\"shooting fw block\" x=\"712.8\" y=\"379.5\"/><rect class=\"shooting fw block\" height=\"9.9\" width=\"26.928\" x=\"725.736\" y=\"374.55\"/><circle class=\"shooting fw block\" cx=\"726.0\" cy=\"379.5\" r=\"-0.264\"/><circle class=\"shooting fw block\" cx=\"752.4\" cy=\"379.5\" r=\"-0.264\"/><text class=\"shooting fw block\" x=\"739.2\" y=\"379.5\"/><rect class=\"shooting fw block\" height=\"9.9\" width=\"26.928\" x=\"752.136\" y=\"374.55\"/><circle class=\"shooting fw block\" cx=\"752.4\" cy=\"379.5\" r=\"-0.264\"/><circle class=\"shooting fw block\" cx=\"778.8\" cy=\"379.5\" r=\"-0.264\"/><text class=\"shooting fw block\" x=\"765.6\" y=\"379.5\"/><rect class=\"shooting fw block\" height=\"9.9\" width=\"26.928\" x=\"778.536\" y=\"374.55\"/><circle class=\"shooting fw block\" cx=\"778.8\" cy=\"379.5\" r=\"-0.264\"/><circle class=\"shooting fw block\" cx=\"805.2\" cy=\"379.5\" r=\"-0.264\"/><text class=\"shooting fw block\" x=\"792.0\" y=\"379.5\"/><rect class=\"shooting fw block\" height=\"9.9\" width=\"26.928\" x=\"804.936\" y=\"374.55\"/><circle class=\"shooting fw block\" cx=\"805.2\" cy=\"379.5\" r=\"-0.264\"/><circle class=\"shooting fw block\" cx=\"831.6\" cy=\"379.5\" r=\"-0.264\"/><text class=\"shooting fw block\" x=\"818.4\" y=\"379.5\"/><rect class=\"shooting fw block\" height=\"9.9\" width=\"26.928\" x=\"831.336\" y=\"374.55\"/><circle class=\"shooting fw block\" cx=\"831.6\" cy=\"379.5\" r=\"-0.264\"/><circle class=\"shooting fw block\" cx=\"858.0\" cy=\"379.5\" r=\"-0.264\"/><text class=\"shooting fw block\" x=\"844.8\" y=\"379.5\"/><rect class=\"shooting fw block\" height=\"9.9\" width=\"26.928\" x=\"857.736\" y=\"374.55\"/><circle class=\"shooting fw block\" cx=\"858.0\" cy=\"379.5\" r=\"-0.264\"/><circle class=\"shooting fw block\" cx=\"884.4\" cy=\"379.5\" r=\"-0.264\"/><text class=\"shooting fw block\" x=\"871.2\" y=\"379.5\"/><rect class=\"shooting fw block\" height=\"9.9\" width=\"26.928\" x=\"884.136\" y=\"374.55\"/><circle class=\"shooting fw block\" cx=\"884.4\" cy=\"379.5\" r=\"-0.264\"/><circle class=\"shooting fw block\" cx=\"910.8\" cy=\"379.5\" r=\"-0.264\"/><text class=\"shooting fw block\" x=\"897.6\" y=\"379.5\"/><rect class=\"shooting fw block\" height=\"9.9\" width=\"26.928\" x=\"910.536\" y=\"374.55\"/><circle class=\"shooting fw block\" cx=\"910.8\" cy=\"379.5\" r=\"-0.264\"/><circle class=\"shooting fw block\" cx=\"937.2\" cy=\"379.5\" r=\"-0.264\"/><text class=\"shooting fw block\" x=\"924.0\" y=\"379.5\"/><rect class=\"shooting fw block\" height=\"9.9\" width=\"26.928\" x=\"936.936\" y=\"374.55\"/><circle class=\"shooting fw block\" cx=\"937.2\" cy=\"379.5\" r=\"-0.264\"/><text class=\"shooting fw block\" x=\"950.4\" y=\"379.5\"/><text class=\"shooting left label\" x=\"396.0\" y=\"396.0\">20f</text><line class=\"shooting fw connection v-connection\" x1=\"910.8\" x2=\"910.8\" y1=\"379.335\" y2=\"396.165\"/><rect class=\"shooting fw block\" height=\"9.9\" width=\"26.928\" x=\"910.536\" y=\"391.05\"/><circle class=\"shooting fw block\" cx=\"910.8\" cy=\"396.0\" r=\"-0.264\"/><circle class=\"shooting fw block\" cx=\"937.2\" cy=\"396.0\" r=\"-0.264\"/><text class=\"shooting fw block\" x=\"924.0\" y=\"396.0\"/><rect class=\"shooting fw block\" height=\"9.9\" width=\"26.928\" x=\"936.936\" y=\"391.05\"/><circle class=\"shooting fw block\" cx=\"937.2\" cy=\"396.0\" r=\"-0.264\"/><text class=\"shooting fw block\" x=\"950.4\" y=\"396.0\"/><text class=\"shooting left label\" x=\"396.0\" y=\"412.5\">21f</text><line class=\"shooting fw connection v-connection\" x1=\"620.4\" x2=\"620.4\" y1=\"379.335\" y2=\"412.665\"/><rect class=\"shooting fw block\" height=\"9.9\" width=\"26.928\" x=\"620.136\" y=\"407.55\"/><circle class=\"shooting fw block\" cx=\"620.4\" cy=\"412.5\" r=\"-0.264\"/><circle class=\"shooting fw block\" cx=\"646.8\" cy=\"412.5\" r=\"-0.264\"/><text class=\"shooting fw block\" x=\"633.6\" y=\"412.5\"/><rect class=\"shooting fw block\" height=\"9.9\" width=\"26.928\" x=\"646.536\" y=\"407.55\"/><circle class=\"shooting fw block\" cx=\"646.8\" cy=\"412.5\" r=\"-0.264\"/><circle class=\"shooting fw block\" cx=\"673.2\" cy=\"412.5\" r=\"-0.264\"/><text class=\"shooting fw block\" x=\"660.0\" y=\"412.5\"/><rect class=\"shooting fw block\" height=\"9.9\" width=\"26.928\" x=\"672.936\" y=\"407.55\"/><circle class=\"shooting fw block\" cx=\"673.2\" cy=\"412.5\" r=\"-0.264\"/><circle class=\"shooting fw block\" cx=\"699.6\" cy=\"412.5\" r=\"-0.264\"/><text class=\"shooting fw block\" x=\"686.4\" y=\"412.5\"/><rect class=\"shooting fw block\" height=\"9.9\" width=\"26.928\" x=\"699.336\" y=\"407.55\"/><circle class=\"shooting fw block\" cx=\"699.6\" cy=\"412.5\" r=\"-0.264\"/><circle class=\"shooting fw block\" cx=\"726.0\" cy=\"412.5\" r=\"-0.264\"/><text class=\"shooting fw block\" x=\"712.8\" y=\"412.5\"/><rect class=\"shooting fw block\" height=\"9.9\" width=\"26.928\" x=\"725.736\" y=\"407.55\"/><circle class=\"shooting fw block\" cx=\"726.0\" cy=\"412.5\" r=\"-0.264\"/><circle class=\"shooting fw block\" cx=\"752.4\" cy=\"412.5\" r=\"-0.264\"/><text class=\"shooting fw block\" x=\"739.2\" y=\"412.5\"/><rect class=\"shooting fw block\" height=\"9.9\" width=\"26.928\" x=\"752.136\" y=\"407.55\"/><circle class=\"shooting fw block\" cx=\"752.4\" cy=\"412.5\" r=\"-0.264\"/><circle class=\"shooting fw block\" cx=\"778.8\" cy=\"412.5\" r=\"-0.264\"/><text class=\"shooting fw block\" x=\"765.6\" y=\"412.5\"/><rect class=\"shooting fw block\" height=\"9.9\" width=\"26.928\" x=\"778.536\" y=\"407.55\"/><circle class=\"shooting fw block\" cx=\"778.8\" cy=\"412.5\" r=\"-0.264\"/><circle class=\"shooting fw block\" cx=\"805.2\" cy=\"412.5\" r=\"-0.264\"/><text class=\"shooting fw block\" x=\"792.0\" y=\"412.5\"/><rect class=\"shooting fw block\" height=\"9.9\" width=\"26.928\" x=\"804.936\" y=\"407.55\"/><circle class=\"shooting fw block\" cx=\"805.2\" cy=\"412.5\" r=\"-0.264\"/><circle class=\"shooting fw block\" cx=\"831.6\" cy=\"412.5\" r=\"-0.264\"/><text class=\"shooting fw block\" x=\"818.4\" y=\"412.5\"/><rect class=\"shooting fw block\" height=\"9.9\" width=\"26.928\" x=\"831.336\" y=\"407.55\"/><circle class=\"shooting fw block\" cx=\"831.6\" cy=\"412.5\" r=\"-0.264\"/><circle class=\"shooting fw block\" cx=\"858.0\" cy=\"412.5\" r=\"-0.264\"/><text class=\"shooting fw block\" x=\"844.8\" y=\"412.5\"/><rect class=\"shooting fw block\" height=\"9.9\" width=\"26.928\" x=\"857.736\" y=\"407.55\"/><circle class=\"shooting fw block\" cx=\"858.0\" cy=\"412.5\" r=\"-0.264\"/><circle class=\"shooting fw block\" cx=\"884.4\" cy=\"412.5\" r=\"-0.264\"/><text class=\"shooting fw block\" x=\"871.2\" y=\"412.5\"/><rect class=\"shooting fw block\" height=\"9.9\" width=\"26.928\" x=\"884.136\" y=\"407.55\"/><circle class=\"shooting fw block\" cx=\"884.4\" cy=\"412.5\" r=\"-0.264\"/><circle class=\"shooting fw block\" cx=\"910.8\" cy=\"412.5\" r=\"-0.264\"/><text class=\"shooting fw block\" x=\"897.6\" y=\"412.5\"/><rect class=\"shooting fw block\" height=\"9.9\" width=\"26.928\" x=\"910.536\" y=\"407.55\"/><circle class=\"shooting fw block\" cx=\"910.8\" cy=\"412.5\" r=\"-0.264\"/><circle class=\"shooting fw block\" cx=\"937.2\" cy=\"412.5\" r=\"-0.264\"/><text class=\"shooting fw block\" x=\"924.0\" y=\"412.5\"/><rect class=\"shooting fw block\" height=\"9.9\" width=\"26.928\" x=\"936.936\" y=\"407.55\"/><circle class=\"shooting fw block\" cx=\"937.2\" cy=\"412.5\" r=\"-0.264\"/><circle class=\"shooting fw block\" cx=\"963.6\" cy=\"412.5\" r=\"-0.264\"/><text class=\"shooting fw block\" x=\"950.4\" y=\"412.5\"/><rect class=\"shooting fw block\" height=\"9.9\" width=\"26.928\" x=\"963.336\" y=\"407.55\"/><circle class=\"shooting fw block\" cx=\"963.6\" cy=\"412.5\" r=\"-0.264\"/><circle class=\"shooting fw block\" cx=\"990.0\" cy=\"412.5\" r=\"-0.264\"/><text class=\"shooting fw block\" x=\"976.8\" y=\"412.5\"/><rect class=\"shooting fw block\" height=\"9.9\" width=\"26.928\" x=\"989.736\" y=\"407.55\"/><circle class=\"shooting fw block\" cx=\"990.0\" cy=\"412.5\" r=\"-0.264\"/><text class=\"shooting fw block\" x=\"1003.2\" y=\"412.5\"/><text class=\"shooting left label\" x=\"396.0\" y=\"429.0\">22f</text><line class=\"shooting fw connection v-connection\" x1=\"646.8\" x2=\"646.8\" y1=\"412.335\" y2=\"429.165\"/><rect class=\"shooting fw block\" height=\"9.9\" width=\"26.928\" x=\"646.536\" y=\"424.05\"/><circle class=\"shooting fw block\" cx=\"646.8\" cy=\"429.0\" r=\"-0.264\"/><circle class=\"shooting fw block\" cx=\"673.2\" cy=\"429.0\" r=\"-0.264\"/><text class=\"shooting fw block\" x=\"660.0\" y=\"429.0\"/><rect class=\"shooting fw block\" height=\"9.9\" width=\"26.928\" x=\"672.936\" y=\"424.05\"/><circle class=\"shooting fw block\" cx=\"673.2\" cy=\"429.0\" r=\"-0.264\"/><circle class=\"shooting fw block\" cx=\"699.6\" cy=\"429.0\" r=\"-0.264\"/><text class=\"shooting fw block\" x=\"686.4\" y=\"429.0\"/><rect class=\"shooting fw block\" height=\"9.9\" width=\"26.928\" x=\"699.336\" y=\"424.05\"/><circle class=\"shooting fw block\" cx=\"699.6\" cy=\"429.0\" r=\"-0.264\"/><circle class=\"shooting fw block\" cx=\"726.0\" cy=\"429.0\" r=\"-0.264\"/><text class=\"shooting fw block\" x=\"712.8\" y=\"429.0\"/><rect class=\"shooting fw block\" height=\"9.9\" width=\"26.928\" x=\"725.736\" y=\"424.05\"/><circle class=\"shooting fw block\" cx=\"726.0\" cy=\"429.0\" r=\"-0.264\"/><circle class=\"shooting fw block\" cx=\"752.4\" cy=\"429.0\" r=\"-0.264\"/><text class=\"shooting fw block\" x=\"739.2\" y=\"429.0\"/><rect class=\"shooting fw block\" height=\"9.9\" width=\"26.928\" x=\"752.136\" y=\"424.05\"/><circle class=\"shooting fw block\" cx=\"752.4\" cy=\"429.0\" r=\"-0.264\"/><circle class=\"shooting fw block\" cx=\"778.8\" cy=\"429.0\" r=\"-0.264\"/><text class=\"shooting fw block\" x=\"765.6\" y=\"429.0\"/><rect class=\"shooting fw block\" height=\"9.9\" width=\"26.928\" x=\"778.536\" y=\"424.05\"/><circle class=\"shooting fw block\" cx=\"778.8\" cy=\"429.0\" r=\"-0.264\"/><circle class=\"shooting fw block\" cx=\"805.2\" cy=\"429.0\" r=\"-0.264\"/><text class=\"shooting fw block\" x=\"792.0\" y=\"429.0\"/><rect class=\"shooting fw block\" height=\"9.9\" width=\"26.928\" x=\"804.936\" y=\"424.05\"/><circle class=\"shooting fw block\" cx=\"805.2\" cy=\"429.0\" r=\"-0.264\"/><circle class=\"shooting fw block\" cx=\"831.6\" cy=\"429.0\" r=\"-0.264\"/><text class=\"shooting fw block\" x=\"818.4\" y=\"429.0\"/><rect class=\"shooting fw block\" height=\"9.9\" width=\"26.928\" x=\"831.336\" y=\"424.05\"/><circle class=\"shooting fw block\" cx=\"831.6\" cy=\"429.0\" r=\"-0.264\"/><circle class=\"shooting fw block\" cx=\"858.0\" cy=\"429.0\" r=\"-0.264\"/><text class=\"shooting fw block\" x=\"844.8\" y=\"429.0\"/><rect class=\"shooting fw block\" height=\"9.9\" width=\"26.928\" x=\"857.736\" y=\"424.05\"/><circle class=\"shooting fw block\" cx=\"858.0\" cy=\"429.0\" r=\"-0.264\"/><circle class=\"shooting fw block\" cx=\"884.4\" cy=\"429.0\" r=\"-0.264\"/><text class=\"shooting fw block\" x=\"871.2\" y=\"429.0\"/><rect class=\"shooting fw block\" height=\"9.9\" width=\"26.928\" x=\"884.136\" y=\"424.05\"/><circle class=\"shooting fw block\" cx=\"884.4\" cy=\"429.0\" r=\"-0.264\"/><circle class=\"shooting fw block\" cx=\"910.8\" cy=\"429.0\" r=\"-0.264\"/><text class=\"shooting fw block\" x=\"897.6\" y=\"429.0\"/><rect class=\"shooting fw block\" height=\"9.9\" width=\"26.928\" x=\"910.536\" y=\"424.05\"/><circle class=\"shooting fw block\" cx=\"910.8\" cy=\"429.0\" r=\"-0.264\"/><circle class=\"shooting fw block\" cx=\"937.2\" cy=\"429.0\" r=\"-0.264\"/><text class=\"shooting fw block\" x=\"924.0\" y=\"429.0\"/><rect class=\"shooting fw block\" height=\"9.9\" width=\"26.928\" x=\"936.936\" y=\"424.05\"/><circle class=\"shooting fw block\" cx=\"937.2\" cy=\"429.0\" r=\"-0.264\"/><circle class=\"shooting fw block\" cx=\"963.6\" cy=\"429.0\" r=\"-0.264\"/><text class=\"shooting fw block\" x=\"950.4\" y=\"429.0\"/><rect class=\"shooting fw block\" height=\"9.9\" width=\"26.928\" x=\"963.336\" y=\"424.05\"/><circle class=\"shooting fw block\" cx=\"963.6\" cy=\"429.0\" r=\"-0.264\"/><circle class=\"shooting fw block\" cx=\"990.0\" cy=\"429.0\" r=\"-0.264\"/><text class=\"shooting fw block\" x=\"976.8\" y=\"429.0\"/><rect class=\"shooting fw block\" height=\"9.9\" width=\"26.928\" x=\"989.736\" y=\"424.05\"/><circle class=\"shooting fw block\" cx=\"990.0\" cy=\"429.0\" r=\"-0.264\"/><text class=\"shooting fw block\" x=\"1003.2\" y=\"429.0\"/><text class=\"shooting left label\" x=\"396.0\" y=\"445.5\">23f</text><line class=\"shooting fw connection v-connection\" x1=\"937.2\" x2=\"937.2\" y1=\"428.835\" y2=\"445.665\"/><rect class=\"shooting fw block\" height=\"9.9\" width=\"26.928\" x=\"936.936\" y=\"440.55\"/><circle class=\"shooting fw block\" cx=\"937.2\" cy=\"445.5\" r=\"-0.264\"/><circle class=\"shooting fw block\" cx=\"963.6\" cy=\"445.5\" r=\"-0.264\"/><text class=\"shooting fw block\" x=\"950.4\" y=\"445.5\"/><rect class=\"shooting fw block\" height=\"9.9\" width=\"26.928\" x=\"963.336\" y=\"440.55\"/><circle class=\"shooting fw block\" cx=\"963.6\" cy=\"445.5\" r=\"-0.264\"/><circle class=\"shooting fw block\" cx=\"990.0\" cy=\"445.5\" r=\"-0.264\"/><text class=\"shooting fw block\" x=\"976.8\" y=\"445.5\"/><rect class=\"shooting fw block\" height=\"9.9\" width=\"26.928\" x=\"989.736\" y=\"440.55\"/><circle class=\"shooting fw block\" cx=\"990.0\" cy=\"445.5\" r=\"-0.264\"/><text class=\"shooting fw block\" x=\"1003.2\" y=\"445.5\"/><text class=\"shooting left label\" x=\"396.0\" y=\"462.0\">24b</text><line class=\"shooting bw connection v-connection\" x1=\"541.2\" x2=\"541.2\" y1=\"379.335\" y2=\"462.165\"/><rect class=\"shooting bw block\" height=\"9.9\" width=\"26.928\" x=\"435.336\" y=\"457.05\"/><circle class=\"shooting bw block\" cx=\"462.0\" cy=\"462.0\" r=\"-0.264\"/><text class=\"shooting bw block\" x=\"448.8\" y=\"462.0\"/><rect class=\"shooting bw block\" height=\"9.9\" width=\"26.928\" x=\"461.736\" y=\"457.05\"/><circle class=\"shooting bw block\" cx=\"462.0\" cy=\"462.0\" r=\"-0.264\"/><circle class=\"shooting bw block\" cx=\"488.4\" cy=\"462.0\" r=\"-0.264\"/><text class=\"shooting bw block\" x=\"475.2\" y=\"462.0\"/><rect class=\"shooting bw block\" height=\"9.9\" width=\"26.928\" x=\"488.136\" y=\"457.05\"/><circle class=\"shooting bw block\" cx=\"488.4\" cy=\"462.0\" r=\"-0.264\"/><circle class=\"shooting bw block\" cx=\"514.8\" cy=\"462.0\" r=\"-0.264\"/><text class=\"shooting bw block\" x=\"501.6\" y=\"462.0\"/><rect class=\"shooting bw block\" height=\"9.9\" width=\"26.928\" x=\"514.536\" y=\"457.05\"/><circle class=\"shooting bw block\" cx=\"514.8\" cy=\"462.0\" r=\"-0.264\"/><circle class=\"shooting bw block\" cx=\"541.2\" cy=\"462.0\" r=\"-0.264\"/><text class=\"shooting bw block\" x=\"528.0\" y=\"462.0\"/><text class=\"shooting left label\" x=\"396.0\" y=\"478.5\">25f</text><line class=\"shooting fw connection v-connection\" x1=\"541.2\" x2=\"541.2\" y1=\"461.835\" y2=\"478.665\"/><rect class=\"shooting fw block\" height=\"9.9\" width=\"26.928\" x=\"540.936\" y=\"473.55\"/><circle class=\"shooting fw block\" cx=\"541.2\" cy=\"478.5\" r=\"-0.264\"/><circle class=\"shooting fw block\" cx=\"567.6\" cy=\"478.5\" r=\"-0.264\"/><text class=\"shooting fw block\" x=\"554.4\" y=\"478.5\"/><rect class=\"shooting fw block\" height=\"9.9\" width=\"26.928\" x=\"567.336\" y=\"473.55\"/><circle class=\"shooting fw block\" cx=\"567.6\" cy=\"478.5\" r=\"-0.264\"/><circle class=\"shooting fw block\" cx=\"594.0\" cy=\"478.5\" r=\"-0.264\"/><text class=\"shooting fw block\" x=\"580.8\" y=\"478.5\"/><rect class=\"shooting fw block\" height=\"9.9\" width=\"26.928\" x=\"593.736\" y=\"473.55\"/><circle class=\"shooting fw block\" cx=\"594.0\" cy=\"478.5\" r=\"-0.264\"/><circle class=\"shooting fw block\" cx=\"620.4\" cy=\"478.5\" r=\"-0.264\"/><text class=\"shooting fw block\" x=\"607.2\" y=\"478.5\"/><rect class=\"shooting fw block\" height=\"9.9\" width=\"26.928\" x=\"620.136\" y=\"473.55\"/><circle class=\"shooting fw block\" cx=\"620.4\" cy=\"478.5\" r=\"-0.264\"/><circle class=\"shooting fw block\" cx=\"646.8\" cy=\"478.5\" r=\"-0.264\"/><text class=\"shooting fw block\" x=\"633.6\" y=\"478.5\"/><rect class=\"shooting fw block\" height=\"9.9\" width=\"26.928\" x=\"646.536\" y=\"473.55\"/><circle class=\"shooting fw block\" cx=\"646.8\" cy=\"478.5\" r=\"-0.264\"/><circle class=\"shooting fw block\" cx=\"673.2\" cy=\"478.5\" r=\"-0.264\"/><text class=\"shooting fw block\" x=\"660.0\" y=\"478.5\"/><rect class=\"shooting fw block\" height=\"9.9\" width=\"26.928\" x=\"672.936\" y=\"473.55\"/><circle class=\"shooting fw block\" cx=\"673.2\" cy=\"478.5\" r=\"-0.264\"/><circle class=\"shooting fw block\" cx=\"699.6\" cy=\"478.5\" r=\"-0.264\"/><text class=\"shooting fw block\" x=\"686.4\" y=\"478.5\"/><rect class=\"shooting fw block\" height=\"9.9\" width=\"26.928\" x=\"699.336\" y=\"473.55\"/><circle class=\"shooting fw block\" cx=\"699.6\" cy=\"478.5\" r=\"-0.264\"/><circle class=\"shooting fw block\" cx=\"726.0\" cy=\"478.5\" r=\"-0.264\"/><text class=\"shooting fw block\" x=\"712.8\" y=\"478.5\"/><rect class=\"shooting fw block\" height=\"9.9\" width=\"26.928\" x=\"725.736\" y=\"473.55\"/><circle class=\"shooting fw block\" cx=\"726.0\" cy=\"478.5\" r=\"-0.264\"/><circle class=\"shooting fw block\" cx=\"752.4\" cy=\"478.5\" r=\"-0.264\"/><text class=\"shooting fw block\" x=\"739.2\" y=\"478.5\"/><rect class=\"shooting fw block\" height=\"9.9\" width=\"26.928\" x=\"752.136\" y=\"473.55\"/><circle class=\"shooting fw block\" cx=\"752.4\" cy=\"478.5\" r=\"-0.264\"/><circle class=\"shooting fw block\" cx=\"778.8\" cy=\"478.5\" r=\"-0.264\"/><text class=\"shooting fw block\" x=\"765.6\" y=\"478.5\"/><rect class=\"shooting fw block\" height=\"9.9\" width=\"26.928\" x=\"778.536\" y=\"473.55\"/><circle class=\"shooting fw block\" cx=\"778.8\" cy=\"478.5\" r=\"-0.264\"/><circle class=\"shooting fw block\" cx=\"805.2\" cy=\"478.5\" r=\"-0.264\"/><text class=\"shooting fw block\" x=\"792.0\" y=\"478.5\"/><rect class=\"shooting fw block\" height=\"9.9\" width=\"26.928\" x=\"804.936\" y=\"473.55\"/><circle class=\"shooting fw block\" cx=\"805.2\" cy=\"478.5\" r=\"-0.264\"/><circle class=\"shooting fw block\" cx=\"831.6\" cy=\"478.5\" r=\"-0.264\"/><text class=\"shooting fw block\" x=\"818.4\" y=\"478.5\"/><rect class=\"shooting fw block\" height=\"9.9\" width=\"26.928\" x=\"831.336\" y=\"473.55\"/><circle class=\"shooting fw block\" cx=\"831.6\" cy=\"478.5\" r=\"-0.264\"/><circle class=\"shooting fw block\" cx=\"858.0\" cy=\"478.5\" r=\"-0.264\"/><text class=\"shooting fw block\" x=\"844.8\" y=\"478.5\"/><rect class=\"shooting fw block\" height=\"9.9\" width=\"26.928\" x=\"857.736\" y=\"473.55\"/><circle class=\"shooting fw block\" cx=\"858.0\" cy=\"478.5\" r=\"-0.264\"/><circle class=\"shooting fw block\" cx=\"884.4\" cy=\"478.5\" r=\"-0.264\"/><text class=\"shooting fw block\" x=\"871.2\" y=\"478.5\"/><rect class=\"shooting fw block\" height=\"9.9\" width=\"26.928\" x=\"884.136\" y=\"473.55\"/><circle class=\"shooting fw block\" cx=\"884.4\" cy=\"478.5\" r=\"-0.264\"/><circle class=\"shooting fw block\" cx=\"910.8\" cy=\"478.5\" r=\"-0.264\"/><text class=\"shooting fw block\" x=\"897.6\" y=\"478.5\"/><rect class=\"shooting fw block\" height=\"9.9\" width=\"26.928\" x=\"910.536\" y=\"473.55\"/><circle class=\"shooting fw block\" cx=\"910.8\" cy=\"478.5\" r=\"-0.264\"/><circle class=\"shooting fw block\" cx=\"937.2\" cy=\"478.5\" r=\"-0.264\"/><text class=\"shooting fw block\" x=\"924.0\" y=\"478.5\"/><rect class=\"shooting fw block\" height=\"9.9\" width=\"26.928\" x=\"936.936\" y=\"473.55\"/><circle class=\"shooting fw block\" cx=\"937.2\" cy=\"478.5\" r=\"-0.264\"/><circle class=\"shooting fw block\" cx=\"963.6\" cy=\"478.5\" r=\"-0.264\"/><text class=\"shooting fw block\" x=\"950.4\" y=\"478.5\"/><rect class=\"shooting fw block\" height=\"9.9\" width=\"26.928\" x=\"963.336\" y=\"473.55\"/><circle class=\"shooting fw block\" cx=\"963.6\" cy=\"478.5\" r=\"-0.264\"/><circle class=\"shooting fw block\" cx=\"990.0\" cy=\"478.5\" r=\"-0.264\"/><text class=\"shooting fw block\" x=\"976.8\" y=\"478.5\"/><rect class=\"shooting fw block\" height=\"9.9\" width=\"26.928\" x=\"989.736\" y=\"473.55\"/><circle class=\"shooting fw block\" cx=\"990.0\" cy=\"478.5\" r=\"-0.264\"/><circle class=\"shooting fw block\" cx=\"1016.4\" cy=\"478.5\" r=\"-0.264\"/><text class=\"shooting fw block\" x=\"1003.2\" y=\"478.5\"/><rect class=\"shooting fw block\" height=\"9.9\" width=\"26.928\" x=\"1016.136\" y=\"473.55\"/><circle class=\"shooting fw block\" cx=\"1016.4\" cy=\"478.5\" r=\"-0.264\"/><circle class=\"shooting fw block\" cx=\"1042.8\" cy=\"478.5\" r=\"-0.264\"/><text class=\"shooting fw block\" x=\"1029.6\" y=\"478.5\"/><rect class=\"shooting fw block\" height=\"9.9\" width=\"26.928\" x=\"1042.536\" y=\"473.55\"/><circle class=\"shooting fw block\" cx=\"1042.8\" cy=\"478.5\" r=\"-0.264\"/><circle class=\"shooting fw block\" cx=\"1069.2\" cy=\"478.5\" r=\"-0.264\"/><text class=\"shooting fw block\" x=\"1056.0\" y=\"478.5\"/><rect class=\"shooting fw block\" height=\"9.9\" width=\"26.928\" x=\"1068.936\" y=\"473.55\"/><circle class=\"shooting fw block\" cx=\"1069.2\" cy=\"478.5\" r=\"-0.264\"/><circle class=\"shooting fw block\" cx=\"1095.6\" cy=\"478.5\" r=\"-0.264\"/><text class=\"shooting fw block\" x=\"1082.4\" y=\"478.5\"/><rect class=\"shooting fw block\" height=\"9.9\" width=\"26.928\" x=\"1095.336\" y=\"473.55\"/><circle class=\"shooting fw block\" cx=\"1095.6\" cy=\"478.5\" r=\"-0.264\"/><circle class=\"shooting fw block\" cx=\"1122.0\" cy=\"478.5\" r=\"-0.264\"/><text class=\"shooting fw block\" x=\"1108.8\" y=\"478.5\"/><rect class=\"shooting fw block\" height=\"9.9\" width=\"26.928\" x=\"1121.736\" y=\"473.55\"/><circle class=\"shooting fw block\" cx=\"1122.0\" cy=\"478.5\" r=\"-0.264\"/><circle class=\"shooting fw block\" cx=\"1148.4\" cy=\"478.5\" r=\"-0.264\"/><text class=\"shooting fw block\" x=\"1135.2\" y=\"478.5\"/><rect class=\"shooting fw block\" height=\"9.9\" width=\"26.928\" x=\"1148.136\" y=\"473.55\"/><circle class=\"shooting fw block\" cx=\"1148.4\" cy=\"478.5\" r=\"-0.264\"/><circle class=\"shooting fw block\" cx=\"1174.8\" cy=\"478.5\" r=\"-0.264\"/><text class=\"shooting fw block\" x=\"1161.6\" y=\"478.5\"/><rect class=\"shooting fw block\" height=\"9.9\" width=\"26.928\" x=\"1174.536\" y=\"473.55\"/><circle class=\"shooting fw block\" cx=\"1174.8\" cy=\"478.5\" r=\"-0.264\"/><circle class=\"shooting fw block\" cx=\"1201.2\" cy=\"478.5\" r=\"-0.264\"/><text class=\"shooting fw block\" x=\"1188.0\" y=\"478.5\"/><rect class=\"shooting fw block\" height=\"9.9\" width=\"26.928\" x=\"1200.936\" y=\"473.55\"/><circle class=\"shooting fw block\" cx=\"1201.2\" cy=\"478.5\" r=\"-0.264\"/><circle class=\"shooting fw block\" cx=\"1227.6\" cy=\"478.5\" r=\"-0.264\"/><text class=\"shooting fw block\" x=\"1214.4\" y=\"478.5\"/><rect class=\"shooting fw block\" height=\"9.9\" width=\"26.928\" x=\"1227.336\" y=\"473.55\"/><circle class=\"shooting fw block\" cx=\"1227.6\" cy=\"478.5\" r=\"-0.264\"/><circle class=\"shooting fw block\" cx=\"1254.0\" cy=\"478.5\" r=\"-0.264\"/><text class=\"shooting fw block\" x=\"1240.8\" y=\"478.5\"/><rect class=\"shooting fw block\" height=\"9.9\" width=\"26.928\" x=\"1253.736\" y=\"473.55\"/><circle class=\"shooting fw block\" cx=\"1254.0\" cy=\"478.5\" r=\"-0.264\"/><circle class=\"shooting fw block\" cx=\"1280.4\" cy=\"478.5\" r=\"-0.264\"/><text class=\"shooting fw block\" x=\"1267.2\" y=\"478.5\"/><rect class=\"shooting fw block\" height=\"9.9\" width=\"26.928\" x=\"1280.136\" y=\"473.55\"/><circle class=\"shooting fw block\" cx=\"1280.4\" cy=\"478.5\" r=\"-0.264\"/><circle class=\"shooting fw block\" cx=\"1306.8\" cy=\"478.5\" r=\"-0.264\"/><text class=\"shooting fw block\" x=\"1293.6\" y=\"478.5\"/><rect class=\"shooting fw block\" height=\"9.9\" width=\"26.928\" x=\"1306.536\" y=\"473.55\"/><circle class=\"shooting fw block\" cx=\"1306.8\" cy=\"478.5\" r=\"-0.264\"/><circle class=\"shooting fw block\" cx=\"1333.2\" cy=\"478.5\" r=\"-0.264\"/><text class=\"shooting fw block\" x=\"1320.0\" y=\"478.5\"/><rect class=\"shooting fw block\" height=\"9.9\" width=\"26.928\" x=\"1332.936\" y=\"473.55\"/><circle class=\"shooting fw block\" cx=\"1333.2\" cy=\"478.5\" r=\"-0.264\"/><circle class=\"shooting fw block\" cx=\"1359.6\" cy=\"478.5\" r=\"-0.264\"/><text class=\"shooting fw block\" x=\"1346.4\" y=\"478.5\"/><rect class=\"shooting fw block\" height=\"9.9\" width=\"26.928\" x=\"1359.336\" y=\"473.55\"/><circle class=\"shooting fw block\" cx=\"1359.6\" cy=\"478.5\" r=\"-0.264\"/><circle class=\"shooting fw block\" cx=\"1386.0\" cy=\"478.5\" r=\"-0.264\"/><text class=\"shooting fw block\" x=\"1372.8\" y=\"478.5\"/><rect class=\"shooting fw block\" height=\"9.9\" width=\"26.928\" x=\"1385.736\" y=\"473.55\"/><circle class=\"shooting fw block\" cx=\"1386.0\" cy=\"478.5\" r=\"-0.264\"/><circle class=\"shooting fw block\" cx=\"1412.4\" cy=\"478.5\" r=\"-0.264\"/><text class=\"shooting fw block\" x=\"1399.2\" y=\"478.5\"/><rect class=\"shooting fw block\" height=\"9.9\" width=\"26.928\" x=\"1412.136\" y=\"473.55\"/><circle class=\"shooting fw block\" cx=\"1412.4\" cy=\"478.5\" r=\"-0.264\"/><circle class=\"shooting fw block\" cx=\"1438.8\" cy=\"478.5\" r=\"-0.264\"/><text class=\"shooting fw block\" x=\"1425.6\" y=\"478.5\"/><rect class=\"shooting fw block\" height=\"9.9\" width=\"26.928\" x=\"1438.536\" y=\"473.55\"/><circle class=\"shooting fw block\" cx=\"1438.8\" cy=\"478.5\" r=\"-0.264\"/><circle class=\"shooting fw block\" cx=\"1465.2\" cy=\"478.5\" r=\"-0.264\"/><text class=\"shooting fw block\" x=\"1452.0\" y=\"478.5\"/><rect class=\"shooting fw block\" height=\"9.9\" width=\"26.928\" x=\"1464.936\" y=\"473.55\"/><circle class=\"shooting fw block\" cx=\"1465.2\" cy=\"478.5\" r=\"-0.264\"/><circle class=\"shooting fw block\" cx=\"1491.6\" cy=\"478.5\" r=\"-0.264\"/><text class=\"shooting fw block\" x=\"1478.4\" y=\"478.5\"/><rect class=\"shooting fw block\" height=\"9.9\" width=\"26.928\" x=\"1491.336\" y=\"473.55\"/><circle class=\"shooting fw block\" cx=\"1491.6\" cy=\"478.5\" r=\"-0.264\"/><circle class=\"shooting fw block\" cx=\"1518.0\" cy=\"478.5\" r=\"-0.264\"/><text class=\"shooting fw block\" x=\"1504.8\" y=\"478.5\"/><rect class=\"shooting fw block\" height=\"9.9\" width=\"26.928\" x=\"1517.736\" y=\"473.55\"/><circle class=\"shooting fw block\" cx=\"1518.0\" cy=\"478.5\" r=\"-0.264\"/><circle class=\"shooting fw block\" cx=\"1544.4\" cy=\"478.5\" r=\"-0.264\"/><text class=\"shooting fw block\" x=\"1531.2\" y=\"478.5\"/><rect class=\"shooting fw block\" height=\"9.9\" width=\"26.928\" x=\"1544.136\" y=\"473.55\"/><circle class=\"shooting fw block\" cx=\"1544.4\" cy=\"478.5\" r=\"-0.264\"/><text class=\"shooting fw block\" x=\"1557.6\" y=\"478.5\"/><text class=\"hop left label\" x=\"396.0\" y=\"495.0\">25h</text><rect class=\"hop overlap range\" height=\"1.65\" width=\"1135.728\" x=\"435.336\" y=\"494.175\"/><circle class=\"hop overlap range\" cx=\"435.6\" cy=\"495.0\" r=\"-0.264\"/><rect class=\"hop overlap range\" height=\"9.9\" width=\"2.64\" x=\"435.336\" y=\"490.05\"/><circle class=\"hop overlap range\" cx=\"1570.8\" cy=\"495.0\" r=\"-0.264\"/><rect class=\"hop overlap range\" height=\"9.9\" width=\"2.64\" x=\"1568.424\" y=\"490.05\"/><text class=\"hop overlap range\" x=\"1003.2\" y=\"490.05\">EnsembleHop</text><text class=\"label\" x=\"264.0\" y=\"33.0\">smp</text><text class=\"label\" x=\"211.2\" y=\"33.0\">cyc</text><text class=\"label\" x=\"343.2\" y=\"33.0\">cor</text><rect class=\"tableline\" height=\"16.5\" width=\"1689.6\" x=\"-79.2\" y=\"42.075\"/><text class=\"label\" x=\"264.0\" y=\"49.5\">1</text><text class=\"label\" x=\"211.2\" y=\"49.5\">1</text><rect class=\"tableline\" height=\"16.5\" width=\"1689.6\" x=\"-79.2\" y=\"58.575\"/><text class=\"label\" x=\"264.0\" y=\"66.0\">2</text><text class=\"label\" x=\"211.2\" y=\"66.0\">1</text><rect class=\"tableline\" height=\"16.5\" width=\"1689.6\" x=\"-79.2\" y=\"75.075\"/><text class=\"label\" x=\"264.0\" y=\"82.5\">3</text><text class=\"label\" x=\"211.2\" y=\"82.5\">2</text><rect class=\"tableline\" height=\"16.5\" width=\"1689.6\" x=\"-79.2\" y=\"91.575\"/><text class=\"label\" x=\"264.0\" y=\"99.0\">4</text><text class=\"label\" x=\"211.2\" y=\"99.0\">2</text><rect class=\"tableline\" height=\"16.5\" width=\"1689.6\" x=\"-79.2\" y=\"108.075\"/><rect class=\"h-range\" height=\"62.7\" width=\"2.64\" x=\"343.2\" y=\"42.9\"/><circle class=\"h-range\" cx=\"343.2\" cy=\"42.9\" r=\"-0.264\"/><rect class=\"h-range\" height=\"1.65\" width=\"26.928\" x=\"329.736\" y=\"42.9\"/><circle class=\"h-range\" cx=\"343.2\" cy=\"105.6\" r=\"-0.264\"/><rect class=\"h-range\" height=\"1.65\" width=\"26.928\" x=\"329.736\" y=\"103.95\"/><text class=\"h-range\" x=\"335.28\" y=\"74.25\"/><text class=\"label\" x=\"264.0\" y=\"115.5\">5</text><text class=\"label\" x=\"211.2\" y=\"115.5\">3</text><rect class=\"tableline\" height=\"16.5\" width=\"1689.6\" x=\"-79.2\" y=\"124.575\"/><text class=\"label\" x=\"264.0\" y=\"132.0\">7</text><text class=\"label\" x=\"211.2\" y=\"132.0\">4</text><rect class=\"tableline\" height=\"16.5\" width=\"1689.6\" x=\"-79.2\" y=\"141.075\"/><text class=\"label\" x=\"264.0\" y=\"148.5\">9</text><text class=\"label\" x=\"211.2\" y=\"148.5\">5</text><rect class=\"tableline\" height=\"16.5\" width=\"1689.6\" x=\"-79.2\" y=\"157.575\"/><text class=\"label\" x=\"264.0\" y=\"165.0\">11</text><text class=\"label\" x=\"211.2\" y=\"165.0\">6</text><rect class=\"tableline\" height=\"16.5\" width=\"1689.6\" x=\"-79.2\" y=\"174.075\"/><rect class=\"h-range\" height=\"62.7\" width=\"2.64\" x=\"343.2\" y=\"108.9\"/><circle class=\"h-range\" cx=\"343.2\" cy=\"108.9\" r=\"-0.264\"/><rect class=\"h-range\" height=\"1.65\" width=\"26.928\" x=\"329.736\" y=\"108.9\"/><circle class=\"h-range\" cx=\"343.2\" cy=\"171.6\" r=\"-0.264\"/><rect class=\"h-range\" height=\"1.65\" width=\"26.928\" x=\"329.736\" y=\"169.95\"/><text class=\"h-range\" x=\"335.28\" y=\"140.25\"/><text class=\"label\" x=\"264.0\" y=\"181.5\">13</text><text class=\"label\" x=\"211.2\" y=\"181.5\">7</text><rect class=\"tableline\" height=\"16.5\" width=\"1689.6\" x=\"-79.2\" y=\"190.575\"/><text class=\"label\" x=\"264.0\" y=\"198.0\">14</text><text class=\"label\" x=\"211.2\" y=\"198.0\">7</text><rect class=\"tableline\" height=\"16.5\" width=\"1689.6\" x=\"-79.2\" y=\"207.075\"/><text class=\"label\" x=\"264.0\" y=\"214.5\">15</text><text class=\"label\" x=\"211.2\" y=\"214.5\">8</text><rect class=\"tableline\" height=\"16.5\" width=\"1689.6\" x=\"-79.2\" y=\"223.575\"/><text class=\"label\" x=\"264.0\" y=\"231.0\">16</text><text class=\"label\" x=\"211.2\" y=\"231.0\">8</text><rect class=\"tableline\" height=\"16.5\" width=\"1689.6\" x=\"-79.2\" y=\"240.075\"/><text class=\"label\" x=\"264.0\" y=\"247.5\">17</text><text class=\"label\" x=\"211.2\" y=\"247.5\">9</text><rect class=\"tableline\" height=\"16.5\" width=\"1689.6\" x=\"-79.2\" y=\"256.575\"/><text class=\"label\" x=\"264.0\" y=\"264.0\">19</text><text class=\"label\" x=\"211.2\" y=\"264.0\">10</text><rect class=\"tableline\" height=\"16.5\" width=\"1689.6\" x=\"-79.2\" y=\"273.075\"/><text class=\"label\" x=\"264.0\" y=\"280.5\">21</text><text class=\"label\" x=\"211.2\" y=\"280.5\">11</text><rect class=\"tableline\" height=\"16.5\" width=\"1689.6\" x=\"-79.2\" y=\"289.575\"/><rect class=\"h-range\" height=\"112.2\" width=\"2.64\" x=\"343.2\" y=\"174.9\"/><circle class=\"h-range\" cx=\"343.2\" cy=\"174.9\" r=\"-0.264\"/><rect class=\"h-range\" height=\"1.65\" width=\"26.928\" x=\"329.736\" y=\"174.9\"/><circle class=\"h-range\" cx=\"343.2\" cy=\"287.1\" r=\"-0.264\"/><rect class=\"h-range\" height=\"1.65\" width=\"26.928\" x=\"329.736\" y=\"285.45\"/><text class=\"h-range\" x=\"335.28\" y=\"231.0\"/><text class=\"label\" x=\"264.0\" y=\"297.0\">23</text><text class=\"label\" x=\"211.2\" y=\"297.0\">12</text><rect class=\"tableline\" height=\"16.5\" width=\"1689.6\" x=\"-79.2\" y=\"306.075\"/><text class=\"label\" x=\"264.0\" y=\"313.5\">24</text><text class=\"label\" x=\"211.2\" y=\"313.5\">12</text><rect class=\"tableline\" height=\"16.5\" width=\"1689.6\" x=\"-79.2\" y=\"322.575\"/><text class=\"label\" x=\"264.0\" y=\"330.0\">25</text><text class=\"label\" x=\"211.2\" y=\"330.0\">13</text><rect class=\"tableline\" height=\"16.5\" width=\"1689.6\" x=\"-79.2\" y=\"339.075\"/><rect class=\"h-range\" height=\"46.2\" width=\"2.64\" x=\"343.2\" y=\"290.4\"/><circle class=\"h-range\" cx=\"343.2\" cy=\"290.4\" r=\"-0.264\"/><rect class=\"h-range\" height=\"1.65\" width=\"26.928\" x=\"329.736\" y=\"290.4\"/><circle class=\"h-range\" cx=\"343.2\" cy=\"336.6\" r=\"-0.264\"/><rect class=\"h-range\" height=\"1.65\" width=\"26.928\" x=\"329.736\" y=\"334.95\"/><text class=\"h-range\" x=\"335.28\" y=\"313.5\"/><text class=\"label\" x=\"264.0\" y=\"346.5\">27</text><text class=\"label\" x=\"211.2\" y=\"346.5\">14</text><rect class=\"tableline\" height=\"16.5\" width=\"1689.6\" x=\"-79.2\" y=\"355.575\"/><text class=\"label\" x=\"264.0\" y=\"363.0\">30</text><text class=\"label\" x=\"211.2\" y=\"363.0\">16</text><rect class=\"tableline\" height=\"16.5\" width=\"1689.6\" x=\"-79.2\" y=\"372.075\"/><text class=\"label\" x=\"264.0\" y=\"379.5\">32</text><text class=\"label\" x=\"211.2\" y=\"379.5\">17</text><rect class=\"tableline\" height=\"16.5\" width=\"1689.6\" x=\"-79.2\" y=\"388.575\"/><text class=\"label\" x=\"264.0\" y=\"396.0\">35</text><text class=\"label\" x=\"211.2\" y=\"396.0\">19</text><rect class=\"tableline\" height=\"16.5\" width=\"1689.6\" x=\"-79.2\" y=\"405.075\"/><text class=\"label\" x=\"264.0\" y=\"412.5\">37</text><text class=\"label\" x=\"211.2\" y=\"412.5\">20</text><rect class=\"tableline\" height=\"16.5\" width=\"1689.6\" x=\"-79.2\" y=\"421.575\"/><text class=\"label\" x=\"264.0\" y=\"429.0\">39</text><text class=\"label\" x=\"211.2\" y=\"429.0\">21</text><rect class=\"tableline\" height=\"16.5\" width=\"1689.6\" x=\"-79.2\" y=\"438.075\"/><text class=\"label\" x=\"264.0\" y=\"445.5\">41</text><text class=\"label\" x=\"211.2\" y=\"445.5\">22</text><rect class=\"tableline\" height=\"16.5\" width=\"1689.6\" x=\"-79.2\" y=\"454.575\"/><rect class=\"h-range\" height=\"112.2\" width=\"2.64\" x=\"343.2\" y=\"339.9\"/><circle class=\"h-range\" cx=\"343.2\" cy=\"339.9\" r=\"-0.264\"/><rect class=\"h-range\" height=\"1.65\" width=\"26.928\" x=\"329.736\" y=\"339.9\"/><circle class=\"h-range\" cx=\"343.2\" cy=\"452.1\" r=\"-0.264\"/><rect class=\"h-range\" height=\"1.65\" width=\"26.928\" x=\"329.736\" y=\"450.45\"/><text class=\"h-range\" x=\"335.28\" y=\"396.0\"/><text class=\"label\" x=\"264.0\" y=\"462.0\">43</text><text class=\"label\" x=\"211.2\" y=\"462.0\">23</text><rect class=\"tableline\" height=\"16.5\" width=\"1689.6\" x=\"-79.2\" y=\"471.075\"/><text class=\"label\" x=\"264.0\" y=\"478.5\">45</text><text class=\"label\" x=\"211.2\" y=\"478.5\">24</text><rect class=\"tableline\" height=\"16.5\" width=\"1689.6\" x=\"-79.2\" y=\"487.575\"/><text class=\"label\" x=\"264.0\" y=\"495.0\">46</text><text class=\"label\" x=\"211.2\" y=\"495.0\">24</text><rect class=\"h-range\" height=\"46.2\" width=\"2.64\" x=\"343.2\" y=\"455.4\"/><circle class=\"h-range\" cx=\"343.2\" cy=\"455.4\" r=\"-0.264\"/><rect class=\"h-range\" height=\"1.65\" width=\"26.928\" x=\"329.736\" y=\"455.4\"/><text class=\"h-range\" x=\"335.28\" y=\"478.5\"/><text class=\"label\" x=\"158.4\" y=\"495.0\"/></svg>"
      ],
      "text/plain": [
       "<IPython.core.display.SVG object>"
      ]
     },
     "execution_count": 41,
     "metadata": {},
     "output_type": "execute_result"
    }
   ],
   "source": [
    "tree.rejected = False\n",
    "tree.states = []\n",
    "tree.op = None\n",
    "tree.from_samples(samps)\n",
    "view = tree.renderer\n",
    "view.zoom = 1.1\n",
    "view.horizontal_gap = -0.01\n",
    "view.scale_y = 15\n",
    "view.scale_x = 24\n",
    "view.font_size = 0.5\n",
    "view.font_family = 'Times'\n",
    "SVG(view.to_svg())"
   ]
  },
  {
   "cell_type": "markdown",
   "metadata": {},
   "source": [
    "### Phi/Psi Plots"
   ]
  },
  {
   "cell_type": "code",
   "execution_count": 42,
   "metadata": {
    "collapsed": true
   },
   "outputs": [],
   "source": [
    "# Imports for plotting\n",
    "%matplotlib inline\n",
    "import matplotlib\n",
    "import matplotlib.pyplot as plt\n",
    "import matplotlib.pylab as pylab\n",
    "from matplotlib.legend_handler import HandlerLine2D"
   ]
  },
  {
   "cell_type": "markdown",
   "metadata": {},
   "source": [
    "Make sure that all phi/psi values have been computed!"
   ]
  },
  {
   "cell_type": "code",
   "execution_count": 43,
   "metadata": {
    "collapsed": true
   },
   "outputs": [],
   "source": [
    "psi = storage.cvs['psi']\n",
    "phi = storage.cvs['phi']\n",
    "opA = storage.cvs['StateA']"
   ]
  },
  {
   "cell_type": "code",
   "execution_count": 44,
   "metadata": {
    "collapsed": false
   },
   "outputs": [
    {
     "data": {
      "image/png": "[encoded data removed]",
      "text/plain": [
       "<matplotlib.figure.Figure at 0x1137ca4d0>"
      ]
     },
     "metadata": {},
     "output_type": "display_data"
    }
   ],
   "source": [
    "plt.figure(figsize=(8, 8))\n",
    "\n",
    "for traj in storage.trajectories[1:]:\n",
    "    phi_angles = np.array(phi(traj)).flatten() / deg\n",
    "    psi_angles = np.array(psi(traj)).flatten() / deg\n",
    "    plt.plot(phi_angles, psi_angles, 'ro', linewidth=1);\n",
    "    \n",
    "plt.xlim(-180, 180);\n",
    "plt.ylim(-180, 180);"
   ]
  },
  {
   "cell_type": "code",
   "execution_count": 45,
   "metadata": {
    "collapsed": false
   },
   "outputs": [
    {
     "data": {
      "image/png": "[encoded data removed]",
      "text/plain": [
       "<matplotlib.figure.Figure at 0x1137ca410>"
      ]
     },
     "metadata": {},
     "output_type": "display_data"
    }
   ],
   "source": [
    "plt.figure(figsize=(8, 8))\n",
    "\n",
    "\n",
    "for traj in storage.trajectories[1:]:\n",
    "    phi_angles = np.array(phi(traj)).flatten() / deg\n",
    "    psi_angles = np.array(psi(traj)).flatten() / deg\n",
    "    plt.plot(phi_angles, psi_angles, 'k-', linewidth=1);\n",
    "    for idx, snapshot in enumerate(traj):\n",
    "        if opA(snapshot):\n",
    "            plt.plot(phi_angles[idx], psi_angles[idx], 'bo', linewidth=1);\n",
    "        \n",
    "plt.xlim(-180, 180);\n",
    "plt.ylim(-180, 180);"
   ]
  },
  {
   "cell_type": "code",
   "execution_count": null,
   "metadata": {
    "collapsed": true
   },
   "outputs": [],
   "source": []
  }
 ],
 "metadata": {
  "kernelspec": {
   "display_name": "Python 2",
   "language": "python",
   "name": "python2"
  },
  "language_info": {
   "codemirror_mode": {
    "name": "ipython",
    "version": 2
   },
   "file_extension": ".py",
   "mimetype": "text/x-python",
   "name": "python",
   "nbconvert_exporter": "python",
   "pygments_lexer": "ipython2",
   "version": "2.7.10"
  }
 },
 "nbformat": 4,
 "nbformat_minor": 0
}

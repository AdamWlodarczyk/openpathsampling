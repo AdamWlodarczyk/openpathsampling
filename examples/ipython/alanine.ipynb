{
 "cells": [
  {
   "cell_type": "markdown",
   "metadata": {},
   "source": [
    "# OPENTIS\n",
    "## An Example with Alanine"
   ]
  },
  {
   "cell_type": "markdown",
   "metadata": {},
   "source": [
    "Import Modules"
   ]
  },
  {
   "cell_type": "code",
   "execution_count": 1,
   "metadata": {
    "code_folding": [],
    "collapsed": false
   },
   "outputs": [],
   "source": [
    "import numpy as np\n",
    "import mdtraj as md\n",
    "import pandas as pd\n",
    "import simtk.openmm as mm\n",
    "from simtk.openmm import app\n",
    "from simtk import unit\n",
    " \n",
    "from openpathsampling.storage import Storage\n",
    "from openpathsampling.visualize import PathTreeBuilder\n",
    "from IPython.display import SVG\n",
    "\n",
    "import openpathsampling as paths"
   ]
  },
  {
   "cell_type": "markdown",
   "metadata": {},
   "source": [
    "Radians to Degree conversion"
   ]
  },
  {
   "cell_type": "code",
   "execution_count": 2,
   "metadata": {
    "collapsed": true
   },
   "outputs": [],
   "source": [
    "deg = 3.14159265 / 180.0"
   ]
  },
  {
   "cell_type": "markdown",
   "metadata": {},
   "source": [
    "Create an AlanineOpenMMSimulator for demonstration purposes"
   ]
  },
  {
   "cell_type": "markdown",
   "metadata": {},
   "source": [
    "### Set simulation options and create a simulator object"
   ]
  },
  {
   "cell_type": "code",
   "execution_count": 3,
   "metadata": {
    "collapsed": false
   },
   "outputs": [
    {
     "name": "stdout",
     "output_type": "stream",
     "text": [
      "{'_lazy': {<openpathsampling.netcdfplus.proxy.DelayedLoader object at 0x10a2951d0>: <openpathsampling.snapshot.Snapshot object at 0x106271210>}, 'is_reversed': True}\n",
      "{'_lazy': {<openpathsampling.netcdfplus.proxy.DelayedLoader object at 0x10a2951d0>: <openpathsampling.snapshot.Snapshot object at 0x10f23a110>}, 'is_reversed': False}\n"
     ]
    }
   ],
   "source": [
    "template = paths.tools.snapshot_from_pdb(\"../data/Alanine_solvated.pdb\")"
   ]
  },
  {
   "cell_type": "code",
   "execution_count": 4,
   "metadata": {
    "collapsed": false
   },
   "outputs": [],
   "source": [
    "storage = Storage(filename=\"trajectory.nc\", template=template, mode='w')"
   ]
  },
  {
   "cell_type": "markdown",
   "metadata": {},
   "source": [
    "Set up the OpenMM simulation"
   ]
  },
  {
   "cell_type": "code",
   "execution_count": 5,
   "metadata": {
    "code_folding": [
     5
    ],
    "collapsed": false
   },
   "outputs": [],
   "source": [
    "topology = paths.tools.to_openmm_topology(template)            \n",
    "\n",
    "# Generated using OpenMM Script Builder\n",
    "# http://builder.openmm.org\n",
    "\n",
    "forcefield = app.ForceField(\n",
    "    'amber96.xml',  # solute FF\n",
    "    'tip3p.xml'     # solvent FF\n",
    ")\n",
    "\n",
    "# OpenMM System\n",
    "system = forcefield.createSystem(\n",
    "    topology, \n",
    "    nonbondedMethod=app.PME, \n",
    "    nonbondedCutoff=1.0*unit.nanometers, \n",
    "    constraints=app.HBonds, \n",
    "    rigidWater=True, \n",
    "    ewaldErrorTolerance=0.0005\n",
    ")\n",
    "\n",
    "# OpenMM Integrator\n",
    "integrator = mm.LangevinIntegrator(\n",
    "    300*unit.kelvin, \n",
    "    1.0/unit.picoseconds, \n",
    "    2.0*unit.femtoseconds\n",
    ")\n",
    "integrator.setConstraintTolerance(0.00001)\n",
    "\n",
    "# Engine options\n",
    "options = {\n",
    "    'nsteps_per_frame': 10\n",
    "}\n",
    "\n",
    "engine = paths.OpenMMEngine(\n",
    "    template, \n",
    "    system,\n",
    "    integrator,\n",
    "    options\n",
    ")"
   ]
  },
  {
   "cell_type": "code",
   "execution_count": 6,
   "metadata": {
    "collapsed": true
   },
   "outputs": [],
   "source": [
    "storage.save(engine)"
   ]
  },
  {
   "cell_type": "markdown",
   "metadata": {},
   "source": [
    "And save the storage in a separate variable for convenience"
   ]
  },
  {
   "cell_type": "code",
   "execution_count": 7,
   "metadata": {
    "collapsed": false
   },
   "outputs": [],
   "source": [
    "paths.EngineMover.engine = engine"
   ]
  },
  {
   "cell_type": "code",
   "execution_count": 8,
   "metadata": {
    "collapsed": true
   },
   "outputs": [],
   "source": [
    "storage.set_caching_mode('lowmemory')"
   ]
  },
  {
   "cell_type": "markdown",
   "metadata": {},
   "source": [
    "Equilibrate"
   ]
  },
  {
   "cell_type": "code",
   "execution_count": 9,
   "metadata": {
    "collapsed": false
   },
   "outputs": [],
   "source": [
    "engine.current_snapshot = engine.template\n",
    "#engine.equilibrate(5)"
   ]
  },
  {
   "cell_type": "markdown",
   "metadata": {},
   "source": [
    "Save equilibrated snapshot with index 0"
   ]
  },
  {
   "cell_type": "code",
   "execution_count": 10,
   "metadata": {
    "collapsed": true
   },
   "outputs": [],
   "source": [
    "storage.save(engine.current_snapshot);"
   ]
  },
  {
   "cell_type": "markdown",
   "metadata": {},
   "source": [
    "### Order Parameters"
   ]
  },
  {
   "cell_type": "markdown",
   "metadata": {},
   "source": [
    "this generates an order parameter (callable) object named psi (so if we call `psi(trajectory)` we get a list of the values of psi for each frame in the trajectory). This particular order parameter uses mdtraj's compute_dihedrals function, with the atoms in psi_atoms"
   ]
  },
  {
   "cell_type": "code",
   "execution_count": 11,
   "metadata": {
    "collapsed": false
   },
   "outputs": [],
   "source": [
    "psi_atoms = [6,8,14,16]\n",
    "psi = paths.CV_MDTraj_Function(\"psi\", md.compute_dihedrals, indices=[psi_atoms])\n",
    "\n",
    "phi_atoms = [4,6,8,14]\n",
    "phi = paths.CV_MDTraj_Function(\"phi\", md.compute_dihedrals, indices=[phi_atoms])"
   ]
  },
  {
   "cell_type": "code",
   "execution_count": 12,
   "metadata": {
    "collapsed": false
   },
   "outputs": [
    {
     "name": "stdout",
     "output_type": "stream",
     "text": [
      "{'_lazy': {<openpathsampling.netcdfplus.proxy.DelayedLoader object at 0x10a2951d0>: <openpathsampling.netcdfplus.proxy.LoaderProxy object at 0x1103d4c30>}, 'is_reversed': True}\n"
     ]
    }
   ],
   "source": [
    "storage.save([psi, phi]);"
   ]
  },
  {
   "cell_type": "markdown",
   "metadata": {},
   "source": [
    "### Volumes"
   ]
  },
  {
   "cell_type": "markdown",
   "metadata": {},
   "source": [
    "This creates two states using a one-dimensional order parameter (called _Lambda_ in TIS terminology). A snapshot is in the State as long as the order parameter is with specific bounds. \n",
    "\n",
    "StateA is $\\psi \\in [-120, -30]$ and StateB is $\\psi \\in [100, 180]$"
   ]
  },
  {
   "cell_type": "code",
   "execution_count": 13,
   "metadata": {
    "collapsed": false
   },
   "outputs": [],
   "source": [
    "stateA = paths.CVRangeVolumePeriodic(\n",
    "    collectivevariable=psi, \n",
    "    lambda_min=-120.0*deg, \n",
    "    lambda_max=-30.0*deg, \n",
    "    period_min=-180.0*deg, \n",
    "    period_max=+180.0*deg\n",
    ")\n",
    "stateB = paths.CVRangeVolumePeriodic(\n",
    "    collectivevariable=psi, \n",
    "    lambda_min=100.0*deg, \n",
    "    lambda_max=180.0*deg, \n",
    "    period_min=-180.0*deg, \n",
    "    period_max=+180.0*deg\n",
    ")"
   ]
  },
  {
   "cell_type": "markdown",
   "metadata": {},
   "source": [
    "Now do the same for a set of lambda ranges to produce nested volumes."
   ]
  },
  {
   "cell_type": "code",
   "execution_count": 14,
   "metadata": {
    "collapsed": false
   },
   "outputs": [],
   "source": [
    "minima = map(deg.__mul__, [-125, -135, -140, -142.5, -145.0, -147.0, -150.0])\n",
    "maxima = map(deg.__mul__, [-25.0, -21.0, -18.5, -17.0, -15.0, -10.0, 0.0])\n",
    "\n",
    "volume_set = paths.VolumeFactory.CVRangeVolumePeriodicSet(psi, minima, maxima, -180.0*deg, +180.0*deg)"
   ]
  },
  {
   "cell_type": "markdown",
   "metadata": {},
   "source": [
    "### Ensembles"
   ]
  },
  {
   "cell_type": "markdown",
   "metadata": {},
   "source": [
    "Now do this automatically for all ensembles"
   ]
  },
  {
   "cell_type": "code",
   "execution_count": 23,
   "metadata": {
    "collapsed": false
   },
   "outputs": [],
   "source": [
    "interface0 = volume_set[0]\n",
    "interface_set = paths.EnsembleFactory.TISEnsembleSet(stateA, stateA | stateB, volume_set, psi)"
   ]
  },
  {
   "cell_type": "markdown",
   "metadata": {},
   "source": [
    "Give each interface a name"
   ]
  },
  {
   "cell_type": "code",
   "execution_count": 24,
   "metadata": {
    "collapsed": true
   },
   "outputs": [],
   "source": [
    "for no, interface in enumerate(interface_set):\n",
    "    interface.name = 'Interface ' + str(no)"
   ]
  },
  {
   "cell_type": "markdown",
   "metadata": {},
   "source": [
    "and save all of these"
   ]
  },
  {
   "cell_type": "code",
   "execution_count": 25,
   "metadata": {
    "collapsed": false
   },
   "outputs": [],
   "source": [
    "map(storage.ensembles.save, interface_set);"
   ]
  },
  {
   "cell_type": "markdown",
   "metadata": {},
   "source": [
    "And create a special ensemble, that will create a first trajectory in the innermost TIS ensemble independent from where we start"
   ]
  },
  {
   "cell_type": "markdown",
   "metadata": {},
   "source": [
    "The idea is to describe a trajectory type by a sequence of positions. First can be outside of stateA or not, then be inside stateA, etc..."
   ]
  },
  {
   "cell_type": "code",
   "execution_count": 26,
   "metadata": {
    "collapsed": true
   },
   "outputs": [],
   "source": [
    "inA = paths.AllInXEnsemble(stateA)\n",
    "outA = paths.AllOutXEnsemble(stateA)\n",
    "\n",
    "inI0 = paths.AllInXEnsemble(interface0)\n",
    "outI0 = paths.AllOutXEnsemble(interface0)\n",
    "\n",
    "first_traj_ensemble = paths.SequentialEnsemble([\n",
    "    paths.OptionalEnsemble(outA),\n",
    "    inA,\n",
    "    paths.OptionalEnsemble(outA & inI0),\n",
    "    paths.OptionalEnsemble(inI0),\n",
    "    outI0,\n",
    "    paths.OptionalEnsemble(outA),\n",
    "    paths.SingleFrameEnsemble(inA)\n",
    "])"
   ]
  },
  {
   "cell_type": "markdown",
   "metadata": {},
   "source": [
    "### start path generation"
   ]
  },
  {
   "cell_type": "markdown",
   "metadata": {},
   "source": [
    "so lets try and see if we can generate a first path"
   ]
  },
  {
   "cell_type": "markdown",
   "metadata": {},
   "source": [
    "load the initial snapshot (although we still have it) and generate using the Alanine simulator. The second option specifies a function : trajectory -> bool that keeps the simulation running as long as it is true. Our goal was to generate a path that belongs to a specific ensemble, so we use `forward` to determine if it makes sense to keep running or if the result cannot belong to the ensemble anymore."
   ]
  },
  {
   "cell_type": "code",
   "execution_count": 27,
   "metadata": {
    "collapsed": false
   },
   "outputs": [
    {
     "name": "stdout",
     "output_type": "stream",
     "text": [
      "{'_lazy': {<openpathsampling.netcdfplus.proxy.DelayedLoader object at 0x10a22d1d0>: <openpathsampling.snapshot.Snapshot object at 0x1109a3590>}, 'is_reversed': True}\n",
      "{'_lazy': {<openpathsampling.netcdfplus.proxy.DelayedLoader object at 0x10a22d1d0>: <openpathsampling.snapshot.Snapshot object at 0x1109a3450>}, 'is_reversed': False}\n",
      "{'_lazy': {<openpathsampling.netcdfplus.proxy.DelayedLoader object at 0x10a22d1d0>: <openpathsampling.snapshot.Snapshot object at 0x1109a3750>}, 'is_reversed': True}\n",
      "{'_lazy': {<openpathsampling.netcdfplus.proxy.DelayedLoader object at 0x10a22d1d0>: <openpathsampling.snapshot.Snapshot object at 0x1109a3790>}, 'is_reversed': False}\n",
      "{'_lazy': {<openpathsampling.netcdfplus.proxy.DelayedLoader object at 0x10a22d1d0>: <openpathsampling.snapshot.Snapshot object at 0x1109a3990>}, 'is_reversed': True}\n",
      "{'_lazy': {<openpathsampling.netcdfplus.proxy.DelayedLoader object at 0x10a22d1d0>: <openpathsampling.snapshot.Snapshot object at 0x1109a39d0>}, 'is_reversed': False}\n",
      "{'_lazy': {<openpathsampling.netcdfplus.proxy.DelayedLoader object at 0x10a22d1d0>: <openpathsampling.snapshot.Snapshot object at 0x1109a3490>}, 'is_reversed': True}\n",
      "{'_lazy': {<openpathsampling.netcdfplus.proxy.DelayedLoader object at 0x10a22d1d0>: <openpathsampling.snapshot.Snapshot object at 0x11092a050>}, 'is_reversed': False}\n",
      "{'_lazy': {<openpathsampling.netcdfplus.proxy.DelayedLoader object at 0x10a22d1d0>: <openpathsampling.snapshot.Snapshot object at 0x1109b1790>}, 'is_reversed': True}\n",
      "{'_lazy': {<openpathsampling.netcdfplus.proxy.DelayedLoader object at 0x10a22d1d0>: <openpathsampling.snapshot.Snapshot object at 0x1109b17d0>}, 'is_reversed': False}\n",
      "{'_lazy': {<openpathsampling.netcdfplus.proxy.DelayedLoader object at 0x10a22d1d0>: <openpathsampling.snapshot.Snapshot object at 0x1109b19d0>}, 'is_reversed': True}\n",
      "{'_lazy': {<openpathsampling.netcdfplus.proxy.DelayedLoader object at 0x10a22d1d0>: <openpathsampling.snapshot.Snapshot object at 0x1109b1a10>}, 'is_reversed': False}\n",
      "{'_lazy': {<openpathsampling.netcdfplus.proxy.DelayedLoader object at 0x10a22d1d0>: <openpathsampling.snapshot.Snapshot object at 0x1109b1c10>}, 'is_reversed': True}\n",
      "{'_lazy': {<openpathsampling.netcdfplus.proxy.DelayedLoader object at 0x10a22d1d0>: <openpathsampling.snapshot.Snapshot object at 0x1109b1c50>}, 'is_reversed': False}\n",
      "{'_lazy': {<openpathsampling.netcdfplus.proxy.DelayedLoader object at 0x10a22d1d0>: <openpathsampling.snapshot.Snapshot object at 0x1109b1e50>}, 'is_reversed': True}\n",
      "{'_lazy': {<openpathsampling.netcdfplus.proxy.DelayedLoader object at 0x10a22d1d0>: <openpathsampling.snapshot.Snapshot object at 0x1109b1e90>}, 'is_reversed': False}\n",
      "{'_lazy': {<openpathsampling.netcdfplus.proxy.DelayedLoader object at 0x10a22d1d0>: <openpathsampling.snapshot.Snapshot object at 0x11069b0d0>}, 'is_reversed': True}\n",
      "{'_lazy': {<openpathsampling.netcdfplus.proxy.DelayedLoader object at 0x10a22d1d0>: <openpathsampling.snapshot.Snapshot object at 0x11069b110>}, 'is_reversed': False}\n",
      "{'_lazy': {<openpathsampling.netcdfplus.proxy.DelayedLoader object at 0x10a22d1d0>: <openpathsampling.snapshot.Snapshot object at 0x11069b310>}, 'is_reversed': True}\n",
      "{'_lazy': {<openpathsampling.netcdfplus.proxy.DelayedLoader object at 0x10a22d1d0>: <openpathsampling.snapshot.Snapshot object at 0x11069b350>}, 'is_reversed': False}\n",
      "{'_lazy': {<openpathsampling.netcdfplus.proxy.DelayedLoader object at 0x10a22d1d0>: <openpathsampling.snapshot.Snapshot object at 0x11069b550>}, 'is_reversed': True}\n",
      "{'_lazy': {<openpathsampling.netcdfplus.proxy.DelayedLoader object at 0x10a22d1d0>: <openpathsampling.snapshot.Snapshot object at 0x11069b590>}, 'is_reversed': False}\n",
      "{'_lazy': {<openpathsampling.netcdfplus.proxy.DelayedLoader object at 0x10a22d1d0>: <openpathsampling.snapshot.Snapshot object at 0x11069b790>}, 'is_reversed': True}\n",
      "{'_lazy': {<openpathsampling.netcdfplus.proxy.DelayedLoader object at 0x10a22d1d0>: <openpathsampling.snapshot.Snapshot object at 0x11069b7d0>}, 'is_reversed': False}\n",
      "{'_lazy': {<openpathsampling.netcdfplus.proxy.DelayedLoader object at 0x10a22d1d0>: <openpathsampling.snapshot.Snapshot object at 0x11069b9d0>}, 'is_reversed': True}\n",
      "{'_lazy': {<openpathsampling.netcdfplus.proxy.DelayedLoader object at 0x10a22d1d0>: <openpathsampling.snapshot.Snapshot object at 0x11069ba10>}, 'is_reversed': False}\n",
      "{'_lazy': {<openpathsampling.netcdfplus.proxy.DelayedLoader object at 0x10a22d1d0>: <openpathsampling.snapshot.Snapshot object at 0x11069bc10>}, 'is_reversed': True}\n",
      "{'_lazy': {<openpathsampling.netcdfplus.proxy.DelayedLoader object at 0x10a22d1d0>: <openpathsampling.snapshot.Snapshot object at 0x11069bc50>}, 'is_reversed': False}\n",
      "{'_lazy': {<openpathsampling.netcdfplus.proxy.DelayedLoader object at 0x10a22d1d0>: <openpathsampling.snapshot.Snapshot object at 0x11069be50>}, 'is_reversed': True}\n",
      "{'_lazy': {<openpathsampling.netcdfplus.proxy.DelayedLoader object at 0x10a22d1d0>: <openpathsampling.snapshot.Snapshot object at 0x11069be90>}, 'is_reversed': False}\n",
      "{'_lazy': {<openpathsampling.netcdfplus.proxy.DelayedLoader object at 0x10a22d1d0>: <openpathsampling.snapshot.Snapshot object at 0x1106a20d0>}, 'is_reversed': True}\n",
      "{'_lazy': {<openpathsampling.netcdfplus.proxy.DelayedLoader object at 0x10a22d1d0>: <openpathsampling.snapshot.Snapshot object at 0x1106a2110>}, 'is_reversed': False}\n",
      "{'_lazy': {<openpathsampling.netcdfplus.proxy.DelayedLoader object at 0x10a22d1d0>: <openpathsampling.snapshot.Snapshot object at 0x1106a2310>}, 'is_reversed': True}\n",
      "{'_lazy': {<openpathsampling.netcdfplus.proxy.DelayedLoader object at 0x10a22d1d0>: <openpathsampling.snapshot.Snapshot object at 0x1106a2350>}, 'is_reversed': False}\n",
      "{'_lazy': {<openpathsampling.netcdfplus.proxy.DelayedLoader object at 0x10a22d1d0>: <openpathsampling.snapshot.Snapshot object at 0x1106a2550>}, 'is_reversed': True}\n",
      "{'_lazy': {<openpathsampling.netcdfplus.proxy.DelayedLoader object at 0x10a22d1d0>: <openpathsampling.snapshot.Snapshot object at 0x1106a2590>}, 'is_reversed': False}\n",
      "{'_lazy': {<openpathsampling.netcdfplus.proxy.DelayedLoader object at 0x10a22d1d0>: <openpathsampling.snapshot.Snapshot object at 0x1106a2790>}, 'is_reversed': True}\n",
      "{'_lazy': {<openpathsampling.netcdfplus.proxy.DelayedLoader object at 0x10a22d1d0>: <openpathsampling.snapshot.Snapshot object at 0x1106a27d0>}, 'is_reversed': False}\n",
      "{'_lazy': {<openpathsampling.netcdfplus.proxy.DelayedLoader object at 0x10a22d1d0>: <openpathsampling.snapshot.Snapshot object at 0x1105e2e50>}, 'is_reversed': True}\n",
      "{'_lazy': {<openpathsampling.netcdfplus.proxy.DelayedLoader object at 0x10a22d1d0>: <openpathsampling.snapshot.Snapshot object at 0x1105e2e10>}, 'is_reversed': False}\n",
      "{'_lazy': {<openpathsampling.netcdfplus.proxy.DelayedLoader object at 0x10a22d1d0>: <openpathsampling.snapshot.Snapshot object at 0x1105e2a10>}, 'is_reversed': True}\n",
      "{'_lazy': {<openpathsampling.netcdfplus.proxy.DelayedLoader object at 0x10a22d1d0>: <openpathsampling.snapshot.Snapshot object at 0x1105e29d0>}, 'is_reversed': False}\n",
      "{'_lazy': {<openpathsampling.netcdfplus.proxy.DelayedLoader object at 0x10a22d1d0>: <openpathsampling.snapshot.Snapshot object at 0x1105e27d0>}, 'is_reversed': True}\n",
      "{'_lazy': {<openpathsampling.netcdfplus.proxy.DelayedLoader object at 0x10a22d1d0>: <openpathsampling.snapshot.Snapshot object at 0x1105e2790>}, 'is_reversed': False}\n",
      "{'_lazy': {<openpathsampling.netcdfplus.proxy.DelayedLoader object at 0x10a22d1d0>: <openpathsampling.snapshot.Snapshot object at 0x1105e2590>}, 'is_reversed': True}\n",
      "{'_lazy': {<openpathsampling.netcdfplus.proxy.DelayedLoader object at 0x10a22d1d0>: <openpathsampling.snapshot.Snapshot object at 0x1105e2550>}, 'is_reversed': False}\n",
      "{'_lazy': {<openpathsampling.netcdfplus.proxy.DelayedLoader object at 0x10a22d1d0>: <openpathsampling.snapshot.Snapshot object at 0x1105e2290>}, 'is_reversed': True}\n",
      "{'_lazy': {<openpathsampling.netcdfplus.proxy.DelayedLoader object at 0x10a22d1d0>: <openpathsampling.snapshot.Snapshot object at 0x1105e2410>}, 'is_reversed': False}\n",
      "{'_lazy': {<openpathsampling.netcdfplus.proxy.DelayedLoader object at 0x10a22d1d0>: <openpathsampling.snapshot.Snapshot object at 0x10f791190>}, 'is_reversed': True}\n",
      "{'_lazy': {<openpathsampling.netcdfplus.proxy.DelayedLoader object at 0x10a22d1d0>: <openpathsampling.snapshot.Snapshot object at 0x10f7911d0>}, 'is_reversed': False}\n",
      "{'_lazy': {<openpathsampling.netcdfplus.proxy.DelayedLoader object at 0x10a22d1d0>: <openpathsampling.snapshot.Snapshot object at 0x10f7913d0>}, 'is_reversed': True}\n",
      "{'_lazy': {<openpathsampling.netcdfplus.proxy.DelayedLoader object at 0x10a22d1d0>: <openpathsampling.snapshot.Snapshot object at 0x10f791410>}, 'is_reversed': False}\n",
      "{'_lazy': {<openpathsampling.netcdfplus.proxy.DelayedLoader object at 0x10a22d1d0>: <openpathsampling.snapshot.Snapshot object at 0x10f791610>}, 'is_reversed': True}\n",
      "{'_lazy': {<openpathsampling.netcdfplus.proxy.DelayedLoader object at 0x10a22d1d0>: <openpathsampling.snapshot.Snapshot object at 0x10f791650>}, 'is_reversed': False}\n",
      "{'_lazy': {<openpathsampling.netcdfplus.proxy.DelayedLoader object at 0x10a22d1d0>: <openpathsampling.snapshot.Snapshot object at 0x10f791850>}, 'is_reversed': True}\n",
      "{'_lazy': {<openpathsampling.netcdfplus.proxy.DelayedLoader object at 0x10a22d1d0>: <openpathsampling.snapshot.Snapshot object at 0x10f791890>}, 'is_reversed': False}\n",
      "{'_lazy': {<openpathsampling.netcdfplus.proxy.DelayedLoader object at 0x10a22d1d0>: <openpathsampling.snapshot.Snapshot object at 0x10f791a90>}, 'is_reversed': True}\n",
      "{'_lazy': {<openpathsampling.netcdfplus.proxy.DelayedLoader object at 0x10a22d1d0>: <openpathsampling.snapshot.Snapshot object at 0x10f791ad0>}, 'is_reversed': False}\n",
      "{'_lazy': {<openpathsampling.netcdfplus.proxy.DelayedLoader object at 0x10a22d1d0>: <openpathsampling.snapshot.Snapshot object at 0x10f791cd0>}, 'is_reversed': True}\n",
      "{'_lazy': {<openpathsampling.netcdfplus.proxy.DelayedLoader object at 0x10a22d1d0>: <openpathsampling.snapshot.Snapshot object at 0x10f791d10>}, 'is_reversed': False}\n",
      "{'_lazy': {<openpathsampling.netcdfplus.proxy.DelayedLoader object at 0x10a22d1d0>: <openpathsampling.snapshot.Snapshot object at 0x10f791f10>}, 'is_reversed': True}\n",
      "{'_lazy': {<openpathsampling.netcdfplus.proxy.DelayedLoader object at 0x10a22d1d0>: <openpathsampling.snapshot.Snapshot object at 0x10f791f50>}, 'is_reversed': False}\n",
      "{'_lazy': {<openpathsampling.netcdfplus.proxy.DelayedLoader object at 0x10a22d1d0>: <openpathsampling.snapshot.Snapshot object at 0x10f81b250>}, 'is_reversed': True}\n",
      "{'_lazy': {<openpathsampling.netcdfplus.proxy.DelayedLoader object at 0x10a22d1d0>: <openpathsampling.snapshot.Snapshot object at 0x10f81b210>}, 'is_reversed': False}\n",
      "{'_lazy': {<openpathsampling.netcdfplus.proxy.DelayedLoader object at 0x10a22d1d0>: <openpathsampling.snapshot.Snapshot object at 0x1102b8d90>}, 'is_reversed': True}\n",
      "{'_lazy': {<openpathsampling.netcdfplus.proxy.DelayedLoader object at 0x10a22d1d0>: <openpathsampling.snapshot.Snapshot object at 0x1102b8e50>}, 'is_reversed': False}\n",
      "{'_lazy': {<openpathsampling.netcdfplus.proxy.DelayedLoader object at 0x10a22d1d0>: <openpathsampling.snapshot.Snapshot object at 0x1102b8190>}, 'is_reversed': True}\n",
      "{'_lazy': {<openpathsampling.netcdfplus.proxy.DelayedLoader object at 0x10a22d1d0>: <openpathsampling.snapshot.Snapshot object at 0x1102b81d0>}, 'is_reversed': False}\n",
      "{'_lazy': {<openpathsampling.netcdfplus.proxy.DelayedLoader object at 0x10a22d1d0>: <openpathsampling.snapshot.Snapshot object at 0x1102b83d0>}, 'is_reversed': True}\n",
      "{'_lazy': {<openpathsampling.netcdfplus.proxy.DelayedLoader object at 0x10a22d1d0>: <openpathsampling.snapshot.Snapshot object at 0x1102b8410>}, 'is_reversed': False}\n",
      "{'_lazy': {<openpathsampling.netcdfplus.proxy.DelayedLoader object at 0x10a22d1d0>: <openpathsampling.snapshot.Snapshot object at 0x1102b8610>}, 'is_reversed': True}\n",
      "{'_lazy': {<openpathsampling.netcdfplus.proxy.DelayedLoader object at 0x10a22d1d0>: <openpathsampling.snapshot.Snapshot object at 0x1102b8650>}, 'is_reversed': False}\n",
      "{'_lazy': {<openpathsampling.netcdfplus.proxy.DelayedLoader object at 0x10a22d1d0>: <openpathsampling.snapshot.Snapshot object at 0x1102b8850>}, 'is_reversed': True}\n",
      "{'_lazy': {<openpathsampling.netcdfplus.proxy.DelayedLoader object at 0x10a22d1d0>: <openpathsampling.snapshot.Snapshot object at 0x1102b8890>}, 'is_reversed': False}\n",
      "{'_lazy': {<openpathsampling.netcdfplus.proxy.DelayedLoader object at 0x10a22d1d0>: <openpathsampling.snapshot.Snapshot object at 0x1102b8a90>}, 'is_reversed': True}\n",
      "{'_lazy': {<openpathsampling.netcdfplus.proxy.DelayedLoader object at 0x10a22d1d0>: <openpathsampling.snapshot.Snapshot object at 0x1102b8ad0>}, 'is_reversed': False}\n",
      "{'_lazy': {<openpathsampling.netcdfplus.proxy.DelayedLoader object at 0x10a22d1d0>: <openpathsampling.snapshot.Snapshot object at 0x1109a3310>}, 'is_reversed': True}\n",
      "{'_lazy': {<openpathsampling.netcdfplus.proxy.DelayedLoader object at 0x10a22d1d0>: <openpathsampling.snapshot.Snapshot object at 0x1106a29d0>}, 'is_reversed': False}\n",
      "{'_lazy': {<openpathsampling.netcdfplus.proxy.DelayedLoader object at 0x10a22d1d0>: <openpathsampling.snapshot.Snapshot object at 0x1106a2bd0>}, 'is_reversed': True}\n",
      "{'_lazy': {<openpathsampling.netcdfplus.proxy.DelayedLoader object at 0x10a22d1d0>: <openpathsampling.snapshot.Snapshot object at 0x1106a2c10>}, 'is_reversed': False}\n",
      "{'_lazy': {<openpathsampling.netcdfplus.proxy.DelayedLoader object at 0x10a22d1d0>: <openpathsampling.snapshot.Snapshot object at 0x1106a2e10>}, 'is_reversed': True}\n",
      "{'_lazy': {<openpathsampling.netcdfplus.proxy.DelayedLoader object at 0x10a22d1d0>: <openpathsampling.snapshot.Snapshot object at 0x1106a2e50>}, 'is_reversed': False}\n",
      "{'_lazy': {<openpathsampling.netcdfplus.proxy.DelayedLoader object at 0x10a22d1d0>: <openpathsampling.snapshot.Snapshot object at 0x10f7c1090>}, 'is_reversed': True}\n",
      "{'_lazy': {<openpathsampling.netcdfplus.proxy.DelayedLoader object at 0x10a22d1d0>: <openpathsampling.snapshot.Snapshot object at 0x10f7c10d0>}, 'is_reversed': False}\n",
      "{'_lazy': {<openpathsampling.netcdfplus.proxy.DelayedLoader object at 0x10a22d1d0>: <openpathsampling.snapshot.Snapshot object at 0x10f7c12d0>}, 'is_reversed': True}\n",
      "{'_lazy': {<openpathsampling.netcdfplus.proxy.DelayedLoader object at 0x10a22d1d0>: <openpathsampling.snapshot.Snapshot object at 0x10f7c1310>}, 'is_reversed': False}\n",
      "{'_lazy': {<openpathsampling.netcdfplus.proxy.DelayedLoader object at 0x10a22d1d0>: <openpathsampling.snapshot.Snapshot object at 0x10f7c1510>}, 'is_reversed': True}\n",
      "{'_lazy': {<openpathsampling.netcdfplus.proxy.DelayedLoader object at 0x10a22d1d0>: <openpathsampling.snapshot.Snapshot object at 0x10f7c1550>}, 'is_reversed': False}\n",
      "{'_lazy': {<openpathsampling.netcdfplus.proxy.DelayedLoader object at 0x10a22d1d0>: <openpathsampling.snapshot.Snapshot object at 0x10f7c1750>}, 'is_reversed': True}\n",
      "{'_lazy': {<openpathsampling.netcdfplus.proxy.DelayedLoader object at 0x10a22d1d0>: <openpathsampling.snapshot.Snapshot object at 0x10f7c1790>}, 'is_reversed': False}\n",
      "{'_lazy': {<openpathsampling.netcdfplus.proxy.DelayedLoader object at 0x10a22d1d0>: <openpathsampling.snapshot.Snapshot object at 0x10f7c1990>}, 'is_reversed': True}\n",
      "{'_lazy': {<openpathsampling.netcdfplus.proxy.DelayedLoader object at 0x10a22d1d0>: <openpathsampling.snapshot.Snapshot object at 0x10f7c19d0>}, 'is_reversed': False}\n",
      "{'_lazy': {<openpathsampling.netcdfplus.proxy.DelayedLoader object at 0x10a22d1d0>: <openpathsampling.snapshot.Snapshot object at 0x10f7c1bd0>}, 'is_reversed': True}\n",
      "{'_lazy': {<openpathsampling.netcdfplus.proxy.DelayedLoader object at 0x10a22d1d0>: <openpathsampling.snapshot.Snapshot object at 0x10f7c1c10>}, 'is_reversed': False}\n",
      "{'_lazy': {<openpathsampling.netcdfplus.proxy.DelayedLoader object at 0x10a22d1d0>: <openpathsampling.snapshot.Snapshot object at 0x10f7c1e10>}, 'is_reversed': True}\n",
      "{'_lazy': {<openpathsampling.netcdfplus.proxy.DelayedLoader object at 0x10a22d1d0>: <openpathsampling.snapshot.Snapshot object at 0x10f7c1e50>}, 'is_reversed': False}\n",
      "{'_lazy': {<openpathsampling.netcdfplus.proxy.DelayedLoader object at 0x10a22d1d0>: <openpathsampling.snapshot.Snapshot object at 0x1109ba090>}, 'is_reversed': True}\n",
      "{'_lazy': {<openpathsampling.netcdfplus.proxy.DelayedLoader object at 0x10a22d1d0>: <openpathsampling.snapshot.Snapshot object at 0x1109ba0d0>}, 'is_reversed': False}\n",
      "{'_lazy': {<openpathsampling.netcdfplus.proxy.DelayedLoader object at 0x10a22d1d0>: <openpathsampling.snapshot.Snapshot object at 0x1109ba2d0>}, 'is_reversed': True}\n",
      "{'_lazy': {<openpathsampling.netcdfplus.proxy.DelayedLoader object at 0x10a22d1d0>: <openpathsampling.snapshot.Snapshot object at 0x1109ba310>}, 'is_reversed': False}\n",
      "{'_lazy': {<openpathsampling.netcdfplus.proxy.DelayedLoader object at 0x10a22d1d0>: <openpathsampling.snapshot.Snapshot object at 0x1109ba510>}, 'is_reversed': True}\n",
      "{'_lazy': {<openpathsampling.netcdfplus.proxy.DelayedLoader object at 0x10a22d1d0>: <openpathsampling.snapshot.Snapshot object at 0x1109ba550>}, 'is_reversed': False}\n",
      "{'_lazy': {<openpathsampling.netcdfplus.proxy.DelayedLoader object at 0x10a22d1d0>: <openpathsampling.snapshot.Snapshot object at 0x1109ba750>}, 'is_reversed': True}\n",
      "{'_lazy': {<openpathsampling.netcdfplus.proxy.DelayedLoader object at 0x10a22d1d0>: <openpathsampling.snapshot.Snapshot object at 0x1109ba790>}, 'is_reversed': False}\n",
      "{'_lazy': {<openpathsampling.netcdfplus.proxy.DelayedLoader object at 0x10a22d1d0>: <openpathsampling.snapshot.Snapshot object at 0x1109ba990>}, 'is_reversed': True}\n",
      "{'_lazy': {<openpathsampling.netcdfplus.proxy.DelayedLoader object at 0x10a22d1d0>: <openpathsampling.snapshot.Snapshot object at 0x1109ba9d0>}, 'is_reversed': False}\n",
      "{'_lazy': {<openpathsampling.netcdfplus.proxy.DelayedLoader object at 0x10a22d1d0>: <openpathsampling.snapshot.Snapshot object at 0x1109babd0>}, 'is_reversed': True}\n",
      "{'_lazy': {<openpathsampling.netcdfplus.proxy.DelayedLoader object at 0x10a22d1d0>: <openpathsampling.snapshot.Snapshot object at 0x1109bac10>}, 'is_reversed': False}\n",
      "{'_lazy': {<openpathsampling.netcdfplus.proxy.DelayedLoader object at 0x10a22d1d0>: <openpathsampling.snapshot.Snapshot object at 0x1109bae10>}, 'is_reversed': True}\n",
      "{'_lazy': {<openpathsampling.netcdfplus.proxy.DelayedLoader object at 0x10a22d1d0>: <openpathsampling.snapshot.Snapshot object at 0x1109bae50>}, 'is_reversed': False}\n",
      "{'_lazy': {<openpathsampling.netcdfplus.proxy.DelayedLoader object at 0x10a22d1d0>: <openpathsampling.snapshot.Snapshot object at 0x1109c1090>}, 'is_reversed': True}\n",
      "{'_lazy': {<openpathsampling.netcdfplus.proxy.DelayedLoader object at 0x10a22d1d0>: <openpathsampling.snapshot.Snapshot object at 0x1109c10d0>}, 'is_reversed': False}\n",
      "{'_lazy': {<openpathsampling.netcdfplus.proxy.DelayedLoader object at 0x10a22d1d0>: <openpathsampling.snapshot.Snapshot object at 0x1109c12d0>}, 'is_reversed': True}\n",
      "{'_lazy': {<openpathsampling.netcdfplus.proxy.DelayedLoader object at 0x10a22d1d0>: <openpathsampling.snapshot.Snapshot object at 0x1109c1310>}, 'is_reversed': False}\n",
      "{'_lazy': {<openpathsampling.netcdfplus.proxy.DelayedLoader object at 0x10a22d1d0>: <openpathsampling.snapshot.Snapshot object at 0x1109c1510>}, 'is_reversed': True}\n",
      "{'_lazy': {<openpathsampling.netcdfplus.proxy.DelayedLoader object at 0x10a22d1d0>: <openpathsampling.snapshot.Snapshot object at 0x1109c1550>}, 'is_reversed': False}\n",
      "{'_lazy': {<openpathsampling.netcdfplus.proxy.DelayedLoader object at 0x10a22d1d0>: <openpathsampling.snapshot.Snapshot object at 0x1109c1750>}, 'is_reversed': True}\n",
      "{'_lazy': {<openpathsampling.netcdfplus.proxy.DelayedLoader object at 0x10a22d1d0>: <openpathsampling.snapshot.Snapshot object at 0x1109c1790>}, 'is_reversed': False}\n",
      "{'_lazy': {<openpathsampling.netcdfplus.proxy.DelayedLoader object at 0x10a22d1d0>: <openpathsampling.snapshot.Snapshot object at 0x1109c1990>}, 'is_reversed': True}\n",
      "{'_lazy': {<openpathsampling.netcdfplus.proxy.DelayedLoader object at 0x10a22d1d0>: <openpathsampling.snapshot.Snapshot object at 0x1109c19d0>}, 'is_reversed': False}\n",
      "{'_lazy': {<openpathsampling.netcdfplus.proxy.DelayedLoader object at 0x10a22d1d0>: <openpathsampling.snapshot.Snapshot object at 0x1109c1bd0>}, 'is_reversed': True}\n",
      "{'_lazy': {<openpathsampling.netcdfplus.proxy.DelayedLoader object at 0x10a22d1d0>: <openpathsampling.snapshot.Snapshot object at 0x1109c1c10>}, 'is_reversed': False}\n",
      "{'_lazy': {<openpathsampling.netcdfplus.proxy.DelayedLoader object at 0x10a22d1d0>: <openpathsampling.snapshot.Snapshot object at 0x1109c1e10>}, 'is_reversed': True}\n",
      "{'_lazy': {<openpathsampling.netcdfplus.proxy.DelayedLoader object at 0x10a22d1d0>: <openpathsampling.snapshot.Snapshot object at 0x1109c1e50>}, 'is_reversed': False}\n",
      "{'_lazy': {<openpathsampling.netcdfplus.proxy.DelayedLoader object at 0x10a22d1d0>: <openpathsampling.snapshot.Snapshot object at 0x10f7e1090>}, 'is_reversed': True}\n",
      "{'_lazy': {<openpathsampling.netcdfplus.proxy.DelayedLoader object at 0x10a22d1d0>: <openpathsampling.snapshot.Snapshot object at 0x10f7e10d0>}, 'is_reversed': False}\n",
      "{'_lazy': {<openpathsampling.netcdfplus.proxy.DelayedLoader object at 0x10a22d1d0>: <openpathsampling.snapshot.Snapshot object at 0x10f7e12d0>}, 'is_reversed': True}\n",
      "{'_lazy': {<openpathsampling.netcdfplus.proxy.DelayedLoader object at 0x10a22d1d0>: <openpathsampling.snapshot.Snapshot object at 0x10f7e1310>}, 'is_reversed': False}\n",
      "{'_lazy': {<openpathsampling.netcdfplus.proxy.DelayedLoader object at 0x10a22d1d0>: <openpathsampling.snapshot.Snapshot object at 0x1105e2c90>}, 'is_reversed': True}\n",
      "{'_lazy': {<openpathsampling.netcdfplus.proxy.DelayedLoader object at 0x10a22d1d0>: <openpathsampling.snapshot.Snapshot object at 0x1105e2dd0>}, 'is_reversed': False}\n",
      "{'_lazy': {<openpathsampling.netcdfplus.proxy.DelayedLoader object at 0x10a22d1d0>: <openpathsampling.snapshot.Snapshot object at 0x10f7e1750>}, 'is_reversed': True}\n",
      "{'_lazy': {<openpathsampling.netcdfplus.proxy.DelayedLoader object at 0x10a22d1d0>: <openpathsampling.snapshot.Snapshot object at 0x10f7e1790>}, 'is_reversed': False}\n",
      "{'_lazy': {<openpathsampling.netcdfplus.proxy.DelayedLoader object at 0x10a22d1d0>: <openpathsampling.snapshot.Snapshot object at 0x10f7e1990>}, 'is_reversed': True}\n",
      "{'_lazy': {<openpathsampling.netcdfplus.proxy.DelayedLoader object at 0x10a22d1d0>: <openpathsampling.snapshot.Snapshot object at 0x10f7e19d0>}, 'is_reversed': False}\n",
      "{'_lazy': {<openpathsampling.netcdfplus.proxy.DelayedLoader object at 0x10a22d1d0>: <openpathsampling.snapshot.Snapshot object at 0x10f7e1bd0>}, 'is_reversed': True}\n",
      "{'_lazy': {<openpathsampling.netcdfplus.proxy.DelayedLoader object at 0x10a22d1d0>: <openpathsampling.snapshot.Snapshot object at 0x10f7e1c10>}, 'is_reversed': False}\n",
      "{'_lazy': {<openpathsampling.netcdfplus.proxy.DelayedLoader object at 0x10a22d1d0>: <openpathsampling.snapshot.Snapshot object at 0x10f7e1e10>}, 'is_reversed': True}\n",
      "{'_lazy': {<openpathsampling.netcdfplus.proxy.DelayedLoader object at 0x10a22d1d0>: <openpathsampling.snapshot.Snapshot object at 0x10f7e1e50>}, 'is_reversed': False}\n",
      "{'_lazy': {<openpathsampling.netcdfplus.proxy.DelayedLoader object at 0x10a22d1d0>: <openpathsampling.snapshot.Snapshot object at 0x10f7d9090>}, 'is_reversed': True}\n",
      "{'_lazy': {<openpathsampling.netcdfplus.proxy.DelayedLoader object at 0x10a22d1d0>: <openpathsampling.snapshot.Snapshot object at 0x10f7d90d0>}, 'is_reversed': False}\n",
      "{'_lazy': {<openpathsampling.netcdfplus.proxy.DelayedLoader object at 0x10a22d1d0>: <openpathsampling.snapshot.Snapshot object at 0x10f7d92d0>}, 'is_reversed': True}\n",
      "{'_lazy': {<openpathsampling.netcdfplus.proxy.DelayedLoader object at 0x10a22d1d0>: <openpathsampling.snapshot.Snapshot object at 0x10f7d9310>}, 'is_reversed': False}\n",
      "{'_lazy': {<openpathsampling.netcdfplus.proxy.DelayedLoader object at 0x10a22d1d0>: <openpathsampling.snapshot.Snapshot object at 0x10f7d9510>}, 'is_reversed': True}\n",
      "{'_lazy': {<openpathsampling.netcdfplus.proxy.DelayedLoader object at 0x10a22d1d0>: <openpathsampling.snapshot.Snapshot object at 0x10f7d9550>}, 'is_reversed': False}\n",
      "{'_lazy': {<openpathsampling.netcdfplus.proxy.DelayedLoader object at 0x10a22d1d0>: <openpathsampling.snapshot.Snapshot object at 0x10f7d9750>}, 'is_reversed': True}\n",
      "{'_lazy': {<openpathsampling.netcdfplus.proxy.DelayedLoader object at 0x10a22d1d0>: <openpathsampling.snapshot.Snapshot object at 0x10f7d9790>}, 'is_reversed': False}\n",
      "{'_lazy': {<openpathsampling.netcdfplus.proxy.DelayedLoader object at 0x10a22d1d0>: <openpathsampling.snapshot.Snapshot object at 0x10f7d9990>}, 'is_reversed': True}\n",
      "{'_lazy': {<openpathsampling.netcdfplus.proxy.DelayedLoader object at 0x10a22d1d0>: <openpathsampling.snapshot.Snapshot object at 0x10f7d99d0>}, 'is_reversed': False}\n",
      "{'_lazy': {<openpathsampling.netcdfplus.proxy.DelayedLoader object at 0x10a22d1d0>: <openpathsampling.snapshot.Snapshot object at 0x10f7d9bd0>}, 'is_reversed': True}\n",
      "{'_lazy': {<openpathsampling.netcdfplus.proxy.DelayedLoader object at 0x10a22d1d0>: <openpathsampling.snapshot.Snapshot object at 0x10f7d9c10>}, 'is_reversed': False}\n",
      "{'_lazy': {<openpathsampling.netcdfplus.proxy.DelayedLoader object at 0x10a22d1d0>: <openpathsampling.snapshot.Snapshot object at 0x10f7d9e10>}, 'is_reversed': True}\n",
      "{'_lazy': {<openpathsampling.netcdfplus.proxy.DelayedLoader object at 0x10a22d1d0>: <openpathsampling.snapshot.Snapshot object at 0x10f7d9e50>}, 'is_reversed': False}\n",
      "{'_lazy': {<openpathsampling.netcdfplus.proxy.DelayedLoader object at 0x10a22d1d0>: <openpathsampling.snapshot.Snapshot object at 0x10f7cf090>}, 'is_reversed': True}\n",
      "{'_lazy': {<openpathsampling.netcdfplus.proxy.DelayedLoader object at 0x10a22d1d0>: <openpathsampling.snapshot.Snapshot object at 0x10f7cf0d0>}, 'is_reversed': False}\n",
      "{'_lazy': {<openpathsampling.netcdfplus.proxy.DelayedLoader object at 0x10a22d1d0>: <openpathsampling.snapshot.Snapshot object at 0x10f7cf2d0>}, 'is_reversed': True}\n",
      "{'_lazy': {<openpathsampling.netcdfplus.proxy.DelayedLoader object at 0x10a22d1d0>: <openpathsampling.snapshot.Snapshot object at 0x10f7cf310>}, 'is_reversed': False}\n",
      "{'_lazy': {<openpathsampling.netcdfplus.proxy.DelayedLoader object at 0x10a22d1d0>: <openpathsampling.snapshot.Snapshot object at 0x10f7cf510>}, 'is_reversed': True}\n",
      "{'_lazy': {<openpathsampling.netcdfplus.proxy.DelayedLoader object at 0x10a22d1d0>: <openpathsampling.snapshot.Snapshot object at 0x10f7cf550>}, 'is_reversed': False}\n",
      "{'_lazy': {<openpathsampling.netcdfplus.proxy.DelayedLoader object at 0x10a22d1d0>: <openpathsampling.snapshot.Snapshot object at 0x10f7cf750>}, 'is_reversed': True}\n",
      "{'_lazy': {<openpathsampling.netcdfplus.proxy.DelayedLoader object at 0x10a22d1d0>: <openpathsampling.snapshot.Snapshot object at 0x10f7cf790>}, 'is_reversed': False}\n",
      "{'_lazy': {<openpathsampling.netcdfplus.proxy.DelayedLoader object at 0x10a22d1d0>: <openpathsampling.snapshot.Snapshot object at 0x10f7cf990>}, 'is_reversed': True}\n",
      "{'_lazy': {<openpathsampling.netcdfplus.proxy.DelayedLoader object at 0x10a22d1d0>: <openpathsampling.snapshot.Snapshot object at 0x10f7cf9d0>}, 'is_reversed': False}\n",
      "{'_lazy': {<openpathsampling.netcdfplus.proxy.DelayedLoader object at 0x10a22d1d0>: <openpathsampling.snapshot.Snapshot object at 0x10f7cfbd0>}, 'is_reversed': True}\n",
      "{'_lazy': {<openpathsampling.netcdfplus.proxy.DelayedLoader object at 0x10a22d1d0>: <openpathsampling.snapshot.Snapshot object at 0x10f7cfc10>}, 'is_reversed': False}\n",
      "{'_lazy': {<openpathsampling.netcdfplus.proxy.DelayedLoader object at 0x10a22d1d0>: <openpathsampling.snapshot.Snapshot object at 0x10f7cfe10>}, 'is_reversed': True}\n",
      "{'_lazy': {<openpathsampling.netcdfplus.proxy.DelayedLoader object at 0x10a22d1d0>: <openpathsampling.snapshot.Snapshot object at 0x10f7cfe50>}, 'is_reversed': False}\n",
      "{'_lazy': {<openpathsampling.netcdfplus.proxy.DelayedLoader object at 0x10a22d1d0>: <openpathsampling.snapshot.Snapshot object at 0x110280090>}, 'is_reversed': True}\n",
      "{'_lazy': {<openpathsampling.netcdfplus.proxy.DelayedLoader object at 0x10a22d1d0>: <openpathsampling.snapshot.Snapshot object at 0x1102800d0>}, 'is_reversed': False}\n",
      "{'_lazy': {<openpathsampling.netcdfplus.proxy.DelayedLoader object at 0x10a22d1d0>: <openpathsampling.snapshot.Snapshot object at 0x1102802d0>}, 'is_reversed': True}\n",
      "{'_lazy': {<openpathsampling.netcdfplus.proxy.DelayedLoader object at 0x10a22d1d0>: <openpathsampling.snapshot.Snapshot object at 0x110280310>}, 'is_reversed': False}\n",
      "{'_lazy': {<openpathsampling.netcdfplus.proxy.DelayedLoader object at 0x10a22d1d0>: <openpathsampling.snapshot.Snapshot object at 0x110280510>}, 'is_reversed': True}\n",
      "{'_lazy': {<openpathsampling.netcdfplus.proxy.DelayedLoader object at 0x10a22d1d0>: <openpathsampling.snapshot.Snapshot object at 0x110280550>}, 'is_reversed': False}\n",
      "{'_lazy': {<openpathsampling.netcdfplus.proxy.DelayedLoader object at 0x10a22d1d0>: <openpathsampling.snapshot.Snapshot object at 0x110280750>}, 'is_reversed': True}\n",
      "{'_lazy': {<openpathsampling.netcdfplus.proxy.DelayedLoader object at 0x10a22d1d0>: <openpathsampling.snapshot.Snapshot object at 0x110280790>}, 'is_reversed': False}\n",
      "{'_lazy': {<openpathsampling.netcdfplus.proxy.DelayedLoader object at 0x10a22d1d0>: <openpathsampling.snapshot.Snapshot object at 0x110280990>}, 'is_reversed': True}\n",
      "{'_lazy': {<openpathsampling.netcdfplus.proxy.DelayedLoader object at 0x10a22d1d0>: <openpathsampling.snapshot.Snapshot object at 0x1102809d0>}, 'is_reversed': False}\n",
      "{'_lazy': {<openpathsampling.netcdfplus.proxy.DelayedLoader object at 0x10a22d1d0>: <openpathsampling.snapshot.Snapshot object at 0x110280bd0>}, 'is_reversed': True}\n",
      "{'_lazy': {<openpathsampling.netcdfplus.proxy.DelayedLoader object at 0x10a22d1d0>: <openpathsampling.snapshot.Snapshot object at 0x110280c10>}, 'is_reversed': False}\n",
      "{'_lazy': {<openpathsampling.netcdfplus.proxy.DelayedLoader object at 0x10a22d1d0>: <openpathsampling.snapshot.Snapshot object at 0x110280e10>}, 'is_reversed': True}\n",
      "{'_lazy': {<openpathsampling.netcdfplus.proxy.DelayedLoader object at 0x10a22d1d0>: <openpathsampling.snapshot.Snapshot object at 0x110280e50>}, 'is_reversed': False}\n",
      "{'_lazy': {<openpathsampling.netcdfplus.proxy.DelayedLoader object at 0x10a22d1d0>: <openpathsampling.snapshot.Snapshot object at 0x110289090>}, 'is_reversed': True}\n",
      "{'_lazy': {<openpathsampling.netcdfplus.proxy.DelayedLoader object at 0x10a22d1d0>: <openpathsampling.snapshot.Snapshot object at 0x1102890d0>}, 'is_reversed': False}\n",
      "{'_lazy': {<openpathsampling.netcdfplus.proxy.DelayedLoader object at 0x10a22d1d0>: <openpathsampling.snapshot.Snapshot object at 0x1102892d0>}, 'is_reversed': True}\n",
      "{'_lazy': {<openpathsampling.netcdfplus.proxy.DelayedLoader object at 0x10a22d1d0>: <openpathsampling.snapshot.Snapshot object at 0x110289310>}, 'is_reversed': False}\n",
      "{'_lazy': {<openpathsampling.netcdfplus.proxy.DelayedLoader object at 0x10a22d1d0>: <openpathsampling.snapshot.Snapshot object at 0x110289510>}, 'is_reversed': True}\n",
      "{'_lazy': {<openpathsampling.netcdfplus.proxy.DelayedLoader object at 0x10a22d1d0>: <openpathsampling.snapshot.Snapshot object at 0x110289550>}, 'is_reversed': False}\n",
      "{'_lazy': {<openpathsampling.netcdfplus.proxy.DelayedLoader object at 0x10a22d1d0>: <openpathsampling.snapshot.Snapshot object at 0x110289750>}, 'is_reversed': True}\n",
      "{'_lazy': {<openpathsampling.netcdfplus.proxy.DelayedLoader object at 0x10a22d1d0>: <openpathsampling.snapshot.Snapshot object at 0x110289790>}, 'is_reversed': False}\n",
      "{'_lazy': {<openpathsampling.netcdfplus.proxy.DelayedLoader object at 0x10a22d1d0>: <openpathsampling.snapshot.Snapshot object at 0x110289990>}, 'is_reversed': True}\n",
      "{'_lazy': {<openpathsampling.netcdfplus.proxy.DelayedLoader object at 0x10a22d1d0>: <openpathsampling.snapshot.Snapshot object at 0x1102899d0>}, 'is_reversed': False}\n",
      "{'_lazy': {<openpathsampling.netcdfplus.proxy.DelayedLoader object at 0x10a22d1d0>: <openpathsampling.snapshot.Snapshot object at 0x110289c10>}, 'is_reversed': True}\n",
      "{'_lazy': {<openpathsampling.netcdfplus.proxy.DelayedLoader object at 0x10a22d1d0>: <openpathsampling.snapshot.Snapshot object at 0x110289bd0>}, 'is_reversed': False}\n"
     ]
    }
   ],
   "source": [
    "snapshot = storage.template\n",
    "total_path = engine.generate(\n",
    "    snapshot= snapshot, \n",
    "    running = [first_traj_ensemble.can_append]\n",
    ")"
   ]
  },
  {
   "cell_type": "markdown",
   "metadata": {},
   "source": [
    "Show the length"
   ]
  },
  {
   "cell_type": "code",
   "execution_count": 28,
   "metadata": {
    "collapsed": false
   },
   "outputs": [
    {
     "name": "stdout",
     "output_type": "stream",
     "text": [
      "Total trajectory length:  97\n"
     ]
    }
   ],
   "source": [
    "print \"Total trajectory length: \", len(total_path)"
   ]
  },
  {
   "cell_type": "markdown",
   "metadata": {},
   "source": [
    "And save the trajetory completely"
   ]
  },
  {
   "cell_type": "code",
   "execution_count": 29,
   "metadata": {
    "collapsed": false
   },
   "outputs": [],
   "source": [
    "storage.save(total_path);"
   ]
  },
  {
   "cell_type": "code",
   "execution_count": 30,
   "metadata": {
    "collapsed": false
   },
   "outputs": [
    {
     "data": {
      "text/plain": [
       "<openpathsampling.snapshot.Configuration at 0x10f811370>"
      ]
     },
     "execution_count": 30,
     "metadata": {},
     "output_type": "execute_result"
    }
   ],
   "source": [
    "total_path[0]._lazy[paths.Snapshot.configuration]"
   ]
  },
  {
   "cell_type": "markdown",
   "metadata": {},
   "source": [
    "Split the trajectory into parts that belong to the TIS ensemble (not the one we generated)"
   ]
  },
  {
   "cell_type": "code",
   "execution_count": 27,
   "metadata": {
    "collapsed": false
   },
   "outputs": [
    {
     "name": "stdout",
     "output_type": "stream",
     "text": [
      "Traj in first_traj_ensemble? (should be) True\n",
      "Traj in TIS ensemble? (probably not) False\n",
      "Number of segments in TIS ensemble:  1\n",
      "Length of each segment:\n",
      "  seg[0]: 8\n"
     ]
    }
   ],
   "source": [
    "interface0_ensemble = interface_set[0]\n",
    "segments = interface0_ensemble.split(total_path)\n",
    "\n",
    "print \"Traj in first_traj_ensemble? (should be)\", \n",
    "print first_traj_ensemble(total_path)\n",
    "\n",
    "print \"Traj in TIS ensemble? (probably not)\", \n",
    "print interface0_ensemble(total_path)\n",
    "\n",
    "\n",
    "print \"Number of segments in TIS ensemble: \", len(segments)\n",
    "if len(segments):\n",
    "    print \"Length of each segment:\"\n",
    "    for i in range(len(segments)):\n",
    "        print \"  seg[{0}]: {1}\".format(i, len(segments[i]))"
   ]
  },
  {
   "cell_type": "markdown",
   "metadata": {},
   "source": [
    "Show some results and check if this worked"
   ]
  },
  {
   "cell_type": "code",
   "execution_count": 28,
   "metadata": {
    "collapsed": false
   },
   "outputs": [
    {
     "data": {
      "text/html": [
       "<div>\n",
       "<table border=\"1\" class=\"dataframe\">\n",
       "  <thead>\n",
       "    <tr style=\"text-align: right;\">\n",
       "      <th></th>\n",
       "      <th>phi</th>\n",
       "      <th>psi</th>\n",
       "      <th>stateA</th>\n",
       "      <th>interface0</th>\n",
       "      <th>stateB</th>\n",
       "      <th>appendable</th>\n",
       "    </tr>\n",
       "  </thead>\n",
       "  <tbody>\n",
       "    <tr>\n",
       "      <th>0</th>\n",
       "      <td>-80.208455</td>\n",
       "      <td>-10.277032</td>\n",
       "      <td>False</td>\n",
       "      <td>False</td>\n",
       "      <td>False</td>\n",
       "      <td>True</td>\n",
       "    </tr>\n",
       "    <tr>\n",
       "      <th>1</th>\n",
       "      <td>-83.550392</td>\n",
       "      <td>-10.199586</td>\n",
       "      <td>False</td>\n",
       "      <td>False</td>\n",
       "      <td>False</td>\n",
       "      <td>True</td>\n",
       "    </tr>\n",
       "    <tr>\n",
       "      <th>2</th>\n",
       "      <td>-80.725316</td>\n",
       "      <td>-12.020593</td>\n",
       "      <td>False</td>\n",
       "      <td>False</td>\n",
       "      <td>False</td>\n",
       "      <td>True</td>\n",
       "    </tr>\n",
       "    <tr>\n",
       "      <th>40</th>\n",
       "      <td>-58.525931</td>\n",
       "      <td>-23.662864</td>\n",
       "      <td>False</td>\n",
       "      <td>False</td>\n",
       "      <td>False</td>\n",
       "      <td>True</td>\n",
       "    </tr>\n",
       "    <tr>\n",
       "      <th>41</th>\n",
       "      <td>-67.774144</td>\n",
       "      <td>-28.928508</td>\n",
       "      <td>False</td>\n",
       "      <td>True</td>\n",
       "      <td>False</td>\n",
       "      <td>True</td>\n",
       "    </tr>\n",
       "    <tr>\n",
       "      <th>42</th>\n",
       "      <td>-64.424837</td>\n",
       "      <td>-39.006227</td>\n",
       "      <td>True</td>\n",
       "      <td>True</td>\n",
       "      <td>False</td>\n",
       "      <td>False</td>\n",
       "    </tr>\n",
       "  </tbody>\n",
       "</table>\n",
       "</div>"
      ],
      "text/plain": [
       "          phi        psi stateA interface0 stateB appendable\n",
       "0  -80.208455 -10.277032  False      False  False       True\n",
       "1  -83.550392 -10.199586  False      False  False       True\n",
       "2  -80.725316 -12.020593  False      False  False       True\n",
       "40 -58.525931 -23.662864  False      False  False       True\n",
       "41 -67.774144 -28.928508  False       True  False       True\n",
       "42 -64.424837 -39.006227   True       True  False      False"
      ]
     },
     "execution_count": 28,
     "metadata": {},
     "output_type": "execute_result"
    }
   ],
   "source": [
    "data = []\n",
    "for frame in total_path:\n",
    "    data.append((phi(frame) / deg, psi(frame)/deg, stateA(frame), interface0(frame), stateB(frame), first_traj_ensemble.can_append(total_path[slice(0,total_path.index(frame)+1)])))\n",
    "    \n",
    "dataframe = pd.DataFrame(data, columns=['phi', 'psi', 'stateA', 'interface0', 'stateB', 'appendable'])\n",
    "dataframe[[0,1,2,3,4,5]].ix[[0,1,2,len(dataframe)-3,len(dataframe)-2,len(dataframe)-1]]"
   ]
  },
  {
   "cell_type": "code",
   "execution_count": 29,
   "metadata": {
    "collapsed": false
   },
   "outputs": [
    {
     "name": "stdout",
     "output_type": "stream",
     "text": [
      "Do our segments satisfy the ensemble? True\n"
     ]
    }
   ],
   "source": [
    "print \"Do our segments satisfy the ensemble?\",\n",
    "for seg in segments:\n",
    "    print interface0_ensemble(seg),"
   ]
  },
  {
   "cell_type": "code",
   "execution_count": 30,
   "metadata": {
    "collapsed": false
   },
   "outputs": [
    {
     "data": {
      "text/html": [
       "<div>\n",
       "<table border=\"1\" class=\"dataframe\">\n",
       "  <thead>\n",
       "    <tr style=\"text-align: right;\">\n",
       "      <th></th>\n",
       "      <th>phi</th>\n",
       "      <th>psi</th>\n",
       "      <th>stateA</th>\n",
       "      <th>interface0</th>\n",
       "      <th>stateB</th>\n",
       "      <th>appendable</th>\n",
       "    </tr>\n",
       "  </thead>\n",
       "  <tbody>\n",
       "    <tr>\n",
       "      <th>0</th>\n",
       "      <td>-59.012042</td>\n",
       "      <td>-33.322126</td>\n",
       "      <td>True</td>\n",
       "      <td>True</td>\n",
       "      <td>False</td>\n",
       "      <td>True</td>\n",
       "    </tr>\n",
       "    <tr>\n",
       "      <th>1</th>\n",
       "      <td>-56.310330</td>\n",
       "      <td>-21.516624</td>\n",
       "      <td>False</td>\n",
       "      <td>False</td>\n",
       "      <td>False</td>\n",
       "      <td>True</td>\n",
       "    </tr>\n",
       "    <tr>\n",
       "      <th>2</th>\n",
       "      <td>-52.454685</td>\n",
       "      <td>-20.779432</td>\n",
       "      <td>False</td>\n",
       "      <td>False</td>\n",
       "      <td>False</td>\n",
       "      <td>True</td>\n",
       "    </tr>\n",
       "    <tr>\n",
       "      <th>3</th>\n",
       "      <td>-51.588545</td>\n",
       "      <td>-16.661123</td>\n",
       "      <td>False</td>\n",
       "      <td>False</td>\n",
       "      <td>False</td>\n",
       "      <td>True</td>\n",
       "    </tr>\n",
       "    <tr>\n",
       "      <th>4</th>\n",
       "      <td>-48.796183</td>\n",
       "      <td>-27.204352</td>\n",
       "      <td>False</td>\n",
       "      <td>True</td>\n",
       "      <td>False</td>\n",
       "      <td>True</td>\n",
       "    </tr>\n",
       "    <tr>\n",
       "      <th>5</th>\n",
       "      <td>-58.525931</td>\n",
       "      <td>-23.662864</td>\n",
       "      <td>False</td>\n",
       "      <td>False</td>\n",
       "      <td>False</td>\n",
       "      <td>True</td>\n",
       "    </tr>\n",
       "    <tr>\n",
       "      <th>6</th>\n",
       "      <td>-67.774144</td>\n",
       "      <td>-28.928508</td>\n",
       "      <td>False</td>\n",
       "      <td>True</td>\n",
       "      <td>False</td>\n",
       "      <td>True</td>\n",
       "    </tr>\n",
       "    <tr>\n",
       "      <th>7</th>\n",
       "      <td>-64.424837</td>\n",
       "      <td>-39.006227</td>\n",
       "      <td>True</td>\n",
       "      <td>True</td>\n",
       "      <td>False</td>\n",
       "      <td>False</td>\n",
       "    </tr>\n",
       "  </tbody>\n",
       "</table>\n",
       "</div>"
      ],
      "text/plain": [
       "         phi        psi stateA interface0 stateB appendable\n",
       "0 -59.012042 -33.322126   True       True  False       True\n",
       "1 -56.310330 -21.516624  False      False  False       True\n",
       "2 -52.454685 -20.779432  False      False  False       True\n",
       "3 -51.588545 -16.661123  False      False  False       True\n",
       "4 -48.796183 -27.204352  False       True  False       True\n",
       "5 -58.525931 -23.662864  False      False  False       True\n",
       "6 -67.774144 -28.928508  False       True  False       True\n",
       "7 -64.424837 -39.006227   True       True  False      False"
      ]
     },
     "execution_count": 30,
     "metadata": {},
     "output_type": "execute_result"
    }
   ],
   "source": [
    "data = []\n",
    "for frame in segments[0]:\n",
    "    data.append((phi(frame)/deg, psi(frame)/deg, stateA(frame), interface0(frame), stateB(frame), first_traj_ensemble.can_append(total_path[slice(0,total_path.index(frame)+1)])))\n",
    "    \n",
    "dataframe = pd.DataFrame(data, columns=['phi', 'psi', 'stateA', 'interface0', 'stateB', 'appendable'])\n",
    "dataframe[[0,1,2,3,4,5]]"
   ]
  },
  {
   "cell_type": "markdown",
   "metadata": {},
   "source": [
    "### Bootstrapping"
   ]
  },
  {
   "cell_type": "markdown",
   "metadata": {},
   "source": [
    "Run a bootstrapping (not TIS) simulation that shoots from an ensemble until the next interface is reached then switch to the next ensemble to drive the system out of stateA"
   ]
  },
  {
   "cell_type": "code",
   "execution_count": 31,
   "metadata": {
    "collapsed": false
   },
   "outputs": [],
   "source": [
    "mover_set = paths.PathMoverFactory.OneWayShootingSet(paths.UniformSelector(), interface_set)"
   ]
  },
  {
   "cell_type": "code",
   "execution_count": 32,
   "metadata": {
    "collapsed": false
   },
   "outputs": [],
   "source": [
    "bootstrap = paths.Bootstrapping(storage=storage,\n",
    "                          engine=engine,\n",
    "                          ensembles=interface_set,\n",
    "                          movers=mover_set,\n",
    "                          trajectory=segments[0])"
   ]
  },
  {
   "cell_type": "markdown",
   "metadata": {},
   "source": [
    "Run Bootstrapping with at most 50 attempts per ensemble"
   ]
  },
  {
   "cell_type": "code",
   "execution_count": 33,
   "metadata": {
    "collapsed": false
   },
   "outputs": [
    {
     "name": "stdout",
     "output_type": "stream",
     "text": [
      "Working on Bootstrapping cycle step 1 in ensemble 1/7 .\n",
      "\n"
     ]
    },
    {
     "ename": "AttributeError",
     "evalue": "'AbstractSnapshot' object has no attribute 'coordinates'",
     "output_type": "error",
     "traceback": [
      "\u001b[0;31m---------------------------------------------------------------------------\u001b[0m",
      "\u001b[0;31mAttributeError\u001b[0m                            Traceback (most recent call last)",
      "\u001b[0;32m<ipython-input-33-859697fce3cc>\u001b[0m in \u001b[0;36m<module>\u001b[0;34m()\u001b[0m\n\u001b[0;32m----> 1\u001b[0;31m \u001b[0mbootstrap\u001b[0m\u001b[0;34m.\u001b[0m\u001b[0mrun\u001b[0m\u001b[0;34m(\u001b[0m\u001b[0;36m50\u001b[0m\u001b[0;34m)\u001b[0m\u001b[0;34m\u001b[0m\u001b[0m\n\u001b[0m",
      "\u001b[0;32m/Users/jan-hendrikprinz/Studium/git/openpathsampling/openpathsampling/pathsimulator.pyc\u001b[0m in \u001b[0;36mrun\u001b[0;34m(self, nsteps)\u001b[0m\n\u001b[1;32m    253\u001b[0m             )\n\u001b[1;32m    254\u001b[0m \u001b[0;34m\u001b[0m\u001b[0m\n\u001b[0;32m--> 255\u001b[0;31m             \u001b[0mmovepath\u001b[0m \u001b[0;34m=\u001b[0m \u001b[0mbootstrapmove\u001b[0m\u001b[0;34m.\u001b[0m\u001b[0mmove\u001b[0m\u001b[0;34m(\u001b[0m\u001b[0mself\u001b[0m\u001b[0;34m.\u001b[0m\u001b[0mglobalstate\u001b[0m\u001b[0;34m)\u001b[0m\u001b[0;34m\u001b[0m\u001b[0m\n\u001b[0m\u001b[1;32m    256\u001b[0m             \u001b[0msamples\u001b[0m \u001b[0;34m=\u001b[0m \u001b[0mmovepath\u001b[0m\u001b[0;34m.\u001b[0m\u001b[0mresults\u001b[0m\u001b[0;34m\u001b[0m\u001b[0m\n\u001b[1;32m    257\u001b[0m             \u001b[0mnew_sampleset\u001b[0m \u001b[0;34m=\u001b[0m \u001b[0mself\u001b[0m\u001b[0;34m.\u001b[0m\u001b[0mglobalstate\u001b[0m\u001b[0;34m.\u001b[0m\u001b[0mapply_samples\u001b[0m\u001b[0;34m(\u001b[0m\u001b[0msamples\u001b[0m\u001b[0;34m)\u001b[0m\u001b[0;34m\u001b[0m\u001b[0m\n",
      "\u001b[0;32m/Users/jan-hendrikprinz/Studium/git/openpathsampling/openpathsampling/pathmover.pyc\u001b[0m in \u001b[0;36mmove\u001b[0;34m(self, globalstate)\u001b[0m\n\u001b[1;32m   1578\u001b[0m \u001b[0;34m\u001b[0m\u001b[0m\n\u001b[1;32m   1579\u001b[0m     \u001b[0;32mdef\u001b[0m \u001b[0mmove\u001b[0m\u001b[0;34m(\u001b[0m\u001b[0mself\u001b[0m\u001b[0;34m,\u001b[0m \u001b[0mglobalstate\u001b[0m\u001b[0;34m)\u001b[0m\u001b[0;34m:\u001b[0m\u001b[0;34m\u001b[0m\u001b[0m\n\u001b[0;32m-> 1580\u001b[0;31m         \u001b[0msubchange\u001b[0m \u001b[0;34m=\u001b[0m \u001b[0mself\u001b[0m\u001b[0;34m.\u001b[0m\u001b[0mmover\u001b[0m\u001b[0;34m.\u001b[0m\u001b[0mmove\u001b[0m\u001b[0;34m(\u001b[0m\u001b[0mglobalstate\u001b[0m\u001b[0;34m)\u001b[0m\u001b[0;34m\u001b[0m\u001b[0m\n\u001b[0m\u001b[1;32m   1581\u001b[0m         change = paths.SubPathMoveChange(\n\u001b[1;32m   1582\u001b[0m             \u001b[0msubchange\u001b[0m\u001b[0;34m=\u001b[0m\u001b[0msubchange\u001b[0m\u001b[0;34m,\u001b[0m\u001b[0;34m\u001b[0m\u001b[0m\n",
      "\u001b[0;32m/Users/jan-hendrikprinz/Studium/git/openpathsampling/openpathsampling/pathmover.pyc\u001b[0m in \u001b[0;36mmove\u001b[0;34m(self, globalstate)\u001b[0m\n\u001b[1;32m   1141\u001b[0m \u001b[0;34m\u001b[0m\u001b[0m\n\u001b[1;32m   1142\u001b[0m         path = paths.RandomChoicePathMoveChange(\n\u001b[0;32m-> 1143\u001b[0;31m             \u001b[0mmover\u001b[0m\u001b[0;34m.\u001b[0m\u001b[0mmove\u001b[0m\u001b[0;34m(\u001b[0m\u001b[0mglobalstate\u001b[0m\u001b[0;34m)\u001b[0m\u001b[0;34m,\u001b[0m\u001b[0;34m\u001b[0m\u001b[0m\n\u001b[0m\u001b[1;32m   1144\u001b[0m             \u001b[0mmover\u001b[0m\u001b[0;34m=\u001b[0m\u001b[0mself\u001b[0m\u001b[0;34m,\u001b[0m\u001b[0;34m\u001b[0m\u001b[0m\n\u001b[1;32m   1145\u001b[0m             \u001b[0mdetails\u001b[0m\u001b[0;34m=\u001b[0m\u001b[0mdetails\u001b[0m\u001b[0;34m\u001b[0m\u001b[0m\n",
      "\u001b[0;32m/Users/jan-hendrikprinz/Studium/git/openpathsampling/openpathsampling/pathmover.pyc\u001b[0m in \u001b[0;36mmove\u001b[0;34m(self, globalstate)\u001b[0m\n\u001b[1;32m   1425\u001b[0m                        )\n\u001b[1;32m   1426\u001b[0m             \u001b[0;31m# Run the sub mover\u001b[0m\u001b[0;34m\u001b[0m\u001b[0;34m\u001b[0m\u001b[0m\n\u001b[0;32m-> 1427\u001b[0;31m             \u001b[0mmovepath\u001b[0m \u001b[0;34m=\u001b[0m \u001b[0mmover\u001b[0m\u001b[0;34m.\u001b[0m\u001b[0mmove\u001b[0m\u001b[0;34m(\u001b[0m\u001b[0msubglobal\u001b[0m\u001b[0;34m)\u001b[0m\u001b[0;34m\u001b[0m\u001b[0m\n\u001b[0m\u001b[1;32m   1428\u001b[0m             \u001b[0msamples\u001b[0m \u001b[0;34m=\u001b[0m \u001b[0mmovepath\u001b[0m\u001b[0;34m.\u001b[0m\u001b[0mresults\u001b[0m\u001b[0;34m\u001b[0m\u001b[0m\n\u001b[1;32m   1429\u001b[0m             \u001b[0msubglobal\u001b[0m \u001b[0;34m=\u001b[0m \u001b[0msubglobal\u001b[0m\u001b[0;34m.\u001b[0m\u001b[0mapply_samples\u001b[0m\u001b[0;34m(\u001b[0m\u001b[0msamples\u001b[0m\u001b[0;34m)\u001b[0m\u001b[0;34m\u001b[0m\u001b[0m\n",
      "\u001b[0;32m/Users/jan-hendrikprinz/Studium/git/openpathsampling/openpathsampling/pathmover.pyc\u001b[0m in \u001b[0;36mmove\u001b[0;34m(self, globalstate)\u001b[0m\n\u001b[1;32m   1141\u001b[0m \u001b[0;34m\u001b[0m\u001b[0m\n\u001b[1;32m   1142\u001b[0m         path = paths.RandomChoicePathMoveChange(\n\u001b[0;32m-> 1143\u001b[0;31m             \u001b[0mmover\u001b[0m\u001b[0;34m.\u001b[0m\u001b[0mmove\u001b[0m\u001b[0;34m(\u001b[0m\u001b[0mglobalstate\u001b[0m\u001b[0;34m)\u001b[0m\u001b[0;34m,\u001b[0m\u001b[0;34m\u001b[0m\u001b[0m\n\u001b[0m\u001b[1;32m   1144\u001b[0m             \u001b[0mmover\u001b[0m\u001b[0;34m=\u001b[0m\u001b[0mself\u001b[0m\u001b[0;34m,\u001b[0m\u001b[0;34m\u001b[0m\u001b[0m\n\u001b[1;32m   1145\u001b[0m             \u001b[0mdetails\u001b[0m\u001b[0;34m=\u001b[0m\u001b[0mdetails\u001b[0m\u001b[0;34m\u001b[0m\u001b[0m\n",
      "\u001b[0;32m/Users/jan-hendrikprinz/Studium/git/openpathsampling/openpathsampling/pathmover.pyc\u001b[0m in \u001b[0;36mmove\u001b[0;34m(self, globalstate)\u001b[0m\n\u001b[1;32m    437\u001b[0m \u001b[0;34m\u001b[0m\u001b[0m\n\u001b[1;32m    438\u001b[0m         \u001b[0;31m# 3. pass these samples to the generator\u001b[0m\u001b[0;34m\u001b[0m\u001b[0;34m\u001b[0m\u001b[0m\n\u001b[0;32m--> 439\u001b[0;31m         \u001b[0mtrials\u001b[0m \u001b[0;34m=\u001b[0m \u001b[0mself\u001b[0m\u001b[0;34m(\u001b[0m\u001b[0;34m*\u001b[0m\u001b[0msamples\u001b[0m\u001b[0;34m)\u001b[0m\u001b[0;34m\u001b[0m\u001b[0m\n\u001b[0m\u001b[1;32m    440\u001b[0m \u001b[0;34m\u001b[0m\u001b[0m\n\u001b[1;32m    441\u001b[0m         \u001b[0;31m# 4. accept/reject\u001b[0m\u001b[0;34m\u001b[0m\u001b[0;34m\u001b[0m\u001b[0m\n",
      "\u001b[0;32m/Users/jan-hendrikprinz/Studium/git/openpathsampling/openpathsampling/pathmover.pyc\u001b[0m in \u001b[0;36m__call__\u001b[0;34m(self, trial)\u001b[0m\n\u001b[1;32m    506\u001b[0m         \u001b[0minitial_point\u001b[0m \u001b[0;34m=\u001b[0m \u001b[0mself\u001b[0m\u001b[0;34m.\u001b[0m\u001b[0mselector\u001b[0m\u001b[0;34m.\u001b[0m\u001b[0mpick\u001b[0m\u001b[0;34m(\u001b[0m\u001b[0minitial_trajectory\u001b[0m\u001b[0;34m)\u001b[0m\u001b[0;34m\u001b[0m\u001b[0m\n\u001b[1;32m    507\u001b[0m \u001b[0;34m\u001b[0m\u001b[0m\n\u001b[0;32m--> 508\u001b[0;31m         \u001b[0mtrial_point\u001b[0m \u001b[0;34m=\u001b[0m \u001b[0mself\u001b[0m\u001b[0;34m.\u001b[0m\u001b[0m_run\u001b[0m\u001b[0;34m(\u001b[0m\u001b[0minitial_point\u001b[0m\u001b[0;34m)\u001b[0m\u001b[0;34m\u001b[0m\u001b[0m\n\u001b[0m\u001b[1;32m    509\u001b[0m \u001b[0;34m\u001b[0m\u001b[0m\n\u001b[1;32m    510\u001b[0m         \u001b[0;31m# old_bias = initial_point.sum_bias / trial_point.sum_bias\u001b[0m\u001b[0;34m\u001b[0m\u001b[0;34m\u001b[0m\u001b[0m\n",
      "\u001b[0;32m/Users/jan-hendrikprinz/Studium/git/openpathsampling/openpathsampling/pathmover.pyc\u001b[0m in \u001b[0;36m_run\u001b[0;34m(self, shooting_point)\u001b[0m\n\u001b[1;32m    575\u001b[0m         \u001b[0;32melif\u001b[0m \u001b[0mself\u001b[0m\u001b[0;34m.\u001b[0m\u001b[0m_direction\u001b[0m \u001b[0;34m==\u001b[0m \u001b[0;34m\"backward\"\u001b[0m\u001b[0;34m:\u001b[0m\u001b[0;34m\u001b[0m\u001b[0m\n\u001b[1;32m    576\u001b[0m             trial_trajectory = self._make_backward_trajectory(\n\u001b[0;32m--> 577\u001b[0;31m                 \u001b[0mshooting_point\u001b[0m\u001b[0;34m.\u001b[0m\u001b[0mtrajectory\u001b[0m\u001b[0;34m,\u001b[0m \u001b[0mshooting_point\u001b[0m\u001b[0;34m.\u001b[0m\u001b[0mindex\u001b[0m\u001b[0;34m\u001b[0m\u001b[0m\n\u001b[0m\u001b[1;32m    578\u001b[0m             )\n\u001b[1;32m    579\u001b[0m         \u001b[0;32melse\u001b[0m\u001b[0;34m:\u001b[0m\u001b[0;34m\u001b[0m\u001b[0m\n",
      "\u001b[0;32m/Users/jan-hendrikprinz/Studium/git/openpathsampling/openpathsampling/pathmover.pyc\u001b[0m in \u001b[0;36m_make_backward_trajectory\u001b[0;34m(self, trajectory, shooting_index)\u001b[0m\n\u001b[1;32m    555\u001b[0m                                               ).can_prepend\n\u001b[1;32m    556\u001b[0m         partial_trajectory = self.engine.generate(initial_snapshot, \n\u001b[0;32m--> 557\u001b[0;31m                                                   running=[run_f])\n\u001b[0m\u001b[1;32m    558\u001b[0m         trial_trajectory = (partial_trajectory.reversed +\n\u001b[1;32m    559\u001b[0m                             trajectory[shooting_index + 1:])\n",
      "\u001b[0;32m/Users/jan-hendrikprinz/Studium/git/openpathsampling/openpathsampling/dynamics_engine.pyc\u001b[0m in \u001b[0;36mgenerate\u001b[0;34m(self, snapshot, running, direction)\u001b[0m\n\u001b[1;32m    281\u001b[0m \u001b[0;34m\u001b[0m\u001b[0m\n\u001b[1;32m    282\u001b[0m         \u001b[0;32mif\u001b[0m \u001b[0mdirection\u001b[0m \u001b[0;34m>\u001b[0m \u001b[0;36m0\u001b[0m\u001b[0;34m:\u001b[0m\u001b[0;34m\u001b[0m\u001b[0m\n\u001b[0;32m--> 283\u001b[0;31m             \u001b[0mself\u001b[0m\u001b[0;34m.\u001b[0m\u001b[0mcurrent_snapshot\u001b[0m \u001b[0;34m=\u001b[0m \u001b[0msnapshot\u001b[0m\u001b[0;34m\u001b[0m\u001b[0m\n\u001b[0m\u001b[1;32m    284\u001b[0m         \u001b[0;32melif\u001b[0m \u001b[0mdirection\u001b[0m \u001b[0;34m<\u001b[0m \u001b[0;36m0\u001b[0m\u001b[0;34m:\u001b[0m\u001b[0;34m\u001b[0m\u001b[0m\n\u001b[1;32m    285\u001b[0m             \u001b[0;31m# backward simulation needs reversed snapshots\u001b[0m\u001b[0;34m\u001b[0m\u001b[0;34m\u001b[0m\u001b[0m\n",
      "\u001b[0;32m/Users/jan-hendrikprinz/Studium/git/openpathsampling/openpathsampling/openmm_engine.pyc\u001b[0m in \u001b[0;36mcurrent_snapshot\u001b[0;34m(self, snapshot)\u001b[0m\n\u001b[1;32m    208\u001b[0m                 \u001b[0;32mif\u001b[0m \u001b[0mself\u001b[0m\u001b[0;34m.\u001b[0m\u001b[0m_current_snapshot\u001b[0m \u001b[0;32mis\u001b[0m \u001b[0mNone\u001b[0m \u001b[0;32mor\u001b[0m \u001b[0msnapshot\u001b[0m\u001b[0;34m.\u001b[0m\u001b[0mconfiguration\u001b[0m \u001b[0;32mis\u001b[0m \u001b[0;32mnot\u001b[0m \u001b[0mself\u001b[0m\u001b[0;34m.\u001b[0m\u001b[0m_current_snapshot\u001b[0m\u001b[0;34m.\u001b[0m\u001b[0mconfiguration\u001b[0m\u001b[0;34m:\u001b[0m\u001b[0;34m\u001b[0m\u001b[0m\n\u001b[1;32m    209\u001b[0m                     \u001b[0;31m# new snapshot has a different configuration so update\u001b[0m\u001b[0;34m\u001b[0m\u001b[0;34m\u001b[0m\u001b[0m\n\u001b[0;32m--> 210\u001b[0;31m                     \u001b[0mself\u001b[0m\u001b[0;34m.\u001b[0m\u001b[0msimulation\u001b[0m\u001b[0;34m.\u001b[0m\u001b[0mcontext\u001b[0m\u001b[0;34m.\u001b[0m\u001b[0msetPositions\u001b[0m\u001b[0;34m(\u001b[0m\u001b[0msnapshot\u001b[0m\u001b[0;34m.\u001b[0m\u001b[0mcoordinates\u001b[0m\u001b[0;34m)\u001b[0m\u001b[0;34m\u001b[0m\u001b[0m\n\u001b[0m\u001b[1;32m    211\u001b[0m \u001b[0;34m\u001b[0m\u001b[0m\n\u001b[1;32m    212\u001b[0m             \u001b[0;32mif\u001b[0m \u001b[0msnapshot\u001b[0m\u001b[0;34m.\u001b[0m\u001b[0mmomentum\u001b[0m \u001b[0;32mis\u001b[0m \u001b[0;32mnot\u001b[0m \u001b[0mNone\u001b[0m\u001b[0;34m:\u001b[0m\u001b[0;34m\u001b[0m\u001b[0m\n",
      "\u001b[0;31mAttributeError\u001b[0m: 'AbstractSnapshot' object has no attribute 'coordinates'"
     ]
    }
   ],
   "source": [
    "bootstrap.run(50)"
   ]
  },
  {
   "cell_type": "code",
   "execution_count": 43,
   "metadata": {
    "collapsed": false
   },
   "outputs": [
    {
     "data": {
      "text/plain": [
       "openpathsampling.snapshot.Snapshot"
      ]
     },
     "execution_count": 43,
     "metadata": {},
     "output_type": "execute_result"
    }
   ],
   "source": [
    "engine._current_snapshot"
   ]
  },
  {
   "cell_type": "markdown",
   "metadata": {},
   "source": [
    "Save all computed phi/psi values which depends on whether they have been needed before"
   ]
  },
  {
   "cell_type": "code",
   "execution_count": 29,
   "metadata": {
    "collapsed": true
   },
   "outputs": [],
   "source": [
    "storage.cvs.sync()"
   ]
  },
  {
   "cell_type": "markdown",
   "metadata": {},
   "source": [
    "Create an collectivevariable from a volume which is just 1 or 0 and can thus be stored for later analysis"
   ]
  },
  {
   "cell_type": "code",
   "execution_count": 30,
   "metadata": {
    "collapsed": true
   },
   "outputs": [],
   "source": [
    "op_inA = paths.CV_Volume('StateA', stateA)\n",
    "op_inB = paths.CV_Volume('StateB', stateB)\n",
    "op_notinAorB = paths.CV_Volume('StateX', ~ (stateA | stateB))"
   ]
  },
  {
   "cell_type": "markdown",
   "metadata": {},
   "source": [
    "Save the new collectivevariables"
   ]
  },
  {
   "cell_type": "code",
   "execution_count": 31,
   "metadata": {
    "collapsed": true
   },
   "outputs": [],
   "source": [
    "storage.save([op_inA, op_inB, op_notinAorB]);"
   ]
  },
  {
   "cell_type": "markdown",
   "metadata": {},
   "source": [
    "Compute the collectivevariable for all snapshots"
   ]
  },
  {
   "cell_type": "code",
   "execution_count": 32,
   "metadata": {
    "collapsed": true
   },
   "outputs": [],
   "source": [
    "psi(storage.snapshots.all());\n",
    "phi(storage.snapshots.all());"
   ]
  },
  {
   "cell_type": "code",
   "execution_count": 33,
   "metadata": {
    "collapsed": true
   },
   "outputs": [],
   "source": [
    "op_inA(storage.snapshots.all())\n",
    "op_inB(storage.snapshots.all())\n",
    "op_notinAorB(storage.snapshots.all());"
   ]
  },
  {
   "cell_type": "code",
   "execution_count": 34,
   "metadata": {
    "collapsed": true
   },
   "outputs": [],
   "source": [
    "storage.cvs.sync()\n",
    "storage.sync()"
   ]
  },
  {
   "cell_type": "code",
   "execution_count": 35,
   "metadata": {
    "collapsed": true
   },
   "outputs": [],
   "source": [
    "storage.close()"
   ]
  },
  {
   "cell_type": "code",
   "execution_count": 36,
   "metadata": {
    "collapsed": true
   },
   "outputs": [],
   "source": [
    "import openpathsampling as paths\n",
    "from openpathsampling.visualize import PathTreeBuilder\n",
    "from IPython.display import SVG\n",
    "import mdtraj\n",
    "import openpathsampling.storage as st"
   ]
  },
  {
   "cell_type": "code",
   "execution_count": 37,
   "metadata": {
    "collapsed": false
   },
   "outputs": [],
   "source": [
    "storage = st.AnalysisStorage('trajectory.nc')"
   ]
  },
  {
   "cell_type": "markdown",
   "metadata": {},
   "source": [
    "## Visualization"
   ]
  },
  {
   "cell_type": "markdown",
   "metadata": {},
   "source": [
    "Create a PathTree generator"
   ]
  },
  {
   "cell_type": "code",
   "execution_count": 38,
   "metadata": {
    "collapsed": true
   },
   "outputs": [],
   "source": [
    "tree = PathTreeBuilder(storage)"
   ]
  },
  {
   "cell_type": "markdown",
   "metadata": {},
   "source": [
    "Change the settings to show rejected pathways, mark OrderParaemters `stateA` and `stateX`, and show the 'psi' value as text inside of the boxes"
   ]
  },
  {
   "cell_type": "code",
   "execution_count": 39,
   "metadata": {
    "collapsed": false
   },
   "outputs": [
    {
     "ename": "IndexError",
     "evalue": "list index out of range",
     "output_type": "error",
     "traceback": [
      "\u001b[0;31m---------------------------------------------------------------------------\u001b[0m",
      "\u001b[0;31mIndexError\u001b[0m                                Traceback (most recent call last)",
      "\u001b[0;32m<ipython-input-39-ba41d89dfa73>\u001b[0m in \u001b[0;36m<module>\u001b[0;34m()\u001b[0m\n\u001b[1;32m      6\u001b[0m \u001b[0mtree\u001b[0m\u001b[0;34m.\u001b[0m\u001b[0mop\u001b[0m \u001b[0;34m=\u001b[0m \u001b[0;32mlambda\u001b[0m \u001b[0msnap\u001b[0m \u001b[0;34m:\u001b[0m \u001b[0msnap\u001b[0m\u001b[0;34m.\u001b[0m\u001b[0mconfiguration\u001b[0m\u001b[0;34m.\u001b[0m\u001b[0midx\u001b[0m\u001b[0;34m(\u001b[0m\u001b[0mstorage\u001b[0m\u001b[0;34m.\u001b[0m\u001b[0mconfigurations\u001b[0m\u001b[0;34m)\u001b[0m\u001b[0;34m\u001b[0m\u001b[0m\n\u001b[1;32m      7\u001b[0m \u001b[0msamps\u001b[0m \u001b[0;34m=\u001b[0m \u001b[0mtree\u001b[0m\u001b[0;34m.\u001b[0m\u001b[0mconstruct_heritage\u001b[0m\u001b[0;34m(\u001b[0m\u001b[0mstorage\u001b[0m\u001b[0;34m.\u001b[0m\u001b[0msamples\u001b[0m\u001b[0;34m.\u001b[0m\u001b[0mlast\u001b[0m\u001b[0;34m)\u001b[0m\u001b[0;34m\u001b[0m\u001b[0m\n\u001b[0;32m----> 8\u001b[0;31m \u001b[0mtree\u001b[0m\u001b[0;34m.\u001b[0m\u001b[0mfrom_samples\u001b[0m\u001b[0;34m(\u001b[0m\u001b[0msamps\u001b[0m\u001b[0;34m)\u001b[0m\u001b[0;34m\u001b[0m\u001b[0m\n\u001b[0m\u001b[1;32m      9\u001b[0m \u001b[0;31m#for sset in storage.samplesets:\u001b[0m\u001b[0;34m\u001b[0m\u001b[0;34m\u001b[0m\u001b[0m\n\u001b[1;32m     10\u001b[0m \u001b[0;31m#    print sset.movepath\u001b[0m\u001b[0;34m\u001b[0m\u001b[0;34m\u001b[0m\u001b[0m\n",
      "\u001b[0;32m/Users/jan-hendrikprinz/Studium/git/openpathsampling/openpathsampling/visualize.pyc\u001b[0m in \u001b[0;36mfrom_samples\u001b[0;34m(self, samples, clear)\u001b[0m\n\u001b[1;32m    989\u001b[0m                 \u001b[0mnew_traj\u001b[0m \u001b[0;34m=\u001b[0m \u001b[0msample\u001b[0m\u001b[0;34m.\u001b[0m\u001b[0mdetails\u001b[0m\u001b[0;34m.\u001b[0m\u001b[0mtrial_point\u001b[0m\u001b[0;34m.\u001b[0m\u001b[0mtrajectory\u001b[0m\u001b[0;34m\u001b[0m\u001b[0m\n\u001b[1;32m    990\u001b[0m                 \u001b[0mnew_index\u001b[0m \u001b[0;34m=\u001b[0m \u001b[0msample\u001b[0m\u001b[0;34m.\u001b[0m\u001b[0mdetails\u001b[0m\u001b[0;34m.\u001b[0m\u001b[0mtrial_point\u001b[0m\u001b[0;34m.\u001b[0m\u001b[0mindex\u001b[0m\u001b[0;34m\u001b[0m\u001b[0m\n\u001b[0;32m--> 991\u001b[0;31m                 \u001b[0mnew_conf\u001b[0m \u001b[0;34m=\u001b[0m \u001b[0mnew_traj\u001b[0m\u001b[0;34m[\u001b[0m\u001b[0mnew_index\u001b[0m\u001b[0;34m]\u001b[0m\u001b[0;34m\u001b[0m\u001b[0m\n\u001b[0m\u001b[1;32m    992\u001b[0m \u001b[0;34m\u001b[0m\u001b[0m\n\u001b[1;32m    993\u001b[0m                 \u001b[0;31m# print type(old_conf), self.storage.snapshots.index.get(old_conf, None)\u001b[0m\u001b[0;34m\u001b[0m\u001b[0;34m\u001b[0m\u001b[0m\n",
      "\u001b[0;32m/Users/jan-hendrikprinz/Studium/git/openpathsampling/openpathsampling/trajectory.pyc\u001b[0m in \u001b[0;36m__getitem__\u001b[0;34m(self, index)\u001b[0m\n\u001b[1;32m    268\u001b[0m             \u001b[0mret\u001b[0m \u001b[0;34m=\u001b[0m \u001b[0;34m[\u001b[0m\u001b[0mlist\u001b[0m\u001b[0;34m.\u001b[0m\u001b[0m__getitem__\u001b[0m\u001b[0;34m(\u001b[0m\u001b[0mself\u001b[0m\u001b[0;34m,\u001b[0m \u001b[0mi\u001b[0m\u001b[0;34m)\u001b[0m \u001b[0;32mfor\u001b[0m \u001b[0mi\u001b[0m \u001b[0;32min\u001b[0m \u001b[0mindex\u001b[0m\u001b[0;34m]\u001b[0m\u001b[0;34m\u001b[0m\u001b[0m\n\u001b[1;32m    269\u001b[0m         \u001b[0;32melse\u001b[0m\u001b[0;34m:\u001b[0m\u001b[0;34m\u001b[0m\u001b[0m\n\u001b[0;32m--> 270\u001b[0;31m             \u001b[0mret\u001b[0m \u001b[0;34m=\u001b[0m \u001b[0mlist\u001b[0m\u001b[0;34m.\u001b[0m\u001b[0m__getitem__\u001b[0m\u001b[0;34m(\u001b[0m\u001b[0mself\u001b[0m\u001b[0;34m,\u001b[0m \u001b[0mindex\u001b[0m\u001b[0;34m)\u001b[0m\u001b[0;34m\u001b[0m\u001b[0m\n\u001b[0m\u001b[1;32m    271\u001b[0m \u001b[0;34m\u001b[0m\u001b[0m\n\u001b[1;32m    272\u001b[0m         \u001b[0;32mif\u001b[0m \u001b[0mtype\u001b[0m\u001b[0;34m(\u001b[0m\u001b[0mret\u001b[0m\u001b[0;34m)\u001b[0m \u001b[0;32mis\u001b[0m \u001b[0mlist\u001b[0m\u001b[0;34m:\u001b[0m\u001b[0;34m\u001b[0m\u001b[0m\n",
      "\u001b[0;31mIndexError\u001b[0m: list index out of range"
     ]
    }
   ],
   "source": [
    "tree.rejected = False\n",
    "tree.states = [ ('orange',storage.cvs[2])]\n",
    "# Some ideas for collectivevariables to visualize\n",
    "tree.op = lambda snap : 'B' if snap.reversed else 'F'\n",
    "tree.op = lambda snap : int(psi(snap)[0]/3.1415926 * 180)\n",
    "tree.op = lambda snap : snap.configuration.idx(storage.configurations)\n",
    "samps = tree.construct_heritage(storage.samples.last)\n",
    "tree.from_samples(samps)\n",
    "#for sset in storage.samplesets:\n",
    "#    print sset.movepath\n",
    "    \n",
    "#for s in samps:\n",
    "#    print (s, s.ensemble.idx[storage], s.replica, len(tree.construct_heritage(s)), s.mover.__class__.__name__)"
   ]
  },
  {
   "cell_type": "markdown",
   "metadata": {},
   "source": [
    "Render the tree"
   ]
  },
  {
   "cell_type": "code",
   "execution_count": null,
   "metadata": {
    "collapsed": false,
    "scrolled": true
   },
   "outputs": [],
   "source": [
    "view = tree.renderer\n",
    "view.zoom = 1.1\n",
    "view.scale_y = 24\n",
    "view.scale_x = 20\n",
    "view.font_size = 0.35\n",
    "SVG(view.to_svg())"
   ]
  },
  {
   "cell_type": "markdown",
   "metadata": {},
   "source": [
    "An alternate view which is similar to the standard way of plotting"
   ]
  },
  {
   "cell_type": "code",
   "execution_count": null,
   "metadata": {
    "collapsed": false,
    "scrolled": true
   },
   "outputs": [],
   "source": [
    "tree.rejected = False\n",
    "tree.states = []\n",
    "tree.op = None\n",
    "tree.from_samples(samps)\n",
    "view = tree.renderer\n",
    "view.zoom = 1.1\n",
    "view.horizontal_gap = -0.01\n",
    "view.scale_y = 15\n",
    "view.scale_x = 24\n",
    "view.font_size = 0.5\n",
    "view.font_family = 'Times'\n",
    "SVG(view.to_svg())"
   ]
  },
  {
   "cell_type": "markdown",
   "metadata": {},
   "source": [
    "### Phi/Psi Plots"
   ]
  },
  {
   "cell_type": "code",
   "execution_count": 40,
   "metadata": {
    "collapsed": true
   },
   "outputs": [],
   "source": [
    "# Imports for plotting\n",
    "%matplotlib inline\n",
    "import matplotlib\n",
    "import matplotlib.pyplot as plt\n",
    "import matplotlib.pylab as pylab\n",
    "from matplotlib.legend_handler import HandlerLine2D"
   ]
  },
  {
   "cell_type": "markdown",
   "metadata": {},
   "source": [
    "Make sure that all phi/psi values have been computed!"
   ]
  },
  {
   "cell_type": "code",
   "execution_count": 41,
   "metadata": {
    "collapsed": true
   },
   "outputs": [],
   "source": [
    "psi = storage.cvs['psi']\n",
    "phi = storage.cvs['phi']\n",
    "opA = storage.cvs['StateA']"
   ]
  },
  {
   "cell_type": "code",
   "execution_count": 42,
   "metadata": {
    "collapsed": false
   },
   "outputs": [
    {
     "data": {
      "image/png": "[encoded data removed]",
      "text/plain": [
       "<matplotlib.figure.Figure at 0x11b9a2bd0>"
      ]
     },
     "metadata": {},
     "output_type": "display_data"
    }
   ],
   "source": [
    "plt.figure(figsize=(8, 8))\n",
    "\n",
    "for traj in storage.trajectories[1:]:\n",
    "    phi_angles = np.array(phi(traj)).flatten() / deg\n",
    "    psi_angles = np.array(psi(traj)).flatten() / deg\n",
    "    plt.plot(phi_angles, psi_angles, 'ro', linewidth=1);\n",
    "    \n",
    "plt.xlim(-180, 180);\n",
    "plt.ylim(-180, 180);"
   ]
  },
  {
   "cell_type": "code",
   "execution_count": 43,
   "metadata": {
    "collapsed": false
   },
   "outputs": [
    {
     "data": {
      "image/png": "[encoded data removed]",
      "text/plain": [
       "<matplotlib.figure.Figure at 0x11bcefd50>"
      ]
     },
     "metadata": {},
     "output_type": "display_data"
    }
   ],
   "source": [
    "plt.figure(figsize=(8, 8))\n",
    "\n",
    "\n",
    "for traj in storage.trajectories[1:]:\n",
    "    phi_angles = np.array(phi(traj)).flatten() / deg\n",
    "    psi_angles = np.array(psi(traj)).flatten() / deg\n",
    "    plt.plot(phi_angles, psi_angles, 'k-', linewidth=1);\n",
    "    for idx, snapshot in enumerate(traj):\n",
    "        if opA(snapshot):\n",
    "            plt.plot(phi_angles[idx], psi_angles[idx], 'bo', linewidth=1);\n",
    "        \n",
    "plt.xlim(-180, 180);\n",
    "plt.ylim(-180, 180);"
   ]
  },
  {
   "cell_type": "code",
   "execution_count": null,
   "metadata": {
    "collapsed": true
   },
   "outputs": [],
   "source": []
  },
  {
   "cell_type": "code",
   "execution_count": null,
   "metadata": {
    "collapsed": true
   },
   "outputs": [],
   "source": []
  }
 ],
 "metadata": {
  "kernelspec": {
   "display_name": "Python 2",
   "language": "python",
   "name": "python2"
  },
  "language_info": {
   "codemirror_mode": {
    "name": "ipython",
    "version": 2
   },
   "file_extension": ".py",
   "mimetype": "text/x-python",
   "name": "python",
   "nbconvert_exporter": "python",
   "pygments_lexer": "ipython2",
   "version": "2.7.10"
  }
 },
 "nbformat": 4,
 "nbformat_minor": 0
}

{
 "cells": [
  {
   "cell_type": "markdown",
   "metadata": {},
   "source": [
    "# OPENTIS\n",
    "## An Example with Alanine"
   ]
  },
  {
   "cell_type": "markdown",
   "metadata": {},
   "source": [
    "Import Modules"
   ]
  },
  {
   "cell_type": "code",
   "execution_count": 1,
   "metadata": {
    "collapsed": false
   },
   "outputs": [],
   "source": [
    "import numpy as np\n",
    "import mdtraj as md\n",
    "import pandas as pd\n",
    "import simtk.openmm as mm\n",
    "from simtk.openmm import app\n",
    "from simtk import unit\n",
    " \n",
    "from openpathsampling.visualize import PathTreeBuilder\n",
    "from IPython.display import SVG\n",
    "\n",
    "import openpathsampling as paths"
   ]
  },
  {
   "cell_type": "markdown",
   "metadata": {},
   "source": [
    "Radians to Degree conversion"
   ]
  },
  {
   "cell_type": "code",
   "execution_count": 2,
   "metadata": {
    "collapsed": true
   },
   "outputs": [],
   "source": [
    "deg = 3.14159265 / 180.0"
   ]
  },
  {
   "cell_type": "markdown",
   "metadata": {},
   "source": [
    "Create an AlanineOpenMMSimulator for demonstration purposes"
   ]
  },
  {
   "cell_type": "markdown",
   "metadata": {},
   "source": [
    "### Set simulation options and create a simulator object"
   ]
  },
  {
   "cell_type": "code",
   "execution_count": 3,
   "metadata": {
    "collapsed": true
   },
   "outputs": [],
   "source": [
    "template = paths.tools.snapshot_from_pdb(\"../data/Alanine_solvated.pdb\")"
   ]
  },
  {
   "cell_type": "code",
   "execution_count": 4,
   "metadata": {
    "collapsed": false
   },
   "outputs": [],
   "source": [
    "storage = paths.Storage(filename=\"trajectory.nc\", template=template, mode='w')"
   ]
  },
  {
   "cell_type": "markdown",
   "metadata": {},
   "source": [
    "Set up the OpenMM simulation"
   ]
  },
  {
   "cell_type": "code",
   "execution_count": 5,
   "metadata": {
    "collapsed": true
   },
   "outputs": [],
   "source": [
    "topology = paths.tools.to_openmm_topology(template)            \n",
    "\n",
    "# Generated using OpenMM Script Builder\n",
    "# http://builder.openmm.org\n",
    "\n",
    "forcefield = app.ForceField(\n",
    "    'amber96.xml',  # solute FF\n",
    "    'tip3p.xml'     # solvent FF\n",
    ")\n",
    "\n",
    "# OpenMM System\n",
    "system = forcefield.createSystem(\n",
    "    topology, \n",
    "    nonbondedMethod=app.PME, \n",
    "    nonbondedCutoff=1.0*unit.nanometers, \n",
    "    constraints=app.HBonds, \n",
    "    rigidWater=True, \n",
    "    ewaldErrorTolerance=0.0005\n",
    ")\n",
    "\n",
    "# OpenMM Integrator\n",
    "integrator = mm.LangevinIntegrator(\n",
    "    300*unit.kelvin, \n",
    "    1.0/unit.picoseconds, \n",
    "    2.0*unit.femtoseconds\n",
    ")\n",
    "integrator.setConstraintTolerance(0.00001)\n",
    "\n",
    "# Engine options\n",
    "options = {\n",
    "    'nsteps_per_frame': 10\n",
    "}\n",
    "\n",
    "engine = paths.OpenMMEngine(\n",
    "    template, \n",
    "    system,\n",
    "    integrator,\n",
    "    options\n",
    ")"
   ]
  },
  {
   "cell_type": "code",
   "execution_count": 6,
   "metadata": {
    "collapsed": false
   },
   "outputs": [
    {
     "data": {
      "text/plain": [
       "(store.engines[DynamicsEngine], 11, 0)"
      ]
     },
     "execution_count": 6,
     "metadata": {},
     "output_type": "execute_result"
    }
   ],
   "source": [
    "storage.save(engine)"
   ]
  },
  {
   "cell_type": "code",
   "execution_count": 7,
   "metadata": {
    "collapsed": true
   },
   "outputs": [],
   "source": [
    "pe = engine.create_cv_potential_energy()"
   ]
  },
  {
   "cell_type": "code",
   "execution_count": 11,
   "metadata": {
    "collapsed": false
   },
   "outputs": [
    {
     "data": {
      "text/plain": [
       "(store.cvs[CollectiveVariable], 6, 0)"
      ]
     },
     "execution_count": 11,
     "metadata": {},
     "output_type": "execute_result"
    }
   ],
   "source": [
    "storage.save(pe)"
   ]
  },
  {
   "cell_type": "markdown",
   "metadata": {},
   "source": [
    "And save the storage in a separate variable for convenience"
   ]
  },
  {
   "cell_type": "code",
   "execution_count": 13,
   "metadata": {
    "collapsed": false
   },
   "outputs": [],
   "source": [
    "fnc = storage.vars['cvs_json'][0]"
   ]
  },
  {
   "cell_type": "code",
   "execution_count": 15,
   "metadata": {
    "collapsed": false
   },
   "outputs": [],
   "source": [
    "storage.set_caching_mode('lowmemory')"
   ]
  },
  {
   "cell_type": "code",
   "execution_count": 16,
   "metadata": {
    "collapsed": true
   },
   "outputs": [],
   "source": [
    "engine.add_auto_cv(pe)"
   ]
  },
  {
   "cell_type": "markdown",
   "metadata": {},
   "source": [
    "### Order Parameters"
   ]
  },
  {
   "cell_type": "markdown",
   "metadata": {},
   "source": [
    "this generates an order parameter (callable) object named psi (so if we call `psi(trajectory)` we get a list of the values of psi for each frame in the trajectory). This particular order parameter uses mdtraj's compute_dihedrals function, with the atoms in psi_atoms"
   ]
  },
  {
   "cell_type": "code",
   "execution_count": 17,
   "metadata": {
    "collapsed": false
   },
   "outputs": [],
   "source": [
    "psi_atoms = [6,8,14,16]\n",
    "psi = paths.CV_MDTraj_Function(\"psi\", md.compute_dihedrals, indices=[psi_atoms])\n",
    "\n",
    "phi_atoms = [4,6,8,14]\n",
    "phi = paths.CV_MDTraj_Function(\"phi\", md.compute_dihedrals, indices=[phi_atoms])"
   ]
  },
  {
   "cell_type": "code",
   "execution_count": 18,
   "metadata": {
    "collapsed": false
   },
   "outputs": [],
   "source": [
    "def pp2_fnc(item, psi, phi):\n",
    "    return psi(item)**2 + phi(item)**2\n",
    "\n",
    "pp2 = paths.CV_Function('psi2', pp2_fnc, psi=psi, phi=phi)"
   ]
  },
  {
   "cell_type": "code",
   "execution_count": 19,
   "metadata": {
    "collapsed": false
   },
   "outputs": [
    {
     "data": {
      "text/plain": [
       "(store.cvs[CollectiveVariable], 6, 1)"
      ]
     },
     "execution_count": 19,
     "metadata": {},
     "output_type": "execute_result"
    }
   ],
   "source": [
    "storage.save(pp2)"
   ]
  },
  {
   "cell_type": "markdown",
   "metadata": {},
   "source": [
    "### Volumes"
   ]
  },
  {
   "cell_type": "markdown",
   "metadata": {},
   "source": [
    "This creates two states using a one-dimensional order parameter (called _Lambda_ in TIS terminology). A snapshot is in the State as long as the order parameter is with specific bounds. \n",
    "\n",
    "StateA is $\\psi \\in [-120, -30]$ and StateB is $\\psi \\in [100, 180]$"
   ]
  },
  {
   "cell_type": "code",
   "execution_count": 20,
   "metadata": {
    "collapsed": true
   },
   "outputs": [],
   "source": [
    "stateA = paths.CVRangeVolumePeriodic(\n",
    "    collectivevariable=psi, \n",
    "    lambda_min=-120.0*deg, \n",
    "    lambda_max=-30.0*deg, \n",
    "    period_min=-180.0*deg, \n",
    "    period_max=+180.0*deg\n",
    ")\n",
    "stateB = paths.CVRangeVolumePeriodic(\n",
    "    collectivevariable=psi, \n",
    "    lambda_min=100.0*deg, \n",
    "    lambda_max=180.0*deg, \n",
    "    period_min=-180.0*deg, \n",
    "    period_max=+180.0*deg\n",
    ")"
   ]
  },
  {
   "cell_type": "markdown",
   "metadata": {},
   "source": [
    "Now do the same for a set of lambda ranges to produce nested volumes."
   ]
  },
  {
   "cell_type": "code",
   "execution_count": 21,
   "metadata": {
    "collapsed": false
   },
   "outputs": [],
   "source": [
    "minima = map(deg.__mul__, [-125, -135, -140, -142.5, -145.0, -147.0, -150.0])\n",
    "maxima = map(deg.__mul__, [-25.0, -21.0, -18.5, -17.0, -15.0, -10.0, 0.0])\n",
    "\n",
    "volume_set = paths.VolumeFactory.CVRangeVolumePeriodicSet(psi, minima, maxima, -180.0*deg, +180.0*deg)"
   ]
  },
  {
   "cell_type": "markdown",
   "metadata": {},
   "source": [
    "Tag the two states for simpler access later"
   ]
  },
  {
   "cell_type": "code",
   "execution_count": 22,
   "metadata": {
    "collapsed": false
   },
   "outputs": [],
   "source": [
    "storage.tag['stateA'] = stateA\n",
    "storage.tag['stateB'] = stateB\n",
    "storage.tag['states'] = [stateA, stateB]"
   ]
  },
  {
   "cell_type": "markdown",
   "metadata": {},
   "source": [
    "### Ensembles"
   ]
  },
  {
   "cell_type": "markdown",
   "metadata": {},
   "source": [
    "Now do this automatically for all ensembles"
   ]
  },
  {
   "cell_type": "code",
   "execution_count": 23,
   "metadata": {
    "collapsed": true
   },
   "outputs": [],
   "source": [
    "interface0 = volume_set[0]\n",
    "interface_set = paths.EnsembleFactory.TISEnsembleSet(stateA, stateA | stateB, volume_set, psi)"
   ]
  },
  {
   "cell_type": "markdown",
   "metadata": {},
   "source": [
    "Give each interface a name"
   ]
  },
  {
   "cell_type": "code",
   "execution_count": 24,
   "metadata": {
    "collapsed": false
   },
   "outputs": [],
   "source": [
    "for no, interface in enumerate(interface_set):\n",
    "    interface.name = 'Interface ' + str(no)"
   ]
  },
  {
   "cell_type": "markdown",
   "metadata": {},
   "source": [
    "and save all of these"
   ]
  },
  {
   "cell_type": "code",
   "execution_count": 25,
   "metadata": {
    "collapsed": false
   },
   "outputs": [],
   "source": [
    "map(storage.ensembles.save, interface_set);"
   ]
  },
  {
   "cell_type": "markdown",
   "metadata": {},
   "source": [
    "And create a special ensemble, that will create a first trajectory in the innermost TIS ensemble independent from where we start"
   ]
  },
  {
   "cell_type": "markdown",
   "metadata": {},
   "source": [
    "The idea is to describe a trajectory type by a sequence of positions. First can be outside of stateA or not, then be inside stateA, etc..."
   ]
  },
  {
   "cell_type": "code",
   "execution_count": 26,
   "metadata": {
    "collapsed": false
   },
   "outputs": [],
   "source": [
    "inA = paths.AllInXEnsemble(stateA)\n",
    "outA = paths.AllOutXEnsemble(stateA)\n",
    "\n",
    "inI0 = paths.AllInXEnsemble(interface0)\n",
    "outI0 = paths.AllOutXEnsemble(interface0)\n",
    "\n",
    "first_traj_ensemble = paths.SequentialEnsemble([\n",
    "    paths.OptionalEnsemble(outA),\n",
    "    inA,\n",
    "    paths.OptionalEnsemble(outA & inI0),\n",
    "    paths.OptionalEnsemble(inI0),\n",
    "    outI0,\n",
    "    paths.OptionalEnsemble(outA),\n",
    "    paths.SingleFrameEnsemble(inA)\n",
    "])"
   ]
  },
  {
   "cell_type": "markdown",
   "metadata": {},
   "source": [
    "### start path generation"
   ]
  },
  {
   "cell_type": "markdown",
   "metadata": {},
   "source": [
    "so lets try and see if we can generate a first path"
   ]
  },
  {
   "cell_type": "markdown",
   "metadata": {},
   "source": [
    "load the initial snapshot (although we still have it) and generate using the Alanine simulator. The second option specifies a function : trajectory -> bool that keeps the simulation running as long as it is true. Our goal was to generate a path that belongs to a specific ensemble, so we use `forward` to determine if it makes sense to keep running or if the result cannot belong to the ensemble anymore."
   ]
  },
  {
   "cell_type": "code",
   "execution_count": 27,
   "metadata": {
    "collapsed": false
   },
   "outputs": [],
   "source": [
    "snapshot = storage.template\n",
    "total_path = engine.generate(\n",
    "    snapshot= snapshot, \n",
    "    running = [first_traj_ensemble.can_append]\n",
    ")"
   ]
  },
  {
   "cell_type": "markdown",
   "metadata": {},
   "source": [
    "Show the length"
   ]
  },
  {
   "cell_type": "code",
   "execution_count": 28,
   "metadata": {
    "collapsed": false
   },
   "outputs": [
    {
     "name": "stdout",
     "output_type": "stream",
     "text": [
      "Total trajectory length:  125\n"
     ]
    }
   ],
   "source": [
    "print \"Total trajectory length: \", len(total_path)"
   ]
  },
  {
   "cell_type": "markdown",
   "metadata": {},
   "source": [
    "And save the trajetory completely"
   ]
  },
  {
   "cell_type": "code",
   "execution_count": 29,
   "metadata": {
    "collapsed": false
   },
   "outputs": [],
   "source": [
    "storage.save(total_path);"
   ]
  },
  {
   "cell_type": "code",
   "execution_count": 30,
   "metadata": {
    "collapsed": true
   },
   "outputs": [],
   "source": [
    "storage.tag['first_path'] = total_path"
   ]
  },
  {
   "cell_type": "markdown",
   "metadata": {},
   "source": [
    "Split the trajectory into parts that belong to the TIS ensemble (not the one we generated)"
   ]
  },
  {
   "cell_type": "code",
   "execution_count": 31,
   "metadata": {
    "collapsed": false
   },
   "outputs": [
    {
     "name": "stdout",
     "output_type": "stream",
     "text": [
      "Traj in first_traj_ensemble? (should be) True\n",
      "Traj in TIS ensemble? (probably not) False\n",
      "Number of segments in TIS ensemble:  1\n",
      "Length of each segment:\n",
      "  seg[0]: 12\n"
     ]
    }
   ],
   "source": [
    "interface0_ensemble = interface_set[0]\n",
    "segments = interface0_ensemble.split(total_path)\n",
    "\n",
    "print \"Traj in first_traj_ensemble? (should be)\", \n",
    "print first_traj_ensemble(total_path)\n",
    "\n",
    "print \"Traj in TIS ensemble? (probably not)\", \n",
    "print interface0_ensemble(total_path)\n",
    "\n",
    "\n",
    "print \"Number of segments in TIS ensemble: \", len(segments)\n",
    "if len(segments):\n",
    "    print \"Length of each segment:\"\n",
    "    for i in range(len(segments)):\n",
    "        print \"  seg[{0}]: {1}\".format(i, len(segments[i]))"
   ]
  },
  {
   "cell_type": "markdown",
   "metadata": {},
   "source": [
    "Show some results and check if this worked"
   ]
  },
  {
   "cell_type": "code",
   "execution_count": 32,
   "metadata": {
    "collapsed": false
   },
   "outputs": [
    {
     "data": {
      "text/html": [
       "<div>\n",
       "<table border=\"1\" class=\"dataframe\">\n",
       "  <thead>\n",
       "    <tr style=\"text-align: right;\">\n",
       "      <th></th>\n",
       "      <th>phi</th>\n",
       "      <th>psi</th>\n",
       "      <th>stateA</th>\n",
       "      <th>interface0</th>\n",
       "      <th>stateB</th>\n",
       "      <th>appendable</th>\n",
       "    </tr>\n",
       "  </thead>\n",
       "  <tbody>\n",
       "    <tr>\n",
       "      <th>0</th>\n",
       "      <td>-80.208455</td>\n",
       "      <td>-10.277032</td>\n",
       "      <td>False</td>\n",
       "      <td>False</td>\n",
       "      <td>False</td>\n",
       "      <td>True</td>\n",
       "    </tr>\n",
       "    <tr>\n",
       "      <th>1</th>\n",
       "      <td>-83.359877</td>\n",
       "      <td>-10.959804</td>\n",
       "      <td>False</td>\n",
       "      <td>False</td>\n",
       "      <td>False</td>\n",
       "      <td>True</td>\n",
       "    </tr>\n",
       "    <tr>\n",
       "      <th>2</th>\n",
       "      <td>-82.469378</td>\n",
       "      <td>-11.099157</td>\n",
       "      <td>False</td>\n",
       "      <td>False</td>\n",
       "      <td>False</td>\n",
       "      <td>True</td>\n",
       "    </tr>\n",
       "    <tr>\n",
       "      <th>122</th>\n",
       "      <td>-61.408100</td>\n",
       "      <td>-22.445791</td>\n",
       "      <td>False</td>\n",
       "      <td>False</td>\n",
       "      <td>False</td>\n",
       "      <td>True</td>\n",
       "    </tr>\n",
       "    <tr>\n",
       "      <th>123</th>\n",
       "      <td>-58.865828</td>\n",
       "      <td>-22.128010</td>\n",
       "      <td>False</td>\n",
       "      <td>False</td>\n",
       "      <td>False</td>\n",
       "      <td>True</td>\n",
       "    </tr>\n",
       "    <tr>\n",
       "      <th>124</th>\n",
       "      <td>-59.811400</td>\n",
       "      <td>-30.471434</td>\n",
       "      <td>True</td>\n",
       "      <td>True</td>\n",
       "      <td>False</td>\n",
       "      <td>False</td>\n",
       "    </tr>\n",
       "  </tbody>\n",
       "</table>\n",
       "</div>"
      ],
      "text/plain": [
       "           phi        psi stateA interface0 stateB appendable\n",
       "0   -80.208455 -10.277032  False      False  False       True\n",
       "1   -83.359877 -10.959804  False      False  False       True\n",
       "2   -82.469378 -11.099157  False      False  False       True\n",
       "122 -61.408100 -22.445791  False      False  False       True\n",
       "123 -58.865828 -22.128010  False      False  False       True\n",
       "124 -59.811400 -30.471434   True       True  False      False"
      ]
     },
     "execution_count": 32,
     "metadata": {},
     "output_type": "execute_result"
    }
   ],
   "source": [
    "data = []\n",
    "for frame in total_path:\n",
    "    data.append((phi(frame) / deg, psi(frame)/deg, stateA(frame), interface0(frame), stateB(frame), first_traj_ensemble.can_append(total_path[slice(0,total_path.index(frame)+1)])))\n",
    "    \n",
    "dataframe = pd.DataFrame(data, columns=['phi', 'psi', 'stateA', 'interface0', 'stateB', 'appendable'])\n",
    "dataframe[[0,1,2,3,4,5]].ix[[0,1,2,len(dataframe)-3,len(dataframe)-2,len(dataframe)-1]]"
   ]
  },
  {
   "cell_type": "code",
   "execution_count": 33,
   "metadata": {
    "collapsed": false
   },
   "outputs": [
    {
     "name": "stdout",
     "output_type": "stream",
     "text": [
      "Do our segments satisfy the ensemble? True\n"
     ]
    }
   ],
   "source": [
    "print \"Do our segments satisfy the ensemble?\",\n",
    "for seg in segments:\n",
    "    print interface0_ensemble(seg),"
   ]
  },
  {
   "cell_type": "code",
   "execution_count": 34,
   "metadata": {
    "collapsed": false
   },
   "outputs": [
    {
     "data": {
      "text/html": [
       "<div>\n",
       "<table border=\"1\" class=\"dataframe\">\n",
       "  <thead>\n",
       "    <tr style=\"text-align: right;\">\n",
       "      <th></th>\n",
       "      <th>phi</th>\n",
       "      <th>psi</th>\n",
       "      <th>stateA</th>\n",
       "      <th>interface0</th>\n",
       "      <th>stateB</th>\n",
       "      <th>appendable</th>\n",
       "    </tr>\n",
       "  </thead>\n",
       "  <tbody>\n",
       "    <tr>\n",
       "      <th>0</th>\n",
       "      <td>-49.262248</td>\n",
       "      <td>-35.197314</td>\n",
       "      <td>True</td>\n",
       "      <td>True</td>\n",
       "      <td>False</td>\n",
       "      <td>True</td>\n",
       "    </tr>\n",
       "    <tr>\n",
       "      <th>1</th>\n",
       "      <td>-68.083182</td>\n",
       "      <td>-28.254396</td>\n",
       "      <td>False</td>\n",
       "      <td>True</td>\n",
       "      <td>False</td>\n",
       "      <td>True</td>\n",
       "    </tr>\n",
       "    <tr>\n",
       "      <th>2</th>\n",
       "      <td>-68.436638</td>\n",
       "      <td>-29.002592</td>\n",
       "      <td>False</td>\n",
       "      <td>True</td>\n",
       "      <td>False</td>\n",
       "      <td>True</td>\n",
       "    </tr>\n",
       "    <tr>\n",
       "      <th>3</th>\n",
       "      <td>-70.323184</td>\n",
       "      <td>-17.578648</td>\n",
       "      <td>False</td>\n",
       "      <td>False</td>\n",
       "      <td>False</td>\n",
       "      <td>True</td>\n",
       "    </tr>\n",
       "    <tr>\n",
       "      <th>4</th>\n",
       "      <td>-68.327129</td>\n",
       "      <td>-25.661499</td>\n",
       "      <td>False</td>\n",
       "      <td>True</td>\n",
       "      <td>False</td>\n",
       "      <td>True</td>\n",
       "    </tr>\n",
       "    <tr>\n",
       "      <th>5</th>\n",
       "      <td>-66.004974</td>\n",
       "      <td>-7.961842</td>\n",
       "      <td>False</td>\n",
       "      <td>False</td>\n",
       "      <td>False</td>\n",
       "      <td>True</td>\n",
       "    </tr>\n",
       "    <tr>\n",
       "      <th>6</th>\n",
       "      <td>-63.665751</td>\n",
       "      <td>-21.480907</td>\n",
       "      <td>False</td>\n",
       "      <td>False</td>\n",
       "      <td>False</td>\n",
       "      <td>True</td>\n",
       "    </tr>\n",
       "    <tr>\n",
       "      <th>7</th>\n",
       "      <td>-52.642198</td>\n",
       "      <td>-21.128369</td>\n",
       "      <td>False</td>\n",
       "      <td>False</td>\n",
       "      <td>False</td>\n",
       "      <td>True</td>\n",
       "    </tr>\n",
       "    <tr>\n",
       "      <th>8</th>\n",
       "      <td>-60.794018</td>\n",
       "      <td>-19.514757</td>\n",
       "      <td>False</td>\n",
       "      <td>False</td>\n",
       "      <td>False</td>\n",
       "      <td>True</td>\n",
       "    </tr>\n",
       "    <tr>\n",
       "      <th>9</th>\n",
       "      <td>-61.408100</td>\n",
       "      <td>-22.445791</td>\n",
       "      <td>False</td>\n",
       "      <td>False</td>\n",
       "      <td>False</td>\n",
       "      <td>True</td>\n",
       "    </tr>\n",
       "    <tr>\n",
       "      <th>10</th>\n",
       "      <td>-58.865828</td>\n",
       "      <td>-22.128010</td>\n",
       "      <td>False</td>\n",
       "      <td>False</td>\n",
       "      <td>False</td>\n",
       "      <td>True</td>\n",
       "    </tr>\n",
       "    <tr>\n",
       "      <th>11</th>\n",
       "      <td>-59.811400</td>\n",
       "      <td>-30.471434</td>\n",
       "      <td>True</td>\n",
       "      <td>True</td>\n",
       "      <td>False</td>\n",
       "      <td>False</td>\n",
       "    </tr>\n",
       "  </tbody>\n",
       "</table>\n",
       "</div>"
      ],
      "text/plain": [
       "          phi        psi stateA interface0 stateB appendable\n",
       "0  -49.262248 -35.197314   True       True  False       True\n",
       "1  -68.083182 -28.254396  False       True  False       True\n",
       "2  -68.436638 -29.002592  False       True  False       True\n",
       "3  -70.323184 -17.578648  False      False  False       True\n",
       "4  -68.327129 -25.661499  False       True  False       True\n",
       "5  -66.004974  -7.961842  False      False  False       True\n",
       "6  -63.665751 -21.480907  False      False  False       True\n",
       "7  -52.642198 -21.128369  False      False  False       True\n",
       "8  -60.794018 -19.514757  False      False  False       True\n",
       "9  -61.408100 -22.445791  False      False  False       True\n",
       "10 -58.865828 -22.128010  False      False  False       True\n",
       "11 -59.811400 -30.471434   True       True  False      False"
      ]
     },
     "execution_count": 34,
     "metadata": {},
     "output_type": "execute_result"
    }
   ],
   "source": [
    "data = []\n",
    "for frame in segments[0]:\n",
    "    data.append((phi(frame)/deg, psi(frame)/deg, stateA(frame), interface0(frame), stateB(frame), first_traj_ensemble.can_append(total_path[slice(0,total_path.index(frame)+1)])))\n",
    "    \n",
    "dataframe = pd.DataFrame(data, columns=['phi', 'psi', 'stateA', 'interface0', 'stateB', 'appendable'])\n",
    "dataframe[[0,1,2,3,4,5]]"
   ]
  },
  {
   "cell_type": "markdown",
   "metadata": {},
   "source": [
    "### Bootstrapping"
   ]
  },
  {
   "cell_type": "markdown",
   "metadata": {},
   "source": [
    "Run a bootstrapping (not TIS) simulation that shoots from an ensemble until the next interface is reached then switch to the next ensemble to drive the system out of stateA"
   ]
  },
  {
   "cell_type": "code",
   "execution_count": 35,
   "metadata": {
    "collapsed": true
   },
   "outputs": [],
   "source": [
    "mover_set = paths.PathMoverFactory.OneWayShootingSet(paths.UniformSelector(), interface_set)"
   ]
  },
  {
   "cell_type": "code",
   "execution_count": 36,
   "metadata": {
    "collapsed": true
   },
   "outputs": [],
   "source": [
    "bootstrap = paths.Bootstrapping(storage=storage,\n",
    "                          engine=engine,\n",
    "                          ensembles=interface_set,\n",
    "                          movers=mover_set,\n",
    "                          trajectory=segments[0])"
   ]
  },
  {
   "cell_type": "code",
   "execution_count": 37,
   "metadata": {
    "collapsed": true
   },
   "outputs": [],
   "source": [
    "engine.add_auto_cv(phi, psi)"
   ]
  },
  {
   "cell_type": "code",
   "execution_count": 38,
   "metadata": {
    "collapsed": false
   },
   "outputs": [
    {
     "name": "stdout",
     "output_type": "stream",
     "text": [
      "DONE! Completed Bootstrapping cycle step 27 in ensemble 7/7 .\n",
      "\n"
     ]
    }
   ],
   "source": [
    "bootstrap.run(50)"
   ]
  },
  {
   "cell_type": "code",
   "execution_count": 39,
   "metadata": {
    "collapsed": true
   },
   "outputs": [],
   "source": [
    "ke = engine.create_cv_kinetic_energy()"
   ]
  },
  {
   "cell_type": "code",
   "execution_count": 40,
   "metadata": {
    "collapsed": false
   },
   "outputs": [
    {
     "data": {
      "text/plain": [
       "(store.cvs[CollectiveVariable], 6, 4)"
      ]
     },
     "execution_count": 40,
     "metadata": {},
     "output_type": "execute_result"
    }
   ],
   "source": [
    "storage.save(ke)"
   ]
  },
  {
   "cell_type": "markdown",
   "metadata": {},
   "source": [
    "### Save all computed phi/psi values which depends on whether they have been needed before"
   ]
  },
  {
   "cell_type": "code",
   "execution_count": 41,
   "metadata": {
    "collapsed": true
   },
   "outputs": [],
   "source": [
    "storage.cvs.sync()"
   ]
  },
  {
   "cell_type": "markdown",
   "metadata": {},
   "source": [
    "Create an collectivevariable from a volume which is just 1 or 0 and can thus be stored for later analysis"
   ]
  },
  {
   "cell_type": "code",
   "execution_count": 56,
   "metadata": {
    "collapsed": true
   },
   "outputs": [],
   "source": [
    "op_inA = paths.CV_Volume('StateA', stateA)\n",
    "op_inB = paths.CV_Volume('StateB', stateB)\n",
    "op_notinAorB = paths.CV_Volume('StateX', ~ (stateA | stateB))"
   ]
  },
  {
   "cell_type": "markdown",
   "metadata": {},
   "source": [
    "Save the new collectivevariables"
   ]
  },
  {
   "cell_type": "code",
   "execution_count": 57,
   "metadata": {
    "collapsed": false
   },
   "outputs": [],
   "source": [
    "storage.save([op_inA, op_inB, op_notinAorB]);"
   ]
  },
  {
   "cell_type": "markdown",
   "metadata": {},
   "source": [
    "Compute the collectivevariable for all snapshots"
   ]
  },
  {
   "cell_type": "code",
   "execution_count": 58,
   "metadata": {
    "collapsed": true
   },
   "outputs": [],
   "source": [
    "psi(storage.snapshots.all());\n",
    "phi(storage.snapshots.all());"
   ]
  },
  {
   "cell_type": "code",
   "execution_count": 59,
   "metadata": {
    "collapsed": false
   },
   "outputs": [],
   "source": [
    "op_inA(storage.snapshots.all())\n",
    "op_inB(storage.snapshots.all())\n",
    "op_notinAorB(storage.snapshots.all());"
   ]
  },
  {
   "cell_type": "code",
   "execution_count": 60,
   "metadata": {
    "collapsed": true
   },
   "outputs": [],
   "source": [
    "storage.cvs.sync()\n",
    "storage.sync()"
   ]
  },
  {
   "cell_type": "code",
   "execution_count": 61,
   "metadata": {
    "collapsed": true
   },
   "outputs": [],
   "source": [
    "storage.close()"
   ]
  },
  {
   "cell_type": "code",
   "execution_count": 62,
   "metadata": {
    "collapsed": true
   },
   "outputs": [],
   "source": [
    "import openpathsampling as paths\n",
    "from openpathsampling.visualize import PathTreeBuilder\n",
    "from IPython.display import SVG\n",
    "import mdtraj"
   ]
  },
  {
   "cell_type": "code",
   "execution_count": 63,
   "metadata": {
    "collapsed": false
   },
   "outputs": [],
   "source": [
    "storage = paths.AnalysisStorage('trajectory.nc')"
   ]
  },
  {
   "cell_type": "markdown",
   "metadata": {},
   "source": [
    "## Visualization"
   ]
  },
  {
   "cell_type": "markdown",
   "metadata": {},
   "source": [
    "Create a PathTree generator"
   ]
  },
  {
   "cell_type": "code",
   "execution_count": 64,
   "metadata": {
    "collapsed": true
   },
   "outputs": [],
   "source": [
    "tree = PathTreeBuilder(storage)"
   ]
  },
  {
   "cell_type": "markdown",
   "metadata": {},
   "source": [
    "Change the settings to show rejected pathways, mark OrderParaemters `stateA` and `stateX`, and show the 'psi' value as text inside of the boxes"
   ]
  },
  {
   "cell_type": "code",
   "execution_count": 65,
   "metadata": {
    "collapsed": false
   },
   "outputs": [],
   "source": [
    "tree.rejected = False\n",
    "tree.states = [ ('orange',storage.cvs[3])]\n",
    "# Some ideas for collectivevariables to visualize\n",
    "tree.op = lambda snap : 'B' if snap.reversed else 'F'\n",
    "tree.op = lambda snap : int(psi(snap)[0]/3.1415926 * 180)\n",
    "tree.op = lambda snap : snap.configuration.idx(storage.configurations)\n",
    "samps = tree.construct_heritage(storage.samples.last)\n",
    "tree.from_samples(samps)\n",
    "#for sset in storage.samplesets:\n",
    "#    print sset.movepath\n",
    "    \n",
    "#for s in samps:\n",
    "#    print (s, s.ensemble.idx[storage], s.replica, len(tree.construct_heritage(s)), s.mover.__class__.__name__)"
   ]
  },
  {
   "cell_type": "markdown",
   "metadata": {},
   "source": [
    "Render the tree"
   ]
  },
  {
   "cell_type": "code",
   "execution_count": 66,
   "metadata": {
    "collapsed": false
   },
   "outputs": [
    {
     "data": {
      "image/svg+xml": [
       "<svg baseProfile=\"full\" height=\"396.0px\" version=\"1.1\" width=\"1606.0px\" xmlns=\"http://www.w3.org/2000/svg\" xmlns:ev=\"http://www.w3.org/2001/xml-events\" xmlns:xlink=\"http://www.w3.org/1999/xlink\"><defs/><rect fill=\"orange\" height=\"2.64\" stroke=\"orange\" stroke-width=\"1.32\" width=\"396.0\" x=\"308.0\" y=\"299.64\"/><rect fill=\"orange\" height=\"2.64\" stroke=\"orange\" stroke-width=\"1.32\" width=\"22.0\" x=\"814.0\" y=\"246.84\"/><rect fill=\"orange\" height=\"2.64\" stroke=\"orange\" stroke-width=\"1.32\" width=\"484.0\" x=\"176.0\" y=\"194.04\"/><rect fill=\"orange\" height=\"2.64\" stroke=\"orange\" stroke-width=\"1.32\" width=\"462.0\" x=\"374.0\" y=\"141.24\"/><rect fill=\"orange\" height=\"2.64\" stroke=\"orange\" stroke-width=\"1.32\" width=\"748.0\" x=\"198.0\" y=\"88.44\"/><rect fill=\"orange\" height=\"2.64\" stroke=\"orange\" stroke-width=\"1.32\" width=\"1320.0\" x=\"264.0\" y=\"35.64\"/><text alignment-baseline=\"middle\" fill=\"black\" font-family=\"Futura\" font-size=\"9.24\" text-anchor=\"end\" x=\"259.6\" y=\"27.72\">2b</text><rect fill=\"black\" height=\"15.84\" width=\"19.8\" x=\"265.1\" y=\"18.48\"/><circle cx=\"286.0\" cy=\"26.4\" fill=\"black\" r=\"1.1\" stroke=\"black\" stroke-width=\"0\"/><text alignment-baseline=\"middle\" fill=\"white\" font-family=\"Futura\" font-size=\"9.24\" text-anchor=\"middle\" x=\"275.0\" y=\"27.72\">39</text><rect fill=\"black\" height=\"15.84\" width=\"19.8\" x=\"287.1\" y=\"18.48\"/><circle cx=\"286.0\" cy=\"26.4\" fill=\"black\" r=\"1.1\" stroke=\"black\" stroke-width=\"0\"/><circle cx=\"308.0\" cy=\"26.4\" fill=\"black\" r=\"1.1\" stroke=\"black\" stroke-width=\"0\"/><text alignment-baseline=\"middle\" fill=\"white\" font-family=\"Futura\" font-size=\"9.24\" text-anchor=\"middle\" x=\"297.0\" y=\"27.72\">40</text><rect fill=\"black\" height=\"15.84\" width=\"19.8\" x=\"309.1\" y=\"18.48\"/><circle cx=\"308.0\" cy=\"26.4\" fill=\"black\" r=\"1.1\" stroke=\"black\" stroke-width=\"0\"/><circle cx=\"330.0\" cy=\"26.4\" fill=\"black\" r=\"1.1\" stroke=\"black\" stroke-width=\"0\"/><text alignment-baseline=\"middle\" fill=\"white\" font-family=\"Futura\" font-size=\"9.24\" text-anchor=\"middle\" x=\"319.0\" y=\"27.72\">41</text><rect fill=\"black\" height=\"15.84\" width=\"19.8\" x=\"331.1\" y=\"18.48\"/><circle cx=\"330.0\" cy=\"26.4\" fill=\"black\" r=\"1.1\" stroke=\"black\" stroke-width=\"0\"/><circle cx=\"352.0\" cy=\"26.4\" fill=\"black\" r=\"1.1\" stroke=\"black\" stroke-width=\"0\"/><text alignment-baseline=\"middle\" fill=\"white\" font-family=\"Futura\" font-size=\"9.24\" text-anchor=\"middle\" x=\"341.0\" y=\"27.72\">42</text><rect fill=\"black\" height=\"15.84\" width=\"19.8\" x=\"353.1\" y=\"18.48\"/><circle cx=\"352.0\" cy=\"26.4\" fill=\"black\" r=\"1.1\" stroke=\"black\" stroke-width=\"0\"/><circle cx=\"374.0\" cy=\"26.4\" fill=\"black\" r=\"1.1\" stroke=\"black\" stroke-width=\"0\"/><text alignment-baseline=\"middle\" fill=\"white\" font-family=\"Futura\" font-size=\"9.24\" text-anchor=\"middle\" x=\"363.0\" y=\"27.72\">43</text><rect fill=\"black\" height=\"15.84\" width=\"19.8\" x=\"375.1\" y=\"18.48\"/><circle cx=\"374.0\" cy=\"26.4\" fill=\"black\" r=\"1.1\" stroke=\"black\" stroke-width=\"0\"/><circle cx=\"396.0\" cy=\"26.4\" fill=\"black\" r=\"1.1\" stroke=\"black\" stroke-width=\"0\"/><text alignment-baseline=\"middle\" fill=\"white\" font-family=\"Futura\" font-size=\"9.24\" text-anchor=\"middle\" x=\"385.0\" y=\"27.72\">44</text><rect fill=\"black\" height=\"15.84\" width=\"19.8\" x=\"397.1\" y=\"18.48\"/><circle cx=\"396.0\" cy=\"26.4\" fill=\"black\" r=\"1.1\" stroke=\"black\" stroke-width=\"0\"/><circle cx=\"418.0\" cy=\"26.4\" fill=\"black\" r=\"1.1\" stroke=\"black\" stroke-width=\"0\"/><text alignment-baseline=\"middle\" fill=\"white\" font-family=\"Futura\" font-size=\"9.24\" text-anchor=\"middle\" x=\"407.0\" y=\"27.72\">45</text><rect fill=\"black\" height=\"15.84\" width=\"19.8\" x=\"419.1\" y=\"18.48\"/><circle cx=\"418.0\" cy=\"26.4\" fill=\"black\" r=\"1.1\" stroke=\"black\" stroke-width=\"0\"/><circle cx=\"440.0\" cy=\"26.4\" fill=\"black\" r=\"1.1\" stroke=\"black\" stroke-width=\"0\"/><text alignment-baseline=\"middle\" fill=\"white\" font-family=\"Futura\" font-size=\"9.24\" text-anchor=\"middle\" x=\"429.0\" y=\"27.72\">46</text><rect fill=\"black\" height=\"15.84\" width=\"19.8\" x=\"441.1\" y=\"18.48\"/><circle cx=\"440.0\" cy=\"26.4\" fill=\"black\" r=\"1.1\" stroke=\"black\" stroke-width=\"0\"/><circle cx=\"462.0\" cy=\"26.4\" fill=\"black\" r=\"1.1\" stroke=\"black\" stroke-width=\"0\"/><text alignment-baseline=\"middle\" fill=\"white\" font-family=\"Futura\" font-size=\"9.24\" text-anchor=\"middle\" x=\"451.0\" y=\"27.72\">47</text><rect fill=\"black\" height=\"15.84\" width=\"19.8\" x=\"463.1\" y=\"18.48\"/><circle cx=\"462.0\" cy=\"26.4\" fill=\"black\" r=\"1.1\" stroke=\"black\" stroke-width=\"0\"/><circle cx=\"484.0\" cy=\"26.4\" fill=\"black\" r=\"1.1\" stroke=\"black\" stroke-width=\"0\"/><text alignment-baseline=\"middle\" fill=\"white\" font-family=\"Futura\" font-size=\"9.24\" text-anchor=\"middle\" x=\"473.0\" y=\"27.72\">48</text><rect fill=\"black\" height=\"15.84\" width=\"19.8\" x=\"485.1\" y=\"18.48\"/><circle cx=\"484.0\" cy=\"26.4\" fill=\"black\" r=\"1.1\" stroke=\"black\" stroke-width=\"0\"/><circle cx=\"506.0\" cy=\"26.4\" fill=\"black\" r=\"1.1\" stroke=\"black\" stroke-width=\"0\"/><text alignment-baseline=\"middle\" fill=\"white\" font-family=\"Futura\" font-size=\"9.24\" text-anchor=\"middle\" x=\"495.0\" y=\"27.72\">49</text><rect fill=\"black\" height=\"15.84\" width=\"19.8\" x=\"507.1\" y=\"18.48\"/><circle cx=\"506.0\" cy=\"26.4\" fill=\"black\" r=\"1.1\" stroke=\"black\" stroke-width=\"0\"/><circle cx=\"528.0\" cy=\"26.4\" fill=\"black\" r=\"1.1\" stroke=\"black\" stroke-width=\"0\"/><text alignment-baseline=\"middle\" fill=\"white\" font-family=\"Futura\" font-size=\"9.24\" text-anchor=\"middle\" x=\"517.0\" y=\"27.72\">50</text><rect fill=\"black\" height=\"15.84\" width=\"19.8\" x=\"529.1\" y=\"18.48\"/><circle cx=\"528.0\" cy=\"26.4\" fill=\"black\" r=\"1.1\" stroke=\"black\" stroke-width=\"0\"/><circle cx=\"550.0\" cy=\"26.4\" fill=\"black\" r=\"1.1\" stroke=\"black\" stroke-width=\"0\"/><text alignment-baseline=\"middle\" fill=\"white\" font-family=\"Futura\" font-size=\"9.24\" text-anchor=\"middle\" x=\"539.0\" y=\"27.72\">51</text><rect fill=\"black\" height=\"15.84\" width=\"19.8\" x=\"551.1\" y=\"18.48\"/><circle cx=\"550.0\" cy=\"26.4\" fill=\"black\" r=\"1.1\" stroke=\"black\" stroke-width=\"0\"/><circle cx=\"572.0\" cy=\"26.4\" fill=\"black\" r=\"1.1\" stroke=\"black\" stroke-width=\"0\"/><text alignment-baseline=\"middle\" fill=\"white\" font-family=\"Futura\" font-size=\"9.24\" text-anchor=\"middle\" x=\"561.0\" y=\"27.72\">52</text><rect fill=\"black\" height=\"15.84\" width=\"19.8\" x=\"573.1\" y=\"18.48\"/><circle cx=\"572.0\" cy=\"26.4\" fill=\"black\" r=\"1.1\" stroke=\"black\" stroke-width=\"0\"/><circle cx=\"594.0\" cy=\"26.4\" fill=\"black\" r=\"1.1\" stroke=\"black\" stroke-width=\"0\"/><text alignment-baseline=\"middle\" fill=\"white\" font-family=\"Futura\" font-size=\"9.24\" text-anchor=\"middle\" x=\"583.0\" y=\"27.72\">53</text><rect fill=\"black\" height=\"15.84\" width=\"19.8\" x=\"595.1\" y=\"18.48\"/><circle cx=\"594.0\" cy=\"26.4\" fill=\"black\" r=\"1.1\" stroke=\"black\" stroke-width=\"0\"/><circle cx=\"616.0\" cy=\"26.4\" fill=\"black\" r=\"1.1\" stroke=\"black\" stroke-width=\"0\"/><text alignment-baseline=\"middle\" fill=\"white\" font-family=\"Futura\" font-size=\"9.24\" text-anchor=\"middle\" x=\"605.0\" y=\"27.72\">54</text><rect fill=\"black\" height=\"15.84\" width=\"19.8\" x=\"617.1\" y=\"18.48\"/><circle cx=\"616.0\" cy=\"26.4\" fill=\"black\" r=\"1.1\" stroke=\"black\" stroke-width=\"0\"/><circle cx=\"638.0\" cy=\"26.4\" fill=\"black\" r=\"1.1\" stroke=\"black\" stroke-width=\"0\"/><text alignment-baseline=\"middle\" fill=\"white\" font-family=\"Futura\" font-size=\"9.24\" text-anchor=\"middle\" x=\"627.0\" y=\"27.72\">55</text><rect fill=\"black\" height=\"15.84\" width=\"19.8\" x=\"639.1\" y=\"18.48\"/><circle cx=\"638.0\" cy=\"26.4\" fill=\"black\" r=\"1.1\" stroke=\"black\" stroke-width=\"0\"/><circle cx=\"660.0\" cy=\"26.4\" fill=\"black\" r=\"1.1\" stroke=\"black\" stroke-width=\"0\"/><text alignment-baseline=\"middle\" fill=\"white\" font-family=\"Futura\" font-size=\"9.24\" text-anchor=\"middle\" x=\"649.0\" y=\"27.72\">56</text><rect fill=\"black\" height=\"15.84\" width=\"19.8\" x=\"661.1\" y=\"18.48\"/><circle cx=\"660.0\" cy=\"26.4\" fill=\"black\" r=\"1.1\" stroke=\"black\" stroke-width=\"0\"/><circle cx=\"682.0\" cy=\"26.4\" fill=\"black\" r=\"1.1\" stroke=\"black\" stroke-width=\"0\"/><text alignment-baseline=\"middle\" fill=\"white\" font-family=\"Futura\" font-size=\"9.24\" text-anchor=\"middle\" x=\"671.0\" y=\"27.72\">57</text><rect fill=\"black\" height=\"15.84\" width=\"19.8\" x=\"683.1\" y=\"18.48\"/><circle cx=\"682.0\" cy=\"26.4\" fill=\"black\" r=\"1.1\" stroke=\"black\" stroke-width=\"0\"/><circle cx=\"704.0\" cy=\"26.4\" fill=\"black\" r=\"1.1\" stroke=\"black\" stroke-width=\"0\"/><text alignment-baseline=\"middle\" fill=\"white\" font-family=\"Futura\" font-size=\"9.24\" text-anchor=\"middle\" x=\"693.0\" y=\"27.72\">58</text><rect fill=\"black\" height=\"15.84\" width=\"19.8\" x=\"705.1\" y=\"18.48\"/><circle cx=\"704.0\" cy=\"26.4\" fill=\"black\" r=\"1.1\" stroke=\"black\" stroke-width=\"0\"/><circle cx=\"726.0\" cy=\"26.4\" fill=\"black\" r=\"1.1\" stroke=\"black\" stroke-width=\"0\"/><text alignment-baseline=\"middle\" fill=\"white\" font-family=\"Futura\" font-size=\"9.24\" text-anchor=\"middle\" x=\"715.0\" y=\"27.72\">59</text><rect fill=\"black\" height=\"15.84\" width=\"19.8\" x=\"727.1\" y=\"18.48\"/><circle cx=\"726.0\" cy=\"26.4\" fill=\"black\" r=\"1.1\" stroke=\"black\" stroke-width=\"0\"/><circle cx=\"748.0\" cy=\"26.4\" fill=\"black\" r=\"1.1\" stroke=\"black\" stroke-width=\"0\"/><text alignment-baseline=\"middle\" fill=\"white\" font-family=\"Futura\" font-size=\"9.24\" text-anchor=\"middle\" x=\"737.0\" y=\"27.72\">60</text><rect fill=\"black\" height=\"15.84\" width=\"19.8\" x=\"749.1\" y=\"18.48\"/><circle cx=\"748.0\" cy=\"26.4\" fill=\"black\" r=\"1.1\" stroke=\"black\" stroke-width=\"0\"/><circle cx=\"770.0\" cy=\"26.4\" fill=\"black\" r=\"1.1\" stroke=\"black\" stroke-width=\"0\"/><text alignment-baseline=\"middle\" fill=\"white\" font-family=\"Futura\" font-size=\"9.24\" text-anchor=\"middle\" x=\"759.0\" y=\"27.72\">61</text><rect fill=\"black\" height=\"15.84\" width=\"19.8\" x=\"771.1\" y=\"18.48\"/><circle cx=\"770.0\" cy=\"26.4\" fill=\"black\" r=\"1.1\" stroke=\"black\" stroke-width=\"0\"/><circle cx=\"792.0\" cy=\"26.4\" fill=\"black\" r=\"1.1\" stroke=\"black\" stroke-width=\"0\"/><text alignment-baseline=\"middle\" fill=\"white\" font-family=\"Futura\" font-size=\"9.24\" text-anchor=\"middle\" x=\"781.0\" y=\"27.72\">62</text><rect fill=\"black\" height=\"15.84\" width=\"19.8\" x=\"793.1\" y=\"18.48\"/><circle cx=\"792.0\" cy=\"26.4\" fill=\"black\" r=\"1.1\" stroke=\"black\" stroke-width=\"0\"/><circle cx=\"814.0\" cy=\"26.4\" fill=\"black\" r=\"1.1\" stroke=\"black\" stroke-width=\"0\"/><text alignment-baseline=\"middle\" fill=\"white\" font-family=\"Futura\" font-size=\"9.24\" text-anchor=\"middle\" x=\"803.0\" y=\"27.72\">63</text><rect fill=\"black\" height=\"15.84\" width=\"19.8\" x=\"815.1\" y=\"18.48\"/><circle cx=\"814.0\" cy=\"26.4\" fill=\"black\" r=\"1.1\" stroke=\"black\" stroke-width=\"0\"/><circle cx=\"836.0\" cy=\"26.4\" fill=\"black\" r=\"1.1\" stroke=\"black\" stroke-width=\"0\"/><text alignment-baseline=\"middle\" fill=\"white\" font-family=\"Futura\" font-size=\"9.24\" text-anchor=\"middle\" x=\"825.0\" y=\"27.72\">64</text><rect fill=\"black\" height=\"15.84\" width=\"19.8\" x=\"837.1\" y=\"18.48\"/><circle cx=\"836.0\" cy=\"26.4\" fill=\"black\" r=\"1.1\" stroke=\"black\" stroke-width=\"0\"/><circle cx=\"858.0\" cy=\"26.4\" fill=\"black\" r=\"1.1\" stroke=\"black\" stroke-width=\"0\"/><text alignment-baseline=\"middle\" fill=\"white\" font-family=\"Futura\" font-size=\"9.24\" text-anchor=\"middle\" x=\"847.0\" y=\"27.72\">65</text><rect fill=\"black\" height=\"15.84\" width=\"19.8\" x=\"859.1\" y=\"18.48\"/><circle cx=\"858.0\" cy=\"26.4\" fill=\"black\" r=\"1.1\" stroke=\"black\" stroke-width=\"0\"/><circle cx=\"880.0\" cy=\"26.4\" fill=\"black\" r=\"1.1\" stroke=\"black\" stroke-width=\"0\"/><text alignment-baseline=\"middle\" fill=\"white\" font-family=\"Futura\" font-size=\"9.24\" text-anchor=\"middle\" x=\"869.0\" y=\"27.72\">66</text><rect fill=\"black\" height=\"15.84\" width=\"19.8\" x=\"881.1\" y=\"18.48\"/><circle cx=\"880.0\" cy=\"26.4\" fill=\"black\" r=\"1.1\" stroke=\"black\" stroke-width=\"0\"/><circle cx=\"902.0\" cy=\"26.4\" fill=\"black\" r=\"1.1\" stroke=\"black\" stroke-width=\"0\"/><text alignment-baseline=\"middle\" fill=\"white\" font-family=\"Futura\" font-size=\"9.24\" text-anchor=\"middle\" x=\"891.0\" y=\"27.72\">67</text><rect fill=\"black\" height=\"15.84\" width=\"19.8\" x=\"903.1\" y=\"18.48\"/><circle cx=\"902.0\" cy=\"26.4\" fill=\"black\" r=\"1.1\" stroke=\"black\" stroke-width=\"0\"/><circle cx=\"924.0\" cy=\"26.4\" fill=\"black\" r=\"1.1\" stroke=\"black\" stroke-width=\"0\"/><text alignment-baseline=\"middle\" fill=\"white\" font-family=\"Futura\" font-size=\"9.24\" text-anchor=\"middle\" x=\"913.0\" y=\"27.72\">68</text><rect fill=\"black\" height=\"15.84\" width=\"19.8\" x=\"925.1\" y=\"18.48\"/><circle cx=\"924.0\" cy=\"26.4\" fill=\"black\" r=\"1.1\" stroke=\"black\" stroke-width=\"0\"/><circle cx=\"946.0\" cy=\"26.4\" fill=\"black\" r=\"1.1\" stroke=\"black\" stroke-width=\"0\"/><text alignment-baseline=\"middle\" fill=\"white\" font-family=\"Futura\" font-size=\"9.24\" text-anchor=\"middle\" x=\"935.0\" y=\"27.72\">69</text><rect fill=\"black\" height=\"15.84\" width=\"19.8\" x=\"947.1\" y=\"18.48\"/><circle cx=\"946.0\" cy=\"26.4\" fill=\"black\" r=\"1.1\" stroke=\"black\" stroke-width=\"0\"/><circle cx=\"968.0\" cy=\"26.4\" fill=\"black\" r=\"1.1\" stroke=\"black\" stroke-width=\"0\"/><text alignment-baseline=\"middle\" fill=\"white\" font-family=\"Futura\" font-size=\"9.24\" text-anchor=\"middle\" x=\"957.0\" y=\"27.72\">70</text><rect fill=\"black\" height=\"15.84\" width=\"19.8\" x=\"969.1\" y=\"18.48\"/><circle cx=\"968.0\" cy=\"26.4\" fill=\"black\" r=\"1.1\" stroke=\"black\" stroke-width=\"0\"/><circle cx=\"990.0\" cy=\"26.4\" fill=\"black\" r=\"1.1\" stroke=\"black\" stroke-width=\"0\"/><text alignment-baseline=\"middle\" fill=\"white\" font-family=\"Futura\" font-size=\"9.24\" text-anchor=\"middle\" x=\"979.0\" y=\"27.72\">71</text><rect fill=\"black\" height=\"15.84\" width=\"19.8\" x=\"991.1\" y=\"18.48\"/><circle cx=\"990.0\" cy=\"26.4\" fill=\"black\" r=\"1.1\" stroke=\"black\" stroke-width=\"0\"/><circle cx=\"1012.0\" cy=\"26.4\" fill=\"black\" r=\"1.1\" stroke=\"black\" stroke-width=\"0\"/><text alignment-baseline=\"middle\" fill=\"white\" font-family=\"Futura\" font-size=\"9.24\" text-anchor=\"middle\" x=\"1001.0\" y=\"27.72\">72</text><rect fill=\"black\" height=\"15.84\" width=\"19.8\" x=\"1013.1\" y=\"18.48\"/><circle cx=\"1012.0\" cy=\"26.4\" fill=\"black\" r=\"1.1\" stroke=\"black\" stroke-width=\"0\"/><circle cx=\"1034.0\" cy=\"26.4\" fill=\"black\" r=\"1.1\" stroke=\"black\" stroke-width=\"0\"/><text alignment-baseline=\"middle\" fill=\"white\" font-family=\"Futura\" font-size=\"9.24\" text-anchor=\"middle\" x=\"1023.0\" y=\"27.72\">73</text><rect fill=\"black\" height=\"15.84\" width=\"19.8\" x=\"1035.1\" y=\"18.48\"/><circle cx=\"1034.0\" cy=\"26.4\" fill=\"black\" r=\"1.1\" stroke=\"black\" stroke-width=\"0\"/><circle cx=\"1056.0\" cy=\"26.4\" fill=\"black\" r=\"1.1\" stroke=\"black\" stroke-width=\"0\"/><text alignment-baseline=\"middle\" fill=\"white\" font-family=\"Futura\" font-size=\"9.24\" text-anchor=\"middle\" x=\"1045.0\" y=\"27.72\">74</text><rect fill=\"black\" height=\"15.84\" width=\"19.8\" x=\"1057.1\" y=\"18.48\"/><circle cx=\"1056.0\" cy=\"26.4\" fill=\"black\" r=\"1.1\" stroke=\"black\" stroke-width=\"0\"/><circle cx=\"1078.0\" cy=\"26.4\" fill=\"black\" r=\"1.1\" stroke=\"black\" stroke-width=\"0\"/><text alignment-baseline=\"middle\" fill=\"white\" font-family=\"Futura\" font-size=\"9.24\" text-anchor=\"middle\" x=\"1067.0\" y=\"27.72\">75</text><rect fill=\"black\" height=\"15.84\" width=\"19.8\" x=\"1079.1\" y=\"18.48\"/><circle cx=\"1078.0\" cy=\"26.4\" fill=\"black\" r=\"1.1\" stroke=\"black\" stroke-width=\"0\"/><circle cx=\"1100.0\" cy=\"26.4\" fill=\"black\" r=\"1.1\" stroke=\"black\" stroke-width=\"0\"/><text alignment-baseline=\"middle\" fill=\"white\" font-family=\"Futura\" font-size=\"9.24\" text-anchor=\"middle\" x=\"1089.0\" y=\"27.72\">76</text><rect fill=\"black\" height=\"15.84\" width=\"19.8\" x=\"1101.1\" y=\"18.48\"/><circle cx=\"1100.0\" cy=\"26.4\" fill=\"black\" r=\"1.1\" stroke=\"black\" stroke-width=\"0\"/><circle cx=\"1122.0\" cy=\"26.4\" fill=\"black\" r=\"1.1\" stroke=\"black\" stroke-width=\"0\"/><text alignment-baseline=\"middle\" fill=\"white\" font-family=\"Futura\" font-size=\"9.24\" text-anchor=\"middle\" x=\"1111.0\" y=\"27.72\">77</text><rect fill=\"black\" height=\"15.84\" width=\"19.8\" x=\"1123.1\" y=\"18.48\"/><circle cx=\"1122.0\" cy=\"26.4\" fill=\"black\" r=\"1.1\" stroke=\"black\" stroke-width=\"0\"/><circle cx=\"1144.0\" cy=\"26.4\" fill=\"black\" r=\"1.1\" stroke=\"black\" stroke-width=\"0\"/><text alignment-baseline=\"middle\" fill=\"white\" font-family=\"Futura\" font-size=\"9.24\" text-anchor=\"middle\" x=\"1133.0\" y=\"27.72\">78</text><rect fill=\"black\" height=\"15.84\" width=\"19.8\" x=\"1145.1\" y=\"18.48\"/><circle cx=\"1144.0\" cy=\"26.4\" fill=\"black\" r=\"1.1\" stroke=\"black\" stroke-width=\"0\"/><circle cx=\"1166.0\" cy=\"26.4\" fill=\"black\" r=\"1.1\" stroke=\"black\" stroke-width=\"0\"/><text alignment-baseline=\"middle\" fill=\"white\" font-family=\"Futura\" font-size=\"9.24\" text-anchor=\"middle\" x=\"1155.0\" y=\"27.72\">79</text><rect fill=\"black\" height=\"15.84\" width=\"19.8\" x=\"1167.1\" y=\"18.48\"/><circle cx=\"1166.0\" cy=\"26.4\" fill=\"black\" r=\"1.1\" stroke=\"black\" stroke-width=\"0\"/><circle cx=\"1188.0\" cy=\"26.4\" fill=\"black\" r=\"1.1\" stroke=\"black\" stroke-width=\"0\"/><text alignment-baseline=\"middle\" fill=\"white\" font-family=\"Futura\" font-size=\"9.24\" text-anchor=\"middle\" x=\"1177.0\" y=\"27.72\">80</text><rect fill=\"black\" height=\"15.84\" width=\"19.8\" x=\"1189.1\" y=\"18.48\"/><circle cx=\"1188.0\" cy=\"26.4\" fill=\"black\" r=\"1.1\" stroke=\"black\" stroke-width=\"0\"/><circle cx=\"1210.0\" cy=\"26.4\" fill=\"black\" r=\"1.1\" stroke=\"black\" stroke-width=\"0\"/><text alignment-baseline=\"middle\" fill=\"white\" font-family=\"Futura\" font-size=\"9.24\" text-anchor=\"middle\" x=\"1199.0\" y=\"27.72\">81</text><rect fill=\"black\" height=\"15.84\" width=\"19.8\" x=\"1211.1\" y=\"18.48\"/><circle cx=\"1210.0\" cy=\"26.4\" fill=\"black\" r=\"1.1\" stroke=\"black\" stroke-width=\"0\"/><circle cx=\"1232.0\" cy=\"26.4\" fill=\"black\" r=\"1.1\" stroke=\"black\" stroke-width=\"0\"/><text alignment-baseline=\"middle\" fill=\"white\" font-family=\"Futura\" font-size=\"9.24\" text-anchor=\"middle\" x=\"1221.0\" y=\"27.72\">82</text><rect fill=\"black\" height=\"15.84\" width=\"19.8\" x=\"1233.1\" y=\"18.48\"/><circle cx=\"1232.0\" cy=\"26.4\" fill=\"black\" r=\"1.1\" stroke=\"black\" stroke-width=\"0\"/><circle cx=\"1254.0\" cy=\"26.4\" fill=\"black\" r=\"1.1\" stroke=\"black\" stroke-width=\"0\"/><text alignment-baseline=\"middle\" fill=\"white\" font-family=\"Futura\" font-size=\"9.24\" text-anchor=\"middle\" x=\"1243.0\" y=\"27.72\">83</text><rect fill=\"black\" height=\"15.84\" width=\"19.8\" x=\"1255.1\" y=\"18.48\"/><circle cx=\"1254.0\" cy=\"26.4\" fill=\"black\" r=\"1.1\" stroke=\"black\" stroke-width=\"0\"/><circle cx=\"1276.0\" cy=\"26.4\" fill=\"black\" r=\"1.1\" stroke=\"black\" stroke-width=\"0\"/><text alignment-baseline=\"middle\" fill=\"white\" font-family=\"Futura\" font-size=\"9.24\" text-anchor=\"middle\" x=\"1265.0\" y=\"27.72\">84</text><rect fill=\"black\" height=\"15.84\" width=\"19.8\" x=\"1277.1\" y=\"18.48\"/><circle cx=\"1276.0\" cy=\"26.4\" fill=\"black\" r=\"1.1\" stroke=\"black\" stroke-width=\"0\"/><circle cx=\"1298.0\" cy=\"26.4\" fill=\"black\" r=\"1.1\" stroke=\"black\" stroke-width=\"0\"/><text alignment-baseline=\"middle\" fill=\"white\" font-family=\"Futura\" font-size=\"9.24\" text-anchor=\"middle\" x=\"1287.0\" y=\"27.72\">85</text><rect fill=\"black\" height=\"15.84\" width=\"19.8\" x=\"1299.1\" y=\"18.48\"/><circle cx=\"1298.0\" cy=\"26.4\" fill=\"black\" r=\"1.1\" stroke=\"black\" stroke-width=\"0\"/><circle cx=\"1320.0\" cy=\"26.4\" fill=\"black\" r=\"1.1\" stroke=\"black\" stroke-width=\"0\"/><text alignment-baseline=\"middle\" fill=\"white\" font-family=\"Futura\" font-size=\"9.24\" text-anchor=\"middle\" x=\"1309.0\" y=\"27.72\">86</text><rect fill=\"black\" height=\"15.84\" width=\"19.8\" x=\"1321.1\" y=\"18.48\"/><circle cx=\"1320.0\" cy=\"26.4\" fill=\"black\" r=\"1.1\" stroke=\"black\" stroke-width=\"0\"/><circle cx=\"1342.0\" cy=\"26.4\" fill=\"black\" r=\"1.1\" stroke=\"black\" stroke-width=\"0\"/><text alignment-baseline=\"middle\" fill=\"white\" font-family=\"Futura\" font-size=\"9.24\" text-anchor=\"middle\" x=\"1331.0\" y=\"27.72\">87</text><rect fill=\"black\" height=\"15.84\" width=\"19.8\" x=\"1343.1\" y=\"18.48\"/><circle cx=\"1342.0\" cy=\"26.4\" fill=\"black\" r=\"1.1\" stroke=\"black\" stroke-width=\"0\"/><circle cx=\"1364.0\" cy=\"26.4\" fill=\"black\" r=\"1.1\" stroke=\"black\" stroke-width=\"0\"/><text alignment-baseline=\"middle\" fill=\"white\" font-family=\"Futura\" font-size=\"9.24\" text-anchor=\"middle\" x=\"1353.0\" y=\"27.72\">103</text><rect fill=\"black\" height=\"15.84\" width=\"19.8\" x=\"1365.1\" y=\"18.48\"/><circle cx=\"1364.0\" cy=\"26.4\" fill=\"black\" r=\"1.1\" stroke=\"black\" stroke-width=\"0\"/><circle cx=\"1386.0\" cy=\"26.4\" fill=\"black\" r=\"1.1\" stroke=\"black\" stroke-width=\"0\"/><text alignment-baseline=\"middle\" fill=\"white\" font-family=\"Futura\" font-size=\"9.24\" text-anchor=\"middle\" x=\"1375.0\" y=\"27.72\">104</text><rect fill=\"black\" height=\"15.84\" width=\"19.8\" x=\"1387.1\" y=\"18.48\"/><circle cx=\"1386.0\" cy=\"26.4\" fill=\"black\" r=\"1.1\" stroke=\"black\" stroke-width=\"0\"/><circle cx=\"1408.0\" cy=\"26.4\" fill=\"black\" r=\"1.1\" stroke=\"black\" stroke-width=\"0\"/><text alignment-baseline=\"middle\" fill=\"white\" font-family=\"Futura\" font-size=\"9.24\" text-anchor=\"middle\" x=\"1397.0\" y=\"27.72\">105</text><rect fill=\"black\" height=\"15.84\" width=\"19.8\" x=\"1409.1\" y=\"18.48\"/><circle cx=\"1408.0\" cy=\"26.4\" fill=\"black\" r=\"1.1\" stroke=\"black\" stroke-width=\"0\"/><circle cx=\"1430.0\" cy=\"26.4\" fill=\"black\" r=\"1.1\" stroke=\"black\" stroke-width=\"0\"/><text alignment-baseline=\"middle\" fill=\"white\" font-family=\"Futura\" font-size=\"9.24\" text-anchor=\"middle\" x=\"1419.0\" y=\"27.72\">106</text><rect fill=\"black\" height=\"15.84\" width=\"19.8\" x=\"1431.1\" y=\"18.48\"/><circle cx=\"1430.0\" cy=\"26.4\" fill=\"black\" r=\"1.1\" stroke=\"black\" stroke-width=\"0\"/><circle cx=\"1452.0\" cy=\"26.4\" fill=\"black\" r=\"1.1\" stroke=\"black\" stroke-width=\"0\"/><text alignment-baseline=\"middle\" fill=\"white\" font-family=\"Futura\" font-size=\"9.24\" text-anchor=\"middle\" x=\"1441.0\" y=\"27.72\">107</text><rect fill=\"black\" height=\"15.84\" width=\"19.8\" x=\"1453.1\" y=\"18.48\"/><circle cx=\"1452.0\" cy=\"26.4\" fill=\"black\" r=\"1.1\" stroke=\"black\" stroke-width=\"0\"/><circle cx=\"1474.0\" cy=\"26.4\" fill=\"black\" r=\"1.1\" stroke=\"black\" stroke-width=\"0\"/><text alignment-baseline=\"middle\" fill=\"white\" font-family=\"Futura\" font-size=\"9.24\" text-anchor=\"middle\" x=\"1463.0\" y=\"27.72\">108</text><rect fill=\"black\" height=\"15.84\" width=\"19.8\" x=\"1475.1\" y=\"18.48\"/><circle cx=\"1474.0\" cy=\"26.4\" fill=\"black\" r=\"1.1\" stroke=\"black\" stroke-width=\"0\"/><circle cx=\"1496.0\" cy=\"26.4\" fill=\"black\" r=\"1.1\" stroke=\"black\" stroke-width=\"0\"/><text alignment-baseline=\"middle\" fill=\"white\" font-family=\"Futura\" font-size=\"9.24\" text-anchor=\"middle\" x=\"1485.0\" y=\"27.72\">109</text><rect fill=\"black\" height=\"15.84\" width=\"19.8\" x=\"1497.1\" y=\"18.48\"/><circle cx=\"1496.0\" cy=\"26.4\" fill=\"black\" r=\"1.1\" stroke=\"black\" stroke-width=\"0\"/><circle cx=\"1518.0\" cy=\"26.4\" fill=\"black\" r=\"1.1\" stroke=\"black\" stroke-width=\"0\"/><text alignment-baseline=\"middle\" fill=\"white\" font-family=\"Futura\" font-size=\"9.24\" text-anchor=\"middle\" x=\"1507.0\" y=\"27.72\">110</text><rect fill=\"black\" height=\"15.84\" width=\"19.8\" x=\"1519.1\" y=\"18.48\"/><circle cx=\"1518.0\" cy=\"26.4\" fill=\"black\" r=\"1.1\" stroke=\"black\" stroke-width=\"0\"/><circle cx=\"1540.0\" cy=\"26.4\" fill=\"black\" r=\"1.1\" stroke=\"black\" stroke-width=\"0\"/><text alignment-baseline=\"middle\" fill=\"white\" font-family=\"Futura\" font-size=\"9.24\" text-anchor=\"middle\" x=\"1529.0\" y=\"27.72\">111</text><rect fill=\"black\" height=\"15.84\" width=\"19.8\" x=\"1541.1\" y=\"18.48\"/><circle cx=\"1540.0\" cy=\"26.4\" fill=\"black\" r=\"1.1\" stroke=\"black\" stroke-width=\"0\"/><circle cx=\"1562.0\" cy=\"26.4\" fill=\"black\" r=\"1.1\" stroke=\"black\" stroke-width=\"0\"/><text alignment-baseline=\"middle\" fill=\"white\" font-family=\"Futura\" font-size=\"9.24\" text-anchor=\"middle\" x=\"1551.0\" y=\"27.72\">112</text><rect fill=\"black\" height=\"15.84\" width=\"19.8\" x=\"1563.1\" y=\"18.48\"/><circle cx=\"1562.0\" cy=\"26.4\" fill=\"black\" r=\"1.1\" stroke=\"black\" stroke-width=\"0\"/><text alignment-baseline=\"middle\" fill=\"white\" font-family=\"Futura\" font-size=\"9.24\" text-anchor=\"middle\" x=\"1573.0\" y=\"27.72\">113</text><line stroke=\"green\" stroke-width=\"1.32\" x1=\"946.0\" x2=\"946.0\" y1=\"27.72\" y2=\"77.88\"/><text alignment-baseline=\"middle\" fill=\"black\" font-family=\"Futura\" font-size=\"9.24\" text-anchor=\"end\" x=\"193.6\" y=\"80.52\">3b</text><rect fill=\"green\" height=\"15.84\" width=\"19.8\" x=\"199.1\" y=\"71.28\"/><circle cx=\"220.0\" cy=\"79.2\" fill=\"green\" r=\"1.1\" stroke=\"green\" stroke-width=\"0\"/><text alignment-baseline=\"middle\" fill=\"white\" font-family=\"Futura\" font-size=\"9.24\" text-anchor=\"middle\" x=\"209.0\" y=\"80.52\">114</text><rect fill=\"green\" height=\"15.84\" width=\"19.8\" x=\"221.1\" y=\"71.28\"/><circle cx=\"220.0\" cy=\"79.2\" fill=\"green\" r=\"1.1\" stroke=\"green\" stroke-width=\"0\"/><circle cx=\"242.0\" cy=\"79.2\" fill=\"green\" r=\"1.1\" stroke=\"green\" stroke-width=\"0\"/><text alignment-baseline=\"middle\" fill=\"white\" font-family=\"Futura\" font-size=\"9.24\" text-anchor=\"middle\" x=\"231.0\" y=\"80.52\">115</text><rect fill=\"green\" height=\"15.84\" width=\"19.8\" x=\"243.1\" y=\"71.28\"/><circle cx=\"242.0\" cy=\"79.2\" fill=\"green\" r=\"1.1\" stroke=\"green\" stroke-width=\"0\"/><circle cx=\"264.0\" cy=\"79.2\" fill=\"green\" r=\"1.1\" stroke=\"green\" stroke-width=\"0\"/><text alignment-baseline=\"middle\" fill=\"white\" font-family=\"Futura\" font-size=\"9.24\" text-anchor=\"middle\" x=\"253.0\" y=\"80.52\">116</text><rect fill=\"green\" height=\"15.84\" width=\"19.8\" x=\"265.1\" y=\"71.28\"/><circle cx=\"264.0\" cy=\"79.2\" fill=\"green\" r=\"1.1\" stroke=\"green\" stroke-width=\"0\"/><circle cx=\"286.0\" cy=\"79.2\" fill=\"green\" r=\"1.1\" stroke=\"green\" stroke-width=\"0\"/><text alignment-baseline=\"middle\" fill=\"white\" font-family=\"Futura\" font-size=\"9.24\" text-anchor=\"middle\" x=\"275.0\" y=\"80.52\">117</text><rect fill=\"green\" height=\"15.84\" width=\"19.8\" x=\"287.1\" y=\"71.28\"/><circle cx=\"286.0\" cy=\"79.2\" fill=\"green\" r=\"1.1\" stroke=\"green\" stroke-width=\"0\"/><circle cx=\"308.0\" cy=\"79.2\" fill=\"green\" r=\"1.1\" stroke=\"green\" stroke-width=\"0\"/><text alignment-baseline=\"middle\" fill=\"white\" font-family=\"Futura\" font-size=\"9.24\" text-anchor=\"middle\" x=\"297.0\" y=\"80.52\">118</text><rect fill=\"green\" height=\"15.84\" width=\"19.8\" x=\"309.1\" y=\"71.28\"/><circle cx=\"308.0\" cy=\"79.2\" fill=\"green\" r=\"1.1\" stroke=\"green\" stroke-width=\"0\"/><circle cx=\"330.0\" cy=\"79.2\" fill=\"green\" r=\"1.1\" stroke=\"green\" stroke-width=\"0\"/><text alignment-baseline=\"middle\" fill=\"white\" font-family=\"Futura\" font-size=\"9.24\" text-anchor=\"middle\" x=\"319.0\" y=\"80.52\">119</text><rect fill=\"green\" height=\"15.84\" width=\"19.8\" x=\"331.1\" y=\"71.28\"/><circle cx=\"330.0\" cy=\"79.2\" fill=\"green\" r=\"1.1\" stroke=\"green\" stroke-width=\"0\"/><circle cx=\"352.0\" cy=\"79.2\" fill=\"green\" r=\"1.1\" stroke=\"green\" stroke-width=\"0\"/><text alignment-baseline=\"middle\" fill=\"white\" font-family=\"Futura\" font-size=\"9.24\" text-anchor=\"middle\" x=\"341.0\" y=\"80.52\">120</text><rect fill=\"green\" height=\"15.84\" width=\"19.8\" x=\"353.1\" y=\"71.28\"/><circle cx=\"352.0\" cy=\"79.2\" fill=\"green\" r=\"1.1\" stroke=\"green\" stroke-width=\"0\"/><circle cx=\"374.0\" cy=\"79.2\" fill=\"green\" r=\"1.1\" stroke=\"green\" stroke-width=\"0\"/><text alignment-baseline=\"middle\" fill=\"white\" font-family=\"Futura\" font-size=\"9.24\" text-anchor=\"middle\" x=\"363.0\" y=\"80.52\">121</text><rect fill=\"green\" height=\"15.84\" width=\"19.8\" x=\"375.1\" y=\"71.28\"/><circle cx=\"374.0\" cy=\"79.2\" fill=\"green\" r=\"1.1\" stroke=\"green\" stroke-width=\"0\"/><circle cx=\"396.0\" cy=\"79.2\" fill=\"green\" r=\"1.1\" stroke=\"green\" stroke-width=\"0\"/><text alignment-baseline=\"middle\" fill=\"white\" font-family=\"Futura\" font-size=\"9.24\" text-anchor=\"middle\" x=\"385.0\" y=\"80.52\">122</text><rect fill=\"green\" height=\"15.84\" width=\"19.8\" x=\"397.1\" y=\"71.28\"/><circle cx=\"396.0\" cy=\"79.2\" fill=\"green\" r=\"1.1\" stroke=\"green\" stroke-width=\"0\"/><circle cx=\"418.0\" cy=\"79.2\" fill=\"green\" r=\"1.1\" stroke=\"green\" stroke-width=\"0\"/><text alignment-baseline=\"middle\" fill=\"white\" font-family=\"Futura\" font-size=\"9.24\" text-anchor=\"middle\" x=\"407.0\" y=\"80.52\">123</text><rect fill=\"green\" height=\"15.84\" width=\"19.8\" x=\"419.1\" y=\"71.28\"/><circle cx=\"418.0\" cy=\"79.2\" fill=\"green\" r=\"1.1\" stroke=\"green\" stroke-width=\"0\"/><circle cx=\"440.0\" cy=\"79.2\" fill=\"green\" r=\"1.1\" stroke=\"green\" stroke-width=\"0\"/><text alignment-baseline=\"middle\" fill=\"white\" font-family=\"Futura\" font-size=\"9.24\" text-anchor=\"middle\" x=\"429.0\" y=\"80.52\">124</text><rect fill=\"green\" height=\"15.84\" width=\"19.8\" x=\"441.1\" y=\"71.28\"/><circle cx=\"440.0\" cy=\"79.2\" fill=\"green\" r=\"1.1\" stroke=\"green\" stroke-width=\"0\"/><circle cx=\"462.0\" cy=\"79.2\" fill=\"green\" r=\"1.1\" stroke=\"green\" stroke-width=\"0\"/><text alignment-baseline=\"middle\" fill=\"white\" font-family=\"Futura\" font-size=\"9.24\" text-anchor=\"middle\" x=\"451.0\" y=\"80.52\">125</text><rect fill=\"green\" height=\"15.84\" width=\"19.8\" x=\"463.1\" y=\"71.28\"/><circle cx=\"462.0\" cy=\"79.2\" fill=\"green\" r=\"1.1\" stroke=\"green\" stroke-width=\"0\"/><circle cx=\"484.0\" cy=\"79.2\" fill=\"green\" r=\"1.1\" stroke=\"green\" stroke-width=\"0\"/><text alignment-baseline=\"middle\" fill=\"white\" font-family=\"Futura\" font-size=\"9.24\" text-anchor=\"middle\" x=\"473.0\" y=\"80.52\">126</text><rect fill=\"green\" height=\"15.84\" width=\"19.8\" x=\"485.1\" y=\"71.28\"/><circle cx=\"484.0\" cy=\"79.2\" fill=\"green\" r=\"1.1\" stroke=\"green\" stroke-width=\"0\"/><circle cx=\"506.0\" cy=\"79.2\" fill=\"green\" r=\"1.1\" stroke=\"green\" stroke-width=\"0\"/><text alignment-baseline=\"middle\" fill=\"white\" font-family=\"Futura\" font-size=\"9.24\" text-anchor=\"middle\" x=\"495.0\" y=\"80.52\">127</text><rect fill=\"green\" height=\"15.84\" width=\"19.8\" x=\"507.1\" y=\"71.28\"/><circle cx=\"506.0\" cy=\"79.2\" fill=\"green\" r=\"1.1\" stroke=\"green\" stroke-width=\"0\"/><circle cx=\"528.0\" cy=\"79.2\" fill=\"green\" r=\"1.1\" stroke=\"green\" stroke-width=\"0\"/><text alignment-baseline=\"middle\" fill=\"white\" font-family=\"Futura\" font-size=\"9.24\" text-anchor=\"middle\" x=\"517.0\" y=\"80.52\">128</text><rect fill=\"green\" height=\"15.84\" width=\"19.8\" x=\"529.1\" y=\"71.28\"/><circle cx=\"528.0\" cy=\"79.2\" fill=\"green\" r=\"1.1\" stroke=\"green\" stroke-width=\"0\"/><circle cx=\"550.0\" cy=\"79.2\" fill=\"green\" r=\"1.1\" stroke=\"green\" stroke-width=\"0\"/><text alignment-baseline=\"middle\" fill=\"white\" font-family=\"Futura\" font-size=\"9.24\" text-anchor=\"middle\" x=\"539.0\" y=\"80.52\">129</text><rect fill=\"green\" height=\"15.84\" width=\"19.8\" x=\"551.1\" y=\"71.28\"/><circle cx=\"550.0\" cy=\"79.2\" fill=\"green\" r=\"1.1\" stroke=\"green\" stroke-width=\"0\"/><circle cx=\"572.0\" cy=\"79.2\" fill=\"green\" r=\"1.1\" stroke=\"green\" stroke-width=\"0\"/><text alignment-baseline=\"middle\" fill=\"white\" font-family=\"Futura\" font-size=\"9.24\" text-anchor=\"middle\" x=\"561.0\" y=\"80.52\">130</text><rect fill=\"green\" height=\"15.84\" width=\"19.8\" x=\"573.1\" y=\"71.28\"/><circle cx=\"572.0\" cy=\"79.2\" fill=\"green\" r=\"1.1\" stroke=\"green\" stroke-width=\"0\"/><circle cx=\"594.0\" cy=\"79.2\" fill=\"green\" r=\"1.1\" stroke=\"green\" stroke-width=\"0\"/><text alignment-baseline=\"middle\" fill=\"white\" font-family=\"Futura\" font-size=\"9.24\" text-anchor=\"middle\" x=\"583.0\" y=\"80.52\">131</text><rect fill=\"green\" height=\"15.84\" width=\"19.8\" x=\"595.1\" y=\"71.28\"/><circle cx=\"594.0\" cy=\"79.2\" fill=\"green\" r=\"1.1\" stroke=\"green\" stroke-width=\"0\"/><circle cx=\"616.0\" cy=\"79.2\" fill=\"green\" r=\"1.1\" stroke=\"green\" stroke-width=\"0\"/><text alignment-baseline=\"middle\" fill=\"white\" font-family=\"Futura\" font-size=\"9.24\" text-anchor=\"middle\" x=\"605.0\" y=\"80.52\">132</text><rect fill=\"green\" height=\"15.84\" width=\"19.8\" x=\"617.1\" y=\"71.28\"/><circle cx=\"616.0\" cy=\"79.2\" fill=\"green\" r=\"1.1\" stroke=\"green\" stroke-width=\"0\"/><circle cx=\"638.0\" cy=\"79.2\" fill=\"green\" r=\"1.1\" stroke=\"green\" stroke-width=\"0\"/><text alignment-baseline=\"middle\" fill=\"white\" font-family=\"Futura\" font-size=\"9.24\" text-anchor=\"middle\" x=\"627.0\" y=\"80.52\">133</text><rect fill=\"green\" height=\"15.84\" width=\"19.8\" x=\"639.1\" y=\"71.28\"/><circle cx=\"638.0\" cy=\"79.2\" fill=\"green\" r=\"1.1\" stroke=\"green\" stroke-width=\"0\"/><circle cx=\"660.0\" cy=\"79.2\" fill=\"green\" r=\"1.1\" stroke=\"green\" stroke-width=\"0\"/><text alignment-baseline=\"middle\" fill=\"white\" font-family=\"Futura\" font-size=\"9.24\" text-anchor=\"middle\" x=\"649.0\" y=\"80.52\">134</text><rect fill=\"green\" height=\"15.84\" width=\"19.8\" x=\"661.1\" y=\"71.28\"/><circle cx=\"660.0\" cy=\"79.2\" fill=\"green\" r=\"1.1\" stroke=\"green\" stroke-width=\"0\"/><circle cx=\"682.0\" cy=\"79.2\" fill=\"green\" r=\"1.1\" stroke=\"green\" stroke-width=\"0\"/><text alignment-baseline=\"middle\" fill=\"white\" font-family=\"Futura\" font-size=\"9.24\" text-anchor=\"middle\" x=\"671.0\" y=\"80.52\">135</text><rect fill=\"green\" height=\"15.84\" width=\"19.8\" x=\"683.1\" y=\"71.28\"/><circle cx=\"682.0\" cy=\"79.2\" fill=\"green\" r=\"1.1\" stroke=\"green\" stroke-width=\"0\"/><circle cx=\"704.0\" cy=\"79.2\" fill=\"green\" r=\"1.1\" stroke=\"green\" stroke-width=\"0\"/><text alignment-baseline=\"middle\" fill=\"white\" font-family=\"Futura\" font-size=\"9.24\" text-anchor=\"middle\" x=\"693.0\" y=\"80.52\">136</text><rect fill=\"green\" height=\"15.84\" width=\"19.8\" x=\"705.1\" y=\"71.28\"/><circle cx=\"704.0\" cy=\"79.2\" fill=\"green\" r=\"1.1\" stroke=\"green\" stroke-width=\"0\"/><circle cx=\"726.0\" cy=\"79.2\" fill=\"green\" r=\"1.1\" stroke=\"green\" stroke-width=\"0\"/><text alignment-baseline=\"middle\" fill=\"white\" font-family=\"Futura\" font-size=\"9.24\" text-anchor=\"middle\" x=\"715.0\" y=\"80.52\">137</text><rect fill=\"green\" height=\"15.84\" width=\"19.8\" x=\"727.1\" y=\"71.28\"/><circle cx=\"726.0\" cy=\"79.2\" fill=\"green\" r=\"1.1\" stroke=\"green\" stroke-width=\"0\"/><circle cx=\"748.0\" cy=\"79.2\" fill=\"green\" r=\"1.1\" stroke=\"green\" stroke-width=\"0\"/><text alignment-baseline=\"middle\" fill=\"white\" font-family=\"Futura\" font-size=\"9.24\" text-anchor=\"middle\" x=\"737.0\" y=\"80.52\">138</text><rect fill=\"green\" height=\"15.84\" width=\"19.8\" x=\"749.1\" y=\"71.28\"/><circle cx=\"748.0\" cy=\"79.2\" fill=\"green\" r=\"1.1\" stroke=\"green\" stroke-width=\"0\"/><circle cx=\"770.0\" cy=\"79.2\" fill=\"green\" r=\"1.1\" stroke=\"green\" stroke-width=\"0\"/><text alignment-baseline=\"middle\" fill=\"white\" font-family=\"Futura\" font-size=\"9.24\" text-anchor=\"middle\" x=\"759.0\" y=\"80.52\">139</text><rect fill=\"green\" height=\"15.84\" width=\"19.8\" x=\"771.1\" y=\"71.28\"/><circle cx=\"770.0\" cy=\"79.2\" fill=\"green\" r=\"1.1\" stroke=\"green\" stroke-width=\"0\"/><circle cx=\"792.0\" cy=\"79.2\" fill=\"green\" r=\"1.1\" stroke=\"green\" stroke-width=\"0\"/><text alignment-baseline=\"middle\" fill=\"white\" font-family=\"Futura\" font-size=\"9.24\" text-anchor=\"middle\" x=\"781.0\" y=\"80.52\">140</text><rect fill=\"green\" height=\"15.84\" width=\"19.8\" x=\"793.1\" y=\"71.28\"/><circle cx=\"792.0\" cy=\"79.2\" fill=\"green\" r=\"1.1\" stroke=\"green\" stroke-width=\"0\"/><circle cx=\"814.0\" cy=\"79.2\" fill=\"green\" r=\"1.1\" stroke=\"green\" stroke-width=\"0\"/><text alignment-baseline=\"middle\" fill=\"white\" font-family=\"Futura\" font-size=\"9.24\" text-anchor=\"middle\" x=\"803.0\" y=\"80.52\">141</text><rect fill=\"green\" height=\"15.84\" width=\"19.8\" x=\"815.1\" y=\"71.28\"/><circle cx=\"814.0\" cy=\"79.2\" fill=\"green\" r=\"1.1\" stroke=\"green\" stroke-width=\"0\"/><circle cx=\"836.0\" cy=\"79.2\" fill=\"green\" r=\"1.1\" stroke=\"green\" stroke-width=\"0\"/><text alignment-baseline=\"middle\" fill=\"white\" font-family=\"Futura\" font-size=\"9.24\" text-anchor=\"middle\" x=\"825.0\" y=\"80.52\">142</text><rect fill=\"green\" height=\"15.84\" width=\"19.8\" x=\"837.1\" y=\"71.28\"/><circle cx=\"836.0\" cy=\"79.2\" fill=\"green\" r=\"1.1\" stroke=\"green\" stroke-width=\"0\"/><circle cx=\"858.0\" cy=\"79.2\" fill=\"green\" r=\"1.1\" stroke=\"green\" stroke-width=\"0\"/><text alignment-baseline=\"middle\" fill=\"white\" font-family=\"Futura\" font-size=\"9.24\" text-anchor=\"middle\" x=\"847.0\" y=\"80.52\">143</text><rect fill=\"green\" height=\"15.84\" width=\"19.8\" x=\"859.1\" y=\"71.28\"/><circle cx=\"858.0\" cy=\"79.2\" fill=\"green\" r=\"1.1\" stroke=\"green\" stroke-width=\"0\"/><circle cx=\"880.0\" cy=\"79.2\" fill=\"green\" r=\"1.1\" stroke=\"green\" stroke-width=\"0\"/><text alignment-baseline=\"middle\" fill=\"white\" font-family=\"Futura\" font-size=\"9.24\" text-anchor=\"middle\" x=\"869.0\" y=\"80.52\">144</text><rect fill=\"green\" height=\"15.84\" width=\"19.8\" x=\"881.1\" y=\"71.28\"/><circle cx=\"880.0\" cy=\"79.2\" fill=\"green\" r=\"1.1\" stroke=\"green\" stroke-width=\"0\"/><circle cx=\"902.0\" cy=\"79.2\" fill=\"green\" r=\"1.1\" stroke=\"green\" stroke-width=\"0\"/><text alignment-baseline=\"middle\" fill=\"white\" font-family=\"Futura\" font-size=\"9.24\" text-anchor=\"middle\" x=\"891.0\" y=\"80.52\">145</text><rect fill=\"green\" height=\"15.84\" width=\"19.8\" x=\"903.1\" y=\"71.28\"/><circle cx=\"902.0\" cy=\"79.2\" fill=\"green\" r=\"1.1\" stroke=\"green\" stroke-width=\"0\"/><circle cx=\"924.0\" cy=\"79.2\" fill=\"green\" r=\"1.1\" stroke=\"green\" stroke-width=\"0\"/><text alignment-baseline=\"middle\" fill=\"white\" font-family=\"Futura\" font-size=\"9.24\" text-anchor=\"middle\" x=\"913.0\" y=\"80.52\">146</text><rect fill=\"green\" height=\"15.84\" width=\"19.8\" x=\"925.1\" y=\"71.28\"/><circle cx=\"924.0\" cy=\"79.2\" fill=\"green\" r=\"1.1\" stroke=\"green\" stroke-width=\"0\"/><circle cx=\"946.0\" cy=\"79.2\" fill=\"green\" r=\"1.1\" stroke=\"green\" stroke-width=\"0\"/><text alignment-baseline=\"middle\" fill=\"white\" font-family=\"Futura\" font-size=\"9.24\" text-anchor=\"middle\" x=\"935.0\" y=\"80.52\">147</text><line stroke=\"red\" stroke-width=\"1.32\" x1=\"374.0\" x2=\"374.0\" y1=\"80.52\" y2=\"130.68\"/><text alignment-baseline=\"middle\" fill=\"black\" font-family=\"Futura\" font-size=\"9.24\" text-anchor=\"start\" x=\"840.4\" y=\"133.32\">4f</text><rect fill=\"red\" height=\"15.84\" width=\"19.8\" x=\"375.1\" y=\"124.08\"/><circle cx=\"374.0\" cy=\"132.0\" fill=\"red\" r=\"1.1\" stroke=\"red\" stroke-width=\"0\"/><circle cx=\"396.0\" cy=\"132.0\" fill=\"red\" r=\"1.1\" stroke=\"red\" stroke-width=\"0\"/><text alignment-baseline=\"middle\" fill=\"white\" font-family=\"Futura\" font-size=\"9.24\" text-anchor=\"middle\" x=\"385.0\" y=\"133.32\">148</text><rect fill=\"red\" height=\"15.84\" width=\"19.8\" x=\"397.1\" y=\"124.08\"/><circle cx=\"396.0\" cy=\"132.0\" fill=\"red\" r=\"1.1\" stroke=\"red\" stroke-width=\"0\"/><circle cx=\"418.0\" cy=\"132.0\" fill=\"red\" r=\"1.1\" stroke=\"red\" stroke-width=\"0\"/><text alignment-baseline=\"middle\" fill=\"white\" font-family=\"Futura\" font-size=\"9.24\" text-anchor=\"middle\" x=\"407.0\" y=\"133.32\">149</text><rect fill=\"red\" height=\"15.84\" width=\"19.8\" x=\"419.1\" y=\"124.08\"/><circle cx=\"418.0\" cy=\"132.0\" fill=\"red\" r=\"1.1\" stroke=\"red\" stroke-width=\"0\"/><circle cx=\"440.0\" cy=\"132.0\" fill=\"red\" r=\"1.1\" stroke=\"red\" stroke-width=\"0\"/><text alignment-baseline=\"middle\" fill=\"white\" font-family=\"Futura\" font-size=\"9.24\" text-anchor=\"middle\" x=\"429.0\" y=\"133.32\">150</text><rect fill=\"red\" height=\"15.84\" width=\"19.8\" x=\"441.1\" y=\"124.08\"/><circle cx=\"440.0\" cy=\"132.0\" fill=\"red\" r=\"1.1\" stroke=\"red\" stroke-width=\"0\"/><circle cx=\"462.0\" cy=\"132.0\" fill=\"red\" r=\"1.1\" stroke=\"red\" stroke-width=\"0\"/><text alignment-baseline=\"middle\" fill=\"white\" font-family=\"Futura\" font-size=\"9.24\" text-anchor=\"middle\" x=\"451.0\" y=\"133.32\">151</text><rect fill=\"red\" height=\"15.84\" width=\"19.8\" x=\"463.1\" y=\"124.08\"/><circle cx=\"462.0\" cy=\"132.0\" fill=\"red\" r=\"1.1\" stroke=\"red\" stroke-width=\"0\"/><circle cx=\"484.0\" cy=\"132.0\" fill=\"red\" r=\"1.1\" stroke=\"red\" stroke-width=\"0\"/><text alignment-baseline=\"middle\" fill=\"white\" font-family=\"Futura\" font-size=\"9.24\" text-anchor=\"middle\" x=\"473.0\" y=\"133.32\">152</text><rect fill=\"red\" height=\"15.84\" width=\"19.8\" x=\"485.1\" y=\"124.08\"/><circle cx=\"484.0\" cy=\"132.0\" fill=\"red\" r=\"1.1\" stroke=\"red\" stroke-width=\"0\"/><circle cx=\"506.0\" cy=\"132.0\" fill=\"red\" r=\"1.1\" stroke=\"red\" stroke-width=\"0\"/><text alignment-baseline=\"middle\" fill=\"white\" font-family=\"Futura\" font-size=\"9.24\" text-anchor=\"middle\" x=\"495.0\" y=\"133.32\">153</text><rect fill=\"red\" height=\"15.84\" width=\"19.8\" x=\"507.1\" y=\"124.08\"/><circle cx=\"506.0\" cy=\"132.0\" fill=\"red\" r=\"1.1\" stroke=\"red\" stroke-width=\"0\"/><circle cx=\"528.0\" cy=\"132.0\" fill=\"red\" r=\"1.1\" stroke=\"red\" stroke-width=\"0\"/><text alignment-baseline=\"middle\" fill=\"white\" font-family=\"Futura\" font-size=\"9.24\" text-anchor=\"middle\" x=\"517.0\" y=\"133.32\">154</text><rect fill=\"red\" height=\"15.84\" width=\"19.8\" x=\"529.1\" y=\"124.08\"/><circle cx=\"528.0\" cy=\"132.0\" fill=\"red\" r=\"1.1\" stroke=\"red\" stroke-width=\"0\"/><circle cx=\"550.0\" cy=\"132.0\" fill=\"red\" r=\"1.1\" stroke=\"red\" stroke-width=\"0\"/><text alignment-baseline=\"middle\" fill=\"white\" font-family=\"Futura\" font-size=\"9.24\" text-anchor=\"middle\" x=\"539.0\" y=\"133.32\">155</text><rect fill=\"red\" height=\"15.84\" width=\"19.8\" x=\"551.1\" y=\"124.08\"/><circle cx=\"550.0\" cy=\"132.0\" fill=\"red\" r=\"1.1\" stroke=\"red\" stroke-width=\"0\"/><circle cx=\"572.0\" cy=\"132.0\" fill=\"red\" r=\"1.1\" stroke=\"red\" stroke-width=\"0\"/><text alignment-baseline=\"middle\" fill=\"white\" font-family=\"Futura\" font-size=\"9.24\" text-anchor=\"middle\" x=\"561.0\" y=\"133.32\">156</text><rect fill=\"red\" height=\"15.84\" width=\"19.8\" x=\"573.1\" y=\"124.08\"/><circle cx=\"572.0\" cy=\"132.0\" fill=\"red\" r=\"1.1\" stroke=\"red\" stroke-width=\"0\"/><circle cx=\"594.0\" cy=\"132.0\" fill=\"red\" r=\"1.1\" stroke=\"red\" stroke-width=\"0\"/><text alignment-baseline=\"middle\" fill=\"white\" font-family=\"Futura\" font-size=\"9.24\" text-anchor=\"middle\" x=\"583.0\" y=\"133.32\">157</text><rect fill=\"red\" height=\"15.84\" width=\"19.8\" x=\"595.1\" y=\"124.08\"/><circle cx=\"594.0\" cy=\"132.0\" fill=\"red\" r=\"1.1\" stroke=\"red\" stroke-width=\"0\"/><circle cx=\"616.0\" cy=\"132.0\" fill=\"red\" r=\"1.1\" stroke=\"red\" stroke-width=\"0\"/><text alignment-baseline=\"middle\" fill=\"white\" font-family=\"Futura\" font-size=\"9.24\" text-anchor=\"middle\" x=\"605.0\" y=\"133.32\">158</text><rect fill=\"red\" height=\"15.84\" width=\"19.8\" x=\"617.1\" y=\"124.08\"/><circle cx=\"616.0\" cy=\"132.0\" fill=\"red\" r=\"1.1\" stroke=\"red\" stroke-width=\"0\"/><circle cx=\"638.0\" cy=\"132.0\" fill=\"red\" r=\"1.1\" stroke=\"red\" stroke-width=\"0\"/><text alignment-baseline=\"middle\" fill=\"white\" font-family=\"Futura\" font-size=\"9.24\" text-anchor=\"middle\" x=\"627.0\" y=\"133.32\">159</text><rect fill=\"red\" height=\"15.84\" width=\"19.8\" x=\"639.1\" y=\"124.08\"/><circle cx=\"638.0\" cy=\"132.0\" fill=\"red\" r=\"1.1\" stroke=\"red\" stroke-width=\"0\"/><circle cx=\"660.0\" cy=\"132.0\" fill=\"red\" r=\"1.1\" stroke=\"red\" stroke-width=\"0\"/><text alignment-baseline=\"middle\" fill=\"white\" font-family=\"Futura\" font-size=\"9.24\" text-anchor=\"middle\" x=\"649.0\" y=\"133.32\">160</text><rect fill=\"red\" height=\"15.84\" width=\"19.8\" x=\"661.1\" y=\"124.08\"/><circle cx=\"660.0\" cy=\"132.0\" fill=\"red\" r=\"1.1\" stroke=\"red\" stroke-width=\"0\"/><circle cx=\"682.0\" cy=\"132.0\" fill=\"red\" r=\"1.1\" stroke=\"red\" stroke-width=\"0\"/><text alignment-baseline=\"middle\" fill=\"white\" font-family=\"Futura\" font-size=\"9.24\" text-anchor=\"middle\" x=\"671.0\" y=\"133.32\">161</text><rect fill=\"red\" height=\"15.84\" width=\"19.8\" x=\"683.1\" y=\"124.08\"/><circle cx=\"682.0\" cy=\"132.0\" fill=\"red\" r=\"1.1\" stroke=\"red\" stroke-width=\"0\"/><circle cx=\"704.0\" cy=\"132.0\" fill=\"red\" r=\"1.1\" stroke=\"red\" stroke-width=\"0\"/><text alignment-baseline=\"middle\" fill=\"white\" font-family=\"Futura\" font-size=\"9.24\" text-anchor=\"middle\" x=\"693.0\" y=\"133.32\">162</text><rect fill=\"red\" height=\"15.84\" width=\"19.8\" x=\"705.1\" y=\"124.08\"/><circle cx=\"704.0\" cy=\"132.0\" fill=\"red\" r=\"1.1\" stroke=\"red\" stroke-width=\"0\"/><circle cx=\"726.0\" cy=\"132.0\" fill=\"red\" r=\"1.1\" stroke=\"red\" stroke-width=\"0\"/><text alignment-baseline=\"middle\" fill=\"white\" font-family=\"Futura\" font-size=\"9.24\" text-anchor=\"middle\" x=\"715.0\" y=\"133.32\">163</text><rect fill=\"red\" height=\"15.84\" width=\"19.8\" x=\"727.1\" y=\"124.08\"/><circle cx=\"726.0\" cy=\"132.0\" fill=\"red\" r=\"1.1\" stroke=\"red\" stroke-width=\"0\"/><circle cx=\"748.0\" cy=\"132.0\" fill=\"red\" r=\"1.1\" stroke=\"red\" stroke-width=\"0\"/><text alignment-baseline=\"middle\" fill=\"white\" font-family=\"Futura\" font-size=\"9.24\" text-anchor=\"middle\" x=\"737.0\" y=\"133.32\">164</text><rect fill=\"red\" height=\"15.84\" width=\"19.8\" x=\"749.1\" y=\"124.08\"/><circle cx=\"748.0\" cy=\"132.0\" fill=\"red\" r=\"1.1\" stroke=\"red\" stroke-width=\"0\"/><circle cx=\"770.0\" cy=\"132.0\" fill=\"red\" r=\"1.1\" stroke=\"red\" stroke-width=\"0\"/><text alignment-baseline=\"middle\" fill=\"white\" font-family=\"Futura\" font-size=\"9.24\" text-anchor=\"middle\" x=\"759.0\" y=\"133.32\">165</text><rect fill=\"red\" height=\"15.84\" width=\"19.8\" x=\"771.1\" y=\"124.08\"/><circle cx=\"770.0\" cy=\"132.0\" fill=\"red\" r=\"1.1\" stroke=\"red\" stroke-width=\"0\"/><circle cx=\"792.0\" cy=\"132.0\" fill=\"red\" r=\"1.1\" stroke=\"red\" stroke-width=\"0\"/><text alignment-baseline=\"middle\" fill=\"white\" font-family=\"Futura\" font-size=\"9.24\" text-anchor=\"middle\" x=\"781.0\" y=\"133.32\">166</text><rect fill=\"red\" height=\"15.84\" width=\"19.8\" x=\"793.1\" y=\"124.08\"/><circle cx=\"792.0\" cy=\"132.0\" fill=\"red\" r=\"1.1\" stroke=\"red\" stroke-width=\"0\"/><circle cx=\"814.0\" cy=\"132.0\" fill=\"red\" r=\"1.1\" stroke=\"red\" stroke-width=\"0\"/><text alignment-baseline=\"middle\" fill=\"white\" font-family=\"Futura\" font-size=\"9.24\" text-anchor=\"middle\" x=\"803.0\" y=\"133.32\">167</text><rect fill=\"red\" height=\"15.84\" width=\"19.8\" x=\"815.1\" y=\"124.08\"/><circle cx=\"814.0\" cy=\"132.0\" fill=\"red\" r=\"1.1\" stroke=\"red\" stroke-width=\"0\"/><text alignment-baseline=\"middle\" fill=\"white\" font-family=\"Futura\" font-size=\"9.24\" text-anchor=\"middle\" x=\"825.0\" y=\"133.32\">168</text><line stroke=\"green\" stroke-width=\"1.32\" x1=\"660.0\" x2=\"660.0\" y1=\"133.32\" y2=\"183.48\"/><text alignment-baseline=\"middle\" fill=\"black\" font-family=\"Futura\" font-size=\"9.24\" text-anchor=\"end\" x=\"171.6\" y=\"186.12\">5b</text><rect fill=\"green\" height=\"15.84\" width=\"19.8\" x=\"177.1\" y=\"176.88\"/><circle cx=\"198.0\" cy=\"184.8\" fill=\"green\" r=\"1.1\" stroke=\"green\" stroke-width=\"0\"/><text alignment-baseline=\"middle\" fill=\"white\" font-family=\"Futura\" font-size=\"9.24\" text-anchor=\"middle\" x=\"187.0\" y=\"186.12\">169</text><rect fill=\"green\" height=\"15.84\" width=\"19.8\" x=\"199.1\" y=\"176.88\"/><circle cx=\"198.0\" cy=\"184.8\" fill=\"green\" r=\"1.1\" stroke=\"green\" stroke-width=\"0\"/><circle cx=\"220.0\" cy=\"184.8\" fill=\"green\" r=\"1.1\" stroke=\"green\" stroke-width=\"0\"/><text alignment-baseline=\"middle\" fill=\"white\" font-family=\"Futura\" font-size=\"9.24\" text-anchor=\"middle\" x=\"209.0\" y=\"186.12\">170</text><rect fill=\"green\" height=\"15.84\" width=\"19.8\" x=\"221.1\" y=\"176.88\"/><circle cx=\"220.0\" cy=\"184.8\" fill=\"green\" r=\"1.1\" stroke=\"green\" stroke-width=\"0\"/><circle cx=\"242.0\" cy=\"184.8\" fill=\"green\" r=\"1.1\" stroke=\"green\" stroke-width=\"0\"/><text alignment-baseline=\"middle\" fill=\"white\" font-family=\"Futura\" font-size=\"9.24\" text-anchor=\"middle\" x=\"231.0\" y=\"186.12\">171</text><rect fill=\"green\" height=\"15.84\" width=\"19.8\" x=\"243.1\" y=\"176.88\"/><circle cx=\"242.0\" cy=\"184.8\" fill=\"green\" r=\"1.1\" stroke=\"green\" stroke-width=\"0\"/><circle cx=\"264.0\" cy=\"184.8\" fill=\"green\" r=\"1.1\" stroke=\"green\" stroke-width=\"0\"/><text alignment-baseline=\"middle\" fill=\"white\" font-family=\"Futura\" font-size=\"9.24\" text-anchor=\"middle\" x=\"253.0\" y=\"186.12\">172</text><rect fill=\"green\" height=\"15.84\" width=\"19.8\" x=\"265.1\" y=\"176.88\"/><circle cx=\"264.0\" cy=\"184.8\" fill=\"green\" r=\"1.1\" stroke=\"green\" stroke-width=\"0\"/><circle cx=\"286.0\" cy=\"184.8\" fill=\"green\" r=\"1.1\" stroke=\"green\" stroke-width=\"0\"/><text alignment-baseline=\"middle\" fill=\"white\" font-family=\"Futura\" font-size=\"9.24\" text-anchor=\"middle\" x=\"275.0\" y=\"186.12\">173</text><rect fill=\"green\" height=\"15.84\" width=\"19.8\" x=\"287.1\" y=\"176.88\"/><circle cx=\"286.0\" cy=\"184.8\" fill=\"green\" r=\"1.1\" stroke=\"green\" stroke-width=\"0\"/><circle cx=\"308.0\" cy=\"184.8\" fill=\"green\" r=\"1.1\" stroke=\"green\" stroke-width=\"0\"/><text alignment-baseline=\"middle\" fill=\"white\" font-family=\"Futura\" font-size=\"9.24\" text-anchor=\"middle\" x=\"297.0\" y=\"186.12\">174</text><rect fill=\"green\" height=\"15.84\" width=\"19.8\" x=\"309.1\" y=\"176.88\"/><circle cx=\"308.0\" cy=\"184.8\" fill=\"green\" r=\"1.1\" stroke=\"green\" stroke-width=\"0\"/><circle cx=\"330.0\" cy=\"184.8\" fill=\"green\" r=\"1.1\" stroke=\"green\" stroke-width=\"0\"/><text alignment-baseline=\"middle\" fill=\"white\" font-family=\"Futura\" font-size=\"9.24\" text-anchor=\"middle\" x=\"319.0\" y=\"186.12\">175</text><rect fill=\"green\" height=\"15.84\" width=\"19.8\" x=\"331.1\" y=\"176.88\"/><circle cx=\"330.0\" cy=\"184.8\" fill=\"green\" r=\"1.1\" stroke=\"green\" stroke-width=\"0\"/><circle cx=\"352.0\" cy=\"184.8\" fill=\"green\" r=\"1.1\" stroke=\"green\" stroke-width=\"0\"/><text alignment-baseline=\"middle\" fill=\"white\" font-family=\"Futura\" font-size=\"9.24\" text-anchor=\"middle\" x=\"341.0\" y=\"186.12\">176</text><rect fill=\"green\" height=\"15.84\" width=\"19.8\" x=\"353.1\" y=\"176.88\"/><circle cx=\"352.0\" cy=\"184.8\" fill=\"green\" r=\"1.1\" stroke=\"green\" stroke-width=\"0\"/><circle cx=\"374.0\" cy=\"184.8\" fill=\"green\" r=\"1.1\" stroke=\"green\" stroke-width=\"0\"/><text alignment-baseline=\"middle\" fill=\"white\" font-family=\"Futura\" font-size=\"9.24\" text-anchor=\"middle\" x=\"363.0\" y=\"186.12\">177</text><rect fill=\"green\" height=\"15.84\" width=\"19.8\" x=\"375.1\" y=\"176.88\"/><circle cx=\"374.0\" cy=\"184.8\" fill=\"green\" r=\"1.1\" stroke=\"green\" stroke-width=\"0\"/><circle cx=\"396.0\" cy=\"184.8\" fill=\"green\" r=\"1.1\" stroke=\"green\" stroke-width=\"0\"/><text alignment-baseline=\"middle\" fill=\"white\" font-family=\"Futura\" font-size=\"9.24\" text-anchor=\"middle\" x=\"385.0\" y=\"186.12\">178</text><rect fill=\"green\" height=\"15.84\" width=\"19.8\" x=\"397.1\" y=\"176.88\"/><circle cx=\"396.0\" cy=\"184.8\" fill=\"green\" r=\"1.1\" stroke=\"green\" stroke-width=\"0\"/><circle cx=\"418.0\" cy=\"184.8\" fill=\"green\" r=\"1.1\" stroke=\"green\" stroke-width=\"0\"/><text alignment-baseline=\"middle\" fill=\"white\" font-family=\"Futura\" font-size=\"9.24\" text-anchor=\"middle\" x=\"407.0\" y=\"186.12\">179</text><rect fill=\"green\" height=\"15.84\" width=\"19.8\" x=\"419.1\" y=\"176.88\"/><circle cx=\"418.0\" cy=\"184.8\" fill=\"green\" r=\"1.1\" stroke=\"green\" stroke-width=\"0\"/><circle cx=\"440.0\" cy=\"184.8\" fill=\"green\" r=\"1.1\" stroke=\"green\" stroke-width=\"0\"/><text alignment-baseline=\"middle\" fill=\"white\" font-family=\"Futura\" font-size=\"9.24\" text-anchor=\"middle\" x=\"429.0\" y=\"186.12\">180</text><rect fill=\"green\" height=\"15.84\" width=\"19.8\" x=\"441.1\" y=\"176.88\"/><circle cx=\"440.0\" cy=\"184.8\" fill=\"green\" r=\"1.1\" stroke=\"green\" stroke-width=\"0\"/><circle cx=\"462.0\" cy=\"184.8\" fill=\"green\" r=\"1.1\" stroke=\"green\" stroke-width=\"0\"/><text alignment-baseline=\"middle\" fill=\"white\" font-family=\"Futura\" font-size=\"9.24\" text-anchor=\"middle\" x=\"451.0\" y=\"186.12\">181</text><rect fill=\"green\" height=\"15.84\" width=\"19.8\" x=\"463.1\" y=\"176.88\"/><circle cx=\"462.0\" cy=\"184.8\" fill=\"green\" r=\"1.1\" stroke=\"green\" stroke-width=\"0\"/><circle cx=\"484.0\" cy=\"184.8\" fill=\"green\" r=\"1.1\" stroke=\"green\" stroke-width=\"0\"/><text alignment-baseline=\"middle\" fill=\"white\" font-family=\"Futura\" font-size=\"9.24\" text-anchor=\"middle\" x=\"473.0\" y=\"186.12\">182</text><rect fill=\"green\" height=\"15.84\" width=\"19.8\" x=\"485.1\" y=\"176.88\"/><circle cx=\"484.0\" cy=\"184.8\" fill=\"green\" r=\"1.1\" stroke=\"green\" stroke-width=\"0\"/><circle cx=\"506.0\" cy=\"184.8\" fill=\"green\" r=\"1.1\" stroke=\"green\" stroke-width=\"0\"/><text alignment-baseline=\"middle\" fill=\"white\" font-family=\"Futura\" font-size=\"9.24\" text-anchor=\"middle\" x=\"495.0\" y=\"186.12\">183</text><rect fill=\"green\" height=\"15.84\" width=\"19.8\" x=\"507.1\" y=\"176.88\"/><circle cx=\"506.0\" cy=\"184.8\" fill=\"green\" r=\"1.1\" stroke=\"green\" stroke-width=\"0\"/><circle cx=\"528.0\" cy=\"184.8\" fill=\"green\" r=\"1.1\" stroke=\"green\" stroke-width=\"0\"/><text alignment-baseline=\"middle\" fill=\"white\" font-family=\"Futura\" font-size=\"9.24\" text-anchor=\"middle\" x=\"517.0\" y=\"186.12\">184</text><rect fill=\"green\" height=\"15.84\" width=\"19.8\" x=\"529.1\" y=\"176.88\"/><circle cx=\"528.0\" cy=\"184.8\" fill=\"green\" r=\"1.1\" stroke=\"green\" stroke-width=\"0\"/><circle cx=\"550.0\" cy=\"184.8\" fill=\"green\" r=\"1.1\" stroke=\"green\" stroke-width=\"0\"/><text alignment-baseline=\"middle\" fill=\"white\" font-family=\"Futura\" font-size=\"9.24\" text-anchor=\"middle\" x=\"539.0\" y=\"186.12\">185</text><rect fill=\"green\" height=\"15.84\" width=\"19.8\" x=\"551.1\" y=\"176.88\"/><circle cx=\"550.0\" cy=\"184.8\" fill=\"green\" r=\"1.1\" stroke=\"green\" stroke-width=\"0\"/><circle cx=\"572.0\" cy=\"184.8\" fill=\"green\" r=\"1.1\" stroke=\"green\" stroke-width=\"0\"/><text alignment-baseline=\"middle\" fill=\"white\" font-family=\"Futura\" font-size=\"9.24\" text-anchor=\"middle\" x=\"561.0\" y=\"186.12\">186</text><rect fill=\"green\" height=\"15.84\" width=\"19.8\" x=\"573.1\" y=\"176.88\"/><circle cx=\"572.0\" cy=\"184.8\" fill=\"green\" r=\"1.1\" stroke=\"green\" stroke-width=\"0\"/><circle cx=\"594.0\" cy=\"184.8\" fill=\"green\" r=\"1.1\" stroke=\"green\" stroke-width=\"0\"/><text alignment-baseline=\"middle\" fill=\"white\" font-family=\"Futura\" font-size=\"9.24\" text-anchor=\"middle\" x=\"583.0\" y=\"186.12\">187</text><rect fill=\"green\" height=\"15.84\" width=\"19.8\" x=\"595.1\" y=\"176.88\"/><circle cx=\"594.0\" cy=\"184.8\" fill=\"green\" r=\"1.1\" stroke=\"green\" stroke-width=\"0\"/><circle cx=\"616.0\" cy=\"184.8\" fill=\"green\" r=\"1.1\" stroke=\"green\" stroke-width=\"0\"/><text alignment-baseline=\"middle\" fill=\"white\" font-family=\"Futura\" font-size=\"9.24\" text-anchor=\"middle\" x=\"605.0\" y=\"186.12\">188</text><rect fill=\"green\" height=\"15.84\" width=\"19.8\" x=\"617.1\" y=\"176.88\"/><circle cx=\"616.0\" cy=\"184.8\" fill=\"green\" r=\"1.1\" stroke=\"green\" stroke-width=\"0\"/><circle cx=\"638.0\" cy=\"184.8\" fill=\"green\" r=\"1.1\" stroke=\"green\" stroke-width=\"0\"/><text alignment-baseline=\"middle\" fill=\"white\" font-family=\"Futura\" font-size=\"9.24\" text-anchor=\"middle\" x=\"627.0\" y=\"186.12\">189</text><rect fill=\"green\" height=\"15.84\" width=\"19.8\" x=\"639.1\" y=\"176.88\"/><circle cx=\"638.0\" cy=\"184.8\" fill=\"green\" r=\"1.1\" stroke=\"green\" stroke-width=\"0\"/><circle cx=\"660.0\" cy=\"184.8\" fill=\"green\" r=\"1.1\" stroke=\"green\" stroke-width=\"0\"/><text alignment-baseline=\"middle\" fill=\"white\" font-family=\"Futura\" font-size=\"9.24\" text-anchor=\"middle\" x=\"649.0\" y=\"186.12\">190</text><line stroke=\"red\" stroke-width=\"1.32\" x1=\"814.0\" x2=\"814.0\" y1=\"133.32\" y2=\"236.28\"/><text alignment-baseline=\"middle\" fill=\"black\" font-family=\"Futura\" font-size=\"9.24\" text-anchor=\"start\" x=\"840.4\" y=\"238.92\">8f</text><rect fill=\"red\" height=\"15.84\" width=\"19.8\" x=\"815.1\" y=\"229.68\"/><circle cx=\"814.0\" cy=\"237.6\" fill=\"red\" r=\"1.1\" stroke=\"red\" stroke-width=\"0\"/><text alignment-baseline=\"middle\" fill=\"white\" font-family=\"Futura\" font-size=\"9.24\" text-anchor=\"middle\" x=\"825.0\" y=\"238.92\">280</text><line stroke=\"green\" stroke-width=\"1.32\" x1=\"704.0\" x2=\"704.0\" y1=\"133.32\" y2=\"289.08\"/><text alignment-baseline=\"middle\" fill=\"black\" font-family=\"Futura\" font-size=\"9.24\" text-anchor=\"end\" x=\"303.6\" y=\"291.72\">9b</text><rect fill=\"green\" height=\"15.84\" width=\"19.8\" x=\"309.1\" y=\"282.48\"/><circle cx=\"330.0\" cy=\"290.4\" fill=\"green\" r=\"1.1\" stroke=\"green\" stroke-width=\"0\"/><text alignment-baseline=\"middle\" fill=\"white\" font-family=\"Futura\" font-size=\"9.24\" text-anchor=\"middle\" x=\"319.0\" y=\"291.72\">281</text><rect fill=\"green\" height=\"15.84\" width=\"19.8\" x=\"331.1\" y=\"282.48\"/><circle cx=\"330.0\" cy=\"290.4\" fill=\"green\" r=\"1.1\" stroke=\"green\" stroke-width=\"0\"/><circle cx=\"352.0\" cy=\"290.4\" fill=\"green\" r=\"1.1\" stroke=\"green\" stroke-width=\"0\"/><text alignment-baseline=\"middle\" fill=\"white\" font-family=\"Futura\" font-size=\"9.24\" text-anchor=\"middle\" x=\"341.0\" y=\"291.72\">282</text><rect fill=\"green\" height=\"15.84\" width=\"19.8\" x=\"353.1\" y=\"282.48\"/><circle cx=\"352.0\" cy=\"290.4\" fill=\"green\" r=\"1.1\" stroke=\"green\" stroke-width=\"0\"/><circle cx=\"374.0\" cy=\"290.4\" fill=\"green\" r=\"1.1\" stroke=\"green\" stroke-width=\"0\"/><text alignment-baseline=\"middle\" fill=\"white\" font-family=\"Futura\" font-size=\"9.24\" text-anchor=\"middle\" x=\"363.0\" y=\"291.72\">283</text><rect fill=\"green\" height=\"15.84\" width=\"19.8\" x=\"375.1\" y=\"282.48\"/><circle cx=\"374.0\" cy=\"290.4\" fill=\"green\" r=\"1.1\" stroke=\"green\" stroke-width=\"0\"/><circle cx=\"396.0\" cy=\"290.4\" fill=\"green\" r=\"1.1\" stroke=\"green\" stroke-width=\"0\"/><text alignment-baseline=\"middle\" fill=\"white\" font-family=\"Futura\" font-size=\"9.24\" text-anchor=\"middle\" x=\"385.0\" y=\"291.72\">284</text><rect fill=\"green\" height=\"15.84\" width=\"19.8\" x=\"397.1\" y=\"282.48\"/><circle cx=\"396.0\" cy=\"290.4\" fill=\"green\" r=\"1.1\" stroke=\"green\" stroke-width=\"0\"/><circle cx=\"418.0\" cy=\"290.4\" fill=\"green\" r=\"1.1\" stroke=\"green\" stroke-width=\"0\"/><text alignment-baseline=\"middle\" fill=\"white\" font-family=\"Futura\" font-size=\"9.24\" text-anchor=\"middle\" x=\"407.0\" y=\"291.72\">285</text><rect fill=\"green\" height=\"15.84\" width=\"19.8\" x=\"419.1\" y=\"282.48\"/><circle cx=\"418.0\" cy=\"290.4\" fill=\"green\" r=\"1.1\" stroke=\"green\" stroke-width=\"0\"/><circle cx=\"440.0\" cy=\"290.4\" fill=\"green\" r=\"1.1\" stroke=\"green\" stroke-width=\"0\"/><text alignment-baseline=\"middle\" fill=\"white\" font-family=\"Futura\" font-size=\"9.24\" text-anchor=\"middle\" x=\"429.0\" y=\"291.72\">286</text><rect fill=\"green\" height=\"15.84\" width=\"19.8\" x=\"441.1\" y=\"282.48\"/><circle cx=\"440.0\" cy=\"290.4\" fill=\"green\" r=\"1.1\" stroke=\"green\" stroke-width=\"0\"/><circle cx=\"462.0\" cy=\"290.4\" fill=\"green\" r=\"1.1\" stroke=\"green\" stroke-width=\"0\"/><text alignment-baseline=\"middle\" fill=\"white\" font-family=\"Futura\" font-size=\"9.24\" text-anchor=\"middle\" x=\"451.0\" y=\"291.72\">287</text><rect fill=\"green\" height=\"15.84\" width=\"19.8\" x=\"463.1\" y=\"282.48\"/><circle cx=\"462.0\" cy=\"290.4\" fill=\"green\" r=\"1.1\" stroke=\"green\" stroke-width=\"0\"/><circle cx=\"484.0\" cy=\"290.4\" fill=\"green\" r=\"1.1\" stroke=\"green\" stroke-width=\"0\"/><text alignment-baseline=\"middle\" fill=\"white\" font-family=\"Futura\" font-size=\"9.24\" text-anchor=\"middle\" x=\"473.0\" y=\"291.72\">288</text><rect fill=\"green\" height=\"15.84\" width=\"19.8\" x=\"485.1\" y=\"282.48\"/><circle cx=\"484.0\" cy=\"290.4\" fill=\"green\" r=\"1.1\" stroke=\"green\" stroke-width=\"0\"/><circle cx=\"506.0\" cy=\"290.4\" fill=\"green\" r=\"1.1\" stroke=\"green\" stroke-width=\"0\"/><text alignment-baseline=\"middle\" fill=\"white\" font-family=\"Futura\" font-size=\"9.24\" text-anchor=\"middle\" x=\"495.0\" y=\"291.72\">289</text><rect fill=\"green\" height=\"15.84\" width=\"19.8\" x=\"507.1\" y=\"282.48\"/><circle cx=\"506.0\" cy=\"290.4\" fill=\"green\" r=\"1.1\" stroke=\"green\" stroke-width=\"0\"/><circle cx=\"528.0\" cy=\"290.4\" fill=\"green\" r=\"1.1\" stroke=\"green\" stroke-width=\"0\"/><text alignment-baseline=\"middle\" fill=\"white\" font-family=\"Futura\" font-size=\"9.24\" text-anchor=\"middle\" x=\"517.0\" y=\"291.72\">290</text><rect fill=\"green\" height=\"15.84\" width=\"19.8\" x=\"529.1\" y=\"282.48\"/><circle cx=\"528.0\" cy=\"290.4\" fill=\"green\" r=\"1.1\" stroke=\"green\" stroke-width=\"0\"/><circle cx=\"550.0\" cy=\"290.4\" fill=\"green\" r=\"1.1\" stroke=\"green\" stroke-width=\"0\"/><text alignment-baseline=\"middle\" fill=\"white\" font-family=\"Futura\" font-size=\"9.24\" text-anchor=\"middle\" x=\"539.0\" y=\"291.72\">291</text><rect fill=\"green\" height=\"15.84\" width=\"19.8\" x=\"551.1\" y=\"282.48\"/><circle cx=\"550.0\" cy=\"290.4\" fill=\"green\" r=\"1.1\" stroke=\"green\" stroke-width=\"0\"/><circle cx=\"572.0\" cy=\"290.4\" fill=\"green\" r=\"1.1\" stroke=\"green\" stroke-width=\"0\"/><text alignment-baseline=\"middle\" fill=\"white\" font-family=\"Futura\" font-size=\"9.24\" text-anchor=\"middle\" x=\"561.0\" y=\"291.72\">292</text><rect fill=\"green\" height=\"15.84\" width=\"19.8\" x=\"573.1\" y=\"282.48\"/><circle cx=\"572.0\" cy=\"290.4\" fill=\"green\" r=\"1.1\" stroke=\"green\" stroke-width=\"0\"/><circle cx=\"594.0\" cy=\"290.4\" fill=\"green\" r=\"1.1\" stroke=\"green\" stroke-width=\"0\"/><text alignment-baseline=\"middle\" fill=\"white\" font-family=\"Futura\" font-size=\"9.24\" text-anchor=\"middle\" x=\"583.0\" y=\"291.72\">293</text><rect fill=\"green\" height=\"15.84\" width=\"19.8\" x=\"595.1\" y=\"282.48\"/><circle cx=\"594.0\" cy=\"290.4\" fill=\"green\" r=\"1.1\" stroke=\"green\" stroke-width=\"0\"/><circle cx=\"616.0\" cy=\"290.4\" fill=\"green\" r=\"1.1\" stroke=\"green\" stroke-width=\"0\"/><text alignment-baseline=\"middle\" fill=\"white\" font-family=\"Futura\" font-size=\"9.24\" text-anchor=\"middle\" x=\"605.0\" y=\"291.72\">294</text><rect fill=\"green\" height=\"15.84\" width=\"19.8\" x=\"617.1\" y=\"282.48\"/><circle cx=\"616.0\" cy=\"290.4\" fill=\"green\" r=\"1.1\" stroke=\"green\" stroke-width=\"0\"/><circle cx=\"638.0\" cy=\"290.4\" fill=\"green\" r=\"1.1\" stroke=\"green\" stroke-width=\"0\"/><text alignment-baseline=\"middle\" fill=\"white\" font-family=\"Futura\" font-size=\"9.24\" text-anchor=\"middle\" x=\"627.0\" y=\"291.72\">295</text><rect fill=\"green\" height=\"15.84\" width=\"19.8\" x=\"639.1\" y=\"282.48\"/><circle cx=\"638.0\" cy=\"290.4\" fill=\"green\" r=\"1.1\" stroke=\"green\" stroke-width=\"0\"/><circle cx=\"660.0\" cy=\"290.4\" fill=\"green\" r=\"1.1\" stroke=\"green\" stroke-width=\"0\"/><text alignment-baseline=\"middle\" fill=\"white\" font-family=\"Futura\" font-size=\"9.24\" text-anchor=\"middle\" x=\"649.0\" y=\"291.72\">296</text><rect fill=\"green\" height=\"15.84\" width=\"19.8\" x=\"661.1\" y=\"282.48\"/><circle cx=\"660.0\" cy=\"290.4\" fill=\"green\" r=\"1.1\" stroke=\"green\" stroke-width=\"0\"/><circle cx=\"682.0\" cy=\"290.4\" fill=\"green\" r=\"1.1\" stroke=\"green\" stroke-width=\"0\"/><text alignment-baseline=\"middle\" fill=\"white\" font-family=\"Futura\" font-size=\"9.24\" text-anchor=\"middle\" x=\"671.0\" y=\"291.72\">297</text><rect fill=\"green\" height=\"15.84\" width=\"19.8\" x=\"683.1\" y=\"282.48\"/><circle cx=\"682.0\" cy=\"290.4\" fill=\"green\" r=\"1.1\" stroke=\"green\" stroke-width=\"0\"/><circle cx=\"704.0\" cy=\"290.4\" fill=\"green\" r=\"1.1\" stroke=\"green\" stroke-width=\"0\"/><text alignment-baseline=\"middle\" fill=\"white\" font-family=\"Futura\" font-size=\"9.24\" text-anchor=\"middle\" x=\"693.0\" y=\"291.72\">298</text><text alignment-baseline=\"middle\" fill=\"black\" font-family=\"Futura\" font-size=\"9.24\" text-anchor=\"end\" x=\"94.6\" y=\"27.72\">1</text><text alignment-baseline=\"middle\" fill=\"black\" font-family=\"Futura\" font-size=\"9.24\" text-anchor=\"end\" x=\"28.6\" y=\"27.72\">1</text><text alignment-baseline=\"middle\" fill=\"black\" font-family=\"Futura\" font-size=\"9.24\" text-anchor=\"end\" x=\"94.6\" y=\"54.12\">2</text><text alignment-baseline=\"middle\" fill=\"black\" font-family=\"Futura\" font-size=\"9.24\" text-anchor=\"end\" x=\"28.6\" y=\"54.12\">1</text><text alignment-baseline=\"middle\" fill=\"black\" font-family=\"Futura\" font-size=\"9.24\" text-anchor=\"end\" x=\"94.6\" y=\"80.52\">3</text><text alignment-baseline=\"middle\" fill=\"black\" font-family=\"Futura\" font-size=\"9.24\" text-anchor=\"end\" x=\"28.6\" y=\"80.52\">2</text><text alignment-baseline=\"middle\" fill=\"black\" font-family=\"Futura\" font-size=\"9.24\" text-anchor=\"end\" x=\"94.6\" y=\"106.92\">4</text><text alignment-baseline=\"middle\" fill=\"black\" font-family=\"Futura\" font-size=\"9.24\" text-anchor=\"end\" x=\"28.6\" y=\"106.92\">2</text><rect fill=\"black\" height=\"100.32\" width=\"2.2\" x=\"121.0\" y=\"15.84\"/><circle cx=\"121.0\" cy=\"15.84\" fill=\"black\" r=\"1.1\" stroke=\"black\" stroke-width=\"0\"/><rect fill=\"black\" height=\"2.64\" width=\"19.8\" x=\"111.1\" y=\"15.84\"/><circle cx=\"121.0\" cy=\"116.16\" fill=\"black\" r=\"1.1\" stroke=\"black\" stroke-width=\"0\"/><rect fill=\"black\" height=\"2.64\" width=\"19.8\" x=\"111.1\" y=\"113.52\"/><text alignment-baseline=\"middle\" fill=\"black\" font-family=\"Futura\" font-size=\"9.24\" text-anchor=\"middle\" x=\"114.4\" y=\"67.32\"/><text alignment-baseline=\"middle\" fill=\"black\" font-family=\"Futura\" font-size=\"9.24\" text-anchor=\"end\" x=\"94.6\" y=\"133.32\">5</text><text alignment-baseline=\"middle\" fill=\"black\" font-family=\"Futura\" font-size=\"9.24\" text-anchor=\"end\" x=\"28.6\" y=\"133.32\">3</text><text alignment-baseline=\"middle\" fill=\"black\" font-family=\"Futura\" font-size=\"9.24\" text-anchor=\"end\" x=\"94.6\" y=\"159.72\">6</text><text alignment-baseline=\"middle\" fill=\"black\" font-family=\"Futura\" font-size=\"9.24\" text-anchor=\"end\" x=\"28.6\" y=\"159.72\">3</text><text alignment-baseline=\"middle\" fill=\"black\" font-family=\"Futura\" font-size=\"9.24\" text-anchor=\"end\" x=\"94.6\" y=\"186.12\">7</text><text alignment-baseline=\"middle\" fill=\"black\" font-family=\"Futura\" font-size=\"9.24\" text-anchor=\"end\" x=\"28.6\" y=\"186.12\">4</text><text alignment-baseline=\"middle\" fill=\"black\" font-family=\"Futura\" font-size=\"9.24\" text-anchor=\"end\" x=\"94.6\" y=\"212.52\">8</text><text alignment-baseline=\"middle\" fill=\"black\" font-family=\"Futura\" font-size=\"9.24\" text-anchor=\"end\" x=\"28.6\" y=\"212.52\">4</text><text alignment-baseline=\"middle\" fill=\"black\" font-family=\"Futura\" font-size=\"9.24\" text-anchor=\"end\" x=\"94.6\" y=\"238.92\">11</text><text alignment-baseline=\"middle\" fill=\"black\" font-family=\"Futura\" font-size=\"9.24\" text-anchor=\"end\" x=\"28.6\" y=\"238.92\">7</text><text alignment-baseline=\"middle\" fill=\"black\" font-family=\"Futura\" font-size=\"9.24\" text-anchor=\"end\" x=\"94.6\" y=\"265.32\">12</text><text alignment-baseline=\"middle\" fill=\"black\" font-family=\"Futura\" font-size=\"9.24\" text-anchor=\"end\" x=\"28.6\" y=\"265.32\">7</text><text alignment-baseline=\"middle\" fill=\"black\" font-family=\"Futura\" font-size=\"9.24\" text-anchor=\"end\" x=\"94.6\" y=\"291.72\">13</text><text alignment-baseline=\"middle\" fill=\"black\" font-family=\"Futura\" font-size=\"9.24\" text-anchor=\"end\" x=\"28.6\" y=\"291.72\">8</text><text alignment-baseline=\"middle\" fill=\"black\" font-family=\"Futura\" font-size=\"9.24\" text-anchor=\"end\" x=\"94.6\" y=\"318.12\">14</text><text alignment-baseline=\"middle\" fill=\"black\" font-family=\"Futura\" font-size=\"9.24\" text-anchor=\"end\" x=\"28.6\" y=\"318.12\">8</text><rect fill=\"black\" height=\"311.52\" width=\"2.2\" x=\"44.0\" y=\"15.84\"/><circle cx=\"44.0\" cy=\"15.84\" fill=\"black\" r=\"1.1\" stroke=\"black\" stroke-width=\"0\"/><rect fill=\"black\" height=\"2.64\" width=\"19.8\" x=\"34.1\" y=\"15.84\"/><circle cx=\"44.0\" cy=\"327.36\" fill=\"black\" r=\"1.1\" stroke=\"black\" stroke-width=\"0\"/><rect fill=\"black\" height=\"2.64\" width=\"19.8\" x=\"34.1\" y=\"324.72\"/><text alignment-baseline=\"middle\" fill=\"black\" font-family=\"Futura\" font-size=\"9.24\" text-anchor=\"middle\" x=\"37.4\" y=\"172.92\"/><rect fill=\"black\" height=\"205.92\" width=\"2.2\" x=\"121.0\" y=\"121.44\"/><circle cx=\"121.0\" cy=\"121.44\" fill=\"black\" r=\"1.1\" stroke=\"black\" stroke-width=\"0\"/><rect fill=\"black\" height=\"2.64\" width=\"19.8\" x=\"111.1\" y=\"121.44\"/><text alignment-baseline=\"middle\" fill=\"black\" font-family=\"Futura\" font-size=\"9.24\" text-anchor=\"middle\" x=\"114.4\" y=\"225.72\"/></svg>"
      ],
      "text/plain": [
       "<IPython.core.display.SVG object>"
      ]
     },
     "execution_count": 66,
     "metadata": {},
     "output_type": "execute_result"
    }
   ],
   "source": [
    "view = tree.renderer\n",
    "view.zoom = 1.1\n",
    "view.scale_y = 24\n",
    "view.scale_x = 20\n",
    "view.font_size = 0.35\n",
    "SVG(view.to_svg())"
   ]
  },
  {
   "cell_type": "markdown",
   "metadata": {},
   "source": [
    "An alternate view which is similar to the standard way of plotting"
   ]
  },
  {
   "cell_type": "code",
   "execution_count": 67,
   "metadata": {
    "collapsed": false
   },
   "outputs": [
    {
     "data": {
      "image/svg+xml": [
       "<svg baseProfile=\"full\" height=\"247.5px\" version=\"1.1\" width=\"1927.2px\" xmlns=\"http://www.w3.org/2000/svg\" xmlns:ev=\"http://www.w3.org/2001/xml-events\" xmlns:xlink=\"http://www.w3.org/1999/xlink\"><defs/><text alignment-baseline=\"middle\" fill=\"black\" font-family=\"Times\" font-size=\"8.25\" text-anchor=\"end\" x=\"311.52\" y=\"17.325\">2b</text><rect fill=\"black\" height=\"9.9\" width=\"26.928\" x=\"316.536\" y=\"11.55\"/><circle cx=\"316.8\" cy=\"16.5\" fill=\"black\" r=\"-0.264\" stroke=\"black\" stroke-width=\"0\"/><circle cx=\"343.2\" cy=\"16.5\" fill=\"black\" r=\"-0.264\" stroke=\"black\" stroke-width=\"0\"/><text alignment-baseline=\"middle\" fill=\"white\" font-family=\"Times\" font-size=\"8.25\" text-anchor=\"middle\" x=\"330.0\" y=\"17.325\"/><rect fill=\"black\" height=\"9.9\" width=\"26.928\" x=\"342.936\" y=\"11.55\"/><circle cx=\"343.2\" cy=\"16.5\" fill=\"black\" r=\"-0.264\" stroke=\"black\" stroke-width=\"0\"/><circle cx=\"369.6\" cy=\"16.5\" fill=\"black\" r=\"-0.264\" stroke=\"black\" stroke-width=\"0\"/><text alignment-baseline=\"middle\" fill=\"white\" font-family=\"Times\" font-size=\"8.25\" text-anchor=\"middle\" x=\"356.4\" y=\"17.325\"/><rect fill=\"black\" height=\"9.9\" width=\"26.928\" x=\"369.336\" y=\"11.55\"/><circle cx=\"369.6\" cy=\"16.5\" fill=\"black\" r=\"-0.264\" stroke=\"black\" stroke-width=\"0\"/><circle cx=\"396.0\" cy=\"16.5\" fill=\"black\" r=\"-0.264\" stroke=\"black\" stroke-width=\"0\"/><text alignment-baseline=\"middle\" fill=\"white\" font-family=\"Times\" font-size=\"8.25\" text-anchor=\"middle\" x=\"382.8\" y=\"17.325\"/><rect fill=\"black\" height=\"9.9\" width=\"26.928\" x=\"395.736\" y=\"11.55\"/><circle cx=\"396.0\" cy=\"16.5\" fill=\"black\" r=\"-0.264\" stroke=\"black\" stroke-width=\"0\"/><circle cx=\"422.4\" cy=\"16.5\" fill=\"black\" r=\"-0.264\" stroke=\"black\" stroke-width=\"0\"/><text alignment-baseline=\"middle\" fill=\"white\" font-family=\"Times\" font-size=\"8.25\" text-anchor=\"middle\" x=\"409.2\" y=\"17.325\"/><rect fill=\"black\" height=\"9.9\" width=\"26.928\" x=\"422.136\" y=\"11.55\"/><circle cx=\"422.4\" cy=\"16.5\" fill=\"black\" r=\"-0.264\" stroke=\"black\" stroke-width=\"0\"/><circle cx=\"448.8\" cy=\"16.5\" fill=\"black\" r=\"-0.264\" stroke=\"black\" stroke-width=\"0\"/><text alignment-baseline=\"middle\" fill=\"white\" font-family=\"Times\" font-size=\"8.25\" text-anchor=\"middle\" x=\"435.6\" y=\"17.325\"/><rect fill=\"black\" height=\"9.9\" width=\"26.928\" x=\"448.536\" y=\"11.55\"/><circle cx=\"448.8\" cy=\"16.5\" fill=\"black\" r=\"-0.264\" stroke=\"black\" stroke-width=\"0\"/><circle cx=\"475.2\" cy=\"16.5\" fill=\"black\" r=\"-0.264\" stroke=\"black\" stroke-width=\"0\"/><text alignment-baseline=\"middle\" fill=\"white\" font-family=\"Times\" font-size=\"8.25\" text-anchor=\"middle\" x=\"462.0\" y=\"17.325\"/><rect fill=\"black\" height=\"9.9\" width=\"26.928\" x=\"474.936\" y=\"11.55\"/><circle cx=\"475.2\" cy=\"16.5\" fill=\"black\" r=\"-0.264\" stroke=\"black\" stroke-width=\"0\"/><circle cx=\"501.6\" cy=\"16.5\" fill=\"black\" r=\"-0.264\" stroke=\"black\" stroke-width=\"0\"/><text alignment-baseline=\"middle\" fill=\"white\" font-family=\"Times\" font-size=\"8.25\" text-anchor=\"middle\" x=\"488.4\" y=\"17.325\"/><rect fill=\"black\" height=\"9.9\" width=\"26.928\" x=\"501.336\" y=\"11.55\"/><circle cx=\"501.6\" cy=\"16.5\" fill=\"black\" r=\"-0.264\" stroke=\"black\" stroke-width=\"0\"/><circle cx=\"528.0\" cy=\"16.5\" fill=\"black\" r=\"-0.264\" stroke=\"black\" stroke-width=\"0\"/><text alignment-baseline=\"middle\" fill=\"white\" font-family=\"Times\" font-size=\"8.25\" text-anchor=\"middle\" x=\"514.8\" y=\"17.325\"/><rect fill=\"black\" height=\"9.9\" width=\"26.928\" x=\"527.736\" y=\"11.55\"/><circle cx=\"528.0\" cy=\"16.5\" fill=\"black\" r=\"-0.264\" stroke=\"black\" stroke-width=\"0\"/><circle cx=\"554.4\" cy=\"16.5\" fill=\"black\" r=\"-0.264\" stroke=\"black\" stroke-width=\"0\"/><text alignment-baseline=\"middle\" fill=\"white\" font-family=\"Times\" font-size=\"8.25\" text-anchor=\"middle\" x=\"541.2\" y=\"17.325\"/><rect fill=\"black\" height=\"9.9\" width=\"26.928\" x=\"554.136\" y=\"11.55\"/><circle cx=\"554.4\" cy=\"16.5\" fill=\"black\" r=\"-0.264\" stroke=\"black\" stroke-width=\"0\"/><circle cx=\"580.8\" cy=\"16.5\" fill=\"black\" r=\"-0.264\" stroke=\"black\" stroke-width=\"0\"/><text alignment-baseline=\"middle\" fill=\"white\" font-family=\"Times\" font-size=\"8.25\" text-anchor=\"middle\" x=\"567.6\" y=\"17.325\"/><rect fill=\"black\" height=\"9.9\" width=\"26.928\" x=\"580.536\" y=\"11.55\"/><circle cx=\"580.8\" cy=\"16.5\" fill=\"black\" r=\"-0.264\" stroke=\"black\" stroke-width=\"0\"/><circle cx=\"607.2\" cy=\"16.5\" fill=\"black\" r=\"-0.264\" stroke=\"black\" stroke-width=\"0\"/><text alignment-baseline=\"middle\" fill=\"white\" font-family=\"Times\" font-size=\"8.25\" text-anchor=\"middle\" x=\"594.0\" y=\"17.325\"/><rect fill=\"black\" height=\"9.9\" width=\"26.928\" x=\"606.936\" y=\"11.55\"/><circle cx=\"607.2\" cy=\"16.5\" fill=\"black\" r=\"-0.264\" stroke=\"black\" stroke-width=\"0\"/><circle cx=\"633.6\" cy=\"16.5\" fill=\"black\" r=\"-0.264\" stroke=\"black\" stroke-width=\"0\"/><text alignment-baseline=\"middle\" fill=\"white\" font-family=\"Times\" font-size=\"8.25\" text-anchor=\"middle\" x=\"620.4\" y=\"17.325\"/><rect fill=\"black\" height=\"9.9\" width=\"26.928\" x=\"633.336\" y=\"11.55\"/><circle cx=\"633.6\" cy=\"16.5\" fill=\"black\" r=\"-0.264\" stroke=\"black\" stroke-width=\"0\"/><circle cx=\"660.0\" cy=\"16.5\" fill=\"black\" r=\"-0.264\" stroke=\"black\" stroke-width=\"0\"/><text alignment-baseline=\"middle\" fill=\"white\" font-family=\"Times\" font-size=\"8.25\" text-anchor=\"middle\" x=\"646.8\" y=\"17.325\"/><rect fill=\"black\" height=\"9.9\" width=\"26.928\" x=\"659.736\" y=\"11.55\"/><circle cx=\"660.0\" cy=\"16.5\" fill=\"black\" r=\"-0.264\" stroke=\"black\" stroke-width=\"0\"/><circle cx=\"686.4\" cy=\"16.5\" fill=\"black\" r=\"-0.264\" stroke=\"black\" stroke-width=\"0\"/><text alignment-baseline=\"middle\" fill=\"white\" font-family=\"Times\" font-size=\"8.25\" text-anchor=\"middle\" x=\"673.2\" y=\"17.325\"/><rect fill=\"black\" height=\"9.9\" width=\"26.928\" x=\"686.136\" y=\"11.55\"/><circle cx=\"686.4\" cy=\"16.5\" fill=\"black\" r=\"-0.264\" stroke=\"black\" stroke-width=\"0\"/><circle cx=\"712.8\" cy=\"16.5\" fill=\"black\" r=\"-0.264\" stroke=\"black\" stroke-width=\"0\"/><text alignment-baseline=\"middle\" fill=\"white\" font-family=\"Times\" font-size=\"8.25\" text-anchor=\"middle\" x=\"699.6\" y=\"17.325\"/><rect fill=\"black\" height=\"9.9\" width=\"26.928\" x=\"712.536\" y=\"11.55\"/><circle cx=\"712.8\" cy=\"16.5\" fill=\"black\" r=\"-0.264\" stroke=\"black\" stroke-width=\"0\"/><circle cx=\"739.2\" cy=\"16.5\" fill=\"black\" r=\"-0.264\" stroke=\"black\" stroke-width=\"0\"/><text alignment-baseline=\"middle\" fill=\"white\" font-family=\"Times\" font-size=\"8.25\" text-anchor=\"middle\" x=\"726.0\" y=\"17.325\"/><rect fill=\"black\" height=\"9.9\" width=\"26.928\" x=\"738.936\" y=\"11.55\"/><circle cx=\"739.2\" cy=\"16.5\" fill=\"black\" r=\"-0.264\" stroke=\"black\" stroke-width=\"0\"/><circle cx=\"765.6\" cy=\"16.5\" fill=\"black\" r=\"-0.264\" stroke=\"black\" stroke-width=\"0\"/><text alignment-baseline=\"middle\" fill=\"white\" font-family=\"Times\" font-size=\"8.25\" text-anchor=\"middle\" x=\"752.4\" y=\"17.325\"/><rect fill=\"black\" height=\"9.9\" width=\"26.928\" x=\"765.336\" y=\"11.55\"/><circle cx=\"765.6\" cy=\"16.5\" fill=\"black\" r=\"-0.264\" stroke=\"black\" stroke-width=\"0\"/><circle cx=\"792.0\" cy=\"16.5\" fill=\"black\" r=\"-0.264\" stroke=\"black\" stroke-width=\"0\"/><text alignment-baseline=\"middle\" fill=\"white\" font-family=\"Times\" font-size=\"8.25\" text-anchor=\"middle\" x=\"778.8\" y=\"17.325\"/><rect fill=\"black\" height=\"9.9\" width=\"26.928\" x=\"791.736\" y=\"11.55\"/><circle cx=\"792.0\" cy=\"16.5\" fill=\"black\" r=\"-0.264\" stroke=\"black\" stroke-width=\"0\"/><circle cx=\"818.4\" cy=\"16.5\" fill=\"black\" r=\"-0.264\" stroke=\"black\" stroke-width=\"0\"/><text alignment-baseline=\"middle\" fill=\"white\" font-family=\"Times\" font-size=\"8.25\" text-anchor=\"middle\" x=\"805.2\" y=\"17.325\"/><rect fill=\"black\" height=\"9.9\" width=\"26.928\" x=\"818.136\" y=\"11.55\"/><circle cx=\"818.4\" cy=\"16.5\" fill=\"black\" r=\"-0.264\" stroke=\"black\" stroke-width=\"0\"/><circle cx=\"844.8\" cy=\"16.5\" fill=\"black\" r=\"-0.264\" stroke=\"black\" stroke-width=\"0\"/><text alignment-baseline=\"middle\" fill=\"white\" font-family=\"Times\" font-size=\"8.25\" text-anchor=\"middle\" x=\"831.6\" y=\"17.325\"/><rect fill=\"black\" height=\"9.9\" width=\"26.928\" x=\"844.536\" y=\"11.55\"/><circle cx=\"844.8\" cy=\"16.5\" fill=\"black\" r=\"-0.264\" stroke=\"black\" stroke-width=\"0\"/><circle cx=\"871.2\" cy=\"16.5\" fill=\"black\" r=\"-0.264\" stroke=\"black\" stroke-width=\"0\"/><text alignment-baseline=\"middle\" fill=\"white\" font-family=\"Times\" font-size=\"8.25\" text-anchor=\"middle\" x=\"858.0\" y=\"17.325\"/><rect fill=\"black\" height=\"9.9\" width=\"26.928\" x=\"870.936\" y=\"11.55\"/><circle cx=\"871.2\" cy=\"16.5\" fill=\"black\" r=\"-0.264\" stroke=\"black\" stroke-width=\"0\"/><circle cx=\"897.6\" cy=\"16.5\" fill=\"black\" r=\"-0.264\" stroke=\"black\" stroke-width=\"0\"/><text alignment-baseline=\"middle\" fill=\"white\" font-family=\"Times\" font-size=\"8.25\" text-anchor=\"middle\" x=\"884.4\" y=\"17.325\"/><rect fill=\"black\" height=\"9.9\" width=\"26.928\" x=\"897.336\" y=\"11.55\"/><circle cx=\"897.6\" cy=\"16.5\" fill=\"black\" r=\"-0.264\" stroke=\"black\" stroke-width=\"0\"/><circle cx=\"924.0\" cy=\"16.5\" fill=\"black\" r=\"-0.264\" stroke=\"black\" stroke-width=\"0\"/><text alignment-baseline=\"middle\" fill=\"white\" font-family=\"Times\" font-size=\"8.25\" text-anchor=\"middle\" x=\"910.8\" y=\"17.325\"/><rect fill=\"black\" height=\"9.9\" width=\"26.928\" x=\"923.736\" y=\"11.55\"/><circle cx=\"924.0\" cy=\"16.5\" fill=\"black\" r=\"-0.264\" stroke=\"black\" stroke-width=\"0\"/><circle cx=\"950.4\" cy=\"16.5\" fill=\"black\" r=\"-0.264\" stroke=\"black\" stroke-width=\"0\"/><text alignment-baseline=\"middle\" fill=\"white\" font-family=\"Times\" font-size=\"8.25\" text-anchor=\"middle\" x=\"937.2\" y=\"17.325\"/><rect fill=\"black\" height=\"9.9\" width=\"26.928\" x=\"950.136\" y=\"11.55\"/><circle cx=\"950.4\" cy=\"16.5\" fill=\"black\" r=\"-0.264\" stroke=\"black\" stroke-width=\"0\"/><circle cx=\"976.8\" cy=\"16.5\" fill=\"black\" r=\"-0.264\" stroke=\"black\" stroke-width=\"0\"/><text alignment-baseline=\"middle\" fill=\"white\" font-family=\"Times\" font-size=\"8.25\" text-anchor=\"middle\" x=\"963.6\" y=\"17.325\"/><rect fill=\"black\" height=\"9.9\" width=\"26.928\" x=\"976.536\" y=\"11.55\"/><circle cx=\"976.8\" cy=\"16.5\" fill=\"black\" r=\"-0.264\" stroke=\"black\" stroke-width=\"0\"/><circle cx=\"1003.2\" cy=\"16.5\" fill=\"black\" r=\"-0.264\" stroke=\"black\" stroke-width=\"0\"/><text alignment-baseline=\"middle\" fill=\"white\" font-family=\"Times\" font-size=\"8.25\" text-anchor=\"middle\" x=\"990.0\" y=\"17.325\"/><rect fill=\"black\" height=\"9.9\" width=\"26.928\" x=\"1002.936\" y=\"11.55\"/><circle cx=\"1003.2\" cy=\"16.5\" fill=\"black\" r=\"-0.264\" stroke=\"black\" stroke-width=\"0\"/><circle cx=\"1029.6\" cy=\"16.5\" fill=\"black\" r=\"-0.264\" stroke=\"black\" stroke-width=\"0\"/><text alignment-baseline=\"middle\" fill=\"white\" font-family=\"Times\" font-size=\"8.25\" text-anchor=\"middle\" x=\"1016.4\" y=\"17.325\"/><rect fill=\"black\" height=\"9.9\" width=\"26.928\" x=\"1029.336\" y=\"11.55\"/><circle cx=\"1029.6\" cy=\"16.5\" fill=\"black\" r=\"-0.264\" stroke=\"black\" stroke-width=\"0\"/><circle cx=\"1056.0\" cy=\"16.5\" fill=\"black\" r=\"-0.264\" stroke=\"black\" stroke-width=\"0\"/><text alignment-baseline=\"middle\" fill=\"white\" font-family=\"Times\" font-size=\"8.25\" text-anchor=\"middle\" x=\"1042.8\" y=\"17.325\"/><rect fill=\"black\" height=\"9.9\" width=\"26.928\" x=\"1055.736\" y=\"11.55\"/><circle cx=\"1056.0\" cy=\"16.5\" fill=\"black\" r=\"-0.264\" stroke=\"black\" stroke-width=\"0\"/><circle cx=\"1082.4\" cy=\"16.5\" fill=\"black\" r=\"-0.264\" stroke=\"black\" stroke-width=\"0\"/><text alignment-baseline=\"middle\" fill=\"white\" font-family=\"Times\" font-size=\"8.25\" text-anchor=\"middle\" x=\"1069.2\" y=\"17.325\"/><rect fill=\"black\" height=\"9.9\" width=\"26.928\" x=\"1082.136\" y=\"11.55\"/><circle cx=\"1082.4\" cy=\"16.5\" fill=\"black\" r=\"-0.264\" stroke=\"black\" stroke-width=\"0\"/><circle cx=\"1108.8\" cy=\"16.5\" fill=\"black\" r=\"-0.264\" stroke=\"black\" stroke-width=\"0\"/><text alignment-baseline=\"middle\" fill=\"white\" font-family=\"Times\" font-size=\"8.25\" text-anchor=\"middle\" x=\"1095.6\" y=\"17.325\"/><rect fill=\"black\" height=\"9.9\" width=\"26.928\" x=\"1108.536\" y=\"11.55\"/><circle cx=\"1108.8\" cy=\"16.5\" fill=\"black\" r=\"-0.264\" stroke=\"black\" stroke-width=\"0\"/><circle cx=\"1135.2\" cy=\"16.5\" fill=\"black\" r=\"-0.264\" stroke=\"black\" stroke-width=\"0\"/><text alignment-baseline=\"middle\" fill=\"white\" font-family=\"Times\" font-size=\"8.25\" text-anchor=\"middle\" x=\"1122.0\" y=\"17.325\"/><rect fill=\"black\" height=\"9.9\" width=\"26.928\" x=\"1134.936\" y=\"11.55\"/><circle cx=\"1135.2\" cy=\"16.5\" fill=\"black\" r=\"-0.264\" stroke=\"black\" stroke-width=\"0\"/><circle cx=\"1161.6\" cy=\"16.5\" fill=\"black\" r=\"-0.264\" stroke=\"black\" stroke-width=\"0\"/><text alignment-baseline=\"middle\" fill=\"white\" font-family=\"Times\" font-size=\"8.25\" text-anchor=\"middle\" x=\"1148.4\" y=\"17.325\"/><rect fill=\"black\" height=\"9.9\" width=\"26.928\" x=\"1161.336\" y=\"11.55\"/><circle cx=\"1161.6\" cy=\"16.5\" fill=\"black\" r=\"-0.264\" stroke=\"black\" stroke-width=\"0\"/><circle cx=\"1188.0\" cy=\"16.5\" fill=\"black\" r=\"-0.264\" stroke=\"black\" stroke-width=\"0\"/><text alignment-baseline=\"middle\" fill=\"white\" font-family=\"Times\" font-size=\"8.25\" text-anchor=\"middle\" x=\"1174.8\" y=\"17.325\"/><rect fill=\"black\" height=\"9.9\" width=\"26.928\" x=\"1187.736\" y=\"11.55\"/><circle cx=\"1188.0\" cy=\"16.5\" fill=\"black\" r=\"-0.264\" stroke=\"black\" stroke-width=\"0\"/><circle cx=\"1214.4\" cy=\"16.5\" fill=\"black\" r=\"-0.264\" stroke=\"black\" stroke-width=\"0\"/><text alignment-baseline=\"middle\" fill=\"white\" font-family=\"Times\" font-size=\"8.25\" text-anchor=\"middle\" x=\"1201.2\" y=\"17.325\"/><rect fill=\"black\" height=\"9.9\" width=\"26.928\" x=\"1214.136\" y=\"11.55\"/><circle cx=\"1214.4\" cy=\"16.5\" fill=\"black\" r=\"-0.264\" stroke=\"black\" stroke-width=\"0\"/><circle cx=\"1240.8\" cy=\"16.5\" fill=\"black\" r=\"-0.264\" stroke=\"black\" stroke-width=\"0\"/><text alignment-baseline=\"middle\" fill=\"white\" font-family=\"Times\" font-size=\"8.25\" text-anchor=\"middle\" x=\"1227.6\" y=\"17.325\"/><rect fill=\"black\" height=\"9.9\" width=\"26.928\" x=\"1240.536\" y=\"11.55\"/><circle cx=\"1240.8\" cy=\"16.5\" fill=\"black\" r=\"-0.264\" stroke=\"black\" stroke-width=\"0\"/><circle cx=\"1267.2\" cy=\"16.5\" fill=\"black\" r=\"-0.264\" stroke=\"black\" stroke-width=\"0\"/><text alignment-baseline=\"middle\" fill=\"white\" font-family=\"Times\" font-size=\"8.25\" text-anchor=\"middle\" x=\"1254.0\" y=\"17.325\"/><rect fill=\"black\" height=\"9.9\" width=\"26.928\" x=\"1266.936\" y=\"11.55\"/><circle cx=\"1267.2\" cy=\"16.5\" fill=\"black\" r=\"-0.264\" stroke=\"black\" stroke-width=\"0\"/><circle cx=\"1293.6\" cy=\"16.5\" fill=\"black\" r=\"-0.264\" stroke=\"black\" stroke-width=\"0\"/><text alignment-baseline=\"middle\" fill=\"white\" font-family=\"Times\" font-size=\"8.25\" text-anchor=\"middle\" x=\"1280.4\" y=\"17.325\"/><rect fill=\"black\" height=\"9.9\" width=\"26.928\" x=\"1293.336\" y=\"11.55\"/><circle cx=\"1293.6\" cy=\"16.5\" fill=\"black\" r=\"-0.264\" stroke=\"black\" stroke-width=\"0\"/><circle cx=\"1320.0\" cy=\"16.5\" fill=\"black\" r=\"-0.264\" stroke=\"black\" stroke-width=\"0\"/><text alignment-baseline=\"middle\" fill=\"white\" font-family=\"Times\" font-size=\"8.25\" text-anchor=\"middle\" x=\"1306.8\" y=\"17.325\"/><rect fill=\"black\" height=\"9.9\" width=\"26.928\" x=\"1319.736\" y=\"11.55\"/><circle cx=\"1320.0\" cy=\"16.5\" fill=\"black\" r=\"-0.264\" stroke=\"black\" stroke-width=\"0\"/><circle cx=\"1346.4\" cy=\"16.5\" fill=\"black\" r=\"-0.264\" stroke=\"black\" stroke-width=\"0\"/><text alignment-baseline=\"middle\" fill=\"white\" font-family=\"Times\" font-size=\"8.25\" text-anchor=\"middle\" x=\"1333.2\" y=\"17.325\"/><rect fill=\"black\" height=\"9.9\" width=\"26.928\" x=\"1346.136\" y=\"11.55\"/><circle cx=\"1346.4\" cy=\"16.5\" fill=\"black\" r=\"-0.264\" stroke=\"black\" stroke-width=\"0\"/><circle cx=\"1372.8\" cy=\"16.5\" fill=\"black\" r=\"-0.264\" stroke=\"black\" stroke-width=\"0\"/><text alignment-baseline=\"middle\" fill=\"white\" font-family=\"Times\" font-size=\"8.25\" text-anchor=\"middle\" x=\"1359.6\" y=\"17.325\"/><rect fill=\"black\" height=\"9.9\" width=\"26.928\" x=\"1372.536\" y=\"11.55\"/><circle cx=\"1372.8\" cy=\"16.5\" fill=\"black\" r=\"-0.264\" stroke=\"black\" stroke-width=\"0\"/><circle cx=\"1399.2\" cy=\"16.5\" fill=\"black\" r=\"-0.264\" stroke=\"black\" stroke-width=\"0\"/><text alignment-baseline=\"middle\" fill=\"white\" font-family=\"Times\" font-size=\"8.25\" text-anchor=\"middle\" x=\"1386.0\" y=\"17.325\"/><rect fill=\"black\" height=\"9.9\" width=\"26.928\" x=\"1398.936\" y=\"11.55\"/><circle cx=\"1399.2\" cy=\"16.5\" fill=\"black\" r=\"-0.264\" stroke=\"black\" stroke-width=\"0\"/><circle cx=\"1425.6\" cy=\"16.5\" fill=\"black\" r=\"-0.264\" stroke=\"black\" stroke-width=\"0\"/><text alignment-baseline=\"middle\" fill=\"white\" font-family=\"Times\" font-size=\"8.25\" text-anchor=\"middle\" x=\"1412.4\" y=\"17.325\"/><rect fill=\"black\" height=\"9.9\" width=\"26.928\" x=\"1425.336\" y=\"11.55\"/><circle cx=\"1425.6\" cy=\"16.5\" fill=\"black\" r=\"-0.264\" stroke=\"black\" stroke-width=\"0\"/><circle cx=\"1452.0\" cy=\"16.5\" fill=\"black\" r=\"-0.264\" stroke=\"black\" stroke-width=\"0\"/><text alignment-baseline=\"middle\" fill=\"white\" font-family=\"Times\" font-size=\"8.25\" text-anchor=\"middle\" x=\"1438.8\" y=\"17.325\"/><rect fill=\"black\" height=\"9.9\" width=\"26.928\" x=\"1451.736\" y=\"11.55\"/><circle cx=\"1452.0\" cy=\"16.5\" fill=\"black\" r=\"-0.264\" stroke=\"black\" stroke-width=\"0\"/><circle cx=\"1478.4\" cy=\"16.5\" fill=\"black\" r=\"-0.264\" stroke=\"black\" stroke-width=\"0\"/><text alignment-baseline=\"middle\" fill=\"white\" font-family=\"Times\" font-size=\"8.25\" text-anchor=\"middle\" x=\"1465.2\" y=\"17.325\"/><rect fill=\"black\" height=\"9.9\" width=\"26.928\" x=\"1478.136\" y=\"11.55\"/><circle cx=\"1478.4\" cy=\"16.5\" fill=\"black\" r=\"-0.264\" stroke=\"black\" stroke-width=\"0\"/><circle cx=\"1504.8\" cy=\"16.5\" fill=\"black\" r=\"-0.264\" stroke=\"black\" stroke-width=\"0\"/><text alignment-baseline=\"middle\" fill=\"white\" font-family=\"Times\" font-size=\"8.25\" text-anchor=\"middle\" x=\"1491.6\" y=\"17.325\"/><rect fill=\"black\" height=\"9.9\" width=\"26.928\" x=\"1504.536\" y=\"11.55\"/><circle cx=\"1504.8\" cy=\"16.5\" fill=\"black\" r=\"-0.264\" stroke=\"black\" stroke-width=\"0\"/><circle cx=\"1531.2\" cy=\"16.5\" fill=\"black\" r=\"-0.264\" stroke=\"black\" stroke-width=\"0\"/><text alignment-baseline=\"middle\" fill=\"white\" font-family=\"Times\" font-size=\"8.25\" text-anchor=\"middle\" x=\"1518.0\" y=\"17.325\"/><rect fill=\"black\" height=\"9.9\" width=\"26.928\" x=\"1530.936\" y=\"11.55\"/><circle cx=\"1531.2\" cy=\"16.5\" fill=\"black\" r=\"-0.264\" stroke=\"black\" stroke-width=\"0\"/><circle cx=\"1557.6\" cy=\"16.5\" fill=\"black\" r=\"-0.264\" stroke=\"black\" stroke-width=\"0\"/><text alignment-baseline=\"middle\" fill=\"white\" font-family=\"Times\" font-size=\"8.25\" text-anchor=\"middle\" x=\"1544.4\" y=\"17.325\"/><rect fill=\"black\" height=\"9.9\" width=\"26.928\" x=\"1557.336\" y=\"11.55\"/><circle cx=\"1557.6\" cy=\"16.5\" fill=\"black\" r=\"-0.264\" stroke=\"black\" stroke-width=\"0\"/><circle cx=\"1584.0\" cy=\"16.5\" fill=\"black\" r=\"-0.264\" stroke=\"black\" stroke-width=\"0\"/><text alignment-baseline=\"middle\" fill=\"white\" font-family=\"Times\" font-size=\"8.25\" text-anchor=\"middle\" x=\"1570.8\" y=\"17.325\"/><rect fill=\"black\" height=\"9.9\" width=\"26.928\" x=\"1583.736\" y=\"11.55\"/><circle cx=\"1584.0\" cy=\"16.5\" fill=\"black\" r=\"-0.264\" stroke=\"black\" stroke-width=\"0\"/><circle cx=\"1610.4\" cy=\"16.5\" fill=\"black\" r=\"-0.264\" stroke=\"black\" stroke-width=\"0\"/><text alignment-baseline=\"middle\" fill=\"white\" font-family=\"Times\" font-size=\"8.25\" text-anchor=\"middle\" x=\"1597.2\" y=\"17.325\"/><rect fill=\"black\" height=\"9.9\" width=\"26.928\" x=\"1610.136\" y=\"11.55\"/><circle cx=\"1610.4\" cy=\"16.5\" fill=\"black\" r=\"-0.264\" stroke=\"black\" stroke-width=\"0\"/><circle cx=\"1636.8\" cy=\"16.5\" fill=\"black\" r=\"-0.264\" stroke=\"black\" stroke-width=\"0\"/><text alignment-baseline=\"middle\" fill=\"white\" font-family=\"Times\" font-size=\"8.25\" text-anchor=\"middle\" x=\"1623.6\" y=\"17.325\"/><rect fill=\"black\" height=\"9.9\" width=\"26.928\" x=\"1636.536\" y=\"11.55\"/><circle cx=\"1636.8\" cy=\"16.5\" fill=\"black\" r=\"-0.264\" stroke=\"black\" stroke-width=\"0\"/><circle cx=\"1663.2\" cy=\"16.5\" fill=\"black\" r=\"-0.264\" stroke=\"black\" stroke-width=\"0\"/><text alignment-baseline=\"middle\" fill=\"white\" font-family=\"Times\" font-size=\"8.25\" text-anchor=\"middle\" x=\"1650.0\" y=\"17.325\"/><rect fill=\"black\" height=\"9.9\" width=\"26.928\" x=\"1662.936\" y=\"11.55\"/><circle cx=\"1663.2\" cy=\"16.5\" fill=\"black\" r=\"-0.264\" stroke=\"black\" stroke-width=\"0\"/><circle cx=\"1689.6\" cy=\"16.5\" fill=\"black\" r=\"-0.264\" stroke=\"black\" stroke-width=\"0\"/><text alignment-baseline=\"middle\" fill=\"white\" font-family=\"Times\" font-size=\"8.25\" text-anchor=\"middle\" x=\"1676.4\" y=\"17.325\"/><rect fill=\"black\" height=\"9.9\" width=\"26.928\" x=\"1689.336\" y=\"11.55\"/><circle cx=\"1689.6\" cy=\"16.5\" fill=\"black\" r=\"-0.264\" stroke=\"black\" stroke-width=\"0\"/><circle cx=\"1716.0\" cy=\"16.5\" fill=\"black\" r=\"-0.264\" stroke=\"black\" stroke-width=\"0\"/><text alignment-baseline=\"middle\" fill=\"white\" font-family=\"Times\" font-size=\"8.25\" text-anchor=\"middle\" x=\"1702.8\" y=\"17.325\"/><rect fill=\"black\" height=\"9.9\" width=\"26.928\" x=\"1715.736\" y=\"11.55\"/><circle cx=\"1716.0\" cy=\"16.5\" fill=\"black\" r=\"-0.264\" stroke=\"black\" stroke-width=\"0\"/><circle cx=\"1742.4\" cy=\"16.5\" fill=\"black\" r=\"-0.264\" stroke=\"black\" stroke-width=\"0\"/><text alignment-baseline=\"middle\" fill=\"white\" font-family=\"Times\" font-size=\"8.25\" text-anchor=\"middle\" x=\"1729.2\" y=\"17.325\"/><rect fill=\"black\" height=\"9.9\" width=\"26.928\" x=\"1742.136\" y=\"11.55\"/><circle cx=\"1742.4\" cy=\"16.5\" fill=\"black\" r=\"-0.264\" stroke=\"black\" stroke-width=\"0\"/><circle cx=\"1768.8\" cy=\"16.5\" fill=\"black\" r=\"-0.264\" stroke=\"black\" stroke-width=\"0\"/><text alignment-baseline=\"middle\" fill=\"white\" font-family=\"Times\" font-size=\"8.25\" text-anchor=\"middle\" x=\"1755.6\" y=\"17.325\"/><rect fill=\"black\" height=\"9.9\" width=\"26.928\" x=\"1768.536\" y=\"11.55\"/><circle cx=\"1768.8\" cy=\"16.5\" fill=\"black\" r=\"-0.264\" stroke=\"black\" stroke-width=\"0\"/><circle cx=\"1795.2\" cy=\"16.5\" fill=\"black\" r=\"-0.264\" stroke=\"black\" stroke-width=\"0\"/><text alignment-baseline=\"middle\" fill=\"white\" font-family=\"Times\" font-size=\"8.25\" text-anchor=\"middle\" x=\"1782.0\" y=\"17.325\"/><rect fill=\"black\" height=\"9.9\" width=\"26.928\" x=\"1794.936\" y=\"11.55\"/><circle cx=\"1795.2\" cy=\"16.5\" fill=\"black\" r=\"-0.264\" stroke=\"black\" stroke-width=\"0\"/><circle cx=\"1821.6\" cy=\"16.5\" fill=\"black\" r=\"-0.264\" stroke=\"black\" stroke-width=\"0\"/><text alignment-baseline=\"middle\" fill=\"white\" font-family=\"Times\" font-size=\"8.25\" text-anchor=\"middle\" x=\"1808.4\" y=\"17.325\"/><rect fill=\"black\" height=\"9.9\" width=\"26.928\" x=\"1821.336\" y=\"11.55\"/><circle cx=\"1821.6\" cy=\"16.5\" fill=\"black\" r=\"-0.264\" stroke=\"black\" stroke-width=\"0\"/><circle cx=\"1848.0\" cy=\"16.5\" fill=\"black\" r=\"-0.264\" stroke=\"black\" stroke-width=\"0\"/><text alignment-baseline=\"middle\" fill=\"white\" font-family=\"Times\" font-size=\"8.25\" text-anchor=\"middle\" x=\"1834.8\" y=\"17.325\"/><rect fill=\"black\" height=\"9.9\" width=\"26.928\" x=\"1847.736\" y=\"11.55\"/><circle cx=\"1848.0\" cy=\"16.5\" fill=\"black\" r=\"-0.264\" stroke=\"black\" stroke-width=\"0\"/><circle cx=\"1874.4\" cy=\"16.5\" fill=\"black\" r=\"-0.264\" stroke=\"black\" stroke-width=\"0\"/><text alignment-baseline=\"middle\" fill=\"white\" font-family=\"Times\" font-size=\"8.25\" text-anchor=\"middle\" x=\"1861.2\" y=\"17.325\"/><rect fill=\"black\" height=\"9.9\" width=\"26.928\" x=\"1874.136\" y=\"11.55\"/><circle cx=\"1874.4\" cy=\"16.5\" fill=\"black\" r=\"-0.264\" stroke=\"black\" stroke-width=\"0\"/><circle cx=\"1900.8\" cy=\"16.5\" fill=\"black\" r=\"-0.264\" stroke=\"black\" stroke-width=\"0\"/><text alignment-baseline=\"middle\" fill=\"white\" font-family=\"Times\" font-size=\"8.25\" text-anchor=\"middle\" x=\"1887.6\" y=\"17.325\"/><line stroke=\"green\" stroke-width=\"1.32\" x1=\"1135.2\" x2=\"1135.2\" y1=\"16.335\" y2=\"49.665\"/><text alignment-baseline=\"middle\" fill=\"black\" font-family=\"Times\" font-size=\"8.25\" text-anchor=\"end\" x=\"232.32\" y=\"50.325\">3b</text><rect fill=\"green\" height=\"9.9\" width=\"26.928\" x=\"237.336\" y=\"44.55\"/><circle cx=\"237.6\" cy=\"49.5\" fill=\"green\" r=\"-0.264\" stroke=\"green\" stroke-width=\"0\"/><circle cx=\"264.0\" cy=\"49.5\" fill=\"green\" r=\"-0.264\" stroke=\"green\" stroke-width=\"0\"/><text alignment-baseline=\"middle\" fill=\"white\" font-family=\"Times\" font-size=\"8.25\" text-anchor=\"middle\" x=\"250.8\" y=\"50.325\"/><rect fill=\"green\" height=\"9.9\" width=\"26.928\" x=\"263.736\" y=\"44.55\"/><circle cx=\"264.0\" cy=\"49.5\" fill=\"green\" r=\"-0.264\" stroke=\"green\" stroke-width=\"0\"/><circle cx=\"290.4\" cy=\"49.5\" fill=\"green\" r=\"-0.264\" stroke=\"green\" stroke-width=\"0\"/><text alignment-baseline=\"middle\" fill=\"white\" font-family=\"Times\" font-size=\"8.25\" text-anchor=\"middle\" x=\"277.2\" y=\"50.325\"/><rect fill=\"green\" height=\"9.9\" width=\"26.928\" x=\"290.136\" y=\"44.55\"/><circle cx=\"290.4\" cy=\"49.5\" fill=\"green\" r=\"-0.264\" stroke=\"green\" stroke-width=\"0\"/><circle cx=\"316.8\" cy=\"49.5\" fill=\"green\" r=\"-0.264\" stroke=\"green\" stroke-width=\"0\"/><text alignment-baseline=\"middle\" fill=\"white\" font-family=\"Times\" font-size=\"8.25\" text-anchor=\"middle\" x=\"303.6\" y=\"50.325\"/><rect fill=\"green\" height=\"9.9\" width=\"26.928\" x=\"316.536\" y=\"44.55\"/><circle cx=\"316.8\" cy=\"49.5\" fill=\"green\" r=\"-0.264\" stroke=\"green\" stroke-width=\"0\"/><circle cx=\"343.2\" cy=\"49.5\" fill=\"green\" r=\"-0.264\" stroke=\"green\" stroke-width=\"0\"/><text alignment-baseline=\"middle\" fill=\"white\" font-family=\"Times\" font-size=\"8.25\" text-anchor=\"middle\" x=\"330.0\" y=\"50.325\"/><rect fill=\"green\" height=\"9.9\" width=\"26.928\" x=\"342.936\" y=\"44.55\"/><circle cx=\"343.2\" cy=\"49.5\" fill=\"green\" r=\"-0.264\" stroke=\"green\" stroke-width=\"0\"/><circle cx=\"369.6\" cy=\"49.5\" fill=\"green\" r=\"-0.264\" stroke=\"green\" stroke-width=\"0\"/><text alignment-baseline=\"middle\" fill=\"white\" font-family=\"Times\" font-size=\"8.25\" text-anchor=\"middle\" x=\"356.4\" y=\"50.325\"/><rect fill=\"green\" height=\"9.9\" width=\"26.928\" x=\"369.336\" y=\"44.55\"/><circle cx=\"369.6\" cy=\"49.5\" fill=\"green\" r=\"-0.264\" stroke=\"green\" stroke-width=\"0\"/><circle cx=\"396.0\" cy=\"49.5\" fill=\"green\" r=\"-0.264\" stroke=\"green\" stroke-width=\"0\"/><text alignment-baseline=\"middle\" fill=\"white\" font-family=\"Times\" font-size=\"8.25\" text-anchor=\"middle\" x=\"382.8\" y=\"50.325\"/><rect fill=\"green\" height=\"9.9\" width=\"26.928\" x=\"395.736\" y=\"44.55\"/><circle cx=\"396.0\" cy=\"49.5\" fill=\"green\" r=\"-0.264\" stroke=\"green\" stroke-width=\"0\"/><circle cx=\"422.4\" cy=\"49.5\" fill=\"green\" r=\"-0.264\" stroke=\"green\" stroke-width=\"0\"/><text alignment-baseline=\"middle\" fill=\"white\" font-family=\"Times\" font-size=\"8.25\" text-anchor=\"middle\" x=\"409.2\" y=\"50.325\"/><rect fill=\"green\" height=\"9.9\" width=\"26.928\" x=\"422.136\" y=\"44.55\"/><circle cx=\"422.4\" cy=\"49.5\" fill=\"green\" r=\"-0.264\" stroke=\"green\" stroke-width=\"0\"/><circle cx=\"448.8\" cy=\"49.5\" fill=\"green\" r=\"-0.264\" stroke=\"green\" stroke-width=\"0\"/><text alignment-baseline=\"middle\" fill=\"white\" font-family=\"Times\" font-size=\"8.25\" text-anchor=\"middle\" x=\"435.6\" y=\"50.325\"/><rect fill=\"green\" height=\"9.9\" width=\"26.928\" x=\"448.536\" y=\"44.55\"/><circle cx=\"448.8\" cy=\"49.5\" fill=\"green\" r=\"-0.264\" stroke=\"green\" stroke-width=\"0\"/><circle cx=\"475.2\" cy=\"49.5\" fill=\"green\" r=\"-0.264\" stroke=\"green\" stroke-width=\"0\"/><text alignment-baseline=\"middle\" fill=\"white\" font-family=\"Times\" font-size=\"8.25\" text-anchor=\"middle\" x=\"462.0\" y=\"50.325\"/><rect fill=\"green\" height=\"9.9\" width=\"26.928\" x=\"474.936\" y=\"44.55\"/><circle cx=\"475.2\" cy=\"49.5\" fill=\"green\" r=\"-0.264\" stroke=\"green\" stroke-width=\"0\"/><circle cx=\"501.6\" cy=\"49.5\" fill=\"green\" r=\"-0.264\" stroke=\"green\" stroke-width=\"0\"/><text alignment-baseline=\"middle\" fill=\"white\" font-family=\"Times\" font-size=\"8.25\" text-anchor=\"middle\" x=\"488.4\" y=\"50.325\"/><rect fill=\"green\" height=\"9.9\" width=\"26.928\" x=\"501.336\" y=\"44.55\"/><circle cx=\"501.6\" cy=\"49.5\" fill=\"green\" r=\"-0.264\" stroke=\"green\" stroke-width=\"0\"/><circle cx=\"528.0\" cy=\"49.5\" fill=\"green\" r=\"-0.264\" stroke=\"green\" stroke-width=\"0\"/><text alignment-baseline=\"middle\" fill=\"white\" font-family=\"Times\" font-size=\"8.25\" text-anchor=\"middle\" x=\"514.8\" y=\"50.325\"/><rect fill=\"green\" height=\"9.9\" width=\"26.928\" x=\"527.736\" y=\"44.55\"/><circle cx=\"528.0\" cy=\"49.5\" fill=\"green\" r=\"-0.264\" stroke=\"green\" stroke-width=\"0\"/><circle cx=\"554.4\" cy=\"49.5\" fill=\"green\" r=\"-0.264\" stroke=\"green\" stroke-width=\"0\"/><text alignment-baseline=\"middle\" fill=\"white\" font-family=\"Times\" font-size=\"8.25\" text-anchor=\"middle\" x=\"541.2\" y=\"50.325\"/><rect fill=\"green\" height=\"9.9\" width=\"26.928\" x=\"554.136\" y=\"44.55\"/><circle cx=\"554.4\" cy=\"49.5\" fill=\"green\" r=\"-0.264\" stroke=\"green\" stroke-width=\"0\"/><circle cx=\"580.8\" cy=\"49.5\" fill=\"green\" r=\"-0.264\" stroke=\"green\" stroke-width=\"0\"/><text alignment-baseline=\"middle\" fill=\"white\" font-family=\"Times\" font-size=\"8.25\" text-anchor=\"middle\" x=\"567.6\" y=\"50.325\"/><rect fill=\"green\" height=\"9.9\" width=\"26.928\" x=\"580.536\" y=\"44.55\"/><circle cx=\"580.8\" cy=\"49.5\" fill=\"green\" r=\"-0.264\" stroke=\"green\" stroke-width=\"0\"/><circle cx=\"607.2\" cy=\"49.5\" fill=\"green\" r=\"-0.264\" stroke=\"green\" stroke-width=\"0\"/><text alignment-baseline=\"middle\" fill=\"white\" font-family=\"Times\" font-size=\"8.25\" text-anchor=\"middle\" x=\"594.0\" y=\"50.325\"/><rect fill=\"green\" height=\"9.9\" width=\"26.928\" x=\"606.936\" y=\"44.55\"/><circle cx=\"607.2\" cy=\"49.5\" fill=\"green\" r=\"-0.264\" stroke=\"green\" stroke-width=\"0\"/><circle cx=\"633.6\" cy=\"49.5\" fill=\"green\" r=\"-0.264\" stroke=\"green\" stroke-width=\"0\"/><text alignment-baseline=\"middle\" fill=\"white\" font-family=\"Times\" font-size=\"8.25\" text-anchor=\"middle\" x=\"620.4\" y=\"50.325\"/><rect fill=\"green\" height=\"9.9\" width=\"26.928\" x=\"633.336\" y=\"44.55\"/><circle cx=\"633.6\" cy=\"49.5\" fill=\"green\" r=\"-0.264\" stroke=\"green\" stroke-width=\"0\"/><circle cx=\"660.0\" cy=\"49.5\" fill=\"green\" r=\"-0.264\" stroke=\"green\" stroke-width=\"0\"/><text alignment-baseline=\"middle\" fill=\"white\" font-family=\"Times\" font-size=\"8.25\" text-anchor=\"middle\" x=\"646.8\" y=\"50.325\"/><rect fill=\"green\" height=\"9.9\" width=\"26.928\" x=\"659.736\" y=\"44.55\"/><circle cx=\"660.0\" cy=\"49.5\" fill=\"green\" r=\"-0.264\" stroke=\"green\" stroke-width=\"0\"/><circle cx=\"686.4\" cy=\"49.5\" fill=\"green\" r=\"-0.264\" stroke=\"green\" stroke-width=\"0\"/><text alignment-baseline=\"middle\" fill=\"white\" font-family=\"Times\" font-size=\"8.25\" text-anchor=\"middle\" x=\"673.2\" y=\"50.325\"/><rect fill=\"green\" height=\"9.9\" width=\"26.928\" x=\"686.136\" y=\"44.55\"/><circle cx=\"686.4\" cy=\"49.5\" fill=\"green\" r=\"-0.264\" stroke=\"green\" stroke-width=\"0\"/><circle cx=\"712.8\" cy=\"49.5\" fill=\"green\" r=\"-0.264\" stroke=\"green\" stroke-width=\"0\"/><text alignment-baseline=\"middle\" fill=\"white\" font-family=\"Times\" font-size=\"8.25\" text-anchor=\"middle\" x=\"699.6\" y=\"50.325\"/><rect fill=\"green\" height=\"9.9\" width=\"26.928\" x=\"712.536\" y=\"44.55\"/><circle cx=\"712.8\" cy=\"49.5\" fill=\"green\" r=\"-0.264\" stroke=\"green\" stroke-width=\"0\"/><circle cx=\"739.2\" cy=\"49.5\" fill=\"green\" r=\"-0.264\" stroke=\"green\" stroke-width=\"0\"/><text alignment-baseline=\"middle\" fill=\"white\" font-family=\"Times\" font-size=\"8.25\" text-anchor=\"middle\" x=\"726.0\" y=\"50.325\"/><rect fill=\"green\" height=\"9.9\" width=\"26.928\" x=\"738.936\" y=\"44.55\"/><circle cx=\"739.2\" cy=\"49.5\" fill=\"green\" r=\"-0.264\" stroke=\"green\" stroke-width=\"0\"/><circle cx=\"765.6\" cy=\"49.5\" fill=\"green\" r=\"-0.264\" stroke=\"green\" stroke-width=\"0\"/><text alignment-baseline=\"middle\" fill=\"white\" font-family=\"Times\" font-size=\"8.25\" text-anchor=\"middle\" x=\"752.4\" y=\"50.325\"/><rect fill=\"green\" height=\"9.9\" width=\"26.928\" x=\"765.336\" y=\"44.55\"/><circle cx=\"765.6\" cy=\"49.5\" fill=\"green\" r=\"-0.264\" stroke=\"green\" stroke-width=\"0\"/><circle cx=\"792.0\" cy=\"49.5\" fill=\"green\" r=\"-0.264\" stroke=\"green\" stroke-width=\"0\"/><text alignment-baseline=\"middle\" fill=\"white\" font-family=\"Times\" font-size=\"8.25\" text-anchor=\"middle\" x=\"778.8\" y=\"50.325\"/><rect fill=\"green\" height=\"9.9\" width=\"26.928\" x=\"791.736\" y=\"44.55\"/><circle cx=\"792.0\" cy=\"49.5\" fill=\"green\" r=\"-0.264\" stroke=\"green\" stroke-width=\"0\"/><circle cx=\"818.4\" cy=\"49.5\" fill=\"green\" r=\"-0.264\" stroke=\"green\" stroke-width=\"0\"/><text alignment-baseline=\"middle\" fill=\"white\" font-family=\"Times\" font-size=\"8.25\" text-anchor=\"middle\" x=\"805.2\" y=\"50.325\"/><rect fill=\"green\" height=\"9.9\" width=\"26.928\" x=\"818.136\" y=\"44.55\"/><circle cx=\"818.4\" cy=\"49.5\" fill=\"green\" r=\"-0.264\" stroke=\"green\" stroke-width=\"0\"/><circle cx=\"844.8\" cy=\"49.5\" fill=\"green\" r=\"-0.264\" stroke=\"green\" stroke-width=\"0\"/><text alignment-baseline=\"middle\" fill=\"white\" font-family=\"Times\" font-size=\"8.25\" text-anchor=\"middle\" x=\"831.6\" y=\"50.325\"/><rect fill=\"green\" height=\"9.9\" width=\"26.928\" x=\"844.536\" y=\"44.55\"/><circle cx=\"844.8\" cy=\"49.5\" fill=\"green\" r=\"-0.264\" stroke=\"green\" stroke-width=\"0\"/><circle cx=\"871.2\" cy=\"49.5\" fill=\"green\" r=\"-0.264\" stroke=\"green\" stroke-width=\"0\"/><text alignment-baseline=\"middle\" fill=\"white\" font-family=\"Times\" font-size=\"8.25\" text-anchor=\"middle\" x=\"858.0\" y=\"50.325\"/><rect fill=\"green\" height=\"9.9\" width=\"26.928\" x=\"870.936\" y=\"44.55\"/><circle cx=\"871.2\" cy=\"49.5\" fill=\"green\" r=\"-0.264\" stroke=\"green\" stroke-width=\"0\"/><circle cx=\"897.6\" cy=\"49.5\" fill=\"green\" r=\"-0.264\" stroke=\"green\" stroke-width=\"0\"/><text alignment-baseline=\"middle\" fill=\"white\" font-family=\"Times\" font-size=\"8.25\" text-anchor=\"middle\" x=\"884.4\" y=\"50.325\"/><rect fill=\"green\" height=\"9.9\" width=\"26.928\" x=\"897.336\" y=\"44.55\"/><circle cx=\"897.6\" cy=\"49.5\" fill=\"green\" r=\"-0.264\" stroke=\"green\" stroke-width=\"0\"/><circle cx=\"924.0\" cy=\"49.5\" fill=\"green\" r=\"-0.264\" stroke=\"green\" stroke-width=\"0\"/><text alignment-baseline=\"middle\" fill=\"white\" font-family=\"Times\" font-size=\"8.25\" text-anchor=\"middle\" x=\"910.8\" y=\"50.325\"/><rect fill=\"green\" height=\"9.9\" width=\"26.928\" x=\"923.736\" y=\"44.55\"/><circle cx=\"924.0\" cy=\"49.5\" fill=\"green\" r=\"-0.264\" stroke=\"green\" stroke-width=\"0\"/><circle cx=\"950.4\" cy=\"49.5\" fill=\"green\" r=\"-0.264\" stroke=\"green\" stroke-width=\"0\"/><text alignment-baseline=\"middle\" fill=\"white\" font-family=\"Times\" font-size=\"8.25\" text-anchor=\"middle\" x=\"937.2\" y=\"50.325\"/><rect fill=\"green\" height=\"9.9\" width=\"26.928\" x=\"950.136\" y=\"44.55\"/><circle cx=\"950.4\" cy=\"49.5\" fill=\"green\" r=\"-0.264\" stroke=\"green\" stroke-width=\"0\"/><circle cx=\"976.8\" cy=\"49.5\" fill=\"green\" r=\"-0.264\" stroke=\"green\" stroke-width=\"0\"/><text alignment-baseline=\"middle\" fill=\"white\" font-family=\"Times\" font-size=\"8.25\" text-anchor=\"middle\" x=\"963.6\" y=\"50.325\"/><rect fill=\"green\" height=\"9.9\" width=\"26.928\" x=\"976.536\" y=\"44.55\"/><circle cx=\"976.8\" cy=\"49.5\" fill=\"green\" r=\"-0.264\" stroke=\"green\" stroke-width=\"0\"/><circle cx=\"1003.2\" cy=\"49.5\" fill=\"green\" r=\"-0.264\" stroke=\"green\" stroke-width=\"0\"/><text alignment-baseline=\"middle\" fill=\"white\" font-family=\"Times\" font-size=\"8.25\" text-anchor=\"middle\" x=\"990.0\" y=\"50.325\"/><rect fill=\"green\" height=\"9.9\" width=\"26.928\" x=\"1002.936\" y=\"44.55\"/><circle cx=\"1003.2\" cy=\"49.5\" fill=\"green\" r=\"-0.264\" stroke=\"green\" stroke-width=\"0\"/><circle cx=\"1029.6\" cy=\"49.5\" fill=\"green\" r=\"-0.264\" stroke=\"green\" stroke-width=\"0\"/><text alignment-baseline=\"middle\" fill=\"white\" font-family=\"Times\" font-size=\"8.25\" text-anchor=\"middle\" x=\"1016.4\" y=\"50.325\"/><rect fill=\"green\" height=\"9.9\" width=\"26.928\" x=\"1029.336\" y=\"44.55\"/><circle cx=\"1029.6\" cy=\"49.5\" fill=\"green\" r=\"-0.264\" stroke=\"green\" stroke-width=\"0\"/><circle cx=\"1056.0\" cy=\"49.5\" fill=\"green\" r=\"-0.264\" stroke=\"green\" stroke-width=\"0\"/><text alignment-baseline=\"middle\" fill=\"white\" font-family=\"Times\" font-size=\"8.25\" text-anchor=\"middle\" x=\"1042.8\" y=\"50.325\"/><rect fill=\"green\" height=\"9.9\" width=\"26.928\" x=\"1055.736\" y=\"44.55\"/><circle cx=\"1056.0\" cy=\"49.5\" fill=\"green\" r=\"-0.264\" stroke=\"green\" stroke-width=\"0\"/><circle cx=\"1082.4\" cy=\"49.5\" fill=\"green\" r=\"-0.264\" stroke=\"green\" stroke-width=\"0\"/><text alignment-baseline=\"middle\" fill=\"white\" font-family=\"Times\" font-size=\"8.25\" text-anchor=\"middle\" x=\"1069.2\" y=\"50.325\"/><rect fill=\"green\" height=\"9.9\" width=\"26.928\" x=\"1082.136\" y=\"44.55\"/><circle cx=\"1082.4\" cy=\"49.5\" fill=\"green\" r=\"-0.264\" stroke=\"green\" stroke-width=\"0\"/><circle cx=\"1108.8\" cy=\"49.5\" fill=\"green\" r=\"-0.264\" stroke=\"green\" stroke-width=\"0\"/><text alignment-baseline=\"middle\" fill=\"white\" font-family=\"Times\" font-size=\"8.25\" text-anchor=\"middle\" x=\"1095.6\" y=\"50.325\"/><rect fill=\"green\" height=\"9.9\" width=\"26.928\" x=\"1108.536\" y=\"44.55\"/><circle cx=\"1108.8\" cy=\"49.5\" fill=\"green\" r=\"-0.264\" stroke=\"green\" stroke-width=\"0\"/><circle cx=\"1135.2\" cy=\"49.5\" fill=\"green\" r=\"-0.264\" stroke=\"green\" stroke-width=\"0\"/><text alignment-baseline=\"middle\" fill=\"white\" font-family=\"Times\" font-size=\"8.25\" text-anchor=\"middle\" x=\"1122.0\" y=\"50.325\"/><line stroke=\"red\" stroke-width=\"1.32\" x1=\"448.8\" x2=\"448.8\" y1=\"49.335\" y2=\"82.665\"/><text alignment-baseline=\"middle\" fill=\"black\" font-family=\"Times\" font-size=\"8.25\" text-anchor=\"start\" x=\"1008.48\" y=\"83.325\">4f</text><rect fill=\"red\" height=\"9.9\" width=\"26.928\" x=\"448.536\" y=\"77.55\"/><circle cx=\"448.8\" cy=\"82.5\" fill=\"red\" r=\"-0.264\" stroke=\"red\" stroke-width=\"0\"/><circle cx=\"475.2\" cy=\"82.5\" fill=\"red\" r=\"-0.264\" stroke=\"red\" stroke-width=\"0\"/><text alignment-baseline=\"middle\" fill=\"white\" font-family=\"Times\" font-size=\"8.25\" text-anchor=\"middle\" x=\"462.0\" y=\"83.325\"/><rect fill=\"red\" height=\"9.9\" width=\"26.928\" x=\"474.936\" y=\"77.55\"/><circle cx=\"475.2\" cy=\"82.5\" fill=\"red\" r=\"-0.264\" stroke=\"red\" stroke-width=\"0\"/><circle cx=\"501.6\" cy=\"82.5\" fill=\"red\" r=\"-0.264\" stroke=\"red\" stroke-width=\"0\"/><text alignment-baseline=\"middle\" fill=\"white\" font-family=\"Times\" font-size=\"8.25\" text-anchor=\"middle\" x=\"488.4\" y=\"83.325\"/><rect fill=\"red\" height=\"9.9\" width=\"26.928\" x=\"501.336\" y=\"77.55\"/><circle cx=\"501.6\" cy=\"82.5\" fill=\"red\" r=\"-0.264\" stroke=\"red\" stroke-width=\"0\"/><circle cx=\"528.0\" cy=\"82.5\" fill=\"red\" r=\"-0.264\" stroke=\"red\" stroke-width=\"0\"/><text alignment-baseline=\"middle\" fill=\"white\" font-family=\"Times\" font-size=\"8.25\" text-anchor=\"middle\" x=\"514.8\" y=\"83.325\"/><rect fill=\"red\" height=\"9.9\" width=\"26.928\" x=\"527.736\" y=\"77.55\"/><circle cx=\"528.0\" cy=\"82.5\" fill=\"red\" r=\"-0.264\" stroke=\"red\" stroke-width=\"0\"/><circle cx=\"554.4\" cy=\"82.5\" fill=\"red\" r=\"-0.264\" stroke=\"red\" stroke-width=\"0\"/><text alignment-baseline=\"middle\" fill=\"white\" font-family=\"Times\" font-size=\"8.25\" text-anchor=\"middle\" x=\"541.2\" y=\"83.325\"/><rect fill=\"red\" height=\"9.9\" width=\"26.928\" x=\"554.136\" y=\"77.55\"/><circle cx=\"554.4\" cy=\"82.5\" fill=\"red\" r=\"-0.264\" stroke=\"red\" stroke-width=\"0\"/><circle cx=\"580.8\" cy=\"82.5\" fill=\"red\" r=\"-0.264\" stroke=\"red\" stroke-width=\"0\"/><text alignment-baseline=\"middle\" fill=\"white\" font-family=\"Times\" font-size=\"8.25\" text-anchor=\"middle\" x=\"567.6\" y=\"83.325\"/><rect fill=\"red\" height=\"9.9\" width=\"26.928\" x=\"580.536\" y=\"77.55\"/><circle cx=\"580.8\" cy=\"82.5\" fill=\"red\" r=\"-0.264\" stroke=\"red\" stroke-width=\"0\"/><circle cx=\"607.2\" cy=\"82.5\" fill=\"red\" r=\"-0.264\" stroke=\"red\" stroke-width=\"0\"/><text alignment-baseline=\"middle\" fill=\"white\" font-family=\"Times\" font-size=\"8.25\" text-anchor=\"middle\" x=\"594.0\" y=\"83.325\"/><rect fill=\"red\" height=\"9.9\" width=\"26.928\" x=\"606.936\" y=\"77.55\"/><circle cx=\"607.2\" cy=\"82.5\" fill=\"red\" r=\"-0.264\" stroke=\"red\" stroke-width=\"0\"/><circle cx=\"633.6\" cy=\"82.5\" fill=\"red\" r=\"-0.264\" stroke=\"red\" stroke-width=\"0\"/><text alignment-baseline=\"middle\" fill=\"white\" font-family=\"Times\" font-size=\"8.25\" text-anchor=\"middle\" x=\"620.4\" y=\"83.325\"/><rect fill=\"red\" height=\"9.9\" width=\"26.928\" x=\"633.336\" y=\"77.55\"/><circle cx=\"633.6\" cy=\"82.5\" fill=\"red\" r=\"-0.264\" stroke=\"red\" stroke-width=\"0\"/><circle cx=\"660.0\" cy=\"82.5\" fill=\"red\" r=\"-0.264\" stroke=\"red\" stroke-width=\"0\"/><text alignment-baseline=\"middle\" fill=\"white\" font-family=\"Times\" font-size=\"8.25\" text-anchor=\"middle\" x=\"646.8\" y=\"83.325\"/><rect fill=\"red\" height=\"9.9\" width=\"26.928\" x=\"659.736\" y=\"77.55\"/><circle cx=\"660.0\" cy=\"82.5\" fill=\"red\" r=\"-0.264\" stroke=\"red\" stroke-width=\"0\"/><circle cx=\"686.4\" cy=\"82.5\" fill=\"red\" r=\"-0.264\" stroke=\"red\" stroke-width=\"0\"/><text alignment-baseline=\"middle\" fill=\"white\" font-family=\"Times\" font-size=\"8.25\" text-anchor=\"middle\" x=\"673.2\" y=\"83.325\"/><rect fill=\"red\" height=\"9.9\" width=\"26.928\" x=\"686.136\" y=\"77.55\"/><circle cx=\"686.4\" cy=\"82.5\" fill=\"red\" r=\"-0.264\" stroke=\"red\" stroke-width=\"0\"/><circle cx=\"712.8\" cy=\"82.5\" fill=\"red\" r=\"-0.264\" stroke=\"red\" stroke-width=\"0\"/><text alignment-baseline=\"middle\" fill=\"white\" font-family=\"Times\" font-size=\"8.25\" text-anchor=\"middle\" x=\"699.6\" y=\"83.325\"/><rect fill=\"red\" height=\"9.9\" width=\"26.928\" x=\"712.536\" y=\"77.55\"/><circle cx=\"712.8\" cy=\"82.5\" fill=\"red\" r=\"-0.264\" stroke=\"red\" stroke-width=\"0\"/><circle cx=\"739.2\" cy=\"82.5\" fill=\"red\" r=\"-0.264\" stroke=\"red\" stroke-width=\"0\"/><text alignment-baseline=\"middle\" fill=\"white\" font-family=\"Times\" font-size=\"8.25\" text-anchor=\"middle\" x=\"726.0\" y=\"83.325\"/><rect fill=\"red\" height=\"9.9\" width=\"26.928\" x=\"738.936\" y=\"77.55\"/><circle cx=\"739.2\" cy=\"82.5\" fill=\"red\" r=\"-0.264\" stroke=\"red\" stroke-width=\"0\"/><circle cx=\"765.6\" cy=\"82.5\" fill=\"red\" r=\"-0.264\" stroke=\"red\" stroke-width=\"0\"/><text alignment-baseline=\"middle\" fill=\"white\" font-family=\"Times\" font-size=\"8.25\" text-anchor=\"middle\" x=\"752.4\" y=\"83.325\"/><rect fill=\"red\" height=\"9.9\" width=\"26.928\" x=\"765.336\" y=\"77.55\"/><circle cx=\"765.6\" cy=\"82.5\" fill=\"red\" r=\"-0.264\" stroke=\"red\" stroke-width=\"0\"/><circle cx=\"792.0\" cy=\"82.5\" fill=\"red\" r=\"-0.264\" stroke=\"red\" stroke-width=\"0\"/><text alignment-baseline=\"middle\" fill=\"white\" font-family=\"Times\" font-size=\"8.25\" text-anchor=\"middle\" x=\"778.8\" y=\"83.325\"/><rect fill=\"red\" height=\"9.9\" width=\"26.928\" x=\"791.736\" y=\"77.55\"/><circle cx=\"792.0\" cy=\"82.5\" fill=\"red\" r=\"-0.264\" stroke=\"red\" stroke-width=\"0\"/><circle cx=\"818.4\" cy=\"82.5\" fill=\"red\" r=\"-0.264\" stroke=\"red\" stroke-width=\"0\"/><text alignment-baseline=\"middle\" fill=\"white\" font-family=\"Times\" font-size=\"8.25\" text-anchor=\"middle\" x=\"805.2\" y=\"83.325\"/><rect fill=\"red\" height=\"9.9\" width=\"26.928\" x=\"818.136\" y=\"77.55\"/><circle cx=\"818.4\" cy=\"82.5\" fill=\"red\" r=\"-0.264\" stroke=\"red\" stroke-width=\"0\"/><circle cx=\"844.8\" cy=\"82.5\" fill=\"red\" r=\"-0.264\" stroke=\"red\" stroke-width=\"0\"/><text alignment-baseline=\"middle\" fill=\"white\" font-family=\"Times\" font-size=\"8.25\" text-anchor=\"middle\" x=\"831.6\" y=\"83.325\"/><rect fill=\"red\" height=\"9.9\" width=\"26.928\" x=\"844.536\" y=\"77.55\"/><circle cx=\"844.8\" cy=\"82.5\" fill=\"red\" r=\"-0.264\" stroke=\"red\" stroke-width=\"0\"/><circle cx=\"871.2\" cy=\"82.5\" fill=\"red\" r=\"-0.264\" stroke=\"red\" stroke-width=\"0\"/><text alignment-baseline=\"middle\" fill=\"white\" font-family=\"Times\" font-size=\"8.25\" text-anchor=\"middle\" x=\"858.0\" y=\"83.325\"/><rect fill=\"red\" height=\"9.9\" width=\"26.928\" x=\"870.936\" y=\"77.55\"/><circle cx=\"871.2\" cy=\"82.5\" fill=\"red\" r=\"-0.264\" stroke=\"red\" stroke-width=\"0\"/><circle cx=\"897.6\" cy=\"82.5\" fill=\"red\" r=\"-0.264\" stroke=\"red\" stroke-width=\"0\"/><text alignment-baseline=\"middle\" fill=\"white\" font-family=\"Times\" font-size=\"8.25\" text-anchor=\"middle\" x=\"884.4\" y=\"83.325\"/><rect fill=\"red\" height=\"9.9\" width=\"26.928\" x=\"897.336\" y=\"77.55\"/><circle cx=\"897.6\" cy=\"82.5\" fill=\"red\" r=\"-0.264\" stroke=\"red\" stroke-width=\"0\"/><circle cx=\"924.0\" cy=\"82.5\" fill=\"red\" r=\"-0.264\" stroke=\"red\" stroke-width=\"0\"/><text alignment-baseline=\"middle\" fill=\"white\" font-family=\"Times\" font-size=\"8.25\" text-anchor=\"middle\" x=\"910.8\" y=\"83.325\"/><rect fill=\"red\" height=\"9.9\" width=\"26.928\" x=\"923.736\" y=\"77.55\"/><circle cx=\"924.0\" cy=\"82.5\" fill=\"red\" r=\"-0.264\" stroke=\"red\" stroke-width=\"0\"/><circle cx=\"950.4\" cy=\"82.5\" fill=\"red\" r=\"-0.264\" stroke=\"red\" stroke-width=\"0\"/><text alignment-baseline=\"middle\" fill=\"white\" font-family=\"Times\" font-size=\"8.25\" text-anchor=\"middle\" x=\"937.2\" y=\"83.325\"/><rect fill=\"red\" height=\"9.9\" width=\"26.928\" x=\"950.136\" y=\"77.55\"/><circle cx=\"950.4\" cy=\"82.5\" fill=\"red\" r=\"-0.264\" stroke=\"red\" stroke-width=\"0\"/><circle cx=\"976.8\" cy=\"82.5\" fill=\"red\" r=\"-0.264\" stroke=\"red\" stroke-width=\"0\"/><text alignment-baseline=\"middle\" fill=\"white\" font-family=\"Times\" font-size=\"8.25\" text-anchor=\"middle\" x=\"963.6\" y=\"83.325\"/><rect fill=\"red\" height=\"9.9\" width=\"26.928\" x=\"976.536\" y=\"77.55\"/><circle cx=\"976.8\" cy=\"82.5\" fill=\"red\" r=\"-0.264\" stroke=\"red\" stroke-width=\"0\"/><circle cx=\"1003.2\" cy=\"82.5\" fill=\"red\" r=\"-0.264\" stroke=\"red\" stroke-width=\"0\"/><text alignment-baseline=\"middle\" fill=\"white\" font-family=\"Times\" font-size=\"8.25\" text-anchor=\"middle\" x=\"990.0\" y=\"83.325\"/><line stroke=\"green\" stroke-width=\"1.32\" x1=\"792.0\" x2=\"792.0\" y1=\"82.335\" y2=\"115.665\"/><text alignment-baseline=\"middle\" fill=\"black\" font-family=\"Times\" font-size=\"8.25\" text-anchor=\"end\" x=\"205.92\" y=\"116.325\">5b</text><rect fill=\"green\" height=\"9.9\" width=\"26.928\" x=\"210.936\" y=\"110.55\"/><circle cx=\"211.2\" cy=\"115.5\" fill=\"green\" r=\"-0.264\" stroke=\"green\" stroke-width=\"0\"/><circle cx=\"237.6\" cy=\"115.5\" fill=\"green\" r=\"-0.264\" stroke=\"green\" stroke-width=\"0\"/><text alignment-baseline=\"middle\" fill=\"white\" font-family=\"Times\" font-size=\"8.25\" text-anchor=\"middle\" x=\"224.4\" y=\"116.325\"/><rect fill=\"green\" height=\"9.9\" width=\"26.928\" x=\"237.336\" y=\"110.55\"/><circle cx=\"237.6\" cy=\"115.5\" fill=\"green\" r=\"-0.264\" stroke=\"green\" stroke-width=\"0\"/><circle cx=\"264.0\" cy=\"115.5\" fill=\"green\" r=\"-0.264\" stroke=\"green\" stroke-width=\"0\"/><text alignment-baseline=\"middle\" fill=\"white\" font-family=\"Times\" font-size=\"8.25\" text-anchor=\"middle\" x=\"250.8\" y=\"116.325\"/><rect fill=\"green\" height=\"9.9\" width=\"26.928\" x=\"263.736\" y=\"110.55\"/><circle cx=\"264.0\" cy=\"115.5\" fill=\"green\" r=\"-0.264\" stroke=\"green\" stroke-width=\"0\"/><circle cx=\"290.4\" cy=\"115.5\" fill=\"green\" r=\"-0.264\" stroke=\"green\" stroke-width=\"0\"/><text alignment-baseline=\"middle\" fill=\"white\" font-family=\"Times\" font-size=\"8.25\" text-anchor=\"middle\" x=\"277.2\" y=\"116.325\"/><rect fill=\"green\" height=\"9.9\" width=\"26.928\" x=\"290.136\" y=\"110.55\"/><circle cx=\"290.4\" cy=\"115.5\" fill=\"green\" r=\"-0.264\" stroke=\"green\" stroke-width=\"0\"/><circle cx=\"316.8\" cy=\"115.5\" fill=\"green\" r=\"-0.264\" stroke=\"green\" stroke-width=\"0\"/><text alignment-baseline=\"middle\" fill=\"white\" font-family=\"Times\" font-size=\"8.25\" text-anchor=\"middle\" x=\"303.6\" y=\"116.325\"/><rect fill=\"green\" height=\"9.9\" width=\"26.928\" x=\"316.536\" y=\"110.55\"/><circle cx=\"316.8\" cy=\"115.5\" fill=\"green\" r=\"-0.264\" stroke=\"green\" stroke-width=\"0\"/><circle cx=\"343.2\" cy=\"115.5\" fill=\"green\" r=\"-0.264\" stroke=\"green\" stroke-width=\"0\"/><text alignment-baseline=\"middle\" fill=\"white\" font-family=\"Times\" font-size=\"8.25\" text-anchor=\"middle\" x=\"330.0\" y=\"116.325\"/><rect fill=\"green\" height=\"9.9\" width=\"26.928\" x=\"342.936\" y=\"110.55\"/><circle cx=\"343.2\" cy=\"115.5\" fill=\"green\" r=\"-0.264\" stroke=\"green\" stroke-width=\"0\"/><circle cx=\"369.6\" cy=\"115.5\" fill=\"green\" r=\"-0.264\" stroke=\"green\" stroke-width=\"0\"/><text alignment-baseline=\"middle\" fill=\"white\" font-family=\"Times\" font-size=\"8.25\" text-anchor=\"middle\" x=\"356.4\" y=\"116.325\"/><rect fill=\"green\" height=\"9.9\" width=\"26.928\" x=\"369.336\" y=\"110.55\"/><circle cx=\"369.6\" cy=\"115.5\" fill=\"green\" r=\"-0.264\" stroke=\"green\" stroke-width=\"0\"/><circle cx=\"396.0\" cy=\"115.5\" fill=\"green\" r=\"-0.264\" stroke=\"green\" stroke-width=\"0\"/><text alignment-baseline=\"middle\" fill=\"white\" font-family=\"Times\" font-size=\"8.25\" text-anchor=\"middle\" x=\"382.8\" y=\"116.325\"/><rect fill=\"green\" height=\"9.9\" width=\"26.928\" x=\"395.736\" y=\"110.55\"/><circle cx=\"396.0\" cy=\"115.5\" fill=\"green\" r=\"-0.264\" stroke=\"green\" stroke-width=\"0\"/><circle cx=\"422.4\" cy=\"115.5\" fill=\"green\" r=\"-0.264\" stroke=\"green\" stroke-width=\"0\"/><text alignment-baseline=\"middle\" fill=\"white\" font-family=\"Times\" font-size=\"8.25\" text-anchor=\"middle\" x=\"409.2\" y=\"116.325\"/><rect fill=\"green\" height=\"9.9\" width=\"26.928\" x=\"422.136\" y=\"110.55\"/><circle cx=\"422.4\" cy=\"115.5\" fill=\"green\" r=\"-0.264\" stroke=\"green\" stroke-width=\"0\"/><circle cx=\"448.8\" cy=\"115.5\" fill=\"green\" r=\"-0.264\" stroke=\"green\" stroke-width=\"0\"/><text alignment-baseline=\"middle\" fill=\"white\" font-family=\"Times\" font-size=\"8.25\" text-anchor=\"middle\" x=\"435.6\" y=\"116.325\"/><rect fill=\"green\" height=\"9.9\" width=\"26.928\" x=\"448.536\" y=\"110.55\"/><circle cx=\"448.8\" cy=\"115.5\" fill=\"green\" r=\"-0.264\" stroke=\"green\" stroke-width=\"0\"/><circle cx=\"475.2\" cy=\"115.5\" fill=\"green\" r=\"-0.264\" stroke=\"green\" stroke-width=\"0\"/><text alignment-baseline=\"middle\" fill=\"white\" font-family=\"Times\" font-size=\"8.25\" text-anchor=\"middle\" x=\"462.0\" y=\"116.325\"/><rect fill=\"green\" height=\"9.9\" width=\"26.928\" x=\"474.936\" y=\"110.55\"/><circle cx=\"475.2\" cy=\"115.5\" fill=\"green\" r=\"-0.264\" stroke=\"green\" stroke-width=\"0\"/><circle cx=\"501.6\" cy=\"115.5\" fill=\"green\" r=\"-0.264\" stroke=\"green\" stroke-width=\"0\"/><text alignment-baseline=\"middle\" fill=\"white\" font-family=\"Times\" font-size=\"8.25\" text-anchor=\"middle\" x=\"488.4\" y=\"116.325\"/><rect fill=\"green\" height=\"9.9\" width=\"26.928\" x=\"501.336\" y=\"110.55\"/><circle cx=\"501.6\" cy=\"115.5\" fill=\"green\" r=\"-0.264\" stroke=\"green\" stroke-width=\"0\"/><circle cx=\"528.0\" cy=\"115.5\" fill=\"green\" r=\"-0.264\" stroke=\"green\" stroke-width=\"0\"/><text alignment-baseline=\"middle\" fill=\"white\" font-family=\"Times\" font-size=\"8.25\" text-anchor=\"middle\" x=\"514.8\" y=\"116.325\"/><rect fill=\"green\" height=\"9.9\" width=\"26.928\" x=\"527.736\" y=\"110.55\"/><circle cx=\"528.0\" cy=\"115.5\" fill=\"green\" r=\"-0.264\" stroke=\"green\" stroke-width=\"0\"/><circle cx=\"554.4\" cy=\"115.5\" fill=\"green\" r=\"-0.264\" stroke=\"green\" stroke-width=\"0\"/><text alignment-baseline=\"middle\" fill=\"white\" font-family=\"Times\" font-size=\"8.25\" text-anchor=\"middle\" x=\"541.2\" y=\"116.325\"/><rect fill=\"green\" height=\"9.9\" width=\"26.928\" x=\"554.136\" y=\"110.55\"/><circle cx=\"554.4\" cy=\"115.5\" fill=\"green\" r=\"-0.264\" stroke=\"green\" stroke-width=\"0\"/><circle cx=\"580.8\" cy=\"115.5\" fill=\"green\" r=\"-0.264\" stroke=\"green\" stroke-width=\"0\"/><text alignment-baseline=\"middle\" fill=\"white\" font-family=\"Times\" font-size=\"8.25\" text-anchor=\"middle\" x=\"567.6\" y=\"116.325\"/><rect fill=\"green\" height=\"9.9\" width=\"26.928\" x=\"580.536\" y=\"110.55\"/><circle cx=\"580.8\" cy=\"115.5\" fill=\"green\" r=\"-0.264\" stroke=\"green\" stroke-width=\"0\"/><circle cx=\"607.2\" cy=\"115.5\" fill=\"green\" r=\"-0.264\" stroke=\"green\" stroke-width=\"0\"/><text alignment-baseline=\"middle\" fill=\"white\" font-family=\"Times\" font-size=\"8.25\" text-anchor=\"middle\" x=\"594.0\" y=\"116.325\"/><rect fill=\"green\" height=\"9.9\" width=\"26.928\" x=\"606.936\" y=\"110.55\"/><circle cx=\"607.2\" cy=\"115.5\" fill=\"green\" r=\"-0.264\" stroke=\"green\" stroke-width=\"0\"/><circle cx=\"633.6\" cy=\"115.5\" fill=\"green\" r=\"-0.264\" stroke=\"green\" stroke-width=\"0\"/><text alignment-baseline=\"middle\" fill=\"white\" font-family=\"Times\" font-size=\"8.25\" text-anchor=\"middle\" x=\"620.4\" y=\"116.325\"/><rect fill=\"green\" height=\"9.9\" width=\"26.928\" x=\"633.336\" y=\"110.55\"/><circle cx=\"633.6\" cy=\"115.5\" fill=\"green\" r=\"-0.264\" stroke=\"green\" stroke-width=\"0\"/><circle cx=\"660.0\" cy=\"115.5\" fill=\"green\" r=\"-0.264\" stroke=\"green\" stroke-width=\"0\"/><text alignment-baseline=\"middle\" fill=\"white\" font-family=\"Times\" font-size=\"8.25\" text-anchor=\"middle\" x=\"646.8\" y=\"116.325\"/><rect fill=\"green\" height=\"9.9\" width=\"26.928\" x=\"659.736\" y=\"110.55\"/><circle cx=\"660.0\" cy=\"115.5\" fill=\"green\" r=\"-0.264\" stroke=\"green\" stroke-width=\"0\"/><circle cx=\"686.4\" cy=\"115.5\" fill=\"green\" r=\"-0.264\" stroke=\"green\" stroke-width=\"0\"/><text alignment-baseline=\"middle\" fill=\"white\" font-family=\"Times\" font-size=\"8.25\" text-anchor=\"middle\" x=\"673.2\" y=\"116.325\"/><rect fill=\"green\" height=\"9.9\" width=\"26.928\" x=\"686.136\" y=\"110.55\"/><circle cx=\"686.4\" cy=\"115.5\" fill=\"green\" r=\"-0.264\" stroke=\"green\" stroke-width=\"0\"/><circle cx=\"712.8\" cy=\"115.5\" fill=\"green\" r=\"-0.264\" stroke=\"green\" stroke-width=\"0\"/><text alignment-baseline=\"middle\" fill=\"white\" font-family=\"Times\" font-size=\"8.25\" text-anchor=\"middle\" x=\"699.6\" y=\"116.325\"/><rect fill=\"green\" height=\"9.9\" width=\"26.928\" x=\"712.536\" y=\"110.55\"/><circle cx=\"712.8\" cy=\"115.5\" fill=\"green\" r=\"-0.264\" stroke=\"green\" stroke-width=\"0\"/><circle cx=\"739.2\" cy=\"115.5\" fill=\"green\" r=\"-0.264\" stroke=\"green\" stroke-width=\"0\"/><text alignment-baseline=\"middle\" fill=\"white\" font-family=\"Times\" font-size=\"8.25\" text-anchor=\"middle\" x=\"726.0\" y=\"116.325\"/><rect fill=\"green\" height=\"9.9\" width=\"26.928\" x=\"738.936\" y=\"110.55\"/><circle cx=\"739.2\" cy=\"115.5\" fill=\"green\" r=\"-0.264\" stroke=\"green\" stroke-width=\"0\"/><circle cx=\"765.6\" cy=\"115.5\" fill=\"green\" r=\"-0.264\" stroke=\"green\" stroke-width=\"0\"/><text alignment-baseline=\"middle\" fill=\"white\" font-family=\"Times\" font-size=\"8.25\" text-anchor=\"middle\" x=\"752.4\" y=\"116.325\"/><rect fill=\"green\" height=\"9.9\" width=\"26.928\" x=\"765.336\" y=\"110.55\"/><circle cx=\"765.6\" cy=\"115.5\" fill=\"green\" r=\"-0.264\" stroke=\"green\" stroke-width=\"0\"/><circle cx=\"792.0\" cy=\"115.5\" fill=\"green\" r=\"-0.264\" stroke=\"green\" stroke-width=\"0\"/><text alignment-baseline=\"middle\" fill=\"white\" font-family=\"Times\" font-size=\"8.25\" text-anchor=\"middle\" x=\"778.8\" y=\"116.325\"/><line stroke=\"red\" stroke-width=\"1.32\" x1=\"976.8\" x2=\"976.8\" y1=\"82.335\" y2=\"148.665\"/><text alignment-baseline=\"middle\" fill=\"black\" font-family=\"Times\" font-size=\"8.25\" text-anchor=\"start\" x=\"1008.48\" y=\"149.325\">8f</text><rect fill=\"red\" height=\"9.9\" width=\"26.928\" x=\"976.536\" y=\"143.55\"/><circle cx=\"976.8\" cy=\"148.5\" fill=\"red\" r=\"-0.264\" stroke=\"red\" stroke-width=\"0\"/><circle cx=\"1003.2\" cy=\"148.5\" fill=\"red\" r=\"-0.264\" stroke=\"red\" stroke-width=\"0\"/><text alignment-baseline=\"middle\" fill=\"white\" font-family=\"Times\" font-size=\"8.25\" text-anchor=\"middle\" x=\"990.0\" y=\"149.325\"/><line stroke=\"green\" stroke-width=\"1.32\" x1=\"844.8\" x2=\"844.8\" y1=\"82.335\" y2=\"181.665\"/><text alignment-baseline=\"middle\" fill=\"black\" font-family=\"Times\" font-size=\"8.25\" text-anchor=\"end\" x=\"364.32\" y=\"182.325\">9b</text><rect fill=\"green\" height=\"9.9\" width=\"26.928\" x=\"369.336\" y=\"176.55\"/><circle cx=\"369.6\" cy=\"181.5\" fill=\"green\" r=\"-0.264\" stroke=\"green\" stroke-width=\"0\"/><circle cx=\"396.0\" cy=\"181.5\" fill=\"green\" r=\"-0.264\" stroke=\"green\" stroke-width=\"0\"/><text alignment-baseline=\"middle\" fill=\"white\" font-family=\"Times\" font-size=\"8.25\" text-anchor=\"middle\" x=\"382.8\" y=\"182.325\"/><rect fill=\"green\" height=\"9.9\" width=\"26.928\" x=\"395.736\" y=\"176.55\"/><circle cx=\"396.0\" cy=\"181.5\" fill=\"green\" r=\"-0.264\" stroke=\"green\" stroke-width=\"0\"/><circle cx=\"422.4\" cy=\"181.5\" fill=\"green\" r=\"-0.264\" stroke=\"green\" stroke-width=\"0\"/><text alignment-baseline=\"middle\" fill=\"white\" font-family=\"Times\" font-size=\"8.25\" text-anchor=\"middle\" x=\"409.2\" y=\"182.325\"/><rect fill=\"green\" height=\"9.9\" width=\"26.928\" x=\"422.136\" y=\"176.55\"/><circle cx=\"422.4\" cy=\"181.5\" fill=\"green\" r=\"-0.264\" stroke=\"green\" stroke-width=\"0\"/><circle cx=\"448.8\" cy=\"181.5\" fill=\"green\" r=\"-0.264\" stroke=\"green\" stroke-width=\"0\"/><text alignment-baseline=\"middle\" fill=\"white\" font-family=\"Times\" font-size=\"8.25\" text-anchor=\"middle\" x=\"435.6\" y=\"182.325\"/><rect fill=\"green\" height=\"9.9\" width=\"26.928\" x=\"448.536\" y=\"176.55\"/><circle cx=\"448.8\" cy=\"181.5\" fill=\"green\" r=\"-0.264\" stroke=\"green\" stroke-width=\"0\"/><circle cx=\"475.2\" cy=\"181.5\" fill=\"green\" r=\"-0.264\" stroke=\"green\" stroke-width=\"0\"/><text alignment-baseline=\"middle\" fill=\"white\" font-family=\"Times\" font-size=\"8.25\" text-anchor=\"middle\" x=\"462.0\" y=\"182.325\"/><rect fill=\"green\" height=\"9.9\" width=\"26.928\" x=\"474.936\" y=\"176.55\"/><circle cx=\"475.2\" cy=\"181.5\" fill=\"green\" r=\"-0.264\" stroke=\"green\" stroke-width=\"0\"/><circle cx=\"501.6\" cy=\"181.5\" fill=\"green\" r=\"-0.264\" stroke=\"green\" stroke-width=\"0\"/><text alignment-baseline=\"middle\" fill=\"white\" font-family=\"Times\" font-size=\"8.25\" text-anchor=\"middle\" x=\"488.4\" y=\"182.325\"/><rect fill=\"green\" height=\"9.9\" width=\"26.928\" x=\"501.336\" y=\"176.55\"/><circle cx=\"501.6\" cy=\"181.5\" fill=\"green\" r=\"-0.264\" stroke=\"green\" stroke-width=\"0\"/><circle cx=\"528.0\" cy=\"181.5\" fill=\"green\" r=\"-0.264\" stroke=\"green\" stroke-width=\"0\"/><text alignment-baseline=\"middle\" fill=\"white\" font-family=\"Times\" font-size=\"8.25\" text-anchor=\"middle\" x=\"514.8\" y=\"182.325\"/><rect fill=\"green\" height=\"9.9\" width=\"26.928\" x=\"527.736\" y=\"176.55\"/><circle cx=\"528.0\" cy=\"181.5\" fill=\"green\" r=\"-0.264\" stroke=\"green\" stroke-width=\"0\"/><circle cx=\"554.4\" cy=\"181.5\" fill=\"green\" r=\"-0.264\" stroke=\"green\" stroke-width=\"0\"/><text alignment-baseline=\"middle\" fill=\"white\" font-family=\"Times\" font-size=\"8.25\" text-anchor=\"middle\" x=\"541.2\" y=\"182.325\"/><rect fill=\"green\" height=\"9.9\" width=\"26.928\" x=\"554.136\" y=\"176.55\"/><circle cx=\"554.4\" cy=\"181.5\" fill=\"green\" r=\"-0.264\" stroke=\"green\" stroke-width=\"0\"/><circle cx=\"580.8\" cy=\"181.5\" fill=\"green\" r=\"-0.264\" stroke=\"green\" stroke-width=\"0\"/><text alignment-baseline=\"middle\" fill=\"white\" font-family=\"Times\" font-size=\"8.25\" text-anchor=\"middle\" x=\"567.6\" y=\"182.325\"/><rect fill=\"green\" height=\"9.9\" width=\"26.928\" x=\"580.536\" y=\"176.55\"/><circle cx=\"580.8\" cy=\"181.5\" fill=\"green\" r=\"-0.264\" stroke=\"green\" stroke-width=\"0\"/><circle cx=\"607.2\" cy=\"181.5\" fill=\"green\" r=\"-0.264\" stroke=\"green\" stroke-width=\"0\"/><text alignment-baseline=\"middle\" fill=\"white\" font-family=\"Times\" font-size=\"8.25\" text-anchor=\"middle\" x=\"594.0\" y=\"182.325\"/><rect fill=\"green\" height=\"9.9\" width=\"26.928\" x=\"606.936\" y=\"176.55\"/><circle cx=\"607.2\" cy=\"181.5\" fill=\"green\" r=\"-0.264\" stroke=\"green\" stroke-width=\"0\"/><circle cx=\"633.6\" cy=\"181.5\" fill=\"green\" r=\"-0.264\" stroke=\"green\" stroke-width=\"0\"/><text alignment-baseline=\"middle\" fill=\"white\" font-family=\"Times\" font-size=\"8.25\" text-anchor=\"middle\" x=\"620.4\" y=\"182.325\"/><rect fill=\"green\" height=\"9.9\" width=\"26.928\" x=\"633.336\" y=\"176.55\"/><circle cx=\"633.6\" cy=\"181.5\" fill=\"green\" r=\"-0.264\" stroke=\"green\" stroke-width=\"0\"/><circle cx=\"660.0\" cy=\"181.5\" fill=\"green\" r=\"-0.264\" stroke=\"green\" stroke-width=\"0\"/><text alignment-baseline=\"middle\" fill=\"white\" font-family=\"Times\" font-size=\"8.25\" text-anchor=\"middle\" x=\"646.8\" y=\"182.325\"/><rect fill=\"green\" height=\"9.9\" width=\"26.928\" x=\"659.736\" y=\"176.55\"/><circle cx=\"660.0\" cy=\"181.5\" fill=\"green\" r=\"-0.264\" stroke=\"green\" stroke-width=\"0\"/><circle cx=\"686.4\" cy=\"181.5\" fill=\"green\" r=\"-0.264\" stroke=\"green\" stroke-width=\"0\"/><text alignment-baseline=\"middle\" fill=\"white\" font-family=\"Times\" font-size=\"8.25\" text-anchor=\"middle\" x=\"673.2\" y=\"182.325\"/><rect fill=\"green\" height=\"9.9\" width=\"26.928\" x=\"686.136\" y=\"176.55\"/><circle cx=\"686.4\" cy=\"181.5\" fill=\"green\" r=\"-0.264\" stroke=\"green\" stroke-width=\"0\"/><circle cx=\"712.8\" cy=\"181.5\" fill=\"green\" r=\"-0.264\" stroke=\"green\" stroke-width=\"0\"/><text alignment-baseline=\"middle\" fill=\"white\" font-family=\"Times\" font-size=\"8.25\" text-anchor=\"middle\" x=\"699.6\" y=\"182.325\"/><rect fill=\"green\" height=\"9.9\" width=\"26.928\" x=\"712.536\" y=\"176.55\"/><circle cx=\"712.8\" cy=\"181.5\" fill=\"green\" r=\"-0.264\" stroke=\"green\" stroke-width=\"0\"/><circle cx=\"739.2\" cy=\"181.5\" fill=\"green\" r=\"-0.264\" stroke=\"green\" stroke-width=\"0\"/><text alignment-baseline=\"middle\" fill=\"white\" font-family=\"Times\" font-size=\"8.25\" text-anchor=\"middle\" x=\"726.0\" y=\"182.325\"/><rect fill=\"green\" height=\"9.9\" width=\"26.928\" x=\"738.936\" y=\"176.55\"/><circle cx=\"739.2\" cy=\"181.5\" fill=\"green\" r=\"-0.264\" stroke=\"green\" stroke-width=\"0\"/><circle cx=\"765.6\" cy=\"181.5\" fill=\"green\" r=\"-0.264\" stroke=\"green\" stroke-width=\"0\"/><text alignment-baseline=\"middle\" fill=\"white\" font-family=\"Times\" font-size=\"8.25\" text-anchor=\"middle\" x=\"752.4\" y=\"182.325\"/><rect fill=\"green\" height=\"9.9\" width=\"26.928\" x=\"765.336\" y=\"176.55\"/><circle cx=\"765.6\" cy=\"181.5\" fill=\"green\" r=\"-0.264\" stroke=\"green\" stroke-width=\"0\"/><circle cx=\"792.0\" cy=\"181.5\" fill=\"green\" r=\"-0.264\" stroke=\"green\" stroke-width=\"0\"/><text alignment-baseline=\"middle\" fill=\"white\" font-family=\"Times\" font-size=\"8.25\" text-anchor=\"middle\" x=\"778.8\" y=\"182.325\"/><rect fill=\"green\" height=\"9.9\" width=\"26.928\" x=\"791.736\" y=\"176.55\"/><circle cx=\"792.0\" cy=\"181.5\" fill=\"green\" r=\"-0.264\" stroke=\"green\" stroke-width=\"0\"/><circle cx=\"818.4\" cy=\"181.5\" fill=\"green\" r=\"-0.264\" stroke=\"green\" stroke-width=\"0\"/><text alignment-baseline=\"middle\" fill=\"white\" font-family=\"Times\" font-size=\"8.25\" text-anchor=\"middle\" x=\"805.2\" y=\"182.325\"/><rect fill=\"green\" height=\"9.9\" width=\"26.928\" x=\"818.136\" y=\"176.55\"/><circle cx=\"818.4\" cy=\"181.5\" fill=\"green\" r=\"-0.264\" stroke=\"green\" stroke-width=\"0\"/><circle cx=\"844.8\" cy=\"181.5\" fill=\"green\" r=\"-0.264\" stroke=\"green\" stroke-width=\"0\"/><text alignment-baseline=\"middle\" fill=\"white\" font-family=\"Times\" font-size=\"8.25\" text-anchor=\"middle\" x=\"831.6\" y=\"182.325\"/><text alignment-baseline=\"middle\" fill=\"black\" font-family=\"Times\" font-size=\"8.25\" text-anchor=\"end\" x=\"113.52\" y=\"17.325\">1</text><text alignment-baseline=\"middle\" fill=\"black\" font-family=\"Times\" font-size=\"8.25\" text-anchor=\"end\" x=\"34.32\" y=\"17.325\">1</text><text alignment-baseline=\"middle\" fill=\"black\" font-family=\"Times\" font-size=\"8.25\" text-anchor=\"end\" x=\"113.52\" y=\"33.825\">2</text><text alignment-baseline=\"middle\" fill=\"black\" font-family=\"Times\" font-size=\"8.25\" text-anchor=\"end\" x=\"34.32\" y=\"33.825\">1</text><text alignment-baseline=\"middle\" fill=\"black\" font-family=\"Times\" font-size=\"8.25\" text-anchor=\"end\" x=\"113.52\" y=\"50.325\">3</text><text alignment-baseline=\"middle\" fill=\"black\" font-family=\"Times\" font-size=\"8.25\" text-anchor=\"end\" x=\"34.32\" y=\"50.325\">2</text><text alignment-baseline=\"middle\" fill=\"black\" font-family=\"Times\" font-size=\"8.25\" text-anchor=\"end\" x=\"113.52\" y=\"66.825\">4</text><text alignment-baseline=\"middle\" fill=\"black\" font-family=\"Times\" font-size=\"8.25\" text-anchor=\"end\" x=\"34.32\" y=\"66.825\">2</text><rect fill=\"black\" height=\"62.7\" width=\"2.64\" x=\"145.2\" y=\"9.9\"/><circle cx=\"145.2\" cy=\"9.9\" fill=\"black\" r=\"-0.264\" stroke=\"black\" stroke-width=\"0\"/><rect fill=\"black\" height=\"1.65\" width=\"26.928\" x=\"131.736\" y=\"9.9\"/><circle cx=\"145.2\" cy=\"72.6\" fill=\"black\" r=\"-0.264\" stroke=\"black\" stroke-width=\"0\"/><rect fill=\"black\" height=\"1.65\" width=\"26.928\" x=\"131.736\" y=\"70.95\"/><text alignment-baseline=\"middle\" fill=\"black\" font-family=\"Times\" font-size=\"8.25\" text-anchor=\"middle\" x=\"137.28\" y=\"42.075\"/><text alignment-baseline=\"middle\" fill=\"black\" font-family=\"Times\" font-size=\"8.25\" text-anchor=\"end\" x=\"113.52\" y=\"83.325\">5</text><text alignment-baseline=\"middle\" fill=\"black\" font-family=\"Times\" font-size=\"8.25\" text-anchor=\"end\" x=\"34.32\" y=\"83.325\">3</text><text alignment-baseline=\"middle\" fill=\"black\" font-family=\"Times\" font-size=\"8.25\" text-anchor=\"end\" x=\"113.52\" y=\"99.825\">6</text><text alignment-baseline=\"middle\" fill=\"black\" font-family=\"Times\" font-size=\"8.25\" text-anchor=\"end\" x=\"34.32\" y=\"99.825\">3</text><text alignment-baseline=\"middle\" fill=\"black\" font-family=\"Times\" font-size=\"8.25\" text-anchor=\"end\" x=\"113.52\" y=\"116.325\">7</text><text alignment-baseline=\"middle\" fill=\"black\" font-family=\"Times\" font-size=\"8.25\" text-anchor=\"end\" x=\"34.32\" y=\"116.325\">4</text><text alignment-baseline=\"middle\" fill=\"black\" font-family=\"Times\" font-size=\"8.25\" text-anchor=\"end\" x=\"113.52\" y=\"132.825\">8</text><text alignment-baseline=\"middle\" fill=\"black\" font-family=\"Times\" font-size=\"8.25\" text-anchor=\"end\" x=\"34.32\" y=\"132.825\">4</text><text alignment-baseline=\"middle\" fill=\"black\" font-family=\"Times\" font-size=\"8.25\" text-anchor=\"end\" x=\"113.52\" y=\"149.325\">11</text><text alignment-baseline=\"middle\" fill=\"black\" font-family=\"Times\" font-size=\"8.25\" text-anchor=\"end\" x=\"34.32\" y=\"149.325\">7</text><text alignment-baseline=\"middle\" fill=\"black\" font-family=\"Times\" font-size=\"8.25\" text-anchor=\"end\" x=\"113.52\" y=\"165.825\">12</text><text alignment-baseline=\"middle\" fill=\"black\" font-family=\"Times\" font-size=\"8.25\" text-anchor=\"end\" x=\"34.32\" y=\"165.825\">7</text><text alignment-baseline=\"middle\" fill=\"black\" font-family=\"Times\" font-size=\"8.25\" text-anchor=\"end\" x=\"113.52\" y=\"182.325\">13</text><text alignment-baseline=\"middle\" fill=\"black\" font-family=\"Times\" font-size=\"8.25\" text-anchor=\"end\" x=\"34.32\" y=\"182.325\">8</text><text alignment-baseline=\"middle\" fill=\"black\" font-family=\"Times\" font-size=\"8.25\" text-anchor=\"end\" x=\"113.52\" y=\"198.825\">14</text><text alignment-baseline=\"middle\" fill=\"black\" font-family=\"Times\" font-size=\"8.25\" text-anchor=\"end\" x=\"34.32\" y=\"198.825\">8</text><rect fill=\"black\" height=\"194.7\" width=\"2.64\" x=\"52.8\" y=\"9.9\"/><circle cx=\"52.8\" cy=\"9.9\" fill=\"black\" r=\"-0.264\" stroke=\"black\" stroke-width=\"0\"/><rect fill=\"black\" height=\"1.65\" width=\"26.928\" x=\"39.336\" y=\"9.9\"/><circle cx=\"52.8\" cy=\"204.6\" fill=\"black\" r=\"-0.264\" stroke=\"black\" stroke-width=\"0\"/><rect fill=\"black\" height=\"1.65\" width=\"26.928\" x=\"39.336\" y=\"202.95\"/><text alignment-baseline=\"middle\" fill=\"black\" font-family=\"Times\" font-size=\"8.25\" text-anchor=\"middle\" x=\"44.88\" y=\"108.075\"/><rect fill=\"black\" height=\"128.7\" width=\"2.64\" x=\"145.2\" y=\"75.9\"/><circle cx=\"145.2\" cy=\"75.9\" fill=\"black\" r=\"-0.264\" stroke=\"black\" stroke-width=\"0\"/><rect fill=\"black\" height=\"1.65\" width=\"26.928\" x=\"131.736\" y=\"75.9\"/><text alignment-baseline=\"middle\" fill=\"black\" font-family=\"Times\" font-size=\"8.25\" text-anchor=\"middle\" x=\"137.28\" y=\"141.075\"/></svg>"
      ],
      "text/plain": [
       "<IPython.core.display.SVG object>"
      ]
     },
     "execution_count": 67,
     "metadata": {},
     "output_type": "execute_result"
    }
   ],
   "source": [
    "tree.rejected = False\n",
    "tree.states = []\n",
    "tree.op = None\n",
    "tree.from_samples(samps)\n",
    "view = tree.renderer\n",
    "view.zoom = 1.1\n",
    "view.horizontal_gap = -0.01\n",
    "view.scale_y = 15\n",
    "view.scale_x = 24\n",
    "view.font_size = 0.5\n",
    "view.font_family = 'Times'\n",
    "SVG(view.to_svg())"
   ]
  },
  {
   "cell_type": "markdown",
   "metadata": {},
   "source": [
    "### Phi/Psi Plots"
   ]
  },
  {
   "cell_type": "code",
   "execution_count": 68,
   "metadata": {
    "collapsed": true
   },
   "outputs": [],
   "source": [
    "# Imports for plotting\n",
    "%matplotlib inline\n",
    "import matplotlib\n",
    "import matplotlib.pyplot as plt\n",
    "import matplotlib.pylab as pylab\n",
    "from matplotlib.legend_handler import HandlerLine2D"
   ]
  },
  {
   "cell_type": "markdown",
   "metadata": {},
   "source": [
    "Make sure that all phi/psi values have been computed!"
   ]
  },
  {
   "cell_type": "code",
   "execution_count": 69,
   "metadata": {
    "collapsed": false
   },
   "outputs": [],
   "source": [
    "psi = storage.cvs['psi']\n",
    "phi = storage.cvs['phi']\n",
    "opA = storage.cvs['StateA']"
   ]
  },
  {
   "cell_type": "code",
   "execution_count": 70,
   "metadata": {
    "collapsed": false
   },
   "outputs": [
    {
     "data": {
      "image/png": "[encoded data removed]",
      "text/plain": [
       "<matplotlib.figure.Figure at 0x1137300d0>"
      ]
     },
     "metadata": {},
     "output_type": "display_data"
    }
   ],
   "source": [
    "plt.figure(figsize=(8, 8))\n",
    "\n",
    "for traj in storage.trajectories[1:]:\n",
    "    phi_angles = np.array(phi(traj)).flatten() / deg\n",
    "    psi_angles = np.array(psi(traj)).flatten() / deg\n",
    "    plt.plot(phi_angles, psi_angles, 'ro', linewidth=1);\n",
    "    \n",
    "plt.xlim(-180, 180);\n",
    "plt.ylim(-180, 180);"
   ]
  },
  {
   "cell_type": "code",
   "execution_count": 71,
   "metadata": {
    "collapsed": false
   },
   "outputs": [
    {
     "data": {
      "image/png": "[encoded data removed]",
      "text/plain": [
       "<matplotlib.figure.Figure at 0x11441c310>"
      ]
     },
     "metadata": {},
     "output_type": "display_data"
    }
   ],
   "source": [
    "plt.figure(figsize=(8, 8))\n",
    "\n",
    "\n",
    "for traj in storage.trajectories[1:]:\n",
    "    phi_angles = np.array(phi(traj)).flatten() / deg\n",
    "    psi_angles = np.array(psi(traj)).flatten() / deg\n",
    "    plt.plot(phi_angles, psi_angles, 'k-', linewidth=1);\n",
    "    for idx, snapshot in enumerate(traj):\n",
    "        if opA(snapshot):\n",
    "            plt.plot(phi_angles[idx], psi_angles[idx], 'bo', linewidth=1);\n",
    "        \n",
    "plt.xlim(-180, 180);\n",
    "plt.ylim(-180, 180);"
   ]
  },
  {
   "cell_type": "code",
   "execution_count": null,
   "metadata": {
    "collapsed": true
   },
   "outputs": [],
   "source": [
    "#! skip\n",
    "storage.close()"
   ]
  }
 ],
 "metadata": {
  "kernelspec": {
   "display_name": "Python 2",
   "language": "python",
   "name": "python2"
  },
  "language_info": {
   "codemirror_mode": {
    "name": "ipython",
    "version": 2
   },
   "file_extension": ".py",
   "mimetype": "text/x-python",
   "name": "python",
   "nbconvert_exporter": "python",
   "pygments_lexer": "ipython2",
   "version": "2.7.11"
  }
 },
 "nbformat": 4,
 "nbformat_minor": 0
}

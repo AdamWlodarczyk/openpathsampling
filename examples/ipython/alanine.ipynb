{
 "cells": [
  {
   "cell_type": "markdown",
   "metadata": {},
   "source": [
    "# OPENTIS\n",
    "## An Example with Alanine"
   ]
  },
  {
   "cell_type": "markdown",
   "metadata": {},
   "source": [
    "Import Modules"
   ]
  },
  {
   "cell_type": "code",
   "execution_count": 1,
   "metadata": {
    "collapsed": false
   },
   "outputs": [],
   "source": [
    "import numpy as np\n",
    "import mdtraj as md\n",
    "import pandas as pd\n",
    "import time\n",
    "import sys, os\n",
    " \n",
    "# in principle, all of these imports should be simplified once this is a package\n",
    "from openpathsampling.collectivevariable import CV_Function, CV_Volume, CV_MD_Function\n",
    "from openpathsampling.snapshot import Snapshot\n",
    "from openpathsampling.volume import LambdaVolumePeriodic, VolumeFactory as vf\n",
    "from openpathsampling.pathmover import PathMoverFactory as mf\n",
    "from openpathsampling.ensemble import EnsembleFactory as ef\n",
    "from openpathsampling.ensemble import (LengthEnsemble, SequentialEnsemble, AllOutXEnsemble,\n",
    "                      AllInXEnsemble, PartInXEnsemble, PartOutXEnsemble)\n",
    "from openpathsampling.storage import Storage\n",
    "from openpathsampling.trajectory import Trajectory\n",
    "from openpathsampling.pathsimulator import Bootstrapping\n",
    "from openpathsampling.shooting import UniformSelector\n",
    "from openpathsampling.pathmover import PathMover, SampleGenerator\n",
    "import simtk.unit as u\n",
    "\n",
    "from openpathsampling.openmm_engine import OpenMMEngine\n",
    "\n",
    "from openpathsampling.storage import Storage\n",
    "from openpathsampling.visualize import PathTreeBuilder\n",
    "from IPython.display import SVG\n",
    "\n",
    "import openpathsampling as paths"
   ]
  },
  {
   "cell_type": "markdown",
   "metadata": {},
   "source": [
    "Radians to Degree conversion"
   ]
  },
  {
   "cell_type": "code",
   "execution_count": 2,
   "metadata": {
    "collapsed": true
   },
   "outputs": [],
   "source": [
    "degrees = 180/3.14159 # psi reports in radians; I think in degrees"
   ]
  },
  {
   "cell_type": "markdown",
   "metadata": {},
   "source": [
    "Create an AlanineOpenMMSimulator for demonstration purposes"
   ]
  },
  {
   "cell_type": "markdown",
   "metadata": {},
   "source": [
    "### Set simulation options and create a simulator object"
   ]
  },
  {
   "cell_type": "code",
   "execution_count": 3,
   "metadata": {
    "collapsed": true
   },
   "outputs": [],
   "source": [
    "options = {\n",
    "            'temperature' : 300.0 * u.kelvin,\n",
    "            'collision_rate' : 1.0 / u.picoseconds,\n",
    "            'timestep' : 2.0 * u.femtoseconds,\n",
    "            'nsteps_per_frame' : 10,\n",
    "            'n_frames_max' : 5000,\n",
    "            'start_time' : time.time(),\n",
    "            'fn_initial_pdb' : \"../data/Alanine_solvated.pdb\",\n",
    "            'platform' : 'fastest',\n",
    "            'solute_indices' : range(22),\n",
    "            'forcefield_solute' : 'amber96.xml',\n",
    "            'forcefield_solvent' : 'tip3p.xml'\n",
    "           }"
   ]
  },
  {
   "cell_type": "code",
   "execution_count": 4,
   "metadata": {
    "collapsed": false
   },
   "outputs": [],
   "source": [
    "engine = OpenMMEngine.auto(\n",
    "                filename=\"trajectory.nc\",\n",
    "                template=\"../data/Alanine_solvated.pdb\",\n",
    "                options=options,\n",
    "                mode='create'\n",
    "                )"
   ]
  },
  {
   "cell_type": "markdown",
   "metadata": {},
   "source": [
    "And save the storage in a separate variable for convenience"
   ]
  },
  {
   "cell_type": "code",
   "execution_count": 5,
   "metadata": {
    "collapsed": false
   },
   "outputs": [],
   "source": [
    "storage = engine.storage\n",
    "SampleGenerator.engine = engine"
   ]
  },
  {
   "cell_type": "markdown",
   "metadata": {},
   "source": [
    "Equilibrate"
   ]
  },
  {
   "cell_type": "code",
   "execution_count": 6,
   "metadata": {
    "collapsed": false
   },
   "outputs": [],
   "source": [
    "engine.current_snapshot = engine.template\n",
    "engine.equilibrate(5)\n",
    "engine.initialized = True"
   ]
  },
  {
   "cell_type": "markdown",
   "metadata": {},
   "source": [
    "Save equilibrated snapshot with index 0"
   ]
  },
  {
   "cell_type": "code",
   "execution_count": 7,
   "metadata": {
    "collapsed": true
   },
   "outputs": [],
   "source": [
    "storage.save(engine.current_snapshot);"
   ]
  },
  {
   "cell_type": "markdown",
   "metadata": {},
   "source": [
    "### Order Parameters"
   ]
  },
  {
   "cell_type": "markdown",
   "metadata": {},
   "source": [
    "this generates an order parameter (callable) object named psi (so if we call `psi(trajectory)` we get a list of the values of psi for each frame in the trajectory). This particular order parameter uses mdtraj's compute_dihedrals function, with the atoms in psi_atoms"
   ]
  },
  {
   "cell_type": "code",
   "execution_count": 8,
   "metadata": {
    "collapsed": false
   },
   "outputs": [],
   "source": [
    "psi_atoms = [6,8,14,16]\n",
    "psi = CV_MD_Function(\"psi\", md.compute_dihedrals,\n",
    "                  indices=[psi_atoms])\n",
    "\n",
    "phi_atoms = [4,6,8,14]\n",
    "phi = CV_MD_Function(\"phi\", md.compute_dihedrals,\n",
    "                  indices=[phi_atoms])"
   ]
  },
  {
   "cell_type": "code",
   "execution_count": 9,
   "metadata": {
    "collapsed": false
   },
   "outputs": [],
   "source": [
    "storage.save([psi, phi]);"
   ]
  },
  {
   "cell_type": "markdown",
   "metadata": {},
   "source": [
    "### Volumes"
   ]
  },
  {
   "cell_type": "markdown",
   "metadata": {},
   "source": [
    "This creates two states using a one-dimensional order parameter (called _Lambda_ in TIS terminology). A snapshot is in the State as long as the order parameter is with specific bounds. "
   ]
  },
  {
   "cell_type": "code",
   "execution_count": 10,
   "metadata": {
    "collapsed": true
   },
   "outputs": [],
   "source": [
    "stateA = LambdaVolumePeriodic(\n",
    "    collectivevariable=psi, \n",
    "    lambda_min=-120.0/degrees, \n",
    "    lambda_max=-30.0/degrees, \n",
    "    period_min=-180.0/degrees, \n",
    "    period_max=+180.0/degrees\n",
    ")\n",
    "stateB = LambdaVolumePeriodic(psi, 100/degrees, 180/degrees, -180.0/degrees, +180.0/degrees)"
   ]
  },
  {
   "cell_type": "markdown",
   "metadata": {},
   "source": [
    "Now do the same for a set of lambda ranges to produce nested volumes."
   ]
  },
  {
   "cell_type": "code",
   "execution_count": 11,
   "metadata": {
    "collapsed": true
   },
   "outputs": [],
   "source": [
    "minima = map((1.0 / degrees).__mul__,\n",
    "             [-125, -135, -140, -142.5, -145.0, -147.0, -150.0])\n",
    "\n",
    "maxima = map((1.0 / degrees).__mul__,\n",
    "             [-25.0, -21.0, -18.5, -17.0, -15.0, -10.0, 0.0])\n",
    "\n",
    "volume_set = vf.LambdaVolumePeriodicSet(psi, minima, maxima, -180.0/degrees, +180.0/degrees)"
   ]
  },
  {
   "cell_type": "markdown",
   "metadata": {},
   "source": [
    "### Ensembles"
   ]
  },
  {
   "cell_type": "markdown",
   "metadata": {},
   "source": [
    "Now do this automatically for all ensembles"
   ]
  },
  {
   "cell_type": "code",
   "execution_count": 12,
   "metadata": {
    "collapsed": false
   },
   "outputs": [],
   "source": [
    "interface0 = volume_set[0]\n",
    "interface_set = ef.TISEnsembleSet(stateA, stateA | stateB, volume_set, psi)\n",
    "for no, interface in enumerate(interface_set):\n",
    "    # Give each interface a name\n",
    "    interface.uid = 'Interface '+str(no)\n",
    "    # And save all of these\n",
    "    storage.ensembles.save(interface)"
   ]
  },
  {
   "cell_type": "markdown",
   "metadata": {},
   "source": [
    "And create a special ensemble, that will create a first trajectory in the innermost TIS ensemble independent from where we start"
   ]
  },
  {
   "cell_type": "markdown",
   "metadata": {},
   "source": [
    "The idea is to describe a trajectory type by a sequence of positions. First can be outside of stateA or not, then be inside stateA, etc..."
   ]
  },
  {
   "cell_type": "code",
   "execution_count": 13,
   "metadata": {
    "collapsed": true
   },
   "outputs": [],
   "source": [
    "first_traj_ensemble = SequentialEnsemble([\n",
    "    AllOutXEnsemble(stateA) | LengthEnsemble(0),\n",
    "    AllInXEnsemble(stateA),\n",
    "    (AllOutXEnsemble(stateA) & AllInXEnsemble(interface0)) | LengthEnsemble(0),\n",
    "    AllInXEnsemble(interface0) | LengthEnsemble(0),\n",
    "    AllOutXEnsemble(interface0),\n",
    "    AllOutXEnsemble(stateA) | LengthEnsemble(0),\n",
    "    AllInXEnsemble(stateA) & LengthEnsemble(1)\n",
    "])"
   ]
  },
  {
   "cell_type": "code",
   "execution_count": 14,
   "metadata": {
    "collapsed": false
   },
   "outputs": [
    {
     "name": "stdout",
     "output_type": "stream",
     "text": [
      "CUDA\n"
     ]
    }
   ],
   "source": [
    "platform = engine.simulation.context.getPlatform()\n",
    "print platform.getName()"
   ]
  },
  {
   "cell_type": "markdown",
   "metadata": {},
   "source": [
    "### start path generation"
   ]
  },
  {
   "cell_type": "markdown",
   "metadata": {},
   "source": [
    "so lets try and see if we can generate a first path"
   ]
  },
  {
   "cell_type": "markdown",
   "metadata": {},
   "source": [
    "load the initial snapshot (although we still have it) and generate using the Alanine simulator. The second option specifies a function : trajectory -> bool that keeps the simulation running as long as it is true. Our goal was to generate a path that belongs to a specific ensemble, so we use `forward` to determine if it makes sense to keep running or if the result cannot belong to the ensemble anymore."
   ]
  },
  {
   "cell_type": "code",
   "execution_count": 15,
   "metadata": {
    "collapsed": false
   },
   "outputs": [],
   "source": [
    "snapshot = storage.load(Snapshot, 0)\n",
    "total_path = engine.generate(\n",
    "    snapshot= snapshot, \n",
    "    running = [first_traj_ensemble.can_append]\n",
    ")"
   ]
  },
  {
   "cell_type": "markdown",
   "metadata": {},
   "source": [
    "Show the length"
   ]
  },
  {
   "cell_type": "code",
   "execution_count": 16,
   "metadata": {
    "collapsed": false
   },
   "outputs": [
    {
     "name": "stdout",
     "output_type": "stream",
     "text": [
      "Total trajectory length:  81\n"
     ]
    }
   ],
   "source": [
    "print \"Total trajectory length: \", len(total_path)"
   ]
  },
  {
   "cell_type": "markdown",
   "metadata": {},
   "source": [
    "And save the trajetory completely"
   ]
  },
  {
   "cell_type": "code",
   "execution_count": 17,
   "metadata": {
    "collapsed": true
   },
   "outputs": [],
   "source": [
    "storage.save(total_path);"
   ]
  },
  {
   "cell_type": "markdown",
   "metadata": {},
   "source": [
    "Split the trajectory into parts that belong to the TIS ensemble (not the one we generated)"
   ]
  },
  {
   "cell_type": "code",
   "execution_count": 18,
   "metadata": {
    "collapsed": false
   },
   "outputs": [
    {
     "name": "stdout",
     "output_type": "stream",
     "text": [
      "Traj in first_traj_ensemble? (should be) True\n",
      "Traj in TIS ensemble? (probably not) False\n",
      "Number of segments in TIS ensemble:  1\n",
      "Length of each segment:\n",
      "  seg[0]: 9\n"
     ]
    }
   ],
   "source": [
    "interface0_ensemble = interface_set[0]\n",
    "segments = interface0_ensemble.split(total_path)\n",
    "\n",
    "print \"Traj in first_traj_ensemble? (should be)\", \n",
    "print first_traj_ensemble(total_path)\n",
    "\n",
    "print \"Traj in TIS ensemble? (probably not)\", \n",
    "print interface0_ensemble(total_path)\n",
    "\n",
    "\n",
    "print \"Number of segments in TIS ensemble: \", len(segments)\n",
    "if len(segments):\n",
    "    print \"Length of each segment:\"\n",
    "    for i in range(len(segments)):\n",
    "        print \"  seg[{0}]: {1}\".format(i, len(segments[i]))"
   ]
  },
  {
   "cell_type": "markdown",
   "metadata": {},
   "source": [
    "Show some results and check if this worked"
   ]
  },
  {
   "cell_type": "code",
   "execution_count": 19,
   "metadata": {
    "collapsed": false
   },
   "outputs": [
    {
     "data": {
      "text/html": [
       "<div style=\"max-height:1000px;max-width:1500px;overflow:auto;\">\n",
       "<table border=\"1\" class=\"dataframe\">\n",
       "  <thead>\n",
       "    <tr style=\"text-align: right;\">\n",
       "      <th></th>\n",
       "      <th>phi</th>\n",
       "      <th>psi</th>\n",
       "      <th>stateA</th>\n",
       "      <th>interface0</th>\n",
       "      <th>stateB</th>\n",
       "      <th>appendable</th>\n",
       "    </tr>\n",
       "  </thead>\n",
       "  <tbody>\n",
       "    <tr>\n",
       "      <th>0</th>\n",
       "      <td>-80.208523</td>\n",
       "      <td>-10.277041</td>\n",
       "      <td>[False]</td>\n",
       "      <td>[False]</td>\n",
       "      <td>[False]</td>\n",
       "      <td>True</td>\n",
       "    </tr>\n",
       "    <tr>\n",
       "      <th>1</th>\n",
       "      <td>-83.218125</td>\n",
       "      <td>-10.939341</td>\n",
       "      <td>[False]</td>\n",
       "      <td>[False]</td>\n",
       "      <td>[False]</td>\n",
       "      <td>True</td>\n",
       "    </tr>\n",
       "    <tr>\n",
       "      <th>2</th>\n",
       "      <td>-80.068237</td>\n",
       "      <td>-12.066170</td>\n",
       "      <td>[False]</td>\n",
       "      <td>[False]</td>\n",
       "      <td>[False]</td>\n",
       "      <td>True</td>\n",
       "    </tr>\n",
       "    <tr>\n",
       "      <th>78</th>\n",
       "      <td>-68.710894</td>\n",
       "      <td>-19.583707</td>\n",
       "      <td>[False]</td>\n",
       "      <td>[False]</td>\n",
       "      <td>[False]</td>\n",
       "      <td>True</td>\n",
       "    </tr>\n",
       "    <tr>\n",
       "      <th>79</th>\n",
       "      <td>-57.940079</td>\n",
       "      <td>-18.014096</td>\n",
       "      <td>[False]</td>\n",
       "      <td>[False]</td>\n",
       "      <td>[False]</td>\n",
       "      <td>True</td>\n",
       "    </tr>\n",
       "    <tr>\n",
       "      <th>80</th>\n",
       "      <td>-63.592626</td>\n",
       "      <td>-31.706182</td>\n",
       "      <td>[True]</td>\n",
       "      <td>[True]</td>\n",
       "      <td>[False]</td>\n",
       "      <td>False</td>\n",
       "    </tr>\n",
       "  </tbody>\n",
       "</table>\n",
       "</div>"
      ],
      "text/plain": [
       "          phi        psi   stateA interface0   stateB appendable\n",
       "0  -80.208523 -10.277041  [False]    [False]  [False]       True\n",
       "1  -83.218125 -10.939341  [False]    [False]  [False]       True\n",
       "2  -80.068237 -12.066170  [False]    [False]  [False]       True\n",
       "78 -68.710894 -19.583707  [False]    [False]  [False]       True\n",
       "79 -57.940079 -18.014096  [False]    [False]  [False]       True\n",
       "80 -63.592626 -31.706182   [True]     [True]  [False]      False"
      ]
     },
     "execution_count": 19,
     "metadata": {},
     "output_type": "execute_result"
    }
   ],
   "source": [
    "data = []\n",
    "for frame in total_path:\n",
    "    data.append((phi(frame)[0]*degrees, psi(frame)[0]*degrees, stateA(frame), interface0(frame), stateB(frame), first_traj_ensemble.can_append(total_path[slice(0,total_path.index(frame)+1)])))\n",
    "    \n",
    "dataframe = pd.DataFrame(data, columns=['phi', 'psi', 'stateA', 'interface0', 'stateB', 'appendable'])\n",
    "dataframe[[0,1,2,3,4,5]].ix[[0,1,2,len(dataframe)-3,len(dataframe)-2,len(dataframe)-1]]"
   ]
  },
  {
   "cell_type": "code",
   "execution_count": 20,
   "metadata": {
    "collapsed": false
   },
   "outputs": [
    {
     "name": "stdout",
     "output_type": "stream",
     "text": [
      "Do our segments satisfy the ensemble? True\n"
     ]
    }
   ],
   "source": [
    "print \"Do our segments satisfy the ensemble?\",\n",
    "for seg in segments:\n",
    "    print interface0_ensemble(seg),"
   ]
  },
  {
   "cell_type": "code",
   "execution_count": 21,
   "metadata": {
    "collapsed": false
   },
   "outputs": [
    {
     "data": {
      "text/html": [
       "<div style=\"max-height:1000px;max-width:1500px;overflow:auto;\">\n",
       "<table border=\"1\" class=\"dataframe\">\n",
       "  <thead>\n",
       "    <tr style=\"text-align: right;\">\n",
       "      <th></th>\n",
       "      <th>phi</th>\n",
       "      <th>psi</th>\n",
       "      <th>stateA</th>\n",
       "      <th>interface0</th>\n",
       "      <th>stateB</th>\n",
       "      <th>appendable</th>\n",
       "    </tr>\n",
       "  </thead>\n",
       "  <tbody>\n",
       "    <tr>\n",
       "      <th>0</th>\n",
       "      <td>-66.584613</td>\n",
       "      <td>-35.858862</td>\n",
       "      <td>[True]</td>\n",
       "      <td>[True]</td>\n",
       "      <td>[False]</td>\n",
       "      <td>True</td>\n",
       "    </tr>\n",
       "    <tr>\n",
       "      <th>1</th>\n",
       "      <td>-73.936245</td>\n",
       "      <td>-25.000009</td>\n",
       "      <td>[False]</td>\n",
       "      <td>[True]</td>\n",
       "      <td>[False]</td>\n",
       "      <td>True</td>\n",
       "    </tr>\n",
       "    <tr>\n",
       "      <th>2</th>\n",
       "      <td>-68.530570</td>\n",
       "      <td>-26.508680</td>\n",
       "      <td>[False]</td>\n",
       "      <td>[True]</td>\n",
       "      <td>[False]</td>\n",
       "      <td>True</td>\n",
       "    </tr>\n",
       "    <tr>\n",
       "      <th>3</th>\n",
       "      <td>-73.455168</td>\n",
       "      <td>-15.922081</td>\n",
       "      <td>[False]</td>\n",
       "      <td>[False]</td>\n",
       "      <td>[False]</td>\n",
       "      <td>True</td>\n",
       "    </tr>\n",
       "    <tr>\n",
       "      <th>4</th>\n",
       "      <td>-64.184319</td>\n",
       "      <td>-20.490312</td>\n",
       "      <td>[False]</td>\n",
       "      <td>[False]</td>\n",
       "      <td>[False]</td>\n",
       "      <td>True</td>\n",
       "    </tr>\n",
       "    <tr>\n",
       "      <th>5</th>\n",
       "      <td>-68.082768</td>\n",
       "      <td>-14.235322</td>\n",
       "      <td>[False]</td>\n",
       "      <td>[False]</td>\n",
       "      <td>[False]</td>\n",
       "      <td>True</td>\n",
       "    </tr>\n",
       "    <tr>\n",
       "      <th>6</th>\n",
       "      <td>-68.710894</td>\n",
       "      <td>-19.583707</td>\n",
       "      <td>[False]</td>\n",
       "      <td>[False]</td>\n",
       "      <td>[False]</td>\n",
       "      <td>True</td>\n",
       "    </tr>\n",
       "    <tr>\n",
       "      <th>7</th>\n",
       "      <td>-57.940079</td>\n",
       "      <td>-18.014096</td>\n",
       "      <td>[False]</td>\n",
       "      <td>[False]</td>\n",
       "      <td>[False]</td>\n",
       "      <td>True</td>\n",
       "    </tr>\n",
       "    <tr>\n",
       "      <th>8</th>\n",
       "      <td>-63.592626</td>\n",
       "      <td>-31.706182</td>\n",
       "      <td>[True]</td>\n",
       "      <td>[True]</td>\n",
       "      <td>[False]</td>\n",
       "      <td>False</td>\n",
       "    </tr>\n",
       "  </tbody>\n",
       "</table>\n",
       "</div>"
      ],
      "text/plain": [
       "         phi        psi   stateA interface0   stateB appendable\n",
       "0 -66.584613 -35.858862   [True]     [True]  [False]       True\n",
       "1 -73.936245 -25.000009  [False]     [True]  [False]       True\n",
       "2 -68.530570 -26.508680  [False]     [True]  [False]       True\n",
       "3 -73.455168 -15.922081  [False]    [False]  [False]       True\n",
       "4 -64.184319 -20.490312  [False]    [False]  [False]       True\n",
       "5 -68.082768 -14.235322  [False]    [False]  [False]       True\n",
       "6 -68.710894 -19.583707  [False]    [False]  [False]       True\n",
       "7 -57.940079 -18.014096  [False]    [False]  [False]       True\n",
       "8 -63.592626 -31.706182   [True]     [True]  [False]      False"
      ]
     },
     "execution_count": 21,
     "metadata": {},
     "output_type": "execute_result"
    }
   ],
   "source": [
    "data = []\n",
    "for frame in segments[0]:\n",
    "    data.append((phi(frame)[0]*degrees, psi(frame)[0]*degrees, stateA(frame), interface0(frame), stateB(frame), first_traj_ensemble.can_append(total_path[slice(0,total_path.index(frame)+1)])))\n",
    "    \n",
    "dataframe = pd.DataFrame(data, columns=['phi', 'psi', 'stateA', 'interface0', 'stateB', 'appendable'])\n",
    "dataframe[[0,1,2,3,4,5]]"
   ]
  },
  {
   "cell_type": "markdown",
   "metadata": {},
   "source": [
    "### Bootstrapping"
   ]
  },
  {
   "cell_type": "markdown",
   "metadata": {},
   "source": [
    "Run a bootstrapping (not TIS) simulation that shoots from an ensemble until the next interface is reached then switch to the next ensemble to drive the system out of stateA"
   ]
  },
  {
   "cell_type": "code",
   "execution_count": 22,
   "metadata": {
    "collapsed": true
   },
   "outputs": [],
   "source": [
    "mover_set = mf.OneWayShootingSet(UniformSelector(), interface_set)"
   ]
  },
  {
   "cell_type": "code",
   "execution_count": 23,
   "metadata": {
    "collapsed": false
   },
   "outputs": [],
   "source": [
    "bootstrap = Bootstrapping(storage=storage,\n",
    "                          engine=engine,\n",
    "                          ensembles=interface_set,\n",
    "                          movers=mover_set,\n",
    "                          trajectory=segments[0])"
   ]
  },
  {
   "cell_type": "markdown",
   "metadata": {},
   "source": [
    "Run Bootstrapping with at most 50 attempts per ensemble"
   ]
  },
  {
   "cell_type": "code",
   "execution_count": 25,
   "metadata": {
    "collapsed": false
   },
   "outputs": [
    {
     "name": "stdout",
     "output_type": "stream",
     "text": [
      "{}\n",
      "ForwardShootMover\n",
      "[<openpathsampling.ensemble.TISEnsemble object at 0x10f7ffed0>]\n",
      "[<Sample @ 0x10fb62b90>] [[<openpathsampling.ensemble.TISEnsemble object at 0x10f7ffed0>]]\n",
      "0.496916660582 0.35\n",
      "{'total_acceptance': 0.35, 'random_value': 0.4969166605824984}\n",
      "Accepted False\n",
      "0\n",
      "{}\n",
      "ForwardShootMover\n",
      "[<openpathsampling.ensemble.TISEnsemble object at 0x10f7ffed0>]\n",
      "[<Sample @ 0x10f8ecb10>] [[<openpathsampling.ensemble.TISEnsemble object at 0x10f7ffed0>]]\n",
      "0.851588303647 1.0\n",
      "{'total_acceptance': 1.0, 'random_value': 0.8515883036470375}\n",
      "Accepted True\n",
      "{}\n",
      "{}\n",
      "1\n",
      "{}\n",
      "ForwardShootMover\n",
      "[<openpathsampling.ensemble.TISEnsemble object at 0x10fb734d0>]\n",
      "[<Sample @ 0x10f91bf90>] [[<openpathsampling.ensemble.TISEnsemble object at 0x10fb734d0>]]\n",
      "0.653991446978 1.0\n",
      "{'total_acceptance': 1.0, 'random_value': 0.6539914469783037}\n",
      "Accepted True\n",
      "{}\n",
      "{}\n",
      "1\n",
      "{}\n",
      "BackwardShootMover\n",
      "[<openpathsampling.ensemble.TISEnsemble object at 0x10fb738d0>]\n",
      "[<Sample @ 0x10f8fcc10>] [[<openpathsampling.ensemble.TISEnsemble object at 0x10fb738d0>]]\n",
      "0.77421484381 1.0\n",
      "{'total_acceptance': 1.0, 'random_value': 0.7742148438097498}\n",
      "Accepted True\n",
      "{}\n",
      "{}\n",
      "1\n",
      "{}\n",
      "ForwardShootMover\n",
      "[<openpathsampling.ensemble.TISEnsemble object at 0x10fb73cd0>]\n",
      "[<Sample @ 0x10f99e290>] [[<openpathsampling.ensemble.TISEnsemble object at 0x10fb73cd0>]]\n",
      "0.990862423732 1.0\n",
      "{'total_acceptance': 1.0, 'random_value': 0.9908624237320964}\n",
      "Accepted True\n",
      "{}\n",
      "{}\n",
      "1\n",
      "{}\n",
      "BackwardShootMover\n",
      "[<openpathsampling.ensemble.TISEnsemble object at 0x10fb81110>]\n",
      "[<Sample @ 0x10f99e850>] [[<openpathsampling.ensemble.TISEnsemble object at 0x10fb81110>]]\n",
      "0.277339871203 1.4\n",
      "{'total_acceptance': 1.4, 'random_value': 0.27733987120276105}\n",
      "Accepted True\n",
      "{}\n",
      "1\n",
      "{}\n",
      "BackwardShootMover\n",
      "[<openpathsampling.ensemble.TISEnsemble object at 0x10fb81110>]\n",
      "[<Sample @ 0x10f99ee50>] [[<openpathsampling.ensemble.TISEnsemble object at 0x10fb81110>]]\n",
      "0.835172121799 1.0\n",
      "{'total_acceptance': 1.0, 'random_value': 0.8351721217989513}\n",
      "Accepted False\n",
      "0\n",
      "{}\n",
      "BackwardShootMover\n",
      "[<openpathsampling.ensemble.TISEnsemble object at 0x10fb81110>]\n",
      "[<Sample @ 0x10fb55910>] [[<openpathsampling.ensemble.TISEnsemble object at 0x10fb81110>]]\n",
      "0.777529716553 1.0\n",
      "{'total_acceptance': 1.0, 'random_value': 0.7775297165533732}\n",
      "Accepted True\n",
      "{}\n",
      "1\n",
      "{}\n",
      "ForwardShootMover\n",
      "[<openpathsampling.ensemble.TISEnsemble object at 0x10fb81110>]\n",
      "[<Sample @ 0x10f911150>] [[<openpathsampling.ensemble.TISEnsemble object at 0x10fb81110>]]\n",
      "0.445793788772 0.714285714286\n",
      "{'total_acceptance': 0.7142857142857143, 'random_value': 0.44579378877186027}\n",
      "Accepted True\n",
      "{}\n",
      "1\n",
      "{}\n",
      "BackwardShootMover\n",
      "[<openpathsampling.ensemble.TISEnsemble object at 0x10fb81110>]\n",
      "[<Sample @ 0x10f911f50>] [[<openpathsampling.ensemble.TISEnsemble object at 0x10fb81110>]]\n",
      "0.907733334075 0.259259259259\n",
      "{'total_acceptance': 0.25925925925925924, 'random_value': 0.9077333340750806}\n",
      "Accepted False\n",
      "0\n",
      "{}\n",
      "BackwardShootMover\n",
      "[<openpathsampling.ensemble.TISEnsemble object at 0x10fb81110>]\n",
      "[<Sample @ 0x11032d810>] [[<openpathsampling.ensemble.TISEnsemble object at 0x10fb81110>]]\n",
      "0.575631831156 1.4\n",
      "{'total_acceptance': 1.4, 'random_value': 0.5756318311562906}\n",
      "Accepted True\n",
      "{}\n",
      "1\n",
      "{}\n",
      "ForwardShootMover\n",
      "[<openpathsampling.ensemble.TISEnsemble object at 0x10fb81110>]\n",
      "[<Sample @ 0x11033a690>] [[<openpathsampling.ensemble.TISEnsemble object at 0x10fb81110>]]\n",
      "0.546032108126 1.0\n",
      "{'total_acceptance': 1.0, 'random_value': 0.5460321081255066}\n",
      "Accepted False\n",
      "0\n",
      "{}\n",
      "ForwardShootMover\n",
      "[<openpathsampling.ensemble.TISEnsemble object at 0x10fb81110>]\n",
      "[<Sample @ 0x11033aa10>] [[<openpathsampling.ensemble.TISEnsemble object at 0x10fb81110>]]\n",
      "0.548748287026 1.0\n",
      "{'total_acceptance': 1.0, 'random_value': 0.5487482870255614}\n",
      "Accepted False\n",
      "0\n",
      "{}\n",
      "ForwardShootMover\n",
      "[<openpathsampling.ensemble.TISEnsemble object at 0x10fb81110>]\n",
      "[<Sample @ 0x11046c350>] [[<openpathsampling.ensemble.TISEnsemble object at 0x10fb81110>]]\n",
      "0.691134888699 0.714285714286\n",
      "{'total_acceptance': 0.7142857142857143, 'random_value': 0.6911348886992966}\n",
      "Accepted True\n",
      "{}\n",
      "1\n",
      "{}\n",
      "BackwardShootMover\n",
      "[<openpathsampling.ensemble.TISEnsemble object at 0x10fb81110>]\n",
      "[<Sample @ 0x11049b490>] [[<openpathsampling.ensemble.TISEnsemble object at 0x10fb81110>]]\n",
      "0.244437140873 1.0\n",
      "{'total_acceptance': 1.0, 'random_value': 0.24443714087262847}\n",
      "Accepted False\n",
      "0\n",
      "{}\n",
      "ForwardShootMover\n",
      "[<openpathsampling.ensemble.TISEnsemble object at 0x10fb81110>]\n",
      "[<Sample @ 0x11049bb50>] [[<openpathsampling.ensemble.TISEnsemble object at 0x10fb81110>]]\n",
      "0.707383397181 1.0\n",
      "{'total_acceptance': 1.0, 'random_value': 0.7073833971814536}\n",
      "Accepted True\n",
      "{}\n",
      "1\n",
      "{}\n",
      "BackwardShootMover\n",
      "[<openpathsampling.ensemble.TISEnsemble object at 0x10fb81110>]\n",
      "[<Sample @ 0x11035fa10>] [[<openpathsampling.ensemble.TISEnsemble object at 0x10fb81110>]]\n",
      "0.974941597838 0.777777777778\n",
      "{'total_acceptance': 0.7777777777777778, 'random_value': 0.9749415978379381}\n",
      "Accepted False\n",
      "0\n",
      "{}\n",
      "ForwardShootMover\n",
      "[<openpathsampling.ensemble.TISEnsemble object at 0x10fb81110>]\n",
      "[<Sample @ 0x10f7caf90>] [[<openpathsampling.ensemble.TISEnsemble object at 0x10fb81110>]]\n",
      "0.0485762628438 1.0\n",
      "{'total_acceptance': 1.0, 'random_value': 0.04857626284382688}\n",
      "Accepted True\n",
      "{}\n",
      "1\n",
      "{}\n",
      "ForwardShootMover\n",
      "[<openpathsampling.ensemble.TISEnsemble object at 0x10fb81110>]\n",
      "[<Sample @ 0x110488450>] [[<openpathsampling.ensemble.TISEnsemble object at 0x10fb81110>]]\n",
      "0.488431752901 1.0\n",
      "{'total_acceptance': 1.0, 'random_value': 0.4884317529007782}\n",
      "Accepted True\n",
      "{}\n",
      "1\n",
      "{}\n",
      "BackwardShootMover\n",
      "[<openpathsampling.ensemble.TISEnsemble object at 0x10fb81110>]\n",
      "[<Sample @ 0x110488cd0>] [[<openpathsampling.ensemble.TISEnsemble object at 0x10fb81110>]]\n",
      "0.93365068263 1.0\n",
      "{'total_acceptance': 1.0, 'random_value': 0.9336506826298431}\n",
      "Accepted True\n",
      "{}\n",
      "1\n",
      "{}\n",
      "BackwardShootMover\n",
      "[<openpathsampling.ensemble.TISEnsemble object at 0x10fb81110>]\n",
      "[<Sample @ 0x11033c510>] [[<openpathsampling.ensemble.TISEnsemble object at 0x10fb81110>]]\n",
      "0.787605012801 0.5\n",
      "{'total_acceptance': 0.5, 'random_value': 0.787605012801078}\n",
      "Accepted False\n",
      "0\n",
      "{}\n",
      "BackwardShootMover\n",
      "[<openpathsampling.ensemble.TISEnsemble object at 0x10fb81110>]\n",
      "[<Sample @ 0x10f7ce990>] [[<openpathsampling.ensemble.TISEnsemble object at 0x10fb81110>]]\n",
      "0.580541754195 1.0\n",
      "{'total_acceptance': 1.0, 'random_value': 0.5805417541946165}\n",
      "Accepted True\n",
      "{}\n",
      "1\n",
      "{}\n",
      "BackwardShootMover\n",
      "[<openpathsampling.ensemble.TISEnsemble object at 0x10fb81110>]\n",
      "[<Sample @ 0x10f7b6a10>] [[<openpathsampling.ensemble.TISEnsemble object at 0x10fb81110>]]\n",
      "0.703602752492 1.0\n",
      "{'total_acceptance': 1.0, 'random_value': 0.7036027524920816}\n",
      "Accepted False\n",
      "0\n",
      "{}\n",
      "BackwardShootMover\n",
      "[<openpathsampling.ensemble.TISEnsemble object at 0x10fb81110>]\n",
      "[<Sample @ 0x110348350>] [[<openpathsampling.ensemble.TISEnsemble object at 0x10fb81110>]]\n",
      "0.96345057071 1.0\n",
      "{'total_acceptance': 1.0, 'random_value': 0.9634505707103791}\n",
      "Accepted True\n",
      "{}\n",
      "1\n",
      "{}\n",
      "BackwardShootMover\n",
      "[<openpathsampling.ensemble.TISEnsemble object at 0x10fb81110>]\n",
      "[<Sample @ 0x110354310>] [[<openpathsampling.ensemble.TISEnsemble object at 0x10fb81110>]]\n",
      "0.851959598488 1.0\n",
      "{'total_acceptance': 1.0, 'random_value': 0.8519595984877233}\n",
      "Accepted False\n",
      "0\n",
      "{}\n",
      "ForwardShootMover\n",
      "[<openpathsampling.ensemble.TISEnsemble object at 0x10fb81110>]\n",
      "[<Sample @ 0x110362390>] [[<openpathsampling.ensemble.TISEnsemble object at 0x10fb81110>]]\n",
      "0.608075245562 1.0\n",
      "{'total_acceptance': 1.0, 'random_value': 0.6080752455622186}\n",
      "Accepted True\n",
      "{}\n",
      "1\n",
      "{}\n",
      "BackwardShootMover\n",
      "[<openpathsampling.ensemble.TISEnsemble object at 0x10fb81110>]\n",
      "[<Sample @ 0x110362f50>] [[<openpathsampling.ensemble.TISEnsemble object at 0x10fb81110>]]\n",
      "0.782632520715 1.0\n",
      "{'total_acceptance': 1.0, 'random_value': 0.7826325207146085}\n",
      "Accepted True\n",
      "{}\n",
      "1\n",
      "{}\n",
      "BackwardShootMover\n",
      "[<openpathsampling.ensemble.TISEnsemble object at 0x10fb81110>]\n",
      "[<Sample @ 0x1103748d0>] [[<openpathsampling.ensemble.TISEnsemble object at 0x10fb81110>]]\n",
      "0.123159599282 1.0\n",
      "{'total_acceptance': 1.0, 'random_value': 0.12315959928180564}\n",
      "Accepted False\n",
      "0\n",
      "{}\n",
      "ForwardShootMover\n",
      "[<openpathsampling.ensemble.TISEnsemble object at 0x10fb81110>]\n",
      "[<Sample @ 0x110378bd0>] [[<openpathsampling.ensemble.TISEnsemble object at 0x10fb81110>]]\n",
      "0.0691995663018 1.0\n",
      "{'total_acceptance': 1.0, 'random_value': 0.06919956630176172}\n",
      "Accepted True\n",
      "{}\n",
      "1\n",
      "{}\n",
      "ForwardShootMover\n",
      "[<openpathsampling.ensemble.TISEnsemble object at 0x10fb81110>]\n",
      "[<Sample @ 0x110388650>] [[<openpathsampling.ensemble.TISEnsemble object at 0x10fb81110>]]\n",
      "0.975414307275 1.0\n",
      "{'total_acceptance': 1.0, 'random_value': 0.9754143072750548}\n",
      "Accepted True\n",
      "{}\n",
      "1\n",
      "{}\n",
      "ForwardShootMover\n",
      "[<openpathsampling.ensemble.TISEnsemble object at 0x10fb81110>]\n",
      "[<Sample @ 0x110388e50>] [[<openpathsampling.ensemble.TISEnsemble object at 0x10fb81110>]]\n",
      "0.453559850158 1.0\n",
      "{'total_acceptance': 1.0, 'random_value': 0.45355985015803524}\n",
      "Accepted True\n",
      "{}\n",
      "1\n",
      "{}\n",
      "BackwardShootMover\n",
      "[<openpathsampling.ensemble.TISEnsemble object at 0x10fb81110>]\n",
      "[<Sample @ 0x11038fbd0>] [[<openpathsampling.ensemble.TISEnsemble object at 0x10fb81110>]]\n",
      "0.423488877486 1.0\n",
      "{'total_acceptance': 1.0, 'random_value': 0.4234888774858683}\n",
      "Accepted True\n",
      "{}\n",
      "1\n",
      "{}\n",
      "ForwardShootMover\n",
      "[<openpathsampling.ensemble.TISEnsemble object at 0x10fb81110>]\n",
      "[<Sample @ 0x10f9bdb90>] [[<openpathsampling.ensemble.TISEnsemble object at 0x10fb81110>]]\n",
      "0.691106272763 1.0\n",
      "{'total_acceptance': 1.0, 'random_value': 0.6911062727630476}\n",
      "Accepted False\n",
      "0\n",
      "{}\n",
      "ForwardShootMover\n",
      "[<openpathsampling.ensemble.TISEnsemble object at 0x10fb81110>]\n",
      "[<Sample @ 0x10f9abed0>] [[<openpathsampling.ensemble.TISEnsemble object at 0x10fb81110>]]\n",
      "0.949721103927 1.0\n",
      "{'total_acceptance': 1.0, 'random_value': 0.9497211039272546}\n",
      "Accepted False\n",
      "0\n",
      "{}\n",
      "BackwardShootMover\n",
      "[<openpathsampling.ensemble.TISEnsemble object at 0x10fb81110>]\n",
      "[<Sample @ 0x10f9c4d90>] [[<openpathsampling.ensemble.TISEnsemble object at 0x10fb81110>]]\n",
      "0.804913591186 1.0\n",
      "{'total_acceptance': 1.0, 'random_value': 0.804913591186275}\n",
      "Accepted True\n",
      "{}\n",
      "1\n",
      "{}\n",
      "BackwardShootMover\n",
      "[<openpathsampling.ensemble.TISEnsemble object at 0x10fb81110>]\n",
      "[<Sample @ 0x110398590>] [[<openpathsampling.ensemble.TISEnsemble object at 0x10fb81110>]]\n",
      "0.216862741323 1.0\n",
      "{'total_acceptance': 1.0, 'random_value': 0.2168627413230345}\n",
      "Accepted True\n",
      "{}\n",
      "1\n",
      "{}\n",
      "ForwardShootMover\n",
      "[<openpathsampling.ensemble.TISEnsemble object at 0x10fb81110>]\n",
      "[<Sample @ 0x110398d90>] [[<openpathsampling.ensemble.TISEnsemble object at 0x10fb81110>]]\n",
      "0.0368301615146 0.875\n",
      "{'total_acceptance': 0.875, 'random_value': 0.03683016151460239}\n",
      "Accepted True\n",
      "{}\n",
      "1\n",
      "{}\n",
      "ForwardShootMover\n",
      "[<openpathsampling.ensemble.TISEnsemble object at 0x10fb81110>]\n",
      "[<Sample @ 0x10f9a7dd0>] [[<openpathsampling.ensemble.TISEnsemble object at 0x10fb81110>]]\n",
      "0.695734405342 1.14285714286\n",
      "{'total_acceptance': 1.1428571428571428, 'random_value': 0.695734405342002}\n",
      "Accepted True\n",
      "{}\n",
      "1\n",
      "{}\n",
      "BackwardShootMover\n",
      "[<openpathsampling.ensemble.TISEnsemble object at 0x10fb81110>]\n",
      "[<Sample @ 0x1103712d0>] [[<openpathsampling.ensemble.TISEnsemble object at 0x10fb81110>]]\n",
      "0.453823836014 1.0\n",
      "{'total_acceptance': 1.0, 'random_value': 0.4538238360140556}\n",
      "Accepted True\n",
      "{}\n",
      "1\n",
      "{}\n",
      "BackwardShootMover\n",
      "[<openpathsampling.ensemble.TISEnsemble object at 0x10fb81110>]\n",
      "[<Sample @ 0x11037b3d0>] [[<openpathsampling.ensemble.TISEnsemble object at 0x10fb81110>]]\n",
      "0.534107204652 1.0\n",
      "{'total_acceptance': 1.0, 'random_value': 0.5341072046524752}\n",
      "Accepted True\n",
      "{}\n",
      "1\n",
      "{}\n",
      "ForwardShootMover\n",
      "[<openpathsampling.ensemble.TISEnsemble object at 0x10fb81110>]\n",
      "[<Sample @ 0x10f896890>] [[<openpathsampling.ensemble.TISEnsemble object at 0x10fb81110>]]\n",
      "0.335810031356 1.0\n",
      "{'total_acceptance': 1.0, 'random_value': 0.33581003135622667}\n",
      "Accepted True\n",
      "{}\n",
      "1\n",
      "{}\n",
      "BackwardShootMover\n",
      "[<openpathsampling.ensemble.TISEnsemble object at 0x10fb81110>]\n",
      "[<Sample @ 0x10f9e5350>] [[<openpathsampling.ensemble.TISEnsemble object at 0x10fb81110>]]\n",
      "0.634617228768 1.0\n",
      "{'total_acceptance': 1.0, 'random_value': 0.6346172287680503}\n",
      "Accepted True\n",
      "{}\n",
      "1\n",
      "{}\n",
      "ForwardShootMover\n",
      "[<openpathsampling.ensemble.TISEnsemble object at 0x10fb81110>]\n",
      "[<Sample @ 0x10f9e5bd0>] [[<openpathsampling.ensemble.TISEnsemble object at 0x10fb81110>]]\n",
      "0.843244484744 1.0\n",
      "{'total_acceptance': 1.0, 'random_value': 0.8432444847444958}\n",
      "Accepted True\n",
      "{}\n",
      "1\n",
      "{}\n",
      "ForwardShootMover\n",
      "[<openpathsampling.ensemble.TISEnsemble object at 0x10fb81110>]\n",
      "[<Sample @ 0x10f9cb310>] [[<openpathsampling.ensemble.TISEnsemble object at 0x10fb81110>]]\n",
      "0.211717165651 0.875\n",
      "{'total_acceptance': 0.875, 'random_value': 0.21171716565123444}\n",
      "Accepted True\n",
      "{}\n",
      "1\n",
      "{}\n",
      "ForwardShootMover\n",
      "[<openpathsampling.ensemble.TISEnsemble object at 0x10fb81110>]\n",
      "[<Sample @ 0x10f86f810>] [[<openpathsampling.ensemble.TISEnsemble object at 0x10fb81110>]]\n",
      "0.0749093752798 1.0\n",
      "{'total_acceptance': 1.0, 'random_value': 0.07490937527978803}\n",
      "Accepted False\n",
      "0\n",
      "{}\n",
      "ForwardShootMover\n",
      "[<openpathsampling.ensemble.TISEnsemble object at 0x10fb81110>]\n",
      "[<Sample @ 0x10f9ff5d0>] [[<openpathsampling.ensemble.TISEnsemble object at 0x10fb81110>]]\n",
      "0.129495145139 0.347826086957\n",
      "{'total_acceptance': 0.34782608695652173, 'random_value': 0.1294951451385955}\n",
      "Accepted True\n",
      "{}\n",
      "{}\n",
      "1\n",
      "{}\n",
      "BackwardShootMover\n",
      "[<openpathsampling.ensemble.TISEnsemble object at 0x10fb81510>]\n",
      "[<Sample @ 0x10f892d50>] [[<openpathsampling.ensemble.TISEnsemble object at 0x10fb81510>]]\n",
      "0.351304623634 1.64285714286\n",
      "{'total_acceptance': 1.6428571428571428, 'random_value': 0.3513046236342835}\n",
      "Accepted True\n",
      "{}\n",
      "1\n",
      "{}\n",
      "ForwardShootMover\n",
      "[<openpathsampling.ensemble.TISEnsemble object at 0x10fb81510>]\n",
      "[<Sample @ 0x10f8e3450>] [[<openpathsampling.ensemble.TISEnsemble object at 0x10fb81510>]]\n",
      "0.166183335033 0.368421052632\n",
      "{'total_acceptance': 0.3684210526315789, 'random_value': 0.16618333503334592}\n",
      "Accepted True\n",
      "{}\n",
      "1\n",
      "{}\n",
      "ForwardShootMover\n",
      "[<openpathsampling.ensemble.TISEnsemble object at 0x10fb81510>]\n",
      "[<Sample @ 0x10f844a90>] [[<openpathsampling.ensemble.TISEnsemble object at 0x10fb81510>]]\n",
      "0.500846771359 1.05555555556\n",
      "{'total_acceptance': 1.0555555555555556, 'random_value': 0.5008467713585809}\n",
      "Accepted True\n",
      "{}\n",
      "1\n",
      "{}\n",
      "ForwardShootMover\n",
      "[<openpathsampling.ensemble.TISEnsemble object at 0x10fb81510>]\n",
      "[<Sample @ 0x10f844dd0>] [[<openpathsampling.ensemble.TISEnsemble object at 0x10fb81510>]]\n",
      "0.871111950921 1.89473684211\n",
      "{'total_acceptance': 1.894736842105263, 'random_value': 0.8711119509205927}\n",
      "Accepted True\n",
      "{}\n",
      "1\n",
      "{}\n",
      "BackwardShootMover\n",
      "[<openpathsampling.ensemble.TISEnsemble object at 0x10fb81510>]\n",
      "[<Sample @ 0x10f858a50>] [[<openpathsampling.ensemble.TISEnsemble object at 0x10fb81510>]]\n",
      "0.594391911818 1.11764705882\n",
      "{'total_acceptance': 1.1176470588235294, 'random_value': 0.5943919118182862}\n",
      "Accepted True\n",
      "{}\n",
      "1\n",
      "{}\n",
      "BackwardShootMover\n",
      "[<openpathsampling.ensemble.TISEnsemble object at 0x10fb81510>]\n",
      "[<Sample @ 0x10f858f10>] [[<openpathsampling.ensemble.TISEnsemble object at 0x10fb81510>]]\n",
      "0.516001238498 0.894736842105\n",
      "{'total_acceptance': 0.8947368421052632, 'random_value': 0.5160012384983094}\n",
      "Accepted True\n",
      "{}\n",
      "1\n",
      "{}\n",
      "BackwardShootMover\n",
      "[<openpathsampling.ensemble.TISEnsemble object at 0x10fb81510>]\n",
      "[<Sample @ 0x110173690>] [[<openpathsampling.ensemble.TISEnsemble object at 0x10fb81510>]]\n",
      "0.404764364445 1.0\n",
      "{'total_acceptance': 1.0, 'random_value': 0.40476436444466457}\n",
      "Accepted True\n",
      "{}\n",
      "1\n",
      "{}\n",
      "BackwardShootMover\n",
      "[<openpathsampling.ensemble.TISEnsemble object at 0x10fb81510>]\n",
      "[<Sample @ 0x110173e50>] [[<openpathsampling.ensemble.TISEnsemble object at 0x10fb81510>]]\n",
      "0.560855704761 1.0\n",
      "{'total_acceptance': 1.0, 'random_value': 0.5608557047613795}\n",
      "Accepted True\n",
      "{}\n",
      "1\n",
      "{}\n",
      "BackwardShootMover\n",
      "[<openpathsampling.ensemble.TISEnsemble object at 0x10fb81510>]\n",
      "[<Sample @ 0x110182690>] [[<openpathsampling.ensemble.TISEnsemble object at 0x10fb81510>]]\n",
      "0.682683365821 1.0\n",
      "{'total_acceptance': 1.0, 'random_value': 0.6826833658208185}\n",
      "Accepted True\n",
      "{}\n",
      "1\n"
     ]
    }
   ],
   "source": [
    "bootstrap.run(50)"
   ]
  },
  {
   "cell_type": "markdown",
   "metadata": {},
   "source": [
    "Save all computed phi/psi values which depends on whether they have been needed before"
   ]
  },
  {
   "cell_type": "code",
   "execution_count": 26,
   "metadata": {
    "collapsed": true
   },
   "outputs": [],
   "source": [
    "storage.collectivevariables.sync(psi);\n",
    "storage.collectivevariables.sync(phi);"
   ]
  },
  {
   "cell_type": "markdown",
   "metadata": {},
   "source": [
    "Create an collectivevariable from a volume which is just 1 or 0 and can thus be stored for later analysis"
   ]
  },
  {
   "cell_type": "code",
   "execution_count": 27,
   "metadata": {
    "collapsed": true
   },
   "outputs": [],
   "source": [
    "op_inA = CV_Volume('StateA', stateA)\n",
    "op_inA.uid = 'StateA'\n",
    "op_inB = CV_Volume('StateB', stateB)\n",
    "op_inB.uid = 'StateB'\n",
    "op_notinAorB = CV_Volume('StateX', ~ (stateA | stateB))\n",
    "op_notinAorB.uid = 'StateX'"
   ]
  },
  {
   "cell_type": "markdown",
   "metadata": {},
   "source": [
    "Compute the collectivevariable for all snapshots"
   ]
  },
  {
   "cell_type": "code",
   "execution_count": 28,
   "metadata": {
    "collapsed": false
   },
   "outputs": [],
   "source": [
    "#op_inA(storage.snapshots)\n",
    "#op_inB(storage.snapshots)\n",
    "#op_notinAorB(storage.snapshots);"
   ]
  },
  {
   "cell_type": "markdown",
   "metadata": {},
   "source": [
    "Save the new collectivevariables"
   ]
  },
  {
   "cell_type": "code",
   "execution_count": 29,
   "metadata": {
    "collapsed": true
   },
   "outputs": [],
   "source": [
    "storage.save([op_inA, op_inB, op_notinAorB]);\n",
    "storage.cvs.sync()\n",
    "storage.sync()"
   ]
  },
  {
   "cell_type": "code",
   "execution_count": 30,
   "metadata": {
    "collapsed": true
   },
   "outputs": [],
   "source": [
    "storage.close()"
   ]
  },
  {
   "cell_type": "code",
   "execution_count": 1,
   "metadata": {
    "collapsed": true
   },
   "outputs": [],
   "source": [
    "import openpathsampling as paths\n",
    "from openpathsampling.visualize import PathTreeBuilder\n",
    "from IPython.display import SVG\n",
    "import mdtraj"
   ]
  },
  {
   "cell_type": "code",
   "execution_count": 2,
   "metadata": {
    "collapsed": false
   },
   "outputs": [],
   "source": [
    "storage = paths.storage.Storage('trajectory.nc', mode='r')"
   ]
  },
  {
   "cell_type": "markdown",
   "metadata": {},
   "source": [
    "## Visualization"
   ]
  },
  {
   "cell_type": "markdown",
   "metadata": {},
   "source": [
    "Create a PathTree generator"
   ]
  },
  {
   "cell_type": "code",
   "execution_count": 3,
   "metadata": {
    "collapsed": false
   },
   "outputs": [],
   "source": [
    "tree = PathTreeBuilder(storage)"
   ]
  },
  {
   "cell_type": "markdown",
   "metadata": {},
   "source": [
    "Change the settings to show rejected pathways, mark OrderParaemters `stateA` and `stateX`, and show the 'psi' value as text inside of the boxes"
   ]
  },
  {
   "cell_type": "code",
   "execution_count": 6,
   "metadata": {
    "collapsed": false
   },
   "outputs": [],
   "source": [
    "tree.rejected = False\n",
    "tree.states = [ ('orange',storage.cvs[2])]\n",
    "# Some ideas for collectivevariables to visualize\n",
    "tree.op = lambda snap : 'B' if snap.reversed else 'F'\n",
    "tree.op = lambda snap : int(psi(snap)[0]/3.1415926 * 180)\n",
    "tree.op = lambda snap : snap.configuration.idx[storage]\n",
    "samps = tree.construct_heritage(storage.samples[len(storage.samples) - 1])\n",
    "tree.from_samples(samps)\n",
    "#for sset in storage.samplesets:\n",
    "#    print sset.movepath\n",
    "    \n",
    "#for s in samps:\n",
    "#    print (s, s.ensemble.idx[storage], s.replica, len(tree.construct_heritage(s)), s.mover.__class__.__name__)"
   ]
  },
  {
   "cell_type": "markdown",
   "metadata": {},
   "source": [
    "Render the tree"
   ]
  },
  {
   "cell_type": "code",
   "execution_count": 7,
   "metadata": {
    "collapsed": false
   },
   "outputs": [
    {
     "data": {
      "image/svg+xml": [
       "<svg baseProfile=\"full\" height=\"1108.8px\" version=\"1.1\" width=\"1452.0px\" xmlns=\"http://www.w3.org/2000/svg\" xmlns:ev=\"http://www.w3.org/2001/xml-events\" xmlns:xlink=\"http://www.w3.org/1999/xlink\"><defs/><rect fill=\"orange\" height=\"2.64\" stroke=\"orange\" stroke-width=\"1.32\" width=\"26.4\" x=\"369.6\" y=\"1091.64\"/><rect fill=\"orange\" height=\"2.64\" stroke=\"orange\" stroke-width=\"1.32\" width=\"26.4\" x=\"369.6\" y=\"1065.24\"/><rect fill=\"orange\" height=\"2.64\" stroke=\"orange\" stroke-width=\"1.32\" width=\"26.4\" x=\"369.6\" y=\"1038.84\"/><rect fill=\"orange\" height=\"2.64\" stroke=\"orange\" stroke-width=\"1.32\" width=\"26.4\" x=\"369.6\" y=\"1012.44\"/><rect fill=\"orange\" height=\"2.64\" stroke=\"orange\" stroke-width=\"1.32\" width=\"26.4\" x=\"422.4\" y=\"986.04\"/><rect fill=\"orange\" height=\"2.64\" stroke=\"orange\" stroke-width=\"1.32\" width=\"26.4\" x=\"897.6\" y=\"959.64\"/><rect fill=\"orange\" height=\"2.64\" stroke=\"orange\" stroke-width=\"1.32\" width=\"26.4\" x=\"1346.4\" y=\"933.24\"/><rect fill=\"orange\" height=\"2.64\" stroke=\"orange\" stroke-width=\"1.32\" width=\"26.4\" x=\"1399.2\" y=\"906.84\"/><rect fill=\"orange\" height=\"2.64\" stroke=\"orange\" stroke-width=\"1.32\" width=\"26.4\" x=\"369.6\" y=\"880.44\"/><rect fill=\"orange\" height=\"2.64\" stroke=\"orange\" stroke-width=\"1.32\" width=\"26.4\" x=\"765.6\" y=\"854.04\"/><rect fill=\"orange\" height=\"2.64\" stroke=\"orange\" stroke-width=\"1.32\" width=\"26.4\" x=\"369.6\" y=\"827.64\"/><rect fill=\"orange\" height=\"2.64\" stroke=\"orange\" stroke-width=\"1.32\" width=\"26.4\" x=\"343.2\" y=\"801.24\"/><rect fill=\"orange\" height=\"2.64\" stroke=\"orange\" stroke-width=\"1.32\" width=\"26.4\" x=\"132.0\" y=\"774.84\"/><rect fill=\"orange\" height=\"2.64\" stroke=\"orange\" stroke-width=\"1.32\" width=\"26.4\" x=\"343.2\" y=\"748.44\"/><rect fill=\"orange\" height=\"2.64\" stroke=\"orange\" stroke-width=\"1.32\" width=\"26.4\" x=\"132.0\" y=\"722.04\"/><rect fill=\"orange\" height=\"2.64\" stroke=\"orange\" stroke-width=\"1.32\" width=\"26.4\" x=\"132.0\" y=\"695.64\"/><rect fill=\"orange\" height=\"2.64\" stroke=\"orange\" stroke-width=\"1.32\" width=\"26.4\" x=\"343.2\" y=\"669.24\"/><rect fill=\"orange\" height=\"2.64\" stroke=\"orange\" stroke-width=\"1.32\" width=\"26.4\" x=\"369.6\" y=\"642.84\"/><rect fill=\"orange\" height=\"2.64\" stroke=\"orange\" stroke-width=\"1.32\" width=\"26.4\" x=\"132.0\" y=\"616.44\"/><rect fill=\"orange\" height=\"2.64\" stroke=\"orange\" stroke-width=\"1.32\" width=\"26.4\" x=\"132.0\" y=\"590.04\"/><rect fill=\"orange\" height=\"2.64\" stroke=\"orange\" stroke-width=\"1.32\" width=\"26.4\" x=\"132.0\" y=\"563.64\"/><rect fill=\"orange\" height=\"2.64\" stroke=\"orange\" stroke-width=\"1.32\" width=\"26.4\" x=\"343.2\" y=\"537.24\"/><rect fill=\"orange\" height=\"2.64\" stroke=\"orange\" stroke-width=\"1.32\" width=\"26.4\" x=\"343.2\" y=\"510.84\"/><rect fill=\"orange\" height=\"2.64\" stroke=\"orange\" stroke-width=\"1.32\" width=\"26.4\" x=\"343.2\" y=\"484.44\"/><rect fill=\"orange\" height=\"2.64\" stroke=\"orange\" stroke-width=\"1.32\" width=\"26.4\" x=\"132.0\" y=\"458.04\"/><rect fill=\"orange\" height=\"2.64\" stroke=\"orange\" stroke-width=\"1.32\" width=\"26.4\" x=\"343.2\" y=\"431.64\"/><rect fill=\"orange\" height=\"2.64\" stroke=\"orange\" stroke-width=\"1.32\" width=\"26.4\" x=\"132.0\" y=\"405.24\"/><rect fill=\"orange\" height=\"2.64\" stroke=\"orange\" stroke-width=\"1.32\" width=\"26.4\" x=\"132.0\" y=\"378.84\"/><rect fill=\"orange\" height=\"2.64\" stroke=\"orange\" stroke-width=\"1.32\" width=\"26.4\" x=\"132.0\" y=\"352.44\"/><rect fill=\"orange\" height=\"2.64\" stroke=\"orange\" stroke-width=\"1.32\" width=\"26.4\" x=\"343.2\" y=\"326.04\"/><rect fill=\"orange\" height=\"2.64\" stroke=\"orange\" stroke-width=\"1.32\" width=\"26.4\" x=\"343.2\" y=\"299.64\"/><rect fill=\"orange\" height=\"2.64\" stroke=\"orange\" stroke-width=\"1.32\" width=\"26.4\" x=\"343.2\" y=\"273.24\"/><rect fill=\"orange\" height=\"2.64\" stroke=\"orange\" stroke-width=\"1.32\" width=\"26.4\" x=\"343.2\" y=\"246.84\"/><rect fill=\"orange\" height=\"2.64\" stroke=\"orange\" stroke-width=\"1.32\" width=\"26.4\" x=\"132.0\" y=\"220.44\"/><rect fill=\"orange\" height=\"2.64\" stroke=\"orange\" stroke-width=\"1.32\" width=\"26.4\" x=\"290.4\" y=\"194.04\"/><rect fill=\"orange\" height=\"2.64\" stroke=\"orange\" stroke-width=\"1.32\" width=\"26.4\" x=\"79.2\" y=\"167.64\"/><rect fill=\"orange\" height=\"2.64\" stroke=\"orange\" stroke-width=\"1.32\" width=\"26.4\" x=\"79.2\" y=\"141.24\"/><rect fill=\"orange\" height=\"2.64\" stroke=\"orange\" stroke-width=\"1.32\" width=\"26.4\" x=\"237.6\" y=\"114.84\"/><rect fill=\"orange\" height=\"2.64\" stroke=\"orange\" stroke-width=\"1.32\" width=\"26.4\" x=\"26.4\" y=\"88.44\"/><rect fill=\"orange\" height=\"2.64\" stroke=\"orange\" stroke-width=\"1.32\" width=\"26.4\" x=\"237.6\" y=\"62.04\"/><rect fill=\"orange\" height=\"2.64\" stroke=\"orange\" stroke-width=\"1.32\" width=\"26.4\" x=\"237.6\" y=\"35.64\"/><rect fill=\"orange\" height=\"2.64\" stroke=\"orange\" stroke-width=\"1.32\" width=\"26.4\" x=\"26.4\" y=\"35.64\"/><text alignment-baseline=\"middle\" fill=\"black\" font-family=\"Futura\" font-size=\"9.24\" text-anchor=\"end\" x=\"21.12\" y=\"27.72\">4b</text><rect fill=\"black\" height=\"15.84\" width=\"23.76\" x=\"27.72\" y=\"18.48\"/><circle cx=\"52.8\" cy=\"26.4\" fill=\"black\" r=\"1.32\" stroke=\"black\" stroke-width=\"0\"/><text alignment-baseline=\"middle\" fill=\"white\" font-family=\"Futura\" font-size=\"9.24\" text-anchor=\"middle\" x=\"39.6\" y=\"27.72\">73</text><rect fill=\"black\" height=\"15.84\" width=\"23.76\" x=\"54.12\" y=\"18.48\"/><circle cx=\"52.8\" cy=\"26.4\" fill=\"black\" r=\"1.32\" stroke=\"black\" stroke-width=\"0\"/><circle cx=\"79.2\" cy=\"26.4\" fill=\"black\" r=\"1.32\" stroke=\"black\" stroke-width=\"0\"/><text alignment-baseline=\"middle\" fill=\"white\" font-family=\"Futura\" font-size=\"9.24\" text-anchor=\"middle\" x=\"66.0\" y=\"27.72\">74</text><rect fill=\"black\" height=\"15.84\" width=\"23.76\" x=\"80.52\" y=\"18.48\"/><circle cx=\"79.2\" cy=\"26.4\" fill=\"black\" r=\"1.32\" stroke=\"black\" stroke-width=\"0\"/><circle cx=\"105.6\" cy=\"26.4\" fill=\"black\" r=\"1.32\" stroke=\"black\" stroke-width=\"0\"/><text alignment-baseline=\"middle\" fill=\"white\" font-family=\"Futura\" font-size=\"9.24\" text-anchor=\"middle\" x=\"92.4\" y=\"27.72\">120</text><rect fill=\"black\" height=\"15.84\" width=\"23.76\" x=\"106.92\" y=\"18.48\"/><circle cx=\"105.6\" cy=\"26.4\" fill=\"black\" r=\"1.32\" stroke=\"black\" stroke-width=\"0\"/><circle cx=\"132.0\" cy=\"26.4\" fill=\"black\" r=\"1.32\" stroke=\"black\" stroke-width=\"0\"/><text alignment-baseline=\"middle\" fill=\"white\" font-family=\"Futura\" font-size=\"9.24\" text-anchor=\"middle\" x=\"118.8\" y=\"27.72\">121</text><rect fill=\"black\" height=\"15.84\" width=\"23.76\" x=\"133.32\" y=\"18.48\"/><circle cx=\"132.0\" cy=\"26.4\" fill=\"black\" r=\"1.32\" stroke=\"black\" stroke-width=\"0\"/><circle cx=\"158.4\" cy=\"26.4\" fill=\"black\" r=\"1.32\" stroke=\"black\" stroke-width=\"0\"/><text alignment-baseline=\"middle\" fill=\"white\" font-family=\"Futura\" font-size=\"9.24\" text-anchor=\"middle\" x=\"145.2\" y=\"27.72\">122</text><rect fill=\"black\" height=\"15.84\" width=\"23.76\" x=\"159.72\" y=\"18.48\"/><circle cx=\"158.4\" cy=\"26.4\" fill=\"black\" r=\"1.32\" stroke=\"black\" stroke-width=\"0\"/><circle cx=\"184.8\" cy=\"26.4\" fill=\"black\" r=\"1.32\" stroke=\"black\" stroke-width=\"0\"/><text alignment-baseline=\"middle\" fill=\"white\" font-family=\"Futura\" font-size=\"9.24\" text-anchor=\"middle\" x=\"171.6\" y=\"27.72\">123</text><rect fill=\"black\" height=\"15.84\" width=\"23.76\" x=\"186.12\" y=\"18.48\"/><circle cx=\"184.8\" cy=\"26.4\" fill=\"black\" r=\"1.32\" stroke=\"black\" stroke-width=\"0\"/><circle cx=\"211.2\" cy=\"26.4\" fill=\"black\" r=\"1.32\" stroke=\"black\" stroke-width=\"0\"/><text alignment-baseline=\"middle\" fill=\"white\" font-family=\"Futura\" font-size=\"9.24\" text-anchor=\"middle\" x=\"198.0\" y=\"27.72\">124</text><rect fill=\"black\" height=\"15.84\" width=\"23.76\" x=\"212.52\" y=\"18.48\"/><circle cx=\"211.2\" cy=\"26.4\" fill=\"black\" r=\"1.32\" stroke=\"black\" stroke-width=\"0\"/><circle cx=\"237.6\" cy=\"26.4\" fill=\"black\" r=\"1.32\" stroke=\"black\" stroke-width=\"0\"/><text alignment-baseline=\"middle\" fill=\"white\" font-family=\"Futura\" font-size=\"9.24\" text-anchor=\"middle\" x=\"224.4\" y=\"27.72\">125</text><rect fill=\"black\" height=\"15.84\" width=\"23.76\" x=\"238.92\" y=\"18.48\"/><circle cx=\"237.6\" cy=\"26.4\" fill=\"black\" r=\"1.32\" stroke=\"black\" stroke-width=\"0\"/><text alignment-baseline=\"middle\" fill=\"white\" font-family=\"Futura\" font-size=\"9.24\" text-anchor=\"middle\" x=\"250.8\" y=\"27.72\">126</text><line stroke=\"red\" stroke-width=\"1.32\" x1=\"184.8\" x2=\"184.8\" y1=\"27.72\" y2=\"51.48\"/><text alignment-baseline=\"middle\" fill=\"black\" font-family=\"Futura\" font-size=\"9.24\" text-anchor=\"start\" x=\"269.28\" y=\"54.12\">5f</text><rect fill=\"red\" height=\"15.84\" width=\"23.76\" x=\"186.12\" y=\"44.88\"/><circle cx=\"184.8\" cy=\"52.8\" fill=\"red\" r=\"1.32\" stroke=\"red\" stroke-width=\"0\"/><circle cx=\"211.2\" cy=\"52.8\" fill=\"red\" r=\"1.32\" stroke=\"red\" stroke-width=\"0\"/><text alignment-baseline=\"middle\" fill=\"white\" font-family=\"Futura\" font-size=\"9.24\" text-anchor=\"middle\" x=\"198.0\" y=\"54.12\">124</text><rect fill=\"red\" height=\"15.84\" width=\"23.76\" x=\"212.52\" y=\"44.88\"/><circle cx=\"211.2\" cy=\"52.8\" fill=\"red\" r=\"1.32\" stroke=\"red\" stroke-width=\"0\"/><circle cx=\"237.6\" cy=\"52.8\" fill=\"red\" r=\"1.32\" stroke=\"red\" stroke-width=\"0\"/><text alignment-baseline=\"middle\" fill=\"white\" font-family=\"Futura\" font-size=\"9.24\" text-anchor=\"middle\" x=\"224.4\" y=\"54.12\">127</text><rect fill=\"red\" height=\"15.84\" width=\"23.76\" x=\"238.92\" y=\"44.88\"/><circle cx=\"237.6\" cy=\"52.8\" fill=\"red\" r=\"1.32\" stroke=\"red\" stroke-width=\"0\"/><text alignment-baseline=\"middle\" fill=\"white\" font-family=\"Futura\" font-size=\"9.24\" text-anchor=\"middle\" x=\"250.8\" y=\"54.12\">128</text><line stroke=\"green\" stroke-width=\"1.32\" x1=\"211.2\" x2=\"211.2\" y1=\"54.12\" y2=\"77.88\"/><text alignment-baseline=\"middle\" fill=\"black\" font-family=\"Futura\" font-size=\"9.24\" text-anchor=\"end\" x=\"21.12\" y=\"80.52\">6b</text><rect fill=\"green\" height=\"15.84\" width=\"23.76\" x=\"27.72\" y=\"71.28\"/><circle cx=\"52.8\" cy=\"79.2\" fill=\"green\" r=\"1.32\" stroke=\"green\" stroke-width=\"0\"/><text alignment-baseline=\"middle\" fill=\"white\" font-family=\"Futura\" font-size=\"9.24\" text-anchor=\"middle\" x=\"39.6\" y=\"80.52\">129</text><rect fill=\"green\" height=\"15.84\" width=\"23.76\" x=\"54.12\" y=\"71.28\"/><circle cx=\"52.8\" cy=\"79.2\" fill=\"green\" r=\"1.32\" stroke=\"green\" stroke-width=\"0\"/><circle cx=\"79.2\" cy=\"79.2\" fill=\"green\" r=\"1.32\" stroke=\"green\" stroke-width=\"0\"/><text alignment-baseline=\"middle\" fill=\"white\" font-family=\"Futura\" font-size=\"9.24\" text-anchor=\"middle\" x=\"66.0\" y=\"80.52\">130</text><rect fill=\"green\" height=\"15.84\" width=\"23.76\" x=\"80.52\" y=\"71.28\"/><circle cx=\"79.2\" cy=\"79.2\" fill=\"green\" r=\"1.32\" stroke=\"green\" stroke-width=\"0\"/><circle cx=\"105.6\" cy=\"79.2\" fill=\"green\" r=\"1.32\" stroke=\"green\" stroke-width=\"0\"/><text alignment-baseline=\"middle\" fill=\"white\" font-family=\"Futura\" font-size=\"9.24\" text-anchor=\"middle\" x=\"92.4\" y=\"80.52\">131</text><rect fill=\"green\" height=\"15.84\" width=\"23.76\" x=\"106.92\" y=\"71.28\"/><circle cx=\"105.6\" cy=\"79.2\" fill=\"green\" r=\"1.32\" stroke=\"green\" stroke-width=\"0\"/><circle cx=\"132.0\" cy=\"79.2\" fill=\"green\" r=\"1.32\" stroke=\"green\" stroke-width=\"0\"/><text alignment-baseline=\"middle\" fill=\"white\" font-family=\"Futura\" font-size=\"9.24\" text-anchor=\"middle\" x=\"118.8\" y=\"80.52\">132</text><rect fill=\"green\" height=\"15.84\" width=\"23.76\" x=\"133.32\" y=\"71.28\"/><circle cx=\"132.0\" cy=\"79.2\" fill=\"green\" r=\"1.32\" stroke=\"green\" stroke-width=\"0\"/><circle cx=\"158.4\" cy=\"79.2\" fill=\"green\" r=\"1.32\" stroke=\"green\" stroke-width=\"0\"/><text alignment-baseline=\"middle\" fill=\"white\" font-family=\"Futura\" font-size=\"9.24\" text-anchor=\"middle\" x=\"145.2\" y=\"80.52\">133</text><rect fill=\"green\" height=\"15.84\" width=\"23.76\" x=\"159.72\" y=\"71.28\"/><circle cx=\"158.4\" cy=\"79.2\" fill=\"green\" r=\"1.32\" stroke=\"green\" stroke-width=\"0\"/><circle cx=\"184.8\" cy=\"79.2\" fill=\"green\" r=\"1.32\" stroke=\"green\" stroke-width=\"0\"/><text alignment-baseline=\"middle\" fill=\"white\" font-family=\"Futura\" font-size=\"9.24\" text-anchor=\"middle\" x=\"171.6\" y=\"80.52\">134</text><rect fill=\"green\" height=\"15.84\" width=\"23.76\" x=\"186.12\" y=\"71.28\"/><circle cx=\"184.8\" cy=\"79.2\" fill=\"green\" r=\"1.32\" stroke=\"green\" stroke-width=\"0\"/><circle cx=\"211.2\" cy=\"79.2\" fill=\"green\" r=\"1.32\" stroke=\"green\" stroke-width=\"0\"/><text alignment-baseline=\"middle\" fill=\"white\" font-family=\"Futura\" font-size=\"9.24\" text-anchor=\"middle\" x=\"198.0\" y=\"80.52\">124</text><line stroke=\"red\" stroke-width=\"1.32\" x1=\"211.2\" x2=\"211.2\" y1=\"54.12\" y2=\"104.28\"/><text alignment-baseline=\"middle\" fill=\"black\" font-family=\"Futura\" font-size=\"9.24\" text-anchor=\"start\" x=\"269.28\" y=\"106.92\">7f</text><rect fill=\"red\" height=\"15.84\" width=\"23.76\" x=\"212.52\" y=\"97.68\"/><circle cx=\"211.2\" cy=\"105.6\" fill=\"red\" r=\"1.32\" stroke=\"red\" stroke-width=\"0\"/><circle cx=\"237.6\" cy=\"105.6\" fill=\"red\" r=\"1.32\" stroke=\"red\" stroke-width=\"0\"/><text alignment-baseline=\"middle\" fill=\"white\" font-family=\"Futura\" font-size=\"9.24\" text-anchor=\"middle\" x=\"224.4\" y=\"106.92\">127</text><rect fill=\"red\" height=\"15.84\" width=\"23.76\" x=\"238.92\" y=\"97.68\"/><circle cx=\"237.6\" cy=\"105.6\" fill=\"red\" r=\"1.32\" stroke=\"red\" stroke-width=\"0\"/><text alignment-baseline=\"middle\" fill=\"white\" font-family=\"Futura\" font-size=\"9.24\" text-anchor=\"middle\" x=\"250.8\" y=\"106.92\">135</text><line stroke=\"green\" stroke-width=\"1.32\" x1=\"132.0\" x2=\"132.0\" y1=\"80.52\" y2=\"130.68\"/><text alignment-baseline=\"middle\" fill=\"black\" font-family=\"Futura\" font-size=\"9.24\" text-anchor=\"end\" x=\"73.92\" y=\"133.32\">8b</text><rect fill=\"green\" height=\"15.84\" width=\"23.76\" x=\"80.52\" y=\"124.08\"/><circle cx=\"105.6\" cy=\"132.0\" fill=\"green\" r=\"1.32\" stroke=\"green\" stroke-width=\"0\"/><text alignment-baseline=\"middle\" fill=\"white\" font-family=\"Futura\" font-size=\"9.24\" text-anchor=\"middle\" x=\"92.4\" y=\"133.32\">136</text><rect fill=\"green\" height=\"15.84\" width=\"23.76\" x=\"106.92\" y=\"124.08\"/><circle cx=\"105.6\" cy=\"132.0\" fill=\"green\" r=\"1.32\" stroke=\"green\" stroke-width=\"0\"/><circle cx=\"132.0\" cy=\"132.0\" fill=\"green\" r=\"1.32\" stroke=\"green\" stroke-width=\"0\"/><text alignment-baseline=\"middle\" fill=\"white\" font-family=\"Futura\" font-size=\"9.24\" text-anchor=\"middle\" x=\"118.8\" y=\"133.32\">132</text><line stroke=\"green\" stroke-width=\"1.32\" x1=\"158.4\" x2=\"158.4\" y1=\"80.52\" y2=\"157.08\"/><text alignment-baseline=\"middle\" fill=\"black\" font-family=\"Futura\" font-size=\"9.24\" text-anchor=\"end\" x=\"73.92\" y=\"159.72\">10b</text><rect fill=\"green\" height=\"15.84\" width=\"23.76\" x=\"80.52\" y=\"150.48\"/><circle cx=\"105.6\" cy=\"158.4\" fill=\"green\" r=\"1.32\" stroke=\"green\" stroke-width=\"0\"/><text alignment-baseline=\"middle\" fill=\"white\" font-family=\"Futura\" font-size=\"9.24\" text-anchor=\"middle\" x=\"92.4\" y=\"159.72\">139</text><rect fill=\"green\" height=\"15.84\" width=\"23.76\" x=\"106.92\" y=\"150.48\"/><circle cx=\"105.6\" cy=\"158.4\" fill=\"green\" r=\"1.32\" stroke=\"green\" stroke-width=\"0\"/><circle cx=\"132.0\" cy=\"158.4\" fill=\"green\" r=\"1.32\" stroke=\"green\" stroke-width=\"0\"/><text alignment-baseline=\"middle\" fill=\"white\" font-family=\"Futura\" font-size=\"9.24\" text-anchor=\"middle\" x=\"118.8\" y=\"159.72\">140</text><rect fill=\"green\" height=\"15.84\" width=\"23.76\" x=\"133.32\" y=\"150.48\"/><circle cx=\"132.0\" cy=\"158.4\" fill=\"green\" r=\"1.32\" stroke=\"green\" stroke-width=\"0\"/><circle cx=\"158.4\" cy=\"158.4\" fill=\"green\" r=\"1.32\" stroke=\"green\" stroke-width=\"0\"/><text alignment-baseline=\"middle\" fill=\"white\" font-family=\"Futura\" font-size=\"9.24\" text-anchor=\"middle\" x=\"145.2\" y=\"159.72\">133</text><line stroke=\"red\" stroke-width=\"1.32\" x1=\"184.8\" x2=\"184.8\" y1=\"80.52\" y2=\"183.48\"/><text alignment-baseline=\"middle\" fill=\"black\" font-family=\"Futura\" font-size=\"9.24\" text-anchor=\"start\" x=\"322.08\" y=\"186.12\">11f</text><rect fill=\"red\" height=\"15.84\" width=\"23.76\" x=\"186.12\" y=\"176.88\"/><circle cx=\"184.8\" cy=\"184.8\" fill=\"red\" r=\"1.32\" stroke=\"red\" stroke-width=\"0\"/><circle cx=\"211.2\" cy=\"184.8\" fill=\"red\" r=\"1.32\" stroke=\"red\" stroke-width=\"0\"/><text alignment-baseline=\"middle\" fill=\"white\" font-family=\"Futura\" font-size=\"9.24\" text-anchor=\"middle\" x=\"198.0\" y=\"186.12\">124</text><rect fill=\"red\" height=\"15.84\" width=\"23.76\" x=\"212.52\" y=\"176.88\"/><circle cx=\"211.2\" cy=\"184.8\" fill=\"red\" r=\"1.32\" stroke=\"red\" stroke-width=\"0\"/><circle cx=\"237.6\" cy=\"184.8\" fill=\"red\" r=\"1.32\" stroke=\"red\" stroke-width=\"0\"/><text alignment-baseline=\"middle\" fill=\"white\" font-family=\"Futura\" font-size=\"9.24\" text-anchor=\"middle\" x=\"224.4\" y=\"186.12\">141</text><rect fill=\"red\" height=\"15.84\" width=\"23.76\" x=\"238.92\" y=\"176.88\"/><circle cx=\"237.6\" cy=\"184.8\" fill=\"red\" r=\"1.32\" stroke=\"red\" stroke-width=\"0\"/><circle cx=\"264.0\" cy=\"184.8\" fill=\"red\" r=\"1.32\" stroke=\"red\" stroke-width=\"0\"/><text alignment-baseline=\"middle\" fill=\"white\" font-family=\"Futura\" font-size=\"9.24\" text-anchor=\"middle\" x=\"250.8\" y=\"186.12\">142</text><rect fill=\"red\" height=\"15.84\" width=\"23.76\" x=\"265.32\" y=\"176.88\"/><circle cx=\"264.0\" cy=\"184.8\" fill=\"red\" r=\"1.32\" stroke=\"red\" stroke-width=\"0\"/><circle cx=\"290.4\" cy=\"184.8\" fill=\"red\" r=\"1.32\" stroke=\"red\" stroke-width=\"0\"/><text alignment-baseline=\"middle\" fill=\"white\" font-family=\"Futura\" font-size=\"9.24\" text-anchor=\"middle\" x=\"277.2\" y=\"186.12\">143</text><rect fill=\"red\" height=\"15.84\" width=\"23.76\" x=\"291.72\" y=\"176.88\"/><circle cx=\"290.4\" cy=\"184.8\" fill=\"red\" r=\"1.32\" stroke=\"red\" stroke-width=\"0\"/><text alignment-baseline=\"middle\" fill=\"white\" font-family=\"Futura\" font-size=\"9.24\" text-anchor=\"middle\" x=\"303.6\" y=\"186.12\">144</text><line stroke=\"green\" stroke-width=\"1.32\" x1=\"211.2\" x2=\"211.2\" y1=\"186.12\" y2=\"209.88\"/><text alignment-baseline=\"middle\" fill=\"black\" font-family=\"Futura\" font-size=\"9.24\" text-anchor=\"end\" x=\"126.72\" y=\"212.52\">13b</text><rect fill=\"green\" height=\"15.84\" width=\"23.76\" x=\"133.32\" y=\"203.28\"/><circle cx=\"158.4\" cy=\"211.2\" fill=\"green\" r=\"1.32\" stroke=\"green\" stroke-width=\"0\"/><text alignment-baseline=\"middle\" fill=\"white\" font-family=\"Futura\" font-size=\"9.24\" text-anchor=\"middle\" x=\"145.2\" y=\"212.52\">167</text><rect fill=\"green\" height=\"15.84\" width=\"23.76\" x=\"159.72\" y=\"203.28\"/><circle cx=\"158.4\" cy=\"211.2\" fill=\"green\" r=\"1.32\" stroke=\"green\" stroke-width=\"0\"/><circle cx=\"184.8\" cy=\"211.2\" fill=\"green\" r=\"1.32\" stroke=\"green\" stroke-width=\"0\"/><text alignment-baseline=\"middle\" fill=\"white\" font-family=\"Futura\" font-size=\"9.24\" text-anchor=\"middle\" x=\"171.6\" y=\"212.52\">168</text><rect fill=\"green\" height=\"15.84\" width=\"23.76\" x=\"186.12\" y=\"203.28\"/><circle cx=\"184.8\" cy=\"211.2\" fill=\"green\" r=\"1.32\" stroke=\"green\" stroke-width=\"0\"/><circle cx=\"211.2\" cy=\"211.2\" fill=\"green\" r=\"1.32\" stroke=\"green\" stroke-width=\"0\"/><text alignment-baseline=\"middle\" fill=\"white\" font-family=\"Futura\" font-size=\"9.24\" text-anchor=\"middle\" x=\"198.0\" y=\"212.52\">124</text><line stroke=\"red\" stroke-width=\"1.32\" x1=\"211.2\" x2=\"211.2\" y1=\"186.12\" y2=\"236.28\"/><text alignment-baseline=\"middle\" fill=\"black\" font-family=\"Futura\" font-size=\"9.24\" text-anchor=\"start\" x=\"374.88\" y=\"238.92\">16f</text><rect fill=\"red\" height=\"15.84\" width=\"23.76\" x=\"212.52\" y=\"229.68\"/><circle cx=\"211.2\" cy=\"237.6\" fill=\"red\" r=\"1.32\" stroke=\"red\" stroke-width=\"0\"/><circle cx=\"237.6\" cy=\"237.6\" fill=\"red\" r=\"1.32\" stroke=\"red\" stroke-width=\"0\"/><text alignment-baseline=\"middle\" fill=\"white\" font-family=\"Futura\" font-size=\"9.24\" text-anchor=\"middle\" x=\"224.4\" y=\"238.92\">141</text><rect fill=\"red\" height=\"15.84\" width=\"23.76\" x=\"238.92\" y=\"229.68\"/><circle cx=\"237.6\" cy=\"237.6\" fill=\"red\" r=\"1.32\" stroke=\"red\" stroke-width=\"0\"/><circle cx=\"264.0\" cy=\"237.6\" fill=\"red\" r=\"1.32\" stroke=\"red\" stroke-width=\"0\"/><text alignment-baseline=\"middle\" fill=\"white\" font-family=\"Futura\" font-size=\"9.24\" text-anchor=\"middle\" x=\"250.8\" y=\"238.92\">173</text><rect fill=\"red\" height=\"15.84\" width=\"23.76\" x=\"265.32\" y=\"229.68\"/><circle cx=\"264.0\" cy=\"237.6\" fill=\"red\" r=\"1.32\" stroke=\"red\" stroke-width=\"0\"/><circle cx=\"290.4\" cy=\"237.6\" fill=\"red\" r=\"1.32\" stroke=\"red\" stroke-width=\"0\"/><text alignment-baseline=\"middle\" fill=\"white\" font-family=\"Futura\" font-size=\"9.24\" text-anchor=\"middle\" x=\"277.2\" y=\"238.92\">174</text><rect fill=\"red\" height=\"15.84\" width=\"23.76\" x=\"291.72\" y=\"229.68\"/><circle cx=\"290.4\" cy=\"237.6\" fill=\"red\" r=\"1.32\" stroke=\"red\" stroke-width=\"0\"/><circle cx=\"316.8\" cy=\"237.6\" fill=\"red\" r=\"1.32\" stroke=\"red\" stroke-width=\"0\"/><text alignment-baseline=\"middle\" fill=\"white\" font-family=\"Futura\" font-size=\"9.24\" text-anchor=\"middle\" x=\"303.6\" y=\"238.92\">175</text><rect fill=\"red\" height=\"15.84\" width=\"23.76\" x=\"318.12\" y=\"229.68\"/><circle cx=\"316.8\" cy=\"237.6\" fill=\"red\" r=\"1.32\" stroke=\"red\" stroke-width=\"0\"/><circle cx=\"343.2\" cy=\"237.6\" fill=\"red\" r=\"1.32\" stroke=\"red\" stroke-width=\"0\"/><text alignment-baseline=\"middle\" fill=\"white\" font-family=\"Futura\" font-size=\"9.24\" text-anchor=\"middle\" x=\"330.0\" y=\"238.92\">176</text><rect fill=\"red\" height=\"15.84\" width=\"23.76\" x=\"344.52\" y=\"229.68\"/><circle cx=\"343.2\" cy=\"237.6\" fill=\"red\" r=\"1.32\" stroke=\"red\" stroke-width=\"0\"/><text alignment-baseline=\"middle\" fill=\"white\" font-family=\"Futura\" font-size=\"9.24\" text-anchor=\"middle\" x=\"356.4\" y=\"238.92\">177</text><line stroke=\"red\" stroke-width=\"1.32\" x1=\"211.2\" x2=\"211.2\" y1=\"238.92\" y2=\"262.68\"/><text alignment-baseline=\"middle\" fill=\"black\" font-family=\"Futura\" font-size=\"9.24\" text-anchor=\"start\" x=\"374.88\" y=\"265.32\">18f</text><rect fill=\"red\" height=\"15.84\" width=\"23.76\" x=\"212.52\" y=\"256.08\"/><circle cx=\"211.2\" cy=\"264.0\" fill=\"red\" r=\"1.32\" stroke=\"red\" stroke-width=\"0\"/><circle cx=\"237.6\" cy=\"264.0\" fill=\"red\" r=\"1.32\" stroke=\"red\" stroke-width=\"0\"/><text alignment-baseline=\"middle\" fill=\"white\" font-family=\"Futura\" font-size=\"9.24\" text-anchor=\"middle\" x=\"224.4\" y=\"265.32\">141</text><rect fill=\"red\" height=\"15.84\" width=\"23.76\" x=\"238.92\" y=\"256.08\"/><circle cx=\"237.6\" cy=\"264.0\" fill=\"red\" r=\"1.32\" stroke=\"red\" stroke-width=\"0\"/><circle cx=\"264.0\" cy=\"264.0\" fill=\"red\" r=\"1.32\" stroke=\"red\" stroke-width=\"0\"/><text alignment-baseline=\"middle\" fill=\"white\" font-family=\"Futura\" font-size=\"9.24\" text-anchor=\"middle\" x=\"250.8\" y=\"265.32\">179</text><rect fill=\"red\" height=\"15.84\" width=\"23.76\" x=\"265.32\" y=\"256.08\"/><circle cx=\"264.0\" cy=\"264.0\" fill=\"red\" r=\"1.32\" stroke=\"red\" stroke-width=\"0\"/><circle cx=\"290.4\" cy=\"264.0\" fill=\"red\" r=\"1.32\" stroke=\"red\" stroke-width=\"0\"/><text alignment-baseline=\"middle\" fill=\"white\" font-family=\"Futura\" font-size=\"9.24\" text-anchor=\"middle\" x=\"277.2\" y=\"265.32\">180</text><rect fill=\"red\" height=\"15.84\" width=\"23.76\" x=\"291.72\" y=\"256.08\"/><circle cx=\"290.4\" cy=\"264.0\" fill=\"red\" r=\"1.32\" stroke=\"red\" stroke-width=\"0\"/><circle cx=\"316.8\" cy=\"264.0\" fill=\"red\" r=\"1.32\" stroke=\"red\" stroke-width=\"0\"/><text alignment-baseline=\"middle\" fill=\"white\" font-family=\"Futura\" font-size=\"9.24\" text-anchor=\"middle\" x=\"303.6\" y=\"265.32\">181</text><rect fill=\"red\" height=\"15.84\" width=\"23.76\" x=\"318.12\" y=\"256.08\"/><circle cx=\"316.8\" cy=\"264.0\" fill=\"red\" r=\"1.32\" stroke=\"red\" stroke-width=\"0\"/><circle cx=\"343.2\" cy=\"264.0\" fill=\"red\" r=\"1.32\" stroke=\"red\" stroke-width=\"0\"/><text alignment-baseline=\"middle\" fill=\"white\" font-family=\"Futura\" font-size=\"9.24\" text-anchor=\"middle\" x=\"330.0\" y=\"265.32\">182</text><rect fill=\"red\" height=\"15.84\" width=\"23.76\" x=\"344.52\" y=\"256.08\"/><circle cx=\"343.2\" cy=\"264.0\" fill=\"red\" r=\"1.32\" stroke=\"red\" stroke-width=\"0\"/><text alignment-baseline=\"middle\" fill=\"white\" font-family=\"Futura\" font-size=\"9.24\" text-anchor=\"middle\" x=\"356.4\" y=\"265.32\">183</text><line stroke=\"red\" stroke-width=\"1.32\" x1=\"264.0\" x2=\"264.0\" y1=\"265.32\" y2=\"289.08\"/><text alignment-baseline=\"middle\" fill=\"black\" font-family=\"Futura\" font-size=\"9.24\" text-anchor=\"start\" x=\"374.88\" y=\"291.72\">20f</text><rect fill=\"red\" height=\"15.84\" width=\"23.76\" x=\"265.32\" y=\"282.48\"/><circle cx=\"264.0\" cy=\"290.4\" fill=\"red\" r=\"1.32\" stroke=\"red\" stroke-width=\"0\"/><circle cx=\"290.4\" cy=\"290.4\" fill=\"red\" r=\"1.32\" stroke=\"red\" stroke-width=\"0\"/><text alignment-baseline=\"middle\" fill=\"white\" font-family=\"Futura\" font-size=\"9.24\" text-anchor=\"middle\" x=\"277.2\" y=\"291.72\">180</text><rect fill=\"red\" height=\"15.84\" width=\"23.76\" x=\"291.72\" y=\"282.48\"/><circle cx=\"290.4\" cy=\"290.4\" fill=\"red\" r=\"1.32\" stroke=\"red\" stroke-width=\"0\"/><circle cx=\"316.8\" cy=\"290.4\" fill=\"red\" r=\"1.32\" stroke=\"red\" stroke-width=\"0\"/><text alignment-baseline=\"middle\" fill=\"white\" font-family=\"Futura\" font-size=\"9.24\" text-anchor=\"middle\" x=\"303.6\" y=\"291.72\">188</text><rect fill=\"red\" height=\"15.84\" width=\"23.76\" x=\"318.12\" y=\"282.48\"/><circle cx=\"316.8\" cy=\"290.4\" fill=\"red\" r=\"1.32\" stroke=\"red\" stroke-width=\"0\"/><circle cx=\"343.2\" cy=\"290.4\" fill=\"red\" r=\"1.32\" stroke=\"red\" stroke-width=\"0\"/><text alignment-baseline=\"middle\" fill=\"white\" font-family=\"Futura\" font-size=\"9.24\" text-anchor=\"middle\" x=\"330.0\" y=\"291.72\">189</text><rect fill=\"red\" height=\"15.84\" width=\"23.76\" x=\"344.52\" y=\"282.48\"/><circle cx=\"343.2\" cy=\"290.4\" fill=\"red\" r=\"1.32\" stroke=\"red\" stroke-width=\"0\"/><text alignment-baseline=\"middle\" fill=\"white\" font-family=\"Futura\" font-size=\"9.24\" text-anchor=\"middle\" x=\"356.4\" y=\"291.72\">190</text><line stroke=\"red\" stroke-width=\"1.32\" x1=\"316.8\" x2=\"316.8\" y1=\"291.72\" y2=\"315.48\"/><text alignment-baseline=\"middle\" fill=\"black\" font-family=\"Futura\" font-size=\"9.24\" text-anchor=\"start\" x=\"374.88\" y=\"318.12\">21f</text><rect fill=\"red\" height=\"15.84\" width=\"23.76\" x=\"318.12\" y=\"308.88\"/><circle cx=\"316.8\" cy=\"316.8\" fill=\"red\" r=\"1.32\" stroke=\"red\" stroke-width=\"0\"/><circle cx=\"343.2\" cy=\"316.8\" fill=\"red\" r=\"1.32\" stroke=\"red\" stroke-width=\"0\"/><text alignment-baseline=\"middle\" fill=\"white\" font-family=\"Futura\" font-size=\"9.24\" text-anchor=\"middle\" x=\"330.0\" y=\"318.12\">189</text><rect fill=\"red\" height=\"15.84\" width=\"23.76\" x=\"344.52\" y=\"308.88\"/><circle cx=\"343.2\" cy=\"316.8\" fill=\"red\" r=\"1.32\" stroke=\"red\" stroke-width=\"0\"/><text alignment-baseline=\"middle\" fill=\"white\" font-family=\"Futura\" font-size=\"9.24\" text-anchor=\"middle\" x=\"356.4\" y=\"318.12\">191</text><line stroke=\"green\" stroke-width=\"1.32\" x1=\"184.8\" x2=\"184.8\" y1=\"212.52\" y2=\"341.88\"/><text alignment-baseline=\"middle\" fill=\"black\" font-family=\"Futura\" font-size=\"9.24\" text-anchor=\"end\" x=\"126.72\" y=\"344.52\">22b</text><rect fill=\"green\" height=\"15.84\" width=\"23.76\" x=\"133.32\" y=\"335.28\"/><circle cx=\"158.4\" cy=\"343.2\" fill=\"green\" r=\"1.32\" stroke=\"green\" stroke-width=\"0\"/><text alignment-baseline=\"middle\" fill=\"white\" font-family=\"Futura\" font-size=\"9.24\" text-anchor=\"middle\" x=\"145.2\" y=\"344.52\">192</text><rect fill=\"green\" height=\"15.84\" width=\"23.76\" x=\"159.72\" y=\"335.28\"/><circle cx=\"158.4\" cy=\"343.2\" fill=\"green\" r=\"1.32\" stroke=\"green\" stroke-width=\"0\"/><circle cx=\"184.8\" cy=\"343.2\" fill=\"green\" r=\"1.32\" stroke=\"green\" stroke-width=\"0\"/><text alignment-baseline=\"middle\" fill=\"white\" font-family=\"Futura\" font-size=\"9.24\" text-anchor=\"middle\" x=\"171.6\" y=\"344.52\">168</text><line stroke=\"green\" stroke-width=\"1.32\" x1=\"264.0\" x2=\"264.0\" y1=\"265.32\" y2=\"368.28\"/><text alignment-baseline=\"middle\" fill=\"black\" font-family=\"Futura\" font-size=\"9.24\" text-anchor=\"end\" x=\"126.72\" y=\"370.92\">24b</text><rect fill=\"green\" height=\"15.84\" width=\"23.76\" x=\"133.32\" y=\"361.68\"/><circle cx=\"158.4\" cy=\"369.6\" fill=\"green\" r=\"1.32\" stroke=\"green\" stroke-width=\"0\"/><text alignment-baseline=\"middle\" fill=\"white\" font-family=\"Futura\" font-size=\"9.24\" text-anchor=\"middle\" x=\"145.2\" y=\"370.92\">201</text><rect fill=\"green\" height=\"15.84\" width=\"23.76\" x=\"159.72\" y=\"361.68\"/><circle cx=\"158.4\" cy=\"369.6\" fill=\"green\" r=\"1.32\" stroke=\"green\" stroke-width=\"0\"/><circle cx=\"184.8\" cy=\"369.6\" fill=\"green\" r=\"1.32\" stroke=\"green\" stroke-width=\"0\"/><text alignment-baseline=\"middle\" fill=\"white\" font-family=\"Futura\" font-size=\"9.24\" text-anchor=\"middle\" x=\"171.6\" y=\"370.92\">202</text><rect fill=\"green\" height=\"15.84\" width=\"23.76\" x=\"186.12\" y=\"361.68\"/><circle cx=\"184.8\" cy=\"369.6\" fill=\"green\" r=\"1.32\" stroke=\"green\" stroke-width=\"0\"/><circle cx=\"211.2\" cy=\"369.6\" fill=\"green\" r=\"1.32\" stroke=\"green\" stroke-width=\"0\"/><text alignment-baseline=\"middle\" fill=\"white\" font-family=\"Futura\" font-size=\"9.24\" text-anchor=\"middle\" x=\"198.0\" y=\"370.92\">203</text><rect fill=\"green\" height=\"15.84\" width=\"23.76\" x=\"212.52\" y=\"361.68\"/><circle cx=\"211.2\" cy=\"369.6\" fill=\"green\" r=\"1.32\" stroke=\"green\" stroke-width=\"0\"/><circle cx=\"237.6\" cy=\"369.6\" fill=\"green\" r=\"1.32\" stroke=\"green\" stroke-width=\"0\"/><text alignment-baseline=\"middle\" fill=\"white\" font-family=\"Futura\" font-size=\"9.24\" text-anchor=\"middle\" x=\"224.4\" y=\"370.92\">204</text><rect fill=\"green\" height=\"15.84\" width=\"23.76\" x=\"238.92\" y=\"361.68\"/><circle cx=\"237.6\" cy=\"369.6\" fill=\"green\" r=\"1.32\" stroke=\"green\" stroke-width=\"0\"/><circle cx=\"264.0\" cy=\"369.6\" fill=\"green\" r=\"1.32\" stroke=\"green\" stroke-width=\"0\"/><text alignment-baseline=\"middle\" fill=\"white\" font-family=\"Futura\" font-size=\"9.24\" text-anchor=\"middle\" x=\"250.8\" y=\"370.92\">179</text><line stroke=\"green\" stroke-width=\"1.32\" x1=\"264.0\" x2=\"264.0\" y1=\"370.92\" y2=\"394.68\"/><text alignment-baseline=\"middle\" fill=\"black\" font-family=\"Futura\" font-size=\"9.24\" text-anchor=\"end\" x=\"126.72\" y=\"397.32\">26b</text><rect fill=\"green\" height=\"15.84\" width=\"23.76\" x=\"133.32\" y=\"388.08\"/><circle cx=\"158.4\" cy=\"396.0\" fill=\"green\" r=\"1.32\" stroke=\"green\" stroke-width=\"0\"/><text alignment-baseline=\"middle\" fill=\"white\" font-family=\"Futura\" font-size=\"9.24\" text-anchor=\"middle\" x=\"145.2\" y=\"397.32\">208</text><rect fill=\"green\" height=\"15.84\" width=\"23.76\" x=\"159.72\" y=\"388.08\"/><circle cx=\"158.4\" cy=\"396.0\" fill=\"green\" r=\"1.32\" stroke=\"green\" stroke-width=\"0\"/><circle cx=\"184.8\" cy=\"396.0\" fill=\"green\" r=\"1.32\" stroke=\"green\" stroke-width=\"0\"/><text alignment-baseline=\"middle\" fill=\"white\" font-family=\"Futura\" font-size=\"9.24\" text-anchor=\"middle\" x=\"171.6\" y=\"397.32\">209</text><rect fill=\"green\" height=\"15.84\" width=\"23.76\" x=\"186.12\" y=\"388.08\"/><circle cx=\"184.8\" cy=\"396.0\" fill=\"green\" r=\"1.32\" stroke=\"green\" stroke-width=\"0\"/><circle cx=\"211.2\" cy=\"396.0\" fill=\"green\" r=\"1.32\" stroke=\"green\" stroke-width=\"0\"/><text alignment-baseline=\"middle\" fill=\"white\" font-family=\"Futura\" font-size=\"9.24\" text-anchor=\"middle\" x=\"198.0\" y=\"397.32\">210</text><rect fill=\"green\" height=\"15.84\" width=\"23.76\" x=\"212.52\" y=\"388.08\"/><circle cx=\"211.2\" cy=\"396.0\" fill=\"green\" r=\"1.32\" stroke=\"green\" stroke-width=\"0\"/><circle cx=\"237.6\" cy=\"396.0\" fill=\"green\" r=\"1.32\" stroke=\"green\" stroke-width=\"0\"/><text alignment-baseline=\"middle\" fill=\"white\" font-family=\"Futura\" font-size=\"9.24\" text-anchor=\"middle\" x=\"224.4\" y=\"397.32\">211</text><rect fill=\"green\" height=\"15.84\" width=\"23.76\" x=\"238.92\" y=\"388.08\"/><circle cx=\"237.6\" cy=\"396.0\" fill=\"green\" r=\"1.32\" stroke=\"green\" stroke-width=\"0\"/><circle cx=\"264.0\" cy=\"396.0\" fill=\"green\" r=\"1.32\" stroke=\"green\" stroke-width=\"0\"/><text alignment-baseline=\"middle\" fill=\"white\" font-family=\"Futura\" font-size=\"9.24\" text-anchor=\"middle\" x=\"250.8\" y=\"397.32\">179</text><line stroke=\"red\" stroke-width=\"1.32\" x1=\"264.0\" x2=\"264.0\" y1=\"291.72\" y2=\"421.08\"/><text alignment-baseline=\"middle\" fill=\"black\" font-family=\"Futura\" font-size=\"9.24\" text-anchor=\"start\" x=\"374.88\" y=\"423.72\">28f</text><rect fill=\"red\" height=\"15.84\" width=\"23.76\" x=\"265.32\" y=\"414.48\"/><circle cx=\"264.0\" cy=\"422.4\" fill=\"red\" r=\"1.32\" stroke=\"red\" stroke-width=\"0\"/><circle cx=\"290.4\" cy=\"422.4\" fill=\"red\" r=\"1.32\" stroke=\"red\" stroke-width=\"0\"/><text alignment-baseline=\"middle\" fill=\"white\" font-family=\"Futura\" font-size=\"9.24\" text-anchor=\"middle\" x=\"277.2\" y=\"423.72\">180</text><rect fill=\"red\" height=\"15.84\" width=\"23.76\" x=\"291.72\" y=\"414.48\"/><circle cx=\"290.4\" cy=\"422.4\" fill=\"red\" r=\"1.32\" stroke=\"red\" stroke-width=\"0\"/><circle cx=\"316.8\" cy=\"422.4\" fill=\"red\" r=\"1.32\" stroke=\"red\" stroke-width=\"0\"/><text alignment-baseline=\"middle\" fill=\"white\" font-family=\"Futura\" font-size=\"9.24\" text-anchor=\"middle\" x=\"303.6\" y=\"423.72\">217</text><rect fill=\"red\" height=\"15.84\" width=\"23.76\" x=\"318.12\" y=\"414.48\"/><circle cx=\"316.8\" cy=\"422.4\" fill=\"red\" r=\"1.32\" stroke=\"red\" stroke-width=\"0\"/><circle cx=\"343.2\" cy=\"422.4\" fill=\"red\" r=\"1.32\" stroke=\"red\" stroke-width=\"0\"/><text alignment-baseline=\"middle\" fill=\"white\" font-family=\"Futura\" font-size=\"9.24\" text-anchor=\"middle\" x=\"330.0\" y=\"423.72\">218</text><rect fill=\"red\" height=\"15.84\" width=\"23.76\" x=\"344.52\" y=\"414.48\"/><circle cx=\"343.2\" cy=\"422.4\" fill=\"red\" r=\"1.32\" stroke=\"red\" stroke-width=\"0\"/><text alignment-baseline=\"middle\" fill=\"white\" font-family=\"Futura\" font-size=\"9.24\" text-anchor=\"middle\" x=\"356.4\" y=\"423.72\">219</text><line stroke=\"green\" stroke-width=\"1.32\" x1=\"211.2\" x2=\"211.2\" y1=\"397.32\" y2=\"447.48\"/><text alignment-baseline=\"middle\" fill=\"black\" font-family=\"Futura\" font-size=\"9.24\" text-anchor=\"end\" x=\"126.72\" y=\"450.12\">29b</text><rect fill=\"green\" height=\"15.84\" width=\"23.76\" x=\"133.32\" y=\"440.88\"/><circle cx=\"158.4\" cy=\"448.8\" fill=\"green\" r=\"1.32\" stroke=\"green\" stroke-width=\"0\"/><text alignment-baseline=\"middle\" fill=\"white\" font-family=\"Futura\" font-size=\"9.24\" text-anchor=\"middle\" x=\"145.2\" y=\"450.12\">220</text><rect fill=\"green\" height=\"15.84\" width=\"23.76\" x=\"159.72\" y=\"440.88\"/><circle cx=\"158.4\" cy=\"448.8\" fill=\"green\" r=\"1.32\" stroke=\"green\" stroke-width=\"0\"/><circle cx=\"184.8\" cy=\"448.8\" fill=\"green\" r=\"1.32\" stroke=\"green\" stroke-width=\"0\"/><text alignment-baseline=\"middle\" fill=\"white\" font-family=\"Futura\" font-size=\"9.24\" text-anchor=\"middle\" x=\"171.6\" y=\"450.12\">221</text><rect fill=\"green\" height=\"15.84\" width=\"23.76\" x=\"186.12\" y=\"440.88\"/><circle cx=\"184.8\" cy=\"448.8\" fill=\"green\" r=\"1.32\" stroke=\"green\" stroke-width=\"0\"/><circle cx=\"211.2\" cy=\"448.8\" fill=\"green\" r=\"1.32\" stroke=\"green\" stroke-width=\"0\"/><text alignment-baseline=\"middle\" fill=\"white\" font-family=\"Futura\" font-size=\"9.24\" text-anchor=\"middle\" x=\"198.0\" y=\"450.12\">210</text><line stroke=\"red\" stroke-width=\"1.32\" x1=\"237.6\" x2=\"237.6\" y1=\"397.32\" y2=\"473.88\"/><text alignment-baseline=\"middle\" fill=\"black\" font-family=\"Futura\" font-size=\"9.24\" text-anchor=\"start\" x=\"374.88\" y=\"476.52\">31f</text><rect fill=\"red\" height=\"15.84\" width=\"23.76\" x=\"238.92\" y=\"467.28\"/><circle cx=\"237.6\" cy=\"475.2\" fill=\"red\" r=\"1.32\" stroke=\"red\" stroke-width=\"0\"/><circle cx=\"264.0\" cy=\"475.2\" fill=\"red\" r=\"1.32\" stroke=\"red\" stroke-width=\"0\"/><text alignment-baseline=\"middle\" fill=\"white\" font-family=\"Futura\" font-size=\"9.24\" text-anchor=\"middle\" x=\"250.8\" y=\"476.52\">179</text><rect fill=\"red\" height=\"15.84\" width=\"23.76\" x=\"265.32\" y=\"467.28\"/><circle cx=\"264.0\" cy=\"475.2\" fill=\"red\" r=\"1.32\" stroke=\"red\" stroke-width=\"0\"/><circle cx=\"290.4\" cy=\"475.2\" fill=\"red\" r=\"1.32\" stroke=\"red\" stroke-width=\"0\"/><text alignment-baseline=\"middle\" fill=\"white\" font-family=\"Futura\" font-size=\"9.24\" text-anchor=\"middle\" x=\"277.2\" y=\"476.52\">227</text><rect fill=\"red\" height=\"15.84\" width=\"23.76\" x=\"291.72\" y=\"467.28\"/><circle cx=\"290.4\" cy=\"475.2\" fill=\"red\" r=\"1.32\" stroke=\"red\" stroke-width=\"0\"/><circle cx=\"316.8\" cy=\"475.2\" fill=\"red\" r=\"1.32\" stroke=\"red\" stroke-width=\"0\"/><text alignment-baseline=\"middle\" fill=\"white\" font-family=\"Futura\" font-size=\"9.24\" text-anchor=\"middle\" x=\"303.6\" y=\"476.52\">228</text><rect fill=\"red\" height=\"15.84\" width=\"23.76\" x=\"318.12\" y=\"467.28\"/><circle cx=\"316.8\" cy=\"475.2\" fill=\"red\" r=\"1.32\" stroke=\"red\" stroke-width=\"0\"/><circle cx=\"343.2\" cy=\"475.2\" fill=\"red\" r=\"1.32\" stroke=\"red\" stroke-width=\"0\"/><text alignment-baseline=\"middle\" fill=\"white\" font-family=\"Futura\" font-size=\"9.24\" text-anchor=\"middle\" x=\"330.0\" y=\"476.52\">229</text><rect fill=\"red\" height=\"15.84\" width=\"23.76\" x=\"344.52\" y=\"467.28\"/><circle cx=\"343.2\" cy=\"475.2\" fill=\"red\" r=\"1.32\" stroke=\"red\" stroke-width=\"0\"/><text alignment-baseline=\"middle\" fill=\"white\" font-family=\"Futura\" font-size=\"9.24\" text-anchor=\"middle\" x=\"356.4\" y=\"476.52\">230</text><line stroke=\"red\" stroke-width=\"1.32\" x1=\"316.8\" x2=\"316.8\" y1=\"476.52\" y2=\"500.28\"/><text alignment-baseline=\"middle\" fill=\"black\" font-family=\"Futura\" font-size=\"9.24\" text-anchor=\"start\" x=\"374.88\" y=\"502.92\">32f</text><rect fill=\"red\" height=\"15.84\" width=\"23.76\" x=\"318.12\" y=\"493.68\"/><circle cx=\"316.8\" cy=\"501.6\" fill=\"red\" r=\"1.32\" stroke=\"red\" stroke-width=\"0\"/><circle cx=\"343.2\" cy=\"501.6\" fill=\"red\" r=\"1.32\" stroke=\"red\" stroke-width=\"0\"/><text alignment-baseline=\"middle\" fill=\"white\" font-family=\"Futura\" font-size=\"9.24\" text-anchor=\"middle\" x=\"330.0\" y=\"502.92\">229</text><rect fill=\"red\" height=\"15.84\" width=\"23.76\" x=\"344.52\" y=\"493.68\"/><circle cx=\"343.2\" cy=\"501.6\" fill=\"red\" r=\"1.32\" stroke=\"red\" stroke-width=\"0\"/><text alignment-baseline=\"middle\" fill=\"white\" font-family=\"Futura\" font-size=\"9.24\" text-anchor=\"middle\" x=\"356.4\" y=\"502.92\">231</text><line stroke=\"red\" stroke-width=\"1.32\" x1=\"237.6\" x2=\"237.6\" y1=\"476.52\" y2=\"526.68\"/><text alignment-baseline=\"middle\" fill=\"black\" font-family=\"Futura\" font-size=\"9.24\" text-anchor=\"start\" x=\"374.88\" y=\"529.32\">33f</text><rect fill=\"red\" height=\"15.84\" width=\"23.76\" x=\"238.92\" y=\"520.08\"/><circle cx=\"237.6\" cy=\"528.0\" fill=\"red\" r=\"1.32\" stroke=\"red\" stroke-width=\"0\"/><circle cx=\"264.0\" cy=\"528.0\" fill=\"red\" r=\"1.32\" stroke=\"red\" stroke-width=\"0\"/><text alignment-baseline=\"middle\" fill=\"white\" font-family=\"Futura\" font-size=\"9.24\" text-anchor=\"middle\" x=\"250.8\" y=\"529.32\">179</text><rect fill=\"red\" height=\"15.84\" width=\"23.76\" x=\"265.32\" y=\"520.08\"/><circle cx=\"264.0\" cy=\"528.0\" fill=\"red\" r=\"1.32\" stroke=\"red\" stroke-width=\"0\"/><circle cx=\"290.4\" cy=\"528.0\" fill=\"red\" r=\"1.32\" stroke=\"red\" stroke-width=\"0\"/><text alignment-baseline=\"middle\" fill=\"white\" font-family=\"Futura\" font-size=\"9.24\" text-anchor=\"middle\" x=\"277.2\" y=\"529.32\">232</text><rect fill=\"red\" height=\"15.84\" width=\"23.76\" x=\"291.72\" y=\"520.08\"/><circle cx=\"290.4\" cy=\"528.0\" fill=\"red\" r=\"1.32\" stroke=\"red\" stroke-width=\"0\"/><circle cx=\"316.8\" cy=\"528.0\" fill=\"red\" r=\"1.32\" stroke=\"red\" stroke-width=\"0\"/><text alignment-baseline=\"middle\" fill=\"white\" font-family=\"Futura\" font-size=\"9.24\" text-anchor=\"middle\" x=\"303.6\" y=\"529.32\">233</text><rect fill=\"red\" height=\"15.84\" width=\"23.76\" x=\"318.12\" y=\"520.08\"/><circle cx=\"316.8\" cy=\"528.0\" fill=\"red\" r=\"1.32\" stroke=\"red\" stroke-width=\"0\"/><circle cx=\"343.2\" cy=\"528.0\" fill=\"red\" r=\"1.32\" stroke=\"red\" stroke-width=\"0\"/><text alignment-baseline=\"middle\" fill=\"white\" font-family=\"Futura\" font-size=\"9.24\" text-anchor=\"middle\" x=\"330.0\" y=\"529.32\">234</text><rect fill=\"red\" height=\"15.84\" width=\"23.76\" x=\"344.52\" y=\"520.08\"/><circle cx=\"343.2\" cy=\"528.0\" fill=\"red\" r=\"1.32\" stroke=\"red\" stroke-width=\"0\"/><text alignment-baseline=\"middle\" fill=\"white\" font-family=\"Futura\" font-size=\"9.24\" text-anchor=\"middle\" x=\"356.4\" y=\"529.32\">235</text><line stroke=\"green\" stroke-width=\"1.32\" x1=\"264.0\" x2=\"264.0\" y1=\"529.32\" y2=\"553.08\"/><text alignment-baseline=\"middle\" fill=\"black\" font-family=\"Futura\" font-size=\"9.24\" text-anchor=\"end\" x=\"126.72\" y=\"555.72\">34b</text><rect fill=\"green\" height=\"15.84\" width=\"23.76\" x=\"133.32\" y=\"546.48\"/><circle cx=\"158.4\" cy=\"554.4\" fill=\"green\" r=\"1.32\" stroke=\"green\" stroke-width=\"0\"/><text alignment-baseline=\"middle\" fill=\"white\" font-family=\"Futura\" font-size=\"9.24\" text-anchor=\"middle\" x=\"145.2\" y=\"555.72\">236</text><rect fill=\"green\" height=\"15.84\" width=\"23.76\" x=\"159.72\" y=\"546.48\"/><circle cx=\"158.4\" cy=\"554.4\" fill=\"green\" r=\"1.32\" stroke=\"green\" stroke-width=\"0\"/><circle cx=\"184.8\" cy=\"554.4\" fill=\"green\" r=\"1.32\" stroke=\"green\" stroke-width=\"0\"/><text alignment-baseline=\"middle\" fill=\"white\" font-family=\"Futura\" font-size=\"9.24\" text-anchor=\"middle\" x=\"171.6\" y=\"555.72\">237</text><rect fill=\"green\" height=\"15.84\" width=\"23.76\" x=\"186.12\" y=\"546.48\"/><circle cx=\"184.8\" cy=\"554.4\" fill=\"green\" r=\"1.32\" stroke=\"green\" stroke-width=\"0\"/><circle cx=\"211.2\" cy=\"554.4\" fill=\"green\" r=\"1.32\" stroke=\"green\" stroke-width=\"0\"/><text alignment-baseline=\"middle\" fill=\"white\" font-family=\"Futura\" font-size=\"9.24\" text-anchor=\"middle\" x=\"198.0\" y=\"555.72\">238</text><rect fill=\"green\" height=\"15.84\" width=\"23.76\" x=\"212.52\" y=\"546.48\"/><circle cx=\"211.2\" cy=\"554.4\" fill=\"green\" r=\"1.32\" stroke=\"green\" stroke-width=\"0\"/><circle cx=\"237.6\" cy=\"554.4\" fill=\"green\" r=\"1.32\" stroke=\"green\" stroke-width=\"0\"/><text alignment-baseline=\"middle\" fill=\"white\" font-family=\"Futura\" font-size=\"9.24\" text-anchor=\"middle\" x=\"224.4\" y=\"555.72\">239</text><rect fill=\"green\" height=\"15.84\" width=\"23.76\" x=\"238.92\" y=\"546.48\"/><circle cx=\"237.6\" cy=\"554.4\" fill=\"green\" r=\"1.32\" stroke=\"green\" stroke-width=\"0\"/><circle cx=\"264.0\" cy=\"554.4\" fill=\"green\" r=\"1.32\" stroke=\"green\" stroke-width=\"0\"/><text alignment-baseline=\"middle\" fill=\"white\" font-family=\"Futura\" font-size=\"9.24\" text-anchor=\"middle\" x=\"250.8\" y=\"555.72\">179</text><line stroke=\"green\" stroke-width=\"1.32\" x1=\"184.8\" x2=\"184.8\" y1=\"555.72\" y2=\"579.48\"/><text alignment-baseline=\"middle\" fill=\"black\" font-family=\"Futura\" font-size=\"9.24\" text-anchor=\"end\" x=\"126.72\" y=\"582.12\">37b</text><rect fill=\"green\" height=\"15.84\" width=\"23.76\" x=\"133.32\" y=\"572.88\"/><circle cx=\"158.4\" cy=\"580.8\" fill=\"green\" r=\"1.32\" stroke=\"green\" stroke-width=\"0\"/><text alignment-baseline=\"middle\" fill=\"white\" font-family=\"Futura\" font-size=\"9.24\" text-anchor=\"middle\" x=\"145.2\" y=\"582.12\">251</text><rect fill=\"green\" height=\"15.84\" width=\"23.76\" x=\"159.72\" y=\"572.88\"/><circle cx=\"158.4\" cy=\"580.8\" fill=\"green\" r=\"1.32\" stroke=\"green\" stroke-width=\"0\"/><circle cx=\"184.8\" cy=\"580.8\" fill=\"green\" r=\"1.32\" stroke=\"green\" stroke-width=\"0\"/><text alignment-baseline=\"middle\" fill=\"white\" font-family=\"Futura\" font-size=\"9.24\" text-anchor=\"middle\" x=\"171.6\" y=\"582.12\">237</text><line stroke=\"green\" stroke-width=\"1.32\" x1=\"211.2\" x2=\"211.2\" y1=\"555.72\" y2=\"605.88\"/><text alignment-baseline=\"middle\" fill=\"black\" font-family=\"Futura\" font-size=\"9.24\" text-anchor=\"end\" x=\"126.72\" y=\"608.52\">38b</text><rect fill=\"green\" height=\"15.84\" width=\"23.76\" x=\"133.32\" y=\"599.28\"/><circle cx=\"158.4\" cy=\"607.2\" fill=\"green\" r=\"1.32\" stroke=\"green\" stroke-width=\"0\"/><text alignment-baseline=\"middle\" fill=\"white\" font-family=\"Futura\" font-size=\"9.24\" text-anchor=\"middle\" x=\"145.2\" y=\"608.52\">252</text><rect fill=\"green\" height=\"15.84\" width=\"23.76\" x=\"159.72\" y=\"599.28\"/><circle cx=\"158.4\" cy=\"607.2\" fill=\"green\" r=\"1.32\" stroke=\"green\" stroke-width=\"0\"/><circle cx=\"184.8\" cy=\"607.2\" fill=\"green\" r=\"1.32\" stroke=\"green\" stroke-width=\"0\"/><text alignment-baseline=\"middle\" fill=\"white\" font-family=\"Futura\" font-size=\"9.24\" text-anchor=\"middle\" x=\"171.6\" y=\"608.52\">253</text><rect fill=\"green\" height=\"15.84\" width=\"23.76\" x=\"186.12\" y=\"599.28\"/><circle cx=\"184.8\" cy=\"607.2\" fill=\"green\" r=\"1.32\" stroke=\"green\" stroke-width=\"0\"/><circle cx=\"211.2\" cy=\"607.2\" fill=\"green\" r=\"1.32\" stroke=\"green\" stroke-width=\"0\"/><text alignment-baseline=\"middle\" fill=\"white\" font-family=\"Futura\" font-size=\"9.24\" text-anchor=\"middle\" x=\"198.0\" y=\"608.52\">238</text><line stroke=\"red\" stroke-width=\"1.32\" x1=\"211.2\" x2=\"211.2\" y1=\"555.72\" y2=\"632.28\"/><text alignment-baseline=\"middle\" fill=\"black\" font-family=\"Futura\" font-size=\"9.24\" text-anchor=\"start\" x=\"401.28\" y=\"634.92\">39f</text><rect fill=\"red\" height=\"15.84\" width=\"23.76\" x=\"212.52\" y=\"625.68\"/><circle cx=\"211.2\" cy=\"633.6\" fill=\"red\" r=\"1.32\" stroke=\"red\" stroke-width=\"0\"/><circle cx=\"237.6\" cy=\"633.6\" fill=\"red\" r=\"1.32\" stroke=\"red\" stroke-width=\"0\"/><text alignment-baseline=\"middle\" fill=\"white\" font-family=\"Futura\" font-size=\"9.24\" text-anchor=\"middle\" x=\"224.4\" y=\"634.92\">239</text><rect fill=\"red\" height=\"15.84\" width=\"23.76\" x=\"238.92\" y=\"625.68\"/><circle cx=\"237.6\" cy=\"633.6\" fill=\"red\" r=\"1.32\" stroke=\"red\" stroke-width=\"0\"/><circle cx=\"264.0\" cy=\"633.6\" fill=\"red\" r=\"1.32\" stroke=\"red\" stroke-width=\"0\"/><text alignment-baseline=\"middle\" fill=\"white\" font-family=\"Futura\" font-size=\"9.24\" text-anchor=\"middle\" x=\"250.8\" y=\"634.92\">254</text><rect fill=\"red\" height=\"15.84\" width=\"23.76\" x=\"265.32\" y=\"625.68\"/><circle cx=\"264.0\" cy=\"633.6\" fill=\"red\" r=\"1.32\" stroke=\"red\" stroke-width=\"0\"/><circle cx=\"290.4\" cy=\"633.6\" fill=\"red\" r=\"1.32\" stroke=\"red\" stroke-width=\"0\"/><text alignment-baseline=\"middle\" fill=\"white\" font-family=\"Futura\" font-size=\"9.24\" text-anchor=\"middle\" x=\"277.2\" y=\"634.92\">255</text><rect fill=\"red\" height=\"15.84\" width=\"23.76\" x=\"291.72\" y=\"625.68\"/><circle cx=\"290.4\" cy=\"633.6\" fill=\"red\" r=\"1.32\" stroke=\"red\" stroke-width=\"0\"/><circle cx=\"316.8\" cy=\"633.6\" fill=\"red\" r=\"1.32\" stroke=\"red\" stroke-width=\"0\"/><text alignment-baseline=\"middle\" fill=\"white\" font-family=\"Futura\" font-size=\"9.24\" text-anchor=\"middle\" x=\"303.6\" y=\"634.92\">256</text><rect fill=\"red\" height=\"15.84\" width=\"23.76\" x=\"318.12\" y=\"625.68\"/><circle cx=\"316.8\" cy=\"633.6\" fill=\"red\" r=\"1.32\" stroke=\"red\" stroke-width=\"0\"/><circle cx=\"343.2\" cy=\"633.6\" fill=\"red\" r=\"1.32\" stroke=\"red\" stroke-width=\"0\"/><text alignment-baseline=\"middle\" fill=\"white\" font-family=\"Futura\" font-size=\"9.24\" text-anchor=\"middle\" x=\"330.0\" y=\"634.92\">257</text><rect fill=\"red\" height=\"15.84\" width=\"23.76\" x=\"344.52\" y=\"625.68\"/><circle cx=\"343.2\" cy=\"633.6\" fill=\"red\" r=\"1.32\" stroke=\"red\" stroke-width=\"0\"/><circle cx=\"369.6\" cy=\"633.6\" fill=\"red\" r=\"1.32\" stroke=\"red\" stroke-width=\"0\"/><text alignment-baseline=\"middle\" fill=\"white\" font-family=\"Futura\" font-size=\"9.24\" text-anchor=\"middle\" x=\"356.4\" y=\"634.92\">258</text><rect fill=\"red\" height=\"15.84\" width=\"23.76\" x=\"370.92\" y=\"625.68\"/><circle cx=\"369.6\" cy=\"633.6\" fill=\"red\" r=\"1.32\" stroke=\"red\" stroke-width=\"0\"/><text alignment-baseline=\"middle\" fill=\"white\" font-family=\"Futura\" font-size=\"9.24\" text-anchor=\"middle\" x=\"382.8\" y=\"634.92\">259</text><line stroke=\"red\" stroke-width=\"1.32\" x1=\"211.2\" x2=\"211.2\" y1=\"634.92\" y2=\"658.68\"/><text alignment-baseline=\"middle\" fill=\"black\" font-family=\"Futura\" font-size=\"9.24\" text-anchor=\"start\" x=\"374.88\" y=\"661.32\">40f</text><rect fill=\"red\" height=\"15.84\" width=\"23.76\" x=\"212.52\" y=\"652.08\"/><circle cx=\"211.2\" cy=\"660.0\" fill=\"red\" r=\"1.32\" stroke=\"red\" stroke-width=\"0\"/><circle cx=\"237.6\" cy=\"660.0\" fill=\"red\" r=\"1.32\" stroke=\"red\" stroke-width=\"0\"/><text alignment-baseline=\"middle\" fill=\"white\" font-family=\"Futura\" font-size=\"9.24\" text-anchor=\"middle\" x=\"224.4\" y=\"661.32\">239</text><rect fill=\"red\" height=\"15.84\" width=\"23.76\" x=\"238.92\" y=\"652.08\"/><circle cx=\"237.6\" cy=\"660.0\" fill=\"red\" r=\"1.32\" stroke=\"red\" stroke-width=\"0\"/><circle cx=\"264.0\" cy=\"660.0\" fill=\"red\" r=\"1.32\" stroke=\"red\" stroke-width=\"0\"/><text alignment-baseline=\"middle\" fill=\"white\" font-family=\"Futura\" font-size=\"9.24\" text-anchor=\"middle\" x=\"250.8\" y=\"661.32\">260</text><rect fill=\"red\" height=\"15.84\" width=\"23.76\" x=\"265.32\" y=\"652.08\"/><circle cx=\"264.0\" cy=\"660.0\" fill=\"red\" r=\"1.32\" stroke=\"red\" stroke-width=\"0\"/><circle cx=\"290.4\" cy=\"660.0\" fill=\"red\" r=\"1.32\" stroke=\"red\" stroke-width=\"0\"/><text alignment-baseline=\"middle\" fill=\"white\" font-family=\"Futura\" font-size=\"9.24\" text-anchor=\"middle\" x=\"277.2\" y=\"661.32\">261</text><rect fill=\"red\" height=\"15.84\" width=\"23.76\" x=\"291.72\" y=\"652.08\"/><circle cx=\"290.4\" cy=\"660.0\" fill=\"red\" r=\"1.32\" stroke=\"red\" stroke-width=\"0\"/><circle cx=\"316.8\" cy=\"660.0\" fill=\"red\" r=\"1.32\" stroke=\"red\" stroke-width=\"0\"/><text alignment-baseline=\"middle\" fill=\"white\" font-family=\"Futura\" font-size=\"9.24\" text-anchor=\"middle\" x=\"303.6\" y=\"661.32\">262</text><rect fill=\"red\" height=\"15.84\" width=\"23.76\" x=\"318.12\" y=\"652.08\"/><circle cx=\"316.8\" cy=\"660.0\" fill=\"red\" r=\"1.32\" stroke=\"red\" stroke-width=\"0\"/><circle cx=\"343.2\" cy=\"660.0\" fill=\"red\" r=\"1.32\" stroke=\"red\" stroke-width=\"0\"/><text alignment-baseline=\"middle\" fill=\"white\" font-family=\"Futura\" font-size=\"9.24\" text-anchor=\"middle\" x=\"330.0\" y=\"661.32\">263</text><rect fill=\"red\" height=\"15.84\" width=\"23.76\" x=\"344.52\" y=\"652.08\"/><circle cx=\"343.2\" cy=\"660.0\" fill=\"red\" r=\"1.32\" stroke=\"red\" stroke-width=\"0\"/><text alignment-baseline=\"middle\" fill=\"white\" font-family=\"Futura\" font-size=\"9.24\" text-anchor=\"middle\" x=\"356.4\" y=\"661.32\">264</text><line stroke=\"green\" stroke-width=\"1.32\" x1=\"290.4\" x2=\"290.4\" y1=\"661.32\" y2=\"685.08\"/><text alignment-baseline=\"middle\" fill=\"black\" font-family=\"Futura\" font-size=\"9.24\" text-anchor=\"end\" x=\"126.72\" y=\"687.72\">41b</text><rect fill=\"green\" height=\"15.84\" width=\"23.76\" x=\"133.32\" y=\"678.48\"/><circle cx=\"158.4\" cy=\"686.4\" fill=\"green\" r=\"1.32\" stroke=\"green\" stroke-width=\"0\"/><text alignment-baseline=\"middle\" fill=\"white\" font-family=\"Futura\" font-size=\"9.24\" text-anchor=\"middle\" x=\"145.2\" y=\"687.72\">265</text><rect fill=\"green\" height=\"15.84\" width=\"23.76\" x=\"159.72\" y=\"678.48\"/><circle cx=\"158.4\" cy=\"686.4\" fill=\"green\" r=\"1.32\" stroke=\"green\" stroke-width=\"0\"/><circle cx=\"184.8\" cy=\"686.4\" fill=\"green\" r=\"1.32\" stroke=\"green\" stroke-width=\"0\"/><text alignment-baseline=\"middle\" fill=\"white\" font-family=\"Futura\" font-size=\"9.24\" text-anchor=\"middle\" x=\"171.6\" y=\"687.72\">266</text><rect fill=\"green\" height=\"15.84\" width=\"23.76\" x=\"186.12\" y=\"678.48\"/><circle cx=\"184.8\" cy=\"686.4\" fill=\"green\" r=\"1.32\" stroke=\"green\" stroke-width=\"0\"/><circle cx=\"211.2\" cy=\"686.4\" fill=\"green\" r=\"1.32\" stroke=\"green\" stroke-width=\"0\"/><text alignment-baseline=\"middle\" fill=\"white\" font-family=\"Futura\" font-size=\"9.24\" text-anchor=\"middle\" x=\"198.0\" y=\"687.72\">267</text><rect fill=\"green\" height=\"15.84\" width=\"23.76\" x=\"212.52\" y=\"678.48\"/><circle cx=\"211.2\" cy=\"686.4\" fill=\"green\" r=\"1.32\" stroke=\"green\" stroke-width=\"0\"/><circle cx=\"237.6\" cy=\"686.4\" fill=\"green\" r=\"1.32\" stroke=\"green\" stroke-width=\"0\"/><text alignment-baseline=\"middle\" fill=\"white\" font-family=\"Futura\" font-size=\"9.24\" text-anchor=\"middle\" x=\"224.4\" y=\"687.72\">268</text><rect fill=\"green\" height=\"15.84\" width=\"23.76\" x=\"238.92\" y=\"678.48\"/><circle cx=\"237.6\" cy=\"686.4\" fill=\"green\" r=\"1.32\" stroke=\"green\" stroke-width=\"0\"/><circle cx=\"264.0\" cy=\"686.4\" fill=\"green\" r=\"1.32\" stroke=\"green\" stroke-width=\"0\"/><text alignment-baseline=\"middle\" fill=\"white\" font-family=\"Futura\" font-size=\"9.24\" text-anchor=\"middle\" x=\"250.8\" y=\"687.72\">269</text><rect fill=\"green\" height=\"15.84\" width=\"23.76\" x=\"265.32\" y=\"678.48\"/><circle cx=\"264.0\" cy=\"686.4\" fill=\"green\" r=\"1.32\" stroke=\"green\" stroke-width=\"0\"/><circle cx=\"290.4\" cy=\"686.4\" fill=\"green\" r=\"1.32\" stroke=\"green\" stroke-width=\"0\"/><text alignment-baseline=\"middle\" fill=\"white\" font-family=\"Futura\" font-size=\"9.24\" text-anchor=\"middle\" x=\"277.2\" y=\"687.72\">261</text><line stroke=\"green\" stroke-width=\"1.32\" x1=\"343.2\" x2=\"343.2\" y1=\"661.32\" y2=\"711.48\"/><text alignment-baseline=\"middle\" fill=\"black\" font-family=\"Futura\" font-size=\"9.24\" text-anchor=\"end\" x=\"126.72\" y=\"714.12\">42b</text><rect fill=\"green\" height=\"15.84\" width=\"23.76\" x=\"133.32\" y=\"704.88\"/><circle cx=\"158.4\" cy=\"712.8\" fill=\"green\" r=\"1.32\" stroke=\"green\" stroke-width=\"0\"/><text alignment-baseline=\"middle\" fill=\"white\" font-family=\"Futura\" font-size=\"9.24\" text-anchor=\"middle\" x=\"145.2\" y=\"714.12\">270</text><rect fill=\"green\" height=\"15.84\" width=\"23.76\" x=\"159.72\" y=\"704.88\"/><circle cx=\"158.4\" cy=\"712.8\" fill=\"green\" r=\"1.32\" stroke=\"green\" stroke-width=\"0\"/><circle cx=\"184.8\" cy=\"712.8\" fill=\"green\" r=\"1.32\" stroke=\"green\" stroke-width=\"0\"/><text alignment-baseline=\"middle\" fill=\"white\" font-family=\"Futura\" font-size=\"9.24\" text-anchor=\"middle\" x=\"171.6\" y=\"714.12\">271</text><rect fill=\"green\" height=\"15.84\" width=\"23.76\" x=\"186.12\" y=\"704.88\"/><circle cx=\"184.8\" cy=\"712.8\" fill=\"green\" r=\"1.32\" stroke=\"green\" stroke-width=\"0\"/><circle cx=\"211.2\" cy=\"712.8\" fill=\"green\" r=\"1.32\" stroke=\"green\" stroke-width=\"0\"/><text alignment-baseline=\"middle\" fill=\"white\" font-family=\"Futura\" font-size=\"9.24\" text-anchor=\"middle\" x=\"198.0\" y=\"714.12\">272</text><rect fill=\"green\" height=\"15.84\" width=\"23.76\" x=\"212.52\" y=\"704.88\"/><circle cx=\"211.2\" cy=\"712.8\" fill=\"green\" r=\"1.32\" stroke=\"green\" stroke-width=\"0\"/><circle cx=\"237.6\" cy=\"712.8\" fill=\"green\" r=\"1.32\" stroke=\"green\" stroke-width=\"0\"/><text alignment-baseline=\"middle\" fill=\"white\" font-family=\"Futura\" font-size=\"9.24\" text-anchor=\"middle\" x=\"224.4\" y=\"714.12\">273</text><rect fill=\"green\" height=\"15.84\" width=\"23.76\" x=\"238.92\" y=\"704.88\"/><circle cx=\"237.6\" cy=\"712.8\" fill=\"green\" r=\"1.32\" stroke=\"green\" stroke-width=\"0\"/><circle cx=\"264.0\" cy=\"712.8\" fill=\"green\" r=\"1.32\" stroke=\"green\" stroke-width=\"0\"/><text alignment-baseline=\"middle\" fill=\"white\" font-family=\"Futura\" font-size=\"9.24\" text-anchor=\"middle\" x=\"250.8\" y=\"714.12\">274</text><rect fill=\"green\" height=\"15.84\" width=\"23.76\" x=\"265.32\" y=\"704.88\"/><circle cx=\"264.0\" cy=\"712.8\" fill=\"green\" r=\"1.32\" stroke=\"green\" stroke-width=\"0\"/><circle cx=\"290.4\" cy=\"712.8\" fill=\"green\" r=\"1.32\" stroke=\"green\" stroke-width=\"0\"/><text alignment-baseline=\"middle\" fill=\"white\" font-family=\"Futura\" font-size=\"9.24\" text-anchor=\"middle\" x=\"277.2\" y=\"714.12\">275</text><rect fill=\"green\" height=\"15.84\" width=\"23.76\" x=\"291.72\" y=\"704.88\"/><circle cx=\"290.4\" cy=\"712.8\" fill=\"green\" r=\"1.32\" stroke=\"green\" stroke-width=\"0\"/><circle cx=\"316.8\" cy=\"712.8\" fill=\"green\" r=\"1.32\" stroke=\"green\" stroke-width=\"0\"/><text alignment-baseline=\"middle\" fill=\"white\" font-family=\"Futura\" font-size=\"9.24\" text-anchor=\"middle\" x=\"303.6\" y=\"714.12\">276</text><rect fill=\"green\" height=\"15.84\" width=\"23.76\" x=\"318.12\" y=\"704.88\"/><circle cx=\"316.8\" cy=\"712.8\" fill=\"green\" r=\"1.32\" stroke=\"green\" stroke-width=\"0\"/><circle cx=\"343.2\" cy=\"712.8\" fill=\"green\" r=\"1.32\" stroke=\"green\" stroke-width=\"0\"/><text alignment-baseline=\"middle\" fill=\"white\" font-family=\"Futura\" font-size=\"9.24\" text-anchor=\"middle\" x=\"330.0\" y=\"714.12\">263</text><line stroke=\"red\" stroke-width=\"1.32\" x1=\"290.4\" x2=\"290.4\" y1=\"714.12\" y2=\"737.88\"/><text alignment-baseline=\"middle\" fill=\"black\" font-family=\"Futura\" font-size=\"9.24\" text-anchor=\"start\" x=\"374.88\" y=\"740.52\">43f</text><rect fill=\"red\" height=\"15.84\" width=\"23.76\" x=\"291.72\" y=\"731.28\"/><circle cx=\"290.4\" cy=\"739.2\" fill=\"red\" r=\"1.32\" stroke=\"red\" stroke-width=\"0\"/><circle cx=\"316.8\" cy=\"739.2\" fill=\"red\" r=\"1.32\" stroke=\"red\" stroke-width=\"0\"/><text alignment-baseline=\"middle\" fill=\"white\" font-family=\"Futura\" font-size=\"9.24\" text-anchor=\"middle\" x=\"303.6\" y=\"740.52\">276</text><rect fill=\"red\" height=\"15.84\" width=\"23.76\" x=\"318.12\" y=\"731.28\"/><circle cx=\"316.8\" cy=\"739.2\" fill=\"red\" r=\"1.32\" stroke=\"red\" stroke-width=\"0\"/><circle cx=\"343.2\" cy=\"739.2\" fill=\"red\" r=\"1.32\" stroke=\"red\" stroke-width=\"0\"/><text alignment-baseline=\"middle\" fill=\"white\" font-family=\"Futura\" font-size=\"9.24\" text-anchor=\"middle\" x=\"330.0\" y=\"740.52\">277</text><rect fill=\"red\" height=\"15.84\" width=\"23.76\" x=\"344.52\" y=\"731.28\"/><circle cx=\"343.2\" cy=\"739.2\" fill=\"red\" r=\"1.32\" stroke=\"red\" stroke-width=\"0\"/><text alignment-baseline=\"middle\" fill=\"white\" font-family=\"Futura\" font-size=\"9.24\" text-anchor=\"middle\" x=\"356.4\" y=\"740.52\">278</text><line stroke=\"green\" stroke-width=\"1.32\" x1=\"211.2\" x2=\"211.2\" y1=\"714.12\" y2=\"764.28\"/><text alignment-baseline=\"middle\" fill=\"black\" font-family=\"Futura\" font-size=\"9.24\" text-anchor=\"end\" x=\"126.72\" y=\"766.92\">44b</text><rect fill=\"green\" height=\"15.84\" width=\"23.76\" x=\"133.32\" y=\"757.68\"/><circle cx=\"158.4\" cy=\"765.6\" fill=\"green\" r=\"1.32\" stroke=\"green\" stroke-width=\"0\"/><text alignment-baseline=\"middle\" fill=\"white\" font-family=\"Futura\" font-size=\"9.24\" text-anchor=\"middle\" x=\"145.2\" y=\"766.92\">279</text><rect fill=\"green\" height=\"15.84\" width=\"23.76\" x=\"159.72\" y=\"757.68\"/><circle cx=\"158.4\" cy=\"765.6\" fill=\"green\" r=\"1.32\" stroke=\"green\" stroke-width=\"0\"/><circle cx=\"184.8\" cy=\"765.6\" fill=\"green\" r=\"1.32\" stroke=\"green\" stroke-width=\"0\"/><text alignment-baseline=\"middle\" fill=\"white\" font-family=\"Futura\" font-size=\"9.24\" text-anchor=\"middle\" x=\"171.6\" y=\"766.92\">280</text><rect fill=\"green\" height=\"15.84\" width=\"23.76\" x=\"186.12\" y=\"757.68\"/><circle cx=\"184.8\" cy=\"765.6\" fill=\"green\" r=\"1.32\" stroke=\"green\" stroke-width=\"0\"/><circle cx=\"211.2\" cy=\"765.6\" fill=\"green\" r=\"1.32\" stroke=\"green\" stroke-width=\"0\"/><text alignment-baseline=\"middle\" fill=\"white\" font-family=\"Futura\" font-size=\"9.24\" text-anchor=\"middle\" x=\"198.0\" y=\"766.92\">272</text><line stroke=\"red\" stroke-width=\"1.32\" x1=\"316.8\" x2=\"316.8\" y1=\"740.52\" y2=\"790.68\"/><text alignment-baseline=\"middle\" fill=\"black\" font-family=\"Futura\" font-size=\"9.24\" text-anchor=\"start\" x=\"374.88\" y=\"793.32\">45f</text><rect fill=\"red\" height=\"15.84\" width=\"23.76\" x=\"318.12\" y=\"784.08\"/><circle cx=\"316.8\" cy=\"792.0\" fill=\"red\" r=\"1.32\" stroke=\"red\" stroke-width=\"0\"/><circle cx=\"343.2\" cy=\"792.0\" fill=\"red\" r=\"1.32\" stroke=\"red\" stroke-width=\"0\"/><text alignment-baseline=\"middle\" fill=\"white\" font-family=\"Futura\" font-size=\"9.24\" text-anchor=\"middle\" x=\"330.0\" y=\"793.32\">277</text><rect fill=\"red\" height=\"15.84\" width=\"23.76\" x=\"344.52\" y=\"784.08\"/><circle cx=\"343.2\" cy=\"792.0\" fill=\"red\" r=\"1.32\" stroke=\"red\" stroke-width=\"0\"/><text alignment-baseline=\"middle\" fill=\"white\" font-family=\"Futura\" font-size=\"9.24\" text-anchor=\"middle\" x=\"356.4\" y=\"793.32\">281</text><line stroke=\"red\" stroke-width=\"1.32\" x1=\"211.2\" x2=\"211.2\" y1=\"714.12\" y2=\"817.08\"/><text alignment-baseline=\"middle\" fill=\"black\" font-family=\"Futura\" font-size=\"9.24\" text-anchor=\"start\" x=\"401.28\" y=\"819.72\">46f</text><rect fill=\"red\" height=\"15.84\" width=\"23.76\" x=\"212.52\" y=\"810.48\"/><circle cx=\"211.2\" cy=\"818.4\" fill=\"red\" r=\"1.32\" stroke=\"red\" stroke-width=\"0\"/><circle cx=\"237.6\" cy=\"818.4\" fill=\"red\" r=\"1.32\" stroke=\"red\" stroke-width=\"0\"/><text alignment-baseline=\"middle\" fill=\"white\" font-family=\"Futura\" font-size=\"9.24\" text-anchor=\"middle\" x=\"224.4\" y=\"819.72\">273</text><rect fill=\"red\" height=\"15.84\" width=\"23.76\" x=\"238.92\" y=\"810.48\"/><circle cx=\"237.6\" cy=\"818.4\" fill=\"red\" r=\"1.32\" stroke=\"red\" stroke-width=\"0\"/><circle cx=\"264.0\" cy=\"818.4\" fill=\"red\" r=\"1.32\" stroke=\"red\" stroke-width=\"0\"/><text alignment-baseline=\"middle\" fill=\"white\" font-family=\"Futura\" font-size=\"9.24\" text-anchor=\"middle\" x=\"250.8\" y=\"819.72\">282</text><rect fill=\"red\" height=\"15.84\" width=\"23.76\" x=\"265.32\" y=\"810.48\"/><circle cx=\"264.0\" cy=\"818.4\" fill=\"red\" r=\"1.32\" stroke=\"red\" stroke-width=\"0\"/><circle cx=\"290.4\" cy=\"818.4\" fill=\"red\" r=\"1.32\" stroke=\"red\" stroke-width=\"0\"/><text alignment-baseline=\"middle\" fill=\"white\" font-family=\"Futura\" font-size=\"9.24\" text-anchor=\"middle\" x=\"277.2\" y=\"819.72\">283</text><rect fill=\"red\" height=\"15.84\" width=\"23.76\" x=\"291.72\" y=\"810.48\"/><circle cx=\"290.4\" cy=\"818.4\" fill=\"red\" r=\"1.32\" stroke=\"red\" stroke-width=\"0\"/><circle cx=\"316.8\" cy=\"818.4\" fill=\"red\" r=\"1.32\" stroke=\"red\" stroke-width=\"0\"/><text alignment-baseline=\"middle\" fill=\"white\" font-family=\"Futura\" font-size=\"9.24\" text-anchor=\"middle\" x=\"303.6\" y=\"819.72\">284</text><rect fill=\"red\" height=\"15.84\" width=\"23.76\" x=\"318.12\" y=\"810.48\"/><circle cx=\"316.8\" cy=\"818.4\" fill=\"red\" r=\"1.32\" stroke=\"red\" stroke-width=\"0\"/><circle cx=\"343.2\" cy=\"818.4\" fill=\"red\" r=\"1.32\" stroke=\"red\" stroke-width=\"0\"/><text alignment-baseline=\"middle\" fill=\"white\" font-family=\"Futura\" font-size=\"9.24\" text-anchor=\"middle\" x=\"330.0\" y=\"819.72\">285</text><rect fill=\"red\" height=\"15.84\" width=\"23.76\" x=\"344.52\" y=\"810.48\"/><circle cx=\"343.2\" cy=\"818.4\" fill=\"red\" r=\"1.32\" stroke=\"red\" stroke-width=\"0\"/><circle cx=\"369.6\" cy=\"818.4\" fill=\"red\" r=\"1.32\" stroke=\"red\" stroke-width=\"0\"/><text alignment-baseline=\"middle\" fill=\"white\" font-family=\"Futura\" font-size=\"9.24\" text-anchor=\"middle\" x=\"356.4\" y=\"819.72\">286</text><rect fill=\"red\" height=\"15.84\" width=\"23.76\" x=\"370.92\" y=\"810.48\"/><circle cx=\"369.6\" cy=\"818.4\" fill=\"red\" r=\"1.32\" stroke=\"red\" stroke-width=\"0\"/><text alignment-baseline=\"middle\" fill=\"white\" font-family=\"Futura\" font-size=\"9.24\" text-anchor=\"middle\" x=\"382.8\" y=\"819.72\">287</text><line stroke=\"red\" stroke-width=\"1.32\" x1=\"211.2\" x2=\"211.2\" y1=\"819.72\" y2=\"843.48\"/><text alignment-baseline=\"middle\" fill=\"black\" font-family=\"Futura\" font-size=\"9.24\" text-anchor=\"start\" x=\"797.28\" y=\"846.12\">48f</text><rect fill=\"red\" height=\"15.84\" width=\"23.76\" x=\"212.52\" y=\"836.88\"/><circle cx=\"211.2\" cy=\"844.8\" fill=\"red\" r=\"1.32\" stroke=\"red\" stroke-width=\"0\"/><circle cx=\"237.6\" cy=\"844.8\" fill=\"red\" r=\"1.32\" stroke=\"red\" stroke-width=\"0\"/><text alignment-baseline=\"middle\" fill=\"white\" font-family=\"Futura\" font-size=\"9.24\" text-anchor=\"middle\" x=\"224.4\" y=\"846.12\">273</text><rect fill=\"red\" height=\"15.84\" width=\"23.76\" x=\"238.92\" y=\"836.88\"/><circle cx=\"237.6\" cy=\"844.8\" fill=\"red\" r=\"1.32\" stroke=\"red\" stroke-width=\"0\"/><circle cx=\"264.0\" cy=\"844.8\" fill=\"red\" r=\"1.32\" stroke=\"red\" stroke-width=\"0\"/><text alignment-baseline=\"middle\" fill=\"white\" font-family=\"Futura\" font-size=\"9.24\" text-anchor=\"middle\" x=\"250.8\" y=\"846.12\">293</text><rect fill=\"red\" height=\"15.84\" width=\"23.76\" x=\"265.32\" y=\"836.88\"/><circle cx=\"264.0\" cy=\"844.8\" fill=\"red\" r=\"1.32\" stroke=\"red\" stroke-width=\"0\"/><circle cx=\"290.4\" cy=\"844.8\" fill=\"red\" r=\"1.32\" stroke=\"red\" stroke-width=\"0\"/><text alignment-baseline=\"middle\" fill=\"white\" font-family=\"Futura\" font-size=\"9.24\" text-anchor=\"middle\" x=\"277.2\" y=\"846.12\">294</text><rect fill=\"red\" height=\"15.84\" width=\"23.76\" x=\"291.72\" y=\"836.88\"/><circle cx=\"290.4\" cy=\"844.8\" fill=\"red\" r=\"1.32\" stroke=\"red\" stroke-width=\"0\"/><circle cx=\"316.8\" cy=\"844.8\" fill=\"red\" r=\"1.32\" stroke=\"red\" stroke-width=\"0\"/><text alignment-baseline=\"middle\" fill=\"white\" font-family=\"Futura\" font-size=\"9.24\" text-anchor=\"middle\" x=\"303.6\" y=\"846.12\">295</text><rect fill=\"red\" height=\"15.84\" width=\"23.76\" x=\"318.12\" y=\"836.88\"/><circle cx=\"316.8\" cy=\"844.8\" fill=\"red\" r=\"1.32\" stroke=\"red\" stroke-width=\"0\"/><circle cx=\"343.2\" cy=\"844.8\" fill=\"red\" r=\"1.32\" stroke=\"red\" stroke-width=\"0\"/><text alignment-baseline=\"middle\" fill=\"white\" font-family=\"Futura\" font-size=\"9.24\" text-anchor=\"middle\" x=\"330.0\" y=\"846.12\">296</text><rect fill=\"red\" height=\"15.84\" width=\"23.76\" x=\"344.52\" y=\"836.88\"/><circle cx=\"343.2\" cy=\"844.8\" fill=\"red\" r=\"1.32\" stroke=\"red\" stroke-width=\"0\"/><circle cx=\"369.6\" cy=\"844.8\" fill=\"red\" r=\"1.32\" stroke=\"red\" stroke-width=\"0\"/><text alignment-baseline=\"middle\" fill=\"white\" font-family=\"Futura\" font-size=\"9.24\" text-anchor=\"middle\" x=\"356.4\" y=\"846.12\">297</text><rect fill=\"red\" height=\"15.84\" width=\"23.76\" x=\"370.92\" y=\"836.88\"/><circle cx=\"369.6\" cy=\"844.8\" fill=\"red\" r=\"1.32\" stroke=\"red\" stroke-width=\"0\"/><circle cx=\"396.0\" cy=\"844.8\" fill=\"red\" r=\"1.32\" stroke=\"red\" stroke-width=\"0\"/><text alignment-baseline=\"middle\" fill=\"white\" font-family=\"Futura\" font-size=\"9.24\" text-anchor=\"middle\" x=\"382.8\" y=\"846.12\">298</text><rect fill=\"red\" height=\"15.84\" width=\"23.76\" x=\"397.32\" y=\"836.88\"/><circle cx=\"396.0\" cy=\"844.8\" fill=\"red\" r=\"1.32\" stroke=\"red\" stroke-width=\"0\"/><circle cx=\"422.4\" cy=\"844.8\" fill=\"red\" r=\"1.32\" stroke=\"red\" stroke-width=\"0\"/><text alignment-baseline=\"middle\" fill=\"white\" font-family=\"Futura\" font-size=\"9.24\" text-anchor=\"middle\" x=\"409.2\" y=\"846.12\">299</text><rect fill=\"red\" height=\"15.84\" width=\"23.76\" x=\"423.72\" y=\"836.88\"/><circle cx=\"422.4\" cy=\"844.8\" fill=\"red\" r=\"1.32\" stroke=\"red\" stroke-width=\"0\"/><circle cx=\"448.8\" cy=\"844.8\" fill=\"red\" r=\"1.32\" stroke=\"red\" stroke-width=\"0\"/><text alignment-baseline=\"middle\" fill=\"white\" font-family=\"Futura\" font-size=\"9.24\" text-anchor=\"middle\" x=\"435.6\" y=\"846.12\">300</text><rect fill=\"red\" height=\"15.84\" width=\"23.76\" x=\"450.12\" y=\"836.88\"/><circle cx=\"448.8\" cy=\"844.8\" fill=\"red\" r=\"1.32\" stroke=\"red\" stroke-width=\"0\"/><circle cx=\"475.2\" cy=\"844.8\" fill=\"red\" r=\"1.32\" stroke=\"red\" stroke-width=\"0\"/><text alignment-baseline=\"middle\" fill=\"white\" font-family=\"Futura\" font-size=\"9.24\" text-anchor=\"middle\" x=\"462.0\" y=\"846.12\">301</text><rect fill=\"red\" height=\"15.84\" width=\"23.76\" x=\"476.52\" y=\"836.88\"/><circle cx=\"475.2\" cy=\"844.8\" fill=\"red\" r=\"1.32\" stroke=\"red\" stroke-width=\"0\"/><circle cx=\"501.6\" cy=\"844.8\" fill=\"red\" r=\"1.32\" stroke=\"red\" stroke-width=\"0\"/><text alignment-baseline=\"middle\" fill=\"white\" font-family=\"Futura\" font-size=\"9.24\" text-anchor=\"middle\" x=\"488.4\" y=\"846.12\">302</text><rect fill=\"red\" height=\"15.84\" width=\"23.76\" x=\"502.92\" y=\"836.88\"/><circle cx=\"501.6\" cy=\"844.8\" fill=\"red\" r=\"1.32\" stroke=\"red\" stroke-width=\"0\"/><circle cx=\"528.0\" cy=\"844.8\" fill=\"red\" r=\"1.32\" stroke=\"red\" stroke-width=\"0\"/><text alignment-baseline=\"middle\" fill=\"white\" font-family=\"Futura\" font-size=\"9.24\" text-anchor=\"middle\" x=\"514.8\" y=\"846.12\">303</text><rect fill=\"red\" height=\"15.84\" width=\"23.76\" x=\"529.32\" y=\"836.88\"/><circle cx=\"528.0\" cy=\"844.8\" fill=\"red\" r=\"1.32\" stroke=\"red\" stroke-width=\"0\"/><circle cx=\"554.4\" cy=\"844.8\" fill=\"red\" r=\"1.32\" stroke=\"red\" stroke-width=\"0\"/><text alignment-baseline=\"middle\" fill=\"white\" font-family=\"Futura\" font-size=\"9.24\" text-anchor=\"middle\" x=\"541.2\" y=\"846.12\">304</text><rect fill=\"red\" height=\"15.84\" width=\"23.76\" x=\"555.72\" y=\"836.88\"/><circle cx=\"554.4\" cy=\"844.8\" fill=\"red\" r=\"1.32\" stroke=\"red\" stroke-width=\"0\"/><circle cx=\"580.8\" cy=\"844.8\" fill=\"red\" r=\"1.32\" stroke=\"red\" stroke-width=\"0\"/><text alignment-baseline=\"middle\" fill=\"white\" font-family=\"Futura\" font-size=\"9.24\" text-anchor=\"middle\" x=\"567.6\" y=\"846.12\">305</text><rect fill=\"red\" height=\"15.84\" width=\"23.76\" x=\"582.12\" y=\"836.88\"/><circle cx=\"580.8\" cy=\"844.8\" fill=\"red\" r=\"1.32\" stroke=\"red\" stroke-width=\"0\"/><circle cx=\"607.2\" cy=\"844.8\" fill=\"red\" r=\"1.32\" stroke=\"red\" stroke-width=\"0\"/><text alignment-baseline=\"middle\" fill=\"white\" font-family=\"Futura\" font-size=\"9.24\" text-anchor=\"middle\" x=\"594.0\" y=\"846.12\">306</text><rect fill=\"red\" height=\"15.84\" width=\"23.76\" x=\"608.52\" y=\"836.88\"/><circle cx=\"607.2\" cy=\"844.8\" fill=\"red\" r=\"1.32\" stroke=\"red\" stroke-width=\"0\"/><circle cx=\"633.6\" cy=\"844.8\" fill=\"red\" r=\"1.32\" stroke=\"red\" stroke-width=\"0\"/><text alignment-baseline=\"middle\" fill=\"white\" font-family=\"Futura\" font-size=\"9.24\" text-anchor=\"middle\" x=\"620.4\" y=\"846.12\">307</text><rect fill=\"red\" height=\"15.84\" width=\"23.76\" x=\"634.92\" y=\"836.88\"/><circle cx=\"633.6\" cy=\"844.8\" fill=\"red\" r=\"1.32\" stroke=\"red\" stroke-width=\"0\"/><circle cx=\"660.0\" cy=\"844.8\" fill=\"red\" r=\"1.32\" stroke=\"red\" stroke-width=\"0\"/><text alignment-baseline=\"middle\" fill=\"white\" font-family=\"Futura\" font-size=\"9.24\" text-anchor=\"middle\" x=\"646.8\" y=\"846.12\">308</text><rect fill=\"red\" height=\"15.84\" width=\"23.76\" x=\"661.32\" y=\"836.88\"/><circle cx=\"660.0\" cy=\"844.8\" fill=\"red\" r=\"1.32\" stroke=\"red\" stroke-width=\"0\"/><circle cx=\"686.4\" cy=\"844.8\" fill=\"red\" r=\"1.32\" stroke=\"red\" stroke-width=\"0\"/><text alignment-baseline=\"middle\" fill=\"white\" font-family=\"Futura\" font-size=\"9.24\" text-anchor=\"middle\" x=\"673.2\" y=\"846.12\">309</text><rect fill=\"red\" height=\"15.84\" width=\"23.76\" x=\"687.72\" y=\"836.88\"/><circle cx=\"686.4\" cy=\"844.8\" fill=\"red\" r=\"1.32\" stroke=\"red\" stroke-width=\"0\"/><circle cx=\"712.8\" cy=\"844.8\" fill=\"red\" r=\"1.32\" stroke=\"red\" stroke-width=\"0\"/><text alignment-baseline=\"middle\" fill=\"white\" font-family=\"Futura\" font-size=\"9.24\" text-anchor=\"middle\" x=\"699.6\" y=\"846.12\">310</text><rect fill=\"red\" height=\"15.84\" width=\"23.76\" x=\"714.12\" y=\"836.88\"/><circle cx=\"712.8\" cy=\"844.8\" fill=\"red\" r=\"1.32\" stroke=\"red\" stroke-width=\"0\"/><circle cx=\"739.2\" cy=\"844.8\" fill=\"red\" r=\"1.32\" stroke=\"red\" stroke-width=\"0\"/><text alignment-baseline=\"middle\" fill=\"white\" font-family=\"Futura\" font-size=\"9.24\" text-anchor=\"middle\" x=\"726.0\" y=\"846.12\">311</text><rect fill=\"red\" height=\"15.84\" width=\"23.76\" x=\"740.52\" y=\"836.88\"/><circle cx=\"739.2\" cy=\"844.8\" fill=\"red\" r=\"1.32\" stroke=\"red\" stroke-width=\"0\"/><circle cx=\"765.6\" cy=\"844.8\" fill=\"red\" r=\"1.32\" stroke=\"red\" stroke-width=\"0\"/><text alignment-baseline=\"middle\" fill=\"white\" font-family=\"Futura\" font-size=\"9.24\" text-anchor=\"middle\" x=\"752.4\" y=\"846.12\">312</text><rect fill=\"red\" height=\"15.84\" width=\"23.76\" x=\"766.92\" y=\"836.88\"/><circle cx=\"765.6\" cy=\"844.8\" fill=\"red\" r=\"1.32\" stroke=\"red\" stroke-width=\"0\"/><text alignment-baseline=\"middle\" fill=\"white\" font-family=\"Futura\" font-size=\"9.24\" text-anchor=\"middle\" x=\"778.8\" y=\"846.12\">313</text><line stroke=\"green\" stroke-width=\"1.32\" x1=\"554.4\" x2=\"554.4\" y1=\"846.12\" y2=\"869.88\"/><text alignment-baseline=\"middle\" fill=\"black\" font-family=\"Futura\" font-size=\"9.24\" text-anchor=\"end\" x=\"364.32\" y=\"872.52\">49b</text><rect fill=\"green\" height=\"15.84\" width=\"23.76\" x=\"370.92\" y=\"863.28\"/><circle cx=\"396.0\" cy=\"871.2\" fill=\"green\" r=\"1.32\" stroke=\"green\" stroke-width=\"0\"/><text alignment-baseline=\"middle\" fill=\"white\" font-family=\"Futura\" font-size=\"9.24\" text-anchor=\"middle\" x=\"382.8\" y=\"872.52\">314</text><rect fill=\"green\" height=\"15.84\" width=\"23.76\" x=\"397.32\" y=\"863.28\"/><circle cx=\"396.0\" cy=\"871.2\" fill=\"green\" r=\"1.32\" stroke=\"green\" stroke-width=\"0\"/><circle cx=\"422.4\" cy=\"871.2\" fill=\"green\" r=\"1.32\" stroke=\"green\" stroke-width=\"0\"/><text alignment-baseline=\"middle\" fill=\"white\" font-family=\"Futura\" font-size=\"9.24\" text-anchor=\"middle\" x=\"409.2\" y=\"872.52\">315</text><rect fill=\"green\" height=\"15.84\" width=\"23.76\" x=\"423.72\" y=\"863.28\"/><circle cx=\"422.4\" cy=\"871.2\" fill=\"green\" r=\"1.32\" stroke=\"green\" stroke-width=\"0\"/><circle cx=\"448.8\" cy=\"871.2\" fill=\"green\" r=\"1.32\" stroke=\"green\" stroke-width=\"0\"/><text alignment-baseline=\"middle\" fill=\"white\" font-family=\"Futura\" font-size=\"9.24\" text-anchor=\"middle\" x=\"435.6\" y=\"872.52\">316</text><rect fill=\"green\" height=\"15.84\" width=\"23.76\" x=\"450.12\" y=\"863.28\"/><circle cx=\"448.8\" cy=\"871.2\" fill=\"green\" r=\"1.32\" stroke=\"green\" stroke-width=\"0\"/><circle cx=\"475.2\" cy=\"871.2\" fill=\"green\" r=\"1.32\" stroke=\"green\" stroke-width=\"0\"/><text alignment-baseline=\"middle\" fill=\"white\" font-family=\"Futura\" font-size=\"9.24\" text-anchor=\"middle\" x=\"462.0\" y=\"872.52\">317</text><rect fill=\"green\" height=\"15.84\" width=\"23.76\" x=\"476.52\" y=\"863.28\"/><circle cx=\"475.2\" cy=\"871.2\" fill=\"green\" r=\"1.32\" stroke=\"green\" stroke-width=\"0\"/><circle cx=\"501.6\" cy=\"871.2\" fill=\"green\" r=\"1.32\" stroke=\"green\" stroke-width=\"0\"/><text alignment-baseline=\"middle\" fill=\"white\" font-family=\"Futura\" font-size=\"9.24\" text-anchor=\"middle\" x=\"488.4\" y=\"872.52\">318</text><rect fill=\"green\" height=\"15.84\" width=\"23.76\" x=\"502.92\" y=\"863.28\"/><circle cx=\"501.6\" cy=\"871.2\" fill=\"green\" r=\"1.32\" stroke=\"green\" stroke-width=\"0\"/><circle cx=\"528.0\" cy=\"871.2\" fill=\"green\" r=\"1.32\" stroke=\"green\" stroke-width=\"0\"/><text alignment-baseline=\"middle\" fill=\"white\" font-family=\"Futura\" font-size=\"9.24\" text-anchor=\"middle\" x=\"514.8\" y=\"872.52\">319</text><rect fill=\"green\" height=\"15.84\" width=\"23.76\" x=\"529.32\" y=\"863.28\"/><circle cx=\"528.0\" cy=\"871.2\" fill=\"green\" r=\"1.32\" stroke=\"green\" stroke-width=\"0\"/><circle cx=\"554.4\" cy=\"871.2\" fill=\"green\" r=\"1.32\" stroke=\"green\" stroke-width=\"0\"/><text alignment-baseline=\"middle\" fill=\"white\" font-family=\"Futura\" font-size=\"9.24\" text-anchor=\"middle\" x=\"541.2\" y=\"872.52\">304</text><line stroke=\"red\" stroke-width=\"1.32\" x1=\"396.0\" x2=\"396.0\" y1=\"872.52\" y2=\"896.28\"/><text alignment-baseline=\"middle\" fill=\"black\" font-family=\"Futura\" font-size=\"9.24\" text-anchor=\"start\" x=\"1430.88\" y=\"898.92\">50f</text><rect fill=\"red\" height=\"15.84\" width=\"23.76\" x=\"397.32\" y=\"889.68\"/><circle cx=\"396.0\" cy=\"897.6\" fill=\"red\" r=\"1.32\" stroke=\"red\" stroke-width=\"0\"/><circle cx=\"422.4\" cy=\"897.6\" fill=\"red\" r=\"1.32\" stroke=\"red\" stroke-width=\"0\"/><text alignment-baseline=\"middle\" fill=\"white\" font-family=\"Futura\" font-size=\"9.24\" text-anchor=\"middle\" x=\"409.2\" y=\"898.92\">315</text><rect fill=\"red\" height=\"15.84\" width=\"23.76\" x=\"423.72\" y=\"889.68\"/><circle cx=\"422.4\" cy=\"897.6\" fill=\"red\" r=\"1.32\" stroke=\"red\" stroke-width=\"0\"/><circle cx=\"448.8\" cy=\"897.6\" fill=\"red\" r=\"1.32\" stroke=\"red\" stroke-width=\"0\"/><text alignment-baseline=\"middle\" fill=\"white\" font-family=\"Futura\" font-size=\"9.24\" text-anchor=\"middle\" x=\"435.6\" y=\"898.92\">320</text><rect fill=\"red\" height=\"15.84\" width=\"23.76\" x=\"450.12\" y=\"889.68\"/><circle cx=\"448.8\" cy=\"897.6\" fill=\"red\" r=\"1.32\" stroke=\"red\" stroke-width=\"0\"/><circle cx=\"475.2\" cy=\"897.6\" fill=\"red\" r=\"1.32\" stroke=\"red\" stroke-width=\"0\"/><text alignment-baseline=\"middle\" fill=\"white\" font-family=\"Futura\" font-size=\"9.24\" text-anchor=\"middle\" x=\"462.0\" y=\"898.92\">321</text><rect fill=\"red\" height=\"15.84\" width=\"23.76\" x=\"476.52\" y=\"889.68\"/><circle cx=\"475.2\" cy=\"897.6\" fill=\"red\" r=\"1.32\" stroke=\"red\" stroke-width=\"0\"/><circle cx=\"501.6\" cy=\"897.6\" fill=\"red\" r=\"1.32\" stroke=\"red\" stroke-width=\"0\"/><text alignment-baseline=\"middle\" fill=\"white\" font-family=\"Futura\" font-size=\"9.24\" text-anchor=\"middle\" x=\"488.4\" y=\"898.92\">322</text><rect fill=\"red\" height=\"15.84\" width=\"23.76\" x=\"502.92\" y=\"889.68\"/><circle cx=\"501.6\" cy=\"897.6\" fill=\"red\" r=\"1.32\" stroke=\"red\" stroke-width=\"0\"/><circle cx=\"528.0\" cy=\"897.6\" fill=\"red\" r=\"1.32\" stroke=\"red\" stroke-width=\"0\"/><text alignment-baseline=\"middle\" fill=\"white\" font-family=\"Futura\" font-size=\"9.24\" text-anchor=\"middle\" x=\"514.8\" y=\"898.92\">323</text><rect fill=\"red\" height=\"15.84\" width=\"23.76\" x=\"529.32\" y=\"889.68\"/><circle cx=\"528.0\" cy=\"897.6\" fill=\"red\" r=\"1.32\" stroke=\"red\" stroke-width=\"0\"/><circle cx=\"554.4\" cy=\"897.6\" fill=\"red\" r=\"1.32\" stroke=\"red\" stroke-width=\"0\"/><text alignment-baseline=\"middle\" fill=\"white\" font-family=\"Futura\" font-size=\"9.24\" text-anchor=\"middle\" x=\"541.2\" y=\"898.92\">324</text><rect fill=\"red\" height=\"15.84\" width=\"23.76\" x=\"555.72\" y=\"889.68\"/><circle cx=\"554.4\" cy=\"897.6\" fill=\"red\" r=\"1.32\" stroke=\"red\" stroke-width=\"0\"/><circle cx=\"580.8\" cy=\"897.6\" fill=\"red\" r=\"1.32\" stroke=\"red\" stroke-width=\"0\"/><text alignment-baseline=\"middle\" fill=\"white\" font-family=\"Futura\" font-size=\"9.24\" text-anchor=\"middle\" x=\"567.6\" y=\"898.92\">325</text><rect fill=\"red\" height=\"15.84\" width=\"23.76\" x=\"582.12\" y=\"889.68\"/><circle cx=\"580.8\" cy=\"897.6\" fill=\"red\" r=\"1.32\" stroke=\"red\" stroke-width=\"0\"/><circle cx=\"607.2\" cy=\"897.6\" fill=\"red\" r=\"1.32\" stroke=\"red\" stroke-width=\"0\"/><text alignment-baseline=\"middle\" fill=\"white\" font-family=\"Futura\" font-size=\"9.24\" text-anchor=\"middle\" x=\"594.0\" y=\"898.92\">326</text><rect fill=\"red\" height=\"15.84\" width=\"23.76\" x=\"608.52\" y=\"889.68\"/><circle cx=\"607.2\" cy=\"897.6\" fill=\"red\" r=\"1.32\" stroke=\"red\" stroke-width=\"0\"/><circle cx=\"633.6\" cy=\"897.6\" fill=\"red\" r=\"1.32\" stroke=\"red\" stroke-width=\"0\"/><text alignment-baseline=\"middle\" fill=\"white\" font-family=\"Futura\" font-size=\"9.24\" text-anchor=\"middle\" x=\"620.4\" y=\"898.92\">327</text><rect fill=\"red\" height=\"15.84\" width=\"23.76\" x=\"634.92\" y=\"889.68\"/><circle cx=\"633.6\" cy=\"897.6\" fill=\"red\" r=\"1.32\" stroke=\"red\" stroke-width=\"0\"/><circle cx=\"660.0\" cy=\"897.6\" fill=\"red\" r=\"1.32\" stroke=\"red\" stroke-width=\"0\"/><text alignment-baseline=\"middle\" fill=\"white\" font-family=\"Futura\" font-size=\"9.24\" text-anchor=\"middle\" x=\"646.8\" y=\"898.92\">328</text><rect fill=\"red\" height=\"15.84\" width=\"23.76\" x=\"661.32\" y=\"889.68\"/><circle cx=\"660.0\" cy=\"897.6\" fill=\"red\" r=\"1.32\" stroke=\"red\" stroke-width=\"0\"/><circle cx=\"686.4\" cy=\"897.6\" fill=\"red\" r=\"1.32\" stroke=\"red\" stroke-width=\"0\"/><text alignment-baseline=\"middle\" fill=\"white\" font-family=\"Futura\" font-size=\"9.24\" text-anchor=\"middle\" x=\"673.2\" y=\"898.92\">329</text><rect fill=\"red\" height=\"15.84\" width=\"23.76\" x=\"687.72\" y=\"889.68\"/><circle cx=\"686.4\" cy=\"897.6\" fill=\"red\" r=\"1.32\" stroke=\"red\" stroke-width=\"0\"/><circle cx=\"712.8\" cy=\"897.6\" fill=\"red\" r=\"1.32\" stroke=\"red\" stroke-width=\"0\"/><text alignment-baseline=\"middle\" fill=\"white\" font-family=\"Futura\" font-size=\"9.24\" text-anchor=\"middle\" x=\"699.6\" y=\"898.92\">330</text><rect fill=\"red\" height=\"15.84\" width=\"23.76\" x=\"714.12\" y=\"889.68\"/><circle cx=\"712.8\" cy=\"897.6\" fill=\"red\" r=\"1.32\" stroke=\"red\" stroke-width=\"0\"/><circle cx=\"739.2\" cy=\"897.6\" fill=\"red\" r=\"1.32\" stroke=\"red\" stroke-width=\"0\"/><text alignment-baseline=\"middle\" fill=\"white\" font-family=\"Futura\" font-size=\"9.24\" text-anchor=\"middle\" x=\"726.0\" y=\"898.92\">331</text><rect fill=\"red\" height=\"15.84\" width=\"23.76\" x=\"740.52\" y=\"889.68\"/><circle cx=\"739.2\" cy=\"897.6\" fill=\"red\" r=\"1.32\" stroke=\"red\" stroke-width=\"0\"/><circle cx=\"765.6\" cy=\"897.6\" fill=\"red\" r=\"1.32\" stroke=\"red\" stroke-width=\"0\"/><text alignment-baseline=\"middle\" fill=\"white\" font-family=\"Futura\" font-size=\"9.24\" text-anchor=\"middle\" x=\"752.4\" y=\"898.92\">332</text><rect fill=\"red\" height=\"15.84\" width=\"23.76\" x=\"766.92\" y=\"889.68\"/><circle cx=\"765.6\" cy=\"897.6\" fill=\"red\" r=\"1.32\" stroke=\"red\" stroke-width=\"0\"/><circle cx=\"792.0\" cy=\"897.6\" fill=\"red\" r=\"1.32\" stroke=\"red\" stroke-width=\"0\"/><text alignment-baseline=\"middle\" fill=\"white\" font-family=\"Futura\" font-size=\"9.24\" text-anchor=\"middle\" x=\"778.8\" y=\"898.92\">333</text><rect fill=\"red\" height=\"15.84\" width=\"23.76\" x=\"793.32\" y=\"889.68\"/><circle cx=\"792.0\" cy=\"897.6\" fill=\"red\" r=\"1.32\" stroke=\"red\" stroke-width=\"0\"/><circle cx=\"818.4\" cy=\"897.6\" fill=\"red\" r=\"1.32\" stroke=\"red\" stroke-width=\"0\"/><text alignment-baseline=\"middle\" fill=\"white\" font-family=\"Futura\" font-size=\"9.24\" text-anchor=\"middle\" x=\"805.2\" y=\"898.92\">334</text><rect fill=\"red\" height=\"15.84\" width=\"23.76\" x=\"819.72\" y=\"889.68\"/><circle cx=\"818.4\" cy=\"897.6\" fill=\"red\" r=\"1.32\" stroke=\"red\" stroke-width=\"0\"/><circle cx=\"844.8\" cy=\"897.6\" fill=\"red\" r=\"1.32\" stroke=\"red\" stroke-width=\"0\"/><text alignment-baseline=\"middle\" fill=\"white\" font-family=\"Futura\" font-size=\"9.24\" text-anchor=\"middle\" x=\"831.6\" y=\"898.92\">335</text><rect fill=\"red\" height=\"15.84\" width=\"23.76\" x=\"846.12\" y=\"889.68\"/><circle cx=\"844.8\" cy=\"897.6\" fill=\"red\" r=\"1.32\" stroke=\"red\" stroke-width=\"0\"/><circle cx=\"871.2\" cy=\"897.6\" fill=\"red\" r=\"1.32\" stroke=\"red\" stroke-width=\"0\"/><text alignment-baseline=\"middle\" fill=\"white\" font-family=\"Futura\" font-size=\"9.24\" text-anchor=\"middle\" x=\"858.0\" y=\"898.92\">336</text><rect fill=\"red\" height=\"15.84\" width=\"23.76\" x=\"872.52\" y=\"889.68\"/><circle cx=\"871.2\" cy=\"897.6\" fill=\"red\" r=\"1.32\" stroke=\"red\" stroke-width=\"0\"/><circle cx=\"897.6\" cy=\"897.6\" fill=\"red\" r=\"1.32\" stroke=\"red\" stroke-width=\"0\"/><text alignment-baseline=\"middle\" fill=\"white\" font-family=\"Futura\" font-size=\"9.24\" text-anchor=\"middle\" x=\"884.4\" y=\"898.92\">337</text><rect fill=\"red\" height=\"15.84\" width=\"23.76\" x=\"898.92\" y=\"889.68\"/><circle cx=\"897.6\" cy=\"897.6\" fill=\"red\" r=\"1.32\" stroke=\"red\" stroke-width=\"0\"/><circle cx=\"924.0\" cy=\"897.6\" fill=\"red\" r=\"1.32\" stroke=\"red\" stroke-width=\"0\"/><text alignment-baseline=\"middle\" fill=\"white\" font-family=\"Futura\" font-size=\"9.24\" text-anchor=\"middle\" x=\"910.8\" y=\"898.92\">338</text><rect fill=\"red\" height=\"15.84\" width=\"23.76\" x=\"925.32\" y=\"889.68\"/><circle cx=\"924.0\" cy=\"897.6\" fill=\"red\" r=\"1.32\" stroke=\"red\" stroke-width=\"0\"/><circle cx=\"950.4\" cy=\"897.6\" fill=\"red\" r=\"1.32\" stroke=\"red\" stroke-width=\"0\"/><text alignment-baseline=\"middle\" fill=\"white\" font-family=\"Futura\" font-size=\"9.24\" text-anchor=\"middle\" x=\"937.2\" y=\"898.92\">339</text><rect fill=\"red\" height=\"15.84\" width=\"23.76\" x=\"951.72\" y=\"889.68\"/><circle cx=\"950.4\" cy=\"897.6\" fill=\"red\" r=\"1.32\" stroke=\"red\" stroke-width=\"0\"/><circle cx=\"976.8\" cy=\"897.6\" fill=\"red\" r=\"1.32\" stroke=\"red\" stroke-width=\"0\"/><text alignment-baseline=\"middle\" fill=\"white\" font-family=\"Futura\" font-size=\"9.24\" text-anchor=\"middle\" x=\"963.6\" y=\"898.92\">340</text><rect fill=\"red\" height=\"15.84\" width=\"23.76\" x=\"978.12\" y=\"889.68\"/><circle cx=\"976.8\" cy=\"897.6\" fill=\"red\" r=\"1.32\" stroke=\"red\" stroke-width=\"0\"/><circle cx=\"1003.2\" cy=\"897.6\" fill=\"red\" r=\"1.32\" stroke=\"red\" stroke-width=\"0\"/><text alignment-baseline=\"middle\" fill=\"white\" font-family=\"Futura\" font-size=\"9.24\" text-anchor=\"middle\" x=\"990.0\" y=\"898.92\">341</text><rect fill=\"red\" height=\"15.84\" width=\"23.76\" x=\"1004.52\" y=\"889.68\"/><circle cx=\"1003.2\" cy=\"897.6\" fill=\"red\" r=\"1.32\" stroke=\"red\" stroke-width=\"0\"/><circle cx=\"1029.6\" cy=\"897.6\" fill=\"red\" r=\"1.32\" stroke=\"red\" stroke-width=\"0\"/><text alignment-baseline=\"middle\" fill=\"white\" font-family=\"Futura\" font-size=\"9.24\" text-anchor=\"middle\" x=\"1016.4\" y=\"898.92\">342</text><rect fill=\"red\" height=\"15.84\" width=\"23.76\" x=\"1030.92\" y=\"889.68\"/><circle cx=\"1029.6\" cy=\"897.6\" fill=\"red\" r=\"1.32\" stroke=\"red\" stroke-width=\"0\"/><circle cx=\"1056.0\" cy=\"897.6\" fill=\"red\" r=\"1.32\" stroke=\"red\" stroke-width=\"0\"/><text alignment-baseline=\"middle\" fill=\"white\" font-family=\"Futura\" font-size=\"9.24\" text-anchor=\"middle\" x=\"1042.8\" y=\"898.92\">343</text><rect fill=\"red\" height=\"15.84\" width=\"23.76\" x=\"1057.32\" y=\"889.68\"/><circle cx=\"1056.0\" cy=\"897.6\" fill=\"red\" r=\"1.32\" stroke=\"red\" stroke-width=\"0\"/><circle cx=\"1082.4\" cy=\"897.6\" fill=\"red\" r=\"1.32\" stroke=\"red\" stroke-width=\"0\"/><text alignment-baseline=\"middle\" fill=\"white\" font-family=\"Futura\" font-size=\"9.24\" text-anchor=\"middle\" x=\"1069.2\" y=\"898.92\">344</text><rect fill=\"red\" height=\"15.84\" width=\"23.76\" x=\"1083.72\" y=\"889.68\"/><circle cx=\"1082.4\" cy=\"897.6\" fill=\"red\" r=\"1.32\" stroke=\"red\" stroke-width=\"0\"/><circle cx=\"1108.8\" cy=\"897.6\" fill=\"red\" r=\"1.32\" stroke=\"red\" stroke-width=\"0\"/><text alignment-baseline=\"middle\" fill=\"white\" font-family=\"Futura\" font-size=\"9.24\" text-anchor=\"middle\" x=\"1095.6\" y=\"898.92\">345</text><rect fill=\"red\" height=\"15.84\" width=\"23.76\" x=\"1110.12\" y=\"889.68\"/><circle cx=\"1108.8\" cy=\"897.6\" fill=\"red\" r=\"1.32\" stroke=\"red\" stroke-width=\"0\"/><circle cx=\"1135.2\" cy=\"897.6\" fill=\"red\" r=\"1.32\" stroke=\"red\" stroke-width=\"0\"/><text alignment-baseline=\"middle\" fill=\"white\" font-family=\"Futura\" font-size=\"9.24\" text-anchor=\"middle\" x=\"1122.0\" y=\"898.92\">346</text><rect fill=\"red\" height=\"15.84\" width=\"23.76\" x=\"1136.52\" y=\"889.68\"/><circle cx=\"1135.2\" cy=\"897.6\" fill=\"red\" r=\"1.32\" stroke=\"red\" stroke-width=\"0\"/><circle cx=\"1161.6\" cy=\"897.6\" fill=\"red\" r=\"1.32\" stroke=\"red\" stroke-width=\"0\"/><text alignment-baseline=\"middle\" fill=\"white\" font-family=\"Futura\" font-size=\"9.24\" text-anchor=\"middle\" x=\"1148.4\" y=\"898.92\">347</text><rect fill=\"red\" height=\"15.84\" width=\"23.76\" x=\"1162.92\" y=\"889.68\"/><circle cx=\"1161.6\" cy=\"897.6\" fill=\"red\" r=\"1.32\" stroke=\"red\" stroke-width=\"0\"/><circle cx=\"1188.0\" cy=\"897.6\" fill=\"red\" r=\"1.32\" stroke=\"red\" stroke-width=\"0\"/><text alignment-baseline=\"middle\" fill=\"white\" font-family=\"Futura\" font-size=\"9.24\" text-anchor=\"middle\" x=\"1174.8\" y=\"898.92\">348</text><rect fill=\"red\" height=\"15.84\" width=\"23.76\" x=\"1189.32\" y=\"889.68\"/><circle cx=\"1188.0\" cy=\"897.6\" fill=\"red\" r=\"1.32\" stroke=\"red\" stroke-width=\"0\"/><circle cx=\"1214.4\" cy=\"897.6\" fill=\"red\" r=\"1.32\" stroke=\"red\" stroke-width=\"0\"/><text alignment-baseline=\"middle\" fill=\"white\" font-family=\"Futura\" font-size=\"9.24\" text-anchor=\"middle\" x=\"1201.2\" y=\"898.92\">349</text><rect fill=\"red\" height=\"15.84\" width=\"23.76\" x=\"1215.72\" y=\"889.68\"/><circle cx=\"1214.4\" cy=\"897.6\" fill=\"red\" r=\"1.32\" stroke=\"red\" stroke-width=\"0\"/><circle cx=\"1240.8\" cy=\"897.6\" fill=\"red\" r=\"1.32\" stroke=\"red\" stroke-width=\"0\"/><text alignment-baseline=\"middle\" fill=\"white\" font-family=\"Futura\" font-size=\"9.24\" text-anchor=\"middle\" x=\"1227.6\" y=\"898.92\">350</text><rect fill=\"red\" height=\"15.84\" width=\"23.76\" x=\"1242.12\" y=\"889.68\"/><circle cx=\"1240.8\" cy=\"897.6\" fill=\"red\" r=\"1.32\" stroke=\"red\" stroke-width=\"0\"/><circle cx=\"1267.2\" cy=\"897.6\" fill=\"red\" r=\"1.32\" stroke=\"red\" stroke-width=\"0\"/><text alignment-baseline=\"middle\" fill=\"white\" font-family=\"Futura\" font-size=\"9.24\" text-anchor=\"middle\" x=\"1254.0\" y=\"898.92\">351</text><rect fill=\"red\" height=\"15.84\" width=\"23.76\" x=\"1268.52\" y=\"889.68\"/><circle cx=\"1267.2\" cy=\"897.6\" fill=\"red\" r=\"1.32\" stroke=\"red\" stroke-width=\"0\"/><circle cx=\"1293.6\" cy=\"897.6\" fill=\"red\" r=\"1.32\" stroke=\"red\" stroke-width=\"0\"/><text alignment-baseline=\"middle\" fill=\"white\" font-family=\"Futura\" font-size=\"9.24\" text-anchor=\"middle\" x=\"1280.4\" y=\"898.92\">352</text><rect fill=\"red\" height=\"15.84\" width=\"23.76\" x=\"1294.92\" y=\"889.68\"/><circle cx=\"1293.6\" cy=\"897.6\" fill=\"red\" r=\"1.32\" stroke=\"red\" stroke-width=\"0\"/><circle cx=\"1320.0\" cy=\"897.6\" fill=\"red\" r=\"1.32\" stroke=\"red\" stroke-width=\"0\"/><text alignment-baseline=\"middle\" fill=\"white\" font-family=\"Futura\" font-size=\"9.24\" text-anchor=\"middle\" x=\"1306.8\" y=\"898.92\">353</text><rect fill=\"red\" height=\"15.84\" width=\"23.76\" x=\"1321.32\" y=\"889.68\"/><circle cx=\"1320.0\" cy=\"897.6\" fill=\"red\" r=\"1.32\" stroke=\"red\" stroke-width=\"0\"/><circle cx=\"1346.4\" cy=\"897.6\" fill=\"red\" r=\"1.32\" stroke=\"red\" stroke-width=\"0\"/><text alignment-baseline=\"middle\" fill=\"white\" font-family=\"Futura\" font-size=\"9.24\" text-anchor=\"middle\" x=\"1333.2\" y=\"898.92\">354</text><rect fill=\"red\" height=\"15.84\" width=\"23.76\" x=\"1347.72\" y=\"889.68\"/><circle cx=\"1346.4\" cy=\"897.6\" fill=\"red\" r=\"1.32\" stroke=\"red\" stroke-width=\"0\"/><circle cx=\"1372.8\" cy=\"897.6\" fill=\"red\" r=\"1.32\" stroke=\"red\" stroke-width=\"0\"/><text alignment-baseline=\"middle\" fill=\"white\" font-family=\"Futura\" font-size=\"9.24\" text-anchor=\"middle\" x=\"1359.6\" y=\"898.92\">355</text><rect fill=\"red\" height=\"15.84\" width=\"23.76\" x=\"1374.12\" y=\"889.68\"/><circle cx=\"1372.8\" cy=\"897.6\" fill=\"red\" r=\"1.32\" stroke=\"red\" stroke-width=\"0\"/><circle cx=\"1399.2\" cy=\"897.6\" fill=\"red\" r=\"1.32\" stroke=\"red\" stroke-width=\"0\"/><text alignment-baseline=\"middle\" fill=\"white\" font-family=\"Futura\" font-size=\"9.24\" text-anchor=\"middle\" x=\"1386.0\" y=\"898.92\">356</text><rect fill=\"red\" height=\"15.84\" width=\"23.76\" x=\"1400.52\" y=\"889.68\"/><circle cx=\"1399.2\" cy=\"897.6\" fill=\"red\" r=\"1.32\" stroke=\"red\" stroke-width=\"0\"/><text alignment-baseline=\"middle\" fill=\"white\" font-family=\"Futura\" font-size=\"9.24\" text-anchor=\"middle\" x=\"1412.4\" y=\"898.92\">357</text><line stroke=\"red\" stroke-width=\"1.32\" x1=\"633.6\" x2=\"633.6\" y1=\"898.92\" y2=\"922.68\"/><text alignment-baseline=\"middle\" fill=\"black\" font-family=\"Futura\" font-size=\"9.24\" text-anchor=\"start\" x=\"1378.08\" y=\"925.32\">51f</text><rect fill=\"red\" height=\"15.84\" width=\"23.76\" x=\"634.92\" y=\"916.08\"/><circle cx=\"633.6\" cy=\"924.0\" fill=\"red\" r=\"1.32\" stroke=\"red\" stroke-width=\"0\"/><circle cx=\"660.0\" cy=\"924.0\" fill=\"red\" r=\"1.32\" stroke=\"red\" stroke-width=\"0\"/><text alignment-baseline=\"middle\" fill=\"white\" font-family=\"Futura\" font-size=\"9.24\" text-anchor=\"middle\" x=\"646.8\" y=\"925.32\">328</text><rect fill=\"red\" height=\"15.84\" width=\"23.76\" x=\"661.32\" y=\"916.08\"/><circle cx=\"660.0\" cy=\"924.0\" fill=\"red\" r=\"1.32\" stroke=\"red\" stroke-width=\"0\"/><circle cx=\"686.4\" cy=\"924.0\" fill=\"red\" r=\"1.32\" stroke=\"red\" stroke-width=\"0\"/><text alignment-baseline=\"middle\" fill=\"white\" font-family=\"Futura\" font-size=\"9.24\" text-anchor=\"middle\" x=\"673.2\" y=\"925.32\">358</text><rect fill=\"red\" height=\"15.84\" width=\"23.76\" x=\"687.72\" y=\"916.08\"/><circle cx=\"686.4\" cy=\"924.0\" fill=\"red\" r=\"1.32\" stroke=\"red\" stroke-width=\"0\"/><circle cx=\"712.8\" cy=\"924.0\" fill=\"red\" r=\"1.32\" stroke=\"red\" stroke-width=\"0\"/><text alignment-baseline=\"middle\" fill=\"white\" font-family=\"Futura\" font-size=\"9.24\" text-anchor=\"middle\" x=\"699.6\" y=\"925.32\">359</text><rect fill=\"red\" height=\"15.84\" width=\"23.76\" x=\"714.12\" y=\"916.08\"/><circle cx=\"712.8\" cy=\"924.0\" fill=\"red\" r=\"1.32\" stroke=\"red\" stroke-width=\"0\"/><circle cx=\"739.2\" cy=\"924.0\" fill=\"red\" r=\"1.32\" stroke=\"red\" stroke-width=\"0\"/><text alignment-baseline=\"middle\" fill=\"white\" font-family=\"Futura\" font-size=\"9.24\" text-anchor=\"middle\" x=\"726.0\" y=\"925.32\">360</text><rect fill=\"red\" height=\"15.84\" width=\"23.76\" x=\"740.52\" y=\"916.08\"/><circle cx=\"739.2\" cy=\"924.0\" fill=\"red\" r=\"1.32\" stroke=\"red\" stroke-width=\"0\"/><circle cx=\"765.6\" cy=\"924.0\" fill=\"red\" r=\"1.32\" stroke=\"red\" stroke-width=\"0\"/><text alignment-baseline=\"middle\" fill=\"white\" font-family=\"Futura\" font-size=\"9.24\" text-anchor=\"middle\" x=\"752.4\" y=\"925.32\">361</text><rect fill=\"red\" height=\"15.84\" width=\"23.76\" x=\"766.92\" y=\"916.08\"/><circle cx=\"765.6\" cy=\"924.0\" fill=\"red\" r=\"1.32\" stroke=\"red\" stroke-width=\"0\"/><circle cx=\"792.0\" cy=\"924.0\" fill=\"red\" r=\"1.32\" stroke=\"red\" stroke-width=\"0\"/><text alignment-baseline=\"middle\" fill=\"white\" font-family=\"Futura\" font-size=\"9.24\" text-anchor=\"middle\" x=\"778.8\" y=\"925.32\">362</text><rect fill=\"red\" height=\"15.84\" width=\"23.76\" x=\"793.32\" y=\"916.08\"/><circle cx=\"792.0\" cy=\"924.0\" fill=\"red\" r=\"1.32\" stroke=\"red\" stroke-width=\"0\"/><circle cx=\"818.4\" cy=\"924.0\" fill=\"red\" r=\"1.32\" stroke=\"red\" stroke-width=\"0\"/><text alignment-baseline=\"middle\" fill=\"white\" font-family=\"Futura\" font-size=\"9.24\" text-anchor=\"middle\" x=\"805.2\" y=\"925.32\">363</text><rect fill=\"red\" height=\"15.84\" width=\"23.76\" x=\"819.72\" y=\"916.08\"/><circle cx=\"818.4\" cy=\"924.0\" fill=\"red\" r=\"1.32\" stroke=\"red\" stroke-width=\"0\"/><circle cx=\"844.8\" cy=\"924.0\" fill=\"red\" r=\"1.32\" stroke=\"red\" stroke-width=\"0\"/><text alignment-baseline=\"middle\" fill=\"white\" font-family=\"Futura\" font-size=\"9.24\" text-anchor=\"middle\" x=\"831.6\" y=\"925.32\">364</text><rect fill=\"red\" height=\"15.84\" width=\"23.76\" x=\"846.12\" y=\"916.08\"/><circle cx=\"844.8\" cy=\"924.0\" fill=\"red\" r=\"1.32\" stroke=\"red\" stroke-width=\"0\"/><circle cx=\"871.2\" cy=\"924.0\" fill=\"red\" r=\"1.32\" stroke=\"red\" stroke-width=\"0\"/><text alignment-baseline=\"middle\" fill=\"white\" font-family=\"Futura\" font-size=\"9.24\" text-anchor=\"middle\" x=\"858.0\" y=\"925.32\">365</text><rect fill=\"red\" height=\"15.84\" width=\"23.76\" x=\"872.52\" y=\"916.08\"/><circle cx=\"871.2\" cy=\"924.0\" fill=\"red\" r=\"1.32\" stroke=\"red\" stroke-width=\"0\"/><circle cx=\"897.6\" cy=\"924.0\" fill=\"red\" r=\"1.32\" stroke=\"red\" stroke-width=\"0\"/><text alignment-baseline=\"middle\" fill=\"white\" font-family=\"Futura\" font-size=\"9.24\" text-anchor=\"middle\" x=\"884.4\" y=\"925.32\">366</text><rect fill=\"red\" height=\"15.84\" width=\"23.76\" x=\"898.92\" y=\"916.08\"/><circle cx=\"897.6\" cy=\"924.0\" fill=\"red\" r=\"1.32\" stroke=\"red\" stroke-width=\"0\"/><circle cx=\"924.0\" cy=\"924.0\" fill=\"red\" r=\"1.32\" stroke=\"red\" stroke-width=\"0\"/><text alignment-baseline=\"middle\" fill=\"white\" font-family=\"Futura\" font-size=\"9.24\" text-anchor=\"middle\" x=\"910.8\" y=\"925.32\">367</text><rect fill=\"red\" height=\"15.84\" width=\"23.76\" x=\"925.32\" y=\"916.08\"/><circle cx=\"924.0\" cy=\"924.0\" fill=\"red\" r=\"1.32\" stroke=\"red\" stroke-width=\"0\"/><circle cx=\"950.4\" cy=\"924.0\" fill=\"red\" r=\"1.32\" stroke=\"red\" stroke-width=\"0\"/><text alignment-baseline=\"middle\" fill=\"white\" font-family=\"Futura\" font-size=\"9.24\" text-anchor=\"middle\" x=\"937.2\" y=\"925.32\">368</text><rect fill=\"red\" height=\"15.84\" width=\"23.76\" x=\"951.72\" y=\"916.08\"/><circle cx=\"950.4\" cy=\"924.0\" fill=\"red\" r=\"1.32\" stroke=\"red\" stroke-width=\"0\"/><circle cx=\"976.8\" cy=\"924.0\" fill=\"red\" r=\"1.32\" stroke=\"red\" stroke-width=\"0\"/><text alignment-baseline=\"middle\" fill=\"white\" font-family=\"Futura\" font-size=\"9.24\" text-anchor=\"middle\" x=\"963.6\" y=\"925.32\">369</text><rect fill=\"red\" height=\"15.84\" width=\"23.76\" x=\"978.12\" y=\"916.08\"/><circle cx=\"976.8\" cy=\"924.0\" fill=\"red\" r=\"1.32\" stroke=\"red\" stroke-width=\"0\"/><circle cx=\"1003.2\" cy=\"924.0\" fill=\"red\" r=\"1.32\" stroke=\"red\" stroke-width=\"0\"/><text alignment-baseline=\"middle\" fill=\"white\" font-family=\"Futura\" font-size=\"9.24\" text-anchor=\"middle\" x=\"990.0\" y=\"925.32\">370</text><rect fill=\"red\" height=\"15.84\" width=\"23.76\" x=\"1004.52\" y=\"916.08\"/><circle cx=\"1003.2\" cy=\"924.0\" fill=\"red\" r=\"1.32\" stroke=\"red\" stroke-width=\"0\"/><circle cx=\"1029.6\" cy=\"924.0\" fill=\"red\" r=\"1.32\" stroke=\"red\" stroke-width=\"0\"/><text alignment-baseline=\"middle\" fill=\"white\" font-family=\"Futura\" font-size=\"9.24\" text-anchor=\"middle\" x=\"1016.4\" y=\"925.32\">371</text><rect fill=\"red\" height=\"15.84\" width=\"23.76\" x=\"1030.92\" y=\"916.08\"/><circle cx=\"1029.6\" cy=\"924.0\" fill=\"red\" r=\"1.32\" stroke=\"red\" stroke-width=\"0\"/><circle cx=\"1056.0\" cy=\"924.0\" fill=\"red\" r=\"1.32\" stroke=\"red\" stroke-width=\"0\"/><text alignment-baseline=\"middle\" fill=\"white\" font-family=\"Futura\" font-size=\"9.24\" text-anchor=\"middle\" x=\"1042.8\" y=\"925.32\">372</text><rect fill=\"red\" height=\"15.84\" width=\"23.76\" x=\"1057.32\" y=\"916.08\"/><circle cx=\"1056.0\" cy=\"924.0\" fill=\"red\" r=\"1.32\" stroke=\"red\" stroke-width=\"0\"/><circle cx=\"1082.4\" cy=\"924.0\" fill=\"red\" r=\"1.32\" stroke=\"red\" stroke-width=\"0\"/><text alignment-baseline=\"middle\" fill=\"white\" font-family=\"Futura\" font-size=\"9.24\" text-anchor=\"middle\" x=\"1069.2\" y=\"925.32\">373</text><rect fill=\"red\" height=\"15.84\" width=\"23.76\" x=\"1083.72\" y=\"916.08\"/><circle cx=\"1082.4\" cy=\"924.0\" fill=\"red\" r=\"1.32\" stroke=\"red\" stroke-width=\"0\"/><circle cx=\"1108.8\" cy=\"924.0\" fill=\"red\" r=\"1.32\" stroke=\"red\" stroke-width=\"0\"/><text alignment-baseline=\"middle\" fill=\"white\" font-family=\"Futura\" font-size=\"9.24\" text-anchor=\"middle\" x=\"1095.6\" y=\"925.32\">374</text><rect fill=\"red\" height=\"15.84\" width=\"23.76\" x=\"1110.12\" y=\"916.08\"/><circle cx=\"1108.8\" cy=\"924.0\" fill=\"red\" r=\"1.32\" stroke=\"red\" stroke-width=\"0\"/><circle cx=\"1135.2\" cy=\"924.0\" fill=\"red\" r=\"1.32\" stroke=\"red\" stroke-width=\"0\"/><text alignment-baseline=\"middle\" fill=\"white\" font-family=\"Futura\" font-size=\"9.24\" text-anchor=\"middle\" x=\"1122.0\" y=\"925.32\">375</text><rect fill=\"red\" height=\"15.84\" width=\"23.76\" x=\"1136.52\" y=\"916.08\"/><circle cx=\"1135.2\" cy=\"924.0\" fill=\"red\" r=\"1.32\" stroke=\"red\" stroke-width=\"0\"/><circle cx=\"1161.6\" cy=\"924.0\" fill=\"red\" r=\"1.32\" stroke=\"red\" stroke-width=\"0\"/><text alignment-baseline=\"middle\" fill=\"white\" font-family=\"Futura\" font-size=\"9.24\" text-anchor=\"middle\" x=\"1148.4\" y=\"925.32\">376</text><rect fill=\"red\" height=\"15.84\" width=\"23.76\" x=\"1162.92\" y=\"916.08\"/><circle cx=\"1161.6\" cy=\"924.0\" fill=\"red\" r=\"1.32\" stroke=\"red\" stroke-width=\"0\"/><circle cx=\"1188.0\" cy=\"924.0\" fill=\"red\" r=\"1.32\" stroke=\"red\" stroke-width=\"0\"/><text alignment-baseline=\"middle\" fill=\"white\" font-family=\"Futura\" font-size=\"9.24\" text-anchor=\"middle\" x=\"1174.8\" y=\"925.32\">377</text><rect fill=\"red\" height=\"15.84\" width=\"23.76\" x=\"1189.32\" y=\"916.08\"/><circle cx=\"1188.0\" cy=\"924.0\" fill=\"red\" r=\"1.32\" stroke=\"red\" stroke-width=\"0\"/><circle cx=\"1214.4\" cy=\"924.0\" fill=\"red\" r=\"1.32\" stroke=\"red\" stroke-width=\"0\"/><text alignment-baseline=\"middle\" fill=\"white\" font-family=\"Futura\" font-size=\"9.24\" text-anchor=\"middle\" x=\"1201.2\" y=\"925.32\">378</text><rect fill=\"red\" height=\"15.84\" width=\"23.76\" x=\"1215.72\" y=\"916.08\"/><circle cx=\"1214.4\" cy=\"924.0\" fill=\"red\" r=\"1.32\" stroke=\"red\" stroke-width=\"0\"/><circle cx=\"1240.8\" cy=\"924.0\" fill=\"red\" r=\"1.32\" stroke=\"red\" stroke-width=\"0\"/><text alignment-baseline=\"middle\" fill=\"white\" font-family=\"Futura\" font-size=\"9.24\" text-anchor=\"middle\" x=\"1227.6\" y=\"925.32\">379</text><rect fill=\"red\" height=\"15.84\" width=\"23.76\" x=\"1242.12\" y=\"916.08\"/><circle cx=\"1240.8\" cy=\"924.0\" fill=\"red\" r=\"1.32\" stroke=\"red\" stroke-width=\"0\"/><circle cx=\"1267.2\" cy=\"924.0\" fill=\"red\" r=\"1.32\" stroke=\"red\" stroke-width=\"0\"/><text alignment-baseline=\"middle\" fill=\"white\" font-family=\"Futura\" font-size=\"9.24\" text-anchor=\"middle\" x=\"1254.0\" y=\"925.32\">380</text><rect fill=\"red\" height=\"15.84\" width=\"23.76\" x=\"1268.52\" y=\"916.08\"/><circle cx=\"1267.2\" cy=\"924.0\" fill=\"red\" r=\"1.32\" stroke=\"red\" stroke-width=\"0\"/><circle cx=\"1293.6\" cy=\"924.0\" fill=\"red\" r=\"1.32\" stroke=\"red\" stroke-width=\"0\"/><text alignment-baseline=\"middle\" fill=\"white\" font-family=\"Futura\" font-size=\"9.24\" text-anchor=\"middle\" x=\"1280.4\" y=\"925.32\">381</text><rect fill=\"red\" height=\"15.84\" width=\"23.76\" x=\"1294.92\" y=\"916.08\"/><circle cx=\"1293.6\" cy=\"924.0\" fill=\"red\" r=\"1.32\" stroke=\"red\" stroke-width=\"0\"/><circle cx=\"1320.0\" cy=\"924.0\" fill=\"red\" r=\"1.32\" stroke=\"red\" stroke-width=\"0\"/><text alignment-baseline=\"middle\" fill=\"white\" font-family=\"Futura\" font-size=\"9.24\" text-anchor=\"middle\" x=\"1306.8\" y=\"925.32\">382</text><rect fill=\"red\" height=\"15.84\" width=\"23.76\" x=\"1321.32\" y=\"916.08\"/><circle cx=\"1320.0\" cy=\"924.0\" fill=\"red\" r=\"1.32\" stroke=\"red\" stroke-width=\"0\"/><circle cx=\"1346.4\" cy=\"924.0\" fill=\"red\" r=\"1.32\" stroke=\"red\" stroke-width=\"0\"/><text alignment-baseline=\"middle\" fill=\"white\" font-family=\"Futura\" font-size=\"9.24\" text-anchor=\"middle\" x=\"1333.2\" y=\"925.32\">383</text><rect fill=\"red\" height=\"15.84\" width=\"23.76\" x=\"1347.72\" y=\"916.08\"/><circle cx=\"1346.4\" cy=\"924.0\" fill=\"red\" r=\"1.32\" stroke=\"red\" stroke-width=\"0\"/><text alignment-baseline=\"middle\" fill=\"white\" font-family=\"Futura\" font-size=\"9.24\" text-anchor=\"middle\" x=\"1359.6\" y=\"925.32\">384</text><line stroke=\"red\" stroke-width=\"1.32\" x1=\"396.0\" x2=\"396.0\" y1=\"898.92\" y2=\"949.08\"/><text alignment-baseline=\"middle\" fill=\"black\" font-family=\"Futura\" font-size=\"9.24\" text-anchor=\"start\" x=\"929.28\" y=\"951.72\">52f</text><rect fill=\"red\" height=\"15.84\" width=\"23.76\" x=\"397.32\" y=\"942.48\"/><circle cx=\"396.0\" cy=\"950.4\" fill=\"red\" r=\"1.32\" stroke=\"red\" stroke-width=\"0\"/><circle cx=\"422.4\" cy=\"950.4\" fill=\"red\" r=\"1.32\" stroke=\"red\" stroke-width=\"0\"/><text alignment-baseline=\"middle\" fill=\"white\" font-family=\"Futura\" font-size=\"9.24\" text-anchor=\"middle\" x=\"409.2\" y=\"951.72\">315</text><rect fill=\"red\" height=\"15.84\" width=\"23.76\" x=\"423.72\" y=\"942.48\"/><circle cx=\"422.4\" cy=\"950.4\" fill=\"red\" r=\"1.32\" stroke=\"red\" stroke-width=\"0\"/><circle cx=\"448.8\" cy=\"950.4\" fill=\"red\" r=\"1.32\" stroke=\"red\" stroke-width=\"0\"/><text alignment-baseline=\"middle\" fill=\"white\" font-family=\"Futura\" font-size=\"9.24\" text-anchor=\"middle\" x=\"435.6\" y=\"951.72\">385</text><rect fill=\"red\" height=\"15.84\" width=\"23.76\" x=\"450.12\" y=\"942.48\"/><circle cx=\"448.8\" cy=\"950.4\" fill=\"red\" r=\"1.32\" stroke=\"red\" stroke-width=\"0\"/><circle cx=\"475.2\" cy=\"950.4\" fill=\"red\" r=\"1.32\" stroke=\"red\" stroke-width=\"0\"/><text alignment-baseline=\"middle\" fill=\"white\" font-family=\"Futura\" font-size=\"9.24\" text-anchor=\"middle\" x=\"462.0\" y=\"951.72\">386</text><rect fill=\"red\" height=\"15.84\" width=\"23.76\" x=\"476.52\" y=\"942.48\"/><circle cx=\"475.2\" cy=\"950.4\" fill=\"red\" r=\"1.32\" stroke=\"red\" stroke-width=\"0\"/><circle cx=\"501.6\" cy=\"950.4\" fill=\"red\" r=\"1.32\" stroke=\"red\" stroke-width=\"0\"/><text alignment-baseline=\"middle\" fill=\"white\" font-family=\"Futura\" font-size=\"9.24\" text-anchor=\"middle\" x=\"488.4\" y=\"951.72\">387</text><rect fill=\"red\" height=\"15.84\" width=\"23.76\" x=\"502.92\" y=\"942.48\"/><circle cx=\"501.6\" cy=\"950.4\" fill=\"red\" r=\"1.32\" stroke=\"red\" stroke-width=\"0\"/><circle cx=\"528.0\" cy=\"950.4\" fill=\"red\" r=\"1.32\" stroke=\"red\" stroke-width=\"0\"/><text alignment-baseline=\"middle\" fill=\"white\" font-family=\"Futura\" font-size=\"9.24\" text-anchor=\"middle\" x=\"514.8\" y=\"951.72\">388</text><rect fill=\"red\" height=\"15.84\" width=\"23.76\" x=\"529.32\" y=\"942.48\"/><circle cx=\"528.0\" cy=\"950.4\" fill=\"red\" r=\"1.32\" stroke=\"red\" stroke-width=\"0\"/><circle cx=\"554.4\" cy=\"950.4\" fill=\"red\" r=\"1.32\" stroke=\"red\" stroke-width=\"0\"/><text alignment-baseline=\"middle\" fill=\"white\" font-family=\"Futura\" font-size=\"9.24\" text-anchor=\"middle\" x=\"541.2\" y=\"951.72\">389</text><rect fill=\"red\" height=\"15.84\" width=\"23.76\" x=\"555.72\" y=\"942.48\"/><circle cx=\"554.4\" cy=\"950.4\" fill=\"red\" r=\"1.32\" stroke=\"red\" stroke-width=\"0\"/><circle cx=\"580.8\" cy=\"950.4\" fill=\"red\" r=\"1.32\" stroke=\"red\" stroke-width=\"0\"/><text alignment-baseline=\"middle\" fill=\"white\" font-family=\"Futura\" font-size=\"9.24\" text-anchor=\"middle\" x=\"567.6\" y=\"951.72\">390</text><rect fill=\"red\" height=\"15.84\" width=\"23.76\" x=\"582.12\" y=\"942.48\"/><circle cx=\"580.8\" cy=\"950.4\" fill=\"red\" r=\"1.32\" stroke=\"red\" stroke-width=\"0\"/><circle cx=\"607.2\" cy=\"950.4\" fill=\"red\" r=\"1.32\" stroke=\"red\" stroke-width=\"0\"/><text alignment-baseline=\"middle\" fill=\"white\" font-family=\"Futura\" font-size=\"9.24\" text-anchor=\"middle\" x=\"594.0\" y=\"951.72\">391</text><rect fill=\"red\" height=\"15.84\" width=\"23.76\" x=\"608.52\" y=\"942.48\"/><circle cx=\"607.2\" cy=\"950.4\" fill=\"red\" r=\"1.32\" stroke=\"red\" stroke-width=\"0\"/><circle cx=\"633.6\" cy=\"950.4\" fill=\"red\" r=\"1.32\" stroke=\"red\" stroke-width=\"0\"/><text alignment-baseline=\"middle\" fill=\"white\" font-family=\"Futura\" font-size=\"9.24\" text-anchor=\"middle\" x=\"620.4\" y=\"951.72\">392</text><rect fill=\"red\" height=\"15.84\" width=\"23.76\" x=\"634.92\" y=\"942.48\"/><circle cx=\"633.6\" cy=\"950.4\" fill=\"red\" r=\"1.32\" stroke=\"red\" stroke-width=\"0\"/><circle cx=\"660.0\" cy=\"950.4\" fill=\"red\" r=\"1.32\" stroke=\"red\" stroke-width=\"0\"/><text alignment-baseline=\"middle\" fill=\"white\" font-family=\"Futura\" font-size=\"9.24\" text-anchor=\"middle\" x=\"646.8\" y=\"951.72\">393</text><rect fill=\"red\" height=\"15.84\" width=\"23.76\" x=\"661.32\" y=\"942.48\"/><circle cx=\"660.0\" cy=\"950.4\" fill=\"red\" r=\"1.32\" stroke=\"red\" stroke-width=\"0\"/><circle cx=\"686.4\" cy=\"950.4\" fill=\"red\" r=\"1.32\" stroke=\"red\" stroke-width=\"0\"/><text alignment-baseline=\"middle\" fill=\"white\" font-family=\"Futura\" font-size=\"9.24\" text-anchor=\"middle\" x=\"673.2\" y=\"951.72\">394</text><rect fill=\"red\" height=\"15.84\" width=\"23.76\" x=\"687.72\" y=\"942.48\"/><circle cx=\"686.4\" cy=\"950.4\" fill=\"red\" r=\"1.32\" stroke=\"red\" stroke-width=\"0\"/><circle cx=\"712.8\" cy=\"950.4\" fill=\"red\" r=\"1.32\" stroke=\"red\" stroke-width=\"0\"/><text alignment-baseline=\"middle\" fill=\"white\" font-family=\"Futura\" font-size=\"9.24\" text-anchor=\"middle\" x=\"699.6\" y=\"951.72\">395</text><rect fill=\"red\" height=\"15.84\" width=\"23.76\" x=\"714.12\" y=\"942.48\"/><circle cx=\"712.8\" cy=\"950.4\" fill=\"red\" r=\"1.32\" stroke=\"red\" stroke-width=\"0\"/><circle cx=\"739.2\" cy=\"950.4\" fill=\"red\" r=\"1.32\" stroke=\"red\" stroke-width=\"0\"/><text alignment-baseline=\"middle\" fill=\"white\" font-family=\"Futura\" font-size=\"9.24\" text-anchor=\"middle\" x=\"726.0\" y=\"951.72\">396</text><rect fill=\"red\" height=\"15.84\" width=\"23.76\" x=\"740.52\" y=\"942.48\"/><circle cx=\"739.2\" cy=\"950.4\" fill=\"red\" r=\"1.32\" stroke=\"red\" stroke-width=\"0\"/><circle cx=\"765.6\" cy=\"950.4\" fill=\"red\" r=\"1.32\" stroke=\"red\" stroke-width=\"0\"/><text alignment-baseline=\"middle\" fill=\"white\" font-family=\"Futura\" font-size=\"9.24\" text-anchor=\"middle\" x=\"752.4\" y=\"951.72\">397</text><rect fill=\"red\" height=\"15.84\" width=\"23.76\" x=\"766.92\" y=\"942.48\"/><circle cx=\"765.6\" cy=\"950.4\" fill=\"red\" r=\"1.32\" stroke=\"red\" stroke-width=\"0\"/><circle cx=\"792.0\" cy=\"950.4\" fill=\"red\" r=\"1.32\" stroke=\"red\" stroke-width=\"0\"/><text alignment-baseline=\"middle\" fill=\"white\" font-family=\"Futura\" font-size=\"9.24\" text-anchor=\"middle\" x=\"778.8\" y=\"951.72\">398</text><rect fill=\"red\" height=\"15.84\" width=\"23.76\" x=\"793.32\" y=\"942.48\"/><circle cx=\"792.0\" cy=\"950.4\" fill=\"red\" r=\"1.32\" stroke=\"red\" stroke-width=\"0\"/><circle cx=\"818.4\" cy=\"950.4\" fill=\"red\" r=\"1.32\" stroke=\"red\" stroke-width=\"0\"/><text alignment-baseline=\"middle\" fill=\"white\" font-family=\"Futura\" font-size=\"9.24\" text-anchor=\"middle\" x=\"805.2\" y=\"951.72\">399</text><rect fill=\"red\" height=\"15.84\" width=\"23.76\" x=\"819.72\" y=\"942.48\"/><circle cx=\"818.4\" cy=\"950.4\" fill=\"red\" r=\"1.32\" stroke=\"red\" stroke-width=\"0\"/><circle cx=\"844.8\" cy=\"950.4\" fill=\"red\" r=\"1.32\" stroke=\"red\" stroke-width=\"0\"/><text alignment-baseline=\"middle\" fill=\"white\" font-family=\"Futura\" font-size=\"9.24\" text-anchor=\"middle\" x=\"831.6\" y=\"951.72\">400</text><rect fill=\"red\" height=\"15.84\" width=\"23.76\" x=\"846.12\" y=\"942.48\"/><circle cx=\"844.8\" cy=\"950.4\" fill=\"red\" r=\"1.32\" stroke=\"red\" stroke-width=\"0\"/><circle cx=\"871.2\" cy=\"950.4\" fill=\"red\" r=\"1.32\" stroke=\"red\" stroke-width=\"0\"/><text alignment-baseline=\"middle\" fill=\"white\" font-family=\"Futura\" font-size=\"9.24\" text-anchor=\"middle\" x=\"858.0\" y=\"951.72\">401</text><rect fill=\"red\" height=\"15.84\" width=\"23.76\" x=\"872.52\" y=\"942.48\"/><circle cx=\"871.2\" cy=\"950.4\" fill=\"red\" r=\"1.32\" stroke=\"red\" stroke-width=\"0\"/><circle cx=\"897.6\" cy=\"950.4\" fill=\"red\" r=\"1.32\" stroke=\"red\" stroke-width=\"0\"/><text alignment-baseline=\"middle\" fill=\"white\" font-family=\"Futura\" font-size=\"9.24\" text-anchor=\"middle\" x=\"884.4\" y=\"951.72\">402</text><rect fill=\"red\" height=\"15.84\" width=\"23.76\" x=\"898.92\" y=\"942.48\"/><circle cx=\"897.6\" cy=\"950.4\" fill=\"red\" r=\"1.32\" stroke=\"red\" stroke-width=\"0\"/><text alignment-baseline=\"middle\" fill=\"white\" font-family=\"Futura\" font-size=\"9.24\" text-anchor=\"middle\" x=\"910.8\" y=\"951.72\">403</text><line stroke=\"green\" stroke-width=\"1.32\" x1=\"765.6\" x2=\"765.6\" y1=\"951.72\" y2=\"975.48\"/><text alignment-baseline=\"middle\" fill=\"black\" font-family=\"Futura\" font-size=\"9.24\" text-anchor=\"end\" x=\"417.12\" y=\"978.12\">53b</text><rect fill=\"green\" height=\"15.84\" width=\"23.76\" x=\"423.72\" y=\"968.88\"/><circle cx=\"448.8\" cy=\"976.8\" fill=\"green\" r=\"1.32\" stroke=\"green\" stroke-width=\"0\"/><text alignment-baseline=\"middle\" fill=\"white\" font-family=\"Futura\" font-size=\"9.24\" text-anchor=\"middle\" x=\"435.6\" y=\"978.12\">404</text><rect fill=\"green\" height=\"15.84\" width=\"23.76\" x=\"450.12\" y=\"968.88\"/><circle cx=\"448.8\" cy=\"976.8\" fill=\"green\" r=\"1.32\" stroke=\"green\" stroke-width=\"0\"/><circle cx=\"475.2\" cy=\"976.8\" fill=\"green\" r=\"1.32\" stroke=\"green\" stroke-width=\"0\"/><text alignment-baseline=\"middle\" fill=\"white\" font-family=\"Futura\" font-size=\"9.24\" text-anchor=\"middle\" x=\"462.0\" y=\"978.12\">405</text><rect fill=\"green\" height=\"15.84\" width=\"23.76\" x=\"476.52\" y=\"968.88\"/><circle cx=\"475.2\" cy=\"976.8\" fill=\"green\" r=\"1.32\" stroke=\"green\" stroke-width=\"0\"/><circle cx=\"501.6\" cy=\"976.8\" fill=\"green\" r=\"1.32\" stroke=\"green\" stroke-width=\"0\"/><text alignment-baseline=\"middle\" fill=\"white\" font-family=\"Futura\" font-size=\"9.24\" text-anchor=\"middle\" x=\"488.4\" y=\"978.12\">406</text><rect fill=\"green\" height=\"15.84\" width=\"23.76\" x=\"502.92\" y=\"968.88\"/><circle cx=\"501.6\" cy=\"976.8\" fill=\"green\" r=\"1.32\" stroke=\"green\" stroke-width=\"0\"/><circle cx=\"528.0\" cy=\"976.8\" fill=\"green\" r=\"1.32\" stroke=\"green\" stroke-width=\"0\"/><text alignment-baseline=\"middle\" fill=\"white\" font-family=\"Futura\" font-size=\"9.24\" text-anchor=\"middle\" x=\"514.8\" y=\"978.12\">407</text><rect fill=\"green\" height=\"15.84\" width=\"23.76\" x=\"529.32\" y=\"968.88\"/><circle cx=\"528.0\" cy=\"976.8\" fill=\"green\" r=\"1.32\" stroke=\"green\" stroke-width=\"0\"/><circle cx=\"554.4\" cy=\"976.8\" fill=\"green\" r=\"1.32\" stroke=\"green\" stroke-width=\"0\"/><text alignment-baseline=\"middle\" fill=\"white\" font-family=\"Futura\" font-size=\"9.24\" text-anchor=\"middle\" x=\"541.2\" y=\"978.12\">408</text><rect fill=\"green\" height=\"15.84\" width=\"23.76\" x=\"555.72\" y=\"968.88\"/><circle cx=\"554.4\" cy=\"976.8\" fill=\"green\" r=\"1.32\" stroke=\"green\" stroke-width=\"0\"/><circle cx=\"580.8\" cy=\"976.8\" fill=\"green\" r=\"1.32\" stroke=\"green\" stroke-width=\"0\"/><text alignment-baseline=\"middle\" fill=\"white\" font-family=\"Futura\" font-size=\"9.24\" text-anchor=\"middle\" x=\"567.6\" y=\"978.12\">409</text><rect fill=\"green\" height=\"15.84\" width=\"23.76\" x=\"582.12\" y=\"968.88\"/><circle cx=\"580.8\" cy=\"976.8\" fill=\"green\" r=\"1.32\" stroke=\"green\" stroke-width=\"0\"/><circle cx=\"607.2\" cy=\"976.8\" fill=\"green\" r=\"1.32\" stroke=\"green\" stroke-width=\"0\"/><text alignment-baseline=\"middle\" fill=\"white\" font-family=\"Futura\" font-size=\"9.24\" text-anchor=\"middle\" x=\"594.0\" y=\"978.12\">410</text><rect fill=\"green\" height=\"15.84\" width=\"23.76\" x=\"608.52\" y=\"968.88\"/><circle cx=\"607.2\" cy=\"976.8\" fill=\"green\" r=\"1.32\" stroke=\"green\" stroke-width=\"0\"/><circle cx=\"633.6\" cy=\"976.8\" fill=\"green\" r=\"1.32\" stroke=\"green\" stroke-width=\"0\"/><text alignment-baseline=\"middle\" fill=\"white\" font-family=\"Futura\" font-size=\"9.24\" text-anchor=\"middle\" x=\"620.4\" y=\"978.12\">411</text><rect fill=\"green\" height=\"15.84\" width=\"23.76\" x=\"634.92\" y=\"968.88\"/><circle cx=\"633.6\" cy=\"976.8\" fill=\"green\" r=\"1.32\" stroke=\"green\" stroke-width=\"0\"/><circle cx=\"660.0\" cy=\"976.8\" fill=\"green\" r=\"1.32\" stroke=\"green\" stroke-width=\"0\"/><text alignment-baseline=\"middle\" fill=\"white\" font-family=\"Futura\" font-size=\"9.24\" text-anchor=\"middle\" x=\"646.8\" y=\"978.12\">412</text><rect fill=\"green\" height=\"15.84\" width=\"23.76\" x=\"661.32\" y=\"968.88\"/><circle cx=\"660.0\" cy=\"976.8\" fill=\"green\" r=\"1.32\" stroke=\"green\" stroke-width=\"0\"/><circle cx=\"686.4\" cy=\"976.8\" fill=\"green\" r=\"1.32\" stroke=\"green\" stroke-width=\"0\"/><text alignment-baseline=\"middle\" fill=\"white\" font-family=\"Futura\" font-size=\"9.24\" text-anchor=\"middle\" x=\"673.2\" y=\"978.12\">413</text><rect fill=\"green\" height=\"15.84\" width=\"23.76\" x=\"687.72\" y=\"968.88\"/><circle cx=\"686.4\" cy=\"976.8\" fill=\"green\" r=\"1.32\" stroke=\"green\" stroke-width=\"0\"/><circle cx=\"712.8\" cy=\"976.8\" fill=\"green\" r=\"1.32\" stroke=\"green\" stroke-width=\"0\"/><text alignment-baseline=\"middle\" fill=\"white\" font-family=\"Futura\" font-size=\"9.24\" text-anchor=\"middle\" x=\"699.6\" y=\"978.12\">414</text><rect fill=\"green\" height=\"15.84\" width=\"23.76\" x=\"714.12\" y=\"968.88\"/><circle cx=\"712.8\" cy=\"976.8\" fill=\"green\" r=\"1.32\" stroke=\"green\" stroke-width=\"0\"/><circle cx=\"739.2\" cy=\"976.8\" fill=\"green\" r=\"1.32\" stroke=\"green\" stroke-width=\"0\"/><text alignment-baseline=\"middle\" fill=\"white\" font-family=\"Futura\" font-size=\"9.24\" text-anchor=\"middle\" x=\"726.0\" y=\"978.12\">415</text><rect fill=\"green\" height=\"15.84\" width=\"23.76\" x=\"740.52\" y=\"968.88\"/><circle cx=\"739.2\" cy=\"976.8\" fill=\"green\" r=\"1.32\" stroke=\"green\" stroke-width=\"0\"/><circle cx=\"765.6\" cy=\"976.8\" fill=\"green\" r=\"1.32\" stroke=\"green\" stroke-width=\"0\"/><text alignment-baseline=\"middle\" fill=\"white\" font-family=\"Futura\" font-size=\"9.24\" text-anchor=\"middle\" x=\"752.4\" y=\"978.12\">397</text><line stroke=\"green\" stroke-width=\"1.32\" x1=\"580.8\" x2=\"580.8\" y1=\"978.12\" y2=\"1001.88\"/><text alignment-baseline=\"middle\" fill=\"black\" font-family=\"Futura\" font-size=\"9.24\" text-anchor=\"end\" x=\"364.32\" y=\"1004.52\">54b</text><rect fill=\"green\" height=\"15.84\" width=\"23.76\" x=\"370.92\" y=\"995.28\"/><circle cx=\"396.0\" cy=\"1003.2\" fill=\"green\" r=\"1.32\" stroke=\"green\" stroke-width=\"0\"/><text alignment-baseline=\"middle\" fill=\"white\" font-family=\"Futura\" font-size=\"9.24\" text-anchor=\"middle\" x=\"382.8\" y=\"1004.52\">416</text><rect fill=\"green\" height=\"15.84\" width=\"23.76\" x=\"397.32\" y=\"995.28\"/><circle cx=\"396.0\" cy=\"1003.2\" fill=\"green\" r=\"1.32\" stroke=\"green\" stroke-width=\"0\"/><circle cx=\"422.4\" cy=\"1003.2\" fill=\"green\" r=\"1.32\" stroke=\"green\" stroke-width=\"0\"/><text alignment-baseline=\"middle\" fill=\"white\" font-family=\"Futura\" font-size=\"9.24\" text-anchor=\"middle\" x=\"409.2\" y=\"1004.52\">417</text><rect fill=\"green\" height=\"15.84\" width=\"23.76\" x=\"423.72\" y=\"995.28\"/><circle cx=\"422.4\" cy=\"1003.2\" fill=\"green\" r=\"1.32\" stroke=\"green\" stroke-width=\"0\"/><circle cx=\"448.8\" cy=\"1003.2\" fill=\"green\" r=\"1.32\" stroke=\"green\" stroke-width=\"0\"/><text alignment-baseline=\"middle\" fill=\"white\" font-family=\"Futura\" font-size=\"9.24\" text-anchor=\"middle\" x=\"435.6\" y=\"1004.52\">418</text><rect fill=\"green\" height=\"15.84\" width=\"23.76\" x=\"450.12\" y=\"995.28\"/><circle cx=\"448.8\" cy=\"1003.2\" fill=\"green\" r=\"1.32\" stroke=\"green\" stroke-width=\"0\"/><circle cx=\"475.2\" cy=\"1003.2\" fill=\"green\" r=\"1.32\" stroke=\"green\" stroke-width=\"0\"/><text alignment-baseline=\"middle\" fill=\"white\" font-family=\"Futura\" font-size=\"9.24\" text-anchor=\"middle\" x=\"462.0\" y=\"1004.52\">419</text><rect fill=\"green\" height=\"15.84\" width=\"23.76\" x=\"476.52\" y=\"995.28\"/><circle cx=\"475.2\" cy=\"1003.2\" fill=\"green\" r=\"1.32\" stroke=\"green\" stroke-width=\"0\"/><circle cx=\"501.6\" cy=\"1003.2\" fill=\"green\" r=\"1.32\" stroke=\"green\" stroke-width=\"0\"/><text alignment-baseline=\"middle\" fill=\"white\" font-family=\"Futura\" font-size=\"9.24\" text-anchor=\"middle\" x=\"488.4\" y=\"1004.52\">420</text><rect fill=\"green\" height=\"15.84\" width=\"23.76\" x=\"502.92\" y=\"995.28\"/><circle cx=\"501.6\" cy=\"1003.2\" fill=\"green\" r=\"1.32\" stroke=\"green\" stroke-width=\"0\"/><circle cx=\"528.0\" cy=\"1003.2\" fill=\"green\" r=\"1.32\" stroke=\"green\" stroke-width=\"0\"/><text alignment-baseline=\"middle\" fill=\"white\" font-family=\"Futura\" font-size=\"9.24\" text-anchor=\"middle\" x=\"514.8\" y=\"1004.52\">421</text><rect fill=\"green\" height=\"15.84\" width=\"23.76\" x=\"529.32\" y=\"995.28\"/><circle cx=\"528.0\" cy=\"1003.2\" fill=\"green\" r=\"1.32\" stroke=\"green\" stroke-width=\"0\"/><circle cx=\"554.4\" cy=\"1003.2\" fill=\"green\" r=\"1.32\" stroke=\"green\" stroke-width=\"0\"/><text alignment-baseline=\"middle\" fill=\"white\" font-family=\"Futura\" font-size=\"9.24\" text-anchor=\"middle\" x=\"541.2\" y=\"1004.52\">422</text><rect fill=\"green\" height=\"15.84\" width=\"23.76\" x=\"555.72\" y=\"995.28\"/><circle cx=\"554.4\" cy=\"1003.2\" fill=\"green\" r=\"1.32\" stroke=\"green\" stroke-width=\"0\"/><circle cx=\"580.8\" cy=\"1003.2\" fill=\"green\" r=\"1.32\" stroke=\"green\" stroke-width=\"0\"/><text alignment-baseline=\"middle\" fill=\"white\" font-family=\"Futura\" font-size=\"9.24\" text-anchor=\"middle\" x=\"567.6\" y=\"1004.52\">409</text><line stroke=\"green\" stroke-width=\"1.32\" x1=\"422.4\" x2=\"422.4\" y1=\"1004.52\" y2=\"1028.28\"/><text alignment-baseline=\"middle\" fill=\"black\" font-family=\"Futura\" font-size=\"9.24\" text-anchor=\"end\" x=\"364.32\" y=\"1030.92\">55b</text><rect fill=\"green\" height=\"15.84\" width=\"23.76\" x=\"370.92\" y=\"1021.68\"/><circle cx=\"396.0\" cy=\"1029.6\" fill=\"green\" r=\"1.32\" stroke=\"green\" stroke-width=\"0\"/><text alignment-baseline=\"middle\" fill=\"white\" font-family=\"Futura\" font-size=\"9.24\" text-anchor=\"middle\" x=\"382.8\" y=\"1030.92\">423</text><rect fill=\"green\" height=\"15.84\" width=\"23.76\" x=\"397.32\" y=\"1021.68\"/><circle cx=\"396.0\" cy=\"1029.6\" fill=\"green\" r=\"1.32\" stroke=\"green\" stroke-width=\"0\"/><circle cx=\"422.4\" cy=\"1029.6\" fill=\"green\" r=\"1.32\" stroke=\"green\" stroke-width=\"0\"/><text alignment-baseline=\"middle\" fill=\"white\" font-family=\"Futura\" font-size=\"9.24\" text-anchor=\"middle\" x=\"409.2\" y=\"1030.92\">417</text><line stroke=\"green\" stroke-width=\"1.32\" x1=\"448.8\" x2=\"448.8\" y1=\"1004.52\" y2=\"1054.68\"/><text alignment-baseline=\"middle\" fill=\"black\" font-family=\"Futura\" font-size=\"9.24\" text-anchor=\"end\" x=\"364.32\" y=\"1057.32\">56b</text><rect fill=\"green\" height=\"15.84\" width=\"23.76\" x=\"370.92\" y=\"1048.08\"/><circle cx=\"396.0\" cy=\"1056.0\" fill=\"green\" r=\"1.32\" stroke=\"green\" stroke-width=\"0\"/><text alignment-baseline=\"middle\" fill=\"white\" font-family=\"Futura\" font-size=\"9.24\" text-anchor=\"middle\" x=\"382.8\" y=\"1057.32\">424</text><rect fill=\"green\" height=\"15.84\" width=\"23.76\" x=\"397.32\" y=\"1048.08\"/><circle cx=\"396.0\" cy=\"1056.0\" fill=\"green\" r=\"1.32\" stroke=\"green\" stroke-width=\"0\"/><circle cx=\"422.4\" cy=\"1056.0\" fill=\"green\" r=\"1.32\" stroke=\"green\" stroke-width=\"0\"/><text alignment-baseline=\"middle\" fill=\"white\" font-family=\"Futura\" font-size=\"9.24\" text-anchor=\"middle\" x=\"409.2\" y=\"1057.32\">425</text><rect fill=\"green\" height=\"15.84\" width=\"23.76\" x=\"423.72\" y=\"1048.08\"/><circle cx=\"422.4\" cy=\"1056.0\" fill=\"green\" r=\"1.32\" stroke=\"green\" stroke-width=\"0\"/><circle cx=\"448.8\" cy=\"1056.0\" fill=\"green\" r=\"1.32\" stroke=\"green\" stroke-width=\"0\"/><text alignment-baseline=\"middle\" fill=\"white\" font-family=\"Futura\" font-size=\"9.24\" text-anchor=\"middle\" x=\"435.6\" y=\"1057.32\">418</text><line stroke=\"green\" stroke-width=\"1.32\" x1=\"501.6\" x2=\"501.6\" y1=\"1004.52\" y2=\"1081.08\"/><text alignment-baseline=\"middle\" fill=\"black\" font-family=\"Futura\" font-size=\"9.24\" text-anchor=\"end\" x=\"364.32\" y=\"1083.72\">57b</text><rect fill=\"green\" height=\"15.84\" width=\"23.76\" x=\"370.92\" y=\"1074.48\"/><circle cx=\"396.0\" cy=\"1082.4\" fill=\"green\" r=\"1.32\" stroke=\"green\" stroke-width=\"0\"/><text alignment-baseline=\"middle\" fill=\"white\" font-family=\"Futura\" font-size=\"9.24\" text-anchor=\"middle\" x=\"382.8\" y=\"1083.72\">426</text><rect fill=\"green\" height=\"15.84\" width=\"23.76\" x=\"397.32\" y=\"1074.48\"/><circle cx=\"396.0\" cy=\"1082.4\" fill=\"green\" r=\"1.32\" stroke=\"green\" stroke-width=\"0\"/><circle cx=\"422.4\" cy=\"1082.4\" fill=\"green\" r=\"1.32\" stroke=\"green\" stroke-width=\"0\"/><text alignment-baseline=\"middle\" fill=\"white\" font-family=\"Futura\" font-size=\"9.24\" text-anchor=\"middle\" x=\"409.2\" y=\"1083.72\">427</text><rect fill=\"green\" height=\"15.84\" width=\"23.76\" x=\"423.72\" y=\"1074.48\"/><circle cx=\"422.4\" cy=\"1082.4\" fill=\"green\" r=\"1.32\" stroke=\"green\" stroke-width=\"0\"/><circle cx=\"448.8\" cy=\"1082.4\" fill=\"green\" r=\"1.32\" stroke=\"green\" stroke-width=\"0\"/><text alignment-baseline=\"middle\" fill=\"white\" font-family=\"Futura\" font-size=\"9.24\" text-anchor=\"middle\" x=\"435.6\" y=\"1083.72\">428</text><rect fill=\"green\" height=\"15.84\" width=\"23.76\" x=\"450.12\" y=\"1074.48\"/><circle cx=\"448.8\" cy=\"1082.4\" fill=\"green\" r=\"1.32\" stroke=\"green\" stroke-width=\"0\"/><circle cx=\"475.2\" cy=\"1082.4\" fill=\"green\" r=\"1.32\" stroke=\"green\" stroke-width=\"0\"/><text alignment-baseline=\"middle\" fill=\"white\" font-family=\"Futura\" font-size=\"9.24\" text-anchor=\"middle\" x=\"462.0\" y=\"1083.72\">429</text><rect fill=\"green\" height=\"15.84\" width=\"23.76\" x=\"476.52\" y=\"1074.48\"/><circle cx=\"475.2\" cy=\"1082.4\" fill=\"green\" r=\"1.32\" stroke=\"green\" stroke-width=\"0\"/><circle cx=\"501.6\" cy=\"1082.4\" fill=\"green\" r=\"1.32\" stroke=\"green\" stroke-width=\"0\"/><text alignment-baseline=\"middle\" fill=\"white\" font-family=\"Futura\" font-size=\"9.24\" text-anchor=\"middle\" x=\"488.4\" y=\"1083.72\">420</text></svg>"
      ],
      "text/plain": [
       "<IPython.core.display.SVG object>"
      ]
     },
     "execution_count": 7,
     "metadata": {},
     "output_type": "execute_result"
    }
   ],
   "source": [
    "view = tree.renderer\n",
    "view.zoom = 1.1\n",
    "view.scale_y = 24\n",
    "view.scale_x = 24\n",
    "view.font_size = 0.35\n",
    "SVG(view.to_svg())"
   ]
  },
  {
   "cell_type": "markdown",
   "metadata": {},
   "source": [
    "An alternate view which is similar to the standard way of plotting"
   ]
  },
  {
   "cell_type": "code",
   "execution_count": 35,
   "metadata": {
    "collapsed": false
   },
   "outputs": [
    {
     "data": {
      "image/svg+xml": [
       "<svg baseProfile=\"full\" height=\"33.0px\" version=\"1.1\" width=\"132.0px\" xmlns=\"http://www.w3.org/2000/svg\" xmlns:ev=\"http://www.w3.org/2001/xml-events\" xmlns:xlink=\"http://www.w3.org/1999/xlink\"><defs/><text alignment-baseline=\"middle\" fill=\"black\" font-family=\"Times\" font-size=\"8.25\" text-anchor=\"end\" x=\"21.12\" y=\"17.325\">21b</text><rect fill=\"black\" height=\"9.9\" width=\"26.928\" x=\"26.136\" y=\"11.55\"/><circle cx=\"26.4\" cy=\"16.5\" fill=\"black\" r=\"-0.264\" stroke=\"black\" stroke-width=\"0\"/><circle cx=\"52.8\" cy=\"16.5\" fill=\"black\" r=\"-0.264\" stroke=\"black\" stroke-width=\"0\"/><text alignment-baseline=\"middle\" fill=\"white\" font-family=\"Times\" font-size=\"8.25\" text-anchor=\"middle\" x=\"39.6\" y=\"17.325\"/><rect fill=\"black\" height=\"9.9\" width=\"26.928\" x=\"52.536\" y=\"11.55\"/><circle cx=\"52.8\" cy=\"16.5\" fill=\"black\" r=\"-0.264\" stroke=\"black\" stroke-width=\"0\"/><circle cx=\"79.2\" cy=\"16.5\" fill=\"black\" r=\"-0.264\" stroke=\"black\" stroke-width=\"0\"/><text alignment-baseline=\"middle\" fill=\"white\" font-family=\"Times\" font-size=\"8.25\" text-anchor=\"middle\" x=\"66.0\" y=\"17.325\"/><rect fill=\"black\" height=\"9.9\" width=\"26.928\" x=\"78.936\" y=\"11.55\"/><circle cx=\"79.2\" cy=\"16.5\" fill=\"black\" r=\"-0.264\" stroke=\"black\" stroke-width=\"0\"/><circle cx=\"105.6\" cy=\"16.5\" fill=\"black\" r=\"-0.264\" stroke=\"black\" stroke-width=\"0\"/><text alignment-baseline=\"middle\" fill=\"white\" font-family=\"Times\" font-size=\"8.25\" text-anchor=\"middle\" x=\"92.4\" y=\"17.325\"/></svg>"
      ],
      "text/plain": [
       "<IPython.core.display.SVG object>"
      ]
     },
     "execution_count": 35,
     "metadata": {},
     "output_type": "execute_result"
    }
   ],
   "source": [
    "tree.rejected = False\n",
    "tree.states = []\n",
    "tree.op = None\n",
    "tree.from_samples(samps)\n",
    "view = tree.renderer\n",
    "view.zoom = 1.1\n",
    "view.horizontal_gap = -0.01\n",
    "view.scale_y = 15\n",
    "view.scale_x = 24\n",
    "view.font_size = 0.5\n",
    "view.font_family = 'Times'\n",
    "SVG(view.to_svg())"
   ]
  },
  {
   "cell_type": "markdown",
   "metadata": {},
   "source": [
    "### Phi/Psi Plots"
   ]
  },
  {
   "cell_type": "code",
   "execution_count": 36,
   "metadata": {
    "collapsed": true
   },
   "outputs": [],
   "source": [
    "# Imports for plotting\n",
    "%matplotlib inline\n",
    "import matplotlib\n",
    "import matplotlib.pyplot as plt\n",
    "import matplotlib.pylab as pylab\n",
    "from matplotlib.legend_handler import HandlerLine2D"
   ]
  },
  {
   "cell_type": "markdown",
   "metadata": {},
   "source": [
    "Make sure that all phi/psi values have been computed!"
   ]
  },
  {
   "cell_type": "code",
   "execution_count": 37,
   "metadata": {
    "collapsed": false
   },
   "outputs": [],
   "source": [
    "psi = storage.cvs[0]\n",
    "phi = storage.cvs[1]"
   ]
  },
  {
   "cell_type": "code",
   "execution_count": 38,
   "metadata": {
    "collapsed": false
   },
   "outputs": [
    {
     "data": {
      "image/png": "[encoded data removed]",
      "text/plain": [
       "<matplotlib.figure.Figure at 0x10f933e50>"
      ]
     },
     "metadata": {},
     "output_type": "display_data"
    }
   ],
   "source": [
    "plt.figure(figsize=(5, 5))\n",
    "\n",
    "for traj in storage.trajectories.iterator():\n",
    "    phi_angles = degrees * np.array(phi(traj)).flatten()\n",
    "    psi_angles = degrees * np.array(psi(traj)).flatten()\n",
    "    plt.plot(phi_angles, psi_angles, 'ro', linewidth=1);\n",
    "    \n",
    "plt.xlim(-180, 180);\n",
    "plt.ylim(-180, 180);"
   ]
  },
  {
   "cell_type": "code",
   "execution_count": 39,
   "metadata": {
    "collapsed": false
   },
   "outputs": [
    {
     "data": {
      "image/png": "[encoded data removed]",
      "text/plain": [
       "<matplotlib.figure.Figure at 0x1185e6bd0>"
      ]
     },
     "metadata": {},
     "output_type": "display_data"
    }
   ],
   "source": [
    "plt.figure(figsize=(8, 8))\n",
    "\n",
    "traj = storage.trajectories.last()\n",
    "phi_angles = degrees * np.array(phi(traj)).flatten()\n",
    "psi_angles = degrees * np.array(psi(traj)).flatten()\n",
    "plt.plot(phi_angles, psi_angles, 'k-', linewidth=1);\n",
    "\n",
    "op_notinAorB = storage.cvs[4]\n",
    "\n",
    "for snapshot in traj:\n",
    "    phi_angles = degrees * np.array(phi(snapshot)).flatten()\n",
    "    psi_angles = degrees * np.array(psi(snapshot)).flatten()\n",
    "    if op_notinAorB(snapshot):\n",
    "        plt.plot(phi_angles, psi_angles, 'ro', linewidth=1);\n",
    "    else:\n",
    "        plt.plot(phi_angles, psi_angles, 'bo', linewidth=1);\n",
    "        \n",
    "plt.xlim(-180, 180);\n",
    "plt.ylim(-180, 180);"
   ]
  },
  {
   "cell_type": "code",
   "execution_count": 40,
   "metadata": {
    "collapsed": false
   },
   "outputs": [
    {
     "data": {
      "image/png": "[encoded data removed]",
      "text/plain": [
       "<matplotlib.figure.Figure at 0x11851e810>"
      ]
     },
     "metadata": {},
     "output_type": "display_data"
    }
   ],
   "source": [
    "plt.figure(figsize=(8, 8))\n",
    "\n",
    "traj = storage.samples.last().trajectory\n",
    "phi_angles = degrees * np.array(phi(traj)).flatten()\n",
    "psi_angles = degrees * np.array(psi(traj)).flatten()\n",
    "plt.plot(phi_angles, psi_angles, 'k-', linewidth=1);\n",
    "\n",
    "\n",
    "#for snapshot in simulator.storage.snapshot.iterator():\n",
    "for snapshot in traj:\n",
    "    phi_angles = degrees * np.array(phi(snapshot)).flatten()\n",
    "    psi_angles = degrees * np.array(psi(snapshot)).flatten()\n",
    "    if op_notinAorB(snapshot):\n",
    "        plt.plot(phi_angles, psi_angles, 'ro', linewidth=1);\n",
    "    else:\n",
    "        plt.plot(phi_angles, psi_angles, 'bo', linewidth=1);\n",
    "        \n",
    "plt.xlim(-180, 180);\n",
    "plt.ylim(-180, 180);"
   ]
  }
 ],
 "metadata": {
  "kernelspec": {
   "display_name": "Python 2",
   "language": "python",
   "name": "python2"
  },
  "language_info": {
   "codemirror_mode": {
    "name": "ipython",
    "version": 2
   },
   "file_extension": ".py",
   "mimetype": "text/x-python",
   "name": "python",
   "nbconvert_exporter": "python",
   "pygments_lexer": "ipython2",
   "version": "2.7.9"
  }
 },
 "nbformat": 4,
 "nbformat_minor": 0
}

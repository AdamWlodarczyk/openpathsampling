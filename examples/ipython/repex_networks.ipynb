{
 "cells": [
  {
   "cell_type": "code",
   "execution_count": 1,
   "metadata": {
    "collapsed": false
   },
   "outputs": [],
   "source": [
    "%matplotlib inline\n",
    "import matplotlib.pyplot as plt\n",
    "import openpathsampling as paths\n",
    "\n",
    "storage = paths.storage.Storage(\"_toy_retis.nc\", \"r\")"
   ]
  },
  {
   "cell_type": "code",
   "execution_count": 2,
   "metadata": {
    "collapsed": false
   },
   "outputs": [
    {
     "data": {
      "text/plain": [
       "10001"
      ]
     },
     "execution_count": 2,
     "metadata": {},
     "output_type": "execute_result"
    }
   ],
   "source": [
    "len(storage.samplesets)"
   ]
  },
  {
   "cell_type": "code",
   "execution_count": 3,
   "metadata": {
    "collapsed": false
   },
   "outputs": [],
   "source": [
    "retis = storage.transitions.load(0)\n",
    "sset0 = storage.samplesets[0]"
   ]
  },
  {
   "cell_type": "code",
   "execution_count": 4,
   "metadata": {
    "collapsed": true
   },
   "outputs": [],
   "source": [
    "storage.samples.cache_all()"
   ]
  },
  {
   "cell_type": "code",
   "execution_count": 5,
   "metadata": {
    "collapsed": false
   },
   "outputs": [],
   "source": [
    "trace_1 = paths.trace_ensembles_for_replica(0, storage)\n",
    "trace_readable = [sset0[e].replica for e in trace_1]"
   ]
  },
  {
   "cell_type": "code",
   "execution_count": 6,
   "metadata": {
    "collapsed": false
   },
   "outputs": [
    {
     "data": {
      "text/plain": [
       "[<matplotlib.lines.Line2D at 0x122dc0a50>]"
      ]
     },
     "execution_count": 6,
     "metadata": {},
     "output_type": "execute_result"
    },
    {
     "data": {
      "image/png": "[encoded data removed]",
      "text/plain": [
       "<matplotlib.figure.Figure at 0x111da3ed0>"
      ]
     },
     "metadata": {},
     "output_type": "display_data"
    }
   ],
   "source": [
    "plt.plot(trace_readable)"
   ]
  },
  {
   "cell_type": "code",
   "execution_count": 7,
   "metadata": {
    "collapsed": false
   },
   "outputs": [],
   "source": [
    "repx_net = paths.ReplicaNetwork(storage=storage)"
   ]
  },
  {
   "cell_type": "code",
   "execution_count": 8,
   "metadata": {
    "collapsed": false
   },
   "outputs": [
    {
     "data": {
      "text/plain": [
       "{<openpathsampling.ensemble.MinusInterfaceEnsemble at 0x11a69c7d0>: 1.0,\n",
       " <openpathsampling.ensemble.TISEnsemble at 0x11a6615d0>: 0.0,\n",
       " <openpathsampling.ensemble.TISEnsemble at 0x11a661b50>: 0.7610439727835889,\n",
       " <openpathsampling.ensemble.TISEnsemble at 0x11a666e90>: 0.29822845342897514,\n",
       " <openpathsampling.ensemble.TISEnsemble at 0x11a675bd0>: 0.6950640231309376,\n",
       " <openpathsampling.ensemble.TISEnsemble at 0x11a675f50>: 0.9789114279975899,\n",
       " <openpathsampling.ensemble.TISEnsemble at 0x11a69c6d0>: 0.0890729145627146}"
      ]
     },
     "execution_count": 8,
     "metadata": {},
     "output_type": "execute_result"
    }
   ],
   "source": [
    "repx_net.flow(bottom=retis.minus_ensemble, top=retis.ensembles[-1])"
   ]
  },
  {
   "cell_type": "code",
   "execution_count": 9,
   "metadata": {
    "collapsed": false
   },
   "outputs": [
    {
     "data": {
      "text/plain": [
       "{'down': [2028], 'round': [8730], 'up': [6921, 6702, 4127]}"
      ]
     },
     "execution_count": 9,
     "metadata": {},
     "output_type": "execute_result"
    }
   ],
   "source": [
    "# TODO: there seems to be a bug here\n",
    "repx_net.trips(bottom=retis.minus_ensemble, top=retis.ensembles[-1])"
   ]
  },
  {
   "cell_type": "code",
   "execution_count": 10,
   "metadata": {
    "collapsed": false
   },
   "outputs": [],
   "source": [
    "(n_try, n_acc) = repx_net.analyze_exchanges(storage)"
   ]
  },
  {
   "cell_type": "code",
   "execution_count": 21,
   "metadata": {
    "collapsed": false
   },
   "outputs": [
    {
     "data": {
      "text/plain": [
       "{(<openpathsampling.ensemble.TISEnsemble at 0x11a6615d0>,\n",
       "  <openpathsampling.ensemble.TISEnsemble at 0x11a69c6d0>): 448,\n",
       " (<openpathsampling.ensemble.TISEnsemble at 0x11a661b50>,\n",
       "  <openpathsampling.ensemble.TISEnsemble at 0x11a675f50>): 487,\n",
       " (<openpathsampling.ensemble.TISEnsemble at 0x11a666e90>,\n",
       "  <openpathsampling.ensemble.TISEnsemble at 0x11a675bd0>): 454,\n",
       " (<openpathsampling.ensemble.TISEnsemble at 0x11a675bd0>,\n",
       "  <openpathsampling.ensemble.TISEnsemble at 0x11a661b50>): 495,\n",
       " (<openpathsampling.ensemble.TISEnsemble at 0x11a675f50>,\n",
       "  <openpathsampling.ensemble.MinusInterfaceEnsemble at 0x11a69c7d0>): 149,\n",
       " (<openpathsampling.ensemble.TISEnsemble at 0x11a69c6d0>,\n",
       "  <openpathsampling.ensemble.TISEnsemble at 0x11a666e90>): 498}"
      ]
     },
     "execution_count": 21,
     "metadata": {},
     "output_type": "execute_result"
    }
   ],
   "source": [
    "n_try"
   ]
  },
  {
   "cell_type": "code",
   "execution_count": 12,
   "metadata": {
    "collapsed": false
   },
   "outputs": [
    {
     "data": {
      "text/plain": [
       "{(<openpathsampling.ensemble.TISEnsemble at 0x11a6615d0>,\n",
       "  <openpathsampling.ensemble.TISEnsemble at 0x11a69c6d0>): 246,\n",
       " (<openpathsampling.ensemble.TISEnsemble at 0x11a661b50>,\n",
       "  <openpathsampling.ensemble.TISEnsemble at 0x11a675f50>): 142,\n",
       " (<openpathsampling.ensemble.TISEnsemble at 0x11a666e90>,\n",
       "  <openpathsampling.ensemble.TISEnsemble at 0x11a675bd0>): 85,\n",
       " (<openpathsampling.ensemble.TISEnsemble at 0x11a675bd0>,\n",
       "  <openpathsampling.ensemble.TISEnsemble at 0x11a661b50>): 115,\n",
       " (<openpathsampling.ensemble.TISEnsemble at 0x11a675f50>,\n",
       "  <openpathsampling.ensemble.MinusInterfaceEnsemble at 0x11a69c7d0>): 149,\n",
       " (<openpathsampling.ensemble.TISEnsemble at 0x11a69c6d0>,\n",
       "  <openpathsampling.ensemble.TISEnsemble at 0x11a666e90>): 126}"
      ]
     },
     "execution_count": 12,
     "metadata": {},
     "output_type": "execute_result"
    }
   ],
   "source": [
    "n_acc"
   ]
  },
  {
   "cell_type": "code",
   "execution_count": 77,
   "metadata": {
    "collapsed": false
   },
   "outputs": [
    {
     "data": {
      "text/html": [
       "<div style=\"max-height:1000px;max-width:1500px;overflow:auto;\">\n",
       "<table border=\"1\" class=\"dataframe\">\n",
       "  <thead>\n",
       "    <tr style=\"text-align: right;\">\n",
       "      <th></th>\n",
       "      <th>-1</th>\n",
       "      <th>0</th>\n",
       "      <th>1</th>\n",
       "      <th>2</th>\n",
       "      <th>3</th>\n",
       "      <th>4</th>\n",
       "      <th>5</th>\n",
       "    </tr>\n",
       "  </thead>\n",
       "  <tbody>\n",
       "    <tr>\n",
       "      <th>-1</th>\n",
       "      <td>0</td>\n",
       "      <td>0.000000</td>\n",
       "      <td>0.000000</td>\n",
       "      <td>0.000000</td>\n",
       "      <td>0.000000</td>\n",
       "      <td>0.000000</td>\n",
       "      <td>0</td>\n",
       "    </tr>\n",
       "    <tr>\n",
       "      <th>0</th>\n",
       "      <td>1</td>\n",
       "      <td>0.000000</td>\n",
       "      <td>0.000000</td>\n",
       "      <td>0.000000</td>\n",
       "      <td>0.000000</td>\n",
       "      <td>0.000000</td>\n",
       "      <td>0</td>\n",
       "    </tr>\n",
       "    <tr>\n",
       "      <th>1</th>\n",
       "      <td>0</td>\n",
       "      <td>0.291581</td>\n",
       "      <td>0.000000</td>\n",
       "      <td>0.000000</td>\n",
       "      <td>0.000000</td>\n",
       "      <td>0.000000</td>\n",
       "      <td>0</td>\n",
       "    </tr>\n",
       "    <tr>\n",
       "      <th>2</th>\n",
       "      <td>0</td>\n",
       "      <td>0.000000</td>\n",
       "      <td>0.232323</td>\n",
       "      <td>0.000000</td>\n",
       "      <td>0.000000</td>\n",
       "      <td>0.000000</td>\n",
       "      <td>0</td>\n",
       "    </tr>\n",
       "    <tr>\n",
       "      <th>3</th>\n",
       "      <td>0</td>\n",
       "      <td>0.000000</td>\n",
       "      <td>0.000000</td>\n",
       "      <td>0.187225</td>\n",
       "      <td>0.000000</td>\n",
       "      <td>0.000000</td>\n",
       "      <td>0</td>\n",
       "    </tr>\n",
       "    <tr>\n",
       "      <th>4</th>\n",
       "      <td>0</td>\n",
       "      <td>0.000000</td>\n",
       "      <td>0.000000</td>\n",
       "      <td>0.000000</td>\n",
       "      <td>0.253012</td>\n",
       "      <td>0.000000</td>\n",
       "      <td>0</td>\n",
       "    </tr>\n",
       "    <tr>\n",
       "      <th>5</th>\n",
       "      <td>0</td>\n",
       "      <td>0.000000</td>\n",
       "      <td>0.000000</td>\n",
       "      <td>0.000000</td>\n",
       "      <td>0.000000</td>\n",
       "      <td>0.549107</td>\n",
       "      <td>0</td>\n",
       "    </tr>\n",
       "  </tbody>\n",
       "</table>\n",
       "</div>"
      ],
      "text/plain": [
       "    -1         0         1         2         3         4   5\n",
       "-1   0  0.000000  0.000000  0.000000  0.000000  0.000000   0\n",
       " 0   1  0.000000  0.000000  0.000000  0.000000  0.000000   0\n",
       " 1   0  0.291581  0.000000  0.000000  0.000000  0.000000   0\n",
       " 2   0  0.000000  0.232323  0.000000  0.000000  0.000000   0\n",
       " 3   0  0.000000  0.000000  0.187225  0.000000  0.000000   0\n",
       " 4   0  0.000000  0.000000  0.000000  0.253012  0.000000   0\n",
       " 5   0  0.000000  0.000000  0.000000  0.000000  0.549107   0"
      ]
     },
     "execution_count": 77,
     "metadata": {},
     "output_type": "execute_result"
    }
   ],
   "source": [
    "# initial setup of order\n",
    "index_order = None\n",
    "# dictionaries to be used to translate between orderings (these are the defaults)\n",
    "if index_order == None:\n",
    "    ensemble_to_number = { ens : repx_net.all_ensembles.index(ens) for ens in repx_net.all_ensembles }\n",
    "else:\n",
    "    ensemble_to_number = { ens : index_order.index(ens) for ens in index_order }\n",
    "\n",
    "number_to_ensemble = { ensemble_to_number[k] : k for k in ensemble_to_number.keys()}\n",
    "n_ensembles = len(ensemble_to_number)\n",
    "\n",
    "\n",
    "# building the matrix\n",
    "import scipy.sparse\n",
    "import scipy.sparse.csgraph\n",
    "import numpy as np\n",
    "# TODO: replace with coo_matrix?\n",
    "data = [float(n_acc[k]) / n_try[k] for k in n_try.keys()]\n",
    "ens_i, ens_j = zip(*n_try.keys())\n",
    "i = [ensemble_to_number[e] for e in ens_i]\n",
    "j = [ensemble_to_number[e] for e in ens_j]\n",
    "acc_matrix = scipy.sparse.coo_matrix((data, (i, j)), shape=(n_ensembles, n_ensembles))\n",
    "\n",
    "# re-ordering according to RCM\n",
    "labels = {k : sset0[number_to_ensemble[k]].replica for k in number_to_ensemble.keys()}\n",
    "if index_order == None:\n",
    "    # reorder based on RCM \n",
    "    rcm_perm = scipy.sparse.csgraph.reverse_cuthill_mckee(acc_matrix.tocsr())\n",
    "    reverse_perm = { rcm_perm[k] : rcm_perm.tolist().index(rcm_perm[k]) for k in range(len(rcm_perm))}\n",
    "    perm_i = [rcm_perm[ii] for ii in i]\n",
    "    perm_j = [rcm_perm[jj] for jj in j]\n",
    "    new_matrix = scipy.sparse.coo_matrix((data, (perm_i, perm_j)), shape=(n_ensembles, n_ensembles))\n",
    "    reordered_labels = [labels[k] for k in rcm_perm]\n",
    "else:\n",
    "    reordered_labels = [labels[k] for k in labels.keys()]\n",
    "    new_matrix = acc_matrix\n",
    "\n",
    "reordered = pd.DataFrame(new_matrix.todense())\n",
    "reordered.index = reordered_labels\n",
    "reordered.columns = reordered_labels\n",
    "\n",
    "reordered"
   ]
  },
  {
   "cell_type": "code",
   "execution_count": 74,
   "metadata": {
    "collapsed": false
   },
   "outputs": [
    {
     "data": {
      "text/html": [
       "<div style=\"max-height:1000px;max-width:1500px;overflow:auto;\">\n",
       "<table border=\"1\" class=\"dataframe\">\n",
       "  <thead>\n",
       "    <tr style=\"text-align: right;\">\n",
       "      <th></th>\n",
       "      <th>-1</th>\n",
       "      <th>0</th>\n",
       "      <th>1</th>\n",
       "      <th>2</th>\n",
       "      <th>3</th>\n",
       "      <th>4</th>\n",
       "      <th>5</th>\n",
       "    </tr>\n",
       "  </thead>\n",
       "  <tbody>\n",
       "    <tr>\n",
       "      <th>-1</th>\n",
       "      <td>0</td>\n",
       "      <td>0.000000</td>\n",
       "      <td>0.000000</td>\n",
       "      <td>0.000000</td>\n",
       "      <td>0.000000</td>\n",
       "      <td>0.000000</td>\n",
       "      <td>0</td>\n",
       "    </tr>\n",
       "    <tr>\n",
       "      <th>0</th>\n",
       "      <td>1</td>\n",
       "      <td>0.000000</td>\n",
       "      <td>0.000000</td>\n",
       "      <td>0.000000</td>\n",
       "      <td>0.000000</td>\n",
       "      <td>0.000000</td>\n",
       "      <td>0</td>\n",
       "    </tr>\n",
       "    <tr>\n",
       "      <th>1</th>\n",
       "      <td>0</td>\n",
       "      <td>0.291581</td>\n",
       "      <td>0.000000</td>\n",
       "      <td>0.000000</td>\n",
       "      <td>0.000000</td>\n",
       "      <td>0.000000</td>\n",
       "      <td>0</td>\n",
       "    </tr>\n",
       "    <tr>\n",
       "      <th>2</th>\n",
       "      <td>0</td>\n",
       "      <td>0.000000</td>\n",
       "      <td>0.232323</td>\n",
       "      <td>0.000000</td>\n",
       "      <td>0.000000</td>\n",
       "      <td>0.000000</td>\n",
       "      <td>0</td>\n",
       "    </tr>\n",
       "    <tr>\n",
       "      <th>3</th>\n",
       "      <td>0</td>\n",
       "      <td>0.000000</td>\n",
       "      <td>0.000000</td>\n",
       "      <td>0.187225</td>\n",
       "      <td>0.000000</td>\n",
       "      <td>0.000000</td>\n",
       "      <td>0</td>\n",
       "    </tr>\n",
       "    <tr>\n",
       "      <th>4</th>\n",
       "      <td>0</td>\n",
       "      <td>0.000000</td>\n",
       "      <td>0.000000</td>\n",
       "      <td>0.000000</td>\n",
       "      <td>0.253012</td>\n",
       "      <td>0.000000</td>\n",
       "      <td>0</td>\n",
       "    </tr>\n",
       "    <tr>\n",
       "      <th>5</th>\n",
       "      <td>0</td>\n",
       "      <td>0.000000</td>\n",
       "      <td>0.000000</td>\n",
       "      <td>0.000000</td>\n",
       "      <td>0.000000</td>\n",
       "      <td>0.549107</td>\n",
       "      <td>0</td>\n",
       "    </tr>\n",
       "  </tbody>\n",
       "</table>\n",
       "</div>"
      ],
      "text/plain": [
       "    -1         0         1         2         3         4   5\n",
       "-1   0  0.000000  0.000000  0.000000  0.000000  0.000000   0\n",
       " 0   1  0.000000  0.000000  0.000000  0.000000  0.000000   0\n",
       " 1   0  0.291581  0.000000  0.000000  0.000000  0.000000   0\n",
       " 2   0  0.000000  0.232323  0.000000  0.000000  0.000000   0\n",
       " 3   0  0.000000  0.000000  0.187225  0.000000  0.000000   0\n",
       " 4   0  0.000000  0.000000  0.000000  0.253012  0.000000   0\n",
       " 5   0  0.000000  0.000000  0.000000  0.000000  0.549107   0"
      ]
     },
     "execution_count": 74,
     "metadata": {},
     "output_type": "execute_result"
    }
   ],
   "source": []
  }
 ],
 "metadata": {
  "kernelspec": {
   "display_name": "Python 2",
   "language": "python",
   "name": "python2"
  },
  "language_info": {
   "codemirror_mode": {
    "name": "ipython",
    "version": 2
   },
   "file_extension": ".py",
   "mimetype": "text/x-python",
   "name": "python",
   "nbconvert_exporter": "python",
   "pygments_lexer": "ipython2",
   "version": "2.7.9"
  }
 },
 "nbformat": 4,
 "nbformat_minor": 0
}

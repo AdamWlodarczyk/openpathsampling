{
 "cells": [
  {
   "cell_type": "code",
   "execution_count": 1,
   "metadata": {
    "collapsed": false
   },
   "outputs": [],
   "source": [
    "%matplotlib inline\n",
    "import matplotlib.pyplot as plt\n",
    "import openpathsampling as paths\n",
    "\n",
    "storage = paths.storage.Storage(\"_toy_retis.nc\", \"r\")"
   ]
  },
  {
   "cell_type": "code",
   "execution_count": 2,
   "metadata": {
    "collapsed": false
   },
   "outputs": [
    {
     "data": {
      "text/plain": [
       "201"
      ]
     },
     "execution_count": 2,
     "metadata": {},
     "output_type": "execute_result"
    }
   ],
   "source": [
    "len(storage.samplesets)"
   ]
  },
  {
   "cell_type": "code",
   "execution_count": 3,
   "metadata": {
    "collapsed": false
   },
   "outputs": [],
   "source": [
    "retis = storage.transitions.load(0)\n",
    "sset0 = storage.samplesets[0]"
   ]
  },
  {
   "cell_type": "code",
   "execution_count": 10,
   "metadata": {
    "collapsed": false
   },
   "outputs": [],
   "source": [
    "trace_1 = paths.trace_ensembles_for_replica(4, storage)\n",
    "trace_readable = [sset0[e].replica for e in trace_1]"
   ]
  },
  {
   "cell_type": "code",
   "execution_count": 11,
   "metadata": {
    "collapsed": false
   },
   "outputs": [],
   "source": [
    "trace_2 = paths.trace_replicas_for_ensemble(retis.ensembles[0], storage)"
   ]
  },
  {
   "cell_type": "code",
   "execution_count": 12,
   "metadata": {
    "collapsed": false
   },
   "outputs": [
    {
     "data": {
      "text/plain": [
       "[<matplotlib.lines.Line2D at 0x1134590d0>]"
      ]
     },
     "execution_count": 12,
     "metadata": {},
     "output_type": "execute_result"
    },
    {
     "data": {
      "image/png": "[encoded data removed]",
      "text/plain": [
       "<matplotlib.figure.Figure at 0x10bee7a10>"
      ]
     },
     "metadata": {},
     "output_type": "display_data"
    }
   ],
   "source": [
    "plt.plot(trace_readable)"
   ]
  },
  {
   "cell_type": "code",
   "execution_count": 8,
   "metadata": {
    "collapsed": false
   },
   "outputs": [],
   "source": [
    "repx_net = paths.ReplicaNetwork(storage=storage)"
   ]
  },
  {
   "cell_type": "code",
   "execution_count": 19,
   "metadata": {
    "collapsed": true
   },
   "outputs": [],
   "source": [
    "top=5\n",
    "bottom=3\n",
    "trace = paths.condense_repeats(trace_readable)"
   ]
  },
  {
   "cell_type": "code",
   "execution_count": 20,
   "metadata": {
    "collapsed": false
   },
   "outputs": [
    {
     "name": "stdout",
     "output_type": "stream",
     "text": [
      "[(4, 4), (5, 1), (4, 14), (3, 16), (4, 3), (3, 5), (4, 1), (5, 39), (4, 31), (3, 9), (4, 2), (5, 7), (4, 13), (5, 46)]\n"
     ]
    }
   ],
   "source": [
    "print trace"
   ]
  },
  {
   "cell_type": "code",
   "execution_count": 32,
   "metadata": {
    "collapsed": false
   },
   "outputs": [],
   "source": [
    "down_trips = []\n",
    "up_trips = []\n",
    "round_trips = []\n",
    "direction = None\n",
    "trip_counter = 0\n",
    "first_direction = None\n",
    "for (loc, count) in trace:\n",
    "    if loc == top and direction != +1:\n",
    "        direction = +1\n",
    "        if trip_counter > 0:\n",
    "            up_trips.append(trip_counter)\n",
    "        trip_counter = 0\n",
    "    elif loc == bottom and direction != -1:\n",
    "        direction = -1\n",
    "        if trip_counter > 0:\n",
    "            down_trips.append(trip_counter)\n",
    "        trip_counter = 0\n",
    "    if direction is not None:\n",
    "        if first_direction is None:\n",
    "            first_direction = direction\n",
    "        trip_counter += count\n",
    "\n",
    "if first_direction == 1:\n",
    "    rt_pairs = zip(down_trips, up_trips)\n",
    "elif first_direction == -1:\n",
    "    rt_pairs = zip(up_trips, down_trips)\n",
    "else:\n",
    "    raise RuntimeWarning(\"No first direction identified: Are there no 1-way trips?\")\n",
    "round_trips = [sum(pair) for pair in rt_pairs]"
   ]
  },
  {
   "cell_type": "code",
   "execution_count": 33,
   "metadata": {
    "collapsed": false
   },
   "outputs": [
    {
     "data": {
      "text/plain": [
       "([15, 70], [25, 11], [40, 81])"
      ]
     },
     "execution_count": 33,
     "metadata": {},
     "output_type": "execute_result"
    }
   ],
   "source": [
    "down_trips, up_trips, round_trips"
   ]
  },
  {
   "cell_type": "code",
   "execution_count": null,
   "metadata": {
    "collapsed": true
   },
   "outputs": [],
   "source": []
  }
 ],
 "metadata": {
  "kernelspec": {
   "display_name": "Python 2",
   "language": "python",
   "name": "python2"
  },
  "language_info": {
   "codemirror_mode": {
    "name": "ipython",
    "version": 2
   },
   "file_extension": ".py",
   "mimetype": "text/x-python",
   "name": "python",
   "nbconvert_exporter": "python",
   "pygments_lexer": "ipython2",
   "version": "2.7.9"
  }
 },
 "nbformat": 4,
 "nbformat_minor": 0
}

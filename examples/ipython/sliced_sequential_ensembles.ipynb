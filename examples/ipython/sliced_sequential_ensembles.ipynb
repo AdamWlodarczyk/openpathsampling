{
 "metadata": {
  "name": "",
  "signature": "sha256:9fe9319c8209c1c47b06c4435d5a1ef337bc2e0f9ebf2fa311e97f571bc50d7f"
 },
 "nbformat": 3,
 "nbformat_minor": 0,
 "worksheets": [
  {
   "cells": [
    {
     "cell_type": "markdown",
     "metadata": {},
     "source": [
      "# Combining `SequentialEnsembles` with `SlicedTrajectoryEnsembles`\n",
      "\n",
      "The ensemble creation features in OpenPathSampling are very powerful, but the ways that some of them interact with each other can be quite confusing. In this document, we explore what happens when one combines `SequentialEnsembles` and `SlicedTrajectoryEnsembles`.\n",
      "\n",
      "First, let's summarize what each of these ensembles do. ???TODO???\n",
      "\n",
      "To simplify, we'll use a fake order parameter and fake trajectories in this example. We'll also define all our ensembles in terms of `InXEnsemble`s and `OutXEnsemble`s, which will be much easier.\n",
      "\n",
      "When dealing with `SequentialEnsemble`s, we should distinguish between two types of trajectories. There's the total trajectory for the ensemble, which the normal trajectory including all frames. However, each subensemble of the `SequentialEnsemble` applies to a subtrajectory. The key to the subtleties of how `SequentialEnsemble`s interact with `SlicedTrajectoryEnsemble`s is to consider the which of these trajectories we really want to slice."
     ]
    },
    {
     "cell_type": "markdown",
     "metadata": {},
     "source": [
      "First, we import the necessary things and set up our order parameter and our initial ensemble:"
     ]
    },
    {
     "cell_type": "code",
     "collapsed": false,
     "input": [
      "from opentis.ensemble import SlicedTrajectoryEnsemble, SequentialEnsemble, InXEnsemble, OutXEnsemble\n",
      "from opentis.orderparameter import OP_Function\n",
      "from opentis.volume import LambdaVolume\n",
      "\n",
      "ens = SequentialEnsemble([\n",
      "    InXEnsemble(vol), \n",
      "    OutXEnsemble(vol), \n",
      "    InXEnsemble(vol)\n",
      "])"
     ],
     "language": "python",
     "metadata": {},
     "outputs": [
      {
       "ename": "NameError",
       "evalue": "name 'vol' is not defined",
       "output_type": "pyerr",
       "traceback": [
        "\u001b[0;31m---------------------------------------------------------------------------\u001b[0m\n\u001b[0;31mNameError\u001b[0m                                 Traceback (most recent call last)",
        "\u001b[0;32m<ipython-input-1-55f26951dd17>\u001b[0m in \u001b[0;36m<module>\u001b[0;34m()\u001b[0m\n\u001b[1;32m      4\u001b[0m \u001b[0;34m\u001b[0m\u001b[0m\n\u001b[1;32m      5\u001b[0m ens = SequentialEnsemble([\n\u001b[0;32m----> 6\u001b[0;31m     \u001b[0mInXEnsemble\u001b[0m\u001b[0;34m(\u001b[0m\u001b[0mvol\u001b[0m\u001b[0;34m)\u001b[0m\u001b[0;34m,\u001b[0m\u001b[0;34m\u001b[0m\u001b[0m\n\u001b[0m\u001b[1;32m      7\u001b[0m     \u001b[0mOutXEnsemble\u001b[0m\u001b[0;34m(\u001b[0m\u001b[0mvol\u001b[0m\u001b[0;34m)\u001b[0m\u001b[0;34m,\u001b[0m\u001b[0;34m\u001b[0m\u001b[0m\n\u001b[1;32m      8\u001b[0m     \u001b[0mInXEnsemble\u001b[0m\u001b[0;34m(\u001b[0m\u001b[0mvol\u001b[0m\u001b[0;34m)\u001b[0m\u001b[0;34m\u001b[0m\u001b[0m\n",
        "\u001b[0;31mNameError\u001b[0m: name 'vol' is not defined"
       ]
      }
     ],
     "prompt_number": 1
    },
    {
     "cell_type": "markdown",
     "metadata": {},
     "source": [
      "Next, let's define some simple visualization functions we'll use along the way:"
     ]
    },
    {
     "cell_type": "markdown",
     "metadata": {},
     "source": [
      "## Slicing the global trajectory for the whole `SequentialEnsemble`\n",
      "\n",
      "One approach we might need is to apply the whole `SequentialEnsemble` on some appropriate sliced trajectory. In our example, this translates as saying that the even slices of the total trajectory must satisfy the In-Out-In ensemble.\n",
      "\n",
      "This is quite easy to implement:"
     ]
    },
    {
     "cell_type": "code",
     "collapsed": false,
     "input": [
      "total_sliced_whole = SlicedTrajectoryEnsemble(ens, even_slice)"
     ],
     "language": "python",
     "metadata": {},
     "outputs": []
    },
    {
     "cell_type": "markdown",
     "metadata": {},
     "source": [
      "## Slicing the subtrajectory for a member of the `SequentialEnsemble`\n",
      "\n",
      "Another approach we might desire is to slice the subtrajectory seen by one of the members of the `SequentialEnsemble`. Perhaps, for example, we want an ensemble which consists of a segment with all frames inside the state, then a segment where the even frames of that segement are outside the state, and then a segment with all frames inside the state.\n",
      "\n",
      "Note carefully here that the slicing refers to the subtrajectory: it's the even frames counting from the beginning of the subtrajectory, regardless of how many frames are in the total trajectory.\n",
      "\n",
      "In this case, we have a define a slightly different `SequentialEnsemble`:"
     ]
    },
    {
     "cell_type": "code",
     "collapsed": false,
     "input": [
      "subtraj_sliced_member = SequentialEnsemble([\n",
      "    InXEnsemble(vol),\n",
      "    SlicedTrajectoryEnsemble(OutXEnsemble(vol)),\n",
      "    InXEnsemble(vol)\n",
      "])"
     ],
     "language": "python",
     "metadata": {},
     "outputs": []
    },
    {
     "cell_type": "markdown",
     "metadata": {},
     "source": [
      "## Slicing the total trajectory for a member of the `SequentialEnsemble`\n",
      "\n",
      "The last approach would be to use a slice based on the total trajectory, but only apply it to a member of the `SequentialEnsemble`. For example, we might want to have an ensemble that begins in a state, and after the first exit all even frames (counted from the start of the trajectory) are outside the state. This differs from the previous example because the count is based on the total trajectory, not the subtrajectory which is passed to the ensemble. To do this, we need to use a `SlicedSequentialEnsemble`, a subclass of `SequentialEnsemble` which requires initializing with a list containing one slice for each member ensemble (the special case `None` is turned into `slice(None,None)`)."
     ]
    },
    {
     "cell_type": "markdown",
     "metadata": {},
     "source": [
      "## Nested Slices\n",
      "\n",
      "What I have termed the \"total\" trajectory is only total in the sense that it was what was passed to the ensemble. If you nest `SlicedTrajectoryEnsemble`s, the inner slice will be based on the output from the outer slice. For example, if you made an `odd_slice` along the same lines of the `even_slice` defined above, then `SlicedTrajectoryEnsemble(ensemble SlicedTrajectoryEnsemble(ensemble, even_slice), odd_slice)` would apply to frames `[2, 6, 10, ...]`: the even numbers with odd factors. The slices are applied sequentially."
     ]
    },
    {
     "cell_type": "code",
     "collapsed": false,
     "input": [],
     "language": "python",
     "metadata": {},
     "outputs": []
    }
   ],
   "metadata": {}
  }
 ]
}
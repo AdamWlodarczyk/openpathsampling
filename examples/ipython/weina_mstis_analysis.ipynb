{
 "cells": [
  {
   "cell_type": "markdown",
   "metadata": {},
   "source": [
    "# Analyzing the MSTIS simulation\n",
    "\n",
    "Included in this notebook:\n",
    "\n",
    "* Opening files for analysis\n",
    "* Rates, fluxes, total crossing probabilities, and condition transition probabilities\n",
    "* Per-ensemble properties such as path length distributions and interface crossing probabilities\n",
    "* Move scheme analysis\n",
    "* Replica exchange analysis\n",
    "* Replica move history tree visualization\n",
    "* Replaying the simulation\n",
    "* MORE TO COME! Like free energy projections, path density plots, and more"
   ]
  },
  {
   "cell_type": "code",
   "execution_count": 1,
   "metadata": {
    "collapsed": true
   },
   "outputs": [],
   "source": [
    "%matplotlib inline\n",
    "import matplotlib.pyplot as plt\n",
    "import openpathsampling as paths\n",
    "import numpy as np"
   ]
  },
  {
   "cell_type": "markdown",
   "metadata": {},
   "source": [
    "The optimum way to use storage depends on whether you're doing production or analysis. For analysis, you should open the file as an `AnalysisStorage` object. This makes the analysis much faster."
   ]
  },
  {
   "cell_type": "code",
   "execution_count": 2,
   "metadata": {
    "collapsed": false
   },
   "outputs": [
    {
     "name": "stdout",
     "output_type": "stream",
     "text": [
      "CPU times: user 42.3 s, sys: 4.59 s, total: 46.9 s\n",
      "Wall time: 1min 10s\n"
     ]
    }
   ],
   "source": [
    "%%time\n",
    "storage = paths.AnalysisStorage(\"weina_production.nc\")"
   ]
  },
  {
   "cell_type": "code",
   "execution_count": 3,
   "metadata": {
    "collapsed": false
   },
   "outputs": [
    {
     "name": "stdout",
     "output_type": "stream",
     "text": [
      "PathMovers: 187\n",
      "Engines: 1\n",
      "Samples: 6644\n",
      "Ensembles: 411\n",
      "SampleSets: 5000\n",
      "Snapshots: 158486\n",
      "Configurations: 79243\n",
      "Trajectories: 3942\n",
      "Networks: 1\n"
     ]
    }
   ],
   "source": [
    "print \"PathMovers:\", len(storage.pathmovers)\n",
    "print \"Engines:\", len(storage.engines)\n",
    "print \"Samples:\", len(storage.samples)\n",
    "print \"Ensembles:\", len(storage.ensembles)\n",
    "print \"SampleSets:\", len(storage.samplesets)\n",
    "print \"Snapshots:\", len(storage.snapshots)\n",
    "print \"Configurations:\", len(storage.configurations)\n",
    "print \"Trajectories:\", len(storage.trajectories)\n",
    "print \"Networks:\", len(storage.networks)"
   ]
  },
  {
   "cell_type": "code",
   "execution_count": 4,
   "metadata": {
    "collapsed": false,
    "scrolled": true
   },
   "outputs": [
    {
     "name": "stdout",
     "output_type": "stream",
     "text": [
      "CPU times: user 587 µs, sys: 86 µs, total: 673 µs\n",
      "Wall time: 579 µs\n"
     ]
    }
   ],
   "source": [
    "%%time\n",
    "mstis = storage.networks.load(0)"
   ]
  },
  {
   "cell_type": "code",
   "execution_count": 5,
   "metadata": {
    "collapsed": false
   },
   "outputs": [
    {
     "name": "stdout",
     "output_type": "stream",
     "text": [
      "opA LRUCache(158486/0 of 1000000/0)\n",
      "phi LRUCache(158486/0 of 1000000/0)\n",
      "psi LRUCache(158486/0 of 1000000/0)\n",
      "opB LRUCache(158486/0 of 1000000/0)\n",
      "opC LRUCache(158486/0 of 1000000/0)\n",
      "opD LRUCache(158486/0 of 1000000/0)\n",
      "opE LRUCache(158486/0 of 1000000/0)\n",
      "opF LRUCache(158486/0 of 1000000/0)\n",
      "CPU times: user 3.32 ms, sys: 269 µs, total: 3.59 ms\n",
      "Wall time: 3.55 ms\n"
     ]
    }
   ],
   "source": [
    "%%time\n",
    "for cv in storage.cvs:\n",
    "    print cv.name, cv._store_dict.cache"
   ]
  },
  {
   "cell_type": "markdown",
   "metadata": {},
   "source": [
    "## Reaction rates\n",
    "\n",
    "TIS methods are especially good at determining reaction rates, and OPS makes it extremely easy to obtain the rate from a TIS network.\n",
    "\n",
    "Note that, although you can get the rate directly, it is very important to look at other results of the sampling (illustrated in this notebook and in notebooks referred to herein) in order to check the validity of the rates you obtain."
   ]
  },
  {
   "cell_type": "markdown",
   "metadata": {},
   "source": [
    "By default, the built-in analysis calculates histograms the maximum value of some order parameter and the pathlength of every sampled ensemble. You can add other things to this list as well, but you must always specify histogram parameters for these two. The pathlength is in units of frames."
   ]
  },
  {
   "cell_type": "code",
   "execution_count": 6,
   "metadata": {
    "collapsed": false
   },
   "outputs": [],
   "source": [
    "mstis.hist_args['max_lambda'] = { 'bin_width' : 2, 'bin_range' : (0.0, 90) }\n",
    "mstis.hist_args['pathlength'] = { 'bin_width' : 20, 'bin_range' : (0, 100) }"
   ]
  },
  {
   "cell_type": "code",
   "execution_count": 7,
   "metadata": {
    "collapsed": false
   },
   "outputs": [
    {
     "name": "stdout",
     "output_type": "stream",
     "text": [
      "CPU times: user 44.4 s, sys: 342 ms, total: 44.7 s\n",
      "Wall time: 50.1 s\n"
     ]
    },
    {
     "name": "stderr",
     "output_type": "stream",
     "text": [
      "/Users/jan-hendrikprinz/anaconda/lib/python2.7/site-packages/IPython/core/formatters.py:90: DeprecationWarning: DisplayFormatter._ipython_display_formatter_default is deprecated: use @default decorator instead.\n",
      "  def _ipython_display_formatter_default(self):\n",
      "/Users/jan-hendrikprinz/anaconda/lib/python2.7/site-packages/IPython/core/formatters.py:667: DeprecationWarning: PlainTextFormatter._singleton_printers_default is deprecated: use @default decorator instead.\n",
      "  def _singleton_printers_default(self):\n"
     ]
    },
    {
     "data": {
      "text/html": [
       "<div>\n",
       "<table border=\"1\" class=\"dataframe\">\n",
       "  <thead>\n",
       "    <tr style=\"text-align: right;\">\n",
       "      <th></th>\n",
       "      <th>{x|opA(x) in [0.0, 10.0]}</th>\n",
       "      <th>{x|opB(x) in [0.0, 10.0]}</th>\n",
       "      <th>{x|opC(x) in [0.0, 10.0]}</th>\n",
       "      <th>{x|opD(x) in [0.0, 10.0]}</th>\n",
       "      <th>{x|opE(x) in [0.0, 10.0]}</th>\n",
       "      <th>{x|opF(x) in [0.0, 10.0]}</th>\n",
       "    </tr>\n",
       "  </thead>\n",
       "  <tbody>\n",
       "    <tr>\n",
       "      <th>{x|opA(x) in [0.0, 10.0]}</th>\n",
       "      <td>NaN</td>\n",
       "      <td>0.000174076</td>\n",
       "      <td>1.13528e-05</td>\n",
       "      <td>0</td>\n",
       "      <td>1.61136e-05</td>\n",
       "      <td>0</td>\n",
       "    </tr>\n",
       "    <tr>\n",
       "      <th>{x|opB(x) in [0.0, 10.0]}</th>\n",
       "      <td>7.60491e-05</td>\n",
       "      <td>NaN</td>\n",
       "      <td>4.14859e-06</td>\n",
       "      <td>0</td>\n",
       "      <td>0</td>\n",
       "      <td>0</td>\n",
       "    </tr>\n",
       "    <tr>\n",
       "      <th>{x|opC(x) in [0.0, 10.0]}</th>\n",
       "      <td>0</td>\n",
       "      <td>0</td>\n",
       "      <td>NaN</td>\n",
       "      <td>0.000123484</td>\n",
       "      <td>0</td>\n",
       "      <td>0</td>\n",
       "    </tr>\n",
       "    <tr>\n",
       "      <th>{x|opD(x) in [0.0, 10.0]}</th>\n",
       "      <td>0.000129208</td>\n",
       "      <td>0</td>\n",
       "      <td>0.000655165</td>\n",
       "      <td>NaN</td>\n",
       "      <td>0</td>\n",
       "      <td>0</td>\n",
       "    </tr>\n",
       "    <tr>\n",
       "      <th>{x|opE(x) in [0.0, 10.0]}</th>\n",
       "      <td>0</td>\n",
       "      <td>0</td>\n",
       "      <td>3.25714e-05</td>\n",
       "      <td>0</td>\n",
       "      <td>NaN</td>\n",
       "      <td>3.72886e-05</td>\n",
       "    </tr>\n",
       "    <tr>\n",
       "      <th>{x|opF(x) in [0.0, 10.0]}</th>\n",
       "      <td>0</td>\n",
       "      <td>0</td>\n",
       "      <td>0</td>\n",
       "      <td>0</td>\n",
       "      <td>5.30925e-05</td>\n",
       "      <td>NaN</td>\n",
       "    </tr>\n",
       "  </tbody>\n",
       "</table>\n",
       "</div>"
      ],
      "text/plain": [
       "                          {x|opA(x) in [0.0, 10.0]} {x|opB(x) in [0.0, 10.0]}  \\\n",
       "{x|opA(x) in [0.0, 10.0]}                       NaN               0.000174076   \n",
       "{x|opB(x) in [0.0, 10.0]}               7.60491e-05                       NaN   \n",
       "{x|opC(x) in [0.0, 10.0]}                         0                         0   \n",
       "{x|opD(x) in [0.0, 10.0]}               0.000129208                         0   \n",
       "{x|opE(x) in [0.0, 10.0]}                         0                         0   \n",
       "{x|opF(x) in [0.0, 10.0]}                         0                         0   \n",
       "\n",
       "                          {x|opC(x) in [0.0, 10.0]} {x|opD(x) in [0.0, 10.0]}  \\\n",
       "{x|opA(x) in [0.0, 10.0]}               1.13528e-05                         0   \n",
       "{x|opB(x) in [0.0, 10.0]}               4.14859e-06                         0   \n",
       "{x|opC(x) in [0.0, 10.0]}                       NaN               0.000123484   \n",
       "{x|opD(x) in [0.0, 10.0]}               0.000655165                       NaN   \n",
       "{x|opE(x) in [0.0, 10.0]}               3.25714e-05                         0   \n",
       "{x|opF(x) in [0.0, 10.0]}                         0                         0   \n",
       "\n",
       "                          {x|opE(x) in [0.0, 10.0]} {x|opF(x) in [0.0, 10.0]}  \n",
       "{x|opA(x) in [0.0, 10.0]}               1.61136e-05                         0  \n",
       "{x|opB(x) in [0.0, 10.0]}                         0                         0  \n",
       "{x|opC(x) in [0.0, 10.0]}                         0                         0  \n",
       "{x|opD(x) in [0.0, 10.0]}                         0                         0  \n",
       "{x|opE(x) in [0.0, 10.0]}                       NaN               3.72886e-05  \n",
       "{x|opF(x) in [0.0, 10.0]}               5.30925e-05                       NaN  "
      ]
     },
     "execution_count": 7,
     "metadata": {},
     "output_type": "execute_result"
    }
   ],
   "source": [
    "%%time\n",
    "mstis.rate_matrix(storage, force=True)"
   ]
  },
  {
   "cell_type": "markdown",
   "metadata": {
    "collapsed": true
   },
   "source": [
    "The self-rates (the rate of returning the to initial state) are undefined, and return not-a-number.\n",
    "\n",
    "The rate is calcuated according to the formula:\n",
    "\n",
    "$$k_{AB} = \\phi_{A,0} P(B|\\lambda_m) \\prod_{i=0}^{m-1} P(\\lambda_{i+1} | \\lambda_i)$$\n",
    "\n",
    "where $\\phi_{A,0}$ is the flux from state A through its innermost interface, $P(B|\\lambda_m)$ is the conditional transition probability (the probability that a path which crosses the interface at $\\lambda_m$ ends in state B), and $\\prod_{i=0}^{m-1} P(\\lambda_{i+1} | \\lambda_i)$ is the total crossing probability. We can look at each of these terms individually."
   ]
  },
  {
   "cell_type": "markdown",
   "metadata": {},
   "source": [
    "### Total crossing probability"
   ]
  },
  {
   "cell_type": "code",
   "execution_count": 10,
   "metadata": {
    "collapsed": false
   },
   "outputs": [
    {
     "data": {
      "text/plain": [
       "{'A0': {0},\n",
       " 'A1': {12},\n",
       " 'A2': {15},\n",
       " 'A3': {18},\n",
       " 'A4': {110},\n",
       " 'B0': {6},\n",
       " 'B1': {81},\n",
       " 'B2': {84},\n",
       " 'B3': {87},\n",
       " 'B4': {107},\n",
       " 'C0': {7},\n",
       " 'C1': {69},\n",
       " 'C2': {72},\n",
       " 'C3': {104},\n",
       " 'D0': {8},\n",
       " 'D1': {42},\n",
       " 'D2': {45},\n",
       " 'D3': {101},\n",
       " 'E0': {9},\n",
       " 'E1': {54},\n",
       " 'E2': {57},\n",
       " 'E3': {60},\n",
       " 'E4': {98},\n",
       " 'F0': {10},\n",
       " 'F1': {27},\n",
       " 'F2': {30},\n",
       " 'F3': {33},\n",
       " 'F4': {90},\n",
       " 'all states': {92},\n",
       " 'all states except A0': {2},\n",
       " 'all states except B0': {76},\n",
       " 'all states except C0': {64},\n",
       " 'all states except D0': {37},\n",
       " 'all states except E0': {49},\n",
       " 'all states except F0': {22}}"
      ]
     },
     "execution_count": 10,
     "metadata": {},
     "output_type": "execute_result"
    }
   ],
   "source": [
    "storage.volumes.name_idx"
   ]
  },
  {
   "cell_type": "code",
   "execution_count": 11,
   "metadata": {
    "collapsed": false
   },
   "outputs": [],
   "source": [
    "stateA = storage.volumes[\"A0\"]\n",
    "stateB = storage.volumes[\"B0\"]\n",
    "stateC = storage.volumes[\"C0\"]"
   ]
  },
  {
   "cell_type": "code",
   "execution_count": 12,
   "metadata": {
    "collapsed": false
   },
   "outputs": [
    {
     "data": {
      "text/plain": [
       "[<matplotlib.lines.Line2D at 0x123917f50>]"
      ]
     },
     "execution_count": 12,
     "metadata": {},
     "output_type": "execute_result"
    },
    {
     "data": {
      "image/png": "[encoded data removed]",
      "text/plain": [
       "<matplotlib.figure.Figure at 0x12610ff50>"
      ]
     },
     "metadata": {},
     "output_type": "display_data"
    }
   ],
   "source": [
    "tcp_AB = mstis.transitions[(stateA, stateB)].tcp\n",
    "tcp_AC = mstis.transitions[(stateA, stateC)].tcp\n",
    "tcp_BC = mstis.transitions[(stateB, stateC)].tcp\n",
    "tcp_BA = mstis.transitions[(stateB, stateA)].tcp\n",
    "tcp_CA = mstis.transitions[(stateC, stateA)].tcp\n",
    "tcp_CB = mstis.transitions[(stateC, stateB)].tcp\n",
    "\n",
    "plt.plot(tcp_AB.x, tcp_AB)\n",
    "plt.plot(tcp_CA.x, tcp_CA)\n",
    "plt.plot(tcp_BC.x, tcp_BC)\n",
    "plt.plot(tcp_AC.x, tcp_AC) # same as tcp_AB in MSTIS"
   ]
  },
  {
   "cell_type": "markdown",
   "metadata": {},
   "source": [
    "We normally look at these on a log scale:"
   ]
  },
  {
   "cell_type": "code",
   "execution_count": 13,
   "metadata": {
    "collapsed": false
   },
   "outputs": [
    {
     "data": {
      "text/plain": [
       "[<matplotlib.lines.Line2D at 0x123e7d0d0>]"
      ]
     },
     "execution_count": 13,
     "metadata": {},
     "output_type": "execute_result"
    },
    {
     "data": {
      "image/png": "[encoded data removed]",
      "text/plain": [
       "<matplotlib.figure.Figure at 0x12610f310>"
      ]
     },
     "metadata": {},
     "output_type": "display_data"
    }
   ],
   "source": [
    "plt.plot(tcp_AB.x, np.log(tcp_AB))\n",
    "plt.plot(tcp_CA.x, np.log(tcp_CA))\n",
    "plt.plot(tcp_BC.x, np.log(tcp_BC))"
   ]
  },
  {
   "cell_type": "markdown",
   "metadata": {},
   "source": [
    "### Flux\n",
    "\n",
    "Here we also calculate the flux contribution to each transition. The flux is calculated based on "
   ]
  },
  {
   "cell_type": "code",
   "execution_count": 14,
   "metadata": {
    "collapsed": false
   },
   "outputs": [
    {
     "data": {
      "text/html": [
       "<div>\n",
       "<table border=\"1\" class=\"dataframe\">\n",
       "  <thead>\n",
       "    <tr style=\"text-align: right;\">\n",
       "      <th></th>\n",
       "      <th>{x|opA(x) in [0.0, 10.0]}</th>\n",
       "      <th>{x|opB(x) in [0.0, 10.0]}</th>\n",
       "      <th>{x|opC(x) in [0.0, 10.0]}</th>\n",
       "      <th>{x|opD(x) in [0.0, 10.0]}</th>\n",
       "      <th>{x|opE(x) in [0.0, 10.0]}</th>\n",
       "      <th>{x|opF(x) in [0.0, 10.0]}</th>\n",
       "    </tr>\n",
       "  </thead>\n",
       "  <tbody>\n",
       "    <tr>\n",
       "      <th>{x|opA(x) in [0.0, 10.0]}</th>\n",
       "      <td>NaN</td>\n",
       "      <td>0.00454545</td>\n",
       "      <td>0.00454545</td>\n",
       "      <td>0.00454545</td>\n",
       "      <td>0.00454545</td>\n",
       "      <td>0.00454545</td>\n",
       "    </tr>\n",
       "    <tr>\n",
       "      <th>{x|opB(x) in [0.0, 10.0]}</th>\n",
       "      <td>0.00615385</td>\n",
       "      <td>NaN</td>\n",
       "      <td>0.00615385</td>\n",
       "      <td>0.00615385</td>\n",
       "      <td>0.00615385</td>\n",
       "      <td>0.00615385</td>\n",
       "    </tr>\n",
       "    <tr>\n",
       "      <th>{x|opC(x) in [0.0, 10.0]}</th>\n",
       "      <td>0.0121547</td>\n",
       "      <td>0.0121547</td>\n",
       "      <td>NaN</td>\n",
       "      <td>0.0121547</td>\n",
       "      <td>0.0121547</td>\n",
       "      <td>0.0121547</td>\n",
       "    </tr>\n",
       "    <tr>\n",
       "      <th>{x|opD(x) in [0.0, 10.0]}</th>\n",
       "      <td>0.0047138</td>\n",
       "      <td>0.0047138</td>\n",
       "      <td>0.0047138</td>\n",
       "      <td>NaN</td>\n",
       "      <td>0.0047138</td>\n",
       "      <td>0.0047138</td>\n",
       "    </tr>\n",
       "    <tr>\n",
       "      <th>{x|opE(x) in [0.0, 10.0]}</th>\n",
       "      <td>0.0104348</td>\n",
       "      <td>0.0104348</td>\n",
       "      <td>0.0104348</td>\n",
       "      <td>0.0104348</td>\n",
       "      <td>NaN</td>\n",
       "      <td>0.0104348</td>\n",
       "    </tr>\n",
       "    <tr>\n",
       "      <th>{x|opF(x) in [0.0, 10.0]}</th>\n",
       "      <td>0.0106195</td>\n",
       "      <td>0.0106195</td>\n",
       "      <td>0.0106195</td>\n",
       "      <td>0.0106195</td>\n",
       "      <td>0.0106195</td>\n",
       "      <td>NaN</td>\n",
       "    </tr>\n",
       "  </tbody>\n",
       "</table>\n",
       "</div>"
      ],
      "text/plain": [
       "                          {x|opA(x) in [0.0, 10.0]} {x|opB(x) in [0.0, 10.0]}  \\\n",
       "{x|opA(x) in [0.0, 10.0]}                       NaN                0.00454545   \n",
       "{x|opB(x) in [0.0, 10.0]}                0.00615385                       NaN   \n",
       "{x|opC(x) in [0.0, 10.0]}                 0.0121547                 0.0121547   \n",
       "{x|opD(x) in [0.0, 10.0]}                 0.0047138                 0.0047138   \n",
       "{x|opE(x) in [0.0, 10.0]}                 0.0104348                 0.0104348   \n",
       "{x|opF(x) in [0.0, 10.0]}                 0.0106195                 0.0106195   \n",
       "\n",
       "                          {x|opC(x) in [0.0, 10.0]} {x|opD(x) in [0.0, 10.0]}  \\\n",
       "{x|opA(x) in [0.0, 10.0]}                0.00454545                0.00454545   \n",
       "{x|opB(x) in [0.0, 10.0]}                0.00615385                0.00615385   \n",
       "{x|opC(x) in [0.0, 10.0]}                       NaN                 0.0121547   \n",
       "{x|opD(x) in [0.0, 10.0]}                 0.0047138                       NaN   \n",
       "{x|opE(x) in [0.0, 10.0]}                 0.0104348                 0.0104348   \n",
       "{x|opF(x) in [0.0, 10.0]}                 0.0106195                 0.0106195   \n",
       "\n",
       "                          {x|opE(x) in [0.0, 10.0]} {x|opF(x) in [0.0, 10.0]}  \n",
       "{x|opA(x) in [0.0, 10.0]}                0.00454545                0.00454545  \n",
       "{x|opB(x) in [0.0, 10.0]}                0.00615385                0.00615385  \n",
       "{x|opC(x) in [0.0, 10.0]}                 0.0121547                 0.0121547  \n",
       "{x|opD(x) in [0.0, 10.0]}                 0.0047138                 0.0047138  \n",
       "{x|opE(x) in [0.0, 10.0]}                       NaN                 0.0104348  \n",
       "{x|opF(x) in [0.0, 10.0]}                 0.0106195                       NaN  "
      ]
     },
     "execution_count": 14,
     "metadata": {},
     "output_type": "execute_result"
    }
   ],
   "source": [
    "import pandas as pd\n",
    "flux_matrix = pd.DataFrame(columns=mstis.states, index=mstis.states)\n",
    "for state_pair in mstis.transitions:\n",
    "    transition = mstis.transitions[state_pair]\n",
    "    flux_matrix.set_value(state_pair[0], state_pair[1], transition._flux)\n",
    "\n",
    "flux_matrix"
   ]
  },
  {
   "cell_type": "markdown",
   "metadata": {},
   "source": [
    "### Conditional transition probability"
   ]
  },
  {
   "cell_type": "code",
   "execution_count": 15,
   "metadata": {
    "collapsed": false
   },
   "outputs": [
    {
     "data": {
      "text/html": [
       "<div>\n",
       "<table border=\"1\" class=\"dataframe\">\n",
       "  <thead>\n",
       "    <tr style=\"text-align: right;\">\n",
       "      <th></th>\n",
       "      <th>{x|opA(x) in [0.0, 10.0]}</th>\n",
       "      <th>{x|opB(x) in [0.0, 10.0]}</th>\n",
       "      <th>{x|opC(x) in [0.0, 10.0]}</th>\n",
       "      <th>{x|opD(x) in [0.0, 10.0]}</th>\n",
       "      <th>{x|opE(x) in [0.0, 10.0]}</th>\n",
       "      <th>{x|opF(x) in [0.0, 10.0]}</th>\n",
       "    </tr>\n",
       "  </thead>\n",
       "  <tbody>\n",
       "    <tr>\n",
       "      <th>{x|opA(x) in [0.0, 10.0]}</th>\n",
       "      <td>NaN</td>\n",
       "      <td>0.2852</td>\n",
       "      <td>0.0186</td>\n",
       "      <td>0</td>\n",
       "      <td>0.0264</td>\n",
       "      <td>0</td>\n",
       "    </tr>\n",
       "    <tr>\n",
       "      <th>{x|opB(x) in [0.0, 10.0]}</th>\n",
       "      <td>0.6086</td>\n",
       "      <td>NaN</td>\n",
       "      <td>0.0332</td>\n",
       "      <td>0</td>\n",
       "      <td>0</td>\n",
       "      <td>0</td>\n",
       "    </tr>\n",
       "    <tr>\n",
       "      <th>{x|opC(x) in [0.0, 10.0]}</th>\n",
       "      <td>0</td>\n",
       "      <td>0</td>\n",
       "      <td>NaN</td>\n",
       "      <td>0.0502</td>\n",
       "      <td>0</td>\n",
       "      <td>0</td>\n",
       "    </tr>\n",
       "    <tr>\n",
       "      <th>{x|opD(x) in [0.0, 10.0]}</th>\n",
       "      <td>0.0708</td>\n",
       "      <td>0</td>\n",
       "      <td>0.359</td>\n",
       "      <td>NaN</td>\n",
       "      <td>0</td>\n",
       "      <td>0</td>\n",
       "    </tr>\n",
       "    <tr>\n",
       "      <th>{x|opE(x) in [0.0, 10.0]}</th>\n",
       "      <td>0</td>\n",
       "      <td>0</td>\n",
       "      <td>0.058</td>\n",
       "      <td>0</td>\n",
       "      <td>NaN</td>\n",
       "      <td>0.0664</td>\n",
       "    </tr>\n",
       "    <tr>\n",
       "      <th>{x|opF(x) in [0.0, 10.0]}</th>\n",
       "      <td>0</td>\n",
       "      <td>0</td>\n",
       "      <td>0</td>\n",
       "      <td>0</td>\n",
       "      <td>0.1756</td>\n",
       "      <td>NaN</td>\n",
       "    </tr>\n",
       "  </tbody>\n",
       "</table>\n",
       "</div>"
      ],
      "text/plain": [
       "                          {x|opA(x) in [0.0, 10.0]} {x|opB(x) in [0.0, 10.0]}  \\\n",
       "{x|opA(x) in [0.0, 10.0]}                       NaN                    0.2852   \n",
       "{x|opB(x) in [0.0, 10.0]}                    0.6086                       NaN   \n",
       "{x|opC(x) in [0.0, 10.0]}                         0                         0   \n",
       "{x|opD(x) in [0.0, 10.0]}                    0.0708                         0   \n",
       "{x|opE(x) in [0.0, 10.0]}                         0                         0   \n",
       "{x|opF(x) in [0.0, 10.0]}                         0                         0   \n",
       "\n",
       "                          {x|opC(x) in [0.0, 10.0]} {x|opD(x) in [0.0, 10.0]}  \\\n",
       "{x|opA(x) in [0.0, 10.0]}                    0.0186                         0   \n",
       "{x|opB(x) in [0.0, 10.0]}                    0.0332                         0   \n",
       "{x|opC(x) in [0.0, 10.0]}                       NaN                    0.0502   \n",
       "{x|opD(x) in [0.0, 10.0]}                     0.359                       NaN   \n",
       "{x|opE(x) in [0.0, 10.0]}                     0.058                         0   \n",
       "{x|opF(x) in [0.0, 10.0]}                         0                         0   \n",
       "\n",
       "                          {x|opE(x) in [0.0, 10.0]} {x|opF(x) in [0.0, 10.0]}  \n",
       "{x|opA(x) in [0.0, 10.0]}                    0.0264                         0  \n",
       "{x|opB(x) in [0.0, 10.0]}                         0                         0  \n",
       "{x|opC(x) in [0.0, 10.0]}                         0                         0  \n",
       "{x|opD(x) in [0.0, 10.0]}                         0                         0  \n",
       "{x|opE(x) in [0.0, 10.0]}                       NaN                    0.0664  \n",
       "{x|opF(x) in [0.0, 10.0]}                    0.1756                       NaN  "
      ]
     },
     "execution_count": 15,
     "metadata": {},
     "output_type": "execute_result"
    }
   ],
   "source": [
    "outer_ctp_matrix = pd.DataFrame(columns=mstis.states, index=mstis.states)\n",
    "for state_pair in mstis.transitions:\n",
    "    transition = mstis.transitions[state_pair]\n",
    "    outer_ctp_matrix.set_value(state_pair[0], state_pair[1], transition.ctp[transition.ensembles[-1]])    \n",
    "\n",
    "outer_ctp_matrix"
   ]
  },
  {
   "cell_type": "code",
   "execution_count": 16,
   "metadata": {
    "collapsed": false
   },
   "outputs": [
    {
     "data": {
      "text/html": [
       "<div>\n",
       "<table border=\"1\" class=\"dataframe\">\n",
       "  <thead>\n",
       "    <tr style=\"text-align: right;\">\n",
       "      <th></th>\n",
       "      <th>0</th>\n",
       "      <th>1</th>\n",
       "      <th>2</th>\n",
       "      <th>3</th>\n",
       "    </tr>\n",
       "  </thead>\n",
       "  <tbody>\n",
       "    <tr>\n",
       "      <th>({x|opE(x) in [0.0, 10.0]}, {x|opC(x) in [0.0, 10.0]})</th>\n",
       "      <td>0.0000</td>\n",
       "      <td>0.0000</td>\n",
       "      <td>0.0092</td>\n",
       "      <td>0.0580</td>\n",
       "    </tr>\n",
       "    <tr>\n",
       "      <th>({x|opE(x) in [0.0, 10.0]}, {x|opA(x) in [0.0, 10.0]})</th>\n",
       "      <td>0.0000</td>\n",
       "      <td>0.0000</td>\n",
       "      <td>0.0122</td>\n",
       "      <td>0.0000</td>\n",
       "    </tr>\n",
       "    <tr>\n",
       "      <th>({x|opF(x) in [0.0, 10.0]}, {x|opA(x) in [0.0, 10.0]})</th>\n",
       "      <td>0.0000</td>\n",
       "      <td>0.0000</td>\n",
       "      <td>0.0000</td>\n",
       "      <td>0.0000</td>\n",
       "    </tr>\n",
       "    <tr>\n",
       "      <th>({x|opC(x) in [0.0, 10.0]}, {x|opD(x) in [0.0, 10.0]})</th>\n",
       "      <td>0.0070</td>\n",
       "      <td>0.0216</td>\n",
       "      <td>0.0502</td>\n",
       "      <td>NaN</td>\n",
       "    </tr>\n",
       "    <tr>\n",
       "      <th>({x|opD(x) in [0.0, 10.0]}, {x|opF(x) in [0.0, 10.0]})</th>\n",
       "      <td>0.0000</td>\n",
       "      <td>0.0000</td>\n",
       "      <td>0.0000</td>\n",
       "      <td>NaN</td>\n",
       "    </tr>\n",
       "    <tr>\n",
       "      <th>({x|opD(x) in [0.0, 10.0]}, {x|opE(x) in [0.0, 10.0]})</th>\n",
       "      <td>0.0000</td>\n",
       "      <td>0.0000</td>\n",
       "      <td>0.0000</td>\n",
       "      <td>NaN</td>\n",
       "    </tr>\n",
       "    <tr>\n",
       "      <th>({x|opE(x) in [0.0, 10.0]}, {x|opB(x) in [0.0, 10.0]})</th>\n",
       "      <td>0.0000</td>\n",
       "      <td>0.0000</td>\n",
       "      <td>0.0000</td>\n",
       "      <td>0.0000</td>\n",
       "    </tr>\n",
       "    <tr>\n",
       "      <th>({x|opC(x) in [0.0, 10.0]}, {x|opB(x) in [0.0, 10.0]})</th>\n",
       "      <td>0.0000</td>\n",
       "      <td>0.0000</td>\n",
       "      <td>0.0000</td>\n",
       "      <td>NaN</td>\n",
       "    </tr>\n",
       "    <tr>\n",
       "      <th>({x|opB(x) in [0.0, 10.0]}, {x|opF(x) in [0.0, 10.0]})</th>\n",
       "      <td>0.0000</td>\n",
       "      <td>0.0000</td>\n",
       "      <td>0.0000</td>\n",
       "      <td>0.0000</td>\n",
       "    </tr>\n",
       "    <tr>\n",
       "      <th>({x|opF(x) in [0.0, 10.0]}, {x|opC(x) in [0.0, 10.0]})</th>\n",
       "      <td>0.0000</td>\n",
       "      <td>0.0000</td>\n",
       "      <td>0.0000</td>\n",
       "      <td>0.0000</td>\n",
       "    </tr>\n",
       "    <tr>\n",
       "      <th>({x|opB(x) in [0.0, 10.0]}, {x|opE(x) in [0.0, 10.0]})</th>\n",
       "      <td>0.0000</td>\n",
       "      <td>0.0000</td>\n",
       "      <td>0.0000</td>\n",
       "      <td>0.0000</td>\n",
       "    </tr>\n",
       "    <tr>\n",
       "      <th>({x|opD(x) in [0.0, 10.0]}, {x|opA(x) in [0.0, 10.0]})</th>\n",
       "      <td>0.0136</td>\n",
       "      <td>0.0104</td>\n",
       "      <td>0.0708</td>\n",
       "      <td>NaN</td>\n",
       "    </tr>\n",
       "    <tr>\n",
       "      <th>({x|opA(x) in [0.0, 10.0]}, {x|opB(x) in [0.0, 10.0]})</th>\n",
       "      <td>0.1028</td>\n",
       "      <td>0.1212</td>\n",
       "      <td>0.1062</td>\n",
       "      <td>0.2852</td>\n",
       "    </tr>\n",
       "    <tr>\n",
       "      <th>({x|opA(x) in [0.0, 10.0]}, {x|opE(x) in [0.0, 10.0]})</th>\n",
       "      <td>0.0048</td>\n",
       "      <td>0.0044</td>\n",
       "      <td>0.0108</td>\n",
       "      <td>0.0264</td>\n",
       "    </tr>\n",
       "    <tr>\n",
       "      <th>({x|opA(x) in [0.0, 10.0]}, {x|opC(x) in [0.0, 10.0]})</th>\n",
       "      <td>0.0000</td>\n",
       "      <td>0.0000</td>\n",
       "      <td>0.0024</td>\n",
       "      <td>0.0186</td>\n",
       "    </tr>\n",
       "    <tr>\n",
       "      <th>({x|opC(x) in [0.0, 10.0]}, {x|opE(x) in [0.0, 10.0]})</th>\n",
       "      <td>0.0000</td>\n",
       "      <td>0.0000</td>\n",
       "      <td>0.0000</td>\n",
       "      <td>NaN</td>\n",
       "    </tr>\n",
       "    <tr>\n",
       "      <th>({x|opD(x) in [0.0, 10.0]}, {x|opC(x) in [0.0, 10.0]})</th>\n",
       "      <td>0.2386</td>\n",
       "      <td>0.1860</td>\n",
       "      <td>0.3590</td>\n",
       "      <td>NaN</td>\n",
       "    </tr>\n",
       "    <tr>\n",
       "      <th>({x|opD(x) in [0.0, 10.0]}, {x|opB(x) in [0.0, 10.0]})</th>\n",
       "      <td>0.0000</td>\n",
       "      <td>0.0000</td>\n",
       "      <td>0.0000</td>\n",
       "      <td>NaN</td>\n",
       "    </tr>\n",
       "    <tr>\n",
       "      <th>({x|opF(x) in [0.0, 10.0]}, {x|opD(x) in [0.0, 10.0]})</th>\n",
       "      <td>0.0000</td>\n",
       "      <td>0.0000</td>\n",
       "      <td>0.0000</td>\n",
       "      <td>0.0000</td>\n",
       "    </tr>\n",
       "    <tr>\n",
       "      <th>({x|opE(x) in [0.0, 10.0]}, {x|opF(x) in [0.0, 10.0]})</th>\n",
       "      <td>0.0000</td>\n",
       "      <td>0.0000</td>\n",
       "      <td>0.0018</td>\n",
       "      <td>0.0664</td>\n",
       "    </tr>\n",
       "    <tr>\n",
       "      <th>({x|opF(x) in [0.0, 10.0]}, {x|opB(x) in [0.0, 10.0]})</th>\n",
       "      <td>0.0000</td>\n",
       "      <td>0.0000</td>\n",
       "      <td>0.0066</td>\n",
       "      <td>0.0000</td>\n",
       "    </tr>\n",
       "    <tr>\n",
       "      <th>({x|opC(x) in [0.0, 10.0]}, {x|opF(x) in [0.0, 10.0]})</th>\n",
       "      <td>0.0000</td>\n",
       "      <td>0.0000</td>\n",
       "      <td>0.0000</td>\n",
       "      <td>NaN</td>\n",
       "    </tr>\n",
       "    <tr>\n",
       "      <th>({x|opA(x) in [0.0, 10.0]}, {x|opD(x) in [0.0, 10.0]})</th>\n",
       "      <td>0.0000</td>\n",
       "      <td>0.0000</td>\n",
       "      <td>0.0000</td>\n",
       "      <td>0.0000</td>\n",
       "    </tr>\n",
       "    <tr>\n",
       "      <th>({x|opB(x) in [0.0, 10.0]}, {x|opC(x) in [0.0, 10.0]})</th>\n",
       "      <td>0.0000</td>\n",
       "      <td>0.0098</td>\n",
       "      <td>0.0518</td>\n",
       "      <td>0.0332</td>\n",
       "    </tr>\n",
       "    <tr>\n",
       "      <th>({x|opB(x) in [0.0, 10.0]}, {x|opA(x) in [0.0, 10.0]})</th>\n",
       "      <td>0.0424</td>\n",
       "      <td>0.0684</td>\n",
       "      <td>0.2536</td>\n",
       "      <td>0.6086</td>\n",
       "    </tr>\n",
       "    <tr>\n",
       "      <th>({x|opE(x) in [0.0, 10.0]}, {x|opD(x) in [0.0, 10.0]})</th>\n",
       "      <td>0.0000</td>\n",
       "      <td>0.0000</td>\n",
       "      <td>0.0000</td>\n",
       "      <td>0.0000</td>\n",
       "    </tr>\n",
       "    <tr>\n",
       "      <th>({x|opC(x) in [0.0, 10.0]}, {x|opA(x) in [0.0, 10.0]})</th>\n",
       "      <td>0.0000</td>\n",
       "      <td>0.0000</td>\n",
       "      <td>0.0000</td>\n",
       "      <td>NaN</td>\n",
       "    </tr>\n",
       "    <tr>\n",
       "      <th>({x|opB(x) in [0.0, 10.0]}, {x|opD(x) in [0.0, 10.0]})</th>\n",
       "      <td>0.0000</td>\n",
       "      <td>0.0002</td>\n",
       "      <td>0.0046</td>\n",
       "      <td>0.0000</td>\n",
       "    </tr>\n",
       "    <tr>\n",
       "      <th>({x|opA(x) in [0.0, 10.0]}, {x|opF(x) in [0.0, 10.0]})</th>\n",
       "      <td>0.0000</td>\n",
       "      <td>0.0000</td>\n",
       "      <td>0.0000</td>\n",
       "      <td>0.0000</td>\n",
       "    </tr>\n",
       "    <tr>\n",
       "      <th>({x|opF(x) in [0.0, 10.0]}, {x|opE(x) in [0.0, 10.0]})</th>\n",
       "      <td>0.0000</td>\n",
       "      <td>0.0054</td>\n",
       "      <td>0.1108</td>\n",
       "      <td>0.1756</td>\n",
       "    </tr>\n",
       "  </tbody>\n",
       "</table>\n",
       "</div>"
      ],
      "text/plain": [
       "                                                         0       1       2  \\\n",
       "({x|opE(x) in [0.0, 10.0]}, {x|opC(x) in [0.0, ...  0.0000  0.0000  0.0092   \n",
       "({x|opE(x) in [0.0, 10.0]}, {x|opA(x) in [0.0, ...  0.0000  0.0000  0.0122   \n",
       "({x|opF(x) in [0.0, 10.0]}, {x|opA(x) in [0.0, ...  0.0000  0.0000  0.0000   \n",
       "({x|opC(x) in [0.0, 10.0]}, {x|opD(x) in [0.0, ...  0.0070  0.0216  0.0502   \n",
       "({x|opD(x) in [0.0, 10.0]}, {x|opF(x) in [0.0, ...  0.0000  0.0000  0.0000   \n",
       "({x|opD(x) in [0.0, 10.0]}, {x|opE(x) in [0.0, ...  0.0000  0.0000  0.0000   \n",
       "({x|opE(x) in [0.0, 10.0]}, {x|opB(x) in [0.0, ...  0.0000  0.0000  0.0000   \n",
       "({x|opC(x) in [0.0, 10.0]}, {x|opB(x) in [0.0, ...  0.0000  0.0000  0.0000   \n",
       "({x|opB(x) in [0.0, 10.0]}, {x|opF(x) in [0.0, ...  0.0000  0.0000  0.0000   \n",
       "({x|opF(x) in [0.0, 10.0]}, {x|opC(x) in [0.0, ...  0.0000  0.0000  0.0000   \n",
       "({x|opB(x) in [0.0, 10.0]}, {x|opE(x) in [0.0, ...  0.0000  0.0000  0.0000   \n",
       "({x|opD(x) in [0.0, 10.0]}, {x|opA(x) in [0.0, ...  0.0136  0.0104  0.0708   \n",
       "({x|opA(x) in [0.0, 10.0]}, {x|opB(x) in [0.0, ...  0.1028  0.1212  0.1062   \n",
       "({x|opA(x) in [0.0, 10.0]}, {x|opE(x) in [0.0, ...  0.0048  0.0044  0.0108   \n",
       "({x|opA(x) in [0.0, 10.0]}, {x|opC(x) in [0.0, ...  0.0000  0.0000  0.0024   \n",
       "({x|opC(x) in [0.0, 10.0]}, {x|opE(x) in [0.0, ...  0.0000  0.0000  0.0000   \n",
       "({x|opD(x) in [0.0, 10.0]}, {x|opC(x) in [0.0, ...  0.2386  0.1860  0.3590   \n",
       "({x|opD(x) in [0.0, 10.0]}, {x|opB(x) in [0.0, ...  0.0000  0.0000  0.0000   \n",
       "({x|opF(x) in [0.0, 10.0]}, {x|opD(x) in [0.0, ...  0.0000  0.0000  0.0000   \n",
       "({x|opE(x) in [0.0, 10.0]}, {x|opF(x) in [0.0, ...  0.0000  0.0000  0.0018   \n",
       "({x|opF(x) in [0.0, 10.0]}, {x|opB(x) in [0.0, ...  0.0000  0.0000  0.0066   \n",
       "({x|opC(x) in [0.0, 10.0]}, {x|opF(x) in [0.0, ...  0.0000  0.0000  0.0000   \n",
       "({x|opA(x) in [0.0, 10.0]}, {x|opD(x) in [0.0, ...  0.0000  0.0000  0.0000   \n",
       "({x|opB(x) in [0.0, 10.0]}, {x|opC(x) in [0.0, ...  0.0000  0.0098  0.0518   \n",
       "({x|opB(x) in [0.0, 10.0]}, {x|opA(x) in [0.0, ...  0.0424  0.0684  0.2536   \n",
       "({x|opE(x) in [0.0, 10.0]}, {x|opD(x) in [0.0, ...  0.0000  0.0000  0.0000   \n",
       "({x|opC(x) in [0.0, 10.0]}, {x|opA(x) in [0.0, ...  0.0000  0.0000  0.0000   \n",
       "({x|opB(x) in [0.0, 10.0]}, {x|opD(x) in [0.0, ...  0.0000  0.0002  0.0046   \n",
       "({x|opA(x) in [0.0, 10.0]}, {x|opF(x) in [0.0, ...  0.0000  0.0000  0.0000   \n",
       "({x|opF(x) in [0.0, 10.0]}, {x|opE(x) in [0.0, ...  0.0000  0.0054  0.1108   \n",
       "\n",
       "                                                         3  \n",
       "({x|opE(x) in [0.0, 10.0]}, {x|opC(x) in [0.0, ...  0.0580  \n",
       "({x|opE(x) in [0.0, 10.0]}, {x|opA(x) in [0.0, ...  0.0000  \n",
       "({x|opF(x) in [0.0, 10.0]}, {x|opA(x) in [0.0, ...  0.0000  \n",
       "({x|opC(x) in [0.0, 10.0]}, {x|opD(x) in [0.0, ...     NaN  \n",
       "({x|opD(x) in [0.0, 10.0]}, {x|opF(x) in [0.0, ...     NaN  \n",
       "({x|opD(x) in [0.0, 10.0]}, {x|opE(x) in [0.0, ...     NaN  \n",
       "({x|opE(x) in [0.0, 10.0]}, {x|opB(x) in [0.0, ...  0.0000  \n",
       "({x|opC(x) in [0.0, 10.0]}, {x|opB(x) in [0.0, ...     NaN  \n",
       "({x|opB(x) in [0.0, 10.0]}, {x|opF(x) in [0.0, ...  0.0000  \n",
       "({x|opF(x) in [0.0, 10.0]}, {x|opC(x) in [0.0, ...  0.0000  \n",
       "({x|opB(x) in [0.0, 10.0]}, {x|opE(x) in [0.0, ...  0.0000  \n",
       "({x|opD(x) in [0.0, 10.0]}, {x|opA(x) in [0.0, ...     NaN  \n",
       "({x|opA(x) in [0.0, 10.0]}, {x|opB(x) in [0.0, ...  0.2852  \n",
       "({x|opA(x) in [0.0, 10.0]}, {x|opE(x) in [0.0, ...  0.0264  \n",
       "({x|opA(x) in [0.0, 10.0]}, {x|opC(x) in [0.0, ...  0.0186  \n",
       "({x|opC(x) in [0.0, 10.0]}, {x|opE(x) in [0.0, ...     NaN  \n",
       "({x|opD(x) in [0.0, 10.0]}, {x|opC(x) in [0.0, ...     NaN  \n",
       "({x|opD(x) in [0.0, 10.0]}, {x|opB(x) in [0.0, ...     NaN  \n",
       "({x|opF(x) in [0.0, 10.0]}, {x|opD(x) in [0.0, ...  0.0000  \n",
       "({x|opE(x) in [0.0, 10.0]}, {x|opF(x) in [0.0, ...  0.0664  \n",
       "({x|opF(x) in [0.0, 10.0]}, {x|opB(x) in [0.0, ...  0.0000  \n",
       "({x|opC(x) in [0.0, 10.0]}, {x|opF(x) in [0.0, ...     NaN  \n",
       "({x|opA(x) in [0.0, 10.0]}, {x|opD(x) in [0.0, ...  0.0000  \n",
       "({x|opB(x) in [0.0, 10.0]}, {x|opC(x) in [0.0, ...  0.0332  \n",
       "({x|opB(x) in [0.0, 10.0]}, {x|opA(x) in [0.0, ...  0.6086  \n",
       "({x|opE(x) in [0.0, 10.0]}, {x|opD(x) in [0.0, ...  0.0000  \n",
       "({x|opC(x) in [0.0, 10.0]}, {x|opA(x) in [0.0, ...     NaN  \n",
       "({x|opB(x) in [0.0, 10.0]}, {x|opD(x) in [0.0, ...  0.0000  \n",
       "({x|opA(x) in [0.0, 10.0]}, {x|opF(x) in [0.0, ...  0.0000  \n",
       "({x|opF(x) in [0.0, 10.0]}, {x|opE(x) in [0.0, ...  0.1756  "
      ]
     },
     "execution_count": 16,
     "metadata": {},
     "output_type": "execute_result"
    }
   ],
   "source": [
    "ctp_by_interface = pd.DataFrame(index=mstis.transitions)\n",
    "for state_pair in mstis.transitions:\n",
    "    transition = mstis.transitions[state_pair]\n",
    "    for ensemble_i in range(len(transition.ensembles)):\n",
    "        ctp_by_interface.set_value(\n",
    "            state_pair, ensemble_i,\n",
    "            transition.conditional_transition_probability(\n",
    "                storage,\n",
    "                transition.ensembles[ensemble_i]\n",
    "        ))\n",
    "    \n",
    "    \n",
    "ctp_by_interface  "
   ]
  },
  {
   "cell_type": "markdown",
   "metadata": {},
   "source": [
    "## Path ensemble properties"
   ]
  },
  {
   "cell_type": "code",
   "execution_count": 17,
   "metadata": {
    "collapsed": true
   },
   "outputs": [],
   "source": [
    "hists_A = mstis.transitions[(stateA, stateB)].histograms\n",
    "hists_B = mstis.transitions[(stateB, stateC)].histograms\n",
    "hists_C = mstis.transitions[(stateC, stateB)].histograms"
   ]
  },
  {
   "cell_type": "markdown",
   "metadata": {},
   "source": [
    "### Interface crossing probabilities\n",
    "\n",
    "We obtain the total crossing probability, shown above, by combining the individual crossing probabilities of "
   ]
  },
  {
   "cell_type": "code",
   "execution_count": 18,
   "metadata": {
    "collapsed": false,
    "scrolled": true
   },
   "outputs": [
    {
     "data": {
      "image/png": "[encoded data removed]",
      "text/plain": [
       "<matplotlib.figure.Figure at 0x126105e10>"
      ]
     },
     "metadata": {},
     "output_type": "display_data"
    }
   ],
   "source": [
    "for hist in [hists_A, hists_B, hists_C]:\n",
    "    for ens in hist['max_lambda']:\n",
    "        normalized = hist['max_lambda'][ens].normalized()\n",
    "        plt.plot(normalized.x, normalized)"
   ]
  },
  {
   "cell_type": "code",
   "execution_count": 15,
   "metadata": {
    "collapsed": true
   },
   "outputs": [],
   "source": [
    "# add visualization of the sum"
   ]
  },
  {
   "cell_type": "code",
   "execution_count": 16,
   "metadata": {
    "collapsed": false,
    "scrolled": true
   },
   "outputs": [
    {
     "data": {
      "image/png": "[encoded data removed]",
      "text/plain": [
       "<matplotlib.figure.Figure at 0x11ba4d9d0>"
      ]
     },
     "metadata": {},
     "output_type": "display_data"
    }
   ],
   "source": [
    "for hist in [hists_A, hists_B, hists_C]:\n",
    "    for ens in hist['max_lambda']:\n",
    "        reverse_cumulative = hist['max_lambda'][ens].reverse_cumulative()\n",
    "        plt.plot(reverse_cumulative.x, reverse_cumulative)"
   ]
  },
  {
   "cell_type": "code",
   "execution_count": 17,
   "metadata": {
    "collapsed": false
   },
   "outputs": [
    {
     "data": {
      "image/png": "[encoded data removed]",
      "text/plain": [
       "<matplotlib.figure.Figure at 0x11badf690>"
      ]
     },
     "metadata": {},
     "output_type": "display_data"
    }
   ],
   "source": [
    "for hist in [hists_A, hists_B, hists_C]:\n",
    "    for ens in hist['max_lambda']:\n",
    "        reverse_cumulative = hist['max_lambda'][ens].reverse_cumulative()\n",
    "        plt.plot(reverse_cumulative.x, np.log(reverse_cumulative))"
   ]
  },
  {
   "cell_type": "markdown",
   "metadata": {},
   "source": [
    "### Path length histograms"
   ]
  },
  {
   "cell_type": "code",
   "execution_count": 18,
   "metadata": {
    "collapsed": false
   },
   "outputs": [
    {
     "data": {
      "image/png": "[encoded data removed]",
      "text/plain": [
       "<matplotlib.figure.Figure at 0x11ba7f550>"
      ]
     },
     "metadata": {},
     "output_type": "display_data"
    }
   ],
   "source": [
    "for hist in [hists_A, hists_B, hists_C]:\n",
    "    for ens in hist['pathlength']:\n",
    "        normalized = hist['pathlength'][ens].normalized()\n",
    "        plt.plot(normalized.x, normalized)"
   ]
  },
  {
   "cell_type": "code",
   "execution_count": 19,
   "metadata": {
    "collapsed": false
   },
   "outputs": [
    {
     "data": {
      "image/png": "[encoded data removed]",
      "text/plain": [
       "<matplotlib.figure.Figure at 0x11bee57d0>"
      ]
     },
     "metadata": {},
     "output_type": "display_data"
    }
   ],
   "source": [
    "for ens in hists_A['pathlength']:\n",
    "    normalized = hists_A['pathlength'][ens].normalized()\n",
    "    plt.plot(normalized.x, normalized)"
   ]
  },
  {
   "cell_type": "markdown",
   "metadata": {},
   "source": [
    "## Sampling properties\n",
    "\n",
    "The properties we illustrated above were properties of the path ensembles. If your path ensembles are sufficiently well-sampled, these will never depend on how you sample them.\n",
    "\n",
    "But to figure out whether you've done a good job of sampling, you often want to look at properties related to the sampling process. OPS also makes these very easy."
   ]
  },
  {
   "cell_type": "code",
   "execution_count": null,
   "metadata": {
    "collapsed": true
   },
   "outputs": [],
   "source": []
  },
  {
   "cell_type": "markdown",
   "metadata": {},
   "source": [
    "### Move scheme analysis"
   ]
  },
  {
   "cell_type": "code",
   "execution_count": 16,
   "metadata": {
    "collapsed": false,
    "scrolled": true
   },
   "outputs": [],
   "source": [
    "scheme = storage.schemes[0]"
   ]
  },
  {
   "cell_type": "code",
   "execution_count": 17,
   "metadata": {
    "collapsed": false
   },
   "outputs": [
    {
     "name": "stdout",
     "output_type": "stream",
     "text": [
      "ms_outer_shooting ran 2.30666666667% of the cycles with acceptance 262/346 (0.757225433526)\n",
      "repex ran 23.32% of the cycles with acceptance 1612/3498 (0.460834762722)\n",
      "shooting ran 47.3533333333% of the cycles with acceptance 5489/7103 (0.77277206814)\n",
      "minus ran 2.42666666667% of the cycles with acceptance 297/364 (0.815934065934)\n",
      "pathreversal ran 24.5866666667% of the cycles with acceptance 2900/3688 (0.786334056399)\n"
     ]
    }
   ],
   "source": [
    "scheme.move_summary(storage)"
   ]
  },
  {
   "cell_type": "code",
   "execution_count": 18,
   "metadata": {
    "collapsed": false
   },
   "outputs": [
    {
     "name": "stdout",
     "output_type": "stream",
     "text": [
      "OneWayShootingMover I'face 2 ran 2.46666666667% of the cycles with acceptance 242/370 (0.654054054054)\n",
      "OneWayShootingMover I'face 1 ran 2.13333333333% of the cycles with acceptance 237/320 (0.740625)\n",
      "OneWayShootingMover I'face 3 ran 2.30666666667% of the cycles with acceptance 200/346 (0.578034682081)\n",
      "OneWayShootingMover I'face 1 ran 2.24% of the cycles with acceptance 249/336 (0.741071428571)\n",
      "OneWayShootingMover I'face 0 ran 2.3% of the cycles with acceptance 310/345 (0.898550724638)\n",
      "OneWayShootingMover I'face 0 ran 2.08666666667% of the cycles with acceptance 268/313 (0.856230031949)\n",
      "OneWayShootingMover I'face 1 ran 2.02666666667% of the cycles with acceptance 267/304 (0.878289473684)\n",
      "OneWayShootingMover I'face 0 ran 1.93333333333% of the cycles with acceptance 255/290 (0.879310344828)\n",
      "OneWayShootingMover I'face 3 ran 2.22% of the cycles with acceptance 235/333 (0.705705705706)\n",
      "OneWayShootingMover I'face 0 ran 2.02% of the cycles with acceptance 266/303 (0.877887788779)\n",
      "OneWayShootingMover I'face 3 ran 2.39333333333% of the cycles with acceptance 256/359 (0.713091922006)\n",
      "OneWayShootingMover I'face 2 ran 2.18% of the cycles with acceptance 243/327 (0.743119266055)\n",
      "OneWayShootingMover I'face 0 ran 2.11333333333% of the cycles with acceptance 284/317 (0.895899053628)\n",
      "OneWayShootingMover I'face 2 ran 2.16666666667% of the cycles with acceptance 235/325 (0.723076923077)\n",
      "OneWayShootingMover I'face 3 ran 1.88666666667% of the cycles with acceptance 179/283 (0.632508833922)\n",
      "OneWayShootingMover I'face 1 ran 2.06666666667% of the cycles with acceptance 272/310 (0.877419354839)\n",
      "OneWayShootingMover I'face 2 ran 2.31333333333% of the cycles with acceptance 258/347 (0.743515850144)\n",
      "OneWayShootingMover I'face 0 ran 2.24666666667% of the cycles with acceptance 265/337 (0.786350148368)\n",
      "OneWayShootingMover I'face 1 ran 1.88% of the cycles with acceptance 234/282 (0.829787234043)\n",
      "OneWayShootingMover I'face 2 ran 2.01333333333% of the cycles with acceptance 212/302 (0.701986754967)\n",
      "OneWayShootingMover I'face 1 ran 2.22% of the cycles with acceptance 290/333 (0.870870870871)\n",
      "OneWayShootingMover I'face 2 ran 2.14% of the cycles with acceptance 232/321 (0.722741433022)\n"
     ]
    }
   ],
   "source": [
    "scheme.move_summary(storage, 'shooting')"
   ]
  },
  {
   "cell_type": "code",
   "execution_count": 19,
   "metadata": {
    "collapsed": false
   },
   "outputs": [
    {
     "name": "stdout",
     "output_type": "stream",
     "text": [
      "OneWayShootingMover I'face 0 2.14132762313\n",
      "OneWayShootingMover I'face 1 2.14132762313\n",
      "OneWayShootingMover I'face 2 2.14132762313\n",
      "OneWayShootingMover I'face 3 2.14132762313\n",
      "OneWayShootingMover I'face 0 2.14132762313\n",
      "OneWayShootingMover I'face 1 2.14132762313\n",
      "OneWayShootingMover I'face 2 2.14132762313\n",
      "OneWayShootingMover I'face 3 2.14132762313\n",
      "OneWayShootingMover I'face 0 2.14132762313\n",
      "OneWayShootingMover I'face 1 2.14132762313\n",
      "OneWayShootingMover I'face 2 2.14132762313\n",
      "OneWayShootingMover I'face 0 2.14132762313\n",
      "OneWayShootingMover I'face 1 2.14132762313\n",
      "OneWayShootingMover I'face 2 2.14132762313\n",
      "OneWayShootingMover I'face 3 2.14132762313\n",
      "OneWayShootingMover I'face 0 2.14132762313\n",
      "OneWayShootingMover I'face 1 2.14132762313\n",
      "OneWayShootingMover I'face 2 2.14132762313\n",
      "OneWayShootingMover I'face 3 2.14132762313\n",
      "OneWayShootingMover I'face 0 2.14132762313\n",
      "OneWayShootingMover I'face 1 2.14132762313\n",
      "OneWayShootingMover I'face 2 2.14132762313\n"
     ]
    }
   ],
   "source": [
    "for mover in scheme.movers['shooting']:\n",
    "    print mover, scheme.choice_probability[mover]*100"
   ]
  },
  {
   "cell_type": "code",
   "execution_count": 20,
   "metadata": {
    "collapsed": false
   },
   "outputs": [
    {
     "name": "stdout",
     "output_type": "stream",
     "text": [
      "Minus ran 0.446666666667% of the cycles with acceptance 57/67 (0.850746268657)\n",
      "Minus ran 0.346666666667% of the cycles with acceptance 43/52 (0.826923076923)\n",
      "Minus ran 0.46% of the cycles with acceptance 31/69 (0.449275362319)\n",
      "Minus ran 0.4% of the cycles with acceptance 54/60 (0.9)\n",
      "Minus ran 0.426666666667% of the cycles with acceptance 63/64 (0.984375)\n",
      "Minus ran 0.346666666667% of the cycles with acceptance 49/52 (0.942307692308)\n"
     ]
    }
   ],
   "source": [
    "scheme.move_summary(storage, 'minus')"
   ]
  },
  {
   "cell_type": "code",
   "execution_count": 21,
   "metadata": {
    "collapsed": false
   },
   "outputs": [
    {
     "name": "stdout",
     "output_type": "stream",
     "text": [
      "Minus 0.428265524625 %\n",
      "Minus 0.428265524625 %\n",
      "Minus 0.428265524625 %\n",
      "Minus 0.428265524625 %\n",
      "Minus 0.428265524625 %\n",
      "Minus 0.428265524625 %\n"
     ]
    }
   ],
   "source": [
    "for mover in scheme.movers['minus']:\n",
    "    print mover, scheme.choice_probability[mover]*100, '%'"
   ]
  },
  {
   "cell_type": "code",
   "execution_count": 22,
   "metadata": {
    "collapsed": false
   },
   "outputs": [
    {
     "name": "stdout",
     "output_type": "stream",
     "text": [
      "ReplicaExchange ran 1.02% of the cycles with acceptance 18/153 (0.117647058824)\n",
      "ReplicaExchange ran 1.08% of the cycles with acceptance 96/162 (0.592592592593)\n",
      "ReplicaExchange ran 1.08% of the cycles with acceptance 88/162 (0.543209876543)\n",
      "ReplicaExchange ran 0.993333333333% of the cycles with acceptance 0/149 (0.0)\n",
      "ReplicaExchange ran 1.06666666667% of the cycles with acceptance 84/160 (0.525)\n",
      "ReplicaExchange ran 0.933333333333% of the cycles with acceptance 93/140 (0.664285714286)\n",
      "ReplicaExchange ran 1.08% of the cycles with acceptance 89/162 (0.549382716049)\n",
      "ReplicaExchange ran 1.04% of the cycles with acceptance 0/156 (0.0)\n",
      "ReplicaExchange ran 1.05333333333% of the cycles with acceptance 63/158 (0.398734177215)\n",
      "ReplicaExchange ran 1.18% of the cycles with acceptance 142/177 (0.802259887006)\n",
      "ReplicaExchange ran 0.913333333333% of the cycles with acceptance 76/137 (0.554744525547)\n",
      "ReplicaExchange ran 1.19333333333% of the cycles with acceptance 19/179 (0.106145251397)\n",
      "ReplicaExchange ran 1.03333333333% of the cycles with acceptance 80/155 (0.516129032258)\n",
      "ReplicaExchange ran 1.04% of the cycles with acceptance 128/156 (0.820512820513)\n",
      "ReplicaExchange ran 1.25333333333% of the cycles with acceptance 60/188 (0.31914893617)\n",
      "ReplicaExchange ran 0.98% of the cycles with acceptance 91/147 (0.619047619048)\n",
      "ReplicaExchange ran 0.96% of the cycles with acceptance 64/144 (0.444444444444)\n",
      "ReplicaExchange ran 1.07333333333% of the cycles with acceptance 28/161 (0.173913043478)\n",
      "ReplicaExchange ran 1.05333333333% of the cycles with acceptance 68/158 (0.430379746835)\n",
      "ReplicaExchange ran 1.16% of the cycles with acceptance 113/174 (0.649425287356)\n",
      "ReplicaExchange ran 1.04% of the cycles with acceptance 90/156 (0.576923076923)\n",
      "ReplicaExchange ran 1.09333333333% of the cycles with acceptance 122/164 (0.743902439024)\n"
     ]
    }
   ],
   "source": [
    "scheme.move_summary(storage, 'repex')"
   ]
  },
  {
   "cell_type": "code",
   "execution_count": 23,
   "metadata": {
    "collapsed": false
   },
   "outputs": [
    {
     "name": "stdout",
     "output_type": "stream",
     "text": [
      "ReplicaExchange 1.07066381156 %\n",
      "ReplicaExchange 1.07066381156 %\n",
      "ReplicaExchange 1.07066381156 %\n",
      "ReplicaExchange 1.07066381156 %\n",
      "ReplicaExchange 1.07066381156 %\n",
      "ReplicaExchange 1.07066381156 %\n",
      "ReplicaExchange 1.07066381156 %\n",
      "ReplicaExchange 1.07066381156 %\n",
      "ReplicaExchange 1.07066381156 %\n",
      "ReplicaExchange 1.07066381156 %\n",
      "ReplicaExchange 1.07066381156 %\n",
      "ReplicaExchange 1.07066381156 %\n",
      "ReplicaExchange 1.07066381156 %\n",
      "ReplicaExchange 1.07066381156 %\n",
      "ReplicaExchange 1.07066381156 %\n",
      "ReplicaExchange 1.07066381156 %\n",
      "ReplicaExchange 1.07066381156 %\n",
      "ReplicaExchange 1.07066381156 %\n",
      "ReplicaExchange 1.07066381156 %\n",
      "ReplicaExchange 1.07066381156 %\n",
      "ReplicaExchange 1.07066381156 %\n",
      "ReplicaExchange 1.07066381156 %\n"
     ]
    }
   ],
   "source": [
    "for mover in scheme.movers['repex']:\n",
    "    print mover, scheme.choice_probability[mover]*100, '%'"
   ]
  },
  {
   "cell_type": "code",
   "execution_count": 25,
   "metadata": {
    "collapsed": false
   },
   "outputs": [
    {
     "name": "stdout",
     "output_type": "stream",
     "text": [
      "PathReversal ran 1.08% of the cycles with acceptance 151/162 (0.932098765432)\n",
      "PathReversal ran 0.986666666667% of the cycles with acceptance 91/148 (0.614864864865)\n",
      "PathReversal ran 1.18% of the cycles with acceptance 177/177 (1.0)\n",
      "PathReversal ran 1.04666666667% of the cycles with acceptance 105/157 (0.668789808917)\n",
      "PathReversal ran 0.993333333333% of the cycles with acceptance 142/149 (0.953020134228)\n",
      "PathReversal ran 1.14% of the cycles with acceptance 139/171 (0.812865497076)\n",
      "PathReversal ran 1.07333333333% of the cycles with acceptance 137/161 (0.850931677019)\n",
      "PathReversal ran 0.993333333333% of the cycles with acceptance 125/149 (0.838926174497)\n",
      "PathReversal ran 1.20666666667% of the cycles with acceptance 91/181 (0.502762430939)\n",
      "PathReversal ran 0.906666666667% of the cycles with acceptance 81/136 (0.595588235294)\n",
      "PathReversal ran 1.02666666667% of the cycles with acceptance 137/154 (0.88961038961)\n",
      "PathReversal ran 1.01333333333% of the cycles with acceptance 149/152 (0.980263157895)\n",
      "PathReversal ran 1.1% of the cycles with acceptance 140/165 (0.848484848485)\n",
      "PathReversal ran 1.14666666667% of the cycles with acceptance 83/172 (0.482558139535)\n",
      "PathReversal ran 1.1% of the cycles with acceptance 165/165 (1.0)\n",
      "PathReversal ran 1.06% of the cycles with acceptance 149/159 (0.937106918239)\n",
      "PathReversal ran 1.19333333333% of the cycles with acceptance 140/179 (0.782122905028)\n",
      "PathReversal ran 1.04% of the cycles with acceptance 100/156 (0.641025641026)\n",
      "PathReversal ran 1.19333333333% of the cycles with acceptance 161/179 (0.899441340782)\n",
      "PathReversal ran 0.94% of the cycles with acceptance 132/141 (0.936170212766)\n",
      "PathReversal ran 1.02666666667% of the cycles with acceptance 83/154 (0.538961038961)\n",
      "PathReversal ran 1.0% of the cycles with acceptance 69/150 (0.46)\n",
      "PathReversal ran 1.14% of the cycles with acceptance 153/171 (0.894736842105)\n"
     ]
    }
   ],
   "source": [
    "scheme.move_summary(storage, 'pathreversal')"
   ]
  },
  {
   "cell_type": "code",
   "execution_count": 26,
   "metadata": {
    "collapsed": false
   },
   "outputs": [
    {
     "name": "stdout",
     "output_type": "stream",
     "text": [
      "PathReversal 1.07066381156 %\n",
      "PathReversal 1.07066381156 %\n",
      "PathReversal 1.07066381156 %\n",
      "PathReversal 1.07066381156 %\n",
      "PathReversal 1.07066381156 %\n",
      "PathReversal 1.07066381156 %\n",
      "PathReversal 1.07066381156 %\n",
      "PathReversal 1.07066381156 %\n",
      "PathReversal 1.07066381156 %\n",
      "PathReversal 1.07066381156 %\n",
      "PathReversal 1.07066381156 %\n",
      "PathReversal 1.07066381156 %\n",
      "PathReversal 1.07066381156 %\n",
      "PathReversal 1.07066381156 %\n",
      "PathReversal 1.07066381156 %\n",
      "PathReversal 1.07066381156 %\n",
      "PathReversal 1.07066381156 %\n",
      "PathReversal 1.07066381156 %\n",
      "PathReversal 1.07066381156 %\n",
      "PathReversal 1.07066381156 %\n",
      "PathReversal 1.07066381156 %\n",
      "PathReversal 1.07066381156 %\n",
      "PathReversal 1.07066381156 %\n"
     ]
    }
   ],
   "source": [
    "for mover in scheme.movers['pathreversal']:\n",
    "    print mover, scheme.choice_probability[mover]*100, '%'"
   ]
  },
  {
   "cell_type": "markdown",
   "metadata": {},
   "source": [
    "### Replica exchange sampling\n",
    "\n",
    "See the notebook `repex_networks.ipynb` for more details on tools to study the convergence of replica exchange. However, a few simple examples are shown here. All of these are analyzed with a separate object, `ReplicaNetwork`."
   ]
  },
  {
   "cell_type": "code",
   "execution_count": 27,
   "metadata": {
    "collapsed": true
   },
   "outputs": [],
   "source": [
    "repx_net = paths.ReplicaNetwork(storage=storage)"
   ]
  },
  {
   "cell_type": "markdown",
   "metadata": {},
   "source": [
    "#### Replica exchange mixing matrix"
   ]
  },
  {
   "cell_type": "code",
   "execution_count": 28,
   "metadata": {
    "collapsed": false
   },
   "outputs": [
    {
     "data": {
      "text/html": [
       "<div>\n",
       "<table border=\"1\" class=\"dataframe\">\n",
       "  <thead>\n",
       "    <tr style=\"text-align: right;\">\n",
       "      <th></th>\n",
       "      <th>17</th>\n",
       "      <th>16</th>\n",
       "      <th>15</th>\n",
       "      <th>14</th>\n",
       "      <th>-5</th>\n",
       "      <th>-2</th>\n",
       "      <th>23</th>\n",
       "      <th>24</th>\n",
       "      <th>25</th>\n",
       "      <th>26</th>\n",
       "      <th>...</th>\n",
       "      <th>21</th>\n",
       "      <th>20</th>\n",
       "      <th>19</th>\n",
       "      <th>-3</th>\n",
       "      <th>18</th>\n",
       "      <th>13</th>\n",
       "      <th>22</th>\n",
       "      <th>8</th>\n",
       "      <th>4</th>\n",
       "      <th>27</th>\n",
       "    </tr>\n",
       "  </thead>\n",
       "  <tbody>\n",
       "    <tr>\n",
       "      <th>17</th>\n",
       "      <td>0.000000</td>\n",
       "      <td>0.024858</td>\n",
       "      <td>0.000000</td>\n",
       "      <td>0.000000</td>\n",
       "      <td>0.000000</td>\n",
       "      <td>0.000000</td>\n",
       "      <td>0.000000</td>\n",
       "      <td>0.000000</td>\n",
       "      <td>0.000000</td>\n",
       "      <td>0.000000</td>\n",
       "      <td>...</td>\n",
       "      <td>0.000000</td>\n",
       "      <td>0.000000</td>\n",
       "      <td>0.000000</td>\n",
       "      <td>0.000000</td>\n",
       "      <td>0</td>\n",
       "      <td>0</td>\n",
       "      <td>0</td>\n",
       "      <td>0</td>\n",
       "      <td>0</td>\n",
       "      <td>0</td>\n",
       "    </tr>\n",
       "    <tr>\n",
       "      <th>16</th>\n",
       "      <td>0.024858</td>\n",
       "      <td>0.000000</td>\n",
       "      <td>0.016313</td>\n",
       "      <td>0.000000</td>\n",
       "      <td>0.000000</td>\n",
       "      <td>0.000000</td>\n",
       "      <td>0.000000</td>\n",
       "      <td>0.000000</td>\n",
       "      <td>0.000000</td>\n",
       "      <td>0.000000</td>\n",
       "      <td>...</td>\n",
       "      <td>0.000000</td>\n",
       "      <td>0.000000</td>\n",
       "      <td>0.000000</td>\n",
       "      <td>0.000000</td>\n",
       "      <td>0</td>\n",
       "      <td>0</td>\n",
       "      <td>0</td>\n",
       "      <td>0</td>\n",
       "      <td>0</td>\n",
       "      <td>0</td>\n",
       "    </tr>\n",
       "    <tr>\n",
       "      <th>15</th>\n",
       "      <td>0.000000</td>\n",
       "      <td>0.016313</td>\n",
       "      <td>0.000000</td>\n",
       "      <td>0.019679</td>\n",
       "      <td>0.000000</td>\n",
       "      <td>0.000000</td>\n",
       "      <td>0.000000</td>\n",
       "      <td>0.000000</td>\n",
       "      <td>0.000000</td>\n",
       "      <td>0.000000</td>\n",
       "      <td>...</td>\n",
       "      <td>0.000000</td>\n",
       "      <td>0.000000</td>\n",
       "      <td>0.000000</td>\n",
       "      <td>0.000000</td>\n",
       "      <td>0</td>\n",
       "      <td>0</td>\n",
       "      <td>0</td>\n",
       "      <td>0</td>\n",
       "      <td>0</td>\n",
       "      <td>0</td>\n",
       "    </tr>\n",
       "    <tr>\n",
       "      <th>14</th>\n",
       "      <td>0.000000</td>\n",
       "      <td>0.000000</td>\n",
       "      <td>0.019679</td>\n",
       "      <td>0.000000</td>\n",
       "      <td>0.016313</td>\n",
       "      <td>0.000000</td>\n",
       "      <td>0.000000</td>\n",
       "      <td>0.000000</td>\n",
       "      <td>0.000000</td>\n",
       "      <td>0.000000</td>\n",
       "      <td>...</td>\n",
       "      <td>0.000000</td>\n",
       "      <td>0.000000</td>\n",
       "      <td>0.000000</td>\n",
       "      <td>0.000000</td>\n",
       "      <td>0</td>\n",
       "      <td>0</td>\n",
       "      <td>0</td>\n",
       "      <td>0</td>\n",
       "      <td>0</td>\n",
       "      <td>0</td>\n",
       "    </tr>\n",
       "    <tr>\n",
       "      <th>-5</th>\n",
       "      <td>0.000000</td>\n",
       "      <td>0.000000</td>\n",
       "      <td>0.000000</td>\n",
       "      <td>0.016313</td>\n",
       "      <td>0.000000</td>\n",
       "      <td>0.000000</td>\n",
       "      <td>0.000000</td>\n",
       "      <td>0.000000</td>\n",
       "      <td>0.000000</td>\n",
       "      <td>0.000000</td>\n",
       "      <td>...</td>\n",
       "      <td>0.000000</td>\n",
       "      <td>0.000000</td>\n",
       "      <td>0.000000</td>\n",
       "      <td>0.000000</td>\n",
       "      <td>0</td>\n",
       "      <td>0</td>\n",
       "      <td>0</td>\n",
       "      <td>0</td>\n",
       "      <td>0</td>\n",
       "      <td>0</td>\n",
       "    </tr>\n",
       "    <tr>\n",
       "      <th>-2</th>\n",
       "      <td>0.000000</td>\n",
       "      <td>0.000000</td>\n",
       "      <td>0.000000</td>\n",
       "      <td>0.000000</td>\n",
       "      <td>0.000000</td>\n",
       "      <td>0.000000</td>\n",
       "      <td>0.014759</td>\n",
       "      <td>0.000000</td>\n",
       "      <td>0.000000</td>\n",
       "      <td>0.000000</td>\n",
       "      <td>...</td>\n",
       "      <td>0.000000</td>\n",
       "      <td>0.000000</td>\n",
       "      <td>0.000000</td>\n",
       "      <td>0.000000</td>\n",
       "      <td>0</td>\n",
       "      <td>0</td>\n",
       "      <td>0</td>\n",
       "      <td>0</td>\n",
       "      <td>0</td>\n",
       "      <td>0</td>\n",
       "    </tr>\n",
       "    <tr>\n",
       "      <th>23</th>\n",
       "      <td>0.000000</td>\n",
       "      <td>0.000000</td>\n",
       "      <td>0.000000</td>\n",
       "      <td>0.000000</td>\n",
       "      <td>0.000000</td>\n",
       "      <td>0.014759</td>\n",
       "      <td>0.000000</td>\n",
       "      <td>0.033143</td>\n",
       "      <td>0.000000</td>\n",
       "      <td>0.000000</td>\n",
       "      <td>...</td>\n",
       "      <td>0.000000</td>\n",
       "      <td>0.000000</td>\n",
       "      <td>0.000000</td>\n",
       "      <td>0.000000</td>\n",
       "      <td>0</td>\n",
       "      <td>0</td>\n",
       "      <td>0</td>\n",
       "      <td>0</td>\n",
       "      <td>0</td>\n",
       "      <td>0</td>\n",
       "    </tr>\n",
       "    <tr>\n",
       "      <th>24</th>\n",
       "      <td>0.000000</td>\n",
       "      <td>0.000000</td>\n",
       "      <td>0.000000</td>\n",
       "      <td>0.000000</td>\n",
       "      <td>0.000000</td>\n",
       "      <td>0.000000</td>\n",
       "      <td>0.033143</td>\n",
       "      <td>0.000000</td>\n",
       "      <td>0.017607</td>\n",
       "      <td>0.000000</td>\n",
       "      <td>...</td>\n",
       "      <td>0.000000</td>\n",
       "      <td>0.000000</td>\n",
       "      <td>0.000000</td>\n",
       "      <td>0.000000</td>\n",
       "      <td>0</td>\n",
       "      <td>0</td>\n",
       "      <td>0</td>\n",
       "      <td>0</td>\n",
       "      <td>0</td>\n",
       "      <td>0</td>\n",
       "    </tr>\n",
       "    <tr>\n",
       "      <th>25</th>\n",
       "      <td>0.000000</td>\n",
       "      <td>0.000000</td>\n",
       "      <td>0.000000</td>\n",
       "      <td>0.000000</td>\n",
       "      <td>0.000000</td>\n",
       "      <td>0.000000</td>\n",
       "      <td>0.000000</td>\n",
       "      <td>0.017607</td>\n",
       "      <td>0.000000</td>\n",
       "      <td>0.020715</td>\n",
       "      <td>...</td>\n",
       "      <td>0.000000</td>\n",
       "      <td>0.000000</td>\n",
       "      <td>0.000000</td>\n",
       "      <td>0.000000</td>\n",
       "      <td>0</td>\n",
       "      <td>0</td>\n",
       "      <td>0</td>\n",
       "      <td>0</td>\n",
       "      <td>0</td>\n",
       "      <td>0</td>\n",
       "    </tr>\n",
       "    <tr>\n",
       "      <th>26</th>\n",
       "      <td>0.000000</td>\n",
       "      <td>0.000000</td>\n",
       "      <td>0.000000</td>\n",
       "      <td>0.000000</td>\n",
       "      <td>0.000000</td>\n",
       "      <td>0.000000</td>\n",
       "      <td>0.000000</td>\n",
       "      <td>0.000000</td>\n",
       "      <td>0.020715</td>\n",
       "      <td>0.000000</td>\n",
       "      <td>...</td>\n",
       "      <td>0.000000</td>\n",
       "      <td>0.000000</td>\n",
       "      <td>0.000000</td>\n",
       "      <td>0.000000</td>\n",
       "      <td>0</td>\n",
       "      <td>0</td>\n",
       "      <td>0</td>\n",
       "      <td>0</td>\n",
       "      <td>0</td>\n",
       "      <td>0</td>\n",
       "    </tr>\n",
       "    <tr>\n",
       "      <th>-4</th>\n",
       "      <td>0.000000</td>\n",
       "      <td>0.000000</td>\n",
       "      <td>0.000000</td>\n",
       "      <td>0.000000</td>\n",
       "      <td>0.000000</td>\n",
       "      <td>0.000000</td>\n",
       "      <td>0.000000</td>\n",
       "      <td>0.000000</td>\n",
       "      <td>0.000000</td>\n",
       "      <td>0.000000</td>\n",
       "      <td>...</td>\n",
       "      <td>0.000000</td>\n",
       "      <td>0.000000</td>\n",
       "      <td>0.000000</td>\n",
       "      <td>0.000000</td>\n",
       "      <td>0</td>\n",
       "      <td>0</td>\n",
       "      <td>0</td>\n",
       "      <td>0</td>\n",
       "      <td>0</td>\n",
       "      <td>0</td>\n",
       "    </tr>\n",
       "    <tr>\n",
       "      <th>-1</th>\n",
       "      <td>0.000000</td>\n",
       "      <td>0.000000</td>\n",
       "      <td>0.000000</td>\n",
       "      <td>0.000000</td>\n",
       "      <td>0.000000</td>\n",
       "      <td>0.000000</td>\n",
       "      <td>0.000000</td>\n",
       "      <td>0.000000</td>\n",
       "      <td>0.000000</td>\n",
       "      <td>0.000000</td>\n",
       "      <td>...</td>\n",
       "      <td>0.000000</td>\n",
       "      <td>0.000000</td>\n",
       "      <td>0.000000</td>\n",
       "      <td>0.000000</td>\n",
       "      <td>0</td>\n",
       "      <td>0</td>\n",
       "      <td>0</td>\n",
       "      <td>0</td>\n",
       "      <td>0</td>\n",
       "      <td>0</td>\n",
       "    </tr>\n",
       "    <tr>\n",
       "      <th>0</th>\n",
       "      <td>0.000000</td>\n",
       "      <td>0.000000</td>\n",
       "      <td>0.000000</td>\n",
       "      <td>0.000000</td>\n",
       "      <td>0.000000</td>\n",
       "      <td>0.000000</td>\n",
       "      <td>0.000000</td>\n",
       "      <td>0.000000</td>\n",
       "      <td>0.000000</td>\n",
       "      <td>0.000000</td>\n",
       "      <td>...</td>\n",
       "      <td>0.000000</td>\n",
       "      <td>0.000000</td>\n",
       "      <td>0.000000</td>\n",
       "      <td>0.000000</td>\n",
       "      <td>0</td>\n",
       "      <td>0</td>\n",
       "      <td>0</td>\n",
       "      <td>0</td>\n",
       "      <td>0</td>\n",
       "      <td>0</td>\n",
       "    </tr>\n",
       "    <tr>\n",
       "      <th>9</th>\n",
       "      <td>0.000000</td>\n",
       "      <td>0.000000</td>\n",
       "      <td>0.000000</td>\n",
       "      <td>0.000000</td>\n",
       "      <td>0.000000</td>\n",
       "      <td>0.000000</td>\n",
       "      <td>0.000000</td>\n",
       "      <td>0.000000</td>\n",
       "      <td>0.000000</td>\n",
       "      <td>0.000000</td>\n",
       "      <td>...</td>\n",
       "      <td>0.000000</td>\n",
       "      <td>0.000000</td>\n",
       "      <td>0.000000</td>\n",
       "      <td>0.000000</td>\n",
       "      <td>0</td>\n",
       "      <td>0</td>\n",
       "      <td>0</td>\n",
       "      <td>0</td>\n",
       "      <td>0</td>\n",
       "      <td>0</td>\n",
       "    </tr>\n",
       "    <tr>\n",
       "      <th>-6</th>\n",
       "      <td>0.000000</td>\n",
       "      <td>0.000000</td>\n",
       "      <td>0.000000</td>\n",
       "      <td>0.000000</td>\n",
       "      <td>0.000000</td>\n",
       "      <td>0.000000</td>\n",
       "      <td>0.000000</td>\n",
       "      <td>0.000000</td>\n",
       "      <td>0.000000</td>\n",
       "      <td>0.000000</td>\n",
       "      <td>...</td>\n",
       "      <td>0.000000</td>\n",
       "      <td>0.000000</td>\n",
       "      <td>0.000000</td>\n",
       "      <td>0.000000</td>\n",
       "      <td>0</td>\n",
       "      <td>0</td>\n",
       "      <td>0</td>\n",
       "      <td>0</td>\n",
       "      <td>0</td>\n",
       "      <td>0</td>\n",
       "    </tr>\n",
       "    <tr>\n",
       "      <th>1</th>\n",
       "      <td>0.000000</td>\n",
       "      <td>0.000000</td>\n",
       "      <td>0.000000</td>\n",
       "      <td>0.000000</td>\n",
       "      <td>0.000000</td>\n",
       "      <td>0.000000</td>\n",
       "      <td>0.000000</td>\n",
       "      <td>0.000000</td>\n",
       "      <td>0.000000</td>\n",
       "      <td>0.000000</td>\n",
       "      <td>...</td>\n",
       "      <td>0.000000</td>\n",
       "      <td>0.000000</td>\n",
       "      <td>0.000000</td>\n",
       "      <td>0.000000</td>\n",
       "      <td>0</td>\n",
       "      <td>0</td>\n",
       "      <td>0</td>\n",
       "      <td>0</td>\n",
       "      <td>0</td>\n",
       "      <td>0</td>\n",
       "    </tr>\n",
       "    <tr>\n",
       "      <th>10</th>\n",
       "      <td>0.000000</td>\n",
       "      <td>0.000000</td>\n",
       "      <td>0.000000</td>\n",
       "      <td>0.000000</td>\n",
       "      <td>0.000000</td>\n",
       "      <td>0.000000</td>\n",
       "      <td>0.000000</td>\n",
       "      <td>0.000000</td>\n",
       "      <td>0.000000</td>\n",
       "      <td>0.000000</td>\n",
       "      <td>...</td>\n",
       "      <td>0.000000</td>\n",
       "      <td>0.000000</td>\n",
       "      <td>0.000000</td>\n",
       "      <td>0.000000</td>\n",
       "      <td>0</td>\n",
       "      <td>0</td>\n",
       "      <td>0</td>\n",
       "      <td>0</td>\n",
       "      <td>0</td>\n",
       "      <td>0</td>\n",
       "    </tr>\n",
       "    <tr>\n",
       "      <th>5</th>\n",
       "      <td>0.000000</td>\n",
       "      <td>0.000000</td>\n",
       "      <td>0.000000</td>\n",
       "      <td>0.000000</td>\n",
       "      <td>0.000000</td>\n",
       "      <td>0.000000</td>\n",
       "      <td>0.000000</td>\n",
       "      <td>0.000000</td>\n",
       "      <td>0.000000</td>\n",
       "      <td>0.000000</td>\n",
       "      <td>...</td>\n",
       "      <td>0.000000</td>\n",
       "      <td>0.000000</td>\n",
       "      <td>0.000000</td>\n",
       "      <td>0.000000</td>\n",
       "      <td>0</td>\n",
       "      <td>0</td>\n",
       "      <td>0</td>\n",
       "      <td>0</td>\n",
       "      <td>0</td>\n",
       "      <td>0</td>\n",
       "    </tr>\n",
       "    <tr>\n",
       "      <th>2</th>\n",
       "      <td>0.000000</td>\n",
       "      <td>0.000000</td>\n",
       "      <td>0.000000</td>\n",
       "      <td>0.000000</td>\n",
       "      <td>0.000000</td>\n",
       "      <td>0.000000</td>\n",
       "      <td>0.000000</td>\n",
       "      <td>0.000000</td>\n",
       "      <td>0.000000</td>\n",
       "      <td>0.000000</td>\n",
       "      <td>...</td>\n",
       "      <td>0.000000</td>\n",
       "      <td>0.000000</td>\n",
       "      <td>0.000000</td>\n",
       "      <td>0.000000</td>\n",
       "      <td>0</td>\n",
       "      <td>0</td>\n",
       "      <td>0</td>\n",
       "      <td>0</td>\n",
       "      <td>0</td>\n",
       "      <td>0</td>\n",
       "    </tr>\n",
       "    <tr>\n",
       "      <th>11</th>\n",
       "      <td>0.000000</td>\n",
       "      <td>0.000000</td>\n",
       "      <td>0.000000</td>\n",
       "      <td>0.000000</td>\n",
       "      <td>0.000000</td>\n",
       "      <td>0.000000</td>\n",
       "      <td>0.000000</td>\n",
       "      <td>0.000000</td>\n",
       "      <td>0.000000</td>\n",
       "      <td>0.000000</td>\n",
       "      <td>...</td>\n",
       "      <td>0.000000</td>\n",
       "      <td>0.000000</td>\n",
       "      <td>0.000000</td>\n",
       "      <td>0.000000</td>\n",
       "      <td>0</td>\n",
       "      <td>0</td>\n",
       "      <td>0</td>\n",
       "      <td>0</td>\n",
       "      <td>0</td>\n",
       "      <td>0</td>\n",
       "    </tr>\n",
       "    <tr>\n",
       "      <th>6</th>\n",
       "      <td>0.000000</td>\n",
       "      <td>0.000000</td>\n",
       "      <td>0.000000</td>\n",
       "      <td>0.000000</td>\n",
       "      <td>0.000000</td>\n",
       "      <td>0.000000</td>\n",
       "      <td>0.000000</td>\n",
       "      <td>0.000000</td>\n",
       "      <td>0.000000</td>\n",
       "      <td>0.000000</td>\n",
       "      <td>...</td>\n",
       "      <td>0.000000</td>\n",
       "      <td>0.000000</td>\n",
       "      <td>0.000000</td>\n",
       "      <td>0.000000</td>\n",
       "      <td>0</td>\n",
       "      <td>0</td>\n",
       "      <td>0</td>\n",
       "      <td>0</td>\n",
       "      <td>0</td>\n",
       "      <td>0</td>\n",
       "    </tr>\n",
       "    <tr>\n",
       "      <th>3</th>\n",
       "      <td>0.000000</td>\n",
       "      <td>0.000000</td>\n",
       "      <td>0.000000</td>\n",
       "      <td>0.000000</td>\n",
       "      <td>0.000000</td>\n",
       "      <td>0.000000</td>\n",
       "      <td>0.000000</td>\n",
       "      <td>0.000000</td>\n",
       "      <td>0.000000</td>\n",
       "      <td>0.000000</td>\n",
       "      <td>...</td>\n",
       "      <td>0.000000</td>\n",
       "      <td>0.000000</td>\n",
       "      <td>0.000000</td>\n",
       "      <td>0.000000</td>\n",
       "      <td>0</td>\n",
       "      <td>0</td>\n",
       "      <td>0</td>\n",
       "      <td>0</td>\n",
       "      <td>0</td>\n",
       "      <td>0</td>\n",
       "    </tr>\n",
       "    <tr>\n",
       "      <th>12</th>\n",
       "      <td>0.000000</td>\n",
       "      <td>0.000000</td>\n",
       "      <td>0.000000</td>\n",
       "      <td>0.000000</td>\n",
       "      <td>0.000000</td>\n",
       "      <td>0.000000</td>\n",
       "      <td>0.000000</td>\n",
       "      <td>0.000000</td>\n",
       "      <td>0.000000</td>\n",
       "      <td>0.000000</td>\n",
       "      <td>...</td>\n",
       "      <td>0.000000</td>\n",
       "      <td>0.000000</td>\n",
       "      <td>0.000000</td>\n",
       "      <td>0.000000</td>\n",
       "      <td>0</td>\n",
       "      <td>0</td>\n",
       "      <td>0</td>\n",
       "      <td>0</td>\n",
       "      <td>0</td>\n",
       "      <td>0</td>\n",
       "    </tr>\n",
       "    <tr>\n",
       "      <th>7</th>\n",
       "      <td>0.000000</td>\n",
       "      <td>0.000000</td>\n",
       "      <td>0.000000</td>\n",
       "      <td>0.000000</td>\n",
       "      <td>0.000000</td>\n",
       "      <td>0.000000</td>\n",
       "      <td>0.000000</td>\n",
       "      <td>0.000000</td>\n",
       "      <td>0.000000</td>\n",
       "      <td>0.000000</td>\n",
       "      <td>...</td>\n",
       "      <td>0.000000</td>\n",
       "      <td>0.000000</td>\n",
       "      <td>0.000000</td>\n",
       "      <td>0.000000</td>\n",
       "      <td>0</td>\n",
       "      <td>0</td>\n",
       "      <td>0</td>\n",
       "      <td>0</td>\n",
       "      <td>0</td>\n",
       "      <td>0</td>\n",
       "    </tr>\n",
       "    <tr>\n",
       "      <th>28</th>\n",
       "      <td>0.000000</td>\n",
       "      <td>0.000000</td>\n",
       "      <td>0.000000</td>\n",
       "      <td>0.000000</td>\n",
       "      <td>0.000000</td>\n",
       "      <td>0.000000</td>\n",
       "      <td>0.000000</td>\n",
       "      <td>0.000000</td>\n",
       "      <td>0.000000</td>\n",
       "      <td>0.000000</td>\n",
       "      <td>...</td>\n",
       "      <td>0.004661</td>\n",
       "      <td>0.000000</td>\n",
       "      <td>0.000000</td>\n",
       "      <td>0.000000</td>\n",
       "      <td>0</td>\n",
       "      <td>0</td>\n",
       "      <td>0</td>\n",
       "      <td>0</td>\n",
       "      <td>0</td>\n",
       "      <td>0</td>\n",
       "    </tr>\n",
       "    <tr>\n",
       "      <th>21</th>\n",
       "      <td>0.000000</td>\n",
       "      <td>0.000000</td>\n",
       "      <td>0.000000</td>\n",
       "      <td>0.000000</td>\n",
       "      <td>0.000000</td>\n",
       "      <td>0.000000</td>\n",
       "      <td>0.000000</td>\n",
       "      <td>0.000000</td>\n",
       "      <td>0.000000</td>\n",
       "      <td>0.000000</td>\n",
       "      <td>...</td>\n",
       "      <td>0.000000</td>\n",
       "      <td>0.021750</td>\n",
       "      <td>0.000000</td>\n",
       "      <td>0.000000</td>\n",
       "      <td>0</td>\n",
       "      <td>0</td>\n",
       "      <td>0</td>\n",
       "      <td>0</td>\n",
       "      <td>0</td>\n",
       "      <td>0</td>\n",
       "    </tr>\n",
       "    <tr>\n",
       "      <th>20</th>\n",
       "      <td>0.000000</td>\n",
       "      <td>0.000000</td>\n",
       "      <td>0.000000</td>\n",
       "      <td>0.000000</td>\n",
       "      <td>0.000000</td>\n",
       "      <td>0.000000</td>\n",
       "      <td>0.000000</td>\n",
       "      <td>0.000000</td>\n",
       "      <td>0.000000</td>\n",
       "      <td>0.000000</td>\n",
       "      <td>...</td>\n",
       "      <td>0.021750</td>\n",
       "      <td>0.000000</td>\n",
       "      <td>0.022786</td>\n",
       "      <td>0.000000</td>\n",
       "      <td>0</td>\n",
       "      <td>0</td>\n",
       "      <td>0</td>\n",
       "      <td>0</td>\n",
       "      <td>0</td>\n",
       "      <td>0</td>\n",
       "    </tr>\n",
       "    <tr>\n",
       "      <th>19</th>\n",
       "      <td>0.000000</td>\n",
       "      <td>0.000000</td>\n",
       "      <td>0.000000</td>\n",
       "      <td>0.000000</td>\n",
       "      <td>0.000000</td>\n",
       "      <td>0.000000</td>\n",
       "      <td>0.000000</td>\n",
       "      <td>0.000000</td>\n",
       "      <td>0.000000</td>\n",
       "      <td>0.000000</td>\n",
       "      <td>...</td>\n",
       "      <td>0.000000</td>\n",
       "      <td>0.022786</td>\n",
       "      <td>0.000000</td>\n",
       "      <td>0.011134</td>\n",
       "      <td>0</td>\n",
       "      <td>0</td>\n",
       "      <td>0</td>\n",
       "      <td>0</td>\n",
       "      <td>0</td>\n",
       "      <td>0</td>\n",
       "    </tr>\n",
       "    <tr>\n",
       "      <th>-3</th>\n",
       "      <td>0.000000</td>\n",
       "      <td>0.000000</td>\n",
       "      <td>0.000000</td>\n",
       "      <td>0.000000</td>\n",
       "      <td>0.000000</td>\n",
       "      <td>0.000000</td>\n",
       "      <td>0.000000</td>\n",
       "      <td>0.000000</td>\n",
       "      <td>0.000000</td>\n",
       "      <td>0.000000</td>\n",
       "      <td>...</td>\n",
       "      <td>0.000000</td>\n",
       "      <td>0.000000</td>\n",
       "      <td>0.011134</td>\n",
       "      <td>0.000000</td>\n",
       "      <td>0</td>\n",
       "      <td>0</td>\n",
       "      <td>0</td>\n",
       "      <td>0</td>\n",
       "      <td>0</td>\n",
       "      <td>0</td>\n",
       "    </tr>\n",
       "    <tr>\n",
       "      <th>18</th>\n",
       "      <td>0.000000</td>\n",
       "      <td>0.000000</td>\n",
       "      <td>0.000000</td>\n",
       "      <td>0.000000</td>\n",
       "      <td>0.000000</td>\n",
       "      <td>0.000000</td>\n",
       "      <td>0.000000</td>\n",
       "      <td>0.000000</td>\n",
       "      <td>0.000000</td>\n",
       "      <td>0.000000</td>\n",
       "      <td>...</td>\n",
       "      <td>0.000000</td>\n",
       "      <td>0.000000</td>\n",
       "      <td>0.000000</td>\n",
       "      <td>0.000000</td>\n",
       "      <td>0</td>\n",
       "      <td>0</td>\n",
       "      <td>0</td>\n",
       "      <td>0</td>\n",
       "      <td>0</td>\n",
       "      <td>0</td>\n",
       "    </tr>\n",
       "    <tr>\n",
       "      <th>13</th>\n",
       "      <td>0.000000</td>\n",
       "      <td>0.000000</td>\n",
       "      <td>0.000000</td>\n",
       "      <td>0.000000</td>\n",
       "      <td>0.000000</td>\n",
       "      <td>0.000000</td>\n",
       "      <td>0.000000</td>\n",
       "      <td>0.000000</td>\n",
       "      <td>0.000000</td>\n",
       "      <td>0.000000</td>\n",
       "      <td>...</td>\n",
       "      <td>0.000000</td>\n",
       "      <td>0.000000</td>\n",
       "      <td>0.000000</td>\n",
       "      <td>0.000000</td>\n",
       "      <td>0</td>\n",
       "      <td>0</td>\n",
       "      <td>0</td>\n",
       "      <td>0</td>\n",
       "      <td>0</td>\n",
       "      <td>0</td>\n",
       "    </tr>\n",
       "    <tr>\n",
       "      <th>22</th>\n",
       "      <td>0.000000</td>\n",
       "      <td>0.000000</td>\n",
       "      <td>0.000000</td>\n",
       "      <td>0.000000</td>\n",
       "      <td>0.000000</td>\n",
       "      <td>0.000000</td>\n",
       "      <td>0.000000</td>\n",
       "      <td>0.000000</td>\n",
       "      <td>0.000000</td>\n",
       "      <td>0.000000</td>\n",
       "      <td>...</td>\n",
       "      <td>0.000000</td>\n",
       "      <td>0.000000</td>\n",
       "      <td>0.000000</td>\n",
       "      <td>0.000000</td>\n",
       "      <td>0</td>\n",
       "      <td>0</td>\n",
       "      <td>0</td>\n",
       "      <td>0</td>\n",
       "      <td>0</td>\n",
       "      <td>0</td>\n",
       "    </tr>\n",
       "    <tr>\n",
       "      <th>8</th>\n",
       "      <td>0.000000</td>\n",
       "      <td>0.000000</td>\n",
       "      <td>0.000000</td>\n",
       "      <td>0.000000</td>\n",
       "      <td>0.000000</td>\n",
       "      <td>0.000000</td>\n",
       "      <td>0.000000</td>\n",
       "      <td>0.000000</td>\n",
       "      <td>0.000000</td>\n",
       "      <td>0.000000</td>\n",
       "      <td>...</td>\n",
       "      <td>0.000000</td>\n",
       "      <td>0.000000</td>\n",
       "      <td>0.000000</td>\n",
       "      <td>0.000000</td>\n",
       "      <td>0</td>\n",
       "      <td>0</td>\n",
       "      <td>0</td>\n",
       "      <td>0</td>\n",
       "      <td>0</td>\n",
       "      <td>0</td>\n",
       "    </tr>\n",
       "    <tr>\n",
       "      <th>4</th>\n",
       "      <td>0.000000</td>\n",
       "      <td>0.000000</td>\n",
       "      <td>0.000000</td>\n",
       "      <td>0.000000</td>\n",
       "      <td>0.000000</td>\n",
       "      <td>0.000000</td>\n",
       "      <td>0.000000</td>\n",
       "      <td>0.000000</td>\n",
       "      <td>0.000000</td>\n",
       "      <td>0.000000</td>\n",
       "      <td>...</td>\n",
       "      <td>0.000000</td>\n",
       "      <td>0.000000</td>\n",
       "      <td>0.000000</td>\n",
       "      <td>0.000000</td>\n",
       "      <td>0</td>\n",
       "      <td>0</td>\n",
       "      <td>0</td>\n",
       "      <td>0</td>\n",
       "      <td>0</td>\n",
       "      <td>0</td>\n",
       "    </tr>\n",
       "    <tr>\n",
       "      <th>27</th>\n",
       "      <td>0.000000</td>\n",
       "      <td>0.000000</td>\n",
       "      <td>0.000000</td>\n",
       "      <td>0.000000</td>\n",
       "      <td>0.000000</td>\n",
       "      <td>0.000000</td>\n",
       "      <td>0.000000</td>\n",
       "      <td>0.000000</td>\n",
       "      <td>0.000000</td>\n",
       "      <td>0.000000</td>\n",
       "      <td>...</td>\n",
       "      <td>0.000000</td>\n",
       "      <td>0.000000</td>\n",
       "      <td>0.000000</td>\n",
       "      <td>0.000000</td>\n",
       "      <td>0</td>\n",
       "      <td>0</td>\n",
       "      <td>0</td>\n",
       "      <td>0</td>\n",
       "      <td>0</td>\n",
       "      <td>0</td>\n",
       "    </tr>\n",
       "  </tbody>\n",
       "</table>\n",
       "<p>35 rows × 35 columns</p>\n",
       "</div>"
      ],
      "text/plain": [
       "          17        16        15        14        -5        -2        23  \\\n",
       "17  0.000000  0.024858  0.000000  0.000000  0.000000  0.000000  0.000000   \n",
       "16  0.024858  0.000000  0.016313  0.000000  0.000000  0.000000  0.000000   \n",
       "15  0.000000  0.016313  0.000000  0.019679  0.000000  0.000000  0.000000   \n",
       "14  0.000000  0.000000  0.019679  0.000000  0.016313  0.000000  0.000000   \n",
       "-5  0.000000  0.000000  0.000000  0.016313  0.000000  0.000000  0.000000   \n",
       "-2  0.000000  0.000000  0.000000  0.000000  0.000000  0.000000  0.014759   \n",
       "23  0.000000  0.000000  0.000000  0.000000  0.000000  0.014759  0.000000   \n",
       "24  0.000000  0.000000  0.000000  0.000000  0.000000  0.000000  0.033143   \n",
       "25  0.000000  0.000000  0.000000  0.000000  0.000000  0.000000  0.000000   \n",
       "26  0.000000  0.000000  0.000000  0.000000  0.000000  0.000000  0.000000   \n",
       "-4  0.000000  0.000000  0.000000  0.000000  0.000000  0.000000  0.000000   \n",
       "-1  0.000000  0.000000  0.000000  0.000000  0.000000  0.000000  0.000000   \n",
       "0   0.000000  0.000000  0.000000  0.000000  0.000000  0.000000  0.000000   \n",
       "9   0.000000  0.000000  0.000000  0.000000  0.000000  0.000000  0.000000   \n",
       "-6  0.000000  0.000000  0.000000  0.000000  0.000000  0.000000  0.000000   \n",
       "1   0.000000  0.000000  0.000000  0.000000  0.000000  0.000000  0.000000   \n",
       "10  0.000000  0.000000  0.000000  0.000000  0.000000  0.000000  0.000000   \n",
       "5   0.000000  0.000000  0.000000  0.000000  0.000000  0.000000  0.000000   \n",
       "2   0.000000  0.000000  0.000000  0.000000  0.000000  0.000000  0.000000   \n",
       "11  0.000000  0.000000  0.000000  0.000000  0.000000  0.000000  0.000000   \n",
       "6   0.000000  0.000000  0.000000  0.000000  0.000000  0.000000  0.000000   \n",
       "3   0.000000  0.000000  0.000000  0.000000  0.000000  0.000000  0.000000   \n",
       "12  0.000000  0.000000  0.000000  0.000000  0.000000  0.000000  0.000000   \n",
       "7   0.000000  0.000000  0.000000  0.000000  0.000000  0.000000  0.000000   \n",
       "28  0.000000  0.000000  0.000000  0.000000  0.000000  0.000000  0.000000   \n",
       "21  0.000000  0.000000  0.000000  0.000000  0.000000  0.000000  0.000000   \n",
       "20  0.000000  0.000000  0.000000  0.000000  0.000000  0.000000  0.000000   \n",
       "19  0.000000  0.000000  0.000000  0.000000  0.000000  0.000000  0.000000   \n",
       "-3  0.000000  0.000000  0.000000  0.000000  0.000000  0.000000  0.000000   \n",
       "18  0.000000  0.000000  0.000000  0.000000  0.000000  0.000000  0.000000   \n",
       "13  0.000000  0.000000  0.000000  0.000000  0.000000  0.000000  0.000000   \n",
       "22  0.000000  0.000000  0.000000  0.000000  0.000000  0.000000  0.000000   \n",
       "8   0.000000  0.000000  0.000000  0.000000  0.000000  0.000000  0.000000   \n",
       "4   0.000000  0.000000  0.000000  0.000000  0.000000  0.000000  0.000000   \n",
       "27  0.000000  0.000000  0.000000  0.000000  0.000000  0.000000  0.000000   \n",
       "\n",
       "          24        25        26 ...        21        20        19        -3  \\\n",
       "17  0.000000  0.000000  0.000000 ...  0.000000  0.000000  0.000000  0.000000   \n",
       "16  0.000000  0.000000  0.000000 ...  0.000000  0.000000  0.000000  0.000000   \n",
       "15  0.000000  0.000000  0.000000 ...  0.000000  0.000000  0.000000  0.000000   \n",
       "14  0.000000  0.000000  0.000000 ...  0.000000  0.000000  0.000000  0.000000   \n",
       "-5  0.000000  0.000000  0.000000 ...  0.000000  0.000000  0.000000  0.000000   \n",
       "-2  0.000000  0.000000  0.000000 ...  0.000000  0.000000  0.000000  0.000000   \n",
       "23  0.033143  0.000000  0.000000 ...  0.000000  0.000000  0.000000  0.000000   \n",
       "24  0.000000  0.017607  0.000000 ...  0.000000  0.000000  0.000000  0.000000   \n",
       "25  0.017607  0.000000  0.020715 ...  0.000000  0.000000  0.000000  0.000000   \n",
       "26  0.000000  0.020715  0.000000 ...  0.000000  0.000000  0.000000  0.000000   \n",
       "-4  0.000000  0.000000  0.000000 ...  0.000000  0.000000  0.000000  0.000000   \n",
       "-1  0.000000  0.000000  0.000000 ...  0.000000  0.000000  0.000000  0.000000   \n",
       "0   0.000000  0.000000  0.000000 ...  0.000000  0.000000  0.000000  0.000000   \n",
       "9   0.000000  0.000000  0.000000 ...  0.000000  0.000000  0.000000  0.000000   \n",
       "-6  0.000000  0.000000  0.000000 ...  0.000000  0.000000  0.000000  0.000000   \n",
       "1   0.000000  0.000000  0.000000 ...  0.000000  0.000000  0.000000  0.000000   \n",
       "10  0.000000  0.000000  0.000000 ...  0.000000  0.000000  0.000000  0.000000   \n",
       "5   0.000000  0.000000  0.000000 ...  0.000000  0.000000  0.000000  0.000000   \n",
       "2   0.000000  0.000000  0.000000 ...  0.000000  0.000000  0.000000  0.000000   \n",
       "11  0.000000  0.000000  0.000000 ...  0.000000  0.000000  0.000000  0.000000   \n",
       "6   0.000000  0.000000  0.000000 ...  0.000000  0.000000  0.000000  0.000000   \n",
       "3   0.000000  0.000000  0.000000 ...  0.000000  0.000000  0.000000  0.000000   \n",
       "12  0.000000  0.000000  0.000000 ...  0.000000  0.000000  0.000000  0.000000   \n",
       "7   0.000000  0.000000  0.000000 ...  0.000000  0.000000  0.000000  0.000000   \n",
       "28  0.000000  0.000000  0.000000 ...  0.004661  0.000000  0.000000  0.000000   \n",
       "21  0.000000  0.000000  0.000000 ...  0.000000  0.021750  0.000000  0.000000   \n",
       "20  0.000000  0.000000  0.000000 ...  0.021750  0.000000  0.022786  0.000000   \n",
       "19  0.000000  0.000000  0.000000 ...  0.000000  0.022786  0.000000  0.011134   \n",
       "-3  0.000000  0.000000  0.000000 ...  0.000000  0.000000  0.011134  0.000000   \n",
       "18  0.000000  0.000000  0.000000 ...  0.000000  0.000000  0.000000  0.000000   \n",
       "13  0.000000  0.000000  0.000000 ...  0.000000  0.000000  0.000000  0.000000   \n",
       "22  0.000000  0.000000  0.000000 ...  0.000000  0.000000  0.000000  0.000000   \n",
       "8   0.000000  0.000000  0.000000 ...  0.000000  0.000000  0.000000  0.000000   \n",
       "4   0.000000  0.000000  0.000000 ...  0.000000  0.000000  0.000000  0.000000   \n",
       "27  0.000000  0.000000  0.000000 ...  0.000000  0.000000  0.000000  0.000000   \n",
       "\n",
       "    18  13  22  8  4  27  \n",
       "17   0   0   0  0  0   0  \n",
       "16   0   0   0  0  0   0  \n",
       "15   0   0   0  0  0   0  \n",
       "14   0   0   0  0  0   0  \n",
       "-5   0   0   0  0  0   0  \n",
       "-2   0   0   0  0  0   0  \n",
       "23   0   0   0  0  0   0  \n",
       "24   0   0   0  0  0   0  \n",
       "25   0   0   0  0  0   0  \n",
       "26   0   0   0  0  0   0  \n",
       "-4   0   0   0  0  0   0  \n",
       "-1   0   0   0  0  0   0  \n",
       "0    0   0   0  0  0   0  \n",
       "9    0   0   0  0  0   0  \n",
       "-6   0   0   0  0  0   0  \n",
       "1    0   0   0  0  0   0  \n",
       "10   0   0   0  0  0   0  \n",
       "5    0   0   0  0  0   0  \n",
       "2    0   0   0  0  0   0  \n",
       "11   0   0   0  0  0   0  \n",
       "6    0   0   0  0  0   0  \n",
       "3    0   0   0  0  0   0  \n",
       "12   0   0   0  0  0   0  \n",
       "7    0   0   0  0  0   0  \n",
       "28   0   0   0  0  0   0  \n",
       "21   0   0   0  0  0   0  \n",
       "20   0   0   0  0  0   0  \n",
       "19   0   0   0  0  0   0  \n",
       "-3   0   0   0  0  0   0  \n",
       "18   0   0   0  0  0   0  \n",
       "13   0   0   0  0  0   0  \n",
       "22   0   0   0  0  0   0  \n",
       "8    0   0   0  0  0   0  \n",
       "4    0   0   0  0  0   0  \n",
       "27   0   0   0  0  0   0  \n",
       "\n",
       "[35 rows x 35 columns]"
      ]
     },
     "execution_count": 28,
     "metadata": {},
     "output_type": "execute_result"
    }
   ],
   "source": [
    "repx_net.mixing_matrix()"
   ]
  },
  {
   "cell_type": "markdown",
   "metadata": {},
   "source": [
    "#### Replica exchange graph\n",
    "\n",
    "The mixing matrix tells a story of how well various interfaces are connected to other interfaces. The replica exchange graph is essentially a visualization of the mixing matrix (actually, of the transition matrix -- the mixing matrix is a symmetrized version of the transition matrix).\n",
    "\n",
    "Note: We're still developing better layout tools to visualize these."
   ]
  },
  {
   "cell_type": "code",
   "execution_count": 29,
   "metadata": {
    "collapsed": false
   },
   "outputs": [
    {
     "data": {
      "image/png": "[encoded data removed]",
      "text/plain": [
       "<matplotlib.figure.Figure at 0x15201afd0>"
      ]
     },
     "metadata": {},
     "output_type": "display_data"
    }
   ],
   "source": [
    "repxG = paths.ReplicaNetworkGraph(repx_net)\n",
    "repxG.draw('spring')"
   ]
  },
  {
   "cell_type": "markdown",
   "metadata": {},
   "source": [
    "#### Replica exchange flow\n",
    "\n",
    "Replica flow is defined as ***TODO***\n",
    "\n",
    "Flow is designed for calculations where the replica exchange graph is linear, which ours clearly is not. However, we can define the flow over a subset of the interfaces."
   ]
  },
  {
   "cell_type": "code",
   "execution_count": null,
   "metadata": {
    "collapsed": true
   },
   "outputs": [],
   "source": []
  },
  {
   "cell_type": "markdown",
   "metadata": {},
   "source": [
    "### Replica move history tree"
   ]
  },
  {
   "cell_type": "code",
   "execution_count": 30,
   "metadata": {
    "collapsed": false,
    "scrolled": false
   },
   "outputs": [],
   "source": [
    "import openpathsampling.visualize as visualizations\n",
    "reload(visualizations)\n",
    "from IPython.display import SVG\n",
    "\n",
    "history = visualizations.ReplicaHistoryTree(\n",
    "    storage=storage,\n",
    "    steps=storage.steps[0:200],\n",
    "    replica=1\n",
    ")"
   ]
  },
  {
   "cell_type": "code",
   "execution_count": 31,
   "metadata": {
    "collapsed": false
   },
   "outputs": [
    {
     "data": {
      "image/svg+xml": [
       "<svg baseProfile=\"full\" height=\"360.0px\" version=\"1.1\" width=\"440.0px\" xmlns=\"http://www.w3.org/2000/svg\" xmlns:ev=\"http://www.w3.org/2001/xml-events\" xmlns:xlink=\"http://www.w3.org/1999/xlink\"><defs/><text alignment-baseline=\"middle\" fill=\"black\" font-family=\"Futura\" font-size=\"8.4\" text-anchor=\"end\" x=\"78.0\" y=\"25.2\">0b</text><rect fill=\"black\" height=\"14.4\" width=\"9.0\" x=\"80.5\" y=\"16.8\"/><circle cx=\"80.0\" cy=\"24.0\" fill=\"black\" r=\"0.5\" stroke=\"black\" stroke-width=\"0\"/><circle cx=\"90.0\" cy=\"24.0\" fill=\"black\" r=\"0.5\" stroke=\"black\" stroke-width=\"0\"/><text alignment-baseline=\"middle\" fill=\"white\" font-family=\"Futura\" font-size=\"8.4\" text-anchor=\"middle\" x=\"85.0\" y=\"25.2\"/><rect fill=\"black\" height=\"14.4\" width=\"9.0\" x=\"90.5\" y=\"16.8\"/><circle cx=\"90.0\" cy=\"24.0\" fill=\"black\" r=\"0.5\" stroke=\"black\" stroke-width=\"0\"/><circle cx=\"100.0\" cy=\"24.0\" fill=\"black\" r=\"0.5\" stroke=\"black\" stroke-width=\"0\"/><text alignment-baseline=\"middle\" fill=\"white\" font-family=\"Futura\" font-size=\"8.4\" text-anchor=\"middle\" x=\"95.0\" y=\"25.2\"/><rect fill=\"black\" height=\"14.4\" width=\"9.0\" x=\"100.5\" y=\"16.8\"/><circle cx=\"100.0\" cy=\"24.0\" fill=\"black\" r=\"0.5\" stroke=\"black\" stroke-width=\"0\"/><circle cx=\"110.0\" cy=\"24.0\" fill=\"black\" r=\"0.5\" stroke=\"black\" stroke-width=\"0\"/><text alignment-baseline=\"middle\" fill=\"white\" font-family=\"Futura\" font-size=\"8.4\" text-anchor=\"middle\" x=\"105.0\" y=\"25.2\"/><rect fill=\"black\" height=\"14.4\" width=\"9.0\" x=\"110.5\" y=\"16.8\"/><circle cx=\"110.0\" cy=\"24.0\" fill=\"black\" r=\"0.5\" stroke=\"black\" stroke-width=\"0\"/><circle cx=\"120.0\" cy=\"24.0\" fill=\"black\" r=\"0.5\" stroke=\"black\" stroke-width=\"0\"/><text alignment-baseline=\"middle\" fill=\"white\" font-family=\"Futura\" font-size=\"8.4\" text-anchor=\"middle\" x=\"115.0\" y=\"25.2\"/><rect fill=\"black\" height=\"14.4\" width=\"9.0\" x=\"120.5\" y=\"16.8\"/><circle cx=\"120.0\" cy=\"24.0\" fill=\"black\" r=\"0.5\" stroke=\"black\" stroke-width=\"0\"/><circle cx=\"130.0\" cy=\"24.0\" fill=\"black\" r=\"0.5\" stroke=\"black\" stroke-width=\"0\"/><text alignment-baseline=\"middle\" fill=\"white\" font-family=\"Futura\" font-size=\"8.4\" text-anchor=\"middle\" x=\"125.0\" y=\"25.2\"/><rect fill=\"black\" height=\"14.4\" width=\"9.0\" x=\"130.5\" y=\"16.8\"/><circle cx=\"130.0\" cy=\"24.0\" fill=\"black\" r=\"0.5\" stroke=\"black\" stroke-width=\"0\"/><circle cx=\"140.0\" cy=\"24.0\" fill=\"black\" r=\"0.5\" stroke=\"black\" stroke-width=\"0\"/><text alignment-baseline=\"middle\" fill=\"white\" font-family=\"Futura\" font-size=\"8.4\" text-anchor=\"middle\" x=\"135.0\" y=\"25.2\"/><rect fill=\"black\" height=\"14.4\" width=\"9.0\" x=\"140.5\" y=\"16.8\"/><circle cx=\"140.0\" cy=\"24.0\" fill=\"black\" r=\"0.5\" stroke=\"black\" stroke-width=\"0\"/><circle cx=\"150.0\" cy=\"24.0\" fill=\"black\" r=\"0.5\" stroke=\"black\" stroke-width=\"0\"/><text alignment-baseline=\"middle\" fill=\"white\" font-family=\"Futura\" font-size=\"8.4\" text-anchor=\"middle\" x=\"145.0\" y=\"25.2\"/><rect fill=\"black\" height=\"14.4\" width=\"9.0\" x=\"150.5\" y=\"16.8\"/><circle cx=\"150.0\" cy=\"24.0\" fill=\"black\" r=\"0.5\" stroke=\"black\" stroke-width=\"0\"/><circle cx=\"160.0\" cy=\"24.0\" fill=\"black\" r=\"0.5\" stroke=\"black\" stroke-width=\"0\"/><text alignment-baseline=\"middle\" fill=\"white\" font-family=\"Futura\" font-size=\"8.4\" text-anchor=\"middle\" x=\"155.0\" y=\"25.2\"/><rect fill=\"black\" height=\"14.4\" width=\"9.0\" x=\"160.5\" y=\"16.8\"/><circle cx=\"160.0\" cy=\"24.0\" fill=\"black\" r=\"0.5\" stroke=\"black\" stroke-width=\"0\"/><circle cx=\"170.0\" cy=\"24.0\" fill=\"black\" r=\"0.5\" stroke=\"black\" stroke-width=\"0\"/><text alignment-baseline=\"middle\" fill=\"white\" font-family=\"Futura\" font-size=\"8.4\" text-anchor=\"middle\" x=\"165.0\" y=\"25.2\"/><rect fill=\"black\" height=\"14.4\" width=\"9.0\" x=\"170.5\" y=\"16.8\"/><circle cx=\"170.0\" cy=\"24.0\" fill=\"black\" r=\"0.5\" stroke=\"black\" stroke-width=\"0\"/><circle cx=\"180.0\" cy=\"24.0\" fill=\"black\" r=\"0.5\" stroke=\"black\" stroke-width=\"0\"/><text alignment-baseline=\"middle\" fill=\"white\" font-family=\"Futura\" font-size=\"8.4\" text-anchor=\"middle\" x=\"175.0\" y=\"25.2\"/><rect fill=\"black\" height=\"14.4\" width=\"9.0\" x=\"180.5\" y=\"16.8\"/><circle cx=\"180.0\" cy=\"24.0\" fill=\"black\" r=\"0.5\" stroke=\"black\" stroke-width=\"0\"/><circle cx=\"190.0\" cy=\"24.0\" fill=\"black\" r=\"0.5\" stroke=\"black\" stroke-width=\"0\"/><text alignment-baseline=\"middle\" fill=\"white\" font-family=\"Futura\" font-size=\"8.4\" text-anchor=\"middle\" x=\"185.0\" y=\"25.2\"/><rect fill=\"black\" height=\"14.4\" width=\"9.0\" x=\"190.5\" y=\"16.8\"/><circle cx=\"190.0\" cy=\"24.0\" fill=\"black\" r=\"0.5\" stroke=\"black\" stroke-width=\"0\"/><circle cx=\"200.0\" cy=\"24.0\" fill=\"black\" r=\"0.5\" stroke=\"black\" stroke-width=\"0\"/><text alignment-baseline=\"middle\" fill=\"white\" font-family=\"Futura\" font-size=\"8.4\" text-anchor=\"middle\" x=\"195.0\" y=\"25.2\"/><rect fill=\"black\" height=\"14.4\" width=\"9.0\" x=\"200.5\" y=\"16.8\"/><circle cx=\"200.0\" cy=\"24.0\" fill=\"black\" r=\"0.5\" stroke=\"black\" stroke-width=\"0\"/><circle cx=\"210.0\" cy=\"24.0\" fill=\"black\" r=\"0.5\" stroke=\"black\" stroke-width=\"0\"/><text alignment-baseline=\"middle\" fill=\"white\" font-family=\"Futura\" font-size=\"8.4\" text-anchor=\"middle\" x=\"205.0\" y=\"25.2\"/><rect fill=\"black\" height=\"14.4\" width=\"9.0\" x=\"210.5\" y=\"16.8\"/><circle cx=\"210.0\" cy=\"24.0\" fill=\"black\" r=\"0.5\" stroke=\"black\" stroke-width=\"0\"/><circle cx=\"220.0\" cy=\"24.0\" fill=\"black\" r=\"0.5\" stroke=\"black\" stroke-width=\"0\"/><text alignment-baseline=\"middle\" fill=\"white\" font-family=\"Futura\" font-size=\"8.4\" text-anchor=\"middle\" x=\"215.0\" y=\"25.2\"/><rect fill=\"black\" height=\"14.4\" width=\"9.0\" x=\"220.5\" y=\"16.8\"/><circle cx=\"220.0\" cy=\"24.0\" fill=\"black\" r=\"0.5\" stroke=\"black\" stroke-width=\"0\"/><circle cx=\"230.0\" cy=\"24.0\" fill=\"black\" r=\"0.5\" stroke=\"black\" stroke-width=\"0\"/><text alignment-baseline=\"middle\" fill=\"white\" font-family=\"Futura\" font-size=\"8.4\" text-anchor=\"middle\" x=\"225.0\" y=\"25.2\"/><rect fill=\"black\" height=\"14.4\" width=\"9.0\" x=\"230.5\" y=\"16.8\"/><circle cx=\"230.0\" cy=\"24.0\" fill=\"black\" r=\"0.5\" stroke=\"black\" stroke-width=\"0\"/><circle cx=\"240.0\" cy=\"24.0\" fill=\"black\" r=\"0.5\" stroke=\"black\" stroke-width=\"0\"/><text alignment-baseline=\"middle\" fill=\"white\" font-family=\"Futura\" font-size=\"8.4\" text-anchor=\"middle\" x=\"235.0\" y=\"25.2\"/><rect fill=\"black\" height=\"14.4\" width=\"9.0\" x=\"240.5\" y=\"16.8\"/><circle cx=\"240.0\" cy=\"24.0\" fill=\"black\" r=\"0.5\" stroke=\"black\" stroke-width=\"0\"/><circle cx=\"250.0\" cy=\"24.0\" fill=\"black\" r=\"0.5\" stroke=\"black\" stroke-width=\"0\"/><text alignment-baseline=\"middle\" fill=\"white\" font-family=\"Futura\" font-size=\"8.4\" text-anchor=\"middle\" x=\"245.0\" y=\"25.2\"/><rect fill=\"black\" height=\"14.4\" width=\"9.0\" x=\"250.5\" y=\"16.8\"/><circle cx=\"250.0\" cy=\"24.0\" fill=\"black\" r=\"0.5\" stroke=\"black\" stroke-width=\"0\"/><circle cx=\"260.0\" cy=\"24.0\" fill=\"black\" r=\"0.5\" stroke=\"black\" stroke-width=\"0\"/><text alignment-baseline=\"middle\" fill=\"white\" font-family=\"Futura\" font-size=\"8.4\" text-anchor=\"middle\" x=\"255.0\" y=\"25.2\"/><rect fill=\"black\" height=\"14.4\" width=\"9.0\" x=\"260.5\" y=\"16.8\"/><circle cx=\"260.0\" cy=\"24.0\" fill=\"black\" r=\"0.5\" stroke=\"black\" stroke-width=\"0\"/><circle cx=\"270.0\" cy=\"24.0\" fill=\"black\" r=\"0.5\" stroke=\"black\" stroke-width=\"0\"/><text alignment-baseline=\"middle\" fill=\"white\" font-family=\"Futura\" font-size=\"8.4\" text-anchor=\"middle\" x=\"265.0\" y=\"25.2\"/><rect fill=\"black\" height=\"14.4\" width=\"9.0\" x=\"270.5\" y=\"16.8\"/><circle cx=\"270.0\" cy=\"24.0\" fill=\"black\" r=\"0.5\" stroke=\"black\" stroke-width=\"0\"/><circle cx=\"280.0\" cy=\"24.0\" fill=\"black\" r=\"0.5\" stroke=\"black\" stroke-width=\"0\"/><text alignment-baseline=\"middle\" fill=\"white\" font-family=\"Futura\" font-size=\"8.4\" text-anchor=\"middle\" x=\"275.0\" y=\"25.2\"/><rect fill=\"black\" height=\"14.4\" width=\"9.0\" x=\"280.5\" y=\"16.8\"/><circle cx=\"280.0\" cy=\"24.0\" fill=\"black\" r=\"0.5\" stroke=\"black\" stroke-width=\"0\"/><circle cx=\"290.0\" cy=\"24.0\" fill=\"black\" r=\"0.5\" stroke=\"black\" stroke-width=\"0\"/><text alignment-baseline=\"middle\" fill=\"white\" font-family=\"Futura\" font-size=\"8.4\" text-anchor=\"middle\" x=\"285.0\" y=\"25.2\"/><rect fill=\"black\" height=\"14.4\" width=\"9.0\" x=\"290.5\" y=\"16.8\"/><circle cx=\"290.0\" cy=\"24.0\" fill=\"black\" r=\"0.5\" stroke=\"black\" stroke-width=\"0\"/><circle cx=\"300.0\" cy=\"24.0\" fill=\"black\" r=\"0.5\" stroke=\"black\" stroke-width=\"0\"/><text alignment-baseline=\"middle\" fill=\"white\" font-family=\"Futura\" font-size=\"8.4\" text-anchor=\"middle\" x=\"295.0\" y=\"25.2\"/><rect fill=\"black\" height=\"14.4\" width=\"9.0\" x=\"300.5\" y=\"16.8\"/><circle cx=\"300.0\" cy=\"24.0\" fill=\"black\" r=\"0.5\" stroke=\"black\" stroke-width=\"0\"/><circle cx=\"310.0\" cy=\"24.0\" fill=\"black\" r=\"0.5\" stroke=\"black\" stroke-width=\"0\"/><text alignment-baseline=\"middle\" fill=\"white\" font-family=\"Futura\" font-size=\"8.4\" text-anchor=\"middle\" x=\"305.0\" y=\"25.2\"/><rect fill=\"black\" height=\"14.4\" width=\"9.0\" x=\"310.5\" y=\"16.8\"/><circle cx=\"310.0\" cy=\"24.0\" fill=\"black\" r=\"0.5\" stroke=\"black\" stroke-width=\"0\"/><circle cx=\"320.0\" cy=\"24.0\" fill=\"black\" r=\"0.5\" stroke=\"black\" stroke-width=\"0\"/><text alignment-baseline=\"middle\" fill=\"white\" font-family=\"Futura\" font-size=\"8.4\" text-anchor=\"middle\" x=\"315.0\" y=\"25.2\"/><rect fill=\"black\" height=\"14.4\" width=\"9.0\" x=\"320.5\" y=\"16.8\"/><circle cx=\"320.0\" cy=\"24.0\" fill=\"black\" r=\"0.5\" stroke=\"black\" stroke-width=\"0\"/><circle cx=\"330.0\" cy=\"24.0\" fill=\"black\" r=\"0.5\" stroke=\"black\" stroke-width=\"0\"/><text alignment-baseline=\"middle\" fill=\"white\" font-family=\"Futura\" font-size=\"8.4\" text-anchor=\"middle\" x=\"325.0\" y=\"25.2\"/><rect fill=\"black\" height=\"14.4\" width=\"9.0\" x=\"330.5\" y=\"16.8\"/><circle cx=\"330.0\" cy=\"24.0\" fill=\"black\" r=\"0.5\" stroke=\"black\" stroke-width=\"0\"/><circle cx=\"340.0\" cy=\"24.0\" fill=\"black\" r=\"0.5\" stroke=\"black\" stroke-width=\"0\"/><text alignment-baseline=\"middle\" fill=\"white\" font-family=\"Futura\" font-size=\"8.4\" text-anchor=\"middle\" x=\"335.0\" y=\"25.2\"/><rect fill=\"black\" height=\"14.4\" width=\"9.0\" x=\"340.5\" y=\"16.8\"/><circle cx=\"340.0\" cy=\"24.0\" fill=\"black\" r=\"0.5\" stroke=\"black\" stroke-width=\"0\"/><circle cx=\"350.0\" cy=\"24.0\" fill=\"black\" r=\"0.5\" stroke=\"black\" stroke-width=\"0\"/><text alignment-baseline=\"middle\" fill=\"white\" font-family=\"Futura\" font-size=\"8.4\" text-anchor=\"middle\" x=\"345.0\" y=\"25.2\"/><rect fill=\"black\" height=\"14.4\" width=\"9.0\" x=\"350.5\" y=\"16.8\"/><circle cx=\"350.0\" cy=\"24.0\" fill=\"black\" r=\"0.5\" stroke=\"black\" stroke-width=\"0\"/><circle cx=\"360.0\" cy=\"24.0\" fill=\"black\" r=\"0.5\" stroke=\"black\" stroke-width=\"0\"/><text alignment-baseline=\"middle\" fill=\"white\" font-family=\"Futura\" font-size=\"8.4\" text-anchor=\"middle\" x=\"355.0\" y=\"25.2\"/><rect fill=\"black\" height=\"14.4\" width=\"9.0\" x=\"360.5\" y=\"16.8\"/><circle cx=\"360.0\" cy=\"24.0\" fill=\"black\" r=\"0.5\" stroke=\"black\" stroke-width=\"0\"/><circle cx=\"370.0\" cy=\"24.0\" fill=\"black\" r=\"0.5\" stroke=\"black\" stroke-width=\"0\"/><text alignment-baseline=\"middle\" fill=\"white\" font-family=\"Futura\" font-size=\"8.4\" text-anchor=\"middle\" x=\"365.0\" y=\"25.2\"/><rect fill=\"black\" height=\"14.4\" width=\"9.0\" x=\"370.5\" y=\"16.8\"/><circle cx=\"370.0\" cy=\"24.0\" fill=\"black\" r=\"0.5\" stroke=\"black\" stroke-width=\"0\"/><circle cx=\"380.0\" cy=\"24.0\" fill=\"black\" r=\"0.5\" stroke=\"black\" stroke-width=\"0\"/><text alignment-baseline=\"middle\" fill=\"white\" font-family=\"Futura\" font-size=\"8.4\" text-anchor=\"middle\" x=\"375.0\" y=\"25.2\"/><rect fill=\"black\" height=\"14.4\" width=\"9.0\" x=\"380.5\" y=\"16.8\"/><circle cx=\"380.0\" cy=\"24.0\" fill=\"black\" r=\"0.5\" stroke=\"black\" stroke-width=\"0\"/><circle cx=\"390.0\" cy=\"24.0\" fill=\"black\" r=\"0.5\" stroke=\"black\" stroke-width=\"0\"/><text alignment-baseline=\"middle\" fill=\"white\" font-family=\"Futura\" font-size=\"8.4\" text-anchor=\"middle\" x=\"385.0\" y=\"25.2\"/><line stroke=\"red\" stroke-width=\"1.2\" x1=\"370.0\" x2=\"370.0\" y1=\"25.2\" y2=\"46.8\"/><text alignment-baseline=\"middle\" fill=\"black\" font-family=\"Futura\" font-size=\"8.4\" text-anchor=\"start\" x=\"392.0\" y=\"49.2\">60f</text><rect fill=\"red\" height=\"14.4\" width=\"9.0\" x=\"370.5\" y=\"40.8\"/><circle cx=\"370.0\" cy=\"48.0\" fill=\"red\" r=\"0.5\" stroke=\"red\" stroke-width=\"0\"/><circle cx=\"380.0\" cy=\"48.0\" fill=\"red\" r=\"0.5\" stroke=\"red\" stroke-width=\"0\"/><text alignment-baseline=\"middle\" fill=\"white\" font-family=\"Futura\" font-size=\"8.4\" text-anchor=\"middle\" x=\"375.0\" y=\"49.2\"/><rect fill=\"red\" height=\"14.4\" width=\"9.0\" x=\"380.5\" y=\"40.8\"/><circle cx=\"380.0\" cy=\"48.0\" fill=\"red\" r=\"0.5\" stroke=\"red\" stroke-width=\"0\"/><circle cx=\"390.0\" cy=\"48.0\" fill=\"red\" r=\"0.5\" stroke=\"red\" stroke-width=\"0\"/><text alignment-baseline=\"middle\" fill=\"white\" font-family=\"Futura\" font-size=\"8.4\" text-anchor=\"middle\" x=\"385.0\" y=\"49.2\"/><line stroke=\"red\" stroke-width=\"1.2\" x1=\"230.0\" x2=\"230.0\" y1=\"25.2\" y2=\"70.8\"/><text alignment-baseline=\"middle\" fill=\"black\" font-family=\"Futura\" font-size=\"8.4\" text-anchor=\"start\" x=\"432.0\" y=\"73.2\">64f</text><rect fill=\"red\" height=\"14.4\" width=\"9.0\" x=\"230.5\" y=\"64.8\"/><circle cx=\"230.0\" cy=\"72.0\" fill=\"red\" r=\"0.5\" stroke=\"red\" stroke-width=\"0\"/><circle cx=\"240.0\" cy=\"72.0\" fill=\"red\" r=\"0.5\" stroke=\"red\" stroke-width=\"0\"/><text alignment-baseline=\"middle\" fill=\"white\" font-family=\"Futura\" font-size=\"8.4\" text-anchor=\"middle\" x=\"235.0\" y=\"73.2\"/><rect fill=\"red\" height=\"14.4\" width=\"9.0\" x=\"240.5\" y=\"64.8\"/><circle cx=\"240.0\" cy=\"72.0\" fill=\"red\" r=\"0.5\" stroke=\"red\" stroke-width=\"0\"/><circle cx=\"250.0\" cy=\"72.0\" fill=\"red\" r=\"0.5\" stroke=\"red\" stroke-width=\"0\"/><text alignment-baseline=\"middle\" fill=\"white\" font-family=\"Futura\" font-size=\"8.4\" text-anchor=\"middle\" x=\"245.0\" y=\"73.2\"/><rect fill=\"red\" height=\"14.4\" width=\"9.0\" x=\"250.5\" y=\"64.8\"/><circle cx=\"250.0\" cy=\"72.0\" fill=\"red\" r=\"0.5\" stroke=\"red\" stroke-width=\"0\"/><circle cx=\"260.0\" cy=\"72.0\" fill=\"red\" r=\"0.5\" stroke=\"red\" stroke-width=\"0\"/><text alignment-baseline=\"middle\" fill=\"white\" font-family=\"Futura\" font-size=\"8.4\" text-anchor=\"middle\" x=\"255.0\" y=\"73.2\"/><rect fill=\"red\" height=\"14.4\" width=\"9.0\" x=\"260.5\" y=\"64.8\"/><circle cx=\"260.0\" cy=\"72.0\" fill=\"red\" r=\"0.5\" stroke=\"red\" stroke-width=\"0\"/><circle cx=\"270.0\" cy=\"72.0\" fill=\"red\" r=\"0.5\" stroke=\"red\" stroke-width=\"0\"/><text alignment-baseline=\"middle\" fill=\"white\" font-family=\"Futura\" font-size=\"8.4\" text-anchor=\"middle\" x=\"265.0\" y=\"73.2\"/><rect fill=\"red\" height=\"14.4\" width=\"9.0\" x=\"270.5\" y=\"64.8\"/><circle cx=\"270.0\" cy=\"72.0\" fill=\"red\" r=\"0.5\" stroke=\"red\" stroke-width=\"0\"/><circle cx=\"280.0\" cy=\"72.0\" fill=\"red\" r=\"0.5\" stroke=\"red\" stroke-width=\"0\"/><text alignment-baseline=\"middle\" fill=\"white\" font-family=\"Futura\" font-size=\"8.4\" text-anchor=\"middle\" x=\"275.0\" y=\"73.2\"/><rect fill=\"red\" height=\"14.4\" width=\"9.0\" x=\"280.5\" y=\"64.8\"/><circle cx=\"280.0\" cy=\"72.0\" fill=\"red\" r=\"0.5\" stroke=\"red\" stroke-width=\"0\"/><circle cx=\"290.0\" cy=\"72.0\" fill=\"red\" r=\"0.5\" stroke=\"red\" stroke-width=\"0\"/><text alignment-baseline=\"middle\" fill=\"white\" font-family=\"Futura\" font-size=\"8.4\" text-anchor=\"middle\" x=\"285.0\" y=\"73.2\"/><rect fill=\"red\" height=\"14.4\" width=\"9.0\" x=\"290.5\" y=\"64.8\"/><circle cx=\"290.0\" cy=\"72.0\" fill=\"red\" r=\"0.5\" stroke=\"red\" stroke-width=\"0\"/><circle cx=\"300.0\" cy=\"72.0\" fill=\"red\" r=\"0.5\" stroke=\"red\" stroke-width=\"0\"/><text alignment-baseline=\"middle\" fill=\"white\" font-family=\"Futura\" font-size=\"8.4\" text-anchor=\"middle\" x=\"295.0\" y=\"73.2\"/><rect fill=\"red\" height=\"14.4\" width=\"9.0\" x=\"300.5\" y=\"64.8\"/><circle cx=\"300.0\" cy=\"72.0\" fill=\"red\" r=\"0.5\" stroke=\"red\" stroke-width=\"0\"/><circle cx=\"310.0\" cy=\"72.0\" fill=\"red\" r=\"0.5\" stroke=\"red\" stroke-width=\"0\"/><text alignment-baseline=\"middle\" fill=\"white\" font-family=\"Futura\" font-size=\"8.4\" text-anchor=\"middle\" x=\"305.0\" y=\"73.2\"/><rect fill=\"red\" height=\"14.4\" width=\"9.0\" x=\"310.5\" y=\"64.8\"/><circle cx=\"310.0\" cy=\"72.0\" fill=\"red\" r=\"0.5\" stroke=\"red\" stroke-width=\"0\"/><circle cx=\"320.0\" cy=\"72.0\" fill=\"red\" r=\"0.5\" stroke=\"red\" stroke-width=\"0\"/><text alignment-baseline=\"middle\" fill=\"white\" font-family=\"Futura\" font-size=\"8.4\" text-anchor=\"middle\" x=\"315.0\" y=\"73.2\"/><rect fill=\"red\" height=\"14.4\" width=\"9.0\" x=\"320.5\" y=\"64.8\"/><circle cx=\"320.0\" cy=\"72.0\" fill=\"red\" r=\"0.5\" stroke=\"red\" stroke-width=\"0\"/><circle cx=\"330.0\" cy=\"72.0\" fill=\"red\" r=\"0.5\" stroke=\"red\" stroke-width=\"0\"/><text alignment-baseline=\"middle\" fill=\"white\" font-family=\"Futura\" font-size=\"8.4\" text-anchor=\"middle\" x=\"325.0\" y=\"73.2\"/><rect fill=\"red\" height=\"14.4\" width=\"9.0\" x=\"330.5\" y=\"64.8\"/><circle cx=\"330.0\" cy=\"72.0\" fill=\"red\" r=\"0.5\" stroke=\"red\" stroke-width=\"0\"/><circle cx=\"340.0\" cy=\"72.0\" fill=\"red\" r=\"0.5\" stroke=\"red\" stroke-width=\"0\"/><text alignment-baseline=\"middle\" fill=\"white\" font-family=\"Futura\" font-size=\"8.4\" text-anchor=\"middle\" x=\"335.0\" y=\"73.2\"/><rect fill=\"red\" height=\"14.4\" width=\"9.0\" x=\"340.5\" y=\"64.8\"/><circle cx=\"340.0\" cy=\"72.0\" fill=\"red\" r=\"0.5\" stroke=\"red\" stroke-width=\"0\"/><circle cx=\"350.0\" cy=\"72.0\" fill=\"red\" r=\"0.5\" stroke=\"red\" stroke-width=\"0\"/><text alignment-baseline=\"middle\" fill=\"white\" font-family=\"Futura\" font-size=\"8.4\" text-anchor=\"middle\" x=\"345.0\" y=\"73.2\"/><rect fill=\"red\" height=\"14.4\" width=\"9.0\" x=\"350.5\" y=\"64.8\"/><circle cx=\"350.0\" cy=\"72.0\" fill=\"red\" r=\"0.5\" stroke=\"red\" stroke-width=\"0\"/><circle cx=\"360.0\" cy=\"72.0\" fill=\"red\" r=\"0.5\" stroke=\"red\" stroke-width=\"0\"/><text alignment-baseline=\"middle\" fill=\"white\" font-family=\"Futura\" font-size=\"8.4\" text-anchor=\"middle\" x=\"355.0\" y=\"73.2\"/><rect fill=\"red\" height=\"14.4\" width=\"9.0\" x=\"360.5\" y=\"64.8\"/><circle cx=\"360.0\" cy=\"72.0\" fill=\"red\" r=\"0.5\" stroke=\"red\" stroke-width=\"0\"/><circle cx=\"370.0\" cy=\"72.0\" fill=\"red\" r=\"0.5\" stroke=\"red\" stroke-width=\"0\"/><text alignment-baseline=\"middle\" fill=\"white\" font-family=\"Futura\" font-size=\"8.4\" text-anchor=\"middle\" x=\"365.0\" y=\"73.2\"/><rect fill=\"red\" height=\"14.4\" width=\"9.0\" x=\"370.5\" y=\"64.8\"/><circle cx=\"370.0\" cy=\"72.0\" fill=\"red\" r=\"0.5\" stroke=\"red\" stroke-width=\"0\"/><circle cx=\"380.0\" cy=\"72.0\" fill=\"red\" r=\"0.5\" stroke=\"red\" stroke-width=\"0\"/><text alignment-baseline=\"middle\" fill=\"white\" font-family=\"Futura\" font-size=\"8.4\" text-anchor=\"middle\" x=\"375.0\" y=\"73.2\"/><rect fill=\"red\" height=\"14.4\" width=\"9.0\" x=\"380.5\" y=\"64.8\"/><circle cx=\"380.0\" cy=\"72.0\" fill=\"red\" r=\"0.5\" stroke=\"red\" stroke-width=\"0\"/><circle cx=\"390.0\" cy=\"72.0\" fill=\"red\" r=\"0.5\" stroke=\"red\" stroke-width=\"0\"/><text alignment-baseline=\"middle\" fill=\"white\" font-family=\"Futura\" font-size=\"8.4\" text-anchor=\"middle\" x=\"385.0\" y=\"73.2\"/><rect fill=\"red\" height=\"14.4\" width=\"9.0\" x=\"390.5\" y=\"64.8\"/><circle cx=\"390.0\" cy=\"72.0\" fill=\"red\" r=\"0.5\" stroke=\"red\" stroke-width=\"0\"/><circle cx=\"400.0\" cy=\"72.0\" fill=\"red\" r=\"0.5\" stroke=\"red\" stroke-width=\"0\"/><text alignment-baseline=\"middle\" fill=\"white\" font-family=\"Futura\" font-size=\"8.4\" text-anchor=\"middle\" x=\"395.0\" y=\"73.2\"/><rect fill=\"red\" height=\"14.4\" width=\"9.0\" x=\"400.5\" y=\"64.8\"/><circle cx=\"400.0\" cy=\"72.0\" fill=\"red\" r=\"0.5\" stroke=\"red\" stroke-width=\"0\"/><circle cx=\"410.0\" cy=\"72.0\" fill=\"red\" r=\"0.5\" stroke=\"red\" stroke-width=\"0\"/><text alignment-baseline=\"middle\" fill=\"white\" font-family=\"Futura\" font-size=\"8.4\" text-anchor=\"middle\" x=\"405.0\" y=\"73.2\"/><rect fill=\"red\" height=\"14.4\" width=\"9.0\" x=\"410.5\" y=\"64.8\"/><circle cx=\"410.0\" cy=\"72.0\" fill=\"red\" r=\"0.5\" stroke=\"red\" stroke-width=\"0\"/><circle cx=\"420.0\" cy=\"72.0\" fill=\"red\" r=\"0.5\" stroke=\"red\" stroke-width=\"0\"/><text alignment-baseline=\"middle\" fill=\"white\" font-family=\"Futura\" font-size=\"8.4\" text-anchor=\"middle\" x=\"415.0\" y=\"73.2\"/><rect fill=\"red\" height=\"14.4\" width=\"9.0\" x=\"420.5\" y=\"64.8\"/><circle cx=\"420.0\" cy=\"72.0\" fill=\"red\" r=\"0.5\" stroke=\"red\" stroke-width=\"0\"/><circle cx=\"430.0\" cy=\"72.0\" fill=\"red\" r=\"0.5\" stroke=\"red\" stroke-width=\"0\"/><text alignment-baseline=\"middle\" fill=\"white\" font-family=\"Futura\" font-size=\"8.4\" text-anchor=\"middle\" x=\"425.0\" y=\"73.2\"/><line stroke=\"red\" stroke-width=\"1.2\" x1=\"100.0\" x2=\"100.0\" y1=\"25.2\" y2=\"94.8\"/><text alignment-baseline=\"middle\" fill=\"black\" font-family=\"Futura\" font-size=\"8.4\" text-anchor=\"start\" x=\"322.0\" y=\"97.2\">82f</text><rect fill=\"red\" height=\"14.4\" width=\"9.0\" x=\"100.5\" y=\"88.8\"/><circle cx=\"100.0\" cy=\"96.0\" fill=\"red\" r=\"0.5\" stroke=\"red\" stroke-width=\"0\"/><circle cx=\"110.0\" cy=\"96.0\" fill=\"red\" r=\"0.5\" stroke=\"red\" stroke-width=\"0\"/><text alignment-baseline=\"middle\" fill=\"white\" font-family=\"Futura\" font-size=\"8.4\" text-anchor=\"middle\" x=\"105.0\" y=\"97.2\"/><rect fill=\"red\" height=\"14.4\" width=\"9.0\" x=\"110.5\" y=\"88.8\"/><circle cx=\"110.0\" cy=\"96.0\" fill=\"red\" r=\"0.5\" stroke=\"red\" stroke-width=\"0\"/><circle cx=\"120.0\" cy=\"96.0\" fill=\"red\" r=\"0.5\" stroke=\"red\" stroke-width=\"0\"/><text alignment-baseline=\"middle\" fill=\"white\" font-family=\"Futura\" font-size=\"8.4\" text-anchor=\"middle\" x=\"115.0\" y=\"97.2\"/><rect fill=\"red\" height=\"14.4\" width=\"9.0\" x=\"120.5\" y=\"88.8\"/><circle cx=\"120.0\" cy=\"96.0\" fill=\"red\" r=\"0.5\" stroke=\"red\" stroke-width=\"0\"/><circle cx=\"130.0\" cy=\"96.0\" fill=\"red\" r=\"0.5\" stroke=\"red\" stroke-width=\"0\"/><text alignment-baseline=\"middle\" fill=\"white\" font-family=\"Futura\" font-size=\"8.4\" text-anchor=\"middle\" x=\"125.0\" y=\"97.2\"/><rect fill=\"red\" height=\"14.4\" width=\"9.0\" x=\"130.5\" y=\"88.8\"/><circle cx=\"130.0\" cy=\"96.0\" fill=\"red\" r=\"0.5\" stroke=\"red\" stroke-width=\"0\"/><circle cx=\"140.0\" cy=\"96.0\" fill=\"red\" r=\"0.5\" stroke=\"red\" stroke-width=\"0\"/><text alignment-baseline=\"middle\" fill=\"white\" font-family=\"Futura\" font-size=\"8.4\" text-anchor=\"middle\" x=\"135.0\" y=\"97.2\"/><rect fill=\"red\" height=\"14.4\" width=\"9.0\" x=\"140.5\" y=\"88.8\"/><circle cx=\"140.0\" cy=\"96.0\" fill=\"red\" r=\"0.5\" stroke=\"red\" stroke-width=\"0\"/><circle cx=\"150.0\" cy=\"96.0\" fill=\"red\" r=\"0.5\" stroke=\"red\" stroke-width=\"0\"/><text alignment-baseline=\"middle\" fill=\"white\" font-family=\"Futura\" font-size=\"8.4\" text-anchor=\"middle\" x=\"145.0\" y=\"97.2\"/><rect fill=\"red\" height=\"14.4\" width=\"9.0\" x=\"150.5\" y=\"88.8\"/><circle cx=\"150.0\" cy=\"96.0\" fill=\"red\" r=\"0.5\" stroke=\"red\" stroke-width=\"0\"/><circle cx=\"160.0\" cy=\"96.0\" fill=\"red\" r=\"0.5\" stroke=\"red\" stroke-width=\"0\"/><text alignment-baseline=\"middle\" fill=\"white\" font-family=\"Futura\" font-size=\"8.4\" text-anchor=\"middle\" x=\"155.0\" y=\"97.2\"/><rect fill=\"red\" height=\"14.4\" width=\"9.0\" x=\"160.5\" y=\"88.8\"/><circle cx=\"160.0\" cy=\"96.0\" fill=\"red\" r=\"0.5\" stroke=\"red\" stroke-width=\"0\"/><circle cx=\"170.0\" cy=\"96.0\" fill=\"red\" r=\"0.5\" stroke=\"red\" stroke-width=\"0\"/><text alignment-baseline=\"middle\" fill=\"white\" font-family=\"Futura\" font-size=\"8.4\" text-anchor=\"middle\" x=\"165.0\" y=\"97.2\"/><rect fill=\"red\" height=\"14.4\" width=\"9.0\" x=\"170.5\" y=\"88.8\"/><circle cx=\"170.0\" cy=\"96.0\" fill=\"red\" r=\"0.5\" stroke=\"red\" stroke-width=\"0\"/><circle cx=\"180.0\" cy=\"96.0\" fill=\"red\" r=\"0.5\" stroke=\"red\" stroke-width=\"0\"/><text alignment-baseline=\"middle\" fill=\"white\" font-family=\"Futura\" font-size=\"8.4\" text-anchor=\"middle\" x=\"175.0\" y=\"97.2\"/><rect fill=\"red\" height=\"14.4\" width=\"9.0\" x=\"180.5\" y=\"88.8\"/><circle cx=\"180.0\" cy=\"96.0\" fill=\"red\" r=\"0.5\" stroke=\"red\" stroke-width=\"0\"/><circle cx=\"190.0\" cy=\"96.0\" fill=\"red\" r=\"0.5\" stroke=\"red\" stroke-width=\"0\"/><text alignment-baseline=\"middle\" fill=\"white\" font-family=\"Futura\" font-size=\"8.4\" text-anchor=\"middle\" x=\"185.0\" y=\"97.2\"/><rect fill=\"red\" height=\"14.4\" width=\"9.0\" x=\"190.5\" y=\"88.8\"/><circle cx=\"190.0\" cy=\"96.0\" fill=\"red\" r=\"0.5\" stroke=\"red\" stroke-width=\"0\"/><circle cx=\"200.0\" cy=\"96.0\" fill=\"red\" r=\"0.5\" stroke=\"red\" stroke-width=\"0\"/><text alignment-baseline=\"middle\" fill=\"white\" font-family=\"Futura\" font-size=\"8.4\" text-anchor=\"middle\" x=\"195.0\" y=\"97.2\"/><rect fill=\"red\" height=\"14.4\" width=\"9.0\" x=\"200.5\" y=\"88.8\"/><circle cx=\"200.0\" cy=\"96.0\" fill=\"red\" r=\"0.5\" stroke=\"red\" stroke-width=\"0\"/><circle cx=\"210.0\" cy=\"96.0\" fill=\"red\" r=\"0.5\" stroke=\"red\" stroke-width=\"0\"/><text alignment-baseline=\"middle\" fill=\"white\" font-family=\"Futura\" font-size=\"8.4\" text-anchor=\"middle\" x=\"205.0\" y=\"97.2\"/><rect fill=\"red\" height=\"14.4\" width=\"9.0\" x=\"210.5\" y=\"88.8\"/><circle cx=\"210.0\" cy=\"96.0\" fill=\"red\" r=\"0.5\" stroke=\"red\" stroke-width=\"0\"/><circle cx=\"220.0\" cy=\"96.0\" fill=\"red\" r=\"0.5\" stroke=\"red\" stroke-width=\"0\"/><text alignment-baseline=\"middle\" fill=\"white\" font-family=\"Futura\" font-size=\"8.4\" text-anchor=\"middle\" x=\"215.0\" y=\"97.2\"/><rect fill=\"red\" height=\"14.4\" width=\"9.0\" x=\"220.5\" y=\"88.8\"/><circle cx=\"220.0\" cy=\"96.0\" fill=\"red\" r=\"0.5\" stroke=\"red\" stroke-width=\"0\"/><circle cx=\"230.0\" cy=\"96.0\" fill=\"red\" r=\"0.5\" stroke=\"red\" stroke-width=\"0\"/><text alignment-baseline=\"middle\" fill=\"white\" font-family=\"Futura\" font-size=\"8.4\" text-anchor=\"middle\" x=\"225.0\" y=\"97.2\"/><rect fill=\"red\" height=\"14.4\" width=\"9.0\" x=\"230.5\" y=\"88.8\"/><circle cx=\"230.0\" cy=\"96.0\" fill=\"red\" r=\"0.5\" stroke=\"red\" stroke-width=\"0\"/><circle cx=\"240.0\" cy=\"96.0\" fill=\"red\" r=\"0.5\" stroke=\"red\" stroke-width=\"0\"/><text alignment-baseline=\"middle\" fill=\"white\" font-family=\"Futura\" font-size=\"8.4\" text-anchor=\"middle\" x=\"235.0\" y=\"97.2\"/><rect fill=\"red\" height=\"14.4\" width=\"9.0\" x=\"240.5\" y=\"88.8\"/><circle cx=\"240.0\" cy=\"96.0\" fill=\"red\" r=\"0.5\" stroke=\"red\" stroke-width=\"0\"/><circle cx=\"250.0\" cy=\"96.0\" fill=\"red\" r=\"0.5\" stroke=\"red\" stroke-width=\"0\"/><text alignment-baseline=\"middle\" fill=\"white\" font-family=\"Futura\" font-size=\"8.4\" text-anchor=\"middle\" x=\"245.0\" y=\"97.2\"/><rect fill=\"red\" height=\"14.4\" width=\"9.0\" x=\"250.5\" y=\"88.8\"/><circle cx=\"250.0\" cy=\"96.0\" fill=\"red\" r=\"0.5\" stroke=\"red\" stroke-width=\"0\"/><circle cx=\"260.0\" cy=\"96.0\" fill=\"red\" r=\"0.5\" stroke=\"red\" stroke-width=\"0\"/><text alignment-baseline=\"middle\" fill=\"white\" font-family=\"Futura\" font-size=\"8.4\" text-anchor=\"middle\" x=\"255.0\" y=\"97.2\"/><rect fill=\"red\" height=\"14.4\" width=\"9.0\" x=\"260.5\" y=\"88.8\"/><circle cx=\"260.0\" cy=\"96.0\" fill=\"red\" r=\"0.5\" stroke=\"red\" stroke-width=\"0\"/><circle cx=\"270.0\" cy=\"96.0\" fill=\"red\" r=\"0.5\" stroke=\"red\" stroke-width=\"0\"/><text alignment-baseline=\"middle\" fill=\"white\" font-family=\"Futura\" font-size=\"8.4\" text-anchor=\"middle\" x=\"265.0\" y=\"97.2\"/><rect fill=\"red\" height=\"14.4\" width=\"9.0\" x=\"270.5\" y=\"88.8\"/><circle cx=\"270.0\" cy=\"96.0\" fill=\"red\" r=\"0.5\" stroke=\"red\" stroke-width=\"0\"/><circle cx=\"280.0\" cy=\"96.0\" fill=\"red\" r=\"0.5\" stroke=\"red\" stroke-width=\"0\"/><text alignment-baseline=\"middle\" fill=\"white\" font-family=\"Futura\" font-size=\"8.4\" text-anchor=\"middle\" x=\"275.0\" y=\"97.2\"/><rect fill=\"red\" height=\"14.4\" width=\"9.0\" x=\"280.5\" y=\"88.8\"/><circle cx=\"280.0\" cy=\"96.0\" fill=\"red\" r=\"0.5\" stroke=\"red\" stroke-width=\"0\"/><circle cx=\"290.0\" cy=\"96.0\" fill=\"red\" r=\"0.5\" stroke=\"red\" stroke-width=\"0\"/><text alignment-baseline=\"middle\" fill=\"white\" font-family=\"Futura\" font-size=\"8.4\" text-anchor=\"middle\" x=\"285.0\" y=\"97.2\"/><rect fill=\"red\" height=\"14.4\" width=\"9.0\" x=\"290.5\" y=\"88.8\"/><circle cx=\"290.0\" cy=\"96.0\" fill=\"red\" r=\"0.5\" stroke=\"red\" stroke-width=\"0\"/><circle cx=\"300.0\" cy=\"96.0\" fill=\"red\" r=\"0.5\" stroke=\"red\" stroke-width=\"0\"/><text alignment-baseline=\"middle\" fill=\"white\" font-family=\"Futura\" font-size=\"8.4\" text-anchor=\"middle\" x=\"295.0\" y=\"97.2\"/><rect fill=\"red\" height=\"14.4\" width=\"9.0\" x=\"300.5\" y=\"88.8\"/><circle cx=\"300.0\" cy=\"96.0\" fill=\"red\" r=\"0.5\" stroke=\"red\" stroke-width=\"0\"/><circle cx=\"310.0\" cy=\"96.0\" fill=\"red\" r=\"0.5\" stroke=\"red\" stroke-width=\"0\"/><text alignment-baseline=\"middle\" fill=\"white\" font-family=\"Futura\" font-size=\"8.4\" text-anchor=\"middle\" x=\"305.0\" y=\"97.2\"/><rect fill=\"red\" height=\"14.4\" width=\"9.0\" x=\"310.5\" y=\"88.8\"/><circle cx=\"310.0\" cy=\"96.0\" fill=\"red\" r=\"0.5\" stroke=\"red\" stroke-width=\"0\"/><circle cx=\"320.0\" cy=\"96.0\" fill=\"red\" r=\"0.5\" stroke=\"red\" stroke-width=\"0\"/><text alignment-baseline=\"middle\" fill=\"white\" font-family=\"Futura\" font-size=\"8.4\" text-anchor=\"middle\" x=\"315.0\" y=\"97.2\"/><text alignment-baseline=\"middle\" fill=\"black\" font-family=\"Futura\" font-size=\"8.4\" text-anchor=\"end\" x=\"78.0\" y=\"121.2\">82x</text><rect fill=\"lightblue\" height=\"2.4\" width=\"239.0\" x=\"80.5\" y=\"118.8\"/><circle cx=\"80.0\" cy=\"120.0\" fill=\"lightblue\" r=\"0.5\" stroke=\"lightblue\" stroke-width=\"0\"/><rect fill=\"lightblue\" height=\"14.4\" width=\"1.0\" x=\"80.5\" y=\"112.8\"/><circle cx=\"320.0\" cy=\"120.0\" fill=\"lightblue\" r=\"0.5\" stroke=\"lightblue\" stroke-width=\"0\"/><rect fill=\"lightblue\" height=\"14.4\" width=\"1.0\" x=\"318.5\" y=\"112.8\"/><text alignment-baseline=\"middle\" fill=\"black\" font-family=\"Futura\" font-size=\"8.4\" text-anchor=\"middle\" x=\"200.0\" y=\"114.0\">ReplicaExchange</text><line stroke=\"red\" stroke-width=\"1.2\" x1=\"120.0\" x2=\"120.0\" y1=\"121.2\" y2=\"142.8\"/><text alignment-baseline=\"middle\" fill=\"black\" font-family=\"Futura\" font-size=\"8.4\" text-anchor=\"start\" x=\"282.0\" y=\"145.2\">130f</text><rect fill=\"red\" height=\"14.4\" width=\"9.0\" x=\"120.5\" y=\"136.8\"/><circle cx=\"120.0\" cy=\"144.0\" fill=\"red\" r=\"0.5\" stroke=\"red\" stroke-width=\"0\"/><circle cx=\"130.0\" cy=\"144.0\" fill=\"red\" r=\"0.5\" stroke=\"red\" stroke-width=\"0\"/><text alignment-baseline=\"middle\" fill=\"white\" font-family=\"Futura\" font-size=\"8.4\" text-anchor=\"middle\" x=\"125.0\" y=\"145.2\"/><rect fill=\"red\" height=\"14.4\" width=\"9.0\" x=\"130.5\" y=\"136.8\"/><circle cx=\"130.0\" cy=\"144.0\" fill=\"red\" r=\"0.5\" stroke=\"red\" stroke-width=\"0\"/><circle cx=\"140.0\" cy=\"144.0\" fill=\"red\" r=\"0.5\" stroke=\"red\" stroke-width=\"0\"/><text alignment-baseline=\"middle\" fill=\"white\" font-family=\"Futura\" font-size=\"8.4\" text-anchor=\"middle\" x=\"135.0\" y=\"145.2\"/><rect fill=\"red\" height=\"14.4\" width=\"9.0\" x=\"140.5\" y=\"136.8\"/><circle cx=\"140.0\" cy=\"144.0\" fill=\"red\" r=\"0.5\" stroke=\"red\" stroke-width=\"0\"/><circle cx=\"150.0\" cy=\"144.0\" fill=\"red\" r=\"0.5\" stroke=\"red\" stroke-width=\"0\"/><text alignment-baseline=\"middle\" fill=\"white\" font-family=\"Futura\" font-size=\"8.4\" text-anchor=\"middle\" x=\"145.0\" y=\"145.2\"/><rect fill=\"red\" height=\"14.4\" width=\"9.0\" x=\"150.5\" y=\"136.8\"/><circle cx=\"150.0\" cy=\"144.0\" fill=\"red\" r=\"0.5\" stroke=\"red\" stroke-width=\"0\"/><circle cx=\"160.0\" cy=\"144.0\" fill=\"red\" r=\"0.5\" stroke=\"red\" stroke-width=\"0\"/><text alignment-baseline=\"middle\" fill=\"white\" font-family=\"Futura\" font-size=\"8.4\" text-anchor=\"middle\" x=\"155.0\" y=\"145.2\"/><rect fill=\"red\" height=\"14.4\" width=\"9.0\" x=\"160.5\" y=\"136.8\"/><circle cx=\"160.0\" cy=\"144.0\" fill=\"red\" r=\"0.5\" stroke=\"red\" stroke-width=\"0\"/><circle cx=\"170.0\" cy=\"144.0\" fill=\"red\" r=\"0.5\" stroke=\"red\" stroke-width=\"0\"/><text alignment-baseline=\"middle\" fill=\"white\" font-family=\"Futura\" font-size=\"8.4\" text-anchor=\"middle\" x=\"165.0\" y=\"145.2\"/><rect fill=\"red\" height=\"14.4\" width=\"9.0\" x=\"170.5\" y=\"136.8\"/><circle cx=\"170.0\" cy=\"144.0\" fill=\"red\" r=\"0.5\" stroke=\"red\" stroke-width=\"0\"/><circle cx=\"180.0\" cy=\"144.0\" fill=\"red\" r=\"0.5\" stroke=\"red\" stroke-width=\"0\"/><text alignment-baseline=\"middle\" fill=\"white\" font-family=\"Futura\" font-size=\"8.4\" text-anchor=\"middle\" x=\"175.0\" y=\"145.2\"/><rect fill=\"red\" height=\"14.4\" width=\"9.0\" x=\"180.5\" y=\"136.8\"/><circle cx=\"180.0\" cy=\"144.0\" fill=\"red\" r=\"0.5\" stroke=\"red\" stroke-width=\"0\"/><circle cx=\"190.0\" cy=\"144.0\" fill=\"red\" r=\"0.5\" stroke=\"red\" stroke-width=\"0\"/><text alignment-baseline=\"middle\" fill=\"white\" font-family=\"Futura\" font-size=\"8.4\" text-anchor=\"middle\" x=\"185.0\" y=\"145.2\"/><rect fill=\"red\" height=\"14.4\" width=\"9.0\" x=\"190.5\" y=\"136.8\"/><circle cx=\"190.0\" cy=\"144.0\" fill=\"red\" r=\"0.5\" stroke=\"red\" stroke-width=\"0\"/><circle cx=\"200.0\" cy=\"144.0\" fill=\"red\" r=\"0.5\" stroke=\"red\" stroke-width=\"0\"/><text alignment-baseline=\"middle\" fill=\"white\" font-family=\"Futura\" font-size=\"8.4\" text-anchor=\"middle\" x=\"195.0\" y=\"145.2\"/><rect fill=\"red\" height=\"14.4\" width=\"9.0\" x=\"200.5\" y=\"136.8\"/><circle cx=\"200.0\" cy=\"144.0\" fill=\"red\" r=\"0.5\" stroke=\"red\" stroke-width=\"0\"/><circle cx=\"210.0\" cy=\"144.0\" fill=\"red\" r=\"0.5\" stroke=\"red\" stroke-width=\"0\"/><text alignment-baseline=\"middle\" fill=\"white\" font-family=\"Futura\" font-size=\"8.4\" text-anchor=\"middle\" x=\"205.0\" y=\"145.2\"/><rect fill=\"red\" height=\"14.4\" width=\"9.0\" x=\"210.5\" y=\"136.8\"/><circle cx=\"210.0\" cy=\"144.0\" fill=\"red\" r=\"0.5\" stroke=\"red\" stroke-width=\"0\"/><circle cx=\"220.0\" cy=\"144.0\" fill=\"red\" r=\"0.5\" stroke=\"red\" stroke-width=\"0\"/><text alignment-baseline=\"middle\" fill=\"white\" font-family=\"Futura\" font-size=\"8.4\" text-anchor=\"middle\" x=\"215.0\" y=\"145.2\"/><rect fill=\"red\" height=\"14.4\" width=\"9.0\" x=\"220.5\" y=\"136.8\"/><circle cx=\"220.0\" cy=\"144.0\" fill=\"red\" r=\"0.5\" stroke=\"red\" stroke-width=\"0\"/><circle cx=\"230.0\" cy=\"144.0\" fill=\"red\" r=\"0.5\" stroke=\"red\" stroke-width=\"0\"/><text alignment-baseline=\"middle\" fill=\"white\" font-family=\"Futura\" font-size=\"8.4\" text-anchor=\"middle\" x=\"225.0\" y=\"145.2\"/><rect fill=\"red\" height=\"14.4\" width=\"9.0\" x=\"230.5\" y=\"136.8\"/><circle cx=\"230.0\" cy=\"144.0\" fill=\"red\" r=\"0.5\" stroke=\"red\" stroke-width=\"0\"/><circle cx=\"240.0\" cy=\"144.0\" fill=\"red\" r=\"0.5\" stroke=\"red\" stroke-width=\"0\"/><text alignment-baseline=\"middle\" fill=\"white\" font-family=\"Futura\" font-size=\"8.4\" text-anchor=\"middle\" x=\"235.0\" y=\"145.2\"/><rect fill=\"red\" height=\"14.4\" width=\"9.0\" x=\"240.5\" y=\"136.8\"/><circle cx=\"240.0\" cy=\"144.0\" fill=\"red\" r=\"0.5\" stroke=\"red\" stroke-width=\"0\"/><circle cx=\"250.0\" cy=\"144.0\" fill=\"red\" r=\"0.5\" stroke=\"red\" stroke-width=\"0\"/><text alignment-baseline=\"middle\" fill=\"white\" font-family=\"Futura\" font-size=\"8.4\" text-anchor=\"middle\" x=\"245.0\" y=\"145.2\"/><rect fill=\"red\" height=\"14.4\" width=\"9.0\" x=\"250.5\" y=\"136.8\"/><circle cx=\"250.0\" cy=\"144.0\" fill=\"red\" r=\"0.5\" stroke=\"red\" stroke-width=\"0\"/><circle cx=\"260.0\" cy=\"144.0\" fill=\"red\" r=\"0.5\" stroke=\"red\" stroke-width=\"0\"/><text alignment-baseline=\"middle\" fill=\"white\" font-family=\"Futura\" font-size=\"8.4\" text-anchor=\"middle\" x=\"255.0\" y=\"145.2\"/><rect fill=\"red\" height=\"14.4\" width=\"9.0\" x=\"260.5\" y=\"136.8\"/><circle cx=\"260.0\" cy=\"144.0\" fill=\"red\" r=\"0.5\" stroke=\"red\" stroke-width=\"0\"/><circle cx=\"270.0\" cy=\"144.0\" fill=\"red\" r=\"0.5\" stroke=\"red\" stroke-width=\"0\"/><text alignment-baseline=\"middle\" fill=\"white\" font-family=\"Futura\" font-size=\"8.4\" text-anchor=\"middle\" x=\"265.0\" y=\"145.2\"/><rect fill=\"red\" height=\"14.4\" width=\"9.0\" x=\"270.5\" y=\"136.8\"/><circle cx=\"270.0\" cy=\"144.0\" fill=\"red\" r=\"0.5\" stroke=\"red\" stroke-width=\"0\"/><circle cx=\"280.0\" cy=\"144.0\" fill=\"red\" r=\"0.5\" stroke=\"red\" stroke-width=\"0\"/><text alignment-baseline=\"middle\" fill=\"white\" font-family=\"Futura\" font-size=\"8.4\" text-anchor=\"middle\" x=\"275.0\" y=\"145.2\"/><text alignment-baseline=\"middle\" fill=\"black\" font-family=\"Futura\" font-size=\"8.4\" text-anchor=\"end\" x=\"78.0\" y=\"169.2\">130x</text><rect fill=\"lightblue\" height=\"2.4\" width=\"199.0\" x=\"80.5\" y=\"166.8\"/><circle cx=\"80.0\" cy=\"168.0\" fill=\"lightblue\" r=\"0.5\" stroke=\"lightblue\" stroke-width=\"0\"/><rect fill=\"lightblue\" height=\"14.4\" width=\"1.0\" x=\"80.5\" y=\"160.8\"/><circle cx=\"280.0\" cy=\"168.0\" fill=\"lightblue\" r=\"0.5\" stroke=\"lightblue\" stroke-width=\"0\"/><rect fill=\"lightblue\" height=\"14.4\" width=\"1.0\" x=\"278.5\" y=\"160.8\"/><text alignment-baseline=\"middle\" fill=\"black\" font-family=\"Futura\" font-size=\"8.4\" text-anchor=\"middle\" x=\"180.0\" y=\"162.0\">ReplicaExchange</text><text alignment-baseline=\"middle\" fill=\"black\" font-family=\"Futura\" font-size=\"8.4\" text-anchor=\"end\" x=\"78.0\" y=\"193.2\">151r</text><rect fill=\"orange\" height=\"2.4\" width=\"199.0\" x=\"80.5\" y=\"190.8\"/><circle cx=\"80.0\" cy=\"192.0\" fill=\"orange\" r=\"0.5\" stroke=\"orange\" stroke-width=\"0\"/><rect fill=\"orange\" height=\"14.4\" width=\"1.0\" x=\"80.5\" y=\"184.8\"/><circle cx=\"280.0\" cy=\"192.0\" fill=\"orange\" r=\"0.5\" stroke=\"orange\" stroke-width=\"0\"/><rect fill=\"orange\" height=\"14.4\" width=\"1.0\" x=\"278.5\" y=\"184.8\"/><text alignment-baseline=\"middle\" fill=\"black\" font-family=\"Futura\" font-size=\"8.4\" text-anchor=\"middle\" x=\"180.0\" y=\"186.0\">PathReversal</text><text alignment-baseline=\"middle\" fill=\"black\" font-family=\"Futura\" font-size=\"8.4\" text-anchor=\"end\" x=\"78.0\" y=\"217.2\">151x</text><rect fill=\"lightblue\" height=\"2.4\" width=\"199.0\" x=\"80.5\" y=\"214.8\"/><circle cx=\"80.0\" cy=\"216.0\" fill=\"lightblue\" r=\"0.5\" stroke=\"lightblue\" stroke-width=\"0\"/><rect fill=\"lightblue\" height=\"14.4\" width=\"1.0\" x=\"80.5\" y=\"208.8\"/><circle cx=\"280.0\" cy=\"216.0\" fill=\"lightblue\" r=\"0.5\" stroke=\"lightblue\" stroke-width=\"0\"/><rect fill=\"lightblue\" height=\"14.4\" width=\"1.0\" x=\"278.5\" y=\"208.8\"/><text alignment-baseline=\"middle\" fill=\"black\" font-family=\"Futura\" font-size=\"8.4\" text-anchor=\"middle\" x=\"180.0\" y=\"210.0\">ReplicaExchange</text><line stroke=\"red\" stroke-width=\"1.2\" x1=\"180.0\" x2=\"180.0\" y1=\"217.2\" y2=\"238.8\"/><text alignment-baseline=\"middle\" fill=\"black\" font-family=\"Futura\" font-size=\"8.4\" text-anchor=\"start\" x=\"282.0\" y=\"241.2\">181f</text><rect fill=\"red\" height=\"14.4\" width=\"9.0\" x=\"180.5\" y=\"232.8\"/><circle cx=\"180.0\" cy=\"240.0\" fill=\"red\" r=\"0.5\" stroke=\"red\" stroke-width=\"0\"/><circle cx=\"190.0\" cy=\"240.0\" fill=\"red\" r=\"0.5\" stroke=\"red\" stroke-width=\"0\"/><text alignment-baseline=\"middle\" fill=\"white\" font-family=\"Futura\" font-size=\"8.4\" text-anchor=\"middle\" x=\"185.0\" y=\"241.2\"/><rect fill=\"red\" height=\"14.4\" width=\"9.0\" x=\"190.5\" y=\"232.8\"/><circle cx=\"190.0\" cy=\"240.0\" fill=\"red\" r=\"0.5\" stroke=\"red\" stroke-width=\"0\"/><circle cx=\"200.0\" cy=\"240.0\" fill=\"red\" r=\"0.5\" stroke=\"red\" stroke-width=\"0\"/><text alignment-baseline=\"middle\" fill=\"white\" font-family=\"Futura\" font-size=\"8.4\" text-anchor=\"middle\" x=\"195.0\" y=\"241.2\"/><rect fill=\"red\" height=\"14.4\" width=\"9.0\" x=\"200.5\" y=\"232.8\"/><circle cx=\"200.0\" cy=\"240.0\" fill=\"red\" r=\"0.5\" stroke=\"red\" stroke-width=\"0\"/><circle cx=\"210.0\" cy=\"240.0\" fill=\"red\" r=\"0.5\" stroke=\"red\" stroke-width=\"0\"/><text alignment-baseline=\"middle\" fill=\"white\" font-family=\"Futura\" font-size=\"8.4\" text-anchor=\"middle\" x=\"205.0\" y=\"241.2\"/><rect fill=\"red\" height=\"14.4\" width=\"9.0\" x=\"210.5\" y=\"232.8\"/><circle cx=\"210.0\" cy=\"240.0\" fill=\"red\" r=\"0.5\" stroke=\"red\" stroke-width=\"0\"/><circle cx=\"220.0\" cy=\"240.0\" fill=\"red\" r=\"0.5\" stroke=\"red\" stroke-width=\"0\"/><text alignment-baseline=\"middle\" fill=\"white\" font-family=\"Futura\" font-size=\"8.4\" text-anchor=\"middle\" x=\"215.0\" y=\"241.2\"/><rect fill=\"red\" height=\"14.4\" width=\"9.0\" x=\"220.5\" y=\"232.8\"/><circle cx=\"220.0\" cy=\"240.0\" fill=\"red\" r=\"0.5\" stroke=\"red\" stroke-width=\"0\"/><circle cx=\"230.0\" cy=\"240.0\" fill=\"red\" r=\"0.5\" stroke=\"red\" stroke-width=\"0\"/><text alignment-baseline=\"middle\" fill=\"white\" font-family=\"Futura\" font-size=\"8.4\" text-anchor=\"middle\" x=\"225.0\" y=\"241.2\"/><rect fill=\"red\" height=\"14.4\" width=\"9.0\" x=\"230.5\" y=\"232.8\"/><circle cx=\"230.0\" cy=\"240.0\" fill=\"red\" r=\"0.5\" stroke=\"red\" stroke-width=\"0\"/><circle cx=\"240.0\" cy=\"240.0\" fill=\"red\" r=\"0.5\" stroke=\"red\" stroke-width=\"0\"/><text alignment-baseline=\"middle\" fill=\"white\" font-family=\"Futura\" font-size=\"8.4\" text-anchor=\"middle\" x=\"235.0\" y=\"241.2\"/><rect fill=\"red\" height=\"14.4\" width=\"9.0\" x=\"240.5\" y=\"232.8\"/><circle cx=\"240.0\" cy=\"240.0\" fill=\"red\" r=\"0.5\" stroke=\"red\" stroke-width=\"0\"/><circle cx=\"250.0\" cy=\"240.0\" fill=\"red\" r=\"0.5\" stroke=\"red\" stroke-width=\"0\"/><text alignment-baseline=\"middle\" fill=\"white\" font-family=\"Futura\" font-size=\"8.4\" text-anchor=\"middle\" x=\"245.0\" y=\"241.2\"/><rect fill=\"red\" height=\"14.4\" width=\"9.0\" x=\"250.5\" y=\"232.8\"/><circle cx=\"250.0\" cy=\"240.0\" fill=\"red\" r=\"0.5\" stroke=\"red\" stroke-width=\"0\"/><circle cx=\"260.0\" cy=\"240.0\" fill=\"red\" r=\"0.5\" stroke=\"red\" stroke-width=\"0\"/><text alignment-baseline=\"middle\" fill=\"white\" font-family=\"Futura\" font-size=\"8.4\" text-anchor=\"middle\" x=\"255.0\" y=\"241.2\"/><rect fill=\"red\" height=\"14.4\" width=\"9.0\" x=\"260.5\" y=\"232.8\"/><circle cx=\"260.0\" cy=\"240.0\" fill=\"red\" r=\"0.5\" stroke=\"red\" stroke-width=\"0\"/><circle cx=\"270.0\" cy=\"240.0\" fill=\"red\" r=\"0.5\" stroke=\"red\" stroke-width=\"0\"/><text alignment-baseline=\"middle\" fill=\"white\" font-family=\"Futura\" font-size=\"8.4\" text-anchor=\"middle\" x=\"265.0\" y=\"241.2\"/><rect fill=\"red\" height=\"14.4\" width=\"9.0\" x=\"270.5\" y=\"232.8\"/><circle cx=\"270.0\" cy=\"240.0\" fill=\"red\" r=\"0.5\" stroke=\"red\" stroke-width=\"0\"/><circle cx=\"280.0\" cy=\"240.0\" fill=\"red\" r=\"0.5\" stroke=\"red\" stroke-width=\"0\"/><text alignment-baseline=\"middle\" fill=\"white\" font-family=\"Futura\" font-size=\"8.4\" text-anchor=\"middle\" x=\"275.0\" y=\"241.2\"/><text alignment-baseline=\"middle\" fill=\"black\" font-family=\"Futura\" font-size=\"8.4\" text-anchor=\"end\" x=\"78.0\" y=\"265.2\">188r</text><rect fill=\"orange\" height=\"2.4\" width=\"199.0\" x=\"80.5\" y=\"262.8\"/><circle cx=\"80.0\" cy=\"264.0\" fill=\"orange\" r=\"0.5\" stroke=\"orange\" stroke-width=\"0\"/><rect fill=\"orange\" height=\"14.4\" width=\"1.0\" x=\"80.5\" y=\"256.8\"/><circle cx=\"280.0\" cy=\"264.0\" fill=\"orange\" r=\"0.5\" stroke=\"orange\" stroke-width=\"0\"/><rect fill=\"orange\" height=\"14.4\" width=\"1.0\" x=\"278.5\" y=\"256.8\"/><text alignment-baseline=\"middle\" fill=\"black\" font-family=\"Futura\" font-size=\"8.4\" text-anchor=\"middle\" x=\"180.0\" y=\"258.0\">PathReversal</text><text alignment-baseline=\"middle\" fill=\"black\" font-family=\"Futura\" font-size=\"8.4\" text-anchor=\"end\" x=\"43.0\" y=\"25.2\">0</text><text alignment-baseline=\"middle\" fill=\"black\" font-family=\"Futura\" font-size=\"8.4\" text-anchor=\"end\" x=\"13.0\" y=\"25.2\">---</text><text alignment-baseline=\"middle\" fill=\"black\" font-family=\"Futura\" font-size=\"8.4\" text-anchor=\"end\" x=\"43.0\" y=\"49.2\">78</text><text alignment-baseline=\"middle\" fill=\"black\" font-family=\"Futura\" font-size=\"8.4\" text-anchor=\"end\" x=\"13.0\" y=\"49.2\">34</text><text alignment-baseline=\"middle\" fill=\"black\" font-family=\"Futura\" font-size=\"8.4\" text-anchor=\"end\" x=\"43.0\" y=\"73.2\">88</text><text alignment-baseline=\"middle\" fill=\"black\" font-family=\"Futura\" font-size=\"8.4\" text-anchor=\"end\" x=\"13.0\" y=\"73.2\">41</text><text alignment-baseline=\"middle\" fill=\"black\" font-family=\"Futura\" font-size=\"8.4\" text-anchor=\"end\" x=\"43.0\" y=\"97.2\">110</text><text alignment-baseline=\"middle\" fill=\"black\" font-family=\"Futura\" font-size=\"8.4\" text-anchor=\"end\" x=\"13.0\" y=\"97.2\">61</text><text alignment-baseline=\"middle\" fill=\"black\" font-family=\"Futura\" font-size=\"8.4\" text-anchor=\"end\" x=\"43.0\" y=\"121.2\">179</text><text alignment-baseline=\"middle\" fill=\"black\" font-family=\"Futura\" font-size=\"8.4\" text-anchor=\"end\" x=\"13.0\" y=\"121.2\">116</text><text alignment-baseline=\"middle\" fill=\"black\" font-family=\"Futura\" font-size=\"8.4\" text-anchor=\"end\" x=\"43.0\" y=\"145.2\">186</text><text alignment-baseline=\"middle\" fill=\"black\" font-family=\"Futura\" font-size=\"8.4\" text-anchor=\"end\" x=\"13.0\" y=\"145.2\">121</text><text alignment-baseline=\"middle\" fill=\"black\" font-family=\"Futura\" font-size=\"8.4\" text-anchor=\"end\" x=\"43.0\" y=\"169.2\">197</text><text alignment-baseline=\"middle\" fill=\"black\" font-family=\"Futura\" font-size=\"8.4\" text-anchor=\"end\" x=\"13.0\" y=\"169.2\">130</text><rect fill=\"black\" height=\"163.2\" width=\"1.0\" x=\"55.0\" y=\"14.4\"/><circle cx=\"55.0\" cy=\"14.4\" fill=\"black\" r=\"0.5\" stroke=\"black\" stroke-width=\"0\"/><rect fill=\"black\" height=\"2.4\" width=\"9.0\" x=\"50.5\" y=\"14.4\"/><circle cx=\"55.0\" cy=\"177.6\" fill=\"black\" r=\"0.5\" stroke=\"black\" stroke-width=\"0\"/><rect fill=\"black\" height=\"2.4\" width=\"9.0\" x=\"50.5\" y=\"175.2\"/><text alignment-baseline=\"middle\" fill=\"black\" font-family=\"Futura\" font-size=\"8.4\" text-anchor=\"middle\" x=\"52.0\" y=\"97.2\"/><text alignment-baseline=\"middle\" fill=\"black\" font-family=\"Futura\" font-size=\"8.4\" text-anchor=\"end\" x=\"43.0\" y=\"193.2\">227</text><text alignment-baseline=\"middle\" fill=\"black\" font-family=\"Futura\" font-size=\"8.4\" text-anchor=\"end\" x=\"13.0\" y=\"193.2\">152</text><text alignment-baseline=\"middle\" fill=\"black\" font-family=\"Futura\" font-size=\"8.4\" text-anchor=\"end\" x=\"43.0\" y=\"217.2\">257</text><text alignment-baseline=\"middle\" fill=\"black\" font-family=\"Futura\" font-size=\"8.4\" text-anchor=\"end\" x=\"13.0\" y=\"217.2\">173</text><text alignment-baseline=\"middle\" fill=\"black\" font-family=\"Futura\" font-size=\"8.4\" text-anchor=\"end\" x=\"43.0\" y=\"241.2\">273</text><text alignment-baseline=\"middle\" fill=\"black\" font-family=\"Futura\" font-size=\"8.4\" text-anchor=\"end\" x=\"13.0\" y=\"241.2\">186</text><rect fill=\"black\" height=\"67.2\" width=\"1.0\" x=\"55.0\" y=\"182.4\"/><circle cx=\"55.0\" cy=\"182.4\" fill=\"black\" r=\"0.5\" stroke=\"black\" stroke-width=\"0\"/><rect fill=\"black\" height=\"2.4\" width=\"9.0\" x=\"50.5\" y=\"182.4\"/><circle cx=\"55.0\" cy=\"249.6\" fill=\"black\" r=\"0.5\" stroke=\"black\" stroke-width=\"0\"/><rect fill=\"black\" height=\"2.4\" width=\"9.0\" x=\"50.5\" y=\"247.2\"/><text alignment-baseline=\"middle\" fill=\"black\" font-family=\"Futura\" font-size=\"8.4\" text-anchor=\"middle\" x=\"52.0\" y=\"217.2\"/><text alignment-baseline=\"middle\" fill=\"black\" font-family=\"Futura\" font-size=\"8.4\" text-anchor=\"end\" x=\"43.0\" y=\"265.2\">280</text><text alignment-baseline=\"middle\" fill=\"black\" font-family=\"Futura\" font-size=\"8.4\" text-anchor=\"end\" x=\"13.0\" y=\"265.2\">193</text><rect fill=\"black\" height=\"259.2\" width=\"1.0\" x=\"20.0\" y=\"14.4\"/><circle cx=\"20.0\" cy=\"14.4\" fill=\"black\" r=\"0.5\" stroke=\"black\" stroke-width=\"0\"/><rect fill=\"black\" height=\"2.4\" width=\"9.0\" x=\"15.5\" y=\"14.4\"/><circle cx=\"20.0\" cy=\"273.6\" fill=\"black\" r=\"0.5\" stroke=\"black\" stroke-width=\"0\"/><rect fill=\"black\" height=\"2.4\" width=\"9.0\" x=\"15.5\" y=\"271.2\"/><text alignment-baseline=\"middle\" fill=\"black\" font-family=\"Futura\" font-size=\"8.4\" text-anchor=\"middle\" x=\"17.0\" y=\"145.2\"/><rect fill=\"black\" height=\"19.2\" width=\"1.0\" x=\"55.0\" y=\"254.4\"/><circle cx=\"55.0\" cy=\"254.4\" fill=\"black\" r=\"0.5\" stroke=\"black\" stroke-width=\"0\"/><rect fill=\"black\" height=\"2.4\" width=\"9.0\" x=\"50.5\" y=\"254.4\"/><text alignment-baseline=\"middle\" fill=\"black\" font-family=\"Futura\" font-size=\"8.4\" text-anchor=\"middle\" x=\"52.0\" y=\"265.2\"/></svg>"
      ],
      "text/plain": [
       "<IPython.core.display.SVG object>"
      ]
     },
     "execution_count": 31,
     "metadata": {},
     "output_type": "execute_result"
    }
   ],
   "source": [
    "history.view.zoom = 1.0\n",
    "history.view.scale_y = 24\n",
    "history.view.scale_x = 10\n",
    "history.view.font_size = 0.35\n",
    "history.view.horizontal_gap = 0.05\n",
    "\n",
    "SVG(history.view.to_svg())"
   ]
  },
  {
   "cell_type": "code",
   "execution_count": 32,
   "metadata": {
    "collapsed": false
   },
   "outputs": [
    {
     "name": "stdout",
     "output_type": "stream",
     "text": [
      "We have 3 decorrelated trajectories.\n"
     ]
    }
   ],
   "source": [
    "decorrelated = history.decorrelated_trajectories\n",
    "print \"We have \" + str(len(decorrelated)) + \" decorrelated trajectories.\""
   ]
  },
  {
   "cell_type": "markdown",
   "metadata": {},
   "source": [
    "### Visualizing trajectories"
   ]
  },
  {
   "cell_type": "markdown",
   "metadata": {},
   "source": [
    "## Histogramming data (TODO)"
   ]
  },
  {
   "cell_type": "code",
   "execution_count": null,
   "metadata": {
    "collapsed": true
   },
   "outputs": [],
   "source": []
  }
 ],
 "metadata": {
  "kernelspec": {
   "display_name": "Python 2",
   "language": "python",
   "name": "python2"
  },
  "language_info": {
   "codemirror_mode": {
    "name": "ipython",
    "version": 2
   },
   "file_extension": ".py",
   "mimetype": "text/x-python",
   "name": "python",
   "nbconvert_exporter": "python",
   "pygments_lexer": "ipython2",
   "version": "2.7.11"
  }
 },
 "nbformat": 4,
 "nbformat_minor": 0
}

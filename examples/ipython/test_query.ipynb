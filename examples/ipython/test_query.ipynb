{
 "metadata": {
  "name": "",
  "signature": "sha256:b0f84636dc1e675839343e3761ba42ec00a36717518d208c551552466f4d7d58"
 },
 "nbformat": 3,
 "nbformat_minor": 0,
 "worksheets": [
  {
   "cells": [
    {
     "cell_type": "markdown",
     "metadata": {},
     "source": [
      "## Testing the query function"
     ]
    },
    {
     "cell_type": "code",
     "collapsed": false,
     "input": [
      "import openpathsampling as paths"
     ],
     "language": "python",
     "metadata": {},
     "outputs": [],
     "prompt_number": 1
    },
    {
     "cell_type": "code",
     "collapsed": false,
     "input": [
      "storage = paths.storage.Storage('trajectory.nc')"
     ],
     "language": "python",
     "metadata": {},
     "outputs": [],
     "prompt_number": 2
    },
    {
     "cell_type": "code",
     "collapsed": false,
     "input": [
      "a = storage.sample.load(10)\n",
      "a.ensemble.idx"
     ],
     "language": "python",
     "metadata": {},
     "outputs": [
      {
       "metadata": {},
       "output_type": "pyout",
       "prompt_number": 3,
       "text": [
        "{OpenPathSampling netCDF Storage @ 'trajectory.nc': 4}"
       ]
      }
     ],
     "prompt_number": 3
    },
    {
     "cell_type": "code",
     "collapsed": false,
     "input": [
      "query = paths.storage.Query(lambda self : self.ensemble is a.ensemble)"
     ],
     "language": "python",
     "metadata": {},
     "outputs": [],
     "prompt_number": 5
    },
    {
     "cell_type": "code",
     "collapsed": false,
     "input": [
      "for sample in query(storage.sample):\n",
      "    print sample.ensemble.idx[storage]"
     ],
     "language": "python",
     "metadata": {},
     "outputs": [
      {
       "output_type": "stream",
       "stream": "stdout",
       "text": [
        "4\n",
        "4\n",
        "4\n",
        "4\n",
        "4\n",
        "4\n",
        "4"
       ]
      },
      {
       "output_type": "stream",
       "stream": "stdout",
       "text": [
        "\n",
        "4\n",
        "4\n",
        "4\n",
        "4\n",
        "4"
       ]
      },
      {
       "output_type": "stream",
       "stream": "stdout",
       "text": [
        "\n",
        "4\n",
        "4"
       ]
      },
      {
       "output_type": "stream",
       "stream": "stdout",
       "text": [
        "\n"
       ]
      }
     ],
     "prompt_number": 6
    },
    {
     "cell_type": "code",
     "collapsed": false,
     "input": [
      "sampleset = storage.sampleset.load(1)"
     ],
     "language": "python",
     "metadata": {},
     "outputs": [],
     "prompt_number": 7
    },
    {
     "cell_type": "code",
     "collapsed": false,
     "input": [
      "sampleset.samples"
     ],
     "language": "python",
     "metadata": {},
     "outputs": [
      {
       "metadata": {},
       "output_type": "pyout",
       "prompt_number": 8,
       "text": [
        "[<openpathsampling.sample.Sample at 0x112641f10>,\n",
        " <openpathsampling.sample.Sample at 0x112378cd0>,\n",
        " <openpathsampling.sample.Sample at 0x11237da90>]"
       ]
      }
     ],
     "prompt_number": 8
    },
    {
     "cell_type": "code",
     "collapsed": false,
     "input": [
      "[s.ensemble.idx[storage] for s in sampleset.samples]"
     ],
     "language": "python",
     "metadata": {},
     "outputs": [
      {
       "metadata": {},
       "output_type": "pyout",
       "prompt_number": 9,
       "text": [
        "[0, 1, 2]"
       ]
      }
     ],
     "prompt_number": 9
    },
    {
     "cell_type": "code",
     "collapsed": false,
     "input": [
      "for samp_set in storage.sampleset.iterator():\n",
      "    print samp_set[a.ensemble] if a.ensemble in samp_set.ensemble_dict else []"
     ],
     "language": "python",
     "metadata": {},
     "outputs": [
      {
       "output_type": "stream",
       "stream": "stdout",
       "text": [
        "[]\n",
        "[]\n",
        "[]\n",
        "Step: 3\n",
        "Replica: 4\n",
        "Trajectory: Trajectory[16]\n",
        "Ensemble: <openpathsampling.ensemble.SequentialEnsemble object at 0x10ffb2090>\n",
        "Details: <openpathsampling.todict.LoadedObject object at 0x111cc8e50>\n",
        "\n",
        "Step: 4\n",
        "Replica: 4\n",
        "Trajectory: Trajectory[16]\n",
        "Ensemble: <openpathsampling.ensemble.SequentialEnsemble object at 0x10ffb2090>\n",
        "Details: <openpathsampling.todict.LoadedObject object at 0x111cda650>\n",
        "\n",
        "Step: 4\n",
        "Replica: 4\n",
        "Trajectory: Trajectory[16]\n",
        "Ensemble: <openpathsampling.ensemble.SequentialEnsemble object at 0x10ffb2090>\n",
        "Details: <openpathsampling.todict.LoadedObject object at 0x111cda650>\n",
        "\n",
        "Step: 6\n",
        "Replica: 4\n",
        "Trajectory: Trajectory[16]\n",
        "Ensemble: <openpathsampling.ensemble.SequentialEnsemble object at 0x10ffb2090>\n",
        "Details: <openpathsampling.todict.LoadedObject object at 0x1121f3d10>\n",
        "\n",
        "Step: 7\n",
        "Replica: 4\n",
        "Trajectory: Trajectory[16]\n",
        "Ensemble: <openpathsampling.ensemble.SequentialEnsemble object at 0x10ffb2090>\n",
        "Details: <openpathsampling.todict.LoadedObject object at 0x1121e7990>\n"
       ]
      },
      {
       "output_type": "stream",
       "stream": "stdout",
       "text": [
        "\n",
        "Step: 8\n",
        "Replica: 4\n",
        "Trajectory: Trajectory[16]\n",
        "Ensemble: <openpathsampling.ensemble.SequentialEnsemble object at 0x10ffb2090>\n",
        "Details: <openpathsampling.todict.LoadedObject object at 0x111ce34d0>\n",
        "\n",
        "Step: 9\n",
        "Replica: 4\n",
        "Trajectory: Trajectory[16]\n",
        "Ensemble: <openpathsampling.ensemble.SequentialEnsemble object at 0x10ffb2090>\n",
        "Details: <openpathsampling.todict.LoadedObject object at 0x1121ff150>\n",
        "\n",
        "Step: 9\n",
        "Replica: 4\n",
        "Trajectory: Trajectory[16]\n",
        "Ensemble: <openpathsampling.ensemble.SequentialEnsemble object at 0x10ffb2090>\n",
        "Details: <openpathsampling.todict.LoadedObject object at 0x1121ff150>\n",
        "\n",
        "Step: 11\n",
        "Replica: 4\n",
        "Trajectory: Trajectory[16]\n",
        "Ensemble: <openpathsampling.ensemble.SequentialEnsemble object at 0x10ffb2090>\n",
        "Details: <openpathsampling.todict.LoadedObject object at 0x111ce3d90>\n",
        "\n",
        "Step: 11\n",
        "Replica: 4\n",
        "Trajectory: Trajectory[16]\n",
        "Ensemble: <openpathsampling.ensemble.SequentialEnsemble object at 0x10ffb2090>\n",
        "Details: <openpathsampling.todict.LoadedObject object at 0x111ce3d90>\n",
        "\n",
        "Step: 13\n",
        "Replica: 4\n",
        "Trajectory: Trajectory[16]\n",
        "Ensemble: <openpathsampling.ensemble.SequentialEnsemble object at 0x10ffb2090>\n",
        "Details: <openpathsampling.todict.LoadedObject object at 0x1121ffa50>\n"
       ]
      },
      {
       "output_type": "stream",
       "stream": "stdout",
       "text": [
        "\n",
        "Step: 14\n",
        "Replica: 4\n",
        "Trajectory: Trajectory[14]\n",
        "Ensemble: <openpathsampling.ensemble.SequentialEnsemble object at 0x10ffb2090>\n",
        "Details: <openpathsampling.todict.LoadedObject object at 0x111ce3c10>\n",
        "\n",
        "Step: 15\n",
        "Replica: 4\n",
        "Trajectory: Trajectory[14]\n",
        "Ensemble: <openpathsampling.ensemble.SequentialEnsemble object at 0x10ffb2090>\n",
        "Details: <openpathsampling.todict.LoadedObject object at 0x1121fff50>\n",
        "\n",
        "Step: 16\n",
        "Replica: 4\n",
        "Trajectory: Trajectory[14]\n",
        "Ensemble: <openpathsampling.ensemble.SequentialEnsemble object at 0x10ffb2090>\n",
        "Details: <openpathsampling.todict.LoadedObject object at 0x111ce3790>\n",
        "\n",
        "Step: 17\n",
        "Replica: 4\n",
        "Trajectory: Trajectory[14]\n",
        "Ensemble: <openpathsampling.ensemble.SequentialEnsemble object at 0x10ffb2090>\n",
        "Details: <openpathsampling.todict.LoadedObject object at 0x1121ff250>\n",
        "\n",
        "Step: 17\n",
        "Replica: 4\n",
        "Trajectory: Trajectory[14]\n",
        "Ensemble: <openpathsampling.ensemble.SequentialEnsemble object at 0x10ffb2090>\n",
        "Details: <openpathsampling.todict.LoadedObject object at 0x1121ff250>\n",
        "\n",
        "Step: 17\n",
        "Replica: 4\n",
        "Trajectory: Trajectory[14]\n",
        "Ensemble: <openpathsampling.ensemble.SequentialEnsemble object at 0x10ffb2090>\n",
        "Details: <openpathsampling.todict.LoadedObject object at 0x1121ff250>\n",
        "\n",
        "Step: 17\n",
        "Replica: 4\n",
        "Trajectory: Trajectory[14]\n",
        "Ensemble: <openpathsampling.ensemble.SequentialEnsemble object at 0x10ffb2090>\n",
        "Details: <openpathsampling.todict.LoadedObject object at 0x1121ff250>\n"
       ]
      },
      {
       "output_type": "stream",
       "stream": "stdout",
       "text": [
        "\n",
        "Step: 17\n",
        "Replica: 4\n",
        "Trajectory: Trajectory[14]\n",
        "Ensemble: <openpathsampling.ensemble.SequentialEnsemble object at 0x10ffb2090>\n",
        "Details: <openpathsampling.todict.LoadedObject object at 0x1121ff250>\n",
        "\n",
        "Step: 17\n",
        "Replica: 4\n",
        "Trajectory: Trajectory[14]\n",
        "Ensemble: <openpathsampling.ensemble.SequentialEnsemble object at 0x10ffb2090>\n",
        "Details: <openpathsampling.todict.LoadedObject object at 0x1121ff250>\n",
        "\n",
        "Step: 17\n",
        "Replica: 4\n",
        "Trajectory: Trajectory[14]\n",
        "Ensemble: <openpathsampling.ensemble.SequentialEnsemble object at 0x10ffb2090>\n",
        "Details: <openpathsampling.todict.LoadedObject object at 0x1121ff250>\n",
        "\n",
        "Step: 17\n",
        "Replica: 4\n",
        "Trajectory: Trajectory[14]\n",
        "Ensemble: <openpathsampling.ensemble.SequentialEnsemble object at 0x10ffb2090>\n",
        "Details: <openpathsampling.todict.LoadedObject object at 0x1121ff250>\n",
        "\n",
        "Step: 17\n",
        "Replica: 4\n",
        "Trajectory: Trajectory[14]\n",
        "Ensemble: <openpathsampling.ensemble.SequentialEnsemble object at 0x10ffb2090>\n",
        "Details: <openpathsampling.todict.LoadedObject object at 0x1121ff250>\n",
        "\n",
        "Step: 17\n",
        "Replica: 4\n",
        "Trajectory: Trajectory[14]\n",
        "Ensemble: <openpathsampling.ensemble.SequentialEnsemble object at 0x10ffb2090>\n",
        "Details: <openpathsampling.todict.LoadedObject object at 0x1121ff250>\n",
        "\n",
        "Step: 17\n",
        "Replica: 4\n",
        "Trajectory: Trajectory[14]\n",
        "Ensemble: <openpathsampling.ensemble.SequentialEnsemble object at 0x10ffb2090>\n",
        "Details: <openpathsampling.todict.LoadedObject object at 0x1121ff250>\n",
        "\n",
        "Step: 17\n",
        "Replica: 4\n",
        "Trajectory: Trajectory[14]\n",
        "Ensemble: <openpathsampling.ensemble.SequentialEnsemble object at 0x10ffb2090>\n",
        "Details: <openpathsampling.todict.LoadedObject object at 0x1121ff250>\n",
        "\n",
        "Step: 17\n",
        "Replica: 4\n",
        "Trajectory: Trajectory[14]\n",
        "Ensemble: <openpathsampling.ensemble.SequentialEnsemble object at 0x10ffb2090>\n",
        "Details: <openpathsampling.todict.LoadedObject object at 0x1121ff250>\n",
        "\n",
        "Step: 17\n",
        "Replica: 4\n",
        "Trajectory: Trajectory[14]\n",
        "Ensemble: <openpathsampling.ensemble.SequentialEnsemble object at 0x10ffb2090>\n",
        "Details: <openpathsampling.todict.LoadedObject object at 0x1121ff250>\n",
        "\n",
        "Step: 17\n",
        "Replica: 4\n",
        "Trajectory: Trajectory[14]\n",
        "Ensemble: <openpathsampling.ensemble.SequentialEnsemble object at 0x10ffb2090>\n",
        "Details: <openpathsampling.todict.LoadedObject object at 0x1121ff250>\n",
        "\n",
        "Step: 17\n",
        "Replica: 4\n",
        "Trajectory: Trajectory[14]\n",
        "Ensemble: <openpathsampling.ensemble.SequentialEnsemble object at 0x10ffb2090>\n",
        "Details: <openpathsampling.todict.LoadedObject object at 0x1121ff250>\n",
        "\n",
        "Step: 17\n",
        "Replica: 4\n",
        "Trajectory: Trajectory[14]\n",
        "Ensemble: <openpathsampling.ensemble.SequentialEnsemble object at 0x10ffb2090>\n",
        "Details: <openpathsampling.todict.LoadedObject object at 0x1121ff250>\n",
        "\n",
        "Step: 17\n",
        "Replica: 4\n",
        "Trajectory: Trajectory[14]\n",
        "Ensemble: <openpathsampling.ensemble.SequentialEnsemble object at 0x10ffb2090>\n",
        "Details: <openpathsampling.todict.LoadedObject object at 0x1121ff250>\n",
        "\n",
        "Step: 17\n",
        "Replica: 4\n",
        "Trajectory: Trajectory[14]\n",
        "Ensemble: <openpathsampling.ensemble.SequentialEnsemble object at 0x10ffb2090>\n",
        "Details: <openpathsampling.todict.LoadedObject object at 0x1121ff250>\n",
        "\n",
        "Step: 17\n",
        "Replica: 4\n",
        "Trajectory: Trajectory[14]\n",
        "Ensemble: <openpathsampling.ensemble.SequentialEnsemble object at 0x10ffb2090>\n",
        "Details: <openpathsampling.todict.LoadedObject object at 0x1121ff250>\n",
        "\n"
       ]
      }
     ],
     "prompt_number": 10
    },
    {
     "cell_type": "code",
     "collapsed": false,
     "input": [
      "[ s.ensemble.idx[storage] for s in samp_set.samples]"
     ],
     "language": "python",
     "metadata": {},
     "outputs": []
    },
    {
     "cell_type": "code",
     "collapsed": false,
     "input": [
      "print [s.ensemble.idx[storage] for s in storage.sample if s.ensemble is a.ensemble]"
     ],
     "language": "python",
     "metadata": {},
     "outputs": [
      {
       "output_type": "stream",
       "stream": "stdout",
       "text": [
        "[4, 4, 4, 4, 4, 4, 4, 4, 4, 4, 4, 4, 4, 4]\n"
       ]
      }
     ],
     "prompt_number": 11
    },
    {
     "cell_type": "code",
     "collapsed": false,
     "input": [
      "storage.sampleset.count()"
     ],
     "language": "python",
     "metadata": {},
     "outputs": [
      {
       "metadata": {},
       "output_type": "pyout",
       "prompt_number": 23,
       "text": [
        "37"
       ]
      }
     ],
     "prompt_number": 23
    },
    {
     "cell_type": "code",
     "collapsed": false,
     "input": [
      "[[ee.idx[storage],dd.idx[storage]] for dd in storage.sampleset for ee in dd if ee.ensemble is a.ensemble]"
     ],
     "language": "python",
     "metadata": {},
     "outputs": [
      {
       "metadata": {},
       "output_type": "pyout",
       "prompt_number": 43,
       "text": [
        "[[10, 3],\n",
        " [13, 4],\n",
        " [13, 5],\n",
        " [14, 6],\n",
        " [15, 7],\n",
        " [16, 8],\n",
        " [17, 9],\n",
        " [17, 10],\n",
        " [18, 11],\n",
        " [18, 12],\n",
        " [19, 13],\n",
        " [20, 14],\n",
        " [21, 15],\n",
        " [22, 16],\n",
        " [23, 17],\n",
        " [23, 18],\n",
        " [23, 19],\n",
        " [23, 20],\n",
        " [23, 21],\n",
        " [23, 22],\n",
        " [23, 23],\n",
        " [23, 24],\n",
        " [23, 25],\n",
        " [23, 26],\n",
        " [23, 27],\n",
        " [23, 28],\n",
        " [23, 29],\n",
        " [23, 30],\n",
        " [23, 31],\n",
        " [23, 32],\n",
        " [23, 33],\n",
        " [23, 34],\n",
        " [23, 35],\n",
        " [23, 36]]"
       ]
      }
     ],
     "prompt_number": 43
    },
    {
     "cell_type": "code",
     "collapsed": false,
     "input": [
      "[sample for sampleset in storage.sampleset for sample in sampleset if sample.ensemble is a.ensemble]"
     ],
     "language": "python",
     "metadata": {},
     "outputs": [
      {
       "metadata": {},
       "output_type": "pyout",
       "prompt_number": 44,
       "text": [
        "[<openpathsampling.sample.Sample at 0x1126a6410>,\n",
        " <openpathsampling.sample.Sample at 0x11284bb90>,\n",
        " <openpathsampling.sample.Sample at 0x11284bb90>,\n",
        " <openpathsampling.sample.Sample at 0x11284b890>,\n",
        " <openpathsampling.sample.Sample at 0x112853c90>,\n",
        " <openpathsampling.sample.Sample at 0x112853110>,\n",
        " <openpathsampling.sample.Sample at 0x112853190>,\n",
        " <openpathsampling.sample.Sample at 0x112853190>,\n",
        " <openpathsampling.sample.Sample at 0x1128533d0>,\n",
        " <openpathsampling.sample.Sample at 0x1128533d0>,\n",
        " <openpathsampling.sample.Sample at 0x1128476d0>,\n",
        " <openpathsampling.sample.Sample at 0x112847810>,\n",
        " <openpathsampling.sample.Sample at 0x112847c90>,\n",
        " <openpathsampling.sample.Sample at 0x112847750>,\n",
        " <openpathsampling.sample.Sample at 0x112847e90>,\n",
        " <openpathsampling.sample.Sample at 0x112847e90>,\n",
        " <openpathsampling.sample.Sample at 0x112847e90>,\n",
        " <openpathsampling.sample.Sample at 0x112847e90>,\n",
        " <openpathsampling.sample.Sample at 0x112847e90>,\n",
        " <openpathsampling.sample.Sample at 0x112847e90>,\n",
        " <openpathsampling.sample.Sample at 0x112847e90>,\n",
        " <openpathsampling.sample.Sample at 0x112847e90>,\n",
        " <openpathsampling.sample.Sample at 0x112847e90>,\n",
        " <openpathsampling.sample.Sample at 0x112847e90>,\n",
        " <openpathsampling.sample.Sample at 0x112847e90>,\n",
        " <openpathsampling.sample.Sample at 0x112847e90>,\n",
        " <openpathsampling.sample.Sample at 0x112847e90>,\n",
        " <openpathsampling.sample.Sample at 0x112847e90>,\n",
        " <openpathsampling.sample.Sample at 0x112847e90>,\n",
        " <openpathsampling.sample.Sample at 0x112847e90>,\n",
        " <openpathsampling.sample.Sample at 0x112847e90>,\n",
        " <openpathsampling.sample.Sample at 0x112847e90>,\n",
        " <openpathsampling.sample.Sample at 0x112847e90>,\n",
        " <openpathsampling.sample.Sample at 0x112847e90>]"
       ]
      }
     ],
     "prompt_number": 44
    },
    {
     "cell_type": "code",
     "collapsed": false,
     "input": [
      "sample_iterator = (sample for sampleset in storage.sampleset for sample in sampleset if sample.ensemble is a.ensemble)"
     ],
     "language": "python",
     "metadata": {},
     "outputs": [],
     "prompt_number": 45
    },
    {
     "cell_type": "code",
     "collapsed": false,
     "input": [
      "[sample for sample in sample_iterator]"
     ],
     "language": "python",
     "metadata": {},
     "outputs": [
      {
       "metadata": {},
       "output_type": "pyout",
       "prompt_number": 47,
       "text": [
        "[<openpathsampling.sample.Sample at 0x1126a6410>,\n",
        " <openpathsampling.sample.Sample at 0x11284bb90>,\n",
        " <openpathsampling.sample.Sample at 0x11284bb90>,\n",
        " <openpathsampling.sample.Sample at 0x11284b890>,\n",
        " <openpathsampling.sample.Sample at 0x112853c90>,\n",
        " <openpathsampling.sample.Sample at 0x112853110>,\n",
        " <openpathsampling.sample.Sample at 0x112853190>,\n",
        " <openpathsampling.sample.Sample at 0x112853190>,\n",
        " <openpathsampling.sample.Sample at 0x1128533d0>,\n",
        " <openpathsampling.sample.Sample at 0x1128533d0>,\n",
        " <openpathsampling.sample.Sample at 0x1128476d0>,\n",
        " <openpathsampling.sample.Sample at 0x112847810>,\n",
        " <openpathsampling.sample.Sample at 0x112847c90>,\n",
        " <openpathsampling.sample.Sample at 0x112847750>,\n",
        " <openpathsampling.sample.Sample at 0x112847e90>,\n",
        " <openpathsampling.sample.Sample at 0x112847e90>,\n",
        " <openpathsampling.sample.Sample at 0x112847e90>,\n",
        " <openpathsampling.sample.Sample at 0x112847e90>,\n",
        " <openpathsampling.sample.Sample at 0x112847e90>,\n",
        " <openpathsampling.sample.Sample at 0x112847e90>,\n",
        " <openpathsampling.sample.Sample at 0x112847e90>,\n",
        " <openpathsampling.sample.Sample at 0x112847e90>,\n",
        " <openpathsampling.sample.Sample at 0x112847e90>,\n",
        " <openpathsampling.sample.Sample at 0x112847e90>,\n",
        " <openpathsampling.sample.Sample at 0x112847e90>,\n",
        " <openpathsampling.sample.Sample at 0x112847e90>,\n",
        " <openpathsampling.sample.Sample at 0x112847e90>,\n",
        " <openpathsampling.sample.Sample at 0x112847e90>,\n",
        " <openpathsampling.sample.Sample at 0x112847e90>,\n",
        " <openpathsampling.sample.Sample at 0x112847e90>,\n",
        " <openpathsampling.sample.Sample at 0x112847e90>,\n",
        " <openpathsampling.sample.Sample at 0x112847e90>,\n",
        " <openpathsampling.sample.Sample at 0x112847e90>,\n",
        " <openpathsampling.sample.Sample at 0x112847e90>]"
       ]
      }
     ],
     "prompt_number": 47
    },
    {
     "cell_type": "code",
     "collapsed": false,
     "input": [
      "print [sample.details.mover_path for sample in storage.sample]\n",
      "print str(storage.sample[3].details.mover_path[0].__dict__)"
     ],
     "language": "python",
     "metadata": {},
     "outputs": [
      {
       "output_type": "stream",
       "stream": "stdout",
       "text": [
        "[[], [], [], [<openpathsampling.todict.LoadedObject object at 0x111cdadd0>], [], [], [<openpathsampling.todict.LoadedObject object at 0x111cda610>], [], [], [<openpathsampling.todict.LoadedObject object at 0x112641190>], [], [], [<openpathsampling.todict.LoadedObject object at 0x112641290>], [<openpathsampling.todict.LoadedObject object at 0x1121e7bd0>], [<openpathsampling.todict.LoadedObject object at 0x1121e7bd0>], [<openpathsampling.todict.LoadedObject object at 0x111cd10d0>], [<openpathsampling.todict.LoadedObject object at 0x111cd10d0>], [<openpathsampling.todict.LoadedObject object at 0x1121e7bd0>], [<openpathsampling.todict.LoadedObject object at 0x1121e7bd0>], [<openpathsampling.todict.LoadedObject object at 0x111cd10d0>], [<openpathsampling.todict.LoadedObject object at 0x1121e7bd0>], [<openpathsampling.todict.LoadedObject object at 0x1121e7bd0>], [<openpathsampling.todict.LoadedObject object at 0x111cd10d0>], [<openpathsampling.todict.LoadedObject object at 0x1121e7bd0>], [], [], [<openpathsampling.todict.LoadedObject object at 0x111cd10d0>], [<openpathsampling.todict.LoadedObject object at 0x1103232d0>], [<openpathsampling.todict.LoadedObject object at 0x110320310>], [<openpathsampling.todict.LoadedObject object at 0x110320310>], [<openpathsampling.todict.LoadedObject object at 0x110320310>], [<openpathsampling.todict.LoadedObject object at 0x1103232d0>], [<openpathsampling.todict.LoadedObject object at 0x110320310>], [<openpathsampling.todict.LoadedObject object at 0x110320310>], [<openpathsampling.todict.LoadedObject object at 0x1103232d0>], [<openpathsampling.todict.LoadedObject object at 0x1103232d0>], [<openpathsampling.todict.LoadedObject object at 0x110320310>], [<openpathsampling.todict.LoadedObject object at 0x1103232d0>], [], [], [<openpathsampling.todict.LoadedObject object at 0x1103232d0>]]\n",
        "{'ensembles': [<openpathsampling.ensemble.SequentialEnsemble object at 0x112641450>], 'idx': {OpenPathSampling netCDF Storage @ 'trajectory.nc': 1}, 'replicas': 'all', 'name': u'ForwardShootMover', 'selector': <openpathsampling.shooting.UniformSelector object at 0x111cda410>, 'json': u'{\"_cls\": \"ForwardShootMover\", \"_dict\": {\"replicas\": \"all\", \"ensembles\": [{\"_idx\": 0, \"_cls\": \"SequentialEnsemble\"}], \"selector\": {\"_idx\": 0, \"_cls\": \"UniformSelector\"}}}', 'cls': 'ForwardShootMover'}\n"
       ]
      }
     ],
     "prompt_number": 75
    },
    {
     "cell_type": "code",
     "collapsed": false,
     "input": [
      "print str(storage.sample[1])"
     ],
     "language": "python",
     "metadata": {},
     "outputs": [
      {
       "output_type": "stream",
       "stream": "stdout",
       "text": [
        "Step: 0\n",
        "Replica: 1\n",
        "Trajectory: Trajectory[13]\n",
        "Ensemble: <openpathsampling.ensemble.SequentialEnsemble object at 0x112641f90>\n",
        "Details: <openpathsampling.todict.LoadedObject object at 0x10feeedd0>\n",
        "\n"
       ]
      }
     ],
     "prompt_number": 66
    },
    {
     "cell_type": "code",
     "collapsed": false,
     "input": [
      "print storage.movepaths[20]"
     ],
     "language": "python",
     "metadata": {},
     "outputs": [
      {
       "output_type": "stream",
       "stream": "stdout",
       "text": [
        "\n"
       ]
      }
     ],
     "prompt_number": 74
    },
    {
     "cell_type": "code",
     "collapsed": false,
     "input": [
      "[sample.details.mover.name for sample in storage.sample if hasattr(sample.details, 'mover') and sample.details.mover is storage.pathmover[1]]"
     ],
     "language": "python",
     "metadata": {},
     "outputs": [
      {
       "metadata": {},
       "output_type": "pyout",
       "prompt_number": 84,
       "text": [
        "[u'ForwardShootMover']"
       ]
      }
     ],
     "prompt_number": 84
    },
    {
     "cell_type": "code",
     "collapsed": false,
     "input": [],
     "language": "python",
     "metadata": {},
     "outputs": []
    }
   ],
   "metadata": {}
  }
 ]
}
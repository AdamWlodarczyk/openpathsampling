{
 "metadata": {
  "name": "",
  "signature": "sha256:dd63fd182213215edffe2f280afb8926ad14a457e04f0ec70ef1479e8cc1b3c9"
 },
 "nbformat": 3,
 "nbformat_minor": 0,
 "worksheets": [
  {
   "cells": [
    {
     "cell_type": "markdown",
     "metadata": {},
     "source": [
      "## Testing the query function"
     ]
    },
    {
     "cell_type": "code",
     "collapsed": false,
     "input": [
      "import openpathsampling as paths"
     ],
     "language": "python",
     "metadata": {},
     "outputs": [],
     "prompt_number": 1
    },
    {
     "cell_type": "code",
     "collapsed": false,
     "input": [
      "storage = paths.storage.Storage('trajectory.nc')"
     ],
     "language": "python",
     "metadata": {},
     "outputs": [],
     "prompt_number": 2
    },
    {
     "cell_type": "code",
     "collapsed": false,
     "input": [
      "a = storage.sample.load(10)\n",
      "a.ensemble.idx"
     ],
     "language": "python",
     "metadata": {},
     "outputs": [
      {
       "metadata": {},
       "output_type": "pyout",
       "prompt_number": 3,
       "text": [
        "{OpenPathSampling netCDF Storage @ 'trajectory.nc': 0}"
       ]
      }
     ],
     "prompt_number": 3
    },
    {
     "cell_type": "code",
     "collapsed": false,
     "input": [
      "query = paths.storage.Query(lambda self : self.ensemble is a.ensemble)"
     ],
     "language": "python",
     "metadata": {},
     "outputs": [],
     "prompt_number": 4
    },
    {
     "cell_type": "code",
     "collapsed": false,
     "input": [
      "print [sample.ensemble.idx[storage] for sample in query(storage.sample)]"
     ],
     "language": "python",
     "metadata": {},
     "outputs": [
      {
       "output_type": "stream",
       "stream": "stdout",
       "text": [
        "[0, 0, 0, 0, 0, 0, 0, 0, 0, 0, 0, 0, 0, 0, 0, 0, 0, 0]\n"
       ]
      }
     ],
     "prompt_number": 38
    },
    {
     "cell_type": "code",
     "collapsed": false,
     "input": [
      "sampleset = storage.sampleset.load(1)"
     ],
     "language": "python",
     "metadata": {},
     "outputs": [],
     "prompt_number": 6
    },
    {
     "cell_type": "code",
     "collapsed": false,
     "input": [
      "[ s.ensemble.idx[storage] for s in samp_set.samples]"
     ],
     "language": "python",
     "metadata": {},
     "outputs": [
      {
       "metadata": {},
       "output_type": "pyout",
       "prompt_number": 10,
       "text": [
        "[0, 1, 2, 3, 4, 5, 6]"
       ]
      }
     ],
     "prompt_number": 10
    },
    {
     "cell_type": "code",
     "collapsed": false,
     "input": [
      "print [s.ensemble.idx[storage] for s in storage.sample if s.ensemble is a.ensemble]"
     ],
     "language": "python",
     "metadata": {},
     "outputs": [
      {
       "output_type": "stream",
       "stream": "stdout",
       "text": [
        "[0, 0, 0, 0, 0, 0, 0, 0, 0, 0, 0, 0, 0, 0, 0, 0, 0, 0]\n"
       ]
      }
     ],
     "prompt_number": 11
    },
    {
     "cell_type": "code",
     "collapsed": false,
     "input": [
      "print [[ee.idx[storage],dd.idx[storage]] for dd in storage.sampleset for ee in dd if ee.ensemble is a.ensemble]"
     ],
     "language": "python",
     "metadata": {},
     "outputs": [
      {
       "output_type": "stream",
       "stream": "stdout",
       "text": [
        "[[1, 0], [3, 1], [5, 2], [7, 3], [9, 4], [11, 5], [13, 6], [15, 7], [15, 8], [15, 9], [15, 10], [15, 11], [15, 12], [15, 13], [15, 14], [15, 15], [15, 16], [15, 17], [15, 18], [15, 19], [15, 20], [15, 21], [15, 22], [15, 23], [15, 24], [15, 25], [15, 26], [15, 27], [15, 28], [15, 29], [15, 30], [15, 31], [15, 32], [15, 33]]\n"
       ]
      }
     ],
     "prompt_number": 37
    },
    {
     "cell_type": "code",
     "collapsed": false,
     "input": [
      "print [sample for sampleset in storage.sampleset for sample in sampleset if sample.ensemble is a.ensemble]"
     ],
     "language": "python",
     "metadata": {},
     "outputs": [
      {
       "output_type": "stream",
       "stream": "stdout",
       "text": [
        "[<Sample @ 0x10fe956d0>, <Sample @ 0x10fe90410>, <Sample @ 0x10fe90e50>, <Sample @ 0x10fe90350>, <Sample @ 0x10fe90a50>, <Sample @ 0x10fe95350>, <Sample @ 0x10fe90f90>, <Sample @ 0x10fe90f10>, <Sample @ 0x10fe90f10>, <Sample @ 0x10fe90f10>, <Sample @ 0x10fe90f10>, <Sample @ 0x10fe90f10>, <Sample @ 0x10fe90f10>, <Sample @ 0x10fe90f10>, <Sample @ 0x10fe90f10>, <Sample @ 0x10fe90f10>, <Sample @ 0x10fe90f10>, <Sample @ 0x10fe90f10>, <Sample @ 0x10fe90f10>, <Sample @ 0x10fe90f10>, <Sample @ 0x10fe90f10>, <Sample @ 0x10fe90f10>, <Sample @ 0x10fe90f10>, <Sample @ 0x10fe90f10>, <Sample @ 0x10fe90f10>, <Sample @ 0x10fe90f10>, <Sample @ 0x10fe90f10>, <Sample @ 0x10fe90f10>, <Sample @ 0x10fe90f10>, <Sample @ 0x10fe90f10>, <Sample @ 0x10fe90f10>, <Sample @ 0x10fe90f10>, <Sample @ 0x10fe90f10>, <Sample @ 0x10fe90f10>]\n"
       ]
      }
     ],
     "prompt_number": 36
    },
    {
     "cell_type": "code",
     "collapsed": false,
     "input": [
      "sample_iterator = (sample for sampleset in storage.sampleset for sample in sampleset if sample.ensemble is a.ensemble)\n",
      "print [sample for sample in sample_iterator]"
     ],
     "language": "python",
     "metadata": {},
     "outputs": [
      {
       "output_type": "stream",
       "stream": "stdout",
       "text": [
        "[<Sample @ 0x10fe956d0>, <Sample @ 0x10fe90410>, <Sample @ 0x10fe90e50>, <Sample @ 0x10fe90350>, <Sample @ 0x10fe90a50>, <Sample @ 0x10fe95350>, <Sample @ 0x10fe90f90>, <Sample @ 0x10fe90f10>, <Sample @ 0x10fe90f10>, <Sample @ 0x10fe90f10>, <Sample @ 0x10fe90f10>, <Sample @ 0x10fe90f10>, <Sample @ 0x10fe90f10>, <Sample @ 0x10fe90f10>, <Sample @ 0x10fe90f10>, <Sample @ 0x10fe90f10>, <Sample @ 0x10fe90f10>, <Sample @ 0x10fe90f10>, <Sample @ 0x10fe90f10>, <Sample @ 0x10fe90f10>, <Sample @ 0x10fe90f10>, <Sample @ 0x10fe90f10>, <Sample @ 0x10fe90f10>, <Sample @ 0x10fe90f10>, <Sample @ 0x10fe90f10>, <Sample @ 0x10fe90f10>, <Sample @ 0x10fe90f10>, <Sample @ 0x10fe90f10>, <Sample @ 0x10fe90f10>, <Sample @ 0x10fe90f10>, <Sample @ 0x10fe90f10>, <Sample @ 0x10fe90f10>, <Sample @ 0x10fe90f10>, <Sample @ 0x10fe90f10>]\n"
       ]
      }
     ],
     "prompt_number": 35
    },
    {
     "cell_type": "code",
     "collapsed": false,
     "input": [
      "print str(storage.sample[1])"
     ],
     "language": "python",
     "metadata": {},
     "outputs": [
      {
       "output_type": "stream",
       "stream": "stdout",
       "text": [
        "Step: 0\n",
        "Replica: 0\n",
        "Trajectory: Trajectory[7]\n",
        "Ensemble: <openpathsampling.ensemble.SequentialEnsemble object at 0x10fdf5d50>\n",
        "Details: <MoveDetails at 0x11264b9d0>\n",
        "\n"
       ]
      }
     ],
     "prompt_number": 17
    },
    {
     "cell_type": "code",
     "collapsed": false,
     "input": [
      "print storage.movepaths[2]"
     ],
     "language": "python",
     "metadata": {},
     "outputs": [
      {
       "output_type": "stream",
       "stream": "stdout",
       "text": [
        "Restrict to last sample : True : 1 samples\n",
        " +- PartialAcceptanceMove : True : 1 samples\n",
        " |   +- RandomChoice :\n",
        " |   |   +- SampleMove : BackwardShootMover : True : 1 samples [<Sample @ 0x10fe90e50>]\n",
        " |   +- SampleMove : EnsembleHopMover : False :[]\n"
       ]
      }
     ],
     "prompt_number": 18
    },
    {
     "cell_type": "code",
     "collapsed": false,
     "input": [
      "[sample.details.mover.name for sample in storage.sample if hasattr(sample.details, 'mover') and sample.details.mover is storage.pathmover[1]]"
     ],
     "language": "python",
     "metadata": {},
     "outputs": [
      {
       "metadata": {},
       "output_type": "pyout",
       "prompt_number": 19,
       "text": [
        "[u'ForwardShootMover',\n",
        " u'ForwardShootMover',\n",
        " u'ForwardShootMover',\n",
        " u'ForwardShootMover']"
       ]
      }
     ],
     "prompt_number": 19
    },
    {
     "cell_type": "code",
     "collapsed": false,
     "input": [
      "print [sample.details.mover.idx[storage] for sample in storage.sample]"
     ],
     "language": "python",
     "metadata": {},
     "outputs": [
      {
       "output_type": "stream",
       "stream": "stdout",
       "text": [
        "[0, 1, 2, 1, 2, 3, 2, 3, 2, 1, 2, 3, 2, 3, 2, 3, 2, 4, 2, 1, 5, 6, 7, 6, 5, 6, 7, 6, 5, 6, 7, 6, 5, 6, 8, 6, 5, 9, 10, 11, 10, 11, 10, 9, 10, 11, 10, 9, 10, 11, 10, 12, 10, 11, 13, 14, 13, 14, 13, 14, 15, 14, 13, 14, 15, 14, 16, 14, 15, 19, 18, 17, 22, 21, 20]\n"
       ]
      }
     ],
     "prompt_number": 22
    },
    {
     "cell_type": "code",
     "collapsed": false,
     "input": [
      "print [sample.details.accepted for sample in storage.sample if sample.details.mover is a.details.mover ]"
     ],
     "language": "python",
     "metadata": {},
     "outputs": [
      {
       "output_type": "stream",
       "stream": "stdout",
       "text": [
        "[False, False, False, False, False, False, False, False, True]\n"
       ]
      }
     ],
     "prompt_number": 32
    },
    {
     "cell_type": "code",
     "collapsed": false,
     "input": [
      "a.details.mover.cls"
     ],
     "language": "python",
     "metadata": {},
     "outputs": [
      {
       "metadata": {},
       "output_type": "pyout",
       "prompt_number": 33,
       "text": [
        "'EnsembleHopMover'"
       ]
      }
     ],
     "prompt_number": 33
    },
    {
     "cell_type": "code",
     "collapsed": false,
     "input": [
      "print [sample.details.accepted for sample in storage.sample if sample.details.mover.cls == 'EnsembleHopMover' ]"
     ],
     "language": "python",
     "metadata": {},
     "outputs": [
      {
       "output_type": "stream",
       "stream": "stdout",
       "text": [
        "[False, False, False, False, False, False, False, False, True, False, False, False, False, False, False, False, True, False, False, False, False, False, False, False, True, False, False, False, False, False, False, True, True, True]\n"
       ]
      }
     ],
     "prompt_number": 34
    },
    {
     "cell_type": "code",
     "collapsed": false,
     "input": [],
     "language": "python",
     "metadata": {},
     "outputs": []
    }
   ],
   "metadata": {}
  }
 ]
}
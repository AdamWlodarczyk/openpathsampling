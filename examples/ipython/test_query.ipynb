{
 "metadata": {
  "name": "",
  "signature": "sha256:1645ffe912158ad8afe76f2c9078484261f309c39f5867d141be51530e63299b"
 },
 "nbformat": 3,
 "nbformat_minor": 0,
 "worksheets": [
  {
   "cells": [
    {
     "cell_type": "markdown",
     "metadata": {},
     "source": [
      "## Testing the query function"
     ]
    },
    {
     "cell_type": "code",
     "collapsed": false,
     "input": [
      "import openpathsampling as paths"
     ],
     "language": "python",
     "metadata": {},
     "outputs": [],
     "prompt_number": 1
    },
    {
     "cell_type": "code",
     "collapsed": false,
     "input": [
      "storage = paths.storage.Storage('trajectory.nc')"
     ],
     "language": "python",
     "metadata": {},
     "outputs": [],
     "prompt_number": 2
    },
    {
     "cell_type": "code",
     "collapsed": false,
     "input": [
      "a = storage.sample.load(10)\n",
      "a.ensemble.idx"
     ],
     "language": "python",
     "metadata": {},
     "outputs": [
      {
       "metadata": {},
       "output_type": "pyout",
       "prompt_number": 3,
       "text": [
        "{OpenPathSampling netCDF Storage @ 'trajectory.nc': 0}"
       ]
      }
     ],
     "prompt_number": 3
    },
    {
     "cell_type": "code",
     "collapsed": false,
     "input": [
      "query = paths.storage.Query(lambda self : self.ensemble is a.ensemble)"
     ],
     "language": "python",
     "metadata": {},
     "outputs": [],
     "prompt_number": 4
    },
    {
     "cell_type": "code",
     "collapsed": false,
     "input": [
      "print [sample.ensemble.idx[storage] for sample in query(storage.sample)]"
     ],
     "language": "python",
     "metadata": {},
     "outputs": [
      {
       "output_type": "stream",
       "stream": "stdout",
       "text": [
        "[0, 0, 0, 0, 0, 0, 0, 0, 0, 0, 0, 0, 0, 0, 0, 0, 0, 0]\n"
       ]
      }
     ],
     "prompt_number": 5
    },
    {
     "cell_type": "code",
     "collapsed": false,
     "input": [
      "sampleset = storage.sampleset.load(1)"
     ],
     "language": "python",
     "metadata": {},
     "outputs": [],
     "prompt_number": 6
    },
    {
     "cell_type": "code",
     "collapsed": false,
     "input": [
      "print [s.ensemble.idx[storage] for s in storage.sample if s.ensemble is a.ensemble]"
     ],
     "language": "python",
     "metadata": {},
     "outputs": [
      {
       "output_type": "stream",
       "stream": "stdout",
       "text": [
        "[0, 0, 0, 0, 0, 0, 0, 0, 0, 0, 0, 0, 0, 0, 0, 0, 0, 0]\n"
       ]
      }
     ],
     "prompt_number": 8
    },
    {
     "cell_type": "code",
     "collapsed": false,
     "input": [
      "print [[ee.idx[storage],dd.idx[storage]] for dd in storage.sampleset for ee in dd if ee.ensemble is a.ensemble]"
     ],
     "language": "python",
     "metadata": {},
     "outputs": [
      {
       "output_type": "stream",
       "stream": "stdout",
       "text": [
        "[[1, 0], [3, 1], [5, 2], [7, 3], [9, 4], [11, 5], [13, 6], [15, 7], [15, 8], [15, 9], [15, 10], [15, 11], [15, 12], [15, 13], [15, 14], [15, 15], [15, 16], [15, 17], [15, 18], [15, 19], [15, 20], [15, 21], [15, 22], [15, 23], [15, 24], [15, 25], [15, 26], [15, 27], [15, 28], [15, 29], [15, 30], [15, 31], [15, 32], [15, 33]]\n"
       ]
      }
     ],
     "prompt_number": 9
    },
    {
     "cell_type": "code",
     "collapsed": false,
     "input": [
      "print [sample for sampleset in storage.sampleset for sample in sampleset if sample.ensemble is a.ensemble]"
     ],
     "language": "python",
     "metadata": {},
     "outputs": [
      {
       "output_type": "stream",
       "stream": "stdout",
       "text": [
        "[<Sample @ 0x10fd558d0>, <Sample @ 0x10fd50dd0>, <Sample @ 0x10fd50a50>, <Sample @ 0x10fd50cd0>, <Sample @ 0x10fd50e10>, <Sample @ 0x10fd509d0>, <Sample @ 0x10fd50c90>, <Sample @ 0x10fd50810>, <Sample @ 0x10fd50810>, <Sample @ 0x10fd50810>, <Sample @ 0x10fd50810>, <Sample @ 0x10fd50810>, <Sample @ 0x10fd50810>, <Sample @ 0x10fd50810>, <Sample @ 0x10fd50810>, <Sample @ 0x10fd50810>, <Sample @ 0x10fd50810>, <Sample @ 0x10fd50810>, <Sample @ 0x10fd50810>, <Sample @ 0x10fd50810>, <Sample @ 0x10fd50810>, <Sample @ 0x10fd50810>, <Sample @ 0x10fd50810>, <Sample @ 0x10fd50810>, <Sample @ 0x10fd50810>, <Sample @ 0x10fd50810>, <Sample @ 0x10fd50810>, <Sample @ 0x10fd50810>, <Sample @ 0x10fd50810>, <Sample @ 0x10fd50810>, <Sample @ 0x10fd50810>, <Sample @ 0x10fd50810>, <Sample @ 0x10fd50810>, <Sample @ 0x10fd50810>]\n"
       ]
      }
     ],
     "prompt_number": 10
    },
    {
     "cell_type": "code",
     "collapsed": false,
     "input": [
      "sample_iterator = (sample for sampleset in storage.sampleset for sample in sampleset if sample.ensemble is a.ensemble)\n",
      "print [sample for sample in sample_iterator]"
     ],
     "language": "python",
     "metadata": {},
     "outputs": [
      {
       "output_type": "stream",
       "stream": "stdout",
       "text": [
        "[<Sample @ 0x10fd558d0>, <Sample @ 0x10fd50dd0>, <Sample @ 0x10fd50a50>, <Sample @ 0x10fd50cd0>, <Sample @ 0x10fd50e10>, <Sample @ 0x10fd509d0>, <Sample @ 0x10fd50c90>, <Sample @ 0x10fd50810>, <Sample @ 0x10fd50810>, <Sample @ 0x10fd50810>, <Sample @ 0x10fd50810>, <Sample @ 0x10fd50810>, <Sample @ 0x10fd50810>, <Sample @ 0x10fd50810>, <Sample @ 0x10fd50810>, <Sample @ 0x10fd50810>, <Sample @ 0x10fd50810>, <Sample @ 0x10fd50810>, <Sample @ 0x10fd50810>, <Sample @ 0x10fd50810>, <Sample @ 0x10fd50810>, <Sample @ 0x10fd50810>, <Sample @ 0x10fd50810>, <Sample @ 0x10fd50810>, <Sample @ 0x10fd50810>, <Sample @ 0x10fd50810>, <Sample @ 0x10fd50810>, <Sample @ 0x10fd50810>, <Sample @ 0x10fd50810>, <Sample @ 0x10fd50810>, <Sample @ 0x10fd50810>, <Sample @ 0x10fd50810>, <Sample @ 0x10fd50810>, <Sample @ 0x10fd50810>]\n"
       ]
      }
     ],
     "prompt_number": 11
    },
    {
     "cell_type": "code",
     "collapsed": false,
     "input": [
      "print str(storage.sample[1])"
     ],
     "language": "python",
     "metadata": {},
     "outputs": [
      {
       "output_type": "stream",
       "stream": "stdout",
       "text": [
        "Step: 0\n",
        "Replica: 0\n",
        "Trajectory: Trajectory[7]\n",
        "Ensemble: <openpathsampling.ensemble.SequentialEnsemble object at 0x10fcb4b50>\n",
        "Details: inputs = [<Sample @ 0x10fd55ed0>]\n",
        "_cls = MoveDetails\n",
        "trial = Trajectory[7]\n",
        "final_point = <openpathsampling.shooting.ShootingPoint object at 0x112771e10>\n",
        "start = Trajectory[7]\n",
        "json = {\"_cls\": \"MoveDetails\", \"_dict\": {\"inputs\": [{\"_idx\": 0, \"_cls\": \"Sample\"}], \"start\": {\"_idx\": 1, \"_cls\": \"Trajectory\"}, \"final_point\": {\"_idx\": 0, \"_cls\": \"ShootingPoint\"}, \"trial\": {\"_idx\": 2, \"_cls\": \"Trajectory\"}, \"result\": {\"_idx\": 2, \"_cls\": \"Trajectory\"}, \"trial_is_in_ensemble\": true, \"mover\": {\"_idx\": 1, \"_cls\": \"ForwardShootMover\"}, \"accepted\": true, \"start_point\": {\"_idx\": 1, \"_cls\": \"ShootingPoint\"}, \"acceptance_probability\": null}}\n",
        "_idx = {OpenPathSampling netCDF Storage @ 'trajectory.nc': 1}\n",
        "result = Trajectory[7]\n",
        "trial_is_in_ensemble = True\n",
        "mover = <openpathsampling.pathmover.ForwardShootMover object at 0x10fc93fd0>\n",
        "accepted = True\n",
        "start_point = <openpathsampling.shooting.ShootingPoint object at 0x11276f0d0>\n",
        "acceptance_probability = None\n",
        "\n",
        "\n"
       ]
      }
     ],
     "prompt_number": 12
    },
    {
     "cell_type": "code",
     "collapsed": false,
     "input": [
      "print storage.movepaths[2]"
     ],
     "language": "python",
     "metadata": {},
     "outputs": [
      {
       "output_type": "stream",
       "stream": "stdout",
       "text": [
        "Restrict to last sample : True : 1 samples\n",
        " +- PartialAcceptanceMove : True : 1 samples\n",
        " |   +- RandomChoice :\n",
        " |   |   +- SampleMove : BackwardShootMover : True : 1 samples [<Sample @ 0x10fd50a50>]\n",
        " |   +- SampleMove : EnsembleHopMover : False :[]\n"
       ]
      }
     ],
     "prompt_number": 13
    },
    {
     "cell_type": "code",
     "collapsed": false,
     "input": [
      "[sample.details.mover.name for sample in storage.sample if hasattr(sample.details, 'mover') and sample.details.mover is storage.pathmover[1]]"
     ],
     "language": "python",
     "metadata": {},
     "outputs": [
      {
       "metadata": {},
       "output_type": "pyout",
       "prompt_number": 14,
       "text": [
        "[u'ForwardShootMover',\n",
        " u'ForwardShootMover',\n",
        " u'ForwardShootMover',\n",
        " u'ForwardShootMover']"
       ]
      }
     ],
     "prompt_number": 14
    },
    {
     "cell_type": "code",
     "collapsed": false,
     "input": [
      "print [sample.details.mover.idx[storage] for sample in storage.sample]"
     ],
     "language": "python",
     "metadata": {},
     "outputs": [
      {
       "output_type": "stream",
       "stream": "stdout",
       "text": [
        "[0, 1, 2, 1, 2, 3, 2, 3, 2, 1, 2, 3, 2, 3, 2, 3, 2, 4, 2, 1, 5, 6, 7, 6, 5, 6, 7, 6, 5, 6, 7, 6, 5, 6, 8, 6, 5, 9, 10, 11, 10, 11, 10, 9, 10, 11, 10, 9, 10, 11, 10, 12, 10, 11, 13, 14, 13, 14, 13, 14, 15, 14, 13, 14, 15, 14, 16, 14, 15, 19, 18, 17, 22, 21, 20]\n"
       ]
      }
     ],
     "prompt_number": 15
    },
    {
     "cell_type": "code",
     "collapsed": false,
     "input": [
      "print [sample.details.accepted for sample in storage.sample if sample.details.mover is a.details.mover ]"
     ],
     "language": "python",
     "metadata": {},
     "outputs": [
      {
       "output_type": "stream",
       "stream": "stdout",
       "text": [
        "[False, False, False, False, False, False, False, False, True]\n"
       ]
      }
     ],
     "prompt_number": 16
    },
    {
     "cell_type": "code",
     "collapsed": false,
     "input": [
      "a.details.mover.__class__"
     ],
     "language": "python",
     "metadata": {},
     "outputs": [
      {
       "metadata": {},
       "output_type": "pyout",
       "prompt_number": 19,
       "text": [
        "openpathsampling.pathmover.EnsembleHopMover"
       ]
      }
     ],
     "prompt_number": 19
    },
    {
     "cell_type": "code",
     "collapsed": false,
     "input": [
      "print [sample.details.accepted for sample in storage.sample if typesample.details.mover == 'EnsembleHopMover' ]"
     ],
     "language": "python",
     "metadata": {},
     "outputs": [
      {
       "output_type": "stream",
       "stream": "stdout",
       "text": [
        "[False, False, False, False, False, False, False, False, True, False, False, False, False, False, False, False, True, False, False, False, False, False, False, False, True, False, False, False, False, False, False, True, True, True]\n"
       ]
      }
     ],
     "prompt_number": 18
    },
    {
     "cell_type": "code",
     "collapsed": false,
     "input": [],
     "language": "python",
     "metadata": {},
     "outputs": []
    }
   ],
   "metadata": {}
  }
 ]
}
{
 "metadata": {
  "name": "",
  "signature": "sha256:5b2c10611df1f26d206f44fd9037c146c0a0322d57a43ac47179e2eb71193038"
 },
 "nbformat": 3,
 "nbformat_minor": 0,
 "worksheets": [
  {
   "cells": [
    {
     "cell_type": "markdown",
     "metadata": {},
     "source": [
      "## Testing the query function"
     ]
    },
    {
     "cell_type": "code",
     "collapsed": false,
     "input": [
      "import openpathsampling as paths"
     ],
     "language": "python",
     "metadata": {},
     "outputs": [],
     "prompt_number": 1
    },
    {
     "cell_type": "code",
     "collapsed": false,
     "input": [
      "storage = paths.storage.Storage('trajectory.nc')"
     ],
     "language": "python",
     "metadata": {},
     "outputs": [],
     "prompt_number": 2
    },
    {
     "cell_type": "code",
     "collapsed": false,
     "input": [
      "a = storage.sample.load(10)\n",
      "a.ensemble.idx"
     ],
     "language": "python",
     "metadata": {},
     "outputs": [
      {
       "metadata": {},
       "output_type": "pyout",
       "prompt_number": 15,
       "text": [
        "{OpenPathSampling netCDF Storage @ 'trajectory.nc': 4}"
       ]
      }
     ],
     "prompt_number": 15
    },
    {
     "cell_type": "code",
     "collapsed": false,
     "input": [
      "query = paths.storage.StorageQuery(lambda self : self.ensemble is a.ensemble)"
     ],
     "language": "python",
     "metadata": {},
     "outputs": [],
     "prompt_number": 16
    },
    {
     "cell_type": "code",
     "collapsed": false,
     "input": [
      "for sample in query(storage.sample):\n",
      "    print sample.ensemble.idx[storage]"
     ],
     "language": "python",
     "metadata": {},
     "outputs": [
      {
       "output_type": "stream",
       "stream": "stdout",
       "text": [
        "4\n",
        "4\n",
        "4\n",
        "4\n",
        "4\n",
        "4\n",
        "4\n",
        "4\n",
        "4\n",
        "4\n",
        "4\n",
        "4\n",
        "4\n",
        "4\n"
       ]
      }
     ],
     "prompt_number": 19
    },
    {
     "cell_type": "code",
     "collapsed": false,
     "input": [
      "sampleset = storage.sampleset.load(1)"
     ],
     "language": "python",
     "metadata": {},
     "outputs": [],
     "prompt_number": 21
    },
    {
     "cell_type": "code",
     "collapsed": false,
     "input": [
      "sampleset.samples"
     ],
     "language": "python",
     "metadata": {},
     "outputs": [
      {
       "metadata": {},
       "output_type": "pyout",
       "prompt_number": 22,
       "text": [
        "[<openpathsampling.sample.Sample at 0x10fdced10>,\n",
        " <openpathsampling.sample.Sample at 0x1124bf650>,\n",
        " <openpathsampling.sample.Sample at 0x1124e8210>]"
       ]
      }
     ],
     "prompt_number": 22
    },
    {
     "cell_type": "code",
     "collapsed": false,
     "input": [
      "[s.ensemble.idx[storage] for s in sampleset.samples]"
     ],
     "language": "python",
     "metadata": {},
     "outputs": [
      {
       "metadata": {},
       "output_type": "pyout",
       "prompt_number": 24,
       "text": [
        "[0, 1, 2]"
       ]
      }
     ],
     "prompt_number": 24
    },
    {
     "cell_type": "code",
     "collapsed": false,
     "input": [
      "for samp_set in storage.sampleset.iterator():\n",
      "    print samp_set[a.ensemble] if a.ensemble in samp_set.ensemble_dict else []"
     ],
     "language": "python",
     "metadata": {},
     "outputs": [
      {
       "output_type": "stream",
       "stream": "stdout",
       "text": [
        "[]\n",
        "[]\n",
        "[]\n",
        "Step: 3\n",
        "Replica: 4\n",
        "Trajectory: Trajectory[16]\n",
        "Ensemble: <openpathsampling.ensemble.SequentialEnsemble object at 0x11262d1d0>\n",
        "Details: <openpathsampling.todict.LoadedObject object at 0x112663cd0>\n",
        "\n",
        "Step: 4\n",
        "Replica: 4\n",
        "Trajectory: Trajectory[16]\n",
        "Ensemble: <openpathsampling.ensemble.SequentialEnsemble object at 0x11262d1d0>\n",
        "Details: <openpathsampling.todict.LoadedObject object at 0x10fe79510>\n",
        "\n",
        "Step: 4\n",
        "Replica: 4\n",
        "Trajectory: Trajectory[16]\n",
        "Ensemble: <openpathsampling.ensemble.SequentialEnsemble object at 0x11262d1d0>\n",
        "Details: <openpathsampling.todict.LoadedObject object at 0x10fe79510>\n",
        "\n",
        "Step: 6\n",
        "Replica: 4\n",
        "Trajectory: Trajectory[16]\n",
        "Ensemble: <openpathsampling.ensemble.SequentialEnsemble object at 0x11262d1d0>\n",
        "Details: <openpathsampling.todict.LoadedObject object at 0x1124e8650>\n",
        "\n",
        "Step: 7\n",
        "Replica: 4\n",
        "Trajectory: Trajectory[16]\n",
        "Ensemble: <openpathsampling.ensemble.SequentialEnsemble object at 0x11262d1d0>\n",
        "Details: <openpathsampling.todict.LoadedObject object at 0x11262d0d0>\n",
        "\n",
        "Step: 8\n",
        "Replica: 4\n",
        "Trajectory: Trajectory[16]\n",
        "Ensemble: <openpathsampling.ensemble.SequentialEnsemble object at 0x11262d1d0>\n",
        "Details: <openpathsampling.todict.LoadedObject object at 0x1124e85d0>\n",
        "\n",
        "Step: 9\n",
        "Replica: 4\n",
        "Trajectory: Trajectory[16]\n",
        "Ensemble: <openpathsampling.ensemble.SequentialEnsemble object at 0x11262d1d0>\n",
        "Details: <openpathsampling.todict.LoadedObject object at 0x11262d790>\n",
        "\n",
        "Step: 9\n",
        "Replica: 4\n",
        "Trajectory: Trajectory[16]\n",
        "Ensemble: <openpathsampling.ensemble.SequentialEnsemble object at 0x11262d1d0>\n",
        "Details: <openpathsampling.todict.LoadedObject object at 0x11262d790>\n",
        "\n",
        "Step: 11\n",
        "Replica: 4\n",
        "Trajectory: Trajectory[16]\n",
        "Ensemble: <openpathsampling.ensemble.SequentialEnsemble object at 0x11262d1d0>\n",
        "Details: <openpathsampling.todict.LoadedObject object at 0x1124bf690>\n",
        "\n",
        "Step: 11\n",
        "Replica: 4\n",
        "Trajectory: Trajectory[16]\n",
        "Ensemble: <openpathsampling.ensemble.SequentialEnsemble object at 0x11262d1d0>\n",
        "Details: <openpathsampling.todict.LoadedObject object at 0x1124bf690>\n",
        "\n",
        "Step: 13\n",
        "Replica: 4\n",
        "Trajectory: Trajectory[16]\n",
        "Ensemble: <openpathsampling.ensemble.SequentialEnsemble object at 0x11262d1d0>\n",
        "Details: <openpathsampling.todict.LoadedObject object at 0x1124bfa50>\n",
        "\n",
        "Step: 14\n",
        "Replica: 4\n",
        "Trajectory: Trajectory[14]\n",
        "Ensemble: <openpathsampling.ensemble.SequentialEnsemble object at 0x11262d1d0>\n",
        "Details: <openpathsampling.todict.LoadedObject object at 0x11262d250>\n",
        "\n",
        "Step: 15\n",
        "Replica: 4\n",
        "Trajectory: Trajectory[14]\n",
        "Ensemble: <openpathsampling.ensemble.SequentialEnsemble object at 0x11262d1d0>\n",
        "Details: <openpathsampling.todict.LoadedObject object at 0x1124e8710>\n",
        "\n",
        "Step: 16\n",
        "Replica: 4\n",
        "Trajectory: Trajectory[14]\n",
        "Ensemble: <openpathsampling.ensemble.SequentialEnsemble object at 0x11262d1d0>\n",
        "Details: <openpathsampling.todict.LoadedObject object at 0x10fe8f390>\n",
        "\n",
        "Step: 17\n",
        "Replica: 4\n",
        "Trajectory: Trajectory[14]\n",
        "Ensemble: <openpathsampling.ensemble.SequentialEnsemble object at 0x11262d1d0>\n",
        "Details: <openpathsampling.todict.LoadedObject object at 0x1124e1410>\n",
        "\n",
        "Step: 17\n",
        "Replica: 4\n",
        "Trajectory: Trajectory[14]\n",
        "Ensemble: <openpathsampling.ensemble.SequentialEnsemble object at 0x11262d1d0>\n",
        "Details: <openpathsampling.todict.LoadedObject object at 0x1124e1410>\n",
        "\n",
        "Step: 17\n",
        "Replica: 4\n",
        "Trajectory: Trajectory[14]\n",
        "Ensemble: <openpathsampling.ensemble.SequentialEnsemble object at 0x11262d1d0>\n",
        "Details: <openpathsampling.todict.LoadedObject object at 0x1124e1410>\n",
        "\n",
        "Step: 17\n",
        "Replica: 4\n",
        "Trajectory: Trajectory[14]\n",
        "Ensemble: <openpathsampling.ensemble.SequentialEnsemble object at 0x11262d1d0>\n",
        "Details: <openpathsampling.todict.LoadedObject object at 0x1124e1410>\n",
        "\n",
        "Step: 17\n",
        "Replica: 4\n",
        "Trajectory: Trajectory[14]\n",
        "Ensemble: <openpathsampling.ensemble.SequentialEnsemble object at 0x11262d1d0>\n",
        "Details: <openpathsampling.todict.LoadedObject object at 0x1124e1410>\n",
        "\n",
        "Step: 17\n",
        "Replica: 4\n",
        "Trajectory: Trajectory[14]\n",
        "Ensemble: <openpathsampling.ensemble.SequentialEnsemble object at 0x11262d1d0>\n",
        "Details: <openpathsampling.todict.LoadedObject object at 0x1124e1410>\n",
        "\n",
        "Step: 17\n",
        "Replica: 4\n",
        "Trajectory: Trajectory[14]\n",
        "Ensemble: <openpathsampling.ensemble.SequentialEnsemble object at 0x11262d1d0>\n",
        "Details: <openpathsampling.todict.LoadedObject object at 0x1124e1410>\n",
        "\n",
        "Step: 17\n",
        "Replica: 4\n",
        "Trajectory: Trajectory[14]\n",
        "Ensemble: <openpathsampling.ensemble.SequentialEnsemble object at 0x11262d1d0>\n",
        "Details: <openpathsampling.todict.LoadedObject object at 0x1124e1410>\n",
        "\n",
        "Step: 17\n",
        "Replica: 4\n",
        "Trajectory: Trajectory[14]\n",
        "Ensemble: <openpathsampling.ensemble.SequentialEnsemble object at 0x11262d1d0>\n",
        "Details: <openpathsampling.todict.LoadedObject object at 0x1124e1410>\n",
        "\n",
        "Step: 17\n",
        "Replica: 4\n",
        "Trajectory: Trajectory[14]\n",
        "Ensemble: <openpathsampling.ensemble.SequentialEnsemble object at 0x11262d1d0>\n",
        "Details: <openpathsampling.todict.LoadedObject object at 0x1124e1410>\n",
        "\n",
        "Step: 17\n",
        "Replica: 4\n",
        "Trajectory: Trajectory[14]\n",
        "Ensemble: <openpathsampling.ensemble.SequentialEnsemble object at 0x11262d1d0>\n",
        "Details: <openpathsampling.todict.LoadedObject object at 0x1124e1410>\n",
        "\n",
        "Step: 17\n",
        "Replica: 4\n",
        "Trajectory: Trajectory[14]\n",
        "Ensemble: <openpathsampling.ensemble.SequentialEnsemble object at 0x11262d1d0>\n",
        "Details: <openpathsampling.todict.LoadedObject object at 0x1124e1410>\n",
        "\n",
        "Step: 17\n",
        "Replica: 4\n",
        "Trajectory: Trajectory[14]\n",
        "Ensemble: <openpathsampling.ensemble.SequentialEnsemble object at 0x11262d1d0>\n",
        "Details: <openpathsampling.todict.LoadedObject object at 0x1124e1410>\n",
        "\n",
        "Step: 17\n",
        "Replica: 4\n",
        "Trajectory: Trajectory[14]\n",
        "Ensemble: <openpathsampling.ensemble.SequentialEnsemble object at 0x11262d1d0>\n",
        "Details: <openpathsampling.todict.LoadedObject object at 0x1124e1410>\n",
        "\n",
        "Step: 17\n",
        "Replica: 4\n",
        "Trajectory: Trajectory[14]\n",
        "Ensemble: <openpathsampling.ensemble.SequentialEnsemble object at 0x11262d1d0>\n",
        "Details: <openpathsampling.todict.LoadedObject object at 0x1124e1410>\n",
        "\n",
        "Step: 17\n",
        "Replica: 4\n",
        "Trajectory: Trajectory[14]\n",
        "Ensemble: <openpathsampling.ensemble.SequentialEnsemble object at 0x11262d1d0>\n",
        "Details: <openpathsampling.todict.LoadedObject object at 0x1124e1410>\n",
        "\n",
        "Step: 17\n",
        "Replica: 4\n",
        "Trajectory: Trajectory[14]\n",
        "Ensemble: <openpathsampling.ensemble.SequentialEnsemble object at 0x11262d1d0>\n",
        "Details: <openpathsampling.todict.LoadedObject object at 0x1124e1410>\n",
        "\n",
        "Step: 17\n",
        "Replica: 4\n",
        "Trajectory: Trajectory[14]\n",
        "Ensemble: <openpathsampling.ensemble.SequentialEnsemble object at 0x11262d1d0>\n",
        "Details: <openpathsampling.todict.LoadedObject object at 0x1124e1410>\n",
        "\n",
        "Step: 17\n",
        "Replica: 4\n",
        "Trajectory: Trajectory[14]\n",
        "Ensemble: <openpathsampling.ensemble.SequentialEnsemble object at 0x11262d1d0>\n",
        "Details: <openpathsampling.todict.LoadedObject object at 0x1124e1410>\n",
        "\n",
        "Step: 17\n",
        "Replica: 4\n",
        "Trajectory: Trajectory[14]\n",
        "Ensemble: <openpathsampling.ensemble.SequentialEnsemble object at 0x11262d1d0>\n",
        "Details: <openpathsampling.todict.LoadedObject object at 0x1124e1410>\n",
        "\n"
       ]
      }
     ],
     "prompt_number": 32
    },
    {
     "cell_type": "code",
     "collapsed": false,
     "input": [
      "[ s.ensemble.idx[storage] for s in samp_set.samples]"
     ],
     "language": "python",
     "metadata": {},
     "outputs": [
      {
       "metadata": {},
       "output_type": "pyout",
       "prompt_number": 31,
       "text": [
        "[0, 1, 2, 3, 4, 5, 6]"
       ]
      }
     ],
     "prompt_number": 31
    },
    {
     "cell_type": "code",
     "collapsed": false,
     "input": [],
     "language": "python",
     "metadata": {},
     "outputs": []
    }
   ],
   "metadata": {}
  }
 ]
}
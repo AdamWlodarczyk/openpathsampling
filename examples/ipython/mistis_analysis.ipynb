{
 "cells": [
  {
   "cell_type": "code",
   "execution_count": 1,
   "metadata": {
    "collapsed": false
   },
   "outputs": [],
   "source": [
    "import openpathsampling as paths\n",
    "storage = paths.storage.Storage(\"mistis.nc\", \"r\")"
   ]
  },
  {
   "cell_type": "code",
   "execution_count": 2,
   "metadata": {
    "collapsed": false
   },
   "outputs": [],
   "source": [
    "mistis = storage.networks.load(0)"
   ]
  },
  {
   "cell_type": "code",
   "execution_count": 3,
   "metadata": {
    "collapsed": false
   },
   "outputs": [
    {
     "name": "stdout",
     "output_type": "stream",
     "text": [
      "<openpathsampling.analysis.tis_analysis.RETISTransition object at 0x10c5a1b50>\n",
      "<openpathsampling.analysis.tis_analysis.RETISTransition object at 0x10c6e8610>\n",
      "<openpathsampling.analysis.tis_analysis.RETISTransition object at 0x10c9db150>\n"
     ]
    }
   ],
   "source": [
    "for t in mistis.input_transitions:\n",
    "    print repr(t)"
   ]
  },
  {
   "cell_type": "code",
   "execution_count": 4,
   "metadata": {
    "collapsed": false
   },
   "outputs": [
    {
     "name": "stdout",
     "output_type": "stream",
     "text": [
      "[<openpathsampling.pathmover.ReplicaExchangeMover object at 0x10c722e50>, <openpathsampling.pathmover.ReplicaExchangeMover object at 0x10c5a1410>, <openpathsampling.pathmover.ReplicaExchangeMover object at 0x10c722e90>, <openpathsampling.pathmover.ReplicaExchangeMover object at 0x10c9bd0d0>, <openpathsampling.pathmover.ReplicaExchangeMover object at 0x10c712f10>, <openpathsampling.pathmover.ReplicaExchangeMover object at 0x10c9e06d0>, <openpathsampling.pathmover.ReplicaExchangeMover object at 0x10ca06250>]\n"
     ]
    }
   ],
   "source": [
    "print mistis.movers['repex']"
   ]
  },
  {
   "cell_type": "code",
   "execution_count": 14,
   "metadata": {
    "collapsed": false
   },
   "outputs": [
    {
     "name": "stdout",
     "output_type": "stream",
     "text": [
      "True <openpathsampling.ensemble.TISEnsemble object at 0x10c730e50>\n",
      "True <openpathsampling.ensemble.TISEnsemble object at 0x10c730090>\n",
      "True <openpathsampling.ensemble.TISEnsemble object at 0x10c730990>\n",
      "True <openpathsampling.ensemble.TISEnsemble object at 0x10c716d50>\n"
     ]
    }
   ],
   "source": [
    "# this should be true if we restored correctly\n",
    "for ens in mistis.sampling_transitions[0].ensembles:\n",
    "    print ens in storage.ensembles[:], repr(ens)\n"
   ]
  },
  {
   "cell_type": "code",
   "execution_count": 16,
   "metadata": {
    "collapsed": false
   },
   "outputs": [
    {
     "name": "stdout",
     "output_type": "stream",
     "text": [
      "True <openpathsampling.ensemble.TISEnsemble object at 0x10c6cdf10>\n",
      "True <openpathsampling.ensemble.TISEnsemble object at 0x10c6e7a10>\n",
      "True <openpathsampling.ensemble.TISEnsemble object at 0x10c6cd990>\n"
     ]
    }
   ],
   "source": [
    "for ens in mistis.transitions.values()[0].ensembles:\n",
    "    print ens in storage.ensembles[:], repr(ens)"
   ]
  },
  {
   "cell_type": "code",
   "execution_count": 6,
   "metadata": {
    "collapsed": false
   },
   "outputs": [],
   "source": [
    "mistis.hist_args['max_lambda'] = { 'bin_width' : 0.02, 'bin_range' : (0.0, 0.5) }\n",
    "mistis.hist_args['pathlength'] = { 'bin_width' : 5, 'bin_range' : (0, 150) }"
   ]
  },
  {
   "cell_type": "code",
   "execution_count": 8,
   "metadata": {
    "collapsed": false
   },
   "outputs": [],
   "source": [
    "#mistis.rate_matrix(storage)"
   ]
  },
  {
   "cell_type": "code",
   "execution_count": null,
   "metadata": {
    "collapsed": true
   },
   "outputs": [],
   "source": []
  }
 ],
 "metadata": {
  "kernelspec": {
   "display_name": "Python 2",
   "language": "python",
   "name": "python2"
  },
  "language_info": {
   "codemirror_mode": {
    "name": "ipython",
    "version": 2
   },
   "file_extension": ".py",
   "mimetype": "text/x-python",
   "name": "python",
   "nbconvert_exporter": "python",
   "pygments_lexer": "ipython2",
   "version": "2.7.10"
  }
 },
 "nbformat": 4,
 "nbformat_minor": 0
}

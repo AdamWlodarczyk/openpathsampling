{
 "cells": [
  {
   "cell_type": "code",
   "execution_count": 1,
   "metadata": {
    "collapsed": true
   },
   "outputs": [],
   "source": [
    "import openpathsampling as paths\n",
    "storage = paths.storage.Storage(\"mistis.nc\", \"r\")"
   ]
  },
  {
   "cell_type": "code",
   "execution_count": 2,
   "metadata": {
    "collapsed": false
   },
   "outputs": [],
   "source": [
    "mistis = storage.networks.load(0)"
   ]
  },
  {
   "cell_type": "code",
   "execution_count": 3,
   "metadata": {
    "collapsed": false
   },
   "outputs": [
    {
     "name": "stdout",
     "output_type": "stream",
     "text": [
      "<openpathsampling.analysis.tis_analysis.RETISTransition object at 0x11012cf50>\n",
      "<openpathsampling.analysis.tis_analysis.RETISTransition object at 0x110148610>\n",
      "<openpathsampling.analysis.tis_analysis.RETISTransition object at 0x1101144d0>\n"
     ]
    }
   ],
   "source": [
    "for t in mistis.input_transitions:\n",
    "    print repr(t)"
   ]
  },
  {
   "cell_type": "code",
   "execution_count": 4,
   "metadata": {
    "collapsed": false
   },
   "outputs": [
    {
     "name": "stdout",
     "output_type": "stream",
     "text": [
      "[<openpathsampling.pathmover.ReplicaExchangeMover object at 0x11015c610>, <openpathsampling.pathmover.ReplicaExchangeMover object at 0x110120290>, <openpathsampling.pathmover.ReplicaExchangeMover object at 0x1104fab90>, <openpathsampling.pathmover.ReplicaExchangeMover object at 0x110114950>, <openpathsampling.pathmover.ReplicaExchangeMover object at 0x1104fa810>, <openpathsampling.pathmover.ReplicaExchangeMover object at 0x11054a710>, <openpathsampling.pathmover.ReplicaExchangeMover object at 0x11053a7d0>]\n"
     ]
    }
   ],
   "source": [
    "print mistis.movers['repex']"
   ]
  },
  {
   "cell_type": "code",
   "execution_count": 5,
   "metadata": {
    "collapsed": false
   },
   "outputs": [
    {
     "name": "stdout",
     "output_type": "stream",
     "text": [
      "True\n",
      "True\n",
      "True\n"
     ]
    }
   ],
   "source": [
    "# this should be true if we restored correctly\n",
    "for ens in mistis.sampling_transitions[0].ensembles:\n",
    "    print ens in storage.ensembles[:]"
   ]
  },
  {
   "cell_type": "code",
   "execution_count": null,
   "metadata": {
    "collapsed": true
   },
   "outputs": [],
   "source": []
  }
 ],
 "metadata": {
  "kernelspec": {
   "display_name": "Python 2",
   "language": "python",
   "name": "python2"
  },
  "language_info": {
   "codemirror_mode": {
    "name": "ipython",
    "version": 2
   },
   "file_extension": ".py",
   "mimetype": "text/x-python",
   "name": "python",
   "nbconvert_exporter": "python",
   "pygments_lexer": "ipython2",
   "version": "2.7.10"
  }
 },
 "nbformat": 4,
 "nbformat_minor": 0
}

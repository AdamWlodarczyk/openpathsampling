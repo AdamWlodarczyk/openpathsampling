{
 "cells": [
  {
   "cell_type": "code",
   "execution_count": 1,
   "metadata": {
    "collapsed": true
   },
   "outputs": [],
   "source": [
    "import openpathsampling as paths\n",
    "storage = paths.storage.Storage(\"mistis.nc\", \"r\")"
   ]
  },
  {
   "cell_type": "code",
   "execution_count": 5,
   "metadata": {
    "collapsed": false
   },
   "outputs": [],
   "source": [
    "mistis = storage.networks.load(0)"
   ]
  },
  {
   "cell_type": "code",
   "execution_count": 7,
   "metadata": {
    "collapsed": false
   },
   "outputs": [
    {
     "name": "stdout",
     "output_type": "stream",
     "text": [
      "RETISTransition: A->B\n",
      "[IntersectionVolume] -> [IntersectionVolume] or [IntersectionVolume]\n",
      "Interface: -inf<opX<-0.3\n",
      "Interface: -inf<opX<-0.2\n",
      "Interface: -inf<opX<-0.1\n",
      "Interface: -inf<opX<0.0\n",
      "\n",
      "RETISTransition: A->C\n",
      "[IntersectionVolume] -> [IntersectionVolume] or [IntersectionVolume]\n",
      "Interface: -inf<opY<-0.3\n",
      "Interface: -inf<opY<-0.2\n",
      "Interface: -inf<opY<-0.1\n",
      "Interface: -inf<opY<0.0\n",
      "\n",
      "RETISTransition: B->A\n",
      "[IntersectionVolume] -> [IntersectionVolume] or [IntersectionVolume]\n",
      "Interface: -inf<opXprime<-0.3\n",
      "Interface: -inf<opXprime<-0.2\n",
      "Interface: -inf<opXprime<-0.1\n",
      "Interface: -inf<opXprime<0.0\n",
      "\n"
     ]
    }
   ],
   "source": [
    "for t in mistis.transitions:\n",
    "    print t"
   ]
  },
  {
   "cell_type": "code",
   "execution_count": 8,
   "metadata": {
    "collapsed": false
   },
   "outputs": [
    {
     "name": "stdout",
     "output_type": "stream",
     "text": [
      "{'repex': [<openpathsampling.pathmover.ReplicaExchangeMover object at 0x113409990>, <openpathsampling.pathmover.ReplicaExchangeMover object at 0x113419410>, <openpathsampling.pathmover.ReplicaExchangeMover object at 0x113409950>, <openpathsampling.pathmover.ReplicaExchangeMover object at 0x113419810>, <openpathsampling.pathmover.ReplicaExchangeMover object at 0x113409c50>, <openpathsampling.pathmover.ReplicaExchangeMover object at 0x113419dd0>, <openpathsampling.pathmover.ReplicaExchangeMover object at 0x113409b90>, <openpathsampling.pathmover.ReplicaExchangeMover object at 0x113419350>, <openpathsampling.pathmover.ReplicaExchangeMover object at 0x113409890>], 'shooting': [<openpathsampling.pathmover.OneWayShootingMover object at 0x11352f610>, <openpathsampling.pathmover.OneWayShootingMover object at 0x113532a90>, <openpathsampling.pathmover.OneWayShootingMover object at 0x11352f110>, <openpathsampling.pathmover.OneWayShootingMover object at 0x113532ed0>, <openpathsampling.pathmover.OneWayShootingMover object at 0x11352f490>, <openpathsampling.pathmover.OneWayShootingMover object at 0x113419290>, <openpathsampling.pathmover.OneWayShootingMover object at 0x1133f3190>, <openpathsampling.pathmover.OneWayShootingMover object at 0x1134192d0>, <openpathsampling.pathmover.OneWayShootingMover object at 0x11352fb50>, <openpathsampling.pathmover.OneWayShootingMover object at 0x11352fcd0>, <openpathsampling.pathmover.OneWayShootingMover object at 0x1133fc750>, <openpathsampling.pathmover.OneWayShootingMover object at 0x113419390>], 'pathreversal': [<openpathsampling.pathmover.PathReversalMover object at 0x10aa1b490>, <openpathsampling.pathmover.PathReversalMover object at 0x1134193d0>, <openpathsampling.pathmover.PathReversalMover object at 0x11352f890>, <openpathsampling.pathmover.PathReversalMover object at 0x11354ef10>, <openpathsampling.pathmover.PathReversalMover object at 0x113400910>, <openpathsampling.pathmover.PathReversalMover object at 0x1133fce10>, <openpathsampling.pathmover.PathReversalMover object at 0x1133f3e90>, <openpathsampling.pathmover.PathReversalMover object at 0x113532ad0>, <openpathsampling.pathmover.PathReversalMover object at 0x11340b790>, <openpathsampling.pathmover.PathReversalMover object at 0x113532d50>, <openpathsampling.pathmover.PathReversalMover object at 0x113553ed0>, <openpathsampling.pathmover.PathReversalMover object at 0x113532710>]}\n"
     ]
    }
   ],
   "source": [
    "print mistis.movers"
   ]
  },
  {
   "cell_type": "code",
   "execution_count": null,
   "metadata": {
    "collapsed": true
   },
   "outputs": [],
   "source": []
  }
 ],
 "metadata": {
  "kernelspec": {
   "display_name": "Python 2",
   "language": "python",
   "name": "python2"
  },
  "language_info": {
   "codemirror_mode": {
    "name": "ipython",
    "version": 2
   },
   "file_extension": ".py",
   "mimetype": "text/x-python",
   "name": "python",
   "nbconvert_exporter": "python",
   "pygments_lexer": "ipython2",
   "version": "2.7.9"
  }
 },
 "nbformat": 4,
 "nbformat_minor": 0
}

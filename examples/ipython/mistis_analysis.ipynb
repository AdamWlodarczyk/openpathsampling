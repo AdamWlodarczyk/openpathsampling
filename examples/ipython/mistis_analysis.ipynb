{
 "cells": [
  {
   "cell_type": "code",
   "execution_count": 1,
   "metadata": {
    "collapsed": true
   },
   "outputs": [],
   "source": [
    "%matplotlib inline\n",
    "import matplotlib.pyplot as plt\n",
    "import numpy as np\n",
    "import openpathsampling as paths"
   ]
  },
  {
   "cell_type": "code",
   "execution_count": 2,
   "metadata": {
    "collapsed": false
   },
   "outputs": [],
   "source": [
    "storage = paths.AnalysisStorage(\"mistis.nc\")"
   ]
  },
  {
   "cell_type": "code",
   "execution_count": 3,
   "metadata": {
    "collapsed": false
   },
   "outputs": [],
   "source": [
    "mistis = storage.networks.load(0)"
   ]
  },
  {
   "cell_type": "code",
   "execution_count": 4,
   "metadata": {
    "collapsed": false
   },
   "outputs": [
    {
     "name": "stdout",
     "output_type": "stream",
     "text": [
      "True <openpathsampling.ensemble.TISEnsemble object at 0x10b559e10>\n",
      "True <openpathsampling.ensemble.TISEnsemble object at 0x10b5591d0>\n",
      "True <openpathsampling.ensemble.TISEnsemble object at 0x10b46b4d0>\n"
     ]
    }
   ],
   "source": [
    "# this should be true if we restored correctly\n",
    "for ens in mistis.sampling_transitions[0].ensembles:\n",
    "    print ens in storage.ensembles[:], repr(ens)"
   ]
  },
  {
   "cell_type": "code",
   "execution_count": 5,
   "metadata": {
    "collapsed": true
   },
   "outputs": [],
   "source": [
    "mistis.hist_args['max_lambda'] = { 'bin_width' : 0.02, 'bin_range' : (-0.3, 0.5) }\n",
    "mistis.hist_args['pathlength'] = { 'bin_width' : 5, 'bin_range' : (0, 150) }"
   ]
  },
  {
   "cell_type": "code",
   "execution_count": 6,
   "metadata": {
    "collapsed": false
   },
   "outputs": [
    {
     "name": "stdout",
     "output_type": "stream",
     "text": [
      "ms_outer_shooting ran 5.750% (expected 4.67%) of the cycles with acceptance 11/23 (47.83%)\n",
      "repex ran 21.500% (expected 21.03%) of the cycles with acceptance 44/86 (51.16%)\n",
      "shooting ran 46.750% (expected 46.73%) of the cycles with acceptance 137/187 (73.26%)\n",
      "minus ran 2.000% (expected 1.87%) of the cycles with acceptance 5/8 (62.50%)\n",
      "pathreversal ran 24.000% (expected 25.70%) of the cycles with acceptance 62/96 (64.58%)\n"
     ]
    }
   ],
   "source": [
    "scheme = storage.schemes[0]\n",
    "scheme.move_summary(storage.steps)"
   ]
  },
  {
   "cell_type": "code",
   "execution_count": 7,
   "metadata": {
    "collapsed": false
   },
   "outputs": [
    {
     "name": "stdout",
     "output_type": "stream",
     "text": [
      "Minus ran 1.000% (expected 0.93%) of the cycles with acceptance 4/4 (100.00%)\n",
      "Minus ran 1.000% (expected 0.93%) of the cycles with acceptance 1/4 (25.00%)\n"
     ]
    }
   ],
   "source": [
    "scheme.move_summary(storage.steps, 'minus')"
   ]
  },
  {
   "cell_type": "code",
   "execution_count": 8,
   "metadata": {
    "collapsed": true
   },
   "outputs": [],
   "source": [
    "# we need to load the states and the innermost interface for each transition\n",
    "stateA = storage.volumes['A']\n",
    "stateB = storage.volumes['B']\n",
    "stateC = storage.volumes['C']\n",
    "inner_AB = mistis.transitions[(stateA, stateB)].interfaces[0]\n",
    "inner_AC = mistis.transitions[(stateA, stateC)].interfaces[0]\n",
    "inner_BA = mistis.transitions[(stateB, stateA)].interfaces[0]"
   ]
  },
  {
   "cell_type": "code",
   "execution_count": 9,
   "metadata": {
    "collapsed": false
   },
   "outputs": [],
   "source": [
    "# got these from mistis_flux.ipynb\n",
    "fluxes = {(stateA, inner_AB): 0.00134206626387,\n",
    "          (stateA, inner_AC): 0.00130918783318,\n",
    "          (stateB, inner_BA): 0.00129306050463}\n",
    "mistis.set_fluxes(fluxes)"
   ]
  },
  {
   "cell_type": "code",
   "execution_count": 10,
   "metadata": {
    "collapsed": false
   },
   "outputs": [
    {
     "data": {
      "text/html": [
       "<div>\n",
       "<table border=\"1\" class=\"dataframe\">\n",
       "  <thead>\n",
       "    <tr style=\"text-align: right;\">\n",
       "      <th></th>\n",
       "      <th>({x|opX(x) in [0.3, inf]} and {x|opY(x) in [-inf, -0.3]})</th>\n",
       "      <th>({x|opX(x) in [-inf, -0.3]} and {x|opY(x) in [-inf, -0.3]})</th>\n",
       "      <th>({x|opX(x) in [-inf, -0.3]} and {x|opY(x) in [0.3, inf]})</th>\n",
       "    </tr>\n",
       "  </thead>\n",
       "  <tbody>\n",
       "    <tr>\n",
       "      <th>({x|opX(x) in [0.3, inf]} and {x|opY(x) in [-inf, -0.3]})</th>\n",
       "      <td>NaN</td>\n",
       "      <td>4.68535e-05</td>\n",
       "      <td>NaN</td>\n",
       "    </tr>\n",
       "    <tr>\n",
       "      <th>({x|opX(x) in [-inf, -0.3]} and {x|opY(x) in [-inf, -0.3]})</th>\n",
       "      <td>0.000280601</td>\n",
       "      <td>NaN</td>\n",
       "      <td>0.000205871</td>\n",
       "    </tr>\n",
       "  </tbody>\n",
       "</table>\n",
       "</div>"
      ],
      "text/plain": [
       "                                                   ({x|opX(x) in [0.3, inf]} and {x|opY(x) in [-inf, -0.3]})  \\\n",
       "({x|opX(x) in [0.3, inf]} and {x|opY(x) in [-in...                                                NaN          \n",
       "({x|opX(x) in [-inf, -0.3]} and {x|opY(x) in [-...                                        0.000280601          \n",
       "\n",
       "                                                   ({x|opX(x) in [-inf, -0.3]} and {x|opY(x) in [-inf, -0.3]})  \\\n",
       "({x|opX(x) in [0.3, inf]} and {x|opY(x) in [-in...                                        4.68535e-05            \n",
       "({x|opX(x) in [-inf, -0.3]} and {x|opY(x) in [-...                                                NaN            \n",
       "\n",
       "                                                   ({x|opX(x) in [-inf, -0.3]} and {x|opY(x) in [0.3, inf]})  \n",
       "({x|opX(x) in [0.3, inf]} and {x|opY(x) in [-in...                                                NaN         \n",
       "({x|opX(x) in [-inf, -0.3]} and {x|opY(x) in [-...                                        0.000205871         "
      ]
     },
     "execution_count": 10,
     "metadata": {},
     "output_type": "execute_result"
    }
   ],
   "source": [
    "mistis.rate_matrix(storage.steps, force=True)"
   ]
  },
  {
   "cell_type": "code",
   "execution_count": 11,
   "metadata": {
    "collapsed": true
   },
   "outputs": [],
   "source": [
    "trans = mistis.transitions.values()[0]\n",
    "trans_hists = trans.histograms['max_lambda']"
   ]
  },
  {
   "cell_type": "code",
   "execution_count": 12,
   "metadata": {
    "collapsed": false
   },
   "outputs": [
    {
     "data": {
      "text/plain": [
       "[<matplotlib.lines.Line2D at 0x10e57d590>]"
      ]
     },
     "execution_count": 12,
     "metadata": {},
     "output_type": "execute_result"
    },
    {
     "data": {
      "image/png": "[encoded data removed]",
      "text/plain": [
       "<matplotlib.figure.Figure at 0x10e4d4150>"
      ]
     },
     "metadata": {},
     "output_type": "display_data"
    }
   ],
   "source": [
    "for hist in trans_hists:\n",
    "    cross_prob = trans_hists[hist].reverse_cumulative()\n",
    "    plt.plot(cross_prob.x, np.log(cross_prob))\n",
    "plt.plot(trans.tcp.x, np.log(trans.tcp))"
   ]
  },
  {
   "cell_type": "code",
   "execution_count": null,
   "metadata": {
    "collapsed": true
   },
   "outputs": [],
   "source": []
  },
  {
   "cell_type": "code",
   "execution_count": null,
   "metadata": {
    "collapsed": true
   },
   "outputs": [],
   "source": []
  }
 ],
 "metadata": {
  "kernelspec": {
   "display_name": "Python 2",
   "language": "python",
   "name": "python2"
  },
  "language_info": {
   "codemirror_mode": {
    "name": "ipython",
    "version": 2
   },
   "file_extension": ".py",
   "mimetype": "text/x-python",
   "name": "python",
   "nbconvert_exporter": "python",
   "pygments_lexer": "ipython2",
   "version": "2.7.12"
  }
 },
 "nbformat": 4,
 "nbformat_minor": 0
}

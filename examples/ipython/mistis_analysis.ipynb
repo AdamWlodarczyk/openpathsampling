{
 "cells": [
  {
   "cell_type": "code",
   "execution_count": null,
   "metadata": {
    "collapsed": true
   },
   "outputs": [],
   "source": [
    "%matplotlib inline\n",
    "import matplotlib.pyplot as plt\n",
    "import numpy as np\n",
    "import openpathsampling as paths"
   ]
  },
  {
   "cell_type": "code",
   "execution_count": null,
   "metadata": {
    "collapsed": false
   },
   "outputs": [],
   "source": [
    "storage = paths.AnalysisStorage(\"mistis.nc\")"
   ]
  },
  {
   "cell_type": "code",
   "execution_count": null,
   "metadata": {
    "collapsed": false
   },
   "outputs": [],
   "source": [
    "mistis = storage.networks.load(0)"
   ]
  },
  {
   "cell_type": "code",
   "execution_count": null,
   "metadata": {
    "collapsed": false
   },
   "outputs": [],
   "source": [
    "# this should be true if we restored correctly\n",
    "for ens in mistis.sampling_transitions[0].ensembles:\n",
    "    print ens in storage.ensembles[:], repr(ens)"
   ]
  },
  {
   "cell_type": "code",
   "execution_count": null,
   "metadata": {
    "collapsed": true
   },
   "outputs": [],
   "source": [
    "mistis.hist_args['max_lambda'] = { 'bin_width' : 0.02, 'bin_range' : (-0.3, 0.5) }\n",
    "mistis.hist_args['pathlength'] = { 'bin_width' : 5, 'bin_range' : (0, 150) }"
   ]
  },
  {
   "cell_type": "code",
   "execution_count": null,
   "metadata": {
    "collapsed": false
   },
   "outputs": [],
   "source": [
    "scheme = storage.schemes[0]\n",
    "scheme.move_summary(storage.steps)"
   ]
  },
  {
   "cell_type": "code",
   "execution_count": null,
   "metadata": {
    "collapsed": false
   },
   "outputs": [],
   "source": [
    "scheme.move_summary(storage.steps, 'minus')"
   ]
  },
  {
   "cell_type": "code",
   "execution_count": null,
   "metadata": {
    "collapsed": true
   },
   "outputs": [],
   "source": [
    "# we need to load the states and the innermost interface for each transition\n",
    "stateA = storage.volumes['A']\n",
    "stateB = storage.volumes['B']\n",
    "stateC = storage.volumes['C']\n",
    "inner_AB = mistis.transitions[(stateA, stateB)].interfaces[0]\n",
    "inner_AC = mistis.transitions[(stateA, stateC)].interfaces[0]\n",
    "inner_BA = mistis.transitions[(stateB, stateA)].interfaces[0]"
   ]
  },
  {
   "cell_type": "code",
   "execution_count": null,
   "metadata": {
    "collapsed": false
   },
   "outputs": [],
   "source": [
    "# got these from mistis_flux.ipynb\n",
    "fluxes = {(stateA, inner_AB): 0.00134206626387,\n",
    "          (stateA, inner_AC): 0.00130918783318,\n",
    "          (stateB, inner_BA): 0.00129306050463}\n",
    "mistis.set_fluxes(fluxes)"
   ]
  },
  {
   "cell_type": "code",
   "execution_count": null,
   "metadata": {
    "collapsed": false
   },
   "outputs": [],
   "source": [
    "mistis.rate_matrix(storage.steps, force=True)"
   ]
  },
  {
   "cell_type": "code",
   "execution_count": null,
   "metadata": {
    "collapsed": true
   },
   "outputs": [],
   "source": [
    "trans = mistis.transitions.values()[0]\n",
    "trans_hists = trans.histograms['max_lambda']"
   ]
  },
  {
   "cell_type": "code",
   "execution_count": null,
   "metadata": {
    "collapsed": false
   },
   "outputs": [],
   "source": [
    "for hist in trans_hists:\n",
    "    cross_prob = trans_hists[hist].reverse_cumulative()\n",
    "    plt.plot(cross_prob.x, np.log(cross_prob))\n",
    "plt.plot(trans.tcp.x, np.log(trans.tcp))"
   ]
  },
  {
   "cell_type": "code",
   "execution_count": null,
   "metadata": {
    "collapsed": true
   },
   "outputs": [],
   "source": []
  },
  {
   "cell_type": "code",
   "execution_count": null,
   "metadata": {
    "collapsed": true
   },
   "outputs": [],
   "source": []
  }
 ],
 "metadata": {
  "kernelspec": {
   "display_name": "Python 2",
   "language": "python",
   "name": "python2"
  },
  "language_info": {
   "codemirror_mode": {
    "name": "ipython",
    "version": 2
   },
   "file_extension": ".py",
   "mimetype": "text/x-python",
   "name": "python",
   "nbconvert_exporter": "python",
   "pygments_lexer": "ipython2",
   "version": "2.7.12"
  }
 },
 "nbformat": 4,
 "nbformat_minor": 0
}

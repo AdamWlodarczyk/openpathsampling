{
 "cells": [
  {
   "cell_type": "code",
   "execution_count": 1,
   "metadata": {
    "collapsed": true
   },
   "outputs": [],
   "source": [
    "import openpathsampling as paths\n",
    "storage = paths.storage.Storage(\"mistis.nc\", \"r\")"
   ]
  },
  {
   "cell_type": "code",
   "execution_count": 2,
   "metadata": {
    "collapsed": false
   },
   "outputs": [],
   "source": [
    "mistis = storage.networks.load(0)"
   ]
  },
  {
   "cell_type": "code",
   "execution_count": 3,
   "metadata": {
    "collapsed": false
   },
   "outputs": [
    {
     "name": "stdout",
     "output_type": "stream",
     "text": [
      "RETISTransition: A->B\n",
      "[IntersectionVolume] -> [IntersectionVolume] or [IntersectionVolume]\n",
      "Interface: -inf<opX<-0.3\n",
      "Interface: -inf<opX<-0.2\n",
      "Interface: -inf<opX<-0.1\n",
      "Interface: -inf<opX<0.0\n",
      "\n",
      "RETISTransition: A->C\n",
      "[IntersectionVolume] -> [IntersectionVolume] or [IntersectionVolume]\n",
      "Interface: -inf<opY<-0.3\n",
      "Interface: -inf<opY<-0.2\n",
      "Interface: -inf<opY<-0.1\n",
      "Interface: -inf<opY<0.0\n",
      "\n",
      "RETISTransition: B->A\n",
      "[IntersectionVolume] -> [IntersectionVolume] or [IntersectionVolume]\n",
      "Interface: -inf<opXprime<-0.3\n",
      "Interface: -inf<opXprime<-0.2\n",
      "Interface: -inf<opXprime<-0.1\n",
      "Interface: -inf<opXprime<0.0\n",
      "\n"
     ]
    }
   ],
   "source": [
    "for t in mistis.transitions:\n",
    "    print t"
   ]
  },
  {
   "cell_type": "code",
   "execution_count": 4,
   "metadata": {
    "collapsed": false
   },
   "outputs": [
    {
     "name": "stdout",
     "output_type": "stream",
     "text": [
      "{'repex': [<openpathsampling.pathmover.ReplicaExchangeMover object at 0x11a778e90>, <openpathsampling.pathmover.ReplicaExchangeMover object at 0x11a7c8990>, <openpathsampling.pathmover.ReplicaExchangeMover object at 0x11a778f50>, <openpathsampling.pathmover.ReplicaExchangeMover object at 0x11a7c85d0>, <openpathsampling.pathmover.ReplicaExchangeMover object at 0x11a778990>, <openpathsampling.pathmover.ReplicaExchangeMover object at 0x11a7c82d0>, <openpathsampling.pathmover.ReplicaExchangeMover object at 0x11a778150>], 'msouter_shooting': [<openpathsampling.pathmover.OneWayShootingMover object at 0x11a7ba490>], 'msouter_pathreversal': [<openpathsampling.pathmover.PathReversalMover object at 0x11a785490>], 'msouter_repex': [<openpathsampling.pathmover.ReplicaExchangeMover object at 0x11a760350>, <openpathsampling.pathmover.ReplicaExchangeMover object at 0x11a785b50>], 'shooting': [<openpathsampling.pathmover.OneWayShootingMover object at 0x11a785ed0>, <openpathsampling.pathmover.OneWayShootingMover object at 0x11a785090>, <openpathsampling.pathmover.OneWayShootingMover object at 0x11a785d50>, <openpathsampling.pathmover.OneWayShootingMover object at 0x11a785410>, <openpathsampling.pathmover.OneWayShootingMover object at 0x11a7c8bd0>, <openpathsampling.pathmover.OneWayShootingMover object at 0x11a7c6710>, <openpathsampling.pathmover.OneWayShootingMover object at 0x11a7ba2d0>, <openpathsampling.pathmover.OneWayShootingMover object at 0x11a7cb8d0>, <openpathsampling.pathmover.OneWayShootingMover object at 0x11a7c6350>, <openpathsampling.pathmover.OneWayShootingMover object at 0x11a636ed0>], 'minus': [<openpathsampling.pathmover.MinusMover object at 0x11a6503d0>, <openpathsampling.pathmover.MinusMover object at 0x11a785d90>], 'pathreversal': [<openpathsampling.pathmover.PathReversalMover object at 0x11a7ba790>, <openpathsampling.pathmover.PathReversalMover object at 0x11a778a90>, <openpathsampling.pathmover.PathReversalMover object at 0x11a7ba8d0>, <openpathsampling.pathmover.PathReversalMover object at 0x11a778f90>, <openpathsampling.pathmover.PathReversalMover object at 0x11a7ba590>, <openpathsampling.pathmover.PathReversalMover object at 0x11a778790>, <openpathsampling.pathmover.PathReversalMover object at 0x11a7ba950>, <openpathsampling.pathmover.PathReversalMover object at 0x11a778a50>, <openpathsampling.pathmover.PathReversalMover object at 0x11a7ba850>, <openpathsampling.pathmover.PathReversalMover object at 0x11a778f10>]}\n"
     ]
    }
   ],
   "source": [
    "print mistis.movers"
   ]
  },
  {
   "cell_type": "code",
   "execution_count": null,
   "metadata": {
    "collapsed": true
   },
   "outputs": [],
   "source": []
  }
 ],
 "metadata": {
  "kernelspec": {
   "display_name": "Python 2",
   "language": "python",
   "name": "python2"
  },
  "language_info": {
   "codemirror_mode": {
    "name": "ipython",
    "version": 2
   },
   "file_extension": ".py",
   "mimetype": "text/x-python",
   "name": "python",
   "nbconvert_exporter": "python",
   "pygments_lexer": "ipython2",
   "version": "2.7.10"
  }
 },
 "nbformat": 4,
 "nbformat_minor": 0
}

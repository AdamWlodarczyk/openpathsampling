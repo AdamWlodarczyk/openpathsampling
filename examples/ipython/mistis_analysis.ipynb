{
 "cells": [
  {
   "cell_type": "code",
   "execution_count": 1,
   "metadata": {
    "collapsed": false
   },
   "outputs": [],
   "source": [
    "%matplotlib inline\n",
    "import matplotlib.pyplot as plt\n",
    "import numpy as np\n",
    "\n",
    "import openpathsampling as paths\n",
    "import openpathsampling.dynamics.toy as toys\n",
    "\n",
    "storage = paths.AnalysisStorage(\"mistis.nc\")"
   ]
  },
  {
   "cell_type": "code",
   "execution_count": 2,
   "metadata": {
    "collapsed": false
   },
   "outputs": [],
   "source": [
    "mistis = storage.networks.load(0)"
   ]
  },
  {
   "cell_type": "code",
   "execution_count": 3,
   "metadata": {
    "collapsed": false
   },
   "outputs": [
    {
     "name": "stdout",
     "output_type": "stream",
     "text": [
      "True <openpathsampling.ensemble.TISEnsemble object at 0x122a5e150>\n",
      "True <openpathsampling.ensemble.TISEnsemble object at 0x122a5eb90>\n",
      "True <openpathsampling.ensemble.TISEnsemble object at 0x122a5e710>\n"
     ]
    }
   ],
   "source": [
    "# this should be true if we restored correctly\n",
    "for ens in mistis.sampling_transitions[0].ensembles:\n",
    "    print ens in storage.ensembles[:], repr(ens)"
   ]
  },
  {
   "cell_type": "code",
   "execution_count": 4,
   "metadata": {
    "collapsed": true
   },
   "outputs": [],
   "source": [
    "mistis.hist_args['max_lambda'] = { 'bin_width' : 0.02, 'bin_range' : (-0.3, 0.5) }\n",
    "mistis.hist_args['pathlength'] = { 'bin_width' : 5, 'bin_range' : (0, 150) }"
   ]
  },
  {
   "cell_type": "code",
   "execution_count": 5,
   "metadata": {
    "collapsed": false
   },
   "outputs": [
    {
     "name": "stdout",
     "output_type": "stream",
     "text": [
      "ms_outer_shooting ran 3.32225913621% of the cycles with acceptance 4/10 (0.4)\n",
      "repex ran 20.5980066445% of the cycles with acceptance 29/62 (0.467741935484)\n",
      "shooting ran 48.5049833887% of the cycles with acceptance 99/146 (0.678082191781)\n",
      "minus ran 1.32890365449% of the cycles with acceptance 3/4 (0.75)\n",
      "pathreversal ran 25.9136212625% of the cycles with acceptance 71/78 (0.910256410256)\n"
     ]
    }
   ],
   "source": [
    "scheme = storage.schemes[0]\n",
    "scheme.move_summary(storage)"
   ]
  },
  {
   "cell_type": "code",
   "execution_count": 6,
   "metadata": {
    "collapsed": true
   },
   "outputs": [],
   "source": [
    "for trans in mistis.transitions.values():\n",
    "    trans._flux = 1.0"
   ]
  },
  {
   "cell_type": "code",
   "execution_count": 7,
   "metadata": {
    "collapsed": false
   },
   "outputs": [
    {
     "data": {
      "text/html": [
       "<div>\n",
       "<table border=\"1\" class=\"dataframe\">\n",
       "  <thead>\n",
       "    <tr style=\"text-align: right;\">\n",
       "      <th></th>\n",
       "      <th>({x|opX(x) in [-inf, -0.3]} and {x|opY(x) in [-inf, -0.3]})</th>\n",
       "      <th>({x|opX(x) in [0.3, inf]} and {x|opY(x) in [-inf, -0.3]})</th>\n",
       "      <th>({x|opX(x) in [-inf, -0.3]} and {x|opY(x) in [0.3, inf]})</th>\n",
       "    </tr>\n",
       "  </thead>\n",
       "  <tbody>\n",
       "    <tr>\n",
       "      <th>({x|opX(x) in [-inf, -0.3]} and {x|opY(x) in [-inf, -0.3]})</th>\n",
       "      <td>NaN</td>\n",
       "      <td>0.00798374</td>\n",
       "      <td>4.98905e-05</td>\n",
       "    </tr>\n",
       "    <tr>\n",
       "      <th>({x|opX(x) in [0.3, inf]} and {x|opY(x) in [-inf, -0.3]})</th>\n",
       "      <td>0.109254</td>\n",
       "      <td>NaN</td>\n",
       "      <td>NaN</td>\n",
       "    </tr>\n",
       "  </tbody>\n",
       "</table>\n",
       "</div>"
      ],
      "text/plain": [
       "                                                   ({x|opX(x) in [-inf, -0.3]} and {x|opY(x) in [-inf, -0.3]})  \\\n",
       "({x|opX(x) in [-inf, -0.3]} and {x|opY(x) in [-...                                                NaN            \n",
       "({x|opX(x) in [0.3, inf]} and {x|opY(x) in [-in...                                           0.109254            \n",
       "\n",
       "                                                   ({x|opX(x) in [0.3, inf]} and {x|opY(x) in [-inf, -0.3]})  \\\n",
       "({x|opX(x) in [-inf, -0.3]} and {x|opY(x) in [-...                                         0.00798374          \n",
       "({x|opX(x) in [0.3, inf]} and {x|opY(x) in [-in...                                                NaN          \n",
       "\n",
       "                                                   ({x|opX(x) in [-inf, -0.3]} and {x|opY(x) in [0.3, inf]})  \n",
       "({x|opX(x) in [-inf, -0.3]} and {x|opY(x) in [-...                                        4.98905e-05         \n",
       "({x|opX(x) in [0.3, inf]} and {x|opY(x) in [-in...                                                NaN         "
      ]
     },
     "execution_count": 7,
     "metadata": {},
     "output_type": "execute_result"
    }
   ],
   "source": [
    "mistis.rate_matrix(storage, force=True)"
   ]
  },
  {
   "cell_type": "code",
   "execution_count": 8,
   "metadata": {
    "collapsed": true
   },
   "outputs": [],
   "source": [
    "trans = mistis.transitions.values()[0]\n",
    "trans_hists = trans.histograms['max_lambda']"
   ]
  },
  {
   "cell_type": "code",
   "execution_count": 9,
   "metadata": {
    "collapsed": false
   },
   "outputs": [
    {
     "data": {
      "text/plain": [
       "[<matplotlib.lines.Line2D at 0x12cdf2790>]"
      ]
     },
     "execution_count": 9,
     "metadata": {},
     "output_type": "execute_result"
    },
    {
     "data": {
      "image/png": "[encoded data removed]",
      "text/plain": [
       "<matplotlib.figure.Figure at 0x106378350>"
      ]
     },
     "metadata": {},
     "output_type": "display_data"
    }
   ],
   "source": [
    "for hist in trans_hists:\n",
    "    cross_prob = trans_hists[hist].reverse_cumulative()\n",
    "    plt.plot(cross_prob.x, np.log(cross_prob))\n",
    "plt.plot(trans.tcp.x, np.log(trans.tcp))"
   ]
  },
  {
   "cell_type": "code",
   "execution_count": null,
   "metadata": {
    "collapsed": true
   },
   "outputs": [],
   "source": []
  },
  {
   "cell_type": "code",
   "execution_count": null,
   "metadata": {
    "collapsed": true
   },
   "outputs": [],
   "source": []
  }
 ],
 "metadata": {
  "kernelspec": {
   "display_name": "Python 2",
   "language": "python",
   "name": "python2"
  },
  "language_info": {
   "codemirror_mode": {
    "name": "ipython",
    "version": 2
   },
   "file_extension": ".py",
   "mimetype": "text/x-python",
   "name": "python",
   "nbconvert_exporter": "python",
   "pygments_lexer": "ipython2",
   "version": "2.7.11"
  }
 },
 "nbformat": 4,
 "nbformat_minor": 0
}

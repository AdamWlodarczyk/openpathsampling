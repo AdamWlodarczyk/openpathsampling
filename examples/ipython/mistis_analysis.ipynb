{
 "cells": [
  {
   "cell_type": "code",
   "execution_count": 1,
   "metadata": {
    "collapsed": true
   },
   "outputs": [],
   "source": [
    "import openpathsampling as paths\n",
    "storage = paths.storage.Storage(\"mistis.nc\", \"r\")"
   ]
  },
  {
   "cell_type": "code",
   "execution_count": 2,
   "metadata": {
    "collapsed": false
   },
   "outputs": [],
   "source": [
    "mistis = storage.networks.load(0)"
   ]
  },
  {
   "cell_type": "code",
   "execution_count": 3,
   "metadata": {
    "collapsed": false
   },
   "outputs": [
    {
     "name": "stdout",
     "output_type": "stream",
     "text": [
      "RETISTransition: A->B\n",
      "[IntersectionVolume] -> [IntersectionVolume] or [IntersectionVolume]\n",
      "Interface: -inf<opX<-0.3\n",
      "Interface: -inf<opX<-0.2\n",
      "Interface: -inf<opX<-0.1\n",
      "Interface: -inf<opX<0.0\n",
      "\n",
      "RETISTransition: A->C\n",
      "[IntersectionVolume] -> [IntersectionVolume] or [IntersectionVolume]\n",
      "Interface: -inf<opY<-0.3\n",
      "Interface: -inf<opY<-0.2\n",
      "Interface: -inf<opY<-0.1\n",
      "Interface: -inf<opY<0.0\n",
      "\n",
      "RETISTransition: B->A\n",
      "[IntersectionVolume] -> [IntersectionVolume] or [IntersectionVolume]\n",
      "Interface: -inf<opXprime<-0.3\n",
      "Interface: -inf<opXprime<-0.2\n",
      "Interface: -inf<opXprime<-0.1\n",
      "Interface: -inf<opXprime<0.0\n",
      "\n"
     ]
    }
   ],
   "source": [
    "for t in mistis.transitions:\n",
    "    print t"
   ]
  },
  {
   "cell_type": "code",
   "execution_count": 4,
   "metadata": {
    "collapsed": false
   },
   "outputs": [
    {
     "name": "stdout",
     "output_type": "stream",
     "text": [
      "{'repex': [<openpathsampling.pathmover.ReplicaExchangeMover object at 0x1180438d0>, <openpathsampling.pathmover.ReplicaExchangeMover object at 0x118064b50>, <openpathsampling.pathmover.ReplicaExchangeMover object at 0x118043290>, <openpathsampling.pathmover.ReplicaExchangeMover object at 0x118064f90>, <openpathsampling.pathmover.ReplicaExchangeMover object at 0x1180439d0>, <openpathsampling.pathmover.ReplicaExchangeMover object at 0x118064bd0>, <openpathsampling.pathmover.ReplicaExchangeMover object at 0x118043e10>, <openpathsampling.pathmover.ReplicaExchangeMover object at 0x118064a90>, <openpathsampling.pathmover.ReplicaExchangeMover object at 0x118043410>], 'shooting': [<openpathsampling.pathmover.OneWayShootingMover object at 0x118043450>, <openpathsampling.pathmover.OneWayShootingMover object at 0x1180649d0>, <openpathsampling.pathmover.OneWayShootingMover object at 0x1180431d0>, <openpathsampling.pathmover.OneWayShootingMover object at 0x118064090>, <openpathsampling.pathmover.OneWayShootingMover object at 0x118043dd0>, <openpathsampling.pathmover.OneWayShootingMover object at 0x118064850>, <openpathsampling.pathmover.OneWayShootingMover object at 0x117f0c790>, <openpathsampling.pathmover.OneWayShootingMover object at 0x118064450>, <openpathsampling.pathmover.OneWayShootingMover object at 0x11803ab50>, <openpathsampling.pathmover.OneWayShootingMover object at 0x1180647d0>, <openpathsampling.pathmover.OneWayShootingMover object at 0x117efc1d0>, <openpathsampling.pathmover.OneWayShootingMover object at 0x118064e90>], 'pathreversal': [<openpathsampling.pathmover.PathReversalMover object at 0x117ef7650>, <openpathsampling.pathmover.PathReversalMover object at 0x11804fc90>, <openpathsampling.pathmover.PathReversalMover object at 0x118032f10>, <openpathsampling.pathmover.PathReversalMover object at 0x118043d10>, <openpathsampling.pathmover.PathReversalMover object at 0x117ef7450>, <openpathsampling.pathmover.PathReversalMover object at 0x1180116d0>, <openpathsampling.pathmover.PathReversalMover object at 0x117efc510>, <openpathsampling.pathmover.PathReversalMover object at 0x118011890>, <openpathsampling.pathmover.PathReversalMover object at 0x117efc710>, <openpathsampling.pathmover.PathReversalMover object at 0x118064910>, <openpathsampling.pathmover.PathReversalMover object at 0x11803d3d0>, <openpathsampling.pathmover.PathReversalMover object at 0x118064f50>]}\n"
     ]
    }
   ],
   "source": [
    "print mistis.movers"
   ]
  },
  {
   "cell_type": "code",
   "execution_count": null,
   "metadata": {
    "collapsed": true
   },
   "outputs": [],
   "source": []
  }
 ],
 "metadata": {
  "kernelspec": {
   "display_name": "Python 2",
   "language": "python",
   "name": "python2"
  },
  "language_info": {
   "codemirror_mode": {
    "name": "ipython",
    "version": 2
   },
   "file_extension": ".py",
   "mimetype": "text/x-python",
   "name": "python",
   "nbconvert_exporter": "python",
   "pygments_lexer": "ipython2",
   "version": "2.7.10"
  }
 },
 "nbformat": 4,
 "nbformat_minor": 0
}

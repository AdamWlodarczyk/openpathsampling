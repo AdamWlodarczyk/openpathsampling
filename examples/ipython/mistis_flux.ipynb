{
 "cells": [
  {
   "cell_type": "code",
   "execution_count": 1,
   "metadata": {
    "collapsed": false
   },
   "outputs": [],
   "source": [
    "%matplotlib inline\n",
    "import openpathsampling as paths\n",
    "import numpy as np"
   ]
  },
  {
   "cell_type": "markdown",
   "metadata": {},
   "source": [
    "As always, we load things from files so we don't have to set them up again."
   ]
  },
  {
   "cell_type": "code",
   "execution_count": 2,
   "metadata": {
    "collapsed": false
   },
   "outputs": [],
   "source": [
    "old = paths.AnalysisStorage(\"mistis.nc\")\n",
    "engine = old.engines[0]\n",
    "network = old.networks[0]\n",
    "states = set(network.initial_states + network.final_states)"
   ]
  },
  {
   "cell_type": "markdown",
   "metadata": {},
   "source": [
    "The `flux_pairs` variable is a list of 2-tuples, where the first element is the state we're calculating the flux out of, and the second element is the interface we're calculating the flux through."
   ]
  },
  {
   "cell_type": "code",
   "execution_count": 3,
   "metadata": {
    "collapsed": true
   },
   "outputs": [],
   "source": [
    "flux_pairs = [(trans.stateA, trans.interfaces[0]) for trans in network.transitions.values()]"
   ]
  },
  {
   "cell_type": "markdown",
   "metadata": {},
   "source": [
    "Set up the simulation and run it!"
   ]
  },
  {
   "cell_type": "code",
   "execution_count": 4,
   "metadata": {
    "collapsed": false
   },
   "outputs": [],
   "source": [
    "sim = paths.DirectSimulation(\n",
    "    storage=None,\n",
    "    engine=engine,\n",
    "    states=states,\n",
    "    flux_pairs=flux_pairs,\n",
    "    initial_snapshot=old.snapshots[0]\n",
    ")"
   ]
  },
  {
   "cell_type": "code",
   "execution_count": 5,
   "metadata": {
    "collapsed": false
   },
   "outputs": [
    {
     "name": "stdout",
     "output_type": "stream",
     "text": [
      "CPU times: user 36 s, sys: 106 ms, total: 36.1 s\n",
      "Wall time: 36.4 s\n"
     ]
    }
   ],
   "source": [
    "%%time\n",
    "sim.run(150000)"
   ]
  },
  {
   "cell_type": "markdown",
   "metadata": {},
   "source": [
    "Now we move on to the analysis."
   ]
  },
  {
   "cell_type": "code",
   "execution_count": 6,
   "metadata": {
    "collapsed": false
   },
   "outputs": [
    {
     "data": {
      "text/html": [
       "<div>\n",
       "<table border=\"1\" class=\"dataframe\">\n",
       "  <thead>\n",
       "    <tr style=\"text-align: right;\">\n",
       "      <th></th>\n",
       "      <th>({x|opX(x) in [0.3, inf]} and {x|opY(x) in [-inf, -0.3]})</th>\n",
       "      <th>({x|opX(x) in [-inf, -0.3]} and {x|opY(x) in [-inf, -0.3]})</th>\n",
       "      <th>({x|opX(x) in [-inf, -0.3]} and {x|opY(x) in [0.3, inf]})</th>\n",
       "    </tr>\n",
       "  </thead>\n",
       "  <tbody>\n",
       "    <tr>\n",
       "      <th>({x|opX(x) in [0.3, inf]} and {x|opY(x) in [-inf, -0.3]})</th>\n",
       "      <td>NaN</td>\n",
       "      <td>3.30366e-05</td>\n",
       "      <td>NaN</td>\n",
       "    </tr>\n",
       "    <tr>\n",
       "      <th>({x|opX(x) in [-inf, -0.3]} and {x|opY(x) in [-inf, -0.3]})</th>\n",
       "      <td>0.000595238</td>\n",
       "      <td>NaN</td>\n",
       "      <td>7.00624e-05</td>\n",
       "    </tr>\n",
       "    <tr>\n",
       "      <th>({x|opX(x) in [-inf, -0.3]} and {x|opY(x) in [0.3, inf]})</th>\n",
       "      <td>0.0011274</td>\n",
       "      <td>5.22084e-05</td>\n",
       "      <td>NaN</td>\n",
       "    </tr>\n",
       "  </tbody>\n",
       "</table>\n",
       "</div>"
      ],
      "text/plain": [
       "                                                   ({x|opX(x) in [0.3, inf]} and {x|opY(x) in [-inf, -0.3]})  \\\n",
       "({x|opX(x) in [0.3, inf]} and {x|opY(x) in [-in...                                                NaN          \n",
       "({x|opX(x) in [-inf, -0.3]} and {x|opY(x) in [-...                                        0.000595238          \n",
       "({x|opX(x) in [-inf, -0.3]} and {x|opY(x) in [0...                                          0.0011274          \n",
       "\n",
       "                                                   ({x|opX(x) in [-inf, -0.3]} and {x|opY(x) in [-inf, -0.3]})  \\\n",
       "({x|opX(x) in [0.3, inf]} and {x|opY(x) in [-in...                                        3.30366e-05            \n",
       "({x|opX(x) in [-inf, -0.3]} and {x|opY(x) in [-...                                                NaN            \n",
       "({x|opX(x) in [-inf, -0.3]} and {x|opY(x) in [0...                                        5.22084e-05            \n",
       "\n",
       "                                                   ({x|opX(x) in [-inf, -0.3]} and {x|opY(x) in [0.3, inf]})  \n",
       "({x|opX(x) in [0.3, inf]} and {x|opY(x) in [-in...                                                NaN         \n",
       "({x|opX(x) in [-inf, -0.3]} and {x|opY(x) in [-...                                        7.00624e-05         \n",
       "({x|opX(x) in [-inf, -0.3]} and {x|opY(x) in [0...                                                NaN         "
      ]
     },
     "execution_count": 6,
     "metadata": {},
     "output_type": "execute_result"
    }
   ],
   "source": [
    "sim.rate_matrix"
   ]
  },
  {
   "cell_type": "code",
   "execution_count": 7,
   "metadata": {
    "collapsed": false
   },
   "outputs": [
    {
     "data": {
      "text/plain": [
       "{(<openpathsampling.volume.IntersectionVolume at 0x10f829850>,\n",
       "  <openpathsampling.volume.IntersectionVolume at 0x10f829c10>): 1,\n",
       " (<openpathsampling.volume.IntersectionVolume at 0x10f829850>,\n",
       "  <openpathsampling.volume.IntersectionVolume at 0x10f8eee50>): 1,\n",
       " (<openpathsampling.volume.IntersectionVolume at 0x10f829c10>,\n",
       "  <openpathsampling.volume.IntersectionVolume at 0x10f8eee50>): 2,\n",
       " (<openpathsampling.volume.IntersectionVolume at 0x10f8eee50>,\n",
       "  <openpathsampling.volume.IntersectionVolume at 0x10f829850>): 2,\n",
       " (<openpathsampling.volume.IntersectionVolume at 0x10f8eee50>,\n",
       "  <openpathsampling.volume.IntersectionVolume at 0x10f829c10>): 1}"
      ]
     },
     "execution_count": 7,
     "metadata": {},
     "output_type": "execute_result"
    }
   ],
   "source": [
    "sim.n_transitions"
   ]
  },
  {
   "cell_type": "code",
   "execution_count": 8,
   "metadata": {
    "collapsed": false
   },
   "outputs": [
    {
     "data": {
      "text/plain": [
       "{(<openpathsampling.volume.IntersectionVolume at 0x10f829c10>,\n",
       "  <openpathsampling.volume.CVRangeVolume at 0x10fa84290>): 0.0010570265842185932,\n",
       " (<openpathsampling.volume.IntersectionVolume at 0x10f8eee50>,\n",
       "  <openpathsampling.volume.CVRangeVolume at 0x10f829e90>): 0.0012413823679368668,\n",
       " (<openpathsampling.volume.IntersectionVolume at 0x10f8eee50>,\n",
       "  <openpathsampling.volume.CVRangeVolume at 0x10f908cd0>): 0.0012437258472882335}"
      ]
     },
     "execution_count": 8,
     "metadata": {},
     "output_type": "execute_result"
    }
   ],
   "source": [
    "sim.fluxes"
   ]
  },
  {
   "cell_type": "code",
   "execution_count": 9,
   "metadata": {
    "collapsed": false
   },
   "outputs": [
    {
     "data": {
      "text/plain": [
       "{(<openpathsampling.volume.IntersectionVolume at 0x10f829c10>,\n",
       "  <openpathsampling.volume.CVRangeVolume at 0x10fa84290>): 80,\n",
       " (<openpathsampling.volume.IntersectionVolume at 0x10f8eee50>,\n",
       "  <openpathsampling.volume.CVRangeVolume at 0x10f829e90>): 56,\n",
       " (<openpathsampling.volume.IntersectionVolume at 0x10f8eee50>,\n",
       "  <openpathsampling.volume.CVRangeVolume at 0x10f908cd0>): 56}"
      ]
     },
     "execution_count": 9,
     "metadata": {},
     "output_type": "execute_result"
    }
   ],
   "source": [
    "sim.n_flux_events"
   ]
  },
  {
   "cell_type": "code",
   "execution_count": null,
   "metadata": {
    "collapsed": true
   },
   "outputs": [],
   "source": []
  }
 ],
 "metadata": {
  "kernelspec": {
   "display_name": "Python 2",
   "language": "python",
   "name": "python2"
  },
  "language_info": {
   "codemirror_mode": {
    "name": "ipython",
    "version": 2
   },
   "file_extension": ".py",
   "mimetype": "text/x-python",
   "name": "python",
   "nbconvert_exporter": "python",
   "pygments_lexer": "ipython2",
   "version": "2.7.11"
  }
 },
 "nbformat": 4,
 "nbformat_minor": 0
}

{
 "metadata": {
  "name": "",
  "signature": "sha256:fd32e225956a0f4c50df134b7fd4856257beaaf4585eeefad202ba93fb57be8a"
 },
 "nbformat": 3,
 "nbformat_minor": 0,
 "worksheets": [
  {
   "cells": [
    {
     "cell_type": "code",
     "collapsed": false,
     "input": [
      "import openpathsampling as paths\n",
      "\n",
      "from openpathsampling.analysis.tis_analysis import TISTransition"
     ],
     "language": "python",
     "metadata": {},
     "outputs": [],
     "prompt_number": 1
    },
    {
     "cell_type": "code",
     "collapsed": false,
     "input": [
      "storage = paths.storage.Storage(\"toy_tis.nc\")"
     ],
     "language": "python",
     "metadata": {},
     "outputs": [],
     "prompt_number": 2
    },
    {
     "cell_type": "code",
     "collapsed": false,
     "input": [
      "print storage.ensemble[:]"
     ],
     "language": "python",
     "metadata": {},
     "outputs": [
      {
       "output_type": "stream",
       "stream": "stdout",
       "text": [
        "[<openpathsampling.ensemble.SequentialEnsemble object at 0x10927cb50>, <openpathsampling.ensemble.SequentialEnsemble object at 0x1092cf990>, <openpathsampling.ensemble.SequentialEnsemble object at 0x1092b4e10>, <openpathsampling.ensemble.SequentialEnsemble object at 0x1093f7fd0>, <openpathsampling.ensemble.SequentialEnsemble object at 0x1092cf590>, <openpathsampling.ensemble.SequentialEnsemble object at 0x1092d2310>, <openpathsampling.ensemble.MinusInterfaceEnsemble object at 0x1092cf7d0>, <openpathsampling.ensemble.SequentialEnsemble object at 0x1092cfa50>]\n"
       ]
      }
     ],
     "prompt_number": 3
    },
    {
     "cell_type": "code",
     "collapsed": false,
     "input": [
      "print [s.ensemble for s in storage.sample if s.replica==3]"
     ],
     "language": "python",
     "metadata": {},
     "outputs": [
      {
       "output_type": "stream",
       "stream": "stdout",
       "text": [
        "[<openpathsampling.ensemble.SequentialEnsemble object at 0x1092d2310>, <openpathsampling.ensemble.SequentialEnsemble object at 0x1092d2310>]\n"
       ]
      }
     ],
     "prompt_number": 11
    },
    {
     "cell_type": "code",
     "collapsed": false,
     "input": [],
     "language": "python",
     "metadata": {},
     "outputs": []
    }
   ],
   "metadata": {}
  }
 ]
}
{
 "cells": [
  {
   "cell_type": "code",
   "execution_count": 1,
   "metadata": {
    "collapsed": false
   },
   "outputs": [
    {
     "name": "stdout",
     "output_type": "stream",
     "text": [
      "126\n"
     ]
    }
   ],
   "source": [
    "%matplotlib inline\n",
    "import matplotlib.pyplot as plt\n",
    "import openpathsampling as paths\n",
    "\n",
    "from openpathsampling.analysis.tis_analysis import TISTransition\n",
    "\n",
    "storage = paths.storage.Storage(\"toy_tis.nc\")\n",
    "print len(storage.sample)"
   ]
  },
  {
   "cell_type": "code",
   "execution_count": 2,
   "metadata": {
    "collapsed": false,
    "scrolled": true
   },
   "outputs": [
    {
     "name": "stdout",
     "output_type": "stream",
     "text": [
      "123\n"
     ]
    }
   ],
   "source": [
    "print len(storage.sampleset)"
   ]
  },
  {
   "cell_type": "code",
   "execution_count": 3,
   "metadata": {
    "collapsed": false
   },
   "outputs": [
    {
     "name": "stdout",
     "output_type": "stream",
     "text": [
      "[<Sample @ 0x10a6a2ad0>, <Sample @ 0x10a6a2450>, <Sample @ 0x10a6a2c10>, <Sample @ 0x10a6a2810>, <Sample @ 0x10a6a2d50>, <Sample @ 0x10a6cb650>]\n"
     ]
    }
   ],
   "source": [
    "print storage.sampleset[0].samples"
   ]
  },
  {
   "cell_type": "code",
   "execution_count": 4,
   "metadata": {
    "collapsed": false
   },
   "outputs": [],
   "source": [
    "ensembles=storage.ensemble[:]"
   ]
  },
  {
   "cell_type": "code",
   "execution_count": 5,
   "metadata": {
    "collapsed": false
   },
   "outputs": [
    {
     "data": {
      "text/plain": [
       "[<openpathsampling.ensemble.SequentialEnsemble at 0x102317e10>,\n",
       " <openpathsampling.ensemble.SequentialEnsemble at 0x10a6a2210>,\n",
       " <openpathsampling.ensemble.SequentialEnsemble at 0x10a6a2310>,\n",
       " <openpathsampling.ensemble.SequentialEnsemble at 0x10a6a2790>,\n",
       " <openpathsampling.ensemble.SequentialEnsemble at 0x10a6a28d0>,\n",
       " <openpathsampling.ensemble.SequentialEnsemble at 0x10a6a2610>]"
      ]
     },
     "execution_count": 5,
     "metadata": {},
     "output_type": "execute_result"
    }
   ],
   "source": [
    "ensembles"
   ]
  },
  {
   "cell_type": "code",
   "execution_count": 6,
   "metadata": {
    "collapsed": false
   },
   "outputs": [],
   "source": [
    "stateA = ensembles[1].ensembles[2].ensemble.volume.volume1\n",
    "stateB = ensembles[1].ensembles[2].ensemble.volume.volume2\n",
    "interfaces = [e.ensembles[1].ensemble2.volume for e in ensembles[1:]]\n",
    "op = ensembles[1].ensembles[0].ensemble.volume.orderparameter"
   ]
  },
  {
   "cell_type": "code",
   "execution_count": 7,
   "metadata": {
    "collapsed": false
   },
   "outputs": [
    {
     "name": "stdout",
     "output_type": "stream",
     "text": [
      "[0.0, -0.25, -0.3, -0.2, -0.13]\n"
     ]
    }
   ],
   "source": [
    "lmax = [e.ensembles[1].ensemble2.volume.lambda_max for e in ensembles[1:]]\n",
    "print lmax"
   ]
  },
  {
   "cell_type": "code",
   "execution_count": 8,
   "metadata": {
    "collapsed": false
   },
   "outputs": [],
   "source": [
    "tis = TISTransition(stateA=stateA, stateB=stateB, orderparameter=op, interfaces=interfaces, name=\"A->B\", storage=storage)"
   ]
  },
  {
   "cell_type": "code",
   "execution_count": 9,
   "metadata": {
    "collapsed": true
   },
   "outputs": [],
   "source": [
    "tis.ensembles = ensembles\n",
    "for ensemble in tis.ensembles:\n",
    "    ensemble.name = \"I'face \"+str(tis.ensembles.index(ensemble))"
   ]
  },
  {
   "cell_type": "code",
   "execution_count": 10,
   "metadata": {
    "collapsed": true
   },
   "outputs": [],
   "source": [
    "tis.ensemble_histogram_info['pathlength'].hist_args = { 'bin_width' : 5, 'bin_range' : (0, 100) }\n",
    "tis.ensemble_histogram_info['max_lambda'].hist_args = { 'bin_width' : 0.05, 'bin_range' : (-0.35, 0.35) }"
   ]
  },
  {
   "cell_type": "code",
   "execution_count": 11,
   "metadata": {
    "collapsed": false
   },
   "outputs": [
    {
     "name": "stdout",
     "output_type": "stream",
     "text": [
      "CPU times: user 2.67 s, sys: 62.7 ms, total: 2.73 s\n",
      "Wall time: 2.77 s\n"
     ]
    }
   ],
   "source": [
    "%%time\n",
    "tis.all_statistics(samples=storage.sample, weights=None, force=True)"
   ]
  },
  {
   "cell_type": "code",
   "execution_count": 12,
   "metadata": {
    "collapsed": false
   },
   "outputs": [
    {
     "data": {
      "text/plain": [
       "{'max_lambda': {<openpathsampling.ensemble.SequentialEnsemble at 0x102317e10>: <openpathsampling.analysis.histogram.Histogram at 0x103f36f50>,\n",
       "  <openpathsampling.ensemble.SequentialEnsemble at 0x10a6a2210>: <openpathsampling.analysis.histogram.Histogram at 0x10aa18150>,\n",
       "  <openpathsampling.ensemble.SequentialEnsemble at 0x10a6a2310>: <openpathsampling.analysis.histogram.Histogram at 0x10aaa2690>,\n",
       "  <openpathsampling.ensemble.SequentialEnsemble at 0x10a6a2610>: <openpathsampling.analysis.histogram.Histogram at 0x10abceb90>,\n",
       "  <openpathsampling.ensemble.SequentialEnsemble at 0x10a6a2790>: <openpathsampling.analysis.histogram.Histogram at 0x10ab1b910>,\n",
       "  <openpathsampling.ensemble.SequentialEnsemble at 0x10a6a28d0>: <openpathsampling.analysis.histogram.Histogram at 0x10ab61f90>},\n",
       " 'pathlength': {<openpathsampling.ensemble.SequentialEnsemble at 0x102317e10>: <openpathsampling.analysis.histogram.Histogram at 0x10a6c5e10>,\n",
       "  <openpathsampling.ensemble.SequentialEnsemble at 0x10a6a2210>: <openpathsampling.analysis.histogram.Histogram at 0x10aaa2610>,\n",
       "  <openpathsampling.ensemble.SequentialEnsemble at 0x10a6a2310>: <openpathsampling.analysis.histogram.Histogram at 0x10ab1b850>,\n",
       "  <openpathsampling.ensemble.SequentialEnsemble at 0x10a6a2610>: <openpathsampling.analysis.histogram.Histogram at 0x10acbc210>,\n",
       "  <openpathsampling.ensemble.SequentialEnsemble at 0x10a6a2790>: <openpathsampling.analysis.histogram.Histogram at 0x10ab61ed0>,\n",
       "  <openpathsampling.ensemble.SequentialEnsemble at 0x10a6a28d0>: <openpathsampling.analysis.histogram.Histogram at 0x10abcead0>}}"
      ]
     },
     "execution_count": 12,
     "metadata": {},
     "output_type": "execute_result"
    }
   ],
   "source": [
    "tis.histograms"
   ]
  },
  {
   "cell_type": "code",
   "execution_count": 13,
   "metadata": {
    "collapsed": false
   },
   "outputs": [],
   "source": [
    "#print tis.histograms\n",
    "# storage.save(tis)"
   ]
  },
  {
   "cell_type": "code",
   "execution_count": 14,
   "metadata": {
    "collapsed": false
   },
   "outputs": [
    {
     "name": "stdout",
     "output_type": "stream",
     "text": [
      "CPU times: user 26.7 ms, sys: 3.39 ms, total: 30.1 ms\n",
      "Wall time: 30.3 ms\n"
     ]
    }
   ],
   "source": [
    "%%time\n",
    "#storage.sample.cache = {}\n",
    "#storage.trajectory.cache = {}\n",
    "for samp in (s for s in storage.sample if s.ensemble==tis.ensembles[1]):\n",
    "    len(samp.trajectory)"
   ]
  },
  {
   "cell_type": "code",
   "execution_count": 15,
   "metadata": {
    "collapsed": false
   },
   "outputs": [],
   "source": [
    "# for sample_set[ssetid], if exists sample in `ensemble`, return list of op(sample.trajectory)\n",
    "#storage.query_orderparameter_trajectory(orderparameter, ensemble=None, replica=None, step=None, trial=False) #"
   ]
  },
  {
   "cell_type": "code",
   "execution_count": 16,
   "metadata": {
    "collapsed": false
   },
   "outputs": [
    {
     "data": {
      "image/png": "[encoded data removed]",
      "text/plain": [
       "<matplotlib.figure.Figure at 0x10acbc2d0>"
      ]
     },
     "metadata": {},
     "output_type": "display_data"
    }
   ],
   "source": [
    "for ens in tis.ensembles:\n",
    "    myhist = tis.histograms['pathlength'][ens]\n",
    "    plt.plot(myhist.plot_bins(), myhist.histogram())"
   ]
  },
  {
   "cell_type": "code",
   "execution_count": 17,
   "metadata": {
    "collapsed": false
   },
   "outputs": [
    {
     "data": {
      "image/png": "[encoded data removed]",
      "text/plain": [
       "<matplotlib.figure.Figure at 0x10ae1a250>"
      ]
     },
     "metadata": {},
     "output_type": "display_data"
    }
   ],
   "source": [
    "for ens in tis.ensembles:\n",
    "    myhist = tis.histograms['max_lambda'][ens]\n",
    "    plt.plot(myhist.plot_bins(), myhist.reverse_cumulative())"
   ]
  },
  {
   "cell_type": "code",
   "execution_count": 18,
   "metadata": {
    "collapsed": false
   },
   "outputs": [],
   "source": [
    "#import pandas as pd\n",
    "#frames = []\n",
    "#for ens in tis.ensembles:\n",
    "#    myhist = tis.histograms['pathlength'][ens]\n",
    "#    myhist.name =  \"Pathlength A->B Interface \" + str(tis.ensembles.index(ens))\n",
    "#    frames.append(pd.DataFrame({myhist.name : myhist.histogram()}, index=myhist.plot_bins()))\n",
    "#all_frames = pd.concat(frames, axis=1)\n",
    "#print all_frames"
   ]
  },
  {
   "cell_type": "code",
   "execution_count": 19,
   "metadata": {
    "collapsed": false
   },
   "outputs": [
    {
     "name": "stdout",
     "output_type": "stream",
     "text": [
      "     pathlength A->B I'face 0  pathlength A->B I'face 5  \\\n",
      "5                           0                         0   \n",
      "10                          0                         0   \n",
      "15                          0                         0   \n",
      "20                          0                         0   \n",
      "25                          0                         0   \n",
      "30                          0                         0   \n",
      "35                          0                         1   \n",
      "40                          0                         0   \n",
      "45                          0                         8   \n",
      "50                          5                         8   \n",
      "55                          4                         2   \n",
      "60                          9                         0   \n",
      "65                          6                         0   \n",
      "70                          0                         0   \n",
      "75                          0                         0   \n",
      "80                          0                         0   \n",
      "85                          0                         0   \n",
      "90                          0                         0   \n",
      "95                          0                         0   \n",
      "100                         0                         0   \n",
      "\n",
      "     pathlength A->B I'face 4  pathlength A->B I'face 2  \\\n",
      "5                           0                         0   \n",
      "10                          0                         0   \n",
      "15                          0                         0   \n",
      "20                          0                         6   \n",
      "25                          0                         8   \n",
      "30                         14                        11   \n",
      "35                          4                         0   \n",
      "40                          0                         0   \n",
      "45                          0                         0   \n",
      "50                          0                         0   \n",
      "55                          0                         0   \n",
      "60                          0                         0   \n",
      "65                          0                         0   \n",
      "70                          0                         0   \n",
      "75                          0                         0   \n",
      "80                          0                         0   \n",
      "85                          0                         0   \n",
      "90                          0                         0   \n",
      "95                          0                         0   \n",
      "100                         0                         0   \n",
      "\n",
      "     pathlength A->B I'face 1  pathlength A->B I'face 3  \n",
      "5                           0                         0  \n",
      "10                          0                         0  \n",
      "15                          0                         0  \n",
      "20                          0                         5  \n",
      "25                          0                        14  \n",
      "30                          0                         0  \n",
      "35                          0                         0  \n",
      "40                         12                         0  \n",
      "45                          6                         0  \n",
      "50                          1                         0  \n",
      "55                          1                         0  \n",
      "60                          1                         0  \n",
      "65                          0                         0  \n",
      "70                          0                         0  \n",
      "75                          0                         0  \n",
      "80                          0                         0  \n",
      "85                          0                         0  \n",
      "90                          0                         0  \n",
      "95                          0                         0  \n",
      "100                         0                         0  \n"
     ]
    }
   ],
   "source": [
    "from openpathsampling.analysis.histogram import histograms_to_pandas_dataframe\n",
    "print histograms_to_pandas_dataframe(tis.histograms['pathlength'].values())"
   ]
  },
  {
   "cell_type": "code",
   "execution_count": null,
   "metadata": {
    "collapsed": true
   },
   "outputs": [],
   "source": []
  },
  {
   "cell_type": "code",
   "execution_count": null,
   "metadata": {
    "collapsed": true
   },
   "outputs": [],
   "source": []
  }
 ],
 "metadata": {
  "kernelspec": {
   "display_name": "Python 2",
   "language": "python",
   "name": "python2"
  },
  "language_info": {
   "codemirror_mode": {
    "name": "ipython",
    "version": 2
   },
   "file_extension": ".py",
   "mimetype": "text/x-python",
   "name": "python",
   "nbconvert_exporter": "python",
   "pygments_lexer": "ipython2",
   "version": "2.7.9"
  }
 },
 "nbformat": 4,
 "nbformat_minor": 0
}

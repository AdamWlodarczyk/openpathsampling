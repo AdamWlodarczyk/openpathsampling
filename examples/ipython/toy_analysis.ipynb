{
 "cells": [
  {
   "cell_type": "code",
   "execution_count": null,
   "metadata": {
    "collapsed": false
   },
   "outputs": [],
   "source": [
    "%matplotlib inline\n",
    "import matplotlib.pyplot as plt\n",
    "import openpathsampling as paths\n",
    "import numpy as np\n",
    "\n",
    "from openpathsampling.analysis.tis_analysis import TISTransition\n",
    "from openpathsampling.analysis.tis_analysis import sampleset_sample_generator\n",
    "\n",
    "storage = paths.storage.Storage(\"toy_retis.nc\", mode=\"r\")"
   ]
  },
  {
   "cell_type": "code",
   "execution_count": null,
   "metadata": {
    "collapsed": false
   },
   "outputs": [],
   "source": [
    "print len(storage.sampleset)"
   ]
  },
  {
   "cell_type": "code",
   "execution_count": null,
   "metadata": {
    "collapsed": false
   },
   "outputs": [],
   "source": [
    "retis = storage.transition.load(0)"
   ]
  },
  {
   "cell_type": "code",
   "execution_count": null,
   "metadata": {
    "collapsed": false
   },
   "outputs": [],
   "source": [
    "%%time\n",
    "# retis.move_summary()"
   ]
  },
  {
   "cell_type": "code",
   "execution_count": null,
   "metadata": {
    "collapsed": false
   },
   "outputs": [],
   "source": [
    "%%time\n",
    "# retis.move_summary('shooting')"
   ]
  },
  {
   "cell_type": "code",
   "execution_count": null,
   "metadata": {
    "collapsed": true
   },
   "outputs": [],
   "source": [
    "# TODO path tree here\n",
    "# TODO count decorrelated paths"
   ]
  },
  {
   "cell_type": "code",
   "execution_count": null,
   "metadata": {
    "collapsed": true
   },
   "outputs": [],
   "source": [
    "retis.ensemble_histogram_info['pathlength'].hist_args = { 'bin_width' : 5, 'bin_range' : (0, 150) }\n",
    "retis.ensemble_histogram_info['max_lambda'].hist_args = { 'bin_width' : 0.02, 'bin_range' : (-0.35, 0.35) }"
   ]
  },
  {
   "cell_type": "code",
   "execution_count": null,
   "metadata": {
    "collapsed": false
   },
   "outputs": [],
   "source": [
    "%%time\n",
    "retis.all_statistics(storage=storage, weights=None, force=True)"
   ]
  },
  {
   "cell_type": "code",
   "execution_count": null,
   "metadata": {
    "collapsed": false
   },
   "outputs": [],
   "source": [
    "for ens in retis.ensembles:\n",
    "    myhist = retis.histograms['pathlength'][ens]\n",
    "    plt.plot(myhist.plot_bins(), myhist.normalized())"
   ]
  },
  {
   "cell_type": "code",
   "execution_count": null,
   "metadata": {
    "collapsed": false
   },
   "outputs": [],
   "source": [
    "for ens in retis.ensembles:\n",
    "    myhist = retis.histograms['max_lambda'][ens]\n",
    "    plt.plot(myhist.plot_bins(), \n",
    "             np.log(myhist.reverse_cumulative())\n",
    "            )"
   ]
  },
  {
   "cell_type": "code",
   "execution_count": null,
   "metadata": {
    "collapsed": false
   },
   "outputs": [],
   "source": [
    "for ens in retis.ensembles:\n",
    "    myhist = retis.histograms['max_lambda'][ens]\n",
    "    plt.plot(myhist.plot_bins(), myhist())"
   ]
  },
  {
   "cell_type": "code",
   "execution_count": null,
   "metadata": {
    "collapsed": false
   },
   "outputs": [],
   "source": [
    "# TODO: add a histogram.sum_hist() function to add several histograms together\n",
    "from operator import add\n",
    "total_sampling = np.zeros(len(retis.histograms['max_lambda'][retis.ensembles[0]]()))\n",
    "for ens in retis.ensembles:\n",
    "    total_sampling = map(add, total_sampling, retis.histograms['max_lambda'][ens]())\n",
    "plt.plot(myhist.plot_bins(), total_sampling);"
   ]
  },
  {
   "cell_type": "code",
   "execution_count": null,
   "metadata": {
    "collapsed": false
   },
   "outputs": [],
   "source": [
    "from toy_plot_helpers import ToyPlot\n",
    "plot = ToyPlot()\n",
    "plot.add_pes(storage.engine.load(0).pes)"
   ]
  },
  {
   "cell_type": "code",
   "execution_count": null,
   "metadata": {
    "collapsed": false
   },
   "outputs": [],
   "source": [
    "ens0_traj = [s.trajectory for s in storage.sample if s.ensemble == retis.ensembles[0]]\n",
    "plt.contour(plot.X, plot.Y, plot._pes, levels=np.arange(0.0, 1.5, 0.1), colors='k')\n",
    "for mytraj in ens0_traj[slice(None,None,10)]:\n",
    "    plt.plot(mytraj.coordinates()[:,0,0], mytraj.coordinates()[:,0,1])"
   ]
  },
  {
   "cell_type": "code",
   "execution_count": null,
   "metadata": {
    "collapsed": false
   },
   "outputs": [],
   "source": [
    "wham = retis.total_crossing_probability(method=\"wham\")"
   ]
  },
  {
   "cell_type": "code",
   "execution_count": null,
   "metadata": {
    "collapsed": false
   },
   "outputs": [],
   "source": [
    "plt.plot(wham.keys(), wham.values());"
   ]
  },
  {
   "cell_type": "code",
   "execution_count": null,
   "metadata": {
    "collapsed": false
   },
   "outputs": [],
   "source": [
    "plt.plot(wham.keys(), np.log(wham.values()));"
   ]
  },
  {
   "cell_type": "code",
   "execution_count": null,
   "metadata": {
    "collapsed": false,
    "scrolled": true
   },
   "outputs": [],
   "source": [
    "%%time\n",
    "#retis.rate(storage=storage)\n",
    "# TODO: conditional_transition_probability, minus_flux, rate"
   ]
  },
  {
   "cell_type": "code",
   "execution_count": null,
   "metadata": {
    "collapsed": true
   },
   "outputs": [],
   "source": [
    "#print retis.flux, retis.tcp(0.0), retis.ctp[retis.ensembles[-1]]"
   ]
  }
 ],
 "metadata": {
  "kernelspec": {
   "display_name": "Python 2",
   "language": "python",
   "name": "python2"
  },
  "language_info": {
   "codemirror_mode": {
    "name": "ipython",
    "version": 2
   },
   "file_extension": ".py",
   "mimetype": "text/x-python",
   "name": "python",
   "nbconvert_exporter": "python",
   "pygments_lexer": "ipython2",
   "version": "2.7.9"
  }
 },
 "nbformat": 4,
 "nbformat_minor": 0
}

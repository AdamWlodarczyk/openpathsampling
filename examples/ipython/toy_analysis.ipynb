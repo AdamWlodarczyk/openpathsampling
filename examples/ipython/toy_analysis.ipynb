{
 "metadata": {
  "name": "",
  "signature": "sha256:e1af0f131c7011127804de360cd0e6293f1996661722e7a038dfea80113bcc37"
 },
 "nbformat": 3,
 "nbformat_minor": 0,
 "worksheets": [
  {
   "cells": [
    {
     "cell_type": "code",
     "collapsed": false,
     "input": [
      "%matplotlib inline\n",
      "import matplotlib.pyplot as plt\n",
      "import openpathsampling as paths\n",
      "\n",
      "from openpathsampling.analysis.tis_analysis import TISTransition\n",
      "\n",
      "storage = paths.storage.Storage(\"toy_tis.nc\")\n",
      "print len(storage.sample)"
     ],
     "language": "python",
     "metadata": {},
     "outputs": [
      {
       "output_type": "stream",
       "stream": "stdout",
       "text": [
        "33\n"
       ]
      }
     ],
     "prompt_number": 1
    },
    {
     "cell_type": "code",
     "collapsed": false,
     "input": [
      "ensembles = [[s.ensemble for s in storage.sample if s.replica==r][0] for r in range(-1, len(storage.ensemble)-2)]\n",
      "stateA = ensembles[1].ensembles[2].ensemble.volume.volume1\n",
      "stateB = ensembles[1].ensembles[2].ensemble.volume.volume2\n",
      "interfaces = [e.ensembles[1].ensemble2.volume for e in ensembles[1:]]\n",
      "op = ensembles[1].ensembles[0].ensemble.volume.orderparameter"
     ],
     "language": "python",
     "metadata": {},
     "outputs": [],
     "prompt_number": 2
    },
    {
     "cell_type": "code",
     "collapsed": false,
     "input": [
      "lmax = [e.ensembles[1].ensemble2.volume.lambda_max for e in ensembles[1:]]\n",
      "print lmax"
     ],
     "language": "python",
     "metadata": {},
     "outputs": [
      {
       "output_type": "stream",
       "stream": "stdout",
       "text": [
        "[-0.3, -0.25, -0.2, -0.13, -0.05, 0.0]\n"
       ]
      }
     ],
     "prompt_number": 3
    },
    {
     "cell_type": "code",
     "collapsed": false,
     "input": [
      "tis = TISTransition(stateA=stateA, stateB=stateB, orderparameter=op, interfaces=interfaces, storage=storage)"
     ],
     "language": "python",
     "metadata": {},
     "outputs": [],
     "prompt_number": 4
    },
    {
     "cell_type": "code",
     "collapsed": false,
     "input": [
      "tis.ensemble_statistics(ensemble=ensembles[1], samples=storage.sample, weights=None, force=True)"
     ],
     "language": "python",
     "metadata": {},
     "outputs": [],
     "prompt_number": 5
    },
    {
     "cell_type": "code",
     "collapsed": false,
     "input": [
      "print tis.histograms"
     ],
     "language": "python",
     "metadata": {},
     "outputs": [
      {
       "output_type": "stream",
       "stream": "stdout",
       "text": [
        "{'pathlength': {<openpathsampling.ensemble.SequentialEnsemble object at 0x1177bdcd0>: <openpathsampling.analysis.histogram.Histogram object at 0x1119c9190>}}\n"
       ]
      }
     ],
     "prompt_number": 6
    },
    {
     "cell_type": "code",
     "collapsed": false,
     "input": [
      "tis.histograms['pathlength'][ensembles[1]].plt_plot()"
     ],
     "language": "python",
     "metadata": {},
     "outputs": [
      {
       "metadata": {},
       "output_type": "display_data",
       "png": "[encoded data removed]",
       "text": [
        "<matplotlib.figure.Figure at 0x1119c9090>"
       ]
      }
     ],
     "prompt_number": 7
    },
    {
     "cell_type": "code",
     "collapsed": false,
     "input": [
      "plot"
     ],
     "language": "python",
     "metadata": {},
     "outputs": [
      {
       "output_type": "stream",
       "stream": "stdout",
       "text": [
        "{}\n"
       ]
      }
     ],
     "prompt_number": 7
    },
    {
     "cell_type": "code",
     "collapsed": false,
     "input": [],
     "language": "python",
     "metadata": {},
     "outputs": []
    }
   ],
   "metadata": {}
  }
 ]
}
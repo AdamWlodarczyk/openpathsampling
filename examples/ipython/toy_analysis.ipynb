{
 "cells": [
  {
   "cell_type": "code",
   "execution_count": 1,
   "metadata": {
    "collapsed": false
   },
   "outputs": [
    {
     "name": "stdout",
     "output_type": "stream",
     "text": [
      "126\n"
     ]
    }
   ],
   "source": [
    "%matplotlib inline\n",
    "import matplotlib.pyplot as plt\n",
    "import openpathsampling as paths\n",
    "\n",
    "from openpathsampling.analysis.tis_analysis import TISTransition\n",
    "\n",
    "storage = paths.storage.Storage(\"toy_tis.nc\")\n",
    "print len(storage.sample)"
   ]
  },
  {
   "cell_type": "code",
   "execution_count": 2,
   "metadata": {
    "collapsed": false,
    "scrolled": true
   },
   "outputs": [
    {
     "name": "stdout",
     "output_type": "stream",
     "text": [
      "123\n"
     ]
    }
   ],
   "source": [
    "print len(storage.sampleset)"
   ]
  },
  {
   "cell_type": "code",
   "execution_count": 3,
   "metadata": {
    "collapsed": false
   },
   "outputs": [
    {
     "name": "stdout",
     "output_type": "stream",
     "text": [
      "[<Sample @ 0x10eef1e10>, <Sample @ 0x10eef1110>, <Sample @ 0x10eef1b10>, <Sample @ 0x10eef1b90>, <Sample @ 0x10eef1a10>, <Sample @ 0x10ef02650>]\n"
     ]
    }
   ],
   "source": [
    "print storage.sampleset[0].samples"
   ]
  },
  {
   "cell_type": "code",
   "execution_count": 4,
   "metadata": {
    "collapsed": false
   },
   "outputs": [],
   "source": [
    "ensembles=storage.ensemble[:]"
   ]
  },
  {
   "cell_type": "code",
   "execution_count": 5,
   "metadata": {
    "collapsed": false
   },
   "outputs": [
    {
     "data": {
      "text/plain": [
       "[<openpathsampling.ensemble.SequentialEnsemble at 0x106b65110>,\n",
       " <openpathsampling.ensemble.SequentialEnsemble at 0x10eef10d0>,\n",
       " <openpathsampling.ensemble.SequentialEnsemble at 0x10eef1210>,\n",
       " <openpathsampling.ensemble.SequentialEnsemble at 0x10eef1690>,\n",
       " <openpathsampling.ensemble.SequentialEnsemble at 0x10eef1c50>,\n",
       " <openpathsampling.ensemble.SequentialEnsemble at 0x10eef1590>]"
      ]
     },
     "execution_count": 5,
     "metadata": {},
     "output_type": "execute_result"
    }
   ],
   "source": [
    "ensembles"
   ]
  },
  {
   "cell_type": "code",
   "execution_count": 6,
   "metadata": {
    "collapsed": false
   },
   "outputs": [],
   "source": [
    "stateA = ensembles[1].ensembles[2].ensemble.volume.volume1\n",
    "stateB = ensembles[1].ensembles[2].ensemble.volume.volume2\n",
    "interfaces = [e.ensembles[1].ensemble2.volume for e in ensembles[1:]]\n",
    "op = ensembles[1].ensembles[0].ensemble.volume.orderparameter"
   ]
  },
  {
   "cell_type": "code",
   "execution_count": 9,
   "metadata": {
    "collapsed": false
   },
   "outputs": [
    {
     "name": "stdout",
     "output_type": "stream",
     "text": [
      "[0.0, -0.25, -0.3, -0.2, -0.13]\n"
     ]
    }
   ],
   "source": [
    "lmax = [e.ensembles[1].ensemble2.volume.lambda_max for e in ensembles[1:]]\n",
    "print lmax"
   ]
  },
  {
   "cell_type": "code",
   "execution_count": 20,
   "metadata": {
    "collapsed": false
   },
   "outputs": [],
   "source": [
    "tis = TISTransition(stateA=stateA, stateB=stateB, orderparameter=op, interfaces=interfaces, storage=storage)"
   ]
  },
  {
   "cell_type": "code",
   "execution_count": 22,
   "metadata": {
    "collapsed": true
   },
   "outputs": [],
   "source": [
    "tis.ensembles = ensembles"
   ]
  },
  {
   "cell_type": "code",
   "execution_count": 23,
   "metadata": {
    "collapsed": false
   },
   "outputs": [
    {
     "name": "stdout",
     "output_type": "stream",
     "text": [
      "CPU times: user 709 ms, sys: 71.1 ms, total: 780 ms\n",
      "Wall time: 740 ms\n"
     ]
    }
   ],
   "source": [
    "%%time\n",
    "tis.all_statistics(samples=storage.sample, weights=None, force=True)"
   ]
  },
  {
   "cell_type": "code",
   "execution_count": 24,
   "metadata": {
    "collapsed": false
   },
   "outputs": [
    {
     "data": {
      "text/plain": [
       "{'max_lambda': {<openpathsampling.ensemble.SequentialEnsemble at 0x106b65110>: <openpathsampling.analysis.histogram.Histogram at 0x10f7a3a50>,\n",
       "  <openpathsampling.ensemble.SequentialEnsemble at 0x10eef10d0>: <openpathsampling.analysis.histogram.Histogram at 0x10f842a90>,\n",
       "  <openpathsampling.ensemble.SequentialEnsemble at 0x10eef1210>: <openpathsampling.analysis.histogram.Histogram at 0x10f5e98d0>,\n",
       "  <openpathsampling.ensemble.SequentialEnsemble at 0x10eef1590>: <openpathsampling.analysis.histogram.Histogram at 0x10f842bd0>,\n",
       "  <openpathsampling.ensemble.SequentialEnsemble at 0x10eef1690>: <openpathsampling.analysis.histogram.Histogram at 0x10f842b10>,\n",
       "  <openpathsampling.ensemble.SequentialEnsemble at 0x10eef1c50>: <openpathsampling.analysis.histogram.Histogram at 0x10f842c10>},\n",
       " 'pathlength': {<openpathsampling.ensemble.SequentialEnsemble at 0x106b65110>: <openpathsampling.analysis.histogram.Histogram at 0x10f842a50>,\n",
       "  <openpathsampling.ensemble.SequentialEnsemble at 0x10eef10d0>: <openpathsampling.analysis.histogram.Histogram at 0x10f842ad0>,\n",
       "  <openpathsampling.ensemble.SequentialEnsemble at 0x10eef1210>: <openpathsampling.analysis.histogram.Histogram at 0x10f7be810>,\n",
       "  <openpathsampling.ensemble.SequentialEnsemble at 0x10eef1590>: <openpathsampling.analysis.histogram.Histogram at 0x10f842c50>,\n",
       "  <openpathsampling.ensemble.SequentialEnsemble at 0x10eef1690>: <openpathsampling.analysis.histogram.Histogram at 0x10f842b50>,\n",
       "  <openpathsampling.ensemble.SequentialEnsemble at 0x10eef1c50>: <openpathsampling.analysis.histogram.Histogram at 0x10f842b90>}}"
      ]
     },
     "execution_count": 24,
     "metadata": {},
     "output_type": "execute_result"
    }
   ],
   "source": [
    "tis.histograms"
   ]
  },
  {
   "cell_type": "code",
   "execution_count": 25,
   "metadata": {
    "collapsed": false
   },
   "outputs": [],
   "source": [
    "#print tis.histograms\n",
    "# storage.save(tis)"
   ]
  },
  {
   "cell_type": "code",
   "execution_count": 26,
   "metadata": {
    "collapsed": false
   },
   "outputs": [
    {
     "name": "stdout",
     "output_type": "stream",
     "text": [
      "CPU times: user 26.8 ms, sys: 3.93 ms, total: 30.7 ms\n",
      "Wall time: 28.2 ms\n"
     ]
    }
   ],
   "source": [
    "%%time\n",
    "#storage.sample.cache = {}\n",
    "#storage.trajectory.cache = {}\n",
    "for samp in (s for s in storage.sample if s.ensemble==tis.ensembles[1]):\n",
    "    len(samp.trajectory)"
   ]
  },
  {
   "cell_type": "code",
   "execution_count": 27,
   "metadata": {
    "collapsed": false
   },
   "outputs": [],
   "source": [
    "# for sample_set[ssetid], if exists sample in `ensemble`, return list of op(sample.trajectory)\n",
    "#storage.query_orderparameter_trajectory(orderparameter, ensemble=None, replica=None, step=None, trial=False) #"
   ]
  },
  {
   "cell_type": "code",
   "execution_count": 28,
   "metadata": {
    "collapsed": false
   },
   "outputs": [
    {
     "data": {
      "image/png": "[encoded data removed]",
      "text/plain": [
       "<matplotlib.figure.Figure at 0x10f842e90>"
      ]
     },
     "metadata": {},
     "output_type": "display_data"
    }
   ],
   "source": [
    "for ens in tis.ensembles:\n",
    "    myhist = tis.histograms['pathlength'][ens]\n",
    "    plt.plot(myhist.plot_bins(), myhist.histogram())"
   ]
  },
  {
   "cell_type": "code",
   "execution_count": 30,
   "metadata": {
    "collapsed": false
   },
   "outputs": [
    {
     "data": {
      "image/png": "[encoded data removed]",
      "text/plain": [
       "<matplotlib.figure.Figure at 0x10fa5de90>"
      ]
     },
     "metadata": {},
     "output_type": "display_data"
    }
   ],
   "source": [
    "\n",
    "for ens in tis.ensembles:\n",
    "    myhist = tis.histograms['max_lambda'][ens]\n",
    "    plt.plot(myhist.plot_bins(), myhist.reverse_cumulative(1.0))"
   ]
  },
  {
   "cell_type": "code",
   "execution_count": null,
   "metadata": {
    "collapsed": true
   },
   "outputs": [],
   "source": []
  },
  {
   "cell_type": "code",
   "execution_count": null,
   "metadata": {
    "collapsed": true
   },
   "outputs": [],
   "source": []
  }
 ],
 "metadata": {
  "kernelspec": {
   "display_name": "Python 2",
   "language": "python",
   "name": "python2"
  },
  "language_info": {
   "codemirror_mode": {
    "name": "ipython",
    "version": 2
   },
   "file_extension": ".py",
   "mimetype": "text/x-python",
   "name": "python",
   "nbconvert_exporter": "python",
   "pygments_lexer": "ipython2",
   "version": "2.7.9"
  }
 },
 "nbformat": 4,
 "nbformat_minor": 0
}

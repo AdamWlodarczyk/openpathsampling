{
 "cells": [
  {
   "cell_type": "code",
   "execution_count": 1,
   "metadata": {
    "collapsed": false
   },
   "outputs": [
    {
     "name": "stdout",
     "output_type": "stream",
     "text": [
      "12482\n"
     ]
    }
   ],
   "source": [
    "%matplotlib inline\n",
    "import matplotlib.pyplot as plt\n",
    "import openpathsampling as paths\n",
    "\n",
    "from openpathsampling.analysis.tis_analysis import TISTransition\n",
    "\n",
    "storage = paths.storage.Storage(\"toy_tis.nc\")\n",
    "print len(storage.sample)"
   ]
  },
  {
   "cell_type": "code",
   "execution_count": 2,
   "metadata": {
    "collapsed": false
   },
   "outputs": [
    {
     "name": "stdout",
     "output_type": "stream",
     "text": [
      "10001\n"
     ]
    }
   ],
   "source": [
    "print len(storage.sampleset)"
   ]
  },
  {
   "cell_type": "code",
   "execution_count": 3,
   "metadata": {
    "collapsed": false
   },
   "outputs": [
    {
     "name": "stdout",
     "output_type": "stream",
     "text": [
      "[<Sample @ 0x118455f50>, <Sample @ 0x11842df50>, <Sample @ 0x11844ddd0>, <Sample @ 0x11845d890>, <Sample @ 0x1184e9e50>, <Sample @ 0x1184ef810>, <Sample @ 0x1189f4a50>]\n"
     ]
    }
   ],
   "source": [
    "print storage.sampleset[0].samples"
   ]
  },
  {
   "cell_type": "code",
   "execution_count": 4,
   "metadata": {
    "collapsed": false
   },
   "outputs": [],
   "source": [
    "ensembles = [[s.ensemble for s in storage.sampleset[0] if s.replica==r][0] for r in range(-1, len(storage.ensemble)-2)]"
   ]
  },
  {
   "cell_type": "code",
   "execution_count": 5,
   "metadata": {
    "collapsed": false
   },
   "outputs": [
    {
     "data": {
      "text/plain": [
       "[<openpathsampling.ensemble.MinusInterfaceEnsemble at 0x1184efad0>,\n",
       " <openpathsampling.ensemble.SequentialEnsemble at 0x11845d290>,\n",
       " <openpathsampling.ensemble.SequentialEnsemble at 0x10ff6f950>,\n",
       " <openpathsampling.ensemble.SequentialEnsemble at 0x118455810>,\n",
       " <openpathsampling.ensemble.SequentialEnsemble at 0x11844d2d0>,\n",
       " <openpathsampling.ensemble.SequentialEnsemble at 0x1184e9a50>,\n",
       " <openpathsampling.ensemble.SequentialEnsemble at 0x11842d610>]"
      ]
     },
     "execution_count": 5,
     "metadata": {},
     "output_type": "execute_result"
    }
   ],
   "source": [
    "ensembles"
   ]
  },
  {
   "cell_type": "code",
   "execution_count": 6,
   "metadata": {
    "collapsed": false
   },
   "outputs": [],
   "source": [
    "stateA = ensembles[1].ensembles[2].ensemble.volume.volume1\n",
    "stateB = ensembles[1].ensembles[2].ensemble.volume.volume2\n",
    "interfaces = [e.ensembles[1].ensemble2.volume for e in ensembles[1:]]\n",
    "op = ensembles[1].ensembles[0].ensemble.volume.orderparameter"
   ]
  },
  {
   "cell_type": "code",
   "execution_count": 7,
   "metadata": {
    "collapsed": false
   },
   "outputs": [
    {
     "name": "stdout",
     "output_type": "stream",
     "text": [
      "[-0.3, -0.25, -0.2, -0.13, -0.05, 0.0]\n"
     ]
    }
   ],
   "source": [
    "lmax = [e.ensembles[1].ensemble2.volume.lambda_max for e in ensembles[1:]]\n",
    "print lmax"
   ]
  },
  {
   "cell_type": "code",
   "execution_count": 8,
   "metadata": {
    "collapsed": true
   },
   "outputs": [],
   "source": [
    "storage.variables['sample_ensemble_idx'][:]\n",
    "tt = storage.variables['trajectory_snapshot_idx']\n",
    "all_lengths =  [len(storage.variables['trajectory_snapshot_idx'][nn]) for nn in range(len(storage.trajectory))]"
   ]
  },
  {
   "cell_type": "code",
   "execution_count": 10,
   "metadata": {
    "collapsed": false
   },
   "outputs": [
    {
     "name": "stdout",
     "output_type": "stream",
     "text": [
      "CPU times: user 707 µs, sys: 194 µs, total: 901 µs\n",
      "Wall time: 787 µs\n"
     ]
    }
   ],
   "source": [
    "%%time\n",
    "tis = TISTransition(stateA=stateA, stateB=stateB, orderparameter=op, interfaces=interfaces, storage=storage)"
   ]
  },
  {
   "cell_type": "code",
   "execution_count": 11,
   "metadata": {
    "collapsed": false
   },
   "outputs": [
    {
     "name": "stdout",
     "output_type": "stream",
     "text": [
      "CPU times: user 4min 35s, sys: 24.9 s, total: 5min\n",
      "Wall time: 5min 1s\n"
     ]
    }
   ],
   "source": [
    "%%time\n",
    "tis.ensemble_statistics(ensemble=ensembles[1], samples=storage.sample, weights=None, force=True)"
   ]
  },
  {
   "cell_type": "code",
   "execution_count": 12,
   "metadata": {
    "collapsed": false
   },
   "outputs": [
    {
     "name": "stdout",
     "output_type": "stream",
     "text": [
      "{'pathlength': {<openpathsampling.ensemble.SequentialEnsemble object at 0x118db32d0>: <openpathsampling.analysis.histogram.Histogram object at 0x1194801d0>}}\n"
     ]
    }
   ],
   "source": [
    "print tis.histograms"
   ]
  },
  {
   "cell_type": "code",
   "execution_count": 13,
   "metadata": {
    "collapsed": false
   },
   "outputs": [],
   "source": [
    "# for sample_set[ssetid], if exists sample in `ensemble`, return list of op(sample.trajectory)\n",
    "#storage.query_orderparameter_trajectory(orderparameter, ensemble=None, replica=None, step=None, trial=False) #"
   ]
  },
  {
   "cell_type": "code",
   "execution_count": 14,
   "metadata": {
    "collapsed": false
   },
   "outputs": [
    {
     "data": {
      "image/png": "[encoded data removed]",
      "text/plain": [
       "<matplotlib.figure.Figure at 0x119480190>"
      ]
     },
     "metadata": {},
     "output_type": "display_data"
    }
   ],
   "source": [
    "tis.histograms['pathlength'][ensembles[1]].plt_plot()"
   ]
  },
  {
   "cell_type": "code",
   "execution_count": 15,
   "metadata": {
    "collapsed": false
   },
   "outputs": [
    {
     "name": "stdout",
     "output_type": "stream",
     "text": [
      "CPU times: user 1.55 s, sys: 78.9 ms, total: 1.63 s\n",
      "Wall time: 1.63 s\n"
     ]
    }
   ],
   "source": [
    "%%time\n",
    "tis.ensemble_statistics(ensemble=ensembles[1], samples=storage.sample, weights=None, force=True)"
   ]
  },
  {
   "cell_type": "code",
   "execution_count": null,
   "metadata": {
    "collapsed": true
   },
   "outputs": [],
   "source": []
  }
 ],
 "metadata": {
  "kernelspec": {
   "display_name": "Python 2",
   "language": "python",
   "name": "python2"
  },
  "language_info": {
   "codemirror_mode": {
    "name": "ipython",
    "version": 2
   },
   "file_extension": ".py",
   "mimetype": "text/x-python",
   "name": "python",
   "nbconvert_exporter": "python",
   "pygments_lexer": "ipython2",
   "version": "2.7.9"
  }
 },
 "nbformat": 4,
 "nbformat_minor": 0
}

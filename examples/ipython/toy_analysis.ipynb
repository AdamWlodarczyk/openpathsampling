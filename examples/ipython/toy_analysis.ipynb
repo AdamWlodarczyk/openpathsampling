{
 "metadata": {
  "name": "",
  "signature": "sha256:a9861131ca11613a7b49894a794dc2363c4432fab8780c44501a987f74b511f8"
 },
 "nbformat": 3,
 "nbformat_minor": 0,
 "worksheets": [
  {
   "cells": [
    {
     "cell_type": "code",
     "collapsed": false,
     "input": [
      "import openpathsampling as paths\n",
      "\n",
      "from openpathsampling.analysis.tis_analysis import TISTransition\n",
      "\n",
      "storage = paths.storage.Storage(\"toy_tis.nc\")\n",
      "print len(storage.sample)"
     ],
     "language": "python",
     "metadata": {},
     "outputs": []
    },
    {
     "cell_type": "code",
     "collapsed": false,
     "input": [
      "ensembles = [[s.ensemble for s in storage.sample if s.replica==r][0] for r in range(-1, len(storage.ensemble)-2)]\n",
      "stateA = ensembles[1].ensembles[2].ensemble.volume.volume1\n",
      "stateB = ensembles[1].ensembles[2].ensemble.volume.volume2\n",
      "interfaces = [e.ensembles[1].ensemble2.volume for e in ensembles[1:]]\n",
      "op = ensembles[1].ensembles[0].ensemble.volume.orderparameter"
     ],
     "language": "python",
     "metadata": {},
     "outputs": []
    },
    {
     "cell_type": "code",
     "collapsed": false,
     "input": [
      "lmax = [e.ensembles[1].ensemble2.volume.lambda_max for e in ensembles[1:]]\n",
      "print lmax"
     ],
     "language": "python",
     "metadata": {},
     "outputs": []
    },
    {
     "cell_type": "code",
     "collapsed": false,
     "input": [
      "tis = TISTransition(stateA=stateA, stateB=stateB, orderparameter=op, interfaces=interfaces, storage=storage)"
     ],
     "language": "python",
     "metadata": {},
     "outputs": []
    },
    {
     "cell_type": "code",
     "collapsed": false,
     "input": [
      "tis.ensemble_statistics(ensemble=ensembles[1], data=storage.sample, weights=None, force=True)"
     ],
     "language": "python",
     "metadata": {},
     "outputs": []
    },
    {
     "cell_type": "code",
     "collapsed": false,
     "input": [],
     "language": "python",
     "metadata": {},
     "outputs": []
    }
   ],
   "metadata": {}
  }
 ]
}
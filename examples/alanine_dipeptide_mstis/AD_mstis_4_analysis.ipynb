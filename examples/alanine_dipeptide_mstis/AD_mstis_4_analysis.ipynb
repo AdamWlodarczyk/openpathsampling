{
 "cells": [
  {
   "cell_type": "markdown",
   "metadata": {},
   "source": [
    "# Analyzing the MSTIS simulation\n",
    "\n",
    "Included in this notebook:\n",
    "\n",
    "* Opening files for analysis\n",
    "* Rates, fluxes, total crossing probabilities, and condition transition probabilities\n",
    "* Per-ensemble properties such as path length distributions and interface crossing probabilities\n",
    "* Move scheme analysis\n",
    "* Replica exchange analysis\n",
    "* Replica move history tree visualization\n",
    "* Replaying the simulation\n",
    "* MORE TO COME! Like free energy projections, path density plots, and more"
   ]
  },
  {
   "cell_type": "code",
   "execution_count": 1,
   "metadata": {
    "collapsed": true
   },
   "outputs": [],
   "source": [
    "%matplotlib inline\n",
    "import matplotlib.pyplot as plt\n",
    "import openpathsampling as paths\n",
    "import numpy as np"
   ]
  },
  {
   "cell_type": "markdown",
   "metadata": {},
   "source": [
    "The optimum way to use storage depends on whether you're doing production or analysis. For analysis, you should open the file as an `AnalysisStorage` object. This makes the analysis much faster."
   ]
  },
  {
   "cell_type": "code",
   "execution_count": 2,
   "metadata": {},
   "outputs": [
    {
     "name": "stdout",
     "output_type": "stream",
     "text": [
      "CPU times: user 22.1 s, sys: 1.55 s, total: 23.6 s\n",
      "Wall time: 23.8 s\n"
     ]
    }
   ],
   "source": [
    "%%time\n",
    "storage = paths.AnalysisStorage(\"ala_mstis_production.nc\")"
   ]
  },
  {
   "cell_type": "code",
   "execution_count": 3,
   "metadata": {},
   "outputs": [
    {
     "name": "stdout",
     "output_type": "stream",
     "text": [
      "PathMovers: 125\n",
      "Engines: 3\n",
      "Samples: 2654\n",
      "Ensembles: 227\n",
      "SampleSets: 2001\n",
      "Snapshots: 103078\n",
      "Trajectories: 1612\n",
      "Networks: 1\n"
     ]
    }
   ],
   "source": [
    "print \"PathMovers:\", len(storage.pathmovers)\n",
    "print \"Engines:\", len(storage.engines)\n",
    "print \"Samples:\", len(storage.samples)\n",
    "print \"Ensembles:\", len(storage.ensembles)\n",
    "print \"SampleSets:\", len(storage.samplesets)\n",
    "print \"Snapshots:\", len(storage.snapshots)\n",
    "print \"Trajectories:\", len(storage.trajectories)\n",
    "print \"Networks:\", len(storage.networks)"
   ]
  },
  {
   "cell_type": "code",
   "execution_count": 4,
   "metadata": {
    "scrolled": true
   },
   "outputs": [
    {
     "name": "stdout",
     "output_type": "stream",
     "text": [
      "CPU times: user 14 µs, sys: 1 µs, total: 15 µs\n",
      "Wall time: 18.1 µs\n"
     ]
    }
   ],
   "source": [
    "%%time\n",
    "mstis = storage.networks[0]"
   ]
  },
  {
   "cell_type": "code",
   "execution_count": 5,
   "metadata": {},
   "outputs": [
    {
     "name": "stdout",
     "output_type": "stream",
     "text": [
      "opB None\n",
      "phi <openpathsampling.netcdfplus.chaindict.StoredDict object at 0x114c07390>\n",
      "psi <openpathsampling.netcdfplus.chaindict.StoredDict object at 0x11a62d710>\n",
      "opA None\n",
      "opC None\n",
      "opD None\n",
      "opF None\n",
      "opE None\n",
      "CPU times: user 2.2 ms, sys: 1.73 ms, total: 3.94 ms\n",
      "Wall time: 2.45 ms\n"
     ]
    }
   ],
   "source": [
    "%%time\n",
    "for cv in storage.cvs:\n",
    "    print cv.name, cv._store_dict"
   ]
  },
  {
   "cell_type": "markdown",
   "metadata": {},
   "source": [
    "## Reaction rates\n",
    "\n",
    "TIS methods are especially good at determining reaction rates, and OPS makes it extremely easy to obtain the rate from a TIS network.\n",
    "\n",
    "Note that, although you can get the rate directly, it is very important to look at other results of the sampling (illustrated in this notebook and in notebooks referred to herein) in order to check the validity of the rates you obtain."
   ]
  },
  {
   "cell_type": "markdown",
   "metadata": {},
   "source": [
    "By default, the built-in analysis calculates histograms the maximum value of some order parameter and the pathlength of every sampled ensemble. You can add other things to this list as well, but you must always specify histogram parameters for these two. The pathlength is in units of frames."
   ]
  },
  {
   "cell_type": "code",
   "execution_count": 6,
   "metadata": {
    "collapsed": true
   },
   "outputs": [],
   "source": [
    "mstis.hist_args['max_lambda'] = { 'bin_width' : 2, 'bin_range' : (0.0, 90) }\n",
    "mstis.hist_args['pathlength'] = { 'bin_width' : 5, 'bin_range' : (0, 100) }"
   ]
  },
  {
   "cell_type": "code",
   "execution_count": 7,
   "metadata": {},
   "outputs": [
    {
     "name": "stderr",
     "output_type": "stream",
     "text": [
      "/Users/bolhuis/git/openpathsampling/openpathsampling/numerics/wham.py:336: RuntimeWarning: invalid value encountered in divide\n",
      "  addends_k = np.divide(numerator_byQ, sum_over_Z_byQ)\n",
      "/Users/bolhuis/git/openpathsampling/openpathsampling/numerics/wham.py:409: RuntimeWarning: invalid value encountered in double_scalars\n",
      "  output[val] = sum_k_Hk_Q[val] / sum_w_over_Z\n"
     ]
    },
    {
     "name": "stdout",
     "output_type": "stream",
     "text": [
      "CPU times: user 5.23 s, sys: 38.8 ms, total: 5.26 s\n",
      "Wall time: 5.25 s\n"
     ]
    },
    {
     "data": {
      "text/html": [
       "<div>\n",
       "<style>\n",
       "    .dataframe thead tr:only-child th {\n",
       "        text-align: right;\n",
       "    }\n",
       "\n",
       "    .dataframe thead th {\n",
       "        text-align: left;\n",
       "    }\n",
       "\n",
       "    .dataframe tbody tr th {\n",
       "        vertical-align: top;\n",
       "    }\n",
       "</style>\n",
       "<table border=\"1\" class=\"dataframe\">\n",
       "  <thead>\n",
       "    <tr style=\"text-align: right;\">\n",
       "      <th></th>\n",
       "      <th>A</th>\n",
       "      <th>B</th>\n",
       "      <th>C</th>\n",
       "      <th>D</th>\n",
       "    </tr>\n",
       "  </thead>\n",
       "  <tbody>\n",
       "    <tr>\n",
       "      <th>A</th>\n",
       "      <td>NaN</td>\n",
       "      <td>0.0554563717468 /ps</td>\n",
       "      <td>0.00638917535938 /ps</td>\n",
       "      <td>0.0 /ps</td>\n",
       "    </tr>\n",
       "    <tr>\n",
       "      <th>B</th>\n",
       "      <td>0.163505141577 /ps</td>\n",
       "      <td>NaN</td>\n",
       "      <td>0.00597118669563 /ps</td>\n",
       "      <td>0.0 /ps</td>\n",
       "    </tr>\n",
       "    <tr>\n",
       "      <th>C</th>\n",
       "      <td>0.0367656046865 /ps</td>\n",
       "      <td>0.0245104031244 /ps</td>\n",
       "      <td>NaN</td>\n",
       "      <td>0.0263958187493 /ps</td>\n",
       "    </tr>\n",
       "    <tr>\n",
       "      <th>D</th>\n",
       "      <td>0.0 /ps</td>\n",
       "      <td>0.0 /ps</td>\n",
       "      <td>0.201130041241 /ps</td>\n",
       "      <td>NaN</td>\n",
       "    </tr>\n",
       "  </tbody>\n",
       "</table>\n",
       "</div>"
      ],
      "text/plain": [
       "                     A                    B                     C  \\\n",
       "A                  NaN  0.0554563717468 /ps  0.00638917535938 /ps   \n",
       "B   0.163505141577 /ps                  NaN  0.00597118669563 /ps   \n",
       "C  0.0367656046865 /ps  0.0245104031244 /ps                   NaN   \n",
       "D              0.0 /ps              0.0 /ps    0.201130041241 /ps   \n",
       "\n",
       "                     D  \n",
       "A              0.0 /ps  \n",
       "B              0.0 /ps  \n",
       "C  0.0263958187493 /ps  \n",
       "D                  NaN  "
      ]
     },
     "execution_count": 7,
     "metadata": {},
     "output_type": "execute_result"
    }
   ],
   "source": [
    "%%time\n",
    "mstis.rate_matrix(storage.steps, force=True)"
   ]
  },
  {
   "cell_type": "markdown",
   "metadata": {
    "collapsed": true
   },
   "source": [
    "The self-rates (the rate of returning the to initial state) are undefined, and return not-a-number.\n",
    "\n",
    "The rate is calcuated according to the formula:\n",
    "\n",
    "$$k_{AB} = \\phi_{A,0} P(B|\\lambda_m) \\prod_{i=0}^{m-1} P(\\lambda_{i+1} | \\lambda_i)$$\n",
    "\n",
    "where $\\phi_{A,0}$ is the flux from state A through its innermost interface, $P(B|\\lambda_m)$ is the conditional transition probability (the probability that a path which crosses the interface at $\\lambda_m$ ends in state B), and $\\prod_{i=0}^{m-1} P(\\lambda_{i+1} | \\lambda_i)$ is the total crossing probability. We can look at each of these terms individually."
   ]
  },
  {
   "cell_type": "markdown",
   "metadata": {},
   "source": [
    "### Total crossing probability"
   ]
  },
  {
   "cell_type": "code",
   "execution_count": 8,
   "metadata": {
    "collapsed": true
   },
   "outputs": [],
   "source": [
    "stateA = storage.volumes[\"A\"]\n",
    "stateB = storage.volumes[\"B\"]\n",
    "stateC = storage.volumes[\"C\"]"
   ]
  },
  {
   "cell_type": "code",
   "execution_count": 9,
   "metadata": {},
   "outputs": [
    {
     "data": {
      "text/plain": [
       "[<matplotlib.lines.Line2D at 0x122f78890>]"
      ]
     },
     "execution_count": 9,
     "metadata": {},
     "output_type": "execute_result"
    },
    {
     "data": {
      "image/png": "[encoded data removed]",
      "text/plain": [
       "<matplotlib.figure.Figure at 0x122ecfc90>"
      ]
     },
     "metadata": {},
     "output_type": "display_data"
    }
   ],
   "source": [
    "tcp_AB = mstis.transitions[(stateA, stateB)].tcp\n",
    "tcp_AC = mstis.transitions[(stateA, stateC)].tcp\n",
    "tcp_BC = mstis.transitions[(stateB, stateC)].tcp\n",
    "tcp_BA = mstis.transitions[(stateB, stateA)].tcp\n",
    "tcp_CA = mstis.transitions[(stateC, stateA)].tcp\n",
    "tcp_CB = mstis.transitions[(stateC, stateB)].tcp\n",
    "\n",
    "plt.plot(tcp_AB.x, tcp_AB)\n",
    "plt.plot(tcp_CA.x, tcp_CA)\n",
    "plt.plot(tcp_BC.x, tcp_BC)\n",
    "plt.plot(tcp_AC.x, tcp_AC) # same as tcp_AB in MSTIS"
   ]
  },
  {
   "cell_type": "markdown",
   "metadata": {},
   "source": [
    "We normally look at these on a log scale:"
   ]
  },
  {
   "cell_type": "code",
   "execution_count": 10,
   "metadata": {},
   "outputs": [
    {
     "data": {
      "text/plain": [
       "[<matplotlib.lines.Line2D at 0x1230cb0d0>]"
      ]
     },
     "execution_count": 10,
     "metadata": {},
     "output_type": "execute_result"
    },
    {
     "data": {
      "image/png": "[encoded data removed]",
      "text/plain": [
       "<matplotlib.figure.Figure at 0x122f193d0>"
      ]
     },
     "metadata": {},
     "output_type": "display_data"
    }
   ],
   "source": [
    "plt.plot(tcp_AB.x, np.log(tcp_AB))\n",
    "plt.plot(tcp_CA.x, np.log(tcp_CA))\n",
    "plt.plot(tcp_BC.x, np.log(tcp_BC))"
   ]
  },
  {
   "cell_type": "markdown",
   "metadata": {},
   "source": [
    "### Flux\n",
    "\n",
    "Here we also calculate the flux contribution to each transition. The flux is calculated based on "
   ]
  },
  {
   "cell_type": "code",
   "execution_count": 11,
   "metadata": {},
   "outputs": [
    {
     "data": {
      "text/html": [
       "<div>\n",
       "<style>\n",
       "    .dataframe thead tr:only-child th {\n",
       "        text-align: right;\n",
       "    }\n",
       "\n",
       "    .dataframe thead th {\n",
       "        text-align: left;\n",
       "    }\n",
       "\n",
       "    .dataframe tbody tr th {\n",
       "        vertical-align: top;\n",
       "    }\n",
       "</style>\n",
       "<table border=\"1\" class=\"dataframe\">\n",
       "  <thead>\n",
       "    <tr style=\"text-align: right;\">\n",
       "      <th></th>\n",
       "      <th>{x|opA(x) in [0.0, 10.0]}</th>\n",
       "      <th>{x|opB(x) in [0.0, 10.0]}</th>\n",
       "      <th>{x|opC(x) in [0.0, 10.0]}</th>\n",
       "      <th>{x|opD(x) in [0.0, 10.0]}</th>\n",
       "    </tr>\n",
       "  </thead>\n",
       "  <tbody>\n",
       "    <tr>\n",
       "      <th>{x|opA(x) in [0.0, 10.0]}</th>\n",
       "      <td>NaN</td>\n",
       "      <td>2.49221183801 /ps</td>\n",
       "      <td>2.49221183801 /ps</td>\n",
       "      <td>2.49221183801 /ps</td>\n",
       "    </tr>\n",
       "    <tr>\n",
       "      <th>{x|opB(x) in [0.0, 10.0]}</th>\n",
       "      <td>0.9977827051 /ps</td>\n",
       "      <td>NaN</td>\n",
       "      <td>0.9977827051 /ps</td>\n",
       "      <td>0.9977827051 /ps</td>\n",
       "    </tr>\n",
       "    <tr>\n",
       "      <th>{x|opC(x) in [0.0, 10.0]}</th>\n",
       "      <td>0.529100529101 /ps</td>\n",
       "      <td>0.529100529101 /ps</td>\n",
       "      <td>NaN</td>\n",
       "      <td>0.529100529101 /ps</td>\n",
       "    </tr>\n",
       "    <tr>\n",
       "      <th>{x|opD(x) in [0.0, 10.0]}</th>\n",
       "      <td>1.80055401662 /ps</td>\n",
       "      <td>1.80055401662 /ps</td>\n",
       "      <td>1.80055401662 /ps</td>\n",
       "      <td>NaN</td>\n",
       "    </tr>\n",
       "  </tbody>\n",
       "</table>\n",
       "</div>"
      ],
      "text/plain": [
       "                          {x|opA(x) in [0.0, 10.0]} {x|opB(x) in [0.0, 10.0]}  \\\n",
       "{x|opA(x) in [0.0, 10.0]}                       NaN         2.49221183801 /ps   \n",
       "{x|opB(x) in [0.0, 10.0]}          0.9977827051 /ps                       NaN   \n",
       "{x|opC(x) in [0.0, 10.0]}        0.529100529101 /ps        0.529100529101 /ps   \n",
       "{x|opD(x) in [0.0, 10.0]}         1.80055401662 /ps         1.80055401662 /ps   \n",
       "\n",
       "                          {x|opC(x) in [0.0, 10.0]} {x|opD(x) in [0.0, 10.0]}  \n",
       "{x|opA(x) in [0.0, 10.0]}         2.49221183801 /ps         2.49221183801 /ps  \n",
       "{x|opB(x) in [0.0, 10.0]}          0.9977827051 /ps          0.9977827051 /ps  \n",
       "{x|opC(x) in [0.0, 10.0]}                       NaN        0.529100529101 /ps  \n",
       "{x|opD(x) in [0.0, 10.0]}         1.80055401662 /ps                       NaN  "
      ]
     },
     "execution_count": 11,
     "metadata": {},
     "output_type": "execute_result"
    }
   ],
   "source": [
    "import pandas as pd\n",
    "flux_matrix = pd.DataFrame(columns=mstis.states, index=mstis.states)\n",
    "for state_pair in mstis.transitions:\n",
    "    transition = mstis.transitions[state_pair]\n",
    "    flux_matrix.set_value(state_pair[0], state_pair[1], transition._flux)\n",
    "\n",
    "flux_matrix"
   ]
  },
  {
   "cell_type": "markdown",
   "metadata": {},
   "source": [
    "### Conditional transition probability"
   ]
  },
  {
   "cell_type": "code",
   "execution_count": 12,
   "metadata": {},
   "outputs": [
    {
     "data": {
      "text/html": [
       "<div>\n",
       "<style>\n",
       "    .dataframe thead tr:only-child th {\n",
       "        text-align: right;\n",
       "    }\n",
       "\n",
       "    .dataframe thead th {\n",
       "        text-align: left;\n",
       "    }\n",
       "\n",
       "    .dataframe tbody tr th {\n",
       "        vertical-align: top;\n",
       "    }\n",
       "</style>\n",
       "<table border=\"1\" class=\"dataframe\">\n",
       "  <thead>\n",
       "    <tr style=\"text-align: right;\">\n",
       "      <th></th>\n",
       "      <th>{x|opA(x) in [0.0, 10.0]}</th>\n",
       "      <th>{x|opB(x) in [0.0, 10.0]}</th>\n",
       "      <th>{x|opC(x) in [0.0, 10.0]}</th>\n",
       "      <th>{x|opD(x) in [0.0, 10.0]}</th>\n",
       "    </tr>\n",
       "  </thead>\n",
       "  <tbody>\n",
       "    <tr>\n",
       "      <th>{x|opA(x) in [0.0, 10.0]}</th>\n",
       "      <td>NaN</td>\n",
       "      <td>0.663668</td>\n",
       "      <td>0.0764618</td>\n",
       "      <td>0</td>\n",
       "    </tr>\n",
       "    <tr>\n",
       "      <th>{x|opB(x) in [0.0, 10.0]}</th>\n",
       "      <td>0.930535</td>\n",
       "      <td>NaN</td>\n",
       "      <td>0.033983</td>\n",
       "      <td>0</td>\n",
       "    </tr>\n",
       "    <tr>\n",
       "      <th>{x|opC(x) in [0.0, 10.0]}</th>\n",
       "      <td>0.350825</td>\n",
       "      <td>0.233883</td>\n",
       "      <td>NaN</td>\n",
       "      <td>0.251874</td>\n",
       "    </tr>\n",
       "    <tr>\n",
       "      <th>{x|opD(x) in [0.0, 10.0]}</th>\n",
       "      <td>0</td>\n",
       "      <td>0</td>\n",
       "      <td>0.321339</td>\n",
       "      <td>NaN</td>\n",
       "    </tr>\n",
       "  </tbody>\n",
       "</table>\n",
       "</div>"
      ],
      "text/plain": [
       "                          {x|opA(x) in [0.0, 10.0]} {x|opB(x) in [0.0, 10.0]}  \\\n",
       "{x|opA(x) in [0.0, 10.0]}                       NaN                  0.663668   \n",
       "{x|opB(x) in [0.0, 10.0]}                  0.930535                       NaN   \n",
       "{x|opC(x) in [0.0, 10.0]}                  0.350825                  0.233883   \n",
       "{x|opD(x) in [0.0, 10.0]}                         0                         0   \n",
       "\n",
       "                          {x|opC(x) in [0.0, 10.0]} {x|opD(x) in [0.0, 10.0]}  \n",
       "{x|opA(x) in [0.0, 10.0]}                 0.0764618                         0  \n",
       "{x|opB(x) in [0.0, 10.0]}                  0.033983                         0  \n",
       "{x|opC(x) in [0.0, 10.0]}                       NaN                  0.251874  \n",
       "{x|opD(x) in [0.0, 10.0]}                  0.321339                       NaN  "
      ]
     },
     "execution_count": 12,
     "metadata": {},
     "output_type": "execute_result"
    }
   ],
   "source": [
    "outer_ctp_matrix = pd.DataFrame(columns=mstis.states, index=mstis.states)\n",
    "for state_pair in mstis.transitions:\n",
    "    transition = mstis.transitions[state_pair]\n",
    "    outer_ctp_matrix.set_value(state_pair[0], state_pair[1], transition.ctp[transition.ensembles[-1]])    \n",
    "\n",
    "outer_ctp_matrix"
   ]
  },
  {
   "cell_type": "code",
   "execution_count": 13,
   "metadata": {},
   "outputs": [
    {
     "data": {
      "text/html": [
       "<div>\n",
       "<style>\n",
       "    .dataframe thead tr:only-child th {\n",
       "        text-align: right;\n",
       "    }\n",
       "\n",
       "    .dataframe thead th {\n",
       "        text-align: left;\n",
       "    }\n",
       "\n",
       "    .dataframe tbody tr th {\n",
       "        vertical-align: top;\n",
       "    }\n",
       "</style>\n",
       "<table border=\"1\" class=\"dataframe\">\n",
       "  <thead>\n",
       "    <tr style=\"text-align: right;\">\n",
       "      <th></th>\n",
       "      <th>0</th>\n",
       "      <th>1</th>\n",
       "      <th>2</th>\n",
       "      <th>3</th>\n",
       "    </tr>\n",
       "  </thead>\n",
       "  <tbody>\n",
       "    <tr>\n",
       "      <th>({x|opA(x) in [0.0, 10.0]}, {x|opB(x) in [0.0, 10.0]})</th>\n",
       "      <td>0.000000</td>\n",
       "      <td>0.165917</td>\n",
       "      <td>0.658171</td>\n",
       "      <td>0.663668</td>\n",
       "    </tr>\n",
       "    <tr>\n",
       "      <th>({x|opD(x) in [0.0, 10.0]}, {x|opC(x) in [0.0, 10.0]})</th>\n",
       "      <td>0.189405</td>\n",
       "      <td>0.129435</td>\n",
       "      <td>0.321339</td>\n",
       "      <td>NaN</td>\n",
       "    </tr>\n",
       "    <tr>\n",
       "      <th>({x|opD(x) in [0.0, 10.0]}, {x|opB(x) in [0.0, 10.0]})</th>\n",
       "      <td>0.000000</td>\n",
       "      <td>0.000000</td>\n",
       "      <td>0.000000</td>\n",
       "      <td>NaN</td>\n",
       "    </tr>\n",
       "    <tr>\n",
       "      <th>({x|opB(x) in [0.0, 10.0]}, {x|opC(x) in [0.0, 10.0]})</th>\n",
       "      <td>0.000000</td>\n",
       "      <td>0.000000</td>\n",
       "      <td>0.000000</td>\n",
       "      <td>0.033983</td>\n",
       "    </tr>\n",
       "    <tr>\n",
       "      <th>({x|opC(x) in [0.0, 10.0]}, {x|opA(x) in [0.0, 10.0]})</th>\n",
       "      <td>0.005997</td>\n",
       "      <td>0.281859</td>\n",
       "      <td>0.350825</td>\n",
       "      <td>NaN</td>\n",
       "    </tr>\n",
       "    <tr>\n",
       "      <th>({x|opA(x) in [0.0, 10.0]}, {x|opD(x) in [0.0, 10.0]})</th>\n",
       "      <td>0.000000</td>\n",
       "      <td>0.000000</td>\n",
       "      <td>0.000000</td>\n",
       "      <td>0.000000</td>\n",
       "    </tr>\n",
       "    <tr>\n",
       "      <th>({x|opC(x) in [0.0, 10.0]}, {x|opB(x) in [0.0, 10.0]})</th>\n",
       "      <td>0.040480</td>\n",
       "      <td>0.119940</td>\n",
       "      <td>0.233883</td>\n",
       "      <td>NaN</td>\n",
       "    </tr>\n",
       "    <tr>\n",
       "      <th>({x|opB(x) in [0.0, 10.0]}, {x|opA(x) in [0.0, 10.0]})</th>\n",
       "      <td>0.135932</td>\n",
       "      <td>0.250375</td>\n",
       "      <td>0.425287</td>\n",
       "      <td>0.930535</td>\n",
       "    </tr>\n",
       "    <tr>\n",
       "      <th>({x|opC(x) in [0.0, 10.0]}, {x|opD(x) in [0.0, 10.0]})</th>\n",
       "      <td>0.018491</td>\n",
       "      <td>0.155422</td>\n",
       "      <td>0.251874</td>\n",
       "      <td>NaN</td>\n",
       "    </tr>\n",
       "    <tr>\n",
       "      <th>({x|opA(x) in [0.0, 10.0]}, {x|opC(x) in [0.0, 10.0]})</th>\n",
       "      <td>0.000000</td>\n",
       "      <td>0.000000</td>\n",
       "      <td>0.056972</td>\n",
       "      <td>0.076462</td>\n",
       "    </tr>\n",
       "    <tr>\n",
       "      <th>({x|opB(x) in [0.0, 10.0]}, {x|opD(x) in [0.0, 10.0]})</th>\n",
       "      <td>0.000000</td>\n",
       "      <td>0.040980</td>\n",
       "      <td>0.045977</td>\n",
       "      <td>0.000000</td>\n",
       "    </tr>\n",
       "    <tr>\n",
       "      <th>({x|opD(x) in [0.0, 10.0]}, {x|opA(x) in [0.0, 10.0]})</th>\n",
       "      <td>0.000000</td>\n",
       "      <td>0.000000</td>\n",
       "      <td>0.000000</td>\n",
       "      <td>NaN</td>\n",
       "    </tr>\n",
       "  </tbody>\n",
       "</table>\n",
       "</div>"
      ],
      "text/plain": [
       "                                                           0         1  \\\n",
       "({x|opA(x) in [0.0, 10.0]}, {x|opB(x) in [0.0, ...  0.000000  0.165917   \n",
       "({x|opD(x) in [0.0, 10.0]}, {x|opC(x) in [0.0, ...  0.189405  0.129435   \n",
       "({x|opD(x) in [0.0, 10.0]}, {x|opB(x) in [0.0, ...  0.000000  0.000000   \n",
       "({x|opB(x) in [0.0, 10.0]}, {x|opC(x) in [0.0, ...  0.000000  0.000000   \n",
       "({x|opC(x) in [0.0, 10.0]}, {x|opA(x) in [0.0, ...  0.005997  0.281859   \n",
       "({x|opA(x) in [0.0, 10.0]}, {x|opD(x) in [0.0, ...  0.000000  0.000000   \n",
       "({x|opC(x) in [0.0, 10.0]}, {x|opB(x) in [0.0, ...  0.040480  0.119940   \n",
       "({x|opB(x) in [0.0, 10.0]}, {x|opA(x) in [0.0, ...  0.135932  0.250375   \n",
       "({x|opC(x) in [0.0, 10.0]}, {x|opD(x) in [0.0, ...  0.018491  0.155422   \n",
       "({x|opA(x) in [0.0, 10.0]}, {x|opC(x) in [0.0, ...  0.000000  0.000000   \n",
       "({x|opB(x) in [0.0, 10.0]}, {x|opD(x) in [0.0, ...  0.000000  0.040980   \n",
       "({x|opD(x) in [0.0, 10.0]}, {x|opA(x) in [0.0, ...  0.000000  0.000000   \n",
       "\n",
       "                                                           2         3  \n",
       "({x|opA(x) in [0.0, 10.0]}, {x|opB(x) in [0.0, ...  0.658171  0.663668  \n",
       "({x|opD(x) in [0.0, 10.0]}, {x|opC(x) in [0.0, ...  0.321339       NaN  \n",
       "({x|opD(x) in [0.0, 10.0]}, {x|opB(x) in [0.0, ...  0.000000       NaN  \n",
       "({x|opB(x) in [0.0, 10.0]}, {x|opC(x) in [0.0, ...  0.000000  0.033983  \n",
       "({x|opC(x) in [0.0, 10.0]}, {x|opA(x) in [0.0, ...  0.350825       NaN  \n",
       "({x|opA(x) in [0.0, 10.0]}, {x|opD(x) in [0.0, ...  0.000000  0.000000  \n",
       "({x|opC(x) in [0.0, 10.0]}, {x|opB(x) in [0.0, ...  0.233883       NaN  \n",
       "({x|opB(x) in [0.0, 10.0]}, {x|opA(x) in [0.0, ...  0.425287  0.930535  \n",
       "({x|opC(x) in [0.0, 10.0]}, {x|opD(x) in [0.0, ...  0.251874       NaN  \n",
       "({x|opA(x) in [0.0, 10.0]}, {x|opC(x) in [0.0, ...  0.056972  0.076462  \n",
       "({x|opB(x) in [0.0, 10.0]}, {x|opD(x) in [0.0, ...  0.045977  0.000000  \n",
       "({x|opD(x) in [0.0, 10.0]}, {x|opA(x) in [0.0, ...  0.000000       NaN  "
      ]
     },
     "execution_count": 13,
     "metadata": {},
     "output_type": "execute_result"
    }
   ],
   "source": [
    "ctp_by_interface = pd.DataFrame(index=mstis.transitions)\n",
    "for state_pair in mstis.transitions:\n",
    "    transition = mstis.transitions[state_pair]\n",
    "    for ensemble_i in range(len(transition.ensembles)):\n",
    "        ctp_by_interface.set_value(\n",
    "            state_pair, ensemble_i,\n",
    "            transition.conditional_transition_probability(\n",
    "                storage.steps,\n",
    "                transition.ensembles[ensemble_i]\n",
    "        ))\n",
    "    \n",
    "    \n",
    "ctp_by_interface  "
   ]
  },
  {
   "cell_type": "markdown",
   "metadata": {},
   "source": [
    "## Path ensemble properties"
   ]
  },
  {
   "cell_type": "code",
   "execution_count": 14,
   "metadata": {
    "collapsed": true
   },
   "outputs": [],
   "source": [
    "hists_A = mstis.transitions[(stateA, stateB)].histograms\n",
    "hists_B = mstis.transitions[(stateB, stateC)].histograms\n",
    "hists_C = mstis.transitions[(stateC, stateB)].histograms"
   ]
  },
  {
   "cell_type": "markdown",
   "metadata": {},
   "source": [
    "### Interface crossing probabilities\n",
    "\n",
    "We obtain the total crossing probability, shown above, by combining the individual crossing probabilities of "
   ]
  },
  {
   "cell_type": "code",
   "execution_count": 15,
   "metadata": {
    "scrolled": true
   },
   "outputs": [
    {
     "data": {
      "image/png": "[encoded data removed]",
      "text/plain": [
       "<matplotlib.figure.Figure at 0x122fa2910>"
      ]
     },
     "metadata": {},
     "output_type": "display_data"
    }
   ],
   "source": [
    "for hist in [hists_A, hists_B, hists_C]:\n",
    "    for ens in hist['max_lambda']:\n",
    "        normalized = hist['max_lambda'][ens].normalized()\n",
    "        plt.plot(normalized.x, normalized)"
   ]
  },
  {
   "cell_type": "code",
   "execution_count": 16,
   "metadata": {
    "collapsed": true
   },
   "outputs": [],
   "source": [
    "# add visualization of the sum"
   ]
  },
  {
   "cell_type": "code",
   "execution_count": 17,
   "metadata": {
    "scrolled": true
   },
   "outputs": [
    {
     "data": {
      "image/png": "[encoded data removed]",
      "text/plain": [
       "<matplotlib.figure.Figure at 0x122ff7f90>"
      ]
     },
     "metadata": {},
     "output_type": "display_data"
    }
   ],
   "source": [
    "for hist in [hists_A, hists_B, hists_C]:\n",
    "    for ens in hist['max_lambda']:\n",
    "        reverse_cumulative = hist['max_lambda'][ens].reverse_cumulative()\n",
    "        plt.plot(reverse_cumulative.x, reverse_cumulative)"
   ]
  },
  {
   "cell_type": "code",
   "execution_count": 18,
   "metadata": {},
   "outputs": [
    {
     "data": {
      "image/png": "[encoded data removed]",
      "text/plain": [
       "<matplotlib.figure.Figure at 0x12333ac10>"
      ]
     },
     "metadata": {},
     "output_type": "display_data"
    }
   ],
   "source": [
    "for hist in [hists_A, hists_B, hists_C]:\n",
    "    for ens in hist['max_lambda']:\n",
    "        reverse_cumulative = hist['max_lambda'][ens].reverse_cumulative()\n",
    "        plt.plot(reverse_cumulative.x, np.log(reverse_cumulative))"
   ]
  },
  {
   "cell_type": "markdown",
   "metadata": {},
   "source": [
    "### Path length histograms"
   ]
  },
  {
   "cell_type": "code",
   "execution_count": 19,
   "metadata": {},
   "outputs": [
    {
     "data": {
      "image/png": "[encoded data removed]",
      "text/plain": [
       "<matplotlib.figure.Figure at 0x123256dd0>"
      ]
     },
     "metadata": {},
     "output_type": "display_data"
    }
   ],
   "source": [
    "for hist in [hists_A, hists_B, hists_C]:\n",
    "    for ens in hist['pathlength']:\n",
    "        normalized = hist['pathlength'][ens].normalized()\n",
    "        plt.plot(normalized.x, normalized)"
   ]
  },
  {
   "cell_type": "code",
   "execution_count": 20,
   "metadata": {},
   "outputs": [
    {
     "data": {
      "image/png": "[encoded data removed]",
      "text/plain": [
       "<matplotlib.figure.Figure at 0x123756810>"
      ]
     },
     "metadata": {},
     "output_type": "display_data"
    }
   ],
   "source": [
    "for ens in hists_A['pathlength']:\n",
    "    normalized = hists_A['pathlength'][ens].normalized()\n",
    "    plt.plot(normalized.x, normalized)"
   ]
  },
  {
   "cell_type": "markdown",
   "metadata": {},
   "source": [
    "## Sampling properties\n",
    "\n",
    "The properties we illustrated above were properties of the path ensembles. If your path ensembles are sufficiently well-sampled, these will never depend on how you sample them.\n",
    "\n",
    "But to figure out whether you've done a good job of sampling, you often want to look at properties related to the sampling process. OPS also makes these very easy."
   ]
  },
  {
   "cell_type": "code",
   "execution_count": null,
   "metadata": {
    "collapsed": true
   },
   "outputs": [],
   "source": []
  },
  {
   "cell_type": "markdown",
   "metadata": {},
   "source": [
    "### Move scheme analysis"
   ]
  },
  {
   "cell_type": "code",
   "execution_count": 21,
   "metadata": {
    "collapsed": true,
    "scrolled": true
   },
   "outputs": [],
   "source": [
    "scheme = storage.schemes[0]"
   ]
  },
  {
   "cell_type": "code",
   "execution_count": 22,
   "metadata": {},
   "outputs": [
    {
     "name": "stdout",
     "output_type": "stream",
     "text": [
      "pathreversal ran 25.100% (expected 24.75%) of the cycles with acceptance 304/502 (60.56%)\n",
      "ms_outer_shooting ran 2.650% (expected 3.30%) of the cycles with acceptance 35/53 (66.04%)\n",
      "shooting ran 46.200% (expected 46.20%) of the cycles with acceptance 665/924 (71.97%)\n",
      "minus ran 3.050% (expected 2.64%) of the cycles with acceptance 52/61 (85.25%)\n",
      "repex ran 23.000% (expected 23.10%) of the cycles with acceptance 189/460 (41.09%)\n"
     ]
    }
   ],
   "source": [
    "scheme.move_summary(storage.steps)"
   ]
  },
  {
   "cell_type": "code",
   "execution_count": 23,
   "metadata": {},
   "outputs": [
    {
     "name": "stdout",
     "output_type": "stream",
     "text": [
      "OneWayShootingMover Out B 2 ran 3.400% (expected 3.30%) of the cycles with acceptance 44/68 (64.71%)\n",
      "OneWayShootingMover Out D 2 ran 3.550% (expected 3.30%) of the cycles with acceptance 43/71 (60.56%)\n",
      "OneWayShootingMover Out A 1 ran 3.100% (expected 3.30%) of the cycles with acceptance 45/62 (72.58%)\n",
      "OneWayShootingMover Out B 3 ran 3.350% (expected 3.30%) of the cycles with acceptance 45/67 (67.16%)\n",
      "OneWayShootingMover Out A 2 ran 2.900% (expected 3.30%) of the cycles with acceptance 38/58 (65.52%)\n",
      "OneWayShootingMover Out C 0 ran 3.650% (expected 3.30%) of the cycles with acceptance 66/73 (90.41%)\n",
      "OneWayShootingMover Out A 3 ran 3.000% (expected 3.30%) of the cycles with acceptance 30/60 (50.00%)\n",
      "OneWayShootingMover Out C 1 ran 3.650% (expected 3.30%) of the cycles with acceptance 52/73 (71.23%)\n",
      "OneWayShootingMover Out B 0 ran 3.400% (expected 3.30%) of the cycles with acceptance 57/68 (83.82%)\n",
      "OneWayShootingMover Out D 0 ran 3.400% (expected 3.30%) of the cycles with acceptance 51/68 (75.00%)\n",
      "OneWayShootingMover Out C 2 ran 3.100% (expected 3.30%) of the cycles with acceptance 38/62 (61.29%)\n",
      "OneWayShootingMover Out B 1 ran 3.300% (expected 3.30%) of the cycles with acceptance 49/66 (74.24%)\n",
      "OneWayShootingMover Out D 1 ran 2.800% (expected 3.30%) of the cycles with acceptance 40/56 (71.43%)\n",
      "OneWayShootingMover Out A 0 ran 3.600% (expected 3.30%) of the cycles with acceptance 67/72 (93.06%)\n"
     ]
    }
   ],
   "source": [
    "scheme.move_summary(storage.steps, 'shooting')"
   ]
  },
  {
   "cell_type": "code",
   "execution_count": 24,
   "metadata": {},
   "outputs": [
    {
     "name": "stdout",
     "output_type": "stream",
     "text": [
      "Minus ran 0.650% (expected 0.66%) of the cycles with acceptance 9/13 (69.23%)\n",
      "Minus ran 0.750% (expected 0.66%) of the cycles with acceptance 14/15 (93.33%)\n",
      "Minus ran 0.850% (expected 0.66%) of the cycles with acceptance 13/17 (76.47%)\n",
      "Minus ran 0.800% (expected 0.66%) of the cycles with acceptance 16/16 (100.00%)\n"
     ]
    }
   ],
   "source": [
    "scheme.move_summary(storage.steps, 'minus')"
   ]
  },
  {
   "cell_type": "code",
   "execution_count": 25,
   "metadata": {},
   "outputs": [
    {
     "name": "stdout",
     "output_type": "stream",
     "text": [
      "ReplicaExchange ran 1.850% (expected 1.65%) of the cycles with acceptance 10/37 (27.03%)\n",
      "ReplicaExchange ran 1.300% (expected 1.65%) of the cycles with acceptance 20/26 (76.92%)\n",
      "ReplicaExchange ran 1.450% (expected 1.65%) of the cycles with acceptance 13/29 (44.83%)\n",
      "ReplicaExchange ran 1.700% (expected 1.65%) of the cycles with acceptance 2/34 (5.88%)\n",
      "ReplicaExchange ran 1.600% (expected 1.65%) of the cycles with acceptance 10/32 (31.25%)\n",
      "ReplicaExchange ran 1.700% (expected 1.65%) of the cycles with acceptance 26/34 (76.47%)\n",
      "ReplicaExchange ran 1.550% (expected 1.65%) of the cycles with acceptance 26/31 (83.87%)\n",
      "ReplicaExchange ran 2.050% (expected 1.65%) of the cycles with acceptance 30/41 (73.17%)\n",
      "ReplicaExchange ran 1.400% (expected 1.65%) of the cycles with acceptance 1/28 (3.57%)\n",
      "ReplicaExchange ran 1.550% (expected 1.65%) of the cycles with acceptance 19/31 (61.29%)\n",
      "ReplicaExchange ran 2.200% (expected 1.65%) of the cycles with acceptance 5/44 (11.36%)\n",
      "ReplicaExchange ran 1.500% (expected 1.65%) of the cycles with acceptance 16/30 (53.33%)\n",
      "ReplicaExchange ran 1.700% (expected 1.65%) of the cycles with acceptance 0/34 (0.00%)\n",
      "ReplicaExchange ran 1.450% (expected 1.65%) of the cycles with acceptance 11/29 (37.93%)\n"
     ]
    }
   ],
   "source": [
    "scheme.move_summary(storage.steps, 'repex')"
   ]
  },
  {
   "cell_type": "code",
   "execution_count": 26,
   "metadata": {},
   "outputs": [
    {
     "name": "stdout",
     "output_type": "stream",
     "text": [
      "PathReversal ran 1.400% (expected 1.65%) of the cycles with acceptance 26/28 (92.86%)\n",
      "PathReversal ran 1.750% (expected 1.65%) of the cycles with acceptance 24/35 (68.57%)\n",
      "PathReversal ran 1.750% (expected 1.65%) of the cycles with acceptance 24/35 (68.57%)\n",
      "PathReversal ran 1.500% (expected 1.65%) of the cycles with acceptance 0/30 (0.00%)\n",
      "PathReversal ran 1.450% (expected 1.65%) of the cycles with acceptance 28/29 (96.55%)\n",
      "PathReversal ran 1.750% (expected 1.65%) of the cycles with acceptance 15/35 (42.86%)\n",
      "PathReversal ran 1.650% (expected 1.65%) of the cycles with acceptance 4/33 (12.12%)\n",
      "PathReversal ran 2.250% (expected 1.65%) of the cycles with acceptance 45/45 (100.00%)\n",
      "PathReversal ran 2.150% (expected 1.65%) of the cycles with acceptance 37/43 (86.05%)\n",
      "PathReversal ran 1.600% (expected 1.65%) of the cycles with acceptance 24/32 (75.00%)\n",
      "PathReversal ran 2.200% (expected 1.65%) of the cycles with acceptance 13/44 (29.55%)\n",
      "PathReversal ran 1.700% (expected 1.65%) of the cycles with acceptance 5/34 (14.71%)\n",
      "PathReversal ran 1.550% (expected 1.65%) of the cycles with acceptance 25/31 (80.65%)\n",
      "PathReversal ran 1.250% (expected 1.65%) of the cycles with acceptance 21/25 (84.00%)\n",
      "PathReversal ran 1.150% (expected 1.65%) of the cycles with acceptance 13/23 (56.52%)\n"
     ]
    }
   ],
   "source": [
    "scheme.move_summary(storage.steps, 'pathreversal')"
   ]
  },
  {
   "cell_type": "markdown",
   "metadata": {},
   "source": [
    "### Replica exchange sampling\n",
    "\n",
    "See the notebook `repex_networks.ipynb` for more details on tools to study the convergence of replica exchange. However, a few simple examples are shown here. All of these are analyzed with a separate object, `ReplicaNetwork`."
   ]
  },
  {
   "cell_type": "code",
   "execution_count": 27,
   "metadata": {
    "collapsed": true
   },
   "outputs": [],
   "source": [
    "repx_net = paths.ReplicaNetwork(scheme, storage.steps)"
   ]
  },
  {
   "cell_type": "markdown",
   "metadata": {},
   "source": [
    "#### Replica exchange mixing matrix"
   ]
  },
  {
   "cell_type": "code",
   "execution_count": 28,
   "metadata": {},
   "outputs": [
    {
     "data": {
      "text/html": [
       "<div>\n",
       "<style>\n",
       "    .dataframe thead tr:only-child th {\n",
       "        text-align: right;\n",
       "    }\n",
       "\n",
       "    .dataframe thead th {\n",
       "        text-align: left;\n",
       "    }\n",
       "\n",
       "    .dataframe tbody tr th {\n",
       "        vertical-align: top;\n",
       "    }\n",
       "</style>\n",
       "<table border=\"1\" class=\"dataframe\">\n",
       "  <thead>\n",
       "    <tr style=\"text-align: right;\">\n",
       "      <th></th>\n",
       "      <th>18</th>\n",
       "      <th>17</th>\n",
       "      <th>0</th>\n",
       "      <th>4</th>\n",
       "      <th>1</th>\n",
       "      <th>5</th>\n",
       "      <th>2</th>\n",
       "      <th>6</th>\n",
       "      <th>3</th>\n",
       "      <th>14</th>\n",
       "      <th>13</th>\n",
       "      <th>12</th>\n",
       "      <th>11</th>\n",
       "      <th>10</th>\n",
       "      <th>15</th>\n",
       "      <th>16</th>\n",
       "      <th>7</th>\n",
       "      <th>8</th>\n",
       "      <th>9</th>\n",
       "    </tr>\n",
       "  </thead>\n",
       "  <tbody>\n",
       "    <tr>\n",
       "      <th>18</th>\n",
       "      <td>0.000000</td>\n",
       "      <td>0.000000</td>\n",
       "      <td>0.017274</td>\n",
       "      <td>0.000000</td>\n",
       "      <td>0.000000</td>\n",
       "      <td>0.000000</td>\n",
       "      <td>0.000000</td>\n",
       "      <td>0.000000</td>\n",
       "      <td>0.000000</td>\n",
       "      <td>0.000000</td>\n",
       "      <td>0.000000</td>\n",
       "      <td>0.000000</td>\n",
       "      <td>0.000000</td>\n",
       "      <td>0.000000</td>\n",
       "      <td>0.00000</td>\n",
       "      <td>0.000000</td>\n",
       "      <td>0.000000</td>\n",
       "      <td>0.000000</td>\n",
       "      <td>0.000000</td>\n",
       "    </tr>\n",
       "    <tr>\n",
       "      <th>17</th>\n",
       "      <td>0.000000</td>\n",
       "      <td>0.000000</td>\n",
       "      <td>0.000000</td>\n",
       "      <td>0.026871</td>\n",
       "      <td>0.000000</td>\n",
       "      <td>0.000000</td>\n",
       "      <td>0.000000</td>\n",
       "      <td>0.000000</td>\n",
       "      <td>0.000000</td>\n",
       "      <td>0.000000</td>\n",
       "      <td>0.000000</td>\n",
       "      <td>0.000000</td>\n",
       "      <td>0.000000</td>\n",
       "      <td>0.000000</td>\n",
       "      <td>0.00000</td>\n",
       "      <td>0.000000</td>\n",
       "      <td>0.000000</td>\n",
       "      <td>0.000000</td>\n",
       "      <td>0.000000</td>\n",
       "    </tr>\n",
       "    <tr>\n",
       "      <th>0</th>\n",
       "      <td>0.017274</td>\n",
       "      <td>0.000000</td>\n",
       "      <td>0.000000</td>\n",
       "      <td>0.000000</td>\n",
       "      <td>0.024952</td>\n",
       "      <td>0.000000</td>\n",
       "      <td>0.000000</td>\n",
       "      <td>0.000000</td>\n",
       "      <td>0.000000</td>\n",
       "      <td>0.000000</td>\n",
       "      <td>0.000000</td>\n",
       "      <td>0.000000</td>\n",
       "      <td>0.000000</td>\n",
       "      <td>0.000000</td>\n",
       "      <td>0.00000</td>\n",
       "      <td>0.000000</td>\n",
       "      <td>0.000000</td>\n",
       "      <td>0.000000</td>\n",
       "      <td>0.000000</td>\n",
       "    </tr>\n",
       "    <tr>\n",
       "      <th>4</th>\n",
       "      <td>0.000000</td>\n",
       "      <td>0.026871</td>\n",
       "      <td>0.000000</td>\n",
       "      <td>0.000000</td>\n",
       "      <td>0.000000</td>\n",
       "      <td>0.019194</td>\n",
       "      <td>0.000000</td>\n",
       "      <td>0.000000</td>\n",
       "      <td>0.000000</td>\n",
       "      <td>0.000000</td>\n",
       "      <td>0.000000</td>\n",
       "      <td>0.000000</td>\n",
       "      <td>0.000000</td>\n",
       "      <td>0.000000</td>\n",
       "      <td>0.00000</td>\n",
       "      <td>0.000000</td>\n",
       "      <td>0.000000</td>\n",
       "      <td>0.000000</td>\n",
       "      <td>0.000000</td>\n",
       "    </tr>\n",
       "    <tr>\n",
       "      <th>1</th>\n",
       "      <td>0.000000</td>\n",
       "      <td>0.000000</td>\n",
       "      <td>0.024952</td>\n",
       "      <td>0.000000</td>\n",
       "      <td>0.000000</td>\n",
       "      <td>0.000000</td>\n",
       "      <td>0.036468</td>\n",
       "      <td>0.000000</td>\n",
       "      <td>0.000000</td>\n",
       "      <td>0.000000</td>\n",
       "      <td>0.000000</td>\n",
       "      <td>0.000000</td>\n",
       "      <td>0.000000</td>\n",
       "      <td>0.000000</td>\n",
       "      <td>0.00000</td>\n",
       "      <td>0.000000</td>\n",
       "      <td>0.000000</td>\n",
       "      <td>0.000000</td>\n",
       "      <td>0.000000</td>\n",
       "    </tr>\n",
       "    <tr>\n",
       "      <th>5</th>\n",
       "      <td>0.000000</td>\n",
       "      <td>0.000000</td>\n",
       "      <td>0.000000</td>\n",
       "      <td>0.019194</td>\n",
       "      <td>0.000000</td>\n",
       "      <td>0.000000</td>\n",
       "      <td>0.000000</td>\n",
       "      <td>0.049904</td>\n",
       "      <td>0.000000</td>\n",
       "      <td>0.000000</td>\n",
       "      <td>0.000000</td>\n",
       "      <td>0.000000</td>\n",
       "      <td>0.000000</td>\n",
       "      <td>0.000000</td>\n",
       "      <td>0.00000</td>\n",
       "      <td>0.000000</td>\n",
       "      <td>0.000000</td>\n",
       "      <td>0.000000</td>\n",
       "      <td>0.000000</td>\n",
       "    </tr>\n",
       "    <tr>\n",
       "      <th>2</th>\n",
       "      <td>0.000000</td>\n",
       "      <td>0.000000</td>\n",
       "      <td>0.000000</td>\n",
       "      <td>0.000000</td>\n",
       "      <td>0.036468</td>\n",
       "      <td>0.000000</td>\n",
       "      <td>0.000000</td>\n",
       "      <td>0.000000</td>\n",
       "      <td>0.030710</td>\n",
       "      <td>0.000000</td>\n",
       "      <td>0.000000</td>\n",
       "      <td>0.000000</td>\n",
       "      <td>0.000000</td>\n",
       "      <td>0.000000</td>\n",
       "      <td>0.00000</td>\n",
       "      <td>0.000000</td>\n",
       "      <td>0.000000</td>\n",
       "      <td>0.000000</td>\n",
       "      <td>0.000000</td>\n",
       "    </tr>\n",
       "    <tr>\n",
       "      <th>6</th>\n",
       "      <td>0.000000</td>\n",
       "      <td>0.000000</td>\n",
       "      <td>0.000000</td>\n",
       "      <td>0.000000</td>\n",
       "      <td>0.000000</td>\n",
       "      <td>0.049904</td>\n",
       "      <td>0.000000</td>\n",
       "      <td>0.000000</td>\n",
       "      <td>0.000000</td>\n",
       "      <td>0.003839</td>\n",
       "      <td>0.000000</td>\n",
       "      <td>0.000000</td>\n",
       "      <td>0.000000</td>\n",
       "      <td>0.000000</td>\n",
       "      <td>0.00000</td>\n",
       "      <td>0.000000</td>\n",
       "      <td>0.000000</td>\n",
       "      <td>0.000000</td>\n",
       "      <td>0.000000</td>\n",
       "    </tr>\n",
       "    <tr>\n",
       "      <th>3</th>\n",
       "      <td>0.000000</td>\n",
       "      <td>0.000000</td>\n",
       "      <td>0.000000</td>\n",
       "      <td>0.000000</td>\n",
       "      <td>0.000000</td>\n",
       "      <td>0.000000</td>\n",
       "      <td>0.030710</td>\n",
       "      <td>0.000000</td>\n",
       "      <td>0.000000</td>\n",
       "      <td>0.009597</td>\n",
       "      <td>0.000000</td>\n",
       "      <td>0.000000</td>\n",
       "      <td>0.000000</td>\n",
       "      <td>0.000000</td>\n",
       "      <td>0.00000</td>\n",
       "      <td>0.000000</td>\n",
       "      <td>0.000000</td>\n",
       "      <td>0.000000</td>\n",
       "      <td>0.000000</td>\n",
       "    </tr>\n",
       "    <tr>\n",
       "      <th>14</th>\n",
       "      <td>0.000000</td>\n",
       "      <td>0.000000</td>\n",
       "      <td>0.000000</td>\n",
       "      <td>0.000000</td>\n",
       "      <td>0.000000</td>\n",
       "      <td>0.000000</td>\n",
       "      <td>0.000000</td>\n",
       "      <td>0.003839</td>\n",
       "      <td>0.009597</td>\n",
       "      <td>0.000000</td>\n",
       "      <td>0.057582</td>\n",
       "      <td>0.000000</td>\n",
       "      <td>0.000000</td>\n",
       "      <td>0.000000</td>\n",
       "      <td>0.00000</td>\n",
       "      <td>0.000000</td>\n",
       "      <td>0.000000</td>\n",
       "      <td>0.000000</td>\n",
       "      <td>0.000000</td>\n",
       "    </tr>\n",
       "    <tr>\n",
       "      <th>13</th>\n",
       "      <td>0.000000</td>\n",
       "      <td>0.000000</td>\n",
       "      <td>0.000000</td>\n",
       "      <td>0.000000</td>\n",
       "      <td>0.000000</td>\n",
       "      <td>0.000000</td>\n",
       "      <td>0.000000</td>\n",
       "      <td>0.000000</td>\n",
       "      <td>0.000000</td>\n",
       "      <td>0.057582</td>\n",
       "      <td>0.000000</td>\n",
       "      <td>0.049904</td>\n",
       "      <td>0.000000</td>\n",
       "      <td>0.000000</td>\n",
       "      <td>0.00000</td>\n",
       "      <td>0.000000</td>\n",
       "      <td>0.000000</td>\n",
       "      <td>0.000000</td>\n",
       "      <td>0.000000</td>\n",
       "    </tr>\n",
       "    <tr>\n",
       "      <th>12</th>\n",
       "      <td>0.000000</td>\n",
       "      <td>0.000000</td>\n",
       "      <td>0.000000</td>\n",
       "      <td>0.000000</td>\n",
       "      <td>0.000000</td>\n",
       "      <td>0.000000</td>\n",
       "      <td>0.000000</td>\n",
       "      <td>0.000000</td>\n",
       "      <td>0.000000</td>\n",
       "      <td>0.000000</td>\n",
       "      <td>0.049904</td>\n",
       "      <td>0.000000</td>\n",
       "      <td>0.019194</td>\n",
       "      <td>0.000000</td>\n",
       "      <td>0.00000</td>\n",
       "      <td>0.000000</td>\n",
       "      <td>0.000000</td>\n",
       "      <td>0.000000</td>\n",
       "      <td>0.000000</td>\n",
       "    </tr>\n",
       "    <tr>\n",
       "      <th>11</th>\n",
       "      <td>0.000000</td>\n",
       "      <td>0.000000</td>\n",
       "      <td>0.000000</td>\n",
       "      <td>0.000000</td>\n",
       "      <td>0.000000</td>\n",
       "      <td>0.000000</td>\n",
       "      <td>0.000000</td>\n",
       "      <td>0.000000</td>\n",
       "      <td>0.000000</td>\n",
       "      <td>0.000000</td>\n",
       "      <td>0.000000</td>\n",
       "      <td>0.019194</td>\n",
       "      <td>0.000000</td>\n",
       "      <td>0.001919</td>\n",
       "      <td>0.00000</td>\n",
       "      <td>0.000000</td>\n",
       "      <td>0.000000</td>\n",
       "      <td>0.000000</td>\n",
       "      <td>0.000000</td>\n",
       "    </tr>\n",
       "    <tr>\n",
       "      <th>10</th>\n",
       "      <td>0.000000</td>\n",
       "      <td>0.000000</td>\n",
       "      <td>0.000000</td>\n",
       "      <td>0.000000</td>\n",
       "      <td>0.000000</td>\n",
       "      <td>0.000000</td>\n",
       "      <td>0.000000</td>\n",
       "      <td>0.000000</td>\n",
       "      <td>0.000000</td>\n",
       "      <td>0.000000</td>\n",
       "      <td>0.000000</td>\n",
       "      <td>0.000000</td>\n",
       "      <td>0.001919</td>\n",
       "      <td>0.000000</td>\n",
       "      <td>0.03071</td>\n",
       "      <td>0.000000</td>\n",
       "      <td>0.000000</td>\n",
       "      <td>0.000000</td>\n",
       "      <td>0.000000</td>\n",
       "    </tr>\n",
       "    <tr>\n",
       "      <th>15</th>\n",
       "      <td>0.000000</td>\n",
       "      <td>0.000000</td>\n",
       "      <td>0.000000</td>\n",
       "      <td>0.000000</td>\n",
       "      <td>0.000000</td>\n",
       "      <td>0.000000</td>\n",
       "      <td>0.000000</td>\n",
       "      <td>0.000000</td>\n",
       "      <td>0.000000</td>\n",
       "      <td>0.000000</td>\n",
       "      <td>0.000000</td>\n",
       "      <td>0.000000</td>\n",
       "      <td>0.000000</td>\n",
       "      <td>0.030710</td>\n",
       "      <td>0.00000</td>\n",
       "      <td>0.000000</td>\n",
       "      <td>0.000000</td>\n",
       "      <td>0.000000</td>\n",
       "      <td>0.000000</td>\n",
       "    </tr>\n",
       "    <tr>\n",
       "      <th>16</th>\n",
       "      <td>0.000000</td>\n",
       "      <td>0.000000</td>\n",
       "      <td>0.000000</td>\n",
       "      <td>0.000000</td>\n",
       "      <td>0.000000</td>\n",
       "      <td>0.000000</td>\n",
       "      <td>0.000000</td>\n",
       "      <td>0.000000</td>\n",
       "      <td>0.000000</td>\n",
       "      <td>0.000000</td>\n",
       "      <td>0.000000</td>\n",
       "      <td>0.000000</td>\n",
       "      <td>0.000000</td>\n",
       "      <td>0.000000</td>\n",
       "      <td>0.00000</td>\n",
       "      <td>0.000000</td>\n",
       "      <td>0.024952</td>\n",
       "      <td>0.000000</td>\n",
       "      <td>0.000000</td>\n",
       "    </tr>\n",
       "    <tr>\n",
       "      <th>7</th>\n",
       "      <td>0.000000</td>\n",
       "      <td>0.000000</td>\n",
       "      <td>0.000000</td>\n",
       "      <td>0.000000</td>\n",
       "      <td>0.000000</td>\n",
       "      <td>0.000000</td>\n",
       "      <td>0.000000</td>\n",
       "      <td>0.000000</td>\n",
       "      <td>0.000000</td>\n",
       "      <td>0.000000</td>\n",
       "      <td>0.000000</td>\n",
       "      <td>0.000000</td>\n",
       "      <td>0.000000</td>\n",
       "      <td>0.000000</td>\n",
       "      <td>0.00000</td>\n",
       "      <td>0.024952</td>\n",
       "      <td>0.000000</td>\n",
       "      <td>0.038388</td>\n",
       "      <td>0.000000</td>\n",
       "    </tr>\n",
       "    <tr>\n",
       "      <th>8</th>\n",
       "      <td>0.000000</td>\n",
       "      <td>0.000000</td>\n",
       "      <td>0.000000</td>\n",
       "      <td>0.000000</td>\n",
       "      <td>0.000000</td>\n",
       "      <td>0.000000</td>\n",
       "      <td>0.000000</td>\n",
       "      <td>0.000000</td>\n",
       "      <td>0.000000</td>\n",
       "      <td>0.000000</td>\n",
       "      <td>0.000000</td>\n",
       "      <td>0.000000</td>\n",
       "      <td>0.000000</td>\n",
       "      <td>0.000000</td>\n",
       "      <td>0.00000</td>\n",
       "      <td>0.000000</td>\n",
       "      <td>0.038388</td>\n",
       "      <td>0.000000</td>\n",
       "      <td>0.021113</td>\n",
       "    </tr>\n",
       "    <tr>\n",
       "      <th>9</th>\n",
       "      <td>0.000000</td>\n",
       "      <td>0.000000</td>\n",
       "      <td>0.000000</td>\n",
       "      <td>0.000000</td>\n",
       "      <td>0.000000</td>\n",
       "      <td>0.000000</td>\n",
       "      <td>0.000000</td>\n",
       "      <td>0.000000</td>\n",
       "      <td>0.000000</td>\n",
       "      <td>0.000000</td>\n",
       "      <td>0.000000</td>\n",
       "      <td>0.000000</td>\n",
       "      <td>0.000000</td>\n",
       "      <td>0.000000</td>\n",
       "      <td>0.00000</td>\n",
       "      <td>0.000000</td>\n",
       "      <td>0.000000</td>\n",
       "      <td>0.021113</td>\n",
       "      <td>0.000000</td>\n",
       "    </tr>\n",
       "  </tbody>\n",
       "</table>\n",
       "</div>"
      ],
      "text/plain": [
       "          18        17         0         4         1         5         2  \\\n",
       "18  0.000000  0.000000  0.017274  0.000000  0.000000  0.000000  0.000000   \n",
       "17  0.000000  0.000000  0.000000  0.026871  0.000000  0.000000  0.000000   \n",
       "0   0.017274  0.000000  0.000000  0.000000  0.024952  0.000000  0.000000   \n",
       "4   0.000000  0.026871  0.000000  0.000000  0.000000  0.019194  0.000000   \n",
       "1   0.000000  0.000000  0.024952  0.000000  0.000000  0.000000  0.036468   \n",
       "5   0.000000  0.000000  0.000000  0.019194  0.000000  0.000000  0.000000   \n",
       "2   0.000000  0.000000  0.000000  0.000000  0.036468  0.000000  0.000000   \n",
       "6   0.000000  0.000000  0.000000  0.000000  0.000000  0.049904  0.000000   \n",
       "3   0.000000  0.000000  0.000000  0.000000  0.000000  0.000000  0.030710   \n",
       "14  0.000000  0.000000  0.000000  0.000000  0.000000  0.000000  0.000000   \n",
       "13  0.000000  0.000000  0.000000  0.000000  0.000000  0.000000  0.000000   \n",
       "12  0.000000  0.000000  0.000000  0.000000  0.000000  0.000000  0.000000   \n",
       "11  0.000000  0.000000  0.000000  0.000000  0.000000  0.000000  0.000000   \n",
       "10  0.000000  0.000000  0.000000  0.000000  0.000000  0.000000  0.000000   \n",
       "15  0.000000  0.000000  0.000000  0.000000  0.000000  0.000000  0.000000   \n",
       "16  0.000000  0.000000  0.000000  0.000000  0.000000  0.000000  0.000000   \n",
       "7   0.000000  0.000000  0.000000  0.000000  0.000000  0.000000  0.000000   \n",
       "8   0.000000  0.000000  0.000000  0.000000  0.000000  0.000000  0.000000   \n",
       "9   0.000000  0.000000  0.000000  0.000000  0.000000  0.000000  0.000000   \n",
       "\n",
       "           6         3        14        13        12        11        10  \\\n",
       "18  0.000000  0.000000  0.000000  0.000000  0.000000  0.000000  0.000000   \n",
       "17  0.000000  0.000000  0.000000  0.000000  0.000000  0.000000  0.000000   \n",
       "0   0.000000  0.000000  0.000000  0.000000  0.000000  0.000000  0.000000   \n",
       "4   0.000000  0.000000  0.000000  0.000000  0.000000  0.000000  0.000000   \n",
       "1   0.000000  0.000000  0.000000  0.000000  0.000000  0.000000  0.000000   \n",
       "5   0.049904  0.000000  0.000000  0.000000  0.000000  0.000000  0.000000   \n",
       "2   0.000000  0.030710  0.000000  0.000000  0.000000  0.000000  0.000000   \n",
       "6   0.000000  0.000000  0.003839  0.000000  0.000000  0.000000  0.000000   \n",
       "3   0.000000  0.000000  0.009597  0.000000  0.000000  0.000000  0.000000   \n",
       "14  0.003839  0.009597  0.000000  0.057582  0.000000  0.000000  0.000000   \n",
       "13  0.000000  0.000000  0.057582  0.000000  0.049904  0.000000  0.000000   \n",
       "12  0.000000  0.000000  0.000000  0.049904  0.000000  0.019194  0.000000   \n",
       "11  0.000000  0.000000  0.000000  0.000000  0.019194  0.000000  0.001919   \n",
       "10  0.000000  0.000000  0.000000  0.000000  0.000000  0.001919  0.000000   \n",
       "15  0.000000  0.000000  0.000000  0.000000  0.000000  0.000000  0.030710   \n",
       "16  0.000000  0.000000  0.000000  0.000000  0.000000  0.000000  0.000000   \n",
       "7   0.000000  0.000000  0.000000  0.000000  0.000000  0.000000  0.000000   \n",
       "8   0.000000  0.000000  0.000000  0.000000  0.000000  0.000000  0.000000   \n",
       "9   0.000000  0.000000  0.000000  0.000000  0.000000  0.000000  0.000000   \n",
       "\n",
       "         15        16         7         8         9  \n",
       "18  0.00000  0.000000  0.000000  0.000000  0.000000  \n",
       "17  0.00000  0.000000  0.000000  0.000000  0.000000  \n",
       "0   0.00000  0.000000  0.000000  0.000000  0.000000  \n",
       "4   0.00000  0.000000  0.000000  0.000000  0.000000  \n",
       "1   0.00000  0.000000  0.000000  0.000000  0.000000  \n",
       "5   0.00000  0.000000  0.000000  0.000000  0.000000  \n",
       "2   0.00000  0.000000  0.000000  0.000000  0.000000  \n",
       "6   0.00000  0.000000  0.000000  0.000000  0.000000  \n",
       "3   0.00000  0.000000  0.000000  0.000000  0.000000  \n",
       "14  0.00000  0.000000  0.000000  0.000000  0.000000  \n",
       "13  0.00000  0.000000  0.000000  0.000000  0.000000  \n",
       "12  0.00000  0.000000  0.000000  0.000000  0.000000  \n",
       "11  0.00000  0.000000  0.000000  0.000000  0.000000  \n",
       "10  0.03071  0.000000  0.000000  0.000000  0.000000  \n",
       "15  0.00000  0.000000  0.000000  0.000000  0.000000  \n",
       "16  0.00000  0.000000  0.024952  0.000000  0.000000  \n",
       "7   0.00000  0.024952  0.000000  0.038388  0.000000  \n",
       "8   0.00000  0.000000  0.038388  0.000000  0.021113  \n",
       "9   0.00000  0.000000  0.000000  0.021113  0.000000  "
      ]
     },
     "execution_count": 28,
     "metadata": {},
     "output_type": "execute_result"
    }
   ],
   "source": [
    "repx_net.mixing_matrix()"
   ]
  },
  {
   "cell_type": "markdown",
   "metadata": {},
   "source": [
    "#### Replica exchange graph\n",
    "\n",
    "The mixing matrix tells a story of how well various interfaces are connected to other interfaces. The replica exchange graph is essentially a visualization of the mixing matrix (actually, of the transition matrix -- the mixing matrix is a symmetrized version of the transition matrix).\n",
    "\n",
    "Note: We're still developing better layout tools to visualize these."
   ]
  },
  {
   "cell_type": "code",
   "execution_count": 29,
   "metadata": {},
   "outputs": [
    {
     "data": {
      "image/png": "[encoded data removed]",
      "text/plain": [
       "<matplotlib.figure.Figure at 0x1233f6390>"
      ]
     },
     "metadata": {},
     "output_type": "display_data"
    }
   ],
   "source": [
    "repxG = paths.ReplicaNetworkGraph(repx_net)\n",
    "repxG.draw('spring')"
   ]
  },
  {
   "cell_type": "markdown",
   "metadata": {},
   "source": [
    "#### Replica exchange flow\n",
    "\n",
    "Replica flow is defined as ***TODO***\n",
    "\n",
    "Flow is designed for calculations where the replica exchange graph is linear, which ours clearly is not. However, we can define the flow over a subset of the interfaces."
   ]
  },
  {
   "cell_type": "markdown",
   "metadata": {},
   "source": [
    "### Replica move history tree"
   ]
  },
  {
   "cell_type": "code",
   "execution_count": 30,
   "metadata": {
    "collapsed": true
   },
   "outputs": [],
   "source": [
    "import openpathsampling.visualize as vis\n",
    "reload(vis)\n",
    "from IPython.display import SVG"
   ]
  },
  {
   "cell_type": "code",
   "execution_count": 31,
   "metadata": {
    "scrolled": false
   },
   "outputs": [
    {
     "ename": "AttributeError",
     "evalue": "'module' object has no attribute 'EmptyPathMoveChange'",
     "output_type": "error",
     "traceback": [
      "\u001b[0;31m---------------------------------------------------------------------------\u001b[0m",
      "\u001b[0;31mAttributeError\u001b[0m                            Traceback (most recent call last)",
      "\u001b[0;32m<ipython-input-31-a9f01cacabb6>\u001b[0m in \u001b[0;36m<module>\u001b[0;34m()\u001b[0m\n\u001b[1;32m      1\u001b[0m tree = vis.PathTree(\n\u001b[0;32m----> 2\u001b[0;31m     \u001b[0;34m[\u001b[0m\u001b[0mstep\u001b[0m \u001b[0;32mfor\u001b[0m \u001b[0mstep\u001b[0m \u001b[0;32min\u001b[0m \u001b[0mstorage\u001b[0m\u001b[0;34m.\u001b[0m\u001b[0msteps\u001b[0m \u001b[0;32mif\u001b[0m \u001b[0;32mnot\u001b[0m \u001b[0misinstance\u001b[0m\u001b[0;34m(\u001b[0m\u001b[0mstep\u001b[0m\u001b[0;34m.\u001b[0m\u001b[0mchange\u001b[0m\u001b[0;34m,\u001b[0m \u001b[0mpaths\u001b[0m\u001b[0;34m.\u001b[0m\u001b[0mEmptyPathMoveChange\u001b[0m\u001b[0;34m)\u001b[0m\u001b[0;34m]\u001b[0m\u001b[0;34m,\u001b[0m\u001b[0;34m\u001b[0m\u001b[0m\n\u001b[0m\u001b[1;32m      3\u001b[0m     \u001b[0mvis\u001b[0m\u001b[0;34m.\u001b[0m\u001b[0mReplicaEvolution\u001b[0m\u001b[0;34m(\u001b[0m\u001b[0mreplica\u001b[0m\u001b[0;34m=\u001b[0m\u001b[0;36m3\u001b[0m\u001b[0;34m,\u001b[0m \u001b[0maccepted\u001b[0m\u001b[0;34m=\u001b[0m\u001b[0mFalse\u001b[0m\u001b[0;34m)\u001b[0m\u001b[0;34m\u001b[0m\u001b[0m\n\u001b[1;32m      4\u001b[0m )\n\u001b[1;32m      5\u001b[0m \u001b[0mtree\u001b[0m\u001b[0;34m.\u001b[0m\u001b[0moptions\u001b[0m\u001b[0;34m.\u001b[0m\u001b[0mcss\u001b[0m\u001b[0;34m[\u001b[0m\u001b[0;34m'width'\u001b[0m\u001b[0;34m]\u001b[0m \u001b[0;34m=\u001b[0m \u001b[0;34m'inherit'\u001b[0m\u001b[0;34m\u001b[0m\u001b[0m\n",
      "\u001b[0;31mAttributeError\u001b[0m: 'module' object has no attribute 'EmptyPathMoveChange'"
     ]
    }
   ],
   "source": [
    "tree = vis.PathTree(\n",
    "    [step for step in storage.steps if not isinstance(step.change, paths.EmptyPathMoveChange)],\n",
    "    vis.ReplicaEvolution(replica=3, accepted=False)\n",
    ")\n",
    "tree.options.css['width'] = 'inherit'\n",
    "\n",
    "SVG(tree.svg())"
   ]
  },
  {
   "cell_type": "code",
   "execution_count": null,
   "metadata": {
    "collapsed": true
   },
   "outputs": [],
   "source": [
    "decorrelated = tree.generator.decorrelated\n",
    "print \"We have \" + str(len(decorrelated)) + \" decorrelated trajectories.\""
   ]
  },
  {
   "cell_type": "code",
   "execution_count": null,
   "metadata": {
    "collapsed": true
   },
   "outputs": [],
   "source": []
  },
  {
   "cell_type": "markdown",
   "metadata": {},
   "source": [
    "### Visualizing trajectories"
   ]
  },
  {
   "cell_type": "markdown",
   "metadata": {},
   "source": [
    "## Histogramming data (TODO)"
   ]
  },
  {
   "cell_type": "code",
   "execution_count": null,
   "metadata": {
    "collapsed": true
   },
   "outputs": [],
   "source": []
  }
 ],
 "metadata": {
  "kernelspec": {
   "display_name": "Python 2",
   "language": "python",
   "name": "python2"
  },
  "language_info": {
   "codemirror_mode": {
    "name": "ipython",
    "version": 2
   },
   "file_extension": ".py",
   "mimetype": "text/x-python",
   "name": "python",
   "nbconvert_exporter": "python",
   "pygments_lexer": "ipython2",
   "version": "2.7.13"
  }
 },
 "nbformat": 4,
 "nbformat_minor": 1
}
